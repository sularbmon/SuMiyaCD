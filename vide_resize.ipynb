{
 "cells": [
  {
   "cell_type": "code",
   "execution_count": 1,
   "id": "8f1452b2-0f99-4f76-802c-20f2eb79f75e",
   "metadata": {
    "tags": []
   },
   "outputs": [],
   "source": [
    "import cv2\n",
    "import os\n",
    "import glob\n",
    "import ffmpeg"
   ]
  },
  {
   "cell_type": "code",
   "execution_count": 3,
   "id": "b543adaa-39d6-42a4-97ae-b233967ad173",
   "metadata": {
    "tags": []
   },
   "outputs": [
    {
     "name": "stdout",
     "output_type": "stream",
     "text": [
      "doing resize\n",
      "D:\\815_CowDataChecking\\20221228\\20221228_E_cow\\resize/20221228_151030_9A83.mkv.mkv\n",
      "doing resize\n",
      "D:\\815_CowDataChecking\\20221228\\20221228_E_cow\\resize/20221228_151533_D474.mkv.mkv\n",
      "doing resize\n",
      "D:\\815_CowDataChecking\\20221228\\20221228_E_cow\\resize/20221228_152035_3EAA.mkv.mkv\n",
      "doing resize\n",
      "D:\\815_CowDataChecking\\20221228\\20221228_E_cow\\resize/20221228_152538_D136.mkv.mkv\n",
      "doing resize\n",
      "D:\\815_CowDataChecking\\20221228\\20221228_E_cow\\resize/20221228_153543_637F.mkv.mkv\n",
      "doing resize\n",
      "D:\\815_CowDataChecking\\20221228\\20221228_E_cow\\resize/20221228_154548_FF33.mkv.mkv\n",
      "doing resize\n",
      "D:\\815_CowDataChecking\\20221228\\20221228_E_cow\\resize/20221228_155051_BB0F.mkv.mkv\n",
      "doing resize\n",
      "D:\\815_CowDataChecking\\20221228\\20221228_E_cow\\resize/20221228_155553_2277.mkv.mkv\n",
      "doing resize\n",
      "D:\\815_CowDataChecking\\20221228\\20221228_E_cow\\resize/20221228_160056_8CAB.mkv.mkv\n",
      "doing resize\n",
      "D:\\815_CowDataChecking\\20221228\\20221228_E_cow\\resize/20221228_161604_350C.mkv.mkv\n",
      "doing resize\n",
      "D:\\815_CowDataChecking\\20221228\\20221228_E_cow\\resize/20221228_162609_230E.mkv.mkv\n",
      "doing resize\n",
      "D:\\815_CowDataChecking\\20221228\\20221228_E_cow\\resize/20221228_163614_E8BB.mkv.mkv\n"
     ]
    }
   ],
   "source": [
    "vid_path = \"D:\\\\815_CowDataChecking\\\\20221228\\\\20221228_E_cow\"\n",
    "save_path = 'D:\\\\815_CowDataChecking\\\\20221228\\\\20221228_E_cow\\\\resize'\n",
    "if not os.path.exists(save_path):\n",
    "    os.makedirs(save_path)\n",
    "for dir in glob.glob(os.path.join(vid_path, \"*.mkv\")):\n",
    "    print(\"doing resize\")\n",
    "    filename = dir.split(\"\\\\\")[-1]\n",
    "    output_file = save_path+'/'+f\"{filename}\"\n",
    "    ffmpeg.input(dir).output(output_file, vf=\"scale={}:{}\".format(1080, 1080)).run()\n",
    "    print(output_file)\n",
    "    #cv2.imwrite(trainingSavePath+'/'+label+'/'+f\"{filename}.mkv\", new)\n"
   ]
  },
  {
   "cell_type": "code",
   "execution_count": null,
   "id": "f4d0bb8a-36f8-4dd0-89e0-ab5138cfe23d",
   "metadata": {},
   "outputs": [],
   "source": [
    "def resize_video(path,name,savepath):\n",
    "    \n",
    "    # Open the video file\n",
    "    video = cv2.VideoCapture(path+name+\"\")\n",
    "\n",
    "    # Get the original video's width and height\n",
    "    width = int(video.get(cv2.CAP_PROP_FRAME_WIDTH))\n",
    "    height = int(video.get(cv2.CAP_PROP_FRAME_HEIGHT))\n",
    "\n",
    "    # Set the new width and height for resizing\n",
    "    new_width = 1080\n",
    "    new_height = 1080\n",
    "\n",
    "    # Create a VideoWriter object to save the resized video\n",
    "    output_video = cv2.VideoWriter(savepath+'/'+f\"{filename}.mkv\", cv2.VideoWriter_fourcc(*\"mp4v\"), 30, (new_width, new_height))\n",
    "\n",
    "    # Iterate through each frame of the video\n",
    "    while True:\n",
    "        # Read a frame from the video\n",
    "        ret, frame = video.read()\n",
    "\n",
    "        # Break the loop if no more frames are available\n",
    "        if not ret:\n",
    "            break\n",
    "\n",
    "        # Resize the frame\n",
    "        resized_frame = cv2.resize(frame, (new_width, new_height))\n",
    "\n",
    "        # Write the resized frame to the output video\n",
    "        output_video.write(resized_frame)\n",
    "\n",
    "        # Display the resized frame (optional)\n",
    "        cv2.imshow(\"Resized Video\", resized_frame)\n",
    "        if cv2.waitKey(1) & 0xFF == ord('q'):\n",
    "            break\n",
    "\n",
    "    # Release the video capture and writer objects\n",
    "    video.release()\n",
    "    output_video.release()\n",
    "\n",
    "    # Close all windows (if any were opened)\n",
    "    cv2.destroyAllWindows()\n"
   ]
  }
 ],
 "metadata": {
  "kernelspec": {
   "display_name": "Python 3 (ipykernel)",
   "language": "python",
   "name": "python3"
  },
  "language_info": {
   "codemirror_mode": {
    "name": "ipython",
    "version": 3
   },
   "file_extension": ".py",
   "mimetype": "text/x-python",
   "name": "python",
   "nbconvert_exporter": "python",
   "pygments_lexer": "ipython3",
   "version": "3.9.16"
  }
 },
 "nbformat": 4,
 "nbformat_minor": 5
}
