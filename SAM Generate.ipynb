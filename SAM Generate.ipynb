{
 "cells": [
  {
   "cell_type": "code",
   "execution_count": null,
   "id": "fc5192a2-40ef-4954-9a8c-e75a811c9857",
   "metadata": {},
   "outputs": [],
   "source": [
    "import glob\n",
    "import os\n",
    "labels = glob.glob(\"D:\\LamenessData\\September_6\\DataByGroup\\\\AllCows\\\\Training/*\")\n",
    "#print(labels)"
   ]
  },
  {
   "cell_type": "code",
   "execution_count": null,
   "id": "0a2f97ef-cd20-41b5-a1a4-d0978520a83e",
   "metadata": {},
   "outputs": [],
   "source": [
    "import torch\n",
    "from segment_anything import sam_model_registry\n",
    "\n",
    "DEVICE = torch.device('cuda:0' if torch.cuda.is_available() else 'cpu')\n",
    "MODEL_TYPE = \"vit_h\"\n",
    "CHECKPOINT_PATH = 'sam_vit_h_4b8939.pth'\n",
    "sam = sam_model_registry[MODEL_TYPE](checkpoint=CHECKPOINT_PATH)\n",
    "sam.to(device=DEVICE)"
   ]
  },
  {
   "cell_type": "code",
   "execution_count": 10,
   "id": "c9863492-b6a3-430d-be3c-d8237673e197",
   "metadata": {},
   "outputs": [
    {
     "data": {
      "text/plain": [
       "'2.0.0+cpu'"
      ]
     },
     "execution_count": 10,
     "metadata": {},
     "output_type": "execute_result"
    }
   ],
   "source": [
    "torch.__version__"
   ]
  },
  {
   "cell_type": "code",
   "execution_count": null,
   "id": "1f4f5af4-c2f0-43be-b27d-88fd2ce6f2b0",
   "metadata": {},
   "outputs": [],
   "source": [
    "import cv2\n",
    "from segment_anything import SamPredictor\n",
    "import numpy as np\n",
    "import supervision as sv\n",
    "\n",
    "mask_predictor = SamPredictor(sam)\n"
   ]
  },
  {
   "cell_type": "code",
   "execution_count": null,
   "id": "595fb50a-ab9f-4cd2-84fb-4cac12925f1f",
   "metadata": {},
   "outputs": [],
   "source": [
    "def Generage_Segment(IMAGE_PATH):\n",
    "    image_bgr = cv2.imread(IMAGE_PATH)\n",
    "    image_rgb = cv2.cvtColor(image_bgr, cv2.COLOR_BGR2RGB)\n",
    "    mask_predictor.set_image(image_rgb)\n",
    "    height, width = image_rgb.shape[:2]\n",
    "\n",
    "\n",
    "    box = np.array([20, 40, width-20,height-40])\n",
    "    masks, scores, logits = mask_predictor.predict(\n",
    "    box=box,\n",
    "    multimask_output=False\n",
    "            )\n",
    "    \n",
    "    \n",
    "    new = np.zeros_like(image_bgr, dtype=np.uint8)\n",
    "    new[masks[0]] = image_bgr[masks[0]]\n",
    "    return new"
   ]
  },
  {
   "cell_type": "code",
   "execution_count": 8,
   "id": "1f22b54e-fd63-4637-88f4-beea212ca953",
   "metadata": {},
   "outputs": [
    {
     "name": "stdout",
     "output_type": "stream",
     "text": [
      "cpu\n"
     ]
    }
   ],
   "source": [
    "print(DEVICE)"
   ]
  },
  {
   "cell_type": "code",
   "execution_count": 7,
   "id": "95f5e7fc-bf7c-4450-9857-0103d061eae5",
   "metadata": {},
   "outputs": [
    {
     "name": "stdout",
     "output_type": "stream",
     "text": [
      "10001\n"
     ]
    },
    {
     "name": "stderr",
     "output_type": "stream",
     "text": [
      "\n",
      "KeyboardInterrupt\n",
      "\n"
     ]
    }
   ],
   "source": [
    "trainingSavePath = 'D:\\\\LamenessData\\\\September_6\\\\DataByGroup\\\\Segmented_AllCows'\n",
    "for directory_path in labels:\n",
    "    label = directory_path.split(\"\\\\\")[-1]\n",
    "    print(label)\n",
    "    #total_classes+=1\n",
    "    for dir in glob.glob(os.path.join(directory_path, \"*.jpg\")):\n",
    "        filename = dir.split(\"\\\\\")[-1]\n",
    "        new = Generage_Segment(dir)\n",
    "        cv2.imwrite(trainingSavePath+'/'+label+'/'+f\"{filename}.jpg\", new)\n",
    "        \n"
   ]
  },
  {
   "cell_type": "code",
   "execution_count": null,
   "id": "a8114cd2-27ef-4557-9b4f-4be16b6e9389",
   "metadata": {},
   "outputs": [],
   "source": [
    "validationSavePath = 'D:\\\\LamenessData\\\\September_6\\\\DataByGroup\\\\Segmented_AllCows'\n",
    "validtaion_labels = glob.glob(\"D:\\LamenessData\\September_6\\DataByGroup\\\\AllCows\\\\Training/*\")\n",
    "for directory_path in validtaion_labels:\n",
    "    label = directory_path.split(\"\\\\\")[-1]\n",
    "    print(label)\n",
    "    #total_classes+=1\n",
    "    for dir in glob.glob(os.path.join(directory_path, \"*.jpg\")):\n",
    "        filename = dir.split(\"\\\\\")[-1])\n",
    "        new = Generage_Segment(dir)\n",
    "        cv2.imwrite(validationSavePath+'/'+label+'/'+f\"{filename}.jpg\", new)\n",
    "        \n"
   ]
  },
  {
   "cell_type": "code",
   "execution_count": null,
   "id": "d438bd2a-8f5b-4156-a4d1-ca57aa8a4c6c",
   "metadata": {},
   "outputs": [],
   "source": []
  }
 ],
 "metadata": {
  "kernelspec": {
   "display_name": "Python 3 (ipykernel)",
   "language": "python",
   "name": "python3"
  },
  "language_info": {
   "codemirror_mode": {
    "name": "ipython",
    "version": 3
   },
   "file_extension": ".py",
   "mimetype": "text/x-python",
   "name": "python",
   "nbconvert_exporter": "python",
   "pygments_lexer": "ipython3",
   "version": "3.7.16"
  }
 },
 "nbformat": 4,
 "nbformat_minor": 5
}
