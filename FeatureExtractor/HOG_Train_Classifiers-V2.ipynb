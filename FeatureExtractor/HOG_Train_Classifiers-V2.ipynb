{
 "cells": [
  {
   "cell_type": "code",
   "execution_count": null,
   "id": "e337226c-931d-488a-b7a7-64f94e14284c",
   "metadata": {},
   "outputs": [],
   "source": [
    "feature_extractor = 'HOG_V2'\n",
    "print(f'../June_Weights_{feature_extractor}/GENERAL_X_TRAIN.pkl','rb')\n"
   ]
  },
  {
   "cell_type": "code",
   "execution_count": null,
   "id": "eb8c124d-13cc-4325-be05-dea1394588ec",
   "metadata": {},
   "outputs": [],
   "source": [
    "import pickle\n",
    "x_train = pickle.load(open(f'../June_Weights_{feature_extractor}/GENERAL_X_TRAIN.pkl','rb'))\n",
    "y_train = pickle.load(open(f'../June_Weights_{feature_extractor}/GENERAL_Y_TRAIN.pkl','rb'))"
   ]
  },
  {
   "cell_type": "code",
   "execution_count": null,
   "id": "6f503867-de82-4766-a3c8-6598ba8e5bca",
   "metadata": {},
   "outputs": [],
   "source": [
    "from sklearn.neighbors import KNeighborsClassifier\n",
    "knn = KNeighborsClassifier(n_neighbors=5)\n"
   ]
  },
  {
   "cell_type": "code",
   "execution_count": null,
   "id": "dcb5d38b-829f-487f-8e88-0e622fa28ffa",
   "metadata": {},
   "outputs": [],
   "source": [
    "knn.fit(x_train, y_train)\n",
    "print('done')"
   ]
  },
  {
   "cell_type": "code",
   "execution_count": null,
   "id": "49738c88-c17b-4d8b-aacb-36b7b632c8a0",
   "metadata": {},
   "outputs": [],
   "source": [
    "knn_filename =f'../June_Weights_{feature_extractor}/HOG_KNN.pkl'\n",
    "pickle.dump(knn,open(knn_filename,'wb'))\n",
    "\n",
    "print(\"done\")"
   ]
  },
  {
   "cell_type": "code",
   "execution_count": null,
   "id": "038c1fd8-0f08-48fa-a28c-a75815aa624d",
   "metadata": {},
   "outputs": [],
   "source": []
  },
  {
   "cell_type": "code",
   "execution_count": null,
   "id": "557a0963-8015-4d93-948e-fe5bd7452059",
   "metadata": {},
   "outputs": [],
   "source": [
    "#RANDOM FOREST\n",
    "from sklearn.ensemble import RandomForestClassifier\n",
    "RF_model = RandomForestClassifier(n_estimators = 300, random_state = 72) #75-68%  #100 86%  #72-93%\n",
    "print(\"defined rf\")\n",
    "# Train the model on training data\n",
    "RF_model.fit(x_train, y_train) #For sklearn no one hot encoding\n",
    "print(\"RF_model.fit is done\")\n"
   ]
  },
  {
   "cell_type": "code",
   "execution_count": null,
   "id": "c8062a35-4dc6-4e67-abae-28914f4738a4",
   "metadata": {},
   "outputs": [],
   "source": [
    "rf_filename =f'../June_Weights_{feature_extractor}/HOG_RF.pkl'\n",
    "pickle.dump(RF_model,open(rf_filename,'wb'))\n",
    "print('done')"
   ]
  },
  {
   "cell_type": "code",
   "execution_count": null,
   "id": "9ecbb425-16dd-4ad1-81a1-677a58c1934e",
   "metadata": {},
   "outputs": [],
   "source": []
  },
  {
   "cell_type": "code",
   "execution_count": null,
   "id": "080399e2-e54e-4ba2-8eae-3ea02a38178a",
   "metadata": {},
   "outputs": [],
   "source": [
    "#SVM\n",
    "\n",
    "from sklearn.model_selection import train_test_split\n",
    "from sklearn.svm import LinearSVC\n",
    "from sklearn.metrics import accuracy_score\n",
    "from sklearn.calibration import CalibratedClassifierCV\n",
    "\n",
    "clf = LinearSVC(random_state=21, tol=0.0005,max_iter=1500) #rs=10 maxiter=500  tol=0.01  \n",
    "clf.fit(x_train, y_train)\n",
    "print(\"done\")\n"
   ]
  },
  {
   "cell_type": "code",
   "execution_count": null,
   "id": "01a30eaa-364c-4a37-910d-9f268a724a42",
   "metadata": {},
   "outputs": [],
   "source": [
    "svm_filename =f'../June_Weights_{feature_extractor}/HOG_SVM.pkl'\n",
    "pickle.dump(clf,open(svm_filename,'wb'))"
   ]
  },
  {
   "cell_type": "code",
   "execution_count": null,
   "id": "52a6f438-7f35-4191-8b48-9f54290f1e2c",
   "metadata": {},
   "outputs": [],
   "source": []
  },
  {
   "cell_type": "code",
   "execution_count": null,
   "id": "a77a4acd-7339-4255-a815-c31561d76167",
   "metadata": {
    "scrolled": true,
    "tags": []
   },
   "outputs": [],
   "source": [
    "import lightgbm as lgb\n",
    "\n",
    "lgb_train = lgb.Dataset(x_train, y_train)\n",
    "\n",
    "# Set LightGBM parameters\n",
    "params = {\n",
    "    'objective': 'multiclass',\n",
    "    'num_class': 147,  # Replace 'num_classes' with the actual number of classes in your dataset\n",
    "    'metric': 'multi_logloss',\n",
    "}\n",
    "model = lgb.train(params, lgb_train, num_boost_round=100)\n",
    "print('done')"
   ]
  },
  {
   "cell_type": "code",
   "execution_count": null,
   "id": "b1dd3294-95f5-4e69-b2b9-fa04155e82e2",
   "metadata": {},
   "outputs": [],
   "source": [
    "model_name =f'../June_Weights_{feature_extractor}/HOG_LIGHTGBM.pkl'\n",
    "pickle.dump(model,open(model_name,'wb'))\n",
    "\n",
    "print(\"done\")"
   ]
  },
  {
   "cell_type": "code",
   "execution_count": null,
   "id": "988cb698-71ec-4446-a8db-750f308a3f50",
   "metadata": {},
   "outputs": [],
   "source": []
  },
  {
   "cell_type": "code",
   "execution_count": null,
   "id": "a33e4477-a9a7-476d-a13f-c23f8d975fb0",
   "metadata": {},
   "outputs": [],
   "source": [
    "from sklearn.naive_bayes import GaussianNB\n",
    "gnb = GaussianNB()\n",
    "gnb.fit(x_train, y_train)\n"
   ]
  },
  {
   "cell_type": "code",
   "execution_count": null,
   "id": "47872b67-4234-449c-8b80-810dd061b3d4",
   "metadata": {},
   "outputs": [],
   "source": [
    "gnb_filename =f'../June_Weights_{feature_extractor}/HOG_GNB.pkl'\n",
    "pickle.dump(gnb,open(gnb_filename,'wb'))\n",
    "print('done')"
   ]
  },
  {
   "cell_type": "code",
   "execution_count": null,
   "id": "e9037469-445c-4ce9-84d5-5585972672e5",
   "metadata": {},
   "outputs": [],
   "source": []
  }
 ],
 "metadata": {
  "kernelspec": {
   "display_name": "Python 3 (ipykernel)",
   "language": "python",
   "name": "python3"
  },
  "language_info": {
   "codemirror_mode": {
    "name": "ipython",
    "version": 3
   },
   "file_extension": ".py",
   "mimetype": "text/x-python",
   "name": "python",
   "nbconvert_exporter": "python",
   "pygments_lexer": "ipython3",
   "version": "3.9.16"
  }
 },
 "nbformat": 4,
 "nbformat_minor": 5
}
