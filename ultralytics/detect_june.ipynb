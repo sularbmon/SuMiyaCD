{
 "cells": [
  {
   "cell_type": "code",
   "execution_count": 1,
   "id": "7595a236-9a00-4ff7-b9ba-e93d839cb109",
   "metadata": {},
   "outputs": [
    {
     "name": "stderr",
     "output_type": "stream",
     "text": [
      "C:\\Users\\thithilab\\AppData\\Roaming\\Python\\Python39\\site-packages\\tqdm\\auto.py:21: TqdmWarning: IProgress not found. Please update jupyter and ipywidgets. See https://ipywidgets.readthedocs.io/en/stable/user_install.html\n",
      "  from .autonotebook import tqdm as notebook_tqdm\n",
      "\n"
     ]
    }
   ],
   "source": [
    "from ultralytics.yolo.utils.files import increment_path\n",
    "import torch\n",
    "import gc\n",
    "#from pathlib import Path\n",
    "gc.collect()\n",
    "torch.cuda.empty_cache()\n",
    "\n",
    "from ultralytics.yolo.utils.plotting import Annotator\n",
    "\n",
    "from ultralytics import YOLO\n",
    "\n",
    "model = YOLO('runs/segment/train4/weights/best.pt')  # load a custom model\n",
    "\n",
    "# Predict with the model\n",
    "project = 'D:/Python/SULarbmon/Python/env/yolov8_june/ultralytics/runs/segment'\n",
    "name = 'predict'\n",
    "results = model('D:\\\\815_CowDataChecking\\\\20221228\\\\20221228_E_cow',imgsz=1088,save=False,retina_masks=False,show=False,stream=True,device='0')\n",
    "#save_dir = increment_path(Path(project) / name, exist_ok=True)  # increment run\n",
    "#save_dir = increment_path(Path(project) / name,mkdir=True)\n",
    "#(save_dir / 'labels' if False else save_dir).mkdir(parents=True, exist_ok=True)  # make dir\n",
    "manual_cow_count = 0\n",
    "\n",
    "#cap.set(4, 480)\n",
    "#cap = cv2.VideoWriter(os.path.join(save_dir,'output.mkv'),cv2.VideoWriter_fourcc(*'mp4v'), 13, (1088,1088))\n",
    "\n",
    "for result in results:\n",
    "    print(\"here\")\n",
    "       \n"
   ]
  },
  {
   "cell_type": "code",
   "execution_count": null,
   "id": "8b071e9e-b5a3-4804-8a55-3790ebb9c610",
   "metadata": {},
   "outputs": [],
   "source": []
  }
 ],
 "metadata": {
  "kernelspec": {
   "display_name": "Python 3 (ipykernel)",
   "language": "python",
   "name": "python3"
  },
  "language_info": {
   "codemirror_mode": {
    "name": "ipython",
    "version": 3
   },
   "file_extension": ".py",
   "mimetype": "text/x-python",
   "name": "python",
   "nbconvert_exporter": "python",
   "pygments_lexer": "ipython3",
   "version": "3.9.16"
  }
 },
 "nbformat": 4,
 "nbformat_minor": 5
}
