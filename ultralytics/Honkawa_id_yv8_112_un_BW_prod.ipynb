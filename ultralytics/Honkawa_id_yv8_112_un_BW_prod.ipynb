{
 "cells": [
  {
   "cell_type": "code",
   "execution_count": 1,
   "id": "b676c638-f48d-49a7-a1a1-6fe98e5b5d77",
   "metadata": {},
   "outputs": [
    {
     "name": "stderr",
     "output_type": "stream",
     "text": [
      "C:\\Users\\thithilab\\AppData\\Roaming\\Python\\Python39\\site-packages\\tqdm\\auto.py:21: TqdmWarning: IProgress not found. Please update jupyter and ipywidgets. See https://ipywidgets.readthedocs.io/en/stable/user_install.html\n",
      "  from .autonotebook import tqdm as notebook_tqdm\n"
     ]
    }
   ],
   "source": [
    "import torch\n",
    "import gc\n",
    "\n",
    "import asyncio\n",
    "import threading\n",
    "\n",
    "\n",
    "gc.collect()\n",
    "\n",
    "torch.cuda.empty_cache()"
   ]
  },
  {
   "cell_type": "code",
   "execution_count": 2,
   "id": "16abd98a-5a5c-4d05-b271-eedfed0315ae",
   "metadata": {
    "tags": []
   },
   "outputs": [
    {
     "name": "stdout",
     "output_type": "stream",
     "text": [
      "yolo->engine->model.py93\n"
     ]
    }
   ],
   "source": [
    "from pathlib import Path\n",
    "import cv2\n",
    "from sklearn import svm\n",
    "import numpy as np\n",
    "from datetime import datetime\n",
    "import os\n",
    "import time\n",
    "from ultralytics.yolo.utils.files import increment_path\n",
    "import torch\n",
    "import gc\n",
    "import pickle\n",
    "import pandas as pd\n",
    "from tensorflow.keras.applications.vgg16 import VGG16\n",
    "import csv\n",
    "#from pathlib import Path\n",
    "gc.collect()\n",
    "torch.cuda.empty_cache()\n",
    "\n",
    "from ultralytics.yolo.utils.plotting import Annotator\n",
    "\n",
    "from ultralytics import YOLO\n",
    "\n",
    "model = YOLO(\"D:/Python/SULarbmon/Python/env/yolov8_june/runs/segment/Honkawa_Weights_v1/weights/best.pt\")  # load a custom model"
   ]
  },
  {
   "cell_type": "code",
   "execution_count": 3,
   "id": "5eba0d22-24e9-4695-9ebd-ef41e852f195",
   "metadata": {},
   "outputs": [],
   "source": [
    "le_filename = '../HONKAWA_VGG_SVM/GENERAL_LE_HONKAWA_1103_3fps_prob.le'\n",
    "predictor_filename ='../HONKAWA_VGG_SVM/VGG_SVM_HONKAWA_112_1103_3pfs_prob.pkl'\n",
    "\n",
    "predictor = pickle.load(open(predictor_filename, 'rb'))\n",
    "lable_encoder = pickle.load(open(le_filename, 'rb'))\n",
    "\n"
   ]
  },
  {
   "cell_type": "code",
   "execution_count": 4,
   "id": "fc46bb71-637a-4054-8201-086685c58da7",
   "metadata": {},
   "outputs": [],
   "source": [
    "SIZE=112\n",
    "\n",
    "vgg = VGG16(weights='imagenet', include_top=False, input_shape=(SIZE, SIZE, 3))\n",
    "\n",
    "#Make loaded layers as non-trainable. This is important as we want to work with pre-trained weights\n",
    "for layer in vgg.layers:\n",
    "\tlayer.trainable = False\n",
    "    \n",
    "#vgg.summary()  #Trainable parameters will be 0\n"
   ]
  },
  {
   "cell_type": "code",
   "execution_count": 5,
   "id": "5f235b43-c095-4399-b8b5-547abefd452e",
   "metadata": {},
   "outputs": [
    {
     "name": "stdout",
     "output_type": "stream",
     "text": [
      "defined predictor\n"
     ]
    }
   ],
   "source": [
    "def Predict_SVM(image):  ## new with vgg\n",
    "    global N_TOP\n",
    "    input_img = np.expand_dims(image, axis=0) #Expand dims so the input is (num images, x, y, c)\n",
    "    input_img_feature=vgg.predict(input_img)\n",
    "    input_img_features=input_img_feature.reshape(input_img_feature.shape[0], -1)\n",
    "    probabilities = predictor.predict_proba(input_img_features)\n",
    "    \n",
    "    top_classes_indices = np.argsort(probabilities[0])[::-1][:N_TOP]\n",
    "    top_predicted_results = []\n",
    "    top_probabilities = probabilities[0][top_classes_indices]\n",
    "    for i in range(N_TOP):\n",
    "        result = lable_encoder.inverse_transform([top_classes_indices[i]])  #Reverse the label encoder to original name\n",
    "        #print(i+1,' => ',result, ' is the top result with ',top_probabilities[i])\n",
    "        top_predicted_results.append(int(result))\n",
    "        top_predicted_results.append(str(top_probabilities[i]))\n",
    "    #print(top_predicted_results)    \n",
    "    return top_predicted_results\n",
    "\n",
    "print(\"defined predictor\")"
   ]
  },
  {
   "cell_type": "code",
   "execution_count": 6,
   "id": "8e2d6dec-36da-491e-95ea-896b621be300",
   "metadata": {},
   "outputs": [],
   "source": [
    "\n",
    "###### load dataset and model\n",
    "\n",
    "\n",
    "def check_withinROI_NEW(x1,y1,x2,y2,h,w):\n",
    "    #print(x1, '  ',y1, '  ',x2, '  ',y2, '  ',h, '  ',w)\n",
    "    #if(x1<int(X1*(w/default)) or x2>int(X2*(w/default)) or y1<int(Y1_NEW*(h/default)) or y2>int(Y2_NEW*(h/default)) or x1>=int(X2*(w/default))):\n",
    "    #    return False\n",
    "    \n",
    "    if(x1<150 or x2>1750):\n",
    "        return False\n",
    "    if(y2-y1<600 or x2-x1 <250): #1400 to 700 Before\n",
    "        return False\n",
    "    return True  \n",
    "\n",
    "def check_withinROI_Resize(x1,y1,x2,y2,h,w):\n",
    "    #print(x1, '  ',y1, '  ',x2, '  ',y2, '  ',h, '  ',w)\n",
    "    resize_x1=850#*(w/2992)\n",
    "    resize_x2=1050#*(w/2992)\n",
    "    resize_y1=Y1_NEW#Y1_NEW*(w/2992)\n",
    "    resize_y2=Y1_NEW#Y2_NEW*(w/2992)\n",
    "    #print(resize_x1, '  ',resize_y1, '  ',resize_x2, '  ',resize_y2)\n",
    "    if(x1<int(resize_x1) or x2>int(resize_x2) or x1>=int(resize_x2)):\n",
    "        return False\n",
    "    if(y2 - y1>1400 or y2-y1<700): #1400 to 700 Before\n",
    "        return False\n",
    "    return True  \n"
   ]
  },
  {
   "cell_type": "code",
   "execution_count": 7,
   "id": "056bd001-9ec5-4d37-8d4f-794eb6d030d6",
   "metadata": {},
   "outputs": [],
   "source": [
    "def Is_Duplicate_Id(y1,y2,id):\n",
    "    global PREVIOUS_ID\n",
    "    global PREVIOUS_Y1\n",
    "    global PREVIOUS_Y2\n",
    "    global PREVIOUS_LOCAL_IDS\n",
    "    global CATTLE_LOCAL_ID\n",
    "    \n",
    "    try: \n",
    "        index = PREVIOUS_ID.index(id)\n",
    "        #print('I reached here')\n",
    "        if(PREVIOUS_Y1[index]+321<=y1 and PREVIOUS_Y2[index]+371<y2): #duplicate from bottom\n",
    "         #   if(id in PREVIOUS_LOCAL_IDS):\n",
    "         #   #print('id: ',id,' LOCAL_ID: ',CATTLE_LOCAL_ID)\n",
    "         #       return PREVIOUS_LOCAL_IDS[id][0]\n",
    "            \n",
    "            #print('except')\n",
    "            PREVIOUS_ID.append(CATTLE_LOCAL_ID)\n",
    "            PREVIOUS_Y1.append(y1)\n",
    "            PREVIOUS_Y2.append(y2)\n",
    "            #print('New Cattle Id')\n",
    "            CATTLE_LOCAL_ID+=1\n",
    "            return CATTLE_LOCAL_ID\n",
    "        #elif(PREVIOUS_Y[index]+400<center): #stepping back\n",
    "        #    if(id in PREVIOUS_LOCAL_IDS):\n",
    "        #        return PREVIOUS_LOCAL_IDS[id][0]\n",
    "        else:\n",
    "            #print('Oh. here ? really?')\n",
    "            PREVIOUS_Y1[index]=y1 #duplicate is solved or no duplicate and just need for last y \n",
    "            PREVIOUS_Y2[index]=y2\n",
    "            #return PREVIOUS_LOCAL_IDS[index][1]\n",
    "            \n",
    "            #update('PREVIOUS Y')\n",
    "            return PREVIOUS_ID[index]\n",
    "    except:\n",
    "        #print(PREVIOUS_ID)\n",
    "        #print(id)\n",
    "        CATTLE_LOCAL_ID += 1\n",
    "        #print('except')\n",
    "        PREVIOUS_ID.append(CATTLE_LOCAL_ID)\n",
    "        PREVIOUS_Y1.append(y1)\n",
    "        PREVIOUS_Y2.append(y2)\n",
    "        return id"
   ]
  },
  {
   "cell_type": "code",
   "execution_count": 8,
   "id": "0ed9d4de-4e94-4b9a-a257-9e571cc441ad",
   "metadata": {},
   "outputs": [],
   "source": [
    "\n",
    "def Take_Prev_Label(y,h,cow_srno):\n",
    "    global STORED_IDS\n",
    "    global STORED_MID_Y\n",
    "    global STORED_MID_Y1\n",
    "    global STORED_MID_Y2\n",
    "    global STORED_MISS\n",
    "    global LAST_SEEN_IDS\n",
    "    global LAST_SEEN_ID_CENTROIDS\n",
    "    global CATTLE_LOCAL_ID\n",
    "    global IS_FIRST_CATTLE \n",
    "    y1 , y2 = y , y+h\n",
    "    id = None\n",
    "    \n",
    "    if IS_FIRST_CATTLE:\n",
    "        IS_FIRST_CATTLE = False\n",
    "        id = CATTLE_LOCAL_ID\n",
    "    #mid_y = y2\n",
    "    mid_y = int(2*y + h)/2\n",
    "    IS_NEW = True\n",
    "    last_id = 999\n",
    "    last_y1 = 0\n",
    "    last_y2 = 0\n",
    "    if(len(STORED_IDS)>0): \n",
    "        last_id = STORED_IDS[len(STORED_IDS)-1]\n",
    "        last_y1 = STORED_MID_Y1[len(STORED_MID_Y1)-1]#max(STORED_MID_Y1)\n",
    "        last_y2 = STORED_MID_Y2[len(STORED_MID_Y2)-1]#max(STORED_MID_Y2)\n",
    "        MISSED_LEN = len(STORED_MISS)\n",
    "        #if(IS_NEW):\n",
    "        \n",
    "        #    MISSED_LEN -=1\n",
    "        removed = 0\n",
    "        for i in range(MISSED_LEN):\n",
    "            #print(i, ' missed index checking' )\n",
    "            missed = STORED_MISS[i-removed]\n",
    "            #print('checking ',i-removed, 'to remove')\n",
    "            if(missed>70): #if missed 35 frames\n",
    "    \n",
    "                del STORED_MISS[i-removed]  \n",
    "                del STORED_MID_Y[i-removed]\n",
    "                del STORED_MID_Y1[i-removed]\n",
    "                del STORED_MID_Y2[i-removed]\n",
    "                del STORED_IDS[i-removed]\n",
    "                removed+=1\n",
    "                #print('removed')\n",
    "                \n",
    "    #clear misses\n",
    "   \n",
    "    \n",
    "    threshold_1 = 100 #300\n",
    "    threshold_2 = 100  #230\n",
    "    Distance = 5\n",
    "     \n",
    "    #if mid_y <= 1300 or mid_y >= 700:\n",
    "    #    threshold_1 = 320 #350\n",
    "    #    threshold_2 = 370 #280\n",
    "    for i in range(1,len(STORED_MID_Y)+1):\n",
    "        #print(STORED_IDS[-i-1],STORED_MID_Y[-i-1],' ',i)\n",
    "        \n",
    "        \n",
    "        #if(STORED_MID_Y[-i]+threshold_2>=mid_y and STORED_MID_Y[-i]-threshold_1<=mid_y): # and IS_NEW): #previous 150 #200\n",
    "        if(STORED_MID_Y1[-i]-threshold_1<=y1 and STORED_MID_Y1[-i]+threshold_1>=y1) or (STORED_MID_Y2[-i]-threshold_2<=y2 and STORED_MID_Y2[-i]+threshold_2>=y2): # and IS_NEW): #previous 150 #200\n",
    "            if(IS_NEW):\n",
    "              \n",
    "                \n",
    "                Distance = abs(STORED_MID_Y1[-i] - y1)\n",
    "                if(abs(STORED_MID_Y2[-i] - y2)<Distance):\n",
    "                    Distance = abs(STORED_MID_Y2[-i] - y2)\n",
    "                IS_NEW = False\n",
    "                STORED_MID_Y1[-i] = y1\n",
    "                STORED_MID_Y2[-i] = y2\n",
    "                \n",
    "                STORED_MISS[-i]=1\n",
    "                id= STORED_IDS[-i]\n",
    "                #print(Distance)\n",
    "                #print(id)\n",
    "                \n",
    "            #try:\n",
    "            #    exist_index = LAST_SEEN_IDS.index(id)\n",
    "            #    if(LAST_SEEN_ID_CENTROIDS[exist_index]+200>y): # showing old id\n",
    "            #        LAST_SEEN_ID_CENTROIDS[exist_index] = y\n",
    "            #except:\n",
    "            #print('corrected id :',STORED_IDS[-i])\n",
    "            elif Distance >5:\n",
    "                STORED_MISS[-i]+=1\n",
    "            #else:\n",
    "            #    STORED_MISS[-i]-=1 #reset count to 2 when not moving\n",
    "        #elif(STORED_MID_Y1[-i]<=y1 and STORED_MID_Y2[-i]>=y2):\n",
    "        #        STORED_MISS[-i]=30\n",
    "        else:\n",
    "            STORED_MISS[-i]+=1    \n",
    "     \n",
    "    if(IS_NEW == False):\n",
    "        if(y1>last_y1+20 and y2>last_y2+20):\n",
    "            IS_NEW = True\n",
    "        #elif (y1<last_y1+10 and y2<last_y2+10):\n",
    "        #    print('Skipped first here')\n",
    "        #    return -1\n",
    "    \n",
    "        #elif(cow_srno==1):\n",
    "    if(IS_NEW):\n",
    "        CATTLE_LOCAL_ID+=1\n",
    "        id=CATTLE_LOCAL_ID\n",
    "        if(y1<last_y1+70 and y2<last_y2+70):\n",
    "            CATTLE_LOCAL_ID-=1\n",
    "            #print('skipped second here')\n",
    "            for i in range(len(STORED_MID_Y)):\n",
    "                STORED_MISS[i]=5\n",
    "            return -1\n",
    "            \n",
    "        STORED_IDS.append(id)\n",
    "        STORED_MID_Y.append(mid_y)\n",
    "        STORED_MID_Y1.append(y1)\n",
    "        STORED_MID_Y2.append(y2)\n",
    "        STORED_MISS.append(1)\n",
    "    #print(STORED_IDS,' IDS ',STORED_MID_Y,' SMY ',mid_y,' mid_y')\n",
    "    if(IS_NEW) and False:\n",
    "        #print('SMY: ',STORED_MID_Y,', new my:',mid_y) \n",
    "        #print('new id: ',id)\n",
    "        updatedID = Is_Duplicate_Id(y1,y2,id)\n",
    "        if(int(last_id) <int(updatedID) and y1<last_y1-150 and y2<last_y2-150): # duplicate cattle with increased cattleID\n",
    "            CATTLE_LOCAL_ID-=1\n",
    "            for i in range(len(STORED_MID_Y)-1,0,-1):\n",
    "                STORED_MISS[i]=15\n",
    "            return -1\n",
    "        if(int(last_id)-1>int(updatedID)):\n",
    "            return -1\n",
    "            \n",
    "    #if(updatedID!=id):\n",
    "    #    print('orgID: ',id,' updated ID: ',updatedID)\n",
    "        #id = str(updated_ID)+'_'+str(id)\n",
    "        \n",
    "        id=CATTLE_LOCAL_ID\n",
    "        STORED_IDS.append(id)\n",
    "        STORED_MID_Y.append(mid_y)\n",
    "        STORED_MID_Y1.append(y1)\n",
    "        STORED_MID_Y2.append(y2)\n",
    "        STORED_MISS.append(1)\n",
    "    \n",
    "    #print('returned id :',id)\n",
    "    \n",
    "    #print(id)\n",
    "          \n",
    "    result = []\n",
    "    result.append(str(id-1))\n",
    "    \n",
    "    #region remove stored id\n",
    "    removed = 0\n",
    "    #print(STORED_MID_Y1,'  <===== y1, y2 =====>  ',STORED_MID_Y2,'    result =====>',result)\n",
    "    #for i in range(len(STORED_MID_Y)-1,0,-1):\n",
    "    #    if(y1>STORED_MID_Y1[i] and y2>STORED_MID_Y2[i]):\n",
    "    #        del STORED_MISS[i-removed]  \n",
    "    #        del STORED_MID_Y[i-removed]\n",
    "    #        del STORED_MID_Y1[i-removed]\n",
    "    #        del STORED_MID_Y2[i-removed]\n",
    "    #        del STORED_IDS[i-removed]\n",
    "    #        removed+=1\n",
    "                 \n",
    "    return result"
   ]
  },
  {
   "cell_type": "code",
   "execution_count": 9,
   "id": "3415efa4-0dc9-4cb9-afd0-ea35f35e1671",
   "metadata": {},
   "outputs": [],
   "source": [
    "UNKNOWN_THRESHOLD = 0.5\n",
    "cattle_track_count = 0\n",
    "def CALCULATE_MAX_CATTLE_ID(csv_path):\n",
    "    print(csv_path, \" is csv_path and \")\n",
    "    global cattle_track_count\n",
    "    cattle_track_count+=1\n",
    "    data = pd.read_csv(csv_path)\n",
    "    \n",
    "    list_of_csv = [list(row) for row in data.values]\n",
    "\n",
    "    prev_id_record = [] \n",
    "    prev=None\n",
    "\n",
    "    current_cow = []\n",
    "    excel_cow_count = []\n",
    "    #boxes = []\n",
    "    #file_locations = []\n",
    "    total_cattle_count = len(list_of_csv)\n",
    "    for i in range (total_cattle_count):\n",
    "        filtered_id = list_of_csv[i][0]\n",
    "        actual_id = list_of_csv[i][1]\n",
    "        #file_locations.append(list_of_csv[i][2])\n",
    "        #boxes.append([list_of_csv[i][3],list_of_csv[i][4],list_of_csv[i][5],list_of_csv[i][6]])\n",
    "        try: \n",
    "            index = current_cow.index(actual_id)\n",
    "            excel_cow_count[index]+=1\n",
    "        except:\n",
    "            current_cow.append(actual_id)\n",
    "            excel_cow_count.append(1)\n",
    "\n",
    "    maxpos = excel_cow_count.index(max(excel_cow_count)) # max position in cow_count\n",
    "    cattle_id = current_cow[maxpos]  # fetch the cattle id from max position index because they are same index\n",
    "    print('threshold of tracking id:', cattle_track_count , ' is ' , max(excel_cow_count) / total_cattle_count )\n",
    "    if(max(excel_cow_count) / total_cattle_count < UNKNOWN_THRESHOLD):\n",
    "        return -1 #Unknown\n",
    "    return int(cattle_id)#,file_locations,boxes\n"
   ]
  },
  {
   "cell_type": "code",
   "execution_count": 10,
   "id": "27fc9ce9-4de1-47e0-8f0d-bc4ebe83aef9",
   "metadata": {},
   "outputs": [],
   "source": [
    "\n",
    "def get_final_cattle_id(save_dir,total_cattle):\n",
    "    final_id = []\n",
    "    global UNKNOWN_CATTLE\n",
    "    for i in range(1,total_cattle+1):\n",
    "        csv_path = save_dir + \"/\" + str(i) + \"/\" + str(i) + \".csv\"\n",
    "        \n",
    "        output_id =  CALCULATE_MAX_CATTLE_ID(csv_path)\n",
    "        print(output_id)\n",
    "        if output_id == -1:\n",
    "            UNKNOWN_CATTLE+=1\n",
    "            output_id = \"UNKNOWN_\"+str(UNKNOWN_CATTLE)\n",
    "            print('tracking ',i, ' is ',output_id)\n",
    "            \n",
    "        final_id.append(output_id)\n",
    "    return final_id"
   ]
  },
  {
   "cell_type": "code",
   "execution_count": 11,
   "id": "96d5d266-6ce4-4300-8274-43cd35ed541c",
   "metadata": {},
   "outputs": [],
   "source": [
    "import glob\n",
    "\n",
    "def writeVideo(cap,filePath,csv_name,cattle_ids,total_frame):\n",
    "    img_array = []\n",
    "    size = (1920,1080)\n",
    "    names = ['cow']\n",
    "    main_csv_index = 0\n",
    "    data = pd.read_csv(filePath+\"/\"+csv_name)\n",
    "\n",
    "    list_of_csv = [list(row) for row in data.values]\n",
    "    vid_name = os.path.basename(os.path.normpath(filePath))\n",
    "    total_count = len(list_of_csv)\n",
    "    prev_image_id = 1\n",
    "    #vid_path = str(Path(filePath + \"/\" + vid_name ).with_suffix('.mp4'))\n",
    "    #out = cv2.VideoWriter(vid_path,cv2.VideoWriter_fourcc(*'mp4v'), 6, size)\n",
    "    #if len(img_locations)<10: \n",
    "    #    return -1\n",
    "    for filename in glob.glob(filePath+\"/all_images/\"+'/*.jpg'):\n",
    "        img = cv2.imread(filename)\n",
    "        \n",
    "        #print(os.path.isfile(filename))\n",
    "        #print(filename)\n",
    "        #print(filename)\n",
    "        height, width, layers = img.shape\n",
    "        size = (width,height)\n",
    "        img_array.append(img)\n",
    "    image_location = filePath+\"/all_images/\";\n",
    "    img_index = 0\n",
    "    for ind in range(1,total_frame):\n",
    "        image_path = image_location + str(ind) +\".jpg\"\n",
    "        #print(image_path)\n",
    "        img = cv2.imread(image_path)\n",
    "        \n",
    "        #print(os.path.isfile(filename))\n",
    "        #print(filename)\n",
    "        #print(filename)\n",
    "        #height, width, layers = img.shape\n",
    "        #size = (width,height)\n",
    "        #img = img_array[img_index]\n",
    "        #img_index +=1\n",
    "        #img = cv2.resize(img, size, interpolation = cv2.INTER_AREA)\n",
    "        #print(img.Shape)\n",
    "        #cv2.imshow('Cattle Images ', img)\n",
    "        #if cv2.waitKey(1) & 0xFF == ord(' '):\n",
    "        #    break\n",
    "        annotator = Annotator(img, line_width=3, example=str(names)) #font here\n",
    "        from_index = main_csv_index\n",
    "        print(from_index, ' from index')\n",
    "        is_draw = False\n",
    "        for i in range(from_index,total_count-1):\n",
    "            \n",
    "            main_csv_index+=1\n",
    "            print(ind, \"  <--x-->  \", list_of_csv[i][0])\n",
    "            if(ind!=list_of_csv[i][0]):\n",
    "                main_csv_index-=1\n",
    "                break\n",
    "            print('SAVING!!!!!')\n",
    "            tracking_id  = list_of_csv[i][1] -1\n",
    "            xyxy = [list_of_csv[i][2],list_of_csv[i][3],list_of_csv[i][4],list_of_csv[i][5]]\n",
    "\n",
    "            try:\n",
    "                annotator.box_label(xyxy,str(cattle_ids[tracking_id]), color=(15, 0, 255))\n",
    "            except:\n",
    "                annotator.box_label(xyxy,cattle_ids[tracking_id]+\"_\"+str(tracking_id), color=(15, 0, 255))\n",
    "            is_draw = True\n",
    "        if is_draw:\n",
    "            annotated_img =cv2.resize(annotator.result(),size) \n",
    "            cap.write(annotated_img)\n",
    "            #except:\n",
    "            #    print('did not write')\n",
    "            #    continue\n",
    "    #ut.release()\n",
    "    img_array=[]\n",
    "    print(\"done \", vid_name)\n",
    "    #v2.destroyAllWindows()\n",
    "    return id\n"
   ]
  },
  {
   "cell_type": "code",
   "execution_count": 12,
   "id": "7c55fddc-ffc5-432b-bd34-c94d6d711c9e",
   "metadata": {},
   "outputs": [],
   "source": [
    "# Function to draw a bounding box and annotate the image\n",
    "def draw_bounding_box(image, box, label):\n",
    "    # Extract the coordinates from the box\n",
    "    x1, y1, x2, y2 = box\n",
    "    #print(x1,' ',y1,x2,y2)\n",
    "\n",
    "    # Draw the bounding box rectangle on the image\n",
    "    cv2.rectangle(image, (x1, y1), (x2, y2), (0, 255, 0), 3)\n",
    "\n",
    "    # Define the text properties\n",
    "    text = f'{label}'\n",
    "    font = cv2.FONT_HERSHEY_SIMPLEX\n",
    "    font_scale =1\n",
    "    thickness = 2\n",
    "\n",
    "    # Calculate the size of the text\n",
    "    (text_width, text_height), _ = cv2.getTextSize(text, font, font_scale, thickness)\n",
    "\n",
    "    # Calculate the position for placing the text\n",
    "    text_x = x1\n",
    "    text_y = y1 - 10 if y1 >= 20 else y1 + 10 + text_height\n",
    "\n",
    "    # Draw the text background rectangle\n",
    "    cv2.rectangle(image, (text_x, text_y - text_height - 5), (text_x + text_width, text_y), (0, 255, 0), -1)\n",
    "\n",
    "    # Put the label text on the image\n",
    "    cv2.putText(image, text, (text_x, text_y), font, font_scale, (0, 0, 0), thickness, cv2.LINE_AA)\n",
    "\n",
    "# Example usage\n",
    "\n"
   ]
  },
  {
   "cell_type": "code",
   "execution_count": 13,
   "id": "c8cb6e8e-04e2-40ca-bd07-db6d380a4ac2",
   "metadata": {},
   "outputs": [],
   "source": [
    "def overlay(image, mask, color, alpha, resize=None):\n",
    "    \"\"\"Combines image and its segmentation mask into a single image.\n",
    "    \n",
    "    Params:\n",
    "        image: Training image. np.ndarray,\n",
    "        mask: Segmentation mask. np.ndarray,\n",
    "        color: Color for segmentation mask rendering.  tuple[int, int, int] = (255, 0, 0)\n",
    "        alpha: Segmentation mask's transparency. float = 0.5,\n",
    "        resize: If provided, both image and its mask are resized before blending them together.\n",
    "        tuple[int, int] = (1024, 1024))\n",
    "\n",
    "    Returns:\n",
    "        image_combined: The combined image. np.ndarray\n",
    "\n",
    "    \"\"\"\n",
    "    # color = color[::-1]\n",
    "    colored_mask = np.expand_dims(mask, 0).repeat(3, axis=0)\n",
    "    colored_mask = np.moveaxis(colored_mask, 0, -1)\n",
    "    masked = np.ma.MaskedArray(image, mask=colored_mask, fill_value=color)\n",
    "    image_overlay = masked.filled()\n",
    "\n",
    "    if resize is not None:\n",
    "        image = cv2.resize(image.transpose(1, 2, 0), resize)\n",
    "        image_overlay = cv2.resize(image_overlay.transpose(1, 2, 0), resize)\n",
    "\n",
    "    image_combined = cv2.addWeighted(image, 1 - alpha, image_overlay, alpha, 0)\n",
    "\n",
    "    return image_combined"
   ]
  },
  {
   "cell_type": "code",
   "execution_count": 14,
   "id": "3183ce0c-9532-4cee-9232-15a5689fb143",
   "metadata": {},
   "outputs": [],
   "source": [
    "def GET_LEFT_TO_RIGHT_ORDER(x1s):\n",
    "    orders = []\n",
    "    size = len(x1s)\n",
    "    #print(' x1s     ',x1s)\n",
    "    clones = x1s[:]\n",
    "    for i in range(size):\n",
    "        #print(clones)\n",
    "        id = (x1s.index(min(clones)))\n",
    "        #print(id)\n",
    "        orders.append(id)\n",
    "        clones.pop(clones.index(min(clones)))\n",
    "    #print(' sorted order :',orders)\n",
    "    return orders"
   ]
  },
  {
   "cell_type": "code",
   "execution_count": 15,
   "id": "46de810b-c4a0-4435-bb1c-abf138ec20d3",
   "metadata": {},
   "outputs": [],
   "source": [
    "async def add_lines_to_excel(existing_file, data_to_add):\n",
    "    \"\"\"\n",
    "    Add lines (rows) to an existing Excel file using a DataFrame.\n",
    "\n",
    "    Parameters:\n",
    "        existing_file (str): Path to the existing Excel file.\n",
    "        data_to_add (dict): Dictionary containing data to add. Keys are column names,\n",
    "                           and values are lists of data for each column.\n",
    "\n",
    "    Returns:\n",
    "        None\n",
    "    \"\"\"\n",
    "    try:\n",
    "        df_existing = pd.read_csv(existing_file,dtype={\n",
    "    'ImageId': 'string',\n",
    "    'LocalId': np.int64,\n",
    "    'xyxy1': np.int64,\n",
    "    'xyxy2': np.int64,\n",
    "    'xyxy3': np.int64,\n",
    "    'xyxy4': np.int64\n",
    "})\n",
    "    except FileNotFoundError:\n",
    "        df_existing = pd.DataFrame()\n",
    "\n",
    "    df_to_add = pd.DataFrame(data_to_add)\n",
    "    df_combined = pd.concat([df_existing, df_to_add], ignore_index=True)\n",
    "    df_combined.to_csv(existing_file, index=False)\n",
    "\n",
    "\n",
    "#add_lines_to_excel(existing_excel_file, data_to_add)\n",
    "#This function encapsulates the process of adding lines to an existing Excel file using a DataFrame. It first attempts to read the existing Excel file, creating an empty DataFrame if the file doesn't exist. Then, it creates a DataFrame from the data to add and concatenates it with the existing DataFrame. Finally, it writes the combined DataFrame back to the Excel file.\n",
    "\n",
    "#Make sure to replace 'path/to/your/existing/excel/file.xlsx' with the actual path to your existing Excel file and adjust the data_to_add dictionary accordingly.\n",
    "\n",
    "\n",
    "\n",
    "\n",
    "\n"
   ]
  },
  {
   "cell_type": "code",
   "execution_count": 16,
   "id": "67ac11d5-826d-473a-aa0f-a76241b4dc1a",
   "metadata": {},
   "outputs": [],
   "source": [
    "def create_default_csv(csv_file_path):\n",
    "    default_columns = ['ImageId', 'LocalId', 'xyxy1', 'xyxy2', 'xyxy3', 'xyxy4']  # Add your desired column headers here\n",
    "\n",
    "    # Create an empty DataFrame with the default columns\n",
    "    empty_df = pd.DataFrame(columns=default_columns)\n",
    "\n",
    "    # Save the empty DataFrame to a CSV file\n",
    "    empty_df.to_csv(csv_file_path, index=False)"
   ]
  },
  {
   "cell_type": "code",
   "execution_count": 17,
   "id": "11c82f8d-36b2-42e0-9809-a7c23c993f00",
   "metadata": {},
   "outputs": [],
   "source": [
    "def concat_main_csv(data):\n",
    "    with main_df_lock:\n",
    "        global MAIN_DF\n",
    "        MAIN_DF = pd.concat([MAIN_DF, data], ignore_index=True)"
   ]
  },
  {
   "cell_type": "code",
   "execution_count": 18,
   "id": "5f458f0a-d6d7-44a1-8d0e-609b35963bc7",
   "metadata": {},
   "outputs": [],
   "source": [
    "#creating default csv\n",
    "#filename of csv path, N_TOP for number of TOP value\n",
    "def creating_default_csv(csv_file_name,N_TOP):\n",
    "    data = [\n",
    "    [\"ID\",\t\"RANK1\", \"RANK1_prob\"]\n",
    "    ]\n",
    "    \n",
    "    for i in range(2,N_TOP+1):\n",
    "        data[0].extend([f\"RANK{i}\",f\"RANK{i}_prob\"])\n",
    "    print(data)\n",
    "                       \n",
    "    # Specify the file name\n",
    "\n",
    "    # Writing to the CSV file\n",
    "    with open(csv_file_name, mode='w', newline='') as file:\n",
    "        writer = csv.writer(file)\n",
    "\n",
    "        # Write the header\n",
    "        writer.writerow(data[0])"
   ]
  },
  {
   "cell_type": "code",
   "execution_count": 19,
   "id": "2a412f31-9f7c-4d19-a8e8-04d1643b4ba4",
   "metadata": {},
   "outputs": [],
   "source": [
    "def write_to_csv(file_name, data):\n",
    "    with open(file_name, mode='a', newline='') as file:\n",
    "        writer = csv.writer(file)\n",
    "        writer.writerow(data)"
   ]
  },
  {
   "cell_type": "code",
   "execution_count": 20,
   "id": "802d4152-217d-4411-bd8b-837e252b59f7",
   "metadata": {},
   "outputs": [],
   "source": [
    "def calculate_black_white_percentage_rgb(image, threshold=150):\n",
    "    # Apply the threshold to each channel\n",
    "    binary_mask = (image <= threshold).all(axis=-1) * 255\n",
    "    \n",
    "    #cv2.imshow('Masked Image', image)\n",
    "    #cv2.waitKey(1)\n",
    "    \n",
    "        \n",
    "    # Calculate the percentage of black and white pixels\n",
    "    total_pixels = binary_mask.size\n",
    "    black_pixels = np.count_nonzero(binary_mask == 0)\n",
    "    white_pixels = np.count_nonzero(binary_mask == 255)\n",
    "\n",
    "    black_percentage = (black_pixels / total_pixels) * 100\n",
    "    white_percentage = (white_pixels / total_pixels) * 100\n",
    "\n",
    "    return black_percentage, white_percentage\n",
    "\n"
   ]
  },
  {
   "cell_type": "code",
   "execution_count": 21,
   "id": "82d3bcaf-c6fd-4eba-a04b-be1e81ce7f7f",
   "metadata": {},
   "outputs": [],
   "source": [
    "def calculate_white_pixel_percentage(image,threshold_value=180):\n",
    "    # Convert the image to grayscale\n",
    "    \n",
    "    if not image.dtype in [np.uint8, np.uint16]:\n",
    "        image = (image / image.max() * 255).astype(np.uint8)\n",
    "    #cv2.imshow('BGR Image', image)\n",
    "    \n",
    "    gray_image = cv2.cvtColor(image, cv2.COLOR_RGB2GRAY)\n",
    "    #cv2.imshow('gray Image', gray_image)\n",
    "    \n",
    "    # Apply threshold to create a binary mask\n",
    "    _, binary_mask = cv2.threshold(gray_image, threshold_value, 255, cv2.THRESH_BINARY)\n",
    "\n",
    "    # Calculate the percentage of white pixels\n",
    "    total_pixels = binary_mask.size\n",
    "    white_pixels = np.count_nonzero(binary_mask == 255)\n",
    "\n",
    "    white_percentage = (white_pixels / total_pixels) * 100\n",
    "    white_pixels_only = cv2.bitwise_and(image, image, mask=binary_mask)\n",
    "\n",
    "    # Display the images\n",
    "    #cv2.imshow('Original Image', image)\n",
    "    cv2.imshow('White Pixels Only', white_pixels_only)\n",
    "\n",
    "    return white_percentage\n"
   ]
  },
  {
   "cell_type": "code",
   "execution_count": 22,
   "id": "afdb74da-43cd-41c9-a0d7-e8a40767d926",
   "metadata": {
    "scrolled": true,
    "tags": []
   },
   "outputs": [
    {
     "name": "stdout",
     "output_type": "stream",
     "text": [
      "20230731-030500-031000_10fps_3fps.mp4_track\n",
      "yolo->v8->segement->model.py 235\n",
      "I reach here. yolo->Enging->Predictor.py 98\n"
     ]
    },
    {
     "name": "stderr",
     "output_type": "stream",
     "text": [
      "\n"
     ]
    },
    {
     "name": "stdout",
     "output_type": "stream",
     "text": [
      "D:\\Python\\SULarbmon\\Python\\env\\yolov8_june\\ultralytics\\runs\\segment\\honkawa_1103_112_RANK\\03_1_video\\identification35\\20230731-030500-031000_10fps_3fps.mp4\n",
      "I am in stream_loaders.py 168\n"
     ]
    },
    {
     "name": "stderr",
     "output_type": "stream",
     "text": [
      "WARNING  'Masks.masks' is deprecated. Use 'Masks.data' instead.\n",
      "video 1/1 (1/901) D:\\815_CowDataChecking\\Honkawa\\2023-07-31\\03\\output_3fps\\20230731-030500-031000_10fps_3fps.mp4: 384x640 1 cow, 17.0ms\n",
      "WARNING  'Masks.masks' is deprecated. Use 'Masks.data' instead.\n",
      "video 1/1 (2/901) D:\\815_CowDataChecking\\Honkawa\\2023-07-31\\03\\output_3fps\\20230731-030500-031000_10fps_3fps.mp4: 384x640 1 cow, 17.0ms\n",
      "WARNING  'Masks.masks' is deprecated. Use 'Masks.data' instead.\n",
      "video 1/1 (3/901) D:\\815_CowDataChecking\\Honkawa\\2023-07-31\\03\\output_3fps\\20230731-030500-031000_10fps_3fps.mp4: 384x640 1 cow, 20.0ms\n",
      "WARNING  'Masks.masks' is deprecated. Use 'Masks.data' instead.\n",
      "video 1/1 (4/901) D:\\815_CowDataChecking\\Honkawa\\2023-07-31\\03\\output_3fps\\20230731-030500-031000_10fps_3fps.mp4: 384x640 1 cow, 11.0ms\n",
      "WARNING  'Masks.masks' is deprecated. Use 'Masks.data' instead.\n",
      "video 1/1 (5/901) D:\\815_CowDataChecking\\Honkawa\\2023-07-31\\03\\output_3fps\\20230731-030500-031000_10fps_3fps.mp4: 384x640 1 cow, 14.0ms\n",
      "WARNING  'Masks.masks' is deprecated. Use 'Masks.data' instead.\n",
      "video 1/1 (6/901) D:\\815_CowDataChecking\\Honkawa\\2023-07-31\\03\\output_3fps\\20230731-030500-031000_10fps_3fps.mp4: 384x640 1 cow, 20.2ms\n",
      "WARNING  'Masks.masks' is deprecated. Use 'Masks.data' instead.\n",
      "video 1/1 (7/901) D:\\815_CowDataChecking\\Honkawa\\2023-07-31\\03\\output_3fps\\20230731-030500-031000_10fps_3fps.mp4: 384x640 1 cow, 20.0ms\n",
      "WARNING  'Masks.masks' is deprecated. Use 'Masks.data' instead.\n",
      "video 1/1 (8/901) D:\\815_CowDataChecking\\Honkawa\\2023-07-31\\03\\output_3fps\\20230731-030500-031000_10fps_3fps.mp4: 384x640 1 cow, 20.1ms\n",
      "WARNING  'Masks.masks' is deprecated. Use 'Masks.data' instead.\n",
      "video 1/1 (9/901) D:\\815_CowDataChecking\\Honkawa\\2023-07-31\\03\\output_3fps\\20230731-030500-031000_10fps_3fps.mp4: 384x640 1 cow, 15.9ms\n",
      "WARNING  'Masks.masks' is deprecated. Use 'Masks.data' instead.\n",
      "video 1/1 (10/901) D:\\815_CowDataChecking\\Honkawa\\2023-07-31\\03\\output_3fps\\20230731-030500-031000_10fps_3fps.mp4: 384x640 1 cow, 14.0ms\n",
      "WARNING  'Masks.masks' is deprecated. Use 'Masks.data' instead.\n",
      "video 1/1 (11/901) D:\\815_CowDataChecking\\Honkawa\\2023-07-31\\03\\output_3fps\\20230731-030500-031000_10fps_3fps.mp4: 384x640 1 cow, 8.0ms\n",
      "WARNING  'Masks.masks' is deprecated. Use 'Masks.data' instead.\n",
      "video 1/1 (12/901) D:\\815_CowDataChecking\\Honkawa\\2023-07-31\\03\\output_3fps\\20230731-030500-031000_10fps_3fps.mp4: 384x640 1 cow, 16.0ms\n",
      "WARNING  'Masks.masks' is deprecated. Use 'Masks.data' instead.\n",
      "video 1/1 (13/901) D:\\815_CowDataChecking\\Honkawa\\2023-07-31\\03\\output_3fps\\20230731-030500-031000_10fps_3fps.mp4: 384x640 1 cow, 16.0ms\n",
      "WARNING  'Masks.masks' is deprecated. Use 'Masks.data' instead.\n",
      "video 1/1 (14/901) D:\\815_CowDataChecking\\Honkawa\\2023-07-31\\03\\output_3fps\\20230731-030500-031000_10fps_3fps.mp4: 384x640 1 cow, 9.0ms\n",
      "WARNING  'Masks.masks' is deprecated. Use 'Masks.data' instead.\n",
      "video 1/1 (15/901) D:\\815_CowDataChecking\\Honkawa\\2023-07-31\\03\\output_3fps\\20230731-030500-031000_10fps_3fps.mp4: 384x640 1 cow, 16.0ms\n",
      "WARNING  'Masks.masks' is deprecated. Use 'Masks.data' instead.\n",
      "video 1/1 (16/901) D:\\815_CowDataChecking\\Honkawa\\2023-07-31\\03\\output_3fps\\20230731-030500-031000_10fps_3fps.mp4: 384x640 1 cow, 16.2ms\n",
      "WARNING  'Masks.masks' is deprecated. Use 'Masks.data' instead.\n",
      "video 1/1 (17/901) D:\\815_CowDataChecking\\Honkawa\\2023-07-31\\03\\output_3fps\\20230731-030500-031000_10fps_3fps.mp4: 384x640 1 cow, 11.0ms\n",
      "WARNING  'Masks.masks' is deprecated. Use 'Masks.data' instead.\n",
      "video 1/1 (18/901) D:\\815_CowDataChecking\\Honkawa\\2023-07-31\\03\\output_3fps\\20230731-030500-031000_10fps_3fps.mp4: 384x640 1 cow, 13.0ms\n",
      "WARNING  'Masks.masks' is deprecated. Use 'Masks.data' instead.\n",
      "video 1/1 (19/901) D:\\815_CowDataChecking\\Honkawa\\2023-07-31\\03\\output_3fps\\20230731-030500-031000_10fps_3fps.mp4: 384x640 1 cow, 8.0ms\n",
      "WARNING  'Masks.masks' is deprecated. Use 'Masks.data' instead.\n",
      "video 1/1 (20/901) D:\\815_CowDataChecking\\Honkawa\\2023-07-31\\03\\output_3fps\\20230731-030500-031000_10fps_3fps.mp4: 384x640 1 cow, 9.0ms\n",
      "WARNING  'Masks.masks' is deprecated. Use 'Masks.data' instead.\n",
      "video 1/1 (21/901) D:\\815_CowDataChecking\\Honkawa\\2023-07-31\\03\\output_3fps\\20230731-030500-031000_10fps_3fps.mp4: 384x640 1 cow, 8.0ms\n",
      "WARNING  'Masks.masks' is deprecated. Use 'Masks.data' instead.\n",
      "video 1/1 (22/901) D:\\815_CowDataChecking\\Honkawa\\2023-07-31\\03\\output_3fps\\20230731-030500-031000_10fps_3fps.mp4: 384x640 1 cow, 15.5ms\n",
      "WARNING  'Masks.masks' is deprecated. Use 'Masks.data' instead.\n",
      "video 1/1 (23/901) D:\\815_CowDataChecking\\Honkawa\\2023-07-31\\03\\output_3fps\\20230731-030500-031000_10fps_3fps.mp4: 384x640 1 cow, 16.0ms\n",
      "WARNING  'Masks.masks' is deprecated. Use 'Masks.data' instead.\n",
      "video 1/1 (24/901) D:\\815_CowDataChecking\\Honkawa\\2023-07-31\\03\\output_3fps\\20230731-030500-031000_10fps_3fps.mp4: 384x640 1 cow, 9.6ms\n",
      "WARNING  'Masks.masks' is deprecated. Use 'Masks.data' instead.\n",
      "video 1/1 (25/901) D:\\815_CowDataChecking\\Honkawa\\2023-07-31\\03\\output_3fps\\20230731-030500-031000_10fps_3fps.mp4: 384x640 1 cow, 16.0ms\n",
      "WARNING  'Masks.masks' is deprecated. Use 'Masks.data' instead.\n",
      "video 1/1 (26/901) D:\\815_CowDataChecking\\Honkawa\\2023-07-31\\03\\output_3fps\\20230731-030500-031000_10fps_3fps.mp4: 384x640 1 cow, 14.0ms\n",
      "WARNING  'Masks.masks' is deprecated. Use 'Masks.data' instead.\n",
      "video 1/1 (27/901) D:\\815_CowDataChecking\\Honkawa\\2023-07-31\\03\\output_3fps\\20230731-030500-031000_10fps_3fps.mp4: 384x640 1 cow, 8.0ms\n",
      "WARNING  'Masks.masks' is deprecated. Use 'Masks.data' instead.\n",
      "video 1/1 (28/901) D:\\815_CowDataChecking\\Honkawa\\2023-07-31\\03\\output_3fps\\20230731-030500-031000_10fps_3fps.mp4: 384x640 1 cow, 16.0ms\n",
      "WARNING  'Masks.masks' is deprecated. Use 'Masks.data' instead.\n",
      "video 1/1 (29/901) D:\\815_CowDataChecking\\Honkawa\\2023-07-31\\03\\output_3fps\\20230731-030500-031000_10fps_3fps.mp4: 384x640 1 cow, 9.0ms\n",
      "WARNING  'Masks.masks' is deprecated. Use 'Masks.data' instead.\n",
      "video 1/1 (30/901) D:\\815_CowDataChecking\\Honkawa\\2023-07-31\\03\\output_3fps\\20230731-030500-031000_10fps_3fps.mp4: 384x640 2 cows, 16.0ms\n",
      "WARNING  'Masks.masks' is deprecated. Use 'Masks.data' instead.\n",
      "video 1/1 (31/901) D:\\815_CowDataChecking\\Honkawa\\2023-07-31\\03\\output_3fps\\20230731-030500-031000_10fps_3fps.mp4: 384x640 2 cows, 10.0ms\n",
      "WARNING  'Masks.masks' is deprecated. Use 'Masks.data' instead.\n",
      "video 1/1 (32/901) D:\\815_CowDataChecking\\Honkawa\\2023-07-31\\03\\output_3fps\\20230731-030500-031000_10fps_3fps.mp4: 384x640 2 cows, 10.0ms\n",
      "WARNING  'Masks.masks' is deprecated. Use 'Masks.data' instead.\n",
      "video 1/1 (33/901) D:\\815_CowDataChecking\\Honkawa\\2023-07-31\\03\\output_3fps\\20230731-030500-031000_10fps_3fps.mp4: 384x640 2 cows, 9.0ms\n",
      "WARNING  'Masks.masks' is deprecated. Use 'Masks.data' instead.\n",
      "video 1/1 (34/901) D:\\815_CowDataChecking\\Honkawa\\2023-07-31\\03\\output_3fps\\20230731-030500-031000_10fps_3fps.mp4: 384x640 2 cows, 10.0ms\n",
      "WARNING  'Masks.masks' is deprecated. Use 'Masks.data' instead.\n",
      "video 1/1 (35/901) D:\\815_CowDataChecking\\Honkawa\\2023-07-31\\03\\output_3fps\\20230731-030500-031000_10fps_3fps.mp4: 384x640 2 cows, 10.0ms\n",
      "WARNING  'Masks.masks' is deprecated. Use 'Masks.data' instead.\n",
      "video 1/1 (36/901) D:\\815_CowDataChecking\\Honkawa\\2023-07-31\\03\\output_3fps\\20230731-030500-031000_10fps_3fps.mp4: 384x640 2 cows, 13.0ms\n",
      "WARNING  'Masks.masks' is deprecated. Use 'Masks.data' instead.\n",
      "video 1/1 (37/901) D:\\815_CowDataChecking\\Honkawa\\2023-07-31\\03\\output_3fps\\20230731-030500-031000_10fps_3fps.mp4: 384x640 2 cows, 9.0ms\n",
      "WARNING  'Masks.masks' is deprecated. Use 'Masks.data' instead.\n",
      "video 1/1 (38/901) D:\\815_CowDataChecking\\Honkawa\\2023-07-31\\03\\output_3fps\\20230731-030500-031000_10fps_3fps.mp4: 384x640 2 cows, 11.0ms\n",
      "WARNING  'Masks.masks' is deprecated. Use 'Masks.data' instead.\n",
      "video 1/1 (39/901) D:\\815_CowDataChecking\\Honkawa\\2023-07-31\\03\\output_3fps\\20230731-030500-031000_10fps_3fps.mp4: 384x640 2 cows, 16.0ms\n",
      "WARNING  'Masks.masks' is deprecated. Use 'Masks.data' instead.\n",
      "video 1/1 (40/901) D:\\815_CowDataChecking\\Honkawa\\2023-07-31\\03\\output_3fps\\20230731-030500-031000_10fps_3fps.mp4: 384x640 2 cows, 11.0ms\n",
      "WARNING  'Masks.masks' is deprecated. Use 'Masks.data' instead.\n",
      "video 1/1 (41/901) D:\\815_CowDataChecking\\Honkawa\\2023-07-31\\03\\output_3fps\\20230731-030500-031000_10fps_3fps.mp4: 384x640 2 cows, 11.0ms\n",
      "WARNING  'Masks.masks' is deprecated. Use 'Masks.data' instead.\n"
     ]
    },
    {
     "name": "stdout",
     "output_type": "stream",
     "text": [
      "1/1 [==============================] - 0s 138ms/step\n"
     ]
    },
    {
     "name": "stderr",
     "output_type": "stream",
     "text": [
      "video 1/1 (42/901) D:\\815_CowDataChecking\\Honkawa\\2023-07-31\\03\\output_3fps\\20230731-030500-031000_10fps_3fps.mp4: 384x640 2 cows, 10.2ms\n",
      "WARNING  'Masks.masks' is deprecated. Use 'Masks.data' instead.\n"
     ]
    },
    {
     "name": "stdout",
     "output_type": "stream",
     "text": [
      "White Percentage: 1.28%\n",
      "[['ID', 'RANK1', 'RANK1_prob', 'RANK2', 'RANK2_prob', 'RANK3', 'RANK3_prob', 'RANK4', 'RANK4_prob', 'RANK5', 'RANK5_prob']]\n",
      "new cattle  xxxxxxxxxxxxxxxxxxxxx new cattle alert \n",
      "1/1 [==============================] - 0s 43ms/step\n"
     ]
    },
    {
     "name": "stderr",
     "output_type": "stream",
     "text": [
      "video 1/1 (43/901) D:\\815_CowDataChecking\\Honkawa\\2023-07-31\\03\\output_3fps\\20230731-030500-031000_10fps_3fps.mp4: 384x640 2 cows, 9.0ms\n",
      "WARNING  'Masks.masks' is deprecated. Use 'Masks.data' instead.\n"
     ]
    },
    {
     "name": "stdout",
     "output_type": "stream",
     "text": [
      "White Percentage: 1.22%\n",
      "1/1 [==============================] - 0s 39ms/step\n"
     ]
    },
    {
     "name": "stderr",
     "output_type": "stream",
     "text": [
      "video 1/1 (44/901) D:\\815_CowDataChecking\\Honkawa\\2023-07-31\\03\\output_3fps\\20230731-030500-031000_10fps_3fps.mp4: 384x640 2 cows, 15.0ms\n",
      "WARNING  'Masks.masks' is deprecated. Use 'Masks.data' instead.\n"
     ]
    },
    {
     "name": "stdout",
     "output_type": "stream",
     "text": [
      "White Percentage: 1.28%\n",
      "1/1 [==============================] - 0s 37ms/step\n"
     ]
    },
    {
     "name": "stderr",
     "output_type": "stream",
     "text": [
      "video 1/1 (45/901) D:\\815_CowDataChecking\\Honkawa\\2023-07-31\\03\\output_3fps\\20230731-030500-031000_10fps_3fps.mp4: 384x640 2 cows, 12.1ms\n",
      "WARNING  'Masks.masks' is deprecated. Use 'Masks.data' instead.\n"
     ]
    },
    {
     "name": "stdout",
     "output_type": "stream",
     "text": [
      "White Percentage: 1.24%\n",
      "1/1 [==============================] - 0s 44ms/step\n"
     ]
    },
    {
     "name": "stderr",
     "output_type": "stream",
     "text": [
      "video 1/1 (46/901) D:\\815_CowDataChecking\\Honkawa\\2023-07-31\\03\\output_3fps\\20230731-030500-031000_10fps_3fps.mp4: 384x640 2 cows, 8.5ms\n",
      "WARNING  'Masks.masks' is deprecated. Use 'Masks.data' instead.\n"
     ]
    },
    {
     "name": "stdout",
     "output_type": "stream",
     "text": [
      "White Percentage: 1.11%\n",
      "1/1 [==============================] - 0s 38ms/step\n"
     ]
    },
    {
     "name": "stderr",
     "output_type": "stream",
     "text": [
      "video 1/1 (47/901) D:\\815_CowDataChecking\\Honkawa\\2023-07-31\\03\\output_3fps\\20230731-030500-031000_10fps_3fps.mp4: 384x640 2 cows, 9.5ms\n",
      "WARNING  'Masks.masks' is deprecated. Use 'Masks.data' instead.\n"
     ]
    },
    {
     "name": "stdout",
     "output_type": "stream",
     "text": [
      "White Percentage: 1.23%\n",
      "1/1 [==============================] - 0s 47ms/step\n"
     ]
    },
    {
     "name": "stderr",
     "output_type": "stream",
     "text": [
      "video 1/1 (48/901) D:\\815_CowDataChecking\\Honkawa\\2023-07-31\\03\\output_3fps\\20230731-030500-031000_10fps_3fps.mp4: 384x640 2 cows, 12.5ms\n",
      "WARNING  'Masks.masks' is deprecated. Use 'Masks.data' instead.\n"
     ]
    },
    {
     "name": "stdout",
     "output_type": "stream",
     "text": [
      "White Percentage: 1.28%\n",
      "1/1 [==============================] - 0s 41ms/step\n"
     ]
    },
    {
     "name": "stderr",
     "output_type": "stream",
     "text": [
      "video 1/1 (49/901) D:\\815_CowDataChecking\\Honkawa\\2023-07-31\\03\\output_3fps\\20230731-030500-031000_10fps_3fps.mp4: 384x640 2 cows, 10.5ms\n",
      "WARNING  'Masks.masks' is deprecated. Use 'Masks.data' instead.\n"
     ]
    },
    {
     "name": "stdout",
     "output_type": "stream",
     "text": [
      "White Percentage: 1.28%\n",
      "1/1 [==============================] - 0s 35ms/step\n"
     ]
    },
    {
     "name": "stderr",
     "output_type": "stream",
     "text": [
      "video 1/1 (50/901) D:\\815_CowDataChecking\\Honkawa\\2023-07-31\\03\\output_3fps\\20230731-030500-031000_10fps_3fps.mp4: 384x640 2 cows, 9.0ms\n",
      "WARNING  'Masks.masks' is deprecated. Use 'Masks.data' instead.\n"
     ]
    },
    {
     "name": "stdout",
     "output_type": "stream",
     "text": [
      "White Percentage: 1.16%\n",
      "1/1 [==============================] - 0s 35ms/step\n"
     ]
    },
    {
     "name": "stderr",
     "output_type": "stream",
     "text": [
      "video 1/1 (51/901) D:\\815_CowDataChecking\\Honkawa\\2023-07-31\\03\\output_3fps\\20230731-030500-031000_10fps_3fps.mp4: 384x640 2 cows, 10.5ms\n",
      "WARNING  'Masks.masks' is deprecated. Use 'Masks.data' instead.\n"
     ]
    },
    {
     "name": "stdout",
     "output_type": "stream",
     "text": [
      "White Percentage: 1.31%\n",
      "1/1 [==============================] - 0s 36ms/step\n"
     ]
    },
    {
     "name": "stderr",
     "output_type": "stream",
     "text": [
      "video 1/1 (52/901) D:\\815_CowDataChecking\\Honkawa\\2023-07-31\\03\\output_3fps\\20230731-030500-031000_10fps_3fps.mp4: 384x640 2 cows, 14.5ms\n",
      "WARNING  'Masks.masks' is deprecated. Use 'Masks.data' instead.\n"
     ]
    },
    {
     "name": "stdout",
     "output_type": "stream",
     "text": [
      "White Percentage: 1.25%\n",
      "1/1 [==============================] - 0s 34ms/step\n"
     ]
    },
    {
     "name": "stderr",
     "output_type": "stream",
     "text": [
      "video 1/1 (53/901) D:\\815_CowDataChecking\\Honkawa\\2023-07-31\\03\\output_3fps\\20230731-030500-031000_10fps_3fps.mp4: 384x640 2 cows, 14.5ms\n",
      "WARNING  'Masks.masks' is deprecated. Use 'Masks.data' instead.\n"
     ]
    },
    {
     "name": "stdout",
     "output_type": "stream",
     "text": [
      "White Percentage: 1.25%\n",
      "1/1 [==============================] - 0s 35ms/step\n"
     ]
    },
    {
     "name": "stderr",
     "output_type": "stream",
     "text": [
      "video 1/1 (54/901) D:\\815_CowDataChecking\\Honkawa\\2023-07-31\\03\\output_3fps\\20230731-030500-031000_10fps_3fps.mp4: 384x640 2 cows, 27.0ms\n",
      "WARNING  'Masks.masks' is deprecated. Use 'Masks.data' instead.\n"
     ]
    },
    {
     "name": "stdout",
     "output_type": "stream",
     "text": [
      "White Percentage: 1.40%\n",
      "1/1 [==============================] - 0s 35ms/step\n"
     ]
    },
    {
     "name": "stderr",
     "output_type": "stream",
     "text": [
      "video 1/1 (55/901) D:\\815_CowDataChecking\\Honkawa\\2023-07-31\\03\\output_3fps\\20230731-030500-031000_10fps_3fps.mp4: 384x640 2 cows, 25.0ms\n",
      "WARNING  'Masks.masks' is deprecated. Use 'Masks.data' instead.\n"
     ]
    },
    {
     "name": "stdout",
     "output_type": "stream",
     "text": [
      "White Percentage: 1.42%\n",
      "1/1 [==============================] - 0s 33ms/step\n"
     ]
    },
    {
     "name": "stderr",
     "output_type": "stream",
     "text": [
      "video 1/1 (56/901) D:\\815_CowDataChecking\\Honkawa\\2023-07-31\\03\\output_3fps\\20230731-030500-031000_10fps_3fps.mp4: 384x640 2 cows, 31.5ms\n",
      "WARNING  'Masks.masks' is deprecated. Use 'Masks.data' instead.\n"
     ]
    },
    {
     "name": "stdout",
     "output_type": "stream",
     "text": [
      "White Percentage: 1.44%\n",
      "1/1 [==============================] - 0s 35ms/step\n"
     ]
    },
    {
     "name": "stderr",
     "output_type": "stream",
     "text": [
      "video 1/1 (57/901) D:\\815_CowDataChecking\\Honkawa\\2023-07-31\\03\\output_3fps\\20230731-030500-031000_10fps_3fps.mp4: 384x640 2 cows, 25.0ms\n",
      "WARNING  'Masks.masks' is deprecated. Use 'Masks.data' instead.\n"
     ]
    },
    {
     "name": "stdout",
     "output_type": "stream",
     "text": [
      "White Percentage: 1.40%\n",
      "1/1 [==============================] - 0s 33ms/step\n"
     ]
    },
    {
     "name": "stderr",
     "output_type": "stream",
     "text": [
      "video 1/1 (58/901) D:\\815_CowDataChecking\\Honkawa\\2023-07-31\\03\\output_3fps\\20230731-030500-031000_10fps_3fps.mp4: 384x640 2 cows, 27.1ms\n",
      "WARNING  'Masks.masks' is deprecated. Use 'Masks.data' instead.\n"
     ]
    },
    {
     "name": "stdout",
     "output_type": "stream",
     "text": [
      "White Percentage: 1.48%\n",
      "1/1 [==============================] - 0s 36ms/step\n"
     ]
    },
    {
     "name": "stderr",
     "output_type": "stream",
     "text": [
      "video 1/1 (59/901) D:\\815_CowDataChecking\\Honkawa\\2023-07-31\\03\\output_3fps\\20230731-030500-031000_10fps_3fps.mp4: 384x640 2 cows, 28.0ms\n",
      "WARNING  'Masks.masks' is deprecated. Use 'Masks.data' instead.\n"
     ]
    },
    {
     "name": "stdout",
     "output_type": "stream",
     "text": [
      "White Percentage: 1.50%\n",
      "1/1 [==============================] - 0s 35ms/step\n"
     ]
    },
    {
     "name": "stderr",
     "output_type": "stream",
     "text": [
      "video 1/1 (60/901) D:\\815_CowDataChecking\\Honkawa\\2023-07-31\\03\\output_3fps\\20230731-030500-031000_10fps_3fps.mp4: 384x640 2 cows, 31.5ms\n",
      "WARNING  'Masks.masks' is deprecated. Use 'Masks.data' instead.\n"
     ]
    },
    {
     "name": "stdout",
     "output_type": "stream",
     "text": [
      "White Percentage: 1.52%\n",
      "1/1 [==============================] - 0s 35ms/step\n"
     ]
    },
    {
     "name": "stderr",
     "output_type": "stream",
     "text": [
      "video 1/1 (61/901) D:\\815_CowDataChecking\\Honkawa\\2023-07-31\\03\\output_3fps\\20230731-030500-031000_10fps_3fps.mp4: 384x640 2 cows, 24.0ms\n",
      "WARNING  'Masks.masks' is deprecated. Use 'Masks.data' instead.\n"
     ]
    },
    {
     "name": "stdout",
     "output_type": "stream",
     "text": [
      "White Percentage: 1.49%\n",
      "1/1 [==============================] - 0s 40ms/step\n"
     ]
    },
    {
     "name": "stderr",
     "output_type": "stream",
     "text": [
      "video 1/1 (62/901) D:\\815_CowDataChecking\\Honkawa\\2023-07-31\\03\\output_3fps\\20230731-030500-031000_10fps_3fps.mp4: 384x640 2 cows, 32.0ms\n",
      "WARNING  'Masks.masks' is deprecated. Use 'Masks.data' instead.\n"
     ]
    },
    {
     "name": "stdout",
     "output_type": "stream",
     "text": [
      "White Percentage: 1.40%\n",
      "1/1 [==============================] - 0s 36ms/step\n"
     ]
    },
    {
     "name": "stderr",
     "output_type": "stream",
     "text": [
      "video 1/1 (63/901) D:\\815_CowDataChecking\\Honkawa\\2023-07-31\\03\\output_3fps\\20230731-030500-031000_10fps_3fps.mp4: 384x640 2 cows, 27.0ms\n",
      "WARNING  'Masks.masks' is deprecated. Use 'Masks.data' instead.\n"
     ]
    },
    {
     "name": "stdout",
     "output_type": "stream",
     "text": [
      "White Percentage: 1.32%\n",
      "1/1 [==============================] - 0s 36ms/step\n"
     ]
    },
    {
     "name": "stderr",
     "output_type": "stream",
     "text": [
      "video 1/1 (64/901) D:\\815_CowDataChecking\\Honkawa\\2023-07-31\\03\\output_3fps\\20230731-030500-031000_10fps_3fps.mp4: 384x640 2 cows, 34.5ms\n",
      "WARNING  'Masks.masks' is deprecated. Use 'Masks.data' instead.\n"
     ]
    },
    {
     "name": "stdout",
     "output_type": "stream",
     "text": [
      "White Percentage: 1.35%\n",
      "1/1 [==============================] - 0s 40ms/step\n"
     ]
    },
    {
     "name": "stderr",
     "output_type": "stream",
     "text": [
      "video 1/1 (65/901) D:\\815_CowDataChecking\\Honkawa\\2023-07-31\\03\\output_3fps\\20230731-030500-031000_10fps_3fps.mp4: 384x640 2 cows, 27.1ms\n",
      "WARNING  'Masks.masks' is deprecated. Use 'Masks.data' instead.\n"
     ]
    },
    {
     "name": "stdout",
     "output_type": "stream",
     "text": [
      "White Percentage: 1.32%\n",
      "1/1 [==============================] - 0s 36ms/step\n"
     ]
    },
    {
     "name": "stderr",
     "output_type": "stream",
     "text": [
      "video 1/1 (66/901) D:\\815_CowDataChecking\\Honkawa\\2023-07-31\\03\\output_3fps\\20230731-030500-031000_10fps_3fps.mp4: 384x640 2 cows, 23.5ms\n",
      "WARNING  'Masks.masks' is deprecated. Use 'Masks.data' instead.\n"
     ]
    },
    {
     "name": "stdout",
     "output_type": "stream",
     "text": [
      "White Percentage: 1.38%\n",
      "1/1 [==============================] - 0s 39ms/step\n"
     ]
    },
    {
     "name": "stderr",
     "output_type": "stream",
     "text": [
      "video 1/1 (67/901) D:\\815_CowDataChecking\\Honkawa\\2023-07-31\\03\\output_3fps\\20230731-030500-031000_10fps_3fps.mp4: 384x640 2 cows, 27.0ms\n",
      "WARNING  'Masks.masks' is deprecated. Use 'Masks.data' instead.\n"
     ]
    },
    {
     "name": "stdout",
     "output_type": "stream",
     "text": [
      "White Percentage: 1.41%\n",
      "1/1 [==============================] - 0s 34ms/step\n"
     ]
    },
    {
     "name": "stderr",
     "output_type": "stream",
     "text": [
      "video 1/1 (68/901) D:\\815_CowDataChecking\\Honkawa\\2023-07-31\\03\\output_3fps\\20230731-030500-031000_10fps_3fps.mp4: 384x640 2 cows, 31.0ms\n",
      "WARNING  'Masks.masks' is deprecated. Use 'Masks.data' instead.\n"
     ]
    },
    {
     "name": "stdout",
     "output_type": "stream",
     "text": [
      "White Percentage: 1.43%\n",
      "1/1 [==============================] - 0s 35ms/step\n"
     ]
    },
    {
     "name": "stderr",
     "output_type": "stream",
     "text": [
      "video 1/1 (69/901) D:\\815_CowDataChecking\\Honkawa\\2023-07-31\\03\\output_3fps\\20230731-030500-031000_10fps_3fps.mp4: 384x640 2 cows, 31.0ms\n",
      "WARNING  'Masks.masks' is deprecated. Use 'Masks.data' instead.\n"
     ]
    },
    {
     "name": "stdout",
     "output_type": "stream",
     "text": [
      "White Percentage: 1.44%\n",
      "1/1 [==============================] - 0s 40ms/step\n"
     ]
    },
    {
     "name": "stderr",
     "output_type": "stream",
     "text": [
      "video 1/1 (70/901) D:\\815_CowDataChecking\\Honkawa\\2023-07-31\\03\\output_3fps\\20230731-030500-031000_10fps_3fps.mp4: 384x640 3 cows, 26.5ms\n",
      "WARNING  'Masks.masks' is deprecated. Use 'Masks.data' instead.\n"
     ]
    },
    {
     "name": "stdout",
     "output_type": "stream",
     "text": [
      "White Percentage: 1.47%\n",
      "1/1 [==============================] - 0s 36ms/step\n"
     ]
    },
    {
     "name": "stderr",
     "output_type": "stream",
     "text": [
      "video 1/1 (71/901) D:\\815_CowDataChecking\\Honkawa\\2023-07-31\\03\\output_3fps\\20230731-030500-031000_10fps_3fps.mp4: 384x640 3 cows, 28.0ms\n",
      "WARNING  'Masks.masks' is deprecated. Use 'Masks.data' instead.\n"
     ]
    },
    {
     "name": "stdout",
     "output_type": "stream",
     "text": [
      "White Percentage: 1.40%\n",
      "1/1 [==============================] - 0s 36ms/step\n"
     ]
    },
    {
     "name": "stderr",
     "output_type": "stream",
     "text": [
      "video 1/1 (72/901) D:\\815_CowDataChecking\\Honkawa\\2023-07-31\\03\\output_3fps\\20230731-030500-031000_10fps_3fps.mp4: 384x640 3 cows, 36.5ms\n",
      "WARNING  'Masks.masks' is deprecated. Use 'Masks.data' instead.\n"
     ]
    },
    {
     "name": "stdout",
     "output_type": "stream",
     "text": [
      "White Percentage: 1.32%\n",
      "1/1 [==============================] - 0s 36ms/step\n"
     ]
    },
    {
     "name": "stderr",
     "output_type": "stream",
     "text": [
      "video 1/1 (73/901) D:\\815_CowDataChecking\\Honkawa\\2023-07-31\\03\\output_3fps\\20230731-030500-031000_10fps_3fps.mp4: 384x640 3 cows, 22.0ms\n",
      "WARNING  'Masks.masks' is deprecated. Use 'Masks.data' instead.\n"
     ]
    },
    {
     "name": "stdout",
     "output_type": "stream",
     "text": [
      "White Percentage: 1.30%\n",
      "1/1 [==============================] - 0s 37ms/step\n",
      "White Percentage: 1.20%\n",
      "1/1 [==============================] - 0s 36ms/step\n"
     ]
    },
    {
     "name": "stderr",
     "output_type": "stream",
     "text": [
      "video 1/1 (74/901) D:\\815_CowDataChecking\\Honkawa\\2023-07-31\\03\\output_3fps\\20230731-030500-031000_10fps_3fps.mp4: 384x640 3 cows, 53.5ms\n",
      "WARNING  'Masks.masks' is deprecated. Use 'Masks.data' instead.\n"
     ]
    },
    {
     "name": "stdout",
     "output_type": "stream",
     "text": [
      "White Percentage: 18.53%\n",
      "[['ID', 'RANK1', 'RANK1_prob', 'RANK2', 'RANK2_prob', 'RANK3', 'RANK3_prob', 'RANK4', 'RANK4_prob', 'RANK5', 'RANK5_prob']]\n",
      "new cattle  xxxxxxxxxxxxxxxxxxxxx new cattle alert \n",
      "1/1 [==============================] - 0s 37ms/step\n",
      "White Percentage: 1.40%\n",
      "1/1 [==============================] - 0s 35ms/step\n"
     ]
    },
    {
     "name": "stderr",
     "output_type": "stream",
     "text": [
      "video 1/1 (75/901) D:\\815_CowDataChecking\\Honkawa\\2023-07-31\\03\\output_3fps\\20230731-030500-031000_10fps_3fps.mp4: 384x640 3 cows, 24.0ms\n",
      "WARNING  'Masks.masks' is deprecated. Use 'Masks.data' instead.\n"
     ]
    },
    {
     "name": "stdout",
     "output_type": "stream",
     "text": [
      "White Percentage: 18.05%\n",
      "1/1 [==============================] - 0s 35ms/step\n",
      "White Percentage: 1.45%\n",
      "1/1 [==============================] - 0s 36ms/step\n"
     ]
    },
    {
     "name": "stderr",
     "output_type": "stream",
     "text": [
      "video 1/1 (76/901) D:\\815_CowDataChecking\\Honkawa\\2023-07-31\\03\\output_3fps\\20230731-030500-031000_10fps_3fps.mp4: 384x640 3 cows, 34.0ms\n",
      "WARNING  'Masks.masks' is deprecated. Use 'Masks.data' instead.\n"
     ]
    },
    {
     "name": "stdout",
     "output_type": "stream",
     "text": [
      "White Percentage: 19.00%\n",
      "1/1 [==============================] - 0s 45ms/step\n",
      "White Percentage: 1.48%\n",
      "1/1 [==============================] - 0s 41ms/step\n"
     ]
    },
    {
     "name": "stderr",
     "output_type": "stream",
     "text": [
      "video 1/1 (77/901) D:\\815_CowDataChecking\\Honkawa\\2023-07-31\\03\\output_3fps\\20230731-030500-031000_10fps_3fps.mp4: 384x640 3 cows, 27.5ms\n",
      "WARNING  'Masks.masks' is deprecated. Use 'Masks.data' instead.\n"
     ]
    },
    {
     "name": "stdout",
     "output_type": "stream",
     "text": [
      "White Percentage: 18.76%\n",
      "1/1 [==============================] - 0s 34ms/step\n",
      "White Percentage: 1.52%\n",
      "1/1 [==============================] - 0s 39ms/step\n"
     ]
    },
    {
     "name": "stderr",
     "output_type": "stream",
     "text": [
      "video 1/1 (78/901) D:\\815_CowDataChecking\\Honkawa\\2023-07-31\\03\\output_3fps\\20230731-030500-031000_10fps_3fps.mp4: 384x640 3 cows, 30.0ms\n",
      "WARNING  'Masks.masks' is deprecated. Use 'Masks.data' instead.\n"
     ]
    },
    {
     "name": "stdout",
     "output_type": "stream",
     "text": [
      "White Percentage: 19.23%\n",
      "1/1 [==============================] - 0s 35ms/step\n",
      "White Percentage: 1.65%\n",
      "1/1 [==============================] - 0s 37ms/step\n"
     ]
    },
    {
     "name": "stderr",
     "output_type": "stream",
     "text": [
      "video 1/1 (79/901) D:\\815_CowDataChecking\\Honkawa\\2023-07-31\\03\\output_3fps\\20230731-030500-031000_10fps_3fps.mp4: 384x640 3 cows, 38.5ms\n",
      "WARNING  'Masks.masks' is deprecated. Use 'Masks.data' instead.\n"
     ]
    },
    {
     "name": "stdout",
     "output_type": "stream",
     "text": [
      "White Percentage: 18.77%\n",
      "1/1 [==============================] - 0s 43ms/step\n",
      "White Percentage: 1.65%\n",
      "1/1 [==============================] - 0s 45ms/step\n"
     ]
    },
    {
     "name": "stderr",
     "output_type": "stream",
     "text": [
      "video 1/1 (80/901) D:\\815_CowDataChecking\\Honkawa\\2023-07-31\\03\\output_3fps\\20230731-030500-031000_10fps_3fps.mp4: 384x640 3 cows, 21.0ms\n",
      "WARNING  'Masks.masks' is deprecated. Use 'Masks.data' instead.\n"
     ]
    },
    {
     "name": "stdout",
     "output_type": "stream",
     "text": [
      "White Percentage: 18.42%\n",
      "1/1 [==============================] - 0s 36ms/step\n",
      "White Percentage: 1.60%\n",
      "1/1 [==============================] - 0s 36ms/step\n"
     ]
    },
    {
     "name": "stderr",
     "output_type": "stream",
     "text": [
      "video 1/1 (81/901) D:\\815_CowDataChecking\\Honkawa\\2023-07-31\\03\\output_3fps\\20230731-030500-031000_10fps_3fps.mp4: 384x640 3 cows, 27.5ms\n",
      "WARNING  'Masks.masks' is deprecated. Use 'Masks.data' instead.\n"
     ]
    },
    {
     "name": "stdout",
     "output_type": "stream",
     "text": [
      "White Percentage: 18.35%\n",
      "1/1 [==============================] - 0s 36ms/step\n",
      "White Percentage: 1.51%\n",
      "1/1 [==============================] - 0s 36ms/step\n"
     ]
    },
    {
     "name": "stderr",
     "output_type": "stream",
     "text": [
      "video 1/1 (82/901) D:\\815_CowDataChecking\\Honkawa\\2023-07-31\\03\\output_3fps\\20230731-030500-031000_10fps_3fps.mp4: 384x640 3 cows, 27.5ms\n",
      "WARNING  'Masks.masks' is deprecated. Use 'Masks.data' instead.\n"
     ]
    },
    {
     "name": "stdout",
     "output_type": "stream",
     "text": [
      "White Percentage: 18.10%\n",
      "1/1 [==============================] - 0s 35ms/step\n",
      "White Percentage: 1.55%\n",
      "1/1 [==============================] - 0s 36ms/step\n"
     ]
    },
    {
     "name": "stderr",
     "output_type": "stream",
     "text": [
      "video 1/1 (83/901) D:\\815_CowDataChecking\\Honkawa\\2023-07-31\\03\\output_3fps\\20230731-030500-031000_10fps_3fps.mp4: 384x640 3 cows, 44.0ms\n",
      "WARNING  'Masks.masks' is deprecated. Use 'Masks.data' instead.\n"
     ]
    },
    {
     "name": "stdout",
     "output_type": "stream",
     "text": [
      "White Percentage: 19.28%\n",
      "1/1 [==============================] - 0s 37ms/step\n",
      "White Percentage: 1.65%\n",
      "1/1 [==============================] - 0s 37ms/step\n"
     ]
    },
    {
     "name": "stderr",
     "output_type": "stream",
     "text": [
      "video 1/1 (84/901) D:\\815_CowDataChecking\\Honkawa\\2023-07-31\\03\\output_3fps\\20230731-030500-031000_10fps_3fps.mp4: 384x640 3 cows, 36.0ms\n",
      "WARNING  'Masks.masks' is deprecated. Use 'Masks.data' instead.\n"
     ]
    },
    {
     "name": "stdout",
     "output_type": "stream",
     "text": [
      "White Percentage: 19.01%\n",
      "1/1 [==============================] - 0s 39ms/step\n",
      "White Percentage: 1.59%\n",
      "1/1 [==============================] - 0s 41ms/step\n"
     ]
    },
    {
     "name": "stderr",
     "output_type": "stream",
     "text": [
      "video 1/1 (85/901) D:\\815_CowDataChecking\\Honkawa\\2023-07-31\\03\\output_3fps\\20230731-030500-031000_10fps_3fps.mp4: 384x640 3 cows, 26.2ms\n",
      "WARNING  'Masks.masks' is deprecated. Use 'Masks.data' instead.\n"
     ]
    },
    {
     "name": "stdout",
     "output_type": "stream",
     "text": [
      "White Percentage: 18.63%\n",
      "1/1 [==============================] - 0s 42ms/step\n",
      "White Percentage: 1.43%\n",
      "1/1 [==============================] - 0s 38ms/step\n"
     ]
    },
    {
     "name": "stderr",
     "output_type": "stream",
     "text": [
      "video 1/1 (86/901) D:\\815_CowDataChecking\\Honkawa\\2023-07-31\\03\\output_3fps\\20230731-030500-031000_10fps_3fps.mp4: 384x640 4 cows, 33.5ms\n",
      "WARNING  'Masks.masks' is deprecated. Use 'Masks.data' instead.\n"
     ]
    },
    {
     "name": "stdout",
     "output_type": "stream",
     "text": [
      "White Percentage: 18.21%\n",
      "1/1 [==============================] - 0s 35ms/step\n",
      "White Percentage: 1.39%\n",
      "1/1 [==============================] - 0s 34ms/step\n"
     ]
    },
    {
     "name": "stderr",
     "output_type": "stream",
     "text": [
      "video 1/1 (87/901) D:\\815_CowDataChecking\\Honkawa\\2023-07-31\\03\\output_3fps\\20230731-030500-031000_10fps_3fps.mp4: 384x640 3 cows, 25.5ms\n",
      "WARNING  'Masks.masks' is deprecated. Use 'Masks.data' instead.\n"
     ]
    },
    {
     "name": "stdout",
     "output_type": "stream",
     "text": [
      "White Percentage: 17.96%\n",
      "1/1 [==============================] - 0s 37ms/step\n",
      "White Percentage: 1.45%\n",
      "1/1 [==============================] - 0s 44ms/step\n"
     ]
    },
    {
     "name": "stderr",
     "output_type": "stream",
     "text": [
      "video 1/1 (88/901) D:\\815_CowDataChecking\\Honkawa\\2023-07-31\\03\\output_3fps\\20230731-030500-031000_10fps_3fps.mp4: 384x640 3 cows, 37.0ms\n",
      "WARNING  'Masks.masks' is deprecated. Use 'Masks.data' instead.\n"
     ]
    },
    {
     "name": "stdout",
     "output_type": "stream",
     "text": [
      "White Percentage: 18.68%\n",
      "1/1 [==============================] - 0s 35ms/step\n",
      "White Percentage: 1.47%\n",
      "1/1 [==============================] - 0s 39ms/step\n"
     ]
    },
    {
     "name": "stderr",
     "output_type": "stream",
     "text": [
      "video 1/1 (89/901) D:\\815_CowDataChecking\\Honkawa\\2023-07-31\\03\\output_3fps\\20230731-030500-031000_10fps_3fps.mp4: 384x640 3 cows, 26.0ms\n",
      "WARNING  'Masks.masks' is deprecated. Use 'Masks.data' instead.\n"
     ]
    },
    {
     "name": "stdout",
     "output_type": "stream",
     "text": [
      "White Percentage: 18.22%\n",
      "1/1 [==============================] - 0s 48ms/step\n",
      "White Percentage: 1.40%\n",
      "1/1 [==============================] - 0s 35ms/step\n"
     ]
    },
    {
     "name": "stderr",
     "output_type": "stream",
     "text": [
      "video 1/1 (90/901) D:\\815_CowDataChecking\\Honkawa\\2023-07-31\\03\\output_3fps\\20230731-030500-031000_10fps_3fps.mp4: 384x640 3 cows, 36.5ms\n",
      "WARNING  'Masks.masks' is deprecated. Use 'Masks.data' instead.\n"
     ]
    },
    {
     "name": "stdout",
     "output_type": "stream",
     "text": [
      "White Percentage: 17.83%\n",
      "1/1 [==============================] - 0s 37ms/step\n",
      "White Percentage: 1.50%\n",
      "1/1 [==============================] - 0s 42ms/step\n"
     ]
    },
    {
     "name": "stderr",
     "output_type": "stream",
     "text": [
      "video 1/1 (91/901) D:\\815_CowDataChecking\\Honkawa\\2023-07-31\\03\\output_3fps\\20230731-030500-031000_10fps_3fps.mp4: 384x640 4 cows, 30.0ms\n",
      "WARNING  'Masks.masks' is deprecated. Use 'Masks.data' instead.\n"
     ]
    },
    {
     "name": "stdout",
     "output_type": "stream",
     "text": [
      "White Percentage: 17.73%\n",
      "1/1 [==============================] - 0s 36ms/step\n",
      "White Percentage: 2.14%\n",
      "1/1 [==============================] - 0s 37ms/step\n"
     ]
    },
    {
     "name": "stderr",
     "output_type": "stream",
     "text": [
      "video 1/1 (92/901) D:\\815_CowDataChecking\\Honkawa\\2023-07-31\\03\\output_3fps\\20230731-030500-031000_10fps_3fps.mp4: 384x640 3 cows, 32.0ms\n",
      "WARNING  'Masks.masks' is deprecated. Use 'Masks.data' instead.\n"
     ]
    },
    {
     "name": "stdout",
     "output_type": "stream",
     "text": [
      "White Percentage: 18.05%\n",
      "1/1 [==============================] - 0s 38ms/step\n",
      "White Percentage: 2.20%\n",
      "1/1 [==============================] - 0s 35ms/step\n"
     ]
    },
    {
     "name": "stderr",
     "output_type": "stream",
     "text": [
      "video 1/1 (93/901) D:\\815_CowDataChecking\\Honkawa\\2023-07-31\\03\\output_3fps\\20230731-030500-031000_10fps_3fps.mp4: 384x640 4 cows, 32.0ms\n",
      "WARNING  'Masks.masks' is deprecated. Use 'Masks.data' instead.\n"
     ]
    },
    {
     "name": "stdout",
     "output_type": "stream",
     "text": [
      "White Percentage: 18.75%\n",
      "1/1 [==============================] - 0s 36ms/step\n",
      "White Percentage: 1.96%\n",
      "1/1 [==============================] - 0s 42ms/step\n"
     ]
    },
    {
     "name": "stderr",
     "output_type": "stream",
     "text": [
      "video 1/1 (94/901) D:\\815_CowDataChecking\\Honkawa\\2023-07-31\\03\\output_3fps\\20230731-030500-031000_10fps_3fps.mp4: 384x640 3 cows, 28.7ms\n",
      "WARNING  'Masks.masks' is deprecated. Use 'Masks.data' instead.\n"
     ]
    },
    {
     "name": "stdout",
     "output_type": "stream",
     "text": [
      "White Percentage: 18.64%\n",
      "1/1 [==============================] - 0s 35ms/step\n",
      "White Percentage: 2.13%\n",
      "1/1 [==============================] - 0s 35ms/step\n"
     ]
    },
    {
     "name": "stderr",
     "output_type": "stream",
     "text": [
      "video 1/1 (95/901) D:\\815_CowDataChecking\\Honkawa\\2023-07-31\\03\\output_3fps\\20230731-030500-031000_10fps_3fps.mp4: 384x640 3 cows, 33.5ms\n",
      "WARNING  'Masks.masks' is deprecated. Use 'Masks.data' instead.\n"
     ]
    },
    {
     "name": "stdout",
     "output_type": "stream",
     "text": [
      "White Percentage: 18.86%\n",
      "1/1 [==============================] - 0s 35ms/step\n",
      "White Percentage: 1.67%\n",
      "1/1 [==============================] - 0s 36ms/step\n"
     ]
    },
    {
     "name": "stderr",
     "output_type": "stream",
     "text": [
      "video 1/1 (96/901) D:\\815_CowDataChecking\\Honkawa\\2023-07-31\\03\\output_3fps\\20230731-030500-031000_10fps_3fps.mp4: 384x640 3 cows, 27.0ms\n",
      "WARNING  'Masks.masks' is deprecated. Use 'Masks.data' instead.\n"
     ]
    },
    {
     "name": "stdout",
     "output_type": "stream",
     "text": [
      "White Percentage: 19.83%\n",
      "1/1 [==============================] - 0s 36ms/step\n",
      "White Percentage: 1.61%\n",
      "1/1 [==============================] - 0s 36ms/step\n"
     ]
    },
    {
     "name": "stderr",
     "output_type": "stream",
     "text": [
      "video 1/1 (97/901) D:\\815_CowDataChecking\\Honkawa\\2023-07-31\\03\\output_3fps\\20230731-030500-031000_10fps_3fps.mp4: 384x640 3 cows, 26.0ms\n",
      "WARNING  'Masks.masks' is deprecated. Use 'Masks.data' instead.\n"
     ]
    },
    {
     "name": "stdout",
     "output_type": "stream",
     "text": [
      "White Percentage: 18.25%\n",
      "1/1 [==============================] - 0s 35ms/step\n",
      "White Percentage: 1.31%\n",
      "1/1 [==============================] - 0s 35ms/step\n"
     ]
    },
    {
     "name": "stderr",
     "output_type": "stream",
     "text": [
      "video 1/1 (98/901) D:\\815_CowDataChecking\\Honkawa\\2023-07-31\\03\\output_3fps\\20230731-030500-031000_10fps_3fps.mp4: 384x640 3 cows, 26.5ms\n",
      "WARNING  'Masks.masks' is deprecated. Use 'Masks.data' instead.\n"
     ]
    },
    {
     "name": "stdout",
     "output_type": "stream",
     "text": [
      "White Percentage: 19.06%\n",
      "1/1 [==============================] - 0s 36ms/step\n",
      "White Percentage: 1.27%\n",
      "1/1 [==============================] - 0s 37ms/step\n"
     ]
    },
    {
     "name": "stderr",
     "output_type": "stream",
     "text": [
      "video 1/1 (99/901) D:\\815_CowDataChecking\\Honkawa\\2023-07-31\\03\\output_3fps\\20230731-030500-031000_10fps_3fps.mp4: 384x640 3 cows, 26.0ms\n",
      "WARNING  'Masks.masks' is deprecated. Use 'Masks.data' instead.\n"
     ]
    },
    {
     "name": "stdout",
     "output_type": "stream",
     "text": [
      "White Percentage: 18.46%\n",
      "1/1 [==============================] - 0s 35ms/step\n",
      "White Percentage: 1.25%\n",
      "1/1 [==============================] - 0s 37ms/step\n"
     ]
    },
    {
     "name": "stderr",
     "output_type": "stream",
     "text": [
      "video 1/1 (100/901) D:\\815_CowDataChecking\\Honkawa\\2023-07-31\\03\\output_3fps\\20230731-030500-031000_10fps_3fps.mp4: 384x640 3 cows, 35.5ms\n",
      "WARNING  'Masks.masks' is deprecated. Use 'Masks.data' instead.\n"
     ]
    },
    {
     "name": "stdout",
     "output_type": "stream",
     "text": [
      "White Percentage: 18.02%\n",
      "1/1 [==============================] - 0s 38ms/step\n",
      "White Percentage: 1.22%\n",
      "1/1 [==============================] - 0s 35ms/step\n"
     ]
    },
    {
     "name": "stderr",
     "output_type": "stream",
     "text": [
      "video 1/1 (101/901) D:\\815_CowDataChecking\\Honkawa\\2023-07-31\\03\\output_3fps\\20230731-030500-031000_10fps_3fps.mp4: 384x640 4 cows, 26.0ms\n",
      "WARNING  'Masks.masks' is deprecated. Use 'Masks.data' instead.\n"
     ]
    },
    {
     "name": "stdout",
     "output_type": "stream",
     "text": [
      "White Percentage: 18.57%\n",
      "1/1 [==============================] - 0s 39ms/step\n",
      "White Percentage: 1.23%\n",
      "1/1 [==============================] - 0s 40ms/step\n"
     ]
    },
    {
     "name": "stderr",
     "output_type": "stream",
     "text": [
      "video 1/1 (102/901) D:\\815_CowDataChecking\\Honkawa\\2023-07-31\\03\\output_3fps\\20230731-030500-031000_10fps_3fps.mp4: 384x640 4 cows, 29.0ms\n",
      "WARNING  'Masks.masks' is deprecated. Use 'Masks.data' instead.\n"
     ]
    },
    {
     "name": "stdout",
     "output_type": "stream",
     "text": [
      "White Percentage: 18.94%\n",
      "1/1 [==============================] - 0s 36ms/step\n",
      "White Percentage: 1.09%\n",
      "1/1 [==============================] - 0s 36ms/step\n"
     ]
    },
    {
     "name": "stderr",
     "output_type": "stream",
     "text": [
      "video 1/1 (103/901) D:\\815_CowDataChecking\\Honkawa\\2023-07-31\\03\\output_3fps\\20230731-030500-031000_10fps_3fps.mp4: 384x640 4 cows, 33.0ms\n",
      "WARNING  'Masks.masks' is deprecated. Use 'Masks.data' instead.\n"
     ]
    },
    {
     "name": "stdout",
     "output_type": "stream",
     "text": [
      "White Percentage: 18.72%\n",
      "1/1 [==============================] - 0s 36ms/step\n",
      "White Percentage: 1.19%\n",
      "1/1 [==============================] - 0s 36ms/step\n"
     ]
    },
    {
     "name": "stderr",
     "output_type": "stream",
     "text": [
      "video 1/1 (104/901) D:\\815_CowDataChecking\\Honkawa\\2023-07-31\\03\\output_3fps\\20230731-030500-031000_10fps_3fps.mp4: 384x640 4 cows, 30.0ms\n",
      "WARNING  'Masks.masks' is deprecated. Use 'Masks.data' instead.\n"
     ]
    },
    {
     "name": "stdout",
     "output_type": "stream",
     "text": [
      "White Percentage: 18.73%\n",
      "1/1 [==============================] - 0s 36ms/step\n",
      "White Percentage: 1.13%\n",
      "1/1 [==============================] - 0s 35ms/step\n",
      "White Percentage: 19.13%\n",
      "1/1 [==============================] - 0s 37ms/step\n"
     ]
    },
    {
     "name": "stderr",
     "output_type": "stream",
     "text": [
      "video 1/1 (105/901) D:\\815_CowDataChecking\\Honkawa\\2023-07-31\\03\\output_3fps\\20230731-030500-031000_10fps_3fps.mp4: 384x640 4 cows, 26.6ms\n",
      "WARNING  'Masks.masks' is deprecated. Use 'Masks.data' instead.\n"
     ]
    },
    {
     "name": "stdout",
     "output_type": "stream",
     "text": [
      "White Percentage: 7.64%\n",
      "[['ID', 'RANK1', 'RANK1_prob', 'RANK2', 'RANK2_prob', 'RANK3', 'RANK3_prob', 'RANK4', 'RANK4_prob', 'RANK5', 'RANK5_prob']]\n",
      "new cattle  xxxxxxxxxxxxxxxxxxxxx new cattle alert \n",
      "1/1 [==============================] - 0s 39ms/step\n",
      "White Percentage: 1.10%\n",
      "1/1 [==============================] - 0s 35ms/step\n",
      "White Percentage: 19.36%\n",
      "1/1 [==============================] - 0s 35ms/step\n"
     ]
    },
    {
     "name": "stderr",
     "output_type": "stream",
     "text": [
      "video 1/1 (106/901) D:\\815_CowDataChecking\\Honkawa\\2023-07-31\\03\\output_3fps\\20230731-030500-031000_10fps_3fps.mp4: 384x640 4 cows, 29.0ms\n",
      "WARNING  'Masks.masks' is deprecated. Use 'Masks.data' instead.\n"
     ]
    },
    {
     "name": "stdout",
     "output_type": "stream",
     "text": [
      "White Percentage: 8.02%\n",
      "1/1 [==============================] - 0s 36ms/step\n",
      "White Percentage: 1.08%\n",
      "1/1 [==============================] - 0s 35ms/step\n",
      "White Percentage: 19.20%\n",
      "1/1 [==============================] - 0s 33ms/step\n"
     ]
    },
    {
     "name": "stderr",
     "output_type": "stream",
     "text": [
      "video 1/1 (107/901) D:\\815_CowDataChecking\\Honkawa\\2023-07-31\\03\\output_3fps\\20230731-030500-031000_10fps_3fps.mp4: 384x640 4 cows, 33.5ms\n",
      "WARNING  'Masks.masks' is deprecated. Use 'Masks.data' instead.\n"
     ]
    },
    {
     "name": "stdout",
     "output_type": "stream",
     "text": [
      "White Percentage: 8.00%\n",
      "1/1 [==============================] - 0s 35ms/step\n",
      "White Percentage: 1.08%\n",
      "1/1 [==============================] - 0s 34ms/step\n",
      "White Percentage: 19.60%\n",
      "1/1 [==============================] - 0s 36ms/step\n"
     ]
    },
    {
     "name": "stderr",
     "output_type": "stream",
     "text": [
      "video 1/1 (108/901) D:\\815_CowDataChecking\\Honkawa\\2023-07-31\\03\\output_3fps\\20230731-030500-031000_10fps_3fps.mp4: 384x640 4 cows, 29.0ms\n",
      "WARNING  'Masks.masks' is deprecated. Use 'Masks.data' instead.\n"
     ]
    },
    {
     "name": "stdout",
     "output_type": "stream",
     "text": [
      "White Percentage: 8.14%\n",
      "1/1 [==============================] - 0s 35ms/step\n",
      "White Percentage: 1.12%\n",
      "1/1 [==============================] - 0s 34ms/step\n",
      "White Percentage: 19.44%\n",
      "1/1 [==============================] - 0s 38ms/step\n"
     ]
    },
    {
     "name": "stderr",
     "output_type": "stream",
     "text": [
      "video 1/1 (109/901) D:\\815_CowDataChecking\\Honkawa\\2023-07-31\\03\\output_3fps\\20230731-030500-031000_10fps_3fps.mp4: 384x640 4 cows, 26.0ms\n",
      "WARNING  'Masks.masks' is deprecated. Use 'Masks.data' instead.\n"
     ]
    },
    {
     "name": "stdout",
     "output_type": "stream",
     "text": [
      "White Percentage: 8.43%\n",
      "1/1 [==============================] - 0s 34ms/step\n",
      "White Percentage: 1.03%\n",
      "1/1 [==============================] - 0s 33ms/step\n",
      "White Percentage: 20.04%\n",
      "1/1 [==============================] - 0s 39ms/step\n"
     ]
    },
    {
     "name": "stderr",
     "output_type": "stream",
     "text": [
      "video 1/1 (110/901) D:\\815_CowDataChecking\\Honkawa\\2023-07-31\\03\\output_3fps\\20230731-030500-031000_10fps_3fps.mp4: 384x640 4 cows, 28.9ms\n",
      "WARNING  'Masks.masks' is deprecated. Use 'Masks.data' instead.\n"
     ]
    },
    {
     "name": "stdout",
     "output_type": "stream",
     "text": [
      "White Percentage: 8.36%\n",
      "1/1 [==============================] - 0s 34ms/step\n",
      "White Percentage: 0.92%\n",
      "1/1 [==============================] - 0s 33ms/step\n",
      "White Percentage: 19.95%\n",
      "1/1 [==============================] - 0s 33ms/step\n"
     ]
    },
    {
     "name": "stderr",
     "output_type": "stream",
     "text": [
      "video 1/1 (111/901) D:\\815_CowDataChecking\\Honkawa\\2023-07-31\\03\\output_3fps\\20230731-030500-031000_10fps_3fps.mp4: 384x640 4 cows, 29.0ms\n",
      "WARNING  'Masks.masks' is deprecated. Use 'Masks.data' instead.\n"
     ]
    },
    {
     "name": "stdout",
     "output_type": "stream",
     "text": [
      "White Percentage: 8.18%\n",
      "1/1 [==============================] - 0s 34ms/step\n",
      "White Percentage: 0.91%\n",
      "1/1 [==============================] - 0s 34ms/step\n",
      "White Percentage: 19.33%\n",
      "1/1 [==============================] - 0s 33ms/step\n"
     ]
    },
    {
     "name": "stderr",
     "output_type": "stream",
     "text": [
      "video 1/1 (112/901) D:\\815_CowDataChecking\\Honkawa\\2023-07-31\\03\\output_3fps\\20230731-030500-031000_10fps_3fps.mp4: 384x640 4 cows, 27.0ms\n",
      "WARNING  'Masks.masks' is deprecated. Use 'Masks.data' instead.\n"
     ]
    },
    {
     "name": "stdout",
     "output_type": "stream",
     "text": [
      "White Percentage: 8.62%\n",
      "1/1 [==============================] - 0s 37ms/step\n",
      "White Percentage: 0.97%\n",
      "1/1 [==============================] - 0s 34ms/step\n",
      "White Percentage: 19.93%\n",
      "1/1 [==============================] - 0s 33ms/step\n"
     ]
    },
    {
     "name": "stderr",
     "output_type": "stream",
     "text": [
      "video 1/1 (113/901) D:\\815_CowDataChecking\\Honkawa\\2023-07-31\\03\\output_3fps\\20230731-030500-031000_10fps_3fps.mp4: 384x640 4 cows, 25.0ms\n",
      "WARNING  'Masks.masks' is deprecated. Use 'Masks.data' instead.\n"
     ]
    },
    {
     "name": "stdout",
     "output_type": "stream",
     "text": [
      "White Percentage: 8.32%\n",
      "1/1 [==============================] - 0s 38ms/step\n",
      "White Percentage: 0.91%\n",
      "1/1 [==============================] - 0s 35ms/step\n",
      "White Percentage: 20.12%\n",
      "1/1 [==============================] - 0s 33ms/step\n"
     ]
    },
    {
     "name": "stderr",
     "output_type": "stream",
     "text": [
      "video 1/1 (114/901) D:\\815_CowDataChecking\\Honkawa\\2023-07-31\\03\\output_3fps\\20230731-030500-031000_10fps_3fps.mp4: 384x640 4 cows, 36.0ms\n",
      "WARNING  'Masks.masks' is deprecated. Use 'Masks.data' instead.\n"
     ]
    },
    {
     "name": "stdout",
     "output_type": "stream",
     "text": [
      "White Percentage: 8.48%\n",
      "1/1 [==============================] - 0s 35ms/step\n",
      "White Percentage: 1.00%\n",
      "1/1 [==============================] - 0s 35ms/step\n",
      "White Percentage: 19.95%\n",
      "1/1 [==============================] - 0s 33ms/step\n"
     ]
    },
    {
     "name": "stderr",
     "output_type": "stream",
     "text": [
      "video 1/1 (115/901) D:\\815_CowDataChecking\\Honkawa\\2023-07-31\\03\\output_3fps\\20230731-030500-031000_10fps_3fps.mp4: 384x640 4 cows, 27.5ms\n",
      "WARNING  'Masks.masks' is deprecated. Use 'Masks.data' instead.\n"
     ]
    },
    {
     "name": "stdout",
     "output_type": "stream",
     "text": [
      "White Percentage: 8.88%\n",
      "1/1 [==============================] - 0s 34ms/step\n",
      "White Percentage: 1.00%\n",
      "1/1 [==============================] - 0s 38ms/step\n",
      "White Percentage: 19.53%\n",
      "1/1 [==============================] - 0s 37ms/step\n"
     ]
    },
    {
     "name": "stderr",
     "output_type": "stream",
     "text": [
      "video 1/1 (116/901) D:\\815_CowDataChecking\\Honkawa\\2023-07-31\\03\\output_3fps\\20230731-030500-031000_10fps_3fps.mp4: 384x640 4 cows, 34.0ms\n",
      "WARNING  'Masks.masks' is deprecated. Use 'Masks.data' instead.\n"
     ]
    },
    {
     "name": "stdout",
     "output_type": "stream",
     "text": [
      "White Percentage: 8.98%\n",
      "1/1 [==============================] - 0s 36ms/step\n",
      "White Percentage: 0.95%\n",
      "1/1 [==============================] - 0s 34ms/step\n",
      "White Percentage: 19.74%\n",
      "1/1 [==============================] - 0s 33ms/step\n"
     ]
    },
    {
     "name": "stderr",
     "output_type": "stream",
     "text": [
      "video 1/1 (117/901) D:\\815_CowDataChecking\\Honkawa\\2023-07-31\\03\\output_3fps\\20230731-030500-031000_10fps_3fps.mp4: 384x640 4 cows, 27.5ms\n",
      "WARNING  'Masks.masks' is deprecated. Use 'Masks.data' instead.\n"
     ]
    },
    {
     "name": "stdout",
     "output_type": "stream",
     "text": [
      "White Percentage: 8.95%\n",
      "1/1 [==============================] - 0s 39ms/step\n",
      "White Percentage: 0.82%\n",
      "1/1 [==============================] - 0s 33ms/step\n",
      "White Percentage: 20.46%\n",
      "1/1 [==============================] - 0s 35ms/step\n"
     ]
    },
    {
     "name": "stderr",
     "output_type": "stream",
     "text": [
      "video 1/1 (118/901) D:\\815_CowDataChecking\\Honkawa\\2023-07-31\\03\\output_3fps\\20230731-030500-031000_10fps_3fps.mp4: 384x640 4 cows, 29.0ms\n",
      "WARNING  'Masks.masks' is deprecated. Use 'Masks.data' instead.\n"
     ]
    },
    {
     "name": "stdout",
     "output_type": "stream",
     "text": [
      "White Percentage: 9.27%\n",
      "1/1 [==============================] - 0s 33ms/step\n",
      "White Percentage: 0.96%\n",
      "1/1 [==============================] - 0s 39ms/step\n",
      "White Percentage: 20.46%\n",
      "1/1 [==============================] - 0s 33ms/step\n"
     ]
    },
    {
     "name": "stderr",
     "output_type": "stream",
     "text": [
      "video 1/1 (119/901) D:\\815_CowDataChecking\\Honkawa\\2023-07-31\\03\\output_3fps\\20230731-030500-031000_10fps_3fps.mp4: 384x640 4 cows, 26.0ms\n",
      "WARNING  'Masks.masks' is deprecated. Use 'Masks.data' instead.\n"
     ]
    },
    {
     "name": "stdout",
     "output_type": "stream",
     "text": [
      "White Percentage: 9.89%\n",
      "1/1 [==============================] - 0s 36ms/step\n",
      "White Percentage: 0.94%\n",
      "1/1 [==============================] - 0s 39ms/step\n",
      "White Percentage: 20.08%\n",
      "1/1 [==============================] - 0s 33ms/step\n"
     ]
    },
    {
     "name": "stderr",
     "output_type": "stream",
     "text": [
      "video 1/1 (120/901) D:\\815_CowDataChecking\\Honkawa\\2023-07-31\\03\\output_3fps\\20230731-030500-031000_10fps_3fps.mp4: 384x640 4 cows, 27.0ms\n",
      "WARNING  'Masks.masks' is deprecated. Use 'Masks.data' instead.\n"
     ]
    },
    {
     "name": "stdout",
     "output_type": "stream",
     "text": [
      "White Percentage: 9.22%\n",
      "1/1 [==============================] - 0s 34ms/step\n",
      "White Percentage: 0.96%\n",
      "1/1 [==============================] - 0s 35ms/step\n",
      "White Percentage: 19.28%\n",
      "1/1 [==============================] - 0s 32ms/step\n"
     ]
    },
    {
     "name": "stderr",
     "output_type": "stream",
     "text": [
      "video 1/1 (121/901) D:\\815_CowDataChecking\\Honkawa\\2023-07-31\\03\\output_3fps\\20230731-030500-031000_10fps_3fps.mp4: 384x640 4 cows, 29.0ms\n",
      "WARNING  'Masks.masks' is deprecated. Use 'Masks.data' instead.\n"
     ]
    },
    {
     "name": "stdout",
     "output_type": "stream",
     "text": [
      "White Percentage: 9.81%\n",
      "1/1 [==============================] - 0s 39ms/step\n",
      "White Percentage: 1.05%\n",
      "1/1 [==============================] - 0s 34ms/step\n",
      "White Percentage: 18.65%\n",
      "1/1 [==============================] - 0s 36ms/step\n"
     ]
    },
    {
     "name": "stderr",
     "output_type": "stream",
     "text": [
      "video 1/1 (122/901) D:\\815_CowDataChecking\\Honkawa\\2023-07-31\\03\\output_3fps\\20230731-030500-031000_10fps_3fps.mp4: 384x640 4 cows, 34.0ms\n",
      "WARNING  'Masks.masks' is deprecated. Use 'Masks.data' instead.\n"
     ]
    },
    {
     "name": "stdout",
     "output_type": "stream",
     "text": [
      "White Percentage: 10.30%\n",
      "1/1 [==============================] - 0s 33ms/step\n",
      "White Percentage: 1.00%\n",
      "1/1 [==============================] - 0s 43ms/step\n",
      "White Percentage: 17.39%\n",
      "1/1 [==============================] - 0s 34ms/step\n"
     ]
    },
    {
     "name": "stderr",
     "output_type": "stream",
     "text": [
      "video 1/1 (123/901) D:\\815_CowDataChecking\\Honkawa\\2023-07-31\\03\\output_3fps\\20230731-030500-031000_10fps_3fps.mp4: 384x640 4 cows, 34.0ms\n",
      "WARNING  'Masks.masks' is deprecated. Use 'Masks.data' instead.\n"
     ]
    },
    {
     "name": "stdout",
     "output_type": "stream",
     "text": [
      "White Percentage: 10.39%\n",
      "1/1 [==============================] - 0s 34ms/step\n",
      "White Percentage: 0.89%\n",
      "1/1 [==============================] - 0s 34ms/step\n",
      "White Percentage: 16.43%\n",
      "1/1 [==============================] - 0s 33ms/step\n"
     ]
    },
    {
     "name": "stderr",
     "output_type": "stream",
     "text": [
      "video 1/1 (124/901) D:\\815_CowDataChecking\\Honkawa\\2023-07-31\\03\\output_3fps\\20230731-030500-031000_10fps_3fps.mp4: 384x640 4 cows, 26.0ms\n",
      "WARNING  'Masks.masks' is deprecated. Use 'Masks.data' instead.\n"
     ]
    },
    {
     "name": "stdout",
     "output_type": "stream",
     "text": [
      "White Percentage: 10.32%\n",
      "1/1 [==============================] - 0s 33ms/step\n",
      "White Percentage: 0.97%\n",
      "1/1 [==============================] - 0s 33ms/step\n",
      "White Percentage: 15.23%\n",
      "1/1 [==============================] - 0s 37ms/step\n"
     ]
    },
    {
     "name": "stderr",
     "output_type": "stream",
     "text": [
      "video 1/1 (125/901) D:\\815_CowDataChecking\\Honkawa\\2023-07-31\\03\\output_3fps\\20230731-030500-031000_10fps_3fps.mp4: 384x640 4 cows, 28.0ms\n",
      "WARNING  'Masks.masks' is deprecated. Use 'Masks.data' instead.\n"
     ]
    },
    {
     "name": "stdout",
     "output_type": "stream",
     "text": [
      "White Percentage: 10.01%\n",
      "1/1 [==============================] - 0s 33ms/step\n",
      "White Percentage: 0.83%\n",
      "1/1 [==============================] - 0s 40ms/step\n",
      "White Percentage: 13.46%\n",
      "1/1 [==============================] - 0s 36ms/step\n"
     ]
    },
    {
     "name": "stderr",
     "output_type": "stream",
     "text": [
      "video 1/1 (126/901) D:\\815_CowDataChecking\\Honkawa\\2023-07-31\\03\\output_3fps\\20230731-030500-031000_10fps_3fps.mp4: 384x640 4 cows, 26.5ms\n",
      "WARNING  'Masks.masks' is deprecated. Use 'Masks.data' instead.\n"
     ]
    },
    {
     "name": "stdout",
     "output_type": "stream",
     "text": [
      "White Percentage: 10.55%\n",
      "1/1 [==============================] - 0s 33ms/step\n",
      "White Percentage: 0.81%\n",
      "1/1 [==============================] - 0s 42ms/step\n",
      "White Percentage: 11.52%\n",
      "1/1 [==============================] - 0s 38ms/step\n"
     ]
    },
    {
     "name": "stderr",
     "output_type": "stream",
     "text": [
      "video 1/1 (127/901) D:\\815_CowDataChecking\\Honkawa\\2023-07-31\\03\\output_3fps\\20230731-030500-031000_10fps_3fps.mp4: 384x640 4 cows, 32.5ms\n",
      "WARNING  'Masks.masks' is deprecated. Use 'Masks.data' instead.\n"
     ]
    },
    {
     "name": "stdout",
     "output_type": "stream",
     "text": [
      "White Percentage: 10.64%\n",
      "1/1 [==============================] - 0s 33ms/step\n",
      "White Percentage: 1.02%\n",
      "1/1 [==============================] - 0s 34ms/step\n",
      "White Percentage: 11.69%\n",
      "1/1 [==============================] - 0s 33ms/step\n"
     ]
    },
    {
     "name": "stderr",
     "output_type": "stream",
     "text": [
      "video 1/1 (128/901) D:\\815_CowDataChecking\\Honkawa\\2023-07-31\\03\\output_3fps\\20230731-030500-031000_10fps_3fps.mp4: 384x640 4 cows, 27.5ms\n",
      "WARNING  'Masks.masks' is deprecated. Use 'Masks.data' instead.\n"
     ]
    },
    {
     "name": "stdout",
     "output_type": "stream",
     "text": [
      "White Percentage: 10.59%\n",
      "1/1 [==============================] - 0s 34ms/step\n",
      "White Percentage: 0.84%\n",
      "1/1 [==============================] - 0s 34ms/step\n",
      "White Percentage: 12.21%\n",
      "1/1 [==============================] - 0s 34ms/step\n"
     ]
    },
    {
     "name": "stderr",
     "output_type": "stream",
     "text": [
      "video 1/1 (129/901) D:\\815_CowDataChecking\\Honkawa\\2023-07-31\\03\\output_3fps\\20230731-030500-031000_10fps_3fps.mp4: 384x640 4 cows, 25.9ms\n",
      "WARNING  'Masks.masks' is deprecated. Use 'Masks.data' instead.\n"
     ]
    },
    {
     "name": "stdout",
     "output_type": "stream",
     "text": [
      "White Percentage: 10.18%\n",
      "1/1 [==============================] - 0s 33ms/step\n",
      "White Percentage: 0.69%\n",
      "1/1 [==============================] - 0s 37ms/step\n",
      "White Percentage: 16.01%\n",
      "1/1 [==============================] - 0s 35ms/step\n"
     ]
    },
    {
     "name": "stderr",
     "output_type": "stream",
     "text": [
      "video 1/1 (130/901) D:\\815_CowDataChecking\\Honkawa\\2023-07-31\\03\\output_3fps\\20230731-030500-031000_10fps_3fps.mp4: 384x640 5 cows, 38.0ms\n",
      "WARNING  'Masks.masks' is deprecated. Use 'Masks.data' instead.\n"
     ]
    },
    {
     "name": "stdout",
     "output_type": "stream",
     "text": [
      "White Percentage: 10.66%\n",
      "1/1 [==============================] - 0s 33ms/step\n",
      "White Percentage: 0.79%\n",
      "1/1 [==============================] - 0s 37ms/step\n",
      "White Percentage: 16.25%\n",
      "1/1 [==============================] - 0s 33ms/step\n"
     ]
    },
    {
     "name": "stderr",
     "output_type": "stream",
     "text": [
      "video 1/1 (131/901) D:\\815_CowDataChecking\\Honkawa\\2023-07-31\\03\\output_3fps\\20230731-030500-031000_10fps_3fps.mp4: 384x640 4 cows, 45.0ms\n",
      "WARNING  'Masks.masks' is deprecated. Use 'Masks.data' instead.\n"
     ]
    },
    {
     "name": "stdout",
     "output_type": "stream",
     "text": [
      "White Percentage: 9.99%\n",
      "1/1 [==============================] - 0s 33ms/step\n",
      "White Percentage: 0.75%\n",
      "1/1 [==============================] - 0s 34ms/step\n",
      "White Percentage: 18.55%\n",
      "1/1 [==============================] - 0s 39ms/step\n"
     ]
    },
    {
     "name": "stderr",
     "output_type": "stream",
     "text": [
      "video 1/1 (132/901) D:\\815_CowDataChecking\\Honkawa\\2023-07-31\\03\\output_3fps\\20230731-030500-031000_10fps_3fps.mp4: 384x640 4 cows, 25.5ms\n",
      "WARNING  'Masks.masks' is deprecated. Use 'Masks.data' instead.\n"
     ]
    },
    {
     "name": "stdout",
     "output_type": "stream",
     "text": [
      "White Percentage: 9.93%\n",
      "1/1 [==============================] - 0s 35ms/step\n",
      "White Percentage: 0.73%\n",
      "1/1 [==============================] - 0s 37ms/step\n",
      "White Percentage: 18.83%\n",
      "1/1 [==============================] - 0s 34ms/step\n"
     ]
    },
    {
     "name": "stderr",
     "output_type": "stream",
     "text": [
      "video 1/1 (133/901) D:\\815_CowDataChecking\\Honkawa\\2023-07-31\\03\\output_3fps\\20230731-030500-031000_10fps_3fps.mp4: 384x640 4 cows, 33.5ms\n",
      "WARNING  'Masks.masks' is deprecated. Use 'Masks.data' instead.\n"
     ]
    },
    {
     "name": "stdout",
     "output_type": "stream",
     "text": [
      "White Percentage: 9.93%\n",
      "1/1 [==============================] - 0s 38ms/step\n",
      "White Percentage: 0.85%\n",
      "1/1 [==============================] - 0s 33ms/step\n",
      "White Percentage: 20.37%\n",
      "1/1 [==============================] - 0s 34ms/step\n"
     ]
    },
    {
     "name": "stderr",
     "output_type": "stream",
     "text": [
      "video 1/1 (134/901) D:\\815_CowDataChecking\\Honkawa\\2023-07-31\\03\\output_3fps\\20230731-030500-031000_10fps_3fps.mp4: 384x640 5 cows, 29.0ms\n",
      "WARNING  'Masks.masks' is deprecated. Use 'Masks.data' instead.\n"
     ]
    },
    {
     "name": "stdout",
     "output_type": "stream",
     "text": [
      "White Percentage: 9.77%\n",
      "1/1 [==============================] - 0s 34ms/step\n",
      "White Percentage: 0.65%\n",
      "1/1 [==============================] - 0s 34ms/step\n",
      "White Percentage: 20.38%\n",
      "1/1 [==============================] - 0s 33ms/step\n"
     ]
    },
    {
     "name": "stderr",
     "output_type": "stream",
     "text": [
      "video 1/1 (135/901) D:\\815_CowDataChecking\\Honkawa\\2023-07-31\\03\\output_3fps\\20230731-030500-031000_10fps_3fps.mp4: 384x640 4 cows, 26.5ms\n",
      "WARNING  'Masks.masks' is deprecated. Use 'Masks.data' instead.\n"
     ]
    },
    {
     "name": "stdout",
     "output_type": "stream",
     "text": [
      "White Percentage: 9.79%\n",
      "1/1 [==============================] - 0s 39ms/step\n",
      "White Percentage: 0.78%\n",
      "1/1 [==============================] - 0s 35ms/step\n",
      "White Percentage: 19.99%\n",
      "1/1 [==============================] - 0s 34ms/step\n"
     ]
    },
    {
     "name": "stderr",
     "output_type": "stream",
     "text": [
      "video 1/1 (136/901) D:\\815_CowDataChecking\\Honkawa\\2023-07-31\\03\\output_3fps\\20230731-030500-031000_10fps_3fps.mp4: 384x640 5 cows, 26.0ms\n",
      "WARNING  'Masks.masks' is deprecated. Use 'Masks.data' instead.\n"
     ]
    },
    {
     "name": "stdout",
     "output_type": "stream",
     "text": [
      "White Percentage: 9.59%\n",
      "1/1 [==============================] - 0s 37ms/step\n",
      "White Percentage: 0.77%\n",
      "1/1 [==============================] - 0s 33ms/step\n",
      "White Percentage: 19.42%\n",
      "1/1 [==============================] - 0s 38ms/step\n"
     ]
    },
    {
     "name": "stderr",
     "output_type": "stream",
     "text": [
      "video 1/1 (137/901) D:\\815_CowDataChecking\\Honkawa\\2023-07-31\\03\\output_3fps\\20230731-030500-031000_10fps_3fps.mp4: 384x640 5 cows, 27.0ms\n",
      "WARNING  'Masks.masks' is deprecated. Use 'Masks.data' instead.\n"
     ]
    },
    {
     "name": "stdout",
     "output_type": "stream",
     "text": [
      "White Percentage: 8.90%\n",
      "1/1 [==============================] - 0s 33ms/step\n",
      "White Percentage: 0.65%\n",
      "1/1 [==============================] - 0s 40ms/step\n",
      "White Percentage: 17.18%\n",
      "1/1 [==============================] - 0s 35ms/step\n"
     ]
    },
    {
     "name": "stderr",
     "output_type": "stream",
     "text": [
      "video 1/1 (138/901) D:\\815_CowDataChecking\\Honkawa\\2023-07-31\\03\\output_3fps\\20230731-030500-031000_10fps_3fps.mp4: 384x640 4 cows, 32.0ms\n",
      "WARNING  'Masks.masks' is deprecated. Use 'Masks.data' instead.\n"
     ]
    },
    {
     "name": "stdout",
     "output_type": "stream",
     "text": [
      "White Percentage: 9.67%\n",
      "1/1 [==============================] - 0s 35ms/step\n",
      "White Percentage: 0.68%\n",
      "1/1 [==============================] - 0s 34ms/step\n",
      "White Percentage: 16.47%\n",
      "1/1 [==============================] - 0s 33ms/step\n"
     ]
    },
    {
     "name": "stderr",
     "output_type": "stream",
     "text": [
      "video 1/1 (139/901) D:\\815_CowDataChecking\\Honkawa\\2023-07-31\\03\\output_3fps\\20230731-030500-031000_10fps_3fps.mp4: 384x640 4 cows, 39.5ms\n",
      "WARNING  'Masks.masks' is deprecated. Use 'Masks.data' instead.\n"
     ]
    },
    {
     "name": "stdout",
     "output_type": "stream",
     "text": [
      "White Percentage: 10.64%\n",
      "1/1 [==============================] - 0s 32ms/step\n",
      "White Percentage: 0.69%\n",
      "1/1 [==============================] - 0s 33ms/step\n",
      "White Percentage: 16.61%\n",
      "1/1 [==============================] - 0s 34ms/step\n"
     ]
    },
    {
     "name": "stderr",
     "output_type": "stream",
     "text": [
      "video 1/1 (140/901) D:\\815_CowDataChecking\\Honkawa\\2023-07-31\\03\\output_3fps\\20230731-030500-031000_10fps_3fps.mp4: 384x640 4 cows, 33.0ms\n",
      "WARNING  'Masks.masks' is deprecated. Use 'Masks.data' instead.\n"
     ]
    },
    {
     "name": "stdout",
     "output_type": "stream",
     "text": [
      "White Percentage: 11.08%\n",
      "1/1 [==============================] - 0s 33ms/step\n",
      "White Percentage: 0.62%\n",
      "1/1 [==============================] - 0s 33ms/step\n",
      "White Percentage: 16.60%\n",
      "1/1 [==============================] - 0s 35ms/step\n"
     ]
    },
    {
     "name": "stderr",
     "output_type": "stream",
     "text": [
      "video 1/1 (141/901) D:\\815_CowDataChecking\\Honkawa\\2023-07-31\\03\\output_3fps\\20230731-030500-031000_10fps_3fps.mp4: 384x640 4 cows, 40.0ms\n",
      "WARNING  'Masks.masks' is deprecated. Use 'Masks.data' instead.\n"
     ]
    },
    {
     "name": "stdout",
     "output_type": "stream",
     "text": [
      "White Percentage: 10.79%\n",
      "1/1 [==============================] - 0s 35ms/step\n",
      "White Percentage: 0.67%\n",
      "1/1 [==============================] - 0s 38ms/step\n",
      "White Percentage: 17.55%\n",
      "1/1 [==============================] - 0s 33ms/step\n"
     ]
    },
    {
     "name": "stderr",
     "output_type": "stream",
     "text": [
      "video 1/1 (142/901) D:\\815_CowDataChecking\\Honkawa\\2023-07-31\\03\\output_3fps\\20230731-030500-031000_10fps_3fps.mp4: 384x640 4 cows, 23.0ms\n",
      "WARNING  'Masks.masks' is deprecated. Use 'Masks.data' instead.\n"
     ]
    },
    {
     "name": "stdout",
     "output_type": "stream",
     "text": [
      "White Percentage: 11.43%\n",
      "1/1 [==============================] - 0s 34ms/step\n",
      "White Percentage: 0.70%\n",
      "1/1 [==============================] - 0s 34ms/step\n",
      "White Percentage: 16.46%\n",
      "1/1 [==============================] - 0s 34ms/step\n"
     ]
    },
    {
     "name": "stderr",
     "output_type": "stream",
     "text": [
      "video 1/1 (143/901) D:\\815_CowDataChecking\\Honkawa\\2023-07-31\\03\\output_3fps\\20230731-030500-031000_10fps_3fps.mp4: 384x640 4 cows, 35.0ms\n",
      "WARNING  'Masks.masks' is deprecated. Use 'Masks.data' instead.\n"
     ]
    },
    {
     "name": "stdout",
     "output_type": "stream",
     "text": [
      "White Percentage: 10.95%\n",
      "1/1 [==============================] - 0s 33ms/step\n",
      "White Percentage: 0.61%\n",
      "1/1 [==============================] - 0s 35ms/step\n",
      "White Percentage: 16.13%\n",
      "1/1 [==============================] - 0s 33ms/step\n"
     ]
    },
    {
     "name": "stderr",
     "output_type": "stream",
     "text": [
      "video 1/1 (144/901) D:\\815_CowDataChecking\\Honkawa\\2023-07-31\\03\\output_3fps\\20230731-030500-031000_10fps_3fps.mp4: 384x640 4 cows, 35.0ms\n",
      "WARNING  'Masks.masks' is deprecated. Use 'Masks.data' instead.\n"
     ]
    },
    {
     "name": "stdout",
     "output_type": "stream",
     "text": [
      "White Percentage: 10.74%\n",
      "1/1 [==============================] - 0s 38ms/step\n",
      "White Percentage: 0.66%\n",
      "1/1 [==============================] - 0s 37ms/step\n",
      "White Percentage: 15.45%\n",
      "1/1 [==============================] - 0s 34ms/step\n"
     ]
    },
    {
     "name": "stderr",
     "output_type": "stream",
     "text": [
      "video 1/1 (145/901) D:\\815_CowDataChecking\\Honkawa\\2023-07-31\\03\\output_3fps\\20230731-030500-031000_10fps_3fps.mp4: 384x640 4 cows, 27.0ms\n",
      "WARNING  'Masks.masks' is deprecated. Use 'Masks.data' instead.\n"
     ]
    },
    {
     "name": "stdout",
     "output_type": "stream",
     "text": [
      "White Percentage: 10.40%\n",
      "1/1 [==============================] - 0s 34ms/step\n",
      "White Percentage: 0.63%\n",
      "1/1 [==============================] - 0s 33ms/step\n",
      "White Percentage: 16.15%\n",
      "1/1 [==============================] - 0s 33ms/step\n"
     ]
    },
    {
     "name": "stderr",
     "output_type": "stream",
     "text": [
      "video 1/1 (146/901) D:\\815_CowDataChecking\\Honkawa\\2023-07-31\\03\\output_3fps\\20230731-030500-031000_10fps_3fps.mp4: 384x640 4 cows, 29.0ms\n",
      "WARNING  'Masks.masks' is deprecated. Use 'Masks.data' instead.\n"
     ]
    },
    {
     "name": "stdout",
     "output_type": "stream",
     "text": [
      "White Percentage: 10.20%\n",
      "1/1 [==============================] - 0s 33ms/step\n",
      "White Percentage: 0.61%\n",
      "1/1 [==============================] - 0s 37ms/step\n",
      "White Percentage: 16.06%\n",
      "1/1 [==============================] - 0s 35ms/step\n"
     ]
    },
    {
     "name": "stderr",
     "output_type": "stream",
     "text": [
      "video 1/1 (147/901) D:\\815_CowDataChecking\\Honkawa\\2023-07-31\\03\\output_3fps\\20230731-030500-031000_10fps_3fps.mp4: 384x640 4 cows, 25.0ms\n",
      "WARNING  'Masks.masks' is deprecated. Use 'Masks.data' instead.\n"
     ]
    },
    {
     "name": "stdout",
     "output_type": "stream",
     "text": [
      "White Percentage: 9.63%\n",
      "1/1 [==============================] - 0s 35ms/step\n",
      "White Percentage: 0.58%\n",
      "1/1 [==============================] - 0s 33ms/step\n",
      "White Percentage: 16.32%\n",
      "1/1 [==============================] - 0s 33ms/step\n"
     ]
    },
    {
     "name": "stderr",
     "output_type": "stream",
     "text": [
      "video 1/1 (148/901) D:\\815_CowDataChecking\\Honkawa\\2023-07-31\\03\\output_3fps\\20230731-030500-031000_10fps_3fps.mp4: 384x640 4 cows, 26.0ms\n",
      "WARNING  'Masks.masks' is deprecated. Use 'Masks.data' instead.\n"
     ]
    },
    {
     "name": "stdout",
     "output_type": "stream",
     "text": [
      "White Percentage: 8.89%\n",
      "1/1 [==============================] - 0s 36ms/step\n",
      "White Percentage: 15.43%\n",
      "1/1 [==============================] - 0s 34ms/step\n"
     ]
    },
    {
     "name": "stderr",
     "output_type": "stream",
     "text": [
      "video 1/1 (149/901) D:\\815_CowDataChecking\\Honkawa\\2023-07-31\\03\\output_3fps\\20230731-030500-031000_10fps_3fps.mp4: 384x640 4 cows, 42.0ms\n",
      "WARNING  'Masks.masks' is deprecated. Use 'Masks.data' instead.\n"
     ]
    },
    {
     "name": "stdout",
     "output_type": "stream",
     "text": [
      "White Percentage: 7.90%\n",
      "1/1 [==============================] - 0s 36ms/step\n",
      "White Percentage: 16.06%\n",
      "1/1 [==============================] - 0s 34ms/step\n"
     ]
    },
    {
     "name": "stderr",
     "output_type": "stream",
     "text": [
      "video 1/1 (150/901) D:\\815_CowDataChecking\\Honkawa\\2023-07-31\\03\\output_3fps\\20230731-030500-031000_10fps_3fps.mp4: 384x640 4 cows, 34.5ms\n",
      "WARNING  'Masks.masks' is deprecated. Use 'Masks.data' instead.\n"
     ]
    },
    {
     "name": "stdout",
     "output_type": "stream",
     "text": [
      "White Percentage: 8.26%\n",
      "1/1 [==============================] - 0s 34ms/step\n",
      "White Percentage: 16.67%\n",
      "1/1 [==============================] - 0s 32ms/step\n"
     ]
    },
    {
     "name": "stderr",
     "output_type": "stream",
     "text": [
      "video 1/1 (151/901) D:\\815_CowDataChecking\\Honkawa\\2023-07-31\\03\\output_3fps\\20230731-030500-031000_10fps_3fps.mp4: 384x640 4 cows, 29.0ms\n",
      "WARNING  'Masks.masks' is deprecated. Use 'Masks.data' instead.\n"
     ]
    },
    {
     "name": "stdout",
     "output_type": "stream",
     "text": [
      "White Percentage: 6.82%\n",
      "1/1 [==============================] - 0s 34ms/step\n",
      "White Percentage: 16.70%\n",
      "1/1 [==============================] - 0s 39ms/step\n"
     ]
    },
    {
     "name": "stderr",
     "output_type": "stream",
     "text": [
      "video 1/1 (152/901) D:\\815_CowDataChecking\\Honkawa\\2023-07-31\\03\\output_3fps\\20230731-030500-031000_10fps_3fps.mp4: 384x640 4 cows, 26.0ms\n",
      "WARNING  'Masks.masks' is deprecated. Use 'Masks.data' instead.\n"
     ]
    },
    {
     "name": "stdout",
     "output_type": "stream",
     "text": [
      "White Percentage: 6.53%\n",
      "1/1 [==============================] - 0s 33ms/step\n",
      "White Percentage: 17.13%\n",
      "1/1 [==============================] - 0s 38ms/step\n"
     ]
    },
    {
     "name": "stderr",
     "output_type": "stream",
     "text": [
      "video 1/1 (153/901) D:\\815_CowDataChecking\\Honkawa\\2023-07-31\\03\\output_3fps\\20230731-030500-031000_10fps_3fps.mp4: 384x640 4 cows, 37.5ms\n",
      "WARNING  'Masks.masks' is deprecated. Use 'Masks.data' instead.\n"
     ]
    },
    {
     "name": "stdout",
     "output_type": "stream",
     "text": [
      "White Percentage: 5.80%\n",
      "1/1 [==============================] - 0s 33ms/step\n",
      "White Percentage: 12.76%\n",
      "1/1 [==============================] - 0s 33ms/step\n"
     ]
    },
    {
     "name": "stderr",
     "output_type": "stream",
     "text": [
      "video 1/1 (154/901) D:\\815_CowDataChecking\\Honkawa\\2023-07-31\\03\\output_3fps\\20230731-030500-031000_10fps_3fps.mp4: 384x640 4 cows, 30.7ms\n",
      "WARNING  'Masks.masks' is deprecated. Use 'Masks.data' instead.\n"
     ]
    },
    {
     "name": "stdout",
     "output_type": "stream",
     "text": [
      "White Percentage: 5.21%\n",
      "1/1 [==============================] - 0s 34ms/step\n",
      "White Percentage: 16.10%\n",
      "1/1 [==============================] - 0s 39ms/step\n"
     ]
    },
    {
     "name": "stderr",
     "output_type": "stream",
     "text": [
      "video 1/1 (155/901) D:\\815_CowDataChecking\\Honkawa\\2023-07-31\\03\\output_3fps\\20230731-030500-031000_10fps_3fps.mp4: 384x640 4 cows, 28.7ms\n",
      "WARNING  'Masks.masks' is deprecated. Use 'Masks.data' instead.\n"
     ]
    },
    {
     "name": "stdout",
     "output_type": "stream",
     "text": [
      "White Percentage: 3.26%\n",
      "1/1 [==============================] - 0s 34ms/step\n",
      "White Percentage: 16.08%\n",
      "1/1 [==============================] - 0s 35ms/step\n"
     ]
    },
    {
     "name": "stderr",
     "output_type": "stream",
     "text": [
      "video 1/1 (156/901) D:\\815_CowDataChecking\\Honkawa\\2023-07-31\\03\\output_3fps\\20230731-030500-031000_10fps_3fps.mp4: 384x640 4 cows, 23.0ms\n",
      "WARNING  'Masks.masks' is deprecated. Use 'Masks.data' instead.\n"
     ]
    },
    {
     "name": "stdout",
     "output_type": "stream",
     "text": [
      "White Percentage: 3.56%\n",
      "1/1 [==============================] - 0s 38ms/step\n",
      "White Percentage: 15.90%\n",
      "1/1 [==============================] - 0s 33ms/step\n"
     ]
    },
    {
     "name": "stderr",
     "output_type": "stream",
     "text": [
      "video 1/1 (157/901) D:\\815_CowDataChecking\\Honkawa\\2023-07-31\\03\\output_3fps\\20230731-030500-031000_10fps_3fps.mp4: 384x640 4 cows, 34.5ms\n",
      "WARNING  'Masks.masks' is deprecated. Use 'Masks.data' instead.\n"
     ]
    },
    {
     "name": "stdout",
     "output_type": "stream",
     "text": [
      "White Percentage: 3.46%\n",
      "1/1 [==============================] - 0s 43ms/step\n",
      "White Percentage: 15.41%\n",
      "1/1 [==============================] - 0s 36ms/step\n"
     ]
    },
    {
     "name": "stderr",
     "output_type": "stream",
     "text": [
      "video 1/1 (158/901) D:\\815_CowDataChecking\\Honkawa\\2023-07-31\\03\\output_3fps\\20230731-030500-031000_10fps_3fps.mp4: 384x640 4 cows, 27.0ms\n",
      "WARNING  'Masks.masks' is deprecated. Use 'Masks.data' instead.\n"
     ]
    },
    {
     "name": "stdout",
     "output_type": "stream",
     "text": [
      "White Percentage: 7.38%\n",
      "1/1 [==============================] - 0s 34ms/step\n",
      "White Percentage: 13.01%\n",
      "1/1 [==============================] - 0s 35ms/step\n"
     ]
    },
    {
     "name": "stderr",
     "output_type": "stream",
     "text": [
      "video 1/1 (159/901) D:\\815_CowDataChecking\\Honkawa\\2023-07-31\\03\\output_3fps\\20230731-030500-031000_10fps_3fps.mp4: 384x640 4 cows, 36.5ms\n",
      "WARNING  'Masks.masks' is deprecated. Use 'Masks.data' instead.\n"
     ]
    },
    {
     "name": "stdout",
     "output_type": "stream",
     "text": [
      "White Percentage: 0.94%\n",
      "1/1 [==============================] - 0s 35ms/step\n",
      "White Percentage: 16.12%\n",
      "1/1 [==============================] - 0s 34ms/step\n"
     ]
    },
    {
     "name": "stderr",
     "output_type": "stream",
     "text": [
      "video 1/1 (160/901) D:\\815_CowDataChecking\\Honkawa\\2023-07-31\\03\\output_3fps\\20230731-030500-031000_10fps_3fps.mp4: 384x640 4 cows, 21.0ms\n",
      "WARNING  'Masks.masks' is deprecated. Use 'Masks.data' instead.\n"
     ]
    },
    {
     "name": "stdout",
     "output_type": "stream",
     "text": [
      "White Percentage: 9.64%\n",
      "1/1 [==============================] - 0s 36ms/step\n",
      "White Percentage: 15.50%\n",
      "1/1 [==============================] - 0s 36ms/step\n"
     ]
    },
    {
     "name": "stderr",
     "output_type": "stream",
     "text": [
      "video 1/1 (161/901) D:\\815_CowDataChecking\\Honkawa\\2023-07-31\\03\\output_3fps\\20230731-030500-031000_10fps_3fps.mp4: 384x640 4 cows, 25.0ms\n",
      "WARNING  'Masks.masks' is deprecated. Use 'Masks.data' instead.\n"
     ]
    },
    {
     "name": "stdout",
     "output_type": "stream",
     "text": [
      "White Percentage: 7.88%\n",
      "1/1 [==============================] - 0s 34ms/step\n",
      "White Percentage: 15.13%\n",
      "1/1 [==============================] - 0s 35ms/step\n"
     ]
    },
    {
     "name": "stderr",
     "output_type": "stream",
     "text": [
      "video 1/1 (162/901) D:\\815_CowDataChecking\\Honkawa\\2023-07-31\\03\\output_3fps\\20230731-030500-031000_10fps_3fps.mp4: 384x640 4 cows, 39.0ms\n",
      "WARNING  'Masks.masks' is deprecated. Use 'Masks.data' instead.\n"
     ]
    },
    {
     "name": "stdout",
     "output_type": "stream",
     "text": [
      "White Percentage: 9.34%\n",
      "1/1 [==============================] - 0s 34ms/step\n",
      "White Percentage: 12.58%\n",
      "1/1 [==============================] - 0s 32ms/step\n"
     ]
    },
    {
     "name": "stderr",
     "output_type": "stream",
     "text": [
      "video 1/1 (163/901) D:\\815_CowDataChecking\\Honkawa\\2023-07-31\\03\\output_3fps\\20230731-030500-031000_10fps_3fps.mp4: 384x640 5 cows, 26.5ms\n",
      "WARNING  'Masks.masks' is deprecated. Use 'Masks.data' instead.\n"
     ]
    },
    {
     "name": "stdout",
     "output_type": "stream",
     "text": [
      "White Percentage: 8.47%\n",
      "1/1 [==============================] - 0s 37ms/step\n",
      "White Percentage: 14.28%\n",
      "1/1 [==============================] - 0s 34ms/step\n"
     ]
    },
    {
     "name": "stderr",
     "output_type": "stream",
     "text": [
      "video 1/1 (164/901) D:\\815_CowDataChecking\\Honkawa\\2023-07-31\\03\\output_3fps\\20230731-030500-031000_10fps_3fps.mp4: 384x640 5 cows, 35.5ms\n",
      "WARNING  'Masks.masks' is deprecated. Use 'Masks.data' instead.\n"
     ]
    },
    {
     "name": "stdout",
     "output_type": "stream",
     "text": [
      "White Percentage: 8.00%\n",
      "1/1 [==============================] - 0s 35ms/step\n",
      "White Percentage: 13.91%\n",
      "1/1 [==============================] - 0s 38ms/step\n"
     ]
    },
    {
     "name": "stderr",
     "output_type": "stream",
     "text": [
      "video 1/1 (165/901) D:\\815_CowDataChecking\\Honkawa\\2023-07-31\\03\\output_3fps\\20230731-030500-031000_10fps_3fps.mp4: 384x640 5 cows, 26.0ms\n",
      "WARNING  'Masks.masks' is deprecated. Use 'Masks.data' instead.\n"
     ]
    },
    {
     "name": "stdout",
     "output_type": "stream",
     "text": [
      "White Percentage: 7.38%\n",
      "1/1 [==============================] - 0s 34ms/step\n",
      "White Percentage: 13.54%\n",
      "1/1 [==============================] - 0s 33ms/step\n"
     ]
    },
    {
     "name": "stderr",
     "output_type": "stream",
     "text": [
      "video 1/1 (166/901) D:\\815_CowDataChecking\\Honkawa\\2023-07-31\\03\\output_3fps\\20230731-030500-031000_10fps_3fps.mp4: 384x640 5 cows, 34.0ms\n",
      "WARNING  'Masks.masks' is deprecated. Use 'Masks.data' instead.\n"
     ]
    },
    {
     "name": "stdout",
     "output_type": "stream",
     "text": [
      "White Percentage: 7.07%\n",
      "1/1 [==============================] - 0s 33ms/step\n",
      "White Percentage: 14.52%\n",
      "1/1 [==============================] - 0s 34ms/step\n"
     ]
    },
    {
     "name": "stderr",
     "output_type": "stream",
     "text": [
      "video 1/1 (167/901) D:\\815_CowDataChecking\\Honkawa\\2023-07-31\\03\\output_3fps\\20230731-030500-031000_10fps_3fps.mp4: 384x640 5 cows, 27.0ms\n",
      "WARNING  'Masks.masks' is deprecated. Use 'Masks.data' instead.\n"
     ]
    },
    {
     "name": "stdout",
     "output_type": "stream",
     "text": [
      "White Percentage: 7.06%\n",
      "1/1 [==============================] - 0s 40ms/step\n",
      "White Percentage: 14.17%\n",
      "1/1 [==============================] - 0s 33ms/step\n"
     ]
    },
    {
     "name": "stderr",
     "output_type": "stream",
     "text": [
      "video 1/1 (168/901) D:\\815_CowDataChecking\\Honkawa\\2023-07-31\\03\\output_3fps\\20230731-030500-031000_10fps_3fps.mp4: 384x640 5 cows, 39.0ms\n",
      "WARNING  'Masks.masks' is deprecated. Use 'Masks.data' instead.\n"
     ]
    },
    {
     "name": "stdout",
     "output_type": "stream",
     "text": [
      "White Percentage: 6.97%\n",
      "1/1 [==============================] - 0s 49ms/step\n",
      "White Percentage: 14.52%\n",
      "1/1 [==============================] - 0s 35ms/step\n",
      "White Percentage: 7.29%\n",
      "1/1 [==============================] - 0s 34ms/step\n"
     ]
    },
    {
     "name": "stderr",
     "output_type": "stream",
     "text": [
      "video 1/1 (169/901) D:\\815_CowDataChecking\\Honkawa\\2023-07-31\\03\\output_3fps\\20230731-030500-031000_10fps_3fps.mp4: 384x640 5 cows, 34.2ms\n",
      "WARNING  'Masks.masks' is deprecated. Use 'Masks.data' instead.\n"
     ]
    },
    {
     "name": "stdout",
     "output_type": "stream",
     "text": [
      "White Percentage: 23.87%\n",
      "[['ID', 'RANK1', 'RANK1_prob', 'RANK2', 'RANK2_prob', 'RANK3', 'RANK3_prob', 'RANK4', 'RANK4_prob', 'RANK5', 'RANK5_prob']]\n",
      "new cattle  xxxxxxxxxxxxxxxxxxxxx new cattle alert \n",
      "1/1 [==============================] - 0s 34ms/step\n",
      "White Percentage: 14.37%\n",
      "1/1 [==============================] - 0s 34ms/step\n",
      "White Percentage: 7.24%\n",
      "1/1 [==============================] - 0s 32ms/step\n"
     ]
    },
    {
     "name": "stderr",
     "output_type": "stream",
     "text": [
      "video 1/1 (170/901) D:\\815_CowDataChecking\\Honkawa\\2023-07-31\\03\\output_3fps\\20230731-030500-031000_10fps_3fps.mp4: 384x640 5 cows, 27.0ms\n",
      "WARNING  'Masks.masks' is deprecated. Use 'Masks.data' instead.\n"
     ]
    },
    {
     "name": "stdout",
     "output_type": "stream",
     "text": [
      "White Percentage: 27.28%\n",
      "1/1 [==============================] - 0s 34ms/step\n",
      "White Percentage: 14.17%\n",
      "1/1 [==============================] - 0s 35ms/step\n",
      "White Percentage: 7.27%\n",
      "1/1 [==============================] - 0s 38ms/step\n"
     ]
    },
    {
     "name": "stderr",
     "output_type": "stream",
     "text": [
      "video 1/1 (171/901) D:\\815_CowDataChecking\\Honkawa\\2023-07-31\\03\\output_3fps\\20230731-030500-031000_10fps_3fps.mp4: 384x640 5 cows, 25.0ms\n",
      "WARNING  'Masks.masks' is deprecated. Use 'Masks.data' instead.\n"
     ]
    },
    {
     "name": "stdout",
     "output_type": "stream",
     "text": [
      "White Percentage: 28.60%\n",
      "1/1 [==============================] - 0s 34ms/step\n",
      "White Percentage: 14.02%\n",
      "1/1 [==============================] - 0s 35ms/step\n",
      "White Percentage: 7.10%\n",
      "1/1 [==============================] - 0s 33ms/step\n"
     ]
    },
    {
     "name": "stderr",
     "output_type": "stream",
     "text": [
      "video 1/1 (172/901) D:\\815_CowDataChecking\\Honkawa\\2023-07-31\\03\\output_3fps\\20230731-030500-031000_10fps_3fps.mp4: 384x640 5 cows, 33.9ms\n",
      "WARNING  'Masks.masks' is deprecated. Use 'Masks.data' instead.\n"
     ]
    },
    {
     "name": "stdout",
     "output_type": "stream",
     "text": [
      "White Percentage: 27.17%\n",
      "1/1 [==============================] - 0s 33ms/step\n",
      "White Percentage: 13.97%\n",
      "1/1 [==============================] - 0s 33ms/step\n",
      "White Percentage: 6.71%\n",
      "1/1 [==============================] - 0s 34ms/step\n"
     ]
    },
    {
     "name": "stderr",
     "output_type": "stream",
     "text": [
      "video 1/1 (173/901) D:\\815_CowDataChecking\\Honkawa\\2023-07-31\\03\\output_3fps\\20230731-030500-031000_10fps_3fps.mp4: 384x640 5 cows, 35.0ms\n",
      "WARNING  'Masks.masks' is deprecated. Use 'Masks.data' instead.\n"
     ]
    },
    {
     "name": "stdout",
     "output_type": "stream",
     "text": [
      "White Percentage: 26.18%\n",
      "1/1 [==============================] - 0s 34ms/step\n",
      "White Percentage: 13.82%\n",
      "1/1 [==============================] - 0s 43ms/step\n",
      "White Percentage: 6.43%\n",
      "1/1 [==============================] - 0s 32ms/step\n"
     ]
    },
    {
     "name": "stderr",
     "output_type": "stream",
     "text": [
      "video 1/1 (174/901) D:\\815_CowDataChecking\\Honkawa\\2023-07-31\\03\\output_3fps\\20230731-030500-031000_10fps_3fps.mp4: 384x640 5 cows, 26.1ms\n",
      "WARNING  'Masks.masks' is deprecated. Use 'Masks.data' instead.\n"
     ]
    },
    {
     "name": "stdout",
     "output_type": "stream",
     "text": [
      "White Percentage: 27.23%\n",
      "1/1 [==============================] - 0s 36ms/step\n",
      "White Percentage: 13.98%\n",
      "1/1 [==============================] - 0s 33ms/step\n",
      "White Percentage: 6.77%\n",
      "1/1 [==============================] - 0s 34ms/step\n"
     ]
    },
    {
     "name": "stderr",
     "output_type": "stream",
     "text": [
      "video 1/1 (175/901) D:\\815_CowDataChecking\\Honkawa\\2023-07-31\\03\\output_3fps\\20230731-030500-031000_10fps_3fps.mp4: 384x640 5 cows, 26.0ms\n",
      "WARNING  'Masks.masks' is deprecated. Use 'Masks.data' instead.\n"
     ]
    },
    {
     "name": "stdout",
     "output_type": "stream",
     "text": [
      "White Percentage: 26.68%\n",
      "1/1 [==============================] - 0s 34ms/step\n",
      "White Percentage: 13.84%\n",
      "1/1 [==============================] - 0s 40ms/step\n",
      "White Percentage: 5.68%\n",
      "1/1 [==============================] - 0s 34ms/step\n"
     ]
    },
    {
     "name": "stderr",
     "output_type": "stream",
     "text": [
      "video 1/1 (176/901) D:\\815_CowDataChecking\\Honkawa\\2023-07-31\\03\\output_3fps\\20230731-030500-031000_10fps_3fps.mp4: 384x640 5 cows, 31.0ms\n",
      "WARNING  'Masks.masks' is deprecated. Use 'Masks.data' instead.\n"
     ]
    },
    {
     "name": "stdout",
     "output_type": "stream",
     "text": [
      "White Percentage: 24.74%\n",
      "1/1 [==============================] - 0s 33ms/step\n",
      "White Percentage: 13.48%\n",
      "1/1 [==============================] - 0s 33ms/step\n",
      "White Percentage: 6.69%\n",
      "1/1 [==============================] - 0s 33ms/step\n"
     ]
    },
    {
     "name": "stderr",
     "output_type": "stream",
     "text": [
      "video 1/1 (177/901) D:\\815_CowDataChecking\\Honkawa\\2023-07-31\\03\\output_3fps\\20230731-030500-031000_10fps_3fps.mp4: 384x640 5 cows, 29.0ms\n",
      "WARNING  'Masks.masks' is deprecated. Use 'Masks.data' instead.\n"
     ]
    },
    {
     "name": "stdout",
     "output_type": "stream",
     "text": [
      "White Percentage: 28.90%\n",
      "1/1 [==============================] - 0s 39ms/step\n",
      "White Percentage: 14.01%\n",
      "1/1 [==============================] - 0s 34ms/step\n",
      "White Percentage: 6.82%\n",
      "1/1 [==============================] - 0s 34ms/step\n"
     ]
    },
    {
     "name": "stderr",
     "output_type": "stream",
     "text": [
      "video 1/1 (178/901) D:\\815_CowDataChecking\\Honkawa\\2023-07-31\\03\\output_3fps\\20230731-030500-031000_10fps_3fps.mp4: 384x640 5 cows, 31.5ms\n",
      "WARNING  'Masks.masks' is deprecated. Use 'Masks.data' instead.\n"
     ]
    },
    {
     "name": "stdout",
     "output_type": "stream",
     "text": [
      "White Percentage: 31.61%\n",
      "1/1 [==============================] - 0s 33ms/step\n",
      "White Percentage: 13.74%\n",
      "1/1 [==============================] - 0s 38ms/step\n",
      "White Percentage: 5.46%\n",
      "1/1 [==============================] - 0s 33ms/step\n"
     ]
    },
    {
     "name": "stderr",
     "output_type": "stream",
     "text": [
      "video 1/1 (179/901) D:\\815_CowDataChecking\\Honkawa\\2023-07-31\\03\\output_3fps\\20230731-030500-031000_10fps_3fps.mp4: 384x640 5 cows, 32.0ms\n",
      "WARNING  'Masks.masks' is deprecated. Use 'Masks.data' instead.\n"
     ]
    },
    {
     "name": "stdout",
     "output_type": "stream",
     "text": [
      "White Percentage: 30.45%\n",
      "1/1 [==============================] - 0s 36ms/step\n",
      "White Percentage: 13.70%\n",
      "1/1 [==============================] - 0s 33ms/step\n",
      "White Percentage: 6.26%\n",
      "1/1 [==============================] - 0s 34ms/step\n"
     ]
    },
    {
     "name": "stderr",
     "output_type": "stream",
     "text": [
      "video 1/1 (180/901) D:\\815_CowDataChecking\\Honkawa\\2023-07-31\\03\\output_3fps\\20230731-030500-031000_10fps_3fps.mp4: 384x640 5 cows, 38.0ms\n",
      "WARNING  'Masks.masks' is deprecated. Use 'Masks.data' instead.\n"
     ]
    },
    {
     "name": "stdout",
     "output_type": "stream",
     "text": [
      "White Percentage: 31.88%\n",
      "1/1 [==============================] - 0s 35ms/step\n",
      "White Percentage: 13.26%\n",
      "1/1 [==============================] - 0s 34ms/step\n",
      "White Percentage: 6.70%\n",
      "1/1 [==============================] - 0s 34ms/step\n"
     ]
    },
    {
     "name": "stderr",
     "output_type": "stream",
     "text": [
      "video 1/1 (181/901) D:\\815_CowDataChecking\\Honkawa\\2023-07-31\\03\\output_3fps\\20230731-030500-031000_10fps_3fps.mp4: 384x640 5 cows, 33.0ms\n",
      "WARNING  'Masks.masks' is deprecated. Use 'Masks.data' instead.\n"
     ]
    },
    {
     "name": "stdout",
     "output_type": "stream",
     "text": [
      "White Percentage: 30.60%\n",
      "1/1 [==============================] - 0s 33ms/step\n",
      "White Percentage: 13.29%\n",
      "1/1 [==============================] - 0s 33ms/step\n",
      "White Percentage: 6.78%\n",
      "1/1 [==============================] - 0s 35ms/step\n"
     ]
    },
    {
     "name": "stderr",
     "output_type": "stream",
     "text": [
      "video 1/1 (182/901) D:\\815_CowDataChecking\\Honkawa\\2023-07-31\\03\\output_3fps\\20230731-030500-031000_10fps_3fps.mp4: 384x640 5 cows, 26.5ms\n",
      "WARNING  'Masks.masks' is deprecated. Use 'Masks.data' instead.\n"
     ]
    },
    {
     "name": "stdout",
     "output_type": "stream",
     "text": [
      "White Percentage: 30.96%\n",
      "1/1 [==============================] - 0s 35ms/step\n",
      "White Percentage: 5.84%\n",
      "1/1 [==============================] - 0s 38ms/step\n"
     ]
    },
    {
     "name": "stderr",
     "output_type": "stream",
     "text": [
      "video 1/1 (183/901) D:\\815_CowDataChecking\\Honkawa\\2023-07-31\\03\\output_3fps\\20230731-030500-031000_10fps_3fps.mp4: 384x640 5 cows, 37.0ms\n",
      "WARNING  'Masks.masks' is deprecated. Use 'Masks.data' instead.\n"
     ]
    },
    {
     "name": "stdout",
     "output_type": "stream",
     "text": [
      "White Percentage: 31.37%\n",
      "1/1 [==============================] - 0s 33ms/step\n",
      "White Percentage: 5.29%\n",
      "1/1 [==============================] - 0s 40ms/step\n"
     ]
    },
    {
     "name": "stderr",
     "output_type": "stream",
     "text": [
      "video 1/1 (184/901) D:\\815_CowDataChecking\\Honkawa\\2023-07-31\\03\\output_3fps\\20230731-030500-031000_10fps_3fps.mp4: 384x640 5 cows, 25.0ms\n",
      "WARNING  'Masks.masks' is deprecated. Use 'Masks.data' instead.\n"
     ]
    },
    {
     "name": "stdout",
     "output_type": "stream",
     "text": [
      "White Percentage: 31.88%\n",
      "1/1 [==============================] - 0s 34ms/step\n",
      "White Percentage: 5.99%\n",
      "1/1 [==============================] - 0s 37ms/step\n"
     ]
    },
    {
     "name": "stderr",
     "output_type": "stream",
     "text": [
      "video 1/1 (185/901) D:\\815_CowDataChecking\\Honkawa\\2023-07-31\\03\\output_3fps\\20230731-030500-031000_10fps_3fps.mp4: 384x640 5 cows, 30.0ms\n",
      "WARNING  'Masks.masks' is deprecated. Use 'Masks.data' instead.\n"
     ]
    },
    {
     "name": "stdout",
     "output_type": "stream",
     "text": [
      "White Percentage: 31.76%\n",
      "1/1 [==============================] - 0s 34ms/step\n",
      "White Percentage: 5.90%\n",
      "1/1 [==============================] - 0s 35ms/step\n"
     ]
    },
    {
     "name": "stderr",
     "output_type": "stream",
     "text": [
      "video 1/1 (186/901) D:\\815_CowDataChecking\\Honkawa\\2023-07-31\\03\\output_3fps\\20230731-030500-031000_10fps_3fps.mp4: 384x640 5 cows, 25.0ms\n",
      "WARNING  'Masks.masks' is deprecated. Use 'Masks.data' instead.\n"
     ]
    },
    {
     "name": "stdout",
     "output_type": "stream",
     "text": [
      "White Percentage: 31.32%\n",
      "1/1 [==============================] - 0s 37ms/step\n",
      "White Percentage: 5.92%\n",
      "1/1 [==============================] - 0s 35ms/step\n"
     ]
    },
    {
     "name": "stderr",
     "output_type": "stream",
     "text": [
      "video 1/1 (187/901) D:\\815_CowDataChecking\\Honkawa\\2023-07-31\\03\\output_3fps\\20230731-030500-031000_10fps_3fps.mp4: 384x640 5 cows, 21.0ms\n",
      "WARNING  'Masks.masks' is deprecated. Use 'Masks.data' instead.\n"
     ]
    },
    {
     "name": "stdout",
     "output_type": "stream",
     "text": [
      "White Percentage: 33.86%\n",
      "1/1 [==============================] - 0s 34ms/step\n",
      "White Percentage: 5.99%\n",
      "1/1 [==============================] - 0s 35ms/step\n"
     ]
    },
    {
     "name": "stderr",
     "output_type": "stream",
     "text": [
      "video 1/1 (188/901) D:\\815_CowDataChecking\\Honkawa\\2023-07-31\\03\\output_3fps\\20230731-030500-031000_10fps_3fps.mp4: 384x640 5 cows, 26.0ms\n",
      "WARNING  'Masks.masks' is deprecated. Use 'Masks.data' instead.\n"
     ]
    },
    {
     "name": "stdout",
     "output_type": "stream",
     "text": [
      "White Percentage: 33.75%\n",
      "1/1 [==============================] - 0s 38ms/step\n",
      "White Percentage: 4.74%\n",
      "1/1 [==============================] - 0s 32ms/step\n"
     ]
    },
    {
     "name": "stderr",
     "output_type": "stream",
     "text": [
      "video 1/1 (189/901) D:\\815_CowDataChecking\\Honkawa\\2023-07-31\\03\\output_3fps\\20230731-030500-031000_10fps_3fps.mp4: 384x640 6 cows, 27.5ms\n",
      "WARNING  'Masks.masks' is deprecated. Use 'Masks.data' instead.\n"
     ]
    },
    {
     "name": "stdout",
     "output_type": "stream",
     "text": [
      "White Percentage: 33.00%\n",
      "1/1 [==============================] - 0s 35ms/step\n",
      "White Percentage: 5.17%\n",
      "1/1 [==============================] - 0s 34ms/step\n"
     ]
    },
    {
     "name": "stderr",
     "output_type": "stream",
     "text": [
      "video 1/1 (190/901) D:\\815_CowDataChecking\\Honkawa\\2023-07-31\\03\\output_3fps\\20230731-030500-031000_10fps_3fps.mp4: 384x640 6 cows, 26.5ms\n",
      "WARNING  'Masks.masks' is deprecated. Use 'Masks.data' instead.\n"
     ]
    },
    {
     "name": "stdout",
     "output_type": "stream",
     "text": [
      "White Percentage: 31.71%\n",
      "1/1 [==============================] - 0s 34ms/step\n",
      "White Percentage: 4.64%\n",
      "1/1 [==============================] - 0s 34ms/step\n"
     ]
    },
    {
     "name": "stderr",
     "output_type": "stream",
     "text": [
      "video 1/1 (191/901) D:\\815_CowDataChecking\\Honkawa\\2023-07-31\\03\\output_3fps\\20230731-030500-031000_10fps_3fps.mp4: 384x640 6 cows, 33.0ms\n",
      "WARNING  'Masks.masks' is deprecated. Use 'Masks.data' instead.\n"
     ]
    },
    {
     "name": "stdout",
     "output_type": "stream",
     "text": [
      "White Percentage: 32.05%\n",
      "1/1 [==============================] - 0s 34ms/step\n",
      "White Percentage: 4.83%\n",
      "1/1 [==============================] - 0s 40ms/step\n"
     ]
    },
    {
     "name": "stderr",
     "output_type": "stream",
     "text": [
      "video 1/1 (192/901) D:\\815_CowDataChecking\\Honkawa\\2023-07-31\\03\\output_3fps\\20230731-030500-031000_10fps_3fps.mp4: 384x640 6 cows, 33.5ms\n",
      "WARNING  'Masks.masks' is deprecated. Use 'Masks.data' instead.\n"
     ]
    },
    {
     "name": "stdout",
     "output_type": "stream",
     "text": [
      "White Percentage: 32.16%\n",
      "1/1 [==============================] - 0s 33ms/step\n",
      "White Percentage: 2.16%\n",
      "1/1 [==============================] - 0s 32ms/step\n"
     ]
    },
    {
     "name": "stderr",
     "output_type": "stream",
     "text": [
      "video 1/1 (193/901) D:\\815_CowDataChecking\\Honkawa\\2023-07-31\\03\\output_3fps\\20230731-030500-031000_10fps_3fps.mp4: 384x640 6 cows, 29.0ms\n",
      "WARNING  'Masks.masks' is deprecated. Use 'Masks.data' instead.\n"
     ]
    },
    {
     "name": "stdout",
     "output_type": "stream",
     "text": [
      "White Percentage: 31.32%\n",
      "1/1 [==============================] - 0s 33ms/step\n",
      "White Percentage: 4.93%\n",
      "1/1 [==============================] - 0s 39ms/step\n"
     ]
    },
    {
     "name": "stderr",
     "output_type": "stream",
     "text": [
      "video 1/1 (194/901) D:\\815_CowDataChecking\\Honkawa\\2023-07-31\\03\\output_3fps\\20230731-030500-031000_10fps_3fps.mp4: 384x640 5 cows, 24.0ms\n",
      "WARNING  'Masks.masks' is deprecated. Use 'Masks.data' instead.\n"
     ]
    },
    {
     "name": "stdout",
     "output_type": "stream",
     "text": [
      "White Percentage: 31.53%\n",
      "1/1 [==============================] - 0s 34ms/step\n",
      "White Percentage: 4.31%\n",
      "1/1 [==============================] - 0s 33ms/step\n"
     ]
    },
    {
     "name": "stderr",
     "output_type": "stream",
     "text": [
      "video 1/1 (195/901) D:\\815_CowDataChecking\\Honkawa\\2023-07-31\\03\\output_3fps\\20230731-030500-031000_10fps_3fps.mp4: 384x640 6 cows, 33.0ms\n",
      "WARNING  'Masks.masks' is deprecated. Use 'Masks.data' instead.\n"
     ]
    },
    {
     "name": "stdout",
     "output_type": "stream",
     "text": [
      "White Percentage: 30.17%\n",
      "1/1 [==============================] - 0s 34ms/step\n",
      "White Percentage: 4.74%\n",
      "1/1 [==============================] - 0s 33ms/step\n"
     ]
    },
    {
     "name": "stderr",
     "output_type": "stream",
     "text": [
      "video 1/1 (196/901) D:\\815_CowDataChecking\\Honkawa\\2023-07-31\\03\\output_3fps\\20230731-030500-031000_10fps_3fps.mp4: 384x640 5 cows, 25.5ms\n",
      "WARNING  'Masks.masks' is deprecated. Use 'Masks.data' instead.\n"
     ]
    },
    {
     "name": "stdout",
     "output_type": "stream",
     "text": [
      "White Percentage: 29.88%\n",
      "1/1 [==============================] - 0s 37ms/step\n",
      "White Percentage: 4.77%\n",
      "1/1 [==============================] - 0s 36ms/step\n"
     ]
    },
    {
     "name": "stderr",
     "output_type": "stream",
     "text": [
      "video 1/1 (197/901) D:\\815_CowDataChecking\\Honkawa\\2023-07-31\\03\\output_3fps\\20230731-030500-031000_10fps_3fps.mp4: 384x640 5 cows, 37.0ms\n",
      "WARNING  'Masks.masks' is deprecated. Use 'Masks.data' instead.\n"
     ]
    },
    {
     "name": "stdout",
     "output_type": "stream",
     "text": [
      "White Percentage: 27.38%\n",
      "1/1 [==============================] - 0s 34ms/step\n",
      "White Percentage: 4.78%\n",
      "1/1 [==============================] - 0s 39ms/step\n"
     ]
    },
    {
     "name": "stderr",
     "output_type": "stream",
     "text": [
      "video 1/1 (198/901) D:\\815_CowDataChecking\\Honkawa\\2023-07-31\\03\\output_3fps\\20230731-030500-031000_10fps_3fps.mp4: 384x640 5 cows, 27.5ms\n",
      "WARNING  'Masks.masks' is deprecated. Use 'Masks.data' instead.\n"
     ]
    },
    {
     "name": "stdout",
     "output_type": "stream",
     "text": [
      "White Percentage: 28.87%\n",
      "1/1 [==============================] - 0s 37ms/step\n",
      "White Percentage: 5.38%\n",
      "1/1 [==============================] - 0s 34ms/step\n"
     ]
    },
    {
     "name": "stderr",
     "output_type": "stream",
     "text": [
      "video 1/1 (199/901) D:\\815_CowDataChecking\\Honkawa\\2023-07-31\\03\\output_3fps\\20230731-030500-031000_10fps_3fps.mp4: 384x640 5 cows, 25.0ms\n",
      "WARNING  'Masks.masks' is deprecated. Use 'Masks.data' instead.\n"
     ]
    },
    {
     "name": "stdout",
     "output_type": "stream",
     "text": [
      "White Percentage: 28.32%\n",
      "1/1 [==============================] - 0s 34ms/step\n",
      "White Percentage: 5.13%\n",
      "1/1 [==============================] - 0s 32ms/step\n"
     ]
    },
    {
     "name": "stderr",
     "output_type": "stream",
     "text": [
      "video 1/1 (200/901) D:\\815_CowDataChecking\\Honkawa\\2023-07-31\\03\\output_3fps\\20230731-030500-031000_10fps_3fps.mp4: 384x640 5 cows, 26.0ms\n",
      "WARNING  'Masks.masks' is deprecated. Use 'Masks.data' instead.\n"
     ]
    },
    {
     "name": "stdout",
     "output_type": "stream",
     "text": [
      "White Percentage: 31.99%\n",
      "1/1 [==============================] - 0s 38ms/step\n",
      "White Percentage: 5.00%\n",
      "1/1 [==============================] - 0s 35ms/step\n"
     ]
    },
    {
     "name": "stderr",
     "output_type": "stream",
     "text": [
      "video 1/1 (201/901) D:\\815_CowDataChecking\\Honkawa\\2023-07-31\\03\\output_3fps\\20230731-030500-031000_10fps_3fps.mp4: 384x640 5 cows, 35.0ms\n",
      "WARNING  'Masks.masks' is deprecated. Use 'Masks.data' instead.\n"
     ]
    },
    {
     "name": "stdout",
     "output_type": "stream",
     "text": [
      "White Percentage: 33.59%\n",
      "1/1 [==============================] - 0s 41ms/step\n",
      "White Percentage: 5.00%\n",
      "1/1 [==============================] - 0s 34ms/step\n"
     ]
    },
    {
     "name": "stderr",
     "output_type": "stream",
     "text": [
      "video 1/1 (202/901) D:\\815_CowDataChecking\\Honkawa\\2023-07-31\\03\\output_3fps\\20230731-030500-031000_10fps_3fps.mp4: 384x640 5 cows, 27.0ms\n",
      "WARNING  'Masks.masks' is deprecated. Use 'Masks.data' instead.\n"
     ]
    },
    {
     "name": "stdout",
     "output_type": "stream",
     "text": [
      "White Percentage: 33.20%\n",
      "1/1 [==============================] - 0s 35ms/step\n",
      "White Percentage: 4.23%\n",
      "1/1 [==============================] - 0s 34ms/step\n",
      "White Percentage: 32.88%\n",
      "1/1 [==============================] - 0s 34ms/step\n"
     ]
    },
    {
     "name": "stderr",
     "output_type": "stream",
     "text": [
      "video 1/1 (203/901) D:\\815_CowDataChecking\\Honkawa\\2023-07-31\\03\\output_3fps\\20230731-030500-031000_10fps_3fps.mp4: 384x640 5 cows, 30.0ms\n",
      "WARNING  'Masks.masks' is deprecated. Use 'Masks.data' instead.\n"
     ]
    },
    {
     "name": "stdout",
     "output_type": "stream",
     "text": [
      "White Percentage: 6.23%\n",
      "[['ID', 'RANK1', 'RANK1_prob', 'RANK2', 'RANK2_prob', 'RANK3', 'RANK3_prob', 'RANK4', 'RANK4_prob', 'RANK5', 'RANK5_prob']]\n",
      "new cattle  xxxxxxxxxxxxxxxxxxxxx new cattle alert \n",
      "1/1 [==============================] - 0s 34ms/step\n",
      "White Percentage: 4.44%\n",
      "1/1 [==============================] - 0s 38ms/step\n",
      "White Percentage: 33.13%\n",
      "1/1 [==============================] - 0s 33ms/step\n"
     ]
    },
    {
     "name": "stderr",
     "output_type": "stream",
     "text": [
      "video 1/1 (204/901) D:\\815_CowDataChecking\\Honkawa\\2023-07-31\\03\\output_3fps\\20230731-030500-031000_10fps_3fps.mp4: 384x640 5 cows, 35.0ms\n",
      "WARNING  'Masks.masks' is deprecated. Use 'Masks.data' instead.\n"
     ]
    },
    {
     "name": "stdout",
     "output_type": "stream",
     "text": [
      "White Percentage: 6.30%\n",
      "1/1 [==============================] - 0s 35ms/step\n",
      "White Percentage: 4.70%\n",
      "1/1 [==============================] - 0s 38ms/step\n",
      "White Percentage: 33.79%\n",
      "1/1 [==============================] - 0s 34ms/step\n"
     ]
    },
    {
     "name": "stderr",
     "output_type": "stream",
     "text": [
      "video 1/1 (205/901) D:\\815_CowDataChecking\\Honkawa\\2023-07-31\\03\\output_3fps\\20230731-030500-031000_10fps_3fps.mp4: 384x640 5 cows, 26.0ms\n",
      "WARNING  'Masks.masks' is deprecated. Use 'Masks.data' instead.\n"
     ]
    },
    {
     "name": "stdout",
     "output_type": "stream",
     "text": [
      "White Percentage: 6.15%\n",
      "1/1 [==============================] - 0s 33ms/step\n",
      "White Percentage: 3.82%\n",
      "1/1 [==============================] - 0s 32ms/step\n",
      "White Percentage: 32.25%\n",
      "1/1 [==============================] - 0s 35ms/step\n"
     ]
    },
    {
     "name": "stderr",
     "output_type": "stream",
     "text": [
      "video 1/1 (206/901) D:\\815_CowDataChecking\\Honkawa\\2023-07-31\\03\\output_3fps\\20230731-030500-031000_10fps_3fps.mp4: 384x640 5 cows, 33.0ms\n",
      "WARNING  'Masks.masks' is deprecated. Use 'Masks.data' instead.\n"
     ]
    },
    {
     "name": "stdout",
     "output_type": "stream",
     "text": [
      "White Percentage: 6.10%\n",
      "1/1 [==============================] - 0s 34ms/step\n",
      "White Percentage: 4.49%\n",
      "1/1 [==============================] - 0s 35ms/step\n",
      "White Percentage: 28.17%\n",
      "1/1 [==============================] - 0s 39ms/step\n"
     ]
    },
    {
     "name": "stderr",
     "output_type": "stream",
     "text": [
      "video 1/1 (207/901) D:\\815_CowDataChecking\\Honkawa\\2023-07-31\\03\\output_3fps\\20230731-030500-031000_10fps_3fps.mp4: 384x640 5 cows, 35.0ms\n",
      "WARNING  'Masks.masks' is deprecated. Use 'Masks.data' instead.\n"
     ]
    },
    {
     "name": "stdout",
     "output_type": "stream",
     "text": [
      "White Percentage: 6.47%\n",
      "1/1 [==============================] - 0s 34ms/step\n",
      "White Percentage: 3.64%\n",
      "1/1 [==============================] - 0s 39ms/step\n",
      "White Percentage: 29.10%\n",
      "1/1 [==============================] - 0s 33ms/step\n"
     ]
    },
    {
     "name": "stderr",
     "output_type": "stream",
     "text": [
      "video 1/1 (208/901) D:\\815_CowDataChecking\\Honkawa\\2023-07-31\\03\\output_3fps\\20230731-030500-031000_10fps_3fps.mp4: 384x640 5 cows, 25.0ms\n",
      "WARNING  'Masks.masks' is deprecated. Use 'Masks.data' instead.\n"
     ]
    },
    {
     "name": "stdout",
     "output_type": "stream",
     "text": [
      "White Percentage: 6.27%\n",
      "1/1 [==============================] - 0s 33ms/step\n",
      "White Percentage: 4.44%\n",
      "1/1 [==============================] - 0s 39ms/step\n",
      "White Percentage: 29.27%\n",
      "1/1 [==============================] - 0s 34ms/step\n"
     ]
    },
    {
     "name": "stderr",
     "output_type": "stream",
     "text": [
      "video 1/1 (209/901) D:\\815_CowDataChecking\\Honkawa\\2023-07-31\\03\\output_3fps\\20230731-030500-031000_10fps_3fps.mp4: 384x640 6 cows, 36.0ms\n",
      "WARNING  'Masks.masks' is deprecated. Use 'Masks.data' instead.\n"
     ]
    },
    {
     "name": "stdout",
     "output_type": "stream",
     "text": [
      "White Percentage: 6.18%\n",
      "1/1 [==============================] - 0s 35ms/step\n",
      "White Percentage: 5.35%\n",
      "1/1 [==============================] - 0s 35ms/step\n",
      "White Percentage: 30.10%\n",
      "1/1 [==============================] - 0s 34ms/step\n"
     ]
    },
    {
     "name": "stderr",
     "output_type": "stream",
     "text": [
      "video 1/1 (210/901) D:\\815_CowDataChecking\\Honkawa\\2023-07-31\\03\\output_3fps\\20230731-030500-031000_10fps_3fps.mp4: 384x640 6 cows, 35.0ms\n",
      "WARNING  'Masks.masks' is deprecated. Use 'Masks.data' instead.\n"
     ]
    },
    {
     "name": "stdout",
     "output_type": "stream",
     "text": [
      "White Percentage: 6.39%\n",
      "1/1 [==============================] - 0s 38ms/step\n",
      "White Percentage: 4.11%\n",
      "1/1 [==============================] - 0s 34ms/step\n",
      "White Percentage: 28.29%\n",
      "1/1 [==============================] - 0s 33ms/step\n"
     ]
    },
    {
     "name": "stderr",
     "output_type": "stream",
     "text": [
      "video 1/1 (211/901) D:\\815_CowDataChecking\\Honkawa\\2023-07-31\\03\\output_3fps\\20230731-030500-031000_10fps_3fps.mp4: 384x640 6 cows, 33.0ms\n",
      "WARNING  'Masks.masks' is deprecated. Use 'Masks.data' instead.\n"
     ]
    },
    {
     "name": "stdout",
     "output_type": "stream",
     "text": [
      "White Percentage: 6.39%\n",
      "1/1 [==============================] - 0s 39ms/step\n",
      "White Percentage: 26.93%\n",
      "1/1 [==============================] - 0s 34ms/step\n"
     ]
    },
    {
     "name": "stderr",
     "output_type": "stream",
     "text": [
      "video 1/1 (212/901) D:\\815_CowDataChecking\\Honkawa\\2023-07-31\\03\\output_3fps\\20230731-030500-031000_10fps_3fps.mp4: 384x640 5 cows, 26.0ms\n",
      "WARNING  'Masks.masks' is deprecated. Use 'Masks.data' instead.\n"
     ]
    },
    {
     "name": "stdout",
     "output_type": "stream",
     "text": [
      "White Percentage: 7.09%\n",
      "1/1 [==============================] - 0s 34ms/step\n",
      "White Percentage: 26.13%\n",
      "1/1 [==============================] - 0s 34ms/step\n"
     ]
    },
    {
     "name": "stderr",
     "output_type": "stream",
     "text": [
      "video 1/1 (213/901) D:\\815_CowDataChecking\\Honkawa\\2023-07-31\\03\\output_3fps\\20230731-030500-031000_10fps_3fps.mp4: 384x640 5 cows, 26.0ms\n",
      "WARNING  'Masks.masks' is deprecated. Use 'Masks.data' instead.\n"
     ]
    },
    {
     "name": "stdout",
     "output_type": "stream",
     "text": [
      "White Percentage: 6.66%\n",
      "1/1 [==============================] - 0s 32ms/step\n",
      "White Percentage: 24.30%\n",
      "1/1 [==============================] - 0s 34ms/step\n"
     ]
    },
    {
     "name": "stderr",
     "output_type": "stream",
     "text": [
      "video 1/1 (214/901) D:\\815_CowDataChecking\\Honkawa\\2023-07-31\\03\\output_3fps\\20230731-030500-031000_10fps_3fps.mp4: 384x640 5 cows, 29.4ms\n",
      "WARNING  'Masks.masks' is deprecated. Use 'Masks.data' instead.\n"
     ]
    },
    {
     "name": "stdout",
     "output_type": "stream",
     "text": [
      "White Percentage: 6.99%\n",
      "1/1 [==============================] - 0s 44ms/step\n",
      "White Percentage: 23.29%\n",
      "1/1 [==============================] - 0s 33ms/step\n"
     ]
    },
    {
     "name": "stderr",
     "output_type": "stream",
     "text": [
      "video 1/1 (215/901) D:\\815_CowDataChecking\\Honkawa\\2023-07-31\\03\\output_3fps\\20230731-030500-031000_10fps_3fps.mp4: 384x640 5 cows, 25.9ms\n",
      "WARNING  'Masks.masks' is deprecated. Use 'Masks.data' instead.\n"
     ]
    },
    {
     "name": "stdout",
     "output_type": "stream",
     "text": [
      "White Percentage: 7.21%\n",
      "1/1 [==============================] - 0s 34ms/step\n",
      "White Percentage: 22.93%\n",
      "1/1 [==============================] - 0s 33ms/step\n"
     ]
    },
    {
     "name": "stderr",
     "output_type": "stream",
     "text": [
      "video 1/1 (216/901) D:\\815_CowDataChecking\\Honkawa\\2023-07-31\\03\\output_3fps\\20230731-030500-031000_10fps_3fps.mp4: 384x640 5 cows, 26.0ms\n",
      "WARNING  'Masks.masks' is deprecated. Use 'Masks.data' instead.\n"
     ]
    },
    {
     "name": "stdout",
     "output_type": "stream",
     "text": [
      "White Percentage: 7.21%\n",
      "1/1 [==============================] - 0s 34ms/step\n",
      "White Percentage: 16.24%\n",
      "1/1 [==============================] - 0s 34ms/step\n"
     ]
    },
    {
     "name": "stderr",
     "output_type": "stream",
     "text": [
      "video 1/1 (217/901) D:\\815_CowDataChecking\\Honkawa\\2023-07-31\\03\\output_3fps\\20230731-030500-031000_10fps_3fps.mp4: 384x640 5 cows, 35.0ms\n",
      "WARNING  'Masks.masks' is deprecated. Use 'Masks.data' instead.\n"
     ]
    },
    {
     "name": "stdout",
     "output_type": "stream",
     "text": [
      "White Percentage: 7.36%\n",
      "1/1 [==============================] - 0s 35ms/step\n",
      "White Percentage: 14.66%\n",
      "1/1 [==============================] - 0s 39ms/step\n"
     ]
    },
    {
     "name": "stderr",
     "output_type": "stream",
     "text": [
      "video 1/1 (218/901) D:\\815_CowDataChecking\\Honkawa\\2023-07-31\\03\\output_3fps\\20230731-030500-031000_10fps_3fps.mp4: 384x640 5 cows, 37.0ms\n",
      "WARNING  'Masks.masks' is deprecated. Use 'Masks.data' instead.\n"
     ]
    },
    {
     "name": "stdout",
     "output_type": "stream",
     "text": [
      "White Percentage: 7.47%\n",
      "1/1 [==============================] - 0s 36ms/step\n",
      "White Percentage: 16.53%\n",
      "1/1 [==============================] - 0s 35ms/step\n"
     ]
    },
    {
     "name": "stderr",
     "output_type": "stream",
     "text": [
      "video 1/1 (219/901) D:\\815_CowDataChecking\\Honkawa\\2023-07-31\\03\\output_3fps\\20230731-030500-031000_10fps_3fps.mp4: 384x640 5 cows, 32.0ms\n",
      "WARNING  'Masks.masks' is deprecated. Use 'Masks.data' instead.\n"
     ]
    },
    {
     "name": "stdout",
     "output_type": "stream",
     "text": [
      "White Percentage: 7.47%\n",
      "1/1 [==============================] - 0s 33ms/step\n",
      "White Percentage: 10.76%\n",
      "1/1 [==============================] - 0s 36ms/step\n"
     ]
    },
    {
     "name": "stderr",
     "output_type": "stream",
     "text": [
      "video 1/1 (220/901) D:\\815_CowDataChecking\\Honkawa\\2023-07-31\\03\\output_3fps\\20230731-030500-031000_10fps_3fps.mp4: 384x640 5 cows, 30.5ms\n",
      "WARNING  'Masks.masks' is deprecated. Use 'Masks.data' instead.\n"
     ]
    },
    {
     "name": "stdout",
     "output_type": "stream",
     "text": [
      "White Percentage: 7.37%\n",
      "1/1 [==============================] - 0s 37ms/step\n",
      "White Percentage: 11.38%\n",
      "1/1 [==============================] - 0s 34ms/step\n"
     ]
    },
    {
     "name": "stderr",
     "output_type": "stream",
     "text": [
      "video 1/1 (221/901) D:\\815_CowDataChecking\\Honkawa\\2023-07-31\\03\\output_3fps\\20230731-030500-031000_10fps_3fps.mp4: 384x640 5 cows, 30.0ms\n",
      "WARNING  'Masks.masks' is deprecated. Use 'Masks.data' instead.\n"
     ]
    },
    {
     "name": "stdout",
     "output_type": "stream",
     "text": [
      "White Percentage: 7.61%\n",
      "1/1 [==============================] - 0s 35ms/step\n",
      "White Percentage: 13.92%\n",
      "1/1 [==============================] - 0s 34ms/step\n"
     ]
    },
    {
     "name": "stderr",
     "output_type": "stream",
     "text": [
      "video 1/1 (222/901) D:\\815_CowDataChecking\\Honkawa\\2023-07-31\\03\\output_3fps\\20230731-030500-031000_10fps_3fps.mp4: 384x640 5 cows, 32.0ms\n",
      "WARNING  'Masks.masks' is deprecated. Use 'Masks.data' instead.\n"
     ]
    },
    {
     "name": "stdout",
     "output_type": "stream",
     "text": [
      "White Percentage: 7.29%\n",
      "1/1 [==============================] - 0s 33ms/step\n",
      "White Percentage: 20.20%\n",
      "1/1 [==============================] - 0s 37ms/step\n"
     ]
    },
    {
     "name": "stderr",
     "output_type": "stream",
     "text": [
      "video 1/1 (223/901) D:\\815_CowDataChecking\\Honkawa\\2023-07-31\\03\\output_3fps\\20230731-030500-031000_10fps_3fps.mp4: 384x640 6 cows, 32.5ms\n",
      "WARNING  'Masks.masks' is deprecated. Use 'Masks.data' instead.\n"
     ]
    },
    {
     "name": "stdout",
     "output_type": "stream",
     "text": [
      "White Percentage: 7.54%\n",
      "1/1 [==============================] - 0s 39ms/step\n",
      "White Percentage: 24.31%\n",
      "1/1 [==============================] - 0s 39ms/step\n"
     ]
    },
    {
     "name": "stderr",
     "output_type": "stream",
     "text": [
      "video 1/1 (224/901) D:\\815_CowDataChecking\\Honkawa\\2023-07-31\\03\\output_3fps\\20230731-030500-031000_10fps_3fps.mp4: 384x640 6 cows, 35.5ms\n",
      "WARNING  'Masks.masks' is deprecated. Use 'Masks.data' instead.\n"
     ]
    },
    {
     "name": "stdout",
     "output_type": "stream",
     "text": [
      "White Percentage: 7.40%\n",
      "1/1 [==============================] - 0s 34ms/step\n",
      "White Percentage: 24.82%\n",
      "1/1 [==============================] - 0s 38ms/step\n"
     ]
    },
    {
     "name": "stderr",
     "output_type": "stream",
     "text": [
      "video 1/1 (225/901) D:\\815_CowDataChecking\\Honkawa\\2023-07-31\\03\\output_3fps\\20230731-030500-031000_10fps_3fps.mp4: 384x640 4 cows, 26.0ms\n",
      "WARNING  'Masks.masks' is deprecated. Use 'Masks.data' instead.\n"
     ]
    },
    {
     "name": "stdout",
     "output_type": "stream",
     "text": [
      "White Percentage: 7.43%\n",
      "1/1 [==============================] - 0s 34ms/step\n",
      "White Percentage: 28.35%\n",
      "1/1 [==============================] - 0s 35ms/step\n"
     ]
    },
    {
     "name": "stderr",
     "output_type": "stream",
     "text": [
      "video 1/1 (226/901) D:\\815_CowDataChecking\\Honkawa\\2023-07-31\\03\\output_3fps\\20230731-030500-031000_10fps_3fps.mp4: 384x640 5 cows, 26.5ms\n",
      "WARNING  'Masks.masks' is deprecated. Use 'Masks.data' instead.\n"
     ]
    },
    {
     "name": "stdout",
     "output_type": "stream",
     "text": [
      "White Percentage: 7.43%\n",
      "1/1 [==============================] - 0s 34ms/step\n",
      "White Percentage: 29.13%\n",
      "1/1 [==============================] - 0s 33ms/step\n"
     ]
    },
    {
     "name": "stderr",
     "output_type": "stream",
     "text": [
      "video 1/1 (227/901) D:\\815_CowDataChecking\\Honkawa\\2023-07-31\\03\\output_3fps\\20230731-030500-031000_10fps_3fps.mp4: 384x640 5 cows, 28.0ms\n",
      "WARNING  'Masks.masks' is deprecated. Use 'Masks.data' instead.\n"
     ]
    },
    {
     "name": "stdout",
     "output_type": "stream",
     "text": [
      "White Percentage: 7.27%\n",
      "1/1 [==============================] - 0s 34ms/step\n",
      "White Percentage: 25.36%\n",
      "1/1 [==============================] - 0s 33ms/step\n"
     ]
    },
    {
     "name": "stderr",
     "output_type": "stream",
     "text": [
      "video 1/1 (228/901) D:\\815_CowDataChecking\\Honkawa\\2023-07-31\\03\\output_3fps\\20230731-030500-031000_10fps_3fps.mp4: 384x640 5 cows, 34.5ms\n",
      "WARNING  'Masks.masks' is deprecated. Use 'Masks.data' instead.\n"
     ]
    },
    {
     "name": "stdout",
     "output_type": "stream",
     "text": [
      "White Percentage: 7.55%\n",
      "1/1 [==============================] - 0s 35ms/step\n",
      "White Percentage: 29.76%\n",
      "1/1 [==============================] - 0s 38ms/step\n"
     ]
    },
    {
     "name": "stderr",
     "output_type": "stream",
     "text": [
      "video 1/1 (229/901) D:\\815_CowDataChecking\\Honkawa\\2023-07-31\\03\\output_3fps\\20230731-030500-031000_10fps_3fps.mp4: 384x640 5 cows, 34.5ms\n",
      "WARNING  'Masks.masks' is deprecated. Use 'Masks.data' instead.\n"
     ]
    },
    {
     "name": "stdout",
     "output_type": "stream",
     "text": [
      "White Percentage: 7.34%\n",
      "1/1 [==============================] - 0s 32ms/step\n",
      "White Percentage: 29.85%\n",
      "1/1 [==============================] - 0s 34ms/step\n"
     ]
    },
    {
     "name": "stderr",
     "output_type": "stream",
     "text": [
      "video 1/1 (230/901) D:\\815_CowDataChecking\\Honkawa\\2023-07-31\\03\\output_3fps\\20230731-030500-031000_10fps_3fps.mp4: 384x640 5 cows, 25.0ms\n",
      "WARNING  'Masks.masks' is deprecated. Use 'Masks.data' instead.\n"
     ]
    },
    {
     "name": "stdout",
     "output_type": "stream",
     "text": [
      "White Percentage: 7.46%\n",
      "1/1 [==============================] - 0s 33ms/step\n",
      "White Percentage: 25.18%\n",
      "1/1 [==============================] - 0s 33ms/step\n"
     ]
    },
    {
     "name": "stderr",
     "output_type": "stream",
     "text": [
      "video 1/1 (231/901) D:\\815_CowDataChecking\\Honkawa\\2023-07-31\\03\\output_3fps\\20230731-030500-031000_10fps_3fps.mp4: 384x640 5 cows, 35.5ms\n",
      "WARNING  'Masks.masks' is deprecated. Use 'Masks.data' instead.\n"
     ]
    },
    {
     "name": "stdout",
     "output_type": "stream",
     "text": [
      "White Percentage: 7.68%\n",
      "1/1 [==============================] - 0s 34ms/step\n",
      "White Percentage: 25.77%\n",
      "1/1 [==============================] - 0s 41ms/step\n",
      "White Percentage: 7.38%\n",
      "1/1 [==============================] - 0s 33ms/step\n"
     ]
    },
    {
     "name": "stderr",
     "output_type": "stream",
     "text": [
      "video 1/1 (232/901) D:\\815_CowDataChecking\\Honkawa\\2023-07-31\\03\\output_3fps\\20230731-030500-031000_10fps_3fps.mp4: 384x640 5 cows, 27.0ms\n",
      "WARNING  'Masks.masks' is deprecated. Use 'Masks.data' instead.\n"
     ]
    },
    {
     "name": "stdout",
     "output_type": "stream",
     "text": [
      "White Percentage: 3.28%\n",
      "[['ID', 'RANK1', 'RANK1_prob', 'RANK2', 'RANK2_prob', 'RANK3', 'RANK3_prob', 'RANK4', 'RANK4_prob', 'RANK5', 'RANK5_prob']]\n",
      "new cattle  xxxxxxxxxxxxxxxxxxxxx new cattle alert \n",
      "1/1 [==============================] - 0s 33ms/step\n",
      "White Percentage: 30.68%\n",
      "1/1 [==============================] - 0s 37ms/step\n",
      "White Percentage: 6.60%\n",
      "1/1 [==============================] - 0s 34ms/step\n"
     ]
    },
    {
     "name": "stderr",
     "output_type": "stream",
     "text": [
      "video 1/1 (233/901) D:\\815_CowDataChecking\\Honkawa\\2023-07-31\\03\\output_3fps\\20230731-030500-031000_10fps_3fps.mp4: 384x640 5 cows, 27.0ms\n",
      "WARNING  'Masks.masks' is deprecated. Use 'Masks.data' instead.\n"
     ]
    },
    {
     "name": "stdout",
     "output_type": "stream",
     "text": [
      "White Percentage: 3.49%\n",
      "1/1 [==============================] - 0s 38ms/step\n",
      "White Percentage: 25.28%\n",
      "1/1 [==============================] - 0s 34ms/step\n",
      "White Percentage: 6.25%\n",
      "1/1 [==============================] - 0s 35ms/step\n"
     ]
    },
    {
     "name": "stderr",
     "output_type": "stream",
     "text": [
      "video 1/1 (234/901) D:\\815_CowDataChecking\\Honkawa\\2023-07-31\\03\\output_3fps\\20230731-030500-031000_10fps_3fps.mp4: 384x640 6 cows, 36.5ms\n",
      "WARNING  'Masks.masks' is deprecated. Use 'Masks.data' instead.\n"
     ]
    },
    {
     "name": "stdout",
     "output_type": "stream",
     "text": [
      "White Percentage: 2.77%\n",
      "1/1 [==============================] - 0s 37ms/step\n",
      "White Percentage: 26.55%\n",
      "1/1 [==============================] - 0s 33ms/step\n",
      "White Percentage: 6.62%\n",
      "1/1 [==============================] - 0s 32ms/step\n"
     ]
    },
    {
     "name": "stderr",
     "output_type": "stream",
     "text": [
      "video 1/1 (235/901) D:\\815_CowDataChecking\\Honkawa\\2023-07-31\\03\\output_3fps\\20230731-030500-031000_10fps_3fps.mp4: 384x640 6 cows, 27.0ms\n",
      "WARNING  'Masks.masks' is deprecated. Use 'Masks.data' instead.\n"
     ]
    },
    {
     "name": "stdout",
     "output_type": "stream",
     "text": [
      "White Percentage: 3.05%\n",
      "1/1 [==============================] - 0s 34ms/step\n",
      "White Percentage: 24.23%\n",
      "1/1 [==============================] - 0s 33ms/step\n",
      "White Percentage: 5.32%\n",
      "1/1 [==============================] - 0s 33ms/step\n"
     ]
    },
    {
     "name": "stderr",
     "output_type": "stream",
     "text": [
      "video 1/1 (236/901) D:\\815_CowDataChecking\\Honkawa\\2023-07-31\\03\\output_3fps\\20230731-030500-031000_10fps_3fps.mp4: 384x640 5 cows, 26.0ms\n",
      "WARNING  'Masks.masks' is deprecated. Use 'Masks.data' instead.\n"
     ]
    },
    {
     "name": "stdout",
     "output_type": "stream",
     "text": [
      "White Percentage: 2.83%\n",
      "1/1 [==============================] - 0s 33ms/step\n",
      "White Percentage: 26.31%\n",
      "1/1 [==============================] - 0s 36ms/step\n",
      "White Percentage: 7.07%\n",
      "1/1 [==============================] - 0s 34ms/step\n"
     ]
    },
    {
     "name": "stderr",
     "output_type": "stream",
     "text": [
      "video 1/1 (237/901) D:\\815_CowDataChecking\\Honkawa\\2023-07-31\\03\\output_3fps\\20230731-030500-031000_10fps_3fps.mp4: 384x640 5 cows, 35.5ms\n",
      "WARNING  'Masks.masks' is deprecated. Use 'Masks.data' instead.\n"
     ]
    },
    {
     "name": "stdout",
     "output_type": "stream",
     "text": [
      "White Percentage: 2.97%\n",
      "1/1 [==============================] - 0s 38ms/step\n",
      "White Percentage: 27.51%\n",
      "1/1 [==============================] - 0s 39ms/step\n",
      "White Percentage: 6.78%\n",
      "1/1 [==============================] - 0s 34ms/step\n"
     ]
    },
    {
     "name": "stderr",
     "output_type": "stream",
     "text": [
      "video 1/1 (238/901) D:\\815_CowDataChecking\\Honkawa\\2023-07-31\\03\\output_3fps\\20230731-030500-031000_10fps_3fps.mp4: 384x640 6 cows, 25.0ms\n",
      "WARNING  'Masks.masks' is deprecated. Use 'Masks.data' instead.\n"
     ]
    },
    {
     "name": "stdout",
     "output_type": "stream",
     "text": [
      "White Percentage: 3.55%\n",
      "1/1 [==============================] - 0s 34ms/step\n",
      "White Percentage: 23.13%\n",
      "1/1 [==============================] - 0s 34ms/step\n",
      "White Percentage: 7.68%\n",
      "1/1 [==============================] - 0s 33ms/step\n"
     ]
    },
    {
     "name": "stderr",
     "output_type": "stream",
     "text": [
      "video 1/1 (239/901) D:\\815_CowDataChecking\\Honkawa\\2023-07-31\\03\\output_3fps\\20230731-030500-031000_10fps_3fps.mp4: 384x640 5 cows, 39.5ms\n",
      "WARNING  'Masks.masks' is deprecated. Use 'Masks.data' instead.\n"
     ]
    },
    {
     "name": "stdout",
     "output_type": "stream",
     "text": [
      "White Percentage: 3.60%\n",
      "1/1 [==============================] - 0s 33ms/step\n",
      "White Percentage: 23.35%\n",
      "1/1 [==============================] - 0s 34ms/step\n",
      "White Percentage: 7.15%\n",
      "1/1 [==============================] - 0s 33ms/step\n"
     ]
    },
    {
     "name": "stderr",
     "output_type": "stream",
     "text": [
      "video 1/1 (240/901) D:\\815_CowDataChecking\\Honkawa\\2023-07-31\\03\\output_3fps\\20230731-030500-031000_10fps_3fps.mp4: 384x640 5 cows, 36.5ms\n",
      "WARNING  'Masks.masks' is deprecated. Use 'Masks.data' instead.\n"
     ]
    },
    {
     "name": "stdout",
     "output_type": "stream",
     "text": [
      "White Percentage: 3.01%\n",
      "1/1 [==============================] - 0s 35ms/step\n",
      "White Percentage: 28.07%\n",
      "1/1 [==============================] - 0s 33ms/step\n",
      "White Percentage: 7.33%\n",
      "1/1 [==============================] - 0s 38ms/step\n"
     ]
    },
    {
     "name": "stderr",
     "output_type": "stream",
     "text": [
      "video 1/1 (241/901) D:\\815_CowDataChecking\\Honkawa\\2023-07-31\\03\\output_3fps\\20230731-030500-031000_10fps_3fps.mp4: 384x640 5 cows, 31.1ms\n",
      "WARNING  'Masks.masks' is deprecated. Use 'Masks.data' instead.\n"
     ]
    },
    {
     "name": "stdout",
     "output_type": "stream",
     "text": [
      "White Percentage: 3.47%\n",
      "1/1 [==============================] - 0s 34ms/step\n",
      "White Percentage: 29.22%\n",
      "1/1 [==============================] - 0s 33ms/step\n",
      "White Percentage: 7.53%\n",
      "1/1 [==============================] - 0s 36ms/step\n"
     ]
    },
    {
     "name": "stderr",
     "output_type": "stream",
     "text": [
      "video 1/1 (242/901) D:\\815_CowDataChecking\\Honkawa\\2023-07-31\\03\\output_3fps\\20230731-030500-031000_10fps_3fps.mp4: 384x640 5 cows, 20.0ms\n",
      "WARNING  'Masks.masks' is deprecated. Use 'Masks.data' instead.\n"
     ]
    },
    {
     "name": "stdout",
     "output_type": "stream",
     "text": [
      "White Percentage: 3.62%\n",
      "1/1 [==============================] - 0s 34ms/step\n",
      "White Percentage: 20.98%\n",
      "1/1 [==============================] - 0s 33ms/step\n",
      "White Percentage: 7.51%\n",
      "1/1 [==============================] - 0s 34ms/step\n"
     ]
    },
    {
     "name": "stderr",
     "output_type": "stream",
     "text": [
      "video 1/1 (243/901) D:\\815_CowDataChecking\\Honkawa\\2023-07-31\\03\\output_3fps\\20230731-030500-031000_10fps_3fps.mp4: 384x640 5 cows, 29.0ms\n",
      "WARNING  'Masks.masks' is deprecated. Use 'Masks.data' instead.\n"
     ]
    },
    {
     "name": "stdout",
     "output_type": "stream",
     "text": [
      "White Percentage: 3.79%\n",
      "1/1 [==============================] - 0s 35ms/step\n",
      "White Percentage: 22.47%\n",
      "1/1 [==============================] - 0s 33ms/step\n",
      "White Percentage: 7.59%\n",
      "1/1 [==============================] - 0s 40ms/step\n"
     ]
    },
    {
     "name": "stderr",
     "output_type": "stream",
     "text": [
      "video 1/1 (244/901) D:\\815_CowDataChecking\\Honkawa\\2023-07-31\\03\\output_3fps\\20230731-030500-031000_10fps_3fps.mp4: 384x640 5 cows, 25.5ms\n",
      "WARNING  'Masks.masks' is deprecated. Use 'Masks.data' instead.\n"
     ]
    },
    {
     "name": "stdout",
     "output_type": "stream",
     "text": [
      "White Percentage: 3.99%\n",
      "1/1 [==============================] - 0s 34ms/step\n",
      "White Percentage: 23.39%\n",
      "1/1 [==============================] - 0s 34ms/step\n",
      "White Percentage: 7.54%\n",
      "1/1 [==============================] - 0s 39ms/step\n"
     ]
    },
    {
     "name": "stderr",
     "output_type": "stream",
     "text": [
      "video 1/1 (245/901) D:\\815_CowDataChecking\\Honkawa\\2023-07-31\\03\\output_3fps\\20230731-030500-031000_10fps_3fps.mp4: 384x640 5 cows, 24.5ms\n",
      "WARNING  'Masks.masks' is deprecated. Use 'Masks.data' instead.\n"
     ]
    },
    {
     "name": "stdout",
     "output_type": "stream",
     "text": [
      "White Percentage: 4.18%\n",
      "1/1 [==============================] - 0s 35ms/step\n",
      "White Percentage: 26.18%\n",
      "1/1 [==============================] - 0s 35ms/step\n",
      "White Percentage: 7.43%\n",
      "1/1 [==============================] - 0s 34ms/step\n"
     ]
    },
    {
     "name": "stderr",
     "output_type": "stream",
     "text": [
      "video 1/1 (246/901) D:\\815_CowDataChecking\\Honkawa\\2023-07-31\\03\\output_3fps\\20230731-030500-031000_10fps_3fps.mp4: 384x640 5 cows, 28.0ms\n",
      "WARNING  'Masks.masks' is deprecated. Use 'Masks.data' instead.\n"
     ]
    },
    {
     "name": "stdout",
     "output_type": "stream",
     "text": [
      "White Percentage: 3.72%\n",
      "1/1 [==============================] - 0s 36ms/step\n",
      "White Percentage: 25.10%\n",
      "1/1 [==============================] - 0s 33ms/step\n",
      "White Percentage: 7.21%\n",
      "1/1 [==============================] - 0s 39ms/step\n"
     ]
    },
    {
     "name": "stderr",
     "output_type": "stream",
     "text": [
      "video 1/1 (247/901) D:\\815_CowDataChecking\\Honkawa\\2023-07-31\\03\\output_3fps\\20230731-030500-031000_10fps_3fps.mp4: 384x640 5 cows, 36.5ms\n",
      "WARNING  'Masks.masks' is deprecated. Use 'Masks.data' instead.\n"
     ]
    },
    {
     "name": "stdout",
     "output_type": "stream",
     "text": [
      "White Percentage: 4.34%\n",
      "1/1 [==============================] - 0s 34ms/step\n",
      "White Percentage: 25.44%\n",
      "1/1 [==============================] - 0s 33ms/step\n",
      "White Percentage: 6.47%\n",
      "1/1 [==============================] - 0s 33ms/step\n"
     ]
    },
    {
     "name": "stderr",
     "output_type": "stream",
     "text": [
      "video 1/1 (248/901) D:\\815_CowDataChecking\\Honkawa\\2023-07-31\\03\\output_3fps\\20230731-030500-031000_10fps_3fps.mp4: 384x640 5 cows, 31.0ms\n",
      "WARNING  'Masks.masks' is deprecated. Use 'Masks.data' instead.\n"
     ]
    },
    {
     "name": "stdout",
     "output_type": "stream",
     "text": [
      "White Percentage: 4.14%\n",
      "1/1 [==============================] - 0s 40ms/step\n",
      "White Percentage: 23.09%\n",
      "1/1 [==============================] - 0s 36ms/step\n",
      "White Percentage: 6.26%\n",
      "1/1 [==============================] - 0s 35ms/step\n"
     ]
    },
    {
     "name": "stderr",
     "output_type": "stream",
     "text": [
      "video 1/1 (249/901) D:\\815_CowDataChecking\\Honkawa\\2023-07-31\\03\\output_3fps\\20230731-030500-031000_10fps_3fps.mp4: 384x640 5 cows, 26.0ms\n",
      "WARNING  'Masks.masks' is deprecated. Use 'Masks.data' instead.\n"
     ]
    },
    {
     "name": "stdout",
     "output_type": "stream",
     "text": [
      "White Percentage: 4.15%\n",
      "1/1 [==============================] - 0s 38ms/step\n",
      "White Percentage: 24.22%\n",
      "1/1 [==============================] - 0s 32ms/step\n",
      "White Percentage: 5.11%\n",
      "1/1 [==============================] - 0s 33ms/step\n"
     ]
    },
    {
     "name": "stderr",
     "output_type": "stream",
     "text": [
      "video 1/1 (250/901) D:\\815_CowDataChecking\\Honkawa\\2023-07-31\\03\\output_3fps\\20230731-030500-031000_10fps_3fps.mp4: 384x640 5 cows, 23.0ms\n",
      "WARNING  'Masks.masks' is deprecated. Use 'Masks.data' instead.\n"
     ]
    },
    {
     "name": "stdout",
     "output_type": "stream",
     "text": [
      "White Percentage: 4.13%\n",
      "1/1 [==============================] - 0s 35ms/step\n",
      "White Percentage: 22.43%\n",
      "1/1 [==============================] - 0s 33ms/step\n",
      "White Percentage: 4.70%\n",
      "1/1 [==============================] - 0s 33ms/step\n"
     ]
    },
    {
     "name": "stderr",
     "output_type": "stream",
     "text": [
      "video 1/1 (251/901) D:\\815_CowDataChecking\\Honkawa\\2023-07-31\\03\\output_3fps\\20230731-030500-031000_10fps_3fps.mp4: 384x640 5 cows, 30.0ms\n",
      "WARNING  'Masks.masks' is deprecated. Use 'Masks.data' instead.\n"
     ]
    },
    {
     "name": "stdout",
     "output_type": "stream",
     "text": [
      "White Percentage: 3.60%\n",
      "1/1 [==============================] - 0s 35ms/step\n",
      "White Percentage: 23.97%\n",
      "1/1 [==============================] - 0s 37ms/step\n",
      "White Percentage: 4.92%\n",
      "1/1 [==============================] - 0s 33ms/step\n"
     ]
    },
    {
     "name": "stderr",
     "output_type": "stream",
     "text": [
      "video 1/1 (252/901) D:\\815_CowDataChecking\\Honkawa\\2023-07-31\\03\\output_3fps\\20230731-030500-031000_10fps_3fps.mp4: 384x640 5 cows, 28.0ms\n",
      "WARNING  'Masks.masks' is deprecated. Use 'Masks.data' instead.\n"
     ]
    },
    {
     "name": "stdout",
     "output_type": "stream",
     "text": [
      "White Percentage: 3.83%\n",
      "1/1 [==============================] - 0s 34ms/step\n",
      "White Percentage: 24.13%\n",
      "1/1 [==============================] - 0s 33ms/step\n",
      "White Percentage: 5.52%\n",
      "1/1 [==============================] - 0s 36ms/step\n"
     ]
    },
    {
     "name": "stderr",
     "output_type": "stream",
     "text": [
      "video 1/1 (253/901) D:\\815_CowDataChecking\\Honkawa\\2023-07-31\\03\\output_3fps\\20230731-030500-031000_10fps_3fps.mp4: 384x640 5 cows, 28.0ms\n",
      "WARNING  'Masks.masks' is deprecated. Use 'Masks.data' instead.\n"
     ]
    },
    {
     "name": "stdout",
     "output_type": "stream",
     "text": [
      "White Percentage: 4.36%\n",
      "1/1 [==============================] - 0s 34ms/step\n",
      "White Percentage: 21.13%\n",
      "1/1 [==============================] - 0s 33ms/step\n",
      "White Percentage: 6.25%\n",
      "1/1 [==============================] - 0s 39ms/step\n"
     ]
    },
    {
     "name": "stderr",
     "output_type": "stream",
     "text": [
      "video 1/1 (254/901) D:\\815_CowDataChecking\\Honkawa\\2023-07-31\\03\\output_3fps\\20230731-030500-031000_10fps_3fps.mp4: 384x640 5 cows, 34.0ms\n",
      "WARNING  'Masks.masks' is deprecated. Use 'Masks.data' instead.\n"
     ]
    },
    {
     "name": "stdout",
     "output_type": "stream",
     "text": [
      "White Percentage: 4.28%\n",
      "1/1 [==============================] - 0s 33ms/step\n",
      "White Percentage: 23.42%\n",
      "1/1 [==============================] - 0s 34ms/step\n",
      "White Percentage: 6.85%\n",
      "1/1 [==============================] - 0s 32ms/step\n"
     ]
    },
    {
     "name": "stderr",
     "output_type": "stream",
     "text": [
      "video 1/1 (255/901) D:\\815_CowDataChecking\\Honkawa\\2023-07-31\\03\\output_3fps\\20230731-030500-031000_10fps_3fps.mp4: 384x640 4 cows, 33.6ms\n",
      "WARNING  'Masks.masks' is deprecated. Use 'Masks.data' instead.\n"
     ]
    },
    {
     "name": "stdout",
     "output_type": "stream",
     "text": [
      "White Percentage: 4.43%\n",
      "1/1 [==============================] - 0s 37ms/step\n",
      "White Percentage: 22.31%\n",
      "1/1 [==============================] - 0s 33ms/step\n",
      "White Percentage: 6.89%\n",
      "1/1 [==============================] - 0s 33ms/step\n"
     ]
    },
    {
     "name": "stderr",
     "output_type": "stream",
     "text": [
      "video 1/1 (256/901) D:\\815_CowDataChecking\\Honkawa\\2023-07-31\\03\\output_3fps\\20230731-030500-031000_10fps_3fps.mp4: 384x640 5 cows, 34.0ms\n",
      "WARNING  'Masks.masks' is deprecated. Use 'Masks.data' instead.\n"
     ]
    },
    {
     "name": "stdout",
     "output_type": "stream",
     "text": [
      "White Percentage: 3.86%\n",
      "1/1 [==============================] - 0s 35ms/step\n",
      "White Percentage: 24.96%\n",
      "1/1 [==============================] - 0s 34ms/step\n",
      "White Percentage: 6.57%\n",
      "1/1 [==============================] - 0s 34ms/step\n"
     ]
    },
    {
     "name": "stderr",
     "output_type": "stream",
     "text": [
      "video 1/1 (257/901) D:\\815_CowDataChecking\\Honkawa\\2023-07-31\\03\\output_3fps\\20230731-030500-031000_10fps_3fps.mp4: 384x640 4 cows, 26.0ms\n",
      "WARNING  'Masks.masks' is deprecated. Use 'Masks.data' instead.\n"
     ]
    },
    {
     "name": "stdout",
     "output_type": "stream",
     "text": [
      "White Percentage: 4.22%\n",
      "1/1 [==============================] - 0s 39ms/step\n",
      "White Percentage: 24.93%\n",
      "1/1 [==============================] - 0s 39ms/step\n",
      "White Percentage: 2.09%\n",
      "1/1 [==============================] - 0s 35ms/step\n"
     ]
    },
    {
     "name": "stderr",
     "output_type": "stream",
     "text": [
      "video 1/1 (258/901) D:\\815_CowDataChecking\\Honkawa\\2023-07-31\\03\\output_3fps\\20230731-030500-031000_10fps_3fps.mp4: 384x640 5 cows, 35.0ms\n",
      "WARNING  'Masks.masks' is deprecated. Use 'Masks.data' instead.\n"
     ]
    },
    {
     "name": "stdout",
     "output_type": "stream",
     "text": [
      "White Percentage: 4.36%\n",
      "1/1 [==============================] - 0s 39ms/step\n",
      "White Percentage: 22.17%\n",
      "1/1 [==============================] - 0s 34ms/step\n",
      "White Percentage: 5.20%\n",
      "1/1 [==============================] - 0s 35ms/step\n"
     ]
    },
    {
     "name": "stderr",
     "output_type": "stream",
     "text": [
      "video 1/1 (259/901) D:\\815_CowDataChecking\\Honkawa\\2023-07-31\\03\\output_3fps\\20230731-030500-031000_10fps_3fps.mp4: 384x640 5 cows, 33.5ms\n",
      "WARNING  'Masks.masks' is deprecated. Use 'Masks.data' instead.\n"
     ]
    },
    {
     "name": "stdout",
     "output_type": "stream",
     "text": [
      "White Percentage: 3.64%\n",
      "1/1 [==============================] - 0s 36ms/step\n",
      "White Percentage: 22.98%\n",
      "1/1 [==============================] - 0s 34ms/step\n",
      "White Percentage: 6.66%\n",
      "1/1 [==============================] - 0s 34ms/step\n"
     ]
    },
    {
     "name": "stderr",
     "output_type": "stream",
     "text": [
      "video 1/1 (260/901) D:\\815_CowDataChecking\\Honkawa\\2023-07-31\\03\\output_3fps\\20230731-030500-031000_10fps_3fps.mp4: 384x640 5 cows, 26.0ms\n",
      "WARNING  'Masks.masks' is deprecated. Use 'Masks.data' instead.\n"
     ]
    },
    {
     "name": "stdout",
     "output_type": "stream",
     "text": [
      "White Percentage: 4.19%\n",
      "1/1 [==============================] - 0s 34ms/step\n",
      "White Percentage: 20.07%\n",
      "1/1 [==============================] - 0s 32ms/step\n",
      "White Percentage: 6.53%\n",
      "1/1 [==============================] - 0s 34ms/step\n"
     ]
    },
    {
     "name": "stderr",
     "output_type": "stream",
     "text": [
      "video 1/1 (261/901) D:\\815_CowDataChecking\\Honkawa\\2023-07-31\\03\\output_3fps\\20230731-030500-031000_10fps_3fps.mp4: 384x640 5 cows, 28.0ms\n",
      "WARNING  'Masks.masks' is deprecated. Use 'Masks.data' instead.\n"
     ]
    },
    {
     "name": "stdout",
     "output_type": "stream",
     "text": [
      "White Percentage: 4.15%\n",
      "1/1 [==============================] - 0s 33ms/step\n",
      "White Percentage: 24.78%\n",
      "1/1 [==============================] - 0s 34ms/step\n",
      "White Percentage: 5.99%\n",
      "1/1 [==============================] - 0s 33ms/step\n"
     ]
    },
    {
     "name": "stderr",
     "output_type": "stream",
     "text": [
      "video 1/1 (262/901) D:\\815_CowDataChecking\\Honkawa\\2023-07-31\\03\\output_3fps\\20230731-030500-031000_10fps_3fps.mp4: 384x640 5 cows, 26.0ms\n",
      "WARNING  'Masks.masks' is deprecated. Use 'Masks.data' instead.\n"
     ]
    },
    {
     "name": "stdout",
     "output_type": "stream",
     "text": [
      "White Percentage: 3.67%\n",
      "1/1 [==============================] - 0s 34ms/step\n",
      "White Percentage: 25.55%\n",
      "1/1 [==============================] - 0s 39ms/step\n",
      "White Percentage: 5.94%\n",
      "1/1 [==============================] - 0s 40ms/step\n"
     ]
    },
    {
     "name": "stderr",
     "output_type": "stream",
     "text": [
      "video 1/1 (263/901) D:\\815_CowDataChecking\\Honkawa\\2023-07-31\\03\\output_3fps\\20230731-030500-031000_10fps_3fps.mp4: 384x640 4 cows, 27.0ms\n",
      "WARNING  'Masks.masks' is deprecated. Use 'Masks.data' instead.\n"
     ]
    },
    {
     "name": "stdout",
     "output_type": "stream",
     "text": [
      "White Percentage: 4.15%\n",
      "1/1 [==============================] - 0s 33ms/step\n",
      "White Percentage: 26.48%\n",
      "1/1 [==============================] - 0s 35ms/step\n",
      "White Percentage: 5.65%\n",
      "1/1 [==============================] - 0s 34ms/step\n"
     ]
    },
    {
     "name": "stderr",
     "output_type": "stream",
     "text": [
      "video 1/1 (264/901) D:\\815_CowDataChecking\\Honkawa\\2023-07-31\\03\\output_3fps\\20230731-030500-031000_10fps_3fps.mp4: 384x640 4 cows, 25.0ms\n",
      "WARNING  'Masks.masks' is deprecated. Use 'Masks.data' instead.\n"
     ]
    },
    {
     "name": "stdout",
     "output_type": "stream",
     "text": [
      "White Percentage: 4.04%\n",
      "1/1 [==============================] - 0s 36ms/step\n",
      "White Percentage: 25.82%\n",
      "1/1 [==============================] - 0s 34ms/step\n",
      "White Percentage: 5.62%\n",
      "1/1 [==============================] - 0s 32ms/step\n"
     ]
    },
    {
     "name": "stderr",
     "output_type": "stream",
     "text": [
      "video 1/1 (265/901) D:\\815_CowDataChecking\\Honkawa\\2023-07-31\\03\\output_3fps\\20230731-030500-031000_10fps_3fps.mp4: 384x640 4 cows, 35.0ms\n",
      "WARNING  'Masks.masks' is deprecated. Use 'Masks.data' instead.\n"
     ]
    },
    {
     "name": "stdout",
     "output_type": "stream",
     "text": [
      "White Percentage: 2.75%\n",
      "1/1 [==============================] - 0s 39ms/step\n",
      "White Percentage: 24.67%\n",
      "1/1 [==============================] - 0s 35ms/step\n",
      "White Percentage: 5.23%\n",
      "1/1 [==============================] - 0s 36ms/step\n"
     ]
    },
    {
     "name": "stderr",
     "output_type": "stream",
     "text": [
      "video 1/1 (266/901) D:\\815_CowDataChecking\\Honkawa\\2023-07-31\\03\\output_3fps\\20230731-030500-031000_10fps_3fps.mp4: 384x640 4 cows, 42.0ms\n",
      "WARNING  'Masks.masks' is deprecated. Use 'Masks.data' instead.\n"
     ]
    },
    {
     "name": "stdout",
     "output_type": "stream",
     "text": [
      "White Percentage: 3.50%\n",
      "1/1 [==============================] - 0s 33ms/step\n",
      "White Percentage: 23.54%\n",
      "1/1 [==============================] - 0s 36ms/step\n",
      "White Percentage: 5.37%\n",
      "1/1 [==============================] - 0s 35ms/step\n"
     ]
    },
    {
     "name": "stderr",
     "output_type": "stream",
     "text": [
      "video 1/1 (267/901) D:\\815_CowDataChecking\\Honkawa\\2023-07-31\\03\\output_3fps\\20230731-030500-031000_10fps_3fps.mp4: 384x640 4 cows, 35.0ms\n",
      "WARNING  'Masks.masks' is deprecated. Use 'Masks.data' instead.\n"
     ]
    },
    {
     "name": "stdout",
     "output_type": "stream",
     "text": [
      "White Percentage: 3.01%\n",
      "1/1 [==============================] - 0s 34ms/step\n",
      "White Percentage: 5.13%\n",
      "1/1 [==============================] - 0s 34ms/step\n"
     ]
    },
    {
     "name": "stderr",
     "output_type": "stream",
     "text": [
      "video 1/1 (268/901) D:\\815_CowDataChecking\\Honkawa\\2023-07-31\\03\\output_3fps\\20230731-030500-031000_10fps_3fps.mp4: 384x640 5 cows, 31.0ms\n",
      "WARNING  'Masks.masks' is deprecated. Use 'Masks.data' instead.\n"
     ]
    },
    {
     "name": "stdout",
     "output_type": "stream",
     "text": [
      "White Percentage: 2.34%\n",
      "1/1 [==============================] - 0s 36ms/step\n",
      "White Percentage: 5.05%\n",
      "1/1 [==============================] - 0s 35ms/step\n"
     ]
    },
    {
     "name": "stderr",
     "output_type": "stream",
     "text": [
      "video 1/1 (269/901) D:\\815_CowDataChecking\\Honkawa\\2023-07-31\\03\\output_3fps\\20230731-030500-031000_10fps_3fps.mp4: 384x640 5 cows, 26.0ms\n",
      "WARNING  'Masks.masks' is deprecated. Use 'Masks.data' instead.\n"
     ]
    },
    {
     "name": "stdout",
     "output_type": "stream",
     "text": [
      "White Percentage: 3.46%\n",
      "1/1 [==============================] - 0s 35ms/step\n",
      "White Percentage: 4.99%\n",
      "1/1 [==============================] - 0s 39ms/step\n"
     ]
    },
    {
     "name": "stderr",
     "output_type": "stream",
     "text": [
      "video 1/1 (270/901) D:\\815_CowDataChecking\\Honkawa\\2023-07-31\\03\\output_3fps\\20230731-030500-031000_10fps_3fps.mp4: 384x640 5 cows, 36.3ms\n",
      "WARNING  'Masks.masks' is deprecated. Use 'Masks.data' instead.\n"
     ]
    },
    {
     "name": "stdout",
     "output_type": "stream",
     "text": [
      "White Percentage: 3.65%\n",
      "1/1 [==============================] - 0s 36ms/step\n",
      "White Percentage: 4.95%\n",
      "1/1 [==============================] - 0s 35ms/step\n"
     ]
    },
    {
     "name": "stderr",
     "output_type": "stream",
     "text": [
      "video 1/1 (271/901) D:\\815_CowDataChecking\\Honkawa\\2023-07-31\\03\\output_3fps\\20230731-030500-031000_10fps_3fps.mp4: 384x640 5 cows, 35.0ms\n",
      "WARNING  'Masks.masks' is deprecated. Use 'Masks.data' instead.\n"
     ]
    },
    {
     "name": "stdout",
     "output_type": "stream",
     "text": [
      "White Percentage: 3.93%\n",
      "1/1 [==============================] - 0s 36ms/step\n",
      "White Percentage: 4.88%\n",
      "1/1 [==============================] - 0s 40ms/step\n"
     ]
    },
    {
     "name": "stderr",
     "output_type": "stream",
     "text": [
      "video 1/1 (272/901) D:\\815_CowDataChecking\\Honkawa\\2023-07-31\\03\\output_3fps\\20230731-030500-031000_10fps_3fps.mp4: 384x640 5 cows, 43.0ms\n",
      "WARNING  'Masks.masks' is deprecated. Use 'Masks.data' instead.\n"
     ]
    },
    {
     "name": "stdout",
     "output_type": "stream",
     "text": [
      "White Percentage: 4.67%\n",
      "1/1 [==============================] - 0s 40ms/step\n",
      "White Percentage: 4.81%\n",
      "1/1 [==============================] - 0s 35ms/step\n"
     ]
    },
    {
     "name": "stderr",
     "output_type": "stream",
     "text": [
      "video 1/1 (273/901) D:\\815_CowDataChecking\\Honkawa\\2023-07-31\\03\\output_3fps\\20230731-030500-031000_10fps_3fps.mp4: 384x640 5 cows, 35.0ms\n",
      "WARNING  'Masks.masks' is deprecated. Use 'Masks.data' instead.\n"
     ]
    },
    {
     "name": "stdout",
     "output_type": "stream",
     "text": [
      "White Percentage: 4.40%\n",
      "1/1 [==============================] - 0s 35ms/step\n",
      "White Percentage: 4.82%\n",
      "1/1 [==============================] - 0s 36ms/step\n"
     ]
    },
    {
     "name": "stderr",
     "output_type": "stream",
     "text": [
      "video 1/1 (274/901) D:\\815_CowDataChecking\\Honkawa\\2023-07-31\\03\\output_3fps\\20230731-030500-031000_10fps_3fps.mp4: 384x640 4 cows, 26.2ms\n",
      "WARNING  'Masks.masks' is deprecated. Use 'Masks.data' instead.\n"
     ]
    },
    {
     "name": "stdout",
     "output_type": "stream",
     "text": [
      "White Percentage: 4.23%\n",
      "1/1 [==============================] - 0s 34ms/step\n",
      "White Percentage: 4.66%\n",
      "1/1 [==============================] - 0s 36ms/step\n"
     ]
    },
    {
     "name": "stderr",
     "output_type": "stream",
     "text": [
      "video 1/1 (275/901) D:\\815_CowDataChecking\\Honkawa\\2023-07-31\\03\\output_3fps\\20230731-030500-031000_10fps_3fps.mp4: 384x640 4 cows, 27.0ms\n",
      "WARNING  'Masks.masks' is deprecated. Use 'Masks.data' instead.\n"
     ]
    },
    {
     "name": "stdout",
     "output_type": "stream",
     "text": [
      "White Percentage: 3.99%\n",
      "1/1 [==============================] - 0s 38ms/step\n",
      "White Percentage: 4.68%\n",
      "1/1 [==============================] - 0s 34ms/step\n"
     ]
    },
    {
     "name": "stderr",
     "output_type": "stream",
     "text": [
      "video 1/1 (276/901) D:\\815_CowDataChecking\\Honkawa\\2023-07-31\\03\\output_3fps\\20230731-030500-031000_10fps_3fps.mp4: 384x640 5 cows, 26.5ms\n",
      "WARNING  'Masks.masks' is deprecated. Use 'Masks.data' instead.\n"
     ]
    },
    {
     "name": "stdout",
     "output_type": "stream",
     "text": [
      "White Percentage: 4.66%\n",
      "1/1 [==============================] - 0s 33ms/step\n",
      "White Percentage: 4.30%\n",
      "1/1 [==============================] - 0s 37ms/step\n"
     ]
    },
    {
     "name": "stderr",
     "output_type": "stream",
     "text": [
      "video 1/1 (277/901) D:\\815_CowDataChecking\\Honkawa\\2023-07-31\\03\\output_3fps\\20230731-030500-031000_10fps_3fps.mp4: 384x640 4 cows, 26.0ms\n",
      "WARNING  'Masks.masks' is deprecated. Use 'Masks.data' instead.\n"
     ]
    },
    {
     "name": "stdout",
     "output_type": "stream",
     "text": [
      "White Percentage: 3.95%\n",
      "1/1 [==============================] - 0s 36ms/step\n",
      "White Percentage: 4.23%\n",
      "1/1 [==============================] - 0s 37ms/step\n"
     ]
    },
    {
     "name": "stderr",
     "output_type": "stream",
     "text": [
      "video 1/1 (278/901) D:\\815_CowDataChecking\\Honkawa\\2023-07-31\\03\\output_3fps\\20230731-030500-031000_10fps_3fps.mp4: 384x640 4 cows, 35.0ms\n",
      "WARNING  'Masks.masks' is deprecated. Use 'Masks.data' instead.\n"
     ]
    },
    {
     "name": "stdout",
     "output_type": "stream",
     "text": [
      "White Percentage: 4.54%\n",
      "1/1 [==============================] - 0s 36ms/step\n",
      "White Percentage: 4.26%\n",
      "1/1 [==============================] - 0s 37ms/step\n"
     ]
    },
    {
     "name": "stderr",
     "output_type": "stream",
     "text": [
      "video 1/1 (279/901) D:\\815_CowDataChecking\\Honkawa\\2023-07-31\\03\\output_3fps\\20230731-030500-031000_10fps_3fps.mp4: 384x640 4 cows, 27.0ms\n",
      "WARNING  'Masks.masks' is deprecated. Use 'Masks.data' instead.\n"
     ]
    },
    {
     "name": "stdout",
     "output_type": "stream",
     "text": [
      "White Percentage: 4.16%\n",
      "1/1 [==============================] - 0s 35ms/step\n",
      "White Percentage: 4.11%\n",
      "1/1 [==============================] - 0s 43ms/step\n"
     ]
    },
    {
     "name": "stderr",
     "output_type": "stream",
     "text": [
      "video 1/1 (280/901) D:\\815_CowDataChecking\\Honkawa\\2023-07-31\\03\\output_3fps\\20230731-030500-031000_10fps_3fps.mp4: 384x640 4 cows, 30.6ms\n",
      "WARNING  'Masks.masks' is deprecated. Use 'Masks.data' instead.\n"
     ]
    },
    {
     "name": "stdout",
     "output_type": "stream",
     "text": [
      "White Percentage: 2.61%\n",
      "1/1 [==============================] - 0s 43ms/step\n",
      "White Percentage: 4.05%\n",
      "1/1 [==============================] - 0s 34ms/step\n"
     ]
    },
    {
     "name": "stderr",
     "output_type": "stream",
     "text": [
      "video 1/1 (281/901) D:\\815_CowDataChecking\\Honkawa\\2023-07-31\\03\\output_3fps\\20230731-030500-031000_10fps_3fps.mp4: 384x640 4 cows, 32.0ms\n",
      "WARNING  'Masks.masks' is deprecated. Use 'Masks.data' instead.\n"
     ]
    },
    {
     "name": "stdout",
     "output_type": "stream",
     "text": [
      "White Percentage: 1.36%\n",
      "1/1 [==============================] - 0s 35ms/step\n",
      "White Percentage: 4.07%\n",
      "1/1 [==============================] - 0s 35ms/step\n"
     ]
    },
    {
     "name": "stderr",
     "output_type": "stream",
     "text": [
      "video 1/1 (282/901) D:\\815_CowDataChecking\\Honkawa\\2023-07-31\\03\\output_3fps\\20230731-030500-031000_10fps_3fps.mp4: 384x640 4 cows, 23.0ms\n",
      "WARNING  'Masks.masks' is deprecated. Use 'Masks.data' instead.\n"
     ]
    },
    {
     "name": "stdout",
     "output_type": "stream",
     "text": [
      "White Percentage: 0.87%\n",
      "1/1 [==============================] - 0s 41ms/step\n",
      "White Percentage: 3.95%\n",
      "1/1 [==============================] - 0s 38ms/step\n"
     ]
    },
    {
     "name": "stderr",
     "output_type": "stream",
     "text": [
      "video 1/1 (283/901) D:\\815_CowDataChecking\\Honkawa\\2023-07-31\\03\\output_3fps\\20230731-030500-031000_10fps_3fps.mp4: 384x640 4 cows, 31.6ms\n",
      "WARNING  'Masks.masks' is deprecated. Use 'Masks.data' instead.\n"
     ]
    },
    {
     "name": "stdout",
     "output_type": "stream",
     "text": [
      "White Percentage: 0.74%\n",
      "1/1 [==============================] - 0s 34ms/step\n",
      "White Percentage: 3.99%\n",
      "1/1 [==============================] - 0s 35ms/step\n"
     ]
    },
    {
     "name": "stderr",
     "output_type": "stream",
     "text": [
      "video 1/1 (284/901) D:\\815_CowDataChecking\\Honkawa\\2023-07-31\\03\\output_3fps\\20230731-030500-031000_10fps_3fps.mp4: 384x640 4 cows, 33.5ms\n",
      "WARNING  'Masks.masks' is deprecated. Use 'Masks.data' instead.\n"
     ]
    },
    {
     "name": "stdout",
     "output_type": "stream",
     "text": [
      "White Percentage: 0.92%\n",
      "1/1 [==============================] - 0s 35ms/step\n",
      "White Percentage: 3.57%\n",
      "1/1 [==============================] - 0s 35ms/step\n"
     ]
    },
    {
     "name": "stderr",
     "output_type": "stream",
     "text": [
      "video 1/1 (285/901) D:\\815_CowDataChecking\\Honkawa\\2023-07-31\\03\\output_3fps\\20230731-030500-031000_10fps_3fps.mp4: 384x640 4 cows, 25.0ms\n",
      "WARNING  'Masks.masks' is deprecated. Use 'Masks.data' instead.\n"
     ]
    },
    {
     "name": "stdout",
     "output_type": "stream",
     "text": [
      "White Percentage: 0.60%\n",
      "1/1 [==============================] - 0s 35ms/step\n",
      "White Percentage: 3.50%\n",
      "1/1 [==============================] - 0s 38ms/step\n"
     ]
    },
    {
     "name": "stderr",
     "output_type": "stream",
     "text": [
      "video 1/1 (286/901) D:\\815_CowDataChecking\\Honkawa\\2023-07-31\\03\\output_3fps\\20230731-030500-031000_10fps_3fps.mp4: 384x640 4 cows, 36.0ms\n",
      "WARNING  'Masks.masks' is deprecated. Use 'Masks.data' instead.\n"
     ]
    },
    {
     "name": "stdout",
     "output_type": "stream",
     "text": [
      "White Percentage: 0.30%\n",
      "1/1 [==============================] - 0s 35ms/step\n",
      "White Percentage: 3.40%\n",
      "1/1 [==============================] - 0s 39ms/step\n"
     ]
    },
    {
     "name": "stderr",
     "output_type": "stream",
     "text": [
      "video 1/1 (287/901) D:\\815_CowDataChecking\\Honkawa\\2023-07-31\\03\\output_3fps\\20230731-030500-031000_10fps_3fps.mp4: 384x640 4 cows, 43.5ms\n",
      "WARNING  'Masks.masks' is deprecated. Use 'Masks.data' instead.\n"
     ]
    },
    {
     "name": "stdout",
     "output_type": "stream",
     "text": [
      "White Percentage: 0.60%\n",
      "1/1 [==============================] - 0s 38ms/step\n",
      "White Percentage: 3.54%\n",
      "1/1 [==============================] - 0s 35ms/step\n"
     ]
    },
    {
     "name": "stderr",
     "output_type": "stream",
     "text": [
      "video 1/1 (288/901) D:\\815_CowDataChecking\\Honkawa\\2023-07-31\\03\\output_3fps\\20230731-030500-031000_10fps_3fps.mp4: 384x640 4 cows, 36.5ms\n",
      "WARNING  'Masks.masks' is deprecated. Use 'Masks.data' instead.\n"
     ]
    },
    {
     "name": "stdout",
     "output_type": "stream",
     "text": [
      "White Percentage: 0.80%\n",
      "1/1 [==============================] - 0s 34ms/step\n",
      "White Percentage: 3.38%\n",
      "1/1 [==============================] - 0s 33ms/step\n"
     ]
    },
    {
     "name": "stderr",
     "output_type": "stream",
     "text": [
      "video 1/1 (289/901) D:\\815_CowDataChecking\\Honkawa\\2023-07-31\\03\\output_3fps\\20230731-030500-031000_10fps_3fps.mp4: 384x640 4 cows, 26.5ms\n",
      "WARNING  'Masks.masks' is deprecated. Use 'Masks.data' instead.\n"
     ]
    },
    {
     "name": "stdout",
     "output_type": "stream",
     "text": [
      "White Percentage: 1.16%\n",
      "1/1 [==============================] - 0s 34ms/step\n",
      "White Percentage: 3.32%\n",
      "1/1 [==============================] - 0s 34ms/step\n"
     ]
    },
    {
     "name": "stderr",
     "output_type": "stream",
     "text": [
      "video 1/1 (290/901) D:\\815_CowDataChecking\\Honkawa\\2023-07-31\\03\\output_3fps\\20230731-030500-031000_10fps_3fps.mp4: 384x640 4 cows, 29.3ms\n",
      "WARNING  'Masks.masks' is deprecated. Use 'Masks.data' instead.\n"
     ]
    },
    {
     "name": "stdout",
     "output_type": "stream",
     "text": [
      "White Percentage: 1.90%\n",
      "1/1 [==============================] - 0s 34ms/step\n",
      "White Percentage: 3.50%\n",
      "1/1 [==============================] - 0s 36ms/step\n"
     ]
    },
    {
     "name": "stderr",
     "output_type": "stream",
     "text": [
      "video 1/1 (291/901) D:\\815_CowDataChecking\\Honkawa\\2023-07-31\\03\\output_3fps\\20230731-030500-031000_10fps_3fps.mp4: 384x640 4 cows, 41.5ms\n",
      "WARNING  'Masks.masks' is deprecated. Use 'Masks.data' instead.\n"
     ]
    },
    {
     "name": "stdout",
     "output_type": "stream",
     "text": [
      "White Percentage: 2.85%\n",
      "1/1 [==============================] - 0s 35ms/step\n",
      "White Percentage: 3.75%\n",
      "1/1 [==============================] - 0s 36ms/step\n"
     ]
    },
    {
     "name": "stderr",
     "output_type": "stream",
     "text": [
      "video 1/1 (292/901) D:\\815_CowDataChecking\\Honkawa\\2023-07-31\\03\\output_3fps\\20230731-030500-031000_10fps_3fps.mp4: 384x640 5 cows, 25.0ms\n",
      "WARNING  'Masks.masks' is deprecated. Use 'Masks.data' instead.\n"
     ]
    },
    {
     "name": "stdout",
     "output_type": "stream",
     "text": [
      "White Percentage: 3.43%\n",
      "1/1 [==============================] - 0s 33ms/step\n",
      "White Percentage: 3.40%\n",
      "1/1 [==============================] - 0s 38ms/step\n"
     ]
    },
    {
     "name": "stderr",
     "output_type": "stream",
     "text": [
      "video 1/1 (293/901) D:\\815_CowDataChecking\\Honkawa\\2023-07-31\\03\\output_3fps\\20230731-030500-031000_10fps_3fps.mp4: 384x640 5 cows, 41.6ms\n",
      "WARNING  'Masks.masks' is deprecated. Use 'Masks.data' instead.\n"
     ]
    },
    {
     "name": "stdout",
     "output_type": "stream",
     "text": [
      "White Percentage: 3.63%\n",
      "1/1 [==============================] - 0s 35ms/step\n",
      "White Percentage: 3.50%\n",
      "1/1 [==============================] - 0s 33ms/step\n"
     ]
    },
    {
     "name": "stderr",
     "output_type": "stream",
     "text": [
      "video 1/1 (294/901) D:\\815_CowDataChecking\\Honkawa\\2023-07-31\\03\\output_3fps\\20230731-030500-031000_10fps_3fps.mp4: 384x640 5 cows, 26.0ms\n",
      "WARNING  'Masks.masks' is deprecated. Use 'Masks.data' instead.\n"
     ]
    },
    {
     "name": "stdout",
     "output_type": "stream",
     "text": [
      "White Percentage: 2.91%\n",
      "1/1 [==============================] - 0s 37ms/step\n",
      "White Percentage: 3.32%\n",
      "1/1 [==============================] - 0s 39ms/step\n"
     ]
    },
    {
     "name": "stderr",
     "output_type": "stream",
     "text": [
      "video 1/1 (295/901) D:\\815_CowDataChecking\\Honkawa\\2023-07-31\\03\\output_3fps\\20230731-030500-031000_10fps_3fps.mp4: 384x640 5 cows, 37.0ms\n",
      "WARNING  'Masks.masks' is deprecated. Use 'Masks.data' instead.\n"
     ]
    },
    {
     "name": "stdout",
     "output_type": "stream",
     "text": [
      "White Percentage: 3.44%\n",
      "1/1 [==============================] - 0s 40ms/step\n",
      "White Percentage: 3.44%\n",
      "1/1 [==============================] - 0s 35ms/step\n"
     ]
    },
    {
     "name": "stderr",
     "output_type": "stream",
     "text": [
      "video 1/1 (296/901) D:\\815_CowDataChecking\\Honkawa\\2023-07-31\\03\\output_3fps\\20230731-030500-031000_10fps_3fps.mp4: 384x640 5 cows, 26.9ms\n",
      "WARNING  'Masks.masks' is deprecated. Use 'Masks.data' instead.\n"
     ]
    },
    {
     "name": "stdout",
     "output_type": "stream",
     "text": [
      "White Percentage: 3.34%\n",
      "1/1 [==============================] - 0s 34ms/step\n",
      "White Percentage: 3.55%\n",
      "1/1 [==============================] - 0s 34ms/step\n"
     ]
    },
    {
     "name": "stderr",
     "output_type": "stream",
     "text": [
      "video 1/1 (297/901) D:\\815_CowDataChecking\\Honkawa\\2023-07-31\\03\\output_3fps\\20230731-030500-031000_10fps_3fps.mp4: 384x640 5 cows, 28.0ms\n",
      "WARNING  'Masks.masks' is deprecated. Use 'Masks.data' instead.\n"
     ]
    },
    {
     "name": "stdout",
     "output_type": "stream",
     "text": [
      "White Percentage: 3.37%\n",
      "1/1 [==============================] - 0s 37ms/step\n",
      "White Percentage: 3.28%\n",
      "1/1 [==============================] - 0s 38ms/step\n",
      "White Percentage: 3.41%\n",
      "1/1 [==============================] - 0s 33ms/step\n"
     ]
    },
    {
     "name": "stderr",
     "output_type": "stream",
     "text": [
      "video 1/1 (298/901) D:\\815_CowDataChecking\\Honkawa\\2023-07-31\\03\\output_3fps\\20230731-030500-031000_10fps_3fps.mp4: 384x640 5 cows, 29.0ms\n",
      "WARNING  'Masks.masks' is deprecated. Use 'Masks.data' instead.\n"
     ]
    },
    {
     "name": "stdout",
     "output_type": "stream",
     "text": [
      "White Percentage: 10.24%\n",
      "[['ID', 'RANK1', 'RANK1_prob', 'RANK2', 'RANK2_prob', 'RANK3', 'RANK3_prob', 'RANK4', 'RANK4_prob', 'RANK5', 'RANK5_prob']]\n",
      "new cattle  xxxxxxxxxxxxxxxxxxxxx new cattle alert \n",
      "1/1 [==============================] - 0s 34ms/step\n",
      "White Percentage: 3.53%\n",
      "1/1 [==============================] - 0s 35ms/step\n",
      "White Percentage: 3.25%\n",
      "1/1 [==============================] - 0s 34ms/step\n"
     ]
    },
    {
     "name": "stderr",
     "output_type": "stream",
     "text": [
      "video 1/1 (299/901) D:\\815_CowDataChecking\\Honkawa\\2023-07-31\\03\\output_3fps\\20230731-030500-031000_10fps_3fps.mp4: 384x640 5 cows, 26.5ms\n",
      "WARNING  'Masks.masks' is deprecated. Use 'Masks.data' instead.\n"
     ]
    },
    {
     "name": "stdout",
     "output_type": "stream",
     "text": [
      "White Percentage: 9.93%\n",
      "1/1 [==============================] - 0s 34ms/step\n",
      "White Percentage: 3.08%\n",
      "1/1 [==============================] - 0s 33ms/step\n",
      "White Percentage: 3.32%\n",
      "1/1 [==============================] - 0s 36ms/step\n"
     ]
    },
    {
     "name": "stderr",
     "output_type": "stream",
     "text": [
      "video 1/1 (300/901) D:\\815_CowDataChecking\\Honkawa\\2023-07-31\\03\\output_3fps\\20230731-030500-031000_10fps_3fps.mp4: 384x640 5 cows, 33.0ms\n",
      "WARNING  'Masks.masks' is deprecated. Use 'Masks.data' instead.\n"
     ]
    },
    {
     "name": "stdout",
     "output_type": "stream",
     "text": [
      "White Percentage: 10.22%\n",
      "1/1 [==============================] - 0s 43ms/step\n",
      "White Percentage: 3.32%\n",
      "1/1 [==============================] - 0s 34ms/step\n",
      "White Percentage: 3.48%\n",
      "1/1 [==============================] - 0s 42ms/step\n"
     ]
    },
    {
     "name": "stderr",
     "output_type": "stream",
     "text": [
      "video 1/1 (301/901) D:\\815_CowDataChecking\\Honkawa\\2023-07-31\\03\\output_3fps\\20230731-030500-031000_10fps_3fps.mp4: 384x640 5 cows, 24.5ms\n",
      "WARNING  'Masks.masks' is deprecated. Use 'Masks.data' instead.\n"
     ]
    },
    {
     "name": "stdout",
     "output_type": "stream",
     "text": [
      "White Percentage: 9.93%\n",
      "1/1 [==============================] - 0s 39ms/step\n",
      "White Percentage: 3.20%\n",
      "1/1 [==============================] - 0s 35ms/step\n",
      "White Percentage: 2.85%\n",
      "1/1 [==============================] - 0s 37ms/step\n"
     ]
    },
    {
     "name": "stderr",
     "output_type": "stream",
     "text": [
      "video 1/1 (302/901) D:\\815_CowDataChecking\\Honkawa\\2023-07-31\\03\\output_3fps\\20230731-030500-031000_10fps_3fps.mp4: 384x640 5 cows, 26.5ms\n",
      "WARNING  'Masks.masks' is deprecated. Use 'Masks.data' instead.\n"
     ]
    },
    {
     "name": "stdout",
     "output_type": "stream",
     "text": [
      "White Percentage: 10.61%\n",
      "1/1 [==============================] - 0s 34ms/step\n",
      "White Percentage: 3.55%\n",
      "1/1 [==============================] - 0s 40ms/step\n",
      "White Percentage: 2.05%\n",
      "1/1 [==============================] - 0s 34ms/step\n"
     ]
    },
    {
     "name": "stderr",
     "output_type": "stream",
     "text": [
      "video 1/1 (303/901) D:\\815_CowDataChecking\\Honkawa\\2023-07-31\\03\\output_3fps\\20230731-030500-031000_10fps_3fps.mp4: 384x640 5 cows, 30.0ms\n",
      "WARNING  'Masks.masks' is deprecated. Use 'Masks.data' instead.\n"
     ]
    },
    {
     "name": "stdout",
     "output_type": "stream",
     "text": [
      "White Percentage: 10.57%\n",
      "1/1 [==============================] - 0s 37ms/step\n",
      "White Percentage: 0.81%\n",
      "1/1 [==============================] - 0s 34ms/step\n"
     ]
    },
    {
     "name": "stderr",
     "output_type": "stream",
     "text": [
      "video 1/1 (304/901) D:\\815_CowDataChecking\\Honkawa\\2023-07-31\\03\\output_3fps\\20230731-030500-031000_10fps_3fps.mp4: 384x640 5 cows, 29.0ms\n",
      "WARNING  'Masks.masks' is deprecated. Use 'Masks.data' instead.\n"
     ]
    },
    {
     "name": "stdout",
     "output_type": "stream",
     "text": [
      "White Percentage: 10.32%\n",
      "1/1 [==============================] - 0s 35ms/step\n",
      "White Percentage: 2.36%\n",
      "1/1 [==============================] - 0s 34ms/step\n"
     ]
    },
    {
     "name": "stderr",
     "output_type": "stream",
     "text": [
      "video 1/1 (305/901) D:\\815_CowDataChecking\\Honkawa\\2023-07-31\\03\\output_3fps\\20230731-030500-031000_10fps_3fps.mp4: 384x640 5 cows, 36.5ms\n",
      "WARNING  'Masks.masks' is deprecated. Use 'Masks.data' instead.\n"
     ]
    },
    {
     "name": "stdout",
     "output_type": "stream",
     "text": [
      "White Percentage: 10.07%\n",
      "1/1 [==============================] - 0s 36ms/step\n",
      "White Percentage: 1.93%\n",
      "1/1 [==============================] - 0s 34ms/step\n"
     ]
    },
    {
     "name": "stderr",
     "output_type": "stream",
     "text": [
      "video 1/1 (306/901) D:\\815_CowDataChecking\\Honkawa\\2023-07-31\\03\\output_3fps\\20230731-030500-031000_10fps_3fps.mp4: 384x640 5 cows, 30.0ms\n",
      "WARNING  'Masks.masks' is deprecated. Use 'Masks.data' instead.\n"
     ]
    },
    {
     "name": "stdout",
     "output_type": "stream",
     "text": [
      "White Percentage: 10.33%\n",
      "1/1 [==============================] - 0s 34ms/step\n",
      "White Percentage: 3.48%\n",
      "1/1 [==============================] - 0s 35ms/step\n"
     ]
    },
    {
     "name": "stderr",
     "output_type": "stream",
     "text": [
      "video 1/1 (307/901) D:\\815_CowDataChecking\\Honkawa\\2023-07-31\\03\\output_3fps\\20230731-030500-031000_10fps_3fps.mp4: 384x640 5 cows, 35.5ms\n",
      "WARNING  'Masks.masks' is deprecated. Use 'Masks.data' instead.\n"
     ]
    },
    {
     "name": "stdout",
     "output_type": "stream",
     "text": [
      "White Percentage: 10.59%\n",
      "1/1 [==============================] - 0s 33ms/step\n",
      "White Percentage: 2.34%\n",
      "1/1 [==============================] - 0s 33ms/step\n"
     ]
    },
    {
     "name": "stderr",
     "output_type": "stream",
     "text": [
      "video 1/1 (308/901) D:\\815_CowDataChecking\\Honkawa\\2023-07-31\\03\\output_3fps\\20230731-030500-031000_10fps_3fps.mp4: 384x640 5 cows, 26.5ms\n",
      "WARNING  'Masks.masks' is deprecated. Use 'Masks.data' instead.\n"
     ]
    },
    {
     "name": "stdout",
     "output_type": "stream",
     "text": [
      "White Percentage: 10.95%\n",
      "1/1 [==============================] - 0s 33ms/step\n",
      "White Percentage: 2.79%\n",
      "1/1 [==============================] - 0s 37ms/step\n"
     ]
    },
    {
     "name": "stderr",
     "output_type": "stream",
     "text": [
      "video 1/1 (309/901) D:\\815_CowDataChecking\\Honkawa\\2023-07-31\\03\\output_3fps\\20230731-030500-031000_10fps_3fps.mp4: 384x640 5 cows, 31.0ms\n",
      "WARNING  'Masks.masks' is deprecated. Use 'Masks.data' instead.\n"
     ]
    },
    {
     "name": "stdout",
     "output_type": "stream",
     "text": [
      "White Percentage: 9.74%\n",
      "1/1 [==============================] - 0s 33ms/step\n",
      "White Percentage: 2.57%\n",
      "1/1 [==============================] - 0s 38ms/step\n"
     ]
    },
    {
     "name": "stderr",
     "output_type": "stream",
     "text": [
      "video 1/1 (310/901) D:\\815_CowDataChecking\\Honkawa\\2023-07-31\\03\\output_3fps\\20230731-030500-031000_10fps_3fps.mp4: 384x640 5 cows, 36.0ms\n",
      "WARNING  'Masks.masks' is deprecated. Use 'Masks.data' instead.\n"
     ]
    },
    {
     "name": "stdout",
     "output_type": "stream",
     "text": [
      "White Percentage: 10.09%\n",
      "1/1 [==============================] - 0s 33ms/step\n",
      "White Percentage: 2.60%\n",
      "1/1 [==============================] - 0s 34ms/step\n"
     ]
    },
    {
     "name": "stderr",
     "output_type": "stream",
     "text": [
      "video 1/1 (311/901) D:\\815_CowDataChecking\\Honkawa\\2023-07-31\\03\\output_3fps\\20230731-030500-031000_10fps_3fps.mp4: 384x640 5 cows, 26.0ms\n",
      "WARNING  'Masks.masks' is deprecated. Use 'Masks.data' instead.\n"
     ]
    },
    {
     "name": "stdout",
     "output_type": "stream",
     "text": [
      "White Percentage: 10.97%\n",
      "1/1 [==============================] - 0s 35ms/step\n",
      "White Percentage: 2.64%\n",
      "1/1 [==============================] - 0s 32ms/step\n"
     ]
    },
    {
     "name": "stderr",
     "output_type": "stream",
     "text": [
      "video 1/1 (312/901) D:\\815_CowDataChecking\\Honkawa\\2023-07-31\\03\\output_3fps\\20230731-030500-031000_10fps_3fps.mp4: 384x640 5 cows, 35.0ms\n",
      "WARNING  'Masks.masks' is deprecated. Use 'Masks.data' instead.\n"
     ]
    },
    {
     "name": "stdout",
     "output_type": "stream",
     "text": [
      "White Percentage: 10.41%\n",
      "1/1 [==============================] - 0s 34ms/step\n",
      "White Percentage: 2.55%\n",
      "1/1 [==============================] - 0s 33ms/step\n"
     ]
    },
    {
     "name": "stderr",
     "output_type": "stream",
     "text": [
      "video 1/1 (313/901) D:\\815_CowDataChecking\\Honkawa\\2023-07-31\\03\\output_3fps\\20230731-030500-031000_10fps_3fps.mp4: 384x640 5 cows, 40.0ms\n",
      "WARNING  'Masks.masks' is deprecated. Use 'Masks.data' instead.\n"
     ]
    },
    {
     "name": "stdout",
     "output_type": "stream",
     "text": [
      "White Percentage: 9.77%\n",
      "1/1 [==============================] - 0s 35ms/step\n",
      "White Percentage: 2.33%\n",
      "1/1 [==============================] - 0s 37ms/step\n"
     ]
    },
    {
     "name": "stderr",
     "output_type": "stream",
     "text": [
      "video 1/1 (314/901) D:\\815_CowDataChecking\\Honkawa\\2023-07-31\\03\\output_3fps\\20230731-030500-031000_10fps_3fps.mp4: 384x640 5 cows, 25.0ms\n",
      "WARNING  'Masks.masks' is deprecated. Use 'Masks.data' instead.\n"
     ]
    },
    {
     "name": "stdout",
     "output_type": "stream",
     "text": [
      "White Percentage: 10.22%\n",
      "1/1 [==============================] - 0s 34ms/step\n",
      "White Percentage: 1.95%\n",
      "1/1 [==============================] - 0s 33ms/step\n"
     ]
    },
    {
     "name": "stderr",
     "output_type": "stream",
     "text": [
      "video 1/1 (315/901) D:\\815_CowDataChecking\\Honkawa\\2023-07-31\\03\\output_3fps\\20230731-030500-031000_10fps_3fps.mp4: 384x640 5 cows, 34.0ms\n",
      "WARNING  'Masks.masks' is deprecated. Use 'Masks.data' instead.\n"
     ]
    },
    {
     "name": "stdout",
     "output_type": "stream",
     "text": [
      "White Percentage: 11.10%\n",
      "1/1 [==============================] - 0s 33ms/step\n",
      "White Percentage: 2.90%\n",
      "1/1 [==============================] - 0s 34ms/step\n"
     ]
    },
    {
     "name": "stderr",
     "output_type": "stream",
     "text": [
      "video 1/1 (316/901) D:\\815_CowDataChecking\\Honkawa\\2023-07-31\\03\\output_3fps\\20230731-030500-031000_10fps_3fps.mp4: 384x640 4 cows, 33.5ms\n",
      "WARNING  'Masks.masks' is deprecated. Use 'Masks.data' instead.\n"
     ]
    },
    {
     "name": "stdout",
     "output_type": "stream",
     "text": [
      "White Percentage: 11.04%\n",
      "1/1 [==============================] - 0s 35ms/step\n",
      "White Percentage: 3.08%\n",
      "1/1 [==============================] - 0s 34ms/step\n"
     ]
    },
    {
     "name": "stderr",
     "output_type": "stream",
     "text": [
      "video 1/1 (317/901) D:\\815_CowDataChecking\\Honkawa\\2023-07-31\\03\\output_3fps\\20230731-030500-031000_10fps_3fps.mp4: 384x640 5 cows, 36.5ms\n",
      "WARNING  'Masks.masks' is deprecated. Use 'Masks.data' instead.\n"
     ]
    },
    {
     "name": "stdout",
     "output_type": "stream",
     "text": [
      "White Percentage: 11.05%\n",
      "1/1 [==============================] - 0s 34ms/step\n",
      "White Percentage: 3.01%\n",
      "1/1 [==============================] - 0s 33ms/step\n"
     ]
    },
    {
     "name": "stderr",
     "output_type": "stream",
     "text": [
      "video 1/1 (318/901) D:\\815_CowDataChecking\\Honkawa\\2023-07-31\\03\\output_3fps\\20230731-030500-031000_10fps_3fps.mp4: 384x640 4 cows, 34.5ms\n",
      "WARNING  'Masks.masks' is deprecated. Use 'Masks.data' instead.\n"
     ]
    },
    {
     "name": "stdout",
     "output_type": "stream",
     "text": [
      "White Percentage: 10.78%\n",
      "1/1 [==============================] - 0s 33ms/step\n",
      "White Percentage: 3.02%\n",
      "1/1 [==============================] - 0s 32ms/step\n"
     ]
    },
    {
     "name": "stderr",
     "output_type": "stream",
     "text": [
      "video 1/1 (319/901) D:\\815_CowDataChecking\\Honkawa\\2023-07-31\\03\\output_3fps\\20230731-030500-031000_10fps_3fps.mp4: 384x640 5 cows, 29.5ms\n",
      "WARNING  'Masks.masks' is deprecated. Use 'Masks.data' instead.\n"
     ]
    },
    {
     "name": "stdout",
     "output_type": "stream",
     "text": [
      "White Percentage: 10.71%\n",
      "1/1 [==============================] - 0s 33ms/step\n",
      "White Percentage: 2.54%\n",
      "1/1 [==============================] - 0s 33ms/step\n"
     ]
    },
    {
     "name": "stderr",
     "output_type": "stream",
     "text": [
      "video 1/1 (320/901) D:\\815_CowDataChecking\\Honkawa\\2023-07-31\\03\\output_3fps\\20230731-030500-031000_10fps_3fps.mp4: 384x640 5 cows, 30.0ms\n",
      "WARNING  'Masks.masks' is deprecated. Use 'Masks.data' instead.\n"
     ]
    },
    {
     "name": "stdout",
     "output_type": "stream",
     "text": [
      "White Percentage: 10.03%\n",
      "1/1 [==============================] - 0s 33ms/step\n",
      "White Percentage: 1.73%\n",
      "1/1 [==============================] - 0s 34ms/step\n"
     ]
    },
    {
     "name": "stderr",
     "output_type": "stream",
     "text": [
      "video 1/1 (321/901) D:\\815_CowDataChecking\\Honkawa\\2023-07-31\\03\\output_3fps\\20230731-030500-031000_10fps_3fps.mp4: 384x640 5 cows, 27.0ms\n",
      "WARNING  'Masks.masks' is deprecated. Use 'Masks.data' instead.\n"
     ]
    },
    {
     "name": "stdout",
     "output_type": "stream",
     "text": [
      "White Percentage: 10.14%\n",
      "1/1 [==============================] - 0s 40ms/step\n",
      "White Percentage: 1.86%\n",
      "1/1 [==============================] - 0s 33ms/step\n"
     ]
    },
    {
     "name": "stderr",
     "output_type": "stream",
     "text": [
      "video 1/1 (322/901) D:\\815_CowDataChecking\\Honkawa\\2023-07-31\\03\\output_3fps\\20230731-030500-031000_10fps_3fps.mp4: 384x640 5 cows, 28.0ms\n",
      "WARNING  'Masks.masks' is deprecated. Use 'Masks.data' instead.\n"
     ]
    },
    {
     "name": "stdout",
     "output_type": "stream",
     "text": [
      "White Percentage: 9.93%\n",
      "1/1 [==============================] - 0s 33ms/step\n",
      "White Percentage: 1.38%\n",
      "1/1 [==============================] - 0s 36ms/step\n"
     ]
    },
    {
     "name": "stderr",
     "output_type": "stream",
     "text": [
      "video 1/1 (323/901) D:\\815_CowDataChecking\\Honkawa\\2023-07-31\\03\\output_3fps\\20230731-030500-031000_10fps_3fps.mp4: 384x640 5 cows, 34.0ms\n",
      "WARNING  'Masks.masks' is deprecated. Use 'Masks.data' instead.\n"
     ]
    },
    {
     "name": "stdout",
     "output_type": "stream",
     "text": [
      "White Percentage: 9.18%\n",
      "1/1 [==============================] - 0s 37ms/step\n",
      "White Percentage: 1.78%\n",
      "1/1 [==============================] - 0s 35ms/step\n"
     ]
    },
    {
     "name": "stderr",
     "output_type": "stream",
     "text": [
      "video 1/1 (324/901) D:\\815_CowDataChecking\\Honkawa\\2023-07-31\\03\\output_3fps\\20230731-030500-031000_10fps_3fps.mp4: 384x640 5 cows, 36.0ms\n",
      "WARNING  'Masks.masks' is deprecated. Use 'Masks.data' instead.\n"
     ]
    },
    {
     "name": "stdout",
     "output_type": "stream",
     "text": [
      "White Percentage: 9.09%\n",
      "1/1 [==============================] - 0s 33ms/step\n",
      "White Percentage: 1.67%\n",
      "1/1 [==============================] - 0s 34ms/step\n"
     ]
    },
    {
     "name": "stderr",
     "output_type": "stream",
     "text": [
      "video 1/1 (325/901) D:\\815_CowDataChecking\\Honkawa\\2023-07-31\\03\\output_3fps\\20230731-030500-031000_10fps_3fps.mp4: 384x640 5 cows, 35.0ms\n",
      "WARNING  'Masks.masks' is deprecated. Use 'Masks.data' instead.\n"
     ]
    },
    {
     "name": "stdout",
     "output_type": "stream",
     "text": [
      "White Percentage: 8.12%\n",
      "1/1 [==============================] - 0s 38ms/step\n",
      "White Percentage: 1.56%\n",
      "1/1 [==============================] - 0s 33ms/step\n",
      "White Percentage: 5.90%\n",
      "1/1 [==============================] - 0s 39ms/step\n"
     ]
    },
    {
     "name": "stderr",
     "output_type": "stream",
     "text": [
      "video 1/1 (326/901) D:\\815_CowDataChecking\\Honkawa\\2023-07-31\\03\\output_3fps\\20230731-030500-031000_10fps_3fps.mp4: 384x640 5 cows, 31.0ms\n",
      "WARNING  'Masks.masks' is deprecated. Use 'Masks.data' instead.\n"
     ]
    },
    {
     "name": "stdout",
     "output_type": "stream",
     "text": [
      "White Percentage: 9.53%\n",
      "[['ID', 'RANK1', 'RANK1_prob', 'RANK2', 'RANK2_prob', 'RANK3', 'RANK3_prob', 'RANK4', 'RANK4_prob', 'RANK5', 'RANK5_prob']]\n",
      "new cattle  xxxxxxxxxxxxxxxxxxxxx new cattle alert \n",
      "1/1 [==============================] - 0s 40ms/step\n",
      "White Percentage: 1.48%\n",
      "1/1 [==============================] - 0s 33ms/step\n",
      "White Percentage: 6.01%\n",
      "1/1 [==============================] - 0s 33ms/step\n"
     ]
    },
    {
     "name": "stderr",
     "output_type": "stream",
     "text": [
      "video 1/1 (327/901) D:\\815_CowDataChecking\\Honkawa\\2023-07-31\\03\\output_3fps\\20230731-030500-031000_10fps_3fps.mp4: 384x640 5 cows, 40.5ms\n",
      "WARNING  'Masks.masks' is deprecated. Use 'Masks.data' instead.\n"
     ]
    },
    {
     "name": "stdout",
     "output_type": "stream",
     "text": [
      "White Percentage: 10.05%\n",
      "1/1 [==============================] - 0s 34ms/step\n",
      "White Percentage: 1.82%\n",
      "1/1 [==============================] - 0s 33ms/step\n",
      "White Percentage: 7.16%\n",
      "1/1 [==============================] - 0s 38ms/step\n"
     ]
    },
    {
     "name": "stderr",
     "output_type": "stream",
     "text": [
      "video 1/1 (328/901) D:\\815_CowDataChecking\\Honkawa\\2023-07-31\\03\\output_3fps\\20230731-030500-031000_10fps_3fps.mp4: 384x640 5 cows, 35.0ms\n",
      "WARNING  'Masks.masks' is deprecated. Use 'Masks.data' instead.\n"
     ]
    },
    {
     "name": "stdout",
     "output_type": "stream",
     "text": [
      "White Percentage: 10.09%\n",
      "1/1 [==============================] - 0s 39ms/step\n",
      "White Percentage: 1.89%\n",
      "1/1 [==============================] - 0s 34ms/step\n",
      "White Percentage: 10.13%\n",
      "1/1 [==============================] - 0s 34ms/step\n"
     ]
    },
    {
     "name": "stderr",
     "output_type": "stream",
     "text": [
      "video 1/1 (329/901) D:\\815_CowDataChecking\\Honkawa\\2023-07-31\\03\\output_3fps\\20230731-030500-031000_10fps_3fps.mp4: 384x640 5 cows, 29.0ms\n",
      "WARNING  'Masks.masks' is deprecated. Use 'Masks.data' instead.\n"
     ]
    },
    {
     "name": "stdout",
     "output_type": "stream",
     "text": [
      "White Percentage: 10.12%\n",
      "1/1 [==============================] - 0s 40ms/step\n",
      "White Percentage: 1.75%\n",
      "1/1 [==============================] - 0s 36ms/step\n",
      "White Percentage: 10.70%\n",
      "1/1 [==============================] - 0s 32ms/step\n"
     ]
    },
    {
     "name": "stderr",
     "output_type": "stream",
     "text": [
      "video 1/1 (330/901) D:\\815_CowDataChecking\\Honkawa\\2023-07-31\\03\\output_3fps\\20230731-030500-031000_10fps_3fps.mp4: 384x640 5 cows, 34.0ms\n",
      "WARNING  'Masks.masks' is deprecated. Use 'Masks.data' instead.\n"
     ]
    },
    {
     "name": "stdout",
     "output_type": "stream",
     "text": [
      "White Percentage: 10.21%\n",
      "1/1 [==============================] - 0s 33ms/step\n",
      "White Percentage: 1.68%\n",
      "1/1 [==============================] - 0s 41ms/step\n",
      "White Percentage: 10.31%\n",
      "1/1 [==============================] - 0s 34ms/step\n"
     ]
    },
    {
     "name": "stderr",
     "output_type": "stream",
     "text": [
      "video 1/1 (331/901) D:\\815_CowDataChecking\\Honkawa\\2023-07-31\\03\\output_3fps\\20230731-030500-031000_10fps_3fps.mp4: 384x640 5 cows, 28.5ms\n",
      "WARNING  'Masks.masks' is deprecated. Use 'Masks.data' instead.\n"
     ]
    },
    {
     "name": "stdout",
     "output_type": "stream",
     "text": [
      "White Percentage: 10.63%\n",
      "1/1 [==============================] - 0s 32ms/step\n",
      "White Percentage: 1.69%\n",
      "1/1 [==============================] - 0s 34ms/step\n",
      "White Percentage: 9.74%\n",
      "1/1 [==============================] - 0s 34ms/step\n"
     ]
    },
    {
     "name": "stderr",
     "output_type": "stream",
     "text": [
      "video 1/1 (332/901) D:\\815_CowDataChecking\\Honkawa\\2023-07-31\\03\\output_3fps\\20230731-030500-031000_10fps_3fps.mp4: 384x640 5 cows, 27.5ms\n",
      "WARNING  'Masks.masks' is deprecated. Use 'Masks.data' instead.\n"
     ]
    },
    {
     "name": "stdout",
     "output_type": "stream",
     "text": [
      "White Percentage: 10.71%\n",
      "1/1 [==============================] - 0s 34ms/step\n",
      "White Percentage: 1.70%\n",
      "1/1 [==============================] - 0s 33ms/step\n",
      "White Percentage: 9.62%\n",
      "1/1 [==============================] - 0s 33ms/step\n"
     ]
    },
    {
     "name": "stderr",
     "output_type": "stream",
     "text": [
      "video 1/1 (333/901) D:\\815_CowDataChecking\\Honkawa\\2023-07-31\\03\\output_3fps\\20230731-030500-031000_10fps_3fps.mp4: 384x640 5 cows, 34.0ms\n",
      "WARNING  'Masks.masks' is deprecated. Use 'Masks.data' instead.\n"
     ]
    },
    {
     "name": "stdout",
     "output_type": "stream",
     "text": [
      "White Percentage: 10.80%\n",
      "1/1 [==============================] - 0s 38ms/step\n",
      "White Percentage: 1.86%\n",
      "1/1 [==============================] - 0s 40ms/step\n",
      "White Percentage: 9.22%\n",
      "1/1 [==============================] - 0s 33ms/step\n"
     ]
    },
    {
     "name": "stderr",
     "output_type": "stream",
     "text": [
      "video 1/1 (334/901) D:\\815_CowDataChecking\\Honkawa\\2023-07-31\\03\\output_3fps\\20230731-030500-031000_10fps_3fps.mp4: 384x640 5 cows, 34.5ms\n",
      "WARNING  'Masks.masks' is deprecated. Use 'Masks.data' instead.\n"
     ]
    },
    {
     "name": "stdout",
     "output_type": "stream",
     "text": [
      "White Percentage: 11.10%\n",
      "1/1 [==============================] - 0s 33ms/step\n",
      "White Percentage: 1.61%\n",
      "1/1 [==============================] - 0s 33ms/step\n",
      "White Percentage: 8.76%\n",
      "1/1 [==============================] - 0s 34ms/step\n"
     ]
    },
    {
     "name": "stderr",
     "output_type": "stream",
     "text": [
      "video 1/1 (335/901) D:\\815_CowDataChecking\\Honkawa\\2023-07-31\\03\\output_3fps\\20230731-030500-031000_10fps_3fps.mp4: 384x640 5 cows, 34.0ms\n",
      "WARNING  'Masks.masks' is deprecated. Use 'Masks.data' instead.\n"
     ]
    },
    {
     "name": "stdout",
     "output_type": "stream",
     "text": [
      "White Percentage: 11.50%\n",
      "1/1 [==============================] - 0s 35ms/step\n",
      "White Percentage: 1.70%\n",
      "1/1 [==============================] - 0s 33ms/step\n",
      "White Percentage: 8.27%\n",
      "1/1 [==============================] - 0s 39ms/step\n"
     ]
    },
    {
     "name": "stderr",
     "output_type": "stream",
     "text": [
      "video 1/1 (336/901) D:\\815_CowDataChecking\\Honkawa\\2023-07-31\\03\\output_3fps\\20230731-030500-031000_10fps_3fps.mp4: 384x640 5 cows, 26.0ms\n",
      "WARNING  'Masks.masks' is deprecated. Use 'Masks.data' instead.\n"
     ]
    },
    {
     "name": "stdout",
     "output_type": "stream",
     "text": [
      "White Percentage: 11.20%\n",
      "1/1 [==============================] - 0s 34ms/step\n",
      "White Percentage: 1.53%\n",
      "1/1 [==============================] - 0s 33ms/step\n",
      "White Percentage: 8.82%\n",
      "1/1 [==============================] - 0s 38ms/step\n"
     ]
    },
    {
     "name": "stderr",
     "output_type": "stream",
     "text": [
      "video 1/1 (337/901) D:\\815_CowDataChecking\\Honkawa\\2023-07-31\\03\\output_3fps\\20230731-030500-031000_10fps_3fps.mp4: 384x640 4 cows, 24.0ms\n",
      "WARNING  'Masks.masks' is deprecated. Use 'Masks.data' instead.\n"
     ]
    },
    {
     "name": "stdout",
     "output_type": "stream",
     "text": [
      "White Percentage: 11.10%\n",
      "1/1 [==============================] - 0s 34ms/step\n",
      "White Percentage: 0.56%\n",
      "1/1 [==============================] - 0s 34ms/step\n",
      "White Percentage: 7.95%\n",
      "1/1 [==============================] - 0s 32ms/step\n"
     ]
    },
    {
     "name": "stderr",
     "output_type": "stream",
     "text": [
      "video 1/1 (338/901) D:\\815_CowDataChecking\\Honkawa\\2023-07-31\\03\\output_3fps\\20230731-030500-031000_10fps_3fps.mp4: 384x640 4 cows, 45.0ms\n",
      "WARNING  'Masks.masks' is deprecated. Use 'Masks.data' instead.\n"
     ]
    },
    {
     "name": "stdout",
     "output_type": "stream",
     "text": [
      "White Percentage: 11.51%\n",
      "1/1 [==============================] - 0s 33ms/step\n",
      "White Percentage: 8.02%\n",
      "1/1 [==============================] - 0s 33ms/step\n"
     ]
    },
    {
     "name": "stderr",
     "output_type": "stream",
     "text": [
      "video 1/1 (339/901) D:\\815_CowDataChecking\\Honkawa\\2023-07-31\\03\\output_3fps\\20230731-030500-031000_10fps_3fps.mp4: 384x640 4 cows, 31.5ms\n",
      "WARNING  'Masks.masks' is deprecated. Use 'Masks.data' instead.\n"
     ]
    },
    {
     "name": "stdout",
     "output_type": "stream",
     "text": [
      "White Percentage: 11.70%\n",
      "1/1 [==============================] - 0s 33ms/step\n",
      "White Percentage: 7.49%\n",
      "1/1 [==============================] - 0s 38ms/step\n"
     ]
    },
    {
     "name": "stderr",
     "output_type": "stream",
     "text": [
      "video 1/1 (340/901) D:\\815_CowDataChecking\\Honkawa\\2023-07-31\\03\\output_3fps\\20230731-030500-031000_10fps_3fps.mp4: 384x640 4 cows, 39.5ms\n",
      "WARNING  'Masks.masks' is deprecated. Use 'Masks.data' instead.\n"
     ]
    },
    {
     "name": "stdout",
     "output_type": "stream",
     "text": [
      "White Percentage: 12.10%\n",
      "1/1 [==============================] - 0s 33ms/step\n",
      "White Percentage: 6.46%\n",
      "1/1 [==============================] - 0s 35ms/step\n"
     ]
    },
    {
     "name": "stderr",
     "output_type": "stream",
     "text": [
      "video 1/1 (341/901) D:\\815_CowDataChecking\\Honkawa\\2023-07-31\\03\\output_3fps\\20230731-030500-031000_10fps_3fps.mp4: 384x640 4 cows, 33.0ms\n",
      "WARNING  'Masks.masks' is deprecated. Use 'Masks.data' instead.\n"
     ]
    },
    {
     "name": "stdout",
     "output_type": "stream",
     "text": [
      "White Percentage: 12.08%\n",
      "1/1 [==============================] - 0s 34ms/step\n",
      "White Percentage: 5.88%\n",
      "1/1 [==============================] - 0s 34ms/step\n"
     ]
    },
    {
     "name": "stderr",
     "output_type": "stream",
     "text": [
      "video 1/1 (342/901) D:\\815_CowDataChecking\\Honkawa\\2023-07-31\\03\\output_3fps\\20230731-030500-031000_10fps_3fps.mp4: 384x640 4 cows, 37.5ms\n",
      "WARNING  'Masks.masks' is deprecated. Use 'Masks.data' instead.\n"
     ]
    },
    {
     "name": "stdout",
     "output_type": "stream",
     "text": [
      "White Percentage: 12.87%\n",
      "1/1 [==============================] - 0s 33ms/step\n",
      "White Percentage: 7.71%\n",
      "1/1 [==============================] - 0s 32ms/step\n"
     ]
    },
    {
     "name": "stderr",
     "output_type": "stream",
     "text": [
      "video 1/1 (343/901) D:\\815_CowDataChecking\\Honkawa\\2023-07-31\\03\\output_3fps\\20230731-030500-031000_10fps_3fps.mp4: 384x640 4 cows, 33.5ms\n",
      "WARNING  'Masks.masks' is deprecated. Use 'Masks.data' instead.\n"
     ]
    },
    {
     "name": "stdout",
     "output_type": "stream",
     "text": [
      "White Percentage: 12.91%\n",
      "1/1 [==============================] - 0s 38ms/step\n",
      "White Percentage: 8.06%\n",
      "1/1 [==============================] - 0s 34ms/step\n"
     ]
    },
    {
     "name": "stderr",
     "output_type": "stream",
     "text": [
      "video 1/1 (344/901) D:\\815_CowDataChecking\\Honkawa\\2023-07-31\\03\\output_3fps\\20230731-030500-031000_10fps_3fps.mp4: 384x640 4 cows, 35.0ms\n",
      "WARNING  'Masks.masks' is deprecated. Use 'Masks.data' instead.\n"
     ]
    },
    {
     "name": "stdout",
     "output_type": "stream",
     "text": [
      "White Percentage: 13.08%\n",
      "1/1 [==============================] - 0s 35ms/step\n",
      "White Percentage: 7.72%\n",
      "1/1 [==============================] - 0s 39ms/step\n"
     ]
    },
    {
     "name": "stderr",
     "output_type": "stream",
     "text": [
      "video 1/1 (345/901) D:\\815_CowDataChecking\\Honkawa\\2023-07-31\\03\\output_3fps\\20230731-030500-031000_10fps_3fps.mp4: 384x640 5 cows, 31.0ms\n",
      "WARNING  'Masks.masks' is deprecated. Use 'Masks.data' instead.\n"
     ]
    },
    {
     "name": "stdout",
     "output_type": "stream",
     "text": [
      "White Percentage: 12.68%\n",
      "1/1 [==============================] - 0s 33ms/step\n",
      "White Percentage: 6.69%\n",
      "1/1 [==============================] - 0s 34ms/step\n"
     ]
    },
    {
     "name": "stderr",
     "output_type": "stream",
     "text": [
      "video 1/1 (346/901) D:\\815_CowDataChecking\\Honkawa\\2023-07-31\\03\\output_3fps\\20230731-030500-031000_10fps_3fps.mp4: 384x640 4 cows, 31.0ms\n",
      "WARNING  'Masks.masks' is deprecated. Use 'Masks.data' instead.\n"
     ]
    },
    {
     "name": "stdout",
     "output_type": "stream",
     "text": [
      "White Percentage: 13.54%\n",
      "1/1 [==============================] - 0s 33ms/step\n",
      "White Percentage: 7.11%\n",
      "1/1 [==============================] - 0s 34ms/step\n"
     ]
    },
    {
     "name": "stderr",
     "output_type": "stream",
     "text": [
      "video 1/1 (347/901) D:\\815_CowDataChecking\\Honkawa\\2023-07-31\\03\\output_3fps\\20230731-030500-031000_10fps_3fps.mp4: 384x640 4 cows, 26.0ms\n",
      "WARNING  'Masks.masks' is deprecated. Use 'Masks.data' instead.\n"
     ]
    },
    {
     "name": "stdout",
     "output_type": "stream",
     "text": [
      "White Percentage: 13.84%\n",
      "1/1 [==============================] - 0s 39ms/step\n",
      "White Percentage: 5.20%\n",
      "1/1 [==============================] - 0s 32ms/step\n"
     ]
    },
    {
     "name": "stderr",
     "output_type": "stream",
     "text": [
      "video 1/1 (348/901) D:\\815_CowDataChecking\\Honkawa\\2023-07-31\\03\\output_3fps\\20230731-030500-031000_10fps_3fps.mp4: 384x640 4 cows, 25.5ms\n",
      "WARNING  'Masks.masks' is deprecated. Use 'Masks.data' instead.\n"
     ]
    },
    {
     "name": "stdout",
     "output_type": "stream",
     "text": [
      "White Percentage: 13.69%\n",
      "1/1 [==============================] - 0s 35ms/step\n",
      "White Percentage: 6.17%\n",
      "1/1 [==============================] - 0s 39ms/step\n"
     ]
    },
    {
     "name": "stderr",
     "output_type": "stream",
     "text": [
      "video 1/1 (349/901) D:\\815_CowDataChecking\\Honkawa\\2023-07-31\\03\\output_3fps\\20230731-030500-031000_10fps_3fps.mp4: 384x640 5 cows, 41.0ms\n",
      "WARNING  'Masks.masks' is deprecated. Use 'Masks.data' instead.\n"
     ]
    },
    {
     "name": "stdout",
     "output_type": "stream",
     "text": [
      "White Percentage: 13.91%\n",
      "1/1 [==============================] - 0s 33ms/step\n",
      "White Percentage: 6.07%\n",
      "1/1 [==============================] - 0s 33ms/step\n"
     ]
    },
    {
     "name": "stderr",
     "output_type": "stream",
     "text": [
      "video 1/1 (350/901) D:\\815_CowDataChecking\\Honkawa\\2023-07-31\\03\\output_3fps\\20230731-030500-031000_10fps_3fps.mp4: 384x640 5 cows, 29.0ms\n",
      "WARNING  'Masks.masks' is deprecated. Use 'Masks.data' instead.\n"
     ]
    },
    {
     "name": "stdout",
     "output_type": "stream",
     "text": [
      "White Percentage: 13.58%\n",
      "1/1 [==============================] - 0s 34ms/step\n",
      "White Percentage: 6.95%\n",
      "1/1 [==============================] - 0s 34ms/step\n"
     ]
    },
    {
     "name": "stderr",
     "output_type": "stream",
     "text": [
      "video 1/1 (351/901) D:\\815_CowDataChecking\\Honkawa\\2023-07-31\\03\\output_3fps\\20230731-030500-031000_10fps_3fps.mp4: 384x640 6 cows, 27.0ms\n",
      "WARNING  'Masks.masks' is deprecated. Use 'Masks.data' instead.\n"
     ]
    },
    {
     "name": "stdout",
     "output_type": "stream",
     "text": [
      "White Percentage: 13.79%\n",
      "1/1 [==============================] - 0s 35ms/step\n",
      "White Percentage: 6.13%\n",
      "1/1 [==============================] - 0s 33ms/step\n"
     ]
    },
    {
     "name": "stderr",
     "output_type": "stream",
     "text": [
      "video 1/1 (352/901) D:\\815_CowDataChecking\\Honkawa\\2023-07-31\\03\\output_3fps\\20230731-030500-031000_10fps_3fps.mp4: 384x640 6 cows, 31.5ms\n",
      "WARNING  'Masks.masks' is deprecated. Use 'Masks.data' instead.\n"
     ]
    },
    {
     "name": "stdout",
     "output_type": "stream",
     "text": [
      "White Percentage: 13.68%\n",
      "1/1 [==============================] - 0s 32ms/step\n",
      "White Percentage: 5.92%\n",
      "1/1 [==============================] - 0s 33ms/step\n"
     ]
    },
    {
     "name": "stderr",
     "output_type": "stream",
     "text": [
      "video 1/1 (353/901) D:\\815_CowDataChecking\\Honkawa\\2023-07-31\\03\\output_3fps\\20230731-030500-031000_10fps_3fps.mp4: 384x640 5 cows, 28.0ms\n",
      "WARNING  'Masks.masks' is deprecated. Use 'Masks.data' instead.\n"
     ]
    },
    {
     "name": "stdout",
     "output_type": "stream",
     "text": [
      "White Percentage: 13.86%\n",
      "1/1 [==============================] - 0s 33ms/step\n",
      "White Percentage: 3.00%\n",
      "1/1 [==============================] - 0s 35ms/step\n"
     ]
    },
    {
     "name": "stderr",
     "output_type": "stream",
     "text": [
      "video 1/1 (354/901) D:\\815_CowDataChecking\\Honkawa\\2023-07-31\\03\\output_3fps\\20230731-030500-031000_10fps_3fps.mp4: 384x640 6 cows, 43.0ms\n",
      "WARNING  'Masks.masks' is deprecated. Use 'Masks.data' instead.\n"
     ]
    },
    {
     "name": "stdout",
     "output_type": "stream",
     "text": [
      "White Percentage: 14.29%\n",
      "1/1 [==============================] - 0s 34ms/step\n",
      "White Percentage: 5.65%\n",
      "1/1 [==============================] - 0s 35ms/step\n"
     ]
    },
    {
     "name": "stderr",
     "output_type": "stream",
     "text": [
      "video 1/1 (355/901) D:\\815_CowDataChecking\\Honkawa\\2023-07-31\\03\\output_3fps\\20230731-030500-031000_10fps_3fps.mp4: 384x640 6 cows, 27.0ms\n",
      "WARNING  'Masks.masks' is deprecated. Use 'Masks.data' instead.\n"
     ]
    },
    {
     "name": "stdout",
     "output_type": "stream",
     "text": [
      "White Percentage: 13.82%\n",
      "1/1 [==============================] - 0s 35ms/step\n",
      "White Percentage: 5.37%\n",
      "1/1 [==============================] - 0s 35ms/step\n"
     ]
    },
    {
     "name": "stderr",
     "output_type": "stream",
     "text": [
      "video 1/1 (356/901) D:\\815_CowDataChecking\\Honkawa\\2023-07-31\\03\\output_3fps\\20230731-030500-031000_10fps_3fps.mp4: 384x640 6 cows, 28.5ms\n",
      "WARNING  'Masks.masks' is deprecated. Use 'Masks.data' instead.\n"
     ]
    },
    {
     "name": "stdout",
     "output_type": "stream",
     "text": [
      "White Percentage: 14.31%\n",
      "1/1 [==============================] - 0s 34ms/step\n",
      "White Percentage: 5.00%\n",
      "1/1 [==============================] - 0s 40ms/step\n"
     ]
    },
    {
     "name": "stderr",
     "output_type": "stream",
     "text": [
      "video 1/1 (357/901) D:\\815_CowDataChecking\\Honkawa\\2023-07-31\\03\\output_3fps\\20230731-030500-031000_10fps_3fps.mp4: 384x640 5 cows, 27.0ms\n",
      "WARNING  'Masks.masks' is deprecated. Use 'Masks.data' instead.\n"
     ]
    },
    {
     "name": "stdout",
     "output_type": "stream",
     "text": [
      "White Percentage: 13.61%\n",
      "1/1 [==============================] - 0s 36ms/step\n",
      "White Percentage: 5.00%\n",
      "1/1 [==============================] - 0s 34ms/step\n",
      "White Percentage: 13.28%\n",
      "1/1 [==============================] - 0s 40ms/step\n"
     ]
    },
    {
     "name": "stderr",
     "output_type": "stream",
     "text": [
      "video 1/1 (358/901) D:\\815_CowDataChecking\\Honkawa\\2023-07-31\\03\\output_3fps\\20230731-030500-031000_10fps_3fps.mp4: 384x640 5 cows, 26.0ms\n",
      "WARNING  'Masks.masks' is deprecated. Use 'Masks.data' instead.\n"
     ]
    },
    {
     "name": "stdout",
     "output_type": "stream",
     "text": [
      "White Percentage: 5.72%\n",
      "[['ID', 'RANK1', 'RANK1_prob', 'RANK2', 'RANK2_prob', 'RANK3', 'RANK3_prob', 'RANK4', 'RANK4_prob', 'RANK5', 'RANK5_prob']]\n",
      "new cattle  xxxxxxxxxxxxxxxxxxxxx new cattle alert \n",
      "1/1 [==============================] - 0s 35ms/step\n",
      "White Percentage: 5.17%\n",
      "1/1 [==============================] - 0s 34ms/step\n",
      "White Percentage: 13.95%\n",
      "1/1 [==============================] - 0s 34ms/step\n"
     ]
    },
    {
     "name": "stderr",
     "output_type": "stream",
     "text": [
      "video 1/1 (359/901) D:\\815_CowDataChecking\\Honkawa\\2023-07-31\\03\\output_3fps\\20230731-030500-031000_10fps_3fps.mp4: 384x640 5 cows, 40.0ms\n",
      "WARNING  'Masks.masks' is deprecated. Use 'Masks.data' instead.\n"
     ]
    },
    {
     "name": "stdout",
     "output_type": "stream",
     "text": [
      "White Percentage: 5.13%\n",
      "1/1 [==============================] - 0s 34ms/step\n",
      "White Percentage: 4.34%\n",
      "1/1 [==============================] - 0s 37ms/step\n",
      "White Percentage: 14.13%\n",
      "1/1 [==============================] - 0s 35ms/step\n"
     ]
    },
    {
     "name": "stderr",
     "output_type": "stream",
     "text": [
      "video 1/1 (360/901) D:\\815_CowDataChecking\\Honkawa\\2023-07-31\\03\\output_3fps\\20230731-030500-031000_10fps_3fps.mp4: 384x640 5 cows, 28.5ms\n",
      "WARNING  'Masks.masks' is deprecated. Use 'Masks.data' instead.\n"
     ]
    },
    {
     "name": "stdout",
     "output_type": "stream",
     "text": [
      "White Percentage: 4.43%\n",
      "1/1 [==============================] - 0s 32ms/step\n",
      "White Percentage: 4.27%\n",
      "1/1 [==============================] - 0s 36ms/step\n",
      "White Percentage: 15.67%\n",
      "1/1 [==============================] - 0s 34ms/step\n"
     ]
    },
    {
     "name": "stderr",
     "output_type": "stream",
     "text": [
      "video 1/1 (361/901) D:\\815_CowDataChecking\\Honkawa\\2023-07-31\\03\\output_3fps\\20230731-030500-031000_10fps_3fps.mp4: 384x640 5 cows, 25.0ms\n",
      "WARNING  'Masks.masks' is deprecated. Use 'Masks.data' instead.\n"
     ]
    },
    {
     "name": "stdout",
     "output_type": "stream",
     "text": [
      "White Percentage: 1.48%\n",
      "1/1 [==============================] - 0s 33ms/step\n",
      "White Percentage: 3.99%\n",
      "1/1 [==============================] - 0s 34ms/step\n",
      "White Percentage: 15.55%\n",
      "1/1 [==============================] - 0s 34ms/step\n"
     ]
    },
    {
     "name": "stderr",
     "output_type": "stream",
     "text": [
      "video 1/1 (362/901) D:\\815_CowDataChecking\\Honkawa\\2023-07-31\\03\\output_3fps\\20230731-030500-031000_10fps_3fps.mp4: 384x640 5 cows, 29.5ms\n",
      "WARNING  'Masks.masks' is deprecated. Use 'Masks.data' instead.\n"
     ]
    },
    {
     "name": "stdout",
     "output_type": "stream",
     "text": [
      "White Percentage: 4.01%\n",
      "1/1 [==============================] - 0s 34ms/step\n",
      "White Percentage: 4.20%\n",
      "1/1 [==============================] - 0s 35ms/step\n",
      "White Percentage: 14.57%\n",
      "1/1 [==============================] - 0s 34ms/step\n"
     ]
    },
    {
     "name": "stderr",
     "output_type": "stream",
     "text": [
      "video 1/1 (363/901) D:\\815_CowDataChecking\\Honkawa\\2023-07-31\\03\\output_3fps\\20230731-030500-031000_10fps_3fps.mp4: 384x640 5 cows, 34.0ms\n",
      "WARNING  'Masks.masks' is deprecated. Use 'Masks.data' instead.\n"
     ]
    },
    {
     "name": "stdout",
     "output_type": "stream",
     "text": [
      "White Percentage: 3.40%\n",
      "1/1 [==============================] - 0s 33ms/step\n",
      "White Percentage: 3.48%\n",
      "1/1 [==============================] - 0s 36ms/step\n",
      "White Percentage: 16.52%\n",
      "1/1 [==============================] - 0s 39ms/step\n"
     ]
    },
    {
     "name": "stderr",
     "output_type": "stream",
     "text": [
      "video 1/1 (364/901) D:\\815_CowDataChecking\\Honkawa\\2023-07-31\\03\\output_3fps\\20230731-030500-031000_10fps_3fps.mp4: 384x640 5 cows, 22.0ms\n",
      "WARNING  'Masks.masks' is deprecated. Use 'Masks.data' instead.\n"
     ]
    },
    {
     "name": "stdout",
     "output_type": "stream",
     "text": [
      "White Percentage: 4.39%\n",
      "1/1 [==============================] - 0s 37ms/step\n",
      "White Percentage: 3.70%\n",
      "1/1 [==============================] - 0s 34ms/step\n",
      "White Percentage: 13.59%\n",
      "1/1 [==============================] - 0s 35ms/step\n"
     ]
    },
    {
     "name": "stderr",
     "output_type": "stream",
     "text": [
      "video 1/1 (365/901) D:\\815_CowDataChecking\\Honkawa\\2023-07-31\\03\\output_3fps\\20230731-030500-031000_10fps_3fps.mp4: 384x640 5 cows, 32.0ms\n",
      "WARNING  'Masks.masks' is deprecated. Use 'Masks.data' instead.\n"
     ]
    },
    {
     "name": "stdout",
     "output_type": "stream",
     "text": [
      "White Percentage: 3.41%\n",
      "1/1 [==============================] - 0s 34ms/step\n",
      "White Percentage: 3.83%\n",
      "1/1 [==============================] - 0s 35ms/step\n",
      "White Percentage: 15.28%\n",
      "1/1 [==============================] - 0s 34ms/step\n"
     ]
    },
    {
     "name": "stderr",
     "output_type": "stream",
     "text": [
      "video 1/1 (366/901) D:\\815_CowDataChecking\\Honkawa\\2023-07-31\\03\\output_3fps\\20230731-030500-031000_10fps_3fps.mp4: 384x640 5 cows, 26.0ms\n",
      "WARNING  'Masks.masks' is deprecated. Use 'Masks.data' instead.\n"
     ]
    },
    {
     "name": "stdout",
     "output_type": "stream",
     "text": [
      "White Percentage: 3.99%\n",
      "1/1 [==============================] - 0s 40ms/step\n",
      "White Percentage: 3.77%\n",
      "1/1 [==============================] - 0s 39ms/step\n",
      "White Percentage: 14.52%\n",
      "1/1 [==============================] - 0s 39ms/step\n"
     ]
    },
    {
     "name": "stderr",
     "output_type": "stream",
     "text": [
      "video 1/1 (367/901) D:\\815_CowDataChecking\\Honkawa\\2023-07-31\\03\\output_3fps\\20230731-030500-031000_10fps_3fps.mp4: 384x640 5 cows, 26.0ms\n",
      "WARNING  'Masks.masks' is deprecated. Use 'Masks.data' instead.\n"
     ]
    },
    {
     "name": "stdout",
     "output_type": "stream",
     "text": [
      "White Percentage: 3.70%\n",
      "1/1 [==============================] - 0s 34ms/step\n",
      "White Percentage: 3.56%\n",
      "1/1 [==============================] - 0s 35ms/step\n",
      "White Percentage: 15.49%\n",
      "1/1 [==============================] - 0s 33ms/step\n"
     ]
    },
    {
     "name": "stderr",
     "output_type": "stream",
     "text": [
      "video 1/1 (368/901) D:\\815_CowDataChecking\\Honkawa\\2023-07-31\\03\\output_3fps\\20230731-030500-031000_10fps_3fps.mp4: 384x640 5 cows, 35.5ms\n",
      "WARNING  'Masks.masks' is deprecated. Use 'Masks.data' instead.\n"
     ]
    },
    {
     "name": "stdout",
     "output_type": "stream",
     "text": [
      "White Percentage: 4.08%\n",
      "1/1 [==============================] - 0s 37ms/step\n",
      "White Percentage: 3.36%\n",
      "1/1 [==============================] - 0s 33ms/step\n",
      "White Percentage: 15.69%\n",
      "1/1 [==============================] - 0s 40ms/step\n"
     ]
    },
    {
     "name": "stderr",
     "output_type": "stream",
     "text": [
      "video 1/1 (369/901) D:\\815_CowDataChecking\\Honkawa\\2023-07-31\\03\\output_3fps\\20230731-030500-031000_10fps_3fps.mp4: 384x640 5 cows, 51.0ms\n",
      "WARNING  'Masks.masks' is deprecated. Use 'Masks.data' instead.\n"
     ]
    },
    {
     "name": "stdout",
     "output_type": "stream",
     "text": [
      "White Percentage: 4.04%\n",
      "1/1 [==============================] - 0s 36ms/step\n",
      "White Percentage: 3.32%\n",
      "1/1 [==============================] - 0s 34ms/step\n",
      "White Percentage: 15.16%\n",
      "1/1 [==============================] - 0s 33ms/step\n"
     ]
    },
    {
     "name": "stderr",
     "output_type": "stream",
     "text": [
      "video 1/1 (370/901) D:\\815_CowDataChecking\\Honkawa\\2023-07-31\\03\\output_3fps\\20230731-030500-031000_10fps_3fps.mp4: 384x640 5 cows, 33.0ms\n",
      "WARNING  'Masks.masks' is deprecated. Use 'Masks.data' instead.\n"
     ]
    },
    {
     "name": "stdout",
     "output_type": "stream",
     "text": [
      "White Percentage: 1.11%\n",
      "1/1 [==============================] - 0s 34ms/step\n",
      "White Percentage: 3.49%\n",
      "1/1 [==============================] - 0s 33ms/step\n",
      "White Percentage: 15.05%\n",
      "1/1 [==============================] - 0s 33ms/step\n"
     ]
    },
    {
     "name": "stderr",
     "output_type": "stream",
     "text": [
      "video 1/1 (371/901) D:\\815_CowDataChecking\\Honkawa\\2023-07-31\\03\\output_3fps\\20230731-030500-031000_10fps_3fps.mp4: 384x640 5 cows, 35.5ms\n",
      "WARNING  'Masks.masks' is deprecated. Use 'Masks.data' instead.\n"
     ]
    },
    {
     "name": "stdout",
     "output_type": "stream",
     "text": [
      "White Percentage: 0.58%\n",
      "1/1 [==============================] - 0s 34ms/step\n",
      "White Percentage: 3.24%\n",
      "1/1 [==============================] - 0s 32ms/step\n",
      "White Percentage: 14.98%\n",
      "1/1 [==============================] - 0s 34ms/step\n"
     ]
    },
    {
     "name": "stderr",
     "output_type": "stream",
     "text": [
      "video 1/1 (372/901) D:\\815_CowDataChecking\\Honkawa\\2023-07-31\\03\\output_3fps\\20230731-030500-031000_10fps_3fps.mp4: 384x640 5 cows, 41.6ms\n",
      "WARNING  'Masks.masks' is deprecated. Use 'Masks.data' instead.\n"
     ]
    },
    {
     "name": "stdout",
     "output_type": "stream",
     "text": [
      "White Percentage: 0.35%\n",
      "1/1 [==============================] - 0s 33ms/step\n",
      "White Percentage: 3.16%\n",
      "1/1 [==============================] - 0s 34ms/step\n",
      "White Percentage: 14.92%\n",
      "1/1 [==============================] - 0s 33ms/step\n"
     ]
    },
    {
     "name": "stderr",
     "output_type": "stream",
     "text": [
      "video 1/1 (373/901) D:\\815_CowDataChecking\\Honkawa\\2023-07-31\\03\\output_3fps\\20230731-030500-031000_10fps_3fps.mp4: 384x640 5 cows, 33.0ms\n",
      "WARNING  'Masks.masks' is deprecated. Use 'Masks.data' instead.\n"
     ]
    },
    {
     "name": "stdout",
     "output_type": "stream",
     "text": [
      "White Percentage: 0.51%\n",
      "1/1 [==============================] - 0s 39ms/step\n",
      "White Percentage: 3.20%\n",
      "1/1 [==============================] - 0s 34ms/step\n",
      "White Percentage: 15.29%\n",
      "1/1 [==============================] - 0s 34ms/step\n"
     ]
    },
    {
     "name": "stderr",
     "output_type": "stream",
     "text": [
      "video 1/1 (374/901) D:\\815_CowDataChecking\\Honkawa\\2023-07-31\\03\\output_3fps\\20230731-030500-031000_10fps_3fps.mp4: 384x640 5 cows, 35.5ms\n",
      "WARNING  'Masks.masks' is deprecated. Use 'Masks.data' instead.\n"
     ]
    },
    {
     "name": "stdout",
     "output_type": "stream",
     "text": [
      "White Percentage: 1.82%\n",
      "1/1 [==============================] - 0s 37ms/step\n",
      "White Percentage: 2.97%\n",
      "1/1 [==============================] - 0s 34ms/step\n",
      "White Percentage: 14.60%\n",
      "1/1 [==============================] - 0s 33ms/step\n"
     ]
    },
    {
     "name": "stderr",
     "output_type": "stream",
     "text": [
      "video 1/1 (375/901) D:\\815_CowDataChecking\\Honkawa\\2023-07-31\\03\\output_3fps\\20230731-030500-031000_10fps_3fps.mp4: 384x640 5 cows, 28.0ms\n",
      "WARNING  'Masks.masks' is deprecated. Use 'Masks.data' instead.\n"
     ]
    },
    {
     "name": "stdout",
     "output_type": "stream",
     "text": [
      "White Percentage: 0.55%\n",
      "1/1 [==============================] - 0s 34ms/step\n",
      "White Percentage: 2.69%\n",
      "1/1 [==============================] - 0s 34ms/step\n",
      "White Percentage: 14.63%\n",
      "1/1 [==============================] - 0s 34ms/step\n"
     ]
    },
    {
     "name": "stderr",
     "output_type": "stream",
     "text": [
      "video 1/1 (376/901) D:\\815_CowDataChecking\\Honkawa\\2023-07-31\\03\\output_3fps\\20230731-030500-031000_10fps_3fps.mp4: 384x640 5 cows, 32.0ms\n",
      "WARNING  'Masks.masks' is deprecated. Use 'Masks.data' instead.\n"
     ]
    },
    {
     "name": "stdout",
     "output_type": "stream",
     "text": [
      "White Percentage: 0.33%\n",
      "1/1 [==============================] - 0s 33ms/step\n",
      "White Percentage: 2.89%\n",
      "1/1 [==============================] - 0s 35ms/step\n",
      "White Percentage: 13.46%\n",
      "1/1 [==============================] - 0s 37ms/step\n"
     ]
    },
    {
     "name": "stderr",
     "output_type": "stream",
     "text": [
      "video 1/1 (377/901) D:\\815_CowDataChecking\\Honkawa\\2023-07-31\\03\\output_3fps\\20230731-030500-031000_10fps_3fps.mp4: 384x640 5 cows, 32.0ms\n",
      "WARNING  'Masks.masks' is deprecated. Use 'Masks.data' instead.\n"
     ]
    },
    {
     "name": "stdout",
     "output_type": "stream",
     "text": [
      "White Percentage: 12.98%\n",
      "1/1 [==============================] - 0s 34ms/step\n",
      "White Percentage: 2.79%\n",
      "1/1 [==============================] - 0s 33ms/step\n",
      "White Percentage: 12.17%\n",
      "1/1 [==============================] - 0s 36ms/step\n"
     ]
    },
    {
     "name": "stderr",
     "output_type": "stream",
     "text": [
      "video 1/1 (378/901) D:\\815_CowDataChecking\\Honkawa\\2023-07-31\\03\\output_3fps\\20230731-030500-031000_10fps_3fps.mp4: 384x640 5 cows, 34.0ms\n",
      "WARNING  'Masks.masks' is deprecated. Use 'Masks.data' instead.\n"
     ]
    },
    {
     "name": "stdout",
     "output_type": "stream",
     "text": [
      "White Percentage: 10.10%\n",
      "1/1 [==============================] - 0s 33ms/step\n",
      "White Percentage: 2.61%\n",
      "1/1 [==============================] - 0s 39ms/step\n",
      "White Percentage: 12.10%\n",
      "1/1 [==============================] - 0s 35ms/step\n"
     ]
    },
    {
     "name": "stderr",
     "output_type": "stream",
     "text": [
      "video 1/1 (379/901) D:\\815_CowDataChecking\\Honkawa\\2023-07-31\\03\\output_3fps\\20230731-030500-031000_10fps_3fps.mp4: 384x640 5 cows, 34.0ms\n",
      "WARNING  'Masks.masks' is deprecated. Use 'Masks.data' instead.\n"
     ]
    },
    {
     "name": "stdout",
     "output_type": "stream",
     "text": [
      "White Percentage: 7.78%\n",
      "1/1 [==============================] - 0s 38ms/step\n",
      "White Percentage: 2.86%\n",
      "1/1 [==============================] - 0s 33ms/step\n",
      "White Percentage: 12.21%\n",
      "1/1 [==============================] - 0s 34ms/step\n"
     ]
    },
    {
     "name": "stderr",
     "output_type": "stream",
     "text": [
      "video 1/1 (380/901) D:\\815_CowDataChecking\\Honkawa\\2023-07-31\\03\\output_3fps\\20230731-030500-031000_10fps_3fps.mp4: 384x640 5 cows, 31.0ms\n",
      "WARNING  'Masks.masks' is deprecated. Use 'Masks.data' instead.\n"
     ]
    },
    {
     "name": "stdout",
     "output_type": "stream",
     "text": [
      "White Percentage: 6.77%\n",
      "1/1 [==============================] - 0s 33ms/step\n",
      "White Percentage: 2.61%\n",
      "1/1 [==============================] - 0s 34ms/step\n",
      "White Percentage: 12.57%\n",
      "1/1 [==============================] - 0s 35ms/step\n"
     ]
    },
    {
     "name": "stderr",
     "output_type": "stream",
     "text": [
      "video 1/1 (381/901) D:\\815_CowDataChecking\\Honkawa\\2023-07-31\\03\\output_3fps\\20230731-030500-031000_10fps_3fps.mp4: 384x640 5 cows, 35.5ms\n",
      "WARNING  'Masks.masks' is deprecated. Use 'Masks.data' instead.\n"
     ]
    },
    {
     "name": "stdout",
     "output_type": "stream",
     "text": [
      "White Percentage: 11.09%\n",
      "1/1 [==============================] - 0s 33ms/step\n",
      "White Percentage: 2.34%\n",
      "1/1 [==============================] - 0s 34ms/step\n",
      "White Percentage: 11.82%\n",
      "1/1 [==============================] - 0s 39ms/step\n"
     ]
    },
    {
     "name": "stderr",
     "output_type": "stream",
     "text": [
      "video 1/1 (382/901) D:\\815_CowDataChecking\\Honkawa\\2023-07-31\\03\\output_3fps\\20230731-030500-031000_10fps_3fps.mp4: 384x640 5 cows, 30.0ms\n",
      "WARNING  'Masks.masks' is deprecated. Use 'Masks.data' instead.\n"
     ]
    },
    {
     "name": "stdout",
     "output_type": "stream",
     "text": [
      "White Percentage: 12.31%\n",
      "1/1 [==============================] - 0s 37ms/step\n",
      "White Percentage: 2.34%\n",
      "1/1 [==============================] - 0s 34ms/step\n",
      "White Percentage: 13.17%\n",
      "1/1 [==============================] - 0s 41ms/step\n"
     ]
    },
    {
     "name": "stderr",
     "output_type": "stream",
     "text": [
      "video 1/1 (383/901) D:\\815_CowDataChecking\\Honkawa\\2023-07-31\\03\\output_3fps\\20230731-030500-031000_10fps_3fps.mp4: 384x640 5 cows, 25.0ms\n",
      "WARNING  'Masks.masks' is deprecated. Use 'Masks.data' instead.\n"
     ]
    },
    {
     "name": "stdout",
     "output_type": "stream",
     "text": [
      "White Percentage: 15.27%\n",
      "1/1 [==============================] - 0s 43ms/step\n",
      "White Percentage: 2.40%\n",
      "1/1 [==============================] - 0s 34ms/step\n",
      "White Percentage: 13.27%\n",
      "1/1 [==============================] - 0s 34ms/step\n"
     ]
    },
    {
     "name": "stderr",
     "output_type": "stream",
     "text": [
      "video 1/1 (384/901) D:\\815_CowDataChecking\\Honkawa\\2023-07-31\\03\\output_3fps\\20230731-030500-031000_10fps_3fps.mp4: 384x640 6 cows, 28.0ms\n",
      "WARNING  'Masks.masks' is deprecated. Use 'Masks.data' instead.\n"
     ]
    },
    {
     "name": "stdout",
     "output_type": "stream",
     "text": [
      "White Percentage: 7.81%\n",
      "1/1 [==============================] - 0s 34ms/step\n",
      "White Percentage: 2.30%\n",
      "1/1 [==============================] - 0s 33ms/step\n",
      "White Percentage: 13.50%\n",
      "1/1 [==============================] - 0s 34ms/step\n"
     ]
    },
    {
     "name": "stderr",
     "output_type": "stream",
     "text": [
      "video 1/1 (385/901) D:\\815_CowDataChecking\\Honkawa\\2023-07-31\\03\\output_3fps\\20230731-030500-031000_10fps_3fps.mp4: 384x640 6 cows, 40.0ms\n",
      "WARNING  'Masks.masks' is deprecated. Use 'Masks.data' instead.\n"
     ]
    },
    {
     "name": "stdout",
     "output_type": "stream",
     "text": [
      "White Percentage: 0.22%\n",
      "1/1 [==============================] - 0s 35ms/step\n",
      "White Percentage: 2.45%\n",
      "1/1 [==============================] - 0s 33ms/step\n",
      "White Percentage: 13.91%\n",
      "1/1 [==============================] - 0s 39ms/step\n"
     ]
    },
    {
     "name": "stderr",
     "output_type": "stream",
     "text": [
      "video 1/1 (386/901) D:\\815_CowDataChecking\\Honkawa\\2023-07-31\\03\\output_3fps\\20230731-030500-031000_10fps_3fps.mp4: 384x640 6 cows, 36.5ms\n",
      "WARNING  'Masks.masks' is deprecated. Use 'Masks.data' instead.\n"
     ]
    },
    {
     "name": "stdout",
     "output_type": "stream",
     "text": [
      "White Percentage: 3.30%\n",
      "1/1 [==============================] - 0s 36ms/step\n",
      "White Percentage: 2.34%\n",
      "1/1 [==============================] - 0s 35ms/step\n",
      "White Percentage: 13.78%\n",
      "1/1 [==============================] - 0s 33ms/step\n"
     ]
    },
    {
     "name": "stderr",
     "output_type": "stream",
     "text": [
      "video 1/1 (387/901) D:\\815_CowDataChecking\\Honkawa\\2023-07-31\\03\\output_3fps\\20230731-030500-031000_10fps_3fps.mp4: 384x640 6 cows, 35.5ms\n",
      "WARNING  'Masks.masks' is deprecated. Use 'Masks.data' instead.\n"
     ]
    },
    {
     "name": "stdout",
     "output_type": "stream",
     "text": [
      "White Percentage: 2.35%\n",
      "1/1 [==============================] - 0s 39ms/step\n",
      "White Percentage: 2.12%\n",
      "1/1 [==============================] - 0s 39ms/step\n",
      "White Percentage: 10.85%\n",
      "1/1 [==============================] - 0s 35ms/step\n"
     ]
    },
    {
     "name": "stderr",
     "output_type": "stream",
     "text": [
      "video 1/1 (388/901) D:\\815_CowDataChecking\\Honkawa\\2023-07-31\\03\\output_3fps\\20230731-030500-031000_10fps_3fps.mp4: 384x640 6 cows, 35.0ms\n",
      "WARNING  'Masks.masks' is deprecated. Use 'Masks.data' instead.\n"
     ]
    },
    {
     "name": "stdout",
     "output_type": "stream",
     "text": [
      "White Percentage: 6.72%\n",
      "1/1 [==============================] - 0s 36ms/step\n",
      "White Percentage: 2.21%\n",
      "1/1 [==============================] - 0s 36ms/step\n",
      "White Percentage: 11.95%\n",
      "1/1 [==============================] - 0s 41ms/step\n",
      "White Percentage: 12.58%\n",
      "1/1 [==============================] - 0s 35ms/step\n"
     ]
    },
    {
     "name": "stderr",
     "output_type": "stream",
     "text": [
      "video 1/1 (389/901) D:\\815_CowDataChecking\\Honkawa\\2023-07-31\\03\\output_3fps\\20230731-030500-031000_10fps_3fps.mp4: 384x640 6 cows, 29.5ms\n",
      "WARNING  'Masks.masks' is deprecated. Use 'Masks.data' instead.\n"
     ]
    },
    {
     "name": "stdout",
     "output_type": "stream",
     "text": [
      "White Percentage: 0.24%\n",
      "[['ID', 'RANK1', 'RANK1_prob', 'RANK2', 'RANK2_prob', 'RANK3', 'RANK3_prob', 'RANK4', 'RANK4_prob', 'RANK5', 'RANK5_prob']]\n",
      "new cattle  xxxxxxxxxxxxxxxxxxxxx new cattle alert \n",
      "1/1 [==============================] - 0s 34ms/step\n",
      "White Percentage: 2.06%\n",
      "1/1 [==============================] - 0s 33ms/step\n",
      "White Percentage: 12.36%\n",
      "1/1 [==============================] - 0s 35ms/step\n",
      "White Percentage: 8.66%\n",
      "1/1 [==============================] - 0s 34ms/step\n"
     ]
    },
    {
     "name": "stderr",
     "output_type": "stream",
     "text": [
      "video 1/1 (390/901) D:\\815_CowDataChecking\\Honkawa\\2023-07-31\\03\\output_3fps\\20230731-030500-031000_10fps_3fps.mp4: 384x640 6 cows, 36.0ms\n",
      "WARNING  'Masks.masks' is deprecated. Use 'Masks.data' instead.\n"
     ]
    },
    {
     "name": "stdout",
     "output_type": "stream",
     "text": [
      "White Percentage: 0.30%\n",
      "1/1 [==============================] - 0s 34ms/step\n",
      "White Percentage: 2.09%\n",
      "1/1 [==============================] - 0s 36ms/step\n",
      "White Percentage: 11.89%\n",
      "1/1 [==============================] - 0s 34ms/step\n",
      "White Percentage: 3.58%\n",
      "1/1 [==============================] - 0s 35ms/step\n"
     ]
    },
    {
     "name": "stderr",
     "output_type": "stream",
     "text": [
      "video 1/1 (391/901) D:\\815_CowDataChecking\\Honkawa\\2023-07-31\\03\\output_3fps\\20230731-030500-031000_10fps_3fps.mp4: 384x640 5 cows, 29.5ms\n",
      "WARNING  'Masks.masks' is deprecated. Use 'Masks.data' instead.\n"
     ]
    },
    {
     "name": "stdout",
     "output_type": "stream",
     "text": [
      "White Percentage: 0.61%\n",
      "1/1 [==============================] - 0s 33ms/step\n",
      "White Percentage: 1.95%\n",
      "1/1 [==============================] - 0s 35ms/step\n",
      "White Percentage: 11.65%\n",
      "1/1 [==============================] - 0s 35ms/step\n",
      "White Percentage: 3.41%\n",
      "1/1 [==============================] - 0s 33ms/step\n"
     ]
    },
    {
     "name": "stderr",
     "output_type": "stream",
     "text": [
      "video 1/1 (392/901) D:\\815_CowDataChecking\\Honkawa\\2023-07-31\\03\\output_3fps\\20230731-030500-031000_10fps_3fps.mp4: 384x640 5 cows, 36.0ms\n",
      "WARNING  'Masks.masks' is deprecated. Use 'Masks.data' instead.\n"
     ]
    },
    {
     "name": "stdout",
     "output_type": "stream",
     "text": [
      "White Percentage: 0.58%\n",
      "1/1 [==============================] - 0s 34ms/step\n",
      "White Percentage: 1.87%\n",
      "1/1 [==============================] - 0s 41ms/step\n",
      "White Percentage: 11.91%\n",
      "1/1 [==============================] - 0s 34ms/step\n",
      "White Percentage: 4.38%\n",
      "1/1 [==============================] - 0s 35ms/step\n"
     ]
    },
    {
     "name": "stderr",
     "output_type": "stream",
     "text": [
      "video 1/1 (393/901) D:\\815_CowDataChecking\\Honkawa\\2023-07-31\\03\\output_3fps\\20230731-030500-031000_10fps_3fps.mp4: 384x640 5 cows, 29.5ms\n",
      "WARNING  'Masks.masks' is deprecated. Use 'Masks.data' instead.\n"
     ]
    },
    {
     "name": "stdout",
     "output_type": "stream",
     "text": [
      "White Percentage: 0.57%\n",
      "1/1 [==============================] - 0s 38ms/step\n",
      "White Percentage: 1.83%\n",
      "1/1 [==============================] - 0s 33ms/step\n",
      "White Percentage: 11.13%\n",
      "1/1 [==============================] - 0s 33ms/step\n",
      "White Percentage: 0.94%\n",
      "1/1 [==============================] - 0s 34ms/step\n"
     ]
    },
    {
     "name": "stderr",
     "output_type": "stream",
     "text": [
      "video 1/1 (394/901) D:\\815_CowDataChecking\\Honkawa\\2023-07-31\\03\\output_3fps\\20230731-030500-031000_10fps_3fps.mp4: 384x640 5 cows, 29.5ms\n",
      "WARNING  'Masks.masks' is deprecated. Use 'Masks.data' instead.\n"
     ]
    },
    {
     "name": "stdout",
     "output_type": "stream",
     "text": [
      "White Percentage: 0.51%\n",
      "1/1 [==============================] - 0s 34ms/step\n",
      "White Percentage: 11.91%\n",
      "1/1 [==============================] - 0s 39ms/step\n",
      "White Percentage: 0.76%\n",
      "1/1 [==============================] - 0s 34ms/step\n"
     ]
    },
    {
     "name": "stderr",
     "output_type": "stream",
     "text": [
      "video 1/1 (395/901) D:\\815_CowDataChecking\\Honkawa\\2023-07-31\\03\\output_3fps\\20230731-030500-031000_10fps_3fps.mp4: 384x640 5 cows, 26.9ms\n",
      "WARNING  'Masks.masks' is deprecated. Use 'Masks.data' instead.\n"
     ]
    },
    {
     "name": "stdout",
     "output_type": "stream",
     "text": [
      "White Percentage: 0.36%\n",
      "1/1 [==============================] - 0s 39ms/step\n",
      "White Percentage: 11.73%\n",
      "1/1 [==============================] - 0s 35ms/step\n",
      "White Percentage: 8.21%\n",
      "1/1 [==============================] - 0s 36ms/step\n"
     ]
    },
    {
     "name": "stderr",
     "output_type": "stream",
     "text": [
      "video 1/1 (396/901) D:\\815_CowDataChecking\\Honkawa\\2023-07-31\\03\\output_3fps\\20230731-030500-031000_10fps_3fps.mp4: 384x640 5 cows, 36.2ms\n",
      "WARNING  'Masks.masks' is deprecated. Use 'Masks.data' instead.\n"
     ]
    },
    {
     "name": "stdout",
     "output_type": "stream",
     "text": [
      "White Percentage: 0.41%\n",
      "1/1 [==============================] - 0s 36ms/step\n",
      "White Percentage: 12.24%\n",
      "1/1 [==============================] - 0s 39ms/step\n",
      "White Percentage: 10.47%\n",
      "1/1 [==============================] - 0s 42ms/step\n"
     ]
    },
    {
     "name": "stderr",
     "output_type": "stream",
     "text": [
      "video 1/1 (397/901) D:\\815_CowDataChecking\\Honkawa\\2023-07-31\\03\\output_3fps\\20230731-030500-031000_10fps_3fps.mp4: 384x640 5 cows, 26.0ms\n",
      "WARNING  'Masks.masks' is deprecated. Use 'Masks.data' instead.\n"
     ]
    },
    {
     "name": "stdout",
     "output_type": "stream",
     "text": [
      "White Percentage: 0.42%\n",
      "1/1 [==============================] - 0s 34ms/step\n",
      "White Percentage: 12.42%\n",
      "1/1 [==============================] - 0s 33ms/step\n",
      "White Percentage: 1.24%\n",
      "1/1 [==============================] - 0s 33ms/step\n"
     ]
    },
    {
     "name": "stderr",
     "output_type": "stream",
     "text": [
      "video 1/1 (398/901) D:\\815_CowDataChecking\\Honkawa\\2023-07-31\\03\\output_3fps\\20230731-030500-031000_10fps_3fps.mp4: 384x640 5 cows, 30.0ms\n",
      "WARNING  'Masks.masks' is deprecated. Use 'Masks.data' instead.\n"
     ]
    },
    {
     "name": "stdout",
     "output_type": "stream",
     "text": [
      "White Percentage: 0.38%\n",
      "1/1 [==============================] - 0s 34ms/step\n",
      "White Percentage: 12.39%\n",
      "1/1 [==============================] - 0s 36ms/step\n",
      "White Percentage: 0.29%\n",
      "1/1 [==============================] - 0s 35ms/step\n"
     ]
    },
    {
     "name": "stderr",
     "output_type": "stream",
     "text": [
      "video 1/1 (399/901) D:\\815_CowDataChecking\\Honkawa\\2023-07-31\\03\\output_3fps\\20230731-030500-031000_10fps_3fps.mp4: 384x640 5 cows, 33.0ms\n",
      "WARNING  'Masks.masks' is deprecated. Use 'Masks.data' instead.\n"
     ]
    },
    {
     "name": "stdout",
     "output_type": "stream",
     "text": [
      "White Percentage: 0.25%\n",
      "1/1 [==============================] - 0s 34ms/step\n",
      "White Percentage: 12.05%\n",
      "1/1 [==============================] - 0s 34ms/step\n",
      "White Percentage: 9.51%\n",
      "1/1 [==============================] - 0s 35ms/step\n"
     ]
    },
    {
     "name": "stderr",
     "output_type": "stream",
     "text": [
      "video 1/1 (400/901) D:\\815_CowDataChecking\\Honkawa\\2023-07-31\\03\\output_3fps\\20230731-030500-031000_10fps_3fps.mp4: 384x640 5 cows, 25.0ms\n",
      "WARNING  'Masks.masks' is deprecated. Use 'Masks.data' instead.\n"
     ]
    },
    {
     "name": "stdout",
     "output_type": "stream",
     "text": [
      "White Percentage: 0.49%\n",
      "1/1 [==============================] - 0s 35ms/step\n",
      "White Percentage: 11.89%\n",
      "1/1 [==============================] - 0s 35ms/step\n",
      "White Percentage: 8.58%\n",
      "1/1 [==============================] - 0s 38ms/step\n"
     ]
    },
    {
     "name": "stderr",
     "output_type": "stream",
     "text": [
      "video 1/1 (401/901) D:\\815_CowDataChecking\\Honkawa\\2023-07-31\\03\\output_3fps\\20230731-030500-031000_10fps_3fps.mp4: 384x640 6 cows, 39.5ms\n",
      "WARNING  'Masks.masks' is deprecated. Use 'Masks.data' instead.\n"
     ]
    },
    {
     "name": "stdout",
     "output_type": "stream",
     "text": [
      "White Percentage: 0.33%\n",
      "1/1 [==============================] - 0s 43ms/step\n",
      "White Percentage: 12.40%\n",
      "1/1 [==============================] - 0s 37ms/step\n",
      "White Percentage: 3.37%\n",
      "1/1 [==============================] - 0s 36ms/step\n"
     ]
    },
    {
     "name": "stderr",
     "output_type": "stream",
     "text": [
      "video 1/1 (402/901) D:\\815_CowDataChecking\\Honkawa\\2023-07-31\\03\\output_3fps\\20230731-030500-031000_10fps_3fps.mp4: 384x640 5 cows, 38.0ms\n",
      "WARNING  'Masks.masks' is deprecated. Use 'Masks.data' instead.\n"
     ]
    },
    {
     "name": "stdout",
     "output_type": "stream",
     "text": [
      "White Percentage: 0.41%\n",
      "1/1 [==============================] - 0s 34ms/step\n",
      "White Percentage: 12.30%\n",
      "1/1 [==============================] - 0s 36ms/step\n",
      "White Percentage: 7.06%\n",
      "1/1 [==============================] - 0s 35ms/step\n"
     ]
    },
    {
     "name": "stderr",
     "output_type": "stream",
     "text": [
      "video 1/1 (403/901) D:\\815_CowDataChecking\\Honkawa\\2023-07-31\\03\\output_3fps\\20230731-030500-031000_10fps_3fps.mp4: 384x640 5 cows, 34.0ms\n",
      "WARNING  'Masks.masks' is deprecated. Use 'Masks.data' instead.\n"
     ]
    },
    {
     "name": "stdout",
     "output_type": "stream",
     "text": [
      "White Percentage: 0.33%\n",
      "1/1 [==============================] - 0s 34ms/step\n",
      "White Percentage: 12.52%\n",
      "1/1 [==============================] - 0s 36ms/step\n",
      "White Percentage: 4.86%\n",
      "1/1 [==============================] - 0s 36ms/step\n"
     ]
    },
    {
     "name": "stderr",
     "output_type": "stream",
     "text": [
      "video 1/1 (404/901) D:\\815_CowDataChecking\\Honkawa\\2023-07-31\\03\\output_3fps\\20230731-030500-031000_10fps_3fps.mp4: 384x640 5 cows, 38.5ms\n",
      "WARNING  'Masks.masks' is deprecated. Use 'Masks.data' instead.\n"
     ]
    },
    {
     "name": "stdout",
     "output_type": "stream",
     "text": [
      "White Percentage: 0.33%\n",
      "1/1 [==============================] - 0s 35ms/step\n",
      "White Percentage: 12.31%\n",
      "1/1 [==============================] - 0s 35ms/step\n",
      "White Percentage: 3.28%\n",
      "1/1 [==============================] - 0s 36ms/step\n"
     ]
    },
    {
     "name": "stderr",
     "output_type": "stream",
     "text": [
      "video 1/1 (405/901) D:\\815_CowDataChecking\\Honkawa\\2023-07-31\\03\\output_3fps\\20230731-030500-031000_10fps_3fps.mp4: 384x640 7 cows, 27.0ms\n",
      "WARNING  'Masks.masks' is deprecated. Use 'Masks.data' instead.\n"
     ]
    },
    {
     "name": "stdout",
     "output_type": "stream",
     "text": [
      "White Percentage: 0.41%\n",
      "1/1 [==============================] - 0s 35ms/step\n",
      "White Percentage: 12.35%\n",
      "1/1 [==============================] - 0s 35ms/step\n",
      "White Percentage: 7.75%\n",
      "1/1 [==============================] - 0s 37ms/step\n"
     ]
    },
    {
     "name": "stderr",
     "output_type": "stream",
     "text": [
      "video 1/1 (406/901) D:\\815_CowDataChecking\\Honkawa\\2023-07-31\\03\\output_3fps\\20230731-030500-031000_10fps_3fps.mp4: 384x640 8 cows, 28.0ms\n",
      "WARNING  'Masks.masks' is deprecated. Use 'Masks.data' instead.\n"
     ]
    },
    {
     "name": "stdout",
     "output_type": "stream",
     "text": [
      "White Percentage: 0.29%\n",
      "1/1 [==============================] - 0s 46ms/step\n",
      "White Percentage: 12.59%\n",
      "1/1 [==============================] - 0s 35ms/step\n",
      "White Percentage: 2.77%\n",
      "1/1 [==============================] - 0s 37ms/step\n"
     ]
    },
    {
     "name": "stderr",
     "output_type": "stream",
     "text": [
      "video 1/1 (407/901) D:\\815_CowDataChecking\\Honkawa\\2023-07-31\\03\\output_3fps\\20230731-030500-031000_10fps_3fps.mp4: 384x640 7 cows, 25.0ms\n",
      "WARNING  'Masks.masks' is deprecated. Use 'Masks.data' instead.\n"
     ]
    },
    {
     "name": "stdout",
     "output_type": "stream",
     "text": [
      "White Percentage: 0.43%\n",
      "1/1 [==============================] - 0s 35ms/step\n",
      "White Percentage: 12.01%\n",
      "1/1 [==============================] - 0s 35ms/step\n",
      "White Percentage: 9.77%\n",
      "1/1 [==============================] - 0s 36ms/step\n"
     ]
    },
    {
     "name": "stderr",
     "output_type": "stream",
     "text": [
      "video 1/1 (408/901) D:\\815_CowDataChecking\\Honkawa\\2023-07-31\\03\\output_3fps\\20230731-030500-031000_10fps_3fps.mp4: 384x640 5 cows, 31.0ms\n",
      "WARNING  'Masks.masks' is deprecated. Use 'Masks.data' instead.\n"
     ]
    },
    {
     "name": "stdout",
     "output_type": "stream",
     "text": [
      "White Percentage: 0.37%\n",
      "1/1 [==============================] - 0s 36ms/step\n",
      "White Percentage: 11.95%\n",
      "1/1 [==============================] - 0s 35ms/step\n",
      "White Percentage: 8.61%\n",
      "1/1 [==============================] - 0s 37ms/step\n"
     ]
    },
    {
     "name": "stderr",
     "output_type": "stream",
     "text": [
      "video 1/1 (409/901) D:\\815_CowDataChecking\\Honkawa\\2023-07-31\\03\\output_3fps\\20230731-030500-031000_10fps_3fps.mp4: 384x640 6 cows, 27.0ms\n",
      "WARNING  'Masks.masks' is deprecated. Use 'Masks.data' instead.\n"
     ]
    },
    {
     "name": "stdout",
     "output_type": "stream",
     "text": [
      "White Percentage: 0.45%\n",
      "1/1 [==============================] - 0s 36ms/step\n",
      "White Percentage: 12.12%\n",
      "1/1 [==============================] - 0s 37ms/step\n",
      "White Percentage: 8.65%\n",
      "1/1 [==============================] - 0s 34ms/step\n"
     ]
    },
    {
     "name": "stderr",
     "output_type": "stream",
     "text": [
      "video 1/1 (410/901) D:\\815_CowDataChecking\\Honkawa\\2023-07-31\\03\\output_3fps\\20230731-030500-031000_10fps_3fps.mp4: 384x640 7 cows, 24.5ms\n",
      "WARNING  'Masks.masks' is deprecated. Use 'Masks.data' instead.\n"
     ]
    },
    {
     "name": "stdout",
     "output_type": "stream",
     "text": [
      "White Percentage: 0.46%\n",
      "1/1 [==============================] - 0s 34ms/step\n",
      "White Percentage: 11.83%\n",
      "1/1 [==============================] - 0s 42ms/step\n",
      "White Percentage: 8.56%\n",
      "1/1 [==============================] - 0s 36ms/step\n"
     ]
    },
    {
     "name": "stderr",
     "output_type": "stream",
     "text": [
      "video 1/1 (411/901) D:\\815_CowDataChecking\\Honkawa\\2023-07-31\\03\\output_3fps\\20230731-030500-031000_10fps_3fps.mp4: 384x640 7 cows, 32.0ms\n",
      "WARNING  'Masks.masks' is deprecated. Use 'Masks.data' instead.\n"
     ]
    },
    {
     "name": "stdout",
     "output_type": "stream",
     "text": [
      "White Percentage: 0.48%\n",
      "1/1 [==============================] - 0s 35ms/step\n",
      "White Percentage: 11.86%\n",
      "1/1 [==============================] - 0s 35ms/step\n",
      "White Percentage: 5.01%\n",
      "1/1 [==============================] - 0s 37ms/step\n"
     ]
    },
    {
     "name": "stderr",
     "output_type": "stream",
     "text": [
      "video 1/1 (412/901) D:\\815_CowDataChecking\\Honkawa\\2023-07-31\\03\\output_3fps\\20230731-030500-031000_10fps_3fps.mp4: 384x640 7 cows, 26.5ms\n",
      "WARNING  'Masks.masks' is deprecated. Use 'Masks.data' instead.\n"
     ]
    },
    {
     "name": "stdout",
     "output_type": "stream",
     "text": [
      "White Percentage: 0.30%\n",
      "1/1 [==============================] - 0s 36ms/step\n",
      "White Percentage: 12.46%\n",
      "1/1 [==============================] - 0s 35ms/step\n",
      "White Percentage: 2.26%\n",
      "1/1 [==============================] - 0s 37ms/step\n"
     ]
    },
    {
     "name": "stderr",
     "output_type": "stream",
     "text": [
      "video 1/1 (413/901) D:\\815_CowDataChecking\\Honkawa\\2023-07-31\\03\\output_3fps\\20230731-030500-031000_10fps_3fps.mp4: 384x640 7 cows, 26.0ms\n",
      "WARNING  'Masks.masks' is deprecated. Use 'Masks.data' instead.\n"
     ]
    },
    {
     "name": "stdout",
     "output_type": "stream",
     "text": [
      "White Percentage: 0.34%\n",
      "1/1 [==============================] - 0s 41ms/step\n",
      "White Percentage: 12.29%\n",
      "1/1 [==============================] - 0s 40ms/step\n",
      "White Percentage: 4.69%\n",
      "1/1 [==============================] - 0s 47ms/step\n"
     ]
    },
    {
     "name": "stderr",
     "output_type": "stream",
     "text": [
      "video 1/1 (414/901) D:\\815_CowDataChecking\\Honkawa\\2023-07-31\\03\\output_3fps\\20230731-030500-031000_10fps_3fps.mp4: 384x640 8 cows, 38.5ms\n",
      "WARNING  'Masks.masks' is deprecated. Use 'Masks.data' instead.\n"
     ]
    },
    {
     "name": "stdout",
     "output_type": "stream",
     "text": [
      "White Percentage: 0.37%\n",
      "1/1 [==============================] - 0s 35ms/step\n",
      "White Percentage: 12.31%\n",
      "1/1 [==============================] - 0s 37ms/step\n",
      "White Percentage: 3.64%\n",
      "1/1 [==============================] - 0s 35ms/step\n"
     ]
    },
    {
     "name": "stderr",
     "output_type": "stream",
     "text": [
      "video 1/1 (415/901) D:\\815_CowDataChecking\\Honkawa\\2023-07-31\\03\\output_3fps\\20230731-030500-031000_10fps_3fps.mp4: 384x640 7 cows, 38.5ms\n",
      "WARNING  'Masks.masks' is deprecated. Use 'Masks.data' instead.\n"
     ]
    },
    {
     "name": "stdout",
     "output_type": "stream",
     "text": [
      "White Percentage: 0.57%\n",
      "1/1 [==============================] - 0s 46ms/step\n",
      "White Percentage: 11.84%\n",
      "1/1 [==============================] - 0s 38ms/step\n",
      "White Percentage: 2.85%\n",
      "1/1 [==============================] - 0s 43ms/step\n"
     ]
    },
    {
     "name": "stderr",
     "output_type": "stream",
     "text": [
      "video 1/1 (416/901) D:\\815_CowDataChecking\\Honkawa\\2023-07-31\\03\\output_3fps\\20230731-030500-031000_10fps_3fps.mp4: 384x640 6 cows, 29.0ms\n",
      "WARNING  'Masks.masks' is deprecated. Use 'Masks.data' instead.\n"
     ]
    },
    {
     "name": "stdout",
     "output_type": "stream",
     "text": [
      "White Percentage: 0.45%\n",
      "1/1 [==============================] - 0s 39ms/step\n",
      "White Percentage: 9.99%\n",
      "1/1 [==============================] - 0s 36ms/step\n",
      "White Percentage: 1.75%\n",
      "1/1 [==============================] - 0s 35ms/step\n"
     ]
    },
    {
     "name": "stderr",
     "output_type": "stream",
     "text": [
      "video 1/1 (417/901) D:\\815_CowDataChecking\\Honkawa\\2023-07-31\\03\\output_3fps\\20230731-030500-031000_10fps_3fps.mp4: 384x640 6 cows, 27.1ms\n",
      "WARNING  'Masks.masks' is deprecated. Use 'Masks.data' instead.\n"
     ]
    },
    {
     "name": "stdout",
     "output_type": "stream",
     "text": [
      "White Percentage: 0.33%\n",
      "1/1 [==============================] - 0s 39ms/step\n",
      "White Percentage: 11.68%\n",
      "1/1 [==============================] - 0s 38ms/step\n",
      "White Percentage: 0.14%\n",
      "1/1 [==============================] - 0s 37ms/step\n"
     ]
    },
    {
     "name": "stderr",
     "output_type": "stream",
     "text": [
      "video 1/1 (418/901) D:\\815_CowDataChecking\\Honkawa\\2023-07-31\\03\\output_3fps\\20230731-030500-031000_10fps_3fps.mp4: 384x640 6 cows, 26.0ms\n",
      "WARNING  'Masks.masks' is deprecated. Use 'Masks.data' instead.\n"
     ]
    },
    {
     "name": "stdout",
     "output_type": "stream",
     "text": [
      "White Percentage: 0.54%\n",
      "1/1 [==============================] - 0s 35ms/step\n",
      "White Percentage: 11.76%\n",
      "1/1 [==============================] - 0s 36ms/step\n",
      "White Percentage: 1.31%\n",
      "1/1 [==============================] - 0s 35ms/step\n"
     ]
    },
    {
     "name": "stderr",
     "output_type": "stream",
     "text": [
      "video 1/1 (419/901) D:\\815_CowDataChecking\\Honkawa\\2023-07-31\\03\\output_3fps\\20230731-030500-031000_10fps_3fps.mp4: 384x640 6 cows, 33.5ms\n",
      "WARNING  'Masks.masks' is deprecated. Use 'Masks.data' instead.\n"
     ]
    },
    {
     "name": "stdout",
     "output_type": "stream",
     "text": [
      "White Percentage: 0.45%\n",
      "1/1 [==============================] - 0s 38ms/step\n",
      "White Percentage: 11.41%\n",
      "1/1 [==============================] - 0s 41ms/step\n",
      "White Percentage: 0.42%\n",
      "1/1 [==============================] - 0s 39ms/step\n"
     ]
    },
    {
     "name": "stderr",
     "output_type": "stream",
     "text": [
      "video 1/1 (420/901) D:\\815_CowDataChecking\\Honkawa\\2023-07-31\\03\\output_3fps\\20230731-030500-031000_10fps_3fps.mp4: 384x640 7 cows, 29.0ms\n",
      "WARNING  'Masks.masks' is deprecated. Use 'Masks.data' instead.\n"
     ]
    },
    {
     "name": "stdout",
     "output_type": "stream",
     "text": [
      "White Percentage: 0.33%\n",
      "1/1 [==============================] - 0s 35ms/step\n",
      "White Percentage: 12.26%\n",
      "1/1 [==============================] - 0s 36ms/step\n",
      "White Percentage: 0.15%\n",
      "1/1 [==============================] - 0s 36ms/step\n"
     ]
    },
    {
     "name": "stderr",
     "output_type": "stream",
     "text": [
      "video 1/1 (421/901) D:\\815_CowDataChecking\\Honkawa\\2023-07-31\\03\\output_3fps\\20230731-030500-031000_10fps_3fps.mp4: 384x640 7 cows, 40.5ms\n",
      "WARNING  'Masks.masks' is deprecated. Use 'Masks.data' instead.\n"
     ]
    },
    {
     "name": "stdout",
     "output_type": "stream",
     "text": [
      "White Percentage: 0.46%\n",
      "1/1 [==============================] - 0s 36ms/step\n",
      "White Percentage: 12.28%\n",
      "1/1 [==============================] - 0s 35ms/step\n",
      "White Percentage: 0.16%\n",
      "1/1 [==============================] - 0s 35ms/step\n"
     ]
    },
    {
     "name": "stderr",
     "output_type": "stream",
     "text": [
      "video 1/1 (422/901) D:\\815_CowDataChecking\\Honkawa\\2023-07-31\\03\\output_3fps\\20230731-030500-031000_10fps_3fps.mp4: 384x640 6 cows, 28.0ms\n",
      "WARNING  'Masks.masks' is deprecated. Use 'Masks.data' instead.\n"
     ]
    },
    {
     "name": "stdout",
     "output_type": "stream",
     "text": [
      "White Percentage: 0.42%\n",
      "1/1 [==============================] - 0s 37ms/step\n",
      "White Percentage: 12.40%\n",
      "1/1 [==============================] - 0s 37ms/step\n",
      "White Percentage: 0.05%\n",
      "1/1 [==============================] - 0s 39ms/step\n",
      "White Percentage: 0.39%\n",
      "1/1 [==============================] - 0s 35ms/step\n"
     ]
    },
    {
     "name": "stderr",
     "output_type": "stream",
     "text": [
      "video 1/1 (423/901) D:\\815_CowDataChecking\\Honkawa\\2023-07-31\\03\\output_3fps\\20230731-030500-031000_10fps_3fps.mp4: 384x640 6 cows, 35.0ms\n",
      "WARNING  'Masks.masks' is deprecated. Use 'Masks.data' instead.\n"
     ]
    },
    {
     "name": "stdout",
     "output_type": "stream",
     "text": [
      "White Percentage: 13.97%\n",
      "[['ID', 'RANK1', 'RANK1_prob', 'RANK2', 'RANK2_prob', 'RANK3', 'RANK3_prob', 'RANK4', 'RANK4_prob', 'RANK5', 'RANK5_prob']]\n",
      "new cattle  xxxxxxxxxxxxxxxxxxxxx new cattle alert \n",
      "1/1 [==============================] - 0s 35ms/step\n",
      "White Percentage: 11.77%\n",
      "1/1 [==============================] - 0s 34ms/step\n",
      "White Percentage: 0.42%\n",
      "1/1 [==============================] - 0s 40ms/step\n",
      "White Percentage: 0.37%\n",
      "1/1 [==============================] - 0s 35ms/step\n"
     ]
    },
    {
     "name": "stderr",
     "output_type": "stream",
     "text": [
      "video 1/1 (424/901) D:\\815_CowDataChecking\\Honkawa\\2023-07-31\\03\\output_3fps\\20230731-030500-031000_10fps_3fps.mp4: 384x640 6 cows, 36.0ms\n",
      "WARNING  'Masks.masks' is deprecated. Use 'Masks.data' instead.\n"
     ]
    },
    {
     "name": "stdout",
     "output_type": "stream",
     "text": [
      "White Percentage: 14.68%\n",
      "1/1 [==============================] - 0s 37ms/step\n",
      "White Percentage: 11.85%\n",
      "1/1 [==============================] - 0s 34ms/step\n",
      "White Percentage: 0.39%\n",
      "1/1 [==============================] - 0s 39ms/step\n",
      "White Percentage: 0.41%\n",
      "1/1 [==============================] - 0s 34ms/step\n"
     ]
    },
    {
     "name": "stderr",
     "output_type": "stream",
     "text": [
      "video 1/1 (425/901) D:\\815_CowDataChecking\\Honkawa\\2023-07-31\\03\\output_3fps\\20230731-030500-031000_10fps_3fps.mp4: 384x640 6 cows, 34.0ms\n",
      "WARNING  'Masks.masks' is deprecated. Use 'Masks.data' instead.\n"
     ]
    },
    {
     "name": "stdout",
     "output_type": "stream",
     "text": [
      "White Percentage: 15.21%\n",
      "1/1 [==============================] - 0s 35ms/step\n",
      "White Percentage: 12.14%\n",
      "1/1 [==============================] - 0s 39ms/step\n",
      "White Percentage: 0.06%\n",
      "1/1 [==============================] - 0s 36ms/step\n",
      "White Percentage: 0.37%\n",
      "1/1 [==============================] - 0s 35ms/step\n"
     ]
    },
    {
     "name": "stderr",
     "output_type": "stream",
     "text": [
      "video 1/1 (426/901) D:\\815_CowDataChecking\\Honkawa\\2023-07-31\\03\\output_3fps\\20230731-030500-031000_10fps_3fps.mp4: 384x640 7 cows, 36.5ms\n",
      "WARNING  'Masks.masks' is deprecated. Use 'Masks.data' instead.\n"
     ]
    },
    {
     "name": "stdout",
     "output_type": "stream",
     "text": [
      "White Percentage: 14.23%\n",
      "1/1 [==============================] - 0s 35ms/step\n",
      "White Percentage: 11.86%\n",
      "1/1 [==============================] - 0s 35ms/step\n",
      "White Percentage: 0.58%\n",
      "1/1 [==============================] - 0s 37ms/step\n",
      "White Percentage: 0.68%\n",
      "1/1 [==============================] - 0s 35ms/step\n"
     ]
    },
    {
     "name": "stderr",
     "output_type": "stream",
     "text": [
      "video 1/1 (427/901) D:\\815_CowDataChecking\\Honkawa\\2023-07-31\\03\\output_3fps\\20230731-030500-031000_10fps_3fps.mp4: 384x640 7 cows, 25.9ms\n",
      "WARNING  'Masks.masks' is deprecated. Use 'Masks.data' instead.\n"
     ]
    },
    {
     "name": "stdout",
     "output_type": "stream",
     "text": [
      "White Percentage: 14.84%\n",
      "1/1 [==============================] - 0s 35ms/step\n",
      "White Percentage: 12.55%\n",
      "1/1 [==============================] - 0s 35ms/step\n",
      "White Percentage: 0.31%\n",
      "1/1 [==============================] - 0s 36ms/step\n",
      "White Percentage: 0.78%\n",
      "1/1 [==============================] - 0s 38ms/step\n"
     ]
    },
    {
     "name": "stderr",
     "output_type": "stream",
     "text": [
      "video 1/1 (428/901) D:\\815_CowDataChecking\\Honkawa\\2023-07-31\\03\\output_3fps\\20230731-030500-031000_10fps_3fps.mp4: 384x640 7 cows, 40.5ms\n",
      "WARNING  'Masks.masks' is deprecated. Use 'Masks.data' instead.\n"
     ]
    },
    {
     "name": "stdout",
     "output_type": "stream",
     "text": [
      "White Percentage: 14.29%\n",
      "1/1 [==============================] - 0s 38ms/step\n",
      "White Percentage: 12.49%\n",
      "1/1 [==============================] - 0s 35ms/step\n",
      "White Percentage: 0.11%\n",
      "1/1 [==============================] - 0s 40ms/step\n",
      "White Percentage: 0.54%\n",
      "1/1 [==============================] - 0s 36ms/step\n"
     ]
    },
    {
     "name": "stderr",
     "output_type": "stream",
     "text": [
      "video 1/1 (429/901) D:\\815_CowDataChecking\\Honkawa\\2023-07-31\\03\\output_3fps\\20230731-030500-031000_10fps_3fps.mp4: 384x640 6 cows, 42.0ms\n",
      "WARNING  'Masks.masks' is deprecated. Use 'Masks.data' instead.\n"
     ]
    },
    {
     "name": "stdout",
     "output_type": "stream",
     "text": [
      "White Percentage: 14.23%\n",
      "1/1 [==============================] - 0s 34ms/step\n",
      "White Percentage: 11.69%\n",
      "1/1 [==============================] - 0s 35ms/step\n",
      "White Percentage: 0.05%\n",
      "1/1 [==============================] - 0s 36ms/step\n",
      "White Percentage: 0.37%\n",
      "1/1 [==============================] - 0s 35ms/step\n"
     ]
    },
    {
     "name": "stderr",
     "output_type": "stream",
     "text": [
      "video 1/1 (430/901) D:\\815_CowDataChecking\\Honkawa\\2023-07-31\\03\\output_3fps\\20230731-030500-031000_10fps_3fps.mp4: 384x640 6 cows, 27.3ms\n",
      "WARNING  'Masks.masks' is deprecated. Use 'Masks.data' instead.\n"
     ]
    },
    {
     "name": "stdout",
     "output_type": "stream",
     "text": [
      "White Percentage: 14.91%\n",
      "1/1 [==============================] - 0s 35ms/step\n",
      "White Percentage: 11.89%\n",
      "1/1 [==============================] - 0s 34ms/step\n",
      "White Percentage: 6.03%\n",
      "1/1 [==============================] - 0s 35ms/step\n",
      "White Percentage: 0.40%\n",
      "1/1 [==============================] - 0s 43ms/step\n"
     ]
    },
    {
     "name": "stderr",
     "output_type": "stream",
     "text": [
      "video 1/1 (431/901) D:\\815_CowDataChecking\\Honkawa\\2023-07-31\\03\\output_3fps\\20230731-030500-031000_10fps_3fps.mp4: 384x640 6 cows, 34.0ms\n",
      "WARNING  'Masks.masks' is deprecated. Use 'Masks.data' instead.\n"
     ]
    },
    {
     "name": "stdout",
     "output_type": "stream",
     "text": [
      "White Percentage: 15.48%\n",
      "1/1 [==============================] - 0s 36ms/step\n",
      "White Percentage: 11.58%\n",
      "1/1 [==============================] - 0s 37ms/step\n",
      "White Percentage: 0.56%\n",
      "1/1 [==============================] - 0s 36ms/step\n",
      "White Percentage: 0.31%\n",
      "1/1 [==============================] - 0s 36ms/step\n"
     ]
    },
    {
     "name": "stderr",
     "output_type": "stream",
     "text": [
      "video 1/1 (432/901) D:\\815_CowDataChecking\\Honkawa\\2023-07-31\\03\\output_3fps\\20230731-030500-031000_10fps_3fps.mp4: 384x640 6 cows, 37.0ms\n",
      "WARNING  'Masks.masks' is deprecated. Use 'Masks.data' instead.\n"
     ]
    },
    {
     "name": "stdout",
     "output_type": "stream",
     "text": [
      "White Percentage: 16.26%\n",
      "1/1 [==============================] - 0s 38ms/step\n",
      "White Percentage: 6.99%\n",
      "1/1 [==============================] - 0s 35ms/step\n",
      "White Percentage: 0.43%\n",
      "1/1 [==============================] - 0s 39ms/step\n"
     ]
    },
    {
     "name": "stderr",
     "output_type": "stream",
     "text": [
      "video 1/1 (433/901) D:\\815_CowDataChecking\\Honkawa\\2023-07-31\\03\\output_3fps\\20230731-030500-031000_10fps_3fps.mp4: 384x640 6 cows, 26.0ms\n",
      "WARNING  'Masks.masks' is deprecated. Use 'Masks.data' instead.\n"
     ]
    },
    {
     "name": "stdout",
     "output_type": "stream",
     "text": [
      "White Percentage: 16.25%\n",
      "1/1 [==============================] - 0s 36ms/step\n",
      "White Percentage: 6.73%\n",
      "1/1 [==============================] - 0s 34ms/step\n",
      "White Percentage: 0.45%\n",
      "1/1 [==============================] - 0s 35ms/step\n"
     ]
    },
    {
     "name": "stderr",
     "output_type": "stream",
     "text": [
      "video 1/1 (434/901) D:\\815_CowDataChecking\\Honkawa\\2023-07-31\\03\\output_3fps\\20230731-030500-031000_10fps_3fps.mp4: 384x640 6 cows, 39.0ms\n",
      "WARNING  'Masks.masks' is deprecated. Use 'Masks.data' instead.\n"
     ]
    },
    {
     "name": "stdout",
     "output_type": "stream",
     "text": [
      "White Percentage: 15.95%\n",
      "1/1 [==============================] - 0s 35ms/step\n",
      "White Percentage: 6.74%\n",
      "1/1 [==============================] - 0s 36ms/step\n",
      "White Percentage: 0.45%\n",
      "1/1 [==============================] - 0s 40ms/step\n"
     ]
    },
    {
     "name": "stderr",
     "output_type": "stream",
     "text": [
      "video 1/1 (435/901) D:\\815_CowDataChecking\\Honkawa\\2023-07-31\\03\\output_3fps\\20230731-030500-031000_10fps_3fps.mp4: 384x640 7 cows, 30.0ms\n",
      "WARNING  'Masks.masks' is deprecated. Use 'Masks.data' instead.\n"
     ]
    },
    {
     "name": "stdout",
     "output_type": "stream",
     "text": [
      "White Percentage: 15.68%\n",
      "1/1 [==============================] - 0s 35ms/step\n",
      "White Percentage: 7.12%\n",
      "1/1 [==============================] - 0s 44ms/step\n",
      "White Percentage: 0.36%\n",
      "1/1 [==============================] - 0s 41ms/step\n"
     ]
    },
    {
     "name": "stderr",
     "output_type": "stream",
     "text": [
      "video 1/1 (436/901) D:\\815_CowDataChecking\\Honkawa\\2023-07-31\\03\\output_3fps\\20230731-030500-031000_10fps_3fps.mp4: 384x640 7 cows, 25.0ms\n",
      "WARNING  'Masks.masks' is deprecated. Use 'Masks.data' instead.\n"
     ]
    },
    {
     "name": "stdout",
     "output_type": "stream",
     "text": [
      "White Percentage: 15.94%\n",
      "1/1 [==============================] - 0s 44ms/step\n",
      "White Percentage: 7.43%\n",
      "1/1 [==============================] - 0s 37ms/step\n",
      "White Percentage: 0.40%\n",
      "1/1 [==============================] - 0s 35ms/step\n"
     ]
    },
    {
     "name": "stderr",
     "output_type": "stream",
     "text": [
      "video 1/1 (437/901) D:\\815_CowDataChecking\\Honkawa\\2023-07-31\\03\\output_3fps\\20230731-030500-031000_10fps_3fps.mp4: 384x640 6 cows, 34.0ms\n",
      "WARNING  'Masks.masks' is deprecated. Use 'Masks.data' instead.\n"
     ]
    },
    {
     "name": "stdout",
     "output_type": "stream",
     "text": [
      "White Percentage: 15.95%\n",
      "1/1 [==============================] - 0s 35ms/step\n",
      "White Percentage: 8.08%\n",
      "1/1 [==============================] - 0s 38ms/step\n",
      "White Percentage: 0.40%\n",
      "1/1 [==============================] - 0s 37ms/step\n"
     ]
    },
    {
     "name": "stderr",
     "output_type": "stream",
     "text": [
      "video 1/1 (438/901) D:\\815_CowDataChecking\\Honkawa\\2023-07-31\\03\\output_3fps\\20230731-030500-031000_10fps_3fps.mp4: 384x640 6 cows, 33.3ms\n",
      "WARNING  'Masks.masks' is deprecated. Use 'Masks.data' instead.\n"
     ]
    },
    {
     "name": "stdout",
     "output_type": "stream",
     "text": [
      "White Percentage: 15.50%\n",
      "1/1 [==============================] - 0s 35ms/step\n",
      "White Percentage: 8.59%\n",
      "1/1 [==============================] - 0s 35ms/step\n",
      "White Percentage: 0.45%\n",
      "1/1 [==============================] - 0s 40ms/step\n"
     ]
    },
    {
     "name": "stderr",
     "output_type": "stream",
     "text": [
      "video 1/1 (439/901) D:\\815_CowDataChecking\\Honkawa\\2023-07-31\\03\\output_3fps\\20230731-030500-031000_10fps_3fps.mp4: 384x640 6 cows, 36.0ms\n",
      "WARNING  'Masks.masks' is deprecated. Use 'Masks.data' instead.\n"
     ]
    },
    {
     "name": "stdout",
     "output_type": "stream",
     "text": [
      "White Percentage: 15.03%\n",
      "1/1 [==============================] - 0s 36ms/step\n",
      "White Percentage: 10.34%\n",
      "1/1 [==============================] - 0s 36ms/step\n",
      "White Percentage: 0.44%\n",
      "1/1 [==============================] - 0s 35ms/step\n"
     ]
    },
    {
     "name": "stderr",
     "output_type": "stream",
     "text": [
      "video 1/1 (440/901) D:\\815_CowDataChecking\\Honkawa\\2023-07-31\\03\\output_3fps\\20230731-030500-031000_10fps_3fps.mp4: 384x640 6 cows, 29.0ms\n",
      "WARNING  'Masks.masks' is deprecated. Use 'Masks.data' instead.\n"
     ]
    },
    {
     "name": "stdout",
     "output_type": "stream",
     "text": [
      "White Percentage: 16.35%\n",
      "1/1 [==============================] - 0s 36ms/step\n",
      "White Percentage: 3.63%\n",
      "1/1 [==============================] - 0s 42ms/step\n",
      "White Percentage: 0.53%\n",
      "1/1 [==============================] - 0s 35ms/step\n"
     ]
    },
    {
     "name": "stderr",
     "output_type": "stream",
     "text": [
      "video 1/1 (441/901) D:\\815_CowDataChecking\\Honkawa\\2023-07-31\\03\\output_3fps\\20230731-030500-031000_10fps_3fps.mp4: 384x640 6 cows, 33.0ms\n",
      "WARNING  'Masks.masks' is deprecated. Use 'Masks.data' instead.\n"
     ]
    },
    {
     "name": "stdout",
     "output_type": "stream",
     "text": [
      "White Percentage: 15.43%\n",
      "1/1 [==============================] - 0s 40ms/step\n",
      "White Percentage: 2.21%\n",
      "1/1 [==============================] - 0s 35ms/step\n",
      "White Percentage: 0.64%\n",
      "1/1 [==============================] - 0s 35ms/step\n"
     ]
    },
    {
     "name": "stderr",
     "output_type": "stream",
     "text": [
      "video 1/1 (442/901) D:\\815_CowDataChecking\\Honkawa\\2023-07-31\\03\\output_3fps\\20230731-030500-031000_10fps_3fps.mp4: 384x640 6 cows, 34.0ms\n",
      "WARNING  'Masks.masks' is deprecated. Use 'Masks.data' instead.\n"
     ]
    },
    {
     "name": "stdout",
     "output_type": "stream",
     "text": [
      "White Percentage: 16.04%\n",
      "1/1 [==============================] - 0s 35ms/step\n",
      "White Percentage: 2.48%\n",
      "1/1 [==============================] - 0s 40ms/step\n",
      "White Percentage: 0.80%\n",
      "1/1 [==============================] - 0s 36ms/step\n",
      "White Percentage: 15.13%\n"
     ]
    },
    {
     "name": "stderr",
     "output_type": "stream",
     "text": [
      "video 1/1 (443/901) D:\\815_CowDataChecking\\Honkawa\\2023-07-31\\03\\output_3fps\\20230731-030500-031000_10fps_3fps.mp4: 384x640 6 cows, 26.5ms\n",
      "WARNING  'Masks.masks' is deprecated. Use 'Masks.data' instead.\n"
     ]
    },
    {
     "name": "stdout",
     "output_type": "stream",
     "text": [
      "1/1 [==============================] - 0s 35ms/step\n",
      "White Percentage: 4.34%\n",
      "1/1 [==============================] - 0s 36ms/step\n",
      "White Percentage: 0.81%\n",
      "1/1 [==============================] - 0s 35ms/step\n"
     ]
    },
    {
     "name": "stderr",
     "output_type": "stream",
     "text": [
      "video 1/1 (444/901) D:\\815_CowDataChecking\\Honkawa\\2023-07-31\\03\\output_3fps\\20230731-030500-031000_10fps_3fps.mp4: 384x640 6 cows, 28.5ms\n",
      "WARNING  'Masks.masks' is deprecated. Use 'Masks.data' instead.\n"
     ]
    },
    {
     "name": "stdout",
     "output_type": "stream",
     "text": [
      "White Percentage: 17.05%\n",
      "1/1 [==============================] - 0s 43ms/step\n",
      "White Percentage: 4.89%\n",
      "1/1 [==============================] - 0s 37ms/step\n",
      "White Percentage: 0.33%\n",
      "1/1 [==============================] - 0s 34ms/step\n"
     ]
    },
    {
     "name": "stderr",
     "output_type": "stream",
     "text": [
      "video 1/1 (445/901) D:\\815_CowDataChecking\\Honkawa\\2023-07-31\\03\\output_3fps\\20230731-030500-031000_10fps_3fps.mp4: 384x640 5 cows, 32.0ms\n",
      "WARNING  'Masks.masks' is deprecated. Use 'Masks.data' instead.\n"
     ]
    },
    {
     "name": "stdout",
     "output_type": "stream",
     "text": [
      "White Percentage: 15.35%\n",
      "1/1 [==============================] - 0s 37ms/step\n",
      "White Percentage: 13.02%\n",
      "1/1 [==============================] - 0s 40ms/step\n",
      "White Percentage: 0.19%\n",
      "1/1 [==============================] - 0s 36ms/step\n"
     ]
    },
    {
     "name": "stderr",
     "output_type": "stream",
     "text": [
      "video 1/1 (446/901) D:\\815_CowDataChecking\\Honkawa\\2023-07-31\\03\\output_3fps\\20230731-030500-031000_10fps_3fps.mp4: 384x640 5 cows, 26.0ms\n",
      "WARNING  'Masks.masks' is deprecated. Use 'Masks.data' instead.\n"
     ]
    },
    {
     "name": "stdout",
     "output_type": "stream",
     "text": [
      "White Percentage: 17.23%\n",
      "1/1 [==============================] - 0s 37ms/step\n",
      "White Percentage: 8.60%\n",
      "1/1 [==============================] - 0s 37ms/step\n",
      "White Percentage: 0.23%\n",
      "1/1 [==============================] - 0s 35ms/step\n"
     ]
    },
    {
     "name": "stderr",
     "output_type": "stream",
     "text": [
      "video 1/1 (447/901) D:\\815_CowDataChecking\\Honkawa\\2023-07-31\\03\\output_3fps\\20230731-030500-031000_10fps_3fps.mp4: 384x640 5 cows, 32.0ms\n",
      "WARNING  'Masks.masks' is deprecated. Use 'Masks.data' instead.\n"
     ]
    },
    {
     "name": "stdout",
     "output_type": "stream",
     "text": [
      "White Percentage: 15.23%\n",
      "1/1 [==============================] - 0s 34ms/step\n",
      "White Percentage: 12.52%\n",
      "1/1 [==============================] - 0s 36ms/step\n",
      "White Percentage: 2.13%\n",
      "1/1 [==============================] - 0s 35ms/step\n"
     ]
    },
    {
     "name": "stderr",
     "output_type": "stream",
     "text": [
      "video 1/1 (448/901) D:\\815_CowDataChecking\\Honkawa\\2023-07-31\\03\\output_3fps\\20230731-030500-031000_10fps_3fps.mp4: 384x640 5 cows, 30.0ms\n",
      "WARNING  'Masks.masks' is deprecated. Use 'Masks.data' instead.\n"
     ]
    },
    {
     "name": "stdout",
     "output_type": "stream",
     "text": [
      "White Percentage: 15.44%\n",
      "1/1 [==============================] - 0s 36ms/step\n",
      "White Percentage: 0.25%\n",
      "1/1 [==============================] - 0s 34ms/step\n",
      "White Percentage: 0.82%\n",
      "1/1 [==============================] - 0s 35ms/step\n"
     ]
    },
    {
     "name": "stderr",
     "output_type": "stream",
     "text": [
      "video 1/1 (449/901) D:\\815_CowDataChecking\\Honkawa\\2023-07-31\\03\\output_3fps\\20230731-030500-031000_10fps_3fps.mp4: 384x640 6 cows, 27.0ms\n",
      "WARNING  'Masks.masks' is deprecated. Use 'Masks.data' instead.\n"
     ]
    },
    {
     "name": "stdout",
     "output_type": "stream",
     "text": [
      "White Percentage: 16.92%\n",
      "1/1 [==============================] - 0s 36ms/step\n",
      "White Percentage: 1.12%\n",
      "1/1 [==============================] - 0s 38ms/step\n",
      "White Percentage: 0.50%\n",
      "1/1 [==============================] - 0s 40ms/step\n"
     ]
    },
    {
     "name": "stderr",
     "output_type": "stream",
     "text": [
      "video 1/1 (450/901) D:\\815_CowDataChecking\\Honkawa\\2023-07-31\\03\\output_3fps\\20230731-030500-031000_10fps_3fps.mp4: 384x640 6 cows, 27.5ms\n",
      "WARNING  'Masks.masks' is deprecated. Use 'Masks.data' instead.\n"
     ]
    },
    {
     "name": "stdout",
     "output_type": "stream",
     "text": [
      "White Percentage: 17.16%\n",
      "1/1 [==============================] - 0s 43ms/step\n",
      "White Percentage: 1.49%\n",
      "1/1 [==============================] - 0s 40ms/step\n",
      "White Percentage: 0.33%\n",
      "1/1 [==============================] - 0s 38ms/step\n"
     ]
    },
    {
     "name": "stderr",
     "output_type": "stream",
     "text": [
      "video 1/1 (451/901) D:\\815_CowDataChecking\\Honkawa\\2023-07-31\\03\\output_3fps\\20230731-030500-031000_10fps_3fps.mp4: 384x640 6 cows, 28.0ms\n",
      "WARNING  'Masks.masks' is deprecated. Use 'Masks.data' instead.\n"
     ]
    },
    {
     "name": "stdout",
     "output_type": "stream",
     "text": [
      "White Percentage: 16.29%\n",
      "1/1 [==============================] - 0s 36ms/step\n",
      "White Percentage: 1.97%\n",
      "1/1 [==============================] - 0s 38ms/step\n",
      "White Percentage: 0.30%\n",
      "1/1 [==============================] - 0s 36ms/step\n"
     ]
    },
    {
     "name": "stderr",
     "output_type": "stream",
     "text": [
      "video 1/1 (452/901) D:\\815_CowDataChecking\\Honkawa\\2023-07-31\\03\\output_3fps\\20230731-030500-031000_10fps_3fps.mp4: 384x640 6 cows, 38.5ms\n",
      "WARNING  'Masks.masks' is deprecated. Use 'Masks.data' instead.\n"
     ]
    },
    {
     "name": "stdout",
     "output_type": "stream",
     "text": [
      "White Percentage: 14.45%\n",
      "1/1 [==============================] - 0s 40ms/step\n",
      "White Percentage: 0.10%\n",
      "1/1 [==============================] - 0s 34ms/step\n",
      "White Percentage: 0.29%\n",
      "1/1 [==============================] - 0s 35ms/step\n"
     ]
    },
    {
     "name": "stderr",
     "output_type": "stream",
     "text": [
      "video 1/1 (453/901) D:\\815_CowDataChecking\\Honkawa\\2023-07-31\\03\\output_3fps\\20230731-030500-031000_10fps_3fps.mp4: 384x640 6 cows, 29.5ms\n",
      "WARNING  'Masks.masks' is deprecated. Use 'Masks.data' instead.\n"
     ]
    },
    {
     "name": "stdout",
     "output_type": "stream",
     "text": [
      "White Percentage: 12.87%\n",
      "1/1 [==============================] - 0s 41ms/step\n",
      "White Percentage: 0.82%\n",
      "1/1 [==============================] - 0s 35ms/step\n",
      "White Percentage: 0.35%\n",
      "1/1 [==============================] - 0s 37ms/step\n",
      "White Percentage: 13.82%\n",
      "1/1 [==============================] - 0s 35ms/step\n"
     ]
    },
    {
     "name": "stderr",
     "output_type": "stream",
     "text": [
      "video 1/1 (454/901) D:\\815_CowDataChecking\\Honkawa\\2023-07-31\\03\\output_3fps\\20230731-030500-031000_10fps_3fps.mp4: 384x640 6 cows, 35.0ms\n",
      "WARNING  'Masks.masks' is deprecated. Use 'Masks.data' instead.\n"
     ]
    },
    {
     "name": "stdout",
     "output_type": "stream",
     "text": [
      "White Percentage: 17.28%\n",
      "[['ID', 'RANK1', 'RANK1_prob', 'RANK2', 'RANK2_prob', 'RANK3', 'RANK3_prob', 'RANK4', 'RANK4_prob', 'RANK5', 'RANK5_prob']]\n",
      "new cattle  xxxxxxxxxxxxxxxxxxxxx new cattle alert \n",
      "1/1 [==============================] - 0s 35ms/step\n",
      "White Percentage: 0.23%\n",
      "1/1 [==============================] - 0s 35ms/step\n",
      "White Percentage: 0.36%\n",
      "1/1 [==============================] - 0s 41ms/step\n",
      "White Percentage: 10.89%\n",
      "1/1 [==============================] - 0s 36ms/step\n"
     ]
    },
    {
     "name": "stderr",
     "output_type": "stream",
     "text": [
      "video 1/1 (455/901) D:\\815_CowDataChecking\\Honkawa\\2023-07-31\\03\\output_3fps\\20230731-030500-031000_10fps_3fps.mp4: 384x640 6 cows, 26.5ms\n",
      "WARNING  'Masks.masks' is deprecated. Use 'Masks.data' instead.\n"
     ]
    },
    {
     "name": "stdout",
     "output_type": "stream",
     "text": [
      "White Percentage: 21.03%\n",
      "1/1 [==============================] - 0s 35ms/step\n",
      "White Percentage: 0.12%\n",
      "1/1 [==============================] - 0s 36ms/step\n",
      "White Percentage: 0.39%\n",
      "1/1 [==============================] - 0s 37ms/step\n",
      "White Percentage: 15.19%\n",
      "1/1 [==============================] - 0s 42ms/step\n"
     ]
    },
    {
     "name": "stderr",
     "output_type": "stream",
     "text": [
      "video 1/1 (456/901) D:\\815_CowDataChecking\\Honkawa\\2023-07-31\\03\\output_3fps\\20230731-030500-031000_10fps_3fps.mp4: 384x640 6 cows, 33.0ms\n",
      "WARNING  'Masks.masks' is deprecated. Use 'Masks.data' instead.\n"
     ]
    },
    {
     "name": "stdout",
     "output_type": "stream",
     "text": [
      "White Percentage: 19.54%\n",
      "1/1 [==============================] - 0s 38ms/step\n",
      "White Percentage: 1.95%\n",
      "1/1 [==============================] - 0s 37ms/step\n",
      "White Percentage: 0.33%\n",
      "1/1 [==============================] - 0s 36ms/step\n",
      "White Percentage: 14.84%\n",
      "1/1 [==============================] - 0s 46ms/step\n"
     ]
    },
    {
     "name": "stderr",
     "output_type": "stream",
     "text": [
      "video 1/1 (457/901) D:\\815_CowDataChecking\\Honkawa\\2023-07-31\\03\\output_3fps\\20230731-030500-031000_10fps_3fps.mp4: 384x640 6 cows, 37.0ms\n",
      "WARNING  'Masks.masks' is deprecated. Use 'Masks.data' instead.\n"
     ]
    },
    {
     "name": "stdout",
     "output_type": "stream",
     "text": [
      "White Percentage: 22.84%\n",
      "1/1 [==============================] - 0s 35ms/step\n",
      "White Percentage: 0.42%\n",
      "1/1 [==============================] - 0s 36ms/step\n",
      "White Percentage: 0.31%\n",
      "1/1 [==============================] - 0s 36ms/step\n",
      "White Percentage: 14.00%\n",
      "1/1 [==============================] - 0s 35ms/step\n"
     ]
    },
    {
     "name": "stderr",
     "output_type": "stream",
     "text": [
      "video 1/1 (458/901) D:\\815_CowDataChecking\\Honkawa\\2023-07-31\\03\\output_3fps\\20230731-030500-031000_10fps_3fps.mp4: 384x640 6 cows, 31.5ms\n",
      "WARNING  'Masks.masks' is deprecated. Use 'Masks.data' instead.\n"
     ]
    },
    {
     "name": "stdout",
     "output_type": "stream",
     "text": [
      "White Percentage: 23.13%\n",
      "1/1 [==============================] - 0s 35ms/step\n",
      "White Percentage: 0.41%\n",
      "1/1 [==============================] - 0s 36ms/step\n",
      "White Percentage: 0.33%\n",
      "1/1 [==============================] - 0s 41ms/step\n",
      "White Percentage: 14.02%\n",
      "1/1 [==============================] - 0s 34ms/step\n"
     ]
    },
    {
     "name": "stderr",
     "output_type": "stream",
     "text": [
      "video 1/1 (459/901) D:\\815_CowDataChecking\\Honkawa\\2023-07-31\\03\\output_3fps\\20230731-030500-031000_10fps_3fps.mp4: 384x640 6 cows, 29.0ms\n",
      "WARNING  'Masks.masks' is deprecated. Use 'Masks.data' instead.\n"
     ]
    },
    {
     "name": "stdout",
     "output_type": "stream",
     "text": [
      "White Percentage: 20.90%\n",
      "1/1 [==============================] - 0s 36ms/step\n",
      "White Percentage: 0.58%\n",
      "1/1 [==============================] - 0s 39ms/step\n",
      "White Percentage: 0.30%\n",
      "1/1 [==============================] - 0s 36ms/step\n",
      "White Percentage: 15.29%\n",
      "1/1 [==============================] - 0s 37ms/step\n"
     ]
    },
    {
     "name": "stderr",
     "output_type": "stream",
     "text": [
      "video 1/1 (460/901) D:\\815_CowDataChecking\\Honkawa\\2023-07-31\\03\\output_3fps\\20230731-030500-031000_10fps_3fps.mp4: 384x640 6 cows, 26.0ms\n",
      "WARNING  'Masks.masks' is deprecated. Use 'Masks.data' instead.\n"
     ]
    },
    {
     "name": "stdout",
     "output_type": "stream",
     "text": [
      "White Percentage: 18.93%\n",
      "1/1 [==============================] - 0s 39ms/step\n",
      "White Percentage: 0.43%\n",
      "1/1 [==============================] - 0s 37ms/step\n",
      "White Percentage: 0.25%\n",
      "1/1 [==============================] - 0s 39ms/step\n",
      "White Percentage: 15.73%\n",
      "1/1 [==============================] - 0s 40ms/step\n"
     ]
    },
    {
     "name": "stderr",
     "output_type": "stream",
     "text": [
      "video 1/1 (461/901) D:\\815_CowDataChecking\\Honkawa\\2023-07-31\\03\\output_3fps\\20230731-030500-031000_10fps_3fps.mp4: 384x640 6 cows, 38.0ms\n",
      "WARNING  'Masks.masks' is deprecated. Use 'Masks.data' instead.\n"
     ]
    },
    {
     "name": "stdout",
     "output_type": "stream",
     "text": [
      "White Percentage: 20.81%\n",
      "1/1 [==============================] - 0s 37ms/step\n",
      "White Percentage: 1.30%\n",
      "1/1 [==============================] - 0s 42ms/step\n",
      "White Percentage: 0.29%\n",
      "1/1 [==============================] - 0s 36ms/step\n",
      "White Percentage: 15.81%\n",
      "1/1 [==============================] - 0s 36ms/step\n"
     ]
    },
    {
     "name": "stderr",
     "output_type": "stream",
     "text": [
      "video 1/1 (462/901) D:\\815_CowDataChecking\\Honkawa\\2023-07-31\\03\\output_3fps\\20230731-030500-031000_10fps_3fps.mp4: 384x640 6 cows, 29.0ms\n",
      "WARNING  'Masks.masks' is deprecated. Use 'Masks.data' instead.\n"
     ]
    },
    {
     "name": "stdout",
     "output_type": "stream",
     "text": [
      "White Percentage: 21.99%\n",
      "1/1 [==============================] - 0s 35ms/step\n",
      "White Percentage: 1.83%\n",
      "1/1 [==============================] - 0s 33ms/step\n",
      "White Percentage: 0.36%\n",
      "1/1 [==============================] - 0s 35ms/step\n",
      "White Percentage: 16.69%\n",
      "1/1 [==============================] - 0s 40ms/step\n"
     ]
    },
    {
     "name": "stderr",
     "output_type": "stream",
     "text": [
      "video 1/1 (463/901) D:\\815_CowDataChecking\\Honkawa\\2023-07-31\\03\\output_3fps\\20230731-030500-031000_10fps_3fps.mp4: 384x640 5 cows, 30.6ms\n",
      "WARNING  'Masks.masks' is deprecated. Use 'Masks.data' instead.\n"
     ]
    },
    {
     "name": "stdout",
     "output_type": "stream",
     "text": [
      "White Percentage: 23.60%\n",
      "1/1 [==============================] - 0s 42ms/step\n",
      "White Percentage: 0.26%\n",
      "1/1 [==============================] - 0s 36ms/step\n",
      "White Percentage: 0.35%\n",
      "1/1 [==============================] - 0s 36ms/step\n",
      "White Percentage: 16.16%\n",
      "1/1 [==============================] - 0s 35ms/step\n"
     ]
    },
    {
     "name": "stderr",
     "output_type": "stream",
     "text": [
      "video 1/1 (464/901) D:\\815_CowDataChecking\\Honkawa\\2023-07-31\\03\\output_3fps\\20230731-030500-031000_10fps_3fps.mp4: 384x640 6 cows, 30.2ms\n",
      "WARNING  'Masks.masks' is deprecated. Use 'Masks.data' instead.\n"
     ]
    },
    {
     "name": "stdout",
     "output_type": "stream",
     "text": [
      "White Percentage: 22.99%\n",
      "1/1 [==============================] - 0s 34ms/step\n",
      "White Percentage: 6.36%\n",
      "1/1 [==============================] - 0s 35ms/step\n",
      "White Percentage: 0.33%\n",
      "1/1 [==============================] - 0s 38ms/step\n",
      "White Percentage: 17.55%\n",
      "1/1 [==============================] - 0s 41ms/step\n"
     ]
    },
    {
     "name": "stderr",
     "output_type": "stream",
     "text": [
      "video 1/1 (465/901) D:\\815_CowDataChecking\\Honkawa\\2023-07-31\\03\\output_3fps\\20230731-030500-031000_10fps_3fps.mp4: 384x640 6 cows, 35.5ms\n",
      "WARNING  'Masks.masks' is deprecated. Use 'Masks.data' instead.\n"
     ]
    },
    {
     "name": "stdout",
     "output_type": "stream",
     "text": [
      "White Percentage: 21.24%\n",
      "1/1 [==============================] - 0s 35ms/step\n",
      "White Percentage: 0.18%\n",
      "1/1 [==============================] - 0s 36ms/step\n",
      "White Percentage: 0.31%\n",
      "1/1 [==============================] - 0s 37ms/step\n",
      "White Percentage: 16.24%\n",
      "1/1 [==============================] - 0s 35ms/step\n"
     ]
    },
    {
     "name": "stderr",
     "output_type": "stream",
     "text": [
      "video 1/1 (466/901) D:\\815_CowDataChecking\\Honkawa\\2023-07-31\\03\\output_3fps\\20230731-030500-031000_10fps_3fps.mp4: 384x640 5 cows, 35.0ms\n",
      "WARNING  'Masks.masks' is deprecated. Use 'Masks.data' instead.\n"
     ]
    },
    {
     "name": "stdout",
     "output_type": "stream",
     "text": [
      "White Percentage: 21.72%\n",
      "1/1 [==============================] - 0s 38ms/step\n",
      "White Percentage: 0.22%\n",
      "1/1 [==============================] - 0s 35ms/step\n",
      "White Percentage: 0.38%\n",
      "1/1 [==============================] - 0s 36ms/step\n",
      "White Percentage: 14.91%\n",
      "1/1 [==============================] - 0s 37ms/step\n"
     ]
    },
    {
     "name": "stderr",
     "output_type": "stream",
     "text": [
      "video 1/1 (467/901) D:\\815_CowDataChecking\\Honkawa\\2023-07-31\\03\\output_3fps\\20230731-030500-031000_10fps_3fps.mp4: 384x640 6 cows, 29.0ms\n",
      "WARNING  'Masks.masks' is deprecated. Use 'Masks.data' instead.\n"
     ]
    },
    {
     "name": "stdout",
     "output_type": "stream",
     "text": [
      "White Percentage: 21.66%\n",
      "1/1 [==============================] - 0s 35ms/step\n",
      "White Percentage: 0.30%\n",
      "1/1 [==============================] - 0s 36ms/step\n",
      "White Percentage: 15.05%\n",
      "1/1 [==============================] - 0s 35ms/step\n"
     ]
    },
    {
     "name": "stderr",
     "output_type": "stream",
     "text": [
      "video 1/1 (468/901) D:\\815_CowDataChecking\\Honkawa\\2023-07-31\\03\\output_3fps\\20230731-030500-031000_10fps_3fps.mp4: 384x640 5 cows, 34.0ms\n",
      "WARNING  'Masks.masks' is deprecated. Use 'Masks.data' instead.\n"
     ]
    },
    {
     "name": "stdout",
     "output_type": "stream",
     "text": [
      "White Percentage: 21.10%\n",
      "1/1 [==============================] - 0s 35ms/step\n",
      "White Percentage: 0.32%\n",
      "1/1 [==============================] - 0s 35ms/step\n",
      "White Percentage: 14.49%\n",
      "1/1 [==============================] - 0s 39ms/step\n"
     ]
    },
    {
     "name": "stderr",
     "output_type": "stream",
     "text": [
      "video 1/1 (469/901) D:\\815_CowDataChecking\\Honkawa\\2023-07-31\\03\\output_3fps\\20230731-030500-031000_10fps_3fps.mp4: 384x640 5 cows, 26.0ms\n",
      "WARNING  'Masks.masks' is deprecated. Use 'Masks.data' instead.\n"
     ]
    },
    {
     "name": "stdout",
     "output_type": "stream",
     "text": [
      "White Percentage: 27.22%\n",
      "1/1 [==============================] - 0s 34ms/step\n",
      "White Percentage: 0.27%\n",
      "1/1 [==============================] - 0s 35ms/step\n",
      "White Percentage: 11.73%\n",
      "1/1 [==============================] - 0s 34ms/step\n"
     ]
    },
    {
     "name": "stderr",
     "output_type": "stream",
     "text": [
      "video 1/1 (470/901) D:\\815_CowDataChecking\\Honkawa\\2023-07-31\\03\\output_3fps\\20230731-030500-031000_10fps_3fps.mp4: 384x640 5 cows, 35.5ms\n",
      "WARNING  'Masks.masks' is deprecated. Use 'Masks.data' instead.\n"
     ]
    },
    {
     "name": "stdout",
     "output_type": "stream",
     "text": [
      "White Percentage: 23.82%\n",
      "1/1 [==============================] - 0s 37ms/step\n",
      "White Percentage: 0.33%\n",
      "1/1 [==============================] - 0s 36ms/step\n",
      "White Percentage: 9.35%\n",
      "1/1 [==============================] - 0s 37ms/step\n"
     ]
    },
    {
     "name": "stderr",
     "output_type": "stream",
     "text": [
      "video 1/1 (471/901) D:\\815_CowDataChecking\\Honkawa\\2023-07-31\\03\\output_3fps\\20230731-030500-031000_10fps_3fps.mp4: 384x640 5 cows, 30.0ms\n",
      "WARNING  'Masks.masks' is deprecated. Use 'Masks.data' instead.\n"
     ]
    },
    {
     "name": "stdout",
     "output_type": "stream",
     "text": [
      "White Percentage: 23.05%\n",
      "1/1 [==============================] - 0s 35ms/step\n",
      "White Percentage: 0.34%\n",
      "1/1 [==============================] - 0s 34ms/step\n",
      "White Percentage: 7.33%\n",
      "1/1 [==============================] - 0s 35ms/step\n"
     ]
    },
    {
     "name": "stderr",
     "output_type": "stream",
     "text": [
      "video 1/1 (472/901) D:\\815_CowDataChecking\\Honkawa\\2023-07-31\\03\\output_3fps\\20230731-030500-031000_10fps_3fps.mp4: 384x640 5 cows, 32.5ms\n",
      "WARNING  'Masks.masks' is deprecated. Use 'Masks.data' instead.\n"
     ]
    },
    {
     "name": "stdout",
     "output_type": "stream",
     "text": [
      "White Percentage: 26.65%\n",
      "1/1 [==============================] - 0s 35ms/step\n",
      "White Percentage: 0.37%\n",
      "1/1 [==============================] - 0s 36ms/step\n",
      "White Percentage: 9.27%\n",
      "1/1 [==============================] - 0s 37ms/step\n"
     ]
    },
    {
     "name": "stderr",
     "output_type": "stream",
     "text": [
      "video 1/1 (473/901) D:\\815_CowDataChecking\\Honkawa\\2023-07-31\\03\\output_3fps\\20230731-030500-031000_10fps_3fps.mp4: 384x640 5 cows, 27.0ms\n",
      "WARNING  'Masks.masks' is deprecated. Use 'Masks.data' instead.\n"
     ]
    },
    {
     "name": "stdout",
     "output_type": "stream",
     "text": [
      "White Percentage: 26.76%\n",
      "1/1 [==============================] - 0s 34ms/step\n",
      "White Percentage: 0.28%\n",
      "1/1 [==============================] - 0s 36ms/step\n",
      "White Percentage: 6.66%\n",
      "1/1 [==============================] - 0s 36ms/step\n"
     ]
    },
    {
     "name": "stderr",
     "output_type": "stream",
     "text": [
      "video 1/1 (474/901) D:\\815_CowDataChecking\\Honkawa\\2023-07-31\\03\\output_3fps\\20230731-030500-031000_10fps_3fps.mp4: 384x640 6 cows, 36.6ms\n",
      "WARNING  'Masks.masks' is deprecated. Use 'Masks.data' instead.\n"
     ]
    },
    {
     "name": "stdout",
     "output_type": "stream",
     "text": [
      "White Percentage: 24.65%\n",
      "1/1 [==============================] - 0s 37ms/step\n",
      "White Percentage: 0.37%\n",
      "1/1 [==============================] - 0s 38ms/step\n",
      "White Percentage: 6.29%\n",
      "1/1 [==============================] - 0s 34ms/step\n"
     ]
    },
    {
     "name": "stderr",
     "output_type": "stream",
     "text": [
      "video 1/1 (475/901) D:\\815_CowDataChecking\\Honkawa\\2023-07-31\\03\\output_3fps\\20230731-030500-031000_10fps_3fps.mp4: 384x640 5 cows, 25.0ms\n",
      "WARNING  'Masks.masks' is deprecated. Use 'Masks.data' instead.\n"
     ]
    },
    {
     "name": "stdout",
     "output_type": "stream",
     "text": [
      "White Percentage: 25.20%\n",
      "1/1 [==============================] - 0s 42ms/step\n",
      "White Percentage: 0.45%\n",
      "1/1 [==============================] - 0s 41ms/step\n",
      "White Percentage: 4.76%\n",
      "1/1 [==============================] - 0s 39ms/step\n"
     ]
    },
    {
     "name": "stderr",
     "output_type": "stream",
     "text": [
      "video 1/1 (476/901) D:\\815_CowDataChecking\\Honkawa\\2023-07-31\\03\\output_3fps\\20230731-030500-031000_10fps_3fps.mp4: 384x640 5 cows, 28.0ms\n",
      "WARNING  'Masks.masks' is deprecated. Use 'Masks.data' instead.\n"
     ]
    },
    {
     "name": "stdout",
     "output_type": "stream",
     "text": [
      "White Percentage: 21.05%\n",
      "1/1 [==============================] - 0s 36ms/step\n",
      "White Percentage: 0.36%\n",
      "1/1 [==============================] - 0s 35ms/step\n",
      "White Percentage: 5.33%\n",
      "1/1 [==============================] - 0s 39ms/step\n"
     ]
    },
    {
     "name": "stderr",
     "output_type": "stream",
     "text": [
      "video 1/1 (477/901) D:\\815_CowDataChecking\\Honkawa\\2023-07-31\\03\\output_3fps\\20230731-030500-031000_10fps_3fps.mp4: 384x640 5 cows, 29.5ms\n",
      "WARNING  'Masks.masks' is deprecated. Use 'Masks.data' instead.\n"
     ]
    },
    {
     "name": "stdout",
     "output_type": "stream",
     "text": [
      "White Percentage: 29.57%\n",
      "1/1 [==============================] - 0s 36ms/step\n",
      "White Percentage: 0.36%\n",
      "1/1 [==============================] - 0s 49ms/step\n",
      "White Percentage: 6.02%\n",
      "1/1 [==============================] - 0s 35ms/step\n"
     ]
    },
    {
     "name": "stderr",
     "output_type": "stream",
     "text": [
      "video 1/1 (478/901) D:\\815_CowDataChecking\\Honkawa\\2023-07-31\\03\\output_3fps\\20230731-030500-031000_10fps_3fps.mp4: 384x640 6 cows, 34.5ms\n",
      "WARNING  'Masks.masks' is deprecated. Use 'Masks.data' instead.\n"
     ]
    },
    {
     "name": "stdout",
     "output_type": "stream",
     "text": [
      "White Percentage: 27.30%\n",
      "1/1 [==============================] - 0s 35ms/step\n",
      "White Percentage: 0.39%\n",
      "1/1 [==============================] - 0s 35ms/step\n",
      "White Percentage: 7.57%\n",
      "1/1 [==============================] - 0s 37ms/step\n"
     ]
    },
    {
     "name": "stderr",
     "output_type": "stream",
     "text": [
      "video 1/1 (479/901) D:\\815_CowDataChecking\\Honkawa\\2023-07-31\\03\\output_3fps\\20230731-030500-031000_10fps_3fps.mp4: 384x640 6 cows, 27.0ms\n",
      "WARNING  'Masks.masks' is deprecated. Use 'Masks.data' instead.\n"
     ]
    },
    {
     "name": "stdout",
     "output_type": "stream",
     "text": [
      "White Percentage: 27.74%\n",
      "1/1 [==============================] - 0s 35ms/step\n",
      "White Percentage: 0.33%\n",
      "1/1 [==============================] - 0s 41ms/step\n",
      "White Percentage: 11.10%\n",
      "1/1 [==============================] - 0s 35ms/step\n"
     ]
    },
    {
     "name": "stderr",
     "output_type": "stream",
     "text": [
      "video 1/1 (480/901) D:\\815_CowDataChecking\\Honkawa\\2023-07-31\\03\\output_3fps\\20230731-030500-031000_10fps_3fps.mp4: 384x640 6 cows, 26.0ms\n",
      "WARNING  'Masks.masks' is deprecated. Use 'Masks.data' instead.\n"
     ]
    },
    {
     "name": "stdout",
     "output_type": "stream",
     "text": [
      "White Percentage: 27.60%\n",
      "1/1 [==============================] - 0s 38ms/step\n",
      "White Percentage: 0.38%\n",
      "1/1 [==============================] - 0s 35ms/step\n",
      "White Percentage: 16.98%\n",
      "1/1 [==============================] - 0s 41ms/step\n"
     ]
    },
    {
     "name": "stderr",
     "output_type": "stream",
     "text": [
      "video 1/1 (481/901) D:\\815_CowDataChecking\\Honkawa\\2023-07-31\\03\\output_3fps\\20230731-030500-031000_10fps_3fps.mp4: 384x640 6 cows, 46.0ms\n",
      "WARNING  'Masks.masks' is deprecated. Use 'Masks.data' instead.\n"
     ]
    },
    {
     "name": "stdout",
     "output_type": "stream",
     "text": [
      "White Percentage: 27.08%\n",
      "1/1 [==============================] - 0s 40ms/step\n",
      "White Percentage: 0.37%\n",
      "1/1 [==============================] - 0s 37ms/step\n",
      "White Percentage: 16.61%\n",
      "1/1 [==============================] - 0s 40ms/step\n"
     ]
    },
    {
     "name": "stderr",
     "output_type": "stream",
     "text": [
      "video 1/1 (482/901) D:\\815_CowDataChecking\\Honkawa\\2023-07-31\\03\\output_3fps\\20230731-030500-031000_10fps_3fps.mp4: 384x640 6 cows, 26.0ms\n",
      "WARNING  'Masks.masks' is deprecated. Use 'Masks.data' instead.\n"
     ]
    },
    {
     "name": "stdout",
     "output_type": "stream",
     "text": [
      "White Percentage: 22.15%\n",
      "1/1 [==============================] - 0s 35ms/step\n",
      "White Percentage: 0.30%\n",
      "1/1 [==============================] - 0s 40ms/step\n",
      "White Percentage: 17.01%\n",
      "1/1 [==============================] - 0s 35ms/step\n"
     ]
    },
    {
     "name": "stderr",
     "output_type": "stream",
     "text": [
      "video 1/1 (483/901) D:\\815_CowDataChecking\\Honkawa\\2023-07-31\\03\\output_3fps\\20230731-030500-031000_10fps_3fps.mp4: 384x640 6 cows, 39.0ms\n",
      "WARNING  'Masks.masks' is deprecated. Use 'Masks.data' instead.\n"
     ]
    },
    {
     "name": "stdout",
     "output_type": "stream",
     "text": [
      "White Percentage: 25.28%\n",
      "1/1 [==============================] - 0s 35ms/step\n",
      "White Percentage: 0.33%\n",
      "1/1 [==============================] - 0s 38ms/step\n",
      "White Percentage: 16.76%\n",
      "1/1 [==============================] - 0s 34ms/step\n"
     ]
    },
    {
     "name": "stderr",
     "output_type": "stream",
     "text": [
      "video 1/1 (484/901) D:\\815_CowDataChecking\\Honkawa\\2023-07-31\\03\\output_3fps\\20230731-030500-031000_10fps_3fps.mp4: 384x640 6 cows, 32.5ms\n",
      "WARNING  'Masks.masks' is deprecated. Use 'Masks.data' instead.\n"
     ]
    },
    {
     "name": "stdout",
     "output_type": "stream",
     "text": [
      "White Percentage: 23.81%\n",
      "1/1 [==============================] - 0s 37ms/step\n",
      "White Percentage: 0.37%\n",
      "1/1 [==============================] - 0s 40ms/step\n",
      "White Percentage: 17.65%\n",
      "1/1 [==============================] - 0s 37ms/step\n"
     ]
    },
    {
     "name": "stderr",
     "output_type": "stream",
     "text": [
      "video 1/1 (485/901) D:\\815_CowDataChecking\\Honkawa\\2023-07-31\\03\\output_3fps\\20230731-030500-031000_10fps_3fps.mp4: 384x640 6 cows, 32.0ms\n",
      "WARNING  'Masks.masks' is deprecated. Use 'Masks.data' instead.\n"
     ]
    },
    {
     "name": "stdout",
     "output_type": "stream",
     "text": [
      "White Percentage: 24.86%\n",
      "1/1 [==============================] - 0s 44ms/step\n",
      "White Percentage: 0.33%\n",
      "1/1 [==============================] - 0s 34ms/step\n",
      "White Percentage: 17.37%\n",
      "1/1 [==============================] - 0s 38ms/step\n"
     ]
    },
    {
     "name": "stderr",
     "output_type": "stream",
     "text": [
      "video 1/1 (486/901) D:\\815_CowDataChecking\\Honkawa\\2023-07-31\\03\\output_3fps\\20230731-030500-031000_10fps_3fps.mp4: 384x640 6 cows, 37.5ms\n",
      "WARNING  'Masks.masks' is deprecated. Use 'Masks.data' instead.\n"
     ]
    },
    {
     "name": "stdout",
     "output_type": "stream",
     "text": [
      "White Percentage: 23.59%\n",
      "1/1 [==============================] - 0s 42ms/step\n",
      "White Percentage: 0.33%\n",
      "1/1 [==============================] - 0s 36ms/step\n",
      "White Percentage: 17.56%\n",
      "1/1 [==============================] - 0s 37ms/step\n"
     ]
    },
    {
     "name": "stderr",
     "output_type": "stream",
     "text": [
      "video 1/1 (487/901) D:\\815_CowDataChecking\\Honkawa\\2023-07-31\\03\\output_3fps\\20230731-030500-031000_10fps_3fps.mp4: 384x640 6 cows, 36.0ms\n",
      "WARNING  'Masks.masks' is deprecated. Use 'Masks.data' instead.\n"
     ]
    },
    {
     "name": "stdout",
     "output_type": "stream",
     "text": [
      "White Percentage: 24.59%\n",
      "1/1 [==============================] - 0s 38ms/step\n",
      "White Percentage: 0.33%\n",
      "1/1 [==============================] - 0s 42ms/step\n",
      "White Percentage: 17.70%\n",
      "1/1 [==============================] - 0s 35ms/step\n",
      "White Percentage: 20.82%\n",
      "1/1 [==============================] - 0s 36ms/step\n"
     ]
    },
    {
     "name": "stderr",
     "output_type": "stream",
     "text": [
      "video 1/1 (488/901) D:\\815_CowDataChecking\\Honkawa\\2023-07-31\\03\\output_3fps\\20230731-030500-031000_10fps_3fps.mp4: 384x640 6 cows, 30.0ms\n",
      "WARNING  'Masks.masks' is deprecated. Use 'Masks.data' instead.\n"
     ]
    },
    {
     "name": "stdout",
     "output_type": "stream",
     "text": [
      "White Percentage: 3.72%\n",
      "[['ID', 'RANK1', 'RANK1_prob', 'RANK2', 'RANK2_prob', 'RANK3', 'RANK3_prob', 'RANK4', 'RANK4_prob', 'RANK5', 'RANK5_prob']]\n",
      "new cattle  xxxxxxxxxxxxxxxxxxxxx new cattle alert \n",
      "1/1 [==============================] - 0s 41ms/step\n",
      "White Percentage: 0.26%\n",
      "1/1 [==============================] - 0s 38ms/step\n",
      "White Percentage: 16.96%\n",
      "1/1 [==============================] - 0s 36ms/step\n",
      "White Percentage: 20.61%\n",
      "1/1 [==============================] - 0s 41ms/step\n"
     ]
    },
    {
     "name": "stderr",
     "output_type": "stream",
     "text": [
      "video 1/1 (489/901) D:\\815_CowDataChecking\\Honkawa\\2023-07-31\\03\\output_3fps\\20230731-030500-031000_10fps_3fps.mp4: 384x640 6 cows, 9.5ms\n",
      "WARNING  'Masks.masks' is deprecated. Use 'Masks.data' instead.\n"
     ]
    },
    {
     "name": "stdout",
     "output_type": "stream",
     "text": [
      "White Percentage: 3.87%\n",
      "1/1 [==============================] - 0s 36ms/step\n",
      "White Percentage: 0.30%\n",
      "1/1 [==============================] - 0s 41ms/step\n",
      "White Percentage: 16.23%\n",
      "1/1 [==============================] - 0s 34ms/step\n",
      "White Percentage: 23.64%\n",
      "1/1 [==============================] - 0s 41ms/step\n"
     ]
    },
    {
     "name": "stderr",
     "output_type": "stream",
     "text": [
      "video 1/1 (490/901) D:\\815_CowDataChecking\\Honkawa\\2023-07-31\\03\\output_3fps\\20230731-030500-031000_10fps_3fps.mp4: 384x640 6 cows, 23.5ms\n",
      "WARNING  'Masks.masks' is deprecated. Use 'Masks.data' instead.\n"
     ]
    },
    {
     "name": "stdout",
     "output_type": "stream",
     "text": [
      "White Percentage: 3.81%\n",
      "1/1 [==============================] - 0s 35ms/step\n",
      "White Percentage: 0.38%\n",
      "1/1 [==============================] - 0s 39ms/step\n",
      "White Percentage: 15.25%\n",
      "1/1 [==============================] - 0s 38ms/step\n",
      "White Percentage: 22.70%\n",
      "1/1 [==============================] - 0s 33ms/step\n"
     ]
    },
    {
     "name": "stderr",
     "output_type": "stream",
     "text": [
      "video 1/1 (491/901) D:\\815_CowDataChecking\\Honkawa\\2023-07-31\\03\\output_3fps\\20230731-030500-031000_10fps_3fps.mp4: 384x640 6 cows, 34.5ms\n",
      "WARNING  'Masks.masks' is deprecated. Use 'Masks.data' instead.\n"
     ]
    },
    {
     "name": "stdout",
     "output_type": "stream",
     "text": [
      "White Percentage: 3.71%\n",
      "1/1 [==============================] - 0s 37ms/step\n",
      "White Percentage: 0.37%\n",
      "1/1 [==============================] - 0s 42ms/step\n",
      "White Percentage: 13.80%\n",
      "1/1 [==============================] - 0s 47ms/step\n",
      "White Percentage: 19.81%\n",
      "1/1 [==============================] - 0s 35ms/step\n"
     ]
    },
    {
     "name": "stderr",
     "output_type": "stream",
     "text": [
      "video 1/1 (492/901) D:\\815_CowDataChecking\\Honkawa\\2023-07-31\\03\\output_3fps\\20230731-030500-031000_10fps_3fps.mp4: 384x640 6 cows, 36.0ms\n",
      "WARNING  'Masks.masks' is deprecated. Use 'Masks.data' instead.\n"
     ]
    },
    {
     "name": "stdout",
     "output_type": "stream",
     "text": [
      "White Percentage: 3.73%\n",
      "1/1 [==============================] - 0s 38ms/step\n",
      "White Percentage: 0.34%\n",
      "1/1 [==============================] - 0s 35ms/step\n",
      "White Percentage: 13.25%\n",
      "1/1 [==============================] - 0s 36ms/step\n",
      "White Percentage: 22.54%\n",
      "1/1 [==============================] - 0s 35ms/step\n"
     ]
    },
    {
     "name": "stderr",
     "output_type": "stream",
     "text": [
      "video 1/1 (493/901) D:\\815_CowDataChecking\\Honkawa\\2023-07-31\\03\\output_3fps\\20230731-030500-031000_10fps_3fps.mp4: 384x640 6 cows, 28.0ms\n",
      "WARNING  'Masks.masks' is deprecated. Use 'Masks.data' instead.\n"
     ]
    },
    {
     "name": "stdout",
     "output_type": "stream",
     "text": [
      "White Percentage: 3.55%\n",
      "1/1 [==============================] - 0s 41ms/step\n",
      "White Percentage: 0.29%\n",
      "1/1 [==============================] - 0s 42ms/step\n",
      "White Percentage: 10.93%\n",
      "1/1 [==============================] - 0s 48ms/step\n",
      "White Percentage: 20.71%\n",
      "1/1 [==============================] - 0s 37ms/step\n"
     ]
    },
    {
     "name": "stderr",
     "output_type": "stream",
     "text": [
      "video 1/1 (494/901) D:\\815_CowDataChecking\\Honkawa\\2023-07-31\\03\\output_3fps\\20230731-030500-031000_10fps_3fps.mp4: 384x640 6 cows, 26.5ms\n",
      "WARNING  'Masks.masks' is deprecated. Use 'Masks.data' instead.\n"
     ]
    },
    {
     "name": "stdout",
     "output_type": "stream",
     "text": [
      "White Percentage: 3.55%\n",
      "1/1 [==============================] - 0s 36ms/step\n",
      "White Percentage: 0.27%\n",
      "1/1 [==============================] - 0s 36ms/step\n",
      "White Percentage: 13.23%\n",
      "1/1 [==============================] - 0s 38ms/step\n",
      "White Percentage: 27.62%\n",
      "1/1 [==============================] - 0s 40ms/step\n"
     ]
    },
    {
     "name": "stderr",
     "output_type": "stream",
     "text": [
      "video 1/1 (495/901) D:\\815_CowDataChecking\\Honkawa\\2023-07-31\\03\\output_3fps\\20230731-030500-031000_10fps_3fps.mp4: 384x640 6 cows, 27.0ms\n",
      "WARNING  'Masks.masks' is deprecated. Use 'Masks.data' instead.\n"
     ]
    },
    {
     "name": "stdout",
     "output_type": "stream",
     "text": [
      "White Percentage: 3.61%\n",
      "1/1 [==============================] - 0s 38ms/step\n",
      "White Percentage: 0.44%\n",
      "1/1 [==============================] - 0s 35ms/step\n",
      "White Percentage: 12.07%\n",
      "1/1 [==============================] - 0s 42ms/step\n",
      "White Percentage: 25.68%\n",
      "1/1 [==============================] - 0s 37ms/step\n"
     ]
    },
    {
     "name": "stderr",
     "output_type": "stream",
     "text": [
      "video 1/1 (496/901) D:\\815_CowDataChecking\\Honkawa\\2023-07-31\\03\\output_3fps\\20230731-030500-031000_10fps_3fps.mp4: 384x640 6 cows, 34.0ms\n",
      "WARNING  'Masks.masks' is deprecated. Use 'Masks.data' instead.\n"
     ]
    },
    {
     "name": "stdout",
     "output_type": "stream",
     "text": [
      "White Percentage: 3.51%\n",
      "1/1 [==============================] - 0s 36ms/step\n",
      "White Percentage: 0.36%\n",
      "1/1 [==============================] - 0s 40ms/step\n",
      "White Percentage: 12.19%\n",
      "1/1 [==============================] - 0s 35ms/step\n",
      "White Percentage: 19.99%\n",
      "1/1 [==============================] - 0s 36ms/step\n"
     ]
    },
    {
     "name": "stderr",
     "output_type": "stream",
     "text": [
      "video 1/1 (497/901) D:\\815_CowDataChecking\\Honkawa\\2023-07-31\\03\\output_3fps\\20230731-030500-031000_10fps_3fps.mp4: 384x640 5 cows, 39.0ms\n",
      "WARNING  'Masks.masks' is deprecated. Use 'Masks.data' instead.\n"
     ]
    },
    {
     "name": "stdout",
     "output_type": "stream",
     "text": [
      "White Percentage: 3.65%\n",
      "1/1 [==============================] - 0s 40ms/step\n",
      "White Percentage: 12.67%\n",
      "1/1 [==============================] - 0s 36ms/step\n",
      "White Percentage: 22.58%\n",
      "1/1 [==============================] - 0s 36ms/step\n"
     ]
    },
    {
     "name": "stderr",
     "output_type": "stream",
     "text": [
      "video 1/1 (498/901) D:\\815_CowDataChecking\\Honkawa\\2023-07-31\\03\\output_3fps\\20230731-030500-031000_10fps_3fps.mp4: 384x640 5 cows, 35.7ms\n",
      "WARNING  'Masks.masks' is deprecated. Use 'Masks.data' instead.\n"
     ]
    },
    {
     "name": "stdout",
     "output_type": "stream",
     "text": [
      "White Percentage: 3.32%\n",
      "1/1 [==============================] - 0s 36ms/step\n",
      "White Percentage: 13.18%\n",
      "1/1 [==============================] - 0s 36ms/step\n",
      "White Percentage: 24.63%\n",
      "1/1 [==============================] - 0s 35ms/step\n"
     ]
    },
    {
     "name": "stderr",
     "output_type": "stream",
     "text": [
      "video 1/1 (499/901) D:\\815_CowDataChecking\\Honkawa\\2023-07-31\\03\\output_3fps\\20230731-030500-031000_10fps_3fps.mp4: 384x640 5 cows, 26.0ms\n",
      "WARNING  'Masks.masks' is deprecated. Use 'Masks.data' instead.\n"
     ]
    },
    {
     "name": "stdout",
     "output_type": "stream",
     "text": [
      "White Percentage: 3.68%\n",
      "1/1 [==============================] - 0s 38ms/step\n",
      "White Percentage: 12.00%\n",
      "1/1 [==============================] - 0s 38ms/step\n",
      "White Percentage: 27.23%\n",
      "1/1 [==============================] - 0s 40ms/step\n"
     ]
    },
    {
     "name": "stderr",
     "output_type": "stream",
     "text": [
      "video 1/1 (500/901) D:\\815_CowDataChecking\\Honkawa\\2023-07-31\\03\\output_3fps\\20230731-030500-031000_10fps_3fps.mp4: 384x640 5 cows, 25.5ms\n",
      "WARNING  'Masks.masks' is deprecated. Use 'Masks.data' instead.\n"
     ]
    },
    {
     "name": "stdout",
     "output_type": "stream",
     "text": [
      "White Percentage: 3.61%\n",
      "1/1 [==============================] - 0s 36ms/step\n",
      "White Percentage: 12.83%\n",
      "1/1 [==============================] - 0s 36ms/step\n",
      "White Percentage: 20.82%\n",
      "1/1 [==============================] - 0s 40ms/step\n"
     ]
    },
    {
     "name": "stderr",
     "output_type": "stream",
     "text": [
      "video 1/1 (501/901) D:\\815_CowDataChecking\\Honkawa\\2023-07-31\\03\\output_3fps\\20230731-030500-031000_10fps_3fps.mp4: 384x640 5 cows, 27.0ms\n",
      "WARNING  'Masks.masks' is deprecated. Use 'Masks.data' instead.\n"
     ]
    },
    {
     "name": "stdout",
     "output_type": "stream",
     "text": [
      "White Percentage: 3.86%\n",
      "1/1 [==============================] - 0s 37ms/step\n",
      "White Percentage: 13.06%\n",
      "1/1 [==============================] - 0s 38ms/step\n",
      "White Percentage: 24.67%\n",
      "1/1 [==============================] - 0s 36ms/step\n"
     ]
    },
    {
     "name": "stderr",
     "output_type": "stream",
     "text": [
      "video 1/1 (502/901) D:\\815_CowDataChecking\\Honkawa\\2023-07-31\\03\\output_3fps\\20230731-030500-031000_10fps_3fps.mp4: 384x640 5 cows, 32.0ms\n",
      "WARNING  'Masks.masks' is deprecated. Use 'Masks.data' instead.\n"
     ]
    },
    {
     "name": "stdout",
     "output_type": "stream",
     "text": [
      "White Percentage: 3.68%\n",
      "1/1 [==============================] - 0s 38ms/step\n",
      "White Percentage: 13.32%\n",
      "1/1 [==============================] - 0s 35ms/step\n",
      "White Percentage: 22.25%\n",
      "1/1 [==============================] - 0s 35ms/step\n"
     ]
    },
    {
     "name": "stderr",
     "output_type": "stream",
     "text": [
      "video 1/1 (503/901) D:\\815_CowDataChecking\\Honkawa\\2023-07-31\\03\\output_3fps\\20230731-030500-031000_10fps_3fps.mp4: 384x640 5 cows, 26.0ms\n",
      "WARNING  'Masks.masks' is deprecated. Use 'Masks.data' instead.\n"
     ]
    },
    {
     "name": "stdout",
     "output_type": "stream",
     "text": [
      "White Percentage: 4.06%\n",
      "1/1 [==============================] - 0s 36ms/step\n",
      "White Percentage: 12.51%\n",
      "1/1 [==============================] - 0s 37ms/step\n",
      "White Percentage: 23.05%\n",
      "1/1 [==============================] - 0s 36ms/step\n"
     ]
    },
    {
     "name": "stderr",
     "output_type": "stream",
     "text": [
      "video 1/1 (504/901) D:\\815_CowDataChecking\\Honkawa\\2023-07-31\\03\\output_3fps\\20230731-030500-031000_10fps_3fps.mp4: 384x640 5 cows, 29.5ms\n",
      "WARNING  'Masks.masks' is deprecated. Use 'Masks.data' instead.\n"
     ]
    },
    {
     "name": "stdout",
     "output_type": "stream",
     "text": [
      "White Percentage: 4.18%\n",
      "1/1 [==============================] - 0s 35ms/step\n",
      "White Percentage: 10.38%\n",
      "1/1 [==============================] - 0s 41ms/step\n",
      "White Percentage: 21.04%\n",
      "1/1 [==============================] - 0s 36ms/step\n"
     ]
    },
    {
     "name": "stderr",
     "output_type": "stream",
     "text": [
      "video 1/1 (505/901) D:\\815_CowDataChecking\\Honkawa\\2023-07-31\\03\\output_3fps\\20230731-030500-031000_10fps_3fps.mp4: 384x640 5 cows, 34.0ms\n",
      "WARNING  'Masks.masks' is deprecated. Use 'Masks.data' instead.\n"
     ]
    },
    {
     "name": "stdout",
     "output_type": "stream",
     "text": [
      "White Percentage: 3.91%\n",
      "1/1 [==============================] - 0s 42ms/step\n",
      "White Percentage: 12.91%\n",
      "1/1 [==============================] - 0s 36ms/step\n",
      "White Percentage: 14.99%\n",
      "1/1 [==============================] - 0s 38ms/step\n"
     ]
    },
    {
     "name": "stderr",
     "output_type": "stream",
     "text": [
      "video 1/1 (506/901) D:\\815_CowDataChecking\\Honkawa\\2023-07-31\\03\\output_3fps\\20230731-030500-031000_10fps_3fps.mp4: 384x640 5 cows, 28.0ms\n",
      "WARNING  'Masks.masks' is deprecated. Use 'Masks.data' instead.\n"
     ]
    },
    {
     "name": "stdout",
     "output_type": "stream",
     "text": [
      "White Percentage: 3.94%\n",
      "1/1 [==============================] - 0s 42ms/step\n",
      "White Percentage: 13.06%\n",
      "1/1 [==============================] - 0s 35ms/step\n",
      "White Percentage: 17.66%\n",
      "1/1 [==============================] - 0s 34ms/step\n"
     ]
    },
    {
     "name": "stderr",
     "output_type": "stream",
     "text": [
      "video 1/1 (507/901) D:\\815_CowDataChecking\\Honkawa\\2023-07-31\\03\\output_3fps\\20230731-030500-031000_10fps_3fps.mp4: 384x640 5 cows, 36.0ms\n",
      "WARNING  'Masks.masks' is deprecated. Use 'Masks.data' instead.\n"
     ]
    },
    {
     "name": "stdout",
     "output_type": "stream",
     "text": [
      "White Percentage: 3.95%\n",
      "1/1 [==============================] - 0s 38ms/step\n",
      "White Percentage: 13.24%\n",
      "1/1 [==============================] - 0s 39ms/step\n",
      "White Percentage: 17.47%\n",
      "1/1 [==============================] - 0s 41ms/step\n"
     ]
    },
    {
     "name": "stderr",
     "output_type": "stream",
     "text": [
      "video 1/1 (508/901) D:\\815_CowDataChecking\\Honkawa\\2023-07-31\\03\\output_3fps\\20230731-030500-031000_10fps_3fps.mp4: 384x640 5 cows, 39.5ms\n",
      "WARNING  'Masks.masks' is deprecated. Use 'Masks.data' instead.\n"
     ]
    },
    {
     "name": "stdout",
     "output_type": "stream",
     "text": [
      "White Percentage: 3.99%\n",
      "1/1 [==============================] - 0s 37ms/step\n",
      "White Percentage: 12.45%\n",
      "1/1 [==============================] - 0s 37ms/step\n",
      "White Percentage: 19.74%\n",
      "1/1 [==============================] - 0s 36ms/step\n"
     ]
    },
    {
     "name": "stderr",
     "output_type": "stream",
     "text": [
      "video 1/1 (509/901) D:\\815_CowDataChecking\\Honkawa\\2023-07-31\\03\\output_3fps\\20230731-030500-031000_10fps_3fps.mp4: 384x640 6 cows, 34.0ms\n",
      "WARNING  'Masks.masks' is deprecated. Use 'Masks.data' instead.\n"
     ]
    },
    {
     "name": "stdout",
     "output_type": "stream",
     "text": [
      "White Percentage: 3.95%\n",
      "1/1 [==============================] - 0s 41ms/step\n",
      "White Percentage: 12.79%\n",
      "1/1 [==============================] - 0s 37ms/step\n",
      "White Percentage: 23.09%\n",
      "1/1 [==============================] - 0s 38ms/step\n"
     ]
    },
    {
     "name": "stderr",
     "output_type": "stream",
     "text": [
      "video 1/1 (510/901) D:\\815_CowDataChecking\\Honkawa\\2023-07-31\\03\\output_3fps\\20230731-030500-031000_10fps_3fps.mp4: 384x640 6 cows, 19.0ms\n",
      "WARNING  'Masks.masks' is deprecated. Use 'Masks.data' instead.\n"
     ]
    },
    {
     "name": "stdout",
     "output_type": "stream",
     "text": [
      "White Percentage: 4.00%\n",
      "1/1 [==============================] - 0s 39ms/step\n",
      "White Percentage: 12.99%\n",
      "1/1 [==============================] - 0s 36ms/step\n",
      "White Percentage: 24.86%\n",
      "1/1 [==============================] - 0s 38ms/step\n"
     ]
    },
    {
     "name": "stderr",
     "output_type": "stream",
     "text": [
      "video 1/1 (511/901) D:\\815_CowDataChecking\\Honkawa\\2023-07-31\\03\\output_3fps\\20230731-030500-031000_10fps_3fps.mp4: 384x640 6 cows, 45.0ms\n",
      "WARNING  'Masks.masks' is deprecated. Use 'Masks.data' instead.\n"
     ]
    },
    {
     "name": "stdout",
     "output_type": "stream",
     "text": [
      "White Percentage: 3.87%\n",
      "1/1 [==============================] - 0s 36ms/step\n",
      "White Percentage: 12.27%\n",
      "1/1 [==============================] - 0s 36ms/step\n",
      "White Percentage: 16.19%\n",
      "1/1 [==============================] - 0s 36ms/step\n"
     ]
    },
    {
     "name": "stderr",
     "output_type": "stream",
     "text": [
      "video 1/1 (512/901) D:\\815_CowDataChecking\\Honkawa\\2023-07-31\\03\\output_3fps\\20230731-030500-031000_10fps_3fps.mp4: 384x640 6 cows, 34.0ms\n",
      "WARNING  'Masks.masks' is deprecated. Use 'Masks.data' instead.\n"
     ]
    },
    {
     "name": "stdout",
     "output_type": "stream",
     "text": [
      "White Percentage: 3.94%\n",
      "1/1 [==============================] - 0s 36ms/step\n",
      "White Percentage: 12.01%\n",
      "1/1 [==============================] - 0s 36ms/step\n",
      "White Percentage: 22.87%\n",
      "1/1 [==============================] - 0s 35ms/step\n"
     ]
    },
    {
     "name": "stderr",
     "output_type": "stream",
     "text": [
      "video 1/1 (513/901) D:\\815_CowDataChecking\\Honkawa\\2023-07-31\\03\\output_3fps\\20230731-030500-031000_10fps_3fps.mp4: 384x640 6 cows, 33.0ms\n",
      "WARNING  'Masks.masks' is deprecated. Use 'Masks.data' instead.\n"
     ]
    },
    {
     "name": "stdout",
     "output_type": "stream",
     "text": [
      "White Percentage: 3.97%\n",
      "1/1 [==============================] - 0s 36ms/step\n",
      "White Percentage: 12.31%\n",
      "1/1 [==============================] - 0s 36ms/step\n",
      "White Percentage: 22.57%\n",
      "1/1 [==============================] - 0s 35ms/step\n"
     ]
    },
    {
     "name": "stderr",
     "output_type": "stream",
     "text": [
      "video 1/1 (514/901) D:\\815_CowDataChecking\\Honkawa\\2023-07-31\\03\\output_3fps\\20230731-030500-031000_10fps_3fps.mp4: 384x640 6 cows, 35.0ms\n",
      "WARNING  'Masks.masks' is deprecated. Use 'Masks.data' instead.\n"
     ]
    },
    {
     "name": "stdout",
     "output_type": "stream",
     "text": [
      "White Percentage: 3.71%\n",
      "1/1 [==============================] - 0s 38ms/step\n",
      "White Percentage: 12.28%\n",
      "1/1 [==============================] - 0s 37ms/step\n",
      "White Percentage: 22.70%\n",
      "1/1 [==============================] - 0s 36ms/step\n"
     ]
    },
    {
     "name": "stderr",
     "output_type": "stream",
     "text": [
      "video 1/1 (515/901) D:\\815_CowDataChecking\\Honkawa\\2023-07-31\\03\\output_3fps\\20230731-030500-031000_10fps_3fps.mp4: 384x640 6 cows, 39.5ms\n",
      "WARNING  'Masks.masks' is deprecated. Use 'Masks.data' instead.\n"
     ]
    },
    {
     "name": "stdout",
     "output_type": "stream",
     "text": [
      "White Percentage: 3.68%\n",
      "1/1 [==============================] - 0s 36ms/step\n",
      "White Percentage: 11.85%\n",
      "1/1 [==============================] - 0s 37ms/step\n",
      "White Percentage: 24.30%\n",
      "1/1 [==============================] - 0s 44ms/step\n"
     ]
    },
    {
     "name": "stderr",
     "output_type": "stream",
     "text": [
      "video 1/1 (516/901) D:\\815_CowDataChecking\\Honkawa\\2023-07-31\\03\\output_3fps\\20230731-030500-031000_10fps_3fps.mp4: 384x640 6 cows, 27.0ms\n",
      "WARNING  'Masks.masks' is deprecated. Use 'Masks.data' instead.\n"
     ]
    },
    {
     "name": "stdout",
     "output_type": "stream",
     "text": [
      "White Percentage: 3.57%\n",
      "1/1 [==============================] - 0s 35ms/step\n",
      "White Percentage: 10.99%\n",
      "1/1 [==============================] - 0s 37ms/step\n",
      "White Percentage: 18.91%\n",
      "1/1 [==============================] - 0s 38ms/step\n"
     ]
    },
    {
     "name": "stderr",
     "output_type": "stream",
     "text": [
      "video 1/1 (517/901) D:\\815_CowDataChecking\\Honkawa\\2023-07-31\\03\\output_3fps\\20230731-030500-031000_10fps_3fps.mp4: 384x640 6 cows, 25.0ms\n",
      "WARNING  'Masks.masks' is deprecated. Use 'Masks.data' instead.\n"
     ]
    },
    {
     "name": "stdout",
     "output_type": "stream",
     "text": [
      "White Percentage: 3.29%\n",
      "1/1 [==============================] - 0s 36ms/step\n",
      "White Percentage: 10.55%\n",
      "1/1 [==============================] - 0s 37ms/step\n",
      "White Percentage: 18.72%\n",
      "1/1 [==============================] - 0s 36ms/step\n",
      "White Percentage: 3.26%\n",
      "1/1 [==============================] - 0s 37ms/step\n"
     ]
    },
    {
     "name": "stderr",
     "output_type": "stream",
     "text": [
      "video 1/1 (518/901) D:\\815_CowDataChecking\\Honkawa\\2023-07-31\\03\\output_3fps\\20230731-030500-031000_10fps_3fps.mp4: 384x640 6 cows, 28.0ms\n",
      "WARNING  'Masks.masks' is deprecated. Use 'Masks.data' instead.\n"
     ]
    },
    {
     "name": "stdout",
     "output_type": "stream",
     "text": [
      "White Percentage: 2.66%\n",
      "[['ID', 'RANK1', 'RANK1_prob', 'RANK2', 'RANK2_prob', 'RANK3', 'RANK3_prob', 'RANK4', 'RANK4_prob', 'RANK5', 'RANK5_prob']]\n",
      "new cattle  xxxxxxxxxxxxxxxxxxxxx new cattle alert \n",
      "1/1 [==============================] - 0s 37ms/step\n",
      "White Percentage: 11.26%\n",
      "1/1 [==============================] - 0s 38ms/step\n",
      "White Percentage: 20.55%\n",
      "1/1 [==============================] - 0s 47ms/step\n",
      "White Percentage: 3.46%\n",
      "1/1 [==============================] - 0s 35ms/step\n"
     ]
    },
    {
     "name": "stderr",
     "output_type": "stream",
     "text": [
      "video 1/1 (519/901) D:\\815_CowDataChecking\\Honkawa\\2023-07-31\\03\\output_3fps\\20230731-030500-031000_10fps_3fps.mp4: 384x640 6 cows, 20.0ms\n",
      "WARNING  'Masks.masks' is deprecated. Use 'Masks.data' instead.\n"
     ]
    },
    {
     "name": "stdout",
     "output_type": "stream",
     "text": [
      "White Percentage: 3.15%\n",
      "1/1 [==============================] - 0s 36ms/step\n",
      "White Percentage: 10.81%\n",
      "1/1 [==============================] - 0s 35ms/step\n",
      "White Percentage: 19.04%\n",
      "1/1 [==============================] - 0s 38ms/step\n",
      "White Percentage: 2.87%\n",
      "1/1 [==============================] - 0s 38ms/step\n"
     ]
    },
    {
     "name": "stderr",
     "output_type": "stream",
     "text": [
      "video 1/1 (520/901) D:\\815_CowDataChecking\\Honkawa\\2023-07-31\\03\\output_3fps\\20230731-030500-031000_10fps_3fps.mp4: 384x640 6 cows, 43.0ms\n",
      "WARNING  'Masks.masks' is deprecated. Use 'Masks.data' instead.\n"
     ]
    },
    {
     "name": "stdout",
     "output_type": "stream",
     "text": [
      "White Percentage: 3.09%\n",
      "1/1 [==============================] - 0s 36ms/step\n",
      "White Percentage: 11.33%\n",
      "1/1 [==============================] - 0s 37ms/step\n",
      "White Percentage: 22.66%\n",
      "1/1 [==============================] - 0s 44ms/step\n",
      "White Percentage: 3.42%\n",
      "1/1 [==============================] - 0s 38ms/step\n"
     ]
    },
    {
     "name": "stderr",
     "output_type": "stream",
     "text": [
      "video 1/1 (521/901) D:\\815_CowDataChecking\\Honkawa\\2023-07-31\\03\\output_3fps\\20230731-030500-031000_10fps_3fps.mp4: 384x640 6 cows, 29.6ms\n",
      "WARNING  'Masks.masks' is deprecated. Use 'Masks.data' instead.\n"
     ]
    },
    {
     "name": "stdout",
     "output_type": "stream",
     "text": [
      "White Percentage: 3.18%\n",
      "1/1 [==============================] - 0s 42ms/step\n",
      "White Percentage: 10.49%\n",
      "1/1 [==============================] - 0s 38ms/step\n",
      "White Percentage: 20.78%\n",
      "1/1 [==============================] - 0s 38ms/step\n",
      "White Percentage: 3.83%\n",
      "1/1 [==============================] - 0s 36ms/step\n"
     ]
    },
    {
     "name": "stderr",
     "output_type": "stream",
     "text": [
      "video 1/1 (522/901) D:\\815_CowDataChecking\\Honkawa\\2023-07-31\\03\\output_3fps\\20230731-030500-031000_10fps_3fps.mp4: 384x640 6 cows, 25.0ms\n",
      "WARNING  'Masks.masks' is deprecated. Use 'Masks.data' instead.\n"
     ]
    },
    {
     "name": "stdout",
     "output_type": "stream",
     "text": [
      "White Percentage: 3.18%\n",
      "1/1 [==============================] - 0s 42ms/step\n",
      "White Percentage: 10.47%\n",
      "1/1 [==============================] - 0s 35ms/step\n",
      "White Percentage: 21.21%\n",
      "1/1 [==============================] - 0s 36ms/step\n",
      "White Percentage: 4.47%\n",
      "1/1 [==============================] - 0s 36ms/step\n"
     ]
    },
    {
     "name": "stderr",
     "output_type": "stream",
     "text": [
      "video 1/1 (523/901) D:\\815_CowDataChecking\\Honkawa\\2023-07-31\\03\\output_3fps\\20230731-030500-031000_10fps_3fps.mp4: 384x640 6 cows, 26.0ms\n",
      "WARNING  'Masks.masks' is deprecated. Use 'Masks.data' instead.\n"
     ]
    },
    {
     "name": "stdout",
     "output_type": "stream",
     "text": [
      "White Percentage: 3.20%\n",
      "1/1 [==============================] - 0s 38ms/step\n",
      "White Percentage: 10.10%\n",
      "1/1 [==============================] - 0s 37ms/step\n",
      "White Percentage: 21.01%\n",
      "1/1 [==============================] - 0s 41ms/step\n",
      "White Percentage: 4.26%\n",
      "1/1 [==============================] - 0s 42ms/step\n"
     ]
    },
    {
     "name": "stderr",
     "output_type": "stream",
     "text": [
      "video 1/1 (524/901) D:\\815_CowDataChecking\\Honkawa\\2023-07-31\\03\\output_3fps\\20230731-030500-031000_10fps_3fps.mp4: 384x640 6 cows, 34.0ms\n",
      "WARNING  'Masks.masks' is deprecated. Use 'Masks.data' instead.\n"
     ]
    },
    {
     "name": "stdout",
     "output_type": "stream",
     "text": [
      "White Percentage: 3.18%\n",
      "1/1 [==============================] - 0s 36ms/step\n",
      "White Percentage: 9.79%\n",
      "1/1 [==============================] - 0s 37ms/step\n",
      "White Percentage: 19.09%\n",
      "1/1 [==============================] - 0s 36ms/step\n",
      "White Percentage: 4.25%\n",
      "1/1 [==============================] - 0s 38ms/step\n"
     ]
    },
    {
     "name": "stderr",
     "output_type": "stream",
     "text": [
      "video 1/1 (525/901) D:\\815_CowDataChecking\\Honkawa\\2023-07-31\\03\\output_3fps\\20230731-030500-031000_10fps_3fps.mp4: 384x640 6 cows, 39.0ms\n",
      "WARNING  'Masks.masks' is deprecated. Use 'Masks.data' instead.\n"
     ]
    },
    {
     "name": "stdout",
     "output_type": "stream",
     "text": [
      "White Percentage: 3.16%\n",
      "1/1 [==============================] - 0s 41ms/step\n",
      "White Percentage: 10.48%\n",
      "1/1 [==============================] - 0s 36ms/step\n",
      "White Percentage: 19.40%\n",
      "1/1 [==============================] - 0s 38ms/step\n",
      "White Percentage: 4.25%\n",
      "1/1 [==============================] - 0s 37ms/step\n"
     ]
    },
    {
     "name": "stderr",
     "output_type": "stream",
     "text": [
      "video 1/1 (526/901) D:\\815_CowDataChecking\\Honkawa\\2023-07-31\\03\\output_3fps\\20230731-030500-031000_10fps_3fps.mp4: 384x640 6 cows, 27.0ms\n",
      "WARNING  'Masks.masks' is deprecated. Use 'Masks.data' instead.\n"
     ]
    },
    {
     "name": "stdout",
     "output_type": "stream",
     "text": [
      "White Percentage: 2.84%\n",
      "1/1 [==============================] - 0s 37ms/step\n",
      "White Percentage: 10.32%\n",
      "1/1 [==============================] - 0s 35ms/step\n",
      "White Percentage: 17.45%\n",
      "1/1 [==============================] - 0s 36ms/step\n",
      "White Percentage: 3.98%\n",
      "1/1 [==============================] - 0s 43ms/step\n"
     ]
    },
    {
     "name": "stderr",
     "output_type": "stream",
     "text": [
      "video 1/1 (527/901) D:\\815_CowDataChecking\\Honkawa\\2023-07-31\\03\\output_3fps\\20230731-030500-031000_10fps_3fps.mp4: 384x640 6 cows, 33.5ms\n",
      "WARNING  'Masks.masks' is deprecated. Use 'Masks.data' instead.\n"
     ]
    },
    {
     "name": "stdout",
     "output_type": "stream",
     "text": [
      "White Percentage: 3.12%\n",
      "1/1 [==============================] - 0s 41ms/step\n",
      "White Percentage: 9.53%\n",
      "1/1 [==============================] - 0s 37ms/step\n",
      "White Percentage: 22.16%\n",
      "1/1 [==============================] - 0s 34ms/step\n",
      "White Percentage: 3.96%\n",
      "1/1 [==============================] - 0s 36ms/step\n"
     ]
    },
    {
     "name": "stderr",
     "output_type": "stream",
     "text": [
      "video 1/1 (528/901) D:\\815_CowDataChecking\\Honkawa\\2023-07-31\\03\\output_3fps\\20230731-030500-031000_10fps_3fps.mp4: 384x640 6 cows, 34.0ms\n",
      "WARNING  'Masks.masks' is deprecated. Use 'Masks.data' instead.\n"
     ]
    },
    {
     "name": "stdout",
     "output_type": "stream",
     "text": [
      "White Percentage: 3.09%\n",
      "1/1 [==============================] - 0s 37ms/step\n",
      "White Percentage: 9.47%\n",
      "1/1 [==============================] - 0s 39ms/step\n",
      "White Percentage: 20.77%\n",
      "1/1 [==============================] - 0s 37ms/step\n",
      "White Percentage: 3.82%\n",
      "1/1 [==============================] - 0s 37ms/step\n"
     ]
    },
    {
     "name": "stderr",
     "output_type": "stream",
     "text": [
      "video 1/1 (529/901) D:\\815_CowDataChecking\\Honkawa\\2023-07-31\\03\\output_3fps\\20230731-030500-031000_10fps_3fps.mp4: 384x640 6 cows, 33.0ms\n",
      "WARNING  'Masks.masks' is deprecated. Use 'Masks.data' instead.\n"
     ]
    },
    {
     "name": "stdout",
     "output_type": "stream",
     "text": [
      "White Percentage: 3.12%\n",
      "1/1 [==============================] - 0s 41ms/step\n",
      "White Percentage: 9.44%\n",
      "1/1 [==============================] - 0s 44ms/step\n",
      "White Percentage: 17.08%\n",
      "1/1 [==============================] - 0s 35ms/step\n",
      "White Percentage: 3.74%\n",
      "1/1 [==============================] - 0s 47ms/step\n"
     ]
    },
    {
     "name": "stderr",
     "output_type": "stream",
     "text": [
      "video 1/1 (530/901) D:\\815_CowDataChecking\\Honkawa\\2023-07-31\\03\\output_3fps\\20230731-030500-031000_10fps_3fps.mp4: 384x640 6 cows, 32.0ms\n",
      "WARNING  'Masks.masks' is deprecated. Use 'Masks.data' instead.\n"
     ]
    },
    {
     "name": "stdout",
     "output_type": "stream",
     "text": [
      "White Percentage: 3.36%\n",
      "1/1 [==============================] - 0s 36ms/step\n",
      "White Percentage: 9.31%\n",
      "1/1 [==============================] - 0s 37ms/step\n",
      "White Percentage: 20.17%\n",
      "1/1 [==============================] - 0s 39ms/step\n",
      "White Percentage: 3.64%\n",
      "1/1 [==============================] - 0s 35ms/step\n"
     ]
    },
    {
     "name": "stderr",
     "output_type": "stream",
     "text": [
      "video 1/1 (531/901) D:\\815_CowDataChecking\\Honkawa\\2023-07-31\\03\\output_3fps\\20230731-030500-031000_10fps_3fps.mp4: 384x640 6 cows, 28.0ms\n",
      "WARNING  'Masks.masks' is deprecated. Use 'Masks.data' instead.\n"
     ]
    },
    {
     "name": "stdout",
     "output_type": "stream",
     "text": [
      "White Percentage: 3.15%\n",
      "1/1 [==============================] - 0s 37ms/step\n",
      "White Percentage: 9.16%\n",
      "1/1 [==============================] - 0s 37ms/step\n",
      "White Percentage: 18.29%\n",
      "1/1 [==============================] - 0s 37ms/step\n",
      "White Percentage: 3.36%\n",
      "1/1 [==============================] - 0s 37ms/step\n"
     ]
    },
    {
     "name": "stderr",
     "output_type": "stream",
     "text": [
      "video 1/1 (532/901) D:\\815_CowDataChecking\\Honkawa\\2023-07-31\\03\\output_3fps\\20230731-030500-031000_10fps_3fps.mp4: 384x640 6 cows, 26.0ms\n",
      "WARNING  'Masks.masks' is deprecated. Use 'Masks.data' instead.\n"
     ]
    },
    {
     "name": "stdout",
     "output_type": "stream",
     "text": [
      "White Percentage: 3.32%\n",
      "1/1 [==============================] - 0s 36ms/step\n",
      "White Percentage: 18.70%\n",
      "1/1 [==============================] - 0s 41ms/step\n",
      "White Percentage: 2.56%\n",
      "1/1 [==============================] - 0s 37ms/step\n"
     ]
    },
    {
     "name": "stderr",
     "output_type": "stream",
     "text": [
      "video 1/1 (533/901) D:\\815_CowDataChecking\\Honkawa\\2023-07-31\\03\\output_3fps\\20230731-030500-031000_10fps_3fps.mp4: 384x640 6 cows, 29.5ms\n",
      "WARNING  'Masks.masks' is deprecated. Use 'Masks.data' instead.\n"
     ]
    },
    {
     "name": "stdout",
     "output_type": "stream",
     "text": [
      "White Percentage: 3.40%\n",
      "1/1 [==============================] - 0s 40ms/step\n",
      "White Percentage: 22.46%\n",
      "1/1 [==============================] - 0s 35ms/step\n",
      "White Percentage: 2.18%\n",
      "1/1 [==============================] - 0s 37ms/step\n"
     ]
    },
    {
     "name": "stderr",
     "output_type": "stream",
     "text": [
      "video 1/1 (534/901) D:\\815_CowDataChecking\\Honkawa\\2023-07-31\\03\\output_3fps\\20230731-030500-031000_10fps_3fps.mp4: 384x640 7 cows, 26.0ms\n",
      "WARNING  'Masks.masks' is deprecated. Use 'Masks.data' instead.\n"
     ]
    },
    {
     "name": "stdout",
     "output_type": "stream",
     "text": [
      "White Percentage: 3.37%\n",
      "1/1 [==============================] - 0s 41ms/step\n",
      "White Percentage: 21.30%\n",
      "1/1 [==============================] - 0s 36ms/step\n",
      "White Percentage: 1.27%\n",
      "1/1 [==============================] - 0s 35ms/step\n"
     ]
    },
    {
     "name": "stderr",
     "output_type": "stream",
     "text": [
      "video 1/1 (535/901) D:\\815_CowDataChecking\\Honkawa\\2023-07-31\\03\\output_3fps\\20230731-030500-031000_10fps_3fps.mp4: 384x640 7 cows, 35.0ms\n",
      "WARNING  'Masks.masks' is deprecated. Use 'Masks.data' instead.\n"
     ]
    },
    {
     "name": "stdout",
     "output_type": "stream",
     "text": [
      "White Percentage: 3.12%\n",
      "1/1 [==============================] - 0s 35ms/step\n",
      "White Percentage: 17.38%\n",
      "1/1 [==============================] - 0s 46ms/step\n",
      "White Percentage: 1.39%\n",
      "1/1 [==============================] - 0s 36ms/step\n"
     ]
    },
    {
     "name": "stderr",
     "output_type": "stream",
     "text": [
      "video 1/1 (536/901) D:\\815_CowDataChecking\\Honkawa\\2023-07-31\\03\\output_3fps\\20230731-030500-031000_10fps_3fps.mp4: 384x640 7 cows, 31.0ms\n",
      "WARNING  'Masks.masks' is deprecated. Use 'Masks.data' instead.\n"
     ]
    },
    {
     "name": "stdout",
     "output_type": "stream",
     "text": [
      "White Percentage: 3.62%\n",
      "1/1 [==============================] - 0s 40ms/step\n",
      "White Percentage: 22.30%\n",
      "1/1 [==============================] - 0s 36ms/step\n",
      "White Percentage: 1.37%\n",
      "1/1 [==============================] - 0s 37ms/step\n"
     ]
    },
    {
     "name": "stderr",
     "output_type": "stream",
     "text": [
      "video 1/1 (537/901) D:\\815_CowDataChecking\\Honkawa\\2023-07-31\\03\\output_3fps\\20230731-030500-031000_10fps_3fps.mp4: 384x640 7 cows, 30.0ms\n",
      "WARNING  'Masks.masks' is deprecated. Use 'Masks.data' instead.\n"
     ]
    },
    {
     "name": "stdout",
     "output_type": "stream",
     "text": [
      "White Percentage: 3.83%\n",
      "1/1 [==============================] - 0s 41ms/step\n",
      "White Percentage: 21.68%\n",
      "1/1 [==============================] - 0s 37ms/step\n",
      "White Percentage: 0.56%\n",
      "1/1 [==============================] - 0s 37ms/step\n"
     ]
    },
    {
     "name": "stderr",
     "output_type": "stream",
     "text": [
      "video 1/1 (538/901) D:\\815_CowDataChecking\\Honkawa\\2023-07-31\\03\\output_3fps\\20230731-030500-031000_10fps_3fps.mp4: 384x640 7 cows, 32.0ms\n",
      "WARNING  'Masks.masks' is deprecated. Use 'Masks.data' instead.\n"
     ]
    },
    {
     "name": "stdout",
     "output_type": "stream",
     "text": [
      "White Percentage: 3.51%\n",
      "1/1 [==============================] - 0s 41ms/step\n",
      "White Percentage: 16.69%\n",
      "1/1 [==============================] - 0s 38ms/step\n",
      "White Percentage: 1.43%\n",
      "1/1 [==============================] - 0s 41ms/step\n"
     ]
    },
    {
     "name": "stderr",
     "output_type": "stream",
     "text": [
      "video 1/1 (539/901) D:\\815_CowDataChecking\\Honkawa\\2023-07-31\\03\\output_3fps\\20230731-030500-031000_10fps_3fps.mp4: 384x640 7 cows, 29.5ms\n",
      "WARNING  'Masks.masks' is deprecated. Use 'Masks.data' instead.\n"
     ]
    },
    {
     "name": "stdout",
     "output_type": "stream",
     "text": [
      "White Percentage: 3.85%\n",
      "1/1 [==============================] - 0s 41ms/step\n",
      "White Percentage: 26.28%\n",
      "1/1 [==============================] - 0s 37ms/step\n",
      "White Percentage: 1.26%\n",
      "1/1 [==============================] - 0s 39ms/step\n"
     ]
    },
    {
     "name": "stderr",
     "output_type": "stream",
     "text": [
      "video 1/1 (540/901) D:\\815_CowDataChecking\\Honkawa\\2023-07-31\\03\\output_3fps\\20230731-030500-031000_10fps_3fps.mp4: 384x640 6 cows, 34.0ms\n",
      "WARNING  'Masks.masks' is deprecated. Use 'Masks.data' instead.\n"
     ]
    },
    {
     "name": "stdout",
     "output_type": "stream",
     "text": [
      "White Percentage: 3.52%\n",
      "1/1 [==============================] - 0s 37ms/step\n",
      "White Percentage: 22.10%\n",
      "1/1 [==============================] - 0s 38ms/step\n",
      "White Percentage: 2.08%\n",
      "1/1 [==============================] - 0s 39ms/step\n"
     ]
    },
    {
     "name": "stderr",
     "output_type": "stream",
     "text": [
      "video 1/1 (541/901) D:\\815_CowDataChecking\\Honkawa\\2023-07-31\\03\\output_3fps\\20230731-030500-031000_10fps_3fps.mp4: 384x640 6 cows, 26.0ms\n",
      "WARNING  'Masks.masks' is deprecated. Use 'Masks.data' instead.\n"
     ]
    },
    {
     "name": "stdout",
     "output_type": "stream",
     "text": [
      "White Percentage: 3.47%\n",
      "1/1 [==============================] - 0s 35ms/step\n",
      "White Percentage: 24.25%\n",
      "1/1 [==============================] - 0s 37ms/step\n",
      "White Percentage: 2.61%\n",
      "1/1 [==============================] - 0s 42ms/step\n"
     ]
    },
    {
     "name": "stderr",
     "output_type": "stream",
     "text": [
      "video 1/1 (542/901) D:\\815_CowDataChecking\\Honkawa\\2023-07-31\\03\\output_3fps\\20230731-030500-031000_10fps_3fps.mp4: 384x640 6 cows, 33.0ms\n",
      "WARNING  'Masks.masks' is deprecated. Use 'Masks.data' instead.\n"
     ]
    },
    {
     "name": "stdout",
     "output_type": "stream",
     "text": [
      "White Percentage: 3.44%\n",
      "1/1 [==============================] - 0s 35ms/step\n",
      "White Percentage: 25.55%\n",
      "1/1 [==============================] - 0s 43ms/step\n",
      "White Percentage: 2.94%\n",
      "1/1 [==============================] - 0s 37ms/step\n"
     ]
    },
    {
     "name": "stderr",
     "output_type": "stream",
     "text": [
      "video 1/1 (543/901) D:\\815_CowDataChecking\\Honkawa\\2023-07-31\\03\\output_3fps\\20230731-030500-031000_10fps_3fps.mp4: 384x640 6 cows, 32.0ms\n",
      "WARNING  'Masks.masks' is deprecated. Use 'Masks.data' instead.\n"
     ]
    },
    {
     "name": "stdout",
     "output_type": "stream",
     "text": [
      "White Percentage: 3.28%\n",
      "1/1 [==============================] - 0s 36ms/step\n",
      "White Percentage: 28.01%\n",
      "1/1 [==============================] - 0s 37ms/step\n",
      "White Percentage: 2.81%\n",
      "1/1 [==============================] - 0s 37ms/step\n"
     ]
    },
    {
     "name": "stderr",
     "output_type": "stream",
     "text": [
      "video 1/1 (544/901) D:\\815_CowDataChecking\\Honkawa\\2023-07-31\\03\\output_3fps\\20230731-030500-031000_10fps_3fps.mp4: 384x640 6 cows, 33.0ms\n",
      "WARNING  'Masks.masks' is deprecated. Use 'Masks.data' instead.\n"
     ]
    },
    {
     "name": "stdout",
     "output_type": "stream",
     "text": [
      "White Percentage: 3.39%\n",
      "1/1 [==============================] - 0s 35ms/step\n",
      "White Percentage: 26.02%\n",
      "1/1 [==============================] - 0s 36ms/step\n",
      "White Percentage: 2.81%\n",
      "1/1 [==============================] - 0s 37ms/step\n"
     ]
    },
    {
     "name": "stderr",
     "output_type": "stream",
     "text": [
      "video 1/1 (545/901) D:\\815_CowDataChecking\\Honkawa\\2023-07-31\\03\\output_3fps\\20230731-030500-031000_10fps_3fps.mp4: 384x640 6 cows, 43.0ms\n",
      "WARNING  'Masks.masks' is deprecated. Use 'Masks.data' instead.\n"
     ]
    },
    {
     "name": "stdout",
     "output_type": "stream",
     "text": [
      "White Percentage: 3.46%\n",
      "1/1 [==============================] - 0s 42ms/step\n",
      "White Percentage: 22.85%\n",
      "1/1 [==============================] - 0s 37ms/step\n",
      "White Percentage: 2.28%\n",
      "1/1 [==============================] - 0s 37ms/step\n"
     ]
    },
    {
     "name": "stderr",
     "output_type": "stream",
     "text": [
      "video 1/1 (546/901) D:\\815_CowDataChecking\\Honkawa\\2023-07-31\\03\\output_3fps\\20230731-030500-031000_10fps_3fps.mp4: 384x640 6 cows, 26.5ms\n",
      "WARNING  'Masks.masks' is deprecated. Use 'Masks.data' instead.\n"
     ]
    },
    {
     "name": "stdout",
     "output_type": "stream",
     "text": [
      "White Percentage: 3.48%\n",
      "1/1 [==============================] - 0s 39ms/step\n",
      "White Percentage: 28.74%\n",
      "1/1 [==============================] - 0s 42ms/step\n",
      "White Percentage: 2.89%\n",
      "1/1 [==============================] - 0s 38ms/step\n"
     ]
    },
    {
     "name": "stderr",
     "output_type": "stream",
     "text": [
      "video 1/1 (547/901) D:\\815_CowDataChecking\\Honkawa\\2023-07-31\\03\\output_3fps\\20230731-030500-031000_10fps_3fps.mp4: 384x640 6 cows, 28.0ms\n",
      "WARNING  'Masks.masks' is deprecated. Use 'Masks.data' instead.\n"
     ]
    },
    {
     "name": "stdout",
     "output_type": "stream",
     "text": [
      "White Percentage: 3.48%\n",
      "1/1 [==============================] - 0s 43ms/step\n",
      "White Percentage: 21.29%\n",
      "1/1 [==============================] - 0s 42ms/step\n",
      "White Percentage: 2.78%\n",
      "1/1 [==============================] - 0s 36ms/step\n",
      "White Percentage: 3.12%\n",
      "1/1 [==============================] - 0s 36ms/step\n"
     ]
    },
    {
     "name": "stderr",
     "output_type": "stream",
     "text": [
      "video 1/1 (548/901) D:\\815_CowDataChecking\\Honkawa\\2023-07-31\\03\\output_3fps\\20230731-030500-031000_10fps_3fps.mp4: 384x640 6 cows, 34.5ms\n",
      "WARNING  'Masks.masks' is deprecated. Use 'Masks.data' instead.\n"
     ]
    },
    {
     "name": "stdout",
     "output_type": "stream",
     "text": [
      "White Percentage: 6.99%\n",
      "[['ID', 'RANK1', 'RANK1_prob', 'RANK2', 'RANK2_prob', 'RANK3', 'RANK3_prob', 'RANK4', 'RANK4_prob', 'RANK5', 'RANK5_prob']]\n",
      "new cattle  xxxxxxxxxxxxxxxxxxxxx new cattle alert \n",
      "1/1 [==============================] - 0s 44ms/step\n",
      "White Percentage: 28.61%\n",
      "1/1 [==============================] - 0s 37ms/step\n",
      "White Percentage: 2.63%\n",
      "1/1 [==============================] - 0s 40ms/step\n",
      "White Percentage: 3.17%\n",
      "1/1 [==============================] - 0s 37ms/step\n"
     ]
    },
    {
     "name": "stderr",
     "output_type": "stream",
     "text": [
      "video 1/1 (549/901) D:\\815_CowDataChecking\\Honkawa\\2023-07-31\\03\\output_3fps\\20230731-030500-031000_10fps_3fps.mp4: 384x640 6 cows, 27.5ms\n",
      "WARNING  'Masks.masks' is deprecated. Use 'Masks.data' instead.\n"
     ]
    },
    {
     "name": "stdout",
     "output_type": "stream",
     "text": [
      "White Percentage: 7.50%\n",
      "1/1 [==============================] - 0s 37ms/step\n",
      "White Percentage: 25.60%\n",
      "1/1 [==============================] - 0s 36ms/step\n",
      "White Percentage: 2.63%\n",
      "1/1 [==============================] - 0s 39ms/step\n",
      "White Percentage: 2.91%\n",
      "1/1 [==============================] - 0s 39ms/step\n"
     ]
    },
    {
     "name": "stderr",
     "output_type": "stream",
     "text": [
      "video 1/1 (550/901) D:\\815_CowDataChecking\\Honkawa\\2023-07-31\\03\\output_3fps\\20230731-030500-031000_10fps_3fps.mp4: 384x640 6 cows, 36.0ms\n",
      "WARNING  'Masks.masks' is deprecated. Use 'Masks.data' instead.\n"
     ]
    },
    {
     "name": "stdout",
     "output_type": "stream",
     "text": [
      "White Percentage: 7.76%\n",
      "1/1 [==============================] - 0s 38ms/step\n",
      "White Percentage: 28.89%\n",
      "1/1 [==============================] - 0s 40ms/step\n",
      "White Percentage: 2.49%\n",
      "1/1 [==============================] - 0s 39ms/step\n",
      "White Percentage: 2.46%\n",
      "1/1 [==============================] - 0s 43ms/step\n"
     ]
    },
    {
     "name": "stderr",
     "output_type": "stream",
     "text": [
      "video 1/1 (551/901) D:\\815_CowDataChecking\\Honkawa\\2023-07-31\\03\\output_3fps\\20230731-030500-031000_10fps_3fps.mp4: 384x640 6 cows, 33.0ms\n",
      "WARNING  'Masks.masks' is deprecated. Use 'Masks.data' instead.\n"
     ]
    },
    {
     "name": "stdout",
     "output_type": "stream",
     "text": [
      "White Percentage: 7.65%\n",
      "1/1 [==============================] - 0s 43ms/step\n",
      "White Percentage: 21.40%\n",
      "1/1 [==============================] - 0s 39ms/step\n",
      "White Percentage: 2.51%\n",
      "1/1 [==============================] - 0s 46ms/step\n",
      "White Percentage: 2.30%\n",
      "1/1 [==============================] - 0s 40ms/step\n"
     ]
    },
    {
     "name": "stderr",
     "output_type": "stream",
     "text": [
      "video 1/1 (552/901) D:\\815_CowDataChecking\\Honkawa\\2023-07-31\\03\\output_3fps\\20230731-030500-031000_10fps_3fps.mp4: 384x640 6 cows, 31.0ms\n",
      "WARNING  'Masks.masks' is deprecated. Use 'Masks.data' instead.\n"
     ]
    },
    {
     "name": "stdout",
     "output_type": "stream",
     "text": [
      "White Percentage: 7.96%\n",
      "1/1 [==============================] - 0s 37ms/step\n",
      "White Percentage: 24.74%\n",
      "1/1 [==============================] - 0s 46ms/step\n",
      "White Percentage: 2.36%\n",
      "1/1 [==============================] - 0s 40ms/step\n",
      "White Percentage: 3.56%\n",
      "1/1 [==============================] - 0s 42ms/step\n"
     ]
    },
    {
     "name": "stderr",
     "output_type": "stream",
     "text": [
      "video 1/1 (553/901) D:\\815_CowDataChecking\\Honkawa\\2023-07-31\\03\\output_3fps\\20230731-030500-031000_10fps_3fps.mp4: 384x640 6 cows, 21.1ms\n",
      "WARNING  'Masks.masks' is deprecated. Use 'Masks.data' instead.\n"
     ]
    },
    {
     "name": "stdout",
     "output_type": "stream",
     "text": [
      "White Percentage: 7.84%\n",
      "1/1 [==============================] - 0s 35ms/step\n",
      "White Percentage: 22.06%\n",
      "1/1 [==============================] - 0s 35ms/step\n",
      "White Percentage: 2.32%\n",
      "1/1 [==============================] - 0s 40ms/step\n",
      "White Percentage: 3.90%\n",
      "1/1 [==============================] - 0s 30ms/step\n"
     ]
    },
    {
     "name": "stderr",
     "output_type": "stream",
     "text": [
      "video 1/1 (554/901) D:\\815_CowDataChecking\\Honkawa\\2023-07-31\\03\\output_3fps\\20230731-030500-031000_10fps_3fps.mp4: 384x640 6 cows, 20.0ms\n",
      "WARNING  'Masks.masks' is deprecated. Use 'Masks.data' instead.\n"
     ]
    },
    {
     "name": "stdout",
     "output_type": "stream",
     "text": [
      "White Percentage: 8.08%\n",
      "1/1 [==============================] - 0s 43ms/step\n",
      "White Percentage: 22.35%\n",
      "1/1 [==============================] - 0s 42ms/step\n",
      "White Percentage: 2.36%\n",
      "1/1 [==============================] - 0s 40ms/step\n",
      "White Percentage: 4.39%\n",
      "1/1 [==============================] - 0s 40ms/step\n"
     ]
    },
    {
     "name": "stderr",
     "output_type": "stream",
     "text": [
      "video 1/1 (555/901) D:\\815_CowDataChecking\\Honkawa\\2023-07-31\\03\\output_3fps\\20230731-030500-031000_10fps_3fps.mp4: 384x640 6 cows, 20.0ms\n",
      "WARNING  'Masks.masks' is deprecated. Use 'Masks.data' instead.\n"
     ]
    },
    {
     "name": "stdout",
     "output_type": "stream",
     "text": [
      "White Percentage: 7.95%\n",
      "1/1 [==============================] - 0s 35ms/step\n",
      "White Percentage: 24.51%\n",
      "1/1 [==============================] - 0s 33ms/step\n",
      "White Percentage: 2.02%\n",
      "1/1 [==============================] - 0s 40ms/step\n",
      "White Percentage: 3.59%\n",
      "1/1 [==============================] - 0s 49ms/step\n"
     ]
    },
    {
     "name": "stderr",
     "output_type": "stream",
     "text": [
      "video 1/1 (556/901) D:\\815_CowDataChecking\\Honkawa\\2023-07-31\\03\\output_3fps\\20230731-030500-031000_10fps_3fps.mp4: 384x640 6 cows, 20.0ms\n",
      "WARNING  'Masks.masks' is deprecated. Use 'Masks.data' instead.\n"
     ]
    },
    {
     "name": "stdout",
     "output_type": "stream",
     "text": [
      "White Percentage: 7.96%\n",
      "1/1 [==============================] - 0s 27ms/step\n",
      "White Percentage: 25.27%\n",
      "1/1 [==============================] - 0s 30ms/step\n",
      "White Percentage: 2.40%\n",
      "1/1 [==============================] - 0s 40ms/step\n",
      "White Percentage: 3.75%\n",
      "1/1 [==============================] - 0s 35ms/step\n"
     ]
    },
    {
     "name": "stderr",
     "output_type": "stream",
     "text": [
      "video 1/1 (557/901) D:\\815_CowDataChecking\\Honkawa\\2023-07-31\\03\\output_3fps\\20230731-030500-031000_10fps_3fps.mp4: 384x640 6 cows, 20.0ms\n",
      "WARNING  'Masks.masks' is deprecated. Use 'Masks.data' instead.\n"
     ]
    },
    {
     "name": "stdout",
     "output_type": "stream",
     "text": [
      "White Percentage: 7.96%\n",
      "1/1 [==============================] - 0s 40ms/step\n",
      "White Percentage: 23.75%\n",
      "1/1 [==============================] - 0s 40ms/step\n",
      "White Percentage: 2.71%\n",
      "1/1 [==============================] - 0s 40ms/step\n",
      "White Percentage: 3.67%\n",
      "1/1 [==============================] - 0s 33ms/step\n"
     ]
    },
    {
     "name": "stderr",
     "output_type": "stream",
     "text": [
      "video 1/1 (558/901) D:\\815_CowDataChecking\\Honkawa\\2023-07-31\\03\\output_3fps\\20230731-030500-031000_10fps_3fps.mp4: 384x640 6 cows, 20.0ms\n",
      "WARNING  'Masks.masks' is deprecated. Use 'Masks.data' instead.\n"
     ]
    },
    {
     "name": "stdout",
     "output_type": "stream",
     "text": [
      "White Percentage: 7.92%\n",
      "1/1 [==============================] - 0s 28ms/step\n",
      "White Percentage: 20.82%\n",
      "1/1 [==============================] - 0s 40ms/step\n",
      "White Percentage: 2.77%\n",
      "1/1 [==============================] - 0s 34ms/step\n",
      "White Percentage: 3.28%\n",
      "1/1 [==============================] - 0s 40ms/step\n"
     ]
    },
    {
     "name": "stderr",
     "output_type": "stream",
     "text": [
      "video 1/1 (559/901) D:\\815_CowDataChecking\\Honkawa\\2023-07-31\\03\\output_3fps\\20230731-030500-031000_10fps_3fps.mp4: 384x640 6 cows, 20.0ms\n",
      "WARNING  'Masks.masks' is deprecated. Use 'Masks.data' instead.\n"
     ]
    },
    {
     "name": "stdout",
     "output_type": "stream",
     "text": [
      "White Percentage: 8.27%\n",
      "1/1 [==============================] - 0s 31ms/step\n",
      "White Percentage: 18.43%\n",
      "1/1 [==============================] - 0s 42ms/step\n",
      "White Percentage: 2.71%\n",
      "1/1 [==============================] - 0s 40ms/step\n",
      "White Percentage: 3.29%\n",
      "1/1 [==============================] - 0s 40ms/step\n"
     ]
    },
    {
     "name": "stderr",
     "output_type": "stream",
     "text": [
      "video 1/1 (560/901) D:\\815_CowDataChecking\\Honkawa\\2023-07-31\\03\\output_3fps\\20230731-030500-031000_10fps_3fps.mp4: 384x640 6 cows, 20.0ms\n",
      "WARNING  'Masks.masks' is deprecated. Use 'Masks.data' instead.\n"
     ]
    },
    {
     "name": "stdout",
     "output_type": "stream",
     "text": [
      "White Percentage: 8.73%\n",
      "1/1 [==============================] - 0s 33ms/step\n",
      "White Percentage: 14.64%\n",
      "1/1 [==============================] - 0s 46ms/step\n",
      "White Percentage: 2.65%\n",
      "1/1 [==============================] - 0s 41ms/step\n",
      "White Percentage: 3.24%\n",
      "1/1 [==============================] - 0s 40ms/step\n"
     ]
    },
    {
     "name": "stderr",
     "output_type": "stream",
     "text": [
      "video 1/1 (561/901) D:\\815_CowDataChecking\\Honkawa\\2023-07-31\\03\\output_3fps\\20230731-030500-031000_10fps_3fps.mp4: 384x640 6 cows, 17.6ms\n",
      "WARNING  'Masks.masks' is deprecated. Use 'Masks.data' instead.\n"
     ]
    },
    {
     "name": "stdout",
     "output_type": "stream",
     "text": [
      "White Percentage: 9.10%\n",
      "1/1 [==============================] - 0s 28ms/step\n",
      "White Percentage: 2.20%\n",
      "1/1 [==============================] - 0s 39ms/step\n",
      "White Percentage: 3.11%\n",
      "1/1 [==============================] - 0s 39ms/step\n"
     ]
    },
    {
     "name": "stderr",
     "output_type": "stream",
     "text": [
      "video 1/1 (562/901) D:\\815_CowDataChecking\\Honkawa\\2023-07-31\\03\\output_3fps\\20230731-030500-031000_10fps_3fps.mp4: 384x640 6 cows, 26.3ms\n",
      "WARNING  'Masks.masks' is deprecated. Use 'Masks.data' instead.\n"
     ]
    },
    {
     "name": "stdout",
     "output_type": "stream",
     "text": [
      "White Percentage: 9.22%\n",
      "1/1 [==============================] - 0s 29ms/step\n",
      "White Percentage: 2.14%\n",
      "1/1 [==============================] - 0s 40ms/step\n",
      "White Percentage: 3.18%\n",
      "1/1 [==============================] - 0s 42ms/step\n"
     ]
    },
    {
     "name": "stderr",
     "output_type": "stream",
     "text": [
      "video 1/1 (563/901) D:\\815_CowDataChecking\\Honkawa\\2023-07-31\\03\\output_3fps\\20230731-030500-031000_10fps_3fps.mp4: 384x640 6 cows, 18.0ms\n",
      "WARNING  'Masks.masks' is deprecated. Use 'Masks.data' instead.\n"
     ]
    },
    {
     "name": "stdout",
     "output_type": "stream",
     "text": [
      "White Percentage: 9.47%\n",
      "1/1 [==============================] - 0s 31ms/step\n",
      "White Percentage: 2.14%\n",
      "1/1 [==============================] - 0s 40ms/step\n",
      "White Percentage: 3.28%\n",
      "1/1 [==============================] - 0s 28ms/step\n"
     ]
    },
    {
     "name": "stderr",
     "output_type": "stream",
     "text": [
      "video 1/1 (564/901) D:\\815_CowDataChecking\\Honkawa\\2023-07-31\\03\\output_3fps\\20230731-030500-031000_10fps_3fps.mp4: 384x640 6 cows, 20.0ms\n",
      "WARNING  'Masks.masks' is deprecated. Use 'Masks.data' instead.\n"
     ]
    },
    {
     "name": "stdout",
     "output_type": "stream",
     "text": [
      "White Percentage: 9.08%\n",
      "1/1 [==============================] - 0s 32ms/step\n",
      "White Percentage: 2.54%\n",
      "1/1 [==============================] - 0s 40ms/step\n",
      "White Percentage: 3.06%\n",
      "1/1 [==============================] - 0s 41ms/step\n"
     ]
    },
    {
     "name": "stderr",
     "output_type": "stream",
     "text": [
      "video 1/1 (565/901) D:\\815_CowDataChecking\\Honkawa\\2023-07-31\\03\\output_3fps\\20230731-030500-031000_10fps_3fps.mp4: 384x640 6 cows, 20.0ms\n",
      "WARNING  'Masks.masks' is deprecated. Use 'Masks.data' instead.\n"
     ]
    },
    {
     "name": "stdout",
     "output_type": "stream",
     "text": [
      "White Percentage: 9.17%\n",
      "1/1 [==============================] - 0s 36ms/step\n",
      "White Percentage: 2.04%\n",
      "1/1 [==============================] - 0s 40ms/step\n",
      "White Percentage: 3.13%\n",
      "1/1 [==============================] - 0s 40ms/step\n"
     ]
    },
    {
     "name": "stderr",
     "output_type": "stream",
     "text": [
      "video 1/1 (566/901) D:\\815_CowDataChecking\\Honkawa\\2023-07-31\\03\\output_3fps\\20230731-030500-031000_10fps_3fps.mp4: 384x640 6 cows, 20.0ms\n",
      "WARNING  'Masks.masks' is deprecated. Use 'Masks.data' instead.\n"
     ]
    },
    {
     "name": "stdout",
     "output_type": "stream",
     "text": [
      "White Percentage: 8.97%\n",
      "1/1 [==============================] - 0s 33ms/step\n",
      "White Percentage: 2.01%\n",
      "1/1 [==============================] - 0s 36ms/step\n",
      "White Percentage: 2.82%\n",
      "1/1 [==============================] - 0s 40ms/step\n"
     ]
    },
    {
     "name": "stderr",
     "output_type": "stream",
     "text": [
      "video 1/1 (567/901) D:\\815_CowDataChecking\\Honkawa\\2023-07-31\\03\\output_3fps\\20230731-030500-031000_10fps_3fps.mp4: 384x640 6 cows, 20.0ms\n",
      "WARNING  'Masks.masks' is deprecated. Use 'Masks.data' instead.\n"
     ]
    },
    {
     "name": "stdout",
     "output_type": "stream",
     "text": [
      "White Percentage: 9.37%\n",
      "1/1 [==============================] - 0s 37ms/step\n",
      "White Percentage: 2.48%\n",
      "1/1 [==============================] - 0s 41ms/step\n",
      "White Percentage: 2.99%\n",
      "1/1 [==============================] - 0s 44ms/step\n"
     ]
    },
    {
     "name": "stderr",
     "output_type": "stream",
     "text": [
      "video 1/1 (568/901) D:\\815_CowDataChecking\\Honkawa\\2023-07-31\\03\\output_3fps\\20230731-030500-031000_10fps_3fps.mp4: 384x640 6 cows, 20.0ms\n",
      "WARNING  'Masks.masks' is deprecated. Use 'Masks.data' instead.\n"
     ]
    },
    {
     "name": "stdout",
     "output_type": "stream",
     "text": [
      "White Percentage: 9.26%\n",
      "1/1 [==============================] - 0s 35ms/step\n",
      "White Percentage: 2.46%\n",
      "1/1 [==============================] - 0s 40ms/step\n",
      "White Percentage: 3.31%\n",
      "1/1 [==============================] - 0s 40ms/step\n"
     ]
    },
    {
     "name": "stderr",
     "output_type": "stream",
     "text": [
      "video 1/1 (569/901) D:\\815_CowDataChecking\\Honkawa\\2023-07-31\\03\\output_3fps\\20230731-030500-031000_10fps_3fps.mp4: 384x640 6 cows, 22.1ms\n",
      "WARNING  'Masks.masks' is deprecated. Use 'Masks.data' instead.\n"
     ]
    },
    {
     "name": "stdout",
     "output_type": "stream",
     "text": [
      "White Percentage: 10.10%\n",
      "1/1 [==============================] - 0s 31ms/step\n",
      "White Percentage: 2.42%\n",
      "1/1 [==============================] - 0s 30ms/step\n",
      "White Percentage: 3.14%\n",
      "1/1 [==============================] - 0s 40ms/step\n"
     ]
    },
    {
     "name": "stderr",
     "output_type": "stream",
     "text": [
      "video 1/1 (570/901) D:\\815_CowDataChecking\\Honkawa\\2023-07-31\\03\\output_3fps\\20230731-030500-031000_10fps_3fps.mp4: 384x640 6 cows, 23.1ms\n",
      "WARNING  'Masks.masks' is deprecated. Use 'Masks.data' instead.\n"
     ]
    },
    {
     "name": "stdout",
     "output_type": "stream",
     "text": [
      "White Percentage: 9.85%\n",
      "1/1 [==============================] - 0s 34ms/step\n",
      "White Percentage: 2.33%\n",
      "1/1 [==============================] - 0s 40ms/step\n",
      "White Percentage: 3.88%\n",
      "1/1 [==============================] - 0s 40ms/step\n"
     ]
    },
    {
     "name": "stderr",
     "output_type": "stream",
     "text": [
      "video 1/1 (571/901) D:\\815_CowDataChecking\\Honkawa\\2023-07-31\\03\\output_3fps\\20230731-030500-031000_10fps_3fps.mp4: 384x640 6 cows, 20.0ms\n",
      "WARNING  'Masks.masks' is deprecated. Use 'Masks.data' instead.\n"
     ]
    },
    {
     "name": "stdout",
     "output_type": "stream",
     "text": [
      "White Percentage: 9.93%\n",
      "1/1 [==============================] - 0s 35ms/step\n",
      "White Percentage: 2.54%\n",
      "1/1 [==============================] - 0s 30ms/step\n",
      "White Percentage: 4.45%\n",
      "1/1 [==============================] - 0s 40ms/step\n"
     ]
    },
    {
     "name": "stderr",
     "output_type": "stream",
     "text": [
      "video 1/1 (572/901) D:\\815_CowDataChecking\\Honkawa\\2023-07-31\\03\\output_3fps\\20230731-030500-031000_10fps_3fps.mp4: 384x640 6 cows, 23.3ms\n",
      "WARNING  'Masks.masks' is deprecated. Use 'Masks.data' instead.\n"
     ]
    },
    {
     "name": "stdout",
     "output_type": "stream",
     "text": [
      "White Percentage: 9.49%\n",
      "1/1 [==============================] - 0s 36ms/step\n",
      "White Percentage: 2.45%\n",
      "1/1 [==============================] - 0s 35ms/step\n",
      "White Percentage: 4.28%\n",
      "1/1 [==============================] - 0s 40ms/step\n"
     ]
    },
    {
     "name": "stderr",
     "output_type": "stream",
     "text": [
      "video 1/1 (573/901) D:\\815_CowDataChecking\\Honkawa\\2023-07-31\\03\\output_3fps\\20230731-030500-031000_10fps_3fps.mp4: 384x640 6 cows, 21.5ms\n",
      "WARNING  'Masks.masks' is deprecated. Use 'Masks.data' instead.\n"
     ]
    },
    {
     "name": "stdout",
     "output_type": "stream",
     "text": [
      "White Percentage: 10.24%\n",
      "1/1 [==============================] - 0s 36ms/step\n",
      "White Percentage: 2.40%\n",
      "1/1 [==============================] - 0s 40ms/step\n",
      "White Percentage: 4.74%\n",
      "1/1 [==============================] - 0s 45ms/step\n"
     ]
    },
    {
     "name": "stderr",
     "output_type": "stream",
     "text": [
      "video 1/1 (574/901) D:\\815_CowDataChecking\\Honkawa\\2023-07-31\\03\\output_3fps\\20230731-030500-031000_10fps_3fps.mp4: 384x640 6 cows, 20.0ms\n",
      "WARNING  'Masks.masks' is deprecated. Use 'Masks.data' instead.\n"
     ]
    },
    {
     "name": "stdout",
     "output_type": "stream",
     "text": [
      "White Percentage: 9.73%\n",
      "1/1 [==============================] - 0s 31ms/step\n",
      "White Percentage: 2.51%\n",
      "1/1 [==============================] - 0s 50ms/step\n",
      "White Percentage: 4.23%\n",
      "1/1 [==============================] - 0s 30ms/step\n"
     ]
    },
    {
     "name": "stderr",
     "output_type": "stream",
     "text": [
      "video 1/1 (575/901) D:\\815_CowDataChecking\\Honkawa\\2023-07-31\\03\\output_3fps\\20230731-030500-031000_10fps_3fps.mp4: 384x640 7 cows, 25.1ms\n",
      "WARNING  'Masks.masks' is deprecated. Use 'Masks.data' instead.\n"
     ]
    },
    {
     "name": "stdout",
     "output_type": "stream",
     "text": [
      "White Percentage: 9.59%\n",
      "1/1 [==============================] - 0s 35ms/step\n",
      "White Percentage: 2.65%\n",
      "1/1 [==============================] - 0s 42ms/step\n",
      "White Percentage: 4.03%\n",
      "1/1 [==============================] - 0s 40ms/step\n"
     ]
    },
    {
     "name": "stderr",
     "output_type": "stream",
     "text": [
      "video 1/1 (576/901) D:\\815_CowDataChecking\\Honkawa\\2023-07-31\\03\\output_3fps\\20230731-030500-031000_10fps_3fps.mp4: 384x640 6 cows, 20.0ms\n",
      "WARNING  'Masks.masks' is deprecated. Use 'Masks.data' instead.\n"
     ]
    },
    {
     "name": "stdout",
     "output_type": "stream",
     "text": [
      "White Percentage: 9.27%\n",
      "1/1 [==============================] - 0s 35ms/step\n",
      "White Percentage: 2.37%\n",
      "1/1 [==============================] - 0s 30ms/step\n",
      "White Percentage: 3.44%\n",
      "1/1 [==============================] - 0s 38ms/step\n"
     ]
    },
    {
     "name": "stderr",
     "output_type": "stream",
     "text": [
      "video 1/1 (577/901) D:\\815_CowDataChecking\\Honkawa\\2023-07-31\\03\\output_3fps\\20230731-030500-031000_10fps_3fps.mp4: 384x640 6 cows, 20.1ms\n",
      "WARNING  'Masks.masks' is deprecated. Use 'Masks.data' instead.\n"
     ]
    },
    {
     "name": "stdout",
     "output_type": "stream",
     "text": [
      "White Percentage: 9.77%\n",
      "1/1 [==============================] - 0s 38ms/step\n",
      "White Percentage: 2.38%\n",
      "1/1 [==============================] - 0s 34ms/step\n",
      "White Percentage: 3.24%\n",
      "1/1 [==============================] - 0s 46ms/step\n"
     ]
    },
    {
     "name": "stderr",
     "output_type": "stream",
     "text": [
      "video 1/1 (578/901) D:\\815_CowDataChecking\\Honkawa\\2023-07-31\\03\\output_3fps\\20230731-030500-031000_10fps_3fps.mp4: 384x640 6 cows, 20.1ms\n",
      "WARNING  'Masks.masks' is deprecated. Use 'Masks.data' instead.\n"
     ]
    },
    {
     "name": "stdout",
     "output_type": "stream",
     "text": [
      "White Percentage: 10.51%\n",
      "1/1 [==============================] - 0s 33ms/step\n",
      "White Percentage: 2.81%\n",
      "1/1 [==============================] - 0s 40ms/step\n",
      "White Percentage: 2.90%\n",
      "1/1 [==============================] - 0s 29ms/step\n"
     ]
    },
    {
     "name": "stderr",
     "output_type": "stream",
     "text": [
      "video 1/1 (579/901) D:\\815_CowDataChecking\\Honkawa\\2023-07-31\\03\\output_3fps\\20230731-030500-031000_10fps_3fps.mp4: 384x640 6 cows, 30.0ms\n",
      "WARNING  'Masks.masks' is deprecated. Use 'Masks.data' instead.\n"
     ]
    },
    {
     "name": "stdout",
     "output_type": "stream",
     "text": [
      "White Percentage: 9.69%\n",
      "1/1 [==============================] - 0s 33ms/step\n",
      "White Percentage: 2.92%\n",
      "1/1 [==============================] - 0s 40ms/step\n",
      "White Percentage: 2.56%\n",
      "1/1 [==============================] - 0s 50ms/step\n"
     ]
    },
    {
     "name": "stderr",
     "output_type": "stream",
     "text": [
      "video 1/1 (580/901) D:\\815_CowDataChecking\\Honkawa\\2023-07-31\\03\\output_3fps\\20230731-030500-031000_10fps_3fps.mp4: 384x640 6 cows, 20.0ms\n",
      "WARNING  'Masks.masks' is deprecated. Use 'Masks.data' instead.\n"
     ]
    },
    {
     "name": "stdout",
     "output_type": "stream",
     "text": [
      "White Percentage: 9.00%\n",
      "1/1 [==============================] - 0s 32ms/step\n",
      "White Percentage: 2.30%\n",
      "1/1 [==============================] - 0s 27ms/step\n",
      "White Percentage: 2.65%\n",
      "1/1 [==============================] - 0s 37ms/step\n"
     ]
    },
    {
     "name": "stderr",
     "output_type": "stream",
     "text": [
      "video 1/1 (581/901) D:\\815_CowDataChecking\\Honkawa\\2023-07-31\\03\\output_3fps\\20230731-030500-031000_10fps_3fps.mp4: 384x640 6 cows, 20.0ms\n",
      "WARNING  'Masks.masks' is deprecated. Use 'Masks.data' instead.\n"
     ]
    },
    {
     "name": "stdout",
     "output_type": "stream",
     "text": [
      "White Percentage: 9.87%\n",
      "1/1 [==============================] - 0s 35ms/step\n",
      "White Percentage: 2.50%\n",
      "1/1 [==============================] - 0s 30ms/step\n",
      "White Percentage: 2.28%\n",
      "1/1 [==============================] - 0s 43ms/step\n"
     ]
    },
    {
     "name": "stderr",
     "output_type": "stream",
     "text": [
      "video 1/1 (582/901) D:\\815_CowDataChecking\\Honkawa\\2023-07-31\\03\\output_3fps\\20230731-030500-031000_10fps_3fps.mp4: 384x640 6 cows, 21.3ms\n",
      "WARNING  'Masks.masks' is deprecated. Use 'Masks.data' instead.\n"
     ]
    },
    {
     "name": "stdout",
     "output_type": "stream",
     "text": [
      "White Percentage: 8.79%\n",
      "1/1 [==============================] - 0s 30ms/step\n",
      "White Percentage: 2.78%\n",
      "1/1 [==============================] - 0s 26ms/step\n",
      "White Percentage: 2.48%\n",
      "1/1 [==============================] - 0s 30ms/step\n",
      "White Percentage: 9.65%\n",
      "1/1 [==============================] - 0s 45ms/step\n"
     ]
    },
    {
     "name": "stderr",
     "output_type": "stream",
     "text": [
      "video 1/1 (583/901) D:\\815_CowDataChecking\\Honkawa\\2023-07-31\\03\\output_3fps\\20230731-030500-031000_10fps_3fps.mp4: 384x640 6 cows, 20.0ms\n",
      "WARNING  'Masks.masks' is deprecated. Use 'Masks.data' instead.\n"
     ]
    },
    {
     "name": "stdout",
     "output_type": "stream",
     "text": [
      "White Percentage: 25.01%\n",
      "[['ID', 'RANK1', 'RANK1_prob', 'RANK2', 'RANK2_prob', 'RANK3', 'RANK3_prob', 'RANK4', 'RANK4_prob', 'RANK5', 'RANK5_prob']]\n",
      "new cattle  xxxxxxxxxxxxxxxxxxxxx new cattle alert \n",
      "1/1 [==============================] - 0s 27ms/step\n",
      "White Percentage: 2.66%\n",
      "1/1 [==============================] - 0s 30ms/step\n",
      "White Percentage: 2.18%\n",
      "1/1 [==============================] - 0s 48ms/step\n",
      "White Percentage: 10.75%\n",
      "1/1 [==============================] - 0s 33ms/step\n"
     ]
    },
    {
     "name": "stderr",
     "output_type": "stream",
     "text": [
      "video 1/1 (584/901) D:\\815_CowDataChecking\\Honkawa\\2023-07-31\\03\\output_3fps\\20230731-030500-031000_10fps_3fps.mp4: 384x640 6 cows, 25.1ms\n",
      "WARNING  'Masks.masks' is deprecated. Use 'Masks.data' instead.\n"
     ]
    },
    {
     "name": "stdout",
     "output_type": "stream",
     "text": [
      "White Percentage: 24.35%\n",
      "1/1 [==============================] - 0s 29ms/step\n",
      "White Percentage: 2.64%\n",
      "1/1 [==============================] - 0s 40ms/step\n",
      "White Percentage: 2.06%\n",
      "1/1 [==============================] - 0s 40ms/step\n",
      "White Percentage: 10.19%\n",
      "1/1 [==============================] - 0s 40ms/step\n"
     ]
    },
    {
     "name": "stderr",
     "output_type": "stream",
     "text": [
      "video 1/1 (585/901) D:\\815_CowDataChecking\\Honkawa\\2023-07-31\\03\\output_3fps\\20230731-030500-031000_10fps_3fps.mp4: 384x640 6 cows, 27.2ms\n",
      "WARNING  'Masks.masks' is deprecated. Use 'Masks.data' instead.\n"
     ]
    },
    {
     "name": "stdout",
     "output_type": "stream",
     "text": [
      "White Percentage: 23.90%\n",
      "1/1 [==============================] - 0s 36ms/step\n",
      "White Percentage: 2.48%\n",
      "1/1 [==============================] - 0s 30ms/step\n",
      "White Percentage: 2.16%\n",
      "1/1 [==============================] - 0s 38ms/step\n",
      "White Percentage: 9.13%\n",
      "1/1 [==============================] - 0s 30ms/step\n"
     ]
    },
    {
     "name": "stderr",
     "output_type": "stream",
     "text": [
      "video 1/1 (586/901) D:\\815_CowDataChecking\\Honkawa\\2023-07-31\\03\\output_3fps\\20230731-030500-031000_10fps_3fps.mp4: 384x640 6 cows, 20.0ms\n",
      "WARNING  'Masks.masks' is deprecated. Use 'Masks.data' instead.\n"
     ]
    },
    {
     "name": "stdout",
     "output_type": "stream",
     "text": [
      "White Percentage: 24.43%\n",
      "1/1 [==============================] - 0s 35ms/step\n",
      "White Percentage: 2.93%\n",
      "1/1 [==============================] - 0s 33ms/step\n",
      "White Percentage: 2.21%\n",
      "1/1 [==============================] - 0s 30ms/step\n",
      "White Percentage: 8.80%\n",
      "1/1 [==============================] - 0s 40ms/step\n"
     ]
    },
    {
     "name": "stderr",
     "output_type": "stream",
     "text": [
      "video 1/1 (587/901) D:\\815_CowDataChecking\\Honkawa\\2023-07-31\\03\\output_3fps\\20230731-030500-031000_10fps_3fps.mp4: 384x640 6 cows, 20.0ms\n",
      "WARNING  'Masks.masks' is deprecated. Use 'Masks.data' instead.\n"
     ]
    },
    {
     "name": "stdout",
     "output_type": "stream",
     "text": [
      "White Percentage: 24.71%\n",
      "1/1 [==============================] - 0s 33ms/step\n",
      "White Percentage: 2.78%\n",
      "1/1 [==============================] - 0s 50ms/step\n",
      "White Percentage: 1.92%\n",
      "1/1 [==============================] - 0s 30ms/step\n",
      "White Percentage: 8.91%\n",
      "1/1 [==============================] - 0s 30ms/step\n"
     ]
    },
    {
     "name": "stderr",
     "output_type": "stream",
     "text": [
      "video 1/1 (588/901) D:\\815_CowDataChecking\\Honkawa\\2023-07-31\\03\\output_3fps\\20230731-030500-031000_10fps_3fps.mp4: 384x640 6 cows, 28.4ms\n",
      "WARNING  'Masks.masks' is deprecated. Use 'Masks.data' instead.\n"
     ]
    },
    {
     "name": "stdout",
     "output_type": "stream",
     "text": [
      "White Percentage: 25.80%\n",
      "1/1 [==============================] - 0s 26ms/step\n",
      "White Percentage: 3.05%\n",
      "1/1 [==============================] - 0s 40ms/step\n",
      "White Percentage: 1.72%\n",
      "1/1 [==============================] - 0s 30ms/step\n",
      "White Percentage: 10.16%\n",
      "1/1 [==============================] - 0s 40ms/step\n"
     ]
    },
    {
     "name": "stderr",
     "output_type": "stream",
     "text": [
      "video 1/1 (589/901) D:\\815_CowDataChecking\\Honkawa\\2023-07-31\\03\\output_3fps\\20230731-030500-031000_10fps_3fps.mp4: 384x640 6 cows, 16.3ms\n",
      "WARNING  'Masks.masks' is deprecated. Use 'Masks.data' instead.\n"
     ]
    },
    {
     "name": "stdout",
     "output_type": "stream",
     "text": [
      "White Percentage: 27.38%\n",
      "1/1 [==============================] - 0s 34ms/step\n",
      "White Percentage: 3.05%\n",
      "1/1 [==============================] - 0s 40ms/step\n",
      "White Percentage: 1.99%\n",
      "1/1 [==============================] - 0s 40ms/step\n",
      "White Percentage: 10.07%\n",
      "1/1 [==============================] - 0s 40ms/step\n"
     ]
    },
    {
     "name": "stderr",
     "output_type": "stream",
     "text": [
      "video 1/1 (590/901) D:\\815_CowDataChecking\\Honkawa\\2023-07-31\\03\\output_3fps\\20230731-030500-031000_10fps_3fps.mp4: 384x640 6 cows, 20.0ms\n",
      "WARNING  'Masks.masks' is deprecated. Use 'Masks.data' instead.\n"
     ]
    },
    {
     "name": "stdout",
     "output_type": "stream",
     "text": [
      "White Percentage: 25.16%\n",
      "1/1 [==============================] - 0s 34ms/step\n",
      "White Percentage: 2.07%\n",
      "1/1 [==============================] - 0s 40ms/step\n",
      "White Percentage: 11.32%\n",
      "1/1 [==============================] - 0s 39ms/step\n"
     ]
    },
    {
     "name": "stderr",
     "output_type": "stream",
     "text": [
      "video 1/1 (591/901) D:\\815_CowDataChecking\\Honkawa\\2023-07-31\\03\\output_3fps\\20230731-030500-031000_10fps_3fps.mp4: 384x640 6 cows, 22.1ms\n",
      "WARNING  'Masks.masks' is deprecated. Use 'Masks.data' instead.\n"
     ]
    },
    {
     "name": "stdout",
     "output_type": "stream",
     "text": [
      "White Percentage: 26.75%\n",
      "1/1 [==============================] - 0s 29ms/step\n",
      "White Percentage: 1.84%\n",
      "1/1 [==============================] - 0s 40ms/step\n",
      "White Percentage: 10.77%\n",
      "1/1 [==============================] - 0s 37ms/step\n"
     ]
    },
    {
     "name": "stderr",
     "output_type": "stream",
     "text": [
      "video 1/1 (592/901) D:\\815_CowDataChecking\\Honkawa\\2023-07-31\\03\\output_3fps\\20230731-030500-031000_10fps_3fps.mp4: 384x640 6 cows, 20.0ms\n",
      "WARNING  'Masks.masks' is deprecated. Use 'Masks.data' instead.\n"
     ]
    },
    {
     "name": "stdout",
     "output_type": "stream",
     "text": [
      "White Percentage: 25.81%\n",
      "1/1 [==============================] - 0s 36ms/step\n",
      "White Percentage: 1.99%\n",
      "1/1 [==============================] - 0s 30ms/step\n",
      "White Percentage: 11.28%\n",
      "1/1 [==============================] - 0s 40ms/step\n"
     ]
    },
    {
     "name": "stderr",
     "output_type": "stream",
     "text": [
      "video 1/1 (593/901) D:\\815_CowDataChecking\\Honkawa\\2023-07-31\\03\\output_3fps\\20230731-030500-031000_10fps_3fps.mp4: 384x640 6 cows, 20.2ms\n",
      "WARNING  'Masks.masks' is deprecated. Use 'Masks.data' instead.\n"
     ]
    },
    {
     "name": "stdout",
     "output_type": "stream",
     "text": [
      "White Percentage: 27.04%\n",
      "1/1 [==============================] - 0s 32ms/step\n",
      "White Percentage: 1.95%\n",
      "1/1 [==============================] - 0s 40ms/step\n",
      "White Percentage: 10.67%\n",
      "1/1 [==============================] - 0s 30ms/step\n"
     ]
    },
    {
     "name": "stderr",
     "output_type": "stream",
     "text": [
      "video 1/1 (594/901) D:\\815_CowDataChecking\\Honkawa\\2023-07-31\\03\\output_3fps\\20230731-030500-031000_10fps_3fps.mp4: 384x640 6 cows, 18.0ms\n",
      "WARNING  'Masks.masks' is deprecated. Use 'Masks.data' instead.\n"
     ]
    },
    {
     "name": "stdout",
     "output_type": "stream",
     "text": [
      "White Percentage: 28.37%\n",
      "1/1 [==============================] - 0s 35ms/step\n",
      "White Percentage: 1.90%\n",
      "1/1 [==============================] - 0s 30ms/step\n",
      "White Percentage: 11.91%\n",
      "1/1 [==============================] - 0s 42ms/step\n"
     ]
    },
    {
     "name": "stderr",
     "output_type": "stream",
     "text": [
      "video 1/1 (595/901) D:\\815_CowDataChecking\\Honkawa\\2023-07-31\\03\\output_3fps\\20230731-030500-031000_10fps_3fps.mp4: 384x640 6 cows, 20.0ms\n",
      "WARNING  'Masks.masks' is deprecated. Use 'Masks.data' instead.\n"
     ]
    },
    {
     "name": "stdout",
     "output_type": "stream",
     "text": [
      "White Percentage: 26.34%\n",
      "1/1 [==============================] - 0s 34ms/step\n",
      "White Percentage: 1.94%\n",
      "1/1 [==============================] - 0s 30ms/step\n",
      "White Percentage: 11.70%\n",
      "1/1 [==============================] - 0s 30ms/step\n"
     ]
    },
    {
     "name": "stderr",
     "output_type": "stream",
     "text": [
      "video 1/1 (596/901) D:\\815_CowDataChecking\\Honkawa\\2023-07-31\\03\\output_3fps\\20230731-030500-031000_10fps_3fps.mp4: 384x640 6 cows, 20.0ms\n",
      "WARNING  'Masks.masks' is deprecated. Use 'Masks.data' instead.\n"
     ]
    },
    {
     "name": "stdout",
     "output_type": "stream",
     "text": [
      "White Percentage: 26.54%\n",
      "1/1 [==============================] - 0s 38ms/step\n",
      "White Percentage: 1.94%\n",
      "1/1 [==============================] - 0s 44ms/step\n",
      "White Percentage: 12.18%\n",
      "1/1 [==============================] - 0s 30ms/step\n"
     ]
    },
    {
     "name": "stderr",
     "output_type": "stream",
     "text": [
      "video 1/1 (597/901) D:\\815_CowDataChecking\\Honkawa\\2023-07-31\\03\\output_3fps\\20230731-030500-031000_10fps_3fps.mp4: 384x640 6 cows, 20.0ms\n",
      "WARNING  'Masks.masks' is deprecated. Use 'Masks.data' instead.\n"
     ]
    },
    {
     "name": "stdout",
     "output_type": "stream",
     "text": [
      "White Percentage: 26.43%\n",
      "1/1 [==============================] - 0s 32ms/step\n",
      "White Percentage: 1.82%\n",
      "1/1 [==============================] - 0s 30ms/step\n",
      "White Percentage: 11.98%\n",
      "1/1 [==============================] - 0s 30ms/step\n"
     ]
    },
    {
     "name": "stderr",
     "output_type": "stream",
     "text": [
      "video 1/1 (598/901) D:\\815_CowDataChecking\\Honkawa\\2023-07-31\\03\\output_3fps\\20230731-030500-031000_10fps_3fps.mp4: 384x640 6 cows, 19.9ms\n",
      "WARNING  'Masks.masks' is deprecated. Use 'Masks.data' instead.\n"
     ]
    },
    {
     "name": "stdout",
     "output_type": "stream",
     "text": [
      "White Percentage: 28.75%\n",
      "1/1 [==============================] - 0s 35ms/step\n",
      "White Percentage: 1.87%\n",
      "1/1 [==============================] - 0s 27ms/step\n",
      "White Percentage: 11.87%\n",
      "1/1 [==============================] - 0s 40ms/step\n"
     ]
    },
    {
     "name": "stderr",
     "output_type": "stream",
     "text": [
      "video 1/1 (599/901) D:\\815_CowDataChecking\\Honkawa\\2023-07-31\\03\\output_3fps\\20230731-030500-031000_10fps_3fps.mp4: 384x640 6 cows, 20.2ms\n",
      "WARNING  'Masks.masks' is deprecated. Use 'Masks.data' instead.\n"
     ]
    },
    {
     "name": "stdout",
     "output_type": "stream",
     "text": [
      "White Percentage: 27.66%\n",
      "1/1 [==============================] - 0s 33ms/step\n",
      "White Percentage: 1.83%\n",
      "1/1 [==============================] - 0s 40ms/step\n",
      "White Percentage: 9.83%\n",
      "1/1 [==============================] - 0s 30ms/step\n"
     ]
    },
    {
     "name": "stderr",
     "output_type": "stream",
     "text": [
      "video 1/1 (600/901) D:\\815_CowDataChecking\\Honkawa\\2023-07-31\\03\\output_3fps\\20230731-030500-031000_10fps_3fps.mp4: 384x640 6 cows, 20.1ms\n",
      "WARNING  'Masks.masks' is deprecated. Use 'Masks.data' instead.\n"
     ]
    },
    {
     "name": "stdout",
     "output_type": "stream",
     "text": [
      "White Percentage: 28.32%\n",
      "1/1 [==============================] - 0s 30ms/step\n",
      "White Percentage: 1.81%\n",
      "1/1 [==============================] - 0s 39ms/step\n",
      "White Percentage: 8.98%\n",
      "1/1 [==============================] - 0s 42ms/step\n"
     ]
    },
    {
     "name": "stderr",
     "output_type": "stream",
     "text": [
      "video 1/1 (601/901) D:\\815_CowDataChecking\\Honkawa\\2023-07-31\\03\\output_3fps\\20230731-030500-031000_10fps_3fps.mp4: 384x640 6 cows, 20.0ms\n",
      "WARNING  'Masks.masks' is deprecated. Use 'Masks.data' instead.\n"
     ]
    },
    {
     "name": "stdout",
     "output_type": "stream",
     "text": [
      "White Percentage: 29.57%\n",
      "1/1 [==============================] - 0s 27ms/step\n",
      "White Percentage: 1.74%\n",
      "1/1 [==============================] - 0s 40ms/step\n",
      "White Percentage: 8.61%\n",
      "1/1 [==============================] - 0s 30ms/step\n"
     ]
    },
    {
     "name": "stderr",
     "output_type": "stream",
     "text": [
      "video 1/1 (602/901) D:\\815_CowDataChecking\\Honkawa\\2023-07-31\\03\\output_3fps\\20230731-030500-031000_10fps_3fps.mp4: 384x640 6 cows, 20.0ms\n",
      "WARNING  'Masks.masks' is deprecated. Use 'Masks.data' instead.\n"
     ]
    },
    {
     "name": "stdout",
     "output_type": "stream",
     "text": [
      "White Percentage: 29.97%\n",
      "1/1 [==============================] - 0s 34ms/step\n",
      "White Percentage: 1.74%\n",
      "1/1 [==============================] - 0s 46ms/step\n",
      "White Percentage: 7.62%\n",
      "1/1 [==============================] - 0s 36ms/step\n"
     ]
    },
    {
     "name": "stderr",
     "output_type": "stream",
     "text": [
      "video 1/1 (603/901) D:\\815_CowDataChecking\\Honkawa\\2023-07-31\\03\\output_3fps\\20230731-030500-031000_10fps_3fps.mp4: 384x640 5 cows, 20.0ms\n",
      "WARNING  'Masks.masks' is deprecated. Use 'Masks.data' instead.\n"
     ]
    },
    {
     "name": "stdout",
     "output_type": "stream",
     "text": [
      "White Percentage: 31.43%\n",
      "1/1 [==============================] - 0s 27ms/step\n",
      "White Percentage: 1.73%\n",
      "1/1 [==============================] - 0s 30ms/step\n",
      "White Percentage: 7.41%\n",
      "1/1 [==============================] - 0s 30ms/step\n"
     ]
    },
    {
     "name": "stderr",
     "output_type": "stream",
     "text": [
      "video 1/1 (604/901) D:\\815_CowDataChecking\\Honkawa\\2023-07-31\\03\\output_3fps\\20230731-030500-031000_10fps_3fps.mp4: 384x640 7 cows, 22.2ms\n",
      "WARNING  'Masks.masks' is deprecated. Use 'Masks.data' instead.\n"
     ]
    },
    {
     "name": "stdout",
     "output_type": "stream",
     "text": [
      "White Percentage: 30.21%\n",
      "1/1 [==============================] - 0s 35ms/step\n",
      "White Percentage: 1.72%\n",
      "1/1 [==============================] - 0s 46ms/step\n",
      "White Percentage: 7.67%\n",
      "1/1 [==============================] - 0s 40ms/step\n"
     ]
    },
    {
     "name": "stderr",
     "output_type": "stream",
     "text": [
      "video 1/1 (605/901) D:\\815_CowDataChecking\\Honkawa\\2023-07-31\\03\\output_3fps\\20230731-030500-031000_10fps_3fps.mp4: 384x640 6 cows, 20.1ms\n",
      "WARNING  'Masks.masks' is deprecated. Use 'Masks.data' instead.\n"
     ]
    },
    {
     "name": "stdout",
     "output_type": "stream",
     "text": [
      "White Percentage: 29.39%\n",
      "1/1 [==============================] - 0s 30ms/step\n",
      "White Percentage: 1.73%\n",
      "1/1 [==============================] - 0s 44ms/step\n",
      "White Percentage: 9.38%\n",
      "1/1 [==============================] - 0s 30ms/step\n"
     ]
    },
    {
     "name": "stderr",
     "output_type": "stream",
     "text": [
      "video 1/1 (606/901) D:\\815_CowDataChecking\\Honkawa\\2023-07-31\\03\\output_3fps\\20230731-030500-031000_10fps_3fps.mp4: 384x640 6 cows, 17.0ms\n",
      "WARNING  'Masks.masks' is deprecated. Use 'Masks.data' instead.\n"
     ]
    },
    {
     "name": "stdout",
     "output_type": "stream",
     "text": [
      "White Percentage: 30.20%\n",
      "1/1 [==============================] - 0s 33ms/step\n",
      "White Percentage: 1.75%\n",
      "1/1 [==============================] - 0s 41ms/step\n",
      "White Percentage: 11.49%\n",
      "1/1 [==============================] - 0s 40ms/step\n"
     ]
    },
    {
     "name": "stderr",
     "output_type": "stream",
     "text": [
      "video 1/1 (607/901) D:\\815_CowDataChecking\\Honkawa\\2023-07-31\\03\\output_3fps\\20230731-030500-031000_10fps_3fps.mp4: 384x640 6 cows, 20.0ms\n",
      "WARNING  'Masks.masks' is deprecated. Use 'Masks.data' instead.\n"
     ]
    },
    {
     "name": "stdout",
     "output_type": "stream",
     "text": [
      "White Percentage: 29.46%\n",
      "1/1 [==============================] - 0s 36ms/step\n",
      "White Percentage: 1.63%\n",
      "1/1 [==============================] - 0s 40ms/step\n",
      "White Percentage: 10.16%\n",
      "1/1 [==============================] - 0s 33ms/step\n"
     ]
    },
    {
     "name": "stderr",
     "output_type": "stream",
     "text": [
      "video 1/1 (608/901) D:\\815_CowDataChecking\\Honkawa\\2023-07-31\\03\\output_3fps\\20230731-030500-031000_10fps_3fps.mp4: 384x640 6 cows, 22.6ms\n",
      "WARNING  'Masks.masks' is deprecated. Use 'Masks.data' instead.\n"
     ]
    },
    {
     "name": "stdout",
     "output_type": "stream",
     "text": [
      "White Percentage: 29.86%\n",
      "1/1 [==============================] - 0s 35ms/step\n",
      "White Percentage: 1.60%\n",
      "1/1 [==============================] - 0s 40ms/step\n",
      "White Percentage: 12.96%\n",
      "1/1 [==============================] - 0s 40ms/step\n"
     ]
    },
    {
     "name": "stderr",
     "output_type": "stream",
     "text": [
      "video 1/1 (609/901) D:\\815_CowDataChecking\\Honkawa\\2023-07-31\\03\\output_3fps\\20230731-030500-031000_10fps_3fps.mp4: 384x640 6 cows, 20.0ms\n",
      "WARNING  'Masks.masks' is deprecated. Use 'Masks.data' instead.\n"
     ]
    },
    {
     "name": "stdout",
     "output_type": "stream",
     "text": [
      "White Percentage: 31.19%\n",
      "1/1 [==============================] - 0s 37ms/step\n",
      "White Percentage: 1.58%\n",
      "1/1 [==============================] - 0s 40ms/step\n",
      "White Percentage: 11.59%\n",
      "1/1 [==============================] - 0s 43ms/step\n"
     ]
    },
    {
     "name": "stderr",
     "output_type": "stream",
     "text": [
      "video 1/1 (610/901) D:\\815_CowDataChecking\\Honkawa\\2023-07-31\\03\\output_3fps\\20230731-030500-031000_10fps_3fps.mp4: 384x640 6 cows, 20.0ms\n",
      "WARNING  'Masks.masks' is deprecated. Use 'Masks.data' instead.\n"
     ]
    },
    {
     "name": "stdout",
     "output_type": "stream",
     "text": [
      "White Percentage: 28.01%\n",
      "1/1 [==============================] - 0s 30ms/step\n",
      "White Percentage: 1.67%\n",
      "1/1 [==============================] - 0s 30ms/step\n",
      "White Percentage: 10.27%\n",
      "1/1 [==============================] - 0s 40ms/step\n"
     ]
    },
    {
     "name": "stderr",
     "output_type": "stream",
     "text": [
      "video 1/1 (611/901) D:\\815_CowDataChecking\\Honkawa\\2023-07-31\\03\\output_3fps\\20230731-030500-031000_10fps_3fps.mp4: 384x640 6 cows, 17.1ms\n",
      "WARNING  'Masks.masks' is deprecated. Use 'Masks.data' instead.\n"
     ]
    },
    {
     "name": "stdout",
     "output_type": "stream",
     "text": [
      "White Percentage: 30.45%\n",
      "1/1 [==============================] - 0s 33ms/step\n",
      "White Percentage: 1.53%\n",
      "1/1 [==============================] - 0s 40ms/step\n",
      "White Percentage: 9.41%\n",
      "1/1 [==============================] - 0s 40ms/step\n"
     ]
    },
    {
     "name": "stderr",
     "output_type": "stream",
     "text": [
      "video 1/1 (612/901) D:\\815_CowDataChecking\\Honkawa\\2023-07-31\\03\\output_3fps\\20230731-030500-031000_10fps_3fps.mp4: 384x640 6 cows, 20.0ms\n",
      "WARNING  'Masks.masks' is deprecated. Use 'Masks.data' instead.\n"
     ]
    },
    {
     "name": "stdout",
     "output_type": "stream",
     "text": [
      "White Percentage: 28.82%\n",
      "1/1 [==============================] - 0s 32ms/step\n",
      "White Percentage: 1.54%\n",
      "1/1 [==============================] - 0s 40ms/step\n",
      "White Percentage: 8.80%\n",
      "1/1 [==============================] - 0s 40ms/step\n",
      "White Percentage: 30.43%\n",
      "1/1 [==============================] - 0s 35ms/step\n"
     ]
    },
    {
     "name": "stderr",
     "output_type": "stream",
     "text": [
      "video 1/1 (613/901) D:\\815_CowDataChecking\\Honkawa\\2023-07-31\\03\\output_3fps\\20230731-030500-031000_10fps_3fps.mp4: 384x640 6 cows, 27.1ms\n",
      "WARNING  'Masks.masks' is deprecated. Use 'Masks.data' instead.\n"
     ]
    },
    {
     "name": "stdout",
     "output_type": "stream",
     "text": [
      "White Percentage: 0.61%\n",
      "[['ID', 'RANK1', 'RANK1_prob', 'RANK2', 'RANK2_prob', 'RANK3', 'RANK3_prob', 'RANK4', 'RANK4_prob', 'RANK5', 'RANK5_prob']]\n",
      "new cattle  xxxxxxxxxxxxxxxxxxxxx new cattle alert \n",
      "1/1 [==============================] - 0s 39ms/step\n",
      "White Percentage: 1.81%\n",
      "1/1 [==============================] - 0s 40ms/step\n",
      "White Percentage: 10.22%\n",
      "1/1 [==============================] - 0s 40ms/step\n",
      "White Percentage: 30.44%\n",
      "1/1 [==============================] - 0s 40ms/step\n"
     ]
    },
    {
     "name": "stderr",
     "output_type": "stream",
     "text": [
      "video 1/1 (614/901) D:\\815_CowDataChecking\\Honkawa\\2023-07-31\\03\\output_3fps\\20230731-030500-031000_10fps_3fps.mp4: 384x640 6 cows, 20.0ms\n",
      "WARNING  'Masks.masks' is deprecated. Use 'Masks.data' instead.\n"
     ]
    },
    {
     "name": "stdout",
     "output_type": "stream",
     "text": [
      "White Percentage: 1.06%\n",
      "1/1 [==============================] - 0s 30ms/step\n",
      "White Percentage: 1.64%\n",
      "1/1 [==============================] - 0s 40ms/step\n",
      "White Percentage: 9.44%\n",
      "1/1 [==============================] - 0s 35ms/step\n",
      "White Percentage: 30.06%\n",
      "1/1 [==============================] - 0s 32ms/step\n"
     ]
    },
    {
     "name": "stderr",
     "output_type": "stream",
     "text": [
      "video 1/1 (615/901) D:\\815_CowDataChecking\\Honkawa\\2023-07-31\\03\\output_3fps\\20230731-030500-031000_10fps_3fps.mp4: 384x640 6 cows, 20.0ms\n",
      "WARNING  'Masks.masks' is deprecated. Use 'Masks.data' instead.\n"
     ]
    },
    {
     "name": "stdout",
     "output_type": "stream",
     "text": [
      "White Percentage: 2.51%\n",
      "1/1 [==============================] - 0s 30ms/step\n",
      "White Percentage: 1.71%\n",
      "1/1 [==============================] - 0s 40ms/step\n",
      "White Percentage: 10.19%\n",
      "1/1 [==============================] - 0s 30ms/step\n",
      "White Percentage: 29.85%\n",
      "1/1 [==============================] - 0s 42ms/step\n"
     ]
    },
    {
     "name": "stderr",
     "output_type": "stream",
     "text": [
      "video 1/1 (616/901) D:\\815_CowDataChecking\\Honkawa\\2023-07-31\\03\\output_3fps\\20230731-030500-031000_10fps_3fps.mp4: 384x640 6 cows, 20.0ms\n",
      "WARNING  'Masks.masks' is deprecated. Use 'Masks.data' instead.\n"
     ]
    },
    {
     "name": "stdout",
     "output_type": "stream",
     "text": [
      "White Percentage: 3.09%\n",
      "1/1 [==============================] - 0s 29ms/step\n",
      "White Percentage: 1.79%\n",
      "1/1 [==============================] - 0s 30ms/step\n",
      "White Percentage: 10.09%\n",
      "1/1 [==============================] - 0s 32ms/step\n",
      "White Percentage: 33.07%\n",
      "1/1 [==============================] - 0s 40ms/step\n"
     ]
    },
    {
     "name": "stderr",
     "output_type": "stream",
     "text": [
      "video 1/1 (617/901) D:\\815_CowDataChecking\\Honkawa\\2023-07-31\\03\\output_3fps\\20230731-030500-031000_10fps_3fps.mp4: 384x640 6 cows, 20.0ms\n",
      "WARNING  'Masks.masks' is deprecated. Use 'Masks.data' instead.\n"
     ]
    },
    {
     "name": "stdout",
     "output_type": "stream",
     "text": [
      "White Percentage: 2.82%\n",
      "1/1 [==============================] - 0s 41ms/step\n",
      "White Percentage: 1.85%\n",
      "1/1 [==============================] - 0s 42ms/step\n",
      "White Percentage: 9.59%\n",
      "1/1 [==============================] - 0s 40ms/step\n",
      "White Percentage: 32.57%\n",
      "1/1 [==============================] - 0s 40ms/step\n"
     ]
    },
    {
     "name": "stderr",
     "output_type": "stream",
     "text": [
      "video 1/1 (618/901) D:\\815_CowDataChecking\\Honkawa\\2023-07-31\\03\\output_3fps\\20230731-030500-031000_10fps_3fps.mp4: 384x640 6 cows, 20.0ms\n",
      "WARNING  'Masks.masks' is deprecated. Use 'Masks.data' instead.\n"
     ]
    },
    {
     "name": "stdout",
     "output_type": "stream",
     "text": [
      "White Percentage: 10.81%\n",
      "1/1 [==============================] - 0s 30ms/step\n",
      "White Percentage: 2.04%\n",
      "1/1 [==============================] - 0s 34ms/step\n",
      "White Percentage: 9.59%\n",
      "1/1 [==============================] - 0s 41ms/step\n",
      "White Percentage: 28.57%\n",
      "1/1 [==============================] - 0s 46ms/step\n"
     ]
    },
    {
     "name": "stderr",
     "output_type": "stream",
     "text": [
      "video 1/1 (619/901) D:\\815_CowDataChecking\\Honkawa\\2023-07-31\\03\\output_3fps\\20230731-030500-031000_10fps_3fps.mp4: 384x640 6 cows, 20.0ms\n",
      "WARNING  'Masks.masks' is deprecated. Use 'Masks.data' instead.\n"
     ]
    },
    {
     "name": "stdout",
     "output_type": "stream",
     "text": [
      "White Percentage: 4.03%\n",
      "1/1 [==============================] - 0s 35ms/step\n",
      "White Percentage: 1.93%\n",
      "1/1 [==============================] - 0s 30ms/step\n",
      "White Percentage: 10.28%\n",
      "1/1 [==============================] - 0s 31ms/step\n",
      "White Percentage: 31.01%\n",
      "1/1 [==============================] - 0s 40ms/step\n"
     ]
    },
    {
     "name": "stderr",
     "output_type": "stream",
     "text": [
      "video 1/1 (620/901) D:\\815_CowDataChecking\\Honkawa\\2023-07-31\\03\\output_3fps\\20230731-030500-031000_10fps_3fps.mp4: 384x640 6 cows, 20.0ms\n",
      "WARNING  'Masks.masks' is deprecated. Use 'Masks.data' instead.\n"
     ]
    },
    {
     "name": "stdout",
     "output_type": "stream",
     "text": [
      "White Percentage: 4.74%\n",
      "1/1 [==============================] - 0s 30ms/step\n",
      "White Percentage: 1.87%\n",
      "1/1 [==============================] - 0s 30ms/step\n",
      "White Percentage: 10.91%\n",
      "1/1 [==============================] - 0s 40ms/step\n",
      "White Percentage: 29.58%\n",
      "1/1 [==============================] - 0s 46ms/step\n"
     ]
    },
    {
     "name": "stderr",
     "output_type": "stream",
     "text": [
      "video 1/1 (621/901) D:\\815_CowDataChecking\\Honkawa\\2023-07-31\\03\\output_3fps\\20230731-030500-031000_10fps_3fps.mp4: 384x640 6 cows, 19.0ms\n",
      "WARNING  'Masks.masks' is deprecated. Use 'Masks.data' instead.\n"
     ]
    },
    {
     "name": "stdout",
     "output_type": "stream",
     "text": [
      "White Percentage: 0.66%\n",
      "1/1 [==============================] - 0s 28ms/step\n",
      "White Percentage: 1.55%\n",
      "1/1 [==============================] - 0s 30ms/step\n",
      "White Percentage: 11.19%\n",
      "1/1 [==============================] - 0s 40ms/step\n",
      "White Percentage: 28.71%\n",
      "1/1 [==============================] - 0s 30ms/step\n"
     ]
    },
    {
     "name": "stderr",
     "output_type": "stream",
     "text": [
      "video 1/1 (622/901) D:\\815_CowDataChecking\\Honkawa\\2023-07-31\\03\\output_3fps\\20230731-030500-031000_10fps_3fps.mp4: 384x640 6 cows, 19.0ms\n",
      "WARNING  'Masks.masks' is deprecated. Use 'Masks.data' instead.\n"
     ]
    },
    {
     "name": "stdout",
     "output_type": "stream",
     "text": [
      "White Percentage: 8.89%\n",
      "1/1 [==============================] - 0s 34ms/step\n",
      "White Percentage: 1.91%\n",
      "1/1 [==============================] - 0s 35ms/step\n",
      "White Percentage: 11.26%\n",
      "1/1 [==============================] - 0s 27ms/step\n",
      "White Percentage: 28.32%\n",
      "1/1 [==============================] - 0s 38ms/step\n"
     ]
    },
    {
     "name": "stderr",
     "output_type": "stream",
     "text": [
      "video 1/1 (623/901) D:\\815_CowDataChecking\\Honkawa\\2023-07-31\\03\\output_3fps\\20230731-030500-031000_10fps_3fps.mp4: 384x640 6 cows, 25.5ms\n",
      "WARNING  'Masks.masks' is deprecated. Use 'Masks.data' instead.\n"
     ]
    },
    {
     "name": "stdout",
     "output_type": "stream",
     "text": [
      "White Percentage: 0.79%\n",
      "1/1 [==============================] - 0s 32ms/step\n",
      "White Percentage: 2.05%\n",
      "1/1 [==============================] - 0s 38ms/step\n",
      "White Percentage: 10.90%\n",
      "1/1 [==============================] - 0s 30ms/step\n",
      "White Percentage: 29.27%\n",
      "1/1 [==============================] - 0s 40ms/step\n"
     ]
    },
    {
     "name": "stderr",
     "output_type": "stream",
     "text": [
      "video 1/1 (624/901) D:\\815_CowDataChecking\\Honkawa\\2023-07-31\\03\\output_3fps\\20230731-030500-031000_10fps_3fps.mp4: 384x640 6 cows, 20.5ms\n",
      "WARNING  'Masks.masks' is deprecated. Use 'Masks.data' instead.\n"
     ]
    },
    {
     "name": "stdout",
     "output_type": "stream",
     "text": [
      "White Percentage: 2.21%\n",
      "1/1 [==============================] - 0s 28ms/step\n",
      "White Percentage: 2.18%\n",
      "1/1 [==============================] - 0s 40ms/step\n",
      "White Percentage: 10.96%\n",
      "1/1 [==============================] - 0s 40ms/step\n",
      "White Percentage: 32.29%\n",
      "1/1 [==============================] - 0s 40ms/step\n"
     ]
    },
    {
     "name": "stderr",
     "output_type": "stream",
     "text": [
      "video 1/1 (625/901) D:\\815_CowDataChecking\\Honkawa\\2023-07-31\\03\\output_3fps\\20230731-030500-031000_10fps_3fps.mp4: 384x640 6 cows, 30.0ms\n",
      "WARNING  'Masks.masks' is deprecated. Use 'Masks.data' instead.\n"
     ]
    },
    {
     "name": "stdout",
     "output_type": "stream",
     "text": [
      "White Percentage: 1.91%\n",
      "1/1 [==============================] - 0s 29ms/step\n",
      "White Percentage: 11.09%\n",
      "1/1 [==============================] - 0s 40ms/step\n",
      "White Percentage: 27.78%\n",
      "1/1 [==============================] - 0s 32ms/step\n"
     ]
    },
    {
     "name": "stderr",
     "output_type": "stream",
     "text": [
      "video 1/1 (626/901) D:\\815_CowDataChecking\\Honkawa\\2023-07-31\\03\\output_3fps\\20230731-030500-031000_10fps_3fps.mp4: 384x640 6 cows, 14.3ms\n",
      "WARNING  'Masks.masks' is deprecated. Use 'Masks.data' instead.\n"
     ]
    },
    {
     "name": "stdout",
     "output_type": "stream",
     "text": [
      "White Percentage: 0.26%\n",
      "1/1 [==============================] - 0s 33ms/step\n",
      "White Percentage: 10.78%\n",
      "1/1 [==============================] - 0s 30ms/step\n",
      "White Percentage: 29.82%\n",
      "1/1 [==============================] - 0s 40ms/step\n"
     ]
    },
    {
     "name": "stderr",
     "output_type": "stream",
     "text": [
      "video 1/1 (627/901) D:\\815_CowDataChecking\\Honkawa\\2023-07-31\\03\\output_3fps\\20230731-030500-031000_10fps_3fps.mp4: 384x640 6 cows, 20.0ms\n",
      "WARNING  'Masks.masks' is deprecated. Use 'Masks.data' instead.\n"
     ]
    },
    {
     "name": "stdout",
     "output_type": "stream",
     "text": [
      "White Percentage: 1.76%\n",
      "1/1 [==============================] - 0s 35ms/step\n",
      "White Percentage: 10.79%\n",
      "1/1 [==============================] - 0s 30ms/step\n",
      "White Percentage: 27.80%\n",
      "1/1 [==============================] - 0s 36ms/step\n"
     ]
    },
    {
     "name": "stderr",
     "output_type": "stream",
     "text": [
      "video 1/1 (628/901) D:\\815_CowDataChecking\\Honkawa\\2023-07-31\\03\\output_3fps\\20230731-030500-031000_10fps_3fps.mp4: 384x640 6 cows, 20.1ms\n",
      "WARNING  'Masks.masks' is deprecated. Use 'Masks.data' instead.\n"
     ]
    },
    {
     "name": "stdout",
     "output_type": "stream",
     "text": [
      "White Percentage: 1.37%\n",
      "1/1 [==============================] - 0s 36ms/step\n",
      "White Percentage: 10.20%\n",
      "1/1 [==============================] - 0s 31ms/step\n",
      "White Percentage: 27.89%\n",
      "1/1 [==============================] - 0s 37ms/step\n"
     ]
    },
    {
     "name": "stderr",
     "output_type": "stream",
     "text": [
      "video 1/1 (629/901) D:\\815_CowDataChecking\\Honkawa\\2023-07-31\\03\\output_3fps\\20230731-030500-031000_10fps_3fps.mp4: 384x640 6 cows, 20.0ms\n",
      "WARNING  'Masks.masks' is deprecated. Use 'Masks.data' instead.\n"
     ]
    },
    {
     "name": "stdout",
     "output_type": "stream",
     "text": [
      "White Percentage: 0.70%\n",
      "1/1 [==============================] - 0s 40ms/step\n",
      "White Percentage: 10.94%\n",
      "1/1 [==============================] - 0s 50ms/step\n",
      "White Percentage: 27.72%\n",
      "1/1 [==============================] - 0s 40ms/step\n"
     ]
    },
    {
     "name": "stderr",
     "output_type": "stream",
     "text": [
      "video 1/1 (630/901) D:\\815_CowDataChecking\\Honkawa\\2023-07-31\\03\\output_3fps\\20230731-030500-031000_10fps_3fps.mp4: 384x640 6 cows, 31.6ms\n",
      "WARNING  'Masks.masks' is deprecated. Use 'Masks.data' instead.\n"
     ]
    },
    {
     "name": "stdout",
     "output_type": "stream",
     "text": [
      "White Percentage: 0.74%\n",
      "1/1 [==============================] - 0s 27ms/step\n",
      "White Percentage: 10.55%\n",
      "1/1 [==============================] - 0s 32ms/step\n",
      "White Percentage: 22.30%\n",
      "1/1 [==============================] - 0s 40ms/step\n"
     ]
    },
    {
     "name": "stderr",
     "output_type": "stream",
     "text": [
      "video 1/1 (631/901) D:\\815_CowDataChecking\\Honkawa\\2023-07-31\\03\\output_3fps\\20230731-030500-031000_10fps_3fps.mp4: 384x640 6 cows, 24.5ms\n",
      "WARNING  'Masks.masks' is deprecated. Use 'Masks.data' instead.\n"
     ]
    },
    {
     "name": "stdout",
     "output_type": "stream",
     "text": [
      "White Percentage: 0.31%\n",
      "1/1 [==============================] - 0s 29ms/step\n",
      "White Percentage: 10.64%\n",
      "1/1 [==============================] - 0s 42ms/step\n",
      "White Percentage: 17.18%\n",
      "1/1 [==============================] - 0s 30ms/step\n"
     ]
    },
    {
     "name": "stderr",
     "output_type": "stream",
     "text": [
      "video 1/1 (632/901) D:\\815_CowDataChecking\\Honkawa\\2023-07-31\\03\\output_3fps\\20230731-030500-031000_10fps_3fps.mp4: 384x640 6 cows, 19.5ms\n",
      "WARNING  'Masks.masks' is deprecated. Use 'Masks.data' instead.\n"
     ]
    },
    {
     "name": "stdout",
     "output_type": "stream",
     "text": [
      "White Percentage: 0.39%\n",
      "1/1 [==============================] - 0s 38ms/step\n",
      "White Percentage: 10.28%\n",
      "1/1 [==============================] - 0s 30ms/step\n",
      "White Percentage: 20.33%\n",
      "1/1 [==============================] - 0s 31ms/step\n"
     ]
    },
    {
     "name": "stderr",
     "output_type": "stream",
     "text": [
      "video 1/1 (633/901) D:\\815_CowDataChecking\\Honkawa\\2023-07-31\\03\\output_3fps\\20230731-030500-031000_10fps_3fps.mp4: 384x640 5 cows, 20.0ms\n",
      "WARNING  'Masks.masks' is deprecated. Use 'Masks.data' instead.\n"
     ]
    },
    {
     "name": "stdout",
     "output_type": "stream",
     "text": [
      "White Percentage: 0.26%\n",
      "1/1 [==============================] - 0s 30ms/step\n",
      "White Percentage: 10.38%\n",
      "1/1 [==============================] - 0s 40ms/step\n",
      "White Percentage: 23.70%\n",
      "1/1 [==============================] - 0s 40ms/step\n"
     ]
    },
    {
     "name": "stderr",
     "output_type": "stream",
     "text": [
      "video 1/1 (634/901) D:\\815_CowDataChecking\\Honkawa\\2023-07-31\\03\\output_3fps\\20230731-030500-031000_10fps_3fps.mp4: 384x640 5 cows, 22.5ms\n",
      "WARNING  'Masks.masks' is deprecated. Use 'Masks.data' instead.\n"
     ]
    },
    {
     "name": "stdout",
     "output_type": "stream",
     "text": [
      "White Percentage: 0.37%\n",
      "1/1 [==============================] - 0s 32ms/step\n",
      "White Percentage: 10.59%\n",
      "1/1 [==============================] - 0s 42ms/step\n",
      "White Percentage: 21.16%\n",
      "1/1 [==============================] - 0s 40ms/step\n"
     ]
    },
    {
     "name": "stderr",
     "output_type": "stream",
     "text": [
      "video 1/1 (635/901) D:\\815_CowDataChecking\\Honkawa\\2023-07-31\\03\\output_3fps\\20230731-030500-031000_10fps_3fps.mp4: 384x640 5 cows, 20.0ms\n",
      "WARNING  'Masks.masks' is deprecated. Use 'Masks.data' instead.\n"
     ]
    },
    {
     "name": "stdout",
     "output_type": "stream",
     "text": [
      "White Percentage: 0.18%\n",
      "1/1 [==============================] - 0s 33ms/step\n",
      "White Percentage: 10.37%\n",
      "1/1 [==============================] - 0s 38ms/step\n",
      "White Percentage: 22.54%\n",
      "1/1 [==============================] - 0s 38ms/step\n"
     ]
    },
    {
     "name": "stderr",
     "output_type": "stream",
     "text": [
      "video 1/1 (636/901) D:\\815_CowDataChecking\\Honkawa\\2023-07-31\\03\\output_3fps\\20230731-030500-031000_10fps_3fps.mp4: 384x640 5 cows, 14.1ms\n",
      "WARNING  'Masks.masks' is deprecated. Use 'Masks.data' instead.\n"
     ]
    },
    {
     "name": "stdout",
     "output_type": "stream",
     "text": [
      "White Percentage: 0.50%\n",
      "1/1 [==============================] - 0s 39ms/step\n",
      "White Percentage: 9.69%\n",
      "1/1 [==============================] - 0s 41ms/step\n",
      "White Percentage: 21.05%\n",
      "1/1 [==============================] - 0s 36ms/step\n"
     ]
    },
    {
     "name": "stderr",
     "output_type": "stream",
     "text": [
      "video 1/1 (637/901) D:\\815_CowDataChecking\\Honkawa\\2023-07-31\\03\\output_3fps\\20230731-030500-031000_10fps_3fps.mp4: 384x640 5 cows, 20.0ms\n",
      "WARNING  'Masks.masks' is deprecated. Use 'Masks.data' instead.\n"
     ]
    },
    {
     "name": "stdout",
     "output_type": "stream",
     "text": [
      "White Percentage: 0.06%\n",
      "1/1 [==============================] - 0s 28ms/step\n",
      "White Percentage: 10.08%\n",
      "1/1 [==============================] - 0s 40ms/step\n",
      "White Percentage: 21.95%\n",
      "1/1 [==============================] - 0s 40ms/step\n"
     ]
    },
    {
     "name": "stderr",
     "output_type": "stream",
     "text": [
      "video 1/1 (638/901) D:\\815_CowDataChecking\\Honkawa\\2023-07-31\\03\\output_3fps\\20230731-030500-031000_10fps_3fps.mp4: 384x640 6 cows, 30.3ms\n",
      "WARNING  'Masks.masks' is deprecated. Use 'Masks.data' instead.\n"
     ]
    },
    {
     "name": "stdout",
     "output_type": "stream",
     "text": [
      "White Percentage: 0.17%\n",
      "1/1 [==============================] - 0s 28ms/step\n",
      "White Percentage: 9.06%\n",
      "1/1 [==============================] - 0s 40ms/step\n",
      "White Percentage: 22.46%\n",
      "1/1 [==============================] - 0s 48ms/step\n"
     ]
    },
    {
     "name": "stderr",
     "output_type": "stream",
     "text": [
      "video 1/1 (639/901) D:\\815_CowDataChecking\\Honkawa\\2023-07-31\\03\\output_3fps\\20230731-030500-031000_10fps_3fps.mp4: 384x640 6 cows, 25.5ms\n",
      "WARNING  'Masks.masks' is deprecated. Use 'Masks.data' instead.\n"
     ]
    },
    {
     "name": "stdout",
     "output_type": "stream",
     "text": [
      "White Percentage: 0.37%\n",
      "1/1 [==============================] - 0s 31ms/step\n",
      "White Percentage: 9.18%\n",
      "1/1 [==============================] - 0s 30ms/step\n",
      "White Percentage: 25.85%\n",
      "1/1 [==============================] - 0s 37ms/step\n"
     ]
    },
    {
     "name": "stderr",
     "output_type": "stream",
     "text": [
      "video 1/1 (640/901) D:\\815_CowDataChecking\\Honkawa\\2023-07-31\\03\\output_3fps\\20230731-030500-031000_10fps_3fps.mp4: 384x640 6 cows, 20.0ms\n",
      "WARNING  'Masks.masks' is deprecated. Use 'Masks.data' instead.\n"
     ]
    },
    {
     "name": "stdout",
     "output_type": "stream",
     "text": [
      "White Percentage: 11.85%\n",
      "1/1 [==============================] - 0s 35ms/step\n",
      "White Percentage: 9.01%\n",
      "1/1 [==============================] - 0s 40ms/step\n",
      "White Percentage: 24.66%\n",
      "1/1 [==============================] - 0s 33ms/step\n"
     ]
    },
    {
     "name": "stderr",
     "output_type": "stream",
     "text": [
      "video 1/1 (641/901) D:\\815_CowDataChecking\\Honkawa\\2023-07-31\\03\\output_3fps\\20230731-030500-031000_10fps_3fps.mp4: 384x640 6 cows, 20.2ms\n",
      "WARNING  'Masks.masks' is deprecated. Use 'Masks.data' instead.\n"
     ]
    },
    {
     "name": "stdout",
     "output_type": "stream",
     "text": [
      "White Percentage: 3.27%\n",
      "1/1 [==============================] - 0s 35ms/step\n",
      "White Percentage: 9.53%\n",
      "1/1 [==============================] - 0s 44ms/step\n",
      "White Percentage: 25.45%\n",
      "1/1 [==============================] - 0s 30ms/step\n"
     ]
    },
    {
     "name": "stderr",
     "output_type": "stream",
     "text": [
      "video 1/1 (642/901) D:\\815_CowDataChecking\\Honkawa\\2023-07-31\\03\\output_3fps\\20230731-030500-031000_10fps_3fps.mp4: 384x640 6 cows, 14.0ms\n",
      "WARNING  'Masks.masks' is deprecated. Use 'Masks.data' instead.\n"
     ]
    },
    {
     "name": "stdout",
     "output_type": "stream",
     "text": [
      "White Percentage: 17.52%\n",
      "1/1 [==============================] - 0s 40ms/step\n",
      "White Percentage: 10.29%\n",
      "1/1 [==============================] - 0s 30ms/step\n",
      "White Percentage: 22.94%\n",
      "1/1 [==============================] - 0s 50ms/step\n"
     ]
    },
    {
     "name": "stderr",
     "output_type": "stream",
     "text": [
      "video 1/1 (643/901) D:\\815_CowDataChecking\\Honkawa\\2023-07-31\\03\\output_3fps\\20230731-030500-031000_10fps_3fps.mp4: 384x640 6 cows, 21.0ms\n",
      "WARNING  'Masks.masks' is deprecated. Use 'Masks.data' instead.\n"
     ]
    },
    {
     "name": "stdout",
     "output_type": "stream",
     "text": [
      "White Percentage: 6.89%\n",
      "1/1 [==============================] - 0s 41ms/step\n",
      "White Percentage: 10.48%\n",
      "1/1 [==============================] - 0s 32ms/step\n",
      "White Percentage: 23.62%\n",
      "1/1 [==============================] - 0s 30ms/step\n"
     ]
    },
    {
     "name": "stderr",
     "output_type": "stream",
     "text": [
      "video 1/1 (644/901) D:\\815_CowDataChecking\\Honkawa\\2023-07-31\\03\\output_3fps\\20230731-030500-031000_10fps_3fps.mp4: 384x640 6 cows, 23.5ms\n",
      "WARNING  'Masks.masks' is deprecated. Use 'Masks.data' instead.\n"
     ]
    },
    {
     "name": "stdout",
     "output_type": "stream",
     "text": [
      "White Percentage: 13.79%\n",
      "1/1 [==============================] - 0s 32ms/step\n",
      "White Percentage: 10.27%\n",
      "1/1 [==============================] - 0s 38ms/step\n",
      "White Percentage: 22.11%\n",
      "1/1 [==============================] - 0s 40ms/step\n"
     ]
    },
    {
     "name": "stderr",
     "output_type": "stream",
     "text": [
      "video 1/1 (645/901) D:\\815_CowDataChecking\\Honkawa\\2023-07-31\\03\\output_3fps\\20230731-030500-031000_10fps_3fps.mp4: 384x640 6 cows, 20.1ms\n",
      "WARNING  'Masks.masks' is deprecated. Use 'Masks.data' instead.\n"
     ]
    },
    {
     "name": "stdout",
     "output_type": "stream",
     "text": [
      "White Percentage: 7.40%\n",
      "1/1 [==============================] - 0s 38ms/step\n",
      "White Percentage: 10.90%\n",
      "1/1 [==============================] - 0s 40ms/step\n",
      "White Percentage: 15.58%\n",
      "1/1 [==============================] - 0s 40ms/step\n",
      "White Percentage: 12.40%\n",
      "1/1 [==============================] - 0s 50ms/step\n"
     ]
    },
    {
     "name": "stderr",
     "output_type": "stream",
     "text": [
      "video 1/1 (646/901) D:\\815_CowDataChecking\\Honkawa\\2023-07-31\\03\\output_3fps\\20230731-030500-031000_10fps_3fps.mp4: 384x640 6 cows, 20.0ms\n",
      "WARNING  'Masks.masks' is deprecated. Use 'Masks.data' instead.\n"
     ]
    },
    {
     "name": "stdout",
     "output_type": "stream",
     "text": [
      "White Percentage: 26.18%\n",
      "[['ID', 'RANK1', 'RANK1_prob', 'RANK2', 'RANK2_prob', 'RANK3', 'RANK3_prob', 'RANK4', 'RANK4_prob', 'RANK5', 'RANK5_prob']]\n",
      "new cattle  xxxxxxxxxxxxxxxxxxxxx new cattle alert \n",
      "1/1 [==============================] - 0s 34ms/step\n",
      "White Percentage: 10.21%\n",
      "1/1 [==============================] - 0s 40ms/step\n",
      "White Percentage: 18.38%\n",
      "1/1 [==============================] - 0s 40ms/step\n",
      "White Percentage: 1.00%\n",
      "1/1 [==============================] - 0s 41ms/step\n"
     ]
    },
    {
     "name": "stderr",
     "output_type": "stream",
     "text": [
      "video 1/1 (647/901) D:\\815_CowDataChecking\\Honkawa\\2023-07-31\\03\\output_3fps\\20230731-030500-031000_10fps_3fps.mp4: 384x640 6 cows, 20.0ms\n",
      "WARNING  'Masks.masks' is deprecated. Use 'Masks.data' instead.\n"
     ]
    },
    {
     "name": "stdout",
     "output_type": "stream",
     "text": [
      "White Percentage: 22.73%\n",
      "1/1 [==============================] - 0s 39ms/step\n",
      "White Percentage: 10.32%\n",
      "1/1 [==============================] - 0s 50ms/step\n",
      "White Percentage: 19.24%\n",
      "1/1 [==============================] - 0s 40ms/step\n",
      "White Percentage: 1.89%\n",
      "1/1 [==============================] - 0s 40ms/step\n"
     ]
    },
    {
     "name": "stderr",
     "output_type": "stream",
     "text": [
      "video 1/1 (648/901) D:\\815_CowDataChecking\\Honkawa\\2023-07-31\\03\\output_3fps\\20230731-030500-031000_10fps_3fps.mp4: 384x640 6 cows, 20.0ms\n",
      "WARNING  'Masks.masks' is deprecated. Use 'Masks.data' instead.\n"
     ]
    },
    {
     "name": "stdout",
     "output_type": "stream",
     "text": [
      "White Percentage: 25.62%\n",
      "1/1 [==============================] - 0s 35ms/step\n",
      "White Percentage: 10.31%\n",
      "1/1 [==============================] - 0s 34ms/step\n",
      "White Percentage: 25.38%\n",
      "1/1 [==============================] - 0s 32ms/step\n",
      "White Percentage: 4.22%\n",
      "1/1 [==============================] - 0s 40ms/step\n"
     ]
    },
    {
     "name": "stderr",
     "output_type": "stream",
     "text": [
      "video 1/1 (649/901) D:\\815_CowDataChecking\\Honkawa\\2023-07-31\\03\\output_3fps\\20230731-030500-031000_10fps_3fps.mp4: 384x640 6 cows, 22.6ms\n",
      "WARNING  'Masks.masks' is deprecated. Use 'Masks.data' instead.\n"
     ]
    },
    {
     "name": "stdout",
     "output_type": "stream",
     "text": [
      "White Percentage: 24.42%\n",
      "1/1 [==============================] - 0s 35ms/step\n",
      "White Percentage: 10.12%\n",
      "1/1 [==============================] - 0s 40ms/step\n",
      "White Percentage: 23.80%\n",
      "1/1 [==============================] - 0s 37ms/step\n",
      "White Percentage: 0.41%\n",
      "1/1 [==============================] - 0s 38ms/step\n"
     ]
    },
    {
     "name": "stderr",
     "output_type": "stream",
     "text": [
      "video 1/1 (650/901) D:\\815_CowDataChecking\\Honkawa\\2023-07-31\\03\\output_3fps\\20230731-030500-031000_10fps_3fps.mp4: 384x640 6 cows, 20.1ms\n",
      "WARNING  'Masks.masks' is deprecated. Use 'Masks.data' instead.\n"
     ]
    },
    {
     "name": "stdout",
     "output_type": "stream",
     "text": [
      "White Percentage: 27.93%\n",
      "1/1 [==============================] - 0s 29ms/step\n",
      "White Percentage: 10.34%\n",
      "1/1 [==============================] - 0s 30ms/step\n",
      "White Percentage: 24.14%\n",
      "1/1 [==============================] - 0s 40ms/step\n",
      "White Percentage: 10.22%\n",
      "1/1 [==============================] - 0s 40ms/step\n"
     ]
    },
    {
     "name": "stderr",
     "output_type": "stream",
     "text": [
      "video 1/1 (651/901) D:\\815_CowDataChecking\\Honkawa\\2023-07-31\\03\\output_3fps\\20230731-030500-031000_10fps_3fps.mp4: 384x640 6 cows, 21.4ms\n",
      "WARNING  'Masks.masks' is deprecated. Use 'Masks.data' instead.\n"
     ]
    },
    {
     "name": "stdout",
     "output_type": "stream",
     "text": [
      "White Percentage: 23.57%\n",
      "1/1 [==============================] - 0s 36ms/step\n",
      "White Percentage: 10.59%\n",
      "1/1 [==============================] - 0s 40ms/step\n",
      "White Percentage: 24.04%\n",
      "1/1 [==============================] - 0s 38ms/step\n",
      "White Percentage: 9.63%\n",
      "1/1 [==============================] - 0s 47ms/step\n"
     ]
    },
    {
     "name": "stderr",
     "output_type": "stream",
     "text": [
      "video 1/1 (652/901) D:\\815_CowDataChecking\\Honkawa\\2023-07-31\\03\\output_3fps\\20230731-030500-031000_10fps_3fps.mp4: 384x640 6 cows, 20.0ms\n",
      "WARNING  'Masks.masks' is deprecated. Use 'Masks.data' instead.\n"
     ]
    },
    {
     "name": "stdout",
     "output_type": "stream",
     "text": [
      "White Percentage: 29.16%\n",
      "1/1 [==============================] - 0s 35ms/step\n",
      "White Percentage: 8.40%\n",
      "1/1 [==============================] - 0s 40ms/step\n",
      "White Percentage: 24.61%\n",
      "1/1 [==============================] - 0s 30ms/step\n",
      "White Percentage: 17.59%\n",
      "1/1 [==============================] - 0s 44ms/step\n"
     ]
    },
    {
     "name": "stderr",
     "output_type": "stream",
     "text": [
      "video 1/1 (653/901) D:\\815_CowDataChecking\\Honkawa\\2023-07-31\\03\\output_3fps\\20230731-030500-031000_10fps_3fps.mp4: 384x640 6 cows, 11.0ms\n",
      "WARNING  'Masks.masks' is deprecated. Use 'Masks.data' instead.\n"
     ]
    },
    {
     "name": "stdout",
     "output_type": "stream",
     "text": [
      "White Percentage: 28.60%\n",
      "1/1 [==============================] - 0s 33ms/step\n",
      "White Percentage: 11.05%\n",
      "1/1 [==============================] - 0s 40ms/step\n",
      "White Percentage: 24.82%\n",
      "1/1 [==============================] - 0s 37ms/step\n",
      "White Percentage: 3.77%\n",
      "1/1 [==============================] - 0s 39ms/step\n"
     ]
    },
    {
     "name": "stderr",
     "output_type": "stream",
     "text": [
      "video 1/1 (654/901) D:\\815_CowDataChecking\\Honkawa\\2023-07-31\\03\\output_3fps\\20230731-030500-031000_10fps_3fps.mp4: 384x640 6 cows, 20.0ms\n",
      "WARNING  'Masks.masks' is deprecated. Use 'Masks.data' instead.\n"
     ]
    },
    {
     "name": "stdout",
     "output_type": "stream",
     "text": [
      "White Percentage: 27.68%\n",
      "1/1 [==============================] - 0s 35ms/step\n",
      "White Percentage: 8.77%\n",
      "1/1 [==============================] - 0s 36ms/step\n",
      "White Percentage: 24.92%\n",
      "1/1 [==============================] - 0s 40ms/step\n",
      "White Percentage: 1.82%\n",
      "1/1 [==============================] - 0s 40ms/step\n"
     ]
    },
    {
     "name": "stderr",
     "output_type": "stream",
     "text": [
      "video 1/1 (655/901) D:\\815_CowDataChecking\\Honkawa\\2023-07-31\\03\\output_3fps\\20230731-030500-031000_10fps_3fps.mp4: 384x640 6 cows, 23.3ms\n",
      "WARNING  'Masks.masks' is deprecated. Use 'Masks.data' instead.\n"
     ]
    },
    {
     "name": "stdout",
     "output_type": "stream",
     "text": [
      "White Percentage: 25.06%\n",
      "1/1 [==============================] - 0s 29ms/step\n",
      "White Percentage: 9.47%\n",
      "1/1 [==============================] - 0s 40ms/step\n",
      "White Percentage: 24.41%\n",
      "1/1 [==============================] - 0s 36ms/step\n",
      "White Percentage: 0.44%\n",
      "1/1 [==============================] - 0s 41ms/step\n"
     ]
    },
    {
     "name": "stderr",
     "output_type": "stream",
     "text": [
      "video 1/1 (656/901) D:\\815_CowDataChecking\\Honkawa\\2023-07-31\\03\\output_3fps\\20230731-030500-031000_10fps_3fps.mp4: 384x640 6 cows, 19.2ms\n",
      "WARNING  'Masks.masks' is deprecated. Use 'Masks.data' instead.\n"
     ]
    },
    {
     "name": "stdout",
     "output_type": "stream",
     "text": [
      "White Percentage: 29.33%\n",
      "1/1 [==============================] - 0s 35ms/step\n",
      "White Percentage: 10.37%\n",
      "1/1 [==============================] - 0s 39ms/step\n",
      "White Percentage: 24.51%\n",
      "1/1 [==============================] - 0s 40ms/step\n",
      "White Percentage: 12.21%\n",
      "1/1 [==============================] - 0s 40ms/step\n"
     ]
    },
    {
     "name": "stderr",
     "output_type": "stream",
     "text": [
      "video 1/1 (657/901) D:\\815_CowDataChecking\\Honkawa\\2023-07-31\\03\\output_3fps\\20230731-030500-031000_10fps_3fps.mp4: 384x640 6 cows, 20.1ms\n",
      "WARNING  'Masks.masks' is deprecated. Use 'Masks.data' instead.\n"
     ]
    },
    {
     "name": "stdout",
     "output_type": "stream",
     "text": [
      "White Percentage: 27.82%\n",
      "1/1 [==============================] - 0s 34ms/step\n",
      "White Percentage: 25.58%\n",
      "1/1 [==============================] - 0s 41ms/step\n",
      "White Percentage: 2.59%\n",
      "1/1 [==============================] - 0s 40ms/step\n"
     ]
    },
    {
     "name": "stderr",
     "output_type": "stream",
     "text": [
      "video 1/1 (658/901) D:\\815_CowDataChecking\\Honkawa\\2023-07-31\\03\\output_3fps\\20230731-030500-031000_10fps_3fps.mp4: 384x640 6 cows, 20.0ms\n",
      "WARNING  'Masks.masks' is deprecated. Use 'Masks.data' instead.\n"
     ]
    },
    {
     "name": "stdout",
     "output_type": "stream",
     "text": [
      "White Percentage: 28.68%\n",
      "1/1 [==============================] - 0s 28ms/step\n",
      "White Percentage: 26.61%\n",
      "1/1 [==============================] - 0s 50ms/step\n",
      "White Percentage: 3.88%\n",
      "1/1 [==============================] - 0s 41ms/step\n"
     ]
    },
    {
     "name": "stderr",
     "output_type": "stream",
     "text": [
      "video 1/1 (659/901) D:\\815_CowDataChecking\\Honkawa\\2023-07-31\\03\\output_3fps\\20230731-030500-031000_10fps_3fps.mp4: 384x640 5 cows, 20.0ms\n",
      "WARNING  'Masks.masks' is deprecated. Use 'Masks.data' instead.\n"
     ]
    },
    {
     "name": "stdout",
     "output_type": "stream",
     "text": [
      "White Percentage: 30.24%\n",
      "1/1 [==============================] - 0s 35ms/step\n",
      "White Percentage: 27.08%\n",
      "1/1 [==============================] - 0s 41ms/step\n",
      "White Percentage: 0.34%\n",
      "1/1 [==============================] - 0s 30ms/step\n"
     ]
    },
    {
     "name": "stderr",
     "output_type": "stream",
     "text": [
      "video 1/1 (660/901) D:\\815_CowDataChecking\\Honkawa\\2023-07-31\\03\\output_3fps\\20230731-030500-031000_10fps_3fps.mp4: 384x640 5 cows, 20.0ms\n",
      "WARNING  'Masks.masks' is deprecated. Use 'Masks.data' instead.\n"
     ]
    },
    {
     "name": "stdout",
     "output_type": "stream",
     "text": [
      "White Percentage: 29.83%\n",
      "1/1 [==============================] - 0s 38ms/step\n",
      "White Percentage: 25.10%\n",
      "1/1 [==============================] - 0s 38ms/step\n",
      "White Percentage: 10.01%\n",
      "1/1 [==============================] - 0s 40ms/step\n"
     ]
    },
    {
     "name": "stderr",
     "output_type": "stream",
     "text": [
      "video 1/1 (661/901) D:\\815_CowDataChecking\\Honkawa\\2023-07-31\\03\\output_3fps\\20230731-030500-031000_10fps_3fps.mp4: 384x640 5 cows, 20.0ms\n",
      "WARNING  'Masks.masks' is deprecated. Use 'Masks.data' instead.\n"
     ]
    },
    {
     "name": "stdout",
     "output_type": "stream",
     "text": [
      "White Percentage: 29.47%\n",
      "1/1 [==============================] - 0s 36ms/step\n",
      "White Percentage: 26.22%\n",
      "1/1 [==============================] - 0s 50ms/step\n",
      "White Percentage: 9.30%\n",
      "1/1 [==============================] - 0s 45ms/step\n"
     ]
    },
    {
     "name": "stderr",
     "output_type": "stream",
     "text": [
      "video 1/1 (662/901) D:\\815_CowDataChecking\\Honkawa\\2023-07-31\\03\\output_3fps\\20230731-030500-031000_10fps_3fps.mp4: 384x640 5 cows, 20.0ms\n",
      "WARNING  'Masks.masks' is deprecated. Use 'Masks.data' instead.\n"
     ]
    },
    {
     "name": "stdout",
     "output_type": "stream",
     "text": [
      "White Percentage: 25.61%\n",
      "1/1 [==============================] - 0s 30ms/step\n",
      "White Percentage: 24.60%\n",
      "1/1 [==============================] - 0s 30ms/step\n",
      "White Percentage: 7.13%\n",
      "1/1 [==============================] - 0s 30ms/step\n"
     ]
    },
    {
     "name": "stderr",
     "output_type": "stream",
     "text": [
      "video 1/1 (663/901) D:\\815_CowDataChecking\\Honkawa\\2023-07-31\\03\\output_3fps\\20230731-030500-031000_10fps_3fps.mp4: 384x640 5 cows, 19.9ms\n",
      "WARNING  'Masks.masks' is deprecated. Use 'Masks.data' instead.\n"
     ]
    },
    {
     "name": "stdout",
     "output_type": "stream",
     "text": [
      "White Percentage: 27.95%\n",
      "1/1 [==============================] - 0s 35ms/step\n",
      "White Percentage: 24.19%\n",
      "1/1 [==============================] - 0s 50ms/step\n",
      "White Percentage: 11.46%\n",
      "1/1 [==============================] - 0s 34ms/step\n"
     ]
    },
    {
     "name": "stderr",
     "output_type": "stream",
     "text": [
      "video 1/1 (664/901) D:\\815_CowDataChecking\\Honkawa\\2023-07-31\\03\\output_3fps\\20230731-030500-031000_10fps_3fps.mp4: 384x640 6 cows, 20.1ms\n",
      "WARNING  'Masks.masks' is deprecated. Use 'Masks.data' instead.\n"
     ]
    },
    {
     "name": "stdout",
     "output_type": "stream",
     "text": [
      "White Percentage: 30.66%\n",
      "1/1 [==============================] - 0s 36ms/step\n",
      "White Percentage: 24.21%\n",
      "1/1 [==============================] - 0s 39ms/step\n",
      "White Percentage: 3.12%\n",
      "1/1 [==============================] - 0s 43ms/step\n"
     ]
    },
    {
     "name": "stderr",
     "output_type": "stream",
     "text": [
      "video 1/1 (665/901) D:\\815_CowDataChecking\\Honkawa\\2023-07-31\\03\\output_3fps\\20230731-030500-031000_10fps_3fps.mp4: 384x640 6 cows, 20.0ms\n",
      "WARNING  'Masks.masks' is deprecated. Use 'Masks.data' instead.\n"
     ]
    },
    {
     "name": "stdout",
     "output_type": "stream",
     "text": [
      "White Percentage: 29.66%\n",
      "1/1 [==============================] - 0s 44ms/step\n",
      "White Percentage: 23.65%\n",
      "1/1 [==============================] - 0s 33ms/step\n",
      "White Percentage: 4.60%\n",
      "1/1 [==============================] - 0s 40ms/step\n"
     ]
    },
    {
     "name": "stderr",
     "output_type": "stream",
     "text": [
      "video 1/1 (666/901) D:\\815_CowDataChecking\\Honkawa\\2023-07-31\\03\\output_3fps\\20230731-030500-031000_10fps_3fps.mp4: 384x640 6 cows, 20.0ms\n",
      "WARNING  'Masks.masks' is deprecated. Use 'Masks.data' instead.\n"
     ]
    },
    {
     "name": "stdout",
     "output_type": "stream",
     "text": [
      "White Percentage: 30.92%\n",
      "1/1 [==============================] - 0s 38ms/step\n",
      "White Percentage: 25.81%\n",
      "1/1 [==============================] - 0s 37ms/step\n",
      "White Percentage: 0.19%\n",
      "1/1 [==============================] - 0s 40ms/step\n"
     ]
    },
    {
     "name": "stderr",
     "output_type": "stream",
     "text": [
      "video 1/1 (667/901) D:\\815_CowDataChecking\\Honkawa\\2023-07-31\\03\\output_3fps\\20230731-030500-031000_10fps_3fps.mp4: 384x640 6 cows, 29.6ms\n",
      "WARNING  'Masks.masks' is deprecated. Use 'Masks.data' instead.\n"
     ]
    },
    {
     "name": "stdout",
     "output_type": "stream",
     "text": [
      "White Percentage: 31.71%\n",
      "1/1 [==============================] - 0s 43ms/step\n",
      "White Percentage: 25.39%\n",
      "1/1 [==============================] - 0s 36ms/step\n",
      "White Percentage: 12.24%\n",
      "1/1 [==============================] - 0s 50ms/step\n"
     ]
    },
    {
     "name": "stderr",
     "output_type": "stream",
     "text": [
      "video 1/1 (668/901) D:\\815_CowDataChecking\\Honkawa\\2023-07-31\\03\\output_3fps\\20230731-030500-031000_10fps_3fps.mp4: 384x640 6 cows, 23.6ms\n",
      "WARNING  'Masks.masks' is deprecated. Use 'Masks.data' instead.\n"
     ]
    },
    {
     "name": "stdout",
     "output_type": "stream",
     "text": [
      "White Percentage: 32.36%\n",
      "1/1 [==============================] - 0s 30ms/step\n",
      "White Percentage: 23.94%\n",
      "1/1 [==============================] - 0s 40ms/step\n",
      "White Percentage: 11.55%\n",
      "1/1 [==============================] - 0s 40ms/step\n"
     ]
    },
    {
     "name": "stderr",
     "output_type": "stream",
     "text": [
      "video 1/1 (669/901) D:\\815_CowDataChecking\\Honkawa\\2023-07-31\\03\\output_3fps\\20230731-030500-031000_10fps_3fps.mp4: 384x640 6 cows, 20.0ms\n",
      "WARNING  'Masks.masks' is deprecated. Use 'Masks.data' instead.\n"
     ]
    },
    {
     "name": "stdout",
     "output_type": "stream",
     "text": [
      "White Percentage: 29.22%\n",
      "1/1 [==============================] - 0s 36ms/step\n",
      "White Percentage: 25.33%\n",
      "1/1 [==============================] - 0s 46ms/step\n",
      "White Percentage: 3.20%\n",
      "1/1 [==============================] - 0s 40ms/step\n"
     ]
    },
    {
     "name": "stderr",
     "output_type": "stream",
     "text": [
      "video 1/1 (670/901) D:\\815_CowDataChecking\\Honkawa\\2023-07-31\\03\\output_3fps\\20230731-030500-031000_10fps_3fps.mp4: 384x640 6 cows, 20.0ms\n",
      "WARNING  'Masks.masks' is deprecated. Use 'Masks.data' instead.\n"
     ]
    },
    {
     "name": "stdout",
     "output_type": "stream",
     "text": [
      "White Percentage: 29.30%\n",
      "1/1 [==============================] - 0s 32ms/step\n",
      "White Percentage: 25.22%\n",
      "1/1 [==============================] - 0s 40ms/step\n",
      "White Percentage: 0.18%\n",
      "1/1 [==============================] - 0s 41ms/step\n"
     ]
    },
    {
     "name": "stderr",
     "output_type": "stream",
     "text": [
      "video 1/1 (671/901) D:\\815_CowDataChecking\\Honkawa\\2023-07-31\\03\\output_3fps\\20230731-030500-031000_10fps_3fps.mp4: 384x640 6 cows, 20.0ms\n",
      "WARNING  'Masks.masks' is deprecated. Use 'Masks.data' instead.\n"
     ]
    },
    {
     "name": "stdout",
     "output_type": "stream",
     "text": [
      "White Percentage: 29.97%\n",
      "1/1 [==============================] - 0s 41ms/step\n",
      "White Percentage: 25.70%\n",
      "1/1 [==============================] - 0s 40ms/step\n",
      "White Percentage: 1.16%\n",
      "1/1 [==============================] - 0s 41ms/step\n"
     ]
    },
    {
     "name": "stderr",
     "output_type": "stream",
     "text": [
      "video 1/1 (672/901) D:\\815_CowDataChecking\\Honkawa\\2023-07-31\\03\\output_3fps\\20230731-030500-031000_10fps_3fps.mp4: 384x640 6 cows, 20.0ms\n",
      "WARNING  'Masks.masks' is deprecated. Use 'Masks.data' instead.\n"
     ]
    },
    {
     "name": "stdout",
     "output_type": "stream",
     "text": [
      "White Percentage: 28.46%\n",
      "1/1 [==============================] - 0s 42ms/step\n",
      "White Percentage: 25.69%\n",
      "1/1 [==============================] - 0s 40ms/step\n",
      "White Percentage: 4.07%\n",
      "1/1 [==============================] - 0s 40ms/step\n"
     ]
    },
    {
     "name": "stderr",
     "output_type": "stream",
     "text": [
      "video 1/1 (673/901) D:\\815_CowDataChecking\\Honkawa\\2023-07-31\\03\\output_3fps\\20230731-030500-031000_10fps_3fps.mp4: 384x640 6 cows, 20.0ms\n",
      "WARNING  'Masks.masks' is deprecated. Use 'Masks.data' instead.\n"
     ]
    },
    {
     "name": "stdout",
     "output_type": "stream",
     "text": [
      "White Percentage: 26.83%\n",
      "1/1 [==============================] - 0s 41ms/step\n",
      "White Percentage: 25.19%\n",
      "1/1 [==============================] - 0s 42ms/step\n",
      "White Percentage: 8.27%\n",
      "1/1 [==============================] - 0s 41ms/step\n"
     ]
    },
    {
     "name": "stderr",
     "output_type": "stream",
     "text": [
      "video 1/1 (674/901) D:\\815_CowDataChecking\\Honkawa\\2023-07-31\\03\\output_3fps\\20230731-030500-031000_10fps_3fps.mp4: 384x640 6 cows, 20.0ms\n",
      "WARNING  'Masks.masks' is deprecated. Use 'Masks.data' instead.\n"
     ]
    },
    {
     "name": "stdout",
     "output_type": "stream",
     "text": [
      "White Percentage: 26.63%\n",
      "1/1 [==============================] - 0s 33ms/step\n",
      "White Percentage: 25.77%\n",
      "1/1 [==============================] - 0s 50ms/step\n",
      "White Percentage: 2.97%\n",
      "1/1 [==============================] - 0s 40ms/step\n"
     ]
    },
    {
     "name": "stderr",
     "output_type": "stream",
     "text": [
      "video 1/1 (675/901) D:\\815_CowDataChecking\\Honkawa\\2023-07-31\\03\\output_3fps\\20230731-030500-031000_10fps_3fps.mp4: 384x640 6 cows, 26.3ms\n",
      "WARNING  'Masks.masks' is deprecated. Use 'Masks.data' instead.\n"
     ]
    },
    {
     "name": "stdout",
     "output_type": "stream",
     "text": [
      "White Percentage: 20.28%\n",
      "1/1 [==============================] - 0s 35ms/step\n",
      "White Percentage: 25.96%\n",
      "1/1 [==============================] - 0s 40ms/step\n",
      "White Percentage: 8.71%\n",
      "1/1 [==============================] - 0s 50ms/step\n"
     ]
    },
    {
     "name": "stderr",
     "output_type": "stream",
     "text": [
      "video 1/1 (676/901) D:\\815_CowDataChecking\\Honkawa\\2023-07-31\\03\\output_3fps\\20230731-030500-031000_10fps_3fps.mp4: 384x640 6 cows, 20.0ms\n",
      "WARNING  'Masks.masks' is deprecated. Use 'Masks.data' instead.\n"
     ]
    },
    {
     "name": "stdout",
     "output_type": "stream",
     "text": [
      "White Percentage: 24.67%\n",
      "1/1 [==============================] - 0s 31ms/step\n",
      "White Percentage: 24.78%\n",
      "1/1 [==============================] - 0s 45ms/step\n",
      "White Percentage: 0.12%\n",
      "1/1 [==============================] - 0s 40ms/step\n"
     ]
    },
    {
     "name": "stderr",
     "output_type": "stream",
     "text": [
      "video 1/1 (677/901) D:\\815_CowDataChecking\\Honkawa\\2023-07-31\\03\\output_3fps\\20230731-030500-031000_10fps_3fps.mp4: 384x640 6 cows, 23.6ms\n",
      "WARNING  'Masks.masks' is deprecated. Use 'Masks.data' instead.\n"
     ]
    },
    {
     "name": "stdout",
     "output_type": "stream",
     "text": [
      "White Percentage: 21.78%\n",
      "1/1 [==============================] - 0s 34ms/step\n",
      "White Percentage: 24.78%\n",
      "1/1 [==============================] - 0s 46ms/step\n",
      "White Percentage: 0.33%\n",
      "1/1 [==============================] - 0s 37ms/step\n"
     ]
    },
    {
     "name": "stderr",
     "output_type": "stream",
     "text": [
      "video 1/1 (678/901) D:\\815_CowDataChecking\\Honkawa\\2023-07-31\\03\\output_3fps\\20230731-030500-031000_10fps_3fps.mp4: 384x640 6 cows, 20.0ms\n",
      "WARNING  'Masks.masks' is deprecated. Use 'Masks.data' instead.\n"
     ]
    },
    {
     "name": "stdout",
     "output_type": "stream",
     "text": [
      "White Percentage: 24.97%\n",
      "1/1 [==============================] - 0s 36ms/step\n",
      "White Percentage: 25.34%\n",
      "1/1 [==============================] - 0s 46ms/step\n",
      "White Percentage: 0.11%\n",
      "1/1 [==============================] - 0s 40ms/step\n"
     ]
    },
    {
     "name": "stderr",
     "output_type": "stream",
     "text": [
      "video 1/1 (679/901) D:\\815_CowDataChecking\\Honkawa\\2023-07-31\\03\\output_3fps\\20230731-030500-031000_10fps_3fps.mp4: 384x640 6 cows, 30.6ms\n",
      "WARNING  'Masks.masks' is deprecated. Use 'Masks.data' instead.\n"
     ]
    },
    {
     "name": "stdout",
     "output_type": "stream",
     "text": [
      "White Percentage: 27.19%\n",
      "1/1 [==============================] - 0s 41ms/step\n",
      "White Percentage: 23.92%\n",
      "1/1 [==============================] - 0s 40ms/step\n",
      "White Percentage: 6.14%\n",
      "1/1 [==============================] - 0s 54ms/step\n",
      "White Percentage: 29.55%\n",
      "1/1 [==============================] - 0s 40ms/step\n"
     ]
    },
    {
     "name": "stderr",
     "output_type": "stream",
     "text": [
      "video 1/1 (680/901) D:\\815_CowDataChecking\\Honkawa\\2023-07-31\\03\\output_3fps\\20230731-030500-031000_10fps_3fps.mp4: 384x640 6 cows, 20.0ms\n",
      "WARNING  'Masks.masks' is deprecated. Use 'Masks.data' instead.\n"
     ]
    },
    {
     "name": "stdout",
     "output_type": "stream",
     "text": [
      "White Percentage: 19.58%\n",
      "[['ID', 'RANK1', 'RANK1_prob', 'RANK2', 'RANK2_prob', 'RANK3', 'RANK3_prob', 'RANK4', 'RANK4_prob', 'RANK5', 'RANK5_prob']]\n",
      "new cattle  xxxxxxxxxxxxxxxxxxxxx new cattle alert \n",
      "1/1 [==============================] - 0s 37ms/step\n",
      "White Percentage: 20.74%\n",
      "1/1 [==============================] - 0s 40ms/step\n",
      "White Percentage: 12.09%\n",
      "1/1 [==============================] - 0s 36ms/step\n",
      "White Percentage: 30.12%\n",
      "1/1 [==============================] - 0s 40ms/step\n"
     ]
    },
    {
     "name": "stderr",
     "output_type": "stream",
     "text": [
      "video 1/1 (681/901) D:\\815_CowDataChecking\\Honkawa\\2023-07-31\\03\\output_3fps\\20230731-030500-031000_10fps_3fps.mp4: 384x640 6 cows, 20.0ms\n",
      "WARNING  'Masks.masks' is deprecated. Use 'Masks.data' instead.\n"
     ]
    },
    {
     "name": "stdout",
     "output_type": "stream",
     "text": [
      "White Percentage: 20.58%\n",
      "1/1 [==============================] - 0s 34ms/step\n",
      "White Percentage: 15.73%\n",
      "1/1 [==============================] - 0s 40ms/step\n",
      "White Percentage: 10.17%\n",
      "1/1 [==============================] - 0s 40ms/step\n",
      "White Percentage: 37.09%\n",
      "1/1 [==============================] - 0s 41ms/step\n"
     ]
    },
    {
     "name": "stderr",
     "output_type": "stream",
     "text": [
      "video 1/1 (682/901) D:\\815_CowDataChecking\\Honkawa\\2023-07-31\\03\\output_3fps\\20230731-030500-031000_10fps_3fps.mp4: 384x640 6 cows, 20.0ms\n",
      "WARNING  'Masks.masks' is deprecated. Use 'Masks.data' instead.\n"
     ]
    },
    {
     "name": "stdout",
     "output_type": "stream",
     "text": [
      "White Percentage: 20.15%\n",
      "1/1 [==============================] - 0s 41ms/step\n",
      "White Percentage: 24.40%\n",
      "1/1 [==============================] - 0s 40ms/step\n",
      "White Percentage: 11.42%\n",
      "1/1 [==============================] - 0s 30ms/step\n",
      "White Percentage: 36.53%\n",
      "1/1 [==============================] - 0s 40ms/step\n"
     ]
    },
    {
     "name": "stderr",
     "output_type": "stream",
     "text": [
      "video 1/1 (683/901) D:\\815_CowDataChecking\\Honkawa\\2023-07-31\\03\\output_3fps\\20230731-030500-031000_10fps_3fps.mp4: 384x640 6 cows, 20.0ms\n",
      "WARNING  'Masks.masks' is deprecated. Use 'Masks.data' instead.\n"
     ]
    },
    {
     "name": "stdout",
     "output_type": "stream",
     "text": [
      "White Percentage: 20.02%\n",
      "1/1 [==============================] - 0s 34ms/step\n",
      "White Percentage: 24.93%\n",
      "1/1 [==============================] - 0s 47ms/step\n",
      "White Percentage: 9.69%\n",
      "1/1 [==============================] - 0s 50ms/step\n",
      "White Percentage: 35.28%\n",
      "1/1 [==============================] - 0s 42ms/step\n"
     ]
    },
    {
     "name": "stderr",
     "output_type": "stream",
     "text": [
      "video 1/1 (684/901) D:\\815_CowDataChecking\\Honkawa\\2023-07-31\\03\\output_3fps\\20230731-030500-031000_10fps_3fps.mp4: 384x640 6 cows, 20.0ms\n",
      "WARNING  'Masks.masks' is deprecated. Use 'Masks.data' instead.\n"
     ]
    },
    {
     "name": "stdout",
     "output_type": "stream",
     "text": [
      "White Percentage: 20.01%\n",
      "1/1 [==============================] - 0s 34ms/step\n",
      "White Percentage: 23.61%\n",
      "1/1 [==============================] - 0s 40ms/step\n",
      "White Percentage: 0.43%\n",
      "1/1 [==============================] - 0s 52ms/step\n",
      "White Percentage: 33.58%\n",
      "1/1 [==============================] - 0s 40ms/step\n"
     ]
    },
    {
     "name": "stderr",
     "output_type": "stream",
     "text": [
      "video 1/1 (685/901) D:\\815_CowDataChecking\\Honkawa\\2023-07-31\\03\\output_3fps\\20230731-030500-031000_10fps_3fps.mp4: 384x640 6 cows, 20.0ms\n",
      "WARNING  'Masks.masks' is deprecated. Use 'Masks.data' instead.\n"
     ]
    },
    {
     "name": "stdout",
     "output_type": "stream",
     "text": [
      "White Percentage: 20.34%\n",
      "1/1 [==============================] - 0s 44ms/step\n",
      "White Percentage: 24.38%\n",
      "1/1 [==============================] - 0s 40ms/step\n",
      "White Percentage: 9.79%\n",
      "1/1 [==============================] - 0s 40ms/step\n",
      "White Percentage: 27.65%\n",
      "1/1 [==============================] - 0s 44ms/step\n"
     ]
    },
    {
     "name": "stderr",
     "output_type": "stream",
     "text": [
      "video 1/1 (686/901) D:\\815_CowDataChecking\\Honkawa\\2023-07-31\\03\\output_3fps\\20230731-030500-031000_10fps_3fps.mp4: 384x640 6 cows, 15.6ms\n",
      "WARNING  'Masks.masks' is deprecated. Use 'Masks.data' instead.\n"
     ]
    },
    {
     "name": "stdout",
     "output_type": "stream",
     "text": [
      "White Percentage: 20.58%\n",
      "1/1 [==============================] - 0s 43ms/step\n",
      "White Percentage: 0.26%\n",
      "1/1 [==============================] - 0s 40ms/step\n",
      "White Percentage: 28.30%\n",
      "1/1 [==============================] - 0s 48ms/step\n"
     ]
    },
    {
     "name": "stderr",
     "output_type": "stream",
     "text": [
      "video 1/1 (687/901) D:\\815_CowDataChecking\\Honkawa\\2023-07-31\\03\\output_3fps\\20230731-030500-031000_10fps_3fps.mp4: 384x640 6 cows, 20.1ms\n",
      "WARNING  'Masks.masks' is deprecated. Use 'Masks.data' instead.\n"
     ]
    },
    {
     "name": "stdout",
     "output_type": "stream",
     "text": [
      "White Percentage: 20.77%\n",
      "1/1 [==============================] - 0s 38ms/step\n",
      "White Percentage: 5.97%\n",
      "1/1 [==============================] - 0s 41ms/step\n",
      "White Percentage: 17.34%\n",
      "1/1 [==============================] - 0s 50ms/step\n"
     ]
    },
    {
     "name": "stderr",
     "output_type": "stream",
     "text": [
      "video 1/1 (688/901) D:\\815_CowDataChecking\\Honkawa\\2023-07-31\\03\\output_3fps\\20230731-030500-031000_10fps_3fps.mp4: 384x640 6 cows, 16.3ms\n",
      "WARNING  'Masks.masks' is deprecated. Use 'Masks.data' instead.\n"
     ]
    },
    {
     "name": "stdout",
     "output_type": "stream",
     "text": [
      "White Percentage: 20.98%\n",
      "1/1 [==============================] - 0s 33ms/step\n",
      "White Percentage: 0.31%\n",
      "1/1 [==============================] - 0s 46ms/step\n",
      "White Percentage: 25.01%\n",
      "1/1 [==============================] - 0s 32ms/step\n"
     ]
    },
    {
     "name": "stderr",
     "output_type": "stream",
     "text": [
      "video 1/1 (689/901) D:\\815_CowDataChecking\\Honkawa\\2023-07-31\\03\\output_3fps\\20230731-030500-031000_10fps_3fps.mp4: 384x640 6 cows, 20.0ms\n",
      "WARNING  'Masks.masks' is deprecated. Use 'Masks.data' instead.\n"
     ]
    },
    {
     "name": "stdout",
     "output_type": "stream",
     "text": [
      "White Percentage: 20.88%\n",
      "1/1 [==============================] - 0s 41ms/step\n",
      "White Percentage: 0.51%\n",
      "1/1 [==============================] - 0s 36ms/step\n",
      "White Percentage: 19.69%\n",
      "1/1 [==============================] - 0s 40ms/step\n"
     ]
    },
    {
     "name": "stderr",
     "output_type": "stream",
     "text": [
      "video 1/1 (690/901) D:\\815_CowDataChecking\\Honkawa\\2023-07-31\\03\\output_3fps\\20230731-030500-031000_10fps_3fps.mp4: 384x640 7 cows, 20.0ms\n",
      "WARNING  'Masks.masks' is deprecated. Use 'Masks.data' instead.\n"
     ]
    },
    {
     "name": "stdout",
     "output_type": "stream",
     "text": [
      "White Percentage: 21.36%\n",
      "1/1 [==============================] - 0s 32ms/step\n",
      "White Percentage: 2.74%\n",
      "1/1 [==============================] - 0s 40ms/step\n",
      "White Percentage: 18.53%\n",
      "1/1 [==============================] - 0s 50ms/step\n"
     ]
    },
    {
     "name": "stderr",
     "output_type": "stream",
     "text": [
      "video 1/1 (691/901) D:\\815_CowDataChecking\\Honkawa\\2023-07-31\\03\\output_3fps\\20230731-030500-031000_10fps_3fps.mp4: 384x640 7 cows, 21.1ms\n",
      "WARNING  'Masks.masks' is deprecated. Use 'Masks.data' instead.\n"
     ]
    },
    {
     "name": "stdout",
     "output_type": "stream",
     "text": [
      "White Percentage: 20.70%\n",
      "1/1 [==============================] - 0s 41ms/step\n",
      "White Percentage: 0.59%\n",
      "1/1 [==============================] - 0s 38ms/step\n",
      "White Percentage: 20.89%\n",
      "1/1 [==============================] - 0s 30ms/step\n"
     ]
    },
    {
     "name": "stderr",
     "output_type": "stream",
     "text": [
      "video 1/1 (692/901) D:\\815_CowDataChecking\\Honkawa\\2023-07-31\\03\\output_3fps\\20230731-030500-031000_10fps_3fps.mp4: 384x640 7 cows, 20.0ms\n",
      "WARNING  'Masks.masks' is deprecated. Use 'Masks.data' instead.\n"
     ]
    },
    {
     "name": "stdout",
     "output_type": "stream",
     "text": [
      "White Percentage: 21.56%\n",
      "1/1 [==============================] - 0s 31ms/step\n",
      "White Percentage: 0.33%\n",
      "1/1 [==============================] - 0s 38ms/step\n",
      "White Percentage: 16.90%\n",
      "1/1 [==============================] - 0s 40ms/step\n"
     ]
    },
    {
     "name": "stderr",
     "output_type": "stream",
     "text": [
      "video 1/1 (693/901) D:\\815_CowDataChecking\\Honkawa\\2023-07-31\\03\\output_3fps\\20230731-030500-031000_10fps_3fps.mp4: 384x640 7 cows, 24.0ms\n",
      "WARNING  'Masks.masks' is deprecated. Use 'Masks.data' instead.\n"
     ]
    },
    {
     "name": "stdout",
     "output_type": "stream",
     "text": [
      "White Percentage: 21.36%\n",
      "1/1 [==============================] - 0s 44ms/step\n",
      "White Percentage: 0.30%\n",
      "1/1 [==============================] - 0s 44ms/step\n",
      "White Percentage: 25.19%\n",
      "1/1 [==============================] - 0s 40ms/step\n"
     ]
    },
    {
     "name": "stderr",
     "output_type": "stream",
     "text": [
      "video 1/1 (694/901) D:\\815_CowDataChecking\\Honkawa\\2023-07-31\\03\\output_3fps\\20230731-030500-031000_10fps_3fps.mp4: 384x640 7 cows, 20.1ms\n",
      "WARNING  'Masks.masks' is deprecated. Use 'Masks.data' instead.\n"
     ]
    },
    {
     "name": "stdout",
     "output_type": "stream",
     "text": [
      "White Percentage: 22.66%\n",
      "1/1 [==============================] - 0s 42ms/step\n",
      "White Percentage: 0.18%\n",
      "1/1 [==============================] - 0s 40ms/step\n",
      "White Percentage: 23.88%\n",
      "1/1 [==============================] - 0s 40ms/step\n"
     ]
    },
    {
     "name": "stderr",
     "output_type": "stream",
     "text": [
      "video 1/1 (695/901) D:\\815_CowDataChecking\\Honkawa\\2023-07-31\\03\\output_3fps\\20230731-030500-031000_10fps_3fps.mp4: 384x640 7 cows, 20.2ms\n",
      "WARNING  'Masks.masks' is deprecated. Use 'Masks.data' instead.\n"
     ]
    },
    {
     "name": "stdout",
     "output_type": "stream",
     "text": [
      "White Percentage: 22.81%\n",
      "1/1 [==============================] - 0s 43ms/step\n",
      "White Percentage: 0.43%\n",
      "1/1 [==============================] - 0s 40ms/step\n",
      "White Percentage: 24.05%\n",
      "1/1 [==============================] - 0s 40ms/step\n"
     ]
    },
    {
     "name": "stderr",
     "output_type": "stream",
     "text": [
      "video 1/1 (696/901) D:\\815_CowDataChecking\\Honkawa\\2023-07-31\\03\\output_3fps\\20230731-030500-031000_10fps_3fps.mp4: 384x640 7 cows, 24.3ms\n",
      "WARNING  'Masks.masks' is deprecated. Use 'Masks.data' instead.\n"
     ]
    },
    {
     "name": "stdout",
     "output_type": "stream",
     "text": [
      "White Percentage: 21.76%\n",
      "1/1 [==============================] - 0s 39ms/step\n",
      "White Percentage: 0.25%\n",
      "1/1 [==============================] - 0s 40ms/step\n",
      "White Percentage: 23.41%\n",
      "1/1 [==============================] - 0s 54ms/step\n"
     ]
    },
    {
     "name": "stderr",
     "output_type": "stream",
     "text": [
      "video 1/1 (697/901) D:\\815_CowDataChecking\\Honkawa\\2023-07-31\\03\\output_3fps\\20230731-030500-031000_10fps_3fps.mp4: 384x640 7 cows, 20.0ms\n",
      "WARNING  'Masks.masks' is deprecated. Use 'Masks.data' instead.\n"
     ]
    },
    {
     "name": "stdout",
     "output_type": "stream",
     "text": [
      "White Percentage: 22.68%\n",
      "1/1 [==============================] - 0s 38ms/step\n",
      "White Percentage: 0.37%\n",
      "1/1 [==============================] - 0s 40ms/step\n",
      "White Percentage: 23.51%\n",
      "1/1 [==============================] - 0s 40ms/step\n"
     ]
    },
    {
     "name": "stderr",
     "output_type": "stream",
     "text": [
      "video 1/1 (698/901) D:\\815_CowDataChecking\\Honkawa\\2023-07-31\\03\\output_3fps\\20230731-030500-031000_10fps_3fps.mp4: 384x640 7 cows, 20.0ms\n",
      "WARNING  'Masks.masks' is deprecated. Use 'Masks.data' instead.\n"
     ]
    },
    {
     "name": "stdout",
     "output_type": "stream",
     "text": [
      "White Percentage: 22.94%\n",
      "1/1 [==============================] - 0s 32ms/step\n",
      "White Percentage: 0.09%\n",
      "1/1 [==============================] - 0s 40ms/step\n",
      "White Percentage: 24.74%\n",
      "1/1 [==============================] - 0s 40ms/step\n"
     ]
    },
    {
     "name": "stderr",
     "output_type": "stream",
     "text": [
      "video 1/1 (699/901) D:\\815_CowDataChecking\\Honkawa\\2023-07-31\\03\\output_3fps\\20230731-030500-031000_10fps_3fps.mp4: 384x640 6 cows, 20.0ms\n",
      "WARNING  'Masks.masks' is deprecated. Use 'Masks.data' instead.\n"
     ]
    },
    {
     "name": "stdout",
     "output_type": "stream",
     "text": [
      "White Percentage: 23.61%\n",
      "1/1 [==============================] - 0s 37ms/step\n",
      "White Percentage: 0.11%\n",
      "1/1 [==============================] - 0s 40ms/step\n",
      "White Percentage: 26.54%\n",
      "1/1 [==============================] - 0s 29ms/step\n"
     ]
    },
    {
     "name": "stderr",
     "output_type": "stream",
     "text": [
      "video 1/1 (700/901) D:\\815_CowDataChecking\\Honkawa\\2023-07-31\\03\\output_3fps\\20230731-030500-031000_10fps_3fps.mp4: 384x640 6 cows, 20.0ms\n",
      "WARNING  'Masks.masks' is deprecated. Use 'Masks.data' instead.\n"
     ]
    },
    {
     "name": "stdout",
     "output_type": "stream",
     "text": [
      "White Percentage: 22.70%\n",
      "1/1 [==============================] - 0s 38ms/step\n",
      "White Percentage: 0.10%\n",
      "1/1 [==============================] - 0s 33ms/step\n",
      "White Percentage: 27.47%\n",
      "1/1 [==============================] - 0s 33ms/step\n"
     ]
    },
    {
     "name": "stderr",
     "output_type": "stream",
     "text": [
      "video 1/1 (701/901) D:\\815_CowDataChecking\\Honkawa\\2023-07-31\\03\\output_3fps\\20230731-030500-031000_10fps_3fps.mp4: 384x640 6 cows, 16.0ms\n",
      "WARNING  'Masks.masks' is deprecated. Use 'Masks.data' instead.\n"
     ]
    },
    {
     "name": "stdout",
     "output_type": "stream",
     "text": [
      "White Percentage: 23.29%\n",
      "1/1 [==============================] - 0s 36ms/step\n",
      "White Percentage: 0.18%\n",
      "1/1 [==============================] - 0s 40ms/step\n",
      "White Percentage: 24.00%\n",
      "1/1 [==============================] - 0s 40ms/step\n"
     ]
    },
    {
     "name": "stderr",
     "output_type": "stream",
     "text": [
      "video 1/1 (702/901) D:\\815_CowDataChecking\\Honkawa\\2023-07-31\\03\\output_3fps\\20230731-030500-031000_10fps_3fps.mp4: 384x640 6 cows, 19.6ms\n",
      "WARNING  'Masks.masks' is deprecated. Use 'Masks.data' instead.\n"
     ]
    },
    {
     "name": "stdout",
     "output_type": "stream",
     "text": [
      "White Percentage: 23.23%\n",
      "1/1 [==============================] - 0s 33ms/step\n",
      "White Percentage: 0.12%\n",
      "1/1 [==============================] - 0s 48ms/step\n",
      "White Percentage: 25.90%\n",
      "1/1 [==============================] - 0s 40ms/step\n"
     ]
    },
    {
     "name": "stderr",
     "output_type": "stream",
     "text": [
      "video 1/1 (703/901) D:\\815_CowDataChecking\\Honkawa\\2023-07-31\\03\\output_3fps\\20230731-030500-031000_10fps_3fps.mp4: 384x640 6 cows, 20.0ms\n",
      "WARNING  'Masks.masks' is deprecated. Use 'Masks.data' instead.\n"
     ]
    },
    {
     "name": "stdout",
     "output_type": "stream",
     "text": [
      "White Percentage: 21.83%\n",
      "1/1 [==============================] - 0s 38ms/step\n",
      "White Percentage: 0.11%\n",
      "1/1 [==============================] - 0s 50ms/step\n",
      "White Percentage: 28.81%\n",
      "1/1 [==============================] - 0s 39ms/step\n"
     ]
    },
    {
     "name": "stderr",
     "output_type": "stream",
     "text": [
      "video 1/1 (704/901) D:\\815_CowDataChecking\\Honkawa\\2023-07-31\\03\\output_3fps\\20230731-030500-031000_10fps_3fps.mp4: 384x640 6 cows, 24.1ms\n",
      "WARNING  'Masks.masks' is deprecated. Use 'Masks.data' instead.\n"
     ]
    },
    {
     "name": "stdout",
     "output_type": "stream",
     "text": [
      "White Percentage: 21.13%\n",
      "1/1 [==============================] - 0s 41ms/step\n",
      "White Percentage: 0.09%\n",
      "1/1 [==============================] - 0s 35ms/step\n",
      "White Percentage: 32.27%\n",
      "1/1 [==============================] - 0s 40ms/step\n"
     ]
    },
    {
     "name": "stderr",
     "output_type": "stream",
     "text": [
      "video 1/1 (705/901) D:\\815_CowDataChecking\\Honkawa\\2023-07-31\\03\\output_3fps\\20230731-030500-031000_10fps_3fps.mp4: 384x640 6 cows, 20.1ms\n",
      "WARNING  'Masks.masks' is deprecated. Use 'Masks.data' instead.\n"
     ]
    },
    {
     "name": "stdout",
     "output_type": "stream",
     "text": [
      "White Percentage: 21.39%\n",
      "1/1 [==============================] - 0s 41ms/step\n",
      "White Percentage: 0.05%\n",
      "1/1 [==============================] - 0s 39ms/step\n",
      "White Percentage: 26.50%\n",
      "1/1 [==============================] - 0s 40ms/step\n"
     ]
    },
    {
     "name": "stderr",
     "output_type": "stream",
     "text": [
      "video 1/1 (706/901) D:\\815_CowDataChecking\\Honkawa\\2023-07-31\\03\\output_3fps\\20230731-030500-031000_10fps_3fps.mp4: 384x640 6 cows, 20.1ms\n",
      "WARNING  'Masks.masks' is deprecated. Use 'Masks.data' instead.\n"
     ]
    },
    {
     "name": "stdout",
     "output_type": "stream",
     "text": [
      "White Percentage: 19.52%\n",
      "1/1 [==============================] - 0s 31ms/step\n",
      "White Percentage: 0.04%\n",
      "1/1 [==============================] - 0s 30ms/step\n",
      "White Percentage: 36.44%\n",
      "1/1 [==============================] - 0s 30ms/step\n"
     ]
    },
    {
     "name": "stderr",
     "output_type": "stream",
     "text": [
      "video 1/1 (707/901) D:\\815_CowDataChecking\\Honkawa\\2023-07-31\\03\\output_3fps\\20230731-030500-031000_10fps_3fps.mp4: 384x640 6 cows, 26.4ms\n",
      "WARNING  'Masks.masks' is deprecated. Use 'Masks.data' instead.\n"
     ]
    },
    {
     "name": "stdout",
     "output_type": "stream",
     "text": [
      "White Percentage: 19.62%\n",
      "1/1 [==============================] - 0s 34ms/step\n",
      "White Percentage: 0.09%\n",
      "1/1 [==============================] - 0s 50ms/step\n",
      "White Percentage: 12.87%\n",
      "1/1 [==============================] - 0s 51ms/step\n",
      "White Percentage: 21.22%\n",
      "1/1 [==============================] - 0s 50ms/step\n"
     ]
    },
    {
     "name": "stderr",
     "output_type": "stream",
     "text": [
      "video 1/1 (708/901) D:\\815_CowDataChecking\\Honkawa\\2023-07-31\\03\\output_3fps\\20230731-030500-031000_10fps_3fps.mp4: 384x640 6 cows, 18.0ms\n",
      "WARNING  'Masks.masks' is deprecated. Use 'Masks.data' instead.\n"
     ]
    },
    {
     "name": "stdout",
     "output_type": "stream",
     "text": [
      "White Percentage: 10.43%\n",
      "[['ID', 'RANK1', 'RANK1_prob', 'RANK2', 'RANK2_prob', 'RANK3', 'RANK3_prob', 'RANK4', 'RANK4_prob', 'RANK5', 'RANK5_prob']]\n",
      "new cattle  xxxxxxxxxxxxxxxxxxxxx new cattle alert \n",
      "1/1 [==============================] - 0s 33ms/step\n",
      "White Percentage: 0.06%\n",
      "1/1 [==============================] - 0s 50ms/step\n",
      "White Percentage: 26.67%\n",
      "1/1 [==============================] - 0s 50ms/step\n",
      "White Percentage: 21.30%\n",
      "1/1 [==============================] - 0s 50ms/step\n"
     ]
    },
    {
     "name": "stderr",
     "output_type": "stream",
     "text": [
      "video 1/1 (709/901) D:\\815_CowDataChecking\\Honkawa\\2023-07-31\\03\\output_3fps\\20230731-030500-031000_10fps_3fps.mp4: 384x640 6 cows, 29.3ms\n",
      "WARNING  'Masks.masks' is deprecated. Use 'Masks.data' instead.\n"
     ]
    },
    {
     "name": "stdout",
     "output_type": "stream",
     "text": [
      "White Percentage: 10.75%\n",
      "1/1 [==============================] - 0s 32ms/step\n",
      "White Percentage: 0.12%\n",
      "1/1 [==============================] - 0s 40ms/step\n",
      "White Percentage: 24.76%\n",
      "1/1 [==============================] - 0s 43ms/step\n",
      "White Percentage: 18.40%\n",
      "1/1 [==============================] - 0s 40ms/step\n"
     ]
    },
    {
     "name": "stderr",
     "output_type": "stream",
     "text": [
      "video 1/1 (710/901) D:\\815_CowDataChecking\\Honkawa\\2023-07-31\\03\\output_3fps\\20230731-030500-031000_10fps_3fps.mp4: 384x640 6 cows, 20.1ms\n",
      "WARNING  'Masks.masks' is deprecated. Use 'Masks.data' instead.\n"
     ]
    },
    {
     "name": "stdout",
     "output_type": "stream",
     "text": [
      "White Percentage: 11.02%\n",
      "1/1 [==============================] - 0s 37ms/step\n",
      "White Percentage: 0.12%\n",
      "1/1 [==============================] - 0s 40ms/step\n",
      "White Percentage: 22.97%\n",
      "1/1 [==============================] - 0s 40ms/step\n",
      "White Percentage: 18.30%\n",
      "1/1 [==============================] - 0s 35ms/step\n"
     ]
    },
    {
     "name": "stderr",
     "output_type": "stream",
     "text": [
      "video 1/1 (711/901) D:\\815_CowDataChecking\\Honkawa\\2023-07-31\\03\\output_3fps\\20230731-030500-031000_10fps_3fps.mp4: 384x640 6 cows, 20.0ms\n",
      "WARNING  'Masks.masks' is deprecated. Use 'Masks.data' instead.\n"
     ]
    },
    {
     "name": "stdout",
     "output_type": "stream",
     "text": [
      "White Percentage: 11.32%\n",
      "1/1 [==============================] - 0s 36ms/step\n",
      "White Percentage: 0.14%\n",
      "1/1 [==============================] - 0s 50ms/step\n",
      "White Percentage: 22.94%\n",
      "1/1 [==============================] - 0s 40ms/step\n",
      "White Percentage: 18.43%\n",
      "1/1 [==============================] - 0s 30ms/step\n"
     ]
    },
    {
     "name": "stderr",
     "output_type": "stream",
     "text": [
      "video 1/1 (712/901) D:\\815_CowDataChecking\\Honkawa\\2023-07-31\\03\\output_3fps\\20230731-030500-031000_10fps_3fps.mp4: 384x640 6 cows, 20.0ms\n",
      "WARNING  'Masks.masks' is deprecated. Use 'Masks.data' instead.\n"
     ]
    },
    {
     "name": "stdout",
     "output_type": "stream",
     "text": [
      "White Percentage: 10.95%\n",
      "1/1 [==============================] - 0s 28ms/step\n",
      "White Percentage: 0.12%\n",
      "1/1 [==============================] - 0s 42ms/step\n",
      "White Percentage: 21.97%\n",
      "1/1 [==============================] - 0s 32ms/step\n",
      "White Percentage: 19.87%\n",
      "1/1 [==============================] - 0s 40ms/step\n"
     ]
    },
    {
     "name": "stderr",
     "output_type": "stream",
     "text": [
      "video 1/1 (713/901) D:\\815_CowDataChecking\\Honkawa\\2023-07-31\\03\\output_3fps\\20230731-030500-031000_10fps_3fps.mp4: 384x640 6 cows, 20.0ms\n",
      "WARNING  'Masks.masks' is deprecated. Use 'Masks.data' instead.\n"
     ]
    },
    {
     "name": "stdout",
     "output_type": "stream",
     "text": [
      "White Percentage: 11.07%\n",
      "1/1 [==============================] - 0s 38ms/step\n",
      "White Percentage: 0.57%\n",
      "1/1 [==============================] - 0s 42ms/step\n",
      "White Percentage: 19.76%\n",
      "1/1 [==============================] - 0s 30ms/step\n",
      "White Percentage: 20.13%\n",
      "1/1 [==============================] - 0s 30ms/step\n"
     ]
    },
    {
     "name": "stderr",
     "output_type": "stream",
     "text": [
      "video 1/1 (714/901) D:\\815_CowDataChecking\\Honkawa\\2023-07-31\\03\\output_3fps\\20230731-030500-031000_10fps_3fps.mp4: 384x640 6 cows, 20.1ms\n",
      "WARNING  'Masks.masks' is deprecated. Use 'Masks.data' instead.\n"
     ]
    },
    {
     "name": "stdout",
     "output_type": "stream",
     "text": [
      "White Percentage: 11.01%\n",
      "1/1 [==============================] - 0s 35ms/step\n",
      "White Percentage: 0.09%\n",
      "1/1 [==============================] - 0s 34ms/step\n",
      "White Percentage: 19.13%\n",
      "1/1 [==============================] - 0s 40ms/step\n",
      "White Percentage: 23.17%\n",
      "1/1 [==============================] - 0s 30ms/step\n"
     ]
    },
    {
     "name": "stderr",
     "output_type": "stream",
     "text": [
      "video 1/1 (715/901) D:\\815_CowDataChecking\\Honkawa\\2023-07-31\\03\\output_3fps\\20230731-030500-031000_10fps_3fps.mp4: 384x640 6 cows, 20.0ms\n",
      "WARNING  'Masks.masks' is deprecated. Use 'Masks.data' instead.\n"
     ]
    },
    {
     "name": "stdout",
     "output_type": "stream",
     "text": [
      "White Percentage: 11.29%\n",
      "1/1 [==============================] - 0s 38ms/step\n",
      "White Percentage: 0.33%\n",
      "1/1 [==============================] - 0s 50ms/step\n",
      "White Percentage: 17.63%\n",
      "1/1 [==============================] - 0s 47ms/step\n",
      "White Percentage: 22.26%\n",
      "1/1 [==============================] - 0s 40ms/step\n"
     ]
    },
    {
     "name": "stderr",
     "output_type": "stream",
     "text": [
      "video 1/1 (716/901) D:\\815_CowDataChecking\\Honkawa\\2023-07-31\\03\\output_3fps\\20230731-030500-031000_10fps_3fps.mp4: 384x640 6 cows, 20.0ms\n",
      "WARNING  'Masks.masks' is deprecated. Use 'Masks.data' instead.\n"
     ]
    },
    {
     "name": "stdout",
     "output_type": "stream",
     "text": [
      "White Percentage: 10.89%\n",
      "1/1 [==============================] - 0s 30ms/step\n",
      "White Percentage: 0.15%\n",
      "1/1 [==============================] - 0s 30ms/step\n",
      "White Percentage: 21.12%\n",
      "1/1 [==============================] - 0s 42ms/step\n",
      "White Percentage: 22.39%\n",
      "1/1 [==============================] - 0s 46ms/step\n"
     ]
    },
    {
     "name": "stderr",
     "output_type": "stream",
     "text": [
      "video 1/1 (717/901) D:\\815_CowDataChecking\\Honkawa\\2023-07-31\\03\\output_3fps\\20230731-030500-031000_10fps_3fps.mp4: 384x640 6 cows, 20.0ms\n",
      "WARNING  'Masks.masks' is deprecated. Use 'Masks.data' instead.\n"
     ]
    },
    {
     "name": "stdout",
     "output_type": "stream",
     "text": [
      "White Percentage: 11.17%\n",
      "1/1 [==============================] - 0s 33ms/step\n",
      "White Percentage: 22.90%\n",
      "1/1 [==============================] - 0s 40ms/step\n",
      "White Percentage: 23.01%\n",
      "1/1 [==============================] - 0s 35ms/step\n"
     ]
    },
    {
     "name": "stderr",
     "output_type": "stream",
     "text": [
      "video 1/1 (718/901) D:\\815_CowDataChecking\\Honkawa\\2023-07-31\\03\\output_3fps\\20230731-030500-031000_10fps_3fps.mp4: 384x640 6 cows, 17.1ms\n",
      "WARNING  'Masks.masks' is deprecated. Use 'Masks.data' instead.\n"
     ]
    },
    {
     "name": "stdout",
     "output_type": "stream",
     "text": [
      "White Percentage: 11.55%\n",
      "1/1 [==============================] - 0s 38ms/step\n",
      "White Percentage: 21.64%\n",
      "1/1 [==============================] - 0s 30ms/step\n",
      "White Percentage: 19.03%\n",
      "1/1 [==============================] - 0s 41ms/step\n"
     ]
    },
    {
     "name": "stderr",
     "output_type": "stream",
     "text": [
      "video 1/1 (719/901) D:\\815_CowDataChecking\\Honkawa\\2023-07-31\\03\\output_3fps\\20230731-030500-031000_10fps_3fps.mp4: 384x640 6 cows, 20.0ms\n",
      "WARNING  'Masks.masks' is deprecated. Use 'Masks.data' instead.\n"
     ]
    },
    {
     "name": "stdout",
     "output_type": "stream",
     "text": [
      "White Percentage: 11.29%\n",
      "1/1 [==============================] - 0s 38ms/step\n",
      "White Percentage: 23.14%\n",
      "1/1 [==============================] - 0s 43ms/step\n",
      "White Percentage: 17.16%\n",
      "1/1 [==============================] - 0s 40ms/step\n"
     ]
    },
    {
     "name": "stderr",
     "output_type": "stream",
     "text": [
      "video 1/1 (720/901) D:\\815_CowDataChecking\\Honkawa\\2023-07-31\\03\\output_3fps\\20230731-030500-031000_10fps_3fps.mp4: 384x640 6 cows, 30.0ms\n",
      "WARNING  'Masks.masks' is deprecated. Use 'Masks.data' instead.\n"
     ]
    },
    {
     "name": "stdout",
     "output_type": "stream",
     "text": [
      "White Percentage: 11.90%\n",
      "1/1 [==============================] - 0s 31ms/step\n",
      "White Percentage: 25.58%\n",
      "1/1 [==============================] - 0s 40ms/step\n",
      "White Percentage: 19.51%\n",
      "1/1 [==============================] - 0s 30ms/step\n"
     ]
    },
    {
     "name": "stderr",
     "output_type": "stream",
     "text": [
      "video 1/1 (721/901) D:\\815_CowDataChecking\\Honkawa\\2023-07-31\\03\\output_3fps\\20230731-030500-031000_10fps_3fps.mp4: 384x640 6 cows, 20.0ms\n",
      "WARNING  'Masks.masks' is deprecated. Use 'Masks.data' instead.\n"
     ]
    },
    {
     "name": "stdout",
     "output_type": "stream",
     "text": [
      "White Percentage: 12.56%\n",
      "1/1 [==============================] - 0s 40ms/step\n",
      "White Percentage: 25.99%\n",
      "1/1 [==============================] - 0s 40ms/step\n",
      "White Percentage: 18.48%\n",
      "1/1 [==============================] - 0s 40ms/step\n"
     ]
    },
    {
     "name": "stderr",
     "output_type": "stream",
     "text": [
      "video 1/1 (722/901) D:\\815_CowDataChecking\\Honkawa\\2023-07-31\\03\\output_3fps\\20230731-030500-031000_10fps_3fps.mp4: 384x640 7 cows, 21.3ms\n",
      "WARNING  'Masks.masks' is deprecated. Use 'Masks.data' instead.\n"
     ]
    },
    {
     "name": "stdout",
     "output_type": "stream",
     "text": [
      "White Percentage: 12.48%\n",
      "1/1 [==============================] - 0s 43ms/step\n",
      "White Percentage: 25.60%\n",
      "1/1 [==============================] - 0s 40ms/step\n",
      "White Percentage: 16.63%\n",
      "1/1 [==============================] - 0s 40ms/step\n"
     ]
    },
    {
     "name": "stderr",
     "output_type": "stream",
     "text": [
      "video 1/1 (723/901) D:\\815_CowDataChecking\\Honkawa\\2023-07-31\\03\\output_3fps\\20230731-030500-031000_10fps_3fps.mp4: 384x640 6 cows, 26.2ms\n",
      "WARNING  'Masks.masks' is deprecated. Use 'Masks.data' instead.\n"
     ]
    },
    {
     "name": "stdout",
     "output_type": "stream",
     "text": [
      "White Percentage: 12.51%\n",
      "1/1 [==============================] - 0s 42ms/step\n",
      "White Percentage: 26.80%\n",
      "1/1 [==============================] - 0s 50ms/step\n",
      "White Percentage: 12.44%\n",
      "1/1 [==============================] - 0s 36ms/step\n"
     ]
    },
    {
     "name": "stderr",
     "output_type": "stream",
     "text": [
      "video 1/1 (724/901) D:\\815_CowDataChecking\\Honkawa\\2023-07-31\\03\\output_3fps\\20230731-030500-031000_10fps_3fps.mp4: 384x640 6 cows, 29.0ms\n",
      "WARNING  'Masks.masks' is deprecated. Use 'Masks.data' instead.\n"
     ]
    },
    {
     "name": "stdout",
     "output_type": "stream",
     "text": [
      "White Percentage: 12.55%\n",
      "1/1 [==============================] - 0s 35ms/step\n",
      "White Percentage: 30.24%\n",
      "1/1 [==============================] - 0s 40ms/step\n",
      "White Percentage: 11.30%\n",
      "1/1 [==============================] - 0s 50ms/step\n"
     ]
    },
    {
     "name": "stderr",
     "output_type": "stream",
     "text": [
      "video 1/1 (725/901) D:\\815_CowDataChecking\\Honkawa\\2023-07-31\\03\\output_3fps\\20230731-030500-031000_10fps_3fps.mp4: 384x640 6 cows, 20.0ms\n",
      "WARNING  'Masks.masks' is deprecated. Use 'Masks.data' instead.\n"
     ]
    },
    {
     "name": "stdout",
     "output_type": "stream",
     "text": [
      "White Percentage: 12.62%\n",
      "1/1 [==============================] - 0s 36ms/step\n",
      "White Percentage: 27.90%\n",
      "1/1 [==============================] - 0s 38ms/step\n",
      "White Percentage: 11.94%\n",
      "1/1 [==============================] - 0s 30ms/step\n"
     ]
    },
    {
     "name": "stderr",
     "output_type": "stream",
     "text": [
      "video 1/1 (726/901) D:\\815_CowDataChecking\\Honkawa\\2023-07-31\\03\\output_3fps\\20230731-030500-031000_10fps_3fps.mp4: 384x640 7 cows, 21.0ms\n",
      "WARNING  'Masks.masks' is deprecated. Use 'Masks.data' instead.\n"
     ]
    },
    {
     "name": "stdout",
     "output_type": "stream",
     "text": [
      "White Percentage: 12.21%\n",
      "1/1 [==============================] - 0s 40ms/step\n",
      "White Percentage: 30.77%\n",
      "1/1 [==============================] - 0s 40ms/step\n",
      "White Percentage: 10.15%\n",
      "1/1 [==============================] - 0s 40ms/step\n"
     ]
    },
    {
     "name": "stderr",
     "output_type": "stream",
     "text": [
      "video 1/1 (727/901) D:\\815_CowDataChecking\\Honkawa\\2023-07-31\\03\\output_3fps\\20230731-030500-031000_10fps_3fps.mp4: 384x640 7 cows, 20.0ms\n",
      "WARNING  'Masks.masks' is deprecated. Use 'Masks.data' instead.\n"
     ]
    },
    {
     "name": "stdout",
     "output_type": "stream",
     "text": [
      "White Percentage: 12.62%\n",
      "1/1 [==============================] - 0s 48ms/step\n",
      "White Percentage: 30.17%\n",
      "1/1 [==============================] - 0s 40ms/step\n",
      "White Percentage: 9.50%\n",
      "1/1 [==============================] - 0s 31ms/step\n"
     ]
    },
    {
     "name": "stderr",
     "output_type": "stream",
     "text": [
      "video 1/1 (728/901) D:\\815_CowDataChecking\\Honkawa\\2023-07-31\\03\\output_3fps\\20230731-030500-031000_10fps_3fps.mp4: 384x640 7 cows, 30.2ms\n",
      "WARNING  'Masks.masks' is deprecated. Use 'Masks.data' instead.\n"
     ]
    },
    {
     "name": "stdout",
     "output_type": "stream",
     "text": [
      "White Percentage: 12.58%\n",
      "1/1 [==============================] - 0s 42ms/step\n",
      "White Percentage: 29.94%\n",
      "1/1 [==============================] - 0s 40ms/step\n",
      "White Percentage: 8.25%\n",
      "1/1 [==============================] - 0s 30ms/step\n"
     ]
    },
    {
     "name": "stderr",
     "output_type": "stream",
     "text": [
      "video 1/1 (729/901) D:\\815_CowDataChecking\\Honkawa\\2023-07-31\\03\\output_3fps\\20230731-030500-031000_10fps_3fps.mp4: 384x640 7 cows, 20.0ms\n",
      "WARNING  'Masks.masks' is deprecated. Use 'Masks.data' instead.\n"
     ]
    },
    {
     "name": "stdout",
     "output_type": "stream",
     "text": [
      "White Percentage: 13.10%\n",
      "1/1 [==============================] - 0s 44ms/step\n",
      "White Percentage: 30.03%\n",
      "1/1 [==============================] - 0s 30ms/step\n",
      "White Percentage: 9.49%\n",
      "1/1 [==============================] - 0s 35ms/step\n"
     ]
    },
    {
     "name": "stderr",
     "output_type": "stream",
     "text": [
      "video 1/1 (730/901) D:\\815_CowDataChecking\\Honkawa\\2023-07-31\\03\\output_3fps\\20230731-030500-031000_10fps_3fps.mp4: 384x640 6 cows, 20.1ms\n",
      "WARNING  'Masks.masks' is deprecated. Use 'Masks.data' instead.\n"
     ]
    },
    {
     "name": "stdout",
     "output_type": "stream",
     "text": [
      "White Percentage: 13.07%\n",
      "1/1 [==============================] - 0s 40ms/step\n",
      "White Percentage: 27.57%\n",
      "1/1 [==============================] - 0s 40ms/step\n",
      "White Percentage: 4.70%\n",
      "1/1 [==============================] - 0s 40ms/step\n"
     ]
    },
    {
     "name": "stderr",
     "output_type": "stream",
     "text": [
      "video 1/1 (731/901) D:\\815_CowDataChecking\\Honkawa\\2023-07-31\\03\\output_3fps\\20230731-030500-031000_10fps_3fps.mp4: 384x640 6 cows, 20.0ms\n",
      "WARNING  'Masks.masks' is deprecated. Use 'Masks.data' instead.\n"
     ]
    },
    {
     "name": "stdout",
     "output_type": "stream",
     "text": [
      "White Percentage: 13.41%\n",
      "1/1 [==============================] - 0s 36ms/step\n",
      "White Percentage: 27.37%\n",
      "1/1 [==============================] - 0s 39ms/step\n",
      "White Percentage: 10.48%\n",
      "1/1 [==============================] - 0s 45ms/step\n"
     ]
    },
    {
     "name": "stderr",
     "output_type": "stream",
     "text": [
      "video 1/1 (732/901) D:\\815_CowDataChecking\\Honkawa\\2023-07-31\\03\\output_3fps\\20230731-030500-031000_10fps_3fps.mp4: 384x640 6 cows, 17.9ms\n",
      "WARNING  'Masks.masks' is deprecated. Use 'Masks.data' instead.\n"
     ]
    },
    {
     "name": "stdout",
     "output_type": "stream",
     "text": [
      "White Percentage: 13.10%\n",
      "1/1 [==============================] - 0s 30ms/step\n",
      "White Percentage: 28.38%\n",
      "1/1 [==============================] - 0s 40ms/step\n",
      "White Percentage: 10.64%\n",
      "1/1 [==============================] - 0s 40ms/step\n"
     ]
    },
    {
     "name": "stderr",
     "output_type": "stream",
     "text": [
      "video 1/1 (733/901) D:\\815_CowDataChecking\\Honkawa\\2023-07-31\\03\\output_3fps\\20230731-030500-031000_10fps_3fps.mp4: 384x640 6 cows, 20.0ms\n",
      "WARNING  'Masks.masks' is deprecated. Use 'Masks.data' instead.\n"
     ]
    },
    {
     "name": "stdout",
     "output_type": "stream",
     "text": [
      "White Percentage: 13.19%\n",
      "1/1 [==============================] - 0s 32ms/step\n",
      "White Percentage: 18.50%\n",
      "1/1 [==============================] - 0s 43ms/step\n",
      "White Percentage: 9.65%\n",
      "1/1 [==============================] - 0s 42ms/step\n"
     ]
    },
    {
     "name": "stderr",
     "output_type": "stream",
     "text": [
      "video 1/1 (734/901) D:\\815_CowDataChecking\\Honkawa\\2023-07-31\\03\\output_3fps\\20230731-030500-031000_10fps_3fps.mp4: 384x640 6 cows, 13.6ms\n",
      "WARNING  'Masks.masks' is deprecated. Use 'Masks.data' instead.\n"
     ]
    },
    {
     "name": "stdout",
     "output_type": "stream",
     "text": [
      "White Percentage: 13.09%\n",
      "1/1 [==============================] - 0s 42ms/step\n",
      "White Percentage: 30.88%\n",
      "1/1 [==============================] - 0s 30ms/step\n",
      "White Percentage: 15.64%\n",
      "1/1 [==============================] - 0s 46ms/step\n"
     ]
    },
    {
     "name": "stderr",
     "output_type": "stream",
     "text": [
      "video 1/1 (735/901) D:\\815_CowDataChecking\\Honkawa\\2023-07-31\\03\\output_3fps\\20230731-030500-031000_10fps_3fps.mp4: 384x640 6 cows, 20.0ms\n",
      "WARNING  'Masks.masks' is deprecated. Use 'Masks.data' instead.\n"
     ]
    },
    {
     "name": "stdout",
     "output_type": "stream",
     "text": [
      "White Percentage: 13.08%\n",
      "1/1 [==============================] - 0s 37ms/step\n",
      "White Percentage: 32.13%\n",
      "1/1 [==============================] - 0s 40ms/step\n",
      "White Percentage: 20.22%\n",
      "1/1 [==============================] - 0s 45ms/step\n"
     ]
    },
    {
     "name": "stderr",
     "output_type": "stream",
     "text": [
      "video 1/1 (736/901) D:\\815_CowDataChecking\\Honkawa\\2023-07-31\\03\\output_3fps\\20230731-030500-031000_10fps_3fps.mp4: 384x640 6 cows, 13.6ms\n",
      "WARNING  'Masks.masks' is deprecated. Use 'Masks.data' instead.\n"
     ]
    },
    {
     "name": "stdout",
     "output_type": "stream",
     "text": [
      "White Percentage: 13.44%\n",
      "1/1 [==============================] - 0s 35ms/step\n",
      "White Percentage: 32.16%\n",
      "1/1 [==============================] - 0s 34ms/step\n",
      "White Percentage: 20.79%\n",
      "1/1 [==============================] - 0s 40ms/step\n"
     ]
    },
    {
     "name": "stderr",
     "output_type": "stream",
     "text": [
      "video 1/1 (737/901) D:\\815_CowDataChecking\\Honkawa\\2023-07-31\\03\\output_3fps\\20230731-030500-031000_10fps_3fps.mp4: 384x640 6 cows, 20.0ms\n",
      "WARNING  'Masks.masks' is deprecated. Use 'Masks.data' instead.\n"
     ]
    },
    {
     "name": "stdout",
     "output_type": "stream",
     "text": [
      "White Percentage: 13.41%\n",
      "1/1 [==============================] - 0s 39ms/step\n",
      "White Percentage: 32.68%\n",
      "1/1 [==============================] - 0s 40ms/step\n",
      "White Percentage: 20.44%\n",
      "1/1 [==============================] - 0s 44ms/step\n"
     ]
    },
    {
     "name": "stderr",
     "output_type": "stream",
     "text": [
      "video 1/1 (738/901) D:\\815_CowDataChecking\\Honkawa\\2023-07-31\\03\\output_3fps\\20230731-030500-031000_10fps_3fps.mp4: 384x640 6 cows, 20.0ms\n",
      "WARNING  'Masks.masks' is deprecated. Use 'Masks.data' instead.\n"
     ]
    },
    {
     "name": "stdout",
     "output_type": "stream",
     "text": [
      "White Percentage: 13.28%\n",
      "1/1 [==============================] - 0s 35ms/step\n",
      "White Percentage: 31.65%\n",
      "1/1 [==============================] - 0s 42ms/step\n",
      "White Percentage: 19.59%\n",
      "1/1 [==============================] - 0s 30ms/step\n"
     ]
    },
    {
     "name": "stderr",
     "output_type": "stream",
     "text": [
      "video 1/1 (739/901) D:\\815_CowDataChecking\\Honkawa\\2023-07-31\\03\\output_3fps\\20230731-030500-031000_10fps_3fps.mp4: 384x640 6 cows, 20.0ms\n",
      "WARNING  'Masks.masks' is deprecated. Use 'Masks.data' instead.\n"
     ]
    },
    {
     "name": "stdout",
     "output_type": "stream",
     "text": [
      "White Percentage: 13.38%\n",
      "1/1 [==============================] - 0s 40ms/step\n",
      "White Percentage: 34.06%\n",
      "1/1 [==============================] - 0s 37ms/step\n",
      "White Percentage: 19.74%\n",
      "1/1 [==============================] - 0s 43ms/step\n"
     ]
    },
    {
     "name": "stderr",
     "output_type": "stream",
     "text": [
      "video 1/1 (740/901) D:\\815_CowDataChecking\\Honkawa\\2023-07-31\\03\\output_3fps\\20230731-030500-031000_10fps_3fps.mp4: 384x640 6 cows, 20.0ms\n",
      "WARNING  'Masks.masks' is deprecated. Use 'Masks.data' instead.\n"
     ]
    },
    {
     "name": "stdout",
     "output_type": "stream",
     "text": [
      "White Percentage: 13.49%\n",
      "1/1 [==============================] - 0s 37ms/step\n",
      "White Percentage: 32.98%\n",
      "1/1 [==============================] - 0s 30ms/step\n",
      "White Percentage: 19.11%\n",
      "1/1 [==============================] - 0s 48ms/step\n",
      "White Percentage: 13.38%\n",
      "1/1 [==============================] - 0s 40ms/step\n"
     ]
    },
    {
     "name": "stderr",
     "output_type": "stream",
     "text": [
      "video 1/1 (741/901) D:\\815_CowDataChecking\\Honkawa\\2023-07-31\\03\\output_3fps\\20230731-030500-031000_10fps_3fps.mp4: 384x640 6 cows, 15.1ms\n",
      "WARNING  'Masks.masks' is deprecated. Use 'Masks.data' instead.\n"
     ]
    },
    {
     "name": "stdout",
     "output_type": "stream",
     "text": [
      "White Percentage: 2.50%\n",
      "[['ID', 'RANK1', 'RANK1_prob', 'RANK2', 'RANK2_prob', 'RANK3', 'RANK3_prob', 'RANK4', 'RANK4_prob', 'RANK5', 'RANK5_prob']]\n",
      "new cattle  xxxxxxxxxxxxxxxxxxxxx new cattle alert \n",
      "1/1 [==============================] - 0s 39ms/step\n",
      "White Percentage: 35.44%\n",
      "1/1 [==============================] - 0s 40ms/step\n",
      "White Percentage: 19.82%\n",
      "1/1 [==============================] - 0s 40ms/step\n",
      "White Percentage: 13.00%\n",
      "1/1 [==============================] - 0s 41ms/step\n"
     ]
    },
    {
     "name": "stderr",
     "output_type": "stream",
     "text": [
      "video 1/1 (742/901) D:\\815_CowDataChecking\\Honkawa\\2023-07-31\\03\\output_3fps\\20230731-030500-031000_10fps_3fps.mp4: 384x640 6 cows, 30.1ms\n",
      "WARNING  'Masks.masks' is deprecated. Use 'Masks.data' instead.\n"
     ]
    },
    {
     "name": "stdout",
     "output_type": "stream",
     "text": [
      "White Percentage: 2.51%\n",
      "1/1 [==============================] - 0s 47ms/step\n",
      "White Percentage: 34.14%\n",
      "1/1 [==============================] - 0s 43ms/step\n",
      "White Percentage: 17.59%\n",
      "1/1 [==============================] - 0s 53ms/step\n",
      "White Percentage: 12.99%\n",
      "1/1 [==============================] - 0s 50ms/step\n"
     ]
    },
    {
     "name": "stderr",
     "output_type": "stream",
     "text": [
      "video 1/1 (743/901) D:\\815_CowDataChecking\\Honkawa\\2023-07-31\\03\\output_3fps\\20230731-030500-031000_10fps_3fps.mp4: 384x640 6 cows, 20.0ms\n",
      "WARNING  'Masks.masks' is deprecated. Use 'Masks.data' instead.\n"
     ]
    },
    {
     "name": "stdout",
     "output_type": "stream",
     "text": [
      "White Percentage: 2.56%\n",
      "1/1 [==============================] - 0s 39ms/step\n",
      "White Percentage: 30.24%\n",
      "1/1 [==============================] - 0s 40ms/step\n",
      "White Percentage: 19.59%\n",
      "1/1 [==============================] - 0s 40ms/step\n",
      "White Percentage: 13.31%\n",
      "1/1 [==============================] - 0s 30ms/step\n"
     ]
    },
    {
     "name": "stderr",
     "output_type": "stream",
     "text": [
      "video 1/1 (744/901) D:\\815_CowDataChecking\\Honkawa\\2023-07-31\\03\\output_3fps\\20230731-030500-031000_10fps_3fps.mp4: 384x640 6 cows, 20.0ms\n",
      "WARNING  'Masks.masks' is deprecated. Use 'Masks.data' instead.\n"
     ]
    },
    {
     "name": "stdout",
     "output_type": "stream",
     "text": [
      "White Percentage: 2.58%\n",
      "1/1 [==============================] - 0s 32ms/step\n",
      "White Percentage: 34.29%\n",
      "1/1 [==============================] - 0s 52ms/step\n",
      "White Percentage: 17.09%\n",
      "1/1 [==============================] - 0s 35ms/step\n",
      "White Percentage: 13.16%\n",
      "1/1 [==============================] - 0s 30ms/step\n"
     ]
    },
    {
     "name": "stderr",
     "output_type": "stream",
     "text": [
      "video 1/1 (745/901) D:\\815_CowDataChecking\\Honkawa\\2023-07-31\\03\\output_3fps\\20230731-030500-031000_10fps_3fps.mp4: 384x640 6 cows, 20.0ms\n",
      "WARNING  'Masks.masks' is deprecated. Use 'Masks.data' instead.\n"
     ]
    },
    {
     "name": "stdout",
     "output_type": "stream",
     "text": [
      "White Percentage: 2.69%\n",
      "1/1 [==============================] - 0s 34ms/step\n",
      "White Percentage: 32.96%\n",
      "1/1 [==============================] - 0s 46ms/step\n",
      "White Percentage: 12.11%\n",
      "1/1 [==============================] - 0s 40ms/step\n",
      "White Percentage: 14.54%\n",
      "1/1 [==============================] - 0s 50ms/step\n"
     ]
    },
    {
     "name": "stderr",
     "output_type": "stream",
     "text": [
      "video 1/1 (746/901) D:\\815_CowDataChecking\\Honkawa\\2023-07-31\\03\\output_3fps\\20230731-030500-031000_10fps_3fps.mp4: 384x640 6 cows, 20.0ms\n",
      "WARNING  'Masks.masks' is deprecated. Use 'Masks.data' instead.\n"
     ]
    },
    {
     "name": "stdout",
     "output_type": "stream",
     "text": [
      "White Percentage: 2.64%\n",
      "1/1 [==============================] - 0s 38ms/step\n",
      "White Percentage: 31.99%\n",
      "1/1 [==============================] - 0s 40ms/step\n",
      "White Percentage: 17.53%\n",
      "1/1 [==============================] - 0s 40ms/step\n",
      "White Percentage: 14.26%\n",
      "1/1 [==============================] - 0s 50ms/step\n"
     ]
    },
    {
     "name": "stderr",
     "output_type": "stream",
     "text": [
      "video 1/1 (747/901) D:\\815_CowDataChecking\\Honkawa\\2023-07-31\\03\\output_3fps\\20230731-030500-031000_10fps_3fps.mp4: 384x640 6 cows, 21.8ms\n",
      "WARNING  'Masks.masks' is deprecated. Use 'Masks.data' instead.\n"
     ]
    },
    {
     "name": "stdout",
     "output_type": "stream",
     "text": [
      "White Percentage: 2.58%\n",
      "1/1 [==============================] - 0s 40ms/step\n",
      "White Percentage: 32.82%\n",
      "1/1 [==============================] - 0s 40ms/step\n",
      "White Percentage: 15.50%\n",
      "1/1 [==============================] - 0s 34ms/step\n",
      "White Percentage: 14.56%\n",
      "1/1 [==============================] - 0s 46ms/step\n"
     ]
    },
    {
     "name": "stderr",
     "output_type": "stream",
     "text": [
      "video 1/1 (748/901) D:\\815_CowDataChecking\\Honkawa\\2023-07-31\\03\\output_3fps\\20230731-030500-031000_10fps_3fps.mp4: 384x640 6 cows, 20.1ms\n",
      "WARNING  'Masks.masks' is deprecated. Use 'Masks.data' instead.\n"
     ]
    },
    {
     "name": "stdout",
     "output_type": "stream",
     "text": [
      "White Percentage: 2.69%\n",
      "1/1 [==============================] - 0s 37ms/step\n",
      "White Percentage: 29.58%\n",
      "1/1 [==============================] - 0s 50ms/step\n",
      "White Percentage: 17.45%\n",
      "1/1 [==============================] - 0s 40ms/step\n",
      "White Percentage: 14.08%\n",
      "1/1 [==============================] - 0s 43ms/step\n"
     ]
    },
    {
     "name": "stderr",
     "output_type": "stream",
     "text": [
      "video 1/1 (749/901) D:\\815_CowDataChecking\\Honkawa\\2023-07-31\\03\\output_3fps\\20230731-030500-031000_10fps_3fps.mp4: 384x640 7 cows, 20.0ms\n",
      "WARNING  'Masks.masks' is deprecated. Use 'Masks.data' instead.\n"
     ]
    },
    {
     "name": "stdout",
     "output_type": "stream",
     "text": [
      "White Percentage: 2.64%\n",
      "1/1 [==============================] - 0s 33ms/step\n",
      "White Percentage: 28.02%\n",
      "1/1 [==============================] - 0s 50ms/step\n",
      "White Percentage: 11.63%\n",
      "1/1 [==============================] - 0s 42ms/step\n",
      "White Percentage: 14.54%\n",
      "1/1 [==============================] - 0s 40ms/step\n"
     ]
    },
    {
     "name": "stderr",
     "output_type": "stream",
     "text": [
      "video 1/1 (750/901) D:\\815_CowDataChecking\\Honkawa\\2023-07-31\\03\\output_3fps\\20230731-030500-031000_10fps_3fps.mp4: 384x640 6 cows, 20.0ms\n",
      "WARNING  'Masks.masks' is deprecated. Use 'Masks.data' instead.\n"
     ]
    },
    {
     "name": "stdout",
     "output_type": "stream",
     "text": [
      "White Percentage: 2.78%\n",
      "1/1 [==============================] - 0s 44ms/step\n",
      "White Percentage: 28.79%\n",
      "1/1 [==============================] - 0s 46ms/step\n",
      "White Percentage: 15.12%\n",
      "1/1 [==============================] - 0s 51ms/step\n",
      "White Percentage: 14.95%\n",
      "1/1 [==============================] - 0s 33ms/step\n"
     ]
    },
    {
     "name": "stderr",
     "output_type": "stream",
     "text": [
      "video 1/1 (751/901) D:\\815_CowDataChecking\\Honkawa\\2023-07-31\\03\\output_3fps\\20230731-030500-031000_10fps_3fps.mp4: 384x640 6 cows, 20.0ms\n",
      "WARNING  'Masks.masks' is deprecated. Use 'Masks.data' instead.\n"
     ]
    },
    {
     "name": "stdout",
     "output_type": "stream",
     "text": [
      "White Percentage: 2.97%\n",
      "1/1 [==============================] - 0s 38ms/step\n",
      "White Percentage: 26.54%\n",
      "1/1 [==============================] - 0s 43ms/step\n",
      "White Percentage: 8.00%\n",
      "1/1 [==============================] - 0s 43ms/step\n",
      "White Percentage: 15.21%\n",
      "1/1 [==============================] - 0s 40ms/step\n"
     ]
    },
    {
     "name": "stderr",
     "output_type": "stream",
     "text": [
      "video 1/1 (752/901) D:\\815_CowDataChecking\\Honkawa\\2023-07-31\\03\\output_3fps\\20230731-030500-031000_10fps_3fps.mp4: 384x640 6 cows, 11.0ms\n",
      "WARNING  'Masks.masks' is deprecated. Use 'Masks.data' instead.\n"
     ]
    },
    {
     "name": "stdout",
     "output_type": "stream",
     "text": [
      "White Percentage: 2.87%\n",
      "1/1 [==============================] - 0s 32ms/step\n",
      "White Percentage: 31.09%\n",
      "1/1 [==============================] - 0s 40ms/step\n",
      "White Percentage: 11.58%\n",
      "1/1 [==============================] - 0s 40ms/step\n",
      "White Percentage: 14.98%\n",
      "1/1 [==============================] - 0s 47ms/step\n"
     ]
    },
    {
     "name": "stderr",
     "output_type": "stream",
     "text": [
      "video 1/1 (753/901) D:\\815_CowDataChecking\\Honkawa\\2023-07-31\\03\\output_3fps\\20230731-030500-031000_10fps_3fps.mp4: 384x640 6 cows, 22.0ms\n",
      "WARNING  'Masks.masks' is deprecated. Use 'Masks.data' instead.\n"
     ]
    },
    {
     "name": "stdout",
     "output_type": "stream",
     "text": [
      "White Percentage: 2.78%\n",
      "1/1 [==============================] - 0s 38ms/step\n",
      "White Percentage: 28.54%\n",
      "1/1 [==============================] - 0s 42ms/step\n",
      "White Percentage: 8.68%\n",
      "1/1 [==============================] - 0s 37ms/step\n",
      "White Percentage: 15.40%\n",
      "1/1 [==============================] - 0s 40ms/step\n"
     ]
    },
    {
     "name": "stderr",
     "output_type": "stream",
     "text": [
      "video 1/1 (754/901) D:\\815_CowDataChecking\\Honkawa\\2023-07-31\\03\\output_3fps\\20230731-030500-031000_10fps_3fps.mp4: 384x640 6 cows, 20.0ms\n",
      "WARNING  'Masks.masks' is deprecated. Use 'Masks.data' instead.\n"
     ]
    },
    {
     "name": "stdout",
     "output_type": "stream",
     "text": [
      "White Percentage: 2.82%\n",
      "1/1 [==============================] - 0s 31ms/step\n",
      "White Percentage: 30.50%\n",
      "1/1 [==============================] - 0s 40ms/step\n",
      "White Percentage: 13.14%\n",
      "1/1 [==============================] - 0s 36ms/step\n",
      "White Percentage: 14.77%\n",
      "1/1 [==============================] - 0s 40ms/step\n"
     ]
    },
    {
     "name": "stderr",
     "output_type": "stream",
     "text": [
      "video 1/1 (755/901) D:\\815_CowDataChecking\\Honkawa\\2023-07-31\\03\\output_3fps\\20230731-030500-031000_10fps_3fps.mp4: 384x640 6 cows, 20.3ms\n",
      "WARNING  'Masks.masks' is deprecated. Use 'Masks.data' instead.\n"
     ]
    },
    {
     "name": "stdout",
     "output_type": "stream",
     "text": [
      "White Percentage: 2.69%\n",
      "1/1 [==============================] - 0s 43ms/step\n",
      "White Percentage: 30.92%\n",
      "1/1 [==============================] - 0s 40ms/step\n",
      "White Percentage: 9.36%\n",
      "1/1 [==============================] - 0s 42ms/step\n",
      "White Percentage: 14.45%\n",
      "1/1 [==============================] - 0s 40ms/step\n"
     ]
    },
    {
     "name": "stderr",
     "output_type": "stream",
     "text": [
      "video 1/1 (756/901) D:\\815_CowDataChecking\\Honkawa\\2023-07-31\\03\\output_3fps\\20230731-030500-031000_10fps_3fps.mp4: 384x640 6 cows, 20.0ms\n",
      "WARNING  'Masks.masks' is deprecated. Use 'Masks.data' instead.\n"
     ]
    },
    {
     "name": "stdout",
     "output_type": "stream",
     "text": [
      "White Percentage: 2.69%\n",
      "1/1 [==============================] - 0s 31ms/step\n",
      "White Percentage: 11.83%\n",
      "1/1 [==============================] - 0s 29ms/step\n",
      "White Percentage: 14.95%\n",
      "1/1 [==============================] - 0s 40ms/step\n"
     ]
    },
    {
     "name": "stderr",
     "output_type": "stream",
     "text": [
      "video 1/1 (757/901) D:\\815_CowDataChecking\\Honkawa\\2023-07-31\\03\\output_3fps\\20230731-030500-031000_10fps_3fps.mp4: 384x640 6 cows, 19.5ms\n",
      "WARNING  'Masks.masks' is deprecated. Use 'Masks.data' instead.\n"
     ]
    },
    {
     "name": "stdout",
     "output_type": "stream",
     "text": [
      "White Percentage: 2.77%\n",
      "1/1 [==============================] - 0s 36ms/step\n",
      "White Percentage: 14.64%\n",
      "1/1 [==============================] - 0s 44ms/step\n",
      "White Percentage: 14.36%\n",
      "1/1 [==============================] - 0s 32ms/step\n"
     ]
    },
    {
     "name": "stderr",
     "output_type": "stream",
     "text": [
      "video 1/1 (758/901) D:\\815_CowDataChecking\\Honkawa\\2023-07-31\\03\\output_3fps\\20230731-030500-031000_10fps_3fps.mp4: 384x640 6 cows, 19.1ms\n",
      "WARNING  'Masks.masks' is deprecated. Use 'Masks.data' instead.\n"
     ]
    },
    {
     "name": "stdout",
     "output_type": "stream",
     "text": [
      "White Percentage: 2.62%\n",
      "1/1 [==============================] - 0s 42ms/step\n",
      "White Percentage: 13.17%\n",
      "1/1 [==============================] - 0s 40ms/step\n",
      "White Percentage: 11.94%\n",
      "1/1 [==============================] - 0s 50ms/step\n"
     ]
    },
    {
     "name": "stderr",
     "output_type": "stream",
     "text": [
      "video 1/1 (759/901) D:\\815_CowDataChecking\\Honkawa\\2023-07-31\\03\\output_3fps\\20230731-030500-031000_10fps_3fps.mp4: 384x640 6 cows, 20.0ms\n",
      "WARNING  'Masks.masks' is deprecated. Use 'Masks.data' instead.\n"
     ]
    },
    {
     "name": "stdout",
     "output_type": "stream",
     "text": [
      "White Percentage: 2.74%\n",
      "1/1 [==============================] - 0s 34ms/step\n",
      "White Percentage: 16.08%\n",
      "1/1 [==============================] - 0s 40ms/step\n",
      "White Percentage: 13.19%\n",
      "1/1 [==============================] - 0s 40ms/step\n"
     ]
    },
    {
     "name": "stderr",
     "output_type": "stream",
     "text": [
      "video 1/1 (760/901) D:\\815_CowDataChecking\\Honkawa\\2023-07-31\\03\\output_3fps\\20230731-030500-031000_10fps_3fps.mp4: 384x640 6 cows, 19.9ms\n",
      "WARNING  'Masks.masks' is deprecated. Use 'Masks.data' instead.\n"
     ]
    },
    {
     "name": "stdout",
     "output_type": "stream",
     "text": [
      "White Percentage: 2.72%\n",
      "1/1 [==============================] - 0s 35ms/step\n",
      "White Percentage: 12.20%\n",
      "1/1 [==============================] - 0s 50ms/step\n",
      "White Percentage: 11.31%\n",
      "1/1 [==============================] - 0s 43ms/step\n"
     ]
    },
    {
     "name": "stderr",
     "output_type": "stream",
     "text": [
      "video 1/1 (761/901) D:\\815_CowDataChecking\\Honkawa\\2023-07-31\\03\\output_3fps\\20230731-030500-031000_10fps_3fps.mp4: 384x640 6 cows, 22.6ms\n",
      "WARNING  'Masks.masks' is deprecated. Use 'Masks.data' instead.\n"
     ]
    },
    {
     "name": "stdout",
     "output_type": "stream",
     "text": [
      "White Percentage: 2.85%\n",
      "1/1 [==============================] - 0s 31ms/step\n",
      "White Percentage: 12.40%\n",
      "1/1 [==============================] - 0s 33ms/step\n",
      "White Percentage: 10.18%\n",
      "1/1 [==============================] - 0s 40ms/step\n"
     ]
    },
    {
     "name": "stderr",
     "output_type": "stream",
     "text": [
      "video 1/1 (762/901) D:\\815_CowDataChecking\\Honkawa\\2023-07-31\\03\\output_3fps\\20230731-030500-031000_10fps_3fps.mp4: 384x640 6 cows, 20.0ms\n",
      "WARNING  'Masks.masks' is deprecated. Use 'Masks.data' instead.\n"
     ]
    },
    {
     "name": "stdout",
     "output_type": "stream",
     "text": [
      "White Percentage: 2.85%\n",
      "1/1 [==============================] - 0s 42ms/step\n",
      "White Percentage: 15.19%\n",
      "1/1 [==============================] - 0s 50ms/step\n",
      "White Percentage: 8.31%\n",
      "1/1 [==============================] - 0s 43ms/step\n"
     ]
    },
    {
     "name": "stderr",
     "output_type": "stream",
     "text": [
      "video 1/1 (763/901) D:\\815_CowDataChecking\\Honkawa\\2023-07-31\\03\\output_3fps\\20230731-030500-031000_10fps_3fps.mp4: 384x640 6 cows, 20.0ms\n",
      "WARNING  'Masks.masks' is deprecated. Use 'Masks.data' instead.\n"
     ]
    },
    {
     "name": "stdout",
     "output_type": "stream",
     "text": [
      "White Percentage: 2.72%\n",
      "1/1 [==============================] - 0s 47ms/step\n",
      "White Percentage: 12.70%\n",
      "1/1 [==============================] - 0s 44ms/step\n",
      "White Percentage: 8.16%\n",
      "1/1 [==============================] - 0s 50ms/step\n"
     ]
    },
    {
     "name": "stderr",
     "output_type": "stream",
     "text": [
      "video 1/1 (764/901) D:\\815_CowDataChecking\\Honkawa\\2023-07-31\\03\\output_3fps\\20230731-030500-031000_10fps_3fps.mp4: 384x640 6 cows, 29.9ms\n",
      "WARNING  'Masks.masks' is deprecated. Use 'Masks.data' instead.\n"
     ]
    },
    {
     "name": "stdout",
     "output_type": "stream",
     "text": [
      "White Percentage: 2.85%\n",
      "1/1 [==============================] - 0s 41ms/step\n",
      "White Percentage: 15.67%\n",
      "1/1 [==============================] - 0s 40ms/step\n",
      "White Percentage: 6.78%\n",
      "1/1 [==============================] - 0s 34ms/step\n"
     ]
    },
    {
     "name": "stderr",
     "output_type": "stream",
     "text": [
      "video 1/1 (765/901) D:\\815_CowDataChecking\\Honkawa\\2023-07-31\\03\\output_3fps\\20230731-030500-031000_10fps_3fps.mp4: 384x640 5 cows, 26.5ms\n",
      "WARNING  'Masks.masks' is deprecated. Use 'Masks.data' instead.\n"
     ]
    },
    {
     "name": "stdout",
     "output_type": "stream",
     "text": [
      "White Percentage: 2.81%\n",
      "1/1 [==============================] - 0s 43ms/step\n",
      "White Percentage: 16.09%\n",
      "1/1 [==============================] - 0s 38ms/step\n",
      "White Percentage: 10.36%\n",
      "1/1 [==============================] - 0s 41ms/step\n"
     ]
    },
    {
     "name": "stderr",
     "output_type": "stream",
     "text": [
      "video 1/1 (766/901) D:\\815_CowDataChecking\\Honkawa\\2023-07-31\\03\\output_3fps\\20230731-030500-031000_10fps_3fps.mp4: 384x640 5 cows, 18.6ms\n",
      "WARNING  'Masks.masks' is deprecated. Use 'Masks.data' instead.\n"
     ]
    },
    {
     "name": "stdout",
     "output_type": "stream",
     "text": [
      "White Percentage: 2.77%\n",
      "1/1 [==============================] - 0s 36ms/step\n",
      "White Percentage: 15.15%\n",
      "1/1 [==============================] - 0s 40ms/step\n",
      "White Percentage: 11.93%\n",
      "1/1 [==============================] - 0s 40ms/step\n"
     ]
    },
    {
     "name": "stderr",
     "output_type": "stream",
     "text": [
      "video 1/1 (767/901) D:\\815_CowDataChecking\\Honkawa\\2023-07-31\\03\\output_3fps\\20230731-030500-031000_10fps_3fps.mp4: 384x640 5 cows, 30.0ms\n",
      "WARNING  'Masks.masks' is deprecated. Use 'Masks.data' instead.\n"
     ]
    },
    {
     "name": "stdout",
     "output_type": "stream",
     "text": [
      "White Percentage: 2.68%\n",
      "1/1 [==============================] - 0s 39ms/step\n",
      "White Percentage: 15.95%\n",
      "1/1 [==============================] - 0s 40ms/step\n",
      "White Percentage: 13.45%\n",
      "1/1 [==============================] - 0s 40ms/step\n"
     ]
    },
    {
     "name": "stderr",
     "output_type": "stream",
     "text": [
      "video 1/1 (768/901) D:\\815_CowDataChecking\\Honkawa\\2023-07-31\\03\\output_3fps\\20230731-030500-031000_10fps_3fps.mp4: 384x640 6 cows, 27.6ms\n",
      "WARNING  'Masks.masks' is deprecated. Use 'Masks.data' instead.\n"
     ]
    },
    {
     "name": "stdout",
     "output_type": "stream",
     "text": [
      "White Percentage: 2.77%\n",
      "1/1 [==============================] - 0s 39ms/step\n",
      "White Percentage: 14.80%\n",
      "1/1 [==============================] - 0s 40ms/step\n",
      "White Percentage: 13.84%\n",
      "1/1 [==============================] - 0s 45ms/step\n"
     ]
    },
    {
     "name": "stderr",
     "output_type": "stream",
     "text": [
      "video 1/1 (769/901) D:\\815_CowDataChecking\\Honkawa\\2023-07-31\\03\\output_3fps\\20230731-030500-031000_10fps_3fps.mp4: 384x640 6 cows, 20.5ms\n",
      "WARNING  'Masks.masks' is deprecated. Use 'Masks.data' instead.\n"
     ]
    },
    {
     "name": "stdout",
     "output_type": "stream",
     "text": [
      "White Percentage: 2.92%\n",
      "1/1 [==============================] - 0s 35ms/step\n",
      "White Percentage: 15.46%\n",
      "1/1 [==============================] - 0s 46ms/step\n",
      "White Percentage: 14.30%\n",
      "1/1 [==============================] - 0s 30ms/step\n",
      "White Percentage: 2.88%\n",
      "1/1 [==============================] - 0s 41ms/step\n"
     ]
    },
    {
     "name": "stderr",
     "output_type": "stream",
     "text": [
      "video 1/1 (770/901) D:\\815_CowDataChecking\\Honkawa\\2023-07-31\\03\\output_3fps\\20230731-030500-031000_10fps_3fps.mp4: 384x640 6 cows, 22.0ms\n",
      "WARNING  'Masks.masks' is deprecated. Use 'Masks.data' instead.\n"
     ]
    },
    {
     "name": "stdout",
     "output_type": "stream",
     "text": [
      "White Percentage: 8.71%\n",
      "[['ID', 'RANK1', 'RANK1_prob', 'RANK2', 'RANK2_prob', 'RANK3', 'RANK3_prob', 'RANK4', 'RANK4_prob', 'RANK5', 'RANK5_prob']]\n",
      "new cattle  xxxxxxxxxxxxxxxxxxxxx new cattle alert \n",
      "1/1 [==============================] - 0s 45ms/step\n",
      "White Percentage: 15.67%\n",
      "1/1 [==============================] - 0s 40ms/step\n",
      "White Percentage: 13.99%\n",
      "1/1 [==============================] - 0s 40ms/step\n",
      "White Percentage: 2.83%\n",
      "1/1 [==============================] - 0s 39ms/step\n"
     ]
    },
    {
     "name": "stderr",
     "output_type": "stream",
     "text": [
      "video 1/1 (771/901) D:\\815_CowDataChecking\\Honkawa\\2023-07-31\\03\\output_3fps\\20230731-030500-031000_10fps_3fps.mp4: 384x640 6 cows, 20.0ms\n",
      "WARNING  'Masks.masks' is deprecated. Use 'Masks.data' instead.\n"
     ]
    },
    {
     "name": "stdout",
     "output_type": "stream",
     "text": [
      "White Percentage: 7.23%\n",
      "1/1 [==============================] - 0s 46ms/step\n",
      "White Percentage: 15.63%\n",
      "1/1 [==============================] - 0s 51ms/step\n",
      "White Percentage: 13.42%\n",
      "1/1 [==============================] - 0s 40ms/step\n",
      "White Percentage: 2.89%\n",
      "1/1 [==============================] - 0s 44ms/step\n"
     ]
    },
    {
     "name": "stderr",
     "output_type": "stream",
     "text": [
      "video 1/1 (772/901) D:\\815_CowDataChecking\\Honkawa\\2023-07-31\\03\\output_3fps\\20230731-030500-031000_10fps_3fps.mp4: 384x640 6 cows, 31.0ms\n",
      "WARNING  'Masks.masks' is deprecated. Use 'Masks.data' instead.\n"
     ]
    },
    {
     "name": "stdout",
     "output_type": "stream",
     "text": [
      "White Percentage: 8.39%\n",
      "1/1 [==============================] - 0s 29ms/step\n",
      "White Percentage: 15.42%\n",
      "1/1 [==============================] - 0s 40ms/step\n",
      "White Percentage: 12.99%\n",
      "1/1 [==============================] - 0s 46ms/step\n",
      "White Percentage: 2.68%\n",
      "1/1 [==============================] - 0s 47ms/step\n"
     ]
    },
    {
     "name": "stderr",
     "output_type": "stream",
     "text": [
      "video 1/1 (773/901) D:\\815_CowDataChecking\\Honkawa\\2023-07-31\\03\\output_3fps\\20230731-030500-031000_10fps_3fps.mp4: 384x640 6 cows, 20.0ms\n",
      "WARNING  'Masks.masks' is deprecated. Use 'Masks.data' instead.\n"
     ]
    },
    {
     "name": "stdout",
     "output_type": "stream",
     "text": [
      "White Percentage: 9.19%\n",
      "1/1 [==============================] - 0s 40ms/step\n",
      "White Percentage: 15.51%\n",
      "1/1 [==============================] - 0s 50ms/step\n",
      "White Percentage: 12.64%\n",
      "1/1 [==============================] - 0s 40ms/step\n",
      "White Percentage: 2.54%\n",
      "1/1 [==============================] - 0s 40ms/step\n"
     ]
    },
    {
     "name": "stderr",
     "output_type": "stream",
     "text": [
      "video 1/1 (774/901) D:\\815_CowDataChecking\\Honkawa\\2023-07-31\\03\\output_3fps\\20230731-030500-031000_10fps_3fps.mp4: 384x640 6 cows, 28.2ms\n",
      "WARNING  'Masks.masks' is deprecated. Use 'Masks.data' instead.\n"
     ]
    },
    {
     "name": "stdout",
     "output_type": "stream",
     "text": [
      "White Percentage: 7.99%\n",
      "1/1 [==============================] - 0s 41ms/step\n",
      "White Percentage: 14.72%\n",
      "1/1 [==============================] - 0s 40ms/step\n",
      "White Percentage: 13.10%\n",
      "1/1 [==============================] - 0s 40ms/step\n",
      "White Percentage: 2.47%\n",
      "1/1 [==============================] - 0s 40ms/step\n"
     ]
    },
    {
     "name": "stderr",
     "output_type": "stream",
     "text": [
      "video 1/1 (775/901) D:\\815_CowDataChecking\\Honkawa\\2023-07-31\\03\\output_3fps\\20230731-030500-031000_10fps_3fps.mp4: 384x640 6 cows, 14.0ms\n",
      "WARNING  'Masks.masks' is deprecated. Use 'Masks.data' instead.\n"
     ]
    },
    {
     "name": "stdout",
     "output_type": "stream",
     "text": [
      "White Percentage: 7.89%\n",
      "1/1 [==============================] - 0s 45ms/step\n",
      "White Percentage: 14.67%\n",
      "1/1 [==============================] - 0s 39ms/step\n",
      "White Percentage: 12.98%\n",
      "1/1 [==============================] - 0s 50ms/step\n",
      "White Percentage: 2.58%\n",
      "1/1 [==============================] - 0s 41ms/step\n"
     ]
    },
    {
     "name": "stderr",
     "output_type": "stream",
     "text": [
      "video 1/1 (776/901) D:\\815_CowDataChecking\\Honkawa\\2023-07-31\\03\\output_3fps\\20230731-030500-031000_10fps_3fps.mp4: 384x640 6 cows, 20.0ms\n",
      "WARNING  'Masks.masks' is deprecated. Use 'Masks.data' instead.\n"
     ]
    },
    {
     "name": "stdout",
     "output_type": "stream",
     "text": [
      "White Percentage: 7.75%\n",
      "1/1 [==============================] - 0s 45ms/step\n",
      "White Percentage: 14.63%\n",
      "1/1 [==============================] - 0s 43ms/step\n",
      "White Percentage: 12.95%\n",
      "1/1 [==============================] - 0s 30ms/step\n",
      "White Percentage: 2.77%\n",
      "1/1 [==============================] - 0s 50ms/step\n"
     ]
    },
    {
     "name": "stderr",
     "output_type": "stream",
     "text": [
      "video 1/1 (777/901) D:\\815_CowDataChecking\\Honkawa\\2023-07-31\\03\\output_3fps\\20230731-030500-031000_10fps_3fps.mp4: 384x640 6 cows, 12.6ms\n",
      "WARNING  'Masks.masks' is deprecated. Use 'Masks.data' instead.\n"
     ]
    },
    {
     "name": "stdout",
     "output_type": "stream",
     "text": [
      "White Percentage: 6.07%\n",
      "1/1 [==============================] - 0s 42ms/step\n",
      "White Percentage: 16.14%\n",
      "1/1 [==============================] - 0s 40ms/step\n",
      "White Percentage: 13.03%\n",
      "1/1 [==============================] - 0s 38ms/step\n",
      "White Percentage: 3.05%\n",
      "1/1 [==============================] - 0s 40ms/step\n"
     ]
    },
    {
     "name": "stderr",
     "output_type": "stream",
     "text": [
      "video 1/1 (778/901) D:\\815_CowDataChecking\\Honkawa\\2023-07-31\\03\\output_3fps\\20230731-030500-031000_10fps_3fps.mp4: 384x640 6 cows, 19.9ms\n",
      "WARNING  'Masks.masks' is deprecated. Use 'Masks.data' instead.\n"
     ]
    },
    {
     "name": "stdout",
     "output_type": "stream",
     "text": [
      "White Percentage: 7.35%\n",
      "1/1 [==============================] - 0s 41ms/step\n",
      "White Percentage: 15.48%\n",
      "1/1 [==============================] - 0s 40ms/step\n",
      "White Percentage: 12.75%\n",
      "1/1 [==============================] - 0s 47ms/step\n",
      "White Percentage: 2.91%\n",
      "1/1 [==============================] - 0s 40ms/step\n"
     ]
    },
    {
     "name": "stderr",
     "output_type": "stream",
     "text": [
      "video 1/1 (779/901) D:\\815_CowDataChecking\\Honkawa\\2023-07-31\\03\\output_3fps\\20230731-030500-031000_10fps_3fps.mp4: 384x640 6 cows, 20.0ms\n",
      "WARNING  'Masks.masks' is deprecated. Use 'Masks.data' instead.\n"
     ]
    },
    {
     "name": "stdout",
     "output_type": "stream",
     "text": [
      "White Percentage: 9.92%\n",
      "1/1 [==============================] - 0s 37ms/step\n",
      "White Percentage: 12.28%\n",
      "1/1 [==============================] - 0s 32ms/step\n",
      "White Percentage: 2.91%\n",
      "1/1 [==============================] - 0s 36ms/step\n"
     ]
    },
    {
     "name": "stderr",
     "output_type": "stream",
     "text": [
      "video 1/1 (780/901) D:\\815_CowDataChecking\\Honkawa\\2023-07-31\\03\\output_3fps\\20230731-030500-031000_10fps_3fps.mp4: 384x640 6 cows, 18.1ms\n",
      "WARNING  'Masks.masks' is deprecated. Use 'Masks.data' instead.\n"
     ]
    },
    {
     "name": "stdout",
     "output_type": "stream",
     "text": [
      "White Percentage: 9.45%\n",
      "1/1 [==============================] - 0s 36ms/step\n",
      "White Percentage: 12.75%\n",
      "1/1 [==============================] - 0s 41ms/step\n",
      "White Percentage: 3.08%\n",
      "1/1 [==============================] - 0s 40ms/step\n"
     ]
    },
    {
     "name": "stderr",
     "output_type": "stream",
     "text": [
      "video 1/1 (781/901) D:\\815_CowDataChecking\\Honkawa\\2023-07-31\\03\\output_3fps\\20230731-030500-031000_10fps_3fps.mp4: 384x640 6 cows, 30.0ms\n",
      "WARNING  'Masks.masks' is deprecated. Use 'Masks.data' instead.\n"
     ]
    },
    {
     "name": "stdout",
     "output_type": "stream",
     "text": [
      "White Percentage: 8.98%\n",
      "1/1 [==============================] - 0s 43ms/step\n",
      "White Percentage: 12.64%\n",
      "1/1 [==============================] - 0s 53ms/step\n",
      "White Percentage: 2.82%\n",
      "1/1 [==============================] - 0s 50ms/step\n"
     ]
    },
    {
     "name": "stderr",
     "output_type": "stream",
     "text": [
      "video 1/1 (782/901) D:\\815_CowDataChecking\\Honkawa\\2023-07-31\\03\\output_3fps\\20230731-030500-031000_10fps_3fps.mp4: 384x640 6 cows, 20.1ms\n",
      "WARNING  'Masks.masks' is deprecated. Use 'Masks.data' instead.\n"
     ]
    },
    {
     "name": "stdout",
     "output_type": "stream",
     "text": [
      "White Percentage: 9.52%\n",
      "1/1 [==============================] - 0s 45ms/step\n",
      "White Percentage: 12.73%\n",
      "1/1 [==============================] - 0s 49ms/step\n",
      "White Percentage: 2.91%\n",
      "1/1 [==============================] - 0s 48ms/step\n"
     ]
    },
    {
     "name": "stderr",
     "output_type": "stream",
     "text": [
      "video 1/1 (783/901) D:\\815_CowDataChecking\\Honkawa\\2023-07-31\\03\\output_3fps\\20230731-030500-031000_10fps_3fps.mp4: 384x640 6 cows, 20.2ms\n",
      "WARNING  'Masks.masks' is deprecated. Use 'Masks.data' instead.\n"
     ]
    },
    {
     "name": "stdout",
     "output_type": "stream",
     "text": [
      "White Percentage: 9.42%\n",
      "1/1 [==============================] - 0s 39ms/step\n",
      "White Percentage: 12.34%\n",
      "1/1 [==============================] - 0s 43ms/step\n",
      "White Percentage: 2.91%\n",
      "1/1 [==============================] - 0s 58ms/step\n"
     ]
    },
    {
     "name": "stderr",
     "output_type": "stream",
     "text": [
      "video 1/1 (784/901) D:\\815_CowDataChecking\\Honkawa\\2023-07-31\\03\\output_3fps\\20230731-030500-031000_10fps_3fps.mp4: 384x640 6 cows, 19.3ms\n",
      "WARNING  'Masks.masks' is deprecated. Use 'Masks.data' instead.\n"
     ]
    },
    {
     "name": "stdout",
     "output_type": "stream",
     "text": [
      "White Percentage: 10.08%\n",
      "1/1 [==============================] - 0s 45ms/step\n",
      "White Percentage: 12.34%\n",
      "1/1 [==============================] - 0s 39ms/step\n",
      "White Percentage: 2.80%\n",
      "1/1 [==============================] - 0s 51ms/step\n"
     ]
    },
    {
     "name": "stderr",
     "output_type": "stream",
     "text": [
      "video 1/1 (785/901) D:\\815_CowDataChecking\\Honkawa\\2023-07-31\\03\\output_3fps\\20230731-030500-031000_10fps_3fps.mp4: 384x640 6 cows, 20.0ms\n",
      "WARNING  'Masks.masks' is deprecated. Use 'Masks.data' instead.\n"
     ]
    },
    {
     "name": "stdout",
     "output_type": "stream",
     "text": [
      "White Percentage: 10.46%\n",
      "1/1 [==============================] - 0s 36ms/step\n",
      "White Percentage: 11.77%\n",
      "1/1 [==============================] - 0s 51ms/step\n",
      "White Percentage: 2.73%\n",
      "1/1 [==============================] - 0s 43ms/step\n"
     ]
    },
    {
     "name": "stderr",
     "output_type": "stream",
     "text": [
      "video 1/1 (786/901) D:\\815_CowDataChecking\\Honkawa\\2023-07-31\\03\\output_3fps\\20230731-030500-031000_10fps_3fps.mp4: 384x640 6 cows, 20.0ms\n",
      "WARNING  'Masks.masks' is deprecated. Use 'Masks.data' instead.\n"
     ]
    },
    {
     "name": "stdout",
     "output_type": "stream",
     "text": [
      "White Percentage: 10.40%\n",
      "1/1 [==============================] - 0s 41ms/step\n",
      "White Percentage: 11.74%\n",
      "1/1 [==============================] - 0s 40ms/step\n",
      "White Percentage: 2.69%\n",
      "1/1 [==============================] - 0s 50ms/step\n"
     ]
    },
    {
     "name": "stderr",
     "output_type": "stream",
     "text": [
      "video 1/1 (787/901) D:\\815_CowDataChecking\\Honkawa\\2023-07-31\\03\\output_3fps\\20230731-030500-031000_10fps_3fps.mp4: 384x640 6 cows, 24.5ms\n",
      "WARNING  'Masks.masks' is deprecated. Use 'Masks.data' instead.\n"
     ]
    },
    {
     "name": "stdout",
     "output_type": "stream",
     "text": [
      "White Percentage: 10.83%\n",
      "1/1 [==============================] - 0s 39ms/step\n",
      "White Percentage: 11.53%\n",
      "1/1 [==============================] - 0s 41ms/step\n",
      "White Percentage: 2.60%\n",
      "1/1 [==============================] - 0s 50ms/step\n"
     ]
    },
    {
     "name": "stderr",
     "output_type": "stream",
     "text": [
      "video 1/1 (788/901) D:\\815_CowDataChecking\\Honkawa\\2023-07-31\\03\\output_3fps\\20230731-030500-031000_10fps_3fps.mp4: 384x640 6 cows, 28.3ms\n",
      "WARNING  'Masks.masks' is deprecated. Use 'Masks.data' instead.\n"
     ]
    },
    {
     "name": "stdout",
     "output_type": "stream",
     "text": [
      "White Percentage: 10.46%\n",
      "1/1 [==============================] - 0s 46ms/step\n",
      "White Percentage: 11.49%\n",
      "1/1 [==============================] - 0s 50ms/step\n",
      "White Percentage: 2.62%\n",
      "1/1 [==============================] - 0s 53ms/step\n"
     ]
    },
    {
     "name": "stderr",
     "output_type": "stream",
     "text": [
      "video 1/1 (789/901) D:\\815_CowDataChecking\\Honkawa\\2023-07-31\\03\\output_3fps\\20230731-030500-031000_10fps_3fps.mp4: 384x640 6 cows, 23.4ms\n",
      "WARNING  'Masks.masks' is deprecated. Use 'Masks.data' instead.\n"
     ]
    },
    {
     "name": "stdout",
     "output_type": "stream",
     "text": [
      "White Percentage: 8.99%\n",
      "1/1 [==============================] - 0s 40ms/step\n",
      "White Percentage: 11.10%\n",
      "1/1 [==============================] - 0s 50ms/step\n",
      "White Percentage: 2.55%\n",
      "1/1 [==============================] - 0s 42ms/step\n"
     ]
    },
    {
     "name": "stderr",
     "output_type": "stream",
     "text": [
      "video 1/1 (790/901) D:\\815_CowDataChecking\\Honkawa\\2023-07-31\\03\\output_3fps\\20230731-030500-031000_10fps_3fps.mp4: 384x640 6 cows, 19.9ms\n",
      "WARNING  'Masks.masks' is deprecated. Use 'Masks.data' instead.\n"
     ]
    },
    {
     "name": "stdout",
     "output_type": "stream",
     "text": [
      "White Percentage: 10.90%\n",
      "1/1 [==============================] - 0s 40ms/step\n",
      "White Percentage: 11.18%\n",
      "1/1 [==============================] - 0s 40ms/step\n",
      "White Percentage: 2.16%\n",
      "1/1 [==============================] - 0s 43ms/step\n"
     ]
    },
    {
     "name": "stderr",
     "output_type": "stream",
     "text": [
      "video 1/1 (791/901) D:\\815_CowDataChecking\\Honkawa\\2023-07-31\\03\\output_3fps\\20230731-030500-031000_10fps_3fps.mp4: 384x640 6 cows, 20.0ms\n",
      "WARNING  'Masks.masks' is deprecated. Use 'Masks.data' instead.\n"
     ]
    },
    {
     "name": "stdout",
     "output_type": "stream",
     "text": [
      "White Percentage: 10.66%\n",
      "1/1 [==============================] - 0s 41ms/step\n",
      "White Percentage: 11.07%\n",
      "1/1 [==============================] - 0s 41ms/step\n",
      "White Percentage: 1.93%\n",
      "1/1 [==============================] - 0s 45ms/step\n"
     ]
    },
    {
     "name": "stderr",
     "output_type": "stream",
     "text": [
      "video 1/1 (792/901) D:\\815_CowDataChecking\\Honkawa\\2023-07-31\\03\\output_3fps\\20230731-030500-031000_10fps_3fps.mp4: 384x640 6 cows, 20.0ms\n",
      "WARNING  'Masks.masks' is deprecated. Use 'Masks.data' instead.\n"
     ]
    },
    {
     "name": "stdout",
     "output_type": "stream",
     "text": [
      "White Percentage: 7.53%\n",
      "1/1 [==============================] - 0s 40ms/step\n",
      "White Percentage: 11.10%\n",
      "1/1 [==============================] - 0s 51ms/step\n",
      "White Percentage: 1.75%\n",
      "1/1 [==============================] - 0s 39ms/step\n"
     ]
    },
    {
     "name": "stderr",
     "output_type": "stream",
     "text": [
      "video 1/1 (793/901) D:\\815_CowDataChecking\\Honkawa\\2023-07-31\\03\\output_3fps\\20230731-030500-031000_10fps_3fps.mp4: 384x640 7 cows, 29.2ms\n",
      "WARNING  'Masks.masks' is deprecated. Use 'Masks.data' instead.\n"
     ]
    },
    {
     "name": "stdout",
     "output_type": "stream",
     "text": [
      "White Percentage: 7.94%\n",
      "1/1 [==============================] - 0s 43ms/step\n",
      "White Percentage: 10.85%\n",
      "1/1 [==============================] - 0s 40ms/step\n",
      "White Percentage: 1.16%\n",
      "1/1 [==============================] - 0s 46ms/step\n"
     ]
    },
    {
     "name": "stderr",
     "output_type": "stream",
     "text": [
      "video 1/1 (794/901) D:\\815_CowDataChecking\\Honkawa\\2023-07-31\\03\\output_3fps\\20230731-030500-031000_10fps_3fps.mp4: 384x640 7 cows, 22.9ms\n",
      "WARNING  'Masks.masks' is deprecated. Use 'Masks.data' instead.\n"
     ]
    },
    {
     "name": "stdout",
     "output_type": "stream",
     "text": [
      "White Percentage: 10.99%\n",
      "1/1 [==============================] - 0s 40ms/step\n",
      "White Percentage: 11.20%\n",
      "1/1 [==============================] - 0s 42ms/step\n",
      "White Percentage: 1.42%\n",
      "1/1 [==============================] - 0s 41ms/step\n"
     ]
    },
    {
     "name": "stderr",
     "output_type": "stream",
     "text": [
      "video 1/1 (795/901) D:\\815_CowDataChecking\\Honkawa\\2023-07-31\\03\\output_3fps\\20230731-030500-031000_10fps_3fps.mp4: 384x640 7 cows, 20.0ms\n",
      "WARNING  'Masks.masks' is deprecated. Use 'Masks.data' instead.\n"
     ]
    },
    {
     "name": "stdout",
     "output_type": "stream",
     "text": [
      "White Percentage: 8.82%\n",
      "1/1 [==============================] - 0s 41ms/step\n",
      "White Percentage: 10.96%\n",
      "1/1 [==============================] - 0s 49ms/step\n",
      "White Percentage: 1.03%\n",
      "1/1 [==============================] - 0s 34ms/step\n"
     ]
    },
    {
     "name": "stderr",
     "output_type": "stream",
     "text": [
      "video 1/1 (796/901) D:\\815_CowDataChecking\\Honkawa\\2023-07-31\\03\\output_3fps\\20230731-030500-031000_10fps_3fps.mp4: 384x640 7 cows, 28.2ms\n",
      "WARNING  'Masks.masks' is deprecated. Use 'Masks.data' instead.\n"
     ]
    },
    {
     "name": "stdout",
     "output_type": "stream",
     "text": [
      "White Percentage: 8.24%\n",
      "1/1 [==============================] - 0s 35ms/step\n",
      "White Percentage: 10.54%\n",
      "1/1 [==============================] - 0s 50ms/step\n",
      "White Percentage: 1.15%\n",
      "1/1 [==============================] - 0s 43ms/step\n"
     ]
    },
    {
     "name": "stderr",
     "output_type": "stream",
     "text": [
      "video 1/1 (797/901) D:\\815_CowDataChecking\\Honkawa\\2023-07-31\\03\\output_3fps\\20230731-030500-031000_10fps_3fps.mp4: 384x640 7 cows, 20.1ms\n",
      "WARNING  'Masks.masks' is deprecated. Use 'Masks.data' instead.\n"
     ]
    },
    {
     "name": "stdout",
     "output_type": "stream",
     "text": [
      "White Percentage: 9.53%\n",
      "1/1 [==============================] - 0s 38ms/step\n",
      "White Percentage: 10.80%\n",
      "1/1 [==============================] - 0s 40ms/step\n",
      "White Percentage: 1.67%\n",
      "1/1 [==============================] - 0s 41ms/step\n"
     ]
    },
    {
     "name": "stderr",
     "output_type": "stream",
     "text": [
      "video 1/1 (798/901) D:\\815_CowDataChecking\\Honkawa\\2023-07-31\\03\\output_3fps\\20230731-030500-031000_10fps_3fps.mp4: 384x640 7 cows, 20.1ms\n",
      "WARNING  'Masks.masks' is deprecated. Use 'Masks.data' instead.\n"
     ]
    },
    {
     "name": "stdout",
     "output_type": "stream",
     "text": [
      "White Percentage: 9.56%\n",
      "1/1 [==============================] - 0s 32ms/step\n",
      "White Percentage: 10.68%\n",
      "1/1 [==============================] - 0s 42ms/step\n",
      "White Percentage: 2.51%\n",
      "1/1 [==============================] - 0s 41ms/step\n"
     ]
    },
    {
     "name": "stderr",
     "output_type": "stream",
     "text": [
      "video 1/1 (799/901) D:\\815_CowDataChecking\\Honkawa\\2023-07-31\\03\\output_3fps\\20230731-030500-031000_10fps_3fps.mp4: 384x640 7 cows, 26.2ms\n",
      "WARNING  'Masks.masks' is deprecated. Use 'Masks.data' instead.\n"
     ]
    },
    {
     "name": "stdout",
     "output_type": "stream",
     "text": [
      "White Percentage: 9.06%\n",
      "1/1 [==============================] - 0s 34ms/step\n",
      "White Percentage: 10.13%\n",
      "1/1 [==============================] - 0s 40ms/step\n",
      "White Percentage: 2.90%\n",
      "1/1 [==============================] - 0s 42ms/step\n"
     ]
    },
    {
     "name": "stderr",
     "output_type": "stream",
     "text": [
      "video 1/1 (800/901) D:\\815_CowDataChecking\\Honkawa\\2023-07-31\\03\\output_3fps\\20230731-030500-031000_10fps_3fps.mp4: 384x640 6 cows, 30.1ms\n",
      "WARNING  'Masks.masks' is deprecated. Use 'Masks.data' instead.\n"
     ]
    },
    {
     "name": "stdout",
     "output_type": "stream",
     "text": [
      "White Percentage: 8.20%\n",
      "1/1 [==============================] - 0s 35ms/step\n",
      "White Percentage: 9.17%\n",
      "1/1 [==============================] - 0s 45ms/step\n",
      "White Percentage: 3.03%\n",
      "1/1 [==============================] - 0s 42ms/step\n"
     ]
    },
    {
     "name": "stderr",
     "output_type": "stream",
     "text": [
      "video 1/1 (801/901) D:\\815_CowDataChecking\\Honkawa\\2023-07-31\\03\\output_3fps\\20230731-030500-031000_10fps_3fps.mp4: 384x640 6 cows, 20.0ms\n",
      "WARNING  'Masks.masks' is deprecated. Use 'Masks.data' instead.\n"
     ]
    },
    {
     "name": "stdout",
     "output_type": "stream",
     "text": [
      "White Percentage: 9.62%\n",
      "1/1 [==============================] - 0s 38ms/step\n",
      "White Percentage: 10.24%\n",
      "1/1 [==============================] - 0s 40ms/step\n",
      "White Percentage: 3.01%\n",
      "1/1 [==============================] - 0s 40ms/step\n"
     ]
    },
    {
     "name": "stderr",
     "output_type": "stream",
     "text": [
      "video 1/1 (802/901) D:\\815_CowDataChecking\\Honkawa\\2023-07-31\\03\\output_3fps\\20230731-030500-031000_10fps_3fps.mp4: 384x640 6 cows, 20.0ms\n",
      "WARNING  'Masks.masks' is deprecated. Use 'Masks.data' instead.\n"
     ]
    },
    {
     "name": "stdout",
     "output_type": "stream",
     "text": [
      "White Percentage: 8.39%\n",
      "1/1 [==============================] - 0s 40ms/step\n",
      "White Percentage: 10.69%\n",
      "1/1 [==============================] - 0s 42ms/step\n",
      "White Percentage: 2.92%\n",
      "1/1 [==============================] - 0s 49ms/step\n"
     ]
    },
    {
     "name": "stderr",
     "output_type": "stream",
     "text": [
      "video 1/1 (803/901) D:\\815_CowDataChecking\\Honkawa\\2023-07-31\\03\\output_3fps\\20230731-030500-031000_10fps_3fps.mp4: 384x640 6 cows, 27.2ms\n",
      "WARNING  'Masks.masks' is deprecated. Use 'Masks.data' instead.\n"
     ]
    },
    {
     "name": "stdout",
     "output_type": "stream",
     "text": [
      "White Percentage: 9.71%\n",
      "1/1 [==============================] - 0s 57ms/step\n",
      "White Percentage: 10.64%\n",
      "1/1 [==============================] - 0s 40ms/step\n",
      "White Percentage: 2.93%\n",
      "1/1 [==============================] - 0s 47ms/step\n"
     ]
    },
    {
     "name": "stderr",
     "output_type": "stream",
     "text": [
      "video 1/1 (804/901) D:\\815_CowDataChecking\\Honkawa\\2023-07-31\\03\\output_3fps\\20230731-030500-031000_10fps_3fps.mp4: 384x640 6 cows, 30.0ms\n",
      "WARNING  'Masks.masks' is deprecated. Use 'Masks.data' instead.\n"
     ]
    },
    {
     "name": "stdout",
     "output_type": "stream",
     "text": [
      "White Percentage: 7.54%\n",
      "1/1 [==============================] - 0s 48ms/step\n",
      "White Percentage: 10.38%\n",
      "1/1 [==============================] - 0s 40ms/step\n",
      "White Percentage: 2.90%\n",
      "1/1 [==============================] - 0s 51ms/step\n"
     ]
    },
    {
     "name": "stderr",
     "output_type": "stream",
     "text": [
      "video 1/1 (805/901) D:\\815_CowDataChecking\\Honkawa\\2023-07-31\\03\\output_3fps\\20230731-030500-031000_10fps_3fps.mp4: 384x640 6 cows, 20.0ms\n",
      "WARNING  'Masks.masks' is deprecated. Use 'Masks.data' instead.\n"
     ]
    },
    {
     "name": "stdout",
     "output_type": "stream",
     "text": [
      "White Percentage: 9.66%\n",
      "1/1 [==============================] - 0s 44ms/step\n",
      "White Percentage: 10.55%\n",
      "1/1 [==============================] - 0s 60ms/step\n",
      "White Percentage: 3.09%\n",
      "1/1 [==============================] - 0s 39ms/step\n"
     ]
    },
    {
     "name": "stderr",
     "output_type": "stream",
     "text": [
      "video 1/1 (806/901) D:\\815_CowDataChecking\\Honkawa\\2023-07-31\\03\\output_3fps\\20230731-030500-031000_10fps_3fps.mp4: 384x640 6 cows, 20.0ms\n",
      "WARNING  'Masks.masks' is deprecated. Use 'Masks.data' instead.\n"
     ]
    },
    {
     "name": "stdout",
     "output_type": "stream",
     "text": [
      "White Percentage: 8.88%\n",
      "1/1 [==============================] - 0s 44ms/step\n",
      "White Percentage: 10.48%\n",
      "1/1 [==============================] - 0s 51ms/step\n",
      "White Percentage: 2.97%\n",
      "1/1 [==============================] - 0s 57ms/step\n",
      "White Percentage: 6.80%\n",
      "1/1 [==============================] - 0s 40ms/step\n"
     ]
    },
    {
     "name": "stderr",
     "output_type": "stream",
     "text": [
      "video 1/1 (807/901) D:\\815_CowDataChecking\\Honkawa\\2023-07-31\\03\\output_3fps\\20230731-030500-031000_10fps_3fps.mp4: 384x640 6 cows, 20.1ms\n",
      "WARNING  'Masks.masks' is deprecated. Use 'Masks.data' instead.\n"
     ]
    },
    {
     "name": "stdout",
     "output_type": "stream",
     "text": [
      "White Percentage: 0.73%\n",
      "[['ID', 'RANK1', 'RANK1_prob', 'RANK2', 'RANK2_prob', 'RANK3', 'RANK3_prob', 'RANK4', 'RANK4_prob', 'RANK5', 'RANK5_prob']]\n",
      "new cattle  xxxxxxxxxxxxxxxxxxxxx new cattle alert \n",
      "1/1 [==============================] - 0s 41ms/step\n",
      "White Percentage: 10.50%\n",
      "1/1 [==============================] - 0s 39ms/step\n",
      "White Percentage: 2.77%\n",
      "1/1 [==============================] - 0s 50ms/step\n",
      "White Percentage: 10.90%\n",
      "1/1 [==============================] - 0s 50ms/step\n"
     ]
    },
    {
     "name": "stderr",
     "output_type": "stream",
     "text": [
      "video 1/1 (808/901) D:\\815_CowDataChecking\\Honkawa\\2023-07-31\\03\\output_3fps\\20230731-030500-031000_10fps_3fps.mp4: 384x640 6 cows, 20.0ms\n",
      "WARNING  'Masks.masks' is deprecated. Use 'Masks.data' instead.\n"
     ]
    },
    {
     "name": "stdout",
     "output_type": "stream",
     "text": [
      "White Percentage: 0.73%\n",
      "1/1 [==============================] - 0s 40ms/step\n",
      "White Percentage: 10.41%\n",
      "1/1 [==============================] - 0s 40ms/step\n",
      "White Percentage: 2.75%\n",
      "1/1 [==============================] - 0s 40ms/step\n",
      "White Percentage: 10.38%\n",
      "1/1 [==============================] - 0s 55ms/step\n"
     ]
    },
    {
     "name": "stderr",
     "output_type": "stream",
     "text": [
      "video 1/1 (809/901) D:\\815_CowDataChecking\\Honkawa\\2023-07-31\\03\\output_3fps\\20230731-030500-031000_10fps_3fps.mp4: 384x640 6 cows, 20.0ms\n",
      "WARNING  'Masks.masks' is deprecated. Use 'Masks.data' instead.\n"
     ]
    },
    {
     "name": "stdout",
     "output_type": "stream",
     "text": [
      "White Percentage: 0.61%\n",
      "1/1 [==============================] - 0s 43ms/step\n",
      "White Percentage: 10.23%\n",
      "1/1 [==============================] - 0s 51ms/step\n",
      "White Percentage: 2.61%\n",
      "1/1 [==============================] - 0s 43ms/step\n",
      "White Percentage: 10.73%\n",
      "1/1 [==============================] - 0s 41ms/step\n"
     ]
    },
    {
     "name": "stderr",
     "output_type": "stream",
     "text": [
      "video 1/1 (810/901) D:\\815_CowDataChecking\\Honkawa\\2023-07-31\\03\\output_3fps\\20230731-030500-031000_10fps_3fps.mp4: 384x640 6 cows, 20.0ms\n",
      "WARNING  'Masks.masks' is deprecated. Use 'Masks.data' instead.\n"
     ]
    },
    {
     "name": "stdout",
     "output_type": "stream",
     "text": [
      "White Percentage: 0.68%\n",
      "1/1 [==============================] - 0s 44ms/step\n",
      "White Percentage: 10.20%\n",
      "1/1 [==============================] - 0s 50ms/step\n",
      "White Percentage: 2.47%\n",
      "1/1 [==============================] - 0s 47ms/step\n",
      "White Percentage: 7.62%\n",
      "1/1 [==============================] - 0s 40ms/step\n"
     ]
    },
    {
     "name": "stderr",
     "output_type": "stream",
     "text": [
      "video 1/1 (811/901) D:\\815_CowDataChecking\\Honkawa\\2023-07-31\\03\\output_3fps\\20230731-030500-031000_10fps_3fps.mp4: 384x640 6 cows, 20.0ms\n",
      "WARNING  'Masks.masks' is deprecated. Use 'Masks.data' instead.\n"
     ]
    },
    {
     "name": "stdout",
     "output_type": "stream",
     "text": [
      "White Percentage: 0.66%\n",
      "1/1 [==============================] - 0s 35ms/step\n",
      "White Percentage: 10.20%\n",
      "1/1 [==============================] - 0s 38ms/step\n",
      "White Percentage: 2.62%\n",
      "1/1 [==============================] - 0s 40ms/step\n",
      "White Percentage: 9.10%\n",
      "1/1 [==============================] - 0s 40ms/step\n"
     ]
    },
    {
     "name": "stderr",
     "output_type": "stream",
     "text": [
      "video 1/1 (812/901) D:\\815_CowDataChecking\\Honkawa\\2023-07-31\\03\\output_3fps\\20230731-030500-031000_10fps_3fps.mp4: 384x640 6 cows, 20.1ms\n",
      "WARNING  'Masks.masks' is deprecated. Use 'Masks.data' instead.\n"
     ]
    },
    {
     "name": "stdout",
     "output_type": "stream",
     "text": [
      "White Percentage: 0.60%\n",
      "1/1 [==============================] - 0s 39ms/step\n",
      "White Percentage: 10.47%\n",
      "1/1 [==============================] - 0s 40ms/step\n",
      "White Percentage: 2.61%\n",
      "1/1 [==============================] - 0s 44ms/step\n",
      "White Percentage: 8.35%\n",
      "1/1 [==============================] - 0s 43ms/step\n"
     ]
    },
    {
     "name": "stderr",
     "output_type": "stream",
     "text": [
      "video 1/1 (813/901) D:\\815_CowDataChecking\\Honkawa\\2023-07-31\\03\\output_3fps\\20230731-030500-031000_10fps_3fps.mp4: 384x640 6 cows, 32.2ms\n",
      "WARNING  'Masks.masks' is deprecated. Use 'Masks.data' instead.\n"
     ]
    },
    {
     "name": "stdout",
     "output_type": "stream",
     "text": [
      "White Percentage: 0.49%\n",
      "1/1 [==============================] - 0s 35ms/step\n",
      "White Percentage: 10.34%\n",
      "1/1 [==============================] - 0s 42ms/step\n",
      "White Percentage: 2.67%\n",
      "1/1 [==============================] - 0s 50ms/step\n",
      "White Percentage: 9.76%\n",
      "1/1 [==============================] - 0s 49ms/step\n"
     ]
    },
    {
     "name": "stderr",
     "output_type": "stream",
     "text": [
      "video 1/1 (814/901) D:\\815_CowDataChecking\\Honkawa\\2023-07-31\\03\\output_3fps\\20230731-030500-031000_10fps_3fps.mp4: 384x640 6 cows, 20.0ms\n",
      "WARNING  'Masks.masks' is deprecated. Use 'Masks.data' instead.\n"
     ]
    },
    {
     "name": "stdout",
     "output_type": "stream",
     "text": [
      "White Percentage: 0.49%\n",
      "1/1 [==============================] - 0s 39ms/step\n",
      "White Percentage: 10.04%\n",
      "1/1 [==============================] - 0s 40ms/step\n",
      "White Percentage: 2.78%\n",
      "1/1 [==============================] - 0s 40ms/step\n",
      "White Percentage: 7.93%\n",
      "1/1 [==============================] - 0s 40ms/step\n"
     ]
    },
    {
     "name": "stderr",
     "output_type": "stream",
     "text": [
      "video 1/1 (815/901) D:\\815_CowDataChecking\\Honkawa\\2023-07-31\\03\\output_3fps\\20230731-030500-031000_10fps_3fps.mp4: 384x640 6 cows, 20.0ms\n",
      "WARNING  'Masks.masks' is deprecated. Use 'Masks.data' instead.\n"
     ]
    },
    {
     "name": "stdout",
     "output_type": "stream",
     "text": [
      "White Percentage: 0.60%\n",
      "1/1 [==============================] - 0s 45ms/step\n",
      "White Percentage: 9.35%\n",
      "1/1 [==============================] - 0s 40ms/step\n",
      "White Percentage: 2.80%\n",
      "1/1 [==============================] - 0s 40ms/step\n",
      "White Percentage: 7.63%\n",
      "1/1 [==============================] - 0s 50ms/step\n"
     ]
    },
    {
     "name": "stderr",
     "output_type": "stream",
     "text": [
      "video 1/1 (816/901) D:\\815_CowDataChecking\\Honkawa\\2023-07-31\\03\\output_3fps\\20230731-030500-031000_10fps_3fps.mp4: 384x640 6 cows, 30.1ms\n",
      "WARNING  'Masks.masks' is deprecated. Use 'Masks.data' instead.\n"
     ]
    },
    {
     "name": "stdout",
     "output_type": "stream",
     "text": [
      "White Percentage: 0.67%\n",
      "1/1 [==============================] - 0s 42ms/step\n",
      "White Percentage: 9.93%\n",
      "1/1 [==============================] - 0s 49ms/step\n",
      "White Percentage: 2.89%\n",
      "1/1 [==============================] - 0s 47ms/step\n",
      "White Percentage: 8.92%\n",
      "1/1 [==============================] - 0s 50ms/step\n"
     ]
    },
    {
     "name": "stderr",
     "output_type": "stream",
     "text": [
      "video 1/1 (817/901) D:\\815_CowDataChecking\\Honkawa\\2023-07-31\\03\\output_3fps\\20230731-030500-031000_10fps_3fps.mp4: 384x640 6 cows, 24.3ms\n",
      "WARNING  'Masks.masks' is deprecated. Use 'Masks.data' instead.\n"
     ]
    },
    {
     "name": "stdout",
     "output_type": "stream",
     "text": [
      "White Percentage: 0.84%\n",
      "1/1 [==============================] - 0s 41ms/step\n",
      "White Percentage: 3.12%\n",
      "1/1 [==============================] - 0s 50ms/step\n",
      "White Percentage: 8.29%\n",
      "1/1 [==============================] - 0s 50ms/step\n"
     ]
    },
    {
     "name": "stderr",
     "output_type": "stream",
     "text": [
      "video 1/1 (818/901) D:\\815_CowDataChecking\\Honkawa\\2023-07-31\\03\\output_3fps\\20230731-030500-031000_10fps_3fps.mp4: 384x640 6 cows, 31.4ms\n",
      "WARNING  'Masks.masks' is deprecated. Use 'Masks.data' instead.\n"
     ]
    },
    {
     "name": "stdout",
     "output_type": "stream",
     "text": [
      "White Percentage: 0.77%\n",
      "1/1 [==============================] - 0s 42ms/step\n",
      "White Percentage: 3.01%\n",
      "1/1 [==============================] - 0s 45ms/step\n",
      "White Percentage: 8.80%\n",
      "1/1 [==============================] - 0s 40ms/step\n"
     ]
    },
    {
     "name": "stderr",
     "output_type": "stream",
     "text": [
      "video 1/1 (819/901) D:\\815_CowDataChecking\\Honkawa\\2023-07-31\\03\\output_3fps\\20230731-030500-031000_10fps_3fps.mp4: 384x640 6 cows, 23.1ms\n",
      "WARNING  'Masks.masks' is deprecated. Use 'Masks.data' instead.\n"
     ]
    },
    {
     "name": "stdout",
     "output_type": "stream",
     "text": [
      "White Percentage: 0.89%\n",
      "1/1 [==============================] - 0s 43ms/step\n",
      "White Percentage: 3.12%\n",
      "1/1 [==============================] - 0s 52ms/step\n",
      "White Percentage: 8.08%\n",
      "1/1 [==============================] - 0s 40ms/step\n"
     ]
    },
    {
     "name": "stderr",
     "output_type": "stream",
     "text": [
      "video 1/1 (820/901) D:\\815_CowDataChecking\\Honkawa\\2023-07-31\\03\\output_3fps\\20230731-030500-031000_10fps_3fps.mp4: 384x640 6 cows, 20.0ms\n",
      "WARNING  'Masks.masks' is deprecated. Use 'Masks.data' instead.\n"
     ]
    },
    {
     "name": "stdout",
     "output_type": "stream",
     "text": [
      "White Percentage: 0.68%\n",
      "1/1 [==============================] - 0s 46ms/step\n",
      "White Percentage: 3.21%\n",
      "1/1 [==============================] - 0s 44ms/step\n",
      "White Percentage: 8.10%\n",
      "1/1 [==============================] - 0s 50ms/step\n"
     ]
    },
    {
     "name": "stderr",
     "output_type": "stream",
     "text": [
      "video 1/1 (821/901) D:\\815_CowDataChecking\\Honkawa\\2023-07-31\\03\\output_3fps\\20230731-030500-031000_10fps_3fps.mp4: 384x640 7 cows, 18.1ms\n",
      "WARNING  'Masks.masks' is deprecated. Use 'Masks.data' instead.\n"
     ]
    },
    {
     "name": "stdout",
     "output_type": "stream",
     "text": [
      "White Percentage: 0.75%\n",
      "1/1 [==============================] - 0s 37ms/step\n",
      "White Percentage: 3.28%\n",
      "1/1 [==============================] - 0s 49ms/step\n",
      "White Percentage: 8.29%\n",
      "1/1 [==============================] - 0s 40ms/step\n"
     ]
    },
    {
     "name": "stderr",
     "output_type": "stream",
     "text": [
      "video 1/1 (822/901) D:\\815_CowDataChecking\\Honkawa\\2023-07-31\\03\\output_3fps\\20230731-030500-031000_10fps_3fps.mp4: 384x640 6 cows, 20.0ms\n",
      "WARNING  'Masks.masks' is deprecated. Use 'Masks.data' instead.\n"
     ]
    },
    {
     "name": "stdout",
     "output_type": "stream",
     "text": [
      "White Percentage: 0.65%\n",
      "1/1 [==============================] - 0s 43ms/step\n",
      "White Percentage: 3.25%\n",
      "1/1 [==============================] - 0s 53ms/step\n",
      "White Percentage: 7.82%\n",
      "1/1 [==============================] - 0s 39ms/step\n"
     ]
    },
    {
     "name": "stderr",
     "output_type": "stream",
     "text": [
      "video 1/1 (823/901) D:\\815_CowDataChecking\\Honkawa\\2023-07-31\\03\\output_3fps\\20230731-030500-031000_10fps_3fps.mp4: 384x640 7 cows, 16.0ms\n",
      "WARNING  'Masks.masks' is deprecated. Use 'Masks.data' instead.\n"
     ]
    },
    {
     "name": "stdout",
     "output_type": "stream",
     "text": [
      "White Percentage: 0.87%\n",
      "1/1 [==============================] - 0s 38ms/step\n",
      "White Percentage: 3.36%\n",
      "1/1 [==============================] - 0s 40ms/step\n",
      "White Percentage: 6.91%\n",
      "1/1 [==============================] - 0s 49ms/step\n"
     ]
    },
    {
     "name": "stderr",
     "output_type": "stream",
     "text": [
      "video 1/1 (824/901) D:\\815_CowDataChecking\\Honkawa\\2023-07-31\\03\\output_3fps\\20230731-030500-031000_10fps_3fps.mp4: 384x640 7 cows, 20.0ms\n",
      "WARNING  'Masks.masks' is deprecated. Use 'Masks.data' instead.\n"
     ]
    },
    {
     "name": "stdout",
     "output_type": "stream",
     "text": [
      "White Percentage: 0.67%\n",
      "1/1 [==============================] - 0s 51ms/step\n",
      "White Percentage: 3.44%\n",
      "1/1 [==============================] - 0s 50ms/step\n",
      "White Percentage: 7.48%\n",
      "1/1 [==============================] - 0s 45ms/step\n"
     ]
    },
    {
     "name": "stderr",
     "output_type": "stream",
     "text": [
      "video 1/1 (825/901) D:\\815_CowDataChecking\\Honkawa\\2023-07-31\\03\\output_3fps\\20230731-030500-031000_10fps_3fps.mp4: 384x640 7 cows, 21.2ms\n",
      "WARNING  'Masks.masks' is deprecated. Use 'Masks.data' instead.\n"
     ]
    },
    {
     "name": "stdout",
     "output_type": "stream",
     "text": [
      "White Percentage: 0.87%\n",
      "1/1 [==============================] - 0s 40ms/step\n",
      "White Percentage: 3.20%\n",
      "1/1 [==============================] - 0s 46ms/step\n",
      "White Percentage: 7.55%\n",
      "1/1 [==============================] - 0s 37ms/step\n"
     ]
    },
    {
     "name": "stderr",
     "output_type": "stream",
     "text": [
      "video 1/1 (826/901) D:\\815_CowDataChecking\\Honkawa\\2023-07-31\\03\\output_3fps\\20230731-030500-031000_10fps_3fps.mp4: 384x640 7 cows, 22.4ms\n",
      "WARNING  'Masks.masks' is deprecated. Use 'Masks.data' instead.\n"
     ]
    },
    {
     "name": "stdout",
     "output_type": "stream",
     "text": [
      "White Percentage: 0.90%\n",
      "1/1 [==============================] - 0s 35ms/step\n",
      "White Percentage: 3.56%\n",
      "1/1 [==============================] - 0s 50ms/step\n",
      "White Percentage: 7.77%\n",
      "1/1 [==============================] - 0s 40ms/step\n"
     ]
    },
    {
     "name": "stderr",
     "output_type": "stream",
     "text": [
      "video 1/1 (827/901) D:\\815_CowDataChecking\\Honkawa\\2023-07-31\\03\\output_3fps\\20230731-030500-031000_10fps_3fps.mp4: 384x640 7 cows, 30.0ms\n",
      "WARNING  'Masks.masks' is deprecated. Use 'Masks.data' instead.\n"
     ]
    },
    {
     "name": "stdout",
     "output_type": "stream",
     "text": [
      "White Percentage: 0.77%\n",
      "1/1 [==============================] - 0s 41ms/step\n",
      "White Percentage: 3.69%\n",
      "1/1 [==============================] - 0s 47ms/step\n",
      "White Percentage: 5.67%\n",
      "1/1 [==============================] - 0s 40ms/step\n"
     ]
    },
    {
     "name": "stderr",
     "output_type": "stream",
     "text": [
      "video 1/1 (828/901) D:\\815_CowDataChecking\\Honkawa\\2023-07-31\\03\\output_3fps\\20230731-030500-031000_10fps_3fps.mp4: 384x640 6 cows, 20.0ms\n",
      "WARNING  'Masks.masks' is deprecated. Use 'Masks.data' instead.\n"
     ]
    },
    {
     "name": "stdout",
     "output_type": "stream",
     "text": [
      "White Percentage: 0.95%\n",
      "1/1 [==============================] - 0s 43ms/step\n",
      "White Percentage: 3.64%\n",
      "1/1 [==============================] - 0s 40ms/step\n",
      "White Percentage: 6.01%\n",
      "1/1 [==============================] - 0s 40ms/step\n"
     ]
    },
    {
     "name": "stderr",
     "output_type": "stream",
     "text": [
      "video 1/1 (829/901) D:\\815_CowDataChecking\\Honkawa\\2023-07-31\\03\\output_3fps\\20230731-030500-031000_10fps_3fps.mp4: 384x640 6 cows, 20.0ms\n",
      "WARNING  'Masks.masks' is deprecated. Use 'Masks.data' instead.\n"
     ]
    },
    {
     "name": "stdout",
     "output_type": "stream",
     "text": [
      "White Percentage: 0.86%\n",
      "1/1 [==============================] - 0s 45ms/step\n",
      "White Percentage: 3.83%\n",
      "1/1 [==============================] - 0s 36ms/step\n",
      "White Percentage: 6.24%\n",
      "1/1 [==============================] - 0s 52ms/step\n"
     ]
    },
    {
     "name": "stderr",
     "output_type": "stream",
     "text": [
      "video 1/1 (830/901) D:\\815_CowDataChecking\\Honkawa\\2023-07-31\\03\\output_3fps\\20230731-030500-031000_10fps_3fps.mp4: 384x640 6 cows, 20.1ms\n",
      "WARNING  'Masks.masks' is deprecated. Use 'Masks.data' instead.\n"
     ]
    },
    {
     "name": "stdout",
     "output_type": "stream",
     "text": [
      "White Percentage: 0.87%\n",
      "1/1 [==============================] - 0s 43ms/step\n",
      "White Percentage: 3.79%\n",
      "1/1 [==============================] - 0s 44ms/step\n",
      "White Percentage: 10.43%\n",
      "1/1 [==============================] - 0s 44ms/step\n"
     ]
    },
    {
     "name": "stderr",
     "output_type": "stream",
     "text": [
      "video 1/1 (831/901) D:\\815_CowDataChecking\\Honkawa\\2023-07-31\\03\\output_3fps\\20230731-030500-031000_10fps_3fps.mp4: 384x640 6 cows, 20.0ms\n",
      "WARNING  'Masks.masks' is deprecated. Use 'Masks.data' instead.\n"
     ]
    },
    {
     "name": "stdout",
     "output_type": "stream",
     "text": [
      "White Percentage: 0.96%\n",
      "1/1 [==============================] - 0s 49ms/step\n",
      "White Percentage: 3.97%\n",
      "1/1 [==============================] - 0s 40ms/step\n",
      "White Percentage: 11.14%\n",
      "1/1 [==============================] - 0s 40ms/step\n",
      "White Percentage: 0.82%\n",
      "1/1 [==============================] - 0s 40ms/step\n"
     ]
    },
    {
     "name": "stderr",
     "output_type": "stream",
     "text": [
      "video 1/1 (832/901) D:\\815_CowDataChecking\\Honkawa\\2023-07-31\\03\\output_3fps\\20230731-030500-031000_10fps_3fps.mp4: 384x640 6 cows, 20.0ms\n",
      "WARNING  'Masks.masks' is deprecated. Use 'Masks.data' instead.\n"
     ]
    },
    {
     "name": "stdout",
     "output_type": "stream",
     "text": [
      "White Percentage: 26.34%\n",
      "[['ID', 'RANK1', 'RANK1_prob', 'RANK2', 'RANK2_prob', 'RANK3', 'RANK3_prob', 'RANK4', 'RANK4_prob', 'RANK5', 'RANK5_prob']]\n",
      "new cattle  xxxxxxxxxxxxxxxxxxxxx new cattle alert \n",
      "1/1 [==============================] - 0s 42ms/step\n",
      "White Percentage: 3.95%\n",
      "1/1 [==============================] - 0s 50ms/step\n",
      "White Percentage: 11.51%\n",
      "1/1 [==============================] - 0s 42ms/step\n",
      "White Percentage: 0.60%\n",
      "1/1 [==============================] - 0s 40ms/step\n"
     ]
    },
    {
     "name": "stderr",
     "output_type": "stream",
     "text": [
      "video 1/1 (833/901) D:\\815_CowDataChecking\\Honkawa\\2023-07-31\\03\\output_3fps\\20230731-030500-031000_10fps_3fps.mp4: 384x640 6 cows, 30.5ms\n",
      "WARNING  'Masks.masks' is deprecated. Use 'Masks.data' instead.\n"
     ]
    },
    {
     "name": "stdout",
     "output_type": "stream",
     "text": [
      "White Percentage: 25.02%\n",
      "1/1 [==============================] - 0s 36ms/step\n",
      "White Percentage: 4.11%\n",
      "1/1 [==============================] - 0s 34ms/step\n",
      "White Percentage: 8.23%\n",
      "1/1 [==============================] - 0s 44ms/step\n",
      "White Percentage: 0.70%\n",
      "1/1 [==============================] - 0s 40ms/step\n"
     ]
    },
    {
     "name": "stderr",
     "output_type": "stream",
     "text": [
      "video 1/1 (834/901) D:\\815_CowDataChecking\\Honkawa\\2023-07-31\\03\\output_3fps\\20230731-030500-031000_10fps_3fps.mp4: 384x640 6 cows, 24.6ms\n",
      "WARNING  'Masks.masks' is deprecated. Use 'Masks.data' instead.\n"
     ]
    },
    {
     "name": "stdout",
     "output_type": "stream",
     "text": [
      "White Percentage: 25.24%\n",
      "1/1 [==============================] - 0s 37ms/step\n",
      "White Percentage: 4.04%\n",
      "1/1 [==============================] - 0s 40ms/step\n",
      "White Percentage: 8.94%\n",
      "1/1 [==============================] - 0s 40ms/step\n",
      "White Percentage: 0.71%\n",
      "1/1 [==============================] - 0s 41ms/step\n"
     ]
    },
    {
     "name": "stderr",
     "output_type": "stream",
     "text": [
      "video 1/1 (835/901) D:\\815_CowDataChecking\\Honkawa\\2023-07-31\\03\\output_3fps\\20230731-030500-031000_10fps_3fps.mp4: 384x640 6 cows, 15.6ms\n",
      "WARNING  'Masks.masks' is deprecated. Use 'Masks.data' instead.\n"
     ]
    },
    {
     "name": "stdout",
     "output_type": "stream",
     "text": [
      "White Percentage: 26.64%\n",
      "1/1 [==============================] - 0s 36ms/step\n",
      "White Percentage: 4.16%\n",
      "1/1 [==============================] - 0s 50ms/step\n",
      "White Percentage: 9.85%\n",
      "1/1 [==============================] - 0s 46ms/step\n",
      "White Percentage: 0.59%\n",
      "1/1 [==============================] - 0s 50ms/step\n"
     ]
    },
    {
     "name": "stderr",
     "output_type": "stream",
     "text": [
      "video 1/1 (836/901) D:\\815_CowDataChecking\\Honkawa\\2023-07-31\\03\\output_3fps\\20230731-030500-031000_10fps_3fps.mp4: 384x640 6 cows, 26.6ms\n",
      "WARNING  'Masks.masks' is deprecated. Use 'Masks.data' instead.\n"
     ]
    },
    {
     "name": "stdout",
     "output_type": "stream",
     "text": [
      "White Percentage: 25.49%\n",
      "1/1 [==============================] - 0s 43ms/step\n",
      "White Percentage: 4.25%\n",
      "1/1 [==============================] - 0s 47ms/step\n",
      "White Percentage: 8.22%\n",
      "1/1 [==============================] - 0s 50ms/step\n",
      "White Percentage: 0.74%\n",
      "1/1 [==============================] - 0s 50ms/step\n"
     ]
    },
    {
     "name": "stderr",
     "output_type": "stream",
     "text": [
      "video 1/1 (837/901) D:\\815_CowDataChecking\\Honkawa\\2023-07-31\\03\\output_3fps\\20230731-030500-031000_10fps_3fps.mp4: 384x640 6 cows, 21.1ms\n",
      "WARNING  'Masks.masks' is deprecated. Use 'Masks.data' instead.\n"
     ]
    },
    {
     "name": "stdout",
     "output_type": "stream",
     "text": [
      "White Percentage: 26.17%\n",
      "1/1 [==============================] - 0s 44ms/step\n",
      "White Percentage: 4.15%\n",
      "1/1 [==============================] - 0s 41ms/step\n",
      "White Percentage: 8.03%\n",
      "1/1 [==============================] - 0s 50ms/step\n",
      "White Percentage: 0.65%\n",
      "1/1 [==============================] - 0s 50ms/step\n"
     ]
    },
    {
     "name": "stderr",
     "output_type": "stream",
     "text": [
      "video 1/1 (838/901) D:\\815_CowDataChecking\\Honkawa\\2023-07-31\\03\\output_3fps\\20230731-030500-031000_10fps_3fps.mp4: 384x640 6 cows, 15.1ms\n",
      "WARNING  'Masks.masks' is deprecated. Use 'Masks.data' instead.\n"
     ]
    },
    {
     "name": "stdout",
     "output_type": "stream",
     "text": [
      "White Percentage: 23.77%\n",
      "1/1 [==============================] - 0s 50ms/step\n",
      "White Percentage: 4.30%\n",
      "1/1 [==============================] - 0s 40ms/step\n",
      "White Percentage: 9.57%\n",
      "1/1 [==============================] - 0s 40ms/step\n",
      "White Percentage: 0.56%\n",
      "1/1 [==============================] - 0s 47ms/step\n"
     ]
    },
    {
     "name": "stderr",
     "output_type": "stream",
     "text": [
      "video 1/1 (839/901) D:\\815_CowDataChecking\\Honkawa\\2023-07-31\\03\\output_3fps\\20230731-030500-031000_10fps_3fps.mp4: 384x640 6 cows, 21.2ms\n",
      "WARNING  'Masks.masks' is deprecated. Use 'Masks.data' instead.\n"
     ]
    },
    {
     "name": "stdout",
     "output_type": "stream",
     "text": [
      "White Percentage: 26.20%\n",
      "1/1 [==============================] - 0s 32ms/step\n",
      "White Percentage: 4.15%\n",
      "1/1 [==============================] - 0s 50ms/step\n",
      "White Percentage: 8.66%\n",
      "1/1 [==============================] - 0s 51ms/step\n",
      "White Percentage: 1.51%\n",
      "1/1 [==============================] - 0s 50ms/step\n"
     ]
    },
    {
     "name": "stderr",
     "output_type": "stream",
     "text": [
      "video 1/1 (840/901) D:\\815_CowDataChecking\\Honkawa\\2023-07-31\\03\\output_3fps\\20230731-030500-031000_10fps_3fps.mp4: 384x640 6 cows, 30.0ms\n",
      "WARNING  'Masks.masks' is deprecated. Use 'Masks.data' instead.\n"
     ]
    },
    {
     "name": "stdout",
     "output_type": "stream",
     "text": [
      "White Percentage: 28.13%\n",
      "1/1 [==============================] - 0s 46ms/step\n",
      "White Percentage: 3.79%\n",
      "1/1 [==============================] - 0s 41ms/step\n",
      "White Percentage: 9.21%\n",
      "1/1 [==============================] - 0s 50ms/step\n",
      "White Percentage: 7.57%\n",
      "1/1 [==============================] - 0s 43ms/step\n"
     ]
    },
    {
     "name": "stderr",
     "output_type": "stream",
     "text": [
      "video 1/1 (841/901) D:\\815_CowDataChecking\\Honkawa\\2023-07-31\\03\\output_3fps\\20230731-030500-031000_10fps_3fps.mp4: 384x640 6 cows, 20.0ms\n",
      "WARNING  'Masks.masks' is deprecated. Use 'Masks.data' instead.\n"
     ]
    },
    {
     "name": "stdout",
     "output_type": "stream",
     "text": [
      "White Percentage: 28.41%\n",
      "1/1 [==============================] - 0s 44ms/step\n",
      "White Percentage: 4.22%\n",
      "1/1 [==============================] - 0s 50ms/step\n",
      "White Percentage: 8.37%\n",
      "1/1 [==============================] - 0s 40ms/step\n",
      "White Percentage: 4.38%\n",
      "1/1 [==============================] - 0s 50ms/step\n"
     ]
    },
    {
     "name": "stderr",
     "output_type": "stream",
     "text": [
      "video 1/1 (842/901) D:\\815_CowDataChecking\\Honkawa\\2023-07-31\\03\\output_3fps\\20230731-030500-031000_10fps_3fps.mp4: 384x640 6 cows, 20.1ms\n",
      "WARNING  'Masks.masks' is deprecated. Use 'Masks.data' instead.\n"
     ]
    },
    {
     "name": "stdout",
     "output_type": "stream",
     "text": [
      "White Percentage: 24.91%\n",
      "1/1 [==============================] - 0s 35ms/step\n",
      "White Percentage: 4.12%\n",
      "1/1 [==============================] - 0s 47ms/step\n",
      "White Percentage: 9.14%\n",
      "1/1 [==============================] - 0s 40ms/step\n",
      "White Percentage: 1.60%\n",
      "1/1 [==============================] - 0s 33ms/step\n"
     ]
    },
    {
     "name": "stderr",
     "output_type": "stream",
     "text": [
      "video 1/1 (843/901) D:\\815_CowDataChecking\\Honkawa\\2023-07-31\\03\\output_3fps\\20230731-030500-031000_10fps_3fps.mp4: 384x640 6 cows, 22.0ms\n",
      "WARNING  'Masks.masks' is deprecated. Use 'Masks.data' instead.\n"
     ]
    },
    {
     "name": "stdout",
     "output_type": "stream",
     "text": [
      "White Percentage: 27.57%\n",
      "1/1 [==============================] - 0s 48ms/step\n",
      "White Percentage: 4.30%\n",
      "1/1 [==============================] - 0s 53ms/step\n",
      "White Percentage: 7.78%\n",
      "1/1 [==============================] - 0s 40ms/step\n",
      "White Percentage: 0.60%\n",
      "1/1 [==============================] - 0s 45ms/step\n"
     ]
    },
    {
     "name": "stderr",
     "output_type": "stream",
     "text": [
      "video 1/1 (844/901) D:\\815_CowDataChecking\\Honkawa\\2023-07-31\\03\\output_3fps\\20230731-030500-031000_10fps_3fps.mp4: 384x640 6 cows, 20.0ms\n",
      "WARNING  'Masks.masks' is deprecated. Use 'Masks.data' instead.\n"
     ]
    },
    {
     "name": "stdout",
     "output_type": "stream",
     "text": [
      "White Percentage: 25.20%\n",
      "1/1 [==============================] - 0s 48ms/step\n",
      "White Percentage: 4.28%\n",
      "1/1 [==============================] - 0s 50ms/step\n",
      "White Percentage: 8.38%\n",
      "1/1 [==============================] - 0s 44ms/step\n",
      "White Percentage: 0.57%\n",
      "1/1 [==============================] - 0s 40ms/step\n"
     ]
    },
    {
     "name": "stderr",
     "output_type": "stream",
     "text": [
      "video 1/1 (845/901) D:\\815_CowDataChecking\\Honkawa\\2023-07-31\\03\\output_3fps\\20230731-030500-031000_10fps_3fps.mp4: 384x640 6 cows, 20.0ms\n",
      "WARNING  'Masks.masks' is deprecated. Use 'Masks.data' instead.\n"
     ]
    },
    {
     "name": "stdout",
     "output_type": "stream",
     "text": [
      "White Percentage: 27.25%\n",
      "1/1 [==============================] - 0s 44ms/step\n",
      "White Percentage: 4.15%\n",
      "1/1 [==============================] - 0s 40ms/step\n",
      "White Percentage: 9.18%\n",
      "1/1 [==============================] - 0s 50ms/step\n",
      "White Percentage: 0.62%\n",
      "1/1 [==============================] - 0s 45ms/step\n"
     ]
    },
    {
     "name": "stderr",
     "output_type": "stream",
     "text": [
      "video 1/1 (846/901) D:\\815_CowDataChecking\\Honkawa\\2023-07-31\\03\\output_3fps\\20230731-030500-031000_10fps_3fps.mp4: 384x640 6 cows, 23.7ms\n",
      "WARNING  'Masks.masks' is deprecated. Use 'Masks.data' instead.\n"
     ]
    },
    {
     "name": "stdout",
     "output_type": "stream",
     "text": [
      "White Percentage: 26.41%\n",
      "1/1 [==============================] - 0s 41ms/step\n",
      "White Percentage: 4.36%\n",
      "1/1 [==============================] - 0s 39ms/step\n",
      "White Percentage: 8.81%\n",
      "1/1 [==============================] - 0s 36ms/step\n",
      "White Percentage: 0.50%\n",
      "1/1 [==============================] - 0s 51ms/step\n"
     ]
    },
    {
     "name": "stderr",
     "output_type": "stream",
     "text": [
      "video 1/1 (847/901) D:\\815_CowDataChecking\\Honkawa\\2023-07-31\\03\\output_3fps\\20230731-030500-031000_10fps_3fps.mp4: 384x640 6 cows, 20.0ms\n",
      "WARNING  'Masks.masks' is deprecated. Use 'Masks.data' instead.\n"
     ]
    },
    {
     "name": "stdout",
     "output_type": "stream",
     "text": [
      "White Percentage: 26.06%\n",
      "1/1 [==============================] - 0s 34ms/step\n",
      "White Percentage: 4.22%\n",
      "1/1 [==============================] - 0s 40ms/step\n",
      "White Percentage: 8.33%\n",
      "1/1 [==============================] - 0s 49ms/step\n",
      "White Percentage: 0.63%\n",
      "1/1 [==============================] - 0s 50ms/step\n"
     ]
    },
    {
     "name": "stderr",
     "output_type": "stream",
     "text": [
      "video 1/1 (848/901) D:\\815_CowDataChecking\\Honkawa\\2023-07-31\\03\\output_3fps\\20230731-030500-031000_10fps_3fps.mp4: 384x640 6 cows, 20.0ms\n",
      "WARNING  'Masks.masks' is deprecated. Use 'Masks.data' instead.\n"
     ]
    },
    {
     "name": "stdout",
     "output_type": "stream",
     "text": [
      "White Percentage: 27.43%\n",
      "1/1 [==============================] - 0s 32ms/step\n",
      "White Percentage: 9.22%\n",
      "1/1 [==============================] - 0s 40ms/step\n",
      "White Percentage: 0.71%\n",
      "1/1 [==============================] - 0s 54ms/step\n"
     ]
    },
    {
     "name": "stderr",
     "output_type": "stream",
     "text": [
      "video 1/1 (849/901) D:\\815_CowDataChecking\\Honkawa\\2023-07-31\\03\\output_3fps\\20230731-030500-031000_10fps_3fps.mp4: 384x640 6 cows, 20.0ms\n",
      "WARNING  'Masks.masks' is deprecated. Use 'Masks.data' instead.\n"
     ]
    },
    {
     "name": "stdout",
     "output_type": "stream",
     "text": [
      "White Percentage: 27.74%\n",
      "1/1 [==============================] - 0s 34ms/step\n",
      "White Percentage: 8.32%\n",
      "1/1 [==============================] - 0s 40ms/step\n",
      "White Percentage: 0.61%\n",
      "1/1 [==============================] - 0s 40ms/step\n"
     ]
    },
    {
     "name": "stderr",
     "output_type": "stream",
     "text": [
      "video 1/1 (850/901) D:\\815_CowDataChecking\\Honkawa\\2023-07-31\\03\\output_3fps\\20230731-030500-031000_10fps_3fps.mp4: 384x640 6 cows, 30.0ms\n",
      "WARNING  'Masks.masks' is deprecated. Use 'Masks.data' instead.\n"
     ]
    },
    {
     "name": "stdout",
     "output_type": "stream",
     "text": [
      "White Percentage: 26.68%\n",
      "1/1 [==============================] - 0s 34ms/step\n",
      "White Percentage: 8.37%\n",
      "1/1 [==============================] - 0s 50ms/step\n",
      "White Percentage: 0.61%\n",
      "1/1 [==============================] - 0s 49ms/step\n"
     ]
    },
    {
     "name": "stderr",
     "output_type": "stream",
     "text": [
      "video 1/1 (851/901) D:\\815_CowDataChecking\\Honkawa\\2023-07-31\\03\\output_3fps\\20230731-030500-031000_10fps_3fps.mp4: 384x640 6 cows, 20.1ms\n",
      "WARNING  'Masks.masks' is deprecated. Use 'Masks.data' instead.\n"
     ]
    },
    {
     "name": "stdout",
     "output_type": "stream",
     "text": [
      "White Percentage: 24.36%\n",
      "1/1 [==============================] - 0s 43ms/step\n",
      "White Percentage: 8.20%\n",
      "1/1 [==============================] - 0s 51ms/step\n",
      "White Percentage: 0.59%\n",
      "1/1 [==============================] - 0s 50ms/step\n"
     ]
    },
    {
     "name": "stderr",
     "output_type": "stream",
     "text": [
      "video 1/1 (852/901) D:\\815_CowDataChecking\\Honkawa\\2023-07-31\\03\\output_3fps\\20230731-030500-031000_10fps_3fps.mp4: 384x640 6 cows, 20.5ms\n",
      "WARNING  'Masks.masks' is deprecated. Use 'Masks.data' instead.\n"
     ]
    },
    {
     "name": "stdout",
     "output_type": "stream",
     "text": [
      "White Percentage: 27.12%\n",
      "1/1 [==============================] - 0s 36ms/step\n",
      "White Percentage: 9.19%\n",
      "1/1 [==============================] - 0s 50ms/step\n",
      "White Percentage: 0.74%\n",
      "1/1 [==============================] - 0s 47ms/step\n"
     ]
    },
    {
     "name": "stderr",
     "output_type": "stream",
     "text": [
      "video 1/1 (853/901) D:\\815_CowDataChecking\\Honkawa\\2023-07-31\\03\\output_3fps\\20230731-030500-031000_10fps_3fps.mp4: 384x640 6 cows, 20.0ms\n",
      "WARNING  'Masks.masks' is deprecated. Use 'Masks.data' instead.\n"
     ]
    },
    {
     "name": "stdout",
     "output_type": "stream",
     "text": [
      "White Percentage: 25.10%\n",
      "1/1 [==============================] - 0s 43ms/step\n",
      "White Percentage: 8.71%\n",
      "1/1 [==============================] - 0s 49ms/step\n",
      "White Percentage: 1.43%\n",
      "1/1 [==============================] - 0s 37ms/step\n"
     ]
    },
    {
     "name": "stderr",
     "output_type": "stream",
     "text": [
      "video 1/1 (854/901) D:\\815_CowDataChecking\\Honkawa\\2023-07-31\\03\\output_3fps\\20230731-030500-031000_10fps_3fps.mp4: 384x640 6 cows, 30.0ms\n",
      "WARNING  'Masks.masks' is deprecated. Use 'Masks.data' instead.\n"
     ]
    },
    {
     "name": "stdout",
     "output_type": "stream",
     "text": [
      "White Percentage: 26.24%\n",
      "1/1 [==============================] - 0s 50ms/step\n",
      "White Percentage: 8.69%\n",
      "1/1 [==============================] - 0s 50ms/step\n",
      "White Percentage: 1.94%\n",
      "1/1 [==============================] - 0s 43ms/step\n"
     ]
    },
    {
     "name": "stderr",
     "output_type": "stream",
     "text": [
      "video 1/1 (855/901) D:\\815_CowDataChecking\\Honkawa\\2023-07-31\\03\\output_3fps\\20230731-030500-031000_10fps_3fps.mp4: 384x640 6 cows, 20.0ms\n",
      "WARNING  'Masks.masks' is deprecated. Use 'Masks.data' instead.\n"
     ]
    },
    {
     "name": "stdout",
     "output_type": "stream",
     "text": [
      "White Percentage: 26.96%\n",
      "1/1 [==============================] - 0s 39ms/step\n",
      "White Percentage: 7.53%\n",
      "1/1 [==============================] - 0s 50ms/step\n",
      "White Percentage: 4.40%\n",
      "1/1 [==============================] - 0s 36ms/step\n"
     ]
    },
    {
     "name": "stderr",
     "output_type": "stream",
     "text": [
      "video 1/1 (856/901) D:\\815_CowDataChecking\\Honkawa\\2023-07-31\\03\\output_3fps\\20230731-030500-031000_10fps_3fps.mp4: 384x640 5 cows, 17.1ms\n",
      "WARNING  'Masks.masks' is deprecated. Use 'Masks.data' instead.\n"
     ]
    },
    {
     "name": "stdout",
     "output_type": "stream",
     "text": [
      "White Percentage: 26.76%\n",
      "1/1 [==============================] - 0s 39ms/step\n",
      "White Percentage: 8.31%\n",
      "1/1 [==============================] - 0s 40ms/step\n",
      "White Percentage: 4.12%\n",
      "1/1 [==============================] - 0s 40ms/step\n"
     ]
    },
    {
     "name": "stderr",
     "output_type": "stream",
     "text": [
      "video 1/1 (857/901) D:\\815_CowDataChecking\\Honkawa\\2023-07-31\\03\\output_3fps\\20230731-030500-031000_10fps_3fps.mp4: 384x640 5 cows, 28.7ms\n",
      "WARNING  'Masks.masks' is deprecated. Use 'Masks.data' instead.\n"
     ]
    },
    {
     "name": "stdout",
     "output_type": "stream",
     "text": [
      "White Percentage: 25.57%\n",
      "1/1 [==============================] - 0s 40ms/step\n",
      "White Percentage: 7.50%\n",
      "1/1 [==============================] - 0s 46ms/step\n",
      "White Percentage: 4.44%\n",
      "1/1 [==============================] - 0s 47ms/step\n"
     ]
    },
    {
     "name": "stderr",
     "output_type": "stream",
     "text": [
      "video 1/1 (858/901) D:\\815_CowDataChecking\\Honkawa\\2023-07-31\\03\\output_3fps\\20230731-030500-031000_10fps_3fps.mp4: 384x640 5 cows, 20.2ms\n",
      "WARNING  'Masks.masks' is deprecated. Use 'Masks.data' instead.\n"
     ]
    },
    {
     "name": "stdout",
     "output_type": "stream",
     "text": [
      "White Percentage: 27.38%\n",
      "1/1 [==============================] - 0s 52ms/step\n",
      "White Percentage: 8.39%\n",
      "1/1 [==============================] - 0s 46ms/step\n",
      "White Percentage: 4.36%\n",
      "1/1 [==============================] - 0s 53ms/step\n"
     ]
    },
    {
     "name": "stderr",
     "output_type": "stream",
     "text": [
      "video 1/1 (859/901) D:\\815_CowDataChecking\\Honkawa\\2023-07-31\\03\\output_3fps\\20230731-030500-031000_10fps_3fps.mp4: 384x640 5 cows, 22.4ms\n",
      "WARNING  'Masks.masks' is deprecated. Use 'Masks.data' instead.\n"
     ]
    },
    {
     "name": "stdout",
     "output_type": "stream",
     "text": [
      "White Percentage: 25.70%\n",
      "1/1 [==============================] - 0s 42ms/step\n",
      "White Percentage: 8.65%\n",
      "1/1 [==============================] - 0s 40ms/step\n",
      "White Percentage: 5.56%\n",
      "1/1 [==============================] - 0s 50ms/step\n"
     ]
    },
    {
     "name": "stderr",
     "output_type": "stream",
     "text": [
      "video 1/1 (860/901) D:\\815_CowDataChecking\\Honkawa\\2023-07-31\\03\\output_3fps\\20230731-030500-031000_10fps_3fps.mp4: 384x640 6 cows, 20.1ms\n",
      "WARNING  'Masks.masks' is deprecated. Use 'Masks.data' instead.\n"
     ]
    },
    {
     "name": "stdout",
     "output_type": "stream",
     "text": [
      "White Percentage: 25.63%\n",
      "1/1 [==============================] - 0s 41ms/step\n",
      "White Percentage: 8.85%\n",
      "1/1 [==============================] - 0s 58ms/step\n",
      "White Percentage: 9.07%\n",
      "1/1 [==============================] - 0s 45ms/step\n"
     ]
    },
    {
     "name": "stderr",
     "output_type": "stream",
     "text": [
      "video 1/1 (861/901) D:\\815_CowDataChecking\\Honkawa\\2023-07-31\\03\\output_3fps\\20230731-030500-031000_10fps_3fps.mp4: 384x640 6 cows, 20.0ms\n",
      "WARNING  'Masks.masks' is deprecated. Use 'Masks.data' instead.\n"
     ]
    },
    {
     "name": "stdout",
     "output_type": "stream",
     "text": [
      "White Percentage: 25.18%\n",
      "1/1 [==============================] - 0s 40ms/step\n",
      "White Percentage: 8.34%\n",
      "1/1 [==============================] - 0s 44ms/step\n",
      "White Percentage: 3.50%\n",
      "1/1 [==============================] - 0s 61ms/step\n"
     ]
    },
    {
     "name": "stderr",
     "output_type": "stream",
     "text": [
      "video 1/1 (862/901) D:\\815_CowDataChecking\\Honkawa\\2023-07-31\\03\\output_3fps\\20230731-030500-031000_10fps_3fps.mp4: 384x640 6 cows, 30.1ms\n",
      "WARNING  'Masks.masks' is deprecated. Use 'Masks.data' instead.\n"
     ]
    },
    {
     "name": "stdout",
     "output_type": "stream",
     "text": [
      "White Percentage: 25.49%\n",
      "1/1 [==============================] - 0s 43ms/step\n",
      "White Percentage: 9.38%\n",
      "1/1 [==============================] - 0s 50ms/step\n",
      "White Percentage: 4.03%\n",
      "1/1 [==============================] - 0s 49ms/step\n"
     ]
    },
    {
     "name": "stderr",
     "output_type": "stream",
     "text": [
      "video 1/1 (863/901) D:\\815_CowDataChecking\\Honkawa\\2023-07-31\\03\\output_3fps\\20230731-030500-031000_10fps_3fps.mp4: 384x640 6 cows, 19.9ms\n",
      "WARNING  'Masks.masks' is deprecated. Use 'Masks.data' instead.\n"
     ]
    },
    {
     "name": "stdout",
     "output_type": "stream",
     "text": [
      "White Percentage: 25.42%\n",
      "1/1 [==============================] - 0s 36ms/step\n",
      "White Percentage: 8.98%\n",
      "1/1 [==============================] - 0s 54ms/step\n",
      "White Percentage: 1.65%\n",
      "1/1 [==============================] - 0s 50ms/step\n"
     ]
    },
    {
     "name": "stderr",
     "output_type": "stream",
     "text": [
      "video 1/1 (864/901) D:\\815_CowDataChecking\\Honkawa\\2023-07-31\\03\\output_3fps\\20230731-030500-031000_10fps_3fps.mp4: 384x640 6 cows, 29.9ms\n",
      "WARNING  'Masks.masks' is deprecated. Use 'Masks.data' instead.\n"
     ]
    },
    {
     "name": "stdout",
     "output_type": "stream",
     "text": [
      "White Percentage: 24.31%\n",
      "1/1 [==============================] - 0s 46ms/step\n",
      "White Percentage: 6.58%\n",
      "1/1 [==============================] - 0s 50ms/step\n",
      "White Percentage: 1.28%\n",
      "1/1 [==============================] - 0s 50ms/step\n"
     ]
    },
    {
     "name": "stderr",
     "output_type": "stream",
     "text": [
      "video 1/1 (865/901) D:\\815_CowDataChecking\\Honkawa\\2023-07-31\\03\\output_3fps\\20230731-030500-031000_10fps_3fps.mp4: 384x640 6 cows, 22.1ms\n",
      "WARNING  'Masks.masks' is deprecated. Use 'Masks.data' instead.\n"
     ]
    },
    {
     "name": "stdout",
     "output_type": "stream",
     "text": [
      "White Percentage: 21.29%\n",
      "1/1 [==============================] - 0s 48ms/step\n",
      "White Percentage: 7.06%\n",
      "1/1 [==============================] - 0s 40ms/step\n",
      "White Percentage: 1.40%\n",
      "1/1 [==============================] - 0s 40ms/step\n"
     ]
    },
    {
     "name": "stderr",
     "output_type": "stream",
     "text": [
      "video 1/1 (866/901) D:\\815_CowDataChecking\\Honkawa\\2023-07-31\\03\\output_3fps\\20230731-030500-031000_10fps_3fps.mp4: 384x640 6 cows, 19.6ms\n",
      "WARNING  'Masks.masks' is deprecated. Use 'Masks.data' instead.\n"
     ]
    },
    {
     "name": "stdout",
     "output_type": "stream",
     "text": [
      "White Percentage: 23.34%\n",
      "1/1 [==============================] - 0s 42ms/step\n",
      "White Percentage: 8.55%\n",
      "1/1 [==============================] - 0s 50ms/step\n",
      "White Percentage: 1.17%\n",
      "1/1 [==============================] - 0s 40ms/step\n"
     ]
    },
    {
     "name": "stderr",
     "output_type": "stream",
     "text": [
      "video 1/1 (867/901) D:\\815_CowDataChecking\\Honkawa\\2023-07-31\\03\\output_3fps\\20230731-030500-031000_10fps_3fps.mp4: 384x640 6 cows, 20.0ms\n",
      "WARNING  'Masks.masks' is deprecated. Use 'Masks.data' instead.\n"
     ]
    },
    {
     "name": "stdout",
     "output_type": "stream",
     "text": [
      "White Percentage: 22.22%\n",
      "1/1 [==============================] - 0s 42ms/step\n",
      "White Percentage: 7.84%\n",
      "1/1 [==============================] - 0s 49ms/step\n",
      "White Percentage: 0.33%\n",
      "1/1 [==============================] - 0s 40ms/step\n"
     ]
    },
    {
     "name": "stderr",
     "output_type": "stream",
     "text": [
      "video 1/1 (868/901) D:\\815_CowDataChecking\\Honkawa\\2023-07-31\\03\\output_3fps\\20230731-030500-031000_10fps_3fps.mp4: 384x640 6 cows, 20.0ms\n",
      "WARNING  'Masks.masks' is deprecated. Use 'Masks.data' instead.\n"
     ]
    },
    {
     "name": "stdout",
     "output_type": "stream",
     "text": [
      "White Percentage: 21.32%\n",
      "1/1 [==============================] - 0s 39ms/step\n",
      "White Percentage: 7.25%\n",
      "1/1 [==============================] - 0s 60ms/step\n",
      "White Percentage: 0.49%\n",
      "1/1 [==============================] - 0s 40ms/step\n",
      "White Percentage: 20.85%\n",
      "1/1 [==============================] - 0s 40ms/step\n"
     ]
    },
    {
     "name": "stderr",
     "output_type": "stream",
     "text": [
      "video 1/1 (869/901) D:\\815_CowDataChecking\\Honkawa\\2023-07-31\\03\\output_3fps\\20230731-030500-031000_10fps_3fps.mp4: 384x640 6 cows, 20.1ms\n",
      "WARNING  'Masks.masks' is deprecated. Use 'Masks.data' instead.\n"
     ]
    },
    {
     "name": "stdout",
     "output_type": "stream",
     "text": [
      "White Percentage: 12.49%\n",
      "[['ID', 'RANK1', 'RANK1_prob', 'RANK2', 'RANK2_prob', 'RANK3', 'RANK3_prob', 'RANK4', 'RANK4_prob', 'RANK5', 'RANK5_prob']]\n",
      "new cattle  xxxxxxxxxxxxxxxxxxxxx new cattle alert \n",
      "1/1 [==============================] - 0s 40ms/step\n",
      "White Percentage: 9.52%\n",
      "1/1 [==============================] - 0s 42ms/step\n",
      "White Percentage: 0.48%\n",
      "1/1 [==============================] - 0s 40ms/step\n",
      "White Percentage: 19.43%\n",
      "1/1 [==============================] - 0s 60ms/step\n"
     ]
    },
    {
     "name": "stderr",
     "output_type": "stream",
     "text": [
      "video 1/1 (870/901) D:\\815_CowDataChecking\\Honkawa\\2023-07-31\\03\\output_3fps\\20230731-030500-031000_10fps_3fps.mp4: 384x640 6 cows, 30.1ms\n",
      "WARNING  'Masks.masks' is deprecated. Use 'Masks.data' instead.\n"
     ]
    },
    {
     "name": "stdout",
     "output_type": "stream",
     "text": [
      "White Percentage: 13.30%\n",
      "1/1 [==============================] - 0s 41ms/step\n",
      "White Percentage: 9.42%\n",
      "1/1 [==============================] - 0s 40ms/step\n",
      "White Percentage: 0.59%\n",
      "1/1 [==============================] - 0s 42ms/step\n",
      "White Percentage: 20.63%\n",
      "1/1 [==============================] - 0s 40ms/step\n"
     ]
    },
    {
     "name": "stderr",
     "output_type": "stream",
     "text": [
      "video 1/1 (871/901) D:\\815_CowDataChecking\\Honkawa\\2023-07-31\\03\\output_3fps\\20230731-030500-031000_10fps_3fps.mp4: 384x640 6 cows, 20.2ms\n",
      "WARNING  'Masks.masks' is deprecated. Use 'Masks.data' instead.\n"
     ]
    },
    {
     "name": "stdout",
     "output_type": "stream",
     "text": [
      "White Percentage: 12.94%\n",
      "1/1 [==============================] - 0s 36ms/step\n",
      "White Percentage: 9.45%\n",
      "1/1 [==============================] - 0s 42ms/step\n",
      "White Percentage: 0.41%\n",
      "1/1 [==============================] - 0s 50ms/step\n",
      "White Percentage: 21.14%\n",
      "1/1 [==============================] - 0s 40ms/step\n"
     ]
    },
    {
     "name": "stderr",
     "output_type": "stream",
     "text": [
      "video 1/1 (872/901) D:\\815_CowDataChecking\\Honkawa\\2023-07-31\\03\\output_3fps\\20230731-030500-031000_10fps_3fps.mp4: 384x640 6 cows, 20.0ms\n",
      "WARNING  'Masks.masks' is deprecated. Use 'Masks.data' instead.\n"
     ]
    },
    {
     "name": "stdout",
     "output_type": "stream",
     "text": [
      "White Percentage: 11.93%\n",
      "1/1 [==============================] - 0s 38ms/step\n",
      "White Percentage: 9.40%\n",
      "1/1 [==============================] - 0s 42ms/step\n",
      "White Percentage: 0.53%\n",
      "1/1 [==============================] - 0s 40ms/step\n",
      "White Percentage: 20.32%\n",
      "1/1 [==============================] - 0s 40ms/step\n"
     ]
    },
    {
     "name": "stderr",
     "output_type": "stream",
     "text": [
      "video 1/1 (873/901) D:\\815_CowDataChecking\\Honkawa\\2023-07-31\\03\\output_3fps\\20230731-030500-031000_10fps_3fps.mp4: 384x640 6 cows, 26.9ms\n",
      "WARNING  'Masks.masks' is deprecated. Use 'Masks.data' instead.\n"
     ]
    },
    {
     "name": "stdout",
     "output_type": "stream",
     "text": [
      "White Percentage: 12.01%\n",
      "1/1 [==============================] - 0s 38ms/step\n",
      "White Percentage: 6.39%\n",
      "1/1 [==============================] - 0s 40ms/step\n",
      "White Percentage: 0.49%\n",
      "1/1 [==============================] - 0s 50ms/step\n",
      "White Percentage: 23.02%\n",
      "1/1 [==============================] - 0s 50ms/step\n"
     ]
    },
    {
     "name": "stderr",
     "output_type": "stream",
     "text": [
      "video 1/1 (874/901) D:\\815_CowDataChecking\\Honkawa\\2023-07-31\\03\\output_3fps\\20230731-030500-031000_10fps_3fps.mp4: 384x640 6 cows, 20.0ms\n",
      "WARNING  'Masks.masks' is deprecated. Use 'Masks.data' instead.\n"
     ]
    },
    {
     "name": "stdout",
     "output_type": "stream",
     "text": [
      "White Percentage: 12.15%\n",
      "1/1 [==============================] - 0s 48ms/step\n",
      "White Percentage: 9.59%\n",
      "1/1 [==============================] - 0s 50ms/step\n",
      "White Percentage: 0.53%\n",
      "1/1 [==============================] - 0s 40ms/step\n",
      "White Percentage: 23.05%\n",
      "1/1 [==============================] - 0s 41ms/step\n"
     ]
    },
    {
     "name": "stderr",
     "output_type": "stream",
     "text": [
      "video 1/1 (875/901) D:\\815_CowDataChecking\\Honkawa\\2023-07-31\\03\\output_3fps\\20230731-030500-031000_10fps_3fps.mp4: 384x640 6 cows, 20.0ms\n",
      "WARNING  'Masks.masks' is deprecated. Use 'Masks.data' instead.\n"
     ]
    },
    {
     "name": "stdout",
     "output_type": "stream",
     "text": [
      "White Percentage: 14.14%\n",
      "1/1 [==============================] - 0s 45ms/step\n",
      "White Percentage: 6.93%\n",
      "1/1 [==============================] - 0s 50ms/step\n",
      "White Percentage: 0.44%\n",
      "1/1 [==============================] - 0s 50ms/step\n",
      "White Percentage: 22.70%\n",
      "1/1 [==============================] - 0s 40ms/step\n"
     ]
    },
    {
     "name": "stderr",
     "output_type": "stream",
     "text": [
      "video 1/1 (876/901) D:\\815_CowDataChecking\\Honkawa\\2023-07-31\\03\\output_3fps\\20230731-030500-031000_10fps_3fps.mp4: 384x640 6 cows, 20.0ms\n",
      "WARNING  'Masks.masks' is deprecated. Use 'Masks.data' instead.\n"
     ]
    },
    {
     "name": "stdout",
     "output_type": "stream",
     "text": [
      "White Percentage: 13.52%\n",
      "1/1 [==============================] - 0s 42ms/step\n",
      "White Percentage: 9.55%\n",
      "1/1 [==============================] - 0s 50ms/step\n",
      "White Percentage: 0.51%\n",
      "1/1 [==============================] - 0s 36ms/step\n",
      "White Percentage: 26.47%\n",
      "1/1 [==============================] - 0s 43ms/step\n"
     ]
    },
    {
     "name": "stderr",
     "output_type": "stream",
     "text": [
      "video 1/1 (877/901) D:\\815_CowDataChecking\\Honkawa\\2023-07-31\\03\\output_3fps\\20230731-030500-031000_10fps_3fps.mp4: 384x640 7 cows, 20.1ms\n",
      "WARNING  'Masks.masks' is deprecated. Use 'Masks.data' instead.\n"
     ]
    },
    {
     "name": "stdout",
     "output_type": "stream",
     "text": [
      "White Percentage: 11.98%\n",
      "1/1 [==============================] - 0s 38ms/step\n",
      "White Percentage: 9.39%\n",
      "1/1 [==============================] - 0s 36ms/step\n",
      "White Percentage: 0.80%\n",
      "1/1 [==============================] - 0s 40ms/step\n",
      "White Percentage: 24.90%\n",
      "1/1 [==============================] - 0s 45ms/step\n"
     ]
    },
    {
     "name": "stderr",
     "output_type": "stream",
     "text": [
      "video 1/1 (878/901) D:\\815_CowDataChecking\\Honkawa\\2023-07-31\\03\\output_3fps\\20230731-030500-031000_10fps_3fps.mp4: 384x640 6 cows, 20.1ms\n",
      "WARNING  'Masks.masks' is deprecated. Use 'Masks.data' instead.\n"
     ]
    },
    {
     "name": "stdout",
     "output_type": "stream",
     "text": [
      "White Percentage: 12.62%\n",
      "1/1 [==============================] - 0s 34ms/step\n",
      "White Percentage: 9.33%\n",
      "1/1 [==============================] - 0s 55ms/step\n",
      "White Percentage: 0.61%\n",
      "1/1 [==============================] - 0s 40ms/step\n",
      "White Percentage: 24.47%\n",
      "1/1 [==============================] - 0s 40ms/step\n"
     ]
    },
    {
     "name": "stderr",
     "output_type": "stream",
     "text": [
      "video 1/1 (879/901) D:\\815_CowDataChecking\\Honkawa\\2023-07-31\\03\\output_3fps\\20230731-030500-031000_10fps_3fps.mp4: 384x640 6 cows, 20.6ms\n",
      "WARNING  'Masks.masks' is deprecated. Use 'Masks.data' instead.\n"
     ]
    },
    {
     "name": "stdout",
     "output_type": "stream",
     "text": [
      "White Percentage: 11.38%\n",
      "1/1 [==============================] - 0s 43ms/step\n",
      "White Percentage: 9.17%\n",
      "1/1 [==============================] - 0s 41ms/step\n",
      "White Percentage: 0.69%\n",
      "1/1 [==============================] - 0s 50ms/step\n",
      "White Percentage: 22.51%\n",
      "1/1 [==============================] - 0s 40ms/step\n"
     ]
    },
    {
     "name": "stderr",
     "output_type": "stream",
     "text": [
      "video 1/1 (880/901) D:\\815_CowDataChecking\\Honkawa\\2023-07-31\\03\\output_3fps\\20230731-030500-031000_10fps_3fps.mp4: 384x640 5 cows, 23.5ms\n",
      "WARNING  'Masks.masks' is deprecated. Use 'Masks.data' instead.\n"
     ]
    },
    {
     "name": "stdout",
     "output_type": "stream",
     "text": [
      "White Percentage: 12.52%\n",
      "1/1 [==============================] - 0s 45ms/step\n",
      "White Percentage: 0.71%\n",
      "1/1 [==============================] - 0s 40ms/step\n",
      "White Percentage: 21.86%\n",
      "1/1 [==============================] - 0s 40ms/step\n"
     ]
    },
    {
     "name": "stderr",
     "output_type": "stream",
     "text": [
      "video 1/1 (881/901) D:\\815_CowDataChecking\\Honkawa\\2023-07-31\\03\\output_3fps\\20230731-030500-031000_10fps_3fps.mp4: 384x640 6 cows, 20.0ms\n",
      "WARNING  'Masks.masks' is deprecated. Use 'Masks.data' instead.\n"
     ]
    },
    {
     "name": "stdout",
     "output_type": "stream",
     "text": [
      "White Percentage: 14.01%\n",
      "1/1 [==============================] - 0s 41ms/step\n",
      "White Percentage: 0.97%\n",
      "1/1 [==============================] - 0s 45ms/step\n",
      "White Percentage: 21.82%\n",
      "1/1 [==============================] - 0s 40ms/step\n"
     ]
    },
    {
     "name": "stderr",
     "output_type": "stream",
     "text": [
      "video 1/1 (882/901) D:\\815_CowDataChecking\\Honkawa\\2023-07-31\\03\\output_3fps\\20230731-030500-031000_10fps_3fps.mp4: 384x640 6 cows, 20.0ms\n",
      "WARNING  'Masks.masks' is deprecated. Use 'Masks.data' instead.\n"
     ]
    },
    {
     "name": "stdout",
     "output_type": "stream",
     "text": [
      "White Percentage: 14.05%\n",
      "1/1 [==============================] - 0s 39ms/step\n",
      "White Percentage: 0.62%\n",
      "1/1 [==============================] - 0s 34ms/step\n",
      "White Percentage: 22.50%\n",
      "1/1 [==============================] - 0s 50ms/step\n"
     ]
    },
    {
     "name": "stderr",
     "output_type": "stream",
     "text": [
      "video 1/1 (883/901) D:\\815_CowDataChecking\\Honkawa\\2023-07-31\\03\\output_3fps\\20230731-030500-031000_10fps_3fps.mp4: 384x640 6 cows, 30.0ms\n",
      "WARNING  'Masks.masks' is deprecated. Use 'Masks.data' instead.\n"
     ]
    },
    {
     "name": "stdout",
     "output_type": "stream",
     "text": [
      "White Percentage: 14.68%\n",
      "1/1 [==============================] - 0s 36ms/step\n",
      "White Percentage: 0.87%\n",
      "1/1 [==============================] - 0s 45ms/step\n",
      "White Percentage: 20.78%\n",
      "1/1 [==============================] - 0s 40ms/step\n"
     ]
    },
    {
     "name": "stderr",
     "output_type": "stream",
     "text": [
      "video 1/1 (884/901) D:\\815_CowDataChecking\\Honkawa\\2023-07-31\\03\\output_3fps\\20230731-030500-031000_10fps_3fps.mp4: 384x640 6 cows, 17.6ms\n",
      "WARNING  'Masks.masks' is deprecated. Use 'Masks.data' instead.\n"
     ]
    },
    {
     "name": "stdout",
     "output_type": "stream",
     "text": [
      "White Percentage: 14.58%\n",
      "1/1 [==============================] - 0s 41ms/step\n",
      "White Percentage: 0.78%\n",
      "1/1 [==============================] - 0s 40ms/step\n",
      "White Percentage: 20.22%\n",
      "1/1 [==============================] - 0s 40ms/step\n"
     ]
    },
    {
     "name": "stderr",
     "output_type": "stream",
     "text": [
      "video 1/1 (885/901) D:\\815_CowDataChecking\\Honkawa\\2023-07-31\\03\\output_3fps\\20230731-030500-031000_10fps_3fps.mp4: 384x640 7 cows, 18.6ms\n",
      "WARNING  'Masks.masks' is deprecated. Use 'Masks.data' instead.\n"
     ]
    },
    {
     "name": "stdout",
     "output_type": "stream",
     "text": [
      "White Percentage: 13.62%\n",
      "1/1 [==============================] - 0s 42ms/step\n",
      "White Percentage: 1.01%\n",
      "1/1 [==============================] - 0s 50ms/step\n",
      "White Percentage: 22.61%\n",
      "1/1 [==============================] - 0s 32ms/step\n"
     ]
    },
    {
     "name": "stderr",
     "output_type": "stream",
     "text": [
      "video 1/1 (886/901) D:\\815_CowDataChecking\\Honkawa\\2023-07-31\\03\\output_3fps\\20230731-030500-031000_10fps_3fps.mp4: 384x640 5 cows, 20.0ms\n",
      "WARNING  'Masks.masks' is deprecated. Use 'Masks.data' instead.\n"
     ]
    },
    {
     "name": "stdout",
     "output_type": "stream",
     "text": [
      "White Percentage: 14.14%\n",
      "1/1 [==============================] - 0s 42ms/step\n",
      "White Percentage: 0.84%\n",
      "1/1 [==============================] - 0s 49ms/step\n",
      "White Percentage: 20.14%\n",
      "1/1 [==============================] - 0s 50ms/step\n"
     ]
    },
    {
     "name": "stderr",
     "output_type": "stream",
     "text": [
      "video 1/1 (887/901) D:\\815_CowDataChecking\\Honkawa\\2023-07-31\\03\\output_3fps\\20230731-030500-031000_10fps_3fps.mp4: 384x640 5 cows, 20.0ms\n",
      "WARNING  'Masks.masks' is deprecated. Use 'Masks.data' instead.\n"
     ]
    },
    {
     "name": "stdout",
     "output_type": "stream",
     "text": [
      "White Percentage: 13.82%\n",
      "1/1 [==============================] - 0s 43ms/step\n",
      "White Percentage: 1.18%\n",
      "1/1 [==============================] - 0s 40ms/step\n",
      "White Percentage: 11.20%\n",
      "1/1 [==============================] - 0s 40ms/step\n"
     ]
    },
    {
     "name": "stderr",
     "output_type": "stream",
     "text": [
      "video 1/1 (888/901) D:\\815_CowDataChecking\\Honkawa\\2023-07-31\\03\\output_3fps\\20230731-030500-031000_10fps_3fps.mp4: 384x640 5 cows, 13.6ms\n",
      "WARNING  'Masks.masks' is deprecated. Use 'Masks.data' instead.\n"
     ]
    },
    {
     "name": "stdout",
     "output_type": "stream",
     "text": [
      "White Percentage: 14.26%\n",
      "1/1 [==============================] - 0s 38ms/step\n",
      "White Percentage: 0.66%\n",
      "1/1 [==============================] - 0s 50ms/step\n",
      "White Percentage: 15.98%\n",
      "1/1 [==============================] - 0s 50ms/step\n"
     ]
    },
    {
     "name": "stderr",
     "output_type": "stream",
     "text": [
      "video 1/1 (889/901) D:\\815_CowDataChecking\\Honkawa\\2023-07-31\\03\\output_3fps\\20230731-030500-031000_10fps_3fps.mp4: 384x640 5 cows, 20.1ms\n",
      "WARNING  'Masks.masks' is deprecated. Use 'Masks.data' instead.\n"
     ]
    },
    {
     "name": "stdout",
     "output_type": "stream",
     "text": [
      "White Percentage: 15.02%\n",
      "1/1 [==============================] - 0s 41ms/step\n",
      "White Percentage: 0.76%\n",
      "1/1 [==============================] - 0s 50ms/step\n",
      "White Percentage: 16.39%\n",
      "1/1 [==============================] - 0s 35ms/step\n"
     ]
    },
    {
     "name": "stderr",
     "output_type": "stream",
     "text": [
      "video 1/1 (890/901) D:\\815_CowDataChecking\\Honkawa\\2023-07-31\\03\\output_3fps\\20230731-030500-031000_10fps_3fps.mp4: 384x640 5 cows, 20.0ms\n",
      "WARNING  'Masks.masks' is deprecated. Use 'Masks.data' instead.\n"
     ]
    },
    {
     "name": "stdout",
     "output_type": "stream",
     "text": [
      "White Percentage: 14.34%\n",
      "1/1 [==============================] - 0s 34ms/step\n",
      "White Percentage: 0.69%\n",
      "1/1 [==============================] - 0s 49ms/step\n",
      "White Percentage: 12.23%\n",
      "1/1 [==============================] - 0s 43ms/step\n"
     ]
    },
    {
     "name": "stderr",
     "output_type": "stream",
     "text": [
      "video 1/1 (891/901) D:\\815_CowDataChecking\\Honkawa\\2023-07-31\\03\\output_3fps\\20230731-030500-031000_10fps_3fps.mp4: 384x640 5 cows, 20.0ms\n",
      "WARNING  'Masks.masks' is deprecated. Use 'Masks.data' instead.\n"
     ]
    },
    {
     "name": "stdout",
     "output_type": "stream",
     "text": [
      "White Percentage: 14.87%\n",
      "1/1 [==============================] - 0s 39ms/step\n",
      "White Percentage: 0.30%\n",
      "1/1 [==============================] - 0s 40ms/step\n",
      "White Percentage: 13.35%\n",
      "1/1 [==============================] - 0s 45ms/step\n"
     ]
    },
    {
     "name": "stderr",
     "output_type": "stream",
     "text": [
      "video 1/1 (892/901) D:\\815_CowDataChecking\\Honkawa\\2023-07-31\\03\\output_3fps\\20230731-030500-031000_10fps_3fps.mp4: 384x640 5 cows, 20.0ms\n",
      "WARNING  'Masks.masks' is deprecated. Use 'Masks.data' instead.\n"
     ]
    },
    {
     "name": "stdout",
     "output_type": "stream",
     "text": [
      "White Percentage: 14.68%\n",
      "1/1 [==============================] - 0s 36ms/step\n",
      "White Percentage: 0.51%\n",
      "1/1 [==============================] - 0s 40ms/step\n",
      "White Percentage: 14.05%\n",
      "1/1 [==============================] - 0s 52ms/step\n"
     ]
    },
    {
     "name": "stderr",
     "output_type": "stream",
     "text": [
      "video 1/1 (893/901) D:\\815_CowDataChecking\\Honkawa\\2023-07-31\\03\\output_3fps\\20230731-030500-031000_10fps_3fps.mp4: 384x640 5 cows, 20.0ms\n",
      "WARNING  'Masks.masks' is deprecated. Use 'Masks.data' instead.\n"
     ]
    },
    {
     "name": "stdout",
     "output_type": "stream",
     "text": [
      "White Percentage: 16.01%\n",
      "1/1 [==============================] - 0s 42ms/step\n",
      "White Percentage: 0.48%\n",
      "1/1 [==============================] - 0s 40ms/step\n",
      "White Percentage: 12.53%\n",
      "1/1 [==============================] - 0s 50ms/step\n"
     ]
    },
    {
     "name": "stderr",
     "output_type": "stream",
     "text": [
      "video 1/1 (894/901) D:\\815_CowDataChecking\\Honkawa\\2023-07-31\\03\\output_3fps\\20230731-030500-031000_10fps_3fps.mp4: 384x640 5 cows, 20.0ms\n",
      "WARNING  'Masks.masks' is deprecated. Use 'Masks.data' instead.\n"
     ]
    },
    {
     "name": "stdout",
     "output_type": "stream",
     "text": [
      "White Percentage: 15.12%\n",
      "1/1 [==============================] - 0s 38ms/step\n",
      "White Percentage: 0.50%\n",
      "1/1 [==============================] - 0s 40ms/step\n",
      "White Percentage: 10.52%\n",
      "1/1 [==============================] - 0s 47ms/step\n"
     ]
    },
    {
     "name": "stderr",
     "output_type": "stream",
     "text": [
      "video 1/1 (895/901) D:\\815_CowDataChecking\\Honkawa\\2023-07-31\\03\\output_3fps\\20230731-030500-031000_10fps_3fps.mp4: 384x640 5 cows, 20.0ms\n",
      "WARNING  'Masks.masks' is deprecated. Use 'Masks.data' instead.\n"
     ]
    },
    {
     "name": "stdout",
     "output_type": "stream",
     "text": [
      "White Percentage: 15.45%\n",
      "1/1 [==============================] - 0s 43ms/step\n",
      "White Percentage: 0.48%\n",
      "1/1 [==============================] - 0s 55ms/step\n",
      "White Percentage: 8.66%\n",
      "1/1 [==============================] - 0s 40ms/step\n"
     ]
    },
    {
     "name": "stderr",
     "output_type": "stream",
     "text": [
      "video 1/1 (896/901) D:\\815_CowDataChecking\\Honkawa\\2023-07-31\\03\\output_3fps\\20230731-030500-031000_10fps_3fps.mp4: 384x640 5 cows, 22.1ms\n",
      "WARNING  'Masks.masks' is deprecated. Use 'Masks.data' instead.\n"
     ]
    },
    {
     "name": "stdout",
     "output_type": "stream",
     "text": [
      "White Percentage: 13.81%\n",
      "1/1 [==============================] - 0s 39ms/step\n",
      "White Percentage: 0.45%\n",
      "1/1 [==============================] - 0s 50ms/step\n",
      "White Percentage: 16.33%\n",
      "1/1 [==============================] - 0s 42ms/step\n"
     ]
    },
    {
     "name": "stderr",
     "output_type": "stream",
     "text": [
      "video 1/1 (897/901) D:\\815_CowDataChecking\\Honkawa\\2023-07-31\\03\\output_3fps\\20230731-030500-031000_10fps_3fps.mp4: 384x640 5 cows, 20.0ms\n",
      "WARNING  'Masks.masks' is deprecated. Use 'Masks.data' instead.\n"
     ]
    },
    {
     "name": "stdout",
     "output_type": "stream",
     "text": [
      "White Percentage: 14.21%\n",
      "1/1 [==============================] - 0s 41ms/step\n",
      "White Percentage: 0.36%\n",
      "1/1 [==============================] - 0s 50ms/step\n",
      "White Percentage: 16.48%\n",
      "1/1 [==============================] - 0s 40ms/step\n"
     ]
    },
    {
     "name": "stderr",
     "output_type": "stream",
     "text": [
      "video 1/1 (898/901) D:\\815_CowDataChecking\\Honkawa\\2023-07-31\\03\\output_3fps\\20230731-030500-031000_10fps_3fps.mp4: 384x640 5 cows, 20.0ms\n",
      "WARNING  'Masks.masks' is deprecated. Use 'Masks.data' instead.\n"
     ]
    },
    {
     "name": "stdout",
     "output_type": "stream",
     "text": [
      "White Percentage: 14.56%\n",
      "1/1 [==============================] - 0s 34ms/step\n",
      "White Percentage: 0.50%\n",
      "1/1 [==============================] - 0s 51ms/step\n",
      "White Percentage: 19.24%\n",
      "1/1 [==============================] - 0s 43ms/step\n"
     ]
    },
    {
     "name": "stderr",
     "output_type": "stream",
     "text": [
      "video 1/1 (899/901) D:\\815_CowDataChecking\\Honkawa\\2023-07-31\\03\\output_3fps\\20230731-030500-031000_10fps_3fps.mp4: 384x640 6 cows, 19.6ms\n",
      "WARNING  'Masks.masks' is deprecated. Use 'Masks.data' instead.\n"
     ]
    },
    {
     "name": "stdout",
     "output_type": "stream",
     "text": [
      "White Percentage: 14.79%\n",
      "1/1 [==============================] - 0s 43ms/step\n",
      "White Percentage: 0.58%\n",
      "1/1 [==============================] - 0s 40ms/step\n",
      "White Percentage: 22.27%\n",
      "1/1 [==============================] - 0s 40ms/step\n"
     ]
    },
    {
     "name": "stderr",
     "output_type": "stream",
     "text": [
      "video 1/1 (900/901) D:\\815_CowDataChecking\\Honkawa\\2023-07-31\\03\\output_3fps\\20230731-030500-031000_10fps_3fps.mp4: 384x640 6 cows, 20.0ms\n",
      "WARNING  'Masks.masks' is deprecated. Use 'Masks.data' instead.\n"
     ]
    },
    {
     "name": "stdout",
     "output_type": "stream",
     "text": [
      "White Percentage: 15.17%\n",
      "1/1 [==============================] - 0s 50ms/step\n",
      "White Percentage: 0.52%\n",
      "1/1 [==============================] - 0s 40ms/step\n",
      "White Percentage: 10.10%\n",
      "1/1 [==============================] - 0s 40ms/step\n"
     ]
    },
    {
     "name": "stderr",
     "output_type": "stream",
     "text": [
      "video 1/1 (901/901) D:\\815_CowDataChecking\\Honkawa\\2023-07-31\\03\\output_3fps\\20230731-030500-031000_10fps_3fps.mp4: 384x640 6 cows, 20.0ms\n",
      "Speed: 1.5ms preprocess, 26.1ms inference, 4.1ms postprocess per image at shape (1, 3, 960, 640)\n"
     ]
    },
    {
     "name": "stdout",
     "output_type": "stream",
     "text": [
      "White Percentage: 14.89%\n",
      "D:\\Python\\SULarbmon\\Python\\env\\yolov8_june\\ultralytics\\runs\\segment\\honkawa_1103_112_RANK\\03_1_video\\identification35\\20230731-030500-031000_10fps_3fps_classification.mp4\n",
      "D:\\Python\\SULarbmon\\Python\\env\\yolov8_june\\ultralytics\\runs\\segment\\honkawa_1103_112_RANK\\03_1_video\\identification35\\20230731-030500-031000_10fps_3fps_classification.mp4\n",
      "D:\\Python\\SULarbmon\\Python\\env\\yolov8_june\\ultralytics\\runs\\segment\\honkawa_1103_112_RANK\\03_1_video\\identification35/1/1.csv  is csv_path and \n",
      "threshold of tracking id: 1  is  0.27102803738317754\n",
      "-1\n",
      "tracking  1  is  UNKNOWN_1\n",
      "D:\\Python\\SULarbmon\\Python\\env\\yolov8_june\\ultralytics\\runs\\segment\\honkawa_1103_112_RANK\\03_1_video\\identification35/2/2.csv  is csv_path and \n",
      "threshold of tracking id: 2  is  0.9357798165137615\n",
      "10003\n",
      "D:\\Python\\SULarbmon\\Python\\env\\yolov8_june\\ultralytics\\runs\\segment\\honkawa_1103_112_RANK\\03_1_video\\identification35/3/3.csv  is csv_path and \n",
      "threshold of tracking id: 3  is  0.48598130841121495\n",
      "-1\n",
      "tracking  3  is  UNKNOWN_2\n",
      "D:\\Python\\SULarbmon\\Python\\env\\yolov8_june\\ultralytics\\runs\\segment\\honkawa_1103_112_RANK\\03_1_video\\identification35/4/4.csv  is csv_path and \n",
      "threshold of tracking id: 4  is  0.9595959595959596\n",
      "10015\n",
      "D:\\Python\\SULarbmon\\Python\\env\\yolov8_june\\ultralytics\\runs\\segment\\honkawa_1103_112_RANK\\03_1_video\\identification35/5/5.csv  is csv_path and \n",
      "threshold of tracking id: 5  is  0.24752475247524752\n",
      "-1\n",
      "tracking  5  is  UNKNOWN_3\n",
      "D:\\Python\\SULarbmon\\Python\\env\\yolov8_june\\ultralytics\\runs\\segment\\honkawa_1103_112_RANK\\03_1_video\\identification35/6/6.csv  is csv_path and \n",
      "threshold of tracking id: 6  is  0.4766355140186916\n",
      "-1\n",
      "tracking  6  is  UNKNOWN_4\n",
      "D:\\Python\\SULarbmon\\Python\\env\\yolov8_june\\ultralytics\\runs\\segment\\honkawa_1103_112_RANK\\03_1_video\\identification35/7/7.csv  is csv_path and \n",
      "threshold of tracking id: 7  is  0.3402061855670103\n",
      "-1\n",
      "tracking  7  is  UNKNOWN_5\n",
      "D:\\Python\\SULarbmon\\Python\\env\\yolov8_june\\ultralytics\\runs\\segment\\honkawa_1103_112_RANK\\03_1_video\\identification35/8/8.csv  is csv_path and \n",
      "threshold of tracking id: 8  is  0.19626168224299065\n",
      "-1\n",
      "tracking  8  is  UNKNOWN_6\n",
      "D:\\Python\\SULarbmon\\Python\\env\\yolov8_june\\ultralytics\\runs\\segment\\honkawa_1103_112_RANK\\03_1_video\\identification35/9/9.csv  is csv_path and \n",
      "threshold of tracking id: 9  is  0.24545454545454545\n",
      "-1\n",
      "tracking  9  is  UNKNOWN_7\n",
      "D:\\Python\\SULarbmon\\Python\\env\\yolov8_june\\ultralytics\\runs\\segment\\honkawa_1103_112_RANK\\03_1_video\\identification35/10/10.csv  is csv_path and \n",
      "threshold of tracking id: 10  is  0.1559633027522936\n",
      "-1\n",
      "tracking  10  is  UNKNOWN_8\n",
      "D:\\Python\\SULarbmon\\Python\\env\\yolov8_june\\ultralytics\\runs\\segment\\honkawa_1103_112_RANK\\03_1_video\\identification35/11/11.csv  is csv_path and \n",
      "threshold of tracking id: 11  is  0.990909090909091\n",
      "10007\n",
      "D:\\Python\\SULarbmon\\Python\\env\\yolov8_june\\ultralytics\\runs\\segment\\honkawa_1103_112_RANK\\03_1_video\\identification35/12/12.csv  is csv_path and \n",
      "threshold of tracking id: 12  is  1.0\n",
      "10014\n",
      "D:\\Python\\SULarbmon\\Python\\env\\yolov8_june\\ultralytics\\runs\\segment\\honkawa_1103_112_RANK\\03_1_video\\identification35/13/13.csv  is csv_path and \n",
      "threshold of tracking id: 13  is  0.5825242718446602\n",
      "10010\n",
      "D:\\Python\\SULarbmon\\Python\\env\\yolov8_june\\ultralytics\\runs\\segment\\honkawa_1103_112_RANK\\03_1_video\\identification35/14/14.csv  is csv_path and \n",
      "threshold of tracking id: 14  is  0.5925925925925926\n",
      "10020\n",
      "D:\\Python\\SULarbmon\\Python\\env\\yolov8_june\\ultralytics\\runs\\segment\\honkawa_1103_112_RANK\\03_1_video\\identification35/15/15.csv  is csv_path and \n",
      "threshold of tracking id: 15  is  0.6545454545454545\n",
      "10037\n",
      "D:\\Python\\SULarbmon\\Python\\env\\yolov8_june\\ultralytics\\runs\\segment\\honkawa_1103_112_RANK\\03_1_video\\identification35/16/16.csv  is csv_path and \n",
      "threshold of tracking id: 16  is  0.75\n",
      "10018\n",
      "D:\\Python\\SULarbmon\\Python\\env\\yolov8_june\\ultralytics\\runs\\segment\\honkawa_1103_112_RANK\\03_1_video\\identification35/17/17.csv  is csv_path and \n",
      "threshold of tracking id: 17  is  0.22857142857142856\n",
      "-1\n",
      "tracking  17  is  UNKNOWN_9\n",
      "D:\\Python\\SULarbmon\\Python\\env\\yolov8_june\\ultralytics\\runs\\segment\\honkawa_1103_112_RANK\\03_1_video\\identification35/18/18.csv  is csv_path and \n",
      "threshold of tracking id: 18  is  0.42342342342342343\n",
      "-1\n",
      "tracking  18  is  UNKNOWN_10\n",
      "D:\\Python\\SULarbmon\\Python\\env\\yolov8_june\\ultralytics\\runs\\segment\\honkawa_1103_112_RANK\\03_1_video\\identification35/19/19.csv  is csv_path and \n",
      "threshold of tracking id: 19  is  0.6\n",
      "10008\n",
      "D:\\Python\\SULarbmon\\Python\\env\\yolov8_june\\ultralytics\\runs\\segment\\honkawa_1103_112_RANK\\03_1_video\\identification35/20/20.csv  is csv_path and \n",
      "threshold of tracking id: 20  is  0.6363636363636364\n",
      "10012\n",
      "D:\\Python\\SULarbmon\\Python\\env\\yolov8_june\\ultralytics\\runs\\segment\\honkawa_1103_112_RANK\\03_1_video\\identification35/21/21.csv  is csv_path and \n",
      "threshold of tracking id: 21  is  0.6203703703703703\n",
      "10005\n",
      "D:\\Python\\SULarbmon\\Python\\env\\yolov8_june\\ultralytics\\runs\\segment\\honkawa_1103_112_RANK\\03_1_video\\identification35/22/22.csv  is csv_path and \n",
      "threshold of tracking id: 22  is  0.8018018018018018\n",
      "10016\n",
      "D:\\Python\\SULarbmon\\Python\\env\\yolov8_june\\ultralytics\\runs\\segment\\honkawa_1103_112_RANK\\03_1_video\\identification35/23/23.csv  is csv_path and \n",
      "threshold of tracking id: 23  is  0.17894736842105263\n",
      "-1\n",
      "tracking  23  is  UNKNOWN_11\n",
      "D:\\Python\\SULarbmon\\Python\\env\\yolov8_june\\ultralytics\\runs\\segment\\honkawa_1103_112_RANK\\03_1_video\\identification35/24/24.csv  is csv_path and \n",
      "threshold of tracking id: 24  is  0.6428571428571429\n",
      "10035\n",
      "D:\\Python\\SULarbmon\\Python\\env\\yolov8_june\\ultralytics\\runs\\segment\\honkawa_1103_112_RANK\\03_1_video\\identification35/25/25.csv  is csv_path and \n",
      "threshold of tracking id: 25  is  0.9696969696969697\n",
      "10021\n",
      "0  from index\n",
      "1   <--x-->   1\n",
      "SAVING!!!!!\n",
      "1   <--x-->   2\n",
      "1  from index\n",
      "2   <--x-->   2\n",
      "SAVING!!!!!\n",
      "2   <--x-->   3\n",
      "2  from index\n",
      "3   <--x-->   3\n",
      "SAVING!!!!!\n",
      "3   <--x-->   4\n",
      "3  from index\n",
      "4   <--x-->   4\n",
      "SAVING!!!!!\n",
      "4   <--x-->   5\n",
      "4  from index\n",
      "5   <--x-->   5\n",
      "SAVING!!!!!\n",
      "5   <--x-->   6\n",
      "5  from index\n",
      "6   <--x-->   6\n",
      "SAVING!!!!!\n",
      "6   <--x-->   7\n",
      "6  from index\n",
      "7   <--x-->   7\n",
      "SAVING!!!!!\n",
      "7   <--x-->   8\n",
      "7  from index\n",
      "8   <--x-->   8\n",
      "SAVING!!!!!\n",
      "8   <--x-->   9\n",
      "8  from index\n",
      "9   <--x-->   9\n",
      "SAVING!!!!!\n",
      "9   <--x-->   10\n",
      "9  from index\n",
      "10   <--x-->   10\n",
      "SAVING!!!!!\n",
      "10   <--x-->   11\n",
      "10  from index\n",
      "11   <--x-->   11\n",
      "SAVING!!!!!\n",
      "11   <--x-->   12\n",
      "11  from index\n",
      "12   <--x-->   12\n",
      "SAVING!!!!!\n",
      "12   <--x-->   13\n",
      "12  from index\n",
      "13   <--x-->   13\n",
      "SAVING!!!!!\n",
      "13   <--x-->   14\n",
      "13  from index\n",
      "14   <--x-->   14\n",
      "SAVING!!!!!\n",
      "14   <--x-->   15\n",
      "14  from index\n",
      "15   <--x-->   15\n",
      "SAVING!!!!!\n",
      "15   <--x-->   16\n",
      "15  from index\n",
      "16   <--x-->   16\n",
      "SAVING!!!!!\n",
      "16   <--x-->   17\n",
      "16  from index\n",
      "17   <--x-->   17\n",
      "SAVING!!!!!\n",
      "17   <--x-->   18\n",
      "17  from index\n",
      "18   <--x-->   18\n",
      "SAVING!!!!!\n",
      "18   <--x-->   19\n",
      "18  from index\n",
      "19   <--x-->   19\n",
      "SAVING!!!!!\n",
      "19   <--x-->   20\n",
      "19  from index\n",
      "20   <--x-->   20\n",
      "SAVING!!!!!\n",
      "20   <--x-->   21\n",
      "20  from index\n",
      "21   <--x-->   21\n",
      "SAVING!!!!!\n",
      "21   <--x-->   22\n",
      "21  from index\n",
      "22   <--x-->   22\n",
      "SAVING!!!!!\n",
      "22   <--x-->   23\n",
      "22  from index\n",
      "23   <--x-->   23\n",
      "SAVING!!!!!\n",
      "23   <--x-->   24\n",
      "23  from index\n",
      "24   <--x-->   24\n",
      "SAVING!!!!!\n",
      "24   <--x-->   25\n",
      "24  from index\n",
      "25   <--x-->   25\n",
      "SAVING!!!!!\n",
      "25   <--x-->   26\n",
      "25  from index\n",
      "26   <--x-->   26\n",
      "SAVING!!!!!\n",
      "26   <--x-->   27\n",
      "26  from index\n",
      "27   <--x-->   27\n",
      "SAVING!!!!!\n",
      "27   <--x-->   28\n",
      "27  from index\n",
      "28   <--x-->   28\n",
      "SAVING!!!!!\n",
      "28   <--x-->   29\n",
      "28  from index\n",
      "29   <--x-->   29\n",
      "SAVING!!!!!\n",
      "29   <--x-->   30\n",
      "29  from index\n",
      "30   <--x-->   30\n",
      "SAVING!!!!!\n",
      "30   <--x-->   31\n",
      "30  from index\n",
      "31   <--x-->   31\n",
      "SAVING!!!!!\n",
      "31   <--x-->   32\n",
      "31  from index\n",
      "32   <--x-->   32\n",
      "SAVING!!!!!\n",
      "32   <--x-->   33\n",
      "32  from index\n",
      "33   <--x-->   33\n",
      "SAVING!!!!!\n",
      "33   <--x-->   33\n",
      "SAVING!!!!!\n",
      "33   <--x-->   34\n",
      "34  from index\n",
      "34   <--x-->   34\n",
      "SAVING!!!!!\n",
      "34   <--x-->   34\n",
      "SAVING!!!!!\n",
      "34   <--x-->   35\n",
      "36  from index\n",
      "35   <--x-->   35\n",
      "SAVING!!!!!\n",
      "35   <--x-->   35\n",
      "SAVING!!!!!\n",
      "35   <--x-->   36\n",
      "38  from index\n",
      "36   <--x-->   36\n",
      "SAVING!!!!!\n",
      "36   <--x-->   36\n",
      "SAVING!!!!!\n",
      "36   <--x-->   37\n",
      "40  from index\n",
      "37   <--x-->   37\n",
      "SAVING!!!!!\n",
      "37   <--x-->   37\n",
      "SAVING!!!!!\n",
      "37   <--x-->   38\n",
      "42  from index\n",
      "38   <--x-->   38\n",
      "SAVING!!!!!\n",
      "38   <--x-->   38\n",
      "SAVING!!!!!\n",
      "38   <--x-->   39\n",
      "44  from index\n",
      "39   <--x-->   39\n",
      "SAVING!!!!!\n",
      "39   <--x-->   39\n",
      "SAVING!!!!!\n",
      "39   <--x-->   40\n",
      "46  from index\n",
      "40   <--x-->   40\n",
      "SAVING!!!!!\n",
      "40   <--x-->   40\n",
      "SAVING!!!!!\n",
      "40   <--x-->   41\n",
      "48  from index\n",
      "41   <--x-->   41\n",
      "SAVING!!!!!\n",
      "41   <--x-->   41\n",
      "SAVING!!!!!\n",
      "41   <--x-->   42\n",
      "50  from index\n",
      "42   <--x-->   42\n",
      "SAVING!!!!!\n",
      "42   <--x-->   42\n",
      "SAVING!!!!!\n",
      "42   <--x-->   43\n",
      "52  from index\n",
      "43   <--x-->   43\n",
      "SAVING!!!!!\n",
      "43   <--x-->   43\n",
      "SAVING!!!!!\n",
      "43   <--x-->   44\n",
      "54  from index\n",
      "44   <--x-->   44\n",
      "SAVING!!!!!\n",
      "44   <--x-->   44\n",
      "SAVING!!!!!\n",
      "44   <--x-->   45\n",
      "56  from index\n",
      "45   <--x-->   45\n",
      "SAVING!!!!!\n",
      "45   <--x-->   45\n",
      "SAVING!!!!!\n",
      "45   <--x-->   46\n",
      "58  from index\n",
      "46   <--x-->   46\n",
      "SAVING!!!!!\n",
      "46   <--x-->   46\n",
      "SAVING!!!!!\n",
      "46   <--x-->   47\n",
      "60  from index\n",
      "47   <--x-->   47\n",
      "SAVING!!!!!\n",
      "47   <--x-->   47\n",
      "SAVING!!!!!\n",
      "47   <--x-->   48\n",
      "62  from index\n",
      "48   <--x-->   48\n",
      "SAVING!!!!!\n",
      "48   <--x-->   48\n",
      "SAVING!!!!!\n",
      "48   <--x-->   49\n",
      "64  from index\n",
      "49   <--x-->   49\n",
      "SAVING!!!!!\n",
      "49   <--x-->   49\n",
      "SAVING!!!!!\n",
      "49   <--x-->   50\n",
      "66  from index\n",
      "50   <--x-->   50\n",
      "SAVING!!!!!\n",
      "50   <--x-->   50\n",
      "SAVING!!!!!\n",
      "50   <--x-->   51\n",
      "68  from index\n",
      "51   <--x-->   51\n",
      "SAVING!!!!!\n",
      "51   <--x-->   51\n",
      "SAVING!!!!!\n",
      "51   <--x-->   52\n",
      "70  from index\n",
      "52   <--x-->   52\n",
      "SAVING!!!!!\n",
      "52   <--x-->   52\n",
      "SAVING!!!!!\n",
      "52   <--x-->   53\n",
      "72  from index\n",
      "53   <--x-->   53\n",
      "SAVING!!!!!\n",
      "53   <--x-->   53\n",
      "SAVING!!!!!\n",
      "53   <--x-->   54\n",
      "74  from index\n",
      "54   <--x-->   54\n",
      "SAVING!!!!!\n",
      "54   <--x-->   54\n",
      "SAVING!!!!!\n",
      "54   <--x-->   55\n",
      "76  from index\n",
      "55   <--x-->   55\n",
      "SAVING!!!!!\n",
      "55   <--x-->   55\n",
      "SAVING!!!!!\n",
      "55   <--x-->   56\n",
      "78  from index\n",
      "56   <--x-->   56\n",
      "SAVING!!!!!\n",
      "56   <--x-->   56\n",
      "SAVING!!!!!\n",
      "56   <--x-->   57\n",
      "80  from index\n",
      "57   <--x-->   57\n",
      "SAVING!!!!!\n",
      "57   <--x-->   57\n",
      "SAVING!!!!!\n",
      "57   <--x-->   58\n",
      "82  from index\n",
      "58   <--x-->   58\n",
      "SAVING!!!!!\n",
      "58   <--x-->   58\n",
      "SAVING!!!!!\n",
      "58   <--x-->   59\n",
      "84  from index\n",
      "59   <--x-->   59\n",
      "SAVING!!!!!\n",
      "59   <--x-->   59\n",
      "SAVING!!!!!\n",
      "59   <--x-->   60\n",
      "86  from index\n",
      "60   <--x-->   60\n",
      "SAVING!!!!!\n",
      "60   <--x-->   60\n",
      "SAVING!!!!!\n",
      "60   <--x-->   61\n",
      "88  from index\n",
      "61   <--x-->   61\n",
      "SAVING!!!!!\n",
      "61   <--x-->   61\n",
      "SAVING!!!!!\n",
      "61   <--x-->   62\n",
      "90  from index\n",
      "62   <--x-->   62\n",
      "SAVING!!!!!\n",
      "62   <--x-->   62\n",
      "SAVING!!!!!\n",
      "62   <--x-->   63\n",
      "92  from index\n",
      "63   <--x-->   63\n",
      "SAVING!!!!!\n",
      "63   <--x-->   63\n",
      "SAVING!!!!!\n",
      "63   <--x-->   64\n",
      "94  from index\n",
      "64   <--x-->   64\n",
      "SAVING!!!!!\n",
      "64   <--x-->   64\n",
      "SAVING!!!!!\n",
      "64   <--x-->   64\n",
      "SAVING!!!!!\n",
      "64   <--x-->   65\n",
      "97  from index\n",
      "65   <--x-->   65\n",
      "SAVING!!!!!\n",
      "65   <--x-->   65\n",
      "SAVING!!!!!\n",
      "65   <--x-->   65\n",
      "SAVING!!!!!\n",
      "65   <--x-->   66\n",
      "100  from index\n",
      "66   <--x-->   66\n",
      "SAVING!!!!!\n",
      "66   <--x-->   66\n",
      "SAVING!!!!!\n",
      "66   <--x-->   66\n",
      "SAVING!!!!!\n",
      "66   <--x-->   67\n",
      "103  from index\n",
      "67   <--x-->   67\n",
      "SAVING!!!!!\n",
      "67   <--x-->   67\n",
      "SAVING!!!!!\n",
      "67   <--x-->   67\n",
      "SAVING!!!!!\n",
      "67   <--x-->   68\n",
      "106  from index\n",
      "68   <--x-->   68\n",
      "SAVING!!!!!\n",
      "68   <--x-->   68\n",
      "SAVING!!!!!\n",
      "68   <--x-->   68\n",
      "SAVING!!!!!\n",
      "68   <--x-->   69\n",
      "109  from index\n",
      "69   <--x-->   69\n",
      "SAVING!!!!!\n",
      "69   <--x-->   69\n",
      "SAVING!!!!!\n",
      "69   <--x-->   69\n",
      "SAVING!!!!!\n",
      "69   <--x-->   70\n",
      "112  from index\n",
      "70   <--x-->   70\n",
      "SAVING!!!!!\n",
      "70   <--x-->   70\n",
      "SAVING!!!!!\n",
      "70   <--x-->   70\n",
      "SAVING!!!!!\n",
      "70   <--x-->   71\n",
      "115  from index\n",
      "71   <--x-->   71\n",
      "SAVING!!!!!\n",
      "71   <--x-->   71\n",
      "SAVING!!!!!\n",
      "71   <--x-->   71\n",
      "SAVING!!!!!\n",
      "71   <--x-->   72\n",
      "118  from index\n",
      "72   <--x-->   72\n",
      "SAVING!!!!!\n",
      "72   <--x-->   72\n",
      "SAVING!!!!!\n",
      "72   <--x-->   72\n",
      "SAVING!!!!!\n",
      "72   <--x-->   73\n",
      "121  from index\n",
      "73   <--x-->   73\n",
      "SAVING!!!!!\n",
      "73   <--x-->   73\n",
      "SAVING!!!!!\n",
      "73   <--x-->   73\n",
      "SAVING!!!!!\n",
      "73   <--x-->   74\n",
      "124  from index\n",
      "74   <--x-->   74\n",
      "SAVING!!!!!\n",
      "74   <--x-->   74\n",
      "SAVING!!!!!\n",
      "74   <--x-->   74\n",
      "SAVING!!!!!\n",
      "74   <--x-->   75\n",
      "127  from index\n",
      "75   <--x-->   75\n",
      "SAVING!!!!!\n",
      "75   <--x-->   75\n",
      "SAVING!!!!!\n",
      "75   <--x-->   75\n",
      "SAVING!!!!!\n",
      "75   <--x-->   76\n",
      "130  from index\n",
      "76   <--x-->   76\n",
      "SAVING!!!!!\n",
      "76   <--x-->   76\n",
      "SAVING!!!!!\n",
      "76   <--x-->   76\n",
      "SAVING!!!!!\n",
      "76   <--x-->   77\n",
      "133  from index\n",
      "77   <--x-->   77\n",
      "SAVING!!!!!\n",
      "77   <--x-->   77\n",
      "SAVING!!!!!\n",
      "77   <--x-->   77\n",
      "SAVING!!!!!\n",
      "77   <--x-->   78\n",
      "136  from index\n",
      "78   <--x-->   78\n",
      "SAVING!!!!!\n",
      "78   <--x-->   78\n",
      "SAVING!!!!!\n",
      "78   <--x-->   78\n",
      "SAVING!!!!!\n",
      "78   <--x-->   79\n",
      "139  from index\n",
      "79   <--x-->   79\n",
      "SAVING!!!!!\n",
      "79   <--x-->   79\n",
      "SAVING!!!!!\n",
      "79   <--x-->   79\n",
      "SAVING!!!!!\n",
      "79   <--x-->   80\n",
      "142  from index\n",
      "80   <--x-->   80\n",
      "SAVING!!!!!\n",
      "80   <--x-->   80\n",
      "SAVING!!!!!\n",
      "80   <--x-->   80\n",
      "SAVING!!!!!\n",
      "80   <--x-->   81\n",
      "145  from index\n",
      "81   <--x-->   81\n",
      "SAVING!!!!!\n",
      "81   <--x-->   81\n",
      "SAVING!!!!!\n",
      "81   <--x-->   81\n",
      "SAVING!!!!!\n",
      "81   <--x-->   82\n",
      "148  from index\n",
      "82   <--x-->   82\n",
      "SAVING!!!!!\n",
      "82   <--x-->   82\n",
      "SAVING!!!!!\n",
      "82   <--x-->   82\n",
      "SAVING!!!!!\n",
      "82   <--x-->   83\n",
      "151  from index\n",
      "83   <--x-->   83\n",
      "SAVING!!!!!\n",
      "83   <--x-->   83\n",
      "SAVING!!!!!\n",
      "83   <--x-->   83\n",
      "SAVING!!!!!\n",
      "83   <--x-->   84\n",
      "154  from index\n",
      "84   <--x-->   84\n",
      "SAVING!!!!!\n",
      "84   <--x-->   84\n",
      "SAVING!!!!!\n",
      "84   <--x-->   84\n",
      "SAVING!!!!!\n",
      "84   <--x-->   85\n",
      "157  from index\n",
      "85   <--x-->   85\n",
      "SAVING!!!!!\n",
      "85   <--x-->   85\n",
      "SAVING!!!!!\n",
      "85   <--x-->   85\n",
      "SAVING!!!!!\n",
      "85   <--x-->   86\n",
      "160  from index\n",
      "86   <--x-->   86\n",
      "SAVING!!!!!\n",
      "86   <--x-->   86\n",
      "SAVING!!!!!\n",
      "86   <--x-->   86\n",
      "SAVING!!!!!\n",
      "86   <--x-->   87\n",
      "163  from index\n",
      "87   <--x-->   87\n",
      "SAVING!!!!!\n",
      "87   <--x-->   87\n",
      "SAVING!!!!!\n",
      "87   <--x-->   87\n",
      "SAVING!!!!!\n",
      "87   <--x-->   88\n",
      "166  from index\n",
      "88   <--x-->   88\n",
      "SAVING!!!!!\n",
      "88   <--x-->   88\n",
      "SAVING!!!!!\n",
      "88   <--x-->   88\n",
      "SAVING!!!!!\n",
      "88   <--x-->   89\n",
      "169  from index\n",
      "89   <--x-->   89\n",
      "SAVING!!!!!\n",
      "89   <--x-->   89\n",
      "SAVING!!!!!\n",
      "89   <--x-->   89\n",
      "SAVING!!!!!\n",
      "89   <--x-->   90\n",
      "172  from index\n",
      "90   <--x-->   90\n",
      "SAVING!!!!!\n",
      "90   <--x-->   90\n",
      "SAVING!!!!!\n",
      "90   <--x-->   90\n",
      "SAVING!!!!!\n",
      "90   <--x-->   91\n",
      "175  from index\n",
      "91   <--x-->   91\n",
      "SAVING!!!!!\n",
      "91   <--x-->   91\n",
      "SAVING!!!!!\n",
      "91   <--x-->   91\n",
      "SAVING!!!!!\n",
      "91   <--x-->   92\n",
      "178  from index\n",
      "92   <--x-->   92\n",
      "SAVING!!!!!\n",
      "92   <--x-->   92\n",
      "SAVING!!!!!\n",
      "92   <--x-->   92\n",
      "SAVING!!!!!\n",
      "92   <--x-->   93\n",
      "181  from index\n",
      "93   <--x-->   93\n",
      "SAVING!!!!!\n",
      "93   <--x-->   93\n",
      "SAVING!!!!!\n",
      "93   <--x-->   93\n",
      "SAVING!!!!!\n",
      "93   <--x-->   94\n",
      "184  from index\n",
      "94   <--x-->   94\n",
      "SAVING!!!!!\n",
      "94   <--x-->   94\n",
      "SAVING!!!!!\n",
      "94   <--x-->   94\n",
      "SAVING!!!!!\n",
      "94   <--x-->   95\n",
      "187  from index\n",
      "95   <--x-->   95\n",
      "SAVING!!!!!\n",
      "95   <--x-->   95\n",
      "SAVING!!!!!\n",
      "95   <--x-->   95\n",
      "SAVING!!!!!\n",
      "95   <--x-->   96\n",
      "190  from index\n",
      "96   <--x-->   96\n",
      "SAVING!!!!!\n",
      "96   <--x-->   96\n",
      "SAVING!!!!!\n",
      "96   <--x-->   96\n",
      "SAVING!!!!!\n",
      "96   <--x-->   97\n",
      "193  from index\n",
      "97   <--x-->   97\n",
      "SAVING!!!!!\n",
      "97   <--x-->   97\n",
      "SAVING!!!!!\n",
      "97   <--x-->   97\n",
      "SAVING!!!!!\n",
      "97   <--x-->   98\n",
      "196  from index\n",
      "98   <--x-->   98\n",
      "SAVING!!!!!\n",
      "98   <--x-->   98\n",
      "SAVING!!!!!\n",
      "98   <--x-->   98\n",
      "SAVING!!!!!\n",
      "98   <--x-->   99\n",
      "199  from index\n",
      "99   <--x-->   99\n",
      "SAVING!!!!!\n",
      "99   <--x-->   99\n",
      "SAVING!!!!!\n",
      "99   <--x-->   99\n",
      "SAVING!!!!!\n",
      "99   <--x-->   100\n",
      "202  from index\n",
      "100   <--x-->   100\n",
      "SAVING!!!!!\n",
      "100   <--x-->   100\n",
      "SAVING!!!!!\n",
      "100   <--x-->   100\n",
      "SAVING!!!!!\n",
      "100   <--x-->   101\n",
      "205  from index\n",
      "101   <--x-->   101\n",
      "SAVING!!!!!\n",
      "101   <--x-->   101\n",
      "SAVING!!!!!\n",
      "101   <--x-->   101\n",
      "SAVING!!!!!\n",
      "101   <--x-->   102\n",
      "208  from index\n",
      "102   <--x-->   102\n",
      "SAVING!!!!!\n",
      "102   <--x-->   102\n",
      "SAVING!!!!!\n",
      "102   <--x-->   102\n",
      "SAVING!!!!!\n",
      "102   <--x-->   103\n",
      "211  from index\n",
      "103   <--x-->   103\n",
      "SAVING!!!!!\n",
      "103   <--x-->   103\n",
      "SAVING!!!!!\n",
      "103   <--x-->   103\n",
      "SAVING!!!!!\n",
      "103   <--x-->   104\n",
      "214  from index\n",
      "104   <--x-->   104\n",
      "SAVING!!!!!\n",
      "104   <--x-->   104\n",
      "SAVING!!!!!\n",
      "104   <--x-->   104\n",
      "SAVING!!!!!\n",
      "104   <--x-->   105\n",
      "217  from index\n",
      "105   <--x-->   105\n",
      "SAVING!!!!!\n",
      "105   <--x-->   105\n",
      "SAVING!!!!!\n",
      "105   <--x-->   105\n",
      "SAVING!!!!!\n",
      "105   <--x-->   106\n",
      "220  from index\n",
      "106   <--x-->   106\n",
      "SAVING!!!!!\n",
      "106   <--x-->   106\n",
      "SAVING!!!!!\n",
      "106   <--x-->   106\n",
      "SAVING!!!!!\n",
      "106   <--x-->   107\n",
      "223  from index\n",
      "107   <--x-->   107\n",
      "SAVING!!!!!\n",
      "107   <--x-->   107\n",
      "SAVING!!!!!\n",
      "107   <--x-->   107\n",
      "SAVING!!!!!\n",
      "107   <--x-->   108\n",
      "226  from index\n",
      "108   <--x-->   108\n",
      "SAVING!!!!!\n",
      "108   <--x-->   108\n",
      "SAVING!!!!!\n",
      "108   <--x-->   109\n",
      "228  from index\n",
      "109   <--x-->   109\n",
      "SAVING!!!!!\n",
      "109   <--x-->   109\n",
      "SAVING!!!!!\n",
      "109   <--x-->   110\n",
      "230  from index\n",
      "110   <--x-->   110\n",
      "SAVING!!!!!\n",
      "110   <--x-->   110\n",
      "SAVING!!!!!\n",
      "110   <--x-->   111\n",
      "232  from index\n",
      "111   <--x-->   111\n",
      "SAVING!!!!!\n",
      "111   <--x-->   111\n",
      "SAVING!!!!!\n",
      "111   <--x-->   112\n",
      "234  from index\n",
      "112   <--x-->   112\n",
      "SAVING!!!!!\n",
      "112   <--x-->   112\n",
      "SAVING!!!!!\n",
      "112   <--x-->   113\n",
      "236  from index\n",
      "113   <--x-->   113\n",
      "SAVING!!!!!\n",
      "113   <--x-->   113\n",
      "SAVING!!!!!\n",
      "113   <--x-->   114\n",
      "238  from index\n",
      "114   <--x-->   114\n",
      "SAVING!!!!!\n",
      "114   <--x-->   114\n",
      "SAVING!!!!!\n",
      "114   <--x-->   115\n",
      "240  from index\n",
      "115   <--x-->   115\n",
      "SAVING!!!!!\n",
      "115   <--x-->   115\n",
      "SAVING!!!!!\n",
      "115   <--x-->   116\n",
      "242  from index\n",
      "116   <--x-->   116\n",
      "SAVING!!!!!\n",
      "116   <--x-->   116\n",
      "SAVING!!!!!\n",
      "116   <--x-->   117\n",
      "244  from index\n",
      "117   <--x-->   117\n",
      "SAVING!!!!!\n",
      "117   <--x-->   117\n",
      "SAVING!!!!!\n",
      "117   <--x-->   118\n",
      "246  from index\n",
      "118   <--x-->   118\n",
      "SAVING!!!!!\n",
      "118   <--x-->   118\n",
      "SAVING!!!!!\n",
      "118   <--x-->   119\n",
      "248  from index\n",
      "119   <--x-->   119\n",
      "SAVING!!!!!\n",
      "119   <--x-->   119\n",
      "SAVING!!!!!\n",
      "119   <--x-->   120\n",
      "250  from index\n",
      "120   <--x-->   120\n",
      "SAVING!!!!!\n",
      "120   <--x-->   120\n",
      "SAVING!!!!!\n",
      "120   <--x-->   121\n",
      "252  from index\n",
      "121   <--x-->   121\n",
      "SAVING!!!!!\n",
      "121   <--x-->   121\n",
      "SAVING!!!!!\n",
      "121   <--x-->   122\n",
      "254  from index\n",
      "122   <--x-->   122\n",
      "SAVING!!!!!\n",
      "122   <--x-->   122\n",
      "SAVING!!!!!\n",
      "122   <--x-->   123\n",
      "256  from index\n",
      "123   <--x-->   123\n",
      "SAVING!!!!!\n",
      "123   <--x-->   123\n",
      "SAVING!!!!!\n",
      "123   <--x-->   124\n",
      "258  from index\n",
      "124   <--x-->   124\n",
      "SAVING!!!!!\n",
      "124   <--x-->   124\n",
      "SAVING!!!!!\n",
      "124   <--x-->   125\n",
      "260  from index\n",
      "125   <--x-->   125\n",
      "SAVING!!!!!\n",
      "125   <--x-->   125\n",
      "SAVING!!!!!\n",
      "125   <--x-->   126\n",
      "262  from index\n",
      "126   <--x-->   126\n",
      "SAVING!!!!!\n",
      "126   <--x-->   126\n",
      "SAVING!!!!!\n",
      "126   <--x-->   127\n",
      "264  from index\n",
      "127   <--x-->   127\n",
      "SAVING!!!!!\n",
      "127   <--x-->   127\n",
      "SAVING!!!!!\n",
      "127   <--x-->   128\n",
      "266  from index\n",
      "128   <--x-->   128\n",
      "SAVING!!!!!\n",
      "128   <--x-->   128\n",
      "SAVING!!!!!\n",
      "128   <--x-->   128\n",
      "SAVING!!!!!\n",
      "128   <--x-->   129\n",
      "269  from index\n",
      "129   <--x-->   129\n",
      "SAVING!!!!!\n",
      "129   <--x-->   129\n",
      "SAVING!!!!!\n",
      "129   <--x-->   129\n",
      "SAVING!!!!!\n",
      "129   <--x-->   130\n",
      "272  from index\n",
      "130   <--x-->   130\n",
      "SAVING!!!!!\n",
      "130   <--x-->   130\n",
      "SAVING!!!!!\n",
      "130   <--x-->   130\n",
      "SAVING!!!!!\n",
      "130   <--x-->   131\n",
      "275  from index\n",
      "131   <--x-->   131\n",
      "SAVING!!!!!\n",
      "131   <--x-->   131\n",
      "SAVING!!!!!\n",
      "131   <--x-->   131\n",
      "SAVING!!!!!\n",
      "131   <--x-->   132\n",
      "278  from index\n",
      "132   <--x-->   132\n",
      "SAVING!!!!!\n",
      "132   <--x-->   132\n",
      "SAVING!!!!!\n",
      "132   <--x-->   132\n",
      "SAVING!!!!!\n",
      "132   <--x-->   133\n",
      "281  from index\n",
      "133   <--x-->   133\n",
      "SAVING!!!!!\n",
      "133   <--x-->   133\n",
      "SAVING!!!!!\n",
      "133   <--x-->   133\n",
      "SAVING!!!!!\n",
      "133   <--x-->   134\n",
      "284  from index\n",
      "134   <--x-->   134\n",
      "SAVING!!!!!\n",
      "134   <--x-->   134\n",
      "SAVING!!!!!\n",
      "134   <--x-->   134\n",
      "SAVING!!!!!\n",
      "134   <--x-->   135\n",
      "287  from index\n",
      "135   <--x-->   135\n",
      "SAVING!!!!!\n",
      "135   <--x-->   135\n",
      "SAVING!!!!!\n",
      "135   <--x-->   135\n",
      "SAVING!!!!!\n",
      "135   <--x-->   136\n",
      "290  from index\n",
      "136   <--x-->   136\n",
      "SAVING!!!!!\n",
      "136   <--x-->   136\n",
      "SAVING!!!!!\n",
      "136   <--x-->   136\n",
      "SAVING!!!!!\n",
      "136   <--x-->   137\n",
      "293  from index\n",
      "137   <--x-->   137\n",
      "SAVING!!!!!\n",
      "137   <--x-->   137\n",
      "SAVING!!!!!\n",
      "137   <--x-->   137\n",
      "SAVING!!!!!\n",
      "137   <--x-->   138\n",
      "296  from index\n",
      "138   <--x-->   138\n",
      "SAVING!!!!!\n",
      "138   <--x-->   138\n",
      "SAVING!!!!!\n",
      "138   <--x-->   138\n",
      "SAVING!!!!!\n",
      "138   <--x-->   139\n",
      "299  from index\n",
      "139   <--x-->   139\n",
      "SAVING!!!!!\n",
      "139   <--x-->   139\n",
      "SAVING!!!!!\n",
      "139   <--x-->   139\n",
      "SAVING!!!!!\n",
      "139   <--x-->   140\n",
      "302  from index\n",
      "140   <--x-->   140\n",
      "SAVING!!!!!\n",
      "140   <--x-->   140\n",
      "SAVING!!!!!\n",
      "140   <--x-->   140\n",
      "SAVING!!!!!\n",
      "140   <--x-->   141\n",
      "305  from index\n",
      "141   <--x-->   141\n",
      "SAVING!!!!!\n",
      "141   <--x-->   141\n",
      "SAVING!!!!!\n",
      "141   <--x-->   141\n",
      "SAVING!!!!!\n",
      "141   <--x-->   142\n",
      "308  from index\n",
      "142   <--x-->   142\n",
      "SAVING!!!!!\n",
      "142   <--x-->   142\n",
      "SAVING!!!!!\n",
      "142   <--x-->   143\n",
      "310  from index\n",
      "143   <--x-->   143\n",
      "SAVING!!!!!\n",
      "143   <--x-->   143\n",
      "SAVING!!!!!\n",
      "143   <--x-->   144\n",
      "312  from index\n",
      "144   <--x-->   144\n",
      "SAVING!!!!!\n",
      "144   <--x-->   144\n",
      "SAVING!!!!!\n",
      "144   <--x-->   145\n",
      "314  from index\n",
      "145   <--x-->   145\n",
      "SAVING!!!!!\n",
      "145   <--x-->   145\n",
      "SAVING!!!!!\n",
      "145   <--x-->   146\n",
      "316  from index\n",
      "146   <--x-->   146\n",
      "SAVING!!!!!\n",
      "146   <--x-->   146\n",
      "SAVING!!!!!\n",
      "146   <--x-->   147\n",
      "318  from index\n",
      "147   <--x-->   147\n",
      "SAVING!!!!!\n",
      "147   <--x-->   147\n",
      "SAVING!!!!!\n",
      "147   <--x-->   148\n",
      "320  from index\n",
      "148   <--x-->   148\n",
      "SAVING!!!!!\n",
      "148   <--x-->   148\n",
      "SAVING!!!!!\n",
      "148   <--x-->   149\n",
      "322  from index\n",
      "149   <--x-->   149\n",
      "SAVING!!!!!\n",
      "149   <--x-->   149\n",
      "SAVING!!!!!\n",
      "149   <--x-->   150\n",
      "324  from index\n",
      "150   <--x-->   150\n",
      "SAVING!!!!!\n",
      "150   <--x-->   150\n",
      "SAVING!!!!!\n",
      "150   <--x-->   151\n",
      "326  from index\n",
      "151   <--x-->   151\n",
      "SAVING!!!!!\n",
      "151   <--x-->   151\n",
      "SAVING!!!!!\n",
      "151   <--x-->   152\n",
      "328  from index\n",
      "152   <--x-->   152\n",
      "SAVING!!!!!\n",
      "152   <--x-->   152\n",
      "SAVING!!!!!\n",
      "152   <--x-->   153\n",
      "330  from index\n",
      "153   <--x-->   153\n",
      "SAVING!!!!!\n",
      "153   <--x-->   153\n",
      "SAVING!!!!!\n",
      "153   <--x-->   154\n",
      "332  from index\n",
      "154   <--x-->   154\n",
      "SAVING!!!!!\n",
      "154   <--x-->   154\n",
      "SAVING!!!!!\n",
      "154   <--x-->   155\n",
      "334  from index\n",
      "155   <--x-->   155\n",
      "SAVING!!!!!\n",
      "155   <--x-->   155\n",
      "SAVING!!!!!\n",
      "155   <--x-->   156\n",
      "336  from index\n",
      "156   <--x-->   156\n",
      "SAVING!!!!!\n",
      "156   <--x-->   156\n",
      "SAVING!!!!!\n",
      "156   <--x-->   157\n",
      "338  from index\n",
      "157   <--x-->   157\n",
      "SAVING!!!!!\n",
      "157   <--x-->   157\n",
      "SAVING!!!!!\n",
      "157   <--x-->   158\n",
      "340  from index\n",
      "158   <--x-->   158\n",
      "SAVING!!!!!\n",
      "158   <--x-->   158\n",
      "SAVING!!!!!\n",
      "158   <--x-->   159\n",
      "342  from index\n",
      "159   <--x-->   159\n",
      "SAVING!!!!!\n",
      "159   <--x-->   159\n",
      "SAVING!!!!!\n",
      "159   <--x-->   160\n",
      "344  from index\n",
      "160   <--x-->   160\n",
      "SAVING!!!!!\n",
      "160   <--x-->   160\n",
      "SAVING!!!!!\n",
      "160   <--x-->   161\n",
      "346  from index\n",
      "161   <--x-->   161\n",
      "SAVING!!!!!\n",
      "161   <--x-->   161\n",
      "SAVING!!!!!\n",
      "161   <--x-->   162\n",
      "348  from index\n",
      "162   <--x-->   162\n",
      "SAVING!!!!!\n",
      "162   <--x-->   162\n",
      "SAVING!!!!!\n",
      "162   <--x-->   162\n",
      "SAVING!!!!!\n",
      "162   <--x-->   163\n",
      "351  from index\n",
      "163   <--x-->   163\n",
      "SAVING!!!!!\n",
      "163   <--x-->   163\n",
      "SAVING!!!!!\n",
      "163   <--x-->   163\n",
      "SAVING!!!!!\n",
      "163   <--x-->   164\n",
      "354  from index\n",
      "164   <--x-->   164\n",
      "SAVING!!!!!\n",
      "164   <--x-->   164\n",
      "SAVING!!!!!\n",
      "164   <--x-->   164\n",
      "SAVING!!!!!\n",
      "164   <--x-->   165\n",
      "357  from index\n",
      "165   <--x-->   165\n",
      "SAVING!!!!!\n",
      "165   <--x-->   165\n",
      "SAVING!!!!!\n",
      "165   <--x-->   165\n",
      "SAVING!!!!!\n",
      "165   <--x-->   166\n",
      "360  from index\n",
      "166   <--x-->   166\n",
      "SAVING!!!!!\n",
      "166   <--x-->   166\n",
      "SAVING!!!!!\n",
      "166   <--x-->   166\n",
      "SAVING!!!!!\n",
      "166   <--x-->   167\n",
      "363  from index\n",
      "167   <--x-->   167\n",
      "SAVING!!!!!\n",
      "167   <--x-->   167\n",
      "SAVING!!!!!\n",
      "167   <--x-->   167\n",
      "SAVING!!!!!\n",
      "167   <--x-->   168\n",
      "366  from index\n",
      "168   <--x-->   168\n",
      "SAVING!!!!!\n",
      "168   <--x-->   168\n",
      "SAVING!!!!!\n",
      "168   <--x-->   168\n",
      "SAVING!!!!!\n",
      "168   <--x-->   169\n",
      "369  from index\n",
      "169   <--x-->   169\n",
      "SAVING!!!!!\n",
      "169   <--x-->   169\n",
      "SAVING!!!!!\n",
      "169   <--x-->   169\n",
      "SAVING!!!!!\n",
      "169   <--x-->   170\n",
      "372  from index\n",
      "170   <--x-->   170\n",
      "SAVING!!!!!\n",
      "170   <--x-->   170\n",
      "SAVING!!!!!\n",
      "170   <--x-->   170\n",
      "SAVING!!!!!\n",
      "170   <--x-->   171\n",
      "375  from index\n",
      "171   <--x-->   171\n",
      "SAVING!!!!!\n",
      "171   <--x-->   171\n",
      "SAVING!!!!!\n",
      "171   <--x-->   172\n",
      "377  from index\n",
      "172   <--x-->   172\n",
      "SAVING!!!!!\n",
      "172   <--x-->   172\n",
      "SAVING!!!!!\n",
      "172   <--x-->   173\n",
      "379  from index\n",
      "173   <--x-->   173\n",
      "SAVING!!!!!\n",
      "173   <--x-->   173\n",
      "SAVING!!!!!\n",
      "173   <--x-->   174\n",
      "381  from index\n",
      "174   <--x-->   174\n",
      "SAVING!!!!!\n",
      "174   <--x-->   174\n",
      "SAVING!!!!!\n",
      "174   <--x-->   175\n",
      "383  from index\n",
      "175   <--x-->   175\n",
      "SAVING!!!!!\n",
      "175   <--x-->   175\n",
      "SAVING!!!!!\n",
      "175   <--x-->   176\n",
      "385  from index\n",
      "176   <--x-->   176\n",
      "SAVING!!!!!\n",
      "176   <--x-->   176\n",
      "SAVING!!!!!\n",
      "176   <--x-->   177\n",
      "387  from index\n",
      "177   <--x-->   177\n",
      "SAVING!!!!!\n",
      "177   <--x-->   177\n",
      "SAVING!!!!!\n",
      "177   <--x-->   178\n",
      "389  from index\n",
      "178   <--x-->   178\n",
      "SAVING!!!!!\n",
      "178   <--x-->   178\n",
      "SAVING!!!!!\n",
      "178   <--x-->   179\n",
      "391  from index\n",
      "179   <--x-->   179\n",
      "SAVING!!!!!\n",
      "179   <--x-->   179\n",
      "SAVING!!!!!\n",
      "179   <--x-->   180\n",
      "393  from index\n",
      "180   <--x-->   180\n",
      "SAVING!!!!!\n",
      "180   <--x-->   180\n",
      "SAVING!!!!!\n",
      "180   <--x-->   181\n",
      "395  from index\n",
      "181   <--x-->   181\n",
      "SAVING!!!!!\n",
      "181   <--x-->   181\n",
      "SAVING!!!!!\n",
      "181   <--x-->   182\n",
      "397  from index\n",
      "182   <--x-->   182\n",
      "SAVING!!!!!\n",
      "182   <--x-->   182\n",
      "SAVING!!!!!\n",
      "182   <--x-->   183\n",
      "399  from index\n",
      "183   <--x-->   183\n",
      "SAVING!!!!!\n",
      "183   <--x-->   183\n",
      "SAVING!!!!!\n",
      "183   <--x-->   184\n",
      "401  from index\n",
      "184   <--x-->   184\n",
      "SAVING!!!!!\n",
      "184   <--x-->   184\n",
      "SAVING!!!!!\n",
      "184   <--x-->   185\n",
      "403  from index\n",
      "185   <--x-->   185\n",
      "SAVING!!!!!\n",
      "185   <--x-->   185\n",
      "SAVING!!!!!\n",
      "185   <--x-->   186\n",
      "405  from index\n",
      "186   <--x-->   186\n",
      "SAVING!!!!!\n",
      "186   <--x-->   186\n",
      "SAVING!!!!!\n",
      "186   <--x-->   187\n",
      "407  from index\n",
      "187   <--x-->   187\n",
      "SAVING!!!!!\n",
      "187   <--x-->   187\n",
      "SAVING!!!!!\n",
      "187   <--x-->   188\n",
      "409  from index\n",
      "188   <--x-->   188\n",
      "SAVING!!!!!\n",
      "188   <--x-->   188\n",
      "SAVING!!!!!\n",
      "188   <--x-->   189\n",
      "411  from index\n",
      "189   <--x-->   189\n",
      "SAVING!!!!!\n",
      "189   <--x-->   189\n",
      "SAVING!!!!!\n",
      "189   <--x-->   190\n",
      "413  from index\n",
      "190   <--x-->   190\n",
      "SAVING!!!!!\n",
      "190   <--x-->   190\n",
      "SAVING!!!!!\n",
      "190   <--x-->   191\n",
      "415  from index\n",
      "191   <--x-->   191\n",
      "SAVING!!!!!\n",
      "191   <--x-->   191\n",
      "SAVING!!!!!\n",
      "191   <--x-->   191\n",
      "SAVING!!!!!\n",
      "191   <--x-->   192\n",
      "418  from index\n",
      "192   <--x-->   192\n",
      "SAVING!!!!!\n",
      "192   <--x-->   192\n",
      "SAVING!!!!!\n",
      "192   <--x-->   192\n",
      "SAVING!!!!!\n",
      "192   <--x-->   193\n",
      "421  from index\n",
      "193   <--x-->   193\n",
      "SAVING!!!!!\n",
      "193   <--x-->   193\n",
      "SAVING!!!!!\n",
      "193   <--x-->   193\n",
      "SAVING!!!!!\n",
      "193   <--x-->   194\n",
      "424  from index\n",
      "194   <--x-->   194\n",
      "SAVING!!!!!\n",
      "194   <--x-->   194\n",
      "SAVING!!!!!\n",
      "194   <--x-->   194\n",
      "SAVING!!!!!\n",
      "194   <--x-->   195\n",
      "427  from index\n",
      "195   <--x-->   195\n",
      "SAVING!!!!!\n",
      "195   <--x-->   195\n",
      "SAVING!!!!!\n",
      "195   <--x-->   195\n",
      "SAVING!!!!!\n",
      "195   <--x-->   196\n",
      "430  from index\n",
      "196   <--x-->   196\n",
      "SAVING!!!!!\n",
      "196   <--x-->   196\n",
      "SAVING!!!!!\n",
      "196   <--x-->   196\n",
      "SAVING!!!!!\n",
      "196   <--x-->   197\n",
      "433  from index\n",
      "197   <--x-->   197\n",
      "SAVING!!!!!\n",
      "197   <--x-->   197\n",
      "SAVING!!!!!\n",
      "197   <--x-->   197\n",
      "SAVING!!!!!\n",
      "197   <--x-->   198\n",
      "436  from index\n",
      "198   <--x-->   198\n",
      "SAVING!!!!!\n",
      "198   <--x-->   198\n",
      "SAVING!!!!!\n",
      "198   <--x-->   198\n",
      "SAVING!!!!!\n",
      "198   <--x-->   199\n",
      "439  from index\n",
      "199   <--x-->   199\n",
      "SAVING!!!!!\n",
      "199   <--x-->   199\n",
      "SAVING!!!!!\n",
      "199   <--x-->   199\n",
      "SAVING!!!!!\n",
      "199   <--x-->   200\n",
      "442  from index\n",
      "200   <--x-->   200\n",
      "SAVING!!!!!\n",
      "200   <--x-->   200\n",
      "SAVING!!!!!\n",
      "200   <--x-->   200\n",
      "SAVING!!!!!\n",
      "200   <--x-->   201\n",
      "445  from index\n",
      "201   <--x-->   201\n",
      "SAVING!!!!!\n",
      "201   <--x-->   201\n",
      "SAVING!!!!!\n",
      "201   <--x-->   201\n",
      "SAVING!!!!!\n",
      "201   <--x-->   202\n",
      "448  from index\n",
      "202   <--x-->   202\n",
      "SAVING!!!!!\n",
      "202   <--x-->   202\n",
      "SAVING!!!!!\n",
      "202   <--x-->   202\n",
      "SAVING!!!!!\n",
      "202   <--x-->   203\n",
      "451  from index\n",
      "203   <--x-->   203\n",
      "SAVING!!!!!\n",
      "203   <--x-->   203\n",
      "SAVING!!!!!\n",
      "203   <--x-->   203\n",
      "SAVING!!!!!\n",
      "203   <--x-->   204\n",
      "454  from index\n",
      "204   <--x-->   204\n",
      "SAVING!!!!!\n",
      "204   <--x-->   204\n",
      "SAVING!!!!!\n",
      "204   <--x-->   204\n",
      "SAVING!!!!!\n",
      "204   <--x-->   205\n",
      "457  from index\n",
      "205   <--x-->   205\n",
      "SAVING!!!!!\n",
      "205   <--x-->   205\n",
      "SAVING!!!!!\n",
      "205   <--x-->   205\n",
      "SAVING!!!!!\n",
      "205   <--x-->   206\n",
      "460  from index\n",
      "206   <--x-->   206\n",
      "SAVING!!!!!\n",
      "206   <--x-->   206\n",
      "SAVING!!!!!\n",
      "206   <--x-->   206\n",
      "SAVING!!!!!\n",
      "206   <--x-->   207\n",
      "463  from index\n",
      "207   <--x-->   207\n",
      "SAVING!!!!!\n",
      "207   <--x-->   207\n",
      "SAVING!!!!!\n",
      "207   <--x-->   207\n",
      "SAVING!!!!!\n",
      "207   <--x-->   208\n",
      "466  from index\n",
      "208   <--x-->   208\n",
      "SAVING!!!!!\n",
      "208   <--x-->   208\n",
      "SAVING!!!!!\n",
      "208   <--x-->   208\n",
      "SAVING!!!!!\n",
      "208   <--x-->   209\n",
      "469  from index\n",
      "209   <--x-->   209\n",
      "SAVING!!!!!\n",
      "209   <--x-->   209\n",
      "SAVING!!!!!\n",
      "209   <--x-->   209\n",
      "SAVING!!!!!\n",
      "209   <--x-->   210\n",
      "472  from index\n",
      "210   <--x-->   210\n",
      "SAVING!!!!!\n",
      "210   <--x-->   210\n",
      "SAVING!!!!!\n",
      "210   <--x-->   210\n",
      "SAVING!!!!!\n",
      "210   <--x-->   211\n",
      "475  from index\n",
      "211   <--x-->   211\n",
      "SAVING!!!!!\n",
      "211   <--x-->   211\n",
      "SAVING!!!!!\n",
      "211   <--x-->   211\n",
      "SAVING!!!!!\n",
      "211   <--x-->   212\n",
      "478  from index\n",
      "212   <--x-->   212\n",
      "SAVING!!!!!\n",
      "212   <--x-->   212\n",
      "SAVING!!!!!\n",
      "212   <--x-->   212\n",
      "SAVING!!!!!\n",
      "212   <--x-->   213\n",
      "481  from index\n",
      "213   <--x-->   213\n",
      "SAVING!!!!!\n",
      "213   <--x-->   213\n",
      "SAVING!!!!!\n",
      "213   <--x-->   213\n",
      "SAVING!!!!!\n",
      "213   <--x-->   214\n",
      "484  from index\n",
      "214   <--x-->   214\n",
      "SAVING!!!!!\n",
      "214   <--x-->   214\n",
      "SAVING!!!!!\n",
      "214   <--x-->   214\n",
      "SAVING!!!!!\n",
      "214   <--x-->   215\n",
      "487  from index\n",
      "215   <--x-->   215\n",
      "SAVING!!!!!\n",
      "215   <--x-->   215\n",
      "SAVING!!!!!\n",
      "215   <--x-->   215\n",
      "SAVING!!!!!\n",
      "215   <--x-->   216\n",
      "490  from index\n",
      "216   <--x-->   216\n",
      "SAVING!!!!!\n",
      "216   <--x-->   216\n",
      "SAVING!!!!!\n",
      "216   <--x-->   216\n",
      "SAVING!!!!!\n",
      "216   <--x-->   217\n",
      "493  from index\n",
      "217   <--x-->   217\n",
      "SAVING!!!!!\n",
      "217   <--x-->   217\n",
      "SAVING!!!!!\n",
      "217   <--x-->   217\n",
      "SAVING!!!!!\n",
      "217   <--x-->   218\n",
      "496  from index\n",
      "218   <--x-->   218\n",
      "SAVING!!!!!\n",
      "218   <--x-->   218\n",
      "SAVING!!!!!\n",
      "218   <--x-->   218\n",
      "SAVING!!!!!\n",
      "218   <--x-->   219\n",
      "499  from index\n",
      "219   <--x-->   219\n",
      "SAVING!!!!!\n",
      "219   <--x-->   219\n",
      "SAVING!!!!!\n",
      "219   <--x-->   219\n",
      "SAVING!!!!!\n",
      "219   <--x-->   220\n",
      "502  from index\n",
      "220   <--x-->   220\n",
      "SAVING!!!!!\n",
      "220   <--x-->   220\n",
      "SAVING!!!!!\n",
      "220   <--x-->   220\n",
      "SAVING!!!!!\n",
      "220   <--x-->   221\n",
      "505  from index\n",
      "221   <--x-->   221\n",
      "SAVING!!!!!\n",
      "221   <--x-->   221\n",
      "SAVING!!!!!\n",
      "221   <--x-->   221\n",
      "SAVING!!!!!\n",
      "221   <--x-->   222\n",
      "508  from index\n",
      "222   <--x-->   222\n",
      "SAVING!!!!!\n",
      "222   <--x-->   222\n",
      "SAVING!!!!!\n",
      "222   <--x-->   222\n",
      "SAVING!!!!!\n",
      "222   <--x-->   223\n",
      "511  from index\n",
      "223   <--x-->   223\n",
      "SAVING!!!!!\n",
      "223   <--x-->   223\n",
      "SAVING!!!!!\n",
      "223   <--x-->   223\n",
      "SAVING!!!!!\n",
      "223   <--x-->   224\n",
      "514  from index\n",
      "224   <--x-->   224\n",
      "SAVING!!!!!\n",
      "224   <--x-->   224\n",
      "SAVING!!!!!\n",
      "224   <--x-->   224\n",
      "SAVING!!!!!\n",
      "224   <--x-->   225\n",
      "517  from index\n",
      "225   <--x-->   225\n",
      "SAVING!!!!!\n",
      "225   <--x-->   225\n",
      "SAVING!!!!!\n",
      "225   <--x-->   225\n",
      "SAVING!!!!!\n",
      "225   <--x-->   226\n",
      "520  from index\n",
      "226   <--x-->   226\n",
      "SAVING!!!!!\n",
      "226   <--x-->   226\n",
      "SAVING!!!!!\n",
      "226   <--x-->   226\n",
      "SAVING!!!!!\n",
      "226   <--x-->   227\n",
      "523  from index\n",
      "227   <--x-->   227\n",
      "SAVING!!!!!\n",
      "227   <--x-->   227\n",
      "SAVING!!!!!\n",
      "227   <--x-->   228\n",
      "525  from index\n",
      "228   <--x-->   228\n",
      "SAVING!!!!!\n",
      "228   <--x-->   228\n",
      "SAVING!!!!!\n",
      "228   <--x-->   229\n",
      "527  from index\n",
      "229   <--x-->   229\n",
      "SAVING!!!!!\n",
      "229   <--x-->   229\n",
      "SAVING!!!!!\n",
      "229   <--x-->   230\n",
      "529  from index\n",
      "230   <--x-->   230\n",
      "SAVING!!!!!\n",
      "230   <--x-->   230\n",
      "SAVING!!!!!\n",
      "230   <--x-->   231\n",
      "531  from index\n",
      "231   <--x-->   231\n",
      "SAVING!!!!!\n",
      "231   <--x-->   231\n",
      "SAVING!!!!!\n",
      "231   <--x-->   232\n",
      "533  from index\n",
      "232   <--x-->   232\n",
      "SAVING!!!!!\n",
      "232   <--x-->   232\n",
      "SAVING!!!!!\n",
      "232   <--x-->   233\n",
      "535  from index\n",
      "233   <--x-->   233\n",
      "SAVING!!!!!\n",
      "233   <--x-->   233\n",
      "SAVING!!!!!\n",
      "233   <--x-->   234\n",
      "537  from index\n",
      "234   <--x-->   234\n",
      "SAVING!!!!!\n",
      "234   <--x-->   234\n",
      "SAVING!!!!!\n",
      "234   <--x-->   235\n",
      "539  from index\n",
      "235   <--x-->   235\n",
      "SAVING!!!!!\n",
      "235   <--x-->   235\n",
      "SAVING!!!!!\n",
      "235   <--x-->   236\n",
      "541  from index\n",
      "236   <--x-->   236\n",
      "SAVING!!!!!\n",
      "236   <--x-->   236\n",
      "SAVING!!!!!\n",
      "236   <--x-->   237\n",
      "543  from index\n",
      "237   <--x-->   237\n",
      "SAVING!!!!!\n",
      "237   <--x-->   237\n",
      "SAVING!!!!!\n",
      "237   <--x-->   238\n",
      "545  from index\n",
      "238   <--x-->   238\n",
      "SAVING!!!!!\n",
      "238   <--x-->   238\n",
      "SAVING!!!!!\n",
      "238   <--x-->   239\n",
      "547  from index\n",
      "239   <--x-->   239\n",
      "SAVING!!!!!\n",
      "239   <--x-->   239\n",
      "SAVING!!!!!\n",
      "239   <--x-->   240\n",
      "549  from index\n",
      "240   <--x-->   240\n",
      "SAVING!!!!!\n",
      "240   <--x-->   240\n",
      "SAVING!!!!!\n",
      "240   <--x-->   241\n",
      "551  from index\n",
      "241   <--x-->   241\n",
      "SAVING!!!!!\n",
      "241   <--x-->   241\n",
      "SAVING!!!!!\n",
      "241   <--x-->   242\n",
      "553  from index\n",
      "242   <--x-->   242\n",
      "SAVING!!!!!\n",
      "242   <--x-->   242\n",
      "SAVING!!!!!\n",
      "242   <--x-->   243\n",
      "555  from index\n",
      "243   <--x-->   243\n",
      "SAVING!!!!!\n",
      "243   <--x-->   243\n",
      "SAVING!!!!!\n",
      "243   <--x-->   244\n",
      "557  from index\n",
      "244   <--x-->   244\n",
      "SAVING!!!!!\n",
      "244   <--x-->   244\n",
      "SAVING!!!!!\n",
      "244   <--x-->   245\n",
      "559  from index\n",
      "245   <--x-->   245\n",
      "SAVING!!!!!\n",
      "245   <--x-->   245\n",
      "SAVING!!!!!\n",
      "245   <--x-->   246\n",
      "561  from index\n",
      "246   <--x-->   246\n",
      "SAVING!!!!!\n",
      "246   <--x-->   246\n",
      "SAVING!!!!!\n",
      "246   <--x-->   247\n",
      "563  from index\n",
      "247   <--x-->   247\n",
      "SAVING!!!!!\n",
      "247   <--x-->   247\n",
      "SAVING!!!!!\n",
      "247   <--x-->   248\n",
      "565  from index\n",
      "248   <--x-->   248\n",
      "SAVING!!!!!\n",
      "248   <--x-->   248\n",
      "SAVING!!!!!\n",
      "248   <--x-->   249\n",
      "567  from index\n",
      "249   <--x-->   249\n",
      "SAVING!!!!!\n",
      "249   <--x-->   249\n",
      "SAVING!!!!!\n",
      "249   <--x-->   250\n",
      "569  from index\n",
      "250   <--x-->   250\n",
      "SAVING!!!!!\n",
      "250   <--x-->   250\n",
      "SAVING!!!!!\n",
      "250   <--x-->   251\n",
      "571  from index\n",
      "251   <--x-->   251\n",
      "SAVING!!!!!\n",
      "251   <--x-->   251\n",
      "SAVING!!!!!\n",
      "251   <--x-->   252\n",
      "573  from index\n",
      "252   <--x-->   252\n",
      "SAVING!!!!!\n",
      "252   <--x-->   252\n",
      "SAVING!!!!!\n",
      "252   <--x-->   253\n",
      "575  from index\n",
      "253   <--x-->   253\n",
      "SAVING!!!!!\n",
      "253   <--x-->   253\n",
      "SAVING!!!!!\n",
      "253   <--x-->   254\n",
      "577  from index\n",
      "254   <--x-->   254\n",
      "SAVING!!!!!\n",
      "254   <--x-->   254\n",
      "SAVING!!!!!\n",
      "254   <--x-->   255\n",
      "579  from index\n",
      "255   <--x-->   255\n",
      "SAVING!!!!!\n",
      "255   <--x-->   255\n",
      "SAVING!!!!!\n",
      "255   <--x-->   256\n",
      "581  from index\n",
      "256   <--x-->   256\n",
      "SAVING!!!!!\n",
      "256   <--x-->   256\n",
      "SAVING!!!!!\n",
      "256   <--x-->   257\n",
      "583  from index\n",
      "257   <--x-->   257\n",
      "SAVING!!!!!\n",
      "257   <--x-->   257\n",
      "SAVING!!!!!\n",
      "257   <--x-->   257\n",
      "SAVING!!!!!\n",
      "257   <--x-->   258\n",
      "586  from index\n",
      "258   <--x-->   258\n",
      "SAVING!!!!!\n",
      "258   <--x-->   258\n",
      "SAVING!!!!!\n",
      "258   <--x-->   258\n",
      "SAVING!!!!!\n",
      "258   <--x-->   259\n",
      "589  from index\n",
      "259   <--x-->   259\n",
      "SAVING!!!!!\n",
      "259   <--x-->   259\n",
      "SAVING!!!!!\n",
      "259   <--x-->   259\n",
      "SAVING!!!!!\n",
      "259   <--x-->   260\n",
      "592  from index\n",
      "260   <--x-->   260\n",
      "SAVING!!!!!\n",
      "260   <--x-->   260\n",
      "SAVING!!!!!\n",
      "260   <--x-->   260\n",
      "SAVING!!!!!\n",
      "260   <--x-->   261\n",
      "595  from index\n",
      "261   <--x-->   261\n",
      "SAVING!!!!!\n",
      "261   <--x-->   261\n",
      "SAVING!!!!!\n",
      "261   <--x-->   261\n",
      "SAVING!!!!!\n",
      "261   <--x-->   262\n",
      "598  from index\n",
      "262   <--x-->   262\n",
      "SAVING!!!!!\n",
      "262   <--x-->   262\n",
      "SAVING!!!!!\n",
      "262   <--x-->   262\n",
      "SAVING!!!!!\n",
      "262   <--x-->   263\n",
      "601  from index\n",
      "263   <--x-->   263\n",
      "SAVING!!!!!\n",
      "263   <--x-->   263\n",
      "SAVING!!!!!\n",
      "263   <--x-->   264\n",
      "603  from index\n",
      "264   <--x-->   264\n",
      "SAVING!!!!!\n",
      "264   <--x-->   264\n",
      "SAVING!!!!!\n",
      "264   <--x-->   265\n",
      "605  from index\n",
      "265   <--x-->   265\n",
      "SAVING!!!!!\n",
      "265   <--x-->   265\n",
      "SAVING!!!!!\n",
      "265   <--x-->   266\n",
      "607  from index\n",
      "266   <--x-->   266\n",
      "SAVING!!!!!\n",
      "266   <--x-->   266\n",
      "SAVING!!!!!\n",
      "266   <--x-->   267\n",
      "609  from index\n",
      "267   <--x-->   267\n",
      "SAVING!!!!!\n",
      "267   <--x-->   267\n",
      "SAVING!!!!!\n",
      "267   <--x-->   268\n",
      "611  from index\n",
      "268   <--x-->   268\n",
      "SAVING!!!!!\n",
      "268   <--x-->   268\n",
      "SAVING!!!!!\n",
      "268   <--x-->   269\n",
      "613  from index\n",
      "269   <--x-->   269\n",
      "SAVING!!!!!\n",
      "269   <--x-->   269\n",
      "SAVING!!!!!\n",
      "269   <--x-->   270\n",
      "615  from index\n",
      "270   <--x-->   270\n",
      "SAVING!!!!!\n",
      "270   <--x-->   270\n",
      "SAVING!!!!!\n",
      "270   <--x-->   271\n",
      "617  from index\n",
      "271   <--x-->   271\n",
      "SAVING!!!!!\n",
      "271   <--x-->   271\n",
      "SAVING!!!!!\n",
      "271   <--x-->   272\n",
      "619  from index\n",
      "272   <--x-->   272\n",
      "SAVING!!!!!\n",
      "272   <--x-->   272\n",
      "SAVING!!!!!\n",
      "272   <--x-->   273\n",
      "621  from index\n",
      "273   <--x-->   273\n",
      "SAVING!!!!!\n",
      "273   <--x-->   273\n",
      "SAVING!!!!!\n",
      "273   <--x-->   274\n",
      "623  from index\n",
      "274   <--x-->   274\n",
      "SAVING!!!!!\n",
      "274   <--x-->   274\n",
      "SAVING!!!!!\n",
      "274   <--x-->   275\n",
      "625  from index\n",
      "275   <--x-->   275\n",
      "SAVING!!!!!\n",
      "275   <--x-->   275\n",
      "SAVING!!!!!\n",
      "275   <--x-->   276\n",
      "627  from index\n",
      "276   <--x-->   276\n",
      "SAVING!!!!!\n",
      "276   <--x-->   276\n",
      "SAVING!!!!!\n",
      "276   <--x-->   277\n",
      "629  from index\n",
      "277   <--x-->   277\n",
      "SAVING!!!!!\n",
      "277   <--x-->   277\n",
      "SAVING!!!!!\n",
      "277   <--x-->   278\n",
      "631  from index\n",
      "278   <--x-->   278\n",
      "SAVING!!!!!\n",
      "278   <--x-->   278\n",
      "SAVING!!!!!\n",
      "278   <--x-->   279\n",
      "633  from index\n",
      "279   <--x-->   279\n",
      "SAVING!!!!!\n",
      "279   <--x-->   279\n",
      "SAVING!!!!!\n",
      "279   <--x-->   280\n",
      "635  from index\n",
      "280   <--x-->   280\n",
      "SAVING!!!!!\n",
      "280   <--x-->   280\n",
      "SAVING!!!!!\n",
      "280   <--x-->   281\n",
      "637  from index\n",
      "281   <--x-->   281\n",
      "SAVING!!!!!\n",
      "281   <--x-->   281\n",
      "SAVING!!!!!\n",
      "281   <--x-->   282\n",
      "639  from index\n",
      "282   <--x-->   282\n",
      "SAVING!!!!!\n",
      "282   <--x-->   282\n",
      "SAVING!!!!!\n",
      "282   <--x-->   283\n",
      "641  from index\n",
      "283   <--x-->   283\n",
      "SAVING!!!!!\n",
      "283   <--x-->   283\n",
      "SAVING!!!!!\n",
      "283   <--x-->   284\n",
      "643  from index\n",
      "284   <--x-->   284\n",
      "SAVING!!!!!\n",
      "284   <--x-->   284\n",
      "SAVING!!!!!\n",
      "284   <--x-->   285\n",
      "645  from index\n",
      "285   <--x-->   285\n",
      "SAVING!!!!!\n",
      "285   <--x-->   285\n",
      "SAVING!!!!!\n",
      "285   <--x-->   285\n",
      "SAVING!!!!!\n",
      "285   <--x-->   286\n",
      "648  from index\n",
      "286   <--x-->   286\n",
      "SAVING!!!!!\n",
      "286   <--x-->   286\n",
      "SAVING!!!!!\n",
      "286   <--x-->   286\n",
      "SAVING!!!!!\n",
      "286   <--x-->   287\n",
      "651  from index\n",
      "287   <--x-->   287\n",
      "SAVING!!!!!\n",
      "287   <--x-->   287\n",
      "SAVING!!!!!\n",
      "287   <--x-->   287\n",
      "SAVING!!!!!\n",
      "287   <--x-->   288\n",
      "654  from index\n",
      "288   <--x-->   288\n",
      "SAVING!!!!!\n",
      "288   <--x-->   288\n",
      "SAVING!!!!!\n",
      "288   <--x-->   288\n",
      "SAVING!!!!!\n",
      "288   <--x-->   289\n",
      "657  from index\n",
      "289   <--x-->   289\n",
      "SAVING!!!!!\n",
      "289   <--x-->   289\n",
      "SAVING!!!!!\n",
      "289   <--x-->   289\n",
      "SAVING!!!!!\n",
      "289   <--x-->   290\n",
      "660  from index\n",
      "290   <--x-->   290\n",
      "SAVING!!!!!\n",
      "290   <--x-->   290\n",
      "SAVING!!!!!\n",
      "290   <--x-->   290\n",
      "SAVING!!!!!\n",
      "290   <--x-->   291\n",
      "663  from index\n",
      "291   <--x-->   291\n",
      "SAVING!!!!!\n",
      "291   <--x-->   291\n",
      "SAVING!!!!!\n",
      "291   <--x-->   291\n",
      "SAVING!!!!!\n",
      "291   <--x-->   292\n",
      "666  from index\n",
      "292   <--x-->   292\n",
      "SAVING!!!!!\n",
      "292   <--x-->   292\n",
      "SAVING!!!!!\n",
      "292   <--x-->   292\n",
      "SAVING!!!!!\n",
      "292   <--x-->   293\n",
      "669  from index\n",
      "293   <--x-->   293\n",
      "SAVING!!!!!\n",
      "293   <--x-->   293\n",
      "SAVING!!!!!\n",
      "293   <--x-->   293\n",
      "SAVING!!!!!\n",
      "293   <--x-->   294\n",
      "672  from index\n",
      "294   <--x-->   294\n",
      "SAVING!!!!!\n",
      "294   <--x-->   294\n",
      "SAVING!!!!!\n",
      "294   <--x-->   294\n",
      "SAVING!!!!!\n",
      "294   <--x-->   295\n",
      "675  from index\n",
      "295   <--x-->   295\n",
      "SAVING!!!!!\n",
      "295   <--x-->   295\n",
      "SAVING!!!!!\n",
      "295   <--x-->   295\n",
      "SAVING!!!!!\n",
      "295   <--x-->   296\n",
      "678  from index\n",
      "296   <--x-->   296\n",
      "SAVING!!!!!\n",
      "296   <--x-->   296\n",
      "SAVING!!!!!\n",
      "296   <--x-->   296\n",
      "SAVING!!!!!\n",
      "296   <--x-->   297\n",
      "681  from index\n",
      "297   <--x-->   297\n",
      "SAVING!!!!!\n",
      "297   <--x-->   297\n",
      "SAVING!!!!!\n",
      "297   <--x-->   297\n",
      "SAVING!!!!!\n",
      "297   <--x-->   298\n",
      "684  from index\n",
      "298   <--x-->   298\n",
      "SAVING!!!!!\n",
      "298   <--x-->   298\n",
      "SAVING!!!!!\n",
      "298   <--x-->   299\n",
      "686  from index\n",
      "299   <--x-->   299\n",
      "SAVING!!!!!\n",
      "299   <--x-->   299\n",
      "SAVING!!!!!\n",
      "299   <--x-->   300\n",
      "688  from index\n",
      "300   <--x-->   300\n",
      "SAVING!!!!!\n",
      "300   <--x-->   300\n",
      "SAVING!!!!!\n",
      "300   <--x-->   301\n",
      "690  from index\n",
      "301   <--x-->   301\n",
      "SAVING!!!!!\n",
      "301   <--x-->   301\n",
      "SAVING!!!!!\n",
      "301   <--x-->   302\n",
      "692  from index\n",
      "302   <--x-->   302\n",
      "SAVING!!!!!\n",
      "302   <--x-->   302\n",
      "SAVING!!!!!\n",
      "302   <--x-->   303\n",
      "694  from index\n",
      "303   <--x-->   303\n",
      "SAVING!!!!!\n",
      "303   <--x-->   303\n",
      "SAVING!!!!!\n",
      "303   <--x-->   304\n",
      "696  from index\n",
      "304   <--x-->   304\n",
      "SAVING!!!!!\n",
      "304   <--x-->   304\n",
      "SAVING!!!!!\n",
      "304   <--x-->   305\n",
      "698  from index\n",
      "305   <--x-->   305\n",
      "SAVING!!!!!\n",
      "305   <--x-->   305\n",
      "SAVING!!!!!\n",
      "305   <--x-->   306\n",
      "700  from index\n",
      "306   <--x-->   306\n",
      "SAVING!!!!!\n",
      "306   <--x-->   306\n",
      "SAVING!!!!!\n",
      "306   <--x-->   307\n",
      "702  from index\n",
      "307   <--x-->   307\n",
      "SAVING!!!!!\n",
      "307   <--x-->   307\n",
      "SAVING!!!!!\n",
      "307   <--x-->   308\n",
      "704  from index\n",
      "308   <--x-->   308\n",
      "SAVING!!!!!\n",
      "308   <--x-->   308\n",
      "SAVING!!!!!\n",
      "308   <--x-->   309\n",
      "706  from index\n",
      "309   <--x-->   309\n",
      "SAVING!!!!!\n",
      "309   <--x-->   309\n",
      "SAVING!!!!!\n",
      "309   <--x-->   310\n",
      "708  from index\n",
      "310   <--x-->   310\n",
      "SAVING!!!!!\n",
      "310   <--x-->   310\n",
      "SAVING!!!!!\n",
      "310   <--x-->   311\n",
      "710  from index\n",
      "311   <--x-->   311\n",
      "SAVING!!!!!\n",
      "311   <--x-->   311\n",
      "SAVING!!!!!\n",
      "311   <--x-->   312\n",
      "712  from index\n",
      "312   <--x-->   312\n",
      "SAVING!!!!!\n",
      "312   <--x-->   312\n",
      "SAVING!!!!!\n",
      "312   <--x-->   313\n",
      "714  from index\n",
      "313   <--x-->   313\n",
      "SAVING!!!!!\n",
      "313   <--x-->   313\n",
      "SAVING!!!!!\n",
      "313   <--x-->   314\n",
      "716  from index\n",
      "314   <--x-->   314\n",
      "SAVING!!!!!\n",
      "314   <--x-->   314\n",
      "SAVING!!!!!\n",
      "314   <--x-->   315\n",
      "718  from index\n",
      "315   <--x-->   315\n",
      "SAVING!!!!!\n",
      "315   <--x-->   315\n",
      "SAVING!!!!!\n",
      "315   <--x-->   316\n",
      "720  from index\n",
      "316   <--x-->   316\n",
      "SAVING!!!!!\n",
      "316   <--x-->   316\n",
      "SAVING!!!!!\n",
      "316   <--x-->   317\n",
      "722  from index\n",
      "317   <--x-->   317\n",
      "SAVING!!!!!\n",
      "317   <--x-->   317\n",
      "SAVING!!!!!\n",
      "317   <--x-->   317\n",
      "SAVING!!!!!\n",
      "317   <--x-->   318\n",
      "725  from index\n",
      "318   <--x-->   318\n",
      "SAVING!!!!!\n",
      "318   <--x-->   318\n",
      "SAVING!!!!!\n",
      "318   <--x-->   318\n",
      "SAVING!!!!!\n",
      "318   <--x-->   319\n",
      "728  from index\n",
      "319   <--x-->   319\n",
      "SAVING!!!!!\n",
      "319   <--x-->   319\n",
      "SAVING!!!!!\n",
      "319   <--x-->   319\n",
      "SAVING!!!!!\n",
      "319   <--x-->   320\n",
      "731  from index\n",
      "320   <--x-->   320\n",
      "SAVING!!!!!\n",
      "320   <--x-->   320\n",
      "SAVING!!!!!\n",
      "320   <--x-->   320\n",
      "SAVING!!!!!\n",
      "320   <--x-->   321\n",
      "734  from index\n",
      "321   <--x-->   321\n",
      "SAVING!!!!!\n",
      "321   <--x-->   321\n",
      "SAVING!!!!!\n",
      "321   <--x-->   321\n",
      "SAVING!!!!!\n",
      "321   <--x-->   322\n",
      "737  from index\n",
      "322   <--x-->   322\n",
      "SAVING!!!!!\n",
      "322   <--x-->   322\n",
      "SAVING!!!!!\n",
      "322   <--x-->   322\n",
      "SAVING!!!!!\n",
      "322   <--x-->   323\n",
      "740  from index\n",
      "323   <--x-->   323\n",
      "SAVING!!!!!\n",
      "323   <--x-->   323\n",
      "SAVING!!!!!\n",
      "323   <--x-->   323\n",
      "SAVING!!!!!\n",
      "323   <--x-->   324\n",
      "743  from index\n",
      "324   <--x-->   324\n",
      "SAVING!!!!!\n",
      "324   <--x-->   324\n",
      "SAVING!!!!!\n",
      "324   <--x-->   324\n",
      "SAVING!!!!!\n",
      "324   <--x-->   325\n",
      "746  from index\n",
      "325   <--x-->   325\n",
      "SAVING!!!!!\n",
      "325   <--x-->   325\n",
      "SAVING!!!!!\n",
      "325   <--x-->   325\n",
      "SAVING!!!!!\n",
      "325   <--x-->   326\n",
      "749  from index\n",
      "326   <--x-->   326\n",
      "SAVING!!!!!\n",
      "326   <--x-->   326\n",
      "SAVING!!!!!\n",
      "326   <--x-->   326\n",
      "SAVING!!!!!\n",
      "326   <--x-->   327\n",
      "752  from index\n",
      "327   <--x-->   327\n",
      "SAVING!!!!!\n",
      "327   <--x-->   327\n",
      "SAVING!!!!!\n",
      "327   <--x-->   327\n",
      "SAVING!!!!!\n",
      "327   <--x-->   328\n",
      "755  from index\n",
      "328   <--x-->   328\n",
      "SAVING!!!!!\n",
      "328   <--x-->   328\n",
      "SAVING!!!!!\n",
      "328   <--x-->   328\n",
      "SAVING!!!!!\n",
      "328   <--x-->   329\n",
      "758  from index\n",
      "329   <--x-->   329\n",
      "SAVING!!!!!\n",
      "329   <--x-->   329\n",
      "SAVING!!!!!\n",
      "329   <--x-->   329\n",
      "SAVING!!!!!\n",
      "329   <--x-->   330\n",
      "761  from index\n",
      "330   <--x-->   330\n",
      "SAVING!!!!!\n",
      "330   <--x-->   330\n",
      "SAVING!!!!!\n",
      "330   <--x-->   330\n",
      "SAVING!!!!!\n",
      "330   <--x-->   331\n",
      "764  from index\n",
      "331   <--x-->   331\n",
      "SAVING!!!!!\n",
      "331   <--x-->   331\n",
      "SAVING!!!!!\n",
      "331   <--x-->   331\n",
      "SAVING!!!!!\n",
      "331   <--x-->   332\n",
      "767  from index\n",
      "332   <--x-->   332\n",
      "SAVING!!!!!\n",
      "332   <--x-->   332\n",
      "SAVING!!!!!\n",
      "332   <--x-->   332\n",
      "SAVING!!!!!\n",
      "332   <--x-->   333\n",
      "770  from index\n",
      "333   <--x-->   333\n",
      "SAVING!!!!!\n",
      "333   <--x-->   333\n",
      "SAVING!!!!!\n",
      "333   <--x-->   333\n",
      "SAVING!!!!!\n",
      "333   <--x-->   334\n",
      "773  from index\n",
      "334   <--x-->   334\n",
      "SAVING!!!!!\n",
      "334   <--x-->   334\n",
      "SAVING!!!!!\n",
      "334   <--x-->   334\n",
      "SAVING!!!!!\n",
      "334   <--x-->   335\n",
      "776  from index\n",
      "335   <--x-->   335\n",
      "SAVING!!!!!\n",
      "335   <--x-->   335\n",
      "SAVING!!!!!\n",
      "335   <--x-->   335\n",
      "SAVING!!!!!\n",
      "335   <--x-->   336\n",
      "779  from index\n",
      "336   <--x-->   336\n",
      "SAVING!!!!!\n",
      "336   <--x-->   336\n",
      "SAVING!!!!!\n",
      "336   <--x-->   336\n",
      "SAVING!!!!!\n",
      "336   <--x-->   337\n",
      "782  from index\n",
      "337   <--x-->   337\n",
      "SAVING!!!!!\n",
      "337   <--x-->   337\n",
      "SAVING!!!!!\n",
      "337   <--x-->   337\n",
      "SAVING!!!!!\n",
      "337   <--x-->   338\n",
      "785  from index\n",
      "338   <--x-->   338\n",
      "SAVING!!!!!\n",
      "338   <--x-->   338\n",
      "SAVING!!!!!\n",
      "338   <--x-->   338\n",
      "SAVING!!!!!\n",
      "338   <--x-->   339\n",
      "788  from index\n",
      "339   <--x-->   339\n",
      "SAVING!!!!!\n",
      "339   <--x-->   339\n",
      "SAVING!!!!!\n",
      "339   <--x-->   339\n",
      "SAVING!!!!!\n",
      "339   <--x-->   340\n",
      "791  from index\n",
      "340   <--x-->   340\n",
      "SAVING!!!!!\n",
      "340   <--x-->   340\n",
      "SAVING!!!!!\n",
      "340   <--x-->   340\n",
      "SAVING!!!!!\n",
      "340   <--x-->   341\n",
      "794  from index\n",
      "341   <--x-->   341\n",
      "SAVING!!!!!\n",
      "341   <--x-->   341\n",
      "SAVING!!!!!\n",
      "341   <--x-->   341\n",
      "SAVING!!!!!\n",
      "341   <--x-->   342\n",
      "797  from index\n",
      "342   <--x-->   342\n",
      "SAVING!!!!!\n",
      "342   <--x-->   342\n",
      "SAVING!!!!!\n",
      "342   <--x-->   342\n",
      "SAVING!!!!!\n",
      "342   <--x-->   343\n",
      "800  from index\n",
      "343   <--x-->   343\n",
      "SAVING!!!!!\n",
      "343   <--x-->   343\n",
      "SAVING!!!!!\n",
      "343   <--x-->   343\n",
      "SAVING!!!!!\n",
      "343   <--x-->   344\n",
      "803  from index\n",
      "344   <--x-->   344\n",
      "SAVING!!!!!\n",
      "344   <--x-->   344\n",
      "SAVING!!!!!\n",
      "344   <--x-->   344\n",
      "SAVING!!!!!\n",
      "344   <--x-->   345\n",
      "806  from index\n",
      "345   <--x-->   345\n",
      "SAVING!!!!!\n",
      "345   <--x-->   345\n",
      "SAVING!!!!!\n",
      "345   <--x-->   345\n",
      "SAVING!!!!!\n",
      "345   <--x-->   346\n",
      "809  from index\n",
      "346   <--x-->   346\n",
      "SAVING!!!!!\n",
      "346   <--x-->   346\n",
      "SAVING!!!!!\n",
      "346   <--x-->   346\n",
      "SAVING!!!!!\n",
      "346   <--x-->   347\n",
      "812  from index\n",
      "347   <--x-->   347\n",
      "SAVING!!!!!\n",
      "347   <--x-->   347\n",
      "SAVING!!!!!\n",
      "347   <--x-->   347\n",
      "SAVING!!!!!\n",
      "347   <--x-->   348\n",
      "815  from index\n",
      "348   <--x-->   348\n",
      "SAVING!!!!!\n",
      "348   <--x-->   348\n",
      "SAVING!!!!!\n",
      "348   <--x-->   348\n",
      "SAVING!!!!!\n",
      "348   <--x-->   348\n",
      "SAVING!!!!!\n",
      "348   <--x-->   349\n",
      "819  from index\n",
      "349   <--x-->   349\n",
      "SAVING!!!!!\n",
      "349   <--x-->   349\n",
      "SAVING!!!!!\n",
      "349   <--x-->   349\n",
      "SAVING!!!!!\n",
      "349   <--x-->   349\n",
      "SAVING!!!!!\n",
      "349   <--x-->   350\n",
      "823  from index\n",
      "350   <--x-->   350\n",
      "SAVING!!!!!\n",
      "350   <--x-->   350\n",
      "SAVING!!!!!\n",
      "350   <--x-->   350\n",
      "SAVING!!!!!\n",
      "350   <--x-->   350\n",
      "SAVING!!!!!\n",
      "350   <--x-->   351\n",
      "827  from index\n",
      "351   <--x-->   351\n",
      "SAVING!!!!!\n",
      "351   <--x-->   351\n",
      "SAVING!!!!!\n",
      "351   <--x-->   351\n",
      "SAVING!!!!!\n",
      "351   <--x-->   351\n",
      "SAVING!!!!!\n",
      "351   <--x-->   352\n",
      "831  from index\n",
      "352   <--x-->   352\n",
      "SAVING!!!!!\n",
      "352   <--x-->   352\n",
      "SAVING!!!!!\n",
      "352   <--x-->   352\n",
      "SAVING!!!!!\n",
      "352   <--x-->   352\n",
      "SAVING!!!!!\n",
      "352   <--x-->   353\n",
      "835  from index\n",
      "353   <--x-->   353\n",
      "SAVING!!!!!\n",
      "353   <--x-->   353\n",
      "SAVING!!!!!\n",
      "353   <--x-->   353\n",
      "SAVING!!!!!\n",
      "353   <--x-->   353\n",
      "SAVING!!!!!\n",
      "353   <--x-->   354\n",
      "839  from index\n",
      "354   <--x-->   354\n",
      "SAVING!!!!!\n",
      "354   <--x-->   354\n",
      "SAVING!!!!!\n",
      "354   <--x-->   354\n",
      "SAVING!!!!!\n",
      "354   <--x-->   355\n",
      "842  from index\n",
      "355   <--x-->   355\n",
      "SAVING!!!!!\n",
      "355   <--x-->   355\n",
      "SAVING!!!!!\n",
      "355   <--x-->   355\n",
      "SAVING!!!!!\n",
      "355   <--x-->   356\n",
      "845  from index\n",
      "356   <--x-->   356\n",
      "SAVING!!!!!\n",
      "356   <--x-->   356\n",
      "SAVING!!!!!\n",
      "356   <--x-->   356\n",
      "SAVING!!!!!\n",
      "356   <--x-->   357\n",
      "848  from index\n",
      "357   <--x-->   357\n",
      "SAVING!!!!!\n",
      "357   <--x-->   357\n",
      "SAVING!!!!!\n",
      "357   <--x-->   357\n",
      "SAVING!!!!!\n",
      "357   <--x-->   358\n",
      "851  from index\n",
      "358   <--x-->   358\n",
      "SAVING!!!!!\n",
      "358   <--x-->   358\n",
      "SAVING!!!!!\n",
      "358   <--x-->   358\n",
      "SAVING!!!!!\n",
      "358   <--x-->   359\n",
      "854  from index\n",
      "359   <--x-->   359\n",
      "SAVING!!!!!\n",
      "359   <--x-->   359\n",
      "SAVING!!!!!\n",
      "359   <--x-->   359\n",
      "SAVING!!!!!\n",
      "359   <--x-->   360\n",
      "857  from index\n",
      "360   <--x-->   360\n",
      "SAVING!!!!!\n",
      "360   <--x-->   360\n",
      "SAVING!!!!!\n",
      "360   <--x-->   360\n",
      "SAVING!!!!!\n",
      "360   <--x-->   361\n",
      "860  from index\n",
      "361   <--x-->   361\n",
      "SAVING!!!!!\n",
      "361   <--x-->   361\n",
      "SAVING!!!!!\n",
      "361   <--x-->   361\n",
      "SAVING!!!!!\n",
      "361   <--x-->   362\n",
      "863  from index\n",
      "362   <--x-->   362\n",
      "SAVING!!!!!\n",
      "362   <--x-->   362\n",
      "SAVING!!!!!\n",
      "362   <--x-->   362\n",
      "SAVING!!!!!\n",
      "362   <--x-->   363\n",
      "866  from index\n",
      "363   <--x-->   363\n",
      "SAVING!!!!!\n",
      "363   <--x-->   363\n",
      "SAVING!!!!!\n",
      "363   <--x-->   363\n",
      "SAVING!!!!!\n",
      "363   <--x-->   364\n",
      "869  from index\n",
      "364   <--x-->   364\n",
      "SAVING!!!!!\n",
      "364   <--x-->   364\n",
      "SAVING!!!!!\n",
      "364   <--x-->   364\n",
      "SAVING!!!!!\n",
      "364   <--x-->   365\n",
      "872  from index\n",
      "365   <--x-->   365\n",
      "SAVING!!!!!\n",
      "365   <--x-->   365\n",
      "SAVING!!!!!\n",
      "365   <--x-->   365\n",
      "SAVING!!!!!\n",
      "365   <--x-->   366\n",
      "875  from index\n",
      "366   <--x-->   366\n",
      "SAVING!!!!!\n",
      "366   <--x-->   366\n",
      "SAVING!!!!!\n",
      "366   <--x-->   366\n",
      "SAVING!!!!!\n",
      "366   <--x-->   367\n",
      "878  from index\n",
      "367   <--x-->   367\n",
      "SAVING!!!!!\n",
      "367   <--x-->   367\n",
      "SAVING!!!!!\n",
      "367   <--x-->   367\n",
      "SAVING!!!!!\n",
      "367   <--x-->   368\n",
      "881  from index\n",
      "368   <--x-->   368\n",
      "SAVING!!!!!\n",
      "368   <--x-->   368\n",
      "SAVING!!!!!\n",
      "368   <--x-->   368\n",
      "SAVING!!!!!\n",
      "368   <--x-->   369\n",
      "884  from index\n",
      "369   <--x-->   369\n",
      "SAVING!!!!!\n",
      "369   <--x-->   369\n",
      "SAVING!!!!!\n",
      "369   <--x-->   369\n",
      "SAVING!!!!!\n",
      "369   <--x-->   370\n",
      "887  from index\n",
      "370   <--x-->   370\n",
      "SAVING!!!!!\n",
      "370   <--x-->   370\n",
      "SAVING!!!!!\n",
      "370   <--x-->   370\n",
      "SAVING!!!!!\n",
      "370   <--x-->   371\n",
      "890  from index\n",
      "371   <--x-->   371\n",
      "SAVING!!!!!\n",
      "371   <--x-->   371\n",
      "SAVING!!!!!\n",
      "371   <--x-->   371\n",
      "SAVING!!!!!\n",
      "371   <--x-->   372\n",
      "893  from index\n",
      "372   <--x-->   372\n",
      "SAVING!!!!!\n",
      "372   <--x-->   372\n",
      "SAVING!!!!!\n",
      "372   <--x-->   372\n",
      "SAVING!!!!!\n",
      "372   <--x-->   373\n",
      "896  from index\n",
      "373   <--x-->   373\n",
      "SAVING!!!!!\n",
      "373   <--x-->   373\n",
      "SAVING!!!!!\n",
      "373   <--x-->   373\n",
      "SAVING!!!!!\n",
      "373   <--x-->   374\n",
      "899  from index\n",
      "374   <--x-->   374\n",
      "SAVING!!!!!\n",
      "374   <--x-->   374\n",
      "SAVING!!!!!\n",
      "374   <--x-->   374\n",
      "SAVING!!!!!\n",
      "374   <--x-->   375\n",
      "902  from index\n",
      "375   <--x-->   375\n",
      "SAVING!!!!!\n",
      "375   <--x-->   375\n",
      "SAVING!!!!!\n",
      "375   <--x-->   375\n",
      "SAVING!!!!!\n",
      "375   <--x-->   376\n",
      "905  from index\n",
      "376   <--x-->   376\n",
      "SAVING!!!!!\n",
      "376   <--x-->   376\n",
      "SAVING!!!!!\n",
      "376   <--x-->   376\n",
      "SAVING!!!!!\n",
      "376   <--x-->   377\n",
      "908  from index\n",
      "377   <--x-->   377\n",
      "SAVING!!!!!\n",
      "377   <--x-->   377\n",
      "SAVING!!!!!\n",
      "377   <--x-->   377\n",
      "SAVING!!!!!\n",
      "377   <--x-->   378\n",
      "911  from index\n",
      "378   <--x-->   378\n",
      "SAVING!!!!!\n",
      "378   <--x-->   378\n",
      "SAVING!!!!!\n",
      "378   <--x-->   378\n",
      "SAVING!!!!!\n",
      "378   <--x-->   379\n",
      "914  from index\n",
      "379   <--x-->   379\n",
      "SAVING!!!!!\n",
      "379   <--x-->   379\n",
      "SAVING!!!!!\n",
      "379   <--x-->   379\n",
      "SAVING!!!!!\n",
      "379   <--x-->   380\n",
      "917  from index\n",
      "380   <--x-->   380\n",
      "SAVING!!!!!\n",
      "380   <--x-->   380\n",
      "SAVING!!!!!\n",
      "380   <--x-->   380\n",
      "SAVING!!!!!\n",
      "380   <--x-->   381\n",
      "920  from index\n",
      "381   <--x-->   381\n",
      "SAVING!!!!!\n",
      "381   <--x-->   381\n",
      "SAVING!!!!!\n",
      "381   <--x-->   381\n",
      "SAVING!!!!!\n",
      "381   <--x-->   382\n",
      "923  from index\n",
      "382   <--x-->   382\n",
      "SAVING!!!!!\n",
      "382   <--x-->   382\n",
      "SAVING!!!!!\n",
      "382   <--x-->   382\n",
      "SAVING!!!!!\n",
      "382   <--x-->   382\n",
      "SAVING!!!!!\n",
      "382   <--x-->   383\n",
      "927  from index\n",
      "383   <--x-->   383\n",
      "SAVING!!!!!\n",
      "383   <--x-->   383\n",
      "SAVING!!!!!\n",
      "383   <--x-->   383\n",
      "SAVING!!!!!\n",
      "383   <--x-->   383\n",
      "SAVING!!!!!\n",
      "383   <--x-->   384\n",
      "931  from index\n",
      "384   <--x-->   384\n",
      "SAVING!!!!!\n",
      "384   <--x-->   384\n",
      "SAVING!!!!!\n",
      "384   <--x-->   384\n",
      "SAVING!!!!!\n",
      "384   <--x-->   384\n",
      "SAVING!!!!!\n",
      "384   <--x-->   385\n",
      "935  from index\n",
      "385   <--x-->   385\n",
      "SAVING!!!!!\n",
      "385   <--x-->   385\n",
      "SAVING!!!!!\n",
      "385   <--x-->   385\n",
      "SAVING!!!!!\n",
      "385   <--x-->   385\n",
      "SAVING!!!!!\n",
      "385   <--x-->   386\n",
      "939  from index\n",
      "386   <--x-->   386\n",
      "SAVING!!!!!\n",
      "386   <--x-->   386\n",
      "SAVING!!!!!\n",
      "386   <--x-->   386\n",
      "SAVING!!!!!\n",
      "386   <--x-->   386\n",
      "SAVING!!!!!\n",
      "386   <--x-->   387\n",
      "943  from index\n",
      "387   <--x-->   387\n",
      "SAVING!!!!!\n",
      "387   <--x-->   387\n",
      "SAVING!!!!!\n",
      "387   <--x-->   387\n",
      "SAVING!!!!!\n",
      "387   <--x-->   387\n",
      "SAVING!!!!!\n",
      "387   <--x-->   388\n",
      "947  from index\n",
      "388   <--x-->   388\n",
      "SAVING!!!!!\n",
      "388   <--x-->   388\n",
      "SAVING!!!!!\n",
      "388   <--x-->   388\n",
      "SAVING!!!!!\n",
      "388   <--x-->   388\n",
      "SAVING!!!!!\n",
      "388   <--x-->   389\n",
      "951  from index\n",
      "389   <--x-->   389\n",
      "SAVING!!!!!\n",
      "389   <--x-->   389\n",
      "SAVING!!!!!\n",
      "389   <--x-->   389\n",
      "SAVING!!!!!\n",
      "389   <--x-->   389\n",
      "SAVING!!!!!\n",
      "389   <--x-->   390\n",
      "955  from index\n",
      "390   <--x-->   390\n",
      "SAVING!!!!!\n",
      "390   <--x-->   390\n",
      "SAVING!!!!!\n",
      "390   <--x-->   390\n",
      "SAVING!!!!!\n",
      "390   <--x-->   390\n",
      "SAVING!!!!!\n",
      "390   <--x-->   391\n",
      "959  from index\n",
      "391   <--x-->   391\n",
      "SAVING!!!!!\n",
      "391   <--x-->   391\n",
      "SAVING!!!!!\n",
      "391   <--x-->   391\n",
      "SAVING!!!!!\n",
      "391   <--x-->   391\n",
      "SAVING!!!!!\n",
      "391   <--x-->   392\n",
      "963  from index\n",
      "392   <--x-->   392\n",
      "SAVING!!!!!\n",
      "392   <--x-->   392\n",
      "SAVING!!!!!\n",
      "392   <--x-->   392\n",
      "SAVING!!!!!\n",
      "392   <--x-->   393\n",
      "966  from index\n",
      "393   <--x-->   393\n",
      "SAVING!!!!!\n",
      "393   <--x-->   393\n",
      "SAVING!!!!!\n",
      "393   <--x-->   393\n",
      "SAVING!!!!!\n",
      "393   <--x-->   394\n",
      "969  from index\n",
      "394   <--x-->   394\n",
      "SAVING!!!!!\n",
      "394   <--x-->   394\n",
      "SAVING!!!!!\n",
      "394   <--x-->   394\n",
      "SAVING!!!!!\n",
      "394   <--x-->   395\n",
      "972  from index\n",
      "395   <--x-->   395\n",
      "SAVING!!!!!\n",
      "395   <--x-->   395\n",
      "SAVING!!!!!\n",
      "395   <--x-->   395\n",
      "SAVING!!!!!\n",
      "395   <--x-->   396\n",
      "975  from index\n",
      "396   <--x-->   396\n",
      "SAVING!!!!!\n",
      "396   <--x-->   396\n",
      "SAVING!!!!!\n",
      "396   <--x-->   396\n",
      "SAVING!!!!!\n",
      "396   <--x-->   397\n",
      "978  from index\n",
      "397   <--x-->   397\n",
      "SAVING!!!!!\n",
      "397   <--x-->   397\n",
      "SAVING!!!!!\n",
      "397   <--x-->   397\n",
      "SAVING!!!!!\n",
      "397   <--x-->   398\n",
      "981  from index\n",
      "398   <--x-->   398\n",
      "SAVING!!!!!\n",
      "398   <--x-->   398\n",
      "SAVING!!!!!\n",
      "398   <--x-->   398\n",
      "SAVING!!!!!\n",
      "398   <--x-->   399\n",
      "984  from index\n",
      "399   <--x-->   399\n",
      "SAVING!!!!!\n",
      "399   <--x-->   399\n",
      "SAVING!!!!!\n",
      "399   <--x-->   399\n",
      "SAVING!!!!!\n",
      "399   <--x-->   400\n",
      "987  from index\n",
      "400   <--x-->   400\n",
      "SAVING!!!!!\n",
      "400   <--x-->   400\n",
      "SAVING!!!!!\n",
      "400   <--x-->   400\n",
      "SAVING!!!!!\n",
      "400   <--x-->   401\n",
      "990  from index\n",
      "401   <--x-->   401\n",
      "SAVING!!!!!\n",
      "401   <--x-->   401\n",
      "SAVING!!!!!\n",
      "401   <--x-->   401\n",
      "SAVING!!!!!\n",
      "401   <--x-->   402\n",
      "993  from index\n",
      "402   <--x-->   402\n",
      "SAVING!!!!!\n",
      "402   <--x-->   402\n",
      "SAVING!!!!!\n",
      "402   <--x-->   402\n",
      "SAVING!!!!!\n",
      "402   <--x-->   403\n",
      "996  from index\n",
      "403   <--x-->   403\n",
      "SAVING!!!!!\n",
      "403   <--x-->   403\n",
      "SAVING!!!!!\n",
      "403   <--x-->   403\n",
      "SAVING!!!!!\n",
      "403   <--x-->   404\n",
      "999  from index\n",
      "404   <--x-->   404\n",
      "SAVING!!!!!\n",
      "404   <--x-->   404\n",
      "SAVING!!!!!\n",
      "404   <--x-->   404\n",
      "SAVING!!!!!\n",
      "404   <--x-->   405\n",
      "1002  from index\n",
      "405   <--x-->   405\n",
      "SAVING!!!!!\n",
      "405   <--x-->   405\n",
      "SAVING!!!!!\n",
      "405   <--x-->   405\n",
      "SAVING!!!!!\n",
      "405   <--x-->   406\n",
      "1005  from index\n",
      "406   <--x-->   406\n",
      "SAVING!!!!!\n",
      "406   <--x-->   406\n",
      "SAVING!!!!!\n",
      "406   <--x-->   406\n",
      "SAVING!!!!!\n",
      "406   <--x-->   407\n",
      "1008  from index\n",
      "407   <--x-->   407\n",
      "SAVING!!!!!\n",
      "407   <--x-->   407\n",
      "SAVING!!!!!\n",
      "407   <--x-->   407\n",
      "SAVING!!!!!\n",
      "407   <--x-->   408\n",
      "1011  from index\n",
      "408   <--x-->   408\n",
      "SAVING!!!!!\n",
      "408   <--x-->   408\n",
      "SAVING!!!!!\n",
      "408   <--x-->   408\n",
      "SAVING!!!!!\n",
      "408   <--x-->   409\n",
      "1014  from index\n",
      "409   <--x-->   409\n",
      "SAVING!!!!!\n",
      "409   <--x-->   409\n",
      "SAVING!!!!!\n",
      "409   <--x-->   409\n",
      "SAVING!!!!!\n",
      "409   <--x-->   410\n",
      "1017  from index\n",
      "410   <--x-->   410\n",
      "SAVING!!!!!\n",
      "410   <--x-->   410\n",
      "SAVING!!!!!\n",
      "410   <--x-->   410\n",
      "SAVING!!!!!\n",
      "410   <--x-->   411\n",
      "1020  from index\n",
      "411   <--x-->   411\n",
      "SAVING!!!!!\n",
      "411   <--x-->   411\n",
      "SAVING!!!!!\n",
      "411   <--x-->   411\n",
      "SAVING!!!!!\n",
      "411   <--x-->   412\n",
      "1023  from index\n",
      "412   <--x-->   412\n",
      "SAVING!!!!!\n",
      "412   <--x-->   412\n",
      "SAVING!!!!!\n",
      "412   <--x-->   412\n",
      "SAVING!!!!!\n",
      "412   <--x-->   413\n",
      "1026  from index\n",
      "413   <--x-->   413\n",
      "SAVING!!!!!\n",
      "413   <--x-->   413\n",
      "SAVING!!!!!\n",
      "413   <--x-->   413\n",
      "SAVING!!!!!\n",
      "413   <--x-->   413\n",
      "SAVING!!!!!\n",
      "413   <--x-->   414\n",
      "1030  from index\n",
      "414   <--x-->   414\n",
      "SAVING!!!!!\n",
      "414   <--x-->   414\n",
      "SAVING!!!!!\n",
      "414   <--x-->   414\n",
      "SAVING!!!!!\n",
      "414   <--x-->   414\n",
      "SAVING!!!!!\n",
      "414   <--x-->   415\n",
      "1034  from index\n",
      "415   <--x-->   415\n",
      "SAVING!!!!!\n",
      "415   <--x-->   415\n",
      "SAVING!!!!!\n",
      "415   <--x-->   415\n",
      "SAVING!!!!!\n",
      "415   <--x-->   415\n",
      "SAVING!!!!!\n",
      "415   <--x-->   416\n",
      "1038  from index\n",
      "416   <--x-->   416\n",
      "SAVING!!!!!\n",
      "416   <--x-->   416\n",
      "SAVING!!!!!\n",
      "416   <--x-->   416\n",
      "SAVING!!!!!\n",
      "416   <--x-->   416\n",
      "SAVING!!!!!\n",
      "416   <--x-->   417\n",
      "1042  from index\n",
      "417   <--x-->   417\n",
      "SAVING!!!!!\n",
      "417   <--x-->   417\n",
      "SAVING!!!!!\n",
      "417   <--x-->   417\n",
      "SAVING!!!!!\n",
      "417   <--x-->   417\n",
      "SAVING!!!!!\n",
      "417   <--x-->   418\n",
      "1046  from index\n",
      "418   <--x-->   418\n",
      "SAVING!!!!!\n",
      "418   <--x-->   418\n",
      "SAVING!!!!!\n",
      "418   <--x-->   418\n",
      "SAVING!!!!!\n",
      "418   <--x-->   418\n",
      "SAVING!!!!!\n",
      "418   <--x-->   419\n",
      "1050  from index\n",
      "419   <--x-->   419\n",
      "SAVING!!!!!\n",
      "419   <--x-->   419\n",
      "SAVING!!!!!\n",
      "419   <--x-->   419\n",
      "SAVING!!!!!\n",
      "419   <--x-->   419\n",
      "SAVING!!!!!\n",
      "419   <--x-->   420\n",
      "1054  from index\n",
      "420   <--x-->   420\n",
      "SAVING!!!!!\n",
      "420   <--x-->   420\n",
      "SAVING!!!!!\n",
      "420   <--x-->   420\n",
      "SAVING!!!!!\n",
      "420   <--x-->   420\n",
      "SAVING!!!!!\n",
      "420   <--x-->   421\n",
      "1058  from index\n",
      "421   <--x-->   421\n",
      "SAVING!!!!!\n",
      "421   <--x-->   421\n",
      "SAVING!!!!!\n",
      "421   <--x-->   421\n",
      "SAVING!!!!!\n",
      "421   <--x-->   421\n",
      "SAVING!!!!!\n",
      "421   <--x-->   422\n",
      "1062  from index\n",
      "422   <--x-->   422\n",
      "SAVING!!!!!\n",
      "422   <--x-->   422\n",
      "SAVING!!!!!\n",
      "422   <--x-->   422\n",
      "SAVING!!!!!\n",
      "422   <--x-->   422\n",
      "SAVING!!!!!\n",
      "422   <--x-->   423\n",
      "1066  from index\n",
      "423   <--x-->   423\n",
      "SAVING!!!!!\n",
      "423   <--x-->   423\n",
      "SAVING!!!!!\n",
      "423   <--x-->   423\n",
      "SAVING!!!!!\n",
      "423   <--x-->   423\n",
      "SAVING!!!!!\n",
      "423   <--x-->   424\n",
      "1070  from index\n",
      "424   <--x-->   424\n",
      "SAVING!!!!!\n",
      "424   <--x-->   424\n",
      "SAVING!!!!!\n",
      "424   <--x-->   424\n",
      "SAVING!!!!!\n",
      "424   <--x-->   424\n",
      "SAVING!!!!!\n",
      "424   <--x-->   425\n",
      "1074  from index\n",
      "425   <--x-->   425\n",
      "SAVING!!!!!\n",
      "425   <--x-->   425\n",
      "SAVING!!!!!\n",
      "425   <--x-->   425\n",
      "SAVING!!!!!\n",
      "425   <--x-->   425\n",
      "SAVING!!!!!\n",
      "425   <--x-->   426\n",
      "1078  from index\n",
      "426   <--x-->   426\n",
      "SAVING!!!!!\n",
      "426   <--x-->   426\n",
      "SAVING!!!!!\n",
      "426   <--x-->   426\n",
      "SAVING!!!!!\n",
      "426   <--x-->   426\n",
      "SAVING!!!!!\n",
      "426   <--x-->   427\n",
      "1082  from index\n",
      "427   <--x-->   427\n",
      "SAVING!!!!!\n",
      "427   <--x-->   427\n",
      "SAVING!!!!!\n",
      "427   <--x-->   427\n",
      "SAVING!!!!!\n",
      "427   <--x-->   428\n",
      "1085  from index\n",
      "428   <--x-->   428\n",
      "SAVING!!!!!\n",
      "428   <--x-->   428\n",
      "SAVING!!!!!\n",
      "428   <--x-->   428\n",
      "SAVING!!!!!\n",
      "428   <--x-->   429\n",
      "1088  from index\n",
      "429   <--x-->   429\n",
      "SAVING!!!!!\n",
      "429   <--x-->   429\n",
      "SAVING!!!!!\n",
      "429   <--x-->   429\n",
      "SAVING!!!!!\n",
      "429   <--x-->   430\n",
      "1091  from index\n",
      "430   <--x-->   430\n",
      "SAVING!!!!!\n",
      "430   <--x-->   430\n",
      "SAVING!!!!!\n",
      "430   <--x-->   430\n",
      "SAVING!!!!!\n",
      "430   <--x-->   431\n",
      "1094  from index\n",
      "431   <--x-->   431\n",
      "SAVING!!!!!\n",
      "431   <--x-->   431\n",
      "SAVING!!!!!\n",
      "431   <--x-->   431\n",
      "SAVING!!!!!\n",
      "431   <--x-->   432\n",
      "1097  from index\n",
      "432   <--x-->   432\n",
      "SAVING!!!!!\n",
      "432   <--x-->   432\n",
      "SAVING!!!!!\n",
      "432   <--x-->   432\n",
      "SAVING!!!!!\n",
      "432   <--x-->   433\n",
      "1100  from index\n",
      "433   <--x-->   433\n",
      "SAVING!!!!!\n",
      "433   <--x-->   433\n",
      "SAVING!!!!!\n",
      "433   <--x-->   433\n",
      "SAVING!!!!!\n",
      "433   <--x-->   434\n",
      "1103  from index\n",
      "434   <--x-->   434\n",
      "SAVING!!!!!\n",
      "434   <--x-->   434\n",
      "SAVING!!!!!\n",
      "434   <--x-->   434\n",
      "SAVING!!!!!\n",
      "434   <--x-->   435\n",
      "1106  from index\n",
      "435   <--x-->   435\n",
      "SAVING!!!!!\n",
      "435   <--x-->   435\n",
      "SAVING!!!!!\n",
      "435   <--x-->   435\n",
      "SAVING!!!!!\n",
      "435   <--x-->   436\n",
      "1109  from index\n",
      "436   <--x-->   436\n",
      "SAVING!!!!!\n",
      "436   <--x-->   436\n",
      "SAVING!!!!!\n",
      "436   <--x-->   436\n",
      "SAVING!!!!!\n",
      "436   <--x-->   437\n",
      "1112  from index\n",
      "437   <--x-->   437\n",
      "SAVING!!!!!\n",
      "437   <--x-->   437\n",
      "SAVING!!!!!\n",
      "437   <--x-->   437\n",
      "SAVING!!!!!\n",
      "437   <--x-->   438\n",
      "1115  from index\n",
      "438   <--x-->   438\n",
      "SAVING!!!!!\n",
      "438   <--x-->   438\n",
      "SAVING!!!!!\n",
      "438   <--x-->   438\n",
      "SAVING!!!!!\n",
      "438   <--x-->   439\n",
      "1118  from index\n",
      "439   <--x-->   439\n",
      "SAVING!!!!!\n",
      "439   <--x-->   439\n",
      "SAVING!!!!!\n",
      "439   <--x-->   439\n",
      "SAVING!!!!!\n",
      "439   <--x-->   440\n",
      "1121  from index\n",
      "440   <--x-->   440\n",
      "SAVING!!!!!\n",
      "440   <--x-->   440\n",
      "SAVING!!!!!\n",
      "440   <--x-->   440\n",
      "SAVING!!!!!\n",
      "440   <--x-->   441\n",
      "1124  from index\n",
      "441   <--x-->   441\n",
      "SAVING!!!!!\n",
      "441   <--x-->   441\n",
      "SAVING!!!!!\n",
      "441   <--x-->   441\n",
      "SAVING!!!!!\n",
      "441   <--x-->   442\n",
      "1127  from index\n",
      "442   <--x-->   442\n",
      "SAVING!!!!!\n",
      "442   <--x-->   442\n",
      "SAVING!!!!!\n",
      "442   <--x-->   442\n",
      "SAVING!!!!!\n",
      "442   <--x-->   443\n",
      "1130  from index\n",
      "443   <--x-->   443\n",
      "SAVING!!!!!\n",
      "443   <--x-->   443\n",
      "SAVING!!!!!\n",
      "443   <--x-->   443\n",
      "SAVING!!!!!\n",
      "443   <--x-->   444\n",
      "1133  from index\n",
      "444   <--x-->   444\n",
      "SAVING!!!!!\n",
      "444   <--x-->   444\n",
      "SAVING!!!!!\n",
      "444   <--x-->   444\n",
      "SAVING!!!!!\n",
      "444   <--x-->   445\n",
      "1136  from index\n",
      "445   <--x-->   445\n",
      "SAVING!!!!!\n",
      "445   <--x-->   445\n",
      "SAVING!!!!!\n",
      "445   <--x-->   445\n",
      "SAVING!!!!!\n",
      "445   <--x-->   446\n",
      "1139  from index\n",
      "446   <--x-->   446\n",
      "SAVING!!!!!\n",
      "446   <--x-->   446\n",
      "SAVING!!!!!\n",
      "446   <--x-->   446\n",
      "SAVING!!!!!\n",
      "446   <--x-->   447\n",
      "1142  from index\n",
      "447   <--x-->   447\n",
      "SAVING!!!!!\n",
      "447   <--x-->   447\n",
      "SAVING!!!!!\n",
      "447   <--x-->   447\n",
      "SAVING!!!!!\n",
      "447   <--x-->   447\n",
      "SAVING!!!!!\n",
      "447   <--x-->   448\n",
      "1146  from index\n",
      "448   <--x-->   448\n",
      "SAVING!!!!!\n",
      "448   <--x-->   448\n",
      "SAVING!!!!!\n",
      "448   <--x-->   448\n",
      "SAVING!!!!!\n",
      "448   <--x-->   448\n",
      "SAVING!!!!!\n",
      "448   <--x-->   449\n",
      "1150  from index\n",
      "449   <--x-->   449\n",
      "SAVING!!!!!\n",
      "449   <--x-->   449\n",
      "SAVING!!!!!\n",
      "449   <--x-->   449\n",
      "SAVING!!!!!\n",
      "449   <--x-->   449\n",
      "SAVING!!!!!\n",
      "449   <--x-->   450\n",
      "1154  from index\n",
      "450   <--x-->   450\n",
      "SAVING!!!!!\n",
      "450   <--x-->   450\n",
      "SAVING!!!!!\n",
      "450   <--x-->   450\n",
      "SAVING!!!!!\n",
      "450   <--x-->   450\n",
      "SAVING!!!!!\n",
      "450   <--x-->   451\n",
      "1158  from index\n",
      "451   <--x-->   451\n",
      "SAVING!!!!!\n",
      "451   <--x-->   451\n",
      "SAVING!!!!!\n",
      "451   <--x-->   451\n",
      "SAVING!!!!!\n",
      "451   <--x-->   451\n",
      "SAVING!!!!!\n",
      "451   <--x-->   452\n",
      "1162  from index\n",
      "452   <--x-->   452\n",
      "SAVING!!!!!\n",
      "452   <--x-->   452\n",
      "SAVING!!!!!\n",
      "452   <--x-->   452\n",
      "SAVING!!!!!\n",
      "452   <--x-->   452\n",
      "SAVING!!!!!\n",
      "452   <--x-->   453\n",
      "1166  from index\n",
      "453   <--x-->   453\n",
      "SAVING!!!!!\n",
      "453   <--x-->   453\n",
      "SAVING!!!!!\n",
      "453   <--x-->   453\n",
      "SAVING!!!!!\n",
      "453   <--x-->   453\n",
      "SAVING!!!!!\n",
      "453   <--x-->   454\n",
      "1170  from index\n",
      "454   <--x-->   454\n",
      "SAVING!!!!!\n",
      "454   <--x-->   454\n",
      "SAVING!!!!!\n",
      "454   <--x-->   454\n",
      "SAVING!!!!!\n",
      "454   <--x-->   454\n",
      "SAVING!!!!!\n",
      "454   <--x-->   455\n",
      "1174  from index\n",
      "455   <--x-->   455\n",
      "SAVING!!!!!\n",
      "455   <--x-->   455\n",
      "SAVING!!!!!\n",
      "455   <--x-->   455\n",
      "SAVING!!!!!\n",
      "455   <--x-->   455\n",
      "SAVING!!!!!\n",
      "455   <--x-->   456\n",
      "1178  from index\n",
      "456   <--x-->   456\n",
      "SAVING!!!!!\n",
      "456   <--x-->   456\n",
      "SAVING!!!!!\n",
      "456   <--x-->   456\n",
      "SAVING!!!!!\n",
      "456   <--x-->   456\n",
      "SAVING!!!!!\n",
      "456   <--x-->   457\n",
      "1182  from index\n",
      "457   <--x-->   457\n",
      "SAVING!!!!!\n",
      "457   <--x-->   457\n",
      "SAVING!!!!!\n",
      "457   <--x-->   457\n",
      "SAVING!!!!!\n",
      "457   <--x-->   458\n",
      "1185  from index\n",
      "458   <--x-->   458\n",
      "SAVING!!!!!\n",
      "458   <--x-->   458\n",
      "SAVING!!!!!\n",
      "458   <--x-->   458\n",
      "SAVING!!!!!\n",
      "458   <--x-->   459\n",
      "1188  from index\n",
      "459   <--x-->   459\n",
      "SAVING!!!!!\n",
      "459   <--x-->   459\n",
      "SAVING!!!!!\n",
      "459   <--x-->   459\n",
      "SAVING!!!!!\n",
      "459   <--x-->   460\n",
      "1191  from index\n",
      "460   <--x-->   460\n",
      "SAVING!!!!!\n",
      "460   <--x-->   460\n",
      "SAVING!!!!!\n",
      "460   <--x-->   460\n",
      "SAVING!!!!!\n",
      "460   <--x-->   461\n",
      "1194  from index\n",
      "461   <--x-->   461\n",
      "SAVING!!!!!\n",
      "461   <--x-->   461\n",
      "SAVING!!!!!\n",
      "461   <--x-->   461\n",
      "SAVING!!!!!\n",
      "461   <--x-->   462\n",
      "1197  from index\n",
      "462   <--x-->   462\n",
      "SAVING!!!!!\n",
      "462   <--x-->   462\n",
      "SAVING!!!!!\n",
      "462   <--x-->   462\n",
      "SAVING!!!!!\n",
      "462   <--x-->   463\n",
      "1200  from index\n",
      "463   <--x-->   463\n",
      "SAVING!!!!!\n",
      "463   <--x-->   463\n",
      "SAVING!!!!!\n",
      "463   <--x-->   463\n",
      "SAVING!!!!!\n",
      "463   <--x-->   464\n",
      "1203  from index\n",
      "464   <--x-->   464\n",
      "SAVING!!!!!\n",
      "464   <--x-->   464\n",
      "SAVING!!!!!\n",
      "464   <--x-->   464\n",
      "SAVING!!!!!\n",
      "464   <--x-->   465\n",
      "1206  from index\n",
      "465   <--x-->   465\n",
      "SAVING!!!!!\n",
      "465   <--x-->   465\n",
      "SAVING!!!!!\n",
      "465   <--x-->   465\n",
      "SAVING!!!!!\n",
      "465   <--x-->   466\n",
      "1209  from index\n",
      "466   <--x-->   466\n",
      "SAVING!!!!!\n",
      "466   <--x-->   466\n",
      "SAVING!!!!!\n",
      "466   <--x-->   466\n",
      "SAVING!!!!!\n",
      "466   <--x-->   467\n",
      "1212  from index\n",
      "467   <--x-->   467\n",
      "SAVING!!!!!\n",
      "467   <--x-->   467\n",
      "SAVING!!!!!\n",
      "467   <--x-->   467\n",
      "SAVING!!!!!\n",
      "467   <--x-->   468\n",
      "1215  from index\n",
      "468   <--x-->   468\n",
      "SAVING!!!!!\n",
      "468   <--x-->   468\n",
      "SAVING!!!!!\n",
      "468   <--x-->   468\n",
      "SAVING!!!!!\n",
      "468   <--x-->   469\n",
      "1218  from index\n",
      "469   <--x-->   469\n",
      "SAVING!!!!!\n",
      "469   <--x-->   469\n",
      "SAVING!!!!!\n",
      "469   <--x-->   469\n",
      "SAVING!!!!!\n",
      "469   <--x-->   470\n",
      "1221  from index\n",
      "470   <--x-->   470\n",
      "SAVING!!!!!\n",
      "470   <--x-->   470\n",
      "SAVING!!!!!\n",
      "470   <--x-->   470\n",
      "SAVING!!!!!\n",
      "470   <--x-->   471\n",
      "1224  from index\n",
      "471   <--x-->   471\n",
      "SAVING!!!!!\n",
      "471   <--x-->   471\n",
      "SAVING!!!!!\n",
      "471   <--x-->   471\n",
      "SAVING!!!!!\n",
      "471   <--x-->   472\n",
      "1227  from index\n",
      "472   <--x-->   472\n",
      "SAVING!!!!!\n",
      "472   <--x-->   472\n",
      "SAVING!!!!!\n",
      "472   <--x-->   472\n",
      "SAVING!!!!!\n",
      "472   <--x-->   473\n",
      "1230  from index\n",
      "473   <--x-->   473\n",
      "SAVING!!!!!\n",
      "473   <--x-->   473\n",
      "SAVING!!!!!\n",
      "473   <--x-->   473\n",
      "SAVING!!!!!\n",
      "473   <--x-->   474\n",
      "1233  from index\n",
      "474   <--x-->   474\n",
      "SAVING!!!!!\n",
      "474   <--x-->   474\n",
      "SAVING!!!!!\n",
      "474   <--x-->   474\n",
      "SAVING!!!!!\n",
      "474   <--x-->   475\n",
      "1236  from index\n",
      "475   <--x-->   475\n",
      "SAVING!!!!!\n",
      "475   <--x-->   475\n",
      "SAVING!!!!!\n",
      "475   <--x-->   475\n",
      "SAVING!!!!!\n",
      "475   <--x-->   476\n",
      "1239  from index\n",
      "476   <--x-->   476\n",
      "SAVING!!!!!\n",
      "476   <--x-->   476\n",
      "SAVING!!!!!\n",
      "476   <--x-->   476\n",
      "SAVING!!!!!\n",
      "476   <--x-->   477\n",
      "1242  from index\n",
      "477   <--x-->   477\n",
      "SAVING!!!!!\n",
      "477   <--x-->   477\n",
      "SAVING!!!!!\n",
      "477   <--x-->   477\n",
      "SAVING!!!!!\n",
      "477   <--x-->   477\n",
      "SAVING!!!!!\n",
      "477   <--x-->   478\n",
      "1246  from index\n",
      "478   <--x-->   478\n",
      "SAVING!!!!!\n",
      "478   <--x-->   478\n",
      "SAVING!!!!!\n",
      "478   <--x-->   478\n",
      "SAVING!!!!!\n",
      "478   <--x-->   478\n",
      "SAVING!!!!!\n",
      "478   <--x-->   479\n",
      "1250  from index\n",
      "479   <--x-->   479\n",
      "SAVING!!!!!\n",
      "479   <--x-->   479\n",
      "SAVING!!!!!\n",
      "479   <--x-->   479\n",
      "SAVING!!!!!\n",
      "479   <--x-->   479\n",
      "SAVING!!!!!\n",
      "479   <--x-->   480\n",
      "1254  from index\n",
      "480   <--x-->   480\n",
      "SAVING!!!!!\n",
      "480   <--x-->   480\n",
      "SAVING!!!!!\n",
      "480   <--x-->   480\n",
      "SAVING!!!!!\n",
      "480   <--x-->   480\n",
      "SAVING!!!!!\n",
      "480   <--x-->   481\n",
      "1258  from index\n",
      "481   <--x-->   481\n",
      "SAVING!!!!!\n",
      "481   <--x-->   481\n",
      "SAVING!!!!!\n",
      "481   <--x-->   481\n",
      "SAVING!!!!!\n",
      "481   <--x-->   481\n",
      "SAVING!!!!!\n",
      "481   <--x-->   482\n",
      "1262  from index\n",
      "482   <--x-->   482\n",
      "SAVING!!!!!\n",
      "482   <--x-->   482\n",
      "SAVING!!!!!\n",
      "482   <--x-->   482\n",
      "SAVING!!!!!\n",
      "482   <--x-->   482\n",
      "SAVING!!!!!\n",
      "482   <--x-->   483\n",
      "1266  from index\n",
      "483   <--x-->   483\n",
      "SAVING!!!!!\n",
      "483   <--x-->   483\n",
      "SAVING!!!!!\n",
      "483   <--x-->   483\n",
      "SAVING!!!!!\n",
      "483   <--x-->   483\n",
      "SAVING!!!!!\n",
      "483   <--x-->   484\n",
      "1270  from index\n",
      "484   <--x-->   484\n",
      "SAVING!!!!!\n",
      "484   <--x-->   484\n",
      "SAVING!!!!!\n",
      "484   <--x-->   484\n",
      "SAVING!!!!!\n",
      "484   <--x-->   484\n",
      "SAVING!!!!!\n",
      "484   <--x-->   485\n",
      "1274  from index\n",
      "485   <--x-->   485\n",
      "SAVING!!!!!\n",
      "485   <--x-->   485\n",
      "SAVING!!!!!\n",
      "485   <--x-->   485\n",
      "SAVING!!!!!\n",
      "485   <--x-->   485\n",
      "SAVING!!!!!\n",
      "485   <--x-->   486\n",
      "1278  from index\n",
      "486   <--x-->   486\n",
      "SAVING!!!!!\n",
      "486   <--x-->   486\n",
      "SAVING!!!!!\n",
      "486   <--x-->   486\n",
      "SAVING!!!!!\n",
      "486   <--x-->   486\n",
      "SAVING!!!!!\n",
      "486   <--x-->   487\n",
      "1282  from index\n",
      "487   <--x-->   487\n",
      "SAVING!!!!!\n",
      "487   <--x-->   487\n",
      "SAVING!!!!!\n",
      "487   <--x-->   487\n",
      "SAVING!!!!!\n",
      "487   <--x-->   487\n",
      "SAVING!!!!!\n",
      "487   <--x-->   488\n",
      "1286  from index\n",
      "488   <--x-->   488\n",
      "SAVING!!!!!\n",
      "488   <--x-->   488\n",
      "SAVING!!!!!\n",
      "488   <--x-->   488\n",
      "SAVING!!!!!\n",
      "488   <--x-->   488\n",
      "SAVING!!!!!\n",
      "488   <--x-->   489\n",
      "1290  from index\n",
      "489   <--x-->   489\n",
      "SAVING!!!!!\n",
      "489   <--x-->   489\n",
      "SAVING!!!!!\n",
      "489   <--x-->   489\n",
      "SAVING!!!!!\n",
      "489   <--x-->   489\n",
      "SAVING!!!!!\n",
      "489   <--x-->   490\n",
      "1294  from index\n",
      "490   <--x-->   490\n",
      "SAVING!!!!!\n",
      "490   <--x-->   490\n",
      "SAVING!!!!!\n",
      "490   <--x-->   490\n",
      "SAVING!!!!!\n",
      "490   <--x-->   490\n",
      "SAVING!!!!!\n",
      "490   <--x-->   491\n",
      "1298  from index\n",
      "491   <--x-->   491\n",
      "SAVING!!!!!\n",
      "491   <--x-->   491\n",
      "SAVING!!!!!\n",
      "491   <--x-->   491\n",
      "SAVING!!!!!\n",
      "491   <--x-->   491\n",
      "SAVING!!!!!\n",
      "491   <--x-->   492\n",
      "1302  from index\n",
      "492   <--x-->   492\n",
      "SAVING!!!!!\n",
      "492   <--x-->   492\n",
      "SAVING!!!!!\n",
      "492   <--x-->   492\n",
      "SAVING!!!!!\n",
      "492   <--x-->   493\n",
      "1305  from index\n",
      "493   <--x-->   493\n",
      "SAVING!!!!!\n",
      "493   <--x-->   493\n",
      "SAVING!!!!!\n",
      "493   <--x-->   493\n",
      "SAVING!!!!!\n",
      "493   <--x-->   494\n",
      "1308  from index\n",
      "494   <--x-->   494\n",
      "SAVING!!!!!\n",
      "494   <--x-->   494\n",
      "SAVING!!!!!\n",
      "494   <--x-->   494\n",
      "SAVING!!!!!\n",
      "494   <--x-->   495\n",
      "1311  from index\n",
      "495   <--x-->   495\n",
      "SAVING!!!!!\n",
      "495   <--x-->   495\n",
      "SAVING!!!!!\n",
      "495   <--x-->   495\n",
      "SAVING!!!!!\n",
      "495   <--x-->   496\n",
      "1314  from index\n",
      "496   <--x-->   496\n",
      "SAVING!!!!!\n",
      "496   <--x-->   496\n",
      "SAVING!!!!!\n",
      "496   <--x-->   496\n",
      "SAVING!!!!!\n",
      "496   <--x-->   497\n",
      "1317  from index\n",
      "497   <--x-->   497\n",
      "SAVING!!!!!\n",
      "497   <--x-->   497\n",
      "SAVING!!!!!\n",
      "497   <--x-->   497\n",
      "SAVING!!!!!\n",
      "497   <--x-->   498\n",
      "1320  from index\n",
      "498   <--x-->   498\n",
      "SAVING!!!!!\n",
      "498   <--x-->   498\n",
      "SAVING!!!!!\n",
      "498   <--x-->   498\n",
      "SAVING!!!!!\n",
      "498   <--x-->   499\n",
      "1323  from index\n",
      "499   <--x-->   499\n",
      "SAVING!!!!!\n",
      "499   <--x-->   499\n",
      "SAVING!!!!!\n",
      "499   <--x-->   499\n",
      "SAVING!!!!!\n",
      "499   <--x-->   500\n",
      "1326  from index\n",
      "500   <--x-->   500\n",
      "SAVING!!!!!\n",
      "500   <--x-->   500\n",
      "SAVING!!!!!\n",
      "500   <--x-->   500\n",
      "SAVING!!!!!\n",
      "500   <--x-->   501\n",
      "1329  from index\n",
      "501   <--x-->   501\n",
      "SAVING!!!!!\n",
      "501   <--x-->   501\n",
      "SAVING!!!!!\n",
      "501   <--x-->   501\n",
      "SAVING!!!!!\n",
      "501   <--x-->   502\n",
      "1332  from index\n",
      "502   <--x-->   502\n",
      "SAVING!!!!!\n",
      "502   <--x-->   502\n",
      "SAVING!!!!!\n",
      "502   <--x-->   502\n",
      "SAVING!!!!!\n",
      "502   <--x-->   503\n",
      "1335  from index\n",
      "503   <--x-->   503\n",
      "SAVING!!!!!\n",
      "503   <--x-->   503\n",
      "SAVING!!!!!\n",
      "503   <--x-->   503\n",
      "SAVING!!!!!\n",
      "503   <--x-->   504\n",
      "1338  from index\n",
      "504   <--x-->   504\n",
      "SAVING!!!!!\n",
      "504   <--x-->   504\n",
      "SAVING!!!!!\n",
      "504   <--x-->   504\n",
      "SAVING!!!!!\n",
      "504   <--x-->   505\n",
      "1341  from index\n",
      "505   <--x-->   505\n",
      "SAVING!!!!!\n",
      "505   <--x-->   505\n",
      "SAVING!!!!!\n",
      "505   <--x-->   505\n",
      "SAVING!!!!!\n",
      "505   <--x-->   506\n",
      "1344  from index\n",
      "506   <--x-->   506\n",
      "SAVING!!!!!\n",
      "506   <--x-->   506\n",
      "SAVING!!!!!\n",
      "506   <--x-->   506\n",
      "SAVING!!!!!\n",
      "506   <--x-->   507\n",
      "1347  from index\n",
      "507   <--x-->   507\n",
      "SAVING!!!!!\n",
      "507   <--x-->   507\n",
      "SAVING!!!!!\n",
      "507   <--x-->   507\n",
      "SAVING!!!!!\n",
      "507   <--x-->   507\n",
      "SAVING!!!!!\n",
      "507   <--x-->   508\n",
      "1351  from index\n",
      "508   <--x-->   508\n",
      "SAVING!!!!!\n",
      "508   <--x-->   508\n",
      "SAVING!!!!!\n",
      "508   <--x-->   508\n",
      "SAVING!!!!!\n",
      "508   <--x-->   508\n",
      "SAVING!!!!!\n",
      "508   <--x-->   509\n",
      "1355  from index\n",
      "509   <--x-->   509\n",
      "SAVING!!!!!\n",
      "509   <--x-->   509\n",
      "SAVING!!!!!\n",
      "509   <--x-->   509\n",
      "SAVING!!!!!\n",
      "509   <--x-->   509\n",
      "SAVING!!!!!\n",
      "509   <--x-->   510\n",
      "1359  from index\n",
      "510   <--x-->   510\n",
      "SAVING!!!!!\n",
      "510   <--x-->   510\n",
      "SAVING!!!!!\n",
      "510   <--x-->   510\n",
      "SAVING!!!!!\n",
      "510   <--x-->   510\n",
      "SAVING!!!!!\n",
      "510   <--x-->   511\n",
      "1363  from index\n",
      "511   <--x-->   511\n",
      "SAVING!!!!!\n",
      "511   <--x-->   511\n",
      "SAVING!!!!!\n",
      "511   <--x-->   511\n",
      "SAVING!!!!!\n",
      "511   <--x-->   511\n",
      "SAVING!!!!!\n",
      "511   <--x-->   512\n",
      "1367  from index\n",
      "512   <--x-->   512\n",
      "SAVING!!!!!\n",
      "512   <--x-->   512\n",
      "SAVING!!!!!\n",
      "512   <--x-->   512\n",
      "SAVING!!!!!\n",
      "512   <--x-->   512\n",
      "SAVING!!!!!\n",
      "512   <--x-->   513\n",
      "1371  from index\n",
      "513   <--x-->   513\n",
      "SAVING!!!!!\n",
      "513   <--x-->   513\n",
      "SAVING!!!!!\n",
      "513   <--x-->   513\n",
      "SAVING!!!!!\n",
      "513   <--x-->   513\n",
      "SAVING!!!!!\n",
      "513   <--x-->   514\n",
      "1375  from index\n",
      "514   <--x-->   514\n",
      "SAVING!!!!!\n",
      "514   <--x-->   514\n",
      "SAVING!!!!!\n",
      "514   <--x-->   514\n",
      "SAVING!!!!!\n",
      "514   <--x-->   514\n",
      "SAVING!!!!!\n",
      "514   <--x-->   515\n",
      "1379  from index\n",
      "515   <--x-->   515\n",
      "SAVING!!!!!\n",
      "515   <--x-->   515\n",
      "SAVING!!!!!\n",
      "515   <--x-->   515\n",
      "SAVING!!!!!\n",
      "515   <--x-->   515\n",
      "SAVING!!!!!\n",
      "515   <--x-->   516\n",
      "1383  from index\n",
      "516   <--x-->   516\n",
      "SAVING!!!!!\n",
      "516   <--x-->   516\n",
      "SAVING!!!!!\n",
      "516   <--x-->   516\n",
      "SAVING!!!!!\n",
      "516   <--x-->   516\n",
      "SAVING!!!!!\n",
      "516   <--x-->   517\n",
      "1387  from index\n",
      "517   <--x-->   517\n",
      "SAVING!!!!!\n",
      "517   <--x-->   517\n",
      "SAVING!!!!!\n",
      "517   <--x-->   517\n",
      "SAVING!!!!!\n",
      "517   <--x-->   517\n",
      "SAVING!!!!!\n",
      "517   <--x-->   518\n",
      "1391  from index\n",
      "518   <--x-->   518\n",
      "SAVING!!!!!\n",
      "518   <--x-->   518\n",
      "SAVING!!!!!\n",
      "518   <--x-->   518\n",
      "SAVING!!!!!\n",
      "518   <--x-->   518\n",
      "SAVING!!!!!\n",
      "518   <--x-->   519\n",
      "1395  from index\n",
      "519   <--x-->   519\n",
      "SAVING!!!!!\n",
      "519   <--x-->   519\n",
      "SAVING!!!!!\n",
      "519   <--x-->   519\n",
      "SAVING!!!!!\n",
      "519   <--x-->   519\n",
      "SAVING!!!!!\n",
      "519   <--x-->   520\n",
      "1399  from index\n",
      "520   <--x-->   520\n",
      "SAVING!!!!!\n",
      "520   <--x-->   520\n",
      "SAVING!!!!!\n",
      "520   <--x-->   520\n",
      "SAVING!!!!!\n",
      "520   <--x-->   520\n",
      "SAVING!!!!!\n",
      "520   <--x-->   521\n",
      "1403  from index\n",
      "521   <--x-->   521\n",
      "SAVING!!!!!\n",
      "521   <--x-->   521\n",
      "SAVING!!!!!\n",
      "521   <--x-->   521\n",
      "SAVING!!!!!\n",
      "521   <--x-->   522\n",
      "1406  from index\n",
      "522   <--x-->   522\n",
      "SAVING!!!!!\n",
      "522   <--x-->   522\n",
      "SAVING!!!!!\n",
      "522   <--x-->   522\n",
      "SAVING!!!!!\n",
      "522   <--x-->   523\n",
      "1409  from index\n",
      "523   <--x-->   523\n",
      "SAVING!!!!!\n",
      "523   <--x-->   523\n",
      "SAVING!!!!!\n",
      "523   <--x-->   523\n",
      "SAVING!!!!!\n",
      "523   <--x-->   524\n",
      "1412  from index\n",
      "524   <--x-->   524\n",
      "SAVING!!!!!\n",
      "524   <--x-->   524\n",
      "SAVING!!!!!\n",
      "524   <--x-->   524\n",
      "SAVING!!!!!\n",
      "524   <--x-->   525\n",
      "1415  from index\n",
      "525   <--x-->   525\n",
      "SAVING!!!!!\n",
      "525   <--x-->   525\n",
      "SAVING!!!!!\n",
      "525   <--x-->   525\n",
      "SAVING!!!!!\n",
      "525   <--x-->   526\n",
      "1418  from index\n",
      "526   <--x-->   526\n",
      "SAVING!!!!!\n",
      "526   <--x-->   526\n",
      "SAVING!!!!!\n",
      "526   <--x-->   526\n",
      "SAVING!!!!!\n",
      "526   <--x-->   527\n",
      "1421  from index\n",
      "527   <--x-->   527\n",
      "SAVING!!!!!\n",
      "527   <--x-->   527\n",
      "SAVING!!!!!\n",
      "527   <--x-->   527\n",
      "SAVING!!!!!\n",
      "527   <--x-->   528\n",
      "1424  from index\n",
      "528   <--x-->   528\n",
      "SAVING!!!!!\n",
      "528   <--x-->   528\n",
      "SAVING!!!!!\n",
      "528   <--x-->   528\n",
      "SAVING!!!!!\n",
      "528   <--x-->   529\n",
      "1427  from index\n",
      "529   <--x-->   529\n",
      "SAVING!!!!!\n",
      "529   <--x-->   529\n",
      "SAVING!!!!!\n",
      "529   <--x-->   529\n",
      "SAVING!!!!!\n",
      "529   <--x-->   530\n",
      "1430  from index\n",
      "530   <--x-->   530\n",
      "SAVING!!!!!\n",
      "530   <--x-->   530\n",
      "SAVING!!!!!\n",
      "530   <--x-->   530\n",
      "SAVING!!!!!\n",
      "530   <--x-->   531\n",
      "1433  from index\n",
      "531   <--x-->   531\n",
      "SAVING!!!!!\n",
      "531   <--x-->   531\n",
      "SAVING!!!!!\n",
      "531   <--x-->   531\n",
      "SAVING!!!!!\n",
      "531   <--x-->   532\n",
      "1436  from index\n",
      "532   <--x-->   532\n",
      "SAVING!!!!!\n",
      "532   <--x-->   532\n",
      "SAVING!!!!!\n",
      "532   <--x-->   532\n",
      "SAVING!!!!!\n",
      "532   <--x-->   533\n",
      "1439  from index\n",
      "533   <--x-->   533\n",
      "SAVING!!!!!\n",
      "533   <--x-->   533\n",
      "SAVING!!!!!\n",
      "533   <--x-->   533\n",
      "SAVING!!!!!\n",
      "533   <--x-->   534\n",
      "1442  from index\n",
      "534   <--x-->   534\n",
      "SAVING!!!!!\n",
      "534   <--x-->   534\n",
      "SAVING!!!!!\n",
      "534   <--x-->   534\n",
      "SAVING!!!!!\n",
      "534   <--x-->   535\n",
      "1445  from index\n",
      "535   <--x-->   535\n",
      "SAVING!!!!!\n",
      "535   <--x-->   535\n",
      "SAVING!!!!!\n",
      "535   <--x-->   535\n",
      "SAVING!!!!!\n",
      "535   <--x-->   536\n",
      "1448  from index\n",
      "536   <--x-->   536\n",
      "SAVING!!!!!\n",
      "536   <--x-->   536\n",
      "SAVING!!!!!\n",
      "536   <--x-->   536\n",
      "SAVING!!!!!\n",
      "536   <--x-->   537\n",
      "1451  from index\n",
      "537   <--x-->   537\n",
      "SAVING!!!!!\n",
      "537   <--x-->   537\n",
      "SAVING!!!!!\n",
      "537   <--x-->   537\n",
      "SAVING!!!!!\n",
      "537   <--x-->   538\n",
      "1454  from index\n",
      "538   <--x-->   538\n",
      "SAVING!!!!!\n",
      "538   <--x-->   538\n",
      "SAVING!!!!!\n",
      "538   <--x-->   538\n",
      "SAVING!!!!!\n",
      "538   <--x-->   539\n",
      "1457  from index\n",
      "539   <--x-->   539\n",
      "SAVING!!!!!\n",
      "539   <--x-->   539\n",
      "SAVING!!!!!\n",
      "539   <--x-->   539\n",
      "SAVING!!!!!\n",
      "539   <--x-->   540\n",
      "1460  from index\n",
      "540   <--x-->   540\n",
      "SAVING!!!!!\n",
      "540   <--x-->   540\n",
      "SAVING!!!!!\n",
      "540   <--x-->   540\n",
      "SAVING!!!!!\n",
      "540   <--x-->   541\n",
      "1463  from index\n",
      "541   <--x-->   541\n",
      "SAVING!!!!!\n",
      "541   <--x-->   541\n",
      "SAVING!!!!!\n",
      "541   <--x-->   541\n",
      "SAVING!!!!!\n",
      "541   <--x-->   542\n",
      "1466  from index\n",
      "542   <--x-->   542\n",
      "SAVING!!!!!\n",
      "542   <--x-->   542\n",
      "SAVING!!!!!\n",
      "542   <--x-->   542\n",
      "SAVING!!!!!\n",
      "542   <--x-->   542\n",
      "SAVING!!!!!\n",
      "542   <--x-->   543\n",
      "1470  from index\n",
      "543   <--x-->   543\n",
      "SAVING!!!!!\n",
      "543   <--x-->   543\n",
      "SAVING!!!!!\n",
      "543   <--x-->   543\n",
      "SAVING!!!!!\n",
      "543   <--x-->   543\n",
      "SAVING!!!!!\n",
      "543   <--x-->   544\n",
      "1474  from index\n",
      "544   <--x-->   544\n",
      "SAVING!!!!!\n",
      "544   <--x-->   544\n",
      "SAVING!!!!!\n",
      "544   <--x-->   544\n",
      "SAVING!!!!!\n",
      "544   <--x-->   544\n",
      "SAVING!!!!!\n",
      "544   <--x-->   545\n",
      "1478  from index\n",
      "545   <--x-->   545\n",
      "SAVING!!!!!\n",
      "545   <--x-->   545\n",
      "SAVING!!!!!\n",
      "545   <--x-->   545\n",
      "SAVING!!!!!\n",
      "545   <--x-->   545\n",
      "SAVING!!!!!\n",
      "545   <--x-->   546\n",
      "1482  from index\n",
      "546   <--x-->   546\n",
      "SAVING!!!!!\n",
      "546   <--x-->   546\n",
      "SAVING!!!!!\n",
      "546   <--x-->   546\n",
      "SAVING!!!!!\n",
      "546   <--x-->   546\n",
      "SAVING!!!!!\n",
      "546   <--x-->   547\n",
      "1486  from index\n",
      "547   <--x-->   547\n",
      "SAVING!!!!!\n",
      "547   <--x-->   547\n",
      "SAVING!!!!!\n",
      "547   <--x-->   547\n",
      "SAVING!!!!!\n",
      "547   <--x-->   547\n",
      "SAVING!!!!!\n",
      "547   <--x-->   548\n",
      "1490  from index\n",
      "548   <--x-->   548\n",
      "SAVING!!!!!\n",
      "548   <--x-->   548\n",
      "SAVING!!!!!\n",
      "548   <--x-->   548\n",
      "SAVING!!!!!\n",
      "548   <--x-->   548\n",
      "SAVING!!!!!\n",
      "548   <--x-->   549\n",
      "1494  from index\n",
      "549   <--x-->   549\n",
      "SAVING!!!!!\n",
      "549   <--x-->   549\n",
      "SAVING!!!!!\n",
      "549   <--x-->   549\n",
      "SAVING!!!!!\n",
      "549   <--x-->   549\n",
      "SAVING!!!!!\n",
      "549   <--x-->   550\n",
      "1498  from index\n",
      "550   <--x-->   550\n",
      "SAVING!!!!!\n",
      "550   <--x-->   550\n",
      "SAVING!!!!!\n",
      "550   <--x-->   550\n",
      "SAVING!!!!!\n",
      "550   <--x-->   551\n",
      "1501  from index\n",
      "551   <--x-->   551\n",
      "SAVING!!!!!\n",
      "551   <--x-->   551\n",
      "SAVING!!!!!\n",
      "551   <--x-->   551\n",
      "SAVING!!!!!\n",
      "551   <--x-->   552\n",
      "1504  from index\n",
      "552   <--x-->   552\n",
      "SAVING!!!!!\n",
      "552   <--x-->   552\n",
      "SAVING!!!!!\n",
      "552   <--x-->   552\n",
      "SAVING!!!!!\n",
      "552   <--x-->   553\n",
      "1507  from index\n",
      "553   <--x-->   553\n",
      "SAVING!!!!!\n",
      "553   <--x-->   553\n",
      "SAVING!!!!!\n",
      "553   <--x-->   553\n",
      "SAVING!!!!!\n",
      "553   <--x-->   554\n",
      "1510  from index\n",
      "554   <--x-->   554\n",
      "SAVING!!!!!\n",
      "554   <--x-->   554\n",
      "SAVING!!!!!\n",
      "554   <--x-->   554\n",
      "SAVING!!!!!\n",
      "554   <--x-->   555\n",
      "1513  from index\n",
      "555   <--x-->   555\n",
      "SAVING!!!!!\n",
      "555   <--x-->   555\n",
      "SAVING!!!!!\n",
      "555   <--x-->   555\n",
      "SAVING!!!!!\n",
      "555   <--x-->   556\n",
      "1516  from index\n",
      "556   <--x-->   556\n",
      "SAVING!!!!!\n",
      "556   <--x-->   556\n",
      "SAVING!!!!!\n",
      "556   <--x-->   556\n",
      "SAVING!!!!!\n",
      "556   <--x-->   557\n",
      "1519  from index\n",
      "557   <--x-->   557\n",
      "SAVING!!!!!\n",
      "557   <--x-->   557\n",
      "SAVING!!!!!\n",
      "557   <--x-->   557\n",
      "SAVING!!!!!\n",
      "557   <--x-->   558\n",
      "1522  from index\n",
      "558   <--x-->   558\n",
      "SAVING!!!!!\n",
      "558   <--x-->   558\n",
      "SAVING!!!!!\n",
      "558   <--x-->   558\n",
      "SAVING!!!!!\n",
      "558   <--x-->   559\n",
      "1525  from index\n",
      "559   <--x-->   559\n",
      "SAVING!!!!!\n",
      "559   <--x-->   559\n",
      "SAVING!!!!!\n",
      "559   <--x-->   559\n",
      "SAVING!!!!!\n",
      "559   <--x-->   560\n",
      "1528  from index\n",
      "560   <--x-->   560\n",
      "SAVING!!!!!\n",
      "560   <--x-->   560\n",
      "SAVING!!!!!\n",
      "560   <--x-->   560\n",
      "SAVING!!!!!\n",
      "560   <--x-->   561\n",
      "1531  from index\n",
      "561   <--x-->   561\n",
      "SAVING!!!!!\n",
      "561   <--x-->   561\n",
      "SAVING!!!!!\n",
      "561   <--x-->   561\n",
      "SAVING!!!!!\n",
      "561   <--x-->   562\n",
      "1534  from index\n",
      "562   <--x-->   562\n",
      "SAVING!!!!!\n",
      "562   <--x-->   562\n",
      "SAVING!!!!!\n",
      "562   <--x-->   562\n",
      "SAVING!!!!!\n",
      "562   <--x-->   563\n",
      "1537  from index\n",
      "563   <--x-->   563\n",
      "SAVING!!!!!\n",
      "563   <--x-->   563\n",
      "SAVING!!!!!\n",
      "563   <--x-->   563\n",
      "SAVING!!!!!\n",
      "563   <--x-->   564\n",
      "1540  from index\n",
      "564   <--x-->   564\n",
      "SAVING!!!!!\n",
      "564   <--x-->   564\n",
      "SAVING!!!!!\n",
      "564   <--x-->   564\n",
      "SAVING!!!!!\n",
      "564   <--x-->   565\n",
      "1543  from index\n",
      "565   <--x-->   565\n",
      "SAVING!!!!!\n",
      "565   <--x-->   565\n",
      "SAVING!!!!!\n",
      "565   <--x-->   565\n",
      "SAVING!!!!!\n",
      "565   <--x-->   566\n",
      "1546  from index\n",
      "566   <--x-->   566\n",
      "SAVING!!!!!\n",
      "566   <--x-->   566\n",
      "SAVING!!!!!\n",
      "566   <--x-->   566\n",
      "SAVING!!!!!\n",
      "566   <--x-->   567\n",
      "1549  from index\n",
      "567   <--x-->   567\n",
      "SAVING!!!!!\n",
      "567   <--x-->   567\n",
      "SAVING!!!!!\n",
      "567   <--x-->   567\n",
      "SAVING!!!!!\n",
      "567   <--x-->   568\n",
      "1552  from index\n",
      "568   <--x-->   568\n",
      "SAVING!!!!!\n",
      "568   <--x-->   568\n",
      "SAVING!!!!!\n",
      "568   <--x-->   568\n",
      "SAVING!!!!!\n",
      "568   <--x-->   569\n",
      "1555  from index\n",
      "569   <--x-->   569\n",
      "SAVING!!!!!\n",
      "569   <--x-->   569\n",
      "SAVING!!!!!\n",
      "569   <--x-->   569\n",
      "SAVING!!!!!\n",
      "569   <--x-->   570\n",
      "1558  from index\n",
      "570   <--x-->   570\n",
      "SAVING!!!!!\n",
      "570   <--x-->   570\n",
      "SAVING!!!!!\n",
      "570   <--x-->   570\n",
      "SAVING!!!!!\n",
      "570   <--x-->   571\n",
      "1561  from index\n",
      "571   <--x-->   571\n",
      "SAVING!!!!!\n",
      "571   <--x-->   571\n",
      "SAVING!!!!!\n",
      "571   <--x-->   571\n",
      "SAVING!!!!!\n",
      "571   <--x-->   572\n",
      "1564  from index\n",
      "572   <--x-->   572\n",
      "SAVING!!!!!\n",
      "572   <--x-->   572\n",
      "SAVING!!!!!\n",
      "572   <--x-->   572\n",
      "SAVING!!!!!\n",
      "572   <--x-->   572\n",
      "SAVING!!!!!\n",
      "572   <--x-->   573\n",
      "1568  from index\n",
      "573   <--x-->   573\n",
      "SAVING!!!!!\n",
      "573   <--x-->   573\n",
      "SAVING!!!!!\n",
      "573   <--x-->   573\n",
      "SAVING!!!!!\n",
      "573   <--x-->   573\n",
      "SAVING!!!!!\n",
      "573   <--x-->   574\n",
      "1572  from index\n",
      "574   <--x-->   574\n",
      "SAVING!!!!!\n",
      "574   <--x-->   574\n",
      "SAVING!!!!!\n",
      "574   <--x-->   574\n",
      "SAVING!!!!!\n",
      "574   <--x-->   574\n",
      "SAVING!!!!!\n",
      "574   <--x-->   575\n",
      "1576  from index\n",
      "575   <--x-->   575\n",
      "SAVING!!!!!\n",
      "575   <--x-->   575\n",
      "SAVING!!!!!\n",
      "575   <--x-->   575\n",
      "SAVING!!!!!\n",
      "575   <--x-->   575\n",
      "SAVING!!!!!\n",
      "575   <--x-->   576\n",
      "1580  from index\n",
      "576   <--x-->   576\n",
      "SAVING!!!!!\n",
      "576   <--x-->   576\n",
      "SAVING!!!!!\n",
      "576   <--x-->   576\n",
      "SAVING!!!!!\n",
      "576   <--x-->   576\n",
      "SAVING!!!!!\n",
      "576   <--x-->   577\n",
      "1584  from index\n",
      "577   <--x-->   577\n",
      "SAVING!!!!!\n",
      "577   <--x-->   577\n",
      "SAVING!!!!!\n",
      "577   <--x-->   577\n",
      "SAVING!!!!!\n",
      "577   <--x-->   577\n",
      "SAVING!!!!!\n",
      "577   <--x-->   578\n",
      "1588  from index\n",
      "578   <--x-->   578\n",
      "SAVING!!!!!\n",
      "578   <--x-->   578\n",
      "SAVING!!!!!\n",
      "578   <--x-->   578\n",
      "SAVING!!!!!\n",
      "578   <--x-->   578\n",
      "SAVING!!!!!\n",
      "578   <--x-->   579\n",
      "1592  from index\n",
      "579   <--x-->   579\n",
      "SAVING!!!!!\n",
      "579   <--x-->   579\n",
      "SAVING!!!!!\n",
      "579   <--x-->   579\n",
      "SAVING!!!!!\n",
      "579   <--x-->   579\n",
      "SAVING!!!!!\n",
      "579   <--x-->   580\n",
      "1596  from index\n",
      "580   <--x-->   580\n",
      "SAVING!!!!!\n",
      "580   <--x-->   580\n",
      "SAVING!!!!!\n",
      "580   <--x-->   580\n",
      "SAVING!!!!!\n",
      "580   <--x-->   580\n",
      "SAVING!!!!!\n",
      "580   <--x-->   581\n",
      "1600  from index\n",
      "581   <--x-->   581\n",
      "SAVING!!!!!\n",
      "581   <--x-->   581\n",
      "SAVING!!!!!\n",
      "581   <--x-->   581\n",
      "SAVING!!!!!\n",
      "581   <--x-->   581\n",
      "SAVING!!!!!\n",
      "581   <--x-->   582\n",
      "1604  from index\n",
      "582   <--x-->   582\n",
      "SAVING!!!!!\n",
      "582   <--x-->   582\n",
      "SAVING!!!!!\n",
      "582   <--x-->   582\n",
      "SAVING!!!!!\n",
      "582   <--x-->   582\n",
      "SAVING!!!!!\n",
      "582   <--x-->   583\n",
      "1608  from index\n",
      "583   <--x-->   583\n",
      "SAVING!!!!!\n",
      "583   <--x-->   583\n",
      "SAVING!!!!!\n",
      "583   <--x-->   583\n",
      "SAVING!!!!!\n",
      "583   <--x-->   583\n",
      "SAVING!!!!!\n",
      "583   <--x-->   584\n",
      "1612  from index\n",
      "584   <--x-->   584\n",
      "SAVING!!!!!\n",
      "584   <--x-->   584\n",
      "SAVING!!!!!\n",
      "584   <--x-->   584\n",
      "SAVING!!!!!\n",
      "584   <--x-->   584\n",
      "SAVING!!!!!\n",
      "584   <--x-->   585\n",
      "1616  from index\n",
      "585   <--x-->   585\n",
      "SAVING!!!!!\n",
      "585   <--x-->   585\n",
      "SAVING!!!!!\n",
      "585   <--x-->   585\n",
      "SAVING!!!!!\n",
      "585   <--x-->   586\n",
      "1619  from index\n",
      "586   <--x-->   586\n",
      "SAVING!!!!!\n",
      "586   <--x-->   586\n",
      "SAVING!!!!!\n",
      "586   <--x-->   586\n",
      "SAVING!!!!!\n",
      "586   <--x-->   587\n",
      "1622  from index\n",
      "587   <--x-->   587\n",
      "SAVING!!!!!\n",
      "587   <--x-->   587\n",
      "SAVING!!!!!\n",
      "587   <--x-->   587\n",
      "SAVING!!!!!\n",
      "587   <--x-->   588\n",
      "1625  from index\n",
      "588   <--x-->   588\n",
      "SAVING!!!!!\n",
      "588   <--x-->   588\n",
      "SAVING!!!!!\n",
      "588   <--x-->   588\n",
      "SAVING!!!!!\n",
      "588   <--x-->   589\n",
      "1628  from index\n",
      "589   <--x-->   589\n",
      "SAVING!!!!!\n",
      "589   <--x-->   589\n",
      "SAVING!!!!!\n",
      "589   <--x-->   589\n",
      "SAVING!!!!!\n",
      "589   <--x-->   590\n",
      "1631  from index\n",
      "590   <--x-->   590\n",
      "SAVING!!!!!\n",
      "590   <--x-->   590\n",
      "SAVING!!!!!\n",
      "590   <--x-->   590\n",
      "SAVING!!!!!\n",
      "590   <--x-->   591\n",
      "1634  from index\n",
      "591   <--x-->   591\n",
      "SAVING!!!!!\n",
      "591   <--x-->   591\n",
      "SAVING!!!!!\n",
      "591   <--x-->   591\n",
      "SAVING!!!!!\n",
      "591   <--x-->   592\n",
      "1637  from index\n",
      "592   <--x-->   592\n",
      "SAVING!!!!!\n",
      "592   <--x-->   592\n",
      "SAVING!!!!!\n",
      "592   <--x-->   592\n",
      "SAVING!!!!!\n",
      "592   <--x-->   593\n",
      "1640  from index\n",
      "593   <--x-->   593\n",
      "SAVING!!!!!\n",
      "593   <--x-->   593\n",
      "SAVING!!!!!\n",
      "593   <--x-->   593\n",
      "SAVING!!!!!\n",
      "593   <--x-->   594\n",
      "1643  from index\n",
      "594   <--x-->   594\n",
      "SAVING!!!!!\n",
      "594   <--x-->   594\n",
      "SAVING!!!!!\n",
      "594   <--x-->   594\n",
      "SAVING!!!!!\n",
      "594   <--x-->   595\n",
      "1646  from index\n",
      "595   <--x-->   595\n",
      "SAVING!!!!!\n",
      "595   <--x-->   595\n",
      "SAVING!!!!!\n",
      "595   <--x-->   595\n",
      "SAVING!!!!!\n",
      "595   <--x-->   596\n",
      "1649  from index\n",
      "596   <--x-->   596\n",
      "SAVING!!!!!\n",
      "596   <--x-->   596\n",
      "SAVING!!!!!\n",
      "596   <--x-->   596\n",
      "SAVING!!!!!\n",
      "596   <--x-->   597\n",
      "1652  from index\n",
      "597   <--x-->   597\n",
      "SAVING!!!!!\n",
      "597   <--x-->   597\n",
      "SAVING!!!!!\n",
      "597   <--x-->   597\n",
      "SAVING!!!!!\n",
      "597   <--x-->   598\n",
      "1655  from index\n",
      "598   <--x-->   598\n",
      "SAVING!!!!!\n",
      "598   <--x-->   598\n",
      "SAVING!!!!!\n",
      "598   <--x-->   598\n",
      "SAVING!!!!!\n",
      "598   <--x-->   599\n",
      "1658  from index\n",
      "599   <--x-->   599\n",
      "SAVING!!!!!\n",
      "599   <--x-->   599\n",
      "SAVING!!!!!\n",
      "599   <--x-->   599\n",
      "SAVING!!!!!\n",
      "599   <--x-->   600\n",
      "1661  from index\n",
      "600   <--x-->   600\n",
      "SAVING!!!!!\n",
      "600   <--x-->   600\n",
      "SAVING!!!!!\n",
      "600   <--x-->   600\n",
      "SAVING!!!!!\n",
      "600   <--x-->   601\n",
      "1664  from index\n",
      "601   <--x-->   601\n",
      "SAVING!!!!!\n",
      "601   <--x-->   601\n",
      "SAVING!!!!!\n",
      "601   <--x-->   601\n",
      "SAVING!!!!!\n",
      "601   <--x-->   602\n",
      "1667  from index\n",
      "602   <--x-->   602\n",
      "SAVING!!!!!\n",
      "602   <--x-->   602\n",
      "SAVING!!!!!\n",
      "602   <--x-->   602\n",
      "SAVING!!!!!\n",
      "602   <--x-->   603\n",
      "1670  from index\n",
      "603   <--x-->   603\n",
      "SAVING!!!!!\n",
      "603   <--x-->   603\n",
      "SAVING!!!!!\n",
      "603   <--x-->   603\n",
      "SAVING!!!!!\n",
      "603   <--x-->   604\n",
      "1673  from index\n",
      "604   <--x-->   604\n",
      "SAVING!!!!!\n",
      "604   <--x-->   604\n",
      "SAVING!!!!!\n",
      "604   <--x-->   604\n",
      "SAVING!!!!!\n",
      "604   <--x-->   605\n",
      "1676  from index\n",
      "605   <--x-->   605\n",
      "SAVING!!!!!\n",
      "605   <--x-->   605\n",
      "SAVING!!!!!\n",
      "605   <--x-->   605\n",
      "SAVING!!!!!\n",
      "605   <--x-->   605\n",
      "SAVING!!!!!\n",
      "605   <--x-->   606\n",
      "1680  from index\n",
      "606   <--x-->   606\n",
      "SAVING!!!!!\n",
      "606   <--x-->   606\n",
      "SAVING!!!!!\n",
      "606   <--x-->   606\n",
      "SAVING!!!!!\n",
      "606   <--x-->   606\n",
      "SAVING!!!!!\n",
      "606   <--x-->   607\n",
      "1684  from index\n",
      "607   <--x-->   607\n",
      "SAVING!!!!!\n",
      "607   <--x-->   607\n",
      "SAVING!!!!!\n",
      "607   <--x-->   607\n",
      "SAVING!!!!!\n",
      "607   <--x-->   607\n",
      "SAVING!!!!!\n",
      "607   <--x-->   608\n",
      "1688  from index\n",
      "608   <--x-->   608\n",
      "SAVING!!!!!\n",
      "608   <--x-->   608\n",
      "SAVING!!!!!\n",
      "608   <--x-->   608\n",
      "SAVING!!!!!\n",
      "608   <--x-->   608\n",
      "SAVING!!!!!\n",
      "608   <--x-->   609\n",
      "1692  from index\n",
      "609   <--x-->   609\n",
      "SAVING!!!!!\n",
      "609   <--x-->   609\n",
      "SAVING!!!!!\n",
      "609   <--x-->   609\n",
      "SAVING!!!!!\n",
      "609   <--x-->   609\n",
      "SAVING!!!!!\n",
      "609   <--x-->   610\n",
      "1696  from index\n",
      "610   <--x-->   610\n",
      "SAVING!!!!!\n",
      "610   <--x-->   610\n",
      "SAVING!!!!!\n",
      "610   <--x-->   610\n",
      "SAVING!!!!!\n",
      "610   <--x-->   610\n",
      "SAVING!!!!!\n",
      "610   <--x-->   611\n",
      "1700  from index\n",
      "611   <--x-->   611\n",
      "SAVING!!!!!\n",
      "611   <--x-->   611\n",
      "SAVING!!!!!\n",
      "611   <--x-->   611\n",
      "SAVING!!!!!\n",
      "611   <--x-->   611\n",
      "SAVING!!!!!\n",
      "611   <--x-->   612\n",
      "1704  from index\n",
      "612   <--x-->   612\n",
      "SAVING!!!!!\n",
      "612   <--x-->   612\n",
      "SAVING!!!!!\n",
      "612   <--x-->   612\n",
      "SAVING!!!!!\n",
      "612   <--x-->   612\n",
      "SAVING!!!!!\n",
      "612   <--x-->   613\n",
      "1708  from index\n",
      "613   <--x-->   613\n",
      "SAVING!!!!!\n",
      "613   <--x-->   613\n",
      "SAVING!!!!!\n",
      "613   <--x-->   613\n",
      "SAVING!!!!!\n",
      "613   <--x-->   613\n",
      "SAVING!!!!!\n",
      "613   <--x-->   614\n",
      "1712  from index\n",
      "614   <--x-->   614\n",
      "SAVING!!!!!\n",
      "614   <--x-->   614\n",
      "SAVING!!!!!\n",
      "614   <--x-->   614\n",
      "SAVING!!!!!\n",
      "614   <--x-->   614\n",
      "SAVING!!!!!\n",
      "614   <--x-->   615\n",
      "1716  from index\n",
      "615   <--x-->   615\n",
      "SAVING!!!!!\n",
      "615   <--x-->   615\n",
      "SAVING!!!!!\n",
      "615   <--x-->   615\n",
      "SAVING!!!!!\n",
      "615   <--x-->   615\n",
      "SAVING!!!!!\n",
      "615   <--x-->   616\n",
      "1720  from index\n",
      "616   <--x-->   616\n",
      "SAVING!!!!!\n",
      "616   <--x-->   616\n",
      "SAVING!!!!!\n",
      "616   <--x-->   616\n",
      "SAVING!!!!!\n",
      "616   <--x-->   616\n",
      "SAVING!!!!!\n",
      "616   <--x-->   617\n",
      "1724  from index\n",
      "617   <--x-->   617\n",
      "SAVING!!!!!\n",
      "617   <--x-->   617\n",
      "SAVING!!!!!\n",
      "617   <--x-->   617\n",
      "SAVING!!!!!\n",
      "617   <--x-->   618\n",
      "1727  from index\n",
      "618   <--x-->   618\n",
      "SAVING!!!!!\n",
      "618   <--x-->   618\n",
      "SAVING!!!!!\n",
      "618   <--x-->   618\n",
      "SAVING!!!!!\n",
      "618   <--x-->   619\n",
      "1730  from index\n",
      "619   <--x-->   619\n",
      "SAVING!!!!!\n",
      "619   <--x-->   619\n",
      "SAVING!!!!!\n",
      "619   <--x-->   619\n",
      "SAVING!!!!!\n",
      "619   <--x-->   620\n",
      "1733  from index\n",
      "620   <--x-->   620\n",
      "SAVING!!!!!\n",
      "620   <--x-->   620\n",
      "SAVING!!!!!\n",
      "620   <--x-->   620\n",
      "SAVING!!!!!\n",
      "620   <--x-->   621\n",
      "1736  from index\n",
      "621   <--x-->   621\n",
      "SAVING!!!!!\n",
      "621   <--x-->   621\n",
      "SAVING!!!!!\n",
      "621   <--x-->   621\n",
      "SAVING!!!!!\n",
      "621   <--x-->   622\n",
      "1739  from index\n",
      "622   <--x-->   622\n",
      "SAVING!!!!!\n",
      "622   <--x-->   622\n",
      "SAVING!!!!!\n",
      "622   <--x-->   622\n",
      "SAVING!!!!!\n",
      "622   <--x-->   623\n",
      "1742  from index\n",
      "623   <--x-->   623\n",
      "SAVING!!!!!\n",
      "623   <--x-->   623\n",
      "SAVING!!!!!\n",
      "623   <--x-->   623\n",
      "SAVING!!!!!\n",
      "623   <--x-->   624\n",
      "1745  from index\n",
      "624   <--x-->   624\n",
      "SAVING!!!!!\n",
      "624   <--x-->   624\n",
      "SAVING!!!!!\n",
      "624   <--x-->   624\n",
      "SAVING!!!!!\n",
      "624   <--x-->   625\n",
      "1748  from index\n",
      "625   <--x-->   625\n",
      "SAVING!!!!!\n",
      "625   <--x-->   625\n",
      "SAVING!!!!!\n",
      "625   <--x-->   625\n",
      "SAVING!!!!!\n",
      "625   <--x-->   626\n",
      "1751  from index\n",
      "626   <--x-->   626\n",
      "SAVING!!!!!\n",
      "626   <--x-->   626\n",
      "SAVING!!!!!\n",
      "626   <--x-->   626\n",
      "SAVING!!!!!\n",
      "626   <--x-->   627\n",
      "1754  from index\n",
      "627   <--x-->   627\n",
      "SAVING!!!!!\n",
      "627   <--x-->   627\n",
      "SAVING!!!!!\n",
      "627   <--x-->   627\n",
      "SAVING!!!!!\n",
      "627   <--x-->   628\n",
      "1757  from index\n",
      "628   <--x-->   628\n",
      "SAVING!!!!!\n",
      "628   <--x-->   628\n",
      "SAVING!!!!!\n",
      "628   <--x-->   628\n",
      "SAVING!!!!!\n",
      "628   <--x-->   629\n",
      "1760  from index\n",
      "629   <--x-->   629\n",
      "SAVING!!!!!\n",
      "629   <--x-->   629\n",
      "SAVING!!!!!\n",
      "629   <--x-->   629\n",
      "SAVING!!!!!\n",
      "629   <--x-->   630\n",
      "1763  from index\n",
      "630   <--x-->   630\n",
      "SAVING!!!!!\n",
      "630   <--x-->   630\n",
      "SAVING!!!!!\n",
      "630   <--x-->   630\n",
      "SAVING!!!!!\n",
      "630   <--x-->   631\n",
      "1766  from index\n",
      "631   <--x-->   631\n",
      "SAVING!!!!!\n",
      "631   <--x-->   631\n",
      "SAVING!!!!!\n",
      "631   <--x-->   631\n",
      "SAVING!!!!!\n",
      "631   <--x-->   632\n",
      "1769  from index\n",
      "632   <--x-->   632\n",
      "SAVING!!!!!\n",
      "632   <--x-->   632\n",
      "SAVING!!!!!\n",
      "632   <--x-->   632\n",
      "SAVING!!!!!\n",
      "632   <--x-->   633\n",
      "1772  from index\n",
      "633   <--x-->   633\n",
      "SAVING!!!!!\n",
      "633   <--x-->   633\n",
      "SAVING!!!!!\n",
      "633   <--x-->   633\n",
      "SAVING!!!!!\n",
      "633   <--x-->   634\n",
      "1775  from index\n",
      "634   <--x-->   634\n",
      "SAVING!!!!!\n",
      "634   <--x-->   634\n",
      "SAVING!!!!!\n",
      "634   <--x-->   634\n",
      "SAVING!!!!!\n",
      "634   <--x-->   635\n",
      "1778  from index\n",
      "635   <--x-->   635\n",
      "SAVING!!!!!\n",
      "635   <--x-->   635\n",
      "SAVING!!!!!\n",
      "635   <--x-->   635\n",
      "SAVING!!!!!\n",
      "635   <--x-->   636\n",
      "1781  from index\n",
      "636   <--x-->   636\n",
      "SAVING!!!!!\n",
      "636   <--x-->   636\n",
      "SAVING!!!!!\n",
      "636   <--x-->   636\n",
      "SAVING!!!!!\n",
      "636   <--x-->   637\n",
      "1784  from index\n",
      "637   <--x-->   637\n",
      "SAVING!!!!!\n",
      "637   <--x-->   637\n",
      "SAVING!!!!!\n",
      "637   <--x-->   637\n",
      "SAVING!!!!!\n",
      "637   <--x-->   638\n",
      "1787  from index\n",
      "638   <--x-->   638\n",
      "SAVING!!!!!\n",
      "638   <--x-->   638\n",
      "SAVING!!!!!\n",
      "638   <--x-->   638\n",
      "SAVING!!!!!\n",
      "638   <--x-->   639\n",
      "1790  from index\n",
      "639   <--x-->   639\n",
      "SAVING!!!!!\n",
      "639   <--x-->   639\n",
      "SAVING!!!!!\n",
      "639   <--x-->   639\n",
      "SAVING!!!!!\n",
      "639   <--x-->   639\n",
      "SAVING!!!!!\n",
      "639   <--x-->   640\n",
      "1794  from index\n",
      "640   <--x-->   640\n",
      "SAVING!!!!!\n",
      "640   <--x-->   640\n",
      "SAVING!!!!!\n",
      "640   <--x-->   640\n",
      "SAVING!!!!!\n",
      "640   <--x-->   640\n",
      "SAVING!!!!!\n",
      "640   <--x-->   641\n",
      "1798  from index\n",
      "641   <--x-->   641\n",
      "SAVING!!!!!\n",
      "641   <--x-->   641\n",
      "SAVING!!!!!\n",
      "641   <--x-->   641\n",
      "SAVING!!!!!\n",
      "641   <--x-->   641\n",
      "SAVING!!!!!\n",
      "641   <--x-->   642\n",
      "1802  from index\n",
      "642   <--x-->   642\n",
      "SAVING!!!!!\n",
      "642   <--x-->   642\n",
      "SAVING!!!!!\n",
      "642   <--x-->   642\n",
      "SAVING!!!!!\n",
      "642   <--x-->   642\n",
      "SAVING!!!!!\n",
      "642   <--x-->   643\n",
      "1806  from index\n",
      "643   <--x-->   643\n",
      "SAVING!!!!!\n",
      "643   <--x-->   643\n",
      "SAVING!!!!!\n",
      "643   <--x-->   643\n",
      "SAVING!!!!!\n",
      "643   <--x-->   643\n",
      "SAVING!!!!!\n",
      "643   <--x-->   644\n",
      "1810  from index\n",
      "644   <--x-->   644\n",
      "SAVING!!!!!\n",
      "644   <--x-->   644\n",
      "SAVING!!!!!\n",
      "644   <--x-->   644\n",
      "SAVING!!!!!\n",
      "644   <--x-->   644\n",
      "SAVING!!!!!\n",
      "644   <--x-->   645\n",
      "1814  from index\n",
      "645   <--x-->   645\n",
      "SAVING!!!!!\n",
      "645   <--x-->   645\n",
      "SAVING!!!!!\n",
      "645   <--x-->   645\n",
      "SAVING!!!!!\n",
      "645   <--x-->   645\n",
      "SAVING!!!!!\n",
      "645   <--x-->   646\n",
      "1818  from index\n",
      "646   <--x-->   646\n",
      "SAVING!!!!!\n",
      "646   <--x-->   646\n",
      "SAVING!!!!!\n",
      "646   <--x-->   646\n",
      "SAVING!!!!!\n",
      "646   <--x-->   647\n",
      "1821  from index\n",
      "647   <--x-->   647\n",
      "SAVING!!!!!\n",
      "647   <--x-->   647\n",
      "SAVING!!!!!\n",
      "647   <--x-->   647\n",
      "SAVING!!!!!\n",
      "647   <--x-->   648\n",
      "1824  from index\n",
      "648   <--x-->   648\n",
      "SAVING!!!!!\n",
      "648   <--x-->   648\n",
      "SAVING!!!!!\n",
      "648   <--x-->   648\n",
      "SAVING!!!!!\n",
      "648   <--x-->   649\n",
      "1827  from index\n",
      "649   <--x-->   649\n",
      "SAVING!!!!!\n",
      "649   <--x-->   649\n",
      "SAVING!!!!!\n",
      "649   <--x-->   649\n",
      "SAVING!!!!!\n",
      "649   <--x-->   650\n",
      "1830  from index\n",
      "650   <--x-->   650\n",
      "SAVING!!!!!\n",
      "650   <--x-->   650\n",
      "SAVING!!!!!\n",
      "650   <--x-->   650\n",
      "SAVING!!!!!\n",
      "650   <--x-->   651\n",
      "1833  from index\n",
      "651   <--x-->   651\n",
      "SAVING!!!!!\n",
      "651   <--x-->   651\n",
      "SAVING!!!!!\n",
      "651   <--x-->   651\n",
      "SAVING!!!!!\n",
      "651   <--x-->   652\n",
      "1836  from index\n",
      "652   <--x-->   652\n",
      "SAVING!!!!!\n",
      "652   <--x-->   652\n",
      "SAVING!!!!!\n",
      "652   <--x-->   652\n",
      "SAVING!!!!!\n",
      "652   <--x-->   653\n",
      "1839  from index\n",
      "653   <--x-->   653\n",
      "SAVING!!!!!\n",
      "653   <--x-->   653\n",
      "SAVING!!!!!\n",
      "653   <--x-->   653\n",
      "SAVING!!!!!\n",
      "653   <--x-->   654\n",
      "1842  from index\n",
      "654   <--x-->   654\n",
      "SAVING!!!!!\n",
      "654   <--x-->   654\n",
      "SAVING!!!!!\n",
      "654   <--x-->   654\n",
      "SAVING!!!!!\n",
      "654   <--x-->   655\n",
      "1845  from index\n",
      "655   <--x-->   655\n",
      "SAVING!!!!!\n",
      "655   <--x-->   655\n",
      "SAVING!!!!!\n",
      "655   <--x-->   655\n",
      "SAVING!!!!!\n",
      "655   <--x-->   656\n",
      "1848  from index\n",
      "656   <--x-->   656\n",
      "SAVING!!!!!\n",
      "656   <--x-->   656\n",
      "SAVING!!!!!\n",
      "656   <--x-->   656\n",
      "SAVING!!!!!\n",
      "656   <--x-->   657\n",
      "1851  from index\n",
      "657   <--x-->   657\n",
      "SAVING!!!!!\n",
      "657   <--x-->   657\n",
      "SAVING!!!!!\n",
      "657   <--x-->   657\n",
      "SAVING!!!!!\n",
      "657   <--x-->   658\n",
      "1854  from index\n",
      "658   <--x-->   658\n",
      "SAVING!!!!!\n",
      "658   <--x-->   658\n",
      "SAVING!!!!!\n",
      "658   <--x-->   658\n",
      "SAVING!!!!!\n",
      "658   <--x-->   659\n",
      "1857  from index\n",
      "659   <--x-->   659\n",
      "SAVING!!!!!\n",
      "659   <--x-->   659\n",
      "SAVING!!!!!\n",
      "659   <--x-->   659\n",
      "SAVING!!!!!\n",
      "659   <--x-->   660\n",
      "1860  from index\n",
      "660   <--x-->   660\n",
      "SAVING!!!!!\n",
      "660   <--x-->   660\n",
      "SAVING!!!!!\n",
      "660   <--x-->   660\n",
      "SAVING!!!!!\n",
      "660   <--x-->   661\n",
      "1863  from index\n",
      "661   <--x-->   661\n",
      "SAVING!!!!!\n",
      "661   <--x-->   661\n",
      "SAVING!!!!!\n",
      "661   <--x-->   661\n",
      "SAVING!!!!!\n",
      "661   <--x-->   662\n",
      "1866  from index\n",
      "662   <--x-->   662\n",
      "SAVING!!!!!\n",
      "662   <--x-->   662\n",
      "SAVING!!!!!\n",
      "662   <--x-->   662\n",
      "SAVING!!!!!\n",
      "662   <--x-->   663\n",
      "1869  from index\n",
      "663   <--x-->   663\n",
      "SAVING!!!!!\n",
      "663   <--x-->   663\n",
      "SAVING!!!!!\n",
      "663   <--x-->   663\n",
      "SAVING!!!!!\n",
      "663   <--x-->   664\n",
      "1872  from index\n",
      "664   <--x-->   664\n",
      "SAVING!!!!!\n",
      "664   <--x-->   664\n",
      "SAVING!!!!!\n",
      "664   <--x-->   664\n",
      "SAVING!!!!!\n",
      "664   <--x-->   665\n",
      "1875  from index\n",
      "665   <--x-->   665\n",
      "SAVING!!!!!\n",
      "665   <--x-->   665\n",
      "SAVING!!!!!\n",
      "665   <--x-->   665\n",
      "SAVING!!!!!\n",
      "665   <--x-->   666\n",
      "1878  from index\n",
      "666   <--x-->   666\n",
      "SAVING!!!!!\n",
      "666   <--x-->   666\n",
      "SAVING!!!!!\n",
      "666   <--x-->   666\n",
      "SAVING!!!!!\n",
      "666   <--x-->   667\n",
      "1881  from index\n",
      "667   <--x-->   667\n",
      "SAVING!!!!!\n",
      "667   <--x-->   667\n",
      "SAVING!!!!!\n",
      "667   <--x-->   667\n",
      "SAVING!!!!!\n",
      "667   <--x-->   667\n",
      "SAVING!!!!!\n",
      "667   <--x-->   668\n",
      "1885  from index\n",
      "668   <--x-->   668\n",
      "SAVING!!!!!\n",
      "668   <--x-->   668\n",
      "SAVING!!!!!\n",
      "668   <--x-->   668\n",
      "SAVING!!!!!\n",
      "668   <--x-->   668\n",
      "SAVING!!!!!\n",
      "668   <--x-->   669\n",
      "1889  from index\n",
      "669   <--x-->   669\n",
      "SAVING!!!!!\n",
      "669   <--x-->   669\n",
      "SAVING!!!!!\n",
      "669   <--x-->   669\n",
      "SAVING!!!!!\n",
      "669   <--x-->   669\n",
      "SAVING!!!!!\n",
      "669   <--x-->   670\n",
      "1893  from index\n",
      "670   <--x-->   670\n",
      "SAVING!!!!!\n",
      "670   <--x-->   670\n",
      "SAVING!!!!!\n",
      "670   <--x-->   670\n",
      "SAVING!!!!!\n",
      "670   <--x-->   670\n",
      "SAVING!!!!!\n",
      "670   <--x-->   671\n",
      "1897  from index\n",
      "671   <--x-->   671\n",
      "SAVING!!!!!\n",
      "671   <--x-->   671\n",
      "SAVING!!!!!\n",
      "671   <--x-->   671\n",
      "SAVING!!!!!\n",
      "671   <--x-->   671\n",
      "SAVING!!!!!\n",
      "671   <--x-->   672\n",
      "1901  from index\n",
      "672   <--x-->   672\n",
      "SAVING!!!!!\n",
      "672   <--x-->   672\n",
      "SAVING!!!!!\n",
      "672   <--x-->   672\n",
      "SAVING!!!!!\n",
      "672   <--x-->   672\n",
      "SAVING!!!!!\n",
      "672   <--x-->   673\n",
      "1905  from index\n",
      "673   <--x-->   673\n",
      "SAVING!!!!!\n",
      "673   <--x-->   673\n",
      "SAVING!!!!!\n",
      "673   <--x-->   673\n",
      "SAVING!!!!!\n",
      "673   <--x-->   673\n",
      "SAVING!!!!!\n",
      "673   <--x-->   674\n",
      "1909  from index\n",
      "674   <--x-->   674\n",
      "SAVING!!!!!\n",
      "674   <--x-->   674\n",
      "SAVING!!!!!\n",
      "674   <--x-->   674\n",
      "SAVING!!!!!\n",
      "674   <--x-->   674\n",
      "SAVING!!!!!\n",
      "674   <--x-->   675\n",
      "1913  from index\n",
      "675   <--x-->   675\n",
      "SAVING!!!!!\n",
      "675   <--x-->   675\n",
      "SAVING!!!!!\n",
      "675   <--x-->   675\n",
      "SAVING!!!!!\n",
      "675   <--x-->   675\n",
      "SAVING!!!!!\n",
      "675   <--x-->   676\n",
      "1917  from index\n",
      "676   <--x-->   676\n",
      "SAVING!!!!!\n",
      "676   <--x-->   676\n",
      "SAVING!!!!!\n",
      "676   <--x-->   676\n",
      "SAVING!!!!!\n",
      "676   <--x-->   676\n",
      "SAVING!!!!!\n",
      "676   <--x-->   677\n",
      "1921  from index\n",
      "677   <--x-->   677\n",
      "SAVING!!!!!\n",
      "677   <--x-->   677\n",
      "SAVING!!!!!\n",
      "677   <--x-->   677\n",
      "SAVING!!!!!\n",
      "677   <--x-->   678\n",
      "1924  from index\n",
      "678   <--x-->   678\n",
      "SAVING!!!!!\n",
      "678   <--x-->   678\n",
      "SAVING!!!!!\n",
      "678   <--x-->   678\n",
      "SAVING!!!!!\n",
      "678   <--x-->   679\n",
      "1927  from index\n",
      "679   <--x-->   679\n",
      "SAVING!!!!!\n",
      "679   <--x-->   679\n",
      "SAVING!!!!!\n",
      "679   <--x-->   679\n",
      "SAVING!!!!!\n",
      "679   <--x-->   680\n",
      "1930  from index\n",
      "680   <--x-->   680\n",
      "SAVING!!!!!\n",
      "680   <--x-->   680\n",
      "SAVING!!!!!\n",
      "680   <--x-->   680\n",
      "SAVING!!!!!\n",
      "680   <--x-->   681\n",
      "1933  from index\n",
      "681   <--x-->   681\n",
      "SAVING!!!!!\n",
      "681   <--x-->   681\n",
      "SAVING!!!!!\n",
      "681   <--x-->   681\n",
      "SAVING!!!!!\n",
      "681   <--x-->   682\n",
      "1936  from index\n",
      "682   <--x-->   682\n",
      "SAVING!!!!!\n",
      "682   <--x-->   682\n",
      "SAVING!!!!!\n",
      "682   <--x-->   682\n",
      "SAVING!!!!!\n",
      "682   <--x-->   683\n",
      "1939  from index\n",
      "683   <--x-->   683\n",
      "SAVING!!!!!\n",
      "683   <--x-->   683\n",
      "SAVING!!!!!\n",
      "683   <--x-->   683\n",
      "SAVING!!!!!\n",
      "683   <--x-->   684\n",
      "1942  from index\n",
      "684   <--x-->   684\n",
      "SAVING!!!!!\n",
      "684   <--x-->   684\n",
      "SAVING!!!!!\n",
      "684   <--x-->   684\n",
      "SAVING!!!!!\n",
      "684   <--x-->   685\n",
      "1945  from index\n",
      "685   <--x-->   685\n",
      "SAVING!!!!!\n",
      "685   <--x-->   685\n",
      "SAVING!!!!!\n",
      "685   <--x-->   685\n",
      "SAVING!!!!!\n",
      "685   <--x-->   686\n",
      "1948  from index\n",
      "686   <--x-->   686\n",
      "SAVING!!!!!\n",
      "686   <--x-->   686\n",
      "SAVING!!!!!\n",
      "686   <--x-->   686\n",
      "SAVING!!!!!\n",
      "686   <--x-->   687\n",
      "1951  from index\n",
      "687   <--x-->   687\n",
      "SAVING!!!!!\n",
      "687   <--x-->   687\n",
      "SAVING!!!!!\n",
      "687   <--x-->   687\n",
      "SAVING!!!!!\n",
      "687   <--x-->   688\n",
      "1954  from index\n",
      "688   <--x-->   688\n",
      "SAVING!!!!!\n",
      "688   <--x-->   688\n",
      "SAVING!!!!!\n",
      "688   <--x-->   688\n",
      "SAVING!!!!!\n",
      "688   <--x-->   689\n",
      "1957  from index\n",
      "689   <--x-->   689\n",
      "SAVING!!!!!\n",
      "689   <--x-->   689\n",
      "SAVING!!!!!\n",
      "689   <--x-->   689\n",
      "SAVING!!!!!\n",
      "689   <--x-->   690\n",
      "1960  from index\n",
      "690   <--x-->   690\n",
      "SAVING!!!!!\n",
      "690   <--x-->   690\n",
      "SAVING!!!!!\n",
      "690   <--x-->   690\n",
      "SAVING!!!!!\n",
      "690   <--x-->   691\n",
      "1963  from index\n",
      "691   <--x-->   691\n",
      "SAVING!!!!!\n",
      "691   <--x-->   691\n",
      "SAVING!!!!!\n",
      "691   <--x-->   691\n",
      "SAVING!!!!!\n",
      "691   <--x-->   692\n",
      "1966  from index\n",
      "692   <--x-->   692\n",
      "SAVING!!!!!\n",
      "692   <--x-->   692\n",
      "SAVING!!!!!\n",
      "692   <--x-->   692\n",
      "SAVING!!!!!\n",
      "692   <--x-->   693\n",
      "1969  from index\n",
      "693   <--x-->   693\n",
      "SAVING!!!!!\n",
      "693   <--x-->   693\n",
      "SAVING!!!!!\n",
      "693   <--x-->   693\n",
      "SAVING!!!!!\n",
      "693   <--x-->   694\n",
      "1972  from index\n",
      "694   <--x-->   694\n",
      "SAVING!!!!!\n",
      "694   <--x-->   694\n",
      "SAVING!!!!!\n",
      "694   <--x-->   694\n",
      "SAVING!!!!!\n",
      "694   <--x-->   695\n",
      "1975  from index\n",
      "695   <--x-->   695\n",
      "SAVING!!!!!\n",
      "695   <--x-->   695\n",
      "SAVING!!!!!\n",
      "695   <--x-->   695\n",
      "SAVING!!!!!\n",
      "695   <--x-->   696\n",
      "1978  from index\n",
      "696   <--x-->   696\n",
      "SAVING!!!!!\n",
      "696   <--x-->   696\n",
      "SAVING!!!!!\n",
      "696   <--x-->   696\n",
      "SAVING!!!!!\n",
      "696   <--x-->   697\n",
      "1981  from index\n",
      "697   <--x-->   697\n",
      "SAVING!!!!!\n",
      "697   <--x-->   697\n",
      "SAVING!!!!!\n",
      "697   <--x-->   697\n",
      "SAVING!!!!!\n",
      "697   <--x-->   698\n",
      "1984  from index\n",
      "698   <--x-->   698\n",
      "SAVING!!!!!\n",
      "698   <--x-->   698\n",
      "SAVING!!!!!\n",
      "698   <--x-->   698\n",
      "SAVING!!!!!\n",
      "698   <--x-->   699\n",
      "1987  from index\n",
      "699   <--x-->   699\n",
      "SAVING!!!!!\n",
      "699   <--x-->   699\n",
      "SAVING!!!!!\n",
      "699   <--x-->   699\n",
      "SAVING!!!!!\n",
      "699   <--x-->   700\n",
      "1990  from index\n",
      "700   <--x-->   700\n",
      "SAVING!!!!!\n",
      "700   <--x-->   700\n",
      "SAVING!!!!!\n",
      "700   <--x-->   700\n",
      "SAVING!!!!!\n",
      "700   <--x-->   700\n",
      "SAVING!!!!!\n",
      "700   <--x-->   701\n",
      "1994  from index\n",
      "701   <--x-->   701\n",
      "SAVING!!!!!\n",
      "701   <--x-->   701\n",
      "SAVING!!!!!\n",
      "701   <--x-->   701\n",
      "SAVING!!!!!\n",
      "701   <--x-->   701\n",
      "SAVING!!!!!\n",
      "701   <--x-->   702\n",
      "1998  from index\n",
      "702   <--x-->   702\n",
      "SAVING!!!!!\n",
      "702   <--x-->   702\n",
      "SAVING!!!!!\n",
      "702   <--x-->   702\n",
      "SAVING!!!!!\n",
      "702   <--x-->   702\n",
      "SAVING!!!!!\n",
      "702   <--x-->   703\n",
      "2002  from index\n",
      "703   <--x-->   703\n",
      "SAVING!!!!!\n",
      "703   <--x-->   703\n",
      "SAVING!!!!!\n",
      "703   <--x-->   703\n",
      "SAVING!!!!!\n",
      "703   <--x-->   703\n",
      "SAVING!!!!!\n",
      "703   <--x-->   704\n",
      "2006  from index\n",
      "704   <--x-->   704\n",
      "SAVING!!!!!\n",
      "704   <--x-->   704\n",
      "SAVING!!!!!\n",
      "704   <--x-->   704\n",
      "SAVING!!!!!\n",
      "704   <--x-->   704\n",
      "SAVING!!!!!\n",
      "704   <--x-->   705\n",
      "2010  from index\n",
      "705   <--x-->   705\n",
      "SAVING!!!!!\n",
      "705   <--x-->   705\n",
      "SAVING!!!!!\n",
      "705   <--x-->   705\n",
      "SAVING!!!!!\n",
      "705   <--x-->   705\n",
      "SAVING!!!!!\n",
      "705   <--x-->   706\n",
      "2014  from index\n",
      "706   <--x-->   706\n",
      "SAVING!!!!!\n",
      "706   <--x-->   706\n",
      "SAVING!!!!!\n",
      "706   <--x-->   706\n",
      "SAVING!!!!!\n",
      "706   <--x-->   706\n",
      "SAVING!!!!!\n",
      "706   <--x-->   707\n",
      "2018  from index\n",
      "707   <--x-->   707\n",
      "SAVING!!!!!\n",
      "707   <--x-->   707\n",
      "SAVING!!!!!\n",
      "707   <--x-->   707\n",
      "SAVING!!!!!\n",
      "707   <--x-->   707\n",
      "SAVING!!!!!\n",
      "707   <--x-->   708\n",
      "2022  from index\n",
      "708   <--x-->   708\n",
      "SAVING!!!!!\n",
      "708   <--x-->   708\n",
      "SAVING!!!!!\n",
      "708   <--x-->   708\n",
      "SAVING!!!!!\n",
      "708   <--x-->   708\n",
      "SAVING!!!!!\n",
      "708   <--x-->   709\n",
      "2026  from index\n",
      "709   <--x-->   709\n",
      "SAVING!!!!!\n",
      "709   <--x-->   709\n",
      "SAVING!!!!!\n",
      "709   <--x-->   709\n",
      "SAVING!!!!!\n",
      "709   <--x-->   709\n",
      "SAVING!!!!!\n",
      "709   <--x-->   710\n",
      "2030  from index\n",
      "710   <--x-->   710\n",
      "SAVING!!!!!\n",
      "710   <--x-->   710\n",
      "SAVING!!!!!\n",
      "710   <--x-->   710\n",
      "SAVING!!!!!\n",
      "710   <--x-->   710\n",
      "SAVING!!!!!\n",
      "710   <--x-->   711\n",
      "2034  from index\n",
      "711   <--x-->   711\n",
      "SAVING!!!!!\n",
      "711   <--x-->   711\n",
      "SAVING!!!!!\n",
      "711   <--x-->   711\n",
      "SAVING!!!!!\n",
      "711   <--x-->   711\n",
      "SAVING!!!!!\n",
      "711   <--x-->   712\n",
      "2038  from index\n",
      "712   <--x-->   712\n",
      "SAVING!!!!!\n",
      "712   <--x-->   712\n",
      "SAVING!!!!!\n",
      "712   <--x-->   712\n",
      "SAVING!!!!!\n",
      "712   <--x-->   712\n",
      "SAVING!!!!!\n",
      "712   <--x-->   713\n",
      "2042  from index\n",
      "713   <--x-->   713\n",
      "SAVING!!!!!\n",
      "713   <--x-->   713\n",
      "SAVING!!!!!\n",
      "713   <--x-->   713\n",
      "SAVING!!!!!\n",
      "713   <--x-->   713\n",
      "SAVING!!!!!\n",
      "713   <--x-->   714\n",
      "2046  from index\n",
      "714   <--x-->   714\n",
      "SAVING!!!!!\n",
      "714   <--x-->   714\n",
      "SAVING!!!!!\n",
      "714   <--x-->   714\n",
      "SAVING!!!!!\n",
      "714   <--x-->   714\n",
      "SAVING!!!!!\n",
      "714   <--x-->   715\n",
      "2050  from index\n",
      "715   <--x-->   715\n",
      "SAVING!!!!!\n",
      "715   <--x-->   715\n",
      "SAVING!!!!!\n",
      "715   <--x-->   715\n",
      "SAVING!!!!!\n",
      "715   <--x-->   715\n",
      "SAVING!!!!!\n",
      "715   <--x-->   716\n",
      "2054  from index\n",
      "716   <--x-->   716\n",
      "SAVING!!!!!\n",
      "716   <--x-->   716\n",
      "SAVING!!!!!\n",
      "716   <--x-->   716\n",
      "SAVING!!!!!\n",
      "716   <--x-->   717\n",
      "2057  from index\n",
      "717   <--x-->   717\n",
      "SAVING!!!!!\n",
      "717   <--x-->   717\n",
      "SAVING!!!!!\n",
      "717   <--x-->   717\n",
      "SAVING!!!!!\n",
      "717   <--x-->   718\n",
      "2060  from index\n",
      "718   <--x-->   718\n",
      "SAVING!!!!!\n",
      "718   <--x-->   718\n",
      "SAVING!!!!!\n",
      "718   <--x-->   718\n",
      "SAVING!!!!!\n",
      "718   <--x-->   719\n",
      "2063  from index\n",
      "719   <--x-->   719\n",
      "SAVING!!!!!\n",
      "719   <--x-->   719\n",
      "SAVING!!!!!\n",
      "719   <--x-->   719\n",
      "SAVING!!!!!\n",
      "719   <--x-->   720\n",
      "2066  from index\n",
      "720   <--x-->   720\n",
      "SAVING!!!!!\n",
      "720   <--x-->   720\n",
      "SAVING!!!!!\n",
      "720   <--x-->   720\n",
      "SAVING!!!!!\n",
      "720   <--x-->   721\n",
      "2069  from index\n",
      "721   <--x-->   721\n",
      "SAVING!!!!!\n",
      "721   <--x-->   721\n",
      "SAVING!!!!!\n",
      "721   <--x-->   721\n",
      "SAVING!!!!!\n",
      "721   <--x-->   722\n",
      "2072  from index\n",
      "722   <--x-->   722\n",
      "SAVING!!!!!\n",
      "722   <--x-->   722\n",
      "SAVING!!!!!\n",
      "722   <--x-->   722\n",
      "SAVING!!!!!\n",
      "722   <--x-->   723\n",
      "2075  from index\n",
      "723   <--x-->   723\n",
      "SAVING!!!!!\n",
      "723   <--x-->   723\n",
      "SAVING!!!!!\n",
      "723   <--x-->   723\n",
      "SAVING!!!!!\n",
      "723   <--x-->   724\n",
      "2078  from index\n",
      "724   <--x-->   724\n",
      "SAVING!!!!!\n",
      "724   <--x-->   724\n",
      "SAVING!!!!!\n",
      "724   <--x-->   724\n",
      "SAVING!!!!!\n",
      "724   <--x-->   725\n",
      "2081  from index\n",
      "725   <--x-->   725\n",
      "SAVING!!!!!\n",
      "725   <--x-->   725\n",
      "SAVING!!!!!\n",
      "725   <--x-->   725\n",
      "SAVING!!!!!\n",
      "725   <--x-->   726\n",
      "2084  from index\n",
      "726   <--x-->   726\n",
      "SAVING!!!!!\n",
      "726   <--x-->   726\n",
      "SAVING!!!!!\n",
      "726   <--x-->   726\n",
      "SAVING!!!!!\n",
      "726   <--x-->   727\n",
      "2087  from index\n",
      "727   <--x-->   727\n",
      "SAVING!!!!!\n",
      "727   <--x-->   727\n",
      "SAVING!!!!!\n",
      "727   <--x-->   727\n",
      "SAVING!!!!!\n",
      "727   <--x-->   728\n",
      "2090  from index\n",
      "728   <--x-->   728\n",
      "SAVING!!!!!\n",
      "728   <--x-->   728\n",
      "SAVING!!!!!\n",
      "728   <--x-->   728\n",
      "SAVING!!!!!\n",
      "728   <--x-->   729\n",
      "2093  from index\n",
      "729   <--x-->   729\n",
      "SAVING!!!!!\n",
      "729   <--x-->   729\n",
      "SAVING!!!!!\n",
      "729   <--x-->   729\n",
      "SAVING!!!!!\n",
      "729   <--x-->   729\n",
      "SAVING!!!!!\n",
      "729   <--x-->   730\n",
      "2097  from index\n",
      "730   <--x-->   730\n",
      "SAVING!!!!!\n",
      "730   <--x-->   730\n",
      "SAVING!!!!!\n",
      "730   <--x-->   730\n",
      "SAVING!!!!!\n",
      "730   <--x-->   730\n",
      "SAVING!!!!!\n",
      "730   <--x-->   731\n",
      "2101  from index\n",
      "731   <--x-->   731\n",
      "SAVING!!!!!\n",
      "731   <--x-->   731\n",
      "SAVING!!!!!\n",
      "731   <--x-->   731\n",
      "SAVING!!!!!\n",
      "731   <--x-->   731\n",
      "SAVING!!!!!\n",
      "731   <--x-->   732\n",
      "2105  from index\n",
      "732   <--x-->   732\n",
      "SAVING!!!!!\n",
      "732   <--x-->   732\n",
      "SAVING!!!!!\n",
      "732   <--x-->   732\n",
      "SAVING!!!!!\n",
      "732   <--x-->   732\n",
      "SAVING!!!!!\n",
      "732   <--x-->   733\n",
      "2109  from index\n",
      "733   <--x-->   733\n",
      "SAVING!!!!!\n",
      "733   <--x-->   733\n",
      "SAVING!!!!!\n",
      "733   <--x-->   733\n",
      "SAVING!!!!!\n",
      "733   <--x-->   733\n",
      "SAVING!!!!!\n",
      "733   <--x-->   734\n",
      "2113  from index\n",
      "734   <--x-->   734\n",
      "SAVING!!!!!\n",
      "734   <--x-->   734\n",
      "SAVING!!!!!\n",
      "734   <--x-->   734\n",
      "SAVING!!!!!\n",
      "734   <--x-->   734\n",
      "SAVING!!!!!\n",
      "734   <--x-->   735\n",
      "2117  from index\n",
      "735   <--x-->   735\n",
      "SAVING!!!!!\n",
      "735   <--x-->   735\n",
      "SAVING!!!!!\n",
      "735   <--x-->   735\n",
      "SAVING!!!!!\n",
      "735   <--x-->   735\n",
      "SAVING!!!!!\n",
      "735   <--x-->   736\n",
      "2121  from index\n",
      "736   <--x-->   736\n",
      "SAVING!!!!!\n",
      "736   <--x-->   736\n",
      "SAVING!!!!!\n",
      "736   <--x-->   736\n",
      "SAVING!!!!!\n",
      "736   <--x-->   736\n",
      "SAVING!!!!!\n",
      "736   <--x-->   737\n",
      "2125  from index\n",
      "737   <--x-->   737\n",
      "SAVING!!!!!\n",
      "737   <--x-->   737\n",
      "SAVING!!!!!\n",
      "737   <--x-->   737\n",
      "SAVING!!!!!\n",
      "737   <--x-->   737\n",
      "SAVING!!!!!\n",
      "737   <--x-->   738\n",
      "2129  from index\n",
      "738   <--x-->   738\n",
      "SAVING!!!!!\n",
      "738   <--x-->   738\n",
      "SAVING!!!!!\n",
      "738   <--x-->   738\n",
      "SAVING!!!!!\n",
      "738   <--x-->   738\n",
      "SAVING!!!!!\n",
      "738   <--x-->   739\n",
      "2133  from index\n",
      "739   <--x-->   739\n",
      "SAVING!!!!!\n",
      "739   <--x-->   739\n",
      "SAVING!!!!!\n",
      "739   <--x-->   739\n",
      "SAVING!!!!!\n",
      "739   <--x-->   740\n",
      "2136  from index\n",
      "740   <--x-->   740\n",
      "SAVING!!!!!\n",
      "740   <--x-->   740\n",
      "SAVING!!!!!\n",
      "740   <--x-->   740\n",
      "SAVING!!!!!\n",
      "740   <--x-->   741\n",
      "2139  from index\n",
      "741   <--x-->   741\n",
      "SAVING!!!!!\n",
      "741   <--x-->   741\n",
      "SAVING!!!!!\n",
      "741   <--x-->   741\n",
      "SAVING!!!!!\n",
      "741   <--x-->   742\n",
      "2142  from index\n",
      "742   <--x-->   742\n",
      "SAVING!!!!!\n",
      "742   <--x-->   742\n",
      "SAVING!!!!!\n",
      "742   <--x-->   742\n",
      "SAVING!!!!!\n",
      "742   <--x-->   743\n",
      "2145  from index\n",
      "743   <--x-->   743\n",
      "SAVING!!!!!\n",
      "743   <--x-->   743\n",
      "SAVING!!!!!\n",
      "743   <--x-->   743\n",
      "SAVING!!!!!\n",
      "743   <--x-->   744\n",
      "2148  from index\n",
      "744   <--x-->   744\n",
      "SAVING!!!!!\n",
      "744   <--x-->   744\n",
      "SAVING!!!!!\n",
      "744   <--x-->   744\n",
      "SAVING!!!!!\n",
      "744   <--x-->   745\n",
      "2151  from index\n",
      "745   <--x-->   745\n",
      "SAVING!!!!!\n",
      "745   <--x-->   745\n",
      "SAVING!!!!!\n",
      "745   <--x-->   745\n",
      "SAVING!!!!!\n",
      "745   <--x-->   746\n",
      "2154  from index\n",
      "746   <--x-->   746\n",
      "SAVING!!!!!\n",
      "746   <--x-->   746\n",
      "SAVING!!!!!\n",
      "746   <--x-->   746\n",
      "SAVING!!!!!\n",
      "746   <--x-->   747\n",
      "2157  from index\n",
      "747   <--x-->   747\n",
      "SAVING!!!!!\n",
      "747   <--x-->   747\n",
      "SAVING!!!!!\n",
      "747   <--x-->   747\n",
      "SAVING!!!!!\n",
      "747   <--x-->   748\n",
      "2160  from index\n",
      "748   <--x-->   748\n",
      "SAVING!!!!!\n",
      "748   <--x-->   748\n",
      "SAVING!!!!!\n",
      "748   <--x-->   748\n",
      "SAVING!!!!!\n",
      "748   <--x-->   749\n",
      "2163  from index\n",
      "749   <--x-->   749\n",
      "SAVING!!!!!\n",
      "749   <--x-->   749\n",
      "SAVING!!!!!\n",
      "749   <--x-->   749\n",
      "SAVING!!!!!\n",
      "749   <--x-->   750\n",
      "2166  from index\n",
      "750   <--x-->   750\n",
      "SAVING!!!!!\n",
      "750   <--x-->   750\n",
      "SAVING!!!!!\n",
      "750   <--x-->   750\n",
      "SAVING!!!!!\n",
      "750   <--x-->   751\n",
      "2169  from index\n",
      "751   <--x-->   751\n",
      "SAVING!!!!!\n",
      "751   <--x-->   751\n",
      "SAVING!!!!!\n",
      "751   <--x-->   751\n",
      "SAVING!!!!!\n",
      "751   <--x-->   752\n",
      "2172  from index\n",
      "752   <--x-->   752\n",
      "SAVING!!!!!\n",
      "752   <--x-->   752\n",
      "SAVING!!!!!\n",
      "752   <--x-->   752\n",
      "SAVING!!!!!\n",
      "752   <--x-->   753\n",
      "2175  from index\n",
      "753   <--x-->   753\n",
      "SAVING!!!!!\n",
      "753   <--x-->   753\n",
      "SAVING!!!!!\n",
      "753   <--x-->   753\n",
      "SAVING!!!!!\n",
      "753   <--x-->   754\n",
      "2178  from index\n",
      "754   <--x-->   754\n",
      "SAVING!!!!!\n",
      "754   <--x-->   754\n",
      "SAVING!!!!!\n",
      "754   <--x-->   754\n",
      "SAVING!!!!!\n",
      "754   <--x-->   755\n",
      "2181  from index\n",
      "755   <--x-->   755\n",
      "SAVING!!!!!\n",
      "755   <--x-->   755\n",
      "SAVING!!!!!\n",
      "755   <--x-->   755\n",
      "SAVING!!!!!\n",
      "755   <--x-->   756\n",
      "2184  from index\n",
      "756   <--x-->   756\n",
      "SAVING!!!!!\n",
      "756   <--x-->   756\n",
      "SAVING!!!!!\n",
      "756   <--x-->   756\n",
      "SAVING!!!!!\n",
      "756   <--x-->   757\n",
      "2187  from index\n",
      "757   <--x-->   757\n",
      "SAVING!!!!!\n",
      "757   <--x-->   757\n",
      "SAVING!!!!!\n",
      "757   <--x-->   757\n",
      "SAVING!!!!!\n",
      "757   <--x-->   758\n",
      "2190  from index\n",
      "758   <--x-->   758\n",
      "SAVING!!!!!\n",
      "758   <--x-->   758\n",
      "SAVING!!!!!\n",
      "758   <--x-->   758\n",
      "SAVING!!!!!\n",
      "758   <--x-->   759\n",
      "2193  from index\n",
      "759   <--x-->   759\n",
      "SAVING!!!!!\n",
      "759   <--x-->   759\n",
      "SAVING!!!!!\n",
      "759   <--x-->   759\n",
      "SAVING!!!!!\n",
      "759   <--x-->   760\n",
      "2196  from index\n",
      "760   <--x-->   760\n",
      "SAVING!!!!!\n",
      "760   <--x-->   760\n",
      "SAVING!!!!!\n",
      "760   <--x-->   760\n",
      "SAVING!!!!!\n",
      "760   <--x-->   761\n",
      "2199  from index\n",
      "761   <--x-->   761\n",
      "SAVING!!!!!\n",
      "761   <--x-->   761\n",
      "SAVING!!!!!\n",
      "761   <--x-->   761\n",
      "SAVING!!!!!\n",
      "761   <--x-->   762\n",
      "2202  from index\n",
      "762   <--x-->   762\n",
      "SAVING!!!!!\n",
      "762   <--x-->   762\n",
      "SAVING!!!!!\n",
      "762   <--x-->   762\n",
      "SAVING!!!!!\n",
      "762   <--x-->   763\n",
      "2205  from index\n",
      "763   <--x-->   763\n",
      "SAVING!!!!!\n",
      "763   <--x-->   763\n",
      "SAVING!!!!!\n",
      "763   <--x-->   763\n",
      "SAVING!!!!!\n",
      "763   <--x-->   764\n",
      "2208  from index\n",
      "764   <--x-->   764\n",
      "SAVING!!!!!\n",
      "764   <--x-->   764\n",
      "SAVING!!!!!\n",
      "764   <--x-->   764\n",
      "SAVING!!!!!\n",
      "764   <--x-->   765\n",
      "2211  from index\n",
      "765   <--x-->   765\n",
      "SAVING!!!!!\n",
      "765   <--x-->   765\n",
      "SAVING!!!!!\n",
      "765   <--x-->   765\n",
      "SAVING!!!!!\n",
      "765   <--x-->   766\n",
      "2214  from index\n",
      "766   <--x-->   766\n",
      "SAVING!!!!!\n",
      "766   <--x-->   766\n",
      "SAVING!!!!!\n",
      "766   <--x-->   766\n",
      "SAVING!!!!!\n",
      "766   <--x-->   766\n",
      "SAVING!!!!!\n",
      "766   <--x-->   767\n",
      "2218  from index\n",
      "767   <--x-->   767\n",
      "SAVING!!!!!\n",
      "767   <--x-->   767\n",
      "SAVING!!!!!\n",
      "767   <--x-->   767\n",
      "SAVING!!!!!\n",
      "767   <--x-->   767\n",
      "SAVING!!!!!\n",
      "767   <--x-->   768\n",
      "2222  from index\n",
      "768   <--x-->   768\n",
      "SAVING!!!!!\n",
      "768   <--x-->   768\n",
      "SAVING!!!!!\n",
      "768   <--x-->   768\n",
      "SAVING!!!!!\n",
      "768   <--x-->   768\n",
      "SAVING!!!!!\n",
      "768   <--x-->   769\n",
      "2226  from index\n",
      "769   <--x-->   769\n",
      "SAVING!!!!!\n",
      "769   <--x-->   769\n",
      "SAVING!!!!!\n",
      "769   <--x-->   769\n",
      "SAVING!!!!!\n",
      "769   <--x-->   769\n",
      "SAVING!!!!!\n",
      "769   <--x-->   770\n",
      "2230  from index\n",
      "770   <--x-->   770\n",
      "SAVING!!!!!\n",
      "770   <--x-->   770\n",
      "SAVING!!!!!\n",
      "770   <--x-->   770\n",
      "SAVING!!!!!\n",
      "770   <--x-->   770\n",
      "SAVING!!!!!\n",
      "770   <--x-->   771\n",
      "2234  from index\n",
      "771   <--x-->   771\n",
      "SAVING!!!!!\n",
      "771   <--x-->   771\n",
      "SAVING!!!!!\n",
      "771   <--x-->   771\n",
      "SAVING!!!!!\n",
      "771   <--x-->   771\n",
      "SAVING!!!!!\n",
      "771   <--x-->   772\n",
      "2238  from index\n",
      "772   <--x-->   772\n",
      "SAVING!!!!!\n",
      "772   <--x-->   772\n",
      "SAVING!!!!!\n",
      "772   <--x-->   772\n",
      "SAVING!!!!!\n",
      "772   <--x-->   772\n",
      "SAVING!!!!!\n",
      "772   <--x-->   773\n",
      "2242  from index\n",
      "773   <--x-->   773\n",
      "SAVING!!!!!\n",
      "773   <--x-->   773\n",
      "SAVING!!!!!\n",
      "773   <--x-->   773\n",
      "SAVING!!!!!\n",
      "773   <--x-->   773\n",
      "SAVING!!!!!\n",
      "773   <--x-->   774\n",
      "2246  from index\n",
      "774   <--x-->   774\n",
      "SAVING!!!!!\n",
      "774   <--x-->   774\n",
      "SAVING!!!!!\n",
      "774   <--x-->   774\n",
      "SAVING!!!!!\n",
      "774   <--x-->   774\n",
      "SAVING!!!!!\n",
      "774   <--x-->   775\n",
      "2250  from index\n",
      "775   <--x-->   775\n",
      "SAVING!!!!!\n",
      "775   <--x-->   775\n",
      "SAVING!!!!!\n",
      "775   <--x-->   775\n",
      "SAVING!!!!!\n",
      "775   <--x-->   775\n",
      "SAVING!!!!!\n",
      "775   <--x-->   776\n",
      "2254  from index\n",
      "776   <--x-->   776\n",
      "SAVING!!!!!\n",
      "776   <--x-->   776\n",
      "SAVING!!!!!\n",
      "776   <--x-->   776\n",
      "SAVING!!!!!\n",
      "776   <--x-->   776\n",
      "SAVING!!!!!\n",
      "776   <--x-->   777\n",
      "2258  from index\n",
      "777   <--x-->   777\n",
      "SAVING!!!!!\n",
      "777   <--x-->   777\n",
      "SAVING!!!!!\n",
      "777   <--x-->   777\n",
      "SAVING!!!!!\n",
      "777   <--x-->   778\n",
      "2261  from index\n",
      "778   <--x-->   778\n",
      "SAVING!!!!!\n",
      "778   <--x-->   778\n",
      "SAVING!!!!!\n",
      "778   <--x-->   778\n",
      "SAVING!!!!!\n",
      "778   <--x-->   779\n",
      "2264  from index\n",
      "779   <--x-->   779\n",
      "SAVING!!!!!\n",
      "779   <--x-->   779\n",
      "SAVING!!!!!\n",
      "779   <--x-->   779\n",
      "SAVING!!!!!\n",
      "779   <--x-->   780\n",
      "2267  from index\n",
      "780   <--x-->   780\n",
      "SAVING!!!!!\n",
      "780   <--x-->   780\n",
      "SAVING!!!!!\n",
      "780   <--x-->   780\n",
      "SAVING!!!!!\n",
      "780   <--x-->   781\n",
      "2270  from index\n",
      "781   <--x-->   781\n",
      "SAVING!!!!!\n",
      "781   <--x-->   781\n",
      "SAVING!!!!!\n",
      "781   <--x-->   781\n",
      "SAVING!!!!!\n",
      "781   <--x-->   782\n",
      "2273  from index\n",
      "782   <--x-->   782\n",
      "SAVING!!!!!\n",
      "782   <--x-->   782\n",
      "SAVING!!!!!\n",
      "782   <--x-->   782\n",
      "SAVING!!!!!\n",
      "782   <--x-->   783\n",
      "2276  from index\n",
      "783   <--x-->   783\n",
      "SAVING!!!!!\n",
      "783   <--x-->   783\n",
      "SAVING!!!!!\n",
      "783   <--x-->   783\n",
      "SAVING!!!!!\n",
      "783   <--x-->   784\n",
      "2279  from index\n",
      "784   <--x-->   784\n",
      "SAVING!!!!!\n",
      "784   <--x-->   784\n",
      "SAVING!!!!!\n",
      "784   <--x-->   784\n",
      "SAVING!!!!!\n",
      "784   <--x-->   785\n",
      "2282  from index\n",
      "785   <--x-->   785\n",
      "SAVING!!!!!\n",
      "785   <--x-->   785\n",
      "SAVING!!!!!\n",
      "785   <--x-->   785\n",
      "SAVING!!!!!\n",
      "785   <--x-->   786\n",
      "2285  from index\n",
      "786   <--x-->   786\n",
      "SAVING!!!!!\n",
      "786   <--x-->   786\n",
      "SAVING!!!!!\n",
      "786   <--x-->   786\n",
      "SAVING!!!!!\n",
      "786   <--x-->   787\n",
      "2288  from index\n",
      "787   <--x-->   787\n",
      "SAVING!!!!!\n",
      "787   <--x-->   787\n",
      "SAVING!!!!!\n",
      "787   <--x-->   787\n",
      "SAVING!!!!!\n",
      "787   <--x-->   788\n",
      "2291  from index\n",
      "788   <--x-->   788\n",
      "SAVING!!!!!\n",
      "788   <--x-->   788\n",
      "SAVING!!!!!\n",
      "788   <--x-->   788\n",
      "SAVING!!!!!\n",
      "788   <--x-->   789\n",
      "2294  from index\n",
      "789   <--x-->   789\n",
      "SAVING!!!!!\n",
      "789   <--x-->   789\n",
      "SAVING!!!!!\n",
      "789   <--x-->   789\n",
      "SAVING!!!!!\n",
      "789   <--x-->   790\n",
      "2297  from index\n",
      "790   <--x-->   790\n",
      "SAVING!!!!!\n",
      "790   <--x-->   790\n",
      "SAVING!!!!!\n",
      "790   <--x-->   790\n",
      "SAVING!!!!!\n",
      "790   <--x-->   791\n",
      "2300  from index\n",
      "791   <--x-->   791\n",
      "SAVING!!!!!\n",
      "791   <--x-->   791\n",
      "SAVING!!!!!\n",
      "791   <--x-->   791\n",
      "SAVING!!!!!\n",
      "791   <--x-->   791\n",
      "SAVING!!!!!\n",
      "791   <--x-->   792\n",
      "2304  from index\n",
      "792   <--x-->   792\n",
      "SAVING!!!!!\n",
      "792   <--x-->   792\n",
      "SAVING!!!!!\n",
      "792   <--x-->   792\n",
      "SAVING!!!!!\n",
      "792   <--x-->   792\n",
      "SAVING!!!!!\n",
      "792   <--x-->   793\n",
      "2308  from index\n",
      "793   <--x-->   793\n",
      "SAVING!!!!!\n",
      "793   <--x-->   793\n",
      "SAVING!!!!!\n",
      "793   <--x-->   793\n",
      "SAVING!!!!!\n",
      "793   <--x-->   793\n",
      "SAVING!!!!!\n",
      "793   <--x-->   794\n",
      "2312  from index\n",
      "794   <--x-->   794\n",
      "SAVING!!!!!\n",
      "794   <--x-->   794\n",
      "SAVING!!!!!\n",
      "794   <--x-->   794\n",
      "SAVING!!!!!\n",
      "794   <--x-->   794\n",
      "SAVING!!!!!\n",
      "794   <--x-->   795\n",
      "2316  from index\n",
      "795   <--x-->   795\n",
      "SAVING!!!!!\n",
      "795   <--x-->   795\n",
      "SAVING!!!!!\n",
      "795   <--x-->   795\n",
      "SAVING!!!!!\n",
      "795   <--x-->   795\n",
      "SAVING!!!!!\n",
      "795   <--x-->   796\n",
      "2320  from index\n",
      "796   <--x-->   796\n",
      "SAVING!!!!!\n",
      "796   <--x-->   796\n",
      "SAVING!!!!!\n",
      "796   <--x-->   796\n",
      "SAVING!!!!!\n",
      "796   <--x-->   796\n",
      "SAVING!!!!!\n",
      "796   <--x-->   797\n",
      "2324  from index\n",
      "797   <--x-->   797\n",
      "SAVING!!!!!\n",
      "797   <--x-->   797\n",
      "SAVING!!!!!\n",
      "797   <--x-->   797\n",
      "SAVING!!!!!\n",
      "797   <--x-->   797\n",
      "SAVING!!!!!\n",
      "797   <--x-->   798\n",
      "2328  from index\n",
      "798   <--x-->   798\n",
      "SAVING!!!!!\n",
      "798   <--x-->   798\n",
      "SAVING!!!!!\n",
      "798   <--x-->   798\n",
      "SAVING!!!!!\n",
      "798   <--x-->   798\n",
      "SAVING!!!!!\n",
      "798   <--x-->   799\n",
      "2332  from index\n",
      "799   <--x-->   799\n",
      "SAVING!!!!!\n",
      "799   <--x-->   799\n",
      "SAVING!!!!!\n",
      "799   <--x-->   799\n",
      "SAVING!!!!!\n",
      "799   <--x-->   799\n",
      "SAVING!!!!!\n",
      "799   <--x-->   800\n",
      "2336  from index\n",
      "800   <--x-->   800\n",
      "SAVING!!!!!\n",
      "800   <--x-->   800\n",
      "SAVING!!!!!\n",
      "800   <--x-->   800\n",
      "SAVING!!!!!\n",
      "800   <--x-->   800\n",
      "SAVING!!!!!\n",
      "800   <--x-->   801\n",
      "2340  from index\n",
      "801   <--x-->   801\n",
      "SAVING!!!!!\n",
      "801   <--x-->   801\n",
      "SAVING!!!!!\n",
      "801   <--x-->   801\n",
      "SAVING!!!!!\n",
      "801   <--x-->   801\n",
      "SAVING!!!!!\n",
      "801   <--x-->   802\n",
      "2344  from index\n",
      "802   <--x-->   802\n",
      "SAVING!!!!!\n",
      "802   <--x-->   802\n",
      "SAVING!!!!!\n",
      "802   <--x-->   802\n",
      "SAVING!!!!!\n",
      "802   <--x-->   802\n",
      "SAVING!!!!!\n",
      "802   <--x-->   803\n",
      "2348  from index\n",
      "803   <--x-->   803\n",
      "SAVING!!!!!\n",
      "803   <--x-->   803\n",
      "SAVING!!!!!\n",
      "803   <--x-->   803\n",
      "SAVING!!!!!\n",
      "803   <--x-->   803\n",
      "SAVING!!!!!\n",
      "803   <--x-->   804\n",
      "2352  from index\n",
      "804   <--x-->   804\n",
      "SAVING!!!!!\n",
      "804   <--x-->   804\n",
      "SAVING!!!!!\n",
      "804   <--x-->   804\n",
      "SAVING!!!!!\n",
      "804   <--x-->   804\n",
      "SAVING!!!!!\n",
      "804   <--x-->   805\n",
      "2356  from index\n",
      "805   <--x-->   805\n",
      "SAVING!!!!!\n",
      "805   <--x-->   805\n",
      "SAVING!!!!!\n",
      "805   <--x-->   805\n",
      "SAVING!!!!!\n",
      "805   <--x-->   805\n",
      "SAVING!!!!!\n",
      "805   <--x-->   806\n",
      "2360  from index\n",
      "806   <--x-->   806\n",
      "SAVING!!!!!\n",
      "806   <--x-->   806\n",
      "SAVING!!!!!\n",
      "806   <--x-->   806\n",
      "SAVING!!!!!\n",
      "806   <--x-->   806\n",
      "SAVING!!!!!\n",
      "806   <--x-->   807\n",
      "2364  from index\n",
      "807   <--x-->   807\n",
      "SAVING!!!!!\n",
      "807   <--x-->   807\n",
      "SAVING!!!!!\n",
      "807   <--x-->   807\n",
      "SAVING!!!!!\n",
      "807   <--x-->   807\n",
      "SAVING!!!!!\n",
      "807   <--x-->   808\n",
      "2368  from index\n",
      "808   <--x-->   808\n",
      "SAVING!!!!!\n",
      "808   <--x-->   808\n",
      "SAVING!!!!!\n",
      "808   <--x-->   808\n",
      "SAVING!!!!!\n",
      "808   <--x-->   809\n",
      "2371  from index\n",
      "809   <--x-->   809\n",
      "SAVING!!!!!\n",
      "809   <--x-->   809\n",
      "SAVING!!!!!\n",
      "809   <--x-->   809\n",
      "SAVING!!!!!\n",
      "809   <--x-->   810\n",
      "2374  from index\n",
      "810   <--x-->   810\n",
      "SAVING!!!!!\n",
      "810   <--x-->   810\n",
      "SAVING!!!!!\n",
      "810   <--x-->   810\n",
      "SAVING!!!!!\n",
      "810   <--x-->   811\n",
      "2377  from index\n",
      "811   <--x-->   811\n",
      "SAVING!!!!!\n",
      "811   <--x-->   811\n",
      "SAVING!!!!!\n",
      "811   <--x-->   811\n",
      "SAVING!!!!!\n",
      "811   <--x-->   812\n",
      "2380  from index\n",
      "812   <--x-->   812\n",
      "SAVING!!!!!\n",
      "812   <--x-->   812\n",
      "SAVING!!!!!\n",
      "812   <--x-->   812\n",
      "SAVING!!!!!\n",
      "812   <--x-->   813\n",
      "2383  from index\n",
      "813   <--x-->   813\n",
      "SAVING!!!!!\n",
      "813   <--x-->   813\n",
      "SAVING!!!!!\n",
      "813   <--x-->   813\n",
      "SAVING!!!!!\n",
      "813   <--x-->   814\n",
      "2386  from index\n",
      "814   <--x-->   814\n",
      "SAVING!!!!!\n",
      "814   <--x-->   814\n",
      "SAVING!!!!!\n",
      "814   <--x-->   814\n",
      "SAVING!!!!!\n",
      "814   <--x-->   815\n",
      "2389  from index\n",
      "815   <--x-->   815\n",
      "SAVING!!!!!\n",
      "815   <--x-->   815\n",
      "SAVING!!!!!\n",
      "815   <--x-->   815\n",
      "SAVING!!!!!\n",
      "815   <--x-->   816\n",
      "2392  from index\n",
      "816   <--x-->   816\n",
      "SAVING!!!!!\n",
      "816   <--x-->   816\n",
      "SAVING!!!!!\n",
      "816   <--x-->   816\n",
      "SAVING!!!!!\n",
      "816   <--x-->   817\n",
      "2395  from index\n",
      "817   <--x-->   817\n",
      "SAVING!!!!!\n",
      "817   <--x-->   817\n",
      "SAVING!!!!!\n",
      "817   <--x-->   817\n",
      "SAVING!!!!!\n",
      "817   <--x-->   818\n",
      "2398  from index\n",
      "818   <--x-->   818\n",
      "SAVING!!!!!\n",
      "818   <--x-->   818\n",
      "SAVING!!!!!\n",
      "818   <--x-->   818\n",
      "SAVING!!!!!\n",
      "818   <--x-->   819\n",
      "2401  from index\n",
      "819   <--x-->   819\n",
      "SAVING!!!!!\n",
      "819   <--x-->   819\n",
      "SAVING!!!!!\n",
      "819   <--x-->   819\n",
      "SAVING!!!!!\n",
      "819   <--x-->   820\n",
      "2404  from index\n",
      "820   <--x-->   820\n",
      "SAVING!!!!!\n",
      "820   <--x-->   820\n",
      "SAVING!!!!!\n",
      "820   <--x-->   820\n",
      "SAVING!!!!!\n",
      "820   <--x-->   821\n",
      "2407  from index\n",
      "821   <--x-->   821\n",
      "SAVING!!!!!\n",
      "821   <--x-->   821\n",
      "SAVING!!!!!\n",
      "821   <--x-->   821\n",
      "SAVING!!!!!\n",
      "821   <--x-->   822\n",
      "2410  from index\n",
      "822   <--x-->   822\n",
      "SAVING!!!!!\n",
      "822   <--x-->   822\n",
      "SAVING!!!!!\n",
      "822   <--x-->   822\n",
      "SAVING!!!!!\n",
      "822   <--x-->   823\n",
      "2413  from index\n",
      "823   <--x-->   823\n",
      "SAVING!!!!!\n",
      "823   <--x-->   823\n",
      "SAVING!!!!!\n",
      "823   <--x-->   823\n",
      "SAVING!!!!!\n",
      "823   <--x-->   824\n",
      "2416  from index\n",
      "824   <--x-->   824\n",
      "SAVING!!!!!\n",
      "824   <--x-->   824\n",
      "SAVING!!!!!\n",
      "824   <--x-->   824\n",
      "SAVING!!!!!\n",
      "824   <--x-->   825\n",
      "2419  from index\n",
      "825   <--x-->   825\n",
      "SAVING!!!!!\n",
      "825   <--x-->   825\n",
      "SAVING!!!!!\n",
      "825   <--x-->   825\n",
      "SAVING!!!!!\n",
      "825   <--x-->   826\n",
      "2422  from index\n",
      "826   <--x-->   826\n",
      "SAVING!!!!!\n",
      "826   <--x-->   826\n",
      "SAVING!!!!!\n",
      "826   <--x-->   826\n",
      "SAVING!!!!!\n",
      "826   <--x-->   827\n",
      "2425  from index\n",
      "827   <--x-->   827\n",
      "SAVING!!!!!\n",
      "827   <--x-->   827\n",
      "SAVING!!!!!\n",
      "827   <--x-->   827\n",
      "SAVING!!!!!\n",
      "827   <--x-->   828\n",
      "2428  from index\n",
      "828   <--x-->   828\n",
      "SAVING!!!!!\n",
      "828   <--x-->   828\n",
      "SAVING!!!!!\n",
      "828   <--x-->   828\n",
      "SAVING!!!!!\n",
      "828   <--x-->   828\n",
      "SAVING!!!!!\n",
      "828   <--x-->   829\n",
      "2432  from index\n",
      "829   <--x-->   829\n",
      "SAVING!!!!!\n",
      "829   <--x-->   829\n",
      "SAVING!!!!!\n",
      "829   <--x-->   829\n",
      "SAVING!!!!!\n",
      "829   <--x-->   829\n",
      "SAVING!!!!!\n",
      "829   <--x-->   830\n",
      "2436  from index\n",
      "830   <--x-->   830\n",
      "SAVING!!!!!\n",
      "830   <--x-->   830\n",
      "SAVING!!!!!\n",
      "830   <--x-->   830\n",
      "SAVING!!!!!\n",
      "830   <--x-->   830\n",
      "SAVING!!!!!\n",
      "830   <--x-->   831\n",
      "2440  from index\n",
      "831   <--x-->   831\n",
      "SAVING!!!!!\n",
      "831   <--x-->   831\n",
      "SAVING!!!!!\n",
      "831   <--x-->   831\n",
      "SAVING!!!!!\n",
      "831   <--x-->   831\n",
      "SAVING!!!!!\n",
      "831   <--x-->   832\n",
      "2444  from index\n",
      "832   <--x-->   832\n",
      "SAVING!!!!!\n",
      "832   <--x-->   832\n",
      "SAVING!!!!!\n",
      "832   <--x-->   832\n",
      "SAVING!!!!!\n",
      "832   <--x-->   832\n",
      "SAVING!!!!!\n",
      "832   <--x-->   833\n",
      "2448  from index\n",
      "833   <--x-->   833\n",
      "SAVING!!!!!\n",
      "833   <--x-->   833\n",
      "SAVING!!!!!\n",
      "833   <--x-->   833\n",
      "SAVING!!!!!\n",
      "833   <--x-->   833\n",
      "SAVING!!!!!\n",
      "833   <--x-->   834\n",
      "2452  from index\n",
      "834   <--x-->   834\n",
      "SAVING!!!!!\n",
      "834   <--x-->   834\n",
      "SAVING!!!!!\n",
      "834   <--x-->   834\n",
      "SAVING!!!!!\n",
      "834   <--x-->   834\n",
      "SAVING!!!!!\n",
      "834   <--x-->   835\n",
      "2456  from index\n",
      "835   <--x-->   835\n",
      "SAVING!!!!!\n",
      "835   <--x-->   835\n",
      "SAVING!!!!!\n",
      "835   <--x-->   835\n",
      "SAVING!!!!!\n",
      "835   <--x-->   835\n",
      "SAVING!!!!!\n",
      "835   <--x-->   836\n",
      "2460  from index\n",
      "836   <--x-->   836\n",
      "SAVING!!!!!\n",
      "836   <--x-->   836\n",
      "SAVING!!!!!\n",
      "836   <--x-->   836\n",
      "SAVING!!!!!\n",
      "836   <--x-->   836\n",
      "SAVING!!!!!\n",
      "836   <--x-->   837\n",
      "2464  from index\n",
      "837   <--x-->   837\n",
      "SAVING!!!!!\n",
      "837   <--x-->   837\n",
      "SAVING!!!!!\n",
      "837   <--x-->   837\n",
      "SAVING!!!!!\n",
      "837   <--x-->   837\n",
      "SAVING!!!!!\n",
      "837   <--x-->   838\n",
      "2468  from index\n",
      "838   <--x-->   838\n",
      "SAVING!!!!!\n",
      "838   <--x-->   838\n",
      "SAVING!!!!!\n",
      "838   <--x-->   838\n",
      "SAVING!!!!!\n",
      "838   <--x-->   838\n",
      "SAVING!!!!!\n",
      "838   <--x-->   839\n",
      "2472  from index\n",
      "839   <--x-->   839\n",
      "SAVING!!!!!\n",
      "839   <--x-->   839\n",
      "SAVING!!!!!\n",
      "839   <--x-->   839\n",
      "SAVING!!!!!\n",
      "839   <--x-->   839\n",
      "SAVING!!!!!\n",
      "839   <--x-->   840\n",
      "2476  from index\n",
      "840   <--x-->   840\n",
      "SAVING!!!!!\n",
      "840   <--x-->   840\n",
      "SAVING!!!!!\n",
      "840   <--x-->   840\n",
      "SAVING!!!!!\n",
      "840   <--x-->   841\n",
      "2479  from index\n",
      "841   <--x-->   841\n",
      "SAVING!!!!!\n",
      "841   <--x-->   841\n",
      "SAVING!!!!!\n",
      "841   <--x-->   841\n",
      "SAVING!!!!!\n",
      "841   <--x-->   842\n",
      "2482  from index\n",
      "842   <--x-->   842\n",
      "SAVING!!!!!\n",
      "842   <--x-->   842\n",
      "SAVING!!!!!\n",
      "842   <--x-->   842\n",
      "SAVING!!!!!\n",
      "842   <--x-->   843\n",
      "2485  from index\n",
      "843   <--x-->   843\n",
      "SAVING!!!!!\n",
      "843   <--x-->   843\n",
      "SAVING!!!!!\n",
      "843   <--x-->   843\n",
      "SAVING!!!!!\n",
      "843   <--x-->   844\n",
      "2488  from index\n",
      "844   <--x-->   844\n",
      "SAVING!!!!!\n",
      "844   <--x-->   844\n",
      "SAVING!!!!!\n",
      "844   <--x-->   844\n",
      "SAVING!!!!!\n",
      "844   <--x-->   845\n",
      "2491  from index\n",
      "845   <--x-->   845\n",
      "SAVING!!!!!\n",
      "845   <--x-->   845\n",
      "SAVING!!!!!\n",
      "845   <--x-->   845\n",
      "SAVING!!!!!\n",
      "845   <--x-->   846\n",
      "2494  from index\n",
      "846   <--x-->   846\n",
      "SAVING!!!!!\n",
      "846   <--x-->   846\n",
      "SAVING!!!!!\n",
      "846   <--x-->   846\n",
      "SAVING!!!!!\n",
      "846   <--x-->   847\n",
      "2497  from index\n",
      "847   <--x-->   847\n",
      "SAVING!!!!!\n",
      "847   <--x-->   847\n",
      "SAVING!!!!!\n",
      "847   <--x-->   847\n",
      "SAVING!!!!!\n",
      "847   <--x-->   848\n",
      "2500  from index\n",
      "848   <--x-->   848\n",
      "SAVING!!!!!\n",
      "848   <--x-->   848\n",
      "SAVING!!!!!\n",
      "848   <--x-->   848\n",
      "SAVING!!!!!\n",
      "848   <--x-->   849\n",
      "2503  from index\n",
      "849   <--x-->   849\n",
      "SAVING!!!!!\n",
      "849   <--x-->   849\n",
      "SAVING!!!!!\n",
      "849   <--x-->   849\n",
      "SAVING!!!!!\n",
      "849   <--x-->   850\n",
      "2506  from index\n",
      "850   <--x-->   850\n",
      "SAVING!!!!!\n",
      "850   <--x-->   850\n",
      "SAVING!!!!!\n",
      "850   <--x-->   850\n",
      "SAVING!!!!!\n",
      "850   <--x-->   851\n",
      "2509  from index\n",
      "851   <--x-->   851\n",
      "SAVING!!!!!\n",
      "851   <--x-->   851\n",
      "SAVING!!!!!\n",
      "851   <--x-->   851\n",
      "SAVING!!!!!\n",
      "851   <--x-->   852\n",
      "2512  from index\n",
      "852   <--x-->   852\n",
      "SAVING!!!!!\n",
      "852   <--x-->   852\n",
      "SAVING!!!!!\n",
      "852   <--x-->   852\n",
      "SAVING!!!!!\n",
      "852   <--x-->   853\n",
      "2515  from index\n",
      "853   <--x-->   853\n",
      "SAVING!!!!!\n",
      "853   <--x-->   853\n",
      "SAVING!!!!!\n",
      "853   <--x-->   853\n",
      "SAVING!!!!!\n",
      "853   <--x-->   854\n",
      "2518  from index\n",
      "854   <--x-->   854\n",
      "SAVING!!!!!\n",
      "854   <--x-->   854\n",
      "SAVING!!!!!\n",
      "854   <--x-->   854\n",
      "SAVING!!!!!\n",
      "854   <--x-->   855\n",
      "2521  from index\n",
      "855   <--x-->   855\n",
      "SAVING!!!!!\n",
      "855   <--x-->   855\n",
      "SAVING!!!!!\n",
      "855   <--x-->   855\n",
      "SAVING!!!!!\n",
      "855   <--x-->   856\n",
      "2524  from index\n",
      "856   <--x-->   856\n",
      "SAVING!!!!!\n",
      "856   <--x-->   856\n",
      "SAVING!!!!!\n",
      "856   <--x-->   856\n",
      "SAVING!!!!!\n",
      "856   <--x-->   857\n",
      "2527  from index\n",
      "857   <--x-->   857\n",
      "SAVING!!!!!\n",
      "857   <--x-->   857\n",
      "SAVING!!!!!\n",
      "857   <--x-->   857\n",
      "SAVING!!!!!\n",
      "857   <--x-->   858\n",
      "2530  from index\n",
      "858   <--x-->   858\n",
      "SAVING!!!!!\n",
      "858   <--x-->   858\n",
      "SAVING!!!!!\n",
      "858   <--x-->   858\n",
      "SAVING!!!!!\n",
      "858   <--x-->   859\n",
      "2533  from index\n",
      "859   <--x-->   859\n",
      "SAVING!!!!!\n",
      "859   <--x-->   859\n",
      "SAVING!!!!!\n",
      "859   <--x-->   859\n",
      "SAVING!!!!!\n",
      "859   <--x-->   860\n",
      "done  identification35\n"
     ]
    }
   ],
   "source": [
    "thread_pool = []\n",
    "save_threads = []\n",
    "\n",
    "\n",
    "X1=200 #same as NEW_BLACK_X1\n",
    "X2=400 #same as NEW_BLACK_X2 # incase of x2 out of bound\n",
    "Y1=120\n",
    "Y2=500\n",
    "\n",
    "Y1_NEW=120 #125  #decrease here to extend, increase to shrink \n",
    "Y2_NEW=510  #500  # redyce here to extend , increase to do vice casa 460 previous\n",
    "FRAME = 1\n",
    "\n",
    "default=640\n",
    "\n",
    "BATCH = 100\n",
    "BATCH_COUNT = 1\n",
    "PREV_BATCH = 0\n",
    "\n",
    "LAST_SEEN = time.time()\n",
    "FIRST_SEEN = True\n",
    "demo_img_save_path = []\n",
    "main_df_lock = threading.Lock()\n",
    "\n",
    "\n",
    "#end\n",
    "prevId_record =[]\n",
    "MAX_prevId = [] \n",
    "MAX_xyxy1 = [] \n",
    "MAX_xyxy2 = [] \n",
    "MAX_xyxy3 = [] \n",
    "MAX_xyxy4 = [] \n",
    "MAX_orgId = []\n",
    "MAX_org_prod = []\n",
    "RANK_2 = []\n",
    "RANK_3 = []\n",
    "RANK_4 = []\n",
    "IMAGE_STORED_LOCATION = []\n",
    "IMAGE_ID_LIST = []\n",
    "LOCAL_ID_LIST = []\n",
    "#end\n",
    "#prevId_record =[]\n",
    "TOTAL_CATTLE_COUNT = 0 \n",
    "\n",
    "N_TOP = 5 # top predicted value \n",
    "\n",
    "#end\n",
    "\n",
    "#region Cattle Tracking\n",
    "STORED_IDS= []\n",
    "STORED_MID_Y = []\n",
    "STORED_MID_Y1 = []\n",
    "STORED_MID_Y2 = []\n",
    "STORED_MISS = []\n",
    "PREVIOUS_ID = [] # keep the record of last seen ids and position\n",
    "PREVIOUS_Y1 = [] \n",
    "PREVIOUS_Y2 = [] \n",
    "PREVIOUS_LOCAL_IDS = []\n",
    "CATTLE_LOCAL_ID= 1\n",
    "IS_FIRST_CATTLE = True\n",
    "\n",
    "UNKNOWN_CATTLE = 0\n",
    "start_time = time.time()\n",
    "\n",
    "MAIN_DF_COLUMNS = ['ImageId',\t'LocalId',\t'xyxy1',\t'xyxy2',\t'xyxy3',\t'xyxy4'] # using to store all cattle information in here instead of list\n",
    "MAIN_DF = pd.DataFrame(columns = MAIN_DF_COLUMNS)\n",
    "\n",
    "# Predict with the model\n",
    "project = 'D:/Python/SULarbmon/Python/env/yolov8_june/ultralytics/runs/segment/honkawa_1103_112_RANK/03_1_video'\n",
    "name = 'identification'\n",
    "dataset = \"D:\\\\815_CowDataChecking\\\\Honkawa\\\\2023-07-31\\\\03\\\\output_3fps\\\\20230731-030500-031000_10fps_3fps.mp4\"\n",
    "#save_vid_name=  dataset.split(\"\\\\\")[-1].replace('.mkv','_track')  #open this when running single video\n",
    "save_vid_name = dataset.split(\"\\\\\")[-1]+\"_track\" # open this when running multiple videos\n",
    "\n",
    "print(save_vid_name)\n",
    "results = model(dataset,imgsz=(960,640),save=False,retina_masks=False,show=False,stream=True,device='0',conf=0.3)\n",
    "#results = model('D:\\\\815_CowDataChecking\\\\20221228\\\\20221228_E_cow\\\\20221228_151533_D474.mkv',imgsz=1088,save=False,retina_masks=False,show=False,stream=True,device='0',conf=0.2)\n",
    "#save_dir = increment_path(Path(project) / name, exist_ok=True)  # increment run\n",
    "save_dir = increment_path(Path(project) / name,mkdir=True)\n",
    "csv_main_file_path = str(save_dir) + \"\\main_csv.csv\"\n",
    "#create_default_csv(csv_main_file_path)\n",
    "#(save_dir / 'labels' if False else save_dir).mkdir(parents=True, exist_ok=True)  # make dir\n",
    "manual_cow_count = 0\n",
    "\n",
    "#cap.set(4, 480)\n",
    "save_vid_path = str(Path(os.path.join(save_dir, save_vid_name)).with_suffix('.mp4'))\n",
    "print(save_vid_path)\n",
    "cap = cv2.VideoWriter(save_vid_path,cv2.VideoWriter_fourcc(*'mp4v'), 30, (960,640))\n",
    "skip_count = 2\n",
    "skip_track = 1\n",
    "image_count = 1\n",
    "\n",
    "SAVING_THRESHOLD =200\n",
    "SAVED_COUNT = 1\n",
    "\n",
    "CATTLE_SAVING_THRESHOLD = 15\n",
    "CATTLE_SAVED_COUNT = 0\n",
    "last_tracking_id = 0\n",
    "for result in results:\n",
    "    if(skip_track==2) and False:\n",
    "        skip_track = 1\n",
    "        continue\n",
    "    #skip_track+=1\n",
    "    \n",
    "    #print(result.boxes)\n",
    "    vid_path = result.path\n",
    "    filename = vid_path.split(\"\\\\\")[-1].replace(\".mp4\",\"\")\n",
    "    \n",
    "    boxes = result.boxes.cpu().numpy()\n",
    "    detections = boxes.xyxy.tolist()\n",
    "    #print(detections)\n",
    "    # Sort the detections based on the x1 coordinate (i.e., left-to-right)\n",
    "    #detections.sort(key=lambda x: x[0])\n",
    "    left_to_right = GET_LEFT_TO_RIGHT_ORDER([t[0] for t in detections])\n",
    "    #print('xxxxxxxxxxxxxxxxxxxxxxxxxxxxxxxxxxxxxxxxx')\n",
    "    #print(left_to_right)\n",
    "    #print(detections)\n",
    "    \n",
    "    ori_img = cv2.resize(result.orig_img, (640,384), interpolation = cv2.INTER_AREA)\n",
    "    annotator = Annotator(ori_img)\n",
    "    box_count = 0\n",
    "    cow_position = 1\n",
    "    \n",
    "    h,w = result.orig_shape\n",
    "    count = 1\n",
    "    b_boxes = []\n",
    "    masks = []\n",
    "    ids = []\n",
    "    has_cattle = False\n",
    "    \n",
    "    if  result.masks != None:\n",
    "        \n",
    "        #result_masks = result.masks.cpu().numpy().masks.astype(bool)\n",
    "        #for m in result.masks.cpu().numpy().masks.astype(bool):\n",
    "        result_masks = result.masks.cpu().numpy().masks.astype(bool)\n",
    "        \n",
    "        for LR_index in left_to_right:\n",
    "            m = result_masks[LR_index]\n",
    "        #for i in range(1,len(result_masks)+1):\n",
    "        #for m in result.masks.masks.astype(bool):\n",
    "            \n",
    "            xyxy = boxes[LR_index].xyxy[0]\n",
    "            #print('LR  INDEX  ',LR_index)\n",
    "            #print(xyxy)\n",
    "        #   m = result_masks[-1]\n",
    "            #print(xyxy)\n",
    "            #print(m.shape)\n",
    "            box_count += 1\n",
    "            x1= int(xyxy[0])\n",
    "            y1= int(xyxy[1])\n",
    "            x2= int(xyxy[2])\n",
    "            y2= int(xyxy[3])\n",
    "            #print(xyxy)\n",
    "            #print(m.shape)\n",
    "            \n",
    "            ################## Validate  #####################\n",
    "            if(check_withinROI_NEW(x1,y1,x2,y2,h,w)==False):\n",
    "                #print(\"I was skipped\")\n",
    "                continue\n",
    "            #print(\"not skipped\")\n",
    "            has_cattle = True\n",
    "            #new_results.append(result)\n",
    "            box_left = x1\n",
    "            box_top = y1\n",
    "            box_w = x2 - x1\n",
    "            box_h = y2 - y1\n",
    "\n",
    "            new = np.zeros_like(ori_img, dtype=np.uint8)\n",
    "            new[m] = ori_img[m]\n",
    "            \n",
    "           \n",
    "            x1= int(x1 * (640/1920))\n",
    "            x2= int(x2 * (640/1920))\n",
    "            y1= int(y1 * (384/1080))\n",
    "            y2= int(y2 * (384/1080))\n",
    "\n",
    "            crop = new[y1:y2, x1:x2]\n",
    "            img = cv2.resize(crop, (SIZE, SIZE))\n",
    "            img=img / 255.0\n",
    "            \n",
    "            ############# LABLE\n",
    "            \n",
    "            \n",
    "            \n",
    "            ###### LABEL\n",
    "            #img = cv2.resize(crop, (SIZE, SIZE))\n",
    "            #img=img / 255.0\n",
    "            #print(box_left,'    xxxxxx     ' ,box_w)\n",
    "            prev_id = Take_Prev_Label(box_left,box_w,cow_position) ## just passing x values instead of y\n",
    "          #########################################  \n",
    "            HAS_COW=True\n",
    "            #has_cattle = True\n",
    "            if(prev_id==-1): #skip cattle when prev_id // filter id is -1\n",
    "                if(count==1):\n",
    "                    has_seen_cattle=False\n",
    "                    count-=1\n",
    "                #print('skipped')\n",
    "                continue\n",
    "            labels = Predict_SVM(img)\n",
    "            labels.insert(0,prev_id[0])\n",
    "            \n",
    "            #black_percentage, white_percentage = calculate_black_white_percentage_rgb(img)\n",
    "            white_percentage = calculate_white_pixel_percentage(img)\n",
    "            #print(white_percentage)\n",
    "            #print(f\"Black Percentage: {black_percentage:.2f}%\")\n",
    "            print(f\"White Percentage: {white_percentage:.2f}%\")\n",
    "            if white_percentage < 0.8 :\n",
    "                ids.append(str(prev_id[0])+'_Black')\n",
    "            else:\n",
    "                ids.append(prev_id[0])\n",
    "            #print(labels)\n",
    "            has_cattle = True\n",
    "            \n",
    "            \n",
    "            last_tracking_id = int(prev_id[0])\n",
    "            masks.append(m)\n",
    "            b_boxes.append([x1,y1,x2,y2])\n",
    "            #print(prev_id)\n",
    "            cow_position+=1 \n",
    "            BATCH_COUNT = prev_id[0] # skip batch count here  \n",
    "            \n",
    "           \n",
    "            #torch.cuda.empty_cache()\n",
    "            ###################### CREATE dir to save img\n",
    "            #print(prev_id)\n",
    "            base_path = str(Path(save_dir / prev_id[0]))\n",
    "            default_csv_path = base_path +\"/\"+prev_id[0]+\".csv\"\n",
    "            if not os.path.exists(base_path):\n",
    "                os.makedirs(base_path)\n",
    "                \n",
    "                creating_default_csv(default_csv_path,N_TOP)\n",
    "\n",
    "            #demo_annotated_img_save_path = Path(base_path+ '/' + f'{image_count}.jpg')\n",
    "            CATTLE_DATA = {}\n",
    "            #is_new_cattle = False\n",
    "            try:\n",
    "                \n",
    "                index_prevId = prevId_record.index(int(prev_id[0]))\n",
    "                #is_new_cattle = True\n",
    "            except :\n",
    "                TOTAL_CATTLE_COUNT +=1 \n",
    "                print('new cattle  xxxxxxxxxxxxxxxxxxxxx new cattle alert ' )    \n",
    "                prevId_record.append(int(prev_id[0]))\n",
    "            \n",
    "            \n",
    "            # WRITING CSV FOR EACH CATTLE\n",
    "            \n",
    "            write_thread = threading.Thread(target=write_to_csv, args=(default_csv_path,labels))\n",
    "            write_thread.daemon = True  # Set the thread as daemon\n",
    "            write_thread.start()\n",
    "            thread_pool.append(write_thread)\n",
    "            \n",
    "            \n",
    "                \n",
    "            \n",
    "            IMAGE_ID_LIST.append(image_count)\n",
    "            LOCAL_ID_LIST.append(int(prev_id[0]))\n",
    "            MAX_xyxy1.append(x1)\n",
    "            MAX_xyxy2.append(y1)\n",
    "            MAX_xyxy3.append(x2)\n",
    "            MAX_xyxy4.append(y2)\n",
    "            \n",
    "           \n",
    "                \n",
    "            try:\n",
    "                ori_img = overlay(ori_img,m,(0,0,255),0.3)\n",
    "                #cv2.imwrite(str(demo_annotated_img_save_path), ori_img) #save ori_img\n",
    "                #print(demo_annotated_img_save_path)\n",
    "            except:\n",
    "                print('cannot save ',demo_annotated_img_save_path)\n",
    "            #change cropped size here  #230 to 215 410 to 390\n",
    "\n",
    "            manual_cow_count += 1\n",
    "\n",
    "            manual_cow_count += 1\n",
    "\n",
    "    #frame = annotator.result() \n",
    "   \n",
    "    \n",
    "    \n",
    "    frame = cv2.resize(ori_img, (1920,1080), interpolation = cv2.INTER_AREA)\n",
    "    \n",
    "    if has_cattle:  \n",
    "        #print(\"total saved cattle count -=>\",CATTLE_SAVED_COUNT)\n",
    "        data_to_add = {\n",
    "        'ImageId': IMAGE_ID_LIST,\n",
    "        'LocalId': LOCAL_ID_LIST,\n",
    "        'xyxy1': MAX_xyxy1,\n",
    "        'xyxy2': MAX_xyxy2,\n",
    "        'xyxy3': MAX_xyxy3,\n",
    "        'xyxy4': MAX_xyxy4\n",
    "        # Add more columns as needed\n",
    "        }\n",
    "        df_to_add = pd.DataFrame(data_to_add)\n",
    "        #MAIN_DF = pd.concat([MAIN_DF,df_to_add], ignore_index=True)\n",
    "        csv_thread = threading.Thread(target=concat_main_csv, args=(df_to_add,))\n",
    "        csv_thread.start()\n",
    "        \n",
    "        base_path = str(Path(save_dir / 'all_images'))\n",
    "        if not os.path.exists(base_path):\n",
    "            os.makedirs(base_path)\n",
    "        del IMAGE_ID_LIST[:]\n",
    "        del LOCAL_ID_LIST[:]\n",
    "        del MAX_xyxy1[:]\n",
    "        del MAX_xyxy2[:]\n",
    "        del MAX_xyxy3[:]\n",
    "        del MAX_xyxy4[:]\n",
    "\n",
    "        demo_annotated_img_save_path = Path(base_path+ '/' + f'{image_count}.jpg')\n",
    "        #cv2.imwrite(str(demo_annotated_img_save_path), ori_img) #save ori_img\n",
    "        save_thread = threading.Thread(target=cv2.imwrite, args=(str(demo_annotated_img_save_path),ori_img))\n",
    "        save_thread.daemon = True   \n",
    "        save_thread.start()\n",
    "        save_threads.append(save_thread)\n",
    "        SAVED_COUNT += 1\n",
    "        image_count += 1\n",
    "        \n",
    "        #ori_img = cv2.resize(ori_img,(1088,1088))\n",
    "        for i in range(len(b_boxes)):\n",
    "            box = b_boxes[i]\n",
    "            mask = masks[i]\n",
    "            #print(\"drawing\")\n",
    "            #print(ids)\n",
    "            \n",
    "            draw_bounding_box(ori_img,(box[0],box[1],box[2],box[3]),str(ids[i]))\n",
    "            ori_img = overlay(ori_img,mask,(0,0,255),0.3)\n",
    "        frame = cv2.resize(ori_img, (960,640), interpolation = cv2.INTER_AREA)\n",
    "        \n",
    "        video_thread = threading.Thread(target=cap.write(frame))\n",
    "        video_thread.start()\n",
    "        del ids[:]\n",
    "        \n",
    "        if threading.active_count() > 200:\n",
    "            pass\n",
    "        \n",
    "    cv2.imshow('YOLO V8 Detection', frame)\n",
    "    if cv2.waitKey(1) & 0xFF == ord(' '):\n",
    "        break\n",
    "    \n",
    "    \n",
    "pass\n",
    "        \n",
    "cap.release() #tracking video\n",
    "cv2.destroyAllWindows()\n",
    "image_count -=1 \n",
    "\n",
    "#while threading.active_count() > 1:\n",
    "\n",
    "\n",
    "now=str(datetime.now().date())\n",
    "\n",
    "IMAGE_STORED_LOCATION = []\n",
    "\n",
    "cattle_ids = []\n",
    "#################################\\\n",
    "manual_summarize_ids = []\n",
    "manual_local_ids = []\n",
    "\n",
    "manual_summarize_ids = []\n",
    "manual_local_ids = []\n",
    "#### write video after saving csv\n",
    "final_cattle_count = 1\n",
    "\n",
    "# SAVING MAIN CSV-\n",
    "MAIN_DF.to_csv(csv_main_file_path, index=False)\n",
    "\n",
    "MAIN_DF = None # CLEAR AFTER SAVING\n",
    "\n",
    "\n",
    "save_vid_name=  dataset.split(\"\\\\\")[-1].replace('.mp4','')+'_classification'\n",
    "\n",
    "save_vid_path = str(Path(os.path.join(save_dir, save_vid_name)).with_suffix('.mp4'))\n",
    "print(save_vid_path)\n",
    "classification_vid = cv2.VideoWriter(save_vid_path,cv2.VideoWriter_fourcc(*'mp4v'), 15, (640,384))\n",
    "print(save_vid_path)\n",
    "\n",
    "\n",
    "#SAVING SUMMARIZE IDS\n",
    "manual_summarize_ids = get_final_cattle_id(str(save_dir),TOTAL_CATTLE_COUNT)\n",
    "\n",
    "summarize_id_csv = pd.DataFrame(manual_summarize_ids, columns = [\"Cow Id\"])\n",
    "\n",
    "summarize_id_csv.to_csv(str(save_dir)+'/summarize_id_'+now+'.csv', index= False) \n",
    "#FINISH SAVING SUMMARIZE IDS\n",
    "\n",
    "csv_name = 'main_csv.csv'\n",
    "#region Write Video\n",
    "try:\n",
    "    writeVideo(classification_vid,str(save_dir),csv_name ,manual_summarize_ids,image_count)\n",
    "except:\n",
    "    print(\" I am ugly\")\n",
    "#summarize_id_csv.to_csv(str(save_dir)+'/summarize_id_'+now+'.csv', index= False) \n",
    "classification_vid.release()\n",
    "cv2.destroyAllWindows()\n",
    "end_time = time.time()\n"
   ]
  },
  {
   "cell_type": "code",
   "execution_count": 23,
   "id": "04772ad2-2ea1-4b33-8085-ea47413eb948",
   "metadata": {},
   "outputs": [
    {
     "name": "stdout",
     "output_type": "stream",
     "text": [
      "Total Prediction Duration for 0304 AM:  1621.113288640976\n"
     ]
    }
   ],
   "source": [
    "\n",
    "elapsed_time = end_time - start_time\n",
    "\n",
    "print(\"Total Prediction Duration for 0304 AM: \",elapsed_time)\n",
    "#run "
   ]
  },
  {
   "cell_type": "code",
   "execution_count": null,
   "id": "1d8d9ac0-4877-49f8-ba14-4253fd2a0179",
   "metadata": {
    "scrolled": true,
    "tags": []
   },
   "outputs": [],
   "source": []
  },
  {
   "cell_type": "code",
   "execution_count": null,
   "id": "a90a4ef9-d9bf-4645-b7fd-3dd76825e99f",
   "metadata": {},
   "outputs": [],
   "source": [
    "cv2.destroyAllWindows()"
   ]
  },
  {
   "cell_type": "code",
   "execution_count": null,
   "id": "56f9c467-1764-47b4-9adf-c6218c28e603",
   "metadata": {},
   "outputs": [],
   "source": []
  },
  {
   "cell_type": "code",
   "execution_count": null,
   "id": "d48181eb-d029-4e71-9063-8d9e2dcac62e",
   "metadata": {},
   "outputs": [],
   "source": []
  },
  {
   "cell_type": "code",
   "execution_count": null,
   "id": "6258836e-738d-4a9d-a359-2610732928f2",
   "metadata": {},
   "outputs": [],
   "source": []
  },
  {
   "cell_type": "code",
   "execution_count": null,
   "id": "2a4c18b4-ca98-4c29-ab9d-04847c722e28",
   "metadata": {},
   "outputs": [],
   "source": [
    "for csv_index in range(len(MAX_prevId)):\n",
    "    df = pd.DataFrame(MAX_prevId[csv_index] , columns = ['ID'])\n",
    "    tracked_id = MAX_prevId[csv_index][0]\n",
    "    try:\n",
    "        org_ids = torch.tensor(MAX_orgId[csv_index], device = 'cpu')\n",
    "        df[\"Original\"] = org_ids\n",
    "    except:\n",
    "        df[\"Original\"] = MAX_orgId[csv_index]\n",
    "    now=str(datetime.now().date())\n",
    "\n",
    "    save_csv_each_path = str(Path(save_dir / str(tracked_id) / f'{str(tracked_id)}.csv'))\n",
    "    df.to_csv(save_csv_each_path, index= False)##asdfasdf\n",
    "MAIN_DF.to_csv(csv_main_file_path, index=False)"
   ]
  },
  {
   "cell_type": "code",
   "execution_count": null,
   "id": "82466796-6a15-4845-a1a4-0c6fac562e95",
   "metadata": {},
   "outputs": [],
   "source": [
    "print(csv_main_file_path)\n",
    "csv_main_file_path = 'D:\\\\Python\\\\SULarbmon\\\\Python\\\\env\\\\yolov8_june\\\\ultralytics\\\\runs\\\\segment\\\\honkawa\\\\291_unknown\\\\identification4\\\\main_csv.csv'\n",
    "MAIN_DF.to_csv(csv_main_file_path, index=False)\n",
    "print('save')"
   ]
  },
  {
   "cell_type": "code",
   "execution_count": null,
   "id": "b837f6dd-1886-4aad-8d3a-a0082f55a9ea",
   "metadata": {},
   "outputs": [],
   "source": [
    "\n",
    "project = 'D:\\\\Honkawa_Exe_output\\\\identification2_0805'\n",
    "name = 'identification_new2'\n",
    "dataset = \"D:\\\\815_CowDataChecking\\\\Honkawa\\\\2023-08-04\\\\03\\\\0304\" \n",
    "#save_vid_name=  dataset.split(\"\\\\\")[-1].replace('.mkv','_track')  #open this when running single video\n",
    "\n",
    "\n",
    "#results = model('D:\\\\815_CowDataChecking\\\\20221228\\\\20221228_E_cow\\\\20221228_151533_D474.mkv',imgsz=1088,save=False,retina_masks=False,show=False,stream=True,device='0',conf=0.2)\n",
    "#save_dir = increment_path(Path(project) / name, exist_ok=True)  # increment run\n",
    "save_dir = Path(project,name)\n",
    "print(save_dir)"
   ]
  },
  {
   "cell_type": "code",
   "execution_count": null,
   "id": "687720f3-3757-43b4-9817-c5d7d6216022",
   "metadata": {
    "scrolled": true,
    "tags": []
   },
   "outputs": [],
   "source": [
    "#save_dir = \"D:\\\\Python\\\\SULarbmon\\\\Python\\\\env\\\\yolov8_june\\\\ultralytics\\\\runs\\\\segment\\\\honkawa\\\\1103\\\\identification_new2\"\n",
    "UNKNOWN_THRESHOLD = 0.5\n",
    "cattle_track_count = 0\n",
    "UNKNOWN_CATTLE = 0\n",
    "\n",
    "\n",
    "save_dir = \"D:\\\\Python\\\\SULarbmon\\\\Python\\\\env\\\\yolov8_june\\\\ultralytics\\\\runs\\\\segment\\\\honkawa\\\\291_unknown\\\\identification4\"\n",
    "csv_main_file_path = save_dir + \"\\main_csv.csv\"\n",
    "dataset =  \"D:\\\\815_CowDataChecking\\\\Honkawa\\\\2023-07-31\\\\03\" \n",
    "TOTAL_CATTLE_COUNT=255\n",
    "\n",
    "now=str(datetime.now().date())\n",
    "\n",
    "save_vid_name=  dataset.split(\"\\\\\")[-1].replace('.mp4','')+'_classification'\n",
    "\n",
    "save_vid_path = str(Path(os.path.join(save_dir, save_vid_name)).with_suffix('.mp4'))\n",
    "print(save_vid_path)\n",
    "classification_vid = cv2.VideoWriter(save_vid_path,cv2.VideoWriter_fourcc(*'mp4v'), 15, (640,384))\n",
    "print(save_vid_path)\n",
    "#### write video after saving csv\n",
    "manual_summarize_ids = get_final_cattle_id(str(save_dir),TOTAL_CATTLE_COUNT)\n",
    "summarize_id_csv = pd.DataFrame(manual_summarize_ids, columns = [\"Cow Id\"])\n",
    "summarize_id_csv.to_csv(str(save_dir)+'/summarize_id_50_percent_'+now+'.csv', index= False) \n",
    "\n",
    "csv_name = 'main_csv.csv'\n",
    "#region Write Video\n",
    "image_count = 16201\n",
    "try:\n",
    "    writeVideo(classification_vid,str(save_dir),csv_name ,manual_summarize_ids,image_count)\n",
    "except Exception as ex:\n",
    "    print(ex)\n",
    "#summarize_id_csv.to_csv(str(save_dir)+'/summarize_id_'+now+'.csv', index= False) \n",
    "classification_vid.release()\n",
    "cv2.destroyAllWindows()\n"
   ]
  },
  {
   "cell_type": "code",
   "execution_count": null,
   "id": "bb8ebfe1-b310-4d49-9376-cd19b2896c36",
   "metadata": {},
   "outputs": [],
   "source": [
    "cv2.destroyAllWindows()"
   ]
  },
  {
   "cell_type": "code",
   "execution_count": null,
   "id": "4a327c40-672c-4b32-b442-ab6f585eaa35",
   "metadata": {},
   "outputs": [],
   "source": [
    "summarize_id_csv.to_csv(str(save_dir)+'/summarize_id_'+now+'.csv', index= False) "
   ]
  },
  {
   "cell_type": "code",
   "execution_count": null,
   "id": "97cbc49c-cfb5-46cf-a5f7-3eda38622a65",
   "metadata": {},
   "outputs": [],
   "source": []
  },
  {
   "cell_type": "code",
   "execution_count": null,
   "id": "08ee745d-1e26-4f99-aeb7-a454fce0698c",
   "metadata": {
    "tags": []
   },
   "outputs": [],
   "source": [
    "cap.release()\n",
    "cv2.destroyAllWindows()\n"
   ]
  },
  {
   "cell_type": "code",
   "execution_count": null,
   "id": "78864315-f639-44bd-8c69-6a9454f9e098",
   "metadata": {},
   "outputs": [],
   "source": [
    "dataset = \"D:\\\\815_CowDataChecking\\\\20220704\\\\20220704_M_Cow\" #don't add \\\\ at the end\n",
    "#save_vid_name=  dataset.split(\"\\\\\")[-1].replace('.mkv','_track')  #open this when running single video\n",
    "save_vid_name = dataset.split(\"\\\\\")[-1] # open this when running multiple videos\n",
    "print(save_vid_name)\n"
   ]
  },
  {
   "cell_type": "code",
   "execution_count": null,
   "id": "44fe5233-4b20-4570-a9fc-312d3a591930",
   "metadata": {
    "scrolled": true,
    "tags": []
   },
   "outputs": [],
   "source": [
    "        \n",
    "\n",
    "###### write final csv\n",
    "for csv_index in range(len(MAX_prevId)):\n",
    "    df = pd.DataFrame(MAX_prevId[csv_index] , columns = ['ID'])\n",
    "    tracked_id = MAX_prevId[csv_index][0]\n",
    "    try:\n",
    "        org_ids = torch.tensor(MAX_orgId[csv_index], device = 'cpu')\n",
    "        df[\"Original\"] = org_ids\n",
    "    except:\n",
    "        df[\"Original\"] = MAX_orgId[csv_index]\n",
    "    now=str(datetime.now().date())\n",
    "\n",
    "    save_csv_each_path = str(Path(save_dir / str(tracked_id) / f'{str(tracked_id)}.csv'))\n",
    "    df.to_csv(save_csv_each_path, index= False)##asdfasdf\n",
    "#All records     \n",
    "data_to_add = {\n",
    "    'ImageId': IMAGE_ID_LIST,\n",
    "    'LocalId': LOCAL_ID_LIST,\n",
    "    'xyxy1': MAX_xyxy1,\n",
    "    'xyxy2': MAX_xyxy2,\n",
    "    'xyxy3': MAX_xyxy3,\n",
    "    'xyxy4': MAX_xyxy4\n",
    "    # Add more columns as needed\n",
    "}\n",
    "add_lines_to_excel(csv_main_file_path, data_to_add)\n",
    "\n",
    "IMAGE_STORED_LOCATION = []\n",
    "\n",
    "cattle_ids = []\n",
    "#################################\\\n",
    "manual_summarize_ids = []\n",
    "manual_local_ids = []\n",
    "\n",
    "manual_summarize_ids = []\n",
    "manual_local_ids = []\n",
    "#### write video after saving csv\n",
    "final_cattle_count = 1\n",
    "\n",
    "\n",
    "\n",
    "save_vid_name=  dataset.split(\"\\\\\")[-1].replace('.mkv','')+'_classification'\n",
    "save_vid_path = str(Path(os.path.join(save_dir, save_vid_name)).with_suffix('.mp4'))\n",
    "classification_vid = cv2.VideoWriter(save_vid_path,cv2.VideoWriter_fourcc(*'mp4v'), 13, (1920,1080))\n",
    "\n",
    "#manual_summarize_ids = get_final_cattle_id(save_dir,CATTLE_SAVED_COUNT)\n",
    "#for loc in range(len(demo_img_save_path)):\n",
    "#    print(demo_img_save_path[loc])\n",
    "#    final_cattle_id = writeVideo(classification_vid,demo_img_save_path[loc])\n",
    "#    if(final_cattle_id != -1):\n",
    "#        manual_local_ids.append(final_cattle_count)\n",
    "#        manual_summarize_ids.append(final_cattle_id)\n",
    "#        final_cattle_count+=1 \n",
    "\n",
    "\n",
    "\n",
    "print(save_vid_path)\n",
    "#### write video after saving csv\n",
    "manual_summarize_ids = get_final_cattle_id(str(save_dir),TOTAL_CATTLE_COUNT)\n",
    "\n",
    "summarize_id_csv = pd.DataFrame(manual_summarize_ids, columns = [\"Cow Id\"])\n",
    "\n",
    "summarize_id_csv.to_csv(str(save_dir)+'/summarize_id_'+now+'.csv', index= False) \n",
    "csv_name = 'main_csv.csv'\n",
    "#region Write Video\n",
    "try:\n",
    "    writeVideo(classification_vid,str(save_dir),csv_name ,manual_summarize_ids,image_count)\n",
    "except:\n",
    "    print(\" Done\")\n",
    "\n",
    "classification_vid.release()\n",
    "cv2.destroyAllWindows()\n",
    "#prevId_record = []\n",
    "#MAX_prevId = []\n",
    "#MAX_xyxy1 = [] \n",
    "#MAX_xyxy2 = [] \n",
    "#MAX_xyxy3 = [] \n",
    "#MAX_xyxy4 = [] \n",
    "#MAX_orgId = [] "
   ]
  },
  {
   "cell_type": "code",
   "execution_count": null,
   "id": "8100c5ea-47e4-4ddb-83a7-24e17f704c06",
   "metadata": {},
   "outputs": [],
   "source": []
  }
 ],
 "metadata": {
  "kernelspec": {
   "display_name": "Python 3 (ipykernel)",
   "language": "python",
   "name": "python3"
  },
  "language_info": {
   "codemirror_mode": {
    "name": "ipython",
    "version": 3
   },
   "file_extension": ".py",
   "mimetype": "text/x-python",
   "name": "python",
   "nbconvert_exporter": "python",
   "pygments_lexer": "ipython3",
   "version": "3.9.16"
  }
 },
 "nbformat": 4,
 "nbformat_minor": 5
}
