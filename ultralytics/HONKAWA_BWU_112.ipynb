{
 "cells": [
  {
   "cell_type": "code",
   "execution_count": 1,
   "id": "b676c638-f48d-49a7-a1a1-6fe98e5b5d77",
   "metadata": {},
   "outputs": [
    {
     "name": "stderr",
     "output_type": "stream",
     "text": [
      "C:\\Users\\thithilab\\AppData\\Roaming\\Python\\Python39\\site-packages\\tqdm\\auto.py:21: TqdmWarning: IProgress not found. Please update jupyter and ipywidgets. See https://ipywidgets.readthedocs.io/en/stable/user_install.html\n",
      "  from .autonotebook import tqdm as notebook_tqdm\n"
     ]
    }
   ],
   "source": [
    "import torch\n",
    "import gc\n",
    "\n",
    "import asyncio\n",
    "import threading\n",
    "\n",
    "\n",
    "gc.collect()\n",
    "\n",
    "torch.cuda.empty_cache()"
   ]
  },
  {
   "cell_type": "code",
   "execution_count": 2,
   "id": "16abd98a-5a5c-4d05-b271-eedfed0315ae",
   "metadata": {
    "tags": []
   },
   "outputs": [
    {
     "name": "stdout",
     "output_type": "stream",
     "text": [
      "yolo->engine->model.py93\n"
     ]
    }
   ],
   "source": [
    "from pathlib import Path\n",
    "import cv2\n",
    "from sklearn import svm\n",
    "import numpy as np\n",
    "from datetime import datetime\n",
    "import os\n",
    "import time\n",
    "from ultralytics.yolo.utils.files import increment_path\n",
    "import torch\n",
    "import gc\n",
    "import pickle\n",
    "import pandas as pd\n",
    "from tensorflow.keras.applications.vgg16 import VGG16\n",
    "import csv\n",
    "#from pathlib import Path\n",
    "import matplotlib.pyplot as plt\n",
    "gc.collect()\n",
    "torch.cuda.empty_cache()\n",
    "\n",
    "from ultralytics.yolo.utils.plotting import Annotator\n",
    "\n",
    "from ultralytics import YOLO\n",
    "\n",
    "model = YOLO(\"D:/Python/SULarbmon/Python/env/yolov8_june/runs/segment/Honkawa_Weights_v1/weights/best.pt\")  # load a custom model"
   ]
  },
  {
   "cell_type": "code",
   "execution_count": 3,
   "id": "5eba0d22-24e9-4695-9ebd-ef41e852f195",
   "metadata": {},
   "outputs": [],
   "source": [
    "le_filename = '../HONKAWA_VGG_SVM_PROB_BLACKFILL/VGG_SVM_HONKAWA_112_blackfill.le'\n",
    "#black_le_filename = '../HONKAWA_VGG_SVM_PROB_BLACKFILL/VGG_SVM_HONKAWA_112_blackfill.pkl'\n",
    "\n",
    "predictor_filename ='../HONKAWA_VGG_SVM_PROB_BLACKFILL/VGG_SVM_HONKAWA_112_blackfill.pkl'\n",
    "#black_predictor_filename ='../HONKAWA_VGG_SVM_PROB/VGG_SVM_HONKAWA_112_1103_3pfs_prob_BLACK.pkl'\n",
    "\n",
    "predictor = pickle.load(open(predictor_filename, 'rb'))\n",
    "lable_encoder = pickle.load(open(le_filename, 'rb'))\n",
    "\n",
    "\n",
    "#black_predictor = pickle.load(open(black_predictor_filename, 'rb'))\n",
    "#black_lable_encoder = pickle.load(open(black_le_filename, 'rb'))\n",
    "\n"
   ]
  },
  {
   "cell_type": "code",
   "execution_count": 4,
   "id": "fc46bb71-637a-4054-8201-086685c58da7",
   "metadata": {},
   "outputs": [],
   "source": [
    "SIZE=112\n",
    "\n",
    "vgg = VGG16(weights='imagenet', include_top=False, input_shape=(SIZE, SIZE, 3))\n",
    "\n",
    "#Make loaded layers as non-trainable. This is important as we want to work with pre-trained weights\n",
    "for layer in vgg.layers:\n",
    "\tlayer.trainable = False\n",
    "    \n",
    "#vgg.summary()  #Trainable parameters will be 0\n"
   ]
  },
  {
   "cell_type": "code",
   "execution_count": 5,
   "id": "5f235b43-c095-4399-b8b5-547abefd452e",
   "metadata": {},
   "outputs": [
    {
     "name": "stdout",
     "output_type": "stream",
     "text": [
      "defined predictor\n"
     ]
    }
   ],
   "source": [
    "def Predict_SVM(image):  ## new with vgg\n",
    "    global N_TOP\n",
    "    global mapping_data\n",
    "    input_img = np.expand_dims(image, axis=0) #Expand dims so the input is (num images, x, y, c)\n",
    "    input_img_feature=vgg.predict(input_img)\n",
    "    input_img_features=input_img_feature.reshape(input_img_feature.shape[0], -1)\n",
    "    probabilities = predictor.predict_proba(input_img_features)\n",
    "    \n",
    "    top_classes_indices = np.argsort(probabilities[0])[::-1][:N_TOP]\n",
    "    top_predicted_results = []\n",
    "    top_probabilities = probabilities[0][top_classes_indices]\n",
    "    for i in range(N_TOP):\n",
    "        #result = lable_encoder.inverse_transform([top_classes_indices[i]])[0]  #Reverse the label encoder to original name\n",
    "        #print(result)\n",
    "        #if result in mapping_data:\n",
    "        #    result = mapping_data[result] #to map incorrect order with correct order\n",
    "    \n",
    "        #print(i+1,' => ',result, ' is the top result with ',top_probabilities[i])\n",
    "        top_predicted_results.append(mapping_data[lable_encoder.inverse_transform([top_classes_indices[i]])[0]])\n",
    "        top_predicted_results.append(str(top_probabilities[i]))\n",
    "    #print(top_predicted_results)    \n",
    "    return top_predicted_results\n",
    "\n",
    "print(\"defined predictor\")"
   ]
  },
  {
   "cell_type": "code",
   "execution_count": 6,
   "id": "88ca50d7-8abe-482a-87ee-8657d3ae8212",
   "metadata": {},
   "outputs": [
    {
     "name": "stdout",
     "output_type": "stream",
     "text": [
      "defined predictor\n"
     ]
    }
   ],
   "source": [
    "def Predict_SVM_BLACK(image):  ## new with vgg\n",
    "    global N_TOP\n",
    "    input_img = np.expand_dims(image, axis=0) #Expand dims so the input is (num images, x, y, c)\n",
    "    input_img_feature=vgg.predict(input_img)\n",
    "    input_img_features=input_img_feature.reshape(input_img_feature.shape[0], -1)\n",
    "    probabilities = black_predictor.predict_proba(input_img_features)\n",
    "    \n",
    "    top_classes_indices = np.argsort(probabilities[0])[::-1][:N_TOP]\n",
    "    top_predicted_results = []\n",
    "    top_probabilities = probabilities[0][top_classes_indices]\n",
    "    for i in range(N_TOP):\n",
    "        result = black_lable_encoder.inverse_transform([top_classes_indices[i]])  #Reverse the label encoder to original name\n",
    "        #print(i+1,' => ',result, ' is the top result with ',top_probabilities[i])\n",
    "        top_predicted_results.append(int(result))\n",
    "        top_predicted_results.append(str(top_probabilities[i]))\n",
    "    #print(top_predicted_results)    \n",
    "    return top_predicted_results\n",
    "\n",
    "print(\"defined predictor\")"
   ]
  },
  {
   "cell_type": "code",
   "execution_count": 7,
   "id": "8e2d6dec-36da-491e-95ea-896b621be300",
   "metadata": {},
   "outputs": [],
   "source": [
    "\n",
    "###### load dataset and model\n",
    "\n",
    "\n",
    "def check_withinROI_NEW(x1,y1,x2,y2,h,w):\n",
    "    #print(x1, '  ',y1, '  ',x2, '  ',y2, '  ',h, '  ',w)\n",
    "    #if(x1<int(X1*(w/default)) or x2>int(X2*(w/default)) or y1<int(Y1_NEW*(h/default)) or y2>int(Y2_NEW*(h/default)) or x1>=int(X2*(w/default))):\n",
    "    #    return False\n",
    "    \n",
    "    if(x1<150 or x2>1750):\n",
    "        return False\n",
    "    if(y2-y1<600 or x2-x1 <250): #1400 to 700 Before\n",
    "        return False\n",
    "    return True  \n",
    "\n",
    "def check_withinROI_Resize(x1,y1,x2,y2,h,w):\n",
    "    #print(x1, '  ',y1, '  ',x2, '  ',y2, '  ',h, '  ',w)\n",
    "    resize_x1=850#*(w/2992)\n",
    "    resize_x2=1050#*(w/2992)\n",
    "    resize_y1=Y1_NEW#Y1_NEW*(w/2992)\n",
    "    resize_y2=Y1_NEW#Y2_NEW*(w/2992)\n",
    "    #print(resize_x1, '  ',resize_y1, '  ',resize_x2, '  ',resize_y2)\n",
    "    if(x1<int(resize_x1) or x2>int(resize_x2) or x1>=int(resize_x2)):\n",
    "        return False\n",
    "    if(y2 - y1>1400 or y2-y1<700): #1400 to 700 Before\n",
    "        return False\n",
    "    return True  \n"
   ]
  },
  {
   "cell_type": "code",
   "execution_count": 8,
   "id": "056bd001-9ec5-4d37-8d4f-794eb6d030d6",
   "metadata": {},
   "outputs": [],
   "source": [
    "def Is_Duplicate_Id(y1,y2,id):\n",
    "    global PREVIOUS_ID\n",
    "    global PREVIOUS_Y1\n",
    "    global PREVIOUS_Y2\n",
    "    global PREVIOUS_LOCAL_IDS\n",
    "    global CATTLE_LOCAL_ID\n",
    "    \n",
    "    try: \n",
    "        index = PREVIOUS_ID.index(id)\n",
    "        #print('I reached here')\n",
    "        if(PREVIOUS_Y1[index]+321<=y1 and PREVIOUS_Y2[index]+371<y2): #duplicate from bottom\n",
    "         #   if(id in PREVIOUS_LOCAL_IDS):\n",
    "         #   #print('id: ',id,' LOCAL_ID: ',CATTLE_LOCAL_ID)\n",
    "         #       return PREVIOUS_LOCAL_IDS[id][0]\n",
    "            \n",
    "            #print('except')\n",
    "            PREVIOUS_ID.append(CATTLE_LOCAL_ID)\n",
    "            PREVIOUS_Y1.append(y1)\n",
    "            PREVIOUS_Y2.append(y2)\n",
    "            #print('New Cattle Id')\n",
    "            CATTLE_LOCAL_ID+=1\n",
    "            return CATTLE_LOCAL_ID\n",
    "        #elif(PREVIOUS_Y[index]+400<center): #stepping back\n",
    "        #    if(id in PREVIOUS_LOCAL_IDS):\n",
    "        #        return PREVIOUS_LOCAL_IDS[id][0]\n",
    "        else:\n",
    "            #print('Oh. here ? really?')\n",
    "            PREVIOUS_Y1[index]=y1 #duplicate is solved or no duplicate and just need for last y \n",
    "            PREVIOUS_Y2[index]=y2\n",
    "            #return PREVIOUS_LOCAL_IDS[index][1]\n",
    "            \n",
    "            #update('PREVIOUS Y')\n",
    "            return PREVIOUS_ID[index]\n",
    "    except:\n",
    "        #print(PREVIOUS_ID)\n",
    "        #print(id)\n",
    "        CATTLE_LOCAL_ID += 1\n",
    "        #print('except')\n",
    "        PREVIOUS_ID.append(CATTLE_LOCAL_ID)\n",
    "        PREVIOUS_Y1.append(y1)\n",
    "        PREVIOUS_Y2.append(y2)\n",
    "        return id"
   ]
  },
  {
   "cell_type": "code",
   "execution_count": 9,
   "id": "0ed9d4de-4e94-4b9a-a257-9e571cc441ad",
   "metadata": {
    "scrolled": true,
    "tags": []
   },
   "outputs": [],
   "source": [
    "\n",
    "def Take_Prev_Label(y,h,cow_srno):\n",
    "    global STORED_IDS\n",
    "    global STORED_MID_Y\n",
    "    global STORED_MID_Y1\n",
    "    global STORED_MID_Y2\n",
    "    global STORED_MISS\n",
    "    global LAST_SEEN_IDS\n",
    "    global LAST_SEEN_ID_CENTROIDS\n",
    "    global CATTLE_LOCAL_ID\n",
    "    global IS_FIRST_CATTLE \n",
    "    y1 , y2 = y , y+h\n",
    "    id = None\n",
    "    \n",
    "    if IS_FIRST_CATTLE:\n",
    "        IS_FIRST_CATTLE = False\n",
    "        id = CATTLE_LOCAL_ID\n",
    "    #mid_y = y2\n",
    "    mid_y = int(2*y + h)/2\n",
    "    IS_NEW = True\n",
    "    last_id = 999\n",
    "    last_y1 = 0\n",
    "    last_y2 = 0\n",
    "    if(len(STORED_IDS)>0): \n",
    "        last_id = STORED_IDS[len(STORED_IDS)-1]\n",
    "        last_y1 = STORED_MID_Y1[len(STORED_MID_Y1)-1]#max(STORED_MID_Y1)\n",
    "        last_y2 = STORED_MID_Y2[len(STORED_MID_Y2)-1]#max(STORED_MID_Y2)\n",
    "        MISSED_LEN = len(STORED_MISS)\n",
    "        #if(IS_NEW):\n",
    "        \n",
    "        #    MISSED_LEN -=1\n",
    "        removed = 0\n",
    "        for i in range(MISSED_LEN):\n",
    "            #print(i, ' missed index checking' )\n",
    "            missed = STORED_MISS[i-removed]\n",
    "            #print('checking ',i-removed, 'to remove')\n",
    "            if(missed>20): #if missed 35 frames\n",
    "    \n",
    "                del STORED_MISS[i-removed]  \n",
    "                del STORED_MID_Y[i-removed]\n",
    "                del STORED_MID_Y1[i-removed]\n",
    "                del STORED_MID_Y2[i-removed]\n",
    "                del STORED_IDS[i-removed]\n",
    "                removed+=1\n",
    "                #print('removed')\n",
    "                \n",
    "    #clear misses\n",
    "   \n",
    "    \n",
    "    threshold_1 = 130 #300\n",
    "    threshold_2 = 130  #230\n",
    "    Distance = 5\n",
    "     \n",
    "    #if mid_y <= 1300 or mid_y >= 700:\n",
    "    #    threshold_1 = 320 #350\n",
    "    #    threshold_2 = 370 #280\n",
    "    for i in range(1,len(STORED_MID_Y)+1):\n",
    "        #print(STORED_IDS[-i-1],STORED_MID_Y[-i-1],' ',i)\n",
    "        \n",
    "        \n",
    "        #if(STORED_MID_Y[-i]+threshold_2>=mid_y and STORED_MID_Y[-i]-threshold_1<=mid_y): # and IS_NEW): #previous 150 #200\n",
    "        if(STORED_MID_Y1[-i]-threshold_1<=y1 and STORED_MID_Y1[-i]+threshold_1>=y1) or (STORED_MID_Y2[-i]-threshold_2<=y2 and STORED_MID_Y2[-i]+threshold_2>=y2): # and IS_NEW): #previous 150 #200\n",
    "            if(IS_NEW):\n",
    "              \n",
    "                \n",
    "                Distance = abs(STORED_MID_Y1[-i] - y1)\n",
    "                if(abs(STORED_MID_Y2[-i] - y2)<Distance):\n",
    "                    Distance = abs(STORED_MID_Y2[-i] - y2)\n",
    "                IS_NEW = False\n",
    "                STORED_MID_Y1[-i] = y1\n",
    "                STORED_MID_Y2[-i] = y2\n",
    "                \n",
    "                STORED_MISS[-i]=1\n",
    "                id= STORED_IDS[-i]\n",
    "                #print(Distance)\n",
    "                #print(id)\n",
    "                \n",
    "            #try:\n",
    "            #    exist_index = LAST_SEEN_IDS.index(id)\n",
    "            #    if(LAST_SEEN_ID_CENTROIDS[exist_index]+200>y): # showing old id\n",
    "            #        LAST_SEEN_ID_CENTROIDS[exist_index] = y\n",
    "            #except:\n",
    "            #print('corrected id :',STORED_IDS[-i])\n",
    "            elif Distance >5:\n",
    "                STORED_MISS[-i]+=1\n",
    "            #else:\n",
    "            #    STORED_MISS[-i]-=1 #reset count to 2 when not moving\n",
    "        #elif(STORED_MID_Y1[-i]<=y1 and STORED_MID_Y2[-i]>=y2):\n",
    "        #        STORED_MISS[-i]=30\n",
    "        else:\n",
    "            STORED_MISS[-i]+=1    \n",
    "     \n",
    "    if(IS_NEW == False):\n",
    "        if(y1>last_y1+20 and y2>last_y2+20):\n",
    "            IS_NEW = True\n",
    "        #elif (y1<last_y1+10 and y2<last_y2+10):\n",
    "        #    print('Skipped first here')\n",
    "        #    return -1\n",
    "    \n",
    "        #elif(cow_srno==1):\n",
    "    if(IS_NEW):\n",
    "        CATTLE_LOCAL_ID+=1\n",
    "        id=CATTLE_LOCAL_ID\n",
    "        if(y1<last_y1+70 and y2<last_y2+70):\n",
    "            CATTLE_LOCAL_ID-=1\n",
    "            #print('skipped second here')\n",
    "            for i in range(len(STORED_MID_Y)):\n",
    "                STORED_MISS[i]=5\n",
    "            return -1\n",
    "            \n",
    "        STORED_IDS.append(id)\n",
    "        STORED_MID_Y.append(mid_y)\n",
    "        STORED_MID_Y1.append(y1)\n",
    "        STORED_MID_Y2.append(y2)\n",
    "        STORED_MISS.append(1)\n",
    "    #print(STORED_IDS,' IDS ',STORED_MID_Y,' SMY ',mid_y,' mid_y')\n",
    "    if(IS_NEW) and False:\n",
    "        #print('SMY: ',STORED_MID_Y,', new my:',mid_y) \n",
    "        #print('new id: ',id)\n",
    "        updatedID = Is_Duplicate_Id(y1,y2,id)\n",
    "        if(int(last_id) <int(updatedID) and y1<last_y1-150 and y2<last_y2-150): # duplicate cattle with increased cattleID\n",
    "            CATTLE_LOCAL_ID-=1\n",
    "            for i in range(len(STORED_MID_Y)-1,0,-1):\n",
    "                STORED_MISS[i]=15\n",
    "            return -1\n",
    "        if(int(last_id)-1>int(updatedID)):\n",
    "            return -1\n",
    "            \n",
    "    #if(updatedID!=id):\n",
    "    #    print('orgID: ',id,' updated ID: ',updatedID)\n",
    "        #id = str(updated_ID)+'_'+str(id)\n",
    "        \n",
    "        id=CATTLE_LOCAL_ID\n",
    "        STORED_IDS.append(id)\n",
    "        STORED_MID_Y.append(mid_y)\n",
    "        STORED_MID_Y1.append(y1)\n",
    "        STORED_MID_Y2.append(y2)\n",
    "        STORED_MISS.append(1)\n",
    "    \n",
    "    #print('returned id :',id)\n",
    "    \n",
    "    #print(id)\n",
    "          \n",
    "    result = []\n",
    "    result.append(str(id-1))\n",
    "    \n",
    "    #region remove stored id\n",
    "    removed = 0\n",
    "    #print(STORED_MID_Y1,'  <===== y1, y2 =====>  ',STORED_MID_Y2,'    result =====>',result)\n",
    "    #for i in range(len(STORED_MID_Y)-1,0,-1):\n",
    "    #    if(y1>STORED_MID_Y1[i] and y2>STORED_MID_Y2[i]):\n",
    "    #        del STORED_MISS[i-removed]  \n",
    "    #        del STORED_MID_Y[i-removed]\n",
    "    #        del STORED_MID_Y1[i-removed]\n",
    "    #        del STORED_MID_Y2[i-removed]\n",
    "    #        del STORED_IDS[i-removed]\n",
    "    #        removed+=1\n",
    "                 \n",
    "    return result"
   ]
  },
  {
   "cell_type": "code",
   "execution_count": 10,
   "id": "e974a100-320c-4689-845c-e18d3a5183fa",
   "metadata": {
    "scrolled": true,
    "tags": []
   },
   "outputs": [],
   "source": [
    "mapping_data = {}\n",
    "def mapper():\n",
    "    global mapping_data\n",
    "    mapping_data = {}\n",
    "    csv_file = 'D:\\\\Python\\\\SULarbmon\\\\Python\\\\env\\\\yolov8_june\\\\ultralytics\\\\runs\\\\segment\\honkawa_3fps\\\\fill_black_dec_20235\\\\1103_blackfill_mapping.csv'\n",
    "\n",
    "# Create a dictionary to store the data\n",
    "    \n",
    "\n",
    "    # Read the CSV file and populate the dictionary\n",
    "    with open(csv_file, 'r') as file:\n",
    "        reader = csv.reader(file)\n",
    "        #header = next(reader)  # Assuming the first row contains column headers\n",
    "\n",
    "        for row in reader:\n",
    "            cattle_id = row[0]\n",
    "            correct_id = int(row[1])\n",
    "            mapping_data[cattle_id] = correct_id\n",
    "\n",
    "mapper()"
   ]
  },
  {
   "cell_type": "code",
   "execution_count": 36,
   "id": "3415efa4-0dc9-4cb9-afd0-ea35f35e1671",
   "metadata": {},
   "outputs": [],
   "source": [
    "UNKNOWN_THRESHOLD = 0.5\n",
    "cattle_track_count = 0\n",
    "def CALCULATE_MAX_CATTLE_ID(csv_path):\n",
    "    print(csv_path, \" is csv_path and \")\n",
    "    global cattle_track_count\n",
    "    cattle_track_count+=1\n",
    "    data = pd.read_csv(csv_path)\n",
    "    \n",
    "    list_of_csv = [list(row) for row in data.values]\n",
    "\n",
    "    prev_id_record = [] \n",
    "    prev=None\n",
    "\n",
    "    current_cow = []\n",
    "    excel_cow_count = []\n",
    "    #boxes = []\n",
    "    #file_locations = []\n",
    "    black_count = (data['COLOR'] == 'B').sum()\n",
    "    #print((testing['RANK1'] == 10172).sum())\n",
    "    #total_cattlelen(testing['RANK1']))\n",
    "    total_cattle_count = len(list_of_csv)\n",
    "    if total_cattle_count/2 < black_count:\n",
    "        return 'BLACK'\n",
    "    \n",
    "    \n",
    "    # Group by 'id' and sum the 'score' for each group\n",
    "    grouped_df = data.groupby('RANK1')['RANK1_prob'].agg(['sum', 'count']).reset_index()\n",
    "\n",
    "    # Get the two highest occurrences\n",
    "    print(\"Processing tracking :\",cattle_track_count)\n",
    "    distinct_count = data['RANK1'].nunique()\n",
    "    \n",
    "        \n",
    "    top_two_occurrences = grouped_df.nlargest(2, 'sum')\n",
    "    first_id, first_score, first_count = top_two_occurrences.iloc[0]\n",
    "    if distinct_count ==1 :\n",
    "        return int(first_id)\n",
    "    if first_count < 7: #and distinct_count > 15 and:\n",
    "        second_ranks = data['RANK2'].value_counts()\n",
    "        max_occurrence_count = second_ranks.max()\n",
    "        if max_occurrence_count < 7:\n",
    "            return -1\n",
    "        # Get the value with the maximum occurrence\n",
    "        return second_ranks.idxmax()\n",
    "        \n",
    "        \n",
    "        # Get the maximum occurrence count\n",
    "        \n",
    "        #return -1 # UNKNOWN\n",
    "    second_id, second_score, second_count = top_two_occurrences.iloc[1]\n",
    "    print(\"The two highest occurrences: \")\n",
    "    print(f\"First id: {first_id}, Score: {first_score}, Count: {first_count}\")\n",
    "    print(f\"Second id: {second_id}, Score: {second_score}, Count: {second_count}\")\n",
    "    #if second_score/first_score > 0.8 and second_count/first_count > 0.8: #similar so consider as unknown\n",
    "    #    return -1 #UNKNOWN\n",
    "    return int(first_id)\n",
    "    #for i in range (total_cattle_count):\n",
    "    #    filtered_id = list_of_csv[i][0]\n",
    "    #    actual_id = list_of_csv[i][2]\n",
    "        \n",
    "    #    try: \n",
    "    #        index = current_cow.index(actual_id)\n",
    "    #        excel_cow_count[index]+=1\n",
    "    #    except:\n",
    "    #        current_cow.append(actual_id)\n",
    "    #        excel_cow_count.append(1)\n",
    "\n",
    "    #maxpos = excel_cow_count.index(max(excel_cow_count)) # max position in cow_count\n",
    "    #cattle_id = current_cow[maxpos]  # fetch the cattle id from max position index because they are same index\n",
    "    #print('threshold of tracking id:', cattle_track_count , ' is ' , max(excel_cow_count) / total_cattle_count )\n",
    "    \n",
    "    #if(max(excel_cow_count) / total_cattle_count < UNKNOWN_THRESHOLD):\n",
    "    #    return -1 #Unknown\n",
    "    #return int(cattle_id)#,file_locations,boxes\n"
   ]
  },
  {
   "cell_type": "code",
   "execution_count": 38,
   "id": "27fc9ce9-4de1-47e0-8f0d-bc4ebe83aef9",
   "metadata": {
    "tags": []
   },
   "outputs": [],
   "source": [
    "\n",
    "def get_final_cattle_id(save_dir,total_cattle):\n",
    "    final_id = []\n",
    "    global UNKNOWN_CATTLE\n",
    "    global BLACK_CATTLE \n",
    "    for i in range(1,total_cattle+1):\n",
    "        csv_path = save_dir + \"/\" + str(i) + \"/\" + str(i) + \".csv\"\n",
    "        \n",
    "        output_id =  CALCULATE_MAX_CATTLE_ID(csv_path)\n",
    "        print(output_id)\n",
    "        if output_id == 'BLACK':\n",
    "            #output_id = get_black_cattle_id(save_dir+\"/\"+str(i))\n",
    "            BLACK_CATTLE+=1\n",
    "            output_id = \"black_\"+str(BLACK_CATTLE)\n",
    "            print('tracking ',i, ' is black cow ',output_id)\n",
    "        if output_id == -1:\n",
    "            UNKNOWN_CATTLE+=1\n",
    "            output_id = \"U_\"+str(UNKNOWN_CATTLE)\n",
    "            print('tracking ',i, ' is ',output_id)\n",
    "            \n",
    "        final_id.append(output_id)\n",
    "    return final_id"
   ]
  },
  {
   "cell_type": "code",
   "execution_count": 13,
   "id": "949bfe5f-4de6-48a0-8f78-9f0e370f530e",
   "metadata": {},
   "outputs": [],
   "source": [
    "def get_black_cattle_id(filePath):\n",
    "    predictedId = []\n",
    "    for img_path in glob.glob(os.path.join(filePath, \"*.jpg\")):\n",
    "        img = cv2.imread(img_path, cv2.IMREAD_COLOR)\n",
    "        labels = Predict_SVM_black(img)\n",
    "        predictedId.append(labels[0])\n",
    "    \n",
    "    \n",
    "    return find_max_occurrence(predictedId)\n",
    "    "
   ]
  },
  {
   "cell_type": "code",
   "execution_count": 14,
   "id": "fd2b8d4c-7a4c-456a-bc51-9d6c4aeb8343",
   "metadata": {},
   "outputs": [],
   "source": [
    "\n",
    "from collections import Counter\n",
    "\n",
    "def find_max_occurrence(arr):\n",
    "    # Use Counter to count occurrences of each element\n",
    "    counter = Counter(arr)\n",
    "\n",
    "    # Find the element with the maximum occurrence\n",
    "    max_element = max(counter, key=counter.get)\n",
    "\n",
    "    # Get the count of the maximum occurring elemen\n",
    "\n",
    "    return max_element"
   ]
  },
  {
   "cell_type": "code",
   "execution_count": 15,
   "id": "96d5d266-6ce4-4300-8274-43cd35ed541c",
   "metadata": {},
   "outputs": [],
   "source": [
    "import glob\n",
    "\n",
    "def writeVideo(cap,filePath,csv_name,cattle_ids,total_frame):\n",
    "    img_array = []\n",
    "    size = (1920,1080)\n",
    "    names = ['cow']\n",
    "    main_csv_index = 0\n",
    "    data = pd.read_csv(filePath+\"/\"+csv_name)\n",
    "\n",
    "    list_of_csv = [list(row) for row in data.values]\n",
    "    vid_name = os.path.basename(os.path.normpath(filePath))\n",
    "    total_count = len(list_of_csv)\n",
    "    prev_image_id = 1\n",
    "    #vid_path = str(Path(filePath + \"/\" + vid_name ).with_suffix('.mp4'))\n",
    "    #out = cv2.VideoWriter(vid_path,cv2.VideoWriter_fourcc(*'mp4v'), 6, size)\n",
    "    #if len(img_locations)<10: \n",
    "    #    return -1\n",
    "    for filename in glob.glob(filePath+\"/all_images/\"+'/*.jpg'):\n",
    "        img = cv2.imread(filename)\n",
    "        \n",
    "        #print(os.path.isfile(filename))\n",
    "        #print(filename)\n",
    "        #print(filename)\n",
    "        height, width, layers = img.shape\n",
    "        size = (width,height)\n",
    "        img_array.append(img)\n",
    "    image_location = filePath+\"/all_images/\";\n",
    "    img_index = 0\n",
    "    for ind in range(1,total_frame):\n",
    "        image_path = image_location + str(ind) +\".jpg\"\n",
    "        #print(image_path)\n",
    "        img = cv2.imread(image_path)\n",
    "        \n",
    "        #print(os.path.isfile(filename))\n",
    "        #print(filename)\n",
    "        #print(filename)\n",
    "        #height, width, layers = img.shape\n",
    "        #size = (width,height)\n",
    "        #img = img_array[img_index]\n",
    "        #img_index +=1\n",
    "        #img = cv2.resize(img, size, interpolation = cv2.INTER_AREA)\n",
    "        #print(img.Shape)\n",
    "        #cv2.imshow('Cattle Images ', img)\n",
    "        #if cv2.waitKey(1) & 0xFF == ord(' '):\n",
    "        #    break\n",
    "        annotator = Annotator(img, line_width=3, example=str(names)) #font here\n",
    "        from_index = main_csv_index\n",
    "        print(from_index, ' from index')\n",
    "        is_draw = False\n",
    "        for i in range(from_index,total_count-1):\n",
    "            \n",
    "            main_csv_index+=1\n",
    "            print(ind, \"  <--x-->  \", list_of_csv[i][0])\n",
    "            if(ind!=list_of_csv[i][0]):\n",
    "                main_csv_index-=1\n",
    "                break\n",
    "            print('SAVING!!!!!')\n",
    "            tracking_id  = list_of_csv[i][1] -1\n",
    "            xyxy = [list_of_csv[i][2],list_of_csv[i][3],list_of_csv[i][4],list_of_csv[i][5]]\n",
    "\n",
    "            try:\n",
    "                annotator.box_label(xyxy,str(cattle_ids[tracking_id]), color=(15, 0, 255))\n",
    "            except:\n",
    "                annotator.box_label(xyxy,cattle_ids[tracking_id]+\"_\"+str(tracking_id), color=(15, 0, 255))\n",
    "            is_draw = True\n",
    "        if is_draw:\n",
    "            annotated_img =cv2.resize(annotator.result(),size) \n",
    "            cap.write(annotated_img)\n",
    "            #except:\n",
    "            #    print('did not write')\n",
    "            #    continue\n",
    "    #ut.release()\n",
    "    img_array=[]\n",
    "    print(\"done \", vid_name)\n",
    "    #v2.destroyAllWindows()\n",
    "    return id\n"
   ]
  },
  {
   "cell_type": "code",
   "execution_count": 16,
   "id": "7c55fddc-ffc5-432b-bd34-c94d6d711c9e",
   "metadata": {},
   "outputs": [],
   "source": [
    "# Function to draw a bounding box and annotate the image\n",
    "def draw_bounding_box(image, box, label):\n",
    "    # Extract the coordinates from the box\n",
    "    x1, y1, x2, y2 = box\n",
    "    #print(x1,' ',y1,x2,y2)\n",
    "\n",
    "    # Draw the bounding box rectangle on the image\n",
    "    cv2.rectangle(image, (x1, y1), (x2, y2), (0, 255, 0), 3)\n",
    "\n",
    "    # Define the text properties\n",
    "    text = f'{label}'\n",
    "    font = cv2.FONT_HERSHEY_SIMPLEX\n",
    "    font_scale =1\n",
    "    thickness = 2\n",
    "\n",
    "    # Calculate the size of the text\n",
    "    (text_width, text_height), _ = cv2.getTextSize(text, font, font_scale, thickness)\n",
    "\n",
    "    # Calculate the position for placing the text\n",
    "    text_x = x1\n",
    "    text_y = y1 - 10 if y1 >= 20 else y1 + 10 + text_height\n",
    "\n",
    "    # Draw the text background rectangle\n",
    "    cv2.rectangle(image, (text_x, text_y - text_height - 5), (text_x + text_width, text_y), (0, 255, 0), -1)\n",
    "\n",
    "    # Put the label text on the image\n",
    "    cv2.putText(image, text, (text_x, text_y), font, font_scale, (0, 0, 0), thickness, cv2.LINE_AA)\n",
    "\n",
    "# Example usage\n",
    "\n"
   ]
  },
  {
   "cell_type": "code",
   "execution_count": 17,
   "id": "c8cb6e8e-04e2-40ca-bd07-db6d380a4ac2",
   "metadata": {},
   "outputs": [],
   "source": [
    "def overlay(image, mask, color, alpha, resize=None):\n",
    "    \"\"\"Combines image and its segmentation mask into a single image.\n",
    "    \n",
    "    Params:\n",
    "        image: Training image. np.ndarray,\n",
    "        mask: Segmentation mask. np.ndarray,\n",
    "        color: Color for segmentation mask rendering.  tuple[int, int, int] = (255, 0, 0)\n",
    "        alpha: Segmentation mask's transparency. float = 0.5,\n",
    "        resize: If provided, both image and its mask are resized before blending them together.\n",
    "        tuple[int, int] = (1024, 1024))\n",
    "\n",
    "    Returns:\n",
    "        image_combined: The combined image. np.ndarray\n",
    "\n",
    "    \"\"\"\n",
    "    # color = color[::-1]\n",
    "    colored_mask = np.expand_dims(mask, 0).repeat(3, axis=0)\n",
    "    colored_mask = np.moveaxis(colored_mask, 0, -1)\n",
    "    masked = np.ma.MaskedArray(image, mask=colored_mask, fill_value=color)\n",
    "    image_overlay = masked.filled()\n",
    "\n",
    "    if resize is not None:\n",
    "        image = cv2.resize(image.transpose(1, 2, 0), resize)\n",
    "        image_overlay = cv2.resize(image_overlay.transpose(1, 2, 0), resize)\n",
    "\n",
    "    image_combined = cv2.addWeighted(image, 1 - alpha, image_overlay, alpha, 0)\n",
    "\n",
    "    return image_combined"
   ]
  },
  {
   "cell_type": "code",
   "execution_count": 18,
   "id": "3183ce0c-9532-4cee-9232-15a5689fb143",
   "metadata": {},
   "outputs": [],
   "source": [
    "def GET_LEFT_TO_RIGHT_ORDER(x1s):\n",
    "    orders = []\n",
    "    size = len(x1s)\n",
    "    #print(' x1s     ',x1s)\n",
    "    clones = x1s[:]\n",
    "    for i in range(size):\n",
    "        #print(clones)\n",
    "        id = (x1s.index(min(clones)))\n",
    "        #print(id)\n",
    "        orders.append(id)\n",
    "        clones.pop(clones.index(min(clones)))\n",
    "    #print(' sorted order :',orders)\n",
    "    return orders"
   ]
  },
  {
   "cell_type": "code",
   "execution_count": 19,
   "id": "46de810b-c4a0-4435-bb1c-abf138ec20d3",
   "metadata": {},
   "outputs": [],
   "source": [
    "async def add_lines_to_excel(existing_file, data_to_add):\n",
    "    \"\"\"\n",
    "    Add lines (rows) to an existing Excel file using a DataFrame.\n",
    "\n",
    "    Parameters:\n",
    "        existing_file (str): Path to the existing Excel file.\n",
    "        data_to_add (dict): Dictionary containing data to add. Keys are column names,\n",
    "                           and values are lists of data for each column.\n",
    "\n",
    "    Returns:\n",
    "        None\n",
    "    \"\"\"\n",
    "    try:\n",
    "        df_existing = pd.read_csv(existing_file,dtype={\n",
    "    'ImageId': 'string',\n",
    "    'LocalId': np.int64,\n",
    "    'xyxy1': np.int64,\n",
    "    'xyxy2': np.int64,\n",
    "    'xyxy3': np.int64,\n",
    "    'xyxy4': np.int64\n",
    "})\n",
    "    except FileNotFoundError:\n",
    "        df_existing = pd.DataFrame()\n",
    "\n",
    "    df_to_add = pd.DataFrame(data_to_add)\n",
    "    df_combined = pd.concat([df_existing, df_to_add], ignore_index=True)\n",
    "    df_combined.to_csv(existing_file, index=False)\n",
    "\n",
    "\n",
    "#add_lines_to_excel(existing_excel_file, data_to_add)\n",
    "#This function encapsulates the process of adding lines to an existing Excel file using a DataFrame. It first attempts to read the existing Excel file, creating an empty DataFrame if the file doesn't exist. Then, it creates a DataFrame from the data to add and concatenates it with the existing DataFrame. Finally, it writes the combined DataFrame back to the Excel file.\n",
    "\n",
    "#Make sure to replace 'path/to/your/existing/excel/file.xlsx' with the actual path to your existing Excel file and adjust the data_to_add dictionary accordingly.\n",
    "\n",
    "\n",
    "\n",
    "\n",
    "\n"
   ]
  },
  {
   "cell_type": "code",
   "execution_count": 20,
   "id": "67ac11d5-826d-473a-aa0f-a76241b4dc1a",
   "metadata": {},
   "outputs": [],
   "source": [
    "def create_default_csv(csv_file_path):\n",
    "    default_columns = ['ImageId', 'LocalId', 'xyxy1', 'xyxy2', 'xyxy3', 'xyxy4']  # Add your desired column headers here\n",
    "\n",
    "    # Create an empty DataFrame with the default columns\n",
    "    empty_df = pd.DataFrame(columns=default_columns)\n",
    "\n",
    "    # Save the empty DataFrame to a CSV file\n",
    "    empty_df.to_csv(csv_file_path, index=False)"
   ]
  },
  {
   "cell_type": "code",
   "execution_count": 21,
   "id": "11c82f8d-36b2-42e0-9809-a7c23c993f00",
   "metadata": {},
   "outputs": [],
   "source": [
    "def concat_main_csv(data):\n",
    "    with main_df_lock:\n",
    "        global MAIN_DF\n",
    "        MAIN_DF = pd.concat([MAIN_DF, data], ignore_index=True)"
   ]
  },
  {
   "cell_type": "code",
   "execution_count": 22,
   "id": "5f458f0a-d6d7-44a1-8d0e-609b35963bc7",
   "metadata": {},
   "outputs": [],
   "source": [
    "#creating default csv\n",
    "#filename of csv path, N_TOP for number of TOP value\n",
    "def creating_default_csv(csv_file_name,N_TOP):\n",
    "    data = [\n",
    "    [\"ID\",\"COLOR\",\t\"RANK1\", \"RANK1_prob\"]\n",
    "    ]\n",
    "    \n",
    "    for i in range(2,N_TOP+1):\n",
    "        data[0].extend([f\"RANK{i}\",f\"RANK{i}_prob\"])\n",
    "    print(data)\n",
    "                       \n",
    "    # Specify the file name\n",
    "\n",
    "    # Writing to the CSV file\n",
    "    with open(csv_file_name, mode='w', newline='') as file:\n",
    "        writer = csv.writer(file)\n",
    "\n",
    "        # Write the header\n",
    "        writer.writerow(data[0])"
   ]
  },
  {
   "cell_type": "code",
   "execution_count": 23,
   "id": "2a412f31-9f7c-4d19-a8e8-04d1643b4ba4",
   "metadata": {},
   "outputs": [],
   "source": [
    "def write_to_csv(file_name, data):\n",
    "    with open(file_name, mode='a', newline='') as file:\n",
    "        writer = csv.writer(file)\n",
    "        writer.writerow(data)"
   ]
  },
  {
   "cell_type": "code",
   "execution_count": 24,
   "id": "802d4152-217d-4411-bd8b-837e252b59f7",
   "metadata": {},
   "outputs": [],
   "source": [
    "def calculate_black_white_percentage_rgb(image, threshold=150):\n",
    "    # Apply the threshold to each channel\n",
    "    binary_mask = (image <= threshold).all(axis=-1) * 255\n",
    "    \n",
    "    #cv2.imshow('Masked Image', image)\n",
    "    #cv2.waitKey(1)\n",
    "    \n",
    "        \n",
    "    # Calculate the percentage of black and white pixels\n",
    "    total_pixels = binary_mask.size\n",
    "    black_pixels = np.count_nonzero(binary_mask == 0)\n",
    "    white_pixels = np.count_nonzero(binary_mask == 255)\n",
    "\n",
    "    black_percentage = (black_pixels / total_pixels) * 100\n",
    "    white_percentage = (white_pixels / total_pixels) * 100\n",
    "\n",
    "    return black_percentage, white_percentage\n",
    "\n"
   ]
  },
  {
   "cell_type": "code",
   "execution_count": 25,
   "id": "82d3bcaf-c6fd-4eba-a04b-be1e81ce7f7f",
   "metadata": {},
   "outputs": [],
   "source": [
    "async def calculate_white_pixel_percentage(image):\n",
    "    # Convert the image to grayscale\n",
    "    \n",
    "    if not image.dtype in [np.uint8, np.uint16]:\n",
    "        image = (image / image.max() * 255).astype(np.uint8)\n",
    "    #cv2.imshow('BGR Image', image)\n",
    "    \n",
    "    gray_image = cv2.cvtColor(image, cv2.COLOR_RGB2GRAY)\n",
    "    #thresholded_image = cv2.adaptiveThreshold(gray_image, 255, cv2.ADAPTIVE_THRESH_MEAN_C, cv2.THRESH_BINARY, 11, 2)\n",
    "    #white_pixel_count = np.sum(thresholded_image == 255)\n",
    "    #total_pixels = thresholded_image.size\n",
    "    #threshold_image = otsu_threshold(gray_image)\n",
    "    #otsu_thresholded_image = otsu_threshold_dynamic(gray_image)\n",
    "    # Apply Otsu thresholding\n",
    "    #otsu_thresholded_image = otsu_threshold(gray_image)\n",
    "\n",
    "    # Count white and black pixels after Otsu thresholding\n",
    "    #white_pixel_count = np.sum(otsu_thresholded_image == 255)\n",
    "    #black_pixel_count = np.sum(otsu_thresholded_image == 0)\n",
    "\n",
    "    # Calculate the total number of pixels\n",
    "    #total_pixels = otsu_thresholded_image.size\n",
    "\n",
    "    # Calculate the white pixel percentage\n",
    "    #white_pixel_percentage = (white_pixel_count / total_pixels) * 100\n",
    "    \n",
    "\n",
    "    # Calculate the white pixel percentage\n",
    "    #white_pixel_percentage = (white_pixel_count / total_pixels) * 100\n",
    "    #print('White Pixel Percentage is :',white_pixel_percentage)\n",
    "    #return white_pixel_percentage\n",
    "    #_, thresholded_image = cv2.threshold(image, threshold_value, 255, cv2.THRESH_BINARY)\n",
    "    #threshold_value = otsu_threshold(gray_image)\n",
    "    #threshold_value = find_peak_intensity(gray_image)\n",
    "    #threshold_value = otsu_CDF(gray_image)\n",
    "    #return dynamic_threshold_cattle_back(gray_image)\n",
    "    return dynamic_threshold_cattle_back_area(gray_image)\n",
    "\n",
    "    #print(f\"Otsu's threshold: {threshold_value}\")\n",
    "\n",
    "    # Plot the histogram\n",
    "    if True:\n",
    "        plt.figure(figsize=(10, 5))\n",
    "        plt.subplot(1, 2, 1)\n",
    "        plt.imshow(gray_image, cmap='gray')\n",
    "        plt.title('Original Image')\n",
    "\n",
    "        plt.subplot(1, 2, 2)\n",
    "        plt.hist(image.flatten(), 256, [0, 256], color='r')\n",
    "        plt.axvline(x=threshold_value, color='k', linestyle='-.', linewidth=2, label=f'Otsu\\'s Threshold: {threshold_value}')\n",
    "        plt.title('Histogram')\n",
    "        plt.legend()\n",
    "\n",
    "        plt.show()\n",
    "\n",
    "    # Apply thresholding\n",
    "    \n",
    "\n",
    "    # Display the original and thresholded images\n",
    "    #cv2.imshow('Original Image', image)\n",
    "    #cv2.imshow('Thresholded Image', thresholded_image)\n",
    "    #cv2.imshow('gray Image', gray_image)\n",
    "    \n",
    "    # Apply threshold to create a binary mask\n",
    "    _, binary_mask = cv2.threshold(gray_image, threshold_value, 255, cv2.THRESH_BINARY)\n",
    "\n",
    "    # Calculate the percentage of white pixels\n",
    "    total_pixels = binary_mask.size\n",
    "    white_pixels = np.count_nonzero(binary_mask == 255)\n",
    "\n",
    "    white_percentage = (white_pixels / total_pixels) * 100\n",
    "    white_pixels_only = cv2.bitwise_and(image, image, mask=binary_mask)\n",
    "\n",
    "    # Display the images\n",
    "    cv2.imshow('Original Image', image)\n",
    "    cv2.imshow('White Pixels Only', white_pixels_only)\n",
    "\n",
    "    #return white_pixel_percentage\n",
    "    return white_percentage\n"
   ]
  },
  {
   "cell_type": "code",
   "execution_count": 26,
   "id": "07587ea3-1f24-434c-b84e-fa2507c6bb4e",
   "metadata": {},
   "outputs": [],
   "source": [
    "def dynamic_threshold_cattle_back(img, block_size=15, constant=5):\n",
    "    # Read the image\n",
    "    \n",
    "\n",
    "    # Apply adaptive thresholding\n",
    "    thresh = cv2.adaptiveThreshold(img, 255, cv2.ADAPTIVE_THRESH_MEAN_C, cv2.THRESH_BINARY, block_size, constant)\n",
    "\n",
    "    # Display the original and thresholded images\n",
    "    cv2.imshow('Original Image', img)\n",
    "    cv2.imshow('Thresholded Image', thresh)\n",
    "    cv2.waitKey(0)\n",
    "    cv2.destroyAllWindows()\n",
    "    #return thresh"
   ]
  },
  {
   "cell_type": "code",
   "execution_count": 27,
   "id": "3095864a-53cd-4d59-a8fa-85373ccfd109",
   "metadata": {
    "tags": []
   },
   "outputs": [],
   "source": [
    "def otsu_CDF(image):\n",
    "    start = 50\n",
    "    end = 230\n",
    "    \n",
    "\n",
    "    \n",
    "    # Ensure the image is in the desired range (30 to 230 pixels)\n",
    "    image = np.clip(image, 30, 230)\n",
    "\n",
    "    # Step 2: Calculate histogram\n",
    "    histogram, bins = np.histogram(image.flatten(), bins=256, range=[30, 231])\n",
    "\n",
    "    # Step 3: Normalize histogram\n",
    "    normalized_histogram = histogram / np.sum(histogram)\n",
    "\n",
    "    # Step 4: Calculate CDF and Mean\n",
    "    cdf = np.cumsum(normalized_histogram)\n",
    "    #mean_intensity = np.sum((np.arange(30, 231) * normalized_histogram)[bins[:-1].astype(int)])\n",
    "\n",
    "\n",
    "    # Step 5: Calculate Between-Class Variance\n",
    "    variances = np.zeros(201)  # 230 - 30 + 1 = 201\n",
    "    for i in range(1, 201):\n",
    "        w0 = np.sum(normalized_histogram[:i])\n",
    "        w1 = np.sum(normalized_histogram[i:])\n",
    "        mu0 = np.sum(np.arange(30, 30 + i) * normalized_histogram[:i]) / w0\n",
    "        mu1 = np.sum(np.arange(30 + i, 30 + i + len(normalized_histogram[i:])) * normalized_histogram[i:]) / w1\n",
    "        variances[i] = w0 * w1 * (mu0 - mu1)**2\n",
    "\n",
    "    # Step 6: Find Optimal Threshold within the specified range\n",
    "    optimal_threshold = np.argmax(variances) + 30  # Add back the lower bound of the range\n",
    "    \n",
    "    return optimal_threshold"
   ]
  },
  {
   "cell_type": "code",
   "execution_count": 28,
   "id": "e32d4ade-cf78-43d4-8d80-51b45bd0af52",
   "metadata": {},
   "outputs": [],
   "source": [
    "\n",
    "def otsu_threshold(image):\n",
    "    #cv2.imshow('BGR Image', image)\n",
    "    \n",
    "    #image = cv2.cvtColor(image, cv2.COLOR_RGB2GRAY)\n",
    "    # Compute histogram and normalized histogram\n",
    "    hist, bins = np.histogram(image.flatten(), 256, [0, 256])\n",
    "    \n",
    "    #peak_intensity = np.argmax(hist)\n",
    "\n",
    "    #Testing peak_intensity\n",
    "    #return peak_intensity-5\n",
    "    \n",
    "    hist_norm = hist / hist.sum()\n",
    "\n",
    "    # Initialization\n",
    "    sum_total = 0\n",
    "    for i in range(256):\n",
    "        sum_total += i * hist_norm[i]\n",
    "\n",
    "    sum_background = 0\n",
    "    weight_background = 0\n",
    "\n",
    "    max_variance = 0\n",
    "    threshold = 0\n",
    "\n",
    "    # Iterate through all possible thresholds\n",
    "    for i in range(256):\n",
    "        weight_background += hist_norm[i]\n",
    "        weight_foreground = 1 - weight_background\n",
    "\n",
    "        sum_background += i * hist_norm[i]\n",
    "\n",
    "        mean_background = sum_background / (weight_background + 1e-10)\n",
    "        mean_foreground = (sum_total - sum_background) / (weight_foreground + 1e-10)\n",
    "\n",
    "        intra_class_variance = weight_background * weight_foreground * (mean_background - mean_foreground) ** 2\n",
    "\n",
    "        # Update threshold if variance is greater\n",
    "        if intra_class_variance > max_variance:\n",
    "            max_variance = intra_class_variance\n",
    "            threshold = i\n",
    "\n",
    "    return threshold\n",
    "\n",
    "# Example usage:\n",
    "\n"
   ]
  },
  {
   "cell_type": "code",
   "execution_count": 29,
   "id": "b5ccbce6-8b99-4ad7-98e6-ec5aebf4c822",
   "metadata": {},
   "outputs": [],
   "source": [
    "def otsu_threshold_dynamic(image):\n",
    "    _, thresholded_image = cv2.threshold(image, 0, 255, cv2.THRESH_BINARY + cv2.THRESH_OTSU)\n",
    "    return thresholded_image\n"
   ]
  },
  {
   "cell_type": "code",
   "execution_count": 30,
   "id": "cc801768-7f99-40fb-ad61-9e0271112683",
   "metadata": {},
   "outputs": [],
   "source": [
    "def find_peak_intensity(image, intensity_range=(50, 255)):\n",
    "    # Clip the image values to the specified range\n",
    "    clipped_image = np.clip(image, intensity_range[0], intensity_range[1])\n",
    "\n",
    "    # Compute histogram and find the peak intensity within the specified range\n",
    "    hist, bins = np.histogram(clipped_image.flatten(), intensity_range[1] - intensity_range[0] + 1, [intensity_range[0], intensity_range[1]])\n",
    "    peak_intensity = np.argmax(hist) + intensity_range[0]\n",
    "\n",
    "    return peak_intensity"
   ]
  },
  {
   "cell_type": "code",
   "execution_count": 31,
   "id": "e050d757-f94a-4ce4-90b2-407e632cd468",
   "metadata": {},
   "outputs": [],
   "source": [
    "from PIL import Image, ImageOps\n",
    "\n",
    "def resize_image(input_array,new_size):\n",
    "    # Open the image\n",
    "    #new_size = (224,224)\n",
    "    original_image = Image.fromarray(input_array)\n",
    "\n",
    "    # Create a new image with the desired size and fill it with black pixels\n",
    "    new_image = Image.new(\"RGB\", new_size, (0, 0, 0))\n",
    "\n",
    "    # Calculate the position to paste the original image in the center\n",
    "    x_offset = (new_size[0] - original_image.width) // 2\n",
    "    y_offset = (new_size[1] - original_image.height) // 2\n",
    "\n",
    "    # Paste the original image onto the new image\n",
    "    new_image.paste(original_image, (x_offset, y_offset))\n",
    "    #return cv2.cvtColor(np.array(new_image),cv2.COLOR_RGB2BGR)\n",
    "    return np.array(new_image)\n",
    "    #bgr_array = cv2.cvtColor(numpy_array, cv2.COLOR_RGB2BGR)\n",
    "    # Save the result_image\n",
    "    #new_image.save(output_path)\n",
    "\n",
    "\n",
    "\n"
   ]
  },
  {
   "cell_type": "code",
   "execution_count": 32,
   "id": "02426856-ebec-4bbf-b781-1b2249f3efb5",
   "metadata": {},
   "outputs": [],
   "source": [
    "def dynamic_threshold_cattle_back(img, threshold_factor=0.75): #0.7 was best\n",
    "    # Read the image\n",
    "\n",
    "    # Calculate a dynamic threshold based on pixel intensity\n",
    "    threshold_value = int(np.max(img) * threshold_factor)\n",
    "\n",
    "    # Apply the threshold\n",
    "    _, thresh = cv2.threshold(img, threshold_value, 255, cv2.THRESH_BINARY)\n",
    "\n",
    "    total_pixels = img.size\n",
    "    white_pixels = cv2.countNonZero(thresh)\n",
    "    white_pixel_percentage = (white_pixels / total_pixels) * 100\n",
    "    \n",
    "    \n",
    "    # Display the original and thresholded images\n",
    "    cv2.imshow('Original Image', img)\n",
    "    cv2.imshow('Thresholded Image', thresh)\n",
    "    #cv2.waitKey(0)\n",
    "    #cv2.destroyAllWindows()\n",
    "    return white_pixel_percentage"
   ]
  },
  {
   "cell_type": "code",
   "execution_count": 33,
   "id": "304f8f13-1cec-4555-8e2b-aedb17d3c5e9",
   "metadata": {},
   "outputs": [],
   "source": [
    "def dynamic_threshold_cattle_back_area(img, threshold_factor=0.7, min_area=200):\n",
    "    # Read the image\n",
    "\n",
    "\n",
    "    # Calculate a dynamic threshold based on pixel intensity\n",
    "    threshold_value = int(np.max(img) * threshold_factor)\n",
    "\n",
    "    # Apply the threshold\n",
    "    _, thresh = cv2.threshold(img, threshold_value, 255, cv2.THRESH_BINARY)\n",
    "\n",
    "    # Morphological operations to eliminate small, straight white regions\n",
    "    kernel = np.ones((5, 5), np.uint8)\n",
    "    thresh = cv2.morphologyEx(thresh, cv2.MORPH_CLOSE, kernel)\n",
    "\n",
    "    # Find contours and filter based on minimum area\n",
    "    contours, _ = cv2.findContours(thresh, cv2.RETR_EXTERNAL, cv2.CHAIN_APPROX_SIMPLE)\n",
    "    for contour in contours:\n",
    "        area = cv2.contourArea(contour)\n",
    "        if area < min_area:\n",
    "            cv2.drawContours(thresh, [contour], -1, (0, 0, 0), thickness=cv2.FILLED)\n",
    "\n",
    "    # Calculate the percentage of white pixels\n",
    "    total_pixels = img.size\n",
    "    white_pixels = cv2.countNonZero(thresh)\n",
    "    white_pixel_percentage = (white_pixels / total_pixels) * 100\n",
    "\n",
    "    # Display the original and processed images\n",
    "    cv2.imshow('Original Image', img)\n",
    "    cv2.imshow('Processed Image', thresh)\n",
    "    return white_pixel_percentage\n"
   ]
  },
  {
   "cell_type": "code",
   "execution_count": 39,
   "id": "afdb74da-43cd-41c9-a0d7-e8a40767d926",
   "metadata": {
    "scrolled": true,
    "tags": []
   },
   "outputs": [
    {
     "name": "stderr",
     "output_type": "stream",
     "text": [
      "\n",
      "WARNING  'Masks.masks' is deprecated. Use 'Masks.data' instead.\n",
      "video 1/1 (1/302) D:\\815_CowDataChecking\\Honkawa\\2023-07-31\\03\\output_1fps\\20230731-030500-031000_10fps_1fps.mp4: 384x640 1 cow, 32.5ms\n"
     ]
    },
    {
     "name": "stdout",
     "output_type": "stream",
     "text": [
      "20230731-030500-031000_10fps_1fps.mp4_track\n",
      "yolo->v8->segement->model.py 235\n",
      "D:\\Python\\SULarbmon\\Python\\env\\yolov8_june\\ultralytics\\runs\\segment\\honkawa_1103_112_BWH_RANK_2_weights\\July_31_2023\\03_1fps_wwhite_otsu3\\20230731-030500-031000_10fps_1fps.mp4\n",
      "I am in stream_loaders.py 168\n"
     ]
    },
    {
     "name": "stderr",
     "output_type": "stream",
     "text": [
      "WARNING  'Masks.masks' is deprecated. Use 'Masks.data' instead.\n",
      "video 1/1 (2/302) D:\\815_CowDataChecking\\Honkawa\\2023-07-31\\03\\output_1fps\\20230731-030500-031000_10fps_1fps.mp4: 384x640 1 cow, 88.5ms\n",
      "WARNING  'Masks.masks' is deprecated. Use 'Masks.data' instead.\n",
      "video 1/1 (3/302) D:\\815_CowDataChecking\\Honkawa\\2023-07-31\\03\\output_1fps\\20230731-030500-031000_10fps_1fps.mp4: 384x640 1 cow, 51.5ms\n",
      "WARNING  'Masks.masks' is deprecated. Use 'Masks.data' instead.\n",
      "video 1/1 (4/302) D:\\815_CowDataChecking\\Honkawa\\2023-07-31\\03\\output_1fps\\20230731-030500-031000_10fps_1fps.mp4: 384x640 1 cow, 19.0ms\n",
      "WARNING  'Masks.masks' is deprecated. Use 'Masks.data' instead.\n",
      "video 1/1 (5/302) D:\\815_CowDataChecking\\Honkawa\\2023-07-31\\03\\output_1fps\\20230731-030500-031000_10fps_1fps.mp4: 384x640 1 cow, 18.5ms\n",
      "WARNING  'Masks.masks' is deprecated. Use 'Masks.data' instead.\n",
      "video 1/1 (6/302) D:\\815_CowDataChecking\\Honkawa\\2023-07-31\\03\\output_1fps\\20230731-030500-031000_10fps_1fps.mp4: 384x640 1 cow, 18.0ms\n",
      "WARNING  'Masks.masks' is deprecated. Use 'Masks.data' instead.\n",
      "video 1/1 (7/302) D:\\815_CowDataChecking\\Honkawa\\2023-07-31\\03\\output_1fps\\20230731-030500-031000_10fps_1fps.mp4: 384x640 1 cow, 19.0ms\n",
      "WARNING  'Masks.masks' is deprecated. Use 'Masks.data' instead.\n",
      "video 1/1 (8/302) D:\\815_CowDataChecking\\Honkawa\\2023-07-31\\03\\output_1fps\\20230731-030500-031000_10fps_1fps.mp4: 384x640 1 cow, 18.0ms\n",
      "WARNING  'Masks.masks' is deprecated. Use 'Masks.data' instead.\n",
      "video 1/1 (9/302) D:\\815_CowDataChecking\\Honkawa\\2023-07-31\\03\\output_1fps\\20230731-030500-031000_10fps_1fps.mp4: 384x640 1 cow, 17.0ms\n",
      "WARNING  'Masks.masks' is deprecated. Use 'Masks.data' instead.\n",
      "video 1/1 (10/302) D:\\815_CowDataChecking\\Honkawa\\2023-07-31\\03\\output_1fps\\20230731-030500-031000_10fps_1fps.mp4: 384x640 1 cow, 13.0ms\n",
      "WARNING  'Masks.masks' is deprecated. Use 'Masks.data' instead.\n",
      "video 1/1 (11/302) D:\\815_CowDataChecking\\Honkawa\\2023-07-31\\03\\output_1fps\\20230731-030500-031000_10fps_1fps.mp4: 384x640 1 cow, 17.0ms\n",
      "WARNING  'Masks.masks' is deprecated. Use 'Masks.data' instead.\n",
      "video 1/1 (12/302) D:\\815_CowDataChecking\\Honkawa\\2023-07-31\\03\\output_1fps\\20230731-030500-031000_10fps_1fps.mp4: 384x640 2 cows, 16.0ms\n",
      "WARNING  'Masks.masks' is deprecated. Use 'Masks.data' instead.\n",
      "video 1/1 (13/302) D:\\815_CowDataChecking\\Honkawa\\2023-07-31\\03\\output_1fps\\20230731-030500-031000_10fps_1fps.mp4: 384x640 2 cows, 19.0ms\n",
      "WARNING  'Masks.masks' is deprecated. Use 'Masks.data' instead.\n",
      "video 1/1 (14/302) D:\\815_CowDataChecking\\Honkawa\\2023-07-31\\03\\output_1fps\\20230731-030500-031000_10fps_1fps.mp4: 384x640 2 cows, 18.1ms\n",
      "WARNING  'Masks.masks' is deprecated. Use 'Masks.data' instead.\n",
      "video 1/1 (15/302) D:\\815_CowDataChecking\\Honkawa\\2023-07-31\\03\\output_1fps\\20230731-030500-031000_10fps_1fps.mp4: 384x640 2 cows, 19.0ms\n",
      "WARNING  'Masks.masks' is deprecated. Use 'Masks.data' instead.\n"
     ]
    },
    {
     "name": "stdout",
     "output_type": "stream",
     "text": [
      "1/1 [==============================] - 0s 48ms/step\n"
     ]
    },
    {
     "name": "stderr",
     "output_type": "stream",
     "text": [
      "video 1/1 (16/302) D:\\815_CowDataChecking\\Honkawa\\2023-07-31\\03\\output_1fps\\20230731-030500-031000_10fps_1fps.mp4: 384x640 2 cows, 17.0ms\n",
      "WARNING  'Masks.masks' is deprecated. Use 'Masks.data' instead.\n"
     ]
    },
    {
     "name": "stdout",
     "output_type": "stream",
     "text": [
      "White Percentage of 1: 1.10%\n",
      "[['ID', 'COLOR', 'RANK1', 'RANK1_prob', 'RANK2', 'RANK2_prob', 'RANK3', 'RANK3_prob', 'RANK4', 'RANK4_prob', 'RANK5', 'RANK5_prob']]\n",
      "new cattle  xxxxxxxxxxxxxxxxxxxxx new cattle alert \n",
      "1/1 [==============================] - 0s 50ms/step\n"
     ]
    },
    {
     "name": "stderr",
     "output_type": "stream",
     "text": [
      "video 1/1 (17/302) D:\\815_CowDataChecking\\Honkawa\\2023-07-31\\03\\output_1fps\\20230731-030500-031000_10fps_1fps.mp4: 384x640 2 cows, 19.0ms\n",
      "WARNING  'Masks.masks' is deprecated. Use 'Masks.data' instead.\n"
     ]
    },
    {
     "name": "stdout",
     "output_type": "stream",
     "text": [
      "White Percentage of 1: 1.07%\n",
      "1/1 [==============================] - 0s 44ms/step\n"
     ]
    },
    {
     "name": "stderr",
     "output_type": "stream",
     "text": [
      "video 1/1 (18/302) D:\\815_CowDataChecking\\Honkawa\\2023-07-31\\03\\output_1fps\\20230731-030500-031000_10fps_1fps.mp4: 384x640 2 cows, 17.0ms\n",
      "WARNING  'Masks.masks' is deprecated. Use 'Masks.data' instead.\n"
     ]
    },
    {
     "name": "stdout",
     "output_type": "stream",
     "text": [
      "White Percentage of 1: 1.16%\n",
      "1/1 [==============================] - 0s 48ms/step\n"
     ]
    },
    {
     "name": "stderr",
     "output_type": "stream",
     "text": [
      "video 1/1 (19/302) D:\\815_CowDataChecking\\Honkawa\\2023-07-31\\03\\output_1fps\\20230731-030500-031000_10fps_1fps.mp4: 384x640 2 cows, 26.0ms\n",
      "WARNING  'Masks.masks' is deprecated. Use 'Masks.data' instead.\n"
     ]
    },
    {
     "name": "stdout",
     "output_type": "stream",
     "text": [
      "White Percentage of 1: 1.29%\n",
      "1/1 [==============================] - 0s 40ms/step\n"
     ]
    },
    {
     "name": "stderr",
     "output_type": "stream",
     "text": [
      "video 1/1 (20/302) D:\\815_CowDataChecking\\Honkawa\\2023-07-31\\03\\output_1fps\\20230731-030500-031000_10fps_1fps.mp4: 384x640 2 cows, 10.5ms\n",
      "WARNING  'Masks.masks' is deprecated. Use 'Masks.data' instead.\n"
     ]
    },
    {
     "name": "stdout",
     "output_type": "stream",
     "text": [
      "White Percentage of 1: 1.44%\n",
      "1/1 [==============================] - 0s 45ms/step\n"
     ]
    },
    {
     "name": "stderr",
     "output_type": "stream",
     "text": [
      "video 1/1 (21/302) D:\\815_CowDataChecking\\Honkawa\\2023-07-31\\03\\output_1fps\\20230731-030500-031000_10fps_1fps.mp4: 384x640 2 cows, 17.0ms\n",
      "WARNING  'Masks.masks' is deprecated. Use 'Masks.data' instead.\n"
     ]
    },
    {
     "name": "stdout",
     "output_type": "stream",
     "text": [
      "White Percentage of 1: 1.52%\n",
      "1/1 [==============================] - 0s 40ms/step\n"
     ]
    },
    {
     "name": "stderr",
     "output_type": "stream",
     "text": [
      "video 1/1 (22/302) D:\\815_CowDataChecking\\Honkawa\\2023-07-31\\03\\output_1fps\\20230731-030500-031000_10fps_1fps.mp4: 384x640 2 cows, 14.0ms\n",
      "WARNING  'Masks.masks' is deprecated. Use 'Masks.data' instead.\n"
     ]
    },
    {
     "name": "stdout",
     "output_type": "stream",
     "text": [
      "White Percentage of 1: 1.48%\n",
      "1/1 [==============================] - 0s 38ms/step\n"
     ]
    },
    {
     "name": "stderr",
     "output_type": "stream",
     "text": [
      "video 1/1 (23/302) D:\\815_CowDataChecking\\Honkawa\\2023-07-31\\03\\output_1fps\\20230731-030500-031000_10fps_1fps.mp4: 384x640 2 cows, 17.0ms\n",
      "WARNING  'Masks.masks' is deprecated. Use 'Masks.data' instead.\n"
     ]
    },
    {
     "name": "stdout",
     "output_type": "stream",
     "text": [
      "White Percentage of 1: 1.44%\n",
      "1/1 [==============================] - 0s 38ms/step\n"
     ]
    },
    {
     "name": "stderr",
     "output_type": "stream",
     "text": [
      "video 1/1 (24/302) D:\\815_CowDataChecking\\Honkawa\\2023-07-31\\03\\output_1fps\\20230731-030500-031000_10fps_1fps.mp4: 384x640 2 cows, 14.0ms\n",
      "WARNING  'Masks.masks' is deprecated. Use 'Masks.data' instead.\n"
     ]
    },
    {
     "name": "stdout",
     "output_type": "stream",
     "text": [
      "White Percentage of 1: 1.55%\n",
      "1/1 [==============================] - 0s 37ms/step\n"
     ]
    },
    {
     "name": "stderr",
     "output_type": "stream",
     "text": [
      "video 1/1 (25/302) D:\\815_CowDataChecking\\Honkawa\\2023-07-31\\03\\output_1fps\\20230731-030500-031000_10fps_1fps.mp4: 384x640 3 cows, 20.0ms\n",
      "WARNING  'Masks.masks' is deprecated. Use 'Masks.data' instead.\n"
     ]
    },
    {
     "name": "stdout",
     "output_type": "stream",
     "text": [
      "White Percentage of 1: 1.45%\n",
      "1/1 [==============================] - 0s 43ms/step\n",
      "White Percentage of 1: 1.70%\n",
      "1/1 [==============================] - 0s 38ms/step\n"
     ]
    },
    {
     "name": "stderr",
     "output_type": "stream",
     "text": [
      "video 1/1 (26/302) D:\\815_CowDataChecking\\Honkawa\\2023-07-31\\03\\output_1fps\\20230731-030500-031000_10fps_1fps.mp4: 384x640 3 cows, 20.0ms\n",
      "WARNING  'Masks.masks' is deprecated. Use 'Masks.data' instead.\n"
     ]
    },
    {
     "name": "stdout",
     "output_type": "stream",
     "text": [
      "White Percentage of 2: 21.05%\n",
      "[['ID', 'COLOR', 'RANK1', 'RANK1_prob', 'RANK2', 'RANK2_prob', 'RANK3', 'RANK3_prob', 'RANK4', 'RANK4_prob', 'RANK5', 'RANK5_prob']]\n",
      "new cattle  xxxxxxxxxxxxxxxxxxxxx new cattle alert \n",
      "1/1 [==============================] - 0s 45ms/step\n",
      "White Percentage of 1: 1.86%\n",
      "1/1 [==============================] - 0s 42ms/step\n"
     ]
    },
    {
     "name": "stderr",
     "output_type": "stream",
     "text": [
      "video 1/1 (27/302) D:\\815_CowDataChecking\\Honkawa\\2023-07-31\\03\\output_1fps\\20230731-030500-031000_10fps_1fps.mp4: 384x640 3 cows, 14.0ms\n",
      "WARNING  'Masks.masks' is deprecated. Use 'Masks.data' instead.\n"
     ]
    },
    {
     "name": "stdout",
     "output_type": "stream",
     "text": [
      "White Percentage of 2: 22.12%\n",
      "1/1 [==============================] - 0s 74ms/step\n",
      "White Percentage of 1: 1.68%\n",
      "1/1 [==============================] - 0s 38ms/step\n"
     ]
    },
    {
     "name": "stderr",
     "output_type": "stream",
     "text": [
      "video 1/1 (28/302) D:\\815_CowDataChecking\\Honkawa\\2023-07-31\\03\\output_1fps\\20230731-030500-031000_10fps_1fps.mp4: 384x640 3 cows, 35.0ms\n",
      "WARNING  'Masks.masks' is deprecated. Use 'Masks.data' instead.\n"
     ]
    },
    {
     "name": "stdout",
     "output_type": "stream",
     "text": [
      "White Percentage of 2: 21.52%\n",
      "1/1 [==============================] - 0s 39ms/step\n",
      "White Percentage of 1: 1.51%\n",
      "1/1 [==============================] - 0s 38ms/step\n"
     ]
    },
    {
     "name": "stderr",
     "output_type": "stream",
     "text": [
      "video 1/1 (29/302) D:\\815_CowDataChecking\\Honkawa\\2023-07-31\\03\\output_1fps\\20230731-030500-031000_10fps_1fps.mp4: 384x640 3 cows, 12.0ms\n",
      "WARNING  'Masks.masks' is deprecated. Use 'Masks.data' instead.\n"
     ]
    },
    {
     "name": "stdout",
     "output_type": "stream",
     "text": [
      "White Percentage of 2: 21.80%\n",
      "1/1 [==============================] - 0s 37ms/step\n",
      "White Percentage of 1: 1.52%\n",
      "1/1 [==============================] - 0s 38ms/step\n"
     ]
    },
    {
     "name": "stderr",
     "output_type": "stream",
     "text": [
      "video 1/1 (30/302) D:\\815_CowDataChecking\\Honkawa\\2023-07-31\\03\\output_1fps\\20230731-030500-031000_10fps_1fps.mp4: 384x640 3 cows, 26.0ms\n",
      "WARNING  'Masks.masks' is deprecated. Use 'Masks.data' instead.\n"
     ]
    },
    {
     "name": "stdout",
     "output_type": "stream",
     "text": [
      "White Percentage of 2: 21.58%\n",
      "1/1 [==============================] - 0s 37ms/step\n",
      "White Percentage of 1: 1.47%\n",
      "1/1 [==============================] - 0s 39ms/step\n"
     ]
    },
    {
     "name": "stderr",
     "output_type": "stream",
     "text": [
      "video 1/1 (31/302) D:\\815_CowDataChecking\\Honkawa\\2023-07-31\\03\\output_1fps\\20230731-030500-031000_10fps_1fps.mp4: 384x640 4 cows, 21.0ms\n",
      "WARNING  'Masks.masks' is deprecated. Use 'Masks.data' instead.\n"
     ]
    },
    {
     "name": "stdout",
     "output_type": "stream",
     "text": [
      "White Percentage of 2: 21.56%\n",
      "1/1 [==============================] - 0s 37ms/step\n",
      "White Percentage of 1: 2.84%\n",
      "1/1 [==============================] - 0s 53ms/step\n"
     ]
    },
    {
     "name": "stderr",
     "output_type": "stream",
     "text": [
      "video 1/1 (32/302) D:\\815_CowDataChecking\\Honkawa\\2023-07-31\\03\\output_1fps\\20230731-030500-031000_10fps_1fps.mp4: 384x640 3 cows, 20.0ms\n",
      "WARNING  'Masks.masks' is deprecated. Use 'Masks.data' instead.\n"
     ]
    },
    {
     "name": "stdout",
     "output_type": "stream",
     "text": [
      "White Percentage of 2: 20.80%\n",
      "1/1 [==============================] - 0s 42ms/step\n",
      "White Percentage of 1: 2.19%\n",
      "1/1 [==============================] - 0s 39ms/step\n"
     ]
    },
    {
     "name": "stderr",
     "output_type": "stream",
     "text": [
      "video 1/1 (33/302) D:\\815_CowDataChecking\\Honkawa\\2023-07-31\\03\\output_1fps\\20230731-030500-031000_10fps_1fps.mp4: 384x640 3 cows, 10.0ms\n",
      "WARNING  'Masks.masks' is deprecated. Use 'Masks.data' instead.\n"
     ]
    },
    {
     "name": "stdout",
     "output_type": "stream",
     "text": [
      "White Percentage of 2: 21.57%\n",
      "1/1 [==============================] - 0s 36ms/step\n",
      "White Percentage of 1: 0.76%\n",
      "1/1 [==============================] - 0s 39ms/step\n"
     ]
    },
    {
     "name": "stderr",
     "output_type": "stream",
     "text": [
      "video 1/1 (34/302) D:\\815_CowDataChecking\\Honkawa\\2023-07-31\\03\\output_1fps\\20230731-030500-031000_10fps_1fps.mp4: 384x640 4 cows, 10.0ms\n",
      "WARNING  'Masks.masks' is deprecated. Use 'Masks.data' instead.\n"
     ]
    },
    {
     "name": "stdout",
     "output_type": "stream",
     "text": [
      "White Percentage of 2: 21.27%\n",
      "1/1 [==============================] - 0s 42ms/step\n",
      "White Percentage of 1: 1.16%\n",
      "1/1 [==============================] - 0s 46ms/step\n"
     ]
    },
    {
     "name": "stderr",
     "output_type": "stream",
     "text": [
      "video 1/1 (35/302) D:\\815_CowDataChecking\\Honkawa\\2023-07-31\\03\\output_1fps\\20230731-030500-031000_10fps_1fps.mp4: 384x640 4 cows, 14.5ms\n",
      "WARNING  'Masks.masks' is deprecated. Use 'Masks.data' instead.\n"
     ]
    },
    {
     "name": "stdout",
     "output_type": "stream",
     "text": [
      "White Percentage of 2: 22.05%\n",
      "1/1 [==============================] - 0s 43ms/step\n",
      "White Percentage of 1: 1.16%\n",
      "1/1 [==============================] - 0s 39ms/step\n"
     ]
    },
    {
     "name": "stderr",
     "output_type": "stream",
     "text": [
      "video 1/1 (36/302) D:\\815_CowDataChecking\\Honkawa\\2023-07-31\\03\\output_1fps\\20230731-030500-031000_10fps_1fps.mp4: 384x640 4 cows, 29.5ms\n",
      "WARNING  'Masks.masks' is deprecated. Use 'Masks.data' instead.\n"
     ]
    },
    {
     "name": "stdout",
     "output_type": "stream",
     "text": [
      "White Percentage of 2: 23.65%\n",
      "1/1 [==============================] - 0s 44ms/step\n",
      "White Percentage of 1: 1.10%\n",
      "1/1 [==============================] - 0s 40ms/step\n",
      "White Percentage of 2: 22.74%\n",
      "1/1 [==============================] - 0s 44ms/step\n"
     ]
    },
    {
     "name": "stderr",
     "output_type": "stream",
     "text": [
      "video 1/1 (37/302) D:\\815_CowDataChecking\\Honkawa\\2023-07-31\\03\\output_1fps\\20230731-030500-031000_10fps_1fps.mp4: 384x640 4 cows, 21.0ms\n",
      "WARNING  'Masks.masks' is deprecated. Use 'Masks.data' instead.\n"
     ]
    },
    {
     "name": "stdout",
     "output_type": "stream",
     "text": [
      "White Percentage of 3: 9.66%\n",
      "[['ID', 'COLOR', 'RANK1', 'RANK1_prob', 'RANK2', 'RANK2_prob', 'RANK3', 'RANK3_prob', 'RANK4', 'RANK4_prob', 'RANK5', 'RANK5_prob']]\n",
      "new cattle  xxxxxxxxxxxxxxxxxxxxx new cattle alert \n",
      "1/1 [==============================] - 0s 37ms/step\n",
      "White Percentage of 1: 1.08%\n",
      "1/1 [==============================] - 0s 39ms/step\n",
      "White Percentage of 2: 25.14%\n",
      "1/1 [==============================] - 0s 44ms/step\n"
     ]
    },
    {
     "name": "stderr",
     "output_type": "stream",
     "text": [
      "video 1/1 (38/302) D:\\815_CowDataChecking\\Honkawa\\2023-07-31\\03\\output_1fps\\20230731-030500-031000_10fps_1fps.mp4: 384x640 4 cows, 27.0ms\n",
      "WARNING  'Masks.masks' is deprecated. Use 'Masks.data' instead.\n"
     ]
    },
    {
     "name": "stdout",
     "output_type": "stream",
     "text": [
      "White Percentage of 3: 10.00%\n",
      "1/1 [==============================] - 0s 38ms/step\n",
      "White Percentage of 1: 0.93%\n",
      "1/1 [==============================] - 0s 44ms/step\n",
      "White Percentage of 2: 24.39%\n",
      "1/1 [==============================] - 0s 40ms/step\n"
     ]
    },
    {
     "name": "stderr",
     "output_type": "stream",
     "text": [
      "video 1/1 (39/302) D:\\815_CowDataChecking\\Honkawa\\2023-07-31\\03\\output_1fps\\20230731-030500-031000_10fps_1fps.mp4: 384x640 4 cows, 35.5ms\n",
      "WARNING  'Masks.masks' is deprecated. Use 'Masks.data' instead.\n"
     ]
    },
    {
     "name": "stdout",
     "output_type": "stream",
     "text": [
      "White Percentage of 3: 10.29%\n",
      "1/1 [==============================] - 0s 39ms/step\n",
      "White Percentage of 1: 0.89%\n",
      "1/1 [==============================] - 0s 40ms/step\n",
      "White Percentage of 2: 24.55%\n",
      "1/1 [==============================] - 0s 44ms/step\n"
     ]
    },
    {
     "name": "stderr",
     "output_type": "stream",
     "text": [
      "video 1/1 (40/302) D:\\815_CowDataChecking\\Honkawa\\2023-07-31\\03\\output_1fps\\20230731-030500-031000_10fps_1fps.mp4: 384x640 4 cows, 34.5ms\n",
      "WARNING  'Masks.masks' is deprecated. Use 'Masks.data' instead.\n"
     ]
    },
    {
     "name": "stdout",
     "output_type": "stream",
     "text": [
      "White Percentage of 3: 10.95%\n",
      "1/1 [==============================] - 0s 45ms/step\n",
      "White Percentage of 1: 0.83%\n",
      "1/1 [==============================] - 0s 38ms/step\n",
      "White Percentage of 2: 24.23%\n",
      "1/1 [==============================] - 0s 39ms/step\n"
     ]
    },
    {
     "name": "stderr",
     "output_type": "stream",
     "text": [
      "video 1/1 (41/302) D:\\815_CowDataChecking\\Honkawa\\2023-07-31\\03\\output_1fps\\20230731-030500-031000_10fps_1fps.mp4: 384x640 4 cows, 26.0ms\n",
      "WARNING  'Masks.masks' is deprecated. Use 'Masks.data' instead.\n"
     ]
    },
    {
     "name": "stdout",
     "output_type": "stream",
     "text": [
      "White Percentage of 3: 11.49%\n",
      "1/1 [==============================] - 0s 43ms/step\n",
      "White Percentage of 1: 0.74%\n",
      "1/1 [==============================] - 0s 38ms/step\n",
      "White Percentage of 2: 23.08%\n",
      "1/1 [==============================] - 0s 40ms/step\n"
     ]
    },
    {
     "name": "stderr",
     "output_type": "stream",
     "text": [
      "video 1/1 (42/302) D:\\815_CowDataChecking\\Honkawa\\2023-07-31\\03\\output_1fps\\20230731-030500-031000_10fps_1fps.mp4: 384x640 4 cows, 33.5ms\n",
      "WARNING  'Masks.masks' is deprecated. Use 'Masks.data' instead.\n"
     ]
    },
    {
     "name": "stdout",
     "output_type": "stream",
     "text": [
      "White Percentage of 3: 12.36%\n",
      "1/1 [==============================] - 0s 45ms/step\n",
      "White Percentage of 1: 0.71%\n",
      "1/1 [==============================] - 0s 39ms/step\n",
      "White Percentage of 2: 21.15%\n",
      "1/1 [==============================] - 0s 39ms/step\n"
     ]
    },
    {
     "name": "stderr",
     "output_type": "stream",
     "text": [
      "video 1/1 (43/302) D:\\815_CowDataChecking\\Honkawa\\2023-07-31\\03\\output_1fps\\20230731-030500-031000_10fps_1fps.mp4: 384x640 4 cows, 23.0ms\n",
      "WARNING  'Masks.masks' is deprecated. Use 'Masks.data' instead.\n"
     ]
    },
    {
     "name": "stdout",
     "output_type": "stream",
     "text": [
      "White Percentage of 3: 12.10%\n",
      "1/1 [==============================] - 0s 40ms/step\n",
      "White Percentage of 1: 0.00%\n",
      "1/1 [==============================] - 0s 37ms/step\n",
      "White Percentage of 2: 21.81%\n",
      "1/1 [==============================] - 0s 44ms/step\n"
     ]
    },
    {
     "name": "stderr",
     "output_type": "stream",
     "text": [
      "video 1/1 (44/302) D:\\815_CowDataChecking\\Honkawa\\2023-07-31\\03\\output_1fps\\20230731-030500-031000_10fps_1fps.mp4: 384x640 4 cows, 31.0ms\n",
      "WARNING  'Masks.masks' is deprecated. Use 'Masks.data' instead.\n"
     ]
    },
    {
     "name": "stdout",
     "output_type": "stream",
     "text": [
      "White Percentage of 3: 12.81%\n",
      "1/1 [==============================] - 0s 39ms/step\n",
      "White Percentage of 1: 0.00%\n",
      "1/1 [==============================] - 0s 44ms/step\n",
      "White Percentage of 2: 23.31%\n",
      "1/1 [==============================] - 0s 39ms/step\n"
     ]
    },
    {
     "name": "stderr",
     "output_type": "stream",
     "text": [
      "video 1/1 (45/302) D:\\815_CowDataChecking\\Honkawa\\2023-07-31\\03\\output_1fps\\20230731-030500-031000_10fps_1fps.mp4: 384x640 4 cows, 21.0ms\n",
      "WARNING  'Masks.masks' is deprecated. Use 'Masks.data' instead.\n"
     ]
    },
    {
     "name": "stdout",
     "output_type": "stream",
     "text": [
      "White Percentage of 3: 12.74%\n",
      "1/1 [==============================] - 0s 40ms/step\n",
      "White Percentage of 1: 0.00%\n",
      "1/1 [==============================] - 0s 43ms/step\n",
      "White Percentage of 2: 22.39%\n",
      "1/1 [==============================] - 0s 39ms/step\n"
     ]
    },
    {
     "name": "stderr",
     "output_type": "stream",
     "text": [
      "video 1/1 (46/302) D:\\815_CowDataChecking\\Honkawa\\2023-07-31\\03\\output_1fps\\20230731-030500-031000_10fps_1fps.mp4: 384x640 4 cows, 32.5ms\n",
      "WARNING  'Masks.masks' is deprecated. Use 'Masks.data' instead.\n"
     ]
    },
    {
     "name": "stdout",
     "output_type": "stream",
     "text": [
      "White Percentage of 3: 12.96%\n",
      "1/1 [==============================] - 0s 39ms/step\n",
      "White Percentage of 1: 0.00%\n",
      "1/1 [==============================] - 0s 41ms/step\n",
      "White Percentage of 2: 21.94%\n",
      "1/1 [==============================] - 0s 38ms/step\n"
     ]
    },
    {
     "name": "stderr",
     "output_type": "stream",
     "text": [
      "video 1/1 (47/302) D:\\815_CowDataChecking\\Honkawa\\2023-07-31\\03\\output_1fps\\20230731-030500-031000_10fps_1fps.mp4: 384x640 5 cows, 19.0ms\n",
      "WARNING  'Masks.masks' is deprecated. Use 'Masks.data' instead.\n"
     ]
    },
    {
     "name": "stdout",
     "output_type": "stream",
     "text": [
      "White Percentage of 3: 13.17%\n",
      "1/1 [==============================] - 0s 41ms/step\n",
      "White Percentage of 1: 0.00%\n",
      "1/1 [==============================] - 0s 38ms/step\n",
      "White Percentage of 2: 21.13%\n",
      "1/1 [==============================] - 0s 50ms/step\n"
     ]
    },
    {
     "name": "stderr",
     "output_type": "stream",
     "text": [
      "video 1/1 (48/302) D:\\815_CowDataChecking\\Honkawa\\2023-07-31\\03\\output_1fps\\20230731-030500-031000_10fps_1fps.mp4: 384x640 4 cows, 32.0ms\n",
      "WARNING  'Masks.masks' is deprecated. Use 'Masks.data' instead.\n"
     ]
    },
    {
     "name": "stdout",
     "output_type": "stream",
     "text": [
      "White Percentage of 3: 13.78%\n",
      "1/1 [==============================] - 0s 45ms/step\n",
      "White Percentage of 1: 0.00%\n",
      "1/1 [==============================] - 0s 49ms/step\n",
      "White Percentage of 2: 19.65%\n",
      "1/1 [==============================] - 0s 40ms/step\n"
     ]
    },
    {
     "name": "stderr",
     "output_type": "stream",
     "text": [
      "video 1/1 (49/302) D:\\815_CowDataChecking\\Honkawa\\2023-07-31\\03\\output_1fps\\20230731-030500-031000_10fps_1fps.mp4: 384x640 4 cows, 22.0ms\n",
      "WARNING  'Masks.masks' is deprecated. Use 'Masks.data' instead.\n"
     ]
    },
    {
     "name": "stdout",
     "output_type": "stream",
     "text": [
      "White Percentage of 3: 13.70%\n",
      "1/1 [==============================] - 0s 38ms/step\n",
      "White Percentage of 1: 0.00%\n",
      "1/1 [==============================] - 0s 43ms/step\n",
      "White Percentage of 2: 18.43%\n",
      "1/1 [==============================] - 0s 38ms/step\n"
     ]
    },
    {
     "name": "stderr",
     "output_type": "stream",
     "text": [
      "video 1/1 (50/302) D:\\815_CowDataChecking\\Honkawa\\2023-07-31\\03\\output_1fps\\20230731-030500-031000_10fps_1fps.mp4: 384x640 4 cows, 12.0ms\n",
      "WARNING  'Masks.masks' is deprecated. Use 'Masks.data' instead.\n"
     ]
    },
    {
     "name": "stdout",
     "output_type": "stream",
     "text": [
      "White Percentage of 3: 13.42%\n",
      "1/1 [==============================] - 0s 47ms/step\n",
      "White Percentage of 2: 18.14%\n",
      "1/1 [==============================] - 0s 38ms/step\n"
     ]
    },
    {
     "name": "stderr",
     "output_type": "stream",
     "text": [
      "video 1/1 (51/302) D:\\815_CowDataChecking\\Honkawa\\2023-07-31\\03\\output_1fps\\20230731-030500-031000_10fps_1fps.mp4: 384x640 4 cows, 62.5ms\n",
      "WARNING  'Masks.masks' is deprecated. Use 'Masks.data' instead.\n"
     ]
    },
    {
     "name": "stdout",
     "output_type": "stream",
     "text": [
      "White Percentage of 3: 13.40%\n",
      "1/1 [==============================] - 0s 37ms/step\n",
      "White Percentage of 2: 18.99%\n",
      "1/1 [==============================] - 0s 39ms/step\n"
     ]
    },
    {
     "name": "stderr",
     "output_type": "stream",
     "text": [
      "video 1/1 (52/302) D:\\815_CowDataChecking\\Honkawa\\2023-07-31\\03\\output_1fps\\20230731-030500-031000_10fps_1fps.mp4: 384x640 4 cows, 11.5ms\n",
      "WARNING  'Masks.masks' is deprecated. Use 'Masks.data' instead.\n"
     ]
    },
    {
     "name": "stdout",
     "output_type": "stream",
     "text": [
      "White Percentage of 3: 10.87%\n",
      "1/1 [==============================] - 0s 38ms/step\n",
      "White Percentage of 2: 17.89%\n",
      "1/1 [==============================] - 0s 39ms/step\n"
     ]
    },
    {
     "name": "stderr",
     "output_type": "stream",
     "text": [
      "video 1/1 (53/302) D:\\815_CowDataChecking\\Honkawa\\2023-07-31\\03\\output_1fps\\20230731-030500-031000_10fps_1fps.mp4: 384x640 4 cows, 10.0ms\n",
      "WARNING  'Masks.masks' is deprecated. Use 'Masks.data' instead.\n"
     ]
    },
    {
     "name": "stdout",
     "output_type": "stream",
     "text": [
      "White Percentage of 3: 6.98%\n",
      "1/1 [==============================] - 0s 40ms/step\n",
      "White Percentage of 2: 18.03%\n",
      "1/1 [==============================] - 0s 45ms/step\n"
     ]
    },
    {
     "name": "stderr",
     "output_type": "stream",
     "text": [
      "video 1/1 (54/302) D:\\815_CowDataChecking\\Honkawa\\2023-07-31\\03\\output_1fps\\20230731-030500-031000_10fps_1fps.mp4: 384x640 4 cows, 20.0ms\n",
      "WARNING  'Masks.masks' is deprecated. Use 'Masks.data' instead.\n"
     ]
    },
    {
     "name": "stdout",
     "output_type": "stream",
     "text": [
      "White Percentage of 3: 8.69%\n",
      "1/1 [==============================] - 0s 41ms/step\n",
      "White Percentage of 2: 17.62%\n",
      "1/1 [==============================] - 0s 37ms/step\n"
     ]
    },
    {
     "name": "stderr",
     "output_type": "stream",
     "text": [
      "video 1/1 (55/302) D:\\815_CowDataChecking\\Honkawa\\2023-07-31\\03\\output_1fps\\20230731-030500-031000_10fps_1fps.mp4: 384x640 4 cows, 12.0ms\n",
      "WARNING  'Masks.masks' is deprecated. Use 'Masks.data' instead.\n"
     ]
    },
    {
     "name": "stdout",
     "output_type": "stream",
     "text": [
      "White Percentage of 3: 11.11%\n",
      "1/1 [==============================] - 0s 39ms/step\n",
      "White Percentage of 2: 15.12%\n",
      "1/1 [==============================] - 0s 38ms/step\n"
     ]
    },
    {
     "name": "stderr",
     "output_type": "stream",
     "text": [
      "video 1/1 (56/302) D:\\815_CowDataChecking\\Honkawa\\2023-07-31\\03\\output_1fps\\20230731-030500-031000_10fps_1fps.mp4: 384x640 5 cows, 28.0ms\n",
      "WARNING  'Masks.masks' is deprecated. Use 'Masks.data' instead.\n"
     ]
    },
    {
     "name": "stdout",
     "output_type": "stream",
     "text": [
      "White Percentage of 3: 9.70%\n",
      "1/1 [==============================] - 0s 42ms/step\n",
      "White Percentage of 2: 16.53%\n",
      "1/1 [==============================] - 0s 39ms/step\n"
     ]
    },
    {
     "name": "stderr",
     "output_type": "stream",
     "text": [
      "video 1/1 (57/302) D:\\815_CowDataChecking\\Honkawa\\2023-07-31\\03\\output_1fps\\20230731-030500-031000_10fps_1fps.mp4: 384x640 5 cows, 22.5ms\n",
      "WARNING  'Masks.masks' is deprecated. Use 'Masks.data' instead.\n"
     ]
    },
    {
     "name": "stdout",
     "output_type": "stream",
     "text": [
      "White Percentage of 3: 9.38%\n",
      "1/1 [==============================] - 0s 48ms/step\n",
      "White Percentage of 2: 16.34%\n",
      "1/1 [==============================] - 0s 39ms/step\n",
      "White Percentage of 3: 9.48%\n",
      "1/1 [==============================] - 0s 38ms/step\n"
     ]
    },
    {
     "name": "stderr",
     "output_type": "stream",
     "text": [
      "video 1/1 (58/302) D:\\815_CowDataChecking\\Honkawa\\2023-07-31\\03\\output_1fps\\20230731-030500-031000_10fps_1fps.mp4: 384x640 5 cows, 29.0ms\n",
      "WARNING  'Masks.masks' is deprecated. Use 'Masks.data' instead.\n"
     ]
    },
    {
     "name": "stdout",
     "output_type": "stream",
     "text": [
      "White Percentage of 4: 26.83%\n",
      "[['ID', 'COLOR', 'RANK1', 'RANK1_prob', 'RANK2', 'RANK2_prob', 'RANK3', 'RANK3_prob', 'RANK4', 'RANK4_prob', 'RANK5', 'RANK5_prob']]\n",
      "new cattle  xxxxxxxxxxxxxxxxxxxxx new cattle alert \n",
      "1/1 [==============================] - 0s 39ms/step\n",
      "White Percentage of 2: 15.32%\n",
      "1/1 [==============================] - 0s 39ms/step\n",
      "White Percentage of 3: 8.95%\n",
      "1/1 [==============================] - 0s 39ms/step\n"
     ]
    },
    {
     "name": "stderr",
     "output_type": "stream",
     "text": [
      "video 1/1 (59/302) D:\\815_CowDataChecking\\Honkawa\\2023-07-31\\03\\output_1fps\\20230731-030500-031000_10fps_1fps.mp4: 384x640 5 cows, 33.5ms\n",
      "WARNING  'Masks.masks' is deprecated. Use 'Masks.data' instead.\n"
     ]
    },
    {
     "name": "stdout",
     "output_type": "stream",
     "text": [
      "White Percentage of 4: 30.27%\n",
      "1/1 [==============================] - 0s 41ms/step\n",
      "White Percentage of 2: 15.31%\n",
      "1/1 [==============================] - 0s 37ms/step\n",
      "White Percentage of 3: 8.39%\n",
      "1/1 [==============================] - 0s 40ms/step\n"
     ]
    },
    {
     "name": "stderr",
     "output_type": "stream",
     "text": [
      "video 1/1 (60/302) D:\\815_CowDataChecking\\Honkawa\\2023-07-31\\03\\output_1fps\\20230731-030500-031000_10fps_1fps.mp4: 384x640 5 cows, 27.0ms\n",
      "WARNING  'Masks.masks' is deprecated. Use 'Masks.data' instead.\n"
     ]
    },
    {
     "name": "stdout",
     "output_type": "stream",
     "text": [
      "White Percentage of 4: 29.99%\n",
      "1/1 [==============================] - 0s 38ms/step\n",
      "White Percentage of 2: 14.89%\n",
      "1/1 [==============================] - 0s 39ms/step\n",
      "White Percentage of 3: 8.37%\n",
      "1/1 [==============================] - 0s 38ms/step\n"
     ]
    },
    {
     "name": "stderr",
     "output_type": "stream",
     "text": [
      "video 1/1 (61/302) D:\\815_CowDataChecking\\Honkawa\\2023-07-31\\03\\output_1fps\\20230731-030500-031000_10fps_1fps.mp4: 384x640 5 cows, 27.0ms\n",
      "WARNING  'Masks.masks' is deprecated. Use 'Masks.data' instead.\n"
     ]
    },
    {
     "name": "stdout",
     "output_type": "stream",
     "text": [
      "White Percentage of 4: 34.81%\n",
      "1/1 [==============================] - 0s 41ms/step\n",
      "White Percentage of 2: 14.82%\n",
      "1/1 [==============================] - 0s 37ms/step\n",
      "White Percentage of 3: 8.13%\n",
      "1/1 [==============================] - 0s 43ms/step\n"
     ]
    },
    {
     "name": "stderr",
     "output_type": "stream",
     "text": [
      "video 1/1 (62/302) D:\\815_CowDataChecking\\Honkawa\\2023-07-31\\03\\output_1fps\\20230731-030500-031000_10fps_1fps.mp4: 384x640 5 cows, 35.0ms\n",
      "WARNING  'Masks.masks' is deprecated. Use 'Masks.data' instead.\n"
     ]
    },
    {
     "name": "stdout",
     "output_type": "stream",
     "text": [
      "White Percentage of 4: 30.73%\n",
      "1/1 [==============================] - 0s 40ms/step\n",
      "White Percentage of 3: 7.43%\n",
      "1/1 [==============================] - 0s 39ms/step\n"
     ]
    },
    {
     "name": "stderr",
     "output_type": "stream",
     "text": [
      "video 1/1 (63/302) D:\\815_CowDataChecking\\Honkawa\\2023-07-31\\03\\output_1fps\\20230731-030500-031000_10fps_1fps.mp4: 384x640 5 cows, 30.0ms\n",
      "WARNING  'Masks.masks' is deprecated. Use 'Masks.data' instead.\n"
     ]
    },
    {
     "name": "stdout",
     "output_type": "stream",
     "text": [
      "White Percentage of 4: 32.26%\n",
      "1/1 [==============================] - 0s 44ms/step\n",
      "White Percentage of 3: 7.45%\n",
      "1/1 [==============================] - 0s 39ms/step\n"
     ]
    },
    {
     "name": "stderr",
     "output_type": "stream",
     "text": [
      "video 1/1 (64/302) D:\\815_CowDataChecking\\Honkawa\\2023-07-31\\03\\output_1fps\\20230731-030500-031000_10fps_1fps.mp4: 384x640 5 cows, 24.0ms\n",
      "WARNING  'Masks.masks' is deprecated. Use 'Masks.data' instead.\n"
     ]
    },
    {
     "name": "stdout",
     "output_type": "stream",
     "text": [
      "White Percentage of 4: 33.44%\n",
      "1/1 [==============================] - 0s 40ms/step\n",
      "White Percentage of 3: 6.31%\n",
      "1/1 [==============================] - 0s 40ms/step\n"
     ]
    },
    {
     "name": "stderr",
     "output_type": "stream",
     "text": [
      "video 1/1 (65/302) D:\\815_CowDataChecking\\Honkawa\\2023-07-31\\03\\output_1fps\\20230731-030500-031000_10fps_1fps.mp4: 384x640 6 cows, 17.0ms\n",
      "WARNING  'Masks.masks' is deprecated. Use 'Masks.data' instead.\n"
     ]
    },
    {
     "name": "stdout",
     "output_type": "stream",
     "text": [
      "White Percentage of 4: 36.28%\n",
      "1/1 [==============================] - 0s 40ms/step\n",
      "White Percentage of 3: 6.66%\n",
      "1/1 [==============================] - 0s 38ms/step\n"
     ]
    },
    {
     "name": "stderr",
     "output_type": "stream",
     "text": [
      "video 1/1 (66/302) D:\\815_CowDataChecking\\Honkawa\\2023-07-31\\03\\output_1fps\\20230731-030500-031000_10fps_1fps.mp4: 384x640 5 cows, 22.5ms\n",
      "WARNING  'Masks.masks' is deprecated. Use 'Masks.data' instead.\n"
     ]
    },
    {
     "name": "stdout",
     "output_type": "stream",
     "text": [
      "White Percentage of 4: 35.99%\n",
      "1/1 [==============================] - 0s 42ms/step\n",
      "White Percentage of 3: 5.87%\n",
      "1/1 [==============================] - 0s 39ms/step\n"
     ]
    },
    {
     "name": "stderr",
     "output_type": "stream",
     "text": [
      "video 1/1 (67/302) D:\\815_CowDataChecking\\Honkawa\\2023-07-31\\03\\output_1fps\\20230731-030500-031000_10fps_1fps.mp4: 384x640 5 cows, 29.0ms\n",
      "WARNING  'Masks.masks' is deprecated. Use 'Masks.data' instead.\n"
     ]
    },
    {
     "name": "stdout",
     "output_type": "stream",
     "text": [
      "White Percentage of 4: 37.46%\n",
      "1/1 [==============================] - 0s 39ms/step\n",
      "White Percentage of 3: 5.07%\n",
      "1/1 [==============================] - 0s 44ms/step\n"
     ]
    },
    {
     "name": "stderr",
     "output_type": "stream",
     "text": [
      "video 1/1 (68/302) D:\\815_CowDataChecking\\Honkawa\\2023-07-31\\03\\output_1fps\\20230731-030500-031000_10fps_1fps.mp4: 384x640 5 cows, 18.0ms\n",
      "WARNING  'Masks.masks' is deprecated. Use 'Masks.data' instead.\n"
     ]
    },
    {
     "name": "stdout",
     "output_type": "stream",
     "text": [
      "White Percentage of 4: 40.20%\n",
      "1/1 [==============================] - 0s 40ms/step\n",
      "White Percentage of 3: 4.69%\n",
      "1/1 [==============================] - 0s 37ms/step\n"
     ]
    },
    {
     "name": "stderr",
     "output_type": "stream",
     "text": [
      "video 1/1 (69/302) D:\\815_CowDataChecking\\Honkawa\\2023-07-31\\03\\output_1fps\\20230731-030500-031000_10fps_1fps.mp4: 384x640 5 cows, 24.0ms\n",
      "WARNING  'Masks.masks' is deprecated. Use 'Masks.data' instead.\n"
     ]
    },
    {
     "name": "stdout",
     "output_type": "stream",
     "text": [
      "White Percentage of 4: 37.57%\n",
      "1/1 [==============================] - 0s 39ms/step\n",
      "White Percentage of 3: 4.50%\n",
      "1/1 [==============================] - 0s 40ms/step\n",
      "White Percentage of 4: 40.20%\n",
      "1/1 [==============================] - 0s 40ms/step\n"
     ]
    },
    {
     "name": "stderr",
     "output_type": "stream",
     "text": [
      "video 1/1 (70/302) D:\\815_CowDataChecking\\Honkawa\\2023-07-31\\03\\output_1fps\\20230731-030500-031000_10fps_1fps.mp4: 384x640 5 cows, 20.3ms\n",
      "WARNING  'Masks.masks' is deprecated. Use 'Masks.data' instead.\n"
     ]
    },
    {
     "name": "stdout",
     "output_type": "stream",
     "text": [
      "White Percentage of 5: 6.80%\n",
      "[['ID', 'COLOR', 'RANK1', 'RANK1_prob', 'RANK2', 'RANK2_prob', 'RANK3', 'RANK3_prob', 'RANK4', 'RANK4_prob', 'RANK5', 'RANK5_prob']]\n",
      "new cattle  xxxxxxxxxxxxxxxxxxxxx new cattle alert \n",
      "1/1 [==============================] - 0s 39ms/step\n",
      "White Percentage of 3: 5.39%\n",
      "1/1 [==============================] - 0s 40ms/step\n",
      "White Percentage of 4: 40.21%\n",
      "1/1 [==============================] - 0s 47ms/step\n"
     ]
    },
    {
     "name": "stderr",
     "output_type": "stream",
     "text": [
      "video 1/1 (71/302) D:\\815_CowDataChecking\\Honkawa\\2023-07-31\\03\\output_1fps\\20230731-030500-031000_10fps_1fps.mp4: 384x640 6 cows, 27.0ms\n",
      "WARNING  'Masks.masks' is deprecated. Use 'Masks.data' instead.\n"
     ]
    },
    {
     "name": "stdout",
     "output_type": "stream",
     "text": [
      "White Percentage of 5: 7.82%\n",
      "1/1 [==============================] - 0s 50ms/step\n",
      "White Percentage of 4: 37.93%\n",
      "1/1 [==============================] - 0s 39ms/step\n"
     ]
    },
    {
     "name": "stderr",
     "output_type": "stream",
     "text": [
      "video 1/1 (72/302) D:\\815_CowDataChecking\\Honkawa\\2023-07-31\\03\\output_1fps\\20230731-030500-031000_10fps_1fps.mp4: 384x640 5 cows, 20.0ms\n",
      "WARNING  'Masks.masks' is deprecated. Use 'Masks.data' instead.\n"
     ]
    },
    {
     "name": "stdout",
     "output_type": "stream",
     "text": [
      "White Percentage of 5: 7.45%\n",
      "1/1 [==============================] - 0s 39ms/step\n",
      "White Percentage of 4: 36.12%\n",
      "1/1 [==============================] - 0s 39ms/step\n"
     ]
    },
    {
     "name": "stderr",
     "output_type": "stream",
     "text": [
      "video 1/1 (73/302) D:\\815_CowDataChecking\\Honkawa\\2023-07-31\\03\\output_1fps\\20230731-030500-031000_10fps_1fps.mp4: 384x640 5 cows, 15.0ms\n",
      "WARNING  'Masks.masks' is deprecated. Use 'Masks.data' instead.\n"
     ]
    },
    {
     "name": "stdout",
     "output_type": "stream",
     "text": [
      "White Percentage of 5: 7.81%\n",
      "1/1 [==============================] - 0s 39ms/step\n",
      "White Percentage of 4: 28.29%\n",
      "1/1 [==============================] - 0s 39ms/step\n"
     ]
    },
    {
     "name": "stderr",
     "output_type": "stream",
     "text": [
      "video 1/1 (74/302) D:\\815_CowDataChecking\\Honkawa\\2023-07-31\\03\\output_1fps\\20230731-030500-031000_10fps_1fps.mp4: 384x640 5 cows, 10.0ms\n",
      "WARNING  'Masks.masks' is deprecated. Use 'Masks.data' instead.\n"
     ]
    },
    {
     "name": "stdout",
     "output_type": "stream",
     "text": [
      "White Percentage of 5: 8.27%\n",
      "1/1 [==============================] - 0s 38ms/step\n",
      "White Percentage of 4: 20.59%\n",
      "1/1 [==============================] - 0s 39ms/step\n"
     ]
    },
    {
     "name": "stderr",
     "output_type": "stream",
     "text": [
      "video 1/1 (75/302) D:\\815_CowDataChecking\\Honkawa\\2023-07-31\\03\\output_1fps\\20230731-030500-031000_10fps_1fps.mp4: 384x640 5 cows, 19.0ms\n",
      "WARNING  'Masks.masks' is deprecated. Use 'Masks.data' instead.\n"
     ]
    },
    {
     "name": "stdout",
     "output_type": "stream",
     "text": [
      "White Percentage of 5: 6.64%\n",
      "1/1 [==============================] - 0s 40ms/step\n",
      "White Percentage of 4: 33.17%\n",
      "1/1 [==============================] - 0s 38ms/step\n"
     ]
    },
    {
     "name": "stderr",
     "output_type": "stream",
     "text": [
      "video 1/1 (76/302) D:\\815_CowDataChecking\\Honkawa\\2023-07-31\\03\\output_1fps\\20230731-030500-031000_10fps_1fps.mp4: 384x640 6 cows, 11.0ms\n",
      "WARNING  'Masks.masks' is deprecated. Use 'Masks.data' instead.\n"
     ]
    },
    {
     "name": "stdout",
     "output_type": "stream",
     "text": [
      "White Percentage of 5: 8.17%\n",
      "1/1 [==============================] - 0s 40ms/step\n",
      "White Percentage of 4: 23.09%\n",
      "1/1 [==============================] - 0s 49ms/step\n"
     ]
    },
    {
     "name": "stderr",
     "output_type": "stream",
     "text": [
      "video 1/1 (77/302) D:\\815_CowDataChecking\\Honkawa\\2023-07-31\\03\\output_1fps\\20230731-030500-031000_10fps_1fps.mp4: 384x640 5 cows, 10.5ms\n",
      "WARNING  'Masks.masks' is deprecated. Use 'Masks.data' instead.\n"
     ]
    },
    {
     "name": "stdout",
     "output_type": "stream",
     "text": [
      "White Percentage of 5: 7.60%\n",
      "1/1 [==============================] - 0s 44ms/step\n",
      "White Percentage of 4: 37.98%\n",
      "1/1 [==============================] - 0s 42ms/step\n"
     ]
    },
    {
     "name": "stderr",
     "output_type": "stream",
     "text": [
      "video 1/1 (78/302) D:\\815_CowDataChecking\\Honkawa\\2023-07-31\\03\\output_1fps\\20230731-030500-031000_10fps_1fps.mp4: 384x640 5 cows, 9.0ms\n",
      "WARNING  'Masks.masks' is deprecated. Use 'Masks.data' instead.\n"
     ]
    },
    {
     "name": "stdout",
     "output_type": "stream",
     "text": [
      "White Percentage of 5: 7.44%\n",
      "1/1 [==============================] - 0s 42ms/step\n",
      "White Percentage of 4: 36.95%\n",
      "1/1 [==============================] - 0s 48ms/step\n",
      "White Percentage of 5: 7.54%\n",
      "1/1 [==============================] - 0s 41ms/step\n"
     ]
    },
    {
     "name": "stderr",
     "output_type": "stream",
     "text": [
      "video 1/1 (79/302) D:\\815_CowDataChecking\\Honkawa\\2023-07-31\\03\\output_1fps\\20230731-030500-031000_10fps_1fps.mp4: 384x640 5 cows, 9.0ms\n",
      "WARNING  'Masks.masks' is deprecated. Use 'Masks.data' instead.\n"
     ]
    },
    {
     "name": "stdout",
     "output_type": "stream",
     "text": [
      "White Percentage of 6: 2.92%\n",
      "[['ID', 'COLOR', 'RANK1', 'RANK1_prob', 'RANK2', 'RANK2_prob', 'RANK3', 'RANK3_prob', 'RANK4', 'RANK4_prob', 'RANK5', 'RANK5_prob']]\n",
      "new cattle  xxxxxxxxxxxxxxxxxxxxx new cattle alert \n",
      "1/1 [==============================] - 0s 40ms/step\n",
      "White Percentage of 4: 34.14%\n",
      "1/1 [==============================] - 0s 40ms/step\n",
      "White Percentage of 5: 8.84%\n",
      "1/1 [==============================] - 0s 41ms/step\n"
     ]
    },
    {
     "name": "stderr",
     "output_type": "stream",
     "text": [
      "video 1/1 (80/302) D:\\815_CowDataChecking\\Honkawa\\2023-07-31\\03\\output_1fps\\20230731-030500-031000_10fps_1fps.mp4: 384x640 5 cows, 17.0ms\n",
      "WARNING  'Masks.masks' is deprecated. Use 'Masks.data' instead.\n"
     ]
    },
    {
     "name": "stdout",
     "output_type": "stream",
     "text": [
      "White Percentage of 6: 3.14%\n",
      "1/1 [==============================] - 0s 41ms/step\n",
      "White Percentage of 4: 35.69%\n",
      "1/1 [==============================] - 0s 40ms/step\n",
      "White Percentage of 5: 8.47%\n",
      "1/1 [==============================] - 0s 40ms/step\n"
     ]
    },
    {
     "name": "stderr",
     "output_type": "stream",
     "text": [
      "video 1/1 (81/302) D:\\815_CowDataChecking\\Honkawa\\2023-07-31\\03\\output_1fps\\20230731-030500-031000_10fps_1fps.mp4: 384x640 5 cows, 11.0ms\n",
      "WARNING  'Masks.masks' is deprecated. Use 'Masks.data' instead.\n"
     ]
    },
    {
     "name": "stdout",
     "output_type": "stream",
     "text": [
      "White Percentage of 6: 3.10%\n",
      "1/1 [==============================] - 0s 41ms/step\n",
      "White Percentage of 4: 35.30%\n",
      "1/1 [==============================] - 0s 44ms/step\n",
      "White Percentage of 5: 7.61%\n",
      "1/1 [==============================] - 0s 42ms/step\n"
     ]
    },
    {
     "name": "stderr",
     "output_type": "stream",
     "text": [
      "video 1/1 (82/302) D:\\815_CowDataChecking\\Honkawa\\2023-07-31\\03\\output_1fps\\20230731-030500-031000_10fps_1fps.mp4: 384x640 5 cows, 19.0ms\n",
      "WARNING  'Masks.masks' is deprecated. Use 'Masks.data' instead.\n"
     ]
    },
    {
     "name": "stdout",
     "output_type": "stream",
     "text": [
      "White Percentage of 6: 3.98%\n",
      "1/1 [==============================] - 0s 41ms/step\n",
      "White Percentage of 4: 33.84%\n",
      "1/1 [==============================] - 0s 42ms/step\n",
      "White Percentage of 5: 8.40%\n",
      "1/1 [==============================] - 0s 38ms/step\n"
     ]
    },
    {
     "name": "stderr",
     "output_type": "stream",
     "text": [
      "video 1/1 (83/302) D:\\815_CowDataChecking\\Honkawa\\2023-07-31\\03\\output_1fps\\20230731-030500-031000_10fps_1fps.mp4: 384x640 5 cows, 20.5ms\n",
      "WARNING  'Masks.masks' is deprecated. Use 'Masks.data' instead.\n"
     ]
    },
    {
     "name": "stdout",
     "output_type": "stream",
     "text": [
      "White Percentage of 6: 4.64%\n",
      "1/1 [==============================] - 0s 40ms/step\n",
      "White Percentage of 4: 34.36%\n",
      "1/1 [==============================] - 0s 41ms/step\n",
      "White Percentage of 5: 7.51%\n",
      "1/1 [==============================] - 0s 40ms/step\n"
     ]
    },
    {
     "name": "stderr",
     "output_type": "stream",
     "text": [
      "video 1/1 (84/302) D:\\815_CowDataChecking\\Honkawa\\2023-07-31\\03\\output_1fps\\20230731-030500-031000_10fps_1fps.mp4: 384x640 5 cows, 11.0ms\n",
      "WARNING  'Masks.masks' is deprecated. Use 'Masks.data' instead.\n"
     ]
    },
    {
     "name": "stdout",
     "output_type": "stream",
     "text": [
      "White Percentage of 6: 4.59%\n",
      "1/1 [==============================] - 0s 39ms/step\n",
      "White Percentage of 4: 32.73%\n",
      "1/1 [==============================] - 0s 39ms/step\n",
      "White Percentage of 5: 6.41%\n",
      "1/1 [==============================] - 0s 39ms/step\n"
     ]
    },
    {
     "name": "stderr",
     "output_type": "stream",
     "text": [
      "video 1/1 (85/302) D:\\815_CowDataChecking\\Honkawa\\2023-07-31\\03\\output_1fps\\20230731-030500-031000_10fps_1fps.mp4: 384x640 5 cows, 14.0ms\n",
      "WARNING  'Masks.masks' is deprecated. Use 'Masks.data' instead.\n"
     ]
    },
    {
     "name": "stdout",
     "output_type": "stream",
     "text": [
      "White Percentage of 6: 4.39%\n",
      "1/1 [==============================] - 0s 39ms/step\n",
      "White Percentage of 4: 32.32%\n",
      "1/1 [==============================] - 0s 41ms/step\n",
      "White Percentage of 5: 6.89%\n",
      "1/1 [==============================] - 0s 40ms/step\n"
     ]
    },
    {
     "name": "stderr",
     "output_type": "stream",
     "text": [
      "video 1/1 (86/302) D:\\815_CowDataChecking\\Honkawa\\2023-07-31\\03\\output_1fps\\20230731-030500-031000_10fps_1fps.mp4: 384x640 5 cows, 20.0ms\n",
      "WARNING  'Masks.masks' is deprecated. Use 'Masks.data' instead.\n"
     ]
    },
    {
     "name": "stdout",
     "output_type": "stream",
     "text": [
      "White Percentage of 6: 4.23%\n",
      "1/1 [==============================] - 0s 40ms/step\n",
      "White Percentage of 4: 31.95%\n",
      "1/1 [==============================] - 0s 42ms/step\n",
      "White Percentage of 5: 6.47%\n",
      "1/1 [==============================] - 0s 40ms/step\n"
     ]
    },
    {
     "name": "stderr",
     "output_type": "stream",
     "text": [
      "video 1/1 (87/302) D:\\815_CowDataChecking\\Honkawa\\2023-07-31\\03\\output_1fps\\20230731-030500-031000_10fps_1fps.mp4: 384x640 4 cows, 17.0ms\n",
      "WARNING  'Masks.masks' is deprecated. Use 'Masks.data' instead.\n"
     ]
    },
    {
     "name": "stdout",
     "output_type": "stream",
     "text": [
      "White Percentage of 6: 4.33%\n",
      "1/1 [==============================] - 0s 39ms/step\n",
      "White Percentage of 4: 30.17%\n",
      "1/1 [==============================] - 0s 41ms/step\n",
      "White Percentage of 5: 4.44%\n",
      "1/1 [==============================] - 0s 39ms/step\n"
     ]
    },
    {
     "name": "stderr",
     "output_type": "stream",
     "text": [
      "video 1/1 (88/302) D:\\815_CowDataChecking\\Honkawa\\2023-07-31\\03\\output_1fps\\20230731-030500-031000_10fps_1fps.mp4: 384x640 5 cows, 23.0ms\n",
      "WARNING  'Masks.masks' is deprecated. Use 'Masks.data' instead.\n"
     ]
    },
    {
     "name": "stdout",
     "output_type": "stream",
     "text": [
      "White Percentage of 6: 4.17%\n",
      "1/1 [==============================] - 0s 50ms/step\n",
      "White Percentage of 4: 30.92%\n",
      "1/1 [==============================] - 0s 40ms/step\n",
      "White Percentage of 5: 5.90%\n",
      "1/1 [==============================] - 0s 40ms/step\n"
     ]
    },
    {
     "name": "stderr",
     "output_type": "stream",
     "text": [
      "video 1/1 (89/302) D:\\815_CowDataChecking\\Honkawa\\2023-07-31\\03\\output_1fps\\20230731-030500-031000_10fps_1fps.mp4: 384x640 5 cows, 17.0ms\n",
      "WARNING  'Masks.masks' is deprecated. Use 'Masks.data' instead.\n"
     ]
    },
    {
     "name": "stdout",
     "output_type": "stream",
     "text": [
      "White Percentage of 6: 4.28%\n",
      "1/1 [==============================] - 0s 39ms/step\n",
      "White Percentage of 4: 31.39%\n",
      "1/1 [==============================] - 0s 40ms/step\n",
      "White Percentage of 5: 5.38%\n",
      "1/1 [==============================] - 0s 39ms/step\n"
     ]
    },
    {
     "name": "stderr",
     "output_type": "stream",
     "text": [
      "video 1/1 (90/302) D:\\815_CowDataChecking\\Honkawa\\2023-07-31\\03\\output_1fps\\20230731-030500-031000_10fps_1fps.mp4: 384x640 4 cows, 20.0ms\n",
      "WARNING  'Masks.masks' is deprecated. Use 'Masks.data' instead.\n"
     ]
    },
    {
     "name": "stdout",
     "output_type": "stream",
     "text": [
      "White Percentage of 6: 4.11%\n",
      "1/1 [==============================] - 0s 48ms/step\n",
      "White Percentage of 5: 5.05%\n",
      "1/1 [==============================] - 0s 39ms/step\n"
     ]
    },
    {
     "name": "stderr",
     "output_type": "stream",
     "text": [
      "video 1/1 (91/302) D:\\815_CowDataChecking\\Honkawa\\2023-07-31\\03\\output_1fps\\20230731-030500-031000_10fps_1fps.mp4: 384x640 5 cows, 29.0ms\n",
      "WARNING  'Masks.masks' is deprecated. Use 'Masks.data' instead.\n"
     ]
    },
    {
     "name": "stdout",
     "output_type": "stream",
     "text": [
      "White Percentage of 6: 4.03%\n",
      "1/1 [==============================] - 0s 40ms/step\n",
      "White Percentage of 5: 4.81%\n",
      "1/1 [==============================] - 0s 41ms/step\n"
     ]
    },
    {
     "name": "stderr",
     "output_type": "stream",
     "text": [
      "video 1/1 (92/302) D:\\815_CowDataChecking\\Honkawa\\2023-07-31\\03\\output_1fps\\20230731-030500-031000_10fps_1fps.mp4: 384x640 5 cows, 22.5ms\n",
      "WARNING  'Masks.masks' is deprecated. Use 'Masks.data' instead.\n"
     ]
    },
    {
     "name": "stdout",
     "output_type": "stream",
     "text": [
      "White Percentage of 6: 4.34%\n",
      "1/1 [==============================] - 0s 40ms/step\n",
      "White Percentage of 5: 4.75%\n",
      "1/1 [==============================] - 0s 43ms/step\n"
     ]
    },
    {
     "name": "stderr",
     "output_type": "stream",
     "text": [
      "video 1/1 (93/302) D:\\815_CowDataChecking\\Honkawa\\2023-07-31\\03\\output_1fps\\20230731-030500-031000_10fps_1fps.mp4: 384x640 4 cows, 18.0ms\n",
      "WARNING  'Masks.masks' is deprecated. Use 'Masks.data' instead.\n"
     ]
    },
    {
     "name": "stdout",
     "output_type": "stream",
     "text": [
      "White Percentage of 6: 4.85%\n",
      "1/1 [==============================] - 0s 40ms/step\n",
      "White Percentage of 5: 4.27%\n",
      "1/1 [==============================] - 0s 44ms/step\n"
     ]
    },
    {
     "name": "stderr",
     "output_type": "stream",
     "text": [
      "video 1/1 (94/302) D:\\815_CowDataChecking\\Honkawa\\2023-07-31\\03\\output_1fps\\20230731-030500-031000_10fps_1fps.mp4: 384x640 4 cows, 17.0ms\n",
      "WARNING  'Masks.masks' is deprecated. Use 'Masks.data' instead.\n"
     ]
    },
    {
     "name": "stdout",
     "output_type": "stream",
     "text": [
      "White Percentage of 6: 3.97%\n",
      "1/1 [==============================] - 0s 41ms/step\n",
      "White Percentage of 5: 3.87%\n",
      "1/1 [==============================] - 0s 45ms/step\n"
     ]
    },
    {
     "name": "stderr",
     "output_type": "stream",
     "text": [
      "video 1/1 (95/302) D:\\815_CowDataChecking\\Honkawa\\2023-07-31\\03\\output_1fps\\20230731-030500-031000_10fps_1fps.mp4: 384x640 4 cows, 17.0ms\n",
      "WARNING  'Masks.masks' is deprecated. Use 'Masks.data' instead.\n"
     ]
    },
    {
     "name": "stdout",
     "output_type": "stream",
     "text": [
      "White Percentage of 6: 3.07%\n",
      "1/1 [==============================] - 0s 41ms/step\n",
      "White Percentage of 5: 3.69%\n",
      "1/1 [==============================] - 0s 42ms/step\n"
     ]
    },
    {
     "name": "stderr",
     "output_type": "stream",
     "text": [
      "video 1/1 (96/302) D:\\815_CowDataChecking\\Honkawa\\2023-07-31\\03\\output_1fps\\20230731-030500-031000_10fps_1fps.mp4: 384x640 4 cows, 33.0ms\n",
      "WARNING  'Masks.masks' is deprecated. Use 'Masks.data' instead.\n"
     ]
    },
    {
     "name": "stdout",
     "output_type": "stream",
     "text": [
      "White Percentage of 6: 1.18%\n",
      "1/1 [==============================] - 0s 41ms/step\n",
      "White Percentage of 5: 3.57%\n",
      "1/1 [==============================] - 0s 40ms/step\n"
     ]
    },
    {
     "name": "stderr",
     "output_type": "stream",
     "text": [
      "video 1/1 (97/302) D:\\815_CowDataChecking\\Honkawa\\2023-07-31\\03\\output_1fps\\20230731-030500-031000_10fps_1fps.mp4: 384x640 4 cows, 31.0ms\n",
      "WARNING  'Masks.masks' is deprecated. Use 'Masks.data' instead.\n"
     ]
    },
    {
     "name": "stdout",
     "output_type": "stream",
     "text": [
      "White Percentage of 6: 0.00%\n",
      "1/1 [==============================] - 0s 43ms/step\n",
      "White Percentage of 5: 3.34%\n",
      "1/1 [==============================] - 0s 43ms/step\n"
     ]
    },
    {
     "name": "stderr",
     "output_type": "stream",
     "text": [
      "video 1/1 (98/302) D:\\815_CowDataChecking\\Honkawa\\2023-07-31\\03\\output_1fps\\20230731-030500-031000_10fps_1fps.mp4: 384x640 4 cows, 18.0ms\n",
      "WARNING  'Masks.masks' is deprecated. Use 'Masks.data' instead.\n"
     ]
    },
    {
     "name": "stdout",
     "output_type": "stream",
     "text": [
      "White Percentage of 6: 1.55%\n",
      "1/1 [==============================] - 0s 43ms/step\n",
      "White Percentage of 5: 3.02%\n",
      "1/1 [==============================] - 0s 44ms/step\n"
     ]
    },
    {
     "name": "stderr",
     "output_type": "stream",
     "text": [
      "video 1/1 (99/302) D:\\815_CowDataChecking\\Honkawa\\2023-07-31\\03\\output_1fps\\20230731-030500-031000_10fps_1fps.mp4: 384x640 5 cows, 35.5ms\n",
      "WARNING  'Masks.masks' is deprecated. Use 'Masks.data' instead.\n"
     ]
    },
    {
     "name": "stdout",
     "output_type": "stream",
     "text": [
      "White Percentage of 6: 3.33%\n",
      "1/1 [==============================] - 0s 39ms/step\n",
      "White Percentage of 5: 3.03%\n",
      "1/1 [==============================] - 0s 40ms/step\n"
     ]
    },
    {
     "name": "stderr",
     "output_type": "stream",
     "text": [
      "video 1/1 (100/302) D:\\815_CowDataChecking\\Honkawa\\2023-07-31\\03\\output_1fps\\20230731-030500-031000_10fps_1fps.mp4: 384x640 5 cows, 19.5ms\n",
      "WARNING  'Masks.masks' is deprecated. Use 'Masks.data' instead.\n"
     ]
    },
    {
     "name": "stdout",
     "output_type": "stream",
     "text": [
      "White Percentage of 6: 2.95%\n",
      "1/1 [==============================] - 0s 41ms/step\n",
      "White Percentage of 5: 3.60%\n",
      "1/1 [==============================] - 0s 43ms/step\n",
      "White Percentage of 6: 3.05%\n",
      "1/1 [==============================] - 0s 41ms/step\n"
     ]
    },
    {
     "name": "stderr",
     "output_type": "stream",
     "text": [
      "video 1/1 (101/302) D:\\815_CowDataChecking\\Honkawa\\2023-07-31\\03\\output_1fps\\20230731-030500-031000_10fps_1fps.mp4: 384x640 5 cows, 17.5ms\n",
      "WARNING  'Masks.masks' is deprecated. Use 'Masks.data' instead.\n"
     ]
    },
    {
     "name": "stdout",
     "output_type": "stream",
     "text": [
      "White Percentage of 7: 11.06%\n",
      "[['ID', 'COLOR', 'RANK1', 'RANK1_prob', 'RANK2', 'RANK2_prob', 'RANK3', 'RANK3_prob', 'RANK4', 'RANK4_prob', 'RANK5', 'RANK5_prob']]\n",
      "new cattle  xxxxxxxxxxxxxxxxxxxxx new cattle alert \n",
      "1/1 [==============================] - 0s 40ms/step\n",
      "White Percentage of 5: 3.32%\n",
      "1/1 [==============================] - 0s 41ms/step\n",
      "White Percentage of 6: 2.77%\n",
      "1/1 [==============================] - 0s 40ms/step\n"
     ]
    },
    {
     "name": "stderr",
     "output_type": "stream",
     "text": [
      "video 1/1 (102/302) D:\\815_CowDataChecking\\Honkawa\\2023-07-31\\03\\output_1fps\\20230731-030500-031000_10fps_1fps.mp4: 384x640 5 cows, 32.5ms\n",
      "WARNING  'Masks.masks' is deprecated. Use 'Masks.data' instead.\n"
     ]
    },
    {
     "name": "stdout",
     "output_type": "stream",
     "text": [
      "White Percentage of 7: 11.61%\n",
      "1/1 [==============================] - 0s 41ms/step\n",
      "White Percentage of 6: 2.40%\n",
      "1/1 [==============================] - 0s 41ms/step\n"
     ]
    },
    {
     "name": "stderr",
     "output_type": "stream",
     "text": [
      "video 1/1 (103/302) D:\\815_CowDataChecking\\Honkawa\\2023-07-31\\03\\output_1fps\\20230731-030500-031000_10fps_1fps.mp4: 384x640 5 cows, 30.0ms\n"
     ]
    },
    {
     "name": "stdout",
     "output_type": "stream",
     "text": [
      "White Percentage of 7: 10.99%\n"
     ]
    },
    {
     "name": "stderr",
     "output_type": "stream",
     "text": [
      "WARNING  'Masks.masks' is deprecated. Use 'Masks.data' instead.\n"
     ]
    },
    {
     "name": "stdout",
     "output_type": "stream",
     "text": [
      "1/1 [==============================] - 0s 45ms/step\n",
      "White Percentage of 6: 2.28%\n",
      "1/1 [==============================] - 0s 42ms/step\n"
     ]
    },
    {
     "name": "stderr",
     "output_type": "stream",
     "text": [
      "video 1/1 (104/302) D:\\815_CowDataChecking\\Honkawa\\2023-07-31\\03\\output_1fps\\20230731-030500-031000_10fps_1fps.mp4: 384x640 5 cows, 100.6ms\n",
      "WARNING  'Masks.masks' is deprecated. Use 'Masks.data' instead.\n"
     ]
    },
    {
     "name": "stdout",
     "output_type": "stream",
     "text": [
      "White Percentage of 7: 11.74%\n",
      "1/1 [==============================] - 0s 44ms/step\n",
      "White Percentage of 6: 2.18%\n",
      "1/1 [==============================] - 0s 41ms/step\n"
     ]
    },
    {
     "name": "stderr",
     "output_type": "stream",
     "text": [
      "video 1/1 (105/302) D:\\815_CowDataChecking\\Honkawa\\2023-07-31\\03\\output_1fps\\20230731-030500-031000_10fps_1fps.mp4: 384x640 5 cows, 18.0ms\n",
      "WARNING  'Masks.masks' is deprecated. Use 'Masks.data' instead.\n"
     ]
    },
    {
     "name": "stdout",
     "output_type": "stream",
     "text": [
      "White Percentage of 7: 11.88%\n",
      "1/1 [==============================] - 0s 48ms/step\n",
      "White Percentage of 6: 2.01%\n",
      "1/1 [==============================] - 0s 41ms/step\n"
     ]
    },
    {
     "name": "stderr",
     "output_type": "stream",
     "text": [
      "video 1/1 (106/302) D:\\815_CowDataChecking\\Honkawa\\2023-07-31\\03\\output_1fps\\20230731-030500-031000_10fps_1fps.mp4: 384x640 5 cows, 18.0ms\n",
      "WARNING  'Masks.masks' is deprecated. Use 'Masks.data' instead.\n"
     ]
    },
    {
     "name": "stdout",
     "output_type": "stream",
     "text": [
      "White Percentage of 7: 12.11%\n",
      "1/1 [==============================] - 0s 39ms/step\n",
      "White Percentage of 6: 1.85%\n",
      "1/1 [==============================] - 0s 41ms/step\n"
     ]
    },
    {
     "name": "stderr",
     "output_type": "stream",
     "text": [
      "video 1/1 (107/302) D:\\815_CowDataChecking\\Honkawa\\2023-07-31\\03\\output_1fps\\20230731-030500-031000_10fps_1fps.mp4: 384x640 5 cows, 20.0ms\n",
      "WARNING  'Masks.masks' is deprecated. Use 'Masks.data' instead.\n"
     ]
    },
    {
     "name": "stdout",
     "output_type": "stream",
     "text": [
      "White Percentage of 7: 12.56%\n",
      "1/1 [==============================] - 0s 43ms/step\n",
      "White Percentage of 6: 1.52%\n",
      "1/1 [==============================] - 0s 39ms/step\n"
     ]
    },
    {
     "name": "stderr",
     "output_type": "stream",
     "text": [
      "video 1/1 (108/302) D:\\815_CowDataChecking\\Honkawa\\2023-07-31\\03\\output_1fps\\20230731-030500-031000_10fps_1fps.mp4: 384x640 5 cows, 11.0ms\n",
      "WARNING  'Masks.masks' is deprecated. Use 'Masks.data' instead.\n"
     ]
    },
    {
     "name": "stdout",
     "output_type": "stream",
     "text": [
      "White Percentage of 7: 11.84%\n",
      "1/1 [==============================] - 0s 42ms/step\n",
      "White Percentage of 6: 1.34%\n",
      "1/1 [==============================] - 0s 41ms/step\n"
     ]
    },
    {
     "name": "stderr",
     "output_type": "stream",
     "text": [
      "video 1/1 (109/302) D:\\815_CowDataChecking\\Honkawa\\2023-07-31\\03\\output_1fps\\20230731-030500-031000_10fps_1fps.mp4: 384x640 5 cows, 21.0ms\n",
      "WARNING  'Masks.masks' is deprecated. Use 'Masks.data' instead.\n"
     ]
    },
    {
     "name": "stdout",
     "output_type": "stream",
     "text": [
      "White Percentage of 7: 11.42%\n",
      "1/1 [==============================] - 0s 42ms/step\n",
      "White Percentage of 6: 1.47%\n",
      "1/1 [==============================] - 0s 42ms/step\n",
      "White Percentage of 7: 11.46%\n",
      "1/1 [==============================] - 0s 39ms/step\n"
     ]
    },
    {
     "name": "stderr",
     "output_type": "stream",
     "text": [
      "video 1/1 (110/302) D:\\815_CowDataChecking\\Honkawa\\2023-07-31\\03\\output_1fps\\20230731-030500-031000_10fps_1fps.mp4: 384x640 5 cows, 24.0ms\n",
      "WARNING  'Masks.masks' is deprecated. Use 'Masks.data' instead.\n"
     ]
    },
    {
     "name": "stdout",
     "output_type": "stream",
     "text": [
      "White Percentage of 8: 10.80%\n",
      "[['ID', 'COLOR', 'RANK1', 'RANK1_prob', 'RANK2', 'RANK2_prob', 'RANK3', 'RANK3_prob', 'RANK4', 'RANK4_prob', 'RANK5', 'RANK5_prob']]\n",
      "new cattle  xxxxxxxxxxxxxxxxxxxxx new cattle alert \n",
      "1/1 [==============================] - 0s 42ms/step\n",
      "White Percentage of 6: 1.33%\n",
      "1/1 [==============================] - 0s 42ms/step\n",
      "White Percentage of 7: 11.24%\n",
      "1/1 [==============================] - 0s 41ms/step\n"
     ]
    },
    {
     "name": "stderr",
     "output_type": "stream",
     "text": [
      "video 1/1 (111/302) D:\\815_CowDataChecking\\Honkawa\\2023-07-31\\03\\output_1fps\\20230731-030500-031000_10fps_1fps.mp4: 384x640 5 cows, 24.0ms\n",
      "WARNING  'Masks.masks' is deprecated. Use 'Masks.data' instead.\n"
     ]
    },
    {
     "name": "stdout",
     "output_type": "stream",
     "text": [
      "White Percentage of 8: 11.36%\n",
      "1/1 [==============================] - 0s 41ms/step\n",
      "White Percentage of 6: 1.34%\n",
      "1/1 [==============================] - 0s 39ms/step\n",
      "White Percentage of 7: 11.99%\n",
      "1/1 [==============================] - 0s 48ms/step\n"
     ]
    },
    {
     "name": "stderr",
     "output_type": "stream",
     "text": [
      "video 1/1 (112/302) D:\\815_CowDataChecking\\Honkawa\\2023-07-31\\03\\output_1fps\\20230731-030500-031000_10fps_1fps.mp4: 384x640 5 cows, 26.0ms\n",
      "WARNING  'Masks.masks' is deprecated. Use 'Masks.data' instead.\n"
     ]
    },
    {
     "name": "stdout",
     "output_type": "stream",
     "text": [
      "White Percentage of 8: 11.42%\n",
      "1/1 [==============================] - 0s 42ms/step\n",
      "White Percentage of 6: 1.20%\n",
      "1/1 [==============================] - 0s 43ms/step\n",
      "White Percentage of 7: 11.14%\n",
      "1/1 [==============================] - 0s 48ms/step\n"
     ]
    },
    {
     "name": "stderr",
     "output_type": "stream",
     "text": [
      "video 1/1 (113/302) D:\\815_CowDataChecking\\Honkawa\\2023-07-31\\03\\output_1fps\\20230731-030500-031000_10fps_1fps.mp4: 384x640 5 cows, 21.0ms\n",
      "WARNING  'Masks.masks' is deprecated. Use 'Masks.data' instead.\n"
     ]
    },
    {
     "name": "stdout",
     "output_type": "stream",
     "text": [
      "White Percentage of 8: 11.72%\n",
      "1/1 [==============================] - 0s 49ms/step\n",
      "White Percentage of 6: 1.05%\n",
      "1/1 [==============================] - 0s 41ms/step\n",
      "White Percentage of 7: 9.49%\n",
      "1/1 [==============================] - 0s 42ms/step\n"
     ]
    },
    {
     "name": "stderr",
     "output_type": "stream",
     "text": [
      "video 1/1 (114/302) D:\\815_CowDataChecking\\Honkawa\\2023-07-31\\03\\output_1fps\\20230731-030500-031000_10fps_1fps.mp4: 384x640 4 cows, 23.0ms\n",
      "WARNING  'Masks.masks' is deprecated. Use 'Masks.data' instead.\n"
     ]
    },
    {
     "name": "stdout",
     "output_type": "stream",
     "text": [
      "White Percentage of 8: 12.93%\n",
      "1/1 [==============================] - 0s 48ms/step\n",
      "White Percentage of 7: 9.81%\n",
      "1/1 [==============================] - 0s 40ms/step\n"
     ]
    },
    {
     "name": "stderr",
     "output_type": "stream",
     "text": [
      "video 1/1 (115/302) D:\\815_CowDataChecking\\Honkawa\\2023-07-31\\03\\output_1fps\\20230731-030500-031000_10fps_1fps.mp4: 384x640 4 cows, 11.0ms\n",
      "WARNING  'Masks.masks' is deprecated. Use 'Masks.data' instead.\n"
     ]
    },
    {
     "name": "stdout",
     "output_type": "stream",
     "text": [
      "White Percentage of 8: 14.63%\n",
      "1/1 [==============================] - 0s 49ms/step\n",
      "White Percentage of 7: 8.25%\n",
      "1/1 [==============================] - 0s 42ms/step\n"
     ]
    },
    {
     "name": "stderr",
     "output_type": "stream",
     "text": [
      "video 1/1 (116/302) D:\\815_CowDataChecking\\Honkawa\\2023-07-31\\03\\output_1fps\\20230731-030500-031000_10fps_1fps.mp4: 384x640 4 cows, 24.0ms\n",
      "WARNING  'Masks.masks' is deprecated. Use 'Masks.data' instead.\n"
     ]
    },
    {
     "name": "stdout",
     "output_type": "stream",
     "text": [
      "White Percentage of 8: 13.97%\n",
      "1/1 [==============================] - 0s 42ms/step\n",
      "White Percentage of 7: 7.51%\n",
      "1/1 [==============================] - 0s 42ms/step\n"
     ]
    },
    {
     "name": "stderr",
     "output_type": "stream",
     "text": [
      "video 1/1 (117/302) D:\\815_CowDataChecking\\Honkawa\\2023-07-31\\03\\output_1fps\\20230731-030500-031000_10fps_1fps.mp4: 384x640 4 cows, 13.0ms\n",
      "WARNING  'Masks.masks' is deprecated. Use 'Masks.data' instead.\n"
     ]
    },
    {
     "name": "stdout",
     "output_type": "stream",
     "text": [
      "White Percentage of 8: 16.05%\n",
      "1/1 [==============================] - 0s 41ms/step\n",
      "White Percentage of 7: 7.27%\n",
      "1/1 [==============================] - 0s 47ms/step\n"
     ]
    },
    {
     "name": "stderr",
     "output_type": "stream",
     "text": [
      "video 1/1 (118/302) D:\\815_CowDataChecking\\Honkawa\\2023-07-31\\03\\output_1fps\\20230731-030500-031000_10fps_1fps.mp4: 384x640 5 cows, 13.0ms\n",
      "WARNING  'Masks.masks' is deprecated. Use 'Masks.data' instead.\n"
     ]
    },
    {
     "name": "stdout",
     "output_type": "stream",
     "text": [
      "White Percentage of 8: 14.92%\n",
      "1/1 [==============================] - 0s 47ms/step\n",
      "White Percentage of 7: 6.18%\n",
      "1/1 [==============================] - 0s 40ms/step\n"
     ]
    },
    {
     "name": "stderr",
     "output_type": "stream",
     "text": [
      "video 1/1 (119/302) D:\\815_CowDataChecking\\Honkawa\\2023-07-31\\03\\output_1fps\\20230731-030500-031000_10fps_1fps.mp4: 384x640 6 cows, 11.0ms\n",
      "WARNING  'Masks.masks' is deprecated. Use 'Masks.data' instead.\n"
     ]
    },
    {
     "name": "stdout",
     "output_type": "stream",
     "text": [
      "White Percentage of 8: 15.77%\n",
      "1/1 [==============================] - 0s 41ms/step\n",
      "White Percentage of 7: 6.22%\n",
      "1/1 [==============================] - 0s 42ms/step\n"
     ]
    },
    {
     "name": "stderr",
     "output_type": "stream",
     "text": [
      "video 1/1 (120/302) D:\\815_CowDataChecking\\Honkawa\\2023-07-31\\03\\output_1fps\\20230731-030500-031000_10fps_1fps.mp4: 384x640 6 cows, 15.0ms\n",
      "WARNING  'Masks.masks' is deprecated. Use 'Masks.data' instead.\n"
     ]
    },
    {
     "name": "stdout",
     "output_type": "stream",
     "text": [
      "White Percentage of 8: 16.36%\n",
      "1/1 [==============================] - 0s 42ms/step\n",
      "White Percentage of 7: 4.85%\n",
      "1/1 [==============================] - 0s 48ms/step\n",
      "White Percentage of 8: 16.70%\n",
      "1/1 [==============================] - 0s 41ms/step\n"
     ]
    },
    {
     "name": "stderr",
     "output_type": "stream",
     "text": [
      "video 1/1 (121/302) D:\\815_CowDataChecking\\Honkawa\\2023-07-31\\03\\output_1fps\\20230731-030500-031000_10fps_1fps.mp4: 384x640 5 cows, 17.0ms\n",
      "WARNING  'Masks.masks' is deprecated. Use 'Masks.data' instead.\n"
     ]
    },
    {
     "name": "stdout",
     "output_type": "stream",
     "text": [
      "White Percentage of 9: 4.01%\n",
      "[['ID', 'COLOR', 'RANK1', 'RANK1_prob', 'RANK2', 'RANK2_prob', 'RANK3', 'RANK3_prob', 'RANK4', 'RANK4_prob', 'RANK5', 'RANK5_prob']]\n",
      "new cattle  xxxxxxxxxxxxxxxxxxxxx new cattle alert \n",
      "1/1 [==============================] - 0s 41ms/step\n",
      "White Percentage of 7: 5.32%\n",
      "1/1 [==============================] - 0s 41ms/step\n",
      "White Percentage of 8: 12.79%\n",
      "1/1 [==============================] - 0s 48ms/step\n"
     ]
    },
    {
     "name": "stderr",
     "output_type": "stream",
     "text": [
      "video 1/1 (122/302) D:\\815_CowDataChecking\\Honkawa\\2023-07-31\\03\\output_1fps\\20230731-030500-031000_10fps_1fps.mp4: 384x640 5 cows, 13.0ms\n",
      "WARNING  'Masks.masks' is deprecated. Use 'Masks.data' instead.\n"
     ]
    },
    {
     "name": "stdout",
     "output_type": "stream",
     "text": [
      "White Percentage of 9: 4.29%\n",
      "1/1 [==============================] - 0s 43ms/step\n",
      "White Percentage of 7: 4.68%\n",
      "1/1 [==============================] - 0s 42ms/step\n",
      "White Percentage of 8: 15.76%\n",
      "1/1 [==============================] - 0s 42ms/step\n"
     ]
    },
    {
     "name": "stderr",
     "output_type": "stream",
     "text": [
      "video 1/1 (123/302) D:\\815_CowDataChecking\\Honkawa\\2023-07-31\\03\\output_1fps\\20230731-030500-031000_10fps_1fps.mp4: 384x640 5 cows, 30.5ms\n",
      "WARNING  'Masks.masks' is deprecated. Use 'Masks.data' instead.\n"
     ]
    },
    {
     "name": "stdout",
     "output_type": "stream",
     "text": [
      "White Percentage of 9: 0.83%\n",
      "1/1 [==============================] - 0s 44ms/step\n",
      "White Percentage of 7: 4.24%\n",
      "1/1 [==============================] - 0s 41ms/step\n",
      "White Percentage of 8: 17.80%\n",
      "1/1 [==============================] - 0s 42ms/step\n"
     ]
    },
    {
     "name": "stderr",
     "output_type": "stream",
     "text": [
      "video 1/1 (124/302) D:\\815_CowDataChecking\\Honkawa\\2023-07-31\\03\\output_1fps\\20230731-030500-031000_10fps_1fps.mp4: 384x640 5 cows, 12.0ms\n",
      "WARNING  'Masks.masks' is deprecated. Use 'Masks.data' instead.\n"
     ]
    },
    {
     "name": "stdout",
     "output_type": "stream",
     "text": [
      "White Percentage of 9: 2.23%\n",
      "1/1 [==============================] - 0s 44ms/step\n",
      "White Percentage of 7: 3.89%\n",
      "1/1 [==============================] - 0s 40ms/step\n",
      "White Percentage of 8: 19.14%\n",
      "1/1 [==============================] - 0s 41ms/step\n"
     ]
    },
    {
     "name": "stderr",
     "output_type": "stream",
     "text": [
      "video 1/1 (125/302) D:\\815_CowDataChecking\\Honkawa\\2023-07-31\\03\\output_1fps\\20230731-030500-031000_10fps_1fps.mp4: 384x640 5 cows, 18.0ms\n",
      "WARNING  'Masks.masks' is deprecated. Use 'Masks.data' instead.\n"
     ]
    },
    {
     "name": "stdout",
     "output_type": "stream",
     "text": [
      "White Percentage of 9: 0.00%\n",
      "1/1 [==============================] - 0s 41ms/step\n",
      "White Percentage of 7: 3.60%\n",
      "1/1 [==============================] - 0s 51ms/step\n",
      "White Percentage of 8: 17.87%\n",
      "1/1 [==============================] - 0s 41ms/step\n"
     ]
    },
    {
     "name": "stderr",
     "output_type": "stream",
     "text": [
      "video 1/1 (126/302) D:\\815_CowDataChecking\\Honkawa\\2023-07-31\\03\\output_1fps\\20230731-030500-031000_10fps_1fps.mp4: 384x640 5 cows, 14.0ms\n",
      "WARNING  'Masks.masks' is deprecated. Use 'Masks.data' instead.\n"
     ]
    },
    {
     "name": "stdout",
     "output_type": "stream",
     "text": [
      "White Percentage of 9: 1.27%\n",
      "1/1 [==============================] - 0s 43ms/step\n",
      "White Percentage of 7: 3.13%\n",
      "1/1 [==============================] - 0s 42ms/step\n",
      "White Percentage of 8: 16.86%\n",
      "1/1 [==============================] - 0s 41ms/step\n"
     ]
    },
    {
     "name": "stderr",
     "output_type": "stream",
     "text": [
      "video 1/1 (127/302) D:\\815_CowDataChecking\\Honkawa\\2023-07-31\\03\\output_1fps\\20230731-030500-031000_10fps_1fps.mp4: 384x640 5 cows, 19.0ms\n",
      "WARNING  'Masks.masks' is deprecated. Use 'Masks.data' instead.\n"
     ]
    },
    {
     "name": "stdout",
     "output_type": "stream",
     "text": [
      "White Percentage of 9: 10.95%\n",
      "1/1 [==============================] - 0s 44ms/step\n",
      "White Percentage of 7: 2.98%\n",
      "1/1 [==============================] - 0s 44ms/step\n",
      "White Percentage of 8: 15.96%\n",
      "1/1 [==============================] - 0s 44ms/step\n"
     ]
    },
    {
     "name": "stderr",
     "output_type": "stream",
     "text": [
      "video 1/1 (128/302) D:\\815_CowDataChecking\\Honkawa\\2023-07-31\\03\\output_1fps\\20230731-030500-031000_10fps_1fps.mp4: 384x640 5 cows, 12.0ms\n",
      "WARNING  'Masks.masks' is deprecated. Use 'Masks.data' instead.\n"
     ]
    },
    {
     "name": "stdout",
     "output_type": "stream",
     "text": [
      "White Percentage of 9: 3.13%\n",
      "1/1 [==============================] - 0s 42ms/step\n",
      "White Percentage of 7: 2.50%\n",
      "1/1 [==============================] - 0s 41ms/step\n",
      "White Percentage of 8: 14.88%\n",
      "1/1 [==============================] - 0s 40ms/step\n"
     ]
    },
    {
     "name": "stderr",
     "output_type": "stream",
     "text": [
      "video 1/1 (129/302) D:\\815_CowDataChecking\\Honkawa\\2023-07-31\\03\\output_1fps\\20230731-030500-031000_10fps_1fps.mp4: 384x640 5 cows, 35.0ms\n",
      "WARNING  'Masks.masks' is deprecated. Use 'Masks.data' instead.\n"
     ]
    },
    {
     "name": "stdout",
     "output_type": "stream",
     "text": [
      "White Percentage of 9: 8.29%\n",
      "1/1 [==============================] - 0s 39ms/step\n",
      "White Percentage of 7: 2.35%\n",
      "1/1 [==============================] - 0s 50ms/step\n",
      "White Percentage of 8: 15.08%\n",
      "1/1 [==============================] - 0s 41ms/step\n"
     ]
    },
    {
     "name": "stderr",
     "output_type": "stream",
     "text": [
      "video 1/1 (130/302) D:\\815_CowDataChecking\\Honkawa\\2023-07-31\\03\\output_1fps\\20230731-030500-031000_10fps_1fps.mp4: 384x640 6 cows, 22.5ms\n",
      "WARNING  'Masks.masks' is deprecated. Use 'Masks.data' instead.\n"
     ]
    },
    {
     "name": "stdout",
     "output_type": "stream",
     "text": [
      "White Percentage of 9: 2.14%\n",
      "1/1 [==============================] - 0s 40ms/step\n",
      "White Percentage of 7: 2.07%\n",
      "1/1 [==============================] - 0s 43ms/step\n",
      "White Percentage of 8: 13.82%\n",
      "1/1 [==============================] - 0s 42ms/step\n",
      "White Percentage of 9: 6.60%\n",
      "1/1 [==============================] - 0s 43ms/step\n"
     ]
    },
    {
     "name": "stderr",
     "output_type": "stream",
     "text": [
      "video 1/1 (131/302) D:\\815_CowDataChecking\\Honkawa\\2023-07-31\\03\\output_1fps\\20230731-030500-031000_10fps_1fps.mp4: 384x640 6 cows, 10.0ms\n",
      "WARNING  'Masks.masks' is deprecated. Use 'Masks.data' instead.\n"
     ]
    },
    {
     "name": "stdout",
     "output_type": "stream",
     "text": [
      "White Percentage of 10: 0.00%\n",
      "[['ID', 'COLOR', 'RANK1', 'RANK1_prob', 'RANK2', 'RANK2_prob', 'RANK3', 'RANK3_prob', 'RANK4', 'RANK4_prob', 'RANK5', 'RANK5_prob']]\n",
      "new cattle  xxxxxxxxxxxxxxxxxxxxx new cattle alert \n",
      "1/1 [==============================] - 0s 41ms/step\n",
      "White Percentage of 7: 1.46%\n",
      "1/1 [==============================] - 0s 42ms/step\n",
      "White Percentage of 8: 13.17%\n",
      "1/1 [==============================] - 0s 43ms/step\n",
      "White Percentage of 9: 0.00%\n",
      "1/1 [==============================] - 0s 40ms/step\n"
     ]
    },
    {
     "name": "stderr",
     "output_type": "stream",
     "text": [
      "video 1/1 (132/302) D:\\815_CowDataChecking\\Honkawa\\2023-07-31\\03\\output_1fps\\20230731-030500-031000_10fps_1fps.mp4: 384x640 5 cows, 16.0ms\n",
      "WARNING  'Masks.masks' is deprecated. Use 'Masks.data' instead.\n"
     ]
    },
    {
     "name": "stdout",
     "output_type": "stream",
     "text": [
      "White Percentage of 10: 0.00%\n",
      "1/1 [==============================] - 0s 49ms/step\n",
      "White Percentage of 7: 1.36%\n",
      "1/1 [==============================] - 0s 41ms/step\n",
      "White Percentage of 8: 13.38%\n",
      "1/1 [==============================] - 0s 44ms/step\n",
      "White Percentage of 9: 0.00%\n",
      "1/1 [==============================] - 0s 42ms/step\n"
     ]
    },
    {
     "name": "stderr",
     "output_type": "stream",
     "text": [
      "video 1/1 (133/302) D:\\815_CowDataChecking\\Honkawa\\2023-07-31\\03\\output_1fps\\20230731-030500-031000_10fps_1fps.mp4: 384x640 5 cows, 32.0ms\n",
      "WARNING  'Masks.masks' is deprecated. Use 'Masks.data' instead.\n"
     ]
    },
    {
     "name": "stdout",
     "output_type": "stream",
     "text": [
      "White Percentage of 10: 0.00%\n",
      "1/1 [==============================] - 0s 40ms/step\n",
      "White Percentage of 8: 13.95%\n",
      "1/1 [==============================] - 0s 43ms/step\n",
      "White Percentage of 9: 0.00%\n",
      "1/1 [==============================] - 0s 41ms/step\n"
     ]
    },
    {
     "name": "stderr",
     "output_type": "stream",
     "text": [
      "video 1/1 (134/302) D:\\815_CowDataChecking\\Honkawa\\2023-07-31\\03\\output_1fps\\20230731-030500-031000_10fps_1fps.mp4: 384x640 5 cows, 14.5ms\n",
      "WARNING  'Masks.masks' is deprecated. Use 'Masks.data' instead.\n"
     ]
    },
    {
     "name": "stdout",
     "output_type": "stream",
     "text": [
      "White Percentage of 10: 0.00%\n",
      "1/1 [==============================] - 0s 45ms/step\n",
      "White Percentage of 8: 13.95%\n",
      "1/1 [==============================] - 0s 47ms/step\n",
      "White Percentage of 9: 5.50%\n",
      "1/1 [==============================] - 0s 42ms/step\n"
     ]
    },
    {
     "name": "stderr",
     "output_type": "stream",
     "text": [
      "video 1/1 (135/302) D:\\815_CowDataChecking\\Honkawa\\2023-07-31\\03\\output_1fps\\20230731-030500-031000_10fps_1fps.mp4: 384x640 5 cows, 42.5ms\n",
      "WARNING  'Masks.masks' is deprecated. Use 'Masks.data' instead.\n"
     ]
    },
    {
     "name": "stdout",
     "output_type": "stream",
     "text": [
      "White Percentage of 10: 0.00%\n",
      "1/1 [==============================] - 0s 49ms/step\n",
      "White Percentage of 8: 14.02%\n",
      "1/1 [==============================] - 0s 49ms/step\n",
      "White Percentage of 9: 9.37%\n",
      "1/1 [==============================] - 0s 41ms/step\n"
     ]
    },
    {
     "name": "stderr",
     "output_type": "stream",
     "text": [
      "video 1/1 (136/302) D:\\815_CowDataChecking\\Honkawa\\2023-07-31\\03\\output_1fps\\20230731-030500-031000_10fps_1fps.mp4: 384x640 5 cows, 150.1ms\n",
      "WARNING  'Masks.masks' is deprecated. Use 'Masks.data' instead.\n"
     ]
    },
    {
     "name": "stdout",
     "output_type": "stream",
     "text": [
      "White Percentage of 10: 0.00%\n",
      "1/1 [==============================] - 0s 41ms/step\n",
      "White Percentage of 8: 14.06%\n",
      "1/1 [==============================] - 0s 41ms/step\n",
      "White Percentage of 9: 3.09%\n",
      "1/1 [==============================] - 0s 51ms/step\n"
     ]
    },
    {
     "name": "stderr",
     "output_type": "stream",
     "text": [
      "video 1/1 (137/302) D:\\815_CowDataChecking\\Honkawa\\2023-07-31\\03\\output_1fps\\20230731-030500-031000_10fps_1fps.mp4: 384x640 8 cows, 12.0ms\n",
      "WARNING  'Masks.masks' is deprecated. Use 'Masks.data' instead.\n"
     ]
    },
    {
     "name": "stdout",
     "output_type": "stream",
     "text": [
      "White Percentage of 10: 0.00%\n",
      "1/1 [==============================] - 0s 41ms/step\n",
      "White Percentage of 8: 13.43%\n",
      "1/1 [==============================] - 0s 41ms/step\n",
      "White Percentage of 9: 3.73%\n",
      "1/1 [==============================] - 0s 46ms/step\n"
     ]
    },
    {
     "name": "stderr",
     "output_type": "stream",
     "text": [
      "video 1/1 (138/302) D:\\815_CowDataChecking\\Honkawa\\2023-07-31\\03\\output_1fps\\20230731-030500-031000_10fps_1fps.mp4: 384x640 7 cows, 29.5ms\n",
      "WARNING  'Masks.masks' is deprecated. Use 'Masks.data' instead.\n"
     ]
    },
    {
     "name": "stdout",
     "output_type": "stream",
     "text": [
      "White Percentage of 10: 0.00%\n",
      "1/1 [==============================] - 0s 45ms/step\n",
      "White Percentage of 8: 13.14%\n",
      "1/1 [==============================] - 0s 44ms/step\n",
      "White Percentage of 9: 0.00%\n",
      "1/1 [==============================] - 0s 50ms/step\n"
     ]
    },
    {
     "name": "stderr",
     "output_type": "stream",
     "text": [
      "video 1/1 (139/302) D:\\815_CowDataChecking\\Honkawa\\2023-07-31\\03\\output_1fps\\20230731-030500-031000_10fps_1fps.mp4: 384x640 7 cows, 25.5ms\n",
      "WARNING  'Masks.masks' is deprecated. Use 'Masks.data' instead.\n"
     ]
    },
    {
     "name": "stdout",
     "output_type": "stream",
     "text": [
      "White Percentage of 10: 0.00%\n",
      "1/1 [==============================] - 0s 41ms/step\n",
      "White Percentage of 8: 12.98%\n",
      "1/1 [==============================] - 0s 42ms/step\n",
      "White Percentage of 9: 1.73%\n",
      "1/1 [==============================] - 0s 46ms/step\n"
     ]
    },
    {
     "name": "stderr",
     "output_type": "stream",
     "text": [
      "video 1/1 (140/302) D:\\815_CowDataChecking\\Honkawa\\2023-07-31\\03\\output_1fps\\20230731-030500-031000_10fps_1fps.mp4: 384x640 8 cows, 28.5ms\n",
      "WARNING  'Masks.masks' is deprecated. Use 'Masks.data' instead.\n"
     ]
    },
    {
     "name": "stdout",
     "output_type": "stream",
     "text": [
      "White Percentage of 10: 0.00%\n",
      "1/1 [==============================] - 0s 43ms/step\n",
      "White Percentage of 8: 12.72%\n",
      "1/1 [==============================] - 0s 42ms/step\n",
      "White Percentage of 9: 0.00%\n",
      "1/1 [==============================] - 0s 44ms/step\n"
     ]
    },
    {
     "name": "stderr",
     "output_type": "stream",
     "text": [
      "video 1/1 (141/302) D:\\815_CowDataChecking\\Honkawa\\2023-07-31\\03\\output_1fps\\20230731-030500-031000_10fps_1fps.mp4: 384x640 6 cows, 34.0ms\n",
      "WARNING  'Masks.masks' is deprecated. Use 'Masks.data' instead.\n"
     ]
    },
    {
     "name": "stdout",
     "output_type": "stream",
     "text": [
      "White Percentage of 10: 0.00%\n",
      "1/1 [==============================] - 0s 43ms/step\n",
      "White Percentage of 8: 12.80%\n",
      "1/1 [==============================] - 0s 43ms/step\n",
      "White Percentage of 9: 0.00%\n",
      "1/1 [==============================] - 0s 44ms/step\n"
     ]
    },
    {
     "name": "stderr",
     "output_type": "stream",
     "text": [
      "video 1/1 (142/302) D:\\815_CowDataChecking\\Honkawa\\2023-07-31\\03\\output_1fps\\20230731-030500-031000_10fps_1fps.mp4: 384x640 6 cows, 24.0ms\n",
      "WARNING  'Masks.masks' is deprecated. Use 'Masks.data' instead.\n"
     ]
    },
    {
     "name": "stdout",
     "output_type": "stream",
     "text": [
      "White Percentage of 10: 0.00%\n",
      "1/1 [==============================] - 0s 41ms/step\n",
      "White Percentage of 8: 12.63%\n",
      "1/1 [==============================] - 0s 47ms/step\n",
      "White Percentage of 9: 3.34%\n",
      "1/1 [==============================] - 0s 50ms/step\n",
      "White Percentage of 10: 0.00%\n",
      "1/1 [==============================] - 0s 42ms/step\n"
     ]
    },
    {
     "name": "stderr",
     "output_type": "stream",
     "text": [
      "video 1/1 (143/302) D:\\815_CowDataChecking\\Honkawa\\2023-07-31\\03\\output_1fps\\20230731-030500-031000_10fps_1fps.mp4: 384x640 6 cows, 17.0ms\n",
      "WARNING  'Masks.masks' is deprecated. Use 'Masks.data' instead.\n"
     ]
    },
    {
     "name": "stdout",
     "output_type": "stream",
     "text": [
      "White Percentage of 11: 17.09%\n",
      "[['ID', 'COLOR', 'RANK1', 'RANK1_prob', 'RANK2', 'RANK2_prob', 'RANK3', 'RANK3_prob', 'RANK4', 'RANK4_prob', 'RANK5', 'RANK5_prob']]\n",
      "new cattle  xxxxxxxxxxxxxxxxxxxxx new cattle alert \n",
      "1/1 [==============================] - 0s 42ms/step\n",
      "White Percentage of 8: 12.63%\n",
      "1/1 [==============================] - 0s 42ms/step\n",
      "White Percentage of 9: 4.77%\n",
      "1/1 [==============================] - 0s 52ms/step\n",
      "White Percentage of 10: 0.00%\n",
      "1/1 [==============================] - 0s 45ms/step\n"
     ]
    },
    {
     "name": "stderr",
     "output_type": "stream",
     "text": [
      "video 1/1 (144/302) D:\\815_CowDataChecking\\Honkawa\\2023-07-31\\03\\output_1fps\\20230731-030500-031000_10fps_1fps.mp4: 384x640 7 cows, 10.5ms\n",
      "WARNING  'Masks.masks' is deprecated. Use 'Masks.data' instead.\n"
     ]
    },
    {
     "name": "stdout",
     "output_type": "stream",
     "text": [
      "White Percentage of 11: 17.50%\n",
      "1/1 [==============================] - 0s 43ms/step\n",
      "White Percentage of 8: 12.91%\n",
      "1/1 [==============================] - 0s 42ms/step\n",
      "White Percentage of 9: 0.00%\n",
      "1/1 [==============================] - 0s 42ms/step\n",
      "White Percentage of 10: 0.00%\n",
      "1/1 [==============================] - 0s 45ms/step\n"
     ]
    },
    {
     "name": "stderr",
     "output_type": "stream",
     "text": [
      "video 1/1 (145/302) D:\\815_CowDataChecking\\Honkawa\\2023-07-31\\03\\output_1fps\\20230731-030500-031000_10fps_1fps.mp4: 384x640 6 cows, 24.0ms\n",
      "WARNING  'Masks.masks' is deprecated. Use 'Masks.data' instead.\n"
     ]
    },
    {
     "name": "stdout",
     "output_type": "stream",
     "text": [
      "White Percentage of 11: 17.26%\n",
      "1/1 [==============================] - 0s 46ms/step\n",
      "White Percentage of 9: 0.00%\n",
      "1/1 [==============================] - 0s 43ms/step\n",
      "White Percentage of 10: 0.00%\n",
      "1/1 [==============================] - 0s 41ms/step\n"
     ]
    },
    {
     "name": "stderr",
     "output_type": "stream",
     "text": [
      "video 1/1 (146/302) D:\\815_CowDataChecking\\Honkawa\\2023-07-31\\03\\output_1fps\\20230731-030500-031000_10fps_1fps.mp4: 384x640 6 cows, 85.1ms\n",
      "WARNING  'Masks.masks' is deprecated. Use 'Masks.data' instead.\n"
     ]
    },
    {
     "name": "stdout",
     "output_type": "stream",
     "text": [
      "White Percentage of 11: 18.99%\n",
      "1/1 [==============================] - 0s 42ms/step\n",
      "White Percentage of 9: 0.00%\n",
      "1/1 [==============================] - 0s 41ms/step\n",
      "White Percentage of 10: 0.00%\n",
      "1/1 [==============================] - 0s 43ms/step\n"
     ]
    },
    {
     "name": "stderr",
     "output_type": "stream",
     "text": [
      "video 1/1 (147/302) D:\\815_CowDataChecking\\Honkawa\\2023-07-31\\03\\output_1fps\\20230731-030500-031000_10fps_1fps.mp4: 384x640 7 cows, 11.5ms\n",
      "WARNING  'Masks.masks' is deprecated. Use 'Masks.data' instead.\n"
     ]
    },
    {
     "name": "stdout",
     "output_type": "stream",
     "text": [
      "White Percentage of 11: 18.11%\n",
      "1/1 [==============================] - 0s 43ms/step\n",
      "White Percentage of 9: 2.80%\n",
      "1/1 [==============================] - 0s 42ms/step\n",
      "White Percentage of 10: 0.00%\n",
      "1/1 [==============================] - 0s 47ms/step\n"
     ]
    },
    {
     "name": "stderr",
     "output_type": "stream",
     "text": [
      "video 1/1 (148/302) D:\\815_CowDataChecking\\Honkawa\\2023-07-31\\03\\output_1fps\\20230731-030500-031000_10fps_1fps.mp4: 384x640 6 cows, 24.5ms\n",
      "WARNING  'Masks.masks' is deprecated. Use 'Masks.data' instead.\n"
     ]
    },
    {
     "name": "stdout",
     "output_type": "stream",
     "text": [
      "White Percentage of 11: 18.51%\n",
      "1/1 [==============================] - 0s 42ms/step\n",
      "White Percentage of 9: 0.00%\n",
      "1/1 [==============================] - 0s 49ms/step\n",
      "White Percentage of 10: 0.00%\n",
      "1/1 [==============================] - 0s 43ms/step\n"
     ]
    },
    {
     "name": "stderr",
     "output_type": "stream",
     "text": [
      "video 1/1 (149/302) D:\\815_CowDataChecking\\Honkawa\\2023-07-31\\03\\output_1fps\\20230731-030500-031000_10fps_1fps.mp4: 384x640 6 cows, 27.0ms\n",
      "WARNING  'Masks.masks' is deprecated. Use 'Masks.data' instead.\n"
     ]
    },
    {
     "name": "stdout",
     "output_type": "stream",
     "text": [
      "White Percentage of 11: 18.59%\n",
      "1/1 [==============================] - 0s 45ms/step\n",
      "White Percentage of 9: 0.00%\n",
      "1/1 [==============================] - 0s 44ms/step\n",
      "White Percentage of 10: 0.00%\n",
      "1/1 [==============================] - 0s 45ms/step\n"
     ]
    },
    {
     "name": "stderr",
     "output_type": "stream",
     "text": [
      "video 1/1 (150/302) D:\\815_CowDataChecking\\Honkawa\\2023-07-31\\03\\output_1fps\\20230731-030500-031000_10fps_1fps.mp4: 384x640 5 cows, 25.5ms\n",
      "WARNING  'Masks.masks' is deprecated. Use 'Masks.data' instead.\n"
     ]
    },
    {
     "name": "stdout",
     "output_type": "stream",
     "text": [
      "White Percentage of 11: 19.66%\n",
      "1/1 [==============================] - 0s 42ms/step\n",
      "White Percentage of 9: 0.00%\n",
      "1/1 [==============================] - 0s 44ms/step\n",
      "White Percentage of 10: 0.00%\n",
      "1/1 [==============================] - 0s 43ms/step\n"
     ]
    },
    {
     "name": "stderr",
     "output_type": "stream",
     "text": [
      "video 1/1 (151/302) D:\\815_CowDataChecking\\Honkawa\\2023-07-31\\03\\output_1fps\\20230731-030500-031000_10fps_1fps.mp4: 384x640 5 cows, 16.0ms\n",
      "WARNING  'Masks.masks' is deprecated. Use 'Masks.data' instead.\n"
     ]
    },
    {
     "name": "stdout",
     "output_type": "stream",
     "text": [
      "White Percentage of 11: 18.01%\n",
      "1/1 [==============================] - 0s 46ms/step\n",
      "White Percentage of 9: 0.00%\n",
      "1/1 [==============================] - 0s 43ms/step\n",
      "White Percentage of 10: 0.00%\n",
      "1/1 [==============================] - 0s 42ms/step\n"
     ]
    },
    {
     "name": "stderr",
     "output_type": "stream",
     "text": [
      "video 1/1 (152/302) D:\\815_CowDataChecking\\Honkawa\\2023-07-31\\03\\output_1fps\\20230731-030500-031000_10fps_1fps.mp4: 384x640 6 cows, 22.5ms\n",
      "WARNING  'Masks.masks' is deprecated. Use 'Masks.data' instead.\n"
     ]
    },
    {
     "name": "stdout",
     "output_type": "stream",
     "text": [
      "White Percentage of 11: 19.02%\n",
      "1/1 [==============================] - 0s 44ms/step\n",
      "White Percentage of 9: 0.00%\n",
      "1/1 [==============================] - 0s 43ms/step\n",
      "White Percentage of 10: 0.00%\n",
      "1/1 [==============================] - 0s 48ms/step\n",
      "White Percentage of 11: 18.35%\n",
      "1/1 [==============================] - 0s 51ms/step\n"
     ]
    },
    {
     "name": "stderr",
     "output_type": "stream",
     "text": [
      "video 1/1 (153/302) D:\\815_CowDataChecking\\Honkawa\\2023-07-31\\03\\output_1fps\\20230731-030500-031000_10fps_1fps.mp4: 384x640 6 cows, 20.0ms\n",
      "WARNING  'Masks.masks' is deprecated. Use 'Masks.data' instead.\n"
     ]
    },
    {
     "name": "stdout",
     "output_type": "stream",
     "text": [
      "White Percentage of 12: 36.07%\n",
      "[['ID', 'COLOR', 'RANK1', 'RANK1_prob', 'RANK2', 'RANK2_prob', 'RANK3', 'RANK3_prob', 'RANK4', 'RANK4_prob', 'RANK5', 'RANK5_prob']]\n",
      "new cattle  xxxxxxxxxxxxxxxxxxxxx new cattle alert \n",
      "1/1 [==============================] - 0s 46ms/step\n",
      "White Percentage of 9: 0.00%\n",
      "1/1 [==============================] - 0s 44ms/step\n",
      "White Percentage of 10: 0.00%\n",
      "1/1 [==============================] - 0s 47ms/step\n",
      "White Percentage of 11: 16.26%\n",
      "1/1 [==============================] - 0s 47ms/step\n"
     ]
    },
    {
     "name": "stderr",
     "output_type": "stream",
     "text": [
      "video 1/1 (154/302) D:\\815_CowDataChecking\\Honkawa\\2023-07-31\\03\\output_1fps\\20230731-030500-031000_10fps_1fps.mp4: 384x640 6 cows, 14.0ms\n",
      "WARNING  'Masks.masks' is deprecated. Use 'Masks.data' instead.\n"
     ]
    },
    {
     "name": "stdout",
     "output_type": "stream",
     "text": [
      "White Percentage of 12: 36.18%\n",
      "1/1 [==============================] - 0s 46ms/step\n",
      "White Percentage of 9: 0.00%\n",
      "1/1 [==============================] - 0s 47ms/step\n",
      "White Percentage of 10: 0.00%\n",
      "1/1 [==============================] - 0s 44ms/step\n",
      "White Percentage of 11: 19.69%\n",
      "1/1 [==============================] - 0s 51ms/step\n"
     ]
    },
    {
     "name": "stderr",
     "output_type": "stream",
     "text": [
      "video 1/1 (155/302) D:\\815_CowDataChecking\\Honkawa\\2023-07-31\\03\\output_1fps\\20230731-030500-031000_10fps_1fps.mp4: 384x640 6 cows, 23.0ms\n",
      "WARNING  'Masks.masks' is deprecated. Use 'Masks.data' instead.\n"
     ]
    },
    {
     "name": "stdout",
     "output_type": "stream",
     "text": [
      "White Percentage of 12: 36.48%\n",
      "1/1 [==============================] - 0s 43ms/step\n",
      "White Percentage of 9: 0.00%\n",
      "1/1 [==============================] - 0s 43ms/step\n",
      "White Percentage of 10: 0.00%\n",
      "1/1 [==============================] - 0s 47ms/step\n",
      "White Percentage of 11: 20.34%\n",
      "1/1 [==============================] - 0s 44ms/step\n"
     ]
    },
    {
     "name": "stderr",
     "output_type": "stream",
     "text": [
      "video 1/1 (156/302) D:\\815_CowDataChecking\\Honkawa\\2023-07-31\\03\\output_1fps\\20230731-030500-031000_10fps_1fps.mp4: 384x640 6 cows, 15.0ms\n",
      "WARNING  'Masks.masks' is deprecated. Use 'Masks.data' instead.\n"
     ]
    },
    {
     "name": "stdout",
     "output_type": "stream",
     "text": [
      "White Percentage of 12: 36.82%\n",
      "1/1 [==============================] - 0s 43ms/step\n",
      "White Percentage of 9: 0.00%\n",
      "1/1 [==============================] - 0s 46ms/step\n",
      "White Percentage of 10: 0.00%\n",
      "1/1 [==============================] - 0s 43ms/step\n",
      "White Percentage of 11: 20.18%\n",
      "1/1 [==============================] - 0s 46ms/step\n"
     ]
    },
    {
     "name": "stderr",
     "output_type": "stream",
     "text": [
      "video 1/1 (157/302) D:\\815_CowDataChecking\\Honkawa\\2023-07-31\\03\\output_1fps\\20230731-030500-031000_10fps_1fps.mp4: 384x640 6 cows, 19.0ms\n",
      "WARNING  'Masks.masks' is deprecated. Use 'Masks.data' instead.\n"
     ]
    },
    {
     "name": "stdout",
     "output_type": "stream",
     "text": [
      "White Percentage of 12: 38.00%\n",
      "1/1 [==============================] - 0s 50ms/step\n",
      "White Percentage of 10: 0.00%\n",
      "1/1 [==============================] - 0s 43ms/step\n",
      "White Percentage of 11: 18.10%\n",
      "1/1 [==============================] - 0s 42ms/step\n"
     ]
    },
    {
     "name": "stderr",
     "output_type": "stream",
     "text": [
      "video 1/1 (158/302) D:\\815_CowDataChecking\\Honkawa\\2023-07-31\\03\\output_1fps\\20230731-030500-031000_10fps_1fps.mp4: 384x640 5 cows, 16.0ms\n",
      "WARNING  'Masks.masks' is deprecated. Use 'Masks.data' instead.\n"
     ]
    },
    {
     "name": "stdout",
     "output_type": "stream",
     "text": [
      "White Percentage of 12: 39.64%\n",
      "1/1 [==============================] - 0s 42ms/step\n",
      "White Percentage of 10: 0.00%\n",
      "1/1 [==============================] - 0s 42ms/step\n",
      "White Percentage of 11: 16.13%\n",
      "1/1 [==============================] - 0s 42ms/step\n"
     ]
    },
    {
     "name": "stderr",
     "output_type": "stream",
     "text": [
      "video 1/1 (159/302) D:\\815_CowDataChecking\\Honkawa\\2023-07-31\\03\\output_1fps\\20230731-030500-031000_10fps_1fps.mp4: 384x640 5 cows, 9.1ms\n",
      "WARNING  'Masks.masks' is deprecated. Use 'Masks.data' instead.\n"
     ]
    },
    {
     "name": "stdout",
     "output_type": "stream",
     "text": [
      "White Percentage of 12: 40.25%\n",
      "1/1 [==============================] - 0s 42ms/step\n",
      "White Percentage of 10: 0.00%\n",
      "1/1 [==============================] - 0s 42ms/step\n",
      "White Percentage of 11: 9.90%\n",
      "1/1 [==============================] - 0s 42ms/step\n"
     ]
    },
    {
     "name": "stderr",
     "output_type": "stream",
     "text": [
      "video 1/1 (160/302) D:\\815_CowDataChecking\\Honkawa\\2023-07-31\\03\\output_1fps\\20230731-030500-031000_10fps_1fps.mp4: 384x640 5 cows, 27.0ms\n",
      "WARNING  'Masks.masks' is deprecated. Use 'Masks.data' instead.\n"
     ]
    },
    {
     "name": "stdout",
     "output_type": "stream",
     "text": [
      "White Percentage of 12: 34.76%\n",
      "1/1 [==============================] - 0s 42ms/step\n",
      "White Percentage of 10: 0.00%\n",
      "1/1 [==============================] - 0s 43ms/step\n",
      "White Percentage of 11: 15.06%\n",
      "1/1 [==============================] - 0s 46ms/step\n"
     ]
    },
    {
     "name": "stderr",
     "output_type": "stream",
     "text": [
      "video 1/1 (161/302) D:\\815_CowDataChecking\\Honkawa\\2023-07-31\\03\\output_1fps\\20230731-030500-031000_10fps_1fps.mp4: 384x640 6 cows, 24.5ms\n",
      "WARNING  'Masks.masks' is deprecated. Use 'Masks.data' instead.\n"
     ]
    },
    {
     "name": "stdout",
     "output_type": "stream",
     "text": [
      "White Percentage of 12: 43.31%\n",
      "1/1 [==============================] - 0s 47ms/step\n",
      "White Percentage of 10: 0.00%\n",
      "1/1 [==============================] - 0s 43ms/step\n",
      "White Percentage of 11: 21.02%\n",
      "1/1 [==============================] - 0s 44ms/step\n"
     ]
    },
    {
     "name": "stderr",
     "output_type": "stream",
     "text": [
      "video 1/1 (162/302) D:\\815_CowDataChecking\\Honkawa\\2023-07-31\\03\\output_1fps\\20230731-030500-031000_10fps_1fps.mp4: 384x640 6 cows, 24.0ms\n",
      "WARNING  'Masks.masks' is deprecated. Use 'Masks.data' instead.\n"
     ]
    },
    {
     "name": "stdout",
     "output_type": "stream",
     "text": [
      "White Percentage of 12: 38.84%\n",
      "1/1 [==============================] - 0s 42ms/step\n",
      "White Percentage of 10: 0.00%\n",
      "1/1 [==============================] - 0s 43ms/step\n",
      "White Percentage of 11: 19.38%\n",
      "1/1 [==============================] - 0s 42ms/step\n"
     ]
    },
    {
     "name": "stderr",
     "output_type": "stream",
     "text": [
      "video 1/1 (163/302) D:\\815_CowDataChecking\\Honkawa\\2023-07-31\\03\\output_1fps\\20230731-030500-031000_10fps_1fps.mp4: 384x640 6 cows, 18.0ms\n",
      "WARNING  'Masks.masks' is deprecated. Use 'Masks.data' instead.\n"
     ]
    },
    {
     "name": "stdout",
     "output_type": "stream",
     "text": [
      "White Percentage of 12: 38.84%\n",
      "1/1 [==============================] - 0s 43ms/step\n",
      "White Percentage of 10: 0.00%\n",
      "1/1 [==============================] - 0s 44ms/step\n",
      "White Percentage of 11: 19.73%\n",
      "1/1 [==============================] - 0s 43ms/step\n",
      "White Percentage of 12: 36.57%\n",
      "1/1 [==============================] - 0s 48ms/step\n"
     ]
    },
    {
     "name": "stderr",
     "output_type": "stream",
     "text": [
      "video 1/1 (164/302) D:\\815_CowDataChecking\\Honkawa\\2023-07-31\\03\\output_1fps\\20230731-030500-031000_10fps_1fps.mp4: 384x640 6 cows, 24.0ms\n",
      "WARNING  'Masks.masks' is deprecated. Use 'Masks.data' instead.\n"
     ]
    },
    {
     "name": "stdout",
     "output_type": "stream",
     "text": [
      "White Percentage of 13: 4.38%\n",
      "[['ID', 'COLOR', 'RANK1', 'RANK1_prob', 'RANK2', 'RANK2_prob', 'RANK3', 'RANK3_prob', 'RANK4', 'RANK4_prob', 'RANK5', 'RANK5_prob']]\n",
      "new cattle  xxxxxxxxxxxxxxxxxxxxx new cattle alert \n",
      "1/1 [==============================] - 0s 42ms/step\n",
      "White Percentage of 10: 0.00%\n",
      "1/1 [==============================] - 0s 44ms/step\n",
      "White Percentage of 11: 18.08%\n",
      "1/1 [==============================] - 0s 44ms/step\n",
      "White Percentage of 12: 33.42%\n",
      "1/1 [==============================] - 0s 43ms/step\n"
     ]
    },
    {
     "name": "stderr",
     "output_type": "stream",
     "text": [
      "video 1/1 (165/302) D:\\815_CowDataChecking\\Honkawa\\2023-07-31\\03\\output_1fps\\20230731-030500-031000_10fps_1fps.mp4: 384x640 6 cows, 19.5ms\n",
      "WARNING  'Masks.masks' is deprecated. Use 'Masks.data' instead.\n"
     ]
    },
    {
     "name": "stdout",
     "output_type": "stream",
     "text": [
      "White Percentage of 13: 4.10%\n",
      "1/1 [==============================] - 0s 43ms/step\n",
      "White Percentage of 10: 0.00%\n",
      "1/1 [==============================] - 0s 43ms/step\n",
      "White Percentage of 11: 16.91%\n",
      "1/1 [==============================] - 0s 43ms/step\n",
      "White Percentage of 12: 39.48%\n",
      "1/1 [==============================] - 0s 44ms/step\n"
     ]
    },
    {
     "name": "stderr",
     "output_type": "stream",
     "text": [
      "video 1/1 (166/302) D:\\815_CowDataChecking\\Honkawa\\2023-07-31\\03\\output_1fps\\20230731-030500-031000_10fps_1fps.mp4: 384x640 6 cows, 27.0ms\n",
      "WARNING  'Masks.masks' is deprecated. Use 'Masks.data' instead.\n"
     ]
    },
    {
     "name": "stdout",
     "output_type": "stream",
     "text": [
      "White Percentage of 13: 3.45%\n",
      "1/1 [==============================] - 0s 43ms/step\n",
      "White Percentage of 10: 0.00%\n",
      "1/1 [==============================] - 0s 45ms/step\n",
      "White Percentage of 11: 16.40%\n",
      "1/1 [==============================] - 0s 44ms/step\n",
      "White Percentage of 12: 40.43%\n",
      "1/1 [==============================] - 0s 48ms/step\n"
     ]
    },
    {
     "name": "stderr",
     "output_type": "stream",
     "text": [
      "video 1/1 (167/302) D:\\815_CowDataChecking\\Honkawa\\2023-07-31\\03\\output_1fps\\20230731-030500-031000_10fps_1fps.mp4: 384x640 6 cows, 18.1ms\n",
      "WARNING  'Masks.masks' is deprecated. Use 'Masks.data' instead.\n"
     ]
    },
    {
     "name": "stdout",
     "output_type": "stream",
     "text": [
      "White Percentage of 13: 3.63%\n",
      "1/1 [==============================] - 0s 49ms/step\n",
      "White Percentage of 11: 15.54%\n",
      "1/1 [==============================] - 0s 43ms/step\n",
      "White Percentage of 12: 42.73%\n",
      "1/1 [==============================] - 0s 50ms/step\n"
     ]
    },
    {
     "name": "stderr",
     "output_type": "stream",
     "text": [
      "video 1/1 (168/302) D:\\815_CowDataChecking\\Honkawa\\2023-07-31\\03\\output_1fps\\20230731-030500-031000_10fps_1fps.mp4: 384x640 5 cows, 106.1ms\n",
      "WARNING  'Masks.masks' is deprecated. Use 'Masks.data' instead.\n"
     ]
    },
    {
     "name": "stdout",
     "output_type": "stream",
     "text": [
      "White Percentage of 13: 3.87%\n",
      "1/1 [==============================] - 0s 43ms/step\n",
      "White Percentage of 11: 14.90%\n",
      "1/1 [==============================] - 0s 48ms/step\n",
      "White Percentage of 12: 34.65%\n",
      "1/1 [==============================] - 0s 42ms/step\n"
     ]
    },
    {
     "name": "stderr",
     "output_type": "stream",
     "text": [
      "video 1/1 (169/302) D:\\815_CowDataChecking\\Honkawa\\2023-07-31\\03\\output_1fps\\20230731-030500-031000_10fps_1fps.mp4: 384x640 5 cows, 10.0ms\n",
      "WARNING  'Masks.masks' is deprecated. Use 'Masks.data' instead.\n"
     ]
    },
    {
     "name": "stdout",
     "output_type": "stream",
     "text": [
      "White Percentage of 13: 4.23%\n",
      "1/1 [==============================] - 0s 44ms/step\n",
      "White Percentage of 11: 14.52%\n",
      "1/1 [==============================] - 0s 43ms/step\n",
      "White Percentage of 12: 29.34%\n",
      "1/1 [==============================] - 0s 46ms/step\n"
     ]
    },
    {
     "name": "stderr",
     "output_type": "stream",
     "text": [
      "video 1/1 (170/302) D:\\815_CowDataChecking\\Honkawa\\2023-07-31\\03\\output_1fps\\20230731-030500-031000_10fps_1fps.mp4: 384x640 5 cows, 21.0ms\n",
      "WARNING  'Masks.masks' is deprecated. Use 'Masks.data' instead.\n"
     ]
    },
    {
     "name": "stdout",
     "output_type": "stream",
     "text": [
      "White Percentage of 13: 3.93%\n",
      "1/1 [==============================] - 0s 53ms/step\n",
      "White Percentage of 11: 13.86%\n",
      "1/1 [==============================] - 0s 44ms/step\n",
      "White Percentage of 12: 28.20%\n",
      "1/1 [==============================] - 0s 43ms/step\n"
     ]
    },
    {
     "name": "stderr",
     "output_type": "stream",
     "text": [
      "video 1/1 (171/302) D:\\815_CowDataChecking\\Honkawa\\2023-07-31\\03\\output_1fps\\20230731-030500-031000_10fps_1fps.mp4: 384x640 5 cows, 56.5ms\n",
      "WARNING  'Masks.masks' is deprecated. Use 'Masks.data' instead.\n"
     ]
    },
    {
     "name": "stdout",
     "output_type": "stream",
     "text": [
      "White Percentage of 13: 3.99%\n",
      "1/1 [==============================] - 0s 43ms/step\n",
      "White Percentage of 11: 13.14%\n",
      "1/1 [==============================] - 0s 42ms/step\n",
      "White Percentage of 12: 38.04%\n",
      "1/1 [==============================] - 0s 42ms/step\n"
     ]
    },
    {
     "name": "stderr",
     "output_type": "stream",
     "text": [
      "video 1/1 (172/302) D:\\815_CowDataChecking\\Honkawa\\2023-07-31\\03\\output_1fps\\20230731-030500-031000_10fps_1fps.mp4: 384x640 6 cows, 18.0ms\n",
      "WARNING  'Masks.masks' is deprecated. Use 'Masks.data' instead.\n"
     ]
    },
    {
     "name": "stdout",
     "output_type": "stream",
     "text": [
      "White Percentage of 13: 3.97%\n",
      "1/1 [==============================] - 0s 43ms/step\n",
      "White Percentage of 11: 12.60%\n",
      "1/1 [==============================] - 0s 44ms/step\n",
      "White Percentage of 12: 20.78%\n",
      "1/1 [==============================] - 0s 44ms/step\n"
     ]
    },
    {
     "name": "stderr",
     "output_type": "stream",
     "text": [
      "video 1/1 (173/302) D:\\815_CowDataChecking\\Honkawa\\2023-07-31\\03\\output_1fps\\20230731-030500-031000_10fps_1fps.mp4: 384x640 6 cows, 24.5ms\n",
      "WARNING  'Masks.masks' is deprecated. Use 'Masks.data' instead.\n"
     ]
    },
    {
     "name": "stdout",
     "output_type": "stream",
     "text": [
      "White Percentage of 13: 3.72%\n",
      "1/1 [==============================] - 0s 46ms/step\n",
      "White Percentage of 11: 11.93%\n",
      "1/1 [==============================] - 0s 47ms/step\n",
      "White Percentage of 12: 30.75%\n",
      "1/1 [==============================] - 0s 42ms/step\n",
      "White Percentage of 13: 3.59%\n",
      "1/1 [==============================] - 0s 43ms/step\n"
     ]
    },
    {
     "name": "stderr",
     "output_type": "stream",
     "text": [
      "video 1/1 (174/302) D:\\815_CowDataChecking\\Honkawa\\2023-07-31\\03\\output_1fps\\20230731-030500-031000_10fps_1fps.mp4: 384x640 6 cows, 32.0ms\n",
      "WARNING  'Masks.masks' is deprecated. Use 'Masks.data' instead.\n"
     ]
    },
    {
     "name": "stdout",
     "output_type": "stream",
     "text": [
      "White Percentage of 14: 4.57%\n",
      "[['ID', 'COLOR', 'RANK1', 'RANK1_prob', 'RANK2', 'RANK2_prob', 'RANK3', 'RANK3_prob', 'RANK4', 'RANK4_prob', 'RANK5', 'RANK5_prob']]\n",
      "new cattle  xxxxxxxxxxxxxxxxxxxxx new cattle alert \n",
      "1/1 [==============================] - 0s 42ms/step\n",
      "White Percentage of 11: 10.82%\n",
      "1/1 [==============================] - 0s 42ms/step\n",
      "White Percentage of 12: 30.46%\n",
      "1/1 [==============================] - 0s 45ms/step\n",
      "White Percentage of 13: 3.16%\n",
      "1/1 [==============================] - 0s 48ms/step\n"
     ]
    },
    {
     "name": "stderr",
     "output_type": "stream",
     "text": [
      "video 1/1 (175/302) D:\\815_CowDataChecking\\Honkawa\\2023-07-31\\03\\output_1fps\\20230731-030500-031000_10fps_1fps.mp4: 384x640 6 cows, 23.5ms\n",
      "WARNING  'Masks.masks' is deprecated. Use 'Masks.data' instead.\n"
     ]
    },
    {
     "name": "stdout",
     "output_type": "stream",
     "text": [
      "White Percentage of 14: 3.62%\n",
      "1/1 [==============================] - 0s 43ms/step\n",
      "White Percentage of 11: 10.59%\n",
      "1/1 [==============================] - 0s 45ms/step\n",
      "White Percentage of 12: 29.50%\n",
      "1/1 [==============================] - 0s 44ms/step\n",
      "White Percentage of 13: 4.27%\n",
      "1/1 [==============================] - 0s 42ms/step\n"
     ]
    },
    {
     "name": "stderr",
     "output_type": "stream",
     "text": [
      "video 1/1 (176/302) D:\\815_CowDataChecking\\Honkawa\\2023-07-31\\03\\output_1fps\\20230731-030500-031000_10fps_1fps.mp4: 384x640 6 cows, 18.5ms\n",
      "WARNING  'Masks.masks' is deprecated. Use 'Masks.data' instead.\n"
     ]
    },
    {
     "name": "stdout",
     "output_type": "stream",
     "text": [
      "White Percentage of 14: 3.86%\n",
      "1/1 [==============================] - 0s 42ms/step\n",
      "White Percentage of 11: 9.87%\n",
      "1/1 [==============================] - 0s 44ms/step\n",
      "White Percentage of 12: 30.49%\n",
      "1/1 [==============================] - 0s 42ms/step\n",
      "White Percentage of 13: 4.21%\n",
      "1/1 [==============================] - 0s 46ms/step\n"
     ]
    },
    {
     "name": "stderr",
     "output_type": "stream",
     "text": [
      "video 1/1 (177/302) D:\\815_CowDataChecking\\Honkawa\\2023-07-31\\03\\output_1fps\\20230731-030500-031000_10fps_1fps.mp4: 384x640 6 cows, 25.0ms\n",
      "WARNING  'Masks.masks' is deprecated. Use 'Masks.data' instead.\n"
     ]
    },
    {
     "name": "stdout",
     "output_type": "stream",
     "text": [
      "White Percentage of 14: 4.66%\n",
      "1/1 [==============================] - 0s 43ms/step\n",
      "White Percentage of 11: 10.06%\n",
      "1/1 [==============================] - 0s 43ms/step\n",
      "White Percentage of 12: 30.48%\n",
      "1/1 [==============================] - 0s 42ms/step\n",
      "White Percentage of 13: 4.08%\n",
      "1/1 [==============================] - 0s 42ms/step\n"
     ]
    },
    {
     "name": "stderr",
     "output_type": "stream",
     "text": [
      "video 1/1 (178/302) D:\\815_CowDataChecking\\Honkawa\\2023-07-31\\03\\output_1fps\\20230731-030500-031000_10fps_1fps.mp4: 384x640 6 cows, 23.0ms\n",
      "WARNING  'Masks.masks' is deprecated. Use 'Masks.data' instead.\n"
     ]
    },
    {
     "name": "stdout",
     "output_type": "stream",
     "text": [
      "White Percentage of 14: 5.07%\n",
      "1/1 [==============================] - 0s 45ms/step\n",
      "White Percentage of 12: 32.04%\n",
      "1/1 [==============================] - 0s 43ms/step\n",
      "White Percentage of 13: 3.25%\n",
      "1/1 [==============================] - 0s 44ms/step\n"
     ]
    },
    {
     "name": "stderr",
     "output_type": "stream",
     "text": [
      "video 1/1 (179/302) D:\\815_CowDataChecking\\Honkawa\\2023-07-31\\03\\output_1fps\\20230731-030500-031000_10fps_1fps.mp4: 384x640 6 cows, 25.0ms\n",
      "WARNING  'Masks.masks' is deprecated. Use 'Masks.data' instead.\n"
     ]
    },
    {
     "name": "stdout",
     "output_type": "stream",
     "text": [
      "White Percentage of 14: 5.01%\n",
      "1/1 [==============================] - 0s 45ms/step\n",
      "White Percentage of 12: 26.90%\n",
      "1/1 [==============================] - 0s 42ms/step\n",
      "White Percentage of 13: 1.93%\n",
      "1/1 [==============================] - 0s 48ms/step\n"
     ]
    },
    {
     "name": "stderr",
     "output_type": "stream",
     "text": [
      "video 1/1 (180/302) D:\\815_CowDataChecking\\Honkawa\\2023-07-31\\03\\output_1fps\\20230731-030500-031000_10fps_1fps.mp4: 384x640 7 cows, 21.0ms\n",
      "WARNING  'Masks.masks' is deprecated. Use 'Masks.data' instead.\n"
     ]
    },
    {
     "name": "stdout",
     "output_type": "stream",
     "text": [
      "White Percentage of 14: 5.05%\n",
      "1/1 [==============================] - 0s 44ms/step\n",
      "White Percentage of 12: 26.98%\n",
      "1/1 [==============================] - 0s 44ms/step\n",
      "White Percentage of 13: 0.93%\n",
      "1/1 [==============================] - 0s 47ms/step\n"
     ]
    },
    {
     "name": "stderr",
     "output_type": "stream",
     "text": [
      "video 1/1 (181/302) D:\\815_CowDataChecking\\Honkawa\\2023-07-31\\03\\output_1fps\\20230731-030500-031000_10fps_1fps.mp4: 384x640 7 cows, 24.0ms\n",
      "WARNING  'Masks.masks' is deprecated. Use 'Masks.data' instead.\n"
     ]
    },
    {
     "name": "stdout",
     "output_type": "stream",
     "text": [
      "White Percentage of 14: 5.51%\n",
      "1/1 [==============================] - 0s 42ms/step\n",
      "White Percentage of 12: 30.01%\n",
      "1/1 [==============================] - 0s 47ms/step\n",
      "White Percentage of 13: 2.33%\n",
      "1/1 [==============================] - 0s 45ms/step\n"
     ]
    },
    {
     "name": "stderr",
     "output_type": "stream",
     "text": [
      "video 1/1 (182/302) D:\\815_CowDataChecking\\Honkawa\\2023-07-31\\03\\output_1fps\\20230731-030500-031000_10fps_1fps.mp4: 384x640 6 cows, 28.0ms\n",
      "WARNING  'Masks.masks' is deprecated. Use 'Masks.data' instead.\n"
     ]
    },
    {
     "name": "stdout",
     "output_type": "stream",
     "text": [
      "White Percentage of 14: 4.97%\n",
      "1/1 [==============================] - 0s 42ms/step\n",
      "White Percentage of 12: 27.29%\n",
      "1/1 [==============================] - 0s 40ms/step\n",
      "White Percentage of 13: 3.02%\n",
      "1/1 [==============================] - 0s 40ms/step\n"
     ]
    },
    {
     "name": "stderr",
     "output_type": "stream",
     "text": [
      "video 1/1 (183/302) D:\\815_CowDataChecking\\Honkawa\\2023-07-31\\03\\output_1fps\\20230731-030500-031000_10fps_1fps.mp4: 384x640 6 cows, 9.0ms\n",
      "WARNING  'Masks.masks' is deprecated. Use 'Masks.data' instead.\n"
     ]
    },
    {
     "name": "stdout",
     "output_type": "stream",
     "text": [
      "White Percentage of 14: 4.93%\n",
      "1/1 [==============================] - 0s 41ms/step\n",
      "White Percentage of 12: 27.07%\n",
      "1/1 [==============================] - 0s 41ms/step\n",
      "White Percentage of 13: 3.04%\n",
      "1/1 [==============================] - 0s 41ms/step\n",
      "White Percentage of 14: 3.82%\n",
      "1/1 [==============================] - 0s 44ms/step\n"
     ]
    },
    {
     "name": "stderr",
     "output_type": "stream",
     "text": [
      "video 1/1 (184/302) D:\\815_CowDataChecking\\Honkawa\\2023-07-31\\03\\output_1fps\\20230731-030500-031000_10fps_1fps.mp4: 384x640 6 cows, 17.0ms\n",
      "WARNING  'Masks.masks' is deprecated. Use 'Masks.data' instead.\n"
     ]
    },
    {
     "name": "stdout",
     "output_type": "stream",
     "text": [
      "White Percentage of 15: 8.68%\n",
      "[['ID', 'COLOR', 'RANK1', 'RANK1_prob', 'RANK2', 'RANK2_prob', 'RANK3', 'RANK3_prob', 'RANK4', 'RANK4_prob', 'RANK5', 'RANK5_prob']]\n",
      "new cattle  xxxxxxxxxxxxxxxxxxxxx new cattle alert \n",
      "1/1 [==============================] - 0s 42ms/step\n",
      "White Percentage of 12: 25.78%\n",
      "1/1 [==============================] - 0s 42ms/step\n",
      "White Percentage of 13: 2.69%\n",
      "1/1 [==============================] - 0s 43ms/step\n",
      "White Percentage of 14: 3.11%\n",
      "1/1 [==============================] - 0s 52ms/step\n"
     ]
    },
    {
     "name": "stderr",
     "output_type": "stream",
     "text": [
      "video 1/1 (185/302) D:\\815_CowDataChecking\\Honkawa\\2023-07-31\\03\\output_1fps\\20230731-030500-031000_10fps_1fps.mp4: 384x640 6 cows, 16.0ms\n",
      "WARNING  'Masks.masks' is deprecated. Use 'Masks.data' instead.\n"
     ]
    },
    {
     "name": "stdout",
     "output_type": "stream",
     "text": [
      "White Percentage of 15: 9.00%\n",
      "1/1 [==============================] - 0s 43ms/step\n",
      "White Percentage of 12: 28.51%\n",
      "1/1 [==============================] - 0s 43ms/step\n",
      "White Percentage of 13: 2.56%\n",
      "1/1 [==============================] - 0s 41ms/step\n",
      "White Percentage of 14: 5.18%\n",
      "1/1 [==============================] - 0s 42ms/step\n"
     ]
    },
    {
     "name": "stderr",
     "output_type": "stream",
     "text": [
      "video 1/1 (186/302) D:\\815_CowDataChecking\\Honkawa\\2023-07-31\\03\\output_1fps\\20230731-030500-031000_10fps_1fps.mp4: 384x640 6 cows, 17.5ms\n",
      "WARNING  'Masks.masks' is deprecated. Use 'Masks.data' instead.\n"
     ]
    },
    {
     "name": "stdout",
     "output_type": "stream",
     "text": [
      "White Percentage of 15: 9.50%\n",
      "1/1 [==============================] - 0s 42ms/step\n",
      "White Percentage of 12: 27.09%\n",
      "1/1 [==============================] - 0s 46ms/step\n",
      "White Percentage of 13: 2.25%\n",
      "1/1 [==============================] - 0s 42ms/step\n",
      "White Percentage of 14: 5.34%\n",
      "1/1 [==============================] - 0s 44ms/step\n"
     ]
    },
    {
     "name": "stderr",
     "output_type": "stream",
     "text": [
      "video 1/1 (187/302) D:\\815_CowDataChecking\\Honkawa\\2023-07-31\\03\\output_1fps\\20230731-030500-031000_10fps_1fps.mp4: 384x640 6 cows, 25.0ms\n",
      "WARNING  'Masks.masks' is deprecated. Use 'Masks.data' instead.\n"
     ]
    },
    {
     "name": "stdout",
     "output_type": "stream",
     "text": [
      "White Percentage of 15: 9.01%\n",
      "1/1 [==============================] - 0s 42ms/step\n",
      "White Percentage of 12: 26.06%\n",
      "1/1 [==============================] - 0s 44ms/step\n",
      "White Percentage of 13: 2.13%\n",
      "1/1 [==============================] - 0s 46ms/step\n",
      "White Percentage of 14: 5.14%\n",
      "1/1 [==============================] - 0s 44ms/step\n"
     ]
    },
    {
     "name": "stderr",
     "output_type": "stream",
     "text": [
      "video 1/1 (188/302) D:\\815_CowDataChecking\\Honkawa\\2023-07-31\\03\\output_1fps\\20230731-030500-031000_10fps_1fps.mp4: 384x640 6 cows, 27.5ms\n",
      "WARNING  'Masks.masks' is deprecated. Use 'Masks.data' instead.\n"
     ]
    },
    {
     "name": "stdout",
     "output_type": "stream",
     "text": [
      "White Percentage of 15: 10.39%\n",
      "1/1 [==============================] - 0s 42ms/step\n",
      "White Percentage of 13: 1.94%\n",
      "1/1 [==============================] - 0s 44ms/step\n",
      "White Percentage of 14: 3.80%\n",
      "1/1 [==============================] - 0s 41ms/step\n"
     ]
    },
    {
     "name": "stderr",
     "output_type": "stream",
     "text": [
      "video 1/1 (189/302) D:\\815_CowDataChecking\\Honkawa\\2023-07-31\\03\\output_1fps\\20230731-030500-031000_10fps_1fps.mp4: 384x640 6 cows, 11.0ms\n",
      "WARNING  'Masks.masks' is deprecated. Use 'Masks.data' instead.\n"
     ]
    },
    {
     "name": "stdout",
     "output_type": "stream",
     "text": [
      "White Percentage of 15: 10.66%\n",
      "1/1 [==============================] - 0s 42ms/step\n",
      "White Percentage of 13: 2.64%\n",
      "1/1 [==============================] - 0s 42ms/step\n",
      "White Percentage of 14: 3.61%\n",
      "1/1 [==============================] - 0s 43ms/step\n"
     ]
    },
    {
     "name": "stderr",
     "output_type": "stream",
     "text": [
      "video 1/1 (190/302) D:\\815_CowDataChecking\\Honkawa\\2023-07-31\\03\\output_1fps\\20230731-030500-031000_10fps_1fps.mp4: 384x640 6 cows, 14.0ms\n",
      "WARNING  'Masks.masks' is deprecated. Use 'Masks.data' instead.\n"
     ]
    },
    {
     "name": "stdout",
     "output_type": "stream",
     "text": [
      "White Percentage of 15: 10.73%\n",
      "1/1 [==============================] - 0s 42ms/step\n",
      "White Percentage of 13: 2.50%\n",
      "1/1 [==============================] - 0s 49ms/step\n",
      "White Percentage of 14: 4.34%\n",
      "1/1 [==============================] - 0s 43ms/step\n"
     ]
    },
    {
     "name": "stderr",
     "output_type": "stream",
     "text": [
      "video 1/1 (191/302) D:\\815_CowDataChecking\\Honkawa\\2023-07-31\\03\\output_1fps\\20230731-030500-031000_10fps_1fps.mp4: 384x640 6 cows, 23.0ms\n",
      "WARNING  'Masks.masks' is deprecated. Use 'Masks.data' instead.\n"
     ]
    },
    {
     "name": "stdout",
     "output_type": "stream",
     "text": [
      "White Percentage of 15: 11.30%\n",
      "1/1 [==============================] - 0s 40ms/step\n",
      "White Percentage of 13: 2.75%\n",
      "1/1 [==============================] - 0s 45ms/step\n",
      "White Percentage of 14: 6.24%\n",
      "1/1 [==============================] - 0s 43ms/step\n"
     ]
    },
    {
     "name": "stderr",
     "output_type": "stream",
     "text": [
      "video 1/1 (192/302) D:\\815_CowDataChecking\\Honkawa\\2023-07-31\\03\\output_1fps\\20230731-030500-031000_10fps_1fps.mp4: 384x640 6 cows, 12.0ms\n",
      "WARNING  'Masks.masks' is deprecated. Use 'Masks.data' instead.\n"
     ]
    },
    {
     "name": "stdout",
     "output_type": "stream",
     "text": [
      "White Percentage of 15: 10.65%\n",
      "1/1 [==============================] - 0s 42ms/step\n",
      "White Percentage of 13: 2.59%\n",
      "1/1 [==============================] - 0s 49ms/step\n",
      "White Percentage of 14: 4.36%\n",
      "1/1 [==============================] - 0s 43ms/step\n"
     ]
    },
    {
     "name": "stderr",
     "output_type": "stream",
     "text": [
      "video 1/1 (193/302) D:\\815_CowDataChecking\\Honkawa\\2023-07-31\\03\\output_1fps\\20230731-030500-031000_10fps_1fps.mp4: 384x640 6 cows, 27.0ms\n",
      "WARNING  'Masks.masks' is deprecated. Use 'Masks.data' instead.\n"
     ]
    },
    {
     "name": "stdout",
     "output_type": "stream",
     "text": [
      "White Percentage of 15: 11.31%\n",
      "1/1 [==============================] - 0s 44ms/step\n",
      "White Percentage of 13: 2.60%\n",
      "1/1 [==============================] - 0s 42ms/step\n",
      "White Percentage of 14: 4.09%\n",
      "1/1 [==============================] - 0s 42ms/step\n"
     ]
    },
    {
     "name": "stderr",
     "output_type": "stream",
     "text": [
      "video 1/1 (194/302) D:\\815_CowDataChecking\\Honkawa\\2023-07-31\\03\\output_1fps\\20230731-030500-031000_10fps_1fps.mp4: 384x640 6 cows, 35.0ms\n",
      "WARNING  'Masks.masks' is deprecated. Use 'Masks.data' instead.\n"
     ]
    },
    {
     "name": "stdout",
     "output_type": "stream",
     "text": [
      "White Percentage of 15: 11.14%\n",
      "1/1 [==============================] - 0s 42ms/step\n",
      "White Percentage of 13: 2.92%\n",
      "1/1 [==============================] - 0s 46ms/step\n",
      "White Percentage of 14: 2.94%\n",
      "1/1 [==============================] - 0s 40ms/step\n"
     ]
    },
    {
     "name": "stderr",
     "output_type": "stream",
     "text": [
      "video 1/1 (195/302) D:\\815_CowDataChecking\\Honkawa\\2023-07-31\\03\\output_1fps\\20230731-030500-031000_10fps_1fps.mp4: 384x640 6 cows, 14.5ms\n",
      "WARNING  'Masks.masks' is deprecated. Use 'Masks.data' instead.\n"
     ]
    },
    {
     "name": "stdout",
     "output_type": "stream",
     "text": [
      "White Percentage of 15: 11.58%\n",
      "1/1 [==============================] - 0s 41ms/step\n",
      "White Percentage of 13: 2.71%\n",
      "1/1 [==============================] - 0s 39ms/step\n",
      "White Percentage of 14: 2.71%\n",
      "1/1 [==============================] - 0s 49ms/step\n",
      "White Percentage of 15: 12.20%\n",
      "1/1 [==============================] - 0s 43ms/step\n"
     ]
    },
    {
     "name": "stderr",
     "output_type": "stream",
     "text": [
      "video 1/1 (196/302) D:\\815_CowDataChecking\\Honkawa\\2023-07-31\\03\\output_1fps\\20230731-030500-031000_10fps_1fps.mp4: 384x640 6 cows, 15.0ms\n",
      "WARNING  'Masks.masks' is deprecated. Use 'Masks.data' instead.\n"
     ]
    },
    {
     "name": "stdout",
     "output_type": "stream",
     "text": [
      "White Percentage of 16: 30.21%\n",
      "[['ID', 'COLOR', 'RANK1', 'RANK1_prob', 'RANK2', 'RANK2_prob', 'RANK3', 'RANK3_prob', 'RANK4', 'RANK4_prob', 'RANK5', 'RANK5_prob']]\n",
      "new cattle  xxxxxxxxxxxxxxxxxxxxx new cattle alert \n",
      "1/1 [==============================] - 0s 42ms/step\n",
      "White Percentage of 13: 2.93%\n",
      "1/1 [==============================] - 0s 42ms/step\n",
      "White Percentage of 14: 2.52%\n",
      "1/1 [==============================] - 0s 46ms/step\n",
      "White Percentage of 15: 12.53%\n",
      "1/1 [==============================] - 0s 43ms/step\n"
     ]
    },
    {
     "name": "stderr",
     "output_type": "stream",
     "text": [
      "video 1/1 (197/302) D:\\815_CowDataChecking\\Honkawa\\2023-07-31\\03\\output_1fps\\20230731-030500-031000_10fps_1fps.mp4: 384x640 6 cows, 15.0ms\n",
      "WARNING  'Masks.masks' is deprecated. Use 'Masks.data' instead.\n"
     ]
    },
    {
     "name": "stdout",
     "output_type": "stream",
     "text": [
      "White Percentage of 16: 29.92%\n",
      "1/1 [==============================] - 0s 42ms/step\n",
      "White Percentage of 13: 3.54%\n",
      "1/1 [==============================] - 0s 43ms/step\n",
      "White Percentage of 14: 2.34%\n",
      "1/1 [==============================] - 0s 43ms/step\n",
      "White Percentage of 15: 13.13%\n",
      "1/1 [==============================] - 0s 47ms/step\n"
     ]
    },
    {
     "name": "stderr",
     "output_type": "stream",
     "text": [
      "video 1/1 (198/302) D:\\815_CowDataChecking\\Honkawa\\2023-07-31\\03\\output_1fps\\20230731-030500-031000_10fps_1fps.mp4: 384x640 6 cows, 22.0ms\n",
      "WARNING  'Masks.masks' is deprecated. Use 'Masks.data' instead.\n"
     ]
    },
    {
     "name": "stdout",
     "output_type": "stream",
     "text": [
      "White Percentage of 16: 30.71%\n",
      "1/1 [==============================] - 0s 44ms/step\n",
      "White Percentage of 14: 2.38%\n",
      "1/1 [==============================] - 0s 43ms/step\n",
      "White Percentage of 15: 13.51%\n",
      "1/1 [==============================] - 0s 44ms/step\n"
     ]
    },
    {
     "name": "stderr",
     "output_type": "stream",
     "text": [
      "video 1/1 (199/302) D:\\815_CowDataChecking\\Honkawa\\2023-07-31\\03\\output_1fps\\20230731-030500-031000_10fps_1fps.mp4: 384x640 6 cows, 25.0ms\n",
      "WARNING  'Masks.masks' is deprecated. Use 'Masks.data' instead.\n"
     ]
    },
    {
     "name": "stdout",
     "output_type": "stream",
     "text": [
      "White Percentage of 16: 30.93%\n",
      "1/1 [==============================] - 0s 44ms/step\n",
      "White Percentage of 14: 2.10%\n",
      "1/1 [==============================] - 0s 41ms/step\n",
      "White Percentage of 15: 13.70%\n",
      "1/1 [==============================] - 0s 46ms/step\n"
     ]
    },
    {
     "name": "stderr",
     "output_type": "stream",
     "text": [
      "video 1/1 (200/302) D:\\815_CowDataChecking\\Honkawa\\2023-07-31\\03\\output_1fps\\20230731-030500-031000_10fps_1fps.mp4: 384x640 6 cows, 23.5ms\n",
      "WARNING  'Masks.masks' is deprecated. Use 'Masks.data' instead.\n"
     ]
    },
    {
     "name": "stdout",
     "output_type": "stream",
     "text": [
      "White Percentage of 16: 32.10%\n",
      "1/1 [==============================] - 0s 43ms/step\n",
      "White Percentage of 14: 1.94%\n",
      "1/1 [==============================] - 0s 49ms/step\n",
      "White Percentage of 15: 14.76%\n",
      "1/1 [==============================] - 0s 51ms/step\n"
     ]
    },
    {
     "name": "stderr",
     "output_type": "stream",
     "text": [
      "video 1/1 (201/302) D:\\815_CowDataChecking\\Honkawa\\2023-07-31\\03\\output_1fps\\20230731-030500-031000_10fps_1fps.mp4: 384x640 6 cows, 32.0ms\n",
      "WARNING  'Masks.masks' is deprecated. Use 'Masks.data' instead.\n"
     ]
    },
    {
     "name": "stdout",
     "output_type": "stream",
     "text": [
      "White Percentage of 16: 31.43%\n",
      "1/1 [==============================] - 0s 46ms/step\n",
      "White Percentage of 14: 1.87%\n",
      "1/1 [==============================] - 0s 44ms/step\n",
      "White Percentage of 15: 12.26%\n",
      "1/1 [==============================] - 0s 51ms/step\n"
     ]
    },
    {
     "name": "stderr",
     "output_type": "stream",
     "text": [
      "video 1/1 (202/302) D:\\815_CowDataChecking\\Honkawa\\2023-07-31\\03\\output_1fps\\20230731-030500-031000_10fps_1fps.mp4: 384x640 6 cows, 11.5ms\n",
      "WARNING  'Masks.masks' is deprecated. Use 'Masks.data' instead.\n"
     ]
    },
    {
     "name": "stdout",
     "output_type": "stream",
     "text": [
      "White Percentage of 16: 34.92%\n",
      "1/1 [==============================] - 0s 43ms/step\n",
      "White Percentage of 14: 1.75%\n",
      "1/1 [==============================] - 0s 43ms/step\n",
      "White Percentage of 15: 9.91%\n",
      "1/1 [==============================] - 0s 48ms/step\n"
     ]
    },
    {
     "name": "stderr",
     "output_type": "stream",
     "text": [
      "video 1/1 (203/302) D:\\815_CowDataChecking\\Honkawa\\2023-07-31\\03\\output_1fps\\20230731-030500-031000_10fps_1fps.mp4: 384x640 6 cows, 16.5ms\n",
      "WARNING  'Masks.masks' is deprecated. Use 'Masks.data' instead.\n"
     ]
    },
    {
     "name": "stdout",
     "output_type": "stream",
     "text": [
      "White Percentage of 16: 34.19%\n",
      "1/1 [==============================] - 0s 44ms/step\n",
      "White Percentage of 14: 1.68%\n",
      "1/1 [==============================] - 0s 44ms/step\n",
      "White Percentage of 15: 13.11%\n",
      "1/1 [==============================] - 0s 44ms/step\n"
     ]
    },
    {
     "name": "stderr",
     "output_type": "stream",
     "text": [
      "video 1/1 (204/302) D:\\815_CowDataChecking\\Honkawa\\2023-07-31\\03\\output_1fps\\20230731-030500-031000_10fps_1fps.mp4: 384x640 6 cows, 14.5ms\n",
      "WARNING  'Masks.masks' is deprecated. Use 'Masks.data' instead.\n"
     ]
    },
    {
     "name": "stdout",
     "output_type": "stream",
     "text": [
      "White Percentage of 16: 33.57%\n",
      "1/1 [==============================] - 0s 43ms/step\n",
      "White Percentage of 14: 1.62%\n",
      "1/1 [==============================] - 0s 47ms/step\n",
      "White Percentage of 15: 13.42%\n",
      "1/1 [==============================] - 0s 43ms/step\n"
     ]
    },
    {
     "name": "stderr",
     "output_type": "stream",
     "text": [
      "video 1/1 (205/302) D:\\815_CowDataChecking\\Honkawa\\2023-07-31\\03\\output_1fps\\20230731-030500-031000_10fps_1fps.mp4: 384x640 6 cows, 23.0ms\n",
      "WARNING  'Masks.masks' is deprecated. Use 'Masks.data' instead.\n"
     ]
    },
    {
     "name": "stdout",
     "output_type": "stream",
     "text": [
      "White Percentage of 16: 34.31%\n",
      "1/1 [==============================] - 0s 46ms/step\n",
      "White Percentage of 14: 1.38%\n",
      "1/1 [==============================] - 0s 44ms/step\n",
      "White Percentage of 15: 12.84%\n",
      "1/1 [==============================] - 0s 48ms/step\n",
      "White Percentage of 16: 35.24%\n",
      "1/1 [==============================] - 0s 46ms/step\n"
     ]
    },
    {
     "name": "stderr",
     "output_type": "stream",
     "text": [
      "video 1/1 (206/302) D:\\815_CowDataChecking\\Honkawa\\2023-07-31\\03\\output_1fps\\20230731-030500-031000_10fps_1fps.mp4: 384x640 6 cows, 21.5ms\n",
      "WARNING  'Masks.masks' is deprecated. Use 'Masks.data' instead.\n"
     ]
    },
    {
     "name": "stdout",
     "output_type": "stream",
     "text": [
      "White Percentage of 17: 0.00%\n",
      "[['ID', 'COLOR', 'RANK1', 'RANK1_prob', 'RANK2', 'RANK2_prob', 'RANK3', 'RANK3_prob', 'RANK4', 'RANK4_prob', 'RANK5', 'RANK5_prob']]\n",
      "new cattle  xxxxxxxxxxxxxxxxxxxxx new cattle alert \n",
      "1/1 [==============================] - 0s 47ms/step\n",
      "White Percentage of 14: 1.51%\n",
      "1/1 [==============================] - 0s 46ms/step\n",
      "White Percentage of 15: 13.17%\n",
      "1/1 [==============================] - 0s 44ms/step\n",
      "White Percentage of 16: 36.10%\n",
      "1/1 [==============================] - 0s 44ms/step\n"
     ]
    },
    {
     "name": "stderr",
     "output_type": "stream",
     "text": [
      "video 1/1 (207/302) D:\\815_CowDataChecking\\Honkawa\\2023-07-31\\03\\output_1fps\\20230731-030500-031000_10fps_1fps.mp4: 384x640 6 cows, 24.0ms\n",
      "WARNING  'Masks.masks' is deprecated. Use 'Masks.data' instead.\n"
     ]
    },
    {
     "name": "stdout",
     "output_type": "stream",
     "text": [
      "White Percentage of 17: 0.00%\n",
      "1/1 [==============================] - 0s 44ms/step\n",
      "White Percentage of 14: 2.16%\n",
      "1/1 [==============================] - 0s 50ms/step\n",
      "White Percentage of 15: 13.24%\n",
      "1/1 [==============================] - 0s 47ms/step\n",
      "White Percentage of 16: 35.06%\n",
      "1/1 [==============================] - 0s 45ms/step\n"
     ]
    },
    {
     "name": "stderr",
     "output_type": "stream",
     "text": [
      "video 1/1 (208/302) D:\\815_CowDataChecking\\Honkawa\\2023-07-31\\03\\output_1fps\\20230731-030500-031000_10fps_1fps.mp4: 384x640 6 cows, 14.0ms\n",
      "WARNING  'Masks.masks' is deprecated. Use 'Masks.data' instead.\n"
     ]
    },
    {
     "name": "stdout",
     "output_type": "stream",
     "text": [
      "White Percentage of 17: 0.00%\n",
      "1/1 [==============================] - 0s 49ms/step\n",
      "White Percentage of 14: 2.57%\n",
      "1/1 [==============================] - 0s 46ms/step\n",
      "White Percentage of 15: 13.55%\n",
      "1/1 [==============================] - 0s 46ms/step\n",
      "White Percentage of 16: 34.73%\n",
      "1/1 [==============================] - 0s 45ms/step\n"
     ]
    },
    {
     "name": "stderr",
     "output_type": "stream",
     "text": [
      "video 1/1 (209/302) D:\\815_CowDataChecking\\Honkawa\\2023-07-31\\03\\output_1fps\\20230731-030500-031000_10fps_1fps.mp4: 384x640 6 cows, 23.0ms\n",
      "WARNING  'Masks.masks' is deprecated. Use 'Masks.data' instead.\n"
     ]
    },
    {
     "name": "stdout",
     "output_type": "stream",
     "text": [
      "White Percentage of 17: 5.12%\n",
      "1/1 [==============================] - 0s 46ms/step\n",
      "White Percentage of 15: 13.57%\n",
      "1/1 [==============================] - 0s 47ms/step\n",
      "White Percentage of 16: 34.18%\n",
      "1/1 [==============================] - 0s 48ms/step\n"
     ]
    },
    {
     "name": "stderr",
     "output_type": "stream",
     "text": [
      "video 1/1 (210/302) D:\\815_CowDataChecking\\Honkawa\\2023-07-31\\03\\output_1fps\\20230731-030500-031000_10fps_1fps.mp4: 384x640 6 cows, 35.0ms\n",
      "WARNING  'Masks.masks' is deprecated. Use 'Masks.data' instead.\n"
     ]
    },
    {
     "name": "stdout",
     "output_type": "stream",
     "text": [
      "White Percentage of 17: 0.00%\n",
      "1/1 [==============================] - 0s 43ms/step\n",
      "White Percentage of 15: 13.51%\n",
      "1/1 [==============================] - 0s 50ms/step\n",
      "White Percentage of 16: 34.62%\n",
      "1/1 [==============================] - 0s 52ms/step\n"
     ]
    },
    {
     "name": "stderr",
     "output_type": "stream",
     "text": [
      "video 1/1 (211/302) D:\\815_CowDataChecking\\Honkawa\\2023-07-31\\03\\output_1fps\\20230731-030500-031000_10fps_1fps.mp4: 384x640 6 cows, 14.0ms\n",
      "WARNING  'Masks.masks' is deprecated. Use 'Masks.data' instead.\n"
     ]
    },
    {
     "name": "stdout",
     "output_type": "stream",
     "text": [
      "White Percentage of 17: 0.00%\n",
      "1/1 [==============================] - 0s 47ms/step\n",
      "White Percentage of 15: 13.07%\n",
      "1/1 [==============================] - 0s 46ms/step\n",
      "White Percentage of 16: 20.38%\n",
      "1/1 [==============================] - 0s 46ms/step\n"
     ]
    },
    {
     "name": "stderr",
     "output_type": "stream",
     "text": [
      "video 1/1 (212/302) D:\\815_CowDataChecking\\Honkawa\\2023-07-31\\03\\output_1fps\\20230731-030500-031000_10fps_1fps.mp4: 384x640 6 cows, 26.0ms\n",
      "WARNING  'Masks.masks' is deprecated. Use 'Masks.data' instead.\n"
     ]
    },
    {
     "name": "stdout",
     "output_type": "stream",
     "text": [
      "White Percentage of 17: 0.00%\n",
      "1/1 [==============================] - 0s 45ms/step\n",
      "White Percentage of 15: 13.21%\n",
      "1/1 [==============================] - 0s 51ms/step\n",
      "White Percentage of 16: 29.45%\n",
      "1/1 [==============================] - 0s 45ms/step\n"
     ]
    },
    {
     "name": "stderr",
     "output_type": "stream",
     "text": [
      "video 1/1 (213/302) D:\\815_CowDataChecking\\Honkawa\\2023-07-31\\03\\output_1fps\\20230731-030500-031000_10fps_1fps.mp4: 384x640 5 cows, 64.5ms\n",
      "WARNING  'Masks.masks' is deprecated. Use 'Masks.data' instead.\n"
     ]
    },
    {
     "name": "stdout",
     "output_type": "stream",
     "text": [
      "White Percentage of 17: 0.00%\n",
      "1/1 [==============================] - 0s 48ms/step\n",
      "White Percentage of 15: 12.89%\n",
      "1/1 [==============================] - 0s 47ms/step\n",
      "White Percentage of 16: 30.70%\n",
      "1/1 [==============================] - 0s 45ms/step\n"
     ]
    },
    {
     "name": "stderr",
     "output_type": "stream",
     "text": [
      "video 1/1 (214/302) D:\\815_CowDataChecking\\Honkawa\\2023-07-31\\03\\output_1fps\\20230731-030500-031000_10fps_1fps.mp4: 384x640 6 cows, 29.4ms\n",
      "WARNING  'Masks.masks' is deprecated. Use 'Masks.data' instead.\n"
     ]
    },
    {
     "name": "stdout",
     "output_type": "stream",
     "text": [
      "White Percentage of 17: 0.00%\n",
      "1/1 [==============================] - 0s 46ms/step\n",
      "White Percentage of 15: 12.79%\n",
      "1/1 [==============================] - 0s 47ms/step\n",
      "White Percentage of 16: 31.87%\n",
      "1/1 [==============================] - 0s 54ms/step\n"
     ]
    },
    {
     "name": "stderr",
     "output_type": "stream",
     "text": [
      "video 1/1 (215/302) D:\\815_CowDataChecking\\Honkawa\\2023-07-31\\03\\output_1fps\\20230731-030500-031000_10fps_1fps.mp4: 384x640 6 cows, 29.5ms\n",
      "WARNING  'Masks.masks' is deprecated. Use 'Masks.data' instead.\n"
     ]
    },
    {
     "name": "stdout",
     "output_type": "stream",
     "text": [
      "White Percentage of 17: 0.00%\n",
      "1/1 [==============================] - 0s 52ms/step\n",
      "White Percentage of 15: 13.63%\n",
      "1/1 [==============================] - 0s 52ms/step\n",
      "White Percentage of 16: 22.21%\n",
      "1/1 [==============================] - 0s 53ms/step\n"
     ]
    },
    {
     "name": "stderr",
     "output_type": "stream",
     "text": [
      "video 1/1 (216/302) D:\\815_CowDataChecking\\Honkawa\\2023-07-31\\03\\output_1fps\\20230731-030500-031000_10fps_1fps.mp4: 384x640 6 cows, 26.0ms\n",
      "WARNING  'Masks.masks' is deprecated. Use 'Masks.data' instead.\n"
     ]
    },
    {
     "name": "stdout",
     "output_type": "stream",
     "text": [
      "White Percentage of 17: 6.42%\n",
      "1/1 [==============================] - 0s 52ms/step\n",
      "White Percentage of 15: 13.66%\n",
      "1/1 [==============================] - 0s 55ms/step\n",
      "White Percentage of 16: 23.79%\n",
      "1/1 [==============================] - 0s 55ms/step\n",
      "White Percentage of 17: 12.02%\n",
      "1/1 [==============================] - 0s 54ms/step\n"
     ]
    },
    {
     "name": "stderr",
     "output_type": "stream",
     "text": [
      "video 1/1 (217/302) D:\\815_CowDataChecking\\Honkawa\\2023-07-31\\03\\output_1fps\\20230731-030500-031000_10fps_1fps.mp4: 384x640 6 cows, 29.5ms\n",
      "WARNING  'Masks.masks' is deprecated. Use 'Masks.data' instead.\n"
     ]
    },
    {
     "name": "stdout",
     "output_type": "stream",
     "text": [
      "White Percentage of 18: 31.00%\n",
      "[['ID', 'COLOR', 'RANK1', 'RANK1_prob', 'RANK2', 'RANK2_prob', 'RANK3', 'RANK3_prob', 'RANK4', 'RANK4_prob', 'RANK5', 'RANK5_prob']]\n",
      "new cattle  xxxxxxxxxxxxxxxxxxxxx new cattle alert \n",
      "1/1 [==============================] - 0s 55ms/step\n",
      "White Percentage of 15: 13.53%\n",
      "1/1 [==============================] - 0s 56ms/step\n",
      "White Percentage of 16: 27.81%\n",
      "1/1 [==============================] - 0s 52ms/step\n",
      "White Percentage of 17: 0.00%\n",
      "1/1 [==============================] - 0s 54ms/step\n"
     ]
    },
    {
     "name": "stderr",
     "output_type": "stream",
     "text": [
      "video 1/1 (218/302) D:\\815_CowDataChecking\\Honkawa\\2023-07-31\\03\\output_1fps\\20230731-030500-031000_10fps_1fps.mp4: 384x640 6 cows, 38.0ms\n",
      "WARNING  'Masks.masks' is deprecated. Use 'Masks.data' instead.\n"
     ]
    },
    {
     "name": "stdout",
     "output_type": "stream",
     "text": [
      "White Percentage of 18: 29.68%\n",
      "1/1 [==============================] - 0s 53ms/step\n",
      "White Percentage of 15: 8.33%\n",
      "1/1 [==============================] - 0s 55ms/step\n",
      "White Percentage of 16: 27.98%\n",
      "1/1 [==============================] - 0s 55ms/step\n",
      "White Percentage of 17: 0.00%\n",
      "1/1 [==============================] - 0s 55ms/step\n"
     ]
    },
    {
     "name": "stderr",
     "output_type": "stream",
     "text": [
      "video 1/1 (219/302) D:\\815_CowDataChecking\\Honkawa\\2023-07-31\\03\\output_1fps\\20230731-030500-031000_10fps_1fps.mp4: 384x640 6 cows, 25.5ms\n",
      "WARNING  'Masks.masks' is deprecated. Use 'Masks.data' instead.\n"
     ]
    },
    {
     "name": "stdout",
     "output_type": "stream",
     "text": [
      "White Percentage of 18: 36.95%\n",
      "1/1 [==============================] - 0s 54ms/step\n",
      "White Percentage of 15: 6.31%\n",
      "1/1 [==============================] - 0s 53ms/step\n",
      "White Percentage of 16: 29.61%\n",
      "1/1 [==============================] - 0s 55ms/step\n",
      "White Percentage of 17: 2.59%\n",
      "1/1 [==============================] - 0s 59ms/step\n"
     ]
    },
    {
     "name": "stderr",
     "output_type": "stream",
     "text": [
      "video 1/1 (220/302) D:\\815_CowDataChecking\\Honkawa\\2023-07-31\\03\\output_1fps\\20230731-030500-031000_10fps_1fps.mp4: 384x640 6 cows, 31.0ms\n",
      "WARNING  'Masks.masks' is deprecated. Use 'Masks.data' instead.\n"
     ]
    },
    {
     "name": "stdout",
     "output_type": "stream",
     "text": [
      "White Percentage of 18: 33.03%\n",
      "1/1 [==============================] - 0s 62ms/step\n",
      "White Percentage of 16: 30.37%\n",
      "1/1 [==============================] - 0s 58ms/step\n",
      "White Percentage of 17: 8.64%\n",
      "1/1 [==============================] - 0s 55ms/step\n"
     ]
    },
    {
     "name": "stderr",
     "output_type": "stream",
     "text": [
      "video 1/1 (221/302) D:\\815_CowDataChecking\\Honkawa\\2023-07-31\\03\\output_1fps\\20230731-030500-031000_10fps_1fps.mp4: 384x640 6 cows, 29.0ms\n",
      "WARNING  'Masks.masks' is deprecated. Use 'Masks.data' instead.\n"
     ]
    },
    {
     "name": "stdout",
     "output_type": "stream",
     "text": [
      "White Percentage of 18: 31.50%\n",
      "1/1 [==============================] - 0s 57ms/step\n",
      "White Percentage of 16: 30.39%\n",
      "1/1 [==============================] - 0s 56ms/step\n",
      "White Percentage of 17: 3.84%\n",
      "1/1 [==============================] - 0s 54ms/step\n"
     ]
    },
    {
     "name": "stderr",
     "output_type": "stream",
     "text": [
      "video 1/1 (222/302) D:\\815_CowDataChecking\\Honkawa\\2023-07-31\\03\\output_1fps\\20230731-030500-031000_10fps_1fps.mp4: 384x640 5 cows, 39.0ms\n",
      "WARNING  'Masks.masks' is deprecated. Use 'Masks.data' instead.\n"
     ]
    },
    {
     "name": "stdout",
     "output_type": "stream",
     "text": [
      "White Percentage of 18: 38.75%\n",
      "1/1 [==============================] - 0s 53ms/step\n",
      "White Percentage of 16: 28.30%\n",
      "1/1 [==============================] - 0s 57ms/step\n",
      "White Percentage of 17: 3.97%\n",
      "1/1 [==============================] - 0s 55ms/step\n"
     ]
    },
    {
     "name": "stderr",
     "output_type": "stream",
     "text": [
      "video 1/1 (223/302) D:\\815_CowDataChecking\\Honkawa\\2023-07-31\\03\\output_1fps\\20230731-030500-031000_10fps_1fps.mp4: 384x640 6 cows, 27.0ms\n",
      "WARNING  'Masks.masks' is deprecated. Use 'Masks.data' instead.\n"
     ]
    },
    {
     "name": "stdout",
     "output_type": "stream",
     "text": [
      "White Percentage of 18: 37.46%\n",
      "1/1 [==============================] - 0s 58ms/step\n",
      "White Percentage of 16: 29.51%\n",
      "1/1 [==============================] - 0s 58ms/step\n",
      "White Percentage of 17: 3.14%\n",
      "1/1 [==============================] - 0s 55ms/step\n"
     ]
    },
    {
     "name": "stderr",
     "output_type": "stream",
     "text": [
      "video 1/1 (224/302) D:\\815_CowDataChecking\\Honkawa\\2023-07-31\\03\\output_1fps\\20230731-030500-031000_10fps_1fps.mp4: 384x640 6 cows, 25.0ms\n",
      "WARNING  'Masks.masks' is deprecated. Use 'Masks.data' instead.\n"
     ]
    },
    {
     "name": "stdout",
     "output_type": "stream",
     "text": [
      "White Percentage of 18: 37.45%\n",
      "1/1 [==============================] - 0s 54ms/step\n",
      "White Percentage of 16: 28.17%\n",
      "1/1 [==============================] - 0s 58ms/step\n",
      "White Percentage of 17: 0.00%\n",
      "1/1 [==============================] - 0s 57ms/step\n"
     ]
    },
    {
     "name": "stderr",
     "output_type": "stream",
     "text": [
      "video 1/1 (225/302) D:\\815_CowDataChecking\\Honkawa\\2023-07-31\\03\\output_1fps\\20230731-030500-031000_10fps_1fps.mp4: 384x640 6 cows, 32.9ms\n",
      "WARNING  'Masks.masks' is deprecated. Use 'Masks.data' instead.\n"
     ]
    },
    {
     "name": "stdout",
     "output_type": "stream",
     "text": [
      "White Percentage of 18: 33.60%\n",
      "1/1 [==============================] - 0s 57ms/step\n",
      "White Percentage of 16: 28.23%\n",
      "1/1 [==============================] - 0s 58ms/step\n",
      "White Percentage of 17: 0.00%\n",
      "1/1 [==============================] - 0s 58ms/step\n"
     ]
    },
    {
     "name": "stderr",
     "output_type": "stream",
     "text": [
      "video 1/1 (226/302) D:\\815_CowDataChecking\\Honkawa\\2023-07-31\\03\\output_1fps\\20230731-030500-031000_10fps_1fps.mp4: 384x640 6 cows, 30.5ms\n",
      "WARNING  'Masks.masks' is deprecated. Use 'Masks.data' instead.\n"
     ]
    },
    {
     "name": "stdout",
     "output_type": "stream",
     "text": [
      "White Percentage of 18: 29.83%\n",
      "1/1 [==============================] - 0s 59ms/step\n",
      "White Percentage of 16: 18.56%\n",
      "1/1 [==============================] - 0s 56ms/step\n",
      "White Percentage of 17: 0.00%\n",
      "1/1 [==============================] - 0s 57ms/step\n"
     ]
    },
    {
     "name": "stderr",
     "output_type": "stream",
     "text": [
      "video 1/1 (227/302) D:\\815_CowDataChecking\\Honkawa\\2023-07-31\\03\\output_1fps\\20230731-030500-031000_10fps_1fps.mp4: 384x640 6 cows, 22.0ms\n",
      "WARNING  'Masks.masks' is deprecated. Use 'Masks.data' instead.\n"
     ]
    },
    {
     "name": "stdout",
     "output_type": "stream",
     "text": [
      "White Percentage of 18: 30.47%\n",
      "1/1 [==============================] - 0s 58ms/step\n",
      "White Percentage of 16: 14.07%\n",
      "1/1 [==============================] - 0s 59ms/step\n",
      "White Percentage of 17: 1.06%\n",
      "1/1 [==============================] - 0s 57ms/step\n",
      "White Percentage of 18: 30.26%\n",
      "1/1 [==============================] - 0s 57ms/step\n"
     ]
    },
    {
     "name": "stderr",
     "output_type": "stream",
     "text": [
      "video 1/1 (228/302) D:\\815_CowDataChecking\\Honkawa\\2023-07-31\\03\\output_1fps\\20230731-030500-031000_10fps_1fps.mp4: 384x640 6 cows, 10.5ms\n",
      "WARNING  'Masks.masks' is deprecated. Use 'Masks.data' instead.\n"
     ]
    },
    {
     "name": "stdout",
     "output_type": "stream",
     "text": [
      "White Percentage of 19: 23.31%\n",
      "[['ID', 'COLOR', 'RANK1', 'RANK1_prob', 'RANK2', 'RANK2_prob', 'RANK3', 'RANK3_prob', 'RANK4', 'RANK4_prob', 'RANK5', 'RANK5_prob']]\n",
      "new cattle  xxxxxxxxxxxxxxxxxxxxx new cattle alert \n",
      "1/1 [==============================] - 0s 62ms/step\n",
      "White Percentage of 16: 25.16%\n",
      "1/1 [==============================] - 0s 57ms/step\n",
      "White Percentage of 17: 4.79%\n",
      "1/1 [==============================] - 0s 56ms/step\n",
      "White Percentage of 18: 45.41%\n",
      "1/1 [==============================] - 0s 56ms/step\n"
     ]
    },
    {
     "name": "stderr",
     "output_type": "stream",
     "text": [
      "video 1/1 (229/302) D:\\815_CowDataChecking\\Honkawa\\2023-07-31\\03\\output_1fps\\20230731-030500-031000_10fps_1fps.mp4: 384x640 6 cows, 22.0ms\n",
      "WARNING  'Masks.masks' is deprecated. Use 'Masks.data' instead.\n"
     ]
    },
    {
     "name": "stdout",
     "output_type": "stream",
     "text": [
      "White Percentage of 19: 23.97%\n",
      "1/1 [==============================] - 0s 62ms/step\n",
      "White Percentage of 16: 25.27%\n",
      "1/1 [==============================] - 0s 57ms/step\n",
      "White Percentage of 17: 0.00%\n",
      "1/1 [==============================] - 0s 57ms/step\n",
      "White Percentage of 18: 40.87%\n",
      "1/1 [==============================] - 0s 58ms/step\n"
     ]
    },
    {
     "name": "stderr",
     "output_type": "stream",
     "text": [
      "video 1/1 (230/302) D:\\815_CowDataChecking\\Honkawa\\2023-07-31\\03\\output_1fps\\20230731-030500-031000_10fps_1fps.mp4: 384x640 6 cows, 23.0ms\n",
      "WARNING  'Masks.masks' is deprecated. Use 'Masks.data' instead.\n"
     ]
    },
    {
     "name": "stdout",
     "output_type": "stream",
     "text": [
      "White Percentage of 19: 24.12%\n",
      "1/1 [==============================] - 0s 60ms/step\n",
      "White Percentage of 17: 0.00%\n",
      "1/1 [==============================] - 0s 66ms/step\n",
      "White Percentage of 18: 39.00%\n",
      "1/1 [==============================] - 0s 58ms/step\n"
     ]
    },
    {
     "name": "stderr",
     "output_type": "stream",
     "text": [
      "video 1/1 (231/302) D:\\815_CowDataChecking\\Honkawa\\2023-07-31\\03\\output_1fps\\20230731-030500-031000_10fps_1fps.mp4: 384x640 6 cows, 20.0ms\n",
      "WARNING  'Masks.masks' is deprecated. Use 'Masks.data' instead.\n"
     ]
    },
    {
     "name": "stdout",
     "output_type": "stream",
     "text": [
      "White Percentage of 19: 24.29%\n",
      "1/1 [==============================] - 0s 63ms/step\n",
      "White Percentage of 17: 0.00%\n",
      "1/1 [==============================] - 0s 59ms/step\n",
      "White Percentage of 18: 31.42%\n",
      "1/1 [==============================] - 0s 59ms/step\n"
     ]
    },
    {
     "name": "stderr",
     "output_type": "stream",
     "text": [
      "video 1/1 (232/302) D:\\815_CowDataChecking\\Honkawa\\2023-07-31\\03\\output_1fps\\20230731-030500-031000_10fps_1fps.mp4: 384x640 7 cows, 55.5ms\n",
      "WARNING  'Masks.masks' is deprecated. Use 'Masks.data' instead.\n"
     ]
    },
    {
     "name": "stdout",
     "output_type": "stream",
     "text": [
      "White Percentage of 19: 24.76%\n",
      "1/1 [==============================] - 0s 57ms/step\n",
      "White Percentage of 17: 0.00%\n",
      "1/1 [==============================] - 0s 57ms/step\n",
      "White Percentage of 18: 30.95%\n",
      "1/1 [==============================] - 0s 66ms/step\n"
     ]
    },
    {
     "name": "stderr",
     "output_type": "stream",
     "text": [
      "video 1/1 (233/302) D:\\815_CowDataChecking\\Honkawa\\2023-07-31\\03\\output_1fps\\20230731-030500-031000_10fps_1fps.mp4: 384x640 7 cows, 24.4ms\n",
      "WARNING  'Masks.masks' is deprecated. Use 'Masks.data' instead.\n"
     ]
    },
    {
     "name": "stdout",
     "output_type": "stream",
     "text": [
      "White Percentage of 19: 25.77%\n",
      "1/1 [==============================] - 0s 65ms/step\n",
      "White Percentage of 17: 0.00%\n",
      "1/1 [==============================] - 0s 59ms/step\n",
      "White Percentage of 18: 26.77%\n",
      "1/1 [==============================] - 0s 61ms/step\n"
     ]
    },
    {
     "name": "stderr",
     "output_type": "stream",
     "text": [
      "video 1/1 (234/302) D:\\815_CowDataChecking\\Honkawa\\2023-07-31\\03\\output_1fps\\20230731-030500-031000_10fps_1fps.mp4: 384x640 6 cows, 35.5ms\n",
      "WARNING  'Masks.masks' is deprecated. Use 'Masks.data' instead.\n"
     ]
    },
    {
     "name": "stdout",
     "output_type": "stream",
     "text": [
      "White Percentage of 19: 25.82%\n",
      "1/1 [==============================] - 0s 60ms/step\n",
      "White Percentage of 17: 0.00%\n",
      "1/1 [==============================] - 0s 60ms/step\n",
      "White Percentage of 18: 32.19%\n",
      "1/1 [==============================] - 0s 58ms/step\n"
     ]
    },
    {
     "name": "stderr",
     "output_type": "stream",
     "text": [
      "video 1/1 (235/302) D:\\815_CowDataChecking\\Honkawa\\2023-07-31\\03\\output_1fps\\20230731-030500-031000_10fps_1fps.mp4: 384x640 6 cows, 23.0ms\n",
      "WARNING  'Masks.masks' is deprecated. Use 'Masks.data' instead.\n"
     ]
    },
    {
     "name": "stdout",
     "output_type": "stream",
     "text": [
      "White Percentage of 19: 26.13%\n",
      "1/1 [==============================] - 0s 59ms/step\n",
      "White Percentage of 17: 0.00%\n",
      "1/1 [==============================] - 0s 59ms/step\n",
      "White Percentage of 18: 39.93%\n",
      "1/1 [==============================] - 0s 57ms/step\n"
     ]
    },
    {
     "name": "stderr",
     "output_type": "stream",
     "text": [
      "video 1/1 (236/302) D:\\815_CowDataChecking\\Honkawa\\2023-07-31\\03\\output_1fps\\20230731-030500-031000_10fps_1fps.mp4: 384x640 6 cows, 36.5ms\n",
      "WARNING  'Masks.masks' is deprecated. Use 'Masks.data' instead.\n"
     ]
    },
    {
     "name": "stdout",
     "output_type": "stream",
     "text": [
      "White Percentage of 19: 24.44%\n",
      "1/1 [==============================] - 0s 59ms/step\n",
      "White Percentage of 17: 0.00%\n",
      "1/1 [==============================] - 0s 59ms/step\n",
      "White Percentage of 18: 26.77%\n",
      "1/1 [==============================] - 0s 60ms/step\n"
     ]
    },
    {
     "name": "stderr",
     "output_type": "stream",
     "text": [
      "video 1/1 (237/302) D:\\815_CowDataChecking\\Honkawa\\2023-07-31\\03\\output_1fps\\20230731-030500-031000_10fps_1fps.mp4: 384x640 6 cows, 42.5ms\n",
      "WARNING  'Masks.masks' is deprecated. Use 'Masks.data' instead.\n"
     ]
    },
    {
     "name": "stdout",
     "output_type": "stream",
     "text": [
      "White Percentage of 19: 25.00%\n",
      "1/1 [==============================] - 0s 57ms/step\n",
      "White Percentage of 17: 0.00%\n",
      "1/1 [==============================] - 0s 70ms/step\n",
      "White Percentage of 18: 36.96%\n",
      "1/1 [==============================] - 0s 62ms/step\n",
      "White Percentage of 19: 26.29%\n",
      "1/1 [==============================] - 0s 59ms/step\n"
     ]
    },
    {
     "name": "stderr",
     "output_type": "stream",
     "text": [
      "video 1/1 (238/302) D:\\815_CowDataChecking\\Honkawa\\2023-07-31\\03\\output_1fps\\20230731-030500-031000_10fps_1fps.mp4: 384x640 6 cows, 11.0ms\n",
      "WARNING  'Masks.masks' is deprecated. Use 'Masks.data' instead.\n"
     ]
    },
    {
     "name": "stdout",
     "output_type": "stream",
     "text": [
      "White Percentage of 20: 12.05%\n",
      "[['ID', 'COLOR', 'RANK1', 'RANK1_prob', 'RANK2', 'RANK2_prob', 'RANK3', 'RANK3_prob', 'RANK4', 'RANK4_prob', 'RANK5', 'RANK5_prob']]\n",
      "new cattle  xxxxxxxxxxxxxxxxxxxxx new cattle alert \n",
      "1/1 [==============================] - 0s 58ms/step\n",
      "White Percentage of 17: 0.00%\n",
      "1/1 [==============================] - 0s 59ms/step\n",
      "White Percentage of 18: 30.03%\n",
      "1/1 [==============================] - 0s 60ms/step\n",
      "White Percentage of 19: 21.73%\n",
      "1/1 [==============================] - 0s 57ms/step\n"
     ]
    },
    {
     "name": "stderr",
     "output_type": "stream",
     "text": [
      "video 1/1 (239/302) D:\\815_CowDataChecking\\Honkawa\\2023-07-31\\03\\output_1fps\\20230731-030500-031000_10fps_1fps.mp4: 384x640 6 cows, 26.5ms\n",
      "WARNING  'Masks.masks' is deprecated. Use 'Masks.data' instead.\n"
     ]
    },
    {
     "name": "stdout",
     "output_type": "stream",
     "text": [
      "White Percentage of 20: 11.93%\n",
      "1/1 [==============================] - 0s 62ms/step\n",
      "White Percentage of 17: 0.00%\n",
      "1/1 [==============================] - 0s 58ms/step\n",
      "White Percentage of 18: 30.72%\n",
      "1/1 [==============================] - 0s 59ms/step\n",
      "White Percentage of 19: 25.76%\n",
      "1/1 [==============================] - 0s 57ms/step\n"
     ]
    },
    {
     "name": "stderr",
     "output_type": "stream",
     "text": [
      "video 1/1 (240/302) D:\\815_CowDataChecking\\Honkawa\\2023-07-31\\03\\output_1fps\\20230731-030500-031000_10fps_1fps.mp4: 384x640 6 cows, 31.5ms\n",
      "WARNING  'Masks.masks' is deprecated. Use 'Masks.data' instead.\n"
     ]
    },
    {
     "name": "stdout",
     "output_type": "stream",
     "text": [
      "White Percentage of 20: 12.03%\n",
      "1/1 [==============================] - 0s 59ms/step\n",
      "White Percentage of 18: 31.87%\n",
      "1/1 [==============================] - 0s 56ms/step\n",
      "White Percentage of 19: 23.76%\n",
      "1/1 [==============================] - 0s 59ms/step\n"
     ]
    },
    {
     "name": "stderr",
     "output_type": "stream",
     "text": [
      "video 1/1 (241/302) D:\\815_CowDataChecking\\Honkawa\\2023-07-31\\03\\output_1fps\\20230731-030500-031000_10fps_1fps.mp4: 384x640 6 cows, 33.0ms\n",
      "WARNING  'Masks.masks' is deprecated. Use 'Masks.data' instead.\n"
     ]
    },
    {
     "name": "stdout",
     "output_type": "stream",
     "text": [
      "White Percentage of 20: 11.60%\n",
      "1/1 [==============================] - 0s 60ms/step\n",
      "White Percentage of 18: 35.41%\n",
      "1/1 [==============================] - 0s 63ms/step\n",
      "White Percentage of 19: 26.43%\n",
      "1/1 [==============================] - 0s 61ms/step\n"
     ]
    },
    {
     "name": "stderr",
     "output_type": "stream",
     "text": [
      "video 1/1 (242/302) D:\\815_CowDataChecking\\Honkawa\\2023-07-31\\03\\output_1fps\\20230731-030500-031000_10fps_1fps.mp4: 384x640 6 cows, 22.0ms\n",
      "WARNING  'Masks.masks' is deprecated. Use 'Masks.data' instead.\n"
     ]
    },
    {
     "name": "stdout",
     "output_type": "stream",
     "text": [
      "White Percentage of 20: 13.20%\n",
      "1/1 [==============================] - 0s 59ms/step\n",
      "White Percentage of 18: 36.57%\n",
      "1/1 [==============================] - 0s 60ms/step\n",
      "White Percentage of 19: 21.25%\n",
      "1/1 [==============================] - 0s 61ms/step\n"
     ]
    },
    {
     "name": "stderr",
     "output_type": "stream",
     "text": [
      "video 1/1 (243/302) D:\\815_CowDataChecking\\Honkawa\\2023-07-31\\03\\output_1fps\\20230731-030500-031000_10fps_1fps.mp4: 384x640 6 cows, 21.0ms\n",
      "WARNING  'Masks.masks' is deprecated. Use 'Masks.data' instead.\n"
     ]
    },
    {
     "name": "stdout",
     "output_type": "stream",
     "text": [
      "White Percentage of 20: 13.34%\n",
      "1/1 [==============================] - 0s 59ms/step\n",
      "White Percentage of 18: 37.62%\n",
      "1/1 [==============================] - 0s 64ms/step\n",
      "White Percentage of 19: 13.27%\n",
      "1/1 [==============================] - 0s 57ms/step\n"
     ]
    },
    {
     "name": "stderr",
     "output_type": "stream",
     "text": [
      "video 1/1 (244/302) D:\\815_CowDataChecking\\Honkawa\\2023-07-31\\03\\output_1fps\\20230731-030500-031000_10fps_1fps.mp4: 384x640 7 cows, 24.0ms\n",
      "WARNING  'Masks.masks' is deprecated. Use 'Masks.data' instead.\n"
     ]
    },
    {
     "name": "stdout",
     "output_type": "stream",
     "text": [
      "White Percentage of 20: 13.46%\n",
      "1/1 [==============================] - 0s 61ms/step\n",
      "White Percentage of 18: 39.84%\n",
      "1/1 [==============================] - 0s 58ms/step\n",
      "White Percentage of 19: 14.76%\n",
      "1/1 [==============================] - 0s 63ms/step\n"
     ]
    },
    {
     "name": "stderr",
     "output_type": "stream",
     "text": [
      "video 1/1 (245/302) D:\\815_CowDataChecking\\Honkawa\\2023-07-31\\03\\output_1fps\\20230731-030500-031000_10fps_1fps.mp4: 384x640 6 cows, 12.0ms\n",
      "WARNING  'Masks.masks' is deprecated. Use 'Masks.data' instead.\n"
     ]
    },
    {
     "name": "stdout",
     "output_type": "stream",
     "text": [
      "White Percentage of 20: 14.34%\n",
      "1/1 [==============================] - 0s 59ms/step\n",
      "White Percentage of 18: 35.22%\n",
      "1/1 [==============================] - 0s 60ms/step\n",
      "White Percentage of 19: 16.99%\n",
      "1/1 [==============================] - 0s 60ms/step\n"
     ]
    },
    {
     "name": "stderr",
     "output_type": "stream",
     "text": [
      "video 1/1 (246/302) D:\\815_CowDataChecking\\Honkawa\\2023-07-31\\03\\output_1fps\\20230731-030500-031000_10fps_1fps.mp4: 384x640 6 cows, 26.0ms\n",
      "WARNING  'Masks.masks' is deprecated. Use 'Masks.data' instead.\n"
     ]
    },
    {
     "name": "stdout",
     "output_type": "stream",
     "text": [
      "White Percentage of 20: 13.70%\n",
      "1/1 [==============================] - 0s 62ms/step\n",
      "White Percentage of 18: 37.51%\n",
      "1/1 [==============================] - 0s 61ms/step\n",
      "White Percentage of 19: 20.15%\n",
      "1/1 [==============================] - 0s 61ms/step\n"
     ]
    },
    {
     "name": "stderr",
     "output_type": "stream",
     "text": [
      "video 1/1 (247/302) D:\\815_CowDataChecking\\Honkawa\\2023-07-31\\03\\output_1fps\\20230731-030500-031000_10fps_1fps.mp4: 384x640 6 cows, 29.0ms\n",
      "WARNING  'Masks.masks' is deprecated. Use 'Masks.data' instead.\n"
     ]
    },
    {
     "name": "stdout",
     "output_type": "stream",
     "text": [
      "White Percentage of 20: 14.02%\n",
      "1/1 [==============================] - 0s 64ms/step\n",
      "White Percentage of 18: 38.15%\n",
      "1/1 [==============================] - 0s 63ms/step\n",
      "White Percentage of 19: 23.05%\n",
      "1/1 [==============================] - 0s 60ms/step\n"
     ]
    },
    {
     "name": "stderr",
     "output_type": "stream",
     "text": [
      "video 1/1 (248/302) D:\\815_CowDataChecking\\Honkawa\\2023-07-31\\03\\output_1fps\\20230731-030500-031000_10fps_1fps.mp4: 384x640 6 cows, 16.0ms\n",
      "WARNING  'Masks.masks' is deprecated. Use 'Masks.data' instead.\n"
     ]
    },
    {
     "name": "stdout",
     "output_type": "stream",
     "text": [
      "White Percentage of 20: 14.36%\n",
      "1/1 [==============================] - 0s 59ms/step\n",
      "White Percentage of 18: 36.53%\n",
      "1/1 [==============================] - 0s 66ms/step\n",
      "White Percentage of 19: 22.67%\n",
      "1/1 [==============================] - 0s 60ms/step\n",
      "White Percentage of 20: 14.27%\n",
      "1/1 [==============================] - 0s 61ms/step\n"
     ]
    },
    {
     "name": "stderr",
     "output_type": "stream",
     "text": [
      "video 1/1 (249/302) D:\\815_CowDataChecking\\Honkawa\\2023-07-31\\03\\output_1fps\\20230731-030500-031000_10fps_1fps.mp4: 384x640 6 cows, 23.0ms\n",
      "WARNING  'Masks.masks' is deprecated. Use 'Masks.data' instead.\n"
     ]
    },
    {
     "name": "stdout",
     "output_type": "stream",
     "text": [
      "White Percentage of 21: 2.90%\n",
      "[['ID', 'COLOR', 'RANK1', 'RANK1_prob', 'RANK2', 'RANK2_prob', 'RANK3', 'RANK3_prob', 'RANK4', 'RANK4_prob', 'RANK5', 'RANK5_prob']]\n",
      "new cattle  xxxxxxxxxxxxxxxxxxxxx new cattle alert \n",
      "1/1 [==============================] - 0s 64ms/step\n",
      "White Percentage of 18: 34.27%\n",
      "1/1 [==============================] - 0s 59ms/step\n",
      "White Percentage of 19: 22.41%\n",
      "1/1 [==============================] - 0s 59ms/step\n",
      "White Percentage of 20: 15.35%\n",
      "1/1 [==============================] - 0s 58ms/step\n"
     ]
    },
    {
     "name": "stderr",
     "output_type": "stream",
     "text": [
      "video 1/1 (250/302) D:\\815_CowDataChecking\\Honkawa\\2023-07-31\\03\\output_1fps\\20230731-030500-031000_10fps_1fps.mp4: 384x640 6 cows, 20.0ms\n",
      "WARNING  'Masks.masks' is deprecated. Use 'Masks.data' instead.\n"
     ]
    },
    {
     "name": "stdout",
     "output_type": "stream",
     "text": [
      "White Percentage of 21: 2.84%\n",
      "1/1 [==============================] - 0s 67ms/step\n",
      "White Percentage of 18: 34.61%\n",
      "1/1 [==============================] - 0s 61ms/step\n",
      "White Percentage of 19: 21.69%\n",
      "1/1 [==============================] - 0s 64ms/step\n",
      "White Percentage of 20: 15.82%\n",
      "1/1 [==============================] - 0s 64ms/step\n"
     ]
    },
    {
     "name": "stderr",
     "output_type": "stream",
     "text": [
      "video 1/1 (251/302) D:\\815_CowDataChecking\\Honkawa\\2023-07-31\\03\\output_1fps\\20230731-030500-031000_10fps_1fps.mp4: 384x640 7 cows, 38.0ms\n",
      "WARNING  'Masks.masks' is deprecated. Use 'Masks.data' instead.\n"
     ]
    },
    {
     "name": "stdout",
     "output_type": "stream",
     "text": [
      "White Percentage of 21: 2.80%\n",
      "1/1 [==============================] - 0s 61ms/step\n",
      "White Percentage of 18: 35.44%\n",
      "1/1 [==============================] - 0s 60ms/step\n",
      "White Percentage of 19: 15.00%\n",
      "1/1 [==============================] - 0s 61ms/step\n",
      "White Percentage of 20: 16.68%\n",
      "1/1 [==============================] - 0s 63ms/step\n"
     ]
    },
    {
     "name": "stderr",
     "output_type": "stream",
     "text": [
      "video 1/1 (252/302) D:\\815_CowDataChecking\\Honkawa\\2023-07-31\\03\\output_1fps\\20230731-030500-031000_10fps_1fps.mp4: 384x640 7 cows, 19.0ms\n",
      "WARNING  'Masks.masks' is deprecated. Use 'Masks.data' instead.\n"
     ]
    },
    {
     "name": "stdout",
     "output_type": "stream",
     "text": [
      "White Percentage of 21: 2.32%\n",
      "1/1 [==============================] - 0s 59ms/step\n",
      "White Percentage of 18: 35.21%\n",
      "1/1 [==============================] - 0s 63ms/step\n",
      "White Percentage of 19: 12.83%\n",
      "1/1 [==============================] - 0s 67ms/step\n",
      "White Percentage of 20: 15.72%\n",
      "1/1 [==============================] - 0s 65ms/step\n"
     ]
    },
    {
     "name": "stderr",
     "output_type": "stream",
     "text": [
      "video 1/1 (253/302) D:\\815_CowDataChecking\\Honkawa\\2023-07-31\\03\\output_1fps\\20230731-030500-031000_10fps_1fps.mp4: 384x640 6 cows, 19.0ms\n",
      "WARNING  'Masks.masks' is deprecated. Use 'Masks.data' instead.\n"
     ]
    },
    {
     "name": "stdout",
     "output_type": "stream",
     "text": [
      "White Percentage of 21: 2.47%\n",
      "1/1 [==============================] - 0s 65ms/step\n",
      "White Percentage of 19: 19.55%\n",
      "1/1 [==============================] - 0s 63ms/step\n",
      "White Percentage of 20: 16.61%\n",
      "1/1 [==============================] - 0s 67ms/step\n"
     ]
    },
    {
     "name": "stderr",
     "output_type": "stream",
     "text": [
      "video 1/1 (254/302) D:\\815_CowDataChecking\\Honkawa\\2023-07-31\\03\\output_1fps\\20230731-030500-031000_10fps_1fps.mp4: 384x640 6 cows, 31.0ms\n",
      "WARNING  'Masks.masks' is deprecated. Use 'Masks.data' instead.\n"
     ]
    },
    {
     "name": "stdout",
     "output_type": "stream",
     "text": [
      "White Percentage of 21: 2.82%\n",
      "1/1 [==============================] - 0s 59ms/step\n",
      "White Percentage of 19: 20.05%\n",
      "1/1 [==============================] - 0s 72ms/step\n",
      "White Percentage of 20: 14.07%\n",
      "1/1 [==============================] - 0s 61ms/step\n"
     ]
    },
    {
     "name": "stderr",
     "output_type": "stream",
     "text": [
      "video 1/1 (255/302) D:\\815_CowDataChecking\\Honkawa\\2023-07-31\\03\\output_1fps\\20230731-030500-031000_10fps_1fps.mp4: 384x640 6 cows, 17.0ms\n",
      "WARNING  'Masks.masks' is deprecated. Use 'Masks.data' instead.\n"
     ]
    },
    {
     "name": "stdout",
     "output_type": "stream",
     "text": [
      "White Percentage of 21: 2.63%\n",
      "1/1 [==============================] - 0s 62ms/step\n",
      "White Percentage of 19: 19.07%\n",
      "1/1 [==============================] - 0s 63ms/step\n",
      "White Percentage of 20: 13.06%\n",
      "1/1 [==============================] - 0s 63ms/step\n"
     ]
    },
    {
     "name": "stderr",
     "output_type": "stream",
     "text": [
      "video 1/1 (256/302) D:\\815_CowDataChecking\\Honkawa\\2023-07-31\\03\\output_1fps\\20230731-030500-031000_10fps_1fps.mp4: 384x640 6 cows, 46.0ms\n",
      "WARNING  'Masks.masks' is deprecated. Use 'Masks.data' instead.\n"
     ]
    },
    {
     "name": "stdout",
     "output_type": "stream",
     "text": [
      "White Percentage of 21: 3.05%\n",
      "1/1 [==============================] - 0s 60ms/step\n",
      "White Percentage of 19: 18.53%\n",
      "1/1 [==============================] - 0s 63ms/step\n",
      "White Percentage of 20: 13.56%\n",
      "1/1 [==============================] - 0s 58ms/step\n"
     ]
    },
    {
     "name": "stderr",
     "output_type": "stream",
     "text": [
      "video 1/1 (257/302) D:\\815_CowDataChecking\\Honkawa\\2023-07-31\\03\\output_1fps\\20230731-030500-031000_10fps_1fps.mp4: 384x640 5 cows, 25.0ms\n",
      "WARNING  'Masks.masks' is deprecated. Use 'Masks.data' instead.\n"
     ]
    },
    {
     "name": "stdout",
     "output_type": "stream",
     "text": [
      "White Percentage of 21: 2.85%\n",
      "1/1 [==============================] - 0s 63ms/step\n",
      "White Percentage of 19: 17.63%\n",
      "1/1 [==============================] - 0s 62ms/step\n",
      "White Percentage of 20: 14.52%\n",
      "1/1 [==============================] - 0s 64ms/step\n"
     ]
    },
    {
     "name": "stderr",
     "output_type": "stream",
     "text": [
      "video 1/1 (258/302) D:\\815_CowDataChecking\\Honkawa\\2023-07-31\\03\\output_1fps\\20230731-030500-031000_10fps_1fps.mp4: 384x640 6 cows, 14.5ms\n",
      "WARNING  'Masks.masks' is deprecated. Use 'Masks.data' instead.\n"
     ]
    },
    {
     "name": "stdout",
     "output_type": "stream",
     "text": [
      "White Percentage of 21: 2.93%\n",
      "1/1 [==============================] - 0s 76ms/step\n",
      "White Percentage of 19: 17.46%\n",
      "1/1 [==============================] - 0s 67ms/step\n",
      "White Percentage of 20: 12.93%\n",
      "1/1 [==============================] - 0s 60ms/step\n",
      "White Percentage of 21: 2.99%\n",
      "1/1 [==============================] - 0s 67ms/step\n"
     ]
    },
    {
     "name": "stderr",
     "output_type": "stream",
     "text": [
      "video 1/1 (259/302) D:\\815_CowDataChecking\\Honkawa\\2023-07-31\\03\\output_1fps\\20230731-030500-031000_10fps_1fps.mp4: 384x640 6 cows, 38.0ms\n",
      "WARNING  'Masks.masks' is deprecated. Use 'Masks.data' instead.\n"
     ]
    },
    {
     "name": "stdout",
     "output_type": "stream",
     "text": [
      "White Percentage of 22: 10.55%\n",
      "[['ID', 'COLOR', 'RANK1', 'RANK1_prob', 'RANK2', 'RANK2_prob', 'RANK3', 'RANK3_prob', 'RANK4', 'RANK4_prob', 'RANK5', 'RANK5_prob']]\n",
      "new cattle  xxxxxxxxxxxxxxxxxxxxx new cattle alert \n",
      "1/1 [==============================] - 0s 64ms/step\n",
      "White Percentage of 19: 17.37%\n",
      "1/1 [==============================] - 0s 62ms/step\n",
      "White Percentage of 20: 14.09%\n",
      "1/1 [==============================] - 0s 63ms/step\n",
      "White Percentage of 21: 3.03%\n",
      "1/1 [==============================] - 0s 63ms/step\n"
     ]
    },
    {
     "name": "stderr",
     "output_type": "stream",
     "text": [
      "video 1/1 (260/302) D:\\815_CowDataChecking\\Honkawa\\2023-07-31\\03\\output_1fps\\20230731-030500-031000_10fps_1fps.mp4: 384x640 6 cows, 27.0ms\n",
      "WARNING  'Masks.masks' is deprecated. Use 'Masks.data' instead.\n"
     ]
    },
    {
     "name": "stdout",
     "output_type": "stream",
     "text": [
      "White Percentage of 22: 10.85%\n",
      "1/1 [==============================] - 0s 67ms/step\n",
      "White Percentage of 19: 17.11%\n",
      "1/1 [==============================] - 0s 64ms/step\n",
      "White Percentage of 20: 13.38%\n",
      "1/1 [==============================] - 0s 61ms/step\n",
      "White Percentage of 21: 3.08%\n",
      "1/1 [==============================] - 0s 68ms/step\n"
     ]
    },
    {
     "name": "stderr",
     "output_type": "stream",
     "text": [
      "video 1/1 (261/302) D:\\815_CowDataChecking\\Honkawa\\2023-07-31\\03\\output_1fps\\20230731-030500-031000_10fps_1fps.mp4: 384x640 6 cows, 23.0ms\n",
      "WARNING  'Masks.masks' is deprecated. Use 'Masks.data' instead.\n"
     ]
    },
    {
     "name": "stdout",
     "output_type": "stream",
     "text": [
      "White Percentage of 22: 10.42%\n",
      "1/1 [==============================] - 0s 64ms/step\n",
      "White Percentage of 20: 12.85%\n",
      "1/1 [==============================] - 0s 65ms/step\n",
      "White Percentage of 21: 3.03%\n",
      "1/1 [==============================] - 0s 62ms/step\n"
     ]
    },
    {
     "name": "stderr",
     "output_type": "stream",
     "text": [
      "video 1/1 (262/302) D:\\815_CowDataChecking\\Honkawa\\2023-07-31\\03\\output_1fps\\20230731-030500-031000_10fps_1fps.mp4: 384x640 6 cows, 19.0ms\n",
      "WARNING  'Masks.masks' is deprecated. Use 'Masks.data' instead.\n"
     ]
    },
    {
     "name": "stdout",
     "output_type": "stream",
     "text": [
      "White Percentage of 22: 10.87%\n",
      "1/1 [==============================] - 0s 68ms/step\n",
      "White Percentage of 20: 12.72%\n",
      "1/1 [==============================] - 0s 64ms/step\n",
      "White Percentage of 21: 3.15%\n",
      "1/1 [==============================] - 0s 65ms/step\n"
     ]
    },
    {
     "name": "stderr",
     "output_type": "stream",
     "text": [
      "video 1/1 (263/302) D:\\815_CowDataChecking\\Honkawa\\2023-07-31\\03\\output_1fps\\20230731-030500-031000_10fps_1fps.mp4: 384x640 6 cows, 21.0ms\n",
      "WARNING  'Masks.masks' is deprecated. Use 'Masks.data' instead.\n"
     ]
    },
    {
     "name": "stdout",
     "output_type": "stream",
     "text": [
      "White Percentage of 22: 12.41%\n",
      "1/1 [==============================] - 0s 63ms/step\n",
      "White Percentage of 20: 11.86%\n",
      "1/1 [==============================] - 0s 64ms/step\n",
      "White Percentage of 21: 2.81%\n",
      "1/1 [==============================] - 0s 63ms/step\n"
     ]
    },
    {
     "name": "stderr",
     "output_type": "stream",
     "text": [
      "video 1/1 (264/302) D:\\815_CowDataChecking\\Honkawa\\2023-07-31\\03\\output_1fps\\20230731-030500-031000_10fps_1fps.mp4: 384x640 6 cows, 31.0ms\n",
      "WARNING  'Masks.masks' is deprecated. Use 'Masks.data' instead.\n"
     ]
    },
    {
     "name": "stdout",
     "output_type": "stream",
     "text": [
      "White Percentage of 22: 11.75%\n",
      "1/1 [==============================] - 0s 67ms/step\n",
      "White Percentage of 20: 12.17%\n",
      "1/1 [==============================] - 0s 67ms/step\n",
      "White Percentage of 21: 2.33%\n",
      "1/1 [==============================] - 0s 64ms/step\n"
     ]
    },
    {
     "name": "stderr",
     "output_type": "stream",
     "text": [
      "video 1/1 (265/302) D:\\815_CowDataChecking\\Honkawa\\2023-07-31\\03\\output_1fps\\20230731-030500-031000_10fps_1fps.mp4: 384x640 6 cows, 45.0ms\n",
      "WARNING  'Masks.masks' is deprecated. Use 'Masks.data' instead.\n"
     ]
    },
    {
     "name": "stdout",
     "output_type": "stream",
     "text": [
      "White Percentage of 22: 12.06%\n",
      "1/1 [==============================] - 0s 63ms/step\n",
      "White Percentage of 20: 11.97%\n",
      "1/1 [==============================] - 0s 69ms/step\n",
      "White Percentage of 21: 2.54%\n",
      "1/1 [==============================] - 0s 66ms/step\n"
     ]
    },
    {
     "name": "stderr",
     "output_type": "stream",
     "text": [
      "video 1/1 (266/302) D:\\815_CowDataChecking\\Honkawa\\2023-07-31\\03\\output_1fps\\20230731-030500-031000_10fps_1fps.mp4: 384x640 7 cows, 23.0ms\n",
      "WARNING  'Masks.masks' is deprecated. Use 'Masks.data' instead.\n"
     ]
    },
    {
     "name": "stdout",
     "output_type": "stream",
     "text": [
      "White Percentage of 22: 13.30%\n",
      "1/1 [==============================] - 0s 75ms/step\n",
      "White Percentage of 20: 11.87%\n",
      "1/1 [==============================] - 0s 69ms/step\n",
      "White Percentage of 21: 1.95%\n",
      "1/1 [==============================] - 0s 66ms/step\n"
     ]
    },
    {
     "name": "stderr",
     "output_type": "stream",
     "text": [
      "video 1/1 (267/302) D:\\815_CowDataChecking\\Honkawa\\2023-07-31\\03\\output_1fps\\20230731-030500-031000_10fps_1fps.mp4: 384x640 7 cows, 25.0ms\n",
      "WARNING  'Masks.masks' is deprecated. Use 'Masks.data' instead.\n"
     ]
    },
    {
     "name": "stdout",
     "output_type": "stream",
     "text": [
      "White Percentage of 22: 12.80%\n",
      "1/1 [==============================] - 0s 71ms/step\n",
      "White Percentage of 20: 11.48%\n",
      "1/1 [==============================] - 0s 64ms/step\n",
      "White Percentage of 21: 2.64%\n",
      "1/1 [==============================] - 0s 69ms/step\n"
     ]
    },
    {
     "name": "stderr",
     "output_type": "stream",
     "text": [
      "video 1/1 (268/302) D:\\815_CowDataChecking\\Honkawa\\2023-07-31\\03\\output_1fps\\20230731-030500-031000_10fps_1fps.mp4: 384x640 6 cows, 29.5ms\n",
      "WARNING  'Masks.masks' is deprecated. Use 'Masks.data' instead.\n"
     ]
    },
    {
     "name": "stdout",
     "output_type": "stream",
     "text": [
      "White Percentage of 22: 13.10%\n",
      "1/1 [==============================] - 0s 65ms/step\n",
      "White Percentage of 20: 11.39%\n",
      "1/1 [==============================] - 0s 65ms/step\n",
      "White Percentage of 21: 2.70%\n",
      "1/1 [==============================] - 0s 64ms/step\n"
     ]
    },
    {
     "name": "stderr",
     "output_type": "stream",
     "text": [
      "video 1/1 (269/302) D:\\815_CowDataChecking\\Honkawa\\2023-07-31\\03\\output_1fps\\20230731-030500-031000_10fps_1fps.mp4: 384x640 6 cows, 22.4ms\n",
      "WARNING  'Masks.masks' is deprecated. Use 'Masks.data' instead.\n"
     ]
    },
    {
     "name": "stdout",
     "output_type": "stream",
     "text": [
      "White Percentage of 22: 12.62%\n",
      "1/1 [==============================] - 0s 72ms/step\n",
      "White Percentage of 20: 11.36%\n",
      "1/1 [==============================] - 0s 66ms/step\n",
      "White Percentage of 21: 2.65%\n",
      "1/1 [==============================] - 0s 65ms/step\n"
     ]
    },
    {
     "name": "stderr",
     "output_type": "stream",
     "text": [
      "video 1/1 (270/302) D:\\815_CowDataChecking\\Honkawa\\2023-07-31\\03\\output_1fps\\20230731-030500-031000_10fps_1fps.mp4: 384x640 6 cows, 58.5ms\n",
      "WARNING  'Masks.masks' is deprecated. Use 'Masks.data' instead.\n"
     ]
    },
    {
     "name": "stdout",
     "output_type": "stream",
     "text": [
      "White Percentage of 22: 13.81%\n",
      "1/1 [==============================] - 0s 67ms/step\n",
      "White Percentage of 20: 11.20%\n",
      "1/1 [==============================] - 0s 65ms/step\n",
      "White Percentage of 21: 2.45%\n",
      "1/1 [==============================] - 0s 64ms/step\n",
      "White Percentage of 22: 10.60%\n",
      "1/1 [==============================] - 0s 65ms/step\n"
     ]
    },
    {
     "name": "stderr",
     "output_type": "stream",
     "text": [
      "video 1/1 (271/302) D:\\815_CowDataChecking\\Honkawa\\2023-07-31\\03\\output_1fps\\20230731-030500-031000_10fps_1fps.mp4: 384x640 6 cows, 28.0ms\n",
      "WARNING  'Masks.masks' is deprecated. Use 'Masks.data' instead.\n"
     ]
    },
    {
     "name": "stdout",
     "output_type": "stream",
     "text": [
      "White Percentage of 23: 1.89%\n",
      "[['ID', 'COLOR', 'RANK1', 'RANK1_prob', 'RANK2', 'RANK2_prob', 'RANK3', 'RANK3_prob', 'RANK4', 'RANK4_prob', 'RANK5', 'RANK5_prob']]\n",
      "new cattle  xxxxxxxxxxxxxxxxxxxxx new cattle alert \n",
      "1/1 [==============================] - 0s 69ms/step\n",
      "White Percentage of 20: 9.73%\n",
      "1/1 [==============================] - 0s 67ms/step\n",
      "White Percentage of 21: 2.27%\n",
      "1/1 [==============================] - 0s 67ms/step\n",
      "White Percentage of 22: 13.39%\n",
      "1/1 [==============================] - 0s 71ms/step\n"
     ]
    },
    {
     "name": "stderr",
     "output_type": "stream",
     "text": [
      "video 1/1 (272/302) D:\\815_CowDataChecking\\Honkawa\\2023-07-31\\03\\output_1fps\\20230731-030500-031000_10fps_1fps.mp4: 384x640 6 cows, 45.0ms\n",
      "WARNING  'Masks.masks' is deprecated. Use 'Masks.data' instead.\n"
     ]
    },
    {
     "name": "stdout",
     "output_type": "stream",
     "text": [
      "White Percentage of 23: 2.63%\n",
      "1/1 [==============================] - 0s 65ms/step\n",
      "White Percentage of 20: 10.08%\n",
      "1/1 [==============================] - 0s 72ms/step\n",
      "White Percentage of 21: 3.22%\n",
      "1/1 [==============================] - 0s 72ms/step\n",
      "White Percentage of 22: 11.91%\n",
      "1/1 [==============================] - 0s 68ms/step\n"
     ]
    },
    {
     "name": "stderr",
     "output_type": "stream",
     "text": [
      "video 1/1 (273/302) D:\\815_CowDataChecking\\Honkawa\\2023-07-31\\03\\output_1fps\\20230731-030500-031000_10fps_1fps.mp4: 384x640 6 cows, 23.0ms\n",
      "WARNING  'Masks.masks' is deprecated. Use 'Masks.data' instead.\n"
     ]
    },
    {
     "name": "stdout",
     "output_type": "stream",
     "text": [
      "White Percentage of 23: 2.95%\n",
      "1/1 [==============================] - 0s 67ms/step\n",
      "White Percentage of 20: 9.51%\n",
      "1/1 [==============================] - 0s 67ms/step\n",
      "White Percentage of 21: 3.63%\n",
      "1/1 [==============================] - 0s 76ms/step\n",
      "White Percentage of 22: 9.09%\n",
      "1/1 [==============================] - 0s 64ms/step\n"
     ]
    },
    {
     "name": "stderr",
     "output_type": "stream",
     "text": [
      "video 1/1 (274/302) D:\\815_CowDataChecking\\Honkawa\\2023-07-31\\03\\output_1fps\\20230731-030500-031000_10fps_1fps.mp4: 384x640 6 cows, 26.0ms\n",
      "WARNING  'Masks.masks' is deprecated. Use 'Masks.data' instead.\n"
     ]
    },
    {
     "name": "stdout",
     "output_type": "stream",
     "text": [
      "White Percentage of 23: 3.49%\n",
      "1/1 [==============================] - 0s 67ms/step\n",
      "White Percentage of 21: 3.82%\n",
      "1/1 [==============================] - 0s 69ms/step\n",
      "White Percentage of 22: 11.22%\n",
      "1/1 [==============================] - 0s 66ms/step\n"
     ]
    },
    {
     "name": "stderr",
     "output_type": "stream",
     "text": [
      "video 1/1 (275/302) D:\\815_CowDataChecking\\Honkawa\\2023-07-31\\03\\output_1fps\\20230731-030500-031000_10fps_1fps.mp4: 384x640 6 cows, 17.5ms\n",
      "WARNING  'Masks.masks' is deprecated. Use 'Masks.data' instead.\n"
     ]
    },
    {
     "name": "stdout",
     "output_type": "stream",
     "text": [
      "White Percentage of 23: 3.33%\n",
      "1/1 [==============================] - 0s 70ms/step\n",
      "White Percentage of 21: 4.12%\n",
      "1/1 [==============================] - 0s 66ms/step\n",
      "White Percentage of 22: 11.23%\n",
      "1/1 [==============================] - 0s 80ms/step\n"
     ]
    },
    {
     "name": "stderr",
     "output_type": "stream",
     "text": [
      "video 1/1 (276/302) D:\\815_CowDataChecking\\Honkawa\\2023-07-31\\03\\output_1fps\\20230731-030500-031000_10fps_1fps.mp4: 384x640 7 cows, 24.0ms\n",
      "WARNING  'Masks.masks' is deprecated. Use 'Masks.data' instead.\n"
     ]
    },
    {
     "name": "stdout",
     "output_type": "stream",
     "text": [
      "White Percentage of 23: 2.91%\n",
      "1/1 [==============================] - 0s 67ms/step\n",
      "White Percentage of 21: 4.23%\n",
      "1/1 [==============================] - 0s 67ms/step\n",
      "White Percentage of 22: 11.20%\n",
      "1/1 [==============================] - 0s 66ms/step\n"
     ]
    },
    {
     "name": "stderr",
     "output_type": "stream",
     "text": [
      "video 1/1 (277/302) D:\\815_CowDataChecking\\Honkawa\\2023-07-31\\03\\output_1fps\\20230731-030500-031000_10fps_1fps.mp4: 384x640 7 cows, 25.5ms\n",
      "WARNING  'Masks.masks' is deprecated. Use 'Masks.data' instead.\n"
     ]
    },
    {
     "name": "stdout",
     "output_type": "stream",
     "text": [
      "White Percentage of 23: 3.84%\n",
      "1/1 [==============================] - 0s 67ms/step\n",
      "White Percentage of 21: 4.30%\n",
      "1/1 [==============================] - 0s 70ms/step\n",
      "White Percentage of 22: 4.68%\n",
      "1/1 [==============================] - 0s 66ms/step\n"
     ]
    },
    {
     "name": "stderr",
     "output_type": "stream",
     "text": [
      "video 1/1 (278/302) D:\\815_CowDataChecking\\Honkawa\\2023-07-31\\03\\output_1fps\\20230731-030500-031000_10fps_1fps.mp4: 384x640 6 cows, 33.0ms\n",
      "WARNING  'Masks.masks' is deprecated. Use 'Masks.data' instead.\n"
     ]
    },
    {
     "name": "stdout",
     "output_type": "stream",
     "text": [
      "White Percentage of 23: 3.22%\n",
      "1/1 [==============================] - 0s 66ms/step\n",
      "White Percentage of 21: 4.50%\n",
      "1/1 [==============================] - 0s 67ms/step\n",
      "White Percentage of 22: 10.92%\n",
      "1/1 [==============================] - 0s 67ms/step\n",
      "White Percentage of 23: 2.40%\n",
      "1/1 [==============================] - 0s 64ms/step\n"
     ]
    },
    {
     "name": "stderr",
     "output_type": "stream",
     "text": [
      "video 1/1 (279/302) D:\\815_CowDataChecking\\Honkawa\\2023-07-31\\03\\output_1fps\\20230731-030500-031000_10fps_1fps.mp4: 384x640 6 cows, 13.0ms\n",
      "WARNING  'Masks.masks' is deprecated. Use 'Masks.data' instead.\n"
     ]
    },
    {
     "name": "stdout",
     "output_type": "stream",
     "text": [
      "White Percentage of 24: 31.48%\n",
      "[['ID', 'COLOR', 'RANK1', 'RANK1_prob', 'RANK2', 'RANK2_prob', 'RANK3', 'RANK3_prob', 'RANK4', 'RANK4_prob', 'RANK5', 'RANK5_prob']]\n",
      "new cattle  xxxxxxxxxxxxxxxxxxxxx new cattle alert \n",
      "1/1 [==============================] - 0s 70ms/step\n",
      "White Percentage of 21: 4.18%\n",
      "1/1 [==============================] - 0s 73ms/step\n",
      "White Percentage of 22: 11.62%\n",
      "1/1 [==============================] - 0s 76ms/step\n",
      "White Percentage of 23: 1.03%\n",
      "1/1 [==============================] - 0s 67ms/step\n"
     ]
    },
    {
     "name": "stderr",
     "output_type": "stream",
     "text": [
      "video 1/1 (280/302) D:\\815_CowDataChecking\\Honkawa\\2023-07-31\\03\\output_1fps\\20230731-030500-031000_10fps_1fps.mp4: 384x640 6 cows, 30.0ms\n",
      "WARNING  'Masks.masks' is deprecated. Use 'Masks.data' instead.\n"
     ]
    },
    {
     "name": "stdout",
     "output_type": "stream",
     "text": [
      "White Percentage of 24: 32.42%\n",
      "1/1 [==============================] - 0s 69ms/step\n",
      "White Percentage of 21: 4.83%\n",
      "1/1 [==============================] - 0s 77ms/step\n",
      "White Percentage of 22: 9.78%\n",
      "1/1 [==============================] - 0s 70ms/step\n",
      "White Percentage of 23: 1.23%\n",
      "1/1 [==============================] - 0s 65ms/step\n"
     ]
    },
    {
     "name": "stderr",
     "output_type": "stream",
     "text": [
      "video 1/1 (281/302) D:\\815_CowDataChecking\\Honkawa\\2023-07-31\\03\\output_1fps\\20230731-030500-031000_10fps_1fps.mp4: 384x640 6 cows, 32.0ms\n",
      "WARNING  'Masks.masks' is deprecated. Use 'Masks.data' instead.\n"
     ]
    },
    {
     "name": "stdout",
     "output_type": "stream",
     "text": [
      "White Percentage of 24: 32.88%\n",
      "1/1 [==============================] - 0s 69ms/step\n",
      "White Percentage of 21: 4.77%\n",
      "1/1 [==============================] - 0s 67ms/step\n",
      "White Percentage of 22: 11.35%\n",
      "1/1 [==============================] - 0s 70ms/step\n",
      "White Percentage of 23: 10.63%\n",
      "1/1 [==============================] - 0s 65ms/step\n"
     ]
    },
    {
     "name": "stderr",
     "output_type": "stream",
     "text": [
      "video 1/1 (282/302) D:\\815_CowDataChecking\\Honkawa\\2023-07-31\\03\\output_1fps\\20230731-030500-031000_10fps_1fps.mp4: 384x640 6 cows, 18.0ms\n",
      "WARNING  'Masks.masks' is deprecated. Use 'Masks.data' instead.\n"
     ]
    },
    {
     "name": "stdout",
     "output_type": "stream",
     "text": [
      "White Percentage of 24: 33.13%\n",
      "1/1 [==============================] - 0s 69ms/step\n",
      "White Percentage of 21: 4.48%\n",
      "1/1 [==============================] - 0s 73ms/step\n",
      "White Percentage of 22: 10.79%\n",
      "1/1 [==============================] - 0s 68ms/step\n",
      "White Percentage of 23: 2.57%\n",
      "1/1 [==============================] - 0s 69ms/step\n"
     ]
    },
    {
     "name": "stderr",
     "output_type": "stream",
     "text": [
      "video 1/1 (283/302) D:\\815_CowDataChecking\\Honkawa\\2023-07-31\\03\\output_1fps\\20230731-030500-031000_10fps_1fps.mp4: 384x640 6 cows, 22.5ms\n",
      "WARNING  'Masks.masks' is deprecated. Use 'Masks.data' instead.\n"
     ]
    },
    {
     "name": "stdout",
     "output_type": "stream",
     "text": [
      "White Percentage of 24: 33.44%\n",
      "1/1 [==============================] - 0s 68ms/step\n",
      "White Percentage of 21: 4.46%\n",
      "1/1 [==============================] - 0s 72ms/step\n",
      "White Percentage of 22: 10.59%\n",
      "1/1 [==============================] - 0s 67ms/step\n",
      "White Percentage of 23: 0.59%\n",
      "1/1 [==============================] - 0s 70ms/step\n"
     ]
    },
    {
     "name": "stderr",
     "output_type": "stream",
     "text": [
      "video 1/1 (284/302) D:\\815_CowDataChecking\\Honkawa\\2023-07-31\\03\\output_1fps\\20230731-030500-031000_10fps_1fps.mp4: 384x640 6 cows, 23.5ms\n",
      "WARNING  'Masks.masks' is deprecated. Use 'Masks.data' instead.\n"
     ]
    },
    {
     "name": "stdout",
     "output_type": "stream",
     "text": [
      "White Percentage of 24: 35.25%\n",
      "1/1 [==============================] - 0s 70ms/step\n",
      "White Percentage of 22: 10.06%\n",
      "1/1 [==============================] - 0s 74ms/step\n",
      "White Percentage of 23: 0.00%\n",
      "1/1 [==============================] - 0s 68ms/step\n"
     ]
    },
    {
     "name": "stderr",
     "output_type": "stream",
     "text": [
      "video 1/1 (285/302) D:\\815_CowDataChecking\\Honkawa\\2023-07-31\\03\\output_1fps\\20230731-030500-031000_10fps_1fps.mp4: 384x640 6 cows, 23.5ms\n",
      "WARNING  'Masks.masks' is deprecated. Use 'Masks.data' instead.\n"
     ]
    },
    {
     "name": "stdout",
     "output_type": "stream",
     "text": [
      "White Percentage of 24: 34.85%\n",
      "1/1 [==============================] - 0s 71ms/step\n",
      "White Percentage of 22: 10.02%\n",
      "1/1 [==============================] - 0s 77ms/step\n",
      "White Percentage of 23: 2.22%\n",
      "1/1 [==============================] - 0s 77ms/step\n"
     ]
    },
    {
     "name": "stderr",
     "output_type": "stream",
     "text": [
      "video 1/1 (286/302) D:\\815_CowDataChecking\\Honkawa\\2023-07-31\\03\\output_1fps\\20230731-030500-031000_10fps_1fps.mp4: 384x640 6 cows, 20.0ms\n",
      "WARNING  'Masks.masks' is deprecated. Use 'Masks.data' instead.\n"
     ]
    },
    {
     "name": "stdout",
     "output_type": "stream",
     "text": [
      "White Percentage of 24: 35.16%\n",
      "1/1 [==============================] - 0s 68ms/step\n",
      "White Percentage of 22: 9.83%\n",
      "1/1 [==============================] - 0s 69ms/step\n",
      "White Percentage of 23: 5.95%\n",
      "1/1 [==============================] - 0s 73ms/step\n"
     ]
    },
    {
     "name": "stderr",
     "output_type": "stream",
     "text": [
      "video 1/1 (287/302) D:\\815_CowDataChecking\\Honkawa\\2023-07-31\\03\\output_1fps\\20230731-030500-031000_10fps_1fps.mp4: 384x640 5 cows, 17.0ms\n",
      "WARNING  'Masks.masks' is deprecated. Use 'Masks.data' instead.\n"
     ]
    },
    {
     "name": "stdout",
     "output_type": "stream",
     "text": [
      "White Percentage of 24: 35.56%\n",
      "1/1 [==============================] - 0s 71ms/step\n",
      "White Percentage of 22: 9.98%\n",
      "1/1 [==============================] - 0s 74ms/step\n",
      "White Percentage of 23: 0.66%\n",
      "1/1 [==============================] - 0s 70ms/step\n"
     ]
    },
    {
     "name": "stderr",
     "output_type": "stream",
     "text": [
      "video 1/1 (288/302) D:\\815_CowDataChecking\\Honkawa\\2023-07-31\\03\\output_1fps\\20230731-030500-031000_10fps_1fps.mp4: 384x640 5 cows, 54.5ms\n",
      "WARNING  'Masks.masks' is deprecated. Use 'Masks.data' instead.\n"
     ]
    },
    {
     "name": "stdout",
     "output_type": "stream",
     "text": [
      "White Percentage of 24: 33.32%\n",
      "1/1 [==============================] - 0s 75ms/step\n",
      "White Percentage of 22: 9.10%\n",
      "1/1 [==============================] - 0s 67ms/step\n",
      "White Percentage of 23: 8.16%\n",
      "1/1 [==============================] - 0s 65ms/step\n"
     ]
    },
    {
     "name": "stderr",
     "output_type": "stream",
     "text": [
      "video 1/1 (289/302) D:\\815_CowDataChecking\\Honkawa\\2023-07-31\\03\\output_1fps\\20230731-030500-031000_10fps_1fps.mp4: 384x640 6 cows, 24.0ms\n",
      "WARNING  'Masks.masks' is deprecated. Use 'Masks.data' instead.\n"
     ]
    },
    {
     "name": "stdout",
     "output_type": "stream",
     "text": [
      "White Percentage of 24: 31.71%\n",
      "1/1 [==============================] - 0s 74ms/step\n",
      "White Percentage of 22: 8.19%\n",
      "1/1 [==============================] - 0s 76ms/step\n",
      "White Percentage of 23: 3.50%\n",
      "1/1 [==============================] - 0s 68ms/step\n"
     ]
    },
    {
     "name": "stderr",
     "output_type": "stream",
     "text": [
      "video 1/1 (290/302) D:\\815_CowDataChecking\\Honkawa\\2023-07-31\\03\\output_1fps\\20230731-030500-031000_10fps_1fps.mp4: 384x640 6 cows, 37.5ms\n",
      "WARNING  'Masks.masks' is deprecated. Use 'Masks.data' instead.\n"
     ]
    },
    {
     "name": "stdout",
     "output_type": "stream",
     "text": [
      "White Percentage of 24: 29.59%\n",
      "1/1 [==============================] - 0s 66ms/step\n",
      "White Percentage of 22: 6.48%\n",
      "1/1 [==============================] - 0s 69ms/step\n",
      "White Percentage of 23: 0.00%\n",
      "1/1 [==============================] - 0s 66ms/step\n",
      "White Percentage of 24: 29.67%\n",
      "1/1 [==============================] - 0s 63ms/step\n"
     ]
    },
    {
     "name": "stderr",
     "output_type": "stream",
     "text": [
      "video 1/1 (291/302) D:\\815_CowDataChecking\\Honkawa\\2023-07-31\\03\\output_1fps\\20230731-030500-031000_10fps_1fps.mp4: 384x640 6 cows, 15.0ms\n",
      "WARNING  'Masks.masks' is deprecated. Use 'Masks.data' instead.\n"
     ]
    },
    {
     "name": "stdout",
     "output_type": "stream",
     "text": [
      "White Percentage of 25: 14.77%\n",
      "[['ID', 'COLOR', 'RANK1', 'RANK1_prob', 'RANK2', 'RANK2_prob', 'RANK3', 'RANK3_prob', 'RANK4', 'RANK4_prob', 'RANK5', 'RANK5_prob']]\n",
      "new cattle  xxxxxxxxxxxxxxxxxxxxx new cattle alert \n",
      "1/1 [==============================] - 0s 68ms/step\n",
      "White Percentage of 22: 9.87%\n",
      "1/1 [==============================] - 0s 73ms/step\n",
      "White Percentage of 23: 0.00%\n",
      "1/1 [==============================] - 0s 65ms/step\n",
      "White Percentage of 24: 32.19%\n",
      "1/1 [==============================] - 0s 69ms/step\n"
     ]
    },
    {
     "name": "stderr",
     "output_type": "stream",
     "text": [
      "video 1/1 (292/302) D:\\815_CowDataChecking\\Honkawa\\2023-07-31\\03\\output_1fps\\20230731-030500-031000_10fps_1fps.mp4: 384x640 6 cows, 26.5ms\n",
      "WARNING  'Masks.masks' is deprecated. Use 'Masks.data' instead.\n"
     ]
    },
    {
     "name": "stdout",
     "output_type": "stream",
     "text": [
      "White Percentage of 25: 15.46%\n",
      "1/1 [==============================] - 0s 65ms/step\n",
      "White Percentage of 22: 7.30%\n",
      "1/1 [==============================] - 0s 68ms/step\n",
      "White Percentage of 23: 0.00%\n",
      "1/1 [==============================] - 0s 64ms/step\n",
      "White Percentage of 24: 32.54%\n",
      "1/1 [==============================] - 0s 66ms/step\n"
     ]
    },
    {
     "name": "stderr",
     "output_type": "stream",
     "text": [
      "video 1/1 (293/302) D:\\815_CowDataChecking\\Honkawa\\2023-07-31\\03\\output_1fps\\20230731-030500-031000_10fps_1fps.mp4: 384x640 6 cows, 27.0ms\n",
      "WARNING  'Masks.masks' is deprecated. Use 'Masks.data' instead.\n"
     ]
    },
    {
     "name": "stdout",
     "output_type": "stream",
     "text": [
      "White Percentage of 25: 15.47%\n",
      "1/1 [==============================] - 0s 69ms/step\n",
      "White Percentage of 22: 9.43%\n",
      "1/1 [==============================] - 0s 70ms/step\n",
      "White Percentage of 23: 0.00%\n",
      "1/1 [==============================] - 0s 66ms/step\n",
      "White Percentage of 24: 33.31%\n",
      "1/1 [==============================] - 0s 67ms/step\n"
     ]
    },
    {
     "name": "stderr",
     "output_type": "stream",
     "text": [
      "video 1/1 (294/302) D:\\815_CowDataChecking\\Honkawa\\2023-07-31\\03\\output_1fps\\20230731-030500-031000_10fps_1fps.mp4: 384x640 6 cows, 24.0ms\n",
      "WARNING  'Masks.masks' is deprecated. Use 'Masks.data' instead.\n"
     ]
    },
    {
     "name": "stdout",
     "output_type": "stream",
     "text": [
      "White Percentage of 25: 15.33%\n",
      "1/1 [==============================] - 0s 64ms/step\n",
      "White Percentage of 22: 9.72%\n",
      "1/1 [==============================] - 0s 63ms/step\n",
      "White Percentage of 23: 0.00%\n",
      "1/1 [==============================] - 0s 71ms/step\n",
      "White Percentage of 24: 32.87%\n",
      "1/1 [==============================] - 0s 64ms/step\n"
     ]
    },
    {
     "name": "stderr",
     "output_type": "stream",
     "text": [
      "video 1/1 (295/302) D:\\815_CowDataChecking\\Honkawa\\2023-07-31\\03\\output_1fps\\20230731-030500-031000_10fps_1fps.mp4: 384x640 5 cows, 17.0ms\n",
      "WARNING  'Masks.masks' is deprecated. Use 'Masks.data' instead.\n"
     ]
    },
    {
     "name": "stdout",
     "output_type": "stream",
     "text": [
      "White Percentage of 25: 16.64%\n",
      "1/1 [==============================] - 0s 63ms/step\n",
      "White Percentage of 23: 0.00%\n",
      "1/1 [==============================] - 0s 66ms/step\n",
      "White Percentage of 24: 28.05%\n",
      "1/1 [==============================] - 0s 67ms/step\n"
     ]
    },
    {
     "name": "stderr",
     "output_type": "stream",
     "text": [
      "video 1/1 (296/302) D:\\815_CowDataChecking\\Honkawa\\2023-07-31\\03\\output_1fps\\20230731-030500-031000_10fps_1fps.mp4: 384x640 6 cows, 26.0ms\n",
      "WARNING  'Masks.masks' is deprecated. Use 'Masks.data' instead.\n"
     ]
    },
    {
     "name": "stdout",
     "output_type": "stream",
     "text": [
      "White Percentage of 25: 17.23%\n",
      "1/1 [==============================] - 0s 66ms/step\n",
      "White Percentage of 23: 0.00%\n",
      "1/1 [==============================] - 0s 67ms/step\n",
      "White Percentage of 24: 26.36%\n",
      "1/1 [==============================] - 0s 66ms/step\n"
     ]
    },
    {
     "name": "stderr",
     "output_type": "stream",
     "text": [
      "video 1/1 (297/302) D:\\815_CowDataChecking\\Honkawa\\2023-07-31\\03\\output_1fps\\20230731-030500-031000_10fps_1fps.mp4: 384x640 5 cows, 29.0ms\n",
      "WARNING  'Masks.masks' is deprecated. Use 'Masks.data' instead.\n"
     ]
    },
    {
     "name": "stdout",
     "output_type": "stream",
     "text": [
      "White Percentage of 25: 17.19%\n",
      "1/1 [==============================] - 0s 60ms/step\n",
      "White Percentage of 23: 0.00%\n",
      "1/1 [==============================] - 0s 65ms/step\n",
      "White Percentage of 24: 22.99%\n",
      "1/1 [==============================] - 0s 63ms/step\n"
     ]
    },
    {
     "name": "stderr",
     "output_type": "stream",
     "text": [
      "video 1/1 (298/302) D:\\815_CowDataChecking\\Honkawa\\2023-07-31\\03\\output_1fps\\20230731-030500-031000_10fps_1fps.mp4: 384x640 5 cows, 24.0ms\n",
      "WARNING  'Masks.masks' is deprecated. Use 'Masks.data' instead.\n"
     ]
    },
    {
     "name": "stdout",
     "output_type": "stream",
     "text": [
      "White Percentage of 25: 17.24%\n",
      "1/1 [==============================] - 0s 63ms/step\n",
      "White Percentage of 23: 0.00%\n",
      "1/1 [==============================] - 0s 67ms/step\n",
      "White Percentage of 24: 20.96%\n",
      "1/1 [==============================] - 0s 67ms/step\n"
     ]
    },
    {
     "name": "stderr",
     "output_type": "stream",
     "text": [
      "video 1/1 (299/302) D:\\815_CowDataChecking\\Honkawa\\2023-07-31\\03\\output_1fps\\20230731-030500-031000_10fps_1fps.mp4: 384x640 5 cows, 22.0ms\n",
      "WARNING  'Masks.masks' is deprecated. Use 'Masks.data' instead.\n"
     ]
    },
    {
     "name": "stdout",
     "output_type": "stream",
     "text": [
      "White Percentage of 25: 17.90%\n",
      "1/1 [==============================] - 0s 64ms/step\n",
      "White Percentage of 23: 0.00%\n",
      "1/1 [==============================] - 0s 64ms/step\n",
      "White Percentage of 24: 22.62%\n",
      "1/1 [==============================] - 0s 63ms/step\n"
     ]
    },
    {
     "name": "stderr",
     "output_type": "stream",
     "text": [
      "video 1/1 (300/302) D:\\815_CowDataChecking\\Honkawa\\2023-07-31\\03\\output_1fps\\20230731-030500-031000_10fps_1fps.mp4: 384x640 5 cows, 17.0ms\n",
      "WARNING  'Masks.masks' is deprecated. Use 'Masks.data' instead.\n"
     ]
    },
    {
     "name": "stdout",
     "output_type": "stream",
     "text": [
      "White Percentage of 25: 17.43%\n",
      "1/1 [==============================] - 0s 67ms/step\n",
      "White Percentage of 23: 0.00%\n",
      "1/1 [==============================] - 0s 64ms/step\n",
      "White Percentage of 24: 19.05%\n",
      "1/1 [==============================] - 0s 67ms/step\n"
     ]
    },
    {
     "name": "stderr",
     "output_type": "stream",
     "text": [
      "video 1/1 (301/302) D:\\815_CowDataChecking\\Honkawa\\2023-07-31\\03\\output_1fps\\20230731-030500-031000_10fps_1fps.mp4: 384x640 6 cows, 28.0ms\n",
      "WARNING  'Masks.masks' is deprecated. Use 'Masks.data' instead.\n"
     ]
    },
    {
     "name": "stdout",
     "output_type": "stream",
     "text": [
      "White Percentage of 25: 16.57%\n",
      "1/1 [==============================] - 0s 65ms/step\n",
      "White Percentage of 23: 0.00%\n",
      "1/1 [==============================] - 0s 63ms/step\n",
      "White Percentage of 24: 14.71%\n",
      "1/1 [==============================] - 0s 68ms/step\n"
     ]
    },
    {
     "name": "stderr",
     "output_type": "stream",
     "text": [
      "video 1/1 (302/302) D:\\815_CowDataChecking\\Honkawa\\2023-07-31\\03\\output_1fps\\20230731-030500-031000_10fps_1fps.mp4: 384x640 6 cows, 26.5ms\n",
      "Speed: 2.7ms preprocess, 24.4ms inference, 4.0ms postprocess per image at shape (1, 3, 960, 640)\n"
     ]
    },
    {
     "name": "stdout",
     "output_type": "stream",
     "text": [
      "White Percentage of 25: 16.51%\n",
      "D:\\Python\\SULarbmon\\Python\\env\\yolov8_june\\ultralytics\\runs\\segment\\honkawa_1103_112_BWH_RANK_2_weights\\July_31_2023\\03_1fps_wwhite_otsu3\\20230731-030500-031000_10fps_1fps_classification.mp4\n",
      "D:\\Python\\SULarbmon\\Python\\env\\yolov8_june\\ultralytics\\runs\\segment\\honkawa_1103_112_BWH_RANK_2_weights\\July_31_2023\\03_1fps_wwhite_otsu3\\20230731-030500-031000_10fps_1fps_classification.mp4\n",
      "D:\\Python\\SULarbmon\\Python\\env\\yolov8_june\\ultralytics\\runs\\segment\\honkawa_1103_112_BWH_RANK_2_weights\\July_31_2023\\03_1fps_wwhite_otsu3/1/1.csv  is csv_path and \n",
      "Processing tracking : 26\n",
      "The two highest occurrences: \n",
      "First id: 10585.0, Score: 0.6219597354476071, Count: 7.0\n",
      "Second id: 10747.0, Score: 0.477520631841039, Count: 4.0\n",
      "10585\n",
      "D:\\Python\\SULarbmon\\Python\\env\\yolov8_june\\ultralytics\\runs\\segment\\honkawa_1103_112_BWH_RANK_2_weights\\July_31_2023\\03_1fps_wwhite_otsu3/2/2.csv  is csv_path and \n",
      "Processing tracking : 27\n",
      "The two highest occurrences: \n",
      "First id: 10003.0, Score: 2.9387319640549134, Count: 31.0\n",
      "Second id: 10629.0, Score: 0.09704222249194311, Count: 2.0\n",
      "10003\n",
      "D:\\Python\\SULarbmon\\Python\\env\\yolov8_june\\ultralytics\\runs\\segment\\honkawa_1103_112_BWH_RANK_2_weights\\July_31_2023\\03_1fps_wwhite_otsu3/3/3.csv  is csv_path and \n",
      "Processing tracking : 28\n",
      "The two highest occurrences: \n",
      "First id: 10002.0, Score: 0.6293874516162342, Count: 8.0\n",
      "Second id: 10071.0, Score: 0.2389381117817743, Count: 4.0\n",
      "10002\n",
      "D:\\Python\\SULarbmon\\Python\\env\\yolov8_june\\ultralytics\\runs\\segment\\honkawa_1103_112_BWH_RANK_2_weights\\July_31_2023\\03_1fps_wwhite_otsu3/4/4.csv  is csv_path and \n",
      "Processing tracking : 29\n",
      "The two highest occurrences: \n",
      "First id: 10015.0, Score: 3.5554895630753864, Count: 28.0\n",
      "Second id: 10382.0, Score: 0.0782232189553169, Count: 3.0\n",
      "10015\n",
      "D:\\Python\\SULarbmon\\Python\\env\\yolov8_june\\ultralytics\\runs\\segment\\honkawa_1103_112_BWH_RANK_2_weights\\July_31_2023\\03_1fps_wwhite_otsu3/5/5.csv  is csv_path and \n",
      "Processing tracking : 30\n",
      "The two highest occurrences: \n",
      "First id: 10004.0, Score: 0.3491211513073283, Count: 8.0\n",
      "Second id: 10400.0, Score: 0.1727406945371821, Count: 3.0\n",
      "10004\n",
      "D:\\Python\\SULarbmon\\Python\\env\\yolov8_june\\ultralytics\\runs\\segment\\honkawa_1103_112_BWH_RANK_2_weights\\July_31_2023\\03_1fps_wwhite_otsu3/6/6.csv  is csv_path and \n",
      "Processing tracking : 31\n",
      "The two highest occurrences: \n",
      "First id: 10001.0, Score: 0.5996894382843888, Count: 14.0\n",
      "Second id: 10979.0, Score: 0.3080513500380357, Count: 3.0\n",
      "10001\n",
      "D:\\Python\\SULarbmon\\Python\\env\\yolov8_june\\ultralytics\\runs\\segment\\honkawa_1103_112_BWH_RANK_2_weights\\July_31_2023\\03_1fps_wwhite_otsu3/7/7.csv  is csv_path and \n",
      "Processing tracking : 32\n",
      "-1\n",
      "tracking  7  is  U_1\n",
      "D:\\Python\\SULarbmon\\Python\\env\\yolov8_june\\ultralytics\\runs\\segment\\honkawa_1103_112_BWH_RANK_2_weights\\July_31_2023\\03_1fps_wwhite_otsu3/8/8.csv  is csv_path and \n",
      "Processing tracking : 33\n",
      "-1\n",
      "tracking  8  is  U_2\n",
      "D:\\Python\\SULarbmon\\Python\\env\\yolov8_june\\ultralytics\\runs\\segment\\honkawa_1103_112_BWH_RANK_2_weights\\July_31_2023\\03_1fps_wwhite_otsu3/9/9.csv  is csv_path and \n",
      "BLACK\n",
      "tracking  9  is black cow  black_1\n",
      "D:\\Python\\SULarbmon\\Python\\env\\yolov8_june\\ultralytics\\runs\\segment\\honkawa_1103_112_BWH_RANK_2_weights\\July_31_2023\\03_1fps_wwhite_otsu3/10/10.csv  is csv_path and \n",
      "BLACK\n",
      "tracking  10  is black cow  black_2\n",
      "D:\\Python\\SULarbmon\\Python\\env\\yolov8_june\\ultralytics\\runs\\segment\\honkawa_1103_112_BWH_RANK_2_weights\\July_31_2023\\03_1fps_wwhite_otsu3/11/11.csv  is csv_path and \n",
      "Processing tracking : 36\n",
      "The two highest occurrences: \n",
      "First id: 10007.0, Score: 3.013790142204185, Count: 32.0\n",
      "Second id: 10991.0, Score: 0.0496666707077021, Count: 1.0\n",
      "10007\n",
      "D:\\Python\\SULarbmon\\Python\\env\\yolov8_june\\ultralytics\\runs\\segment\\honkawa_1103_112_BWH_RANK_2_weights\\July_31_2023\\03_1fps_wwhite_otsu3/12/12.csv  is csv_path and \n",
      "Processing tracking : 37\n",
      "10014\n",
      "D:\\Python\\SULarbmon\\Python\\env\\yolov8_june\\ultralytics\\runs\\segment\\honkawa_1103_112_BWH_RANK_2_weights\\July_31_2023\\03_1fps_wwhite_otsu3/13/13.csv  is csv_path and \n",
      "Processing tracking : 38\n",
      "The two highest occurrences: \n",
      "First id: 10010.0, Score: 0.4499110862453863, Count: 9.0\n",
      "Second id: 10599.0, Score: 0.150467822745705, Count: 4.0\n",
      "10010\n",
      "D:\\Python\\SULarbmon\\Python\\env\\yolov8_june\\ultralytics\\runs\\segment\\honkawa_1103_112_BWH_RANK_2_weights\\July_31_2023\\03_1fps_wwhite_otsu3/14/14.csv  is csv_path and \n",
      "Processing tracking : 39\n",
      "The two highest occurrences: \n",
      "First id: 10667.0, Score: 0.4454982175236223, Count: 7.0\n",
      "Second id: 10020.0, Score: 0.1165633258030812, Count: 4.0\n",
      "10667\n",
      "D:\\Python\\SULarbmon\\Python\\env\\yolov8_june\\ultralytics\\runs\\segment\\honkawa_1103_112_BWH_RANK_2_weights\\July_31_2023\\03_1fps_wwhite_otsu3/15/15.csv  is csv_path and \n",
      "Processing tracking : 40\n",
      "The two highest occurrences: \n",
      "First id: 10037.0, Score: 0.2955953425443413, Count: 9.0\n",
      "Second id: 10012.0, Score: 0.1404526534432765, Count: 7.0\n",
      "10037\n",
      "D:\\Python\\SULarbmon\\Python\\env\\yolov8_june\\ultralytics\\runs\\segment\\honkawa_1103_112_BWH_RANK_2_weights\\July_31_2023\\03_1fps_wwhite_otsu3/16/16.csv  is csv_path and \n",
      "Processing tracking : 41\n",
      "The two highest occurrences: \n",
      "First id: 10018.0, Score: 4.3719076296670805, Count: 29.0\n",
      "Second id: 10361.0, Score: 0.2541526366939775, Count: 2.0\n",
      "10018\n",
      "D:\\Python\\SULarbmon\\Python\\env\\yolov8_june\\ultralytics\\runs\\segment\\honkawa_1103_112_BWH_RANK_2_weights\\July_31_2023\\03_1fps_wwhite_otsu3/17/17.csv  is csv_path and \n",
      "BLACK\n",
      "tracking  17  is black cow  black_3\n",
      "D:\\Python\\SULarbmon\\Python\\env\\yolov8_june\\ultralytics\\runs\\segment\\honkawa_1103_112_BWH_RANK_2_weights\\July_31_2023\\03_1fps_wwhite_otsu3/18/18.csv  is csv_path and \n",
      "Processing tracking : 43\n",
      "The two highest occurrences: \n",
      "First id: 10009.0, Score: 2.1874943198611927, Count: 29.0\n",
      "Second id: 10059.0, Score: 0.0911780877053667, Count: 2.0\n",
      "10009\n",
      "D:\\Python\\SULarbmon\\Python\\env\\yolov8_june\\ultralytics\\runs\\segment\\honkawa_1103_112_BWH_RANK_2_weights\\July_31_2023\\03_1fps_wwhite_otsu3/19/19.csv  is csv_path and \n",
      "Processing tracking : 44\n",
      "The two highest occurrences: \n",
      "First id: 10008.0, Score: 2.2953004379963113, Count: 27.0\n",
      "Second id: 10988.0, Score: 0.0516977870399581, Count: 2.0\n",
      "10008\n",
      "D:\\Python\\SULarbmon\\Python\\env\\yolov8_june\\ultralytics\\runs\\segment\\honkawa_1103_112_BWH_RANK_2_weights\\July_31_2023\\03_1fps_wwhite_otsu3/20/20.csv  is csv_path and \n",
      "Processing tracking : 45\n",
      "The two highest occurrences: \n",
      "First id: 10012.0, Score: 1.4151351734180877, Count: 23.0\n",
      "Second id: 10074.0, Score: 0.11765990787304301, Count: 4.0\n",
      "10012\n",
      "D:\\Python\\SULarbmon\\Python\\env\\yolov8_june\\ultralytics\\runs\\segment\\honkawa_1103_112_BWH_RANK_2_weights\\July_31_2023\\03_1fps_wwhite_otsu3/21/21.csv  is csv_path and \n",
      "Processing tracking : 46\n",
      "The two highest occurrences: \n",
      "First id: 10005.0, Score: 0.8680110716366776, Count: 17.0\n",
      "Second id: 11001.0, Score: 0.1102864833872784, Count: 2.0\n",
      "10005\n",
      "D:\\Python\\SULarbmon\\Python\\env\\yolov8_june\\ultralytics\\runs\\segment\\honkawa_1103_112_BWH_RANK_2_weights\\July_31_2023\\03_1fps_wwhite_otsu3/22/22.csv  is csv_path and \n",
      "Processing tracking : 47\n",
      "The two highest occurrences: \n",
      "First id: 10016.0, Score: 0.9415954536435642, Count: 19.0\n",
      "Second id: 10990.0, Score: 0.1005541709226475, Count: 2.0\n",
      "10016\n",
      "D:\\Python\\SULarbmon\\Python\\env\\yolov8_june\\ultralytics\\runs\\segment\\honkawa_1103_112_BWH_RANK_2_weights\\July_31_2023\\03_1fps_wwhite_otsu3/23/23.csv  is csv_path and \n",
      "Processing tracking : 48\n",
      "-1\n",
      "tracking  23  is  U_3\n",
      "D:\\Python\\SULarbmon\\Python\\env\\yolov8_june\\ultralytics\\runs\\segment\\honkawa_1103_112_BWH_RANK_2_weights\\July_31_2023\\03_1fps_wwhite_otsu3/24/24.csv  is csv_path and \n",
      "Processing tracking : 49\n",
      "The two highest occurrences: \n",
      "First id: 10035.0, Score: 0.6069271996508534, Count: 8.0\n",
      "Second id: 11096.0, Score: 0.1614589905091024, Count: 3.0\n",
      "10035\n",
      "D:\\Python\\SULarbmon\\Python\\env\\yolov8_june\\ultralytics\\runs\\segment\\honkawa_1103_112_BWH_RANK_2_weights\\July_31_2023\\03_1fps_wwhite_otsu3/25/25.csv  is csv_path and \n",
      "Processing tracking : 50\n",
      "The two highest occurrences: \n",
      "First id: 10021.0, Score: 0.4439682860411367, Count: 10.0\n",
      "Second id: 10525.0, Score: 0.0158443898777331, Count: 1.0\n",
      "10021\n",
      "0  from index\n",
      "1   <--x-->   1\n",
      "SAVING!!!!!\n",
      "1   <--x-->   2\n",
      "1  from index\n",
      "2   <--x-->   2\n",
      "SAVING!!!!!\n",
      "2   <--x-->   3\n",
      "2  from index\n",
      "3   <--x-->   3\n",
      "SAVING!!!!!\n",
      "3   <--x-->   4\n",
      "3  from index\n",
      "4   <--x-->   4\n",
      "SAVING!!!!!\n",
      "4   <--x-->   5\n",
      "4  from index\n",
      "5   <--x-->   5\n",
      "SAVING!!!!!\n",
      "5   <--x-->   6\n",
      "5  from index\n",
      "6   <--x-->   6\n",
      "SAVING!!!!!\n",
      "6   <--x-->   7\n",
      "6  from index\n",
      "7   <--x-->   7\n",
      "SAVING!!!!!\n",
      "7   <--x-->   8\n",
      "7  from index\n",
      "8   <--x-->   8\n",
      "SAVING!!!!!\n",
      "8   <--x-->   9\n",
      "8  from index\n",
      "9   <--x-->   9\n",
      "SAVING!!!!!\n",
      "9   <--x-->   10\n",
      "9  from index\n",
      "10   <--x-->   10\n",
      "SAVING!!!!!\n",
      "10   <--x-->   11\n",
      "10  from index\n",
      "11   <--x-->   11\n",
      "SAVING!!!!!\n",
      "11   <--x-->   11\n",
      "SAVING!!!!!\n",
      "11   <--x-->   12\n",
      "12  from index\n",
      "12   <--x-->   12\n",
      "SAVING!!!!!\n",
      "12   <--x-->   12\n",
      "SAVING!!!!!\n",
      "12   <--x-->   13\n",
      "14  from index\n",
      "13   <--x-->   13\n",
      "SAVING!!!!!\n",
      "13   <--x-->   13\n",
      "SAVING!!!!!\n",
      "13   <--x-->   14\n",
      "16  from index\n",
      "14   <--x-->   14\n",
      "SAVING!!!!!\n",
      "14   <--x-->   14\n",
      "SAVING!!!!!\n",
      "14   <--x-->   15\n",
      "18  from index\n",
      "15   <--x-->   15\n",
      "SAVING!!!!!\n",
      "15   <--x-->   15\n",
      "SAVING!!!!!\n",
      "15   <--x-->   16\n",
      "20  from index\n",
      "16   <--x-->   16\n",
      "SAVING!!!!!\n",
      "16   <--x-->   16\n",
      "SAVING!!!!!\n",
      "16   <--x-->   17\n",
      "22  from index\n",
      "17   <--x-->   17\n",
      "SAVING!!!!!\n",
      "17   <--x-->   17\n",
      "SAVING!!!!!\n",
      "17   <--x-->   18\n",
      "24  from index\n",
      "18   <--x-->   18\n",
      "SAVING!!!!!\n",
      "18   <--x-->   18\n",
      "SAVING!!!!!\n",
      "18   <--x-->   19\n",
      "26  from index\n",
      "19   <--x-->   19\n",
      "SAVING!!!!!\n",
      "19   <--x-->   19\n",
      "SAVING!!!!!\n",
      "19   <--x-->   20\n",
      "28  from index\n",
      "20   <--x-->   20\n",
      "SAVING!!!!!\n",
      "20   <--x-->   20\n",
      "SAVING!!!!!\n",
      "20   <--x-->   21\n",
      "30  from index\n",
      "21   <--x-->   21\n",
      "SAVING!!!!!\n",
      "21   <--x-->   21\n",
      "SAVING!!!!!\n",
      "21   <--x-->   22\n",
      "32  from index\n",
      "22   <--x-->   22\n",
      "SAVING!!!!!\n",
      "22   <--x-->   22\n",
      "SAVING!!!!!\n",
      "22   <--x-->   22\n",
      "SAVING!!!!!\n",
      "22   <--x-->   23\n",
      "35  from index\n",
      "23   <--x-->   23\n",
      "SAVING!!!!!\n",
      "23   <--x-->   23\n",
      "SAVING!!!!!\n",
      "23   <--x-->   23\n",
      "SAVING!!!!!\n",
      "23   <--x-->   24\n",
      "38  from index\n",
      "24   <--x-->   24\n",
      "SAVING!!!!!\n",
      "24   <--x-->   24\n",
      "SAVING!!!!!\n",
      "24   <--x-->   24\n",
      "SAVING!!!!!\n",
      "24   <--x-->   25\n",
      "41  from index\n",
      "25   <--x-->   25\n",
      "SAVING!!!!!\n",
      "25   <--x-->   25\n",
      "SAVING!!!!!\n",
      "25   <--x-->   25\n",
      "SAVING!!!!!\n",
      "25   <--x-->   26\n",
      "44  from index\n",
      "26   <--x-->   26\n",
      "SAVING!!!!!\n",
      "26   <--x-->   26\n",
      "SAVING!!!!!\n",
      "26   <--x-->   26\n",
      "SAVING!!!!!\n",
      "26   <--x-->   27\n",
      "47  from index\n",
      "27   <--x-->   27\n",
      "SAVING!!!!!\n",
      "27   <--x-->   27\n",
      "SAVING!!!!!\n",
      "27   <--x-->   27\n",
      "SAVING!!!!!\n",
      "27   <--x-->   28\n",
      "50  from index\n",
      "28   <--x-->   28\n",
      "SAVING!!!!!\n",
      "28   <--x-->   28\n",
      "SAVING!!!!!\n",
      "28   <--x-->   28\n",
      "SAVING!!!!!\n",
      "28   <--x-->   29\n",
      "53  from index\n",
      "29   <--x-->   29\n",
      "SAVING!!!!!\n",
      "29   <--x-->   29\n",
      "SAVING!!!!!\n",
      "29   <--x-->   29\n",
      "SAVING!!!!!\n",
      "29   <--x-->   30\n",
      "56  from index\n",
      "30   <--x-->   30\n",
      "SAVING!!!!!\n",
      "30   <--x-->   30\n",
      "SAVING!!!!!\n",
      "30   <--x-->   30\n",
      "SAVING!!!!!\n",
      "30   <--x-->   31\n",
      "59  from index\n",
      "31   <--x-->   31\n",
      "SAVING!!!!!\n",
      "31   <--x-->   31\n",
      "SAVING!!!!!\n",
      "31   <--x-->   31\n",
      "SAVING!!!!!\n",
      "31   <--x-->   32\n",
      "62  from index\n",
      "32   <--x-->   32\n",
      "SAVING!!!!!\n",
      "32   <--x-->   32\n",
      "SAVING!!!!!\n",
      "32   <--x-->   32\n",
      "SAVING!!!!!\n",
      "32   <--x-->   33\n",
      "65  from index\n",
      "33   <--x-->   33\n",
      "SAVING!!!!!\n",
      "33   <--x-->   33\n",
      "SAVING!!!!!\n",
      "33   <--x-->   33\n",
      "SAVING!!!!!\n",
      "33   <--x-->   34\n",
      "68  from index\n",
      "34   <--x-->   34\n",
      "SAVING!!!!!\n",
      "34   <--x-->   34\n",
      "SAVING!!!!!\n",
      "34   <--x-->   34\n",
      "SAVING!!!!!\n",
      "34   <--x-->   35\n",
      "71  from index\n",
      "35   <--x-->   35\n",
      "SAVING!!!!!\n",
      "35   <--x-->   35\n",
      "SAVING!!!!!\n",
      "35   <--x-->   35\n",
      "SAVING!!!!!\n",
      "35   <--x-->   36\n",
      "74  from index\n",
      "36   <--x-->   36\n",
      "SAVING!!!!!\n",
      "36   <--x-->   36\n",
      "SAVING!!!!!\n",
      "36   <--x-->   37\n",
      "76  from index\n",
      "37   <--x-->   37\n",
      "SAVING!!!!!\n",
      "37   <--x-->   37\n",
      "SAVING!!!!!\n",
      "37   <--x-->   38\n",
      "78  from index\n",
      "38   <--x-->   38\n",
      "SAVING!!!!!\n",
      "38   <--x-->   38\n",
      "SAVING!!!!!\n",
      "38   <--x-->   39\n",
      "80  from index\n",
      "39   <--x-->   39\n",
      "SAVING!!!!!\n",
      "39   <--x-->   39\n",
      "SAVING!!!!!\n",
      "39   <--x-->   40\n",
      "82  from index\n",
      "40   <--x-->   40\n",
      "SAVING!!!!!\n",
      "40   <--x-->   40\n",
      "SAVING!!!!!\n",
      "40   <--x-->   41\n",
      "84  from index\n",
      "41   <--x-->   41\n",
      "SAVING!!!!!\n",
      "41   <--x-->   41\n",
      "SAVING!!!!!\n",
      "41   <--x-->   42\n",
      "86  from index\n",
      "42   <--x-->   42\n",
      "SAVING!!!!!\n",
      "42   <--x-->   42\n",
      "SAVING!!!!!\n",
      "42   <--x-->   43\n",
      "88  from index\n",
      "43   <--x-->   43\n",
      "SAVING!!!!!\n",
      "43   <--x-->   43\n",
      "SAVING!!!!!\n",
      "43   <--x-->   43\n",
      "SAVING!!!!!\n",
      "43   <--x-->   44\n",
      "91  from index\n",
      "44   <--x-->   44\n",
      "SAVING!!!!!\n",
      "44   <--x-->   44\n",
      "SAVING!!!!!\n",
      "44   <--x-->   44\n",
      "SAVING!!!!!\n",
      "44   <--x-->   45\n",
      "94  from index\n",
      "45   <--x-->   45\n",
      "SAVING!!!!!\n",
      "45   <--x-->   45\n",
      "SAVING!!!!!\n",
      "45   <--x-->   45\n",
      "SAVING!!!!!\n",
      "45   <--x-->   46\n",
      "97  from index\n",
      "46   <--x-->   46\n",
      "SAVING!!!!!\n",
      "46   <--x-->   46\n",
      "SAVING!!!!!\n",
      "46   <--x-->   46\n",
      "SAVING!!!!!\n",
      "46   <--x-->   47\n",
      "100  from index\n",
      "47   <--x-->   47\n",
      "SAVING!!!!!\n",
      "47   <--x-->   47\n",
      "SAVING!!!!!\n",
      "47   <--x-->   47\n",
      "SAVING!!!!!\n",
      "47   <--x-->   48\n",
      "103  from index\n",
      "48   <--x-->   48\n",
      "SAVING!!!!!\n",
      "48   <--x-->   48\n",
      "SAVING!!!!!\n",
      "48   <--x-->   49\n",
      "105  from index\n",
      "49   <--x-->   49\n",
      "SAVING!!!!!\n",
      "49   <--x-->   49\n",
      "SAVING!!!!!\n",
      "49   <--x-->   50\n",
      "107  from index\n",
      "50   <--x-->   50\n",
      "SAVING!!!!!\n",
      "50   <--x-->   50\n",
      "SAVING!!!!!\n",
      "50   <--x-->   51\n",
      "109  from index\n",
      "51   <--x-->   51\n",
      "SAVING!!!!!\n",
      "51   <--x-->   51\n",
      "SAVING!!!!!\n",
      "51   <--x-->   52\n",
      "111  from index\n",
      "52   <--x-->   52\n",
      "SAVING!!!!!\n",
      "52   <--x-->   52\n",
      "SAVING!!!!!\n",
      "52   <--x-->   53\n",
      "113  from index\n",
      "53   <--x-->   53\n",
      "SAVING!!!!!\n",
      "53   <--x-->   53\n",
      "SAVING!!!!!\n",
      "53   <--x-->   54\n",
      "115  from index\n",
      "54   <--x-->   54\n",
      "SAVING!!!!!\n",
      "54   <--x-->   54\n",
      "SAVING!!!!!\n",
      "54   <--x-->   55\n",
      "117  from index\n",
      "55   <--x-->   55\n",
      "SAVING!!!!!\n",
      "55   <--x-->   55\n",
      "SAVING!!!!!\n",
      "55   <--x-->   55\n",
      "SAVING!!!!!\n",
      "55   <--x-->   56\n",
      "120  from index\n",
      "56   <--x-->   56\n",
      "SAVING!!!!!\n",
      "56   <--x-->   56\n",
      "SAVING!!!!!\n",
      "56   <--x-->   56\n",
      "SAVING!!!!!\n",
      "56   <--x-->   57\n",
      "123  from index\n",
      "57   <--x-->   57\n",
      "SAVING!!!!!\n",
      "57   <--x-->   57\n",
      "SAVING!!!!!\n",
      "57   <--x-->   58\n",
      "125  from index\n",
      "58   <--x-->   58\n",
      "SAVING!!!!!\n",
      "58   <--x-->   58\n",
      "SAVING!!!!!\n",
      "58   <--x-->   59\n",
      "127  from index\n",
      "59   <--x-->   59\n",
      "SAVING!!!!!\n",
      "59   <--x-->   59\n",
      "SAVING!!!!!\n",
      "59   <--x-->   60\n",
      "129  from index\n",
      "60   <--x-->   60\n",
      "SAVING!!!!!\n",
      "60   <--x-->   60\n",
      "SAVING!!!!!\n",
      "60   <--x-->   61\n",
      "131  from index\n",
      "61   <--x-->   61\n",
      "SAVING!!!!!\n",
      "61   <--x-->   61\n",
      "SAVING!!!!!\n",
      "61   <--x-->   62\n",
      "133  from index\n",
      "62   <--x-->   62\n",
      "SAVING!!!!!\n",
      "62   <--x-->   62\n",
      "SAVING!!!!!\n",
      "62   <--x-->   63\n",
      "135  from index\n",
      "63   <--x-->   63\n",
      "SAVING!!!!!\n",
      "63   <--x-->   63\n",
      "SAVING!!!!!\n",
      "63   <--x-->   64\n",
      "137  from index\n",
      "64   <--x-->   64\n",
      "SAVING!!!!!\n",
      "64   <--x-->   64\n",
      "SAVING!!!!!\n",
      "64   <--x-->   64\n",
      "SAVING!!!!!\n",
      "64   <--x-->   65\n",
      "140  from index\n",
      "65   <--x-->   65\n",
      "SAVING!!!!!\n",
      "65   <--x-->   65\n",
      "SAVING!!!!!\n",
      "65   <--x-->   65\n",
      "SAVING!!!!!\n",
      "65   <--x-->   66\n",
      "143  from index\n",
      "66   <--x-->   66\n",
      "SAVING!!!!!\n",
      "66   <--x-->   66\n",
      "SAVING!!!!!\n",
      "66   <--x-->   66\n",
      "SAVING!!!!!\n",
      "66   <--x-->   67\n",
      "146  from index\n",
      "67   <--x-->   67\n",
      "SAVING!!!!!\n",
      "67   <--x-->   67\n",
      "SAVING!!!!!\n",
      "67   <--x-->   67\n",
      "SAVING!!!!!\n",
      "67   <--x-->   68\n",
      "149  from index\n",
      "68   <--x-->   68\n",
      "SAVING!!!!!\n",
      "68   <--x-->   68\n",
      "SAVING!!!!!\n",
      "68   <--x-->   68\n",
      "SAVING!!!!!\n",
      "68   <--x-->   69\n",
      "152  from index\n",
      "69   <--x-->   69\n",
      "SAVING!!!!!\n",
      "69   <--x-->   69\n",
      "SAVING!!!!!\n",
      "69   <--x-->   69\n",
      "SAVING!!!!!\n",
      "69   <--x-->   70\n",
      "155  from index\n",
      "70   <--x-->   70\n",
      "SAVING!!!!!\n",
      "70   <--x-->   70\n",
      "SAVING!!!!!\n",
      "70   <--x-->   70\n",
      "SAVING!!!!!\n",
      "70   <--x-->   71\n",
      "158  from index\n",
      "71   <--x-->   71\n",
      "SAVING!!!!!\n",
      "71   <--x-->   71\n",
      "SAVING!!!!!\n",
      "71   <--x-->   71\n",
      "SAVING!!!!!\n",
      "71   <--x-->   72\n",
      "161  from index\n",
      "72   <--x-->   72\n",
      "SAVING!!!!!\n",
      "72   <--x-->   72\n",
      "SAVING!!!!!\n",
      "72   <--x-->   72\n",
      "SAVING!!!!!\n",
      "72   <--x-->   73\n",
      "164  from index\n",
      "73   <--x-->   73\n",
      "SAVING!!!!!\n",
      "73   <--x-->   73\n",
      "SAVING!!!!!\n",
      "73   <--x-->   73\n",
      "SAVING!!!!!\n",
      "73   <--x-->   74\n",
      "167  from index\n",
      "74   <--x-->   74\n",
      "SAVING!!!!!\n",
      "74   <--x-->   74\n",
      "SAVING!!!!!\n",
      "74   <--x-->   74\n",
      "SAVING!!!!!\n",
      "74   <--x-->   75\n",
      "170  from index\n",
      "75   <--x-->   75\n",
      "SAVING!!!!!\n",
      "75   <--x-->   75\n",
      "SAVING!!!!!\n",
      "75   <--x-->   75\n",
      "SAVING!!!!!\n",
      "75   <--x-->   76\n",
      "173  from index\n",
      "76   <--x-->   76\n",
      "SAVING!!!!!\n",
      "76   <--x-->   76\n",
      "SAVING!!!!!\n",
      "76   <--x-->   77\n",
      "175  from index\n",
      "77   <--x-->   77\n",
      "SAVING!!!!!\n",
      "77   <--x-->   77\n",
      "SAVING!!!!!\n",
      "77   <--x-->   78\n",
      "177  from index\n",
      "78   <--x-->   78\n",
      "SAVING!!!!!\n",
      "78   <--x-->   78\n",
      "SAVING!!!!!\n",
      "78   <--x-->   79\n",
      "179  from index\n",
      "79   <--x-->   79\n",
      "SAVING!!!!!\n",
      "79   <--x-->   79\n",
      "SAVING!!!!!\n",
      "79   <--x-->   80\n",
      "181  from index\n",
      "80   <--x-->   80\n",
      "SAVING!!!!!\n",
      "80   <--x-->   80\n",
      "SAVING!!!!!\n",
      "80   <--x-->   81\n",
      "183  from index\n",
      "81   <--x-->   81\n",
      "SAVING!!!!!\n",
      "81   <--x-->   81\n",
      "SAVING!!!!!\n",
      "81   <--x-->   82\n",
      "185  from index\n",
      "82   <--x-->   82\n",
      "SAVING!!!!!\n",
      "82   <--x-->   82\n",
      "SAVING!!!!!\n",
      "82   <--x-->   83\n",
      "187  from index\n",
      "83   <--x-->   83\n",
      "SAVING!!!!!\n",
      "83   <--x-->   83\n",
      "SAVING!!!!!\n",
      "83   <--x-->   84\n",
      "189  from index\n",
      "84   <--x-->   84\n",
      "SAVING!!!!!\n",
      "84   <--x-->   84\n",
      "SAVING!!!!!\n",
      "84   <--x-->   85\n",
      "191  from index\n",
      "85   <--x-->   85\n",
      "SAVING!!!!!\n",
      "85   <--x-->   85\n",
      "SAVING!!!!!\n",
      "85   <--x-->   86\n",
      "193  from index\n",
      "86   <--x-->   86\n",
      "SAVING!!!!!\n",
      "86   <--x-->   86\n",
      "SAVING!!!!!\n",
      "86   <--x-->   86\n",
      "SAVING!!!!!\n",
      "86   <--x-->   87\n",
      "196  from index\n",
      "87   <--x-->   87\n",
      "SAVING!!!!!\n",
      "87   <--x-->   87\n",
      "SAVING!!!!!\n",
      "87   <--x-->   87\n",
      "SAVING!!!!!\n",
      "87   <--x-->   88\n",
      "199  from index\n",
      "88   <--x-->   88\n",
      "SAVING!!!!!\n",
      "88   <--x-->   88\n",
      "SAVING!!!!!\n",
      "88   <--x-->   89\n",
      "201  from index\n",
      "89   <--x-->   89\n",
      "SAVING!!!!!\n",
      "89   <--x-->   89\n",
      "SAVING!!!!!\n",
      "89   <--x-->   90\n",
      "203  from index\n",
      "90   <--x-->   90\n",
      "SAVING!!!!!\n",
      "90   <--x-->   90\n",
      "SAVING!!!!!\n",
      "90   <--x-->   91\n",
      "205  from index\n",
      "91   <--x-->   91\n",
      "SAVING!!!!!\n",
      "91   <--x-->   91\n",
      "SAVING!!!!!\n",
      "91   <--x-->   92\n",
      "207  from index\n",
      "92   <--x-->   92\n",
      "SAVING!!!!!\n",
      "92   <--x-->   92\n",
      "SAVING!!!!!\n",
      "92   <--x-->   93\n",
      "209  from index\n",
      "93   <--x-->   93\n",
      "SAVING!!!!!\n",
      "93   <--x-->   93\n",
      "SAVING!!!!!\n",
      "93   <--x-->   94\n",
      "211  from index\n",
      "94   <--x-->   94\n",
      "SAVING!!!!!\n",
      "94   <--x-->   94\n",
      "SAVING!!!!!\n",
      "94   <--x-->   95\n",
      "213  from index\n",
      "95   <--x-->   95\n",
      "SAVING!!!!!\n",
      "95   <--x-->   95\n",
      "SAVING!!!!!\n",
      "95   <--x-->   95\n",
      "SAVING!!!!!\n",
      "95   <--x-->   96\n",
      "216  from index\n",
      "96   <--x-->   96\n",
      "SAVING!!!!!\n",
      "96   <--x-->   96\n",
      "SAVING!!!!!\n",
      "96   <--x-->   96\n",
      "SAVING!!!!!\n",
      "96   <--x-->   97\n",
      "219  from index\n",
      "97   <--x-->   97\n",
      "SAVING!!!!!\n",
      "97   <--x-->   97\n",
      "SAVING!!!!!\n",
      "97   <--x-->   97\n",
      "SAVING!!!!!\n",
      "97   <--x-->   98\n",
      "222  from index\n",
      "98   <--x-->   98\n",
      "SAVING!!!!!\n",
      "98   <--x-->   98\n",
      "SAVING!!!!!\n",
      "98   <--x-->   98\n",
      "SAVING!!!!!\n",
      "98   <--x-->   99\n",
      "225  from index\n",
      "99   <--x-->   99\n",
      "SAVING!!!!!\n",
      "99   <--x-->   99\n",
      "SAVING!!!!!\n",
      "99   <--x-->   99\n",
      "SAVING!!!!!\n",
      "99   <--x-->   100\n",
      "228  from index\n",
      "100   <--x-->   100\n",
      "SAVING!!!!!\n",
      "100   <--x-->   100\n",
      "SAVING!!!!!\n",
      "100   <--x-->   101\n",
      "230  from index\n",
      "101   <--x-->   101\n",
      "SAVING!!!!!\n",
      "101   <--x-->   101\n",
      "SAVING!!!!!\n",
      "101   <--x-->   102\n",
      "232  from index\n",
      "102   <--x-->   102\n",
      "SAVING!!!!!\n",
      "102   <--x-->   102\n",
      "SAVING!!!!!\n",
      "102   <--x-->   103\n",
      "234  from index\n",
      "103   <--x-->   103\n",
      "SAVING!!!!!\n",
      "103   <--x-->   103\n",
      "SAVING!!!!!\n",
      "103   <--x-->   104\n",
      "236  from index\n",
      "104   <--x-->   104\n",
      "SAVING!!!!!\n",
      "104   <--x-->   104\n",
      "SAVING!!!!!\n",
      "104   <--x-->   105\n",
      "238  from index\n",
      "105   <--x-->   105\n",
      "SAVING!!!!!\n",
      "105   <--x-->   105\n",
      "SAVING!!!!!\n",
      "105   <--x-->   106\n",
      "240  from index\n",
      "106   <--x-->   106\n",
      "SAVING!!!!!\n",
      "106   <--x-->   106\n",
      "SAVING!!!!!\n",
      "106   <--x-->   106\n",
      "SAVING!!!!!\n",
      "106   <--x-->   107\n",
      "243  from index\n",
      "107   <--x-->   107\n",
      "SAVING!!!!!\n",
      "107   <--x-->   107\n",
      "SAVING!!!!!\n",
      "107   <--x-->   107\n",
      "SAVING!!!!!\n",
      "107   <--x-->   108\n",
      "246  from index\n",
      "108   <--x-->   108\n",
      "SAVING!!!!!\n",
      "108   <--x-->   108\n",
      "SAVING!!!!!\n",
      "108   <--x-->   108\n",
      "SAVING!!!!!\n",
      "108   <--x-->   109\n",
      "249  from index\n",
      "109   <--x-->   109\n",
      "SAVING!!!!!\n",
      "109   <--x-->   109\n",
      "SAVING!!!!!\n",
      "109   <--x-->   109\n",
      "SAVING!!!!!\n",
      "109   <--x-->   110\n",
      "252  from index\n",
      "110   <--x-->   110\n",
      "SAVING!!!!!\n",
      "110   <--x-->   110\n",
      "SAVING!!!!!\n",
      "110   <--x-->   110\n",
      "SAVING!!!!!\n",
      "110   <--x-->   111\n",
      "255  from index\n",
      "111   <--x-->   111\n",
      "SAVING!!!!!\n",
      "111   <--x-->   111\n",
      "SAVING!!!!!\n",
      "111   <--x-->   111\n",
      "SAVING!!!!!\n",
      "111   <--x-->   112\n",
      "258  from index\n",
      "112   <--x-->   112\n",
      "SAVING!!!!!\n",
      "112   <--x-->   112\n",
      "SAVING!!!!!\n",
      "112   <--x-->   112\n",
      "SAVING!!!!!\n",
      "112   <--x-->   113\n",
      "261  from index\n",
      "113   <--x-->   113\n",
      "SAVING!!!!!\n",
      "113   <--x-->   113\n",
      "SAVING!!!!!\n",
      "113   <--x-->   113\n",
      "SAVING!!!!!\n",
      "113   <--x-->   114\n",
      "264  from index\n",
      "114   <--x-->   114\n",
      "SAVING!!!!!\n",
      "114   <--x-->   114\n",
      "SAVING!!!!!\n",
      "114   <--x-->   114\n",
      "SAVING!!!!!\n",
      "114   <--x-->   115\n",
      "267  from index\n",
      "115   <--x-->   115\n",
      "SAVING!!!!!\n",
      "115   <--x-->   115\n",
      "SAVING!!!!!\n",
      "115   <--x-->   115\n",
      "SAVING!!!!!\n",
      "115   <--x-->   116\n",
      "270  from index\n",
      "116   <--x-->   116\n",
      "SAVING!!!!!\n",
      "116   <--x-->   116\n",
      "SAVING!!!!!\n",
      "116   <--x-->   116\n",
      "SAVING!!!!!\n",
      "116   <--x-->   116\n",
      "SAVING!!!!!\n",
      "116   <--x-->   117\n",
      "274  from index\n",
      "117   <--x-->   117\n",
      "SAVING!!!!!\n",
      "117   <--x-->   117\n",
      "SAVING!!!!!\n",
      "117   <--x-->   117\n",
      "SAVING!!!!!\n",
      "117   <--x-->   117\n",
      "SAVING!!!!!\n",
      "117   <--x-->   118\n",
      "278  from index\n",
      "118   <--x-->   118\n",
      "SAVING!!!!!\n",
      "118   <--x-->   118\n",
      "SAVING!!!!!\n",
      "118   <--x-->   118\n",
      "SAVING!!!!!\n",
      "118   <--x-->   118\n",
      "SAVING!!!!!\n",
      "118   <--x-->   119\n",
      "282  from index\n",
      "119   <--x-->   119\n",
      "SAVING!!!!!\n",
      "119   <--x-->   119\n",
      "SAVING!!!!!\n",
      "119   <--x-->   119\n",
      "SAVING!!!!!\n",
      "119   <--x-->   120\n",
      "285  from index\n",
      "120   <--x-->   120\n",
      "SAVING!!!!!\n",
      "120   <--x-->   120\n",
      "SAVING!!!!!\n",
      "120   <--x-->   120\n",
      "SAVING!!!!!\n",
      "120   <--x-->   121\n",
      "288  from index\n",
      "121   <--x-->   121\n",
      "SAVING!!!!!\n",
      "121   <--x-->   121\n",
      "SAVING!!!!!\n",
      "121   <--x-->   121\n",
      "SAVING!!!!!\n",
      "121   <--x-->   122\n",
      "291  from index\n",
      "122   <--x-->   122\n",
      "SAVING!!!!!\n",
      "122   <--x-->   122\n",
      "SAVING!!!!!\n",
      "122   <--x-->   122\n",
      "SAVING!!!!!\n",
      "122   <--x-->   123\n",
      "294  from index\n",
      "123   <--x-->   123\n",
      "SAVING!!!!!\n",
      "123   <--x-->   123\n",
      "SAVING!!!!!\n",
      "123   <--x-->   123\n",
      "SAVING!!!!!\n",
      "123   <--x-->   124\n",
      "297  from index\n",
      "124   <--x-->   124\n",
      "SAVING!!!!!\n",
      "124   <--x-->   124\n",
      "SAVING!!!!!\n",
      "124   <--x-->   124\n",
      "SAVING!!!!!\n",
      "124   <--x-->   125\n",
      "300  from index\n",
      "125   <--x-->   125\n",
      "SAVING!!!!!\n",
      "125   <--x-->   125\n",
      "SAVING!!!!!\n",
      "125   <--x-->   125\n",
      "SAVING!!!!!\n",
      "125   <--x-->   126\n",
      "303  from index\n",
      "126   <--x-->   126\n",
      "SAVING!!!!!\n",
      "126   <--x-->   126\n",
      "SAVING!!!!!\n",
      "126   <--x-->   126\n",
      "SAVING!!!!!\n",
      "126   <--x-->   127\n",
      "306  from index\n",
      "127   <--x-->   127\n",
      "SAVING!!!!!\n",
      "127   <--x-->   127\n",
      "SAVING!!!!!\n",
      "127   <--x-->   127\n",
      "SAVING!!!!!\n",
      "127   <--x-->   128\n",
      "309  from index\n",
      "128   <--x-->   128\n",
      "SAVING!!!!!\n",
      "128   <--x-->   128\n",
      "SAVING!!!!!\n",
      "128   <--x-->   128\n",
      "SAVING!!!!!\n",
      "128   <--x-->   128\n",
      "SAVING!!!!!\n",
      "128   <--x-->   129\n",
      "313  from index\n",
      "129   <--x-->   129\n",
      "SAVING!!!!!\n",
      "129   <--x-->   129\n",
      "SAVING!!!!!\n",
      "129   <--x-->   129\n",
      "SAVING!!!!!\n",
      "129   <--x-->   129\n",
      "SAVING!!!!!\n",
      "129   <--x-->   130\n",
      "317  from index\n",
      "130   <--x-->   130\n",
      "SAVING!!!!!\n",
      "130   <--x-->   130\n",
      "SAVING!!!!!\n",
      "130   <--x-->   130\n",
      "SAVING!!!!!\n",
      "130   <--x-->   130\n",
      "SAVING!!!!!\n",
      "130   <--x-->   131\n",
      "321  from index\n",
      "131   <--x-->   131\n",
      "SAVING!!!!!\n",
      "131   <--x-->   131\n",
      "SAVING!!!!!\n",
      "131   <--x-->   131\n",
      "SAVING!!!!!\n",
      "131   <--x-->   132\n",
      "324  from index\n",
      "132   <--x-->   132\n",
      "SAVING!!!!!\n",
      "132   <--x-->   132\n",
      "SAVING!!!!!\n",
      "132   <--x-->   132\n",
      "SAVING!!!!!\n",
      "132   <--x-->   133\n",
      "327  from index\n",
      "133   <--x-->   133\n",
      "SAVING!!!!!\n",
      "133   <--x-->   133\n",
      "SAVING!!!!!\n",
      "133   <--x-->   133\n",
      "SAVING!!!!!\n",
      "133   <--x-->   134\n",
      "330  from index\n",
      "134   <--x-->   134\n",
      "SAVING!!!!!\n",
      "134   <--x-->   134\n",
      "SAVING!!!!!\n",
      "134   <--x-->   134\n",
      "SAVING!!!!!\n",
      "134   <--x-->   135\n",
      "333  from index\n",
      "135   <--x-->   135\n",
      "SAVING!!!!!\n",
      "135   <--x-->   135\n",
      "SAVING!!!!!\n",
      "135   <--x-->   135\n",
      "SAVING!!!!!\n",
      "135   <--x-->   136\n",
      "336  from index\n",
      "136   <--x-->   136\n",
      "SAVING!!!!!\n",
      "136   <--x-->   136\n",
      "SAVING!!!!!\n",
      "136   <--x-->   136\n",
      "SAVING!!!!!\n",
      "136   <--x-->   137\n",
      "339  from index\n",
      "137   <--x-->   137\n",
      "SAVING!!!!!\n",
      "137   <--x-->   137\n",
      "SAVING!!!!!\n",
      "137   <--x-->   137\n",
      "SAVING!!!!!\n",
      "137   <--x-->   138\n",
      "342  from index\n",
      "138   <--x-->   138\n",
      "SAVING!!!!!\n",
      "138   <--x-->   138\n",
      "SAVING!!!!!\n",
      "138   <--x-->   138\n",
      "SAVING!!!!!\n",
      "138   <--x-->   138\n",
      "SAVING!!!!!\n",
      "138   <--x-->   139\n",
      "346  from index\n",
      "139   <--x-->   139\n",
      "SAVING!!!!!\n",
      "139   <--x-->   139\n",
      "SAVING!!!!!\n",
      "139   <--x-->   139\n",
      "SAVING!!!!!\n",
      "139   <--x-->   139\n",
      "SAVING!!!!!\n",
      "139   <--x-->   140\n",
      "350  from index\n",
      "140   <--x-->   140\n",
      "SAVING!!!!!\n",
      "140   <--x-->   140\n",
      "SAVING!!!!!\n",
      "140   <--x-->   140\n",
      "SAVING!!!!!\n",
      "140   <--x-->   140\n",
      "SAVING!!!!!\n",
      "140   <--x-->   141\n",
      "354  from index\n",
      "141   <--x-->   141\n",
      "SAVING!!!!!\n",
      "141   <--x-->   141\n",
      "SAVING!!!!!\n",
      "141   <--x-->   141\n",
      "SAVING!!!!!\n",
      "141   <--x-->   141\n",
      "SAVING!!!!!\n",
      "141   <--x-->   142\n",
      "358  from index\n",
      "142   <--x-->   142\n",
      "SAVING!!!!!\n",
      "142   <--x-->   142\n",
      "SAVING!!!!!\n",
      "142   <--x-->   142\n",
      "SAVING!!!!!\n",
      "142   <--x-->   142\n",
      "SAVING!!!!!\n",
      "142   <--x-->   143\n",
      "362  from index\n",
      "143   <--x-->   143\n",
      "SAVING!!!!!\n",
      "143   <--x-->   143\n",
      "SAVING!!!!!\n",
      "143   <--x-->   143\n",
      "SAVING!!!!!\n",
      "143   <--x-->   144\n",
      "365  from index\n",
      "144   <--x-->   144\n",
      "SAVING!!!!!\n",
      "144   <--x-->   144\n",
      "SAVING!!!!!\n",
      "144   <--x-->   144\n",
      "SAVING!!!!!\n",
      "144   <--x-->   145\n",
      "368  from index\n",
      "145   <--x-->   145\n",
      "SAVING!!!!!\n",
      "145   <--x-->   145\n",
      "SAVING!!!!!\n",
      "145   <--x-->   145\n",
      "SAVING!!!!!\n",
      "145   <--x-->   146\n",
      "371  from index\n",
      "146   <--x-->   146\n",
      "SAVING!!!!!\n",
      "146   <--x-->   146\n",
      "SAVING!!!!!\n",
      "146   <--x-->   146\n",
      "SAVING!!!!!\n",
      "146   <--x-->   147\n",
      "374  from index\n",
      "147   <--x-->   147\n",
      "SAVING!!!!!\n",
      "147   <--x-->   147\n",
      "SAVING!!!!!\n",
      "147   <--x-->   147\n",
      "SAVING!!!!!\n",
      "147   <--x-->   148\n",
      "377  from index\n",
      "148   <--x-->   148\n",
      "SAVING!!!!!\n",
      "148   <--x-->   148\n",
      "SAVING!!!!!\n",
      "148   <--x-->   148\n",
      "SAVING!!!!!\n",
      "148   <--x-->   149\n",
      "380  from index\n",
      "149   <--x-->   149\n",
      "SAVING!!!!!\n",
      "149   <--x-->   149\n",
      "SAVING!!!!!\n",
      "149   <--x-->   149\n",
      "SAVING!!!!!\n",
      "149   <--x-->   149\n",
      "SAVING!!!!!\n",
      "149   <--x-->   150\n",
      "384  from index\n",
      "150   <--x-->   150\n",
      "SAVING!!!!!\n",
      "150   <--x-->   150\n",
      "SAVING!!!!!\n",
      "150   <--x-->   150\n",
      "SAVING!!!!!\n",
      "150   <--x-->   150\n",
      "SAVING!!!!!\n",
      "150   <--x-->   151\n",
      "388  from index\n",
      "151   <--x-->   151\n",
      "SAVING!!!!!\n",
      "151   <--x-->   151\n",
      "SAVING!!!!!\n",
      "151   <--x-->   151\n",
      "SAVING!!!!!\n",
      "151   <--x-->   151\n",
      "SAVING!!!!!\n",
      "151   <--x-->   152\n",
      "392  from index\n",
      "152   <--x-->   152\n",
      "SAVING!!!!!\n",
      "152   <--x-->   152\n",
      "SAVING!!!!!\n",
      "152   <--x-->   152\n",
      "SAVING!!!!!\n",
      "152   <--x-->   152\n",
      "SAVING!!!!!\n",
      "152   <--x-->   153\n",
      "396  from index\n",
      "153   <--x-->   153\n",
      "SAVING!!!!!\n",
      "153   <--x-->   153\n",
      "SAVING!!!!!\n",
      "153   <--x-->   153\n",
      "SAVING!!!!!\n",
      "153   <--x-->   154\n",
      "399  from index\n",
      "154   <--x-->   154\n",
      "SAVING!!!!!\n",
      "154   <--x-->   154\n",
      "SAVING!!!!!\n",
      "154   <--x-->   154\n",
      "SAVING!!!!!\n",
      "154   <--x-->   155\n",
      "402  from index\n",
      "155   <--x-->   155\n",
      "SAVING!!!!!\n",
      "155   <--x-->   155\n",
      "SAVING!!!!!\n",
      "155   <--x-->   155\n",
      "SAVING!!!!!\n",
      "155   <--x-->   156\n",
      "405  from index\n",
      "156   <--x-->   156\n",
      "SAVING!!!!!\n",
      "156   <--x-->   156\n",
      "SAVING!!!!!\n",
      "156   <--x-->   156\n",
      "SAVING!!!!!\n",
      "156   <--x-->   157\n",
      "408  from index\n",
      "157   <--x-->   157\n",
      "SAVING!!!!!\n",
      "157   <--x-->   157\n",
      "SAVING!!!!!\n",
      "157   <--x-->   157\n",
      "SAVING!!!!!\n",
      "157   <--x-->   158\n",
      "411  from index\n",
      "158   <--x-->   158\n",
      "SAVING!!!!!\n",
      "158   <--x-->   158\n",
      "SAVING!!!!!\n",
      "158   <--x-->   158\n",
      "SAVING!!!!!\n",
      "158   <--x-->   159\n",
      "414  from index\n",
      "159   <--x-->   159\n",
      "SAVING!!!!!\n",
      "159   <--x-->   159\n",
      "SAVING!!!!!\n",
      "159   <--x-->   159\n",
      "SAVING!!!!!\n",
      "159   <--x-->   159\n",
      "SAVING!!!!!\n",
      "159   <--x-->   160\n",
      "418  from index\n",
      "160   <--x-->   160\n",
      "SAVING!!!!!\n",
      "160   <--x-->   160\n",
      "SAVING!!!!!\n",
      "160   <--x-->   160\n",
      "SAVING!!!!!\n",
      "160   <--x-->   160\n",
      "SAVING!!!!!\n",
      "160   <--x-->   161\n",
      "422  from index\n",
      "161   <--x-->   161\n",
      "SAVING!!!!!\n",
      "161   <--x-->   161\n",
      "SAVING!!!!!\n",
      "161   <--x-->   161\n",
      "SAVING!!!!!\n",
      "161   <--x-->   161\n",
      "SAVING!!!!!\n",
      "161   <--x-->   162\n",
      "426  from index\n",
      "162   <--x-->   162\n",
      "SAVING!!!!!\n",
      "162   <--x-->   162\n",
      "SAVING!!!!!\n",
      "162   <--x-->   162\n",
      "SAVING!!!!!\n",
      "162   <--x-->   162\n",
      "SAVING!!!!!\n",
      "162   <--x-->   163\n",
      "430  from index\n",
      "163   <--x-->   163\n",
      "SAVING!!!!!\n",
      "163   <--x-->   163\n",
      "SAVING!!!!!\n",
      "163   <--x-->   163\n",
      "SAVING!!!!!\n",
      "163   <--x-->   163\n",
      "SAVING!!!!!\n",
      "163   <--x-->   164\n",
      "434  from index\n",
      "164   <--x-->   164\n",
      "SAVING!!!!!\n",
      "164   <--x-->   164\n",
      "SAVING!!!!!\n",
      "164   <--x-->   164\n",
      "SAVING!!!!!\n",
      "164   <--x-->   165\n",
      "437  from index\n",
      "165   <--x-->   165\n",
      "SAVING!!!!!\n",
      "165   <--x-->   165\n",
      "SAVING!!!!!\n",
      "165   <--x-->   165\n",
      "SAVING!!!!!\n",
      "165   <--x-->   166\n",
      "440  from index\n",
      "166   <--x-->   166\n",
      "SAVING!!!!!\n",
      "166   <--x-->   166\n",
      "SAVING!!!!!\n",
      "166   <--x-->   166\n",
      "SAVING!!!!!\n",
      "166   <--x-->   167\n",
      "443  from index\n",
      "167   <--x-->   167\n",
      "SAVING!!!!!\n",
      "167   <--x-->   167\n",
      "SAVING!!!!!\n",
      "167   <--x-->   167\n",
      "SAVING!!!!!\n",
      "167   <--x-->   168\n",
      "446  from index\n",
      "168   <--x-->   168\n",
      "SAVING!!!!!\n",
      "168   <--x-->   168\n",
      "SAVING!!!!!\n",
      "168   <--x-->   168\n",
      "SAVING!!!!!\n",
      "168   <--x-->   169\n",
      "449  from index\n",
      "169   <--x-->   169\n",
      "SAVING!!!!!\n",
      "169   <--x-->   169\n",
      "SAVING!!!!!\n",
      "169   <--x-->   169\n",
      "SAVING!!!!!\n",
      "169   <--x-->   169\n",
      "SAVING!!!!!\n",
      "169   <--x-->   170\n",
      "453  from index\n",
      "170   <--x-->   170\n",
      "SAVING!!!!!\n",
      "170   <--x-->   170\n",
      "SAVING!!!!!\n",
      "170   <--x-->   170\n",
      "SAVING!!!!!\n",
      "170   <--x-->   170\n",
      "SAVING!!!!!\n",
      "170   <--x-->   171\n",
      "457  from index\n",
      "171   <--x-->   171\n",
      "SAVING!!!!!\n",
      "171   <--x-->   171\n",
      "SAVING!!!!!\n",
      "171   <--x-->   171\n",
      "SAVING!!!!!\n",
      "171   <--x-->   171\n",
      "SAVING!!!!!\n",
      "171   <--x-->   172\n",
      "461  from index\n",
      "172   <--x-->   172\n",
      "SAVING!!!!!\n",
      "172   <--x-->   172\n",
      "SAVING!!!!!\n",
      "172   <--x-->   172\n",
      "SAVING!!!!!\n",
      "172   <--x-->   172\n",
      "SAVING!!!!!\n",
      "172   <--x-->   173\n",
      "465  from index\n",
      "173   <--x-->   173\n",
      "SAVING!!!!!\n",
      "173   <--x-->   173\n",
      "SAVING!!!!!\n",
      "173   <--x-->   173\n",
      "SAVING!!!!!\n",
      "173   <--x-->   173\n",
      "SAVING!!!!!\n",
      "173   <--x-->   174\n",
      "469  from index\n",
      "174   <--x-->   174\n",
      "SAVING!!!!!\n",
      "174   <--x-->   174\n",
      "SAVING!!!!!\n",
      "174   <--x-->   174\n",
      "SAVING!!!!!\n",
      "174   <--x-->   175\n",
      "472  from index\n",
      "175   <--x-->   175\n",
      "SAVING!!!!!\n",
      "175   <--x-->   175\n",
      "SAVING!!!!!\n",
      "175   <--x-->   175\n",
      "SAVING!!!!!\n",
      "175   <--x-->   176\n",
      "475  from index\n",
      "176   <--x-->   176\n",
      "SAVING!!!!!\n",
      "176   <--x-->   176\n",
      "SAVING!!!!!\n",
      "176   <--x-->   176\n",
      "SAVING!!!!!\n",
      "176   <--x-->   177\n",
      "478  from index\n",
      "177   <--x-->   177\n",
      "SAVING!!!!!\n",
      "177   <--x-->   177\n",
      "SAVING!!!!!\n",
      "177   <--x-->   177\n",
      "SAVING!!!!!\n",
      "177   <--x-->   178\n",
      "481  from index\n",
      "178   <--x-->   178\n",
      "SAVING!!!!!\n",
      "178   <--x-->   178\n",
      "SAVING!!!!!\n",
      "178   <--x-->   178\n",
      "SAVING!!!!!\n",
      "178   <--x-->   179\n",
      "484  from index\n",
      "179   <--x-->   179\n",
      "SAVING!!!!!\n",
      "179   <--x-->   179\n",
      "SAVING!!!!!\n",
      "179   <--x-->   179\n",
      "SAVING!!!!!\n",
      "179   <--x-->   180\n",
      "487  from index\n",
      "180   <--x-->   180\n",
      "SAVING!!!!!\n",
      "180   <--x-->   180\n",
      "SAVING!!!!!\n",
      "180   <--x-->   180\n",
      "SAVING!!!!!\n",
      "180   <--x-->   181\n",
      "490  from index\n",
      "181   <--x-->   181\n",
      "SAVING!!!!!\n",
      "181   <--x-->   181\n",
      "SAVING!!!!!\n",
      "181   <--x-->   181\n",
      "SAVING!!!!!\n",
      "181   <--x-->   181\n",
      "SAVING!!!!!\n",
      "181   <--x-->   182\n",
      "494  from index\n",
      "182   <--x-->   182\n",
      "SAVING!!!!!\n",
      "182   <--x-->   182\n",
      "SAVING!!!!!\n",
      "182   <--x-->   182\n",
      "SAVING!!!!!\n",
      "182   <--x-->   182\n",
      "SAVING!!!!!\n",
      "182   <--x-->   183\n",
      "498  from index\n",
      "183   <--x-->   183\n",
      "SAVING!!!!!\n",
      "183   <--x-->   183\n",
      "SAVING!!!!!\n",
      "183   <--x-->   183\n",
      "SAVING!!!!!\n",
      "183   <--x-->   183\n",
      "SAVING!!!!!\n",
      "183   <--x-->   184\n",
      "502  from index\n",
      "184   <--x-->   184\n",
      "SAVING!!!!!\n",
      "184   <--x-->   184\n",
      "SAVING!!!!!\n",
      "184   <--x-->   184\n",
      "SAVING!!!!!\n",
      "184   <--x-->   185\n",
      "505  from index\n",
      "185   <--x-->   185\n",
      "SAVING!!!!!\n",
      "185   <--x-->   185\n",
      "SAVING!!!!!\n",
      "185   <--x-->   185\n",
      "SAVING!!!!!\n",
      "185   <--x-->   186\n",
      "508  from index\n",
      "186   <--x-->   186\n",
      "SAVING!!!!!\n",
      "186   <--x-->   186\n",
      "SAVING!!!!!\n",
      "186   <--x-->   186\n",
      "SAVING!!!!!\n",
      "186   <--x-->   187\n",
      "511  from index\n",
      "187   <--x-->   187\n",
      "SAVING!!!!!\n",
      "187   <--x-->   187\n",
      "SAVING!!!!!\n",
      "187   <--x-->   187\n",
      "SAVING!!!!!\n",
      "187   <--x-->   188\n",
      "514  from index\n",
      "188   <--x-->   188\n",
      "SAVING!!!!!\n",
      "188   <--x-->   188\n",
      "SAVING!!!!!\n",
      "188   <--x-->   188\n",
      "SAVING!!!!!\n",
      "188   <--x-->   189\n",
      "517  from index\n",
      "189   <--x-->   189\n",
      "SAVING!!!!!\n",
      "189   <--x-->   189\n",
      "SAVING!!!!!\n",
      "189   <--x-->   189\n",
      "SAVING!!!!!\n",
      "189   <--x-->   190\n",
      "520  from index\n",
      "190   <--x-->   190\n",
      "SAVING!!!!!\n",
      "190   <--x-->   190\n",
      "SAVING!!!!!\n",
      "190   <--x-->   190\n",
      "SAVING!!!!!\n",
      "190   <--x-->   191\n",
      "523  from index\n",
      "191   <--x-->   191\n",
      "SAVING!!!!!\n",
      "191   <--x-->   191\n",
      "SAVING!!!!!\n",
      "191   <--x-->   191\n",
      "SAVING!!!!!\n",
      "191   <--x-->   191\n",
      "SAVING!!!!!\n",
      "191   <--x-->   192\n",
      "527  from index\n",
      "192   <--x-->   192\n",
      "SAVING!!!!!\n",
      "192   <--x-->   192\n",
      "SAVING!!!!!\n",
      "192   <--x-->   192\n",
      "SAVING!!!!!\n",
      "192   <--x-->   192\n",
      "SAVING!!!!!\n",
      "192   <--x-->   193\n",
      "531  from index\n",
      "193   <--x-->   193\n",
      "SAVING!!!!!\n",
      "193   <--x-->   193\n",
      "SAVING!!!!!\n",
      "193   <--x-->   193\n",
      "SAVING!!!!!\n",
      "193   <--x-->   193\n",
      "SAVING!!!!!\n",
      "193   <--x-->   194\n",
      "535  from index\n",
      "194   <--x-->   194\n",
      "SAVING!!!!!\n",
      "194   <--x-->   194\n",
      "SAVING!!!!!\n",
      "194   <--x-->   194\n",
      "SAVING!!!!!\n",
      "194   <--x-->   194\n",
      "SAVING!!!!!\n",
      "194   <--x-->   195\n",
      "539  from index\n",
      "195   <--x-->   195\n",
      "SAVING!!!!!\n",
      "195   <--x-->   195\n",
      "SAVING!!!!!\n",
      "195   <--x-->   195\n",
      "SAVING!!!!!\n",
      "195   <--x-->   196\n",
      "542  from index\n",
      "196   <--x-->   196\n",
      "SAVING!!!!!\n",
      "196   <--x-->   196\n",
      "SAVING!!!!!\n",
      "196   <--x-->   196\n",
      "SAVING!!!!!\n",
      "196   <--x-->   197\n",
      "545  from index\n",
      "197   <--x-->   197\n",
      "SAVING!!!!!\n",
      "197   <--x-->   197\n",
      "SAVING!!!!!\n",
      "197   <--x-->   197\n",
      "SAVING!!!!!\n",
      "197   <--x-->   198\n",
      "548  from index\n",
      "198   <--x-->   198\n",
      "SAVING!!!!!\n",
      "198   <--x-->   198\n",
      "SAVING!!!!!\n",
      "198   <--x-->   198\n",
      "SAVING!!!!!\n",
      "198   <--x-->   199\n",
      "551  from index\n",
      "199   <--x-->   199\n",
      "SAVING!!!!!\n",
      "199   <--x-->   199\n",
      "SAVING!!!!!\n",
      "199   <--x-->   199\n",
      "SAVING!!!!!\n",
      "199   <--x-->   200\n",
      "554  from index\n",
      "200   <--x-->   200\n",
      "SAVING!!!!!\n",
      "200   <--x-->   200\n",
      "SAVING!!!!!\n",
      "200   <--x-->   200\n",
      "SAVING!!!!!\n",
      "200   <--x-->   201\n",
      "557  from index\n",
      "201   <--x-->   201\n",
      "SAVING!!!!!\n",
      "201   <--x-->   201\n",
      "SAVING!!!!!\n",
      "201   <--x-->   201\n",
      "SAVING!!!!!\n",
      "201   <--x-->   202\n",
      "560  from index\n",
      "202   <--x-->   202\n",
      "SAVING!!!!!\n",
      "202   <--x-->   202\n",
      "SAVING!!!!!\n",
      "202   <--x-->   202\n",
      "SAVING!!!!!\n",
      "202   <--x-->   202\n",
      "SAVING!!!!!\n",
      "202   <--x-->   203\n",
      "564  from index\n",
      "203   <--x-->   203\n",
      "SAVING!!!!!\n",
      "203   <--x-->   203\n",
      "SAVING!!!!!\n",
      "203   <--x-->   203\n",
      "SAVING!!!!!\n",
      "203   <--x-->   203\n",
      "SAVING!!!!!\n",
      "203   <--x-->   204\n",
      "568  from index\n",
      "204   <--x-->   204\n",
      "SAVING!!!!!\n",
      "204   <--x-->   204\n",
      "SAVING!!!!!\n",
      "204   <--x-->   204\n",
      "SAVING!!!!!\n",
      "204   <--x-->   204\n",
      "SAVING!!!!!\n",
      "204   <--x-->   205\n",
      "572  from index\n",
      "205   <--x-->   205\n",
      "SAVING!!!!!\n",
      "205   <--x-->   205\n",
      "SAVING!!!!!\n",
      "205   <--x-->   205\n",
      "SAVING!!!!!\n",
      "205   <--x-->   205\n",
      "SAVING!!!!!\n",
      "205   <--x-->   206\n",
      "576  from index\n",
      "206   <--x-->   206\n",
      "SAVING!!!!!\n",
      "206   <--x-->   206\n",
      "SAVING!!!!!\n",
      "206   <--x-->   206\n",
      "SAVING!!!!!\n",
      "206   <--x-->   207\n",
      "579  from index\n",
      "207   <--x-->   207\n",
      "SAVING!!!!!\n",
      "207   <--x-->   207\n",
      "SAVING!!!!!\n",
      "207   <--x-->   207\n",
      "SAVING!!!!!\n",
      "207   <--x-->   208\n",
      "582  from index\n",
      "208   <--x-->   208\n",
      "SAVING!!!!!\n",
      "208   <--x-->   208\n",
      "SAVING!!!!!\n",
      "208   <--x-->   208\n",
      "SAVING!!!!!\n",
      "208   <--x-->   209\n",
      "585  from index\n",
      "209   <--x-->   209\n",
      "SAVING!!!!!\n",
      "209   <--x-->   209\n",
      "SAVING!!!!!\n",
      "209   <--x-->   209\n",
      "SAVING!!!!!\n",
      "209   <--x-->   210\n",
      "588  from index\n",
      "210   <--x-->   210\n",
      "SAVING!!!!!\n",
      "210   <--x-->   210\n",
      "SAVING!!!!!\n",
      "210   <--x-->   210\n",
      "SAVING!!!!!\n",
      "210   <--x-->   211\n",
      "591  from index\n",
      "211   <--x-->   211\n",
      "SAVING!!!!!\n",
      "211   <--x-->   211\n",
      "SAVING!!!!!\n",
      "211   <--x-->   211\n",
      "SAVING!!!!!\n",
      "211   <--x-->   212\n",
      "594  from index\n",
      "212   <--x-->   212\n",
      "SAVING!!!!!\n",
      "212   <--x-->   212\n",
      "SAVING!!!!!\n",
      "212   <--x-->   212\n",
      "SAVING!!!!!\n",
      "212   <--x-->   213\n",
      "597  from index\n",
      "213   <--x-->   213\n",
      "SAVING!!!!!\n",
      "213   <--x-->   213\n",
      "SAVING!!!!!\n",
      "213   <--x-->   213\n",
      "SAVING!!!!!\n",
      "213   <--x-->   213\n",
      "SAVING!!!!!\n",
      "213   <--x-->   214\n",
      "601  from index\n",
      "214   <--x-->   214\n",
      "SAVING!!!!!\n",
      "214   <--x-->   214\n",
      "SAVING!!!!!\n",
      "214   <--x-->   214\n",
      "SAVING!!!!!\n",
      "214   <--x-->   214\n",
      "SAVING!!!!!\n",
      "214   <--x-->   215\n",
      "605  from index\n",
      "215   <--x-->   215\n",
      "SAVING!!!!!\n",
      "215   <--x-->   215\n",
      "SAVING!!!!!\n",
      "215   <--x-->   215\n",
      "SAVING!!!!!\n",
      "215   <--x-->   215\n",
      "SAVING!!!!!\n",
      "215   <--x-->   216\n",
      "609  from index\n",
      "216   <--x-->   216\n",
      "SAVING!!!!!\n",
      "216   <--x-->   216\n",
      "SAVING!!!!!\n",
      "216   <--x-->   216\n",
      "SAVING!!!!!\n",
      "216   <--x-->   217\n",
      "612  from index\n",
      "217   <--x-->   217\n",
      "SAVING!!!!!\n",
      "217   <--x-->   217\n",
      "SAVING!!!!!\n",
      "217   <--x-->   217\n",
      "SAVING!!!!!\n",
      "217   <--x-->   218\n",
      "615  from index\n",
      "218   <--x-->   218\n",
      "SAVING!!!!!\n",
      "218   <--x-->   218\n",
      "SAVING!!!!!\n",
      "218   <--x-->   218\n",
      "SAVING!!!!!\n",
      "218   <--x-->   219\n",
      "618  from index\n",
      "219   <--x-->   219\n",
      "SAVING!!!!!\n",
      "219   <--x-->   219\n",
      "SAVING!!!!!\n",
      "219   <--x-->   219\n",
      "SAVING!!!!!\n",
      "219   <--x-->   220\n",
      "621  from index\n",
      "220   <--x-->   220\n",
      "SAVING!!!!!\n",
      "220   <--x-->   220\n",
      "SAVING!!!!!\n",
      "220   <--x-->   220\n",
      "SAVING!!!!!\n",
      "220   <--x-->   221\n",
      "624  from index\n",
      "221   <--x-->   221\n",
      "SAVING!!!!!\n",
      "221   <--x-->   221\n",
      "SAVING!!!!!\n",
      "221   <--x-->   221\n",
      "SAVING!!!!!\n",
      "221   <--x-->   222\n",
      "627  from index\n",
      "222   <--x-->   222\n",
      "SAVING!!!!!\n",
      "222   <--x-->   222\n",
      "SAVING!!!!!\n",
      "222   <--x-->   222\n",
      "SAVING!!!!!\n",
      "222   <--x-->   223\n",
      "630  from index\n",
      "223   <--x-->   223\n",
      "SAVING!!!!!\n",
      "223   <--x-->   223\n",
      "SAVING!!!!!\n",
      "223   <--x-->   223\n",
      "SAVING!!!!!\n",
      "223   <--x-->   223\n",
      "SAVING!!!!!\n",
      "223   <--x-->   224\n",
      "634  from index\n",
      "224   <--x-->   224\n",
      "SAVING!!!!!\n",
      "224   <--x-->   224\n",
      "SAVING!!!!!\n",
      "224   <--x-->   224\n",
      "SAVING!!!!!\n",
      "224   <--x-->   224\n",
      "SAVING!!!!!\n",
      "224   <--x-->   225\n",
      "638  from index\n",
      "225   <--x-->   225\n",
      "SAVING!!!!!\n",
      "225   <--x-->   225\n",
      "SAVING!!!!!\n",
      "225   <--x-->   225\n",
      "SAVING!!!!!\n",
      "225   <--x-->   225\n",
      "SAVING!!!!!\n",
      "225   <--x-->   226\n",
      "642  from index\n",
      "226   <--x-->   226\n",
      "SAVING!!!!!\n",
      "226   <--x-->   226\n",
      "SAVING!!!!!\n",
      "226   <--x-->   226\n",
      "SAVING!!!!!\n",
      "226   <--x-->   227\n",
      "645  from index\n",
      "227   <--x-->   227\n",
      "SAVING!!!!!\n",
      "227   <--x-->   227\n",
      "SAVING!!!!!\n",
      "227   <--x-->   227\n",
      "SAVING!!!!!\n",
      "227   <--x-->   228\n",
      "648  from index\n",
      "228   <--x-->   228\n",
      "SAVING!!!!!\n",
      "228   <--x-->   228\n",
      "SAVING!!!!!\n",
      "228   <--x-->   228\n",
      "SAVING!!!!!\n",
      "228   <--x-->   229\n",
      "651  from index\n",
      "229   <--x-->   229\n",
      "SAVING!!!!!\n",
      "229   <--x-->   229\n",
      "SAVING!!!!!\n",
      "229   <--x-->   229\n",
      "SAVING!!!!!\n",
      "229   <--x-->   230\n",
      "654  from index\n",
      "230   <--x-->   230\n",
      "SAVING!!!!!\n",
      "230   <--x-->   230\n",
      "SAVING!!!!!\n",
      "230   <--x-->   230\n",
      "SAVING!!!!!\n",
      "230   <--x-->   231\n",
      "657  from index\n",
      "231   <--x-->   231\n",
      "SAVING!!!!!\n",
      "231   <--x-->   231\n",
      "SAVING!!!!!\n",
      "231   <--x-->   231\n",
      "SAVING!!!!!\n",
      "231   <--x-->   232\n",
      "660  from index\n",
      "232   <--x-->   232\n",
      "SAVING!!!!!\n",
      "232   <--x-->   232\n",
      "SAVING!!!!!\n",
      "232   <--x-->   232\n",
      "SAVING!!!!!\n",
      "232   <--x-->   233\n",
      "663  from index\n",
      "233   <--x-->   233\n",
      "SAVING!!!!!\n",
      "233   <--x-->   233\n",
      "SAVING!!!!!\n",
      "233   <--x-->   233\n",
      "SAVING!!!!!\n",
      "233   <--x-->   234\n",
      "666  from index\n",
      "234   <--x-->   234\n",
      "SAVING!!!!!\n",
      "234   <--x-->   234\n",
      "SAVING!!!!!\n",
      "234   <--x-->   234\n",
      "SAVING!!!!!\n",
      "234   <--x-->   234\n",
      "SAVING!!!!!\n",
      "234   <--x-->   235\n",
      "670  from index\n",
      "235   <--x-->   235\n",
      "SAVING!!!!!\n",
      "235   <--x-->   235\n",
      "SAVING!!!!!\n",
      "235   <--x-->   235\n",
      "SAVING!!!!!\n",
      "235   <--x-->   235\n",
      "SAVING!!!!!\n",
      "235   <--x-->   236\n",
      "674  from index\n",
      "236   <--x-->   236\n",
      "SAVING!!!!!\n",
      "236   <--x-->   236\n",
      "SAVING!!!!!\n",
      "236   <--x-->   236\n",
      "SAVING!!!!!\n",
      "236   <--x-->   236\n",
      "SAVING!!!!!\n",
      "236   <--x-->   237\n",
      "678  from index\n",
      "237   <--x-->   237\n",
      "SAVING!!!!!\n",
      "237   <--x-->   237\n",
      "SAVING!!!!!\n",
      "237   <--x-->   237\n",
      "SAVING!!!!!\n",
      "237   <--x-->   237\n",
      "SAVING!!!!!\n",
      "237   <--x-->   238\n",
      "682  from index\n",
      "238   <--x-->   238\n",
      "SAVING!!!!!\n",
      "238   <--x-->   238\n",
      "SAVING!!!!!\n",
      "238   <--x-->   238\n",
      "SAVING!!!!!\n",
      "238   <--x-->   238\n",
      "SAVING!!!!!\n",
      "238   <--x-->   239\n",
      "686  from index\n",
      "239   <--x-->   239\n",
      "SAVING!!!!!\n",
      "239   <--x-->   239\n",
      "SAVING!!!!!\n",
      "239   <--x-->   239\n",
      "SAVING!!!!!\n",
      "239   <--x-->   240\n",
      "689  from index\n",
      "240   <--x-->   240\n",
      "SAVING!!!!!\n",
      "240   <--x-->   240\n",
      "SAVING!!!!!\n",
      "240   <--x-->   240\n",
      "SAVING!!!!!\n",
      "240   <--x-->   241\n",
      "692  from index\n",
      "241   <--x-->   241\n",
      "SAVING!!!!!\n",
      "241   <--x-->   241\n",
      "SAVING!!!!!\n",
      "241   <--x-->   241\n",
      "SAVING!!!!!\n",
      "241   <--x-->   242\n",
      "695  from index\n",
      "242   <--x-->   242\n",
      "SAVING!!!!!\n",
      "242   <--x-->   242\n",
      "SAVING!!!!!\n",
      "242   <--x-->   242\n",
      "SAVING!!!!!\n",
      "242   <--x-->   243\n",
      "698  from index\n",
      "243   <--x-->   243\n",
      "SAVING!!!!!\n",
      "243   <--x-->   243\n",
      "SAVING!!!!!\n",
      "243   <--x-->   243\n",
      "SAVING!!!!!\n",
      "243   <--x-->   244\n",
      "701  from index\n",
      "244   <--x-->   244\n",
      "SAVING!!!!!\n",
      "244   <--x-->   244\n",
      "SAVING!!!!!\n",
      "244   <--x-->   244\n",
      "SAVING!!!!!\n",
      "244   <--x-->   244\n",
      "SAVING!!!!!\n",
      "244   <--x-->   245\n",
      "705  from index\n",
      "245   <--x-->   245\n",
      "SAVING!!!!!\n",
      "245   <--x-->   245\n",
      "SAVING!!!!!\n",
      "245   <--x-->   245\n",
      "SAVING!!!!!\n",
      "245   <--x-->   245\n",
      "SAVING!!!!!\n",
      "245   <--x-->   246\n",
      "709  from index\n",
      "246   <--x-->   246\n",
      "SAVING!!!!!\n",
      "246   <--x-->   246\n",
      "SAVING!!!!!\n",
      "246   <--x-->   246\n",
      "SAVING!!!!!\n",
      "246   <--x-->   246\n",
      "SAVING!!!!!\n",
      "246   <--x-->   247\n",
      "713  from index\n",
      "247   <--x-->   247\n",
      "SAVING!!!!!\n",
      "247   <--x-->   247\n",
      "SAVING!!!!!\n",
      "247   <--x-->   247\n",
      "SAVING!!!!!\n",
      "247   <--x-->   248\n",
      "716  from index\n",
      "248   <--x-->   248\n",
      "SAVING!!!!!\n",
      "248   <--x-->   248\n",
      "SAVING!!!!!\n",
      "248   <--x-->   248\n",
      "SAVING!!!!!\n",
      "248   <--x-->   249\n",
      "719  from index\n",
      "249   <--x-->   249\n",
      "SAVING!!!!!\n",
      "249   <--x-->   249\n",
      "SAVING!!!!!\n",
      "249   <--x-->   249\n",
      "SAVING!!!!!\n",
      "249   <--x-->   250\n",
      "722  from index\n",
      "250   <--x-->   250\n",
      "SAVING!!!!!\n",
      "250   <--x-->   250\n",
      "SAVING!!!!!\n",
      "250   <--x-->   250\n",
      "SAVING!!!!!\n",
      "250   <--x-->   251\n",
      "725  from index\n",
      "251   <--x-->   251\n",
      "SAVING!!!!!\n",
      "251   <--x-->   251\n",
      "SAVING!!!!!\n",
      "251   <--x-->   251\n",
      "SAVING!!!!!\n",
      "251   <--x-->   252\n",
      "728  from index\n",
      "252   <--x-->   252\n",
      "SAVING!!!!!\n",
      "252   <--x-->   252\n",
      "SAVING!!!!!\n",
      "252   <--x-->   252\n",
      "SAVING!!!!!\n",
      "252   <--x-->   253\n",
      "731  from index\n",
      "253   <--x-->   253\n",
      "SAVING!!!!!\n",
      "253   <--x-->   253\n",
      "SAVING!!!!!\n",
      "253   <--x-->   253\n",
      "SAVING!!!!!\n",
      "253   <--x-->   254\n",
      "734  from index\n",
      "254   <--x-->   254\n",
      "SAVING!!!!!\n",
      "254   <--x-->   254\n",
      "SAVING!!!!!\n",
      "254   <--x-->   254\n",
      "SAVING!!!!!\n",
      "254   <--x-->   255\n",
      "737  from index\n",
      "255   <--x-->   255\n",
      "SAVING!!!!!\n",
      "255   <--x-->   255\n",
      "SAVING!!!!!\n",
      "255   <--x-->   255\n",
      "SAVING!!!!!\n",
      "255   <--x-->   256\n",
      "740  from index\n",
      "256   <--x-->   256\n",
      "SAVING!!!!!\n",
      "256   <--x-->   256\n",
      "SAVING!!!!!\n",
      "256   <--x-->   256\n",
      "SAVING!!!!!\n",
      "256   <--x-->   256\n",
      "SAVING!!!!!\n",
      "256   <--x-->   257\n",
      "744  from index\n",
      "257   <--x-->   257\n",
      "SAVING!!!!!\n",
      "257   <--x-->   257\n",
      "SAVING!!!!!\n",
      "257   <--x-->   257\n",
      "SAVING!!!!!\n",
      "257   <--x-->   257\n",
      "SAVING!!!!!\n",
      "257   <--x-->   258\n",
      "748  from index\n",
      "258   <--x-->   258\n",
      "SAVING!!!!!\n",
      "258   <--x-->   258\n",
      "SAVING!!!!!\n",
      "258   <--x-->   258\n",
      "SAVING!!!!!\n",
      "258   <--x-->   258\n",
      "SAVING!!!!!\n",
      "258   <--x-->   259\n",
      "752  from index\n",
      "259   <--x-->   259\n",
      "SAVING!!!!!\n",
      "259   <--x-->   259\n",
      "SAVING!!!!!\n",
      "259   <--x-->   259\n",
      "SAVING!!!!!\n",
      "259   <--x-->   259\n",
      "SAVING!!!!!\n",
      "259   <--x-->   260\n",
      "756  from index\n",
      "260   <--x-->   260\n",
      "SAVING!!!!!\n",
      "260   <--x-->   260\n",
      "SAVING!!!!!\n",
      "260   <--x-->   260\n",
      "SAVING!!!!!\n",
      "260   <--x-->   261\n",
      "759  from index\n",
      "261   <--x-->   261\n",
      "SAVING!!!!!\n",
      "261   <--x-->   261\n",
      "SAVING!!!!!\n",
      "261   <--x-->   261\n",
      "SAVING!!!!!\n",
      "261   <--x-->   262\n",
      "762  from index\n",
      "262   <--x-->   262\n",
      "SAVING!!!!!\n",
      "262   <--x-->   262\n",
      "SAVING!!!!!\n",
      "262   <--x-->   262\n",
      "SAVING!!!!!\n",
      "262   <--x-->   263\n",
      "765  from index\n",
      "263   <--x-->   263\n",
      "SAVING!!!!!\n",
      "263   <--x-->   263\n",
      "SAVING!!!!!\n",
      "263   <--x-->   263\n",
      "SAVING!!!!!\n",
      "263   <--x-->   264\n",
      "768  from index\n",
      "264   <--x-->   264\n",
      "SAVING!!!!!\n",
      "264   <--x-->   264\n",
      "SAVING!!!!!\n",
      "264   <--x-->   264\n",
      "SAVING!!!!!\n",
      "264   <--x-->   264\n",
      "SAVING!!!!!\n",
      "264   <--x-->   265\n",
      "772  from index\n",
      "265   <--x-->   265\n",
      "SAVING!!!!!\n",
      "265   <--x-->   265\n",
      "SAVING!!!!!\n",
      "265   <--x-->   265\n",
      "SAVING!!!!!\n",
      "265   <--x-->   265\n",
      "SAVING!!!!!\n",
      "265   <--x-->   266\n",
      "776  from index\n",
      "266   <--x-->   266\n",
      "SAVING!!!!!\n",
      "266   <--x-->   266\n",
      "SAVING!!!!!\n",
      "266   <--x-->   266\n",
      "SAVING!!!!!\n",
      "266   <--x-->   266\n",
      "SAVING!!!!!\n",
      "266   <--x-->   267\n",
      "780  from index\n",
      "267   <--x-->   267\n",
      "SAVING!!!!!\n",
      "267   <--x-->   267\n",
      "SAVING!!!!!\n",
      "267   <--x-->   267\n",
      "SAVING!!!!!\n",
      "267   <--x-->   267\n",
      "SAVING!!!!!\n",
      "267   <--x-->   268\n",
      "784  from index\n",
      "268   <--x-->   268\n",
      "SAVING!!!!!\n",
      "268   <--x-->   268\n",
      "SAVING!!!!!\n",
      "268   <--x-->   268\n",
      "SAVING!!!!!\n",
      "268   <--x-->   268\n",
      "SAVING!!!!!\n",
      "268   <--x-->   269\n",
      "788  from index\n",
      "269   <--x-->   269\n",
      "SAVING!!!!!\n",
      "269   <--x-->   269\n",
      "SAVING!!!!!\n",
      "269   <--x-->   269\n",
      "SAVING!!!!!\n",
      "269   <--x-->   269\n",
      "SAVING!!!!!\n",
      "269   <--x-->   270\n",
      "792  from index\n",
      "270   <--x-->   270\n",
      "SAVING!!!!!\n",
      "270   <--x-->   270\n",
      "SAVING!!!!!\n",
      "270   <--x-->   270\n",
      "SAVING!!!!!\n",
      "270   <--x-->   271\n",
      "795  from index\n",
      "271   <--x-->   271\n",
      "SAVING!!!!!\n",
      "271   <--x-->   271\n",
      "SAVING!!!!!\n",
      "271   <--x-->   271\n",
      "SAVING!!!!!\n",
      "271   <--x-->   272\n",
      "798  from index\n",
      "272   <--x-->   272\n",
      "SAVING!!!!!\n",
      "272   <--x-->   272\n",
      "SAVING!!!!!\n",
      "272   <--x-->   272\n",
      "SAVING!!!!!\n",
      "272   <--x-->   273\n",
      "801  from index\n",
      "273   <--x-->   273\n",
      "SAVING!!!!!\n",
      "273   <--x-->   273\n",
      "SAVING!!!!!\n",
      "273   <--x-->   273\n",
      "SAVING!!!!!\n",
      "273   <--x-->   274\n",
      "804  from index\n",
      "274   <--x-->   274\n",
      "SAVING!!!!!\n",
      "274   <--x-->   274\n",
      "SAVING!!!!!\n",
      "274   <--x-->   274\n",
      "SAVING!!!!!\n",
      "274   <--x-->   275\n",
      "807  from index\n",
      "275   <--x-->   275\n",
      "SAVING!!!!!\n",
      "275   <--x-->   275\n",
      "SAVING!!!!!\n",
      "275   <--x-->   275\n",
      "SAVING!!!!!\n",
      "275   <--x-->   276\n",
      "810  from index\n",
      "276   <--x-->   276\n",
      "SAVING!!!!!\n",
      "276   <--x-->   276\n",
      "SAVING!!!!!\n",
      "276   <--x-->   276\n",
      "SAVING!!!!!\n",
      "276   <--x-->   276\n",
      "SAVING!!!!!\n",
      "276   <--x-->   277\n",
      "814  from index\n",
      "277   <--x-->   277\n",
      "SAVING!!!!!\n",
      "277   <--x-->   277\n",
      "SAVING!!!!!\n",
      "277   <--x-->   277\n",
      "SAVING!!!!!\n",
      "277   <--x-->   277\n",
      "SAVING!!!!!\n",
      "277   <--x-->   278\n",
      "818  from index\n",
      "278   <--x-->   278\n",
      "SAVING!!!!!\n",
      "278   <--x-->   278\n",
      "SAVING!!!!!\n",
      "278   <--x-->   278\n",
      "SAVING!!!!!\n",
      "278   <--x-->   278\n",
      "SAVING!!!!!\n",
      "278   <--x-->   279\n",
      "822  from index\n",
      "279   <--x-->   279\n",
      "SAVING!!!!!\n",
      "279   <--x-->   279\n",
      "SAVING!!!!!\n",
      "279   <--x-->   279\n",
      "SAVING!!!!!\n",
      "279   <--x-->   279\n",
      "SAVING!!!!!\n",
      "279   <--x-->   280\n",
      "826  from index\n",
      "280   <--x-->   280\n",
      "SAVING!!!!!\n",
      "280   <--x-->   280\n",
      "SAVING!!!!!\n",
      "280   <--x-->   280\n",
      "SAVING!!!!!\n",
      "280   <--x-->   280\n",
      "SAVING!!!!!\n",
      "280   <--x-->   281\n",
      "830  from index\n",
      "281   <--x-->   281\n",
      "SAVING!!!!!\n",
      "281   <--x-->   281\n",
      "SAVING!!!!!\n",
      "281   <--x-->   281\n",
      "SAVING!!!!!\n",
      "281   <--x-->   282\n",
      "833  from index\n",
      "282   <--x-->   282\n",
      "SAVING!!!!!\n",
      "282   <--x-->   282\n",
      "SAVING!!!!!\n",
      "282   <--x-->   282\n",
      "SAVING!!!!!\n",
      "282   <--x-->   283\n",
      "836  from index\n",
      "283   <--x-->   283\n",
      "SAVING!!!!!\n",
      "283   <--x-->   283\n",
      "SAVING!!!!!\n",
      "283   <--x-->   283\n",
      "SAVING!!!!!\n",
      "283   <--x-->   284\n",
      "839  from index\n",
      "284   <--x-->   284\n",
      "SAVING!!!!!\n",
      "284   <--x-->   284\n",
      "SAVING!!!!!\n",
      "284   <--x-->   284\n",
      "SAVING!!!!!\n",
      "284   <--x-->   285\n",
      "842  from index\n",
      "285   <--x-->   285\n",
      "SAVING!!!!!\n",
      "285   <--x-->   285\n",
      "SAVING!!!!!\n",
      "285   <--x-->   285\n",
      "SAVING!!!!!\n",
      "285   <--x-->   286\n",
      "845  from index\n",
      "286   <--x-->   286\n",
      "SAVING!!!!!\n",
      "286   <--x-->   286\n",
      "SAVING!!!!!\n",
      "286   <--x-->   286\n",
      "SAVING!!!!!\n",
      "286   <--x-->   287\n",
      "done  03_1fps_wwhite_otsu3\n"
     ]
    }
   ],
   "source": [
    "#mainfile\n",
    "thread_pool = []\n",
    "save_threads = []\n",
    "BLACK_CATTLE =0\n",
    "\n",
    "X1=200 #same as NEW_BLACK_X1\n",
    "X2=400 #same as NEW_BLACK_X2 # incase of x2 out of bound\n",
    "Y1=120\n",
    "Y2=500\n",
    "\n",
    "Y1_NEW=120 #125  #decrease here to extend, increase to shrink \n",
    "Y2_NEW=510  #500  # redyce here to extend , increase to do vice casa 460 previous\n",
    "FRAME = 1\n",
    "\n",
    "default=640\n",
    "\n",
    "BATCH = 100\n",
    "BATCH_COUNT = 1\n",
    "PREV_BATCH = 0\n",
    "\n",
    "LAST_SEEN = time.time()\n",
    "FIRST_SEEN = True\n",
    "demo_img_save_path = []\n",
    "main_df_lock = threading.Lock()\n",
    "\n",
    "\n",
    "#end\n",
    "prevId_record =[]\n",
    "MAX_prevId = [] \n",
    "MAX_xyxy1 = [] \n",
    "MAX_xyxy2 = [] \n",
    "MAX_xyxy3 = [] \n",
    "MAX_xyxy4 = [] \n",
    "MAX_orgId = []\n",
    "MAX_org_prod = []\n",
    "RANK_2 = []\n",
    "RANK_3 = []\n",
    "RANK_4 = []\n",
    "IMAGE_STORED_LOCATION = []\n",
    "IMAGE_ID_LIST = []\n",
    "LOCAL_ID_LIST = []\n",
    "#end\n",
    "#prevId_record =[]\n",
    "TOTAL_CATTLE_COUNT = 0 \n",
    "\n",
    "N_TOP = 5 # top predicted value \n",
    "\n",
    "#end\n",
    "\n",
    "#region Cattle Tracking\n",
    "STORED_IDS= []\n",
    "STORED_MID_Y = []\n",
    "STORED_MID_Y1 = []\n",
    "STORED_MID_Y2 = []\n",
    "STORED_MISS = []\n",
    "PREVIOUS_ID = [] # keep the record of last seen ids and position\n",
    "PREVIOUS_Y1 = [] \n",
    "PREVIOUS_Y2 = [] \n",
    "PREVIOUS_LOCAL_IDS = []\n",
    "CATTLE_LOCAL_ID= 1\n",
    "IS_FIRST_CATTLE = True\n",
    "\n",
    "UNKNOWN_CATTLE = 0\n",
    "start_time = time.time()\n",
    "\n",
    "MAIN_DF_COLUMNS = ['ImageId',\t'LocalId',\t'xyxy1',\t'xyxy2',\t'xyxy3',\t'xyxy4'] # using to store all cattle information in here instead of list\n",
    "MAIN_DF = pd.DataFrame(columns = MAIN_DF_COLUMNS)\n",
    "\n",
    "# Predict with the model\n",
    "project = 'D:/Python/SULarbmon/Python/env/yolov8_june/ultralytics/runs/segment/honkawa_1103_112_BWH_RANK_2_weights/July_31_2023/'\n",
    "name = '03_1fps_wwhite_otsu'\n",
    "dataset = \"D:\\\\815_CowDataChecking\\\\Honkawa\\\\2023-07-31\\\\03\\output_1fps\\\\20230731-030500-031000_10fps_1fps.mp4\"\n",
    "#save_vid_name=  dataset.split(\"\\\\\")[-1].replace('.mkv','_track')  #open this when running single video\n",
    "save_vid_name = dataset.split(\"\\\\\")[-1]+\"_track\" # open this when running multiple videos\n",
    "\n",
    "print(save_vid_name)\n",
    "results = model(dataset,imgsz=(960,640),save=False,retina_masks=False,show=False,stream=True,device='0',conf=0.3)\n",
    "#results = model('D:\\\\815_CowDataChecking\\\\20221228\\\\20221228_E_cow\\\\20221228_151533_D474.mkv',imgsz=1088,save=False,retina_masks=False,show=False,stream=True,device='0',conf=0.2)\n",
    "#save_dir = increment_path(Path(project) / name, exist_ok=True)  # increment run\n",
    "save_dir = increment_path(Path(project) / name,mkdir=True)\n",
    "csv_main_file_path = str(save_dir) + \"\\main_csv.csv\"\n",
    "#create_default_csv(csv_main_file_path)\n",
    "#(save_dir / 'labels' if False else save_dir).mkdir(parents=True, exist_ok=True)  # make dir\n",
    "manual_cow_count = 0\n",
    "\n",
    "#cap.set(4, 480)\n",
    "save_vid_path = str(Path(os.path.join(save_dir, save_vid_name)).with_suffix('.mp4'))\n",
    "print(save_vid_path)\n",
    "cap = cv2.VideoWriter(save_vid_path,cv2.VideoWriter_fourcc(*'mp4v'), 5, (960,640))\n",
    "skip_count = 2\n",
    "skip_track = 1\n",
    "image_count = 1\n",
    "\n",
    "SAVING_THRESHOLD =200\n",
    "SAVED_COUNT = 1\n",
    "\n",
    "CATTLE_SAVING_THRESHOLD = 15\n",
    "CATTLE_SAVED_COUNT = 0\n",
    "last_tracking_id = 0\n",
    "for result in results:\n",
    "    #if(skip_track==2) and False:\n",
    "    #    skip_track = 1\n",
    "    #    continue\n",
    "    #skip_track+=1\n",
    "    \n",
    "    #print(result.boxes)\n",
    "    vid_path = result.path\n",
    "    filename = vid_path.split(\"\\\\\")[-1].replace(\".mp4\",\"\")\n",
    "    \n",
    "    boxes = result.boxes.cpu().numpy()\n",
    "    detections = boxes.xyxy.tolist()\n",
    "    #print(detections)\n",
    "    # Sort the detections based on the x1 coordinate (i.e., left-to-right)\n",
    "    #detections.sort(key=lambda x: x[0])\n",
    "    left_to_right = GET_LEFT_TO_RIGHT_ORDER([t[0] for t in detections])\n",
    "    #print('xxxxxxxxxxxxxxxxxxxxxxxxxxxxxxxxxxxxxxxxx')\n",
    "    #print(left_to_right)\n",
    "    #print(detections)\n",
    "    \n",
    "    ori_img = cv2.resize(result.orig_img, (640,384), interpolation = cv2.INTER_AREA)\n",
    "    annotator = Annotator(ori_img)\n",
    "    box_count = 0\n",
    "    cow_position = 1\n",
    "    \n",
    "    h,w = result.orig_shape\n",
    "    count = 1\n",
    "    b_boxes = []\n",
    "    masks = []\n",
    "    ids = []\n",
    "    has_cattle = False\n",
    "    \n",
    "    if  result.masks != None:\n",
    "        \n",
    "        #result_masks = result.masks.cpu().numpy().masks.astype(bool)\n",
    "        #for m in result.masks.cpu().numpy().masks.astype(bool):\n",
    "        result_masks = result.masks.cpu().numpy().masks.astype(bool)\n",
    "        \n",
    "        for LR_index in left_to_right:\n",
    "            m = result_masks[LR_index]\n",
    "        #for i in range(1,len(result_masks)+1):\n",
    "        #for m in result.masks.masks.astype(bool):\n",
    "            \n",
    "            xyxy = boxes[LR_index].xyxy[0]\n",
    "            #print('LR  INDEX  ',LR_index)\n",
    "            #print(xyxy)\n",
    "        #   m = result_masks[-1]\n",
    "            #print(xyxy)\n",
    "            #print(m.shape)\n",
    "            box_count += 1\n",
    "            x1= int(xyxy[0])\n",
    "            y1= int(xyxy[1])\n",
    "            x2= int(xyxy[2])\n",
    "            y2= int(xyxy[3])\n",
    "            #print(xyxy)\n",
    "            #print(m.shape)\n",
    "            \n",
    "            ################## Validate  #####################\n",
    "            if(check_withinROI_NEW(x1,y1,x2,y2,h,w)==False):\n",
    "                #print(\"I was skipped\")\n",
    "                continue\n",
    "            #print(\"not skipped\")\n",
    "            has_cattle = True\n",
    "            #new_results.append(result)\n",
    "            box_left = x1\n",
    "            box_top = y1\n",
    "            box_w = x2 - x1\n",
    "            box_h = y2 - y1\n",
    "\n",
    "            new = np.zeros_like(ori_img, dtype=np.uint8)\n",
    "            new[m] = ori_img[m]\n",
    "            \n",
    "           \n",
    "            x1= int(x1 * (640/1920))\n",
    "            x2= int(x2 * (640/1920))\n",
    "            y1= int(y1 * (384/1080))\n",
    "            y2= int(y2 * (384/1080))\n",
    "\n",
    "            crop = new[y1:y2, x1:x2]\n",
    "            #cv2.imshow(\"Original Crop \",crop)\n",
    "            high = y2-y1\n",
    "            white_percentage = await calculate_white_pixel_percentage(crop)\n",
    "            crop = resize_image(crop, (high,high))\n",
    "            #cv2.imshow(\"Resize Crop \",crop)\n",
    "            img = cv2.resize(crop, (SIZE, SIZE))\n",
    "            img=img / 255.0\n",
    "            \n",
    "            ############# LABLE\n",
    "            \n",
    "            \n",
    "            \n",
    "            ###### LABEL\n",
    "            #img = cv2.resize(crop, (SIZE, SIZE))\n",
    "            #img=img / 255.0\n",
    "            #print(box_left,'    xxxxxx     ' ,box_w)\n",
    "            prev_id = Take_Prev_Label(box_left,box_w,cow_position) ## just passing x values instead of y\n",
    "          #########################################  \n",
    "            HAS_COW=True\n",
    "            #has_cattle = True\n",
    "            if(prev_id==-1): #skip cattle when prev_id // filter id is -1\n",
    "                if(count==1):\n",
    "                    has_seen_cattle=False\n",
    "                    count-=1\n",
    "                #print('skipped')\n",
    "                continue\n",
    "            labels = Predict_SVM(img)\n",
    "            \n",
    "            \n",
    "            #black_percentage, white_percentage = calculate_black_white_percentage_rgb(img)\n",
    "            \n",
    "            #print(white_percentage)\n",
    "            #print(f\"Black Percentage: {black_percentage:.2f}%\")\n",
    "            print(f\"White Percentage of {int(prev_id[0])}: {white_percentage:.2f}%\")\n",
    "            cattle_color  = 'W'\n",
    "            #if white_percentage < 0.6 : #0.8 old value\n",
    "            if white_percentage < 0.9 : #0.8 old value\n",
    "                cattle_color  = 'B'\n",
    "                ids.append(str(prev_id[0])+'_Black')\n",
    "            else:\n",
    "                ids.append(prev_id[0])\n",
    "            #print(labels)\n",
    "            labels.insert(0,cattle_color)\n",
    "            labels.insert(0,prev_id[0])\n",
    "            \n",
    "            has_cattle = True\n",
    "            \n",
    "            \n",
    "            last_tracking_id = int(prev_id[0])\n",
    "            masks.append(m)\n",
    "            b_boxes.append([x1,y1,x2,y2])\n",
    "            #print(prev_id)\n",
    "            cow_position+=1 \n",
    "            BATCH_COUNT = prev_id[0] # skip batch count here  \n",
    "            \n",
    "           \n",
    "            #torch.cuda.empty_cache()\n",
    "            ###################### CREATE dir to save img\n",
    "            #print(prev_id)\n",
    "            base_path = str(Path(save_dir / prev_id[0]))\n",
    "            default_csv_path = base_path +\"/\"+prev_id[0]+\".csv\"\n",
    "            if not os.path.exists(base_path):\n",
    "                os.makedirs(base_path)\n",
    "                \n",
    "                creating_default_csv(default_csv_path,N_TOP)\n",
    "\n",
    "            demo_annotated_img_save_path = Path(base_path+ '/' + f'{image_count}.jpg')\n",
    "            CATTLE_DATA = {}\n",
    "            #is_new_cattle = False\n",
    "            try:\n",
    "                \n",
    "                index_prevId = prevId_record.index(int(prev_id[0]))\n",
    "                #is_new_cattle = True\n",
    "            except :\n",
    "                TOTAL_CATTLE_COUNT +=1 \n",
    "                print('new cattle  xxxxxxxxxxxxxxxxxxxxx new cattle alert ' )    \n",
    "                prevId_record.append(int(prev_id[0]))\n",
    "            \n",
    "            \n",
    "            # WRITING CSV FOR EACH CATTLE\n",
    "            \n",
    "            write_thread = threading.Thread(target=write_to_csv, args=(default_csv_path,labels))\n",
    "            write_thread.daemon = True  # Set the thread as daemon\n",
    "            write_thread.start()\n",
    "            thread_pool.append(write_thread)\n",
    "            \n",
    "            \n",
    "                \n",
    "            \n",
    "            IMAGE_ID_LIST.append(image_count)\n",
    "            LOCAL_ID_LIST.append(int(prev_id[0]))\n",
    "            MAX_xyxy1.append(x1)\n",
    "            MAX_xyxy2.append(y1)\n",
    "            MAX_xyxy3.append(x2)\n",
    "            MAX_xyxy4.append(y2)\n",
    "            \n",
    "           \n",
    "                \n",
    "            #try:\n",
    "                #ori_img = overlay(ori_img,m,(0,0,255),0.3)\n",
    "                #cv2.imwrite(str(demo_annotated_img_save_path), img) #save ori_img\n",
    "                #print(demo_annotated_img_save_path)\n",
    "            #except:\n",
    "                #print('cannot save ',demo_annotated_img_save_path)\n",
    "            #change cropped size here  #230 to 215 410 to 390\n",
    "\n",
    "            manual_cow_count += 1\n",
    "\n",
    "            manual_cow_count += 1\n",
    "\n",
    "    #frame = annotator.result() \n",
    "   \n",
    "    \n",
    "    \n",
    "    frame = cv2.resize(ori_img, (1920,1080), interpolation = cv2.INTER_AREA)\n",
    "    \n",
    "    if has_cattle:  \n",
    "        #print(\"total saved cattle count -=>\",CATTLE_SAVED_COUNT)\n",
    "        data_to_add = {\n",
    "        'ImageId': IMAGE_ID_LIST,\n",
    "        'LocalId': LOCAL_ID_LIST,\n",
    "        'xyxy1': MAX_xyxy1,\n",
    "        'xyxy2': MAX_xyxy2,\n",
    "        'xyxy3': MAX_xyxy3,\n",
    "        'xyxy4': MAX_xyxy4\n",
    "        # Add more columns as needed\n",
    "        }\n",
    "        df_to_add = pd.DataFrame(data_to_add)\n",
    "        #MAIN_DF = pd.concat([MAIN_DF,df_to_add], ignore_index=True)\n",
    "        csv_thread = threading.Thread(target=concat_main_csv, args=(df_to_add,))\n",
    "        csv_thread.start()\n",
    "        \n",
    "        base_path = str(Path(save_dir / 'all_images'))\n",
    "        if not os.path.exists(base_path):\n",
    "            os.makedirs(base_path)\n",
    "        del IMAGE_ID_LIST[:]\n",
    "        del LOCAL_ID_LIST[:]\n",
    "        del MAX_xyxy1[:]\n",
    "        del MAX_xyxy2[:]\n",
    "        del MAX_xyxy3[:]\n",
    "        del MAX_xyxy4[:]\n",
    "\n",
    "        demo_annotated_img_save_path = Path(base_path+ '/' + f'{image_count}.jpg')\n",
    "        cv2.imwrite(str(demo_annotated_img_save_path), ori_img) #save ori_img\n",
    "        save_thread = threading.Thread(target=cv2.imwrite, args=(str(demo_annotated_img_save_path),ori_img))\n",
    "        save_thread.daemon = True   \n",
    "        save_thread.start()\n",
    "        save_threads.append(save_thread)\n",
    "        SAVED_COUNT += 1\n",
    "        image_count += 1\n",
    "        \n",
    "        #ori_img = cv2.resize(ori_img,(1088,1088))\n",
    "        for i in range(len(b_boxes)):\n",
    "            box = b_boxes[i]\n",
    "            mask = masks[i]\n",
    "            #print(\"drawing\")\n",
    "            #print(ids)\n",
    "            \n",
    "            draw_bounding_box(ori_img,(box[0],box[1],box[2],box[3]),str(ids[i]))\n",
    "            ori_img = overlay(ori_img,mask,(0,0,255),0.3)\n",
    "        frame = cv2.resize(ori_img, (960,640), interpolation = cv2.INTER_AREA)\n",
    "        \n",
    "        video_thread = threading.Thread(target=cap.write(frame))\n",
    "        video_thread.start()\n",
    "        del ids[:]\n",
    "        del b_boxes[:]\n",
    "        del masks[:]\n",
    "        \n",
    "        if threading.active_count() > 200:\n",
    "            print(\"Cleaning up threads\")\n",
    "            pass\n",
    "        \n",
    "            gc.collect()\n",
    "\n",
    "            torch.cuda.empty_cache()\n",
    "        \n",
    "        \n",
    "    cv2.imshow('YOLO V8 Detection', frame)\n",
    "    if cv2.waitKey(1) & 0xFF == ord(' '):\n",
    "        break\n",
    "    \n",
    "    \n",
    "pass\n",
    "        \n",
    "cap.release() #tracking video\n",
    "cv2.destroyAllWindows()\n",
    "image_count -=1 \n",
    "\n",
    "#while threading.active_count() > 1:\n",
    "\n",
    "\n",
    "now=str(datetime.now().date())\n",
    "\n",
    "IMAGE_STORED_LOCATION = []\n",
    "\n",
    "cattle_ids = []\n",
    "#################################\\\n",
    "manual_summarize_ids = []\n",
    "manual_local_ids = []\n",
    "\n",
    "manual_summarize_ids = []\n",
    "manual_local_ids = []\n",
    "#### write video after saving csv\n",
    "final_cattle_count = 1\n",
    "\n",
    "# SAVING MAIN CSV-\n",
    "MAIN_DF.to_csv(csv_main_file_path, index=False)\n",
    "\n",
    "MAIN_DF = None # CLEAR AFTER SAVING\n",
    "\n",
    "\n",
    "save_vid_name=  dataset.split(\"\\\\\")[-1].replace('.mp4','')+'_classification'\n",
    "\n",
    "save_vid_path = str(Path(os.path.join(save_dir, save_vid_name)).with_suffix('.mp4'))\n",
    "print(save_vid_path)\n",
    "classification_vid = cv2.VideoWriter(save_vid_path,cv2.VideoWriter_fourcc(*'mp4v'), 5, (640,384))\n",
    "print(save_vid_path)\n",
    "\n",
    "\n",
    "#SAVING SUMMARIZE IDS\n",
    "manual_summarize_ids = get_final_cattle_id(str(save_dir),TOTAL_CATTLE_COUNT)\n",
    "\n",
    "summarize_id_csv = pd.DataFrame(manual_summarize_ids, columns = [\"Cow Id\"])\n",
    "\n",
    "summarize_id_csv.to_csv(str(save_dir)+'/summarize_id_'+now+'.csv', index= False) \n",
    "#FINISH SAVING SUMMARIZE IDS\n",
    "\n",
    "csv_name = 'main_csv.csv'\n",
    "#region Write Video\n",
    "try: \n",
    "    writeVideo(classification_vid,str(save_dir),csv_name ,manual_summarize_ids,image_count)\n",
    "except:\n",
    "    print(\" I am ugly\")\n",
    "#summarize_id_csv.to_csv(str(save_dir)+'/summarize_id_'+now+'.csv', index= False) \n",
    "classification_vid.release()\n",
    "cv2.destroyAllWindows()\n",
    "end_time = time.time()\n"
   ]
  },
  {
   "cell_type": "code",
   "execution_count": 35,
   "id": "04772ad2-2ea1-4b33-8085-ea47413eb948",
   "metadata": {},
   "outputs": [
    {
     "name": "stdout",
     "output_type": "stream",
     "text": [
      "Total Prediction Duration for 0304 AM:  417.80868196487427\n"
     ]
    }
   ],
   "source": [
    "\n",
    "elapsed_time = end_time - start_time\n",
    "\n",
    "print(\"Total Prediction Duration for 0304 AM: \",elapsed_time)\n",
    "#run "
   ]
  },
  {
   "cell_type": "code",
   "execution_count": null,
   "id": "1d8d9ac0-4877-49f8-ba14-4253fd2a0179",
   "metadata": {
    "scrolled": true,
    "tags": []
   },
   "outputs": [],
   "source": []
  },
  {
   "cell_type": "code",
   "execution_count": 81,
   "id": "a90a4ef9-d9bf-4645-b7fd-3dd76825e99f",
   "metadata": {},
   "outputs": [],
   "source": [
    "cv2.destroyAllWindows()"
   ]
  },
  {
   "cell_type": "code",
   "execution_count": null,
   "id": "56f9c467-1764-47b4-9adf-c6218c28e603",
   "metadata": {},
   "outputs": [],
   "source": []
  },
  {
   "cell_type": "code",
   "execution_count": 35,
   "id": "d48181eb-d029-4e71-9063-8d9e2dcac62e",
   "metadata": {
    "scrolled": true,
    "tags": []
   },
   "outputs": [
    {
     "name": "stdout",
     "output_type": "stream",
     "text": [
      "D:\\Python\\SULarbmon\\Python\\env\\yolov8_june\\ultralytics\\runs\\segment\\honkawa_1103_112_BWH_RANK_2_weights\\July_31_2023\\03_1fps_whilte_otsu47/1/1.csv  is csv_path and \n",
      "Processing tracking : 26\n",
      "The two highest occurrences: \n",
      "First id: 10585.0, Score: 0.6219597354476071, Count: 7.0\n",
      "Second id: 10747.0, Score: 0.477520631841039, Count: 4.0\n",
      "10585\n",
      "D:\\Python\\SULarbmon\\Python\\env\\yolov8_june\\ultralytics\\runs\\segment\\honkawa_1103_112_BWH_RANK_2_weights\\July_31_2023\\03_1fps_whilte_otsu47/2/2.csv  is csv_path and \n",
      "Processing tracking : 27\n",
      "The two highest occurrences: \n",
      "First id: 10003.0, Score: 2.9387319640549134, Count: 31.0\n",
      "Second id: 10629.0, Score: 0.09704222249194311, Count: 2.0\n",
      "10003\n",
      "D:\\Python\\SULarbmon\\Python\\env\\yolov8_june\\ultralytics\\runs\\segment\\honkawa_1103_112_BWH_RANK_2_weights\\July_31_2023\\03_1fps_whilte_otsu47/3/3.csv  is csv_path and \n",
      "Processing tracking : 28\n",
      "The two highest occurrences: \n",
      "First id: 10002.0, Score: 0.6293874516162342, Count: 8.0\n",
      "Second id: 10071.0, Score: 0.2389381117817743, Count: 4.0\n",
      "10002\n",
      "D:\\Python\\SULarbmon\\Python\\env\\yolov8_june\\ultralytics\\runs\\segment\\honkawa_1103_112_BWH_RANK_2_weights\\July_31_2023\\03_1fps_whilte_otsu47/4/4.csv  is csv_path and \n",
      "Processing tracking : 29\n",
      "The two highest occurrences: \n",
      "First id: 10015.0, Score: 3.5554895630753864, Count: 28.0\n",
      "Second id: 10382.0, Score: 0.0782232189553169, Count: 3.0\n",
      "10015\n",
      "D:\\Python\\SULarbmon\\Python\\env\\yolov8_june\\ultralytics\\runs\\segment\\honkawa_1103_112_BWH_RANK_2_weights\\July_31_2023\\03_1fps_whilte_otsu47/5/5.csv  is csv_path and \n",
      "Processing tracking : 30\n",
      "The two highest occurrences: \n",
      "First id: 10004.0, Score: 0.3491211513073283, Count: 8.0\n",
      "Second id: 10400.0, Score: 0.1727406945371821, Count: 3.0\n",
      "10004\n",
      "D:\\Python\\SULarbmon\\Python\\env\\yolov8_june\\ultralytics\\runs\\segment\\honkawa_1103_112_BWH_RANK_2_weights\\July_31_2023\\03_1fps_whilte_otsu47/6/6.csv  is csv_path and \n",
      "Processing tracking : 31\n",
      "The two highest occurrences: \n",
      "First id: 10001.0, Score: 0.5996894382843888, Count: 14.0\n",
      "Second id: 10979.0, Score: 0.3080513500380357, Count: 3.0\n",
      "10001\n",
      "D:\\Python\\SULarbmon\\Python\\env\\yolov8_june\\ultralytics\\runs\\segment\\honkawa_1103_112_BWH_RANK_2_weights\\July_31_2023\\03_1fps_whilte_otsu47/7/7.csv  is csv_path and \n",
      "Processing tracking : 32\n",
      "-1\n",
      "tracking  7  is  U_4\n",
      "D:\\Python\\SULarbmon\\Python\\env\\yolov8_june\\ultralytics\\runs\\segment\\honkawa_1103_112_BWH_RANK_2_weights\\July_31_2023\\03_1fps_whilte_otsu47/8/8.csv  is csv_path and \n",
      "Processing tracking : 33\n",
      "-1\n",
      "tracking  8  is  U_5\n",
      "D:\\Python\\SULarbmon\\Python\\env\\yolov8_june\\ultralytics\\runs\\segment\\honkawa_1103_112_BWH_RANK_2_weights\\July_31_2023\\03_1fps_whilte_otsu47/9/9.csv  is csv_path and \n",
      "black\n",
      "D:\\Python\\SULarbmon\\Python\\env\\yolov8_june\\ultralytics\\runs\\segment\\honkawa_1103_112_BWH_RANK_2_weights\\July_31_2023\\03_1fps_whilte_otsu47/10/10.csv  is csv_path and \n",
      "black\n",
      "D:\\Python\\SULarbmon\\Python\\env\\yolov8_june\\ultralytics\\runs\\segment\\honkawa_1103_112_BWH_RANK_2_weights\\July_31_2023\\03_1fps_whilte_otsu47/11/11.csv  is csv_path and \n",
      "Processing tracking : 36\n",
      "The two highest occurrences: \n",
      "First id: 10007.0, Score: 3.013790142204185, Count: 32.0\n",
      "Second id: 10991.0, Score: 0.0496666707077021, Count: 1.0\n",
      "10007\n",
      "D:\\Python\\SULarbmon\\Python\\env\\yolov8_june\\ultralytics\\runs\\segment\\honkawa_1103_112_BWH_RANK_2_weights\\July_31_2023\\03_1fps_whilte_otsu47/12/12.csv  is csv_path and \n",
      "Processing tracking : 37\n",
      "10014\n",
      "D:\\Python\\SULarbmon\\Python\\env\\yolov8_june\\ultralytics\\runs\\segment\\honkawa_1103_112_BWH_RANK_2_weights\\July_31_2023\\03_1fps_whilte_otsu47/13/13.csv  is csv_path and \n",
      "Processing tracking : 38\n",
      "The two highest occurrences: \n",
      "First id: 10010.0, Score: 0.4499110862453863, Count: 9.0\n",
      "Second id: 10599.0, Score: 0.150467822745705, Count: 4.0\n",
      "10010\n",
      "D:\\Python\\SULarbmon\\Python\\env\\yolov8_june\\ultralytics\\runs\\segment\\honkawa_1103_112_BWH_RANK_2_weights\\July_31_2023\\03_1fps_whilte_otsu47/14/14.csv  is csv_path and \n",
      "Processing tracking : 39\n",
      "The two highest occurrences: \n",
      "First id: 10667.0, Score: 0.4454982175236223, Count: 7.0\n",
      "Second id: 10020.0, Score: 0.1165633258030812, Count: 4.0\n",
      "10667\n",
      "D:\\Python\\SULarbmon\\Python\\env\\yolov8_june\\ultralytics\\runs\\segment\\honkawa_1103_112_BWH_RANK_2_weights\\July_31_2023\\03_1fps_whilte_otsu47/15/15.csv  is csv_path and \n",
      "Processing tracking : 40\n",
      "The two highest occurrences: \n",
      "First id: 10037.0, Score: 0.2955953425443413, Count: 9.0\n",
      "Second id: 10012.0, Score: 0.1404526534432765, Count: 7.0\n",
      "10037\n",
      "D:\\Python\\SULarbmon\\Python\\env\\yolov8_june\\ultralytics\\runs\\segment\\honkawa_1103_112_BWH_RANK_2_weights\\July_31_2023\\03_1fps_whilte_otsu47/16/16.csv  is csv_path and \n",
      "Processing tracking : 41\n",
      "The two highest occurrences: \n",
      "First id: 10018.0, Score: 4.3719076296670805, Count: 29.0\n",
      "Second id: 10361.0, Score: 0.2541526366939775, Count: 2.0\n",
      "10018\n",
      "D:\\Python\\SULarbmon\\Python\\env\\yolov8_june\\ultralytics\\runs\\segment\\honkawa_1103_112_BWH_RANK_2_weights\\July_31_2023\\03_1fps_whilte_otsu47/17/17.csv  is csv_path and \n",
      "black\n",
      "D:\\Python\\SULarbmon\\Python\\env\\yolov8_june\\ultralytics\\runs\\segment\\honkawa_1103_112_BWH_RANK_2_weights\\July_31_2023\\03_1fps_whilte_otsu47/18/18.csv  is csv_path and \n",
      "Processing tracking : 43\n",
      "The two highest occurrences: \n",
      "First id: 10009.0, Score: 2.1874943198611927, Count: 29.0\n",
      "Second id: 10059.0, Score: 0.0911780877053667, Count: 2.0\n",
      "10009\n",
      "D:\\Python\\SULarbmon\\Python\\env\\yolov8_june\\ultralytics\\runs\\segment\\honkawa_1103_112_BWH_RANK_2_weights\\July_31_2023\\03_1fps_whilte_otsu47/19/19.csv  is csv_path and \n",
      "Processing tracking : 44\n",
      "The two highest occurrences: \n",
      "First id: 10008.0, Score: 2.2953004379963113, Count: 27.0\n",
      "Second id: 10988.0, Score: 0.0516977870399581, Count: 2.0\n",
      "10008\n",
      "D:\\Python\\SULarbmon\\Python\\env\\yolov8_june\\ultralytics\\runs\\segment\\honkawa_1103_112_BWH_RANK_2_weights\\July_31_2023\\03_1fps_whilte_otsu47/20/20.csv  is csv_path and \n",
      "Processing tracking : 45\n",
      "The two highest occurrences: \n",
      "First id: 10012.0, Score: 1.4151351734180877, Count: 23.0\n",
      "Second id: 10074.0, Score: 0.11765990787304301, Count: 4.0\n",
      "10012\n",
      "D:\\Python\\SULarbmon\\Python\\env\\yolov8_june\\ultralytics\\runs\\segment\\honkawa_1103_112_BWH_RANK_2_weights\\July_31_2023\\03_1fps_whilte_otsu47/21/21.csv  is csv_path and \n",
      "Processing tracking : 46\n",
      "The two highest occurrences: \n",
      "First id: 10005.0, Score: 0.8680110716366776, Count: 17.0\n",
      "Second id: 11001.0, Score: 0.1102864833872784, Count: 2.0\n",
      "10005\n",
      "D:\\Python\\SULarbmon\\Python\\env\\yolov8_june\\ultralytics\\runs\\segment\\honkawa_1103_112_BWH_RANK_2_weights\\July_31_2023\\03_1fps_whilte_otsu47/22/22.csv  is csv_path and \n",
      "Processing tracking : 47\n",
      "The two highest occurrences: \n",
      "First id: 10016.0, Score: 0.9415954536435642, Count: 19.0\n",
      "Second id: 10990.0, Score: 0.1005541709226475, Count: 2.0\n",
      "10016\n",
      "D:\\Python\\SULarbmon\\Python\\env\\yolov8_june\\ultralytics\\runs\\segment\\honkawa_1103_112_BWH_RANK_2_weights\\July_31_2023\\03_1fps_whilte_otsu47/23/23.csv  is csv_path and \n",
      "Processing tracking : 48\n",
      "-1\n",
      "tracking  23  is  U_6\n",
      "D:\\Python\\SULarbmon\\Python\\env\\yolov8_june\\ultralytics\\runs\\segment\\honkawa_1103_112_BWH_RANK_2_weights\\July_31_2023\\03_1fps_whilte_otsu47/24/24.csv  is csv_path and \n",
      "Processing tracking : 49\n",
      "The two highest occurrences: \n",
      "First id: 10035.0, Score: 0.6069271996508534, Count: 8.0\n",
      "Second id: 11096.0, Score: 0.1614589905091024, Count: 3.0\n",
      "10035\n",
      "D:\\Python\\SULarbmon\\Python\\env\\yolov8_june\\ultralytics\\runs\\segment\\honkawa_1103_112_BWH_RANK_2_weights\\July_31_2023\\03_1fps_whilte_otsu47/25/25.csv  is csv_path and \n",
      "Processing tracking : 50\n",
      "The two highest occurrences: \n",
      "First id: 10021.0, Score: 0.4439682860411367, Count: 10.0\n",
      "Second id: 10525.0, Score: 0.0158443898777331, Count: 1.0\n",
      "10021\n",
      "0  from index\n",
      "1   <--x-->   1\n",
      "SAVING!!!!!\n",
      "1   <--x-->   2\n",
      "1  from index\n",
      "2   <--x-->   2\n",
      "SAVING!!!!!\n",
      "2   <--x-->   3\n",
      "2  from index\n",
      "3   <--x-->   3\n",
      "SAVING!!!!!\n",
      "3   <--x-->   4\n",
      "3  from index\n",
      "4   <--x-->   4\n",
      "SAVING!!!!!\n",
      "4   <--x-->   5\n",
      "4  from index\n",
      "5   <--x-->   5\n",
      "SAVING!!!!!\n",
      "5   <--x-->   6\n",
      "5  from index\n",
      "6   <--x-->   6\n",
      "SAVING!!!!!\n",
      "6   <--x-->   7\n",
      "6  from index\n",
      "7   <--x-->   7\n",
      "SAVING!!!!!\n",
      "7   <--x-->   8\n",
      "7  from index\n",
      "8   <--x-->   8\n",
      "SAVING!!!!!\n",
      "8   <--x-->   9\n",
      "8  from index\n",
      "9   <--x-->   9\n",
      "SAVING!!!!!\n",
      "9   <--x-->   10\n",
      "9  from index\n",
      "10   <--x-->   10\n",
      "SAVING!!!!!\n",
      "10   <--x-->   11\n",
      "10  from index\n",
      "11   <--x-->   11\n",
      "SAVING!!!!!\n",
      "11   <--x-->   11\n",
      "SAVING!!!!!\n",
      "11   <--x-->   12\n",
      "12  from index\n",
      "12   <--x-->   12\n",
      "SAVING!!!!!\n",
      "12   <--x-->   12\n",
      "SAVING!!!!!\n",
      "12   <--x-->   13\n",
      "14  from index\n",
      "13   <--x-->   13\n",
      "SAVING!!!!!\n",
      "13   <--x-->   13\n",
      "SAVING!!!!!\n",
      "13   <--x-->   14\n",
      "16  from index\n",
      "14   <--x-->   14\n",
      "SAVING!!!!!\n",
      "14   <--x-->   14\n",
      "SAVING!!!!!\n",
      "14   <--x-->   15\n",
      "18  from index\n",
      "15   <--x-->   15\n",
      "SAVING!!!!!\n",
      "15   <--x-->   15\n",
      "SAVING!!!!!\n",
      "15   <--x-->   16\n",
      "20  from index\n",
      "16   <--x-->   16\n",
      "SAVING!!!!!\n",
      "16   <--x-->   16\n",
      "SAVING!!!!!\n",
      "16   <--x-->   17\n",
      "22  from index\n",
      "17   <--x-->   17\n",
      "SAVING!!!!!\n",
      "17   <--x-->   17\n",
      "SAVING!!!!!\n",
      "17   <--x-->   18\n",
      "24  from index\n",
      "18   <--x-->   18\n",
      "SAVING!!!!!\n",
      "18   <--x-->   18\n",
      "SAVING!!!!!\n",
      "18   <--x-->   19\n",
      "26  from index\n",
      "19   <--x-->   19\n",
      "SAVING!!!!!\n",
      "19   <--x-->   19\n",
      "SAVING!!!!!\n",
      "19   <--x-->   20\n",
      "28  from index\n",
      "20   <--x-->   20\n",
      "SAVING!!!!!\n",
      "20   <--x-->   20\n",
      "SAVING!!!!!\n",
      "20   <--x-->   21\n",
      "30  from index\n",
      "21   <--x-->   21\n",
      "SAVING!!!!!\n",
      "21   <--x-->   21\n",
      "SAVING!!!!!\n",
      "21   <--x-->   22\n",
      "32  from index\n",
      "22   <--x-->   22\n",
      "SAVING!!!!!\n",
      "22   <--x-->   22\n",
      "SAVING!!!!!\n",
      "22   <--x-->   22\n",
      "SAVING!!!!!\n",
      "22   <--x-->   23\n",
      "35  from index\n",
      "23   <--x-->   23\n",
      "SAVING!!!!!\n",
      "23   <--x-->   23\n",
      "SAVING!!!!!\n",
      "23   <--x-->   23\n",
      "SAVING!!!!!\n",
      "23   <--x-->   24\n",
      "38  from index\n",
      "24   <--x-->   24\n",
      "SAVING!!!!!\n",
      "24   <--x-->   24\n",
      "SAVING!!!!!\n",
      "24   <--x-->   24\n",
      "SAVING!!!!!\n",
      "24   <--x-->   25\n",
      "41  from index\n",
      "25   <--x-->   25\n",
      "SAVING!!!!!\n",
      "25   <--x-->   25\n",
      "SAVING!!!!!\n",
      "25   <--x-->   25\n",
      "SAVING!!!!!\n",
      "25   <--x-->   26\n",
      "44  from index\n",
      "26   <--x-->   26\n",
      "SAVING!!!!!\n",
      "26   <--x-->   26\n",
      "SAVING!!!!!\n",
      "26   <--x-->   26\n",
      "SAVING!!!!!\n",
      "26   <--x-->   27\n",
      "47  from index\n",
      "27   <--x-->   27\n",
      "SAVING!!!!!\n",
      "27   <--x-->   27\n",
      "SAVING!!!!!\n",
      "27   <--x-->   27\n",
      "SAVING!!!!!\n",
      "27   <--x-->   28\n",
      "50  from index\n",
      "28   <--x-->   28\n",
      "SAVING!!!!!\n",
      "28   <--x-->   28\n",
      "SAVING!!!!!\n",
      "28   <--x-->   28\n",
      "SAVING!!!!!\n",
      "28   <--x-->   29\n",
      "53  from index\n",
      "29   <--x-->   29\n",
      "SAVING!!!!!\n",
      "29   <--x-->   29\n",
      "SAVING!!!!!\n",
      "29   <--x-->   29\n",
      "SAVING!!!!!\n",
      "29   <--x-->   30\n",
      "56  from index\n",
      "30   <--x-->   30\n",
      "SAVING!!!!!\n",
      "30   <--x-->   30\n",
      "SAVING!!!!!\n",
      "30   <--x-->   30\n",
      "SAVING!!!!!\n",
      "30   <--x-->   31\n",
      "59  from index\n",
      "31   <--x-->   31\n",
      "SAVING!!!!!\n",
      "31   <--x-->   31\n",
      "SAVING!!!!!\n",
      "31   <--x-->   31\n",
      "SAVING!!!!!\n",
      "31   <--x-->   32\n",
      "62  from index\n",
      "32   <--x-->   32\n",
      "SAVING!!!!!\n",
      "32   <--x-->   32\n",
      "SAVING!!!!!\n",
      "32   <--x-->   32\n",
      "SAVING!!!!!\n",
      "32   <--x-->   33\n",
      "65  from index\n",
      "33   <--x-->   33\n",
      "SAVING!!!!!\n",
      "33   <--x-->   33\n",
      "SAVING!!!!!\n",
      "33   <--x-->   33\n",
      "SAVING!!!!!\n",
      "33   <--x-->   34\n",
      "68  from index\n",
      "34   <--x-->   34\n",
      "SAVING!!!!!\n",
      "34   <--x-->   34\n",
      "SAVING!!!!!\n",
      "34   <--x-->   34\n",
      "SAVING!!!!!\n",
      "34   <--x-->   35\n",
      "71  from index\n",
      "35   <--x-->   35\n",
      "SAVING!!!!!\n",
      "35   <--x-->   35\n",
      "SAVING!!!!!\n",
      "35   <--x-->   35\n",
      "SAVING!!!!!\n",
      "35   <--x-->   36\n",
      "74  from index\n",
      "36   <--x-->   36\n",
      "SAVING!!!!!\n",
      "36   <--x-->   36\n",
      "SAVING!!!!!\n",
      "36   <--x-->   37\n",
      "76  from index\n",
      "37   <--x-->   37\n",
      "SAVING!!!!!\n",
      "37   <--x-->   37\n",
      "SAVING!!!!!\n",
      "37   <--x-->   38\n",
      "78  from index\n",
      "38   <--x-->   38\n",
      "SAVING!!!!!\n",
      "38   <--x-->   38\n",
      "SAVING!!!!!\n",
      "38   <--x-->   39\n",
      "80  from index\n",
      "39   <--x-->   39\n",
      "SAVING!!!!!\n",
      "39   <--x-->   39\n",
      "SAVING!!!!!\n",
      "39   <--x-->   40\n",
      "82  from index\n",
      "40   <--x-->   40\n",
      "SAVING!!!!!\n",
      "40   <--x-->   40\n",
      "SAVING!!!!!\n",
      "40   <--x-->   41\n",
      "84  from index\n",
      "41   <--x-->   41\n",
      "SAVING!!!!!\n",
      "41   <--x-->   41\n",
      "SAVING!!!!!\n",
      "41   <--x-->   42\n",
      "86  from index\n",
      "42   <--x-->   42\n",
      "SAVING!!!!!\n",
      "42   <--x-->   42\n",
      "SAVING!!!!!\n",
      "42   <--x-->   43\n",
      "88  from index\n",
      "43   <--x-->   43\n",
      "SAVING!!!!!\n",
      "43   <--x-->   43\n",
      "SAVING!!!!!\n",
      "43   <--x-->   43\n",
      "SAVING!!!!!\n",
      "43   <--x-->   44\n",
      "91  from index\n",
      "44   <--x-->   44\n",
      "SAVING!!!!!\n",
      "44   <--x-->   44\n",
      "SAVING!!!!!\n",
      "44   <--x-->   44\n",
      "SAVING!!!!!\n",
      "44   <--x-->   45\n",
      "94  from index\n",
      "45   <--x-->   45\n",
      "SAVING!!!!!\n",
      "45   <--x-->   45\n",
      "SAVING!!!!!\n",
      "45   <--x-->   45\n",
      "SAVING!!!!!\n",
      "45   <--x-->   46\n",
      "97  from index\n",
      "46   <--x-->   46\n",
      "SAVING!!!!!\n",
      "46   <--x-->   46\n",
      "SAVING!!!!!\n",
      "46   <--x-->   46\n",
      "SAVING!!!!!\n",
      "46   <--x-->   47\n",
      "100  from index\n",
      "47   <--x-->   47\n",
      "SAVING!!!!!\n",
      "47   <--x-->   47\n",
      "SAVING!!!!!\n",
      "47   <--x-->   47\n",
      "SAVING!!!!!\n",
      "47   <--x-->   48\n",
      "103  from index\n",
      "48   <--x-->   48\n",
      "SAVING!!!!!\n",
      "48   <--x-->   48\n",
      "SAVING!!!!!\n",
      "48   <--x-->   49\n",
      "105  from index\n",
      "49   <--x-->   49\n",
      "SAVING!!!!!\n",
      "49   <--x-->   49\n",
      "SAVING!!!!!\n",
      "49   <--x-->   50\n",
      "107  from index\n",
      "50   <--x-->   50\n",
      "SAVING!!!!!\n",
      "50   <--x-->   50\n",
      "SAVING!!!!!\n",
      "50   <--x-->   51\n",
      "109  from index\n",
      "51   <--x-->   51\n",
      "SAVING!!!!!\n",
      "51   <--x-->   51\n",
      "SAVING!!!!!\n",
      "51   <--x-->   52\n",
      "111  from index\n",
      "52   <--x-->   52\n",
      "SAVING!!!!!\n",
      "52   <--x-->   52\n",
      "SAVING!!!!!\n",
      "52   <--x-->   53\n",
      "113  from index\n",
      "53   <--x-->   53\n",
      "SAVING!!!!!\n",
      "53   <--x-->   53\n",
      "SAVING!!!!!\n",
      "53   <--x-->   54\n",
      "115  from index\n",
      "54   <--x-->   54\n",
      "SAVING!!!!!\n",
      "54   <--x-->   54\n",
      "SAVING!!!!!\n",
      "54   <--x-->   55\n",
      "117  from index\n",
      "55   <--x-->   55\n",
      "SAVING!!!!!\n",
      "55   <--x-->   55\n",
      "SAVING!!!!!\n",
      "55   <--x-->   55\n",
      "SAVING!!!!!\n",
      "55   <--x-->   56\n",
      "120  from index\n",
      "56   <--x-->   56\n",
      "SAVING!!!!!\n",
      "56   <--x-->   56\n",
      "SAVING!!!!!\n",
      "56   <--x-->   56\n",
      "SAVING!!!!!\n",
      "56   <--x-->   57\n",
      "123  from index\n",
      "57   <--x-->   57\n",
      "SAVING!!!!!\n",
      "57   <--x-->   57\n",
      "SAVING!!!!!\n",
      "57   <--x-->   58\n",
      "125  from index\n",
      "58   <--x-->   58\n",
      "SAVING!!!!!\n",
      "58   <--x-->   58\n",
      "SAVING!!!!!\n",
      "58   <--x-->   59\n",
      "127  from index\n",
      "59   <--x-->   59\n",
      "SAVING!!!!!\n",
      "59   <--x-->   59\n",
      "SAVING!!!!!\n",
      "59   <--x-->   60\n",
      "129  from index\n",
      "60   <--x-->   60\n",
      "SAVING!!!!!\n",
      "60   <--x-->   60\n",
      "SAVING!!!!!\n",
      "60   <--x-->   61\n",
      "131  from index\n",
      "61   <--x-->   61\n",
      "SAVING!!!!!\n",
      "61   <--x-->   61\n",
      "SAVING!!!!!\n",
      "61   <--x-->   62\n",
      "133  from index\n",
      "62   <--x-->   62\n",
      "SAVING!!!!!\n",
      "62   <--x-->   62\n",
      "SAVING!!!!!\n",
      "62   <--x-->   63\n",
      "135  from index\n",
      "63   <--x-->   63\n",
      "SAVING!!!!!\n",
      "63   <--x-->   63\n",
      "SAVING!!!!!\n",
      "63   <--x-->   64\n",
      "137  from index\n",
      "64   <--x-->   64\n",
      "SAVING!!!!!\n",
      "64   <--x-->   64\n",
      "SAVING!!!!!\n",
      "64   <--x-->   64\n",
      "SAVING!!!!!\n",
      "64   <--x-->   65\n",
      "140  from index\n",
      "65   <--x-->   65\n",
      "SAVING!!!!!\n",
      "65   <--x-->   65\n",
      "SAVING!!!!!\n",
      "65   <--x-->   65\n",
      "SAVING!!!!!\n",
      "65   <--x-->   66\n",
      "143  from index\n",
      "66   <--x-->   66\n",
      "SAVING!!!!!\n",
      "66   <--x-->   66\n",
      "SAVING!!!!!\n",
      "66   <--x-->   66\n",
      "SAVING!!!!!\n",
      "66   <--x-->   67\n",
      "146  from index\n",
      "67   <--x-->   67\n",
      "SAVING!!!!!\n",
      "67   <--x-->   67\n",
      "SAVING!!!!!\n",
      "67   <--x-->   67\n",
      "SAVING!!!!!\n",
      "67   <--x-->   68\n",
      "149  from index\n",
      "68   <--x-->   68\n",
      "SAVING!!!!!\n",
      "68   <--x-->   68\n",
      "SAVING!!!!!\n",
      "68   <--x-->   68\n",
      "SAVING!!!!!\n",
      "68   <--x-->   69\n",
      "152  from index\n",
      "69   <--x-->   69\n",
      "SAVING!!!!!\n",
      "69   <--x-->   69\n",
      "SAVING!!!!!\n",
      "69   <--x-->   69\n",
      "SAVING!!!!!\n",
      "69   <--x-->   70\n",
      "155  from index\n",
      "70   <--x-->   70\n",
      "SAVING!!!!!\n",
      "70   <--x-->   70\n",
      "SAVING!!!!!\n",
      "70   <--x-->   70\n",
      "SAVING!!!!!\n",
      "70   <--x-->   71\n",
      "158  from index\n",
      "71   <--x-->   71\n",
      "SAVING!!!!!\n",
      "71   <--x-->   71\n",
      "SAVING!!!!!\n",
      "71   <--x-->   71\n",
      "SAVING!!!!!\n",
      "71   <--x-->   72\n",
      "161  from index\n",
      "72   <--x-->   72\n",
      "SAVING!!!!!\n",
      "72   <--x-->   72\n",
      "SAVING!!!!!\n",
      "72   <--x-->   72\n",
      "SAVING!!!!!\n",
      "72   <--x-->   73\n",
      "164  from index\n",
      "73   <--x-->   73\n",
      "SAVING!!!!!\n",
      "73   <--x-->   73\n",
      "SAVING!!!!!\n",
      "73   <--x-->   73\n",
      "SAVING!!!!!\n",
      "73   <--x-->   74\n",
      "167  from index\n",
      "74   <--x-->   74\n",
      "SAVING!!!!!\n",
      "74   <--x-->   74\n",
      "SAVING!!!!!\n",
      "74   <--x-->   74\n",
      "SAVING!!!!!\n",
      "74   <--x-->   75\n",
      "170  from index\n",
      "75   <--x-->   75\n",
      "SAVING!!!!!\n",
      "75   <--x-->   75\n",
      "SAVING!!!!!\n",
      "75   <--x-->   75\n",
      "SAVING!!!!!\n",
      "75   <--x-->   76\n",
      "173  from index\n",
      "76   <--x-->   76\n",
      "SAVING!!!!!\n",
      "76   <--x-->   76\n",
      "SAVING!!!!!\n",
      "76   <--x-->   77\n",
      "175  from index\n",
      "77   <--x-->   77\n",
      "SAVING!!!!!\n",
      "77   <--x-->   77\n",
      "SAVING!!!!!\n",
      "77   <--x-->   78\n",
      "177  from index\n",
      "78   <--x-->   78\n",
      "SAVING!!!!!\n",
      "78   <--x-->   78\n",
      "SAVING!!!!!\n",
      "78   <--x-->   79\n",
      "179  from index\n",
      "79   <--x-->   79\n",
      "SAVING!!!!!\n",
      "79   <--x-->   79\n",
      "SAVING!!!!!\n",
      "79   <--x-->   80\n",
      "181  from index\n",
      "80   <--x-->   80\n",
      "SAVING!!!!!\n",
      "80   <--x-->   80\n",
      "SAVING!!!!!\n",
      "80   <--x-->   81\n",
      "183  from index\n",
      "81   <--x-->   81\n",
      "SAVING!!!!!\n",
      "81   <--x-->   81\n",
      "SAVING!!!!!\n",
      "81   <--x-->   82\n",
      "185  from index\n",
      "82   <--x-->   82\n",
      "SAVING!!!!!\n",
      "82   <--x-->   82\n",
      "SAVING!!!!!\n",
      "82   <--x-->   83\n",
      "187  from index\n",
      "83   <--x-->   83\n",
      "SAVING!!!!!\n",
      "83   <--x-->   83\n",
      "SAVING!!!!!\n",
      "83   <--x-->   84\n",
      "189  from index\n",
      "84   <--x-->   84\n",
      "SAVING!!!!!\n",
      "84   <--x-->   84\n",
      "SAVING!!!!!\n",
      "84   <--x-->   85\n",
      "191  from index\n",
      "85   <--x-->   85\n",
      "SAVING!!!!!\n",
      "85   <--x-->   85\n",
      "SAVING!!!!!\n",
      "85   <--x-->   86\n",
      "193  from index\n",
      "86   <--x-->   86\n",
      "SAVING!!!!!\n",
      "86   <--x-->   86\n",
      "SAVING!!!!!\n",
      "86   <--x-->   86\n",
      "SAVING!!!!!\n",
      "86   <--x-->   87\n",
      "196  from index\n",
      "87   <--x-->   87\n",
      "SAVING!!!!!\n",
      "87   <--x-->   87\n",
      "SAVING!!!!!\n",
      "87   <--x-->   87\n",
      "SAVING!!!!!\n",
      "87   <--x-->   88\n",
      "199  from index\n",
      "88   <--x-->   88\n",
      "SAVING!!!!!\n",
      "88   <--x-->   88\n",
      "SAVING!!!!!\n",
      "88   <--x-->   89\n",
      "201  from index\n",
      "89   <--x-->   89\n",
      "SAVING!!!!!\n",
      "89   <--x-->   89\n",
      "SAVING!!!!!\n",
      "89   <--x-->   90\n",
      "203  from index\n",
      "90   <--x-->   90\n",
      "SAVING!!!!!\n",
      "90   <--x-->   90\n",
      "SAVING!!!!!\n",
      "90   <--x-->   91\n",
      "205  from index\n",
      "91   <--x-->   91\n",
      "SAVING!!!!!\n",
      "91   <--x-->   91\n",
      "SAVING!!!!!\n",
      "91   <--x-->   92\n",
      "207  from index\n",
      "92   <--x-->   92\n",
      "SAVING!!!!!\n",
      "92   <--x-->   92\n",
      "SAVING!!!!!\n",
      "92   <--x-->   93\n",
      "209  from index\n",
      "93   <--x-->   93\n",
      "SAVING!!!!!\n",
      "93   <--x-->   93\n",
      "SAVING!!!!!\n",
      "93   <--x-->   94\n",
      "211  from index\n",
      "94   <--x-->   94\n",
      "SAVING!!!!!\n",
      "94   <--x-->   94\n",
      "SAVING!!!!!\n",
      "94   <--x-->   95\n",
      "213  from index\n",
      "95   <--x-->   95\n",
      "SAVING!!!!!\n",
      "95   <--x-->   95\n",
      "SAVING!!!!!\n",
      "95   <--x-->   95\n",
      "SAVING!!!!!\n",
      "95   <--x-->   96\n",
      "216  from index\n",
      "96   <--x-->   96\n",
      "SAVING!!!!!\n",
      "96   <--x-->   96\n",
      "SAVING!!!!!\n",
      "96   <--x-->   96\n",
      "SAVING!!!!!\n",
      "96   <--x-->   97\n",
      "219  from index\n",
      "97   <--x-->   97\n",
      "SAVING!!!!!\n",
      "97   <--x-->   97\n",
      "SAVING!!!!!\n",
      "97   <--x-->   97\n",
      "SAVING!!!!!\n",
      "97   <--x-->   98\n",
      "222  from index\n",
      "98   <--x-->   98\n",
      "SAVING!!!!!\n",
      "98   <--x-->   98\n",
      "SAVING!!!!!\n",
      "98   <--x-->   98\n",
      "SAVING!!!!!\n",
      "98   <--x-->   99\n",
      "225  from index\n",
      "99   <--x-->   99\n",
      "SAVING!!!!!\n",
      "99   <--x-->   99\n",
      "SAVING!!!!!\n",
      "99   <--x-->   99\n",
      "SAVING!!!!!\n",
      "99   <--x-->   100\n",
      "228  from index\n",
      "100   <--x-->   100\n",
      "SAVING!!!!!\n",
      "100   <--x-->   100\n",
      "SAVING!!!!!\n",
      "100   <--x-->   101\n",
      "230  from index\n",
      "101   <--x-->   101\n",
      "SAVING!!!!!\n",
      "101   <--x-->   101\n",
      "SAVING!!!!!\n",
      "101   <--x-->   102\n",
      "232  from index\n",
      "102   <--x-->   102\n",
      "SAVING!!!!!\n",
      "102   <--x-->   102\n",
      "SAVING!!!!!\n",
      "102   <--x-->   103\n",
      "234  from index\n",
      "103   <--x-->   103\n",
      "SAVING!!!!!\n",
      "103   <--x-->   103\n",
      "SAVING!!!!!\n",
      "103   <--x-->   104\n",
      "236  from index\n",
      "104   <--x-->   104\n",
      "SAVING!!!!!\n",
      "104   <--x-->   104\n",
      "SAVING!!!!!\n",
      "104   <--x-->   105\n",
      "238  from index\n",
      "105   <--x-->   105\n",
      "SAVING!!!!!\n",
      "105   <--x-->   105\n",
      "SAVING!!!!!\n",
      "105   <--x-->   106\n",
      "240  from index\n",
      "106   <--x-->   106\n",
      "SAVING!!!!!\n",
      "106   <--x-->   106\n",
      "SAVING!!!!!\n",
      "106   <--x-->   106\n",
      "SAVING!!!!!\n",
      "106   <--x-->   107\n",
      "243  from index\n",
      "107   <--x-->   107\n",
      "SAVING!!!!!\n",
      "107   <--x-->   107\n",
      "SAVING!!!!!\n",
      "107   <--x-->   107\n",
      "SAVING!!!!!\n",
      "107   <--x-->   108\n",
      "246  from index\n",
      "108   <--x-->   108\n",
      "SAVING!!!!!\n",
      "108   <--x-->   108\n",
      "SAVING!!!!!\n",
      "108   <--x-->   108\n",
      "SAVING!!!!!\n",
      "108   <--x-->   109\n",
      "249  from index\n",
      "109   <--x-->   109\n",
      "SAVING!!!!!\n",
      "109   <--x-->   109\n",
      "SAVING!!!!!\n",
      "109   <--x-->   109\n",
      "SAVING!!!!!\n",
      "109   <--x-->   110\n",
      "252  from index\n",
      "110   <--x-->   110\n",
      "SAVING!!!!!\n",
      "110   <--x-->   110\n",
      "SAVING!!!!!\n",
      "110   <--x-->   110\n",
      "SAVING!!!!!\n",
      "110   <--x-->   111\n",
      "255  from index\n",
      "111   <--x-->   111\n",
      "SAVING!!!!!\n",
      "111   <--x-->   111\n",
      "SAVING!!!!!\n",
      "111   <--x-->   111\n",
      "SAVING!!!!!\n",
      "111   <--x-->   112\n",
      "258  from index\n",
      "112   <--x-->   112\n",
      "SAVING!!!!!\n",
      "112   <--x-->   112\n",
      "SAVING!!!!!\n",
      "112   <--x-->   112\n",
      "SAVING!!!!!\n",
      "112   <--x-->   113\n",
      "261  from index\n",
      "113   <--x-->   113\n",
      "SAVING!!!!!\n",
      "113   <--x-->   113\n",
      "SAVING!!!!!\n",
      "113   <--x-->   113\n",
      "SAVING!!!!!\n",
      "113   <--x-->   114\n",
      "264  from index\n",
      "114   <--x-->   114\n",
      "SAVING!!!!!\n",
      "114   <--x-->   114\n",
      "SAVING!!!!!\n",
      "114   <--x-->   114\n",
      "SAVING!!!!!\n",
      "114   <--x-->   115\n",
      "267  from index\n",
      "115   <--x-->   115\n",
      "SAVING!!!!!\n",
      "115   <--x-->   115\n",
      "SAVING!!!!!\n",
      "115   <--x-->   115\n",
      "SAVING!!!!!\n",
      "115   <--x-->   116\n",
      "270  from index\n",
      "116   <--x-->   116\n",
      "SAVING!!!!!\n",
      "116   <--x-->   116\n",
      "SAVING!!!!!\n",
      "116   <--x-->   116\n",
      "SAVING!!!!!\n",
      "116   <--x-->   116\n",
      "SAVING!!!!!\n",
      "116   <--x-->   117\n",
      "274  from index\n",
      "117   <--x-->   117\n",
      "SAVING!!!!!\n",
      "117   <--x-->   117\n",
      "SAVING!!!!!\n",
      "117   <--x-->   117\n",
      "SAVING!!!!!\n",
      "117   <--x-->   117\n",
      "SAVING!!!!!\n",
      "117   <--x-->   118\n",
      "278  from index\n",
      "118   <--x-->   118\n",
      "SAVING!!!!!\n",
      "118   <--x-->   118\n",
      "SAVING!!!!!\n",
      "118   <--x-->   118\n",
      "SAVING!!!!!\n",
      "118   <--x-->   118\n",
      "SAVING!!!!!\n",
      "118   <--x-->   119\n",
      "282  from index\n",
      "119   <--x-->   119\n",
      "SAVING!!!!!\n",
      "119   <--x-->   119\n",
      "SAVING!!!!!\n",
      "119   <--x-->   119\n",
      "SAVING!!!!!\n",
      "119   <--x-->   120\n",
      "285  from index\n",
      "120   <--x-->   120\n",
      "SAVING!!!!!\n",
      "120   <--x-->   120\n",
      "SAVING!!!!!\n",
      "120   <--x-->   120\n",
      "SAVING!!!!!\n",
      "120   <--x-->   121\n",
      "288  from index\n",
      "121   <--x-->   121\n",
      "SAVING!!!!!\n",
      "121   <--x-->   121\n",
      "SAVING!!!!!\n",
      "121   <--x-->   121\n",
      "SAVING!!!!!\n",
      "121   <--x-->   122\n",
      "291  from index\n",
      "122   <--x-->   122\n",
      "SAVING!!!!!\n",
      "122   <--x-->   122\n",
      "SAVING!!!!!\n",
      "122   <--x-->   122\n",
      "SAVING!!!!!\n",
      "122   <--x-->   123\n",
      "294  from index\n",
      "123   <--x-->   123\n",
      "SAVING!!!!!\n",
      "123   <--x-->   123\n",
      "SAVING!!!!!\n",
      "123   <--x-->   123\n",
      "SAVING!!!!!\n",
      "123   <--x-->   124\n",
      "297  from index\n",
      "124   <--x-->   124\n",
      "SAVING!!!!!\n",
      "124   <--x-->   124\n",
      "SAVING!!!!!\n",
      "124   <--x-->   124\n",
      "SAVING!!!!!\n",
      "124   <--x-->   125\n",
      "300  from index\n",
      "125   <--x-->   125\n",
      "SAVING!!!!!\n",
      "125   <--x-->   125\n",
      "SAVING!!!!!\n",
      "125   <--x-->   125\n",
      "SAVING!!!!!\n",
      "125   <--x-->   126\n",
      "303  from index\n",
      "126   <--x-->   126\n",
      "SAVING!!!!!\n",
      "126   <--x-->   126\n",
      "SAVING!!!!!\n",
      "126   <--x-->   126\n",
      "SAVING!!!!!\n",
      "126   <--x-->   127\n",
      "306  from index\n",
      "127   <--x-->   127\n",
      "SAVING!!!!!\n",
      "127   <--x-->   127\n",
      "SAVING!!!!!\n",
      "127   <--x-->   127\n",
      "SAVING!!!!!\n",
      "127   <--x-->   128\n",
      "309  from index\n",
      "128   <--x-->   128\n",
      "SAVING!!!!!\n",
      "128   <--x-->   128\n",
      "SAVING!!!!!\n",
      "128   <--x-->   128\n",
      "SAVING!!!!!\n",
      "128   <--x-->   128\n",
      "SAVING!!!!!\n",
      "128   <--x-->   129\n",
      "313  from index\n",
      "129   <--x-->   129\n",
      "SAVING!!!!!\n",
      "129   <--x-->   129\n",
      "SAVING!!!!!\n",
      "129   <--x-->   129\n",
      "SAVING!!!!!\n",
      "129   <--x-->   129\n",
      "SAVING!!!!!\n",
      "129   <--x-->   130\n",
      "317  from index\n",
      "130   <--x-->   130\n",
      "SAVING!!!!!\n",
      "130   <--x-->   130\n",
      "SAVING!!!!!\n",
      "130   <--x-->   130\n",
      "SAVING!!!!!\n",
      "130   <--x-->   130\n",
      "SAVING!!!!!\n",
      "130   <--x-->   131\n",
      "321  from index\n",
      "131   <--x-->   131\n",
      "SAVING!!!!!\n",
      "131   <--x-->   131\n",
      "SAVING!!!!!\n",
      "131   <--x-->   131\n",
      "SAVING!!!!!\n",
      "131   <--x-->   132\n",
      "324  from index\n",
      "132   <--x-->   132\n",
      "SAVING!!!!!\n",
      "132   <--x-->   132\n",
      "SAVING!!!!!\n",
      "132   <--x-->   132\n",
      "SAVING!!!!!\n",
      "132   <--x-->   133\n",
      "327  from index\n",
      "133   <--x-->   133\n",
      "SAVING!!!!!\n",
      "133   <--x-->   133\n",
      "SAVING!!!!!\n",
      "133   <--x-->   133\n",
      "SAVING!!!!!\n",
      "133   <--x-->   134\n",
      "330  from index\n",
      "134   <--x-->   134\n",
      "SAVING!!!!!\n",
      "134   <--x-->   134\n",
      "SAVING!!!!!\n",
      "134   <--x-->   134\n",
      "SAVING!!!!!\n",
      "134   <--x-->   135\n",
      "333  from index\n",
      "135   <--x-->   135\n",
      "SAVING!!!!!\n",
      "135   <--x-->   135\n",
      "SAVING!!!!!\n",
      "135   <--x-->   135\n",
      "SAVING!!!!!\n",
      "135   <--x-->   136\n",
      "336  from index\n",
      "136   <--x-->   136\n",
      "SAVING!!!!!\n",
      "136   <--x-->   136\n",
      "SAVING!!!!!\n",
      "136   <--x-->   136\n",
      "SAVING!!!!!\n",
      "136   <--x-->   137\n",
      "339  from index\n",
      "137   <--x-->   137\n",
      "SAVING!!!!!\n",
      "137   <--x-->   137\n",
      "SAVING!!!!!\n",
      "137   <--x-->   137\n",
      "SAVING!!!!!\n",
      "137   <--x-->   138\n",
      "342  from index\n",
      "138   <--x-->   138\n",
      "SAVING!!!!!\n",
      "138   <--x-->   138\n",
      "SAVING!!!!!\n",
      "138   <--x-->   138\n",
      "SAVING!!!!!\n",
      "138   <--x-->   138\n",
      "SAVING!!!!!\n",
      "138   <--x-->   139\n",
      "346  from index\n",
      "139   <--x-->   139\n",
      "SAVING!!!!!\n",
      "139   <--x-->   139\n",
      "SAVING!!!!!\n",
      "139   <--x-->   139\n",
      "SAVING!!!!!\n",
      "139   <--x-->   139\n",
      "SAVING!!!!!\n",
      "139   <--x-->   140\n",
      "350  from index\n",
      "140   <--x-->   140\n",
      "SAVING!!!!!\n",
      "140   <--x-->   140\n",
      "SAVING!!!!!\n",
      "140   <--x-->   140\n",
      "SAVING!!!!!\n",
      "140   <--x-->   140\n",
      "SAVING!!!!!\n",
      "140   <--x-->   141\n",
      "354  from index\n",
      "141   <--x-->   141\n",
      "SAVING!!!!!\n",
      "141   <--x-->   141\n",
      "SAVING!!!!!\n",
      "141   <--x-->   141\n",
      "SAVING!!!!!\n",
      "141   <--x-->   141\n",
      "SAVING!!!!!\n",
      "141   <--x-->   142\n",
      "358  from index\n",
      "142   <--x-->   142\n",
      "SAVING!!!!!\n",
      "142   <--x-->   142\n",
      "SAVING!!!!!\n",
      "142   <--x-->   142\n",
      "SAVING!!!!!\n",
      "142   <--x-->   142\n",
      "SAVING!!!!!\n",
      "142   <--x-->   143\n",
      "362  from index\n",
      "143   <--x-->   143\n",
      "SAVING!!!!!\n",
      "143   <--x-->   143\n",
      "SAVING!!!!!\n",
      "143   <--x-->   143\n",
      "SAVING!!!!!\n",
      "143   <--x-->   144\n",
      "365  from index\n",
      "144   <--x-->   144\n",
      "SAVING!!!!!\n",
      "144   <--x-->   144\n",
      "SAVING!!!!!\n",
      "144   <--x-->   144\n",
      "SAVING!!!!!\n",
      "144   <--x-->   145\n",
      "368  from index\n",
      "145   <--x-->   145\n",
      "SAVING!!!!!\n",
      "145   <--x-->   145\n",
      "SAVING!!!!!\n",
      "145   <--x-->   145\n",
      "SAVING!!!!!\n",
      "145   <--x-->   146\n",
      "371  from index\n",
      "146   <--x-->   146\n",
      "SAVING!!!!!\n",
      "146   <--x-->   146\n",
      "SAVING!!!!!\n",
      "146   <--x-->   146\n",
      "SAVING!!!!!\n",
      "146   <--x-->   147\n",
      "374  from index\n",
      "147   <--x-->   147\n",
      "SAVING!!!!!\n",
      "147   <--x-->   147\n",
      "SAVING!!!!!\n",
      "147   <--x-->   147\n",
      "SAVING!!!!!\n",
      "147   <--x-->   148\n",
      "377  from index\n",
      "148   <--x-->   148\n",
      "SAVING!!!!!\n",
      "148   <--x-->   148\n",
      "SAVING!!!!!\n",
      "148   <--x-->   148\n",
      "SAVING!!!!!\n",
      "148   <--x-->   149\n",
      "380  from index\n",
      "149   <--x-->   149\n",
      "SAVING!!!!!\n",
      "149   <--x-->   149\n",
      "SAVING!!!!!\n",
      "149   <--x-->   149\n",
      "SAVING!!!!!\n",
      "149   <--x-->   149\n",
      "SAVING!!!!!\n",
      "149   <--x-->   150\n",
      "384  from index\n",
      "150   <--x-->   150\n",
      "SAVING!!!!!\n",
      "150   <--x-->   150\n",
      "SAVING!!!!!\n",
      "150   <--x-->   150\n",
      "SAVING!!!!!\n",
      "150   <--x-->   150\n",
      "SAVING!!!!!\n",
      "150   <--x-->   151\n",
      "388  from index\n",
      "151   <--x-->   151\n",
      "SAVING!!!!!\n",
      "151   <--x-->   151\n",
      "SAVING!!!!!\n",
      "151   <--x-->   151\n",
      "SAVING!!!!!\n",
      "151   <--x-->   151\n",
      "SAVING!!!!!\n",
      "151   <--x-->   152\n",
      "392  from index\n",
      "152   <--x-->   152\n",
      "SAVING!!!!!\n",
      "152   <--x-->   152\n",
      "SAVING!!!!!\n",
      "152   <--x-->   152\n",
      "SAVING!!!!!\n",
      "152   <--x-->   152\n",
      "SAVING!!!!!\n",
      "152   <--x-->   153\n",
      "396  from index\n",
      "153   <--x-->   153\n",
      "SAVING!!!!!\n",
      "153   <--x-->   153\n",
      "SAVING!!!!!\n",
      "153   <--x-->   153\n",
      "SAVING!!!!!\n",
      "153   <--x-->   154\n",
      "399  from index\n",
      "154   <--x-->   154\n",
      "SAVING!!!!!\n",
      "154   <--x-->   154\n",
      "SAVING!!!!!\n",
      "154   <--x-->   154\n",
      "SAVING!!!!!\n",
      "154   <--x-->   155\n",
      "402  from index\n",
      "155   <--x-->   155\n",
      "SAVING!!!!!\n",
      "155   <--x-->   155\n",
      "SAVING!!!!!\n",
      "155   <--x-->   155\n",
      "SAVING!!!!!\n",
      "155   <--x-->   156\n",
      "405  from index\n",
      "156   <--x-->   156\n",
      "SAVING!!!!!\n",
      "156   <--x-->   156\n",
      "SAVING!!!!!\n",
      "156   <--x-->   156\n",
      "SAVING!!!!!\n",
      "156   <--x-->   157\n",
      "408  from index\n",
      "157   <--x-->   157\n",
      "SAVING!!!!!\n",
      "157   <--x-->   157\n",
      "SAVING!!!!!\n",
      "157   <--x-->   157\n",
      "SAVING!!!!!\n",
      "157   <--x-->   158\n",
      "411  from index\n",
      "158   <--x-->   158\n",
      "SAVING!!!!!\n",
      "158   <--x-->   158\n",
      "SAVING!!!!!\n",
      "158   <--x-->   158\n",
      "SAVING!!!!!\n",
      "158   <--x-->   159\n",
      "414  from index\n",
      "159   <--x-->   159\n",
      "SAVING!!!!!\n",
      "159   <--x-->   159\n",
      "SAVING!!!!!\n",
      "159   <--x-->   159\n",
      "SAVING!!!!!\n",
      "159   <--x-->   159\n",
      "SAVING!!!!!\n",
      "159   <--x-->   160\n",
      "418  from index\n",
      "160   <--x-->   160\n",
      "SAVING!!!!!\n",
      "160   <--x-->   160\n",
      "SAVING!!!!!\n",
      "160   <--x-->   160\n",
      "SAVING!!!!!\n",
      "160   <--x-->   160\n",
      "SAVING!!!!!\n",
      "160   <--x-->   161\n",
      "422  from index\n",
      "161   <--x-->   161\n",
      "SAVING!!!!!\n",
      "161   <--x-->   161\n",
      "SAVING!!!!!\n",
      "161   <--x-->   161\n",
      "SAVING!!!!!\n",
      "161   <--x-->   161\n",
      "SAVING!!!!!\n",
      "161   <--x-->   162\n",
      "426  from index\n",
      "162   <--x-->   162\n",
      "SAVING!!!!!\n",
      "162   <--x-->   162\n",
      "SAVING!!!!!\n",
      "162   <--x-->   162\n",
      "SAVING!!!!!\n",
      "162   <--x-->   162\n",
      "SAVING!!!!!\n",
      "162   <--x-->   163\n",
      "430  from index\n",
      "163   <--x-->   163\n",
      "SAVING!!!!!\n",
      "163   <--x-->   163\n",
      "SAVING!!!!!\n",
      "163   <--x-->   163\n",
      "SAVING!!!!!\n",
      "163   <--x-->   163\n",
      "SAVING!!!!!\n",
      "163   <--x-->   164\n",
      "434  from index\n",
      "164   <--x-->   164\n",
      "SAVING!!!!!\n",
      "164   <--x-->   164\n",
      "SAVING!!!!!\n",
      "164   <--x-->   164\n",
      "SAVING!!!!!\n",
      "164   <--x-->   165\n",
      "437  from index\n",
      "165   <--x-->   165\n",
      "SAVING!!!!!\n",
      "165   <--x-->   165\n",
      "SAVING!!!!!\n",
      "165   <--x-->   165\n",
      "SAVING!!!!!\n",
      "165   <--x-->   166\n",
      "440  from index\n",
      "166   <--x-->   166\n",
      "SAVING!!!!!\n",
      "166   <--x-->   166\n",
      "SAVING!!!!!\n",
      "166   <--x-->   166\n",
      "SAVING!!!!!\n",
      "166   <--x-->   167\n",
      "443  from index\n",
      "167   <--x-->   167\n",
      "SAVING!!!!!\n",
      "167   <--x-->   167\n",
      "SAVING!!!!!\n",
      "167   <--x-->   167\n",
      "SAVING!!!!!\n",
      "167   <--x-->   168\n",
      "446  from index\n",
      "168   <--x-->   168\n",
      "SAVING!!!!!\n",
      "168   <--x-->   168\n",
      "SAVING!!!!!\n",
      "168   <--x-->   168\n",
      "SAVING!!!!!\n",
      "168   <--x-->   169\n",
      "449  from index\n",
      "169   <--x-->   169\n",
      "SAVING!!!!!\n",
      "169   <--x-->   169\n",
      "SAVING!!!!!\n",
      "169   <--x-->   169\n",
      "SAVING!!!!!\n",
      "169   <--x-->   169\n",
      "SAVING!!!!!\n",
      "169   <--x-->   170\n",
      "453  from index\n",
      "170   <--x-->   170\n",
      "SAVING!!!!!\n",
      "170   <--x-->   170\n",
      "SAVING!!!!!\n",
      "170   <--x-->   170\n",
      "SAVING!!!!!\n",
      "170   <--x-->   170\n",
      "SAVING!!!!!\n",
      "170   <--x-->   171\n",
      "457  from index\n",
      "171   <--x-->   171\n",
      "SAVING!!!!!\n",
      "171   <--x-->   171\n",
      "SAVING!!!!!\n",
      "171   <--x-->   171\n",
      "SAVING!!!!!\n",
      "171   <--x-->   171\n",
      "SAVING!!!!!\n",
      "171   <--x-->   172\n",
      "461  from index\n",
      "172   <--x-->   172\n",
      "SAVING!!!!!\n",
      "172   <--x-->   172\n",
      "SAVING!!!!!\n",
      "172   <--x-->   172\n",
      "SAVING!!!!!\n",
      "172   <--x-->   172\n",
      "SAVING!!!!!\n",
      "172   <--x-->   173\n",
      "465  from index\n",
      "173   <--x-->   173\n",
      "SAVING!!!!!\n",
      "173   <--x-->   173\n",
      "SAVING!!!!!\n",
      "173   <--x-->   173\n",
      "SAVING!!!!!\n",
      "173   <--x-->   173\n",
      "SAVING!!!!!\n",
      "173   <--x-->   174\n",
      "469  from index\n",
      "174   <--x-->   174\n",
      "SAVING!!!!!\n",
      "174   <--x-->   174\n",
      "SAVING!!!!!\n",
      "174   <--x-->   174\n",
      "SAVING!!!!!\n",
      "174   <--x-->   175\n",
      "472  from index\n",
      "175   <--x-->   175\n",
      "SAVING!!!!!\n",
      "175   <--x-->   175\n",
      "SAVING!!!!!\n",
      "175   <--x-->   175\n",
      "SAVING!!!!!\n",
      "175   <--x-->   176\n",
      "475  from index\n",
      "176   <--x-->   176\n",
      "SAVING!!!!!\n",
      "176   <--x-->   176\n",
      "SAVING!!!!!\n",
      "176   <--x-->   176\n",
      "SAVING!!!!!\n",
      "176   <--x-->   177\n",
      "478  from index\n",
      "177   <--x-->   177\n",
      "SAVING!!!!!\n",
      "177   <--x-->   177\n",
      "SAVING!!!!!\n",
      "177   <--x-->   177\n",
      "SAVING!!!!!\n",
      "177   <--x-->   178\n",
      "481  from index\n",
      "178   <--x-->   178\n",
      "SAVING!!!!!\n",
      "178   <--x-->   178\n",
      "SAVING!!!!!\n",
      "178   <--x-->   178\n",
      "SAVING!!!!!\n",
      "178   <--x-->   179\n",
      "484  from index\n",
      "179   <--x-->   179\n",
      "SAVING!!!!!\n",
      "179   <--x-->   179\n",
      "SAVING!!!!!\n",
      "179   <--x-->   179\n",
      "SAVING!!!!!\n",
      "179   <--x-->   180\n",
      "487  from index\n",
      "180   <--x-->   180\n",
      "SAVING!!!!!\n",
      "180   <--x-->   180\n",
      "SAVING!!!!!\n",
      "180   <--x-->   180\n",
      "SAVING!!!!!\n",
      "180   <--x-->   181\n",
      "490  from index\n",
      "181   <--x-->   181\n",
      "SAVING!!!!!\n",
      "181   <--x-->   181\n",
      "SAVING!!!!!\n",
      "181   <--x-->   181\n",
      "SAVING!!!!!\n",
      "181   <--x-->   181\n",
      "SAVING!!!!!\n",
      "181   <--x-->   182\n",
      "494  from index\n",
      "182   <--x-->   182\n",
      "SAVING!!!!!\n",
      "182   <--x-->   182\n",
      "SAVING!!!!!\n",
      "182   <--x-->   182\n",
      "SAVING!!!!!\n",
      "182   <--x-->   182\n",
      "SAVING!!!!!\n",
      "182   <--x-->   183\n",
      "498  from index\n",
      "183   <--x-->   183\n",
      "SAVING!!!!!\n",
      "183   <--x-->   183\n",
      "SAVING!!!!!\n",
      "183   <--x-->   183\n",
      "SAVING!!!!!\n",
      "183   <--x-->   183\n",
      "SAVING!!!!!\n",
      "183   <--x-->   184\n",
      "502  from index\n",
      "184   <--x-->   184\n",
      "SAVING!!!!!\n",
      "184   <--x-->   184\n",
      "SAVING!!!!!\n",
      "184   <--x-->   184\n",
      "SAVING!!!!!\n",
      "184   <--x-->   185\n",
      "505  from index\n",
      "185   <--x-->   185\n",
      "SAVING!!!!!\n",
      "185   <--x-->   185\n",
      "SAVING!!!!!\n",
      "185   <--x-->   185\n",
      "SAVING!!!!!\n",
      "185   <--x-->   186\n",
      "508  from index\n",
      "186   <--x-->   186\n",
      "SAVING!!!!!\n",
      "186   <--x-->   186\n",
      "SAVING!!!!!\n",
      "186   <--x-->   186\n",
      "SAVING!!!!!\n",
      "186   <--x-->   187\n",
      "511  from index\n",
      "187   <--x-->   187\n",
      "SAVING!!!!!\n",
      "187   <--x-->   187\n",
      "SAVING!!!!!\n",
      "187   <--x-->   187\n",
      "SAVING!!!!!\n",
      "187   <--x-->   188\n",
      "514  from index\n",
      "188   <--x-->   188\n",
      "SAVING!!!!!\n",
      "188   <--x-->   188\n",
      "SAVING!!!!!\n",
      "188   <--x-->   188\n",
      "SAVING!!!!!\n",
      "188   <--x-->   189\n",
      "517  from index\n",
      "189   <--x-->   189\n",
      "SAVING!!!!!\n",
      "189   <--x-->   189\n",
      "SAVING!!!!!\n",
      "189   <--x-->   189\n",
      "SAVING!!!!!\n",
      "189   <--x-->   190\n",
      "520  from index\n",
      "190   <--x-->   190\n",
      "SAVING!!!!!\n",
      "190   <--x-->   190\n",
      "SAVING!!!!!\n",
      "190   <--x-->   190\n",
      "SAVING!!!!!\n",
      "190   <--x-->   191\n",
      "523  from index\n",
      "191   <--x-->   191\n",
      "SAVING!!!!!\n",
      "191   <--x-->   191\n",
      "SAVING!!!!!\n",
      "191   <--x-->   191\n",
      "SAVING!!!!!\n",
      "191   <--x-->   191\n",
      "SAVING!!!!!\n",
      "191   <--x-->   192\n",
      "527  from index\n",
      "192   <--x-->   192\n",
      "SAVING!!!!!\n",
      "192   <--x-->   192\n",
      "SAVING!!!!!\n",
      "192   <--x-->   192\n",
      "SAVING!!!!!\n",
      "192   <--x-->   192\n",
      "SAVING!!!!!\n",
      "192   <--x-->   193\n",
      "531  from index\n",
      "193   <--x-->   193\n",
      "SAVING!!!!!\n",
      "193   <--x-->   193\n",
      "SAVING!!!!!\n",
      "193   <--x-->   193\n",
      "SAVING!!!!!\n",
      "193   <--x-->   193\n",
      "SAVING!!!!!\n",
      "193   <--x-->   194\n",
      "535  from index\n",
      "194   <--x-->   194\n",
      "SAVING!!!!!\n",
      "194   <--x-->   194\n",
      "SAVING!!!!!\n",
      "194   <--x-->   194\n",
      "SAVING!!!!!\n",
      "194   <--x-->   194\n",
      "SAVING!!!!!\n",
      "194   <--x-->   195\n",
      "539  from index\n",
      "195   <--x-->   195\n",
      "SAVING!!!!!\n",
      "195   <--x-->   195\n",
      "SAVING!!!!!\n",
      "195   <--x-->   195\n",
      "SAVING!!!!!\n",
      "195   <--x-->   196\n",
      "542  from index\n",
      "196   <--x-->   196\n",
      "SAVING!!!!!\n",
      "196   <--x-->   196\n",
      "SAVING!!!!!\n",
      "196   <--x-->   196\n",
      "SAVING!!!!!\n",
      "196   <--x-->   197\n",
      "545  from index\n",
      "197   <--x-->   197\n",
      "SAVING!!!!!\n",
      "197   <--x-->   197\n",
      "SAVING!!!!!\n",
      "197   <--x-->   197\n",
      "SAVING!!!!!\n",
      "197   <--x-->   198\n",
      "548  from index\n",
      "198   <--x-->   198\n",
      "SAVING!!!!!\n",
      "198   <--x-->   198\n",
      "SAVING!!!!!\n",
      "198   <--x-->   198\n",
      "SAVING!!!!!\n",
      "198   <--x-->   199\n",
      "551  from index\n",
      "199   <--x-->   199\n",
      "SAVING!!!!!\n",
      "199   <--x-->   199\n",
      "SAVING!!!!!\n",
      "199   <--x-->   199\n",
      "SAVING!!!!!\n",
      "199   <--x-->   200\n",
      "554  from index\n",
      "200   <--x-->   200\n",
      "SAVING!!!!!\n",
      "200   <--x-->   200\n",
      "SAVING!!!!!\n",
      "200   <--x-->   200\n",
      "SAVING!!!!!\n",
      "200   <--x-->   201\n",
      "557  from index\n",
      "201   <--x-->   201\n",
      "SAVING!!!!!\n",
      "201   <--x-->   201\n",
      "SAVING!!!!!\n",
      "201   <--x-->   201\n",
      "SAVING!!!!!\n",
      "201   <--x-->   202\n",
      "560  from index\n",
      "202   <--x-->   202\n",
      "SAVING!!!!!\n",
      "202   <--x-->   202\n",
      "SAVING!!!!!\n",
      "202   <--x-->   202\n",
      "SAVING!!!!!\n",
      "202   <--x-->   202\n",
      "SAVING!!!!!\n",
      "202   <--x-->   203\n",
      "564  from index\n",
      "203   <--x-->   203\n",
      "SAVING!!!!!\n",
      "203   <--x-->   203\n",
      "SAVING!!!!!\n",
      "203   <--x-->   203\n",
      "SAVING!!!!!\n",
      "203   <--x-->   203\n",
      "SAVING!!!!!\n",
      "203   <--x-->   204\n",
      "568  from index\n",
      "204   <--x-->   204\n",
      "SAVING!!!!!\n",
      "204   <--x-->   204\n",
      "SAVING!!!!!\n",
      "204   <--x-->   204\n",
      "SAVING!!!!!\n",
      "204   <--x-->   204\n",
      "SAVING!!!!!\n",
      "204   <--x-->   205\n",
      "572  from index\n",
      "205   <--x-->   205\n",
      "SAVING!!!!!\n",
      "205   <--x-->   205\n",
      "SAVING!!!!!\n",
      "205   <--x-->   205\n",
      "SAVING!!!!!\n",
      "205   <--x-->   205\n",
      "SAVING!!!!!\n",
      "205   <--x-->   206\n",
      "576  from index\n",
      "206   <--x-->   206\n",
      "SAVING!!!!!\n",
      "206   <--x-->   206\n",
      "SAVING!!!!!\n",
      "206   <--x-->   206\n",
      "SAVING!!!!!\n",
      "206   <--x-->   207\n",
      "579  from index\n",
      "207   <--x-->   207\n",
      "SAVING!!!!!\n",
      "207   <--x-->   207\n",
      "SAVING!!!!!\n",
      "207   <--x-->   207\n",
      "SAVING!!!!!\n",
      "207   <--x-->   208\n",
      "582  from index\n",
      "208   <--x-->   208\n",
      "SAVING!!!!!\n",
      "208   <--x-->   208\n",
      "SAVING!!!!!\n",
      "208   <--x-->   208\n",
      "SAVING!!!!!\n",
      "208   <--x-->   209\n",
      "585  from index\n",
      "209   <--x-->   209\n",
      "SAVING!!!!!\n",
      "209   <--x-->   209\n",
      "SAVING!!!!!\n",
      "209   <--x-->   209\n",
      "SAVING!!!!!\n",
      "209   <--x-->   210\n",
      "588  from index\n",
      "210   <--x-->   210\n",
      "SAVING!!!!!\n",
      "210   <--x-->   210\n",
      "SAVING!!!!!\n",
      "210   <--x-->   210\n",
      "SAVING!!!!!\n",
      "210   <--x-->   211\n",
      "591  from index\n",
      "211   <--x-->   211\n",
      "SAVING!!!!!\n",
      "211   <--x-->   211\n",
      "SAVING!!!!!\n",
      "211   <--x-->   211\n",
      "SAVING!!!!!\n",
      "211   <--x-->   212\n",
      "594  from index\n",
      "212   <--x-->   212\n",
      "SAVING!!!!!\n",
      "212   <--x-->   212\n",
      "SAVING!!!!!\n",
      "212   <--x-->   212\n",
      "SAVING!!!!!\n",
      "212   <--x-->   213\n",
      "597  from index\n",
      "213   <--x-->   213\n",
      "SAVING!!!!!\n",
      "213   <--x-->   213\n",
      "SAVING!!!!!\n",
      "213   <--x-->   213\n",
      "SAVING!!!!!\n",
      "213   <--x-->   213\n",
      "SAVING!!!!!\n",
      "213   <--x-->   214\n",
      "601  from index\n",
      "214   <--x-->   214\n",
      "SAVING!!!!!\n",
      "214   <--x-->   214\n",
      "SAVING!!!!!\n",
      "214   <--x-->   214\n",
      "SAVING!!!!!\n",
      "214   <--x-->   214\n",
      "SAVING!!!!!\n",
      "214   <--x-->   215\n",
      "605  from index\n",
      "215   <--x-->   215\n",
      "SAVING!!!!!\n",
      "215   <--x-->   215\n",
      "SAVING!!!!!\n",
      "215   <--x-->   215\n",
      "SAVING!!!!!\n",
      "215   <--x-->   215\n",
      "SAVING!!!!!\n",
      "215   <--x-->   216\n",
      "609  from index\n",
      "216   <--x-->   216\n",
      "SAVING!!!!!\n",
      "216   <--x-->   216\n",
      "SAVING!!!!!\n",
      "216   <--x-->   216\n",
      "SAVING!!!!!\n",
      "216   <--x-->   217\n",
      "612  from index\n",
      "217   <--x-->   217\n",
      "SAVING!!!!!\n",
      "217   <--x-->   217\n",
      "SAVING!!!!!\n",
      "217   <--x-->   217\n",
      "SAVING!!!!!\n",
      "217   <--x-->   218\n",
      "615  from index\n",
      "218   <--x-->   218\n",
      "SAVING!!!!!\n",
      "218   <--x-->   218\n",
      "SAVING!!!!!\n",
      "218   <--x-->   218\n",
      "SAVING!!!!!\n",
      "218   <--x-->   219\n",
      "618  from index\n",
      "219   <--x-->   219\n",
      "SAVING!!!!!\n",
      "219   <--x-->   219\n",
      "SAVING!!!!!\n",
      "219   <--x-->   219\n",
      "SAVING!!!!!\n",
      "219   <--x-->   220\n",
      "621  from index\n",
      "220   <--x-->   220\n",
      "SAVING!!!!!\n",
      "220   <--x-->   220\n",
      "SAVING!!!!!\n",
      "220   <--x-->   220\n",
      "SAVING!!!!!\n",
      "220   <--x-->   221\n",
      "624  from index\n",
      "221   <--x-->   221\n",
      "SAVING!!!!!\n",
      "221   <--x-->   221\n",
      "SAVING!!!!!\n",
      "221   <--x-->   221\n",
      "SAVING!!!!!\n",
      "221   <--x-->   222\n",
      "627  from index\n",
      "222   <--x-->   222\n",
      "SAVING!!!!!\n",
      "222   <--x-->   222\n",
      "SAVING!!!!!\n",
      "222   <--x-->   222\n",
      "SAVING!!!!!\n",
      "222   <--x-->   223\n",
      "630  from index\n",
      "223   <--x-->   223\n",
      "SAVING!!!!!\n",
      "223   <--x-->   223\n",
      "SAVING!!!!!\n",
      "223   <--x-->   223\n",
      "SAVING!!!!!\n",
      "223   <--x-->   223\n",
      "SAVING!!!!!\n",
      "223   <--x-->   224\n",
      "634  from index\n",
      "224   <--x-->   224\n",
      "SAVING!!!!!\n",
      "224   <--x-->   224\n",
      "SAVING!!!!!\n",
      "224   <--x-->   224\n",
      "SAVING!!!!!\n",
      "224   <--x-->   224\n",
      "SAVING!!!!!\n",
      "224   <--x-->   225\n",
      "638  from index\n",
      "225   <--x-->   225\n",
      "SAVING!!!!!\n",
      "225   <--x-->   225\n",
      "SAVING!!!!!\n",
      "225   <--x-->   225\n",
      "SAVING!!!!!\n",
      "225   <--x-->   225\n",
      "SAVING!!!!!\n",
      "225   <--x-->   226\n",
      "642  from index\n",
      "226   <--x-->   226\n",
      "SAVING!!!!!\n",
      "226   <--x-->   226\n",
      "SAVING!!!!!\n",
      "226   <--x-->   226\n",
      "SAVING!!!!!\n",
      "226   <--x-->   227\n",
      "645  from index\n",
      "227   <--x-->   227\n",
      "SAVING!!!!!\n",
      "227   <--x-->   227\n",
      "SAVING!!!!!\n",
      "227   <--x-->   227\n",
      "SAVING!!!!!\n",
      "227   <--x-->   228\n",
      "648  from index\n",
      "228   <--x-->   228\n",
      "SAVING!!!!!\n",
      "228   <--x-->   228\n",
      "SAVING!!!!!\n",
      "228   <--x-->   228\n",
      "SAVING!!!!!\n",
      "228   <--x-->   229\n",
      "651  from index\n",
      "229   <--x-->   229\n",
      "SAVING!!!!!\n",
      "229   <--x-->   229\n",
      "SAVING!!!!!\n",
      "229   <--x-->   229\n",
      "SAVING!!!!!\n",
      "229   <--x-->   230\n",
      "654  from index\n",
      "230   <--x-->   230\n",
      "SAVING!!!!!\n",
      "230   <--x-->   230\n",
      "SAVING!!!!!\n",
      "230   <--x-->   230\n",
      "SAVING!!!!!\n",
      "230   <--x-->   231\n",
      "657  from index\n",
      "231   <--x-->   231\n",
      "SAVING!!!!!\n",
      "231   <--x-->   231\n",
      "SAVING!!!!!\n",
      "231   <--x-->   231\n",
      "SAVING!!!!!\n",
      "231   <--x-->   232\n",
      "660  from index\n",
      "232   <--x-->   232\n",
      "SAVING!!!!!\n",
      "232   <--x-->   232\n",
      "SAVING!!!!!\n",
      "232   <--x-->   232\n",
      "SAVING!!!!!\n",
      "232   <--x-->   233\n",
      "663  from index\n",
      "233   <--x-->   233\n",
      "SAVING!!!!!\n",
      "233   <--x-->   233\n",
      "SAVING!!!!!\n",
      "233   <--x-->   233\n",
      "SAVING!!!!!\n",
      "233   <--x-->   234\n",
      "666  from index\n",
      "234   <--x-->   234\n",
      "SAVING!!!!!\n",
      "234   <--x-->   234\n",
      "SAVING!!!!!\n",
      "234   <--x-->   234\n",
      "SAVING!!!!!\n",
      "234   <--x-->   234\n",
      "SAVING!!!!!\n",
      "234   <--x-->   235\n",
      "670  from index\n",
      "235   <--x-->   235\n",
      "SAVING!!!!!\n",
      "235   <--x-->   235\n",
      "SAVING!!!!!\n",
      "235   <--x-->   235\n",
      "SAVING!!!!!\n",
      "235   <--x-->   235\n",
      "SAVING!!!!!\n",
      "235   <--x-->   236\n",
      "674  from index\n",
      "236   <--x-->   236\n",
      "SAVING!!!!!\n",
      "236   <--x-->   236\n",
      "SAVING!!!!!\n",
      "236   <--x-->   236\n",
      "SAVING!!!!!\n",
      "236   <--x-->   236\n",
      "SAVING!!!!!\n",
      "236   <--x-->   237\n",
      "678  from index\n",
      "237   <--x-->   237\n",
      "SAVING!!!!!\n",
      "237   <--x-->   237\n",
      "SAVING!!!!!\n",
      "237   <--x-->   237\n",
      "SAVING!!!!!\n",
      "237   <--x-->   237\n",
      "SAVING!!!!!\n",
      "237   <--x-->   238\n",
      "682  from index\n",
      "238   <--x-->   238\n",
      "SAVING!!!!!\n",
      "238   <--x-->   238\n",
      "SAVING!!!!!\n",
      "238   <--x-->   238\n",
      "SAVING!!!!!\n",
      "238   <--x-->   238\n",
      "SAVING!!!!!\n",
      "238   <--x-->   239\n",
      "686  from index\n",
      "239   <--x-->   239\n",
      "SAVING!!!!!\n",
      "239   <--x-->   239\n",
      "SAVING!!!!!\n",
      "239   <--x-->   239\n",
      "SAVING!!!!!\n",
      "239   <--x-->   240\n",
      "689  from index\n",
      "240   <--x-->   240\n",
      "SAVING!!!!!\n",
      "240   <--x-->   240\n",
      "SAVING!!!!!\n",
      "240   <--x-->   240\n",
      "SAVING!!!!!\n",
      "240   <--x-->   241\n",
      "692  from index\n",
      "241   <--x-->   241\n",
      "SAVING!!!!!\n",
      "241   <--x-->   241\n",
      "SAVING!!!!!\n",
      "241   <--x-->   241\n",
      "SAVING!!!!!\n",
      "241   <--x-->   242\n",
      "695  from index\n",
      "242   <--x-->   242\n",
      "SAVING!!!!!\n",
      "242   <--x-->   242\n",
      "SAVING!!!!!\n",
      "242   <--x-->   242\n",
      "SAVING!!!!!\n",
      "242   <--x-->   243\n",
      "698  from index\n",
      "243   <--x-->   243\n",
      "SAVING!!!!!\n",
      "243   <--x-->   243\n",
      "SAVING!!!!!\n",
      "243   <--x-->   243\n",
      "SAVING!!!!!\n",
      "243   <--x-->   244\n",
      "701  from index\n",
      "244   <--x-->   244\n",
      "SAVING!!!!!\n",
      "244   <--x-->   244\n",
      "SAVING!!!!!\n",
      "244   <--x-->   244\n",
      "SAVING!!!!!\n",
      "244   <--x-->   244\n",
      "SAVING!!!!!\n",
      "244   <--x-->   245\n",
      "705  from index\n",
      "245   <--x-->   245\n",
      "SAVING!!!!!\n",
      "245   <--x-->   245\n",
      "SAVING!!!!!\n",
      "245   <--x-->   245\n",
      "SAVING!!!!!\n",
      "245   <--x-->   245\n",
      "SAVING!!!!!\n",
      "245   <--x-->   246\n",
      "709  from index\n",
      "246   <--x-->   246\n",
      "SAVING!!!!!\n",
      "246   <--x-->   246\n",
      "SAVING!!!!!\n",
      "246   <--x-->   246\n",
      "SAVING!!!!!\n",
      "246   <--x-->   246\n",
      "SAVING!!!!!\n",
      "246   <--x-->   247\n",
      "713  from index\n",
      "247   <--x-->   247\n",
      "SAVING!!!!!\n",
      "247   <--x-->   247\n",
      "SAVING!!!!!\n",
      "247   <--x-->   247\n",
      "SAVING!!!!!\n",
      "247   <--x-->   248\n",
      "716  from index\n",
      "248   <--x-->   248\n",
      "SAVING!!!!!\n",
      "248   <--x-->   248\n",
      "SAVING!!!!!\n",
      "248   <--x-->   248\n",
      "SAVING!!!!!\n",
      "248   <--x-->   249\n",
      "719  from index\n",
      "249   <--x-->   249\n",
      "SAVING!!!!!\n",
      "249   <--x-->   249\n",
      "SAVING!!!!!\n",
      "249   <--x-->   249\n",
      "SAVING!!!!!\n",
      "249   <--x-->   250\n",
      "722  from index\n",
      "250   <--x-->   250\n",
      "SAVING!!!!!\n",
      "250   <--x-->   250\n",
      "SAVING!!!!!\n",
      "250   <--x-->   250\n",
      "SAVING!!!!!\n",
      "250   <--x-->   251\n",
      "725  from index\n",
      "251   <--x-->   251\n",
      "SAVING!!!!!\n",
      "251   <--x-->   251\n",
      "SAVING!!!!!\n",
      "251   <--x-->   251\n",
      "SAVING!!!!!\n",
      "251   <--x-->   252\n",
      "728  from index\n",
      "252   <--x-->   252\n",
      "SAVING!!!!!\n",
      "252   <--x-->   252\n",
      "SAVING!!!!!\n",
      "252   <--x-->   252\n",
      "SAVING!!!!!\n",
      "252   <--x-->   253\n",
      "731  from index\n",
      "253   <--x-->   253\n",
      "SAVING!!!!!\n",
      "253   <--x-->   253\n",
      "SAVING!!!!!\n",
      "253   <--x-->   253\n",
      "SAVING!!!!!\n",
      "253   <--x-->   254\n",
      "734  from index\n",
      "254   <--x-->   254\n",
      "SAVING!!!!!\n",
      "254   <--x-->   254\n",
      "SAVING!!!!!\n",
      "254   <--x-->   254\n",
      "SAVING!!!!!\n",
      "254   <--x-->   255\n",
      "737  from index\n",
      "255   <--x-->   255\n",
      "SAVING!!!!!\n",
      "255   <--x-->   255\n",
      "SAVING!!!!!\n",
      "255   <--x-->   255\n",
      "SAVING!!!!!\n",
      "255   <--x-->   256\n",
      "740  from index\n",
      "256   <--x-->   256\n",
      "SAVING!!!!!\n",
      "256   <--x-->   256\n",
      "SAVING!!!!!\n",
      "256   <--x-->   256\n",
      "SAVING!!!!!\n",
      "256   <--x-->   256\n",
      "SAVING!!!!!\n",
      "256   <--x-->   257\n",
      "744  from index\n",
      "257   <--x-->   257\n",
      "SAVING!!!!!\n",
      "257   <--x-->   257\n",
      "SAVING!!!!!\n",
      "257   <--x-->   257\n",
      "SAVING!!!!!\n",
      "257   <--x-->   257\n",
      "SAVING!!!!!\n",
      "257   <--x-->   258\n",
      "748  from index\n",
      "258   <--x-->   258\n",
      "SAVING!!!!!\n",
      "258   <--x-->   258\n",
      "SAVING!!!!!\n",
      "258   <--x-->   258\n",
      "SAVING!!!!!\n",
      "258   <--x-->   258\n",
      "SAVING!!!!!\n",
      "258   <--x-->   259\n",
      "752  from index\n",
      "259   <--x-->   259\n",
      "SAVING!!!!!\n",
      "259   <--x-->   259\n",
      "SAVING!!!!!\n",
      "259   <--x-->   259\n",
      "SAVING!!!!!\n",
      "259   <--x-->   259\n",
      "SAVING!!!!!\n",
      "259   <--x-->   260\n",
      "756  from index\n",
      "260   <--x-->   260\n",
      "SAVING!!!!!\n",
      "260   <--x-->   260\n",
      "SAVING!!!!!\n",
      "260   <--x-->   260\n",
      "SAVING!!!!!\n",
      "260   <--x-->   261\n",
      "759  from index\n",
      "261   <--x-->   261\n",
      "SAVING!!!!!\n",
      "261   <--x-->   261\n",
      "SAVING!!!!!\n",
      "261   <--x-->   261\n",
      "SAVING!!!!!\n",
      "261   <--x-->   262\n",
      "762  from index\n",
      "262   <--x-->   262\n",
      "SAVING!!!!!\n",
      "262   <--x-->   262\n",
      "SAVING!!!!!\n",
      "262   <--x-->   262\n",
      "SAVING!!!!!\n",
      "262   <--x-->   263\n",
      "765  from index\n",
      "263   <--x-->   263\n",
      "SAVING!!!!!\n",
      "263   <--x-->   263\n",
      "SAVING!!!!!\n",
      "263   <--x-->   263\n",
      "SAVING!!!!!\n",
      "263   <--x-->   264\n",
      "768  from index\n",
      "264   <--x-->   264\n",
      "SAVING!!!!!\n",
      "264   <--x-->   264\n",
      "SAVING!!!!!\n",
      "264   <--x-->   264\n",
      "SAVING!!!!!\n",
      "264   <--x-->   264\n",
      "SAVING!!!!!\n",
      "264   <--x-->   265\n",
      "772  from index\n",
      "265   <--x-->   265\n",
      "SAVING!!!!!\n",
      "265   <--x-->   265\n",
      "SAVING!!!!!\n",
      "265   <--x-->   265\n",
      "SAVING!!!!!\n",
      "265   <--x-->   265\n",
      "SAVING!!!!!\n",
      "265   <--x-->   266\n",
      "776  from index\n",
      "266   <--x-->   266\n",
      "SAVING!!!!!\n",
      "266   <--x-->   266\n",
      "SAVING!!!!!\n",
      "266   <--x-->   266\n",
      "SAVING!!!!!\n",
      "266   <--x-->   266\n",
      "SAVING!!!!!\n",
      "266   <--x-->   267\n",
      "780  from index\n",
      "267   <--x-->   267\n",
      "SAVING!!!!!\n",
      "267   <--x-->   267\n",
      "SAVING!!!!!\n",
      "267   <--x-->   267\n",
      "SAVING!!!!!\n",
      "267   <--x-->   267\n",
      "SAVING!!!!!\n",
      "267   <--x-->   268\n",
      "784  from index\n",
      "268   <--x-->   268\n",
      "SAVING!!!!!\n",
      "268   <--x-->   268\n",
      "SAVING!!!!!\n",
      "268   <--x-->   268\n",
      "SAVING!!!!!\n",
      "268   <--x-->   268\n",
      "SAVING!!!!!\n",
      "268   <--x-->   269\n",
      "788  from index\n",
      "269   <--x-->   269\n",
      "SAVING!!!!!\n",
      "269   <--x-->   269\n",
      "SAVING!!!!!\n",
      "269   <--x-->   269\n",
      "SAVING!!!!!\n",
      "269   <--x-->   269\n",
      "SAVING!!!!!\n",
      "269   <--x-->   270\n",
      "792  from index\n",
      "270   <--x-->   270\n",
      "SAVING!!!!!\n",
      "270   <--x-->   270\n",
      "SAVING!!!!!\n",
      "270   <--x-->   270\n",
      "SAVING!!!!!\n",
      "270   <--x-->   271\n",
      "795  from index\n",
      "271   <--x-->   271\n",
      "SAVING!!!!!\n",
      "271   <--x-->   271\n",
      "SAVING!!!!!\n",
      "271   <--x-->   271\n",
      "SAVING!!!!!\n",
      "271   <--x-->   272\n",
      "798  from index\n",
      "272   <--x-->   272\n",
      "SAVING!!!!!\n",
      "272   <--x-->   272\n",
      "SAVING!!!!!\n",
      "272   <--x-->   272\n",
      "SAVING!!!!!\n",
      "272   <--x-->   273\n",
      "801  from index\n",
      "273   <--x-->   273\n",
      "SAVING!!!!!\n",
      "273   <--x-->   273\n",
      "SAVING!!!!!\n",
      "273   <--x-->   273\n",
      "SAVING!!!!!\n",
      "273   <--x-->   274\n",
      "804  from index\n",
      "274   <--x-->   274\n",
      "SAVING!!!!!\n",
      "274   <--x-->   274\n",
      "SAVING!!!!!\n",
      "274   <--x-->   274\n",
      "SAVING!!!!!\n",
      "274   <--x-->   275\n",
      "807  from index\n",
      "275   <--x-->   275\n",
      "SAVING!!!!!\n",
      "275   <--x-->   275\n",
      "SAVING!!!!!\n",
      "275   <--x-->   275\n",
      "SAVING!!!!!\n",
      "275   <--x-->   276\n",
      "810  from index\n",
      "276   <--x-->   276\n",
      "SAVING!!!!!\n",
      "276   <--x-->   276\n",
      "SAVING!!!!!\n",
      "276   <--x-->   276\n",
      "SAVING!!!!!\n",
      "276   <--x-->   276\n",
      "SAVING!!!!!\n",
      "276   <--x-->   277\n",
      "814  from index\n",
      "277   <--x-->   277\n",
      "SAVING!!!!!\n",
      "277   <--x-->   277\n",
      "SAVING!!!!!\n",
      "277   <--x-->   277\n",
      "SAVING!!!!!\n",
      "277   <--x-->   277\n",
      "SAVING!!!!!\n",
      "277   <--x-->   278\n",
      "818  from index\n",
      "278   <--x-->   278\n",
      "SAVING!!!!!\n",
      "278   <--x-->   278\n",
      "SAVING!!!!!\n",
      "278   <--x-->   278\n",
      "SAVING!!!!!\n",
      "278   <--x-->   278\n",
      "SAVING!!!!!\n",
      "278   <--x-->   279\n",
      "822  from index\n",
      "279   <--x-->   279\n",
      "SAVING!!!!!\n",
      "279   <--x-->   279\n",
      "SAVING!!!!!\n",
      "279   <--x-->   279\n",
      "SAVING!!!!!\n",
      "279   <--x-->   279\n",
      "SAVING!!!!!\n",
      "279   <--x-->   280\n",
      "826  from index\n",
      "280   <--x-->   280\n",
      "SAVING!!!!!\n",
      "280   <--x-->   280\n",
      "SAVING!!!!!\n",
      "280   <--x-->   280\n",
      "SAVING!!!!!\n",
      "280   <--x-->   280\n",
      "SAVING!!!!!\n",
      "280   <--x-->   281\n",
      "830  from index\n",
      "281   <--x-->   281\n",
      "SAVING!!!!!\n",
      "281   <--x-->   281\n",
      "SAVING!!!!!\n",
      "281   <--x-->   281\n",
      "SAVING!!!!!\n",
      "281   <--x-->   282\n",
      "833  from index\n",
      "282   <--x-->   282\n",
      "SAVING!!!!!\n",
      "282   <--x-->   282\n",
      "SAVING!!!!!\n",
      "282   <--x-->   282\n",
      "SAVING!!!!!\n",
      "282   <--x-->   283\n",
      "836  from index\n",
      "283   <--x-->   283\n",
      "SAVING!!!!!\n",
      "283   <--x-->   283\n",
      "SAVING!!!!!\n",
      "283   <--x-->   283\n",
      "SAVING!!!!!\n",
      "283   <--x-->   284\n",
      "839  from index\n",
      "284   <--x-->   284\n",
      "SAVING!!!!!\n",
      "284   <--x-->   284\n",
      "SAVING!!!!!\n",
      "284   <--x-->   284\n",
      "SAVING!!!!!\n",
      "284   <--x-->   285\n",
      "842  from index\n",
      "285   <--x-->   285\n",
      "SAVING!!!!!\n",
      "285   <--x-->   285\n",
      "SAVING!!!!!\n",
      "285   <--x-->   285\n",
      "SAVING!!!!!\n",
      "285   <--x-->   286\n",
      "845  from index\n",
      "286   <--x-->   286\n",
      "SAVING!!!!!\n",
      "286   <--x-->   286\n",
      "SAVING!!!!!\n",
      "286   <--x-->   286\n",
      "SAVING!!!!!\n",
      "286   <--x-->   287\n",
      "done  03_1fps_whilte_otsu47\n"
     ]
    }
   ],
   "source": [
    "\n",
    "#SAVING SUMMARIZE IDS\n",
    "manual_summarize_ids = get_final_cattle_id(str(save_dir),TOTAL_CATTLE_COUNT)\n",
    "\n",
    "summarize_id_csv = pd.DataFrame(manual_summarize_ids, columns = [\"Cow Id\"])\n",
    "\n",
    "summarize_id_csv.to_csv(str(save_dir)+'/summarize_id_'+now+'.csv', index= False) \n",
    "#FINISH SAVING SUMMARIZE IDS\n",
    "\n",
    "csv_name = 'main_csv.csv'\n",
    "#region Write Video\n",
    "try:\n",
    "    writeVideo(classification_vid,str(save_dir),csv_name ,manual_summarize_ids,image_count)\n",
    "except:\n",
    "    print(\" I am ugly\")\n",
    "#summarize_id_csv.to_csv(str(save_dir)+'/summarize_id_'+now+'.csv', index= False) \n",
    "classification_vid.release()\n",
    "cv2.destroyAllWindows()\n",
    "end_time = time.time()"
   ]
  },
  {
   "cell_type": "code",
   "execution_count": null,
   "id": "6258836e-738d-4a9d-a359-2610732928f2",
   "metadata": {},
   "outputs": [],
   "source": []
  },
  {
   "cell_type": "code",
   "execution_count": null,
   "id": "2a4c18b4-ca98-4c29-ab9d-04847c722e28",
   "metadata": {},
   "outputs": [],
   "source": [
    "for csv_index in range(len(MAX_prevId)):\n",
    "    df = pd.DataFrame(MAX_prevId[csv_index] , columns = ['ID'])\n",
    "    tracked_id = MAX_prevId[csv_index][0]\n",
    "    try:\n",
    "        org_ids = torch.tensor(MAX_orgId[csv_index], device = 'cpu')\n",
    "        df[\"Original\"] = org_ids\n",
    "    except:\n",
    "        df[\"Original\"] = MAX_orgId[csv_index]\n",
    "    now=str(datetime.now().date())\n",
    "\n",
    "    save_csv_each_path = str(Path(save_dir / str(tracked_id) / f'{str(tracked_id)}.csv'))\n",
    "    df.to_csv(save_csv_each_path, index= False)##asdfasdf\n",
    "MAIN_DF.to_csv(csv_main_file_path, index=False)"
   ]
  },
  {
   "cell_type": "code",
   "execution_count": null,
   "id": "82466796-6a15-4845-a1a4-0c6fac562e95",
   "metadata": {},
   "outputs": [],
   "source": [
    "print(csv_main_file_path)\n",
    "csv_main_file_path = 'D:\\\\Python\\\\SULarbmon\\\\Python\\\\env\\\\yolov8_june\\\\ultralytics\\\\runs\\\\segment\\\\honkawa\\\\291_unknown\\\\identification4\\\\main_csv.csv'\n",
    "MAIN_DF.to_csv(csv_main_file_path, index=False)\n",
    "print('save')"
   ]
  },
  {
   "cell_type": "code",
   "execution_count": null,
   "id": "b837f6dd-1886-4aad-8d3a-a0082f55a9ea",
   "metadata": {},
   "outputs": [],
   "source": [
    "\n",
    "project = 'D:\\\\Honkawa_Exe_output\\\\identification2_0805'\n",
    "name = 'identification_new2'\n",
    "dataset = \"D:\\\\815_CowDataChecking\\\\Honkawa\\\\2023-08-04\\\\03\\\\0304\" \n",
    "#save_vid_name=  dataset.split(\"\\\\\")[-1].replace('.mkv','_track')  #open this when running single video\n",
    "\n",
    "\n",
    "#results = model('D:\\\\815_CowDataChecking\\\\20221228\\\\20221228_E_cow\\\\20221228_151533_D474.mkv',imgsz=1088,save=False,retina_masks=False,show=False,stream=True,device='0',conf=0.2)\n",
    "#save_dir = increment_path(Path(project) / name, exist_ok=True)  # increment run\n",
    "save_dir = Path(project,name)\n",
    "print(save_dir)"
   ]
  },
  {
   "cell_type": "code",
   "execution_count": null,
   "id": "687720f3-3757-43b4-9817-c5d7d6216022",
   "metadata": {
    "scrolled": true,
    "tags": []
   },
   "outputs": [],
   "source": [
    "#save_dir = \"D:\\\\Python\\\\SULarbmon\\\\Python\\\\env\\\\yolov8_june\\\\ultralytics\\\\runs\\\\segment\\\\honkawa\\\\1103\\\\identification_new2\"\n",
    "UNKNOWN_THRESHOLD = 0.5\n",
    "cattle_track_count = 0\n",
    "UNKNOWN_CATTLE = 0\n",
    "\n",
    "\n",
    "save_dir = \"D:\\\\Python\\\\SULarbmon\\\\Python\\\\env\\\\yolov8_june\\\\ultralytics\\\\runs\\\\segment\\\\honkawa\\\\291_unknown\\\\identification4\"\n",
    "csv_main_file_path = save_dir + \"\\main_csv.csv\"\n",
    "dataset =  \"D:\\\\815_CowDataChecking\\\\Honkawa\\\\2023-07-31\\\\03\" \n",
    "TOTAL_CATTLE_COUNT=255\n",
    "\n",
    "now=str(datetime.now().date())\n",
    "\n",
    "save_vid_name=  dataset.split(\"\\\\\")[-1].replace('.mp4','')+'_classification'\n",
    "\n",
    "save_vid_path = str(Path(os.path.join(save_dir, save_vid_name)).with_suffix('.mp4'))\n",
    "print(save_vid_path)\n",
    "classification_vid = cv2.VideoWriter(save_vid_path,cv2.VideoWriter_fourcc(*'mp4v'), 15, (640,384))\n",
    "print(save_vid_path)\n",
    "#### write video after saving csv\n",
    "manual_summarize_ids = get_final_cattle_id(str(save_dir),TOTAL_CATTLE_COUNT)\n",
    "summarize_id_csv = pd.DataFrame(manual_summarize_ids, columns = [\"Cow Id\"])\n",
    "summarize_id_csv.to_csv(str(save_dir)+'/summarize_id_50_percent_'+now+'.csv', index= False) \n",
    "\n",
    "csv_name = 'main_csv.csv'\n",
    "#region Write Video\n",
    "image_count = 16201\n",
    "try:\n",
    "    writeVideo(classification_vid,str(save_dir),csv_name ,manual_summarize_ids,image_count)\n",
    "except Exception as ex:\n",
    "    print(ex)\n",
    "#summarize_id_csv.to_csv(str(save_dir)+'/summarize_id_'+now+'.csv', index= False) \n",
    "classification_vid.release()\n",
    "cv2.destroyAllWindows()\n"
   ]
  },
  {
   "cell_type": "code",
   "execution_count": null,
   "id": "bb8ebfe1-b310-4d49-9376-cd19b2896c36",
   "metadata": {},
   "outputs": [],
   "source": [
    "cv2.destroyAllWindows()"
   ]
  },
  {
   "cell_type": "code",
   "execution_count": null,
   "id": "4a327c40-672c-4b32-b442-ab6f585eaa35",
   "metadata": {},
   "outputs": [],
   "source": [
    "summarize_id_csv.to_csv(str(save_dir)+'/summarize_id_'+now+'.csv', index= False) "
   ]
  },
  {
   "cell_type": "code",
   "execution_count": null,
   "id": "97cbc49c-cfb5-46cf-a5f7-3eda38622a65",
   "metadata": {},
   "outputs": [],
   "source": []
  },
  {
   "cell_type": "code",
   "execution_count": null,
   "id": "08ee745d-1e26-4f99-aeb7-a454fce0698c",
   "metadata": {
    "tags": []
   },
   "outputs": [],
   "source": [
    "cap.release()\n",
    "cv2.destroyAllWindows()\n"
   ]
  },
  {
   "cell_type": "code",
   "execution_count": null,
   "id": "78864315-f639-44bd-8c69-6a9454f9e098",
   "metadata": {},
   "outputs": [],
   "source": [
    "dataset = \"D:\\\\815_CowDataChecking\\\\20220704\\\\20220704_M_Cow\" #don't add \\\\ at the end\n",
    "#save_vid_name=  dataset.split(\"\\\\\")[-1].replace('.mkv','_track')  #open this when running single video\n",
    "save_vid_name = dataset.split(\"\\\\\")[-1] # open this when running multiple videos\n",
    "print(save_vid_name)\n"
   ]
  },
  {
   "cell_type": "code",
   "execution_count": null,
   "id": "44fe5233-4b20-4570-a9fc-312d3a591930",
   "metadata": {
    "scrolled": true,
    "tags": []
   },
   "outputs": [],
   "source": [
    "        \n",
    "\n",
    "###### write final csv\n",
    "for csv_index in range(len(MAX_prevId)):\n",
    "    df = pd.DataFrame(MAX_prevId[csv_index] , columns = ['ID'])\n",
    "    tracked_id = MAX_prevId[csv_index][0]\n",
    "    try:\n",
    "        org_ids = torch.tensor(MAX_orgId[csv_index], device = 'cpu')\n",
    "        df[\"Original\"] = org_ids\n",
    "    except:\n",
    "        df[\"Original\"] = MAX_orgId[csv_index]\n",
    "    now=str(datetime.now().date())\n",
    "\n",
    "    save_csv_each_path = str(Path(save_dir / str(tracked_id) / f'{str(tracked_id)}.csv'))\n",
    "    df.to_csv(save_csv_each_path, index= False)##asdfasdf\n",
    "#All records     \n",
    "data_to_add = {\n",
    "    'ImageId': IMAGE_ID_LIST,\n",
    "    'LocalId': LOCAL_ID_LIST,\n",
    "    'xyxy1': MAX_xyxy1,\n",
    "    'xyxy2': MAX_xyxy2,\n",
    "    'xyxy3': MAX_xyxy3,\n",
    "    'xyxy4': MAX_xyxy4\n",
    "    # Add more columns as needed\n",
    "}\n",
    "add_lines_to_excel(csv_main_file_path, data_to_add)\n",
    "\n",
    "IMAGE_STORED_LOCATION = []\n",
    "\n",
    "cattle_ids = []\n",
    "#################################\\\n",
    "manual_summarize_ids = []\n",
    "manual_local_ids = []\n",
    "\n",
    "manual_summarize_ids = []\n",
    "manual_local_ids = []\n",
    "#### write video after saving csv\n",
    "final_cattle_count = 1\n",
    "\n",
    "\n",
    "\n",
    "save_vid_name=  dataset.split(\"\\\\\")[-1].replace('.mkv','')+'_classification'\n",
    "save_vid_path = str(Path(os.path.join(save_dir, save_vid_name)).with_suffix('.mp4'))\n",
    "classification_vid = cv2.VideoWriter(save_vid_path,cv2.VideoWriter_fourcc(*'mp4v'), 13, (1920,1080))\n",
    "\n",
    "#manual_summarize_ids = get_final_cattle_id(save_dir,CATTLE_SAVED_COUNT)\n",
    "#for loc in range(len(demo_img_save_path)):\n",
    "#    print(demo_img_save_path[loc])\n",
    "#    final_cattle_id = writeVideo(classification_vid,demo_img_save_path[loc])\n",
    "#    if(final_cattle_id != -1):\n",
    "#        manual_local_ids.append(final_cattle_count)\n",
    "#        manual_summarize_ids.append(final_cattle_id)\n",
    "#        final_cattle_count+=1 \n",
    "\n",
    "\n",
    "\n",
    "print(save_vid_path)\n",
    "#### write video after saving csv\n",
    "manual_summarize_ids = get_final_cattle_id(str(save_dir),TOTAL_CATTLE_COUNT)\n",
    "\n",
    "summarize_id_csv = pd.DataFrame(manual_summarize_ids, columns = [\"Cow Id\"])\n",
    "\n",
    "summarize_id_csv.to_csv(str(save_dir)+'/summarize_id_'+now+'.csv', index= False) \n",
    "csv_name = 'main_csv.csv'\n",
    "#region Write Video\n",
    "try:\n",
    "    writeVideo(classification_vid,str(save_dir),csv_name ,manual_summarize_ids,image_count)\n",
    "except:\n",
    "    print(\" Done\")\n",
    "\n",
    "classification_vid.release()\n",
    "cv2.destroyAllWindows()\n",
    "#prevId_record = []\n",
    "#MAX_prevId = []\n",
    "#MAX_xyxy1 = [] \n",
    "#MAX_xyxy2 = [] \n",
    "#MAX_xyxy3 = [] \n",
    "#MAX_xyxy4 = [] \n",
    "#MAX_orgId = [] "
   ]
  },
  {
   "cell_type": "code",
   "execution_count": null,
   "id": "8100c5ea-47e4-4ddb-83a7-24e17f704c06",
   "metadata": {},
   "outputs": [],
   "source": []
  },
  {
   "cell_type": "code",
   "execution_count": null,
   "id": "58206993-ab82-45dd-a90c-139cc61bf79f",
   "metadata": {},
   "outputs": [],
   "source": []
  },
  {
   "cell_type": "code",
   "execution_count": null,
   "id": "144e2031-5747-436a-96b5-c314177883fa",
   "metadata": {},
   "outputs": [],
   "source": []
  },
  {
   "cell_type": "code",
   "execution_count": null,
   "id": "4b02ac48-8c4d-44c2-96e1-d76814a62d52",
   "metadata": {},
   "outputs": [],
   "source": [
    "import pandas as pd\n",
    "csv_path = \"runs\\\\segment\\\\honkawa_1103_112_RANK\\\\03_1_video\\\\identification35\\\\8\\\\8.csv\"\n",
    "testing = pd.read_csv(csv_path)\n",
    "print((testing['RANK1'] == 10172).sum())\n",
    "print(len(testing['RANK1']))"
   ]
  },
  {
   "cell_type": "code",
   "execution_count": null,
   "id": "85024c1d-c312-4248-8e6c-1021a08476a4",
   "metadata": {},
   "outputs": [],
   "source": []
  }
 ],
 "metadata": {
  "kernelspec": {
   "display_name": "Python 3 (ipykernel)",
   "language": "python",
   "name": "python3"
  },
  "language_info": {
   "codemirror_mode": {
    "name": "ipython",
    "version": 3
   },
   "file_extension": ".py",
   "mimetype": "text/x-python",
   "name": "python",
   "nbconvert_exporter": "python",
   "pygments_lexer": "ipython3",
   "version": "3.9.16"
  }
 },
 "nbformat": 4,
 "nbformat_minor": 5
}
