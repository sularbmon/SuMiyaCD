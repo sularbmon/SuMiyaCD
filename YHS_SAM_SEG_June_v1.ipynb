{
 "cells": [
  {
   "cell_type": "code",
   "execution_count": null,
   "id": "5099ec81-b427-40ee-bd81-671d3f5b6941",
   "metadata": {},
   "outputs": [],
   "source": [
    "#This ipynb is using Yolov5_VGG_SVM , taking first frame from the start\n",
    "#taking first frame and all frame to calculate the max show ups cattle id\n",
    "#No black box"
   ]
  },
  {
   "cell_type": "code",
   "execution_count": 1,
   "id": "fc1be2ec-4090-4ae5-befa-3569ea8c34bb",
   "metadata": {},
   "outputs": [
    {
     "name": "stderr",
     "output_type": "stream",
     "text": [
      "C:\\Users\\thithilab\\AppData\\Roaming\\Python\\Python37\\site-packages\\tqdm\\auto.py:22: TqdmWarning: IProgress not found. Please update jupyter and ipywidgets. See https://ipywidgets.readthedocs.io/en/stable/user_install.html\n",
      "  from .autonotebook import tqdm as notebook_tqdm\n",
      "C:\\Users\\thithilab\\anaconda3\\envs\\yolov5_april\\lib\\site-packages\\sklearn\\base.py:338: UserWarning: Trying to unpickle estimator SVC from version 1.2.2 when using version 1.0.2. This might lead to breaking code or invalid results. Use at your own risk. For more info please refer to:\n",
      "https://scikit-learn.org/stable/modules/model_persistence.html#security-maintainability-limitations\n",
      "  UserWarning,\n",
      "C:\\Users\\thithilab\\anaconda3\\envs\\yolov5_april\\lib\\site-packages\\sklearn\\base.py:338: UserWarning: Trying to unpickle estimator LabelEncoder from version 1.2.2 when using version 1.0.2. This might lead to breaking code or invalid results. Use at your own risk. For more info please refer to:\n",
      "https://scikit-learn.org/stable/modules/model_persistence.html#security-maintainability-limitations\n",
      "  UserWarning,\n"
     ]
    }
   ],
   "source": [
    "### run here first\n",
    "import argparse\n",
    "import os\n",
    "import sys\n",
    "from pathlib import Path\n",
    "import imutils\n",
    "import numpy as np\n",
    "from PIL import Image\n",
    "import math\n",
    "from collections import deque\n",
    "import cv2\n",
    "\n",
    "import glob\n",
    "import cv2\n",
    "import torch\n",
    "import torch.backends.cudnn as cudnn\n",
    "import tensorflow as tf \n",
    "import pandas as pd\n",
    "import nas_video_module as nas\n",
    "from re import match\n",
    "\n",
    "from models.common import DetectMultiBackend\n",
    "from utils.dataloaders import IMG_FORMATS, VID_FORMATS, LoadImages, LoadStreams\n",
    "from utils.general import (LOGGER, check_file, check_img_size, check_imshow, check_requirements, colorstr, cv2,\n",
    "                           increment_path, non_max_suppression, print_args, scale_coords, strip_optimizer, xyxy2xywh)\n",
    "from utils.plots import Annotator, colors, save_one_box\n",
    "from utils.torch_utils import select_device, time_sync\n",
    "\n",
    "from datetime import datetime\n",
    "from timer import Timer\n",
    "\n",
    "import time\n",
    "import pickle\n",
    "\n",
    "#from sklearn.naive_bayes import MultinomialNB\n",
    "from sklearn.naive_bayes import GaussianNB\n",
    "from tensorflow.keras.applications.mobilenet_v2 import MobileNetV2, preprocess_input\n",
    "#load model\n",
    "from skimage.transform import resize\n",
    "from skimage.feature import hog\n",
    "\n",
    "\n",
    "le_filename = 'Hog_Segmentation/Hog_label_encode.le'\n",
    "svm_filename ='Hog_Segmentation/Hog_svm_v1_64.pkl'\n",
    "\n",
    "\n",
    "svm = pickle.load(open(svm_filename, 'rb'))\n",
    "le = pickle.load(open(le_filename, 'rb'))\n",
    "\n",
    "\n",
    "##############"
   ]
  },
  {
   "cell_type": "code",
   "execution_count": 2,
   "id": "1d34cb07-e050-4e68-9f50-0d2513f48518",
   "metadata": {},
   "outputs": [
    {
     "data": {
      "text/plain": [
       "Sam(\n",
       "  (image_encoder): ImageEncoderViT(\n",
       "    (patch_embed): PatchEmbed(\n",
       "      (proj): Conv2d(3, 1280, kernel_size=(16, 16), stride=(16, 16))\n",
       "    )\n",
       "    (blocks): ModuleList(\n",
       "      (0): Block(\n",
       "        (norm1): LayerNorm((1280,), eps=1e-06, elementwise_affine=True)\n",
       "        (attn): Attention(\n",
       "          (qkv): Linear(in_features=1280, out_features=3840, bias=True)\n",
       "          (proj): Linear(in_features=1280, out_features=1280, bias=True)\n",
       "        )\n",
       "        (norm2): LayerNorm((1280,), eps=1e-06, elementwise_affine=True)\n",
       "        (mlp): MLPBlock(\n",
       "          (lin1): Linear(in_features=1280, out_features=5120, bias=True)\n",
       "          (lin2): Linear(in_features=5120, out_features=1280, bias=True)\n",
       "          (act): GELU(approximate='none')\n",
       "        )\n",
       "      )\n",
       "      (1): Block(\n",
       "        (norm1): LayerNorm((1280,), eps=1e-06, elementwise_affine=True)\n",
       "        (attn): Attention(\n",
       "          (qkv): Linear(in_features=1280, out_features=3840, bias=True)\n",
       "          (proj): Linear(in_features=1280, out_features=1280, bias=True)\n",
       "        )\n",
       "        (norm2): LayerNorm((1280,), eps=1e-06, elementwise_affine=True)\n",
       "        (mlp): MLPBlock(\n",
       "          (lin1): Linear(in_features=1280, out_features=5120, bias=True)\n",
       "          (lin2): Linear(in_features=5120, out_features=1280, bias=True)\n",
       "          (act): GELU(approximate='none')\n",
       "        )\n",
       "      )\n",
       "      (2): Block(\n",
       "        (norm1): LayerNorm((1280,), eps=1e-06, elementwise_affine=True)\n",
       "        (attn): Attention(\n",
       "          (qkv): Linear(in_features=1280, out_features=3840, bias=True)\n",
       "          (proj): Linear(in_features=1280, out_features=1280, bias=True)\n",
       "        )\n",
       "        (norm2): LayerNorm((1280,), eps=1e-06, elementwise_affine=True)\n",
       "        (mlp): MLPBlock(\n",
       "          (lin1): Linear(in_features=1280, out_features=5120, bias=True)\n",
       "          (lin2): Linear(in_features=5120, out_features=1280, bias=True)\n",
       "          (act): GELU(approximate='none')\n",
       "        )\n",
       "      )\n",
       "      (3): Block(\n",
       "        (norm1): LayerNorm((1280,), eps=1e-06, elementwise_affine=True)\n",
       "        (attn): Attention(\n",
       "          (qkv): Linear(in_features=1280, out_features=3840, bias=True)\n",
       "          (proj): Linear(in_features=1280, out_features=1280, bias=True)\n",
       "        )\n",
       "        (norm2): LayerNorm((1280,), eps=1e-06, elementwise_affine=True)\n",
       "        (mlp): MLPBlock(\n",
       "          (lin1): Linear(in_features=1280, out_features=5120, bias=True)\n",
       "          (lin2): Linear(in_features=5120, out_features=1280, bias=True)\n",
       "          (act): GELU(approximate='none')\n",
       "        )\n",
       "      )\n",
       "      (4): Block(\n",
       "        (norm1): LayerNorm((1280,), eps=1e-06, elementwise_affine=True)\n",
       "        (attn): Attention(\n",
       "          (qkv): Linear(in_features=1280, out_features=3840, bias=True)\n",
       "          (proj): Linear(in_features=1280, out_features=1280, bias=True)\n",
       "        )\n",
       "        (norm2): LayerNorm((1280,), eps=1e-06, elementwise_affine=True)\n",
       "        (mlp): MLPBlock(\n",
       "          (lin1): Linear(in_features=1280, out_features=5120, bias=True)\n",
       "          (lin2): Linear(in_features=5120, out_features=1280, bias=True)\n",
       "          (act): GELU(approximate='none')\n",
       "        )\n",
       "      )\n",
       "      (5): Block(\n",
       "        (norm1): LayerNorm((1280,), eps=1e-06, elementwise_affine=True)\n",
       "        (attn): Attention(\n",
       "          (qkv): Linear(in_features=1280, out_features=3840, bias=True)\n",
       "          (proj): Linear(in_features=1280, out_features=1280, bias=True)\n",
       "        )\n",
       "        (norm2): LayerNorm((1280,), eps=1e-06, elementwise_affine=True)\n",
       "        (mlp): MLPBlock(\n",
       "          (lin1): Linear(in_features=1280, out_features=5120, bias=True)\n",
       "          (lin2): Linear(in_features=5120, out_features=1280, bias=True)\n",
       "          (act): GELU(approximate='none')\n",
       "        )\n",
       "      )\n",
       "      (6): Block(\n",
       "        (norm1): LayerNorm((1280,), eps=1e-06, elementwise_affine=True)\n",
       "        (attn): Attention(\n",
       "          (qkv): Linear(in_features=1280, out_features=3840, bias=True)\n",
       "          (proj): Linear(in_features=1280, out_features=1280, bias=True)\n",
       "        )\n",
       "        (norm2): LayerNorm((1280,), eps=1e-06, elementwise_affine=True)\n",
       "        (mlp): MLPBlock(\n",
       "          (lin1): Linear(in_features=1280, out_features=5120, bias=True)\n",
       "          (lin2): Linear(in_features=5120, out_features=1280, bias=True)\n",
       "          (act): GELU(approximate='none')\n",
       "        )\n",
       "      )\n",
       "      (7): Block(\n",
       "        (norm1): LayerNorm((1280,), eps=1e-06, elementwise_affine=True)\n",
       "        (attn): Attention(\n",
       "          (qkv): Linear(in_features=1280, out_features=3840, bias=True)\n",
       "          (proj): Linear(in_features=1280, out_features=1280, bias=True)\n",
       "        )\n",
       "        (norm2): LayerNorm((1280,), eps=1e-06, elementwise_affine=True)\n",
       "        (mlp): MLPBlock(\n",
       "          (lin1): Linear(in_features=1280, out_features=5120, bias=True)\n",
       "          (lin2): Linear(in_features=5120, out_features=1280, bias=True)\n",
       "          (act): GELU(approximate='none')\n",
       "        )\n",
       "      )\n",
       "      (8): Block(\n",
       "        (norm1): LayerNorm((1280,), eps=1e-06, elementwise_affine=True)\n",
       "        (attn): Attention(\n",
       "          (qkv): Linear(in_features=1280, out_features=3840, bias=True)\n",
       "          (proj): Linear(in_features=1280, out_features=1280, bias=True)\n",
       "        )\n",
       "        (norm2): LayerNorm((1280,), eps=1e-06, elementwise_affine=True)\n",
       "        (mlp): MLPBlock(\n",
       "          (lin1): Linear(in_features=1280, out_features=5120, bias=True)\n",
       "          (lin2): Linear(in_features=5120, out_features=1280, bias=True)\n",
       "          (act): GELU(approximate='none')\n",
       "        )\n",
       "      )\n",
       "      (9): Block(\n",
       "        (norm1): LayerNorm((1280,), eps=1e-06, elementwise_affine=True)\n",
       "        (attn): Attention(\n",
       "          (qkv): Linear(in_features=1280, out_features=3840, bias=True)\n",
       "          (proj): Linear(in_features=1280, out_features=1280, bias=True)\n",
       "        )\n",
       "        (norm2): LayerNorm((1280,), eps=1e-06, elementwise_affine=True)\n",
       "        (mlp): MLPBlock(\n",
       "          (lin1): Linear(in_features=1280, out_features=5120, bias=True)\n",
       "          (lin2): Linear(in_features=5120, out_features=1280, bias=True)\n",
       "          (act): GELU(approximate='none')\n",
       "        )\n",
       "      )\n",
       "      (10): Block(\n",
       "        (norm1): LayerNorm((1280,), eps=1e-06, elementwise_affine=True)\n",
       "        (attn): Attention(\n",
       "          (qkv): Linear(in_features=1280, out_features=3840, bias=True)\n",
       "          (proj): Linear(in_features=1280, out_features=1280, bias=True)\n",
       "        )\n",
       "        (norm2): LayerNorm((1280,), eps=1e-06, elementwise_affine=True)\n",
       "        (mlp): MLPBlock(\n",
       "          (lin1): Linear(in_features=1280, out_features=5120, bias=True)\n",
       "          (lin2): Linear(in_features=5120, out_features=1280, bias=True)\n",
       "          (act): GELU(approximate='none')\n",
       "        )\n",
       "      )\n",
       "      (11): Block(\n",
       "        (norm1): LayerNorm((1280,), eps=1e-06, elementwise_affine=True)\n",
       "        (attn): Attention(\n",
       "          (qkv): Linear(in_features=1280, out_features=3840, bias=True)\n",
       "          (proj): Linear(in_features=1280, out_features=1280, bias=True)\n",
       "        )\n",
       "        (norm2): LayerNorm((1280,), eps=1e-06, elementwise_affine=True)\n",
       "        (mlp): MLPBlock(\n",
       "          (lin1): Linear(in_features=1280, out_features=5120, bias=True)\n",
       "          (lin2): Linear(in_features=5120, out_features=1280, bias=True)\n",
       "          (act): GELU(approximate='none')\n",
       "        )\n",
       "      )\n",
       "      (12): Block(\n",
       "        (norm1): LayerNorm((1280,), eps=1e-06, elementwise_affine=True)\n",
       "        (attn): Attention(\n",
       "          (qkv): Linear(in_features=1280, out_features=3840, bias=True)\n",
       "          (proj): Linear(in_features=1280, out_features=1280, bias=True)\n",
       "        )\n",
       "        (norm2): LayerNorm((1280,), eps=1e-06, elementwise_affine=True)\n",
       "        (mlp): MLPBlock(\n",
       "          (lin1): Linear(in_features=1280, out_features=5120, bias=True)\n",
       "          (lin2): Linear(in_features=5120, out_features=1280, bias=True)\n",
       "          (act): GELU(approximate='none')\n",
       "        )\n",
       "      )\n",
       "      (13): Block(\n",
       "        (norm1): LayerNorm((1280,), eps=1e-06, elementwise_affine=True)\n",
       "        (attn): Attention(\n",
       "          (qkv): Linear(in_features=1280, out_features=3840, bias=True)\n",
       "          (proj): Linear(in_features=1280, out_features=1280, bias=True)\n",
       "        )\n",
       "        (norm2): LayerNorm((1280,), eps=1e-06, elementwise_affine=True)\n",
       "        (mlp): MLPBlock(\n",
       "          (lin1): Linear(in_features=1280, out_features=5120, bias=True)\n",
       "          (lin2): Linear(in_features=5120, out_features=1280, bias=True)\n",
       "          (act): GELU(approximate='none')\n",
       "        )\n",
       "      )\n",
       "      (14): Block(\n",
       "        (norm1): LayerNorm((1280,), eps=1e-06, elementwise_affine=True)\n",
       "        (attn): Attention(\n",
       "          (qkv): Linear(in_features=1280, out_features=3840, bias=True)\n",
       "          (proj): Linear(in_features=1280, out_features=1280, bias=True)\n",
       "        )\n",
       "        (norm2): LayerNorm((1280,), eps=1e-06, elementwise_affine=True)\n",
       "        (mlp): MLPBlock(\n",
       "          (lin1): Linear(in_features=1280, out_features=5120, bias=True)\n",
       "          (lin2): Linear(in_features=5120, out_features=1280, bias=True)\n",
       "          (act): GELU(approximate='none')\n",
       "        )\n",
       "      )\n",
       "      (15): Block(\n",
       "        (norm1): LayerNorm((1280,), eps=1e-06, elementwise_affine=True)\n",
       "        (attn): Attention(\n",
       "          (qkv): Linear(in_features=1280, out_features=3840, bias=True)\n",
       "          (proj): Linear(in_features=1280, out_features=1280, bias=True)\n",
       "        )\n",
       "        (norm2): LayerNorm((1280,), eps=1e-06, elementwise_affine=True)\n",
       "        (mlp): MLPBlock(\n",
       "          (lin1): Linear(in_features=1280, out_features=5120, bias=True)\n",
       "          (lin2): Linear(in_features=5120, out_features=1280, bias=True)\n",
       "          (act): GELU(approximate='none')\n",
       "        )\n",
       "      )\n",
       "      (16): Block(\n",
       "        (norm1): LayerNorm((1280,), eps=1e-06, elementwise_affine=True)\n",
       "        (attn): Attention(\n",
       "          (qkv): Linear(in_features=1280, out_features=3840, bias=True)\n",
       "          (proj): Linear(in_features=1280, out_features=1280, bias=True)\n",
       "        )\n",
       "        (norm2): LayerNorm((1280,), eps=1e-06, elementwise_affine=True)\n",
       "        (mlp): MLPBlock(\n",
       "          (lin1): Linear(in_features=1280, out_features=5120, bias=True)\n",
       "          (lin2): Linear(in_features=5120, out_features=1280, bias=True)\n",
       "          (act): GELU(approximate='none')\n",
       "        )\n",
       "      )\n",
       "      (17): Block(\n",
       "        (norm1): LayerNorm((1280,), eps=1e-06, elementwise_affine=True)\n",
       "        (attn): Attention(\n",
       "          (qkv): Linear(in_features=1280, out_features=3840, bias=True)\n",
       "          (proj): Linear(in_features=1280, out_features=1280, bias=True)\n",
       "        )\n",
       "        (norm2): LayerNorm((1280,), eps=1e-06, elementwise_affine=True)\n",
       "        (mlp): MLPBlock(\n",
       "          (lin1): Linear(in_features=1280, out_features=5120, bias=True)\n",
       "          (lin2): Linear(in_features=5120, out_features=1280, bias=True)\n",
       "          (act): GELU(approximate='none')\n",
       "        )\n",
       "      )\n",
       "      (18): Block(\n",
       "        (norm1): LayerNorm((1280,), eps=1e-06, elementwise_affine=True)\n",
       "        (attn): Attention(\n",
       "          (qkv): Linear(in_features=1280, out_features=3840, bias=True)\n",
       "          (proj): Linear(in_features=1280, out_features=1280, bias=True)\n",
       "        )\n",
       "        (norm2): LayerNorm((1280,), eps=1e-06, elementwise_affine=True)\n",
       "        (mlp): MLPBlock(\n",
       "          (lin1): Linear(in_features=1280, out_features=5120, bias=True)\n",
       "          (lin2): Linear(in_features=5120, out_features=1280, bias=True)\n",
       "          (act): GELU(approximate='none')\n",
       "        )\n",
       "      )\n",
       "      (19): Block(\n",
       "        (norm1): LayerNorm((1280,), eps=1e-06, elementwise_affine=True)\n",
       "        (attn): Attention(\n",
       "          (qkv): Linear(in_features=1280, out_features=3840, bias=True)\n",
       "          (proj): Linear(in_features=1280, out_features=1280, bias=True)\n",
       "        )\n",
       "        (norm2): LayerNorm((1280,), eps=1e-06, elementwise_affine=True)\n",
       "        (mlp): MLPBlock(\n",
       "          (lin1): Linear(in_features=1280, out_features=5120, bias=True)\n",
       "          (lin2): Linear(in_features=5120, out_features=1280, bias=True)\n",
       "          (act): GELU(approximate='none')\n",
       "        )\n",
       "      )\n",
       "      (20): Block(\n",
       "        (norm1): LayerNorm((1280,), eps=1e-06, elementwise_affine=True)\n",
       "        (attn): Attention(\n",
       "          (qkv): Linear(in_features=1280, out_features=3840, bias=True)\n",
       "          (proj): Linear(in_features=1280, out_features=1280, bias=True)\n",
       "        )\n",
       "        (norm2): LayerNorm((1280,), eps=1e-06, elementwise_affine=True)\n",
       "        (mlp): MLPBlock(\n",
       "          (lin1): Linear(in_features=1280, out_features=5120, bias=True)\n",
       "          (lin2): Linear(in_features=5120, out_features=1280, bias=True)\n",
       "          (act): GELU(approximate='none')\n",
       "        )\n",
       "      )\n",
       "      (21): Block(\n",
       "        (norm1): LayerNorm((1280,), eps=1e-06, elementwise_affine=True)\n",
       "        (attn): Attention(\n",
       "          (qkv): Linear(in_features=1280, out_features=3840, bias=True)\n",
       "          (proj): Linear(in_features=1280, out_features=1280, bias=True)\n",
       "        )\n",
       "        (norm2): LayerNorm((1280,), eps=1e-06, elementwise_affine=True)\n",
       "        (mlp): MLPBlock(\n",
       "          (lin1): Linear(in_features=1280, out_features=5120, bias=True)\n",
       "          (lin2): Linear(in_features=5120, out_features=1280, bias=True)\n",
       "          (act): GELU(approximate='none')\n",
       "        )\n",
       "      )\n",
       "      (22): Block(\n",
       "        (norm1): LayerNorm((1280,), eps=1e-06, elementwise_affine=True)\n",
       "        (attn): Attention(\n",
       "          (qkv): Linear(in_features=1280, out_features=3840, bias=True)\n",
       "          (proj): Linear(in_features=1280, out_features=1280, bias=True)\n",
       "        )\n",
       "        (norm2): LayerNorm((1280,), eps=1e-06, elementwise_affine=True)\n",
       "        (mlp): MLPBlock(\n",
       "          (lin1): Linear(in_features=1280, out_features=5120, bias=True)\n",
       "          (lin2): Linear(in_features=5120, out_features=1280, bias=True)\n",
       "          (act): GELU(approximate='none')\n",
       "        )\n",
       "      )\n",
       "      (23): Block(\n",
       "        (norm1): LayerNorm((1280,), eps=1e-06, elementwise_affine=True)\n",
       "        (attn): Attention(\n",
       "          (qkv): Linear(in_features=1280, out_features=3840, bias=True)\n",
       "          (proj): Linear(in_features=1280, out_features=1280, bias=True)\n",
       "        )\n",
       "        (norm2): LayerNorm((1280,), eps=1e-06, elementwise_affine=True)\n",
       "        (mlp): MLPBlock(\n",
       "          (lin1): Linear(in_features=1280, out_features=5120, bias=True)\n",
       "          (lin2): Linear(in_features=5120, out_features=1280, bias=True)\n",
       "          (act): GELU(approximate='none')\n",
       "        )\n",
       "      )\n",
       "      (24): Block(\n",
       "        (norm1): LayerNorm((1280,), eps=1e-06, elementwise_affine=True)\n",
       "        (attn): Attention(\n",
       "          (qkv): Linear(in_features=1280, out_features=3840, bias=True)\n",
       "          (proj): Linear(in_features=1280, out_features=1280, bias=True)\n",
       "        )\n",
       "        (norm2): LayerNorm((1280,), eps=1e-06, elementwise_affine=True)\n",
       "        (mlp): MLPBlock(\n",
       "          (lin1): Linear(in_features=1280, out_features=5120, bias=True)\n",
       "          (lin2): Linear(in_features=5120, out_features=1280, bias=True)\n",
       "          (act): GELU(approximate='none')\n",
       "        )\n",
       "      )\n",
       "      (25): Block(\n",
       "        (norm1): LayerNorm((1280,), eps=1e-06, elementwise_affine=True)\n",
       "        (attn): Attention(\n",
       "          (qkv): Linear(in_features=1280, out_features=3840, bias=True)\n",
       "          (proj): Linear(in_features=1280, out_features=1280, bias=True)\n",
       "        )\n",
       "        (norm2): LayerNorm((1280,), eps=1e-06, elementwise_affine=True)\n",
       "        (mlp): MLPBlock(\n",
       "          (lin1): Linear(in_features=1280, out_features=5120, bias=True)\n",
       "          (lin2): Linear(in_features=5120, out_features=1280, bias=True)\n",
       "          (act): GELU(approximate='none')\n",
       "        )\n",
       "      )\n",
       "      (26): Block(\n",
       "        (norm1): LayerNorm((1280,), eps=1e-06, elementwise_affine=True)\n",
       "        (attn): Attention(\n",
       "          (qkv): Linear(in_features=1280, out_features=3840, bias=True)\n",
       "          (proj): Linear(in_features=1280, out_features=1280, bias=True)\n",
       "        )\n",
       "        (norm2): LayerNorm((1280,), eps=1e-06, elementwise_affine=True)\n",
       "        (mlp): MLPBlock(\n",
       "          (lin1): Linear(in_features=1280, out_features=5120, bias=True)\n",
       "          (lin2): Linear(in_features=5120, out_features=1280, bias=True)\n",
       "          (act): GELU(approximate='none')\n",
       "        )\n",
       "      )\n",
       "      (27): Block(\n",
       "        (norm1): LayerNorm((1280,), eps=1e-06, elementwise_affine=True)\n",
       "        (attn): Attention(\n",
       "          (qkv): Linear(in_features=1280, out_features=3840, bias=True)\n",
       "          (proj): Linear(in_features=1280, out_features=1280, bias=True)\n",
       "        )\n",
       "        (norm2): LayerNorm((1280,), eps=1e-06, elementwise_affine=True)\n",
       "        (mlp): MLPBlock(\n",
       "          (lin1): Linear(in_features=1280, out_features=5120, bias=True)\n",
       "          (lin2): Linear(in_features=5120, out_features=1280, bias=True)\n",
       "          (act): GELU(approximate='none')\n",
       "        )\n",
       "      )\n",
       "      (28): Block(\n",
       "        (norm1): LayerNorm((1280,), eps=1e-06, elementwise_affine=True)\n",
       "        (attn): Attention(\n",
       "          (qkv): Linear(in_features=1280, out_features=3840, bias=True)\n",
       "          (proj): Linear(in_features=1280, out_features=1280, bias=True)\n",
       "        )\n",
       "        (norm2): LayerNorm((1280,), eps=1e-06, elementwise_affine=True)\n",
       "        (mlp): MLPBlock(\n",
       "          (lin1): Linear(in_features=1280, out_features=5120, bias=True)\n",
       "          (lin2): Linear(in_features=5120, out_features=1280, bias=True)\n",
       "          (act): GELU(approximate='none')\n",
       "        )\n",
       "      )\n",
       "      (29): Block(\n",
       "        (norm1): LayerNorm((1280,), eps=1e-06, elementwise_affine=True)\n",
       "        (attn): Attention(\n",
       "          (qkv): Linear(in_features=1280, out_features=3840, bias=True)\n",
       "          (proj): Linear(in_features=1280, out_features=1280, bias=True)\n",
       "        )\n",
       "        (norm2): LayerNorm((1280,), eps=1e-06, elementwise_affine=True)\n",
       "        (mlp): MLPBlock(\n",
       "          (lin1): Linear(in_features=1280, out_features=5120, bias=True)\n",
       "          (lin2): Linear(in_features=5120, out_features=1280, bias=True)\n",
       "          (act): GELU(approximate='none')\n",
       "        )\n",
       "      )\n",
       "      (30): Block(\n",
       "        (norm1): LayerNorm((1280,), eps=1e-06, elementwise_affine=True)\n",
       "        (attn): Attention(\n",
       "          (qkv): Linear(in_features=1280, out_features=3840, bias=True)\n",
       "          (proj): Linear(in_features=1280, out_features=1280, bias=True)\n",
       "        )\n",
       "        (norm2): LayerNorm((1280,), eps=1e-06, elementwise_affine=True)\n",
       "        (mlp): MLPBlock(\n",
       "          (lin1): Linear(in_features=1280, out_features=5120, bias=True)\n",
       "          (lin2): Linear(in_features=5120, out_features=1280, bias=True)\n",
       "          (act): GELU(approximate='none')\n",
       "        )\n",
       "      )\n",
       "      (31): Block(\n",
       "        (norm1): LayerNorm((1280,), eps=1e-06, elementwise_affine=True)\n",
       "        (attn): Attention(\n",
       "          (qkv): Linear(in_features=1280, out_features=3840, bias=True)\n",
       "          (proj): Linear(in_features=1280, out_features=1280, bias=True)\n",
       "        )\n",
       "        (norm2): LayerNorm((1280,), eps=1e-06, elementwise_affine=True)\n",
       "        (mlp): MLPBlock(\n",
       "          (lin1): Linear(in_features=1280, out_features=5120, bias=True)\n",
       "          (lin2): Linear(in_features=5120, out_features=1280, bias=True)\n",
       "          (act): GELU(approximate='none')\n",
       "        )\n",
       "      )\n",
       "    )\n",
       "    (neck): Sequential(\n",
       "      (0): Conv2d(1280, 256, kernel_size=(1, 1), stride=(1, 1), bias=False)\n",
       "      (1): LayerNorm2d()\n",
       "      (2): Conv2d(256, 256, kernel_size=(3, 3), stride=(1, 1), padding=(1, 1), bias=False)\n",
       "      (3): LayerNorm2d()\n",
       "    )\n",
       "  )\n",
       "  (prompt_encoder): PromptEncoder(\n",
       "    (pe_layer): PositionEmbeddingRandom()\n",
       "    (point_embeddings): ModuleList(\n",
       "      (0): Embedding(1, 256)\n",
       "      (1): Embedding(1, 256)\n",
       "      (2): Embedding(1, 256)\n",
       "      (3): Embedding(1, 256)\n",
       "    )\n",
       "    (not_a_point_embed): Embedding(1, 256)\n",
       "    (mask_downscaling): Sequential(\n",
       "      (0): Conv2d(1, 4, kernel_size=(2, 2), stride=(2, 2))\n",
       "      (1): LayerNorm2d()\n",
       "      (2): GELU(approximate='none')\n",
       "      (3): Conv2d(4, 16, kernel_size=(2, 2), stride=(2, 2))\n",
       "      (4): LayerNorm2d()\n",
       "      (5): GELU(approximate='none')\n",
       "      (6): Conv2d(16, 256, kernel_size=(1, 1), stride=(1, 1))\n",
       "    )\n",
       "    (no_mask_embed): Embedding(1, 256)\n",
       "  )\n",
       "  (mask_decoder): MaskDecoder(\n",
       "    (transformer): TwoWayTransformer(\n",
       "      (layers): ModuleList(\n",
       "        (0): TwoWayAttentionBlock(\n",
       "          (self_attn): Attention(\n",
       "            (q_proj): Linear(in_features=256, out_features=256, bias=True)\n",
       "            (k_proj): Linear(in_features=256, out_features=256, bias=True)\n",
       "            (v_proj): Linear(in_features=256, out_features=256, bias=True)\n",
       "            (out_proj): Linear(in_features=256, out_features=256, bias=True)\n",
       "          )\n",
       "          (norm1): LayerNorm((256,), eps=1e-05, elementwise_affine=True)\n",
       "          (cross_attn_token_to_image): Attention(\n",
       "            (q_proj): Linear(in_features=256, out_features=128, bias=True)\n",
       "            (k_proj): Linear(in_features=256, out_features=128, bias=True)\n",
       "            (v_proj): Linear(in_features=256, out_features=128, bias=True)\n",
       "            (out_proj): Linear(in_features=128, out_features=256, bias=True)\n",
       "          )\n",
       "          (norm2): LayerNorm((256,), eps=1e-05, elementwise_affine=True)\n",
       "          (mlp): MLPBlock(\n",
       "            (lin1): Linear(in_features=256, out_features=2048, bias=True)\n",
       "            (lin2): Linear(in_features=2048, out_features=256, bias=True)\n",
       "            (act): ReLU()\n",
       "          )\n",
       "          (norm3): LayerNorm((256,), eps=1e-05, elementwise_affine=True)\n",
       "          (norm4): LayerNorm((256,), eps=1e-05, elementwise_affine=True)\n",
       "          (cross_attn_image_to_token): Attention(\n",
       "            (q_proj): Linear(in_features=256, out_features=128, bias=True)\n",
       "            (k_proj): Linear(in_features=256, out_features=128, bias=True)\n",
       "            (v_proj): Linear(in_features=256, out_features=128, bias=True)\n",
       "            (out_proj): Linear(in_features=128, out_features=256, bias=True)\n",
       "          )\n",
       "        )\n",
       "        (1): TwoWayAttentionBlock(\n",
       "          (self_attn): Attention(\n",
       "            (q_proj): Linear(in_features=256, out_features=256, bias=True)\n",
       "            (k_proj): Linear(in_features=256, out_features=256, bias=True)\n",
       "            (v_proj): Linear(in_features=256, out_features=256, bias=True)\n",
       "            (out_proj): Linear(in_features=256, out_features=256, bias=True)\n",
       "          )\n",
       "          (norm1): LayerNorm((256,), eps=1e-05, elementwise_affine=True)\n",
       "          (cross_attn_token_to_image): Attention(\n",
       "            (q_proj): Linear(in_features=256, out_features=128, bias=True)\n",
       "            (k_proj): Linear(in_features=256, out_features=128, bias=True)\n",
       "            (v_proj): Linear(in_features=256, out_features=128, bias=True)\n",
       "            (out_proj): Linear(in_features=128, out_features=256, bias=True)\n",
       "          )\n",
       "          (norm2): LayerNorm((256,), eps=1e-05, elementwise_affine=True)\n",
       "          (mlp): MLPBlock(\n",
       "            (lin1): Linear(in_features=256, out_features=2048, bias=True)\n",
       "            (lin2): Linear(in_features=2048, out_features=256, bias=True)\n",
       "            (act): ReLU()\n",
       "          )\n",
       "          (norm3): LayerNorm((256,), eps=1e-05, elementwise_affine=True)\n",
       "          (norm4): LayerNorm((256,), eps=1e-05, elementwise_affine=True)\n",
       "          (cross_attn_image_to_token): Attention(\n",
       "            (q_proj): Linear(in_features=256, out_features=128, bias=True)\n",
       "            (k_proj): Linear(in_features=256, out_features=128, bias=True)\n",
       "            (v_proj): Linear(in_features=256, out_features=128, bias=True)\n",
       "            (out_proj): Linear(in_features=128, out_features=256, bias=True)\n",
       "          )\n",
       "        )\n",
       "      )\n",
       "      (final_attn_token_to_image): Attention(\n",
       "        (q_proj): Linear(in_features=256, out_features=128, bias=True)\n",
       "        (k_proj): Linear(in_features=256, out_features=128, bias=True)\n",
       "        (v_proj): Linear(in_features=256, out_features=128, bias=True)\n",
       "        (out_proj): Linear(in_features=128, out_features=256, bias=True)\n",
       "      )\n",
       "      (norm_final_attn): LayerNorm((256,), eps=1e-05, elementwise_affine=True)\n",
       "    )\n",
       "    (iou_token): Embedding(1, 256)\n",
       "    (mask_tokens): Embedding(4, 256)\n",
       "    (output_upscaling): Sequential(\n",
       "      (0): ConvTranspose2d(256, 64, kernel_size=(2, 2), stride=(2, 2))\n",
       "      (1): LayerNorm2d()\n",
       "      (2): GELU(approximate='none')\n",
       "      (3): ConvTranspose2d(64, 32, kernel_size=(2, 2), stride=(2, 2))\n",
       "      (4): GELU(approximate='none')\n",
       "    )\n",
       "    (output_hypernetworks_mlps): ModuleList(\n",
       "      (0): MLP(\n",
       "        (layers): ModuleList(\n",
       "          (0): Linear(in_features=256, out_features=256, bias=True)\n",
       "          (1): Linear(in_features=256, out_features=256, bias=True)\n",
       "          (2): Linear(in_features=256, out_features=32, bias=True)\n",
       "        )\n",
       "      )\n",
       "      (1): MLP(\n",
       "        (layers): ModuleList(\n",
       "          (0): Linear(in_features=256, out_features=256, bias=True)\n",
       "          (1): Linear(in_features=256, out_features=256, bias=True)\n",
       "          (2): Linear(in_features=256, out_features=32, bias=True)\n",
       "        )\n",
       "      )\n",
       "      (2): MLP(\n",
       "        (layers): ModuleList(\n",
       "          (0): Linear(in_features=256, out_features=256, bias=True)\n",
       "          (1): Linear(in_features=256, out_features=256, bias=True)\n",
       "          (2): Linear(in_features=256, out_features=32, bias=True)\n",
       "        )\n",
       "      )\n",
       "      (3): MLP(\n",
       "        (layers): ModuleList(\n",
       "          (0): Linear(in_features=256, out_features=256, bias=True)\n",
       "          (1): Linear(in_features=256, out_features=256, bias=True)\n",
       "          (2): Linear(in_features=256, out_features=32, bias=True)\n",
       "        )\n",
       "      )\n",
       "    )\n",
       "    (iou_prediction_head): MLP(\n",
       "      (layers): ModuleList(\n",
       "        (0): Linear(in_features=256, out_features=256, bias=True)\n",
       "        (1): Linear(in_features=256, out_features=256, bias=True)\n",
       "        (2): Linear(in_features=256, out_features=4, bias=True)\n",
       "      )\n",
       "    )\n",
       "  )\n",
       ")"
      ]
     },
     "execution_count": 2,
     "metadata": {},
     "output_type": "execute_result"
    }
   ],
   "source": [
    "from segment_anything import sam_model_registry\n",
    "\n",
    "DEVICE = torch.device('cuda:0' if torch.cuda.is_available() else 'cpu')\n",
    "MODEL_TYPE = \"vit_h\"\n",
    "CHECKPOINT_PATH = 'Segmentation/sam_vit_h_4b8939.pth'\n",
    "sam = sam_model_registry[MODEL_TYPE](checkpoint=CHECKPOINT_PATH)\n",
    "sam.to(device=DEVICE)"
   ]
  },
  {
   "cell_type": "code",
   "execution_count": 3,
   "id": "80ddf0c5-2c2a-48fd-83d0-a19954a006d4",
   "metadata": {},
   "outputs": [],
   "source": [
    "from segment_anything import SamPredictor\n",
    "import supervision as sv\n",
    "\n",
    "mask_predictor = SamPredictor(sam)"
   ]
  },
  {
   "cell_type": "code",
   "execution_count": 4,
   "id": "924d7a89-46a5-442d-a67d-61f7464b280c",
   "metadata": {},
   "outputs": [],
   "source": [
    "def Generage_Segment(img):\n",
    "    \n",
    "    mask_predictor.set_image(img)\n",
    "    height, width = img.shape[:2]\n",
    "\n",
    "\n",
    "    box = np.array([20, 40, width-20,height-40])\n",
    "    masks, scores, logits = mask_predictor.predict(\n",
    "    box=box,\n",
    "    multimask_output=False)\n",
    "    new = np.zeros_like(img, dtype=np.uint8)\n",
    "    new[masks[0]] = img[masks[0]]\n",
    "    #cv2.imshow('segmented cow',new)\n",
    "    #if cv2.waitKey(1) == ord('a'):  # q to quit\n",
    "    #    raise StopIteration\n",
    "    return new"
   ]
  },
  {
   "cell_type": "code",
   "execution_count": 5,
   "id": "9adbac30-3eb1-404d-9a66-3bdad227eb0b",
   "metadata": {},
   "outputs": [],
   "source": [
    "\n",
    "import gc\n",
    "\n",
    "gc.collect()\n",
    "\n",
    "torch.cuda.empty_cache()"
   ]
  },
  {
   "cell_type": "code",
   "execution_count": null,
   "id": "aa44b89e-c027-4f1b-b9c7-32a0adcf9057",
   "metadata": {},
   "outputs": [],
   "source": []
  },
  {
   "cell_type": "code",
   "execution_count": 6,
   "id": "9b7ceace-1f3e-4ad8-b87f-017884129b08",
   "metadata": {},
   "outputs": [],
   "source": [
    "PPC = 16 #16 original\n",
    "IMG_SIZE2= 64\n",
    "IMG_SIZE1 = 128\n",
    "CPB = 4 # 4\n",
    "ORIENT=9 \n",
    "\n",
    "def predict_hog_svm(img):\n",
    "    \n",
    "    #img = img[int(0.3*h):int(0.7*h),int(0.2*w):int(0.8*w)]\n",
    "    resized_img = resize(img, (IMG_SIZE1, IMG_SIZE2))\n",
    "    fd,hog_image = hog(resized_img, orientations=ORIENT, pixels_per_cell=(PPC,PPC),cells_per_block=(CPB,CPB),block_norm= 'L2',visualize=True,multichannel=True)\n",
    "\n",
    "    hog_image = hog_image.ravel()\n",
    "\n",
    "    hog_image=hog_image.reshape(-1,hog_image.shape[0] )\n",
    "    prediction = svm.predict(hog_image)\n",
    "    prediction = le.inverse_transform([prediction])  #Reverse the label encoder to original name\n",
    "    #print (prediction)\n",
    "    return prediction"
   ]
  },
  {
   "cell_type": "code",
   "execution_count": 7,
   "id": "cd9156b9-b51d-46bd-b3f5-a4a856c8d0d5",
   "metadata": {},
   "outputs": [],
   "source": [
    "def Is_Duplicate_Id(y1,y2,id):\n",
    "    global PREVIOUS_ID\n",
    "    global PREVIOUS_Y1\n",
    "    global PREVIOUS_Y2\n",
    "    global PREVIOUS_LOCAL_IDS\n",
    "    global CATTLE_LOCAL_ID\n",
    "    \n",
    "    try: \n",
    "        index = PREVIOUS_ID.index(id)\n",
    "        #print('I reached here')\n",
    "        if(PREVIOUS_Y1[index]+321<=y1 and PREVIOUS_Y2[index]+371<y2): #duplicate from bottom\n",
    "            #if(id in PREVIOUS_LOCAL_IDS):\n",
    "            #print('id: ',id,' LOCAL_ID: ',CATTLE_LOCAL_ID)\n",
    "            #return PREVIOUS_LOCAL_IDS[id][0]\n",
    "            \n",
    "            #print('This is not gonna happen again')\n",
    "            #PREVIOUS_LOCAL_IDS.append([id,LOCAL_ID])\n",
    "            #PREVIOUS_Y[index]=\n",
    "            #print('PREVIOUS ID')\n",
    "            #CATTLE_LOCAL_ID +=1\n",
    "            #CATTLE_LOCAL_ID += 1\n",
    "            \n",
    "            #print('except')\n",
    "            PREVIOUS_ID.append(CATTLE_LOCAL_ID)\n",
    "            PREVIOUS_Y1.append(y1)\n",
    "            PREVIOUS_Y2.append(y2)\n",
    "            #print('New Cattle Id')\n",
    "            return CATTLE_LOCAL_ID\n",
    "        #elif(PREVIOUS_Y[index]+400<center): #stepping back\n",
    "        #    if(id in PREVIOUS_LOCAL_IDS):\n",
    "        #        return PREVIOUS_LOCAL_IDS[id][0]\n",
    "        else:\n",
    "            #print('Oh. here ? really?')\n",
    "            PREVIOUS_Y1[index]=y1 #duplicate is solved or no duplicate and just need for last y \n",
    "            PREVIOUS_Y2[index]=y2\n",
    "            #return PREVIOUS_LOCAL_IDS[index][1]\n",
    "            \n",
    "            #update('PREVIOUS Y')\n",
    "            return PREVIOUS_ID[index]\n",
    "    except:\n",
    "        #print(PREVIOUS_ID)\n",
    "        #print(id)\n",
    "        CATTLE_LOCAL_ID += 1\n",
    "        #print('except')\n",
    "        PREVIOUS_ID.append(CATTLE_LOCAL_ID)\n",
    "        PREVIOUS_Y1.append(y1)\n",
    "        PREVIOUS_Y2.append(y2)\n",
    "        return id\n",
    "        "
   ]
  },
  {
   "cell_type": "code",
   "execution_count": 8,
   "id": "7080613c-3de4-4517-93a0-f0d51cc64ae0",
   "metadata": {},
   "outputs": [],
   "source": [
    "def Take_Prev_Label(y,h,id,cow_srno):\n",
    "    global STORED_IDS\n",
    "    global STORED_MID_Y\n",
    "    global STORED_MID_Y1\n",
    "    global STORED_MID_Y2\n",
    "    global STORED_MISS\n",
    "    global LAST_SEEN_IDS\n",
    "    global LAST_SEEN_ID_CENTROIDS\n",
    "    global CATTLE_LOCAL_ID\n",
    "    global IS_FIRST_CATTLE \n",
    "    y1 , y2 = y , y+h\n",
    "    \n",
    "    if IS_FIRST_CATTLE:\n",
    "        IS_FIRST_CATTLE = False\n",
    "        id = CATTLE_LOCAL_ID\n",
    "    #mid_y = y2\n",
    "    mid_y = int(2*y + h)/2\n",
    "    IS_NEW = True\n",
    "    last_id = 999\n",
    "    last_y1 = 0\n",
    "    last_y2 = 0\n",
    "    if(len(STORED_IDS)>0): \n",
    "        last_id = STORED_IDS[len(STORED_IDS)-1]\n",
    "        last_y1 = STORED_MID_Y1[len(STORED_MID_Y1)-1]\n",
    "        last_y2 = STORED_MID_Y2[len(STORED_MID_Y2)-1]\n",
    "        MISSED_LEN = len(STORED_MISS)\n",
    "        #if(IS_NEW):\n",
    "        \n",
    "        #    MISSED_LEN -=1\n",
    "        removed = 0\n",
    "        for i in range(MISSED_LEN):\n",
    "            #print(i, ' missed index checking' )\n",
    "            missed = STORED_MISS[i-removed]\n",
    "            #print('checking ',i-removed, 'to remove')\n",
    "            if((missed>100 and len(STORED_MISS)>0) or int(last_id)-1>int(STORED_IDS[i-removed])): #if missed 35 frames\n",
    "    \n",
    "                del STORED_MISS[i-removed]  \n",
    "                del STORED_MID_Y[i-removed]\n",
    "                del STORED_MID_Y1[i-removed]\n",
    "                del STORED_MID_Y2[i-removed]\n",
    "                del STORED_IDS[i-removed]\n",
    "                removed+=1\n",
    "                #print('removed')\n",
    "                \n",
    "    #clear misses\n",
    "   \n",
    "    \n",
    "    threshold_1 = 250 #300\n",
    "    threshold_2 = 300  #230\n",
    "    Distance = 2000\n",
    "     \n",
    "    if mid_y <= 1300 or mid_y >= 700:\n",
    "        threshold_1 = 320 #350\n",
    "        threshold_2 = 370 #280\n",
    "    for i in range(1,len(STORED_MID_Y)+1):\n",
    "        #print(STORED_IDS[-i-1],STORED_MID_Y[-i-1],' ',i)\n",
    "        \n",
    "        \n",
    "        #if(STORED_MID_Y[-i]+threshold_2>=mid_y and STORED_MID_Y[-i]-threshold_1<=mid_y): # and IS_NEW): #previous 150 #200\n",
    "        if(STORED_MID_Y1[-i]-threshold_1<=y1 and STORED_MID_Y1[-i]+threshold_1-200>=y1) or (STORED_MID_Y2[-i]-threshold_2<=y2 and STORED_MID_Y2[-i]+threshold_2-200>=y2): # and IS_NEW): #previous 150 #200\n",
    "            if(IS_NEW):\n",
    "                #print('mid_y ',mid_y,'existing y ',STORED_MID_Y[-i])\n",
    "                #print('all mid_y ',STORED_MID_Y) \n",
    "                #print(\"Old\")\n",
    "                #print(\"STORED_MID_Y1\",STORED_MID_Y1[-1], \" and STORED_MID_Y2\", STORED_MID_Y2)\n",
    "                #print(\"Y!\",y1, \" and Y@\", y2)\n",
    "                \n",
    "                Distance = abs(STORED_MID_Y1[-i] - y1)\n",
    "                if(abs(STORED_MID_Y2[-i] - y2)<Distance):\n",
    "                    Distance = abs(STORED_MID_Y2[-i] - y2)\n",
    "                IS_NEW = False\n",
    "                STORED_MID_Y1[-i] = y1\n",
    "                STORED_MID_Y2[-i] = y2\n",
    "                \n",
    "                STORED_MISS[-i]=1\n",
    "                id= STORED_IDS[-i]\n",
    "                #print(Distance)\n",
    "                #print(id)\n",
    "                \n",
    "            #try:\n",
    "            #    exist_index = LAST_SEEN_IDS.index(id)\n",
    "            #    if(LAST_SEEN_ID_CENTROIDS[exist_index]+200>y): # showing old id\n",
    "            #        LAST_SEEN_ID_CENTROIDS[exist_index] = y\n",
    "            #except:\n",
    "            #print('corrected id :',STORED_IDS[-i])\n",
    "            elif Distance >60:\n",
    "                STORED_MISS[-i]+=1\n",
    "            else:\n",
    "                STORED_MISS[-i]= 15 #reset count to 2 when not moving\n",
    "        elif(STORED_MID_Y1[-i]<=y1 and STORED_MID_Y2[-i]>=y2):\n",
    "                STORED_MISS[-i]=5\n",
    "        else:\n",
    "            STORED_MISS[-i]+=1    \n",
    "                \n",
    "        #elif(cow_srno==1):\n",
    "                \n",
    "    #print(STORED_IDS,' IDS ',STORED_MID_Y,' SMY ',mid_y,' mid_y')\n",
    "    if(IS_NEW):\n",
    "        #print('SMY: ',STORED_MID_Y,', new my:',mid_y) \n",
    "        #print('new id: ',id)\n",
    "        updatedID = Is_Duplicate_Id(y1,y2,id)\n",
    "        if(int(last_id) <int(updatedID) and y1<last_y1-150 and y2<last_y2-150): # duplicate cattle with increased cattleID\n",
    "            CATTLE_LOCAL_ID-=1\n",
    "            for i in range(len(STORED_MID_Y)-1,0,-1):\n",
    "                STORED_MISS[i]=15\n",
    "            return -1\n",
    "        if(int(last_id)-1>int(updatedID)):\n",
    "            return -1\n",
    "            \n",
    "    #if(updatedID!=id):\n",
    "    #    print('orgID: ',id,' updated ID: ',updatedID)\n",
    "        #id = str(updated_ID)+'_'+str(id)\n",
    "        \n",
    "        id=CATTLE_LOCAL_ID\n",
    "        STORED_IDS.append(id)\n",
    "        STORED_MID_Y.append(mid_y)\n",
    "        STORED_MID_Y1.append(y1)\n",
    "        STORED_MID_Y2.append(y2)\n",
    "        STORED_MISS.append(1)\n",
    "    \n",
    "    #print('returned id :',id)\n",
    "    \n",
    "    print(id)\n",
    "    \n",
    "    result = []\n",
    "    result.append(str(id-1))\n",
    "    \n",
    "    #region remove stored id\n",
    "    removed = 0\n",
    "    for i in range(len(STORED_MID_Y)-1,0,-1):\n",
    "        if(y1>STORED_MID_Y1[i] and y2>STORED_MID_Y2[i]):\n",
    "             del STORED_MISS[i-removed]  \n",
    "             del STORED_MID_Y[i-removed]\n",
    "             del STORED_MID_Y1[i-removed]\n",
    "             del STORED_MID_Y2[i-removed]\n",
    "             del STORED_IDS[i-removed]\n",
    "             removed+=1\n",
    "                 \n",
    "    return result\n"
   ]
  },
  {
   "cell_type": "code",
   "execution_count": 9,
   "id": "a04e79fa-89b0-4a18-9748-07c69e56ff30",
   "metadata": {},
   "outputs": [],
   "source": [
    "\n",
    "def calculate_most_cattle_id():\n",
    "    global current_cow\n",
    "    global excel_cow_count\n",
    "    global final_result\n",
    "    global fial_total\n",
    "    global final_percentage\n",
    "    global prev_id_record\n",
    "    maxpos = excel_cow_count.index(max(excel_cow_count))\n",
    "    #or i in range (len(current_cow)):\n",
    "    #   print('cattle ',current_cow[i],' id is ',excel_cow_count[i] , ' count(s)')\n",
    "    cattle_id = current_cow[maxpos]\n",
    "    \n",
    "    final_total.append(sum(excel_cow_count))\n",
    "    final_percentage.append(max(excel_cow_count)/sum(excel_cow_count))\n",
    "    final_result.append(cattle_id)\n",
    "    excel_cow_count = [] #reset\n",
    "    current_cow = [] #reset\n",
    "    \n",
    "\n",
    "def Generate_Cattle_Id_By_Apperance(csv_path,save_dir):\n",
    "    print(csv_path, \" is csv_path and \", save_dir , \" is save_dir\")\n",
    "\n",
    "    data = pd.read_csv(csv_path)\n",
    "\n",
    "    list_of_csv = [list(row) for row in data.values]\n",
    "    global  final_result \n",
    "    global final_percentage\n",
    "    global final_total\n",
    "    global current_cow\n",
    "    global excel_cow_count\n",
    "    prev_id_record = [] \n",
    "    prev=None\n",
    "\n",
    "\n",
    "\n",
    "    for i in range (len(list_of_csv)):\n",
    "        #rint('from ',list_of_csv[i][1],' to ',list_of_csv[i][0])\n",
    "        filtered_id = list_of_csv[i][0]\n",
    "        actual_id = list_of_csv[i][1]\n",
    "        if(prev!=filtered_id):\n",
    "            if(prev is not None):\n",
    "                calculate_most_cattle_id()\n",
    "                prev_id_record.append(prev)\n",
    "            prev = filtered_id\n",
    "\n",
    "        try: \n",
    "            index = current_cow.index(actual_id)\n",
    "            #print('I reached here')\n",
    "            excel_cow_count[index]+=1\n",
    "        except:\n",
    "            current_cow.append(actual_id)\n",
    "            excel_cow_count.append(1)\n",
    "\n",
    "\n",
    "    df = pd.DataFrame(final_result, columns = [\"ID\"])\n",
    "    try:\n",
    "        final_percentage = torch.tensor(final_percentage, device = 'cpu')\n",
    "        final_total = torch.tensor(final_total, device = 'cpu')\n",
    "        final_prev = torch.tensor(prev_id_record, device = 'cpu')\n",
    "\n",
    "        df[\"total\"] = final_total\n",
    "        df[\"percentage\"] = final_percentage\n",
    "        df[\"prev_id\"]=prev_id_record\n",
    "    except:\n",
    "        df[\"total\"] = final_total\n",
    "        df[\"percentage\"] = final_percentage\n",
    "        df[\"prev_id\"]=prev_id_record\n",
    "    now=str(datetime.now().date())\n",
    "\n",
    "    df.to_csv(save_dir+\"/MaxCattleId_new \"+now+'.csv', index= False)\n",
    "    print(\"successfully saved\")"
   ]
  },
  {
   "cell_type": "code",
   "execution_count": 10,
   "id": "5011f957-3149-4535-b4bb-460e932cf619",
   "metadata": {},
   "outputs": [],
   "source": [
    "\n",
    "#csv_path = \"D:\\\\Python\\\\SULarbmon\\\\Python\\\\env\\\\yolov5\\\\runs\\\\detect_SVM_NV_demo_center\\\\exp_3_fps79\\\\1\\\\3849\\\\3849.csv\"\n",
    "def CALCULATE_MAX_CATTLE_ID(csv_path):\n",
    "    print(csv_path, \" is csv_path and \")\n",
    "\n",
    "    data = pd.read_csv(csv_path)\n",
    "\n",
    "    list_of_csv = [list(row) for row in data.values]\n",
    "    \n",
    "    prev_id_record = [] \n",
    "    prev=None\n",
    "\n",
    "    current_cow = []\n",
    "    excel_cow_count = []\n",
    "    boxes = []\n",
    "    file_locations = []\n",
    "\n",
    "    for i in range (len(list_of_csv)):\n",
    "        #rint('from ',list_of_csv[i][1],' to ',list_of_csv[i][0])\n",
    "        filtered_id = list_of_csv[i][0]\n",
    "        actual_id = list_of_csv[i][1]\n",
    "        file_locations.append(list_of_csv[i][2])\n",
    "        boxes.append([list_of_csv[i][3],list_of_csv[i][4],list_of_csv[i][5],list_of_csv[i][6]])\n",
    "        #print(list_of_csv[i][2])\n",
    "        try: \n",
    "            index = current_cow.index(actual_id)\n",
    "            #print('I reached here')\n",
    "            excel_cow_count[index]+=1\n",
    "        except:\n",
    "            current_cow.append(actual_id)\n",
    "            excel_cow_count.append(1)\n",
    "    \n",
    "    maxpos = excel_cow_count.index(max(excel_cow_count))\n",
    "    #or i in range (len(current_cow)):\n",
    "    #   print('cattle ',current_cow[i],' id is ',excel_cow_count[i] , ' count(s)')\n",
    "    cattle_id = current_cow[maxpos]\n",
    "    #print(cattle_id)\n",
    "    #print(current_cow)\n",
    "    #print(excel_cow_count)\n",
    "    return cattle_id,file_locations,boxes\n"
   ]
  },
  {
   "cell_type": "markdown",
   "id": "5fd12945-b965-4d40-8e06-e9937c88eaeb",
   "metadata": {},
   "source": [
    "final_result = []\n",
    "final_percentage = []\n",
    "final_total = []\n",
    "current_cow = []\n",
    "excel_cow_count=[]\n",
    "\n",
    "Generate_Cattle_Id_By_Apperance(\"G:\\\\ToCCA\\\\exp_3_fps47\\\\detected_cow_vggSVM_2022-11-20.csv\",\"G:\\\\ToCCA\\\\exp_3_fps47\")"
   ]
  },
  {
   "cell_type": "code",
   "execution_count": 11,
   "id": "b29b96bd-1eda-436f-b806-3fcc1f4dda91",
   "metadata": {},
   "outputs": [],
   "source": [
    "default = \"D:\\\\Python\\\\SULarbmon\\\\Python\\\\env\\\\yolov5\\\\runs\\\\detect_SVM_NV_demo_center\\\\exp_3_fps481\\\\9\\\\9\"\n",
    "def writeVideo(filePath):\n",
    "    img_array = []\n",
    "    size = (302,1080)\n",
    "    names = ['cow']\n",
    "    \n",
    "    \n",
    "    vid_name = os.path.basename(os.path.normpath(filePath))\n",
    "    vid_path = str(Path(filePath + \"/\" + vid_name ).with_suffix('.mp4'))\n",
    "    id,img_locations,*xyxys = CALCULATE_MAX_CATTLE_ID(filePath+\"/\"+vid_name+\".csv\")\n",
    "    #print(xyxys)\n",
    "    \n",
    "    out = cv2.VideoWriter(vid_path,cv2.VideoWriter_fourcc(*'mp4v'), 6, size)\n",
    "    if len(img_locations)<10: #skip if less than 6 photos\n",
    "        return -1\n",
    "    \n",
    "    for ind in range(len(img_locations)):\n",
    "        #x,y,w,h = cv2.boundingRect(contour)\n",
    "        #x1,y1,x2,y2 = xyxys[0][ind][1], xyxys[ind][1], xyxys[ind][2], xyxys[ind][3]\n",
    "        #print(x1,y1,x2,y2)\n",
    "        #cv2.rectangle(image, (x, y), (x + w, y + h), (36,255,12), 1)\n",
    "        #image = cv2.rectangle(img_array[ind],(x1,y1),(x2,y2) , (36,255,12),1)\n",
    "        #cv2.putText(image, str(id), (xyxys[0][0], xyxys[ind][1]-3), cv2.FONT_HERSHEY_SIMPLEX, 0.9, (36,255,12), 2)\n",
    "        #print(xyxys[0][ind])\n",
    "        \n",
    "        \n",
    "        img = cv2.imread(img_locations[ind])\n",
    "        annotator = Annotator(img, line_width=8, example=str(names))\n",
    "        #print('ind', ind)\n",
    "        #print(xyxys[0][ind])\n",
    "        try:\n",
    "            annotator.box_label(xyxys[0][ind],str(id), color=(15, 0, 255))\n",
    "            annotated_img =cv2.resize(annotator.result(),size) \n",
    "            #cv2.imshow('new cow',img)\n",
    "            #if cv2.waitKey(1) == ord('a'):  # q to quit\n",
    "            #    raise StopIteration\n",
    "            out.write(annotated_img)\n",
    "        except:\n",
    "            continue\n",
    "    out.release()\n",
    "    img_array=[]\n",
    "    print(\"done \", vid_name)\n",
    "    cv2.destroyAllWindows()\n",
    "    return id\n",
    "#writeVideo(default)\n"
   ]
  },
  {
   "cell_type": "code",
   "execution_count": 12,
   "id": "8aa4bb81-65fc-4aa4-a41e-08a2f48ad939",
   "metadata": {
    "scrolled": true,
    "tags": []
   },
   "outputs": [
    {
     "name": "stderr",
     "output_type": "stream",
     "text": [
      "YOLOv5  2022-8-19 Python-3.7.16 torch-1.13.1+cu117 CUDA:0 (NVIDIA GeForce RTX 3090, 24576MiB)\n",
      "\n",
      "Fusing layers... \n",
      "YOLOv5x summary: 444 layers, 86173414 parameters, 0 gradients, 203.8 GFLOPs\n",
      "video 1/1 (1/3933) D:\\815_CowDataChecking\\20221229\\20221229_M_cow\\20221229_061532_21C6.mkv: 640x640 Done. (0.012s)\n",
      "video 1/1 (2/3933) D:\\815_CowDataChecking\\20221229\\20221229_M_cow\\20221229_061532_21C6.mkv: 640x640 Done. (0.022s)\n",
      "video 1/1 (3/3933) D:\\815_CowDataChecking\\20221229\\20221229_M_cow\\20221229_061532_21C6.mkv: 640x640 Done. (0.021s)\n",
      "video 1/1 (4/3933) D:\\815_CowDataChecking\\20221229\\20221229_M_cow\\20221229_061532_21C6.mkv: 640x640 Done. (0.018s)\n",
      "video 1/1 (5/3933) D:\\815_CowDataChecking\\20221229\\20221229_M_cow\\20221229_061532_21C6.mkv: 640x640 Done. (0.020s)\n",
      "video 1/1 (6/3933) D:\\815_CowDataChecking\\20221229\\20221229_M_cow\\20221229_061532_21C6.mkv: 640x640 Done. (0.015s)\n",
      "video 1/1 (7/3933) D:\\815_CowDataChecking\\20221229\\20221229_M_cow\\20221229_061532_21C6.mkv: 640x640 Done. (0.026s)\n",
      "video 1/1 (8/3933) D:\\815_CowDataChecking\\20221229\\20221229_M_cow\\20221229_061532_21C6.mkv: 640x640 Done. (0.024s)\n",
      "video 1/1 (9/3933) D:\\815_CowDataChecking\\20221229\\20221229_M_cow\\20221229_061532_21C6.mkv: 640x640 Done. (0.016s)\n",
      "video 1/1 (10/3933) D:\\815_CowDataChecking\\20221229\\20221229_M_cow\\20221229_061532_21C6.mkv: 640x640 Done. (0.017s)\n",
      "video 1/1 (11/3933) D:\\815_CowDataChecking\\20221229\\20221229_M_cow\\20221229_061532_21C6.mkv: 640x640 Done. (0.019s)\n",
      "video 1/1 (12/3933) D:\\815_CowDataChecking\\20221229\\20221229_M_cow\\20221229_061532_21C6.mkv: 640x640 Done. (0.017s)\n",
      "video 1/1 (13/3933) D:\\815_CowDataChecking\\20221229\\20221229_M_cow\\20221229_061532_21C6.mkv: 640x640 Done. (0.015s)\n",
      "video 1/1 (14/3933) D:\\815_CowDataChecking\\20221229\\20221229_M_cow\\20221229_061532_21C6.mkv: 640x640 Done. (0.015s)\n",
      "video 1/1 (15/3933) D:\\815_CowDataChecking\\20221229\\20221229_M_cow\\20221229_061532_21C6.mkv: 640x640 Done. (0.016s)\n",
      "video 1/1 (16/3933) D:\\815_CowDataChecking\\20221229\\20221229_M_cow\\20221229_061532_21C6.mkv: 640x640 Done. (0.014s)\n",
      "video 1/1 (17/3933) D:\\815_CowDataChecking\\20221229\\20221229_M_cow\\20221229_061532_21C6.mkv: 640x640 Done. (0.016s)\n",
      "video 1/1 (18/3933) D:\\815_CowDataChecking\\20221229\\20221229_M_cow\\20221229_061532_21C6.mkv: 640x640 Done. (0.017s)\n",
      "video 1/1 (19/3933) D:\\815_CowDataChecking\\20221229\\20221229_M_cow\\20221229_061532_21C6.mkv: 640x640 Done. (0.026s)\n",
      "video 1/1 (20/3933) D:\\815_CowDataChecking\\20221229\\20221229_M_cow\\20221229_061532_21C6.mkv: 640x640 Done. (0.025s)\n",
      "video 1/1 (21/3933) D:\\815_CowDataChecking\\20221229\\20221229_M_cow\\20221229_061532_21C6.mkv: 640x640 Done. (0.015s)\n",
      "video 1/1 (22/3933) D:\\815_CowDataChecking\\20221229\\20221229_M_cow\\20221229_061532_21C6.mkv: 640x640 Done. (0.015s)\n",
      "video 1/1 (23/3933) D:\\815_CowDataChecking\\20221229\\20221229_M_cow\\20221229_061532_21C6.mkv: 640x640 Done. (0.013s)\n",
      "video 1/1 (24/3933) D:\\815_CowDataChecking\\20221229\\20221229_M_cow\\20221229_061532_21C6.mkv: 640x640 Done. (0.026s)\n",
      "video 1/1 (25/3933) D:\\815_CowDataChecking\\20221229\\20221229_M_cow\\20221229_061532_21C6.mkv: 640x640 Done. (0.014s)\n",
      "video 1/1 (26/3933) D:\\815_CowDataChecking\\20221229\\20221229_M_cow\\20221229_061532_21C6.mkv: 640x640 Done. (0.014s)\n",
      "video 1/1 (27/3933) D:\\815_CowDataChecking\\20221229\\20221229_M_cow\\20221229_061532_21C6.mkv: 640x640 Done. (0.022s)\n",
      "video 1/1 (28/3933) D:\\815_CowDataChecking\\20221229\\20221229_M_cow\\20221229_061532_21C6.mkv: 640x640 Done. (0.018s)\n",
      "video 1/1 (29/3933) D:\\815_CowDataChecking\\20221229\\20221229_M_cow\\20221229_061532_21C6.mkv: 640x640 Done. (0.014s)\n",
      "video 1/1 (30/3933) D:\\815_CowDataChecking\\20221229\\20221229_M_cow\\20221229_061532_21C6.mkv: 640x640 Done. (0.016s)\n",
      "video 1/1 (31/3933) D:\\815_CowDataChecking\\20221229\\20221229_M_cow\\20221229_061532_21C6.mkv: 640x640 Done. (0.014s)\n",
      "video 1/1 (32/3933) D:\\815_CowDataChecking\\20221229\\20221229_M_cow\\20221229_061532_21C6.mkv: 640x640 Done. (0.020s)\n",
      "video 1/1 (33/3933) D:\\815_CowDataChecking\\20221229\\20221229_M_cow\\20221229_061532_21C6.mkv: 640x640 Done. (0.021s)\n",
      "video 1/1 (34/3933) D:\\815_CowDataChecking\\20221229\\20221229_M_cow\\20221229_061532_21C6.mkv: 640x640 Done. (0.018s)\n",
      "video 1/1 (35/3933) D:\\815_CowDataChecking\\20221229\\20221229_M_cow\\20221229_061532_21C6.mkv: 640x640 Done. (0.025s)\n",
      "video 1/1 (36/3933) D:\\815_CowDataChecking\\20221229\\20221229_M_cow\\20221229_061532_21C6.mkv: 640x640 Done. (0.019s)\n",
      "video 1/1 (37/3933) D:\\815_CowDataChecking\\20221229\\20221229_M_cow\\20221229_061532_21C6.mkv: 640x640 Done. (0.020s)\n",
      "video 1/1 (38/3933) D:\\815_CowDataChecking\\20221229\\20221229_M_cow\\20221229_061532_21C6.mkv: 640x640 Done. (0.020s)\n",
      "video 1/1 (39/3933) D:\\815_CowDataChecking\\20221229\\20221229_M_cow\\20221229_061532_21C6.mkv: 640x640 Done. (0.025s)\n",
      "video 1/1 (40/3933) D:\\815_CowDataChecking\\20221229\\20221229_M_cow\\20221229_061532_21C6.mkv: 640x640 Done. (0.025s)\n",
      "video 1/1 (41/3933) D:\\815_CowDataChecking\\20221229\\20221229_M_cow\\20221229_061532_21C6.mkv: 640x640 Done. (0.024s)\n",
      "video 1/1 (42/3933) D:\\815_CowDataChecking\\20221229\\20221229_M_cow\\20221229_061532_21C6.mkv: 640x640 Done. (0.021s)\n",
      "video 1/1 (43/3933) D:\\815_CowDataChecking\\20221229\\20221229_M_cow\\20221229_061532_21C6.mkv: 640x640 Done. (0.021s)\n",
      "video 1/1 (44/3933) D:\\815_CowDataChecking\\20221229\\20221229_M_cow\\20221229_061532_21C6.mkv: 640x640 Done. (0.023s)\n",
      "video 1/1 (45/3933) D:\\815_CowDataChecking\\20221229\\20221229_M_cow\\20221229_061532_21C6.mkv: 640x640 Done. (0.022s)\n",
      "video 1/1 (46/3933) D:\\815_CowDataChecking\\20221229\\20221229_M_cow\\20221229_061532_21C6.mkv: 640x640 Done. (0.024s)\n",
      "video 1/1 (47/3933) D:\\815_CowDataChecking\\20221229\\20221229_M_cow\\20221229_061532_21C6.mkv: 640x640 Done. (0.027s)\n",
      "video 1/1 (48/3933) D:\\815_CowDataChecking\\20221229\\20221229_M_cow\\20221229_061532_21C6.mkv: 640x640 Done. (0.052s)\n",
      "video 1/1 (49/3933) D:\\815_CowDataChecking\\20221229\\20221229_M_cow\\20221229_061532_21C6.mkv: 640x640 Done. (0.049s)\n",
      "video 1/1 (50/3933) D:\\815_CowDataChecking\\20221229\\20221229_M_cow\\20221229_061532_21C6.mkv: 640x640 Done. (0.052s)\n",
      "video 1/1 (51/3933) D:\\815_CowDataChecking\\20221229\\20221229_M_cow\\20221229_061532_21C6.mkv: 640x640 Done. (0.019s)\n",
      "video 1/1 (52/3933) D:\\815_CowDataChecking\\20221229\\20221229_M_cow\\20221229_061532_21C6.mkv: 640x640 Done. (0.019s)\n",
      "video 1/1 (53/3933) D:\\815_CowDataChecking\\20221229\\20221229_M_cow\\20221229_061532_21C6.mkv: 640x640 Done. (0.025s)\n",
      "video 1/1 (54/3933) D:\\815_CowDataChecking\\20221229\\20221229_M_cow\\20221229_061532_21C6.mkv: 640x640 Done. (0.021s)\n",
      "video 1/1 (55/3933) D:\\815_CowDataChecking\\20221229\\20221229_M_cow\\20221229_061532_21C6.mkv: 640x640 Done. (0.018s)\n",
      "video 1/1 (56/3933) D:\\815_CowDataChecking\\20221229\\20221229_M_cow\\20221229_061532_21C6.mkv: 640x640 Done. (0.019s)\n",
      "video 1/1 (57/3933) D:\\815_CowDataChecking\\20221229\\20221229_M_cow\\20221229_061532_21C6.mkv: 640x640 Done. (0.018s)\n",
      "video 1/1 (58/3933) D:\\815_CowDataChecking\\20221229\\20221229_M_cow\\20221229_061532_21C6.mkv: 640x640 Done. (0.019s)\n",
      "video 1/1 (59/3933) D:\\815_CowDataChecking\\20221229\\20221229_M_cow\\20221229_061532_21C6.mkv: 640x640 Done. (0.018s)\n",
      "video 1/1 (60/3933) D:\\815_CowDataChecking\\20221229\\20221229_M_cow\\20221229_061532_21C6.mkv: 640x640 Done. (0.018s)\n",
      "video 1/1 (61/3933) D:\\815_CowDataChecking\\20221229\\20221229_M_cow\\20221229_061532_21C6.mkv: 640x640 Done. (0.018s)\n",
      "video 1/1 (62/3933) D:\\815_CowDataChecking\\20221229\\20221229_M_cow\\20221229_061532_21C6.mkv: 640x640 Done. (0.021s)\n",
      "video 1/1 (63/3933) D:\\815_CowDataChecking\\20221229\\20221229_M_cow\\20221229_061532_21C6.mkv: 640x640 Done. (0.017s)\n",
      "video 1/1 (64/3933) D:\\815_CowDataChecking\\20221229\\20221229_M_cow\\20221229_061532_21C6.mkv: 640x640 Done. (0.021s)\n",
      "video 1/1 (65/3933) D:\\815_CowDataChecking\\20221229\\20221229_M_cow\\20221229_061532_21C6.mkv: 640x640 Done. (0.020s)\n",
      "video 1/1 (66/3933) D:\\815_CowDataChecking\\20221229\\20221229_M_cow\\20221229_061532_21C6.mkv: 640x640 Done. (0.020s)\n",
      "video 1/1 (67/3933) D:\\815_CowDataChecking\\20221229\\20221229_M_cow\\20221229_061532_21C6.mkv: 640x640 Done. (0.019s)\n",
      "video 1/1 (68/3933) D:\\815_CowDataChecking\\20221229\\20221229_M_cow\\20221229_061532_21C6.mkv: 640x640 Done. (0.018s)\n",
      "video 1/1 (69/3933) D:\\815_CowDataChecking\\20221229\\20221229_M_cow\\20221229_061532_21C6.mkv: 640x640 Done. (0.018s)\n",
      "video 1/1 (70/3933) D:\\815_CowDataChecking\\20221229\\20221229_M_cow\\20221229_061532_21C6.mkv: 640x640 Done. (0.018s)\n",
      "video 1/1 (71/3933) D:\\815_CowDataChecking\\20221229\\20221229_M_cow\\20221229_061532_21C6.mkv: 640x640 Done. (0.020s)\n",
      "video 1/1 (72/3933) D:\\815_CowDataChecking\\20221229\\20221229_M_cow\\20221229_061532_21C6.mkv: 640x640 Done. (0.049s)\n",
      "video 1/1 (73/3933) D:\\815_CowDataChecking\\20221229\\20221229_M_cow\\20221229_061532_21C6.mkv: 640x640 Done. (0.039s)\n",
      "video 1/1 (74/3933) D:\\815_CowDataChecking\\20221229\\20221229_M_cow\\20221229_061532_21C6.mkv: 640x640 Done. (0.019s)\n",
      "video 1/1 (75/3933) D:\\815_CowDataChecking\\20221229\\20221229_M_cow\\20221229_061532_21C6.mkv: 640x640 Done. (0.019s)\n",
      "video 1/1 (76/3933) D:\\815_CowDataChecking\\20221229\\20221229_M_cow\\20221229_061532_21C6.mkv: 640x640 Done. (0.018s)\n",
      "video 1/1 (77/3933) D:\\815_CowDataChecking\\20221229\\20221229_M_cow\\20221229_061532_21C6.mkv: 640x640 Done. (0.019s)\n",
      "video 1/1 (78/3933) D:\\815_CowDataChecking\\20221229\\20221229_M_cow\\20221229_061532_21C6.mkv: 640x640 Done. (0.018s)\n",
      "video 1/1 (79/3933) D:\\815_CowDataChecking\\20221229\\20221229_M_cow\\20221229_061532_21C6.mkv: 640x640 Done. (0.018s)\n",
      "video 1/1 (80/3933) D:\\815_CowDataChecking\\20221229\\20221229_M_cow\\20221229_061532_21C6.mkv: 640x640 Done. (0.019s)\n",
      "video 1/1 (81/3933) D:\\815_CowDataChecking\\20221229\\20221229_M_cow\\20221229_061532_21C6.mkv: 640x640 Done. (0.020s)\n",
      "video 1/1 (82/3933) D:\\815_CowDataChecking\\20221229\\20221229_M_cow\\20221229_061532_21C6.mkv: 640x640 Done. (0.019s)\n",
      "video 1/1 (83/3933) D:\\815_CowDataChecking\\20221229\\20221229_M_cow\\20221229_061532_21C6.mkv: 640x640 Done. (0.021s)\n",
      "video 1/1 (84/3933) D:\\815_CowDataChecking\\20221229\\20221229_M_cow\\20221229_061532_21C6.mkv: 640x640 Done. (0.021s)\n",
      "video 1/1 (85/3933) D:\\815_CowDataChecking\\20221229\\20221229_M_cow\\20221229_061532_21C6.mkv: 640x640 Done. (0.019s)\n",
      "video 1/1 (86/3933) D:\\815_CowDataChecking\\20221229\\20221229_M_cow\\20221229_061532_21C6.mkv: 640x640 Done. (0.019s)\n",
      "video 1/1 (87/3933) D:\\815_CowDataChecking\\20221229\\20221229_M_cow\\20221229_061532_21C6.mkv: 640x640 Done. (0.018s)\n",
      "video 1/1 (88/3933) D:\\815_CowDataChecking\\20221229\\20221229_M_cow\\20221229_061532_21C6.mkv: 640x640 Done. (0.018s)\n",
      "video 1/1 (89/3933) D:\\815_CowDataChecking\\20221229\\20221229_M_cow\\20221229_061532_21C6.mkv: 640x640 Done. (0.018s)\n",
      "video 1/1 (90/3933) D:\\815_CowDataChecking\\20221229\\20221229_M_cow\\20221229_061532_21C6.mkv: 640x640 Done. (0.018s)\n",
      "video 1/1 (91/3933) D:\\815_CowDataChecking\\20221229\\20221229_M_cow\\20221229_061532_21C6.mkv: 640x640 Done. (0.020s)\n",
      "video 1/1 (92/3933) D:\\815_CowDataChecking\\20221229\\20221229_M_cow\\20221229_061532_21C6.mkv: 640x640 Done. (0.018s)\n",
      "video 1/1 (93/3933) D:\\815_CowDataChecking\\20221229\\20221229_M_cow\\20221229_061532_21C6.mkv: 640x640 Done. (0.020s)\n",
      "video 1/1 (94/3933) D:\\815_CowDataChecking\\20221229\\20221229_M_cow\\20221229_061532_21C6.mkv: 640x640 Done. (0.018s)\n",
      "video 1/1 (95/3933) D:\\815_CowDataChecking\\20221229\\20221229_M_cow\\20221229_061532_21C6.mkv: 640x640 Done. (0.046s)\n",
      "video 1/1 (96/3933) D:\\815_CowDataChecking\\20221229\\20221229_M_cow\\20221229_061532_21C6.mkv: 640x640 Done. (0.048s)\n",
      "video 1/1 (97/3933) D:\\815_CowDataChecking\\20221229\\20221229_M_cow\\20221229_061532_21C6.mkv: 640x640 Done. (0.018s)\n",
      "video 1/1 (98/3933) D:\\815_CowDataChecking\\20221229\\20221229_M_cow\\20221229_061532_21C6.mkv: 640x640 Done. (0.019s)\n",
      "video 1/1 (99/3933) D:\\815_CowDataChecking\\20221229\\20221229_M_cow\\20221229_061532_21C6.mkv: 640x640 Done. (0.017s)\n",
      "video 1/1 (100/3933) D:\\815_CowDataChecking\\20221229\\20221229_M_cow\\20221229_061532_21C6.mkv: 640x640 Done. (0.017s)\n",
      "video 1/1 (101/3933) D:\\815_CowDataChecking\\20221229\\20221229_M_cow\\20221229_061532_21C6.mkv: 640x640 Done. (0.018s)\n",
      "video 1/1 (102/3933) D:\\815_CowDataChecking\\20221229\\20221229_M_cow\\20221229_061532_21C6.mkv: 640x640 Done. (0.019s)\n",
      "video 1/1 (103/3933) D:\\815_CowDataChecking\\20221229\\20221229_M_cow\\20221229_061532_21C6.mkv: 640x640 Done. (0.016s)\n",
      "video 1/1 (104/3933) D:\\815_CowDataChecking\\20221229\\20221229_M_cow\\20221229_061532_21C6.mkv: 640x640 Done. (0.018s)\n",
      "video 1/1 (105/3933) D:\\815_CowDataChecking\\20221229\\20221229_M_cow\\20221229_061532_21C6.mkv: 640x640 Done. (0.018s)\n",
      "video 1/1 (106/3933) D:\\815_CowDataChecking\\20221229\\20221229_M_cow\\20221229_061532_21C6.mkv: 640x640 Done. (0.018s)\n",
      "video 1/1 (107/3933) D:\\815_CowDataChecking\\20221229\\20221229_M_cow\\20221229_061532_21C6.mkv: 640x640 Done. (0.021s)\n",
      "video 1/1 (108/3933) D:\\815_CowDataChecking\\20221229\\20221229_M_cow\\20221229_061532_21C6.mkv: 640x640 Done. (0.018s)\n",
      "video 1/1 (109/3933) D:\\815_CowDataChecking\\20221229\\20221229_M_cow\\20221229_061532_21C6.mkv: 640x640 Done. (0.022s)\n",
      "video 1/1 (110/3933) D:\\815_CowDataChecking\\20221229\\20221229_M_cow\\20221229_061532_21C6.mkv: 640x640 Done. (0.018s)\n",
      "video 1/1 (111/3933) D:\\815_CowDataChecking\\20221229\\20221229_M_cow\\20221229_061532_21C6.mkv: 640x640 Done. (0.018s)\n",
      "video 1/1 (112/3933) D:\\815_CowDataChecking\\20221229\\20221229_M_cow\\20221229_061532_21C6.mkv: 640x640 Done. (0.019s)\n",
      "video 1/1 (113/3933) D:\\815_CowDataChecking\\20221229\\20221229_M_cow\\20221229_061532_21C6.mkv: 640x640 Done. (0.017s)\n",
      "video 1/1 (114/3933) D:\\815_CowDataChecking\\20221229\\20221229_M_cow\\20221229_061532_21C6.mkv: 640x640 Done. (0.018s)\n",
      "video 1/1 (115/3933) D:\\815_CowDataChecking\\20221229\\20221229_M_cow\\20221229_061532_21C6.mkv: 640x640 Done. (0.019s)\n",
      "video 1/1 (116/3933) D:\\815_CowDataChecking\\20221229\\20221229_M_cow\\20221229_061532_21C6.mkv: 640x640 Done. (0.017s)\n",
      "video 1/1 (117/3933) D:\\815_CowDataChecking\\20221229\\20221229_M_cow\\20221229_061532_21C6.mkv: 640x640 Done. (0.019s)\n",
      "video 1/1 (118/3933) D:\\815_CowDataChecking\\20221229\\20221229_M_cow\\20221229_061532_21C6.mkv: 640x640 Done. (0.022s)\n",
      "video 1/1 (119/3933) D:\\815_CowDataChecking\\20221229\\20221229_M_cow\\20221229_061532_21C6.mkv: 640x640 Done. (0.021s)\n",
      "video 1/1 (120/3933) D:\\815_CowDataChecking\\20221229\\20221229_M_cow\\20221229_061532_21C6.mkv: 640x640 Done. (0.023s)\n",
      "video 1/1 (121/3933) D:\\815_CowDataChecking\\20221229\\20221229_M_cow\\20221229_061532_21C6.mkv: 640x640 Done. (0.023s)\n",
      "video 1/1 (122/3933) D:\\815_CowDataChecking\\20221229\\20221229_M_cow\\20221229_061532_21C6.mkv: 640x640 Done. (0.023s)\n",
      "video 1/1 (123/3933) D:\\815_CowDataChecking\\20221229\\20221229_M_cow\\20221229_061532_21C6.mkv: 640x640 Done. (0.043s)\n",
      "video 1/1 (124/3933) D:\\815_CowDataChecking\\20221229\\20221229_M_cow\\20221229_061532_21C6.mkv: 640x640 Done. (0.042s)\n",
      "video 1/1 (125/3933) D:\\815_CowDataChecking\\20221229\\20221229_M_cow\\20221229_061532_21C6.mkv: 640x640 Done. (0.052s)\n",
      "video 1/1 (126/3933) D:\\815_CowDataChecking\\20221229\\20221229_M_cow\\20221229_061532_21C6.mkv: 640x640 Done. (0.047s)\n",
      "video 1/1 (127/3933) D:\\815_CowDataChecking\\20221229\\20221229_M_cow\\20221229_061532_21C6.mkv: 640x640 Done. (0.046s)\n",
      "video 1/1 (128/3933) D:\\815_CowDataChecking\\20221229\\20221229_M_cow\\20221229_061532_21C6.mkv: 640x640 Done. (0.039s)\n",
      "video 1/1 (129/3933) D:\\815_CowDataChecking\\20221229\\20221229_M_cow\\20221229_061532_21C6.mkv: 640x640 Done. (0.038s)\n",
      "video 1/1 (130/3933) D:\\815_CowDataChecking\\20221229\\20221229_M_cow\\20221229_061532_21C6.mkv: 640x640 Done. (0.047s)\n",
      "video 1/1 (131/3933) D:\\815_CowDataChecking\\20221229\\20221229_M_cow\\20221229_061532_21C6.mkv: 640x640 Done. (0.044s)\n",
      "video 1/1 (132/3933) D:\\815_CowDataChecking\\20221229\\20221229_M_cow\\20221229_061532_21C6.mkv: 640x640 Done. (0.042s)\n",
      "video 1/1 (133/3933) D:\\815_CowDataChecking\\20221229\\20221229_M_cow\\20221229_061532_21C6.mkv: 640x640 Done. (0.017s)\n",
      "video 1/1 (134/3933) D:\\815_CowDataChecking\\20221229\\20221229_M_cow\\20221229_061532_21C6.mkv: 640x640 Done. (0.017s)\n",
      "video 1/1 (135/3933) D:\\815_CowDataChecking\\20221229\\20221229_M_cow\\20221229_061532_21C6.mkv: 640x640 Done. (0.017s)\n",
      "video 1/1 (136/3933) D:\\815_CowDataChecking\\20221229\\20221229_M_cow\\20221229_061532_21C6.mkv: 640x640 Done. (0.017s)\n",
      "video 1/1 (137/3933) D:\\815_CowDataChecking\\20221229\\20221229_M_cow\\20221229_061532_21C6.mkv: 640x640 Done. (0.016s)\n",
      "video 1/1 (138/3933) D:\\815_CowDataChecking\\20221229\\20221229_M_cow\\20221229_061532_21C6.mkv: 640x640 Done. (0.017s)\n",
      "video 1/1 (139/3933) D:\\815_CowDataChecking\\20221229\\20221229_M_cow\\20221229_061532_21C6.mkv: 640x640 Done. (0.015s)\n",
      "video 1/1 (140/3933) D:\\815_CowDataChecking\\20221229\\20221229_M_cow\\20221229_061532_21C6.mkv: 640x640 Done. (0.026s)\n",
      "video 1/1 (141/3933) D:\\815_CowDataChecking\\20221229\\20221229_M_cow\\20221229_061532_21C6.mkv: 640x640 Done. (0.021s)\n",
      "video 1/1 (142/3933) D:\\815_CowDataChecking\\20221229\\20221229_M_cow\\20221229_061532_21C6.mkv: 640x640 Done. (0.018s)\n",
      "video 1/1 (143/3933) D:\\815_CowDataChecking\\20221229\\20221229_M_cow\\20221229_061532_21C6.mkv: 640x640 Done. (0.019s)\n",
      "video 1/1 (144/3933) D:\\815_CowDataChecking\\20221229\\20221229_M_cow\\20221229_061532_21C6.mkv: 640x640 Done. (0.015s)\n",
      "video 1/1 (145/3933) D:\\815_CowDataChecking\\20221229\\20221229_M_cow\\20221229_061532_21C6.mkv: 640x640 Done. (0.025s)\n",
      "video 1/1 (146/3933) D:\\815_CowDataChecking\\20221229\\20221229_M_cow\\20221229_061532_21C6.mkv: 640x640 Done. (0.025s)\n",
      "video 1/1 (147/3933) D:\\815_CowDataChecking\\20221229\\20221229_M_cow\\20221229_061532_21C6.mkv: 640x640 Done. (0.019s)\n",
      "video 1/1 (148/3933) D:\\815_CowDataChecking\\20221229\\20221229_M_cow\\20221229_061532_21C6.mkv: 640x640 Done. (0.017s)\n",
      "video 1/1 (149/3933) D:\\815_CowDataChecking\\20221229\\20221229_M_cow\\20221229_061532_21C6.mkv: 640x640 Done. (0.016s)\n",
      "video 1/1 (150/3933) D:\\815_CowDataChecking\\20221229\\20221229_M_cow\\20221229_061532_21C6.mkv: 640x640 Done. (0.019s)\n",
      "video 1/1 (151/3933) D:\\815_CowDataChecking\\20221229\\20221229_M_cow\\20221229_061532_21C6.mkv: 640x640 Done. (0.017s)\n",
      "video 1/1 (152/3933) D:\\815_CowDataChecking\\20221229\\20221229_M_cow\\20221229_061532_21C6.mkv: 640x640 Done. (0.016s)\n",
      "video 1/1 (153/3933) D:\\815_CowDataChecking\\20221229\\20221229_M_cow\\20221229_061532_21C6.mkv: 640x640 Done. (0.044s)\n",
      "video 1/1 (154/3933) D:\\815_CowDataChecking\\20221229\\20221229_M_cow\\20221229_061532_21C6.mkv: 640x640 Done. (0.044s)\n",
      "video 1/1 (155/3933) D:\\815_CowDataChecking\\20221229\\20221229_M_cow\\20221229_061532_21C6.mkv: 640x640 Done. (0.050s)\n",
      "video 1/1 (156/3933) D:\\815_CowDataChecking\\20221229\\20221229_M_cow\\20221229_061532_21C6.mkv: 640x640 Done. (0.042s)\n",
      "video 1/1 (157/3933) D:\\815_CowDataChecking\\20221229\\20221229_M_cow\\20221229_061532_21C6.mkv: 640x640 Done. (0.047s)\n",
      "video 1/1 (158/3933) D:\\815_CowDataChecking\\20221229\\20221229_M_cow\\20221229_061532_21C6.mkv: 640x640 Done. (0.025s)\n",
      "video 1/1 (159/3933) D:\\815_CowDataChecking\\20221229\\20221229_M_cow\\20221229_061532_21C6.mkv: 640x640 Done. (0.022s)\n",
      "video 1/1 (160/3933) D:\\815_CowDataChecking\\20221229\\20221229_M_cow\\20221229_061532_21C6.mkv: 640x640 Done. (0.019s)\n",
      "video 1/1 (161/3933) D:\\815_CowDataChecking\\20221229\\20221229_M_cow\\20221229_061532_21C6.mkv: 640x640 Done. (0.019s)\n",
      "video 1/1 (162/3933) D:\\815_CowDataChecking\\20221229\\20221229_M_cow\\20221229_061532_21C6.mkv: 640x640 Done. (0.018s)\n",
      "video 1/1 (163/3933) D:\\815_CowDataChecking\\20221229\\20221229_M_cow\\20221229_061532_21C6.mkv: 640x640 Done. (0.018s)\n",
      "video 1/1 (164/3933) D:\\815_CowDataChecking\\20221229\\20221229_M_cow\\20221229_061532_21C6.mkv: 640x640 Done. (0.020s)\n",
      "video 1/1 (165/3933) D:\\815_CowDataChecking\\20221229\\20221229_M_cow\\20221229_061532_21C6.mkv: 640x640 Done. (0.018s)\n",
      "video 1/1 (166/3933) D:\\815_CowDataChecking\\20221229\\20221229_M_cow\\20221229_061532_21C6.mkv: 640x640 Done. (0.018s)\n",
      "video 1/1 (167/3933) D:\\815_CowDataChecking\\20221229\\20221229_M_cow\\20221229_061532_21C6.mkv: 640x640 Done. (0.021s)\n",
      "video 1/1 (168/3933) D:\\815_CowDataChecking\\20221229\\20221229_M_cow\\20221229_061532_21C6.mkv: 640x640 Done. (0.018s)\n",
      "video 1/1 (169/3933) D:\\815_CowDataChecking\\20221229\\20221229_M_cow\\20221229_061532_21C6.mkv: 640x640 Done. (0.021s)\n",
      "video 1/1 (170/3933) D:\\815_CowDataChecking\\20221229\\20221229_M_cow\\20221229_061532_21C6.mkv: 640x640 Done. (0.022s)\n",
      "video 1/1 (171/3933) D:\\815_CowDataChecking\\20221229\\20221229_M_cow\\20221229_061532_21C6.mkv: 640x640 Done. (0.018s)\n",
      "video 1/1 (172/3933) D:\\815_CowDataChecking\\20221229\\20221229_M_cow\\20221229_061532_21C6.mkv: 640x640 Done. (0.018s)\n",
      "video 1/1 (173/3933) D:\\815_CowDataChecking\\20221229\\20221229_M_cow\\20221229_061532_21C6.mkv: 640x640 Done. (0.018s)\n",
      "video 1/1 (174/3933) D:\\815_CowDataChecking\\20221229\\20221229_M_cow\\20221229_061532_21C6.mkv: 640x640 Done. (0.019s)\n",
      "video 1/1 (175/3933) D:\\815_CowDataChecking\\20221229\\20221229_M_cow\\20221229_061532_21C6.mkv: 640x640 Done. (0.018s)\n",
      "video 1/1 (176/3933) D:\\815_CowDataChecking\\20221229\\20221229_M_cow\\20221229_061532_21C6.mkv: 640x640 Done. (0.019s)\n",
      "video 1/1 (177/3933) D:\\815_CowDataChecking\\20221229\\20221229_M_cow\\20221229_061532_21C6.mkv: 640x640 Done. (0.018s)\n",
      "video 1/1 (178/3933) D:\\815_CowDataChecking\\20221229\\20221229_M_cow\\20221229_061532_21C6.mkv: 640x640 Done. (0.033s)\n",
      "video 1/1 (179/3933) D:\\815_CowDataChecking\\20221229\\20221229_M_cow\\20221229_061532_21C6.mkv: 640x640 Done. (0.045s)\n",
      "video 1/1 (180/3933) D:\\815_CowDataChecking\\20221229\\20221229_M_cow\\20221229_061532_21C6.mkv: 640x640 Done. (0.046s)\n",
      "video 1/1 (181/3933) D:\\815_CowDataChecking\\20221229\\20221229_M_cow\\20221229_061532_21C6.mkv: 640x640 Done. (0.040s)\n",
      "video 1/1 (182/3933) D:\\815_CowDataChecking\\20221229\\20221229_M_cow\\20221229_061532_21C6.mkv: 640x640 Done. (0.044s)\n",
      "video 1/1 (183/3933) D:\\815_CowDataChecking\\20221229\\20221229_M_cow\\20221229_061532_21C6.mkv: 640x640 Done. (0.038s)\n",
      "video 1/1 (184/3933) D:\\815_CowDataChecking\\20221229\\20221229_M_cow\\20221229_061532_21C6.mkv: 640x640 Done. (0.045s)\n",
      "video 1/1 (185/3933) D:\\815_CowDataChecking\\20221229\\20221229_M_cow\\20221229_061532_21C6.mkv: 640x640 Done. (0.040s)\n",
      "video 1/1 (186/3933) D:\\815_CowDataChecking\\20221229\\20221229_M_cow\\20221229_061532_21C6.mkv: 640x640 Done. (0.046s)\n",
      "video 1/1 (187/3933) D:\\815_CowDataChecking\\20221229\\20221229_M_cow\\20221229_061532_21C6.mkv: 640x640 Done. (0.017s)\n",
      "video 1/1 (188/3933) D:\\815_CowDataChecking\\20221229\\20221229_M_cow\\20221229_061532_21C6.mkv: 640x640 Done. (0.016s)\n",
      "video 1/1 (189/3933) D:\\815_CowDataChecking\\20221229\\20221229_M_cow\\20221229_061532_21C6.mkv: 640x640 Done. (0.022s)\n",
      "video 1/1 (190/3933) D:\\815_CowDataChecking\\20221229\\20221229_M_cow\\20221229_061532_21C6.mkv: 640x640 Done. (0.024s)\n",
      "video 1/1 (191/3933) D:\\815_CowDataChecking\\20221229\\20221229_M_cow\\20221229_061532_21C6.mkv: 640x640 Done. (0.017s)\n",
      "video 1/1 (192/3933) D:\\815_CowDataChecking\\20221229\\20221229_M_cow\\20221229_061532_21C6.mkv: 640x640 Done. (0.020s)\n",
      "video 1/1 (193/3933) D:\\815_CowDataChecking\\20221229\\20221229_M_cow\\20221229_061532_21C6.mkv: 640x640 Done. (0.017s)\n",
      "video 1/1 (194/3933) D:\\815_CowDataChecking\\20221229\\20221229_M_cow\\20221229_061532_21C6.mkv: 640x640 Done. (0.017s)\n",
      "video 1/1 (195/3933) D:\\815_CowDataChecking\\20221229\\20221229_M_cow\\20221229_061532_21C6.mkv: 640x640 Done. (0.016s)\n",
      "video 1/1 (196/3933) D:\\815_CowDataChecking\\20221229\\20221229_M_cow\\20221229_061532_21C6.mkv: 640x640 Done. (0.015s)\n",
      "video 1/1 (197/3933) D:\\815_CowDataChecking\\20221229\\20221229_M_cow\\20221229_061532_21C6.mkv: 640x640 Done. (0.016s)\n",
      "video 1/1 (198/3933) D:\\815_CowDataChecking\\20221229\\20221229_M_cow\\20221229_061532_21C6.mkv: 640x640 Done. (0.016s)\n",
      "video 1/1 (199/3933) D:\\815_CowDataChecking\\20221229\\20221229_M_cow\\20221229_061532_21C6.mkv: 640x640 Done. (0.016s)\n",
      "video 1/1 (200/3933) D:\\815_CowDataChecking\\20221229\\20221229_M_cow\\20221229_061532_21C6.mkv: 640x640 Done. (0.015s)\n",
      "video 1/1 (201/3933) D:\\815_CowDataChecking\\20221229\\20221229_M_cow\\20221229_061532_21C6.mkv: 640x640 Done. (0.016s)\n",
      "video 1/1 (202/3933) D:\\815_CowDataChecking\\20221229\\20221229_M_cow\\20221229_061532_21C6.mkv: 640x640 Done. (0.017s)\n",
      "video 1/1 (203/3933) D:\\815_CowDataChecking\\20221229\\20221229_M_cow\\20221229_061532_21C6.mkv: 640x640 Done. (0.016s)\n",
      "video 1/1 (204/3933) D:\\815_CowDataChecking\\20221229\\20221229_M_cow\\20221229_061532_21C6.mkv: 640x640 Done. (0.016s)\n",
      "video 1/1 (205/3933) D:\\815_CowDataChecking\\20221229\\20221229_M_cow\\20221229_061532_21C6.mkv: 640x640 Done. (0.016s)\n",
      "video 1/1 (206/3933) D:\\815_CowDataChecking\\20221229\\20221229_M_cow\\20221229_061532_21C6.mkv: 640x640 Done. (0.026s)\n",
      "video 1/1 (207/3933) D:\\815_CowDataChecking\\20221229\\20221229_M_cow\\20221229_061532_21C6.mkv: 640x640 Done. (0.017s)\n",
      "video 1/1 (208/3933) D:\\815_CowDataChecking\\20221229\\20221229_M_cow\\20221229_061532_21C6.mkv: 640x640 Done. (0.055s)\n",
      "video 1/1 (209/3933) D:\\815_CowDataChecking\\20221229\\20221229_M_cow\\20221229_061532_21C6.mkv: 640x640 Done. (0.037s)\n",
      "video 1/1 (210/3933) D:\\815_CowDataChecking\\20221229\\20221229_M_cow\\20221229_061532_21C6.mkv: 640x640 Done. (0.025s)\n",
      "video 1/1 (211/3933) D:\\815_CowDataChecking\\20221229\\20221229_M_cow\\20221229_061532_21C6.mkv: 640x640 Done. (0.024s)\n",
      "video 1/1 (212/3933) D:\\815_CowDataChecking\\20221229\\20221229_M_cow\\20221229_061532_21C6.mkv: 640x640 Done. (0.021s)\n",
      "video 1/1 (213/3933) D:\\815_CowDataChecking\\20221229\\20221229_M_cow\\20221229_061532_21C6.mkv: 640x640 Done. (0.024s)\n",
      "video 1/1 (214/3933) D:\\815_CowDataChecking\\20221229\\20221229_M_cow\\20221229_061532_21C6.mkv: 640x640 Done. (0.021s)\n",
      "video 1/1 (215/3933) D:\\815_CowDataChecking\\20221229\\20221229_M_cow\\20221229_061532_21C6.mkv: 640x640 Done. (0.022s)\n",
      "video 1/1 (216/3933) D:\\815_CowDataChecking\\20221229\\20221229_M_cow\\20221229_061532_21C6.mkv: 640x640 Done. (0.022s)\n",
      "video 1/1 (217/3933) D:\\815_CowDataChecking\\20221229\\20221229_M_cow\\20221229_061532_21C6.mkv: 640x640 Done. (0.023s)\n",
      "video 1/1 (218/3933) D:\\815_CowDataChecking\\20221229\\20221229_M_cow\\20221229_061532_21C6.mkv: 640x640 Done. (0.025s)\n",
      "video 1/1 (219/3933) D:\\815_CowDataChecking\\20221229\\20221229_M_cow\\20221229_061532_21C6.mkv: 640x640 Done. (0.022s)\n",
      "video 1/1 (220/3933) D:\\815_CowDataChecking\\20221229\\20221229_M_cow\\20221229_061532_21C6.mkv: 640x640 Done. (0.024s)\n",
      "video 1/1 (221/3933) D:\\815_CowDataChecking\\20221229\\20221229_M_cow\\20221229_061532_21C6.mkv: 640x640 Done. (0.023s)\n",
      "video 1/1 (222/3933) D:\\815_CowDataChecking\\20221229\\20221229_M_cow\\20221229_061532_21C6.mkv: 640x640 Done. (0.048s)\n",
      "video 1/1 (223/3933) D:\\815_CowDataChecking\\20221229\\20221229_M_cow\\20221229_061532_21C6.mkv: 640x640 Done. (0.048s)\n",
      "video 1/1 (224/3933) D:\\815_CowDataChecking\\20221229\\20221229_M_cow\\20221229_061532_21C6.mkv: 640x640 Done. (0.045s)\n",
      "video 1/1 (225/3933) D:\\815_CowDataChecking\\20221229\\20221229_M_cow\\20221229_061532_21C6.mkv: 640x640 Done. (0.046s)\n",
      "video 1/1 (226/3933) D:\\815_CowDataChecking\\20221229\\20221229_M_cow\\20221229_061532_21C6.mkv: 640x640 Done. (0.019s)\n",
      "video 1/1 (227/3933) D:\\815_CowDataChecking\\20221229\\20221229_M_cow\\20221229_061532_21C6.mkv: 640x640 Done. (0.017s)\n",
      "video 1/1 (228/3933) D:\\815_CowDataChecking\\20221229\\20221229_M_cow\\20221229_061532_21C6.mkv: 640x640 Done. (0.024s)\n",
      "video 1/1 (229/3933) D:\\815_CowDataChecking\\20221229\\20221229_M_cow\\20221229_061532_21C6.mkv: 640x640 Done. (0.019s)\n",
      "video 1/1 (230/3933) D:\\815_CowDataChecking\\20221229\\20221229_M_cow\\20221229_061532_21C6.mkv: 640x640 Done. (0.018s)\n",
      "video 1/1 (231/3933) D:\\815_CowDataChecking\\20221229\\20221229_M_cow\\20221229_061532_21C6.mkv: 640x640 Done. (0.018s)\n",
      "video 1/1 (232/3933) D:\\815_CowDataChecking\\20221229\\20221229_M_cow\\20221229_061532_21C6.mkv: 640x640 Done. (0.018s)\n",
      "video 1/1 (233/3933) D:\\815_CowDataChecking\\20221229\\20221229_M_cow\\20221229_061532_21C6.mkv: 640x640 Done. (0.019s)\n",
      "video 1/1 (234/3933) D:\\815_CowDataChecking\\20221229\\20221229_M_cow\\20221229_061532_21C6.mkv: 640x640 Done. (0.019s)\n",
      "video 1/1 (235/3933) D:\\815_CowDataChecking\\20221229\\20221229_M_cow\\20221229_061532_21C6.mkv: 640x640 Done. (0.018s)\n",
      "video 1/1 (236/3933) D:\\815_CowDataChecking\\20221229\\20221229_M_cow\\20221229_061532_21C6.mkv: 640x640 Done. (0.018s)\n",
      "video 1/1 (237/3933) D:\\815_CowDataChecking\\20221229\\20221229_M_cow\\20221229_061532_21C6.mkv: 640x640 Done. (0.020s)\n",
      "video 1/1 (238/3933) D:\\815_CowDataChecking\\20221229\\20221229_M_cow\\20221229_061532_21C6.mkv: 640x640 Done. (0.018s)\n",
      "video 1/1 (239/3933) D:\\815_CowDataChecking\\20221229\\20221229_M_cow\\20221229_061532_21C6.mkv: 640x640 Done. (0.018s)\n",
      "video 1/1 (240/3933) D:\\815_CowDataChecking\\20221229\\20221229_M_cow\\20221229_061532_21C6.mkv: 640x640 Done. (0.019s)\n",
      "video 1/1 (241/3933) D:\\815_CowDataChecking\\20221229\\20221229_M_cow\\20221229_061532_21C6.mkv: 640x640 Done. (0.018s)\n",
      "video 1/1 (242/3933) D:\\815_CowDataChecking\\20221229\\20221229_M_cow\\20221229_061532_21C6.mkv: 640x640 Done. (0.019s)\n",
      "video 1/1 (243/3933) D:\\815_CowDataChecking\\20221229\\20221229_M_cow\\20221229_061532_21C6.mkv: 640x640 Done. (0.019s)\n",
      "video 1/1 (244/3933) D:\\815_CowDataChecking\\20221229\\20221229_M_cow\\20221229_061532_21C6.mkv: 640x640 Done. (0.019s)\n",
      "video 1/1 (245/3933) D:\\815_CowDataChecking\\20221229\\20221229_M_cow\\20221229_061532_21C6.mkv: 640x640 Done. (0.017s)\n",
      "video 1/1 (246/3933) D:\\815_CowDataChecking\\20221229\\20221229_M_cow\\20221229_061532_21C6.mkv: 640x640 Done. (0.049s)\n",
      "video 1/1 (247/3933) D:\\815_CowDataChecking\\20221229\\20221229_M_cow\\20221229_061532_21C6.mkv: 640x640 Done. (0.051s)\n",
      "video 1/1 (248/3933) D:\\815_CowDataChecking\\20221229\\20221229_M_cow\\20221229_061532_21C6.mkv: 640x640 Done. (0.021s)\n",
      "video 1/1 (249/3933) D:\\815_CowDataChecking\\20221229\\20221229_M_cow\\20221229_061532_21C6.mkv: 640x640 Done. (0.020s)\n",
      "video 1/1 (250/3933) D:\\815_CowDataChecking\\20221229\\20221229_M_cow\\20221229_061532_21C6.mkv: 640x640 Done. (0.024s)\n",
      "video 1/1 (251/3933) D:\\815_CowDataChecking\\20221229\\20221229_M_cow\\20221229_061532_21C6.mkv: 640x640 Done. (0.021s)\n",
      "video 1/1 (252/3933) D:\\815_CowDataChecking\\20221229\\20221229_M_cow\\20221229_061532_21C6.mkv: 640x640 Done. (0.023s)\n",
      "video 1/1 (253/3933) D:\\815_CowDataChecking\\20221229\\20221229_M_cow\\20221229_061532_21C6.mkv: 640x640 Done. (0.020s)\n",
      "video 1/1 (254/3933) D:\\815_CowDataChecking\\20221229\\20221229_M_cow\\20221229_061532_21C6.mkv: 640x640 Done. (0.023s)\n",
      "video 1/1 (255/3933) D:\\815_CowDataChecking\\20221229\\20221229_M_cow\\20221229_061532_21C6.mkv: 640x640 Done. (0.022s)\n",
      "video 1/1 (256/3933) D:\\815_CowDataChecking\\20221229\\20221229_M_cow\\20221229_061532_21C6.mkv: 640x640 Done. (0.021s)\n",
      "video 1/1 (257/3933) D:\\815_CowDataChecking\\20221229\\20221229_M_cow\\20221229_061532_21C6.mkv: 640x640 Done. (0.022s)\n",
      "video 1/1 (258/3933) D:\\815_CowDataChecking\\20221229\\20221229_M_cow\\20221229_061532_21C6.mkv: 640x640 Done. (0.023s)\n",
      "video 1/1 (259/3933) D:\\815_CowDataChecking\\20221229\\20221229_M_cow\\20221229_061532_21C6.mkv: 640x640 Done. (0.022s)\n",
      "video 1/1 (260/3933) D:\\815_CowDataChecking\\20221229\\20221229_M_cow\\20221229_061532_21C6.mkv: 640x640 Done. (0.045s)\n",
      "video 1/1 (261/3933) D:\\815_CowDataChecking\\20221229\\20221229_M_cow\\20221229_061532_21C6.mkv: 640x640 Done. (0.041s)\n",
      "video 1/1 (262/3933) D:\\815_CowDataChecking\\20221229\\20221229_M_cow\\20221229_061532_21C6.mkv: 640x640 Done. (0.024s)\n",
      "video 1/1 (263/3933) D:\\815_CowDataChecking\\20221229\\20221229_M_cow\\20221229_061532_21C6.mkv: 640x640 Done. (0.021s)\n",
      "video 1/1 (264/3933) D:\\815_CowDataChecking\\20221229\\20221229_M_cow\\20221229_061532_21C6.mkv: 640x640 Done. (0.020s)\n",
      "video 1/1 (265/3933) D:\\815_CowDataChecking\\20221229\\20221229_M_cow\\20221229_061532_21C6.mkv: 640x640 Done. (0.018s)\n",
      "video 1/1 (266/3933) D:\\815_CowDataChecking\\20221229\\20221229_M_cow\\20221229_061532_21C6.mkv: 640x640 Done. (0.018s)\n",
      "video 1/1 (267/3933) D:\\815_CowDataChecking\\20221229\\20221229_M_cow\\20221229_061532_21C6.mkv: 640x640 Done. (0.018s)\n",
      "video 1/1 (268/3933) D:\\815_CowDataChecking\\20221229\\20221229_M_cow\\20221229_061532_21C6.mkv: 640x640 Done. (0.025s)\n",
      "video 1/1 (269/3933) D:\\815_CowDataChecking\\20221229\\20221229_M_cow\\20221229_061532_21C6.mkv: 640x640 Done. (0.019s)\n",
      "video 1/1 (270/3933) D:\\815_CowDataChecking\\20221229\\20221229_M_cow\\20221229_061532_21C6.mkv: 640x640 Done. (0.021s)\n",
      "video 1/1 (271/3933) D:\\815_CowDataChecking\\20221229\\20221229_M_cow\\20221229_061532_21C6.mkv: 640x640 Done. (0.020s)\n",
      "video 1/1 (272/3933) D:\\815_CowDataChecking\\20221229\\20221229_M_cow\\20221229_061532_21C6.mkv: 640x640 Done. (0.019s)\n",
      "video 1/1 (273/3933) D:\\815_CowDataChecking\\20221229\\20221229_M_cow\\20221229_061532_21C6.mkv: 640x640 Done. (0.020s)\n",
      "video 1/1 (274/3933) D:\\815_CowDataChecking\\20221229\\20221229_M_cow\\20221229_061532_21C6.mkv: 640x640 Done. (0.018s)\n",
      "video 1/1 (275/3933) D:\\815_CowDataChecking\\20221229\\20221229_M_cow\\20221229_061532_21C6.mkv: 640x640 Done. (0.019s)\n",
      "video 1/1 (276/3933) D:\\815_CowDataChecking\\20221229\\20221229_M_cow\\20221229_061532_21C6.mkv: 640x640 Done. (0.019s)\n",
      "video 1/1 (277/3933) D:\\815_CowDataChecking\\20221229\\20221229_M_cow\\20221229_061532_21C6.mkv: 640x640 Done. (0.018s)\n",
      "video 1/1 (278/3933) D:\\815_CowDataChecking\\20221229\\20221229_M_cow\\20221229_061532_21C6.mkv: 640x640 Done. (0.018s)\n",
      "video 1/1 (279/3933) D:\\815_CowDataChecking\\20221229\\20221229_M_cow\\20221229_061532_21C6.mkv: 640x640 Done. (0.019s)\n",
      "video 1/1 (280/3933) D:\\815_CowDataChecking\\20221229\\20221229_M_cow\\20221229_061532_21C6.mkv: 640x640 Done. (0.018s)\n",
      "video 1/1 (281/3933) D:\\815_CowDataChecking\\20221229\\20221229_M_cow\\20221229_061532_21C6.mkv: 640x640 Done. (0.018s)\n",
      "video 1/1 (282/3933) D:\\815_CowDataChecking\\20221229\\20221229_M_cow\\20221229_061532_21C6.mkv: 640x640 Done. (0.047s)\n",
      "video 1/1 (283/3933) D:\\815_CowDataChecking\\20221229\\20221229_M_cow\\20221229_061532_21C6.mkv: 640x640 Done. (0.044s)\n",
      "video 1/1 (284/3933) D:\\815_CowDataChecking\\20221229\\20221229_M_cow\\20221229_061532_21C6.mkv: 640x640 Done. (0.041s)\n",
      "video 1/1 (285/3933) D:\\815_CowDataChecking\\20221229\\20221229_M_cow\\20221229_061532_21C6.mkv: 640x640 Done. (0.041s)\n",
      "video 1/1 (286/3933) D:\\815_CowDataChecking\\20221229\\20221229_M_cow\\20221229_061532_21C6.mkv: 640x640 Done. (0.044s)\n",
      "video 1/1 (287/3933) D:\\815_CowDataChecking\\20221229\\20221229_M_cow\\20221229_061532_21C6.mkv: 640x640 Done. (0.043s)\n",
      "video 1/1 (288/3933) D:\\815_CowDataChecking\\20221229\\20221229_M_cow\\20221229_061532_21C6.mkv: 640x640 Done. (0.048s)\n",
      "video 1/1 (289/3933) D:\\815_CowDataChecking\\20221229\\20221229_M_cow\\20221229_061532_21C6.mkv: 640x640 Done. (0.019s)\n",
      "video 1/1 (290/3933) D:\\815_CowDataChecking\\20221229\\20221229_M_cow\\20221229_061532_21C6.mkv: 640x640 Done. (0.020s)\n",
      "video 1/1 (291/3933) D:\\815_CowDataChecking\\20221229\\20221229_M_cow\\20221229_061532_21C6.mkv: 640x640 Done. (0.021s)\n",
      "video 1/1 (292/3933) D:\\815_CowDataChecking\\20221229\\20221229_M_cow\\20221229_061532_21C6.mkv: 640x640 Done. (0.019s)\n",
      "video 1/1 (293/3933) D:\\815_CowDataChecking\\20221229\\20221229_M_cow\\20221229_061532_21C6.mkv: 640x640 Done. (0.019s)\n",
      "video 1/1 (294/3933) D:\\815_CowDataChecking\\20221229\\20221229_M_cow\\20221229_061532_21C6.mkv: 640x640 Done. (0.017s)\n",
      "video 1/1 (295/3933) D:\\815_CowDataChecking\\20221229\\20221229_M_cow\\20221229_061532_21C6.mkv: 640x640 Done. (0.017s)\n",
      "video 1/1 (296/3933) D:\\815_CowDataChecking\\20221229\\20221229_M_cow\\20221229_061532_21C6.mkv: 640x640 Done. (0.019s)\n",
      "video 1/1 (297/3933) D:\\815_CowDataChecking\\20221229\\20221229_M_cow\\20221229_061532_21C6.mkv: 640x640 Done. (0.021s)\n",
      "video 1/1 (298/3933) D:\\815_CowDataChecking\\20221229\\20221229_M_cow\\20221229_061532_21C6.mkv: 640x640 Done. (0.019s)\n",
      "video 1/1 (299/3933) D:\\815_CowDataChecking\\20221229\\20221229_M_cow\\20221229_061532_21C6.mkv: 640x640 Done. (0.020s)\n",
      "video 1/1 (300/3933) D:\\815_CowDataChecking\\20221229\\20221229_M_cow\\20221229_061532_21C6.mkv: 640x640 Done. (0.020s)\n",
      "video 1/1 (301/3933) D:\\815_CowDataChecking\\20221229\\20221229_M_cow\\20221229_061532_21C6.mkv: 640x640 Done. (0.018s)\n",
      "video 1/1 (302/3933) D:\\815_CowDataChecking\\20221229\\20221229_M_cow\\20221229_061532_21C6.mkv: 640x640 Done. (0.025s)\n",
      "video 1/1 (303/3933) D:\\815_CowDataChecking\\20221229\\20221229_M_cow\\20221229_061532_21C6.mkv: 640x640 Done. (0.024s)\n",
      "video 1/1 (304/3933) D:\\815_CowDataChecking\\20221229\\20221229_M_cow\\20221229_061532_21C6.mkv: 640x640 Done. (0.020s)\n",
      "video 1/1 (305/3933) D:\\815_CowDataChecking\\20221229\\20221229_M_cow\\20221229_061532_21C6.mkv: 640x640 Done. (0.019s)\n",
      "video 1/1 (306/3933) D:\\815_CowDataChecking\\20221229\\20221229_M_cow\\20221229_061532_21C6.mkv: 640x640 Done. (0.019s)\n",
      "video 1/1 (307/3933) D:\\815_CowDataChecking\\20221229\\20221229_M_cow\\20221229_061532_21C6.mkv: 640x640 Done. (0.018s)\n",
      "video 1/1 (308/3933) D:\\815_CowDataChecking\\20221229\\20221229_M_cow\\20221229_061532_21C6.mkv: 640x640 Done. (0.034s)\n",
      "video 1/1 (309/3933) D:\\815_CowDataChecking\\20221229\\20221229_M_cow\\20221229_061532_21C6.mkv: 640x640 Done. (0.050s)\n",
      "video 1/1 (310/3933) D:\\815_CowDataChecking\\20221229\\20221229_M_cow\\20221229_061532_21C6.mkv: 640x640 Done. (0.024s)\n",
      "video 1/1 (311/3933) D:\\815_CowDataChecking\\20221229\\20221229_M_cow\\20221229_061532_21C6.mkv: 640x640 Done. (0.021s)\n",
      "video 1/1 (312/3933) D:\\815_CowDataChecking\\20221229\\20221229_M_cow\\20221229_061532_21C6.mkv: 640x640 Done. (0.020s)\n",
      "video 1/1 (313/3933) D:\\815_CowDataChecking\\20221229\\20221229_M_cow\\20221229_061532_21C6.mkv: 640x640 Done. (0.024s)\n",
      "video 1/1 (314/3933) D:\\815_CowDataChecking\\20221229\\20221229_M_cow\\20221229_061532_21C6.mkv: 640x640 Done. (0.022s)\n",
      "video 1/1 (315/3933) D:\\815_CowDataChecking\\20221229\\20221229_M_cow\\20221229_061532_21C6.mkv: 640x640 Done. (0.025s)\n",
      "video 1/1 (316/3933) D:\\815_CowDataChecking\\20221229\\20221229_M_cow\\20221229_061532_21C6.mkv: 640x640 Done. (0.050s)\n",
      "video 1/1 (317/3933) D:\\815_CowDataChecking\\20221229\\20221229_M_cow\\20221229_061532_21C6.mkv: 640x640 Done. (0.044s)\n",
      "video 1/1 (318/3933) D:\\815_CowDataChecking\\20221229\\20221229_M_cow\\20221229_061532_21C6.mkv: 640x640 Done. (0.026s)\n",
      "video 1/1 (319/3933) D:\\815_CowDataChecking\\20221229\\20221229_M_cow\\20221229_061532_21C6.mkv: 640x640 Done. (0.019s)\n",
      "video 1/1 (320/3933) D:\\815_CowDataChecking\\20221229\\20221229_M_cow\\20221229_061532_21C6.mkv: 640x640 Done. (0.025s)\n",
      "video 1/1 (321/3933) D:\\815_CowDataChecking\\20221229\\20221229_M_cow\\20221229_061532_21C6.mkv: 640x640 Done. (0.018s)\n",
      "video 1/1 (322/3933) D:\\815_CowDataChecking\\20221229\\20221229_M_cow\\20221229_061532_21C6.mkv: 640x640 Done. (0.021s)\n",
      "video 1/1 (323/3933) D:\\815_CowDataChecking\\20221229\\20221229_M_cow\\20221229_061532_21C6.mkv: 640x640 Done. (0.019s)\n",
      "video 1/1 (324/3933) D:\\815_CowDataChecking\\20221229\\20221229_M_cow\\20221229_061532_21C6.mkv: 640x640 Done. (0.029s)\n",
      "video 1/1 (325/3933) D:\\815_CowDataChecking\\20221229\\20221229_M_cow\\20221229_061532_21C6.mkv: 640x640 Done. (0.024s)\n",
      "video 1/1 (326/3933) D:\\815_CowDataChecking\\20221229\\20221229_M_cow\\20221229_061532_21C6.mkv: 640x640 Done. (0.026s)\n",
      "video 1/1 (327/3933) D:\\815_CowDataChecking\\20221229\\20221229_M_cow\\20221229_061532_21C6.mkv: 640x640 Done. (0.026s)\n",
      "video 1/1 (328/3933) D:\\815_CowDataChecking\\20221229\\20221229_M_cow\\20221229_061532_21C6.mkv: 640x640 Done. (0.017s)\n",
      "video 1/1 (329/3933) D:\\815_CowDataChecking\\20221229\\20221229_M_cow\\20221229_061532_21C6.mkv: 640x640 Done. (0.018s)\n",
      "video 1/1 (330/3933) D:\\815_CowDataChecking\\20221229\\20221229_M_cow\\20221229_061532_21C6.mkv: 640x640 Done. (0.019s)\n",
      "video 1/1 (331/3933) D:\\815_CowDataChecking\\20221229\\20221229_M_cow\\20221229_061532_21C6.mkv: 640x640 Done. (0.018s)\n",
      "video 1/1 (332/3933) D:\\815_CowDataChecking\\20221229\\20221229_M_cow\\20221229_061532_21C6.mkv: 640x640 Done. (0.018s)\n",
      "video 1/1 (333/3933) D:\\815_CowDataChecking\\20221229\\20221229_M_cow\\20221229_061532_21C6.mkv: 640x640 Done. (0.021s)\n",
      "video 1/1 (334/3933) D:\\815_CowDataChecking\\20221229\\20221229_M_cow\\20221229_061532_21C6.mkv: 640x640 Done. (0.017s)\n",
      "video 1/1 (335/3933) D:\\815_CowDataChecking\\20221229\\20221229_M_cow\\20221229_061532_21C6.mkv: 640x640 Done. (0.025s)\n",
      "video 1/1 (336/3933) D:\\815_CowDataChecking\\20221229\\20221229_M_cow\\20221229_061532_21C6.mkv: 640x640 Done. (0.025s)\n",
      "video 1/1 (337/3933) D:\\815_CowDataChecking\\20221229\\20221229_M_cow\\20221229_061532_21C6.mkv: 640x640 Done. (0.021s)\n",
      "video 1/1 (338/3933) D:\\815_CowDataChecking\\20221229\\20221229_M_cow\\20221229_061532_21C6.mkv: 640x640 Done. (0.021s)\n",
      "video 1/1 (339/3933) D:\\815_CowDataChecking\\20221229\\20221229_M_cow\\20221229_061532_21C6.mkv: 640x640 Done. (0.023s)\n",
      "video 1/1 (340/3933) D:\\815_CowDataChecking\\20221229\\20221229_M_cow\\20221229_061532_21C6.mkv: 640x640 Done. (0.023s)\n",
      "video 1/1 (341/3933) D:\\815_CowDataChecking\\20221229\\20221229_M_cow\\20221229_061532_21C6.mkv: 640x640 Done. (0.047s)\n",
      "video 1/1 (342/3933) D:\\815_CowDataChecking\\20221229\\20221229_M_cow\\20221229_061532_21C6.mkv: 640x640 Done. (0.047s)\n",
      "video 1/1 (343/3933) D:\\815_CowDataChecking\\20221229\\20221229_M_cow\\20221229_061532_21C6.mkv: 640x640 Done. (0.055s)\n",
      "video 1/1 (344/3933) D:\\815_CowDataChecking\\20221229\\20221229_M_cow\\20221229_061532_21C6.mkv: 640x640 Done. (0.044s)\n",
      "video 1/1 (345/3933) D:\\815_CowDataChecking\\20221229\\20221229_M_cow\\20221229_061532_21C6.mkv: 640x640 Done. (0.017s)\n",
      "video 1/1 (346/3933) D:\\815_CowDataChecking\\20221229\\20221229_M_cow\\20221229_061532_21C6.mkv: 640x640 Done. (0.019s)\n",
      "video 1/1 (347/3933) D:\\815_CowDataChecking\\20221229\\20221229_M_cow\\20221229_061532_21C6.mkv: 640x640 Done. (0.018s)\n",
      "video 1/1 (348/3933) D:\\815_CowDataChecking\\20221229\\20221229_M_cow\\20221229_061532_21C6.mkv: 640x640 Done. (0.018s)\n",
      "video 1/1 (349/3933) D:\\815_CowDataChecking\\20221229\\20221229_M_cow\\20221229_061532_21C6.mkv: 640x640 Done. (0.026s)\n",
      "video 1/1 (350/3933) D:\\815_CowDataChecking\\20221229\\20221229_M_cow\\20221229_061532_21C6.mkv: 640x640 Done. (0.019s)\n",
      "video 1/1 (351/3933) D:\\815_CowDataChecking\\20221229\\20221229_M_cow\\20221229_061532_21C6.mkv: 640x640 Done. (0.017s)\n",
      "video 1/1 (352/3933) D:\\815_CowDataChecking\\20221229\\20221229_M_cow\\20221229_061532_21C6.mkv: 640x640 Done. (0.023s)\n",
      "video 1/1 (353/3933) D:\\815_CowDataChecking\\20221229\\20221229_M_cow\\20221229_061532_21C6.mkv: 640x640 Done. (0.021s)\n",
      "video 1/1 (354/3933) D:\\815_CowDataChecking\\20221229\\20221229_M_cow\\20221229_061532_21C6.mkv: 640x640 Done. (0.025s)\n",
      "video 1/1 (355/3933) D:\\815_CowDataChecking\\20221229\\20221229_M_cow\\20221229_061532_21C6.mkv: 640x640 Done. (0.018s)\n",
      "video 1/1 (356/3933) D:\\815_CowDataChecking\\20221229\\20221229_M_cow\\20221229_061532_21C6.mkv: 640x640 Done. (0.026s)\n",
      "video 1/1 (357/3933) D:\\815_CowDataChecking\\20221229\\20221229_M_cow\\20221229_061532_21C6.mkv: 640x640 Done. (0.017s)\n",
      "video 1/1 (358/3933) D:\\815_CowDataChecking\\20221229\\20221229_M_cow\\20221229_061532_21C6.mkv: 640x640 Done. (0.017s)\n",
      "video 1/1 (359/3933) D:\\815_CowDataChecking\\20221229\\20221229_M_cow\\20221229_061532_21C6.mkv: 640x640 Done. (0.017s)\n",
      "video 1/1 (360/3933) D:\\815_CowDataChecking\\20221229\\20221229_M_cow\\20221229_061532_21C6.mkv: 640x640 Done. (0.026s)\n",
      "video 1/1 (361/3933) D:\\815_CowDataChecking\\20221229\\20221229_M_cow\\20221229_061532_21C6.mkv: 640x640 Done. (0.018s)\n",
      "video 1/1 (362/3933) D:\\815_CowDataChecking\\20221229\\20221229_M_cow\\20221229_061532_21C6.mkv: 640x640 Done. (0.025s)\n",
      "video 1/1 (363/3933) D:\\815_CowDataChecking\\20221229\\20221229_M_cow\\20221229_061532_21C6.mkv: 640x640 Done. (0.018s)\n",
      "video 1/1 (364/3933) D:\\815_CowDataChecking\\20221229\\20221229_M_cow\\20221229_061532_21C6.mkv: 640x640 Done. (0.051s)\n",
      "video 1/1 (365/3933) D:\\815_CowDataChecking\\20221229\\20221229_M_cow\\20221229_061532_21C6.mkv: 640x640 Done. (0.051s)\n",
      "video 1/1 (366/3933) D:\\815_CowDataChecking\\20221229\\20221229_M_cow\\20221229_061532_21C6.mkv: 640x640 Done. (0.018s)\n",
      "video 1/1 (367/3933) D:\\815_CowDataChecking\\20221229\\20221229_M_cow\\20221229_061532_21C6.mkv: 640x640 Done. (0.019s)\n",
      "video 1/1 (368/3933) D:\\815_CowDataChecking\\20221229\\20221229_M_cow\\20221229_061532_21C6.mkv: 640x640 Done. (0.018s)\n",
      "video 1/1 (369/3933) D:\\815_CowDataChecking\\20221229\\20221229_M_cow\\20221229_061532_21C6.mkv: 640x640 Done. (0.019s)\n",
      "video 1/1 (370/3933) D:\\815_CowDataChecking\\20221229\\20221229_M_cow\\20221229_061532_21C6.mkv: 640x640 Done. (0.018s)\n",
      "video 1/1 (371/3933) D:\\815_CowDataChecking\\20221229\\20221229_M_cow\\20221229_061532_21C6.mkv: 640x640 Done. (0.018s)\n",
      "video 1/1 (372/3933) D:\\815_CowDataChecking\\20221229\\20221229_M_cow\\20221229_061532_21C6.mkv: 640x640 Done. (0.019s)\n",
      "video 1/1 (373/3933) D:\\815_CowDataChecking\\20221229\\20221229_M_cow\\20221229_061532_21C6.mkv: 640x640 Done. (0.019s)\n",
      "video 1/1 (374/3933) D:\\815_CowDataChecking\\20221229\\20221229_M_cow\\20221229_061532_21C6.mkv: 640x640 Done. (0.018s)\n",
      "video 1/1 (375/3933) D:\\815_CowDataChecking\\20221229\\20221229_M_cow\\20221229_061532_21C6.mkv: 640x640 Done. (0.019s)\n",
      "video 1/1 (376/3933) D:\\815_CowDataChecking\\20221229\\20221229_M_cow\\20221229_061532_21C6.mkv: 640x640 Done. (0.018s)\n",
      "video 1/1 (377/3933) D:\\815_CowDataChecking\\20221229\\20221229_M_cow\\20221229_061532_21C6.mkv: 640x640 Done. (0.019s)\n",
      "video 1/1 (378/3933) D:\\815_CowDataChecking\\20221229\\20221229_M_cow\\20221229_061532_21C6.mkv: 640x640 Done. (0.018s)\n",
      "video 1/1 (379/3933) D:\\815_CowDataChecking\\20221229\\20221229_M_cow\\20221229_061532_21C6.mkv: 640x640 Done. (0.020s)\n",
      "video 1/1 (380/3933) D:\\815_CowDataChecking\\20221229\\20221229_M_cow\\20221229_061532_21C6.mkv: 640x640 Done. (0.020s)\n",
      "video 1/1 (381/3933) D:\\815_CowDataChecking\\20221229\\20221229_M_cow\\20221229_061532_21C6.mkv: 640x640 Done. (0.024s)\n",
      "video 1/1 (382/3933) D:\\815_CowDataChecking\\20221229\\20221229_M_cow\\20221229_061532_21C6.mkv: 640x640 Done. (0.018s)\n",
      "video 1/1 (383/3933) D:\\815_CowDataChecking\\20221229\\20221229_M_cow\\20221229_061532_21C6.mkv: 640x640 Done. (0.019s)\n",
      "video 1/1 (384/3933) D:\\815_CowDataChecking\\20221229\\20221229_M_cow\\20221229_061532_21C6.mkv: 640x640 Done. (0.019s)\n",
      "video 1/1 (385/3933) D:\\815_CowDataChecking\\20221229\\20221229_M_cow\\20221229_061532_21C6.mkv: 640x640 Done. (0.018s)\n",
      "video 1/1 (386/3933) D:\\815_CowDataChecking\\20221229\\20221229_M_cow\\20221229_061532_21C6.mkv: 640x640 Done. (0.046s)\n",
      "video 1/1 (387/3933) D:\\815_CowDataChecking\\20221229\\20221229_M_cow\\20221229_061532_21C6.mkv: 640x640 Done. (0.046s)\n",
      "video 1/1 (388/3933) D:\\815_CowDataChecking\\20221229\\20221229_M_cow\\20221229_061532_21C6.mkv: 640x640 Done. (0.043s)\n",
      "video 1/1 (389/3933) D:\\815_CowDataChecking\\20221229\\20221229_M_cow\\20221229_061532_21C6.mkv: 640x640 Done. (0.046s)\n",
      "video 1/1 (390/3933) D:\\815_CowDataChecking\\20221229\\20221229_M_cow\\20221229_061532_21C6.mkv: 640x640 Done. (0.047s)\n",
      "video 1/1 (391/3933) D:\\815_CowDataChecking\\20221229\\20221229_M_cow\\20221229_061532_21C6.mkv: 640x640 Done. (0.040s)\n",
      "video 1/1 (392/3933) D:\\815_CowDataChecking\\20221229\\20221229_M_cow\\20221229_061532_21C6.mkv: 640x640 Done. (0.052s)\n",
      "video 1/1 (393/3933) D:\\815_CowDataChecking\\20221229\\20221229_M_cow\\20221229_061532_21C6.mkv: 640x640 Done. (0.018s)\n",
      "video 1/1 (394/3933) D:\\815_CowDataChecking\\20221229\\20221229_M_cow\\20221229_061532_21C6.mkv: 640x640 Done. (0.017s)\n",
      "video 1/1 (395/3933) D:\\815_CowDataChecking\\20221229\\20221229_M_cow\\20221229_061532_21C6.mkv: 640x640 Done. (0.016s)\n",
      "video 1/1 (396/3933) D:\\815_CowDataChecking\\20221229\\20221229_M_cow\\20221229_061532_21C6.mkv: 640x640 Done. (0.026s)\n",
      "video 1/1 (397/3933) D:\\815_CowDataChecking\\20221229\\20221229_M_cow\\20221229_061532_21C6.mkv: 640x640 Done. (0.016s)\n",
      "video 1/1 (398/3933) D:\\815_CowDataChecking\\20221229\\20221229_M_cow\\20221229_061532_21C6.mkv: 640x640 Done. (0.025s)\n",
      "video 1/1 (399/3933) D:\\815_CowDataChecking\\20221229\\20221229_M_cow\\20221229_061532_21C6.mkv: 640x640 Done. (0.021s)\n",
      "video 1/1 (400/3933) D:\\815_CowDataChecking\\20221229\\20221229_M_cow\\20221229_061532_21C6.mkv: 640x640 Done. (0.025s)\n",
      "video 1/1 (401/3933) D:\\815_CowDataChecking\\20221229\\20221229_M_cow\\20221229_061532_21C6.mkv: 640x640 Done. (0.021s)\n",
      "video 1/1 (402/3933) D:\\815_CowDataChecking\\20221229\\20221229_M_cow\\20221229_061532_21C6.mkv: 640x640 Done. (0.017s)\n",
      "video 1/1 (403/3933) D:\\815_CowDataChecking\\20221229\\20221229_M_cow\\20221229_061532_21C6.mkv: 640x640 Done. (0.017s)\n",
      "video 1/1 (404/3933) D:\\815_CowDataChecking\\20221229\\20221229_M_cow\\20221229_061532_21C6.mkv: 640x640 Done. (0.015s)\n",
      "video 1/1 (405/3933) D:\\815_CowDataChecking\\20221229\\20221229_M_cow\\20221229_061532_21C6.mkv: 640x640 Done. (0.021s)\n",
      "video 1/1 (406/3933) D:\\815_CowDataChecking\\20221229\\20221229_M_cow\\20221229_061532_21C6.mkv: 640x640 Done. (0.016s)\n",
      "video 1/1 (407/3933) D:\\815_CowDataChecking\\20221229\\20221229_M_cow\\20221229_061532_21C6.mkv: 640x640 Done. (0.016s)\n",
      "video 1/1 (408/3933) D:\\815_CowDataChecking\\20221229\\20221229_M_cow\\20221229_061532_21C6.mkv: 640x640 Done. (0.016s)\n",
      "video 1/1 (409/3933) D:\\815_CowDataChecking\\20221229\\20221229_M_cow\\20221229_061532_21C6.mkv: 640x640 Done. (0.017s)\n",
      "video 1/1 (410/3933) D:\\815_CowDataChecking\\20221229\\20221229_M_cow\\20221229_061532_21C6.mkv: 640x640 Done. (0.016s)\n",
      "video 1/1 (411/3933) D:\\815_CowDataChecking\\20221229\\20221229_M_cow\\20221229_061532_21C6.mkv: 640x640 Done. (0.015s)\n",
      "video 1/1 (412/3933) D:\\815_CowDataChecking\\20221229\\20221229_M_cow\\20221229_061532_21C6.mkv: 640x640 Done. (0.016s)\n",
      "video 1/1 (413/3933) D:\\815_CowDataChecking\\20221229\\20221229_M_cow\\20221229_061532_21C6.mkv: 640x640 Done. (0.021s)\n",
      "video 1/1 (414/3933) D:\\815_CowDataChecking\\20221229\\20221229_M_cow\\20221229_061532_21C6.mkv: 640x640 Done. (0.021s)\n",
      "video 1/1 (415/3933) D:\\815_CowDataChecking\\20221229\\20221229_M_cow\\20221229_061532_21C6.mkv: 640x640 Done. (0.024s)\n",
      "video 1/1 (416/3933) D:\\815_CowDataChecking\\20221229\\20221229_M_cow\\20221229_061532_21C6.mkv: 640x640 Done. (0.022s)\n",
      "video 1/1 (417/3933) D:\\815_CowDataChecking\\20221229\\20221229_M_cow\\20221229_061532_21C6.mkv: 640x640 Done. (0.028s)\n",
      "video 1/1 (418/3933) D:\\815_CowDataChecking\\20221229\\20221229_M_cow\\20221229_061532_21C6.mkv: 640x640 Done. (0.054s)\n",
      "video 1/1 (419/3933) D:\\815_CowDataChecking\\20221229\\20221229_M_cow\\20221229_061532_21C6.mkv: 640x640 Done. (0.044s)\n",
      "video 1/1 (420/3933) D:\\815_CowDataChecking\\20221229\\20221229_M_cow\\20221229_061532_21C6.mkv: 640x640 Done. (0.044s)\n",
      "video 1/1 (421/3933) D:\\815_CowDataChecking\\20221229\\20221229_M_cow\\20221229_061532_21C6.mkv: 640x640 Done. (0.043s)\n",
      "video 1/1 (422/3933) D:\\815_CowDataChecking\\20221229\\20221229_M_cow\\20221229_061532_21C6.mkv: 640x640 Done. (0.046s)\n",
      "video 1/1 (423/3933) D:\\815_CowDataChecking\\20221229\\20221229_M_cow\\20221229_061532_21C6.mkv: 640x640 Done. (0.025s)\n",
      "video 1/1 (424/3933) D:\\815_CowDataChecking\\20221229\\20221229_M_cow\\20221229_061532_21C6.mkv: 640x640 Done. (0.017s)\n",
      "video 1/1 (425/3933) D:\\815_CowDataChecking\\20221229\\20221229_M_cow\\20221229_061532_21C6.mkv: 640x640 Done. (0.021s)\n",
      "video 1/1 (426/3933) D:\\815_CowDataChecking\\20221229\\20221229_M_cow\\20221229_061532_21C6.mkv: 640x640 Done. (0.018s)\n",
      "video 1/1 (427/3933) D:\\815_CowDataChecking\\20221229\\20221229_M_cow\\20221229_061532_21C6.mkv: 640x640 Done. (0.023s)\n",
      "video 1/1 (428/3933) D:\\815_CowDataChecking\\20221229\\20221229_M_cow\\20221229_061532_21C6.mkv: 640x640 Done. (0.018s)\n",
      "video 1/1 (429/3933) D:\\815_CowDataChecking\\20221229\\20221229_M_cow\\20221229_061532_21C6.mkv: 640x640 Done. (0.023s)\n",
      "video 1/1 (430/3933) D:\\815_CowDataChecking\\20221229\\20221229_M_cow\\20221229_061532_21C6.mkv: 640x640 Done. (0.019s)\n",
      "video 1/1 (431/3933) D:\\815_CowDataChecking\\20221229\\20221229_M_cow\\20221229_061532_21C6.mkv: 640x640 Done. (0.020s)\n",
      "video 1/1 (432/3933) D:\\815_CowDataChecking\\20221229\\20221229_M_cow\\20221229_061532_21C6.mkv: 640x640 Done. (0.025s)\n",
      "video 1/1 (433/3933) D:\\815_CowDataChecking\\20221229\\20221229_M_cow\\20221229_061532_21C6.mkv: 640x640 Done. (0.020s)\n",
      "video 1/1 (434/3933) D:\\815_CowDataChecking\\20221229\\20221229_M_cow\\20221229_061532_21C6.mkv: 640x640 Done. (0.021s)\n",
      "video 1/1 (435/3933) D:\\815_CowDataChecking\\20221229\\20221229_M_cow\\20221229_061532_21C6.mkv: 640x640 Done. (0.018s)\n",
      "video 1/1 (436/3933) D:\\815_CowDataChecking\\20221229\\20221229_M_cow\\20221229_061532_21C6.mkv: 640x640 Done. (0.019s)\n",
      "video 1/1 (437/3933) D:\\815_CowDataChecking\\20221229\\20221229_M_cow\\20221229_061532_21C6.mkv: 640x640 Done. (0.019s)\n",
      "video 1/1 (438/3933) D:\\815_CowDataChecking\\20221229\\20221229_M_cow\\20221229_061532_21C6.mkv: 640x640 Done. (0.017s)\n",
      "video 1/1 (439/3933) D:\\815_CowDataChecking\\20221229\\20221229_M_cow\\20221229_061532_21C6.mkv: 640x640 Done. (0.017s)\n",
      "video 1/1 (440/3933) D:\\815_CowDataChecking\\20221229\\20221229_M_cow\\20221229_061532_21C6.mkv: 640x640 Done. (0.018s)\n",
      "video 1/1 (441/3933) D:\\815_CowDataChecking\\20221229\\20221229_M_cow\\20221229_061532_21C6.mkv: 640x640 Done. (0.018s)\n",
      "video 1/1 (442/3933) D:\\815_CowDataChecking\\20221229\\20221229_M_cow\\20221229_061532_21C6.mkv: 640x640 Done. (0.044s)\n",
      "video 1/1 (443/3933) D:\\815_CowDataChecking\\20221229\\20221229_M_cow\\20221229_061532_21C6.mkv: 640x640 Done. (0.043s)\n",
      "video 1/1 (444/3933) D:\\815_CowDataChecking\\20221229\\20221229_M_cow\\20221229_061532_21C6.mkv: 640x640 Done. (0.046s)\n",
      "video 1/1 (445/3933) D:\\815_CowDataChecking\\20221229\\20221229_M_cow\\20221229_061532_21C6.mkv: 640x640 Done. (0.047s)\n",
      "video 1/1 (446/3933) D:\\815_CowDataChecking\\20221229\\20221229_M_cow\\20221229_061532_21C6.mkv: 640x640 Done. (0.044s)\n",
      "video 1/1 (447/3933) D:\\815_CowDataChecking\\20221229\\20221229_M_cow\\20221229_061532_21C6.mkv: 640x640 Done. (0.039s)\n",
      "video 1/1 (448/3933) D:\\815_CowDataChecking\\20221229\\20221229_M_cow\\20221229_061532_21C6.mkv: 640x640 Done. (0.050s)\n",
      "video 1/1 (449/3933) D:\\815_CowDataChecking\\20221229\\20221229_M_cow\\20221229_061532_21C6.mkv: 640x640 Done. (0.016s)\n",
      "video 1/1 (450/3933) D:\\815_CowDataChecking\\20221229\\20221229_M_cow\\20221229_061532_21C6.mkv: 640x640 Done. (0.019s)\n",
      "video 1/1 (451/3933) D:\\815_CowDataChecking\\20221229\\20221229_M_cow\\20221229_061532_21C6.mkv: 640x640 Done. (0.018s)\n",
      "video 1/1 (452/3933) D:\\815_CowDataChecking\\20221229\\20221229_M_cow\\20221229_061532_21C6.mkv: 640x640 Done. (0.019s)\n",
      "video 1/1 (453/3933) D:\\815_CowDataChecking\\20221229\\20221229_M_cow\\20221229_061532_21C6.mkv: 640x640 Done. (0.020s)\n",
      "video 1/1 (454/3933) D:\\815_CowDataChecking\\20221229\\20221229_M_cow\\20221229_061532_21C6.mkv: 640x640 Done. (0.021s)\n",
      "video 1/1 (455/3933) D:\\815_CowDataChecking\\20221229\\20221229_M_cow\\20221229_061532_21C6.mkv: 640x640 Done. (0.022s)\n",
      "video 1/1 (456/3933) D:\\815_CowDataChecking\\20221229\\20221229_M_cow\\20221229_061532_21C6.mkv: 640x640 Done. (0.018s)\n",
      "video 1/1 (457/3933) D:\\815_CowDataChecking\\20221229\\20221229_M_cow\\20221229_061532_21C6.mkv: 640x640 Done. (0.016s)\n",
      "video 1/1 (458/3933) D:\\815_CowDataChecking\\20221229\\20221229_M_cow\\20221229_061532_21C6.mkv: 640x640 Done. (0.017s)\n",
      "video 1/1 (459/3933) D:\\815_CowDataChecking\\20221229\\20221229_M_cow\\20221229_061532_21C6.mkv: 640x640 Done. (0.017s)\n",
      "video 1/1 (460/3933) D:\\815_CowDataChecking\\20221229\\20221229_M_cow\\20221229_061532_21C6.mkv: 640x640 Done. (0.022s)\n",
      "video 1/1 (461/3933) D:\\815_CowDataChecking\\20221229\\20221229_M_cow\\20221229_061532_21C6.mkv: 640x640 Done. (0.017s)\n",
      "video 1/1 (462/3933) D:\\815_CowDataChecking\\20221229\\20221229_M_cow\\20221229_061532_21C6.mkv: 640x640 Done. (0.019s)\n",
      "video 1/1 (463/3933) D:\\815_CowDataChecking\\20221229\\20221229_M_cow\\20221229_061532_21C6.mkv: 640x640 Done. (0.025s)\n",
      "video 1/1 (464/3933) D:\\815_CowDataChecking\\20221229\\20221229_M_cow\\20221229_061532_21C6.mkv: 640x640 Done. (0.015s)\n",
      "video 1/1 (465/3933) D:\\815_CowDataChecking\\20221229\\20221229_M_cow\\20221229_061532_21C6.mkv: 640x640 Done. (0.026s)\n",
      "video 1/1 (466/3933) D:\\815_CowDataChecking\\20221229\\20221229_M_cow\\20221229_061532_21C6.mkv: 640x640 Done. (0.019s)\n",
      "video 1/1 (467/3933) D:\\815_CowDataChecking\\20221229\\20221229_M_cow\\20221229_061532_21C6.mkv: 640x640 Done. (0.025s)\n",
      "video 1/1 (468/3933) D:\\815_CowDataChecking\\20221229\\20221229_M_cow\\20221229_061532_21C6.mkv: 640x640 Done. (0.017s)\n",
      "video 1/1 (469/3933) D:\\815_CowDataChecking\\20221229\\20221229_M_cow\\20221229_061532_21C6.mkv: 640x640 Done. (0.023s)\n",
      "video 1/1 (470/3933) D:\\815_CowDataChecking\\20221229\\20221229_M_cow\\20221229_061532_21C6.mkv: 640x640 Done. (0.022s)\n",
      "video 1/1 (471/3933) D:\\815_CowDataChecking\\20221229\\20221229_M_cow\\20221229_061532_21C6.mkv: 640x640 Done. (0.023s)\n",
      "video 1/1 (472/3933) D:\\815_CowDataChecking\\20221229\\20221229_M_cow\\20221229_061532_21C6.mkv: 640x640 Done. (0.022s)\n",
      "video 1/1 (473/3933) D:\\815_CowDataChecking\\20221229\\20221229_M_cow\\20221229_061532_21C6.mkv: 640x640 Done. (0.054s)\n",
      "video 1/1 (474/3933) D:\\815_CowDataChecking\\20221229\\20221229_M_cow\\20221229_061532_21C6.mkv: 640x640 Done. (0.050s)\n",
      "video 1/1 (475/3933) D:\\815_CowDataChecking\\20221229\\20221229_M_cow\\20221229_061532_21C6.mkv: 640x640 Done. (0.044s)\n",
      "video 1/1 (476/3933) D:\\815_CowDataChecking\\20221229\\20221229_M_cow\\20221229_061532_21C6.mkv: 640x640 Done. (0.046s)\n",
      "video 1/1 (477/3933) D:\\815_CowDataChecking\\20221229\\20221229_M_cow\\20221229_061532_21C6.mkv: 640x640 Done. (0.051s)\n",
      "video 1/1 (478/3933) D:\\815_CowDataChecking\\20221229\\20221229_M_cow\\20221229_061532_21C6.mkv: 640x640 Done. (0.018s)\n",
      "video 1/1 (479/3933) D:\\815_CowDataChecking\\20221229\\20221229_M_cow\\20221229_061532_21C6.mkv: 640x640 Done. (0.019s)\n",
      "video 1/1 (480/3933) D:\\815_CowDataChecking\\20221229\\20221229_M_cow\\20221229_061532_21C6.mkv: 640x640 Done. (0.025s)\n",
      "video 1/1 (481/3933) D:\\815_CowDataChecking\\20221229\\20221229_M_cow\\20221229_061532_21C6.mkv: 640x640 Done. (0.019s)\n",
      "video 1/1 (482/3933) D:\\815_CowDataChecking\\20221229\\20221229_M_cow\\20221229_061532_21C6.mkv: 640x640 Done. (0.017s)\n",
      "video 1/1 (483/3933) D:\\815_CowDataChecking\\20221229\\20221229_M_cow\\20221229_061532_21C6.mkv: 640x640 Done. (0.030s)\n",
      "video 1/1 (484/3933) D:\\815_CowDataChecking\\20221229\\20221229_M_cow\\20221229_061532_21C6.mkv: 640x640 Done. (0.025s)\n",
      "video 1/1 (485/3933) D:\\815_CowDataChecking\\20221229\\20221229_M_cow\\20221229_061532_21C6.mkv: 640x640 Done. (0.017s)\n",
      "video 1/1 (486/3933) D:\\815_CowDataChecking\\20221229\\20221229_M_cow\\20221229_061532_21C6.mkv: 640x640 Done. (0.026s)\n",
      "video 1/1 (487/3933) D:\\815_CowDataChecking\\20221229\\20221229_M_cow\\20221229_061532_21C6.mkv: 640x640 Done. (0.017s)\n",
      "video 1/1 (488/3933) D:\\815_CowDataChecking\\20221229\\20221229_M_cow\\20221229_061532_21C6.mkv: 640x640 Done. (0.018s)\n",
      "video 1/1 (489/3933) D:\\815_CowDataChecking\\20221229\\20221229_M_cow\\20221229_061532_21C6.mkv: 640x640 Done. (0.025s)\n",
      "video 1/1 (490/3933) D:\\815_CowDataChecking\\20221229\\20221229_M_cow\\20221229_061532_21C6.mkv: 640x640 Done. (0.019s)\n",
      "video 1/1 (491/3933) D:\\815_CowDataChecking\\20221229\\20221229_M_cow\\20221229_061532_21C6.mkv: 640x640 Done. (0.017s)\n",
      "video 1/1 (492/3933) D:\\815_CowDataChecking\\20221229\\20221229_M_cow\\20221229_061532_21C6.mkv: 640x640 Done. (0.026s)\n",
      "video 1/1 (493/3933) D:\\815_CowDataChecking\\20221229\\20221229_M_cow\\20221229_061532_21C6.mkv: 640x640 Done. (0.017s)\n",
      "video 1/1 (494/3933) D:\\815_CowDataChecking\\20221229\\20221229_M_cow\\20221229_061532_21C6.mkv: 640x640 Done. (0.026s)\n",
      "video 1/1 (495/3933) D:\\815_CowDataChecking\\20221229\\20221229_M_cow\\20221229_061532_21C6.mkv: 640x640 Done. (0.019s)\n",
      "video 1/1 (496/3933) D:\\815_CowDataChecking\\20221229\\20221229_M_cow\\20221229_061532_21C6.mkv: 640x640 Done. (0.026s)\n",
      "video 1/1 (497/3933) D:\\815_CowDataChecking\\20221229\\20221229_M_cow\\20221229_061532_21C6.mkv: 640x640 Done. (0.049s)\n",
      "video 1/1 (498/3933) D:\\815_CowDataChecking\\20221229\\20221229_M_cow\\20221229_061532_21C6.mkv: 640x640 Done. (0.049s)\n",
      "video 1/1 (499/3933) D:\\815_CowDataChecking\\20221229\\20221229_M_cow\\20221229_061532_21C6.mkv: 640x640 Done. (0.050s)\n",
      "video 1/1 (500/3933) D:\\815_CowDataChecking\\20221229\\20221229_M_cow\\20221229_061532_21C6.mkv: 640x640 Done. (0.044s)\n",
      "video 1/1 (501/3933) D:\\815_CowDataChecking\\20221229\\20221229_M_cow\\20221229_061532_21C6.mkv: 640x640 Done. (0.046s)\n",
      "video 1/1 (502/3933) D:\\815_CowDataChecking\\20221229\\20221229_M_cow\\20221229_061532_21C6.mkv: 640x640 Done. (0.020s)\n",
      "video 1/1 (503/3933) D:\\815_CowDataChecking\\20221229\\20221229_M_cow\\20221229_061532_21C6.mkv: 640x640 Done. (0.018s)\n",
      "video 1/1 (504/3933) D:\\815_CowDataChecking\\20221229\\20221229_M_cow\\20221229_061532_21C6.mkv: 640x640 Done. (0.018s)\n",
      "video 1/1 (505/3933) D:\\815_CowDataChecking\\20221229\\20221229_M_cow\\20221229_061532_21C6.mkv: 640x640 Done. (0.018s)\n",
      "video 1/1 (506/3933) D:\\815_CowDataChecking\\20221229\\20221229_M_cow\\20221229_061532_21C6.mkv: 640x640 Done. (0.018s)\n",
      "video 1/1 (507/3933) D:\\815_CowDataChecking\\20221229\\20221229_M_cow\\20221229_061532_21C6.mkv: 640x640 Done. (0.020s)\n",
      "video 1/1 (508/3933) D:\\815_CowDataChecking\\20221229\\20221229_M_cow\\20221229_061532_21C6.mkv: 640x640 Done. (0.019s)\n",
      "video 1/1 (509/3933) D:\\815_CowDataChecking\\20221229\\20221229_M_cow\\20221229_061532_21C6.mkv: 640x640 Done. (0.019s)\n",
      "video 1/1 (510/3933) D:\\815_CowDataChecking\\20221229\\20221229_M_cow\\20221229_061532_21C6.mkv: 640x640 Done. (0.019s)\n",
      "video 1/1 (511/3933) D:\\815_CowDataChecking\\20221229\\20221229_M_cow\\20221229_061532_21C6.mkv: 640x640 Done. (0.021s)\n",
      "video 1/1 (512/3933) D:\\815_CowDataChecking\\20221229\\20221229_M_cow\\20221229_061532_21C6.mkv: 640x640 Done. (0.020s)\n",
      "video 1/1 (513/3933) D:\\815_CowDataChecking\\20221229\\20221229_M_cow\\20221229_061532_21C6.mkv: 640x640 Done. (0.023s)\n",
      "video 1/1 (514/3933) D:\\815_CowDataChecking\\20221229\\20221229_M_cow\\20221229_061532_21C6.mkv: 640x640 Done. (0.018s)\n",
      "video 1/1 (515/3933) D:\\815_CowDataChecking\\20221229\\20221229_M_cow\\20221229_061532_21C6.mkv: 640x640 Done. (0.020s)\n",
      "video 1/1 (516/3933) D:\\815_CowDataChecking\\20221229\\20221229_M_cow\\20221229_061532_21C6.mkv: 640x640 Done. (0.018s)\n",
      "video 1/1 (517/3933) D:\\815_CowDataChecking\\20221229\\20221229_M_cow\\20221229_061532_21C6.mkv: 640x640 Done. (0.024s)\n",
      "video 1/1 (518/3933) D:\\815_CowDataChecking\\20221229\\20221229_M_cow\\20221229_061532_21C6.mkv: 640x640 Done. (0.025s)\n",
      "video 1/1 (519/3933) D:\\815_CowDataChecking\\20221229\\20221229_M_cow\\20221229_061532_21C6.mkv: 640x640 Done. (0.025s)\n",
      "video 1/1 (520/3933) D:\\815_CowDataChecking\\20221229\\20221229_M_cow\\20221229_061532_21C6.mkv: 640x640 Done. (0.025s)\n",
      "video 1/1 (521/3933) D:\\815_CowDataChecking\\20221229\\20221229_M_cow\\20221229_061532_21C6.mkv: 640x640 Done. (0.045s)\n",
      "video 1/1 (522/3933) D:\\815_CowDataChecking\\20221229\\20221229_M_cow\\20221229_061532_21C6.mkv: 640x640 Done. (0.042s)\n",
      "video 1/1 (523/3933) D:\\815_CowDataChecking\\20221229\\20221229_M_cow\\20221229_061532_21C6.mkv: 640x640 Done. (0.050s)\n",
      "video 1/1 (524/3933) D:\\815_CowDataChecking\\20221229\\20221229_M_cow\\20221229_061532_21C6.mkv: 640x640 Done. (0.048s)\n",
      "video 1/1 (525/3933) D:\\815_CowDataChecking\\20221229\\20221229_M_cow\\20221229_061532_21C6.mkv: 640x640 Done. (0.017s)\n",
      "video 1/1 (526/3933) D:\\815_CowDataChecking\\20221229\\20221229_M_cow\\20221229_061532_21C6.mkv: 640x640 Done. (0.025s)\n",
      "video 1/1 (527/3933) D:\\815_CowDataChecking\\20221229\\20221229_M_cow\\20221229_061532_21C6.mkv: 640x640 Done. (0.019s)\n",
      "video 1/1 (528/3933) D:\\815_CowDataChecking\\20221229\\20221229_M_cow\\20221229_061532_21C6.mkv: 640x640 Done. (0.019s)\n",
      "video 1/1 (529/3933) D:\\815_CowDataChecking\\20221229\\20221229_M_cow\\20221229_061532_21C6.mkv: 640x640 Done. (0.025s)\n",
      "video 1/1 (530/3933) D:\\815_CowDataChecking\\20221229\\20221229_M_cow\\20221229_061532_21C6.mkv: 640x640 Done. (0.020s)\n",
      "video 1/1 (531/3933) D:\\815_CowDataChecking\\20221229\\20221229_M_cow\\20221229_061532_21C6.mkv: 640x640 Done. (0.021s)\n",
      "video 1/1 (532/3933) D:\\815_CowDataChecking\\20221229\\20221229_M_cow\\20221229_061532_21C6.mkv: 640x640 Done. (0.018s)\n",
      "video 1/1 (533/3933) D:\\815_CowDataChecking\\20221229\\20221229_M_cow\\20221229_061532_21C6.mkv: 640x640 Done. (0.022s)\n",
      "video 1/1 (534/3933) D:\\815_CowDataChecking\\20221229\\20221229_M_cow\\20221229_061532_21C6.mkv: 640x640 Done. (0.019s)\n",
      "video 1/1 (535/3933) D:\\815_CowDataChecking\\20221229\\20221229_M_cow\\20221229_061532_21C6.mkv: 640x640 Done. (0.020s)\n",
      "video 1/1 (536/3933) D:\\815_CowDataChecking\\20221229\\20221229_M_cow\\20221229_061532_21C6.mkv: 640x640 Done. (0.025s)\n",
      "video 1/1 (537/3933) D:\\815_CowDataChecking\\20221229\\20221229_M_cow\\20221229_061532_21C6.mkv: 640x640 Done. (0.017s)\n",
      "video 1/1 (538/3933) D:\\815_CowDataChecking\\20221229\\20221229_M_cow\\20221229_061532_21C6.mkv: 640x640 Done. (0.020s)\n",
      "video 1/1 (539/3933) D:\\815_CowDataChecking\\20221229\\20221229_M_cow\\20221229_061532_21C6.mkv: 640x640 Done. (0.021s)\n",
      "video 1/1 (540/3933) D:\\815_CowDataChecking\\20221229\\20221229_M_cow\\20221229_061532_21C6.mkv: 640x640 Done. (0.018s)\n",
      "video 1/1 (541/3933) D:\\815_CowDataChecking\\20221229\\20221229_M_cow\\20221229_061532_21C6.mkv: 640x640 Done. (0.022s)\n",
      "video 1/1 (542/3933) D:\\815_CowDataChecking\\20221229\\20221229_M_cow\\20221229_061532_21C6.mkv: 640x640 Done. (0.018s)\n",
      "video 1/1 (543/3933) D:\\815_CowDataChecking\\20221229\\20221229_M_cow\\20221229_061532_21C6.mkv: 640x640 Done. (0.021s)\n",
      "video 1/1 (544/3933) D:\\815_CowDataChecking\\20221229\\20221229_M_cow\\20221229_061532_21C6.mkv: 640x640 Done. (0.052s)\n",
      "video 1/1 (545/3933) D:\\815_CowDataChecking\\20221229\\20221229_M_cow\\20221229_061532_21C6.mkv: 640x640 Done. (0.042s)\n",
      "video 1/1 (546/3933) D:\\815_CowDataChecking\\20221229\\20221229_M_cow\\20221229_061532_21C6.mkv: 640x640 Done. (0.025s)\n",
      "video 1/1 (547/3933) D:\\815_CowDataChecking\\20221229\\20221229_M_cow\\20221229_061532_21C6.mkv: 640x640 Done. (0.021s)\n",
      "video 1/1 (548/3933) D:\\815_CowDataChecking\\20221229\\20221229_M_cow\\20221229_061532_21C6.mkv: 640x640 Done. (0.025s)\n",
      "video 1/1 (549/3933) D:\\815_CowDataChecking\\20221229\\20221229_M_cow\\20221229_061532_21C6.mkv: 640x640 Done. (0.020s)\n",
      "video 1/1 (550/3933) D:\\815_CowDataChecking\\20221229\\20221229_M_cow\\20221229_061532_21C6.mkv: 640x640 Done. (0.020s)\n",
      "video 1/1 (551/3933) D:\\815_CowDataChecking\\20221229\\20221229_M_cow\\20221229_061532_21C6.mkv: 640x640 Done. (0.021s)\n",
      "video 1/1 (552/3933) D:\\815_CowDataChecking\\20221229\\20221229_M_cow\\20221229_061532_21C6.mkv: 640x640 Done. (0.023s)\n",
      "video 1/1 (553/3933) D:\\815_CowDataChecking\\20221229\\20221229_M_cow\\20221229_061532_21C6.mkv: 640x640 Done. (0.025s)\n",
      "video 1/1 (554/3933) D:\\815_CowDataChecking\\20221229\\20221229_M_cow\\20221229_061532_21C6.mkv: 640x640 Done. (0.026s)\n",
      "video 1/1 (555/3933) D:\\815_CowDataChecking\\20221229\\20221229_M_cow\\20221229_061532_21C6.mkv: 640x640 Done. (0.020s)\n",
      "video 1/1 (556/3933) D:\\815_CowDataChecking\\20221229\\20221229_M_cow\\20221229_061532_21C6.mkv: 640x640 Done. (0.025s)\n",
      "video 1/1 (557/3933) D:\\815_CowDataChecking\\20221229\\20221229_M_cow\\20221229_061532_21C6.mkv: 640x640 Done. (0.021s)\n",
      "video 1/1 (558/3933) D:\\815_CowDataChecking\\20221229\\20221229_M_cow\\20221229_061532_21C6.mkv: 640x640 Done. (0.032s)\n",
      "video 1/1 (559/3933) D:\\815_CowDataChecking\\20221229\\20221229_M_cow\\20221229_061532_21C6.mkv: 640x640 Done. (0.046s)\n",
      "video 1/1 (560/3933) D:\\815_CowDataChecking\\20221229\\20221229_M_cow\\20221229_061532_21C6.mkv: 640x640 Done. (0.023s)\n",
      "video 1/1 (561/3933) D:\\815_CowDataChecking\\20221229\\20221229_M_cow\\20221229_061532_21C6.mkv: 640x640 Done. (0.018s)\n",
      "video 1/1 (562/3933) D:\\815_CowDataChecking\\20221229\\20221229_M_cow\\20221229_061532_21C6.mkv: 640x640 Done. (0.020s)\n",
      "video 1/1 (563/3933) D:\\815_CowDataChecking\\20221229\\20221229_M_cow\\20221229_061532_21C6.mkv: 640x640 Done. (0.019s)\n",
      "video 1/1 (564/3933) D:\\815_CowDataChecking\\20221229\\20221229_M_cow\\20221229_061532_21C6.mkv: 640x640 Done. (0.020s)\n",
      "video 1/1 (565/3933) D:\\815_CowDataChecking\\20221229\\20221229_M_cow\\20221229_061532_21C6.mkv: 640x640 Done. (0.017s)\n",
      "video 1/1 (566/3933) D:\\815_CowDataChecking\\20221229\\20221229_M_cow\\20221229_061532_21C6.mkv: 640x640 Done. (0.025s)\n",
      "video 1/1 (567/3933) D:\\815_CowDataChecking\\20221229\\20221229_M_cow\\20221229_061532_21C6.mkv: 640x640 Done. (0.021s)\n",
      "video 1/1 (568/3933) D:\\815_CowDataChecking\\20221229\\20221229_M_cow\\20221229_061532_21C6.mkv: 640x640 Done. (0.018s)\n",
      "video 1/1 (569/3933) D:\\815_CowDataChecking\\20221229\\20221229_M_cow\\20221229_061532_21C6.mkv: 640x640 Done. (0.020s)\n",
      "video 1/1 (570/3933) D:\\815_CowDataChecking\\20221229\\20221229_M_cow\\20221229_061532_21C6.mkv: 640x640 Done. (0.020s)\n",
      "video 1/1 (571/3933) D:\\815_CowDataChecking\\20221229\\20221229_M_cow\\20221229_061532_21C6.mkv: 640x640 Done. (0.020s)\n",
      "video 1/1 (572/3933) D:\\815_CowDataChecking\\20221229\\20221229_M_cow\\20221229_061532_21C6.mkv: 640x640 Done. (0.019s)\n",
      "video 1/1 (573/3933) D:\\815_CowDataChecking\\20221229\\20221229_M_cow\\20221229_061532_21C6.mkv: 640x640 Done. (0.022s)\n",
      "video 1/1 (574/3933) D:\\815_CowDataChecking\\20221229\\20221229_M_cow\\20221229_061532_21C6.mkv: 640x640 Done. (0.018s)\n",
      "video 1/1 (575/3933) D:\\815_CowDataChecking\\20221229\\20221229_M_cow\\20221229_061532_21C6.mkv: 640x640 Done. (0.026s)\n",
      "video 1/1 (576/3933) D:\\815_CowDataChecking\\20221229\\20221229_M_cow\\20221229_061532_21C6.mkv: 640x640 Done. (0.021s)\n",
      "video 1/1 (577/3933) D:\\815_CowDataChecking\\20221229\\20221229_M_cow\\20221229_061532_21C6.mkv: 640x640 Done. (0.017s)\n",
      "video 1/1 (578/3933) D:\\815_CowDataChecking\\20221229\\20221229_M_cow\\20221229_061532_21C6.mkv: 640x640 Done. (0.019s)\n",
      "video 1/1 (579/3933) D:\\815_CowDataChecking\\20221229\\20221229_M_cow\\20221229_061532_21C6.mkv: 640x640 Done. (0.024s)\n",
      "video 1/1 (580/3933) D:\\815_CowDataChecking\\20221229\\20221229_M_cow\\20221229_061532_21C6.mkv: 640x640 Done. (0.045s)\n",
      "video 1/1 (581/3933) D:\\815_CowDataChecking\\20221229\\20221229_M_cow\\20221229_061532_21C6.mkv: 640x640 Done. (0.046s)\n",
      "video 1/1 (582/3933) D:\\815_CowDataChecking\\20221229\\20221229_M_cow\\20221229_061532_21C6.mkv: 640x640 Done. (0.055s)\n",
      "video 1/1 (583/3933) D:\\815_CowDataChecking\\20221229\\20221229_M_cow\\20221229_061532_21C6.mkv: 640x640 Done. (0.037s)\n",
      "video 1/1 (584/3933) D:\\815_CowDataChecking\\20221229\\20221229_M_cow\\20221229_061532_21C6.mkv: 640x640 Done. (0.024s)\n",
      "video 1/1 (585/3933) D:\\815_CowDataChecking\\20221229\\20221229_M_cow\\20221229_061532_21C6.mkv: 640x640 Done. (0.021s)\n",
      "video 1/1 (586/3933) D:\\815_CowDataChecking\\20221229\\20221229_M_cow\\20221229_061532_21C6.mkv: 640x640 Done. (0.020s)\n",
      "video 1/1 (587/3933) D:\\815_CowDataChecking\\20221229\\20221229_M_cow\\20221229_061532_21C6.mkv: 640x640 Done. (0.021s)\n",
      "video 1/1 (588/3933) D:\\815_CowDataChecking\\20221229\\20221229_M_cow\\20221229_061532_21C6.mkv: 640x640 Done. (0.020s)\n",
      "video 1/1 (589/3933) D:\\815_CowDataChecking\\20221229\\20221229_M_cow\\20221229_061532_21C6.mkv: 640x640 Done. (0.021s)\n",
      "video 1/1 (590/3933) D:\\815_CowDataChecking\\20221229\\20221229_M_cow\\20221229_061532_21C6.mkv: 640x640 Done. (0.021s)\n",
      "video 1/1 (591/3933) D:\\815_CowDataChecking\\20221229\\20221229_M_cow\\20221229_061532_21C6.mkv: 640x640 Done. (0.019s)\n",
      "video 1/1 (592/3933) D:\\815_CowDataChecking\\20221229\\20221229_M_cow\\20221229_061532_21C6.mkv: 640x640 Done. (0.020s)\n",
      "video 1/1 (593/3933) D:\\815_CowDataChecking\\20221229\\20221229_M_cow\\20221229_061532_21C6.mkv: 640x640 Done. (0.022s)\n",
      "video 1/1 (594/3933) D:\\815_CowDataChecking\\20221229\\20221229_M_cow\\20221229_061532_21C6.mkv: 640x640 Done. (0.021s)\n",
      "video 1/1 (595/3933) D:\\815_CowDataChecking\\20221229\\20221229_M_cow\\20221229_061532_21C6.mkv: 640x640 Done. (0.022s)\n",
      "video 1/1 (596/3933) D:\\815_CowDataChecking\\20221229\\20221229_M_cow\\20221229_061532_21C6.mkv: 640x640 Done. (0.021s)\n",
      "video 1/1 (597/3933) D:\\815_CowDataChecking\\20221229\\20221229_M_cow\\20221229_061532_21C6.mkv: 640x640 Done. (0.046s)\n",
      "video 1/1 (598/3933) D:\\815_CowDataChecking\\20221229\\20221229_M_cow\\20221229_061532_21C6.mkv: 640x640 Done. (0.045s)\n",
      "video 1/1 (599/3933) D:\\815_CowDataChecking\\20221229\\20221229_M_cow\\20221229_061532_21C6.mkv: 640x640 Done. (0.018s)\n",
      "video 1/1 (600/3933) D:\\815_CowDataChecking\\20221229\\20221229_M_cow\\20221229_061532_21C6.mkv: 640x640 Done. (0.019s)\n",
      "video 1/1 (601/3933) D:\\815_CowDataChecking\\20221229\\20221229_M_cow\\20221229_061532_21C6.mkv: 640x640 Done. (0.018s)\n",
      "video 1/1 (602/3933) D:\\815_CowDataChecking\\20221229\\20221229_M_cow\\20221229_061532_21C6.mkv: 640x640 Done. (0.020s)\n",
      "video 1/1 (603/3933) D:\\815_CowDataChecking\\20221229\\20221229_M_cow\\20221229_061532_21C6.mkv: 640x640 Done. (0.019s)\n",
      "video 1/1 (604/3933) D:\\815_CowDataChecking\\20221229\\20221229_M_cow\\20221229_061532_21C6.mkv: 640x640 Done. (0.019s)\n",
      "video 1/1 (605/3933) D:\\815_CowDataChecking\\20221229\\20221229_M_cow\\20221229_061532_21C6.mkv: 640x640 Done. (0.019s)\n",
      "video 1/1 (606/3933) D:\\815_CowDataChecking\\20221229\\20221229_M_cow\\20221229_061532_21C6.mkv: 640x640 Done. (0.018s)\n",
      "video 1/1 (607/3933) D:\\815_CowDataChecking\\20221229\\20221229_M_cow\\20221229_061532_21C6.mkv: 640x640 Done. (0.017s)\n",
      "video 1/1 (608/3933) D:\\815_CowDataChecking\\20221229\\20221229_M_cow\\20221229_061532_21C6.mkv: 640x640 Done. (0.019s)\n",
      "video 1/1 (609/3933) D:\\815_CowDataChecking\\20221229\\20221229_M_cow\\20221229_061532_21C6.mkv: 640x640 Done. (0.018s)\n",
      "video 1/1 (610/3933) D:\\815_CowDataChecking\\20221229\\20221229_M_cow\\20221229_061532_21C6.mkv: 640x640 Done. (0.024s)\n",
      "video 1/1 (611/3933) D:\\815_CowDataChecking\\20221229\\20221229_M_cow\\20221229_061532_21C6.mkv: 640x640 Done. (0.025s)\n",
      "video 1/1 (612/3933) D:\\815_CowDataChecking\\20221229\\20221229_M_cow\\20221229_061532_21C6.mkv: 640x640 Done. (0.025s)\n",
      "video 1/1 (613/3933) D:\\815_CowDataChecking\\20221229\\20221229_M_cow\\20221229_061532_21C6.mkv: 640x640 Done. (0.020s)\n",
      "video 1/1 (614/3933) D:\\815_CowDataChecking\\20221229\\20221229_M_cow\\20221229_061532_21C6.mkv: 640x640 Done. (0.030s)\n",
      "video 1/1 (615/3933) D:\\815_CowDataChecking\\20221229\\20221229_M_cow\\20221229_061532_21C6.mkv: 640x640 Done. (0.024s)\n",
      "video 1/1 (616/3933) D:\\815_CowDataChecking\\20221229\\20221229_M_cow\\20221229_061532_21C6.mkv: 640x640 Done. (0.024s)\n",
      "video 1/1 (617/3933) D:\\815_CowDataChecking\\20221229\\20221229_M_cow\\20221229_061532_21C6.mkv: 640x640 Done. (0.018s)\n",
      "video 1/1 (618/3933) D:\\815_CowDataChecking\\20221229\\20221229_M_cow\\20221229_061532_21C6.mkv: 640x640 Done. (0.024s)\n",
      "video 1/1 (619/3933) D:\\815_CowDataChecking\\20221229\\20221229_M_cow\\20221229_061532_21C6.mkv: 640x640 Done. (0.024s)\n",
      "video 1/1 (620/3933) D:\\815_CowDataChecking\\20221229\\20221229_M_cow\\20221229_061532_21C6.mkv: 640x640 Done. (0.026s)\n",
      "video 1/1 (621/3933) D:\\815_CowDataChecking\\20221229\\20221229_M_cow\\20221229_061532_21C6.mkv: 640x640 Done. (0.025s)\n",
      "video 1/1 (622/3933) D:\\815_CowDataChecking\\20221229\\20221229_M_cow\\20221229_061532_21C6.mkv: 640x640 Done. (0.049s)\n",
      "video 1/1 (623/3933) D:\\815_CowDataChecking\\20221229\\20221229_M_cow\\20221229_061532_21C6.mkv: 640x640 Done. (0.056s)\n",
      "video 1/1 (624/3933) D:\\815_CowDataChecking\\20221229\\20221229_M_cow\\20221229_061532_21C6.mkv: 640x640 Done. (0.043s)\n",
      "video 1/1 (625/3933) D:\\815_CowDataChecking\\20221229\\20221229_M_cow\\20221229_061532_21C6.mkv: 640x640 Done. (0.048s)\n",
      "video 1/1 (626/3933) D:\\815_CowDataChecking\\20221229\\20221229_M_cow\\20221229_061532_21C6.mkv: 640x640 Done. (0.043s)\n",
      "video 1/1 (627/3933) D:\\815_CowDataChecking\\20221229\\20221229_M_cow\\20221229_061532_21C6.mkv: 640x640 Done. (0.044s)\n",
      "video 1/1 (628/3933) D:\\815_CowDataChecking\\20221229\\20221229_M_cow\\20221229_061532_21C6.mkv: 640x640 Done. (0.045s)\n",
      "video 1/1 (629/3933) D:\\815_CowDataChecking\\20221229\\20221229_M_cow\\20221229_061532_21C6.mkv: 640x640 Done. (0.020s)\n",
      "video 1/1 (630/3933) D:\\815_CowDataChecking\\20221229\\20221229_M_cow\\20221229_061532_21C6.mkv: 640x640 Done. (0.017s)\n",
      "video 1/1 (631/3933) D:\\815_CowDataChecking\\20221229\\20221229_M_cow\\20221229_061532_21C6.mkv: 640x640 Done. (0.020s)\n",
      "video 1/1 (632/3933) D:\\815_CowDataChecking\\20221229\\20221229_M_cow\\20221229_061532_21C6.mkv: 640x640 Done. (0.018s)\n",
      "video 1/1 (633/3933) D:\\815_CowDataChecking\\20221229\\20221229_M_cow\\20221229_061532_21C6.mkv: 640x640 Done. (0.022s)\n",
      "video 1/1 (634/3933) D:\\815_CowDataChecking\\20221229\\20221229_M_cow\\20221229_061532_21C6.mkv: 640x640 Done. (0.020s)\n",
      "video 1/1 (635/3933) D:\\815_CowDataChecking\\20221229\\20221229_M_cow\\20221229_061532_21C6.mkv: 640x640 Done. (0.026s)\n",
      "video 1/1 (636/3933) D:\\815_CowDataChecking\\20221229\\20221229_M_cow\\20221229_061532_21C6.mkv: 640x640 Done. (0.018s)\n",
      "video 1/1 (637/3933) D:\\815_CowDataChecking\\20221229\\20221229_M_cow\\20221229_061532_21C6.mkv: 640x640 Done. (0.025s)\n",
      "video 1/1 (638/3933) D:\\815_CowDataChecking\\20221229\\20221229_M_cow\\20221229_061532_21C6.mkv: 640x640 Done. (0.020s)\n",
      "video 1/1 (639/3933) D:\\815_CowDataChecking\\20221229\\20221229_M_cow\\20221229_061532_21C6.mkv: 640x640 Done. (0.018s)\n",
      "video 1/1 (640/3933) D:\\815_CowDataChecking\\20221229\\20221229_M_cow\\20221229_061532_21C6.mkv: 640x640 Done. (0.026s)\n",
      "video 1/1 (641/3933) D:\\815_CowDataChecking\\20221229\\20221229_M_cow\\20221229_061532_21C6.mkv: 640x640 Done. (0.025s)\n",
      "video 1/1 (642/3933) D:\\815_CowDataChecking\\20221229\\20221229_M_cow\\20221229_061532_21C6.mkv: 640x640 Done. (0.017s)\n",
      "video 1/1 (643/3933) D:\\815_CowDataChecking\\20221229\\20221229_M_cow\\20221229_061532_21C6.mkv: 640x640 Done. (0.019s)\n",
      "video 1/1 (644/3933) D:\\815_CowDataChecking\\20221229\\20221229_M_cow\\20221229_061532_21C6.mkv: 640x640 Done. (0.026s)\n",
      "video 1/1 (645/3933) D:\\815_CowDataChecking\\20221229\\20221229_M_cow\\20221229_061532_21C6.mkv: 640x640 Done. (0.018s)\n",
      "video 1/1 (646/3933) D:\\815_CowDataChecking\\20221229\\20221229_M_cow\\20221229_061532_21C6.mkv: 640x640 Done. (0.019s)\n",
      "video 1/1 (647/3933) D:\\815_CowDataChecking\\20221229\\20221229_M_cow\\20221229_061532_21C6.mkv: 640x640 Done. (0.017s)\n",
      "video 1/1 (648/3933) D:\\815_CowDataChecking\\20221229\\20221229_M_cow\\20221229_061532_21C6.mkv: 640x640 Done. (0.020s)\n",
      "video 1/1 (649/3933) D:\\815_CowDataChecking\\20221229\\20221229_M_cow\\20221229_061532_21C6.mkv: 640x640 Done. (0.047s)\n",
      "video 1/1 (650/3933) D:\\815_CowDataChecking\\20221229\\20221229_M_cow\\20221229_061532_21C6.mkv: 640x640 Done. (0.038s)\n",
      "video 1/1 (651/3933) D:\\815_CowDataChecking\\20221229\\20221229_M_cow\\20221229_061532_21C6.mkv: 640x640 Done. (0.044s)\n",
      "video 1/1 (652/3933) D:\\815_CowDataChecking\\20221229\\20221229_M_cow\\20221229_061532_21C6.mkv: 640x640 Done. (0.033s)\n",
      "video 1/1 (653/3933) D:\\815_CowDataChecking\\20221229\\20221229_M_cow\\20221229_061532_21C6.mkv: 640x640 Done. (0.019s)\n",
      "video 1/1 (654/3933) D:\\815_CowDataChecking\\20221229\\20221229_M_cow\\20221229_061532_21C6.mkv: 640x640 Done. (0.023s)\n",
      "video 1/1 (655/3933) D:\\815_CowDataChecking\\20221229\\20221229_M_cow\\20221229_061532_21C6.mkv: 640x640 Done. (0.024s)\n",
      "video 1/1 (656/3933) D:\\815_CowDataChecking\\20221229\\20221229_M_cow\\20221229_061532_21C6.mkv: 640x640 Done. (0.021s)\n",
      "video 1/1 (657/3933) D:\\815_CowDataChecking\\20221229\\20221229_M_cow\\20221229_061532_21C6.mkv: 640x640 Done. (0.023s)\n",
      "video 1/1 (658/3933) D:\\815_CowDataChecking\\20221229\\20221229_M_cow\\20221229_061532_21C6.mkv: 640x640 Done. (0.022s)\n",
      "video 1/1 (659/3933) D:\\815_CowDataChecking\\20221229\\20221229_M_cow\\20221229_061532_21C6.mkv: 640x640 Done. (0.047s)\n",
      "video 1/1 (660/3933) D:\\815_CowDataChecking\\20221229\\20221229_M_cow\\20221229_061532_21C6.mkv: 640x640 Done. (0.048s)\n",
      "video 1/1 (661/3933) D:\\815_CowDataChecking\\20221229\\20221229_M_cow\\20221229_061532_21C6.mkv: 640x640 Done. (0.042s)\n",
      "video 1/1 (662/3933) D:\\815_CowDataChecking\\20221229\\20221229_M_cow\\20221229_061532_21C6.mkv: 640x640 Done. (0.046s)\n",
      "video 1/1 (663/3933) D:\\815_CowDataChecking\\20221229\\20221229_M_cow\\20221229_061532_21C6.mkv: 640x640 Done. (0.041s)\n",
      "video 1/1 (664/3933) D:\\815_CowDataChecking\\20221229\\20221229_M_cow\\20221229_061532_21C6.mkv: 640x640 Done. (0.019s)\n",
      "video 1/1 (665/3933) D:\\815_CowDataChecking\\20221229\\20221229_M_cow\\20221229_061532_21C6.mkv: 640x640 Done. (0.018s)\n",
      "video 1/1 (666/3933) D:\\815_CowDataChecking\\20221229\\20221229_M_cow\\20221229_061532_21C6.mkv: 640x640 Done. (0.020s)\n",
      "video 1/1 (667/3933) D:\\815_CowDataChecking\\20221229\\20221229_M_cow\\20221229_061532_21C6.mkv: 640x640 Done. (0.022s)\n",
      "video 1/1 (668/3933) D:\\815_CowDataChecking\\20221229\\20221229_M_cow\\20221229_061532_21C6.mkv: 640x640 Done. (0.020s)\n",
      "video 1/1 (669/3933) D:\\815_CowDataChecking\\20221229\\20221229_M_cow\\20221229_061532_21C6.mkv: 640x640 Done. (0.019s)\n",
      "video 1/1 (670/3933) D:\\815_CowDataChecking\\20221229\\20221229_M_cow\\20221229_061532_21C6.mkv: 640x640 Done. (0.019s)\n",
      "video 1/1 (671/3933) D:\\815_CowDataChecking\\20221229\\20221229_M_cow\\20221229_061532_21C6.mkv: 640x640 Done. (0.025s)\n",
      "video 1/1 (672/3933) D:\\815_CowDataChecking\\20221229\\20221229_M_cow\\20221229_061532_21C6.mkv: 640x640 Done. (0.021s)\n",
      "video 1/1 (673/3933) D:\\815_CowDataChecking\\20221229\\20221229_M_cow\\20221229_061532_21C6.mkv: 640x640 Done. (0.021s)\n",
      "video 1/1 (674/3933) D:\\815_CowDataChecking\\20221229\\20221229_M_cow\\20221229_061532_21C6.mkv: 640x640 Done. (0.020s)\n",
      "video 1/1 (675/3933) D:\\815_CowDataChecking\\20221229\\20221229_M_cow\\20221229_061532_21C6.mkv: 640x640 Done. (0.021s)\n",
      "video 1/1 (676/3933) D:\\815_CowDataChecking\\20221229\\20221229_M_cow\\20221229_061532_21C6.mkv: 640x640 Done. (0.020s)\n",
      "video 1/1 (677/3933) D:\\815_CowDataChecking\\20221229\\20221229_M_cow\\20221229_061532_21C6.mkv: 640x640 Done. (0.025s)\n",
      "video 1/1 (678/3933) D:\\815_CowDataChecking\\20221229\\20221229_M_cow\\20221229_061532_21C6.mkv: 640x640 Done. (0.018s)\n",
      "video 1/1 (679/3933) D:\\815_CowDataChecking\\20221229\\20221229_M_cow\\20221229_061532_21C6.mkv: 640x640 Done. (0.020s)\n",
      "video 1/1 (680/3933) D:\\815_CowDataChecking\\20221229\\20221229_M_cow\\20221229_061532_21C6.mkv: 640x640 Done. (0.019s)\n",
      "video 1/1 (681/3933) D:\\815_CowDataChecking\\20221229\\20221229_M_cow\\20221229_061532_21C6.mkv: 640x640 Done. (0.025s)\n",
      "video 1/1 (682/3933) D:\\815_CowDataChecking\\20221229\\20221229_M_cow\\20221229_061532_21C6.mkv: 640x640 Done. (0.022s)\n",
      "video 1/1 (683/3933) D:\\815_CowDataChecking\\20221229\\20221229_M_cow\\20221229_061532_21C6.mkv: 640x640 Done. (0.019s)\n",
      "video 1/1 (684/3933) D:\\815_CowDataChecking\\20221229\\20221229_M_cow\\20221229_061532_21C6.mkv: 640x640 Done. (0.049s)\n",
      "video 1/1 (685/3933) D:\\815_CowDataChecking\\20221229\\20221229_M_cow\\20221229_061532_21C6.mkv: 640x640 Done. (0.049s)\n",
      "video 1/1 (686/3933) D:\\815_CowDataChecking\\20221229\\20221229_M_cow\\20221229_061532_21C6.mkv: 640x640 Done. (0.049s)\n",
      "video 1/1 (687/3933) D:\\815_CowDataChecking\\20221229\\20221229_M_cow\\20221229_061532_21C6.mkv: 640x640 Done. (0.044s)\n",
      "video 1/1 (688/3933) D:\\815_CowDataChecking\\20221229\\20221229_M_cow\\20221229_061532_21C6.mkv: 640x640 Done. (0.016s)\n",
      "video 1/1 (689/3933) D:\\815_CowDataChecking\\20221229\\20221229_M_cow\\20221229_061532_21C6.mkv: 640x640 Done. (0.016s)\n",
      "video 1/1 (690/3933) D:\\815_CowDataChecking\\20221229\\20221229_M_cow\\20221229_061532_21C6.mkv: 640x640 Done. (0.016s)\n",
      "video 1/1 (691/3933) D:\\815_CowDataChecking\\20221229\\20221229_M_cow\\20221229_061532_21C6.mkv: 640x640 Done. (0.017s)\n",
      "video 1/1 (692/3933) D:\\815_CowDataChecking\\20221229\\20221229_M_cow\\20221229_061532_21C6.mkv: 640x640 Done. (0.020s)\n",
      "video 1/1 (693/3933) D:\\815_CowDataChecking\\20221229\\20221229_M_cow\\20221229_061532_21C6.mkv: 640x640 Done. (0.020s)\n",
      "video 1/1 (694/3933) D:\\815_CowDataChecking\\20221229\\20221229_M_cow\\20221229_061532_21C6.mkv: 640x640 Done. (0.017s)\n",
      "video 1/1 (695/3933) D:\\815_CowDataChecking\\20221229\\20221229_M_cow\\20221229_061532_21C6.mkv: 640x640 Done. (0.019s)\n",
      "video 1/1 (696/3933) D:\\815_CowDataChecking\\20221229\\20221229_M_cow\\20221229_061532_21C6.mkv: 640x640 Done. (0.018s)\n",
      "video 1/1 (697/3933) D:\\815_CowDataChecking\\20221229\\20221229_M_cow\\20221229_061532_21C6.mkv: 640x640 Done. (0.016s)\n",
      "video 1/1 (698/3933) D:\\815_CowDataChecking\\20221229\\20221229_M_cow\\20221229_061532_21C6.mkv: 640x640 Done. (0.016s)\n",
      "video 1/1 (699/3933) D:\\815_CowDataChecking\\20221229\\20221229_M_cow\\20221229_061532_21C6.mkv: 640x640 Done. (0.018s)\n",
      "video 1/1 (700/3933) D:\\815_CowDataChecking\\20221229\\20221229_M_cow\\20221229_061532_21C6.mkv: 640x640 Done. (0.017s)\n",
      "video 1/1 (701/3933) D:\\815_CowDataChecking\\20221229\\20221229_M_cow\\20221229_061532_21C6.mkv: 640x640 Done. (0.017s)\n",
      "video 1/1 (702/3933) D:\\815_CowDataChecking\\20221229\\20221229_M_cow\\20221229_061532_21C6.mkv: 640x640 Done. (0.018s)\n",
      "video 1/1 (703/3933) D:\\815_CowDataChecking\\20221229\\20221229_M_cow\\20221229_061532_21C6.mkv: 640x640 Done. (0.016s)\n",
      "video 1/1 (704/3933) D:\\815_CowDataChecking\\20221229\\20221229_M_cow\\20221229_061532_21C6.mkv: 640x640 Done. (0.018s)\n",
      "video 1/1 (705/3933) D:\\815_CowDataChecking\\20221229\\20221229_M_cow\\20221229_061532_21C6.mkv: 640x640 Done. (0.019s)\n",
      "video 1/1 (706/3933) D:\\815_CowDataChecking\\20221229\\20221229_M_cow\\20221229_061532_21C6.mkv: 640x640 Done. (0.017s)\n",
      "video 1/1 (707/3933) D:\\815_CowDataChecking\\20221229\\20221229_M_cow\\20221229_061532_21C6.mkv: 640x640 Done. (0.024s)\n",
      "video 1/1 (708/3933) D:\\815_CowDataChecking\\20221229\\20221229_M_cow\\20221229_061532_21C6.mkv: 640x640 Done. (0.018s)\n",
      "video 1/1 (709/3933) D:\\815_CowDataChecking\\20221229\\20221229_M_cow\\20221229_061532_21C6.mkv: 640x640 Done. (0.024s)\n",
      "video 1/1 (710/3933) D:\\815_CowDataChecking\\20221229\\20221229_M_cow\\20221229_061532_21C6.mkv: 640x640 Done. (0.022s)\n",
      "video 1/1 (711/3933) D:\\815_CowDataChecking\\20221229\\20221229_M_cow\\20221229_061532_21C6.mkv: 640x640 Done. (0.054s)\n",
      "video 1/1 (712/3933) D:\\815_CowDataChecking\\20221229\\20221229_M_cow\\20221229_061532_21C6.mkv: 640x640 Done. (0.050s)\n",
      "video 1/1 (713/3933) D:\\815_CowDataChecking\\20221229\\20221229_M_cow\\20221229_061532_21C6.mkv: 640x640 Done. (0.051s)\n",
      "video 1/1 (714/3933) D:\\815_CowDataChecking\\20221229\\20221229_M_cow\\20221229_061532_21C6.mkv: 640x640 Done. (0.019s)\n",
      "video 1/1 (715/3933) D:\\815_CowDataChecking\\20221229\\20221229_M_cow\\20221229_061532_21C6.mkv: 640x640 Done. (0.028s)\n",
      "video 1/1 (716/3933) D:\\815_CowDataChecking\\20221229\\20221229_M_cow\\20221229_061532_21C6.mkv: 640x640 Done. (0.020s)\n",
      "video 1/1 (717/3933) D:\\815_CowDataChecking\\20221229\\20221229_M_cow\\20221229_061532_21C6.mkv: 640x640 Done. (0.020s)\n",
      "video 1/1 (718/3933) D:\\815_CowDataChecking\\20221229\\20221229_M_cow\\20221229_061532_21C6.mkv: 640x640 Done. (0.025s)\n",
      "video 1/1 (719/3933) D:\\815_CowDataChecking\\20221229\\20221229_M_cow\\20221229_061532_21C6.mkv: 640x640 Done. (0.020s)\n",
      "video 1/1 (720/3933) D:\\815_CowDataChecking\\20221229\\20221229_M_cow\\20221229_061532_21C6.mkv: 640x640 Done. (0.018s)\n",
      "video 1/1 (721/3933) D:\\815_CowDataChecking\\20221229\\20221229_M_cow\\20221229_061532_21C6.mkv: 640x640 Done. (0.021s)\n",
      "video 1/1 (722/3933) D:\\815_CowDataChecking\\20221229\\20221229_M_cow\\20221229_061532_21C6.mkv: 640x640 Done. (0.020s)\n",
      "video 1/1 (723/3933) D:\\815_CowDataChecking\\20221229\\20221229_M_cow\\20221229_061532_21C6.mkv: 640x640 Done. (0.020s)\n",
      "video 1/1 (724/3933) D:\\815_CowDataChecking\\20221229\\20221229_M_cow\\20221229_061532_21C6.mkv: 640x640 Done. (0.019s)\n",
      "video 1/1 (725/3933) D:\\815_CowDataChecking\\20221229\\20221229_M_cow\\20221229_061532_21C6.mkv: 640x640 Done. (0.024s)\n",
      "video 1/1 (726/3933) D:\\815_CowDataChecking\\20221229\\20221229_M_cow\\20221229_061532_21C6.mkv: 640x640 Done. (0.020s)\n",
      "video 1/1 (727/3933) D:\\815_CowDataChecking\\20221229\\20221229_M_cow\\20221229_061532_21C6.mkv: 640x640 Done. (0.020s)\n",
      "video 1/1 (728/3933) D:\\815_CowDataChecking\\20221229\\20221229_M_cow\\20221229_061532_21C6.mkv: 640x640 Done. (0.025s)\n",
      "video 1/1 (729/3933) D:\\815_CowDataChecking\\20221229\\20221229_M_cow\\20221229_061532_21C6.mkv: 640x640 Done. (0.019s)\n",
      "video 1/1 (730/3933) D:\\815_CowDataChecking\\20221229\\20221229_M_cow\\20221229_061532_21C6.mkv: 640x640 Done. (0.026s)\n",
      "video 1/1 (731/3933) D:\\815_CowDataChecking\\20221229\\20221229_M_cow\\20221229_061532_21C6.mkv: 640x640 Done. (0.022s)\n",
      "video 1/1 (732/3933) D:\\815_CowDataChecking\\20221229\\20221229_M_cow\\20221229_061532_21C6.mkv: 640x640 Done. (0.019s)\n",
      "video 1/1 (733/3933) D:\\815_CowDataChecking\\20221229\\20221229_M_cow\\20221229_061532_21C6.mkv: 640x640 Done. (0.050s)\n",
      "video 1/1 (734/3933) D:\\815_CowDataChecking\\20221229\\20221229_M_cow\\20221229_061532_21C6.mkv: 640x640 Done. (0.047s)\n",
      "video 1/1 (735/3933) D:\\815_CowDataChecking\\20221229\\20221229_M_cow\\20221229_061532_21C6.mkv: 640x640 Done. (0.020s)\n",
      "video 1/1 (736/3933) D:\\815_CowDataChecking\\20221229\\20221229_M_cow\\20221229_061532_21C6.mkv: 640x640 Done. (0.019s)\n",
      "video 1/1 (737/3933) D:\\815_CowDataChecking\\20221229\\20221229_M_cow\\20221229_061532_21C6.mkv: 640x640 Done. (0.018s)\n",
      "video 1/1 (738/3933) D:\\815_CowDataChecking\\20221229\\20221229_M_cow\\20221229_061532_21C6.mkv: 640x640 Done. (0.022s)\n",
      "video 1/1 (739/3933) D:\\815_CowDataChecking\\20221229\\20221229_M_cow\\20221229_061532_21C6.mkv: 640x640 Done. (0.021s)\n",
      "video 1/1 (740/3933) D:\\815_CowDataChecking\\20221229\\20221229_M_cow\\20221229_061532_21C6.mkv: 640x640 Done. (0.021s)\n",
      "video 1/1 (741/3933) D:\\815_CowDataChecking\\20221229\\20221229_M_cow\\20221229_061532_21C6.mkv: 640x640 Done. (0.020s)\n",
      "video 1/1 (742/3933) D:\\815_CowDataChecking\\20221229\\20221229_M_cow\\20221229_061532_21C6.mkv: 640x640 Done. (0.019s)\n",
      "video 1/1 (743/3933) D:\\815_CowDataChecking\\20221229\\20221229_M_cow\\20221229_061532_21C6.mkv: 640x640 Done. (0.019s)\n",
      "video 1/1 (744/3933) D:\\815_CowDataChecking\\20221229\\20221229_M_cow\\20221229_061532_21C6.mkv: 640x640 Done. (0.021s)\n",
      "video 1/1 (745/3933) D:\\815_CowDataChecking\\20221229\\20221229_M_cow\\20221229_061532_21C6.mkv: 640x640 Done. (0.023s)\n",
      "video 1/1 (746/3933) D:\\815_CowDataChecking\\20221229\\20221229_M_cow\\20221229_061532_21C6.mkv: 640x640 Done. (0.020s)\n",
      "video 1/1 (747/3933) D:\\815_CowDataChecking\\20221229\\20221229_M_cow\\20221229_061532_21C6.mkv: 640x640 Done. (0.019s)\n",
      "video 1/1 (748/3933) D:\\815_CowDataChecking\\20221229\\20221229_M_cow\\20221229_061532_21C6.mkv: 640x640 Done. (0.020s)\n",
      "video 1/1 (749/3933) D:\\815_CowDataChecking\\20221229\\20221229_M_cow\\20221229_061532_21C6.mkv: 640x640 Done. (0.020s)\n",
      "video 1/1 (750/3933) D:\\815_CowDataChecking\\20221229\\20221229_M_cow\\20221229_061532_21C6.mkv: 640x640 Done. (0.019s)\n",
      "video 1/1 (751/3933) D:\\815_CowDataChecking\\20221229\\20221229_M_cow\\20221229_061532_21C6.mkv: 640x640 Done. (0.020s)\n",
      "video 1/1 (752/3933) D:\\815_CowDataChecking\\20221229\\20221229_M_cow\\20221229_061532_21C6.mkv: 640x640 Done. (0.021s)\n",
      "video 1/1 (753/3933) D:\\815_CowDataChecking\\20221229\\20221229_M_cow\\20221229_061532_21C6.mkv: 640x640 Done. (0.020s)\n",
      "video 1/1 (754/3933) D:\\815_CowDataChecking\\20221229\\20221229_M_cow\\20221229_061532_21C6.mkv: 640x640 Done. (0.021s)\n",
      "video 1/1 (755/3933) D:\\815_CowDataChecking\\20221229\\20221229_M_cow\\20221229_061532_21C6.mkv: 640x640 Done. (0.033s)\n",
      "video 1/1 (756/3933) D:\\815_CowDataChecking\\20221229\\20221229_M_cow\\20221229_061532_21C6.mkv: 640x640 Done. (0.042s)\n",
      "video 1/1 (757/3933) D:\\815_CowDataChecking\\20221229\\20221229_M_cow\\20221229_061532_21C6.mkv: 640x640 Done. (0.059s)\n",
      "video 1/1 (758/3933) D:\\815_CowDataChecking\\20221229\\20221229_M_cow\\20221229_061532_21C6.mkv: 640x640 Done. (0.047s)\n",
      "video 1/1 (759/3933) D:\\815_CowDataChecking\\20221229\\20221229_M_cow\\20221229_061532_21C6.mkv: 640x640 Done. (0.019s)\n",
      "video 1/1 (760/3933) D:\\815_CowDataChecking\\20221229\\20221229_M_cow\\20221229_061532_21C6.mkv: 640x640 Done. (0.019s)\n",
      "video 1/1 (761/3933) D:\\815_CowDataChecking\\20221229\\20221229_M_cow\\20221229_061532_21C6.mkv: 640x640 Done. (0.018s)\n",
      "video 1/1 (762/3933) D:\\815_CowDataChecking\\20221229\\20221229_M_cow\\20221229_061532_21C6.mkv: 640x640 Done. (0.019s)\n",
      "video 1/1 (763/3933) D:\\815_CowDataChecking\\20221229\\20221229_M_cow\\20221229_061532_21C6.mkv: 640x640 Done. (0.019s)\n",
      "video 1/1 (764/3933) D:\\815_CowDataChecking\\20221229\\20221229_M_cow\\20221229_061532_21C6.mkv: 640x640 Done. (0.018s)\n",
      "video 1/1 (765/3933) D:\\815_CowDataChecking\\20221229\\20221229_M_cow\\20221229_061532_21C6.mkv: 640x640 Done. (0.020s)\n",
      "video 1/1 (766/3933) D:\\815_CowDataChecking\\20221229\\20221229_M_cow\\20221229_061532_21C6.mkv: 640x640 Done. (0.020s)\n",
      "video 1/1 (767/3933) D:\\815_CowDataChecking\\20221229\\20221229_M_cow\\20221229_061532_21C6.mkv: 640x640 Done. (0.020s)\n",
      "video 1/1 (768/3933) D:\\815_CowDataChecking\\20221229\\20221229_M_cow\\20221229_061532_21C6.mkv: 640x640 Done. (0.021s)\n",
      "video 1/1 (769/3933) D:\\815_CowDataChecking\\20221229\\20221229_M_cow\\20221229_061532_21C6.mkv: 640x640 Done. (0.018s)\n",
      "video 1/1 (770/3933) D:\\815_CowDataChecking\\20221229\\20221229_M_cow\\20221229_061532_21C6.mkv: 640x640 Done. (0.020s)\n",
      "video 1/1 (771/3933) D:\\815_CowDataChecking\\20221229\\20221229_M_cow\\20221229_061532_21C6.mkv: 640x640 Done. (0.019s)\n",
      "video 1/1 (772/3933) D:\\815_CowDataChecking\\20221229\\20221229_M_cow\\20221229_061532_21C6.mkv: 640x640 Done. (0.025s)\n",
      "video 1/1 (773/3933) D:\\815_CowDataChecking\\20221229\\20221229_M_cow\\20221229_061532_21C6.mkv: 640x640 Done. (0.018s)\n",
      "video 1/1 (774/3933) D:\\815_CowDataChecking\\20221229\\20221229_M_cow\\20221229_061532_21C6.mkv: 640x640 Done. (0.018s)\n",
      "video 1/1 (775/3933) D:\\815_CowDataChecking\\20221229\\20221229_M_cow\\20221229_061532_21C6.mkv: 640x640 Done. (0.018s)\n",
      "video 1/1 (776/3933) D:\\815_CowDataChecking\\20221229\\20221229_M_cow\\20221229_061532_21C6.mkv: 640x640 Done. (0.019s)\n",
      "video 1/1 (777/3933) D:\\815_CowDataChecking\\20221229\\20221229_M_cow\\20221229_061532_21C6.mkv: 640x640 Done. (0.019s)\n",
      "video 1/1 (778/3933) D:\\815_CowDataChecking\\20221229\\20221229_M_cow\\20221229_061532_21C6.mkv: 640x640 Done. (0.018s)\n",
      "video 1/1 (779/3933) D:\\815_CowDataChecking\\20221229\\20221229_M_cow\\20221229_061532_21C6.mkv: 640x640 Done. (0.024s)\n",
      "video 1/1 (780/3933) D:\\815_CowDataChecking\\20221229\\20221229_M_cow\\20221229_061532_21C6.mkv: 640x640 Done. (0.058s)\n",
      "video 1/1 (781/3933) D:\\815_CowDataChecking\\20221229\\20221229_M_cow\\20221229_061532_21C6.mkv: 640x640 Done. (0.033s)\n",
      "video 1/1 (782/3933) D:\\815_CowDataChecking\\20221229\\20221229_M_cow\\20221229_061532_21C6.mkv: 640x640 Done. (0.021s)\n",
      "video 1/1 (783/3933) D:\\815_CowDataChecking\\20221229\\20221229_M_cow\\20221229_061532_21C6.mkv: 640x640 Done. (0.024s)\n",
      "video 1/1 (784/3933) D:\\815_CowDataChecking\\20221229\\20221229_M_cow\\20221229_061532_21C6.mkv: 640x640 Done. (0.024s)\n",
      "video 1/1 (785/3933) D:\\815_CowDataChecking\\20221229\\20221229_M_cow\\20221229_061532_21C6.mkv: 640x640 Done. (0.024s)\n",
      "video 1/1 (786/3933) D:\\815_CowDataChecking\\20221229\\20221229_M_cow\\20221229_061532_21C6.mkv: 640x640 Done. (0.023s)\n",
      "video 1/1 (787/3933) D:\\815_CowDataChecking\\20221229\\20221229_M_cow\\20221229_061532_21C6.mkv: 640x640 Done. (0.024s)\n",
      "video 1/1 (788/3933) D:\\815_CowDataChecking\\20221229\\20221229_M_cow\\20221229_061532_21C6.mkv: 640x640 Done. (0.022s)\n",
      "video 1/1 (789/3933) D:\\815_CowDataChecking\\20221229\\20221229_M_cow\\20221229_061532_21C6.mkv: 640x640 Done. (0.022s)\n",
      "video 1/1 (790/3933) D:\\815_CowDataChecking\\20221229\\20221229_M_cow\\20221229_061532_21C6.mkv: 640x640 Done. (0.021s)\n",
      "video 1/1 (791/3933) D:\\815_CowDataChecking\\20221229\\20221229_M_cow\\20221229_061532_21C6.mkv: 640x640 Done. (0.031s)\n",
      "video 1/1 (792/3933) D:\\815_CowDataChecking\\20221229\\20221229_M_cow\\20221229_061532_21C6.mkv: 640x640 Done. (0.023s)\n",
      "video 1/1 (793/3933) D:\\815_CowDataChecking\\20221229\\20221229_M_cow\\20221229_061532_21C6.mkv: 640x640 Done. (0.024s)\n",
      "video 1/1 (794/3933) D:\\815_CowDataChecking\\20221229\\20221229_M_cow\\20221229_061532_21C6.mkv: 640x640 Done. (0.049s)\n",
      "video 1/1 (795/3933) D:\\815_CowDataChecking\\20221229\\20221229_M_cow\\20221229_061532_21C6.mkv: 640x640 Done. (0.046s)\n",
      "video 1/1 (796/3933) D:\\815_CowDataChecking\\20221229\\20221229_M_cow\\20221229_061532_21C6.mkv: 640x640 Done. (0.039s)\n",
      "video 1/1 (797/3933) D:\\815_CowDataChecking\\20221229\\20221229_M_cow\\20221229_061532_21C6.mkv: 640x640 Done. (0.052s)\n",
      "video 1/1 (798/3933) D:\\815_CowDataChecking\\20221229\\20221229_M_cow\\20221229_061532_21C6.mkv: 640x640 Done. (0.052s)\n",
      "video 1/1 (799/3933) D:\\815_CowDataChecking\\20221229\\20221229_M_cow\\20221229_061532_21C6.mkv: 640x640 Done. (0.025s)\n",
      "video 1/1 (800/3933) D:\\815_CowDataChecking\\20221229\\20221229_M_cow\\20221229_061532_21C6.mkv: 640x640 Done. (0.019s)\n",
      "video 1/1 (801/3933) D:\\815_CowDataChecking\\20221229\\20221229_M_cow\\20221229_061532_21C6.mkv: 640x640 Done. (0.025s)\n",
      "video 1/1 (802/3933) D:\\815_CowDataChecking\\20221229\\20221229_M_cow\\20221229_061532_21C6.mkv: 640x640 Done. (0.018s)\n",
      "video 1/1 (803/3933) D:\\815_CowDataChecking\\20221229\\20221229_M_cow\\20221229_061532_21C6.mkv: 640x640 Done. (0.016s)\n",
      "video 1/1 (804/3933) D:\\815_CowDataChecking\\20221229\\20221229_M_cow\\20221229_061532_21C6.mkv: 640x640 Done. (0.026s)\n",
      "video 1/1 (805/3933) D:\\815_CowDataChecking\\20221229\\20221229_M_cow\\20221229_061532_21C6.mkv: 640x640 Done. (0.017s)\n",
      "video 1/1 (806/3933) D:\\815_CowDataChecking\\20221229\\20221229_M_cow\\20221229_061532_21C6.mkv: 640x640 Done. (0.021s)\n",
      "video 1/1 (807/3933) D:\\815_CowDataChecking\\20221229\\20221229_M_cow\\20221229_061532_21C6.mkv: 640x640 Done. (0.017s)\n",
      "video 1/1 (808/3933) D:\\815_CowDataChecking\\20221229\\20221229_M_cow\\20221229_061532_21C6.mkv: 640x640 Done. (0.019s)\n",
      "video 1/1 (809/3933) D:\\815_CowDataChecking\\20221229\\20221229_M_cow\\20221229_061532_21C6.mkv: 640x640 Done. (0.026s)\n",
      "video 1/1 (810/3933) D:\\815_CowDataChecking\\20221229\\20221229_M_cow\\20221229_061532_21C6.mkv: 640x640 Done. (0.018s)\n",
      "video 1/1 (811/3933) D:\\815_CowDataChecking\\20221229\\20221229_M_cow\\20221229_061532_21C6.mkv: 640x640 Done. (0.016s)\n",
      "video 1/1 (812/3933) D:\\815_CowDataChecking\\20221229\\20221229_M_cow\\20221229_061532_21C6.mkv: 640x640 Done. (0.019s)\n",
      "video 1/1 (813/3933) D:\\815_CowDataChecking\\20221229\\20221229_M_cow\\20221229_061532_21C6.mkv: 640x640 Done. (0.025s)\n",
      "video 1/1 (814/3933) D:\\815_CowDataChecking\\20221229\\20221229_M_cow\\20221229_061532_21C6.mkv: 640x640 Done. (0.017s)\n",
      "video 1/1 (815/3933) D:\\815_CowDataChecking\\20221229\\20221229_M_cow\\20221229_061532_21C6.mkv: 640x640 Done. (0.020s)\n",
      "video 1/1 (816/3933) D:\\815_CowDataChecking\\20221229\\20221229_M_cow\\20221229_061532_21C6.mkv: 640x640 Done. (0.026s)\n",
      "video 1/1 (817/3933) D:\\815_CowDataChecking\\20221229\\20221229_M_cow\\20221229_061532_21C6.mkv: 640x640 Done. (0.018s)\n",
      "video 1/1 (818/3933) D:\\815_CowDataChecking\\20221229\\20221229_M_cow\\20221229_061532_21C6.mkv: 640x640 Done. (0.028s)\n",
      "video 1/1 (819/3933) D:\\815_CowDataChecking\\20221229\\20221229_M_cow\\20221229_061532_21C6.mkv: 640x640 Done. (0.050s)\n",
      "video 1/1 (820/3933) D:\\815_CowDataChecking\\20221229\\20221229_M_cow\\20221229_061532_21C6.mkv: 640x640 Done. (0.048s)\n",
      "video 1/1 (821/3933) D:\\815_CowDataChecking\\20221229\\20221229_M_cow\\20221229_061532_21C6.mkv: 640x640 Done. (0.043s)\n",
      "video 1/1 (822/3933) D:\\815_CowDataChecking\\20221229\\20221229_M_cow\\20221229_061532_21C6.mkv: 640x640 Done. (0.049s)\n",
      "video 1/1 (823/3933) D:\\815_CowDataChecking\\20221229\\20221229_M_cow\\20221229_061532_21C6.mkv: 640x640 Done. (0.042s)\n",
      "video 1/1 (824/3933) D:\\815_CowDataChecking\\20221229\\20221229_M_cow\\20221229_061532_21C6.mkv: 640x640 Done. (0.016s)\n",
      "video 1/1 (825/3933) D:\\815_CowDataChecking\\20221229\\20221229_M_cow\\20221229_061532_21C6.mkv: 640x640 Done. (0.017s)\n",
      "video 1/1 (826/3933) D:\\815_CowDataChecking\\20221229\\20221229_M_cow\\20221229_061532_21C6.mkv: 640x640 Done. (0.017s)\n",
      "video 1/1 (827/3933) D:\\815_CowDataChecking\\20221229\\20221229_M_cow\\20221229_061532_21C6.mkv: 640x640 Done. (0.017s)\n",
      "video 1/1 (828/3933) D:\\815_CowDataChecking\\20221229\\20221229_M_cow\\20221229_061532_21C6.mkv: 640x640 Done. (0.026s)\n",
      "video 1/1 (829/3933) D:\\815_CowDataChecking\\20221229\\20221229_M_cow\\20221229_061532_21C6.mkv: 640x640 Done. (0.021s)\n",
      "video 1/1 (830/3933) D:\\815_CowDataChecking\\20221229\\20221229_M_cow\\20221229_061532_21C6.mkv: 640x640 Done. (0.016s)\n",
      "video 1/1 (831/3933) D:\\815_CowDataChecking\\20221229\\20221229_M_cow\\20221229_061532_21C6.mkv: 640x640 Done. (0.020s)\n",
      "video 1/1 (832/3933) D:\\815_CowDataChecking\\20221229\\20221229_M_cow\\20221229_061532_21C6.mkv: 640x640 Done. (0.025s)\n",
      "video 1/1 (833/3933) D:\\815_CowDataChecking\\20221229\\20221229_M_cow\\20221229_061532_21C6.mkv: 640x640 Done. (0.017s)\n",
      "video 1/1 (834/3933) D:\\815_CowDataChecking\\20221229\\20221229_M_cow\\20221229_061532_21C6.mkv: 640x640 Done. (0.017s)\n",
      "video 1/1 (835/3933) D:\\815_CowDataChecking\\20221229\\20221229_M_cow\\20221229_061532_21C6.mkv: 640x640 Done. (0.019s)\n",
      "video 1/1 (836/3933) D:\\815_CowDataChecking\\20221229\\20221229_M_cow\\20221229_061532_21C6.mkv: 640x640 Done. (0.021s)\n",
      "video 1/1 (837/3933) D:\\815_CowDataChecking\\20221229\\20221229_M_cow\\20221229_061532_21C6.mkv: 640x640 Done. (0.017s)\n",
      "video 1/1 (838/3933) D:\\815_CowDataChecking\\20221229\\20221229_M_cow\\20221229_061532_21C6.mkv: 640x640 Done. (0.017s)\n",
      "video 1/1 (839/3933) D:\\815_CowDataChecking\\20221229\\20221229_M_cow\\20221229_061532_21C6.mkv: 640x640 Done. (0.020s)\n",
      "video 1/1 (840/3933) D:\\815_CowDataChecking\\20221229\\20221229_M_cow\\20221229_061532_21C6.mkv: 640x640 Done. (0.022s)\n",
      "video 1/1 (841/3933) D:\\815_CowDataChecking\\20221229\\20221229_M_cow\\20221229_061532_21C6.mkv: 640x640 Done. (0.018s)\n",
      "video 1/1 (842/3933) D:\\815_CowDataChecking\\20221229\\20221229_M_cow\\20221229_061532_21C6.mkv: 640x640 Done. (0.017s)\n",
      "video 1/1 (843/3933) D:\\815_CowDataChecking\\20221229\\20221229_M_cow\\20221229_061532_21C6.mkv: 640x640 Done. (0.026s)\n",
      "video 1/1 (844/3933) D:\\815_CowDataChecking\\20221229\\20221229_M_cow\\20221229_061532_21C6.mkv: 640x640 Done. (0.047s)\n",
      "video 1/1 (845/3933) D:\\815_CowDataChecking\\20221229\\20221229_M_cow\\20221229_061532_21C6.mkv: 640x640 Done. (0.049s)\n",
      "video 1/1 (846/3933) D:\\815_CowDataChecking\\20221229\\20221229_M_cow\\20221229_061532_21C6.mkv: 640x640 Done. (0.049s)\n",
      "video 1/1 (847/3933) D:\\815_CowDataChecking\\20221229\\20221229_M_cow\\20221229_061532_21C6.mkv: 640x640 Done. (0.048s)\n",
      "video 1/1 (848/3933) D:\\815_CowDataChecking\\20221229\\20221229_M_cow\\20221229_061532_21C6.mkv: 640x640 Done. (0.047s)\n",
      "video 1/1 (849/3933) D:\\815_CowDataChecking\\20221229\\20221229_M_cow\\20221229_061532_21C6.mkv: 640x640 Done. (0.019s)\n",
      "video 1/1 (850/3933) D:\\815_CowDataChecking\\20221229\\20221229_M_cow\\20221229_061532_21C6.mkv: 640x640 Done. (0.017s)\n",
      "video 1/1 (851/3933) D:\\815_CowDataChecking\\20221229\\20221229_M_cow\\20221229_061532_21C6.mkv: 640x640 Done. (0.018s)\n",
      "video 1/1 (852/3933) D:\\815_CowDataChecking\\20221229\\20221229_M_cow\\20221229_061532_21C6.mkv: 640x640 Done. (0.019s)\n",
      "video 1/1 (853/3933) D:\\815_CowDataChecking\\20221229\\20221229_M_cow\\20221229_061532_21C6.mkv: 640x640 Done. (0.020s)\n",
      "video 1/1 (854/3933) D:\\815_CowDataChecking\\20221229\\20221229_M_cow\\20221229_061532_21C6.mkv: 640x640 Done. (0.019s)\n",
      "video 1/1 (855/3933) D:\\815_CowDataChecking\\20221229\\20221229_M_cow\\20221229_061532_21C6.mkv: 640x640 Done. (0.018s)\n",
      "video 1/1 (856/3933) D:\\815_CowDataChecking\\20221229\\20221229_M_cow\\20221229_061532_21C6.mkv: 640x640 Done. (0.018s)\n",
      "video 1/1 (857/3933) D:\\815_CowDataChecking\\20221229\\20221229_M_cow\\20221229_061532_21C6.mkv: 640x640 Done. (0.020s)\n",
      "video 1/1 (858/3933) D:\\815_CowDataChecking\\20221229\\20221229_M_cow\\20221229_061532_21C6.mkv: 640x640 Done. (0.023s)\n",
      "video 1/1 (859/3933) D:\\815_CowDataChecking\\20221229\\20221229_M_cow\\20221229_061532_21C6.mkv: 640x640 Done. (0.020s)\n",
      "video 1/1 (860/3933) D:\\815_CowDataChecking\\20221229\\20221229_M_cow\\20221229_061532_21C6.mkv: 640x640 Done. (0.028s)\n",
      "video 1/1 (861/3933) D:\\815_CowDataChecking\\20221229\\20221229_M_cow\\20221229_061532_21C6.mkv: 640x640 Done. (0.024s)\n",
      "video 1/1 (862/3933) D:\\815_CowDataChecking\\20221229\\20221229_M_cow\\20221229_061532_21C6.mkv: 640x640 Done. (0.026s)\n",
      "video 1/1 (863/3933) D:\\815_CowDataChecking\\20221229\\20221229_M_cow\\20221229_061532_21C6.mkv: 640x640 Done. (0.018s)\n",
      "video 1/1 (864/3933) D:\\815_CowDataChecking\\20221229\\20221229_M_cow\\20221229_061532_21C6.mkv: 640x640 Done. (0.021s)\n",
      "video 1/1 (865/3933) D:\\815_CowDataChecking\\20221229\\20221229_M_cow\\20221229_061532_21C6.mkv: 640x640 Done. (0.023s)\n",
      "video 1/1 (866/3933) D:\\815_CowDataChecking\\20221229\\20221229_M_cow\\20221229_061532_21C6.mkv: 640x640 Done. (0.018s)\n",
      "video 1/1 (867/3933) D:\\815_CowDataChecking\\20221229\\20221229_M_cow\\20221229_061532_21C6.mkv: 640x640 Done. (0.018s)\n",
      "video 1/1 (868/3933) D:\\815_CowDataChecking\\20221229\\20221229_M_cow\\20221229_061532_21C6.mkv: 640x640 Done. (0.019s)\n",
      "video 1/1 (869/3933) D:\\815_CowDataChecking\\20221229\\20221229_M_cow\\20221229_061532_21C6.mkv: 640x640 Done. (0.052s)\n",
      "video 1/1 (870/3933) D:\\815_CowDataChecking\\20221229\\20221229_M_cow\\20221229_061532_21C6.mkv: 640x640 Done. (0.047s)\n",
      "video 1/1 (871/3933) D:\\815_CowDataChecking\\20221229\\20221229_M_cow\\20221229_061532_21C6.mkv: 640x640 Done. (0.018s)\n",
      "video 1/1 (872/3933) D:\\815_CowDataChecking\\20221229\\20221229_M_cow\\20221229_061532_21C6.mkv: 640x640 Done. (0.025s)\n",
      "video 1/1 (873/3933) D:\\815_CowDataChecking\\20221229\\20221229_M_cow\\20221229_061532_21C6.mkv: 640x640 Done. (0.019s)\n",
      "video 1/1 (874/3933) D:\\815_CowDataChecking\\20221229\\20221229_M_cow\\20221229_061532_21C6.mkv: 640x640 Done. (0.026s)\n",
      "video 1/1 (875/3933) D:\\815_CowDataChecking\\20221229\\20221229_M_cow\\20221229_061532_21C6.mkv: 640x640 Done. (0.019s)\n",
      "video 1/1 (876/3933) D:\\815_CowDataChecking\\20221229\\20221229_M_cow\\20221229_061532_21C6.mkv: 640x640 Done. (0.018s)\n",
      "video 1/1 (877/3933) D:\\815_CowDataChecking\\20221229\\20221229_M_cow\\20221229_061532_21C6.mkv: 640x640 Done. (0.018s)\n",
      "video 1/1 (878/3933) D:\\815_CowDataChecking\\20221229\\20221229_M_cow\\20221229_061532_21C6.mkv: 640x640 Done. (0.019s)\n",
      "video 1/1 (879/3933) D:\\815_CowDataChecking\\20221229\\20221229_M_cow\\20221229_061532_21C6.mkv: 640x640 Done. (0.019s)\n",
      "video 1/1 (880/3933) D:\\815_CowDataChecking\\20221229\\20221229_M_cow\\20221229_061532_21C6.mkv: 640x640 Done. (0.018s)\n",
      "video 1/1 (881/3933) D:\\815_CowDataChecking\\20221229\\20221229_M_cow\\20221229_061532_21C6.mkv: 640x640 Done. (0.020s)\n",
      "video 1/1 (882/3933) D:\\815_CowDataChecking\\20221229\\20221229_M_cow\\20221229_061532_21C6.mkv: 640x640 Done. (0.019s)\n",
      "video 1/1 (883/3933) D:\\815_CowDataChecking\\20221229\\20221229_M_cow\\20221229_061532_21C6.mkv: 640x640 Done. (0.020s)\n",
      "video 1/1 (884/3933) D:\\815_CowDataChecking\\20221229\\20221229_M_cow\\20221229_061532_21C6.mkv: 640x640 Done. (0.019s)\n",
      "video 1/1 (885/3933) D:\\815_CowDataChecking\\20221229\\20221229_M_cow\\20221229_061532_21C6.mkv: 640x640 Done. (0.018s)\n",
      "video 1/1 (886/3933) D:\\815_CowDataChecking\\20221229\\20221229_M_cow\\20221229_061532_21C6.mkv: 640x640 Done. (0.018s)\n",
      "video 1/1 (887/3933) D:\\815_CowDataChecking\\20221229\\20221229_M_cow\\20221229_061532_21C6.mkv: 640x640 Done. (0.019s)\n",
      "video 1/1 (888/3933) D:\\815_CowDataChecking\\20221229\\20221229_M_cow\\20221229_061532_21C6.mkv: 640x640 Done. (0.020s)\n",
      "video 1/1 (889/3933) D:\\815_CowDataChecking\\20221229\\20221229_M_cow\\20221229_061532_21C6.mkv: 640x640 Done. (0.018s)\n",
      "video 1/1 (890/3933) D:\\815_CowDataChecking\\20221229\\20221229_M_cow\\20221229_061532_21C6.mkv: 640x640 Done. (0.018s)\n",
      "video 1/1 (891/3933) D:\\815_CowDataChecking\\20221229\\20221229_M_cow\\20221229_061532_21C6.mkv: 640x640 Done. (0.023s)\n",
      "video 1/1 (892/3933) D:\\815_CowDataChecking\\20221229\\20221229_M_cow\\20221229_061532_21C6.mkv: 640x640 Done. (0.024s)\n",
      "video 1/1 (893/3933) D:\\815_CowDataChecking\\20221229\\20221229_M_cow\\20221229_061532_21C6.mkv: 640x640 Done. (0.025s)\n",
      "video 1/1 (894/3933) D:\\815_CowDataChecking\\20221229\\20221229_M_cow\\20221229_061532_21C6.mkv: 640x640 Done. (0.024s)\n",
      "video 1/1 (895/3933) D:\\815_CowDataChecking\\20221229\\20221229_M_cow\\20221229_061532_21C6.mkv: 640x640 Done. (0.026s)\n",
      "video 1/1 (896/3933) D:\\815_CowDataChecking\\20221229\\20221229_M_cow\\20221229_061532_21C6.mkv: 640x640 Done. (0.045s)\n",
      "video 1/1 (897/3933) D:\\815_CowDataChecking\\20221229\\20221229_M_cow\\20221229_061532_21C6.mkv: 640x640 Done. (0.047s)\n",
      "video 1/1 (898/3933) D:\\815_CowDataChecking\\20221229\\20221229_M_cow\\20221229_061532_21C6.mkv: 640x640 Done. (0.052s)\n",
      "video 1/1 (899/3933) D:\\815_CowDataChecking\\20221229\\20221229_M_cow\\20221229_061532_21C6.mkv: 640x640 Done. (0.049s)\n",
      "video 1/1 (900/3933) D:\\815_CowDataChecking\\20221229\\20221229_M_cow\\20221229_061532_21C6.mkv: 640x640 Done. (0.045s)\n",
      "video 1/1 (901/3933) D:\\815_CowDataChecking\\20221229\\20221229_M_cow\\20221229_061532_21C6.mkv: 640x640 Done. (0.045s)\n",
      "video 1/1 (902/3933) D:\\815_CowDataChecking\\20221229\\20221229_M_cow\\20221229_061532_21C6.mkv: 640x640 Done. (0.044s)\n",
      "video 1/1 (903/3933) D:\\815_CowDataChecking\\20221229\\20221229_M_cow\\20221229_061532_21C6.mkv: 640x640 Done. (0.049s)\n",
      "video 1/1 (904/3933) D:\\815_CowDataChecking\\20221229\\20221229_M_cow\\20221229_061532_21C6.mkv: 640x640 Done. (0.045s)\n",
      "video 1/1 (905/3933) D:\\815_CowDataChecking\\20221229\\20221229_M_cow\\20221229_061532_21C6.mkv: 640x640 Done. (0.049s)\n",
      "video 1/1 (906/3933) D:\\815_CowDataChecking\\20221229\\20221229_M_cow\\20221229_061532_21C6.mkv: 640x640 Done. (0.018s)\n",
      "video 1/1 (907/3933) D:\\815_CowDataChecking\\20221229\\20221229_M_cow\\20221229_061532_21C6.mkv: 640x640 Done. (0.025s)\n",
      "video 1/1 (908/3933) D:\\815_CowDataChecking\\20221229\\20221229_M_cow\\20221229_061532_21C6.mkv: 640x640 Done. (0.017s)\n",
      "video 1/1 (909/3933) D:\\815_CowDataChecking\\20221229\\20221229_M_cow\\20221229_061532_21C6.mkv: 640x640 Done. (0.017s)\n",
      "video 1/1 (910/3933) D:\\815_CowDataChecking\\20221229\\20221229_M_cow\\20221229_061532_21C6.mkv: 640x640 Done. (0.018s)\n",
      "video 1/1 (911/3933) D:\\815_CowDataChecking\\20221229\\20221229_M_cow\\20221229_061532_21C6.mkv: 640x640 Done. (0.017s)\n",
      "video 1/1 (912/3933) D:\\815_CowDataChecking\\20221229\\20221229_M_cow\\20221229_061532_21C6.mkv: 640x640 Done. (0.017s)\n",
      "video 1/1 (913/3933) D:\\815_CowDataChecking\\20221229\\20221229_M_cow\\20221229_061532_21C6.mkv: 640x640 Done. (0.017s)\n",
      "video 1/1 (914/3933) D:\\815_CowDataChecking\\20221229\\20221229_M_cow\\20221229_061532_21C6.mkv: 640x640 Done. (0.016s)\n",
      "video 1/1 (915/3933) D:\\815_CowDataChecking\\20221229\\20221229_M_cow\\20221229_061532_21C6.mkv: 640x640 Done. (0.016s)\n",
      "video 1/1 (916/3933) D:\\815_CowDataChecking\\20221229\\20221229_M_cow\\20221229_061532_21C6.mkv: 640x640 Done. (0.017s)\n",
      "video 1/1 (917/3933) D:\\815_CowDataChecking\\20221229\\20221229_M_cow\\20221229_061532_21C6.mkv: 640x640 Done. (0.016s)\n",
      "video 1/1 (918/3933) D:\\815_CowDataChecking\\20221229\\20221229_M_cow\\20221229_061532_21C6.mkv: 640x640 Done. (0.016s)\n",
      "video 1/1 (919/3933) D:\\815_CowDataChecking\\20221229\\20221229_M_cow\\20221229_061532_21C6.mkv: 640x640 Done. (0.026s)\n",
      "video 1/1 (920/3933) D:\\815_CowDataChecking\\20221229\\20221229_M_cow\\20221229_061532_21C6.mkv: 640x640 Done. (0.023s)\n",
      "video 1/1 (921/3933) D:\\815_CowDataChecking\\20221229\\20221229_M_cow\\20221229_061532_21C6.mkv: 640x640 Done. (0.020s)\n",
      "video 1/1 (922/3933) D:\\815_CowDataChecking\\20221229\\20221229_M_cow\\20221229_061532_21C6.mkv: 640x640 Done. (0.018s)\n",
      "video 1/1 (923/3933) D:\\815_CowDataChecking\\20221229\\20221229_M_cow\\20221229_061532_21C6.mkv: 640x640 Done. (0.034s)\n",
      "video 1/1 (924/3933) D:\\815_CowDataChecking\\20221229\\20221229_M_cow\\20221229_061532_21C6.mkv: 640x640 Done. (0.017s)\n",
      "video 1/1 (925/3933) D:\\815_CowDataChecking\\20221229\\20221229_M_cow\\20221229_061532_21C6.mkv: 640x640 Done. (0.017s)\n",
      "video 1/1 (926/3933) D:\\815_CowDataChecking\\20221229\\20221229_M_cow\\20221229_061532_21C6.mkv: 640x640 Done. (0.042s)\n",
      "video 1/1 (927/3933) D:\\815_CowDataChecking\\20221229\\20221229_M_cow\\20221229_061532_21C6.mkv: 640x640 Done. (0.046s)\n",
      "video 1/1 (928/3933) D:\\815_CowDataChecking\\20221229\\20221229_M_cow\\20221229_061532_21C6.mkv: 640x640 Done. (0.047s)\n",
      "video 1/1 (929/3933) D:\\815_CowDataChecking\\20221229\\20221229_M_cow\\20221229_061532_21C6.mkv: 640x640 Done. (0.046s)\n",
      "video 1/1 (930/3933) D:\\815_CowDataChecking\\20221229\\20221229_M_cow\\20221229_061532_21C6.mkv: 640x640 Done. (0.019s)\n",
      "video 1/1 (931/3933) D:\\815_CowDataChecking\\20221229\\20221229_M_cow\\20221229_061532_21C6.mkv: 640x640 Done. (0.018s)\n",
      "video 1/1 (932/3933) D:\\815_CowDataChecking\\20221229\\20221229_M_cow\\20221229_061532_21C6.mkv: 640x640 Done. (0.020s)\n",
      "video 1/1 (933/3933) D:\\815_CowDataChecking\\20221229\\20221229_M_cow\\20221229_061532_21C6.mkv: 640x640 Done. (0.018s)\n",
      "video 1/1 (934/3933) D:\\815_CowDataChecking\\20221229\\20221229_M_cow\\20221229_061532_21C6.mkv: 640x640 Done. (0.020s)\n",
      "video 1/1 (935/3933) D:\\815_CowDataChecking\\20221229\\20221229_M_cow\\20221229_061532_21C6.mkv: 640x640 Done. (0.017s)\n",
      "video 1/1 (936/3933) D:\\815_CowDataChecking\\20221229\\20221229_M_cow\\20221229_061532_21C6.mkv: 640x640 Done. (0.024s)\n",
      "video 1/1 (937/3933) D:\\815_CowDataChecking\\20221229\\20221229_M_cow\\20221229_061532_21C6.mkv: 640x640 Done. (0.019s)\n",
      "video 1/1 (938/3933) D:\\815_CowDataChecking\\20221229\\20221229_M_cow\\20221229_061532_21C6.mkv: 640x640 Done. (0.018s)\n",
      "video 1/1 (939/3933) D:\\815_CowDataChecking\\20221229\\20221229_M_cow\\20221229_061532_21C6.mkv: 640x640 Done. (0.018s)\n",
      "video 1/1 (940/3933) D:\\815_CowDataChecking\\20221229\\20221229_M_cow\\20221229_061532_21C6.mkv: 640x640 Done. (0.018s)\n",
      "video 1/1 (941/3933) D:\\815_CowDataChecking\\20221229\\20221229_M_cow\\20221229_061532_21C6.mkv: 640x640 Done. (0.025s)\n",
      "video 1/1 (942/3933) D:\\815_CowDataChecking\\20221229\\20221229_M_cow\\20221229_061532_21C6.mkv: 640x640 Done. (0.019s)\n",
      "video 1/1 (943/3933) D:\\815_CowDataChecking\\20221229\\20221229_M_cow\\20221229_061532_21C6.mkv: 640x640 Done. (0.018s)\n",
      "video 1/1 (944/3933) D:\\815_CowDataChecking\\20221229\\20221229_M_cow\\20221229_061532_21C6.mkv: 640x640 Done. (0.020s)\n",
      "video 1/1 (945/3933) D:\\815_CowDataChecking\\20221229\\20221229_M_cow\\20221229_061532_21C6.mkv: 640x640 Done. (0.020s)\n",
      "video 1/1 (946/3933) D:\\815_CowDataChecking\\20221229\\20221229_M_cow\\20221229_061532_21C6.mkv: 640x640 Done. (0.019s)\n",
      "video 1/1 (947/3933) D:\\815_CowDataChecking\\20221229\\20221229_M_cow\\20221229_061532_21C6.mkv: 640x640 Done. (0.021s)\n",
      "video 1/1 (948/3933) D:\\815_CowDataChecking\\20221229\\20221229_M_cow\\20221229_061532_21C6.mkv: 640x640 Done. (0.018s)\n",
      "video 1/1 (949/3933) D:\\815_CowDataChecking\\20221229\\20221229_M_cow\\20221229_061532_21C6.mkv: 640x640 Done. (0.019s)\n",
      "video 1/1 (950/3933) D:\\815_CowDataChecking\\20221229\\20221229_M_cow\\20221229_061532_21C6.mkv: 640x640 Done. (0.041s)\n",
      "video 1/1 (951/3933) D:\\815_CowDataChecking\\20221229\\20221229_M_cow\\20221229_061532_21C6.mkv: 640x640 Done. (0.042s)\n",
      "video 1/1 (952/3933) D:\\815_CowDataChecking\\20221229\\20221229_M_cow\\20221229_061532_21C6.mkv: 640x640 Done. (0.020s)\n",
      "video 1/1 (953/3933) D:\\815_CowDataChecking\\20221229\\20221229_M_cow\\20221229_061532_21C6.mkv: 640x640 Done. (0.022s)\n",
      "video 1/1 (954/3933) D:\\815_CowDataChecking\\20221229\\20221229_M_cow\\20221229_061532_21C6.mkv: 640x640 Done. (0.019s)\n",
      "video 1/1 (955/3933) D:\\815_CowDataChecking\\20221229\\20221229_M_cow\\20221229_061532_21C6.mkv: 640x640 Done. (0.020s)\n",
      "video 1/1 (956/3933) D:\\815_CowDataChecking\\20221229\\20221229_M_cow\\20221229_061532_21C6.mkv: 640x640 Done. (0.019s)\n",
      "video 1/1 (957/3933) D:\\815_CowDataChecking\\20221229\\20221229_M_cow\\20221229_061532_21C6.mkv: 640x640 Done. (0.020s)\n",
      "video 1/1 (958/3933) D:\\815_CowDataChecking\\20221229\\20221229_M_cow\\20221229_061532_21C6.mkv: 640x640 Done. (0.019s)\n",
      "video 1/1 (959/3933) D:\\815_CowDataChecking\\20221229\\20221229_M_cow\\20221229_061532_21C6.mkv: 640x640 Done. (0.019s)\n",
      "video 1/1 (960/3933) D:\\815_CowDataChecking\\20221229\\20221229_M_cow\\20221229_061532_21C6.mkv: 640x640 Done. (0.023s)\n",
      "video 1/1 (961/3933) D:\\815_CowDataChecking\\20221229\\20221229_M_cow\\20221229_061532_21C6.mkv: 640x640 Done. (0.020s)\n",
      "video 1/1 (962/3933) D:\\815_CowDataChecking\\20221229\\20221229_M_cow\\20221229_061532_21C6.mkv: 640x640 Done. (0.019s)\n",
      "video 1/1 (963/3933) D:\\815_CowDataChecking\\20221229\\20221229_M_cow\\20221229_061532_21C6.mkv: 640x640 Done. (0.020s)\n",
      "video 1/1 (964/3933) D:\\815_CowDataChecking\\20221229\\20221229_M_cow\\20221229_061532_21C6.mkv: 640x640 Done. (0.022s)\n",
      "video 1/1 (965/3933) D:\\815_CowDataChecking\\20221229\\20221229_M_cow\\20221229_061532_21C6.mkv: 640x640 Done. (0.018s)\n",
      "video 1/1 (966/3933) D:\\815_CowDataChecking\\20221229\\20221229_M_cow\\20221229_061532_21C6.mkv: 640x640 Done. (0.019s)\n",
      "video 1/1 (967/3933) D:\\815_CowDataChecking\\20221229\\20221229_M_cow\\20221229_061532_21C6.mkv: 640x640 Done. (0.019s)\n",
      "video 1/1 (968/3933) D:\\815_CowDataChecking\\20221229\\20221229_M_cow\\20221229_061532_21C6.mkv: 640x640 Done. (0.025s)\n",
      "video 1/1 (969/3933) D:\\815_CowDataChecking\\20221229\\20221229_M_cow\\20221229_061532_21C6.mkv: 640x640 Done. (0.025s)\n",
      "video 1/1 (970/3933) D:\\815_CowDataChecking\\20221229\\20221229_M_cow\\20221229_061532_21C6.mkv: 640x640 Done. (0.020s)\n",
      "video 1/1 (971/3933) D:\\815_CowDataChecking\\20221229\\20221229_M_cow\\20221229_061532_21C6.mkv: 640x640 Done. (0.021s)\n",
      "video 1/1 (972/3933) D:\\815_CowDataChecking\\20221229\\20221229_M_cow\\20221229_061532_21C6.mkv: 640x640 Done. (0.045s)\n",
      "video 1/1 (973/3933) D:\\815_CowDataChecking\\20221229\\20221229_M_cow\\20221229_061532_21C6.mkv: 640x640 Done. (0.051s)\n",
      "video 1/1 (974/3933) D:\\815_CowDataChecking\\20221229\\20221229_M_cow\\20221229_061532_21C6.mkv: 640x640 Done. (0.045s)\n",
      "video 1/1 (975/3933) D:\\815_CowDataChecking\\20221229\\20221229_M_cow\\20221229_061532_21C6.mkv: 640x640 Done. (0.048s)\n",
      "video 1/1 (976/3933) D:\\815_CowDataChecking\\20221229\\20221229_M_cow\\20221229_061532_21C6.mkv: 640x640 Done. (0.055s)\n",
      "video 1/1 (977/3933) D:\\815_CowDataChecking\\20221229\\20221229_M_cow\\20221229_061532_21C6.mkv: 640x640 Done. (0.024s)\n",
      "video 1/1 (978/3933) D:\\815_CowDataChecking\\20221229\\20221229_M_cow\\20221229_061532_21C6.mkv: 640x640 Done. (0.018s)\n",
      "video 1/1 (979/3933) D:\\815_CowDataChecking\\20221229\\20221229_M_cow\\20221229_061532_21C6.mkv: 640x640 Done. (0.018s)\n",
      "video 1/1 (980/3933) D:\\815_CowDataChecking\\20221229\\20221229_M_cow\\20221229_061532_21C6.mkv: 640x640 Done. (0.017s)\n",
      "video 1/1 (981/3933) D:\\815_CowDataChecking\\20221229\\20221229_M_cow\\20221229_061532_21C6.mkv: 640x640 Done. (0.020s)\n",
      "video 1/1 (982/3933) D:\\815_CowDataChecking\\20221229\\20221229_M_cow\\20221229_061532_21C6.mkv: 640x640 Done. (0.018s)\n",
      "video 1/1 (983/3933) D:\\815_CowDataChecking\\20221229\\20221229_M_cow\\20221229_061532_21C6.mkv: 640x640 Done. (0.026s)\n",
      "video 1/1 (984/3933) D:\\815_CowDataChecking\\20221229\\20221229_M_cow\\20221229_061532_21C6.mkv: 640x640 Done. (0.019s)\n",
      "video 1/1 (985/3933) D:\\815_CowDataChecking\\20221229\\20221229_M_cow\\20221229_061532_21C6.mkv: 640x640 Done. (0.018s)\n",
      "video 1/1 (986/3933) D:\\815_CowDataChecking\\20221229\\20221229_M_cow\\20221229_061532_21C6.mkv: 640x640 Done. (0.027s)\n",
      "video 1/1 (987/3933) D:\\815_CowDataChecking\\20221229\\20221229_M_cow\\20221229_061532_21C6.mkv: 640x640 Done. (0.018s)\n",
      "video 1/1 (988/3933) D:\\815_CowDataChecking\\20221229\\20221229_M_cow\\20221229_061532_21C6.mkv: 640x640 Done. (0.016s)\n",
      "video 1/1 (989/3933) D:\\815_CowDataChecking\\20221229\\20221229_M_cow\\20221229_061532_21C6.mkv: 640x640 Done. (0.018s)\n",
      "video 1/1 (990/3933) D:\\815_CowDataChecking\\20221229\\20221229_M_cow\\20221229_061532_21C6.mkv: 640x640 Done. (0.026s)\n",
      "video 1/1 (991/3933) D:\\815_CowDataChecking\\20221229\\20221229_M_cow\\20221229_061532_21C6.mkv: 640x640 Done. (0.016s)\n",
      "video 1/1 (992/3933) D:\\815_CowDataChecking\\20221229\\20221229_M_cow\\20221229_061532_21C6.mkv: 640x640 Done. (0.017s)\n",
      "video 1/1 (993/3933) D:\\815_CowDataChecking\\20221229\\20221229_M_cow\\20221229_061532_21C6.mkv: 640x640 Done. (0.016s)\n",
      "video 1/1 (994/3933) D:\\815_CowDataChecking\\20221229\\20221229_M_cow\\20221229_061532_21C6.mkv: 640x640 Done. (0.021s)\n",
      "video 1/1 (995/3933) D:\\815_CowDataChecking\\20221229\\20221229_M_cow\\20221229_061532_21C6.mkv: 640x640 Done. (0.018s)\n",
      "video 1/1 (996/3933) D:\\815_CowDataChecking\\20221229\\20221229_M_cow\\20221229_061532_21C6.mkv: 640x640 Done. (0.020s)\n",
      "video 1/1 (997/3933) D:\\815_CowDataChecking\\20221229\\20221229_M_cow\\20221229_061532_21C6.mkv: 640x640 Done. (0.050s)\n",
      "video 1/1 (998/3933) D:\\815_CowDataChecking\\20221229\\20221229_M_cow\\20221229_061532_21C6.mkv: 640x640 Done. (0.050s)\n",
      "video 1/1 (999/3933) D:\\815_CowDataChecking\\20221229\\20221229_M_cow\\20221229_061532_21C6.mkv: 640x640 Done. (0.046s)\n",
      "video 1/1 (1000/3933) D:\\815_CowDataChecking\\20221229\\20221229_M_cow\\20221229_061532_21C6.mkv: 640x640 Done. (0.052s)\n",
      "video 1/1 (1001/3933) D:\\815_CowDataChecking\\20221229\\20221229_M_cow\\20221229_061532_21C6.mkv: 640x640 Done. (0.045s)\n",
      "video 1/1 (1002/3933) D:\\815_CowDataChecking\\20221229\\20221229_M_cow\\20221229_061532_21C6.mkv: 640x640 Done. (0.016s)\n",
      "video 1/1 (1003/3933) D:\\815_CowDataChecking\\20221229\\20221229_M_cow\\20221229_061532_21C6.mkv: 640x640 Done. (0.017s)\n",
      "video 1/1 (1004/3933) D:\\815_CowDataChecking\\20221229\\20221229_M_cow\\20221229_061532_21C6.mkv: 640x640 Done. (0.017s)\n",
      "video 1/1 (1005/3933) D:\\815_CowDataChecking\\20221229\\20221229_M_cow\\20221229_061532_21C6.mkv: 640x640 Done. (0.016s)\n",
      "video 1/1 (1006/3933) D:\\815_CowDataChecking\\20221229\\20221229_M_cow\\20221229_061532_21C6.mkv: 640x640 Done. (0.020s)\n",
      "video 1/1 (1007/3933) D:\\815_CowDataChecking\\20221229\\20221229_M_cow\\20221229_061532_21C6.mkv: 640x640 Done. (0.016s)\n",
      "video 1/1 (1008/3933) D:\\815_CowDataChecking\\20221229\\20221229_M_cow\\20221229_061532_21C6.mkv: 640x640 Done. (0.019s)\n",
      "video 1/1 (1009/3933) D:\\815_CowDataChecking\\20221229\\20221229_M_cow\\20221229_061532_21C6.mkv: 640x640 Done. (0.017s)\n",
      "video 1/1 (1010/3933) D:\\815_CowDataChecking\\20221229\\20221229_M_cow\\20221229_061532_21C6.mkv: 640x640 Done. (0.015s)\n",
      "video 1/1 (1011/3933) D:\\815_CowDataChecking\\20221229\\20221229_M_cow\\20221229_061532_21C6.mkv: 640x640 Done. (0.015s)\n",
      "video 1/1 (1012/3933) D:\\815_CowDataChecking\\20221229\\20221229_M_cow\\20221229_061532_21C6.mkv: 640x640 Done. (0.014s)\n",
      "video 1/1 (1013/3933) D:\\815_CowDataChecking\\20221229\\20221229_M_cow\\20221229_061532_21C6.mkv: 640x640 Done. (0.016s)\n",
      "video 1/1 (1014/3933) D:\\815_CowDataChecking\\20221229\\20221229_M_cow\\20221229_061532_21C6.mkv: 640x640 Done. (0.018s)\n",
      "video 1/1 (1015/3933) D:\\815_CowDataChecking\\20221229\\20221229_M_cow\\20221229_061532_21C6.mkv: 640x640 Done. (0.016s)\n",
      "video 1/1 (1016/3933) D:\\815_CowDataChecking\\20221229\\20221229_M_cow\\20221229_061532_21C6.mkv: 640x640 Done. (0.016s)\n",
      "video 1/1 (1017/3933) D:\\815_CowDataChecking\\20221229\\20221229_M_cow\\20221229_061532_21C6.mkv: 640x640 Done. (0.016s)\n",
      "video 1/1 (1018/3933) D:\\815_CowDataChecking\\20221229\\20221229_M_cow\\20221229_061532_21C6.mkv: 640x640 Done. (0.016s)\n",
      "video 1/1 (1019/3933) D:\\815_CowDataChecking\\20221229\\20221229_M_cow\\20221229_061532_21C6.mkv: 640x640 Done. (0.026s)\n",
      "video 1/1 (1020/3933) D:\\815_CowDataChecking\\20221229\\20221229_M_cow\\20221229_061532_21C6.mkv: 640x640 Done. (0.018s)\n",
      "video 1/1 (1021/3933) D:\\815_CowDataChecking\\20221229\\20221229_M_cow\\20221229_061532_21C6.mkv: 640x640 Done. (0.014s)\n",
      "video 1/1 (1022/3933) D:\\815_CowDataChecking\\20221229\\20221229_M_cow\\20221229_061532_21C6.mkv: 640x640 Done. (0.018s)\n",
      "video 1/1 (1023/3933) D:\\815_CowDataChecking\\20221229\\20221229_M_cow\\20221229_061532_21C6.mkv: 640x640 Done. (0.035s)\n",
      "video 1/1 (1024/3933) D:\\815_CowDataChecking\\20221229\\20221229_M_cow\\20221229_061532_21C6.mkv: 640x640 Done. (0.049s)\n",
      "video 1/1 (1025/3933) D:\\815_CowDataChecking\\20221229\\20221229_M_cow\\20221229_061532_21C6.mkv: 640x640 Done. (0.022s)\n",
      "video 1/1 (1026/3933) D:\\815_CowDataChecking\\20221229\\20221229_M_cow\\20221229_061532_21C6.mkv: 640x640 Done. (0.019s)\n",
      "video 1/1 (1027/3933) D:\\815_CowDataChecking\\20221229\\20221229_M_cow\\20221229_061532_21C6.mkv: 640x640 Done. (0.020s)\n",
      "video 1/1 (1028/3933) D:\\815_CowDataChecking\\20221229\\20221229_M_cow\\20221229_061532_21C6.mkv: 640x640 Done. (0.018s)\n",
      "video 1/1 (1029/3933) D:\\815_CowDataChecking\\20221229\\20221229_M_cow\\20221229_061532_21C6.mkv: 640x640 Done. (0.026s)\n",
      "video 1/1 (1030/3933) D:\\815_CowDataChecking\\20221229\\20221229_M_cow\\20221229_061532_21C6.mkv: 640x640 Done. (0.027s)\n",
      "video 1/1 (1031/3933) D:\\815_CowDataChecking\\20221229\\20221229_M_cow\\20221229_061532_21C6.mkv: 640x640 Done. (0.019s)\n",
      "video 1/1 (1032/3933) D:\\815_CowDataChecking\\20221229\\20221229_M_cow\\20221229_061532_21C6.mkv: 640x640 Done. (0.017s)\n",
      "video 1/1 (1033/3933) D:\\815_CowDataChecking\\20221229\\20221229_M_cow\\20221229_061532_21C6.mkv: 640x640 Done. (0.017s)\n",
      "video 1/1 (1034/3933) D:\\815_CowDataChecking\\20221229\\20221229_M_cow\\20221229_061532_21C6.mkv: 640x640 Done. (0.019s)\n",
      "video 1/1 (1035/3933) D:\\815_CowDataChecking\\20221229\\20221229_M_cow\\20221229_061532_21C6.mkv: 640x640 Done. (0.018s)\n",
      "video 1/1 (1036/3933) D:\\815_CowDataChecking\\20221229\\20221229_M_cow\\20221229_061532_21C6.mkv: 640x640 Done. (0.018s)\n",
      "video 1/1 (1037/3933) D:\\815_CowDataChecking\\20221229\\20221229_M_cow\\20221229_061532_21C6.mkv: 640x640 Done. (0.018s)\n",
      "video 1/1 (1038/3933) D:\\815_CowDataChecking\\20221229\\20221229_M_cow\\20221229_061532_21C6.mkv: 640x640 Done. (0.019s)\n",
      "video 1/1 (1039/3933) D:\\815_CowDataChecking\\20221229\\20221229_M_cow\\20221229_061532_21C6.mkv: 640x640 Done. (0.019s)\n",
      "video 1/1 (1040/3933) D:\\815_CowDataChecking\\20221229\\20221229_M_cow\\20221229_061532_21C6.mkv: 640x640 Done. (0.020s)\n",
      "video 1/1 (1041/3933) D:\\815_CowDataChecking\\20221229\\20221229_M_cow\\20221229_061532_21C6.mkv: 640x640 Done. (0.018s)\n",
      "video 1/1 (1042/3933) D:\\815_CowDataChecking\\20221229\\20221229_M_cow\\20221229_061532_21C6.mkv: 640x640 Done. (0.018s)\n",
      "video 1/1 (1043/3933) D:\\815_CowDataChecking\\20221229\\20221229_M_cow\\20221229_061532_21C6.mkv: 640x640 Done. (0.019s)\n",
      "video 1/1 (1044/3933) D:\\815_CowDataChecking\\20221229\\20221229_M_cow\\20221229_061532_21C6.mkv: 640x640 Done. (0.020s)\n",
      "video 1/1 (1045/3933) D:\\815_CowDataChecking\\20221229\\20221229_M_cow\\20221229_061532_21C6.mkv: 640x640 Done. (0.053s)\n",
      "video 1/1 (1046/3933) D:\\815_CowDataChecking\\20221229\\20221229_M_cow\\20221229_061532_21C6.mkv: 640x640 Done. (0.052s)\n",
      "video 1/1 (1047/3933) D:\\815_CowDataChecking\\20221229\\20221229_M_cow\\20221229_061532_21C6.mkv: 640x640 Done. (0.020s)\n",
      "video 1/1 (1048/3933) D:\\815_CowDataChecking\\20221229\\20221229_M_cow\\20221229_061532_21C6.mkv: 640x640 Done. (0.019s)\n",
      "video 1/1 (1049/3933) D:\\815_CowDataChecking\\20221229\\20221229_M_cow\\20221229_061532_21C6.mkv: 640x640 Done. (0.019s)\n",
      "video 1/1 (1050/3933) D:\\815_CowDataChecking\\20221229\\20221229_M_cow\\20221229_061532_21C6.mkv: 640x640 Done. (0.025s)\n",
      "video 1/1 (1051/3933) D:\\815_CowDataChecking\\20221229\\20221229_M_cow\\20221229_061532_21C6.mkv: 640x640 Done. (0.019s)\n",
      "video 1/1 (1052/3933) D:\\815_CowDataChecking\\20221229\\20221229_M_cow\\20221229_061532_21C6.mkv: 640x640 Done. (0.026s)\n",
      "video 1/1 (1053/3933) D:\\815_CowDataChecking\\20221229\\20221229_M_cow\\20221229_061532_21C6.mkv: 640x640 Done. (0.019s)\n",
      "video 1/1 (1054/3933) D:\\815_CowDataChecking\\20221229\\20221229_M_cow\\20221229_061532_21C6.mkv: 640x640 Done. (0.020s)\n",
      "video 1/1 (1055/3933) D:\\815_CowDataChecking\\20221229\\20221229_M_cow\\20221229_061532_21C6.mkv: 640x640 Done. (0.017s)\n",
      "video 1/1 (1056/3933) D:\\815_CowDataChecking\\20221229\\20221229_M_cow\\20221229_061532_21C6.mkv: 640x640 Done. (0.019s)\n",
      "video 1/1 (1057/3933) D:\\815_CowDataChecking\\20221229\\20221229_M_cow\\20221229_061532_21C6.mkv: 640x640 Done. (0.020s)\n",
      "video 1/1 (1058/3933) D:\\815_CowDataChecking\\20221229\\20221229_M_cow\\20221229_061532_21C6.mkv: 640x640 Done. (0.020s)\n",
      "video 1/1 (1059/3933) D:\\815_CowDataChecking\\20221229\\20221229_M_cow\\20221229_061532_21C6.mkv: 640x640 Done. (0.019s)\n",
      "video 1/1 (1060/3933) D:\\815_CowDataChecking\\20221229\\20221229_M_cow\\20221229_061532_21C6.mkv: 640x640 Done. (0.018s)\n",
      "video 1/1 (1061/3933) D:\\815_CowDataChecking\\20221229\\20221229_M_cow\\20221229_061532_21C6.mkv: 640x640 Done. (0.018s)\n",
      "video 1/1 (1062/3933) D:\\815_CowDataChecking\\20221229\\20221229_M_cow\\20221229_061532_21C6.mkv: 640x640 Done. (0.019s)\n",
      "video 1/1 (1063/3933) D:\\815_CowDataChecking\\20221229\\20221229_M_cow\\20221229_061532_21C6.mkv: 640x640 Done. (0.018s)\n",
      "video 1/1 (1064/3933) D:\\815_CowDataChecking\\20221229\\20221229_M_cow\\20221229_061532_21C6.mkv: 640x640 Done. (0.018s)\n",
      "video 1/1 (1065/3933) D:\\815_CowDataChecking\\20221229\\20221229_M_cow\\20221229_061532_21C6.mkv: 640x640 Done. (0.022s)\n",
      "video 1/1 (1066/3933) D:\\815_CowDataChecking\\20221229\\20221229_M_cow\\20221229_061532_21C6.mkv: 640x640 Done. (0.023s)\n",
      "video 1/1 (1067/3933) D:\\815_CowDataChecking\\20221229\\20221229_M_cow\\20221229_061532_21C6.mkv: 640x640 Done. (0.024s)\n",
      "video 1/1 (1068/3933) D:\\815_CowDataChecking\\20221229\\20221229_M_cow\\20221229_061532_21C6.mkv: 640x640 Done. (0.024s)\n",
      "video 1/1 (1069/3933) D:\\815_CowDataChecking\\20221229\\20221229_M_cow\\20221229_061532_21C6.mkv: 640x640 Done. (0.050s)\n",
      "video 1/1 (1070/3933) D:\\815_CowDataChecking\\20221229\\20221229_M_cow\\20221229_061532_21C6.mkv: 640x640 Done. (0.047s)\n",
      "video 1/1 (1071/3933) D:\\815_CowDataChecking\\20221229\\20221229_M_cow\\20221229_061532_21C6.mkv: 640x640 Done. (0.048s)\n",
      "video 1/1 (1072/3933) D:\\815_CowDataChecking\\20221229\\20221229_M_cow\\20221229_061532_21C6.mkv: 640x640 Done. (0.041s)\n",
      "video 1/1 (1073/3933) D:\\815_CowDataChecking\\20221229\\20221229_M_cow\\20221229_061532_21C6.mkv: 640x640 Done. (0.048s)\n",
      "video 1/1 (1074/3933) D:\\815_CowDataChecking\\20221229\\20221229_M_cow\\20221229_061532_21C6.mkv: 640x640 Done. (0.046s)\n",
      "video 1/1 (1075/3933) D:\\815_CowDataChecking\\20221229\\20221229_M_cow\\20221229_061532_21C6.mkv: 640x640 Done. (0.045s)\n",
      "video 1/1 (1076/3933) D:\\815_CowDataChecking\\20221229\\20221229_M_cow\\20221229_061532_21C6.mkv: 640x640 Done. (0.019s)\n",
      "video 1/1 (1077/3933) D:\\815_CowDataChecking\\20221229\\20221229_M_cow\\20221229_061532_21C6.mkv: 640x640 Done. (0.024s)\n",
      "video 1/1 (1078/3933) D:\\815_CowDataChecking\\20221229\\20221229_M_cow\\20221229_061532_21C6.mkv: 640x640 Done. (0.018s)\n",
      "video 1/1 (1079/3933) D:\\815_CowDataChecking\\20221229\\20221229_M_cow\\20221229_061532_21C6.mkv: 640x640 Done. (0.038s)\n",
      "video 1/1 (1080/3933) D:\\815_CowDataChecking\\20221229\\20221229_M_cow\\20221229_061532_21C6.mkv: 640x640 Done. (0.025s)\n",
      "video 1/1 (1081/3933) D:\\815_CowDataChecking\\20221229\\20221229_M_cow\\20221229_061532_21C6.mkv: 640x640 Done. (0.026s)\n",
      "video 1/1 (1082/3933) D:\\815_CowDataChecking\\20221229\\20221229_M_cow\\20221229_061532_21C6.mkv: 640x640 Done. (0.017s)\n",
      "video 1/1 (1083/3933) D:\\815_CowDataChecking\\20221229\\20221229_M_cow\\20221229_061532_21C6.mkv: 640x640 Done. (0.026s)\n",
      "video 1/1 (1084/3933) D:\\815_CowDataChecking\\20221229\\20221229_M_cow\\20221229_061532_21C6.mkv: 640x640 Done. (0.017s)\n",
      "video 1/1 (1085/3933) D:\\815_CowDataChecking\\20221229\\20221229_M_cow\\20221229_061532_21C6.mkv: 640x640 Done. (0.017s)\n",
      "video 1/1 (1086/3933) D:\\815_CowDataChecking\\20221229\\20221229_M_cow\\20221229_061532_21C6.mkv: 640x640 Done. (0.019s)\n",
      "video 1/1 (1087/3933) D:\\815_CowDataChecking\\20221229\\20221229_M_cow\\20221229_061532_21C6.mkv: 640x640 Done. (0.016s)\n",
      "video 1/1 (1088/3933) D:\\815_CowDataChecking\\20221229\\20221229_M_cow\\20221229_061532_21C6.mkv: 640x640 Done. (0.022s)\n",
      "video 1/1 (1089/3933) D:\\815_CowDataChecking\\20221229\\20221229_M_cow\\20221229_061532_21C6.mkv: 640x640 Done. (0.018s)\n",
      "video 1/1 (1090/3933) D:\\815_CowDataChecking\\20221229\\20221229_M_cow\\20221229_061532_21C6.mkv: 640x640 Done. (0.018s)\n",
      "video 1/1 (1091/3933) D:\\815_CowDataChecking\\20221229\\20221229_M_cow\\20221229_061532_21C6.mkv: 640x640 Done. (0.017s)\n",
      "video 1/1 (1092/3933) D:\\815_CowDataChecking\\20221229\\20221229_M_cow\\20221229_061532_21C6.mkv: 640x640 Done. (0.018s)\n",
      "video 1/1 (1093/3933) D:\\815_CowDataChecking\\20221229\\20221229_M_cow\\20221229_061532_21C6.mkv: 640x640 Done. (0.022s)\n",
      "video 1/1 (1094/3933) D:\\815_CowDataChecking\\20221229\\20221229_M_cow\\20221229_061532_21C6.mkv: 640x640 Done. (0.020s)\n",
      "video 1/1 (1095/3933) D:\\815_CowDataChecking\\20221229\\20221229_M_cow\\20221229_061532_21C6.mkv: 640x640 Done. (0.022s)\n",
      "video 1/1 (1096/3933) D:\\815_CowDataChecking\\20221229\\20221229_M_cow\\20221229_061532_21C6.mkv: 640x640 Done. (0.050s)\n",
      "video 1/1 (1097/3933) D:\\815_CowDataChecking\\20221229\\20221229_M_cow\\20221229_061532_21C6.mkv: 640x640 Done. (0.048s)\n",
      "video 1/1 (1098/3933) D:\\815_CowDataChecking\\20221229\\20221229_M_cow\\20221229_061532_21C6.mkv: 640x640 Done. (0.048s)\n",
      "video 1/1 (1099/3933) D:\\815_CowDataChecking\\20221229\\20221229_M_cow\\20221229_061532_21C6.mkv: 640x640 Done. (0.021s)\n",
      "video 1/1 (1100/3933) D:\\815_CowDataChecking\\20221229\\20221229_M_cow\\20221229_061532_21C6.mkv: 640x640 Done. (0.020s)\n",
      "video 1/1 (1101/3933) D:\\815_CowDataChecking\\20221229\\20221229_M_cow\\20221229_061532_21C6.mkv: 640x640 Done. (0.020s)\n",
      "video 1/1 (1102/3933) D:\\815_CowDataChecking\\20221229\\20221229_M_cow\\20221229_061532_21C6.mkv: 640x640 Done. (0.020s)\n",
      "video 1/1 (1103/3933) D:\\815_CowDataChecking\\20221229\\20221229_M_cow\\20221229_061532_21C6.mkv: 640x640 Done. (0.021s)\n",
      "video 1/1 (1104/3933) D:\\815_CowDataChecking\\20221229\\20221229_M_cow\\20221229_061532_21C6.mkv: 640x640 Done. (0.021s)\n",
      "video 1/1 (1105/3933) D:\\815_CowDataChecking\\20221229\\20221229_M_cow\\20221229_061532_21C6.mkv: 640x640 Done. (0.024s)\n",
      "video 1/1 (1106/3933) D:\\815_CowDataChecking\\20221229\\20221229_M_cow\\20221229_061532_21C6.mkv: 640x640 Done. (0.051s)\n",
      "video 1/1 (1107/3933) D:\\815_CowDataChecking\\20221229\\20221229_M_cow\\20221229_061532_21C6.mkv: 640x640 Done. (0.045s)\n",
      "video 1/1 (1108/3933) D:\\815_CowDataChecking\\20221229\\20221229_M_cow\\20221229_061532_21C6.mkv: 640x640 Done. (0.019s)\n",
      "video 1/1 (1109/3933) D:\\815_CowDataChecking\\20221229\\20221229_M_cow\\20221229_061532_21C6.mkv: 640x640 Done. (0.024s)\n",
      "video 1/1 (1110/3933) D:\\815_CowDataChecking\\20221229\\20221229_M_cow\\20221229_061532_21C6.mkv: 640x640 Done. (0.025s)\n",
      "video 1/1 (1111/3933) D:\\815_CowDataChecking\\20221229\\20221229_M_cow\\20221229_061532_21C6.mkv: 640x640 Done. (0.019s)\n",
      "video 1/1 (1112/3933) D:\\815_CowDataChecking\\20221229\\20221229_M_cow\\20221229_061532_21C6.mkv: 640x640 Done. (0.021s)\n",
      "video 1/1 (1113/3933) D:\\815_CowDataChecking\\20221229\\20221229_M_cow\\20221229_061532_21C6.mkv: 640x640 Done. (0.018s)\n",
      "video 1/1 (1114/3933) D:\\815_CowDataChecking\\20221229\\20221229_M_cow\\20221229_061532_21C6.mkv: 640x640 Done. (0.017s)\n",
      "video 1/1 (1115/3933) D:\\815_CowDataChecking\\20221229\\20221229_M_cow\\20221229_061532_21C6.mkv: 640x640 Done. (0.020s)\n",
      "video 1/1 (1116/3933) D:\\815_CowDataChecking\\20221229\\20221229_M_cow\\20221229_061532_21C6.mkv: 640x640 Done. (0.018s)\n",
      "video 1/1 (1117/3933) D:\\815_CowDataChecking\\20221229\\20221229_M_cow\\20221229_061532_21C6.mkv: 640x640 Done. (0.018s)\n",
      "video 1/1 (1118/3933) D:\\815_CowDataChecking\\20221229\\20221229_M_cow\\20221229_061532_21C6.mkv: 640x640 Done. (0.019s)\n",
      "video 1/1 (1119/3933) D:\\815_CowDataChecking\\20221229\\20221229_M_cow\\20221229_061532_21C6.mkv: 640x640 Done. (0.019s)\n",
      "video 1/1 (1120/3933) D:\\815_CowDataChecking\\20221229\\20221229_M_cow\\20221229_061532_21C6.mkv: 640x640 Done. (0.018s)\n",
      "video 1/1 (1121/3933) D:\\815_CowDataChecking\\20221229\\20221229_M_cow\\20221229_061532_21C6.mkv: 640x640 Done. (0.018s)\n",
      "video 1/1 (1122/3933) D:\\815_CowDataChecking\\20221229\\20221229_M_cow\\20221229_061532_21C6.mkv: 640x640 Done. (0.018s)\n",
      "video 1/1 (1123/3933) D:\\815_CowDataChecking\\20221229\\20221229_M_cow\\20221229_061532_21C6.mkv: 640x640 Done. (0.019s)\n",
      "video 1/1 (1124/3933) D:\\815_CowDataChecking\\20221229\\20221229_M_cow\\20221229_061532_21C6.mkv: 640x640 Done. (0.025s)\n",
      "video 1/1 (1125/3933) D:\\815_CowDataChecking\\20221229\\20221229_M_cow\\20221229_061532_21C6.mkv: 640x640 Done. (0.024s)\n",
      "video 1/1 (1126/3933) D:\\815_CowDataChecking\\20221229\\20221229_M_cow\\20221229_061532_21C6.mkv: 640x640 Done. (0.018s)\n",
      "video 1/1 (1127/3933) D:\\815_CowDataChecking\\20221229\\20221229_M_cow\\20221229_061532_21C6.mkv: 640x640 Done. (0.018s)\n",
      "video 1/1 (1128/3933) D:\\815_CowDataChecking\\20221229\\20221229_M_cow\\20221229_061532_21C6.mkv: 640x640 Done. (0.026s)\n",
      "video 1/1 (1129/3933) D:\\815_CowDataChecking\\20221229\\20221229_M_cow\\20221229_061532_21C6.mkv: 640x640 Done. (0.023s)\n",
      "video 1/1 (1130/3933) D:\\815_CowDataChecking\\20221229\\20221229_M_cow\\20221229_061532_21C6.mkv: 640x640 Done. (0.022s)\n",
      "video 1/1 (1131/3933) D:\\815_CowDataChecking\\20221229\\20221229_M_cow\\20221229_061532_21C6.mkv: 640x640 Done. (0.024s)\n",
      "video 1/1 (1132/3933) D:\\815_CowDataChecking\\20221229\\20221229_M_cow\\20221229_061532_21C6.mkv: 640x640 Done. (0.048s)\n",
      "video 1/1 (1133/3933) D:\\815_CowDataChecking\\20221229\\20221229_M_cow\\20221229_061532_21C6.mkv: 640x640 Done. (0.048s)\n",
      "video 1/1 (1134/3933) D:\\815_CowDataChecking\\20221229\\20221229_M_cow\\20221229_061532_21C6.mkv: 640x640 Done. (0.048s)\n",
      "video 1/1 (1135/3933) D:\\815_CowDataChecking\\20221229\\20221229_M_cow\\20221229_061532_21C6.mkv: 640x640 Done. (0.044s)\n",
      "video 1/1 (1136/3933) D:\\815_CowDataChecking\\20221229\\20221229_M_cow\\20221229_061532_21C6.mkv: 640x640 Done. (0.053s)\n",
      "video 1/1 (1137/3933) D:\\815_CowDataChecking\\20221229\\20221229_M_cow\\20221229_061532_21C6.mkv: 640x640 Done. (0.019s)\n",
      "video 1/1 (1138/3933) D:\\815_CowDataChecking\\20221229\\20221229_M_cow\\20221229_061532_21C6.mkv: 640x640 Done. (0.022s)\n",
      "video 1/1 (1139/3933) D:\\815_CowDataChecking\\20221229\\20221229_M_cow\\20221229_061532_21C6.mkv: 640x640 Done. (0.025s)\n",
      "video 1/1 (1140/3933) D:\\815_CowDataChecking\\20221229\\20221229_M_cow\\20221229_061532_21C6.mkv: 640x640 Done. (0.019s)\n",
      "video 1/1 (1141/3933) D:\\815_CowDataChecking\\20221229\\20221229_M_cow\\20221229_061532_21C6.mkv: 640x640 Done. (0.018s)\n",
      "video 1/1 (1142/3933) D:\\815_CowDataChecking\\20221229\\20221229_M_cow\\20221229_061532_21C6.mkv: 640x640 Done. (0.017s)\n",
      "video 1/1 (1143/3933) D:\\815_CowDataChecking\\20221229\\20221229_M_cow\\20221229_061532_21C6.mkv: 640x640 Done. (0.019s)\n",
      "video 1/1 (1144/3933) D:\\815_CowDataChecking\\20221229\\20221229_M_cow\\20221229_061532_21C6.mkv: 640x640 Done. (0.018s)\n",
      "video 1/1 (1145/3933) D:\\815_CowDataChecking\\20221229\\20221229_M_cow\\20221229_061532_21C6.mkv: 640x640 Done. (0.018s)\n",
      "video 1/1 (1146/3933) D:\\815_CowDataChecking\\20221229\\20221229_M_cow\\20221229_061532_21C6.mkv: 640x640 Done. (0.021s)\n",
      "video 1/1 (1147/3933) D:\\815_CowDataChecking\\20221229\\20221229_M_cow\\20221229_061532_21C6.mkv: 640x640 Done. (0.021s)\n",
      "video 1/1 (1148/3933) D:\\815_CowDataChecking\\20221229\\20221229_M_cow\\20221229_061532_21C6.mkv: 640x640 1 cow, Done. (0.018s)\n",
      "video 1/1 (1149/3933) D:\\815_CowDataChecking\\20221229\\20221229_M_cow\\20221229_061532_21C6.mkv: 640x640 1 cow, Done. (0.016s)\n",
      "video 1/1 (1150/3933) D:\\815_CowDataChecking\\20221229\\20221229_M_cow\\20221229_061532_21C6.mkv: 640x640 1 cow, Done. (0.018s)\n",
      "video 1/1 (1151/3933) D:\\815_CowDataChecking\\20221229\\20221229_M_cow\\20221229_061532_21C6.mkv: 640x640 1 cow, Done. (0.026s)\n",
      "video 1/1 (1152/3933) D:\\815_CowDataChecking\\20221229\\20221229_M_cow\\20221229_061532_21C6.mkv: 640x640 1 cow, Done. (0.017s)\n",
      "video 1/1 (1153/3933) D:\\815_CowDataChecking\\20221229\\20221229_M_cow\\20221229_061532_21C6.mkv: 640x640 1 cow, Done. (0.019s)\n",
      "video 1/1 (1154/3933) D:\\815_CowDataChecking\\20221229\\20221229_M_cow\\20221229_061532_21C6.mkv: 640x640 1 cow, Done. (0.018s)\n",
      "video 1/1 (1155/3933) D:\\815_CowDataChecking\\20221229\\20221229_M_cow\\20221229_061532_21C6.mkv: 640x640 1 cow, Done. (0.019s)\n",
      "video 1/1 (1156/3933) D:\\815_CowDataChecking\\20221229\\20221229_M_cow\\20221229_061532_21C6.mkv: 640x640 1 cow, Done. (0.019s)\n",
      "video 1/1 (1157/3933) D:\\815_CowDataChecking\\20221229\\20221229_M_cow\\20221229_061532_21C6.mkv: 640x640 1 cow, Done. (0.049s)\n",
      "video 1/1 (1158/3933) D:\\815_CowDataChecking\\20221229\\20221229_M_cow\\20221229_061532_21C6.mkv: 640x640 1 cow, Done. (0.052s)\n",
      "video 1/1 (1159/3933) D:\\815_CowDataChecking\\20221229\\20221229_M_cow\\20221229_061532_21C6.mkv: 640x640 1 cow, Done. (0.020s)\n",
      "video 1/1 (1160/3933) D:\\815_CowDataChecking\\20221229\\20221229_M_cow\\20221229_061532_21C6.mkv: 640x640 1 cow, Done. (0.025s)\n",
      "video 1/1 (1161/3933) D:\\815_CowDataChecking\\20221229\\20221229_M_cow\\20221229_061532_21C6.mkv: 640x640 1 cow, Done. (0.019s)\n",
      "video 1/1 (1162/3933) D:\\815_CowDataChecking\\20221229\\20221229_M_cow\\20221229_061532_21C6.mkv: 640x640 1 cow, Done. (0.019s)\n",
      "video 1/1 (1163/3933) D:\\815_CowDataChecking\\20221229\\20221229_M_cow\\20221229_061532_21C6.mkv: 640x640 1 cow, Done. (0.022s)\n",
      "video 1/1 (1164/3933) D:\\815_CowDataChecking\\20221229\\20221229_M_cow\\20221229_061532_21C6.mkv: 640x640 1 cow, Done. (0.016s)\n",
      "video 1/1 (1165/3933) D:\\815_CowDataChecking\\20221229\\20221229_M_cow\\20221229_061532_21C6.mkv: 640x640 1 cow, Done. (0.019s)\n",
      "video 1/1 (1166/3933) D:\\815_CowDataChecking\\20221229\\20221229_M_cow\\20221229_061532_21C6.mkv: 640x640 1 cow, Done. (0.026s)\n",
      "video 1/1 (1167/3933) D:\\815_CowDataChecking\\20221229\\20221229_M_cow\\20221229_061532_21C6.mkv: 640x640 1 cow, Done. (0.021s)\n",
      "video 1/1 (1168/3933) D:\\815_CowDataChecking\\20221229\\20221229_M_cow\\20221229_061532_21C6.mkv: 640x640 1 cow, Done. (0.022s)\n",
      "video 1/1 (1169/3933) D:\\815_CowDataChecking\\20221229\\20221229_M_cow\\20221229_061532_21C6.mkv: 640x640 1 cow, Done. (0.024s)\n",
      "video 1/1 (1170/3933) D:\\815_CowDataChecking\\20221229\\20221229_M_cow\\20221229_061532_21C6.mkv: 640x640 1 cow, Done. (0.019s)\n",
      "video 1/1 (1171/3933) D:\\815_CowDataChecking\\20221229\\20221229_M_cow\\20221229_061532_21C6.mkv: 640x640 1 cow, Done. (0.019s)\n",
      "video 1/1 (1172/3933) D:\\815_CowDataChecking\\20221229\\20221229_M_cow\\20221229_061532_21C6.mkv: 640x640 1 cow, Done. (0.024s)\n",
      "video 1/1 (1173/3933) D:\\815_CowDataChecking\\20221229\\20221229_M_cow\\20221229_061532_21C6.mkv: 640x640 1 cow, Done. (0.019s)\n",
      "video 1/1 (1174/3933) D:\\815_CowDataChecking\\20221229\\20221229_M_cow\\20221229_061532_21C6.mkv: 640x640 1 cow, Done. (0.020s)\n",
      "video 1/1 (1175/3933) D:\\815_CowDataChecking\\20221229\\20221229_M_cow\\20221229_061532_21C6.mkv: 640x640 1 cow, Done. (0.019s)\n",
      "video 1/1 (1176/3933) D:\\815_CowDataChecking\\20221229\\20221229_M_cow\\20221229_061532_21C6.mkv: 640x640 1 cow, Done. (0.020s)\n",
      "video 1/1 (1177/3933) D:\\815_CowDataChecking\\20221229\\20221229_M_cow\\20221229_061532_21C6.mkv: 640x640 1 cow, Done. (0.021s)\n",
      "video 1/1 (1178/3933) D:\\815_CowDataChecking\\20221229\\20221229_M_cow\\20221229_061532_21C6.mkv: 640x640 1 cow, Done. (0.022s)\n",
      "video 1/1 (1179/3933) D:\\815_CowDataChecking\\20221229\\20221229_M_cow\\20221229_061532_21C6.mkv: 640x640 1 cow, Done. (0.021s)\n",
      "C:\\Users\\thithilab\\anaconda3\\envs\\yolov5_april\\lib\\site-packages\\ipykernel_launcher.py:11: FutureWarning: `multichannel` is a deprecated argument name for `hog`. It will be removed in version 1.0. Please use `channel_axis` instead.\n",
      "  # This is added back by InteractiveShellApp.init_path()\n",
      "C:\\Users\\thithilab\\anaconda3\\envs\\yolov5_april\\lib\\site-packages\\sklearn\\preprocessing\\_label.py:154: DataConversionWarning: A column-vector y was passed when a 1d array was expected. Please change the shape of y to (n_samples, ), for example using ravel().\n",
      "  y = column_or_1d(y, warn=True)\n",
      "video 1/1 (1180/3933) D:\\815_CowDataChecking\\20221229\\20221229_M_cow\\20221229_061532_21C6.mkv: 640x640 1 cow, Done. (0.026s)\n",
      "C:\\Users\\thithilab\\anaconda3\\envs\\yolov5_april\\lib\\site-packages\\ipykernel_launcher.py:11: FutureWarning: `multichannel` is a deprecated argument name for `hog`. It will be removed in version 1.0. Please use `channel_axis` instead.\n",
      "  # This is added back by InteractiveShellApp.init_path()\n",
      "C:\\Users\\thithilab\\anaconda3\\envs\\yolov5_april\\lib\\site-packages\\sklearn\\preprocessing\\_label.py:154: DataConversionWarning: A column-vector y was passed when a 1d array was expected. Please change the shape of y to (n_samples, ), for example using ravel().\n",
      "  y = column_or_1d(y, warn=True)\n",
      "C:\\Users\\thithilab\\anaconda3\\envs\\yolov5_april\\lib\\site-packages\\ipykernel_launcher.py:9: FutureWarning: elementwise comparison failed; returning scalar instead, but in the future will perform elementwise comparison\n",
      "  if __name__ == \"__main__\":\n",
      "video 1/1 (1181/3933) D:\\815_CowDataChecking\\20221229\\20221229_M_cow\\20221229_061532_21C6.mkv: 640x640 1 cow, Done. (0.014s)\n"
     ]
    },
    {
     "name": "stdout",
     "output_type": "stream",
     "text": [
      "2\n",
      "['1']\n"
     ]
    },
    {
     "name": "stderr",
     "output_type": "stream",
     "text": [
      "C:\\Users\\thithilab\\anaconda3\\envs\\yolov5_april\\lib\\site-packages\\ipykernel_launcher.py:11: FutureWarning: `multichannel` is a deprecated argument name for `hog`. It will be removed in version 1.0. Please use `channel_axis` instead.\n",
      "  # This is added back by InteractiveShellApp.init_path()\n",
      "C:\\Users\\thithilab\\anaconda3\\envs\\yolov5_april\\lib\\site-packages\\sklearn\\preprocessing\\_label.py:154: DataConversionWarning: A column-vector y was passed when a 1d array was expected. Please change the shape of y to (n_samples, ), for example using ravel().\n",
      "  y = column_or_1d(y, warn=True)\n",
      "video 1/1 (1182/3933) D:\\815_CowDataChecking\\20221229\\20221229_M_cow\\20221229_061532_21C6.mkv: 640x640 1 cow, Done. (0.014s)\n"
     ]
    },
    {
     "name": "stdout",
     "output_type": "stream",
     "text": [
      "2\n",
      "['1']\n"
     ]
    },
    {
     "name": "stderr",
     "output_type": "stream",
     "text": [
      "C:\\Users\\thithilab\\anaconda3\\envs\\yolov5_april\\lib\\site-packages\\ipykernel_launcher.py:11: FutureWarning: `multichannel` is a deprecated argument name for `hog`. It will be removed in version 1.0. Please use `channel_axis` instead.\n",
      "  # This is added back by InteractiveShellApp.init_path()\n",
      "C:\\Users\\thithilab\\anaconda3\\envs\\yolov5_april\\lib\\site-packages\\sklearn\\preprocessing\\_label.py:154: DataConversionWarning: A column-vector y was passed when a 1d array was expected. Please change the shape of y to (n_samples, ), for example using ravel().\n",
      "  y = column_or_1d(y, warn=True)\n",
      "video 1/1 (1183/3933) D:\\815_CowDataChecking\\20221229\\20221229_M_cow\\20221229_061532_21C6.mkv: 640x640 1 cow, Done. (0.015s)\n"
     ]
    },
    {
     "name": "stdout",
     "output_type": "stream",
     "text": [
      "2\n",
      "['1']\n"
     ]
    },
    {
     "name": "stderr",
     "output_type": "stream",
     "text": [
      "C:\\Users\\thithilab\\anaconda3\\envs\\yolov5_april\\lib\\site-packages\\ipykernel_launcher.py:11: FutureWarning: `multichannel` is a deprecated argument name for `hog`. It will be removed in version 1.0. Please use `channel_axis` instead.\n",
      "  # This is added back by InteractiveShellApp.init_path()\n",
      "C:\\Users\\thithilab\\anaconda3\\envs\\yolov5_april\\lib\\site-packages\\sklearn\\preprocessing\\_label.py:154: DataConversionWarning: A column-vector y was passed when a 1d array was expected. Please change the shape of y to (n_samples, ), for example using ravel().\n",
      "  y = column_or_1d(y, warn=True)\n",
      "video 1/1 (1184/3933) D:\\815_CowDataChecking\\20221229\\20221229_M_cow\\20221229_061532_21C6.mkv: 640x640 1 cow, Done. (0.013s)\n"
     ]
    },
    {
     "name": "stdout",
     "output_type": "stream",
     "text": [
      "2\n",
      "['1']\n"
     ]
    },
    {
     "name": "stderr",
     "output_type": "stream",
     "text": [
      "C:\\Users\\thithilab\\anaconda3\\envs\\yolov5_april\\lib\\site-packages\\ipykernel_launcher.py:11: FutureWarning: `multichannel` is a deprecated argument name for `hog`. It will be removed in version 1.0. Please use `channel_axis` instead.\n",
      "  # This is added back by InteractiveShellApp.init_path()\n",
      "C:\\Users\\thithilab\\anaconda3\\envs\\yolov5_april\\lib\\site-packages\\sklearn\\preprocessing\\_label.py:154: DataConversionWarning: A column-vector y was passed when a 1d array was expected. Please change the shape of y to (n_samples, ), for example using ravel().\n",
      "  y = column_or_1d(y, warn=True)\n",
      "video 1/1 (1185/3933) D:\\815_CowDataChecking\\20221229\\20221229_M_cow\\20221229_061532_21C6.mkv: 640x640 1 cow, Done. (0.017s)\n"
     ]
    },
    {
     "name": "stdout",
     "output_type": "stream",
     "text": [
      "2\n",
      "['1']\n"
     ]
    },
    {
     "name": "stderr",
     "output_type": "stream",
     "text": [
      "C:\\Users\\thithilab\\anaconda3\\envs\\yolov5_april\\lib\\site-packages\\ipykernel_launcher.py:11: FutureWarning: `multichannel` is a deprecated argument name for `hog`. It will be removed in version 1.0. Please use `channel_axis` instead.\n",
      "  # This is added back by InteractiveShellApp.init_path()\n",
      "C:\\Users\\thithilab\\anaconda3\\envs\\yolov5_april\\lib\\site-packages\\sklearn\\preprocessing\\_label.py:154: DataConversionWarning: A column-vector y was passed when a 1d array was expected. Please change the shape of y to (n_samples, ), for example using ravel().\n",
      "  y = column_or_1d(y, warn=True)\n",
      "video 1/1 (1186/3933) D:\\815_CowDataChecking\\20221229\\20221229_M_cow\\20221229_061532_21C6.mkv: 640x640 1 cow, Done. (0.013s)\n"
     ]
    },
    {
     "name": "stdout",
     "output_type": "stream",
     "text": [
      "2\n",
      "['1']\n"
     ]
    },
    {
     "name": "stderr",
     "output_type": "stream",
     "text": [
      "C:\\Users\\thithilab\\anaconda3\\envs\\yolov5_april\\lib\\site-packages\\ipykernel_launcher.py:11: FutureWarning: `multichannel` is a deprecated argument name for `hog`. It will be removed in version 1.0. Please use `channel_axis` instead.\n",
      "  # This is added back by InteractiveShellApp.init_path()\n",
      "C:\\Users\\thithilab\\anaconda3\\envs\\yolov5_april\\lib\\site-packages\\sklearn\\preprocessing\\_label.py:154: DataConversionWarning: A column-vector y was passed when a 1d array was expected. Please change the shape of y to (n_samples, ), for example using ravel().\n",
      "  y = column_or_1d(y, warn=True)\n",
      "video 1/1 (1187/3933) D:\\815_CowDataChecking\\20221229\\20221229_M_cow\\20221229_061532_21C6.mkv: 640x640 1 cow, Done. (0.014s)\n"
     ]
    },
    {
     "name": "stdout",
     "output_type": "stream",
     "text": [
      "2\n",
      "['1']\n"
     ]
    },
    {
     "name": "stderr",
     "output_type": "stream",
     "text": [
      "C:\\Users\\thithilab\\anaconda3\\envs\\yolov5_april\\lib\\site-packages\\ipykernel_launcher.py:11: FutureWarning: `multichannel` is a deprecated argument name for `hog`. It will be removed in version 1.0. Please use `channel_axis` instead.\n",
      "  # This is added back by InteractiveShellApp.init_path()\n",
      "C:\\Users\\thithilab\\anaconda3\\envs\\yolov5_april\\lib\\site-packages\\sklearn\\preprocessing\\_label.py:154: DataConversionWarning: A column-vector y was passed when a 1d array was expected. Please change the shape of y to (n_samples, ), for example using ravel().\n",
      "  y = column_or_1d(y, warn=True)\n",
      "video 1/1 (1188/3933) D:\\815_CowDataChecking\\20221229\\20221229_M_cow\\20221229_061532_21C6.mkv: 640x640 1 cow, Done. (0.013s)\n"
     ]
    },
    {
     "name": "stdout",
     "output_type": "stream",
     "text": [
      "2\n",
      "['1']\n"
     ]
    },
    {
     "name": "stderr",
     "output_type": "stream",
     "text": [
      "C:\\Users\\thithilab\\anaconda3\\envs\\yolov5_april\\lib\\site-packages\\ipykernel_launcher.py:11: FutureWarning: `multichannel` is a deprecated argument name for `hog`. It will be removed in version 1.0. Please use `channel_axis` instead.\n",
      "  # This is added back by InteractiveShellApp.init_path()\n",
      "C:\\Users\\thithilab\\anaconda3\\envs\\yolov5_april\\lib\\site-packages\\sklearn\\preprocessing\\_label.py:154: DataConversionWarning: A column-vector y was passed when a 1d array was expected. Please change the shape of y to (n_samples, ), for example using ravel().\n",
      "  y = column_or_1d(y, warn=True)\n",
      "video 1/1 (1189/3933) D:\\815_CowDataChecking\\20221229\\20221229_M_cow\\20221229_061532_21C6.mkv: 640x640 2 cows, Done. (0.024s)\n"
     ]
    },
    {
     "name": "stdout",
     "output_type": "stream",
     "text": [
      "2\n",
      "['1']\n"
     ]
    },
    {
     "name": "stderr",
     "output_type": "stream",
     "text": [
      "C:\\Users\\thithilab\\anaconda3\\envs\\yolov5_april\\lib\\site-packages\\ipykernel_launcher.py:11: FutureWarning: `multichannel` is a deprecated argument name for `hog`. It will be removed in version 1.0. Please use `channel_axis` instead.\n",
      "  # This is added back by InteractiveShellApp.init_path()\n",
      "C:\\Users\\thithilab\\anaconda3\\envs\\yolov5_april\\lib\\site-packages\\sklearn\\preprocessing\\_label.py:154: DataConversionWarning: A column-vector y was passed when a 1d array was expected. Please change the shape of y to (n_samples, ), for example using ravel().\n",
      "  y = column_or_1d(y, warn=True)\n",
      "video 1/1 (1190/3933) D:\\815_CowDataChecking\\20221229\\20221229_M_cow\\20221229_061532_21C6.mkv: 640x640 2 cows, Done. (0.013s)\n"
     ]
    },
    {
     "name": "stdout",
     "output_type": "stream",
     "text": [
      "2\n",
      "['1']\n"
     ]
    },
    {
     "name": "stderr",
     "output_type": "stream",
     "text": [
      "C:\\Users\\thithilab\\anaconda3\\envs\\yolov5_april\\lib\\site-packages\\ipykernel_launcher.py:11: FutureWarning: `multichannel` is a deprecated argument name for `hog`. It will be removed in version 1.0. Please use `channel_axis` instead.\n",
      "  # This is added back by InteractiveShellApp.init_path()\n",
      "C:\\Users\\thithilab\\anaconda3\\envs\\yolov5_april\\lib\\site-packages\\sklearn\\preprocessing\\_label.py:154: DataConversionWarning: A column-vector y was passed when a 1d array was expected. Please change the shape of y to (n_samples, ), for example using ravel().\n",
      "  y = column_or_1d(y, warn=True)\n",
      "video 1/1 (1191/3933) D:\\815_CowDataChecking\\20221229\\20221229_M_cow\\20221229_061532_21C6.mkv: 640x640 2 cows, Done. (0.012s)\n"
     ]
    },
    {
     "name": "stdout",
     "output_type": "stream",
     "text": [
      "2\n",
      "['1']\n"
     ]
    },
    {
     "name": "stderr",
     "output_type": "stream",
     "text": [
      "C:\\Users\\thithilab\\anaconda3\\envs\\yolov5_april\\lib\\site-packages\\ipykernel_launcher.py:11: FutureWarning: `multichannel` is a deprecated argument name for `hog`. It will be removed in version 1.0. Please use `channel_axis` instead.\n",
      "  # This is added back by InteractiveShellApp.init_path()\n",
      "C:\\Users\\thithilab\\anaconda3\\envs\\yolov5_april\\lib\\site-packages\\sklearn\\preprocessing\\_label.py:154: DataConversionWarning: A column-vector y was passed when a 1d array was expected. Please change the shape of y to (n_samples, ), for example using ravel().\n",
      "  y = column_or_1d(y, warn=True)\n",
      "video 1/1 (1192/3933) D:\\815_CowDataChecking\\20221229\\20221229_M_cow\\20221229_061532_21C6.mkv: 640x640 2 cows, Done. (0.014s)\n"
     ]
    },
    {
     "name": "stdout",
     "output_type": "stream",
     "text": [
      "2\n",
      "['1']\n"
     ]
    },
    {
     "name": "stderr",
     "output_type": "stream",
     "text": [
      "C:\\Users\\thithilab\\anaconda3\\envs\\yolov5_april\\lib\\site-packages\\ipykernel_launcher.py:11: FutureWarning: `multichannel` is a deprecated argument name for `hog`. It will be removed in version 1.0. Please use `channel_axis` instead.\n",
      "  # This is added back by InteractiveShellApp.init_path()\n",
      "C:\\Users\\thithilab\\anaconda3\\envs\\yolov5_april\\lib\\site-packages\\sklearn\\preprocessing\\_label.py:154: DataConversionWarning: A column-vector y was passed when a 1d array was expected. Please change the shape of y to (n_samples, ), for example using ravel().\n",
      "  y = column_or_1d(y, warn=True)\n",
      "video 1/1 (1193/3933) D:\\815_CowDataChecking\\20221229\\20221229_M_cow\\20221229_061532_21C6.mkv: 640x640 2 cows, Done. (0.012s)\n"
     ]
    },
    {
     "name": "stdout",
     "output_type": "stream",
     "text": [
      "2\n",
      "['1']\n"
     ]
    },
    {
     "name": "stderr",
     "output_type": "stream",
     "text": [
      "C:\\Users\\thithilab\\anaconda3\\envs\\yolov5_april\\lib\\site-packages\\ipykernel_launcher.py:11: FutureWarning: `multichannel` is a deprecated argument name for `hog`. It will be removed in version 1.0. Please use `channel_axis` instead.\n",
      "  # This is added back by InteractiveShellApp.init_path()\n",
      "C:\\Users\\thithilab\\anaconda3\\envs\\yolov5_april\\lib\\site-packages\\sklearn\\preprocessing\\_label.py:154: DataConversionWarning: A column-vector y was passed when a 1d array was expected. Please change the shape of y to (n_samples, ), for example using ravel().\n",
      "  y = column_or_1d(y, warn=True)\n",
      "video 1/1 (1194/3933) D:\\815_CowDataChecking\\20221229\\20221229_M_cow\\20221229_061532_21C6.mkv: 640x640 2 cows, Done. (0.022s)\n"
     ]
    },
    {
     "name": "stdout",
     "output_type": "stream",
     "text": [
      "2\n",
      "['1']\n"
     ]
    },
    {
     "name": "stderr",
     "output_type": "stream",
     "text": [
      "C:\\Users\\thithilab\\anaconda3\\envs\\yolov5_april\\lib\\site-packages\\ipykernel_launcher.py:11: FutureWarning: `multichannel` is a deprecated argument name for `hog`. It will be removed in version 1.0. Please use `channel_axis` instead.\n",
      "  # This is added back by InteractiveShellApp.init_path()\n",
      "C:\\Users\\thithilab\\anaconda3\\envs\\yolov5_april\\lib\\site-packages\\sklearn\\preprocessing\\_label.py:154: DataConversionWarning: A column-vector y was passed when a 1d array was expected. Please change the shape of y to (n_samples, ), for example using ravel().\n",
      "  y = column_or_1d(y, warn=True)\n",
      "video 1/1 (1195/3933) D:\\815_CowDataChecking\\20221229\\20221229_M_cow\\20221229_061532_21C6.mkv: 640x640 2 cows, Done. (0.015s)\n"
     ]
    },
    {
     "name": "stdout",
     "output_type": "stream",
     "text": [
      "2\n",
      "['1']\n"
     ]
    },
    {
     "name": "stderr",
     "output_type": "stream",
     "text": [
      "C:\\Users\\thithilab\\anaconda3\\envs\\yolov5_april\\lib\\site-packages\\ipykernel_launcher.py:11: FutureWarning: `multichannel` is a deprecated argument name for `hog`. It will be removed in version 1.0. Please use `channel_axis` instead.\n",
      "  # This is added back by InteractiveShellApp.init_path()\n",
      "C:\\Users\\thithilab\\anaconda3\\envs\\yolov5_april\\lib\\site-packages\\sklearn\\preprocessing\\_label.py:154: DataConversionWarning: A column-vector y was passed when a 1d array was expected. Please change the shape of y to (n_samples, ), for example using ravel().\n",
      "  y = column_or_1d(y, warn=True)\n",
      "video 1/1 (1196/3933) D:\\815_CowDataChecking\\20221229\\20221229_M_cow\\20221229_061532_21C6.mkv: 640x640 2 cows, Done. (0.012s)\n"
     ]
    },
    {
     "name": "stdout",
     "output_type": "stream",
     "text": [
      "2\n",
      "['1']\n"
     ]
    },
    {
     "name": "stderr",
     "output_type": "stream",
     "text": [
      "C:\\Users\\thithilab\\anaconda3\\envs\\yolov5_april\\lib\\site-packages\\ipykernel_launcher.py:11: FutureWarning: `multichannel` is a deprecated argument name for `hog`. It will be removed in version 1.0. Please use `channel_axis` instead.\n",
      "  # This is added back by InteractiveShellApp.init_path()\n",
      "C:\\Users\\thithilab\\anaconda3\\envs\\yolov5_april\\lib\\site-packages\\sklearn\\preprocessing\\_label.py:154: DataConversionWarning: A column-vector y was passed when a 1d array was expected. Please change the shape of y to (n_samples, ), for example using ravel().\n",
      "  y = column_or_1d(y, warn=True)\n",
      "video 1/1 (1197/3933) D:\\815_CowDataChecking\\20221229\\20221229_M_cow\\20221229_061532_21C6.mkv: 640x640 2 cows, Done. (0.013s)\n"
     ]
    },
    {
     "name": "stdout",
     "output_type": "stream",
     "text": [
      "2\n",
      "['1']\n"
     ]
    },
    {
     "name": "stderr",
     "output_type": "stream",
     "text": [
      "C:\\Users\\thithilab\\anaconda3\\envs\\yolov5_april\\lib\\site-packages\\ipykernel_launcher.py:11: FutureWarning: `multichannel` is a deprecated argument name for `hog`. It will be removed in version 1.0. Please use `channel_axis` instead.\n",
      "  # This is added back by InteractiveShellApp.init_path()\n",
      "C:\\Users\\thithilab\\anaconda3\\envs\\yolov5_april\\lib\\site-packages\\sklearn\\preprocessing\\_label.py:154: DataConversionWarning: A column-vector y was passed when a 1d array was expected. Please change the shape of y to (n_samples, ), for example using ravel().\n",
      "  y = column_or_1d(y, warn=True)\n",
      "video 1/1 (1198/3933) D:\\815_CowDataChecking\\20221229\\20221229_M_cow\\20221229_061532_21C6.mkv: 640x640 2 cows, Done. (0.013s)\n"
     ]
    },
    {
     "name": "stdout",
     "output_type": "stream",
     "text": [
      "2\n",
      "['1']\n"
     ]
    },
    {
     "name": "stderr",
     "output_type": "stream",
     "text": [
      "C:\\Users\\thithilab\\anaconda3\\envs\\yolov5_april\\lib\\site-packages\\ipykernel_launcher.py:11: FutureWarning: `multichannel` is a deprecated argument name for `hog`. It will be removed in version 1.0. Please use `channel_axis` instead.\n",
      "  # This is added back by InteractiveShellApp.init_path()\n",
      "C:\\Users\\thithilab\\anaconda3\\envs\\yolov5_april\\lib\\site-packages\\sklearn\\preprocessing\\_label.py:154: DataConversionWarning: A column-vector y was passed when a 1d array was expected. Please change the shape of y to (n_samples, ), for example using ravel().\n",
      "  y = column_or_1d(y, warn=True)\n",
      "video 1/1 (1199/3933) D:\\815_CowDataChecking\\20221229\\20221229_M_cow\\20221229_061532_21C6.mkv: 640x640 2 cows, Done. (0.014s)\n"
     ]
    },
    {
     "name": "stdout",
     "output_type": "stream",
     "text": [
      "2\n",
      "['1']\n"
     ]
    },
    {
     "name": "stderr",
     "output_type": "stream",
     "text": [
      "C:\\Users\\thithilab\\anaconda3\\envs\\yolov5_april\\lib\\site-packages\\ipykernel_launcher.py:11: FutureWarning: `multichannel` is a deprecated argument name for `hog`. It will be removed in version 1.0. Please use `channel_axis` instead.\n",
      "  # This is added back by InteractiveShellApp.init_path()\n",
      "C:\\Users\\thithilab\\anaconda3\\envs\\yolov5_april\\lib\\site-packages\\sklearn\\preprocessing\\_label.py:154: DataConversionWarning: A column-vector y was passed when a 1d array was expected. Please change the shape of y to (n_samples, ), for example using ravel().\n",
      "  y = column_or_1d(y, warn=True)\n",
      "video 1/1 (1200/3933) D:\\815_CowDataChecking\\20221229\\20221229_M_cow\\20221229_061532_21C6.mkv: 640x640 2 cows, Done. (0.012s)\n"
     ]
    },
    {
     "name": "stdout",
     "output_type": "stream",
     "text": [
      "2\n",
      "['1']\n"
     ]
    },
    {
     "name": "stderr",
     "output_type": "stream",
     "text": [
      "C:\\Users\\thithilab\\anaconda3\\envs\\yolov5_april\\lib\\site-packages\\ipykernel_launcher.py:11: FutureWarning: `multichannel` is a deprecated argument name for `hog`. It will be removed in version 1.0. Please use `channel_axis` instead.\n",
      "  # This is added back by InteractiveShellApp.init_path()\n",
      "C:\\Users\\thithilab\\anaconda3\\envs\\yolov5_april\\lib\\site-packages\\sklearn\\preprocessing\\_label.py:154: DataConversionWarning: A column-vector y was passed when a 1d array was expected. Please change the shape of y to (n_samples, ), for example using ravel().\n",
      "  y = column_or_1d(y, warn=True)\n",
      "video 1/1 (1201/3933) D:\\815_CowDataChecking\\20221229\\20221229_M_cow\\20221229_061532_21C6.mkv: 640x640 2 cows, Done. (0.013s)\n"
     ]
    },
    {
     "name": "stdout",
     "output_type": "stream",
     "text": [
      "2\n",
      "['1']\n"
     ]
    },
    {
     "name": "stderr",
     "output_type": "stream",
     "text": [
      "C:\\Users\\thithilab\\anaconda3\\envs\\yolov5_april\\lib\\site-packages\\ipykernel_launcher.py:11: FutureWarning: `multichannel` is a deprecated argument name for `hog`. It will be removed in version 1.0. Please use `channel_axis` instead.\n",
      "  # This is added back by InteractiveShellApp.init_path()\n",
      "C:\\Users\\thithilab\\anaconda3\\envs\\yolov5_april\\lib\\site-packages\\sklearn\\preprocessing\\_label.py:154: DataConversionWarning: A column-vector y was passed when a 1d array was expected. Please change the shape of y to (n_samples, ), for example using ravel().\n",
      "  y = column_or_1d(y, warn=True)\n",
      "video 1/1 (1202/3933) D:\\815_CowDataChecking\\20221229\\20221229_M_cow\\20221229_061532_21C6.mkv: 640x640 2 cows, Done. (0.013s)\n"
     ]
    },
    {
     "name": "stdout",
     "output_type": "stream",
     "text": [
      "2\n",
      "['1']\n"
     ]
    },
    {
     "name": "stderr",
     "output_type": "stream",
     "text": [
      "C:\\Users\\thithilab\\anaconda3\\envs\\yolov5_april\\lib\\site-packages\\ipykernel_launcher.py:11: FutureWarning: `multichannel` is a deprecated argument name for `hog`. It will be removed in version 1.0. Please use `channel_axis` instead.\n",
      "  # This is added back by InteractiveShellApp.init_path()\n",
      "C:\\Users\\thithilab\\anaconda3\\envs\\yolov5_april\\lib\\site-packages\\sklearn\\preprocessing\\_label.py:154: DataConversionWarning: A column-vector y was passed when a 1d array was expected. Please change the shape of y to (n_samples, ), for example using ravel().\n",
      "  y = column_or_1d(y, warn=True)\n",
      "video 1/1 (1203/3933) D:\\815_CowDataChecking\\20221229\\20221229_M_cow\\20221229_061532_21C6.mkv: 640x640 2 cows, Done. (0.013s)\n"
     ]
    },
    {
     "name": "stdout",
     "output_type": "stream",
     "text": [
      "2\n",
      "['1']\n"
     ]
    },
    {
     "name": "stderr",
     "output_type": "stream",
     "text": [
      "C:\\Users\\thithilab\\anaconda3\\envs\\yolov5_april\\lib\\site-packages\\ipykernel_launcher.py:11: FutureWarning: `multichannel` is a deprecated argument name for `hog`. It will be removed in version 1.0. Please use `channel_axis` instead.\n",
      "  # This is added back by InteractiveShellApp.init_path()\n",
      "C:\\Users\\thithilab\\anaconda3\\envs\\yolov5_april\\lib\\site-packages\\sklearn\\preprocessing\\_label.py:154: DataConversionWarning: A column-vector y was passed when a 1d array was expected. Please change the shape of y to (n_samples, ), for example using ravel().\n",
      "  y = column_or_1d(y, warn=True)\n",
      "video 1/1 (1204/3933) D:\\815_CowDataChecking\\20221229\\20221229_M_cow\\20221229_061532_21C6.mkv: 640x640 2 cows, Done. (0.020s)\n"
     ]
    },
    {
     "name": "stdout",
     "output_type": "stream",
     "text": [
      "2\n",
      "['1']\n"
     ]
    },
    {
     "name": "stderr",
     "output_type": "stream",
     "text": [
      "C:\\Users\\thithilab\\anaconda3\\envs\\yolov5_april\\lib\\site-packages\\ipykernel_launcher.py:11: FutureWarning: `multichannel` is a deprecated argument name for `hog`. It will be removed in version 1.0. Please use `channel_axis` instead.\n",
      "  # This is added back by InteractiveShellApp.init_path()\n",
      "C:\\Users\\thithilab\\anaconda3\\envs\\yolov5_april\\lib\\site-packages\\sklearn\\preprocessing\\_label.py:154: DataConversionWarning: A column-vector y was passed when a 1d array was expected. Please change the shape of y to (n_samples, ), for example using ravel().\n",
      "  y = column_or_1d(y, warn=True)\n",
      "video 1/1 (1205/3933) D:\\815_CowDataChecking\\20221229\\20221229_M_cow\\20221229_061532_21C6.mkv: 640x640 2 cows, Done. (0.017s)\n",
      "video 1/1 (1206/3933) D:\\815_CowDataChecking\\20221229\\20221229_M_cow\\20221229_061532_21C6.mkv: 640x640 1 cow, Done. (0.014s)\n"
     ]
    },
    {
     "name": "stdout",
     "output_type": "stream",
     "text": [
      "2\n",
      "['1']\n"
     ]
    },
    {
     "name": "stderr",
     "output_type": "stream",
     "text": [
      "C:\\Users\\thithilab\\anaconda3\\envs\\yolov5_april\\lib\\site-packages\\ipykernel_launcher.py:11: FutureWarning: `multichannel` is a deprecated argument name for `hog`. It will be removed in version 1.0. Please use `channel_axis` instead.\n",
      "  # This is added back by InteractiveShellApp.init_path()\n",
      "C:\\Users\\thithilab\\anaconda3\\envs\\yolov5_april\\lib\\site-packages\\sklearn\\preprocessing\\_label.py:154: DataConversionWarning: A column-vector y was passed when a 1d array was expected. Please change the shape of y to (n_samples, ), for example using ravel().\n",
      "  y = column_or_1d(y, warn=True)\n",
      "video 1/1 (1207/3933) D:\\815_CowDataChecking\\20221229\\20221229_M_cow\\20221229_061532_21C6.mkv: 640x640 2 cows, Done. (0.013s)\n"
     ]
    },
    {
     "name": "stdout",
     "output_type": "stream",
     "text": [
      "2\n",
      "['1']\n"
     ]
    },
    {
     "name": "stderr",
     "output_type": "stream",
     "text": [
      "C:\\Users\\thithilab\\anaconda3\\envs\\yolov5_april\\lib\\site-packages\\ipykernel_launcher.py:11: FutureWarning: `multichannel` is a deprecated argument name for `hog`. It will be removed in version 1.0. Please use `channel_axis` instead.\n",
      "  # This is added back by InteractiveShellApp.init_path()\n",
      "C:\\Users\\thithilab\\anaconda3\\envs\\yolov5_april\\lib\\site-packages\\sklearn\\preprocessing\\_label.py:154: DataConversionWarning: A column-vector y was passed when a 1d array was expected. Please change the shape of y to (n_samples, ), for example using ravel().\n",
      "  y = column_or_1d(y, warn=True)\n",
      "video 1/1 (1208/3933) D:\\815_CowDataChecking\\20221229\\20221229_M_cow\\20221229_061532_21C6.mkv: 640x640 2 cows, Done. (0.014s)\n"
     ]
    },
    {
     "name": "stdout",
     "output_type": "stream",
     "text": [
      "2\n",
      "['1']\n"
     ]
    },
    {
     "name": "stderr",
     "output_type": "stream",
     "text": [
      "C:\\Users\\thithilab\\anaconda3\\envs\\yolov5_april\\lib\\site-packages\\ipykernel_launcher.py:11: FutureWarning: `multichannel` is a deprecated argument name for `hog`. It will be removed in version 1.0. Please use `channel_axis` instead.\n",
      "  # This is added back by InteractiveShellApp.init_path()\n",
      "C:\\Users\\thithilab\\anaconda3\\envs\\yolov5_april\\lib\\site-packages\\sklearn\\preprocessing\\_label.py:154: DataConversionWarning: A column-vector y was passed when a 1d array was expected. Please change the shape of y to (n_samples, ), for example using ravel().\n",
      "  y = column_or_1d(y, warn=True)\n",
      "video 1/1 (1209/3933) D:\\815_CowDataChecking\\20221229\\20221229_M_cow\\20221229_061532_21C6.mkv: 640x640 2 cows, Done. (0.013s)\n"
     ]
    },
    {
     "name": "stdout",
     "output_type": "stream",
     "text": [
      "2\n",
      "['1']\n"
     ]
    },
    {
     "name": "stderr",
     "output_type": "stream",
     "text": [
      "C:\\Users\\thithilab\\anaconda3\\envs\\yolov5_april\\lib\\site-packages\\ipykernel_launcher.py:11: FutureWarning: `multichannel` is a deprecated argument name for `hog`. It will be removed in version 1.0. Please use `channel_axis` instead.\n",
      "  # This is added back by InteractiveShellApp.init_path()\n",
      "C:\\Users\\thithilab\\anaconda3\\envs\\yolov5_april\\lib\\site-packages\\sklearn\\preprocessing\\_label.py:154: DataConversionWarning: A column-vector y was passed when a 1d array was expected. Please change the shape of y to (n_samples, ), for example using ravel().\n",
      "  y = column_or_1d(y, warn=True)\n",
      "video 1/1 (1210/3933) D:\\815_CowDataChecking\\20221229\\20221229_M_cow\\20221229_061532_21C6.mkv: 640x640 2 cows, Done. (0.013s)\n"
     ]
    },
    {
     "name": "stdout",
     "output_type": "stream",
     "text": [
      "2\n",
      "['1']\n"
     ]
    },
    {
     "name": "stderr",
     "output_type": "stream",
     "text": [
      "C:\\Users\\thithilab\\anaconda3\\envs\\yolov5_april\\lib\\site-packages\\ipykernel_launcher.py:11: FutureWarning: `multichannel` is a deprecated argument name for `hog`. It will be removed in version 1.0. Please use `channel_axis` instead.\n",
      "  # This is added back by InteractiveShellApp.init_path()\n",
      "C:\\Users\\thithilab\\anaconda3\\envs\\yolov5_april\\lib\\site-packages\\sklearn\\preprocessing\\_label.py:154: DataConversionWarning: A column-vector y was passed when a 1d array was expected. Please change the shape of y to (n_samples, ), for example using ravel().\n",
      "  y = column_or_1d(y, warn=True)\n",
      "video 1/1 (1211/3933) D:\\815_CowDataChecking\\20221229\\20221229_M_cow\\20221229_061532_21C6.mkv: 640x640 2 cows, Done. (0.014s)\n"
     ]
    },
    {
     "name": "stdout",
     "output_type": "stream",
     "text": [
      "2\n",
      "['1']\n"
     ]
    },
    {
     "name": "stderr",
     "output_type": "stream",
     "text": [
      "C:\\Users\\thithilab\\anaconda3\\envs\\yolov5_april\\lib\\site-packages\\ipykernel_launcher.py:11: FutureWarning: `multichannel` is a deprecated argument name for `hog`. It will be removed in version 1.0. Please use `channel_axis` instead.\n",
      "  # This is added back by InteractiveShellApp.init_path()\n",
      "C:\\Users\\thithilab\\anaconda3\\envs\\yolov5_april\\lib\\site-packages\\sklearn\\preprocessing\\_label.py:154: DataConversionWarning: A column-vector y was passed when a 1d array was expected. Please change the shape of y to (n_samples, ), for example using ravel().\n",
      "  y = column_or_1d(y, warn=True)\n",
      "video 1/1 (1212/3933) D:\\815_CowDataChecking\\20221229\\20221229_M_cow\\20221229_061532_21C6.mkv: 640x640 2 cows, Done. (0.014s)\n",
      "video 1/1 (1213/3933) D:\\815_CowDataChecking\\20221229\\20221229_M_cow\\20221229_061532_21C6.mkv: 640x640 2 cows, Done. (0.017s)\n"
     ]
    },
    {
     "name": "stdout",
     "output_type": "stream",
     "text": [
      "2\n",
      "['1']\n",
      "length is more than 1400 pixel\n"
     ]
    },
    {
     "name": "stderr",
     "output_type": "stream",
     "text": [
      "video 1/1 (1214/3933) D:\\815_CowDataChecking\\20221229\\20221229_M_cow\\20221229_061532_21C6.mkv: 640x640 2 cows, Done. (0.026s)\n",
      "video 1/1 (1215/3933) D:\\815_CowDataChecking\\20221229\\20221229_M_cow\\20221229_061532_21C6.mkv: 640x640 2 cows, Done. (0.014s)\n"
     ]
    },
    {
     "name": "stdout",
     "output_type": "stream",
     "text": [
      "length is more than 1400 pixel\n",
      "length is more than 1400 pixel\n"
     ]
    },
    {
     "name": "stderr",
     "output_type": "stream",
     "text": [
      "C:\\Users\\thithilab\\anaconda3\\envs\\yolov5_april\\lib\\site-packages\\ipykernel_launcher.py:11: FutureWarning: `multichannel` is a deprecated argument name for `hog`. It will be removed in version 1.0. Please use `channel_axis` instead.\n",
      "  # This is added back by InteractiveShellApp.init_path()\n",
      "C:\\Users\\thithilab\\anaconda3\\envs\\yolov5_april\\lib\\site-packages\\sklearn\\preprocessing\\_label.py:154: DataConversionWarning: A column-vector y was passed when a 1d array was expected. Please change the shape of y to (n_samples, ), for example using ravel().\n",
      "  y = column_or_1d(y, warn=True)\n",
      "video 1/1 (1216/3933) D:\\815_CowDataChecking\\20221229\\20221229_M_cow\\20221229_061532_21C6.mkv: 640x640 2 cows, Done. (0.014s)\n",
      "video 1/1 (1217/3933) D:\\815_CowDataChecking\\20221229\\20221229_M_cow\\20221229_061532_21C6.mkv: 640x640 2 cows, Done. (0.019s)\n"
     ]
    },
    {
     "name": "stdout",
     "output_type": "stream",
     "text": [
      "2\n",
      "['1']\n",
      "length is more than 1400 pixel\n"
     ]
    },
    {
     "name": "stderr",
     "output_type": "stream",
     "text": [
      "video 1/1 (1218/3933) D:\\815_CowDataChecking\\20221229\\20221229_M_cow\\20221229_061532_21C6.mkv: 640x640 2 cows, Done. (0.014s)\n",
      "video 1/1 (1219/3933) D:\\815_CowDataChecking\\20221229\\20221229_M_cow\\20221229_061532_21C6.mkv: 640x640 2 cows, Done. (0.022s)\n"
     ]
    },
    {
     "name": "stdout",
     "output_type": "stream",
     "text": [
      "length is more than 1400 pixel\n",
      "length is more than 1400 pixel\n"
     ]
    },
    {
     "name": "stderr",
     "output_type": "stream",
     "text": [
      "video 1/1 (1220/3933) D:\\815_CowDataChecking\\20221229\\20221229_M_cow\\20221229_061532_21C6.mkv: 640x640 2 cows, Done. (0.024s)\n",
      "video 1/1 (1221/3933) D:\\815_CowDataChecking\\20221229\\20221229_M_cow\\20221229_061532_21C6.mkv: 640x640 2 cows, Done. (0.015s)\n",
      "video 1/1 (1222/3933) D:\\815_CowDataChecking\\20221229\\20221229_M_cow\\20221229_061532_21C6.mkv: 640x640 2 cows, Done. (0.013s)\n"
     ]
    },
    {
     "name": "stdout",
     "output_type": "stream",
     "text": [
      "length is more than 1400 pixel\n"
     ]
    },
    {
     "name": "stderr",
     "output_type": "stream",
     "text": [
      "video 1/1 (1223/3933) D:\\815_CowDataChecking\\20221229\\20221229_M_cow\\20221229_061532_21C6.mkv: 640x640 2 cows, Done. (0.016s)\n",
      "video 1/1 (1224/3933) D:\\815_CowDataChecking\\20221229\\20221229_M_cow\\20221229_061532_21C6.mkv: 640x640 2 cows, Done. (0.026s)\n",
      "video 1/1 (1225/3933) D:\\815_CowDataChecking\\20221229\\20221229_M_cow\\20221229_061532_21C6.mkv: 640x640 2 cows, Done. (0.016s)\n",
      "video 1/1 (1226/3933) D:\\815_CowDataChecking\\20221229\\20221229_M_cow\\20221229_061532_21C6.mkv: 640x640 1 cow, Done. (0.016s)\n"
     ]
    },
    {
     "name": "stdout",
     "output_type": "stream",
     "text": [
      "length is more than 1400 pixel\n"
     ]
    },
    {
     "name": "stderr",
     "output_type": "stream",
     "text": [
      "C:\\Users\\thithilab\\anaconda3\\envs\\yolov5_april\\lib\\site-packages\\ipykernel_launcher.py:11: FutureWarning: `multichannel` is a deprecated argument name for `hog`. It will be removed in version 1.0. Please use `channel_axis` instead.\n",
      "  # This is added back by InteractiveShellApp.init_path()\n",
      "C:\\Users\\thithilab\\anaconda3\\envs\\yolov5_april\\lib\\site-packages\\sklearn\\preprocessing\\_label.py:154: DataConversionWarning: A column-vector y was passed when a 1d array was expected. Please change the shape of y to (n_samples, ), for example using ravel().\n",
      "  y = column_or_1d(y, warn=True)\n",
      "C:\\Users\\thithilab\\anaconda3\\envs\\yolov5_april\\lib\\site-packages\\ipykernel_launcher.py:9: FutureWarning: elementwise comparison failed; returning scalar instead, but in the future will perform elementwise comparison\n",
      "  if __name__ == \"__main__\":\n",
      "video 1/1 (1227/3933) D:\\815_CowDataChecking\\20221229\\20221229_M_cow\\20221229_061532_21C6.mkv: 640x640 2 cows, Done. (0.016s)\n"
     ]
    },
    {
     "name": "stdout",
     "output_type": "stream",
     "text": [
      "3\n",
      "['2']\n"
     ]
    },
    {
     "name": "stderr",
     "output_type": "stream",
     "text": [
      "C:\\Users\\thithilab\\anaconda3\\envs\\yolov5_april\\lib\\site-packages\\ipykernel_launcher.py:11: FutureWarning: `multichannel` is a deprecated argument name for `hog`. It will be removed in version 1.0. Please use `channel_axis` instead.\n",
      "  # This is added back by InteractiveShellApp.init_path()\n",
      "C:\\Users\\thithilab\\anaconda3\\envs\\yolov5_april\\lib\\site-packages\\sklearn\\preprocessing\\_label.py:154: DataConversionWarning: A column-vector y was passed when a 1d array was expected. Please change the shape of y to (n_samples, ), for example using ravel().\n",
      "  y = column_or_1d(y, warn=True)\n",
      "video 1/1 (1228/3933) D:\\815_CowDataChecking\\20221229\\20221229_M_cow\\20221229_061532_21C6.mkv: 640x640 2 cows, Done. (0.017s)\n"
     ]
    },
    {
     "name": "stdout",
     "output_type": "stream",
     "text": [
      "3\n",
      "['2']\n"
     ]
    },
    {
     "name": "stderr",
     "output_type": "stream",
     "text": [
      "C:\\Users\\thithilab\\anaconda3\\envs\\yolov5_april\\lib\\site-packages\\ipykernel_launcher.py:11: FutureWarning: `multichannel` is a deprecated argument name for `hog`. It will be removed in version 1.0. Please use `channel_axis` instead.\n",
      "  # This is added back by InteractiveShellApp.init_path()\n",
      "C:\\Users\\thithilab\\anaconda3\\envs\\yolov5_april\\lib\\site-packages\\sklearn\\preprocessing\\_label.py:154: DataConversionWarning: A column-vector y was passed when a 1d array was expected. Please change the shape of y to (n_samples, ), for example using ravel().\n",
      "  y = column_or_1d(y, warn=True)\n",
      "video 1/1 (1229/3933) D:\\815_CowDataChecking\\20221229\\20221229_M_cow\\20221229_061532_21C6.mkv: 640x640 2 cows, Done. (0.013s)\n"
     ]
    },
    {
     "name": "stdout",
     "output_type": "stream",
     "text": [
      "3\n",
      "['2']\n"
     ]
    },
    {
     "name": "stderr",
     "output_type": "stream",
     "text": [
      "C:\\Users\\thithilab\\anaconda3\\envs\\yolov5_april\\lib\\site-packages\\ipykernel_launcher.py:11: FutureWarning: `multichannel` is a deprecated argument name for `hog`. It will be removed in version 1.0. Please use `channel_axis` instead.\n",
      "  # This is added back by InteractiveShellApp.init_path()\n",
      "C:\\Users\\thithilab\\anaconda3\\envs\\yolov5_april\\lib\\site-packages\\sklearn\\preprocessing\\_label.py:154: DataConversionWarning: A column-vector y was passed when a 1d array was expected. Please change the shape of y to (n_samples, ), for example using ravel().\n",
      "  y = column_or_1d(y, warn=True)\n",
      "video 1/1 (1230/3933) D:\\815_CowDataChecking\\20221229\\20221229_M_cow\\20221229_061532_21C6.mkv: 640x640 1 cow, Done. (0.021s)\n"
     ]
    },
    {
     "name": "stdout",
     "output_type": "stream",
     "text": [
      "3\n",
      "['2']\n"
     ]
    },
    {
     "name": "stderr",
     "output_type": "stream",
     "text": [
      "C:\\Users\\thithilab\\anaconda3\\envs\\yolov5_april\\lib\\site-packages\\ipykernel_launcher.py:11: FutureWarning: `multichannel` is a deprecated argument name for `hog`. It will be removed in version 1.0. Please use `channel_axis` instead.\n",
      "  # This is added back by InteractiveShellApp.init_path()\n",
      "C:\\Users\\thithilab\\anaconda3\\envs\\yolov5_april\\lib\\site-packages\\sklearn\\preprocessing\\_label.py:154: DataConversionWarning: A column-vector y was passed when a 1d array was expected. Please change the shape of y to (n_samples, ), for example using ravel().\n",
      "  y = column_or_1d(y, warn=True)\n",
      "video 1/1 (1231/3933) D:\\815_CowDataChecking\\20221229\\20221229_M_cow\\20221229_061532_21C6.mkv: 640x640 1 cow, Done. (0.013s)\n"
     ]
    },
    {
     "name": "stdout",
     "output_type": "stream",
     "text": [
      "3\n",
      "['2']\n"
     ]
    },
    {
     "name": "stderr",
     "output_type": "stream",
     "text": [
      "C:\\Users\\thithilab\\anaconda3\\envs\\yolov5_april\\lib\\site-packages\\ipykernel_launcher.py:11: FutureWarning: `multichannel` is a deprecated argument name for `hog`. It will be removed in version 1.0. Please use `channel_axis` instead.\n",
      "  # This is added back by InteractiveShellApp.init_path()\n",
      "C:\\Users\\thithilab\\anaconda3\\envs\\yolov5_april\\lib\\site-packages\\sklearn\\preprocessing\\_label.py:154: DataConversionWarning: A column-vector y was passed when a 1d array was expected. Please change the shape of y to (n_samples, ), for example using ravel().\n",
      "  y = column_or_1d(y, warn=True)\n",
      "video 1/1 (1232/3933) D:\\815_CowDataChecking\\20221229\\20221229_M_cow\\20221229_061532_21C6.mkv: 640x640 1 cow, Done. (0.015s)\n"
     ]
    },
    {
     "name": "stdout",
     "output_type": "stream",
     "text": [
      "3\n",
      "['2']\n"
     ]
    },
    {
     "name": "stderr",
     "output_type": "stream",
     "text": [
      "C:\\Users\\thithilab\\anaconda3\\envs\\yolov5_april\\lib\\site-packages\\ipykernel_launcher.py:11: FutureWarning: `multichannel` is a deprecated argument name for `hog`. It will be removed in version 1.0. Please use `channel_axis` instead.\n",
      "  # This is added back by InteractiveShellApp.init_path()\n",
      "C:\\Users\\thithilab\\anaconda3\\envs\\yolov5_april\\lib\\site-packages\\sklearn\\preprocessing\\_label.py:154: DataConversionWarning: A column-vector y was passed when a 1d array was expected. Please change the shape of y to (n_samples, ), for example using ravel().\n",
      "  y = column_or_1d(y, warn=True)\n",
      "video 1/1 (1233/3933) D:\\815_CowDataChecking\\20221229\\20221229_M_cow\\20221229_061532_21C6.mkv: 640x640 2 cows, Done. (0.014s)\n"
     ]
    },
    {
     "name": "stdout",
     "output_type": "stream",
     "text": [
      "3\n",
      "['2']\n"
     ]
    },
    {
     "name": "stderr",
     "output_type": "stream",
     "text": [
      "C:\\Users\\thithilab\\anaconda3\\envs\\yolov5_april\\lib\\site-packages\\ipykernel_launcher.py:11: FutureWarning: `multichannel` is a deprecated argument name for `hog`. It will be removed in version 1.0. Please use `channel_axis` instead.\n",
      "  # This is added back by InteractiveShellApp.init_path()\n",
      "C:\\Users\\thithilab\\anaconda3\\envs\\yolov5_april\\lib\\site-packages\\sklearn\\preprocessing\\_label.py:154: DataConversionWarning: A column-vector y was passed when a 1d array was expected. Please change the shape of y to (n_samples, ), for example using ravel().\n",
      "  y = column_or_1d(y, warn=True)\n",
      "video 1/1 (1234/3933) D:\\815_CowDataChecking\\20221229\\20221229_M_cow\\20221229_061532_21C6.mkv: 640x640 1 cow, Done. (0.025s)\n",
      "video 1/1 (1235/3933) D:\\815_CowDataChecking\\20221229\\20221229_M_cow\\20221229_061532_21C6.mkv: 640x640 Done. (0.014s)\n"
     ]
    },
    {
     "name": "stdout",
     "output_type": "stream",
     "text": [
      "3\n",
      "['2']\n"
     ]
    },
    {
     "name": "stderr",
     "output_type": "stream",
     "text": [
      "C:\\Users\\thithilab\\anaconda3\\envs\\yolov5_april\\lib\\site-packages\\ipykernel_launcher.py:11: FutureWarning: `multichannel` is a deprecated argument name for `hog`. It will be removed in version 1.0. Please use `channel_axis` instead.\n",
      "  # This is added back by InteractiveShellApp.init_path()\n",
      "C:\\Users\\thithilab\\anaconda3\\envs\\yolov5_april\\lib\\site-packages\\sklearn\\preprocessing\\_label.py:154: DataConversionWarning: A column-vector y was passed when a 1d array was expected. Please change the shape of y to (n_samples, ), for example using ravel().\n",
      "  y = column_or_1d(y, warn=True)\n",
      "video 1/1 (1236/3933) D:\\815_CowDataChecking\\20221229\\20221229_M_cow\\20221229_061532_21C6.mkv: 640x640 1 cow, Done. (0.022s)\n",
      "video 1/1 (1237/3933) D:\\815_CowDataChecking\\20221229\\20221229_M_cow\\20221229_061532_21C6.mkv: 640x640 Done. (0.013s)\n",
      "video 1/1 (1238/3933) D:\\815_CowDataChecking\\20221229\\20221229_M_cow\\20221229_061532_21C6.mkv: 640x640 Done. (0.017s)\n"
     ]
    },
    {
     "name": "stdout",
     "output_type": "stream",
     "text": [
      "3\n",
      "['2']\n"
     ]
    },
    {
     "name": "stderr",
     "output_type": "stream",
     "text": [
      "video 1/1 (1239/3933) D:\\815_CowDataChecking\\20221229\\20221229_M_cow\\20221229_061532_21C6.mkv: 640x640 1 cow, Done. (0.021s)\n",
      "C:\\Users\\thithilab\\anaconda3\\envs\\yolov5_april\\lib\\site-packages\\ipykernel_launcher.py:11: FutureWarning: `multichannel` is a deprecated argument name for `hog`. It will be removed in version 1.0. Please use `channel_axis` instead.\n",
      "  # This is added back by InteractiveShellApp.init_path()\n",
      "C:\\Users\\thithilab\\anaconda3\\envs\\yolov5_april\\lib\\site-packages\\sklearn\\preprocessing\\_label.py:154: DataConversionWarning: A column-vector y was passed when a 1d array was expected. Please change the shape of y to (n_samples, ), for example using ravel().\n",
      "  y = column_or_1d(y, warn=True)\n",
      "video 1/1 (1240/3933) D:\\815_CowDataChecking\\20221229\\20221229_M_cow\\20221229_061532_21C6.mkv: 640x640 2 cows, Done. (0.013s)\n"
     ]
    },
    {
     "name": "stdout",
     "output_type": "stream",
     "text": [
      "3\n",
      "['2']\n"
     ]
    },
    {
     "name": "stderr",
     "output_type": "stream",
     "text": [
      "C:\\Users\\thithilab\\anaconda3\\envs\\yolov5_april\\lib\\site-packages\\ipykernel_launcher.py:11: FutureWarning: `multichannel` is a deprecated argument name for `hog`. It will be removed in version 1.0. Please use `channel_axis` instead.\n",
      "  # This is added back by InteractiveShellApp.init_path()\n",
      "C:\\Users\\thithilab\\anaconda3\\envs\\yolov5_april\\lib\\site-packages\\sklearn\\preprocessing\\_label.py:154: DataConversionWarning: A column-vector y was passed when a 1d array was expected. Please change the shape of y to (n_samples, ), for example using ravel().\n",
      "  y = column_or_1d(y, warn=True)\n",
      "video 1/1 (1241/3933) D:\\815_CowDataChecking\\20221229\\20221229_M_cow\\20221229_061532_21C6.mkv: 640x640 2 cows, Done. (0.017s)\n"
     ]
    },
    {
     "name": "stdout",
     "output_type": "stream",
     "text": [
      "3\n",
      "['2']\n"
     ]
    },
    {
     "name": "stderr",
     "output_type": "stream",
     "text": [
      "C:\\Users\\thithilab\\anaconda3\\envs\\yolov5_april\\lib\\site-packages\\ipykernel_launcher.py:11: FutureWarning: `multichannel` is a deprecated argument name for `hog`. It will be removed in version 1.0. Please use `channel_axis` instead.\n",
      "  # This is added back by InteractiveShellApp.init_path()\n",
      "C:\\Users\\thithilab\\anaconda3\\envs\\yolov5_april\\lib\\site-packages\\sklearn\\preprocessing\\_label.py:154: DataConversionWarning: A column-vector y was passed when a 1d array was expected. Please change the shape of y to (n_samples, ), for example using ravel().\n",
      "  y = column_or_1d(y, warn=True)\n",
      "video 1/1 (1242/3933) D:\\815_CowDataChecking\\20221229\\20221229_M_cow\\20221229_061532_21C6.mkv: 640x640 2 cows, Done. (0.014s)\n"
     ]
    },
    {
     "name": "stdout",
     "output_type": "stream",
     "text": [
      "3\n",
      "['2']\n"
     ]
    },
    {
     "name": "stderr",
     "output_type": "stream",
     "text": [
      "C:\\Users\\thithilab\\anaconda3\\envs\\yolov5_april\\lib\\site-packages\\ipykernel_launcher.py:11: FutureWarning: `multichannel` is a deprecated argument name for `hog`. It will be removed in version 1.0. Please use `channel_axis` instead.\n",
      "  # This is added back by InteractiveShellApp.init_path()\n",
      "C:\\Users\\thithilab\\anaconda3\\envs\\yolov5_april\\lib\\site-packages\\sklearn\\preprocessing\\_label.py:154: DataConversionWarning: A column-vector y was passed when a 1d array was expected. Please change the shape of y to (n_samples, ), for example using ravel().\n",
      "  y = column_or_1d(y, warn=True)\n",
      "video 1/1 (1243/3933) D:\\815_CowDataChecking\\20221229\\20221229_M_cow\\20221229_061532_21C6.mkv: 640x640 2 cows, Done. (0.013s)\n"
     ]
    },
    {
     "name": "stdout",
     "output_type": "stream",
     "text": [
      "3\n",
      "['2']\n"
     ]
    },
    {
     "name": "stderr",
     "output_type": "stream",
     "text": [
      "C:\\Users\\thithilab\\anaconda3\\envs\\yolov5_april\\lib\\site-packages\\ipykernel_launcher.py:11: FutureWarning: `multichannel` is a deprecated argument name for `hog`. It will be removed in version 1.0. Please use `channel_axis` instead.\n",
      "  # This is added back by InteractiveShellApp.init_path()\n",
      "C:\\Users\\thithilab\\anaconda3\\envs\\yolov5_april\\lib\\site-packages\\sklearn\\preprocessing\\_label.py:154: DataConversionWarning: A column-vector y was passed when a 1d array was expected. Please change the shape of y to (n_samples, ), for example using ravel().\n",
      "  y = column_or_1d(y, warn=True)\n",
      "video 1/1 (1244/3933) D:\\815_CowDataChecking\\20221229\\20221229_M_cow\\20221229_061532_21C6.mkv: 640x640 2 cows, Done. (0.014s)\n"
     ]
    },
    {
     "name": "stdout",
     "output_type": "stream",
     "text": [
      "3\n",
      "['2']\n"
     ]
    },
    {
     "name": "stderr",
     "output_type": "stream",
     "text": [
      "C:\\Users\\thithilab\\anaconda3\\envs\\yolov5_april\\lib\\site-packages\\ipykernel_launcher.py:11: FutureWarning: `multichannel` is a deprecated argument name for `hog`. It will be removed in version 1.0. Please use `channel_axis` instead.\n",
      "  # This is added back by InteractiveShellApp.init_path()\n",
      "C:\\Users\\thithilab\\anaconda3\\envs\\yolov5_april\\lib\\site-packages\\sklearn\\preprocessing\\_label.py:154: DataConversionWarning: A column-vector y was passed when a 1d array was expected. Please change the shape of y to (n_samples, ), for example using ravel().\n",
      "  y = column_or_1d(y, warn=True)\n",
      "video 1/1 (1245/3933) D:\\815_CowDataChecking\\20221229\\20221229_M_cow\\20221229_061532_21C6.mkv: 640x640 2 cows, Done. (0.016s)\n"
     ]
    },
    {
     "name": "stdout",
     "output_type": "stream",
     "text": [
      "3\n",
      "['2']\n"
     ]
    },
    {
     "name": "stderr",
     "output_type": "stream",
     "text": [
      "C:\\Users\\thithilab\\anaconda3\\envs\\yolov5_april\\lib\\site-packages\\ipykernel_launcher.py:11: FutureWarning: `multichannel` is a deprecated argument name for `hog`. It will be removed in version 1.0. Please use `channel_axis` instead.\n",
      "  # This is added back by InteractiveShellApp.init_path()\n",
      "C:\\Users\\thithilab\\anaconda3\\envs\\yolov5_april\\lib\\site-packages\\sklearn\\preprocessing\\_label.py:154: DataConversionWarning: A column-vector y was passed when a 1d array was expected. Please change the shape of y to (n_samples, ), for example using ravel().\n",
      "  y = column_or_1d(y, warn=True)\n",
      "video 1/1 (1246/3933) D:\\815_CowDataChecking\\20221229\\20221229_M_cow\\20221229_061532_21C6.mkv: 640x640 2 cows, Done. (0.020s)\n"
     ]
    },
    {
     "name": "stdout",
     "output_type": "stream",
     "text": [
      "3\n",
      "['2']\n"
     ]
    },
    {
     "name": "stderr",
     "output_type": "stream",
     "text": [
      "C:\\Users\\thithilab\\anaconda3\\envs\\yolov5_april\\lib\\site-packages\\ipykernel_launcher.py:11: FutureWarning: `multichannel` is a deprecated argument name for `hog`. It will be removed in version 1.0. Please use `channel_axis` instead.\n",
      "  # This is added back by InteractiveShellApp.init_path()\n",
      "C:\\Users\\thithilab\\anaconda3\\envs\\yolov5_april\\lib\\site-packages\\sklearn\\preprocessing\\_label.py:154: DataConversionWarning: A column-vector y was passed when a 1d array was expected. Please change the shape of y to (n_samples, ), for example using ravel().\n",
      "  y = column_or_1d(y, warn=True)\n",
      "video 1/1 (1247/3933) D:\\815_CowDataChecking\\20221229\\20221229_M_cow\\20221229_061532_21C6.mkv: 640x640 2 cows, Done. (0.021s)\n"
     ]
    },
    {
     "name": "stdout",
     "output_type": "stream",
     "text": [
      "3\n",
      "['2']\n"
     ]
    },
    {
     "name": "stderr",
     "output_type": "stream",
     "text": [
      "C:\\Users\\thithilab\\anaconda3\\envs\\yolov5_april\\lib\\site-packages\\ipykernel_launcher.py:11: FutureWarning: `multichannel` is a deprecated argument name for `hog`. It will be removed in version 1.0. Please use `channel_axis` instead.\n",
      "  # This is added back by InteractiveShellApp.init_path()\n",
      "C:\\Users\\thithilab\\anaconda3\\envs\\yolov5_april\\lib\\site-packages\\sklearn\\preprocessing\\_label.py:154: DataConversionWarning: A column-vector y was passed when a 1d array was expected. Please change the shape of y to (n_samples, ), for example using ravel().\n",
      "  y = column_or_1d(y, warn=True)\n",
      "video 1/1 (1248/3933) D:\\815_CowDataChecking\\20221229\\20221229_M_cow\\20221229_061532_21C6.mkv: 640x640 2 cows, Done. (0.019s)\n"
     ]
    },
    {
     "name": "stdout",
     "output_type": "stream",
     "text": [
      "3\n",
      "['2']\n"
     ]
    },
    {
     "name": "stderr",
     "output_type": "stream",
     "text": [
      "C:\\Users\\thithilab\\anaconda3\\envs\\yolov5_april\\lib\\site-packages\\ipykernel_launcher.py:11: FutureWarning: `multichannel` is a deprecated argument name for `hog`. It will be removed in version 1.0. Please use `channel_axis` instead.\n",
      "  # This is added back by InteractiveShellApp.init_path()\n",
      "C:\\Users\\thithilab\\anaconda3\\envs\\yolov5_april\\lib\\site-packages\\sklearn\\preprocessing\\_label.py:154: DataConversionWarning: A column-vector y was passed when a 1d array was expected. Please change the shape of y to (n_samples, ), for example using ravel().\n",
      "  y = column_or_1d(y, warn=True)\n",
      "video 1/1 (1249/3933) D:\\815_CowDataChecking\\20221229\\20221229_M_cow\\20221229_061532_21C6.mkv: 640x640 2 cows, Done. (0.018s)\n"
     ]
    },
    {
     "name": "stdout",
     "output_type": "stream",
     "text": [
      "3\n",
      "['2']\n"
     ]
    },
    {
     "name": "stderr",
     "output_type": "stream",
     "text": [
      "C:\\Users\\thithilab\\anaconda3\\envs\\yolov5_april\\lib\\site-packages\\ipykernel_launcher.py:11: FutureWarning: `multichannel` is a deprecated argument name for `hog`. It will be removed in version 1.0. Please use `channel_axis` instead.\n",
      "  # This is added back by InteractiveShellApp.init_path()\n",
      "C:\\Users\\thithilab\\anaconda3\\envs\\yolov5_april\\lib\\site-packages\\sklearn\\preprocessing\\_label.py:154: DataConversionWarning: A column-vector y was passed when a 1d array was expected. Please change the shape of y to (n_samples, ), for example using ravel().\n",
      "  y = column_or_1d(y, warn=True)\n",
      "video 1/1 (1250/3933) D:\\815_CowDataChecking\\20221229\\20221229_M_cow\\20221229_061532_21C6.mkv: 640x640 2 cows, Done. (0.018s)\n"
     ]
    },
    {
     "name": "stdout",
     "output_type": "stream",
     "text": [
      "3\n",
      "['2']\n"
     ]
    },
    {
     "name": "stderr",
     "output_type": "stream",
     "text": [
      "C:\\Users\\thithilab\\anaconda3\\envs\\yolov5_april\\lib\\site-packages\\ipykernel_launcher.py:11: FutureWarning: `multichannel` is a deprecated argument name for `hog`. It will be removed in version 1.0. Please use `channel_axis` instead.\n",
      "  # This is added back by InteractiveShellApp.init_path()\n",
      "C:\\Users\\thithilab\\anaconda3\\envs\\yolov5_april\\lib\\site-packages\\sklearn\\preprocessing\\_label.py:154: DataConversionWarning: A column-vector y was passed when a 1d array was expected. Please change the shape of y to (n_samples, ), for example using ravel().\n",
      "  y = column_or_1d(y, warn=True)\n",
      "video 1/1 (1251/3933) D:\\815_CowDataChecking\\20221229\\20221229_M_cow\\20221229_061532_21C6.mkv: 640x640 2 cows, Done. (0.014s)\n"
     ]
    },
    {
     "name": "stdout",
     "output_type": "stream",
     "text": [
      "3\n",
      "['2']\n"
     ]
    },
    {
     "name": "stderr",
     "output_type": "stream",
     "text": [
      "C:\\Users\\thithilab\\anaconda3\\envs\\yolov5_april\\lib\\site-packages\\ipykernel_launcher.py:11: FutureWarning: `multichannel` is a deprecated argument name for `hog`. It will be removed in version 1.0. Please use `channel_axis` instead.\n",
      "  # This is added back by InteractiveShellApp.init_path()\n",
      "C:\\Users\\thithilab\\anaconda3\\envs\\yolov5_april\\lib\\site-packages\\sklearn\\preprocessing\\_label.py:154: DataConversionWarning: A column-vector y was passed when a 1d array was expected. Please change the shape of y to (n_samples, ), for example using ravel().\n",
      "  y = column_or_1d(y, warn=True)\n",
      "video 1/1 (1252/3933) D:\\815_CowDataChecking\\20221229\\20221229_M_cow\\20221229_061532_21C6.mkv: 640x640 2 cows, Done. (0.013s)\n",
      "video 1/1 (1253/3933) D:\\815_CowDataChecking\\20221229\\20221229_M_cow\\20221229_061532_21C6.mkv: 640x640 1 cow, Done. (0.014s)\n"
     ]
    },
    {
     "name": "stdout",
     "output_type": "stream",
     "text": [
      "3\n",
      "['2']\n"
     ]
    },
    {
     "name": "stderr",
     "output_type": "stream",
     "text": [
      "C:\\Users\\thithilab\\anaconda3\\envs\\yolov5_april\\lib\\site-packages\\ipykernel_launcher.py:11: FutureWarning: `multichannel` is a deprecated argument name for `hog`. It will be removed in version 1.0. Please use `channel_axis` instead.\n",
      "  # This is added back by InteractiveShellApp.init_path()\n",
      "C:\\Users\\thithilab\\anaconda3\\envs\\yolov5_april\\lib\\site-packages\\sklearn\\preprocessing\\_label.py:154: DataConversionWarning: A column-vector y was passed when a 1d array was expected. Please change the shape of y to (n_samples, ), for example using ravel().\n",
      "  y = column_or_1d(y, warn=True)\n",
      "video 1/1 (1254/3933) D:\\815_CowDataChecking\\20221229\\20221229_M_cow\\20221229_061532_21C6.mkv: 640x640 2 cows, Done. (0.013s)\n"
     ]
    },
    {
     "name": "stdout",
     "output_type": "stream",
     "text": [
      "3\n",
      "['2']\n"
     ]
    },
    {
     "name": "stderr",
     "output_type": "stream",
     "text": [
      "C:\\Users\\thithilab\\anaconda3\\envs\\yolov5_april\\lib\\site-packages\\ipykernel_launcher.py:11: FutureWarning: `multichannel` is a deprecated argument name for `hog`. It will be removed in version 1.0. Please use `channel_axis` instead.\n",
      "  # This is added back by InteractiveShellApp.init_path()\n",
      "C:\\Users\\thithilab\\anaconda3\\envs\\yolov5_april\\lib\\site-packages\\sklearn\\preprocessing\\_label.py:154: DataConversionWarning: A column-vector y was passed when a 1d array was expected. Please change the shape of y to (n_samples, ), for example using ravel().\n",
      "  y = column_or_1d(y, warn=True)\n",
      "video 1/1 (1255/3933) D:\\815_CowDataChecking\\20221229\\20221229_M_cow\\20221229_061532_21C6.mkv: 640x640 2 cows, Done. (0.013s)\n"
     ]
    },
    {
     "name": "stdout",
     "output_type": "stream",
     "text": [
      "3\n",
      "['2']\n"
     ]
    },
    {
     "name": "stderr",
     "output_type": "stream",
     "text": [
      "C:\\Users\\thithilab\\anaconda3\\envs\\yolov5_april\\lib\\site-packages\\ipykernel_launcher.py:11: FutureWarning: `multichannel` is a deprecated argument name for `hog`. It will be removed in version 1.0. Please use `channel_axis` instead.\n",
      "  # This is added back by InteractiveShellApp.init_path()\n",
      "C:\\Users\\thithilab\\anaconda3\\envs\\yolov5_april\\lib\\site-packages\\sklearn\\preprocessing\\_label.py:154: DataConversionWarning: A column-vector y was passed when a 1d array was expected. Please change the shape of y to (n_samples, ), for example using ravel().\n",
      "  y = column_or_1d(y, warn=True)\n",
      "video 1/1 (1256/3933) D:\\815_CowDataChecking\\20221229\\20221229_M_cow\\20221229_061532_21C6.mkv: 640x640 2 cows, Done. (0.013s)\n"
     ]
    },
    {
     "name": "stdout",
     "output_type": "stream",
     "text": [
      "3\n",
      "['2']\n"
     ]
    },
    {
     "name": "stderr",
     "output_type": "stream",
     "text": [
      "C:\\Users\\thithilab\\anaconda3\\envs\\yolov5_april\\lib\\site-packages\\ipykernel_launcher.py:11: FutureWarning: `multichannel` is a deprecated argument name for `hog`. It will be removed in version 1.0. Please use `channel_axis` instead.\n",
      "  # This is added back by InteractiveShellApp.init_path()\n",
      "C:\\Users\\thithilab\\anaconda3\\envs\\yolov5_april\\lib\\site-packages\\sklearn\\preprocessing\\_label.py:154: DataConversionWarning: A column-vector y was passed when a 1d array was expected. Please change the shape of y to (n_samples, ), for example using ravel().\n",
      "  y = column_or_1d(y, warn=True)\n",
      "video 1/1 (1257/3933) D:\\815_CowDataChecking\\20221229\\20221229_M_cow\\20221229_061532_21C6.mkv: 640x640 2 cows, Done. (0.013s)\n"
     ]
    },
    {
     "name": "stdout",
     "output_type": "stream",
     "text": [
      "3\n",
      "['2']\n"
     ]
    },
    {
     "name": "stderr",
     "output_type": "stream",
     "text": [
      "C:\\Users\\thithilab\\anaconda3\\envs\\yolov5_april\\lib\\site-packages\\ipykernel_launcher.py:11: FutureWarning: `multichannel` is a deprecated argument name for `hog`. It will be removed in version 1.0. Please use `channel_axis` instead.\n",
      "  # This is added back by InteractiveShellApp.init_path()\n",
      "C:\\Users\\thithilab\\anaconda3\\envs\\yolov5_april\\lib\\site-packages\\sklearn\\preprocessing\\_label.py:154: DataConversionWarning: A column-vector y was passed when a 1d array was expected. Please change the shape of y to (n_samples, ), for example using ravel().\n",
      "  y = column_or_1d(y, warn=True)\n",
      "video 1/1 (1258/3933) D:\\815_CowDataChecking\\20221229\\20221229_M_cow\\20221229_061532_21C6.mkv: 640x640 2 cows, Done. (0.015s)\n"
     ]
    },
    {
     "name": "stdout",
     "output_type": "stream",
     "text": [
      "3\n",
      "['2']\n"
     ]
    },
    {
     "name": "stderr",
     "output_type": "stream",
     "text": [
      "C:\\Users\\thithilab\\anaconda3\\envs\\yolov5_april\\lib\\site-packages\\ipykernel_launcher.py:11: FutureWarning: `multichannel` is a deprecated argument name for `hog`. It will be removed in version 1.0. Please use `channel_axis` instead.\n",
      "  # This is added back by InteractiveShellApp.init_path()\n",
      "C:\\Users\\thithilab\\anaconda3\\envs\\yolov5_april\\lib\\site-packages\\sklearn\\preprocessing\\_label.py:154: DataConversionWarning: A column-vector y was passed when a 1d array was expected. Please change the shape of y to (n_samples, ), for example using ravel().\n",
      "  y = column_or_1d(y, warn=True)\n",
      "video 1/1 (1259/3933) D:\\815_CowDataChecking\\20221229\\20221229_M_cow\\20221229_061532_21C6.mkv: 640x640 2 cows, Done. (0.016s)\n"
     ]
    },
    {
     "name": "stdout",
     "output_type": "stream",
     "text": [
      "3\n",
      "['2']\n"
     ]
    },
    {
     "name": "stderr",
     "output_type": "stream",
     "text": [
      "C:\\Users\\thithilab\\anaconda3\\envs\\yolov5_april\\lib\\site-packages\\ipykernel_launcher.py:11: FutureWarning: `multichannel` is a deprecated argument name for `hog`. It will be removed in version 1.0. Please use `channel_axis` instead.\n",
      "  # This is added back by InteractiveShellApp.init_path()\n",
      "C:\\Users\\thithilab\\anaconda3\\envs\\yolov5_april\\lib\\site-packages\\sklearn\\preprocessing\\_label.py:154: DataConversionWarning: A column-vector y was passed when a 1d array was expected. Please change the shape of y to (n_samples, ), for example using ravel().\n",
      "  y = column_or_1d(y, warn=True)\n",
      "video 1/1 (1260/3933) D:\\815_CowDataChecking\\20221229\\20221229_M_cow\\20221229_061532_21C6.mkv: 640x640 2 cows, Done. (0.014s)\n"
     ]
    },
    {
     "name": "stdout",
     "output_type": "stream",
     "text": [
      "3\n",
      "['2']\n"
     ]
    },
    {
     "name": "stderr",
     "output_type": "stream",
     "text": [
      "C:\\Users\\thithilab\\anaconda3\\envs\\yolov5_april\\lib\\site-packages\\ipykernel_launcher.py:11: FutureWarning: `multichannel` is a deprecated argument name for `hog`. It will be removed in version 1.0. Please use `channel_axis` instead.\n",
      "  # This is added back by InteractiveShellApp.init_path()\n",
      "C:\\Users\\thithilab\\anaconda3\\envs\\yolov5_april\\lib\\site-packages\\sklearn\\preprocessing\\_label.py:154: DataConversionWarning: A column-vector y was passed when a 1d array was expected. Please change the shape of y to (n_samples, ), for example using ravel().\n",
      "  y = column_or_1d(y, warn=True)\n",
      "video 1/1 (1261/3933) D:\\815_CowDataChecking\\20221229\\20221229_M_cow\\20221229_061532_21C6.mkv: 640x640 2 cows, Done. (0.012s)\n"
     ]
    },
    {
     "name": "stdout",
     "output_type": "stream",
     "text": [
      "3\n",
      "['2']\n"
     ]
    },
    {
     "name": "stderr",
     "output_type": "stream",
     "text": [
      "C:\\Users\\thithilab\\anaconda3\\envs\\yolov5_april\\lib\\site-packages\\ipykernel_launcher.py:11: FutureWarning: `multichannel` is a deprecated argument name for `hog`. It will be removed in version 1.0. Please use `channel_axis` instead.\n",
      "  # This is added back by InteractiveShellApp.init_path()\n",
      "C:\\Users\\thithilab\\anaconda3\\envs\\yolov5_april\\lib\\site-packages\\sklearn\\preprocessing\\_label.py:154: DataConversionWarning: A column-vector y was passed when a 1d array was expected. Please change the shape of y to (n_samples, ), for example using ravel().\n",
      "  y = column_or_1d(y, warn=True)\n",
      "video 1/1 (1262/3933) D:\\815_CowDataChecking\\20221229\\20221229_M_cow\\20221229_061532_21C6.mkv: 640x640 2 cows, Done. (0.024s)\n",
      "video 1/1 (1263/3933) D:\\815_CowDataChecking\\20221229\\20221229_M_cow\\20221229_061532_21C6.mkv: 640x640 1 cow, Done. (0.015s)\n"
     ]
    },
    {
     "name": "stdout",
     "output_type": "stream",
     "text": [
      "3\n",
      "['2']\n"
     ]
    },
    {
     "name": "stderr",
     "output_type": "stream",
     "text": [
      "video 1/1 (1264/3933) D:\\815_CowDataChecking\\20221229\\20221229_M_cow\\20221229_061532_21C6.mkv: 640x640 1 cow, Done. (0.022s)\n",
      "video 1/1 (1265/3933) D:\\815_CowDataChecking\\20221229\\20221229_M_cow\\20221229_061532_21C6.mkv: 640x640 1 cow, Done. (0.017s)\n",
      "video 1/1 (1266/3933) D:\\815_CowDataChecking\\20221229\\20221229_M_cow\\20221229_061532_21C6.mkv: 640x640 1 cow, Done. (0.013s)\n",
      "video 1/1 (1267/3933) D:\\815_CowDataChecking\\20221229\\20221229_M_cow\\20221229_061532_21C6.mkv: 640x640 1 cow, Done. (0.018s)\n",
      "video 1/1 (1268/3933) D:\\815_CowDataChecking\\20221229\\20221229_M_cow\\20221229_061532_21C6.mkv: 640x640 2 cows, Done. (0.025s)\n",
      "video 1/1 (1269/3933) D:\\815_CowDataChecking\\20221229\\20221229_M_cow\\20221229_061532_21C6.mkv: 640x640 2 cows, Done. (0.022s)\n",
      "video 1/1 (1270/3933) D:\\815_CowDataChecking\\20221229\\20221229_M_cow\\20221229_061532_21C6.mkv: 640x640 2 cows, Done. (0.018s)\n",
      "video 1/1 (1271/3933) D:\\815_CowDataChecking\\20221229\\20221229_M_cow\\20221229_061532_21C6.mkv: 640x640 1 cow, Done. (0.014s)\n"
     ]
    },
    {
     "name": "stdout",
     "output_type": "stream",
     "text": [
      "length is more than 1400 pixel\n",
      "length is more than 1400 pixel\n"
     ]
    },
    {
     "name": "stderr",
     "output_type": "stream",
     "text": [
      "video 1/1 (1272/3933) D:\\815_CowDataChecking\\20221229\\20221229_M_cow\\20221229_061532_21C6.mkv: 640x640 1 cow, Done. (0.015s)\n",
      "video 1/1 (1273/3933) D:\\815_CowDataChecking\\20221229\\20221229_M_cow\\20221229_061532_21C6.mkv: 640x640 1 cow, Done. (0.015s)\n",
      "video 1/1 (1274/3933) D:\\815_CowDataChecking\\20221229\\20221229_M_cow\\20221229_061532_21C6.mkv: 640x640 1 cow, Done. (0.016s)\n",
      "video 1/1 (1275/3933) D:\\815_CowDataChecking\\20221229\\20221229_M_cow\\20221229_061532_21C6.mkv: 640x640 1 cow, Done. (0.019s)\n",
      "video 1/1 (1276/3933) D:\\815_CowDataChecking\\20221229\\20221229_M_cow\\20221229_061532_21C6.mkv: 640x640 1 cow, Done. (0.022s)\n",
      "video 1/1 (1277/3933) D:\\815_CowDataChecking\\20221229\\20221229_M_cow\\20221229_061532_21C6.mkv: 640x640 1 cow, Done. (0.023s)\n",
      "video 1/1 (1278/3933) D:\\815_CowDataChecking\\20221229\\20221229_M_cow\\20221229_061532_21C6.mkv: 640x640 1 cow, Done. (0.026s)\n",
      "video 1/1 (1279/3933) D:\\815_CowDataChecking\\20221229\\20221229_M_cow\\20221229_061532_21C6.mkv: 640x640 1 cow, Done. (0.014s)\n",
      "video 1/1 (1280/3933) D:\\815_CowDataChecking\\20221229\\20221229_M_cow\\20221229_061532_21C6.mkv: 640x640 2 cows, Done. (0.018s)\n",
      "C:\\Users\\thithilab\\anaconda3\\envs\\yolov5_april\\lib\\site-packages\\ipykernel_launcher.py:11: FutureWarning: `multichannel` is a deprecated argument name for `hog`. It will be removed in version 1.0. Please use `channel_axis` instead.\n",
      "  # This is added back by InteractiveShellApp.init_path()\n",
      "C:\\Users\\thithilab\\anaconda3\\envs\\yolov5_april\\lib\\site-packages\\sklearn\\preprocessing\\_label.py:154: DataConversionWarning: A column-vector y was passed when a 1d array was expected. Please change the shape of y to (n_samples, ), for example using ravel().\n",
      "  y = column_or_1d(y, warn=True)\n",
      "C:\\Users\\thithilab\\anaconda3\\envs\\yolov5_april\\lib\\site-packages\\ipykernel_launcher.py:9: FutureWarning: elementwise comparison failed; returning scalar instead, but in the future will perform elementwise comparison\n",
      "  if __name__ == \"__main__\":\n",
      "video 1/1 (1281/3933) D:\\815_CowDataChecking\\20221229\\20221229_M_cow\\20221229_061532_21C6.mkv: 640x640 2 cows, Done. (0.019s)\n"
     ]
    },
    {
     "name": "stdout",
     "output_type": "stream",
     "text": [
      "4\n",
      "['3']\n"
     ]
    },
    {
     "name": "stderr",
     "output_type": "stream",
     "text": [
      "C:\\Users\\thithilab\\anaconda3\\envs\\yolov5_april\\lib\\site-packages\\ipykernel_launcher.py:11: FutureWarning: `multichannel` is a deprecated argument name for `hog`. It will be removed in version 1.0. Please use `channel_axis` instead.\n",
      "  # This is added back by InteractiveShellApp.init_path()\n",
      "C:\\Users\\thithilab\\anaconda3\\envs\\yolov5_april\\lib\\site-packages\\sklearn\\preprocessing\\_label.py:154: DataConversionWarning: A column-vector y was passed when a 1d array was expected. Please change the shape of y to (n_samples, ), for example using ravel().\n",
      "  y = column_or_1d(y, warn=True)\n",
      "video 1/1 (1282/3933) D:\\815_CowDataChecking\\20221229\\20221229_M_cow\\20221229_061532_21C6.mkv: 640x640 1 cow, Done. (0.013s)\n"
     ]
    },
    {
     "name": "stdout",
     "output_type": "stream",
     "text": [
      "4\n",
      "['3']\n"
     ]
    },
    {
     "name": "stderr",
     "output_type": "stream",
     "text": [
      "C:\\Users\\thithilab\\anaconda3\\envs\\yolov5_april\\lib\\site-packages\\ipykernel_launcher.py:11: FutureWarning: `multichannel` is a deprecated argument name for `hog`. It will be removed in version 1.0. Please use `channel_axis` instead.\n",
      "  # This is added back by InteractiveShellApp.init_path()\n",
      "C:\\Users\\thithilab\\anaconda3\\envs\\yolov5_april\\lib\\site-packages\\sklearn\\preprocessing\\_label.py:154: DataConversionWarning: A column-vector y was passed when a 1d array was expected. Please change the shape of y to (n_samples, ), for example using ravel().\n",
      "  y = column_or_1d(y, warn=True)\n",
      "video 1/1 (1283/3933) D:\\815_CowDataChecking\\20221229\\20221229_M_cow\\20221229_061532_21C6.mkv: 640x640 1 cow, Done. (0.018s)\n"
     ]
    },
    {
     "name": "stdout",
     "output_type": "stream",
     "text": [
      "4\n",
      "['3']\n"
     ]
    },
    {
     "name": "stderr",
     "output_type": "stream",
     "text": [
      "C:\\Users\\thithilab\\anaconda3\\envs\\yolov5_april\\lib\\site-packages\\ipykernel_launcher.py:11: FutureWarning: `multichannel` is a deprecated argument name for `hog`. It will be removed in version 1.0. Please use `channel_axis` instead.\n",
      "  # This is added back by InteractiveShellApp.init_path()\n",
      "C:\\Users\\thithilab\\anaconda3\\envs\\yolov5_april\\lib\\site-packages\\sklearn\\preprocessing\\_label.py:154: DataConversionWarning: A column-vector y was passed when a 1d array was expected. Please change the shape of y to (n_samples, ), for example using ravel().\n",
      "  y = column_or_1d(y, warn=True)\n",
      "video 1/1 (1284/3933) D:\\815_CowDataChecking\\20221229\\20221229_M_cow\\20221229_061532_21C6.mkv: 640x640 1 cow, Done. (0.018s)\n"
     ]
    },
    {
     "name": "stdout",
     "output_type": "stream",
     "text": [
      "4\n",
      "['3']\n"
     ]
    },
    {
     "name": "stderr",
     "output_type": "stream",
     "text": [
      "C:\\Users\\thithilab\\anaconda3\\envs\\yolov5_april\\lib\\site-packages\\ipykernel_launcher.py:11: FutureWarning: `multichannel` is a deprecated argument name for `hog`. It will be removed in version 1.0. Please use `channel_axis` instead.\n",
      "  # This is added back by InteractiveShellApp.init_path()\n",
      "C:\\Users\\thithilab\\anaconda3\\envs\\yolov5_april\\lib\\site-packages\\sklearn\\preprocessing\\_label.py:154: DataConversionWarning: A column-vector y was passed when a 1d array was expected. Please change the shape of y to (n_samples, ), for example using ravel().\n",
      "  y = column_or_1d(y, warn=True)\n",
      "video 1/1 (1285/3933) D:\\815_CowDataChecking\\20221229\\20221229_M_cow\\20221229_061532_21C6.mkv: 640x640 1 cow, Done. (0.017s)\n"
     ]
    },
    {
     "name": "stdout",
     "output_type": "stream",
     "text": [
      "4\n",
      "['3']\n"
     ]
    },
    {
     "name": "stderr",
     "output_type": "stream",
     "text": [
      "C:\\Users\\thithilab\\anaconda3\\envs\\yolov5_april\\lib\\site-packages\\ipykernel_launcher.py:11: FutureWarning: `multichannel` is a deprecated argument name for `hog`. It will be removed in version 1.0. Please use `channel_axis` instead.\n",
      "  # This is added back by InteractiveShellApp.init_path()\n",
      "C:\\Users\\thithilab\\anaconda3\\envs\\yolov5_april\\lib\\site-packages\\sklearn\\preprocessing\\_label.py:154: DataConversionWarning: A column-vector y was passed when a 1d array was expected. Please change the shape of y to (n_samples, ), for example using ravel().\n",
      "  y = column_or_1d(y, warn=True)\n",
      "video 1/1 (1286/3933) D:\\815_CowDataChecking\\20221229\\20221229_M_cow\\20221229_061532_21C6.mkv: 640x640 1 cow, Done. (0.012s)\n"
     ]
    },
    {
     "name": "stdout",
     "output_type": "stream",
     "text": [
      "4\n",
      "['3']\n"
     ]
    },
    {
     "name": "stderr",
     "output_type": "stream",
     "text": [
      "C:\\Users\\thithilab\\anaconda3\\envs\\yolov5_april\\lib\\site-packages\\ipykernel_launcher.py:11: FutureWarning: `multichannel` is a deprecated argument name for `hog`. It will be removed in version 1.0. Please use `channel_axis` instead.\n",
      "  # This is added back by InteractiveShellApp.init_path()\n",
      "C:\\Users\\thithilab\\anaconda3\\envs\\yolov5_april\\lib\\site-packages\\sklearn\\preprocessing\\_label.py:154: DataConversionWarning: A column-vector y was passed when a 1d array was expected. Please change the shape of y to (n_samples, ), for example using ravel().\n",
      "  y = column_or_1d(y, warn=True)\n",
      "video 1/1 (1287/3933) D:\\815_CowDataChecking\\20221229\\20221229_M_cow\\20221229_061532_21C6.mkv: 640x640 1 cow, Done. (0.021s)\n"
     ]
    },
    {
     "name": "stdout",
     "output_type": "stream",
     "text": [
      "4\n",
      "['3']\n"
     ]
    },
    {
     "name": "stderr",
     "output_type": "stream",
     "text": [
      "C:\\Users\\thithilab\\anaconda3\\envs\\yolov5_april\\lib\\site-packages\\ipykernel_launcher.py:11: FutureWarning: `multichannel` is a deprecated argument name for `hog`. It will be removed in version 1.0. Please use `channel_axis` instead.\n",
      "  # This is added back by InteractiveShellApp.init_path()\n",
      "C:\\Users\\thithilab\\anaconda3\\envs\\yolov5_april\\lib\\site-packages\\sklearn\\preprocessing\\_label.py:154: DataConversionWarning: A column-vector y was passed when a 1d array was expected. Please change the shape of y to (n_samples, ), for example using ravel().\n",
      "  y = column_or_1d(y, warn=True)\n",
      "video 1/1 (1288/3933) D:\\815_CowDataChecking\\20221229\\20221229_M_cow\\20221229_061532_21C6.mkv: 640x640 1 cow, Done. (0.017s)\n"
     ]
    },
    {
     "name": "stdout",
     "output_type": "stream",
     "text": [
      "4\n",
      "['3']\n"
     ]
    },
    {
     "name": "stderr",
     "output_type": "stream",
     "text": [
      "C:\\Users\\thithilab\\anaconda3\\envs\\yolov5_april\\lib\\site-packages\\ipykernel_launcher.py:11: FutureWarning: `multichannel` is a deprecated argument name for `hog`. It will be removed in version 1.0. Please use `channel_axis` instead.\n",
      "  # This is added back by InteractiveShellApp.init_path()\n",
      "C:\\Users\\thithilab\\anaconda3\\envs\\yolov5_april\\lib\\site-packages\\sklearn\\preprocessing\\_label.py:154: DataConversionWarning: A column-vector y was passed when a 1d array was expected. Please change the shape of y to (n_samples, ), for example using ravel().\n",
      "  y = column_or_1d(y, warn=True)\n",
      "video 1/1 (1289/3933) D:\\815_CowDataChecking\\20221229\\20221229_M_cow\\20221229_061532_21C6.mkv: 640x640 1 cow, Done. (0.015s)\n"
     ]
    },
    {
     "name": "stdout",
     "output_type": "stream",
     "text": [
      "4\n",
      "['3']\n"
     ]
    },
    {
     "name": "stderr",
     "output_type": "stream",
     "text": [
      "C:\\Users\\thithilab\\anaconda3\\envs\\yolov5_april\\lib\\site-packages\\ipykernel_launcher.py:11: FutureWarning: `multichannel` is a deprecated argument name for `hog`. It will be removed in version 1.0. Please use `channel_axis` instead.\n",
      "  # This is added back by InteractiveShellApp.init_path()\n",
      "C:\\Users\\thithilab\\anaconda3\\envs\\yolov5_april\\lib\\site-packages\\sklearn\\preprocessing\\_label.py:154: DataConversionWarning: A column-vector y was passed when a 1d array was expected. Please change the shape of y to (n_samples, ), for example using ravel().\n",
      "  y = column_or_1d(y, warn=True)\n",
      "video 1/1 (1290/3933) D:\\815_CowDataChecking\\20221229\\20221229_M_cow\\20221229_061532_21C6.mkv: 640x640 1 cow, Done. (0.018s)\n"
     ]
    },
    {
     "name": "stdout",
     "output_type": "stream",
     "text": [
      "4\n",
      "['3']\n"
     ]
    },
    {
     "name": "stderr",
     "output_type": "stream",
     "text": [
      "C:\\Users\\thithilab\\anaconda3\\envs\\yolov5_april\\lib\\site-packages\\ipykernel_launcher.py:11: FutureWarning: `multichannel` is a deprecated argument name for `hog`. It will be removed in version 1.0. Please use `channel_axis` instead.\n",
      "  # This is added back by InteractiveShellApp.init_path()\n",
      "C:\\Users\\thithilab\\anaconda3\\envs\\yolov5_april\\lib\\site-packages\\sklearn\\preprocessing\\_label.py:154: DataConversionWarning: A column-vector y was passed when a 1d array was expected. Please change the shape of y to (n_samples, ), for example using ravel().\n",
      "  y = column_or_1d(y, warn=True)\n",
      "video 1/1 (1291/3933) D:\\815_CowDataChecking\\20221229\\20221229_M_cow\\20221229_061532_21C6.mkv: 640x640 1 cow, Done. (0.018s)\n"
     ]
    },
    {
     "name": "stdout",
     "output_type": "stream",
     "text": [
      "4\n",
      "['3']\n"
     ]
    },
    {
     "name": "stderr",
     "output_type": "stream",
     "text": [
      "C:\\Users\\thithilab\\anaconda3\\envs\\yolov5_april\\lib\\site-packages\\ipykernel_launcher.py:11: FutureWarning: `multichannel` is a deprecated argument name for `hog`. It will be removed in version 1.0. Please use `channel_axis` instead.\n",
      "  # This is added back by InteractiveShellApp.init_path()\n",
      "C:\\Users\\thithilab\\anaconda3\\envs\\yolov5_april\\lib\\site-packages\\sklearn\\preprocessing\\_label.py:154: DataConversionWarning: A column-vector y was passed when a 1d array was expected. Please change the shape of y to (n_samples, ), for example using ravel().\n",
      "  y = column_or_1d(y, warn=True)\n",
      "video 1/1 (1292/3933) D:\\815_CowDataChecking\\20221229\\20221229_M_cow\\20221229_061532_21C6.mkv: 640x640 1 cow, Done. (0.013s)\n"
     ]
    },
    {
     "name": "stdout",
     "output_type": "stream",
     "text": [
      "4\n",
      "['3']\n"
     ]
    },
    {
     "name": "stderr",
     "output_type": "stream",
     "text": [
      "C:\\Users\\thithilab\\anaconda3\\envs\\yolov5_april\\lib\\site-packages\\ipykernel_launcher.py:11: FutureWarning: `multichannel` is a deprecated argument name for `hog`. It will be removed in version 1.0. Please use `channel_axis` instead.\n",
      "  # This is added back by InteractiveShellApp.init_path()\n",
      "C:\\Users\\thithilab\\anaconda3\\envs\\yolov5_april\\lib\\site-packages\\sklearn\\preprocessing\\_label.py:154: DataConversionWarning: A column-vector y was passed when a 1d array was expected. Please change the shape of y to (n_samples, ), for example using ravel().\n",
      "  y = column_or_1d(y, warn=True)\n",
      "video 1/1 (1293/3933) D:\\815_CowDataChecking\\20221229\\20221229_M_cow\\20221229_061532_21C6.mkv: 640x640 1 cow, Done. (0.014s)\n"
     ]
    },
    {
     "name": "stdout",
     "output_type": "stream",
     "text": [
      "4\n",
      "['3']\n"
     ]
    },
    {
     "name": "stderr",
     "output_type": "stream",
     "text": [
      "C:\\Users\\thithilab\\anaconda3\\envs\\yolov5_april\\lib\\site-packages\\ipykernel_launcher.py:11: FutureWarning: `multichannel` is a deprecated argument name for `hog`. It will be removed in version 1.0. Please use `channel_axis` instead.\n",
      "  # This is added back by InteractiveShellApp.init_path()\n",
      "C:\\Users\\thithilab\\anaconda3\\envs\\yolov5_april\\lib\\site-packages\\sklearn\\preprocessing\\_label.py:154: DataConversionWarning: A column-vector y was passed when a 1d array was expected. Please change the shape of y to (n_samples, ), for example using ravel().\n",
      "  y = column_or_1d(y, warn=True)\n",
      "video 1/1 (1294/3933) D:\\815_CowDataChecking\\20221229\\20221229_M_cow\\20221229_061532_21C6.mkv: 640x640 1 cow, Done. (0.018s)\n"
     ]
    },
    {
     "name": "stdout",
     "output_type": "stream",
     "text": [
      "4\n",
      "['3']\n"
     ]
    },
    {
     "name": "stderr",
     "output_type": "stream",
     "text": [
      "C:\\Users\\thithilab\\anaconda3\\envs\\yolov5_april\\lib\\site-packages\\ipykernel_launcher.py:11: FutureWarning: `multichannel` is a deprecated argument name for `hog`. It will be removed in version 1.0. Please use `channel_axis` instead.\n",
      "  # This is added back by InteractiveShellApp.init_path()\n",
      "C:\\Users\\thithilab\\anaconda3\\envs\\yolov5_april\\lib\\site-packages\\sklearn\\preprocessing\\_label.py:154: DataConversionWarning: A column-vector y was passed when a 1d array was expected. Please change the shape of y to (n_samples, ), for example using ravel().\n",
      "  y = column_or_1d(y, warn=True)\n",
      "video 1/1 (1295/3933) D:\\815_CowDataChecking\\20221229\\20221229_M_cow\\20221229_061532_21C6.mkv: 640x640 1 cow, Done. (0.025s)\n"
     ]
    },
    {
     "name": "stdout",
     "output_type": "stream",
     "text": [
      "4\n",
      "['3']\n"
     ]
    },
    {
     "name": "stderr",
     "output_type": "stream",
     "text": [
      "C:\\Users\\thithilab\\anaconda3\\envs\\yolov5_april\\lib\\site-packages\\ipykernel_launcher.py:11: FutureWarning: `multichannel` is a deprecated argument name for `hog`. It will be removed in version 1.0. Please use `channel_axis` instead.\n",
      "  # This is added back by InteractiveShellApp.init_path()\n",
      "C:\\Users\\thithilab\\anaconda3\\envs\\yolov5_april\\lib\\site-packages\\sklearn\\preprocessing\\_label.py:154: DataConversionWarning: A column-vector y was passed when a 1d array was expected. Please change the shape of y to (n_samples, ), for example using ravel().\n",
      "  y = column_or_1d(y, warn=True)\n",
      "video 1/1 (1296/3933) D:\\815_CowDataChecking\\20221229\\20221229_M_cow\\20221229_061532_21C6.mkv: 640x640 1 cow, Done. (0.013s)\n"
     ]
    },
    {
     "name": "stdout",
     "output_type": "stream",
     "text": [
      "4\n",
      "['3']\n"
     ]
    },
    {
     "name": "stderr",
     "output_type": "stream",
     "text": [
      "C:\\Users\\thithilab\\anaconda3\\envs\\yolov5_april\\lib\\site-packages\\ipykernel_launcher.py:11: FutureWarning: `multichannel` is a deprecated argument name for `hog`. It will be removed in version 1.0. Please use `channel_axis` instead.\n",
      "  # This is added back by InteractiveShellApp.init_path()\n",
      "C:\\Users\\thithilab\\anaconda3\\envs\\yolov5_april\\lib\\site-packages\\sklearn\\preprocessing\\_label.py:154: DataConversionWarning: A column-vector y was passed when a 1d array was expected. Please change the shape of y to (n_samples, ), for example using ravel().\n",
      "  y = column_or_1d(y, warn=True)\n",
      "video 1/1 (1297/3933) D:\\815_CowDataChecking\\20221229\\20221229_M_cow\\20221229_061532_21C6.mkv: 640x640 1 cow, Done. (0.013s)\n",
      "video 1/1 (1298/3933) D:\\815_CowDataChecking\\20221229\\20221229_M_cow\\20221229_061532_21C6.mkv: 640x640 1 cow, Done. (0.014s)\n"
     ]
    },
    {
     "name": "stdout",
     "output_type": "stream",
     "text": [
      "4\n",
      "['3']\n"
     ]
    },
    {
     "name": "stderr",
     "output_type": "stream",
     "text": [
      "video 1/1 (1299/3933) D:\\815_CowDataChecking\\20221229\\20221229_M_cow\\20221229_061532_21C6.mkv: 640x640 1 cow, Done. (0.023s)\n",
      "C:\\Users\\thithilab\\anaconda3\\envs\\yolov5_april\\lib\\site-packages\\ipykernel_launcher.py:11: FutureWarning: `multichannel` is a deprecated argument name for `hog`. It will be removed in version 1.0. Please use `channel_axis` instead.\n",
      "  # This is added back by InteractiveShellApp.init_path()\n",
      "C:\\Users\\thithilab\\anaconda3\\envs\\yolov5_april\\lib\\site-packages\\sklearn\\preprocessing\\_label.py:154: DataConversionWarning: A column-vector y was passed when a 1d array was expected. Please change the shape of y to (n_samples, ), for example using ravel().\n",
      "  y = column_or_1d(y, warn=True)\n",
      "video 1/1 (1300/3933) D:\\815_CowDataChecking\\20221229\\20221229_M_cow\\20221229_061532_21C6.mkv: 640x640 1 cow, Done. (0.017s)\n"
     ]
    },
    {
     "name": "stdout",
     "output_type": "stream",
     "text": [
      "4\n",
      "['3']\n"
     ]
    },
    {
     "name": "stderr",
     "output_type": "stream",
     "text": [
      "C:\\Users\\thithilab\\anaconda3\\envs\\yolov5_april\\lib\\site-packages\\ipykernel_launcher.py:11: FutureWarning: `multichannel` is a deprecated argument name for `hog`. It will be removed in version 1.0. Please use `channel_axis` instead.\n",
      "  # This is added back by InteractiveShellApp.init_path()\n",
      "C:\\Users\\thithilab\\anaconda3\\envs\\yolov5_april\\lib\\site-packages\\sklearn\\preprocessing\\_label.py:154: DataConversionWarning: A column-vector y was passed when a 1d array was expected. Please change the shape of y to (n_samples, ), for example using ravel().\n",
      "  y = column_or_1d(y, warn=True)\n",
      "video 1/1 (1301/3933) D:\\815_CowDataChecking\\20221229\\20221229_M_cow\\20221229_061532_21C6.mkv: 640x640 2 cows, Done. (0.015s)\n"
     ]
    },
    {
     "name": "stdout",
     "output_type": "stream",
     "text": [
      "4\n",
      "['3']\n"
     ]
    },
    {
     "name": "stderr",
     "output_type": "stream",
     "text": [
      "C:\\Users\\thithilab\\anaconda3\\envs\\yolov5_april\\lib\\site-packages\\ipykernel_launcher.py:11: FutureWarning: `multichannel` is a deprecated argument name for `hog`. It will be removed in version 1.0. Please use `channel_axis` instead.\n",
      "  # This is added back by InteractiveShellApp.init_path()\n",
      "C:\\Users\\thithilab\\anaconda3\\envs\\yolov5_april\\lib\\site-packages\\sklearn\\preprocessing\\_label.py:154: DataConversionWarning: A column-vector y was passed when a 1d array was expected. Please change the shape of y to (n_samples, ), for example using ravel().\n",
      "  y = column_or_1d(y, warn=True)\n",
      "video 1/1 (1302/3933) D:\\815_CowDataChecking\\20221229\\20221229_M_cow\\20221229_061532_21C6.mkv: 640x640 2 cows, Done. (0.013s)\n"
     ]
    },
    {
     "name": "stdout",
     "output_type": "stream",
     "text": [
      "4\n",
      "['3']\n"
     ]
    },
    {
     "name": "stderr",
     "output_type": "stream",
     "text": [
      "C:\\Users\\thithilab\\anaconda3\\envs\\yolov5_april\\lib\\site-packages\\ipykernel_launcher.py:11: FutureWarning: `multichannel` is a deprecated argument name for `hog`. It will be removed in version 1.0. Please use `channel_axis` instead.\n",
      "  # This is added back by InteractiveShellApp.init_path()\n",
      "C:\\Users\\thithilab\\anaconda3\\envs\\yolov5_april\\lib\\site-packages\\sklearn\\preprocessing\\_label.py:154: DataConversionWarning: A column-vector y was passed when a 1d array was expected. Please change the shape of y to (n_samples, ), for example using ravel().\n",
      "  y = column_or_1d(y, warn=True)\n",
      "video 1/1 (1303/3933) D:\\815_CowDataChecking\\20221229\\20221229_M_cow\\20221229_061532_21C6.mkv: 640x640 2 cows, Done. (0.013s)\n"
     ]
    },
    {
     "name": "stdout",
     "output_type": "stream",
     "text": [
      "4\n",
      "['3']\n"
     ]
    },
    {
     "name": "stderr",
     "output_type": "stream",
     "text": [
      "C:\\Users\\thithilab\\anaconda3\\envs\\yolov5_april\\lib\\site-packages\\ipykernel_launcher.py:11: FutureWarning: `multichannel` is a deprecated argument name for `hog`. It will be removed in version 1.0. Please use `channel_axis` instead.\n",
      "  # This is added back by InteractiveShellApp.init_path()\n",
      "C:\\Users\\thithilab\\anaconda3\\envs\\yolov5_april\\lib\\site-packages\\sklearn\\preprocessing\\_label.py:154: DataConversionWarning: A column-vector y was passed when a 1d array was expected. Please change the shape of y to (n_samples, ), for example using ravel().\n",
      "  y = column_or_1d(y, warn=True)\n",
      "video 1/1 (1304/3933) D:\\815_CowDataChecking\\20221229\\20221229_M_cow\\20221229_061532_21C6.mkv: 640x640 2 cows, Done. (0.019s)\n"
     ]
    },
    {
     "name": "stdout",
     "output_type": "stream",
     "text": [
      "4\n",
      "['3']\n"
     ]
    },
    {
     "name": "stderr",
     "output_type": "stream",
     "text": [
      "C:\\Users\\thithilab\\anaconda3\\envs\\yolov5_april\\lib\\site-packages\\ipykernel_launcher.py:11: FutureWarning: `multichannel` is a deprecated argument name for `hog`. It will be removed in version 1.0. Please use `channel_axis` instead.\n",
      "  # This is added back by InteractiveShellApp.init_path()\n",
      "C:\\Users\\thithilab\\anaconda3\\envs\\yolov5_april\\lib\\site-packages\\sklearn\\preprocessing\\_label.py:154: DataConversionWarning: A column-vector y was passed when a 1d array was expected. Please change the shape of y to (n_samples, ), for example using ravel().\n",
      "  y = column_or_1d(y, warn=True)\n",
      "video 1/1 (1305/3933) D:\\815_CowDataChecking\\20221229\\20221229_M_cow\\20221229_061532_21C6.mkv: 640x640 2 cows, Done. (0.014s)\n"
     ]
    },
    {
     "name": "stdout",
     "output_type": "stream",
     "text": [
      "4\n",
      "['3']\n"
     ]
    },
    {
     "name": "stderr",
     "output_type": "stream",
     "text": [
      "C:\\Users\\thithilab\\anaconda3\\envs\\yolov5_april\\lib\\site-packages\\ipykernel_launcher.py:11: FutureWarning: `multichannel` is a deprecated argument name for `hog`. It will be removed in version 1.0. Please use `channel_axis` instead.\n",
      "  # This is added back by InteractiveShellApp.init_path()\n",
      "C:\\Users\\thithilab\\anaconda3\\envs\\yolov5_april\\lib\\site-packages\\sklearn\\preprocessing\\_label.py:154: DataConversionWarning: A column-vector y was passed when a 1d array was expected. Please change the shape of y to (n_samples, ), for example using ravel().\n",
      "  y = column_or_1d(y, warn=True)\n",
      "video 1/1 (1306/3933) D:\\815_CowDataChecking\\20221229\\20221229_M_cow\\20221229_061532_21C6.mkv: 640x640 2 cows, Done. (0.014s)\n"
     ]
    },
    {
     "name": "stdout",
     "output_type": "stream",
     "text": [
      "4\n",
      "['3']\n"
     ]
    },
    {
     "name": "stderr",
     "output_type": "stream",
     "text": [
      "C:\\Users\\thithilab\\anaconda3\\envs\\yolov5_april\\lib\\site-packages\\ipykernel_launcher.py:11: FutureWarning: `multichannel` is a deprecated argument name for `hog`. It will be removed in version 1.0. Please use `channel_axis` instead.\n",
      "  # This is added back by InteractiveShellApp.init_path()\n",
      "C:\\Users\\thithilab\\anaconda3\\envs\\yolov5_april\\lib\\site-packages\\sklearn\\preprocessing\\_label.py:154: DataConversionWarning: A column-vector y was passed when a 1d array was expected. Please change the shape of y to (n_samples, ), for example using ravel().\n",
      "  y = column_or_1d(y, warn=True)\n",
      "video 1/1 (1307/3933) D:\\815_CowDataChecking\\20221229\\20221229_M_cow\\20221229_061532_21C6.mkv: 640x640 2 cows, Done. (0.014s)\n"
     ]
    },
    {
     "name": "stdout",
     "output_type": "stream",
     "text": [
      "4\n",
      "['3']\n"
     ]
    },
    {
     "name": "stderr",
     "output_type": "stream",
     "text": [
      "C:\\Users\\thithilab\\anaconda3\\envs\\yolov5_april\\lib\\site-packages\\ipykernel_launcher.py:11: FutureWarning: `multichannel` is a deprecated argument name for `hog`. It will be removed in version 1.0. Please use `channel_axis` instead.\n",
      "  # This is added back by InteractiveShellApp.init_path()\n",
      "C:\\Users\\thithilab\\anaconda3\\envs\\yolov5_april\\lib\\site-packages\\sklearn\\preprocessing\\_label.py:154: DataConversionWarning: A column-vector y was passed when a 1d array was expected. Please change the shape of y to (n_samples, ), for example using ravel().\n",
      "  y = column_or_1d(y, warn=True)\n",
      "video 1/1 (1308/3933) D:\\815_CowDataChecking\\20221229\\20221229_M_cow\\20221229_061532_21C6.mkv: 640x640 2 cows, Done. (0.025s)\n",
      "video 1/1 (1309/3933) D:\\815_CowDataChecking\\20221229\\20221229_M_cow\\20221229_061532_21C6.mkv: 640x640 1 cow, Done. (0.016s)\n"
     ]
    },
    {
     "name": "stdout",
     "output_type": "stream",
     "text": [
      "4\n",
      "['3']\n"
     ]
    },
    {
     "name": "stderr",
     "output_type": "stream",
     "text": [
      "C:\\Users\\thithilab\\anaconda3\\envs\\yolov5_april\\lib\\site-packages\\ipykernel_launcher.py:11: FutureWarning: `multichannel` is a deprecated argument name for `hog`. It will be removed in version 1.0. Please use `channel_axis` instead.\n",
      "  # This is added back by InteractiveShellApp.init_path()\n",
      "C:\\Users\\thithilab\\anaconda3\\envs\\yolov5_april\\lib\\site-packages\\sklearn\\preprocessing\\_label.py:154: DataConversionWarning: A column-vector y was passed when a 1d array was expected. Please change the shape of y to (n_samples, ), for example using ravel().\n",
      "  y = column_or_1d(y, warn=True)\n",
      "video 1/1 (1310/3933) D:\\815_CowDataChecking\\20221229\\20221229_M_cow\\20221229_061532_21C6.mkv: 640x640 2 cows, Done. (0.021s)\n"
     ]
    },
    {
     "name": "stdout",
     "output_type": "stream",
     "text": [
      "4\n",
      "['3']\n"
     ]
    },
    {
     "name": "stderr",
     "output_type": "stream",
     "text": [
      "C:\\Users\\thithilab\\anaconda3\\envs\\yolov5_april\\lib\\site-packages\\ipykernel_launcher.py:11: FutureWarning: `multichannel` is a deprecated argument name for `hog`. It will be removed in version 1.0. Please use `channel_axis` instead.\n",
      "  # This is added back by InteractiveShellApp.init_path()\n",
      "C:\\Users\\thithilab\\anaconda3\\envs\\yolov5_april\\lib\\site-packages\\sklearn\\preprocessing\\_label.py:154: DataConversionWarning: A column-vector y was passed when a 1d array was expected. Please change the shape of y to (n_samples, ), for example using ravel().\n",
      "  y = column_or_1d(y, warn=True)\n",
      "video 1/1 (1311/3933) D:\\815_CowDataChecking\\20221229\\20221229_M_cow\\20221229_061532_21C6.mkv: 640x640 2 cows, Done. (0.015s)\n"
     ]
    },
    {
     "name": "stdout",
     "output_type": "stream",
     "text": [
      "4\n",
      "['3']\n"
     ]
    },
    {
     "name": "stderr",
     "output_type": "stream",
     "text": [
      "C:\\Users\\thithilab\\anaconda3\\envs\\yolov5_april\\lib\\site-packages\\ipykernel_launcher.py:11: FutureWarning: `multichannel` is a deprecated argument name for `hog`. It will be removed in version 1.0. Please use `channel_axis` instead.\n",
      "  # This is added back by InteractiveShellApp.init_path()\n",
      "C:\\Users\\thithilab\\anaconda3\\envs\\yolov5_april\\lib\\site-packages\\sklearn\\preprocessing\\_label.py:154: DataConversionWarning: A column-vector y was passed when a 1d array was expected. Please change the shape of y to (n_samples, ), for example using ravel().\n",
      "  y = column_or_1d(y, warn=True)\n",
      "video 1/1 (1312/3933) D:\\815_CowDataChecking\\20221229\\20221229_M_cow\\20221229_061532_21C6.mkv: 640x640 2 cows, Done. (0.016s)\n"
     ]
    },
    {
     "name": "stdout",
     "output_type": "stream",
     "text": [
      "4\n",
      "['3']\n"
     ]
    },
    {
     "name": "stderr",
     "output_type": "stream",
     "text": [
      "C:\\Users\\thithilab\\anaconda3\\envs\\yolov5_april\\lib\\site-packages\\ipykernel_launcher.py:11: FutureWarning: `multichannel` is a deprecated argument name for `hog`. It will be removed in version 1.0. Please use `channel_axis` instead.\n",
      "  # This is added back by InteractiveShellApp.init_path()\n",
      "C:\\Users\\thithilab\\anaconda3\\envs\\yolov5_april\\lib\\site-packages\\sklearn\\preprocessing\\_label.py:154: DataConversionWarning: A column-vector y was passed when a 1d array was expected. Please change the shape of y to (n_samples, ), for example using ravel().\n",
      "  y = column_or_1d(y, warn=True)\n",
      "video 1/1 (1313/3933) D:\\815_CowDataChecking\\20221229\\20221229_M_cow\\20221229_061532_21C6.mkv: 640x640 2 cows, Done. (0.015s)\n"
     ]
    },
    {
     "name": "stdout",
     "output_type": "stream",
     "text": [
      "4\n",
      "['3']\n"
     ]
    },
    {
     "name": "stderr",
     "output_type": "stream",
     "text": [
      "C:\\Users\\thithilab\\anaconda3\\envs\\yolov5_april\\lib\\site-packages\\ipykernel_launcher.py:11: FutureWarning: `multichannel` is a deprecated argument name for `hog`. It will be removed in version 1.0. Please use `channel_axis` instead.\n",
      "  # This is added back by InteractiveShellApp.init_path()\n",
      "C:\\Users\\thithilab\\anaconda3\\envs\\yolov5_april\\lib\\site-packages\\sklearn\\preprocessing\\_label.py:154: DataConversionWarning: A column-vector y was passed when a 1d array was expected. Please change the shape of y to (n_samples, ), for example using ravel().\n",
      "  y = column_or_1d(y, warn=True)\n",
      "video 1/1 (1314/3933) D:\\815_CowDataChecking\\20221229\\20221229_M_cow\\20221229_061532_21C6.mkv: 640x640 2 cows, Done. (0.026s)\n"
     ]
    },
    {
     "name": "stdout",
     "output_type": "stream",
     "text": [
      "4\n",
      "['3']\n"
     ]
    },
    {
     "name": "stderr",
     "output_type": "stream",
     "text": [
      "C:\\Users\\thithilab\\anaconda3\\envs\\yolov5_april\\lib\\site-packages\\ipykernel_launcher.py:11: FutureWarning: `multichannel` is a deprecated argument name for `hog`. It will be removed in version 1.0. Please use `channel_axis` instead.\n",
      "  # This is added back by InteractiveShellApp.init_path()\n",
      "C:\\Users\\thithilab\\anaconda3\\envs\\yolov5_april\\lib\\site-packages\\sklearn\\preprocessing\\_label.py:154: DataConversionWarning: A column-vector y was passed when a 1d array was expected. Please change the shape of y to (n_samples, ), for example using ravel().\n",
      "  y = column_or_1d(y, warn=True)\n",
      "video 1/1 (1315/3933) D:\\815_CowDataChecking\\20221229\\20221229_M_cow\\20221229_061532_21C6.mkv: 640x640 2 cows, Done. (0.014s)\n"
     ]
    },
    {
     "name": "stdout",
     "output_type": "stream",
     "text": [
      "4\n",
      "['3']\n"
     ]
    },
    {
     "name": "stderr",
     "output_type": "stream",
     "text": [
      "C:\\Users\\thithilab\\anaconda3\\envs\\yolov5_april\\lib\\site-packages\\ipykernel_launcher.py:11: FutureWarning: `multichannel` is a deprecated argument name for `hog`. It will be removed in version 1.0. Please use `channel_axis` instead.\n",
      "  # This is added back by InteractiveShellApp.init_path()\n",
      "C:\\Users\\thithilab\\anaconda3\\envs\\yolov5_april\\lib\\site-packages\\sklearn\\preprocessing\\_label.py:154: DataConversionWarning: A column-vector y was passed when a 1d array was expected. Please change the shape of y to (n_samples, ), for example using ravel().\n",
      "  y = column_or_1d(y, warn=True)\n",
      "video 1/1 (1316/3933) D:\\815_CowDataChecking\\20221229\\20221229_M_cow\\20221229_061532_21C6.mkv: 640x640 2 cows, Done. (0.013s)\n"
     ]
    },
    {
     "name": "stdout",
     "output_type": "stream",
     "text": [
      "4\n",
      "['3']\n"
     ]
    },
    {
     "name": "stderr",
     "output_type": "stream",
     "text": [
      "C:\\Users\\thithilab\\anaconda3\\envs\\yolov5_april\\lib\\site-packages\\ipykernel_launcher.py:11: FutureWarning: `multichannel` is a deprecated argument name for `hog`. It will be removed in version 1.0. Please use `channel_axis` instead.\n",
      "  # This is added back by InteractiveShellApp.init_path()\n",
      "C:\\Users\\thithilab\\anaconda3\\envs\\yolov5_april\\lib\\site-packages\\sklearn\\preprocessing\\_label.py:154: DataConversionWarning: A column-vector y was passed when a 1d array was expected. Please change the shape of y to (n_samples, ), for example using ravel().\n",
      "  y = column_or_1d(y, warn=True)\n",
      "video 1/1 (1317/3933) D:\\815_CowDataChecking\\20221229\\20221229_M_cow\\20221229_061532_21C6.mkv: 640x640 2 cows, Done. (0.017s)\n",
      "video 1/1 (1318/3933) D:\\815_CowDataChecking\\20221229\\20221229_M_cow\\20221229_061532_21C6.mkv: 640x640 1 cow, Done. (0.016s)\n"
     ]
    },
    {
     "name": "stdout",
     "output_type": "stream",
     "text": [
      "4\n",
      "['3']\n"
     ]
    },
    {
     "name": "stderr",
     "output_type": "stream",
     "text": [
      "C:\\Users\\thithilab\\anaconda3\\envs\\yolov5_april\\lib\\site-packages\\ipykernel_launcher.py:11: FutureWarning: `multichannel` is a deprecated argument name for `hog`. It will be removed in version 1.0. Please use `channel_axis` instead.\n",
      "  # This is added back by InteractiveShellApp.init_path()\n",
      "C:\\Users\\thithilab\\anaconda3\\envs\\yolov5_april\\lib\\site-packages\\sklearn\\preprocessing\\_label.py:154: DataConversionWarning: A column-vector y was passed when a 1d array was expected. Please change the shape of y to (n_samples, ), for example using ravel().\n",
      "  y = column_or_1d(y, warn=True)\n",
      "video 1/1 (1319/3933) D:\\815_CowDataChecking\\20221229\\20221229_M_cow\\20221229_061532_21C6.mkv: 640x640 2 cows, Done. (0.014s)\n"
     ]
    },
    {
     "name": "stdout",
     "output_type": "stream",
     "text": [
      "4\n",
      "['3']\n"
     ]
    },
    {
     "name": "stderr",
     "output_type": "stream",
     "text": [
      "C:\\Users\\thithilab\\anaconda3\\envs\\yolov5_april\\lib\\site-packages\\ipykernel_launcher.py:11: FutureWarning: `multichannel` is a deprecated argument name for `hog`. It will be removed in version 1.0. Please use `channel_axis` instead.\n",
      "  # This is added back by InteractiveShellApp.init_path()\n",
      "C:\\Users\\thithilab\\anaconda3\\envs\\yolov5_april\\lib\\site-packages\\sklearn\\preprocessing\\_label.py:154: DataConversionWarning: A column-vector y was passed when a 1d array was expected. Please change the shape of y to (n_samples, ), for example using ravel().\n",
      "  y = column_or_1d(y, warn=True)\n",
      "video 1/1 (1320/3933) D:\\815_CowDataChecking\\20221229\\20221229_M_cow\\20221229_061532_21C6.mkv: 640x640 2 cows, Done. (0.018s)\n"
     ]
    },
    {
     "name": "stdout",
     "output_type": "stream",
     "text": [
      "4\n",
      "['3']\n"
     ]
    },
    {
     "name": "stderr",
     "output_type": "stream",
     "text": [
      "C:\\Users\\thithilab\\anaconda3\\envs\\yolov5_april\\lib\\site-packages\\ipykernel_launcher.py:11: FutureWarning: `multichannel` is a deprecated argument name for `hog`. It will be removed in version 1.0. Please use `channel_axis` instead.\n",
      "  # This is added back by InteractiveShellApp.init_path()\n",
      "C:\\Users\\thithilab\\anaconda3\\envs\\yolov5_april\\lib\\site-packages\\sklearn\\preprocessing\\_label.py:154: DataConversionWarning: A column-vector y was passed when a 1d array was expected. Please change the shape of y to (n_samples, ), for example using ravel().\n",
      "  y = column_or_1d(y, warn=True)\n",
      "video 1/1 (1321/3933) D:\\815_CowDataChecking\\20221229\\20221229_M_cow\\20221229_061532_21C6.mkv: 640x640 2 cows, Done. (0.014s)\n"
     ]
    },
    {
     "name": "stdout",
     "output_type": "stream",
     "text": [
      "4\n",
      "['3']\n"
     ]
    },
    {
     "name": "stderr",
     "output_type": "stream",
     "text": [
      "C:\\Users\\thithilab\\anaconda3\\envs\\yolov5_april\\lib\\site-packages\\ipykernel_launcher.py:11: FutureWarning: `multichannel` is a deprecated argument name for `hog`. It will be removed in version 1.0. Please use `channel_axis` instead.\n",
      "  # This is added back by InteractiveShellApp.init_path()\n",
      "C:\\Users\\thithilab\\anaconda3\\envs\\yolov5_april\\lib\\site-packages\\sklearn\\preprocessing\\_label.py:154: DataConversionWarning: A column-vector y was passed when a 1d array was expected. Please change the shape of y to (n_samples, ), for example using ravel().\n",
      "  y = column_or_1d(y, warn=True)\n",
      "video 1/1 (1322/3933) D:\\815_CowDataChecking\\20221229\\20221229_M_cow\\20221229_061532_21C6.mkv: 640x640 2 cows, Done. (0.014s)\n"
     ]
    },
    {
     "name": "stdout",
     "output_type": "stream",
     "text": [
      "4\n",
      "['3']\n"
     ]
    },
    {
     "name": "stderr",
     "output_type": "stream",
     "text": [
      "C:\\Users\\thithilab\\anaconda3\\envs\\yolov5_april\\lib\\site-packages\\ipykernel_launcher.py:11: FutureWarning: `multichannel` is a deprecated argument name for `hog`. It will be removed in version 1.0. Please use `channel_axis` instead.\n",
      "  # This is added back by InteractiveShellApp.init_path()\n",
      "C:\\Users\\thithilab\\anaconda3\\envs\\yolov5_april\\lib\\site-packages\\sklearn\\preprocessing\\_label.py:154: DataConversionWarning: A column-vector y was passed when a 1d array was expected. Please change the shape of y to (n_samples, ), for example using ravel().\n",
      "  y = column_or_1d(y, warn=True)\n",
      "video 1/1 (1323/3933) D:\\815_CowDataChecking\\20221229\\20221229_M_cow\\20221229_061532_21C6.mkv: 640x640 2 cows, Done. (0.027s)\n"
     ]
    },
    {
     "name": "stdout",
     "output_type": "stream",
     "text": [
      "4\n",
      "['3']\n"
     ]
    },
    {
     "name": "stderr",
     "output_type": "stream",
     "text": [
      "C:\\Users\\thithilab\\anaconda3\\envs\\yolov5_april\\lib\\site-packages\\ipykernel_launcher.py:11: FutureWarning: `multichannel` is a deprecated argument name for `hog`. It will be removed in version 1.0. Please use `channel_axis` instead.\n",
      "  # This is added back by InteractiveShellApp.init_path()\n",
      "C:\\Users\\thithilab\\anaconda3\\envs\\yolov5_april\\lib\\site-packages\\sklearn\\preprocessing\\_label.py:154: DataConversionWarning: A column-vector y was passed when a 1d array was expected. Please change the shape of y to (n_samples, ), for example using ravel().\n",
      "  y = column_or_1d(y, warn=True)\n",
      "video 1/1 (1324/3933) D:\\815_CowDataChecking\\20221229\\20221229_M_cow\\20221229_061532_21C6.mkv: 640x640 2 cows, Done. (0.028s)\n"
     ]
    },
    {
     "name": "stdout",
     "output_type": "stream",
     "text": [
      "4\n",
      "['3']\n"
     ]
    },
    {
     "name": "stderr",
     "output_type": "stream",
     "text": [
      "C:\\Users\\thithilab\\anaconda3\\envs\\yolov5_april\\lib\\site-packages\\ipykernel_launcher.py:11: FutureWarning: `multichannel` is a deprecated argument name for `hog`. It will be removed in version 1.0. Please use `channel_axis` instead.\n",
      "  # This is added back by InteractiveShellApp.init_path()\n",
      "C:\\Users\\thithilab\\anaconda3\\envs\\yolov5_april\\lib\\site-packages\\sklearn\\preprocessing\\_label.py:154: DataConversionWarning: A column-vector y was passed when a 1d array was expected. Please change the shape of y to (n_samples, ), for example using ravel().\n",
      "  y = column_or_1d(y, warn=True)\n",
      "video 1/1 (1325/3933) D:\\815_CowDataChecking\\20221229\\20221229_M_cow\\20221229_061532_21C6.mkv: 640x640 2 cows, Done. (0.026s)\n"
     ]
    },
    {
     "name": "stdout",
     "output_type": "stream",
     "text": [
      "4\n",
      "['3']\n"
     ]
    },
    {
     "name": "stderr",
     "output_type": "stream",
     "text": [
      "C:\\Users\\thithilab\\anaconda3\\envs\\yolov5_april\\lib\\site-packages\\ipykernel_launcher.py:11: FutureWarning: `multichannel` is a deprecated argument name for `hog`. It will be removed in version 1.0. Please use `channel_axis` instead.\n",
      "  # This is added back by InteractiveShellApp.init_path()\n",
      "C:\\Users\\thithilab\\anaconda3\\envs\\yolov5_april\\lib\\site-packages\\sklearn\\preprocessing\\_label.py:154: DataConversionWarning: A column-vector y was passed when a 1d array was expected. Please change the shape of y to (n_samples, ), for example using ravel().\n",
      "  y = column_or_1d(y, warn=True)\n",
      "video 1/1 (1326/3933) D:\\815_CowDataChecking\\20221229\\20221229_M_cow\\20221229_061532_21C6.mkv: 640x640 2 cows, Done. (0.014s)\n"
     ]
    },
    {
     "name": "stdout",
     "output_type": "stream",
     "text": [
      "4\n",
      "['3']\n",
      "length is more than 1400 pixel\n"
     ]
    },
    {
     "name": "stderr",
     "output_type": "stream",
     "text": [
      "C:\\Users\\thithilab\\anaconda3\\envs\\yolov5_april\\lib\\site-packages\\ipykernel_launcher.py:11: FutureWarning: `multichannel` is a deprecated argument name for `hog`. It will be removed in version 1.0. Please use `channel_axis` instead.\n",
      "  # This is added back by InteractiveShellApp.init_path()\n",
      "C:\\Users\\thithilab\\anaconda3\\envs\\yolov5_april\\lib\\site-packages\\sklearn\\preprocessing\\_label.py:154: DataConversionWarning: A column-vector y was passed when a 1d array was expected. Please change the shape of y to (n_samples, ), for example using ravel().\n",
      "  y = column_or_1d(y, warn=True)\n",
      "C:\\Users\\thithilab\\anaconda3\\envs\\yolov5_april\\lib\\site-packages\\ipykernel_launcher.py:9: FutureWarning: elementwise comparison failed; returning scalar instead, but in the future will perform elementwise comparison\n",
      "  if __name__ == \"__main__\":\n",
      "video 1/1 (1327/3933) D:\\815_CowDataChecking\\20221229\\20221229_M_cow\\20221229_061532_21C6.mkv: 640x640 2 cows, Done. (0.027s)\n"
     ]
    },
    {
     "name": "stdout",
     "output_type": "stream",
     "text": [
      "5\n",
      "['4']\n",
      "length is more than 1400 pixel\n"
     ]
    },
    {
     "name": "stderr",
     "output_type": "stream",
     "text": [
      "C:\\Users\\thithilab\\anaconda3\\envs\\yolov5_april\\lib\\site-packages\\ipykernel_launcher.py:11: FutureWarning: `multichannel` is a deprecated argument name for `hog`. It will be removed in version 1.0. Please use `channel_axis` instead.\n",
      "  # This is added back by InteractiveShellApp.init_path()\n",
      "C:\\Users\\thithilab\\anaconda3\\envs\\yolov5_april\\lib\\site-packages\\sklearn\\preprocessing\\_label.py:154: DataConversionWarning: A column-vector y was passed when a 1d array was expected. Please change the shape of y to (n_samples, ), for example using ravel().\n",
      "  y = column_or_1d(y, warn=True)\n",
      "video 1/1 (1328/3933) D:\\815_CowDataChecking\\20221229\\20221229_M_cow\\20221229_061532_21C6.mkv: 640x640 2 cows, Done. (0.023s)\n"
     ]
    },
    {
     "name": "stdout",
     "output_type": "stream",
     "text": [
      "5\n",
      "['4']\n",
      "length is more than 1400 pixel\n"
     ]
    },
    {
     "name": "stderr",
     "output_type": "stream",
     "text": [
      "C:\\Users\\thithilab\\anaconda3\\envs\\yolov5_april\\lib\\site-packages\\ipykernel_launcher.py:11: FutureWarning: `multichannel` is a deprecated argument name for `hog`. It will be removed in version 1.0. Please use `channel_axis` instead.\n",
      "  # This is added back by InteractiveShellApp.init_path()\n",
      "C:\\Users\\thithilab\\anaconda3\\envs\\yolov5_april\\lib\\site-packages\\sklearn\\preprocessing\\_label.py:154: DataConversionWarning: A column-vector y was passed when a 1d array was expected. Please change the shape of y to (n_samples, ), for example using ravel().\n",
      "  y = column_or_1d(y, warn=True)\n",
      "video 1/1 (1329/3933) D:\\815_CowDataChecking\\20221229\\20221229_M_cow\\20221229_061532_21C6.mkv: 640x640 2 cows, Done. (0.014s)\n"
     ]
    },
    {
     "name": "stdout",
     "output_type": "stream",
     "text": [
      "5\n",
      "['4']\n",
      "length is more than 1400 pixel\n"
     ]
    },
    {
     "name": "stderr",
     "output_type": "stream",
     "text": [
      "C:\\Users\\thithilab\\anaconda3\\envs\\yolov5_april\\lib\\site-packages\\ipykernel_launcher.py:11: FutureWarning: `multichannel` is a deprecated argument name for `hog`. It will be removed in version 1.0. Please use `channel_axis` instead.\n",
      "  # This is added back by InteractiveShellApp.init_path()\n",
      "C:\\Users\\thithilab\\anaconda3\\envs\\yolov5_april\\lib\\site-packages\\sklearn\\preprocessing\\_label.py:154: DataConversionWarning: A column-vector y was passed when a 1d array was expected. Please change the shape of y to (n_samples, ), for example using ravel().\n",
      "  y = column_or_1d(y, warn=True)\n",
      "video 1/1 (1330/3933) D:\\815_CowDataChecking\\20221229\\20221229_M_cow\\20221229_061532_21C6.mkv: 640x640 2 cows, Done. (0.017s)\n"
     ]
    },
    {
     "name": "stdout",
     "output_type": "stream",
     "text": [
      "5\n",
      "['4']\n"
     ]
    },
    {
     "name": "stderr",
     "output_type": "stream",
     "text": [
      "C:\\Users\\thithilab\\anaconda3\\envs\\yolov5_april\\lib\\site-packages\\ipykernel_launcher.py:11: FutureWarning: `multichannel` is a deprecated argument name for `hog`. It will be removed in version 1.0. Please use `channel_axis` instead.\n",
      "  # This is added back by InteractiveShellApp.init_path()\n",
      "C:\\Users\\thithilab\\anaconda3\\envs\\yolov5_april\\lib\\site-packages\\sklearn\\preprocessing\\_label.py:154: DataConversionWarning: A column-vector y was passed when a 1d array was expected. Please change the shape of y to (n_samples, ), for example using ravel().\n",
      "  y = column_or_1d(y, warn=True)\n",
      "video 1/1 (1331/3933) D:\\815_CowDataChecking\\20221229\\20221229_M_cow\\20221229_061532_21C6.mkv: 640x640 3 cows, Done. (0.026s)\n"
     ]
    },
    {
     "name": "stdout",
     "output_type": "stream",
     "text": [
      "5\n",
      "['4']\n"
     ]
    },
    {
     "name": "stderr",
     "output_type": "stream",
     "text": [
      "C:\\Users\\thithilab\\anaconda3\\envs\\yolov5_april\\lib\\site-packages\\ipykernel_launcher.py:11: FutureWarning: `multichannel` is a deprecated argument name for `hog`. It will be removed in version 1.0. Please use `channel_axis` instead.\n",
      "  # This is added back by InteractiveShellApp.init_path()\n",
      "C:\\Users\\thithilab\\anaconda3\\envs\\yolov5_april\\lib\\site-packages\\sklearn\\preprocessing\\_label.py:154: DataConversionWarning: A column-vector y was passed when a 1d array was expected. Please change the shape of y to (n_samples, ), for example using ravel().\n",
      "  y = column_or_1d(y, warn=True)\n",
      "video 1/1 (1332/3933) D:\\815_CowDataChecking\\20221229\\20221229_M_cow\\20221229_061532_21C6.mkv: 640x640 3 cows, Done. (0.014s)\n"
     ]
    },
    {
     "name": "stdout",
     "output_type": "stream",
     "text": [
      "5\n",
      "['4']\n"
     ]
    },
    {
     "name": "stderr",
     "output_type": "stream",
     "text": [
      "C:\\Users\\thithilab\\anaconda3\\envs\\yolov5_april\\lib\\site-packages\\ipykernel_launcher.py:11: FutureWarning: `multichannel` is a deprecated argument name for `hog`. It will be removed in version 1.0. Please use `channel_axis` instead.\n",
      "  # This is added back by InteractiveShellApp.init_path()\n",
      "C:\\Users\\thithilab\\anaconda3\\envs\\yolov5_april\\lib\\site-packages\\sklearn\\preprocessing\\_label.py:154: DataConversionWarning: A column-vector y was passed when a 1d array was expected. Please change the shape of y to (n_samples, ), for example using ravel().\n",
      "  y = column_or_1d(y, warn=True)\n",
      "video 1/1 (1333/3933) D:\\815_CowDataChecking\\20221229\\20221229_M_cow\\20221229_061532_21C6.mkv: 640x640 3 cows, Done. (0.013s)\n"
     ]
    },
    {
     "name": "stdout",
     "output_type": "stream",
     "text": [
      "5\n",
      "['4']\n",
      "length is more than 1400 pixel\n"
     ]
    },
    {
     "name": "stderr",
     "output_type": "stream",
     "text": [
      "C:\\Users\\thithilab\\anaconda3\\envs\\yolov5_april\\lib\\site-packages\\ipykernel_launcher.py:11: FutureWarning: `multichannel` is a deprecated argument name for `hog`. It will be removed in version 1.0. Please use `channel_axis` instead.\n",
      "  # This is added back by InteractiveShellApp.init_path()\n",
      "C:\\Users\\thithilab\\anaconda3\\envs\\yolov5_april\\lib\\site-packages\\sklearn\\preprocessing\\_label.py:154: DataConversionWarning: A column-vector y was passed when a 1d array was expected. Please change the shape of y to (n_samples, ), for example using ravel().\n",
      "  y = column_or_1d(y, warn=True)\n",
      "video 1/1 (1334/3933) D:\\815_CowDataChecking\\20221229\\20221229_M_cow\\20221229_061532_21C6.mkv: 640x640 3 cows, Done. (0.016s)\n"
     ]
    },
    {
     "name": "stdout",
     "output_type": "stream",
     "text": [
      "5\n",
      "['4']\n"
     ]
    },
    {
     "name": "stderr",
     "output_type": "stream",
     "text": [
      "C:\\Users\\thithilab\\anaconda3\\envs\\yolov5_april\\lib\\site-packages\\ipykernel_launcher.py:11: FutureWarning: `multichannel` is a deprecated argument name for `hog`. It will be removed in version 1.0. Please use `channel_axis` instead.\n",
      "  # This is added back by InteractiveShellApp.init_path()\n",
      "C:\\Users\\thithilab\\anaconda3\\envs\\yolov5_april\\lib\\site-packages\\sklearn\\preprocessing\\_label.py:154: DataConversionWarning: A column-vector y was passed when a 1d array was expected. Please change the shape of y to (n_samples, ), for example using ravel().\n",
      "  y = column_or_1d(y, warn=True)\n",
      "video 1/1 (1335/3933) D:\\815_CowDataChecking\\20221229\\20221229_M_cow\\20221229_061532_21C6.mkv: 640x640 3 cows, Done. (0.022s)\n"
     ]
    },
    {
     "name": "stdout",
     "output_type": "stream",
     "text": [
      "5\n",
      "['4']\n"
     ]
    },
    {
     "name": "stderr",
     "output_type": "stream",
     "text": [
      "C:\\Users\\thithilab\\anaconda3\\envs\\yolov5_april\\lib\\site-packages\\ipykernel_launcher.py:11: FutureWarning: `multichannel` is a deprecated argument name for `hog`. It will be removed in version 1.0. Please use `channel_axis` instead.\n",
      "  # This is added back by InteractiveShellApp.init_path()\n",
      "C:\\Users\\thithilab\\anaconda3\\envs\\yolov5_april\\lib\\site-packages\\sklearn\\preprocessing\\_label.py:154: DataConversionWarning: A column-vector y was passed when a 1d array was expected. Please change the shape of y to (n_samples, ), for example using ravel().\n",
      "  y = column_or_1d(y, warn=True)\n",
      "video 1/1 (1336/3933) D:\\815_CowDataChecking\\20221229\\20221229_M_cow\\20221229_061532_21C6.mkv: 640x640 3 cows, Done. (0.016s)\n"
     ]
    },
    {
     "name": "stdout",
     "output_type": "stream",
     "text": [
      "5\n",
      "['4']\n"
     ]
    },
    {
     "name": "stderr",
     "output_type": "stream",
     "text": [
      "C:\\Users\\thithilab\\anaconda3\\envs\\yolov5_april\\lib\\site-packages\\ipykernel_launcher.py:11: FutureWarning: `multichannel` is a deprecated argument name for `hog`. It will be removed in version 1.0. Please use `channel_axis` instead.\n",
      "  # This is added back by InteractiveShellApp.init_path()\n",
      "C:\\Users\\thithilab\\anaconda3\\envs\\yolov5_april\\lib\\site-packages\\sklearn\\preprocessing\\_label.py:154: DataConversionWarning: A column-vector y was passed when a 1d array was expected. Please change the shape of y to (n_samples, ), for example using ravel().\n",
      "  y = column_or_1d(y, warn=True)\n",
      "video 1/1 (1337/3933) D:\\815_CowDataChecking\\20221229\\20221229_M_cow\\20221229_061532_21C6.mkv: 640x640 3 cows, Done. (0.018s)\n"
     ]
    },
    {
     "name": "stdout",
     "output_type": "stream",
     "text": [
      "5\n",
      "['4']\n"
     ]
    },
    {
     "name": "stderr",
     "output_type": "stream",
     "text": [
      "C:\\Users\\thithilab\\anaconda3\\envs\\yolov5_april\\lib\\site-packages\\ipykernel_launcher.py:11: FutureWarning: `multichannel` is a deprecated argument name for `hog`. It will be removed in version 1.0. Please use `channel_axis` instead.\n",
      "  # This is added back by InteractiveShellApp.init_path()\n",
      "C:\\Users\\thithilab\\anaconda3\\envs\\yolov5_april\\lib\\site-packages\\sklearn\\preprocessing\\_label.py:154: DataConversionWarning: A column-vector y was passed when a 1d array was expected. Please change the shape of y to (n_samples, ), for example using ravel().\n",
      "  y = column_or_1d(y, warn=True)\n",
      "video 1/1 (1338/3933) D:\\815_CowDataChecking\\20221229\\20221229_M_cow\\20221229_061532_21C6.mkv: 640x640 2 cows, Done. (0.014s)\n"
     ]
    },
    {
     "name": "stdout",
     "output_type": "stream",
     "text": [
      "5\n",
      "['4']\n"
     ]
    },
    {
     "name": "stderr",
     "output_type": "stream",
     "text": [
      "C:\\Users\\thithilab\\anaconda3\\envs\\yolov5_april\\lib\\site-packages\\ipykernel_launcher.py:11: FutureWarning: `multichannel` is a deprecated argument name for `hog`. It will be removed in version 1.0. Please use `channel_axis` instead.\n",
      "  # This is added back by InteractiveShellApp.init_path()\n",
      "C:\\Users\\thithilab\\anaconda3\\envs\\yolov5_april\\lib\\site-packages\\sklearn\\preprocessing\\_label.py:154: DataConversionWarning: A column-vector y was passed when a 1d array was expected. Please change the shape of y to (n_samples, ), for example using ravel().\n",
      "  y = column_or_1d(y, warn=True)\n",
      "video 1/1 (1339/3933) D:\\815_CowDataChecking\\20221229\\20221229_M_cow\\20221229_061532_21C6.mkv: 640x640 2 cows, Done. (0.022s)\n"
     ]
    },
    {
     "name": "stdout",
     "output_type": "stream",
     "text": [
      "5\n",
      "['4']\n"
     ]
    },
    {
     "name": "stderr",
     "output_type": "stream",
     "text": [
      "C:\\Users\\thithilab\\anaconda3\\envs\\yolov5_april\\lib\\site-packages\\ipykernel_launcher.py:11: FutureWarning: `multichannel` is a deprecated argument name for `hog`. It will be removed in version 1.0. Please use `channel_axis` instead.\n",
      "  # This is added back by InteractiveShellApp.init_path()\n",
      "C:\\Users\\thithilab\\anaconda3\\envs\\yolov5_april\\lib\\site-packages\\sklearn\\preprocessing\\_label.py:154: DataConversionWarning: A column-vector y was passed when a 1d array was expected. Please change the shape of y to (n_samples, ), for example using ravel().\n",
      "  y = column_or_1d(y, warn=True)\n",
      "video 1/1 (1340/3933) D:\\815_CowDataChecking\\20221229\\20221229_M_cow\\20221229_061532_21C6.mkv: 640x640 2 cows, Done. (0.013s)\n"
     ]
    },
    {
     "name": "stdout",
     "output_type": "stream",
     "text": [
      "5\n",
      "['4']\n"
     ]
    },
    {
     "name": "stderr",
     "output_type": "stream",
     "text": [
      "C:\\Users\\thithilab\\anaconda3\\envs\\yolov5_april\\lib\\site-packages\\ipykernel_launcher.py:11: FutureWarning: `multichannel` is a deprecated argument name for `hog`. It will be removed in version 1.0. Please use `channel_axis` instead.\n",
      "  # This is added back by InteractiveShellApp.init_path()\n",
      "C:\\Users\\thithilab\\anaconda3\\envs\\yolov5_april\\lib\\site-packages\\sklearn\\preprocessing\\_label.py:154: DataConversionWarning: A column-vector y was passed when a 1d array was expected. Please change the shape of y to (n_samples, ), for example using ravel().\n",
      "  y = column_or_1d(y, warn=True)\n",
      "video 1/1 (1341/3933) D:\\815_CowDataChecking\\20221229\\20221229_M_cow\\20221229_061532_21C6.mkv: 640x640 2 cows, Done. (0.013s)\n"
     ]
    },
    {
     "name": "stdout",
     "output_type": "stream",
     "text": [
      "5\n",
      "['4']\n"
     ]
    },
    {
     "name": "stderr",
     "output_type": "stream",
     "text": [
      "C:\\Users\\thithilab\\anaconda3\\envs\\yolov5_april\\lib\\site-packages\\ipykernel_launcher.py:11: FutureWarning: `multichannel` is a deprecated argument name for `hog`. It will be removed in version 1.0. Please use `channel_axis` instead.\n",
      "  # This is added back by InteractiveShellApp.init_path()\n",
      "C:\\Users\\thithilab\\anaconda3\\envs\\yolov5_april\\lib\\site-packages\\sklearn\\preprocessing\\_label.py:154: DataConversionWarning: A column-vector y was passed when a 1d array was expected. Please change the shape of y to (n_samples, ), for example using ravel().\n",
      "  y = column_or_1d(y, warn=True)\n",
      "video 1/1 (1342/3933) D:\\815_CowDataChecking\\20221229\\20221229_M_cow\\20221229_061532_21C6.mkv: 640x640 1 cow, Done. (0.021s)\n"
     ]
    },
    {
     "name": "stdout",
     "output_type": "stream",
     "text": [
      "5\n",
      "['4']\n"
     ]
    },
    {
     "name": "stderr",
     "output_type": "stream",
     "text": [
      "C:\\Users\\thithilab\\anaconda3\\envs\\yolov5_april\\lib\\site-packages\\ipykernel_launcher.py:11: FutureWarning: `multichannel` is a deprecated argument name for `hog`. It will be removed in version 1.0. Please use `channel_axis` instead.\n",
      "  # This is added back by InteractiveShellApp.init_path()\n",
      "C:\\Users\\thithilab\\anaconda3\\envs\\yolov5_april\\lib\\site-packages\\sklearn\\preprocessing\\_label.py:154: DataConversionWarning: A column-vector y was passed when a 1d array was expected. Please change the shape of y to (n_samples, ), for example using ravel().\n",
      "  y = column_or_1d(y, warn=True)\n",
      "video 1/1 (1343/3933) D:\\815_CowDataChecking\\20221229\\20221229_M_cow\\20221229_061532_21C6.mkv: 640x640 1 cow, Done. (0.013s)\n"
     ]
    },
    {
     "name": "stdout",
     "output_type": "stream",
     "text": [
      "5\n",
      "['4']\n"
     ]
    },
    {
     "name": "stderr",
     "output_type": "stream",
     "text": [
      "C:\\Users\\thithilab\\anaconda3\\envs\\yolov5_april\\lib\\site-packages\\ipykernel_launcher.py:11: FutureWarning: `multichannel` is a deprecated argument name for `hog`. It will be removed in version 1.0. Please use `channel_axis` instead.\n",
      "  # This is added back by InteractiveShellApp.init_path()\n",
      "C:\\Users\\thithilab\\anaconda3\\envs\\yolov5_april\\lib\\site-packages\\sklearn\\preprocessing\\_label.py:154: DataConversionWarning: A column-vector y was passed when a 1d array was expected. Please change the shape of y to (n_samples, ), for example using ravel().\n",
      "  y = column_or_1d(y, warn=True)\n",
      "video 1/1 (1344/3933) D:\\815_CowDataChecking\\20221229\\20221229_M_cow\\20221229_061532_21C6.mkv: 640x640 1 cow, Done. (0.013s)\n"
     ]
    },
    {
     "name": "stdout",
     "output_type": "stream",
     "text": [
      "5\n",
      "['4']\n"
     ]
    },
    {
     "name": "stderr",
     "output_type": "stream",
     "text": [
      "C:\\Users\\thithilab\\anaconda3\\envs\\yolov5_april\\lib\\site-packages\\ipykernel_launcher.py:11: FutureWarning: `multichannel` is a deprecated argument name for `hog`. It will be removed in version 1.0. Please use `channel_axis` instead.\n",
      "  # This is added back by InteractiveShellApp.init_path()\n",
      "C:\\Users\\thithilab\\anaconda3\\envs\\yolov5_april\\lib\\site-packages\\sklearn\\preprocessing\\_label.py:154: DataConversionWarning: A column-vector y was passed when a 1d array was expected. Please change the shape of y to (n_samples, ), for example using ravel().\n",
      "  y = column_or_1d(y, warn=True)\n",
      "video 1/1 (1345/3933) D:\\815_CowDataChecking\\20221229\\20221229_M_cow\\20221229_061532_21C6.mkv: 640x640 1 cow, Done. (0.014s)\n"
     ]
    },
    {
     "name": "stdout",
     "output_type": "stream",
     "text": [
      "5\n",
      "['4']\n"
     ]
    },
    {
     "name": "stderr",
     "output_type": "stream",
     "text": [
      "C:\\Users\\thithilab\\anaconda3\\envs\\yolov5_april\\lib\\site-packages\\ipykernel_launcher.py:11: FutureWarning: `multichannel` is a deprecated argument name for `hog`. It will be removed in version 1.0. Please use `channel_axis` instead.\n",
      "  # This is added back by InteractiveShellApp.init_path()\n",
      "C:\\Users\\thithilab\\anaconda3\\envs\\yolov5_april\\lib\\site-packages\\sklearn\\preprocessing\\_label.py:154: DataConversionWarning: A column-vector y was passed when a 1d array was expected. Please change the shape of y to (n_samples, ), for example using ravel().\n",
      "  y = column_or_1d(y, warn=True)\n",
      "video 1/1 (1346/3933) D:\\815_CowDataChecking\\20221229\\20221229_M_cow\\20221229_061532_21C6.mkv: 640x640 1 cow, Done. (0.013s)\n"
     ]
    },
    {
     "name": "stdout",
     "output_type": "stream",
     "text": [
      "5\n",
      "['4']\n"
     ]
    },
    {
     "name": "stderr",
     "output_type": "stream",
     "text": [
      "C:\\Users\\thithilab\\anaconda3\\envs\\yolov5_april\\lib\\site-packages\\ipykernel_launcher.py:11: FutureWarning: `multichannel` is a deprecated argument name for `hog`. It will be removed in version 1.0. Please use `channel_axis` instead.\n",
      "  # This is added back by InteractiveShellApp.init_path()\n",
      "C:\\Users\\thithilab\\anaconda3\\envs\\yolov5_april\\lib\\site-packages\\sklearn\\preprocessing\\_label.py:154: DataConversionWarning: A column-vector y was passed when a 1d array was expected. Please change the shape of y to (n_samples, ), for example using ravel().\n",
      "  y = column_or_1d(y, warn=True)\n",
      "video 1/1 (1347/3933) D:\\815_CowDataChecking\\20221229\\20221229_M_cow\\20221229_061532_21C6.mkv: 640x640 1 cow, Done. (0.013s)\n"
     ]
    },
    {
     "name": "stdout",
     "output_type": "stream",
     "text": [
      "5\n",
      "['4']\n"
     ]
    },
    {
     "name": "stderr",
     "output_type": "stream",
     "text": [
      "C:\\Users\\thithilab\\anaconda3\\envs\\yolov5_april\\lib\\site-packages\\ipykernel_launcher.py:11: FutureWarning: `multichannel` is a deprecated argument name for `hog`. It will be removed in version 1.0. Please use `channel_axis` instead.\n",
      "  # This is added back by InteractiveShellApp.init_path()\n",
      "C:\\Users\\thithilab\\anaconda3\\envs\\yolov5_april\\lib\\site-packages\\sklearn\\preprocessing\\_label.py:154: DataConversionWarning: A column-vector y was passed when a 1d array was expected. Please change the shape of y to (n_samples, ), for example using ravel().\n",
      "  y = column_or_1d(y, warn=True)\n",
      "video 1/1 (1348/3933) D:\\815_CowDataChecking\\20221229\\20221229_M_cow\\20221229_061532_21C6.mkv: 640x640 1 cow, Done. (0.014s)\n"
     ]
    },
    {
     "name": "stdout",
     "output_type": "stream",
     "text": [
      "5\n",
      "['4']\n"
     ]
    },
    {
     "name": "stderr",
     "output_type": "stream",
     "text": [
      "C:\\Users\\thithilab\\anaconda3\\envs\\yolov5_april\\lib\\site-packages\\ipykernel_launcher.py:11: FutureWarning: `multichannel` is a deprecated argument name for `hog`. It will be removed in version 1.0. Please use `channel_axis` instead.\n",
      "  # This is added back by InteractiveShellApp.init_path()\n",
      "C:\\Users\\thithilab\\anaconda3\\envs\\yolov5_april\\lib\\site-packages\\sklearn\\preprocessing\\_label.py:154: DataConversionWarning: A column-vector y was passed when a 1d array was expected. Please change the shape of y to (n_samples, ), for example using ravel().\n",
      "  y = column_or_1d(y, warn=True)\n",
      "video 1/1 (1349/3933) D:\\815_CowDataChecking\\20221229\\20221229_M_cow\\20221229_061532_21C6.mkv: 640x640 1 cow, Done. (0.013s)\n"
     ]
    },
    {
     "name": "stdout",
     "output_type": "stream",
     "text": [
      "5\n",
      "['4']\n"
     ]
    },
    {
     "name": "stderr",
     "output_type": "stream",
     "text": [
      "C:\\Users\\thithilab\\anaconda3\\envs\\yolov5_april\\lib\\site-packages\\ipykernel_launcher.py:11: FutureWarning: `multichannel` is a deprecated argument name for `hog`. It will be removed in version 1.0. Please use `channel_axis` instead.\n",
      "  # This is added back by InteractiveShellApp.init_path()\n",
      "C:\\Users\\thithilab\\anaconda3\\envs\\yolov5_april\\lib\\site-packages\\sklearn\\preprocessing\\_label.py:154: DataConversionWarning: A column-vector y was passed when a 1d array was expected. Please change the shape of y to (n_samples, ), for example using ravel().\n",
      "  y = column_or_1d(y, warn=True)\n",
      "video 1/1 (1350/3933) D:\\815_CowDataChecking\\20221229\\20221229_M_cow\\20221229_061532_21C6.mkv: 640x640 1 cow, Done. (0.013s)\n"
     ]
    },
    {
     "name": "stdout",
     "output_type": "stream",
     "text": [
      "5\n",
      "['4']\n"
     ]
    },
    {
     "name": "stderr",
     "output_type": "stream",
     "text": [
      "C:\\Users\\thithilab\\anaconda3\\envs\\yolov5_april\\lib\\site-packages\\ipykernel_launcher.py:11: FutureWarning: `multichannel` is a deprecated argument name for `hog`. It will be removed in version 1.0. Please use `channel_axis` instead.\n",
      "  # This is added back by InteractiveShellApp.init_path()\n",
      "C:\\Users\\thithilab\\anaconda3\\envs\\yolov5_april\\lib\\site-packages\\sklearn\\preprocessing\\_label.py:154: DataConversionWarning: A column-vector y was passed when a 1d array was expected. Please change the shape of y to (n_samples, ), for example using ravel().\n",
      "  y = column_or_1d(y, warn=True)\n",
      "video 1/1 (1351/3933) D:\\815_CowDataChecking\\20221229\\20221229_M_cow\\20221229_061532_21C6.mkv: 640x640 3 cows, Done. (0.012s)\n"
     ]
    },
    {
     "name": "stdout",
     "output_type": "stream",
     "text": [
      "5\n",
      "['4']\n"
     ]
    },
    {
     "name": "stderr",
     "output_type": "stream",
     "text": [
      "C:\\Users\\thithilab\\anaconda3\\envs\\yolov5_april\\lib\\site-packages\\ipykernel_launcher.py:11: FutureWarning: `multichannel` is a deprecated argument name for `hog`. It will be removed in version 1.0. Please use `channel_axis` instead.\n",
      "  # This is added back by InteractiveShellApp.init_path()\n",
      "C:\\Users\\thithilab\\anaconda3\\envs\\yolov5_april\\lib\\site-packages\\sklearn\\preprocessing\\_label.py:154: DataConversionWarning: A column-vector y was passed when a 1d array was expected. Please change the shape of y to (n_samples, ), for example using ravel().\n",
      "  y = column_or_1d(y, warn=True)\n",
      "video 1/1 (1352/3933) D:\\815_CowDataChecking\\20221229\\20221229_M_cow\\20221229_061532_21C6.mkv: 640x640 3 cows, Done. (0.013s)\n"
     ]
    },
    {
     "name": "stdout",
     "output_type": "stream",
     "text": [
      "5\n",
      "['4']\n"
     ]
    },
    {
     "name": "stderr",
     "output_type": "stream",
     "text": [
      "C:\\Users\\thithilab\\anaconda3\\envs\\yolov5_april\\lib\\site-packages\\ipykernel_launcher.py:11: FutureWarning: `multichannel` is a deprecated argument name for `hog`. It will be removed in version 1.0. Please use `channel_axis` instead.\n",
      "  # This is added back by InteractiveShellApp.init_path()\n",
      "C:\\Users\\thithilab\\anaconda3\\envs\\yolov5_april\\lib\\site-packages\\sklearn\\preprocessing\\_label.py:154: DataConversionWarning: A column-vector y was passed when a 1d array was expected. Please change the shape of y to (n_samples, ), for example using ravel().\n",
      "  y = column_or_1d(y, warn=True)\n",
      "video 1/1 (1353/3933) D:\\815_CowDataChecking\\20221229\\20221229_M_cow\\20221229_061532_21C6.mkv: 640x640 3 cows, Done. (0.013s)\n"
     ]
    },
    {
     "name": "stdout",
     "output_type": "stream",
     "text": [
      "5\n",
      "['4']\n"
     ]
    },
    {
     "name": "stderr",
     "output_type": "stream",
     "text": [
      "C:\\Users\\thithilab\\anaconda3\\envs\\yolov5_april\\lib\\site-packages\\ipykernel_launcher.py:11: FutureWarning: `multichannel` is a deprecated argument name for `hog`. It will be removed in version 1.0. Please use `channel_axis` instead.\n",
      "  # This is added back by InteractiveShellApp.init_path()\n",
      "C:\\Users\\thithilab\\anaconda3\\envs\\yolov5_april\\lib\\site-packages\\sklearn\\preprocessing\\_label.py:154: DataConversionWarning: A column-vector y was passed when a 1d array was expected. Please change the shape of y to (n_samples, ), for example using ravel().\n",
      "  y = column_or_1d(y, warn=True)\n",
      "video 1/1 (1354/3933) D:\\815_CowDataChecking\\20221229\\20221229_M_cow\\20221229_061532_21C6.mkv: 640x640 2 cows, Done. (0.013s)\n"
     ]
    },
    {
     "name": "stdout",
     "output_type": "stream",
     "text": [
      "5\n",
      "['4']\n"
     ]
    },
    {
     "name": "stderr",
     "output_type": "stream",
     "text": [
      "C:\\Users\\thithilab\\anaconda3\\envs\\yolov5_april\\lib\\site-packages\\ipykernel_launcher.py:11: FutureWarning: `multichannel` is a deprecated argument name for `hog`. It will be removed in version 1.0. Please use `channel_axis` instead.\n",
      "  # This is added back by InteractiveShellApp.init_path()\n",
      "C:\\Users\\thithilab\\anaconda3\\envs\\yolov5_april\\lib\\site-packages\\sklearn\\preprocessing\\_label.py:154: DataConversionWarning: A column-vector y was passed when a 1d array was expected. Please change the shape of y to (n_samples, ), for example using ravel().\n",
      "  y = column_or_1d(y, warn=True)\n",
      "video 1/1 (1355/3933) D:\\815_CowDataChecking\\20221229\\20221229_M_cow\\20221229_061532_21C6.mkv: 640x640 2 cows, Done. (0.013s)\n"
     ]
    },
    {
     "name": "stdout",
     "output_type": "stream",
     "text": [
      "5\n",
      "['4']\n"
     ]
    },
    {
     "name": "stderr",
     "output_type": "stream",
     "text": [
      "C:\\Users\\thithilab\\anaconda3\\envs\\yolov5_april\\lib\\site-packages\\ipykernel_launcher.py:11: FutureWarning: `multichannel` is a deprecated argument name for `hog`. It will be removed in version 1.0. Please use `channel_axis` instead.\n",
      "  # This is added back by InteractiveShellApp.init_path()\n",
      "C:\\Users\\thithilab\\anaconda3\\envs\\yolov5_april\\lib\\site-packages\\sklearn\\preprocessing\\_label.py:154: DataConversionWarning: A column-vector y was passed when a 1d array was expected. Please change the shape of y to (n_samples, ), for example using ravel().\n",
      "  y = column_or_1d(y, warn=True)\n",
      "video 1/1 (1356/3933) D:\\815_CowDataChecking\\20221229\\20221229_M_cow\\20221229_061532_21C6.mkv: 640x640 2 cows, Done. (0.013s)\n"
     ]
    },
    {
     "name": "stdout",
     "output_type": "stream",
     "text": [
      "5\n",
      "['4']\n"
     ]
    },
    {
     "name": "stderr",
     "output_type": "stream",
     "text": [
      "C:\\Users\\thithilab\\anaconda3\\envs\\yolov5_april\\lib\\site-packages\\ipykernel_launcher.py:11: FutureWarning: `multichannel` is a deprecated argument name for `hog`. It will be removed in version 1.0. Please use `channel_axis` instead.\n",
      "  # This is added back by InteractiveShellApp.init_path()\n",
      "C:\\Users\\thithilab\\anaconda3\\envs\\yolov5_april\\lib\\site-packages\\sklearn\\preprocessing\\_label.py:154: DataConversionWarning: A column-vector y was passed when a 1d array was expected. Please change the shape of y to (n_samples, ), for example using ravel().\n",
      "  y = column_or_1d(y, warn=True)\n",
      "video 1/1 (1357/3933) D:\\815_CowDataChecking\\20221229\\20221229_M_cow\\20221229_061532_21C6.mkv: 640x640 2 cows, Done. (0.014s)\n"
     ]
    },
    {
     "name": "stdout",
     "output_type": "stream",
     "text": [
      "5\n",
      "['4']\n"
     ]
    },
    {
     "name": "stderr",
     "output_type": "stream",
     "text": [
      "C:\\Users\\thithilab\\anaconda3\\envs\\yolov5_april\\lib\\site-packages\\ipykernel_launcher.py:11: FutureWarning: `multichannel` is a deprecated argument name for `hog`. It will be removed in version 1.0. Please use `channel_axis` instead.\n",
      "  # This is added back by InteractiveShellApp.init_path()\n",
      "C:\\Users\\thithilab\\anaconda3\\envs\\yolov5_april\\lib\\site-packages\\sklearn\\preprocessing\\_label.py:154: DataConversionWarning: A column-vector y was passed when a 1d array was expected. Please change the shape of y to (n_samples, ), for example using ravel().\n",
      "  y = column_or_1d(y, warn=True)\n",
      "video 1/1 (1358/3933) D:\\815_CowDataChecking\\20221229\\20221229_M_cow\\20221229_061532_21C6.mkv: 640x640 2 cows, Done. (0.012s)\n"
     ]
    },
    {
     "name": "stdout",
     "output_type": "stream",
     "text": [
      "5\n",
      "['4']\n"
     ]
    },
    {
     "name": "stderr",
     "output_type": "stream",
     "text": [
      "C:\\Users\\thithilab\\anaconda3\\envs\\yolov5_april\\lib\\site-packages\\ipykernel_launcher.py:11: FutureWarning: `multichannel` is a deprecated argument name for `hog`. It will be removed in version 1.0. Please use `channel_axis` instead.\n",
      "  # This is added back by InteractiveShellApp.init_path()\n",
      "C:\\Users\\thithilab\\anaconda3\\envs\\yolov5_april\\lib\\site-packages\\sklearn\\preprocessing\\_label.py:154: DataConversionWarning: A column-vector y was passed when a 1d array was expected. Please change the shape of y to (n_samples, ), for example using ravel().\n",
      "  y = column_or_1d(y, warn=True)\n",
      "video 1/1 (1359/3933) D:\\815_CowDataChecking\\20221229\\20221229_M_cow\\20221229_061532_21C6.mkv: 640x640 2 cows, Done. (0.012s)\n"
     ]
    },
    {
     "name": "stdout",
     "output_type": "stream",
     "text": [
      "5\n",
      "['4']\n"
     ]
    },
    {
     "name": "stderr",
     "output_type": "stream",
     "text": [
      "C:\\Users\\thithilab\\anaconda3\\envs\\yolov5_april\\lib\\site-packages\\ipykernel_launcher.py:11: FutureWarning: `multichannel` is a deprecated argument name for `hog`. It will be removed in version 1.0. Please use `channel_axis` instead.\n",
      "  # This is added back by InteractiveShellApp.init_path()\n",
      "C:\\Users\\thithilab\\anaconda3\\envs\\yolov5_april\\lib\\site-packages\\sklearn\\preprocessing\\_label.py:154: DataConversionWarning: A column-vector y was passed when a 1d array was expected. Please change the shape of y to (n_samples, ), for example using ravel().\n",
      "  y = column_or_1d(y, warn=True)\n",
      "video 1/1 (1360/3933) D:\\815_CowDataChecking\\20221229\\20221229_M_cow\\20221229_061532_21C6.mkv: 640x640 2 cows, Done. (0.014s)\n"
     ]
    },
    {
     "name": "stdout",
     "output_type": "stream",
     "text": [
      "5\n",
      "['4']\n"
     ]
    },
    {
     "name": "stderr",
     "output_type": "stream",
     "text": [
      "C:\\Users\\thithilab\\anaconda3\\envs\\yolov5_april\\lib\\site-packages\\ipykernel_launcher.py:11: FutureWarning: `multichannel` is a deprecated argument name for `hog`. It will be removed in version 1.0. Please use `channel_axis` instead.\n",
      "  # This is added back by InteractiveShellApp.init_path()\n",
      "C:\\Users\\thithilab\\anaconda3\\envs\\yolov5_april\\lib\\site-packages\\sklearn\\preprocessing\\_label.py:154: DataConversionWarning: A column-vector y was passed when a 1d array was expected. Please change the shape of y to (n_samples, ), for example using ravel().\n",
      "  y = column_or_1d(y, warn=True)\n",
      "video 1/1 (1361/3933) D:\\815_CowDataChecking\\20221229\\20221229_M_cow\\20221229_061532_21C6.mkv: 640x640 2 cows, Done. (0.013s)\n"
     ]
    },
    {
     "name": "stdout",
     "output_type": "stream",
     "text": [
      "5\n",
      "['4']\n"
     ]
    },
    {
     "name": "stderr",
     "output_type": "stream",
     "text": [
      "C:\\Users\\thithilab\\anaconda3\\envs\\yolov5_april\\lib\\site-packages\\ipykernel_launcher.py:11: FutureWarning: `multichannel` is a deprecated argument name for `hog`. It will be removed in version 1.0. Please use `channel_axis` instead.\n",
      "  # This is added back by InteractiveShellApp.init_path()\n",
      "C:\\Users\\thithilab\\anaconda3\\envs\\yolov5_april\\lib\\site-packages\\sklearn\\preprocessing\\_label.py:154: DataConversionWarning: A column-vector y was passed when a 1d array was expected. Please change the shape of y to (n_samples, ), for example using ravel().\n",
      "  y = column_or_1d(y, warn=True)\n",
      "video 1/1 (1362/3933) D:\\815_CowDataChecking\\20221229\\20221229_M_cow\\20221229_061532_21C6.mkv: 640x640 2 cows, Done. (0.013s)\n"
     ]
    },
    {
     "name": "stdout",
     "output_type": "stream",
     "text": [
      "5\n",
      "['4']\n"
     ]
    },
    {
     "name": "stderr",
     "output_type": "stream",
     "text": [
      "C:\\Users\\thithilab\\anaconda3\\envs\\yolov5_april\\lib\\site-packages\\ipykernel_launcher.py:11: FutureWarning: `multichannel` is a deprecated argument name for `hog`. It will be removed in version 1.0. Please use `channel_axis` instead.\n",
      "  # This is added back by InteractiveShellApp.init_path()\n",
      "C:\\Users\\thithilab\\anaconda3\\envs\\yolov5_april\\lib\\site-packages\\sklearn\\preprocessing\\_label.py:154: DataConversionWarning: A column-vector y was passed when a 1d array was expected. Please change the shape of y to (n_samples, ), for example using ravel().\n",
      "  y = column_or_1d(y, warn=True)\n",
      "video 1/1 (1363/3933) D:\\815_CowDataChecking\\20221229\\20221229_M_cow\\20221229_061532_21C6.mkv: 640x640 2 cows, Done. (0.013s)\n"
     ]
    },
    {
     "name": "stdout",
     "output_type": "stream",
     "text": [
      "5\n",
      "['4']\n"
     ]
    },
    {
     "name": "stderr",
     "output_type": "stream",
     "text": [
      "C:\\Users\\thithilab\\anaconda3\\envs\\yolov5_april\\lib\\site-packages\\ipykernel_launcher.py:11: FutureWarning: `multichannel` is a deprecated argument name for `hog`. It will be removed in version 1.0. Please use `channel_axis` instead.\n",
      "  # This is added back by InteractiveShellApp.init_path()\n",
      "C:\\Users\\thithilab\\anaconda3\\envs\\yolov5_april\\lib\\site-packages\\sklearn\\preprocessing\\_label.py:154: DataConversionWarning: A column-vector y was passed when a 1d array was expected. Please change the shape of y to (n_samples, ), for example using ravel().\n",
      "  y = column_or_1d(y, warn=True)\n",
      "video 1/1 (1364/3933) D:\\815_CowDataChecking\\20221229\\20221229_M_cow\\20221229_061532_21C6.mkv: 640x640 2 cows, Done. (0.013s)\n"
     ]
    },
    {
     "name": "stdout",
     "output_type": "stream",
     "text": [
      "5\n",
      "['4']\n"
     ]
    },
    {
     "name": "stderr",
     "output_type": "stream",
     "text": [
      "C:\\Users\\thithilab\\anaconda3\\envs\\yolov5_april\\lib\\site-packages\\ipykernel_launcher.py:11: FutureWarning: `multichannel` is a deprecated argument name for `hog`. It will be removed in version 1.0. Please use `channel_axis` instead.\n",
      "  # This is added back by InteractiveShellApp.init_path()\n",
      "C:\\Users\\thithilab\\anaconda3\\envs\\yolov5_april\\lib\\site-packages\\sklearn\\preprocessing\\_label.py:154: DataConversionWarning: A column-vector y was passed when a 1d array was expected. Please change the shape of y to (n_samples, ), for example using ravel().\n",
      "  y = column_or_1d(y, warn=True)\n",
      "video 1/1 (1365/3933) D:\\815_CowDataChecking\\20221229\\20221229_M_cow\\20221229_061532_21C6.mkv: 640x640 2 cows, Done. (0.013s)\n"
     ]
    },
    {
     "name": "stdout",
     "output_type": "stream",
     "text": [
      "5\n",
      "['4']\n"
     ]
    },
    {
     "name": "stderr",
     "output_type": "stream",
     "text": [
      "C:\\Users\\thithilab\\anaconda3\\envs\\yolov5_april\\lib\\site-packages\\ipykernel_launcher.py:11: FutureWarning: `multichannel` is a deprecated argument name for `hog`. It will be removed in version 1.0. Please use `channel_axis` instead.\n",
      "  # This is added back by InteractiveShellApp.init_path()\n",
      "C:\\Users\\thithilab\\anaconda3\\envs\\yolov5_april\\lib\\site-packages\\sklearn\\preprocessing\\_label.py:154: DataConversionWarning: A column-vector y was passed when a 1d array was expected. Please change the shape of y to (n_samples, ), for example using ravel().\n",
      "  y = column_or_1d(y, warn=True)\n",
      "video 1/1 (1366/3933) D:\\815_CowDataChecking\\20221229\\20221229_M_cow\\20221229_061532_21C6.mkv: 640x640 2 cows, Done. (0.013s)\n"
     ]
    },
    {
     "name": "stdout",
     "output_type": "stream",
     "text": [
      "5\n",
      "['4']\n"
     ]
    },
    {
     "name": "stderr",
     "output_type": "stream",
     "text": [
      "C:\\Users\\thithilab\\anaconda3\\envs\\yolov5_april\\lib\\site-packages\\ipykernel_launcher.py:11: FutureWarning: `multichannel` is a deprecated argument name for `hog`. It will be removed in version 1.0. Please use `channel_axis` instead.\n",
      "  # This is added back by InteractiveShellApp.init_path()\n",
      "C:\\Users\\thithilab\\anaconda3\\envs\\yolov5_april\\lib\\site-packages\\sklearn\\preprocessing\\_label.py:154: DataConversionWarning: A column-vector y was passed when a 1d array was expected. Please change the shape of y to (n_samples, ), for example using ravel().\n",
      "  y = column_or_1d(y, warn=True)\n",
      "video 1/1 (1367/3933) D:\\815_CowDataChecking\\20221229\\20221229_M_cow\\20221229_061532_21C6.mkv: 640x640 2 cows, Done. (0.012s)\n"
     ]
    },
    {
     "name": "stdout",
     "output_type": "stream",
     "text": [
      "5\n",
      "['4']\n"
     ]
    },
    {
     "name": "stderr",
     "output_type": "stream",
     "text": [
      "C:\\Users\\thithilab\\anaconda3\\envs\\yolov5_april\\lib\\site-packages\\ipykernel_launcher.py:11: FutureWarning: `multichannel` is a deprecated argument name for `hog`. It will be removed in version 1.0. Please use `channel_axis` instead.\n",
      "  # This is added back by InteractiveShellApp.init_path()\n",
      "C:\\Users\\thithilab\\anaconda3\\envs\\yolov5_april\\lib\\site-packages\\sklearn\\preprocessing\\_label.py:154: DataConversionWarning: A column-vector y was passed when a 1d array was expected. Please change the shape of y to (n_samples, ), for example using ravel().\n",
      "  y = column_or_1d(y, warn=True)\n",
      "video 1/1 (1368/3933) D:\\815_CowDataChecking\\20221229\\20221229_M_cow\\20221229_061532_21C6.mkv: 640x640 2 cows, Done. (0.012s)\n"
     ]
    },
    {
     "name": "stdout",
     "output_type": "stream",
     "text": [
      "5\n",
      "['4']\n"
     ]
    },
    {
     "name": "stderr",
     "output_type": "stream",
     "text": [
      "C:\\Users\\thithilab\\anaconda3\\envs\\yolov5_april\\lib\\site-packages\\ipykernel_launcher.py:11: FutureWarning: `multichannel` is a deprecated argument name for `hog`. It will be removed in version 1.0. Please use `channel_axis` instead.\n",
      "  # This is added back by InteractiveShellApp.init_path()\n",
      "C:\\Users\\thithilab\\anaconda3\\envs\\yolov5_april\\lib\\site-packages\\sklearn\\preprocessing\\_label.py:154: DataConversionWarning: A column-vector y was passed when a 1d array was expected. Please change the shape of y to (n_samples, ), for example using ravel().\n",
      "  y = column_or_1d(y, warn=True)\n",
      "video 1/1 (1369/3933) D:\\815_CowDataChecking\\20221229\\20221229_M_cow\\20221229_061532_21C6.mkv: 640x640 2 cows, Done. (0.013s)\n"
     ]
    },
    {
     "name": "stdout",
     "output_type": "stream",
     "text": [
      "5\n",
      "['4']\n"
     ]
    },
    {
     "name": "stderr",
     "output_type": "stream",
     "text": [
      "C:\\Users\\thithilab\\anaconda3\\envs\\yolov5_april\\lib\\site-packages\\ipykernel_launcher.py:11: FutureWarning: `multichannel` is a deprecated argument name for `hog`. It will be removed in version 1.0. Please use `channel_axis` instead.\n",
      "  # This is added back by InteractiveShellApp.init_path()\n",
      "C:\\Users\\thithilab\\anaconda3\\envs\\yolov5_april\\lib\\site-packages\\sklearn\\preprocessing\\_label.py:154: DataConversionWarning: A column-vector y was passed when a 1d array was expected. Please change the shape of y to (n_samples, ), for example using ravel().\n",
      "  y = column_or_1d(y, warn=True)\n",
      "video 1/1 (1370/3933) D:\\815_CowDataChecking\\20221229\\20221229_M_cow\\20221229_061532_21C6.mkv: 640x640 2 cows, Done. (0.013s)\n"
     ]
    },
    {
     "name": "stdout",
     "output_type": "stream",
     "text": [
      "5\n",
      "['4']\n"
     ]
    },
    {
     "name": "stderr",
     "output_type": "stream",
     "text": [
      "C:\\Users\\thithilab\\anaconda3\\envs\\yolov5_april\\lib\\site-packages\\ipykernel_launcher.py:11: FutureWarning: `multichannel` is a deprecated argument name for `hog`. It will be removed in version 1.0. Please use `channel_axis` instead.\n",
      "  # This is added back by InteractiveShellApp.init_path()\n",
      "C:\\Users\\thithilab\\anaconda3\\envs\\yolov5_april\\lib\\site-packages\\sklearn\\preprocessing\\_label.py:154: DataConversionWarning: A column-vector y was passed when a 1d array was expected. Please change the shape of y to (n_samples, ), for example using ravel().\n",
      "  y = column_or_1d(y, warn=True)\n",
      "video 1/1 (1371/3933) D:\\815_CowDataChecking\\20221229\\20221229_M_cow\\20221229_061532_21C6.mkv: 640x640 2 cows, Done. (0.013s)\n"
     ]
    },
    {
     "name": "stdout",
     "output_type": "stream",
     "text": [
      "5\n",
      "['4']\n"
     ]
    },
    {
     "name": "stderr",
     "output_type": "stream",
     "text": [
      "C:\\Users\\thithilab\\anaconda3\\envs\\yolov5_april\\lib\\site-packages\\ipykernel_launcher.py:11: FutureWarning: `multichannel` is a deprecated argument name for `hog`. It will be removed in version 1.0. Please use `channel_axis` instead.\n",
      "  # This is added back by InteractiveShellApp.init_path()\n",
      "C:\\Users\\thithilab\\anaconda3\\envs\\yolov5_april\\lib\\site-packages\\sklearn\\preprocessing\\_label.py:154: DataConversionWarning: A column-vector y was passed when a 1d array was expected. Please change the shape of y to (n_samples, ), for example using ravel().\n",
      "  y = column_or_1d(y, warn=True)\n",
      "video 1/1 (1372/3933) D:\\815_CowDataChecking\\20221229\\20221229_M_cow\\20221229_061532_21C6.mkv: 640x640 2 cows, Done. (0.012s)\n"
     ]
    },
    {
     "name": "stdout",
     "output_type": "stream",
     "text": [
      "5\n",
      "['4']\n"
     ]
    },
    {
     "name": "stderr",
     "output_type": "stream",
     "text": [
      "C:\\Users\\thithilab\\anaconda3\\envs\\yolov5_april\\lib\\site-packages\\ipykernel_launcher.py:11: FutureWarning: `multichannel` is a deprecated argument name for `hog`. It will be removed in version 1.0. Please use `channel_axis` instead.\n",
      "  # This is added back by InteractiveShellApp.init_path()\n",
      "C:\\Users\\thithilab\\anaconda3\\envs\\yolov5_april\\lib\\site-packages\\sklearn\\preprocessing\\_label.py:154: DataConversionWarning: A column-vector y was passed when a 1d array was expected. Please change the shape of y to (n_samples, ), for example using ravel().\n",
      "  y = column_or_1d(y, warn=True)\n",
      "video 1/1 (1373/3933) D:\\815_CowDataChecking\\20221229\\20221229_M_cow\\20221229_061532_21C6.mkv: 640x640 2 cows, Done. (0.014s)\n"
     ]
    },
    {
     "name": "stdout",
     "output_type": "stream",
     "text": [
      "5\n",
      "['4']\n"
     ]
    },
    {
     "name": "stderr",
     "output_type": "stream",
     "text": [
      "C:\\Users\\thithilab\\anaconda3\\envs\\yolov5_april\\lib\\site-packages\\ipykernel_launcher.py:11: FutureWarning: `multichannel` is a deprecated argument name for `hog`. It will be removed in version 1.0. Please use `channel_axis` instead.\n",
      "  # This is added back by InteractiveShellApp.init_path()\n",
      "C:\\Users\\thithilab\\anaconda3\\envs\\yolov5_april\\lib\\site-packages\\sklearn\\preprocessing\\_label.py:154: DataConversionWarning: A column-vector y was passed when a 1d array was expected. Please change the shape of y to (n_samples, ), for example using ravel().\n",
      "  y = column_or_1d(y, warn=True)\n",
      "video 1/1 (1374/3933) D:\\815_CowDataChecking\\20221229\\20221229_M_cow\\20221229_061532_21C6.mkv: 640x640 2 cows, Done. (0.013s)\n"
     ]
    },
    {
     "name": "stdout",
     "output_type": "stream",
     "text": [
      "5\n",
      "['4']\n"
     ]
    },
    {
     "name": "stderr",
     "output_type": "stream",
     "text": [
      "C:\\Users\\thithilab\\anaconda3\\envs\\yolov5_april\\lib\\site-packages\\ipykernel_launcher.py:11: FutureWarning: `multichannel` is a deprecated argument name for `hog`. It will be removed in version 1.0. Please use `channel_axis` instead.\n",
      "  # This is added back by InteractiveShellApp.init_path()\n",
      "C:\\Users\\thithilab\\anaconda3\\envs\\yolov5_april\\lib\\site-packages\\sklearn\\preprocessing\\_label.py:154: DataConversionWarning: A column-vector y was passed when a 1d array was expected. Please change the shape of y to (n_samples, ), for example using ravel().\n",
      "  y = column_or_1d(y, warn=True)\n",
      "video 1/1 (1375/3933) D:\\815_CowDataChecking\\20221229\\20221229_M_cow\\20221229_061532_21C6.mkv: 640x640 2 cows, Done. (0.013s)\n"
     ]
    },
    {
     "name": "stdout",
     "output_type": "stream",
     "text": [
      "5\n",
      "['4']\n"
     ]
    },
    {
     "name": "stderr",
     "output_type": "stream",
     "text": [
      "C:\\Users\\thithilab\\anaconda3\\envs\\yolov5_april\\lib\\site-packages\\ipykernel_launcher.py:11: FutureWarning: `multichannel` is a deprecated argument name for `hog`. It will be removed in version 1.0. Please use `channel_axis` instead.\n",
      "  # This is added back by InteractiveShellApp.init_path()\n",
      "C:\\Users\\thithilab\\anaconda3\\envs\\yolov5_april\\lib\\site-packages\\sklearn\\preprocessing\\_label.py:154: DataConversionWarning: A column-vector y was passed when a 1d array was expected. Please change the shape of y to (n_samples, ), for example using ravel().\n",
      "  y = column_or_1d(y, warn=True)\n",
      "video 1/1 (1376/3933) D:\\815_CowDataChecking\\20221229\\20221229_M_cow\\20221229_061532_21C6.mkv: 640x640 2 cows, Done. (0.013s)\n"
     ]
    },
    {
     "name": "stdout",
     "output_type": "stream",
     "text": [
      "5\n",
      "['4']\n"
     ]
    },
    {
     "name": "stderr",
     "output_type": "stream",
     "text": [
      "C:\\Users\\thithilab\\anaconda3\\envs\\yolov5_april\\lib\\site-packages\\ipykernel_launcher.py:11: FutureWarning: `multichannel` is a deprecated argument name for `hog`. It will be removed in version 1.0. Please use `channel_axis` instead.\n",
      "  # This is added back by InteractiveShellApp.init_path()\n",
      "C:\\Users\\thithilab\\anaconda3\\envs\\yolov5_april\\lib\\site-packages\\sklearn\\preprocessing\\_label.py:154: DataConversionWarning: A column-vector y was passed when a 1d array was expected. Please change the shape of y to (n_samples, ), for example using ravel().\n",
      "  y = column_or_1d(y, warn=True)\n"
     ]
    },
    {
     "name": "stdout",
     "output_type": "stream",
     "text": [
      "5\n",
      "['4']\n"
     ]
    },
    {
     "name": "stderr",
     "output_type": "stream",
     "text": [
      "C:\\Users\\thithilab\\anaconda3\\envs\\yolov5_april\\lib\\site-packages\\ipykernel_launcher.py:11: FutureWarning: `multichannel` is a deprecated argument name for `hog`. It will be removed in version 1.0. Please use `channel_axis` instead.\n",
      "  # This is added back by InteractiveShellApp.init_path()\n",
      "C:\\Users\\thithilab\\anaconda3\\envs\\yolov5_april\\lib\\site-packages\\sklearn\\preprocessing\\_label.py:154: DataConversionWarning: A column-vector y was passed when a 1d array was expected. Please change the shape of y to (n_samples, ), for example using ravel().\n",
      "  y = column_or_1d(y, warn=True)\n",
      "C:\\Users\\thithilab\\anaconda3\\envs\\yolov5_april\\lib\\site-packages\\ipykernel_launcher.py:9: FutureWarning: elementwise comparison failed; returning scalar instead, but in the future will perform elementwise comparison\n",
      "  if __name__ == \"__main__\":\n",
      "video 1/1 (1377/3933) D:\\815_CowDataChecking\\20221229\\20221229_M_cow\\20221229_061532_21C6.mkv: 640x640 2 cows, Done. (0.013s)\n"
     ]
    },
    {
     "name": "stdout",
     "output_type": "stream",
     "text": [
      "6\n",
      "['5']\n"
     ]
    },
    {
     "name": "stderr",
     "output_type": "stream",
     "text": [
      "C:\\Users\\thithilab\\anaconda3\\envs\\yolov5_april\\lib\\site-packages\\ipykernel_launcher.py:11: FutureWarning: `multichannel` is a deprecated argument name for `hog`. It will be removed in version 1.0. Please use `channel_axis` instead.\n",
      "  # This is added back by InteractiveShellApp.init_path()\n",
      "C:\\Users\\thithilab\\anaconda3\\envs\\yolov5_april\\lib\\site-packages\\sklearn\\preprocessing\\_label.py:154: DataConversionWarning: A column-vector y was passed when a 1d array was expected. Please change the shape of y to (n_samples, ), for example using ravel().\n",
      "  y = column_or_1d(y, warn=True)\n",
      "C:\\Users\\thithilab\\anaconda3\\envs\\yolov5_april\\lib\\site-packages\\ipykernel_launcher.py:9: FutureWarning: elementwise comparison failed; returning scalar instead, but in the future will perform elementwise comparison\n",
      "  if __name__ == \"__main__\":\n",
      "C:\\Users\\thithilab\\anaconda3\\envs\\yolov5_april\\lib\\site-packages\\ipykernel_launcher.py:11: FutureWarning: `multichannel` is a deprecated argument name for `hog`. It will be removed in version 1.0. Please use `channel_axis` instead.\n",
      "  # This is added back by InteractiveShellApp.init_path()\n",
      "C:\\Users\\thithilab\\anaconda3\\envs\\yolov5_april\\lib\\site-packages\\sklearn\\preprocessing\\_label.py:154: DataConversionWarning: A column-vector y was passed when a 1d array was expected. Please change the shape of y to (n_samples, ), for example using ravel().\n",
      "  y = column_or_1d(y, warn=True)\n",
      "video 1/1 (1378/3933) D:\\815_CowDataChecking\\20221229\\20221229_M_cow\\20221229_061532_21C6.mkv: 640x640 2 cows, Done. (0.013s)\n"
     ]
    },
    {
     "name": "stdout",
     "output_type": "stream",
     "text": [
      "6\n",
      "['5']\n"
     ]
    },
    {
     "name": "stderr",
     "output_type": "stream",
     "text": [
      "C:\\Users\\thithilab\\anaconda3\\envs\\yolov5_april\\lib\\site-packages\\ipykernel_launcher.py:11: FutureWarning: `multichannel` is a deprecated argument name for `hog`. It will be removed in version 1.0. Please use `channel_axis` instead.\n",
      "  # This is added back by InteractiveShellApp.init_path()\n",
      "C:\\Users\\thithilab\\anaconda3\\envs\\yolov5_april\\lib\\site-packages\\sklearn\\preprocessing\\_label.py:154: DataConversionWarning: A column-vector y was passed when a 1d array was expected. Please change the shape of y to (n_samples, ), for example using ravel().\n",
      "  y = column_or_1d(y, warn=True)\n",
      "C:\\Users\\thithilab\\anaconda3\\envs\\yolov5_april\\lib\\site-packages\\ipykernel_launcher.py:9: FutureWarning: elementwise comparison failed; returning scalar instead, but in the future will perform elementwise comparison\n",
      "  if __name__ == \"__main__\":\n",
      "C:\\Users\\thithilab\\anaconda3\\envs\\yolov5_april\\lib\\site-packages\\ipykernel_launcher.py:11: FutureWarning: `multichannel` is a deprecated argument name for `hog`. It will be removed in version 1.0. Please use `channel_axis` instead.\n",
      "  # This is added back by InteractiveShellApp.init_path()\n",
      "C:\\Users\\thithilab\\anaconda3\\envs\\yolov5_april\\lib\\site-packages\\sklearn\\preprocessing\\_label.py:154: DataConversionWarning: A column-vector y was passed when a 1d array was expected. Please change the shape of y to (n_samples, ), for example using ravel().\n",
      "  y = column_or_1d(y, warn=True)\n",
      "video 1/1 (1379/3933) D:\\815_CowDataChecking\\20221229\\20221229_M_cow\\20221229_061532_21C6.mkv: 640x640 2 cows, Done. (0.012s)\n"
     ]
    },
    {
     "name": "stdout",
     "output_type": "stream",
     "text": [
      "6\n",
      "['5']\n"
     ]
    },
    {
     "name": "stderr",
     "output_type": "stream",
     "text": [
      "C:\\Users\\thithilab\\anaconda3\\envs\\yolov5_april\\lib\\site-packages\\ipykernel_launcher.py:11: FutureWarning: `multichannel` is a deprecated argument name for `hog`. It will be removed in version 1.0. Please use `channel_axis` instead.\n",
      "  # This is added back by InteractiveShellApp.init_path()\n",
      "C:\\Users\\thithilab\\anaconda3\\envs\\yolov5_april\\lib\\site-packages\\sklearn\\preprocessing\\_label.py:154: DataConversionWarning: A column-vector y was passed when a 1d array was expected. Please change the shape of y to (n_samples, ), for example using ravel().\n",
      "  y = column_or_1d(y, warn=True)\n",
      "C:\\Users\\thithilab\\anaconda3\\envs\\yolov5_april\\lib\\site-packages\\ipykernel_launcher.py:9: FutureWarning: elementwise comparison failed; returning scalar instead, but in the future will perform elementwise comparison\n",
      "  if __name__ == \"__main__\":\n",
      "C:\\Users\\thithilab\\anaconda3\\envs\\yolov5_april\\lib\\site-packages\\ipykernel_launcher.py:11: FutureWarning: `multichannel` is a deprecated argument name for `hog`. It will be removed in version 1.0. Please use `channel_axis` instead.\n",
      "  # This is added back by InteractiveShellApp.init_path()\n",
      "C:\\Users\\thithilab\\anaconda3\\envs\\yolov5_april\\lib\\site-packages\\sklearn\\preprocessing\\_label.py:154: DataConversionWarning: A column-vector y was passed when a 1d array was expected. Please change the shape of y to (n_samples, ), for example using ravel().\n",
      "  y = column_or_1d(y, warn=True)\n",
      "video 1/1 (1380/3933) D:\\815_CowDataChecking\\20221229\\20221229_M_cow\\20221229_061532_21C6.mkv: 640x640 2 cows, Done. (0.013s)\n"
     ]
    },
    {
     "name": "stdout",
     "output_type": "stream",
     "text": [
      "6\n",
      "['5']\n"
     ]
    },
    {
     "name": "stderr",
     "output_type": "stream",
     "text": [
      "C:\\Users\\thithilab\\anaconda3\\envs\\yolov5_april\\lib\\site-packages\\ipykernel_launcher.py:11: FutureWarning: `multichannel` is a deprecated argument name for `hog`. It will be removed in version 1.0. Please use `channel_axis` instead.\n",
      "  # This is added back by InteractiveShellApp.init_path()\n",
      "C:\\Users\\thithilab\\anaconda3\\envs\\yolov5_april\\lib\\site-packages\\sklearn\\preprocessing\\_label.py:154: DataConversionWarning: A column-vector y was passed when a 1d array was expected. Please change the shape of y to (n_samples, ), for example using ravel().\n",
      "  y = column_or_1d(y, warn=True)\n",
      "C:\\Users\\thithilab\\anaconda3\\envs\\yolov5_april\\lib\\site-packages\\ipykernel_launcher.py:9: FutureWarning: elementwise comparison failed; returning scalar instead, but in the future will perform elementwise comparison\n",
      "  if __name__ == \"__main__\":\n",
      "C:\\Users\\thithilab\\anaconda3\\envs\\yolov5_april\\lib\\site-packages\\ipykernel_launcher.py:11: FutureWarning: `multichannel` is a deprecated argument name for `hog`. It will be removed in version 1.0. Please use `channel_axis` instead.\n",
      "  # This is added back by InteractiveShellApp.init_path()\n",
      "C:\\Users\\thithilab\\anaconda3\\envs\\yolov5_april\\lib\\site-packages\\sklearn\\preprocessing\\_label.py:154: DataConversionWarning: A column-vector y was passed when a 1d array was expected. Please change the shape of y to (n_samples, ), for example using ravel().\n",
      "  y = column_or_1d(y, warn=True)\n",
      "video 1/1 (1381/3933) D:\\815_CowDataChecking\\20221229\\20221229_M_cow\\20221229_061532_21C6.mkv: 640x640 2 cows, Done. (0.014s)\n"
     ]
    },
    {
     "name": "stdout",
     "output_type": "stream",
     "text": [
      "6\n",
      "['5']\n"
     ]
    },
    {
     "name": "stderr",
     "output_type": "stream",
     "text": [
      "C:\\Users\\thithilab\\anaconda3\\envs\\yolov5_april\\lib\\site-packages\\ipykernel_launcher.py:11: FutureWarning: `multichannel` is a deprecated argument name for `hog`. It will be removed in version 1.0. Please use `channel_axis` instead.\n",
      "  # This is added back by InteractiveShellApp.init_path()\n",
      "C:\\Users\\thithilab\\anaconda3\\envs\\yolov5_april\\lib\\site-packages\\sklearn\\preprocessing\\_label.py:154: DataConversionWarning: A column-vector y was passed when a 1d array was expected. Please change the shape of y to (n_samples, ), for example using ravel().\n",
      "  y = column_or_1d(y, warn=True)\n",
      "C:\\Users\\thithilab\\anaconda3\\envs\\yolov5_april\\lib\\site-packages\\ipykernel_launcher.py:9: FutureWarning: elementwise comparison failed; returning scalar instead, but in the future will perform elementwise comparison\n",
      "  if __name__ == \"__main__\":\n",
      "C:\\Users\\thithilab\\anaconda3\\envs\\yolov5_april\\lib\\site-packages\\ipykernel_launcher.py:11: FutureWarning: `multichannel` is a deprecated argument name for `hog`. It will be removed in version 1.0. Please use `channel_axis` instead.\n",
      "  # This is added back by InteractiveShellApp.init_path()\n",
      "C:\\Users\\thithilab\\anaconda3\\envs\\yolov5_april\\lib\\site-packages\\sklearn\\preprocessing\\_label.py:154: DataConversionWarning: A column-vector y was passed when a 1d array was expected. Please change the shape of y to (n_samples, ), for example using ravel().\n",
      "  y = column_or_1d(y, warn=True)\n",
      "video 1/1 (1382/3933) D:\\815_CowDataChecking\\20221229\\20221229_M_cow\\20221229_061532_21C6.mkv: 640x640 2 cows, Done. (0.013s)\n"
     ]
    },
    {
     "name": "stdout",
     "output_type": "stream",
     "text": [
      "6\n",
      "['5']\n",
      "length is more than 1400 pixel\n"
     ]
    },
    {
     "name": "stderr",
     "output_type": "stream",
     "text": [
      "C:\\Users\\thithilab\\anaconda3\\envs\\yolov5_april\\lib\\site-packages\\ipykernel_launcher.py:11: FutureWarning: `multichannel` is a deprecated argument name for `hog`. It will be removed in version 1.0. Please use `channel_axis` instead.\n",
      "  # This is added back by InteractiveShellApp.init_path()\n",
      "C:\\Users\\thithilab\\anaconda3\\envs\\yolov5_april\\lib\\site-packages\\sklearn\\preprocessing\\_label.py:154: DataConversionWarning: A column-vector y was passed when a 1d array was expected. Please change the shape of y to (n_samples, ), for example using ravel().\n",
      "  y = column_or_1d(y, warn=True)\n",
      "video 1/1 (1383/3933) D:\\815_CowDataChecking\\20221229\\20221229_M_cow\\20221229_061532_21C6.mkv: 640x640 2 cows, Done. (0.014s)\n"
     ]
    },
    {
     "name": "stdout",
     "output_type": "stream",
     "text": [
      "6\n",
      "['5']\n",
      "length is more than 1400 pixel\n"
     ]
    },
    {
     "name": "stderr",
     "output_type": "stream",
     "text": [
      "C:\\Users\\thithilab\\anaconda3\\envs\\yolov5_april\\lib\\site-packages\\ipykernel_launcher.py:11: FutureWarning: `multichannel` is a deprecated argument name for `hog`. It will be removed in version 1.0. Please use `channel_axis` instead.\n",
      "  # This is added back by InteractiveShellApp.init_path()\n",
      "C:\\Users\\thithilab\\anaconda3\\envs\\yolov5_april\\lib\\site-packages\\sklearn\\preprocessing\\_label.py:154: DataConversionWarning: A column-vector y was passed when a 1d array was expected. Please change the shape of y to (n_samples, ), for example using ravel().\n",
      "  y = column_or_1d(y, warn=True)\n",
      "video 1/1 (1384/3933) D:\\815_CowDataChecking\\20221229\\20221229_M_cow\\20221229_061532_21C6.mkv: 640x640 2 cows, Done. (0.013s)\n"
     ]
    },
    {
     "name": "stdout",
     "output_type": "stream",
     "text": [
      "6\n",
      "['5']\n",
      "length is more than 1400 pixel\n"
     ]
    },
    {
     "name": "stderr",
     "output_type": "stream",
     "text": [
      "C:\\Users\\thithilab\\anaconda3\\envs\\yolov5_april\\lib\\site-packages\\ipykernel_launcher.py:11: FutureWarning: `multichannel` is a deprecated argument name for `hog`. It will be removed in version 1.0. Please use `channel_axis` instead.\n",
      "  # This is added back by InteractiveShellApp.init_path()\n",
      "C:\\Users\\thithilab\\anaconda3\\envs\\yolov5_april\\lib\\site-packages\\sklearn\\preprocessing\\_label.py:154: DataConversionWarning: A column-vector y was passed when a 1d array was expected. Please change the shape of y to (n_samples, ), for example using ravel().\n",
      "  y = column_or_1d(y, warn=True)\n",
      "video 1/1 (1385/3933) D:\\815_CowDataChecking\\20221229\\20221229_M_cow\\20221229_061532_21C6.mkv: 640x640 2 cows, Done. (0.013s)\n"
     ]
    },
    {
     "name": "stdout",
     "output_type": "stream",
     "text": [
      "6\n",
      "['5']\n",
      "length is more than 1400 pixel\n"
     ]
    },
    {
     "name": "stderr",
     "output_type": "stream",
     "text": [
      "C:\\Users\\thithilab\\anaconda3\\envs\\yolov5_april\\lib\\site-packages\\ipykernel_launcher.py:11: FutureWarning: `multichannel` is a deprecated argument name for `hog`. It will be removed in version 1.0. Please use `channel_axis` instead.\n",
      "  # This is added back by InteractiveShellApp.init_path()\n",
      "C:\\Users\\thithilab\\anaconda3\\envs\\yolov5_april\\lib\\site-packages\\sklearn\\preprocessing\\_label.py:154: DataConversionWarning: A column-vector y was passed when a 1d array was expected. Please change the shape of y to (n_samples, ), for example using ravel().\n",
      "  y = column_or_1d(y, warn=True)\n",
      "video 1/1 (1386/3933) D:\\815_CowDataChecking\\20221229\\20221229_M_cow\\20221229_061532_21C6.mkv: 640x640 2 cows, Done. (0.013s)\n"
     ]
    },
    {
     "name": "stdout",
     "output_type": "stream",
     "text": [
      "6\n",
      "['5']\n",
      "length is more than 1400 pixel\n"
     ]
    },
    {
     "name": "stderr",
     "output_type": "stream",
     "text": [
      "C:\\Users\\thithilab\\anaconda3\\envs\\yolov5_april\\lib\\site-packages\\ipykernel_launcher.py:11: FutureWarning: `multichannel` is a deprecated argument name for `hog`. It will be removed in version 1.0. Please use `channel_axis` instead.\n",
      "  # This is added back by InteractiveShellApp.init_path()\n",
      "C:\\Users\\thithilab\\anaconda3\\envs\\yolov5_april\\lib\\site-packages\\sklearn\\preprocessing\\_label.py:154: DataConversionWarning: A column-vector y was passed when a 1d array was expected. Please change the shape of y to (n_samples, ), for example using ravel().\n",
      "  y = column_or_1d(y, warn=True)\n",
      "video 1/1 (1387/3933) D:\\815_CowDataChecking\\20221229\\20221229_M_cow\\20221229_061532_21C6.mkv: 640x640 2 cows, Done. (0.013s)\n"
     ]
    },
    {
     "name": "stdout",
     "output_type": "stream",
     "text": [
      "6\n",
      "['5']\n",
      "length is more than 1400 pixel\n"
     ]
    },
    {
     "name": "stderr",
     "output_type": "stream",
     "text": [
      "C:\\Users\\thithilab\\anaconda3\\envs\\yolov5_april\\lib\\site-packages\\ipykernel_launcher.py:11: FutureWarning: `multichannel` is a deprecated argument name for `hog`. It will be removed in version 1.0. Please use `channel_axis` instead.\n",
      "  # This is added back by InteractiveShellApp.init_path()\n",
      "C:\\Users\\thithilab\\anaconda3\\envs\\yolov5_april\\lib\\site-packages\\sklearn\\preprocessing\\_label.py:154: DataConversionWarning: A column-vector y was passed when a 1d array was expected. Please change the shape of y to (n_samples, ), for example using ravel().\n",
      "  y = column_or_1d(y, warn=True)\n",
      "video 1/1 (1388/3933) D:\\815_CowDataChecking\\20221229\\20221229_M_cow\\20221229_061532_21C6.mkv: 640x640 2 cows, Done. (0.013s)\n"
     ]
    },
    {
     "name": "stdout",
     "output_type": "stream",
     "text": [
      "6\n",
      "['5']\n",
      "length is more than 1400 pixel\n"
     ]
    },
    {
     "name": "stderr",
     "output_type": "stream",
     "text": [
      "C:\\Users\\thithilab\\anaconda3\\envs\\yolov5_april\\lib\\site-packages\\ipykernel_launcher.py:11: FutureWarning: `multichannel` is a deprecated argument name for `hog`. It will be removed in version 1.0. Please use `channel_axis` instead.\n",
      "  # This is added back by InteractiveShellApp.init_path()\n",
      "C:\\Users\\thithilab\\anaconda3\\envs\\yolov5_april\\lib\\site-packages\\sklearn\\preprocessing\\_label.py:154: DataConversionWarning: A column-vector y was passed when a 1d array was expected. Please change the shape of y to (n_samples, ), for example using ravel().\n",
      "  y = column_or_1d(y, warn=True)\n",
      "video 1/1 (1389/3933) D:\\815_CowDataChecking\\20221229\\20221229_M_cow\\20221229_061532_21C6.mkv: 640x640 2 cows, Done. (0.014s)\n"
     ]
    },
    {
     "name": "stdout",
     "output_type": "stream",
     "text": [
      "6\n",
      "['5']\n"
     ]
    },
    {
     "name": "stderr",
     "output_type": "stream",
     "text": [
      "C:\\Users\\thithilab\\anaconda3\\envs\\yolov5_april\\lib\\site-packages\\ipykernel_launcher.py:11: FutureWarning: `multichannel` is a deprecated argument name for `hog`. It will be removed in version 1.0. Please use `channel_axis` instead.\n",
      "  # This is added back by InteractiveShellApp.init_path()\n",
      "C:\\Users\\thithilab\\anaconda3\\envs\\yolov5_april\\lib\\site-packages\\sklearn\\preprocessing\\_label.py:154: DataConversionWarning: A column-vector y was passed when a 1d array was expected. Please change the shape of y to (n_samples, ), for example using ravel().\n",
      "  y = column_or_1d(y, warn=True)\n",
      "video 1/1 (1390/3933) D:\\815_CowDataChecking\\20221229\\20221229_M_cow\\20221229_061532_21C6.mkv: 640x640 2 cows, Done. (0.012s)\n"
     ]
    },
    {
     "name": "stdout",
     "output_type": "stream",
     "text": [
      "6\n",
      "['5']\n"
     ]
    },
    {
     "name": "stderr",
     "output_type": "stream",
     "text": [
      "C:\\Users\\thithilab\\anaconda3\\envs\\yolov5_april\\lib\\site-packages\\ipykernel_launcher.py:11: FutureWarning: `multichannel` is a deprecated argument name for `hog`. It will be removed in version 1.0. Please use `channel_axis` instead.\n",
      "  # This is added back by InteractiveShellApp.init_path()\n",
      "C:\\Users\\thithilab\\anaconda3\\envs\\yolov5_april\\lib\\site-packages\\sklearn\\preprocessing\\_label.py:154: DataConversionWarning: A column-vector y was passed when a 1d array was expected. Please change the shape of y to (n_samples, ), for example using ravel().\n",
      "  y = column_or_1d(y, warn=True)\n",
      "video 1/1 (1391/3933) D:\\815_CowDataChecking\\20221229\\20221229_M_cow\\20221229_061532_21C6.mkv: 640x640 2 cows, Done. (0.014s)\n"
     ]
    },
    {
     "name": "stdout",
     "output_type": "stream",
     "text": [
      "6\n",
      "['5']\n"
     ]
    },
    {
     "name": "stderr",
     "output_type": "stream",
     "text": [
      "C:\\Users\\thithilab\\anaconda3\\envs\\yolov5_april\\lib\\site-packages\\ipykernel_launcher.py:11: FutureWarning: `multichannel` is a deprecated argument name for `hog`. It will be removed in version 1.0. Please use `channel_axis` instead.\n",
      "  # This is added back by InteractiveShellApp.init_path()\n",
      "C:\\Users\\thithilab\\anaconda3\\envs\\yolov5_april\\lib\\site-packages\\sklearn\\preprocessing\\_label.py:154: DataConversionWarning: A column-vector y was passed when a 1d array was expected. Please change the shape of y to (n_samples, ), for example using ravel().\n",
      "  y = column_or_1d(y, warn=True)\n",
      "video 1/1 (1392/3933) D:\\815_CowDataChecking\\20221229\\20221229_M_cow\\20221229_061532_21C6.mkv: 640x640 2 cows, Done. (0.012s)\n"
     ]
    },
    {
     "name": "stdout",
     "output_type": "stream",
     "text": [
      "6\n",
      "['5']\n"
     ]
    },
    {
     "name": "stderr",
     "output_type": "stream",
     "text": [
      "C:\\Users\\thithilab\\anaconda3\\envs\\yolov5_april\\lib\\site-packages\\ipykernel_launcher.py:11: FutureWarning: `multichannel` is a deprecated argument name for `hog`. It will be removed in version 1.0. Please use `channel_axis` instead.\n",
      "  # This is added back by InteractiveShellApp.init_path()\n",
      "C:\\Users\\thithilab\\anaconda3\\envs\\yolov5_april\\lib\\site-packages\\sklearn\\preprocessing\\_label.py:154: DataConversionWarning: A column-vector y was passed when a 1d array was expected. Please change the shape of y to (n_samples, ), for example using ravel().\n",
      "  y = column_or_1d(y, warn=True)\n",
      "video 1/1 (1393/3933) D:\\815_CowDataChecking\\20221229\\20221229_M_cow\\20221229_061532_21C6.mkv: 640x640 2 cows, Done. (0.015s)\n"
     ]
    },
    {
     "name": "stdout",
     "output_type": "stream",
     "text": [
      "6\n",
      "['5']\n"
     ]
    },
    {
     "name": "stderr",
     "output_type": "stream",
     "text": [
      "C:\\Users\\thithilab\\anaconda3\\envs\\yolov5_april\\lib\\site-packages\\ipykernel_launcher.py:11: FutureWarning: `multichannel` is a deprecated argument name for `hog`. It will be removed in version 1.0. Please use `channel_axis` instead.\n",
      "  # This is added back by InteractiveShellApp.init_path()\n",
      "C:\\Users\\thithilab\\anaconda3\\envs\\yolov5_april\\lib\\site-packages\\sklearn\\preprocessing\\_label.py:154: DataConversionWarning: A column-vector y was passed when a 1d array was expected. Please change the shape of y to (n_samples, ), for example using ravel().\n",
      "  y = column_or_1d(y, warn=True)\n",
      "video 1/1 (1394/3933) D:\\815_CowDataChecking\\20221229\\20221229_M_cow\\20221229_061532_21C6.mkv: 640x640 2 cows, Done. (0.019s)\n"
     ]
    },
    {
     "name": "stdout",
     "output_type": "stream",
     "text": [
      "6\n",
      "['5']\n"
     ]
    },
    {
     "name": "stderr",
     "output_type": "stream",
     "text": [
      "C:\\Users\\thithilab\\anaconda3\\envs\\yolov5_april\\lib\\site-packages\\ipykernel_launcher.py:11: FutureWarning: `multichannel` is a deprecated argument name for `hog`. It will be removed in version 1.0. Please use `channel_axis` instead.\n",
      "  # This is added back by InteractiveShellApp.init_path()\n",
      "C:\\Users\\thithilab\\anaconda3\\envs\\yolov5_april\\lib\\site-packages\\sklearn\\preprocessing\\_label.py:154: DataConversionWarning: A column-vector y was passed when a 1d array was expected. Please change the shape of y to (n_samples, ), for example using ravel().\n",
      "  y = column_or_1d(y, warn=True)\n",
      "video 1/1 (1395/3933) D:\\815_CowDataChecking\\20221229\\20221229_M_cow\\20221229_061532_21C6.mkv: 640x640 2 cows, Done. (0.012s)\n"
     ]
    },
    {
     "name": "stdout",
     "output_type": "stream",
     "text": [
      "6\n",
      "['5']\n"
     ]
    },
    {
     "name": "stderr",
     "output_type": "stream",
     "text": [
      "C:\\Users\\thithilab\\anaconda3\\envs\\yolov5_april\\lib\\site-packages\\ipykernel_launcher.py:11: FutureWarning: `multichannel` is a deprecated argument name for `hog`. It will be removed in version 1.0. Please use `channel_axis` instead.\n",
      "  # This is added back by InteractiveShellApp.init_path()\n",
      "C:\\Users\\thithilab\\anaconda3\\envs\\yolov5_april\\lib\\site-packages\\sklearn\\preprocessing\\_label.py:154: DataConversionWarning: A column-vector y was passed when a 1d array was expected. Please change the shape of y to (n_samples, ), for example using ravel().\n",
      "  y = column_or_1d(y, warn=True)\n",
      "video 1/1 (1396/3933) D:\\815_CowDataChecking\\20221229\\20221229_M_cow\\20221229_061532_21C6.mkv: 640x640 1 cow, Done. (0.014s)\n"
     ]
    },
    {
     "name": "stdout",
     "output_type": "stream",
     "text": [
      "6\n",
      "['5']\n"
     ]
    },
    {
     "name": "stderr",
     "output_type": "stream",
     "text": [
      "C:\\Users\\thithilab\\anaconda3\\envs\\yolov5_april\\lib\\site-packages\\ipykernel_launcher.py:11: FutureWarning: `multichannel` is a deprecated argument name for `hog`. It will be removed in version 1.0. Please use `channel_axis` instead.\n",
      "  # This is added back by InteractiveShellApp.init_path()\n",
      "C:\\Users\\thithilab\\anaconda3\\envs\\yolov5_april\\lib\\site-packages\\sklearn\\preprocessing\\_label.py:154: DataConversionWarning: A column-vector y was passed when a 1d array was expected. Please change the shape of y to (n_samples, ), for example using ravel().\n",
      "  y = column_or_1d(y, warn=True)\n",
      "video 1/1 (1397/3933) D:\\815_CowDataChecking\\20221229\\20221229_M_cow\\20221229_061532_21C6.mkv: 640x640 2 cows, Done. (0.015s)\n"
     ]
    },
    {
     "name": "stdout",
     "output_type": "stream",
     "text": [
      "6\n",
      "['5']\n"
     ]
    },
    {
     "name": "stderr",
     "output_type": "stream",
     "text": [
      "C:\\Users\\thithilab\\anaconda3\\envs\\yolov5_april\\lib\\site-packages\\ipykernel_launcher.py:11: FutureWarning: `multichannel` is a deprecated argument name for `hog`. It will be removed in version 1.0. Please use `channel_axis` instead.\n",
      "  # This is added back by InteractiveShellApp.init_path()\n",
      "C:\\Users\\thithilab\\anaconda3\\envs\\yolov5_april\\lib\\site-packages\\sklearn\\preprocessing\\_label.py:154: DataConversionWarning: A column-vector y was passed when a 1d array was expected. Please change the shape of y to (n_samples, ), for example using ravel().\n",
      "  y = column_or_1d(y, warn=True)\n",
      "video 1/1 (1398/3933) D:\\815_CowDataChecking\\20221229\\20221229_M_cow\\20221229_061532_21C6.mkv: 640x640 2 cows, Done. (0.013s)\n"
     ]
    },
    {
     "name": "stdout",
     "output_type": "stream",
     "text": [
      "6\n",
      "['5']\n"
     ]
    },
    {
     "name": "stderr",
     "output_type": "stream",
     "text": [
      "C:\\Users\\thithilab\\anaconda3\\envs\\yolov5_april\\lib\\site-packages\\ipykernel_launcher.py:11: FutureWarning: `multichannel` is a deprecated argument name for `hog`. It will be removed in version 1.0. Please use `channel_axis` instead.\n",
      "  # This is added back by InteractiveShellApp.init_path()\n",
      "C:\\Users\\thithilab\\anaconda3\\envs\\yolov5_april\\lib\\site-packages\\sklearn\\preprocessing\\_label.py:154: DataConversionWarning: A column-vector y was passed when a 1d array was expected. Please change the shape of y to (n_samples, ), for example using ravel().\n",
      "  y = column_or_1d(y, warn=True)\n",
      "video 1/1 (1399/3933) D:\\815_CowDataChecking\\20221229\\20221229_M_cow\\20221229_061532_21C6.mkv: 640x640 2 cows, Done. (0.014s)\n"
     ]
    },
    {
     "name": "stdout",
     "output_type": "stream",
     "text": [
      "6\n",
      "['5']\n"
     ]
    },
    {
     "name": "stderr",
     "output_type": "stream",
     "text": [
      "C:\\Users\\thithilab\\anaconda3\\envs\\yolov5_april\\lib\\site-packages\\ipykernel_launcher.py:11: FutureWarning: `multichannel` is a deprecated argument name for `hog`. It will be removed in version 1.0. Please use `channel_axis` instead.\n",
      "  # This is added back by InteractiveShellApp.init_path()\n",
      "C:\\Users\\thithilab\\anaconda3\\envs\\yolov5_april\\lib\\site-packages\\sklearn\\preprocessing\\_label.py:154: DataConversionWarning: A column-vector y was passed when a 1d array was expected. Please change the shape of y to (n_samples, ), for example using ravel().\n",
      "  y = column_or_1d(y, warn=True)\n",
      "video 1/1 (1400/3933) D:\\815_CowDataChecking\\20221229\\20221229_M_cow\\20221229_061532_21C6.mkv: 640x640 2 cows, Done. (0.013s)\n"
     ]
    },
    {
     "name": "stdout",
     "output_type": "stream",
     "text": [
      "6\n",
      "['5']\n"
     ]
    },
    {
     "name": "stderr",
     "output_type": "stream",
     "text": [
      "C:\\Users\\thithilab\\anaconda3\\envs\\yolov5_april\\lib\\site-packages\\ipykernel_launcher.py:11: FutureWarning: `multichannel` is a deprecated argument name for `hog`. It will be removed in version 1.0. Please use `channel_axis` instead.\n",
      "  # This is added back by InteractiveShellApp.init_path()\n",
      "C:\\Users\\thithilab\\anaconda3\\envs\\yolov5_april\\lib\\site-packages\\sklearn\\preprocessing\\_label.py:154: DataConversionWarning: A column-vector y was passed when a 1d array was expected. Please change the shape of y to (n_samples, ), for example using ravel().\n",
      "  y = column_or_1d(y, warn=True)\n",
      "video 1/1 (1401/3933) D:\\815_CowDataChecking\\20221229\\20221229_M_cow\\20221229_061532_21C6.mkv: 640x640 2 cows, Done. (0.015s)\n"
     ]
    },
    {
     "name": "stdout",
     "output_type": "stream",
     "text": [
      "6\n",
      "['5']\n"
     ]
    },
    {
     "name": "stderr",
     "output_type": "stream",
     "text": [
      "C:\\Users\\thithilab\\anaconda3\\envs\\yolov5_april\\lib\\site-packages\\ipykernel_launcher.py:11: FutureWarning: `multichannel` is a deprecated argument name for `hog`. It will be removed in version 1.0. Please use `channel_axis` instead.\n",
      "  # This is added back by InteractiveShellApp.init_path()\n",
      "C:\\Users\\thithilab\\anaconda3\\envs\\yolov5_april\\lib\\site-packages\\sklearn\\preprocessing\\_label.py:154: DataConversionWarning: A column-vector y was passed when a 1d array was expected. Please change the shape of y to (n_samples, ), for example using ravel().\n",
      "  y = column_or_1d(y, warn=True)\n",
      "video 1/1 (1402/3933) D:\\815_CowDataChecking\\20221229\\20221229_M_cow\\20221229_061532_21C6.mkv: 640x640 2 cows, Done. (0.013s)\n"
     ]
    },
    {
     "name": "stdout",
     "output_type": "stream",
     "text": [
      "6\n",
      "['5']\n"
     ]
    },
    {
     "name": "stderr",
     "output_type": "stream",
     "text": [
      "C:\\Users\\thithilab\\anaconda3\\envs\\yolov5_april\\lib\\site-packages\\ipykernel_launcher.py:11: FutureWarning: `multichannel` is a deprecated argument name for `hog`. It will be removed in version 1.0. Please use `channel_axis` instead.\n",
      "  # This is added back by InteractiveShellApp.init_path()\n",
      "C:\\Users\\thithilab\\anaconda3\\envs\\yolov5_april\\lib\\site-packages\\sklearn\\preprocessing\\_label.py:154: DataConversionWarning: A column-vector y was passed when a 1d array was expected. Please change the shape of y to (n_samples, ), for example using ravel().\n",
      "  y = column_or_1d(y, warn=True)\n",
      "video 1/1 (1403/3933) D:\\815_CowDataChecking\\20221229\\20221229_M_cow\\20221229_061532_21C6.mkv: 640x640 2 cows, Done. (0.013s)\n"
     ]
    },
    {
     "name": "stdout",
     "output_type": "stream",
     "text": [
      "6\n",
      "['5']\n"
     ]
    },
    {
     "name": "stderr",
     "output_type": "stream",
     "text": [
      "C:\\Users\\thithilab\\anaconda3\\envs\\yolov5_april\\lib\\site-packages\\ipykernel_launcher.py:11: FutureWarning: `multichannel` is a deprecated argument name for `hog`. It will be removed in version 1.0. Please use `channel_axis` instead.\n",
      "  # This is added back by InteractiveShellApp.init_path()\n",
      "C:\\Users\\thithilab\\anaconda3\\envs\\yolov5_april\\lib\\site-packages\\sklearn\\preprocessing\\_label.py:154: DataConversionWarning: A column-vector y was passed when a 1d array was expected. Please change the shape of y to (n_samples, ), for example using ravel().\n",
      "  y = column_or_1d(y, warn=True)\n",
      "video 1/1 (1404/3933) D:\\815_CowDataChecking\\20221229\\20221229_M_cow\\20221229_061532_21C6.mkv: 640x640 2 cows, Done. (0.012s)\n"
     ]
    },
    {
     "name": "stdout",
     "output_type": "stream",
     "text": [
      "6\n",
      "['5']\n"
     ]
    },
    {
     "name": "stderr",
     "output_type": "stream",
     "text": [
      "C:\\Users\\thithilab\\anaconda3\\envs\\yolov5_april\\lib\\site-packages\\ipykernel_launcher.py:11: FutureWarning: `multichannel` is a deprecated argument name for `hog`. It will be removed in version 1.0. Please use `channel_axis` instead.\n",
      "  # This is added back by InteractiveShellApp.init_path()\n",
      "C:\\Users\\thithilab\\anaconda3\\envs\\yolov5_april\\lib\\site-packages\\sklearn\\preprocessing\\_label.py:154: DataConversionWarning: A column-vector y was passed when a 1d array was expected. Please change the shape of y to (n_samples, ), for example using ravel().\n",
      "  y = column_or_1d(y, warn=True)\n",
      "video 1/1 (1405/3933) D:\\815_CowDataChecking\\20221229\\20221229_M_cow\\20221229_061532_21C6.mkv: 640x640 2 cows, Done. (0.013s)\n"
     ]
    },
    {
     "name": "stdout",
     "output_type": "stream",
     "text": [
      "6\n",
      "['5']\n"
     ]
    },
    {
     "name": "stderr",
     "output_type": "stream",
     "text": [
      "C:\\Users\\thithilab\\anaconda3\\envs\\yolov5_april\\lib\\site-packages\\ipykernel_launcher.py:11: FutureWarning: `multichannel` is a deprecated argument name for `hog`. It will be removed in version 1.0. Please use `channel_axis` instead.\n",
      "  # This is added back by InteractiveShellApp.init_path()\n",
      "C:\\Users\\thithilab\\anaconda3\\envs\\yolov5_april\\lib\\site-packages\\sklearn\\preprocessing\\_label.py:154: DataConversionWarning: A column-vector y was passed when a 1d array was expected. Please change the shape of y to (n_samples, ), for example using ravel().\n",
      "  y = column_or_1d(y, warn=True)\n",
      "video 1/1 (1406/3933) D:\\815_CowDataChecking\\20221229\\20221229_M_cow\\20221229_061532_21C6.mkv: 640x640 2 cows, Done. (0.013s)\n"
     ]
    },
    {
     "name": "stdout",
     "output_type": "stream",
     "text": [
      "6\n",
      "['5']\n"
     ]
    },
    {
     "name": "stderr",
     "output_type": "stream",
     "text": [
      "C:\\Users\\thithilab\\anaconda3\\envs\\yolov5_april\\lib\\site-packages\\ipykernel_launcher.py:11: FutureWarning: `multichannel` is a deprecated argument name for `hog`. It will be removed in version 1.0. Please use `channel_axis` instead.\n",
      "  # This is added back by InteractiveShellApp.init_path()\n",
      "C:\\Users\\thithilab\\anaconda3\\envs\\yolov5_april\\lib\\site-packages\\sklearn\\preprocessing\\_label.py:154: DataConversionWarning: A column-vector y was passed when a 1d array was expected. Please change the shape of y to (n_samples, ), for example using ravel().\n",
      "  y = column_or_1d(y, warn=True)\n",
      "video 1/1 (1407/3933) D:\\815_CowDataChecking\\20221229\\20221229_M_cow\\20221229_061532_21C6.mkv: 640x640 2 cows, Done. (0.013s)\n"
     ]
    },
    {
     "name": "stdout",
     "output_type": "stream",
     "text": [
      "6\n",
      "['5']\n"
     ]
    },
    {
     "name": "stderr",
     "output_type": "stream",
     "text": [
      "C:\\Users\\thithilab\\anaconda3\\envs\\yolov5_april\\lib\\site-packages\\ipykernel_launcher.py:11: FutureWarning: `multichannel` is a deprecated argument name for `hog`. It will be removed in version 1.0. Please use `channel_axis` instead.\n",
      "  # This is added back by InteractiveShellApp.init_path()\n",
      "C:\\Users\\thithilab\\anaconda3\\envs\\yolov5_april\\lib\\site-packages\\sklearn\\preprocessing\\_label.py:154: DataConversionWarning: A column-vector y was passed when a 1d array was expected. Please change the shape of y to (n_samples, ), for example using ravel().\n",
      "  y = column_or_1d(y, warn=True)\n",
      "video 1/1 (1408/3933) D:\\815_CowDataChecking\\20221229\\20221229_M_cow\\20221229_061532_21C6.mkv: 640x640 2 cows, Done. (0.013s)\n"
     ]
    },
    {
     "name": "stdout",
     "output_type": "stream",
     "text": [
      "6\n",
      "['5']\n"
     ]
    },
    {
     "name": "stderr",
     "output_type": "stream",
     "text": [
      "C:\\Users\\thithilab\\anaconda3\\envs\\yolov5_april\\lib\\site-packages\\ipykernel_launcher.py:11: FutureWarning: `multichannel` is a deprecated argument name for `hog`. It will be removed in version 1.0. Please use `channel_axis` instead.\n",
      "  # This is added back by InteractiveShellApp.init_path()\n",
      "C:\\Users\\thithilab\\anaconda3\\envs\\yolov5_april\\lib\\site-packages\\sklearn\\preprocessing\\_label.py:154: DataConversionWarning: A column-vector y was passed when a 1d array was expected. Please change the shape of y to (n_samples, ), for example using ravel().\n",
      "  y = column_or_1d(y, warn=True)\n",
      "video 1/1 (1409/3933) D:\\815_CowDataChecking\\20221229\\20221229_M_cow\\20221229_061532_21C6.mkv: 640x640 2 cows, Done. (0.013s)\n"
     ]
    },
    {
     "name": "stdout",
     "output_type": "stream",
     "text": [
      "6\n",
      "['5']\n"
     ]
    },
    {
     "name": "stderr",
     "output_type": "stream",
     "text": [
      "C:\\Users\\thithilab\\anaconda3\\envs\\yolov5_april\\lib\\site-packages\\ipykernel_launcher.py:11: FutureWarning: `multichannel` is a deprecated argument name for `hog`. It will be removed in version 1.0. Please use `channel_axis` instead.\n",
      "  # This is added back by InteractiveShellApp.init_path()\n",
      "C:\\Users\\thithilab\\anaconda3\\envs\\yolov5_april\\lib\\site-packages\\sklearn\\preprocessing\\_label.py:154: DataConversionWarning: A column-vector y was passed when a 1d array was expected. Please change the shape of y to (n_samples, ), for example using ravel().\n",
      "  y = column_or_1d(y, warn=True)\n",
      "video 1/1 (1410/3933) D:\\815_CowDataChecking\\20221229\\20221229_M_cow\\20221229_061532_21C6.mkv: 640x640 2 cows, Done. (0.014s)\n"
     ]
    },
    {
     "name": "stdout",
     "output_type": "stream",
     "text": [
      "6\n",
      "['5']\n"
     ]
    },
    {
     "name": "stderr",
     "output_type": "stream",
     "text": [
      "C:\\Users\\thithilab\\anaconda3\\envs\\yolov5_april\\lib\\site-packages\\ipykernel_launcher.py:11: FutureWarning: `multichannel` is a deprecated argument name for `hog`. It will be removed in version 1.0. Please use `channel_axis` instead.\n",
      "  # This is added back by InteractiveShellApp.init_path()\n",
      "C:\\Users\\thithilab\\anaconda3\\envs\\yolov5_april\\lib\\site-packages\\sklearn\\preprocessing\\_label.py:154: DataConversionWarning: A column-vector y was passed when a 1d array was expected. Please change the shape of y to (n_samples, ), for example using ravel().\n",
      "  y = column_or_1d(y, warn=True)\n",
      "video 1/1 (1411/3933) D:\\815_CowDataChecking\\20221229\\20221229_M_cow\\20221229_061532_21C6.mkv: 640x640 2 cows, Done. (0.013s)\n"
     ]
    },
    {
     "name": "stdout",
     "output_type": "stream",
     "text": [
      "6\n",
      "['5']\n"
     ]
    },
    {
     "name": "stderr",
     "output_type": "stream",
     "text": [
      "C:\\Users\\thithilab\\anaconda3\\envs\\yolov5_april\\lib\\site-packages\\ipykernel_launcher.py:11: FutureWarning: `multichannel` is a deprecated argument name for `hog`. It will be removed in version 1.0. Please use `channel_axis` instead.\n",
      "  # This is added back by InteractiveShellApp.init_path()\n",
      "C:\\Users\\thithilab\\anaconda3\\envs\\yolov5_april\\lib\\site-packages\\sklearn\\preprocessing\\_label.py:154: DataConversionWarning: A column-vector y was passed when a 1d array was expected. Please change the shape of y to (n_samples, ), for example using ravel().\n",
      "  y = column_or_1d(y, warn=True)\n",
      "video 1/1 (1412/3933) D:\\815_CowDataChecking\\20221229\\20221229_M_cow\\20221229_061532_21C6.mkv: 640x640 2 cows, Done. (0.016s)\n"
     ]
    },
    {
     "name": "stdout",
     "output_type": "stream",
     "text": [
      "6\n",
      "['5']\n"
     ]
    },
    {
     "name": "stderr",
     "output_type": "stream",
     "text": [
      "C:\\Users\\thithilab\\anaconda3\\envs\\yolov5_april\\lib\\site-packages\\ipykernel_launcher.py:11: FutureWarning: `multichannel` is a deprecated argument name for `hog`. It will be removed in version 1.0. Please use `channel_axis` instead.\n",
      "  # This is added back by InteractiveShellApp.init_path()\n",
      "C:\\Users\\thithilab\\anaconda3\\envs\\yolov5_april\\lib\\site-packages\\sklearn\\preprocessing\\_label.py:154: DataConversionWarning: A column-vector y was passed when a 1d array was expected. Please change the shape of y to (n_samples, ), for example using ravel().\n",
      "  y = column_or_1d(y, warn=True)\n",
      "video 1/1 (1413/3933) D:\\815_CowDataChecking\\20221229\\20221229_M_cow\\20221229_061532_21C6.mkv: 640x640 2 cows, Done. (0.013s)\n"
     ]
    },
    {
     "name": "stdout",
     "output_type": "stream",
     "text": [
      "6\n",
      "['5']\n"
     ]
    },
    {
     "name": "stderr",
     "output_type": "stream",
     "text": [
      "C:\\Users\\thithilab\\anaconda3\\envs\\yolov5_april\\lib\\site-packages\\ipykernel_launcher.py:11: FutureWarning: `multichannel` is a deprecated argument name for `hog`. It will be removed in version 1.0. Please use `channel_axis` instead.\n",
      "  # This is added back by InteractiveShellApp.init_path()\n",
      "C:\\Users\\thithilab\\anaconda3\\envs\\yolov5_april\\lib\\site-packages\\sklearn\\preprocessing\\_label.py:154: DataConversionWarning: A column-vector y was passed when a 1d array was expected. Please change the shape of y to (n_samples, ), for example using ravel().\n",
      "  y = column_or_1d(y, warn=True)\n",
      "video 1/1 (1414/3933) D:\\815_CowDataChecking\\20221229\\20221229_M_cow\\20221229_061532_21C6.mkv: 640x640 2 cows, Done. (0.013s)\n"
     ]
    },
    {
     "name": "stdout",
     "output_type": "stream",
     "text": [
      "6\n",
      "['5']\n"
     ]
    },
    {
     "name": "stderr",
     "output_type": "stream",
     "text": [
      "C:\\Users\\thithilab\\anaconda3\\envs\\yolov5_april\\lib\\site-packages\\ipykernel_launcher.py:11: FutureWarning: `multichannel` is a deprecated argument name for `hog`. It will be removed in version 1.0. Please use `channel_axis` instead.\n",
      "  # This is added back by InteractiveShellApp.init_path()\n",
      "C:\\Users\\thithilab\\anaconda3\\envs\\yolov5_april\\lib\\site-packages\\sklearn\\preprocessing\\_label.py:154: DataConversionWarning: A column-vector y was passed when a 1d array was expected. Please change the shape of y to (n_samples, ), for example using ravel().\n",
      "  y = column_or_1d(y, warn=True)\n",
      "video 1/1 (1415/3933) D:\\815_CowDataChecking\\20221229\\20221229_M_cow\\20221229_061532_21C6.mkv: 640x640 2 cows, Done. (0.012s)\n"
     ]
    },
    {
     "name": "stdout",
     "output_type": "stream",
     "text": [
      "6\n",
      "['5']\n"
     ]
    },
    {
     "name": "stderr",
     "output_type": "stream",
     "text": [
      "C:\\Users\\thithilab\\anaconda3\\envs\\yolov5_april\\lib\\site-packages\\ipykernel_launcher.py:11: FutureWarning: `multichannel` is a deprecated argument name for `hog`. It will be removed in version 1.0. Please use `channel_axis` instead.\n",
      "  # This is added back by InteractiveShellApp.init_path()\n",
      "C:\\Users\\thithilab\\anaconda3\\envs\\yolov5_april\\lib\\site-packages\\sklearn\\preprocessing\\_label.py:154: DataConversionWarning: A column-vector y was passed when a 1d array was expected. Please change the shape of y to (n_samples, ), for example using ravel().\n",
      "  y = column_or_1d(y, warn=True)\n",
      "video 1/1 (1416/3933) D:\\815_CowDataChecking\\20221229\\20221229_M_cow\\20221229_061532_21C6.mkv: 640x640 2 cows, Done. (0.012s)\n"
     ]
    },
    {
     "name": "stdout",
     "output_type": "stream",
     "text": [
      "6\n",
      "['5']\n"
     ]
    },
    {
     "name": "stderr",
     "output_type": "stream",
     "text": [
      "C:\\Users\\thithilab\\anaconda3\\envs\\yolov5_april\\lib\\site-packages\\ipykernel_launcher.py:11: FutureWarning: `multichannel` is a deprecated argument name for `hog`. It will be removed in version 1.0. Please use `channel_axis` instead.\n",
      "  # This is added back by InteractiveShellApp.init_path()\n",
      "C:\\Users\\thithilab\\anaconda3\\envs\\yolov5_april\\lib\\site-packages\\sklearn\\preprocessing\\_label.py:154: DataConversionWarning: A column-vector y was passed when a 1d array was expected. Please change the shape of y to (n_samples, ), for example using ravel().\n",
      "  y = column_or_1d(y, warn=True)\n",
      "video 1/1 (1417/3933) D:\\815_CowDataChecking\\20221229\\20221229_M_cow\\20221229_061532_21C6.mkv: 640x640 2 cows, Done. (0.013s)\n"
     ]
    },
    {
     "name": "stdout",
     "output_type": "stream",
     "text": [
      "6\n",
      "['5']\n"
     ]
    },
    {
     "name": "stderr",
     "output_type": "stream",
     "text": [
      "C:\\Users\\thithilab\\anaconda3\\envs\\yolov5_april\\lib\\site-packages\\ipykernel_launcher.py:11: FutureWarning: `multichannel` is a deprecated argument name for `hog`. It will be removed in version 1.0. Please use `channel_axis` instead.\n",
      "  # This is added back by InteractiveShellApp.init_path()\n",
      "C:\\Users\\thithilab\\anaconda3\\envs\\yolov5_april\\lib\\site-packages\\sklearn\\preprocessing\\_label.py:154: DataConversionWarning: A column-vector y was passed when a 1d array was expected. Please change the shape of y to (n_samples, ), for example using ravel().\n",
      "  y = column_or_1d(y, warn=True)\n",
      "video 1/1 (1418/3933) D:\\815_CowDataChecking\\20221229\\20221229_M_cow\\20221229_061532_21C6.mkv: 640x640 2 cows, Done. (0.013s)\n"
     ]
    },
    {
     "name": "stdout",
     "output_type": "stream",
     "text": [
      "6\n",
      "['5']\n"
     ]
    },
    {
     "name": "stderr",
     "output_type": "stream",
     "text": [
      "C:\\Users\\thithilab\\anaconda3\\envs\\yolov5_april\\lib\\site-packages\\ipykernel_launcher.py:11: FutureWarning: `multichannel` is a deprecated argument name for `hog`. It will be removed in version 1.0. Please use `channel_axis` instead.\n",
      "  # This is added back by InteractiveShellApp.init_path()\n",
      "C:\\Users\\thithilab\\anaconda3\\envs\\yolov5_april\\lib\\site-packages\\sklearn\\preprocessing\\_label.py:154: DataConversionWarning: A column-vector y was passed when a 1d array was expected. Please change the shape of y to (n_samples, ), for example using ravel().\n",
      "  y = column_or_1d(y, warn=True)\n",
      "video 1/1 (1419/3933) D:\\815_CowDataChecking\\20221229\\20221229_M_cow\\20221229_061532_21C6.mkv: 640x640 2 cows, Done. (0.013s)\n"
     ]
    },
    {
     "name": "stdout",
     "output_type": "stream",
     "text": [
      "6\n",
      "['5']\n"
     ]
    },
    {
     "name": "stderr",
     "output_type": "stream",
     "text": [
      "C:\\Users\\thithilab\\anaconda3\\envs\\yolov5_april\\lib\\site-packages\\ipykernel_launcher.py:11: FutureWarning: `multichannel` is a deprecated argument name for `hog`. It will be removed in version 1.0. Please use `channel_axis` instead.\n",
      "  # This is added back by InteractiveShellApp.init_path()\n",
      "C:\\Users\\thithilab\\anaconda3\\envs\\yolov5_april\\lib\\site-packages\\sklearn\\preprocessing\\_label.py:154: DataConversionWarning: A column-vector y was passed when a 1d array was expected. Please change the shape of y to (n_samples, ), for example using ravel().\n",
      "  y = column_or_1d(y, warn=True)\n",
      "video 1/1 (1420/3933) D:\\815_CowDataChecking\\20221229\\20221229_M_cow\\20221229_061532_21C6.mkv: 640x640 2 cows, Done. (0.014s)\n"
     ]
    },
    {
     "name": "stdout",
     "output_type": "stream",
     "text": [
      "6\n",
      "['5']\n"
     ]
    },
    {
     "name": "stderr",
     "output_type": "stream",
     "text": [
      "C:\\Users\\thithilab\\anaconda3\\envs\\yolov5_april\\lib\\site-packages\\ipykernel_launcher.py:11: FutureWarning: `multichannel` is a deprecated argument name for `hog`. It will be removed in version 1.0. Please use `channel_axis` instead.\n",
      "  # This is added back by InteractiveShellApp.init_path()\n",
      "C:\\Users\\thithilab\\anaconda3\\envs\\yolov5_april\\lib\\site-packages\\sklearn\\preprocessing\\_label.py:154: DataConversionWarning: A column-vector y was passed when a 1d array was expected. Please change the shape of y to (n_samples, ), for example using ravel().\n",
      "  y = column_or_1d(y, warn=True)\n",
      "video 1/1 (1421/3933) D:\\815_CowDataChecking\\20221229\\20221229_M_cow\\20221229_061532_21C6.mkv: 640x640 2 cows, Done. (0.013s)\n"
     ]
    },
    {
     "name": "stdout",
     "output_type": "stream",
     "text": [
      "6\n",
      "['5']\n"
     ]
    },
    {
     "name": "stderr",
     "output_type": "stream",
     "text": [
      "C:\\Users\\thithilab\\anaconda3\\envs\\yolov5_april\\lib\\site-packages\\ipykernel_launcher.py:11: FutureWarning: `multichannel` is a deprecated argument name for `hog`. It will be removed in version 1.0. Please use `channel_axis` instead.\n",
      "  # This is added back by InteractiveShellApp.init_path()\n",
      "C:\\Users\\thithilab\\anaconda3\\envs\\yolov5_april\\lib\\site-packages\\sklearn\\preprocessing\\_label.py:154: DataConversionWarning: A column-vector y was passed when a 1d array was expected. Please change the shape of y to (n_samples, ), for example using ravel().\n",
      "  y = column_or_1d(y, warn=True)\n",
      "video 1/1 (1422/3933) D:\\815_CowDataChecking\\20221229\\20221229_M_cow\\20221229_061532_21C6.mkv: 640x640 2 cows, Done. (0.014s)\n"
     ]
    },
    {
     "name": "stdout",
     "output_type": "stream",
     "text": [
      "6\n",
      "['5']\n"
     ]
    },
    {
     "name": "stderr",
     "output_type": "stream",
     "text": [
      "C:\\Users\\thithilab\\anaconda3\\envs\\yolov5_april\\lib\\site-packages\\ipykernel_launcher.py:11: FutureWarning: `multichannel` is a deprecated argument name for `hog`. It will be removed in version 1.0. Please use `channel_axis` instead.\n",
      "  # This is added back by InteractiveShellApp.init_path()\n",
      "C:\\Users\\thithilab\\anaconda3\\envs\\yolov5_april\\lib\\site-packages\\sklearn\\preprocessing\\_label.py:154: DataConversionWarning: A column-vector y was passed when a 1d array was expected. Please change the shape of y to (n_samples, ), for example using ravel().\n",
      "  y = column_or_1d(y, warn=True)\n",
      "video 1/1 (1423/3933) D:\\815_CowDataChecking\\20221229\\20221229_M_cow\\20221229_061532_21C6.mkv: 640x640 2 cows, Done. (0.013s)\n"
     ]
    },
    {
     "name": "stdout",
     "output_type": "stream",
     "text": [
      "6\n",
      "['5']\n"
     ]
    },
    {
     "name": "stderr",
     "output_type": "stream",
     "text": [
      "C:\\Users\\thithilab\\anaconda3\\envs\\yolov5_april\\lib\\site-packages\\ipykernel_launcher.py:11: FutureWarning: `multichannel` is a deprecated argument name for `hog`. It will be removed in version 1.0. Please use `channel_axis` instead.\n",
      "  # This is added back by InteractiveShellApp.init_path()\n",
      "C:\\Users\\thithilab\\anaconda3\\envs\\yolov5_april\\lib\\site-packages\\sklearn\\preprocessing\\_label.py:154: DataConversionWarning: A column-vector y was passed when a 1d array was expected. Please change the shape of y to (n_samples, ), for example using ravel().\n",
      "  y = column_or_1d(y, warn=True)\n",
      "video 1/1 (1424/3933) D:\\815_CowDataChecking\\20221229\\20221229_M_cow\\20221229_061532_21C6.mkv: 640x640 2 cows, Done. (0.021s)\n"
     ]
    },
    {
     "name": "stdout",
     "output_type": "stream",
     "text": [
      "6\n",
      "['5']\n"
     ]
    },
    {
     "name": "stderr",
     "output_type": "stream",
     "text": [
      "C:\\Users\\thithilab\\anaconda3\\envs\\yolov5_april\\lib\\site-packages\\ipykernel_launcher.py:11: FutureWarning: `multichannel` is a deprecated argument name for `hog`. It will be removed in version 1.0. Please use `channel_axis` instead.\n",
      "  # This is added back by InteractiveShellApp.init_path()\n",
      "C:\\Users\\thithilab\\anaconda3\\envs\\yolov5_april\\lib\\site-packages\\sklearn\\preprocessing\\_label.py:154: DataConversionWarning: A column-vector y was passed when a 1d array was expected. Please change the shape of y to (n_samples, ), for example using ravel().\n",
      "  y = column_or_1d(y, warn=True)\n",
      "video 1/1 (1425/3933) D:\\815_CowDataChecking\\20221229\\20221229_M_cow\\20221229_061532_21C6.mkv: 640x640 2 cows, Done. (0.013s)\n"
     ]
    },
    {
     "name": "stdout",
     "output_type": "stream",
     "text": [
      "6\n",
      "['5']\n"
     ]
    },
    {
     "name": "stderr",
     "output_type": "stream",
     "text": [
      "C:\\Users\\thithilab\\anaconda3\\envs\\yolov5_april\\lib\\site-packages\\ipykernel_launcher.py:11: FutureWarning: `multichannel` is a deprecated argument name for `hog`. It will be removed in version 1.0. Please use `channel_axis` instead.\n",
      "  # This is added back by InteractiveShellApp.init_path()\n",
      "C:\\Users\\thithilab\\anaconda3\\envs\\yolov5_april\\lib\\site-packages\\sklearn\\preprocessing\\_label.py:154: DataConversionWarning: A column-vector y was passed when a 1d array was expected. Please change the shape of y to (n_samples, ), for example using ravel().\n",
      "  y = column_or_1d(y, warn=True)\n",
      "video 1/1 (1426/3933) D:\\815_CowDataChecking\\20221229\\20221229_M_cow\\20221229_061532_21C6.mkv: 640x640 2 cows, Done. (0.013s)\n"
     ]
    },
    {
     "name": "stdout",
     "output_type": "stream",
     "text": [
      "6\n",
      "['5']\n"
     ]
    },
    {
     "name": "stderr",
     "output_type": "stream",
     "text": [
      "C:\\Users\\thithilab\\anaconda3\\envs\\yolov5_april\\lib\\site-packages\\ipykernel_launcher.py:11: FutureWarning: `multichannel` is a deprecated argument name for `hog`. It will be removed in version 1.0. Please use `channel_axis` instead.\n",
      "  # This is added back by InteractiveShellApp.init_path()\n",
      "C:\\Users\\thithilab\\anaconda3\\envs\\yolov5_april\\lib\\site-packages\\sklearn\\preprocessing\\_label.py:154: DataConversionWarning: A column-vector y was passed when a 1d array was expected. Please change the shape of y to (n_samples, ), for example using ravel().\n",
      "  y = column_or_1d(y, warn=True)\n",
      "video 1/1 (1427/3933) D:\\815_CowDataChecking\\20221229\\20221229_M_cow\\20221229_061532_21C6.mkv: 640x640 2 cows, Done. (0.013s)\n"
     ]
    },
    {
     "name": "stdout",
     "output_type": "stream",
     "text": [
      "6\n",
      "['5']\n"
     ]
    },
    {
     "name": "stderr",
     "output_type": "stream",
     "text": [
      "C:\\Users\\thithilab\\anaconda3\\envs\\yolov5_april\\lib\\site-packages\\ipykernel_launcher.py:11: FutureWarning: `multichannel` is a deprecated argument name for `hog`. It will be removed in version 1.0. Please use `channel_axis` instead.\n",
      "  # This is added back by InteractiveShellApp.init_path()\n",
      "C:\\Users\\thithilab\\anaconda3\\envs\\yolov5_april\\lib\\site-packages\\sklearn\\preprocessing\\_label.py:154: DataConversionWarning: A column-vector y was passed when a 1d array was expected. Please change the shape of y to (n_samples, ), for example using ravel().\n",
      "  y = column_or_1d(y, warn=True)\n",
      "video 1/1 (1428/3933) D:\\815_CowDataChecking\\20221229\\20221229_M_cow\\20221229_061532_21C6.mkv: 640x640 2 cows, Done. (0.013s)\n"
     ]
    },
    {
     "name": "stdout",
     "output_type": "stream",
     "text": [
      "6\n",
      "['5']\n"
     ]
    },
    {
     "name": "stderr",
     "output_type": "stream",
     "text": [
      "C:\\Users\\thithilab\\anaconda3\\envs\\yolov5_april\\lib\\site-packages\\ipykernel_launcher.py:11: FutureWarning: `multichannel` is a deprecated argument name for `hog`. It will be removed in version 1.0. Please use `channel_axis` instead.\n",
      "  # This is added back by InteractiveShellApp.init_path()\n",
      "C:\\Users\\thithilab\\anaconda3\\envs\\yolov5_april\\lib\\site-packages\\sklearn\\preprocessing\\_label.py:154: DataConversionWarning: A column-vector y was passed when a 1d array was expected. Please change the shape of y to (n_samples, ), for example using ravel().\n",
      "  y = column_or_1d(y, warn=True)\n",
      "video 1/1 (1429/3933) D:\\815_CowDataChecking\\20221229\\20221229_M_cow\\20221229_061532_21C6.mkv: 640x640 2 cows, Done. (0.014s)\n",
      "video 1/1 (1430/3933) D:\\815_CowDataChecking\\20221229\\20221229_M_cow\\20221229_061532_21C6.mkv: 640x640 3 cows, Done. (0.013s)\n",
      "video 1/1 (1431/3933) D:\\815_CowDataChecking\\20221229\\20221229_M_cow\\20221229_061532_21C6.mkv: 640x640 3 cows, Done. (0.013s)\n"
     ]
    },
    {
     "name": "stdout",
     "output_type": "stream",
     "text": [
      "6\n",
      "['5']\n",
      "length is more than 1400 pixel\n",
      "length is more than 1400 pixel\n"
     ]
    },
    {
     "name": "stderr",
     "output_type": "stream",
     "text": [
      "video 1/1 (1432/3933) D:\\815_CowDataChecking\\20221229\\20221229_M_cow\\20221229_061532_21C6.mkv: 640x640 3 cows, Done. (0.014s)\n",
      "video 1/1 (1433/3933) D:\\815_CowDataChecking\\20221229\\20221229_M_cow\\20221229_061532_21C6.mkv: 640x640 2 cows, Done. (0.014s)\n",
      "video 1/1 (1434/3933) D:\\815_CowDataChecking\\20221229\\20221229_M_cow\\20221229_061532_21C6.mkv: 640x640 2 cows, Done. (0.013s)\n"
     ]
    },
    {
     "name": "stdout",
     "output_type": "stream",
     "text": [
      "length is more than 1400 pixel\n",
      "length is more than 1400 pixel\n",
      "length is more than 1400 pixel\n"
     ]
    },
    {
     "name": "stderr",
     "output_type": "stream",
     "text": [
      "video 1/1 (1435/3933) D:\\815_CowDataChecking\\20221229\\20221229_M_cow\\20221229_061532_21C6.mkv: 640x640 2 cows, Done. (0.013s)\n",
      "video 1/1 (1436/3933) D:\\815_CowDataChecking\\20221229\\20221229_M_cow\\20221229_061532_21C6.mkv: 640x640 2 cows, Done. (0.013s)\n",
      "video 1/1 (1437/3933) D:\\815_CowDataChecking\\20221229\\20221229_M_cow\\20221229_061532_21C6.mkv: 640x640 2 cows, Done. (0.013s)\n"
     ]
    },
    {
     "name": "stdout",
     "output_type": "stream",
     "text": [
      "length is more than 1400 pixel\n",
      "length is more than 1400 pixel\n",
      "length is more than 1400 pixel\n"
     ]
    },
    {
     "name": "stderr",
     "output_type": "stream",
     "text": [
      "video 1/1 (1438/3933) D:\\815_CowDataChecking\\20221229\\20221229_M_cow\\20221229_061532_21C6.mkv: 640x640 2 cows, Done. (0.014s)\n",
      "video 1/1 (1439/3933) D:\\815_CowDataChecking\\20221229\\20221229_M_cow\\20221229_061532_21C6.mkv: 640x640 2 cows, Done. (0.014s)\n",
      "video 1/1 (1440/3933) D:\\815_CowDataChecking\\20221229\\20221229_M_cow\\20221229_061532_21C6.mkv: 640x640 2 cows, Done. (0.015s)\n"
     ]
    },
    {
     "name": "stdout",
     "output_type": "stream",
     "text": [
      "length is more than 1400 pixel\n"
     ]
    },
    {
     "name": "stderr",
     "output_type": "stream",
     "text": [
      "video 1/1 (1441/3933) D:\\815_CowDataChecking\\20221229\\20221229_M_cow\\20221229_061532_21C6.mkv: 640x640 2 cows, Done. (0.013s)\n",
      "video 1/1 (1442/3933) D:\\815_CowDataChecking\\20221229\\20221229_M_cow\\20221229_061532_21C6.mkv: 640x640 2 cows, Done. (0.014s)\n",
      "video 1/1 (1443/3933) D:\\815_CowDataChecking\\20221229\\20221229_M_cow\\20221229_061532_21C6.mkv: 640x640 2 cows, Done. (0.014s)\n",
      "video 1/1 (1444/3933) D:\\815_CowDataChecking\\20221229\\20221229_M_cow\\20221229_061532_21C6.mkv: 640x640 2 cows, Done. (0.013s)\n",
      "C:\\Users\\thithilab\\anaconda3\\envs\\yolov5_april\\lib\\site-packages\\ipykernel_launcher.py:11: FutureWarning: `multichannel` is a deprecated argument name for `hog`. It will be removed in version 1.0. Please use `channel_axis` instead.\n",
      "  # This is added back by InteractiveShellApp.init_path()\n",
      "C:\\Users\\thithilab\\anaconda3\\envs\\yolov5_april\\lib\\site-packages\\sklearn\\preprocessing\\_label.py:154: DataConversionWarning: A column-vector y was passed when a 1d array was expected. Please change the shape of y to (n_samples, ), for example using ravel().\n",
      "  y = column_or_1d(y, warn=True)\n",
      "C:\\Users\\thithilab\\anaconda3\\envs\\yolov5_april\\lib\\site-packages\\ipykernel_launcher.py:9: FutureWarning: elementwise comparison failed; returning scalar instead, but in the future will perform elementwise comparison\n",
      "  if __name__ == \"__main__\":\n",
      "video 1/1 (1445/3933) D:\\815_CowDataChecking\\20221229\\20221229_M_cow\\20221229_061532_21C6.mkv: 640x640 2 cows, Done. (0.014s)\n"
     ]
    },
    {
     "name": "stdout",
     "output_type": "stream",
     "text": [
      "7\n",
      "['6']\n"
     ]
    },
    {
     "name": "stderr",
     "output_type": "stream",
     "text": [
      "C:\\Users\\thithilab\\anaconda3\\envs\\yolov5_april\\lib\\site-packages\\ipykernel_launcher.py:11: FutureWarning: `multichannel` is a deprecated argument name for `hog`. It will be removed in version 1.0. Please use `channel_axis` instead.\n",
      "  # This is added back by InteractiveShellApp.init_path()\n",
      "C:\\Users\\thithilab\\anaconda3\\envs\\yolov5_april\\lib\\site-packages\\sklearn\\preprocessing\\_label.py:154: DataConversionWarning: A column-vector y was passed when a 1d array was expected. Please change the shape of y to (n_samples, ), for example using ravel().\n",
      "  y = column_or_1d(y, warn=True)\n",
      "video 1/1 (1446/3933) D:\\815_CowDataChecking\\20221229\\20221229_M_cow\\20221229_061532_21C6.mkv: 640x640 2 cows, Done. (0.013s)\n"
     ]
    },
    {
     "name": "stdout",
     "output_type": "stream",
     "text": [
      "7\n",
      "['6']\n"
     ]
    },
    {
     "name": "stderr",
     "output_type": "stream",
     "text": [
      "C:\\Users\\thithilab\\anaconda3\\envs\\yolov5_april\\lib\\site-packages\\ipykernel_launcher.py:11: FutureWarning: `multichannel` is a deprecated argument name for `hog`. It will be removed in version 1.0. Please use `channel_axis` instead.\n",
      "  # This is added back by InteractiveShellApp.init_path()\n",
      "C:\\Users\\thithilab\\anaconda3\\envs\\yolov5_april\\lib\\site-packages\\sklearn\\preprocessing\\_label.py:154: DataConversionWarning: A column-vector y was passed when a 1d array was expected. Please change the shape of y to (n_samples, ), for example using ravel().\n",
      "  y = column_or_1d(y, warn=True)\n",
      "video 1/1 (1447/3933) D:\\815_CowDataChecking\\20221229\\20221229_M_cow\\20221229_061532_21C6.mkv: 640x640 2 cows, Done. (0.014s)\n"
     ]
    },
    {
     "name": "stdout",
     "output_type": "stream",
     "text": [
      "7\n",
      "['6']\n"
     ]
    },
    {
     "name": "stderr",
     "output_type": "stream",
     "text": [
      "C:\\Users\\thithilab\\anaconda3\\envs\\yolov5_april\\lib\\site-packages\\ipykernel_launcher.py:11: FutureWarning: `multichannel` is a deprecated argument name for `hog`. It will be removed in version 1.0. Please use `channel_axis` instead.\n",
      "  # This is added back by InteractiveShellApp.init_path()\n",
      "C:\\Users\\thithilab\\anaconda3\\envs\\yolov5_april\\lib\\site-packages\\sklearn\\preprocessing\\_label.py:154: DataConversionWarning: A column-vector y was passed when a 1d array was expected. Please change the shape of y to (n_samples, ), for example using ravel().\n",
      "  y = column_or_1d(y, warn=True)\n",
      "video 1/1 (1448/3933) D:\\815_CowDataChecking\\20221229\\20221229_M_cow\\20221229_061532_21C6.mkv: 640x640 2 cows, Done. (0.017s)\n"
     ]
    },
    {
     "name": "stdout",
     "output_type": "stream",
     "text": [
      "7\n",
      "['6']\n"
     ]
    },
    {
     "name": "stderr",
     "output_type": "stream",
     "text": [
      "C:\\Users\\thithilab\\anaconda3\\envs\\yolov5_april\\lib\\site-packages\\ipykernel_launcher.py:11: FutureWarning: `multichannel` is a deprecated argument name for `hog`. It will be removed in version 1.0. Please use `channel_axis` instead.\n",
      "  # This is added back by InteractiveShellApp.init_path()\n",
      "C:\\Users\\thithilab\\anaconda3\\envs\\yolov5_april\\lib\\site-packages\\sklearn\\preprocessing\\_label.py:154: DataConversionWarning: A column-vector y was passed when a 1d array was expected. Please change the shape of y to (n_samples, ), for example using ravel().\n",
      "  y = column_or_1d(y, warn=True)\n",
      "video 1/1 (1449/3933) D:\\815_CowDataChecking\\20221229\\20221229_M_cow\\20221229_061532_21C6.mkv: 640x640 2 cows, Done. (0.013s)\n"
     ]
    },
    {
     "name": "stdout",
     "output_type": "stream",
     "text": [
      "7\n",
      "['6']\n"
     ]
    },
    {
     "name": "stderr",
     "output_type": "stream",
     "text": [
      "C:\\Users\\thithilab\\anaconda3\\envs\\yolov5_april\\lib\\site-packages\\ipykernel_launcher.py:11: FutureWarning: `multichannel` is a deprecated argument name for `hog`. It will be removed in version 1.0. Please use `channel_axis` instead.\n",
      "  # This is added back by InteractiveShellApp.init_path()\n",
      "C:\\Users\\thithilab\\anaconda3\\envs\\yolov5_april\\lib\\site-packages\\sklearn\\preprocessing\\_label.py:154: DataConversionWarning: A column-vector y was passed when a 1d array was expected. Please change the shape of y to (n_samples, ), for example using ravel().\n",
      "  y = column_or_1d(y, warn=True)\n",
      "video 1/1 (1450/3933) D:\\815_CowDataChecking\\20221229\\20221229_M_cow\\20221229_061532_21C6.mkv: 640x640 1 cow, Done. (0.014s)\n"
     ]
    },
    {
     "name": "stdout",
     "output_type": "stream",
     "text": [
      "7\n",
      "['6']\n"
     ]
    },
    {
     "name": "stderr",
     "output_type": "stream",
     "text": [
      "C:\\Users\\thithilab\\anaconda3\\envs\\yolov5_april\\lib\\site-packages\\ipykernel_launcher.py:11: FutureWarning: `multichannel` is a deprecated argument name for `hog`. It will be removed in version 1.0. Please use `channel_axis` instead.\n",
      "  # This is added back by InteractiveShellApp.init_path()\n",
      "C:\\Users\\thithilab\\anaconda3\\envs\\yolov5_april\\lib\\site-packages\\sklearn\\preprocessing\\_label.py:154: DataConversionWarning: A column-vector y was passed when a 1d array was expected. Please change the shape of y to (n_samples, ), for example using ravel().\n",
      "  y = column_or_1d(y, warn=True)\n",
      "video 1/1 (1451/3933) D:\\815_CowDataChecking\\20221229\\20221229_M_cow\\20221229_061532_21C6.mkv: 640x640 1 cow, Done. (0.014s)\n"
     ]
    },
    {
     "name": "stdout",
     "output_type": "stream",
     "text": [
      "7\n",
      "['6']\n"
     ]
    },
    {
     "name": "stderr",
     "output_type": "stream",
     "text": [
      "C:\\Users\\thithilab\\anaconda3\\envs\\yolov5_april\\lib\\site-packages\\ipykernel_launcher.py:11: FutureWarning: `multichannel` is a deprecated argument name for `hog`. It will be removed in version 1.0. Please use `channel_axis` instead.\n",
      "  # This is added back by InteractiveShellApp.init_path()\n",
      "C:\\Users\\thithilab\\anaconda3\\envs\\yolov5_april\\lib\\site-packages\\sklearn\\preprocessing\\_label.py:154: DataConversionWarning: A column-vector y was passed when a 1d array was expected. Please change the shape of y to (n_samples, ), for example using ravel().\n",
      "  y = column_or_1d(y, warn=True)\n",
      "video 1/1 (1452/3933) D:\\815_CowDataChecking\\20221229\\20221229_M_cow\\20221229_061532_21C6.mkv: 640x640 2 cows, Done. (0.015s)\n"
     ]
    },
    {
     "name": "stdout",
     "output_type": "stream",
     "text": [
      "7\n",
      "['6']\n"
     ]
    },
    {
     "name": "stderr",
     "output_type": "stream",
     "text": [
      "C:\\Users\\thithilab\\anaconda3\\envs\\yolov5_april\\lib\\site-packages\\ipykernel_launcher.py:11: FutureWarning: `multichannel` is a deprecated argument name for `hog`. It will be removed in version 1.0. Please use `channel_axis` instead.\n",
      "  # This is added back by InteractiveShellApp.init_path()\n",
      "C:\\Users\\thithilab\\anaconda3\\envs\\yolov5_april\\lib\\site-packages\\sklearn\\preprocessing\\_label.py:154: DataConversionWarning: A column-vector y was passed when a 1d array was expected. Please change the shape of y to (n_samples, ), for example using ravel().\n",
      "  y = column_or_1d(y, warn=True)\n",
      "video 1/1 (1453/3933) D:\\815_CowDataChecking\\20221229\\20221229_M_cow\\20221229_061532_21C6.mkv: 640x640 1 cow, Done. (0.013s)\n"
     ]
    },
    {
     "name": "stdout",
     "output_type": "stream",
     "text": [
      "7\n",
      "['6']\n"
     ]
    },
    {
     "name": "stderr",
     "output_type": "stream",
     "text": [
      "C:\\Users\\thithilab\\anaconda3\\envs\\yolov5_april\\lib\\site-packages\\ipykernel_launcher.py:11: FutureWarning: `multichannel` is a deprecated argument name for `hog`. It will be removed in version 1.0. Please use `channel_axis` instead.\n",
      "  # This is added back by InteractiveShellApp.init_path()\n",
      "C:\\Users\\thithilab\\anaconda3\\envs\\yolov5_april\\lib\\site-packages\\sklearn\\preprocessing\\_label.py:154: DataConversionWarning: A column-vector y was passed when a 1d array was expected. Please change the shape of y to (n_samples, ), for example using ravel().\n",
      "  y = column_or_1d(y, warn=True)\n",
      "video 1/1 (1454/3933) D:\\815_CowDataChecking\\20221229\\20221229_M_cow\\20221229_061532_21C6.mkv: 640x640 1 cow, Done. (0.013s)\n"
     ]
    },
    {
     "name": "stdout",
     "output_type": "stream",
     "text": [
      "7\n",
      "['6']\n"
     ]
    },
    {
     "name": "stderr",
     "output_type": "stream",
     "text": [
      "C:\\Users\\thithilab\\anaconda3\\envs\\yolov5_april\\lib\\site-packages\\ipykernel_launcher.py:11: FutureWarning: `multichannel` is a deprecated argument name for `hog`. It will be removed in version 1.0. Please use `channel_axis` instead.\n",
      "  # This is added back by InteractiveShellApp.init_path()\n",
      "C:\\Users\\thithilab\\anaconda3\\envs\\yolov5_april\\lib\\site-packages\\sklearn\\preprocessing\\_label.py:154: DataConversionWarning: A column-vector y was passed when a 1d array was expected. Please change the shape of y to (n_samples, ), for example using ravel().\n",
      "  y = column_or_1d(y, warn=True)\n",
      "video 1/1 (1455/3933) D:\\815_CowDataChecking\\20221229\\20221229_M_cow\\20221229_061532_21C6.mkv: 640x640 1 cow, Done. (0.013s)\n"
     ]
    },
    {
     "name": "stdout",
     "output_type": "stream",
     "text": [
      "7\n",
      "['6']\n"
     ]
    },
    {
     "name": "stderr",
     "output_type": "stream",
     "text": [
      "C:\\Users\\thithilab\\anaconda3\\envs\\yolov5_april\\lib\\site-packages\\ipykernel_launcher.py:11: FutureWarning: `multichannel` is a deprecated argument name for `hog`. It will be removed in version 1.0. Please use `channel_axis` instead.\n",
      "  # This is added back by InteractiveShellApp.init_path()\n",
      "C:\\Users\\thithilab\\anaconda3\\envs\\yolov5_april\\lib\\site-packages\\sklearn\\preprocessing\\_label.py:154: DataConversionWarning: A column-vector y was passed when a 1d array was expected. Please change the shape of y to (n_samples, ), for example using ravel().\n",
      "  y = column_or_1d(y, warn=True)\n",
      "video 1/1 (1456/3933) D:\\815_CowDataChecking\\20221229\\20221229_M_cow\\20221229_061532_21C6.mkv: 640x640 1 cow, Done. (0.013s)\n"
     ]
    },
    {
     "name": "stdout",
     "output_type": "stream",
     "text": [
      "7\n",
      "['6']\n"
     ]
    },
    {
     "name": "stderr",
     "output_type": "stream",
     "text": [
      "C:\\Users\\thithilab\\anaconda3\\envs\\yolov5_april\\lib\\site-packages\\ipykernel_launcher.py:11: FutureWarning: `multichannel` is a deprecated argument name for `hog`. It will be removed in version 1.0. Please use `channel_axis` instead.\n",
      "  # This is added back by InteractiveShellApp.init_path()\n",
      "C:\\Users\\thithilab\\anaconda3\\envs\\yolov5_april\\lib\\site-packages\\sklearn\\preprocessing\\_label.py:154: DataConversionWarning: A column-vector y was passed when a 1d array was expected. Please change the shape of y to (n_samples, ), for example using ravel().\n",
      "  y = column_or_1d(y, warn=True)\n",
      "video 1/1 (1457/3933) D:\\815_CowDataChecking\\20221229\\20221229_M_cow\\20221229_061532_21C6.mkv: 640x640 1 cow, Done. (0.013s)\n"
     ]
    },
    {
     "name": "stdout",
     "output_type": "stream",
     "text": [
      "7\n",
      "['6']\n"
     ]
    },
    {
     "name": "stderr",
     "output_type": "stream",
     "text": [
      "C:\\Users\\thithilab\\anaconda3\\envs\\yolov5_april\\lib\\site-packages\\ipykernel_launcher.py:11: FutureWarning: `multichannel` is a deprecated argument name for `hog`. It will be removed in version 1.0. Please use `channel_axis` instead.\n",
      "  # This is added back by InteractiveShellApp.init_path()\n",
      "C:\\Users\\thithilab\\anaconda3\\envs\\yolov5_april\\lib\\site-packages\\sklearn\\preprocessing\\_label.py:154: DataConversionWarning: A column-vector y was passed when a 1d array was expected. Please change the shape of y to (n_samples, ), for example using ravel().\n",
      "  y = column_or_1d(y, warn=True)\n",
      "video 1/1 (1458/3933) D:\\815_CowDataChecking\\20221229\\20221229_M_cow\\20221229_061532_21C6.mkv: 640x640 1 cow, Done. (0.014s)\n"
     ]
    },
    {
     "name": "stdout",
     "output_type": "stream",
     "text": [
      "7\n",
      "['6']\n"
     ]
    },
    {
     "name": "stderr",
     "output_type": "stream",
     "text": [
      "C:\\Users\\thithilab\\anaconda3\\envs\\yolov5_april\\lib\\site-packages\\ipykernel_launcher.py:11: FutureWarning: `multichannel` is a deprecated argument name for `hog`. It will be removed in version 1.0. Please use `channel_axis` instead.\n",
      "  # This is added back by InteractiveShellApp.init_path()\n",
      "C:\\Users\\thithilab\\anaconda3\\envs\\yolov5_april\\lib\\site-packages\\sklearn\\preprocessing\\_label.py:154: DataConversionWarning: A column-vector y was passed when a 1d array was expected. Please change the shape of y to (n_samples, ), for example using ravel().\n",
      "  y = column_or_1d(y, warn=True)\n",
      "video 1/1 (1459/3933) D:\\815_CowDataChecking\\20221229\\20221229_M_cow\\20221229_061532_21C6.mkv: 640x640 1 cow, Done. (0.013s)\n"
     ]
    },
    {
     "name": "stdout",
     "output_type": "stream",
     "text": [
      "7\n",
      "['6']\n"
     ]
    },
    {
     "name": "stderr",
     "output_type": "stream",
     "text": [
      "C:\\Users\\thithilab\\anaconda3\\envs\\yolov5_april\\lib\\site-packages\\ipykernel_launcher.py:11: FutureWarning: `multichannel` is a deprecated argument name for `hog`. It will be removed in version 1.0. Please use `channel_axis` instead.\n",
      "  # This is added back by InteractiveShellApp.init_path()\n",
      "C:\\Users\\thithilab\\anaconda3\\envs\\yolov5_april\\lib\\site-packages\\sklearn\\preprocessing\\_label.py:154: DataConversionWarning: A column-vector y was passed when a 1d array was expected. Please change the shape of y to (n_samples, ), for example using ravel().\n",
      "  y = column_or_1d(y, warn=True)\n",
      "video 1/1 (1460/3933) D:\\815_CowDataChecking\\20221229\\20221229_M_cow\\20221229_061532_21C6.mkv: 640x640 1 cow, Done. (0.015s)\n"
     ]
    },
    {
     "name": "stdout",
     "output_type": "stream",
     "text": [
      "7\n",
      "['6']\n"
     ]
    },
    {
     "name": "stderr",
     "output_type": "stream",
     "text": [
      "C:\\Users\\thithilab\\anaconda3\\envs\\yolov5_april\\lib\\site-packages\\ipykernel_launcher.py:11: FutureWarning: `multichannel` is a deprecated argument name for `hog`. It will be removed in version 1.0. Please use `channel_axis` instead.\n",
      "  # This is added back by InteractiveShellApp.init_path()\n",
      "C:\\Users\\thithilab\\anaconda3\\envs\\yolov5_april\\lib\\site-packages\\sklearn\\preprocessing\\_label.py:154: DataConversionWarning: A column-vector y was passed when a 1d array was expected. Please change the shape of y to (n_samples, ), for example using ravel().\n",
      "  y = column_or_1d(y, warn=True)\n",
      "video 1/1 (1461/3933) D:\\815_CowDataChecking\\20221229\\20221229_M_cow\\20221229_061532_21C6.mkv: 640x640 2 cows, Done. (0.014s)\n"
     ]
    },
    {
     "name": "stdout",
     "output_type": "stream",
     "text": [
      "7\n",
      "['6']\n"
     ]
    },
    {
     "name": "stderr",
     "output_type": "stream",
     "text": [
      "C:\\Users\\thithilab\\anaconda3\\envs\\yolov5_april\\lib\\site-packages\\ipykernel_launcher.py:11: FutureWarning: `multichannel` is a deprecated argument name for `hog`. It will be removed in version 1.0. Please use `channel_axis` instead.\n",
      "  # This is added back by InteractiveShellApp.init_path()\n",
      "C:\\Users\\thithilab\\anaconda3\\envs\\yolov5_april\\lib\\site-packages\\sklearn\\preprocessing\\_label.py:154: DataConversionWarning: A column-vector y was passed when a 1d array was expected. Please change the shape of y to (n_samples, ), for example using ravel().\n",
      "  y = column_or_1d(y, warn=True)\n",
      "video 1/1 (1462/3933) D:\\815_CowDataChecking\\20221229\\20221229_M_cow\\20221229_061532_21C6.mkv: 640x640 2 cows, Done. (0.013s)\n"
     ]
    },
    {
     "name": "stdout",
     "output_type": "stream",
     "text": [
      "7\n",
      "['6']\n"
     ]
    },
    {
     "name": "stderr",
     "output_type": "stream",
     "text": [
      "C:\\Users\\thithilab\\anaconda3\\envs\\yolov5_april\\lib\\site-packages\\ipykernel_launcher.py:11: FutureWarning: `multichannel` is a deprecated argument name for `hog`. It will be removed in version 1.0. Please use `channel_axis` instead.\n",
      "  # This is added back by InteractiveShellApp.init_path()\n",
      "C:\\Users\\thithilab\\anaconda3\\envs\\yolov5_april\\lib\\site-packages\\sklearn\\preprocessing\\_label.py:154: DataConversionWarning: A column-vector y was passed when a 1d array was expected. Please change the shape of y to (n_samples, ), for example using ravel().\n",
      "  y = column_or_1d(y, warn=True)\n",
      "video 1/1 (1463/3933) D:\\815_CowDataChecking\\20221229\\20221229_M_cow\\20221229_061532_21C6.mkv: 640x640 3 cows, Done. (0.016s)\n"
     ]
    },
    {
     "name": "stdout",
     "output_type": "stream",
     "text": [
      "7\n",
      "['6']\n"
     ]
    },
    {
     "name": "stderr",
     "output_type": "stream",
     "text": [
      "C:\\Users\\thithilab\\anaconda3\\envs\\yolov5_april\\lib\\site-packages\\ipykernel_launcher.py:11: FutureWarning: `multichannel` is a deprecated argument name for `hog`. It will be removed in version 1.0. Please use `channel_axis` instead.\n",
      "  # This is added back by InteractiveShellApp.init_path()\n",
      "C:\\Users\\thithilab\\anaconda3\\envs\\yolov5_april\\lib\\site-packages\\sklearn\\preprocessing\\_label.py:154: DataConversionWarning: A column-vector y was passed when a 1d array was expected. Please change the shape of y to (n_samples, ), for example using ravel().\n",
      "  y = column_or_1d(y, warn=True)\n",
      "video 1/1 (1464/3933) D:\\815_CowDataChecking\\20221229\\20221229_M_cow\\20221229_061532_21C6.mkv: 640x640 2 cows, Done. (0.015s)\n"
     ]
    },
    {
     "name": "stdout",
     "output_type": "stream",
     "text": [
      "7\n",
      "['6']\n"
     ]
    },
    {
     "name": "stderr",
     "output_type": "stream",
     "text": [
      "C:\\Users\\thithilab\\anaconda3\\envs\\yolov5_april\\lib\\site-packages\\ipykernel_launcher.py:11: FutureWarning: `multichannel` is a deprecated argument name for `hog`. It will be removed in version 1.0. Please use `channel_axis` instead.\n",
      "  # This is added back by InteractiveShellApp.init_path()\n",
      "C:\\Users\\thithilab\\anaconda3\\envs\\yolov5_april\\lib\\site-packages\\sklearn\\preprocessing\\_label.py:154: DataConversionWarning: A column-vector y was passed when a 1d array was expected. Please change the shape of y to (n_samples, ), for example using ravel().\n",
      "  y = column_or_1d(y, warn=True)\n",
      "video 1/1 (1465/3933) D:\\815_CowDataChecking\\20221229\\20221229_M_cow\\20221229_061532_21C6.mkv: 640x640 2 cows, Done. (0.013s)\n"
     ]
    },
    {
     "name": "stdout",
     "output_type": "stream",
     "text": [
      "7\n",
      "['6']\n"
     ]
    },
    {
     "name": "stderr",
     "output_type": "stream",
     "text": [
      "C:\\Users\\thithilab\\anaconda3\\envs\\yolov5_april\\lib\\site-packages\\ipykernel_launcher.py:11: FutureWarning: `multichannel` is a deprecated argument name for `hog`. It will be removed in version 1.0. Please use `channel_axis` instead.\n",
      "  # This is added back by InteractiveShellApp.init_path()\n",
      "C:\\Users\\thithilab\\anaconda3\\envs\\yolov5_april\\lib\\site-packages\\sklearn\\preprocessing\\_label.py:154: DataConversionWarning: A column-vector y was passed when a 1d array was expected. Please change the shape of y to (n_samples, ), for example using ravel().\n",
      "  y = column_or_1d(y, warn=True)\n",
      "video 1/1 (1466/3933) D:\\815_CowDataChecking\\20221229\\20221229_M_cow\\20221229_061532_21C6.mkv: 640x640 2 cows, Done. (0.014s)\n"
     ]
    },
    {
     "name": "stdout",
     "output_type": "stream",
     "text": [
      "7\n",
      "['6']\n"
     ]
    },
    {
     "name": "stderr",
     "output_type": "stream",
     "text": [
      "C:\\Users\\thithilab\\anaconda3\\envs\\yolov5_april\\lib\\site-packages\\ipykernel_launcher.py:11: FutureWarning: `multichannel` is a deprecated argument name for `hog`. It will be removed in version 1.0. Please use `channel_axis` instead.\n",
      "  # This is added back by InteractiveShellApp.init_path()\n",
      "C:\\Users\\thithilab\\anaconda3\\envs\\yolov5_april\\lib\\site-packages\\sklearn\\preprocessing\\_label.py:154: DataConversionWarning: A column-vector y was passed when a 1d array was expected. Please change the shape of y to (n_samples, ), for example using ravel().\n",
      "  y = column_or_1d(y, warn=True)\n",
      "video 1/1 (1467/3933) D:\\815_CowDataChecking\\20221229\\20221229_M_cow\\20221229_061532_21C6.mkv: 640x640 2 cows, Done. (0.013s)\n"
     ]
    },
    {
     "name": "stdout",
     "output_type": "stream",
     "text": [
      "7\n",
      "['6']\n"
     ]
    },
    {
     "name": "stderr",
     "output_type": "stream",
     "text": [
      "C:\\Users\\thithilab\\anaconda3\\envs\\yolov5_april\\lib\\site-packages\\ipykernel_launcher.py:11: FutureWarning: `multichannel` is a deprecated argument name for `hog`. It will be removed in version 1.0. Please use `channel_axis` instead.\n",
      "  # This is added back by InteractiveShellApp.init_path()\n",
      "C:\\Users\\thithilab\\anaconda3\\envs\\yolov5_april\\lib\\site-packages\\sklearn\\preprocessing\\_label.py:154: DataConversionWarning: A column-vector y was passed when a 1d array was expected. Please change the shape of y to (n_samples, ), for example using ravel().\n",
      "  y = column_or_1d(y, warn=True)\n",
      "video 1/1 (1468/3933) D:\\815_CowDataChecking\\20221229\\20221229_M_cow\\20221229_061532_21C6.mkv: 640x640 2 cows, Done. (0.016s)\n"
     ]
    },
    {
     "name": "stdout",
     "output_type": "stream",
     "text": [
      "7\n",
      "['6']\n"
     ]
    },
    {
     "name": "stderr",
     "output_type": "stream",
     "text": [
      "C:\\Users\\thithilab\\anaconda3\\envs\\yolov5_april\\lib\\site-packages\\ipykernel_launcher.py:11: FutureWarning: `multichannel` is a deprecated argument name for `hog`. It will be removed in version 1.0. Please use `channel_axis` instead.\n",
      "  # This is added back by InteractiveShellApp.init_path()\n",
      "C:\\Users\\thithilab\\anaconda3\\envs\\yolov5_april\\lib\\site-packages\\sklearn\\preprocessing\\_label.py:154: DataConversionWarning: A column-vector y was passed when a 1d array was expected. Please change the shape of y to (n_samples, ), for example using ravel().\n",
      "  y = column_or_1d(y, warn=True)\n",
      "video 1/1 (1469/3933) D:\\815_CowDataChecking\\20221229\\20221229_M_cow\\20221229_061532_21C6.mkv: 640x640 2 cows, Done. (0.015s)\n"
     ]
    },
    {
     "name": "stdout",
     "output_type": "stream",
     "text": [
      "7\n",
      "['6']\n"
     ]
    },
    {
     "name": "stderr",
     "output_type": "stream",
     "text": [
      "C:\\Users\\thithilab\\anaconda3\\envs\\yolov5_april\\lib\\site-packages\\ipykernel_launcher.py:11: FutureWarning: `multichannel` is a deprecated argument name for `hog`. It will be removed in version 1.0. Please use `channel_axis` instead.\n",
      "  # This is added back by InteractiveShellApp.init_path()\n",
      "C:\\Users\\thithilab\\anaconda3\\envs\\yolov5_april\\lib\\site-packages\\sklearn\\preprocessing\\_label.py:154: DataConversionWarning: A column-vector y was passed when a 1d array was expected. Please change the shape of y to (n_samples, ), for example using ravel().\n",
      "  y = column_or_1d(y, warn=True)\n",
      "video 1/1 (1470/3933) D:\\815_CowDataChecking\\20221229\\20221229_M_cow\\20221229_061532_21C6.mkv: 640x640 3 cows, Done. (0.019s)\n"
     ]
    },
    {
     "name": "stdout",
     "output_type": "stream",
     "text": [
      "7\n",
      "['6']\n"
     ]
    },
    {
     "name": "stderr",
     "output_type": "stream",
     "text": [
      "C:\\Users\\thithilab\\anaconda3\\envs\\yolov5_april\\lib\\site-packages\\ipykernel_launcher.py:11: FutureWarning: `multichannel` is a deprecated argument name for `hog`. It will be removed in version 1.0. Please use `channel_axis` instead.\n",
      "  # This is added back by InteractiveShellApp.init_path()\n",
      "C:\\Users\\thithilab\\anaconda3\\envs\\yolov5_april\\lib\\site-packages\\sklearn\\preprocessing\\_label.py:154: DataConversionWarning: A column-vector y was passed when a 1d array was expected. Please change the shape of y to (n_samples, ), for example using ravel().\n",
      "  y = column_or_1d(y, warn=True)\n",
      "video 1/1 (1471/3933) D:\\815_CowDataChecking\\20221229\\20221229_M_cow\\20221229_061532_21C6.mkv: 640x640 2 cows, Done. (0.015s)\n"
     ]
    },
    {
     "name": "stdout",
     "output_type": "stream",
     "text": [
      "7\n",
      "['6']\n"
     ]
    },
    {
     "name": "stderr",
     "output_type": "stream",
     "text": [
      "C:\\Users\\thithilab\\anaconda3\\envs\\yolov5_april\\lib\\site-packages\\ipykernel_launcher.py:11: FutureWarning: `multichannel` is a deprecated argument name for `hog`. It will be removed in version 1.0. Please use `channel_axis` instead.\n",
      "  # This is added back by InteractiveShellApp.init_path()\n",
      "C:\\Users\\thithilab\\anaconda3\\envs\\yolov5_april\\lib\\site-packages\\sklearn\\preprocessing\\_label.py:154: DataConversionWarning: A column-vector y was passed when a 1d array was expected. Please change the shape of y to (n_samples, ), for example using ravel().\n",
      "  y = column_or_1d(y, warn=True)\n",
      "video 1/1 (1472/3933) D:\\815_CowDataChecking\\20221229\\20221229_M_cow\\20221229_061532_21C6.mkv: 640x640 3 cows, Done. (0.015s)\n"
     ]
    },
    {
     "name": "stdout",
     "output_type": "stream",
     "text": [
      "7\n",
      "['6']\n"
     ]
    },
    {
     "name": "stderr",
     "output_type": "stream",
     "text": [
      "C:\\Users\\thithilab\\anaconda3\\envs\\yolov5_april\\lib\\site-packages\\ipykernel_launcher.py:11: FutureWarning: `multichannel` is a deprecated argument name for `hog`. It will be removed in version 1.0. Please use `channel_axis` instead.\n",
      "  # This is added back by InteractiveShellApp.init_path()\n",
      "C:\\Users\\thithilab\\anaconda3\\envs\\yolov5_april\\lib\\site-packages\\sklearn\\preprocessing\\_label.py:154: DataConversionWarning: A column-vector y was passed when a 1d array was expected. Please change the shape of y to (n_samples, ), for example using ravel().\n",
      "  y = column_or_1d(y, warn=True)\n",
      "video 1/1 (1473/3933) D:\\815_CowDataChecking\\20221229\\20221229_M_cow\\20221229_061532_21C6.mkv: 640x640 3 cows, Done. (0.018s)\n"
     ]
    },
    {
     "name": "stdout",
     "output_type": "stream",
     "text": [
      "7\n",
      "['6']\n"
     ]
    },
    {
     "name": "stderr",
     "output_type": "stream",
     "text": [
      "C:\\Users\\thithilab\\anaconda3\\envs\\yolov5_april\\lib\\site-packages\\ipykernel_launcher.py:11: FutureWarning: `multichannel` is a deprecated argument name for `hog`. It will be removed in version 1.0. Please use `channel_axis` instead.\n",
      "  # This is added back by InteractiveShellApp.init_path()\n",
      "C:\\Users\\thithilab\\anaconda3\\envs\\yolov5_april\\lib\\site-packages\\sklearn\\preprocessing\\_label.py:154: DataConversionWarning: A column-vector y was passed when a 1d array was expected. Please change the shape of y to (n_samples, ), for example using ravel().\n",
      "  y = column_or_1d(y, warn=True)\n",
      "video 1/1 (1474/3933) D:\\815_CowDataChecking\\20221229\\20221229_M_cow\\20221229_061532_21C6.mkv: 640x640 3 cows, Done. (0.015s)\n"
     ]
    },
    {
     "name": "stdout",
     "output_type": "stream",
     "text": [
      "7\n",
      "['6']\n"
     ]
    },
    {
     "name": "stderr",
     "output_type": "stream",
     "text": [
      "C:\\Users\\thithilab\\anaconda3\\envs\\yolov5_april\\lib\\site-packages\\ipykernel_launcher.py:11: FutureWarning: `multichannel` is a deprecated argument name for `hog`. It will be removed in version 1.0. Please use `channel_axis` instead.\n",
      "  # This is added back by InteractiveShellApp.init_path()\n",
      "C:\\Users\\thithilab\\anaconda3\\envs\\yolov5_april\\lib\\site-packages\\sklearn\\preprocessing\\_label.py:154: DataConversionWarning: A column-vector y was passed when a 1d array was expected. Please change the shape of y to (n_samples, ), for example using ravel().\n",
      "  y = column_or_1d(y, warn=True)\n",
      "video 1/1 (1475/3933) D:\\815_CowDataChecking\\20221229\\20221229_M_cow\\20221229_061532_21C6.mkv: 640x640 2 cows, Done. (0.016s)\n"
     ]
    },
    {
     "name": "stdout",
     "output_type": "stream",
     "text": [
      "7\n",
      "['6']\n"
     ]
    },
    {
     "name": "stderr",
     "output_type": "stream",
     "text": [
      "C:\\Users\\thithilab\\anaconda3\\envs\\yolov5_april\\lib\\site-packages\\ipykernel_launcher.py:11: FutureWarning: `multichannel` is a deprecated argument name for `hog`. It will be removed in version 1.0. Please use `channel_axis` instead.\n",
      "  # This is added back by InteractiveShellApp.init_path()\n",
      "C:\\Users\\thithilab\\anaconda3\\envs\\yolov5_april\\lib\\site-packages\\sklearn\\preprocessing\\_label.py:154: DataConversionWarning: A column-vector y was passed when a 1d array was expected. Please change the shape of y to (n_samples, ), for example using ravel().\n",
      "  y = column_or_1d(y, warn=True)\n",
      "video 1/1 (1476/3933) D:\\815_CowDataChecking\\20221229\\20221229_M_cow\\20221229_061532_21C6.mkv: 640x640 2 cows, Done. (0.018s)\n"
     ]
    },
    {
     "name": "stdout",
     "output_type": "stream",
     "text": [
      "7\n",
      "['6']\n"
     ]
    },
    {
     "name": "stderr",
     "output_type": "stream",
     "text": [
      "C:\\Users\\thithilab\\anaconda3\\envs\\yolov5_april\\lib\\site-packages\\ipykernel_launcher.py:11: FutureWarning: `multichannel` is a deprecated argument name for `hog`. It will be removed in version 1.0. Please use `channel_axis` instead.\n",
      "  # This is added back by InteractiveShellApp.init_path()\n",
      "C:\\Users\\thithilab\\anaconda3\\envs\\yolov5_april\\lib\\site-packages\\sklearn\\preprocessing\\_label.py:154: DataConversionWarning: A column-vector y was passed when a 1d array was expected. Please change the shape of y to (n_samples, ), for example using ravel().\n",
      "  y = column_or_1d(y, warn=True)\n",
      "video 1/1 (1477/3933) D:\\815_CowDataChecking\\20221229\\20221229_M_cow\\20221229_061532_21C6.mkv: 640x640 2 cows, Done. (0.024s)\n"
     ]
    },
    {
     "name": "stdout",
     "output_type": "stream",
     "text": [
      "7\n",
      "['6']\n"
     ]
    },
    {
     "name": "stderr",
     "output_type": "stream",
     "text": [
      "C:\\Users\\thithilab\\anaconda3\\envs\\yolov5_april\\lib\\site-packages\\ipykernel_launcher.py:11: FutureWarning: `multichannel` is a deprecated argument name for `hog`. It will be removed in version 1.0. Please use `channel_axis` instead.\n",
      "  # This is added back by InteractiveShellApp.init_path()\n",
      "C:\\Users\\thithilab\\anaconda3\\envs\\yolov5_april\\lib\\site-packages\\sklearn\\preprocessing\\_label.py:154: DataConversionWarning: A column-vector y was passed when a 1d array was expected. Please change the shape of y to (n_samples, ), for example using ravel().\n",
      "  y = column_or_1d(y, warn=True)\n",
      "video 1/1 (1478/3933) D:\\815_CowDataChecking\\20221229\\20221229_M_cow\\20221229_061532_21C6.mkv: 640x640 2 cows, Done. (0.019s)\n"
     ]
    },
    {
     "name": "stdout",
     "output_type": "stream",
     "text": [
      "7\n",
      "['6']\n"
     ]
    },
    {
     "name": "stderr",
     "output_type": "stream",
     "text": [
      "C:\\Users\\thithilab\\anaconda3\\envs\\yolov5_april\\lib\\site-packages\\ipykernel_launcher.py:11: FutureWarning: `multichannel` is a deprecated argument name for `hog`. It will be removed in version 1.0. Please use `channel_axis` instead.\n",
      "  # This is added back by InteractiveShellApp.init_path()\n",
      "C:\\Users\\thithilab\\anaconda3\\envs\\yolov5_april\\lib\\site-packages\\sklearn\\preprocessing\\_label.py:154: DataConversionWarning: A column-vector y was passed when a 1d array was expected. Please change the shape of y to (n_samples, ), for example using ravel().\n",
      "  y = column_or_1d(y, warn=True)\n",
      "video 1/1 (1479/3933) D:\\815_CowDataChecking\\20221229\\20221229_M_cow\\20221229_061532_21C6.mkv: 640x640 2 cows, Done. (0.018s)\n"
     ]
    },
    {
     "name": "stdout",
     "output_type": "stream",
     "text": [
      "7\n",
      "['6']\n"
     ]
    },
    {
     "name": "stderr",
     "output_type": "stream",
     "text": [
      "C:\\Users\\thithilab\\anaconda3\\envs\\yolov5_april\\lib\\site-packages\\ipykernel_launcher.py:11: FutureWarning: `multichannel` is a deprecated argument name for `hog`. It will be removed in version 1.0. Please use `channel_axis` instead.\n",
      "  # This is added back by InteractiveShellApp.init_path()\n",
      "C:\\Users\\thithilab\\anaconda3\\envs\\yolov5_april\\lib\\site-packages\\sklearn\\preprocessing\\_label.py:154: DataConversionWarning: A column-vector y was passed when a 1d array was expected. Please change the shape of y to (n_samples, ), for example using ravel().\n",
      "  y = column_or_1d(y, warn=True)\n",
      "video 1/1 (1480/3933) D:\\815_CowDataChecking\\20221229\\20221229_M_cow\\20221229_061532_21C6.mkv: 640x640 2 cows, Done. (0.014s)\n"
     ]
    },
    {
     "name": "stdout",
     "output_type": "stream",
     "text": [
      "7\n",
      "['6']\n"
     ]
    },
    {
     "name": "stderr",
     "output_type": "stream",
     "text": [
      "C:\\Users\\thithilab\\anaconda3\\envs\\yolov5_april\\lib\\site-packages\\ipykernel_launcher.py:11: FutureWarning: `multichannel` is a deprecated argument name for `hog`. It will be removed in version 1.0. Please use `channel_axis` instead.\n",
      "  # This is added back by InteractiveShellApp.init_path()\n",
      "C:\\Users\\thithilab\\anaconda3\\envs\\yolov5_april\\lib\\site-packages\\sklearn\\preprocessing\\_label.py:154: DataConversionWarning: A column-vector y was passed when a 1d array was expected. Please change the shape of y to (n_samples, ), for example using ravel().\n",
      "  y = column_or_1d(y, warn=True)\n",
      "video 1/1 (1481/3933) D:\\815_CowDataChecking\\20221229\\20221229_M_cow\\20221229_061532_21C6.mkv: 640x640 2 cows, Done. (0.015s)\n"
     ]
    },
    {
     "name": "stdout",
     "output_type": "stream",
     "text": [
      "7\n",
      "['6']\n"
     ]
    },
    {
     "name": "stderr",
     "output_type": "stream",
     "text": [
      "C:\\Users\\thithilab\\anaconda3\\envs\\yolov5_april\\lib\\site-packages\\ipykernel_launcher.py:11: FutureWarning: `multichannel` is a deprecated argument name for `hog`. It will be removed in version 1.0. Please use `channel_axis` instead.\n",
      "  # This is added back by InteractiveShellApp.init_path()\n",
      "C:\\Users\\thithilab\\anaconda3\\envs\\yolov5_april\\lib\\site-packages\\sklearn\\preprocessing\\_label.py:154: DataConversionWarning: A column-vector y was passed when a 1d array was expected. Please change the shape of y to (n_samples, ), for example using ravel().\n",
      "  y = column_or_1d(y, warn=True)\n",
      "video 1/1 (1482/3933) D:\\815_CowDataChecking\\20221229\\20221229_M_cow\\20221229_061532_21C6.mkv: 640x640 2 cows, Done. (0.015s)\n"
     ]
    },
    {
     "name": "stdout",
     "output_type": "stream",
     "text": [
      "7\n",
      "['6']\n"
     ]
    },
    {
     "name": "stderr",
     "output_type": "stream",
     "text": [
      "C:\\Users\\thithilab\\anaconda3\\envs\\yolov5_april\\lib\\site-packages\\ipykernel_launcher.py:11: FutureWarning: `multichannel` is a deprecated argument name for `hog`. It will be removed in version 1.0. Please use `channel_axis` instead.\n",
      "  # This is added back by InteractiveShellApp.init_path()\n",
      "C:\\Users\\thithilab\\anaconda3\\envs\\yolov5_april\\lib\\site-packages\\sklearn\\preprocessing\\_label.py:154: DataConversionWarning: A column-vector y was passed when a 1d array was expected. Please change the shape of y to (n_samples, ), for example using ravel().\n",
      "  y = column_or_1d(y, warn=True)\n",
      "video 1/1 (1483/3933) D:\\815_CowDataChecking\\20221229\\20221229_M_cow\\20221229_061532_21C6.mkv: 640x640 2 cows, Done. (0.014s)\n"
     ]
    },
    {
     "name": "stdout",
     "output_type": "stream",
     "text": [
      "7\n",
      "['6']\n"
     ]
    },
    {
     "name": "stderr",
     "output_type": "stream",
     "text": [
      "C:\\Users\\thithilab\\anaconda3\\envs\\yolov5_april\\lib\\site-packages\\ipykernel_launcher.py:11: FutureWarning: `multichannel` is a deprecated argument name for `hog`. It will be removed in version 1.0. Please use `channel_axis` instead.\n",
      "  # This is added back by InteractiveShellApp.init_path()\n",
      "C:\\Users\\thithilab\\anaconda3\\envs\\yolov5_april\\lib\\site-packages\\sklearn\\preprocessing\\_label.py:154: DataConversionWarning: A column-vector y was passed when a 1d array was expected. Please change the shape of y to (n_samples, ), for example using ravel().\n",
      "  y = column_or_1d(y, warn=True)\n",
      "video 1/1 (1484/3933) D:\\815_CowDataChecking\\20221229\\20221229_M_cow\\20221229_061532_21C6.mkv: 640x640 2 cows, Done. (0.019s)\n"
     ]
    },
    {
     "name": "stdout",
     "output_type": "stream",
     "text": [
      "7\n",
      "['6']\n"
     ]
    },
    {
     "name": "stderr",
     "output_type": "stream",
     "text": [
      "C:\\Users\\thithilab\\anaconda3\\envs\\yolov5_april\\lib\\site-packages\\ipykernel_launcher.py:11: FutureWarning: `multichannel` is a deprecated argument name for `hog`. It will be removed in version 1.0. Please use `channel_axis` instead.\n",
      "  # This is added back by InteractiveShellApp.init_path()\n",
      "C:\\Users\\thithilab\\anaconda3\\envs\\yolov5_april\\lib\\site-packages\\sklearn\\preprocessing\\_label.py:154: DataConversionWarning: A column-vector y was passed when a 1d array was expected. Please change the shape of y to (n_samples, ), for example using ravel().\n",
      "  y = column_or_1d(y, warn=True)\n",
      "video 1/1 (1485/3933) D:\\815_CowDataChecking\\20221229\\20221229_M_cow\\20221229_061532_21C6.mkv: 640x640 2 cows, Done. (0.015s)\n"
     ]
    },
    {
     "name": "stdout",
     "output_type": "stream",
     "text": [
      "7\n",
      "['6']\n"
     ]
    },
    {
     "name": "stderr",
     "output_type": "stream",
     "text": [
      "C:\\Users\\thithilab\\anaconda3\\envs\\yolov5_april\\lib\\site-packages\\ipykernel_launcher.py:11: FutureWarning: `multichannel` is a deprecated argument name for `hog`. It will be removed in version 1.0. Please use `channel_axis` instead.\n",
      "  # This is added back by InteractiveShellApp.init_path()\n",
      "C:\\Users\\thithilab\\anaconda3\\envs\\yolov5_april\\lib\\site-packages\\sklearn\\preprocessing\\_label.py:154: DataConversionWarning: A column-vector y was passed when a 1d array was expected. Please change the shape of y to (n_samples, ), for example using ravel().\n",
      "  y = column_or_1d(y, warn=True)\n",
      "video 1/1 (1486/3933) D:\\815_CowDataChecking\\20221229\\20221229_M_cow\\20221229_061532_21C6.mkv: 640x640 2 cows, Done. (0.018s)\n"
     ]
    },
    {
     "name": "stdout",
     "output_type": "stream",
     "text": [
      "7\n",
      "['6']\n"
     ]
    },
    {
     "name": "stderr",
     "output_type": "stream",
     "text": [
      "C:\\Users\\thithilab\\anaconda3\\envs\\yolov5_april\\lib\\site-packages\\ipykernel_launcher.py:11: FutureWarning: `multichannel` is a deprecated argument name for `hog`. It will be removed in version 1.0. Please use `channel_axis` instead.\n",
      "  # This is added back by InteractiveShellApp.init_path()\n",
      "C:\\Users\\thithilab\\anaconda3\\envs\\yolov5_april\\lib\\site-packages\\sklearn\\preprocessing\\_label.py:154: DataConversionWarning: A column-vector y was passed when a 1d array was expected. Please change the shape of y to (n_samples, ), for example using ravel().\n",
      "  y = column_or_1d(y, warn=True)\n",
      "video 1/1 (1487/3933) D:\\815_CowDataChecking\\20221229\\20221229_M_cow\\20221229_061532_21C6.mkv: 640x640 2 cows, Done. (0.020s)\n"
     ]
    },
    {
     "name": "stdout",
     "output_type": "stream",
     "text": [
      "7\n",
      "['6']\n"
     ]
    },
    {
     "name": "stderr",
     "output_type": "stream",
     "text": [
      "C:\\Users\\thithilab\\anaconda3\\envs\\yolov5_april\\lib\\site-packages\\ipykernel_launcher.py:11: FutureWarning: `multichannel` is a deprecated argument name for `hog`. It will be removed in version 1.0. Please use `channel_axis` instead.\n",
      "  # This is added back by InteractiveShellApp.init_path()\n",
      "C:\\Users\\thithilab\\anaconda3\\envs\\yolov5_april\\lib\\site-packages\\sklearn\\preprocessing\\_label.py:154: DataConversionWarning: A column-vector y was passed when a 1d array was expected. Please change the shape of y to (n_samples, ), for example using ravel().\n",
      "  y = column_or_1d(y, warn=True)\n",
      "video 1/1 (1488/3933) D:\\815_CowDataChecking\\20221229\\20221229_M_cow\\20221229_061532_21C6.mkv: 640x640 2 cows, Done. (0.015s)\n"
     ]
    },
    {
     "name": "stdout",
     "output_type": "stream",
     "text": [
      "7\n",
      "['6']\n"
     ]
    },
    {
     "name": "stderr",
     "output_type": "stream",
     "text": [
      "C:\\Users\\thithilab\\anaconda3\\envs\\yolov5_april\\lib\\site-packages\\ipykernel_launcher.py:11: FutureWarning: `multichannel` is a deprecated argument name for `hog`. It will be removed in version 1.0. Please use `channel_axis` instead.\n",
      "  # This is added back by InteractiveShellApp.init_path()\n",
      "C:\\Users\\thithilab\\anaconda3\\envs\\yolov5_april\\lib\\site-packages\\sklearn\\preprocessing\\_label.py:154: DataConversionWarning: A column-vector y was passed when a 1d array was expected. Please change the shape of y to (n_samples, ), for example using ravel().\n",
      "  y = column_or_1d(y, warn=True)\n",
      "video 1/1 (1489/3933) D:\\815_CowDataChecking\\20221229\\20221229_M_cow\\20221229_061532_21C6.mkv: 640x640 2 cows, Done. (0.016s)\n"
     ]
    },
    {
     "name": "stdout",
     "output_type": "stream",
     "text": [
      "7\n",
      "['6']\n"
     ]
    },
    {
     "name": "stderr",
     "output_type": "stream",
     "text": [
      "C:\\Users\\thithilab\\anaconda3\\envs\\yolov5_april\\lib\\site-packages\\ipykernel_launcher.py:11: FutureWarning: `multichannel` is a deprecated argument name for `hog`. It will be removed in version 1.0. Please use `channel_axis` instead.\n",
      "  # This is added back by InteractiveShellApp.init_path()\n",
      "C:\\Users\\thithilab\\anaconda3\\envs\\yolov5_april\\lib\\site-packages\\sklearn\\preprocessing\\_label.py:154: DataConversionWarning: A column-vector y was passed when a 1d array was expected. Please change the shape of y to (n_samples, ), for example using ravel().\n",
      "  y = column_or_1d(y, warn=True)\n",
      "video 1/1 (1490/3933) D:\\815_CowDataChecking\\20221229\\20221229_M_cow\\20221229_061532_21C6.mkv: 640x640 2 cows, Done. (0.014s)\n"
     ]
    },
    {
     "name": "stdout",
     "output_type": "stream",
     "text": [
      "7\n",
      "['6']\n"
     ]
    },
    {
     "name": "stderr",
     "output_type": "stream",
     "text": [
      "C:\\Users\\thithilab\\anaconda3\\envs\\yolov5_april\\lib\\site-packages\\ipykernel_launcher.py:11: FutureWarning: `multichannel` is a deprecated argument name for `hog`. It will be removed in version 1.0. Please use `channel_axis` instead.\n",
      "  # This is added back by InteractiveShellApp.init_path()\n",
      "C:\\Users\\thithilab\\anaconda3\\envs\\yolov5_april\\lib\\site-packages\\sklearn\\preprocessing\\_label.py:154: DataConversionWarning: A column-vector y was passed when a 1d array was expected. Please change the shape of y to (n_samples, ), for example using ravel().\n",
      "  y = column_or_1d(y, warn=True)\n",
      "video 1/1 (1491/3933) D:\\815_CowDataChecking\\20221229\\20221229_M_cow\\20221229_061532_21C6.mkv: 640x640 2 cows, Done. (0.014s)\n"
     ]
    },
    {
     "name": "stdout",
     "output_type": "stream",
     "text": [
      "7\n",
      "['6']\n"
     ]
    },
    {
     "name": "stderr",
     "output_type": "stream",
     "text": [
      "C:\\Users\\thithilab\\anaconda3\\envs\\yolov5_april\\lib\\site-packages\\ipykernel_launcher.py:11: FutureWarning: `multichannel` is a deprecated argument name for `hog`. It will be removed in version 1.0. Please use `channel_axis` instead.\n",
      "  # This is added back by InteractiveShellApp.init_path()\n",
      "C:\\Users\\thithilab\\anaconda3\\envs\\yolov5_april\\lib\\site-packages\\sklearn\\preprocessing\\_label.py:154: DataConversionWarning: A column-vector y was passed when a 1d array was expected. Please change the shape of y to (n_samples, ), for example using ravel().\n",
      "  y = column_or_1d(y, warn=True)\n",
      "video 1/1 (1492/3933) D:\\815_CowDataChecking\\20221229\\20221229_M_cow\\20221229_061532_21C6.mkv: 640x640 2 cows, Done. (0.020s)\n"
     ]
    },
    {
     "name": "stdout",
     "output_type": "stream",
     "text": [
      "7\n",
      "['6']\n"
     ]
    },
    {
     "name": "stderr",
     "output_type": "stream",
     "text": [
      "C:\\Users\\thithilab\\anaconda3\\envs\\yolov5_april\\lib\\site-packages\\ipykernel_launcher.py:11: FutureWarning: `multichannel` is a deprecated argument name for `hog`. It will be removed in version 1.0. Please use `channel_axis` instead.\n",
      "  # This is added back by InteractiveShellApp.init_path()\n",
      "C:\\Users\\thithilab\\anaconda3\\envs\\yolov5_april\\lib\\site-packages\\sklearn\\preprocessing\\_label.py:154: DataConversionWarning: A column-vector y was passed when a 1d array was expected. Please change the shape of y to (n_samples, ), for example using ravel().\n",
      "  y = column_or_1d(y, warn=True)\n",
      "video 1/1 (1493/3933) D:\\815_CowDataChecking\\20221229\\20221229_M_cow\\20221229_061532_21C6.mkv: 640x640 2 cows, Done. (0.014s)\n"
     ]
    },
    {
     "name": "stdout",
     "output_type": "stream",
     "text": [
      "7\n",
      "['6']\n"
     ]
    },
    {
     "name": "stderr",
     "output_type": "stream",
     "text": [
      "C:\\Users\\thithilab\\anaconda3\\envs\\yolov5_april\\lib\\site-packages\\ipykernel_launcher.py:11: FutureWarning: `multichannel` is a deprecated argument name for `hog`. It will be removed in version 1.0. Please use `channel_axis` instead.\n",
      "  # This is added back by InteractiveShellApp.init_path()\n",
      "C:\\Users\\thithilab\\anaconda3\\envs\\yolov5_april\\lib\\site-packages\\sklearn\\preprocessing\\_label.py:154: DataConversionWarning: A column-vector y was passed when a 1d array was expected. Please change the shape of y to (n_samples, ), for example using ravel().\n",
      "  y = column_or_1d(y, warn=True)\n",
      "video 1/1 (1494/3933) D:\\815_CowDataChecking\\20221229\\20221229_M_cow\\20221229_061532_21C6.mkv: 640x640 2 cows, Done. (0.013s)\n"
     ]
    },
    {
     "name": "stdout",
     "output_type": "stream",
     "text": [
      "7\n",
      "['6']\n"
     ]
    },
    {
     "name": "stderr",
     "output_type": "stream",
     "text": [
      "C:\\Users\\thithilab\\anaconda3\\envs\\yolov5_april\\lib\\site-packages\\ipykernel_launcher.py:11: FutureWarning: `multichannel` is a deprecated argument name for `hog`. It will be removed in version 1.0. Please use `channel_axis` instead.\n",
      "  # This is added back by InteractiveShellApp.init_path()\n",
      "C:\\Users\\thithilab\\anaconda3\\envs\\yolov5_april\\lib\\site-packages\\sklearn\\preprocessing\\_label.py:154: DataConversionWarning: A column-vector y was passed when a 1d array was expected. Please change the shape of y to (n_samples, ), for example using ravel().\n",
      "  y = column_or_1d(y, warn=True)\n"
     ]
    },
    {
     "name": "stdout",
     "output_type": "stream",
     "text": [
      "7\n",
      "['6']\n"
     ]
    },
    {
     "name": "stderr",
     "output_type": "stream",
     "text": [
      "C:\\Users\\thithilab\\anaconda3\\envs\\yolov5_april\\lib\\site-packages\\ipykernel_launcher.py:11: FutureWarning: `multichannel` is a deprecated argument name for `hog`. It will be removed in version 1.0. Please use `channel_axis` instead.\n",
      "  # This is added back by InteractiveShellApp.init_path()\n",
      "C:\\Users\\thithilab\\anaconda3\\envs\\yolov5_april\\lib\\site-packages\\sklearn\\preprocessing\\_label.py:154: DataConversionWarning: A column-vector y was passed when a 1d array was expected. Please change the shape of y to (n_samples, ), for example using ravel().\n",
      "  y = column_or_1d(y, warn=True)\n",
      "C:\\Users\\thithilab\\anaconda3\\envs\\yolov5_april\\lib\\site-packages\\ipykernel_launcher.py:9: FutureWarning: elementwise comparison failed; returning scalar instead, but in the future will perform elementwise comparison\n",
      "  if __name__ == \"__main__\":\n",
      "video 1/1 (1495/3933) D:\\815_CowDataChecking\\20221229\\20221229_M_cow\\20221229_061532_21C6.mkv: 640x640 2 cows, Done. (0.016s)\n"
     ]
    },
    {
     "name": "stdout",
     "output_type": "stream",
     "text": [
      "8\n",
      "['7']\n"
     ]
    },
    {
     "name": "stderr",
     "output_type": "stream",
     "text": [
      "C:\\Users\\thithilab\\anaconda3\\envs\\yolov5_april\\lib\\site-packages\\ipykernel_launcher.py:11: FutureWarning: `multichannel` is a deprecated argument name for `hog`. It will be removed in version 1.0. Please use `channel_axis` instead.\n",
      "  # This is added back by InteractiveShellApp.init_path()\n",
      "C:\\Users\\thithilab\\anaconda3\\envs\\yolov5_april\\lib\\site-packages\\sklearn\\preprocessing\\_label.py:154: DataConversionWarning: A column-vector y was passed when a 1d array was expected. Please change the shape of y to (n_samples, ), for example using ravel().\n",
      "  y = column_or_1d(y, warn=True)\n",
      "C:\\Users\\thithilab\\anaconda3\\envs\\yolov5_april\\lib\\site-packages\\ipykernel_launcher.py:9: FutureWarning: elementwise comparison failed; returning scalar instead, but in the future will perform elementwise comparison\n",
      "  if __name__ == \"__main__\":\n",
      "C:\\Users\\thithilab\\anaconda3\\envs\\yolov5_april\\lib\\site-packages\\ipykernel_launcher.py:11: FutureWarning: `multichannel` is a deprecated argument name for `hog`. It will be removed in version 1.0. Please use `channel_axis` instead.\n",
      "  # This is added back by InteractiveShellApp.init_path()\n",
      "C:\\Users\\thithilab\\anaconda3\\envs\\yolov5_april\\lib\\site-packages\\sklearn\\preprocessing\\_label.py:154: DataConversionWarning: A column-vector y was passed when a 1d array was expected. Please change the shape of y to (n_samples, ), for example using ravel().\n",
      "  y = column_or_1d(y, warn=True)\n",
      "video 1/1 (1496/3933) D:\\815_CowDataChecking\\20221229\\20221229_M_cow\\20221229_061532_21C6.mkv: 640x640 2 cows, Done. (0.018s)\n"
     ]
    },
    {
     "name": "stdout",
     "output_type": "stream",
     "text": [
      "8\n",
      "['7']\n",
      "length is more than 1400 pixel\n"
     ]
    },
    {
     "name": "stderr",
     "output_type": "stream",
     "text": [
      "C:\\Users\\thithilab\\anaconda3\\envs\\yolov5_april\\lib\\site-packages\\ipykernel_launcher.py:11: FutureWarning: `multichannel` is a deprecated argument name for `hog`. It will be removed in version 1.0. Please use `channel_axis` instead.\n",
      "  # This is added back by InteractiveShellApp.init_path()\n",
      "C:\\Users\\thithilab\\anaconda3\\envs\\yolov5_april\\lib\\site-packages\\sklearn\\preprocessing\\_label.py:154: DataConversionWarning: A column-vector y was passed when a 1d array was expected. Please change the shape of y to (n_samples, ), for example using ravel().\n",
      "  y = column_or_1d(y, warn=True)\n",
      "video 1/1 (1497/3933) D:\\815_CowDataChecking\\20221229\\20221229_M_cow\\20221229_061532_21C6.mkv: 640x640 2 cows, Done. (0.020s)\n"
     ]
    },
    {
     "name": "stdout",
     "output_type": "stream",
     "text": [
      "8\n",
      "['7']\n",
      "length is more than 1400 pixel\n"
     ]
    },
    {
     "name": "stderr",
     "output_type": "stream",
     "text": [
      "C:\\Users\\thithilab\\anaconda3\\envs\\yolov5_april\\lib\\site-packages\\ipykernel_launcher.py:11: FutureWarning: `multichannel` is a deprecated argument name for `hog`. It will be removed in version 1.0. Please use `channel_axis` instead.\n",
      "  # This is added back by InteractiveShellApp.init_path()\n",
      "C:\\Users\\thithilab\\anaconda3\\envs\\yolov5_april\\lib\\site-packages\\sklearn\\preprocessing\\_label.py:154: DataConversionWarning: A column-vector y was passed when a 1d array was expected. Please change the shape of y to (n_samples, ), for example using ravel().\n",
      "  y = column_or_1d(y, warn=True)\n",
      "video 1/1 (1498/3933) D:\\815_CowDataChecking\\20221229\\20221229_M_cow\\20221229_061532_21C6.mkv: 640x640 2 cows, Done. (0.014s)\n"
     ]
    },
    {
     "name": "stdout",
     "output_type": "stream",
     "text": [
      "8\n",
      "['7']\n",
      "length is more than 1400 pixel\n"
     ]
    },
    {
     "name": "stderr",
     "output_type": "stream",
     "text": [
      "C:\\Users\\thithilab\\anaconda3\\envs\\yolov5_april\\lib\\site-packages\\ipykernel_launcher.py:11: FutureWarning: `multichannel` is a deprecated argument name for `hog`. It will be removed in version 1.0. Please use `channel_axis` instead.\n",
      "  # This is added back by InteractiveShellApp.init_path()\n",
      "C:\\Users\\thithilab\\anaconda3\\envs\\yolov5_april\\lib\\site-packages\\sklearn\\preprocessing\\_label.py:154: DataConversionWarning: A column-vector y was passed when a 1d array was expected. Please change the shape of y to (n_samples, ), for example using ravel().\n",
      "  y = column_or_1d(y, warn=True)\n",
      "video 1/1 (1499/3933) D:\\815_CowDataChecking\\20221229\\20221229_M_cow\\20221229_061532_21C6.mkv: 640x640 2 cows, Done. (0.015s)\n"
     ]
    },
    {
     "name": "stdout",
     "output_type": "stream",
     "text": [
      "8\n",
      "['7']\n",
      "length is more than 1400 pixel\n"
     ]
    },
    {
     "name": "stderr",
     "output_type": "stream",
     "text": [
      "C:\\Users\\thithilab\\anaconda3\\envs\\yolov5_april\\lib\\site-packages\\ipykernel_launcher.py:11: FutureWarning: `multichannel` is a deprecated argument name for `hog`. It will be removed in version 1.0. Please use `channel_axis` instead.\n",
      "  # This is added back by InteractiveShellApp.init_path()\n",
      "C:\\Users\\thithilab\\anaconda3\\envs\\yolov5_april\\lib\\site-packages\\sklearn\\preprocessing\\_label.py:154: DataConversionWarning: A column-vector y was passed when a 1d array was expected. Please change the shape of y to (n_samples, ), for example using ravel().\n",
      "  y = column_or_1d(y, warn=True)\n",
      "video 1/1 (1500/3933) D:\\815_CowDataChecking\\20221229\\20221229_M_cow\\20221229_061532_21C6.mkv: 640x640 2 cows, Done. (0.013s)\n"
     ]
    },
    {
     "name": "stdout",
     "output_type": "stream",
     "text": [
      "8\n",
      "['7']\n",
      "length is more than 1400 pixel\n"
     ]
    },
    {
     "name": "stderr",
     "output_type": "stream",
     "text": [
      "C:\\Users\\thithilab\\anaconda3\\envs\\yolov5_april\\lib\\site-packages\\ipykernel_launcher.py:11: FutureWarning: `multichannel` is a deprecated argument name for `hog`. It will be removed in version 1.0. Please use `channel_axis` instead.\n",
      "  # This is added back by InteractiveShellApp.init_path()\n",
      "C:\\Users\\thithilab\\anaconda3\\envs\\yolov5_april\\lib\\site-packages\\sklearn\\preprocessing\\_label.py:154: DataConversionWarning: A column-vector y was passed when a 1d array was expected. Please change the shape of y to (n_samples, ), for example using ravel().\n",
      "  y = column_or_1d(y, warn=True)\n",
      "video 1/1 (1501/3933) D:\\815_CowDataChecking\\20221229\\20221229_M_cow\\20221229_061532_21C6.mkv: 640x640 2 cows, Done. (0.013s)\n"
     ]
    },
    {
     "name": "stdout",
     "output_type": "stream",
     "text": [
      "8\n",
      "['7']\n",
      "length is more than 1400 pixel\n"
     ]
    },
    {
     "name": "stderr",
     "output_type": "stream",
     "text": [
      "C:\\Users\\thithilab\\anaconda3\\envs\\yolov5_april\\lib\\site-packages\\ipykernel_launcher.py:11: FutureWarning: `multichannel` is a deprecated argument name for `hog`. It will be removed in version 1.0. Please use `channel_axis` instead.\n",
      "  # This is added back by InteractiveShellApp.init_path()\n",
      "C:\\Users\\thithilab\\anaconda3\\envs\\yolov5_april\\lib\\site-packages\\sklearn\\preprocessing\\_label.py:154: DataConversionWarning: A column-vector y was passed when a 1d array was expected. Please change the shape of y to (n_samples, ), for example using ravel().\n",
      "  y = column_or_1d(y, warn=True)\n",
      "video 1/1 (1502/3933) D:\\815_CowDataChecking\\20221229\\20221229_M_cow\\20221229_061532_21C6.mkv: 640x640 2 cows, Done. (0.013s)\n"
     ]
    },
    {
     "name": "stdout",
     "output_type": "stream",
     "text": [
      "8\n",
      "['7']\n",
      "length is more than 1400 pixel\n"
     ]
    },
    {
     "name": "stderr",
     "output_type": "stream",
     "text": [
      "C:\\Users\\thithilab\\anaconda3\\envs\\yolov5_april\\lib\\site-packages\\ipykernel_launcher.py:11: FutureWarning: `multichannel` is a deprecated argument name for `hog`. It will be removed in version 1.0. Please use `channel_axis` instead.\n",
      "  # This is added back by InteractiveShellApp.init_path()\n",
      "C:\\Users\\thithilab\\anaconda3\\envs\\yolov5_april\\lib\\site-packages\\sklearn\\preprocessing\\_label.py:154: DataConversionWarning: A column-vector y was passed when a 1d array was expected. Please change the shape of y to (n_samples, ), for example using ravel().\n",
      "  y = column_or_1d(y, warn=True)\n",
      "video 1/1 (1503/3933) D:\\815_CowDataChecking\\20221229\\20221229_M_cow\\20221229_061532_21C6.mkv: 640x640 2 cows, Done. (0.016s)\n"
     ]
    },
    {
     "name": "stdout",
     "output_type": "stream",
     "text": [
      "8\n",
      "['7']\n",
      "length is more than 1400 pixel\n"
     ]
    },
    {
     "name": "stderr",
     "output_type": "stream",
     "text": [
      "C:\\Users\\thithilab\\anaconda3\\envs\\yolov5_april\\lib\\site-packages\\ipykernel_launcher.py:11: FutureWarning: `multichannel` is a deprecated argument name for `hog`. It will be removed in version 1.0. Please use `channel_axis` instead.\n",
      "  # This is added back by InteractiveShellApp.init_path()\n",
      "C:\\Users\\thithilab\\anaconda3\\envs\\yolov5_april\\lib\\site-packages\\sklearn\\preprocessing\\_label.py:154: DataConversionWarning: A column-vector y was passed when a 1d array was expected. Please change the shape of y to (n_samples, ), for example using ravel().\n",
      "  y = column_or_1d(y, warn=True)\n",
      "video 1/1 (1504/3933) D:\\815_CowDataChecking\\20221229\\20221229_M_cow\\20221229_061532_21C6.mkv: 640x640 2 cows, Done. (0.014s)\n"
     ]
    },
    {
     "name": "stdout",
     "output_type": "stream",
     "text": [
      "8\n",
      "['7']\n",
      "length is more than 1400 pixel\n"
     ]
    },
    {
     "name": "stderr",
     "output_type": "stream",
     "text": [
      "C:\\Users\\thithilab\\anaconda3\\envs\\yolov5_april\\lib\\site-packages\\ipykernel_launcher.py:11: FutureWarning: `multichannel` is a deprecated argument name for `hog`. It will be removed in version 1.0. Please use `channel_axis` instead.\n",
      "  # This is added back by InteractiveShellApp.init_path()\n",
      "C:\\Users\\thithilab\\anaconda3\\envs\\yolov5_april\\lib\\site-packages\\sklearn\\preprocessing\\_label.py:154: DataConversionWarning: A column-vector y was passed when a 1d array was expected. Please change the shape of y to (n_samples, ), for example using ravel().\n",
      "  y = column_or_1d(y, warn=True)\n",
      "video 1/1 (1505/3933) D:\\815_CowDataChecking\\20221229\\20221229_M_cow\\20221229_061532_21C6.mkv: 640x640 2 cows, Done. (0.015s)\n"
     ]
    },
    {
     "name": "stdout",
     "output_type": "stream",
     "text": [
      "8\n",
      "['7']\n",
      "length is more than 1400 pixel\n"
     ]
    },
    {
     "name": "stderr",
     "output_type": "stream",
     "text": [
      "C:\\Users\\thithilab\\anaconda3\\envs\\yolov5_april\\lib\\site-packages\\ipykernel_launcher.py:11: FutureWarning: `multichannel` is a deprecated argument name for `hog`. It will be removed in version 1.0. Please use `channel_axis` instead.\n",
      "  # This is added back by InteractiveShellApp.init_path()\n",
      "C:\\Users\\thithilab\\anaconda3\\envs\\yolov5_april\\lib\\site-packages\\sklearn\\preprocessing\\_label.py:154: DataConversionWarning: A column-vector y was passed when a 1d array was expected. Please change the shape of y to (n_samples, ), for example using ravel().\n",
      "  y = column_or_1d(y, warn=True)\n",
      "video 1/1 (1506/3933) D:\\815_CowDataChecking\\20221229\\20221229_M_cow\\20221229_061532_21C6.mkv: 640x640 2 cows, Done. (0.014s)\n"
     ]
    },
    {
     "name": "stdout",
     "output_type": "stream",
     "text": [
      "8\n",
      "['7']\n",
      "length is more than 1400 pixel\n"
     ]
    },
    {
     "name": "stderr",
     "output_type": "stream",
     "text": [
      "C:\\Users\\thithilab\\anaconda3\\envs\\yolov5_april\\lib\\site-packages\\ipykernel_launcher.py:11: FutureWarning: `multichannel` is a deprecated argument name for `hog`. It will be removed in version 1.0. Please use `channel_axis` instead.\n",
      "  # This is added back by InteractiveShellApp.init_path()\n",
      "C:\\Users\\thithilab\\anaconda3\\envs\\yolov5_april\\lib\\site-packages\\sklearn\\preprocessing\\_label.py:154: DataConversionWarning: A column-vector y was passed when a 1d array was expected. Please change the shape of y to (n_samples, ), for example using ravel().\n",
      "  y = column_or_1d(y, warn=True)\n",
      "video 1/1 (1507/3933) D:\\815_CowDataChecking\\20221229\\20221229_M_cow\\20221229_061532_21C6.mkv: 640x640 2 cows, Done. (0.014s)\n"
     ]
    },
    {
     "name": "stdout",
     "output_type": "stream",
     "text": [
      "8\n",
      "['7']\n"
     ]
    },
    {
     "name": "stderr",
     "output_type": "stream",
     "text": [
      "C:\\Users\\thithilab\\anaconda3\\envs\\yolov5_april\\lib\\site-packages\\ipykernel_launcher.py:11: FutureWarning: `multichannel` is a deprecated argument name for `hog`. It will be removed in version 1.0. Please use `channel_axis` instead.\n",
      "  # This is added back by InteractiveShellApp.init_path()\n",
      "C:\\Users\\thithilab\\anaconda3\\envs\\yolov5_april\\lib\\site-packages\\sklearn\\preprocessing\\_label.py:154: DataConversionWarning: A column-vector y was passed when a 1d array was expected. Please change the shape of y to (n_samples, ), for example using ravel().\n",
      "  y = column_or_1d(y, warn=True)\n",
      "video 1/1 (1508/3933) D:\\815_CowDataChecking\\20221229\\20221229_M_cow\\20221229_061532_21C6.mkv: 640x640 2 cows, Done. (0.017s)\n"
     ]
    },
    {
     "name": "stdout",
     "output_type": "stream",
     "text": [
      "8\n",
      "['7']\n"
     ]
    },
    {
     "name": "stderr",
     "output_type": "stream",
     "text": [
      "C:\\Users\\thithilab\\anaconda3\\envs\\yolov5_april\\lib\\site-packages\\ipykernel_launcher.py:11: FutureWarning: `multichannel` is a deprecated argument name for `hog`. It will be removed in version 1.0. Please use `channel_axis` instead.\n",
      "  # This is added back by InteractiveShellApp.init_path()\n",
      "C:\\Users\\thithilab\\anaconda3\\envs\\yolov5_april\\lib\\site-packages\\sklearn\\preprocessing\\_label.py:154: DataConversionWarning: A column-vector y was passed when a 1d array was expected. Please change the shape of y to (n_samples, ), for example using ravel().\n",
      "  y = column_or_1d(y, warn=True)\n",
      "video 1/1 (1509/3933) D:\\815_CowDataChecking\\20221229\\20221229_M_cow\\20221229_061532_21C6.mkv: 640x640 2 cows, Done. (0.021s)\n"
     ]
    },
    {
     "name": "stdout",
     "output_type": "stream",
     "text": [
      "8\n",
      "['7']\n"
     ]
    },
    {
     "name": "stderr",
     "output_type": "stream",
     "text": [
      "C:\\Users\\thithilab\\anaconda3\\envs\\yolov5_april\\lib\\site-packages\\ipykernel_launcher.py:11: FutureWarning: `multichannel` is a deprecated argument name for `hog`. It will be removed in version 1.0. Please use `channel_axis` instead.\n",
      "  # This is added back by InteractiveShellApp.init_path()\n",
      "C:\\Users\\thithilab\\anaconda3\\envs\\yolov5_april\\lib\\site-packages\\sklearn\\preprocessing\\_label.py:154: DataConversionWarning: A column-vector y was passed when a 1d array was expected. Please change the shape of y to (n_samples, ), for example using ravel().\n",
      "  y = column_or_1d(y, warn=True)\n",
      "video 1/1 (1510/3933) D:\\815_CowDataChecking\\20221229\\20221229_M_cow\\20221229_061532_21C6.mkv: 640x640 2 cows, Done. (0.013s)\n"
     ]
    },
    {
     "name": "stdout",
     "output_type": "stream",
     "text": [
      "8\n",
      "['7']\n"
     ]
    },
    {
     "name": "stderr",
     "output_type": "stream",
     "text": [
      "C:\\Users\\thithilab\\anaconda3\\envs\\yolov5_april\\lib\\site-packages\\ipykernel_launcher.py:11: FutureWarning: `multichannel` is a deprecated argument name for `hog`. It will be removed in version 1.0. Please use `channel_axis` instead.\n",
      "  # This is added back by InteractiveShellApp.init_path()\n",
      "C:\\Users\\thithilab\\anaconda3\\envs\\yolov5_april\\lib\\site-packages\\sklearn\\preprocessing\\_label.py:154: DataConversionWarning: A column-vector y was passed when a 1d array was expected. Please change the shape of y to (n_samples, ), for example using ravel().\n",
      "  y = column_or_1d(y, warn=True)\n",
      "video 1/1 (1511/3933) D:\\815_CowDataChecking\\20221229\\20221229_M_cow\\20221229_061532_21C6.mkv: 640x640 2 cows, Done. (0.015s)\n"
     ]
    },
    {
     "name": "stdout",
     "output_type": "stream",
     "text": [
      "8\n",
      "['7']\n"
     ]
    },
    {
     "name": "stderr",
     "output_type": "stream",
     "text": [
      "C:\\Users\\thithilab\\anaconda3\\envs\\yolov5_april\\lib\\site-packages\\ipykernel_launcher.py:11: FutureWarning: `multichannel` is a deprecated argument name for `hog`. It will be removed in version 1.0. Please use `channel_axis` instead.\n",
      "  # This is added back by InteractiveShellApp.init_path()\n",
      "C:\\Users\\thithilab\\anaconda3\\envs\\yolov5_april\\lib\\site-packages\\sklearn\\preprocessing\\_label.py:154: DataConversionWarning: A column-vector y was passed when a 1d array was expected. Please change the shape of y to (n_samples, ), for example using ravel().\n",
      "  y = column_or_1d(y, warn=True)\n",
      "video 1/1 (1512/3933) D:\\815_CowDataChecking\\20221229\\20221229_M_cow\\20221229_061532_21C6.mkv: 640x640 1 cow, Done. (0.013s)\n"
     ]
    },
    {
     "name": "stdout",
     "output_type": "stream",
     "text": [
      "8\n",
      "['7']\n"
     ]
    },
    {
     "name": "stderr",
     "output_type": "stream",
     "text": [
      "C:\\Users\\thithilab\\anaconda3\\envs\\yolov5_april\\lib\\site-packages\\ipykernel_launcher.py:11: FutureWarning: `multichannel` is a deprecated argument name for `hog`. It will be removed in version 1.0. Please use `channel_axis` instead.\n",
      "  # This is added back by InteractiveShellApp.init_path()\n",
      "C:\\Users\\thithilab\\anaconda3\\envs\\yolov5_april\\lib\\site-packages\\sklearn\\preprocessing\\_label.py:154: DataConversionWarning: A column-vector y was passed when a 1d array was expected. Please change the shape of y to (n_samples, ), for example using ravel().\n",
      "  y = column_or_1d(y, warn=True)\n",
      "video 1/1 (1513/3933) D:\\815_CowDataChecking\\20221229\\20221229_M_cow\\20221229_061532_21C6.mkv: 640x640 1 cow, Done. (0.014s)\n"
     ]
    },
    {
     "name": "stdout",
     "output_type": "stream",
     "text": [
      "8\n",
      "['7']\n"
     ]
    },
    {
     "name": "stderr",
     "output_type": "stream",
     "text": [
      "C:\\Users\\thithilab\\anaconda3\\envs\\yolov5_april\\lib\\site-packages\\ipykernel_launcher.py:11: FutureWarning: `multichannel` is a deprecated argument name for `hog`. It will be removed in version 1.0. Please use `channel_axis` instead.\n",
      "  # This is added back by InteractiveShellApp.init_path()\n",
      "C:\\Users\\thithilab\\anaconda3\\envs\\yolov5_april\\lib\\site-packages\\sklearn\\preprocessing\\_label.py:154: DataConversionWarning: A column-vector y was passed when a 1d array was expected. Please change the shape of y to (n_samples, ), for example using ravel().\n",
      "  y = column_or_1d(y, warn=True)\n",
      "video 1/1 (1514/3933) D:\\815_CowDataChecking\\20221229\\20221229_M_cow\\20221229_061532_21C6.mkv: 640x640 2 cows, Done. (0.014s)\n"
     ]
    },
    {
     "name": "stdout",
     "output_type": "stream",
     "text": [
      "8\n",
      "['7']\n"
     ]
    },
    {
     "name": "stderr",
     "output_type": "stream",
     "text": [
      "C:\\Users\\thithilab\\anaconda3\\envs\\yolov5_april\\lib\\site-packages\\ipykernel_launcher.py:11: FutureWarning: `multichannel` is a deprecated argument name for `hog`. It will be removed in version 1.0. Please use `channel_axis` instead.\n",
      "  # This is added back by InteractiveShellApp.init_path()\n",
      "C:\\Users\\thithilab\\anaconda3\\envs\\yolov5_april\\lib\\site-packages\\sklearn\\preprocessing\\_label.py:154: DataConversionWarning: A column-vector y was passed when a 1d array was expected. Please change the shape of y to (n_samples, ), for example using ravel().\n",
      "  y = column_or_1d(y, warn=True)\n",
      "video 1/1 (1515/3933) D:\\815_CowDataChecking\\20221229\\20221229_M_cow\\20221229_061532_21C6.mkv: 640x640 1 cow, Done. (0.013s)\n"
     ]
    },
    {
     "name": "stdout",
     "output_type": "stream",
     "text": [
      "8\n",
      "['7']\n"
     ]
    },
    {
     "name": "stderr",
     "output_type": "stream",
     "text": [
      "C:\\Users\\thithilab\\anaconda3\\envs\\yolov5_april\\lib\\site-packages\\ipykernel_launcher.py:11: FutureWarning: `multichannel` is a deprecated argument name for `hog`. It will be removed in version 1.0. Please use `channel_axis` instead.\n",
      "  # This is added back by InteractiveShellApp.init_path()\n",
      "C:\\Users\\thithilab\\anaconda3\\envs\\yolov5_april\\lib\\site-packages\\sklearn\\preprocessing\\_label.py:154: DataConversionWarning: A column-vector y was passed when a 1d array was expected. Please change the shape of y to (n_samples, ), for example using ravel().\n",
      "  y = column_or_1d(y, warn=True)\n",
      "video 1/1 (1516/3933) D:\\815_CowDataChecking\\20221229\\20221229_M_cow\\20221229_061532_21C6.mkv: 640x640 1 cow, Done. (0.015s)\n"
     ]
    },
    {
     "name": "stdout",
     "output_type": "stream",
     "text": [
      "8\n",
      "['7']\n"
     ]
    },
    {
     "name": "stderr",
     "output_type": "stream",
     "text": [
      "C:\\Users\\thithilab\\anaconda3\\envs\\yolov5_april\\lib\\site-packages\\ipykernel_launcher.py:11: FutureWarning: `multichannel` is a deprecated argument name for `hog`. It will be removed in version 1.0. Please use `channel_axis` instead.\n",
      "  # This is added back by InteractiveShellApp.init_path()\n",
      "C:\\Users\\thithilab\\anaconda3\\envs\\yolov5_april\\lib\\site-packages\\sklearn\\preprocessing\\_label.py:154: DataConversionWarning: A column-vector y was passed when a 1d array was expected. Please change the shape of y to (n_samples, ), for example using ravel().\n",
      "  y = column_or_1d(y, warn=True)\n",
      "video 1/1 (1517/3933) D:\\815_CowDataChecking\\20221229\\20221229_M_cow\\20221229_061532_21C6.mkv: 640x640 2 cows, Done. (0.016s)\n"
     ]
    },
    {
     "name": "stdout",
     "output_type": "stream",
     "text": [
      "8\n",
      "['7']\n"
     ]
    },
    {
     "name": "stderr",
     "output_type": "stream",
     "text": [
      "C:\\Users\\thithilab\\anaconda3\\envs\\yolov5_april\\lib\\site-packages\\ipykernel_launcher.py:11: FutureWarning: `multichannel` is a deprecated argument name for `hog`. It will be removed in version 1.0. Please use `channel_axis` instead.\n",
      "  # This is added back by InteractiveShellApp.init_path()\n",
      "C:\\Users\\thithilab\\anaconda3\\envs\\yolov5_april\\lib\\site-packages\\sklearn\\preprocessing\\_label.py:154: DataConversionWarning: A column-vector y was passed when a 1d array was expected. Please change the shape of y to (n_samples, ), for example using ravel().\n",
      "  y = column_or_1d(y, warn=True)\n",
      "video 1/1 (1518/3933) D:\\815_CowDataChecking\\20221229\\20221229_M_cow\\20221229_061532_21C6.mkv: 640x640 2 cows, Done. (0.015s)\n"
     ]
    },
    {
     "name": "stdout",
     "output_type": "stream",
     "text": [
      "8\n",
      "['7']\n"
     ]
    },
    {
     "name": "stderr",
     "output_type": "stream",
     "text": [
      "C:\\Users\\thithilab\\anaconda3\\envs\\yolov5_april\\lib\\site-packages\\ipykernel_launcher.py:11: FutureWarning: `multichannel` is a deprecated argument name for `hog`. It will be removed in version 1.0. Please use `channel_axis` instead.\n",
      "  # This is added back by InteractiveShellApp.init_path()\n",
      "C:\\Users\\thithilab\\anaconda3\\envs\\yolov5_april\\lib\\site-packages\\sklearn\\preprocessing\\_label.py:154: DataConversionWarning: A column-vector y was passed when a 1d array was expected. Please change the shape of y to (n_samples, ), for example using ravel().\n",
      "  y = column_or_1d(y, warn=True)\n",
      "video 1/1 (1519/3933) D:\\815_CowDataChecking\\20221229\\20221229_M_cow\\20221229_061532_21C6.mkv: 640x640 2 cows, Done. (0.013s)\n"
     ]
    },
    {
     "name": "stdout",
     "output_type": "stream",
     "text": [
      "8\n",
      "['7']\n"
     ]
    },
    {
     "name": "stderr",
     "output_type": "stream",
     "text": [
      "C:\\Users\\thithilab\\anaconda3\\envs\\yolov5_april\\lib\\site-packages\\ipykernel_launcher.py:11: FutureWarning: `multichannel` is a deprecated argument name for `hog`. It will be removed in version 1.0. Please use `channel_axis` instead.\n",
      "  # This is added back by InteractiveShellApp.init_path()\n",
      "C:\\Users\\thithilab\\anaconda3\\envs\\yolov5_april\\lib\\site-packages\\sklearn\\preprocessing\\_label.py:154: DataConversionWarning: A column-vector y was passed when a 1d array was expected. Please change the shape of y to (n_samples, ), for example using ravel().\n",
      "  y = column_or_1d(y, warn=True)\n",
      "video 1/1 (1520/3933) D:\\815_CowDataChecking\\20221229\\20221229_M_cow\\20221229_061532_21C6.mkv: 640x640 1 cow, Done. (0.014s)\n"
     ]
    },
    {
     "name": "stdout",
     "output_type": "stream",
     "text": [
      "8\n",
      "['7']\n"
     ]
    },
    {
     "name": "stderr",
     "output_type": "stream",
     "text": [
      "C:\\Users\\thithilab\\anaconda3\\envs\\yolov5_april\\lib\\site-packages\\ipykernel_launcher.py:11: FutureWarning: `multichannel` is a deprecated argument name for `hog`. It will be removed in version 1.0. Please use `channel_axis` instead.\n",
      "  # This is added back by InteractiveShellApp.init_path()\n",
      "C:\\Users\\thithilab\\anaconda3\\envs\\yolov5_april\\lib\\site-packages\\sklearn\\preprocessing\\_label.py:154: DataConversionWarning: A column-vector y was passed when a 1d array was expected. Please change the shape of y to (n_samples, ), for example using ravel().\n",
      "  y = column_or_1d(y, warn=True)\n",
      "video 1/1 (1521/3933) D:\\815_CowDataChecking\\20221229\\20221229_M_cow\\20221229_061532_21C6.mkv: 640x640 1 cow, Done. (0.014s)\n"
     ]
    },
    {
     "name": "stdout",
     "output_type": "stream",
     "text": [
      "8\n",
      "['7']\n"
     ]
    },
    {
     "name": "stderr",
     "output_type": "stream",
     "text": [
      "C:\\Users\\thithilab\\anaconda3\\envs\\yolov5_april\\lib\\site-packages\\ipykernel_launcher.py:11: FutureWarning: `multichannel` is a deprecated argument name for `hog`. It will be removed in version 1.0. Please use `channel_axis` instead.\n",
      "  # This is added back by InteractiveShellApp.init_path()\n",
      "C:\\Users\\thithilab\\anaconda3\\envs\\yolov5_april\\lib\\site-packages\\sklearn\\preprocessing\\_label.py:154: DataConversionWarning: A column-vector y was passed when a 1d array was expected. Please change the shape of y to (n_samples, ), for example using ravel().\n",
      "  y = column_or_1d(y, warn=True)\n",
      "video 1/1 (1522/3933) D:\\815_CowDataChecking\\20221229\\20221229_M_cow\\20221229_061532_21C6.mkv: 640x640 1 cow, Done. (0.015s)\n"
     ]
    },
    {
     "name": "stdout",
     "output_type": "stream",
     "text": [
      "8\n",
      "['7']\n"
     ]
    },
    {
     "name": "stderr",
     "output_type": "stream",
     "text": [
      "C:\\Users\\thithilab\\anaconda3\\envs\\yolov5_april\\lib\\site-packages\\ipykernel_launcher.py:11: FutureWarning: `multichannel` is a deprecated argument name for `hog`. It will be removed in version 1.0. Please use `channel_axis` instead.\n",
      "  # This is added back by InteractiveShellApp.init_path()\n",
      "C:\\Users\\thithilab\\anaconda3\\envs\\yolov5_april\\lib\\site-packages\\sklearn\\preprocessing\\_label.py:154: DataConversionWarning: A column-vector y was passed when a 1d array was expected. Please change the shape of y to (n_samples, ), for example using ravel().\n",
      "  y = column_or_1d(y, warn=True)\n",
      "video 1/1 (1523/3933) D:\\815_CowDataChecking\\20221229\\20221229_M_cow\\20221229_061532_21C6.mkv: 640x640 1 cow, Done. (0.014s)\n"
     ]
    },
    {
     "name": "stdout",
     "output_type": "stream",
     "text": [
      "8\n",
      "['7']\n"
     ]
    },
    {
     "name": "stderr",
     "output_type": "stream",
     "text": [
      "C:\\Users\\thithilab\\anaconda3\\envs\\yolov5_april\\lib\\site-packages\\ipykernel_launcher.py:11: FutureWarning: `multichannel` is a deprecated argument name for `hog`. It will be removed in version 1.0. Please use `channel_axis` instead.\n",
      "  # This is added back by InteractiveShellApp.init_path()\n",
      "C:\\Users\\thithilab\\anaconda3\\envs\\yolov5_april\\lib\\site-packages\\sklearn\\preprocessing\\_label.py:154: DataConversionWarning: A column-vector y was passed when a 1d array was expected. Please change the shape of y to (n_samples, ), for example using ravel().\n",
      "  y = column_or_1d(y, warn=True)\n",
      "video 1/1 (1524/3933) D:\\815_CowDataChecking\\20221229\\20221229_M_cow\\20221229_061532_21C6.mkv: 640x640 1 cow, Done. (0.014s)\n"
     ]
    },
    {
     "name": "stdout",
     "output_type": "stream",
     "text": [
      "8\n",
      "['7']\n"
     ]
    },
    {
     "name": "stderr",
     "output_type": "stream",
     "text": [
      "C:\\Users\\thithilab\\anaconda3\\envs\\yolov5_april\\lib\\site-packages\\ipykernel_launcher.py:11: FutureWarning: `multichannel` is a deprecated argument name for `hog`. It will be removed in version 1.0. Please use `channel_axis` instead.\n",
      "  # This is added back by InteractiveShellApp.init_path()\n",
      "C:\\Users\\thithilab\\anaconda3\\envs\\yolov5_april\\lib\\site-packages\\sklearn\\preprocessing\\_label.py:154: DataConversionWarning: A column-vector y was passed when a 1d array was expected. Please change the shape of y to (n_samples, ), for example using ravel().\n",
      "  y = column_or_1d(y, warn=True)\n",
      "video 1/1 (1525/3933) D:\\815_CowDataChecking\\20221229\\20221229_M_cow\\20221229_061532_21C6.mkv: 640x640 1 cow, Done. (0.014s)\n"
     ]
    },
    {
     "name": "stdout",
     "output_type": "stream",
     "text": [
      "8\n",
      "['7']\n"
     ]
    },
    {
     "name": "stderr",
     "output_type": "stream",
     "text": [
      "C:\\Users\\thithilab\\anaconda3\\envs\\yolov5_april\\lib\\site-packages\\ipykernel_launcher.py:11: FutureWarning: `multichannel` is a deprecated argument name for `hog`. It will be removed in version 1.0. Please use `channel_axis` instead.\n",
      "  # This is added back by InteractiveShellApp.init_path()\n",
      "C:\\Users\\thithilab\\anaconda3\\envs\\yolov5_april\\lib\\site-packages\\sklearn\\preprocessing\\_label.py:154: DataConversionWarning: A column-vector y was passed when a 1d array was expected. Please change the shape of y to (n_samples, ), for example using ravel().\n",
      "  y = column_or_1d(y, warn=True)\n",
      "video 1/1 (1526/3933) D:\\815_CowDataChecking\\20221229\\20221229_M_cow\\20221229_061532_21C6.mkv: 640x640 1 cow, Done. (0.014s)\n"
     ]
    },
    {
     "name": "stdout",
     "output_type": "stream",
     "text": [
      "8\n",
      "['7']\n"
     ]
    },
    {
     "name": "stderr",
     "output_type": "stream",
     "text": [
      "C:\\Users\\thithilab\\anaconda3\\envs\\yolov5_april\\lib\\site-packages\\ipykernel_launcher.py:11: FutureWarning: `multichannel` is a deprecated argument name for `hog`. It will be removed in version 1.0. Please use `channel_axis` instead.\n",
      "  # This is added back by InteractiveShellApp.init_path()\n",
      "C:\\Users\\thithilab\\anaconda3\\envs\\yolov5_april\\lib\\site-packages\\sklearn\\preprocessing\\_label.py:154: DataConversionWarning: A column-vector y was passed when a 1d array was expected. Please change the shape of y to (n_samples, ), for example using ravel().\n",
      "  y = column_or_1d(y, warn=True)\n",
      "video 1/1 (1527/3933) D:\\815_CowDataChecking\\20221229\\20221229_M_cow\\20221229_061532_21C6.mkv: 640x640 1 cow, Done. (0.013s)\n"
     ]
    },
    {
     "name": "stdout",
     "output_type": "stream",
     "text": [
      "8\n",
      "['7']\n"
     ]
    },
    {
     "name": "stderr",
     "output_type": "stream",
     "text": [
      "C:\\Users\\thithilab\\anaconda3\\envs\\yolov5_april\\lib\\site-packages\\ipykernel_launcher.py:11: FutureWarning: `multichannel` is a deprecated argument name for `hog`. It will be removed in version 1.0. Please use `channel_axis` instead.\n",
      "  # This is added back by InteractiveShellApp.init_path()\n",
      "C:\\Users\\thithilab\\anaconda3\\envs\\yolov5_april\\lib\\site-packages\\sklearn\\preprocessing\\_label.py:154: DataConversionWarning: A column-vector y was passed when a 1d array was expected. Please change the shape of y to (n_samples, ), for example using ravel().\n",
      "  y = column_or_1d(y, warn=True)\n",
      "video 1/1 (1528/3933) D:\\815_CowDataChecking\\20221229\\20221229_M_cow\\20221229_061532_21C6.mkv: 640x640 1 cow, Done. (0.013s)\n"
     ]
    },
    {
     "name": "stdout",
     "output_type": "stream",
     "text": [
      "8\n",
      "['7']\n"
     ]
    },
    {
     "name": "stderr",
     "output_type": "stream",
     "text": [
      "C:\\Users\\thithilab\\anaconda3\\envs\\yolov5_april\\lib\\site-packages\\ipykernel_launcher.py:11: FutureWarning: `multichannel` is a deprecated argument name for `hog`. It will be removed in version 1.0. Please use `channel_axis` instead.\n",
      "  # This is added back by InteractiveShellApp.init_path()\n",
      "C:\\Users\\thithilab\\anaconda3\\envs\\yolov5_april\\lib\\site-packages\\sklearn\\preprocessing\\_label.py:154: DataConversionWarning: A column-vector y was passed when a 1d array was expected. Please change the shape of y to (n_samples, ), for example using ravel().\n",
      "  y = column_or_1d(y, warn=True)\n",
      "video 1/1 (1529/3933) D:\\815_CowDataChecking\\20221229\\20221229_M_cow\\20221229_061532_21C6.mkv: 640x640 1 cow, Done. (0.014s)\n",
      "video 1/1 (1530/3933) D:\\815_CowDataChecking\\20221229\\20221229_M_cow\\20221229_061532_21C6.mkv: 640x640 Done. (0.013s)\n",
      "video 1/1 (1531/3933) D:\\815_CowDataChecking\\20221229\\20221229_M_cow\\20221229_061532_21C6.mkv: 640x640 Done. (0.013s)\n"
     ]
    },
    {
     "name": "stdout",
     "output_type": "stream",
     "text": [
      "8\n",
      "['7']\n"
     ]
    },
    {
     "name": "stderr",
     "output_type": "stream",
     "text": [
      "video 1/1 (1532/3933) D:\\815_CowDataChecking\\20221229\\20221229_M_cow\\20221229_061532_21C6.mkv: 640x640 Done. (0.014s)\n",
      "video 1/1 (1533/3933) D:\\815_CowDataChecking\\20221229\\20221229_M_cow\\20221229_061532_21C6.mkv: 640x640 Done. (0.012s)\n",
      "video 1/1 (1534/3933) D:\\815_CowDataChecking\\20221229\\20221229_M_cow\\20221229_061532_21C6.mkv: 640x640 Done. (0.013s)\n",
      "video 1/1 (1535/3933) D:\\815_CowDataChecking\\20221229\\20221229_M_cow\\20221229_061532_21C6.mkv: 640x640 Done. (0.015s)\n",
      "video 1/1 (1536/3933) D:\\815_CowDataChecking\\20221229\\20221229_M_cow\\20221229_061532_21C6.mkv: 640x640 Done. (0.014s)\n",
      "video 1/1 (1537/3933) D:\\815_CowDataChecking\\20221229\\20221229_M_cow\\20221229_061532_21C6.mkv: 640x640 Done. (0.013s)\n",
      "video 1/1 (1538/3933) D:\\815_CowDataChecking\\20221229\\20221229_M_cow\\20221229_061532_21C6.mkv: 640x640 Done. (0.015s)\n",
      "C:\\Users\\thithilab\\anaconda3\\envs\\yolov5_april\\lib\\site-packages\\ipykernel_launcher.py:11: FutureWarning: `multichannel` is a deprecated argument name for `hog`. It will be removed in version 1.0. Please use `channel_axis` instead.\n",
      "  # This is added back by InteractiveShellApp.init_path()\n",
      "C:\\Users\\thithilab\\anaconda3\\envs\\yolov5_april\\lib\\site-packages\\sklearn\\preprocessing\\_label.py:154: DataConversionWarning: A column-vector y was passed when a 1d array was expected. Please change the shape of y to (n_samples, ), for example using ravel().\n",
      "  y = column_or_1d(y, warn=True)\n",
      "video 1/1 (1539/3933) D:\\815_CowDataChecking\\20221229\\20221229_M_cow\\20221229_061532_21C6.mkv: 640x640 1 cow, Done. (0.015s)\n"
     ]
    },
    {
     "name": "stdout",
     "output_type": "stream",
     "text": [
      "8\n",
      "['7']\n"
     ]
    },
    {
     "name": "stderr",
     "output_type": "stream",
     "text": [
      "C:\\Users\\thithilab\\anaconda3\\envs\\yolov5_april\\lib\\site-packages\\ipykernel_launcher.py:11: FutureWarning: `multichannel` is a deprecated argument name for `hog`. It will be removed in version 1.0. Please use `channel_axis` instead.\n",
      "  # This is added back by InteractiveShellApp.init_path()\n",
      "C:\\Users\\thithilab\\anaconda3\\envs\\yolov5_april\\lib\\site-packages\\sklearn\\preprocessing\\_label.py:154: DataConversionWarning: A column-vector y was passed when a 1d array was expected. Please change the shape of y to (n_samples, ), for example using ravel().\n",
      "  y = column_or_1d(y, warn=True)\n",
      "video 1/1 (1540/3933) D:\\815_CowDataChecking\\20221229\\20221229_M_cow\\20221229_061532_21C6.mkv: 640x640 1 cow, Done. (0.014s)\n"
     ]
    },
    {
     "name": "stdout",
     "output_type": "stream",
     "text": [
      "8\n",
      "['7']\n"
     ]
    },
    {
     "name": "stderr",
     "output_type": "stream",
     "text": [
      "C:\\Users\\thithilab\\anaconda3\\envs\\yolov5_april\\lib\\site-packages\\ipykernel_launcher.py:11: FutureWarning: `multichannel` is a deprecated argument name for `hog`. It will be removed in version 1.0. Please use `channel_axis` instead.\n",
      "  # This is added back by InteractiveShellApp.init_path()\n",
      "C:\\Users\\thithilab\\anaconda3\\envs\\yolov5_april\\lib\\site-packages\\sklearn\\preprocessing\\_label.py:154: DataConversionWarning: A column-vector y was passed when a 1d array was expected. Please change the shape of y to (n_samples, ), for example using ravel().\n",
      "  y = column_or_1d(y, warn=True)\n",
      "video 1/1 (1541/3933) D:\\815_CowDataChecking\\20221229\\20221229_M_cow\\20221229_061532_21C6.mkv: 640x640 1 cow, Done. (0.014s)\n"
     ]
    },
    {
     "name": "stdout",
     "output_type": "stream",
     "text": [
      "8\n",
      "['7']\n"
     ]
    },
    {
     "name": "stderr",
     "output_type": "stream",
     "text": [
      "C:\\Users\\thithilab\\anaconda3\\envs\\yolov5_april\\lib\\site-packages\\ipykernel_launcher.py:11: FutureWarning: `multichannel` is a deprecated argument name for `hog`. It will be removed in version 1.0. Please use `channel_axis` instead.\n",
      "  # This is added back by InteractiveShellApp.init_path()\n",
      "C:\\Users\\thithilab\\anaconda3\\envs\\yolov5_april\\lib\\site-packages\\sklearn\\preprocessing\\_label.py:154: DataConversionWarning: A column-vector y was passed when a 1d array was expected. Please change the shape of y to (n_samples, ), for example using ravel().\n",
      "  y = column_or_1d(y, warn=True)\n",
      "video 1/1 (1542/3933) D:\\815_CowDataChecking\\20221229\\20221229_M_cow\\20221229_061532_21C6.mkv: 640x640 1 cow, Done. (0.014s)\n"
     ]
    },
    {
     "name": "stdout",
     "output_type": "stream",
     "text": [
      "8\n",
      "['7']\n"
     ]
    },
    {
     "name": "stderr",
     "output_type": "stream",
     "text": [
      "C:\\Users\\thithilab\\anaconda3\\envs\\yolov5_april\\lib\\site-packages\\ipykernel_launcher.py:11: FutureWarning: `multichannel` is a deprecated argument name for `hog`. It will be removed in version 1.0. Please use `channel_axis` instead.\n",
      "  # This is added back by InteractiveShellApp.init_path()\n",
      "C:\\Users\\thithilab\\anaconda3\\envs\\yolov5_april\\lib\\site-packages\\sklearn\\preprocessing\\_label.py:154: DataConversionWarning: A column-vector y was passed when a 1d array was expected. Please change the shape of y to (n_samples, ), for example using ravel().\n",
      "  y = column_or_1d(y, warn=True)\n",
      "video 1/1 (1543/3933) D:\\815_CowDataChecking\\20221229\\20221229_M_cow\\20221229_061532_21C6.mkv: 640x640 1 cow, Done. (0.014s)\n"
     ]
    },
    {
     "name": "stdout",
     "output_type": "stream",
     "text": [
      "8\n",
      "['7']\n"
     ]
    },
    {
     "name": "stderr",
     "output_type": "stream",
     "text": [
      "C:\\Users\\thithilab\\anaconda3\\envs\\yolov5_april\\lib\\site-packages\\ipykernel_launcher.py:11: FutureWarning: `multichannel` is a deprecated argument name for `hog`. It will be removed in version 1.0. Please use `channel_axis` instead.\n",
      "  # This is added back by InteractiveShellApp.init_path()\n",
      "C:\\Users\\thithilab\\anaconda3\\envs\\yolov5_april\\lib\\site-packages\\sklearn\\preprocessing\\_label.py:154: DataConversionWarning: A column-vector y was passed when a 1d array was expected. Please change the shape of y to (n_samples, ), for example using ravel().\n",
      "  y = column_or_1d(y, warn=True)\n",
      "video 1/1 (1544/3933) D:\\815_CowDataChecking\\20221229\\20221229_M_cow\\20221229_061532_21C6.mkv: 640x640 1 cow, Done. (0.013s)\n"
     ]
    },
    {
     "name": "stdout",
     "output_type": "stream",
     "text": [
      "8\n",
      "['7']\n"
     ]
    },
    {
     "name": "stderr",
     "output_type": "stream",
     "text": [
      "C:\\Users\\thithilab\\anaconda3\\envs\\yolov5_april\\lib\\site-packages\\ipykernel_launcher.py:11: FutureWarning: `multichannel` is a deprecated argument name for `hog`. It will be removed in version 1.0. Please use `channel_axis` instead.\n",
      "  # This is added back by InteractiveShellApp.init_path()\n",
      "C:\\Users\\thithilab\\anaconda3\\envs\\yolov5_april\\lib\\site-packages\\sklearn\\preprocessing\\_label.py:154: DataConversionWarning: A column-vector y was passed when a 1d array was expected. Please change the shape of y to (n_samples, ), for example using ravel().\n",
      "  y = column_or_1d(y, warn=True)\n",
      "video 1/1 (1545/3933) D:\\815_CowDataChecking\\20221229\\20221229_M_cow\\20221229_061532_21C6.mkv: 640x640 1 cow, Done. (0.013s)\n"
     ]
    },
    {
     "name": "stdout",
     "output_type": "stream",
     "text": [
      "8\n",
      "['7']\n"
     ]
    },
    {
     "name": "stderr",
     "output_type": "stream",
     "text": [
      "C:\\Users\\thithilab\\anaconda3\\envs\\yolov5_april\\lib\\site-packages\\ipykernel_launcher.py:11: FutureWarning: `multichannel` is a deprecated argument name for `hog`. It will be removed in version 1.0. Please use `channel_axis` instead.\n",
      "  # This is added back by InteractiveShellApp.init_path()\n",
      "C:\\Users\\thithilab\\anaconda3\\envs\\yolov5_april\\lib\\site-packages\\sklearn\\preprocessing\\_label.py:154: DataConversionWarning: A column-vector y was passed when a 1d array was expected. Please change the shape of y to (n_samples, ), for example using ravel().\n",
      "  y = column_or_1d(y, warn=True)\n",
      "video 1/1 (1546/3933) D:\\815_CowDataChecking\\20221229\\20221229_M_cow\\20221229_061532_21C6.mkv: 640x640 1 cow, Done. (0.014s)\n"
     ]
    },
    {
     "name": "stdout",
     "output_type": "stream",
     "text": [
      "8\n",
      "['7']\n"
     ]
    },
    {
     "name": "stderr",
     "output_type": "stream",
     "text": [
      "C:\\Users\\thithilab\\anaconda3\\envs\\yolov5_april\\lib\\site-packages\\ipykernel_launcher.py:11: FutureWarning: `multichannel` is a deprecated argument name for `hog`. It will be removed in version 1.0. Please use `channel_axis` instead.\n",
      "  # This is added back by InteractiveShellApp.init_path()\n",
      "C:\\Users\\thithilab\\anaconda3\\envs\\yolov5_april\\lib\\site-packages\\sklearn\\preprocessing\\_label.py:154: DataConversionWarning: A column-vector y was passed when a 1d array was expected. Please change the shape of y to (n_samples, ), for example using ravel().\n",
      "  y = column_or_1d(y, warn=True)\n",
      "video 1/1 (1547/3933) D:\\815_CowDataChecking\\20221229\\20221229_M_cow\\20221229_061532_21C6.mkv: 640x640 1 cow, Done. (0.013s)\n"
     ]
    },
    {
     "name": "stdout",
     "output_type": "stream",
     "text": [
      "8\n",
      "['7']\n"
     ]
    },
    {
     "name": "stderr",
     "output_type": "stream",
     "text": [
      "C:\\Users\\thithilab\\anaconda3\\envs\\yolov5_april\\lib\\site-packages\\ipykernel_launcher.py:11: FutureWarning: `multichannel` is a deprecated argument name for `hog`. It will be removed in version 1.0. Please use `channel_axis` instead.\n",
      "  # This is added back by InteractiveShellApp.init_path()\n",
      "C:\\Users\\thithilab\\anaconda3\\envs\\yolov5_april\\lib\\site-packages\\sklearn\\preprocessing\\_label.py:154: DataConversionWarning: A column-vector y was passed when a 1d array was expected. Please change the shape of y to (n_samples, ), for example using ravel().\n",
      "  y = column_or_1d(y, warn=True)\n",
      "video 1/1 (1548/3933) D:\\815_CowDataChecking\\20221229\\20221229_M_cow\\20221229_061532_21C6.mkv: 640x640 1 cow, Done. (0.014s)\n"
     ]
    },
    {
     "name": "stdout",
     "output_type": "stream",
     "text": [
      "8\n",
      "['7']\n"
     ]
    },
    {
     "name": "stderr",
     "output_type": "stream",
     "text": [
      "C:\\Users\\thithilab\\anaconda3\\envs\\yolov5_april\\lib\\site-packages\\ipykernel_launcher.py:11: FutureWarning: `multichannel` is a deprecated argument name for `hog`. It will be removed in version 1.0. Please use `channel_axis` instead.\n",
      "  # This is added back by InteractiveShellApp.init_path()\n",
      "C:\\Users\\thithilab\\anaconda3\\envs\\yolov5_april\\lib\\site-packages\\sklearn\\preprocessing\\_label.py:154: DataConversionWarning: A column-vector y was passed when a 1d array was expected. Please change the shape of y to (n_samples, ), for example using ravel().\n",
      "  y = column_or_1d(y, warn=True)\n",
      "video 1/1 (1549/3933) D:\\815_CowDataChecking\\20221229\\20221229_M_cow\\20221229_061532_21C6.mkv: 640x640 1 cow, Done. (0.014s)\n"
     ]
    },
    {
     "name": "stdout",
     "output_type": "stream",
     "text": [
      "8\n",
      "['7']\n"
     ]
    },
    {
     "name": "stderr",
     "output_type": "stream",
     "text": [
      "C:\\Users\\thithilab\\anaconda3\\envs\\yolov5_april\\lib\\site-packages\\ipykernel_launcher.py:11: FutureWarning: `multichannel` is a deprecated argument name for `hog`. It will be removed in version 1.0. Please use `channel_axis` instead.\n",
      "  # This is added back by InteractiveShellApp.init_path()\n",
      "C:\\Users\\thithilab\\anaconda3\\envs\\yolov5_april\\lib\\site-packages\\sklearn\\preprocessing\\_label.py:154: DataConversionWarning: A column-vector y was passed when a 1d array was expected. Please change the shape of y to (n_samples, ), for example using ravel().\n",
      "  y = column_or_1d(y, warn=True)\n",
      "video 1/1 (1550/3933) D:\\815_CowDataChecking\\20221229\\20221229_M_cow\\20221229_061532_21C6.mkv: 640x640 1 cow, Done. (0.014s)\n"
     ]
    },
    {
     "name": "stdout",
     "output_type": "stream",
     "text": [
      "8\n",
      "['7']\n"
     ]
    },
    {
     "name": "stderr",
     "output_type": "stream",
     "text": [
      "C:\\Users\\thithilab\\anaconda3\\envs\\yolov5_april\\lib\\site-packages\\ipykernel_launcher.py:11: FutureWarning: `multichannel` is a deprecated argument name for `hog`. It will be removed in version 1.0. Please use `channel_axis` instead.\n",
      "  # This is added back by InteractiveShellApp.init_path()\n",
      "C:\\Users\\thithilab\\anaconda3\\envs\\yolov5_april\\lib\\site-packages\\sklearn\\preprocessing\\_label.py:154: DataConversionWarning: A column-vector y was passed when a 1d array was expected. Please change the shape of y to (n_samples, ), for example using ravel().\n",
      "  y = column_or_1d(y, warn=True)\n",
      "video 1/1 (1551/3933) D:\\815_CowDataChecking\\20221229\\20221229_M_cow\\20221229_061532_21C6.mkv: 640x640 1 cow, Done. (0.014s)\n"
     ]
    },
    {
     "name": "stdout",
     "output_type": "stream",
     "text": [
      "8\n",
      "['7']\n"
     ]
    },
    {
     "name": "stderr",
     "output_type": "stream",
     "text": [
      "C:\\Users\\thithilab\\anaconda3\\envs\\yolov5_april\\lib\\site-packages\\ipykernel_launcher.py:11: FutureWarning: `multichannel` is a deprecated argument name for `hog`. It will be removed in version 1.0. Please use `channel_axis` instead.\n",
      "  # This is added back by InteractiveShellApp.init_path()\n",
      "C:\\Users\\thithilab\\anaconda3\\envs\\yolov5_april\\lib\\site-packages\\sklearn\\preprocessing\\_label.py:154: DataConversionWarning: A column-vector y was passed when a 1d array was expected. Please change the shape of y to (n_samples, ), for example using ravel().\n",
      "  y = column_or_1d(y, warn=True)\n",
      "video 1/1 (1552/3933) D:\\815_CowDataChecking\\20221229\\20221229_M_cow\\20221229_061532_21C6.mkv: 640x640 1 cow, Done. (0.015s)\n"
     ]
    },
    {
     "name": "stdout",
     "output_type": "stream",
     "text": [
      "8\n",
      "['7']\n"
     ]
    },
    {
     "name": "stderr",
     "output_type": "stream",
     "text": [
      "C:\\Users\\thithilab\\anaconda3\\envs\\yolov5_april\\lib\\site-packages\\ipykernel_launcher.py:11: FutureWarning: `multichannel` is a deprecated argument name for `hog`. It will be removed in version 1.0. Please use `channel_axis` instead.\n",
      "  # This is added back by InteractiveShellApp.init_path()\n",
      "C:\\Users\\thithilab\\anaconda3\\envs\\yolov5_april\\lib\\site-packages\\sklearn\\preprocessing\\_label.py:154: DataConversionWarning: A column-vector y was passed when a 1d array was expected. Please change the shape of y to (n_samples, ), for example using ravel().\n",
      "  y = column_or_1d(y, warn=True)\n",
      "video 1/1 (1553/3933) D:\\815_CowDataChecking\\20221229\\20221229_M_cow\\20221229_061532_21C6.mkv: 640x640 1 cow, Done. (0.014s)\n"
     ]
    },
    {
     "name": "stdout",
     "output_type": "stream",
     "text": [
      "8\n",
      "['7']\n"
     ]
    },
    {
     "name": "stderr",
     "output_type": "stream",
     "text": [
      "C:\\Users\\thithilab\\anaconda3\\envs\\yolov5_april\\lib\\site-packages\\ipykernel_launcher.py:11: FutureWarning: `multichannel` is a deprecated argument name for `hog`. It will be removed in version 1.0. Please use `channel_axis` instead.\n",
      "  # This is added back by InteractiveShellApp.init_path()\n",
      "C:\\Users\\thithilab\\anaconda3\\envs\\yolov5_april\\lib\\site-packages\\sklearn\\preprocessing\\_label.py:154: DataConversionWarning: A column-vector y was passed when a 1d array was expected. Please change the shape of y to (n_samples, ), for example using ravel().\n",
      "  y = column_or_1d(y, warn=True)\n",
      "video 1/1 (1554/3933) D:\\815_CowDataChecking\\20221229\\20221229_M_cow\\20221229_061532_21C6.mkv: 640x640 1 cow, Done. (0.013s)\n",
      "video 1/1 (1555/3933) D:\\815_CowDataChecking\\20221229\\20221229_M_cow\\20221229_061532_21C6.mkv: 640x640 1 cow, Done. (0.013s)\n"
     ]
    },
    {
     "name": "stdout",
     "output_type": "stream",
     "text": [
      "8\n",
      "['7']\n"
     ]
    },
    {
     "name": "stderr",
     "output_type": "stream",
     "text": [
      "video 1/1 (1556/3933) D:\\815_CowDataChecking\\20221229\\20221229_M_cow\\20221229_061532_21C6.mkv: 640x640 1 cow, Done. (0.016s)\n",
      "video 1/1 (1557/3933) D:\\815_CowDataChecking\\20221229\\20221229_M_cow\\20221229_061532_21C6.mkv: 640x640 1 cow, Done. (0.014s)\n",
      "video 1/1 (1558/3933) D:\\815_CowDataChecking\\20221229\\20221229_M_cow\\20221229_061532_21C6.mkv: 640x640 1 cow, Done. (0.014s)\n",
      "video 1/1 (1559/3933) D:\\815_CowDataChecking\\20221229\\20221229_M_cow\\20221229_061532_21C6.mkv: 640x640 1 cow, Done. (0.013s)\n",
      "video 1/1 (1560/3933) D:\\815_CowDataChecking\\20221229\\20221229_M_cow\\20221229_061532_21C6.mkv: 640x640 1 cow, Done. (0.013s)\n",
      "video 1/1 (1561/3933) D:\\815_CowDataChecking\\20221229\\20221229_M_cow\\20221229_061532_21C6.mkv: 640x640 1 cow, Done. (0.015s)\n",
      "video 1/1 (1562/3933) D:\\815_CowDataChecking\\20221229\\20221229_M_cow\\20221229_061532_21C6.mkv: 640x640 1 cow, Done. (0.014s)\n",
      "video 1/1 (1563/3933) D:\\815_CowDataChecking\\20221229\\20221229_M_cow\\20221229_061532_21C6.mkv: 640x640 1 cow, Done. (0.018s)\n",
      "video 1/1 (1564/3933) D:\\815_CowDataChecking\\20221229\\20221229_M_cow\\20221229_061532_21C6.mkv: 640x640 1 cow, Done. (0.016s)\n",
      "video 1/1 (1565/3933) D:\\815_CowDataChecking\\20221229\\20221229_M_cow\\20221229_061532_21C6.mkv: 640x640 1 cow, Done. (0.015s)\n",
      "video 1/1 (1566/3933) D:\\815_CowDataChecking\\20221229\\20221229_M_cow\\20221229_061532_21C6.mkv: 640x640 1 cow, Done. (0.013s)\n",
      "video 1/1 (1567/3933) D:\\815_CowDataChecking\\20221229\\20221229_M_cow\\20221229_061532_21C6.mkv: 640x640 1 cow, Done. (0.014s)\n",
      "video 1/1 (1568/3933) D:\\815_CowDataChecking\\20221229\\20221229_M_cow\\20221229_061532_21C6.mkv: 640x640 1 cow, Done. (0.013s)\n",
      "video 1/1 (1569/3933) D:\\815_CowDataChecking\\20221229\\20221229_M_cow\\20221229_061532_21C6.mkv: 640x640 1 cow, Done. (0.014s)\n",
      "video 1/1 (1570/3933) D:\\815_CowDataChecking\\20221229\\20221229_M_cow\\20221229_061532_21C6.mkv: 640x640 1 cow, Done. (0.015s)\n",
      "video 1/1 (1571/3933) D:\\815_CowDataChecking\\20221229\\20221229_M_cow\\20221229_061532_21C6.mkv: 640x640 1 cow, Done. (0.016s)\n",
      "video 1/1 (1572/3933) D:\\815_CowDataChecking\\20221229\\20221229_M_cow\\20221229_061532_21C6.mkv: 640x640 Done. (0.019s)\n",
      "video 1/1 (1573/3933) D:\\815_CowDataChecking\\20221229\\20221229_M_cow\\20221229_061532_21C6.mkv: 640x640 Done. (0.015s)\n",
      "video 1/1 (1574/3933) D:\\815_CowDataChecking\\20221229\\20221229_M_cow\\20221229_061532_21C6.mkv: 640x640 Done. (0.021s)\n",
      "video 1/1 (1575/3933) D:\\815_CowDataChecking\\20221229\\20221229_M_cow\\20221229_061532_21C6.mkv: 640x640 Done. (0.021s)\n",
      "video 1/1 (1576/3933) D:\\815_CowDataChecking\\20221229\\20221229_M_cow\\20221229_061532_21C6.mkv: 640x640 Done. (0.018s)\n",
      "video 1/1 (1577/3933) D:\\815_CowDataChecking\\20221229\\20221229_M_cow\\20221229_061532_21C6.mkv: 640x640 Done. (0.019s)\n",
      "video 1/1 (1578/3933) D:\\815_CowDataChecking\\20221229\\20221229_M_cow\\20221229_061532_21C6.mkv: 640x640 Done. (0.018s)\n",
      "video 1/1 (1579/3933) D:\\815_CowDataChecking\\20221229\\20221229_M_cow\\20221229_061532_21C6.mkv: 640x640 Done. (0.019s)\n",
      "video 1/1 (1580/3933) D:\\815_CowDataChecking\\20221229\\20221229_M_cow\\20221229_061532_21C6.mkv: 640x640 Done. (0.020s)\n",
      "video 1/1 (1581/3933) D:\\815_CowDataChecking\\20221229\\20221229_M_cow\\20221229_061532_21C6.mkv: 640x640 Done. (0.019s)\n",
      "video 1/1 (1582/3933) D:\\815_CowDataChecking\\20221229\\20221229_M_cow\\20221229_061532_21C6.mkv: 640x640 Done. (0.019s)\n",
      "video 1/1 (1583/3933) D:\\815_CowDataChecking\\20221229\\20221229_M_cow\\20221229_061532_21C6.mkv: 640x640 Done. (0.021s)\n",
      "video 1/1 (1584/3933) D:\\815_CowDataChecking\\20221229\\20221229_M_cow\\20221229_061532_21C6.mkv: 640x640 Done. (0.021s)\n",
      "video 1/1 (1585/3933) D:\\815_CowDataChecking\\20221229\\20221229_M_cow\\20221229_061532_21C6.mkv: 640x640 Done. (0.018s)\n",
      "video 1/1 (1586/3933) D:\\815_CowDataChecking\\20221229\\20221229_M_cow\\20221229_061532_21C6.mkv: 640x640 Done. (0.021s)\n",
      "video 1/1 (1587/3933) D:\\815_CowDataChecking\\20221229\\20221229_M_cow\\20221229_061532_21C6.mkv: 640x640 Done. (0.021s)\n",
      "video 1/1 (1588/3933) D:\\815_CowDataChecking\\20221229\\20221229_M_cow\\20221229_061532_21C6.mkv: 640x640 Done. (0.020s)\n",
      "video 1/1 (1589/3933) D:\\815_CowDataChecking\\20221229\\20221229_M_cow\\20221229_061532_21C6.mkv: 640x640 Done. (0.021s)\n",
      "video 1/1 (1590/3933) D:\\815_CowDataChecking\\20221229\\20221229_M_cow\\20221229_061532_21C6.mkv: 640x640 Done. (0.020s)\n",
      "video 1/1 (1591/3933) D:\\815_CowDataChecking\\20221229\\20221229_M_cow\\20221229_061532_21C6.mkv: 640x640 Done. (0.024s)\n",
      "video 1/1 (1592/3933) D:\\815_CowDataChecking\\20221229\\20221229_M_cow\\20221229_061532_21C6.mkv: 640x640 Done. (0.019s)\n",
      "video 1/1 (1593/3933) D:\\815_CowDataChecking\\20221229\\20221229_M_cow\\20221229_061532_21C6.mkv: 640x640 Done. (0.021s)\n",
      "video 1/1 (1594/3933) D:\\815_CowDataChecking\\20221229\\20221229_M_cow\\20221229_061532_21C6.mkv: 640x640 Done. (0.021s)\n",
      "video 1/1 (1595/3933) D:\\815_CowDataChecking\\20221229\\20221229_M_cow\\20221229_061532_21C6.mkv: 640x640 Done. (0.020s)\n",
      "video 1/1 (1596/3933) D:\\815_CowDataChecking\\20221229\\20221229_M_cow\\20221229_061532_21C6.mkv: 640x640 Done. (0.021s)\n",
      "video 1/1 (1597/3933) D:\\815_CowDataChecking\\20221229\\20221229_M_cow\\20221229_061532_21C6.mkv: 640x640 Done. (0.023s)\n",
      "video 1/1 (1598/3933) D:\\815_CowDataChecking\\20221229\\20221229_M_cow\\20221229_061532_21C6.mkv: 640x640 Done. (0.021s)\n",
      "video 1/1 (1599/3933) D:\\815_CowDataChecking\\20221229\\20221229_M_cow\\20221229_061532_21C6.mkv: 640x640 Done. (0.022s)\n",
      "video 1/1 (1600/3933) D:\\815_CowDataChecking\\20221229\\20221229_M_cow\\20221229_061532_21C6.mkv: 640x640 Done. (0.023s)\n",
      "video 1/1 (1601/3933) D:\\815_CowDataChecking\\20221229\\20221229_M_cow\\20221229_061532_21C6.mkv: 640x640 Done. (0.022s)\n",
      "video 1/1 (1602/3933) D:\\815_CowDataChecking\\20221229\\20221229_M_cow\\20221229_061532_21C6.mkv: 640x640 Done. (0.024s)\n",
      "video 1/1 (1603/3933) D:\\815_CowDataChecking\\20221229\\20221229_M_cow\\20221229_061532_21C6.mkv: 640x640 Done. (0.024s)\n",
      "video 1/1 (1604/3933) D:\\815_CowDataChecking\\20221229\\20221229_M_cow\\20221229_061532_21C6.mkv: 640x640 Done. (0.025s)\n",
      "video 1/1 (1605/3933) D:\\815_CowDataChecking\\20221229\\20221229_M_cow\\20221229_061532_21C6.mkv: 640x640 Done. (0.026s)\n",
      "video 1/1 (1606/3933) D:\\815_CowDataChecking\\20221229\\20221229_M_cow\\20221229_061532_21C6.mkv: 640x640 Done. (0.022s)\n",
      "video 1/1 (1607/3933) D:\\815_CowDataChecking\\20221229\\20221229_M_cow\\20221229_061532_21C6.mkv: 640x640 Done. (0.025s)\n",
      "video 1/1 (1608/3933) D:\\815_CowDataChecking\\20221229\\20221229_M_cow\\20221229_061532_21C6.mkv: 640x640 Done. (0.026s)\n",
      "video 1/1 (1609/3933) D:\\815_CowDataChecking\\20221229\\20221229_M_cow\\20221229_061532_21C6.mkv: 640x640 Done. (0.025s)\n",
      "video 1/1 (1610/3933) D:\\815_CowDataChecking\\20221229\\20221229_M_cow\\20221229_061532_21C6.mkv: 640x640 Done. (0.025s)\n",
      "video 1/1 (1611/3933) D:\\815_CowDataChecking\\20221229\\20221229_M_cow\\20221229_061532_21C6.mkv: 640x640 Done. (0.024s)\n",
      "video 1/1 (1612/3933) D:\\815_CowDataChecking\\20221229\\20221229_M_cow\\20221229_061532_21C6.mkv: 640x640 Done. (0.026s)\n",
      "video 1/1 (1613/3933) D:\\815_CowDataChecking\\20221229\\20221229_M_cow\\20221229_061532_21C6.mkv: 640x640 Done. (0.027s)\n",
      "video 1/1 (1614/3933) D:\\815_CowDataChecking\\20221229\\20221229_M_cow\\20221229_061532_21C6.mkv: 640x640 1 cow, Done. (0.026s)\n",
      "video 1/1 (1615/3933) D:\\815_CowDataChecking\\20221229\\20221229_M_cow\\20221229_061532_21C6.mkv: 640x640 1 cow, Done. (0.025s)\n",
      "video 1/1 (1616/3933) D:\\815_CowDataChecking\\20221229\\20221229_M_cow\\20221229_061532_21C6.mkv: 640x640 1 cow, Done. (0.028s)\n",
      "video 1/1 (1617/3933) D:\\815_CowDataChecking\\20221229\\20221229_M_cow\\20221229_061532_21C6.mkv: 640x640 Done. (0.027s)\n",
      "video 1/1 (1618/3933) D:\\815_CowDataChecking\\20221229\\20221229_M_cow\\20221229_061532_21C6.mkv: 640x640 Done. (0.027s)\n",
      "video 1/1 (1619/3933) D:\\815_CowDataChecking\\20221229\\20221229_M_cow\\20221229_061532_21C6.mkv: 640x640 1 cow, Done. (0.026s)\n",
      "video 1/1 (1620/3933) D:\\815_CowDataChecking\\20221229\\20221229_M_cow\\20221229_061532_21C6.mkv: 640x640 Done. (0.027s)\n",
      "video 1/1 (1621/3933) D:\\815_CowDataChecking\\20221229\\20221229_M_cow\\20221229_061532_21C6.mkv: 640x640 Done. (0.027s)\n",
      "video 1/1 (1622/3933) D:\\815_CowDataChecking\\20221229\\20221229_M_cow\\20221229_061532_21C6.mkv: 640x640 Done. (0.027s)\n",
      "video 1/1 (1623/3933) D:\\815_CowDataChecking\\20221229\\20221229_M_cow\\20221229_061532_21C6.mkv: 640x640 Done. (0.026s)\n",
      "video 1/1 (1624/3933) D:\\815_CowDataChecking\\20221229\\20221229_M_cow\\20221229_061532_21C6.mkv: 640x640 1 cow, Done. (0.029s)\n",
      "video 1/1 (1625/3933) D:\\815_CowDataChecking\\20221229\\20221229_M_cow\\20221229_061532_21C6.mkv: 640x640 1 cow, Done. (0.030s)\n",
      "video 1/1 (1626/3933) D:\\815_CowDataChecking\\20221229\\20221229_M_cow\\20221229_061532_21C6.mkv: 640x640 1 cow, Done. (0.028s)\n",
      "video 1/1 (1627/3933) D:\\815_CowDataChecking\\20221229\\20221229_M_cow\\20221229_061532_21C6.mkv: 640x640 1 cow, Done. (0.027s)\n",
      "video 1/1 (1628/3933) D:\\815_CowDataChecking\\20221229\\20221229_M_cow\\20221229_061532_21C6.mkv: 640x640 1 cow, Done. (0.029s)\n",
      "video 1/1 (1629/3933) D:\\815_CowDataChecking\\20221229\\20221229_M_cow\\20221229_061532_21C6.mkv: 640x640 1 cow, Done. (0.031s)\n",
      "video 1/1 (1630/3933) D:\\815_CowDataChecking\\20221229\\20221229_M_cow\\20221229_061532_21C6.mkv: 640x640 Done. (0.030s)\n",
      "video 1/1 (1631/3933) D:\\815_CowDataChecking\\20221229\\20221229_M_cow\\20221229_061532_21C6.mkv: 640x640 Done. (0.030s)\n",
      "video 1/1 (1632/3933) D:\\815_CowDataChecking\\20221229\\20221229_M_cow\\20221229_061532_21C6.mkv: 640x640 Done. (0.029s)\n",
      "video 1/1 (1633/3933) D:\\815_CowDataChecking\\20221229\\20221229_M_cow\\20221229_061532_21C6.mkv: 640x640 1 cow, Done. (0.028s)\n",
      "video 1/1 (1634/3933) D:\\815_CowDataChecking\\20221229\\20221229_M_cow\\20221229_061532_21C6.mkv: 640x640 1 cow, Done. (0.028s)\n",
      "video 1/1 (1635/3933) D:\\815_CowDataChecking\\20221229\\20221229_M_cow\\20221229_061532_21C6.mkv: 640x640 1 cow, Done. (0.029s)\n",
      "video 1/1 (1636/3933) D:\\815_CowDataChecking\\20221229\\20221229_M_cow\\20221229_061532_21C6.mkv: 640x640 1 cow, Done. (0.029s)\n",
      "video 1/1 (1637/3933) D:\\815_CowDataChecking\\20221229\\20221229_M_cow\\20221229_061532_21C6.mkv: 640x640 1 cow, Done. (0.031s)\n",
      "video 1/1 (1638/3933) D:\\815_CowDataChecking\\20221229\\20221229_M_cow\\20221229_061532_21C6.mkv: 640x640 1 cow, Done. (0.048s)\n",
      "video 1/1 (1639/3933) D:\\815_CowDataChecking\\20221229\\20221229_M_cow\\20221229_061532_21C6.mkv: 640x640 1 cow, Done. (0.055s)\n",
      "video 1/1 (1640/3933) D:\\815_CowDataChecking\\20221229\\20221229_M_cow\\20221229_061532_21C6.mkv: 640x640 1 cow, Done. (0.042s)\n",
      "video 1/1 (1641/3933) D:\\815_CowDataChecking\\20221229\\20221229_M_cow\\20221229_061532_21C6.mkv: 640x640 1 cow, Done. (0.048s)\n",
      "video 1/1 (1642/3933) D:\\815_CowDataChecking\\20221229\\20221229_M_cow\\20221229_061532_21C6.mkv: 640x640 1 cow, Done. (0.049s)\n",
      "video 1/1 (1643/3933) D:\\815_CowDataChecking\\20221229\\20221229_M_cow\\20221229_061532_21C6.mkv: 640x640 1 cow, Done. (0.047s)\n",
      "video 1/1 (1644/3933) D:\\815_CowDataChecking\\20221229\\20221229_M_cow\\20221229_061532_21C6.mkv: 640x640 1 cow, Done. (0.050s)\n",
      "video 1/1 (1645/3933) D:\\815_CowDataChecking\\20221229\\20221229_M_cow\\20221229_061532_21C6.mkv: 640x640 1 cow, Done. (0.018s)\n",
      "video 1/1 (1646/3933) D:\\815_CowDataChecking\\20221229\\20221229_M_cow\\20221229_061532_21C6.mkv: 640x640 1 cow, Done. (0.021s)\n",
      "video 1/1 (1647/3933) D:\\815_CowDataChecking\\20221229\\20221229_M_cow\\20221229_061532_21C6.mkv: 640x640 1 cow, Done. (0.018s)\n",
      "video 1/1 (1648/3933) D:\\815_CowDataChecking\\20221229\\20221229_M_cow\\20221229_061532_21C6.mkv: 640x640 1 cow, Done. (0.017s)\n",
      "video 1/1 (1649/3933) D:\\815_CowDataChecking\\20221229\\20221229_M_cow\\20221229_061532_21C6.mkv: 640x640 1 cow, Done. (0.018s)\n",
      "video 1/1 (1650/3933) D:\\815_CowDataChecking\\20221229\\20221229_M_cow\\20221229_061532_21C6.mkv: 640x640 1 cow, Done. (0.015s)\n",
      "video 1/1 (1651/3933) D:\\815_CowDataChecking\\20221229\\20221229_M_cow\\20221229_061532_21C6.mkv: 640x640 1 cow, Done. (0.016s)\n",
      "video 1/1 (1652/3933) D:\\815_CowDataChecking\\20221229\\20221229_M_cow\\20221229_061532_21C6.mkv: 640x640 1 cow, Done. (0.018s)\n",
      "video 1/1 (1653/3933) D:\\815_CowDataChecking\\20221229\\20221229_M_cow\\20221229_061532_21C6.mkv: 640x640 1 cow, Done. (0.015s)\n",
      "video 1/1 (1654/3933) D:\\815_CowDataChecking\\20221229\\20221229_M_cow\\20221229_061532_21C6.mkv: 640x640 1 cow, Done. (0.020s)\n",
      "video 1/1 (1655/3933) D:\\815_CowDataChecking\\20221229\\20221229_M_cow\\20221229_061532_21C6.mkv: 640x640 1 cow, Done. (0.017s)\n",
      "video 1/1 (1656/3933) D:\\815_CowDataChecking\\20221229\\20221229_M_cow\\20221229_061532_21C6.mkv: 640x640 1 cow, Done. (0.017s)\n",
      "video 1/1 (1657/3933) D:\\815_CowDataChecking\\20221229\\20221229_M_cow\\20221229_061532_21C6.mkv: 640x640 1 cow, Done. (0.017s)\n",
      "video 1/1 (1658/3933) D:\\815_CowDataChecking\\20221229\\20221229_M_cow\\20221229_061532_21C6.mkv: 640x640 1 cow, Done. (0.017s)\n",
      "video 1/1 (1659/3933) D:\\815_CowDataChecking\\20221229\\20221229_M_cow\\20221229_061532_21C6.mkv: 640x640 1 cow, Done. (0.015s)\n",
      "video 1/1 (1660/3933) D:\\815_CowDataChecking\\20221229\\20221229_M_cow\\20221229_061532_21C6.mkv: 640x640 1 cow, Done. (0.017s)\n",
      "video 1/1 (1661/3933) D:\\815_CowDataChecking\\20221229\\20221229_M_cow\\20221229_061532_21C6.mkv: 640x640 1 cow, Done. (0.016s)\n",
      "video 1/1 (1662/3933) D:\\815_CowDataChecking\\20221229\\20221229_M_cow\\20221229_061532_21C6.mkv: 640x640 1 cow, Done. (0.019s)\n",
      "video 1/1 (1663/3933) D:\\815_CowDataChecking\\20221229\\20221229_M_cow\\20221229_061532_21C6.mkv: 640x640 1 cow, Done. (0.017s)\n",
      "video 1/1 (1664/3933) D:\\815_CowDataChecking\\20221229\\20221229_M_cow\\20221229_061532_21C6.mkv: 640x640 1 cow, Done. (0.018s)\n",
      "video 1/1 (1665/3933) D:\\815_CowDataChecking\\20221229\\20221229_M_cow\\20221229_061532_21C6.mkv: 640x640 1 cow, Done. (0.016s)\n",
      "video 1/1 (1666/3933) D:\\815_CowDataChecking\\20221229\\20221229_M_cow\\20221229_061532_21C6.mkv: 640x640 1 cow, Done. (0.018s)\n",
      "video 1/1 (1667/3933) D:\\815_CowDataChecking\\20221229\\20221229_M_cow\\20221229_061532_21C6.mkv: 640x640 1 cow, Done. (0.018s)\n",
      "video 1/1 (1668/3933) D:\\815_CowDataChecking\\20221229\\20221229_M_cow\\20221229_061532_21C6.mkv: 640x640 1 cow, Done. (0.014s)\n",
      "video 1/1 (1669/3933) D:\\815_CowDataChecking\\20221229\\20221229_M_cow\\20221229_061532_21C6.mkv: 640x640 1 cow, Done. (0.013s)\n",
      "video 1/1 (1670/3933) D:\\815_CowDataChecking\\20221229\\20221229_M_cow\\20221229_061532_21C6.mkv: 640x640 1 cow, Done. (0.027s)\n",
      "video 1/1 (1671/3933) D:\\815_CowDataChecking\\20221229\\20221229_M_cow\\20221229_061532_21C6.mkv: 640x640 1 cow, Done. (0.031s)\n",
      "video 1/1 (1672/3933) D:\\815_CowDataChecking\\20221229\\20221229_M_cow\\20221229_061532_21C6.mkv: 640x640 1 cow, Done. (0.019s)\n",
      "video 1/1 (1673/3933) D:\\815_CowDataChecking\\20221229\\20221229_M_cow\\20221229_061532_21C6.mkv: 640x640 1 cow, Done. (0.018s)\n",
      "video 1/1 (1674/3933) D:\\815_CowDataChecking\\20221229\\20221229_M_cow\\20221229_061532_21C6.mkv: 640x640 1 cow, Done. (0.020s)\n",
      "video 1/1 (1675/3933) D:\\815_CowDataChecking\\20221229\\20221229_M_cow\\20221229_061532_21C6.mkv: 640x640 1 cow, Done. (0.020s)\n",
      "video 1/1 (1676/3933) D:\\815_CowDataChecking\\20221229\\20221229_M_cow\\20221229_061532_21C6.mkv: 640x640 1 cow, Done. (0.015s)\n",
      "video 1/1 (1677/3933) D:\\815_CowDataChecking\\20221229\\20221229_M_cow\\20221229_061532_21C6.mkv: 640x640 1 cow, Done. (0.014s)\n",
      "video 1/1 (1678/3933) D:\\815_CowDataChecking\\20221229\\20221229_M_cow\\20221229_061532_21C6.mkv: 640x640 1 cow, Done. (0.013s)\n",
      "video 1/1 (1679/3933) D:\\815_CowDataChecking\\20221229\\20221229_M_cow\\20221229_061532_21C6.mkv: 640x640 1 cow, Done. (0.014s)\n",
      "video 1/1 (1680/3933) D:\\815_CowDataChecking\\20221229\\20221229_M_cow\\20221229_061532_21C6.mkv: 640x640 1 cow, Done. (0.014s)\n",
      "video 1/1 (1681/3933) D:\\815_CowDataChecking\\20221229\\20221229_M_cow\\20221229_061532_21C6.mkv: 640x640 1 cow, Done. (0.016s)\n",
      "video 1/1 (1682/3933) D:\\815_CowDataChecking\\20221229\\20221229_M_cow\\20221229_061532_21C6.mkv: 640x640 1 cow, Done. (0.017s)\n",
      "video 1/1 (1683/3933) D:\\815_CowDataChecking\\20221229\\20221229_M_cow\\20221229_061532_21C6.mkv: 640x640 1 cow, Done. (0.025s)\n",
      "C:\\Users\\thithilab\\anaconda3\\envs\\yolov5_april\\lib\\site-packages\\ipykernel_launcher.py:11: FutureWarning: `multichannel` is a deprecated argument name for `hog`. It will be removed in version 1.0. Please use `channel_axis` instead.\n",
      "  # This is added back by InteractiveShellApp.init_path()\n",
      "C:\\Users\\thithilab\\anaconda3\\envs\\yolov5_april\\lib\\site-packages\\sklearn\\preprocessing\\_label.py:154: DataConversionWarning: A column-vector y was passed when a 1d array was expected. Please change the shape of y to (n_samples, ), for example using ravel().\n",
      "  y = column_or_1d(y, warn=True)\n",
      "C:\\Users\\thithilab\\anaconda3\\envs\\yolov5_april\\lib\\site-packages\\ipykernel_launcher.py:9: FutureWarning: elementwise comparison failed; returning scalar instead, but in the future will perform elementwise comparison\n",
      "  if __name__ == \"__main__\":\n",
      "video 1/1 (1684/3933) D:\\815_CowDataChecking\\20221229\\20221229_M_cow\\20221229_061532_21C6.mkv: 640x640 1 cow, Done. (0.018s)\n"
     ]
    },
    {
     "name": "stdout",
     "output_type": "stream",
     "text": [
      "9\n",
      "['8']\n"
     ]
    },
    {
     "name": "stderr",
     "output_type": "stream",
     "text": [
      "C:\\Users\\thithilab\\anaconda3\\envs\\yolov5_april\\lib\\site-packages\\ipykernel_launcher.py:11: FutureWarning: `multichannel` is a deprecated argument name for `hog`. It will be removed in version 1.0. Please use `channel_axis` instead.\n",
      "  # This is added back by InteractiveShellApp.init_path()\n",
      "C:\\Users\\thithilab\\anaconda3\\envs\\yolov5_april\\lib\\site-packages\\sklearn\\preprocessing\\_label.py:154: DataConversionWarning: A column-vector y was passed when a 1d array was expected. Please change the shape of y to (n_samples, ), for example using ravel().\n",
      "  y = column_or_1d(y, warn=True)\n",
      "video 1/1 (1685/3933) D:\\815_CowDataChecking\\20221229\\20221229_M_cow\\20221229_061532_21C6.mkv: 640x640 1 cow, Done. (0.015s)\n"
     ]
    },
    {
     "name": "stdout",
     "output_type": "stream",
     "text": [
      "9\n",
      "['8']\n"
     ]
    },
    {
     "name": "stderr",
     "output_type": "stream",
     "text": [
      "C:\\Users\\thithilab\\anaconda3\\envs\\yolov5_april\\lib\\site-packages\\ipykernel_launcher.py:11: FutureWarning: `multichannel` is a deprecated argument name for `hog`. It will be removed in version 1.0. Please use `channel_axis` instead.\n",
      "  # This is added back by InteractiveShellApp.init_path()\n",
      "C:\\Users\\thithilab\\anaconda3\\envs\\yolov5_april\\lib\\site-packages\\sklearn\\preprocessing\\_label.py:154: DataConversionWarning: A column-vector y was passed when a 1d array was expected. Please change the shape of y to (n_samples, ), for example using ravel().\n",
      "  y = column_or_1d(y, warn=True)\n",
      "video 1/1 (1686/3933) D:\\815_CowDataChecking\\20221229\\20221229_M_cow\\20221229_061532_21C6.mkv: 640x640 1 cow, Done. (0.017s)\n"
     ]
    },
    {
     "name": "stdout",
     "output_type": "stream",
     "text": [
      "9\n",
      "['8']\n"
     ]
    },
    {
     "name": "stderr",
     "output_type": "stream",
     "text": [
      "C:\\Users\\thithilab\\anaconda3\\envs\\yolov5_april\\lib\\site-packages\\ipykernel_launcher.py:11: FutureWarning: `multichannel` is a deprecated argument name for `hog`. It will be removed in version 1.0. Please use `channel_axis` instead.\n",
      "  # This is added back by InteractiveShellApp.init_path()\n",
      "C:\\Users\\thithilab\\anaconda3\\envs\\yolov5_april\\lib\\site-packages\\sklearn\\preprocessing\\_label.py:154: DataConversionWarning: A column-vector y was passed when a 1d array was expected. Please change the shape of y to (n_samples, ), for example using ravel().\n",
      "  y = column_or_1d(y, warn=True)\n",
      "video 1/1 (1687/3933) D:\\815_CowDataChecking\\20221229\\20221229_M_cow\\20221229_061532_21C6.mkv: 640x640 1 cow, Done. (0.015s)\n"
     ]
    },
    {
     "name": "stdout",
     "output_type": "stream",
     "text": [
      "9\n",
      "['8']\n"
     ]
    },
    {
     "name": "stderr",
     "output_type": "stream",
     "text": [
      "C:\\Users\\thithilab\\anaconda3\\envs\\yolov5_april\\lib\\site-packages\\ipykernel_launcher.py:11: FutureWarning: `multichannel` is a deprecated argument name for `hog`. It will be removed in version 1.0. Please use `channel_axis` instead.\n",
      "  # This is added back by InteractiveShellApp.init_path()\n",
      "C:\\Users\\thithilab\\anaconda3\\envs\\yolov5_april\\lib\\site-packages\\sklearn\\preprocessing\\_label.py:154: DataConversionWarning: A column-vector y was passed when a 1d array was expected. Please change the shape of y to (n_samples, ), for example using ravel().\n",
      "  y = column_or_1d(y, warn=True)\n",
      "video 1/1 (1688/3933) D:\\815_CowDataChecking\\20221229\\20221229_M_cow\\20221229_061532_21C6.mkv: 640x640 1 cow, Done. (0.015s)\n"
     ]
    },
    {
     "name": "stdout",
     "output_type": "stream",
     "text": [
      "9\n",
      "['8']\n"
     ]
    },
    {
     "name": "stderr",
     "output_type": "stream",
     "text": [
      "C:\\Users\\thithilab\\anaconda3\\envs\\yolov5_april\\lib\\site-packages\\ipykernel_launcher.py:11: FutureWarning: `multichannel` is a deprecated argument name for `hog`. It will be removed in version 1.0. Please use `channel_axis` instead.\n",
      "  # This is added back by InteractiveShellApp.init_path()\n",
      "C:\\Users\\thithilab\\anaconda3\\envs\\yolov5_april\\lib\\site-packages\\sklearn\\preprocessing\\_label.py:154: DataConversionWarning: A column-vector y was passed when a 1d array was expected. Please change the shape of y to (n_samples, ), for example using ravel().\n",
      "  y = column_or_1d(y, warn=True)\n",
      "video 1/1 (1689/3933) D:\\815_CowDataChecking\\20221229\\20221229_M_cow\\20221229_061532_21C6.mkv: 640x640 1 cow, Done. (0.020s)\n"
     ]
    },
    {
     "name": "stdout",
     "output_type": "stream",
     "text": [
      "9\n",
      "['8']\n"
     ]
    },
    {
     "name": "stderr",
     "output_type": "stream",
     "text": [
      "C:\\Users\\thithilab\\anaconda3\\envs\\yolov5_april\\lib\\site-packages\\ipykernel_launcher.py:11: FutureWarning: `multichannel` is a deprecated argument name for `hog`. It will be removed in version 1.0. Please use `channel_axis` instead.\n",
      "  # This is added back by InteractiveShellApp.init_path()\n",
      "C:\\Users\\thithilab\\anaconda3\\envs\\yolov5_april\\lib\\site-packages\\sklearn\\preprocessing\\_label.py:154: DataConversionWarning: A column-vector y was passed when a 1d array was expected. Please change the shape of y to (n_samples, ), for example using ravel().\n",
      "  y = column_or_1d(y, warn=True)\n",
      "video 1/1 (1690/3933) D:\\815_CowDataChecking\\20221229\\20221229_M_cow\\20221229_061532_21C6.mkv: 640x640 1 cow, Done. (0.013s)\n"
     ]
    },
    {
     "name": "stdout",
     "output_type": "stream",
     "text": [
      "9\n",
      "['8']\n"
     ]
    },
    {
     "name": "stderr",
     "output_type": "stream",
     "text": [
      "C:\\Users\\thithilab\\anaconda3\\envs\\yolov5_april\\lib\\site-packages\\ipykernel_launcher.py:11: FutureWarning: `multichannel` is a deprecated argument name for `hog`. It will be removed in version 1.0. Please use `channel_axis` instead.\n",
      "  # This is added back by InteractiveShellApp.init_path()\n",
      "C:\\Users\\thithilab\\anaconda3\\envs\\yolov5_april\\lib\\site-packages\\sklearn\\preprocessing\\_label.py:154: DataConversionWarning: A column-vector y was passed when a 1d array was expected. Please change the shape of y to (n_samples, ), for example using ravel().\n",
      "  y = column_or_1d(y, warn=True)\n",
      "video 1/1 (1691/3933) D:\\815_CowDataChecking\\20221229\\20221229_M_cow\\20221229_061532_21C6.mkv: 640x640 1 cow, Done. (0.013s)\n"
     ]
    },
    {
     "name": "stdout",
     "output_type": "stream",
     "text": [
      "9\n",
      "['8']\n"
     ]
    },
    {
     "name": "stderr",
     "output_type": "stream",
     "text": [
      "C:\\Users\\thithilab\\anaconda3\\envs\\yolov5_april\\lib\\site-packages\\ipykernel_launcher.py:11: FutureWarning: `multichannel` is a deprecated argument name for `hog`. It will be removed in version 1.0. Please use `channel_axis` instead.\n",
      "  # This is added back by InteractiveShellApp.init_path()\n",
      "C:\\Users\\thithilab\\anaconda3\\envs\\yolov5_april\\lib\\site-packages\\sklearn\\preprocessing\\_label.py:154: DataConversionWarning: A column-vector y was passed when a 1d array was expected. Please change the shape of y to (n_samples, ), for example using ravel().\n",
      "  y = column_or_1d(y, warn=True)\n",
      "video 1/1 (1692/3933) D:\\815_CowDataChecking\\20221229\\20221229_M_cow\\20221229_061532_21C6.mkv: 640x640 1 cow, Done. (0.017s)\n"
     ]
    },
    {
     "name": "stdout",
     "output_type": "stream",
     "text": [
      "9\n",
      "['8']\n"
     ]
    },
    {
     "name": "stderr",
     "output_type": "stream",
     "text": [
      "C:\\Users\\thithilab\\anaconda3\\envs\\yolov5_april\\lib\\site-packages\\ipykernel_launcher.py:11: FutureWarning: `multichannel` is a deprecated argument name for `hog`. It will be removed in version 1.0. Please use `channel_axis` instead.\n",
      "  # This is added back by InteractiveShellApp.init_path()\n",
      "C:\\Users\\thithilab\\anaconda3\\envs\\yolov5_april\\lib\\site-packages\\sklearn\\preprocessing\\_label.py:154: DataConversionWarning: A column-vector y was passed when a 1d array was expected. Please change the shape of y to (n_samples, ), for example using ravel().\n",
      "  y = column_or_1d(y, warn=True)\n",
      "video 1/1 (1693/3933) D:\\815_CowDataChecking\\20221229\\20221229_M_cow\\20221229_061532_21C6.mkv: 640x640 1 cow, Done. (0.016s)\n"
     ]
    },
    {
     "name": "stdout",
     "output_type": "stream",
     "text": [
      "9\n",
      "['8']\n"
     ]
    },
    {
     "name": "stderr",
     "output_type": "stream",
     "text": [
      "C:\\Users\\thithilab\\anaconda3\\envs\\yolov5_april\\lib\\site-packages\\ipykernel_launcher.py:11: FutureWarning: `multichannel` is a deprecated argument name for `hog`. It will be removed in version 1.0. Please use `channel_axis` instead.\n",
      "  # This is added back by InteractiveShellApp.init_path()\n",
      "C:\\Users\\thithilab\\anaconda3\\envs\\yolov5_april\\lib\\site-packages\\sklearn\\preprocessing\\_label.py:154: DataConversionWarning: A column-vector y was passed when a 1d array was expected. Please change the shape of y to (n_samples, ), for example using ravel().\n",
      "  y = column_or_1d(y, warn=True)\n",
      "video 1/1 (1694/3933) D:\\815_CowDataChecking\\20221229\\20221229_M_cow\\20221229_061532_21C6.mkv: 640x640 1 cow, Done. (0.013s)\n"
     ]
    },
    {
     "name": "stdout",
     "output_type": "stream",
     "text": [
      "9\n",
      "['8']\n"
     ]
    },
    {
     "name": "stderr",
     "output_type": "stream",
     "text": [
      "C:\\Users\\thithilab\\anaconda3\\envs\\yolov5_april\\lib\\site-packages\\ipykernel_launcher.py:11: FutureWarning: `multichannel` is a deprecated argument name for `hog`. It will be removed in version 1.0. Please use `channel_axis` instead.\n",
      "  # This is added back by InteractiveShellApp.init_path()\n",
      "C:\\Users\\thithilab\\anaconda3\\envs\\yolov5_april\\lib\\site-packages\\sklearn\\preprocessing\\_label.py:154: DataConversionWarning: A column-vector y was passed when a 1d array was expected. Please change the shape of y to (n_samples, ), for example using ravel().\n",
      "  y = column_or_1d(y, warn=True)\n",
      "video 1/1 (1695/3933) D:\\815_CowDataChecking\\20221229\\20221229_M_cow\\20221229_061532_21C6.mkv: 640x640 1 cow, Done. (0.015s)\n"
     ]
    },
    {
     "name": "stdout",
     "output_type": "stream",
     "text": [
      "9\n",
      "['8']\n"
     ]
    },
    {
     "name": "stderr",
     "output_type": "stream",
     "text": [
      "C:\\Users\\thithilab\\anaconda3\\envs\\yolov5_april\\lib\\site-packages\\ipykernel_launcher.py:11: FutureWarning: `multichannel` is a deprecated argument name for `hog`. It will be removed in version 1.0. Please use `channel_axis` instead.\n",
      "  # This is added back by InteractiveShellApp.init_path()\n",
      "C:\\Users\\thithilab\\anaconda3\\envs\\yolov5_april\\lib\\site-packages\\sklearn\\preprocessing\\_label.py:154: DataConversionWarning: A column-vector y was passed when a 1d array was expected. Please change the shape of y to (n_samples, ), for example using ravel().\n",
      "  y = column_or_1d(y, warn=True)\n",
      "video 1/1 (1696/3933) D:\\815_CowDataChecking\\20221229\\20221229_M_cow\\20221229_061532_21C6.mkv: 640x640 1 cow, Done. (0.014s)\n"
     ]
    },
    {
     "name": "stdout",
     "output_type": "stream",
     "text": [
      "9\n",
      "['8']\n"
     ]
    },
    {
     "name": "stderr",
     "output_type": "stream",
     "text": [
      "C:\\Users\\thithilab\\anaconda3\\envs\\yolov5_april\\lib\\site-packages\\ipykernel_launcher.py:11: FutureWarning: `multichannel` is a deprecated argument name for `hog`. It will be removed in version 1.0. Please use `channel_axis` instead.\n",
      "  # This is added back by InteractiveShellApp.init_path()\n",
      "C:\\Users\\thithilab\\anaconda3\\envs\\yolov5_april\\lib\\site-packages\\sklearn\\preprocessing\\_label.py:154: DataConversionWarning: A column-vector y was passed when a 1d array was expected. Please change the shape of y to (n_samples, ), for example using ravel().\n",
      "  y = column_or_1d(y, warn=True)\n",
      "video 1/1 (1697/3933) D:\\815_CowDataChecking\\20221229\\20221229_M_cow\\20221229_061532_21C6.mkv: 640x640 1 cow, Done. (0.013s)\n"
     ]
    },
    {
     "name": "stdout",
     "output_type": "stream",
     "text": [
      "9\n",
      "['8']\n"
     ]
    },
    {
     "name": "stderr",
     "output_type": "stream",
     "text": [
      "C:\\Users\\thithilab\\anaconda3\\envs\\yolov5_april\\lib\\site-packages\\ipykernel_launcher.py:11: FutureWarning: `multichannel` is a deprecated argument name for `hog`. It will be removed in version 1.0. Please use `channel_axis` instead.\n",
      "  # This is added back by InteractiveShellApp.init_path()\n",
      "C:\\Users\\thithilab\\anaconda3\\envs\\yolov5_april\\lib\\site-packages\\sklearn\\preprocessing\\_label.py:154: DataConversionWarning: A column-vector y was passed when a 1d array was expected. Please change the shape of y to (n_samples, ), for example using ravel().\n",
      "  y = column_or_1d(y, warn=True)\n",
      "video 1/1 (1698/3933) D:\\815_CowDataChecking\\20221229\\20221229_M_cow\\20221229_061532_21C6.mkv: 640x640 1 cow, Done. (0.014s)\n"
     ]
    },
    {
     "name": "stdout",
     "output_type": "stream",
     "text": [
      "9\n",
      "['8']\n"
     ]
    },
    {
     "name": "stderr",
     "output_type": "stream",
     "text": [
      "C:\\Users\\thithilab\\anaconda3\\envs\\yolov5_april\\lib\\site-packages\\ipykernel_launcher.py:11: FutureWarning: `multichannel` is a deprecated argument name for `hog`. It will be removed in version 1.0. Please use `channel_axis` instead.\n",
      "  # This is added back by InteractiveShellApp.init_path()\n",
      "C:\\Users\\thithilab\\anaconda3\\envs\\yolov5_april\\lib\\site-packages\\sklearn\\preprocessing\\_label.py:154: DataConversionWarning: A column-vector y was passed when a 1d array was expected. Please change the shape of y to (n_samples, ), for example using ravel().\n",
      "  y = column_or_1d(y, warn=True)\n",
      "video 1/1 (1699/3933) D:\\815_CowDataChecking\\20221229\\20221229_M_cow\\20221229_061532_21C6.mkv: 640x640 1 cow, Done. (0.012s)\n"
     ]
    },
    {
     "name": "stdout",
     "output_type": "stream",
     "text": [
      "9\n",
      "['8']\n"
     ]
    },
    {
     "name": "stderr",
     "output_type": "stream",
     "text": [
      "C:\\Users\\thithilab\\anaconda3\\envs\\yolov5_april\\lib\\site-packages\\ipykernel_launcher.py:11: FutureWarning: `multichannel` is a deprecated argument name for `hog`. It will be removed in version 1.0. Please use `channel_axis` instead.\n",
      "  # This is added back by InteractiveShellApp.init_path()\n",
      "C:\\Users\\thithilab\\anaconda3\\envs\\yolov5_april\\lib\\site-packages\\sklearn\\preprocessing\\_label.py:154: DataConversionWarning: A column-vector y was passed when a 1d array was expected. Please change the shape of y to (n_samples, ), for example using ravel().\n",
      "  y = column_or_1d(y, warn=True)\n",
      "video 1/1 (1700/3933) D:\\815_CowDataChecking\\20221229\\20221229_M_cow\\20221229_061532_21C6.mkv: 640x640 1 cow, Done. (0.013s)\n"
     ]
    },
    {
     "name": "stdout",
     "output_type": "stream",
     "text": [
      "9\n",
      "['8']\n"
     ]
    },
    {
     "name": "stderr",
     "output_type": "stream",
     "text": [
      "C:\\Users\\thithilab\\anaconda3\\envs\\yolov5_april\\lib\\site-packages\\ipykernel_launcher.py:11: FutureWarning: `multichannel` is a deprecated argument name for `hog`. It will be removed in version 1.0. Please use `channel_axis` instead.\n",
      "  # This is added back by InteractiveShellApp.init_path()\n",
      "C:\\Users\\thithilab\\anaconda3\\envs\\yolov5_april\\lib\\site-packages\\sklearn\\preprocessing\\_label.py:154: DataConversionWarning: A column-vector y was passed when a 1d array was expected. Please change the shape of y to (n_samples, ), for example using ravel().\n",
      "  y = column_or_1d(y, warn=True)\n",
      "video 1/1 (1701/3933) D:\\815_CowDataChecking\\20221229\\20221229_M_cow\\20221229_061532_21C6.mkv: 640x640 1 cow, Done. (0.016s)\n"
     ]
    },
    {
     "name": "stdout",
     "output_type": "stream",
     "text": [
      "9\n",
      "['8']\n"
     ]
    },
    {
     "name": "stderr",
     "output_type": "stream",
     "text": [
      "C:\\Users\\thithilab\\anaconda3\\envs\\yolov5_april\\lib\\site-packages\\ipykernel_launcher.py:11: FutureWarning: `multichannel` is a deprecated argument name for `hog`. It will be removed in version 1.0. Please use `channel_axis` instead.\n",
      "  # This is added back by InteractiveShellApp.init_path()\n",
      "C:\\Users\\thithilab\\anaconda3\\envs\\yolov5_april\\lib\\site-packages\\sklearn\\preprocessing\\_label.py:154: DataConversionWarning: A column-vector y was passed when a 1d array was expected. Please change the shape of y to (n_samples, ), for example using ravel().\n",
      "  y = column_or_1d(y, warn=True)\n",
      "video 1/1 (1702/3933) D:\\815_CowDataChecking\\20221229\\20221229_M_cow\\20221229_061532_21C6.mkv: 640x640 1 cow, Done. (0.020s)\n"
     ]
    },
    {
     "name": "stdout",
     "output_type": "stream",
     "text": [
      "9\n",
      "['8']\n"
     ]
    },
    {
     "name": "stderr",
     "output_type": "stream",
     "text": [
      "C:\\Users\\thithilab\\anaconda3\\envs\\yolov5_april\\lib\\site-packages\\ipykernel_launcher.py:11: FutureWarning: `multichannel` is a deprecated argument name for `hog`. It will be removed in version 1.0. Please use `channel_axis` instead.\n",
      "  # This is added back by InteractiveShellApp.init_path()\n",
      "C:\\Users\\thithilab\\anaconda3\\envs\\yolov5_april\\lib\\site-packages\\sklearn\\preprocessing\\_label.py:154: DataConversionWarning: A column-vector y was passed when a 1d array was expected. Please change the shape of y to (n_samples, ), for example using ravel().\n",
      "  y = column_or_1d(y, warn=True)\n",
      "video 1/1 (1703/3933) D:\\815_CowDataChecking\\20221229\\20221229_M_cow\\20221229_061532_21C6.mkv: 640x640 1 cow, Done. (0.014s)\n"
     ]
    },
    {
     "name": "stdout",
     "output_type": "stream",
     "text": [
      "9\n",
      "['8']\n"
     ]
    },
    {
     "name": "stderr",
     "output_type": "stream",
     "text": [
      "C:\\Users\\thithilab\\anaconda3\\envs\\yolov5_april\\lib\\site-packages\\ipykernel_launcher.py:11: FutureWarning: `multichannel` is a deprecated argument name for `hog`. It will be removed in version 1.0. Please use `channel_axis` instead.\n",
      "  # This is added back by InteractiveShellApp.init_path()\n",
      "C:\\Users\\thithilab\\anaconda3\\envs\\yolov5_april\\lib\\site-packages\\sklearn\\preprocessing\\_label.py:154: DataConversionWarning: A column-vector y was passed when a 1d array was expected. Please change the shape of y to (n_samples, ), for example using ravel().\n",
      "  y = column_or_1d(y, warn=True)\n",
      "video 1/1 (1704/3933) D:\\815_CowDataChecking\\20221229\\20221229_M_cow\\20221229_061532_21C6.mkv: 640x640 1 cow, Done. (0.020s)\n"
     ]
    },
    {
     "name": "stdout",
     "output_type": "stream",
     "text": [
      "9\n",
      "['8']\n"
     ]
    },
    {
     "name": "stderr",
     "output_type": "stream",
     "text": [
      "C:\\Users\\thithilab\\anaconda3\\envs\\yolov5_april\\lib\\site-packages\\ipykernel_launcher.py:11: FutureWarning: `multichannel` is a deprecated argument name for `hog`. It will be removed in version 1.0. Please use `channel_axis` instead.\n",
      "  # This is added back by InteractiveShellApp.init_path()\n",
      "C:\\Users\\thithilab\\anaconda3\\envs\\yolov5_april\\lib\\site-packages\\sklearn\\preprocessing\\_label.py:154: DataConversionWarning: A column-vector y was passed when a 1d array was expected. Please change the shape of y to (n_samples, ), for example using ravel().\n",
      "  y = column_or_1d(y, warn=True)\n",
      "video 1/1 (1705/3933) D:\\815_CowDataChecking\\20221229\\20221229_M_cow\\20221229_061532_21C6.mkv: 640x640 1 cow, Done. (0.015s)\n"
     ]
    },
    {
     "name": "stdout",
     "output_type": "stream",
     "text": [
      "9\n",
      "['8']\n"
     ]
    },
    {
     "name": "stderr",
     "output_type": "stream",
     "text": [
      "C:\\Users\\thithilab\\anaconda3\\envs\\yolov5_april\\lib\\site-packages\\ipykernel_launcher.py:11: FutureWarning: `multichannel` is a deprecated argument name for `hog`. It will be removed in version 1.0. Please use `channel_axis` instead.\n",
      "  # This is added back by InteractiveShellApp.init_path()\n",
      "C:\\Users\\thithilab\\anaconda3\\envs\\yolov5_april\\lib\\site-packages\\sklearn\\preprocessing\\_label.py:154: DataConversionWarning: A column-vector y was passed when a 1d array was expected. Please change the shape of y to (n_samples, ), for example using ravel().\n",
      "  y = column_or_1d(y, warn=True)\n",
      "video 1/1 (1706/3933) D:\\815_CowDataChecking\\20221229\\20221229_M_cow\\20221229_061532_21C6.mkv: 640x640 1 cow, Done. (0.015s)\n"
     ]
    },
    {
     "name": "stdout",
     "output_type": "stream",
     "text": [
      "9\n",
      "['8']\n"
     ]
    },
    {
     "name": "stderr",
     "output_type": "stream",
     "text": [
      "C:\\Users\\thithilab\\anaconda3\\envs\\yolov5_april\\lib\\site-packages\\ipykernel_launcher.py:11: FutureWarning: `multichannel` is a deprecated argument name for `hog`. It will be removed in version 1.0. Please use `channel_axis` instead.\n",
      "  # This is added back by InteractiveShellApp.init_path()\n",
      "C:\\Users\\thithilab\\anaconda3\\envs\\yolov5_april\\lib\\site-packages\\sklearn\\preprocessing\\_label.py:154: DataConversionWarning: A column-vector y was passed when a 1d array was expected. Please change the shape of y to (n_samples, ), for example using ravel().\n",
      "  y = column_or_1d(y, warn=True)\n",
      "video 1/1 (1707/3933) D:\\815_CowDataChecking\\20221229\\20221229_M_cow\\20221229_061532_21C6.mkv: 640x640 1 cow, Done. (0.021s)\n"
     ]
    },
    {
     "name": "stdout",
     "output_type": "stream",
     "text": [
      "9\n",
      "['8']\n"
     ]
    },
    {
     "name": "stderr",
     "output_type": "stream",
     "text": [
      "C:\\Users\\thithilab\\anaconda3\\envs\\yolov5_april\\lib\\site-packages\\ipykernel_launcher.py:11: FutureWarning: `multichannel` is a deprecated argument name for `hog`. It will be removed in version 1.0. Please use `channel_axis` instead.\n",
      "  # This is added back by InteractiveShellApp.init_path()\n",
      "C:\\Users\\thithilab\\anaconda3\\envs\\yolov5_april\\lib\\site-packages\\sklearn\\preprocessing\\_label.py:154: DataConversionWarning: A column-vector y was passed when a 1d array was expected. Please change the shape of y to (n_samples, ), for example using ravel().\n",
      "  y = column_or_1d(y, warn=True)\n",
      "video 1/1 (1708/3933) D:\\815_CowDataChecking\\20221229\\20221229_M_cow\\20221229_061532_21C6.mkv: 640x640 1 cow, Done. (0.013s)\n"
     ]
    },
    {
     "name": "stdout",
     "output_type": "stream",
     "text": [
      "9\n",
      "['8']\n"
     ]
    },
    {
     "name": "stderr",
     "output_type": "stream",
     "text": [
      "C:\\Users\\thithilab\\anaconda3\\envs\\yolov5_april\\lib\\site-packages\\ipykernel_launcher.py:11: FutureWarning: `multichannel` is a deprecated argument name for `hog`. It will be removed in version 1.0. Please use `channel_axis` instead.\n",
      "  # This is added back by InteractiveShellApp.init_path()\n",
      "C:\\Users\\thithilab\\anaconda3\\envs\\yolov5_april\\lib\\site-packages\\sklearn\\preprocessing\\_label.py:154: DataConversionWarning: A column-vector y was passed when a 1d array was expected. Please change the shape of y to (n_samples, ), for example using ravel().\n",
      "  y = column_or_1d(y, warn=True)\n",
      "video 1/1 (1709/3933) D:\\815_CowDataChecking\\20221229\\20221229_M_cow\\20221229_061532_21C6.mkv: 640x640 1 cow, Done. (0.019s)\n"
     ]
    },
    {
     "name": "stdout",
     "output_type": "stream",
     "text": [
      "9\n",
      "['8']\n"
     ]
    },
    {
     "name": "stderr",
     "output_type": "stream",
     "text": [
      "C:\\Users\\thithilab\\anaconda3\\envs\\yolov5_april\\lib\\site-packages\\ipykernel_launcher.py:11: FutureWarning: `multichannel` is a deprecated argument name for `hog`. It will be removed in version 1.0. Please use `channel_axis` instead.\n",
      "  # This is added back by InteractiveShellApp.init_path()\n",
      "C:\\Users\\thithilab\\anaconda3\\envs\\yolov5_april\\lib\\site-packages\\sklearn\\preprocessing\\_label.py:154: DataConversionWarning: A column-vector y was passed when a 1d array was expected. Please change the shape of y to (n_samples, ), for example using ravel().\n",
      "  y = column_or_1d(y, warn=True)\n",
      "video 1/1 (1710/3933) D:\\815_CowDataChecking\\20221229\\20221229_M_cow\\20221229_061532_21C6.mkv: 640x640 1 cow, Done. (0.016s)\n"
     ]
    },
    {
     "name": "stdout",
     "output_type": "stream",
     "text": [
      "9\n",
      "['8']\n"
     ]
    },
    {
     "name": "stderr",
     "output_type": "stream",
     "text": [
      "C:\\Users\\thithilab\\anaconda3\\envs\\yolov5_april\\lib\\site-packages\\ipykernel_launcher.py:11: FutureWarning: `multichannel` is a deprecated argument name for `hog`. It will be removed in version 1.0. Please use `channel_axis` instead.\n",
      "  # This is added back by InteractiveShellApp.init_path()\n",
      "C:\\Users\\thithilab\\anaconda3\\envs\\yolov5_april\\lib\\site-packages\\sklearn\\preprocessing\\_label.py:154: DataConversionWarning: A column-vector y was passed when a 1d array was expected. Please change the shape of y to (n_samples, ), for example using ravel().\n",
      "  y = column_or_1d(y, warn=True)\n",
      "video 1/1 (1711/3933) D:\\815_CowDataChecking\\20221229\\20221229_M_cow\\20221229_061532_21C6.mkv: 640x640 1 cow, Done. (0.019s)\n"
     ]
    },
    {
     "name": "stdout",
     "output_type": "stream",
     "text": [
      "9\n",
      "['8']\n"
     ]
    },
    {
     "name": "stderr",
     "output_type": "stream",
     "text": [
      "C:\\Users\\thithilab\\anaconda3\\envs\\yolov5_april\\lib\\site-packages\\ipykernel_launcher.py:11: FutureWarning: `multichannel` is a deprecated argument name for `hog`. It will be removed in version 1.0. Please use `channel_axis` instead.\n",
      "  # This is added back by InteractiveShellApp.init_path()\n",
      "C:\\Users\\thithilab\\anaconda3\\envs\\yolov5_april\\lib\\site-packages\\sklearn\\preprocessing\\_label.py:154: DataConversionWarning: A column-vector y was passed when a 1d array was expected. Please change the shape of y to (n_samples, ), for example using ravel().\n",
      "  y = column_or_1d(y, warn=True)\n",
      "video 1/1 (1712/3933) D:\\815_CowDataChecking\\20221229\\20221229_M_cow\\20221229_061532_21C6.mkv: 640x640 1 cow, Done. (0.021s)\n"
     ]
    },
    {
     "name": "stdout",
     "output_type": "stream",
     "text": [
      "9\n",
      "['8']\n"
     ]
    },
    {
     "name": "stderr",
     "output_type": "stream",
     "text": [
      "C:\\Users\\thithilab\\anaconda3\\envs\\yolov5_april\\lib\\site-packages\\ipykernel_launcher.py:11: FutureWarning: `multichannel` is a deprecated argument name for `hog`. It will be removed in version 1.0. Please use `channel_axis` instead.\n",
      "  # This is added back by InteractiveShellApp.init_path()\n",
      "C:\\Users\\thithilab\\anaconda3\\envs\\yolov5_april\\lib\\site-packages\\sklearn\\preprocessing\\_label.py:154: DataConversionWarning: A column-vector y was passed when a 1d array was expected. Please change the shape of y to (n_samples, ), for example using ravel().\n",
      "  y = column_or_1d(y, warn=True)\n",
      "video 1/1 (1713/3933) D:\\815_CowDataChecking\\20221229\\20221229_M_cow\\20221229_061532_21C6.mkv: 640x640 1 cow, Done. (0.015s)\n"
     ]
    },
    {
     "name": "stdout",
     "output_type": "stream",
     "text": [
      "9\n",
      "['8']\n"
     ]
    },
    {
     "name": "stderr",
     "output_type": "stream",
     "text": [
      "C:\\Users\\thithilab\\anaconda3\\envs\\yolov5_april\\lib\\site-packages\\ipykernel_launcher.py:11: FutureWarning: `multichannel` is a deprecated argument name for `hog`. It will be removed in version 1.0. Please use `channel_axis` instead.\n",
      "  # This is added back by InteractiveShellApp.init_path()\n",
      "C:\\Users\\thithilab\\anaconda3\\envs\\yolov5_april\\lib\\site-packages\\sklearn\\preprocessing\\_label.py:154: DataConversionWarning: A column-vector y was passed when a 1d array was expected. Please change the shape of y to (n_samples, ), for example using ravel().\n",
      "  y = column_or_1d(y, warn=True)\n",
      "video 1/1 (1714/3933) D:\\815_CowDataChecking\\20221229\\20221229_M_cow\\20221229_061532_21C6.mkv: 640x640 1 cow, Done. (0.016s)\n"
     ]
    },
    {
     "name": "stdout",
     "output_type": "stream",
     "text": [
      "9\n",
      "['8']\n"
     ]
    },
    {
     "name": "stderr",
     "output_type": "stream",
     "text": [
      "C:\\Users\\thithilab\\anaconda3\\envs\\yolov5_april\\lib\\site-packages\\ipykernel_launcher.py:11: FutureWarning: `multichannel` is a deprecated argument name for `hog`. It will be removed in version 1.0. Please use `channel_axis` instead.\n",
      "  # This is added back by InteractiveShellApp.init_path()\n",
      "C:\\Users\\thithilab\\anaconda3\\envs\\yolov5_april\\lib\\site-packages\\sklearn\\preprocessing\\_label.py:154: DataConversionWarning: A column-vector y was passed when a 1d array was expected. Please change the shape of y to (n_samples, ), for example using ravel().\n",
      "  y = column_or_1d(y, warn=True)\n",
      "video 1/1 (1715/3933) D:\\815_CowDataChecking\\20221229\\20221229_M_cow\\20221229_061532_21C6.mkv: 640x640 1 cow, Done. (0.015s)\n"
     ]
    },
    {
     "name": "stdout",
     "output_type": "stream",
     "text": [
      "9\n",
      "['8']\n"
     ]
    },
    {
     "name": "stderr",
     "output_type": "stream",
     "text": [
      "C:\\Users\\thithilab\\anaconda3\\envs\\yolov5_april\\lib\\site-packages\\ipykernel_launcher.py:11: FutureWarning: `multichannel` is a deprecated argument name for `hog`. It will be removed in version 1.0. Please use `channel_axis` instead.\n",
      "  # This is added back by InteractiveShellApp.init_path()\n",
      "C:\\Users\\thithilab\\anaconda3\\envs\\yolov5_april\\lib\\site-packages\\sklearn\\preprocessing\\_label.py:154: DataConversionWarning: A column-vector y was passed when a 1d array was expected. Please change the shape of y to (n_samples, ), for example using ravel().\n",
      "  y = column_or_1d(y, warn=True)\n",
      "video 1/1 (1716/3933) D:\\815_CowDataChecking\\20221229\\20221229_M_cow\\20221229_061532_21C6.mkv: 640x640 1 cow, Done. (0.014s)\n"
     ]
    },
    {
     "name": "stdout",
     "output_type": "stream",
     "text": [
      "9\n",
      "['8']\n"
     ]
    },
    {
     "name": "stderr",
     "output_type": "stream",
     "text": [
      "C:\\Users\\thithilab\\anaconda3\\envs\\yolov5_april\\lib\\site-packages\\ipykernel_launcher.py:11: FutureWarning: `multichannel` is a deprecated argument name for `hog`. It will be removed in version 1.0. Please use `channel_axis` instead.\n",
      "  # This is added back by InteractiveShellApp.init_path()\n",
      "C:\\Users\\thithilab\\anaconda3\\envs\\yolov5_april\\lib\\site-packages\\sklearn\\preprocessing\\_label.py:154: DataConversionWarning: A column-vector y was passed when a 1d array was expected. Please change the shape of y to (n_samples, ), for example using ravel().\n",
      "  y = column_or_1d(y, warn=True)\n",
      "video 1/1 (1717/3933) D:\\815_CowDataChecking\\20221229\\20221229_M_cow\\20221229_061532_21C6.mkv: 640x640 1 cow, Done. (0.013s)\n"
     ]
    },
    {
     "name": "stdout",
     "output_type": "stream",
     "text": [
      "9\n",
      "['8']\n"
     ]
    },
    {
     "name": "stderr",
     "output_type": "stream",
     "text": [
      "C:\\Users\\thithilab\\anaconda3\\envs\\yolov5_april\\lib\\site-packages\\ipykernel_launcher.py:11: FutureWarning: `multichannel` is a deprecated argument name for `hog`. It will be removed in version 1.0. Please use `channel_axis` instead.\n",
      "  # This is added back by InteractiveShellApp.init_path()\n",
      "C:\\Users\\thithilab\\anaconda3\\envs\\yolov5_april\\lib\\site-packages\\sklearn\\preprocessing\\_label.py:154: DataConversionWarning: A column-vector y was passed when a 1d array was expected. Please change the shape of y to (n_samples, ), for example using ravel().\n",
      "  y = column_or_1d(y, warn=True)\n",
      "video 1/1 (1718/3933) D:\\815_CowDataChecking\\20221229\\20221229_M_cow\\20221229_061532_21C6.mkv: 640x640 1 cow, Done. (0.021s)\n"
     ]
    },
    {
     "name": "stdout",
     "output_type": "stream",
     "text": [
      "9\n",
      "['8']\n"
     ]
    },
    {
     "name": "stderr",
     "output_type": "stream",
     "text": [
      "C:\\Users\\thithilab\\anaconda3\\envs\\yolov5_april\\lib\\site-packages\\ipykernel_launcher.py:11: FutureWarning: `multichannel` is a deprecated argument name for `hog`. It will be removed in version 1.0. Please use `channel_axis` instead.\n",
      "  # This is added back by InteractiveShellApp.init_path()\n",
      "C:\\Users\\thithilab\\anaconda3\\envs\\yolov5_april\\lib\\site-packages\\sklearn\\preprocessing\\_label.py:154: DataConversionWarning: A column-vector y was passed when a 1d array was expected. Please change the shape of y to (n_samples, ), for example using ravel().\n",
      "  y = column_or_1d(y, warn=True)\n",
      "video 1/1 (1719/3933) D:\\815_CowDataChecking\\20221229\\20221229_M_cow\\20221229_061532_21C6.mkv: 640x640 1 cow, Done. (0.013s)\n"
     ]
    },
    {
     "name": "stdout",
     "output_type": "stream",
     "text": [
      "9\n",
      "['8']\n"
     ]
    },
    {
     "name": "stderr",
     "output_type": "stream",
     "text": [
      "C:\\Users\\thithilab\\anaconda3\\envs\\yolov5_april\\lib\\site-packages\\ipykernel_launcher.py:11: FutureWarning: `multichannel` is a deprecated argument name for `hog`. It will be removed in version 1.0. Please use `channel_axis` instead.\n",
      "  # This is added back by InteractiveShellApp.init_path()\n",
      "C:\\Users\\thithilab\\anaconda3\\envs\\yolov5_april\\lib\\site-packages\\sklearn\\preprocessing\\_label.py:154: DataConversionWarning: A column-vector y was passed when a 1d array was expected. Please change the shape of y to (n_samples, ), for example using ravel().\n",
      "  y = column_or_1d(y, warn=True)\n",
      "video 1/1 (1720/3933) D:\\815_CowDataChecking\\20221229\\20221229_M_cow\\20221229_061532_21C6.mkv: 640x640 1 cow, Done. (0.014s)\n"
     ]
    },
    {
     "name": "stdout",
     "output_type": "stream",
     "text": [
      "9\n",
      "['8']\n"
     ]
    },
    {
     "name": "stderr",
     "output_type": "stream",
     "text": [
      "C:\\Users\\thithilab\\anaconda3\\envs\\yolov5_april\\lib\\site-packages\\ipykernel_launcher.py:11: FutureWarning: `multichannel` is a deprecated argument name for `hog`. It will be removed in version 1.0. Please use `channel_axis` instead.\n",
      "  # This is added back by InteractiveShellApp.init_path()\n",
      "C:\\Users\\thithilab\\anaconda3\\envs\\yolov5_april\\lib\\site-packages\\sklearn\\preprocessing\\_label.py:154: DataConversionWarning: A column-vector y was passed when a 1d array was expected. Please change the shape of y to (n_samples, ), for example using ravel().\n",
      "  y = column_or_1d(y, warn=True)\n",
      "video 1/1 (1721/3933) D:\\815_CowDataChecking\\20221229\\20221229_M_cow\\20221229_061532_21C6.mkv: 640x640 1 cow, Done. (0.016s)\n"
     ]
    },
    {
     "name": "stdout",
     "output_type": "stream",
     "text": [
      "9\n",
      "['8']\n"
     ]
    },
    {
     "name": "stderr",
     "output_type": "stream",
     "text": [
      "C:\\Users\\thithilab\\anaconda3\\envs\\yolov5_april\\lib\\site-packages\\ipykernel_launcher.py:11: FutureWarning: `multichannel` is a deprecated argument name for `hog`. It will be removed in version 1.0. Please use `channel_axis` instead.\n",
      "  # This is added back by InteractiveShellApp.init_path()\n",
      "C:\\Users\\thithilab\\anaconda3\\envs\\yolov5_april\\lib\\site-packages\\sklearn\\preprocessing\\_label.py:154: DataConversionWarning: A column-vector y was passed when a 1d array was expected. Please change the shape of y to (n_samples, ), for example using ravel().\n",
      "  y = column_or_1d(y, warn=True)\n",
      "video 1/1 (1722/3933) D:\\815_CowDataChecking\\20221229\\20221229_M_cow\\20221229_061532_21C6.mkv: 640x640 1 cow, Done. (0.014s)\n"
     ]
    },
    {
     "name": "stdout",
     "output_type": "stream",
     "text": [
      "9\n",
      "['8']\n"
     ]
    },
    {
     "name": "stderr",
     "output_type": "stream",
     "text": [
      "C:\\Users\\thithilab\\anaconda3\\envs\\yolov5_april\\lib\\site-packages\\ipykernel_launcher.py:11: FutureWarning: `multichannel` is a deprecated argument name for `hog`. It will be removed in version 1.0. Please use `channel_axis` instead.\n",
      "  # This is added back by InteractiveShellApp.init_path()\n",
      "C:\\Users\\thithilab\\anaconda3\\envs\\yolov5_april\\lib\\site-packages\\sklearn\\preprocessing\\_label.py:154: DataConversionWarning: A column-vector y was passed when a 1d array was expected. Please change the shape of y to (n_samples, ), for example using ravel().\n",
      "  y = column_or_1d(y, warn=True)\n",
      "video 1/1 (1723/3933) D:\\815_CowDataChecking\\20221229\\20221229_M_cow\\20221229_061532_21C6.mkv: 640x640 1 cow, Done. (0.026s)\n"
     ]
    },
    {
     "name": "stdout",
     "output_type": "stream",
     "text": [
      "9\n",
      "['8']\n"
     ]
    },
    {
     "name": "stderr",
     "output_type": "stream",
     "text": [
      "C:\\Users\\thithilab\\anaconda3\\envs\\yolov5_april\\lib\\site-packages\\ipykernel_launcher.py:11: FutureWarning: `multichannel` is a deprecated argument name for `hog`. It will be removed in version 1.0. Please use `channel_axis` instead.\n",
      "  # This is added back by InteractiveShellApp.init_path()\n",
      "C:\\Users\\thithilab\\anaconda3\\envs\\yolov5_april\\lib\\site-packages\\sklearn\\preprocessing\\_label.py:154: DataConversionWarning: A column-vector y was passed when a 1d array was expected. Please change the shape of y to (n_samples, ), for example using ravel().\n",
      "  y = column_or_1d(y, warn=True)\n",
      "video 1/1 (1724/3933) D:\\815_CowDataChecking\\20221229\\20221229_M_cow\\20221229_061532_21C6.mkv: 640x640 1 cow, Done. (0.016s)\n"
     ]
    },
    {
     "name": "stdout",
     "output_type": "stream",
     "text": [
      "9\n",
      "['8']\n"
     ]
    },
    {
     "name": "stderr",
     "output_type": "stream",
     "text": [
      "C:\\Users\\thithilab\\anaconda3\\envs\\yolov5_april\\lib\\site-packages\\ipykernel_launcher.py:11: FutureWarning: `multichannel` is a deprecated argument name for `hog`. It will be removed in version 1.0. Please use `channel_axis` instead.\n",
      "  # This is added back by InteractiveShellApp.init_path()\n",
      "C:\\Users\\thithilab\\anaconda3\\envs\\yolov5_april\\lib\\site-packages\\sklearn\\preprocessing\\_label.py:154: DataConversionWarning: A column-vector y was passed when a 1d array was expected. Please change the shape of y to (n_samples, ), for example using ravel().\n",
      "  y = column_or_1d(y, warn=True)\n",
      "video 1/1 (1725/3933) D:\\815_CowDataChecking\\20221229\\20221229_M_cow\\20221229_061532_21C6.mkv: 640x640 1 cow, Done. (0.016s)\n"
     ]
    },
    {
     "name": "stdout",
     "output_type": "stream",
     "text": [
      "9\n",
      "['8']\n"
     ]
    },
    {
     "name": "stderr",
     "output_type": "stream",
     "text": [
      "C:\\Users\\thithilab\\anaconda3\\envs\\yolov5_april\\lib\\site-packages\\ipykernel_launcher.py:11: FutureWarning: `multichannel` is a deprecated argument name for `hog`. It will be removed in version 1.0. Please use `channel_axis` instead.\n",
      "  # This is added back by InteractiveShellApp.init_path()\n",
      "C:\\Users\\thithilab\\anaconda3\\envs\\yolov5_april\\lib\\site-packages\\sklearn\\preprocessing\\_label.py:154: DataConversionWarning: A column-vector y was passed when a 1d array was expected. Please change the shape of y to (n_samples, ), for example using ravel().\n",
      "  y = column_or_1d(y, warn=True)\n",
      "video 1/1 (1726/3933) D:\\815_CowDataChecking\\20221229\\20221229_M_cow\\20221229_061532_21C6.mkv: 640x640 1 cow, Done. (0.015s)\n"
     ]
    },
    {
     "name": "stdout",
     "output_type": "stream",
     "text": [
      "9\n",
      "['8']\n"
     ]
    },
    {
     "name": "stderr",
     "output_type": "stream",
     "text": [
      "C:\\Users\\thithilab\\anaconda3\\envs\\yolov5_april\\lib\\site-packages\\ipykernel_launcher.py:11: FutureWarning: `multichannel` is a deprecated argument name for `hog`. It will be removed in version 1.0. Please use `channel_axis` instead.\n",
      "  # This is added back by InteractiveShellApp.init_path()\n",
      "C:\\Users\\thithilab\\anaconda3\\envs\\yolov5_april\\lib\\site-packages\\sklearn\\preprocessing\\_label.py:154: DataConversionWarning: A column-vector y was passed when a 1d array was expected. Please change the shape of y to (n_samples, ), for example using ravel().\n",
      "  y = column_or_1d(y, warn=True)\n",
      "video 1/1 (1727/3933) D:\\815_CowDataChecking\\20221229\\20221229_M_cow\\20221229_061532_21C6.mkv: 640x640 1 cow, Done. (0.019s)\n"
     ]
    },
    {
     "name": "stdout",
     "output_type": "stream",
     "text": [
      "9\n",
      "['8']\n"
     ]
    },
    {
     "name": "stderr",
     "output_type": "stream",
     "text": [
      "C:\\Users\\thithilab\\anaconda3\\envs\\yolov5_april\\lib\\site-packages\\ipykernel_launcher.py:11: FutureWarning: `multichannel` is a deprecated argument name for `hog`. It will be removed in version 1.0. Please use `channel_axis` instead.\n",
      "  # This is added back by InteractiveShellApp.init_path()\n",
      "C:\\Users\\thithilab\\anaconda3\\envs\\yolov5_april\\lib\\site-packages\\sklearn\\preprocessing\\_label.py:154: DataConversionWarning: A column-vector y was passed when a 1d array was expected. Please change the shape of y to (n_samples, ), for example using ravel().\n",
      "  y = column_or_1d(y, warn=True)\n",
      "video 1/1 (1728/3933) D:\\815_CowDataChecking\\20221229\\20221229_M_cow\\20221229_061532_21C6.mkv: 640x640 1 cow, Done. (0.014s)\n"
     ]
    },
    {
     "name": "stdout",
     "output_type": "stream",
     "text": [
      "9\n",
      "['8']\n"
     ]
    },
    {
     "name": "stderr",
     "output_type": "stream",
     "text": [
      "C:\\Users\\thithilab\\anaconda3\\envs\\yolov5_april\\lib\\site-packages\\ipykernel_launcher.py:11: FutureWarning: `multichannel` is a deprecated argument name for `hog`. It will be removed in version 1.0. Please use `channel_axis` instead.\n",
      "  # This is added back by InteractiveShellApp.init_path()\n",
      "C:\\Users\\thithilab\\anaconda3\\envs\\yolov5_april\\lib\\site-packages\\sklearn\\preprocessing\\_label.py:154: DataConversionWarning: A column-vector y was passed when a 1d array was expected. Please change the shape of y to (n_samples, ), for example using ravel().\n",
      "  y = column_or_1d(y, warn=True)\n",
      "video 1/1 (1729/3933) D:\\815_CowDataChecking\\20221229\\20221229_M_cow\\20221229_061532_21C6.mkv: 640x640 1 cow, Done. (0.016s)\n"
     ]
    },
    {
     "name": "stdout",
     "output_type": "stream",
     "text": [
      "9\n",
      "['8']\n"
     ]
    },
    {
     "name": "stderr",
     "output_type": "stream",
     "text": [
      "C:\\Users\\thithilab\\anaconda3\\envs\\yolov5_april\\lib\\site-packages\\ipykernel_launcher.py:11: FutureWarning: `multichannel` is a deprecated argument name for `hog`. It will be removed in version 1.0. Please use `channel_axis` instead.\n",
      "  # This is added back by InteractiveShellApp.init_path()\n",
      "C:\\Users\\thithilab\\anaconda3\\envs\\yolov5_april\\lib\\site-packages\\sklearn\\preprocessing\\_label.py:154: DataConversionWarning: A column-vector y was passed when a 1d array was expected. Please change the shape of y to (n_samples, ), for example using ravel().\n",
      "  y = column_or_1d(y, warn=True)\n",
      "video 1/1 (1730/3933) D:\\815_CowDataChecking\\20221229\\20221229_M_cow\\20221229_061532_21C6.mkv: 640x640 1 cow, Done. (0.016s)\n"
     ]
    },
    {
     "name": "stdout",
     "output_type": "stream",
     "text": [
      "9\n",
      "['8']\n"
     ]
    },
    {
     "name": "stderr",
     "output_type": "stream",
     "text": [
      "C:\\Users\\thithilab\\anaconda3\\envs\\yolov5_april\\lib\\site-packages\\ipykernel_launcher.py:11: FutureWarning: `multichannel` is a deprecated argument name for `hog`. It will be removed in version 1.0. Please use `channel_axis` instead.\n",
      "  # This is added back by InteractiveShellApp.init_path()\n",
      "C:\\Users\\thithilab\\anaconda3\\envs\\yolov5_april\\lib\\site-packages\\sklearn\\preprocessing\\_label.py:154: DataConversionWarning: A column-vector y was passed when a 1d array was expected. Please change the shape of y to (n_samples, ), for example using ravel().\n",
      "  y = column_or_1d(y, warn=True)\n",
      "video 1/1 (1731/3933) D:\\815_CowDataChecking\\20221229\\20221229_M_cow\\20221229_061532_21C6.mkv: 640x640 1 cow, Done. (0.017s)\n"
     ]
    },
    {
     "name": "stdout",
     "output_type": "stream",
     "text": [
      "9\n",
      "['8']\n"
     ]
    },
    {
     "name": "stderr",
     "output_type": "stream",
     "text": [
      "C:\\Users\\thithilab\\anaconda3\\envs\\yolov5_april\\lib\\site-packages\\ipykernel_launcher.py:11: FutureWarning: `multichannel` is a deprecated argument name for `hog`. It will be removed in version 1.0. Please use `channel_axis` instead.\n",
      "  # This is added back by InteractiveShellApp.init_path()\n",
      "C:\\Users\\thithilab\\anaconda3\\envs\\yolov5_april\\lib\\site-packages\\sklearn\\preprocessing\\_label.py:154: DataConversionWarning: A column-vector y was passed when a 1d array was expected. Please change the shape of y to (n_samples, ), for example using ravel().\n",
      "  y = column_or_1d(y, warn=True)\n",
      "video 1/1 (1732/3933) D:\\815_CowDataChecking\\20221229\\20221229_M_cow\\20221229_061532_21C6.mkv: 640x640 1 cow, Done. (0.013s)\n"
     ]
    },
    {
     "name": "stdout",
     "output_type": "stream",
     "text": [
      "9\n",
      "['8']\n"
     ]
    },
    {
     "name": "stderr",
     "output_type": "stream",
     "text": [
      "C:\\Users\\thithilab\\anaconda3\\envs\\yolov5_april\\lib\\site-packages\\ipykernel_launcher.py:11: FutureWarning: `multichannel` is a deprecated argument name for `hog`. It will be removed in version 1.0. Please use `channel_axis` instead.\n",
      "  # This is added back by InteractiveShellApp.init_path()\n",
      "C:\\Users\\thithilab\\anaconda3\\envs\\yolov5_april\\lib\\site-packages\\sklearn\\preprocessing\\_label.py:154: DataConversionWarning: A column-vector y was passed when a 1d array was expected. Please change the shape of y to (n_samples, ), for example using ravel().\n",
      "  y = column_or_1d(y, warn=True)\n",
      "video 1/1 (1733/3933) D:\\815_CowDataChecking\\20221229\\20221229_M_cow\\20221229_061532_21C6.mkv: 640x640 1 cow, Done. (0.017s)\n"
     ]
    },
    {
     "name": "stdout",
     "output_type": "stream",
     "text": [
      "9\n",
      "['8']\n"
     ]
    },
    {
     "name": "stderr",
     "output_type": "stream",
     "text": [
      "C:\\Users\\thithilab\\anaconda3\\envs\\yolov5_april\\lib\\site-packages\\ipykernel_launcher.py:11: FutureWarning: `multichannel` is a deprecated argument name for `hog`. It will be removed in version 1.0. Please use `channel_axis` instead.\n",
      "  # This is added back by InteractiveShellApp.init_path()\n",
      "C:\\Users\\thithilab\\anaconda3\\envs\\yolov5_april\\lib\\site-packages\\sklearn\\preprocessing\\_label.py:154: DataConversionWarning: A column-vector y was passed when a 1d array was expected. Please change the shape of y to (n_samples, ), for example using ravel().\n",
      "  y = column_or_1d(y, warn=True)\n",
      "video 1/1 (1734/3933) D:\\815_CowDataChecking\\20221229\\20221229_M_cow\\20221229_061532_21C6.mkv: 640x640 1 cow, Done. (0.026s)\n"
     ]
    },
    {
     "name": "stdout",
     "output_type": "stream",
     "text": [
      "9\n",
      "['8']\n"
     ]
    },
    {
     "name": "stderr",
     "output_type": "stream",
     "text": [
      "C:\\Users\\thithilab\\anaconda3\\envs\\yolov5_april\\lib\\site-packages\\ipykernel_launcher.py:11: FutureWarning: `multichannel` is a deprecated argument name for `hog`. It will be removed in version 1.0. Please use `channel_axis` instead.\n",
      "  # This is added back by InteractiveShellApp.init_path()\n",
      "C:\\Users\\thithilab\\anaconda3\\envs\\yolov5_april\\lib\\site-packages\\sklearn\\preprocessing\\_label.py:154: DataConversionWarning: A column-vector y was passed when a 1d array was expected. Please change the shape of y to (n_samples, ), for example using ravel().\n",
      "  y = column_or_1d(y, warn=True)\n",
      "video 1/1 (1735/3933) D:\\815_CowDataChecking\\20221229\\20221229_M_cow\\20221229_061532_21C6.mkv: 640x640 1 cow, Done. (0.022s)\n"
     ]
    },
    {
     "name": "stdout",
     "output_type": "stream",
     "text": [
      "9\n",
      "['8']\n"
     ]
    },
    {
     "name": "stderr",
     "output_type": "stream",
     "text": [
      "C:\\Users\\thithilab\\anaconda3\\envs\\yolov5_april\\lib\\site-packages\\ipykernel_launcher.py:11: FutureWarning: `multichannel` is a deprecated argument name for `hog`. It will be removed in version 1.0. Please use `channel_axis` instead.\n",
      "  # This is added back by InteractiveShellApp.init_path()\n",
      "C:\\Users\\thithilab\\anaconda3\\envs\\yolov5_april\\lib\\site-packages\\sklearn\\preprocessing\\_label.py:154: DataConversionWarning: A column-vector y was passed when a 1d array was expected. Please change the shape of y to (n_samples, ), for example using ravel().\n",
      "  y = column_or_1d(y, warn=True)\n",
      "video 1/1 (1736/3933) D:\\815_CowDataChecking\\20221229\\20221229_M_cow\\20221229_061532_21C6.mkv: 640x640 1 cow, Done. (0.014s)\n"
     ]
    },
    {
     "name": "stdout",
     "output_type": "stream",
     "text": [
      "9\n",
      "['8']\n"
     ]
    },
    {
     "name": "stderr",
     "output_type": "stream",
     "text": [
      "C:\\Users\\thithilab\\anaconda3\\envs\\yolov5_april\\lib\\site-packages\\ipykernel_launcher.py:11: FutureWarning: `multichannel` is a deprecated argument name for `hog`. It will be removed in version 1.0. Please use `channel_axis` instead.\n",
      "  # This is added back by InteractiveShellApp.init_path()\n",
      "C:\\Users\\thithilab\\anaconda3\\envs\\yolov5_april\\lib\\site-packages\\sklearn\\preprocessing\\_label.py:154: DataConversionWarning: A column-vector y was passed when a 1d array was expected. Please change the shape of y to (n_samples, ), for example using ravel().\n",
      "  y = column_or_1d(y, warn=True)\n",
      "video 1/1 (1737/3933) D:\\815_CowDataChecking\\20221229\\20221229_M_cow\\20221229_061532_21C6.mkv: 640x640 1 cow, Done. (0.014s)\n"
     ]
    },
    {
     "name": "stdout",
     "output_type": "stream",
     "text": [
      "9\n",
      "['8']\n"
     ]
    },
    {
     "name": "stderr",
     "output_type": "stream",
     "text": [
      "C:\\Users\\thithilab\\anaconda3\\envs\\yolov5_april\\lib\\site-packages\\ipykernel_launcher.py:11: FutureWarning: `multichannel` is a deprecated argument name for `hog`. It will be removed in version 1.0. Please use `channel_axis` instead.\n",
      "  # This is added back by InteractiveShellApp.init_path()\n",
      "C:\\Users\\thithilab\\anaconda3\\envs\\yolov5_april\\lib\\site-packages\\sklearn\\preprocessing\\_label.py:154: DataConversionWarning: A column-vector y was passed when a 1d array was expected. Please change the shape of y to (n_samples, ), for example using ravel().\n",
      "  y = column_or_1d(y, warn=True)\n",
      "video 1/1 (1738/3933) D:\\815_CowDataChecking\\20221229\\20221229_M_cow\\20221229_061532_21C6.mkv: 640x640 1 cow, Done. (0.018s)\n"
     ]
    },
    {
     "name": "stdout",
     "output_type": "stream",
     "text": [
      "9\n",
      "['8']\n"
     ]
    },
    {
     "name": "stderr",
     "output_type": "stream",
     "text": [
      "C:\\Users\\thithilab\\anaconda3\\envs\\yolov5_april\\lib\\site-packages\\ipykernel_launcher.py:11: FutureWarning: `multichannel` is a deprecated argument name for `hog`. It will be removed in version 1.0. Please use `channel_axis` instead.\n",
      "  # This is added back by InteractiveShellApp.init_path()\n",
      "C:\\Users\\thithilab\\anaconda3\\envs\\yolov5_april\\lib\\site-packages\\sklearn\\preprocessing\\_label.py:154: DataConversionWarning: A column-vector y was passed when a 1d array was expected. Please change the shape of y to (n_samples, ), for example using ravel().\n",
      "  y = column_or_1d(y, warn=True)\n",
      "video 1/1 (1739/3933) D:\\815_CowDataChecking\\20221229\\20221229_M_cow\\20221229_061532_21C6.mkv: 640x640 1 cow, Done. (0.021s)\n"
     ]
    },
    {
     "name": "stdout",
     "output_type": "stream",
     "text": [
      "9\n",
      "['8']\n"
     ]
    },
    {
     "name": "stderr",
     "output_type": "stream",
     "text": [
      "C:\\Users\\thithilab\\anaconda3\\envs\\yolov5_april\\lib\\site-packages\\ipykernel_launcher.py:11: FutureWarning: `multichannel` is a deprecated argument name for `hog`. It will be removed in version 1.0. Please use `channel_axis` instead.\n",
      "  # This is added back by InteractiveShellApp.init_path()\n",
      "C:\\Users\\thithilab\\anaconda3\\envs\\yolov5_april\\lib\\site-packages\\sklearn\\preprocessing\\_label.py:154: DataConversionWarning: A column-vector y was passed when a 1d array was expected. Please change the shape of y to (n_samples, ), for example using ravel().\n",
      "  y = column_or_1d(y, warn=True)\n",
      "video 1/1 (1740/3933) D:\\815_CowDataChecking\\20221229\\20221229_M_cow\\20221229_061532_21C6.mkv: 640x640 1 cow, Done. (0.013s)\n"
     ]
    },
    {
     "name": "stdout",
     "output_type": "stream",
     "text": [
      "9\n",
      "['8']\n"
     ]
    },
    {
     "name": "stderr",
     "output_type": "stream",
     "text": [
      "C:\\Users\\thithilab\\anaconda3\\envs\\yolov5_april\\lib\\site-packages\\ipykernel_launcher.py:11: FutureWarning: `multichannel` is a deprecated argument name for `hog`. It will be removed in version 1.0. Please use `channel_axis` instead.\n",
      "  # This is added back by InteractiveShellApp.init_path()\n",
      "C:\\Users\\thithilab\\anaconda3\\envs\\yolov5_april\\lib\\site-packages\\sklearn\\preprocessing\\_label.py:154: DataConversionWarning: A column-vector y was passed when a 1d array was expected. Please change the shape of y to (n_samples, ), for example using ravel().\n",
      "  y = column_or_1d(y, warn=True)\n",
      "video 1/1 (1741/3933) D:\\815_CowDataChecking\\20221229\\20221229_M_cow\\20221229_061532_21C6.mkv: 640x640 1 cow, Done. (0.018s)\n"
     ]
    },
    {
     "name": "stdout",
     "output_type": "stream",
     "text": [
      "9\n",
      "['8']\n"
     ]
    },
    {
     "name": "stderr",
     "output_type": "stream",
     "text": [
      "C:\\Users\\thithilab\\anaconda3\\envs\\yolov5_april\\lib\\site-packages\\ipykernel_launcher.py:11: FutureWarning: `multichannel` is a deprecated argument name for `hog`. It will be removed in version 1.0. Please use `channel_axis` instead.\n",
      "  # This is added back by InteractiveShellApp.init_path()\n",
      "C:\\Users\\thithilab\\anaconda3\\envs\\yolov5_april\\lib\\site-packages\\sklearn\\preprocessing\\_label.py:154: DataConversionWarning: A column-vector y was passed when a 1d array was expected. Please change the shape of y to (n_samples, ), for example using ravel().\n",
      "  y = column_or_1d(y, warn=True)\n",
      "video 1/1 (1742/3933) D:\\815_CowDataChecking\\20221229\\20221229_M_cow\\20221229_061532_21C6.mkv: 640x640 1 cow, Done. (0.013s)\n",
      "video 1/1 (1743/3933) D:\\815_CowDataChecking\\20221229\\20221229_M_cow\\20221229_061532_21C6.mkv: 640x640 1 cow, Done. (0.019s)\n"
     ]
    },
    {
     "name": "stdout",
     "output_type": "stream",
     "text": [
      "9\n",
      "['8']\n"
     ]
    },
    {
     "name": "stderr",
     "output_type": "stream",
     "text": [
      "video 1/1 (1744/3933) D:\\815_CowDataChecking\\20221229\\20221229_M_cow\\20221229_061532_21C6.mkv: 640x640 1 cow, Done. (0.016s)\n",
      "video 1/1 (1745/3933) D:\\815_CowDataChecking\\20221229\\20221229_M_cow\\20221229_061532_21C6.mkv: 640x640 1 cow, Done. (0.014s)\n",
      "video 1/1 (1746/3933) D:\\815_CowDataChecking\\20221229\\20221229_M_cow\\20221229_061532_21C6.mkv: 640x640 1 cow, Done. (0.016s)\n",
      "video 1/1 (1747/3933) D:\\815_CowDataChecking\\20221229\\20221229_M_cow\\20221229_061532_21C6.mkv: 640x640 1 cow, Done. (0.022s)\n",
      "video 1/1 (1748/3933) D:\\815_CowDataChecking\\20221229\\20221229_M_cow\\20221229_061532_21C6.mkv: 640x640 1 cow, Done. (0.014s)\n",
      "video 1/1 (1749/3933) D:\\815_CowDataChecking\\20221229\\20221229_M_cow\\20221229_061532_21C6.mkv: 640x640 1 cow, Done. (0.022s)\n",
      "video 1/1 (1750/3933) D:\\815_CowDataChecking\\20221229\\20221229_M_cow\\20221229_061532_21C6.mkv: 640x640 1 cow, Done. (0.017s)\n",
      "video 1/1 (1751/3933) D:\\815_CowDataChecking\\20221229\\20221229_M_cow\\20221229_061532_21C6.mkv: 640x640 1 cow, Done. (0.013s)\n",
      "video 1/1 (1752/3933) D:\\815_CowDataChecking\\20221229\\20221229_M_cow\\20221229_061532_21C6.mkv: 640x640 1 cow, Done. (0.024s)\n",
      "video 1/1 (1753/3933) D:\\815_CowDataChecking\\20221229\\20221229_M_cow\\20221229_061532_21C6.mkv: 640x640 1 cow, Done. (0.014s)\n",
      "video 1/1 (1754/3933) D:\\815_CowDataChecking\\20221229\\20221229_M_cow\\20221229_061532_21C6.mkv: 640x640 1 cow, Done. (0.020s)\n",
      "video 1/1 (1755/3933) D:\\815_CowDataChecking\\20221229\\20221229_M_cow\\20221229_061532_21C6.mkv: 640x640 1 cow, Done. (0.018s)\n",
      "video 1/1 (1756/3933) D:\\815_CowDataChecking\\20221229\\20221229_M_cow\\20221229_061532_21C6.mkv: 640x640 1 cow, Done. (0.018s)\n",
      "video 1/1 (1757/3933) D:\\815_CowDataChecking\\20221229\\20221229_M_cow\\20221229_061532_21C6.mkv: 640x640 1 cow, Done. (0.026s)\n",
      "video 1/1 (1758/3933) D:\\815_CowDataChecking\\20221229\\20221229_M_cow\\20221229_061532_21C6.mkv: 640x640 1 cow, Done. (0.014s)\n",
      "video 1/1 (1759/3933) D:\\815_CowDataChecking\\20221229\\20221229_M_cow\\20221229_061532_21C6.mkv: 640x640 1 cow, Done. (0.016s)\n",
      "video 1/1 (1760/3933) D:\\815_CowDataChecking\\20221229\\20221229_M_cow\\20221229_061532_21C6.mkv: 640x640 1 cow, Done. (0.026s)\n",
      "video 1/1 (1761/3933) D:\\815_CowDataChecking\\20221229\\20221229_M_cow\\20221229_061532_21C6.mkv: 640x640 1 cow, Done. (0.017s)\n",
      "video 1/1 (1762/3933) D:\\815_CowDataChecking\\20221229\\20221229_M_cow\\20221229_061532_21C6.mkv: 640x640 1 cow, Done. (0.019s)\n",
      "video 1/1 (1763/3933) D:\\815_CowDataChecking\\20221229\\20221229_M_cow\\20221229_061532_21C6.mkv: 640x640 1 cow, Done. (0.022s)\n",
      "video 1/1 (1764/3933) D:\\815_CowDataChecking\\20221229\\20221229_M_cow\\20221229_061532_21C6.mkv: 640x640 Done. (0.025s)\n",
      "video 1/1 (1765/3933) D:\\815_CowDataChecking\\20221229\\20221229_M_cow\\20221229_061532_21C6.mkv: 640x640 1 cow, Done. (0.018s)\n",
      "video 1/1 (1766/3933) D:\\815_CowDataChecking\\20221229\\20221229_M_cow\\20221229_061532_21C6.mkv: 640x640 1 cow, Done. (0.021s)\n",
      "video 1/1 (1767/3933) D:\\815_CowDataChecking\\20221229\\20221229_M_cow\\20221229_061532_21C6.mkv: 640x640 Done. (0.023s)\n",
      "video 1/1 (1768/3933) D:\\815_CowDataChecking\\20221229\\20221229_M_cow\\20221229_061532_21C6.mkv: 640x640 Done. (0.021s)\n",
      "video 1/1 (1769/3933) D:\\815_CowDataChecking\\20221229\\20221229_M_cow\\20221229_061532_21C6.mkv: 640x640 Done. (0.021s)\n",
      "video 1/1 (1770/3933) D:\\815_CowDataChecking\\20221229\\20221229_M_cow\\20221229_061532_21C6.mkv: 640x640 Done. (0.023s)\n",
      "video 1/1 (1771/3933) D:\\815_CowDataChecking\\20221229\\20221229_M_cow\\20221229_061532_21C6.mkv: 640x640 Done. (0.023s)\n",
      "video 1/1 (1772/3933) D:\\815_CowDataChecking\\20221229\\20221229_M_cow\\20221229_061532_21C6.mkv: 640x640 Done. (0.022s)\n",
      "video 1/1 (1773/3933) D:\\815_CowDataChecking\\20221229\\20221229_M_cow\\20221229_061532_21C6.mkv: 640x640 Done. (0.024s)\n",
      "video 1/1 (1774/3933) D:\\815_CowDataChecking\\20221229\\20221229_M_cow\\20221229_061532_21C6.mkv: 640x640 Done. (0.022s)\n",
      "video 1/1 (1775/3933) D:\\815_CowDataChecking\\20221229\\20221229_M_cow\\20221229_061532_21C6.mkv: 640x640 Done. (0.023s)\n",
      "video 1/1 (1776/3933) D:\\815_CowDataChecking\\20221229\\20221229_M_cow\\20221229_061532_21C6.mkv: 640x640 Done. (0.025s)\n",
      "video 1/1 (1777/3933) D:\\815_CowDataChecking\\20221229\\20221229_M_cow\\20221229_061532_21C6.mkv: 640x640 Done. (0.025s)\n",
      "video 1/1 (1778/3933) D:\\815_CowDataChecking\\20221229\\20221229_M_cow\\20221229_061532_21C6.mkv: 640x640 Done. (0.025s)\n",
      "video 1/1 (1779/3933) D:\\815_CowDataChecking\\20221229\\20221229_M_cow\\20221229_061532_21C6.mkv: 640x640 Done. (0.024s)\n",
      "video 1/1 (1780/3933) D:\\815_CowDataChecking\\20221229\\20221229_M_cow\\20221229_061532_21C6.mkv: 640x640 Done. (0.022s)\n",
      "video 1/1 (1781/3933) D:\\815_CowDataChecking\\20221229\\20221229_M_cow\\20221229_061532_21C6.mkv: 640x640 Done. (0.027s)\n",
      "video 1/1 (1782/3933) D:\\815_CowDataChecking\\20221229\\20221229_M_cow\\20221229_061532_21C6.mkv: 640x640 Done. (0.023s)\n",
      "video 1/1 (1783/3933) D:\\815_CowDataChecking\\20221229\\20221229_M_cow\\20221229_061532_21C6.mkv: 640x640 Done. (0.026s)\n",
      "video 1/1 (1784/3933) D:\\815_CowDataChecking\\20221229\\20221229_M_cow\\20221229_061532_21C6.mkv: 640x640 Done. (0.026s)\n",
      "video 1/1 (1785/3933) D:\\815_CowDataChecking\\20221229\\20221229_M_cow\\20221229_061532_21C6.mkv: 640x640 Done. (0.020s)\n",
      "video 1/1 (1786/3933) D:\\815_CowDataChecking\\20221229\\20221229_M_cow\\20221229_061532_21C6.mkv: 640x640 Done. (0.024s)\n",
      "video 1/1 (1787/3933) D:\\815_CowDataChecking\\20221229\\20221229_M_cow\\20221229_061532_21C6.mkv: 640x640 Done. (0.017s)\n",
      "video 1/1 (1788/3933) D:\\815_CowDataChecking\\20221229\\20221229_M_cow\\20221229_061532_21C6.mkv: 640x640 Done. (0.023s)\n",
      "video 1/1 (1789/3933) D:\\815_CowDataChecking\\20221229\\20221229_M_cow\\20221229_061532_21C6.mkv: 640x640 Done. (0.017s)\n",
      "video 1/1 (1790/3933) D:\\815_CowDataChecking\\20221229\\20221229_M_cow\\20221229_061532_21C6.mkv: 640x640 Done. (0.013s)\n",
      "video 1/1 (1791/3933) D:\\815_CowDataChecking\\20221229\\20221229_M_cow\\20221229_061532_21C6.mkv: 640x640 Done. (0.014s)\n",
      "video 1/1 (1792/3933) D:\\815_CowDataChecking\\20221229\\20221229_M_cow\\20221229_061532_21C6.mkv: 640x640 Done. (0.019s)\n",
      "video 1/1 (1793/3933) D:\\815_CowDataChecking\\20221229\\20221229_M_cow\\20221229_061532_21C6.mkv: 640x640 Done. (0.018s)\n",
      "video 1/1 (1794/3933) D:\\815_CowDataChecking\\20221229\\20221229_M_cow\\20221229_061532_21C6.mkv: 640x640 Done. (0.018s)\n",
      "video 1/1 (1795/3933) D:\\815_CowDataChecking\\20221229\\20221229_M_cow\\20221229_061532_21C6.mkv: 640x640 Done. (0.013s)\n",
      "video 1/1 (1796/3933) D:\\815_CowDataChecking\\20221229\\20221229_M_cow\\20221229_061532_21C6.mkv: 640x640 Done. (0.013s)\n",
      "video 1/1 (1797/3933) D:\\815_CowDataChecking\\20221229\\20221229_M_cow\\20221229_061532_21C6.mkv: 640x640 Done. (0.017s)\n",
      "video 1/1 (1798/3933) D:\\815_CowDataChecking\\20221229\\20221229_M_cow\\20221229_061532_21C6.mkv: 640x640 Done. (0.015s)\n",
      "video 1/1 (1799/3933) D:\\815_CowDataChecking\\20221229\\20221229_M_cow\\20221229_061532_21C6.mkv: 640x640 Done. (0.014s)\n",
      "video 1/1 (1800/3933) D:\\815_CowDataChecking\\20221229\\20221229_M_cow\\20221229_061532_21C6.mkv: 640x640 Done. (0.013s)\n",
      "video 1/1 (1801/3933) D:\\815_CowDataChecking\\20221229\\20221229_M_cow\\20221229_061532_21C6.mkv: 640x640 Done. (0.013s)\n",
      "video 1/1 (1802/3933) D:\\815_CowDataChecking\\20221229\\20221229_M_cow\\20221229_061532_21C6.mkv: 640x640 Done. (0.014s)\n",
      "video 1/1 (1803/3933) D:\\815_CowDataChecking\\20221229\\20221229_M_cow\\20221229_061532_21C6.mkv: 640x640 Done. (0.015s)\n",
      "video 1/1 (1804/3933) D:\\815_CowDataChecking\\20221229\\20221229_M_cow\\20221229_061532_21C6.mkv: 640x640 Done. (0.027s)\n",
      "video 1/1 (1805/3933) D:\\815_CowDataChecking\\20221229\\20221229_M_cow\\20221229_061532_21C6.mkv: 640x640 Done. (0.028s)\n",
      "video 1/1 (1806/3933) D:\\815_CowDataChecking\\20221229\\20221229_M_cow\\20221229_061532_21C6.mkv: 640x640 Done. (0.017s)\n",
      "video 1/1 (1807/3933) D:\\815_CowDataChecking\\20221229\\20221229_M_cow\\20221229_061532_21C6.mkv: 640x640 Done. (0.022s)\n",
      "video 1/1 (1808/3933) D:\\815_CowDataChecking\\20221229\\20221229_M_cow\\20221229_061532_21C6.mkv: 640x640 Done. (0.021s)\n",
      "video 1/1 (1809/3933) D:\\815_CowDataChecking\\20221229\\20221229_M_cow\\20221229_061532_21C6.mkv: 640x640 Done. (0.021s)\n",
      "video 1/1 (1810/3933) D:\\815_CowDataChecking\\20221229\\20221229_M_cow\\20221229_061532_21C6.mkv: 640x640 Done. (0.026s)\n",
      "video 1/1 (1811/3933) D:\\815_CowDataChecking\\20221229\\20221229_M_cow\\20221229_061532_21C6.mkv: 640x640 Done. (0.023s)\n",
      "video 1/1 (1812/3933) D:\\815_CowDataChecking\\20221229\\20221229_M_cow\\20221229_061532_21C6.mkv: 640x640 Done. (0.022s)\n",
      "video 1/1 (1813/3933) D:\\815_CowDataChecking\\20221229\\20221229_M_cow\\20221229_061532_21C6.mkv: 640x640 Done. (0.021s)\n",
      "video 1/1 (1814/3933) D:\\815_CowDataChecking\\20221229\\20221229_M_cow\\20221229_061532_21C6.mkv: 640x640 Done. (0.022s)\n",
      "video 1/1 (1815/3933) D:\\815_CowDataChecking\\20221229\\20221229_M_cow\\20221229_061532_21C6.mkv: 640x640 Done. (0.021s)\n",
      "video 1/1 (1816/3933) D:\\815_CowDataChecking\\20221229\\20221229_M_cow\\20221229_061532_21C6.mkv: 640x640 Done. (0.025s)\n",
      "video 1/1 (1817/3933) D:\\815_CowDataChecking\\20221229\\20221229_M_cow\\20221229_061532_21C6.mkv: 640x640 Done. (0.025s)\n",
      "video 1/1 (1818/3933) D:\\815_CowDataChecking\\20221229\\20221229_M_cow\\20221229_061532_21C6.mkv: 640x640 Done. (0.023s)\n",
      "video 1/1 (1819/3933) D:\\815_CowDataChecking\\20221229\\20221229_M_cow\\20221229_061532_21C6.mkv: 640x640 Done. (0.022s)\n",
      "video 1/1 (1820/3933) D:\\815_CowDataChecking\\20221229\\20221229_M_cow\\20221229_061532_21C6.mkv: 640x640 Done. (0.023s)\n",
      "video 1/1 (1821/3933) D:\\815_CowDataChecking\\20221229\\20221229_M_cow\\20221229_061532_21C6.mkv: 640x640 Done. (0.025s)\n",
      "video 1/1 (1822/3933) D:\\815_CowDataChecking\\20221229\\20221229_M_cow\\20221229_061532_21C6.mkv: 640x640 Done. (0.025s)\n",
      "video 1/1 (1823/3933) D:\\815_CowDataChecking\\20221229\\20221229_M_cow\\20221229_061532_21C6.mkv: 640x640 Done. (0.026s)\n",
      "video 1/1 (1824/3933) D:\\815_CowDataChecking\\20221229\\20221229_M_cow\\20221229_061532_21C6.mkv: 640x640 Done. (0.027s)\n",
      "video 1/1 (1825/3933) D:\\815_CowDataChecking\\20221229\\20221229_M_cow\\20221229_061532_21C6.mkv: 640x640 Done. (0.026s)\n",
      "video 1/1 (1826/3933) D:\\815_CowDataChecking\\20221229\\20221229_M_cow\\20221229_061532_21C6.mkv: 640x640 Done. (0.027s)\n",
      "video 1/1 (1827/3933) D:\\815_CowDataChecking\\20221229\\20221229_M_cow\\20221229_061532_21C6.mkv: 640x640 Done. (0.037s)\n",
      "video 1/1 (1828/3933) D:\\815_CowDataChecking\\20221229\\20221229_M_cow\\20221229_061532_21C6.mkv: 640x640 Done. (0.043s)\n",
      "video 1/1 (1829/3933) D:\\815_CowDataChecking\\20221229\\20221229_M_cow\\20221229_061532_21C6.mkv: 640x640 Done. (0.042s)\n",
      "video 1/1 (1830/3933) D:\\815_CowDataChecking\\20221229\\20221229_M_cow\\20221229_061532_21C6.mkv: 640x640 Done. (0.042s)\n",
      "video 1/1 (1831/3933) D:\\815_CowDataChecking\\20221229\\20221229_M_cow\\20221229_061532_21C6.mkv: 640x640 Done. (0.046s)\n",
      "video 1/1 (1832/3933) D:\\815_CowDataChecking\\20221229\\20221229_M_cow\\20221229_061532_21C6.mkv: 640x640 Done. (0.043s)\n",
      "video 1/1 (1833/3933) D:\\815_CowDataChecking\\20221229\\20221229_M_cow\\20221229_061532_21C6.mkv: 640x640 Done. (0.046s)\n",
      "video 1/1 (1834/3933) D:\\815_CowDataChecking\\20221229\\20221229_M_cow\\20221229_061532_21C6.mkv: 640x640 Done. (0.043s)\n",
      "video 1/1 (1835/3933) D:\\815_CowDataChecking\\20221229\\20221229_M_cow\\20221229_061532_21C6.mkv: 640x640 Done. (0.041s)\n",
      "video 1/1 (1836/3933) D:\\815_CowDataChecking\\20221229\\20221229_M_cow\\20221229_061532_21C6.mkv: 640x640 Done. (0.023s)\n",
      "video 1/1 (1837/3933) D:\\815_CowDataChecking\\20221229\\20221229_M_cow\\20221229_061532_21C6.mkv: 640x640 Done. (0.022s)\n",
      "video 1/1 (1838/3933) D:\\815_CowDataChecking\\20221229\\20221229_M_cow\\20221229_061532_21C6.mkv: 640x640 Done. (0.022s)\n",
      "video 1/1 (1839/3933) D:\\815_CowDataChecking\\20221229\\20221229_M_cow\\20221229_061532_21C6.mkv: 640x640 Done. (0.017s)\n",
      "video 1/1 (1840/3933) D:\\815_CowDataChecking\\20221229\\20221229_M_cow\\20221229_061532_21C6.mkv: 640x640 Done. (0.019s)\n",
      "video 1/1 (1841/3933) D:\\815_CowDataChecking\\20221229\\20221229_M_cow\\20221229_061532_21C6.mkv: 640x640 Done. (0.020s)\n",
      "video 1/1 (1842/3933) D:\\815_CowDataChecking\\20221229\\20221229_M_cow\\20221229_061532_21C6.mkv: 640x640 Done. (0.026s)\n",
      "video 1/1 (1843/3933) D:\\815_CowDataChecking\\20221229\\20221229_M_cow\\20221229_061532_21C6.mkv: 640x640 Done. (0.024s)\n",
      "video 1/1 (1844/3933) D:\\815_CowDataChecking\\20221229\\20221229_M_cow\\20221229_061532_21C6.mkv: 640x640 Done. (0.016s)\n",
      "video 1/1 (1845/3933) D:\\815_CowDataChecking\\20221229\\20221229_M_cow\\20221229_061532_21C6.mkv: 640x640 Done. (0.019s)\n",
      "video 1/1 (1846/3933) D:\\815_CowDataChecking\\20221229\\20221229_M_cow\\20221229_061532_21C6.mkv: 640x640 Done. (0.019s)\n",
      "video 1/1 (1847/3933) D:\\815_CowDataChecking\\20221229\\20221229_M_cow\\20221229_061532_21C6.mkv: 640x640 Done. (0.025s)\n",
      "video 1/1 (1848/3933) D:\\815_CowDataChecking\\20221229\\20221229_M_cow\\20221229_061532_21C6.mkv: 640x640 Done. (0.027s)\n",
      "video 1/1 (1849/3933) D:\\815_CowDataChecking\\20221229\\20221229_M_cow\\20221229_061532_21C6.mkv: 640x640 Done. (0.019s)\n",
      "video 1/1 (1850/3933) D:\\815_CowDataChecking\\20221229\\20221229_M_cow\\20221229_061532_21C6.mkv: 640x640 Done. (0.022s)\n",
      "video 1/1 (1851/3933) D:\\815_CowDataChecking\\20221229\\20221229_M_cow\\20221229_061532_21C6.mkv: 640x640 Done. (0.021s)\n",
      "video 1/1 (1852/3933) D:\\815_CowDataChecking\\20221229\\20221229_M_cow\\20221229_061532_21C6.mkv: 640x640 Done. (0.022s)\n",
      "video 1/1 (1853/3933) D:\\815_CowDataChecking\\20221229\\20221229_M_cow\\20221229_061532_21C6.mkv: 640x640 Done. (0.019s)\n",
      "video 1/1 (1854/3933) D:\\815_CowDataChecking\\20221229\\20221229_M_cow\\20221229_061532_21C6.mkv: 640x640 Done. (0.048s)\n",
      "video 1/1 (1855/3933) D:\\815_CowDataChecking\\20221229\\20221229_M_cow\\20221229_061532_21C6.mkv: 640x640 Done. (0.049s)\n",
      "video 1/1 (1856/3933) D:\\815_CowDataChecking\\20221229\\20221229_M_cow\\20221229_061532_21C6.mkv: 640x640 Done. (0.020s)\n",
      "video 1/1 (1857/3933) D:\\815_CowDataChecking\\20221229\\20221229_M_cow\\20221229_061532_21C6.mkv: 640x640 Done. (0.021s)\n",
      "video 1/1 (1858/3933) D:\\815_CowDataChecking\\20221229\\20221229_M_cow\\20221229_061532_21C6.mkv: 640x640 Done. (0.024s)\n",
      "video 1/1 (1859/3933) D:\\815_CowDataChecking\\20221229\\20221229_M_cow\\20221229_061532_21C6.mkv: 640x640 Done. (0.024s)\n",
      "video 1/1 (1860/3933) D:\\815_CowDataChecking\\20221229\\20221229_M_cow\\20221229_061532_21C6.mkv: 640x640 Done. (0.023s)\n",
      "video 1/1 (1861/3933) D:\\815_CowDataChecking\\20221229\\20221229_M_cow\\20221229_061532_21C6.mkv: 640x640 Done. (0.023s)\n",
      "video 1/1 (1862/3933) D:\\815_CowDataChecking\\20221229\\20221229_M_cow\\20221229_061532_21C6.mkv: 640x640 Done. (0.022s)\n",
      "video 1/1 (1863/3933) D:\\815_CowDataChecking\\20221229\\20221229_M_cow\\20221229_061532_21C6.mkv: 640x640 Done. (0.022s)\n",
      "video 1/1 (1864/3933) D:\\815_CowDataChecking\\20221229\\20221229_M_cow\\20221229_061532_21C6.mkv: 640x640 Done. (0.021s)\n",
      "video 1/1 (1865/3933) D:\\815_CowDataChecking\\20221229\\20221229_M_cow\\20221229_061532_21C6.mkv: 640x640 Done. (0.026s)\n",
      "video 1/1 (1866/3933) D:\\815_CowDataChecking\\20221229\\20221229_M_cow\\20221229_061532_21C6.mkv: 640x640 Done. (0.024s)\n",
      "video 1/1 (1867/3933) D:\\815_CowDataChecking\\20221229\\20221229_M_cow\\20221229_061532_21C6.mkv: 640x640 Done. (0.026s)\n",
      "video 1/1 (1868/3933) D:\\815_CowDataChecking\\20221229\\20221229_M_cow\\20221229_061532_21C6.mkv: 640x640 Done. (0.044s)\n",
      "video 1/1 (1869/3933) D:\\815_CowDataChecking\\20221229\\20221229_M_cow\\20221229_061532_21C6.mkv: 640x640 Done. (0.047s)\n",
      "video 1/1 (1870/3933) D:\\815_CowDataChecking\\20221229\\20221229_M_cow\\20221229_061532_21C6.mkv: 640x640 Done. (0.041s)\n",
      "video 1/1 (1871/3933) D:\\815_CowDataChecking\\20221229\\20221229_M_cow\\20221229_061532_21C6.mkv: 640x640 Done. (0.048s)\n",
      "video 1/1 (1872/3933) D:\\815_CowDataChecking\\20221229\\20221229_M_cow\\20221229_061532_21C6.mkv: 640x640 Done. (0.045s)\n",
      "video 1/1 (1873/3933) D:\\815_CowDataChecking\\20221229\\20221229_M_cow\\20221229_061532_21C6.mkv: 640x640 Done. (0.016s)\n",
      "video 1/1 (1874/3933) D:\\815_CowDataChecking\\20221229\\20221229_M_cow\\20221229_061532_21C6.mkv: 640x640 Done. (0.015s)\n",
      "video 1/1 (1875/3933) D:\\815_CowDataChecking\\20221229\\20221229_M_cow\\20221229_061532_21C6.mkv: 640x640 Done. (0.018s)\n",
      "video 1/1 (1876/3933) D:\\815_CowDataChecking\\20221229\\20221229_M_cow\\20221229_061532_21C6.mkv: 640x640 Done. (0.016s)\n",
      "video 1/1 (1877/3933) D:\\815_CowDataChecking\\20221229\\20221229_M_cow\\20221229_061532_21C6.mkv: 640x640 Done. (0.023s)\n",
      "video 1/1 (1878/3933) D:\\815_CowDataChecking\\20221229\\20221229_M_cow\\20221229_061532_21C6.mkv: 640x640 Done. (0.018s)\n",
      "video 1/1 (1879/3933) D:\\815_CowDataChecking\\20221229\\20221229_M_cow\\20221229_061532_21C6.mkv: 640x640 Done. (0.017s)\n",
      "video 1/1 (1880/3933) D:\\815_CowDataChecking\\20221229\\20221229_M_cow\\20221229_061532_21C6.mkv: 640x640 Done. (0.025s)\n",
      "video 1/1 (1881/3933) D:\\815_CowDataChecking\\20221229\\20221229_M_cow\\20221229_061532_21C6.mkv: 640x640 Done. (0.018s)\n",
      "video 1/1 (1882/3933) D:\\815_CowDataChecking\\20221229\\20221229_M_cow\\20221229_061532_21C6.mkv: 640x640 Done. (0.017s)\n",
      "video 1/1 (1883/3933) D:\\815_CowDataChecking\\20221229\\20221229_M_cow\\20221229_061532_21C6.mkv: 640x640 Done. (0.016s)\n",
      "video 1/1 (1884/3933) D:\\815_CowDataChecking\\20221229\\20221229_M_cow\\20221229_061532_21C6.mkv: 640x640 Done. (0.027s)\n",
      "video 1/1 (1885/3933) D:\\815_CowDataChecking\\20221229\\20221229_M_cow\\20221229_061532_21C6.mkv: 640x640 Done. (0.018s)\n",
      "video 1/1 (1886/3933) D:\\815_CowDataChecking\\20221229\\20221229_M_cow\\20221229_061532_21C6.mkv: 640x640 Done. (0.024s)\n",
      "video 1/1 (1887/3933) D:\\815_CowDataChecking\\20221229\\20221229_M_cow\\20221229_061532_21C6.mkv: 640x640 Done. (0.026s)\n",
      "video 1/1 (1888/3933) D:\\815_CowDataChecking\\20221229\\20221229_M_cow\\20221229_061532_21C6.mkv: 640x640 Done. (0.016s)\n",
      "video 1/1 (1889/3933) D:\\815_CowDataChecking\\20221229\\20221229_M_cow\\20221229_061532_21C6.mkv: 640x640 Done. (0.018s)\n",
      "video 1/1 (1890/3933) D:\\815_CowDataChecking\\20221229\\20221229_M_cow\\20221229_061532_21C6.mkv: 640x640 Done. (0.016s)\n",
      "video 1/1 (1891/3933) D:\\815_CowDataChecking\\20221229\\20221229_M_cow\\20221229_061532_21C6.mkv: 640x640 Done. (0.015s)\n",
      "video 1/1 (1892/3933) D:\\815_CowDataChecking\\20221229\\20221229_M_cow\\20221229_061532_21C6.mkv: 640x640 Done. (0.050s)\n",
      "video 1/1 (1893/3933) D:\\815_CowDataChecking\\20221229\\20221229_M_cow\\20221229_061532_21C6.mkv: 640x640 Done. (0.042s)\n",
      "video 1/1 (1894/3933) D:\\815_CowDataChecking\\20221229\\20221229_M_cow\\20221229_061532_21C6.mkv: 640x640 Done. (0.047s)\n",
      "video 1/1 (1895/3933) D:\\815_CowDataChecking\\20221229\\20221229_M_cow\\20221229_061532_21C6.mkv: 640x640 Done. (0.047s)\n",
      "video 1/1 (1896/3933) D:\\815_CowDataChecking\\20221229\\20221229_M_cow\\20221229_061532_21C6.mkv: 640x640 Done. (0.051s)\n",
      "video 1/1 (1897/3933) D:\\815_CowDataChecking\\20221229\\20221229_M_cow\\20221229_061532_21C6.mkv: 640x640 Done. (0.018s)\n",
      "video 1/1 (1898/3933) D:\\815_CowDataChecking\\20221229\\20221229_M_cow\\20221229_061532_21C6.mkv: 640x640 Done. (0.018s)\n",
      "video 1/1 (1899/3933) D:\\815_CowDataChecking\\20221229\\20221229_M_cow\\20221229_061532_21C6.mkv: 640x640 Done. (0.017s)\n",
      "video 1/1 (1900/3933) D:\\815_CowDataChecking\\20221229\\20221229_M_cow\\20221229_061532_21C6.mkv: 640x640 Done. (0.024s)\n",
      "video 1/1 (1901/3933) D:\\815_CowDataChecking\\20221229\\20221229_M_cow\\20221229_061532_21C6.mkv: 640x640 Done. (0.017s)\n",
      "video 1/1 (1902/3933) D:\\815_CowDataChecking\\20221229\\20221229_M_cow\\20221229_061532_21C6.mkv: 640x640 Done. (0.018s)\n",
      "video 1/1 (1903/3933) D:\\815_CowDataChecking\\20221229\\20221229_M_cow\\20221229_061532_21C6.mkv: 640x640 Done. (0.019s)\n",
      "video 1/1 (1904/3933) D:\\815_CowDataChecking\\20221229\\20221229_M_cow\\20221229_061532_21C6.mkv: 640x640 Done. (0.018s)\n",
      "video 1/1 (1905/3933) D:\\815_CowDataChecking\\20221229\\20221229_M_cow\\20221229_061532_21C6.mkv: 640x640 Done. (0.020s)\n",
      "video 1/1 (1906/3933) D:\\815_CowDataChecking\\20221229\\20221229_M_cow\\20221229_061532_21C6.mkv: 640x640 Done. (0.026s)\n",
      "video 1/1 (1907/3933) D:\\815_CowDataChecking\\20221229\\20221229_M_cow\\20221229_061532_21C6.mkv: 640x640 Done. (0.018s)\n",
      "video 1/1 (1908/3933) D:\\815_CowDataChecking\\20221229\\20221229_M_cow\\20221229_061532_21C6.mkv: 640x640 Done. (0.019s)\n",
      "video 1/1 (1909/3933) D:\\815_CowDataChecking\\20221229\\20221229_M_cow\\20221229_061532_21C6.mkv: 640x640 Done. (0.017s)\n",
      "video 1/1 (1910/3933) D:\\815_CowDataChecking\\20221229\\20221229_M_cow\\20221229_061532_21C6.mkv: 640x640 Done. (0.018s)\n",
      "video 1/1 (1911/3933) D:\\815_CowDataChecking\\20221229\\20221229_M_cow\\20221229_061532_21C6.mkv: 640x640 Done. (0.017s)\n",
      "video 1/1 (1912/3933) D:\\815_CowDataChecking\\20221229\\20221229_M_cow\\20221229_061532_21C6.mkv: 640x640 Done. (0.019s)\n",
      "video 1/1 (1913/3933) D:\\815_CowDataChecking\\20221229\\20221229_M_cow\\20221229_061532_21C6.mkv: 640x640 Done. (0.018s)\n",
      "video 1/1 (1914/3933) D:\\815_CowDataChecking\\20221229\\20221229_M_cow\\20221229_061532_21C6.mkv: 640x640 Done. (0.017s)\n",
      "video 1/1 (1915/3933) D:\\815_CowDataChecking\\20221229\\20221229_M_cow\\20221229_061532_21C6.mkv: 640x640 Done. (0.018s)\n",
      "video 1/1 (1916/3933) D:\\815_CowDataChecking\\20221229\\20221229_M_cow\\20221229_061532_21C6.mkv: 640x640 Done. (0.027s)\n",
      "video 1/1 (1917/3933) D:\\815_CowDataChecking\\20221229\\20221229_M_cow\\20221229_061532_21C6.mkv: 640x640 Done. (0.045s)\n",
      "video 1/1 (1918/3933) D:\\815_CowDataChecking\\20221229\\20221229_M_cow\\20221229_061532_21C6.mkv: 640x640 Done. (0.046s)\n",
      "video 1/1 (1919/3933) D:\\815_CowDataChecking\\20221229\\20221229_M_cow\\20221229_061532_21C6.mkv: 640x640 Done. (0.048s)\n",
      "video 1/1 (1920/3933) D:\\815_CowDataChecking\\20221229\\20221229_M_cow\\20221229_061532_21C6.mkv: 640x640 Done. (0.049s)\n",
      "video 1/1 (1921/3933) D:\\815_CowDataChecking\\20221229\\20221229_M_cow\\20221229_061532_21C6.mkv: 640x640 Done. (0.044s)\n",
      "video 1/1 (1922/3933) D:\\815_CowDataChecking\\20221229\\20221229_M_cow\\20221229_061532_21C6.mkv: 640x640 Done. (0.028s)\n",
      "video 1/1 (1923/3933) D:\\815_CowDataChecking\\20221229\\20221229_M_cow\\20221229_061532_21C6.mkv: 640x640 Done. (0.023s)\n",
      "video 1/1 (1924/3933) D:\\815_CowDataChecking\\20221229\\20221229_M_cow\\20221229_061532_21C6.mkv: 640x640 Done. (0.020s)\n",
      "video 1/1 (1925/3933) D:\\815_CowDataChecking\\20221229\\20221229_M_cow\\20221229_061532_21C6.mkv: 640x640 Done. (0.013s)\n",
      "video 1/1 (1926/3933) D:\\815_CowDataChecking\\20221229\\20221229_M_cow\\20221229_061532_21C6.mkv: 640x640 Done. (0.033s)\n",
      "video 1/1 (1927/3933) D:\\815_CowDataChecking\\20221229\\20221229_M_cow\\20221229_061532_21C6.mkv: 640x640 Done. (0.029s)\n",
      "video 1/1 (1928/3933) D:\\815_CowDataChecking\\20221229\\20221229_M_cow\\20221229_061532_21C6.mkv: 640x640 Done. (0.029s)\n",
      "video 1/1 (1929/3933) D:\\815_CowDataChecking\\20221229\\20221229_M_cow\\20221229_061532_21C6.mkv: 640x640 Done. (0.028s)\n",
      "video 1/1 (1930/3933) D:\\815_CowDataChecking\\20221229\\20221229_M_cow\\20221229_061532_21C6.mkv: 640x640 Done. (0.028s)\n",
      "video 1/1 (1931/3933) D:\\815_CowDataChecking\\20221229\\20221229_M_cow\\20221229_061532_21C6.mkv: 640x640 Done. (0.027s)\n",
      "video 1/1 (1932/3933) D:\\815_CowDataChecking\\20221229\\20221229_M_cow\\20221229_061532_21C6.mkv: 640x640 Done. (0.015s)\n",
      "video 1/1 (1933/3933) D:\\815_CowDataChecking\\20221229\\20221229_M_cow\\20221229_061532_21C6.mkv: 640x640 Done. (0.016s)\n",
      "video 1/1 (1934/3933) D:\\815_CowDataChecking\\20221229\\20221229_M_cow\\20221229_061532_21C6.mkv: 640x640 Done. (0.014s)\n",
      "video 1/1 (1935/3933) D:\\815_CowDataChecking\\20221229\\20221229_M_cow\\20221229_061532_21C6.mkv: 640x640 Done. (0.024s)\n",
      "video 1/1 (1936/3933) D:\\815_CowDataChecking\\20221229\\20221229_M_cow\\20221229_061532_21C6.mkv: 640x640 Done. (0.014s)\n",
      "video 1/1 (1937/3933) D:\\815_CowDataChecking\\20221229\\20221229_M_cow\\20221229_061532_21C6.mkv: 640x640 Done. (0.015s)\n",
      "video 1/1 (1938/3933) D:\\815_CowDataChecking\\20221229\\20221229_M_cow\\20221229_061532_21C6.mkv: 640x640 Done. (0.029s)\n",
      "video 1/1 (1939/3933) D:\\815_CowDataChecking\\20221229\\20221229_M_cow\\20221229_061532_21C6.mkv: 640x640 Done. (0.027s)\n",
      "video 1/1 (1940/3933) D:\\815_CowDataChecking\\20221229\\20221229_M_cow\\20221229_061532_21C6.mkv: 640x640 Done. (0.024s)\n",
      "video 1/1 (1941/3933) D:\\815_CowDataChecking\\20221229\\20221229_M_cow\\20221229_061532_21C6.mkv: 640x640 Done. (0.014s)\n",
      "video 1/1 (1942/3933) D:\\815_CowDataChecking\\20221229\\20221229_M_cow\\20221229_061532_21C6.mkv: 640x640 Done. (0.013s)\n",
      "video 1/1 (1943/3933) D:\\815_CowDataChecking\\20221229\\20221229_M_cow\\20221229_061532_21C6.mkv: 640x640 Done. (0.015s)\n",
      "video 1/1 (1944/3933) D:\\815_CowDataChecking\\20221229\\20221229_M_cow\\20221229_061532_21C6.mkv: 640x640 Done. (0.024s)\n",
      "video 1/1 (1945/3933) D:\\815_CowDataChecking\\20221229\\20221229_M_cow\\20221229_061532_21C6.mkv: 640x640 Done. (0.026s)\n",
      "video 1/1 (1946/3933) D:\\815_CowDataChecking\\20221229\\20221229_M_cow\\20221229_061532_21C6.mkv: 640x640 Done. (0.014s)\n",
      "video 1/1 (1947/3933) D:\\815_CowDataChecking\\20221229\\20221229_M_cow\\20221229_061532_21C6.mkv: 640x640 Done. (0.014s)\n",
      "video 1/1 (1948/3933) D:\\815_CowDataChecking\\20221229\\20221229_M_cow\\20221229_061532_21C6.mkv: 640x640 Done. (0.014s)\n",
      "video 1/1 (1949/3933) D:\\815_CowDataChecking\\20221229\\20221229_M_cow\\20221229_061532_21C6.mkv: 640x640 Done. (0.022s)\n",
      "video 1/1 (1950/3933) D:\\815_CowDataChecking\\20221229\\20221229_M_cow\\20221229_061532_21C6.mkv: 640x640 Done. (0.014s)\n",
      "video 1/1 (1951/3933) D:\\815_CowDataChecking\\20221229\\20221229_M_cow\\20221229_061532_21C6.mkv: 640x640 Done. (0.020s)\n",
      "video 1/1 (1952/3933) D:\\815_CowDataChecking\\20221229\\20221229_M_cow\\20221229_061532_21C6.mkv: 640x640 Done. (0.015s)\n",
      "video 1/1 (1953/3933) D:\\815_CowDataChecking\\20221229\\20221229_M_cow\\20221229_061532_21C6.mkv: 640x640 Done. (0.013s)\n",
      "video 1/1 (1954/3933) D:\\815_CowDataChecking\\20221229\\20221229_M_cow\\20221229_061532_21C6.mkv: 640x640 Done. (0.014s)\n",
      "video 1/1 (1955/3933) D:\\815_CowDataChecking\\20221229\\20221229_M_cow\\20221229_061532_21C6.mkv: 640x640 Done. (0.014s)\n",
      "video 1/1 (1956/3933) D:\\815_CowDataChecking\\20221229\\20221229_M_cow\\20221229_061532_21C6.mkv: 640x640 Done. (0.025s)\n",
      "video 1/1 (1957/3933) D:\\815_CowDataChecking\\20221229\\20221229_M_cow\\20221229_061532_21C6.mkv: 640x640 Done. (0.014s)\n",
      "video 1/1 (1958/3933) D:\\815_CowDataChecking\\20221229\\20221229_M_cow\\20221229_061532_21C6.mkv: 640x640 Done. (0.014s)\n",
      "video 1/1 (1959/3933) D:\\815_CowDataChecking\\20221229\\20221229_M_cow\\20221229_061532_21C6.mkv: 640x640 Done. (0.020s)\n",
      "video 1/1 (1960/3933) D:\\815_CowDataChecking\\20221229\\20221229_M_cow\\20221229_061532_21C6.mkv: 640x640 Done. (0.029s)\n",
      "video 1/1 (1961/3933) D:\\815_CowDataChecking\\20221229\\20221229_M_cow\\20221229_061532_21C6.mkv: 640x640 Done. (0.020s)\n",
      "video 1/1 (1962/3933) D:\\815_CowDataChecking\\20221229\\20221229_M_cow\\20221229_061532_21C6.mkv: 640x640 Done. (0.021s)\n",
      "video 1/1 (1963/3933) D:\\815_CowDataChecking\\20221229\\20221229_M_cow\\20221229_061532_21C6.mkv: 640x640 Done. (0.026s)\n",
      "video 1/1 (1964/3933) D:\\815_CowDataChecking\\20221229\\20221229_M_cow\\20221229_061532_21C6.mkv: 640x640 Done. (0.022s)\n",
      "video 1/1 (1965/3933) D:\\815_CowDataChecking\\20221229\\20221229_M_cow\\20221229_061532_21C6.mkv: 640x640 Done. (0.023s)\n",
      "video 1/1 (1966/3933) D:\\815_CowDataChecking\\20221229\\20221229_M_cow\\20221229_061532_21C6.mkv: 640x640 Done. (0.026s)\n",
      "video 1/1 (1967/3933) D:\\815_CowDataChecking\\20221229\\20221229_M_cow\\20221229_061532_21C6.mkv: 640x640 Done. (0.029s)\n",
      "video 1/1 (1968/3933) D:\\815_CowDataChecking\\20221229\\20221229_M_cow\\20221229_061532_21C6.mkv: 640x640 Done. (0.021s)\n",
      "video 1/1 (1969/3933) D:\\815_CowDataChecking\\20221229\\20221229_M_cow\\20221229_061532_21C6.mkv: 640x640 Done. (0.023s)\n",
      "video 1/1 (1970/3933) D:\\815_CowDataChecking\\20221229\\20221229_M_cow\\20221229_061532_21C6.mkv: 640x640 Done. (0.025s)\n",
      "video 1/1 (1971/3933) D:\\815_CowDataChecking\\20221229\\20221229_M_cow\\20221229_061532_21C6.mkv: 640x640 Done. (0.023s)\n",
      "video 1/1 (1972/3933) D:\\815_CowDataChecking\\20221229\\20221229_M_cow\\20221229_061532_21C6.mkv: 640x640 Done. (0.025s)\n",
      "video 1/1 (1973/3933) D:\\815_CowDataChecking\\20221229\\20221229_M_cow\\20221229_061532_21C6.mkv: 640x640 Done. (0.022s)\n",
      "video 1/1 (1974/3933) D:\\815_CowDataChecking\\20221229\\20221229_M_cow\\20221229_061532_21C6.mkv: 640x640 Done. (0.025s)\n",
      "video 1/1 (1975/3933) D:\\815_CowDataChecking\\20221229\\20221229_M_cow\\20221229_061532_21C6.mkv: 640x640 Done. (0.063s)\n",
      "video 1/1 (1976/3933) D:\\815_CowDataChecking\\20221229\\20221229_M_cow\\20221229_061532_21C6.mkv: 640x640 Done. (0.044s)\n",
      "video 1/1 (1977/3933) D:\\815_CowDataChecking\\20221229\\20221229_M_cow\\20221229_061532_21C6.mkv: 640x640 Done. (0.017s)\n",
      "video 1/1 (1978/3933) D:\\815_CowDataChecking\\20221229\\20221229_M_cow\\20221229_061532_21C6.mkv: 640x640 Done. (0.019s)\n",
      "video 1/1 (1979/3933) D:\\815_CowDataChecking\\20221229\\20221229_M_cow\\20221229_061532_21C6.mkv: 640x640 Done. (0.023s)\n",
      "video 1/1 (1980/3933) D:\\815_CowDataChecking\\20221229\\20221229_M_cow\\20221229_061532_21C6.mkv: 640x640 Done. (0.017s)\n",
      "video 1/1 (1981/3933) D:\\815_CowDataChecking\\20221229\\20221229_M_cow\\20221229_061532_21C6.mkv: 640x640 Done. (0.025s)\n",
      "video 1/1 (1982/3933) D:\\815_CowDataChecking\\20221229\\20221229_M_cow\\20221229_061532_21C6.mkv: 640x640 Done. (0.015s)\n",
      "video 1/1 (1983/3933) D:\\815_CowDataChecking\\20221229\\20221229_M_cow\\20221229_061532_21C6.mkv: 640x640 Done. (0.017s)\n",
      "video 1/1 (1984/3933) D:\\815_CowDataChecking\\20221229\\20221229_M_cow\\20221229_061532_21C6.mkv: 640x640 Done. (0.024s)\n",
      "video 1/1 (1985/3933) D:\\815_CowDataChecking\\20221229\\20221229_M_cow\\20221229_061532_21C6.mkv: 640x640 Done. (0.017s)\n",
      "video 1/1 (1986/3933) D:\\815_CowDataChecking\\20221229\\20221229_M_cow\\20221229_061532_21C6.mkv: 640x640 Done. (0.014s)\n",
      "video 1/1 (1987/3933) D:\\815_CowDataChecking\\20221229\\20221229_M_cow\\20221229_061532_21C6.mkv: 640x640 Done. (0.026s)\n",
      "video 1/1 (1988/3933) D:\\815_CowDataChecking\\20221229\\20221229_M_cow\\20221229_061532_21C6.mkv: 640x640 Done. (0.016s)\n",
      "video 1/1 (1989/3933) D:\\815_CowDataChecking\\20221229\\20221229_M_cow\\20221229_061532_21C6.mkv: 640x640 Done. (0.015s)\n",
      "video 1/1 (1990/3933) D:\\815_CowDataChecking\\20221229\\20221229_M_cow\\20221229_061532_21C6.mkv: 640x640 Done. (0.031s)\n",
      "video 1/1 (1991/3933) D:\\815_CowDataChecking\\20221229\\20221229_M_cow\\20221229_061532_21C6.mkv: 640x640 Done. (0.026s)\n",
      "video 1/1 (1992/3933) D:\\815_CowDataChecking\\20221229\\20221229_M_cow\\20221229_061532_21C6.mkv: 640x640 Done. (0.024s)\n",
      "video 1/1 (1993/3933) D:\\815_CowDataChecking\\20221229\\20221229_M_cow\\20221229_061532_21C6.mkv: 640x640 Done. (0.013s)\n",
      "video 1/1 (1994/3933) D:\\815_CowDataChecking\\20221229\\20221229_M_cow\\20221229_061532_21C6.mkv: 640x640 Done. (0.014s)\n",
      "video 1/1 (1995/3933) D:\\815_CowDataChecking\\20221229\\20221229_M_cow\\20221229_061532_21C6.mkv: 640x640 Done. (0.013s)\n",
      "video 1/1 (1996/3933) D:\\815_CowDataChecking\\20221229\\20221229_M_cow\\20221229_061532_21C6.mkv: 640x640 Done. (0.025s)\n",
      "video 1/1 (1997/3933) D:\\815_CowDataChecking\\20221229\\20221229_M_cow\\20221229_061532_21C6.mkv: 640x640 Done. (0.020s)\n",
      "video 1/1 (1998/3933) D:\\815_CowDataChecking\\20221229\\20221229_M_cow\\20221229_061532_21C6.mkv: 640x640 Done. (0.012s)\n",
      "video 1/1 (1999/3933) D:\\815_CowDataChecking\\20221229\\20221229_M_cow\\20221229_061532_21C6.mkv: 640x640 Done. (0.024s)\n",
      "video 1/1 (2000/3933) D:\\815_CowDataChecking\\20221229\\20221229_M_cow\\20221229_061532_21C6.mkv: 640x640 Done. (0.022s)\n",
      "video 1/1 (2001/3933) D:\\815_CowDataChecking\\20221229\\20221229_M_cow\\20221229_061532_21C6.mkv: 640x640 Done. (0.014s)\n",
      "video 1/1 (2002/3933) D:\\815_CowDataChecking\\20221229\\20221229_M_cow\\20221229_061532_21C6.mkv: 640x640 Done. (0.014s)\n",
      "video 1/1 (2003/3933) D:\\815_CowDataChecking\\20221229\\20221229_M_cow\\20221229_061532_21C6.mkv: 640x640 Done. (0.014s)\n",
      "video 1/1 (2004/3933) D:\\815_CowDataChecking\\20221229\\20221229_M_cow\\20221229_061532_21C6.mkv: 640x640 Done. (0.014s)\n",
      "video 1/1 (2005/3933) D:\\815_CowDataChecking\\20221229\\20221229_M_cow\\20221229_061532_21C6.mkv: 640x640 Done. (0.026s)\n",
      "video 1/1 (2006/3933) D:\\815_CowDataChecking\\20221229\\20221229_M_cow\\20221229_061532_21C6.mkv: 640x640 Done. (0.013s)\n",
      "video 1/1 (2007/3933) D:\\815_CowDataChecking\\20221229\\20221229_M_cow\\20221229_061532_21C6.mkv: 640x640 Done. (0.012s)\n",
      "video 1/1 (2008/3933) D:\\815_CowDataChecking\\20221229\\20221229_M_cow\\20221229_061532_21C6.mkv: 640x640 Done. (0.013s)\n",
      "video 1/1 (2009/3933) D:\\815_CowDataChecking\\20221229\\20221229_M_cow\\20221229_061532_21C6.mkv: 640x640 Done. (0.015s)\n",
      "video 1/1 (2010/3933) D:\\815_CowDataChecking\\20221229\\20221229_M_cow\\20221229_061532_21C6.mkv: 640x640 Done. (0.014s)\n",
      "video 1/1 (2011/3933) D:\\815_CowDataChecking\\20221229\\20221229_M_cow\\20221229_061532_21C6.mkv: 640x640 Done. (0.015s)\n",
      "video 1/1 (2012/3933) D:\\815_CowDataChecking\\20221229\\20221229_M_cow\\20221229_061532_21C6.mkv: 640x640 Done. (0.013s)\n",
      "video 1/1 (2013/3933) D:\\815_CowDataChecking\\20221229\\20221229_M_cow\\20221229_061532_21C6.mkv: 640x640 Done. (0.040s)\n",
      "video 1/1 (2014/3933) D:\\815_CowDataChecking\\20221229\\20221229_M_cow\\20221229_061532_21C6.mkv: 640x640 Done. (0.042s)\n",
      "video 1/1 (2015/3933) D:\\815_CowDataChecking\\20221229\\20221229_M_cow\\20221229_061532_21C6.mkv: 640x640 Done. (0.019s)\n",
      "video 1/1 (2016/3933) D:\\815_CowDataChecking\\20221229\\20221229_M_cow\\20221229_061532_21C6.mkv: 640x640 Done. (0.018s)\n",
      "video 1/1 (2017/3933) D:\\815_CowDataChecking\\20221229\\20221229_M_cow\\20221229_061532_21C6.mkv: 640x640 Done. (0.019s)\n",
      "video 1/1 (2018/3933) D:\\815_CowDataChecking\\20221229\\20221229_M_cow\\20221229_061532_21C6.mkv: 640x640 Done. (0.019s)\n",
      "video 1/1 (2019/3933) D:\\815_CowDataChecking\\20221229\\20221229_M_cow\\20221229_061532_21C6.mkv: 640x640 Done. (0.019s)\n",
      "video 1/1 (2020/3933) D:\\815_CowDataChecking\\20221229\\20221229_M_cow\\20221229_061532_21C6.mkv: 640x640 Done. (0.018s)\n",
      "video 1/1 (2021/3933) D:\\815_CowDataChecking\\20221229\\20221229_M_cow\\20221229_061532_21C6.mkv: 640x640 Done. (0.025s)\n",
      "video 1/1 (2022/3933) D:\\815_CowDataChecking\\20221229\\20221229_M_cow\\20221229_061532_21C6.mkv: 640x640 Done. (0.018s)\n",
      "video 1/1 (2023/3933) D:\\815_CowDataChecking\\20221229\\20221229_M_cow\\20221229_061532_21C6.mkv: 640x640 Done. (0.025s)\n",
      "video 1/1 (2024/3933) D:\\815_CowDataChecking\\20221229\\20221229_M_cow\\20221229_061532_21C6.mkv: 640x640 Done. (0.018s)\n",
      "video 1/1 (2025/3933) D:\\815_CowDataChecking\\20221229\\20221229_M_cow\\20221229_061532_21C6.mkv: 640x640 Done. (0.019s)\n",
      "video 1/1 (2026/3933) D:\\815_CowDataChecking\\20221229\\20221229_M_cow\\20221229_061532_21C6.mkv: 640x640 Done. (0.017s)\n",
      "video 1/1 (2027/3933) D:\\815_CowDataChecking\\20221229\\20221229_M_cow\\20221229_061532_21C6.mkv: 640x640 Done. (0.024s)\n",
      "video 1/1 (2028/3933) D:\\815_CowDataChecking\\20221229\\20221229_M_cow\\20221229_061532_21C6.mkv: 640x640 Done. (0.026s)\n",
      "video 1/1 (2029/3933) D:\\815_CowDataChecking\\20221229\\20221229_M_cow\\20221229_061532_21C6.mkv: 640x640 Done. (0.018s)\n",
      "video 1/1 (2030/3933) D:\\815_CowDataChecking\\20221229\\20221229_M_cow\\20221229_061532_21C6.mkv: 640x640 Done. (0.022s)\n",
      "video 1/1 (2031/3933) D:\\815_CowDataChecking\\20221229\\20221229_M_cow\\20221229_061532_21C6.mkv: 640x640 Done. (0.025s)\n",
      "video 1/1 (2032/3933) D:\\815_CowDataChecking\\20221229\\20221229_M_cow\\20221229_061532_21C6.mkv: 640x640 Done. (0.022s)\n",
      "video 1/1 (2033/3933) D:\\815_CowDataChecking\\20221229\\20221229_M_cow\\20221229_061532_21C6.mkv: 640x640 Done. (0.049s)\n",
      "video 1/1 (2034/3933) D:\\815_CowDataChecking\\20221229\\20221229_M_cow\\20221229_061532_21C6.mkv: 640x640 Done. (0.050s)\n",
      "video 1/1 (2035/3933) D:\\815_CowDataChecking\\20221229\\20221229_M_cow\\20221229_061532_21C6.mkv: 640x640 Done. (0.046s)\n",
      "video 1/1 (2036/3933) D:\\815_CowDataChecking\\20221229\\20221229_M_cow\\20221229_061532_21C6.mkv: 640x640 Done. (0.051s)\n",
      "video 1/1 (2037/3933) D:\\815_CowDataChecking\\20221229\\20221229_M_cow\\20221229_061532_21C6.mkv: 640x640 Done. (0.050s)\n",
      "video 1/1 (2038/3933) D:\\815_CowDataChecking\\20221229\\20221229_M_cow\\20221229_061532_21C6.mkv: 640x640 Done. (0.020s)\n",
      "video 1/1 (2039/3933) D:\\815_CowDataChecking\\20221229\\20221229_M_cow\\20221229_061532_21C6.mkv: 640x640 Done. (0.018s)\n",
      "video 1/1 (2040/3933) D:\\815_CowDataChecking\\20221229\\20221229_M_cow\\20221229_061532_21C6.mkv: 640x640 Done. (0.016s)\n",
      "video 1/1 (2041/3933) D:\\815_CowDataChecking\\20221229\\20221229_M_cow\\20221229_061532_21C6.mkv: 640x640 Done. (0.018s)\n",
      "video 1/1 (2042/3933) D:\\815_CowDataChecking\\20221229\\20221229_M_cow\\20221229_061532_21C6.mkv: 640x640 Done. (0.017s)\n",
      "video 1/1 (2043/3933) D:\\815_CowDataChecking\\20221229\\20221229_M_cow\\20221229_061532_21C6.mkv: 640x640 Done. (0.026s)\n",
      "video 1/1 (2044/3933) D:\\815_CowDataChecking\\20221229\\20221229_M_cow\\20221229_061532_21C6.mkv: 640x640 Done. (0.016s)\n",
      "video 1/1 (2045/3933) D:\\815_CowDataChecking\\20221229\\20221229_M_cow\\20221229_061532_21C6.mkv: 640x640 Done. (0.016s)\n",
      "video 1/1 (2046/3933) D:\\815_CowDataChecking\\20221229\\20221229_M_cow\\20221229_061532_21C6.mkv: 640x640 Done. (0.024s)\n",
      "video 1/1 (2047/3933) D:\\815_CowDataChecking\\20221229\\20221229_M_cow\\20221229_061532_21C6.mkv: 640x640 Done. (0.016s)\n",
      "video 1/1 (2048/3933) D:\\815_CowDataChecking\\20221229\\20221229_M_cow\\20221229_061532_21C6.mkv: 640x640 Done. (0.018s)\n",
      "video 1/1 (2049/3933) D:\\815_CowDataChecking\\20221229\\20221229_M_cow\\20221229_061532_21C6.mkv: 640x640 Done. (0.019s)\n",
      "video 1/1 (2050/3933) D:\\815_CowDataChecking\\20221229\\20221229_M_cow\\20221229_061532_21C6.mkv: 640x640 Done. (0.027s)\n",
      "video 1/1 (2051/3933) D:\\815_CowDataChecking\\20221229\\20221229_M_cow\\20221229_061532_21C6.mkv: 640x640 Done. (0.030s)\n",
      "video 1/1 (2052/3933) D:\\815_CowDataChecking\\20221229\\20221229_M_cow\\20221229_061532_21C6.mkv: 640x640 Done. (0.023s)\n",
      "video 1/1 (2053/3933) D:\\815_CowDataChecking\\20221229\\20221229_M_cow\\20221229_061532_21C6.mkv: 640x640 Done. (0.012s)\n",
      "video 1/1 (2054/3933) D:\\815_CowDataChecking\\20221229\\20221229_M_cow\\20221229_061532_21C6.mkv: 640x640 Done. (0.016s)\n",
      "video 1/1 (2055/3933) D:\\815_CowDataChecking\\20221229\\20221229_M_cow\\20221229_061532_21C6.mkv: 640x640 Done. (0.019s)\n",
      "video 1/1 (2056/3933) D:\\815_CowDataChecking\\20221229\\20221229_M_cow\\20221229_061532_21C6.mkv: 640x640 Done. (0.025s)\n",
      "video 1/1 (2057/3933) D:\\815_CowDataChecking\\20221229\\20221229_M_cow\\20221229_061532_21C6.mkv: 640x640 Done. (0.022s)\n",
      "video 1/1 (2058/3933) D:\\815_CowDataChecking\\20221229\\20221229_M_cow\\20221229_061532_21C6.mkv: 640x640 Done. (0.022s)\n",
      "video 1/1 (2059/3933) D:\\815_CowDataChecking\\20221229\\20221229_M_cow\\20221229_061532_21C6.mkv: 640x640 Done. (0.016s)\n",
      "video 1/1 (2060/3933) D:\\815_CowDataChecking\\20221229\\20221229_M_cow\\20221229_061532_21C6.mkv: 640x640 Done. (0.017s)\n",
      "video 1/1 (2061/3933) D:\\815_CowDataChecking\\20221229\\20221229_M_cow\\20221229_061532_21C6.mkv: 640x640 Done. (0.014s)\n",
      "video 1/1 (2062/3933) D:\\815_CowDataChecking\\20221229\\20221229_M_cow\\20221229_061532_21C6.mkv: 640x640 Done. (0.017s)\n",
      "video 1/1 (2063/3933) D:\\815_CowDataChecking\\20221229\\20221229_M_cow\\20221229_061532_21C6.mkv: 640x640 Done. (0.026s)\n",
      "video 1/1 (2064/3933) D:\\815_CowDataChecking\\20221229\\20221229_M_cow\\20221229_061532_21C6.mkv: 640x640 Done. (0.018s)\n",
      "video 1/1 (2065/3933) D:\\815_CowDataChecking\\20221229\\20221229_M_cow\\20221229_061532_21C6.mkv: 640x640 Done. (0.017s)\n",
      "video 1/1 (2066/3933) D:\\815_CowDataChecking\\20221229\\20221229_M_cow\\20221229_061532_21C6.mkv: 640x640 Done. (0.020s)\n",
      "video 1/1 (2067/3933) D:\\815_CowDataChecking\\20221229\\20221229_M_cow\\20221229_061532_21C6.mkv: 640x640 Done. (0.012s)\n",
      "video 1/1 (2068/3933) D:\\815_CowDataChecking\\20221229\\20221229_M_cow\\20221229_061532_21C6.mkv: 640x640 Done. (0.024s)\n",
      "video 1/1 (2069/3933) D:\\815_CowDataChecking\\20221229\\20221229_M_cow\\20221229_061532_21C6.mkv: 640x640 Done. (0.027s)\n",
      "video 1/1 (2070/3933) D:\\815_CowDataChecking\\20221229\\20221229_M_cow\\20221229_061532_21C6.mkv: 640x640 Done. (0.020s)\n",
      "video 1/1 (2071/3933) D:\\815_CowDataChecking\\20221229\\20221229_M_cow\\20221229_061532_21C6.mkv: 640x640 Done. (0.027s)\n",
      "video 1/1 (2072/3933) D:\\815_CowDataChecking\\20221229\\20221229_M_cow\\20221229_061532_21C6.mkv: 640x640 Done. (0.020s)\n",
      "video 1/1 (2073/3933) D:\\815_CowDataChecking\\20221229\\20221229_M_cow\\20221229_061532_21C6.mkv: 640x640 Done. (0.015s)\n",
      "video 1/1 (2074/3933) D:\\815_CowDataChecking\\20221229\\20221229_M_cow\\20221229_061532_21C6.mkv: 640x640 Done. (0.023s)\n",
      "video 1/1 (2075/3933) D:\\815_CowDataChecking\\20221229\\20221229_M_cow\\20221229_061532_21C6.mkv: 640x640 Done. (0.013s)\n",
      "video 1/1 (2076/3933) D:\\815_CowDataChecking\\20221229\\20221229_M_cow\\20221229_061532_21C6.mkv: 640x640 Done. (0.019s)\n",
      "video 1/1 (2077/3933) D:\\815_CowDataChecking\\20221229\\20221229_M_cow\\20221229_061532_21C6.mkv: 640x640 Done. (0.016s)\n",
      "video 1/1 (2078/3933) D:\\815_CowDataChecking\\20221229\\20221229_M_cow\\20221229_061532_21C6.mkv: 640x640 Done. (0.028s)\n",
      "video 1/1 (2079/3933) D:\\815_CowDataChecking\\20221229\\20221229_M_cow\\20221229_061532_21C6.mkv: 640x640 Done. (0.026s)\n",
      "video 1/1 (2080/3933) D:\\815_CowDataChecking\\20221229\\20221229_M_cow\\20221229_061532_21C6.mkv: 640x640 Done. (0.017s)\n",
      "video 1/1 (2081/3933) D:\\815_CowDataChecking\\20221229\\20221229_M_cow\\20221229_061532_21C6.mkv: 640x640 Done. (0.017s)\n",
      "video 1/1 (2082/3933) D:\\815_CowDataChecking\\20221229\\20221229_M_cow\\20221229_061532_21C6.mkv: 640x640 Done. (0.025s)\n",
      "video 1/1 (2083/3933) D:\\815_CowDataChecking\\20221229\\20221229_M_cow\\20221229_061532_21C6.mkv: 640x640 Done. (0.021s)\n",
      "video 1/1 (2084/3933) D:\\815_CowDataChecking\\20221229\\20221229_M_cow\\20221229_061532_21C6.mkv: 640x640 Done. (0.017s)\n",
      "video 1/1 (2085/3933) D:\\815_CowDataChecking\\20221229\\20221229_M_cow\\20221229_061532_21C6.mkv: 640x640 Done. (0.018s)\n",
      "video 1/1 (2086/3933) D:\\815_CowDataChecking\\20221229\\20221229_M_cow\\20221229_061532_21C6.mkv: 640x640 Done. (0.025s)\n",
      "video 1/1 (2087/3933) D:\\815_CowDataChecking\\20221229\\20221229_M_cow\\20221229_061532_21C6.mkv: 640x640 Done. (0.020s)\n",
      "video 1/1 (2088/3933) D:\\815_CowDataChecking\\20221229\\20221229_M_cow\\20221229_061532_21C6.mkv: 640x640 Done. (0.047s)\n",
      "video 1/1 (2089/3933) D:\\815_CowDataChecking\\20221229\\20221229_M_cow\\20221229_061532_21C6.mkv: 640x640 Done. (0.042s)\n",
      "video 1/1 (2090/3933) D:\\815_CowDataChecking\\20221229\\20221229_M_cow\\20221229_061532_21C6.mkv: 640x640 Done. (0.022s)\n",
      "video 1/1 (2091/3933) D:\\815_CowDataChecking\\20221229\\20221229_M_cow\\20221229_061532_21C6.mkv: 640x640 Done. (0.020s)\n",
      "video 1/1 (2092/3933) D:\\815_CowDataChecking\\20221229\\20221229_M_cow\\20221229_061532_21C6.mkv: 640x640 Done. (0.019s)\n",
      "video 1/1 (2093/3933) D:\\815_CowDataChecking\\20221229\\20221229_M_cow\\20221229_061532_21C6.mkv: 640x640 Done. (0.017s)\n",
      "video 1/1 (2094/3933) D:\\815_CowDataChecking\\20221229\\20221229_M_cow\\20221229_061532_21C6.mkv: 640x640 Done. (0.021s)\n",
      "video 1/1 (2095/3933) D:\\815_CowDataChecking\\20221229\\20221229_M_cow\\20221229_061532_21C6.mkv: 640x640 Done. (0.018s)\n",
      "video 1/1 (2096/3933) D:\\815_CowDataChecking\\20221229\\20221229_M_cow\\20221229_061532_21C6.mkv: 640x640 Done. (0.019s)\n",
      "video 1/1 (2097/3933) D:\\815_CowDataChecking\\20221229\\20221229_M_cow\\20221229_061532_21C6.mkv: 640x640 Done. (0.020s)\n",
      "video 1/1 (2098/3933) D:\\815_CowDataChecking\\20221229\\20221229_M_cow\\20221229_061532_21C6.mkv: 640x640 Done. (0.022s)\n",
      "video 1/1 (2099/3933) D:\\815_CowDataChecking\\20221229\\20221229_M_cow\\20221229_061532_21C6.mkv: 640x640 Done. (0.026s)\n",
      "video 1/1 (2100/3933) D:\\815_CowDataChecking\\20221229\\20221229_M_cow\\20221229_061532_21C6.mkv: 640x640 Done. (0.018s)\n",
      "video 1/1 (2101/3933) D:\\815_CowDataChecking\\20221229\\20221229_M_cow\\20221229_061532_21C6.mkv: 640x640 Done. (0.018s)\n",
      "video 1/1 (2102/3933) D:\\815_CowDataChecking\\20221229\\20221229_M_cow\\20221229_061532_21C6.mkv: 640x640 Done. (0.020s)\n",
      "video 1/1 (2103/3933) D:\\815_CowDataChecking\\20221229\\20221229_M_cow\\20221229_061532_21C6.mkv: 640x640 Done. (0.025s)\n",
      "video 1/1 (2104/3933) D:\\815_CowDataChecking\\20221229\\20221229_M_cow\\20221229_061532_21C6.mkv: 640x640 Done. (0.018s)\n",
      "video 1/1 (2105/3933) D:\\815_CowDataChecking\\20221229\\20221229_M_cow\\20221229_061532_21C6.mkv: 640x640 Done. (0.019s)\n",
      "video 1/1 (2106/3933) D:\\815_CowDataChecking\\20221229\\20221229_M_cow\\20221229_061532_21C6.mkv: 640x640 Done. (0.018s)\n",
      "video 1/1 (2107/3933) D:\\815_CowDataChecking\\20221229\\20221229_M_cow\\20221229_061532_21C6.mkv: 640x640 Done. (0.022s)\n",
      "video 1/1 (2108/3933) D:\\815_CowDataChecking\\20221229\\20221229_M_cow\\20221229_061532_21C6.mkv: 640x640 Done. (0.034s)\n",
      "video 1/1 (2109/3933) D:\\815_CowDataChecking\\20221229\\20221229_M_cow\\20221229_061532_21C6.mkv: 640x640 Done. (0.054s)\n",
      "video 1/1 (2110/3933) D:\\815_CowDataChecking\\20221229\\20221229_M_cow\\20221229_061532_21C6.mkv: 640x640 Done. (0.056s)\n",
      "video 1/1 (2111/3933) D:\\815_CowDataChecking\\20221229\\20221229_M_cow\\20221229_061532_21C6.mkv: 640x640 Done. (0.044s)\n",
      "video 1/1 (2112/3933) D:\\815_CowDataChecking\\20221229\\20221229_M_cow\\20221229_061532_21C6.mkv: 640x640 Done. (0.015s)\n",
      "video 1/1 (2113/3933) D:\\815_CowDataChecking\\20221229\\20221229_M_cow\\20221229_061532_21C6.mkv: 640x640 Done. (0.022s)\n",
      "video 1/1 (2114/3933) D:\\815_CowDataChecking\\20221229\\20221229_M_cow\\20221229_061532_21C6.mkv: 640x640 Done. (0.035s)\n",
      "video 1/1 (2115/3933) D:\\815_CowDataChecking\\20221229\\20221229_M_cow\\20221229_061532_21C6.mkv: 640x640 Done. (0.028s)\n",
      "video 1/1 (2116/3933) D:\\815_CowDataChecking\\20221229\\20221229_M_cow\\20221229_061532_21C6.mkv: 640x640 Done. (0.027s)\n",
      "video 1/1 (2117/3933) D:\\815_CowDataChecking\\20221229\\20221229_M_cow\\20221229_061532_21C6.mkv: 640x640 Done. (0.020s)\n",
      "video 1/1 (2118/3933) D:\\815_CowDataChecking\\20221229\\20221229_M_cow\\20221229_061532_21C6.mkv: 640x640 Done. (0.025s)\n",
      "video 1/1 (2119/3933) D:\\815_CowDataChecking\\20221229\\20221229_M_cow\\20221229_061532_21C6.mkv: 640x640 Done. (0.020s)\n",
      "video 1/1 (2120/3933) D:\\815_CowDataChecking\\20221229\\20221229_M_cow\\20221229_061532_21C6.mkv: 640x640 Done. (0.019s)\n",
      "video 1/1 (2121/3933) D:\\815_CowDataChecking\\20221229\\20221229_M_cow\\20221229_061532_21C6.mkv: 640x640 Done. (0.015s)\n",
      "video 1/1 (2122/3933) D:\\815_CowDataChecking\\20221229\\20221229_M_cow\\20221229_061532_21C6.mkv: 640x640 Done. (0.015s)\n",
      "video 1/1 (2123/3933) D:\\815_CowDataChecking\\20221229\\20221229_M_cow\\20221229_061532_21C6.mkv: 640x640 Done. (0.014s)\n",
      "video 1/1 (2124/3933) D:\\815_CowDataChecking\\20221229\\20221229_M_cow\\20221229_061532_21C6.mkv: 640x640 Done. (0.016s)\n",
      "video 1/1 (2125/3933) D:\\815_CowDataChecking\\20221229\\20221229_M_cow\\20221229_061532_21C6.mkv: 640x640 Done. (0.015s)\n",
      "video 1/1 (2126/3933) D:\\815_CowDataChecking\\20221229\\20221229_M_cow\\20221229_061532_21C6.mkv: 640x640 Done. (0.014s)\n",
      "video 1/1 (2127/3933) D:\\815_CowDataChecking\\20221229\\20221229_M_cow\\20221229_061532_21C6.mkv: 640x640 Done. (0.013s)\n",
      "video 1/1 (2128/3933) D:\\815_CowDataChecking\\20221229\\20221229_M_cow\\20221229_061532_21C6.mkv: 640x640 Done. (0.015s)\n",
      "video 1/1 (2129/3933) D:\\815_CowDataChecking\\20221229\\20221229_M_cow\\20221229_061532_21C6.mkv: 640x640 Done. (0.014s)\n",
      "video 1/1 (2130/3933) D:\\815_CowDataChecking\\20221229\\20221229_M_cow\\20221229_061532_21C6.mkv: 640x640 Done. (0.014s)\n",
      "video 1/1 (2131/3933) D:\\815_CowDataChecking\\20221229\\20221229_M_cow\\20221229_061532_21C6.mkv: 640x640 Done. (0.013s)\n",
      "video 1/1 (2132/3933) D:\\815_CowDataChecking\\20221229\\20221229_M_cow\\20221229_061532_21C6.mkv: 640x640 Done. (0.013s)\n",
      "video 1/1 (2133/3933) D:\\815_CowDataChecking\\20221229\\20221229_M_cow\\20221229_061532_21C6.mkv: 640x640 Done. (0.020s)\n",
      "video 1/1 (2134/3933) D:\\815_CowDataChecking\\20221229\\20221229_M_cow\\20221229_061532_21C6.mkv: 640x640 Done. (0.017s)\n",
      "video 1/1 (2135/3933) D:\\815_CowDataChecking\\20221229\\20221229_M_cow\\20221229_061532_21C6.mkv: 640x640 Done. (0.014s)\n",
      "video 1/1 (2136/3933) D:\\815_CowDataChecking\\20221229\\20221229_M_cow\\20221229_061532_21C6.mkv: 640x640 Done. (0.017s)\n",
      "video 1/1 (2137/3933) D:\\815_CowDataChecking\\20221229\\20221229_M_cow\\20221229_061532_21C6.mkv: 640x640 Done. (0.019s)\n",
      "video 1/1 (2138/3933) D:\\815_CowDataChecking\\20221229\\20221229_M_cow\\20221229_061532_21C6.mkv: 640x640 Done. (0.030s)\n",
      "video 1/1 (2139/3933) D:\\815_CowDataChecking\\20221229\\20221229_M_cow\\20221229_061532_21C6.mkv: 640x640 Done. (0.028s)\n",
      "video 1/1 (2140/3933) D:\\815_CowDataChecking\\20221229\\20221229_M_cow\\20221229_061532_21C6.mkv: 640x640 Done. (0.027s)\n",
      "video 1/1 (2141/3933) D:\\815_CowDataChecking\\20221229\\20221229_M_cow\\20221229_061532_21C6.mkv: 640x640 Done. (0.014s)\n",
      "video 1/1 (2142/3933) D:\\815_CowDataChecking\\20221229\\20221229_M_cow\\20221229_061532_21C6.mkv: 640x640 Done. (0.013s)\n",
      "video 1/1 (2143/3933) D:\\815_CowDataChecking\\20221229\\20221229_M_cow\\20221229_061532_21C6.mkv: 640x640 Done. (0.016s)\n",
      "video 1/1 (2144/3933) D:\\815_CowDataChecking\\20221229\\20221229_M_cow\\20221229_061532_21C6.mkv: 640x640 Done. (0.018s)\n",
      "video 1/1 (2145/3933) D:\\815_CowDataChecking\\20221229\\20221229_M_cow\\20221229_061532_21C6.mkv: 640x640 Done. (0.013s)\n",
      "video 1/1 (2146/3933) D:\\815_CowDataChecking\\20221229\\20221229_M_cow\\20221229_061532_21C6.mkv: 640x640 Done. (0.014s)\n",
      "video 1/1 (2147/3933) D:\\815_CowDataChecking\\20221229\\20221229_M_cow\\20221229_061532_21C6.mkv: 640x640 Done. (0.014s)\n",
      "video 1/1 (2148/3933) D:\\815_CowDataChecking\\20221229\\20221229_M_cow\\20221229_061532_21C6.mkv: 640x640 Done. (0.014s)\n",
      "video 1/1 (2149/3933) D:\\815_CowDataChecking\\20221229\\20221229_M_cow\\20221229_061532_21C6.mkv: 640x640 Done. (0.013s)\n",
      "video 1/1 (2150/3933) D:\\815_CowDataChecking\\20221229\\20221229_M_cow\\20221229_061532_21C6.mkv: 640x640 Done. (0.012s)\n",
      "video 1/1 (2151/3933) D:\\815_CowDataChecking\\20221229\\20221229_M_cow\\20221229_061532_21C6.mkv: 640x640 Done. (0.014s)\n",
      "video 1/1 (2152/3933) D:\\815_CowDataChecking\\20221229\\20221229_M_cow\\20221229_061532_21C6.mkv: 640x640 Done. (0.014s)\n",
      "video 1/1 (2153/3933) D:\\815_CowDataChecking\\20221229\\20221229_M_cow\\20221229_061532_21C6.mkv: 640x640 Done. (0.012s)\n",
      "video 1/1 (2154/3933) D:\\815_CowDataChecking\\20221229\\20221229_M_cow\\20221229_061532_21C6.mkv: 640x640 Done. (0.013s)\n",
      "video 1/1 (2155/3933) D:\\815_CowDataChecking\\20221229\\20221229_M_cow\\20221229_061532_21C6.mkv: 640x640 Done. (0.013s)\n",
      "video 1/1 (2156/3933) D:\\815_CowDataChecking\\20221229\\20221229_M_cow\\20221229_061532_21C6.mkv: 640x640 Done. (0.014s)\n",
      "video 1/1 (2157/3933) D:\\815_CowDataChecking\\20221229\\20221229_M_cow\\20221229_061532_21C6.mkv: 640x640 Done. (0.014s)\n",
      "video 1/1 (2158/3933) D:\\815_CowDataChecking\\20221229\\20221229_M_cow\\20221229_061532_21C6.mkv: 640x640 Done. (0.015s)\n",
      "video 1/1 (2159/3933) D:\\815_CowDataChecking\\20221229\\20221229_M_cow\\20221229_061532_21C6.mkv: 640x640 Done. (0.014s)\n",
      "video 1/1 (2160/3933) D:\\815_CowDataChecking\\20221229\\20221229_M_cow\\20221229_061532_21C6.mkv: 640x640 Done. (0.013s)\n",
      "video 1/1 (2161/3933) D:\\815_CowDataChecking\\20221229\\20221229_M_cow\\20221229_061532_21C6.mkv: 640x640 Done. (0.013s)\n",
      "video 1/1 (2162/3933) D:\\815_CowDataChecking\\20221229\\20221229_M_cow\\20221229_061532_21C6.mkv: 640x640 Done. (0.026s)\n",
      "video 1/1 (2163/3933) D:\\815_CowDataChecking\\20221229\\20221229_M_cow\\20221229_061532_21C6.mkv: 640x640 Done. (0.040s)\n",
      "video 1/1 (2164/3933) D:\\815_CowDataChecking\\20221229\\20221229_M_cow\\20221229_061532_21C6.mkv: 640x640 Done. (0.040s)\n",
      "video 1/1 (2165/3933) D:\\815_CowDataChecking\\20221229\\20221229_M_cow\\20221229_061532_21C6.mkv: 640x640 Done. (0.042s)\n",
      "video 1/1 (2166/3933) D:\\815_CowDataChecking\\20221229\\20221229_M_cow\\20221229_061532_21C6.mkv: 640x640 Done. (0.018s)\n",
      "video 1/1 (2167/3933) D:\\815_CowDataChecking\\20221229\\20221229_M_cow\\20221229_061532_21C6.mkv: 640x640 Done. (0.027s)\n",
      "video 1/1 (2168/3933) D:\\815_CowDataChecking\\20221229\\20221229_M_cow\\20221229_061532_21C6.mkv: 640x640 Done. (0.026s)\n",
      "video 1/1 (2169/3933) D:\\815_CowDataChecking\\20221229\\20221229_M_cow\\20221229_061532_21C6.mkv: 640x640 Done. (0.031s)\n",
      "video 1/1 (2170/3933) D:\\815_CowDataChecking\\20221229\\20221229_M_cow\\20221229_061532_21C6.mkv: 640x640 Done. (0.014s)\n",
      "video 1/1 (2171/3933) D:\\815_CowDataChecking\\20221229\\20221229_M_cow\\20221229_061532_21C6.mkv: 640x640 Done. (0.015s)\n",
      "video 1/1 (2172/3933) D:\\815_CowDataChecking\\20221229\\20221229_M_cow\\20221229_061532_21C6.mkv: 640x640 Done. (0.012s)\n",
      "video 1/1 (2173/3933) D:\\815_CowDataChecking\\20221229\\20221229_M_cow\\20221229_061532_21C6.mkv: 640x640 Done. (0.014s)\n",
      "video 1/1 (2174/3933) D:\\815_CowDataChecking\\20221229\\20221229_M_cow\\20221229_061532_21C6.mkv: 640x640 Done. (0.015s)\n",
      "video 1/1 (2175/3933) D:\\815_CowDataChecking\\20221229\\20221229_M_cow\\20221229_061532_21C6.mkv: 640x640 Done. (0.015s)\n",
      "video 1/1 (2176/3933) D:\\815_CowDataChecking\\20221229\\20221229_M_cow\\20221229_061532_21C6.mkv: 640x640 Done. (0.018s)\n",
      "video 1/1 (2177/3933) D:\\815_CowDataChecking\\20221229\\20221229_M_cow\\20221229_061532_21C6.mkv: 640x640 Done. (0.013s)\n",
      "video 1/1 (2178/3933) D:\\815_CowDataChecking\\20221229\\20221229_M_cow\\20221229_061532_21C6.mkv: 640x640 Done. (0.014s)\n",
      "video 1/1 (2179/3933) D:\\815_CowDataChecking\\20221229\\20221229_M_cow\\20221229_061532_21C6.mkv: 640x640 Done. (0.013s)\n",
      "video 1/1 (2180/3933) D:\\815_CowDataChecking\\20221229\\20221229_M_cow\\20221229_061532_21C6.mkv: 640x640 Done. (0.015s)\n",
      "video 1/1 (2181/3933) D:\\815_CowDataChecking\\20221229\\20221229_M_cow\\20221229_061532_21C6.mkv: 640x640 Done. (0.012s)\n",
      "video 1/1 (2182/3933) D:\\815_CowDataChecking\\20221229\\20221229_M_cow\\20221229_061532_21C6.mkv: 640x640 Done. (0.014s)\n",
      "video 1/1 (2183/3933) D:\\815_CowDataChecking\\20221229\\20221229_M_cow\\20221229_061532_21C6.mkv: 640x640 Done. (0.012s)\n",
      "video 1/1 (2184/3933) D:\\815_CowDataChecking\\20221229\\20221229_M_cow\\20221229_061532_21C6.mkv: 640x640 Done. (0.014s)\n",
      "video 1/1 (2185/3933) D:\\815_CowDataChecking\\20221229\\20221229_M_cow\\20221229_061532_21C6.mkv: 640x640 Done. (0.012s)\n",
      "video 1/1 (2186/3933) D:\\815_CowDataChecking\\20221229\\20221229_M_cow\\20221229_061532_21C6.mkv: 640x640 Done. (0.013s)\n",
      "video 1/1 (2187/3933) D:\\815_CowDataChecking\\20221229\\20221229_M_cow\\20221229_061532_21C6.mkv: 640x640 Done. (0.012s)\n",
      "video 1/1 (2188/3933) D:\\815_CowDataChecking\\20221229\\20221229_M_cow\\20221229_061532_21C6.mkv: 640x640 Done. (0.014s)\n",
      "video 1/1 (2189/3933) D:\\815_CowDataChecking\\20221229\\20221229_M_cow\\20221229_061532_21C6.mkv: 640x640 Done. (0.013s)\n",
      "video 1/1 (2190/3933) D:\\815_CowDataChecking\\20221229\\20221229_M_cow\\20221229_061532_21C6.mkv: 640x640 Done. (0.014s)\n",
      "video 1/1 (2191/3933) D:\\815_CowDataChecking\\20221229\\20221229_M_cow\\20221229_061532_21C6.mkv: 640x640 Done. (0.014s)\n",
      "video 1/1 (2192/3933) D:\\815_CowDataChecking\\20221229\\20221229_M_cow\\20221229_061532_21C6.mkv: 640x640 Done. (0.050s)\n",
      "video 1/1 (2193/3933) D:\\815_CowDataChecking\\20221229\\20221229_M_cow\\20221229_061532_21C6.mkv: 640x640 Done. (0.043s)\n",
      "video 1/1 (2194/3933) D:\\815_CowDataChecking\\20221229\\20221229_M_cow\\20221229_061532_21C6.mkv: 640x640 Done. (0.017s)\n",
      "video 1/1 (2195/3933) D:\\815_CowDataChecking\\20221229\\20221229_M_cow\\20221229_061532_21C6.mkv: 640x640 Done. (0.021s)\n",
      "video 1/1 (2196/3933) D:\\815_CowDataChecking\\20221229\\20221229_M_cow\\20221229_061532_21C6.mkv: 640x640 Done. (0.026s)\n",
      "video 1/1 (2197/3933) D:\\815_CowDataChecking\\20221229\\20221229_M_cow\\20221229_061532_21C6.mkv: 640x640 Done. (0.018s)\n",
      "video 1/1 (2198/3933) D:\\815_CowDataChecking\\20221229\\20221229_M_cow\\20221229_061532_21C6.mkv: 640x640 Done. (0.016s)\n",
      "video 1/1 (2199/3933) D:\\815_CowDataChecking\\20221229\\20221229_M_cow\\20221229_061532_21C6.mkv: 640x640 Done. (0.015s)\n",
      "video 1/1 (2200/3933) D:\\815_CowDataChecking\\20221229\\20221229_M_cow\\20221229_061532_21C6.mkv: 640x640 Done. (0.018s)\n",
      "video 1/1 (2201/3933) D:\\815_CowDataChecking\\20221229\\20221229_M_cow\\20221229_061532_21C6.mkv: 640x640 Done. (0.019s)\n",
      "video 1/1 (2202/3933) D:\\815_CowDataChecking\\20221229\\20221229_M_cow\\20221229_061532_21C6.mkv: 640x640 Done. (0.025s)\n",
      "video 1/1 (2203/3933) D:\\815_CowDataChecking\\20221229\\20221229_M_cow\\20221229_061532_21C6.mkv: 640x640 Done. (0.021s)\n",
      "video 1/1 (2204/3933) D:\\815_CowDataChecking\\20221229\\20221229_M_cow\\20221229_061532_21C6.mkv: 640x640 Done. (0.015s)\n",
      "video 1/1 (2205/3933) D:\\815_CowDataChecking\\20221229\\20221229_M_cow\\20221229_061532_21C6.mkv: 640x640 Done. (0.022s)\n",
      "video 1/1 (2206/3933) D:\\815_CowDataChecking\\20221229\\20221229_M_cow\\20221229_061532_21C6.mkv: 640x640 Done. (0.023s)\n",
      "video 1/1 (2207/3933) D:\\815_CowDataChecking\\20221229\\20221229_M_cow\\20221229_061532_21C6.mkv: 640x640 Done. (0.015s)\n",
      "video 1/1 (2208/3933) D:\\815_CowDataChecking\\20221229\\20221229_M_cow\\20221229_061532_21C6.mkv: 640x640 Done. (0.019s)\n",
      "video 1/1 (2209/3933) D:\\815_CowDataChecking\\20221229\\20221229_M_cow\\20221229_061532_21C6.mkv: 640x640 Done. (0.025s)\n",
      "video 1/1 (2210/3933) D:\\815_CowDataChecking\\20221229\\20221229_M_cow\\20221229_061532_21C6.mkv: 640x640 Done. (0.019s)\n",
      "video 1/1 (2211/3933) D:\\815_CowDataChecking\\20221229\\20221229_M_cow\\20221229_061532_21C6.mkv: 640x640 Done. (0.022s)\n",
      "video 1/1 (2212/3933) D:\\815_CowDataChecking\\20221229\\20221229_M_cow\\20221229_061532_21C6.mkv: 640x640 Done. (0.017s)\n",
      "video 1/1 (2213/3933) D:\\815_CowDataChecking\\20221229\\20221229_M_cow\\20221229_061532_21C6.mkv: 640x640 Done. (0.044s)\n",
      "video 1/1 (2214/3933) D:\\815_CowDataChecking\\20221229\\20221229_M_cow\\20221229_061532_21C6.mkv: 640x640 Done. (0.044s)\n",
      "video 1/1 (2215/3933) D:\\815_CowDataChecking\\20221229\\20221229_M_cow\\20221229_061532_21C6.mkv: 640x640 Done. (0.040s)\n",
      "video 1/1 (2216/3933) D:\\815_CowDataChecking\\20221229\\20221229_M_cow\\20221229_061532_21C6.mkv: 640x640 Done. (0.044s)\n",
      "video 1/1 (2217/3933) D:\\815_CowDataChecking\\20221229\\20221229_M_cow\\20221229_061532_21C6.mkv: 640x640 Done. (0.046s)\n",
      "video 1/1 (2218/3933) D:\\815_CowDataChecking\\20221229\\20221229_M_cow\\20221229_061532_21C6.mkv: 640x640 Done. (0.015s)\n",
      "video 1/1 (2219/3933) D:\\815_CowDataChecking\\20221229\\20221229_M_cow\\20221229_061532_21C6.mkv: 640x640 Done. (0.018s)\n",
      "video 1/1 (2220/3933) D:\\815_CowDataChecking\\20221229\\20221229_M_cow\\20221229_061532_21C6.mkv: 640x640 Done. (0.022s)\n",
      "video 1/1 (2221/3933) D:\\815_CowDataChecking\\20221229\\20221229_M_cow\\20221229_061532_21C6.mkv: 640x640 Done. (0.016s)\n",
      "video 1/1 (2222/3933) D:\\815_CowDataChecking\\20221229\\20221229_M_cow\\20221229_061532_21C6.mkv: 640x640 Done. (0.018s)\n",
      "video 1/1 (2223/3933) D:\\815_CowDataChecking\\20221229\\20221229_M_cow\\20221229_061532_21C6.mkv: 640x640 Done. (0.017s)\n",
      "video 1/1 (2224/3933) D:\\815_CowDataChecking\\20221229\\20221229_M_cow\\20221229_061532_21C6.mkv: 640x640 Done. (0.018s)\n",
      "video 1/1 (2225/3933) D:\\815_CowDataChecking\\20221229\\20221229_M_cow\\20221229_061532_21C6.mkv: 640x640 Done. (0.018s)\n",
      "video 1/1 (2226/3933) D:\\815_CowDataChecking\\20221229\\20221229_M_cow\\20221229_061532_21C6.mkv: 640x640 Done. (0.025s)\n",
      "video 1/1 (2227/3933) D:\\815_CowDataChecking\\20221229\\20221229_M_cow\\20221229_061532_21C6.mkv: 640x640 Done. (0.018s)\n",
      "video 1/1 (2228/3933) D:\\815_CowDataChecking\\20221229\\20221229_M_cow\\20221229_061532_21C6.mkv: 640x640 Done. (0.018s)\n",
      "video 1/1 (2229/3933) D:\\815_CowDataChecking\\20221229\\20221229_M_cow\\20221229_061532_21C6.mkv: 640x640 Done. (0.021s)\n",
      "video 1/1 (2230/3933) D:\\815_CowDataChecking\\20221229\\20221229_M_cow\\20221229_061532_21C6.mkv: 640x640 Done. (0.023s)\n",
      "video 1/1 (2231/3933) D:\\815_CowDataChecking\\20221229\\20221229_M_cow\\20221229_061532_21C6.mkv: 640x640 Done. (0.018s)\n",
      "video 1/1 (2232/3933) D:\\815_CowDataChecking\\20221229\\20221229_M_cow\\20221229_061532_21C6.mkv: 640x640 Done. (0.017s)\n",
      "video 1/1 (2233/3933) D:\\815_CowDataChecking\\20221229\\20221229_M_cow\\20221229_061532_21C6.mkv: 640x640 Done. (0.023s)\n",
      "video 1/1 (2234/3933) D:\\815_CowDataChecking\\20221229\\20221229_M_cow\\20221229_061532_21C6.mkv: 640x640 Done. (0.026s)\n",
      "video 1/1 (2235/3933) D:\\815_CowDataChecking\\20221229\\20221229_M_cow\\20221229_061532_21C6.mkv: 640x640 Done. (0.017s)\n",
      "video 1/1 (2236/3933) D:\\815_CowDataChecking\\20221229\\20221229_M_cow\\20221229_061532_21C6.mkv: 640x640 Done. (0.043s)\n",
      "video 1/1 (2237/3933) D:\\815_CowDataChecking\\20221229\\20221229_M_cow\\20221229_061532_21C6.mkv: 640x640 Done. (0.043s)\n",
      "video 1/1 (2238/3933) D:\\815_CowDataChecking\\20221229\\20221229_M_cow\\20221229_061532_21C6.mkv: 640x640 Done. (0.022s)\n",
      "video 1/1 (2239/3933) D:\\815_CowDataChecking\\20221229\\20221229_M_cow\\20221229_061532_21C6.mkv: 640x640 Done. (0.017s)\n",
      "video 1/1 (2240/3933) D:\\815_CowDataChecking\\20221229\\20221229_M_cow\\20221229_061532_21C6.mkv: 640x640 Done. (0.019s)\n",
      "video 1/1 (2241/3933) D:\\815_CowDataChecking\\20221229\\20221229_M_cow\\20221229_061532_21C6.mkv: 640x640 Done. (0.026s)\n",
      "video 1/1 (2242/3933) D:\\815_CowDataChecking\\20221229\\20221229_M_cow\\20221229_061532_21C6.mkv: 640x640 Done. (0.016s)\n",
      "video 1/1 (2243/3933) D:\\815_CowDataChecking\\20221229\\20221229_M_cow\\20221229_061532_21C6.mkv: 640x640 Done. (0.020s)\n",
      "video 1/1 (2244/3933) D:\\815_CowDataChecking\\20221229\\20221229_M_cow\\20221229_061532_21C6.mkv: 640x640 Done. (0.019s)\n",
      "video 1/1 (2245/3933) D:\\815_CowDataChecking\\20221229\\20221229_M_cow\\20221229_061532_21C6.mkv: 640x640 Done. (0.017s)\n",
      "video 1/1 (2246/3933) D:\\815_CowDataChecking\\20221229\\20221229_M_cow\\20221229_061532_21C6.mkv: 640x640 Done. (0.019s)\n",
      "video 1/1 (2247/3933) D:\\815_CowDataChecking\\20221229\\20221229_M_cow\\20221229_061532_21C6.mkv: 640x640 Done. (0.025s)\n",
      "video 1/1 (2248/3933) D:\\815_CowDataChecking\\20221229\\20221229_M_cow\\20221229_061532_21C6.mkv: 640x640 Done. (0.025s)\n",
      "video 1/1 (2249/3933) D:\\815_CowDataChecking\\20221229\\20221229_M_cow\\20221229_061532_21C6.mkv: 640x640 Done. (0.018s)\n",
      "video 1/1 (2250/3933) D:\\815_CowDataChecking\\20221229\\20221229_M_cow\\20221229_061532_21C6.mkv: 640x640 Done. (0.018s)\n",
      "video 1/1 (2251/3933) D:\\815_CowDataChecking\\20221229\\20221229_M_cow\\20221229_061532_21C6.mkv: 640x640 Done. (0.023s)\n",
      "video 1/1 (2252/3933) D:\\815_CowDataChecking\\20221229\\20221229_M_cow\\20221229_061532_21C6.mkv: 640x640 Done. (0.028s)\n",
      "video 1/1 (2253/3933) D:\\815_CowDataChecking\\20221229\\20221229_M_cow\\20221229_061532_21C6.mkv: 640x640 Done. (0.025s)\n",
      "video 1/1 (2254/3933) D:\\815_CowDataChecking\\20221229\\20221229_M_cow\\20221229_061532_21C6.mkv: 640x640 Done. (0.020s)\n",
      "video 1/1 (2255/3933) D:\\815_CowDataChecking\\20221229\\20221229_M_cow\\20221229_061532_21C6.mkv: 640x640 Done. (0.019s)\n",
      "video 1/1 (2256/3933) D:\\815_CowDataChecking\\20221229\\20221229_M_cow\\20221229_061532_21C6.mkv: 640x640 Done. (0.053s)\n",
      "video 1/1 (2257/3933) D:\\815_CowDataChecking\\20221229\\20221229_M_cow\\20221229_061532_21C6.mkv: 640x640 Done. (0.071s)\n",
      "video 1/1 (2258/3933) D:\\815_CowDataChecking\\20221229\\20221229_M_cow\\20221229_061532_21C6.mkv: 640x640 Done. (0.046s)\n",
      "video 1/1 (2259/3933) D:\\815_CowDataChecking\\20221229\\20221229_M_cow\\20221229_061532_21C6.mkv: 640x640 Done. (0.018s)\n",
      "video 1/1 (2260/3933) D:\\815_CowDataChecking\\20221229\\20221229_M_cow\\20221229_061532_21C6.mkv: 640x640 Done. (0.016s)\n",
      "video 1/1 (2261/3933) D:\\815_CowDataChecking\\20221229\\20221229_M_cow\\20221229_061532_21C6.mkv: 640x640 Done. (0.018s)\n",
      "video 1/1 (2262/3933) D:\\815_CowDataChecking\\20221229\\20221229_M_cow\\20221229_061532_21C6.mkv: 640x640 Done. (0.025s)\n",
      "video 1/1 (2263/3933) D:\\815_CowDataChecking\\20221229\\20221229_M_cow\\20221229_061532_21C6.mkv: 640x640 Done. (0.022s)\n",
      "video 1/1 (2264/3933) D:\\815_CowDataChecking\\20221229\\20221229_M_cow\\20221229_061532_21C6.mkv: 640x640 Done. (0.016s)\n",
      "video 1/1 (2265/3933) D:\\815_CowDataChecking\\20221229\\20221229_M_cow\\20221229_061532_21C6.mkv: 640x640 Done. (0.024s)\n",
      "video 1/1 (2266/3933) D:\\815_CowDataChecking\\20221229\\20221229_M_cow\\20221229_061532_21C6.mkv: 640x640 Done. (0.022s)\n",
      "video 1/1 (2267/3933) D:\\815_CowDataChecking\\20221229\\20221229_M_cow\\20221229_061532_21C6.mkv: 640x640 Done. (0.018s)\n",
      "video 1/1 (2268/3933) D:\\815_CowDataChecking\\20221229\\20221229_M_cow\\20221229_061532_21C6.mkv: 640x640 Done. (0.025s)\n",
      "video 1/1 (2269/3933) D:\\815_CowDataChecking\\20221229\\20221229_M_cow\\20221229_061532_21C6.mkv: 640x640 Done. (0.020s)\n",
      "video 1/1 (2270/3933) D:\\815_CowDataChecking\\20221229\\20221229_M_cow\\20221229_061532_21C6.mkv: 640x640 Done. (0.020s)\n",
      "video 1/1 (2271/3933) D:\\815_CowDataChecking\\20221229\\20221229_M_cow\\20221229_061532_21C6.mkv: 640x640 Done. (0.020s)\n",
      "video 1/1 (2272/3933) D:\\815_CowDataChecking\\20221229\\20221229_M_cow\\20221229_061532_21C6.mkv: 640x640 Done. (0.018s)\n",
      "video 1/1 (2273/3933) D:\\815_CowDataChecking\\20221229\\20221229_M_cow\\20221229_061532_21C6.mkv: 640x640 Done. (0.021s)\n",
      "video 1/1 (2274/3933) D:\\815_CowDataChecking\\20221229\\20221229_M_cow\\20221229_061532_21C6.mkv: 640x640 Done. (0.030s)\n",
      "video 1/1 (2275/3933) D:\\815_CowDataChecking\\20221229\\20221229_M_cow\\20221229_061532_21C6.mkv: 640x640 Done. (0.024s)\n",
      "video 1/1 (2276/3933) D:\\815_CowDataChecking\\20221229\\20221229_M_cow\\20221229_061532_21C6.mkv: 640x640 Done. (0.019s)\n",
      "video 1/1 (2277/3933) D:\\815_CowDataChecking\\20221229\\20221229_M_cow\\20221229_061532_21C6.mkv: 640x640 Done. (0.043s)\n",
      "video 1/1 (2278/3933) D:\\815_CowDataChecking\\20221229\\20221229_M_cow\\20221229_061532_21C6.mkv: 640x640 Done. (0.044s)\n",
      "video 1/1 (2279/3933) D:\\815_CowDataChecking\\20221229\\20221229_M_cow\\20221229_061532_21C6.mkv: 640x640 Done. (0.054s)\n",
      "video 1/1 (2280/3933) D:\\815_CowDataChecking\\20221229\\20221229_M_cow\\20221229_061532_21C6.mkv: 640x640 Done. (0.051s)\n",
      "video 1/1 (2281/3933) D:\\815_CowDataChecking\\20221229\\20221229_M_cow\\20221229_061532_21C6.mkv: 640x640 Done. (0.017s)\n",
      "video 1/1 (2282/3933) D:\\815_CowDataChecking\\20221229\\20221229_M_cow\\20221229_061532_21C6.mkv: 640x640 Done. (0.020s)\n",
      "video 1/1 (2283/3933) D:\\815_CowDataChecking\\20221229\\20221229_M_cow\\20221229_061532_21C6.mkv: 640x640 Done. (0.016s)\n",
      "video 1/1 (2284/3933) D:\\815_CowDataChecking\\20221229\\20221229_M_cow\\20221229_061532_21C6.mkv: 640x640 Done. (0.021s)\n",
      "video 1/1 (2285/3933) D:\\815_CowDataChecking\\20221229\\20221229_M_cow\\20221229_061532_21C6.mkv: 640x640 Done. (0.018s)\n",
      "video 1/1 (2286/3933) D:\\815_CowDataChecking\\20221229\\20221229_M_cow\\20221229_061532_21C6.mkv: 640x640 Done. (0.021s)\n",
      "video 1/1 (2287/3933) D:\\815_CowDataChecking\\20221229\\20221229_M_cow\\20221229_061532_21C6.mkv: 640x640 Done. (0.018s)\n",
      "video 1/1 (2288/3933) D:\\815_CowDataChecking\\20221229\\20221229_M_cow\\20221229_061532_21C6.mkv: 640x640 Done. (0.018s)\n",
      "video 1/1 (2289/3933) D:\\815_CowDataChecking\\20221229\\20221229_M_cow\\20221229_061532_21C6.mkv: 640x640 Done. (0.017s)\n",
      "video 1/1 (2290/3933) D:\\815_CowDataChecking\\20221229\\20221229_M_cow\\20221229_061532_21C6.mkv: 640x640 Done. (0.023s)\n",
      "video 1/1 (2291/3933) D:\\815_CowDataChecking\\20221229\\20221229_M_cow\\20221229_061532_21C6.mkv: 640x640 Done. (0.018s)\n",
      "video 1/1 (2292/3933) D:\\815_CowDataChecking\\20221229\\20221229_M_cow\\20221229_061532_21C6.mkv: 640x640 Done. (0.016s)\n",
      "video 1/1 (2293/3933) D:\\815_CowDataChecking\\20221229\\20221229_M_cow\\20221229_061532_21C6.mkv: 640x640 Done. (0.024s)\n",
      "video 1/1 (2294/3933) D:\\815_CowDataChecking\\20221229\\20221229_M_cow\\20221229_061532_21C6.mkv: 640x640 Done. (0.022s)\n",
      "video 1/1 (2295/3933) D:\\815_CowDataChecking\\20221229\\20221229_M_cow\\20221229_061532_21C6.mkv: 640x640 Done. (0.026s)\n",
      "video 1/1 (2296/3933) D:\\815_CowDataChecking\\20221229\\20221229_M_cow\\20221229_061532_21C6.mkv: 640x640 Done. (0.030s)\n",
      "video 1/1 (2297/3933) D:\\815_CowDataChecking\\20221229\\20221229_M_cow\\20221229_061532_21C6.mkv: 640x640 Done. (0.025s)\n",
      "video 1/1 (2298/3933) D:\\815_CowDataChecking\\20221229\\20221229_M_cow\\20221229_061532_21C6.mkv: 640x640 Done. (0.017s)\n",
      "video 1/1 (2299/3933) D:\\815_CowDataChecking\\20221229\\20221229_M_cow\\20221229_061532_21C6.mkv: 640x640 Done. (0.042s)\n",
      "video 1/1 (2300/3933) D:\\815_CowDataChecking\\20221229\\20221229_M_cow\\20221229_061532_21C6.mkv: 640x640 Done. (0.048s)\n",
      "video 1/1 (2301/3933) D:\\815_CowDataChecking\\20221229\\20221229_M_cow\\20221229_061532_21C6.mkv: 640x640 Done. (0.055s)\n",
      "video 1/1 (2302/3933) D:\\815_CowDataChecking\\20221229\\20221229_M_cow\\20221229_061532_21C6.mkv: 640x640 Done. (0.025s)\n",
      "video 1/1 (2303/3933) D:\\815_CowDataChecking\\20221229\\20221229_M_cow\\20221229_061532_21C6.mkv: 640x640 Done. (0.021s)\n",
      "video 1/1 (2304/3933) D:\\815_CowDataChecking\\20221229\\20221229_M_cow\\20221229_061532_21C6.mkv: 640x640 Done. (0.017s)\n",
      "video 1/1 (2305/3933) D:\\815_CowDataChecking\\20221229\\20221229_M_cow\\20221229_061532_21C6.mkv: 640x640 Done. (0.030s)\n",
      "video 1/1 (2306/3933) D:\\815_CowDataChecking\\20221229\\20221229_M_cow\\20221229_061532_21C6.mkv: 640x640 Done. (0.021s)\n",
      "video 1/1 (2307/3933) D:\\815_CowDataChecking\\20221229\\20221229_M_cow\\20221229_061532_21C6.mkv: 640x640 Done. (0.019s)\n",
      "video 1/1 (2308/3933) D:\\815_CowDataChecking\\20221229\\20221229_M_cow\\20221229_061532_21C6.mkv: 640x640 Done. (0.020s)\n",
      "video 1/1 (2309/3933) D:\\815_CowDataChecking\\20221229\\20221229_M_cow\\20221229_061532_21C6.mkv: 640x640 Done. (0.024s)\n",
      "video 1/1 (2310/3933) D:\\815_CowDataChecking\\20221229\\20221229_M_cow\\20221229_061532_21C6.mkv: 640x640 Done. (0.025s)\n",
      "video 1/1 (2311/3933) D:\\815_CowDataChecking\\20221229\\20221229_M_cow\\20221229_061532_21C6.mkv: 640x640 Done. (0.029s)\n",
      "video 1/1 (2312/3933) D:\\815_CowDataChecking\\20221229\\20221229_M_cow\\20221229_061532_21C6.mkv: 640x640 Done. (0.023s)\n",
      "video 1/1 (2313/3933) D:\\815_CowDataChecking\\20221229\\20221229_M_cow\\20221229_061532_21C6.mkv: 640x640 Done. (0.019s)\n",
      "video 1/1 (2314/3933) D:\\815_CowDataChecking\\20221229\\20221229_M_cow\\20221229_061532_21C6.mkv: 640x640 Done. (0.018s)\n",
      "video 1/1 (2315/3933) D:\\815_CowDataChecking\\20221229\\20221229_M_cow\\20221229_061532_21C6.mkv: 640x640 Done. (0.019s)\n",
      "video 1/1 (2316/3933) D:\\815_CowDataChecking\\20221229\\20221229_M_cow\\20221229_061532_21C6.mkv: 640x640 Done. (0.018s)\n",
      "video 1/1 (2317/3933) D:\\815_CowDataChecking\\20221229\\20221229_M_cow\\20221229_061532_21C6.mkv: 640x640 Done. (0.018s)\n",
      "video 1/1 (2318/3933) D:\\815_CowDataChecking\\20221229\\20221229_M_cow\\20221229_061532_21C6.mkv: 640x640 Done. (0.019s)\n",
      "video 1/1 (2319/3933) D:\\815_CowDataChecking\\20221229\\20221229_M_cow\\20221229_061532_21C6.mkv: 640x640 Done. (0.018s)\n",
      "video 1/1 (2320/3933) D:\\815_CowDataChecking\\20221229\\20221229_M_cow\\20221229_061532_21C6.mkv: 640x640 Done. (0.105s)\n",
      "video 1/1 (2321/3933) D:\\815_CowDataChecking\\20221229\\20221229_M_cow\\20221229_061532_21C6.mkv: 640x640 Done. (0.021s)\n",
      "video 1/1 (2322/3933) D:\\815_CowDataChecking\\20221229\\20221229_M_cow\\20221229_061532_21C6.mkv: 640x640 Done. (0.025s)\n",
      "video 1/1 (2323/3933) D:\\815_CowDataChecking\\20221229\\20221229_M_cow\\20221229_061532_21C6.mkv: 640x640 Done. (0.016s)\n",
      "video 1/1 (2324/3933) D:\\815_CowDataChecking\\20221229\\20221229_M_cow\\20221229_061532_21C6.mkv: 640x640 Done. (0.021s)\n",
      "video 1/1 (2325/3933) D:\\815_CowDataChecking\\20221229\\20221229_M_cow\\20221229_061532_21C6.mkv: 640x640 Done. (0.014s)\n",
      "video 1/1 (2326/3933) D:\\815_CowDataChecking\\20221229\\20221229_M_cow\\20221229_061532_21C6.mkv: 640x640 Done. (0.024s)\n",
      "video 1/1 (2327/3933) D:\\815_CowDataChecking\\20221229\\20221229_M_cow\\20221229_061532_21C6.mkv: 640x640 Done. (0.014s)\n",
      "video 1/1 (2328/3933) D:\\815_CowDataChecking\\20221229\\20221229_M_cow\\20221229_061532_21C6.mkv: 640x640 Done. (0.015s)\n",
      "video 1/1 (2329/3933) D:\\815_CowDataChecking\\20221229\\20221229_M_cow\\20221229_061532_21C6.mkv: 640x640 Done. (0.013s)\n",
      "video 1/1 (2330/3933) D:\\815_CowDataChecking\\20221229\\20221229_M_cow\\20221229_061532_21C6.mkv: 640x640 Done. (0.013s)\n",
      "video 1/1 (2331/3933) D:\\815_CowDataChecking\\20221229\\20221229_M_cow\\20221229_061532_21C6.mkv: 640x640 Done. (0.026s)\n",
      "video 1/1 (2332/3933) D:\\815_CowDataChecking\\20221229\\20221229_M_cow\\20221229_061532_21C6.mkv: 640x640 Done. (0.022s)\n",
      "video 1/1 (2333/3933) D:\\815_CowDataChecking\\20221229\\20221229_M_cow\\20221229_061532_21C6.mkv: 640x640 Done. (0.024s)\n",
      "video 1/1 (2334/3933) D:\\815_CowDataChecking\\20221229\\20221229_M_cow\\20221229_061532_21C6.mkv: 640x640 Done. (0.024s)\n",
      "video 1/1 (2335/3933) D:\\815_CowDataChecking\\20221229\\20221229_M_cow\\20221229_061532_21C6.mkv: 640x640 Done. (0.025s)\n",
      "video 1/1 (2336/3933) D:\\815_CowDataChecking\\20221229\\20221229_M_cow\\20221229_061532_21C6.mkv: 640x640 Done. (0.026s)\n",
      "video 1/1 (2337/3933) D:\\815_CowDataChecking\\20221229\\20221229_M_cow\\20221229_061532_21C6.mkv: 640x640 Done. (0.020s)\n",
      "video 1/1 (2338/3933) D:\\815_CowDataChecking\\20221229\\20221229_M_cow\\20221229_061532_21C6.mkv: 640x640 Done. (0.026s)\n",
      "video 1/1 (2339/3933) D:\\815_CowDataChecking\\20221229\\20221229_M_cow\\20221229_061532_21C6.mkv: 640x640 Done. (0.019s)\n",
      "video 1/1 (2340/3933) D:\\815_CowDataChecking\\20221229\\20221229_M_cow\\20221229_061532_21C6.mkv: 640x640 Done. (0.015s)\n",
      "video 1/1 (2341/3933) D:\\815_CowDataChecking\\20221229\\20221229_M_cow\\20221229_061532_21C6.mkv: 640x640 Done. (0.016s)\n",
      "video 1/1 (2342/3933) D:\\815_CowDataChecking\\20221229\\20221229_M_cow\\20221229_061532_21C6.mkv: 640x640 Done. (0.026s)\n",
      "video 1/1 (2343/3933) D:\\815_CowDataChecking\\20221229\\20221229_M_cow\\20221229_061532_21C6.mkv: 640x640 Done. (0.025s)\n",
      "video 1/1 (2344/3933) D:\\815_CowDataChecking\\20221229\\20221229_M_cow\\20221229_061532_21C6.mkv: 640x640 Done. (0.017s)\n",
      "video 1/1 (2345/3933) D:\\815_CowDataChecking\\20221229\\20221229_M_cow\\20221229_061532_21C6.mkv: 640x640 Done. (0.016s)\n",
      "video 1/1 (2346/3933) D:\\815_CowDataChecking\\20221229\\20221229_M_cow\\20221229_061532_21C6.mkv: 640x640 Done. (0.016s)\n",
      "video 1/1 (2347/3933) D:\\815_CowDataChecking\\20221229\\20221229_M_cow\\20221229_061532_21C6.mkv: 640x640 Done. (0.016s)\n",
      "video 1/1 (2348/3933) D:\\815_CowDataChecking\\20221229\\20221229_M_cow\\20221229_061532_21C6.mkv: 640x640 Done. (0.018s)\n",
      "video 1/1 (2349/3933) D:\\815_CowDataChecking\\20221229\\20221229_M_cow\\20221229_061532_21C6.mkv: 640x640 Done. (0.014s)\n",
      "video 1/1 (2350/3933) D:\\815_CowDataChecking\\20221229\\20221229_M_cow\\20221229_061532_21C6.mkv: 640x640 Done. (0.018s)\n",
      "video 1/1 (2351/3933) D:\\815_CowDataChecking\\20221229\\20221229_M_cow\\20221229_061532_21C6.mkv: 640x640 Done. (0.026s)\n",
      "video 1/1 (2352/3933) D:\\815_CowDataChecking\\20221229\\20221229_M_cow\\20221229_061532_21C6.mkv: 640x640 Done. (0.026s)\n",
      "video 1/1 (2353/3933) D:\\815_CowDataChecking\\20221229\\20221229_M_cow\\20221229_061532_21C6.mkv: 640x640 Done. (0.027s)\n",
      "video 1/1 (2354/3933) D:\\815_CowDataChecking\\20221229\\20221229_M_cow\\20221229_061532_21C6.mkv: 640x640 Done. (0.019s)\n",
      "video 1/1 (2355/3933) D:\\815_CowDataChecking\\20221229\\20221229_M_cow\\20221229_061532_21C6.mkv: 640x640 Done. (0.025s)\n",
      "video 1/1 (2356/3933) D:\\815_CowDataChecking\\20221229\\20221229_M_cow\\20221229_061532_21C6.mkv: 640x640 Done. (0.025s)\n",
      "video 1/1 (2357/3933) D:\\815_CowDataChecking\\20221229\\20221229_M_cow\\20221229_061532_21C6.mkv: 640x640 Done. (0.018s)\n",
      "video 1/1 (2358/3933) D:\\815_CowDataChecking\\20221229\\20221229_M_cow\\20221229_061532_21C6.mkv: 640x640 Done. (0.021s)\n",
      "video 1/1 (2359/3933) D:\\815_CowDataChecking\\20221229\\20221229_M_cow\\20221229_061532_21C6.mkv: 640x640 Done. (0.017s)\n",
      "video 1/1 (2360/3933) D:\\815_CowDataChecking\\20221229\\20221229_M_cow\\20221229_061532_21C6.mkv: 640x640 Done. (0.047s)\n",
      "video 1/1 (2361/3933) D:\\815_CowDataChecking\\20221229\\20221229_M_cow\\20221229_061532_21C6.mkv: 640x640 Done. (0.054s)\n",
      "video 1/1 (2362/3933) D:\\815_CowDataChecking\\20221229\\20221229_M_cow\\20221229_061532_21C6.mkv: 640x640 Done. (0.049s)\n",
      "video 1/1 (2363/3933) D:\\815_CowDataChecking\\20221229\\20221229_M_cow\\20221229_061532_21C6.mkv: 640x640 Done. (0.017s)\n",
      "video 1/1 (2364/3933) D:\\815_CowDataChecking\\20221229\\20221229_M_cow\\20221229_061532_21C6.mkv: 640x640 Done. (0.017s)\n",
      "video 1/1 (2365/3933) D:\\815_CowDataChecking\\20221229\\20221229_M_cow\\20221229_061532_21C6.mkv: 640x640 Done. (0.017s)\n",
      "video 1/1 (2366/3933) D:\\815_CowDataChecking\\20221229\\20221229_M_cow\\20221229_061532_21C6.mkv: 640x640 Done. (0.024s)\n",
      "video 1/1 (2367/3933) D:\\815_CowDataChecking\\20221229\\20221229_M_cow\\20221229_061532_21C6.mkv: 640x640 Done. (0.014s)\n",
      "video 1/1 (2368/3933) D:\\815_CowDataChecking\\20221229\\20221229_M_cow\\20221229_061532_21C6.mkv: 640x640 Done. (0.017s)\n",
      "video 1/1 (2369/3933) D:\\815_CowDataChecking\\20221229\\20221229_M_cow\\20221229_061532_21C6.mkv: 640x640 Done. (0.014s)\n",
      "video 1/1 (2370/3933) D:\\815_CowDataChecking\\20221229\\20221229_M_cow\\20221229_061532_21C6.mkv: 640x640 Done. (0.018s)\n",
      "video 1/1 (2371/3933) D:\\815_CowDataChecking\\20221229\\20221229_M_cow\\20221229_061532_21C6.mkv: 640x640 Done. (0.016s)\n",
      "video 1/1 (2372/3933) D:\\815_CowDataChecking\\20221229\\20221229_M_cow\\20221229_061532_21C6.mkv: 640x640 Done. (0.016s)\n",
      "video 1/1 (2373/3933) D:\\815_CowDataChecking\\20221229\\20221229_M_cow\\20221229_061532_21C6.mkv: 640x640 Done. (0.020s)\n",
      "video 1/1 (2374/3933) D:\\815_CowDataChecking\\20221229\\20221229_M_cow\\20221229_061532_21C6.mkv: 640x640 Done. (0.019s)\n",
      "video 1/1 (2375/3933) D:\\815_CowDataChecking\\20221229\\20221229_M_cow\\20221229_061532_21C6.mkv: 640x640 Done. (0.020s)\n",
      "video 1/1 (2376/3933) D:\\815_CowDataChecking\\20221229\\20221229_M_cow\\20221229_061532_21C6.mkv: 640x640 Done. (0.023s)\n",
      "video 1/1 (2377/3933) D:\\815_CowDataChecking\\20221229\\20221229_M_cow\\20221229_061532_21C6.mkv: 640x640 Done. (0.015s)\n",
      "video 1/1 (2378/3933) D:\\815_CowDataChecking\\20221229\\20221229_M_cow\\20221229_061532_21C6.mkv: 640x640 Done. (0.027s)\n",
      "video 1/1 (2379/3933) D:\\815_CowDataChecking\\20221229\\20221229_M_cow\\20221229_061532_21C6.mkv: 640x640 Done. (0.020s)\n",
      "video 1/1 (2380/3933) D:\\815_CowDataChecking\\20221229\\20221229_M_cow\\20221229_061532_21C6.mkv: 640x640 Done. (0.017s)\n",
      "video 1/1 (2381/3933) D:\\815_CowDataChecking\\20221229\\20221229_M_cow\\20221229_061532_21C6.mkv: 640x640 Done. (0.038s)\n",
      "video 1/1 (2382/3933) D:\\815_CowDataChecking\\20221229\\20221229_M_cow\\20221229_061532_21C6.mkv: 640x640 Done. (0.055s)\n",
      "video 1/1 (2383/3933) D:\\815_CowDataChecking\\20221229\\20221229_M_cow\\20221229_061532_21C6.mkv: 640x640 Done. (0.019s)\n",
      "video 1/1 (2384/3933) D:\\815_CowDataChecking\\20221229\\20221229_M_cow\\20221229_061532_21C6.mkv: 640x640 Done. (0.026s)\n",
      "video 1/1 (2385/3933) D:\\815_CowDataChecking\\20221229\\20221229_M_cow\\20221229_061532_21C6.mkv: 640x640 Done. (0.019s)\n",
      "video 1/1 (2386/3933) D:\\815_CowDataChecking\\20221229\\20221229_M_cow\\20221229_061532_21C6.mkv: 640x640 Done. (0.019s)\n",
      "video 1/1 (2387/3933) D:\\815_CowDataChecking\\20221229\\20221229_M_cow\\20221229_061532_21C6.mkv: 640x640 Done. (0.018s)\n",
      "video 1/1 (2388/3933) D:\\815_CowDataChecking\\20221229\\20221229_M_cow\\20221229_061532_21C6.mkv: 640x640 Done. (0.021s)\n",
      "video 1/1 (2389/3933) D:\\815_CowDataChecking\\20221229\\20221229_M_cow\\20221229_061532_21C6.mkv: 640x640 Done. (0.019s)\n",
      "video 1/1 (2390/3933) D:\\815_CowDataChecking\\20221229\\20221229_M_cow\\20221229_061532_21C6.mkv: 640x640 Done. (0.020s)\n",
      "video 1/1 (2391/3933) D:\\815_CowDataChecking\\20221229\\20221229_M_cow\\20221229_061532_21C6.mkv: 640x640 Done. (0.018s)\n",
      "video 1/1 (2392/3933) D:\\815_CowDataChecking\\20221229\\20221229_M_cow\\20221229_061532_21C6.mkv: 640x640 Done. (0.017s)\n",
      "video 1/1 (2393/3933) D:\\815_CowDataChecking\\20221229\\20221229_M_cow\\20221229_061532_21C6.mkv: 640x640 Done. (0.017s)\n",
      "video 1/1 (2394/3933) D:\\815_CowDataChecking\\20221229\\20221229_M_cow\\20221229_061532_21C6.mkv: 640x640 Done. (0.019s)\n",
      "video 1/1 (2395/3933) D:\\815_CowDataChecking\\20221229\\20221229_M_cow\\20221229_061532_21C6.mkv: 640x640 Done. (0.021s)\n",
      "video 1/1 (2396/3933) D:\\815_CowDataChecking\\20221229\\20221229_M_cow\\20221229_061532_21C6.mkv: 640x640 Done. (0.019s)\n",
      "video 1/1 (2397/3933) D:\\815_CowDataChecking\\20221229\\20221229_M_cow\\20221229_061532_21C6.mkv: 640x640 Done. (0.020s)\n",
      "video 1/1 (2398/3933) D:\\815_CowDataChecking\\20221229\\20221229_M_cow\\20221229_061532_21C6.mkv: 640x640 Done. (0.019s)\n",
      "video 1/1 (2399/3933) D:\\815_CowDataChecking\\20221229\\20221229_M_cow\\20221229_061532_21C6.mkv: 640x640 Done. (0.018s)\n",
      "video 1/1 (2400/3933) D:\\815_CowDataChecking\\20221229\\20221229_M_cow\\20221229_061532_21C6.mkv: 640x640 Done. (0.018s)\n",
      "video 1/1 (2401/3933) D:\\815_CowDataChecking\\20221229\\20221229_M_cow\\20221229_061532_21C6.mkv: 640x640 Done. (0.018s)\n",
      "video 1/1 (2402/3933) D:\\815_CowDataChecking\\20221229\\20221229_M_cow\\20221229_061532_21C6.mkv: 640x640 Done. (0.019s)\n",
      "video 1/1 (2403/3933) D:\\815_CowDataChecking\\20221229\\20221229_M_cow\\20221229_061532_21C6.mkv: 640x640 Done. (0.052s)\n",
      "video 1/1 (2404/3933) D:\\815_CowDataChecking\\20221229\\20221229_M_cow\\20221229_061532_21C6.mkv: 640x640 Done. (0.051s)\n",
      "video 1/1 (2405/3933) D:\\815_CowDataChecking\\20221229\\20221229_M_cow\\20221229_061532_21C6.mkv: 640x640 Done. (0.046s)\n",
      "video 1/1 (2406/3933) D:\\815_CowDataChecking\\20221229\\20221229_M_cow\\20221229_061532_21C6.mkv: 640x640 Done. (0.044s)\n",
      "video 1/1 (2407/3933) D:\\815_CowDataChecking\\20221229\\20221229_M_cow\\20221229_061532_21C6.mkv: 640x640 Done. (0.042s)\n",
      "video 1/1 (2408/3933) D:\\815_CowDataChecking\\20221229\\20221229_M_cow\\20221229_061532_21C6.mkv: 640x640 Done. (0.018s)\n",
      "video 1/1 (2409/3933) D:\\815_CowDataChecking\\20221229\\20221229_M_cow\\20221229_061532_21C6.mkv: 640x640 Done. (0.016s)\n",
      "video 1/1 (2410/3933) D:\\815_CowDataChecking\\20221229\\20221229_M_cow\\20221229_061532_21C6.mkv: 640x640 Done. (0.015s)\n",
      "video 1/1 (2411/3933) D:\\815_CowDataChecking\\20221229\\20221229_M_cow\\20221229_061532_21C6.mkv: 640x640 Done. (0.018s)\n",
      "video 1/1 (2412/3933) D:\\815_CowDataChecking\\20221229\\20221229_M_cow\\20221229_061532_21C6.mkv: 640x640 Done. (0.018s)\n",
      "video 1/1 (2413/3933) D:\\815_CowDataChecking\\20221229\\20221229_M_cow\\20221229_061532_21C6.mkv: 640x640 Done. (0.039s)\n",
      "video 1/1 (2414/3933) D:\\815_CowDataChecking\\20221229\\20221229_M_cow\\20221229_061532_21C6.mkv: 640x640 Done. (0.020s)\n",
      "video 1/1 (2415/3933) D:\\815_CowDataChecking\\20221229\\20221229_M_cow\\20221229_061532_21C6.mkv: 640x640 Done. (0.028s)\n",
      "video 1/1 (2416/3933) D:\\815_CowDataChecking\\20221229\\20221229_M_cow\\20221229_061532_21C6.mkv: 640x640 Done. (0.021s)\n",
      "video 1/1 (2417/3933) D:\\815_CowDataChecking\\20221229\\20221229_M_cow\\20221229_061532_21C6.mkv: 640x640 Done. (0.025s)\n",
      "video 1/1 (2418/3933) D:\\815_CowDataChecking\\20221229\\20221229_M_cow\\20221229_061532_21C6.mkv: 640x640 Done. (0.018s)\n",
      "video 1/1 (2419/3933) D:\\815_CowDataChecking\\20221229\\20221229_M_cow\\20221229_061532_21C6.mkv: 640x640 Done. (0.015s)\n",
      "video 1/1 (2420/3933) D:\\815_CowDataChecking\\20221229\\20221229_M_cow\\20221229_061532_21C6.mkv: 640x640 Done. (0.019s)\n",
      "video 1/1 (2421/3933) D:\\815_CowDataChecking\\20221229\\20221229_M_cow\\20221229_061532_21C6.mkv: 640x640 Done. (0.014s)\n",
      "video 1/1 (2422/3933) D:\\815_CowDataChecking\\20221229\\20221229_M_cow\\20221229_061532_21C6.mkv: 640x640 Done. (0.018s)\n",
      "video 1/1 (2423/3933) D:\\815_CowDataChecking\\20221229\\20221229_M_cow\\20221229_061532_21C6.mkv: 640x640 Done. (0.014s)\n",
      "video 1/1 (2424/3933) D:\\815_CowDataChecking\\20221229\\20221229_M_cow\\20221229_061532_21C6.mkv: 640x640 Done. (0.014s)\n",
      "video 1/1 (2425/3933) D:\\815_CowDataChecking\\20221229\\20221229_M_cow\\20221229_061532_21C6.mkv: 640x640 Done. (0.014s)\n",
      "video 1/1 (2426/3933) D:\\815_CowDataChecking\\20221229\\20221229_M_cow\\20221229_061532_21C6.mkv: 640x640 Done. (0.017s)\n",
      "video 1/1 (2427/3933) D:\\815_CowDataChecking\\20221229\\20221229_M_cow\\20221229_061532_21C6.mkv: 640x640 Done. (0.014s)\n",
      "video 1/1 (2428/3933) D:\\815_CowDataChecking\\20221229\\20221229_M_cow\\20221229_061532_21C6.mkv: 640x640 Done. (0.013s)\n",
      "video 1/1 (2429/3933) D:\\815_CowDataChecking\\20221229\\20221229_M_cow\\20221229_061532_21C6.mkv: 640x640 Done. (0.017s)\n",
      "video 1/1 (2430/3933) D:\\815_CowDataChecking\\20221229\\20221229_M_cow\\20221229_061532_21C6.mkv: 640x640 Done. (0.013s)\n",
      "video 1/1 (2431/3933) D:\\815_CowDataChecking\\20221229\\20221229_M_cow\\20221229_061532_21C6.mkv: 640x640 Done. (0.015s)\n",
      "video 1/1 (2432/3933) D:\\815_CowDataChecking\\20221229\\20221229_M_cow\\20221229_061532_21C6.mkv: 640x640 Done. (0.013s)\n",
      "video 1/1 (2433/3933) D:\\815_CowDataChecking\\20221229\\20221229_M_cow\\20221229_061532_21C6.mkv: 640x640 Done. (0.018s)\n",
      "video 1/1 (2434/3933) D:\\815_CowDataChecking\\20221229\\20221229_M_cow\\20221229_061532_21C6.mkv: 640x640 Done. (0.026s)\n",
      "video 1/1 (2435/3933) D:\\815_CowDataChecking\\20221229\\20221229_M_cow\\20221229_061532_21C6.mkv: 640x640 Done. (0.019s)\n",
      "video 1/1 (2436/3933) D:\\815_CowDataChecking\\20221229\\20221229_M_cow\\20221229_061532_21C6.mkv: 640x640 Done. (0.016s)\n",
      "video 1/1 (2437/3933) D:\\815_CowDataChecking\\20221229\\20221229_M_cow\\20221229_061532_21C6.mkv: 640x640 Done. (0.025s)\n",
      "video 1/1 (2438/3933) D:\\815_CowDataChecking\\20221229\\20221229_M_cow\\20221229_061532_21C6.mkv: 640x640 Done. (0.019s)\n",
      "video 1/1 (2439/3933) D:\\815_CowDataChecking\\20221229\\20221229_M_cow\\20221229_061532_21C6.mkv: 640x640 Done. (0.020s)\n",
      "video 1/1 (2440/3933) D:\\815_CowDataChecking\\20221229\\20221229_M_cow\\20221229_061532_21C6.mkv: 640x640 Done. (0.018s)\n",
      "video 1/1 (2441/3933) D:\\815_CowDataChecking\\20221229\\20221229_M_cow\\20221229_061532_21C6.mkv: 640x640 Done. (0.020s)\n",
      "video 1/1 (2442/3933) D:\\815_CowDataChecking\\20221229\\20221229_M_cow\\20221229_061532_21C6.mkv: 640x640 Done. (0.020s)\n",
      "video 1/1 (2443/3933) D:\\815_CowDataChecking\\20221229\\20221229_M_cow\\20221229_061532_21C6.mkv: 640x640 Done. (0.019s)\n",
      "video 1/1 (2444/3933) D:\\815_CowDataChecking\\20221229\\20221229_M_cow\\20221229_061532_21C6.mkv: 640x640 Done. (0.022s)\n",
      "video 1/1 (2445/3933) D:\\815_CowDataChecking\\20221229\\20221229_M_cow\\20221229_061532_21C6.mkv: 640x640 Done. (0.034s)\n",
      "video 1/1 (2446/3933) D:\\815_CowDataChecking\\20221229\\20221229_M_cow\\20221229_061532_21C6.mkv: 640x640 Done. (0.030s)\n",
      "video 1/1 (2447/3933) D:\\815_CowDataChecking\\20221229\\20221229_M_cow\\20221229_061532_21C6.mkv: 640x640 Done. (0.048s)\n",
      "video 1/1 (2448/3933) D:\\815_CowDataChecking\\20221229\\20221229_M_cow\\20221229_061532_21C6.mkv: 640x640 Done. (0.019s)\n",
      "video 1/1 (2449/3933) D:\\815_CowDataChecking\\20221229\\20221229_M_cow\\20221229_061532_21C6.mkv: 640x640 Done. (0.020s)\n",
      "video 1/1 (2450/3933) D:\\815_CowDataChecking\\20221229\\20221229_M_cow\\20221229_061532_21C6.mkv: 640x640 Done. (0.018s)\n",
      "video 1/1 (2451/3933) D:\\815_CowDataChecking\\20221229\\20221229_M_cow\\20221229_061532_21C6.mkv: 640x640 Done. (0.020s)\n",
      "video 1/1 (2452/3933) D:\\815_CowDataChecking\\20221229\\20221229_M_cow\\20221229_061532_21C6.mkv: 640x640 Done. (0.020s)\n",
      "video 1/1 (2453/3933) D:\\815_CowDataChecking\\20221229\\20221229_M_cow\\20221229_061532_21C6.mkv: 640x640 Done. (0.022s)\n",
      "video 1/1 (2454/3933) D:\\815_CowDataChecking\\20221229\\20221229_M_cow\\20221229_061532_21C6.mkv: 640x640 Done. (0.015s)\n",
      "video 1/1 (2455/3933) D:\\815_CowDataChecking\\20221229\\20221229_M_cow\\20221229_061532_21C6.mkv: 640x640 Done. (0.017s)\n",
      "video 1/1 (2456/3933) D:\\815_CowDataChecking\\20221229\\20221229_M_cow\\20221229_061532_21C6.mkv: 640x640 Done. (0.021s)\n",
      "video 1/1 (2457/3933) D:\\815_CowDataChecking\\20221229\\20221229_M_cow\\20221229_061532_21C6.mkv: 640x640 Done. (0.014s)\n",
      "video 1/1 (2458/3933) D:\\815_CowDataChecking\\20221229\\20221229_M_cow\\20221229_061532_21C6.mkv: 640x640 Done. (0.017s)\n",
      "video 1/1 (2459/3933) D:\\815_CowDataChecking\\20221229\\20221229_M_cow\\20221229_061532_21C6.mkv: 640x640 Done. (0.022s)\n",
      "video 1/1 (2460/3933) D:\\815_CowDataChecking\\20221229\\20221229_M_cow\\20221229_061532_21C6.mkv: 640x640 Done. (0.021s)\n",
      "video 1/1 (2461/3933) D:\\815_CowDataChecking\\20221229\\20221229_M_cow\\20221229_061532_21C6.mkv: 640x640 Done. (0.015s)\n",
      "video 1/1 (2462/3933) D:\\815_CowDataChecking\\20221229\\20221229_M_cow\\20221229_061532_21C6.mkv: 640x640 Done. (0.020s)\n",
      "video 1/1 (2463/3933) D:\\815_CowDataChecking\\20221229\\20221229_M_cow\\20221229_061532_21C6.mkv: 640x640 Done. (0.021s)\n",
      "video 1/1 (2464/3933) D:\\815_CowDataChecking\\20221229\\20221229_M_cow\\20221229_061532_21C6.mkv: 640x640 Done. (0.019s)\n",
      "video 1/1 (2465/3933) D:\\815_CowDataChecking\\20221229\\20221229_M_cow\\20221229_061532_21C6.mkv: 640x640 Done. (0.015s)\n",
      "video 1/1 (2466/3933) D:\\815_CowDataChecking\\20221229\\20221229_M_cow\\20221229_061532_21C6.mkv: 640x640 Done. (0.019s)\n",
      "video 1/1 (2467/3933) D:\\815_CowDataChecking\\20221229\\20221229_M_cow\\20221229_061532_21C6.mkv: 640x640 Done. (0.012s)\n",
      "video 1/1 (2468/3933) D:\\815_CowDataChecking\\20221229\\20221229_M_cow\\20221229_061532_21C6.mkv: 640x640 Done. (0.018s)\n",
      "video 1/1 (2469/3933) D:\\815_CowDataChecking\\20221229\\20221229_M_cow\\20221229_061532_21C6.mkv: 640x640 Done. (0.016s)\n",
      "video 1/1 (2470/3933) D:\\815_CowDataChecking\\20221229\\20221229_M_cow\\20221229_061532_21C6.mkv: 640x640 Done. (0.013s)\n",
      "video 1/1 (2471/3933) D:\\815_CowDataChecking\\20221229\\20221229_M_cow\\20221229_061532_21C6.mkv: 640x640 Done. (0.015s)\n",
      "video 1/1 (2472/3933) D:\\815_CowDataChecking\\20221229\\20221229_M_cow\\20221229_061532_21C6.mkv: 640x640 Done. (0.012s)\n",
      "video 1/1 (2473/3933) D:\\815_CowDataChecking\\20221229\\20221229_M_cow\\20221229_061532_21C6.mkv: 640x640 Done. (0.014s)\n",
      "video 1/1 (2474/3933) D:\\815_CowDataChecking\\20221229\\20221229_M_cow\\20221229_061532_21C6.mkv: 640x640 Done. (0.013s)\n",
      "video 1/1 (2475/3933) D:\\815_CowDataChecking\\20221229\\20221229_M_cow\\20221229_061532_21C6.mkv: 640x640 Done. (0.014s)\n",
      "video 1/1 (2476/3933) D:\\815_CowDataChecking\\20221229\\20221229_M_cow\\20221229_061532_21C6.mkv: 640x640 Done. (0.018s)\n",
      "video 1/1 (2477/3933) D:\\815_CowDataChecking\\20221229\\20221229_M_cow\\20221229_061532_21C6.mkv: 640x640 Done. (0.019s)\n",
      "video 1/1 (2478/3933) D:\\815_CowDataChecking\\20221229\\20221229_M_cow\\20221229_061532_21C6.mkv: 640x640 Done. (0.018s)\n",
      "video 1/1 (2479/3933) D:\\815_CowDataChecking\\20221229\\20221229_M_cow\\20221229_061532_21C6.mkv: 640x640 Done. (0.017s)\n",
      "video 1/1 (2480/3933) D:\\815_CowDataChecking\\20221229\\20221229_M_cow\\20221229_061532_21C6.mkv: 640x640 Done. (0.018s)\n",
      "video 1/1 (2481/3933) D:\\815_CowDataChecking\\20221229\\20221229_M_cow\\20221229_061532_21C6.mkv: 640x640 Done. (0.019s)\n",
      "video 1/1 (2482/3933) D:\\815_CowDataChecking\\20221229\\20221229_M_cow\\20221229_061532_21C6.mkv: 640x640 Done. (0.015s)\n",
      "video 1/1 (2483/3933) D:\\815_CowDataChecking\\20221229\\20221229_M_cow\\20221229_061532_21C6.mkv: 640x640 Done. (0.014s)\n",
      "video 1/1 (2484/3933) D:\\815_CowDataChecking\\20221229\\20221229_M_cow\\20221229_061532_21C6.mkv: 640x640 Done. (0.012s)\n",
      "video 1/1 (2485/3933) D:\\815_CowDataChecking\\20221229\\20221229_M_cow\\20221229_061532_21C6.mkv: 640x640 Done. (0.016s)\n",
      "video 1/1 (2486/3933) D:\\815_CowDataChecking\\20221229\\20221229_M_cow\\20221229_061532_21C6.mkv: 640x640 Done. (0.014s)\n",
      "video 1/1 (2487/3933) D:\\815_CowDataChecking\\20221229\\20221229_M_cow\\20221229_061532_21C6.mkv: 640x640 Done. (0.015s)\n",
      "video 1/1 (2488/3933) D:\\815_CowDataChecking\\20221229\\20221229_M_cow\\20221229_061532_21C6.mkv: 640x640 Done. (0.016s)\n",
      "video 1/1 (2489/3933) D:\\815_CowDataChecking\\20221229\\20221229_M_cow\\20221229_061532_21C6.mkv: 640x640 Done. (0.014s)\n",
      "video 1/1 (2490/3933) D:\\815_CowDataChecking\\20221229\\20221229_M_cow\\20221229_061532_21C6.mkv: 640x640 Done. (0.016s)\n",
      "video 1/1 (2491/3933) D:\\815_CowDataChecking\\20221229\\20221229_M_cow\\20221229_061532_21C6.mkv: 640x640 Done. (0.017s)\n",
      "video 1/1 (2492/3933) D:\\815_CowDataChecking\\20221229\\20221229_M_cow\\20221229_061532_21C6.mkv: 640x640 Done. (0.018s)\n",
      "video 1/1 (2493/3933) D:\\815_CowDataChecking\\20221229\\20221229_M_cow\\20221229_061532_21C6.mkv: 640x640 Done. (0.019s)\n",
      "video 1/1 (2494/3933) D:\\815_CowDataChecking\\20221229\\20221229_M_cow\\20221229_061532_21C6.mkv: 640x640 Done. (0.015s)\n",
      "video 1/1 (2495/3933) D:\\815_CowDataChecking\\20221229\\20221229_M_cow\\20221229_061532_21C6.mkv: 640x640 Done. (0.016s)\n",
      "video 1/1 (2496/3933) D:\\815_CowDataChecking\\20221229\\20221229_M_cow\\20221229_061532_21C6.mkv: 640x640 Done. (0.018s)\n",
      "video 1/1 (2497/3933) D:\\815_CowDataChecking\\20221229\\20221229_M_cow\\20221229_061532_21C6.mkv: 640x640 Done. (0.018s)\n",
      "video 1/1 (2498/3933) D:\\815_CowDataChecking\\20221229\\20221229_M_cow\\20221229_061532_21C6.mkv: 640x640 Done. (0.020s)\n",
      "video 1/1 (2499/3933) D:\\815_CowDataChecking\\20221229\\20221229_M_cow\\20221229_061532_21C6.mkv: 640x640 Done. (0.017s)\n",
      "video 1/1 (2500/3933) D:\\815_CowDataChecking\\20221229\\20221229_M_cow\\20221229_061532_21C6.mkv: 640x640 Done. (0.026s)\n",
      "video 1/1 (2501/3933) D:\\815_CowDataChecking\\20221229\\20221229_M_cow\\20221229_061532_21C6.mkv: 640x640 Done. (0.021s)\n",
      "video 1/1 (2502/3933) D:\\815_CowDataChecking\\20221229\\20221229_M_cow\\20221229_061532_21C6.mkv: 640x640 Done. (0.023s)\n",
      "video 1/1 (2503/3933) D:\\815_CowDataChecking\\20221229\\20221229_M_cow\\20221229_061532_21C6.mkv: 640x640 Done. (0.026s)\n",
      "video 1/1 (2504/3933) D:\\815_CowDataChecking\\20221229\\20221229_M_cow\\20221229_061532_21C6.mkv: 640x640 Done. (0.019s)\n",
      "video 1/1 (2505/3933) D:\\815_CowDataChecking\\20221229\\20221229_M_cow\\20221229_061532_21C6.mkv: 640x640 Done. (0.022s)\n",
      "video 1/1 (2506/3933) D:\\815_CowDataChecking\\20221229\\20221229_M_cow\\20221229_061532_21C6.mkv: 640x640 Done. (0.044s)\n",
      "video 1/1 (2507/3933) D:\\815_CowDataChecking\\20221229\\20221229_M_cow\\20221229_061532_21C6.mkv: 640x640 Done. (0.044s)\n",
      "video 1/1 (2508/3933) D:\\815_CowDataChecking\\20221229\\20221229_M_cow\\20221229_061532_21C6.mkv: 640x640 Done. (0.042s)\n",
      "video 1/1 (2509/3933) D:\\815_CowDataChecking\\20221229\\20221229_M_cow\\20221229_061532_21C6.mkv: 640x640 Done. (0.025s)\n",
      "video 1/1 (2510/3933) D:\\815_CowDataChecking\\20221229\\20221229_M_cow\\20221229_061532_21C6.mkv: 640x640 Done. (0.035s)\n",
      "video 1/1 (2511/3933) D:\\815_CowDataChecking\\20221229\\20221229_M_cow\\20221229_061532_21C6.mkv: 640x640 Done. (0.024s)\n",
      "video 1/1 (2512/3933) D:\\815_CowDataChecking\\20221229\\20221229_M_cow\\20221229_061532_21C6.mkv: 640x640 Done. (0.018s)\n",
      "video 1/1 (2513/3933) D:\\815_CowDataChecking\\20221229\\20221229_M_cow\\20221229_061532_21C6.mkv: 640x640 Done. (0.016s)\n",
      "video 1/1 (2514/3933) D:\\815_CowDataChecking\\20221229\\20221229_M_cow\\20221229_061532_21C6.mkv: 640x640 Done. (0.018s)\n",
      "video 1/1 (2515/3933) D:\\815_CowDataChecking\\20221229\\20221229_M_cow\\20221229_061532_21C6.mkv: 640x640 Done. (0.017s)\n",
      "video 1/1 (2516/3933) D:\\815_CowDataChecking\\20221229\\20221229_M_cow\\20221229_061532_21C6.mkv: 640x640 Done. (0.016s)\n",
      "video 1/1 (2517/3933) D:\\815_CowDataChecking\\20221229\\20221229_M_cow\\20221229_061532_21C6.mkv: 640x640 Done. (0.014s)\n",
      "video 1/1 (2518/3933) D:\\815_CowDataChecking\\20221229\\20221229_M_cow\\20221229_061532_21C6.mkv: 640x640 Done. (0.014s)\n",
      "video 1/1 (2519/3933) D:\\815_CowDataChecking\\20221229\\20221229_M_cow\\20221229_061532_21C6.mkv: 640x640 Done. (0.014s)\n",
      "video 1/1 (2520/3933) D:\\815_CowDataChecking\\20221229\\20221229_M_cow\\20221229_061532_21C6.mkv: 640x640 Done. (0.014s)\n",
      "video 1/1 (2521/3933) D:\\815_CowDataChecking\\20221229\\20221229_M_cow\\20221229_061532_21C6.mkv: 640x640 Done. (0.014s)\n",
      "video 1/1 (2522/3933) D:\\815_CowDataChecking\\20221229\\20221229_M_cow\\20221229_061532_21C6.mkv: 640x640 Done. (0.014s)\n",
      "video 1/1 (2523/3933) D:\\815_CowDataChecking\\20221229\\20221229_M_cow\\20221229_061532_21C6.mkv: 640x640 Done. (0.014s)\n",
      "video 1/1 (2524/3933) D:\\815_CowDataChecking\\20221229\\20221229_M_cow\\20221229_061532_21C6.mkv: 640x640 Done. (0.015s)\n",
      "video 1/1 (2525/3933) D:\\815_CowDataChecking\\20221229\\20221229_M_cow\\20221229_061532_21C6.mkv: 640x640 Done. (0.017s)\n",
      "video 1/1 (2526/3933) D:\\815_CowDataChecking\\20221229\\20221229_M_cow\\20221229_061532_21C6.mkv: 640x640 Done. (0.014s)\n",
      "video 1/1 (2527/3933) D:\\815_CowDataChecking\\20221229\\20221229_M_cow\\20221229_061532_21C6.mkv: 640x640 Done. (0.014s)\n",
      "video 1/1 (2528/3933) D:\\815_CowDataChecking\\20221229\\20221229_M_cow\\20221229_061532_21C6.mkv: 640x640 Done. (0.017s)\n",
      "video 1/1 (2529/3933) D:\\815_CowDataChecking\\20221229\\20221229_M_cow\\20221229_061532_21C6.mkv: 640x640 Done. (0.015s)\n",
      "video 1/1 (2530/3933) D:\\815_CowDataChecking\\20221229\\20221229_M_cow\\20221229_061532_21C6.mkv: 640x640 Done. (0.016s)\n",
      "video 1/1 (2531/3933) D:\\815_CowDataChecking\\20221229\\20221229_M_cow\\20221229_061532_21C6.mkv: 640x640 Done. (0.013s)\n",
      "video 1/1 (2532/3933) D:\\815_CowDataChecking\\20221229\\20221229_M_cow\\20221229_061532_21C6.mkv: 640x640 Done. (0.013s)\n",
      "video 1/1 (2533/3933) D:\\815_CowDataChecking\\20221229\\20221229_M_cow\\20221229_061532_21C6.mkv: 640x640 Done. (0.015s)\n",
      "video 1/1 (2534/3933) D:\\815_CowDataChecking\\20221229\\20221229_M_cow\\20221229_061532_21C6.mkv: 640x640 Done. (0.014s)\n",
      "video 1/1 (2535/3933) D:\\815_CowDataChecking\\20221229\\20221229_M_cow\\20221229_061532_21C6.mkv: 640x640 Done. (0.014s)\n",
      "video 1/1 (2536/3933) D:\\815_CowDataChecking\\20221229\\20221229_M_cow\\20221229_061532_21C6.mkv: 640x640 Done. (0.016s)\n",
      "video 1/1 (2537/3933) D:\\815_CowDataChecking\\20221229\\20221229_M_cow\\20221229_061532_21C6.mkv: 640x640 Done. (0.013s)\n",
      "video 1/1 (2538/3933) D:\\815_CowDataChecking\\20221229\\20221229_M_cow\\20221229_061532_21C6.mkv: 640x640 Done. (0.014s)\n",
      "video 1/1 (2539/3933) D:\\815_CowDataChecking\\20221229\\20221229_M_cow\\20221229_061532_21C6.mkv: 640x640 Done. (0.016s)\n",
      "video 1/1 (2540/3933) D:\\815_CowDataChecking\\20221229\\20221229_M_cow\\20221229_061532_21C6.mkv: 640x640 Done. (0.016s)\n",
      "video 1/1 (2541/3933) D:\\815_CowDataChecking\\20221229\\20221229_M_cow\\20221229_061532_21C6.mkv: 640x640 Done. (0.017s)\n",
      "video 1/1 (2542/3933) D:\\815_CowDataChecking\\20221229\\20221229_M_cow\\20221229_061532_21C6.mkv: 640x640 Done. (0.014s)\n",
      "video 1/1 (2543/3933) D:\\815_CowDataChecking\\20221229\\20221229_M_cow\\20221229_061532_21C6.mkv: 640x640 Done. (0.017s)\n",
      "video 1/1 (2544/3933) D:\\815_CowDataChecking\\20221229\\20221229_M_cow\\20221229_061532_21C6.mkv: 640x640 Done. (0.020s)\n",
      "video 1/1 (2545/3933) D:\\815_CowDataChecking\\20221229\\20221229_M_cow\\20221229_061532_21C6.mkv: 640x640 Done. (0.021s)\n",
      "video 1/1 (2546/3933) D:\\815_CowDataChecking\\20221229\\20221229_M_cow\\20221229_061532_21C6.mkv: 640x640 Done. (0.021s)\n",
      "video 1/1 (2547/3933) D:\\815_CowDataChecking\\20221229\\20221229_M_cow\\20221229_061532_21C6.mkv: 640x640 Done. (0.021s)\n",
      "video 1/1 (2548/3933) D:\\815_CowDataChecking\\20221229\\20221229_M_cow\\20221229_061532_21C6.mkv: 640x640 Done. (0.023s)\n",
      "video 1/1 (2549/3933) D:\\815_CowDataChecking\\20221229\\20221229_M_cow\\20221229_061532_21C6.mkv: 640x640 Done. (0.020s)\n",
      "video 1/1 (2550/3933) D:\\815_CowDataChecking\\20221229\\20221229_M_cow\\20221229_061532_21C6.mkv: 640x640 Done. (0.019s)\n",
      "video 1/1 (2551/3933) D:\\815_CowDataChecking\\20221229\\20221229_M_cow\\20221229_061532_21C6.mkv: 640x640 Done. (0.021s)\n",
      "video 1/1 (2552/3933) D:\\815_CowDataChecking\\20221229\\20221229_M_cow\\20221229_061532_21C6.mkv: 640x640 Done. (0.023s)\n",
      "video 1/1 (2553/3933) D:\\815_CowDataChecking\\20221229\\20221229_M_cow\\20221229_061532_21C6.mkv: 640x640 Done. (0.018s)\n",
      "video 1/1 (2554/3933) D:\\815_CowDataChecking\\20221229\\20221229_M_cow\\20221229_061532_21C6.mkv: 640x640 Done. (0.021s)\n",
      "video 1/1 (2555/3933) D:\\815_CowDataChecking\\20221229\\20221229_M_cow\\20221229_061532_21C6.mkv: 640x640 Done. (0.021s)\n",
      "video 1/1 (2556/3933) D:\\815_CowDataChecking\\20221229\\20221229_M_cow\\20221229_061532_21C6.mkv: 640x640 Done. (0.025s)\n",
      "video 1/1 (2557/3933) D:\\815_CowDataChecking\\20221229\\20221229_M_cow\\20221229_061532_21C6.mkv: 640x640 Done. (0.021s)\n",
      "video 1/1 (2558/3933) D:\\815_CowDataChecking\\20221229\\20221229_M_cow\\20221229_061532_21C6.mkv: 640x640 Done. (0.024s)\n",
      "video 1/1 (2559/3933) D:\\815_CowDataChecking\\20221229\\20221229_M_cow\\20221229_061532_21C6.mkv: 640x640 Done. (0.019s)\n",
      "video 1/1 (2560/3933) D:\\815_CowDataChecking\\20221229\\20221229_M_cow\\20221229_061532_21C6.mkv: 640x640 Done. (0.042s)\n",
      "video 1/1 (2561/3933) D:\\815_CowDataChecking\\20221229\\20221229_M_cow\\20221229_061532_21C6.mkv: 640x640 Done. (0.051s)\n",
      "video 1/1 (2562/3933) D:\\815_CowDataChecking\\20221229\\20221229_M_cow\\20221229_061532_21C6.mkv: 640x640 Done. (0.017s)\n",
      "video 1/1 (2563/3933) D:\\815_CowDataChecking\\20221229\\20221229_M_cow\\20221229_061532_21C6.mkv: 640x640 Done. (0.019s)\n",
      "video 1/1 (2564/3933) D:\\815_CowDataChecking\\20221229\\20221229_M_cow\\20221229_061532_21C6.mkv: 640x640 Done. (0.022s)\n",
      "video 1/1 (2565/3933) D:\\815_CowDataChecking\\20221229\\20221229_M_cow\\20221229_061532_21C6.mkv: 640x640 Done. (0.016s)\n",
      "video 1/1 (2566/3933) D:\\815_CowDataChecking\\20221229\\20221229_M_cow\\20221229_061532_21C6.mkv: 640x640 Done. (0.016s)\n",
      "video 1/1 (2567/3933) D:\\815_CowDataChecking\\20221229\\20221229_M_cow\\20221229_061532_21C6.mkv: 640x640 Done. (0.025s)\n",
      "video 1/1 (2568/3933) D:\\815_CowDataChecking\\20221229\\20221229_M_cow\\20221229_061532_21C6.mkv: 640x640 Done. (0.023s)\n",
      "video 1/1 (2569/3933) D:\\815_CowDataChecking\\20221229\\20221229_M_cow\\20221229_061532_21C6.mkv: 640x640 Done. (0.025s)\n",
      "video 1/1 (2570/3933) D:\\815_CowDataChecking\\20221229\\20221229_M_cow\\20221229_061532_21C6.mkv: 640x640 Done. (0.018s)\n",
      "video 1/1 (2571/3933) D:\\815_CowDataChecking\\20221229\\20221229_M_cow\\20221229_061532_21C6.mkv: 640x640 Done. (0.019s)\n",
      "video 1/1 (2572/3933) D:\\815_CowDataChecking\\20221229\\20221229_M_cow\\20221229_061532_21C6.mkv: 640x640 Done. (0.022s)\n",
      "video 1/1 (2573/3933) D:\\815_CowDataChecking\\20221229\\20221229_M_cow\\20221229_061532_21C6.mkv: 640x640 Done. (0.018s)\n",
      "video 1/1 (2574/3933) D:\\815_CowDataChecking\\20221229\\20221229_M_cow\\20221229_061532_21C6.mkv: 640x640 Done. (0.019s)\n",
      "video 1/1 (2575/3933) D:\\815_CowDataChecking\\20221229\\20221229_M_cow\\20221229_061532_21C6.mkv: 640x640 Done. (0.019s)\n",
      "video 1/1 (2576/3933) D:\\815_CowDataChecking\\20221229\\20221229_M_cow\\20221229_061532_21C6.mkv: 640x640 Done. (0.019s)\n",
      "video 1/1 (2577/3933) D:\\815_CowDataChecking\\20221229\\20221229_M_cow\\20221229_061532_21C6.mkv: 640x640 Done. (0.016s)\n",
      "video 1/1 (2578/3933) D:\\815_CowDataChecking\\20221229\\20221229_M_cow\\20221229_061532_21C6.mkv: 640x640 Done. (0.026s)\n",
      "video 1/1 (2579/3933) D:\\815_CowDataChecking\\20221229\\20221229_M_cow\\20221229_061532_21C6.mkv: 640x640 Done. (0.026s)\n",
      "video 1/1 (2580/3933) D:\\815_CowDataChecking\\20221229\\20221229_M_cow\\20221229_061532_21C6.mkv: 640x640 Done. (0.018s)\n",
      "video 1/1 (2581/3933) D:\\815_CowDataChecking\\20221229\\20221229_M_cow\\20221229_061532_21C6.mkv: 640x640 Done. (0.019s)\n",
      "video 1/1 (2582/3933) D:\\815_CowDataChecking\\20221229\\20221229_M_cow\\20221229_061532_21C6.mkv: 640x640 Done. (0.025s)\n",
      "video 1/1 (2583/3933) D:\\815_CowDataChecking\\20221229\\20221229_M_cow\\20221229_061532_21C6.mkv: 640x640 Done. (0.025s)\n",
      "video 1/1 (2584/3933) D:\\815_CowDataChecking\\20221229\\20221229_M_cow\\20221229_061532_21C6.mkv: 640x640 Done. (0.025s)\n",
      "video 1/1 (2585/3933) D:\\815_CowDataChecking\\20221229\\20221229_M_cow\\20221229_061532_21C6.mkv: 640x640 Done. (0.021s)\n",
      "video 1/1 (2586/3933) D:\\815_CowDataChecking\\20221229\\20221229_M_cow\\20221229_061532_21C6.mkv: 640x640 Done. (0.055s)\n",
      "video 1/1 (2587/3933) D:\\815_CowDataChecking\\20221229\\20221229_M_cow\\20221229_061532_21C6.mkv: 640x640 Done. (0.050s)\n",
      "video 1/1 (2588/3933) D:\\815_CowDataChecking\\20221229\\20221229_M_cow\\20221229_061532_21C6.mkv: 640x640 Done. (0.047s)\n",
      "video 1/1 (2589/3933) D:\\815_CowDataChecking\\20221229\\20221229_M_cow\\20221229_061532_21C6.mkv: 640x640 Done. (0.049s)\n",
      "video 1/1 (2590/3933) D:\\815_CowDataChecking\\20221229\\20221229_M_cow\\20221229_061532_21C6.mkv: 640x640 Done. (0.048s)\n",
      "video 1/1 (2591/3933) D:\\815_CowDataChecking\\20221229\\20221229_M_cow\\20221229_061532_21C6.mkv: 640x640 Done. (0.016s)\n",
      "video 1/1 (2592/3933) D:\\815_CowDataChecking\\20221229\\20221229_M_cow\\20221229_061532_21C6.mkv: 640x640 Done. (0.032s)\n",
      "video 1/1 (2593/3933) D:\\815_CowDataChecking\\20221229\\20221229_M_cow\\20221229_061532_21C6.mkv: 640x640 Done. (0.028s)\n",
      "video 1/1 (2594/3933) D:\\815_CowDataChecking\\20221229\\20221229_M_cow\\20221229_061532_21C6.mkv: 640x640 Done. (0.017s)\n",
      "video 1/1 (2595/3933) D:\\815_CowDataChecking\\20221229\\20221229_M_cow\\20221229_061532_21C6.mkv: 640x640 Done. (0.016s)\n",
      "video 1/1 (2596/3933) D:\\815_CowDataChecking\\20221229\\20221229_M_cow\\20221229_061532_21C6.mkv: 640x640 Done. (0.016s)\n",
      "video 1/1 (2597/3933) D:\\815_CowDataChecking\\20221229\\20221229_M_cow\\20221229_061532_21C6.mkv: 640x640 Done. (0.015s)\n",
      "video 1/1 (2598/3933) D:\\815_CowDataChecking\\20221229\\20221229_M_cow\\20221229_061532_21C6.mkv: 640x640 Done. (0.015s)\n",
      "video 1/1 (2599/3933) D:\\815_CowDataChecking\\20221229\\20221229_M_cow\\20221229_061532_21C6.mkv: 640x640 Done. (0.015s)\n",
      "video 1/1 (2600/3933) D:\\815_CowDataChecking\\20221229\\20221229_M_cow\\20221229_061532_21C6.mkv: 640x640 Done. (0.016s)\n",
      "video 1/1 (2601/3933) D:\\815_CowDataChecking\\20221229\\20221229_M_cow\\20221229_061532_21C6.mkv: 640x640 Done. (0.016s)\n",
      "video 1/1 (2602/3933) D:\\815_CowDataChecking\\20221229\\20221229_M_cow\\20221229_061532_21C6.mkv: 640x640 Done. (0.025s)\n",
      "video 1/1 (2603/3933) D:\\815_CowDataChecking\\20221229\\20221229_M_cow\\20221229_061532_21C6.mkv: 640x640 Done. (0.025s)\n",
      "video 1/1 (2604/3933) D:\\815_CowDataChecking\\20221229\\20221229_M_cow\\20221229_061532_21C6.mkv: 640x640 Done. (0.016s)\n",
      "video 1/1 (2605/3933) D:\\815_CowDataChecking\\20221229\\20221229_M_cow\\20221229_061532_21C6.mkv: 640x640 Done. (0.026s)\n",
      "video 1/1 (2606/3933) D:\\815_CowDataChecking\\20221229\\20221229_M_cow\\20221229_061532_21C6.mkv: 640x640 Done. (0.027s)\n",
      "video 1/1 (2607/3933) D:\\815_CowDataChecking\\20221229\\20221229_M_cow\\20221229_061532_21C6.mkv: 640x640 Done. (0.016s)\n",
      "video 1/1 (2608/3933) D:\\815_CowDataChecking\\20221229\\20221229_M_cow\\20221229_061532_21C6.mkv: 640x640 Done. (0.025s)\n",
      "video 1/1 (2609/3933) D:\\815_CowDataChecking\\20221229\\20221229_M_cow\\20221229_061532_21C6.mkv: 640x640 Done. (0.018s)\n",
      "video 1/1 (2610/3933) D:\\815_CowDataChecking\\20221229\\20221229_M_cow\\20221229_061532_21C6.mkv: 640x640 Done. (0.046s)\n",
      "video 1/1 (2611/3933) D:\\815_CowDataChecking\\20221229\\20221229_M_cow\\20221229_061532_21C6.mkv: 640x640 Done. (0.050s)\n",
      "video 1/1 (2612/3933) D:\\815_CowDataChecking\\20221229\\20221229_M_cow\\20221229_061532_21C6.mkv: 640x640 Done. (0.047s)\n",
      "video 1/1 (2613/3933) D:\\815_CowDataChecking\\20221229\\20221229_M_cow\\20221229_061532_21C6.mkv: 640x640 Done. (0.048s)\n",
      "video 1/1 (2614/3933) D:\\815_CowDataChecking\\20221229\\20221229_M_cow\\20221229_061532_21C6.mkv: 640x640 Done. (0.063s)\n",
      "video 1/1 (2615/3933) D:\\815_CowDataChecking\\20221229\\20221229_M_cow\\20221229_061532_21C6.mkv: 640x640 Done. (0.021s)\n",
      "video 1/1 (2616/3933) D:\\815_CowDataChecking\\20221229\\20221229_M_cow\\20221229_061532_21C6.mkv: 640x640 Done. (0.018s)\n",
      "video 1/1 (2617/3933) D:\\815_CowDataChecking\\20221229\\20221229_M_cow\\20221229_061532_21C6.mkv: 640x640 Done. (0.014s)\n",
      "video 1/1 (2618/3933) D:\\815_CowDataChecking\\20221229\\20221229_M_cow\\20221229_061532_21C6.mkv: 640x640 Done. (0.016s)\n",
      "video 1/1 (2619/3933) D:\\815_CowDataChecking\\20221229\\20221229_M_cow\\20221229_061532_21C6.mkv: 640x640 Done. (0.026s)\n",
      "video 1/1 (2620/3933) D:\\815_CowDataChecking\\20221229\\20221229_M_cow\\20221229_061532_21C6.mkv: 640x640 Done. (0.014s)\n",
      "video 1/1 (2621/3933) D:\\815_CowDataChecking\\20221229\\20221229_M_cow\\20221229_061532_21C6.mkv: 640x640 Done. (0.026s)\n",
      "video 1/1 (2622/3933) D:\\815_CowDataChecking\\20221229\\20221229_M_cow\\20221229_061532_21C6.mkv: 640x640 Done. (0.025s)\n",
      "video 1/1 (2623/3933) D:\\815_CowDataChecking\\20221229\\20221229_M_cow\\20221229_061532_21C6.mkv: 640x640 Done. (0.027s)\n",
      "video 1/1 (2624/3933) D:\\815_CowDataChecking\\20221229\\20221229_M_cow\\20221229_061532_21C6.mkv: 640x640 Done. (0.021s)\n",
      "video 1/1 (2625/3933) D:\\815_CowDataChecking\\20221229\\20221229_M_cow\\20221229_061532_21C6.mkv: 640x640 Done. (0.027s)\n",
      "video 1/1 (2626/3933) D:\\815_CowDataChecking\\20221229\\20221229_M_cow\\20221229_061532_21C6.mkv: 640x640 Done. (0.021s)\n",
      "video 1/1 (2627/3933) D:\\815_CowDataChecking\\20221229\\20221229_M_cow\\20221229_061532_21C6.mkv: 640x640 Done. (0.016s)\n",
      "video 1/1 (2628/3933) D:\\815_CowDataChecking\\20221229\\20221229_M_cow\\20221229_061532_21C6.mkv: 640x640 Done. (0.017s)\n",
      "video 1/1 (2629/3933) D:\\815_CowDataChecking\\20221229\\20221229_M_cow\\20221229_061532_21C6.mkv: 640x640 Done. (0.016s)\n",
      "video 1/1 (2630/3933) D:\\815_CowDataChecking\\20221229\\20221229_M_cow\\20221229_061532_21C6.mkv: 640x640 Done. (0.018s)\n",
      "video 1/1 (2631/3933) D:\\815_CowDataChecking\\20221229\\20221229_M_cow\\20221229_061532_21C6.mkv: 640x640 Done. (0.015s)\n",
      "video 1/1 (2632/3933) D:\\815_CowDataChecking\\20221229\\20221229_M_cow\\20221229_061532_21C6.mkv: 640x640 Done. (0.017s)\n",
      "video 1/1 (2633/3933) D:\\815_CowDataChecking\\20221229\\20221229_M_cow\\20221229_061532_21C6.mkv: 640x640 Done. (0.017s)\n",
      "video 1/1 (2634/3933) D:\\815_CowDataChecking\\20221229\\20221229_M_cow\\20221229_061532_21C6.mkv: 640x640 Done. (0.076s)\n",
      "video 1/1 (2635/3933) D:\\815_CowDataChecking\\20221229\\20221229_M_cow\\20221229_061532_21C6.mkv: 640x640 Done. (0.021s)\n",
      "video 1/1 (2636/3933) D:\\815_CowDataChecking\\20221229\\20221229_M_cow\\20221229_061532_21C6.mkv: 640x640 Done. (0.017s)\n",
      "video 1/1 (2637/3933) D:\\815_CowDataChecking\\20221229\\20221229_M_cow\\20221229_061532_21C6.mkv: 640x640 Done. (0.019s)\n",
      "video 1/1 (2638/3933) D:\\815_CowDataChecking\\20221229\\20221229_M_cow\\20221229_061532_21C6.mkv: 640x640 Done. (0.021s)\n",
      "video 1/1 (2639/3933) D:\\815_CowDataChecking\\20221229\\20221229_M_cow\\20221229_061532_21C6.mkv: 640x640 Done. (0.017s)\n",
      "video 1/1 (2640/3933) D:\\815_CowDataChecking\\20221229\\20221229_M_cow\\20221229_061532_21C6.mkv: 640x640 Done. (0.018s)\n",
      "video 1/1 (2641/3933) D:\\815_CowDataChecking\\20221229\\20221229_M_cow\\20221229_061532_21C6.mkv: 640x640 Done. (0.016s)\n",
      "video 1/1 (2642/3933) D:\\815_CowDataChecking\\20221229\\20221229_M_cow\\20221229_061532_21C6.mkv: 640x640 Done. (0.014s)\n",
      "video 1/1 (2643/3933) D:\\815_CowDataChecking\\20221229\\20221229_M_cow\\20221229_061532_21C6.mkv: 640x640 Done. (0.014s)\n",
      "video 1/1 (2644/3933) D:\\815_CowDataChecking\\20221229\\20221229_M_cow\\20221229_061532_21C6.mkv: 640x640 Done. (0.015s)\n",
      "video 1/1 (2645/3933) D:\\815_CowDataChecking\\20221229\\20221229_M_cow\\20221229_061532_21C6.mkv: 640x640 Done. (0.014s)\n",
      "video 1/1 (2646/3933) D:\\815_CowDataChecking\\20221229\\20221229_M_cow\\20221229_061532_21C6.mkv: 640x640 Done. (0.016s)\n",
      "video 1/1 (2647/3933) D:\\815_CowDataChecking\\20221229\\20221229_M_cow\\20221229_061532_21C6.mkv: 640x640 Done. (0.013s)\n",
      "video 1/1 (2648/3933) D:\\815_CowDataChecking\\20221229\\20221229_M_cow\\20221229_061532_21C6.mkv: 640x640 Done. (0.014s)\n",
      "video 1/1 (2649/3933) D:\\815_CowDataChecking\\20221229\\20221229_M_cow\\20221229_061532_21C6.mkv: 640x640 Done. (0.014s)\n",
      "video 1/1 (2650/3933) D:\\815_CowDataChecking\\20221229\\20221229_M_cow\\20221229_061532_21C6.mkv: 640x640 Done. (0.014s)\n",
      "video 1/1 (2651/3933) D:\\815_CowDataChecking\\20221229\\20221229_M_cow\\20221229_061532_21C6.mkv: 640x640 Done. (0.015s)\n",
      "video 1/1 (2652/3933) D:\\815_CowDataChecking\\20221229\\20221229_M_cow\\20221229_061532_21C6.mkv: 640x640 Done. (0.015s)\n",
      "video 1/1 (2653/3933) D:\\815_CowDataChecking\\20221229\\20221229_M_cow\\20221229_061532_21C6.mkv: 640x640 Done. (0.014s)\n",
      "video 1/1 (2654/3933) D:\\815_CowDataChecking\\20221229\\20221229_M_cow\\20221229_061532_21C6.mkv: 640x640 Done. (0.014s)\n",
      "video 1/1 (2655/3933) D:\\815_CowDataChecking\\20221229\\20221229_M_cow\\20221229_061532_21C6.mkv: 640x640 Done. (0.014s)\n",
      "video 1/1 (2656/3933) D:\\815_CowDataChecking\\20221229\\20221229_M_cow\\20221229_061532_21C6.mkv: 640x640 Done. (0.013s)\n",
      "video 1/1 (2657/3933) D:\\815_CowDataChecking\\20221229\\20221229_M_cow\\20221229_061532_21C6.mkv: 640x640 Done. (0.017s)\n",
      "video 1/1 (2658/3933) D:\\815_CowDataChecking\\20221229\\20221229_M_cow\\20221229_061532_21C6.mkv: 640x640 Done. (0.015s)\n",
      "video 1/1 (2659/3933) D:\\815_CowDataChecking\\20221229\\20221229_M_cow\\20221229_061532_21C6.mkv: 640x640 Done. (0.014s)\n",
      "video 1/1 (2660/3933) D:\\815_CowDataChecking\\20221229\\20221229_M_cow\\20221229_061532_21C6.mkv: 640x640 Done. (0.018s)\n",
      "video 1/1 (2661/3933) D:\\815_CowDataChecking\\20221229\\20221229_M_cow\\20221229_061532_21C6.mkv: 640x640 Done. (0.018s)\n",
      "video 1/1 (2662/3933) D:\\815_CowDataChecking\\20221229\\20221229_M_cow\\20221229_061532_21C6.mkv: 640x640 Done. (0.019s)\n",
      "video 1/1 (2663/3933) D:\\815_CowDataChecking\\20221229\\20221229_M_cow\\20221229_061532_21C6.mkv: 640x640 Done. (0.019s)\n",
      "video 1/1 (2664/3933) D:\\815_CowDataChecking\\20221229\\20221229_M_cow\\20221229_061532_21C6.mkv: 640x640 Done. (0.019s)\n",
      "video 1/1 (2665/3933) D:\\815_CowDataChecking\\20221229\\20221229_M_cow\\20221229_061532_21C6.mkv: 640x640 Done. (0.019s)\n",
      "video 1/1 (2666/3933) D:\\815_CowDataChecking\\20221229\\20221229_M_cow\\20221229_061532_21C6.mkv: 640x640 Done. (0.018s)\n",
      "video 1/1 (2667/3933) D:\\815_CowDataChecking\\20221229\\20221229_M_cow\\20221229_061532_21C6.mkv: 640x640 Done. (0.019s)\n",
      "video 1/1 (2668/3933) D:\\815_CowDataChecking\\20221229\\20221229_M_cow\\20221229_061532_21C6.mkv: 640x640 Done. (0.018s)\n",
      "video 1/1 (2669/3933) D:\\815_CowDataChecking\\20221229\\20221229_M_cow\\20221229_061532_21C6.mkv: 640x640 Done. (0.019s)\n",
      "video 1/1 (2670/3933) D:\\815_CowDataChecking\\20221229\\20221229_M_cow\\20221229_061532_21C6.mkv: 640x640 Done. (0.022s)\n",
      "video 1/1 (2671/3933) D:\\815_CowDataChecking\\20221229\\20221229_M_cow\\20221229_061532_21C6.mkv: 640x640 Done. (0.022s)\n",
      "video 1/1 (2672/3933) D:\\815_CowDataChecking\\20221229\\20221229_M_cow\\20221229_061532_21C6.mkv: 640x640 Done. (0.021s)\n",
      "video 1/1 (2673/3933) D:\\815_CowDataChecking\\20221229\\20221229_M_cow\\20221229_061532_21C6.mkv: 640x640 Done. (0.020s)\n",
      "video 1/1 (2674/3933) D:\\815_CowDataChecking\\20221229\\20221229_M_cow\\20221229_061532_21C6.mkv: 640x640 Done. (0.021s)\n",
      "video 1/1 (2675/3933) D:\\815_CowDataChecking\\20221229\\20221229_M_cow\\20221229_061532_21C6.mkv: 640x640 Done. (0.020s)\n",
      "video 1/1 (2676/3933) D:\\815_CowDataChecking\\20221229\\20221229_M_cow\\20221229_061532_21C6.mkv: 640x640 Done. (0.021s)\n",
      "video 1/1 (2677/3933) D:\\815_CowDataChecking\\20221229\\20221229_M_cow\\20221229_061532_21C6.mkv: 640x640 Done. (0.024s)\n",
      "video 1/1 (2678/3933) D:\\815_CowDataChecking\\20221229\\20221229_M_cow\\20221229_061532_21C6.mkv: 640x640 Done. (0.020s)\n",
      "video 1/1 (2679/3933) D:\\815_CowDataChecking\\20221229\\20221229_M_cow\\20221229_061532_21C6.mkv: 640x640 Done. (0.019s)\n",
      "video 1/1 (2680/3933) D:\\815_CowDataChecking\\20221229\\20221229_M_cow\\20221229_061532_21C6.mkv: 640x640 Done. (0.020s)\n",
      "video 1/1 (2681/3933) D:\\815_CowDataChecking\\20221229\\20221229_M_cow\\20221229_061532_21C6.mkv: 640x640 Done. (0.023s)\n",
      "video 1/1 (2682/3933) D:\\815_CowDataChecking\\20221229\\20221229_M_cow\\20221229_061532_21C6.mkv: 640x640 Done. (0.023s)\n",
      "video 1/1 (2683/3933) D:\\815_CowDataChecking\\20221229\\20221229_M_cow\\20221229_061532_21C6.mkv: 640x640 Done. (0.022s)\n",
      "video 1/1 (2684/3933) D:\\815_CowDataChecking\\20221229\\20221229_M_cow\\20221229_061532_21C6.mkv: 640x640 Done. (0.020s)\n",
      "video 1/1 (2685/3933) D:\\815_CowDataChecking\\20221229\\20221229_M_cow\\20221229_061532_21C6.mkv: 640x640 Done. (0.024s)\n",
      "video 1/1 (2686/3933) D:\\815_CowDataChecking\\20221229\\20221229_M_cow\\20221229_061532_21C6.mkv: 640x640 Done. (0.022s)\n",
      "video 1/1 (2687/3933) D:\\815_CowDataChecking\\20221229\\20221229_M_cow\\20221229_061532_21C6.mkv: 640x640 Done. (0.022s)\n",
      "video 1/1 (2688/3933) D:\\815_CowDataChecking\\20221229\\20221229_M_cow\\20221229_061532_21C6.mkv: 640x640 Done. (0.024s)\n",
      "video 1/1 (2689/3933) D:\\815_CowDataChecking\\20221229\\20221229_M_cow\\20221229_061532_21C6.mkv: 640x640 Done. (0.020s)\n",
      "video 1/1 (2690/3933) D:\\815_CowDataChecking\\20221229\\20221229_M_cow\\20221229_061532_21C6.mkv: 640x640 Done. (0.023s)\n",
      "video 1/1 (2691/3933) D:\\815_CowDataChecking\\20221229\\20221229_M_cow\\20221229_061532_21C6.mkv: 640x640 Done. (0.022s)\n",
      "video 1/1 (2692/3933) D:\\815_CowDataChecking\\20221229\\20221229_M_cow\\20221229_061532_21C6.mkv: 640x640 Done. (0.024s)\n",
      "video 1/1 (2693/3933) D:\\815_CowDataChecking\\20221229\\20221229_M_cow\\20221229_061532_21C6.mkv: 640x640 Done. (0.024s)\n",
      "video 1/1 (2694/3933) D:\\815_CowDataChecking\\20221229\\20221229_M_cow\\20221229_061532_21C6.mkv: 640x640 Done. (0.022s)\n",
      "video 1/1 (2695/3933) D:\\815_CowDataChecking\\20221229\\20221229_M_cow\\20221229_061532_21C6.mkv: 640x640 Done. (0.051s)\n",
      "video 1/1 (2696/3933) D:\\815_CowDataChecking\\20221229\\20221229_M_cow\\20221229_061532_21C6.mkv: 640x640 Done. (0.061s)\n",
      "video 1/1 (2697/3933) D:\\815_CowDataChecking\\20221229\\20221229_M_cow\\20221229_061532_21C6.mkv: 640x640 Done. (0.058s)\n",
      "video 1/1 (2698/3933) D:\\815_CowDataChecking\\20221229\\20221229_M_cow\\20221229_061532_21C6.mkv: 640x640 Done. (0.019s)\n",
      "video 1/1 (2699/3933) D:\\815_CowDataChecking\\20221229\\20221229_M_cow\\20221229_061532_21C6.mkv: 640x640 Done. (0.025s)\n",
      "video 1/1 (2700/3933) D:\\815_CowDataChecking\\20221229\\20221229_M_cow\\20221229_061532_21C6.mkv: 640x640 Done. (0.036s)\n",
      "video 1/1 (2701/3933) D:\\815_CowDataChecking\\20221229\\20221229_M_cow\\20221229_061532_21C6.mkv: 640x640 Done. (0.024s)\n",
      "video 1/1 (2702/3933) D:\\815_CowDataChecking\\20221229\\20221229_M_cow\\20221229_061532_21C6.mkv: 640x640 Done. (0.021s)\n",
      "video 1/1 (2703/3933) D:\\815_CowDataChecking\\20221229\\20221229_M_cow\\20221229_061532_21C6.mkv: 640x640 Done. (0.021s)\n",
      "video 1/1 (2704/3933) D:\\815_CowDataChecking\\20221229\\20221229_M_cow\\20221229_061532_21C6.mkv: 640x640 Done. (0.020s)\n",
      "video 1/1 (2705/3933) D:\\815_CowDataChecking\\20221229\\20221229_M_cow\\20221229_061532_21C6.mkv: 640x640 Done. (0.024s)\n",
      "video 1/1 (2706/3933) D:\\815_CowDataChecking\\20221229\\20221229_M_cow\\20221229_061532_21C6.mkv: 640x640 Done. (0.020s)\n",
      "video 1/1 (2707/3933) D:\\815_CowDataChecking\\20221229\\20221229_M_cow\\20221229_061532_21C6.mkv: 640x640 Done. (0.017s)\n",
      "video 1/1 (2708/3933) D:\\815_CowDataChecking\\20221229\\20221229_M_cow\\20221229_061532_21C6.mkv: 640x640 Done. (0.015s)\n",
      "video 1/1 (2709/3933) D:\\815_CowDataChecking\\20221229\\20221229_M_cow\\20221229_061532_21C6.mkv: 640x640 Done. (0.015s)\n",
      "video 1/1 (2710/3933) D:\\815_CowDataChecking\\20221229\\20221229_M_cow\\20221229_061532_21C6.mkv: 640x640 Done. (0.013s)\n",
      "video 1/1 (2711/3933) D:\\815_CowDataChecking\\20221229\\20221229_M_cow\\20221229_061532_21C6.mkv: 640x640 Done. (0.021s)\n",
      "video 1/1 (2712/3933) D:\\815_CowDataChecking\\20221229\\20221229_M_cow\\20221229_061532_21C6.mkv: 640x640 Done. (0.018s)\n",
      "video 1/1 (2713/3933) D:\\815_CowDataChecking\\20221229\\20221229_M_cow\\20221229_061532_21C6.mkv: 640x640 Done. (0.014s)\n",
      "video 1/1 (2714/3933) D:\\815_CowDataChecking\\20221229\\20221229_M_cow\\20221229_061532_21C6.mkv: 640x640 Done. (0.013s)\n",
      "video 1/1 (2715/3933) D:\\815_CowDataChecking\\20221229\\20221229_M_cow\\20221229_061532_21C6.mkv: 640x640 Done. (0.018s)\n",
      "video 1/1 (2716/3933) D:\\815_CowDataChecking\\20221229\\20221229_M_cow\\20221229_061532_21C6.mkv: 640x640 Done. (0.014s)\n",
      "video 1/1 (2717/3933) D:\\815_CowDataChecking\\20221229\\20221229_M_cow\\20221229_061532_21C6.mkv: 640x640 Done. (0.016s)\n",
      "video 1/1 (2718/3933) D:\\815_CowDataChecking\\20221229\\20221229_M_cow\\20221229_061532_21C6.mkv: 640x640 Done. (0.014s)\n",
      "video 1/1 (2719/3933) D:\\815_CowDataChecking\\20221229\\20221229_M_cow\\20221229_061532_21C6.mkv: 640x640 Done. (0.014s)\n",
      "video 1/1 (2720/3933) D:\\815_CowDataChecking\\20221229\\20221229_M_cow\\20221229_061532_21C6.mkv: 640x640 Done. (0.014s)\n",
      "video 1/1 (2721/3933) D:\\815_CowDataChecking\\20221229\\20221229_M_cow\\20221229_061532_21C6.mkv: 640x640 Done. (0.015s)\n",
      "video 1/1 (2722/3933) D:\\815_CowDataChecking\\20221229\\20221229_M_cow\\20221229_061532_21C6.mkv: 640x640 Done. (0.014s)\n",
      "video 1/1 (2723/3933) D:\\815_CowDataChecking\\20221229\\20221229_M_cow\\20221229_061532_21C6.mkv: 640x640 Done. (0.014s)\n",
      "video 1/1 (2724/3933) D:\\815_CowDataChecking\\20221229\\20221229_M_cow\\20221229_061532_21C6.mkv: 640x640 Done. (0.014s)\n",
      "video 1/1 (2725/3933) D:\\815_CowDataChecking\\20221229\\20221229_M_cow\\20221229_061532_21C6.mkv: 640x640 Done. (0.014s)\n",
      "video 1/1 (2726/3933) D:\\815_CowDataChecking\\20221229\\20221229_M_cow\\20221229_061532_21C6.mkv: 640x640 Done. (0.014s)\n",
      "video 1/1 (2727/3933) D:\\815_CowDataChecking\\20221229\\20221229_M_cow\\20221229_061532_21C6.mkv: 640x640 Done. (0.021s)\n",
      "video 1/1 (2728/3933) D:\\815_CowDataChecking\\20221229\\20221229_M_cow\\20221229_061532_21C6.mkv: 640x640 Done. (0.020s)\n",
      "video 1/1 (2729/3933) D:\\815_CowDataChecking\\20221229\\20221229_M_cow\\20221229_061532_21C6.mkv: 640x640 Done. (0.019s)\n",
      "video 1/1 (2730/3933) D:\\815_CowDataChecking\\20221229\\20221229_M_cow\\20221229_061532_21C6.mkv: 640x640 Done. (0.019s)\n",
      "video 1/1 (2731/3933) D:\\815_CowDataChecking\\20221229\\20221229_M_cow\\20221229_061532_21C6.mkv: 640x640 Done. (0.020s)\n",
      "video 1/1 (2732/3933) D:\\815_CowDataChecking\\20221229\\20221229_M_cow\\20221229_061532_21C6.mkv: 640x640 Done. (0.019s)\n",
      "video 1/1 (2733/3933) D:\\815_CowDataChecking\\20221229\\20221229_M_cow\\20221229_061532_21C6.mkv: 640x640 Done. (0.021s)\n",
      "video 1/1 (2734/3933) D:\\815_CowDataChecking\\20221229\\20221229_M_cow\\20221229_061532_21C6.mkv: 640x640 Done. (0.020s)\n",
      "video 1/1 (2735/3933) D:\\815_CowDataChecking\\20221229\\20221229_M_cow\\20221229_061532_21C6.mkv: 640x640 Done. (0.018s)\n",
      "video 1/1 (2736/3933) D:\\815_CowDataChecking\\20221229\\20221229_M_cow\\20221229_061532_21C6.mkv: 640x640 Done. (0.021s)\n",
      "video 1/1 (2737/3933) D:\\815_CowDataChecking\\20221229\\20221229_M_cow\\20221229_061532_21C6.mkv: 640x640 Done. (0.018s)\n",
      "video 1/1 (2738/3933) D:\\815_CowDataChecking\\20221229\\20221229_M_cow\\20221229_061532_21C6.mkv: 640x640 Done. (0.020s)\n",
      "video 1/1 (2739/3933) D:\\815_CowDataChecking\\20221229\\20221229_M_cow\\20221229_061532_21C6.mkv: 640x640 Done. (0.021s)\n",
      "video 1/1 (2740/3933) D:\\815_CowDataChecking\\20221229\\20221229_M_cow\\20221229_061532_21C6.mkv: 640x640 Done. (0.023s)\n",
      "video 1/1 (2741/3933) D:\\815_CowDataChecking\\20221229\\20221229_M_cow\\20221229_061532_21C6.mkv: 640x640 Done. (0.020s)\n",
      "video 1/1 (2742/3933) D:\\815_CowDataChecking\\20221229\\20221229_M_cow\\20221229_061532_21C6.mkv: 640x640 Done. (0.021s)\n",
      "video 1/1 (2743/3933) D:\\815_CowDataChecking\\20221229\\20221229_M_cow\\20221229_061532_21C6.mkv: 640x640 Done. (0.022s)\n",
      "video 1/1 (2744/3933) D:\\815_CowDataChecking\\20221229\\20221229_M_cow\\20221229_061532_21C6.mkv: 640x640 Done. (0.022s)\n",
      "video 1/1 (2745/3933) D:\\815_CowDataChecking\\20221229\\20221229_M_cow\\20221229_061532_21C6.mkv: 640x640 Done. (0.020s)\n",
      "video 1/1 (2746/3933) D:\\815_CowDataChecking\\20221229\\20221229_M_cow\\20221229_061532_21C6.mkv: 640x640 Done. (0.022s)\n",
      "video 1/1 (2747/3933) D:\\815_CowDataChecking\\20221229\\20221229_M_cow\\20221229_061532_21C6.mkv: 640x640 Done. (0.019s)\n",
      "video 1/1 (2748/3933) D:\\815_CowDataChecking\\20221229\\20221229_M_cow\\20221229_061532_21C6.mkv: 640x640 Done. (0.049s)\n",
      "video 1/1 (2749/3933) D:\\815_CowDataChecking\\20221229\\20221229_M_cow\\20221229_061532_21C6.mkv: 640x640 Done. (0.044s)\n",
      "video 1/1 (2750/3933) D:\\815_CowDataChecking\\20221229\\20221229_M_cow\\20221229_061532_21C6.mkv: 640x640 Done. (0.016s)\n",
      "video 1/1 (2751/3933) D:\\815_CowDataChecking\\20221229\\20221229_M_cow\\20221229_061532_21C6.mkv: 640x640 Done. (0.016s)\n",
      "video 1/1 (2752/3933) D:\\815_CowDataChecking\\20221229\\20221229_M_cow\\20221229_061532_21C6.mkv: 640x640 Done. (0.017s)\n",
      "video 1/1 (2753/3933) D:\\815_CowDataChecking\\20221229\\20221229_M_cow\\20221229_061532_21C6.mkv: 640x640 Done. (0.018s)\n",
      "video 1/1 (2754/3933) D:\\815_CowDataChecking\\20221229\\20221229_M_cow\\20221229_061532_21C6.mkv: 640x640 Done. (0.018s)\n",
      "video 1/1 (2755/3933) D:\\815_CowDataChecking\\20221229\\20221229_M_cow\\20221229_061532_21C6.mkv: 640x640 Done. (0.017s)\n",
      "video 1/1 (2756/3933) D:\\815_CowDataChecking\\20221229\\20221229_M_cow\\20221229_061532_21C6.mkv: 640x640 Done. (0.018s)\n",
      "video 1/1 (2757/3933) D:\\815_CowDataChecking\\20221229\\20221229_M_cow\\20221229_061532_21C6.mkv: 640x640 Done. (0.018s)\n",
      "video 1/1 (2758/3933) D:\\815_CowDataChecking\\20221229\\20221229_M_cow\\20221229_061532_21C6.mkv: 640x640 Done. (0.019s)\n",
      "video 1/1 (2759/3933) D:\\815_CowDataChecking\\20221229\\20221229_M_cow\\20221229_061532_21C6.mkv: 640x640 Done. (0.018s)\n",
      "video 1/1 (2760/3933) D:\\815_CowDataChecking\\20221229\\20221229_M_cow\\20221229_061532_21C6.mkv: 640x640 Done. (0.018s)\n",
      "video 1/1 (2761/3933) D:\\815_CowDataChecking\\20221229\\20221229_M_cow\\20221229_061532_21C6.mkv: 640x640 Done. (0.018s)\n",
      "video 1/1 (2762/3933) D:\\815_CowDataChecking\\20221229\\20221229_M_cow\\20221229_061532_21C6.mkv: 640x640 Done. (0.018s)\n",
      "video 1/1 (2763/3933) D:\\815_CowDataChecking\\20221229\\20221229_M_cow\\20221229_061532_21C6.mkv: 640x640 Done. (0.018s)\n",
      "video 1/1 (2764/3933) D:\\815_CowDataChecking\\20221229\\20221229_M_cow\\20221229_061532_21C6.mkv: 640x640 Done. (0.019s)\n",
      "video 1/1 (2765/3933) D:\\815_CowDataChecking\\20221229\\20221229_M_cow\\20221229_061532_21C6.mkv: 640x640 Done. (0.018s)\n",
      "video 1/1 (2766/3933) D:\\815_CowDataChecking\\20221229\\20221229_M_cow\\20221229_061532_21C6.mkv: 640x640 Done. (0.017s)\n",
      "video 1/1 (2767/3933) D:\\815_CowDataChecking\\20221229\\20221229_M_cow\\20221229_061532_21C6.mkv: 640x640 Done. (0.018s)\n",
      "video 1/1 (2768/3933) D:\\815_CowDataChecking\\20221229\\20221229_M_cow\\20221229_061532_21C6.mkv: 640x640 Done. (0.018s)\n",
      "video 1/1 (2769/3933) D:\\815_CowDataChecking\\20221229\\20221229_M_cow\\20221229_061532_21C6.mkv: 640x640 Done. (0.019s)\n",
      "video 1/1 (2770/3933) D:\\815_CowDataChecking\\20221229\\20221229_M_cow\\20221229_061532_21C6.mkv: 640x640 Done. (0.019s)\n",
      "video 1/1 (2771/3933) D:\\815_CowDataChecking\\20221229\\20221229_M_cow\\20221229_061532_21C6.mkv: 640x640 Done. (0.021s)\n",
      "video 1/1 (2772/3933) D:\\815_CowDataChecking\\20221229\\20221229_M_cow\\20221229_061532_21C6.mkv: 640x640 Done. (0.024s)\n",
      "video 1/1 (2773/3933) D:\\815_CowDataChecking\\20221229\\20221229_M_cow\\20221229_061532_21C6.mkv: 640x640 Done. (0.020s)\n",
      "video 1/1 (2774/3933) D:\\815_CowDataChecking\\20221229\\20221229_M_cow\\20221229_061532_21C6.mkv: 640x640 Done. (0.022s)\n",
      "video 1/1 (2775/3933) D:\\815_CowDataChecking\\20221229\\20221229_M_cow\\20221229_061532_21C6.mkv: 640x640 Done. (0.022s)\n",
      "video 1/1 (2776/3933) D:\\815_CowDataChecking\\20221229\\20221229_M_cow\\20221229_061532_21C6.mkv: 640x640 Done. (0.021s)\n",
      "video 1/1 (2777/3933) D:\\815_CowDataChecking\\20221229\\20221229_M_cow\\20221229_061532_21C6.mkv: 640x640 Done. (0.025s)\n",
      "video 1/1 (2778/3933) D:\\815_CowDataChecking\\20221229\\20221229_M_cow\\20221229_061532_21C6.mkv: 640x640 Done. (0.022s)\n",
      "video 1/1 (2779/3933) D:\\815_CowDataChecking\\20221229\\20221229_M_cow\\20221229_061532_21C6.mkv: 640x640 Done. (0.021s)\n",
      "video 1/1 (2780/3933) D:\\815_CowDataChecking\\20221229\\20221229_M_cow\\20221229_061532_21C6.mkv: 640x640 Done. (0.023s)\n",
      "video 1/1 (2781/3933) D:\\815_CowDataChecking\\20221229\\20221229_M_cow\\20221229_061532_21C6.mkv: 640x640 Done. (0.022s)\n",
      "video 1/1 (2782/3933) D:\\815_CowDataChecking\\20221229\\20221229_M_cow\\20221229_061532_21C6.mkv: 640x640 Done. (0.023s)\n",
      "video 1/1 (2783/3933) D:\\815_CowDataChecking\\20221229\\20221229_M_cow\\20221229_061532_21C6.mkv: 640x640 Done. (0.046s)\n",
      "video 1/1 (2784/3933) D:\\815_CowDataChecking\\20221229\\20221229_M_cow\\20221229_061532_21C6.mkv: 640x640 Done. (0.053s)\n",
      "video 1/1 (2785/3933) D:\\815_CowDataChecking\\20221229\\20221229_M_cow\\20221229_061532_21C6.mkv: 640x640 Done. (0.045s)\n",
      "video 1/1 (2786/3933) D:\\815_CowDataChecking\\20221229\\20221229_M_cow\\20221229_061532_21C6.mkv: 640x640 Done. (0.049s)\n",
      "video 1/1 (2787/3933) D:\\815_CowDataChecking\\20221229\\20221229_M_cow\\20221229_061532_21C6.mkv: 640x640 Done. (0.047s)\n",
      "video 1/1 (2788/3933) D:\\815_CowDataChecking\\20221229\\20221229_M_cow\\20221229_061532_21C6.mkv: 640x640 Done. (0.050s)\n",
      "video 1/1 (2789/3933) D:\\815_CowDataChecking\\20221229\\20221229_M_cow\\20221229_061532_21C6.mkv: 640x640 Done. (0.047s)\n",
      "video 1/1 (2790/3933) D:\\815_CowDataChecking\\20221229\\20221229_M_cow\\20221229_061532_21C6.mkv: 640x640 Done. (0.014s)\n",
      "video 1/1 (2791/3933) D:\\815_CowDataChecking\\20221229\\20221229_M_cow\\20221229_061532_21C6.mkv: 640x640 Done. (0.015s)\n",
      "video 1/1 (2792/3933) D:\\815_CowDataChecking\\20221229\\20221229_M_cow\\20221229_061532_21C6.mkv: 640x640 Done. (0.015s)\n",
      "video 1/1 (2793/3933) D:\\815_CowDataChecking\\20221229\\20221229_M_cow\\20221229_061532_21C6.mkv: 640x640 Done. (0.014s)\n",
      "video 1/1 (2794/3933) D:\\815_CowDataChecking\\20221229\\20221229_M_cow\\20221229_061532_21C6.mkv: 640x640 Done. (0.017s)\n",
      "video 1/1 (2795/3933) D:\\815_CowDataChecking\\20221229\\20221229_M_cow\\20221229_061532_21C6.mkv: 640x640 Done. (0.015s)\n",
      "video 1/1 (2796/3933) D:\\815_CowDataChecking\\20221229\\20221229_M_cow\\20221229_061532_21C6.mkv: 640x640 Done. (0.015s)\n",
      "video 1/1 (2797/3933) D:\\815_CowDataChecking\\20221229\\20221229_M_cow\\20221229_061532_21C6.mkv: 640x640 Done. (0.017s)\n",
      "video 1/1 (2798/3933) D:\\815_CowDataChecking\\20221229\\20221229_M_cow\\20221229_061532_21C6.mkv: 640x640 Done. (0.017s)\n",
      "video 1/1 (2799/3933) D:\\815_CowDataChecking\\20221229\\20221229_M_cow\\20221229_061532_21C6.mkv: 640x640 Done. (0.016s)\n",
      "video 1/1 (2800/3933) D:\\815_CowDataChecking\\20221229\\20221229_M_cow\\20221229_061532_21C6.mkv: 640x640 Done. (0.016s)\n",
      "video 1/1 (2801/3933) D:\\815_CowDataChecking\\20221229\\20221229_M_cow\\20221229_061532_21C6.mkv: 640x640 Done. (0.017s)\n",
      "video 1/1 (2802/3933) D:\\815_CowDataChecking\\20221229\\20221229_M_cow\\20221229_061532_21C6.mkv: 640x640 Done. (0.016s)\n",
      "video 1/1 (2803/3933) D:\\815_CowDataChecking\\20221229\\20221229_M_cow\\20221229_061532_21C6.mkv: 640x640 Done. (0.018s)\n",
      "video 1/1 (2804/3933) D:\\815_CowDataChecking\\20221229\\20221229_M_cow\\20221229_061532_21C6.mkv: 640x640 Done. (0.016s)\n",
      "video 1/1 (2805/3933) D:\\815_CowDataChecking\\20221229\\20221229_M_cow\\20221229_061532_21C6.mkv: 640x640 Done. (0.017s)\n",
      "video 1/1 (2806/3933) D:\\815_CowDataChecking\\20221229\\20221229_M_cow\\20221229_061532_21C6.mkv: 640x640 Done. (0.017s)\n",
      "video 1/1 (2807/3933) D:\\815_CowDataChecking\\20221229\\20221229_M_cow\\20221229_061532_21C6.mkv: 640x640 Done. (0.017s)\n",
      "video 1/1 (2808/3933) D:\\815_CowDataChecking\\20221229\\20221229_M_cow\\20221229_061532_21C6.mkv: 640x640 Done. (0.016s)\n",
      "video 1/1 (2809/3933) D:\\815_CowDataChecking\\20221229\\20221229_M_cow\\20221229_061532_21C6.mkv: 640x640 Done. (0.017s)\n",
      "video 1/1 (2810/3933) D:\\815_CowDataChecking\\20221229\\20221229_M_cow\\20221229_061532_21C6.mkv: 640x640 Done. (0.014s)\n",
      "video 1/1 (2811/3933) D:\\815_CowDataChecking\\20221229\\20221229_M_cow\\20221229_061532_21C6.mkv: 640x640 Done. (0.016s)\n",
      "video 1/1 (2812/3933) D:\\815_CowDataChecking\\20221229\\20221229_M_cow\\20221229_061532_21C6.mkv: 640x640 Done. (0.021s)\n",
      "video 1/1 (2813/3933) D:\\815_CowDataChecking\\20221229\\20221229_M_cow\\20221229_061532_21C6.mkv: 640x640 Done. (0.021s)\n",
      "video 1/1 (2814/3933) D:\\815_CowDataChecking\\20221229\\20221229_M_cow\\20221229_061532_21C6.mkv: 640x640 Done. (0.023s)\n",
      "video 1/1 (2815/3933) D:\\815_CowDataChecking\\20221229\\20221229_M_cow\\20221229_061532_21C6.mkv: 640x640 Done. (0.021s)\n",
      "video 1/1 (2816/3933) D:\\815_CowDataChecking\\20221229\\20221229_M_cow\\20221229_061532_21C6.mkv: 640x640 Done. (0.021s)\n",
      "video 1/1 (2817/3933) D:\\815_CowDataChecking\\20221229\\20221229_M_cow\\20221229_061532_21C6.mkv: 640x640 Done. (0.022s)\n",
      "video 1/1 (2818/3933) D:\\815_CowDataChecking\\20221229\\20221229_M_cow\\20221229_061532_21C6.mkv: 640x640 Done. (0.021s)\n",
      "video 1/1 (2819/3933) D:\\815_CowDataChecking\\20221229\\20221229_M_cow\\20221229_061532_21C6.mkv: 640x640 Done. (0.022s)\n",
      "video 1/1 (2820/3933) D:\\815_CowDataChecking\\20221229\\20221229_M_cow\\20221229_061532_21C6.mkv: 640x640 Done. (0.023s)\n",
      "video 1/1 (2821/3933) D:\\815_CowDataChecking\\20221229\\20221229_M_cow\\20221229_061532_21C6.mkv: 640x640 Done. (0.020s)\n",
      "video 1/1 (2822/3933) D:\\815_CowDataChecking\\20221229\\20221229_M_cow\\20221229_061532_21C6.mkv: 640x640 Done. (0.021s)\n",
      "video 1/1 (2823/3933) D:\\815_CowDataChecking\\20221229\\20221229_M_cow\\20221229_061532_21C6.mkv: 640x640 Done. (0.031s)\n",
      "video 1/1 (2824/3933) D:\\815_CowDataChecking\\20221229\\20221229_M_cow\\20221229_061532_21C6.mkv: 640x640 Done. (0.050s)\n",
      "video 1/1 (2825/3933) D:\\815_CowDataChecking\\20221229\\20221229_M_cow\\20221229_061532_21C6.mkv: 640x640 Done. (0.048s)\n",
      "video 1/1 (2826/3933) D:\\815_CowDataChecking\\20221229\\20221229_M_cow\\20221229_061532_21C6.mkv: 640x640 Done. (0.049s)\n",
      "video 1/1 (2827/3933) D:\\815_CowDataChecking\\20221229\\20221229_M_cow\\20221229_061532_21C6.mkv: 640x640 Done. (0.017s)\n",
      "video 1/1 (2828/3933) D:\\815_CowDataChecking\\20221229\\20221229_M_cow\\20221229_061532_21C6.mkv: 640x640 Done. (0.015s)\n",
      "video 1/1 (2829/3933) D:\\815_CowDataChecking\\20221229\\20221229_M_cow\\20221229_061532_21C6.mkv: 640x640 Done. (0.018s)\n",
      "video 1/1 (2830/3933) D:\\815_CowDataChecking\\20221229\\20221229_M_cow\\20221229_061532_21C6.mkv: 640x640 Done. (0.016s)\n",
      "video 1/1 (2831/3933) D:\\815_CowDataChecking\\20221229\\20221229_M_cow\\20221229_061532_21C6.mkv: 640x640 Done. (0.017s)\n",
      "video 1/1 (2832/3933) D:\\815_CowDataChecking\\20221229\\20221229_M_cow\\20221229_061532_21C6.mkv: 640x640 Done. (0.016s)\n",
      "video 1/1 (2833/3933) D:\\815_CowDataChecking\\20221229\\20221229_M_cow\\20221229_061532_21C6.mkv: 640x640 Done. (0.017s)\n",
      "video 1/1 (2834/3933) D:\\815_CowDataChecking\\20221229\\20221229_M_cow\\20221229_061532_21C6.mkv: 640x640 Done. (0.017s)\n",
      "video 1/1 (2835/3933) D:\\815_CowDataChecking\\20221229\\20221229_M_cow\\20221229_061532_21C6.mkv: 640x640 Done. (0.015s)\n",
      "video 1/1 (2836/3933) D:\\815_CowDataChecking\\20221229\\20221229_M_cow\\20221229_061532_21C6.mkv: 640x640 Done. (0.019s)\n",
      "video 1/1 (2837/3933) D:\\815_CowDataChecking\\20221229\\20221229_M_cow\\20221229_061532_21C6.mkv: 640x640 Done. (0.015s)\n",
      "video 1/1 (2838/3933) D:\\815_CowDataChecking\\20221229\\20221229_M_cow\\20221229_061532_21C6.mkv: 640x640 Done. (0.017s)\n",
      "video 1/1 (2839/3933) D:\\815_CowDataChecking\\20221229\\20221229_M_cow\\20221229_061532_21C6.mkv: 640x640 Done. (0.018s)\n",
      "video 1/1 (2840/3933) D:\\815_CowDataChecking\\20221229\\20221229_M_cow\\20221229_061532_21C6.mkv: 640x640 Done. (0.017s)\n",
      "video 1/1 (2841/3933) D:\\815_CowDataChecking\\20221229\\20221229_M_cow\\20221229_061532_21C6.mkv: 640x640 Done. (0.016s)\n",
      "video 1/1 (2842/3933) D:\\815_CowDataChecking\\20221229\\20221229_M_cow\\20221229_061532_21C6.mkv: 640x640 Done. (0.015s)\n",
      "video 1/1 (2843/3933) D:\\815_CowDataChecking\\20221229\\20221229_M_cow\\20221229_061532_21C6.mkv: 640x640 Done. (0.015s)\n",
      "video 1/1 (2844/3933) D:\\815_CowDataChecking\\20221229\\20221229_M_cow\\20221229_061532_21C6.mkv: 640x640 Done. (0.017s)\n",
      "video 1/1 (2845/3933) D:\\815_CowDataChecking\\20221229\\20221229_M_cow\\20221229_061532_21C6.mkv: 640x640 Done. (0.018s)\n",
      "video 1/1 (2846/3933) D:\\815_CowDataChecking\\20221229\\20221229_M_cow\\20221229_061532_21C6.mkv: 640x640 Done. (0.019s)\n",
      "video 1/1 (2847/3933) D:\\815_CowDataChecking\\20221229\\20221229_M_cow\\20221229_061532_21C6.mkv: 640x640 Done. (0.018s)\n",
      "video 1/1 (2848/3933) D:\\815_CowDataChecking\\20221229\\20221229_M_cow\\20221229_061532_21C6.mkv: 640x640 Done. (0.023s)\n",
      "video 1/1 (2849/3933) D:\\815_CowDataChecking\\20221229\\20221229_M_cow\\20221229_061532_21C6.mkv: 640x640 Done. (0.024s)\n",
      "video 1/1 (2850/3933) D:\\815_CowDataChecking\\20221229\\20221229_M_cow\\20221229_061532_21C6.mkv: 640x640 Done. (0.028s)\n",
      "video 1/1 (2851/3933) D:\\815_CowDataChecking\\20221229\\20221229_M_cow\\20221229_061532_21C6.mkv: 640x640 Done. (0.051s)\n",
      "video 1/1 (2852/3933) D:\\815_CowDataChecking\\20221229\\20221229_M_cow\\20221229_061532_21C6.mkv: 640x640 Done. (0.048s)\n",
      "video 1/1 (2853/3933) D:\\815_CowDataChecking\\20221229\\20221229_M_cow\\20221229_061532_21C6.mkv: 640x640 Done. (0.046s)\n",
      "video 1/1 (2854/3933) D:\\815_CowDataChecking\\20221229\\20221229_M_cow\\20221229_061532_21C6.mkv: 640x640 Done. (0.020s)\n",
      "video 1/1 (2855/3933) D:\\815_CowDataChecking\\20221229\\20221229_M_cow\\20221229_061532_21C6.mkv: 640x640 Done. (0.018s)\n",
      "video 1/1 (2856/3933) D:\\815_CowDataChecking\\20221229\\20221229_M_cow\\20221229_061532_21C6.mkv: 640x640 Done. (0.033s)\n",
      "video 1/1 (2857/3933) D:\\815_CowDataChecking\\20221229\\20221229_M_cow\\20221229_061532_21C6.mkv: 640x640 Done. (0.034s)\n",
      "video 1/1 (2858/3933) D:\\815_CowDataChecking\\20221229\\20221229_M_cow\\20221229_061532_21C6.mkv: 640x640 Done. (0.018s)\n",
      "video 1/1 (2859/3933) D:\\815_CowDataChecking\\20221229\\20221229_M_cow\\20221229_061532_21C6.mkv: 640x640 Done. (0.024s)\n",
      "video 1/1 (2860/3933) D:\\815_CowDataChecking\\20221229\\20221229_M_cow\\20221229_061532_21C6.mkv: 640x640 Done. (0.017s)\n",
      "video 1/1 (2861/3933) D:\\815_CowDataChecking\\20221229\\20221229_M_cow\\20221229_061532_21C6.mkv: 640x640 Done. (0.018s)\n",
      "video 1/1 (2862/3933) D:\\815_CowDataChecking\\20221229\\20221229_M_cow\\20221229_061532_21C6.mkv: 640x640 Done. (0.014s)\n",
      "video 1/1 (2863/3933) D:\\815_CowDataChecking\\20221229\\20221229_M_cow\\20221229_061532_21C6.mkv: 640x640 Done. (0.014s)\n",
      "video 1/1 (2864/3933) D:\\815_CowDataChecking\\20221229\\20221229_M_cow\\20221229_061532_21C6.mkv: 640x640 Done. (0.014s)\n",
      "video 1/1 (2865/3933) D:\\815_CowDataChecking\\20221229\\20221229_M_cow\\20221229_061532_21C6.mkv: 640x640 Done. (0.014s)\n",
      "video 1/1 (2866/3933) D:\\815_CowDataChecking\\20221229\\20221229_M_cow\\20221229_061532_21C6.mkv: 640x640 Done. (0.015s)\n",
      "video 1/1 (2867/3933) D:\\815_CowDataChecking\\20221229\\20221229_M_cow\\20221229_061532_21C6.mkv: 640x640 Done. (0.014s)\n",
      "video 1/1 (2868/3933) D:\\815_CowDataChecking\\20221229\\20221229_M_cow\\20221229_061532_21C6.mkv: 640x640 Done. (0.017s)\n",
      "video 1/1 (2869/3933) D:\\815_CowDataChecking\\20221229\\20221229_M_cow\\20221229_061532_21C6.mkv: 640x640 Done. (0.014s)\n",
      "video 1/1 (2870/3933) D:\\815_CowDataChecking\\20221229\\20221229_M_cow\\20221229_061532_21C6.mkv: 640x640 Done. (0.014s)\n",
      "video 1/1 (2871/3933) D:\\815_CowDataChecking\\20221229\\20221229_M_cow\\20221229_061532_21C6.mkv: 640x640 Done. (0.017s)\n",
      "video 1/1 (2872/3933) D:\\815_CowDataChecking\\20221229\\20221229_M_cow\\20221229_061532_21C6.mkv: 640x640 Done. (0.014s)\n",
      "video 1/1 (2873/3933) D:\\815_CowDataChecking\\20221229\\20221229_M_cow\\20221229_061532_21C6.mkv: 640x640 Done. (0.013s)\n",
      "video 1/1 (2874/3933) D:\\815_CowDataChecking\\20221229\\20221229_M_cow\\20221229_061532_21C6.mkv: 640x640 Done. (0.013s)\n",
      "video 1/1 (2875/3933) D:\\815_CowDataChecking\\20221229\\20221229_M_cow\\20221229_061532_21C6.mkv: 640x640 Done. (0.014s)\n",
      "video 1/1 (2876/3933) D:\\815_CowDataChecking\\20221229\\20221229_M_cow\\20221229_061532_21C6.mkv: 640x640 Done. (0.013s)\n",
      "video 1/1 (2877/3933) D:\\815_CowDataChecking\\20221229\\20221229_M_cow\\20221229_061532_21C6.mkv: 640x640 Done. (0.014s)\n",
      "video 1/1 (2878/3933) D:\\815_CowDataChecking\\20221229\\20221229_M_cow\\20221229_061532_21C6.mkv: 640x640 Done. (0.015s)\n",
      "video 1/1 (2879/3933) D:\\815_CowDataChecking\\20221229\\20221229_M_cow\\20221229_061532_21C6.mkv: 640x640 Done. (0.014s)\n",
      "video 1/1 (2880/3933) D:\\815_CowDataChecking\\20221229\\20221229_M_cow\\20221229_061532_21C6.mkv: 640x640 Done. (0.013s)\n",
      "video 1/1 (2881/3933) D:\\815_CowDataChecking\\20221229\\20221229_M_cow\\20221229_061532_21C6.mkv: 640x640 Done. (0.024s)\n",
      "video 1/1 (2882/3933) D:\\815_CowDataChecking\\20221229\\20221229_M_cow\\20221229_061532_21C6.mkv: 640x640 Done. (0.014s)\n",
      "video 1/1 (2883/3933) D:\\815_CowDataChecking\\20221229\\20221229_M_cow\\20221229_061532_21C6.mkv: 640x640 Done. (0.015s)\n",
      "video 1/1 (2884/3933) D:\\815_CowDataChecking\\20221229\\20221229_M_cow\\20221229_061532_21C6.mkv: 640x640 Done. (0.015s)\n",
      "video 1/1 (2885/3933) D:\\815_CowDataChecking\\20221229\\20221229_M_cow\\20221229_061532_21C6.mkv: 640x640 Done. (0.015s)\n",
      "video 1/1 (2886/3933) D:\\815_CowDataChecking\\20221229\\20221229_M_cow\\20221229_061532_21C6.mkv: 640x640 Done. (0.018s)\n",
      "video 1/1 (2887/3933) D:\\815_CowDataChecking\\20221229\\20221229_M_cow\\20221229_061532_21C6.mkv: 640x640 Done. (0.019s)\n",
      "video 1/1 (2888/3933) D:\\815_CowDataChecking\\20221229\\20221229_M_cow\\20221229_061532_21C6.mkv: 640x640 Done. (0.017s)\n",
      "video 1/1 (2889/3933) D:\\815_CowDataChecking\\20221229\\20221229_M_cow\\20221229_061532_21C6.mkv: 640x640 Done. (0.019s)\n",
      "video 1/1 (2890/3933) D:\\815_CowDataChecking\\20221229\\20221229_M_cow\\20221229_061532_21C6.mkv: 640x640 Done. (0.017s)\n",
      "video 1/1 (2891/3933) D:\\815_CowDataChecking\\20221229\\20221229_M_cow\\20221229_061532_21C6.mkv: 640x640 Done. (0.017s)\n",
      "video 1/1 (2892/3933) D:\\815_CowDataChecking\\20221229\\20221229_M_cow\\20221229_061532_21C6.mkv: 640x640 Done. (0.017s)\n",
      "video 1/1 (2893/3933) D:\\815_CowDataChecking\\20221229\\20221229_M_cow\\20221229_061532_21C6.mkv: 640x640 Done. (0.022s)\n",
      "video 1/1 (2894/3933) D:\\815_CowDataChecking\\20221229\\20221229_M_cow\\20221229_061532_21C6.mkv: 640x640 Done. (0.020s)\n",
      "video 1/1 (2895/3933) D:\\815_CowDataChecking\\20221229\\20221229_M_cow\\20221229_061532_21C6.mkv: 640x640 Done. (0.017s)\n",
      "video 1/1 (2896/3933) D:\\815_CowDataChecking\\20221229\\20221229_M_cow\\20221229_061532_21C6.mkv: 640x640 Done. (0.021s)\n",
      "video 1/1 (2897/3933) D:\\815_CowDataChecking\\20221229\\20221229_M_cow\\20221229_061532_21C6.mkv: 640x640 Done. (0.022s)\n",
      "video 1/1 (2898/3933) D:\\815_CowDataChecking\\20221229\\20221229_M_cow\\20221229_061532_21C6.mkv: 640x640 Done. (0.020s)\n",
      "video 1/1 (2899/3933) D:\\815_CowDataChecking\\20221229\\20221229_M_cow\\20221229_061532_21C6.mkv: 640x640 Done. (0.018s)\n",
      "video 1/1 (2900/3933) D:\\815_CowDataChecking\\20221229\\20221229_M_cow\\20221229_061532_21C6.mkv: 640x640 Done. (0.020s)\n",
      "video 1/1 (2901/3933) D:\\815_CowDataChecking\\20221229\\20221229_M_cow\\20221229_061532_21C6.mkv: 640x640 Done. (0.021s)\n",
      "video 1/1 (2902/3933) D:\\815_CowDataChecking\\20221229\\20221229_M_cow\\20221229_061532_21C6.mkv: 640x640 Done. (0.019s)\n",
      "video 1/1 (2903/3933) D:\\815_CowDataChecking\\20221229\\20221229_M_cow\\20221229_061532_21C6.mkv: 640x640 Done. (0.018s)\n",
      "video 1/1 (2904/3933) D:\\815_CowDataChecking\\20221229\\20221229_M_cow\\20221229_061532_21C6.mkv: 640x640 Done. (0.021s)\n",
      "video 1/1 (2905/3933) D:\\815_CowDataChecking\\20221229\\20221229_M_cow\\20221229_061532_21C6.mkv: 640x640 Done. (0.021s)\n",
      "video 1/1 (2906/3933) D:\\815_CowDataChecking\\20221229\\20221229_M_cow\\20221229_061532_21C6.mkv: 640x640 Done. (0.023s)\n",
      "video 1/1 (2907/3933) D:\\815_CowDataChecking\\20221229\\20221229_M_cow\\20221229_061532_21C6.mkv: 640x640 Done. (0.022s)\n",
      "video 1/1 (2908/3933) D:\\815_CowDataChecking\\20221229\\20221229_M_cow\\20221229_061532_21C6.mkv: 640x640 Done. (0.020s)\n",
      "video 1/1 (2909/3933) D:\\815_CowDataChecking\\20221229\\20221229_M_cow\\20221229_061532_21C6.mkv: 640x640 Done. (0.020s)\n",
      "video 1/1 (2910/3933) D:\\815_CowDataChecking\\20221229\\20221229_M_cow\\20221229_061532_21C6.mkv: 640x640 Done. (0.022s)\n",
      "video 1/1 (2911/3933) D:\\815_CowDataChecking\\20221229\\20221229_M_cow\\20221229_061532_21C6.mkv: 640x640 Done. (0.022s)\n",
      "video 1/1 (2912/3933) D:\\815_CowDataChecking\\20221229\\20221229_M_cow\\20221229_061532_21C6.mkv: 640x640 Done. (0.047s)\n",
      "video 1/1 (2913/3933) D:\\815_CowDataChecking\\20221229\\20221229_M_cow\\20221229_061532_21C6.mkv: 640x640 Done. (0.043s)\n",
      "video 1/1 (2914/3933) D:\\815_CowDataChecking\\20221229\\20221229_M_cow\\20221229_061532_21C6.mkv: 640x640 Done. (0.043s)\n",
      "video 1/1 (2915/3933) D:\\815_CowDataChecking\\20221229\\20221229_M_cow\\20221229_061532_21C6.mkv: 640x640 Done. (0.048s)\n",
      "video 1/1 (2916/3933) D:\\815_CowDataChecking\\20221229\\20221229_M_cow\\20221229_061532_21C6.mkv: 640x640 Done. (0.050s)\n",
      "video 1/1 (2917/3933) D:\\815_CowDataChecking\\20221229\\20221229_M_cow\\20221229_061532_21C6.mkv: 640x640 Done. (0.018s)\n",
      "video 1/1 (2918/3933) D:\\815_CowDataChecking\\20221229\\20221229_M_cow\\20221229_061532_21C6.mkv: 640x640 Done. (0.018s)\n",
      "video 1/1 (2919/3933) D:\\815_CowDataChecking\\20221229\\20221229_M_cow\\20221229_061532_21C6.mkv: 640x640 Done. (0.018s)\n",
      "video 1/1 (2920/3933) D:\\815_CowDataChecking\\20221229\\20221229_M_cow\\20221229_061532_21C6.mkv: 640x640 Done. (0.017s)\n",
      "video 1/1 (2921/3933) D:\\815_CowDataChecking\\20221229\\20221229_M_cow\\20221229_061532_21C6.mkv: 640x640 Done. (0.019s)\n",
      "video 1/1 (2922/3933) D:\\815_CowDataChecking\\20221229\\20221229_M_cow\\20221229_061532_21C6.mkv: 640x640 Done. (0.019s)\n",
      "video 1/1 (2923/3933) D:\\815_CowDataChecking\\20221229\\20221229_M_cow\\20221229_061532_21C6.mkv: 640x640 Done. (0.016s)\n",
      "video 1/1 (2924/3933) D:\\815_CowDataChecking\\20221229\\20221229_M_cow\\20221229_061532_21C6.mkv: 640x640 Done. (0.018s)\n",
      "video 1/1 (2925/3933) D:\\815_CowDataChecking\\20221229\\20221229_M_cow\\20221229_061532_21C6.mkv: 640x640 Done. (0.018s)\n",
      "video 1/1 (2926/3933) D:\\815_CowDataChecking\\20221229\\20221229_M_cow\\20221229_061532_21C6.mkv: 640x640 Done. (0.019s)\n",
      "video 1/1 (2927/3933) D:\\815_CowDataChecking\\20221229\\20221229_M_cow\\20221229_061532_21C6.mkv: 640x640 Done. (0.018s)\n",
      "video 1/1 (2928/3933) D:\\815_CowDataChecking\\20221229\\20221229_M_cow\\20221229_061532_21C6.mkv: 640x640 Done. (0.017s)\n",
      "video 1/1 (2929/3933) D:\\815_CowDataChecking\\20221229\\20221229_M_cow\\20221229_061532_21C6.mkv: 640x640 Done. (0.019s)\n",
      "video 1/1 (2930/3933) D:\\815_CowDataChecking\\20221229\\20221229_M_cow\\20221229_061532_21C6.mkv: 640x640 Done. (0.020s)\n",
      "video 1/1 (2931/3933) D:\\815_CowDataChecking\\20221229\\20221229_M_cow\\20221229_061532_21C6.mkv: 640x640 Done. (0.020s)\n",
      "video 1/1 (2932/3933) D:\\815_CowDataChecking\\20221229\\20221229_M_cow\\20221229_061532_21C6.mkv: 640x640 Done. (0.019s)\n",
      "video 1/1 (2933/3933) D:\\815_CowDataChecking\\20221229\\20221229_M_cow\\20221229_061532_21C6.mkv: 640x640 Done. (0.018s)\n",
      "video 1/1 (2934/3933) D:\\815_CowDataChecking\\20221229\\20221229_M_cow\\20221229_061532_21C6.mkv: 640x640 Done. (0.020s)\n",
      "video 1/1 (2935/3933) D:\\815_CowDataChecking\\20221229\\20221229_M_cow\\20221229_061532_21C6.mkv: 640x640 Done. (0.019s)\n",
      "video 1/1 (2936/3933) D:\\815_CowDataChecking\\20221229\\20221229_M_cow\\20221229_061532_21C6.mkv: 640x640 Done. (0.020s)\n",
      "video 1/1 (2937/3933) D:\\815_CowDataChecking\\20221229\\20221229_M_cow\\20221229_061532_21C6.mkv: 640x640 Done. (0.019s)\n",
      "video 1/1 (2938/3933) D:\\815_CowDataChecking\\20221229\\20221229_M_cow\\20221229_061532_21C6.mkv: 640x640 Done. (0.044s)\n",
      "video 1/1 (2939/3933) D:\\815_CowDataChecking\\20221229\\20221229_M_cow\\20221229_061532_21C6.mkv: 640x640 Done. (0.062s)\n",
      "video 1/1 (2940/3933) D:\\815_CowDataChecking\\20221229\\20221229_M_cow\\20221229_061532_21C6.mkv: 640x640 Done. (0.036s)\n",
      "video 1/1 (2941/3933) D:\\815_CowDataChecking\\20221229\\20221229_M_cow\\20221229_061532_21C6.mkv: 640x640 Done. (0.029s)\n",
      "video 1/1 (2942/3933) D:\\815_CowDataChecking\\20221229\\20221229_M_cow\\20221229_061532_21C6.mkv: 640x640 Done. (0.022s)\n",
      "video 1/1 (2943/3933) D:\\815_CowDataChecking\\20221229\\20221229_M_cow\\20221229_061532_21C6.mkv: 640x640 Done. (0.020s)\n",
      "video 1/1 (2944/3933) D:\\815_CowDataChecking\\20221229\\20221229_M_cow\\20221229_061532_21C6.mkv: 640x640 Done. (0.022s)\n",
      "video 1/1 (2945/3933) D:\\815_CowDataChecking\\20221229\\20221229_M_cow\\20221229_061532_21C6.mkv: 640x640 Done. (0.021s)\n",
      "video 1/1 (2946/3933) D:\\815_CowDataChecking\\20221229\\20221229_M_cow\\20221229_061532_21C6.mkv: 640x640 Done. (0.018s)\n",
      "video 1/1 (2947/3933) D:\\815_CowDataChecking\\20221229\\20221229_M_cow\\20221229_061532_21C6.mkv: 640x640 Done. (0.016s)\n",
      "video 1/1 (2948/3933) D:\\815_CowDataChecking\\20221229\\20221229_M_cow\\20221229_061532_21C6.mkv: 640x640 Done. (0.016s)\n",
      "video 1/1 (2949/3933) D:\\815_CowDataChecking\\20221229\\20221229_M_cow\\20221229_061532_21C6.mkv: 640x640 Done. (0.018s)\n",
      "video 1/1 (2950/3933) D:\\815_CowDataChecking\\20221229\\20221229_M_cow\\20221229_061532_21C6.mkv: 640x640 Done. (0.014s)\n",
      "video 1/1 (2951/3933) D:\\815_CowDataChecking\\20221229\\20221229_M_cow\\20221229_061532_21C6.mkv: 640x640 Done. (0.015s)\n",
      "video 1/1 (2952/3933) D:\\815_CowDataChecking\\20221229\\20221229_M_cow\\20221229_061532_21C6.mkv: 640x640 Done. (0.015s)\n",
      "video 1/1 (2953/3933) D:\\815_CowDataChecking\\20221229\\20221229_M_cow\\20221229_061532_21C6.mkv: 640x640 Done. (0.013s)\n",
      "video 1/1 (2954/3933) D:\\815_CowDataChecking\\20221229\\20221229_M_cow\\20221229_061532_21C6.mkv: 640x640 Done. (0.013s)\n",
      "video 1/1 (2955/3933) D:\\815_CowDataChecking\\20221229\\20221229_M_cow\\20221229_061532_21C6.mkv: 640x640 Done. (0.018s)\n",
      "video 1/1 (2956/3933) D:\\815_CowDataChecking\\20221229\\20221229_M_cow\\20221229_061532_21C6.mkv: 640x640 Done. (0.014s)\n",
      "video 1/1 (2957/3933) D:\\815_CowDataChecking\\20221229\\20221229_M_cow\\20221229_061532_21C6.mkv: 640x640 Done. (0.014s)\n",
      "video 1/1 (2958/3933) D:\\815_CowDataChecking\\20221229\\20221229_M_cow\\20221229_061532_21C6.mkv: 640x640 Done. (0.016s)\n",
      "video 1/1 (2959/3933) D:\\815_CowDataChecking\\20221229\\20221229_M_cow\\20221229_061532_21C6.mkv: 640x640 Done. (0.016s)\n",
      "video 1/1 (2960/3933) D:\\815_CowDataChecking\\20221229\\20221229_M_cow\\20221229_061532_21C6.mkv: 640x640 Done. (0.013s)\n",
      "video 1/1 (2961/3933) D:\\815_CowDataChecking\\20221229\\20221229_M_cow\\20221229_061532_21C6.mkv: 640x640 Done. (0.014s)\n",
      "video 1/1 (2962/3933) D:\\815_CowDataChecking\\20221229\\20221229_M_cow\\20221229_061532_21C6.mkv: 640x640 Done. (0.014s)\n",
      "video 1/1 (2963/3933) D:\\815_CowDataChecking\\20221229\\20221229_M_cow\\20221229_061532_21C6.mkv: 640x640 Done. (0.020s)\n",
      "video 1/1 (2964/3933) D:\\815_CowDataChecking\\20221229\\20221229_M_cow\\20221229_061532_21C6.mkv: 640x640 Done. (0.018s)\n",
      "video 1/1 (2965/3933) D:\\815_CowDataChecking\\20221229\\20221229_M_cow\\20221229_061532_21C6.mkv: 640x640 Done. (0.019s)\n",
      "video 1/1 (2966/3933) D:\\815_CowDataChecking\\20221229\\20221229_M_cow\\20221229_061532_21C6.mkv: 640x640 Done. (0.021s)\n",
      "video 1/1 (2967/3933) D:\\815_CowDataChecking\\20221229\\20221229_M_cow\\20221229_061532_21C6.mkv: 640x640 Done. (0.018s)\n",
      "video 1/1 (2968/3933) D:\\815_CowDataChecking\\20221229\\20221229_M_cow\\20221229_061532_21C6.mkv: 640x640 Done. (0.018s)\n",
      "video 1/1 (2969/3933) D:\\815_CowDataChecking\\20221229\\20221229_M_cow\\20221229_061532_21C6.mkv: 640x640 Done. (0.020s)\n",
      "video 1/1 (2970/3933) D:\\815_CowDataChecking\\20221229\\20221229_M_cow\\20221229_061532_21C6.mkv: 640x640 Done. (0.017s)\n",
      "video 1/1 (2971/3933) D:\\815_CowDataChecking\\20221229\\20221229_M_cow\\20221229_061532_21C6.mkv: 640x640 Done. (0.020s)\n",
      "video 1/1 (2972/3933) D:\\815_CowDataChecking\\20221229\\20221229_M_cow\\20221229_061532_21C6.mkv: 640x640 Done. (0.020s)\n",
      "video 1/1 (2973/3933) D:\\815_CowDataChecking\\20221229\\20221229_M_cow\\20221229_061532_21C6.mkv: 640x640 Done. (0.020s)\n",
      "video 1/1 (2974/3933) D:\\815_CowDataChecking\\20221229\\20221229_M_cow\\20221229_061532_21C6.mkv: 640x640 Done. (0.019s)\n",
      "video 1/1 (2975/3933) D:\\815_CowDataChecking\\20221229\\20221229_M_cow\\20221229_061532_21C6.mkv: 640x640 Done. (0.020s)\n",
      "video 1/1 (2976/3933) D:\\815_CowDataChecking\\20221229\\20221229_M_cow\\20221229_061532_21C6.mkv: 640x640 Done. (0.022s)\n",
      "video 1/1 (2977/3933) D:\\815_CowDataChecking\\20221229\\20221229_M_cow\\20221229_061532_21C6.mkv: 640x640 Done. (0.024s)\n",
      "video 1/1 (2978/3933) D:\\815_CowDataChecking\\20221229\\20221229_M_cow\\20221229_061532_21C6.mkv: 640x640 Done. (0.020s)\n",
      "video 1/1 (2979/3933) D:\\815_CowDataChecking\\20221229\\20221229_M_cow\\20221229_061532_21C6.mkv: 640x640 Done. (0.020s)\n",
      "video 1/1 (2980/3933) D:\\815_CowDataChecking\\20221229\\20221229_M_cow\\20221229_061532_21C6.mkv: 640x640 Done. (0.024s)\n",
      "video 1/1 (2981/3933) D:\\815_CowDataChecking\\20221229\\20221229_M_cow\\20221229_061532_21C6.mkv: 640x640 Done. (0.022s)\n",
      "video 1/1 (2982/3933) D:\\815_CowDataChecking\\20221229\\20221229_M_cow\\20221229_061532_21C6.mkv: 640x640 Done. (0.022s)\n",
      "video 1/1 (2983/3933) D:\\815_CowDataChecking\\20221229\\20221229_M_cow\\20221229_061532_21C6.mkv: 640x640 Done. (0.024s)\n",
      "video 1/1 (2984/3933) D:\\815_CowDataChecking\\20221229\\20221229_M_cow\\20221229_061532_21C6.mkv: 640x640 Done. (0.023s)\n",
      "video 1/1 (2985/3933) D:\\815_CowDataChecking\\20221229\\20221229_M_cow\\20221229_061532_21C6.mkv: 640x640 Done. (0.024s)\n",
      "video 1/1 (2986/3933) D:\\815_CowDataChecking\\20221229\\20221229_M_cow\\20221229_061532_21C6.mkv: 640x640 Done. (0.025s)\n",
      "video 1/1 (2987/3933) D:\\815_CowDataChecking\\20221229\\20221229_M_cow\\20221229_061532_21C6.mkv: 640x640 Done. (0.023s)\n",
      "video 1/1 (2988/3933) D:\\815_CowDataChecking\\20221229\\20221229_M_cow\\20221229_061532_21C6.mkv: 640x640 Done. (0.024s)\n",
      "video 1/1 (2989/3933) D:\\815_CowDataChecking\\20221229\\20221229_M_cow\\20221229_061532_21C6.mkv: 640x640 Done. (0.022s)\n",
      "video 1/1 (2990/3933) D:\\815_CowDataChecking\\20221229\\20221229_M_cow\\20221229_061532_21C6.mkv: 640x640 Done. (0.022s)\n",
      "video 1/1 (2991/3933) D:\\815_CowDataChecking\\20221229\\20221229_M_cow\\20221229_061532_21C6.mkv: 640x640 Done. (0.023s)\n",
      "video 1/1 (2992/3933) D:\\815_CowDataChecking\\20221229\\20221229_M_cow\\20221229_061532_21C6.mkv: 640x640 Done. (0.022s)\n",
      "video 1/1 (2993/3933) D:\\815_CowDataChecking\\20221229\\20221229_M_cow\\20221229_061532_21C6.mkv: 640x640 Done. (0.026s)\n",
      "video 1/1 (2994/3933) D:\\815_CowDataChecking\\20221229\\20221229_M_cow\\20221229_061532_21C6.mkv: 640x640 Done. (0.022s)\n",
      "video 1/1 (2995/3933) D:\\815_CowDataChecking\\20221229\\20221229_M_cow\\20221229_061532_21C6.mkv: 640x640 Done. (0.026s)\n",
      "video 1/1 (2996/3933) D:\\815_CowDataChecking\\20221229\\20221229_M_cow\\20221229_061532_21C6.mkv: 640x640 Done. (0.022s)\n",
      "video 1/1 (2997/3933) D:\\815_CowDataChecking\\20221229\\20221229_M_cow\\20221229_061532_21C6.mkv: 640x640 Done. (0.034s)\n",
      "video 1/1 (2998/3933) D:\\815_CowDataChecking\\20221229\\20221229_M_cow\\20221229_061532_21C6.mkv: 640x640 Done. (0.049s)\n",
      "video 1/1 (2999/3933) D:\\815_CowDataChecking\\20221229\\20221229_M_cow\\20221229_061532_21C6.mkv: 640x640 Done. (0.044s)\n",
      "video 1/1 (3000/3933) D:\\815_CowDataChecking\\20221229\\20221229_M_cow\\20221229_061532_21C6.mkv: 640x640 Done. (0.050s)\n",
      "video 1/1 (3001/3933) D:\\815_CowDataChecking\\20221229\\20221229_M_cow\\20221229_061532_21C6.mkv: 640x640 Done. (0.016s)\n",
      "video 1/1 (3002/3933) D:\\815_CowDataChecking\\20221229\\20221229_M_cow\\20221229_061532_21C6.mkv: 640x640 Done. (0.016s)\n",
      "video 1/1 (3003/3933) D:\\815_CowDataChecking\\20221229\\20221229_M_cow\\20221229_061532_21C6.mkv: 640x640 Done. (0.015s)\n",
      "video 1/1 (3004/3933) D:\\815_CowDataChecking\\20221229\\20221229_M_cow\\20221229_061532_21C6.mkv: 640x640 Done. (0.016s)\n",
      "video 1/1 (3005/3933) D:\\815_CowDataChecking\\20221229\\20221229_M_cow\\20221229_061532_21C6.mkv: 640x640 Done. (0.018s)\n",
      "video 1/1 (3006/3933) D:\\815_CowDataChecking\\20221229\\20221229_M_cow\\20221229_061532_21C6.mkv: 640x640 Done. (0.015s)\n",
      "video 1/1 (3007/3933) D:\\815_CowDataChecking\\20221229\\20221229_M_cow\\20221229_061532_21C6.mkv: 640x640 Done. (0.014s)\n",
      "video 1/1 (3008/3933) D:\\815_CowDataChecking\\20221229\\20221229_M_cow\\20221229_061532_21C6.mkv: 640x640 Done. (0.016s)\n",
      "video 1/1 (3009/3933) D:\\815_CowDataChecking\\20221229\\20221229_M_cow\\20221229_061532_21C6.mkv: 640x640 Done. (0.017s)\n",
      "video 1/1 (3010/3933) D:\\815_CowDataChecking\\20221229\\20221229_M_cow\\20221229_061532_21C6.mkv: 640x640 Done. (0.016s)\n",
      "video 1/1 (3011/3933) D:\\815_CowDataChecking\\20221229\\20221229_M_cow\\20221229_061532_21C6.mkv: 640x640 Done. (0.015s)\n",
      "video 1/1 (3012/3933) D:\\815_CowDataChecking\\20221229\\20221229_M_cow\\20221229_061532_21C6.mkv: 640x640 Done. (0.016s)\n",
      "video 1/1 (3013/3933) D:\\815_CowDataChecking\\20221229\\20221229_M_cow\\20221229_061532_21C6.mkv: 640x640 Done. (0.017s)\n",
      "video 1/1 (3014/3933) D:\\815_CowDataChecking\\20221229\\20221229_M_cow\\20221229_061532_21C6.mkv: 640x640 Done. (0.016s)\n",
      "video 1/1 (3015/3933) D:\\815_CowDataChecking\\20221229\\20221229_M_cow\\20221229_061532_21C6.mkv: 640x640 Done. (0.016s)\n",
      "video 1/1 (3016/3933) D:\\815_CowDataChecking\\20221229\\20221229_M_cow\\20221229_061532_21C6.mkv: 640x640 Done. (0.016s)\n",
      "video 1/1 (3017/3933) D:\\815_CowDataChecking\\20221229\\20221229_M_cow\\20221229_061532_21C6.mkv: 640x640 Done. (0.018s)\n",
      "video 1/1 (3018/3933) D:\\815_CowDataChecking\\20221229\\20221229_M_cow\\20221229_061532_21C6.mkv: 640x640 Done. (0.019s)\n",
      "video 1/1 (3019/3933) D:\\815_CowDataChecking\\20221229\\20221229_M_cow\\20221229_061532_21C6.mkv: 640x640 Done. (0.017s)\n",
      "video 1/1 (3020/3933) D:\\815_CowDataChecking\\20221229\\20221229_M_cow\\20221229_061532_21C6.mkv: 640x640 Done. (0.017s)\n",
      "video 1/1 (3021/3933) D:\\815_CowDataChecking\\20221229\\20221229_M_cow\\20221229_061532_21C6.mkv: 640x640 Done. (0.015s)\n",
      "video 1/1 (3022/3933) D:\\815_CowDataChecking\\20221229\\20221229_M_cow\\20221229_061532_21C6.mkv: 640x640 Done. (0.048s)\n",
      "video 1/1 (3023/3933) D:\\815_CowDataChecking\\20221229\\20221229_M_cow\\20221229_061532_21C6.mkv: 640x640 Done. (0.038s)\n",
      "video 1/1 (3024/3933) D:\\815_CowDataChecking\\20221229\\20221229_M_cow\\20221229_061532_21C6.mkv: 640x640 Done. (0.034s)\n",
      "video 1/1 (3025/3933) D:\\815_CowDataChecking\\20221229\\20221229_M_cow\\20221229_061532_21C6.mkv: 640x640 Done. (0.026s)\n",
      "video 1/1 (3026/3933) D:\\815_CowDataChecking\\20221229\\20221229_M_cow\\20221229_061532_21C6.mkv: 640x640 Done. (0.021s)\n",
      "video 1/1 (3027/3933) D:\\815_CowDataChecking\\20221229\\20221229_M_cow\\20221229_061532_21C6.mkv: 640x640 Done. (0.019s)\n",
      "video 1/1 (3028/3933) D:\\815_CowDataChecking\\20221229\\20221229_M_cow\\20221229_061532_21C6.mkv: 640x640 Done. (0.019s)\n",
      "video 1/1 (3029/3933) D:\\815_CowDataChecking\\20221229\\20221229_M_cow\\20221229_061532_21C6.mkv: 640x640 Done. (0.017s)\n",
      "video 1/1 (3030/3933) D:\\815_CowDataChecking\\20221229\\20221229_M_cow\\20221229_061532_21C6.mkv: 640x640 Done. (0.013s)\n",
      "video 1/1 (3031/3933) D:\\815_CowDataChecking\\20221229\\20221229_M_cow\\20221229_061532_21C6.mkv: 640x640 Done. (0.014s)\n",
      "video 1/1 (3032/3933) D:\\815_CowDataChecking\\20221229\\20221229_M_cow\\20221229_061532_21C6.mkv: 640x640 Done. (0.014s)\n",
      "video 1/1 (3033/3933) D:\\815_CowDataChecking\\20221229\\20221229_M_cow\\20221229_061532_21C6.mkv: 640x640 Done. (0.014s)\n",
      "video 1/1 (3034/3933) D:\\815_CowDataChecking\\20221229\\20221229_M_cow\\20221229_061532_21C6.mkv: 640x640 Done. (0.014s)\n",
      "video 1/1 (3035/3933) D:\\815_CowDataChecking\\20221229\\20221229_M_cow\\20221229_061532_21C6.mkv: 640x640 Done. (0.013s)\n",
      "video 1/1 (3036/3933) D:\\815_CowDataChecking\\20221229\\20221229_M_cow\\20221229_061532_21C6.mkv: 640x640 Done. (0.015s)\n",
      "video 1/1 (3037/3933) D:\\815_CowDataChecking\\20221229\\20221229_M_cow\\20221229_061532_21C6.mkv: 640x640 Done. (0.014s)\n",
      "video 1/1 (3038/3933) D:\\815_CowDataChecking\\20221229\\20221229_M_cow\\20221229_061532_21C6.mkv: 640x640 Done. (0.014s)\n",
      "video 1/1 (3039/3933) D:\\815_CowDataChecking\\20221229\\20221229_M_cow\\20221229_061532_21C6.mkv: 640x640 Done. (0.017s)\n",
      "video 1/1 (3040/3933) D:\\815_CowDataChecking\\20221229\\20221229_M_cow\\20221229_061532_21C6.mkv: 640x640 Done. (0.014s)\n",
      "video 1/1 (3041/3933) D:\\815_CowDataChecking\\20221229\\20221229_M_cow\\20221229_061532_21C6.mkv: 640x640 Done. (0.014s)\n",
      "video 1/1 (3042/3933) D:\\815_CowDataChecking\\20221229\\20221229_M_cow\\20221229_061532_21C6.mkv: 640x640 Done. (0.013s)\n",
      "video 1/1 (3043/3933) D:\\815_CowDataChecking\\20221229\\20221229_M_cow\\20221229_061532_21C6.mkv: 640x640 Done. (0.014s)\n",
      "video 1/1 (3044/3933) D:\\815_CowDataChecking\\20221229\\20221229_M_cow\\20221229_061532_21C6.mkv: 640x640 Done. (0.014s)\n",
      "video 1/1 (3045/3933) D:\\815_CowDataChecking\\20221229\\20221229_M_cow\\20221229_061532_21C6.mkv: 640x640 Done. (0.014s)\n",
      "video 1/1 (3046/3933) D:\\815_CowDataChecking\\20221229\\20221229_M_cow\\20221229_061532_21C6.mkv: 640x640 Done. (0.014s)\n",
      "video 1/1 (3047/3933) D:\\815_CowDataChecking\\20221229\\20221229_M_cow\\20221229_061532_21C6.mkv: 640x640 Done. (0.013s)\n",
      "video 1/1 (3048/3933) D:\\815_CowDataChecking\\20221229\\20221229_M_cow\\20221229_061532_21C6.mkv: 640x640 Done. (0.014s)\n",
      "video 1/1 (3049/3933) D:\\815_CowDataChecking\\20221229\\20221229_M_cow\\20221229_061532_21C6.mkv: 640x640 Done. (0.017s)\n",
      "video 1/1 (3050/3933) D:\\815_CowDataChecking\\20221229\\20221229_M_cow\\20221229_061532_21C6.mkv: 640x640 Done. (0.013s)\n",
      "video 1/1 (3051/3933) D:\\815_CowDataChecking\\20221229\\20221229_M_cow\\20221229_061532_21C6.mkv: 640x640 Done. (0.013s)\n",
      "video 1/1 (3052/3933) D:\\815_CowDataChecking\\20221229\\20221229_M_cow\\20221229_061532_21C6.mkv: 640x640 Done. (0.013s)\n",
      "video 1/1 (3053/3933) D:\\815_CowDataChecking\\20221229\\20221229_M_cow\\20221229_061532_21C6.mkv: 640x640 Done. (0.021s)\n",
      "video 1/1 (3054/3933) D:\\815_CowDataChecking\\20221229\\20221229_M_cow\\20221229_061532_21C6.mkv: 640x640 Done. (0.019s)\n",
      "video 1/1 (3055/3933) D:\\815_CowDataChecking\\20221229\\20221229_M_cow\\20221229_061532_21C6.mkv: 640x640 Done. (0.021s)\n",
      "video 1/1 (3056/3933) D:\\815_CowDataChecking\\20221229\\20221229_M_cow\\20221229_061532_21C6.mkv: 640x640 Done. (0.020s)\n",
      "video 1/1 (3057/3933) D:\\815_CowDataChecking\\20221229\\20221229_M_cow\\20221229_061532_21C6.mkv: 640x640 Done. (0.021s)\n",
      "video 1/1 (3058/3933) D:\\815_CowDataChecking\\20221229\\20221229_M_cow\\20221229_061532_21C6.mkv: 640x640 Done. (0.020s)\n",
      "video 1/1 (3059/3933) D:\\815_CowDataChecking\\20221229\\20221229_M_cow\\20221229_061532_21C6.mkv: 640x640 Done. (0.020s)\n",
      "video 1/1 (3060/3933) D:\\815_CowDataChecking\\20221229\\20221229_M_cow\\20221229_061532_21C6.mkv: 640x640 Done. (0.020s)\n",
      "video 1/1 (3061/3933) D:\\815_CowDataChecking\\20221229\\20221229_M_cow\\20221229_061532_21C6.mkv: 640x640 Done. (0.021s)\n",
      "video 1/1 (3062/3933) D:\\815_CowDataChecking\\20221229\\20221229_M_cow\\20221229_061532_21C6.mkv: 640x640 Done. (0.021s)\n",
      "video 1/1 (3063/3933) D:\\815_CowDataChecking\\20221229\\20221229_M_cow\\20221229_061532_21C6.mkv: 640x640 Done. (0.020s)\n",
      "video 1/1 (3064/3933) D:\\815_CowDataChecking\\20221229\\20221229_M_cow\\20221229_061532_21C6.mkv: 640x640 Done. (0.019s)\n",
      "video 1/1 (3065/3933) D:\\815_CowDataChecking\\20221229\\20221229_M_cow\\20221229_061532_21C6.mkv: 640x640 Done. (0.023s)\n",
      "video 1/1 (3066/3933) D:\\815_CowDataChecking\\20221229\\20221229_M_cow\\20221229_061532_21C6.mkv: 640x640 Done. (0.023s)\n",
      "video 1/1 (3067/3933) D:\\815_CowDataChecking\\20221229\\20221229_M_cow\\20221229_061532_21C6.mkv: 640x640 Done. (0.022s)\n",
      "video 1/1 (3068/3933) D:\\815_CowDataChecking\\20221229\\20221229_M_cow\\20221229_061532_21C6.mkv: 640x640 Done. (0.021s)\n",
      "video 1/1 (3069/3933) D:\\815_CowDataChecking\\20221229\\20221229_M_cow\\20221229_061532_21C6.mkv: 640x640 Done. (0.023s)\n",
      "video 1/1 (3070/3933) D:\\815_CowDataChecking\\20221229\\20221229_M_cow\\20221229_061532_21C6.mkv: 640x640 Done. (0.019s)\n",
      "video 1/1 (3071/3933) D:\\815_CowDataChecking\\20221229\\20221229_M_cow\\20221229_061532_21C6.mkv: 640x640 Done. (0.022s)\n",
      "video 1/1 (3072/3933) D:\\815_CowDataChecking\\20221229\\20221229_M_cow\\20221229_061532_21C6.mkv: 640x640 Done. (0.023s)\n",
      "video 1/1 (3073/3933) D:\\815_CowDataChecking\\20221229\\20221229_M_cow\\20221229_061532_21C6.mkv: 640x640 Done. (0.024s)\n",
      "video 1/1 (3074/3933) D:\\815_CowDataChecking\\20221229\\20221229_M_cow\\20221229_061532_21C6.mkv: 640x640 Done. (0.024s)\n",
      "video 1/1 (3075/3933) D:\\815_CowDataChecking\\20221229\\20221229_M_cow\\20221229_061532_21C6.mkv: 640x640 Done. (0.021s)\n",
      "video 1/1 (3076/3933) D:\\815_CowDataChecking\\20221229\\20221229_M_cow\\20221229_061532_21C6.mkv: 640x640 Done. (0.025s)\n",
      "video 1/1 (3077/3933) D:\\815_CowDataChecking\\20221229\\20221229_M_cow\\20221229_061532_21C6.mkv: 640x640 Done. (0.024s)\n",
      "video 1/1 (3078/3933) D:\\815_CowDataChecking\\20221229\\20221229_M_cow\\20221229_061532_21C6.mkv: 640x640 Done. (0.041s)\n",
      "video 1/1 (3079/3933) D:\\815_CowDataChecking\\20221229\\20221229_M_cow\\20221229_061532_21C6.mkv: 640x640 Done. (0.057s)\n",
      "video 1/1 (3080/3933) D:\\815_CowDataChecking\\20221229\\20221229_M_cow\\20221229_061532_21C6.mkv: 640x640 Done. (0.020s)\n",
      "video 1/1 (3081/3933) D:\\815_CowDataChecking\\20221229\\20221229_M_cow\\20221229_061532_21C6.mkv: 640x640 Done. (0.020s)\n",
      "video 1/1 (3082/3933) D:\\815_CowDataChecking\\20221229\\20221229_M_cow\\20221229_061532_21C6.mkv: 640x640 Done. (0.019s)\n",
      "video 1/1 (3083/3933) D:\\815_CowDataChecking\\20221229\\20221229_M_cow\\20221229_061532_21C6.mkv: 640x640 Done. (0.021s)\n",
      "video 1/1 (3084/3933) D:\\815_CowDataChecking\\20221229\\20221229_M_cow\\20221229_061532_21C6.mkv: 640x640 Done. (0.018s)\n",
      "video 1/1 (3085/3933) D:\\815_CowDataChecking\\20221229\\20221229_M_cow\\20221229_061532_21C6.mkv: 640x640 Done. (0.019s)\n",
      "video 1/1 (3086/3933) D:\\815_CowDataChecking\\20221229\\20221229_M_cow\\20221229_061532_21C6.mkv: 640x640 Done. (0.019s)\n",
      "video 1/1 (3087/3933) D:\\815_CowDataChecking\\20221229\\20221229_M_cow\\20221229_061532_21C6.mkv: 640x640 Done. (0.018s)\n",
      "video 1/1 (3088/3933) D:\\815_CowDataChecking\\20221229\\20221229_M_cow\\20221229_061532_21C6.mkv: 640x640 Done. (0.019s)\n",
      "video 1/1 (3089/3933) D:\\815_CowDataChecking\\20221229\\20221229_M_cow\\20221229_061532_21C6.mkv: 640x640 Done. (0.019s)\n",
      "video 1/1 (3090/3933) D:\\815_CowDataChecking\\20221229\\20221229_M_cow\\20221229_061532_21C6.mkv: 640x640 Done. (0.030s)\n",
      "video 1/1 (3091/3933) D:\\815_CowDataChecking\\20221229\\20221229_M_cow\\20221229_061532_21C6.mkv: 640x640 Done. (0.024s)\n",
      "video 1/1 (3092/3933) D:\\815_CowDataChecking\\20221229\\20221229_M_cow\\20221229_061532_21C6.mkv: 640x640 Done. (0.018s)\n",
      "video 1/1 (3093/3933) D:\\815_CowDataChecking\\20221229\\20221229_M_cow\\20221229_061532_21C6.mkv: 640x640 Done. (0.021s)\n",
      "video 1/1 (3094/3933) D:\\815_CowDataChecking\\20221229\\20221229_M_cow\\20221229_061532_21C6.mkv: 640x640 Done. (0.019s)\n",
      "video 1/1 (3095/3933) D:\\815_CowDataChecking\\20221229\\20221229_M_cow\\20221229_061532_21C6.mkv: 640x640 Done. (0.019s)\n",
      "video 1/1 (3096/3933) D:\\815_CowDataChecking\\20221229\\20221229_M_cow\\20221229_061532_21C6.mkv: 640x640 Done. (0.019s)\n",
      "video 1/1 (3097/3933) D:\\815_CowDataChecking\\20221229\\20221229_M_cow\\20221229_061532_21C6.mkv: 640x640 Done. (0.019s)\n",
      "video 1/1 (3098/3933) D:\\815_CowDataChecking\\20221229\\20221229_M_cow\\20221229_061532_21C6.mkv: 640x640 Done. (0.019s)\n",
      "video 1/1 (3099/3933) D:\\815_CowDataChecking\\20221229\\20221229_M_cow\\20221229_061532_21C6.mkv: 640x640 Done. (0.022s)\n",
      "video 1/1 (3100/3933) D:\\815_CowDataChecking\\20221229\\20221229_M_cow\\20221229_061532_21C6.mkv: 640x640 Done. (0.021s)\n",
      "video 1/1 (3101/3933) D:\\815_CowDataChecking\\20221229\\20221229_M_cow\\20221229_061532_21C6.mkv: 640x640 Done. (0.022s)\n",
      "video 1/1 (3102/3933) D:\\815_CowDataChecking\\20221229\\20221229_M_cow\\20221229_061532_21C6.mkv: 640x640 Done. (0.024s)\n",
      "video 1/1 (3103/3933) D:\\815_CowDataChecking\\20221229\\20221229_M_cow\\20221229_061532_21C6.mkv: 640x640 Done. (0.024s)\n",
      "video 1/1 (3104/3933) D:\\815_CowDataChecking\\20221229\\20221229_M_cow\\20221229_061532_21C6.mkv: 640x640 Done. (0.043s)\n",
      "video 1/1 (3105/3933) D:\\815_CowDataChecking\\20221229\\20221229_M_cow\\20221229_061532_21C6.mkv: 640x640 Done. (0.058s)\n",
      "video 1/1 (3106/3933) D:\\815_CowDataChecking\\20221229\\20221229_M_cow\\20221229_061532_21C6.mkv: 640x640 Done. (0.045s)\n",
      "video 1/1 (3107/3933) D:\\815_CowDataChecking\\20221229\\20221229_M_cow\\20221229_061532_21C6.mkv: 640x640 Done. (0.044s)\n",
      "video 1/1 (3108/3933) D:\\815_CowDataChecking\\20221229\\20221229_M_cow\\20221229_061532_21C6.mkv: 640x640 Done. (0.050s)\n",
      "video 1/1 (3109/3933) D:\\815_CowDataChecking\\20221229\\20221229_M_cow\\20221229_061532_21C6.mkv: 640x640 Done. (0.027s)\n",
      "video 1/1 (3110/3933) D:\\815_CowDataChecking\\20221229\\20221229_M_cow\\20221229_061532_21C6.mkv: 640x640 Done. (0.025s)\n",
      "video 1/1 (3111/3933) D:\\815_CowDataChecking\\20221229\\20221229_M_cow\\20221229_061532_21C6.mkv: 640x640 Done. (0.018s)\n",
      "video 1/1 (3112/3933) D:\\815_CowDataChecking\\20221229\\20221229_M_cow\\20221229_061532_21C6.mkv: 640x640 Done. (0.017s)\n",
      "video 1/1 (3113/3933) D:\\815_CowDataChecking\\20221229\\20221229_M_cow\\20221229_061532_21C6.mkv: 640x640 Done. (0.020s)\n",
      "video 1/1 (3114/3933) D:\\815_CowDataChecking\\20221229\\20221229_M_cow\\20221229_061532_21C6.mkv: 640x640 Done. (0.021s)\n",
      "video 1/1 (3115/3933) D:\\815_CowDataChecking\\20221229\\20221229_M_cow\\20221229_061532_21C6.mkv: 640x640 Done. (0.023s)\n",
      "video 1/1 (3116/3933) D:\\815_CowDataChecking\\20221229\\20221229_M_cow\\20221229_061532_21C6.mkv: 640x640 Done. (0.016s)\n",
      "video 1/1 (3117/3933) D:\\815_CowDataChecking\\20221229\\20221229_M_cow\\20221229_061532_21C6.mkv: 640x640 Done. (0.015s)\n",
      "video 1/1 (3118/3933) D:\\815_CowDataChecking\\20221229\\20221229_M_cow\\20221229_061532_21C6.mkv: 640x640 Done. (0.017s)\n",
      "video 1/1 (3119/3933) D:\\815_CowDataChecking\\20221229\\20221229_M_cow\\20221229_061532_21C6.mkv: 640x640 Done. (0.019s)\n",
      "video 1/1 (3120/3933) D:\\815_CowDataChecking\\20221229\\20221229_M_cow\\20221229_061532_21C6.mkv: 640x640 Done. (0.018s)\n",
      "video 1/1 (3121/3933) D:\\815_CowDataChecking\\20221229\\20221229_M_cow\\20221229_061532_21C6.mkv: 640x640 Done. (0.025s)\n",
      "video 1/1 (3122/3933) D:\\815_CowDataChecking\\20221229\\20221229_M_cow\\20221229_061532_21C6.mkv: 640x640 Done. (0.025s)\n",
      "video 1/1 (3123/3933) D:\\815_CowDataChecking\\20221229\\20221229_M_cow\\20221229_061532_21C6.mkv: 640x640 Done. (0.017s)\n",
      "video 1/1 (3124/3933) D:\\815_CowDataChecking\\20221229\\20221229_M_cow\\20221229_061532_21C6.mkv: 640x640 Done. (0.018s)\n",
      "video 1/1 (3125/3933) D:\\815_CowDataChecking\\20221229\\20221229_M_cow\\20221229_061532_21C6.mkv: 640x640 Done. (0.018s)\n",
      "video 1/1 (3126/3933) D:\\815_CowDataChecking\\20221229\\20221229_M_cow\\20221229_061532_21C6.mkv: 640x640 Done. (0.017s)\n",
      "video 1/1 (3127/3933) D:\\815_CowDataChecking\\20221229\\20221229_M_cow\\20221229_061532_21C6.mkv: 640x640 Done. (0.016s)\n",
      "video 1/1 (3128/3933) D:\\815_CowDataChecking\\20221229\\20221229_M_cow\\20221229_061532_21C6.mkv: 640x640 Done. (0.035s)\n",
      "video 1/1 (3129/3933) D:\\815_CowDataChecking\\20221229\\20221229_M_cow\\20221229_061532_21C6.mkv: 640x640 Done. (0.043s)\n",
      "video 1/1 (3130/3933) D:\\815_CowDataChecking\\20221229\\20221229_M_cow\\20221229_061532_21C6.mkv: 640x640 Done. (0.049s)\n",
      "video 1/1 (3131/3933) D:\\815_CowDataChecking\\20221229\\20221229_M_cow\\20221229_061532_21C6.mkv: 640x640 Done. (0.054s)\n",
      "video 1/1 (3132/3933) D:\\815_CowDataChecking\\20221229\\20221229_M_cow\\20221229_061532_21C6.mkv: 640x640 Done. (0.020s)\n",
      "video 1/1 (3133/3933) D:\\815_CowDataChecking\\20221229\\20221229_M_cow\\20221229_061532_21C6.mkv: 640x640 Done. (0.017s)\n",
      "video 1/1 (3134/3933) D:\\815_CowDataChecking\\20221229\\20221229_M_cow\\20221229_061532_21C6.mkv: 640x640 Done. (0.015s)\n",
      "video 1/1 (3135/3933) D:\\815_CowDataChecking\\20221229\\20221229_M_cow\\20221229_061532_21C6.mkv: 640x640 Done. (0.025s)\n",
      "video 1/1 (3136/3933) D:\\815_CowDataChecking\\20221229\\20221229_M_cow\\20221229_061532_21C6.mkv: 640x640 Done. (0.027s)\n",
      "video 1/1 (3137/3933) D:\\815_CowDataChecking\\20221229\\20221229_M_cow\\20221229_061532_21C6.mkv: 640x640 Done. (0.027s)\n",
      "video 1/1 (3138/3933) D:\\815_CowDataChecking\\20221229\\20221229_M_cow\\20221229_061532_21C6.mkv: 640x640 Done. (0.027s)\n",
      "video 1/1 (3139/3933) D:\\815_CowDataChecking\\20221229\\20221229_M_cow\\20221229_061532_21C6.mkv: 640x640 Done. (0.021s)\n",
      "video 1/1 (3140/3933) D:\\815_CowDataChecking\\20221229\\20221229_M_cow\\20221229_061532_21C6.mkv: 640x640 Done. (0.019s)\n",
      "video 1/1 (3141/3933) D:\\815_CowDataChecking\\20221229\\20221229_M_cow\\20221229_061532_21C6.mkv: 640x640 Done. (0.018s)\n",
      "video 1/1 (3142/3933) D:\\815_CowDataChecking\\20221229\\20221229_M_cow\\20221229_061532_21C6.mkv: 640x640 Done. (0.017s)\n",
      "video 1/1 (3143/3933) D:\\815_CowDataChecking\\20221229\\20221229_M_cow\\20221229_061532_21C6.mkv: 640x640 Done. (0.015s)\n",
      "video 1/1 (3144/3933) D:\\815_CowDataChecking\\20221229\\20221229_M_cow\\20221229_061532_21C6.mkv: 640x640 Done. (0.017s)\n",
      "video 1/1 (3145/3933) D:\\815_CowDataChecking\\20221229\\20221229_M_cow\\20221229_061532_21C6.mkv: 640x640 Done. (0.024s)\n",
      "video 1/1 (3146/3933) D:\\815_CowDataChecking\\20221229\\20221229_M_cow\\20221229_061532_21C6.mkv: 640x640 Done. (0.037s)\n",
      "video 1/1 (3147/3933) D:\\815_CowDataChecking\\20221229\\20221229_M_cow\\20221229_061532_21C6.mkv: 640x640 Done. (0.024s)\n",
      "video 1/1 (3148/3933) D:\\815_CowDataChecking\\20221229\\20221229_M_cow\\20221229_061532_21C6.mkv: 640x640 Done. (0.019s)\n",
      "video 1/1 (3149/3933) D:\\815_CowDataChecking\\20221229\\20221229_M_cow\\20221229_061532_21C6.mkv: 640x640 Done. (0.022s)\n",
      "video 1/1 (3150/3933) D:\\815_CowDataChecking\\20221229\\20221229_M_cow\\20221229_061532_21C6.mkv: 640x640 Done. (0.018s)\n",
      "video 1/1 (3151/3933) D:\\815_CowDataChecking\\20221229\\20221229_M_cow\\20221229_061532_21C6.mkv: 640x640 Done. (0.015s)\n",
      "video 1/1 (3152/3933) D:\\815_CowDataChecking\\20221229\\20221229_M_cow\\20221229_061532_21C6.mkv: 640x640 Done. (0.013s)\n",
      "video 1/1 (3153/3933) D:\\815_CowDataChecking\\20221229\\20221229_M_cow\\20221229_061532_21C6.mkv: 640x640 Done. (0.014s)\n",
      "video 1/1 (3154/3933) D:\\815_CowDataChecking\\20221229\\20221229_M_cow\\20221229_061532_21C6.mkv: 640x640 Done. (0.014s)\n",
      "video 1/1 (3155/3933) D:\\815_CowDataChecking\\20221229\\20221229_M_cow\\20221229_061532_21C6.mkv: 640x640 Done. (0.015s)\n",
      "video 1/1 (3156/3933) D:\\815_CowDataChecking\\20221229\\20221229_M_cow\\20221229_061532_21C6.mkv: 640x640 Done. (0.013s)\n",
      "video 1/1 (3157/3933) D:\\815_CowDataChecking\\20221229\\20221229_M_cow\\20221229_061532_21C6.mkv: 640x640 Done. (0.020s)\n",
      "video 1/1 (3158/3933) D:\\815_CowDataChecking\\20221229\\20221229_M_cow\\20221229_061532_21C6.mkv: 640x640 Done. (0.017s)\n",
      "video 1/1 (3159/3933) D:\\815_CowDataChecking\\20221229\\20221229_M_cow\\20221229_061532_21C6.mkv: 640x640 Done. (0.016s)\n",
      "video 1/1 (3160/3933) D:\\815_CowDataChecking\\20221229\\20221229_M_cow\\20221229_061532_21C6.mkv: 640x640 Done. (0.013s)\n",
      "video 1/1 (3161/3933) D:\\815_CowDataChecking\\20221229\\20221229_M_cow\\20221229_061532_21C6.mkv: 640x640 Done. (0.017s)\n",
      "video 1/1 (3162/3933) D:\\815_CowDataChecking\\20221229\\20221229_M_cow\\20221229_061532_21C6.mkv: 640x640 Done. (0.014s)\n",
      "video 1/1 (3163/3933) D:\\815_CowDataChecking\\20221229\\20221229_M_cow\\20221229_061532_21C6.mkv: 640x640 Done. (0.019s)\n",
      "video 1/1 (3164/3933) D:\\815_CowDataChecking\\20221229\\20221229_M_cow\\20221229_061532_21C6.mkv: 640x640 Done. (0.015s)\n",
      "video 1/1 (3165/3933) D:\\815_CowDataChecking\\20221229\\20221229_M_cow\\20221229_061532_21C6.mkv: 640x640 Done. (0.019s)\n",
      "video 1/1 (3166/3933) D:\\815_CowDataChecking\\20221229\\20221229_M_cow\\20221229_061532_21C6.mkv: 640x640 Done. (0.018s)\n",
      "video 1/1 (3167/3933) D:\\815_CowDataChecking\\20221229\\20221229_M_cow\\20221229_061532_21C6.mkv: 640x640 Done. (0.016s)\n",
      "video 1/1 (3168/3933) D:\\815_CowDataChecking\\20221229\\20221229_M_cow\\20221229_061532_21C6.mkv: 640x640 Done. (0.013s)\n",
      "video 1/1 (3169/3933) D:\\815_CowDataChecking\\20221229\\20221229_M_cow\\20221229_061532_21C6.mkv: 640x640 Done. (0.015s)\n",
      "video 1/1 (3170/3933) D:\\815_CowDataChecking\\20221229\\20221229_M_cow\\20221229_061532_21C6.mkv: 640x640 Done. (0.019s)\n",
      "video 1/1 (3171/3933) D:\\815_CowDataChecking\\20221229\\20221229_M_cow\\20221229_061532_21C6.mkv: 640x640 Done. (0.020s)\n",
      "video 1/1 (3172/3933) D:\\815_CowDataChecking\\20221229\\20221229_M_cow\\20221229_061532_21C6.mkv: 640x640 Done. (0.020s)\n",
      "video 1/1 (3173/3933) D:\\815_CowDataChecking\\20221229\\20221229_M_cow\\20221229_061532_21C6.mkv: 640x640 Done. (0.020s)\n",
      "video 1/1 (3174/3933) D:\\815_CowDataChecking\\20221229\\20221229_M_cow\\20221229_061532_21C6.mkv: 640x640 Done. (0.020s)\n",
      "video 1/1 (3175/3933) D:\\815_CowDataChecking\\20221229\\20221229_M_cow\\20221229_061532_21C6.mkv: 640x640 Done. (0.018s)\n",
      "video 1/1 (3176/3933) D:\\815_CowDataChecking\\20221229\\20221229_M_cow\\20221229_061532_21C6.mkv: 640x640 Done. (0.020s)\n",
      "video 1/1 (3177/3933) D:\\815_CowDataChecking\\20221229\\20221229_M_cow\\20221229_061532_21C6.mkv: 640x640 Done. (0.019s)\n",
      "video 1/1 (3178/3933) D:\\815_CowDataChecking\\20221229\\20221229_M_cow\\20221229_061532_21C6.mkv: 640x640 Done. (0.021s)\n",
      "video 1/1 (3179/3933) D:\\815_CowDataChecking\\20221229\\20221229_M_cow\\20221229_061532_21C6.mkv: 640x640 Done. (0.021s)\n",
      "video 1/1 (3180/3933) D:\\815_CowDataChecking\\20221229\\20221229_M_cow\\20221229_061532_21C6.mkv: 640x640 Done. (0.021s)\n",
      "video 1/1 (3181/3933) D:\\815_CowDataChecking\\20221229\\20221229_M_cow\\20221229_061532_21C6.mkv: 640x640 Done. (0.019s)\n",
      "video 1/1 (3182/3933) D:\\815_CowDataChecking\\20221229\\20221229_M_cow\\20221229_061532_21C6.mkv: 640x640 Done. (0.020s)\n",
      "video 1/1 (3183/3933) D:\\815_CowDataChecking\\20221229\\20221229_M_cow\\20221229_061532_21C6.mkv: 640x640 Done. (0.019s)\n",
      "video 1/1 (3184/3933) D:\\815_CowDataChecking\\20221229\\20221229_M_cow\\20221229_061532_21C6.mkv: 640x640 Done. (0.021s)\n",
      "video 1/1 (3185/3933) D:\\815_CowDataChecking\\20221229\\20221229_M_cow\\20221229_061532_21C6.mkv: 640x640 Done. (0.020s)\n",
      "video 1/1 (3186/3933) D:\\815_CowDataChecking\\20221229\\20221229_M_cow\\20221229_061532_21C6.mkv: 640x640 Done. (0.024s)\n",
      "video 1/1 (3187/3933) D:\\815_CowDataChecking\\20221229\\20221229_M_cow\\20221229_061532_21C6.mkv: 640x640 Done. (0.063s)\n",
      "video 1/1 (3188/3933) D:\\815_CowDataChecking\\20221229\\20221229_M_cow\\20221229_061532_21C6.mkv: 640x640 Done. (0.019s)\n",
      "video 1/1 (3189/3933) D:\\815_CowDataChecking\\20221229\\20221229_M_cow\\20221229_061532_21C6.mkv: 640x640 Done. (0.019s)\n",
      "video 1/1 (3190/3933) D:\\815_CowDataChecking\\20221229\\20221229_M_cow\\20221229_061532_21C6.mkv: 640x640 Done. (0.019s)\n",
      "video 1/1 (3191/3933) D:\\815_CowDataChecking\\20221229\\20221229_M_cow\\20221229_061532_21C6.mkv: 640x640 Done. (0.018s)\n",
      "video 1/1 (3192/3933) D:\\815_CowDataChecking\\20221229\\20221229_M_cow\\20221229_061532_21C6.mkv: 640x640 Done. (0.020s)\n",
      "video 1/1 (3193/3933) D:\\815_CowDataChecking\\20221229\\20221229_M_cow\\20221229_061532_21C6.mkv: 640x640 Done. (0.021s)\n",
      "video 1/1 (3194/3933) D:\\815_CowDataChecking\\20221229\\20221229_M_cow\\20221229_061532_21C6.mkv: 640x640 Done. (0.021s)\n",
      "video 1/1 (3195/3933) D:\\815_CowDataChecking\\20221229\\20221229_M_cow\\20221229_061532_21C6.mkv: 640x640 Done. (0.020s)\n",
      "video 1/1 (3196/3933) D:\\815_CowDataChecking\\20221229\\20221229_M_cow\\20221229_061532_21C6.mkv: 640x640 Done. (0.020s)\n",
      "video 1/1 (3197/3933) D:\\815_CowDataChecking\\20221229\\20221229_M_cow\\20221229_061532_21C6.mkv: 640x640 Done. (0.021s)\n",
      "video 1/1 (3198/3933) D:\\815_CowDataChecking\\20221229\\20221229_M_cow\\20221229_061532_21C6.mkv: 640x640 Done. (0.019s)\n",
      "video 1/1 (3199/3933) D:\\815_CowDataChecking\\20221229\\20221229_M_cow\\20221229_061532_21C6.mkv: 640x640 Done. (0.019s)\n",
      "video 1/1 (3200/3933) D:\\815_CowDataChecking\\20221229\\20221229_M_cow\\20221229_061532_21C6.mkv: 640x640 Done. (0.019s)\n",
      "video 1/1 (3201/3933) D:\\815_CowDataChecking\\20221229\\20221229_M_cow\\20221229_061532_21C6.mkv: 640x640 Done. (0.017s)\n",
      "video 1/1 (3202/3933) D:\\815_CowDataChecking\\20221229\\20221229_M_cow\\20221229_061532_21C6.mkv: 640x640 Done. (0.019s)\n",
      "video 1/1 (3203/3933) D:\\815_CowDataChecking\\20221229\\20221229_M_cow\\20221229_061532_21C6.mkv: 640x640 Done. (0.019s)\n",
      "video 1/1 (3204/3933) D:\\815_CowDataChecking\\20221229\\20221229_M_cow\\20221229_061532_21C6.mkv: 640x640 Done. (0.019s)\n",
      "video 1/1 (3205/3933) D:\\815_CowDataChecking\\20221229\\20221229_M_cow\\20221229_061532_21C6.mkv: 640x640 Done. (0.019s)\n",
      "video 1/1 (3206/3933) D:\\815_CowDataChecking\\20221229\\20221229_M_cow\\20221229_061532_21C6.mkv: 640x640 Done. (0.019s)\n",
      "video 1/1 (3207/3933) D:\\815_CowDataChecking\\20221229\\20221229_M_cow\\20221229_061532_21C6.mkv: 640x640 Done. (0.018s)\n",
      "video 1/1 (3208/3933) D:\\815_CowDataChecking\\20221229\\20221229_M_cow\\20221229_061532_21C6.mkv: 640x640 Done. (0.021s)\n",
      "video 1/1 (3209/3933) D:\\815_CowDataChecking\\20221229\\20221229_M_cow\\20221229_061532_21C6.mkv: 640x640 Done. (0.022s)\n",
      "video 1/1 (3210/3933) D:\\815_CowDataChecking\\20221229\\20221229_M_cow\\20221229_061532_21C6.mkv: 640x640 Done. (0.021s)\n",
      "video 1/1 (3211/3933) D:\\815_CowDataChecking\\20221229\\20221229_M_cow\\20221229_061532_21C6.mkv: 640x640 Done. (0.023s)\n",
      "video 1/1 (3212/3933) D:\\815_CowDataChecking\\20221229\\20221229_M_cow\\20221229_061532_21C6.mkv: 640x640 Done. (0.021s)\n",
      "video 1/1 (3213/3933) D:\\815_CowDataChecking\\20221229\\20221229_M_cow\\20221229_061532_21C6.mkv: 640x640 Done. (0.028s)\n",
      "video 1/1 (3214/3933) D:\\815_CowDataChecking\\20221229\\20221229_M_cow\\20221229_061532_21C6.mkv: 640x640 Done. (0.046s)\n",
      "video 1/1 (3215/3933) D:\\815_CowDataChecking\\20221229\\20221229_M_cow\\20221229_061532_21C6.mkv: 640x640 Done. (0.047s)\n",
      "video 1/1 (3216/3933) D:\\815_CowDataChecking\\20221229\\20221229_M_cow\\20221229_061532_21C6.mkv: 640x640 Done. (0.047s)\n",
      "video 1/1 (3217/3933) D:\\815_CowDataChecking\\20221229\\20221229_M_cow\\20221229_061532_21C6.mkv: 640x640 Done. (0.044s)\n",
      "video 1/1 (3218/3933) D:\\815_CowDataChecking\\20221229\\20221229_M_cow\\20221229_061532_21C6.mkv: 640x640 Done. (0.047s)\n",
      "video 1/1 (3219/3933) D:\\815_CowDataChecking\\20221229\\20221229_M_cow\\20221229_061532_21C6.mkv: 640x640 Done. (0.016s)\n",
      "video 1/1 (3220/3933) D:\\815_CowDataChecking\\20221229\\20221229_M_cow\\20221229_061532_21C6.mkv: 640x640 Done. (0.021s)\n",
      "video 1/1 (3221/3933) D:\\815_CowDataChecking\\20221229\\20221229_M_cow\\20221229_061532_21C6.mkv: 640x640 Done. (0.015s)\n",
      "video 1/1 (3222/3933) D:\\815_CowDataChecking\\20221229\\20221229_M_cow\\20221229_061532_21C6.mkv: 640x640 Done. (0.019s)\n",
      "video 1/1 (3223/3933) D:\\815_CowDataChecking\\20221229\\20221229_M_cow\\20221229_061532_21C6.mkv: 640x640 Done. (0.015s)\n",
      "video 1/1 (3224/3933) D:\\815_CowDataChecking\\20221229\\20221229_M_cow\\20221229_061532_21C6.mkv: 640x640 Done. (0.018s)\n",
      "video 1/1 (3225/3933) D:\\815_CowDataChecking\\20221229\\20221229_M_cow\\20221229_061532_21C6.mkv: 640x640 Done. (0.017s)\n",
      "video 1/1 (3226/3933) D:\\815_CowDataChecking\\20221229\\20221229_M_cow\\20221229_061532_21C6.mkv: 640x640 Done. (0.017s)\n",
      "video 1/1 (3227/3933) D:\\815_CowDataChecking\\20221229\\20221229_M_cow\\20221229_061532_21C6.mkv: 640x640 Done. (0.017s)\n",
      "video 1/1 (3228/3933) D:\\815_CowDataChecking\\20221229\\20221229_M_cow\\20221229_061532_21C6.mkv: 640x640 Done. (0.017s)\n",
      "video 1/1 (3229/3933) D:\\815_CowDataChecking\\20221229\\20221229_M_cow\\20221229_061532_21C6.mkv: 640x640 Done. (0.017s)\n",
      "video 1/1 (3230/3933) D:\\815_CowDataChecking\\20221229\\20221229_M_cow\\20221229_061532_21C6.mkv: 640x640 Done. (0.016s)\n",
      "video 1/1 (3231/3933) D:\\815_CowDataChecking\\20221229\\20221229_M_cow\\20221229_061532_21C6.mkv: 640x640 Done. (0.017s)\n",
      "video 1/1 (3232/3933) D:\\815_CowDataChecking\\20221229\\20221229_M_cow\\20221229_061532_21C6.mkv: 640x640 Done. (0.017s)\n",
      "video 1/1 (3233/3933) D:\\815_CowDataChecking\\20221229\\20221229_M_cow\\20221229_061532_21C6.mkv: 640x640 Done. (0.018s)\n",
      "video 1/1 (3234/3933) D:\\815_CowDataChecking\\20221229\\20221229_M_cow\\20221229_061532_21C6.mkv: 640x640 Done. (0.016s)\n",
      "video 1/1 (3235/3933) D:\\815_CowDataChecking\\20221229\\20221229_M_cow\\20221229_061532_21C6.mkv: 640x640 Done. (0.015s)\n",
      "video 1/1 (3236/3933) D:\\815_CowDataChecking\\20221229\\20221229_M_cow\\20221229_061532_21C6.mkv: 640x640 Done. (0.019s)\n",
      "video 1/1 (3237/3933) D:\\815_CowDataChecking\\20221229\\20221229_M_cow\\20221229_061532_21C6.mkv: 640x640 Done. (0.017s)\n",
      "video 1/1 (3238/3933) D:\\815_CowDataChecking\\20221229\\20221229_M_cow\\20221229_061532_21C6.mkv: 640x640 Done. (0.019s)\n",
      "video 1/1 (3239/3933) D:\\815_CowDataChecking\\20221229\\20221229_M_cow\\20221229_061532_21C6.mkv: 640x640 Done. (0.020s)\n",
      "video 1/1 (3240/3933) D:\\815_CowDataChecking\\20221229\\20221229_M_cow\\20221229_061532_21C6.mkv: 640x640 Done. (0.056s)\n",
      "video 1/1 (3241/3933) D:\\815_CowDataChecking\\20221229\\20221229_M_cow\\20221229_061532_21C6.mkv: 640x640 Done. (0.048s)\n",
      "video 1/1 (3242/3933) D:\\815_CowDataChecking\\20221229\\20221229_M_cow\\20221229_061532_21C6.mkv: 640x640 Done. (0.020s)\n",
      "video 1/1 (3243/3933) D:\\815_CowDataChecking\\20221229\\20221229_M_cow\\20221229_061532_21C6.mkv: 640x640 Done. (0.017s)\n",
      "video 1/1 (3244/3933) D:\\815_CowDataChecking\\20221229\\20221229_M_cow\\20221229_061532_21C6.mkv: 640x640 Done. (0.018s)\n",
      "video 1/1 (3245/3933) D:\\815_CowDataChecking\\20221229\\20221229_M_cow\\20221229_061532_21C6.mkv: 640x640 Done. (0.019s)\n",
      "video 1/1 (3246/3933) D:\\815_CowDataChecking\\20221229\\20221229_M_cow\\20221229_061532_21C6.mkv: 640x640 Done. (0.018s)\n",
      "video 1/1 (3247/3933) D:\\815_CowDataChecking\\20221229\\20221229_M_cow\\20221229_061532_21C6.mkv: 640x640 Done. (0.018s)\n",
      "video 1/1 (3248/3933) D:\\815_CowDataChecking\\20221229\\20221229_M_cow\\20221229_061532_21C6.mkv: 640x640 Done. (0.023s)\n",
      "video 1/1 (3249/3933) D:\\815_CowDataChecking\\20221229\\20221229_M_cow\\20221229_061532_21C6.mkv: 640x640 Done. (0.037s)\n",
      "video 1/1 (3250/3933) D:\\815_CowDataChecking\\20221229\\20221229_M_cow\\20221229_061532_21C6.mkv: 640x640 Done. (0.021s)\n",
      "video 1/1 (3251/3933) D:\\815_CowDataChecking\\20221229\\20221229_M_cow\\20221229_061532_21C6.mkv: 640x640 Done. (0.024s)\n",
      "video 1/1 (3252/3933) D:\\815_CowDataChecking\\20221229\\20221229_M_cow\\20221229_061532_21C6.mkv: 640x640 Done. (0.019s)\n",
      "video 1/1 (3253/3933) D:\\815_CowDataChecking\\20221229\\20221229_M_cow\\20221229_061532_21C6.mkv: 640x640 Done. (0.021s)\n",
      "video 1/1 (3254/3933) D:\\815_CowDataChecking\\20221229\\20221229_M_cow\\20221229_061532_21C6.mkv: 640x640 Done. (0.015s)\n",
      "video 1/1 (3255/3933) D:\\815_CowDataChecking\\20221229\\20221229_M_cow\\20221229_061532_21C6.mkv: 640x640 Done. (0.015s)\n",
      "video 1/1 (3256/3933) D:\\815_CowDataChecking\\20221229\\20221229_M_cow\\20221229_061532_21C6.mkv: 640x640 Done. (0.015s)\n",
      "video 1/1 (3257/3933) D:\\815_CowDataChecking\\20221229\\20221229_M_cow\\20221229_061532_21C6.mkv: 640x640 Done. (0.014s)\n",
      "video 1/1 (3258/3933) D:\\815_CowDataChecking\\20221229\\20221229_M_cow\\20221229_061532_21C6.mkv: 640x640 Done. (0.016s)\n",
      "video 1/1 (3259/3933) D:\\815_CowDataChecking\\20221229\\20221229_M_cow\\20221229_061532_21C6.mkv: 640x640 Done. (0.014s)\n",
      "video 1/1 (3260/3933) D:\\815_CowDataChecking\\20221229\\20221229_M_cow\\20221229_061532_21C6.mkv: 640x640 Done. (0.015s)\n",
      "video 1/1 (3261/3933) D:\\815_CowDataChecking\\20221229\\20221229_M_cow\\20221229_061532_21C6.mkv: 640x640 Done. (0.015s)\n",
      "video 1/1 (3262/3933) D:\\815_CowDataChecking\\20221229\\20221229_M_cow\\20221229_061532_21C6.mkv: 640x640 Done. (0.013s)\n",
      "video 1/1 (3263/3933) D:\\815_CowDataChecking\\20221229\\20221229_M_cow\\20221229_061532_21C6.mkv: 640x640 Done. (0.015s)\n",
      "video 1/1 (3264/3933) D:\\815_CowDataChecking\\20221229\\20221229_M_cow\\20221229_061532_21C6.mkv: 640x640 Done. (0.014s)\n",
      "video 1/1 (3265/3933) D:\\815_CowDataChecking\\20221229\\20221229_M_cow\\20221229_061532_21C6.mkv: 640x640 Done. (0.016s)\n",
      "video 1/1 (3266/3933) D:\\815_CowDataChecking\\20221229\\20221229_M_cow\\20221229_061532_21C6.mkv: 640x640 Done. (0.014s)\n",
      "video 1/1 (3267/3933) D:\\815_CowDataChecking\\20221229\\20221229_M_cow\\20221229_061532_21C6.mkv: 640x640 Done. (0.015s)\n",
      "video 1/1 (3268/3933) D:\\815_CowDataChecking\\20221229\\20221229_M_cow\\20221229_061532_21C6.mkv: 640x640 Done. (0.018s)\n",
      "video 1/1 (3269/3933) D:\\815_CowDataChecking\\20221229\\20221229_M_cow\\20221229_061532_21C6.mkv: 640x640 Done. (0.016s)\n",
      "video 1/1 (3270/3933) D:\\815_CowDataChecking\\20221229\\20221229_M_cow\\20221229_061532_21C6.mkv: 640x640 Done. (0.014s)\n",
      "video 1/1 (3271/3933) D:\\815_CowDataChecking\\20221229\\20221229_M_cow\\20221229_061532_21C6.mkv: 640x640 Done. (0.015s)\n",
      "video 1/1 (3272/3933) D:\\815_CowDataChecking\\20221229\\20221229_M_cow\\20221229_061532_21C6.mkv: 640x640 Done. (0.013s)\n",
      "video 1/1 (3273/3933) D:\\815_CowDataChecking\\20221229\\20221229_M_cow\\20221229_061532_21C6.mkv: 640x640 Done. (0.015s)\n",
      "video 1/1 (3274/3933) D:\\815_CowDataChecking\\20221229\\20221229_M_cow\\20221229_061532_21C6.mkv: 640x640 Done. (0.015s)\n",
      "video 1/1 (3275/3933) D:\\815_CowDataChecking\\20221229\\20221229_M_cow\\20221229_061532_21C6.mkv: 640x640 Done. (0.014s)\n",
      "video 1/1 (3276/3933) D:\\815_CowDataChecking\\20221229\\20221229_M_cow\\20221229_061532_21C6.mkv: 640x640 Done. (0.016s)\n",
      "video 1/1 (3277/3933) D:\\815_CowDataChecking\\20221229\\20221229_M_cow\\20221229_061532_21C6.mkv: 640x640 Done. (0.013s)\n",
      "video 1/1 (3278/3933) D:\\815_CowDataChecking\\20221229\\20221229_M_cow\\20221229_061532_21C6.mkv: 640x640 Done. (0.014s)\n",
      "video 1/1 (3279/3933) D:\\815_CowDataChecking\\20221229\\20221229_M_cow\\20221229_061532_21C6.mkv: 640x640 Done. (0.014s)\n",
      "video 1/1 (3280/3933) D:\\815_CowDataChecking\\20221229\\20221229_M_cow\\20221229_061532_21C6.mkv: 640x640 Done. (0.014s)\n",
      "video 1/1 (3281/3933) D:\\815_CowDataChecking\\20221229\\20221229_M_cow\\20221229_061532_21C6.mkv: 640x640 Done. (0.013s)\n",
      "video 1/1 (3282/3933) D:\\815_CowDataChecking\\20221229\\20221229_M_cow\\20221229_061532_21C6.mkv: 640x640 Done. (0.018s)\n",
      "video 1/1 (3283/3933) D:\\815_CowDataChecking\\20221229\\20221229_M_cow\\20221229_061532_21C6.mkv: 640x640 Done. (0.019s)\n",
      "video 1/1 (3284/3933) D:\\815_CowDataChecking\\20221229\\20221229_M_cow\\20221229_061532_21C6.mkv: 640x640 Done. (0.020s)\n",
      "video 1/1 (3285/3933) D:\\815_CowDataChecking\\20221229\\20221229_M_cow\\20221229_061532_21C6.mkv: 640x640 Done. (0.019s)\n",
      "video 1/1 (3286/3933) D:\\815_CowDataChecking\\20221229\\20221229_M_cow\\20221229_061532_21C6.mkv: 640x640 Done. (0.019s)\n",
      "video 1/1 (3287/3933) D:\\815_CowDataChecking\\20221229\\20221229_M_cow\\20221229_061532_21C6.mkv: 640x640 Done. (0.019s)\n",
      "video 1/1 (3288/3933) D:\\815_CowDataChecking\\20221229\\20221229_M_cow\\20221229_061532_21C6.mkv: 640x640 Done. (0.020s)\n",
      "video 1/1 (3289/3933) D:\\815_CowDataChecking\\20221229\\20221229_M_cow\\20221229_061532_21C6.mkv: 640x640 Done. (0.020s)\n",
      "video 1/1 (3290/3933) D:\\815_CowDataChecking\\20221229\\20221229_M_cow\\20221229_061532_21C6.mkv: 640x640 Done. (0.020s)\n",
      "video 1/1 (3291/3933) D:\\815_CowDataChecking\\20221229\\20221229_M_cow\\20221229_061532_21C6.mkv: 640x640 Done. (0.018s)\n",
      "video 1/1 (3292/3933) D:\\815_CowDataChecking\\20221229\\20221229_M_cow\\20221229_061532_21C6.mkv: 640x640 Done. (0.017s)\n",
      "video 1/1 (3293/3933) D:\\815_CowDataChecking\\20221229\\20221229_M_cow\\20221229_061532_21C6.mkv: 640x640 Done. (0.019s)\n",
      "video 1/1 (3294/3933) D:\\815_CowDataChecking\\20221229\\20221229_M_cow\\20221229_061532_21C6.mkv: 640x640 Done. (0.023s)\n",
      "video 1/1 (3295/3933) D:\\815_CowDataChecking\\20221229\\20221229_M_cow\\20221229_061532_21C6.mkv: 640x640 Done. (0.018s)\n",
      "video 1/1 (3296/3933) D:\\815_CowDataChecking\\20221229\\20221229_M_cow\\20221229_061532_21C6.mkv: 640x640 Done. (0.020s)\n",
      "video 1/1 (3297/3933) D:\\815_CowDataChecking\\20221229\\20221229_M_cow\\20221229_061532_21C6.mkv: 640x640 Done. (0.020s)\n",
      "video 1/1 (3298/3933) D:\\815_CowDataChecking\\20221229\\20221229_M_cow\\20221229_061532_21C6.mkv: 640x640 Done. (0.020s)\n",
      "video 1/1 (3299/3933) D:\\815_CowDataChecking\\20221229\\20221229_M_cow\\20221229_061532_21C6.mkv: 640x640 Done. (0.024s)\n",
      "video 1/1 (3300/3933) D:\\815_CowDataChecking\\20221229\\20221229_M_cow\\20221229_061532_21C6.mkv: 640x640 Done. (0.020s)\n",
      "video 1/1 (3301/3933) D:\\815_CowDataChecking\\20221229\\20221229_M_cow\\20221229_061532_21C6.mkv: 640x640 Done. (0.052s)\n",
      "video 1/1 (3302/3933) D:\\815_CowDataChecking\\20221229\\20221229_M_cow\\20221229_061532_21C6.mkv: 640x640 Done. (0.054s)\n",
      "video 1/1 (3303/3933) D:\\815_CowDataChecking\\20221229\\20221229_M_cow\\20221229_061532_21C6.mkv: 640x640 Done. (0.020s)\n",
      "video 1/1 (3304/3933) D:\\815_CowDataChecking\\20221229\\20221229_M_cow\\20221229_061532_21C6.mkv: 640x640 Done. (0.021s)\n",
      "video 1/1 (3305/3933) D:\\815_CowDataChecking\\20221229\\20221229_M_cow\\20221229_061532_21C6.mkv: 640x640 Done. (0.017s)\n",
      "video 1/1 (3306/3933) D:\\815_CowDataChecking\\20221229\\20221229_M_cow\\20221229_061532_21C6.mkv: 640x640 Done. (0.018s)\n",
      "video 1/1 (3307/3933) D:\\815_CowDataChecking\\20221229\\20221229_M_cow\\20221229_061532_21C6.mkv: 640x640 Done. (0.017s)\n",
      "video 1/1 (3308/3933) D:\\815_CowDataChecking\\20221229\\20221229_M_cow\\20221229_061532_21C6.mkv: 640x640 Done. (0.016s)\n",
      "video 1/1 (3309/3933) D:\\815_CowDataChecking\\20221229\\20221229_M_cow\\20221229_061532_21C6.mkv: 640x640 Done. (0.018s)\n",
      "video 1/1 (3310/3933) D:\\815_CowDataChecking\\20221229\\20221229_M_cow\\20221229_061532_21C6.mkv: 640x640 Done. (0.017s)\n",
      "video 1/1 (3311/3933) D:\\815_CowDataChecking\\20221229\\20221229_M_cow\\20221229_061532_21C6.mkv: 640x640 Done. (0.015s)\n",
      "video 1/1 (3312/3933) D:\\815_CowDataChecking\\20221229\\20221229_M_cow\\20221229_061532_21C6.mkv: 640x640 Done. (0.017s)\n",
      "video 1/1 (3313/3933) D:\\815_CowDataChecking\\20221229\\20221229_M_cow\\20221229_061532_21C6.mkv: 640x640 Done. (0.017s)\n",
      "video 1/1 (3314/3933) D:\\815_CowDataChecking\\20221229\\20221229_M_cow\\20221229_061532_21C6.mkv: 640x640 Done. (0.017s)\n",
      "video 1/1 (3315/3933) D:\\815_CowDataChecking\\20221229\\20221229_M_cow\\20221229_061532_21C6.mkv: 640x640 Done. (0.015s)\n",
      "video 1/1 (3316/3933) D:\\815_CowDataChecking\\20221229\\20221229_M_cow\\20221229_061532_21C6.mkv: 640x640 Done. (0.017s)\n",
      "video 1/1 (3317/3933) D:\\815_CowDataChecking\\20221229\\20221229_M_cow\\20221229_061532_21C6.mkv: 640x640 Done. (0.020s)\n",
      "video 1/1 (3318/3933) D:\\815_CowDataChecking\\20221229\\20221229_M_cow\\20221229_061532_21C6.mkv: 640x640 Done. (0.015s)\n",
      "video 1/1 (3319/3933) D:\\815_CowDataChecking\\20221229\\20221229_M_cow\\20221229_061532_21C6.mkv: 640x640 Done. (0.017s)\n",
      "video 1/1 (3320/3933) D:\\815_CowDataChecking\\20221229\\20221229_M_cow\\20221229_061532_21C6.mkv: 640x640 Done. (0.019s)\n",
      "video 1/1 (3321/3933) D:\\815_CowDataChecking\\20221229\\20221229_M_cow\\20221229_061532_21C6.mkv: 640x640 Done. (0.018s)\n",
      "video 1/1 (3322/3933) D:\\815_CowDataChecking\\20221229\\20221229_M_cow\\20221229_061532_21C6.mkv: 640x640 Done. (0.016s)\n",
      "video 1/1 (3323/3933) D:\\815_CowDataChecking\\20221229\\20221229_M_cow\\20221229_061532_21C6.mkv: 640x640 Done. (0.017s)\n",
      "video 1/1 (3324/3933) D:\\815_CowDataChecking\\20221229\\20221229_M_cow\\20221229_061532_21C6.mkv: 640x640 Done. (0.016s)\n",
      "video 1/1 (3325/3933) D:\\815_CowDataChecking\\20221229\\20221229_M_cow\\20221229_061532_21C6.mkv: 640x640 Done. (0.021s)\n",
      "video 1/1 (3326/3933) D:\\815_CowDataChecking\\20221229\\20221229_M_cow\\20221229_061532_21C6.mkv: 640x640 Done. (0.025s)\n",
      "video 1/1 (3327/3933) D:\\815_CowDataChecking\\20221229\\20221229_M_cow\\20221229_061532_21C6.mkv: 640x640 Done. (0.020s)\n",
      "video 1/1 (3328/3933) D:\\815_CowDataChecking\\20221229\\20221229_M_cow\\20221229_061532_21C6.mkv: 640x640 Done. (0.022s)\n",
      "video 1/1 (3329/3933) D:\\815_CowDataChecking\\20221229\\20221229_M_cow\\20221229_061532_21C6.mkv: 640x640 Done. (0.023s)\n",
      "video 1/1 (3330/3933) D:\\815_CowDataChecking\\20221229\\20221229_M_cow\\20221229_061532_21C6.mkv: 640x640 Done. (0.023s)\n",
      "video 1/1 (3331/3933) D:\\815_CowDataChecking\\20221229\\20221229_M_cow\\20221229_061532_21C6.mkv: 640x640 Done. (0.022s)\n",
      "video 1/1 (3332/3933) D:\\815_CowDataChecking\\20221229\\20221229_M_cow\\20221229_061532_21C6.mkv: 640x640 Done. (0.022s)\n",
      "video 1/1 (3333/3933) D:\\815_CowDataChecking\\20221229\\20221229_M_cow\\20221229_061532_21C6.mkv: 640x640 Done. (0.025s)\n",
      "video 1/1 (3334/3933) D:\\815_CowDataChecking\\20221229\\20221229_M_cow\\20221229_061532_21C6.mkv: 640x640 Done. (0.023s)\n",
      "video 1/1 (3335/3933) D:\\815_CowDataChecking\\20221229\\20221229_M_cow\\20221229_061532_21C6.mkv: 640x640 Done. (0.023s)\n",
      "video 1/1 (3336/3933) D:\\815_CowDataChecking\\20221229\\20221229_M_cow\\20221229_061532_21C6.mkv: 640x640 Done. (0.050s)\n",
      "video 1/1 (3337/3933) D:\\815_CowDataChecking\\20221229\\20221229_M_cow\\20221229_061532_21C6.mkv: 640x640 Done. (0.046s)\n",
      "video 1/1 (3338/3933) D:\\815_CowDataChecking\\20221229\\20221229_M_cow\\20221229_061532_21C6.mkv: 640x640 Done. (0.042s)\n",
      "video 1/1 (3339/3933) D:\\815_CowDataChecking\\20221229\\20221229_M_cow\\20221229_061532_21C6.mkv: 640x640 Done. (0.047s)\n",
      "video 1/1 (3340/3933) D:\\815_CowDataChecking\\20221229\\20221229_M_cow\\20221229_061532_21C6.mkv: 640x640 Done. (0.043s)\n",
      "video 1/1 (3341/3933) D:\\815_CowDataChecking\\20221229\\20221229_M_cow\\20221229_061532_21C6.mkv: 640x640 Done. (0.043s)\n",
      "video 1/1 (3342/3933) D:\\815_CowDataChecking\\20221229\\20221229_M_cow\\20221229_061532_21C6.mkv: 640x640 Done. (0.044s)\n",
      "video 1/1 (3343/3933) D:\\815_CowDataChecking\\20221229\\20221229_M_cow\\20221229_061532_21C6.mkv: 640x640 Done. (0.019s)\n",
      "video 1/1 (3344/3933) D:\\815_CowDataChecking\\20221229\\20221229_M_cow\\20221229_061532_21C6.mkv: 640x640 Done. (0.019s)\n",
      "video 1/1 (3345/3933) D:\\815_CowDataChecking\\20221229\\20221229_M_cow\\20221229_061532_21C6.mkv: 640x640 Done. (0.022s)\n",
      "video 1/1 (3346/3933) D:\\815_CowDataChecking\\20221229\\20221229_M_cow\\20221229_061532_21C6.mkv: 640x640 Done. (0.019s)\n",
      "video 1/1 (3347/3933) D:\\815_CowDataChecking\\20221229\\20221229_M_cow\\20221229_061532_21C6.mkv: 640x640 Done. (0.019s)\n",
      "video 1/1 (3348/3933) D:\\815_CowDataChecking\\20221229\\20221229_M_cow\\20221229_061532_21C6.mkv: 640x640 Done. (0.019s)\n",
      "video 1/1 (3349/3933) D:\\815_CowDataChecking\\20221229\\20221229_M_cow\\20221229_061532_21C6.mkv: 640x640 Done. (0.019s)\n",
      "video 1/1 (3350/3933) D:\\815_CowDataChecking\\20221229\\20221229_M_cow\\20221229_061532_21C6.mkv: 640x640 Done. (0.020s)\n",
      "video 1/1 (3351/3933) D:\\815_CowDataChecking\\20221229\\20221229_M_cow\\20221229_061532_21C6.mkv: 640x640 Done. (0.019s)\n",
      "video 1/1 (3352/3933) D:\\815_CowDataChecking\\20221229\\20221229_M_cow\\20221229_061532_21C6.mkv: 640x640 Done. (0.020s)\n",
      "video 1/1 (3353/3933) D:\\815_CowDataChecking\\20221229\\20221229_M_cow\\20221229_061532_21C6.mkv: 640x640 Done. (0.021s)\n",
      "video 1/1 (3354/3933) D:\\815_CowDataChecking\\20221229\\20221229_M_cow\\20221229_061532_21C6.mkv: 640x640 Done. (0.019s)\n",
      "video 1/1 (3355/3933) D:\\815_CowDataChecking\\20221229\\20221229_M_cow\\20221229_061532_21C6.mkv: 640x640 Done. (0.017s)\n",
      "video 1/1 (3356/3933) D:\\815_CowDataChecking\\20221229\\20221229_M_cow\\20221229_061532_21C6.mkv: 640x640 Done. (0.018s)\n",
      "video 1/1 (3357/3933) D:\\815_CowDataChecking\\20221229\\20221229_M_cow\\20221229_061532_21C6.mkv: 640x640 Done. (0.017s)\n",
      "video 1/1 (3358/3933) D:\\815_CowDataChecking\\20221229\\20221229_M_cow\\20221229_061532_21C6.mkv: 640x640 Done. (0.017s)\n",
      "video 1/1 (3359/3933) D:\\815_CowDataChecking\\20221229\\20221229_M_cow\\20221229_061532_21C6.mkv: 640x640 Done. (0.020s)\n",
      "video 1/1 (3360/3933) D:\\815_CowDataChecking\\20221229\\20221229_M_cow\\20221229_061532_21C6.mkv: 640x640 Done. (0.019s)\n",
      "video 1/1 (3361/3933) D:\\815_CowDataChecking\\20221229\\20221229_M_cow\\20221229_061532_21C6.mkv: 640x640 Done. (0.017s)\n",
      "video 1/1 (3362/3933) D:\\815_CowDataChecking\\20221229\\20221229_M_cow\\20221229_061532_21C6.mkv: 640x640 Done. (0.020s)\n",
      "video 1/1 (3363/3933) D:\\815_CowDataChecking\\20221229\\20221229_M_cow\\20221229_061532_21C6.mkv: 640x640 Done. (0.016s)\n",
      "video 1/1 (3364/3933) D:\\815_CowDataChecking\\20221229\\20221229_M_cow\\20221229_061532_21C6.mkv: 640x640 Done. (0.017s)\n",
      "video 1/1 (3365/3933) D:\\815_CowDataChecking\\20221229\\20221229_M_cow\\20221229_061532_21C6.mkv: 640x640 Done. (0.024s)\n",
      "video 1/1 (3366/3933) D:\\815_CowDataChecking\\20221229\\20221229_M_cow\\20221229_061532_21C6.mkv: 640x640 Done. (0.022s)\n",
      "video 1/1 (3367/3933) D:\\815_CowDataChecking\\20221229\\20221229_M_cow\\20221229_061532_21C6.mkv: 640x640 Done. (0.025s)\n",
      "video 1/1 (3368/3933) D:\\815_CowDataChecking\\20221229\\20221229_M_cow\\20221229_061532_21C6.mkv: 640x640 Done. (0.021s)\n",
      "video 1/1 (3369/3933) D:\\815_CowDataChecking\\20221229\\20221229_M_cow\\20221229_061532_21C6.mkv: 640x640 Done. (0.044s)\n",
      "video 1/1 (3370/3933) D:\\815_CowDataChecking\\20221229\\20221229_M_cow\\20221229_061532_21C6.mkv: 640x640 Done. (0.048s)\n",
      "video 1/1 (3371/3933) D:\\815_CowDataChecking\\20221229\\20221229_M_cow\\20221229_061532_21C6.mkv: 640x640 Done. (0.046s)\n",
      "video 1/1 (3372/3933) D:\\815_CowDataChecking\\20221229\\20221229_M_cow\\20221229_061532_21C6.mkv: 640x640 Done. (0.042s)\n",
      "video 1/1 (3373/3933) D:\\815_CowDataChecking\\20221229\\20221229_M_cow\\20221229_061532_21C6.mkv: 640x640 Done. (0.018s)\n",
      "video 1/1 (3374/3933) D:\\815_CowDataChecking\\20221229\\20221229_M_cow\\20221229_061532_21C6.mkv: 640x640 Done. (0.019s)\n",
      "video 1/1 (3375/3933) D:\\815_CowDataChecking\\20221229\\20221229_M_cow\\20221229_061532_21C6.mkv: 640x640 Done. (0.017s)\n",
      "video 1/1 (3376/3933) D:\\815_CowDataChecking\\20221229\\20221229_M_cow\\20221229_061532_21C6.mkv: 640x640 Done. (0.017s)\n",
      "video 1/1 (3377/3933) D:\\815_CowDataChecking\\20221229\\20221229_M_cow\\20221229_061532_21C6.mkv: 640x640 Done. (0.016s)\n",
      "video 1/1 (3378/3933) D:\\815_CowDataChecking\\20221229\\20221229_M_cow\\20221229_061532_21C6.mkv: 640x640 Done. (0.016s)\n",
      "video 1/1 (3379/3933) D:\\815_CowDataChecking\\20221229\\20221229_M_cow\\20221229_061532_21C6.mkv: 640x640 Done. (0.016s)\n",
      "video 1/1 (3380/3933) D:\\815_CowDataChecking\\20221229\\20221229_M_cow\\20221229_061532_21C6.mkv: 640x640 Done. (0.016s)\n",
      "video 1/1 (3381/3933) D:\\815_CowDataChecking\\20221229\\20221229_M_cow\\20221229_061532_21C6.mkv: 640x640 Done. (0.017s)\n",
      "video 1/1 (3382/3933) D:\\815_CowDataChecking\\20221229\\20221229_M_cow\\20221229_061532_21C6.mkv: 640x640 Done. (0.018s)\n",
      "video 1/1 (3383/3933) D:\\815_CowDataChecking\\20221229\\20221229_M_cow\\20221229_061532_21C6.mkv: 640x640 Done. (0.017s)\n",
      "video 1/1 (3384/3933) D:\\815_CowDataChecking\\20221229\\20221229_M_cow\\20221229_061532_21C6.mkv: 640x640 Done. (0.016s)\n",
      "video 1/1 (3385/3933) D:\\815_CowDataChecking\\20221229\\20221229_M_cow\\20221229_061532_21C6.mkv: 640x640 Done. (0.018s)\n",
      "video 1/1 (3386/3933) D:\\815_CowDataChecking\\20221229\\20221229_M_cow\\20221229_061532_21C6.mkv: 640x640 Done. (0.018s)\n",
      "video 1/1 (3387/3933) D:\\815_CowDataChecking\\20221229\\20221229_M_cow\\20221229_061532_21C6.mkv: 640x640 Done. (0.016s)\n",
      "video 1/1 (3388/3933) D:\\815_CowDataChecking\\20221229\\20221229_M_cow\\20221229_061532_21C6.mkv: 640x640 Done. (0.017s)\n",
      "video 1/1 (3389/3933) D:\\815_CowDataChecking\\20221229\\20221229_M_cow\\20221229_061532_21C6.mkv: 640x640 Done. (0.019s)\n",
      "video 1/1 (3390/3933) D:\\815_CowDataChecking\\20221229\\20221229_M_cow\\20221229_061532_21C6.mkv: 640x640 Done. (0.018s)\n",
      "video 1/1 (3391/3933) D:\\815_CowDataChecking\\20221229\\20221229_M_cow\\20221229_061532_21C6.mkv: 640x640 Done. (0.018s)\n",
      "video 1/1 (3392/3933) D:\\815_CowDataChecking\\20221229\\20221229_M_cow\\20221229_061532_21C6.mkv: 640x640 Done. (0.019s)\n",
      "video 1/1 (3393/3933) D:\\815_CowDataChecking\\20221229\\20221229_M_cow\\20221229_061532_21C6.mkv: 640x640 Done. (0.017s)\n",
      "video 1/1 (3394/3933) D:\\815_CowDataChecking\\20221229\\20221229_M_cow\\20221229_061532_21C6.mkv: 640x640 Done. (0.019s)\n",
      "video 1/1 (3395/3933) D:\\815_CowDataChecking\\20221229\\20221229_M_cow\\20221229_061532_21C6.mkv: 640x640 Done. (0.022s)\n",
      "video 1/1 (3396/3933) D:\\815_CowDataChecking\\20221229\\20221229_M_cow\\20221229_061532_21C6.mkv: 640x640 Done. (0.021s)\n",
      "video 1/1 (3397/3933) D:\\815_CowDataChecking\\20221229\\20221229_M_cow\\20221229_061532_21C6.mkv: 640x640 Done. (0.049s)\n",
      "video 1/1 (3398/3933) D:\\815_CowDataChecking\\20221229\\20221229_M_cow\\20221229_061532_21C6.mkv: 640x640 Done. (0.044s)\n",
      "video 1/1 (3399/3933) D:\\815_CowDataChecking\\20221229\\20221229_M_cow\\20221229_061532_21C6.mkv: 640x640 Done. (0.048s)\n",
      "video 1/1 (3400/3933) D:\\815_CowDataChecking\\20221229\\20221229_M_cow\\20221229_061532_21C6.mkv: 640x640 Done. (0.042s)\n",
      "video 1/1 (3401/3933) D:\\815_CowDataChecking\\20221229\\20221229_M_cow\\20221229_061532_21C6.mkv: 640x640 Done. (0.051s)\n",
      "video 1/1 (3402/3933) D:\\815_CowDataChecking\\20221229\\20221229_M_cow\\20221229_061532_21C6.mkv: 640x640 Done. (0.042s)\n",
      "video 1/1 (3403/3933) D:\\815_CowDataChecking\\20221229\\20221229_M_cow\\20221229_061532_21C6.mkv: 640x640 Done. (0.055s)\n",
      "video 1/1 (3404/3933) D:\\815_CowDataChecking\\20221229\\20221229_M_cow\\20221229_061532_21C6.mkv: 640x640 Done. (0.014s)\n",
      "video 1/1 (3405/3933) D:\\815_CowDataChecking\\20221229\\20221229_M_cow\\20221229_061532_21C6.mkv: 640x640 Done. (0.017s)\n",
      "video 1/1 (3406/3933) D:\\815_CowDataChecking\\20221229\\20221229_M_cow\\20221229_061532_21C6.mkv: 640x640 Done. (0.016s)\n",
      "video 1/1 (3407/3933) D:\\815_CowDataChecking\\20221229\\20221229_M_cow\\20221229_061532_21C6.mkv: 640x640 Done. (0.014s)\n",
      "video 1/1 (3408/3933) D:\\815_CowDataChecking\\20221229\\20221229_M_cow\\20221229_061532_21C6.mkv: 640x640 Done. (0.017s)\n",
      "video 1/1 (3409/3933) D:\\815_CowDataChecking\\20221229\\20221229_M_cow\\20221229_061532_21C6.mkv: 640x640 Done. (0.016s)\n",
      "video 1/1 (3410/3933) D:\\815_CowDataChecking\\20221229\\20221229_M_cow\\20221229_061532_21C6.mkv: 640x640 Done. (0.014s)\n",
      "video 1/1 (3411/3933) D:\\815_CowDataChecking\\20221229\\20221229_M_cow\\20221229_061532_21C6.mkv: 640x640 Done. (0.017s)\n",
      "video 1/1 (3412/3933) D:\\815_CowDataChecking\\20221229\\20221229_M_cow\\20221229_061532_21C6.mkv: 640x640 Done. (0.015s)\n",
      "video 1/1 (3413/3933) D:\\815_CowDataChecking\\20221229\\20221229_M_cow\\20221229_061532_21C6.mkv: 640x640 Done. (0.017s)\n",
      "video 1/1 (3414/3933) D:\\815_CowDataChecking\\20221229\\20221229_M_cow\\20221229_061532_21C6.mkv: 640x640 Done. (0.014s)\n",
      "video 1/1 (3415/3933) D:\\815_CowDataChecking\\20221229\\20221229_M_cow\\20221229_061532_21C6.mkv: 640x640 Done. (0.014s)\n",
      "video 1/1 (3416/3933) D:\\815_CowDataChecking\\20221229\\20221229_M_cow\\20221229_061532_21C6.mkv: 640x640 Done. (0.016s)\n",
      "video 1/1 (3417/3933) D:\\815_CowDataChecking\\20221229\\20221229_M_cow\\20221229_061532_21C6.mkv: 640x640 Done. (0.015s)\n",
      "video 1/1 (3418/3933) D:\\815_CowDataChecking\\20221229\\20221229_M_cow\\20221229_061532_21C6.mkv: 640x640 Done. (0.015s)\n",
      "video 1/1 (3419/3933) D:\\815_CowDataChecking\\20221229\\20221229_M_cow\\20221229_061532_21C6.mkv: 640x640 Done. (0.016s)\n",
      "video 1/1 (3420/3933) D:\\815_CowDataChecking\\20221229\\20221229_M_cow\\20221229_061532_21C6.mkv: 640x640 Done. (0.014s)\n",
      "video 1/1 (3421/3933) D:\\815_CowDataChecking\\20221229\\20221229_M_cow\\20221229_061532_21C6.mkv: 640x640 Done. (0.015s)\n",
      "video 1/1 (3422/3933) D:\\815_CowDataChecking\\20221229\\20221229_M_cow\\20221229_061532_21C6.mkv: 640x640 Done. (0.016s)\n",
      "video 1/1 (3423/3933) D:\\815_CowDataChecking\\20221229\\20221229_M_cow\\20221229_061532_21C6.mkv: 640x640 Done. (0.017s)\n",
      "video 1/1 (3424/3933) D:\\815_CowDataChecking\\20221229\\20221229_M_cow\\20221229_061532_21C6.mkv: 640x640 Done. (0.013s)\n",
      "video 1/1 (3425/3933) D:\\815_CowDataChecking\\20221229\\20221229_M_cow\\20221229_061532_21C6.mkv: 640x640 Done. (0.014s)\n",
      "video 1/1 (3426/3933) D:\\815_CowDataChecking\\20221229\\20221229_M_cow\\20221229_061532_21C6.mkv: 640x640 Done. (0.023s)\n",
      "video 1/1 (3427/3933) D:\\815_CowDataChecking\\20221229\\20221229_M_cow\\20221229_061532_21C6.mkv: 640x640 Done. (0.019s)\n",
      "video 1/1 (3428/3933) D:\\815_CowDataChecking\\20221229\\20221229_M_cow\\20221229_061532_21C6.mkv: 640x640 Done. (0.018s)\n",
      "video 1/1 (3429/3933) D:\\815_CowDataChecking\\20221229\\20221229_M_cow\\20221229_061532_21C6.mkv: 640x640 Done. (0.018s)\n",
      "video 1/1 (3430/3933) D:\\815_CowDataChecking\\20221229\\20221229_M_cow\\20221229_061532_21C6.mkv: 640x640 Done. (0.021s)\n",
      "video 1/1 (3431/3933) D:\\815_CowDataChecking\\20221229\\20221229_M_cow\\20221229_061532_21C6.mkv: 640x640 Done. (0.022s)\n",
      "video 1/1 (3432/3933) D:\\815_CowDataChecking\\20221229\\20221229_M_cow\\20221229_061532_21C6.mkv: 640x640 Done. (0.022s)\n",
      "video 1/1 (3433/3933) D:\\815_CowDataChecking\\20221229\\20221229_M_cow\\20221229_061532_21C6.mkv: 640x640 Done. (0.025s)\n",
      "video 1/1 (3434/3933) D:\\815_CowDataChecking\\20221229\\20221229_M_cow\\20221229_061532_21C6.mkv: 640x640 Done. (0.019s)\n",
      "video 1/1 (3435/3933) D:\\815_CowDataChecking\\20221229\\20221229_M_cow\\20221229_061532_21C6.mkv: 640x640 Done. (0.022s)\n",
      "video 1/1 (3436/3933) D:\\815_CowDataChecking\\20221229\\20221229_M_cow\\20221229_061532_21C6.mkv: 640x640 Done. (0.022s)\n",
      "video 1/1 (3437/3933) D:\\815_CowDataChecking\\20221229\\20221229_M_cow\\20221229_061532_21C6.mkv: 640x640 Done. (0.024s)\n",
      "video 1/1 (3438/3933) D:\\815_CowDataChecking\\20221229\\20221229_M_cow\\20221229_061532_21C6.mkv: 640x640 Done. (0.045s)\n",
      "video 1/1 (3439/3933) D:\\815_CowDataChecking\\20221229\\20221229_M_cow\\20221229_061532_21C6.mkv: 640x640 Done. (0.049s)\n",
      "video 1/1 (3440/3933) D:\\815_CowDataChecking\\20221229\\20221229_M_cow\\20221229_061532_21C6.mkv: 640x640 Done. (0.048s)\n",
      "video 1/1 (3441/3933) D:\\815_CowDataChecking\\20221229\\20221229_M_cow\\20221229_061532_21C6.mkv: 640x640 Done. (0.046s)\n",
      "video 1/1 (3442/3933) D:\\815_CowDataChecking\\20221229\\20221229_M_cow\\20221229_061532_21C6.mkv: 640x640 Done. (0.041s)\n",
      "video 1/1 (3443/3933) D:\\815_CowDataChecking\\20221229\\20221229_M_cow\\20221229_061532_21C6.mkv: 640x640 Done. (0.053s)\n",
      "video 1/1 (3444/3933) D:\\815_CowDataChecking\\20221229\\20221229_M_cow\\20221229_061532_21C6.mkv: 640x640 Done. (0.048s)\n",
      "video 1/1 (3445/3933) D:\\815_CowDataChecking\\20221229\\20221229_M_cow\\20221229_061532_21C6.mkv: 640x640 Done. (0.018s)\n",
      "video 1/1 (3446/3933) D:\\815_CowDataChecking\\20221229\\20221229_M_cow\\20221229_061532_21C6.mkv: 640x640 Done. (0.014s)\n",
      "video 1/1 (3447/3933) D:\\815_CowDataChecking\\20221229\\20221229_M_cow\\20221229_061532_21C6.mkv: 640x640 Done. (0.017s)\n",
      "video 1/1 (3448/3933) D:\\815_CowDataChecking\\20221229\\20221229_M_cow\\20221229_061532_21C6.mkv: 640x640 Done. (0.014s)\n",
      "video 1/1 (3449/3933) D:\\815_CowDataChecking\\20221229\\20221229_M_cow\\20221229_061532_21C6.mkv: 640x640 Done. (0.014s)\n",
      "video 1/1 (3450/3933) D:\\815_CowDataChecking\\20221229\\20221229_M_cow\\20221229_061532_21C6.mkv: 640x640 Done. (0.014s)\n",
      "video 1/1 (3451/3933) D:\\815_CowDataChecking\\20221229\\20221229_M_cow\\20221229_061532_21C6.mkv: 640x640 Done. (0.014s)\n",
      "video 1/1 (3452/3933) D:\\815_CowDataChecking\\20221229\\20221229_M_cow\\20221229_061532_21C6.mkv: 640x640 Done. (0.015s)\n",
      "video 1/1 (3453/3933) D:\\815_CowDataChecking\\20221229\\20221229_M_cow\\20221229_061532_21C6.mkv: 640x640 Done. (0.016s)\n",
      "video 1/1 (3454/3933) D:\\815_CowDataChecking\\20221229\\20221229_M_cow\\20221229_061532_21C6.mkv: 640x640 Done. (0.014s)\n",
      "video 1/1 (3455/3933) D:\\815_CowDataChecking\\20221229\\20221229_M_cow\\20221229_061532_21C6.mkv: 640x640 Done. (0.013s)\n",
      "video 1/1 (3456/3933) D:\\815_CowDataChecking\\20221229\\20221229_M_cow\\20221229_061532_21C6.mkv: 640x640 Done. (0.019s)\n",
      "video 1/1 (3457/3933) D:\\815_CowDataChecking\\20221229\\20221229_M_cow\\20221229_061532_21C6.mkv: 640x640 Done. (0.016s)\n",
      "video 1/1 (3458/3933) D:\\815_CowDataChecking\\20221229\\20221229_M_cow\\20221229_061532_21C6.mkv: 640x640 Done. (0.013s)\n",
      "video 1/1 (3459/3933) D:\\815_CowDataChecking\\20221229\\20221229_M_cow\\20221229_061532_21C6.mkv: 640x640 Done. (0.013s)\n",
      "video 1/1 (3460/3933) D:\\815_CowDataChecking\\20221229\\20221229_M_cow\\20221229_061532_21C6.mkv: 640x640 Done. (0.014s)\n",
      "video 1/1 (3461/3933) D:\\815_CowDataChecking\\20221229\\20221229_M_cow\\20221229_061532_21C6.mkv: 640x640 Done. (0.016s)\n",
      "video 1/1 (3462/3933) D:\\815_CowDataChecking\\20221229\\20221229_M_cow\\20221229_061532_21C6.mkv: 640x640 Done. (0.014s)\n",
      "video 1/1 (3463/3933) D:\\815_CowDataChecking\\20221229\\20221229_M_cow\\20221229_061532_21C6.mkv: 640x640 Done. (0.014s)\n",
      "video 1/1 (3464/3933) D:\\815_CowDataChecking\\20221229\\20221229_M_cow\\20221229_061532_21C6.mkv: 640x640 Done. (0.017s)\n",
      "video 1/1 (3465/3933) D:\\815_CowDataChecking\\20221229\\20221229_M_cow\\20221229_061532_21C6.mkv: 640x640 Done. (0.014s)\n",
      "video 1/1 (3466/3933) D:\\815_CowDataChecking\\20221229\\20221229_M_cow\\20221229_061532_21C6.mkv: 640x640 Done. (0.016s)\n",
      "video 1/1 (3467/3933) D:\\815_CowDataChecking\\20221229\\20221229_M_cow\\20221229_061532_21C6.mkv: 640x640 Done. (0.019s)\n",
      "video 1/1 (3468/3933) D:\\815_CowDataChecking\\20221229\\20221229_M_cow\\20221229_061532_21C6.mkv: 640x640 Done. (0.023s)\n",
      "video 1/1 (3469/3933) D:\\815_CowDataChecking\\20221229\\20221229_M_cow\\20221229_061532_21C6.mkv: 640x640 Done. (0.020s)\n",
      "video 1/1 (3470/3933) D:\\815_CowDataChecking\\20221229\\20221229_M_cow\\20221229_061532_21C6.mkv: 640x640 Done. (0.019s)\n",
      "video 1/1 (3471/3933) D:\\815_CowDataChecking\\20221229\\20221229_M_cow\\20221229_061532_21C6.mkv: 640x640 Done. (0.021s)\n",
      "video 1/1 (3472/3933) D:\\815_CowDataChecking\\20221229\\20221229_M_cow\\20221229_061532_21C6.mkv: 640x640 Done. (0.022s)\n",
      "video 1/1 (3473/3933) D:\\815_CowDataChecking\\20221229\\20221229_M_cow\\20221229_061532_21C6.mkv: 640x640 Done. (0.021s)\n",
      "video 1/1 (3474/3933) D:\\815_CowDataChecking\\20221229\\20221229_M_cow\\20221229_061532_21C6.mkv: 640x640 Done. (0.022s)\n",
      "video 1/1 (3475/3933) D:\\815_CowDataChecking\\20221229\\20221229_M_cow\\20221229_061532_21C6.mkv: 640x640 Done. (0.023s)\n",
      "video 1/1 (3476/3933) D:\\815_CowDataChecking\\20221229\\20221229_M_cow\\20221229_061532_21C6.mkv: 640x640 Done. (0.020s)\n",
      "video 1/1 (3477/3933) D:\\815_CowDataChecking\\20221229\\20221229_M_cow\\20221229_061532_21C6.mkv: 640x640 Done. (0.022s)\n",
      "video 1/1 (3478/3933) D:\\815_CowDataChecking\\20221229\\20221229_M_cow\\20221229_061532_21C6.mkv: 640x640 Done. (0.020s)\n",
      "video 1/1 (3479/3933) D:\\815_CowDataChecking\\20221229\\20221229_M_cow\\20221229_061532_21C6.mkv: 640x640 Done. (0.050s)\n",
      "video 1/1 (3480/3933) D:\\815_CowDataChecking\\20221229\\20221229_M_cow\\20221229_061532_21C6.mkv: 640x640 Done. (0.046s)\n",
      "video 1/1 (3481/3933) D:\\815_CowDataChecking\\20221229\\20221229_M_cow\\20221229_061532_21C6.mkv: 640x640 Done. (0.045s)\n",
      "video 1/1 (3482/3933) D:\\815_CowDataChecking\\20221229\\20221229_M_cow\\20221229_061532_21C6.mkv: 640x640 Done. (0.042s)\n",
      "video 1/1 (3483/3933) D:\\815_CowDataChecking\\20221229\\20221229_M_cow\\20221229_061532_21C6.mkv: 640x640 Done. (0.050s)\n",
      "video 1/1 (3484/3933) D:\\815_CowDataChecking\\20221229\\20221229_M_cow\\20221229_061532_21C6.mkv: 640x640 Done. (0.045s)\n",
      "video 1/1 (3485/3933) D:\\815_CowDataChecking\\20221229\\20221229_M_cow\\20221229_061532_21C6.mkv: 640x640 Done. (0.040s)\n",
      "video 1/1 (3486/3933) D:\\815_CowDataChecking\\20221229\\20221229_M_cow\\20221229_061532_21C6.mkv: 640x640 Done. (0.019s)\n",
      "video 1/1 (3487/3933) D:\\815_CowDataChecking\\20221229\\20221229_M_cow\\20221229_061532_21C6.mkv: 640x640 Done. (0.016s)\n",
      "video 1/1 (3488/3933) D:\\815_CowDataChecking\\20221229\\20221229_M_cow\\20221229_061532_21C6.mkv: 640x640 Done. (0.018s)\n",
      "video 1/1 (3489/3933) D:\\815_CowDataChecking\\20221229\\20221229_M_cow\\20221229_061532_21C6.mkv: 640x640 Done. (0.018s)\n",
      "video 1/1 (3490/3933) D:\\815_CowDataChecking\\20221229\\20221229_M_cow\\20221229_061532_21C6.mkv: 640x640 Done. (0.018s)\n",
      "video 1/1 (3491/3933) D:\\815_CowDataChecking\\20221229\\20221229_M_cow\\20221229_061532_21C6.mkv: 640x640 Done. (0.017s)\n",
      "video 1/1 (3492/3933) D:\\815_CowDataChecking\\20221229\\20221229_M_cow\\20221229_061532_21C6.mkv: 640x640 Done. (0.016s)\n",
      "video 1/1 (3493/3933) D:\\815_CowDataChecking\\20221229\\20221229_M_cow\\20221229_061532_21C6.mkv: 640x640 Done. (0.020s)\n",
      "video 1/1 (3494/3933) D:\\815_CowDataChecking\\20221229\\20221229_M_cow\\20221229_061532_21C6.mkv: 640x640 Done. (0.017s)\n",
      "video 1/1 (3495/3933) D:\\815_CowDataChecking\\20221229\\20221229_M_cow\\20221229_061532_21C6.mkv: 640x640 Done. (0.019s)\n",
      "video 1/1 (3496/3933) D:\\815_CowDataChecking\\20221229\\20221229_M_cow\\20221229_061532_21C6.mkv: 640x640 Done. (0.017s)\n",
      "video 1/1 (3497/3933) D:\\815_CowDataChecking\\20221229\\20221229_M_cow\\20221229_061532_21C6.mkv: 640x640 Done. (0.017s)\n",
      "video 1/1 (3498/3933) D:\\815_CowDataChecking\\20221229\\20221229_M_cow\\20221229_061532_21C6.mkv: 640x640 Done. (0.017s)\n",
      "video 1/1 (3499/3933) D:\\815_CowDataChecking\\20221229\\20221229_M_cow\\20221229_061532_21C6.mkv: 640x640 Done. (0.018s)\n",
      "video 1/1 (3500/3933) D:\\815_CowDataChecking\\20221229\\20221229_M_cow\\20221229_061532_21C6.mkv: 640x640 Done. (0.017s)\n",
      "video 1/1 (3501/3933) D:\\815_CowDataChecking\\20221229\\20221229_M_cow\\20221229_061532_21C6.mkv: 640x640 Done. (0.020s)\n",
      "video 1/1 (3502/3933) D:\\815_CowDataChecking\\20221229\\20221229_M_cow\\20221229_061532_21C6.mkv: 640x640 Done. (0.018s)\n",
      "video 1/1 (3503/3933) D:\\815_CowDataChecking\\20221229\\20221229_M_cow\\20221229_061532_21C6.mkv: 640x640 Done. (0.018s)\n",
      "video 1/1 (3504/3933) D:\\815_CowDataChecking\\20221229\\20221229_M_cow\\20221229_061532_21C6.mkv: 640x640 Done. (0.017s)\n",
      "video 1/1 (3505/3933) D:\\815_CowDataChecking\\20221229\\20221229_M_cow\\20221229_061532_21C6.mkv: 640x640 Done. (0.016s)\n",
      "video 1/1 (3506/3933) D:\\815_CowDataChecking\\20221229\\20221229_M_cow\\20221229_061532_21C6.mkv: 640x640 Done. (0.016s)\n",
      "video 1/1 (3507/3933) D:\\815_CowDataChecking\\20221229\\20221229_M_cow\\20221229_061532_21C6.mkv: 640x640 Done. (0.016s)\n",
      "video 1/1 (3508/3933) D:\\815_CowDataChecking\\20221229\\20221229_M_cow\\20221229_061532_21C6.mkv: 640x640 Done. (0.021s)\n",
      "video 1/1 (3509/3933) D:\\815_CowDataChecking\\20221229\\20221229_M_cow\\20221229_061532_21C6.mkv: 640x640 Done. (0.023s)\n",
      "video 1/1 (3510/3933) D:\\815_CowDataChecking\\20221229\\20221229_M_cow\\20221229_061532_21C6.mkv: 640x640 Done. (0.023s)\n",
      "video 1/1 (3511/3933) D:\\815_CowDataChecking\\20221229\\20221229_M_cow\\20221229_061532_21C6.mkv: 640x640 Done. (0.022s)\n",
      "video 1/1 (3512/3933) D:\\815_CowDataChecking\\20221229\\20221229_M_cow\\20221229_061532_21C6.mkv: 640x640 Done. (0.053s)\n",
      "video 1/1 (3513/3933) D:\\815_CowDataChecking\\20221229\\20221229_M_cow\\20221229_061532_21C6.mkv: 640x640 Done. (0.049s)\n",
      "video 1/1 (3514/3933) D:\\815_CowDataChecking\\20221229\\20221229_M_cow\\20221229_061532_21C6.mkv: 640x640 Done. (0.018s)\n",
      "video 1/1 (3515/3933) D:\\815_CowDataChecking\\20221229\\20221229_M_cow\\20221229_061532_21C6.mkv: 640x640 Done. (0.018s)\n",
      "video 1/1 (3516/3933) D:\\815_CowDataChecking\\20221229\\20221229_M_cow\\20221229_061532_21C6.mkv: 640x640 Done. (0.018s)\n",
      "video 1/1 (3517/3933) D:\\815_CowDataChecking\\20221229\\20221229_M_cow\\20221229_061532_21C6.mkv: 640x640 Done. (0.019s)\n",
      "video 1/1 (3518/3933) D:\\815_CowDataChecking\\20221229\\20221229_M_cow\\20221229_061532_21C6.mkv: 640x640 Done. (0.018s)\n",
      "video 1/1 (3519/3933) D:\\815_CowDataChecking\\20221229\\20221229_M_cow\\20221229_061532_21C6.mkv: 640x640 Done. (0.018s)\n",
      "video 1/1 (3520/3933) D:\\815_CowDataChecking\\20221229\\20221229_M_cow\\20221229_061532_21C6.mkv: 640x640 Done. (0.018s)\n",
      "video 1/1 (3521/3933) D:\\815_CowDataChecking\\20221229\\20221229_M_cow\\20221229_061532_21C6.mkv: 640x640 Done. (0.018s)\n",
      "video 1/1 (3522/3933) D:\\815_CowDataChecking\\20221229\\20221229_M_cow\\20221229_061532_21C6.mkv: 640x640 Done. (0.019s)\n",
      "video 1/1 (3523/3933) D:\\815_CowDataChecking\\20221229\\20221229_M_cow\\20221229_061532_21C6.mkv: 640x640 Done. (0.017s)\n",
      "video 1/1 (3524/3933) D:\\815_CowDataChecking\\20221229\\20221229_M_cow\\20221229_061532_21C6.mkv: 640x640 Done. (0.019s)\n",
      "video 1/1 (3525/3933) D:\\815_CowDataChecking\\20221229\\20221229_M_cow\\20221229_061532_21C6.mkv: 640x640 Done. (0.017s)\n",
      "video 1/1 (3526/3933) D:\\815_CowDataChecking\\20221229\\20221229_M_cow\\20221229_061532_21C6.mkv: 640x640 Done. (0.020s)\n",
      "video 1/1 (3527/3933) D:\\815_CowDataChecking\\20221229\\20221229_M_cow\\20221229_061532_21C6.mkv: 640x640 Done. (0.016s)\n",
      "video 1/1 (3528/3933) D:\\815_CowDataChecking\\20221229\\20221229_M_cow\\20221229_061532_21C6.mkv: 640x640 Done. (0.018s)\n",
      "video 1/1 (3529/3933) D:\\815_CowDataChecking\\20221229\\20221229_M_cow\\20221229_061532_21C6.mkv: 640x640 Done. (0.017s)\n",
      "video 1/1 (3530/3933) D:\\815_CowDataChecking\\20221229\\20221229_M_cow\\20221229_061532_21C6.mkv: 640x640 Done. (0.017s)\n",
      "video 1/1 (3531/3933) D:\\815_CowDataChecking\\20221229\\20221229_M_cow\\20221229_061532_21C6.mkv: 640x640 Done. (0.019s)\n",
      "video 1/1 (3532/3933) D:\\815_CowDataChecking\\20221229\\20221229_M_cow\\20221229_061532_21C6.mkv: 640x640 Done. (0.018s)\n",
      "video 1/1 (3533/3933) D:\\815_CowDataChecking\\20221229\\20221229_M_cow\\20221229_061532_21C6.mkv: 640x640 Done. (0.019s)\n",
      "video 1/1 (3534/3933) D:\\815_CowDataChecking\\20221229\\20221229_M_cow\\20221229_061532_21C6.mkv: 640x640 Done. (0.019s)\n",
      "video 1/1 (3535/3933) D:\\815_CowDataChecking\\20221229\\20221229_M_cow\\20221229_061532_21C6.mkv: 640x640 Done. (0.020s)\n",
      "video 1/1 (3536/3933) D:\\815_CowDataChecking\\20221229\\20221229_M_cow\\20221229_061532_21C6.mkv: 640x640 Done. (0.020s)\n",
      "video 1/1 (3537/3933) D:\\815_CowDataChecking\\20221229\\20221229_M_cow\\20221229_061532_21C6.mkv: 640x640 Done. (0.020s)\n",
      "video 1/1 (3538/3933) D:\\815_CowDataChecking\\20221229\\20221229_M_cow\\20221229_061532_21C6.mkv: 640x640 Done. (0.019s)\n",
      "video 1/1 (3539/3933) D:\\815_CowDataChecking\\20221229\\20221229_M_cow\\20221229_061532_21C6.mkv: 640x640 Done. (0.021s)\n",
      "video 1/1 (3540/3933) D:\\815_CowDataChecking\\20221229\\20221229_M_cow\\20221229_061532_21C6.mkv: 640x640 Done. (0.019s)\n",
      "video 1/1 (3541/3933) D:\\815_CowDataChecking\\20221229\\20221229_M_cow\\20221229_061532_21C6.mkv: 640x640 Done. (0.020s)\n",
      "video 1/1 (3542/3933) D:\\815_CowDataChecking\\20221229\\20221229_M_cow\\20221229_061532_21C6.mkv: 640x640 Done. (0.022s)\n",
      "video 1/1 (3543/3933) D:\\815_CowDataChecking\\20221229\\20221229_M_cow\\20221229_061532_21C6.mkv: 640x640 Done. (0.018s)\n",
      "video 1/1 (3544/3933) D:\\815_CowDataChecking\\20221229\\20221229_M_cow\\20221229_061532_21C6.mkv: 640x640 Done. (0.022s)\n",
      "video 1/1 (3545/3933) D:\\815_CowDataChecking\\20221229\\20221229_M_cow\\20221229_061532_21C6.mkv: 640x640 Done. (0.021s)\n",
      "video 1/1 (3546/3933) D:\\815_CowDataChecking\\20221229\\20221229_M_cow\\20221229_061532_21C6.mkv: 640x640 Done. (0.021s)\n",
      "video 1/1 (3547/3933) D:\\815_CowDataChecking\\20221229\\20221229_M_cow\\20221229_061532_21C6.mkv: 640x640 Done. (0.042s)\n",
      "video 1/1 (3548/3933) D:\\815_CowDataChecking\\20221229\\20221229_M_cow\\20221229_061532_21C6.mkv: 640x640 Done. (0.049s)\n",
      "video 1/1 (3549/3933) D:\\815_CowDataChecking\\20221229\\20221229_M_cow\\20221229_061532_21C6.mkv: 640x640 Done. (0.051s)\n",
      "video 1/1 (3550/3933) D:\\815_CowDataChecking\\20221229\\20221229_M_cow\\20221229_061532_21C6.mkv: 640x640 Done. (0.050s)\n",
      "video 1/1 (3551/3933) D:\\815_CowDataChecking\\20221229\\20221229_M_cow\\20221229_061532_21C6.mkv: 640x640 Done. (0.046s)\n",
      "video 1/1 (3552/3933) D:\\815_CowDataChecking\\20221229\\20221229_M_cow\\20221229_061532_21C6.mkv: 640x640 Done. (0.019s)\n",
      "video 1/1 (3553/3933) D:\\815_CowDataChecking\\20221229\\20221229_M_cow\\20221229_061532_21C6.mkv: 640x640 Done. (0.017s)\n",
      "video 1/1 (3554/3933) D:\\815_CowDataChecking\\20221229\\20221229_M_cow\\20221229_061532_21C6.mkv: 640x640 Done. (0.016s)\n",
      "video 1/1 (3555/3933) D:\\815_CowDataChecking\\20221229\\20221229_M_cow\\20221229_061532_21C6.mkv: 640x640 Done. (0.018s)\n",
      "video 1/1 (3556/3933) D:\\815_CowDataChecking\\20221229\\20221229_M_cow\\20221229_061532_21C6.mkv: 640x640 Done. (0.017s)\n",
      "video 1/1 (3557/3933) D:\\815_CowDataChecking\\20221229\\20221229_M_cow\\20221229_061532_21C6.mkv: 640x640 Done. (0.018s)\n",
      "video 1/1 (3558/3933) D:\\815_CowDataChecking\\20221229\\20221229_M_cow\\20221229_061532_21C6.mkv: 640x640 Done. (0.019s)\n",
      "video 1/1 (3559/3933) D:\\815_CowDataChecking\\20221229\\20221229_M_cow\\20221229_061532_21C6.mkv: 640x640 Done. (0.018s)\n",
      "video 1/1 (3560/3933) D:\\815_CowDataChecking\\20221229\\20221229_M_cow\\20221229_061532_21C6.mkv: 640x640 Done. (0.017s)\n",
      "video 1/1 (3561/3933) D:\\815_CowDataChecking\\20221229\\20221229_M_cow\\20221229_061532_21C6.mkv: 640x640 Done. (0.019s)\n",
      "video 1/1 (3562/3933) D:\\815_CowDataChecking\\20221229\\20221229_M_cow\\20221229_061532_21C6.mkv: 640x640 Done. (0.018s)\n",
      "video 1/1 (3563/3933) D:\\815_CowDataChecking\\20221229\\20221229_M_cow\\20221229_061532_21C6.mkv: 640x640 Done. (0.017s)\n",
      "video 1/1 (3564/3933) D:\\815_CowDataChecking\\20221229\\20221229_M_cow\\20221229_061532_21C6.mkv: 640x640 Done. (0.021s)\n",
      "video 1/1 (3565/3933) D:\\815_CowDataChecking\\20221229\\20221229_M_cow\\20221229_061532_21C6.mkv: 640x640 Done. (0.018s)\n",
      "video 1/1 (3566/3933) D:\\815_CowDataChecking\\20221229\\20221229_M_cow\\20221229_061532_21C6.mkv: 640x640 Done. (0.016s)\n",
      "video 1/1 (3567/3933) D:\\815_CowDataChecking\\20221229\\20221229_M_cow\\20221229_061532_21C6.mkv: 640x640 Done. (0.018s)\n",
      "video 1/1 (3568/3933) D:\\815_CowDataChecking\\20221229\\20221229_M_cow\\20221229_061532_21C6.mkv: 640x640 Done. (0.020s)\n",
      "video 1/1 (3569/3933) D:\\815_CowDataChecking\\20221229\\20221229_M_cow\\20221229_061532_21C6.mkv: 640x640 Done. (0.018s)\n",
      "video 1/1 (3570/3933) D:\\815_CowDataChecking\\20221229\\20221229_M_cow\\20221229_061532_21C6.mkv: 640x640 Done. (0.016s)\n",
      "video 1/1 (3571/3933) D:\\815_CowDataChecking\\20221229\\20221229_M_cow\\20221229_061532_21C6.mkv: 640x640 Done. (0.019s)\n",
      "video 1/1 (3572/3933) D:\\815_CowDataChecking\\20221229\\20221229_M_cow\\20221229_061532_21C6.mkv: 640x640 Done. (0.019s)\n",
      "video 1/1 (3573/3933) D:\\815_CowDataChecking\\20221229\\20221229_M_cow\\20221229_061532_21C6.mkv: 640x640 Done. (0.017s)\n",
      "video 1/1 (3574/3933) D:\\815_CowDataChecking\\20221229\\20221229_M_cow\\20221229_061532_21C6.mkv: 640x640 Done. (0.045s)\n",
      "video 1/1 (3575/3933) D:\\815_CowDataChecking\\20221229\\20221229_M_cow\\20221229_061532_21C6.mkv: 640x640 Done. (0.053s)\n",
      "video 1/1 (3576/3933) D:\\815_CowDataChecking\\20221229\\20221229_M_cow\\20221229_061532_21C6.mkv: 640x640 Done. (0.049s)\n",
      "video 1/1 (3577/3933) D:\\815_CowDataChecking\\20221229\\20221229_M_cow\\20221229_061532_21C6.mkv: 640x640 Done. (0.053s)\n",
      "video 1/1 (3578/3933) D:\\815_CowDataChecking\\20221229\\20221229_M_cow\\20221229_061532_21C6.mkv: 640x640 Done. (0.048s)\n",
      "video 1/1 (3579/3933) D:\\815_CowDataChecking\\20221229\\20221229_M_cow\\20221229_061532_21C6.mkv: 640x640 Done. (0.015s)\n",
      "video 1/1 (3580/3933) D:\\815_CowDataChecking\\20221229\\20221229_M_cow\\20221229_061532_21C6.mkv: 640x640 Done. (0.016s)\n",
      "video 1/1 (3581/3933) D:\\815_CowDataChecking\\20221229\\20221229_M_cow\\20221229_061532_21C6.mkv: 640x640 Done. (0.016s)\n",
      "video 1/1 (3582/3933) D:\\815_CowDataChecking\\20221229\\20221229_M_cow\\20221229_061532_21C6.mkv: 640x640 Done. (0.016s)\n",
      "video 1/1 (3583/3933) D:\\815_CowDataChecking\\20221229\\20221229_M_cow\\20221229_061532_21C6.mkv: 640x640 Done. (0.018s)\n",
      "video 1/1 (3584/3933) D:\\815_CowDataChecking\\20221229\\20221229_M_cow\\20221229_061532_21C6.mkv: 640x640 Done. (0.018s)\n",
      "video 1/1 (3585/3933) D:\\815_CowDataChecking\\20221229\\20221229_M_cow\\20221229_061532_21C6.mkv: 640x640 Done. (0.016s)\n",
      "video 1/1 (3586/3933) D:\\815_CowDataChecking\\20221229\\20221229_M_cow\\20221229_061532_21C6.mkv: 640x640 Done. (0.016s)\n",
      "video 1/1 (3587/3933) D:\\815_CowDataChecking\\20221229\\20221229_M_cow\\20221229_061532_21C6.mkv: 640x640 Done. (0.017s)\n",
      "video 1/1 (3588/3933) D:\\815_CowDataChecking\\20221229\\20221229_M_cow\\20221229_061532_21C6.mkv: 640x640 Done. (0.018s)\n",
      "video 1/1 (3589/3933) D:\\815_CowDataChecking\\20221229\\20221229_M_cow\\20221229_061532_21C6.mkv: 640x640 Done. (0.017s)\n",
      "video 1/1 (3590/3933) D:\\815_CowDataChecking\\20221229\\20221229_M_cow\\20221229_061532_21C6.mkv: 640x640 Done. (0.015s)\n",
      "video 1/1 (3591/3933) D:\\815_CowDataChecking\\20221229\\20221229_M_cow\\20221229_061532_21C6.mkv: 640x640 Done. (0.015s)\n",
      "video 1/1 (3592/3933) D:\\815_CowDataChecking\\20221229\\20221229_M_cow\\20221229_061532_21C6.mkv: 640x640 Done. (0.015s)\n",
      "video 1/1 (3593/3933) D:\\815_CowDataChecking\\20221229\\20221229_M_cow\\20221229_061532_21C6.mkv: 640x640 Done. (0.018s)\n",
      "video 1/1 (3594/3933) D:\\815_CowDataChecking\\20221229\\20221229_M_cow\\20221229_061532_21C6.mkv: 640x640 Done. (0.017s)\n",
      "video 1/1 (3595/3933) D:\\815_CowDataChecking\\20221229\\20221229_M_cow\\20221229_061532_21C6.mkv: 640x640 Done. (0.016s)\n",
      "video 1/1 (3596/3933) D:\\815_CowDataChecking\\20221229\\20221229_M_cow\\20221229_061532_21C6.mkv: 640x640 Done. (0.016s)\n",
      "video 1/1 (3597/3933) D:\\815_CowDataChecking\\20221229\\20221229_M_cow\\20221229_061532_21C6.mkv: 640x640 Done. (0.016s)\n",
      "video 1/1 (3598/3933) D:\\815_CowDataChecking\\20221229\\20221229_M_cow\\20221229_061532_21C6.mkv: 640x640 Done. (0.017s)\n",
      "video 1/1 (3599/3933) D:\\815_CowDataChecking\\20221229\\20221229_M_cow\\20221229_061532_21C6.mkv: 640x640 Done. (0.017s)\n",
      "video 1/1 (3600/3933) D:\\815_CowDataChecking\\20221229\\20221229_M_cow\\20221229_061532_21C6.mkv: 640x640 Done. (0.015s)\n",
      "video 1/1 (3601/3933) D:\\815_CowDataChecking\\20221229\\20221229_M_cow\\20221229_061532_21C6.mkv: 640x640 Done. (0.047s)\n",
      "video 1/1 (3602/3933) D:\\815_CowDataChecking\\20221229\\20221229_M_cow\\20221229_061532_21C6.mkv: 640x640 Done. (0.048s)\n",
      "video 1/1 (3603/3933) D:\\815_CowDataChecking\\20221229\\20221229_M_cow\\20221229_061532_21C6.mkv: 640x640 Done. (0.017s)\n",
      "video 1/1 (3604/3933) D:\\815_CowDataChecking\\20221229\\20221229_M_cow\\20221229_061532_21C6.mkv: 640x640 Done. (0.019s)\n",
      "video 1/1 (3605/3933) D:\\815_CowDataChecking\\20221229\\20221229_M_cow\\20221229_061532_21C6.mkv: 640x640 Done. (0.017s)\n",
      "video 1/1 (3606/3933) D:\\815_CowDataChecking\\20221229\\20221229_M_cow\\20221229_061532_21C6.mkv: 640x640 Done. (0.019s)\n",
      "video 1/1 (3607/3933) D:\\815_CowDataChecking\\20221229\\20221229_M_cow\\20221229_061532_21C6.mkv: 640x640 Done. (0.018s)\n",
      "video 1/1 (3608/3933) D:\\815_CowDataChecking\\20221229\\20221229_M_cow\\20221229_061532_21C6.mkv: 640x640 Done. (0.019s)\n",
      "video 1/1 (3609/3933) D:\\815_CowDataChecking\\20221229\\20221229_M_cow\\20221229_061532_21C6.mkv: 640x640 Done. (0.020s)\n",
      "video 1/1 (3610/3933) D:\\815_CowDataChecking\\20221229\\20221229_M_cow\\20221229_061532_21C6.mkv: 640x640 Done. (0.019s)\n",
      "video 1/1 (3611/3933) D:\\815_CowDataChecking\\20221229\\20221229_M_cow\\20221229_061532_21C6.mkv: 640x640 Done. (0.019s)\n",
      "video 1/1 (3612/3933) D:\\815_CowDataChecking\\20221229\\20221229_M_cow\\20221229_061532_21C6.mkv: 640x640 Done. (0.018s)\n",
      "video 1/1 (3613/3933) D:\\815_CowDataChecking\\20221229\\20221229_M_cow\\20221229_061532_21C6.mkv: 640x640 Done. (0.018s)\n",
      "video 1/1 (3614/3933) D:\\815_CowDataChecking\\20221229\\20221229_M_cow\\20221229_061532_21C6.mkv: 640x640 Done. (0.018s)\n",
      "video 1/1 (3615/3933) D:\\815_CowDataChecking\\20221229\\20221229_M_cow\\20221229_061532_21C6.mkv: 640x640 Done. (0.017s)\n",
      "video 1/1 (3616/3933) D:\\815_CowDataChecking\\20221229\\20221229_M_cow\\20221229_061532_21C6.mkv: 640x640 Done. (0.020s)\n",
      "video 1/1 (3617/3933) D:\\815_CowDataChecking\\20221229\\20221229_M_cow\\20221229_061532_21C6.mkv: 640x640 Done. (0.019s)\n",
      "video 1/1 (3618/3933) D:\\815_CowDataChecking\\20221229\\20221229_M_cow\\20221229_061532_21C6.mkv: 640x640 Done. (0.019s)\n",
      "video 1/1 (3619/3933) D:\\815_CowDataChecking\\20221229\\20221229_M_cow\\20221229_061532_21C6.mkv: 640x640 Done. (0.017s)\n",
      "video 1/1 (3620/3933) D:\\815_CowDataChecking\\20221229\\20221229_M_cow\\20221229_061532_21C6.mkv: 640x640 Done. (0.017s)\n",
      "video 1/1 (3621/3933) D:\\815_CowDataChecking\\20221229\\20221229_M_cow\\20221229_061532_21C6.mkv: 640x640 Done. (0.019s)\n",
      "video 1/1 (3622/3933) D:\\815_CowDataChecking\\20221229\\20221229_M_cow\\20221229_061532_21C6.mkv: 640x640 Done. (0.016s)\n",
      "video 1/1 (3623/3933) D:\\815_CowDataChecking\\20221229\\20221229_M_cow\\20221229_061532_21C6.mkv: 640x640 Done. (0.019s)\n",
      "video 1/1 (3624/3933) D:\\815_CowDataChecking\\20221229\\20221229_M_cow\\20221229_061532_21C6.mkv: 640x640 Done. (0.023s)\n",
      "video 1/1 (3625/3933) D:\\815_CowDataChecking\\20221229\\20221229_M_cow\\20221229_061532_21C6.mkv: 640x640 Done. (0.021s)\n",
      "video 1/1 (3626/3933) D:\\815_CowDataChecking\\20221229\\20221229_M_cow\\20221229_061532_21C6.mkv: 640x640 Done. (0.023s)\n",
      "video 1/1 (3627/3933) D:\\815_CowDataChecking\\20221229\\20221229_M_cow\\20221229_061532_21C6.mkv: 640x640 Done. (0.024s)\n",
      "video 1/1 (3628/3933) D:\\815_CowDataChecking\\20221229\\20221229_M_cow\\20221229_061532_21C6.mkv: 640x640 Done. (0.023s)\n",
      "video 1/1 (3629/3933) D:\\815_CowDataChecking\\20221229\\20221229_M_cow\\20221229_061532_21C6.mkv: 640x640 Done. (0.052s)\n",
      "video 1/1 (3630/3933) D:\\815_CowDataChecking\\20221229\\20221229_M_cow\\20221229_061532_21C6.mkv: 640x640 Done. (0.051s)\n",
      "video 1/1 (3631/3933) D:\\815_CowDataChecking\\20221229\\20221229_M_cow\\20221229_061532_21C6.mkv: 640x640 Done. (0.049s)\n",
      "video 1/1 (3632/3933) D:\\815_CowDataChecking\\20221229\\20221229_M_cow\\20221229_061532_21C6.mkv: 640x640 Done. (0.058s)\n",
      "video 1/1 (3633/3933) D:\\815_CowDataChecking\\20221229\\20221229_M_cow\\20221229_061532_21C6.mkv: 640x640 Done. (0.047s)\n",
      "video 1/1 (3634/3933) D:\\815_CowDataChecking\\20221229\\20221229_M_cow\\20221229_061532_21C6.mkv: 640x640 Done. (0.015s)\n",
      "video 1/1 (3635/3933) D:\\815_CowDataChecking\\20221229\\20221229_M_cow\\20221229_061532_21C6.mkv: 640x640 Done. (0.017s)\n",
      "video 1/1 (3636/3933) D:\\815_CowDataChecking\\20221229\\20221229_M_cow\\20221229_061532_21C6.mkv: 640x640 Done. (0.017s)\n",
      "video 1/1 (3637/3933) D:\\815_CowDataChecking\\20221229\\20221229_M_cow\\20221229_061532_21C6.mkv: 640x640 Done. (0.018s)\n",
      "video 1/1 (3638/3933) D:\\815_CowDataChecking\\20221229\\20221229_M_cow\\20221229_061532_21C6.mkv: 640x640 Done. (0.017s)\n",
      "video 1/1 (3639/3933) D:\\815_CowDataChecking\\20221229\\20221229_M_cow\\20221229_061532_21C6.mkv: 640x640 Done. (0.017s)\n",
      "video 1/1 (3640/3933) D:\\815_CowDataChecking\\20221229\\20221229_M_cow\\20221229_061532_21C6.mkv: 640x640 Done. (0.017s)\n",
      "video 1/1 (3641/3933) D:\\815_CowDataChecking\\20221229\\20221229_M_cow\\20221229_061532_21C6.mkv: 640x640 Done. (0.016s)\n",
      "video 1/1 (3642/3933) D:\\815_CowDataChecking\\20221229\\20221229_M_cow\\20221229_061532_21C6.mkv: 640x640 Done. (0.015s)\n",
      "video 1/1 (3643/3933) D:\\815_CowDataChecking\\20221229\\20221229_M_cow\\20221229_061532_21C6.mkv: 640x640 Done. (0.017s)\n",
      "video 1/1 (3644/3933) D:\\815_CowDataChecking\\20221229\\20221229_M_cow\\20221229_061532_21C6.mkv: 640x640 Done. (0.019s)\n",
      "video 1/1 (3645/3933) D:\\815_CowDataChecking\\20221229\\20221229_M_cow\\20221229_061532_21C6.mkv: 640x640 Done. (0.018s)\n",
      "video 1/1 (3646/3933) D:\\815_CowDataChecking\\20221229\\20221229_M_cow\\20221229_061532_21C6.mkv: 640x640 Done. (0.016s)\n",
      "video 1/1 (3647/3933) D:\\815_CowDataChecking\\20221229\\20221229_M_cow\\20221229_061532_21C6.mkv: 640x640 Done. (0.016s)\n",
      "video 1/1 (3648/3933) D:\\815_CowDataChecking\\20221229\\20221229_M_cow\\20221229_061532_21C6.mkv: 640x640 Done. (0.017s)\n",
      "video 1/1 (3649/3933) D:\\815_CowDataChecking\\20221229\\20221229_M_cow\\20221229_061532_21C6.mkv: 640x640 Done. (0.015s)\n",
      "video 1/1 (3650/3933) D:\\815_CowDataChecking\\20221229\\20221229_M_cow\\20221229_061532_21C6.mkv: 640x640 Done. (0.015s)\n",
      "video 1/1 (3651/3933) D:\\815_CowDataChecking\\20221229\\20221229_M_cow\\20221229_061532_21C6.mkv: 640x640 Done. (0.016s)\n",
      "video 1/1 (3652/3933) D:\\815_CowDataChecking\\20221229\\20221229_M_cow\\20221229_061532_21C6.mkv: 640x640 Done. (0.019s)\n",
      "video 1/1 (3653/3933) D:\\815_CowDataChecking\\20221229\\20221229_M_cow\\20221229_061532_21C6.mkv: 640x640 Done. (0.016s)\n",
      "video 1/1 (3654/3933) D:\\815_CowDataChecking\\20221229\\20221229_M_cow\\20221229_061532_21C6.mkv: 640x640 Done. (0.017s)\n",
      "video 1/1 (3655/3933) D:\\815_CowDataChecking\\20221229\\20221229_M_cow\\20221229_061532_21C6.mkv: 640x640 Done. (0.016s)\n",
      "video 1/1 (3656/3933) D:\\815_CowDataChecking\\20221229\\20221229_M_cow\\20221229_061532_21C6.mkv: 640x640 Done. (0.051s)\n",
      "video 1/1 (3657/3933) D:\\815_CowDataChecking\\20221229\\20221229_M_cow\\20221229_061532_21C6.mkv: 640x640 Done. (0.046s)\n",
      "video 1/1 (3658/3933) D:\\815_CowDataChecking\\20221229\\20221229_M_cow\\20221229_061532_21C6.mkv: 640x640 Done. (0.047s)\n",
      "video 1/1 (3659/3933) D:\\815_CowDataChecking\\20221229\\20221229_M_cow\\20221229_061532_21C6.mkv: 640x640 Done. (0.042s)\n",
      "video 1/1 (3660/3933) D:\\815_CowDataChecking\\20221229\\20221229_M_cow\\20221229_061532_21C6.mkv: 640x640 Done. (0.054s)\n",
      "video 1/1 (3661/3933) D:\\815_CowDataChecking\\20221229\\20221229_M_cow\\20221229_061532_21C6.mkv: 640x640 Done. (0.017s)\n",
      "video 1/1 (3662/3933) D:\\815_CowDataChecking\\20221229\\20221229_M_cow\\20221229_061532_21C6.mkv: 640x640 Done. (0.018s)\n",
      "video 1/1 (3663/3933) D:\\815_CowDataChecking\\20221229\\20221229_M_cow\\20221229_061532_21C6.mkv: 640x640 Done. (0.018s)\n",
      "video 1/1 (3664/3933) D:\\815_CowDataChecking\\20221229\\20221229_M_cow\\20221229_061532_21C6.mkv: 640x640 Done. (0.018s)\n",
      "video 1/1 (3665/3933) D:\\815_CowDataChecking\\20221229\\20221229_M_cow\\20221229_061532_21C6.mkv: 640x640 Done. (0.015s)\n",
      "video 1/1 (3666/3933) D:\\815_CowDataChecking\\20221229\\20221229_M_cow\\20221229_061532_21C6.mkv: 640x640 Done. (0.018s)\n",
      "video 1/1 (3667/3933) D:\\815_CowDataChecking\\20221229\\20221229_M_cow\\20221229_061532_21C6.mkv: 640x640 Done. (0.017s)\n",
      "video 1/1 (3668/3933) D:\\815_CowDataChecking\\20221229\\20221229_M_cow\\20221229_061532_21C6.mkv: 640x640 Done. (0.015s)\n",
      "video 1/1 (3669/3933) D:\\815_CowDataChecking\\20221229\\20221229_M_cow\\20221229_061532_21C6.mkv: 640x640 Done. (0.018s)\n",
      "video 1/1 (3670/3933) D:\\815_CowDataChecking\\20221229\\20221229_M_cow\\20221229_061532_21C6.mkv: 640x640 Done. (0.018s)\n",
      "video 1/1 (3671/3933) D:\\815_CowDataChecking\\20221229\\20221229_M_cow\\20221229_061532_21C6.mkv: 640x640 Done. (0.016s)\n",
      "video 1/1 (3672/3933) D:\\815_CowDataChecking\\20221229\\20221229_M_cow\\20221229_061532_21C6.mkv: 640x640 Done. (0.017s)\n",
      "video 1/1 (3673/3933) D:\\815_CowDataChecking\\20221229\\20221229_M_cow\\20221229_061532_21C6.mkv: 640x640 Done. (0.017s)\n",
      "video 1/1 (3674/3933) D:\\815_CowDataChecking\\20221229\\20221229_M_cow\\20221229_061532_21C6.mkv: 640x640 Done. (0.017s)\n",
      "video 1/1 (3675/3933) D:\\815_CowDataChecking\\20221229\\20221229_M_cow\\20221229_061532_21C6.mkv: 640x640 Done. (0.019s)\n",
      "video 1/1 (3676/3933) D:\\815_CowDataChecking\\20221229\\20221229_M_cow\\20221229_061532_21C6.mkv: 640x640 Done. (0.016s)\n",
      "video 1/1 (3677/3933) D:\\815_CowDataChecking\\20221229\\20221229_M_cow\\20221229_061532_21C6.mkv: 640x640 Done. (0.017s)\n",
      "video 1/1 (3678/3933) D:\\815_CowDataChecking\\20221229\\20221229_M_cow\\20221229_061532_21C6.mkv: 640x640 Done. (0.019s)\n",
      "video 1/1 (3679/3933) D:\\815_CowDataChecking\\20221229\\20221229_M_cow\\20221229_061532_21C6.mkv: 640x640 Done. (0.016s)\n",
      "video 1/1 (3680/3933) D:\\815_CowDataChecking\\20221229\\20221229_M_cow\\20221229_061532_21C6.mkv: 640x640 Done. (0.015s)\n",
      "video 1/1 (3681/3933) D:\\815_CowDataChecking\\20221229\\20221229_M_cow\\20221229_061532_21C6.mkv: 640x640 Done. (0.017s)\n",
      "video 1/1 (3682/3933) D:\\815_CowDataChecking\\20221229\\20221229_M_cow\\20221229_061532_21C6.mkv: 640x640 Done. (0.016s)\n",
      "video 1/1 (3683/3933) D:\\815_CowDataChecking\\20221229\\20221229_M_cow\\20221229_061532_21C6.mkv: 640x640 Done. (0.046s)\n",
      "video 1/1 (3684/3933) D:\\815_CowDataChecking\\20221229\\20221229_M_cow\\20221229_061532_21C6.mkv: 640x640 Done. (0.050s)\n",
      "video 1/1 (3685/3933) D:\\815_CowDataChecking\\20221229\\20221229_M_cow\\20221229_061532_21C6.mkv: 640x640 Done. (0.051s)\n",
      "video 1/1 (3686/3933) D:\\815_CowDataChecking\\20221229\\20221229_M_cow\\20221229_061532_21C6.mkv: 640x640 Done. (0.048s)\n",
      "video 1/1 (3687/3933) D:\\815_CowDataChecking\\20221229\\20221229_M_cow\\20221229_061532_21C6.mkv: 640x640 Done. (0.047s)\n",
      "video 1/1 (3688/3933) D:\\815_CowDataChecking\\20221229\\20221229_M_cow\\20221229_061532_21C6.mkv: 640x640 Done. (0.016s)\n",
      "video 1/1 (3689/3933) D:\\815_CowDataChecking\\20221229\\20221229_M_cow\\20221229_061532_21C6.mkv: 640x640 Done. (0.015s)\n",
      "video 1/1 (3690/3933) D:\\815_CowDataChecking\\20221229\\20221229_M_cow\\20221229_061532_21C6.mkv: 640x640 Done. (0.017s)\n",
      "video 1/1 (3691/3933) D:\\815_CowDataChecking\\20221229\\20221229_M_cow\\20221229_061532_21C6.mkv: 640x640 Done. (0.017s)\n",
      "video 1/1 (3692/3933) D:\\815_CowDataChecking\\20221229\\20221229_M_cow\\20221229_061532_21C6.mkv: 640x640 Done. (0.019s)\n",
      "video 1/1 (3693/3933) D:\\815_CowDataChecking\\20221229\\20221229_M_cow\\20221229_061532_21C6.mkv: 640x640 Done. (0.018s)\n",
      "video 1/1 (3694/3933) D:\\815_CowDataChecking\\20221229\\20221229_M_cow\\20221229_061532_21C6.mkv: 640x640 Done. (0.015s)\n",
      "video 1/1 (3695/3933) D:\\815_CowDataChecking\\20221229\\20221229_M_cow\\20221229_061532_21C6.mkv: 640x640 Done. (0.016s)\n",
      "video 1/1 (3696/3933) D:\\815_CowDataChecking\\20221229\\20221229_M_cow\\20221229_061532_21C6.mkv: 640x640 Done. (0.016s)\n",
      "video 1/1 (3697/3933) D:\\815_CowDataChecking\\20221229\\20221229_M_cow\\20221229_061532_21C6.mkv: 640x640 Done. (0.018s)\n",
      "video 1/1 (3698/3933) D:\\815_CowDataChecking\\20221229\\20221229_M_cow\\20221229_061532_21C6.mkv: 640x640 Done. (0.018s)\n",
      "video 1/1 (3699/3933) D:\\815_CowDataChecking\\20221229\\20221229_M_cow\\20221229_061532_21C6.mkv: 640x640 Done. (0.018s)\n",
      "video 1/1 (3700/3933) D:\\815_CowDataChecking\\20221229\\20221229_M_cow\\20221229_061532_21C6.mkv: 640x640 Done. (0.018s)\n",
      "video 1/1 (3701/3933) D:\\815_CowDataChecking\\20221229\\20221229_M_cow\\20221229_061532_21C6.mkv: 640x640 Done. (0.018s)\n",
      "video 1/1 (3702/3933) D:\\815_CowDataChecking\\20221229\\20221229_M_cow\\20221229_061532_21C6.mkv: 640x640 Done. (0.018s)\n",
      "video 1/1 (3703/3933) D:\\815_CowDataChecking\\20221229\\20221229_M_cow\\20221229_061532_21C6.mkv: 640x640 Done. (0.017s)\n",
      "video 1/1 (3704/3933) D:\\815_CowDataChecking\\20221229\\20221229_M_cow\\20221229_061532_21C6.mkv: 640x640 Done. (0.016s)\n",
      "video 1/1 (3705/3933) D:\\815_CowDataChecking\\20221229\\20221229_M_cow\\20221229_061532_21C6.mkv: 640x640 Done. (0.017s)\n",
      "video 1/1 (3706/3933) D:\\815_CowDataChecking\\20221229\\20221229_M_cow\\20221229_061532_21C6.mkv: 640x640 Done. (0.016s)\n",
      "video 1/1 (3707/3933) D:\\815_CowDataChecking\\20221229\\20221229_M_cow\\20221229_061532_21C6.mkv: 640x640 Done. (0.017s)\n",
      "video 1/1 (3708/3933) D:\\815_CowDataChecking\\20221229\\20221229_M_cow\\20221229_061532_21C6.mkv: 640x640 Done. (0.016s)\n",
      "video 1/1 (3709/3933) D:\\815_CowDataChecking\\20221229\\20221229_M_cow\\20221229_061532_21C6.mkv: 640x640 Done. (0.015s)\n",
      "video 1/1 (3710/3933) D:\\815_CowDataChecking\\20221229\\20221229_M_cow\\20221229_061532_21C6.mkv: 640x640 Done. (0.048s)\n",
      "video 1/1 (3711/3933) D:\\815_CowDataChecking\\20221229\\20221229_M_cow\\20221229_061532_21C6.mkv: 640x640 Done. (0.050s)\n",
      "video 1/1 (3712/3933) D:\\815_CowDataChecking\\20221229\\20221229_M_cow\\20221229_061532_21C6.mkv: 640x640 Done. (0.019s)\n",
      "video 1/1 (3713/3933) D:\\815_CowDataChecking\\20221229\\20221229_M_cow\\20221229_061532_21C6.mkv: 640x640 Done. (0.020s)\n",
      "video 1/1 (3714/3933) D:\\815_CowDataChecking\\20221229\\20221229_M_cow\\20221229_061532_21C6.mkv: 640x640 Done. (0.019s)\n",
      "video 1/1 (3715/3933) D:\\815_CowDataChecking\\20221229\\20221229_M_cow\\20221229_061532_21C6.mkv: 640x640 Done. (0.019s)\n",
      "video 1/1 (3716/3933) D:\\815_CowDataChecking\\20221229\\20221229_M_cow\\20221229_061532_21C6.mkv: 640x640 Done. (0.018s)\n",
      "video 1/1 (3717/3933) D:\\815_CowDataChecking\\20221229\\20221229_M_cow\\20221229_061532_21C6.mkv: 640x640 Done. (0.020s)\n",
      "video 1/1 (3718/3933) D:\\815_CowDataChecking\\20221229\\20221229_M_cow\\20221229_061532_21C6.mkv: 640x640 Done. (0.022s)\n",
      "video 1/1 (3719/3933) D:\\815_CowDataChecking\\20221229\\20221229_M_cow\\20221229_061532_21C6.mkv: 640x640 Done. (0.017s)\n",
      "video 1/1 (3720/3933) D:\\815_CowDataChecking\\20221229\\20221229_M_cow\\20221229_061532_21C6.mkv: 640x640 Done. (0.018s)\n",
      "video 1/1 (3721/3933) D:\\815_CowDataChecking\\20221229\\20221229_M_cow\\20221229_061532_21C6.mkv: 640x640 Done. (0.019s)\n",
      "video 1/1 (3722/3933) D:\\815_CowDataChecking\\20221229\\20221229_M_cow\\20221229_061532_21C6.mkv: 640x640 Done. (0.019s)\n",
      "video 1/1 (3723/3933) D:\\815_CowDataChecking\\20221229\\20221229_M_cow\\20221229_061532_21C6.mkv: 640x640 Done. (0.017s)\n",
      "video 1/1 (3724/3933) D:\\815_CowDataChecking\\20221229\\20221229_M_cow\\20221229_061532_21C6.mkv: 640x640 Done. (0.018s)\n",
      "video 1/1 (3725/3933) D:\\815_CowDataChecking\\20221229\\20221229_M_cow\\20221229_061532_21C6.mkv: 640x640 Done. (0.019s)\n",
      "video 1/1 (3726/3933) D:\\815_CowDataChecking\\20221229\\20221229_M_cow\\20221229_061532_21C6.mkv: 640x640 Done. (0.019s)\n",
      "video 1/1 (3727/3933) D:\\815_CowDataChecking\\20221229\\20221229_M_cow\\20221229_061532_21C6.mkv: 640x640 Done. (0.017s)\n",
      "video 1/1 (3728/3933) D:\\815_CowDataChecking\\20221229\\20221229_M_cow\\20221229_061532_21C6.mkv: 640x640 Done. (0.018s)\n",
      "video 1/1 (3729/3933) D:\\815_CowDataChecking\\20221229\\20221229_M_cow\\20221229_061532_21C6.mkv: 640x640 Done. (0.019s)\n",
      "video 1/1 (3730/3933) D:\\815_CowDataChecking\\20221229\\20221229_M_cow\\20221229_061532_21C6.mkv: 640x640 Done. (0.019s)\n",
      "video 1/1 (3731/3933) D:\\815_CowDataChecking\\20221229\\20221229_M_cow\\20221229_061532_21C6.mkv: 640x640 Done. (0.016s)\n",
      "video 1/1 (3732/3933) D:\\815_CowDataChecking\\20221229\\20221229_M_cow\\20221229_061532_21C6.mkv: 640x640 Done. (0.019s)\n",
      "video 1/1 (3733/3933) D:\\815_CowDataChecking\\20221229\\20221229_M_cow\\20221229_061532_21C6.mkv: 640x640 Done. (0.022s)\n",
      "video 1/1 (3734/3933) D:\\815_CowDataChecking\\20221229\\20221229_M_cow\\20221229_061532_21C6.mkv: 640x640 Done. (0.023s)\n",
      "video 1/1 (3735/3933) D:\\815_CowDataChecking\\20221229\\20221229_M_cow\\20221229_061532_21C6.mkv: 640x640 Done. (0.024s)\n",
      "video 1/1 (3736/3933) D:\\815_CowDataChecking\\20221229\\20221229_M_cow\\20221229_061532_21C6.mkv: 640x640 Done. (0.024s)\n",
      "video 1/1 (3737/3933) D:\\815_CowDataChecking\\20221229\\20221229_M_cow\\20221229_061532_21C6.mkv: 640x640 Done. (0.040s)\n",
      "video 1/1 (3738/3933) D:\\815_CowDataChecking\\20221229\\20221229_M_cow\\20221229_061532_21C6.mkv: 640x640 Done. (0.050s)\n",
      "video 1/1 (3739/3933) D:\\815_CowDataChecking\\20221229\\20221229_M_cow\\20221229_061532_21C6.mkv: 640x640 Done. (0.044s)\n",
      "video 1/1 (3740/3933) D:\\815_CowDataChecking\\20221229\\20221229_M_cow\\20221229_061532_21C6.mkv: 640x640 Done. (0.046s)\n",
      "video 1/1 (3741/3933) D:\\815_CowDataChecking\\20221229\\20221229_M_cow\\20221229_061532_21C6.mkv: 640x640 Done. (0.017s)\n",
      "video 1/1 (3742/3933) D:\\815_CowDataChecking\\20221229\\20221229_M_cow\\20221229_061532_21C6.mkv: 640x640 Done. (0.018s)\n",
      "video 1/1 (3743/3933) D:\\815_CowDataChecking\\20221229\\20221229_M_cow\\20221229_061532_21C6.mkv: 640x640 Done. (0.016s)\n",
      "video 1/1 (3744/3933) D:\\815_CowDataChecking\\20221229\\20221229_M_cow\\20221229_061532_21C6.mkv: 640x640 Done. (0.024s)\n",
      "video 1/1 (3745/3933) D:\\815_CowDataChecking\\20221229\\20221229_M_cow\\20221229_061532_21C6.mkv: 640x640 Done. (0.019s)\n",
      "video 1/1 (3746/3933) D:\\815_CowDataChecking\\20221229\\20221229_M_cow\\20221229_061532_21C6.mkv: 640x640 Done. (0.017s)\n",
      "video 1/1 (3747/3933) D:\\815_CowDataChecking\\20221229\\20221229_M_cow\\20221229_061532_21C6.mkv: 640x640 Done. (0.017s)\n",
      "video 1/1 (3748/3933) D:\\815_CowDataChecking\\20221229\\20221229_M_cow\\20221229_061532_21C6.mkv: 640x640 Done. (0.019s)\n",
      "video 1/1 (3749/3933) D:\\815_CowDataChecking\\20221229\\20221229_M_cow\\20221229_061532_21C6.mkv: 640x640 Done. (0.018s)\n",
      "video 1/1 (3750/3933) D:\\815_CowDataChecking\\20221229\\20221229_M_cow\\20221229_061532_21C6.mkv: 640x640 Done. (0.019s)\n",
      "video 1/1 (3751/3933) D:\\815_CowDataChecking\\20221229\\20221229_M_cow\\20221229_061532_21C6.mkv: 640x640 Done. (0.016s)\n",
      "video 1/1 (3752/3933) D:\\815_CowDataChecking\\20221229\\20221229_M_cow\\20221229_061532_21C6.mkv: 640x640 Done. (0.017s)\n",
      "video 1/1 (3753/3933) D:\\815_CowDataChecking\\20221229\\20221229_M_cow\\20221229_061532_21C6.mkv: 640x640 Done. (0.018s)\n",
      "video 1/1 (3754/3933) D:\\815_CowDataChecking\\20221229\\20221229_M_cow\\20221229_061532_21C6.mkv: 640x640 Done. (0.019s)\n",
      "video 1/1 (3755/3933) D:\\815_CowDataChecking\\20221229\\20221229_M_cow\\20221229_061532_21C6.mkv: 640x640 Done. (0.016s)\n",
      "video 1/1 (3756/3933) D:\\815_CowDataChecking\\20221229\\20221229_M_cow\\20221229_061532_21C6.mkv: 640x640 Done. (0.016s)\n",
      "video 1/1 (3757/3933) D:\\815_CowDataChecking\\20221229\\20221229_M_cow\\20221229_061532_21C6.mkv: 640x640 Done. (0.017s)\n",
      "video 1/1 (3758/3933) D:\\815_CowDataChecking\\20221229\\20221229_M_cow\\20221229_061532_21C6.mkv: 640x640 Done. (0.019s)\n",
      "video 1/1 (3759/3933) D:\\815_CowDataChecking\\20221229\\20221229_M_cow\\20221229_061532_21C6.mkv: 640x640 Done. (0.016s)\n",
      "video 1/1 (3760/3933) D:\\815_CowDataChecking\\20221229\\20221229_M_cow\\20221229_061532_21C6.mkv: 640x640 Done. (0.020s)\n",
      "video 1/1 (3761/3933) D:\\815_CowDataChecking\\20221229\\20221229_M_cow\\20221229_061532_21C6.mkv: 640x640 Done. (0.020s)\n",
      "video 1/1 (3762/3933) D:\\815_CowDataChecking\\20221229\\20221229_M_cow\\20221229_061532_21C6.mkv: 640x640 Done. (0.043s)\n",
      "video 1/1 (3763/3933) D:\\815_CowDataChecking\\20221229\\20221229_M_cow\\20221229_061532_21C6.mkv: 640x640 Done. (0.045s)\n",
      "video 1/1 (3764/3933) D:\\815_CowDataChecking\\20221229\\20221229_M_cow\\20221229_061532_21C6.mkv: 640x640 Done. (0.020s)\n",
      "video 1/1 (3765/3933) D:\\815_CowDataChecking\\20221229\\20221229_M_cow\\20221229_061532_21C6.mkv: 640x640 Done. (0.020s)\n",
      "video 1/1 (3766/3933) D:\\815_CowDataChecking\\20221229\\20221229_M_cow\\20221229_061532_21C6.mkv: 640x640 Done. (0.022s)\n",
      "video 1/1 (3767/3933) D:\\815_CowDataChecking\\20221229\\20221229_M_cow\\20221229_061532_21C6.mkv: 640x640 Done. (0.022s)\n",
      "video 1/1 (3768/3933) D:\\815_CowDataChecking\\20221229\\20221229_M_cow\\20221229_061532_21C6.mkv: 640x640 Done. (0.021s)\n",
      "video 1/1 (3769/3933) D:\\815_CowDataChecking\\20221229\\20221229_M_cow\\20221229_061532_21C6.mkv: 640x640 Done. (0.017s)\n",
      "video 1/1 (3770/3933) D:\\815_CowDataChecking\\20221229\\20221229_M_cow\\20221229_061532_21C6.mkv: 640x640 Done. (0.018s)\n",
      "video 1/1 (3771/3933) D:\\815_CowDataChecking\\20221229\\20221229_M_cow\\20221229_061532_21C6.mkv: 640x640 Done. (0.019s)\n",
      "video 1/1 (3772/3933) D:\\815_CowDataChecking\\20221229\\20221229_M_cow\\20221229_061532_21C6.mkv: 640x640 Done. (0.021s)\n",
      "video 1/1 (3773/3933) D:\\815_CowDataChecking\\20221229\\20221229_M_cow\\20221229_061532_21C6.mkv: 640x640 Done. (0.018s)\n",
      "video 1/1 (3774/3933) D:\\815_CowDataChecking\\20221229\\20221229_M_cow\\20221229_061532_21C6.mkv: 640x640 Done. (0.021s)\n",
      "video 1/1 (3775/3933) D:\\815_CowDataChecking\\20221229\\20221229_M_cow\\20221229_061532_21C6.mkv: 640x640 Done. (0.019s)\n",
      "video 1/1 (3776/3933) D:\\815_CowDataChecking\\20221229\\20221229_M_cow\\20221229_061532_21C6.mkv: 640x640 Done. (0.017s)\n",
      "video 1/1 (3777/3933) D:\\815_CowDataChecking\\20221229\\20221229_M_cow\\20221229_061532_21C6.mkv: 640x640 Done. (0.020s)\n",
      "video 1/1 (3778/3933) D:\\815_CowDataChecking\\20221229\\20221229_M_cow\\20221229_061532_21C6.mkv: 640x640 Done. (0.021s)\n",
      "video 1/1 (3779/3933) D:\\815_CowDataChecking\\20221229\\20221229_M_cow\\20221229_061532_21C6.mkv: 640x640 Done. (0.017s)\n",
      "video 1/1 (3780/3933) D:\\815_CowDataChecking\\20221229\\20221229_M_cow\\20221229_061532_21C6.mkv: 640x640 Done. (0.019s)\n",
      "video 1/1 (3781/3933) D:\\815_CowDataChecking\\20221229\\20221229_M_cow\\20221229_061532_21C6.mkv: 640x640 Done. (0.020s)\n",
      "video 1/1 (3782/3933) D:\\815_CowDataChecking\\20221229\\20221229_M_cow\\20221229_061532_21C6.mkv: 640x640 Done. (0.018s)\n",
      "Speed: 0.6ms pre-process, 21.8ms inference, 0.4ms NMS per image at shape (1, 3, 640, 640)\n",
      "Results saved to \u001b[1mruns\\paper\\june\\HOG_SVM_SGE\\exp_3_fps2\u001b[0m\n"
     ]
    },
    {
     "name": "stdout",
     "output_type": "stream",
     "text": [
      "['xxxxxxxxxxxxx', 'xxxxxxxxxxxxx', 'runs\\\\paper\\\\june\\\\HOG_SVM_SGE\\\\exp_3_fps2\\\\20221229_061532_21C6.mp4']\n",
      "result saved to all_detected_cow_3_fps_2023-06-08.csv\n",
      "runs\\paper\\june\\HOG_SVM_SGE\\exp_3_fps2/detected_cow_vggSVM_2023-06-08.csv  is csv_path and  runs\\paper\\june\\HOG_SVM_SGE\\exp_3_fps2  is save_dir\n",
      "successfully saved\n",
      "runs\\paper\\june\\HOG_SVM_SGE\\exp_3_fps2\\1\\1\n",
      "runs\\paper\\june\\HOG_SVM_SGE\\exp_3_fps2\\1\\1/1.csv  is csv_path and \n",
      "done  1\n",
      "runs\\paper\\june\\HOG_SVM_SGE\\exp_3_fps2\\2\\2\n",
      "runs\\paper\\june\\HOG_SVM_SGE\\exp_3_fps2\\2\\2/2.csv  is csv_path and \n",
      "done  2\n",
      "runs\\paper\\june\\HOG_SVM_SGE\\exp_3_fps2\\3\\3\n",
      "runs\\paper\\june\\HOG_SVM_SGE\\exp_3_fps2\\3\\3/3.csv  is csv_path and \n",
      "done  3\n",
      "runs\\paper\\june\\HOG_SVM_SGE\\exp_3_fps2\\4\\4\n",
      "runs\\paper\\june\\HOG_SVM_SGE\\exp_3_fps2\\4\\4/4.csv  is csv_path and \n",
      "done  4\n",
      "runs\\paper\\june\\HOG_SVM_SGE\\exp_3_fps2\\5\\5\n",
      "runs\\paper\\june\\HOG_SVM_SGE\\exp_3_fps2\\5\\5/5.csv  is csv_path and \n",
      "done  5\n",
      "runs\\paper\\june\\HOG_SVM_SGE\\exp_3_fps2\\6\\6\n",
      "runs\\paper\\june\\HOG_SVM_SGE\\exp_3_fps2\\6\\6/6.csv  is csv_path and \n",
      "done  6\n",
      "runs\\paper\\june\\HOG_SVM_SGE\\exp_3_fps2\\7\\7\n",
      "runs\\paper\\june\\HOG_SVM_SGE\\exp_3_fps2\\7\\7/7.csv  is csv_path and \n",
      "done  7\n",
      "runs\\paper\\june\\HOG_SVM_SGE\\exp_3_fps2\\8\\8\n",
      "runs\\paper\\june\\HOG_SVM_SGE\\exp_3_fps2\\8\\8/8.csv  is csv_path and \n"
     ]
    },
    {
     "name": "stderr",
     "output_type": "stream",
     "text": [
      "Speed: 0.6ms pre-process, 21.8ms inference, 0.4ms NMS per image at shape (1, 3, 640, 640)\n",
      "Results saved to \u001b[1mruns\\paper\\june\\HOG_SVM_SGE\\exp_3_fps2\u001b[0m\n"
     ]
    },
    {
     "name": "stdout",
     "output_type": "stream",
     "text": [
      "done  8\n",
      "Elapsed time: 616.9615 seconds\n"
     ]
    }
   ],
   "source": [
    "#%%python --source \"D:\\Python\\env\\Lameness\\Frames\\Videos\\20220201_145508_7108.mp4\"  --yolo-weights weights_slm/best_6_23_gpu.pt --view-img --save-crop --device 0\n",
    "\n",
    "\n",
    "# YOLOv5 🚀 by Ultralytics, GPL-3.0 license\n",
    "\"\"\"\n",
    "Run inference on images, videos, directories, streams, etc.\n",
    "\n",
    "Usage - sources:\n",
    "    $ python path/to/detect.py --weights yolov5s.pt --source 0              # webcam\n",
    "                                                             img.jpg        # image\n",
    "                                                             vid.mp4        # video\n",
    "                                                             path/          # directory\n",
    "                                                             path/*.jpg     # glob\n",
    "                                                             'https://youtu.be/Zgi9g1ksQHc'  # YouTube\n",
    "                                                             'rtsp://example.com/media.mp4'  # RTSP, RTMP, HTTP stream\n",
    "\n",
    "Usage - formats:\n",
    "    $ python path/to/detect.py --weights yolov5s.pt                 # PyTorch\n",
    "                                         yolov5s.torchscript        # TorchScript\n",
    "                                         yolov5s.onnx               # ONNX Runtime or OpenCV DNN with --dnn\n",
    "                                         yolov5s.xml                # OpenVINO\n",
    "                                         yolov5s.engine             # TensorRT\n",
    "                                         yolov5s.mlmodel            # CoreML (macOS-only)\n",
    "                                         yolov5s_saved_model        # TensorFlow SavedModel\n",
    "                                         yolov5s.pb                 # TensorFlow GraphDef\n",
    "                                         yolov5s.tflite             # TensorFlow Lite\n",
    "                                         yolov5s_edgetpu.tflite     # TensorFlow Edge TPU\n",
    "\n",
    "\"\"\"\n",
    "\n",
    "import gc\n",
    "\n",
    "gc.collect()\n",
    "\n",
    "torch.cuda.empty_cache()\n",
    "\n",
    "FILE = Path(\"__file__\").resolve()\n",
    "ROOT = FILE.parents[0]  # YOLOv5 root directory\n",
    "if str(ROOT) not in sys.path:\n",
    "    sys.path.append(str(ROOT))  # add ROOT to PATH\n",
    "ROOT = Path(os.path.relpath(ROOT, Path.cwd()))  # relative\n",
    "\n",
    "X1=240\n",
    "X2=410\n",
    "Y1=94\n",
    "Y2=590\n",
    "SIZE =224\n",
    "\n",
    "\n",
    "\n",
    "default=640\n",
    "save_video=True\n",
    "\n",
    "#file_location=\"D:\\\\815_CowDataChecking\\\\20221228\\\\20221228_E\\\\\"#20221228_055019_5DDC.mkv\" \"D:\\815_CowDataChecking\\20221229\\20221229_E_cow\\20221229_151031_0FD4.mkv\"\n",
    "file_location=\"D:\\\\815_CowDataChecking\\\\20221229\\\\20221229_M_cow\\\\20221229_061532_21C6.mkv\"#\\\\20221228_055019_5DDC.mkv\" #\\\\20221228_055019_5DDC.mkv\"#20221230_155051_3DBF.mkv\"#20221228_055019_5DDC.mkv\"\n",
    "\n",
    "SKIP_VIDEOS=False # True False toggle here to have skip videos\n",
    "NUMBER_SKIP_VIDEOS = 5\n",
    "#file_location = \"\\\\172.16.4.111\\\\Public\\訓子府L5G_2020\\\\生データ_original_data\\\\360カメラ\\\\A\\\\20221115\\\\13\\\\20221115_135954_9B55_ACCC8EEE85E1\\\\20221115_15\\\\20221115_151030_8349.mkv\"\n",
    "\n",
    "\n",
    "#file_location=\"D:\\\\815_CowDataChecking\\\\20220906\\\\360\\A\\\\20220906\\\\13\\\\20220906_135955_2249_ACCC8EEE85E1\\\\20220906_16\\\\20220906_161102_E42D.mkv\"\n",
    "#file_location = \"C:\\\\Users\\\\thithilab\\\\Desktop\\\\Cow Data (22~28)\\\\20220722\\\\all\\\\20220722_152539_53E5.mkv\"\n",
    "#filename=\"20220705_135955_4D30\"\n",
    "#file_path = \"D:\\\\815_CowDataChecking\\\\20220704\\\\13\\\\20220704_135955_D85D_ACCC8EEE85E1\\\\20220704_E_All\\\\\"\n",
    "#deep_test ='C:/Users/thithilab/Desktop/20220705/m_videos_5_7/DEEP1/DEEP2'\n",
    "#multifile = 'D:/CheckFrame/14B8/20220704_145523_14B8.mkv,C:/Users/thithilab/Desktop/20220705/m_videos_5_7/20220705_053512_A9B0.mkv'\n",
    "#Y1_NEW=110\n",
    "#Y2_NEW=530\n",
    "Y1_NEW=100 #135  #decrease here to extend, increase to shrink \n",
    "Y2_NEW=520  #530  # redyce here to extend , increase to do vice casa 460 previous\n",
    "\n",
    "Y1_PRECISE=100\n",
    "Y2_PRECISE=400  #where cow is most precise  August 7 2022\n",
    "HAS_COW=False  # to save video when has cow\n",
    "\n",
    "cow_order=[]\n",
    "cow_count = []\n",
    "cow_label=[]\n",
    "frame_rate=3\n",
    "has_seen_cattle = False \n",
    "prev_label_store=[None] * 5\n",
    "prev_cow_position=[None] * 5\n",
    "\n",
    "\n",
    "all_detected_cow=[]\n",
    "\n",
    "local_id=1\n",
    "\n",
    "\n",
    "#for max apperance cattle id \n",
    "final_result = []\n",
    "final_percentage = []\n",
    "final_total = []\n",
    "current_cow = []\n",
    "excel_cow_count=[]\n",
    "#end\n",
    "\n",
    "#demo video write\n",
    "BATCH = 100\n",
    "BATCH_COUNT = 1\n",
    "PREV_BATCH = 0\n",
    "LAST_SEEN = time.time()\n",
    "FIRST_SEEN = True\n",
    "demo_img_save_path = []\n",
    "\n",
    "prevId_record =[]\n",
    "MAX_prevId = [] \n",
    "MAX_xyxy1 = [] \n",
    "MAX_xyxy2 = [] \n",
    "MAX_xyxy3 = [] \n",
    "MAX_xyxy4 = [] \n",
    "MAX_orgId = []\n",
    "IMAGE_STORED_LOCATION = []\n",
    "#end\n",
    "\n",
    "#region Cattle Tracking\n",
    "STORED_IDS= []\n",
    "STORED_MID_Y = []\n",
    "STORED_MID_Y1 = []\n",
    "STORED_MID_Y2 = []\n",
    "STORED_MISS = []\n",
    "PREVIOUS_ID = [] # keep the record of last seen ids and position\n",
    "PREVIOUS_Y1 = [] \n",
    "PREVIOUS_Y2 = [] \n",
    "PREVIOUS_LOCAL_IDS = []\n",
    "CATTLE_LOCAL_ID= 0\n",
    "IS_FIRST_CATTLE = True\n",
    "#end\n",
    "NEW_BLACK_X1= 240\n",
    "NEW_BLACK_X2= 410\n",
    "\n",
    "\n",
    "\n",
    "def DoROI(image):\n",
    "    h,w,c = image.shape\n",
    "    img_arr = np.array(image)\n",
    "    img_arr[0 : int(94*(h/default)), 0 : h] = (0, 0, 0)   #top\n",
    "    img_arr[0 : h, 0 : int(240*(w/default))] = (0, 0, 0)   #left\n",
    "    img_arr[0 : h, int(410*(w/default)) : w] = (0, 0, 0)   #right\n",
    "    img_arr[int(590*(h/default)) : h,0 : w] = (0, 0, 0)   #bottom\n",
    "    return img_arr\n",
    "\n",
    "def Demo_DoROI(image):\n",
    "    h,w,c = image.shape\n",
    "    img_arr = np.array(image)\n",
    "    #img_arr[0 : int(94*(h/default)), 0 : h] = (0, 0, 0)   #top\n",
    "    img_arr[0 : h, 0 : int(240*(w/default))] = (0, 0, 0)   #left\n",
    "    img_arr[0 : h, int(410*(w/default)) : w] = (0, 0, 0)   #right\n",
    "    #img_arr[int(590*(h/default)) : h,0 : w] = (0, 0, 0)   #bottom\n",
    "    return img_arr\n",
    "\n",
    "\n",
    "def DoROI_640(image):\n",
    "    img_arr = np.array(image)\n",
    "    img_arr[0 : 94, 0 : 640] = (0, 0, 0)   #top\n",
    "    img_arr[0 : 640, 0 : 240] = (0, 0, 0)   #left\n",
    "    img_arr[0 : 640, 400 : 640] = (0, 0, 0)   #right\n",
    "    img_arr[590 : 640,0 : 640] = (0, 0, 0)   #bottom\n",
    "    return img_arr\n",
    "  \n",
    "def check_withinROI(x1,y1,x2,y2,h,w):\n",
    "    if(x1<int(X1*(w/default)) or x2>int(X2*(w/default)) or y1<int(Y1*(h/default)) or y2>int(Y2*(h/default)) or x1>=int(X2*(w/default))):\n",
    "      return False\n",
    "    return True  \n",
    "\n",
    "def check_withinROI_NEW(x1,y1,x2,y2,h,w):\n",
    "    if(x1<int(X1*(w/default)) or x2>int(X2*(w/default)) or y1<int(Y1_NEW*(h/default)) or y2>int(Y2_NEW*(h/default)) or x1>=int(X2*(w/default))):\n",
    "        return False\n",
    "    if(y2 - y1>1300 or y2-y1<800): #1400 to 700 Before\n",
    "        print(\"length is more than 1400 pixel\")\n",
    "        return False\n",
    "    return True  \n",
    "\n",
    "def check_withinROI_PRECISE(x1,y1,x2,y2,h,w):\n",
    "    if(x1<int(X1*(w/default)) or x2>int(X2*(w/default)) or y1<int(Y1_PRECISE*(h/default)) or y2>int(Y2_PRECISE*(h/default)) or x1>=int(X2*(w/default))):\n",
    "      return False\n",
    "    return True  \n",
    "\n",
    "def check_cow_Count(label):\n",
    "    global cow_label\n",
    "    global cow_count\n",
    "    print(\"inserting label\")\n",
    "    if label in cow_label: #check exist\n",
    "        cow_count[cow_label.index(label)]+=1  #start counting of the newly inserted cow\n",
    "        \n",
    "    else:\n",
    "        cow_label.append(label)  # if not exist then add the cow label to array\n",
    "        cow_count.append(1)  #start counting of the newly inserted cow\n",
    "\n",
    "\n",
    "def determine_label(img):\n",
    "    \n",
    "    #if Isolation_Forest(img) != 1:\n",
    "    #    res = ['unknown']\n",
    "    #    check_cow_Count(res[0])\n",
    "    #    return res\n",
    "    global all_detected_cow\n",
    "    label = LCNN_GNB_CLASSIFIER(img)\n",
    "    HAS_COW=True\n",
    "    check_cow_Count(label[0])\n",
    "    all_detected_cow.append(label[0])\n",
    "    return label\n",
    "\n",
    "#label for cow label, y for y2 postion of cow, h for total height if image, position for 1st cow of the frame, 2nd cow of the frame etc,...\n",
    "def take_first_appear_lable(label,y,h,nth_cows):\n",
    "    \n",
    "    global prev_label_store\n",
    "    global prev_cow_position\n",
    "    \n",
    "\n",
    "    #prev_label_length = len(prev_label_store)\n",
    "    #prev_position_length = len(prev_label_store)\n",
    "    #print(prev_label_length)\n",
    "    \n",
    "    #first\n",
    "    print(\"cow position :\"+str(nth_cows))\n",
    "    print(\"label \"+label)\n",
    "    if(prev_label_store[nth_cows]==None and prev_label_store[nth_cows+1]==None):\n",
    "        prev_label_store[nth_cows]=label\n",
    "        prev_cow_position[nth_cows]=y\n",
    "        res = [label]\n",
    "        return res\n",
    "        \n",
    "    if(prev_label_store[nth_cows]!=None):\n",
    "        if(y<prev_cow_position[nth_cows]+35) : #check if prev_cow\n",
    "            prev_cow_position[nth_cows]=y\n",
    "            res = [prev_label_store[nth_cows] ]\n",
    "            return res\n",
    "        elif(prev_cow_position[nth_cows+1]!=None and y<prev_cow_position[nth_cows+1]+35) : #check if prev_cow second cow \n",
    "            #2nd one become 1st cow\n",
    "            prev_cow_position[nth_cows]=None\n",
    "            prev_label_store[nth_cows]=None\n",
    "            \n",
    "            prev_label_store = deque(prev_label_store)\n",
    "            prev_label_store(1)\n",
    "            prev_label_store = list(prev_label_store)\n",
    "            \n",
    "            \n",
    "            prev_cow_position = deque(prev_cow_position)\n",
    "            prev_cow_position(1)\n",
    "            prev_cow_position = list(prev_cow_position)\n",
    "            \n",
    "            \n",
    "            prev_cow_position[nth_cows]=y\n",
    "            res = [prev_label_store[nth_cows]]\n",
    "            return res  #move 2nd index to first index\n",
    "        elif(prev_cow_position[nth_cows+1] == None) : #new cows in first place\n",
    "            prev_cow_position[nth_cows]=y\n",
    "            prev_label_store[nth_cows] = label\n",
    "            res = [label]\n",
    "            return res\n",
    "           \n",
    "    res = [label]\n",
    "    return res\n",
    "    \n",
    "    \n",
    "    \n",
    "prev_labels=[]  #keep last records to compare y pixel value    \n",
    "prev_y1s=[]    \n",
    "\n",
    "\n",
    "def compare_with_prev_cow(label,y,h):\n",
    "    prev_labels.append(label)\n",
    "    prev_y1s.append(y)\n",
    "    has_100_record = len(prev_labels)\n",
    "    start = 0\n",
    "    end = 0\n",
    "    ceiling = h-int(h*(Y1_NEW/default))\n",
    "    #print(ceiling )\n",
    "    #print(h)\n",
    "    #print(y)\n",
    "    if(y+100>=ceiling) :   #checking if the image reach the top\n",
    "        if has_100_record>=20:\n",
    "            start=has_100_record - 20 - 1 #only check last 20 values\n",
    "            end = has_100_record - 1\n",
    "        cow_count_c=[]\n",
    "        cow_label_c=[]\n",
    "        prev_y_value=y\n",
    "        total_frames=0\n",
    "        global cow_order\n",
    "        for i in range(end,start,-1):\n",
    "            if(prev_y1s[i]>=h/2 +50 ):  #check only for half of screen\n",
    "                #for l in range(len(label[i].split(',')):\n",
    "                #split_label = label[i].split(',')[l]\n",
    "                #if split_label in cow_label: #check exist\n",
    "                if(prev_y1s[i]>prev_y_value):\n",
    "                    prev_y_value=prev_y1s[i] #go with 30 pixel different\n",
    "                    total_frames += 1\n",
    "                    if prev_labels[i] in cow_label_c:\n",
    "                        cow_count_c[cow_label_c.index(prev_labels[i])]+=1  #start counting of the newly inserted cow\n",
    "        \n",
    "                    else:\n",
    "                        cow_label_c.append(prev_labels[i])  # if not exist then add the cow label to array\n",
    "                        cow_count_c.append(1)  #start counting of the newly inserted cow\n",
    "                #else:\n",
    "                    \n",
    "                \n",
    "        #prediction_RF = np.argmax(prop)         \n",
    "        #get max cow id\n",
    "        if(len(cow_count_c)<1):\n",
    "            return None\n",
    "        max_count = max(cow_count_c)\n",
    "        threshold_50_percent = math.floor(total_frames*0.5)\n",
    "        if(max_count>threshold_50_percent + 1):\n",
    "            index = np.argmax(cow_count_c)\n",
    "            cow_order.append(cow_label_c[index])\n",
    "            #print(\" cow label \"+str(cow_label_c[index]))\n",
    "            return cow_label_c[index]\n",
    "        else:\n",
    "            #print(\" cow label unknown\")\n",
    "            cow_order.append(\"unknown\")\n",
    "            return \"unknown\"\n",
    "    \n",
    "    if(len(prev_y1s) >700): # delete first 500 when greater than 800\n",
    "        del prev_labels[:500]\n",
    "        del prev_y1s[:500]    \n",
    "         \n",
    "\n",
    "\n",
    "@torch.no_grad()\n",
    "def run(\n",
    "        #weights=ROOT / 'Sept_no_alien_weight_v1/best.pt',  # model.pt path(s)  #july_weight\n",
    "        #weights=ROOT / 'September_bounding_flip_800/best.pt',\n",
    "        #weights=ROOT / 'weights/Dec_new_v1/best.pt', \n",
    "        #apirl_weights/v1_bright_dar_noise/best.pt\n",
    "        weights='apirl_weights/v2_bright_dar_noise/best.pt',#'paper_weights/epochs_200_weights/best.pt',  #v3\n",
    "        #weights= 'runs/train/exp35/weights/best.pt',  #v3\n",
    "        source=file_location,  #file_location,  # file/dir/URL/glob, 0 for webcam\n",
    "        data=ROOT / 'data/coco128.yaml',  # dataset.yaml path\n",
    "        imgsz=(640, 640),  # inference size (height, width)\n",
    "        conf_thres=0.6,  # confidence threshold\n",
    "        iou_thres=0.001,  #NS IOU threshold\n",
    "        max_det=3,  # maximum detections per image\n",
    "        device='0',  # cuda device, i.e. 0 or 0,1,2,3 or cpu\n",
    "        view_img=True,  # show results\n",
    "        save_txt=False,  # save results to *.txt\n",
    "        save_conf=False,  # save confidences in --save-txt labels\n",
    "        save_crop=True,  # save cropped prediction boxes\n",
    "        nosave=False,  # do not save images/videos\n",
    "        classes=None,  # filter by class: --class 0, or --class 0 2 3 #None\n",
    "        agnostic_nms=False,  # class-agnostic NMS\n",
    "        augment=False,  # augmented inference\n",
    "        visualize=False,  # visualize features\n",
    "        update=False,  # update all models\n",
    "        project= 'runs/paper/june/HOG_SVM_SGE',  # save results to project/name\n",
    "        name='exp_'+str(frame_rate)+'_fps',  # save results to project/name\n",
    "        exist_ok=False,  # existing project/name ok, do not increment\n",
    "        line_thickness=8,  # bounding box thickness (pixels)\n",
    "        hide_labels=False,  # hide labels\n",
    "        hide_conf=False,  # hide confidences\n",
    "        half=True,  # use FP16 half-precision inference #True\n",
    "        dnn=False,  # use OpenCV DNN for ONNX inference\n",
    "    \n",
    "):\n",
    "    \n",
    "    global all_detected_cow\n",
    "    global frame_rate\n",
    "    #added\n",
    "    sec=0\n",
    "    global cow_lable\n",
    "    global cow_count\n",
    "    global cow_order\n",
    "    global FIRST_SEEN\n",
    "    global BATCH\n",
    "    global BATCH_COUNT\n",
    "    global PREV_BATCH\n",
    "    global LAST_SEEN\n",
    "    global demo_img_save_path\n",
    "    global has_seen_cattle\n",
    "    \n",
    "    global NEW_BLACK_X1\n",
    "    global NEW_BLACK_X2\n",
    "    global X1\n",
    "    global X2\n",
    "    cow_id = []\n",
    "    cow_id_original =[]\n",
    "    cow_top = []\n",
    "    cow_left = []\n",
    "    cow_width = []\n",
    "    cow_height = []\n",
    "    cow_score = []\n",
    "    cow_frame = []\n",
    "    \n",
    "    manual_summarize_ids = []\n",
    "    manual_local_ids = []\n",
    "    manual_id = 1\n",
    "    \n",
    "    read_after_frame = 1\n",
    "    manual_cow_count = 1\n",
    "    \n",
    "    global prevId_record\n",
    "    global MAX_prevId\n",
    "    global MAX_xyxy1\n",
    "    global MAX_xyxy2\n",
    "    global MAX_xyxy3\n",
    "    global MAX_xyxy4\n",
    "    global MAX_orgId\n",
    "\n",
    "    global SKIP_VIDEOS\n",
    "    global NUMBER_SKIP_VIDEOS\n",
    "    \n",
    "    global IMAGE_STORED_LOCATION\n",
    "    \n",
    "    cf = 0  \n",
    "    count=0\n",
    "    \n",
    "    source = str(source)\n",
    "    #vid_path = []\n",
    "    #vid_path.append(\"D:\\\\CheckFrame\\\\14B8\")\n",
    "    #vid_path.append(source)\n",
    "    #source = vid_path\n",
    "    #save_img = not nosave and not source.endswith('.txt')  # save inference images\n",
    "    #added\n",
    "    save_img=True\n",
    "    \n",
    "    is_file = Path(source).suffix[1:] in (IMG_FORMATS + VID_FORMATS)\n",
    "    is_url = source.lower().startswith(('rtsp://', 'rtmp://', 'http://', 'https://'))\n",
    "    webcam = source.isnumeric() or source.endswith('.txt') or (is_url and not is_file)\n",
    "    if is_url and is_file:\n",
    "        source = check_file(source)  # download\n",
    "\n",
    "    # Directories\n",
    "    save_dir = increment_path(Path(project) / name, exist_ok=exist_ok)  # increment run\n",
    "    #print(save_dir)\n",
    "    csv_save_dir = str(save_dir)\n",
    "    #print(csv_save_dir)\n",
    "    (save_dir / 'labels' if save_txt else save_dir).mkdir(parents=True, exist_ok=True)  # make dir\n",
    "\n",
    "    \n",
    "    \n",
    "    # Load model\n",
    "    device = select_device(device)\n",
    "    model = DetectMultiBackend(weights, device=device, dnn=dnn, data=data, fp16=half)\n",
    "    stride, names, pt = model.stride, model.names, model.pt\n",
    "    #print(names)\n",
    "    imgsz = check_img_size(imgsz, s=stride)  # check image size\n",
    "\n",
    "    # Dataloader\n",
    "    if webcam and False:\n",
    "        view_img = check_imshow()\n",
    "        cudnn.benchmark = True  # set True to speed up constant image size inference\n",
    "        dataset = LoadStreams(source, img_size=imgsz, stride=stride, auto=pt)\n",
    "        bs = len(dataset)  # batch_size\n",
    "    else:\n",
    "        dataset = LoadImages(source, img_size=imgsz, stride=stride, auto=pt)\n",
    "        bs = 1  # batch_size\n",
    "    vid_path, vid_writer = [None] * bs, [None] * bs\n",
    "    \n",
    "    demo_vid_path ,demo_vid_writer = [] ,[None]  * 12\n",
    "    \n",
    "    demo_vid_save_path = str(save_dir)\n",
    "\n",
    "    # Run inference\n",
    "    model.warmup(imgsz=(1 if pt else bs, 3, *imgsz))  # warmup\n",
    "    dt, seen = [0.0, 0.0, 0.0], 0\n",
    "    #frame_rate = 4    #frame rate here\n",
    "    prev = 0\n",
    "    prev_frame = 0\n",
    "    current_vid_name = ''\n",
    "    #print(classes)\n",
    "    SKIPPING = False\n",
    "    SKIPPED_COUNT = 0\n",
    "    for path, im, im0s, vid_cap, s in dataset:\n",
    "        if SKIP_VIDEOS :\n",
    "            if current_vid_name!=path :  # check if moring\n",
    "                SKIPPED_COUNT +=1\n",
    "                current_vid_name = path\n",
    "                #print('skipped ', SKIPPED_COUNT, ' video(s)')\n",
    "            if SKIPPED_COUNT <= NUMBER_SKIP_VIDEOS :\n",
    "\n",
    "                continue\n",
    "        #cv2.waitKey(1000) #1 fps   1000/ value =fps\n",
    "        #vidcap.set(cv2.CAP_PROP_POS_MSEC,sec*1000) \n",
    "        #vid_cap.set(cv2.CV_CAP_PROP_FPS, 1)\n",
    "        #vid_cap.set(cv2.CAP_PROP_FPS, 1)\n",
    "        \n",
    "        \n",
    "        \n",
    "        HAS_COW=False\n",
    "        t1 = time_sync()\n",
    "        im = torch.from_numpy(im).to(device)\n",
    "        im = im.half() if model.fp16 else im.float()  # uint8 to fp16/32\n",
    "        im /= 255  # 0 - 255 to 0.0 - 1.0\n",
    "        if len(im.shape) == 3:\n",
    "            im = im[None]  # expand for batch dim\n",
    "        t2 = time_sync()\n",
    "        dt[0] += t2 - t1\n",
    "        \n",
    "        # Inference\n",
    "        visualize = increment_path(save_dir / Path(path).stem, mkdir=True) if visualize else False\n",
    "        pred = model(im, augment=augment, visualize=visualize)\n",
    "        t3 = time_sync()\n",
    "        dt[1] += t3 - t2\n",
    "\n",
    "        # NMS\n",
    "        pred = non_max_suppression(pred, conf_thres, iou_thres, classes, agnostic_nms, max_det=max_det)\n",
    "        dt[2] += time_sync() - t3\n",
    "        \n",
    "        # Second-stage classifier (optional)\n",
    "        # pred = utils.general.apply_classifier(pred, classifier_model, im, im0s)\n",
    "\n",
    "        # Process predictions\n",
    "        #time_elapsed = time.time() - prev\n",
    "    \n",
    "\n",
    "        #if time_elapsed > 1/frame_rate:\n",
    "            #prev = time.time()\n",
    "            #print(\"Greater\")\n",
    "            #print(prev)\n",
    "        #else:\n",
    "            #print(\"break\")\n",
    "            #\n",
    "        \n",
    "        if (read_after_frame - prev_frame == 0 and not has_seen_cattle) and False:\n",
    "            prev_frame=0\n",
    "            continue\n",
    "        #prev_frame +=1\n",
    "        for i, det in enumerate(pred):  # per image\n",
    "           \n",
    "            #det = det.sort(key=lambda row: (row[1]))\n",
    "            #print(time_elapsed)\n",
    "            \n",
    "            seen += 1\n",
    "            if webcam:  # batch_size >= 1\n",
    "                p, im0, frame = path[i], im0s[i].copy(), dataset.count\n",
    "                s += f'{i}: '\n",
    "            else:\n",
    "                p, im0, frame = path, im0s.copy(), getattr(dataset, 'frame', 0)\n",
    "            \n",
    "            #added ROI    \n",
    "            #h,w,c=im0.shape\n",
    "            \n",
    "            #resize\n",
    "            #if(w>640 or h>640):\n",
    "            #  im0=imutils.resize(im0, width = 640)\n",
    "            \n",
    "            \n",
    "            \n",
    "            #check containing frame here\n",
    "            \n",
    "            \n",
    "            \n",
    "            \n",
    "            \n",
    "            #end of checking containing frame\n",
    "            \n",
    "            \n",
    "\n",
    "            #ROI\n",
    "            im0=Demo_DoROI(im0)\n",
    "            h,w,c=im0.shape\n",
    "            #400 to 390\n",
    "            cropped_img = im0.copy()[0 : h,int(X1*(w/default)):int(X2*(w/default))]\n",
    "            \n",
    "            p = Path(p)  # to Path\n",
    "            save_path = str(save_dir / p.name)  # im.jpg\n",
    "            txt_path = str(save_dir / 'labels' / p.stem) + ('' if dataset.mode == 'image' else f'_{frame}')  # im.txt\n",
    "            s += '%gx%g ' % im.shape[2:]  # print string\n",
    "            gn = torch.tensor(im0.shape)[[1, 0, 1, 0]]  # normalization gain whwh\n",
    "            imc = im0.copy() if save_crop else im0  # for save_crop\n",
    "            \n",
    "            annotator = Annotator(im0, line_width=line_thickness, example=str(names))\n",
    "            if len(det):\n",
    "                # Rescale boxes from img_size to im0 size\n",
    "                det[:, :4] = scale_coords(im.shape[2:], det[:, :4], im0.shape).round()\n",
    "                #det.sort(key=lambda row: (row[1][0]))\n",
    "                #print(det)\n",
    "                det, b = torch.sort(det, dim=0)\n",
    "                #print('sorted',det)\n",
    "                # Print results\n",
    "                for c in det[:, -1].unique():\n",
    "                    n = (det[:, -1] == c).sum()  # detections per class\n",
    "                    s += f\"{n} {names[int(c)]}{'s' * (n > 1)}, \"  # add to string\n",
    "                \n",
    "                \n",
    "                \n",
    "                # Write results\n",
    "                cow_position = 0\n",
    "                counter = 0\n",
    "                has_seen_cattle = False\n",
    "                for *xyxy, conf , cls in (det):#reversed(det):\n",
    "                    if(check_withinROI_NEW(xyxy[0],xyxy[1],xyxy[2],xyxy[3],h,w)):\n",
    "                      #print(cls)\n",
    "                      count+=1\n",
    "                      has_seen_cattle = True\n",
    "                        \n",
    "                      \n",
    "                      box_left = xyxy[0]\n",
    "                      box_top = xyxy[1]\n",
    "                      box_w = xyxy[2] - xyxy[0]\n",
    "                      box_h = xyxy[3] - xyxy[1]\n",
    "                      \n",
    "                      #cow_left.append(box_left)\n",
    "                      #cow_top.append(box_top)\n",
    "                      #cow_width.append(box_w)\n",
    "                      #cow_height.append(box_h)\n",
    "                      #cow_score.append(conf)\n",
    "                      #cow_frame.append(seen)\n",
    "                     \n",
    "                      #feed on cnn and get label\n",
    "                      #save_one_box(xyxy, imc, file=save_dir / 'crops' / names[c] / f'{p.stem}_{count}.jpg', BGR=True)\n",
    "                      \n",
    "                      #crop\n",
    "                      BGR=False\n",
    "                      #print(\"step-3-y\")\n",
    "                      crop = im0[int(xyxy[1]):int(xyxy[3]), int(xyxy[0]):int(xyxy[2])]\n",
    "                      #frame_crop = im0[0 : h,int(200*(w/default)):int(540*(w/default))] \n",
    "                      \n",
    "\n",
    "                      #cropped = torch.tensor(crop, device = 'cpu')\n",
    "                      #image = Image.fromarray(crop)\n",
    "                      #img = image.resize((128, 128), Image.ANTIALIAS)\n",
    "                      \n",
    "                    \n",
    "                      #do some process like testing data in cnn\n",
    "                      #img = cv2.resize(crop, (SIZE, SIZE))\n",
    "                      #img = cv2.cvtColor(img, cv2.COLOR_RGB2BGR)\n",
    "                      #cv2.imshow('detected cow',img)\n",
    "                      if cv2.waitKey(1) == ord('a'):  # q to quit\n",
    "                          raise StopIteration\n",
    "                      #crop=imutils.resize(crop, width = 224)\n",
    "                      segmented_img = Generage_Segment(crop)\n",
    "                      label = predict_hog_svm(segmented_img)\n",
    "                      #label = determine_label(img)\n",
    "                      #isknown = isKnownCattle(img) #for unknown\n",
    "                      #print(isknown)\n",
    "                      HAS_COW=True\n",
    "                      #prev_id = Take_Prev_Label(int(xyxy[3]),label,cow_position)\n",
    "                      prev_id = Take_Prev_Label(box_top,box_h,label,cow_position)\n",
    "                      if(prev_id==-1): #skip cattle when prev_id // filter id is -1\n",
    "                          if(count==1):\n",
    "                            has_seen_cattle=False\n",
    "                          count-=1\n",
    "                          continue\n",
    "                      print(prev_id)\n",
    "                      cow_position+=1\n",
    "                      #label = Predict_SVM_test_pro(img)\n",
    "                      cow_id.append(prev_id[0])\n",
    "                      cow_id_original.append(int(label[0]))\n",
    "                      #check cow count here\n",
    "                      h,w,c=im0.shape  \n",
    "                      BATCH_COUNT = prev_id[0] # skip batch count here  \n",
    "                      #BATCH calculator\n",
    "                      if(FIRST_SEEN):\n",
    "                        LAST_SEEN = time.time() #first seen time\n",
    "                        FIRST_SEEN=False\n",
    "                \n",
    "                      if(time.time()-LAST_SEEN>=300): # 3 mins different\n",
    "                        #write excel for each cattle\n",
    "                        # print(len(prevId_record), ' previd_record', prevId_record)\n",
    "                        for csv_index in range(len(prevId_record)):\n",
    "                            df = pd.DataFrame(MAX_prevId[csv_index], columns = ['ID'])\n",
    "                            try:\n",
    "                                org_ids = torch.tensor(MAX_orgId[csv_index], device = 'cpu')\n",
    "                                df[\"Original\"] = org_ids\n",
    "                            except:\n",
    "                                 df[\"Original\"] = MAX_orgId[csv_index]\n",
    "                                    \n",
    "                                    \n",
    "                            try:\n",
    "                                stored_locations = torch.tensor(IMAGE_STORED_LOCATION[csv_index],device = 'cpu')\n",
    "                                df[\"location\"] = stored_locations\n",
    "                            except:\n",
    "                                df[\"location\"]=IMAGE_STORED_LOCATION[csv_index]\n",
    "                                \n",
    "                            df[\"xyxy1\"] = MAX_xyxy1[csv_index]\n",
    "                            df[\"xyxy2\"] = MAX_xyxy2[csv_index]\n",
    "                            df[\"xyxy3\"] = MAX_xyxy3[csv_index]\n",
    "                            df[\"xyxy4\"] = MAX_xyxy4[csv_index]\n",
    "                            \n",
    "                            \n",
    "\n",
    "                            now=str(datetime.now().date())\n",
    "                            \n",
    "                            save_csv_each_path = str(Path(save_dir / str(prevId_record[csv_index]) / str(prevId_record[csv_index]) / f'{str(prevId_record[csv_index])}.csv'))\n",
    "                            #print(save_csv_each_path)\n",
    "                            \n",
    "                            df.to_csv(save_csv_each_path, index= False) ##\n",
    "                            MAX_xyxy1[csv_index]=[]\n",
    "                            MAX_xyxy2[csv_index]=[]\n",
    "                            MAX_xyxy3[csv_index]=[]\n",
    "                            MAX_xyxy4[csv_index]=[]\n",
    "                            MAX_orgId[csv_index]=[]\n",
    "                            MAX_prevId[csv_index]=[]\n",
    "                            IMAGE_STORED_LOCATION[csv_index]=[]\n",
    "                            \n",
    "                        #print(\"new batch\")\n",
    "                        prevId_record = []\n",
    "                        MAX_prevId = []\n",
    "                        MAX_xyxy1 = [] \n",
    "                        MAX_xyxy2 = [] \n",
    "                        MAX_xyxy3 = [] \n",
    "                        MAX_xyxy4 = [] \n",
    "                        MAX_orgId = [] \n",
    "                        IMAGE_STORED_LOCATION = []\n",
    "                  \n",
    "                        \n",
    "                        cattle_ids = []\n",
    "                        #print(len(det))\n",
    "                        \n",
    "                  \n",
    "                        #release video write and reset vid_path\n",
    "                        \n",
    "                        #for index in range(len(demo_vid_path)):\n",
    "                            \n",
    "                        #    if isinstance(demo_vid_writer[index], cv2.VideoWriter):\n",
    "                        #        demo_vid_writer[index].release()  # release previous video writer\n",
    "                        #        print('removed video write ', demo_vid_path[index])\n",
    "                        \n",
    "                        #demo_vid_path = []\n",
    "                        #demo_img_save_path = []\n",
    "                        #end\n",
    "                        \n",
    "                      LAST_SEEN = time.time()\n",
    "                      \n",
    "                      #final_label = compare_with_prev_cow(label[0],int(xyxy[3]),h)\n",
    "                      #label = take_first_appear_lable(label[0],int(xyxy[3]),h,cow_position) #remove\n",
    "                      #print(im0.shape)\n",
    "                      #if(isknown[0] == -1): #open when doing unknonw\n",
    "                      #  label = ['unknown']\n",
    "                      #print(label)\n",
    "                      #if final_label != None: print(\"final label \"+ final_label) \n",
    "                      annotator.box_label(xyxy,prev_id[0], color=(15, 0, 255))#color=colors(c, True))  # change back to prev_id \n",
    "                      #if save_txt:  # Write to file\n",
    "                      #    xywh = (xyxy2xywh(torch.tensor(xyxy).view(1, 4)) / gn).view(-1).tolist()  # normalized xywh\n",
    "                      #    line = (cls, *xywh, conf) if save_conf else (cls, *xywh)  # label format\n",
    "                      #    with open(f'{txt_path}.txt', 'a') as f:\n",
    "                      #        f.write(('%g ' * len(line)).rstrip() % line + '\\n')\n",
    "\n",
    "                      #if save_img or save_crop or view_img:  # Add bbox to image\n",
    "                      #    c = int(cls)  # integer class\n",
    "                      #    #label = None if hide_labels else (names[c] if hide_conf else f'{names[c]} {conf:.2f}')  #original\n",
    "                      #    annotator.box_label(xyxy, label, color=colors(c, True))\n",
    "                      \n",
    "                      if save_crop:\n",
    "                           save_one_box(xyxy, imc, file=save_dir /  str(BATCH_COUNT)  / prev_id[0]  / 'cropped' / f'{p.stem}.jpg', BGR=True)\n",
    "                      # change by cattle id here\n",
    "                      #demo_vid_index= 0\n",
    "                      #demo_path = str(Path(str(save_dir)+\"/\"+str(BATCH_COUNT)+\"/\"+prev_id[0]).with_suffix('.mp4'))\n",
    "                      \n",
    "                      #save_one_box(xyxy, im0, file=save_dir / str(BATCH_COUNT) / prev_id[0]  / 'cropped' / f'{p.stem}.jpg', BGR=True)\n",
    "                      #annotated_img = annotator.result()\n",
    "                      \n",
    "                      #fps, fw, fh = 6, annotated_img.shape[1], annotated_img.shape[0] \n",
    "                      #print('width ',fw,' height ',fh)\n",
    "                      base_path = str(Path(save_dir / str(BATCH_COUNT) / prev_id[0]))\n",
    "                      \n",
    "                      demo_annotated_img_save_path = Path(base_path+ '/' + f'{p.stem}_{str(manual_cow_count).zfill(4)}.jpg')\n",
    "                      #print(demo_annotated_img_save_path)\n",
    "                      #save_one_box(xyxy, imc, file = base_path / prev_id[0]  / f'{p.stem}.jpg', BGR=True)\n",
    "                      segmented_img_save_path = Path(base_path+ '/' + f'segmented_img_{str(manual_cow_count).zfill(4)}.jpg')\n",
    "                      cv2.imwrite(segmented_img_save_path,segmented_img)\n",
    "                      cv2.imwrite(demo_annotated_img_save_path, cropped_img)\n",
    "                      #change cropped size here  #230 to 215 410 to 390\n",
    "                      no_tensor_xyxy =[int(xyxy[0]*NEW_BLACK_X1/(2*default)),int(xyxy[1]),int(xyxy[2]*NEW_BLACK_X2/(2*default)),int(xyxy[3])] #to get the crop size\n",
    "                      #print(no_tensor_xyxy)\n",
    "                      try:\n",
    "                        index_prevId = prevId_record.index(int(prev_id[0]))\n",
    "                        #print(index_prevId)\n",
    "                        MAX_prevId[index_prevId].append(int(prev_id[0]))#,int(label[0]),xyxy)\n",
    "                        MAX_xyxy1[index_prevId].append(int(no_tensor_xyxy[0]))\n",
    "                        MAX_xyxy2[index_prevId].append(int(no_tensor_xyxy[1]))\n",
    "                        MAX_xyxy3[index_prevId].append(int(no_tensor_xyxy[2]))\n",
    "                        MAX_xyxy4[index_prevId].append(int(no_tensor_xyxy[3]))\n",
    "                        MAX_orgId[index_prevId].append(int(label[0]))\n",
    "                        \n",
    "                        IMAGE_STORED_LOCATION[index_prevId].append(demo_annotated_img_save_path)\n",
    "                        \n",
    "                      except :\n",
    "                        prevId_record.append(int(prev_id[0]))\n",
    "                        # print(len(prevId_record)-1, 'prevID_record ', len(MAX_prevId) , 'max_previd' )\n",
    "\n",
    "                        #MAX_prevId[len(prevId_record)-1].append(int(prev_id[0]))#,int(label[0]),xyxy)\n",
    "                        #MAX_xyxy[len(MAX_prevId)-1].append(xyxy)\n",
    "                        #MAX_orgId[len(MAX_prevId)-1].append(int(label[0]))\n",
    "                        MAX_prevId.append([int(prev_id[0])])#,int(label[0]),xyxy)\n",
    "                        \n",
    "                        MAX_xyxy1.append([int(no_tensor_xyxy[0])])\n",
    "                        MAX_xyxy2.append([int(no_tensor_xyxy[1])])\n",
    "                        MAX_xyxy3.append([int(no_tensor_xyxy[2])])\n",
    "                        MAX_xyxy4.append([int(no_tensor_xyxy[3])])\n",
    "                        MAX_orgId.append([int(label[0])])\n",
    "                        IMAGE_STORED_LOCATION.append([demo_annotated_img_save_path])\n",
    "                    \n",
    "                      try:\n",
    "                        #demo_vid_index = demo_vid_path.index(demo_path)\n",
    "                        demo_vid_index = demo_img_save_path.index(base_path)\n",
    "                        \n",
    "                        #print(\"path exist\")\n",
    "                      except:\n",
    "                        manual_summarize_ids.append(int(prev_id[0]))\n",
    "                        manual_local_ids.append(manual_id)\n",
    "                        manual_id +=1\n",
    "                        \n",
    "                        \n",
    "                        #demo_vid_path.append(demo_path)\n",
    "                        #print(base_path)\n",
    "                        #print('vid path is new ')\n",
    "                        demo_img_save_path.append(base_path)\n",
    "                        #demo_vid_index = len(demo_vid_path) -1\n",
    "                        #demo_vid_writer[demo_vid_index]=(cv2.VideoWriter(demo_vid_path[demo_vid_index], cv2.VideoWriter_fourcc(*'mp4v'),6, (fw, fh)))\n",
    "                        \n",
    "                     \n",
    "                      write_demo_vide=False\n",
    "                      if write_demo_vide :  \n",
    "                        \n",
    "                        \n",
    "                        #print('vid index is ', demo_vid_index, ' location is ', demo_vid_path[demo_vid_index])\n",
    "                        #print(annotated_img.shape)\n",
    "                        if isinstance(demo_vid_writer[demo_vid_index], cv2.VideoWriter):\n",
    "                            demo_vid_writer[demo_vid_index].write(annotated_img)\n",
    "                      \n",
    "                      manual_cow_count +=1\n",
    "\n",
    "\n",
    "            # Stream results\n",
    "            im0 = cv2.resize(annotator.result(), (1080, 1080))\n",
    "            if view_img and True:\n",
    "                \n",
    "                if(w>1080 or h>1080):\n",
    "                    cv2.imshow('detected cows', imutils.resize(im0, width = 1080,height=720))\n",
    "                else:\n",
    "                    cv2.imshow('detected cows',im0)\n",
    "                if cv2.waitKey(1) == ord('a'):  # q to quit\n",
    "                    raise StopIteration\n",
    "\n",
    "            # Save results (image with detections)\n",
    "            if (save_img or save_video) and HAS_COW:\n",
    "                if dataset.mode == 'image':\n",
    "                    cv2.imwrite(save_path, im0)\n",
    "                else :  # 'video' or 'stream'\n",
    "                    if vid_path[i] != save_path:  # new video\n",
    "                        vid_path[i] = save_path\n",
    "                        if isinstance(vid_writer[i], cv2.VideoWriter):\n",
    "                            vid_writer[i].release()  # release previous video writer\n",
    "                        if vid_cap:  # video\n",
    "                            fps = vid_cap.get(cv2.CAP_PROP_FPS)\n",
    "                            w = 1080#int(vid_cap.get(cv2.CAP_PROP_FRAME_WIDTH))\n",
    "                            h = 1080#int(vid_cap.get(cv2.CAP_PROP_FRAME_HEIGHT))\n",
    "                            #fps=frame_rate * 2\n",
    "                        else:  # stream\n",
    "                            fps, w, h = 30, im0.shape[1], im0.shape[0]\n",
    "                            #fps=frame_rate\n",
    "                        save_path = str(Path(save_path).with_suffix('.mp4'))  # force *.mp4 suffix on results videos\n",
    "                        all_detected_cow.append('xxxxxxxxxxxxx')\n",
    "                        all_detected_cow.append('xxxxxxxxxxxxx')\n",
    "                        all_detected_cow.append(save_path)\n",
    "                        \n",
    "                        vid_writer[i] = cv2.VideoWriter(save_path, cv2.VideoWriter_fourcc(*'mp4v'), fps, (w, h))\n",
    "                    vid_writer[i].write(im0)\n",
    "\n",
    "        # Print time (inference-only)\n",
    "        LOGGER.info(f'{s}Done. ({t3 - t2:.3f}s)')\n",
    "    cv2.destroyAllWindows()  \n",
    "    \n",
    "    #region release remaining video write\n",
    "    \n",
    "    #for index in range(len(demo_vid_path)):\n",
    "                        \n",
    "    #    if isinstance(demo_vid_writer[index], cv2.VideoWriter):\n",
    "    #        demo_vid_writer[index].release()  # release previous video writer\n",
    "    #        print('removed video write ', demo_vid_path[index])\n",
    "            \n",
    "    #demo_vid_path = []\n",
    "    \n",
    "    ##cmtbyslm\n",
    "    df = pd.DataFrame(cow_id, columns = [\"ID\"])\n",
    "    try:\n",
    "        original_ids = torch.tensor(cow_id_original, device = 'cpu')\n",
    "        df[\"Original\"] = original_ids\n",
    "    except:\n",
    "         df[\"Original\"] = cow_id_original\n",
    "    \n",
    "    \n",
    "    \n",
    "    now=str(datetime.now().date())\n",
    "    try: #ohh is it me?\n",
    "        print(all_detected_cow)\n",
    "        #all_detected_cow = torch.tensor(all_detected_cow,device=\"cpu\")\n",
    "        detected_cow_df = pd.DataFrame(all_detected_cow, columns = ['ID'])\n",
    "        detected_cow_df.to_csv('csv/all_detected_cow_'+str(frame_rate)+'_fps_'+now+'.csv')  \n",
    "        print('result saved to all_detected_cow_'+str(frame_rate)+'_fps_'+now+'.csv')\n",
    "    except :\n",
    "        print (\"couldn't save all_detected_cow\")\n",
    "    \n",
    "    path_to_csv = csv_save_dir+'/detected_cow_vggSVM_'+now+'.csv'\n",
    "    df.to_csv(path_to_csv, index= False) \n",
    "    \n",
    "    # Print results\n",
    "    t = tuple(x / seen * 1E3 for x in dt)  # speeds per image\n",
    "    LOGGER.info(f'Speed: %.1fms pre-process, %.1fms inference, %.1fms NMS per image at shape {(1, 3, *imgsz)}' % t)\n",
    "    \n",
    "    if save_txt or save_img:\n",
    "        s = f\"\\n{len(list(save_dir.glob('labels/*.txt')))} labels saved to {save_dir / 'labels'}\" if save_txt else ''\n",
    "        LOGGER.info(f\"Results saved to {colorstr('bold', save_dir)}{s}\")\n",
    "    if update:\n",
    "        strip_optimizer(weights)  # update model (to fix SourceChangeWarning)\n",
    "    \n",
    "    Generate_Cattle_Id_By_Apperance(path_to_csv,csv_save_dir)\n",
    "    \n",
    "    ########### region save csv for each cattle\n",
    "\n",
    "    for csv_index in range(len(prevId_record)):\n",
    "        df = pd.DataFrame(MAX_prevId[csv_index] , columns = ['ID'])\n",
    "        try:\n",
    "            org_ids = torch.tensor(MAX_orgId[csv_index], device = 'cpu')\n",
    "            df[\"Original\"] = org_ids\n",
    "        except:\n",
    "            df[\"Original\"] = MAX_orgId[csv_index]\n",
    "        \n",
    "        try:\n",
    "            stored_locations = torch.tensor(IMAGE_STORED_LOCATION[csv_index],device = 'cpu')\n",
    "            df[\"location\"] = stored_locations\n",
    "        except:\n",
    "            df[\"location\"]=IMAGE_STORED_LOCATION[csv_index]\n",
    "        df[\"xyxy1\"] = MAX_xyxy1[csv_index]\n",
    "        df[\"xyxy2\"] = MAX_xyxy2[csv_index]\n",
    "        df[\"xyxy3\"] = MAX_xyxy3[csv_index]\n",
    "        df[\"xyxy4\"] = MAX_xyxy4[csv_index]\n",
    "\n",
    "\n",
    "        now=str(datetime.now().date())\n",
    "                            \n",
    "        save_csv_each_path = str(Path(save_dir / str(prevId_record[csv_index]) / str(prevId_record[csv_index]) / f'{str(prevId_record[csv_index])}.csv'))\n",
    "        df.to_csv(save_csv_each_path, index= False)##asdfasdf\n",
    "    prevId_record = []\n",
    "    MAX_prevId = []\n",
    "    MAX_xyxy1 = [] \n",
    "    MAX_xyxy2 = [] \n",
    "    MAX_xyxy3 = [] \n",
    "    MAX_xyxy4 = [] \n",
    "    MAX_orgId = [] \n",
    "    IMAGE_STORED_LOCATION = []\n",
    "                                      \n",
    "    cattle_ids = []\n",
    "    #################################\\\n",
    "    manual_summarize_ids = []\n",
    "    manual_local_ids = []\n",
    "    #### write video after saving csv\n",
    "    final_cattle_count = 1\n",
    "    for loc in range(len(demo_img_save_path)):\n",
    "        print(demo_img_save_path[loc])\n",
    "        final_cattle_id = writeVideo(demo_img_save_path[loc])\n",
    "        if(final_cattle_id != -1):\n",
    "            manual_local_ids.append(final_cattle_count)\n",
    "            manual_summarize_ids.append(final_cattle_id)\n",
    "            final_cattle_count+=1 \n",
    "    \n",
    "    summarize_id_csv = pd.DataFrame(manual_local_ids, columns = [\"Local Id\"])\n",
    "    try:\n",
    "        manual_summarize_ids = torch.tensor(manual_summarize_ids, device = 'cpu')\n",
    "        summarize_id_csv[\"Cow Id\"] = manual_summarize_ids\n",
    "    except:\n",
    "         summarize_id_csv[\"Cow Id\"] = manual_summarize_ids\n",
    "            \n",
    "    summarize_id_csv.to_csv(csv_save_dir+'/summarize_id_'+now+'.csv', index= False) \n",
    "    \n",
    "    \n",
    "    df.to_csv(csv_save_dir+'/detected_cow_vggSVM_'+now+'.csv', index= False) \n",
    "    # Print results\n",
    "    t = tuple(x / seen * 1E3 for x in dt)  # speeds per image\n",
    "    LOGGER.info(f'Speed: %.1fms pre-process, %.1fms inference, %.1fms NMS per image at shape {(1, 3, *imgsz)}' % t)\n",
    "    \n",
    "    if save_txt or save_img:\n",
    "        s = f\"\\n{len(list(save_dir.glob('labels/*.txt')))} labels saved to {save_dir / 'labels'}\" if save_txt else ''\n",
    "        LOGGER.info(f\"Results saved to {colorstr('bold', save_dir)}{s}\")\n",
    "    if update:\n",
    "        strip_optimizer(weights)  # update model (to fix SourceChangeWarning)\n",
    "        \n",
    "def parse_opt():\n",
    "    class Args:\n",
    "        #weights='September_bounding_flip_800\\best.pt' # model.pt path(s) where is weight?\n",
    "        weights= 'apirl_weights/v2_bright_dar_noise/best.pt' #'paper_weights/epochs_300_weights/best.pt' #v3\n",
    "        #weights=ROOT /'paper_weights/epochs_200_weights/best.pt' #v3\n",
    "        #source= \"C:\\\\Users\\\\thithilab\\\\Desktop\\\\file\\\\New Data\\\\14\\\\first32\\\\20220310_152525_E1E0.mkv\" # file/dir/URL/glob, 0 for webcam  //change your video path here\n",
    "        source= file_location # file/dir/URL/glob, 0 for webcam  //change your video path here\n",
    "        data='data/coco128.yaml'  # dataset.yaml path\n",
    "        imgsz=(640, 640)  # inference size (height, width)\n",
    "        conf_thres=0.6 # confidence threshold\n",
    "        iou_thres=0.001  # NMS IOU threshold 0.45\n",
    "        max_det=4 # maximum detections per image # prev 1000\n",
    "        device='0'  # cuda device, i.e. 0 or 0,1,2,3 or cpu\n",
    "        view_img=True  # show results\n",
    "        save_txt=False  # save results to *.txt\n",
    "        save_conf=False  # save confidences in --save-txt labels\n",
    "        save_crop=True  # save cropped prediction boxes\n",
    "        nosave=False  # do not save images/videos\n",
    "        classes=None  # filter by class: --class 0, or --class 0 2 3 #None is prev value\n",
    "        agnostic_nms=False  # class-agnostic NMS\n",
    "        augment=False  # augmented inference\n",
    "        visualize=False  # visualize features\n",
    "        update=False  # update all models\n",
    "        project='runs/paper/may/vgg_RF'  # save results to project/name\n",
    "        name='exp'  # save results to project/name\n",
    "        exist_ok=False  # existing project/name ok, do not increment\n",
    "        line_thickness=8  # bounding box thickness (pixels)\n",
    "        hide_labels=False  # hide labels\n",
    "        hide_conf=False  # hide confidences\n",
    "        half=True  # use FP16 half-precision inference #False\n",
    "        dnn=False  # use OpenCV DNN for ONNX inference\n",
    "\n",
    "    return Args()\n",
    "     \n",
    "   #parser here\n",
    "\n",
    "\n",
    "def main(opt):\n",
    "    check_requirements(exclude=('tensorboard', 'thop'))\n",
    "    run(**vars(opt))\n",
    "    #run()\n",
    "\n",
    "#__name__==\"__main__\"\n",
    "if __name__ == \"__main__\":\n",
    "\n",
    "    frame_rate=3\n",
    "    opt = parse_opt()\n",
    "    t = Timer()\n",
    "    t.start() # timer start \n",
    "    main(opt)\n",
    "    t.stop()  # A few seconds later=\n"
   ]
  },
  {
   "cell_type": "code",
   "execution_count": null,
   "id": "3811f1b4-cb20-43e5-8ec3-d9463ae7bd22",
   "metadata": {},
   "outputs": [],
   "source": []
  },
  {
   "cell_type": "code",
   "execution_count": null,
   "id": "7db7f014-2f41-455a-b2bc-bf7bcf77e612",
   "metadata": {},
   "outputs": [],
   "source": [
    "#print(prevId_record)\n",
    "#print(MAX_prevId)\n",
    "#MAX_prevId[0].append(3"
   ]
  },
  {
   "cell_type": "code",
   "execution_count": 23,
   "id": "6e73ce4b-15df-4b26-9c96-f38a47d7db37",
   "metadata": {},
   "outputs": [],
   "source": [
    "cv2.destroyAllWindows()"
   ]
  },
  {
   "cell_type": "code",
   "execution_count": null,
   "id": "73ca39ae-aac3-4e37-8d92-bf4fec4f5e04",
   "metadata": {},
   "outputs": [],
   "source": []
  }
 ],
 "metadata": {
  "kernelspec": {
   "display_name": "Python 3 (ipykernel)",
   "language": "python",
   "name": "python3"
  },
  "language_info": {
   "codemirror_mode": {
    "name": "ipython",
    "version": 3
   },
   "file_extension": ".py",
   "mimetype": "text/x-python",
   "name": "python",
   "nbconvert_exporter": "python",
   "pygments_lexer": "ipython3",
   "version": "3.9.16"
  }
 },
 "nbformat": 4,
 "nbformat_minor": 5
}
