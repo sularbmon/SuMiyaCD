{
 "cells": [
  {
   "cell_type": "code",
   "execution_count": 1,
   "id": "cfaf509c-903b-4206-b809-dfa40f40d421",
   "metadata": {},
   "outputs": [
    {
     "ename": "SyntaxError",
     "evalue": "invalid syntax (1155920156.py, line 1)",
     "output_type": "error",
     "traceback": [
      "\u001b[1;36m  Cell \u001b[1;32mIn[1], line 1\u001b[1;36m\u001b[0m\n\u001b[1;33m    yolo task=segment mode=train model=yolov8n-seg.pt  data=\"\"D:\\LamenessData\\yolov8\\masked_cow_new_2023_SEP\\data.yaml\" epochs=150 imgsz=[640,640] name='Hokkaido_Weights_SEP_2023'\u001b[0m\n\u001b[1;37m         ^\u001b[0m\n\u001b[1;31mSyntaxError\u001b[0m\u001b[1;31m:\u001b[0m invalid syntax\n"
     ]
    }
   ],
   "source": [
    "yolo task=segment mode=train model=yolov8n-seg.pt  data=\"\"D:\\LamenessData\\yolov8\\masked_cow_new_2023_SEP\\data.yaml\" epochs=150 imgsz=[640,640] name='Hokkaido_Weights_SEP_2023'"
   ]
  }
 ],
 "metadata": {
  "kernelspec": {
   "display_name": "Python 3 (ipykernel)",
   "language": "python",
   "name": "python3"
  },
  "language_info": {
   "codemirror_mode": {
    "name": "ipython",
    "version": 3
   },
   "file_extension": ".py",
   "mimetype": "text/x-python",
   "name": "python",
   "nbconvert_exporter": "python",
   "pygments_lexer": "ipython3",
   "version": "3.9.16"
  }
 },
 "nbformat": 4,
 "nbformat_minor": 5
}
