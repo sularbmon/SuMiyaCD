{
 "cells": [
  {
   "cell_type": "code",
   "execution_count": 1,
   "id": "b676c638-f48d-49a7-a1a1-6fe98e5b5d77",
   "metadata": {},
   "outputs": [
    {
     "name": "stderr",
     "output_type": "stream",
     "text": [
      "C:\\Users\\thithilab\\AppData\\Roaming\\Python\\Python39\\site-packages\\tqdm\\auto.py:21: TqdmWarning: IProgress not found. Please update jupyter and ipywidgets. See https://ipywidgets.readthedocs.io/en/stable/user_install.html\n",
      "  from .autonotebook import tqdm as notebook_tqdm\n"
     ]
    }
   ],
   "source": [
    "import torch\n",
    "import gc\n",
    "\n",
    "import asyncio\n",
    "import threading\n",
    "\n",
    "\n",
    "gc.collect()\n",
    "\n",
    "torch.cuda.empty_cache()"
   ]
  },
  {
   "cell_type": "code",
   "execution_count": 2,
   "id": "16abd98a-5a5c-4d05-b271-eedfed0315ae",
   "metadata": {
    "tags": []
   },
   "outputs": [],
   "source": [
    "from pathlib import Path\n",
    "import cv2\n",
    "from sklearn import svm\n",
    "import numpy as np\n",
    "from datetime import datetime\n",
    "import os\n",
    "import time\n",
    "from ultralytics.yolo.utils.files import increment_path\n",
    "import torch\n",
    "import gc\n",
    "import pickle\n",
    "import pandas as pd\n",
    "from tensorflow.keras.applications.vgg16 import VGG16\n",
    "import csv\n",
    "#from pathlib import Path\n",
    "import matplotlib.pyplot as plt\n",
    "gc.collect()\n",
    "torch.cuda.empty_cache()\n",
    "import tensorflow as tf\n",
    "\n",
    "from ultralytics.yolo.utils.plotting import Annotator\n",
    "\n",
    "from ultralytics import YOLO\n",
    "\n",
    "physical_devices = tf.config.list_physical_devices('GPU')\n",
    "if physical_devices:\n",
    "    tf.config.experimental.set_memory_growth(physical_devices[0], True)\n",
    "\n",
    "#HONKAWA_DETECTOR = YOLO(\"D:/Python/SULarbmon/Python/env/yolov8_june/runs/segment/Honkawa_Weights_v1/weights/best.pt\")  # load a custom model\n",
    "#HOKKAIDO_DETECTOR = YOLO('runs/segment/train4/weights/best.pt')  # load a custom model"
   ]
  },
  {
   "cell_type": "code",
   "execution_count": null,
   "id": "fc46bb71-637a-4054-8201-086685c58da7",
   "metadata": {},
   "outputs": [],
   "source": [
    "SIZE_112=112\n",
    "\n",
    "vgg_112 = VGG16(weights='imagenet', include_top=False, input_shape=(SIZE_112,SIZE_112, 3))\n",
    "\n",
    "#Make loaded layers as non-trainable. This is important as we want to work with pre-trained weights\n",
    "for layer in vgg_112.layers:\n",
    "\tlayer.trainable = False\n",
    "    \n",
    "#vgg.summary()  #Trainable parameters will be 0\n"
   ]
  },
  {
   "cell_type": "code",
   "execution_count": 3,
   "id": "e99d4089",
   "metadata": {},
   "outputs": [],
   "source": [
    "SIZE_224 = 224\n",
    "\n",
    "vgg_224 = VGG16(weights='imagenet', include_top=False, input_shape=(SIZE_224, SIZE_224, 3))\n",
    "\n",
    "#Make loaded layers as non-trainable. This is important as we want to work with pre-trained weights\n",
    "for layer in vgg_224.layers:\n",
    "\tlayer.trainable = False\n",
    "    \n",
    "#vgg.summary()  #Trainable parameters will be 0\n"
   ]
  },
  {
   "cell_type": "code",
   "execution_count": null,
   "id": "5eba0d22-24e9-4695-9ebd-ef41e852f195",
   "metadata": {},
   "outputs": [],
   "source": [
    "le_filename = '../HONKAWA_VGG_SVM_PROB_BLACKFILL/VGG_SVM_HONKAWA_112_blackfill.le'\n",
    "#black_le_filename = '../HONKAWA_VGG_SVM_PROB_BLACKFILL/VGG_SVM_HONKAWA_112_blackfill.pkl'\n",
    "\n",
    "predictor_filename ='../HONKAWA_VGG_SVM_PROB_BLACKFILL/VGG_SVM_HONKAWA_112_blackfill.pkl'\n",
    "#black_predictor_filename ='../HONKAWA_VGG_SVM_PROB/VGG_SVM_HONKAWA_112_1103_3pfs_prob_BLACK.pkl'\n",
    "\n",
    "predictor = pickle.load(open(predictor_filename, 'rb'))\n",
    "lable_encoder = pickle.load(open(le_filename, 'rb'))\n",
    "\n",
    "\n",
    "#black_predictor = pickle.load(open(black_predictor_filename, 'rb'))\n",
    "#black_lable_encoder = pickle.load(open(black_le_filename, 'rb'))\n",
    "\n"
   ]
  },
  {
   "cell_type": "code",
   "execution_count": 4,
   "id": "cec86c3c",
   "metadata": {},
   "outputs": [],
   "source": [
    "Hokkaido_B_predictor_filename = '../PaperWeight_2024/HOKKAIDO_BLACK_SQUARE.pkl'\n",
    "Hokkaido_B_le_filename = '../PaperWeight_2024/HOKKAIDO_BLACK_SQUARE.le'\n",
    "\n",
    "Hokkaido_B_predictor = pickle.load(open(Hokkaido_B_predictor_filename,'rb'))\n",
    "Hokkaido_B_lable_encoder = pickle.load(open(Hokkaido_B_le_filename,'rb'))"
   ]
  },
  {
   "cell_type": "code",
   "execution_count": 5,
   "id": "92038dce",
   "metadata": {},
   "outputs": [
    {
     "name": "stdout",
     "output_type": "stream",
     "text": [
      "defined HOKKAIDO_B_SVM predictor\n"
     ]
    }
   ],
   "source": [
    "async def HOKKAIDO_B_SVM(image):  ## new with vgg\n",
    "    \n",
    "    vgg_timer = time.time()\n",
    "    global N_TOP\n",
    "    input_img = np.expand_dims(image, axis=0) #Expand dims so the input is (num images, x, y, c)\n",
    "    input_img_feature=vgg_224.predict(input_img)\n",
    "    input_img_features=input_img_feature.reshape(input_img_feature.shape[0], -1)\n",
    "    print('VGG took ',time.time()-vgg_timer)\n",
    "    \n",
    "    svm_timer = time.time()\n",
    "    with tf.device('/GPU:0'):\n",
    "        probabilities = Hokkaido_B_predictor.predict_proba(input_img_features)\n",
    "    print('SVM took ',time.time()-svm_timer)\n",
    "    top_classes_indices = np.argsort(probabilities[0])[::-1][:N_TOP]\n",
    "    top_predicted_results = []\n",
    "    top_probabilities = probabilities[0][top_classes_indices]\n",
    "    \n",
    "    \n",
    "    svm_timer = time.time()\n",
    "    for i in range(N_TOP):\n",
    "        result = Hokkaido_B_lable_encoder.inverse_transform([top_classes_indices[i]])  #Reverse the label encoder to original name\n",
    "        #print(i+1,' => ',result, ' is the top result with ',top_probabilities[i])\n",
    "        top_predicted_results.append(int(result))\n",
    "        top_predicted_results.append(str(top_probabilities[i]))\n",
    "    #print(top_predicted_results)    \n",
    "    print('LOOPING result took ',time.time()-svm_timer)\n",
    "    return top_predicted_results\n",
    "    \n",
    "    return predicted_result\n",
    "print(\"defined HOKKAIDO_B_SVM predictor\")"
   ]
  },
  {
   "cell_type": "code",
   "execution_count": 6,
   "id": "6e548b71",
   "metadata": {},
   "outputs": [],
   "source": [
    "Hokkaido_NB_predictor_filename = '../PaperWeight_2024/HOKKAIDO_NON_BLACK_SQUARE.pkl'\n",
    "Hokkaido_NB_le_filename = '../PaperWeight_2024/HOKKAIDO_NON_BLACK_SQUARE.le'\n",
    "\n",
    "Hokkaido_NB_predictor = pickle.load(open(Hokkaido_NB_predictor_filename,'rb'))\n",
    "Hokkaido_NB_lable_encoder = pickle.load(open(Hokkaido_NB_le_filename,'rb'))"
   ]
  },
  {
   "cell_type": "code",
   "execution_count": 7,
   "id": "c7dfe71f",
   "metadata": {},
   "outputs": [
    {
     "name": "stdout",
     "output_type": "stream",
     "text": [
      "defined HOKKAIDO_NB_SVM predictor\n"
     ]
    }
   ],
   "source": [
    "\n",
    "async def HOKKAIDO_NB_SVM(image):  ## new with vgg\n",
    "    vgg_timer = time.time()\n",
    "    global N_TOP\n",
    "    input_img = np.expand_dims(image, axis=0) #Expand dims so the input is (num images, x, y, c)\n",
    "    input_img_feature=vgg_224.predict(input_img)\n",
    "    input_img_features=input_img_feature.reshape(input_img_feature.shape[0], -1)\n",
    "    print('VGG took ',time.time()-vgg_timer)\n",
    "    \n",
    "    svm_timer = time.time()\n",
    "    with tf.device('/GPU:0'):\n",
    "        probabilities = Hokkaido_NB_predictor.predict_proba(input_img_features)\n",
    "    print('SVM took ',time.time()-svm_timer)\n",
    "    top_classes_indices = np.argsort(probabilities[0])[::-1][:N_TOP]\n",
    "    top_predicted_results = []\n",
    "    top_probabilities = probabilities[0][top_classes_indices]\n",
    "    \n",
    "    \n",
    "    svm_timer = time.time()\n",
    "    for i in range(N_TOP):\n",
    "        result = Hokkaido_NB_lable_encoder.inverse_transform([top_classes_indices[i]])  #Reverse the label encoder to original name\n",
    "        #print(i+1,' => ',result, ' is the top result with ',top_probabilities[i])\n",
    "        top_predicted_results.append(int(result))\n",
    "        top_predicted_results.append(str(top_probabilities[i]))\n",
    "    #print(top_predicted_results)    \n",
    "    print('LOOPING result took ',time.time()-svm_timer)\n",
    "    return top_predicted_results\n",
    "    \n",
    "    #return predicted_result\n",
    "print(\"defined HOKKAIDO_NB_SVM predictor\")"
   ]
  },
  {
   "cell_type": "code",
   "execution_count": null,
   "id": "71cc6f3b",
   "metadata": {},
   "outputs": [],
   "source": [
    "Sumiyoshi_predictor_filename = '../PaperWeight_2024/SUMIYOSHI.pkl'\n",
    "Sumiyoshi_le_filename = '../PaperWeight_2024/SUMIYOSHI.le'\n",
    "\n",
    "Sumiyoshi_predictor = pickle.load(open(Sumiyoshi_predictor_filename,'rb'))\n",
    "Sumiyoshi_lable_encoder = picker.load(open(Sumiyoshi_le_filename,'rb'))"
   ]
  },
  {
   "cell_type": "code",
   "execution_count": null,
   "id": "0099d34d",
   "metadata": {},
   "outputs": [],
   "source": [
    "def SUMIYOSHI_NB_SVM(image):  ## new with vgg\n",
    "    \n",
    "    global N_TOP\n",
    "    input_img = np.expand_dims(image, axis=0) #Expand dims so the input is (num images, x, y, c)\n",
    "    input_img_feature=vgg_224.predict(input_img)\n",
    "    input_img_features=input_img_feature.reshape(input_img_feature.shape[0], -1)\n",
    "    probabilities = Sumiyoshi_predictor.predict_proba(input_img_features)\n",
    "    \n",
    "    top_classes_indices = np.argsort(probabilities[0])[::-1][:N_TOP]\n",
    "    top_predicted_results = []\n",
    "    top_probabilities = probabilities[0][top_classes_indices]\n",
    "    for i in range(N_TOP):\n",
    "        result = Sumiyoshi_lable_encoder.inverse_transform([top_classes_indices[i]])  #Reverse the label encoder to original name\n",
    "        #print(i+1,' => ',result, ' is the top result with ',top_probabilities[i])\n",
    "        top_predicted_results.append(int(result))\n",
    "        top_predicted_results.append(str(top_probabilities[i]))\n",
    "    #print(top_predicted_results)    \n",
    "    return top_predicted_results\n",
    "    \n",
    "    return predicted_result\n",
    "print(\"defined SUMIYOSHI_NB_SVM predictor\")"
   ]
  },
  {
   "cell_type": "code",
   "execution_count": null,
   "id": "5f235b43-c095-4399-b8b5-547abefd452e",
   "metadata": {},
   "outputs": [],
   "source": [
    "def HONKAWA_NB_SVM(image):  ## new with vgg\n",
    "    global N_TOP\n",
    "    global mapping_data\n",
    "    input_img = np.expand_dims(image, axis=0) #Expand dims so the input is (num images, x, y, c)\n",
    "    input_img_feature=vgg.predict(input_img)\n",
    "    input_img_features=input_img_feature.reshape(input_img_feature.shape[0], -1)\n",
    "    probabilities = predictor.predict_proba(input_img_features)\n",
    "    \n",
    "    top_classes_indices = np.argsort(probabilities[0])[::-1][:N_TOP]\n",
    "    top_predicted_results = []\n",
    "    top_probabilities = probabilities[0][top_classes_indices]\n",
    "    for i in range(N_TOP):\n",
    "        #result = lable_encoder.inverse_transform([top_classes_indices[i]])[0]  #Reverse the label encoder to original name\n",
    "        #print(result)\n",
    "        #if result in mapping_data:\n",
    "        #    result = mapping_data[result] #to map incorrect order with correct order\n",
    "    \n",
    "        #print(i+1,' => ',result, ' is the top result with ',top_probabilities[i])\n",
    "        #top_predicted_results.append(mapping_data[lable_encoder.inverse_transform([top_classes_indices[i]])[0]])\n",
    "        top_predicted_results.append(lable_encoder.inverse_transform([top_classes_indices[i]])[0])\n",
    "        top_predicted_results.append(str(top_probabilities[i]))\n",
    "    #print(top_predicted_results)    \n",
    "    return top_predicted_results\n",
    "\n",
    "print(\"defined predictor\")"
   ]
  },
  {
   "cell_type": "code",
   "execution_count": null,
   "id": "88ca50d7-8abe-482a-87ee-8657d3ae8212",
   "metadata": {},
   "outputs": [],
   "source": [
    "def Predict_SVM_BLACK(image):  ## new with vgg\n",
    "    global N_TOP\n",
    "    input_img = np.expand_dims(image, axis=0) #Expand dims so the input is (num images, x, y, c)\n",
    "    input_img_feature=vgg.predict(input_img)\n",
    "    input_img_features=input_img_feature.reshape(input_img_feature.shape[0], -1)\n",
    "    probabilities = black_predictor.predict_proba(input_img_features)\n",
    "    \n",
    "    top_classes_indices = np.argsort(probabilities[0])[::-1][:N_TOP]\n",
    "    top_predicted_results = []\n",
    "    top_probabilities = probabilities[0][top_classes_indices]\n",
    "    for i in range(N_TOP):\n",
    "        result = black_lable_encoder.inverse_transform([top_classes_indices[i]])  #Reverse the label encoder to original name\n",
    "        #print(i+1,' => ',result, ' is the top result with ',top_probabilities[i])\n",
    "        top_predicted_results.append(int(result))\n",
    "        top_predicted_results.append(str(top_probabilities[i]))\n",
    "    #print(top_predicted_results)    \n",
    "    return top_predicted_results\n",
    "\n",
    "print(\"defined predictor\")"
   ]
  },
  {
   "cell_type": "code",
   "execution_count": 8,
   "id": "8e2d6dec-36da-491e-95ea-896b621be300",
   "metadata": {},
   "outputs": [],
   "source": [
    "\n",
    "###### load dataset and model\n",
    "\n",
    "\n",
    "def check_withinROI_NEW(x1,y1,x2,y2,h,w):\n",
    "    #print(x1, '  ',y1, '  ',x2, '  ',y2, '  ',h, '  ',w)\n",
    "    #if(x1<int(X1*(w/default)) or x2>int(X2*(w/default)) or y1<int(Y1_NEW*(h/default)) or y2>int(Y2_NEW*(h/default)) or x1>=int(X2*(w/default))):\n",
    "    #    return False\n",
    "    \n",
    "    if(x1<150 or x2>1750):\n",
    "        return False\n",
    "    if(y2-y1<600 or x2-x1 <250): #1400 to 700 Before\n",
    "        return False\n",
    "    return True  \n",
    "\n",
    "def check_withinROI_Resize(x1,y1,x2,y2,h,w):\n",
    "    #print(x1, '  ',y1, '  ',x2, '  ',y2, '  ',h, '  ',w)\n",
    "    resize_x1=850#*(w/2992)\n",
    "    resize_x2=1050#*(w/2992)\n",
    "    resize_y1=Y1_NEW#Y1_NEW*(w/2992)\n",
    "    resize_y2=Y1_NEW#Y2_NEW*(w/2992)\n",
    "    #print(resize_x1, '  ',resize_y1, '  ',resize_x2, '  ',resize_y2)\n",
    "    if(x1<int(resize_x1) or x2>int(resize_x2) or x1>=int(resize_x2)):\n",
    "        return False\n",
    "    if(y2 - y1>1400 or y2-y1<700): #1400 to 700 Before\n",
    "        return False\n",
    "    return True  \n"
   ]
  },
  {
   "cell_type": "code",
   "execution_count": 9,
   "id": "3c3ed2c0",
   "metadata": {},
   "outputs": [],
   "source": [
    "def HONKAWA_ROI(x1,y1,x2,y2,h,w):\n",
    "    #print(x1, '  ',y1, '  ',x2, '  ',y2, '  ',h, '  ',w)\n",
    "    #if(x1<int(X1*(w/default)) or x2>int(X2*(w/default)) or y1<int(Y1_NEW*(h/default)) or y2>int(Y2_NEW*(h/default)) or x1>=int(X2*(w/default))):\n",
    "    #    return False\n",
    "    \n",
    "    if(x1<150 or x2>1750):\n",
    "        return False\n",
    "    if(y2-y1<600 or x2-x1 <250): #1400 to 700 Before\n",
    "        return False\n",
    "    return True  "
   ]
  },
  {
   "cell_type": "code",
   "execution_count": 10,
   "id": "d3814e1b",
   "metadata": {},
   "outputs": [],
   "source": [
    "def HOKKAIDO_ROI(x1,y1,x2,y2,h,w):\n",
    "    #print(x1, '  ',y1, '  ',x2, '  ',y2, '  ',h, '  ',w)\n",
    "    if(x1<int(X1*(w/default)) or x2>int(X2*(w/default)) or y1<int(Y1_NEW*(h/default)) or y2>int(Y2_NEW*(h/default)) or x1>=int(X2*(w/default))):\n",
    "        return False\n",
    "    if(y2 - y1>1350 or y2-y1<900): #1400 to 700 Before\n",
    "        return False\n",
    "    return True  "
   ]
  },
  {
   "cell_type": "code",
   "execution_count": 11,
   "id": "056bd001-9ec5-4d37-8d4f-794eb6d030d6",
   "metadata": {},
   "outputs": [],
   "source": [
    "def Is_Duplicate_Id(y1,y2,id):\n",
    "    global PREVIOUS_ID\n",
    "    global PREVIOUS_Y1\n",
    "    global PREVIOUS_Y2\n",
    "    global PREVIOUS_LOCAL_IDS\n",
    "    global CATTLE_LOCAL_ID\n",
    "    \n",
    "    try: \n",
    "        index = PREVIOUS_ID.index(id)\n",
    "        #print('I reached here')\n",
    "        if(PREVIOUS_Y1[index]+321<=y1 and PREVIOUS_Y2[index]+371<y2): #duplicate from bottom\n",
    "         #   if(id in PREVIOUS_LOCAL_IDS):\n",
    "         #   #print('id: ',id,' LOCAL_ID: ',CATTLE_LOCAL_ID)\n",
    "         #       return PREVIOUS_LOCAL_IDS[id][0]\n",
    "            \n",
    "            #print('except')\n",
    "            PREVIOUS_ID.append(CATTLE_LOCAL_ID)\n",
    "            PREVIOUS_Y1.append(y1)\n",
    "            PREVIOUS_Y2.append(y2)\n",
    "            #print('New Cattle Id')\n",
    "            CATTLE_LOCAL_ID+=1\n",
    "            return CATTLE_LOCAL_ID\n",
    "        #elif(PREVIOUS_Y[index]+400<center): #stepping back\n",
    "        #    if(id in PREVIOUS_LOCAL_IDS):\n",
    "        #        return PREVIOUS_LOCAL_IDS[id][0]\n",
    "        else:\n",
    "            #print('Oh. here ? really?')\n",
    "            PREVIOUS_Y1[index]=y1 #duplicate is solved or no duplicate and just need for last y \n",
    "            PREVIOUS_Y2[index]=y2\n",
    "            #return PREVIOUS_LOCAL_IDS[index][1]\n",
    "            \n",
    "            #update('PREVIOUS Y')\n",
    "            return PREVIOUS_ID[index]\n",
    "    except:\n",
    "        #print(PREVIOUS_ID)\n",
    "        #print(id)\n",
    "        CATTLE_LOCAL_ID += 1\n",
    "        #print('except')\n",
    "        PREVIOUS_ID.append(CATTLE_LOCAL_ID)\n",
    "        PREVIOUS_Y1.append(y1)\n",
    "        PREVIOUS_Y2.append(y2)\n",
    "        return id"
   ]
  },
  {
   "cell_type": "code",
   "execution_count": null,
   "id": "0ed9d4de-4e94-4b9a-a257-9e571cc441ad",
   "metadata": {
    "scrolled": true,
    "tags": []
   },
   "outputs": [],
   "source": [
    "\n",
    "def HONKAWA_TRACKING(y,h,cow_srno=1):\n",
    "    global STORED_IDS\n",
    "    global STORED_MID_Y\n",
    "    global STORED_MID_Y1\n",
    "    global STORED_MID_Y2\n",
    "    global STORED_MISS\n",
    "    global LAST_SEEN_IDS\n",
    "    global LAST_SEEN_ID_CENTROIDS\n",
    "    global CATTLE_LOCAL_ID\n",
    "    global IS_FIRST_CATTLE \n",
    "    y1 , y2 = y , y+h\n",
    "    id = None\n",
    "    \n",
    "    if IS_FIRST_CATTLE:\n",
    "        IS_FIRST_CATTLE = False\n",
    "        id = CATTLE_LOCAL_ID\n",
    "    #mid_y = y2\n",
    "    mid_y = int(2*y + h)/2\n",
    "    IS_NEW = True\n",
    "    last_id = 999\n",
    "    last_y1 = 0\n",
    "    last_y2 = 0\n",
    "    if(len(STORED_IDS)>0): \n",
    "        last_id = STORED_IDS[len(STORED_IDS)-1]\n",
    "        last_y1 = STORED_MID_Y1[len(STORED_MID_Y1)-1]#max(STORED_MID_Y1)\n",
    "        last_y2 = STORED_MID_Y2[len(STORED_MID_Y2)-1]#max(STORED_MID_Y2)\n",
    "        MISSED_LEN = len(STORED_MISS)\n",
    "        #if(IS_NEW):\n",
    "        \n",
    "        #    MISSED_LEN -=1\n",
    "        removed = 0\n",
    "        for i in range(MISSED_LEN):\n",
    "            #print(i, ' missed index checking' )\n",
    "            missed = STORED_MISS[i-removed]\n",
    "            #print('checking ',i-removed, 'to remove')\n",
    "            if(missed>20): #if missed 35 frames\n",
    "    \n",
    "                del STORED_MISS[i-removed]  \n",
    "                del STORED_MID_Y[i-removed]\n",
    "                del STORED_MID_Y1[i-removed]\n",
    "                del STORED_MID_Y2[i-removed]\n",
    "                del STORED_IDS[i-removed]\n",
    "                removed+=1\n",
    "                #print('removed')\n",
    "                \n",
    "    #clear misses\n",
    "   \n",
    "    \n",
    "    threshold_1 = 130 #300\n",
    "    threshold_2 = 130  #230\n",
    "    Distance = 5\n",
    "     \n",
    "    #if mid_y <= 1300 or mid_y >= 700:\n",
    "    #    threshold_1 = 320 #350\n",
    "    #    threshold_2 = 370 #280\n",
    "    for i in range(1,len(STORED_MID_Y)+1):\n",
    "        #print(STORED_IDS[-i-1],STORED_MID_Y[-i-1],' ',i)\n",
    "        \n",
    "        \n",
    "        #if(STORED_MID_Y[-i]+threshold_2>=mid_y and STORED_MID_Y[-i]-threshold_1<=mid_y): # and IS_NEW): #previous 150 #200\n",
    "        if(STORED_MID_Y1[-i]-threshold_1<=y1 and STORED_MID_Y1[-i]+threshold_1>=y1) or (STORED_MID_Y2[-i]-threshold_2<=y2 and STORED_MID_Y2[-i]+threshold_2>=y2): # and IS_NEW): #previous 150 #200\n",
    "            if(IS_NEW):\n",
    "              \n",
    "                \n",
    "                Distance = abs(STORED_MID_Y1[-i] - y1)\n",
    "                if(abs(STORED_MID_Y2[-i] - y2)<Distance):\n",
    "                    Distance = abs(STORED_MID_Y2[-i] - y2)\n",
    "                IS_NEW = False\n",
    "                STORED_MID_Y1[-i] = y1\n",
    "                STORED_MID_Y2[-i] = y2\n",
    "                \n",
    "                STORED_MISS[-i]=1\n",
    "                id= STORED_IDS[-i]\n",
    "                #print(Distance)\n",
    "                #print(id)\n",
    "                \n",
    "            #try:\n",
    "            #    exist_index = LAST_SEEN_IDS.index(id)\n",
    "            #    if(LAST_SEEN_ID_CENTROIDS[exist_index]+200>y): # showing old id\n",
    "            #        LAST_SEEN_ID_CENTROIDS[exist_index] = y\n",
    "            #except:\n",
    "            #print('corrected id :',STORED_IDS[-i])\n",
    "            elif Distance >5:\n",
    "                STORED_MISS[-i]+=1\n",
    "            #else:\n",
    "            #    STORED_MISS[-i]-=1 #reset count to 2 when not moving\n",
    "        #elif(STORED_MID_Y1[-i]<=y1 and STORED_MID_Y2[-i]>=y2):\n",
    "        #        STORED_MISS[-i]=30\n",
    "        else:\n",
    "            STORED_MISS[-i]+=1    \n",
    "     \n",
    "    if(IS_NEW == False):\n",
    "        if(y1>last_y1+20 and y2>last_y2+20):\n",
    "            IS_NEW = True\n",
    "      \n",
    "    if(IS_NEW):\n",
    "        CATTLE_LOCAL_ID+=1\n",
    "        id=CATTLE_LOCAL_ID\n",
    "        if(y1<last_y1+70 and y2<last_y2+70):\n",
    "            CATTLE_LOCAL_ID-=1\n",
    "            #print('skipped second here')\n",
    "            for i in range(len(STORED_MID_Y)):\n",
    "                STORED_MISS[i]=5\n",
    "            return -1\n",
    "            \n",
    "        STORED_IDS.append(id)\n",
    "        STORED_MID_Y.append(mid_y)\n",
    "        STORED_MID_Y1.append(y1)\n",
    "        STORED_MID_Y2.append(y2)\n",
    "        STORED_MISS.append(1)\n",
    "          \n",
    "    result = []\n",
    "    result.append(str(id-1))\n",
    "    \n",
    "   \n",
    "    removed = 0\n",
    "   \n",
    "                 \n",
    "    return result"
   ]
  },
  {
   "cell_type": "code",
   "execution_count": 12,
   "id": "68617c37",
   "metadata": {},
   "outputs": [],
   "source": [
    "\n",
    "async def HOKKAIDO_TRACKING(y,h,id,cow_srno=1):\n",
    "    global STORED_IDS\n",
    "    global STORED_MID_Y\n",
    "    global STORED_MID_Y1\n",
    "    global STORED_MID_Y2\n",
    "    global STORED_MISS\n",
    "    global LAST_SEEN_IDS\n",
    "    global LAST_SEEN_ID_CENTROIDS\n",
    "    global CATTLE_LOCAL_ID\n",
    "    global IS_FIRST_CATTLE \n",
    "    y1 , y2 = y , y+h\n",
    "    \n",
    "    if IS_FIRST_CATTLE:\n",
    "        IS_FIRST_CATTLE = False\n",
    "        id = CATTLE_LOCAL_ID\n",
    "    \n",
    "    mid_y = int(2*y + h)/2\n",
    "    IS_NEW = True\n",
    "    last_id = 999\n",
    "    last_y1 = 0\n",
    "    last_y2 = 0\n",
    "    if(len(STORED_IDS)>0): \n",
    "        last_id = STORED_IDS[len(STORED_IDS)-1]\n",
    "        last_y1 = STORED_MID_Y1[len(STORED_MID_Y1)-1]#max(STORED_MID_Y1)\n",
    "        last_y2 = STORED_MID_Y2[len(STORED_MID_Y2)-1]#max(STORED_MID_Y2)\n",
    "        MISSED_LEN = len(STORED_MISS)\n",
    "    \n",
    "        removed = 0\n",
    "        for i in range(MISSED_LEN):\n",
    "    \n",
    "            missed = STORED_MISS[i-removed]\n",
    "    \n",
    "            if(missed>70): #if missed 35 frames\n",
    "    \n",
    "                del STORED_MISS[i-removed]  \n",
    "                del STORED_MID_Y[i-removed]\n",
    "                del STORED_MID_Y1[i-removed]\n",
    "                del STORED_MID_Y2[i-removed]\n",
    "                del STORED_IDS[i-removed]\n",
    "                removed+=1\n",
    "                #print('removed')\n",
    "                \n",
    "    #clear misses\n",
    "   \n",
    "    \n",
    "    threshold_1 = 180 #200 #300\n",
    "    threshold_2 = 230 #250  #230\n",
    "    Distance = 1000\n",
    "    \n",
    "    for i in range(1,len(STORED_MID_Y)+1):\n",
    "    \n",
    "        if(STORED_MID_Y1[-i]-threshold_1<=y1 and STORED_MID_Y1[-i]+threshold_1-50>=y1) or (STORED_MID_Y2[-i]-threshold_2<=y2 and STORED_MID_Y2[-i]+threshold_2-50>=y2): # and IS_NEW): #previous 150 #200\n",
    "            if(IS_NEW):\n",
    "              \n",
    "                \n",
    "                Distance = abs(STORED_MID_Y1[-i] - y1)\n",
    "                if(abs(STORED_MID_Y2[-i] - y2)<Distance):\n",
    "                    Distance = abs(STORED_MID_Y2[-i] - y2)\n",
    "                IS_NEW = False\n",
    "                STORED_MID_Y1[-i] = y1\n",
    "                STORED_MID_Y2[-i] = y2\n",
    "                \n",
    "                STORED_MISS[-i]=1\n",
    "                id= STORED_IDS[-i]\n",
    "    \n",
    "            elif Distance >50:\n",
    "                STORED_MISS[-i]+=1\n",
    "            \n",
    "        else:\n",
    "            STORED_MISS[-i]+=1    \n",
    "     \n",
    "    if(IS_NEW == False and id<last_id):\n",
    "        if(y1>=last_y1 and y2>=last_y2):\n",
    "            IS_NEW = True\n",
    "        elif (y1>=last_y1-100 or y1<=last_y1+100) and (y2>=last_y2-100 or y2<=last_y2+100):\n",
    "            return -1\n",
    "    \n",
    "        #elif(cow_srno==1):\n",
    "    if(IS_NEW):\n",
    "        CATTLE_LOCAL_ID+=1\n",
    "        id=CATTLE_LOCAL_ID\n",
    "        if(y1<last_y1-50 and y2<last_y2-50):\n",
    "            CATTLE_LOCAL_ID-=1\n",
    "            print('skipped')\n",
    "            for i in range(len(STORED_MID_Y)):\n",
    "                STORED_MISS[i]=5\n",
    "            return -1\n",
    "            \n",
    "        STORED_IDS.append(id)\n",
    "        STORED_MID_Y.append(mid_y)\n",
    "        STORED_MID_Y1.append(y1)\n",
    "        STORED_MID_Y2.append(y2)\n",
    "        STORED_MISS.append(1)\n",
    "    \n",
    "    if(IS_NEW) and False:\n",
    "    \n",
    "        updatedID = Is_Duplicate_Id(y1,y2,id)\n",
    "        if(int(last_id) <int(updatedID) and y1<last_y1-150 and y2<last_y2-150): # duplicate cattle with increased cattleID\n",
    "            CATTLE_LOCAL_ID-=1\n",
    "            for i in range(len(STORED_MID_Y)-1,0,-1):\n",
    "                STORED_MISS[i]=15\n",
    "            return -1\n",
    "        if(int(last_id)-1>int(updatedID)):\n",
    "            return -1\n",
    "        \n",
    "        id=CATTLE_LOCAL_ID\n",
    "        STORED_IDS.append(id)\n",
    "        STORED_MID_Y.append(mid_y)\n",
    "        STORED_MID_Y1.append(y1)\n",
    "        STORED_MID_Y2.append(y2)\n",
    "        STORED_MISS.append(1)\n",
    "          \n",
    "    result = []\n",
    "    result.append(str(id-1))\n",
    "    removed = 0\n",
    "    for i in range(len(STORED_MID_Y)-1,0,-1):\n",
    "        if(y1>STORED_MID_Y1[i] and y2>STORED_MID_Y2[i]):\n",
    "            del STORED_MISS[i-removed]  \n",
    "            del STORED_MID_Y[i-removed]\n",
    "            del STORED_MID_Y1[i-removed]\n",
    "            del STORED_MID_Y2[i-removed]\n",
    "            del STORED_IDS[i-removed]\n",
    "            removed+=1\n",
    "                 \n",
    "    return result"
   ]
  },
  {
   "cell_type": "code",
   "execution_count": 13,
   "id": "e974a100-320c-4689-845c-e18d3a5183fa",
   "metadata": {
    "scrolled": true,
    "tags": []
   },
   "outputs": [],
   "source": [
    "mapping_data = {}\n",
    "def mapper():\n",
    "    global mapping_data\n",
    "    mapping_data = {}\n",
    "    csv_file = 'D:\\\\Python\\\\SULarbmon\\\\Python\\\\env\\\\yolov8_june\\\\ultralytics\\\\runs\\\\segment\\honkawa_3fps\\\\fill_black_dec_20235\\\\1103_blackfill_mapping.csv'\n",
    "\n",
    "# Create a dictionary to store the data\n",
    "    \n",
    "\n",
    "    # Read the CSV file and populate the dictionary\n",
    "    with open(csv_file, 'r') as file:\n",
    "        reader = csv.reader(file)\n",
    "        #header = next(reader)  # Assuming the first row contains column headers\n",
    "\n",
    "        for row in reader:\n",
    "            cattle_id = row[0]\n",
    "            correct_id = int(row[1])\n",
    "            mapping_data[cattle_id] = correct_id\n",
    "\n",
    "#mapper()"
   ]
  },
  {
   "cell_type": "code",
   "execution_count": 13,
   "id": "3415efa4-0dc9-4cb9-afd0-ea35f35e1671",
   "metadata": {},
   "outputs": [],
   "source": [
    "UNKNOWN_THRESHOLD = 0.5\n",
    "cattle_track_count = 0\n",
    "def CALCULATE_MAX_CATTLE_ID(csv_path):\n",
    "    print(csv_path, \" is csv_path and \")\n",
    "    global cattle_track_count\n",
    "    cattle_track_count+=1\n",
    "    data = pd.read_csv(csv_path)\n",
    "    \n",
    "    list_of_csv = [list(row) for row in data.values]\n",
    "\n",
    "    prev_id_record = [] \n",
    "    prev=None\n",
    "\n",
    "    current_cow = []\n",
    "    excel_cow_count = []\n",
    "    #boxes = []\n",
    "    #file_locations = []\n",
    "    black_count = (data['COLOR'] == 'B').sum()\n",
    "    #print((testing['RANK1'] == 10172).sum())\n",
    "    #total_cattlelen(testing['RANK1']))\n",
    "    total_cattle_count = len(list_of_csv)\n",
    "    if total_cattle_count/2 < black_count:\n",
    "        return 'BLACK'\n",
    "    \n",
    "    \n",
    "    # Group by 'id' and sum the 'score' for each group\n",
    "    grouped_df = data.groupby('RANK1')['RANK1_prob'].agg(['sum', 'count']).reset_index()\n",
    "\n",
    "    # Get the two highest occurrences\n",
    "    print(\"Processing tracking :\",cattle_track_count)\n",
    "    distinct_count = data['RANK1'].nunique()\n",
    "    \n",
    "        \n",
    "    top_two_occurrences = grouped_df.nlargest(2, 'sum')\n",
    "    first_id, first_score, first_count = top_two_occurrences.iloc[0]\n",
    "    if distinct_count ==1 :\n",
    "        return int(first_id)\n",
    "    if first_count < 7: #and distinct_count > 15 and:\n",
    "        second_ranks = data['RANK2'].value_counts()\n",
    "        max_occurrence_count = second_ranks.max()\n",
    "        if max_occurrence_count < 7:\n",
    "            return -1\n",
    "        # Get the value with the maximum occurrence\n",
    "        return second_ranks.idxmax()\n",
    "        \n",
    "        \n",
    "        # Get the maximum occurrence count\n",
    "        \n",
    "        #return -1 # UNKNOWN\n",
    "    second_id, second_score, second_count = top_two_occurrences.iloc[1]\n",
    "    print(\"The two highest occurrences: \")\n",
    "    print(f\"First id: {first_id}, Score: {first_score}, Count: {first_count}\")\n",
    "    print(f\"Second id: {second_id}, Score: {second_score}, Count: {second_count}\")\n",
    "    #if second_score/first_score > 0.8 and second_count/first_count > 0.8: #similar so consider as unknown\n",
    "    #    return -1 #UNKNOWN\n",
    "    return int(first_id)\n",
    "    #for i in range (total_cattle_count):\n",
    "    #    filtered_id = list_of_csv[i][0]\n",
    "    #    actual_id = list_of_csv[i][2]\n",
    "        \n",
    "    #    try: \n",
    "    #        index = current_cow.index(actual_id)\n",
    "    #        excel_cow_count[index]+=1\n",
    "    #    except:\n",
    "    #        current_cow.append(actual_id)\n",
    "    #        excel_cow_count.append(1)\n",
    "\n",
    "    #maxpos = excel_cow_count.index(max(excel_cow_count)) # max position in cow_count\n",
    "    #cattle_id = current_cow[maxpos]  # fetch the cattle id from max position index because they are same index\n",
    "    #print('threshold of tracking id:', cattle_track_count , ' is ' , max(excel_cow_count) / total_cattle_count )\n",
    "    \n",
    "    #if(max(excel_cow_count) / total_cattle_count < UNKNOWN_THRESHOLD):\n",
    "    #    return -1 #Unknown\n",
    "    #return int(cattle_id)#,file_locations,boxes\n"
   ]
  },
  {
   "cell_type": "code",
   "execution_count": 14,
   "id": "27fc9ce9-4de1-47e0-8f0d-bc4ebe83aef9",
   "metadata": {
    "tags": []
   },
   "outputs": [],
   "source": [
    "\n",
    "def get_final_cattle_id(save_dir,total_cattle):\n",
    "    final_id = []\n",
    "    global UNKNOWN_CATTLE\n",
    "    global BLACK_CATTLE \n",
    "    for i in range(1,total_cattle+1):\n",
    "        csv_path = save_dir + \"/\" + str(i) + \"/\" + str(i) + \".csv\"\n",
    "        \n",
    "        output_id =  CALCULATE_MAX_CATTLE_ID(csv_path)\n",
    "        print(output_id)\n",
    "        if output_id == 'BLACK':\n",
    "            BLACK_CATTLE +=1\n",
    "            #output_id = get_black_cattle_id(save_dir+\"/\"+str(i))\n",
    "            #BLACK_CATTLE+=1\n",
    "            output_id = \"black_\"+str(BLACK_CATTLE)\n",
    "            print('tracking ',i, ' is black cow ',output_id)\n",
    "        if output_id == -1:\n",
    "            UNKNOWN_CATTLE+=1\n",
    "            output_id = \"U_\"+str(UNKNOWN_CATTLE)\n",
    "            print('tracking ',i, ' is ',output_id)\n",
    "            \n",
    "        final_id.append(output_id)\n",
    "    return final_id"
   ]
  },
  {
   "cell_type": "code",
   "execution_count": 15,
   "id": "949bfe5f-4de6-48a0-8f78-9f0e370f530e",
   "metadata": {},
   "outputs": [],
   "source": [
    "async def get_black_cattle_id(filePath):\n",
    "    predictedId = []\n",
    "    for img_path in glob.glob(os.path.join(filePath, \"*.jpg\")):\n",
    "        img = cv2.imread(img_path, cv2.IMREAD_COLOR)\n",
    "        labels = await HOKKAIDO_B_SVM(img)\n",
    "        predictedId.append(labels[0])\n",
    "    \n",
    "    \n",
    "    return find_max_occurrence(predictedId)\n",
    "    "
   ]
  },
  {
   "cell_type": "code",
   "execution_count": 16,
   "id": "fd2b8d4c-7a4c-456a-bc51-9d6c4aeb8343",
   "metadata": {},
   "outputs": [],
   "source": [
    "\n",
    "from collections import Counter\n",
    "\n",
    "def find_max_occurrence(arr):\n",
    "    # Use Counter to count occurrences of each element\n",
    "    counter = Counter(arr)\n",
    "\n",
    "    # Find the element with the maximum occurrence\n",
    "    max_element = max(counter, key=counter.get)\n",
    "\n",
    "    # Get the count of the maximum occurring elemen\n",
    "\n",
    "    return max_element"
   ]
  },
  {
   "cell_type": "code",
   "execution_count": 17,
   "id": "96d5d266-6ce4-4300-8274-43cd35ed541c",
   "metadata": {},
   "outputs": [],
   "source": [
    "import glob\n",
    "\n",
    "def writeVideo(cap,filePath,csv_name,cattle_ids,total_frame):\n",
    "    img_array = []\n",
    "    size = (1920,1080)\n",
    "    names = ['cow']\n",
    "    main_csv_index = 0\n",
    "    data = pd.read_csv(filePath+\"/\"+csv_name)\n",
    "\n",
    "    list_of_csv = [list(row) for row in data.values]\n",
    "    vid_name = os.path.basename(os.path.normpath(filePath))\n",
    "    total_count = len(list_of_csv)\n",
    "    prev_image_id = 1\n",
    "    #vid_path = str(Path(filePath + \"/\" + vid_name ).with_suffix('.mp4'))\n",
    "    #out = cv2.VideoWriter(vid_path,cv2.VideoWriter_fourcc(*'mp4v'), 6, size)\n",
    "    #if len(img_locations)<10: \n",
    "    #    return -1\n",
    "    for filename in glob.glob(filePath+\"/all_images/\"+'/*.jpg'):\n",
    "        img = cv2.imread(filename)\n",
    "        \n",
    "        #print(os.path.isfile(filename))\n",
    "        #print(filename)\n",
    "        height, width, layers = img.shape\n",
    "        size = (width,height)\n",
    "        img_array.append(img)\n",
    "    image_location = filePath+\"/all_images/\";\n",
    "    img_index = 0\n",
    "    for ind in range(1,total_frame):\n",
    "        image_path = image_location + str(ind) +\".jpg\"\n",
    "        #print(image_path)\n",
    "        img = cv2.imread(image_path)\n",
    "        \n",
    "        #print(os.path.isfile(filename))\n",
    "        #print(filename)\n",
    "        #print(filename)\n",
    "        #height, width, layers = img.shape\n",
    "        #size = (width,height)\n",
    "        #img = img_array[img_index]\n",
    "        #img_index +=1\n",
    "        #img = cv2.resize(img, size, interpolation = cv2.INTER_AREA)\n",
    "        #print(img.Shape)\n",
    "        #cv2.imshow('Cattle Images ', img)\n",
    "        #if cv2.waitKey(1) & 0xFF == ord(' '):\n",
    "        #    break\n",
    "        annotator = Annotator(img, line_width=3, example=str(names)) #font here\n",
    "        from_index = main_csv_index\n",
    "        print(from_index, ' from index')\n",
    "        is_draw = False\n",
    "        for i in range(from_index,total_count-1):\n",
    "            \n",
    "            main_csv_index+=1\n",
    "            print(ind, \"  <--x-->  \", list_of_csv[i][0])\n",
    "            if(ind!=list_of_csv[i][0]):\n",
    "                main_csv_index-=1\n",
    "                break\n",
    "            print('SAVING!!!!!')\n",
    "            tracking_id  = list_of_csv[i][1] -1\n",
    "            xyxy = [list_of_csv[i][2],list_of_csv[i][3],list_of_csv[i][4],list_of_csv[i][5]]\n",
    "\n",
    "            try:\n",
    "                annotator.box_label(xyxy,str(cattle_ids[tracking_id]), color=(15, 0, 255))\n",
    "            except:\n",
    "                annotator.box_label(xyxy,cattle_ids[tracking_id]+\"_\"+str(tracking_id), color=(15, 0, 255))\n",
    "            is_draw = True\n",
    "        if is_draw:\n",
    "            annotated_img =cv2.resize(annotator.result(),size) \n",
    "            cap.write(annotated_img)\n",
    "            #except:\n",
    "            #    print('did not write')\n",
    "            #    continue\n",
    "    #ut.release()\n",
    "    img_array=[]\n",
    "    print(\"done \", vid_name)\n",
    "    #v2.destroyAllWindows()\n",
    "    return id\n"
   ]
  },
  {
   "cell_type": "code",
   "execution_count": 18,
   "id": "7c55fddc-ffc5-432b-bd34-c94d6d711c9e",
   "metadata": {},
   "outputs": [],
   "source": [
    "# Function to draw a bounding box and annotate the image\n",
    "def draw_bounding_box(image, box, label):\n",
    "    # Extract the coordinates from the box\n",
    "    x1, y1, x2, y2 = box\n",
    "    #print(x1,' ',y1,x2,y2)\n",
    "\n",
    "    # Draw the bounding box rectangle on the image\n",
    "    cv2.rectangle(image, (x1, y1), (x2, y2), (0, 255, 0), 3)\n",
    "\n",
    "    # Define the text properties\n",
    "    text = f'{label}'\n",
    "    font = cv2.FONT_HERSHEY_SIMPLEX\n",
    "    font_scale =1\n",
    "    thickness = 2\n",
    "\n",
    "    # Calculate the size of the text\n",
    "    (text_width, text_height), _ = cv2.getTextSize(text, font, font_scale, thickness)\n",
    "\n",
    "    # Calculate the position for placing the text\n",
    "    text_x = x1\n",
    "    text_y = y1 - 10 if y1 >= 20 else y1 + 10 + text_height\n",
    "\n",
    "    # Draw the text background rectangle\n",
    "    cv2.rectangle(image, (text_x, text_y - text_height - 5), (text_x + text_width, text_y), (0, 255, 0), -1)\n",
    "\n",
    "    # Put the label text on the image\n",
    "    cv2.putText(image, text, (text_x, text_y), font, font_scale, (0, 0, 0), thickness, cv2.LINE_AA)\n",
    "\n",
    "# Example usage\n",
    "\n"
   ]
  },
  {
   "cell_type": "code",
   "execution_count": 19,
   "id": "c8cb6e8e-04e2-40ca-bd07-db6d380a4ac2",
   "metadata": {},
   "outputs": [],
   "source": [
    "def overlay(image, mask, color, alpha, resize=None):\n",
    "    \"\"\"Combines image and its segmentation mask into a single image.\n",
    "    \n",
    "    Params:\n",
    "        image: Training image. np.ndarray,\n",
    "        mask: Segmentation mask. np.ndarray,\n",
    "        color: Color for segmentation mask rendering.  tuple[int, int, int] = (255, 0, 0)\n",
    "        alpha: Segmentation mask's transparency. float = 0.5,\n",
    "        resize: If provided, both image and its mask are resized before blending them together.\n",
    "        tuple[int, int] = (1024, 1024))\n",
    "\n",
    "    Returns:\n",
    "        image_combined: The combined image. np.ndarray\n",
    "\n",
    "    \"\"\"\n",
    "    # color = color[::-1]\n",
    "    colored_mask = np.expand_dims(mask, 0).repeat(3, axis=0)\n",
    "    colored_mask = np.moveaxis(colored_mask, 0, -1)\n",
    "    masked = np.ma.MaskedArray(image, mask=colored_mask, fill_value=color)\n",
    "    image_overlay = masked.filled()\n",
    "\n",
    "    if resize is not None:\n",
    "        image = cv2.resize(image.transpose(1, 2, 0), resize)\n",
    "        image_overlay = cv2.resize(image_overlay.transpose(1, 2, 0), resize)\n",
    "\n",
    "    image_combined = cv2.addWeighted(image, 1 - alpha, image_overlay, alpha, 0)\n",
    "\n",
    "    return image_combined"
   ]
  },
  {
   "cell_type": "code",
   "execution_count": 20,
   "id": "3183ce0c-9532-4cee-9232-15a5689fb143",
   "metadata": {},
   "outputs": [],
   "source": [
    "def GET_LEFT_TO_RIGHT_ORDER(x1s):\n",
    "    #return x1s\n",
    "    orders = []\n",
    "    size = len(x1s)\n",
    "    #print(' x1s     ',x1s)\n",
    "    clones = x1s[:]\n",
    "    for i in range(size):\n",
    "        #print(clones)\n",
    "        id = (x1s.index(min(clones)))\n",
    "        #print(id)\n",
    "        orders.append(id)\n",
    "        clones.pop(clones.index(min(clones)))\n",
    "    #print(' sorted order :',orders)\n",
    "    return orders"
   ]
  },
  {
   "cell_type": "code",
   "execution_count": 21,
   "id": "46de810b-c4a0-4435-bb1c-abf138ec20d3",
   "metadata": {},
   "outputs": [],
   "source": [
    "async def add_lines_to_excel(existing_file, data_to_add):\n",
    "    \n",
    "    try:\n",
    "        df_existing = pd.read_csv(existing_file,dtype={\n",
    "    'ImageId': 'string',\n",
    "    'LocalId': np.int64,\n",
    "    'xyxy1': np.int64,\n",
    "    'xyxy2': np.int64,\n",
    "    'xyxy3': np.int64,\n",
    "    'xyxy4': np.int64\n",
    "})\n",
    "    except FileNotFoundError:\n",
    "        df_existing = pd.DataFrame()\n",
    "\n",
    "    df_to_add = pd.DataFrame(data_to_add)\n",
    "    df_combined = pd.concat([df_existing, df_to_add], ignore_index=True)\n",
    "    df_combined.to_csv(existing_file, index=False)\n",
    "\n",
    "\n",
    "#add_lines_to_excel(existing_excel_file, data_to_add)\n",
    "#This function encapsulates the process of adding lines to an existing Excel file using a DataFrame. It first attempts to read the existing Excel file, creating an empty DataFrame if the file doesn't exist. Then, it creates a DataFrame from the data to add and concatenates it with the existing DataFrame. Finally, it writes the combined DataFrame back to the Excel file.\n",
    "\n",
    "#Make sure to replace 'path/to/your/existing/excel/file.xlsx' with the actual path to your existing Excel file and adjust the data_to_add dictionary accordingly.\n",
    "\n",
    "\n",
    "\n",
    "\n",
    "\n"
   ]
  },
  {
   "cell_type": "code",
   "execution_count": 22,
   "id": "67ac11d5-826d-473a-aa0f-a76241b4dc1a",
   "metadata": {},
   "outputs": [],
   "source": [
    "def create_default_csv(csv_file_path):\n",
    "    default_columns = ['ImageId', 'LocalId', 'xyxy1', 'xyxy2', 'xyxy3', 'xyxy4']  # Add your desired column headers here\n",
    "\n",
    "    # Create an empty DataFrame with the default columns\n",
    "    empty_df = pd.DataFrame(columns=default_columns)\n",
    "\n",
    "    # Save the empty DataFrame to a CSV file\n",
    "    empty_df.to_csv(csv_file_path, index=False)"
   ]
  },
  {
   "cell_type": "code",
   "execution_count": 23,
   "id": "11c82f8d-36b2-42e0-9809-a7c23c993f00",
   "metadata": {},
   "outputs": [],
   "source": [
    "def concat_main_csv(data):\n",
    "    with main_df_lock:\n",
    "        global MAIN_DF\n",
    "        MAIN_DF = pd.concat([MAIN_DF, data], ignore_index=True)"
   ]
  },
  {
   "cell_type": "code",
   "execution_count": 24,
   "id": "5f458f0a-d6d7-44a1-8d0e-609b35963bc7",
   "metadata": {},
   "outputs": [],
   "source": [
    "#creating default csv\n",
    "#filename of csv path, N_TOP for number of TOP value\n",
    "def creating_default_csv(csv_file_name,N_TOP):\n",
    "    data = [\n",
    "    [\"ID\",\"COLOR\",\t\"RANK1\", \"RANK1_prob\"]\n",
    "    ]\n",
    "    \n",
    "    for i in range(2,N_TOP+1):\n",
    "        data[0].extend([f\"RANK{i}\",f\"RANK{i}_prob\"])\n",
    "    print(data)\n",
    "                       \n",
    "    # Specify the file name\n",
    "\n",
    "    # Writing to the CSV file\n",
    "    with open(csv_file_name, mode='w', newline='') as file:\n",
    "        writer = csv.writer(file)\n",
    "\n",
    "        # Write the header\n",
    "        writer.writerow(data[0])"
   ]
  },
  {
   "cell_type": "code",
   "execution_count": 25,
   "id": "2a412f31-9f7c-4d19-a8e8-04d1643b4ba4",
   "metadata": {},
   "outputs": [],
   "source": [
    "def write_to_csv(file_name, data):\n",
    "    with open(file_name, mode='a', newline='') as file:\n",
    "        writer = csv.writer(file)\n",
    "        writer.writerow(data)"
   ]
  },
  {
   "cell_type": "code",
   "execution_count": 26,
   "id": "802d4152-217d-4411-bd8b-837e252b59f7",
   "metadata": {},
   "outputs": [],
   "source": [
    "def calculate_black_white_percentage_rgb(image, threshold=150):\n",
    "    # Apply the threshold to each channel\n",
    "    binary_mask = (image <= threshold).all(axis=-1) * 255\n",
    "    \n",
    "    #cv2.imshow('Masked Image', image)\n",
    "    #cv2.waitKey(1)\n",
    "    \n",
    "        \n",
    "    # Calculate the percentage of black and white pixels\n",
    "    total_pixels = binary_mask.size\n",
    "    black_pixels = np.count_nonzero(binary_mask == 0)\n",
    "    white_pixels = np.count_nonzero(binary_mask == 255)\n",
    "\n",
    "    black_percentage = (black_pixels / total_pixels) * 100\n",
    "    white_percentage = (white_pixels / total_pixels) * 100\n",
    "\n",
    "    return black_percentage, white_percentage\n",
    "\n"
   ]
  },
  {
   "cell_type": "code",
   "execution_count": 27,
   "id": "82d3bcaf-c6fd-4eba-a04b-be1e81ce7f7f",
   "metadata": {},
   "outputs": [],
   "source": [
    "async def calculate_white_pixel_percentage(image):\n",
    "    # Convert the image to grayscale\n",
    "    \n",
    "    if not image.dtype in [np.uint8, np.uint16]:\n",
    "        image = (image / image.max() * 255).astype(np.uint8)\n",
    "    #cv2.imshow('BGR Image', image)\n",
    "    \n",
    "    gray_image = cv2.cvtColor(image, cv2.COLOR_RGB2GRAY)\n",
    "    #thresholded_image = cv2.adaptiveThreshold(gray_image, 255, cv2.ADAPTIVE_THRESH_MEAN_C, cv2.THRESH_BINARY, 11, 2)\n",
    "    #white_pixel_count = np.sum(thresholded_image == 255)\n",
    "    #total_pixels = thresholded_image.size\n",
    "    #threshold_image = otsu_threshold(gray_image)\n",
    "    #otsu_thresholded_image = otsu_threshold_dynamic(gray_image)\n",
    "    # Apply Otsu thresholding\n",
    "    #otsu_thresholded_image = otsu_threshold(gray_image)\n",
    "\n",
    "    # Count white and black pixels after Otsu thresholding\n",
    "    #white_pixel_count = np.sum(otsu_thresholded_image == 255)\n",
    "    #black_pixel_count = np.sum(otsu_thresholded_image == 0)\n",
    "\n",
    "    # Calculate the total number of pixels\n",
    "    #total_pixels = otsu_thresholded_image.size\n",
    "\n",
    "    # Calculate the white pixel percentage\n",
    "    #white_pixel_percentage = (white_pixel_count / total_pixels) * 100\n",
    "    \n",
    "\n",
    "    # Calculate the white pixel percentage\n",
    "    #white_pixel_percentage = (white_pixel_count / total_pixels) * 100\n",
    "    #print('White Pixel Percentage is :',white_pixel_percentage)\n",
    "    #return white_pixel_percentage\n",
    "    #_, thresholded_image = cv2.threshold(image, threshold_value, 255, cv2.THRESH_BINARY)\n",
    "    #threshold_value = otsu_threshold(gray_image)\n",
    "    #threshold_value = find_peak_intensity(gray_image)\n",
    "    #threshold_value = otsu_CDF(gray_image)\n",
    "    #return dynamic_threshold_cattle_back(gray_image)\n",
    "    return dynamic_threshold_cattle_back_area(gray_image)\n",
    "\n",
    "    #print(f\"Otsu's threshold: {threshold_value}\")\n",
    "\n",
    "    # Plot the histogram\n",
    "    if True:\n",
    "        plt.figure(figsize=(10, 5))\n",
    "        plt.subplot(1, 2, 1)\n",
    "        plt.imshow(gray_image, cmap='gray')\n",
    "        plt.title('Original Image')\n",
    "\n",
    "        plt.subplot(1, 2, 2)\n",
    "        plt.hist(image.flatten(), 256, [0, 256], color='r')\n",
    "        plt.axvline(x=threshold_value, color='k', linestyle='-.', linewidth=2, label=f'Otsu\\'s Threshold: {threshold_value}')\n",
    "        plt.title('Histogram')\n",
    "        plt.legend()\n",
    "\n",
    "        plt.show()\n",
    "\n",
    "    # Apply thresholding\n",
    "    \n",
    "\n",
    "    # Display the original and thresholded images\n",
    "    #cv2.imshow('Original Image', image)\n",
    "    #cv2.imshow('Thresholded Image', thresholded_image)\n",
    "    #cv2.imshow('gray Image', gray_image)\n",
    "    \n",
    "    # Apply threshold to create a binary mask\n",
    "    _, binary_mask = cv2.threshold(gray_image, threshold_value, 255, cv2.THRESH_BINARY)\n",
    "\n",
    "    # Calculate the percentage of white pixels\n",
    "    total_pixels = binary_mask.size\n",
    "    white_pixels = np.count_nonzero(binary_mask == 255)\n",
    "\n",
    "    white_percentage = (white_pixels / total_pixels) * 100\n",
    "    white_pixels_only = cv2.bitwise_and(image, image, mask=binary_mask)\n",
    "\n",
    "    # Display the images\n",
    "    cv2.imshow('Original Image', image)\n",
    "    cv2.imshow('White Pixels Only', white_pixels_only)\n",
    "\n",
    "    #return white_pixel_percentage\n",
    "    return white_percentage\n"
   ]
  },
  {
   "cell_type": "code",
   "execution_count": 28,
   "id": "07587ea3-1f24-434c-b84e-fa2507c6bb4e",
   "metadata": {},
   "outputs": [],
   "source": [
    "def dynamic_threshold_cattle_back(img, block_size=15, constant=5):\n",
    "    # Read the image\n",
    "    \n",
    "\n",
    "    # Apply adaptive thresholding\n",
    "    thresh = cv2.adaptiveThreshold(img, 255, cv2.ADAPTIVE_THRESH_MEAN_C, cv2.THRESH_BINARY, block_size, constant)\n",
    "\n",
    "    # Display the original and thresholded images\n",
    "    cv2.imshow('Original Image', img)\n",
    "    cv2.imshow('Thresholded Image', thresh)\n",
    "    cv2.waitKey(0)\n",
    "    cv2.destroyAllWindows()\n",
    "    #return thresh"
   ]
  },
  {
   "cell_type": "code",
   "execution_count": 29,
   "id": "3095864a-53cd-4d59-a8fa-85373ccfd109",
   "metadata": {
    "tags": []
   },
   "outputs": [],
   "source": [
    "def otsu_CDF(image):\n",
    "    start = 50\n",
    "    end = 230\n",
    "    \n",
    "\n",
    "    \n",
    "    # Ensure the image is in the desired range (30 to 230 pixels)\n",
    "    image = np.clip(image, 30, 230)\n",
    "\n",
    "    # Step 2: Calculate histogram\n",
    "    histogram, bins = np.histogram(image.flatten(), bins=256, range=[30, 231])\n",
    "\n",
    "    # Step 3: Normalize histogram\n",
    "    normalized_histogram = histogram / np.sum(histogram)\n",
    "\n",
    "    # Step 4: Calculate CDF and Mean\n",
    "    cdf = np.cumsum(normalized_histogram)\n",
    "    #mean_intensity = np.sum((np.arange(30, 231) * normalized_histogram)[bins[:-1].astype(int)])\n",
    "\n",
    "\n",
    "    # Step 5: Calculate Between-Class Variance\n",
    "    variances = np.zeros(201)  # 230 - 30 + 1 = 201\n",
    "    for i in range(1, 201):\n",
    "        w0 = np.sum(normalized_histogram[:i])\n",
    "        w1 = np.sum(normalized_histogram[i:])\n",
    "        mu0 = np.sum(np.arange(30, 30 + i) * normalized_histogram[:i]) / w0\n",
    "        mu1 = np.sum(np.arange(30 + i, 30 + i + len(normalized_histogram[i:])) * normalized_histogram[i:]) / w1\n",
    "        variances[i] = w0 * w1 * (mu0 - mu1)**2\n",
    "\n",
    "    # Step 6: Find Optimal Threshold within the specified range\n",
    "    optimal_threshold = np.argmax(variances) + 30  # Add back the lower bound of the range\n",
    "    \n",
    "    return optimal_threshold"
   ]
  },
  {
   "cell_type": "code",
   "execution_count": 30,
   "id": "e32d4ade-cf78-43d4-8d80-51b45bd0af52",
   "metadata": {},
   "outputs": [],
   "source": [
    "\n",
    "def otsu_threshold(image):\n",
    "    #cv2.imshow('BGR Image', image)\n",
    "    \n",
    "    #image = cv2.cvtColor(image, cv2.COLOR_RGB2GRAY)\n",
    "    # Compute histogram and normalized histogram\n",
    "    hist, bins = np.histogram(image.flatten(), 256, [0, 256])\n",
    "    \n",
    "    #peak_intensity = np.argmax(hist)\n",
    "\n",
    "    #Testing peak_intensity\n",
    "    #return peak_intensity-5\n",
    "    \n",
    "    hist_norm = hist / hist.sum()\n",
    "\n",
    "    # Initialization\n",
    "    sum_total = 0\n",
    "    for i in range(256):\n",
    "        sum_total += i * hist_norm[i]\n",
    "\n",
    "    sum_background = 0\n",
    "    weight_background = 0\n",
    "\n",
    "    max_variance = 0\n",
    "    threshold = 0\n",
    "\n",
    "    # Iterate through all possible thresholds\n",
    "    for i in range(256):\n",
    "        weight_background += hist_norm[i]\n",
    "        weight_foreground = 1 - weight_background\n",
    "\n",
    "        sum_background += i * hist_norm[i]\n",
    "\n",
    "        mean_background = sum_background / (weight_background + 1e-10)\n",
    "        mean_foreground = (sum_total - sum_background) / (weight_foreground + 1e-10)\n",
    "\n",
    "        intra_class_variance = weight_background * weight_foreground * (mean_background - mean_foreground) ** 2\n",
    "\n",
    "        # Update threshold if variance is greater\n",
    "        if intra_class_variance > max_variance:\n",
    "            max_variance = intra_class_variance\n",
    "            threshold = i\n",
    "\n",
    "    return threshold\n",
    "\n",
    "# Example usage:\n",
    "\n"
   ]
  },
  {
   "cell_type": "code",
   "execution_count": 31,
   "id": "b5ccbce6-8b99-4ad7-98e6-ec5aebf4c822",
   "metadata": {},
   "outputs": [],
   "source": [
    "def otsu_threshold_dynamic(image):\n",
    "    _, thresholded_image = cv2.threshold(image, 0, 255, cv2.THRESH_BINARY + cv2.THRESH_OTSU)\n",
    "    return thresholded_image\n"
   ]
  },
  {
   "cell_type": "code",
   "execution_count": 32,
   "id": "cc801768-7f99-40fb-ad61-9e0271112683",
   "metadata": {},
   "outputs": [],
   "source": [
    "def find_peak_intensity(image, intensity_range=(50, 255)):\n",
    "    # Clip the image values to the specified range\n",
    "    clipped_image = np.clip(image, intensity_range[0], intensity_range[1])\n",
    "\n",
    "    # Compute histogram and find the peak intensity within the specified range\n",
    "    hist, bins = np.histogram(clipped_image.flatten(), intensity_range[1] - intensity_range[0] + 1, [intensity_range[0], intensity_range[1]])\n",
    "    peak_intensity = np.argmax(hist) + intensity_range[0]\n",
    "\n",
    "    return peak_intensity"
   ]
  },
  {
   "cell_type": "code",
   "execution_count": 33,
   "id": "e050d757-f94a-4ce4-90b2-407e632cd468",
   "metadata": {},
   "outputs": [],
   "source": [
    "from PIL import Image, ImageOps\n",
    "\n",
    "def resize_image(input_array,new_size):\n",
    "    # Open the image\n",
    "    #new_size = (224,224)\n",
    "    original_image = Image.fromarray(input_array)\n",
    "\n",
    "    # Create a new image with the desired size and fill it with black pixels\n",
    "    new_image = Image.new(\"RGB\", new_size, (0, 0, 0))\n",
    "\n",
    "    # Calculate the position to paste the original image in the center\n",
    "    x_offset = (new_size[0] - original_image.width) // 2\n",
    "    y_offset = (new_size[1] - original_image.height) // 2\n",
    "\n",
    "    # Paste the original image onto the new image\n",
    "    new_image.paste(original_image, (x_offset, y_offset))\n",
    "    #return cv2.cvtColor(np.array(new_image),cv2.COLOR_RGB2BGR)\n",
    "    return np.array(new_image)\n",
    "    #bgr_array = cv2.cvtColor(numpy_array, cv2.COLOR_RGB2BGR)\n",
    "    # Save the result_image\n",
    "    #new_image.save(output_path)\n",
    "\n",
    "\n",
    "\n"
   ]
  },
  {
   "cell_type": "code",
   "execution_count": 34,
   "id": "02426856-ebec-4bbf-b781-1b2249f3efb5",
   "metadata": {},
   "outputs": [],
   "source": [
    "def dynamic_threshold_cattle_back(img, threshold_factor=0.75): #0.7 was best\n",
    "    # Read the image\n",
    "\n",
    "    # Calculate a dynamic threshold based on pixel intensity\n",
    "    threshold_value = int(np.max(img) * threshold_factor)\n",
    "\n",
    "    # Apply the threshold\n",
    "    _, thresh = cv2.threshold(img, threshold_value, 255, cv2.THRESH_BINARY)\n",
    "\n",
    "    total_pixels = img.size\n",
    "    white_pixels = cv2.countNonZero(thresh)\n",
    "    white_pixel_percentage = (white_pixels / total_pixels) * 100\n",
    "    \n",
    "    \n",
    "    # Display the original and thresholded images\n",
    "    #cv2.imshow('Original Image', img)\n",
    "    #cv2.imshow('Thresholded Image', thresh)\n",
    "    #cv2.waitKey(0)\n",
    "    #cv2.destroyAllWindows()\n",
    "    return white_pixel_percentage"
   ]
  },
  {
   "cell_type": "code",
   "execution_count": 35,
   "id": "304f8f13-1cec-4555-8e2b-aedb17d3c5e9",
   "metadata": {},
   "outputs": [],
   "source": [
    "def dynamic_threshold_cattle_back_area(img, threshold_factor=0.7, min_area=10): #min_area= 200 before\n",
    "    # Read the image\n",
    "\n",
    "\n",
    "    # Calculate a dynamic threshold based on pixel intensity\n",
    "    threshold_value = int(np.max(img) * threshold_factor) - 5\n",
    "    \n",
    "    # Apply the threshold\n",
    "    _, thresh = cv2.threshold(img, threshold_value, 255, cv2.THRESH_BINARY)\n",
    "\n",
    "    # Morphological operations to eliminate small, straight white regions\n",
    "    #kernel = np.ones((5, 5), np.uint8)\n",
    "    if False:\n",
    "        kernel = np.ones((7, 7), np.uint8)\n",
    "        thresh = cv2.morphologyEx(thresh, cv2.MORPH_CLOSE, kernel)\n",
    "\n",
    "        # Find contours and filter based on minimum area\n",
    "        contours, _ = cv2.findContours(thresh, cv2.RETR_EXTERNAL, cv2.CHAIN_APPROX_SIMPLE)\n",
    "        for contour in contours:\n",
    "            area = cv2.contourArea(contour)\n",
    "            if area < min_area:\n",
    "                cv2.drawContours(thresh, [contour], -1, (0, 0, 0), thickness=cv2.FILLED)\n",
    "\n",
    "    # Calculate the percentage of white pixels\n",
    "    total_pixels = img.size\n",
    "    white_pixels = cv2.countNonZero(thresh)\n",
    "    white_pixel_percentage = (white_pixels / total_pixels) * 100\n",
    "\n",
    "    # Display the original and processed images\n",
    "    cv2.imshow('Original Image', img)\n",
    "    cv2.imshow('Processed Image', thresh)\n",
    "    global image_count\n",
    "    original_path = Path(base_path+ '/Thresh/' + f'{image_count}_original.jpg')\n",
    "    thresh_path = Path(base_path+ '/Thresh/' + f'{image_count}_thresh.jpg')\n",
    "    cv2.imwrite(str(original_path), img) #save ori_img\n",
    "    cv2.imwrite(str(thresh_path), thresh) #save ori_img\n",
    "    return white_pixel_percentage\n"
   ]
  },
  {
   "cell_type": "code",
   "execution_count": 36,
   "id": "ad551d73",
   "metadata": {},
   "outputs": [],
   "source": [
    "def DETECTOR(farmName):\n",
    "    if farmName == HONKAWA:\n",
    "        return YOLO(\"D:/Python/SULarbmon/Python/env/yolov8_june/runs/segment/Honkawa_Weights_v1/weights/best.pt\")  # load a custom model\n",
    "    else:\n",
    "        return YOLO('runs/segment/train4/weights/best.pt')   # load a custom model"
   ]
  },
  {
   "cell_type": "code",
   "execution_count": 37,
   "id": "afdb74da-43cd-41c9-a0d7-e8a40767d926",
   "metadata": {
    "scrolled": true,
    "tags": []
   },
   "outputs": [
    {
     "name": "stdout",
     "output_type": "stream",
     "text": [
      "20221230_152538_8796_track\n",
      "D:\\Python\\SULarbmon\\Python\\env\\yolov8_june\\ultralytics\\runs\\segment\\HOKKAIDO_PAPER\\HOKKAIDO_BWU37\\20221230_152538_8796_track.mp4\n",
      "yolo->engine->model.py93\n",
      "yolo->v8->segement->model.py 235\n",
      "I reach here. yolo->Enging->Predictor.py 98\n"
     ]
    },
    {
     "name": "stderr",
     "output_type": "stream",
     "text": [
      "\n"
     ]
    },
    {
     "name": "stdout",
     "output_type": "stream",
     "text": [
      "I am in stream_loaders.py 168\n"
     ]
    },
    {
     "name": "stderr",
     "output_type": "stream",
     "text": [
      "video 1/1 (1/3933) D:\\815_CowDataChecking\\20221230\\20221230_E_cow\\20221230_152538_8796.mkv: 1088x1088 (no detections), 16.2ms\n",
      "video 1/1 (2/3933) D:\\815_CowDataChecking\\20221230\\20221230_E_cow\\20221230_152538_8796.mkv: 1088x1088 (no detections), 13.0ms\n",
      "video 1/1 (3/3933) D:\\815_CowDataChecking\\20221230\\20221230_E_cow\\20221230_152538_8796.mkv: 1088x1088 (no detections), 12.5ms\n",
      "video 1/1 (4/3933) D:\\815_CowDataChecking\\20221230\\20221230_E_cow\\20221230_152538_8796.mkv: 1088x1088 (no detections), 4.9ms\n",
      "video 1/1 (5/3933) D:\\815_CowDataChecking\\20221230\\20221230_E_cow\\20221230_152538_8796.mkv: 1088x1088 (no detections), 15.9ms\n",
      "video 1/1 (6/3933) D:\\815_CowDataChecking\\20221230\\20221230_E_cow\\20221230_152538_8796.mkv: 1088x1088 (no detections), 16.7ms\n",
      "video 1/1 (7/3933) D:\\815_CowDataChecking\\20221230\\20221230_E_cow\\20221230_152538_8796.mkv: 1088x1088 (no detections), 12.7ms\n",
      "video 1/1 (8/3933) D:\\815_CowDataChecking\\20221230\\20221230_E_cow\\20221230_152538_8796.mkv: 1088x1088 (no detections), 14.7ms\n",
      "video 1/1 (9/3933) D:\\815_CowDataChecking\\20221230\\20221230_E_cow\\20221230_152538_8796.mkv: 1088x1088 (no detections), 15.8ms\n",
      "video 1/1 (10/3933) D:\\815_CowDataChecking\\20221230\\20221230_E_cow\\20221230_152538_8796.mkv: 1088x1088 (no detections), 10.1ms\n",
      "video 1/1 (11/3933) D:\\815_CowDataChecking\\20221230\\20221230_E_cow\\20221230_152538_8796.mkv: 1088x1088 (no detections), 9.6ms\n",
      "video 1/1 (12/3933) D:\\815_CowDataChecking\\20221230\\20221230_E_cow\\20221230_152538_8796.mkv: 1088x1088 (no detections), 12.3ms\n",
      "video 1/1 (13/3933) D:\\815_CowDataChecking\\20221230\\20221230_E_cow\\20221230_152538_8796.mkv: 1088x1088 (no detections), 15.0ms\n",
      "video 1/1 (14/3933) D:\\815_CowDataChecking\\20221230\\20221230_E_cow\\20221230_152538_8796.mkv: 1088x1088 (no detections), 15.0ms\n",
      "video 1/1 (15/3933) D:\\815_CowDataChecking\\20221230\\20221230_E_cow\\20221230_152538_8796.mkv: 1088x1088 (no detections), 17.6ms\n",
      "video 1/1 (16/3933) D:\\815_CowDataChecking\\20221230\\20221230_E_cow\\20221230_152538_8796.mkv: 1088x1088 (no detections), 19.0ms\n",
      "video 1/1 (17/3933) D:\\815_CowDataChecking\\20221230\\20221230_E_cow\\20221230_152538_8796.mkv: 1088x1088 (no detections), 11.0ms\n",
      "video 1/1 (18/3933) D:\\815_CowDataChecking\\20221230\\20221230_E_cow\\20221230_152538_8796.mkv: 1088x1088 (no detections), 11.6ms\n",
      "video 1/1 (19/3933) D:\\815_CowDataChecking\\20221230\\20221230_E_cow\\20221230_152538_8796.mkv: 1088x1088 (no detections), 11.8ms\n",
      "video 1/1 (20/3933) D:\\815_CowDataChecking\\20221230\\20221230_E_cow\\20221230_152538_8796.mkv: 1088x1088 (no detections), 10.0ms\n",
      "video 1/1 (21/3933) D:\\815_CowDataChecking\\20221230\\20221230_E_cow\\20221230_152538_8796.mkv: 1088x1088 (no detections), 15.6ms\n",
      "video 1/1 (22/3933) D:\\815_CowDataChecking\\20221230\\20221230_E_cow\\20221230_152538_8796.mkv: 1088x1088 (no detections), 10.5ms\n",
      "video 1/1 (23/3933) D:\\815_CowDataChecking\\20221230\\20221230_E_cow\\20221230_152538_8796.mkv: 1088x1088 (no detections), 10.9ms\n",
      "video 1/1 (24/3933) D:\\815_CowDataChecking\\20221230\\20221230_E_cow\\20221230_152538_8796.mkv: 1088x1088 (no detections), 20.6ms\n",
      "video 1/1 (25/3933) D:\\815_CowDataChecking\\20221230\\20221230_E_cow\\20221230_152538_8796.mkv: 1088x1088 (no detections), 12.2ms\n",
      "video 1/1 (26/3933) D:\\815_CowDataChecking\\20221230\\20221230_E_cow\\20221230_152538_8796.mkv: 1088x1088 (no detections), 11.5ms\n",
      "video 1/1 (27/3933) D:\\815_CowDataChecking\\20221230\\20221230_E_cow\\20221230_152538_8796.mkv: 1088x1088 (no detections), 10.5ms\n",
      "video 1/1 (28/3933) D:\\815_CowDataChecking\\20221230\\20221230_E_cow\\20221230_152538_8796.mkv: 1088x1088 (no detections), 16.9ms\n",
      "video 1/1 (29/3933) D:\\815_CowDataChecking\\20221230\\20221230_E_cow\\20221230_152538_8796.mkv: 1088x1088 (no detections), 16.0ms\n",
      "video 1/1 (30/3933) D:\\815_CowDataChecking\\20221230\\20221230_E_cow\\20221230_152538_8796.mkv: 1088x1088 (no detections), 18.0ms\n",
      "video 1/1 (31/3933) D:\\815_CowDataChecking\\20221230\\20221230_E_cow\\20221230_152538_8796.mkv: 1088x1088 (no detections), 11.8ms\n",
      "video 1/1 (32/3933) D:\\815_CowDataChecking\\20221230\\20221230_E_cow\\20221230_152538_8796.mkv: 1088x1088 (no detections), 14.4ms\n",
      "video 1/1 (33/3933) D:\\815_CowDataChecking\\20221230\\20221230_E_cow\\20221230_152538_8796.mkv: 1088x1088 (no detections), 14.3ms\n",
      "video 1/1 (34/3933) D:\\815_CowDataChecking\\20221230\\20221230_E_cow\\20221230_152538_8796.mkv: 1088x1088 (no detections), 10.7ms\n",
      "video 1/1 (35/3933) D:\\815_CowDataChecking\\20221230\\20221230_E_cow\\20221230_152538_8796.mkv: 1088x1088 (no detections), 11.0ms\n",
      "video 1/1 (36/3933) D:\\815_CowDataChecking\\20221230\\20221230_E_cow\\20221230_152538_8796.mkv: 1088x1088 (no detections), 11.0ms\n",
      "video 1/1 (37/3933) D:\\815_CowDataChecking\\20221230\\20221230_E_cow\\20221230_152538_8796.mkv: 1088x1088 (no detections), 14.4ms\n",
      "video 1/1 (38/3933) D:\\815_CowDataChecking\\20221230\\20221230_E_cow\\20221230_152538_8796.mkv: 1088x1088 (no detections), 16.7ms\n",
      "video 1/1 (39/3933) D:\\815_CowDataChecking\\20221230\\20221230_E_cow\\20221230_152538_8796.mkv: 1088x1088 (no detections), 16.8ms\n",
      "video 1/1 (40/3933) D:\\815_CowDataChecking\\20221230\\20221230_E_cow\\20221230_152538_8796.mkv: 1088x1088 (no detections), 11.4ms\n",
      "video 1/1 (41/3933) D:\\815_CowDataChecking\\20221230\\20221230_E_cow\\20221230_152538_8796.mkv: 1088x1088 (no detections), 11.5ms\n",
      "video 1/1 (42/3933) D:\\815_CowDataChecking\\20221230\\20221230_E_cow\\20221230_152538_8796.mkv: 1088x1088 (no detections), 6.4ms\n",
      "video 1/1 (43/3933) D:\\815_CowDataChecking\\20221230\\20221230_E_cow\\20221230_152538_8796.mkv: 1088x1088 (no detections), 14.4ms\n",
      "video 1/1 (44/3933) D:\\815_CowDataChecking\\20221230\\20221230_E_cow\\20221230_152538_8796.mkv: 1088x1088 (no detections), 19.7ms\n",
      "video 1/1 (45/3933) D:\\815_CowDataChecking\\20221230\\20221230_E_cow\\20221230_152538_8796.mkv: 1088x1088 (no detections), 14.7ms\n",
      "video 1/1 (46/3933) D:\\815_CowDataChecking\\20221230\\20221230_E_cow\\20221230_152538_8796.mkv: 1088x1088 (no detections), 15.3ms\n",
      "video 1/1 (47/3933) D:\\815_CowDataChecking\\20221230\\20221230_E_cow\\20221230_152538_8796.mkv: 1088x1088 (no detections), 14.0ms\n",
      "video 1/1 (48/3933) D:\\815_CowDataChecking\\20221230\\20221230_E_cow\\20221230_152538_8796.mkv: 1088x1088 (no detections), 16.1ms\n",
      "video 1/1 (49/3933) D:\\815_CowDataChecking\\20221230\\20221230_E_cow\\20221230_152538_8796.mkv: 1088x1088 (no detections), 17.4ms\n",
      "video 1/1 (50/3933) D:\\815_CowDataChecking\\20221230\\20221230_E_cow\\20221230_152538_8796.mkv: 1088x1088 (no detections), 15.7ms\n",
      "video 1/1 (51/3933) D:\\815_CowDataChecking\\20221230\\20221230_E_cow\\20221230_152538_8796.mkv: 1088x1088 (no detections), 11.0ms\n",
      "video 1/1 (52/3933) D:\\815_CowDataChecking\\20221230\\20221230_E_cow\\20221230_152538_8796.mkv: 1088x1088 (no detections), 12.3ms\n",
      "video 1/1 (53/3933) D:\\815_CowDataChecking\\20221230\\20221230_E_cow\\20221230_152538_8796.mkv: 1088x1088 (no detections), 18.1ms\n",
      "video 1/1 (54/3933) D:\\815_CowDataChecking\\20221230\\20221230_E_cow\\20221230_152538_8796.mkv: 1088x1088 (no detections), 15.7ms\n",
      "video 1/1 (55/3933) D:\\815_CowDataChecking\\20221230\\20221230_E_cow\\20221230_152538_8796.mkv: 1088x1088 (no detections), 12.7ms\n",
      "video 1/1 (56/3933) D:\\815_CowDataChecking\\20221230\\20221230_E_cow\\20221230_152538_8796.mkv: 1088x1088 (no detections), 6.8ms\n",
      "video 1/1 (57/3933) D:\\815_CowDataChecking\\20221230\\20221230_E_cow\\20221230_152538_8796.mkv: 1088x1088 (no detections), 5.7ms\n",
      "video 1/1 (58/3933) D:\\815_CowDataChecking\\20221230\\20221230_E_cow\\20221230_152538_8796.mkv: 1088x1088 (no detections), 6.1ms\n",
      "video 1/1 (59/3933) D:\\815_CowDataChecking\\20221230\\20221230_E_cow\\20221230_152538_8796.mkv: 1088x1088 (no detections), 13.5ms\n",
      "video 1/1 (60/3933) D:\\815_CowDataChecking\\20221230\\20221230_E_cow\\20221230_152538_8796.mkv: 1088x1088 (no detections), 16.5ms\n",
      "video 1/1 (61/3933) D:\\815_CowDataChecking\\20221230\\20221230_E_cow\\20221230_152538_8796.mkv: 1088x1088 (no detections), 10.2ms\n",
      "video 1/1 (62/3933) D:\\815_CowDataChecking\\20221230\\20221230_E_cow\\20221230_152538_8796.mkv: 1088x1088 (no detections), 17.2ms\n",
      "video 1/1 (63/3933) D:\\815_CowDataChecking\\20221230\\20221230_E_cow\\20221230_152538_8796.mkv: 1088x1088 (no detections), 8.4ms\n",
      "video 1/1 (64/3933) D:\\815_CowDataChecking\\20221230\\20221230_E_cow\\20221230_152538_8796.mkv: 1088x1088 (no detections), 11.4ms\n",
      "video 1/1 (65/3933) D:\\815_CowDataChecking\\20221230\\20221230_E_cow\\20221230_152538_8796.mkv: 1088x1088 (no detections), 12.9ms\n",
      "video 1/1 (66/3933) D:\\815_CowDataChecking\\20221230\\20221230_E_cow\\20221230_152538_8796.mkv: 1088x1088 (no detections), 24.3ms\n",
      "video 1/1 (67/3933) D:\\815_CowDataChecking\\20221230\\20221230_E_cow\\20221230_152538_8796.mkv: 1088x1088 (no detections), 23.5ms\n",
      "video 1/1 (68/3933) D:\\815_CowDataChecking\\20221230\\20221230_E_cow\\20221230_152538_8796.mkv: 1088x1088 (no detections), 21.6ms\n",
      "video 1/1 (69/3933) D:\\815_CowDataChecking\\20221230\\20221230_E_cow\\20221230_152538_8796.mkv: 1088x1088 (no detections), 24.0ms\n",
      "video 1/1 (70/3933) D:\\815_CowDataChecking\\20221230\\20221230_E_cow\\20221230_152538_8796.mkv: 1088x1088 (no detections), 20.6ms\n",
      "video 1/1 (71/3933) D:\\815_CowDataChecking\\20221230\\20221230_E_cow\\20221230_152538_8796.mkv: 1088x1088 (no detections), 21.9ms\n",
      "video 1/1 (72/3933) D:\\815_CowDataChecking\\20221230\\20221230_E_cow\\20221230_152538_8796.mkv: 1088x1088 (no detections), 20.0ms\n",
      "video 1/1 (73/3933) D:\\815_CowDataChecking\\20221230\\20221230_E_cow\\20221230_152538_8796.mkv: 1088x1088 (no detections), 18.3ms\n",
      "video 1/1 (74/3933) D:\\815_CowDataChecking\\20221230\\20221230_E_cow\\20221230_152538_8796.mkv: 1088x1088 (no detections), 23.9ms\n",
      "video 1/1 (75/3933) D:\\815_CowDataChecking\\20221230\\20221230_E_cow\\20221230_152538_8796.mkv: 1088x1088 (no detections), 22.0ms\n",
      "video 1/1 (76/3933) D:\\815_CowDataChecking\\20221230\\20221230_E_cow\\20221230_152538_8796.mkv: 1088x1088 (no detections), 22.8ms\n",
      "video 1/1 (77/3933) D:\\815_CowDataChecking\\20221230\\20221230_E_cow\\20221230_152538_8796.mkv: 1088x1088 (no detections), 20.4ms\n",
      "video 1/1 (78/3933) D:\\815_CowDataChecking\\20221230\\20221230_E_cow\\20221230_152538_8796.mkv: 1088x1088 (no detections), 21.8ms\n",
      "video 1/1 (79/3933) D:\\815_CowDataChecking\\20221230\\20221230_E_cow\\20221230_152538_8796.mkv: 1088x1088 (no detections), 23.1ms\n",
      "video 1/1 (80/3933) D:\\815_CowDataChecking\\20221230\\20221230_E_cow\\20221230_152538_8796.mkv: 1088x1088 (no detections), 17.7ms\n",
      "video 1/1 (81/3933) D:\\815_CowDataChecking\\20221230\\20221230_E_cow\\20221230_152538_8796.mkv: 1088x1088 (no detections), 22.9ms\n",
      "video 1/1 (82/3933) D:\\815_CowDataChecking\\20221230\\20221230_E_cow\\20221230_152538_8796.mkv: 1088x1088 (no detections), 18.5ms\n",
      "video 1/1 (83/3933) D:\\815_CowDataChecking\\20221230\\20221230_E_cow\\20221230_152538_8796.mkv: 1088x1088 (no detections), 19.8ms\n",
      "video 1/1 (84/3933) D:\\815_CowDataChecking\\20221230\\20221230_E_cow\\20221230_152538_8796.mkv: 1088x1088 (no detections), 21.9ms\n",
      "video 1/1 (85/3933) D:\\815_CowDataChecking\\20221230\\20221230_E_cow\\20221230_152538_8796.mkv: 1088x1088 (no detections), 20.0ms\n",
      "video 1/1 (86/3933) D:\\815_CowDataChecking\\20221230\\20221230_E_cow\\20221230_152538_8796.mkv: 1088x1088 (no detections), 22.0ms\n",
      "video 1/1 (87/3933) D:\\815_CowDataChecking\\20221230\\20221230_E_cow\\20221230_152538_8796.mkv: 1088x1088 (no detections), 19.7ms\n",
      "video 1/1 (88/3933) D:\\815_CowDataChecking\\20221230\\20221230_E_cow\\20221230_152538_8796.mkv: 1088x1088 (no detections), 21.0ms\n",
      "video 1/1 (89/3933) D:\\815_CowDataChecking\\20221230\\20221230_E_cow\\20221230_152538_8796.mkv: 1088x1088 (no detections), 22.5ms\n",
      "video 1/1 (90/3933) D:\\815_CowDataChecking\\20221230\\20221230_E_cow\\20221230_152538_8796.mkv: 1088x1088 (no detections), 22.8ms\n",
      "video 1/1 (91/3933) D:\\815_CowDataChecking\\20221230\\20221230_E_cow\\20221230_152538_8796.mkv: 1088x1088 (no detections), 22.7ms\n",
      "video 1/1 (92/3933) D:\\815_CowDataChecking\\20221230\\20221230_E_cow\\20221230_152538_8796.mkv: 1088x1088 (no detections), 21.8ms\n",
      "video 1/1 (93/3933) D:\\815_CowDataChecking\\20221230\\20221230_E_cow\\20221230_152538_8796.mkv: 1088x1088 (no detections), 22.2ms\n",
      "video 1/1 (94/3933) D:\\815_CowDataChecking\\20221230\\20221230_E_cow\\20221230_152538_8796.mkv: 1088x1088 (no detections), 22.3ms\n",
      "video 1/1 (95/3933) D:\\815_CowDataChecking\\20221230\\20221230_E_cow\\20221230_152538_8796.mkv: 1088x1088 (no detections), 20.7ms\n",
      "video 1/1 (96/3933) D:\\815_CowDataChecking\\20221230\\20221230_E_cow\\20221230_152538_8796.mkv: 1088x1088 (no detections), 22.2ms\n",
      "video 1/1 (97/3933) D:\\815_CowDataChecking\\20221230\\20221230_E_cow\\20221230_152538_8796.mkv: 1088x1088 (no detections), 21.9ms\n",
      "video 1/1 (98/3933) D:\\815_CowDataChecking\\20221230\\20221230_E_cow\\20221230_152538_8796.mkv: 1088x1088 (no detections), 24.0ms\n",
      "video 1/1 (99/3933) D:\\815_CowDataChecking\\20221230\\20221230_E_cow\\20221230_152538_8796.mkv: 1088x1088 (no detections), 23.1ms\n",
      "video 1/1 (100/3933) D:\\815_CowDataChecking\\20221230\\20221230_E_cow\\20221230_152538_8796.mkv: 1088x1088 (no detections), 23.3ms\n",
      "video 1/1 (101/3933) D:\\815_CowDataChecking\\20221230\\20221230_E_cow\\20221230_152538_8796.mkv: 1088x1088 (no detections), 22.3ms\n",
      "video 1/1 (102/3933) D:\\815_CowDataChecking\\20221230\\20221230_E_cow\\20221230_152538_8796.mkv: 1088x1088 (no detections), 23.4ms\n",
      "video 1/1 (103/3933) D:\\815_CowDataChecking\\20221230\\20221230_E_cow\\20221230_152538_8796.mkv: 1088x1088 (no detections), 22.7ms\n",
      "video 1/1 (104/3933) D:\\815_CowDataChecking\\20221230\\20221230_E_cow\\20221230_152538_8796.mkv: 1088x1088 (no detections), 24.2ms\n",
      "video 1/1 (105/3933) D:\\815_CowDataChecking\\20221230\\20221230_E_cow\\20221230_152538_8796.mkv: 1088x1088 (no detections), 24.9ms\n",
      "video 1/1 (106/3933) D:\\815_CowDataChecking\\20221230\\20221230_E_cow\\20221230_152538_8796.mkv: 1088x1088 (no detections), 21.1ms\n",
      "video 1/1 (107/3933) D:\\815_CowDataChecking\\20221230\\20221230_E_cow\\20221230_152538_8796.mkv: 1088x1088 (no detections), 21.6ms\n",
      "video 1/1 (108/3933) D:\\815_CowDataChecking\\20221230\\20221230_E_cow\\20221230_152538_8796.mkv: 1088x1088 (no detections), 23.0ms\n",
      "video 1/1 (109/3933) D:\\815_CowDataChecking\\20221230\\20221230_E_cow\\20221230_152538_8796.mkv: 1088x1088 (no detections), 22.6ms\n",
      "video 1/1 (110/3933) D:\\815_CowDataChecking\\20221230\\20221230_E_cow\\20221230_152538_8796.mkv: 1088x1088 (no detections), 24.1ms\n",
      "video 1/1 (111/3933) D:\\815_CowDataChecking\\20221230\\20221230_E_cow\\20221230_152538_8796.mkv: 1088x1088 (no detections), 22.7ms\n",
      "video 1/1 (112/3933) D:\\815_CowDataChecking\\20221230\\20221230_E_cow\\20221230_152538_8796.mkv: 1088x1088 (no detections), 20.1ms\n",
      "video 1/1 (113/3933) D:\\815_CowDataChecking\\20221230\\20221230_E_cow\\20221230_152538_8796.mkv: 1088x1088 (no detections), 24.0ms\n",
      "video 1/1 (114/3933) D:\\815_CowDataChecking\\20221230\\20221230_E_cow\\20221230_152538_8796.mkv: 1088x1088 (no detections), 23.0ms\n",
      "video 1/1 (115/3933) D:\\815_CowDataChecking\\20221230\\20221230_E_cow\\20221230_152538_8796.mkv: 1088x1088 (no detections), 22.7ms\n",
      "video 1/1 (116/3933) D:\\815_CowDataChecking\\20221230\\20221230_E_cow\\20221230_152538_8796.mkv: 1088x1088 (no detections), 21.2ms\n",
      "video 1/1 (117/3933) D:\\815_CowDataChecking\\20221230\\20221230_E_cow\\20221230_152538_8796.mkv: 1088x1088 (no detections), 21.5ms\n",
      "video 1/1 (118/3933) D:\\815_CowDataChecking\\20221230\\20221230_E_cow\\20221230_152538_8796.mkv: 1088x1088 (no detections), 23.6ms\n",
      "video 1/1 (119/3933) D:\\815_CowDataChecking\\20221230\\20221230_E_cow\\20221230_152538_8796.mkv: 1088x1088 (no detections), 20.4ms\n",
      "video 1/1 (120/3933) D:\\815_CowDataChecking\\20221230\\20221230_E_cow\\20221230_152538_8796.mkv: 1088x1088 (no detections), 24.0ms\n",
      "video 1/1 (121/3933) D:\\815_CowDataChecking\\20221230\\20221230_E_cow\\20221230_152538_8796.mkv: 1088x1088 (no detections), 23.2ms\n",
      "video 1/1 (122/3933) D:\\815_CowDataChecking\\20221230\\20221230_E_cow\\20221230_152538_8796.mkv: 1088x1088 (no detections), 23.3ms\n",
      "video 1/1 (123/3933) D:\\815_CowDataChecking\\20221230\\20221230_E_cow\\20221230_152538_8796.mkv: 1088x1088 (no detections), 22.5ms\n",
      "video 1/1 (124/3933) D:\\815_CowDataChecking\\20221230\\20221230_E_cow\\20221230_152538_8796.mkv: 1088x1088 (no detections), 20.8ms\n",
      "video 1/1 (125/3933) D:\\815_CowDataChecking\\20221230\\20221230_E_cow\\20221230_152538_8796.mkv: 1088x1088 (no detections), 21.8ms\n",
      "video 1/1 (126/3933) D:\\815_CowDataChecking\\20221230\\20221230_E_cow\\20221230_152538_8796.mkv: 1088x1088 (no detections), 25.5ms\n",
      "video 1/1 (127/3933) D:\\815_CowDataChecking\\20221230\\20221230_E_cow\\20221230_152538_8796.mkv: 1088x1088 (no detections), 23.9ms\n",
      "video 1/1 (128/3933) D:\\815_CowDataChecking\\20221230\\20221230_E_cow\\20221230_152538_8796.mkv: 1088x1088 (no detections), 23.1ms\n",
      "video 1/1 (129/3933) D:\\815_CowDataChecking\\20221230\\20221230_E_cow\\20221230_152538_8796.mkv: 1088x1088 (no detections), 23.4ms\n",
      "video 1/1 (130/3933) D:\\815_CowDataChecking\\20221230\\20221230_E_cow\\20221230_152538_8796.mkv: 1088x1088 (no detections), 23.9ms\n",
      "video 1/1 (131/3933) D:\\815_CowDataChecking\\20221230\\20221230_E_cow\\20221230_152538_8796.mkv: 1088x1088 (no detections), 24.7ms\n",
      "video 1/1 (132/3933) D:\\815_CowDataChecking\\20221230\\20221230_E_cow\\20221230_152538_8796.mkv: 1088x1088 (no detections), 25.3ms\n",
      "video 1/1 (133/3933) D:\\815_CowDataChecking\\20221230\\20221230_E_cow\\20221230_152538_8796.mkv: 1088x1088 (no detections), 24.0ms\n",
      "video 1/1 (134/3933) D:\\815_CowDataChecking\\20221230\\20221230_E_cow\\20221230_152538_8796.mkv: 1088x1088 (no detections), 22.0ms\n",
      "video 1/1 (135/3933) D:\\815_CowDataChecking\\20221230\\20221230_E_cow\\20221230_152538_8796.mkv: 1088x1088 (no detections), 24.5ms\n",
      "video 1/1 (136/3933) D:\\815_CowDataChecking\\20221230\\20221230_E_cow\\20221230_152538_8796.mkv: 1088x1088 (no detections), 23.8ms\n",
      "video 1/1 (137/3933) D:\\815_CowDataChecking\\20221230\\20221230_E_cow\\20221230_152538_8796.mkv: 1088x1088 (no detections), 24.9ms\n",
      "video 1/1 (138/3933) D:\\815_CowDataChecking\\20221230\\20221230_E_cow\\20221230_152538_8796.mkv: 1088x1088 (no detections), 22.9ms\n",
      "video 1/1 (139/3933) D:\\815_CowDataChecking\\20221230\\20221230_E_cow\\20221230_152538_8796.mkv: 1088x1088 (no detections), 25.2ms\n",
      "video 1/1 (140/3933) D:\\815_CowDataChecking\\20221230\\20221230_E_cow\\20221230_152538_8796.mkv: 1088x1088 (no detections), 22.9ms\n",
      "video 1/1 (141/3933) D:\\815_CowDataChecking\\20221230\\20221230_E_cow\\20221230_152538_8796.mkv: 1088x1088 (no detections), 22.0ms\n",
      "video 1/1 (142/3933) D:\\815_CowDataChecking\\20221230\\20221230_E_cow\\20221230_152538_8796.mkv: 1088x1088 (no detections), 23.6ms\n",
      "video 1/1 (143/3933) D:\\815_CowDataChecking\\20221230\\20221230_E_cow\\20221230_152538_8796.mkv: 1088x1088 (no detections), 24.7ms\n",
      "video 1/1 (144/3933) D:\\815_CowDataChecking\\20221230\\20221230_E_cow\\20221230_152538_8796.mkv: 1088x1088 (no detections), 27.0ms\n",
      "video 1/1 (145/3933) D:\\815_CowDataChecking\\20221230\\20221230_E_cow\\20221230_152538_8796.mkv: 1088x1088 (no detections), 23.6ms\n",
      "video 1/1 (146/3933) D:\\815_CowDataChecking\\20221230\\20221230_E_cow\\20221230_152538_8796.mkv: 1088x1088 (no detections), 24.9ms\n",
      "video 1/1 (147/3933) D:\\815_CowDataChecking\\20221230\\20221230_E_cow\\20221230_152538_8796.mkv: 1088x1088 (no detections), 23.6ms\n",
      "video 1/1 (148/3933) D:\\815_CowDataChecking\\20221230\\20221230_E_cow\\20221230_152538_8796.mkv: 1088x1088 (no detections), 26.1ms\n",
      "video 1/1 (149/3933) D:\\815_CowDataChecking\\20221230\\20221230_E_cow\\20221230_152538_8796.mkv: 1088x1088 (no detections), 26.1ms\n",
      "video 1/1 (150/3933) D:\\815_CowDataChecking\\20221230\\20221230_E_cow\\20221230_152538_8796.mkv: 1088x1088 (no detections), 25.3ms\n",
      "video 1/1 (151/3933) D:\\815_CowDataChecking\\20221230\\20221230_E_cow\\20221230_152538_8796.mkv: 1088x1088 (no detections), 25.0ms\n",
      "video 1/1 (152/3933) D:\\815_CowDataChecking\\20221230\\20221230_E_cow\\20221230_152538_8796.mkv: 1088x1088 (no detections), 26.3ms\n",
      "video 1/1 (153/3933) D:\\815_CowDataChecking\\20221230\\20221230_E_cow\\20221230_152538_8796.mkv: 1088x1088 (no detections), 24.8ms\n",
      "video 1/1 (154/3933) D:\\815_CowDataChecking\\20221230\\20221230_E_cow\\20221230_152538_8796.mkv: 1088x1088 (no detections), 26.7ms\n",
      "video 1/1 (155/3933) D:\\815_CowDataChecking\\20221230\\20221230_E_cow\\20221230_152538_8796.mkv: 1088x1088 (no detections), 25.5ms\n",
      "video 1/1 (156/3933) D:\\815_CowDataChecking\\20221230\\20221230_E_cow\\20221230_152538_8796.mkv: 1088x1088 (no detections), 26.4ms\n",
      "video 1/1 (157/3933) D:\\815_CowDataChecking\\20221230\\20221230_E_cow\\20221230_152538_8796.mkv: 1088x1088 (no detections), 25.9ms\n",
      "video 1/1 (158/3933) D:\\815_CowDataChecking\\20221230\\20221230_E_cow\\20221230_152538_8796.mkv: 1088x1088 (no detections), 24.9ms\n",
      "video 1/1 (159/3933) D:\\815_CowDataChecking\\20221230\\20221230_E_cow\\20221230_152538_8796.mkv: 1088x1088 (no detections), 22.9ms\n",
      "video 1/1 (160/3933) D:\\815_CowDataChecking\\20221230\\20221230_E_cow\\20221230_152538_8796.mkv: 1088x1088 (no detections), 28.3ms\n",
      "video 1/1 (161/3933) D:\\815_CowDataChecking\\20221230\\20221230_E_cow\\20221230_152538_8796.mkv: 1088x1088 (no detections), 23.0ms\n",
      "video 1/1 (162/3933) D:\\815_CowDataChecking\\20221230\\20221230_E_cow\\20221230_152538_8796.mkv: 1088x1088 (no detections), 23.8ms\n",
      "video 1/1 (163/3933) D:\\815_CowDataChecking\\20221230\\20221230_E_cow\\20221230_152538_8796.mkv: 1088x1088 (no detections), 25.0ms\n",
      "video 1/1 (164/3933) D:\\815_CowDataChecking\\20221230\\20221230_E_cow\\20221230_152538_8796.mkv: 1088x1088 (no detections), 25.6ms\n",
      "video 1/1 (165/3933) D:\\815_CowDataChecking\\20221230\\20221230_E_cow\\20221230_152538_8796.mkv: 1088x1088 (no detections), 21.8ms\n",
      "video 1/1 (166/3933) D:\\815_CowDataChecking\\20221230\\20221230_E_cow\\20221230_152538_8796.mkv: 1088x1088 (no detections), 21.8ms\n",
      "video 1/1 (167/3933) D:\\815_CowDataChecking\\20221230\\20221230_E_cow\\20221230_152538_8796.mkv: 1088x1088 (no detections), 25.0ms\n",
      "video 1/1 (168/3933) D:\\815_CowDataChecking\\20221230\\20221230_E_cow\\20221230_152538_8796.mkv: 1088x1088 (no detections), 22.2ms\n",
      "video 1/1 (169/3933) D:\\815_CowDataChecking\\20221230\\20221230_E_cow\\20221230_152538_8796.mkv: 1088x1088 (no detections), 24.5ms\n",
      "video 1/1 (170/3933) D:\\815_CowDataChecking\\20221230\\20221230_E_cow\\20221230_152538_8796.mkv: 1088x1088 (no detections), 25.7ms\n",
      "video 1/1 (171/3933) D:\\815_CowDataChecking\\20221230\\20221230_E_cow\\20221230_152538_8796.mkv: 1088x1088 (no detections), 26.4ms\n",
      "video 1/1 (172/3933) D:\\815_CowDataChecking\\20221230\\20221230_E_cow\\20221230_152538_8796.mkv: 1088x1088 (no detections), 24.3ms\n",
      "video 1/1 (173/3933) D:\\815_CowDataChecking\\20221230\\20221230_E_cow\\20221230_152538_8796.mkv: 1088x1088 (no detections), 26.3ms\n",
      "video 1/1 (174/3933) D:\\815_CowDataChecking\\20221230\\20221230_E_cow\\20221230_152538_8796.mkv: 1088x1088 (no detections), 25.3ms\n",
      "video 1/1 (175/3933) D:\\815_CowDataChecking\\20221230\\20221230_E_cow\\20221230_152538_8796.mkv: 1088x1088 (no detections), 22.7ms\n",
      "video 1/1 (176/3933) D:\\815_CowDataChecking\\20221230\\20221230_E_cow\\20221230_152538_8796.mkv: 1088x1088 (no detections), 25.7ms\n",
      "video 1/1 (177/3933) D:\\815_CowDataChecking\\20221230\\20221230_E_cow\\20221230_152538_8796.mkv: 1088x1088 (no detections), 23.8ms\n",
      "video 1/1 (178/3933) D:\\815_CowDataChecking\\20221230\\20221230_E_cow\\20221230_152538_8796.mkv: 1088x1088 (no detections), 25.8ms\n",
      "video 1/1 (179/3933) D:\\815_CowDataChecking\\20221230\\20221230_E_cow\\20221230_152538_8796.mkv: 1088x1088 (no detections), 26.7ms\n",
      "video 1/1 (180/3933) D:\\815_CowDataChecking\\20221230\\20221230_E_cow\\20221230_152538_8796.mkv: 1088x1088 (no detections), 25.2ms\n",
      "video 1/1 (181/3933) D:\\815_CowDataChecking\\20221230\\20221230_E_cow\\20221230_152538_8796.mkv: 1088x1088 (no detections), 23.9ms\n",
      "video 1/1 (182/3933) D:\\815_CowDataChecking\\20221230\\20221230_E_cow\\20221230_152538_8796.mkv: 1088x1088 (no detections), 24.8ms\n",
      "video 1/1 (183/3933) D:\\815_CowDataChecking\\20221230\\20221230_E_cow\\20221230_152538_8796.mkv: 1088x1088 (no detections), 26.2ms\n",
      "video 1/1 (184/3933) D:\\815_CowDataChecking\\20221230\\20221230_E_cow\\20221230_152538_8796.mkv: 1088x1088 (no detections), 23.1ms\n",
      "video 1/1 (185/3933) D:\\815_CowDataChecking\\20221230\\20221230_E_cow\\20221230_152538_8796.mkv: 1088x1088 (no detections), 26.3ms\n",
      "video 1/1 (186/3933) D:\\815_CowDataChecking\\20221230\\20221230_E_cow\\20221230_152538_8796.mkv: 1088x1088 (no detections), 23.7ms\n",
      "video 1/1 (187/3933) D:\\815_CowDataChecking\\20221230\\20221230_E_cow\\20221230_152538_8796.mkv: 1088x1088 (no detections), 25.4ms\n",
      "video 1/1 (188/3933) D:\\815_CowDataChecking\\20221230\\20221230_E_cow\\20221230_152538_8796.mkv: 1088x1088 (no detections), 24.7ms\n",
      "video 1/1 (189/3933) D:\\815_CowDataChecking\\20221230\\20221230_E_cow\\20221230_152538_8796.mkv: 1088x1088 (no detections), 25.4ms\n",
      "video 1/1 (190/3933) D:\\815_CowDataChecking\\20221230\\20221230_E_cow\\20221230_152538_8796.mkv: 1088x1088 (no detections), 25.4ms\n",
      "video 1/1 (191/3933) D:\\815_CowDataChecking\\20221230\\20221230_E_cow\\20221230_152538_8796.mkv: 1088x1088 (no detections), 23.6ms\n",
      "video 1/1 (192/3933) D:\\815_CowDataChecking\\20221230\\20221230_E_cow\\20221230_152538_8796.mkv: 1088x1088 (no detections), 25.2ms\n",
      "video 1/1 (193/3933) D:\\815_CowDataChecking\\20221230\\20221230_E_cow\\20221230_152538_8796.mkv: 1088x1088 (no detections), 24.8ms\n",
      "video 1/1 (194/3933) D:\\815_CowDataChecking\\20221230\\20221230_E_cow\\20221230_152538_8796.mkv: 1088x1088 (no detections), 26.3ms\n",
      "video 1/1 (195/3933) D:\\815_CowDataChecking\\20221230\\20221230_E_cow\\20221230_152538_8796.mkv: 1088x1088 (no detections), 24.8ms\n",
      "video 1/1 (196/3933) D:\\815_CowDataChecking\\20221230\\20221230_E_cow\\20221230_152538_8796.mkv: 1088x1088 (no detections), 24.0ms\n",
      "video 1/1 (197/3933) D:\\815_CowDataChecking\\20221230\\20221230_E_cow\\20221230_152538_8796.mkv: 1088x1088 (no detections), 23.8ms\n",
      "video 1/1 (198/3933) D:\\815_CowDataChecking\\20221230\\20221230_E_cow\\20221230_152538_8796.mkv: 1088x1088 (no detections), 24.1ms\n",
      "video 1/1 (199/3933) D:\\815_CowDataChecking\\20221230\\20221230_E_cow\\20221230_152538_8796.mkv: 1088x1088 (no detections), 24.4ms\n",
      "video 1/1 (200/3933) D:\\815_CowDataChecking\\20221230\\20221230_E_cow\\20221230_152538_8796.mkv: 1088x1088 (no detections), 22.8ms\n",
      "video 1/1 (201/3933) D:\\815_CowDataChecking\\20221230\\20221230_E_cow\\20221230_152538_8796.mkv: 1088x1088 (no detections), 25.1ms\n",
      "video 1/1 (202/3933) D:\\815_CowDataChecking\\20221230\\20221230_E_cow\\20221230_152538_8796.mkv: 1088x1088 (no detections), 22.7ms\n",
      "video 1/1 (203/3933) D:\\815_CowDataChecking\\20221230\\20221230_E_cow\\20221230_152538_8796.mkv: 1088x1088 (no detections), 27.3ms\n",
      "video 1/1 (204/3933) D:\\815_CowDataChecking\\20221230\\20221230_E_cow\\20221230_152538_8796.mkv: 1088x1088 (no detections), 25.4ms\n",
      "video 1/1 (205/3933) D:\\815_CowDataChecking\\20221230\\20221230_E_cow\\20221230_152538_8796.mkv: 1088x1088 (no detections), 24.8ms\n",
      "video 1/1 (206/3933) D:\\815_CowDataChecking\\20221230\\20221230_E_cow\\20221230_152538_8796.mkv: 1088x1088 (no detections), 23.8ms\n",
      "video 1/1 (207/3933) D:\\815_CowDataChecking\\20221230\\20221230_E_cow\\20221230_152538_8796.mkv: 1088x1088 (no detections), 27.1ms\n",
      "video 1/1 (208/3933) D:\\815_CowDataChecking\\20221230\\20221230_E_cow\\20221230_152538_8796.mkv: 1088x1088 (no detections), 23.7ms\n",
      "video 1/1 (209/3933) D:\\815_CowDataChecking\\20221230\\20221230_E_cow\\20221230_152538_8796.mkv: 1088x1088 (no detections), 26.2ms\n",
      "video 1/1 (210/3933) D:\\815_CowDataChecking\\20221230\\20221230_E_cow\\20221230_152538_8796.mkv: 1088x1088 (no detections), 26.2ms\n",
      "video 1/1 (211/3933) D:\\815_CowDataChecking\\20221230\\20221230_E_cow\\20221230_152538_8796.mkv: 1088x1088 (no detections), 23.1ms\n",
      "video 1/1 (212/3933) D:\\815_CowDataChecking\\20221230\\20221230_E_cow\\20221230_152538_8796.mkv: 1088x1088 (no detections), 23.6ms\n",
      "video 1/1 (213/3933) D:\\815_CowDataChecking\\20221230\\20221230_E_cow\\20221230_152538_8796.mkv: 1088x1088 (no detections), 23.7ms\n",
      "video 1/1 (214/3933) D:\\815_CowDataChecking\\20221230\\20221230_E_cow\\20221230_152538_8796.mkv: 1088x1088 (no detections), 26.8ms\n",
      "video 1/1 (215/3933) D:\\815_CowDataChecking\\20221230\\20221230_E_cow\\20221230_152538_8796.mkv: 1088x1088 (no detections), 23.5ms\n",
      "video 1/1 (216/3933) D:\\815_CowDataChecking\\20221230\\20221230_E_cow\\20221230_152538_8796.mkv: 1088x1088 (no detections), 26.0ms\n",
      "video 1/1 (217/3933) D:\\815_CowDataChecking\\20221230\\20221230_E_cow\\20221230_152538_8796.mkv: 1088x1088 (no detections), 25.8ms\n",
      "video 1/1 (218/3933) D:\\815_CowDataChecking\\20221230\\20221230_E_cow\\20221230_152538_8796.mkv: 1088x1088 (no detections), 27.0ms\n",
      "video 1/1 (219/3933) D:\\815_CowDataChecking\\20221230\\20221230_E_cow\\20221230_152538_8796.mkv: 1088x1088 (no detections), 24.7ms\n",
      "video 1/1 (220/3933) D:\\815_CowDataChecking\\20221230\\20221230_E_cow\\20221230_152538_8796.mkv: 1088x1088 (no detections), 22.7ms\n",
      "video 1/1 (221/3933) D:\\815_CowDataChecking\\20221230\\20221230_E_cow\\20221230_152538_8796.mkv: 1088x1088 (no detections), 24.4ms\n",
      "video 1/1 (222/3933) D:\\815_CowDataChecking\\20221230\\20221230_E_cow\\20221230_152538_8796.mkv: 1088x1088 (no detections), 25.3ms\n",
      "video 1/1 (223/3933) D:\\815_CowDataChecking\\20221230\\20221230_E_cow\\20221230_152538_8796.mkv: 1088x1088 (no detections), 25.0ms\n",
      "video 1/1 (224/3933) D:\\815_CowDataChecking\\20221230\\20221230_E_cow\\20221230_152538_8796.mkv: 1088x1088 (no detections), 23.6ms\n",
      "video 1/1 (225/3933) D:\\815_CowDataChecking\\20221230\\20221230_E_cow\\20221230_152538_8796.mkv: 1088x1088 (no detections), 23.3ms\n",
      "video 1/1 (226/3933) D:\\815_CowDataChecking\\20221230\\20221230_E_cow\\20221230_152538_8796.mkv: 1088x1088 (no detections), 24.0ms\n",
      "video 1/1 (227/3933) D:\\815_CowDataChecking\\20221230\\20221230_E_cow\\20221230_152538_8796.mkv: 1088x1088 (no detections), 25.7ms\n",
      "video 1/1 (228/3933) D:\\815_CowDataChecking\\20221230\\20221230_E_cow\\20221230_152538_8796.mkv: 1088x1088 (no detections), 23.4ms\n",
      "video 1/1 (229/3933) D:\\815_CowDataChecking\\20221230\\20221230_E_cow\\20221230_152538_8796.mkv: 1088x1088 (no detections), 24.8ms\n",
      "video 1/1 (230/3933) D:\\815_CowDataChecking\\20221230\\20221230_E_cow\\20221230_152538_8796.mkv: 1088x1088 (no detections), 24.1ms\n",
      "video 1/1 (231/3933) D:\\815_CowDataChecking\\20221230\\20221230_E_cow\\20221230_152538_8796.mkv: 1088x1088 (no detections), 23.3ms\n",
      "video 1/1 (232/3933) D:\\815_CowDataChecking\\20221230\\20221230_E_cow\\20221230_152538_8796.mkv: 1088x1088 (no detections), 24.8ms\n",
      "video 1/1 (233/3933) D:\\815_CowDataChecking\\20221230\\20221230_E_cow\\20221230_152538_8796.mkv: 1088x1088 (no detections), 24.1ms\n",
      "video 1/1 (234/3933) D:\\815_CowDataChecking\\20221230\\20221230_E_cow\\20221230_152538_8796.mkv: 1088x1088 (no detections), 24.1ms\n",
      "video 1/1 (235/3933) D:\\815_CowDataChecking\\20221230\\20221230_E_cow\\20221230_152538_8796.mkv: 1088x1088 (no detections), 25.5ms\n",
      "video 1/1 (236/3933) D:\\815_CowDataChecking\\20221230\\20221230_E_cow\\20221230_152538_8796.mkv: 1088x1088 (no detections), 23.4ms\n",
      "video 1/1 (237/3933) D:\\815_CowDataChecking\\20221230\\20221230_E_cow\\20221230_152538_8796.mkv: 1088x1088 (no detections), 23.9ms\n",
      "video 1/1 (238/3933) D:\\815_CowDataChecking\\20221230\\20221230_E_cow\\20221230_152538_8796.mkv: 1088x1088 (no detections), 23.2ms\n",
      "video 1/1 (239/3933) D:\\815_CowDataChecking\\20221230\\20221230_E_cow\\20221230_152538_8796.mkv: 1088x1088 (no detections), 23.3ms\n",
      "video 1/1 (240/3933) D:\\815_CowDataChecking\\20221230\\20221230_E_cow\\20221230_152538_8796.mkv: 1088x1088 (no detections), 28.0ms\n",
      "video 1/1 (241/3933) D:\\815_CowDataChecking\\20221230\\20221230_E_cow\\20221230_152538_8796.mkv: 1088x1088 (no detections), 23.2ms\n",
      "video 1/1 (242/3933) D:\\815_CowDataChecking\\20221230\\20221230_E_cow\\20221230_152538_8796.mkv: 1088x1088 (no detections), 23.1ms\n",
      "video 1/1 (243/3933) D:\\815_CowDataChecking\\20221230\\20221230_E_cow\\20221230_152538_8796.mkv: 1088x1088 (no detections), 22.8ms\n",
      "video 1/1 (244/3933) D:\\815_CowDataChecking\\20221230\\20221230_E_cow\\20221230_152538_8796.mkv: 1088x1088 (no detections), 24.8ms\n",
      "video 1/1 (245/3933) D:\\815_CowDataChecking\\20221230\\20221230_E_cow\\20221230_152538_8796.mkv: 1088x1088 (no detections), 26.7ms\n",
      "video 1/1 (246/3933) D:\\815_CowDataChecking\\20221230\\20221230_E_cow\\20221230_152538_8796.mkv: 1088x1088 (no detections), 24.2ms\n",
      "video 1/1 (247/3933) D:\\815_CowDataChecking\\20221230\\20221230_E_cow\\20221230_152538_8796.mkv: 1088x1088 (no detections), 25.6ms\n",
      "video 1/1 (248/3933) D:\\815_CowDataChecking\\20221230\\20221230_E_cow\\20221230_152538_8796.mkv: 1088x1088 (no detections), 25.9ms\n",
      "video 1/1 (249/3933) D:\\815_CowDataChecking\\20221230\\20221230_E_cow\\20221230_152538_8796.mkv: 1088x1088 (no detections), 23.2ms\n",
      "video 1/1 (250/3933) D:\\815_CowDataChecking\\20221230\\20221230_E_cow\\20221230_152538_8796.mkv: 1088x1088 (no detections), 24.4ms\n",
      "video 1/1 (251/3933) D:\\815_CowDataChecking\\20221230\\20221230_E_cow\\20221230_152538_8796.mkv: 1088x1088 (no detections), 24.2ms\n",
      "video 1/1 (252/3933) D:\\815_CowDataChecking\\20221230\\20221230_E_cow\\20221230_152538_8796.mkv: 1088x1088 (no detections), 24.5ms\n",
      "video 1/1 (253/3933) D:\\815_CowDataChecking\\20221230\\20221230_E_cow\\20221230_152538_8796.mkv: 1088x1088 (no detections), 24.4ms\n",
      "video 1/1 (254/3933) D:\\815_CowDataChecking\\20221230\\20221230_E_cow\\20221230_152538_8796.mkv: 1088x1088 (no detections), 24.9ms\n",
      "video 1/1 (255/3933) D:\\815_CowDataChecking\\20221230\\20221230_E_cow\\20221230_152538_8796.mkv: 1088x1088 (no detections), 24.9ms\n",
      "video 1/1 (256/3933) D:\\815_CowDataChecking\\20221230\\20221230_E_cow\\20221230_152538_8796.mkv: 1088x1088 (no detections), 23.8ms\n",
      "video 1/1 (257/3933) D:\\815_CowDataChecking\\20221230\\20221230_E_cow\\20221230_152538_8796.mkv: 1088x1088 (no detections), 24.8ms\n",
      "video 1/1 (258/3933) D:\\815_CowDataChecking\\20221230\\20221230_E_cow\\20221230_152538_8796.mkv: 1088x1088 (no detections), 24.7ms\n",
      "video 1/1 (259/3933) D:\\815_CowDataChecking\\20221230\\20221230_E_cow\\20221230_152538_8796.mkv: 1088x1088 (no detections), 23.3ms\n",
      "video 1/1 (260/3933) D:\\815_CowDataChecking\\20221230\\20221230_E_cow\\20221230_152538_8796.mkv: 1088x1088 (no detections), 22.3ms\n",
      "video 1/1 (261/3933) D:\\815_CowDataChecking\\20221230\\20221230_E_cow\\20221230_152538_8796.mkv: 1088x1088 (no detections), 24.4ms\n",
      "video 1/1 (262/3933) D:\\815_CowDataChecking\\20221230\\20221230_E_cow\\20221230_152538_8796.mkv: 1088x1088 (no detections), 23.3ms\n",
      "video 1/1 (263/3933) D:\\815_CowDataChecking\\20221230\\20221230_E_cow\\20221230_152538_8796.mkv: 1088x1088 (no detections), 24.0ms\n",
      "video 1/1 (264/3933) D:\\815_CowDataChecking\\20221230\\20221230_E_cow\\20221230_152538_8796.mkv: 1088x1088 (no detections), 24.8ms\n",
      "video 1/1 (265/3933) D:\\815_CowDataChecking\\20221230\\20221230_E_cow\\20221230_152538_8796.mkv: 1088x1088 (no detections), 24.3ms\n",
      "video 1/1 (266/3933) D:\\815_CowDataChecking\\20221230\\20221230_E_cow\\20221230_152538_8796.mkv: 1088x1088 (no detections), 22.7ms\n",
      "video 1/1 (267/3933) D:\\815_CowDataChecking\\20221230\\20221230_E_cow\\20221230_152538_8796.mkv: 1088x1088 (no detections), 23.6ms\n",
      "video 1/1 (268/3933) D:\\815_CowDataChecking\\20221230\\20221230_E_cow\\20221230_152538_8796.mkv: 1088x1088 (no detections), 23.3ms\n",
      "video 1/1 (269/3933) D:\\815_CowDataChecking\\20221230\\20221230_E_cow\\20221230_152538_8796.mkv: 1088x1088 (no detections), 28.1ms\n",
      "video 1/1 (270/3933) D:\\815_CowDataChecking\\20221230\\20221230_E_cow\\20221230_152538_8796.mkv: 1088x1088 (no detections), 25.7ms\n",
      "video 1/1 (271/3933) D:\\815_CowDataChecking\\20221230\\20221230_E_cow\\20221230_152538_8796.mkv: 1088x1088 (no detections), 27.5ms\n",
      "video 1/1 (272/3933) D:\\815_CowDataChecking\\20221230\\20221230_E_cow\\20221230_152538_8796.mkv: 1088x1088 (no detections), 25.5ms\n",
      "video 1/1 (273/3933) D:\\815_CowDataChecking\\20221230\\20221230_E_cow\\20221230_152538_8796.mkv: 1088x1088 (no detections), 25.1ms\n",
      "video 1/1 (274/3933) D:\\815_CowDataChecking\\20221230\\20221230_E_cow\\20221230_152538_8796.mkv: 1088x1088 (no detections), 25.0ms\n",
      "video 1/1 (275/3933) D:\\815_CowDataChecking\\20221230\\20221230_E_cow\\20221230_152538_8796.mkv: 1088x1088 (no detections), 24.7ms\n",
      "video 1/1 (276/3933) D:\\815_CowDataChecking\\20221230\\20221230_E_cow\\20221230_152538_8796.mkv: 1088x1088 (no detections), 24.5ms\n",
      "video 1/1 (277/3933) D:\\815_CowDataChecking\\20221230\\20221230_E_cow\\20221230_152538_8796.mkv: 1088x1088 (no detections), 25.0ms\n",
      "video 1/1 (278/3933) D:\\815_CowDataChecking\\20221230\\20221230_E_cow\\20221230_152538_8796.mkv: 1088x1088 (no detections), 25.9ms\n",
      "video 1/1 (279/3933) D:\\815_CowDataChecking\\20221230\\20221230_E_cow\\20221230_152538_8796.mkv: 1088x1088 (no detections), 24.8ms\n",
      "video 1/1 (280/3933) D:\\815_CowDataChecking\\20221230\\20221230_E_cow\\20221230_152538_8796.mkv: 1088x1088 (no detections), 23.5ms\n",
      "video 1/1 (281/3933) D:\\815_CowDataChecking\\20221230\\20221230_E_cow\\20221230_152538_8796.mkv: 1088x1088 (no detections), 24.6ms\n",
      "video 1/1 (282/3933) D:\\815_CowDataChecking\\20221230\\20221230_E_cow\\20221230_152538_8796.mkv: 1088x1088 (no detections), 25.3ms\n",
      "video 1/1 (283/3933) D:\\815_CowDataChecking\\20221230\\20221230_E_cow\\20221230_152538_8796.mkv: 1088x1088 (no detections), 24.8ms\n",
      "video 1/1 (284/3933) D:\\815_CowDataChecking\\20221230\\20221230_E_cow\\20221230_152538_8796.mkv: 1088x1088 (no detections), 23.7ms\n",
      "video 1/1 (285/3933) D:\\815_CowDataChecking\\20221230\\20221230_E_cow\\20221230_152538_8796.mkv: 1088x1088 (no detections), 23.0ms\n",
      "video 1/1 (286/3933) D:\\815_CowDataChecking\\20221230\\20221230_E_cow\\20221230_152538_8796.mkv: 1088x1088 (no detections), 23.7ms\n",
      "video 1/1 (287/3933) D:\\815_CowDataChecking\\20221230\\20221230_E_cow\\20221230_152538_8796.mkv: 1088x1088 (no detections), 25.0ms\n",
      "video 1/1 (288/3933) D:\\815_CowDataChecking\\20221230\\20221230_E_cow\\20221230_152538_8796.mkv: 1088x1088 (no detections), 23.1ms\n",
      "video 1/1 (289/3933) D:\\815_CowDataChecking\\20221230\\20221230_E_cow\\20221230_152538_8796.mkv: 1088x1088 (no detections), 23.4ms\n",
      "video 1/1 (290/3933) D:\\815_CowDataChecking\\20221230\\20221230_E_cow\\20221230_152538_8796.mkv: 1088x1088 (no detections), 23.5ms\n",
      "video 1/1 (291/3933) D:\\815_CowDataChecking\\20221230\\20221230_E_cow\\20221230_152538_8796.mkv: 1088x1088 (no detections), 22.4ms\n",
      "video 1/1 (292/3933) D:\\815_CowDataChecking\\20221230\\20221230_E_cow\\20221230_152538_8796.mkv: 1088x1088 (no detections), 22.4ms\n",
      "video 1/1 (293/3933) D:\\815_CowDataChecking\\20221230\\20221230_E_cow\\20221230_152538_8796.mkv: 1088x1088 (no detections), 23.9ms\n",
      "video 1/1 (294/3933) D:\\815_CowDataChecking\\20221230\\20221230_E_cow\\20221230_152538_8796.mkv: 1088x1088 (no detections), 25.4ms\n",
      "video 1/1 (295/3933) D:\\815_CowDataChecking\\20221230\\20221230_E_cow\\20221230_152538_8796.mkv: 1088x1088 (no detections), 23.9ms\n",
      "video 1/1 (296/3933) D:\\815_CowDataChecking\\20221230\\20221230_E_cow\\20221230_152538_8796.mkv: 1088x1088 (no detections), 26.3ms\n",
      "video 1/1 (297/3933) D:\\815_CowDataChecking\\20221230\\20221230_E_cow\\20221230_152538_8796.mkv: 1088x1088 (no detections), 23.9ms\n",
      "video 1/1 (298/3933) D:\\815_CowDataChecking\\20221230\\20221230_E_cow\\20221230_152538_8796.mkv: 1088x1088 (no detections), 22.0ms\n",
      "video 1/1 (299/3933) D:\\815_CowDataChecking\\20221230\\20221230_E_cow\\20221230_152538_8796.mkv: 1088x1088 (no detections), 23.5ms\n",
      "video 1/1 (300/3933) D:\\815_CowDataChecking\\20221230\\20221230_E_cow\\20221230_152538_8796.mkv: 1088x1088 (no detections), 25.6ms\n",
      "video 1/1 (301/3933) D:\\815_CowDataChecking\\20221230\\20221230_E_cow\\20221230_152538_8796.mkv: 1088x1088 (no detections), 23.5ms\n",
      "video 1/1 (302/3933) D:\\815_CowDataChecking\\20221230\\20221230_E_cow\\20221230_152538_8796.mkv: 1088x1088 (no detections), 23.9ms\n",
      "video 1/1 (303/3933) D:\\815_CowDataChecking\\20221230\\20221230_E_cow\\20221230_152538_8796.mkv: 1088x1088 (no detections), 25.0ms\n",
      "video 1/1 (304/3933) D:\\815_CowDataChecking\\20221230\\20221230_E_cow\\20221230_152538_8796.mkv: 1088x1088 (no detections), 23.6ms\n",
      "video 1/1 (305/3933) D:\\815_CowDataChecking\\20221230\\20221230_E_cow\\20221230_152538_8796.mkv: 1088x1088 (no detections), 24.0ms\n",
      "video 1/1 (306/3933) D:\\815_CowDataChecking\\20221230\\20221230_E_cow\\20221230_152538_8796.mkv: 1088x1088 (no detections), 25.0ms\n",
      "video 1/1 (307/3933) D:\\815_CowDataChecking\\20221230\\20221230_E_cow\\20221230_152538_8796.mkv: 1088x1088 (no detections), 23.6ms\n",
      "video 1/1 (308/3933) D:\\815_CowDataChecking\\20221230\\20221230_E_cow\\20221230_152538_8796.mkv: 1088x1088 (no detections), 25.9ms\n",
      "video 1/1 (309/3933) D:\\815_CowDataChecking\\20221230\\20221230_E_cow\\20221230_152538_8796.mkv: 1088x1088 (no detections), 23.5ms\n",
      "video 1/1 (310/3933) D:\\815_CowDataChecking\\20221230\\20221230_E_cow\\20221230_152538_8796.mkv: 1088x1088 (no detections), 22.8ms\n",
      "video 1/1 (311/3933) D:\\815_CowDataChecking\\20221230\\20221230_E_cow\\20221230_152538_8796.mkv: 1088x1088 (no detections), 25.2ms\n",
      "video 1/1 (312/3933) D:\\815_CowDataChecking\\20221230\\20221230_E_cow\\20221230_152538_8796.mkv: 1088x1088 (no detections), 25.3ms\n",
      "video 1/1 (313/3933) D:\\815_CowDataChecking\\20221230\\20221230_E_cow\\20221230_152538_8796.mkv: 1088x1088 (no detections), 25.3ms\n",
      "video 1/1 (314/3933) D:\\815_CowDataChecking\\20221230\\20221230_E_cow\\20221230_152538_8796.mkv: 1088x1088 (no detections), 23.2ms\n",
      "video 1/1 (315/3933) D:\\815_CowDataChecking\\20221230\\20221230_E_cow\\20221230_152538_8796.mkv: 1088x1088 (no detections), 22.6ms\n",
      "video 1/1 (316/3933) D:\\815_CowDataChecking\\20221230\\20221230_E_cow\\20221230_152538_8796.mkv: 1088x1088 (no detections), 22.2ms\n",
      "video 1/1 (317/3933) D:\\815_CowDataChecking\\20221230\\20221230_E_cow\\20221230_152538_8796.mkv: 1088x1088 (no detections), 26.2ms\n",
      "video 1/1 (318/3933) D:\\815_CowDataChecking\\20221230\\20221230_E_cow\\20221230_152538_8796.mkv: 1088x1088 (no detections), 24.0ms\n",
      "video 1/1 (319/3933) D:\\815_CowDataChecking\\20221230\\20221230_E_cow\\20221230_152538_8796.mkv: 1088x1088 (no detections), 23.6ms\n",
      "video 1/1 (320/3933) D:\\815_CowDataChecking\\20221230\\20221230_E_cow\\20221230_152538_8796.mkv: 1088x1088 (no detections), 24.5ms\n",
      "video 1/1 (321/3933) D:\\815_CowDataChecking\\20221230\\20221230_E_cow\\20221230_152538_8796.mkv: 1088x1088 (no detections), 23.9ms\n",
      "video 1/1 (322/3933) D:\\815_CowDataChecking\\20221230\\20221230_E_cow\\20221230_152538_8796.mkv: 1088x1088 (no detections), 24.8ms\n",
      "video 1/1 (323/3933) D:\\815_CowDataChecking\\20221230\\20221230_E_cow\\20221230_152538_8796.mkv: 1088x1088 (no detections), 22.5ms\n",
      "video 1/1 (324/3933) D:\\815_CowDataChecking\\20221230\\20221230_E_cow\\20221230_152538_8796.mkv: 1088x1088 (no detections), 27.1ms\n",
      "video 1/1 (325/3933) D:\\815_CowDataChecking\\20221230\\20221230_E_cow\\20221230_152538_8796.mkv: 1088x1088 (no detections), 23.1ms\n",
      "video 1/1 (326/3933) D:\\815_CowDataChecking\\20221230\\20221230_E_cow\\20221230_152538_8796.mkv: 1088x1088 (no detections), 24.3ms\n",
      "video 1/1 (327/3933) D:\\815_CowDataChecking\\20221230\\20221230_E_cow\\20221230_152538_8796.mkv: 1088x1088 (no detections), 24.5ms\n",
      "video 1/1 (328/3933) D:\\815_CowDataChecking\\20221230\\20221230_E_cow\\20221230_152538_8796.mkv: 1088x1088 (no detections), 22.6ms\n",
      "video 1/1 (329/3933) D:\\815_CowDataChecking\\20221230\\20221230_E_cow\\20221230_152538_8796.mkv: 1088x1088 (no detections), 24.3ms\n",
      "video 1/1 (330/3933) D:\\815_CowDataChecking\\20221230\\20221230_E_cow\\20221230_152538_8796.mkv: 1088x1088 (no detections), 25.2ms\n",
      "video 1/1 (331/3933) D:\\815_CowDataChecking\\20221230\\20221230_E_cow\\20221230_152538_8796.mkv: 1088x1088 (no detections), 23.2ms\n",
      "video 1/1 (332/3933) D:\\815_CowDataChecking\\20221230\\20221230_E_cow\\20221230_152538_8796.mkv: 1088x1088 (no detections), 25.4ms\n",
      "video 1/1 (333/3933) D:\\815_CowDataChecking\\20221230\\20221230_E_cow\\20221230_152538_8796.mkv: 1088x1088 (no detections), 24.6ms\n",
      "video 1/1 (334/3933) D:\\815_CowDataChecking\\20221230\\20221230_E_cow\\20221230_152538_8796.mkv: 1088x1088 (no detections), 24.6ms\n",
      "video 1/1 (335/3933) D:\\815_CowDataChecking\\20221230\\20221230_E_cow\\20221230_152538_8796.mkv: 1088x1088 (no detections), 26.0ms\n",
      "video 1/1 (336/3933) D:\\815_CowDataChecking\\20221230\\20221230_E_cow\\20221230_152538_8796.mkv: 1088x1088 (no detections), 25.1ms\n",
      "video 1/1 (337/3933) D:\\815_CowDataChecking\\20221230\\20221230_E_cow\\20221230_152538_8796.mkv: 1088x1088 (no detections), 24.5ms\n",
      "video 1/1 (338/3933) D:\\815_CowDataChecking\\20221230\\20221230_E_cow\\20221230_152538_8796.mkv: 1088x1088 (no detections), 25.5ms\n",
      "video 1/1 (339/3933) D:\\815_CowDataChecking\\20221230\\20221230_E_cow\\20221230_152538_8796.mkv: 1088x1088 (no detections), 23.5ms\n",
      "video 1/1 (340/3933) D:\\815_CowDataChecking\\20221230\\20221230_E_cow\\20221230_152538_8796.mkv: 1088x1088 (no detections), 21.5ms\n",
      "video 1/1 (341/3933) D:\\815_CowDataChecking\\20221230\\20221230_E_cow\\20221230_152538_8796.mkv: 1088x1088 (no detections), 22.0ms\n",
      "video 1/1 (342/3933) D:\\815_CowDataChecking\\20221230\\20221230_E_cow\\20221230_152538_8796.mkv: 1088x1088 (no detections), 22.8ms\n",
      "video 1/1 (343/3933) D:\\815_CowDataChecking\\20221230\\20221230_E_cow\\20221230_152538_8796.mkv: 1088x1088 (no detections), 24.3ms\n",
      "video 1/1 (344/3933) D:\\815_CowDataChecking\\20221230\\20221230_E_cow\\20221230_152538_8796.mkv: 1088x1088 (no detections), 23.4ms\n",
      "video 1/1 (345/3933) D:\\815_CowDataChecking\\20221230\\20221230_E_cow\\20221230_152538_8796.mkv: 1088x1088 (no detections), 24.4ms\n",
      "video 1/1 (346/3933) D:\\815_CowDataChecking\\20221230\\20221230_E_cow\\20221230_152538_8796.mkv: 1088x1088 (no detections), 24.3ms\n",
      "video 1/1 (347/3933) D:\\815_CowDataChecking\\20221230\\20221230_E_cow\\20221230_152538_8796.mkv: 1088x1088 (no detections), 24.2ms\n",
      "video 1/1 (348/3933) D:\\815_CowDataChecking\\20221230\\20221230_E_cow\\20221230_152538_8796.mkv: 1088x1088 (no detections), 24.8ms\n",
      "video 1/1 (349/3933) D:\\815_CowDataChecking\\20221230\\20221230_E_cow\\20221230_152538_8796.mkv: 1088x1088 (no detections), 22.8ms\n",
      "video 1/1 (350/3933) D:\\815_CowDataChecking\\20221230\\20221230_E_cow\\20221230_152538_8796.mkv: 1088x1088 (no detections), 21.8ms\n",
      "video 1/1 (351/3933) D:\\815_CowDataChecking\\20221230\\20221230_E_cow\\20221230_152538_8796.mkv: 1088x1088 (no detections), 25.5ms\n",
      "video 1/1 (352/3933) D:\\815_CowDataChecking\\20221230\\20221230_E_cow\\20221230_152538_8796.mkv: 1088x1088 (no detections), 24.7ms\n",
      "video 1/1 (353/3933) D:\\815_CowDataChecking\\20221230\\20221230_E_cow\\20221230_152538_8796.mkv: 1088x1088 (no detections), 23.0ms\n",
      "video 1/1 (354/3933) D:\\815_CowDataChecking\\20221230\\20221230_E_cow\\20221230_152538_8796.mkv: 1088x1088 (no detections), 24.1ms\n",
      "video 1/1 (355/3933) D:\\815_CowDataChecking\\20221230\\20221230_E_cow\\20221230_152538_8796.mkv: 1088x1088 (no detections), 23.2ms\n",
      "video 1/1 (356/3933) D:\\815_CowDataChecking\\20221230\\20221230_E_cow\\20221230_152538_8796.mkv: 1088x1088 (no detections), 22.5ms\n",
      "video 1/1 (357/3933) D:\\815_CowDataChecking\\20221230\\20221230_E_cow\\20221230_152538_8796.mkv: 1088x1088 (no detections), 23.1ms\n",
      "video 1/1 (358/3933) D:\\815_CowDataChecking\\20221230\\20221230_E_cow\\20221230_152538_8796.mkv: 1088x1088 (no detections), 24.5ms\n",
      "video 1/1 (359/3933) D:\\815_CowDataChecking\\20221230\\20221230_E_cow\\20221230_152538_8796.mkv: 1088x1088 (no detections), 22.6ms\n",
      "video 1/1 (360/3933) D:\\815_CowDataChecking\\20221230\\20221230_E_cow\\20221230_152538_8796.mkv: 1088x1088 (no detections), 22.0ms\n",
      "video 1/1 (361/3933) D:\\815_CowDataChecking\\20221230\\20221230_E_cow\\20221230_152538_8796.mkv: 1088x1088 (no detections), 22.0ms\n",
      "video 1/1 (362/3933) D:\\815_CowDataChecking\\20221230\\20221230_E_cow\\20221230_152538_8796.mkv: 1088x1088 (no detections), 23.7ms\n",
      "video 1/1 (363/3933) D:\\815_CowDataChecking\\20221230\\20221230_E_cow\\20221230_152538_8796.mkv: 1088x1088 (no detections), 26.0ms\n",
      "video 1/1 (364/3933) D:\\815_CowDataChecking\\20221230\\20221230_E_cow\\20221230_152538_8796.mkv: 1088x1088 (no detections), 24.2ms\n",
      "video 1/1 (365/3933) D:\\815_CowDataChecking\\20221230\\20221230_E_cow\\20221230_152538_8796.mkv: 1088x1088 (no detections), 23.9ms\n",
      "video 1/1 (366/3933) D:\\815_CowDataChecking\\20221230\\20221230_E_cow\\20221230_152538_8796.mkv: 1088x1088 (no detections), 23.3ms\n",
      "video 1/1 (367/3933) D:\\815_CowDataChecking\\20221230\\20221230_E_cow\\20221230_152538_8796.mkv: 1088x1088 (no detections), 23.7ms\n",
      "video 1/1 (368/3933) D:\\815_CowDataChecking\\20221230\\20221230_E_cow\\20221230_152538_8796.mkv: 1088x1088 (no detections), 22.8ms\n",
      "video 1/1 (369/3933) D:\\815_CowDataChecking\\20221230\\20221230_E_cow\\20221230_152538_8796.mkv: 1088x1088 (no detections), 23.9ms\n",
      "video 1/1 (370/3933) D:\\815_CowDataChecking\\20221230\\20221230_E_cow\\20221230_152538_8796.mkv: 1088x1088 (no detections), 24.0ms\n",
      "video 1/1 (371/3933) D:\\815_CowDataChecking\\20221230\\20221230_E_cow\\20221230_152538_8796.mkv: 1088x1088 (no detections), 22.7ms\n",
      "video 1/1 (372/3933) D:\\815_CowDataChecking\\20221230\\20221230_E_cow\\20221230_152538_8796.mkv: 1088x1088 (no detections), 23.0ms\n",
      "video 1/1 (373/3933) D:\\815_CowDataChecking\\20221230\\20221230_E_cow\\20221230_152538_8796.mkv: 1088x1088 (no detections), 24.0ms\n",
      "video 1/1 (374/3933) D:\\815_CowDataChecking\\20221230\\20221230_E_cow\\20221230_152538_8796.mkv: 1088x1088 (no detections), 24.1ms\n",
      "video 1/1 (375/3933) D:\\815_CowDataChecking\\20221230\\20221230_E_cow\\20221230_152538_8796.mkv: 1088x1088 (no detections), 24.6ms\n",
      "video 1/1 (376/3933) D:\\815_CowDataChecking\\20221230\\20221230_E_cow\\20221230_152538_8796.mkv: 1088x1088 (no detections), 23.0ms\n",
      "video 1/1 (377/3933) D:\\815_CowDataChecking\\20221230\\20221230_E_cow\\20221230_152538_8796.mkv: 1088x1088 (no detections), 23.4ms\n",
      "video 1/1 (378/3933) D:\\815_CowDataChecking\\20221230\\20221230_E_cow\\20221230_152538_8796.mkv: 1088x1088 (no detections), 22.2ms\n",
      "video 1/1 (379/3933) D:\\815_CowDataChecking\\20221230\\20221230_E_cow\\20221230_152538_8796.mkv: 1088x1088 (no detections), 22.7ms\n",
      "video 1/1 (380/3933) D:\\815_CowDataChecking\\20221230\\20221230_E_cow\\20221230_152538_8796.mkv: 1088x1088 (no detections), 23.3ms\n",
      "video 1/1 (381/3933) D:\\815_CowDataChecking\\20221230\\20221230_E_cow\\20221230_152538_8796.mkv: 1088x1088 (no detections), 23.4ms\n",
      "video 1/1 (382/3933) D:\\815_CowDataChecking\\20221230\\20221230_E_cow\\20221230_152538_8796.mkv: 1088x1088 (no detections), 24.5ms\n",
      "video 1/1 (383/3933) D:\\815_CowDataChecking\\20221230\\20221230_E_cow\\20221230_152538_8796.mkv: 1088x1088 (no detections), 24.1ms\n",
      "video 1/1 (384/3933) D:\\815_CowDataChecking\\20221230\\20221230_E_cow\\20221230_152538_8796.mkv: 1088x1088 (no detections), 23.9ms\n",
      "video 1/1 (385/3933) D:\\815_CowDataChecking\\20221230\\20221230_E_cow\\20221230_152538_8796.mkv: 1088x1088 (no detections), 22.6ms\n",
      "video 1/1 (386/3933) D:\\815_CowDataChecking\\20221230\\20221230_E_cow\\20221230_152538_8796.mkv: 1088x1088 (no detections), 26.3ms\n",
      "video 1/1 (387/3933) D:\\815_CowDataChecking\\20221230\\20221230_E_cow\\20221230_152538_8796.mkv: 1088x1088 (no detections), 24.2ms\n",
      "video 1/1 (388/3933) D:\\815_CowDataChecking\\20221230\\20221230_E_cow\\20221230_152538_8796.mkv: 1088x1088 (no detections), 23.0ms\n",
      "video 1/1 (389/3933) D:\\815_CowDataChecking\\20221230\\20221230_E_cow\\20221230_152538_8796.mkv: 1088x1088 (no detections), 24.2ms\n",
      "video 1/1 (390/3933) D:\\815_CowDataChecking\\20221230\\20221230_E_cow\\20221230_152538_8796.mkv: 1088x1088 (no detections), 24.4ms\n",
      "video 1/1 (391/3933) D:\\815_CowDataChecking\\20221230\\20221230_E_cow\\20221230_152538_8796.mkv: 1088x1088 (no detections), 23.3ms\n",
      "video 1/1 (392/3933) D:\\815_CowDataChecking\\20221230\\20221230_E_cow\\20221230_152538_8796.mkv: 1088x1088 (no detections), 25.0ms\n",
      "video 1/1 (393/3933) D:\\815_CowDataChecking\\20221230\\20221230_E_cow\\20221230_152538_8796.mkv: 1088x1088 (no detections), 25.1ms\n",
      "video 1/1 (394/3933) D:\\815_CowDataChecking\\20221230\\20221230_E_cow\\20221230_152538_8796.mkv: 1088x1088 (no detections), 25.6ms\n",
      "video 1/1 (395/3933) D:\\815_CowDataChecking\\20221230\\20221230_E_cow\\20221230_152538_8796.mkv: 1088x1088 (no detections), 23.5ms\n",
      "video 1/1 (396/3933) D:\\815_CowDataChecking\\20221230\\20221230_E_cow\\20221230_152538_8796.mkv: 1088x1088 (no detections), 26.0ms\n",
      "video 1/1 (397/3933) D:\\815_CowDataChecking\\20221230\\20221230_E_cow\\20221230_152538_8796.mkv: 1088x1088 (no detections), 25.0ms\n",
      "video 1/1 (398/3933) D:\\815_CowDataChecking\\20221230\\20221230_E_cow\\20221230_152538_8796.mkv: 1088x1088 (no detections), 23.8ms\n",
      "video 1/1 (399/3933) D:\\815_CowDataChecking\\20221230\\20221230_E_cow\\20221230_152538_8796.mkv: 1088x1088 (no detections), 25.0ms\n",
      "video 1/1 (400/3933) D:\\815_CowDataChecking\\20221230\\20221230_E_cow\\20221230_152538_8796.mkv: 1088x1088 (no detections), 24.5ms\n",
      "video 1/1 (401/3933) D:\\815_CowDataChecking\\20221230\\20221230_E_cow\\20221230_152538_8796.mkv: 1088x1088 (no detections), 24.6ms\n",
      "video 1/1 (402/3933) D:\\815_CowDataChecking\\20221230\\20221230_E_cow\\20221230_152538_8796.mkv: 1088x1088 (no detections), 23.8ms\n",
      "video 1/1 (403/3933) D:\\815_CowDataChecking\\20221230\\20221230_E_cow\\20221230_152538_8796.mkv: 1088x1088 (no detections), 25.1ms\n",
      "video 1/1 (404/3933) D:\\815_CowDataChecking\\20221230\\20221230_E_cow\\20221230_152538_8796.mkv: 1088x1088 (no detections), 24.4ms\n",
      "video 1/1 (405/3933) D:\\815_CowDataChecking\\20221230\\20221230_E_cow\\20221230_152538_8796.mkv: 1088x1088 (no detections), 23.8ms\n",
      "video 1/1 (406/3933) D:\\815_CowDataChecking\\20221230\\20221230_E_cow\\20221230_152538_8796.mkv: 1088x1088 (no detections), 23.5ms\n",
      "video 1/1 (407/3933) D:\\815_CowDataChecking\\20221230\\20221230_E_cow\\20221230_152538_8796.mkv: 1088x1088 (no detections), 23.5ms\n",
      "video 1/1 (408/3933) D:\\815_CowDataChecking\\20221230\\20221230_E_cow\\20221230_152538_8796.mkv: 1088x1088 (no detections), 23.1ms\n",
      "video 1/1 (409/3933) D:\\815_CowDataChecking\\20221230\\20221230_E_cow\\20221230_152538_8796.mkv: 1088x1088 (no detections), 23.3ms\n",
      "video 1/1 (410/3933) D:\\815_CowDataChecking\\20221230\\20221230_E_cow\\20221230_152538_8796.mkv: 1088x1088 (no detections), 25.1ms\n",
      "video 1/1 (411/3933) D:\\815_CowDataChecking\\20221230\\20221230_E_cow\\20221230_152538_8796.mkv: 1088x1088 (no detections), 23.3ms\n",
      "video 1/1 (412/3933) D:\\815_CowDataChecking\\20221230\\20221230_E_cow\\20221230_152538_8796.mkv: 1088x1088 (no detections), 25.5ms\n",
      "video 1/1 (413/3933) D:\\815_CowDataChecking\\20221230\\20221230_E_cow\\20221230_152538_8796.mkv: 1088x1088 (no detections), 25.3ms\n",
      "video 1/1 (414/3933) D:\\815_CowDataChecking\\20221230\\20221230_E_cow\\20221230_152538_8796.mkv: 1088x1088 (no detections), 26.3ms\n",
      "video 1/1 (415/3933) D:\\815_CowDataChecking\\20221230\\20221230_E_cow\\20221230_152538_8796.mkv: 1088x1088 (no detections), 23.4ms\n",
      "video 1/1 (416/3933) D:\\815_CowDataChecking\\20221230\\20221230_E_cow\\20221230_152538_8796.mkv: 1088x1088 (no detections), 24.0ms\n",
      "video 1/1 (417/3933) D:\\815_CowDataChecking\\20221230\\20221230_E_cow\\20221230_152538_8796.mkv: 1088x1088 (no detections), 25.1ms\n",
      "video 1/1 (418/3933) D:\\815_CowDataChecking\\20221230\\20221230_E_cow\\20221230_152538_8796.mkv: 1088x1088 (no detections), 25.7ms\n",
      "video 1/1 (419/3933) D:\\815_CowDataChecking\\20221230\\20221230_E_cow\\20221230_152538_8796.mkv: 1088x1088 (no detections), 23.3ms\n",
      "video 1/1 (420/3933) D:\\815_CowDataChecking\\20221230\\20221230_E_cow\\20221230_152538_8796.mkv: 1088x1088 (no detections), 25.6ms\n",
      "video 1/1 (421/3933) D:\\815_CowDataChecking\\20221230\\20221230_E_cow\\20221230_152538_8796.mkv: 1088x1088 (no detections), 23.6ms\n",
      "video 1/1 (422/3933) D:\\815_CowDataChecking\\20221230\\20221230_E_cow\\20221230_152538_8796.mkv: 1088x1088 (no detections), 24.3ms\n",
      "video 1/1 (423/3933) D:\\815_CowDataChecking\\20221230\\20221230_E_cow\\20221230_152538_8796.mkv: 1088x1088 (no detections), 25.0ms\n",
      "video 1/1 (424/3933) D:\\815_CowDataChecking\\20221230\\20221230_E_cow\\20221230_152538_8796.mkv: 1088x1088 (no detections), 24.4ms\n",
      "video 1/1 (425/3933) D:\\815_CowDataChecking\\20221230\\20221230_E_cow\\20221230_152538_8796.mkv: 1088x1088 (no detections), 22.5ms\n",
      "video 1/1 (426/3933) D:\\815_CowDataChecking\\20221230\\20221230_E_cow\\20221230_152538_8796.mkv: 1088x1088 (no detections), 24.6ms\n",
      "video 1/1 (427/3933) D:\\815_CowDataChecking\\20221230\\20221230_E_cow\\20221230_152538_8796.mkv: 1088x1088 (no detections), 25.2ms\n",
      "video 1/1 (428/3933) D:\\815_CowDataChecking\\20221230\\20221230_E_cow\\20221230_152538_8796.mkv: 1088x1088 (no detections), 24.7ms\n",
      "video 1/1 (429/3933) D:\\815_CowDataChecking\\20221230\\20221230_E_cow\\20221230_152538_8796.mkv: 1088x1088 (no detections), 23.3ms\n",
      "video 1/1 (430/3933) D:\\815_CowDataChecking\\20221230\\20221230_E_cow\\20221230_152538_8796.mkv: 1088x1088 (no detections), 23.2ms\n",
      "video 1/1 (431/3933) D:\\815_CowDataChecking\\20221230\\20221230_E_cow\\20221230_152538_8796.mkv: 1088x1088 (no detections), 23.9ms\n",
      "video 1/1 (432/3933) D:\\815_CowDataChecking\\20221230\\20221230_E_cow\\20221230_152538_8796.mkv: 1088x1088 (no detections), 23.2ms\n",
      "video 1/1 (433/3933) D:\\815_CowDataChecking\\20221230\\20221230_E_cow\\20221230_152538_8796.mkv: 1088x1088 (no detections), 24.9ms\n",
      "video 1/1 (434/3933) D:\\815_CowDataChecking\\20221230\\20221230_E_cow\\20221230_152538_8796.mkv: 1088x1088 (no detections), 23.3ms\n",
      "video 1/1 (435/3933) D:\\815_CowDataChecking\\20221230\\20221230_E_cow\\20221230_152538_8796.mkv: 1088x1088 (no detections), 23.3ms\n",
      "video 1/1 (436/3933) D:\\815_CowDataChecking\\20221230\\20221230_E_cow\\20221230_152538_8796.mkv: 1088x1088 (no detections), 24.5ms\n",
      "video 1/1 (437/3933) D:\\815_CowDataChecking\\20221230\\20221230_E_cow\\20221230_152538_8796.mkv: 1088x1088 (no detections), 24.4ms\n",
      "video 1/1 (438/3933) D:\\815_CowDataChecking\\20221230\\20221230_E_cow\\20221230_152538_8796.mkv: 1088x1088 (no detections), 25.0ms\n",
      "video 1/1 (439/3933) D:\\815_CowDataChecking\\20221230\\20221230_E_cow\\20221230_152538_8796.mkv: 1088x1088 (no detections), 24.5ms\n",
      "video 1/1 (440/3933) D:\\815_CowDataChecking\\20221230\\20221230_E_cow\\20221230_152538_8796.mkv: 1088x1088 (no detections), 22.6ms\n",
      "video 1/1 (441/3933) D:\\815_CowDataChecking\\20221230\\20221230_E_cow\\20221230_152538_8796.mkv: 1088x1088 (no detections), 22.6ms\n",
      "video 1/1 (442/3933) D:\\815_CowDataChecking\\20221230\\20221230_E_cow\\20221230_152538_8796.mkv: 1088x1088 (no detections), 24.3ms\n",
      "video 1/1 (443/3933) D:\\815_CowDataChecking\\20221230\\20221230_E_cow\\20221230_152538_8796.mkv: 1088x1088 (no detections), 24.5ms\n",
      "video 1/1 (444/3933) D:\\815_CowDataChecking\\20221230\\20221230_E_cow\\20221230_152538_8796.mkv: 1088x1088 (no detections), 24.2ms\n",
      "video 1/1 (445/3933) D:\\815_CowDataChecking\\20221230\\20221230_E_cow\\20221230_152538_8796.mkv: 1088x1088 (no detections), 24.9ms\n",
      "video 1/1 (446/3933) D:\\815_CowDataChecking\\20221230\\20221230_E_cow\\20221230_152538_8796.mkv: 1088x1088 (no detections), 25.1ms\n",
      "video 1/1 (447/3933) D:\\815_CowDataChecking\\20221230\\20221230_E_cow\\20221230_152538_8796.mkv: 1088x1088 (no detections), 24.9ms\n",
      "video 1/1 (448/3933) D:\\815_CowDataChecking\\20221230\\20221230_E_cow\\20221230_152538_8796.mkv: 1088x1088 (no detections), 23.8ms\n",
      "video 1/1 (449/3933) D:\\815_CowDataChecking\\20221230\\20221230_E_cow\\20221230_152538_8796.mkv: 1088x1088 (no detections), 23.7ms\n",
      "video 1/1 (450/3933) D:\\815_CowDataChecking\\20221230\\20221230_E_cow\\20221230_152538_8796.mkv: 1088x1088 (no detections), 24.6ms\n",
      "video 1/1 (451/3933) D:\\815_CowDataChecking\\20221230\\20221230_E_cow\\20221230_152538_8796.mkv: 1088x1088 (no detections), 22.4ms\n",
      "video 1/1 (452/3933) D:\\815_CowDataChecking\\20221230\\20221230_E_cow\\20221230_152538_8796.mkv: 1088x1088 (no detections), 23.8ms\n",
      "video 1/1 (453/3933) D:\\815_CowDataChecking\\20221230\\20221230_E_cow\\20221230_152538_8796.mkv: 1088x1088 (no detections), 24.2ms\n",
      "video 1/1 (454/3933) D:\\815_CowDataChecking\\20221230\\20221230_E_cow\\20221230_152538_8796.mkv: 1088x1088 (no detections), 26.2ms\n",
      "video 1/1 (455/3933) D:\\815_CowDataChecking\\20221230\\20221230_E_cow\\20221230_152538_8796.mkv: 1088x1088 (no detections), 24.7ms\n",
      "video 1/1 (456/3933) D:\\815_CowDataChecking\\20221230\\20221230_E_cow\\20221230_152538_8796.mkv: 1088x1088 (no detections), 23.0ms\n",
      "video 1/1 (457/3933) D:\\815_CowDataChecking\\20221230\\20221230_E_cow\\20221230_152538_8796.mkv: 1088x1088 (no detections), 23.5ms\n",
      "video 1/1 (458/3933) D:\\815_CowDataChecking\\20221230\\20221230_E_cow\\20221230_152538_8796.mkv: 1088x1088 (no detections), 22.9ms\n",
      "video 1/1 (459/3933) D:\\815_CowDataChecking\\20221230\\20221230_E_cow\\20221230_152538_8796.mkv: 1088x1088 (no detections), 24.3ms\n",
      "video 1/1 (460/3933) D:\\815_CowDataChecking\\20221230\\20221230_E_cow\\20221230_152538_8796.mkv: 1088x1088 (no detections), 23.2ms\n",
      "video 1/1 (461/3933) D:\\815_CowDataChecking\\20221230\\20221230_E_cow\\20221230_152538_8796.mkv: 1088x1088 (no detections), 23.0ms\n",
      "video 1/1 (462/3933) D:\\815_CowDataChecking\\20221230\\20221230_E_cow\\20221230_152538_8796.mkv: 1088x1088 (no detections), 25.0ms\n",
      "video 1/1 (463/3933) D:\\815_CowDataChecking\\20221230\\20221230_E_cow\\20221230_152538_8796.mkv: 1088x1088 (no detections), 24.2ms\n",
      "video 1/1 (464/3933) D:\\815_CowDataChecking\\20221230\\20221230_E_cow\\20221230_152538_8796.mkv: 1088x1088 (no detections), 23.9ms\n",
      "video 1/1 (465/3933) D:\\815_CowDataChecking\\20221230\\20221230_E_cow\\20221230_152538_8796.mkv: 1088x1088 (no detections), 22.8ms\n",
      "video 1/1 (466/3933) D:\\815_CowDataChecking\\20221230\\20221230_E_cow\\20221230_152538_8796.mkv: 1088x1088 (no detections), 23.9ms\n",
      "video 1/1 (467/3933) D:\\815_CowDataChecking\\20221230\\20221230_E_cow\\20221230_152538_8796.mkv: 1088x1088 (no detections), 23.5ms\n",
      "video 1/1 (468/3933) D:\\815_CowDataChecking\\20221230\\20221230_E_cow\\20221230_152538_8796.mkv: 1088x1088 (no detections), 24.4ms\n",
      "video 1/1 (469/3933) D:\\815_CowDataChecking\\20221230\\20221230_E_cow\\20221230_152538_8796.mkv: 1088x1088 (no detections), 23.0ms\n",
      "video 1/1 (470/3933) D:\\815_CowDataChecking\\20221230\\20221230_E_cow\\20221230_152538_8796.mkv: 1088x1088 (no detections), 21.4ms\n",
      "video 1/1 (471/3933) D:\\815_CowDataChecking\\20221230\\20221230_E_cow\\20221230_152538_8796.mkv: 1088x1088 (no detections), 23.1ms\n",
      "video 1/1 (472/3933) D:\\815_CowDataChecking\\20221230\\20221230_E_cow\\20221230_152538_8796.mkv: 1088x1088 (no detections), 25.5ms\n",
      "video 1/1 (473/3933) D:\\815_CowDataChecking\\20221230\\20221230_E_cow\\20221230_152538_8796.mkv: 1088x1088 (no detections), 24.5ms\n",
      "video 1/1 (474/3933) D:\\815_CowDataChecking\\20221230\\20221230_E_cow\\20221230_152538_8796.mkv: 1088x1088 (no detections), 25.3ms\n",
      "video 1/1 (475/3933) D:\\815_CowDataChecking\\20221230\\20221230_E_cow\\20221230_152538_8796.mkv: 1088x1088 (no detections), 23.2ms\n",
      "video 1/1 (476/3933) D:\\815_CowDataChecking\\20221230\\20221230_E_cow\\20221230_152538_8796.mkv: 1088x1088 (no detections), 25.3ms\n",
      "video 1/1 (477/3933) D:\\815_CowDataChecking\\20221230\\20221230_E_cow\\20221230_152538_8796.mkv: 1088x1088 (no detections), 23.6ms\n",
      "video 1/1 (478/3933) D:\\815_CowDataChecking\\20221230\\20221230_E_cow\\20221230_152538_8796.mkv: 1088x1088 (no detections), 25.1ms\n",
      "video 1/1 (479/3933) D:\\815_CowDataChecking\\20221230\\20221230_E_cow\\20221230_152538_8796.mkv: 1088x1088 (no detections), 25.3ms\n",
      "video 1/1 (480/3933) D:\\815_CowDataChecking\\20221230\\20221230_E_cow\\20221230_152538_8796.mkv: 1088x1088 (no detections), 25.2ms\n",
      "video 1/1 (481/3933) D:\\815_CowDataChecking\\20221230\\20221230_E_cow\\20221230_152538_8796.mkv: 1088x1088 (no detections), 27.2ms\n",
      "video 1/1 (482/3933) D:\\815_CowDataChecking\\20221230\\20221230_E_cow\\20221230_152538_8796.mkv: 1088x1088 (no detections), 23.4ms\n",
      "video 1/1 (483/3933) D:\\815_CowDataChecking\\20221230\\20221230_E_cow\\20221230_152538_8796.mkv: 1088x1088 (no detections), 25.0ms\n",
      "video 1/1 (484/3933) D:\\815_CowDataChecking\\20221230\\20221230_E_cow\\20221230_152538_8796.mkv: 1088x1088 (no detections), 22.8ms\n",
      "video 1/1 (485/3933) D:\\815_CowDataChecking\\20221230\\20221230_E_cow\\20221230_152538_8796.mkv: 1088x1088 (no detections), 24.9ms\n",
      "video 1/1 (486/3933) D:\\815_CowDataChecking\\20221230\\20221230_E_cow\\20221230_152538_8796.mkv: 1088x1088 (no detections), 24.5ms\n",
      "video 1/1 (487/3933) D:\\815_CowDataChecking\\20221230\\20221230_E_cow\\20221230_152538_8796.mkv: 1088x1088 (no detections), 23.5ms\n",
      "video 1/1 (488/3933) D:\\815_CowDataChecking\\20221230\\20221230_E_cow\\20221230_152538_8796.mkv: 1088x1088 (no detections), 23.7ms\n",
      "video 1/1 (489/3933) D:\\815_CowDataChecking\\20221230\\20221230_E_cow\\20221230_152538_8796.mkv: 1088x1088 (no detections), 22.8ms\n",
      "video 1/1 (490/3933) D:\\815_CowDataChecking\\20221230\\20221230_E_cow\\20221230_152538_8796.mkv: 1088x1088 (no detections), 25.4ms\n",
      "video 1/1 (491/3933) D:\\815_CowDataChecking\\20221230\\20221230_E_cow\\20221230_152538_8796.mkv: 1088x1088 (no detections), 24.9ms\n",
      "video 1/1 (492/3933) D:\\815_CowDataChecking\\20221230\\20221230_E_cow\\20221230_152538_8796.mkv: 1088x1088 (no detections), 24.6ms\n",
      "video 1/1 (493/3933) D:\\815_CowDataChecking\\20221230\\20221230_E_cow\\20221230_152538_8796.mkv: 1088x1088 (no detections), 23.2ms\n",
      "video 1/1 (494/3933) D:\\815_CowDataChecking\\20221230\\20221230_E_cow\\20221230_152538_8796.mkv: 1088x1088 (no detections), 25.3ms\n",
      "video 1/1 (495/3933) D:\\815_CowDataChecking\\20221230\\20221230_E_cow\\20221230_152538_8796.mkv: 1088x1088 (no detections), 24.3ms\n",
      "video 1/1 (496/3933) D:\\815_CowDataChecking\\20221230\\20221230_E_cow\\20221230_152538_8796.mkv: 1088x1088 (no detections), 23.1ms\n",
      "video 1/1 (497/3933) D:\\815_CowDataChecking\\20221230\\20221230_E_cow\\20221230_152538_8796.mkv: 1088x1088 (no detections), 23.3ms\n",
      "video 1/1 (498/3933) D:\\815_CowDataChecking\\20221230\\20221230_E_cow\\20221230_152538_8796.mkv: 1088x1088 (no detections), 24.6ms\n",
      "video 1/1 (499/3933) D:\\815_CowDataChecking\\20221230\\20221230_E_cow\\20221230_152538_8796.mkv: 1088x1088 (no detections), 23.6ms\n",
      "video 1/1 (500/3933) D:\\815_CowDataChecking\\20221230\\20221230_E_cow\\20221230_152538_8796.mkv: 1088x1088 (no detections), 24.4ms\n",
      "video 1/1 (501/3933) D:\\815_CowDataChecking\\20221230\\20221230_E_cow\\20221230_152538_8796.mkv: 1088x1088 (no detections), 22.4ms\n",
      "video 1/1 (502/3933) D:\\815_CowDataChecking\\20221230\\20221230_E_cow\\20221230_152538_8796.mkv: 1088x1088 (no detections), 25.4ms\n",
      "video 1/1 (503/3933) D:\\815_CowDataChecking\\20221230\\20221230_E_cow\\20221230_152538_8796.mkv: 1088x1088 (no detections), 26.1ms\n",
      "video 1/1 (504/3933) D:\\815_CowDataChecking\\20221230\\20221230_E_cow\\20221230_152538_8796.mkv: 1088x1088 (no detections), 24.2ms\n",
      "video 1/1 (505/3933) D:\\815_CowDataChecking\\20221230\\20221230_E_cow\\20221230_152538_8796.mkv: 1088x1088 (no detections), 24.4ms\n",
      "video 1/1 (506/3933) D:\\815_CowDataChecking\\20221230\\20221230_E_cow\\20221230_152538_8796.mkv: 1088x1088 (no detections), 23.6ms\n",
      "video 1/1 (507/3933) D:\\815_CowDataChecking\\20221230\\20221230_E_cow\\20221230_152538_8796.mkv: 1088x1088 (no detections), 24.0ms\n",
      "video 1/1 (508/3933) D:\\815_CowDataChecking\\20221230\\20221230_E_cow\\20221230_152538_8796.mkv: 1088x1088 (no detections), 24.2ms\n",
      "video 1/1 (509/3933) D:\\815_CowDataChecking\\20221230\\20221230_E_cow\\20221230_152538_8796.mkv: 1088x1088 (no detections), 22.8ms\n",
      "video 1/1 (510/3933) D:\\815_CowDataChecking\\20221230\\20221230_E_cow\\20221230_152538_8796.mkv: 1088x1088 (no detections), 25.2ms\n",
      "video 1/1 (511/3933) D:\\815_CowDataChecking\\20221230\\20221230_E_cow\\20221230_152538_8796.mkv: 1088x1088 (no detections), 22.9ms\n",
      "video 1/1 (512/3933) D:\\815_CowDataChecking\\20221230\\20221230_E_cow\\20221230_152538_8796.mkv: 1088x1088 (no detections), 25.3ms\n",
      "video 1/1 (513/3933) D:\\815_CowDataChecking\\20221230\\20221230_E_cow\\20221230_152538_8796.mkv: 1088x1088 (no detections), 24.3ms\n",
      "video 1/1 (514/3933) D:\\815_CowDataChecking\\20221230\\20221230_E_cow\\20221230_152538_8796.mkv: 1088x1088 (no detections), 23.3ms\n",
      "video 1/1 (515/3933) D:\\815_CowDataChecking\\20221230\\20221230_E_cow\\20221230_152538_8796.mkv: 1088x1088 (no detections), 21.5ms\n",
      "video 1/1 (516/3933) D:\\815_CowDataChecking\\20221230\\20221230_E_cow\\20221230_152538_8796.mkv: 1088x1088 (no detections), 22.8ms\n",
      "video 1/1 (517/3933) D:\\815_CowDataChecking\\20221230\\20221230_E_cow\\20221230_152538_8796.mkv: 1088x1088 (no detections), 22.8ms\n",
      "video 1/1 (518/3933) D:\\815_CowDataChecking\\20221230\\20221230_E_cow\\20221230_152538_8796.mkv: 1088x1088 (no detections), 23.8ms\n",
      "video 1/1 (519/3933) D:\\815_CowDataChecking\\20221230\\20221230_E_cow\\20221230_152538_8796.mkv: 1088x1088 (no detections), 24.4ms\n",
      "video 1/1 (520/3933) D:\\815_CowDataChecking\\20221230\\20221230_E_cow\\20221230_152538_8796.mkv: 1088x1088 (no detections), 23.1ms\n",
      "video 1/1 (521/3933) D:\\815_CowDataChecking\\20221230\\20221230_E_cow\\20221230_152538_8796.mkv: 1088x1088 (no detections), 24.6ms\n",
      "video 1/1 (522/3933) D:\\815_CowDataChecking\\20221230\\20221230_E_cow\\20221230_152538_8796.mkv: 1088x1088 (no detections), 23.8ms\n",
      "video 1/1 (523/3933) D:\\815_CowDataChecking\\20221230\\20221230_E_cow\\20221230_152538_8796.mkv: 1088x1088 (no detections), 24.1ms\n",
      "video 1/1 (524/3933) D:\\815_CowDataChecking\\20221230\\20221230_E_cow\\20221230_152538_8796.mkv: 1088x1088 (no detections), 24.2ms\n",
      "video 1/1 (525/3933) D:\\815_CowDataChecking\\20221230\\20221230_E_cow\\20221230_152538_8796.mkv: 1088x1088 (no detections), 23.9ms\n",
      "video 1/1 (526/3933) D:\\815_CowDataChecking\\20221230\\20221230_E_cow\\20221230_152538_8796.mkv: 1088x1088 (no detections), 24.3ms\n",
      "video 1/1 (527/3933) D:\\815_CowDataChecking\\20221230\\20221230_E_cow\\20221230_152538_8796.mkv: 1088x1088 (no detections), 24.5ms\n",
      "video 1/1 (528/3933) D:\\815_CowDataChecking\\20221230\\20221230_E_cow\\20221230_152538_8796.mkv: 1088x1088 (no detections), 24.1ms\n",
      "video 1/1 (529/3933) D:\\815_CowDataChecking\\20221230\\20221230_E_cow\\20221230_152538_8796.mkv: 1088x1088 (no detections), 23.1ms\n",
      "video 1/1 (530/3933) D:\\815_CowDataChecking\\20221230\\20221230_E_cow\\20221230_152538_8796.mkv: 1088x1088 (no detections), 22.1ms\n",
      "video 1/1 (531/3933) D:\\815_CowDataChecking\\20221230\\20221230_E_cow\\20221230_152538_8796.mkv: 1088x1088 (no detections), 22.0ms\n",
      "video 1/1 (532/3933) D:\\815_CowDataChecking\\20221230\\20221230_E_cow\\20221230_152538_8796.mkv: 1088x1088 (no detections), 24.0ms\n",
      "video 1/1 (533/3933) D:\\815_CowDataChecking\\20221230\\20221230_E_cow\\20221230_152538_8796.mkv: 1088x1088 (no detections), 25.1ms\n",
      "video 1/1 (534/3933) D:\\815_CowDataChecking\\20221230\\20221230_E_cow\\20221230_152538_8796.mkv: 1088x1088 (no detections), 24.2ms\n",
      "video 1/1 (535/3933) D:\\815_CowDataChecking\\20221230\\20221230_E_cow\\20221230_152538_8796.mkv: 1088x1088 (no detections), 26.2ms\n",
      "video 1/1 (536/3933) D:\\815_CowDataChecking\\20221230\\20221230_E_cow\\20221230_152538_8796.mkv: 1088x1088 (no detections), 25.1ms\n",
      "video 1/1 (537/3933) D:\\815_CowDataChecking\\20221230\\20221230_E_cow\\20221230_152538_8796.mkv: 1088x1088 (no detections), 24.1ms\n",
      "video 1/1 (538/3933) D:\\815_CowDataChecking\\20221230\\20221230_E_cow\\20221230_152538_8796.mkv: 1088x1088 (no detections), 22.3ms\n",
      "video 1/1 (539/3933) D:\\815_CowDataChecking\\20221230\\20221230_E_cow\\20221230_152538_8796.mkv: 1088x1088 (no detections), 24.9ms\n",
      "video 1/1 (540/3933) D:\\815_CowDataChecking\\20221230\\20221230_E_cow\\20221230_152538_8796.mkv: 1088x1088 (no detections), 24.4ms\n",
      "video 1/1 (541/3933) D:\\815_CowDataChecking\\20221230\\20221230_E_cow\\20221230_152538_8796.mkv: 1088x1088 (no detections), 24.9ms\n",
      "video 1/1 (542/3933) D:\\815_CowDataChecking\\20221230\\20221230_E_cow\\20221230_152538_8796.mkv: 1088x1088 (no detections), 22.6ms\n",
      "video 1/1 (543/3933) D:\\815_CowDataChecking\\20221230\\20221230_E_cow\\20221230_152538_8796.mkv: 1088x1088 (no detections), 23.3ms\n",
      "video 1/1 (544/3933) D:\\815_CowDataChecking\\20221230\\20221230_E_cow\\20221230_152538_8796.mkv: 1088x1088 (no detections), 24.5ms\n",
      "video 1/1 (545/3933) D:\\815_CowDataChecking\\20221230\\20221230_E_cow\\20221230_152538_8796.mkv: 1088x1088 (no detections), 23.2ms\n",
      "video 1/1 (546/3933) D:\\815_CowDataChecking\\20221230\\20221230_E_cow\\20221230_152538_8796.mkv: 1088x1088 (no detections), 22.9ms\n",
      "video 1/1 (547/3933) D:\\815_CowDataChecking\\20221230\\20221230_E_cow\\20221230_152538_8796.mkv: 1088x1088 (no detections), 24.2ms\n",
      "video 1/1 (548/3933) D:\\815_CowDataChecking\\20221230\\20221230_E_cow\\20221230_152538_8796.mkv: 1088x1088 (no detections), 22.5ms\n",
      "video 1/1 (549/3933) D:\\815_CowDataChecking\\20221230\\20221230_E_cow\\20221230_152538_8796.mkv: 1088x1088 (no detections), 23.1ms\n",
      "video 1/1 (550/3933) D:\\815_CowDataChecking\\20221230\\20221230_E_cow\\20221230_152538_8796.mkv: 1088x1088 (no detections), 23.7ms\n",
      "video 1/1 (551/3933) D:\\815_CowDataChecking\\20221230\\20221230_E_cow\\20221230_152538_8796.mkv: 1088x1088 (no detections), 24.1ms\n",
      "video 1/1 (552/3933) D:\\815_CowDataChecking\\20221230\\20221230_E_cow\\20221230_152538_8796.mkv: 1088x1088 (no detections), 24.3ms\n",
      "video 1/1 (553/3933) D:\\815_CowDataChecking\\20221230\\20221230_E_cow\\20221230_152538_8796.mkv: 1088x1088 (no detections), 23.8ms\n",
      "video 1/1 (554/3933) D:\\815_CowDataChecking\\20221230\\20221230_E_cow\\20221230_152538_8796.mkv: 1088x1088 (no detections), 23.5ms\n",
      "video 1/1 (555/3933) D:\\815_CowDataChecking\\20221230\\20221230_E_cow\\20221230_152538_8796.mkv: 1088x1088 (no detections), 24.1ms\n",
      "video 1/1 (556/3933) D:\\815_CowDataChecking\\20221230\\20221230_E_cow\\20221230_152538_8796.mkv: 1088x1088 (no detections), 24.4ms\n",
      "video 1/1 (557/3933) D:\\815_CowDataChecking\\20221230\\20221230_E_cow\\20221230_152538_8796.mkv: 1088x1088 (no detections), 22.8ms\n",
      "video 1/1 (558/3933) D:\\815_CowDataChecking\\20221230\\20221230_E_cow\\20221230_152538_8796.mkv: 1088x1088 (no detections), 23.0ms\n",
      "video 1/1 (559/3933) D:\\815_CowDataChecking\\20221230\\20221230_E_cow\\20221230_152538_8796.mkv: 1088x1088 (no detections), 23.8ms\n",
      "video 1/1 (560/3933) D:\\815_CowDataChecking\\20221230\\20221230_E_cow\\20221230_152538_8796.mkv: 1088x1088 (no detections), 29.5ms\n",
      "video 1/1 (561/3933) D:\\815_CowDataChecking\\20221230\\20221230_E_cow\\20221230_152538_8796.mkv: 1088x1088 (no detections), 24.9ms\n",
      "video 1/1 (562/3933) D:\\815_CowDataChecking\\20221230\\20221230_E_cow\\20221230_152538_8796.mkv: 1088x1088 (no detections), 25.0ms\n",
      "video 1/1 (563/3933) D:\\815_CowDataChecking\\20221230\\20221230_E_cow\\20221230_152538_8796.mkv: 1088x1088 (no detections), 25.0ms\n",
      "video 1/1 (564/3933) D:\\815_CowDataChecking\\20221230\\20221230_E_cow\\20221230_152538_8796.mkv: 1088x1088 (no detections), 23.5ms\n",
      "video 1/1 (565/3933) D:\\815_CowDataChecking\\20221230\\20221230_E_cow\\20221230_152538_8796.mkv: 1088x1088 (no detections), 21.7ms\n",
      "video 1/1 (566/3933) D:\\815_CowDataChecking\\20221230\\20221230_E_cow\\20221230_152538_8796.mkv: 1088x1088 (no detections), 23.5ms\n",
      "video 1/1 (567/3933) D:\\815_CowDataChecking\\20221230\\20221230_E_cow\\20221230_152538_8796.mkv: 1088x1088 (no detections), 24.5ms\n",
      "video 1/1 (568/3933) D:\\815_CowDataChecking\\20221230\\20221230_E_cow\\20221230_152538_8796.mkv: 1088x1088 (no detections), 24.6ms\n",
      "video 1/1 (569/3933) D:\\815_CowDataChecking\\20221230\\20221230_E_cow\\20221230_152538_8796.mkv: 1088x1088 (no detections), 25.0ms\n",
      "video 1/1 (570/3933) D:\\815_CowDataChecking\\20221230\\20221230_E_cow\\20221230_152538_8796.mkv: 1088x1088 (no detections), 23.2ms\n",
      "video 1/1 (571/3933) D:\\815_CowDataChecking\\20221230\\20221230_E_cow\\20221230_152538_8796.mkv: 1088x1088 (no detections), 22.1ms\n",
      "video 1/1 (572/3933) D:\\815_CowDataChecking\\20221230\\20221230_E_cow\\20221230_152538_8796.mkv: 1088x1088 (no detections), 24.0ms\n",
      "video 1/1 (573/3933) D:\\815_CowDataChecking\\20221230\\20221230_E_cow\\20221230_152538_8796.mkv: 1088x1088 (no detections), 24.2ms\n",
      "video 1/1 (574/3933) D:\\815_CowDataChecking\\20221230\\20221230_E_cow\\20221230_152538_8796.mkv: 1088x1088 (no detections), 22.3ms\n",
      "video 1/1 (575/3933) D:\\815_CowDataChecking\\20221230\\20221230_E_cow\\20221230_152538_8796.mkv: 1088x1088 (no detections), 24.7ms\n",
      "video 1/1 (576/3933) D:\\815_CowDataChecking\\20221230\\20221230_E_cow\\20221230_152538_8796.mkv: 1088x1088 (no detections), 22.7ms\n",
      "video 1/1 (577/3933) D:\\815_CowDataChecking\\20221230\\20221230_E_cow\\20221230_152538_8796.mkv: 1088x1088 (no detections), 22.6ms\n",
      "video 1/1 (578/3933) D:\\815_CowDataChecking\\20221230\\20221230_E_cow\\20221230_152538_8796.mkv: 1088x1088 (no detections), 22.7ms\n",
      "video 1/1 (579/3933) D:\\815_CowDataChecking\\20221230\\20221230_E_cow\\20221230_152538_8796.mkv: 1088x1088 (no detections), 23.9ms\n",
      "video 1/1 (580/3933) D:\\815_CowDataChecking\\20221230\\20221230_E_cow\\20221230_152538_8796.mkv: 1088x1088 (no detections), 23.9ms\n",
      "video 1/1 (581/3933) D:\\815_CowDataChecking\\20221230\\20221230_E_cow\\20221230_152538_8796.mkv: 1088x1088 (no detections), 24.2ms\n",
      "video 1/1 (582/3933) D:\\815_CowDataChecking\\20221230\\20221230_E_cow\\20221230_152538_8796.mkv: 1088x1088 (no detections), 23.6ms\n",
      "video 1/1 (583/3933) D:\\815_CowDataChecking\\20221230\\20221230_E_cow\\20221230_152538_8796.mkv: 1088x1088 (no detections), 22.8ms\n",
      "video 1/1 (584/3933) D:\\815_CowDataChecking\\20221230\\20221230_E_cow\\20221230_152538_8796.mkv: 1088x1088 (no detections), 23.7ms\n",
      "video 1/1 (585/3933) D:\\815_CowDataChecking\\20221230\\20221230_E_cow\\20221230_152538_8796.mkv: 1088x1088 (no detections), 25.6ms\n",
      "video 1/1 (586/3933) D:\\815_CowDataChecking\\20221230\\20221230_E_cow\\20221230_152538_8796.mkv: 1088x1088 (no detections), 24.6ms\n",
      "video 1/1 (587/3933) D:\\815_CowDataChecking\\20221230\\20221230_E_cow\\20221230_152538_8796.mkv: 1088x1088 (no detections), 24.8ms\n",
      "video 1/1 (588/3933) D:\\815_CowDataChecking\\20221230\\20221230_E_cow\\20221230_152538_8796.mkv: 1088x1088 (no detections), 24.6ms\n",
      "video 1/1 (589/3933) D:\\815_CowDataChecking\\20221230\\20221230_E_cow\\20221230_152538_8796.mkv: 1088x1088 (no detections), 23.4ms\n",
      "video 1/1 (590/3933) D:\\815_CowDataChecking\\20221230\\20221230_E_cow\\20221230_152538_8796.mkv: 1088x1088 (no detections), 23.7ms\n",
      "video 1/1 (591/3933) D:\\815_CowDataChecking\\20221230\\20221230_E_cow\\20221230_152538_8796.mkv: 1088x1088 (no detections), 23.6ms\n",
      "video 1/1 (592/3933) D:\\815_CowDataChecking\\20221230\\20221230_E_cow\\20221230_152538_8796.mkv: 1088x1088 (no detections), 24.4ms\n",
      "video 1/1 (593/3933) D:\\815_CowDataChecking\\20221230\\20221230_E_cow\\20221230_152538_8796.mkv: 1088x1088 (no detections), 23.8ms\n",
      "video 1/1 (594/3933) D:\\815_CowDataChecking\\20221230\\20221230_E_cow\\20221230_152538_8796.mkv: 1088x1088 (no detections), 25.2ms\n",
      "video 1/1 (595/3933) D:\\815_CowDataChecking\\20221230\\20221230_E_cow\\20221230_152538_8796.mkv: 1088x1088 (no detections), 23.4ms\n",
      "video 1/1 (596/3933) D:\\815_CowDataChecking\\20221230\\20221230_E_cow\\20221230_152538_8796.mkv: 1088x1088 (no detections), 24.7ms\n",
      "video 1/1 (597/3933) D:\\815_CowDataChecking\\20221230\\20221230_E_cow\\20221230_152538_8796.mkv: 1088x1088 (no detections), 24.5ms\n",
      "video 1/1 (598/3933) D:\\815_CowDataChecking\\20221230\\20221230_E_cow\\20221230_152538_8796.mkv: 1088x1088 (no detections), 24.9ms\n",
      "video 1/1 (599/3933) D:\\815_CowDataChecking\\20221230\\20221230_E_cow\\20221230_152538_8796.mkv: 1088x1088 (no detections), 24.1ms\n",
      "video 1/1 (600/3933) D:\\815_CowDataChecking\\20221230\\20221230_E_cow\\20221230_152538_8796.mkv: 1088x1088 (no detections), 26.1ms\n",
      "video 1/1 (601/3933) D:\\815_CowDataChecking\\20221230\\20221230_E_cow\\20221230_152538_8796.mkv: 1088x1088 (no detections), 24.5ms\n",
      "video 1/1 (602/3933) D:\\815_CowDataChecking\\20221230\\20221230_E_cow\\20221230_152538_8796.mkv: 1088x1088 (no detections), 25.8ms\n",
      "video 1/1 (603/3933) D:\\815_CowDataChecking\\20221230\\20221230_E_cow\\20221230_152538_8796.mkv: 1088x1088 (no detections), 25.5ms\n",
      "video 1/1 (604/3933) D:\\815_CowDataChecking\\20221230\\20221230_E_cow\\20221230_152538_8796.mkv: 1088x1088 (no detections), 23.6ms\n",
      "video 1/1 (605/3933) D:\\815_CowDataChecking\\20221230\\20221230_E_cow\\20221230_152538_8796.mkv: 1088x1088 (no detections), 25.5ms\n",
      "video 1/1 (606/3933) D:\\815_CowDataChecking\\20221230\\20221230_E_cow\\20221230_152538_8796.mkv: 1088x1088 (no detections), 24.4ms\n",
      "video 1/1 (607/3933) D:\\815_CowDataChecking\\20221230\\20221230_E_cow\\20221230_152538_8796.mkv: 1088x1088 (no detections), 23.2ms\n",
      "video 1/1 (608/3933) D:\\815_CowDataChecking\\20221230\\20221230_E_cow\\20221230_152538_8796.mkv: 1088x1088 (no detections), 24.7ms\n",
      "video 1/1 (609/3933) D:\\815_CowDataChecking\\20221230\\20221230_E_cow\\20221230_152538_8796.mkv: 1088x1088 (no detections), 25.2ms\n",
      "video 1/1 (610/3933) D:\\815_CowDataChecking\\20221230\\20221230_E_cow\\20221230_152538_8796.mkv: 1088x1088 (no detections), 23.5ms\n",
      "video 1/1 (611/3933) D:\\815_CowDataChecking\\20221230\\20221230_E_cow\\20221230_152538_8796.mkv: 1088x1088 (no detections), 24.8ms\n",
      "video 1/1 (612/3933) D:\\815_CowDataChecking\\20221230\\20221230_E_cow\\20221230_152538_8796.mkv: 1088x1088 (no detections), 25.6ms\n",
      "video 1/1 (613/3933) D:\\815_CowDataChecking\\20221230\\20221230_E_cow\\20221230_152538_8796.mkv: 1088x1088 (no detections), 25.0ms\n",
      "video 1/1 (614/3933) D:\\815_CowDataChecking\\20221230\\20221230_E_cow\\20221230_152538_8796.mkv: 1088x1088 (no detections), 25.7ms\n",
      "video 1/1 (615/3933) D:\\815_CowDataChecking\\20221230\\20221230_E_cow\\20221230_152538_8796.mkv: 1088x1088 (no detections), 24.0ms\n",
      "video 1/1 (616/3933) D:\\815_CowDataChecking\\20221230\\20221230_E_cow\\20221230_152538_8796.mkv: 1088x1088 (no detections), 24.5ms\n",
      "video 1/1 (617/3933) D:\\815_CowDataChecking\\20221230\\20221230_E_cow\\20221230_152538_8796.mkv: 1088x1088 (no detections), 25.7ms\n",
      "video 1/1 (618/3933) D:\\815_CowDataChecking\\20221230\\20221230_E_cow\\20221230_152538_8796.mkv: 1088x1088 (no detections), 25.1ms\n",
      "video 1/1 (619/3933) D:\\815_CowDataChecking\\20221230\\20221230_E_cow\\20221230_152538_8796.mkv: 1088x1088 (no detections), 24.4ms\n",
      "video 1/1 (620/3933) D:\\815_CowDataChecking\\20221230\\20221230_E_cow\\20221230_152538_8796.mkv: 1088x1088 (no detections), 25.8ms\n",
      "video 1/1 (621/3933) D:\\815_CowDataChecking\\20221230\\20221230_E_cow\\20221230_152538_8796.mkv: 1088x1088 (no detections), 23.6ms\n",
      "video 1/1 (622/3933) D:\\815_CowDataChecking\\20221230\\20221230_E_cow\\20221230_152538_8796.mkv: 1088x1088 (no detections), 24.6ms\n",
      "video 1/1 (623/3933) D:\\815_CowDataChecking\\20221230\\20221230_E_cow\\20221230_152538_8796.mkv: 1088x1088 (no detections), 23.3ms\n",
      "video 1/1 (624/3933) D:\\815_CowDataChecking\\20221230\\20221230_E_cow\\20221230_152538_8796.mkv: 1088x1088 (no detections), 25.4ms\n",
      "video 1/1 (625/3933) D:\\815_CowDataChecking\\20221230\\20221230_E_cow\\20221230_152538_8796.mkv: 1088x1088 (no detections), 26.0ms\n",
      "video 1/1 (626/3933) D:\\815_CowDataChecking\\20221230\\20221230_E_cow\\20221230_152538_8796.mkv: 1088x1088 (no detections), 25.0ms\n",
      "video 1/1 (627/3933) D:\\815_CowDataChecking\\20221230\\20221230_E_cow\\20221230_152538_8796.mkv: 1088x1088 (no detections), 24.7ms\n",
      "video 1/1 (628/3933) D:\\815_CowDataChecking\\20221230\\20221230_E_cow\\20221230_152538_8796.mkv: 1088x1088 (no detections), 26.1ms\n",
      "video 1/1 (629/3933) D:\\815_CowDataChecking\\20221230\\20221230_E_cow\\20221230_152538_8796.mkv: 1088x1088 (no detections), 25.5ms\n",
      "video 1/1 (630/3933) D:\\815_CowDataChecking\\20221230\\20221230_E_cow\\20221230_152538_8796.mkv: 1088x1088 (no detections), 25.6ms\n",
      "video 1/1 (631/3933) D:\\815_CowDataChecking\\20221230\\20221230_E_cow\\20221230_152538_8796.mkv: 1088x1088 (no detections), 25.5ms\n",
      "video 1/1 (632/3933) D:\\815_CowDataChecking\\20221230\\20221230_E_cow\\20221230_152538_8796.mkv: 1088x1088 (no detections), 22.5ms\n",
      "video 1/1 (633/3933) D:\\815_CowDataChecking\\20221230\\20221230_E_cow\\20221230_152538_8796.mkv: 1088x1088 (no detections), 22.8ms\n",
      "video 1/1 (634/3933) D:\\815_CowDataChecking\\20221230\\20221230_E_cow\\20221230_152538_8796.mkv: 1088x1088 (no detections), 24.6ms\n",
      "video 1/1 (635/3933) D:\\815_CowDataChecking\\20221230\\20221230_E_cow\\20221230_152538_8796.mkv: 1088x1088 (no detections), 24.9ms\n",
      "video 1/1 (636/3933) D:\\815_CowDataChecking\\20221230\\20221230_E_cow\\20221230_152538_8796.mkv: 1088x1088 (no detections), 23.0ms\n",
      "video 1/1 (637/3933) D:\\815_CowDataChecking\\20221230\\20221230_E_cow\\20221230_152538_8796.mkv: 1088x1088 (no detections), 23.3ms\n",
      "video 1/1 (638/3933) D:\\815_CowDataChecking\\20221230\\20221230_E_cow\\20221230_152538_8796.mkv: 1088x1088 (no detections), 23.8ms\n",
      "video 1/1 (639/3933) D:\\815_CowDataChecking\\20221230\\20221230_E_cow\\20221230_152538_8796.mkv: 1088x1088 (no detections), 25.2ms\n",
      "video 1/1 (640/3933) D:\\815_CowDataChecking\\20221230\\20221230_E_cow\\20221230_152538_8796.mkv: 1088x1088 (no detections), 24.5ms\n",
      "video 1/1 (641/3933) D:\\815_CowDataChecking\\20221230\\20221230_E_cow\\20221230_152538_8796.mkv: 1088x1088 (no detections), 25.4ms\n",
      "video 1/1 (642/3933) D:\\815_CowDataChecking\\20221230\\20221230_E_cow\\20221230_152538_8796.mkv: 1088x1088 (no detections), 24.7ms\n",
      "video 1/1 (643/3933) D:\\815_CowDataChecking\\20221230\\20221230_E_cow\\20221230_152538_8796.mkv: 1088x1088 (no detections), 24.0ms\n",
      "video 1/1 (644/3933) D:\\815_CowDataChecking\\20221230\\20221230_E_cow\\20221230_152538_8796.mkv: 1088x1088 (no detections), 23.2ms\n",
      "video 1/1 (645/3933) D:\\815_CowDataChecking\\20221230\\20221230_E_cow\\20221230_152538_8796.mkv: 1088x1088 (no detections), 24.8ms\n",
      "video 1/1 (646/3933) D:\\815_CowDataChecking\\20221230\\20221230_E_cow\\20221230_152538_8796.mkv: 1088x1088 (no detections), 23.6ms\n",
      "video 1/1 (647/3933) D:\\815_CowDataChecking\\20221230\\20221230_E_cow\\20221230_152538_8796.mkv: 1088x1088 (no detections), 25.0ms\n",
      "video 1/1 (648/3933) D:\\815_CowDataChecking\\20221230\\20221230_E_cow\\20221230_152538_8796.mkv: 1088x1088 (no detections), 24.9ms\n",
      "video 1/1 (649/3933) D:\\815_CowDataChecking\\20221230\\20221230_E_cow\\20221230_152538_8796.mkv: 1088x1088 (no detections), 25.7ms\n",
      "video 1/1 (650/3933) D:\\815_CowDataChecking\\20221230\\20221230_E_cow\\20221230_152538_8796.mkv: 1088x1088 (no detections), 23.6ms\n",
      "video 1/1 (651/3933) D:\\815_CowDataChecking\\20221230\\20221230_E_cow\\20221230_152538_8796.mkv: 1088x1088 (no detections), 25.7ms\n",
      "video 1/1 (652/3933) D:\\815_CowDataChecking\\20221230\\20221230_E_cow\\20221230_152538_8796.mkv: 1088x1088 (no detections), 22.6ms\n",
      "video 1/1 (653/3933) D:\\815_CowDataChecking\\20221230\\20221230_E_cow\\20221230_152538_8796.mkv: 1088x1088 (no detections), 24.0ms\n",
      "video 1/1 (654/3933) D:\\815_CowDataChecking\\20221230\\20221230_E_cow\\20221230_152538_8796.mkv: 1088x1088 (no detections), 24.4ms\n",
      "video 1/1 (655/3933) D:\\815_CowDataChecking\\20221230\\20221230_E_cow\\20221230_152538_8796.mkv: 1088x1088 (no detections), 23.2ms\n",
      "video 1/1 (656/3933) D:\\815_CowDataChecking\\20221230\\20221230_E_cow\\20221230_152538_8796.mkv: 1088x1088 (no detections), 24.5ms\n",
      "video 1/1 (657/3933) D:\\815_CowDataChecking\\20221230\\20221230_E_cow\\20221230_152538_8796.mkv: 1088x1088 (no detections), 23.7ms\n",
      "video 1/1 (658/3933) D:\\815_CowDataChecking\\20221230\\20221230_E_cow\\20221230_152538_8796.mkv: 1088x1088 (no detections), 23.5ms\n",
      "video 1/1 (659/3933) D:\\815_CowDataChecking\\20221230\\20221230_E_cow\\20221230_152538_8796.mkv: 1088x1088 (no detections), 23.8ms\n",
      "video 1/1 (660/3933) D:\\815_CowDataChecking\\20221230\\20221230_E_cow\\20221230_152538_8796.mkv: 1088x1088 (no detections), 23.5ms\n",
      "video 1/1 (661/3933) D:\\815_CowDataChecking\\20221230\\20221230_E_cow\\20221230_152538_8796.mkv: 1088x1088 (no detections), 24.5ms\n",
      "video 1/1 (662/3933) D:\\815_CowDataChecking\\20221230\\20221230_E_cow\\20221230_152538_8796.mkv: 1088x1088 (no detections), 22.6ms\n",
      "video 1/1 (663/3933) D:\\815_CowDataChecking\\20221230\\20221230_E_cow\\20221230_152538_8796.mkv: 1088x1088 (no detections), 22.8ms\n",
      "video 1/1 (664/3933) D:\\815_CowDataChecking\\20221230\\20221230_E_cow\\20221230_152538_8796.mkv: 1088x1088 (no detections), 23.9ms\n",
      "video 1/1 (665/3933) D:\\815_CowDataChecking\\20221230\\20221230_E_cow\\20221230_152538_8796.mkv: 1088x1088 (no detections), 23.5ms\n",
      "video 1/1 (666/3933) D:\\815_CowDataChecking\\20221230\\20221230_E_cow\\20221230_152538_8796.mkv: 1088x1088 (no detections), 22.2ms\n",
      "video 1/1 (667/3933) D:\\815_CowDataChecking\\20221230\\20221230_E_cow\\20221230_152538_8796.mkv: 1088x1088 (no detections), 22.3ms\n",
      "video 1/1 (668/3933) D:\\815_CowDataChecking\\20221230\\20221230_E_cow\\20221230_152538_8796.mkv: 1088x1088 (no detections), 23.9ms\n",
      "video 1/1 (669/3933) D:\\815_CowDataChecking\\20221230\\20221230_E_cow\\20221230_152538_8796.mkv: 1088x1088 (no detections), 23.5ms\n",
      "video 1/1 (670/3933) D:\\815_CowDataChecking\\20221230\\20221230_E_cow\\20221230_152538_8796.mkv: 1088x1088 (no detections), 22.8ms\n",
      "video 1/1 (671/3933) D:\\815_CowDataChecking\\20221230\\20221230_E_cow\\20221230_152538_8796.mkv: 1088x1088 (no detections), 23.8ms\n",
      "video 1/1 (672/3933) D:\\815_CowDataChecking\\20221230\\20221230_E_cow\\20221230_152538_8796.mkv: 1088x1088 (no detections), 22.4ms\n",
      "video 1/1 (673/3933) D:\\815_CowDataChecking\\20221230\\20221230_E_cow\\20221230_152538_8796.mkv: 1088x1088 (no detections), 23.5ms\n",
      "video 1/1 (674/3933) D:\\815_CowDataChecking\\20221230\\20221230_E_cow\\20221230_152538_8796.mkv: 1088x1088 (no detections), 24.0ms\n",
      "video 1/1 (675/3933) D:\\815_CowDataChecking\\20221230\\20221230_E_cow\\20221230_152538_8796.mkv: 1088x1088 (no detections), 24.1ms\n",
      "video 1/1 (676/3933) D:\\815_CowDataChecking\\20221230\\20221230_E_cow\\20221230_152538_8796.mkv: 1088x1088 (no detections), 24.0ms\n",
      "video 1/1 (677/3933) D:\\815_CowDataChecking\\20221230\\20221230_E_cow\\20221230_152538_8796.mkv: 1088x1088 (no detections), 22.5ms\n",
      "video 1/1 (678/3933) D:\\815_CowDataChecking\\20221230\\20221230_E_cow\\20221230_152538_8796.mkv: 1088x1088 (no detections), 23.6ms\n",
      "video 1/1 (679/3933) D:\\815_CowDataChecking\\20221230\\20221230_E_cow\\20221230_152538_8796.mkv: 1088x1088 (no detections), 23.9ms\n",
      "video 1/1 (680/3933) D:\\815_CowDataChecking\\20221230\\20221230_E_cow\\20221230_152538_8796.mkv: 1088x1088 (no detections), 23.5ms\n",
      "video 1/1 (681/3933) D:\\815_CowDataChecking\\20221230\\20221230_E_cow\\20221230_152538_8796.mkv: 1088x1088 (no detections), 23.6ms\n",
      "video 1/1 (682/3933) D:\\815_CowDataChecking\\20221230\\20221230_E_cow\\20221230_152538_8796.mkv: 1088x1088 (no detections), 26.6ms\n",
      "video 1/1 (683/3933) D:\\815_CowDataChecking\\20221230\\20221230_E_cow\\20221230_152538_8796.mkv: 1088x1088 (no detections), 24.2ms\n",
      "video 1/1 (684/3933) D:\\815_CowDataChecking\\20221230\\20221230_E_cow\\20221230_152538_8796.mkv: 1088x1088 (no detections), 24.8ms\n",
      "video 1/1 (685/3933) D:\\815_CowDataChecking\\20221230\\20221230_E_cow\\20221230_152538_8796.mkv: 1088x1088 (no detections), 24.8ms\n",
      "video 1/1 (686/3933) D:\\815_CowDataChecking\\20221230\\20221230_E_cow\\20221230_152538_8796.mkv: 1088x1088 (no detections), 24.8ms\n",
      "video 1/1 (687/3933) D:\\815_CowDataChecking\\20221230\\20221230_E_cow\\20221230_152538_8796.mkv: 1088x1088 (no detections), 25.5ms\n",
      "video 1/1 (688/3933) D:\\815_CowDataChecking\\20221230\\20221230_E_cow\\20221230_152538_8796.mkv: 1088x1088 (no detections), 24.2ms\n",
      "video 1/1 (689/3933) D:\\815_CowDataChecking\\20221230\\20221230_E_cow\\20221230_152538_8796.mkv: 1088x1088 (no detections), 16.8ms\n",
      "video 1/1 (690/3933) D:\\815_CowDataChecking\\20221230\\20221230_E_cow\\20221230_152538_8796.mkv: 1088x1088 (no detections), 24.5ms\n",
      "video 1/1 (691/3933) D:\\815_CowDataChecking\\20221230\\20221230_E_cow\\20221230_152538_8796.mkv: 1088x1088 (no detections), 24.8ms\n",
      "video 1/1 (692/3933) D:\\815_CowDataChecking\\20221230\\20221230_E_cow\\20221230_152538_8796.mkv: 1088x1088 (no detections), 25.3ms\n",
      "video 1/1 (693/3933) D:\\815_CowDataChecking\\20221230\\20221230_E_cow\\20221230_152538_8796.mkv: 1088x1088 (no detections), 24.2ms\n",
      "video 1/1 (694/3933) D:\\815_CowDataChecking\\20221230\\20221230_E_cow\\20221230_152538_8796.mkv: 1088x1088 (no detections), 24.3ms\n",
      "video 1/1 (695/3933) D:\\815_CowDataChecking\\20221230\\20221230_E_cow\\20221230_152538_8796.mkv: 1088x1088 (no detections), 25.7ms\n",
      "video 1/1 (696/3933) D:\\815_CowDataChecking\\20221230\\20221230_E_cow\\20221230_152538_8796.mkv: 1088x1088 (no detections), 24.5ms\n",
      "video 1/1 (697/3933) D:\\815_CowDataChecking\\20221230\\20221230_E_cow\\20221230_152538_8796.mkv: 1088x1088 (no detections), 24.6ms\n",
      "video 1/1 (698/3933) D:\\815_CowDataChecking\\20221230\\20221230_E_cow\\20221230_152538_8796.mkv: 1088x1088 (no detections), 24.7ms\n",
      "video 1/1 (699/3933) D:\\815_CowDataChecking\\20221230\\20221230_E_cow\\20221230_152538_8796.mkv: 1088x1088 (no detections), 25.4ms\n",
      "video 1/1 (700/3933) D:\\815_CowDataChecking\\20221230\\20221230_E_cow\\20221230_152538_8796.mkv: 1088x1088 (no detections), 24.6ms\n",
      "video 1/1 (701/3933) D:\\815_CowDataChecking\\20221230\\20221230_E_cow\\20221230_152538_8796.mkv: 1088x1088 (no detections), 25.5ms\n",
      "video 1/1 (702/3933) D:\\815_CowDataChecking\\20221230\\20221230_E_cow\\20221230_152538_8796.mkv: 1088x1088 (no detections), 24.0ms\n",
      "video 1/1 (703/3933) D:\\815_CowDataChecking\\20221230\\20221230_E_cow\\20221230_152538_8796.mkv: 1088x1088 (no detections), 23.6ms\n",
      "video 1/1 (704/3933) D:\\815_CowDataChecking\\20221230\\20221230_E_cow\\20221230_152538_8796.mkv: 1088x1088 (no detections), 24.4ms\n",
      "video 1/1 (705/3933) D:\\815_CowDataChecking\\20221230\\20221230_E_cow\\20221230_152538_8796.mkv: 1088x1088 (no detections), 25.4ms\n",
      "video 1/1 (706/3933) D:\\815_CowDataChecking\\20221230\\20221230_E_cow\\20221230_152538_8796.mkv: 1088x1088 (no detections), 22.5ms\n",
      "video 1/1 (707/3933) D:\\815_CowDataChecking\\20221230\\20221230_E_cow\\20221230_152538_8796.mkv: 1088x1088 (no detections), 23.8ms\n",
      "video 1/1 (708/3933) D:\\815_CowDataChecking\\20221230\\20221230_E_cow\\20221230_152538_8796.mkv: 1088x1088 (no detections), 23.5ms\n",
      "video 1/1 (709/3933) D:\\815_CowDataChecking\\20221230\\20221230_E_cow\\20221230_152538_8796.mkv: 1088x1088 (no detections), 24.8ms\n",
      "video 1/1 (710/3933) D:\\815_CowDataChecking\\20221230\\20221230_E_cow\\20221230_152538_8796.mkv: 1088x1088 (no detections), 23.6ms\n",
      "video 1/1 (711/3933) D:\\815_CowDataChecking\\20221230\\20221230_E_cow\\20221230_152538_8796.mkv: 1088x1088 (no detections), 24.5ms\n",
      "video 1/1 (712/3933) D:\\815_CowDataChecking\\20221230\\20221230_E_cow\\20221230_152538_8796.mkv: 1088x1088 (no detections), 23.3ms\n",
      "video 1/1 (713/3933) D:\\815_CowDataChecking\\20221230\\20221230_E_cow\\20221230_152538_8796.mkv: 1088x1088 (no detections), 22.2ms\n",
      "video 1/1 (714/3933) D:\\815_CowDataChecking\\20221230\\20221230_E_cow\\20221230_152538_8796.mkv: 1088x1088 (no detections), 24.2ms\n",
      "video 1/1 (715/3933) D:\\815_CowDataChecking\\20221230\\20221230_E_cow\\20221230_152538_8796.mkv: 1088x1088 (no detections), 22.6ms\n",
      "video 1/1 (716/3933) D:\\815_CowDataChecking\\20221230\\20221230_E_cow\\20221230_152538_8796.mkv: 1088x1088 (no detections), 24.2ms\n",
      "video 1/1 (717/3933) D:\\815_CowDataChecking\\20221230\\20221230_E_cow\\20221230_152538_8796.mkv: 1088x1088 (no detections), 23.6ms\n",
      "video 1/1 (718/3933) D:\\815_CowDataChecking\\20221230\\20221230_E_cow\\20221230_152538_8796.mkv: 1088x1088 (no detections), 24.4ms\n",
      "video 1/1 (719/3933) D:\\815_CowDataChecking\\20221230\\20221230_E_cow\\20221230_152538_8796.mkv: 1088x1088 (no detections), 24.0ms\n",
      "video 1/1 (720/3933) D:\\815_CowDataChecking\\20221230\\20221230_E_cow\\20221230_152538_8796.mkv: 1088x1088 (no detections), 25.9ms\n",
      "video 1/1 (721/3933) D:\\815_CowDataChecking\\20221230\\20221230_E_cow\\20221230_152538_8796.mkv: 1088x1088 (no detections), 22.7ms\n",
      "video 1/1 (722/3933) D:\\815_CowDataChecking\\20221230\\20221230_E_cow\\20221230_152538_8796.mkv: 1088x1088 (no detections), 21.8ms\n",
      "video 1/1 (723/3933) D:\\815_CowDataChecking\\20221230\\20221230_E_cow\\20221230_152538_8796.mkv: 1088x1088 (no detections), 22.5ms\n",
      "video 1/1 (724/3933) D:\\815_CowDataChecking\\20221230\\20221230_E_cow\\20221230_152538_8796.mkv: 1088x1088 (no detections), 22.5ms\n",
      "video 1/1 (725/3933) D:\\815_CowDataChecking\\20221230\\20221230_E_cow\\20221230_152538_8796.mkv: 1088x1088 (no detections), 23.2ms\n",
      "video 1/1 (726/3933) D:\\815_CowDataChecking\\20221230\\20221230_E_cow\\20221230_152538_8796.mkv: 1088x1088 (no detections), 24.5ms\n",
      "video 1/1 (727/3933) D:\\815_CowDataChecking\\20221230\\20221230_E_cow\\20221230_152538_8796.mkv: 1088x1088 (no detections), 24.6ms\n",
      "video 1/1 (728/3933) D:\\815_CowDataChecking\\20221230\\20221230_E_cow\\20221230_152538_8796.mkv: 1088x1088 (no detections), 26.6ms\n",
      "video 1/1 (729/3933) D:\\815_CowDataChecking\\20221230\\20221230_E_cow\\20221230_152538_8796.mkv: 1088x1088 (no detections), 16.8ms\n",
      "video 1/1 (730/3933) D:\\815_CowDataChecking\\20221230\\20221230_E_cow\\20221230_152538_8796.mkv: 1088x1088 (no detections), 24.9ms\n",
      "video 1/1 (731/3933) D:\\815_CowDataChecking\\20221230\\20221230_E_cow\\20221230_152538_8796.mkv: 1088x1088 (no detections), 24.6ms\n",
      "video 1/1 (732/3933) D:\\815_CowDataChecking\\20221230\\20221230_E_cow\\20221230_152538_8796.mkv: 1088x1088 (no detections), 22.4ms\n",
      "video 1/1 (733/3933) D:\\815_CowDataChecking\\20221230\\20221230_E_cow\\20221230_152538_8796.mkv: 1088x1088 (no detections), 22.8ms\n",
      "video 1/1 (734/3933) D:\\815_CowDataChecking\\20221230\\20221230_E_cow\\20221230_152538_8796.mkv: 1088x1088 (no detections), 21.5ms\n",
      "video 1/1 (735/3933) D:\\815_CowDataChecking\\20221230\\20221230_E_cow\\20221230_152538_8796.mkv: 1088x1088 (no detections), 25.7ms\n",
      "video 1/1 (736/3933) D:\\815_CowDataChecking\\20221230\\20221230_E_cow\\20221230_152538_8796.mkv: 1088x1088 (no detections), 23.6ms\n",
      "video 1/1 (737/3933) D:\\815_CowDataChecking\\20221230\\20221230_E_cow\\20221230_152538_8796.mkv: 1088x1088 (no detections), 24.3ms\n",
      "video 1/1 (738/3933) D:\\815_CowDataChecking\\20221230\\20221230_E_cow\\20221230_152538_8796.mkv: 1088x1088 (no detections), 25.5ms\n",
      "video 1/1 (739/3933) D:\\815_CowDataChecking\\20221230\\20221230_E_cow\\20221230_152538_8796.mkv: 1088x1088 (no detections), 23.5ms\n",
      "video 1/1 (740/3933) D:\\815_CowDataChecking\\20221230\\20221230_E_cow\\20221230_152538_8796.mkv: 1088x1088 (no detections), 26.0ms\n",
      "video 1/1 (741/3933) D:\\815_CowDataChecking\\20221230\\20221230_E_cow\\20221230_152538_8796.mkv: 1088x1088 (no detections), 22.7ms\n",
      "video 1/1 (742/3933) D:\\815_CowDataChecking\\20221230\\20221230_E_cow\\20221230_152538_8796.mkv: 1088x1088 (no detections), 22.9ms\n",
      "video 1/1 (743/3933) D:\\815_CowDataChecking\\20221230\\20221230_E_cow\\20221230_152538_8796.mkv: 1088x1088 (no detections), 22.5ms\n",
      "video 1/1 (744/3933) D:\\815_CowDataChecking\\20221230\\20221230_E_cow\\20221230_152538_8796.mkv: 1088x1088 (no detections), 25.6ms\n",
      "video 1/1 (745/3933) D:\\815_CowDataChecking\\20221230\\20221230_E_cow\\20221230_152538_8796.mkv: 1088x1088 (no detections), 24.9ms\n",
      "video 1/1 (746/3933) D:\\815_CowDataChecking\\20221230\\20221230_E_cow\\20221230_152538_8796.mkv: 1088x1088 (no detections), 24.2ms\n",
      "video 1/1 (747/3933) D:\\815_CowDataChecking\\20221230\\20221230_E_cow\\20221230_152538_8796.mkv: 1088x1088 (no detections), 25.2ms\n",
      "video 1/1 (748/3933) D:\\815_CowDataChecking\\20221230\\20221230_E_cow\\20221230_152538_8796.mkv: 1088x1088 (no detections), 23.7ms\n",
      "video 1/1 (749/3933) D:\\815_CowDataChecking\\20221230\\20221230_E_cow\\20221230_152538_8796.mkv: 1088x1088 (no detections), 23.3ms\n",
      "video 1/1 (750/3933) D:\\815_CowDataChecking\\20221230\\20221230_E_cow\\20221230_152538_8796.mkv: 1088x1088 (no detections), 25.0ms\n",
      "video 1/1 (751/3933) D:\\815_CowDataChecking\\20221230\\20221230_E_cow\\20221230_152538_8796.mkv: 1088x1088 (no detections), 24.4ms\n",
      "video 1/1 (752/3933) D:\\815_CowDataChecking\\20221230\\20221230_E_cow\\20221230_152538_8796.mkv: 1088x1088 (no detections), 24.2ms\n",
      "video 1/1 (753/3933) D:\\815_CowDataChecking\\20221230\\20221230_E_cow\\20221230_152538_8796.mkv: 1088x1088 (no detections), 25.2ms\n",
      "video 1/1 (754/3933) D:\\815_CowDataChecking\\20221230\\20221230_E_cow\\20221230_152538_8796.mkv: 1088x1088 (no detections), 23.4ms\n",
      "WARNING  'Masks.masks' is deprecated. Use 'Masks.data' instead.\n",
      "video 1/1 (755/3933) D:\\815_CowDataChecking\\20221230\\20221230_E_cow\\20221230_152538_8796.mkv: 1088x1088 1 cow, 24.4ms\n",
      "video 1/1 (756/3933) D:\\815_CowDataChecking\\20221230\\20221230_E_cow\\20221230_152538_8796.mkv: 1088x1088 (no detections), 26.1ms\n",
      "WARNING  'Masks.masks' is deprecated. Use 'Masks.data' instead.\n",
      "video 1/1 (757/3933) D:\\815_CowDataChecking\\20221230\\20221230_E_cow\\20221230_152538_8796.mkv: 1088x1088 1 cow, 23.2ms\n",
      "WARNING  'Masks.masks' is deprecated. Use 'Masks.data' instead.\n",
      "video 1/1 (758/3933) D:\\815_CowDataChecking\\20221230\\20221230_E_cow\\20221230_152538_8796.mkv: 1088x1088 1 cow, 27.2ms\n",
      "video 1/1 (759/3933) D:\\815_CowDataChecking\\20221230\\20221230_E_cow\\20221230_152538_8796.mkv: 1088x1088 1 cow, 25.8ms\n",
      "WARNING  'Masks.masks' is deprecated. Use 'Masks.data' instead.\n",
      "video 1/1 (760/3933) D:\\815_CowDataChecking\\20221230\\20221230_E_cow\\20221230_152538_8796.mkv: 1088x1088 1 cow, 23.2ms\n",
      "WARNING  'Masks.masks' is deprecated. Use 'Masks.data' instead.\n",
      "video 1/1 (761/3933) D:\\815_CowDataChecking\\20221230\\20221230_E_cow\\20221230_152538_8796.mkv: 1088x1088 1 cow, 23.5ms\n",
      "video 1/1 (762/3933) D:\\815_CowDataChecking\\20221230\\20221230_E_cow\\20221230_152538_8796.mkv: 1088x1088 1 cow, 25.1ms\n",
      "WARNING  'Masks.masks' is deprecated. Use 'Masks.data' instead.\n",
      "video 1/1 (763/3933) D:\\815_CowDataChecking\\20221230\\20221230_E_cow\\20221230_152538_8796.mkv: 1088x1088 1 cow, 24.4ms\n",
      "WARNING  'Masks.masks' is deprecated. Use 'Masks.data' instead.\n",
      "video 1/1 (764/3933) D:\\815_CowDataChecking\\20221230\\20221230_E_cow\\20221230_152538_8796.mkv: 1088x1088 1 cow, 18.1ms\n",
      "video 1/1 (765/3933) D:\\815_CowDataChecking\\20221230\\20221230_E_cow\\20221230_152538_8796.mkv: 1088x1088 1 cow, 24.5ms\n",
      "WARNING  'Masks.masks' is deprecated. Use 'Masks.data' instead.\n",
      "video 1/1 (766/3933) D:\\815_CowDataChecking\\20221230\\20221230_E_cow\\20221230_152538_8796.mkv: 1088x1088 1 cow, 22.5ms\n",
      "WARNING  'Masks.masks' is deprecated. Use 'Masks.data' instead.\n",
      "video 1/1 (767/3933) D:\\815_CowDataChecking\\20221230\\20221230_E_cow\\20221230_152538_8796.mkv: 1088x1088 1 cow, 24.9ms\n",
      "video 1/1 (768/3933) D:\\815_CowDataChecking\\20221230\\20221230_E_cow\\20221230_152538_8796.mkv: 1088x1088 1 cow, 23.0ms\n",
      "WARNING  'Masks.masks' is deprecated. Use 'Masks.data' instead.\n",
      "video 1/1 (769/3933) D:\\815_CowDataChecking\\20221230\\20221230_E_cow\\20221230_152538_8796.mkv: 1088x1088 1 cow, 21.8ms\n",
      "WARNING  'Masks.masks' is deprecated. Use 'Masks.data' instead.\n",
      "video 1/1 (770/3933) D:\\815_CowDataChecking\\20221230\\20221230_E_cow\\20221230_152538_8796.mkv: 1088x1088 1 cow, 23.2ms\n",
      "video 1/1 (771/3933) D:\\815_CowDataChecking\\20221230\\20221230_E_cow\\20221230_152538_8796.mkv: 1088x1088 1 cow, 23.7ms\n",
      "WARNING  'Masks.masks' is deprecated. Use 'Masks.data' instead.\n",
      "video 1/1 (772/3933) D:\\815_CowDataChecking\\20221230\\20221230_E_cow\\20221230_152538_8796.mkv: 1088x1088 1 cow, 21.6ms\n",
      "WARNING  'Masks.masks' is deprecated. Use 'Masks.data' instead.\n",
      "video 1/1 (773/3933) D:\\815_CowDataChecking\\20221230\\20221230_E_cow\\20221230_152538_8796.mkv: 1088x1088 1 cow, 24.5ms\n",
      "video 1/1 (774/3933) D:\\815_CowDataChecking\\20221230\\20221230_E_cow\\20221230_152538_8796.mkv: 1088x1088 1 cow, 24.4ms\n",
      "WARNING  'Masks.masks' is deprecated. Use 'Masks.data' instead.\n",
      "video 1/1 (775/3933) D:\\815_CowDataChecking\\20221230\\20221230_E_cow\\20221230_152538_8796.mkv: 1088x1088 1 cow, 23.4ms\n",
      "WARNING  'Masks.masks' is deprecated. Use 'Masks.data' instead.\n",
      "video 1/1 (776/3933) D:\\815_CowDataChecking\\20221230\\20221230_E_cow\\20221230_152538_8796.mkv: 1088x1088 1 cow, 20.0ms\n",
      "video 1/1 (777/3933) D:\\815_CowDataChecking\\20221230\\20221230_E_cow\\20221230_152538_8796.mkv: 1088x1088 1 cow, 17.1ms\n",
      "WARNING  'Masks.masks' is deprecated. Use 'Masks.data' instead.\n",
      "video 1/1 (778/3933) D:\\815_CowDataChecking\\20221230\\20221230_E_cow\\20221230_152538_8796.mkv: 1088x1088 1 cow, 23.6ms\n",
      "WARNING  'Masks.masks' is deprecated. Use 'Masks.data' instead.\n",
      "video 1/1 (779/3933) D:\\815_CowDataChecking\\20221230\\20221230_E_cow\\20221230_152538_8796.mkv: 1088x1088 1 cow, 30.4ms\n",
      "video 1/1 (780/3933) D:\\815_CowDataChecking\\20221230\\20221230_E_cow\\20221230_152538_8796.mkv: 1088x1088 1 cow, 17.9ms\n",
      "WARNING  'Masks.masks' is deprecated. Use 'Masks.data' instead.\n",
      "video 1/1 (781/3933) D:\\815_CowDataChecking\\20221230\\20221230_E_cow\\20221230_152538_8796.mkv: 1088x1088 1 cow, 16.0ms\n",
      "WARNING  'Masks.masks' is deprecated. Use 'Masks.data' instead.\n",
      "video 1/1 (782/3933) D:\\815_CowDataChecking\\20221230\\20221230_E_cow\\20221230_152538_8796.mkv: 1088x1088 1 cow, 21.0ms\n",
      "video 1/1 (783/3933) D:\\815_CowDataChecking\\20221230\\20221230_E_cow\\20221230_152538_8796.mkv: 1088x1088 1 cow, 24.6ms\n",
      "WARNING  'Masks.masks' is deprecated. Use 'Masks.data' instead.\n",
      "video 1/1 (784/3933) D:\\815_CowDataChecking\\20221230\\20221230_E_cow\\20221230_152538_8796.mkv: 1088x1088 1 cow, 22.7ms\n",
      "WARNING  'Masks.masks' is deprecated. Use 'Masks.data' instead.\n",
      "video 1/1 (785/3933) D:\\815_CowDataChecking\\20221230\\20221230_E_cow\\20221230_152538_8796.mkv: 1088x1088 1 cow, 30.5ms\n",
      "video 1/1 (786/3933) D:\\815_CowDataChecking\\20221230\\20221230_E_cow\\20221230_152538_8796.mkv: 1088x1088 1 cow, 19.9ms\n",
      "WARNING  'Masks.masks' is deprecated. Use 'Masks.data' instead.\n",
      "video 1/1 (787/3933) D:\\815_CowDataChecking\\20221230\\20221230_E_cow\\20221230_152538_8796.mkv: 1088x1088 1 cow, 21.7ms\n",
      "WARNING  'Masks.masks' is deprecated. Use 'Masks.data' instead.\n",
      "video 1/1 (788/3933) D:\\815_CowDataChecking\\20221230\\20221230_E_cow\\20221230_152538_8796.mkv: 1088x1088 1 cow, 26.4ms\n",
      "video 1/1 (789/3933) D:\\815_CowDataChecking\\20221230\\20221230_E_cow\\20221230_152538_8796.mkv: 1088x1088 1 cow, 23.0ms\n",
      "WARNING  'Masks.masks' is deprecated. Use 'Masks.data' instead.\n",
      "video 1/1 (790/3933) D:\\815_CowDataChecking\\20221230\\20221230_E_cow\\20221230_152538_8796.mkv: 1088x1088 1 cow, 22.9ms\n",
      "WARNING  'Masks.masks' is deprecated. Use 'Masks.data' instead.\n",
      "video 1/1 (791/3933) D:\\815_CowDataChecking\\20221230\\20221230_E_cow\\20221230_152538_8796.mkv: 1088x1088 1 cow, 29.2ms\n",
      "video 1/1 (792/3933) D:\\815_CowDataChecking\\20221230\\20221230_E_cow\\20221230_152538_8796.mkv: 1088x1088 1 cow, 25.0ms\n",
      "WARNING  'Masks.masks' is deprecated. Use 'Masks.data' instead.\n",
      "video 1/1 (793/3933) D:\\815_CowDataChecking\\20221230\\20221230_E_cow\\20221230_152538_8796.mkv: 1088x1088 1 cow, 22.3ms\n",
      "WARNING  'Masks.masks' is deprecated. Use 'Masks.data' instead.\n",
      "video 1/1 (794/3933) D:\\815_CowDataChecking\\20221230\\20221230_E_cow\\20221230_152538_8796.mkv: 1088x1088 1 cow, 26.7ms\n",
      "video 1/1 (795/3933) D:\\815_CowDataChecking\\20221230\\20221230_E_cow\\20221230_152538_8796.mkv: 1088x1088 1 cow, 22.1ms\n",
      "WARNING  'Masks.masks' is deprecated. Use 'Masks.data' instead.\n",
      "video 1/1 (796/3933) D:\\815_CowDataChecking\\20221230\\20221230_E_cow\\20221230_152538_8796.mkv: 1088x1088 1 cow, 23.6ms\n",
      "WARNING  'Masks.masks' is deprecated. Use 'Masks.data' instead.\n",
      "video 1/1 (797/3933) D:\\815_CowDataChecking\\20221230\\20221230_E_cow\\20221230_152538_8796.mkv: 1088x1088 1 cow, 18.2ms\n",
      "video 1/1 (798/3933) D:\\815_CowDataChecking\\20221230\\20221230_E_cow\\20221230_152538_8796.mkv: 1088x1088 1 cow, 23.9ms\n",
      "WARNING  'Masks.masks' is deprecated. Use 'Masks.data' instead.\n",
      "video 1/1 (799/3933) D:\\815_CowDataChecking\\20221230\\20221230_E_cow\\20221230_152538_8796.mkv: 1088x1088 1 cow, 24.9ms\n",
      "WARNING  'Masks.masks' is deprecated. Use 'Masks.data' instead.\n",
      "video 1/1 (800/3933) D:\\815_CowDataChecking\\20221230\\20221230_E_cow\\20221230_152538_8796.mkv: 1088x1088 1 cow, 24.9ms\n",
      "video 1/1 (801/3933) D:\\815_CowDataChecking\\20221230\\20221230_E_cow\\20221230_152538_8796.mkv: 1088x1088 1 cow, 21.8ms\n",
      "WARNING  'Masks.masks' is deprecated. Use 'Masks.data' instead.\n",
      "video 1/1 (802/3933) D:\\815_CowDataChecking\\20221230\\20221230_E_cow\\20221230_152538_8796.mkv: 1088x1088 1 cow, 24.1ms\n",
      "WARNING  'Masks.masks' is deprecated. Use 'Masks.data' instead.\n",
      "video 1/1 (803/3933) D:\\815_CowDataChecking\\20221230\\20221230_E_cow\\20221230_152538_8796.mkv: 1088x1088 1 cow, 21.0ms\n",
      "video 1/1 (804/3933) D:\\815_CowDataChecking\\20221230\\20221230_E_cow\\20221230_152538_8796.mkv: 1088x1088 1 cow, 22.5ms\n",
      "WARNING  'Masks.masks' is deprecated. Use 'Masks.data' instead.\n"
     ]
    },
    {
     "name": "stdout",
     "output_type": "stream",
     "text": [
      "White Percentage of 1: 12.10%\n",
      "1/1 [==============================] - 0s 135ms/step\n",
      "VGG took  0.17329907417297363\n"
     ]
    },
    {
     "name": "stderr",
     "output_type": "stream",
     "text": [
      "video 1/1 (805/3933) D:\\815_CowDataChecking\\20221230\\20221230_E_cow\\20221230_152538_8796.mkv: 1088x1088 1 cow, 21.9ms\n",
      "WARNING  'Masks.masks' is deprecated. Use 'Masks.data' instead.\n"
     ]
    },
    {
     "name": "stdout",
     "output_type": "stream",
     "text": [
      "SVM took  0.9952237606048584\n",
      "LOOPING result took  0.0\n",
      "identification used  -1.1695208549499512\n",
      "[['ID', 'COLOR', 'RANK1', 'RANK1_prob', 'RANK2', 'RANK2_prob']]\n",
      "new cattle  xxxxxxxxxxxxxxxxxxxxx new cattle alert \n",
      "White Percentage of 1: 12.50%\n",
      "1/1 [==============================] - 0s 57ms/step\n",
      "VGG took  0.09455180168151855\n"
     ]
    },
    {
     "name": "stderr",
     "output_type": "stream",
     "text": [
      "video 1/1 (806/3933) D:\\815_CowDataChecking\\20221230\\20221230_E_cow\\20221230_152538_8796.mkv: 1088x1088 1 cow, 43.9ms\n",
      "video 1/1 (807/3933) D:\\815_CowDataChecking\\20221230\\20221230_E_cow\\20221230_152538_8796.mkv: 1088x1088 1 cow, 98.9ms\n"
     ]
    },
    {
     "name": "stdout",
     "output_type": "stream",
     "text": [
      "SVM took  1.0336048603057861\n",
      "LOOPING result took  0.0\n",
      "identification used  -1.1281566619873047\n"
     ]
    },
    {
     "name": "stderr",
     "output_type": "stream",
     "text": [
      "WARNING  'Masks.masks' is deprecated. Use 'Masks.data' instead.\n"
     ]
    },
    {
     "name": "stdout",
     "output_type": "stream",
     "text": [
      "White Percentage of 1: 10.06%\n",
      "1/1 [==============================] - 0s 63ms/step\n",
      "VGG took  0.08996915817260742\n"
     ]
    },
    {
     "name": "stderr",
     "output_type": "stream",
     "text": [
      "video 1/1 (808/3933) D:\\815_CowDataChecking\\20221230\\20221230_E_cow\\20221230_152538_8796.mkv: 1088x1088 1 cow, 101.7ms\n",
      "WARNING  'Masks.masks' is deprecated. Use 'Masks.data' instead.\n"
     ]
    },
    {
     "name": "stdout",
     "output_type": "stream",
     "text": [
      "SVM took  1.04768967628479\n",
      "LOOPING result took  0.0\n",
      "identification used  -1.1376588344573975\n",
      "White Percentage of 1: 9.70%\n",
      "1/1 [==============================] - 0s 72ms/step\n",
      "VGG took  0.09035062789916992\n"
     ]
    },
    {
     "name": "stderr",
     "output_type": "stream",
     "text": [
      "video 1/1 (809/3933) D:\\815_CowDataChecking\\20221230\\20221230_E_cow\\20221230_152538_8796.mkv: 1088x1088 1 cow, 86.3ms\n",
      "video 1/1 (810/3933) D:\\815_CowDataChecking\\20221230\\20221230_E_cow\\20221230_152538_8796.mkv: 1088x1088 1 cow, 80.3ms\n"
     ]
    },
    {
     "name": "stdout",
     "output_type": "stream",
     "text": [
      "SVM took  1.0502538681030273\n",
      "LOOPING result took  0.0\n",
      "identification used  -1.1416058540344238\n"
     ]
    },
    {
     "name": "stderr",
     "output_type": "stream",
     "text": [
      "WARNING  'Masks.masks' is deprecated. Use 'Masks.data' instead.\n"
     ]
    },
    {
     "name": "stdout",
     "output_type": "stream",
     "text": [
      "White Percentage of 1: 8.91%\n",
      "1/1 [==============================] - 0s 57ms/step\n",
      "VGG took  0.08139204978942871\n"
     ]
    },
    {
     "name": "stderr",
     "output_type": "stream",
     "text": [
      "video 1/1 (811/3933) D:\\815_CowDataChecking\\20221230\\20221230_E_cow\\20221230_152538_8796.mkv: 1088x1088 1 cow, 84.7ms\n",
      "WARNING  'Masks.masks' is deprecated. Use 'Masks.data' instead.\n"
     ]
    },
    {
     "name": "stdout",
     "output_type": "stream",
     "text": [
      "SVM took  1.0261740684509277\n",
      "LOOPING result took  0.0\n",
      "identification used  -1.1075661182403564\n",
      "White Percentage of 1: 8.17%\n",
      "1/1 [==============================] - 0s 55ms/step\n",
      "VGG took  0.07983756065368652\n"
     ]
    },
    {
     "name": "stderr",
     "output_type": "stream",
     "text": [
      "video 1/1 (812/3933) D:\\815_CowDataChecking\\20221230\\20221230_E_cow\\20221230_152538_8796.mkv: 1088x1088 1 cow, 15.1ms\n",
      "video 1/1 (813/3933) D:\\815_CowDataChecking\\20221230\\20221230_E_cow\\20221230_152538_8796.mkv: 1088x1088 1 cow, 90.9ms\n"
     ]
    },
    {
     "name": "stdout",
     "output_type": "stream",
     "text": [
      "SVM took  1.0352842807769775\n",
      "LOOPING result took  0.0\n",
      "identification used  -1.115121841430664\n"
     ]
    },
    {
     "name": "stderr",
     "output_type": "stream",
     "text": [
      "WARNING  'Masks.masks' is deprecated. Use 'Masks.data' instead.\n"
     ]
    },
    {
     "name": "stdout",
     "output_type": "stream",
     "text": [
      "White Percentage of 1: 7.92%\n",
      "1/1 [==============================] - 0s 58ms/step\n",
      "VGG took  0.08124208450317383\n"
     ]
    },
    {
     "name": "stderr",
     "output_type": "stream",
     "text": [
      "video 1/1 (814/3933) D:\\815_CowDataChecking\\20221230\\20221230_E_cow\\20221230_152538_8796.mkv: 1088x1088 2 cows, 75.9ms\n",
      "WARNING  'Masks.masks' is deprecated. Use 'Masks.data' instead.\n"
     ]
    },
    {
     "name": "stdout",
     "output_type": "stream",
     "text": [
      "SVM took  1.0363085269927979\n",
      "LOOPING result took  0.0\n",
      "identification used  -1.1175506114959717\n",
      "White Percentage of 1: 7.22%\n",
      "1/1 [==============================] - 0s 65ms/step\n",
      "VGG took  0.08307099342346191\n"
     ]
    },
    {
     "name": "stderr",
     "output_type": "stream",
     "text": [
      "video 1/1 (815/3933) D:\\815_CowDataChecking\\20221230\\20221230_E_cow\\20221230_152538_8796.mkv: 1088x1088 1 cow, 70.4ms\n",
      "video 1/1 (816/3933) D:\\815_CowDataChecking\\20221230\\20221230_E_cow\\20221230_152538_8796.mkv: 1088x1088 2 cows, 73.7ms\n"
     ]
    },
    {
     "name": "stdout",
     "output_type": "stream",
     "text": [
      "SVM took  1.0356292724609375\n",
      "LOOPING result took  0.0\n",
      "identification used  -1.1187002658843994\n"
     ]
    },
    {
     "name": "stderr",
     "output_type": "stream",
     "text": [
      "WARNING  'Masks.masks' is deprecated. Use 'Masks.data' instead.\n"
     ]
    },
    {
     "name": "stdout",
     "output_type": "stream",
     "text": [
      "White Percentage of 1: 7.42%\n",
      "1/1 [==============================] - 0s 63ms/step\n",
      "VGG took  0.08836603164672852\n"
     ]
    },
    {
     "name": "stderr",
     "output_type": "stream",
     "text": [
      "video 1/1 (817/3933) D:\\815_CowDataChecking\\20221230\\20221230_E_cow\\20221230_152538_8796.mkv: 1088x1088 2 cows, 79.6ms\n",
      "WARNING  'Masks.masks' is deprecated. Use 'Masks.data' instead.\n"
     ]
    },
    {
     "name": "stdout",
     "output_type": "stream",
     "text": [
      "SVM took  1.0379633903503418\n",
      "LOOPING result took  0.0\n",
      "identification used  -1.1263294219970703\n",
      "White Percentage of 1: 9.66%\n",
      "1/1 [==============================] - 0s 64ms/step\n",
      "VGG took  0.08768153190612793\n"
     ]
    },
    {
     "name": "stderr",
     "output_type": "stream",
     "text": [
      "video 1/1 (818/3933) D:\\815_CowDataChecking\\20221230\\20221230_E_cow\\20221230_152538_8796.mkv: 1088x1088 2 cows, 24.8ms\n",
      "video 1/1 (819/3933) D:\\815_CowDataChecking\\20221230\\20221230_E_cow\\20221230_152538_8796.mkv: 1088x1088 2 cows, 80.9ms\n"
     ]
    },
    {
     "name": "stdout",
     "output_type": "stream",
     "text": [
      "SVM took  1.0406522750854492\n",
      "LOOPING result took  0.0\n",
      "identification used  -1.1283338069915771\n"
     ]
    },
    {
     "name": "stderr",
     "output_type": "stream",
     "text": [
      "WARNING  'Masks.masks' is deprecated. Use 'Masks.data' instead.\n"
     ]
    },
    {
     "name": "stdout",
     "output_type": "stream",
     "text": [
      "White Percentage of 1: 11.63%\n",
      "1/1 [==============================] - 0s 66ms/step\n",
      "VGG took  0.09045004844665527\n"
     ]
    },
    {
     "name": "stderr",
     "output_type": "stream",
     "text": [
      "video 1/1 (820/3933) D:\\815_CowDataChecking\\20221230\\20221230_E_cow\\20221230_152538_8796.mkv: 1088x1088 2 cows, 75.5ms\n",
      "WARNING  'Masks.masks' is deprecated. Use 'Masks.data' instead.\n"
     ]
    },
    {
     "name": "stdout",
     "output_type": "stream",
     "text": [
      "SVM took  1.051685094833374\n",
      "LOOPING result took  0.0\n",
      "identification used  -1.1421351432800293\n",
      "White Percentage of 1: 13.63%\n",
      "1/1 [==============================] - 0s 68ms/step\n",
      "VGG took  0.09036540985107422\n"
     ]
    },
    {
     "name": "stderr",
     "output_type": "stream",
     "text": [
      "video 1/1 (821/3933) D:\\815_CowDataChecking\\20221230\\20221230_E_cow\\20221230_152538_8796.mkv: 1088x1088 1 cow, 68.4ms\n",
      "video 1/1 (822/3933) D:\\815_CowDataChecking\\20221230\\20221230_E_cow\\20221230_152538_8796.mkv: 1088x1088 2 cows, 75.3ms\n"
     ]
    },
    {
     "name": "stdout",
     "output_type": "stream",
     "text": [
      "SVM took  1.061453104019165\n",
      "LOOPING result took  0.0\n",
      "identification used  -1.1518185138702393\n"
     ]
    },
    {
     "name": "stderr",
     "output_type": "stream",
     "text": [
      "WARNING  'Masks.masks' is deprecated. Use 'Masks.data' instead.\n"
     ]
    },
    {
     "name": "stdout",
     "output_type": "stream",
     "text": [
      "White Percentage of 1: 12.63%\n",
      "1/1 [==============================] - 0s 68ms/step\n",
      "VGG took  0.09971141815185547\n"
     ]
    },
    {
     "name": "stderr",
     "output_type": "stream",
     "text": [
      "video 1/1 (823/3933) D:\\815_CowDataChecking\\20221230\\20221230_E_cow\\20221230_152538_8796.mkv: 1088x1088 2 cows, 70.8ms\n",
      "WARNING  'Masks.masks' is deprecated. Use 'Masks.data' instead.\n"
     ]
    },
    {
     "name": "stdout",
     "output_type": "stream",
     "text": [
      "SVM took  1.037635087966919\n",
      "LOOPING result took  0.0\n",
      "identification used  -1.1373465061187744\n",
      "White Percentage of 1: 11.61%\n",
      "1/1 [==============================] - 0s 67ms/step\n",
      "VGG took  0.0892186164855957\n"
     ]
    },
    {
     "name": "stderr",
     "output_type": "stream",
     "text": [
      "video 1/1 (824/3933) D:\\815_CowDataChecking\\20221230\\20221230_E_cow\\20221230_152538_8796.mkv: 1088x1088 2 cows, 67.4ms\n",
      "video 1/1 (825/3933) D:\\815_CowDataChecking\\20221230\\20221230_E_cow\\20221230_152538_8796.mkv: 1088x1088 2 cows, 70.0ms\n"
     ]
    },
    {
     "name": "stdout",
     "output_type": "stream",
     "text": [
      "SVM took  1.0399348735809326\n",
      "LOOPING result took  0.0\n",
      "identification used  -1.1291534900665283\n"
     ]
    },
    {
     "name": "stderr",
     "output_type": "stream",
     "text": [
      "WARNING  'Masks.masks' is deprecated. Use 'Masks.data' instead.\n"
     ]
    },
    {
     "name": "stdout",
     "output_type": "stream",
     "text": [
      "White Percentage of 1: 11.69%\n",
      "1/1 [==============================] - 0s 59ms/step\n",
      "VGG took  0.08562231063842773\n"
     ]
    },
    {
     "name": "stderr",
     "output_type": "stream",
     "text": [
      "video 1/1 (826/3933) D:\\815_CowDataChecking\\20221230\\20221230_E_cow\\20221230_152538_8796.mkv: 1088x1088 2 cows, 72.9ms\n",
      "WARNING  'Masks.masks' is deprecated. Use 'Masks.data' instead.\n"
     ]
    },
    {
     "name": "stdout",
     "output_type": "stream",
     "text": [
      "SVM took  1.0480787754058838\n",
      "LOOPING result took  0.0\n",
      "identification used  -1.1337010860443115\n",
      "White Percentage of 1: 12.56%\n",
      "1/1 [==============================] - 0s 55ms/step\n",
      "VGG took  0.08347153663635254\n"
     ]
    },
    {
     "name": "stderr",
     "output_type": "stream",
     "text": [
      "video 1/1 (827/3933) D:\\815_CowDataChecking\\20221230\\20221230_E_cow\\20221230_152538_8796.mkv: 1088x1088 2 cows, 11.0ms\n",
      "video 1/1 (828/3933) D:\\815_CowDataChecking\\20221230\\20221230_E_cow\\20221230_152538_8796.mkv: 1088x1088 2 cows, 33.2ms\n",
      "WARNING  'Masks.masks' is deprecated. Use 'Masks.data' instead.\n"
     ]
    },
    {
     "name": "stdout",
     "output_type": "stream",
     "text": [
      "SVM took  1.0772392749786377\n",
      "LOOPING result took  0.0\n",
      "identification used  -1.1607108116149902\n",
      "White Percentage of 1: 19.27%\n",
      "1/1 [==============================] - 0s 64ms/step\n",
      "VGG took  0.08541584014892578\n"
     ]
    },
    {
     "name": "stderr",
     "output_type": "stream",
     "text": [
      "video 1/1 (829/3933) D:\\815_CowDataChecking\\20221230\\20221230_E_cow\\20221230_152538_8796.mkv: 1088x1088 2 cows, 34.7ms\n",
      "WARNING  'Masks.masks' is deprecated. Use 'Masks.data' instead.\n"
     ]
    },
    {
     "name": "stdout",
     "output_type": "stream",
     "text": [
      "SVM took  1.115501880645752\n",
      "LOOPING result took  0.0\n",
      "identification used  -1.2009177207946777\n",
      "White Percentage of 1: 16.65%\n",
      "1/1 [==============================] - 0s 71ms/step\n",
      "VGG took  0.10359978675842285\n"
     ]
    },
    {
     "name": "stderr",
     "output_type": "stream",
     "text": [
      "video 1/1 (830/3933) D:\\815_CowDataChecking\\20221230\\20221230_E_cow\\20221230_152538_8796.mkv: 1088x1088 2 cows, 93.5ms\n"
     ]
    },
    {
     "name": "stdout",
     "output_type": "stream",
     "text": [
      "SVM took  1.2209069728851318\n",
      "LOOPING result took  0.0\n",
      "identification used  -1.3255131244659424\n"
     ]
    },
    {
     "name": "stderr",
     "output_type": "stream",
     "text": [
      "video 1/1 (831/3933) D:\\815_CowDataChecking\\20221230\\20221230_E_cow\\20221230_152538_8796.mkv: 1088x1088 2 cows, 196.2ms\n",
      "WARNING  'Masks.masks' is deprecated. Use 'Masks.data' instead.\n"
     ]
    },
    {
     "name": "stdout",
     "output_type": "stream",
     "text": [
      "White Percentage of 1: 12.18%\n",
      "1/1 [==============================] - 0s 68ms/step\n",
      "VGG took  0.09033083915710449\n"
     ]
    },
    {
     "name": "stderr",
     "output_type": "stream",
     "text": [
      "video 1/1 (832/3933) D:\\815_CowDataChecking\\20221230\\20221230_E_cow\\20221230_152538_8796.mkv: 1088x1088 2 cows, 14.1ms\n",
      "WARNING  'Masks.masks' is deprecated. Use 'Masks.data' instead.\n"
     ]
    },
    {
     "name": "stdout",
     "output_type": "stream",
     "text": [
      "SVM took  1.1055231094360352\n",
      "LOOPING result took  0.0\n",
      "identification used  -1.1973578929901123\n",
      "White Percentage of 1: 9.98%\n",
      "1/1 [==============================] - 0s 57ms/step\n",
      "VGG took  0.08354830741882324\n"
     ]
    },
    {
     "name": "stderr",
     "output_type": "stream",
     "text": [
      "video 1/1 (833/3933) D:\\815_CowDataChecking\\20221230\\20221230_E_cow\\20221230_152538_8796.mkv: 1088x1088 2 cows, 10.6ms\n",
      "video 1/1 (834/3933) D:\\815_CowDataChecking\\20221230\\20221230_E_cow\\20221230_152538_8796.mkv: 1088x1088 2 cows, 93.7ms\n"
     ]
    },
    {
     "name": "stdout",
     "output_type": "stream",
     "text": [
      "SVM took  1.096548318862915\n",
      "LOOPING result took  0.0\n",
      "identification used  -1.1800966262817383\n"
     ]
    },
    {
     "name": "stderr",
     "output_type": "stream",
     "text": [
      "WARNING  'Masks.masks' is deprecated. Use 'Masks.data' instead.\n"
     ]
    },
    {
     "name": "stdout",
     "output_type": "stream",
     "text": [
      "White Percentage of 1: 17.22%\n",
      "1/1 [==============================] - 0s 66ms/step\n",
      "VGG took  0.09975337982177734\n"
     ]
    },
    {
     "name": "stderr",
     "output_type": "stream",
     "text": [
      "video 1/1 (835/3933) D:\\815_CowDataChecking\\20221230\\20221230_E_cow\\20221230_152538_8796.mkv: 1088x1088 2 cows, 66.9ms\n",
      "WARNING  'Masks.masks' is deprecated. Use 'Masks.data' instead.\n"
     ]
    },
    {
     "name": "stdout",
     "output_type": "stream",
     "text": [
      "SVM took  1.1112842559814453\n",
      "LOOPING result took  0.0\n",
      "identification used  -1.2110376358032227\n",
      "White Percentage of 1: 13.11%\n",
      "1/1 [==============================] - 0s 55ms/step\n",
      "VGG took  0.0901944637298584\n"
     ]
    },
    {
     "name": "stderr",
     "output_type": "stream",
     "text": [
      "video 1/1 (836/3933) D:\\815_CowDataChecking\\20221230\\20221230_E_cow\\20221230_152538_8796.mkv: 1088x1088 2 cows, 77.2ms\n"
     ]
    },
    {
     "name": "stdout",
     "output_type": "stream",
     "text": [
      "SVM took  1.1135306358337402\n",
      "LOOPING result took  0.0\n",
      "identification used  -1.2037250995635986\n"
     ]
    },
    {
     "name": "stderr",
     "output_type": "stream",
     "text": [
      "video 1/1 (837/3933) D:\\815_CowDataChecking\\20221230\\20221230_E_cow\\20221230_152538_8796.mkv: 1088x1088 2 cows, 186.7ms\n",
      "WARNING  'Masks.masks' is deprecated. Use 'Masks.data' instead.\n"
     ]
    },
    {
     "name": "stdout",
     "output_type": "stream",
     "text": [
      "White Percentage of 1: 10.49%\n",
      "1/1 [==============================] - 0s 53ms/step\n",
      "VGG took  0.0840609073638916\n"
     ]
    },
    {
     "name": "stderr",
     "output_type": "stream",
     "text": [
      "video 1/1 (838/3933) D:\\815_CowDataChecking\\20221230\\20221230_E_cow\\20221230_152538_8796.mkv: 1088x1088 2 cows, 67.1ms\n",
      "WARNING  'Masks.masks' is deprecated. Use 'Masks.data' instead.\n"
     ]
    },
    {
     "name": "stdout",
     "output_type": "stream",
     "text": [
      "SVM took  1.1160993576049805\n",
      "LOOPING result took  0.0009996891021728516\n",
      "identification used  -1.201159954071045\n",
      "White Percentage of 1: 14.97%\n",
      "1/1 [==============================] - 0s 64ms/step\n",
      "VGG took  0.08686017990112305\n"
     ]
    },
    {
     "name": "stderr",
     "output_type": "stream",
     "text": [
      "video 1/1 (839/3933) D:\\815_CowDataChecking\\20221230\\20221230_E_cow\\20221230_152538_8796.mkv: 1088x1088 2 cows, 11.3ms\n",
      "video 1/1 (840/3933) D:\\815_CowDataChecking\\20221230\\20221230_E_cow\\20221230_152538_8796.mkv: 1088x1088 2 cows, 35.2ms\n",
      "WARNING  'Masks.masks' is deprecated. Use 'Masks.data' instead.\n"
     ]
    },
    {
     "name": "stdout",
     "output_type": "stream",
     "text": [
      "SVM took  1.1241226196289062\n",
      "LOOPING result took  0.0018014907836914062\n",
      "identification used  -1.2127842903137207\n",
      "White Percentage of 1: 12.45%\n",
      "1/1 [==============================] - 0s 58ms/step\n",
      "VGG took  0.08915019035339355\n"
     ]
    },
    {
     "name": "stderr",
     "output_type": "stream",
     "text": [
      "video 1/1 (841/3933) D:\\815_CowDataChecking\\20221230\\20221230_E_cow\\20221230_152538_8796.mkv: 1088x1088 2 cows, 35.0ms\n",
      "WARNING  'Masks.masks' is deprecated. Use 'Masks.data' instead.\n"
     ]
    },
    {
     "name": "stdout",
     "output_type": "stream",
     "text": [
      "SVM took  1.1343510150909424\n",
      "LOOPING result took  0.0\n",
      "identification used  -1.223501205444336\n",
      "White Percentage of 1: 13.71%\n",
      "1/1 [==============================] - 0s 59ms/step\n",
      "VGG took  0.0807650089263916\n"
     ]
    },
    {
     "name": "stderr",
     "output_type": "stream",
     "text": [
      "video 1/1 (842/3933) D:\\815_CowDataChecking\\20221230\\20221230_E_cow\\20221230_152538_8796.mkv: 1088x1088 2 cows, 93.4ms\n",
      "video 1/1 (843/3933) D:\\815_CowDataChecking\\20221230\\20221230_E_cow\\20221230_152538_8796.mkv: 1088x1088 2 cows, 75.1ms\n"
     ]
    },
    {
     "name": "stdout",
     "output_type": "stream",
     "text": [
      "SVM took  1.0386509895324707\n",
      "LOOPING result took  0.0\n",
      "identification used  -1.1194159984588623\n"
     ]
    },
    {
     "name": "stderr",
     "output_type": "stream",
     "text": [
      "WARNING  'Masks.masks' is deprecated. Use 'Masks.data' instead.\n",
      "video 1/1 (844/3933) D:\\815_CowDataChecking\\20221230\\20221230_E_cow\\20221230_152538_8796.mkv: 1088x1088 2 cows, 76.7ms\n",
      "WARNING  'Masks.masks' is deprecated. Use 'Masks.data' instead.\n",
      "video 1/1 (845/3933) D:\\815_CowDataChecking\\20221230\\20221230_E_cow\\20221230_152538_8796.mkv: 1088x1088 2 cows, 73.5ms\n",
      "video 1/1 (846/3933) D:\\815_CowDataChecking\\20221230\\20221230_E_cow\\20221230_152538_8796.mkv: 1088x1088 2 cows, 17.2ms\n",
      "WARNING  'Masks.masks' is deprecated. Use 'Masks.data' instead.\n",
      "video 1/1 (847/3933) D:\\815_CowDataChecking\\20221230\\20221230_E_cow\\20221230_152538_8796.mkv: 1088x1088 2 cows, 16.2ms\n",
      "WARNING  'Masks.masks' is deprecated. Use 'Masks.data' instead.\n",
      "video 1/1 (848/3933) D:\\815_CowDataChecking\\20221230\\20221230_E_cow\\20221230_152538_8796.mkv: 1088x1088 2 cows, 14.6ms\n",
      "video 1/1 (849/3933) D:\\815_CowDataChecking\\20221230\\20221230_E_cow\\20221230_152538_8796.mkv: 1088x1088 2 cows, 16.4ms\n",
      "WARNING  'Masks.masks' is deprecated. Use 'Masks.data' instead.\n",
      "video 1/1 (850/3933) D:\\815_CowDataChecking\\20221230\\20221230_E_cow\\20221230_152538_8796.mkv: 1088x1088 2 cows, 15.3ms\n",
      "WARNING  'Masks.masks' is deprecated. Use 'Masks.data' instead.\n"
     ]
    },
    {
     "name": "stdout",
     "output_type": "stream",
     "text": [
      "White Percentage of 2: 16.88%\n",
      "1/1 [==============================] - 0s 59ms/step\n",
      "VGG took  0.08133649826049805\n"
     ]
    },
    {
     "name": "stderr",
     "output_type": "stream",
     "text": [
      "video 1/1 (851/3933) D:\\815_CowDataChecking\\20221230\\20221230_E_cow\\20221230_152538_8796.mkv: 1088x1088 2 cows, 16.5ms\n",
      "video 1/1 (852/3933) D:\\815_CowDataChecking\\20221230\\20221230_E_cow\\20221230_152538_8796.mkv: 1088x1088 2 cows, 16.2ms\n",
      "WARNING  'Masks.masks' is deprecated. Use 'Masks.data' instead.\n"
     ]
    },
    {
     "name": "stdout",
     "output_type": "stream",
     "text": [
      "SVM took  1.061159610748291\n",
      "LOOPING result took  0.0\n",
      "identification used  -1.1429924964904785\n",
      "[['ID', 'COLOR', 'RANK1', 'RANK1_prob', 'RANK2', 'RANK2_prob']]\n",
      "new cattle  xxxxxxxxxxxxxxxxxxxxx new cattle alert \n",
      "White Percentage of 2: 13.43%\n",
      "1/1 [==============================] - 0s 60ms/step\n",
      "VGG took  0.07954716682434082\n"
     ]
    },
    {
     "name": "stderr",
     "output_type": "stream",
     "text": [
      "video 1/1 (853/3933) D:\\815_CowDataChecking\\20221230\\20221230_E_cow\\20221230_152538_8796.mkv: 1088x1088 2 cows, 15.0ms\n",
      "WARNING  'Masks.masks' is deprecated. Use 'Masks.data' instead.\n"
     ]
    },
    {
     "name": "stdout",
     "output_type": "stream",
     "text": [
      "SVM took  1.0669398307800293\n",
      "LOOPING result took  0.0\n",
      "identification used  -1.1464869976043701\n",
      "White Percentage of 2: 14.93%\n",
      "1/1 [==============================] - 0s 62ms/step\n",
      "VGG took  0.08340001106262207\n"
     ]
    },
    {
     "name": "stderr",
     "output_type": "stream",
     "text": [
      "video 1/1 (854/3933) D:\\815_CowDataChecking\\20221230\\20221230_E_cow\\20221230_152538_8796.mkv: 1088x1088 2 cows, 70.0ms\n",
      "video 1/1 (855/3933) D:\\815_CowDataChecking\\20221230\\20221230_E_cow\\20221230_152538_8796.mkv: 1088x1088 2 cows, 80.1ms\n"
     ]
    },
    {
     "name": "stdout",
     "output_type": "stream",
     "text": [
      "SVM took  1.0055406093597412\n",
      "LOOPING result took  0.0\n",
      "identification used  -1.0889406204223633\n"
     ]
    },
    {
     "name": "stderr",
     "output_type": "stream",
     "text": [
      "WARNING  'Masks.masks' is deprecated. Use 'Masks.data' instead.\n"
     ]
    },
    {
     "name": "stdout",
     "output_type": "stream",
     "text": [
      "White Percentage of 2: 14.93%\n",
      "1/1 [==============================] - 0s 60ms/step\n",
      "VGG took  0.07307076454162598\n"
     ]
    },
    {
     "name": "stderr",
     "output_type": "stream",
     "text": [
      "video 1/1 (856/3933) D:\\815_CowDataChecking\\20221230\\20221230_E_cow\\20221230_152538_8796.mkv: 1088x1088 2 cows, 70.3ms\n",
      "WARNING  'Masks.masks' is deprecated. Use 'Masks.data' instead.\n"
     ]
    },
    {
     "name": "stdout",
     "output_type": "stream",
     "text": [
      "SVM took  1.0234436988830566\n",
      "LOOPING result took  0.0\n",
      "identification used  -1.0965144634246826\n",
      "White Percentage of 2: 16.64%\n",
      "1/1 [==============================] - 0s 51ms/step\n",
      "VGG took  0.08202624320983887\n"
     ]
    },
    {
     "name": "stderr",
     "output_type": "stream",
     "text": [
      "video 1/1 (857/3933) D:\\815_CowDataChecking\\20221230\\20221230_E_cow\\20221230_152538_8796.mkv: 1088x1088 2 cows, 70.2ms\n",
      "video 1/1 (858/3933) D:\\815_CowDataChecking\\20221230\\20221230_E_cow\\20221230_152538_8796.mkv: 1088x1088 2 cows, 74.5ms\n"
     ]
    },
    {
     "name": "stdout",
     "output_type": "stream",
     "text": [
      "SVM took  1.0218560695648193\n",
      "LOOPING result took  0.0\n",
      "identification used  -1.1038823127746582\n"
     ]
    },
    {
     "name": "stderr",
     "output_type": "stream",
     "text": [
      "WARNING  'Masks.masks' is deprecated. Use 'Masks.data' instead.\n"
     ]
    },
    {
     "name": "stdout",
     "output_type": "stream",
     "text": [
      "White Percentage of 2: 11.29%\n",
      "1/1 [==============================] - 0s 60ms/step\n",
      "VGG took  0.07318544387817383\n"
     ]
    },
    {
     "name": "stderr",
     "output_type": "stream",
     "text": [
      "video 1/1 (859/3933) D:\\815_CowDataChecking\\20221230\\20221230_E_cow\\20221230_152538_8796.mkv: 1088x1088 2 cows, 62.4ms\n",
      "WARNING  'Masks.masks' is deprecated. Use 'Masks.data' instead.\n"
     ]
    },
    {
     "name": "stdout",
     "output_type": "stream",
     "text": [
      "SVM took  1.0268869400024414\n",
      "LOOPING result took  0.0\n",
      "identification used  -1.1000723838806152\n",
      "White Percentage of 2: 15.05%\n",
      "1/1 [==============================] - 0s 57ms/step\n",
      "VGG took  0.0835123062133789\n"
     ]
    },
    {
     "name": "stderr",
     "output_type": "stream",
     "text": [
      "video 1/1 (860/3933) D:\\815_CowDataChecking\\20221230\\20221230_E_cow\\20221230_152538_8796.mkv: 1088x1088 3 cows, 70.0ms\n",
      "video 1/1 (861/3933) D:\\815_CowDataChecking\\20221230\\20221230_E_cow\\20221230_152538_8796.mkv: 1088x1088 2 cows, 70.0ms\n"
     ]
    },
    {
     "name": "stdout",
     "output_type": "stream",
     "text": [
      "SVM took  1.012770414352417\n",
      "LOOPING result took  0.0\n",
      "identification used  -1.096282720565796\n"
     ]
    },
    {
     "name": "stderr",
     "output_type": "stream",
     "text": [
      "WARNING  'Masks.masks' is deprecated. Use 'Masks.data' instead.\n"
     ]
    },
    {
     "name": "stdout",
     "output_type": "stream",
     "text": [
      "White Percentage of 2: 14.10%\n",
      "1/1 [==============================] - 0s 54ms/step\n",
      "VGG took  0.07648086547851562\n"
     ]
    },
    {
     "name": "stderr",
     "output_type": "stream",
     "text": [
      "video 1/1 (862/3933) D:\\815_CowDataChecking\\20221230\\20221230_E_cow\\20221230_152538_8796.mkv: 1088x1088 2 cows, 68.8ms\n",
      "WARNING  'Masks.masks' is deprecated. Use 'Masks.data' instead.\n"
     ]
    },
    {
     "name": "stdout",
     "output_type": "stream",
     "text": [
      "SVM took  1.031238317489624\n",
      "LOOPING result took  0.0\n",
      "identification used  -1.1077191829681396\n",
      "White Percentage of 2: 14.83%\n",
      "1/1 [==============================] - 0s 57ms/step\n",
      "VGG took  0.08189272880554199\n"
     ]
    },
    {
     "name": "stderr",
     "output_type": "stream",
     "text": [
      "video 1/1 (863/3933) D:\\815_CowDataChecking\\20221230\\20221230_E_cow\\20221230_152538_8796.mkv: 1088x1088 3 cows, 60.5ms\n"
     ]
    },
    {
     "name": "stdout",
     "output_type": "stream",
     "text": [
      "SVM took  1.019592523574829\n",
      "LOOPING result took  0.0\n",
      "identification used  -1.101485252380371\n"
     ]
    },
    {
     "name": "stderr",
     "output_type": "stream",
     "text": [
      "video 1/1 (864/3933) D:\\815_CowDataChecking\\20221230\\20221230_E_cow\\20221230_152538_8796.mkv: 1088x1088 3 cows, 160.2ms\n",
      "WARNING  'Masks.masks' is deprecated. Use 'Masks.data' instead.\n"
     ]
    },
    {
     "name": "stdout",
     "output_type": "stream",
     "text": [
      "White Percentage of 2: 12.22%\n",
      "1/1 [==============================] - 0s 58ms/step\n",
      "VGG took  0.07214641571044922\n"
     ]
    },
    {
     "name": "stderr",
     "output_type": "stream",
     "text": [
      "video 1/1 (865/3933) D:\\815_CowDataChecking\\20221230\\20221230_E_cow\\20221230_152538_8796.mkv: 1088x1088 3 cows, 10.0ms\n",
      "WARNING  'Masks.masks' is deprecated. Use 'Masks.data' instead.\n"
     ]
    },
    {
     "name": "stdout",
     "output_type": "stream",
     "text": [
      "SVM took  1.038259506225586\n",
      "LOOPING result took  0.0\n",
      "identification used  -1.1104059219360352\n",
      "White Percentage of 2: 12.16%\n",
      "1/1 [==============================] - 0s 54ms/step\n",
      "VGG took  0.07991838455200195\n"
     ]
    },
    {
     "name": "stderr",
     "output_type": "stream",
     "text": [
      "video 1/1 (866/3933) D:\\815_CowDataChecking\\20221230\\20221230_E_cow\\20221230_152538_8796.mkv: 1088x1088 3 cows, 10.0ms\n",
      "video 1/1 (867/3933) D:\\815_CowDataChecking\\20221230\\20221230_E_cow\\20221230_152538_8796.mkv: 1088x1088 3 cows, 71.6ms\n"
     ]
    },
    {
     "name": "stdout",
     "output_type": "stream",
     "text": [
      "SVM took  1.0328645706176758\n",
      "LOOPING result took  0.0\n",
      "identification used  -1.113785982131958\n"
     ]
    },
    {
     "name": "stderr",
     "output_type": "stream",
     "text": [
      "WARNING  'Masks.masks' is deprecated. Use 'Masks.data' instead.\n"
     ]
    },
    {
     "name": "stdout",
     "output_type": "stream",
     "text": [
      "White Percentage of 2: 17.00%\n",
      "1/1 [==============================] - 0s 60ms/step\n",
      "VGG took  0.08037877082824707\n"
     ]
    },
    {
     "name": "stderr",
     "output_type": "stream",
     "text": [
      "video 1/1 (868/3933) D:\\815_CowDataChecking\\20221230\\20221230_E_cow\\20221230_152538_8796.mkv: 1088x1088 3 cows, 72.5ms\n",
      "WARNING  'Masks.masks' is deprecated. Use 'Masks.data' instead.\n"
     ]
    },
    {
     "name": "stdout",
     "output_type": "stream",
     "text": [
      "SVM took  1.0161330699920654\n",
      "LOOPING result took  0.0\n",
      "identification used  -1.0965118408203125\n",
      "White Percentage of 2: 18.09%\n",
      "1/1 [==============================] - 0s 60ms/step\n",
      "VGG took  0.08194208145141602\n"
     ]
    },
    {
     "name": "stderr",
     "output_type": "stream",
     "text": [
      "video 1/1 (869/3933) D:\\815_CowDataChecking\\20221230\\20221230_E_cow\\20221230_152538_8796.mkv: 1088x1088 2 cows, 70.1ms\n",
      "video 1/1 (870/3933) D:\\815_CowDataChecking\\20221230\\20221230_E_cow\\20221230_152538_8796.mkv: 1088x1088 2 cows, 70.1ms\n"
     ]
    },
    {
     "name": "stdout",
     "output_type": "stream",
     "text": [
      "SVM took  1.0448894500732422\n",
      "LOOPING result took  0.0\n",
      "identification used  -1.1268315315246582\n"
     ]
    },
    {
     "name": "stderr",
     "output_type": "stream",
     "text": [
      "WARNING  'Masks.masks' is deprecated. Use 'Masks.data' instead.\n"
     ]
    },
    {
     "name": "stdout",
     "output_type": "stream",
     "text": [
      "White Percentage of 2: 18.65%\n",
      "1/1 [==============================] - 0s 60ms/step\n",
      "VGG took  0.07966876029968262\n"
     ]
    },
    {
     "name": "stderr",
     "output_type": "stream",
     "text": [
      "video 1/1 (871/3933) D:\\815_CowDataChecking\\20221230\\20221230_E_cow\\20221230_152538_8796.mkv: 1088x1088 2 cows, 70.3ms\n",
      "WARNING  'Masks.masks' is deprecated. Use 'Masks.data' instead.\n"
     ]
    },
    {
     "name": "stdout",
     "output_type": "stream",
     "text": [
      "SVM took  1.03096342086792\n",
      "LOOPING result took  0.0\n",
      "identification used  -1.1106321811676025\n",
      "White Percentage of 2: 16.89%\n",
      "1/1 [==============================] - 0s 57ms/step\n",
      "VGG took  0.08084750175476074\n"
     ]
    },
    {
     "name": "stderr",
     "output_type": "stream",
     "text": [
      "video 1/1 (872/3933) D:\\815_CowDataChecking\\20221230\\20221230_E_cow\\20221230_152538_8796.mkv: 1088x1088 2 cows, 60.0ms\n"
     ]
    },
    {
     "name": "stdout",
     "output_type": "stream",
     "text": [
      "SVM took  1.0276727676391602\n",
      "LOOPING result took  0.0\n",
      "identification used  -1.108520269393921\n"
     ]
    },
    {
     "name": "stderr",
     "output_type": "stream",
     "text": [
      "video 1/1 (873/3933) D:\\815_CowDataChecking\\20221230\\20221230_E_cow\\20221230_152538_8796.mkv: 1088x1088 2 cows, 150.1ms\n",
      "WARNING  'Masks.masks' is deprecated. Use 'Masks.data' instead.\n"
     ]
    },
    {
     "name": "stdout",
     "output_type": "stream",
     "text": [
      "White Percentage of 2: 16.52%\n",
      "1/1 [==============================] - 0s 55ms/step\n",
      "VGG took  0.08041167259216309\n"
     ]
    },
    {
     "name": "stderr",
     "output_type": "stream",
     "text": [
      "video 1/1 (874/3933) D:\\815_CowDataChecking\\20221230\\20221230_E_cow\\20221230_152538_8796.mkv: 1088x1088 2 cows, 60.0ms\n",
      "WARNING  'Masks.masks' is deprecated. Use 'Masks.data' instead.\n"
     ]
    },
    {
     "name": "stdout",
     "output_type": "stream",
     "text": [
      "SVM took  1.0218420028686523\n",
      "LOOPING result took  0.0\n",
      "identification used  -1.1022536754608154\n",
      "White Percentage of 2: 15.26%\n",
      "1/1 [==============================] - 0s 52ms/step\n",
      "VGG took  0.07868742942810059\n"
     ]
    },
    {
     "name": "stderr",
     "output_type": "stream",
     "text": [
      "video 1/1 (875/3933) D:\\815_CowDataChecking\\20221230\\20221230_E_cow\\20221230_152538_8796.mkv: 1088x1088 2 cows, 10.0ms\n",
      "video 1/1 (876/3933) D:\\815_CowDataChecking\\20221230\\20221230_E_cow\\20221230_152538_8796.mkv: 1088x1088 2 cows, 33.6ms\n",
      "WARNING  'Masks.masks' is deprecated. Use 'Masks.data' instead.\n"
     ]
    },
    {
     "name": "stdout",
     "output_type": "stream",
     "text": [
      "SVM took  1.0252745151519775\n",
      "LOOPING result took  0.0\n",
      "identification used  -1.1039619445800781\n",
      "White Percentage of 2: 15.44%\n",
      "1/1 [==============================] - 0s 56ms/step\n",
      "VGG took  0.07968926429748535\n"
     ]
    },
    {
     "name": "stderr",
     "output_type": "stream",
     "text": [
      "video 1/1 (877/3933) D:\\815_CowDataChecking\\20221230\\20221230_E_cow\\20221230_152538_8796.mkv: 1088x1088 2 cows, 30.0ms\n",
      "WARNING  'Masks.masks' is deprecated. Use 'Masks.data' instead.\n"
     ]
    },
    {
     "name": "stdout",
     "output_type": "stream",
     "text": [
      "SVM took  1.0319364070892334\n",
      "LOOPING result took  0.0\n",
      "identification used  -1.1216275691986084\n",
      "White Percentage of 2: 15.48%\n",
      "1/1 [==============================] - 0s 64ms/step\n",
      "VGG took  0.08400297164916992\n"
     ]
    },
    {
     "name": "stderr",
     "output_type": "stream",
     "text": [
      "video 1/1 (878/3933) D:\\815_CowDataChecking\\20221230\\20221230_E_cow\\20221230_152538_8796.mkv: 1088x1088 2 cows, 50.2ms\n",
      "video 1/1 (879/3933) D:\\815_CowDataChecking\\20221230\\20221230_E_cow\\20221230_152538_8796.mkv: 1088x1088 3 cows, 90.1ms\n"
     ]
    },
    {
     "name": "stdout",
     "output_type": "stream",
     "text": [
      "SVM took  1.0289628505706787\n",
      "LOOPING result took  0.0\n",
      "identification used  -1.1129658222198486\n"
     ]
    },
    {
     "name": "stderr",
     "output_type": "stream",
     "text": [
      "WARNING  'Masks.masks' is deprecated. Use 'Masks.data' instead.\n"
     ]
    },
    {
     "name": "stdout",
     "output_type": "stream",
     "text": [
      "White Percentage of 2: 16.20%\n",
      "1/1 [==============================] - 0s 70ms/step\n",
      "VGG took  0.0752108097076416\n"
     ]
    },
    {
     "name": "stderr",
     "output_type": "stream",
     "text": [
      "video 1/1 (880/3933) D:\\815_CowDataChecking\\20221230\\20221230_E_cow\\20221230_152538_8796.mkv: 1088x1088 3 cows, 57.3ms\n",
      "WARNING  'Masks.masks' is deprecated. Use 'Masks.data' instead.\n"
     ]
    },
    {
     "name": "stdout",
     "output_type": "stream",
     "text": [
      "SVM took  1.0586535930633545\n",
      "LOOPING result took  0.0\n",
      "identification used  -1.133864402770996\n",
      "White Percentage of 2: 17.83%\n",
      "1/1 [==============================] - 0s 64ms/step\n",
      "VGG took  0.08182525634765625\n"
     ]
    },
    {
     "name": "stderr",
     "output_type": "stream",
     "text": [
      "video 1/1 (881/3933) D:\\815_CowDataChecking\\20221230\\20221230_E_cow\\20221230_152538_8796.mkv: 1088x1088 3 cows, 6.5ms\n",
      "video 1/1 (882/3933) D:\\815_CowDataChecking\\20221230\\20221230_E_cow\\20221230_152538_8796.mkv: 1088x1088 2 cows, 70.1ms\n"
     ]
    },
    {
     "name": "stdout",
     "output_type": "stream",
     "text": [
      "SVM took  1.0364224910736084\n",
      "LOOPING result took  0.0\n",
      "identification used  -1.1192150115966797\n"
     ]
    },
    {
     "name": "stderr",
     "output_type": "stream",
     "text": [
      "WARNING  'Masks.masks' is deprecated. Use 'Masks.data' instead.\n"
     ]
    },
    {
     "name": "stdout",
     "output_type": "stream",
     "text": [
      "White Percentage of 2: 16.56%\n",
      "1/1 [==============================] - 0s 60ms/step\n",
      "VGG took  0.0808861255645752\n"
     ]
    },
    {
     "name": "stderr",
     "output_type": "stream",
     "text": [
      "video 1/1 (883/3933) D:\\815_CowDataChecking\\20221230\\20221230_E_cow\\20221230_152538_8796.mkv: 1088x1088 2 cows, 67.8ms\n",
      "WARNING  'Masks.masks' is deprecated. Use 'Masks.data' instead.\n"
     ]
    },
    {
     "name": "stdout",
     "output_type": "stream",
     "text": [
      "SVM took  1.0368270874023438\n",
      "LOOPING result took  0.0\n",
      "identification used  -1.117713212966919\n",
      "White Percentage of 2: 15.65%\n",
      "1/1 [==============================] - 0s 60ms/step\n",
      "VGG took  0.08115959167480469\n"
     ]
    },
    {
     "name": "stderr",
     "output_type": "stream",
     "text": [
      "video 1/1 (884/3933) D:\\815_CowDataChecking\\20221230\\20221230_E_cow\\20221230_152538_8796.mkv: 1088x1088 2 cows, 80.1ms\n",
      "video 1/1 (885/3933) D:\\815_CowDataChecking\\20221230\\20221230_E_cow\\20221230_152538_8796.mkv: 1088x1088 2 cows, 79.5ms\n"
     ]
    },
    {
     "name": "stdout",
     "output_type": "stream",
     "text": [
      "SVM took  1.034740924835205\n",
      "LOOPING result took  0.0\n",
      "identification used  -1.1159005165100098\n"
     ]
    },
    {
     "name": "stderr",
     "output_type": "stream",
     "text": [
      "WARNING  'Masks.masks' is deprecated. Use 'Masks.data' instead.\n"
     ]
    },
    {
     "name": "stdout",
     "output_type": "stream",
     "text": [
      "White Percentage of 2: 11.81%\n",
      "1/1 [==============================] - 0s 60ms/step\n",
      "VGG took  0.08022141456604004\n"
     ]
    },
    {
     "name": "stderr",
     "output_type": "stream",
     "text": [
      "video 1/1 (886/3933) D:\\815_CowDataChecking\\20221230\\20221230_E_cow\\20221230_152538_8796.mkv: 1088x1088 2 cows, 68.8ms\n",
      "WARNING  'Masks.masks' is deprecated. Use 'Masks.data' instead.\n"
     ]
    },
    {
     "name": "stdout",
     "output_type": "stream",
     "text": [
      "SVM took  1.0225865840911865\n",
      "LOOPING result took  0.0\n",
      "identification used  -1.1028079986572266\n",
      "White Percentage of 2: 11.37%\n",
      "1/1 [==============================] - 0s 60ms/step\n",
      "VGG took  0.07992959022521973\n"
     ]
    },
    {
     "name": "stderr",
     "output_type": "stream",
     "text": [
      "video 1/1 (887/3933) D:\\815_CowDataChecking\\20221230\\20221230_E_cow\\20221230_152538_8796.mkv: 1088x1088 2 cows, 70.2ms\n"
     ]
    },
    {
     "name": "stdout",
     "output_type": "stream",
     "text": [
      "SVM took  1.0356566905975342\n",
      "LOOPING result took  0.0\n",
      "identification used  -1.115586280822754\n"
     ]
    },
    {
     "name": "stderr",
     "output_type": "stream",
     "text": [
      "video 1/1 (888/3933) D:\\815_CowDataChecking\\20221230\\20221230_E_cow\\20221230_152538_8796.mkv: 1088x1088 2 cows, 162.8ms\n",
      "WARNING  'Masks.masks' is deprecated. Use 'Masks.data' instead.\n",
      "video 1/1 (889/3933) D:\\815_CowDataChecking\\20221230\\20221230_E_cow\\20221230_152538_8796.mkv: 1088x1088 2 cows, 10.0ms\n",
      "WARNING  'Masks.masks' is deprecated. Use 'Masks.data' instead.\n",
      "video 1/1 (890/3933) D:\\815_CowDataChecking\\20221230\\20221230_E_cow\\20221230_152538_8796.mkv: 1088x1088 2 cows, 10.5ms\n",
      "video 1/1 (891/3933) D:\\815_CowDataChecking\\20221230\\20221230_E_cow\\20221230_152538_8796.mkv: 1088x1088 2 cows, 10.0ms\n",
      "WARNING  'Masks.masks' is deprecated. Use 'Masks.data' instead.\n",
      "video 1/1 (892/3933) D:\\815_CowDataChecking\\20221230\\20221230_E_cow\\20221230_152538_8796.mkv: 1088x1088 2 cows, 10.0ms\n",
      "WARNING  'Masks.masks' is deprecated. Use 'Masks.data' instead.\n",
      "video 1/1 (893/3933) D:\\815_CowDataChecking\\20221230\\20221230_E_cow\\20221230_152538_8796.mkv: 1088x1088 2 cows, 10.1ms\n",
      "video 1/1 (894/3933) D:\\815_CowDataChecking\\20221230\\20221230_E_cow\\20221230_152538_8796.mkv: 1088x1088 2 cows, 14.3ms\n",
      "WARNING  'Masks.masks' is deprecated. Use 'Masks.data' instead.\n",
      "video 1/1 (895/3933) D:\\815_CowDataChecking\\20221230\\20221230_E_cow\\20221230_152538_8796.mkv: 1088x1088 2 cows, 11.2ms\n",
      "WARNING  'Masks.masks' is deprecated. Use 'Masks.data' instead.\n",
      "video 1/1 (896/3933) D:\\815_CowDataChecking\\20221230\\20221230_E_cow\\20221230_152538_8796.mkv: 1088x1088 2 cows, 11.0ms\n",
      "video 1/1 (897/3933) D:\\815_CowDataChecking\\20221230\\20221230_E_cow\\20221230_152538_8796.mkv: 1088x1088 2 cows, 13.7ms\n",
      "WARNING  'Masks.masks' is deprecated. Use 'Masks.data' instead.\n"
     ]
    },
    {
     "name": "stdout",
     "output_type": "stream",
     "text": [
      "White Percentage of 3: 1.82%\n",
      "1/1 [==============================] - 0s 60ms/step\n",
      "VGG took  0.07410502433776855\n"
     ]
    },
    {
     "name": "stderr",
     "output_type": "stream",
     "text": [
      "video 1/1 (898/3933) D:\\815_CowDataChecking\\20221230\\20221230_E_cow\\20221230_152538_8796.mkv: 1088x1088 2 cows, 12.6ms\n",
      "WARNING  'Masks.masks' is deprecated. Use 'Masks.data' instead.\n"
     ]
    },
    {
     "name": "stdout",
     "output_type": "stream",
     "text": [
      "SVM took  1.0241856575012207\n",
      "LOOPING result took  0.0\n",
      "identification used  -1.0982906818389893\n",
      "[['ID', 'COLOR', 'RANK1', 'RANK1_prob', 'RANK2', 'RANK2_prob']]\n",
      "new cattle  xxxxxxxxxxxxxxxxxxxxx new cattle alert \n",
      "White Percentage of 3: 2.22%\n",
      "1/1 [==============================] - 0s 52ms/step\n",
      "VGG took  0.08023357391357422\n"
     ]
    },
    {
     "name": "stderr",
     "output_type": "stream",
     "text": [
      "video 1/1 (899/3933) D:\\815_CowDataChecking\\20221230\\20221230_E_cow\\20221230_152538_8796.mkv: 1088x1088 2 cows, 10.0ms\n",
      "video 1/1 (900/3933) D:\\815_CowDataChecking\\20221230\\20221230_E_cow\\20221230_152538_8796.mkv: 1088x1088 2 cows, 37.6ms\n",
      "WARNING  'Masks.masks' is deprecated. Use 'Masks.data' instead.\n"
     ]
    },
    {
     "name": "stdout",
     "output_type": "stream",
     "text": [
      "SVM took  1.030353307723999\n",
      "LOOPING result took  0.0\n",
      "identification used  -1.1115901470184326\n",
      "White Percentage of 3: 1.78%\n",
      "1/1 [==============================] - 0s 54ms/step\n",
      "VGG took  0.08130002021789551\n"
     ]
    },
    {
     "name": "stderr",
     "output_type": "stream",
     "text": [
      "video 1/1 (901/3933) D:\\815_CowDataChecking\\20221230\\20221230_E_cow\\20221230_152538_8796.mkv: 1088x1088 2 cows, 30.7ms\n",
      "WARNING  'Masks.masks' is deprecated. Use 'Masks.data' instead.\n"
     ]
    },
    {
     "name": "stdout",
     "output_type": "stream",
     "text": [
      "SVM took  1.0250630378723145\n",
      "LOOPING result took  0.0\n",
      "identification used  -1.10636305809021\n",
      "White Percentage of 3: 2.65%\n",
      "1/1 [==============================] - 0s 60ms/step\n",
      "VGG took  0.08094477653503418\n"
     ]
    },
    {
     "name": "stderr",
     "output_type": "stream",
     "text": [
      "video 1/1 (902/3933) D:\\815_CowDataChecking\\20221230\\20221230_E_cow\\20221230_152538_8796.mkv: 1088x1088 2 cows, 32.2ms\n",
      "video 1/1 (903/3933) D:\\815_CowDataChecking\\20221230\\20221230_E_cow\\20221230_152538_8796.mkv: 1088x1088 2 cows, 90.2ms\n"
     ]
    },
    {
     "name": "stdout",
     "output_type": "stream",
     "text": [
      "SVM took  1.0450949668884277\n",
      "LOOPING result took  0.0\n",
      "identification used  -1.126039743423462\n"
     ]
    },
    {
     "name": "stderr",
     "output_type": "stream",
     "text": [
      "WARNING  'Masks.masks' is deprecated. Use 'Masks.data' instead.\n"
     ]
    },
    {
     "name": "stdout",
     "output_type": "stream",
     "text": [
      "White Percentage of 3: 1.86%\n",
      "1/1 [==============================] - 0s 60ms/step\n",
      "VGG took  0.07309794425964355\n"
     ]
    },
    {
     "name": "stderr",
     "output_type": "stream",
     "text": [
      "video 1/1 (904/3933) D:\\815_CowDataChecking\\20221230\\20221230_E_cow\\20221230_152538_8796.mkv: 1088x1088 2 cows, 84.1ms\n",
      "WARNING  'Masks.masks' is deprecated. Use 'Masks.data' instead.\n"
     ]
    },
    {
     "name": "stdout",
     "output_type": "stream",
     "text": [
      "SVM took  1.0436091423034668\n",
      "LOOPING result took  0.0\n",
      "identification used  -1.1167070865631104\n",
      "White Percentage of 3: 1.65%\n",
      "1/1 [==============================] - 0s 61ms/step\n",
      "VGG took  0.07584285736083984\n"
     ]
    },
    {
     "name": "stderr",
     "output_type": "stream",
     "text": [
      "video 1/1 (905/3933) D:\\815_CowDataChecking\\20221230\\20221230_E_cow\\20221230_152538_8796.mkv: 1088x1088 2 cows, 20.0ms\n",
      "video 1/1 (906/3933) D:\\815_CowDataChecking\\20221230\\20221230_E_cow\\20221230_152538_8796.mkv: 1088x1088 2 cows, 76.8ms\n"
     ]
    },
    {
     "name": "stdout",
     "output_type": "stream",
     "text": [
      "SVM took  1.0444204807281494\n",
      "LOOPING result took  0.0\n",
      "identification used  -1.1202633380889893\n"
     ]
    },
    {
     "name": "stderr",
     "output_type": "stream",
     "text": [
      "WARNING  'Masks.masks' is deprecated. Use 'Masks.data' instead.\n"
     ]
    },
    {
     "name": "stdout",
     "output_type": "stream",
     "text": [
      "White Percentage of 3: 0.82%\n",
      "1/1 [==============================] - 0s 60ms/step\n",
      "VGG took  0.07223773002624512\n"
     ]
    },
    {
     "name": "stderr",
     "output_type": "stream",
     "text": [
      "video 1/1 (907/3933) D:\\815_CowDataChecking\\20221230\\20221230_E_cow\\20221230_152538_8796.mkv: 1088x1088 2 cows, 70.7ms\n",
      "WARNING  'Masks.masks' is deprecated. Use 'Masks.data' instead.\n"
     ]
    },
    {
     "name": "stdout",
     "output_type": "stream",
     "text": [
      "SVM took  0.24654340744018555\n",
      "LOOPING result took  0.0\n",
      "identification used  -0.31878113746643066\n",
      "White Percentage of 3: 0.87%\n",
      "1/1 [==============================] - 0s 61ms/step\n",
      "VGG took  0.08328676223754883\n"
     ]
    },
    {
     "name": "stderr",
     "output_type": "stream",
     "text": [
      "video 1/1 (908/3933) D:\\815_CowDataChecking\\20221230\\20221230_E_cow\\20221230_152538_8796.mkv: 1088x1088 3 cows, 70.2ms\n",
      "video 1/1 (909/3933) D:\\815_CowDataChecking\\20221230\\20221230_E_cow\\20221230_152538_8796.mkv: 1088x1088 3 cows, 74.2ms\n"
     ]
    },
    {
     "name": "stdout",
     "output_type": "stream",
     "text": [
      "SVM took  0.226531982421875\n",
      "LOOPING result took  0.0\n",
      "identification used  -0.30981874465942383\n"
     ]
    },
    {
     "name": "stderr",
     "output_type": "stream",
     "text": [
      "WARNING  'Masks.masks' is deprecated. Use 'Masks.data' instead.\n"
     ]
    },
    {
     "name": "stdout",
     "output_type": "stream",
     "text": [
      "White Percentage of 3: 0.72%\n",
      "1/1 [==============================] - 0s 60ms/step\n",
      "VGG took  0.08125495910644531\n"
     ]
    },
    {
     "name": "stderr",
     "output_type": "stream",
     "text": [
      "video 1/1 (910/3933) D:\\815_CowDataChecking\\20221230\\20221230_E_cow\\20221230_152538_8796.mkv: 1088x1088 3 cows, 67.8ms\n",
      "WARNING  'Masks.masks' is deprecated. Use 'Masks.data' instead.\n"
     ]
    },
    {
     "name": "stdout",
     "output_type": "stream",
     "text": [
      "SVM took  0.22937989234924316\n",
      "LOOPING result took  0.0\n",
      "identification used  -0.3106348514556885\n",
      "White Percentage of 3: 0.74%\n",
      "1/1 [==============================] - 0s 60ms/step\n",
      "VGG took  0.08118915557861328\n"
     ]
    },
    {
     "name": "stderr",
     "output_type": "stream",
     "text": [
      "video 1/1 (911/3933) D:\\815_CowDataChecking\\20221230\\20221230_E_cow\\20221230_152538_8796.mkv: 1088x1088 3 cows, 60.0ms\n",
      "video 1/1 (912/3933) D:\\815_CowDataChecking\\20221230\\20221230_E_cow\\20221230_152538_8796.mkv: 1088x1088 3 cows, 70.1ms\n"
     ]
    },
    {
     "name": "stdout",
     "output_type": "stream",
     "text": [
      "SVM took  0.23434138298034668\n",
      "LOOPING result took  0.0\n",
      "identification used  -0.3165304660797119\n"
     ]
    },
    {
     "name": "stderr",
     "output_type": "stream",
     "text": [
      "WARNING  'Masks.masks' is deprecated. Use 'Masks.data' instead.\n"
     ]
    },
    {
     "name": "stdout",
     "output_type": "stream",
     "text": [
      "White Percentage of 3: 0.95%\n",
      "1/1 [==============================] - 0s 60ms/step\n",
      "VGG took  0.07860112190246582\n"
     ]
    },
    {
     "name": "stderr",
     "output_type": "stream",
     "text": [
      "video 1/1 (913/3933) D:\\815_CowDataChecking\\20221230\\20221230_E_cow\\20221230_152538_8796.mkv: 1088x1088 3 cows, 59.1ms\n",
      "WARNING  'Masks.masks' is deprecated. Use 'Masks.data' instead.\n"
     ]
    },
    {
     "name": "stdout",
     "output_type": "stream",
     "text": [
      "SVM took  0.2300419807434082\n",
      "LOOPING result took  0.0\n",
      "identification used  -0.308643102645874\n",
      "White Percentage of 3: 1.15%\n",
      "1/1 [==============================] - 0s 59ms/step\n",
      "VGG took  0.07954072952270508\n"
     ]
    },
    {
     "name": "stderr",
     "output_type": "stream",
     "text": [
      "video 1/1 (914/3933) D:\\815_CowDataChecking\\20221230\\20221230_E_cow\\20221230_152538_8796.mkv: 1088x1088 3 cows, 20.1ms\n",
      "video 1/1 (915/3933) D:\\815_CowDataChecking\\20221230\\20221230_E_cow\\20221230_152538_8796.mkv: 1088x1088 3 cows, 10.0ms\n",
      "WARNING  'Masks.masks' is deprecated. Use 'Masks.data' instead.\n"
     ]
    },
    {
     "name": "stdout",
     "output_type": "stream",
     "text": [
      "SVM took  0.23511409759521484\n",
      "LOOPING result took  0.0\n",
      "identification used  -0.31566405296325684\n",
      "White Percentage of 3: 1.64%\n",
      "1/1 [==============================] - 0s 70ms/step\n",
      "VGG took  0.08773159980773926\n"
     ]
    },
    {
     "name": "stderr",
     "output_type": "stream",
     "text": [
      "video 1/1 (916/3933) D:\\815_CowDataChecking\\20221230\\20221230_E_cow\\20221230_152538_8796.mkv: 1088x1088 3 cows, 14.5ms\n",
      "WARNING  'Masks.masks' is deprecated. Use 'Masks.data' instead.\n"
     ]
    },
    {
     "name": "stdout",
     "output_type": "stream",
     "text": [
      "SVM took  1.0345351696014404\n",
      "LOOPING result took  0.0\n",
      "identification used  -1.1222667694091797\n",
      "White Percentage of 3: 1.92%\n",
      "1/1 [==============================] - 0s 60ms/step\n",
      "VGG took  0.08113574981689453\n"
     ]
    },
    {
     "name": "stderr",
     "output_type": "stream",
     "text": [
      "video 1/1 (917/3933) D:\\815_CowDataChecking\\20221230\\20221230_E_cow\\20221230_152538_8796.mkv: 1088x1088 3 cows, 70.3ms\n"
     ]
    },
    {
     "name": "stdout",
     "output_type": "stream",
     "text": [
      "SVM took  1.0507004261016846\n",
      "LOOPING result took  0.0\n",
      "identification used  -1.131836175918579\n"
     ]
    },
    {
     "name": "stderr",
     "output_type": "stream",
     "text": [
      "video 1/1 (918/3933) D:\\815_CowDataChecking\\20221230\\20221230_E_cow\\20221230_152538_8796.mkv: 1088x1088 3 cows, 160.2ms\n",
      "WARNING  'Masks.masks' is deprecated. Use 'Masks.data' instead.\n"
     ]
    },
    {
     "name": "stdout",
     "output_type": "stream",
     "text": [
      "White Percentage of 3: 1.31%\n",
      "1/1 [==============================] - 0s 61ms/step\n",
      "VGG took  0.07630491256713867\n"
     ]
    },
    {
     "name": "stderr",
     "output_type": "stream",
     "text": [
      "video 1/1 (919/3933) D:\\815_CowDataChecking\\20221230\\20221230_E_cow\\20221230_152538_8796.mkv: 1088x1088 2 cows, 13.9ms\n",
      "WARNING  'Masks.masks' is deprecated. Use 'Masks.data' instead.\n"
     ]
    },
    {
     "name": "stdout",
     "output_type": "stream",
     "text": [
      "SVM took  0.2477569580078125\n",
      "LOOPING result took  0.0\n",
      "identification used  -0.32406187057495117\n",
      "White Percentage of 3: 1.58%\n",
      "1/1 [==============================] - 0s 53ms/step\n",
      "VGG took  0.07900309562683105\n"
     ]
    },
    {
     "name": "stderr",
     "output_type": "stream",
     "text": [
      "video 1/1 (920/3933) D:\\815_CowDataChecking\\20221230\\20221230_E_cow\\20221230_152538_8796.mkv: 1088x1088 3 cows, 10.0ms\n",
      "video 1/1 (921/3933) D:\\815_CowDataChecking\\20221230\\20221230_E_cow\\20221230_152538_8796.mkv: 1088x1088 3 cows, 10.0ms\n",
      "WARNING  'Masks.masks' is deprecated. Use 'Masks.data' instead.\n"
     ]
    },
    {
     "name": "stdout",
     "output_type": "stream",
     "text": [
      "SVM took  1.0400910377502441\n",
      "LOOPING result took  0.0\n",
      "identification used  -1.1190941333770752\n",
      "White Percentage of 3: 1.66%\n",
      "1/1 [==============================] - 0s 61ms/step\n",
      "VGG took  0.08170652389526367\n"
     ]
    },
    {
     "name": "stderr",
     "output_type": "stream",
     "text": [
      "video 1/1 (922/3933) D:\\815_CowDataChecking\\20221230\\20221230_E_cow\\20221230_152538_8796.mkv: 1088x1088 3 cows, 10.7ms\n",
      "WARNING  'Masks.masks' is deprecated. Use 'Masks.data' instead.\n"
     ]
    },
    {
     "name": "stdout",
     "output_type": "stream",
     "text": [
      "SVM took  1.0290133953094482\n",
      "LOOPING result took  0.0\n",
      "identification used  -1.110719919204712\n",
      "White Percentage of 3: 1.12%\n",
      "1/1 [==============================] - 0s 58ms/step\n",
      "VGG took  0.08437871932983398\n"
     ]
    },
    {
     "name": "stderr",
     "output_type": "stream",
     "text": [
      "video 1/1 (923/3933) D:\\815_CowDataChecking\\20221230\\20221230_E_cow\\20221230_152538_8796.mkv: 1088x1088 2 cows, 72.4ms\n",
      "video 1/1 (924/3933) D:\\815_CowDataChecking\\20221230\\20221230_E_cow\\20221230_152538_8796.mkv: 1088x1088 2 cows, 70.2ms\n"
     ]
    },
    {
     "name": "stdout",
     "output_type": "stream",
     "text": [
      "SVM took  0.23163771629333496\n",
      "LOOPING result took  0.0\n",
      "identification used  -0.31601643562316895\n"
     ]
    },
    {
     "name": "stderr",
     "output_type": "stream",
     "text": [
      "WARNING  'Masks.masks' is deprecated. Use 'Masks.data' instead.\n"
     ]
    },
    {
     "name": "stdout",
     "output_type": "stream",
     "text": [
      "White Percentage of 3: 0.71%\n",
      "1/1 [==============================] - 0s 60ms/step\n",
      "VGG took  0.07317686080932617\n"
     ]
    },
    {
     "name": "stderr",
     "output_type": "stream",
     "text": [
      "video 1/1 (925/3933) D:\\815_CowDataChecking\\20221230\\20221230_E_cow\\20221230_152538_8796.mkv: 1088x1088 2 cows, 65.5ms\n",
      "WARNING  'Masks.masks' is deprecated. Use 'Masks.data' instead.\n"
     ]
    },
    {
     "name": "stdout",
     "output_type": "stream",
     "text": [
      "SVM took  0.23633027076721191\n",
      "LOOPING result took  0.0\n",
      "identification used  -0.3095071315765381\n",
      "White Percentage of 3: 0.77%\n",
      "1/1 [==============================] - 0s 59ms/step\n",
      "VGG took  0.08058714866638184\n"
     ]
    },
    {
     "name": "stderr",
     "output_type": "stream",
     "text": [
      "video 1/1 (926/3933) D:\\815_CowDataChecking\\20221230\\20221230_E_cow\\20221230_152538_8796.mkv: 1088x1088 2 cows, 72.0ms\n",
      "video 1/1 (927/3933) D:\\815_CowDataChecking\\20221230\\20221230_E_cow\\20221230_152538_8796.mkv: 1088x1088 2 cows, 70.0ms\n"
     ]
    },
    {
     "name": "stdout",
     "output_type": "stream",
     "text": [
      "SVM took  0.23699212074279785\n",
      "LOOPING result took  0.0\n",
      "identification used  -0.3175792694091797\n"
     ]
    },
    {
     "name": "stderr",
     "output_type": "stream",
     "text": [
      "WARNING  'Masks.masks' is deprecated. Use 'Masks.data' instead.\n"
     ]
    },
    {
     "name": "stdout",
     "output_type": "stream",
     "text": [
      "White Percentage of 3: 0.59%\n",
      "1/1 [==============================] - 0s 60ms/step\n",
      "VGG took  0.07308483123779297\n"
     ]
    },
    {
     "name": "stderr",
     "output_type": "stream",
     "text": [
      "video 1/1 (928/3933) D:\\815_CowDataChecking\\20221230\\20221230_E_cow\\20221230_152538_8796.mkv: 1088x1088 2 cows, 65.1ms\n",
      "WARNING  'Masks.masks' is deprecated. Use 'Masks.data' instead.\n"
     ]
    },
    {
     "name": "stdout",
     "output_type": "stream",
     "text": [
      "SVM took  0.24572014808654785\n",
      "LOOPING result took  0.0\n",
      "identification used  -0.3188049793243408\n",
      "White Percentage of 3: 0.44%\n",
      "1/1 [==============================] - 0s 60ms/step\n",
      "VGG took  0.0826265811920166\n"
     ]
    },
    {
     "name": "stderr",
     "output_type": "stream",
     "text": [
      "video 1/1 (929/3933) D:\\815_CowDataChecking\\20221230\\20221230_E_cow\\20221230_152538_8796.mkv: 1088x1088 2 cows, 63.2ms\n",
      "video 1/1 (930/3933) D:\\815_CowDataChecking\\20221230\\20221230_E_cow\\20221230_152538_8796.mkv: 1088x1088 2 cows, 70.1ms\n"
     ]
    },
    {
     "name": "stdout",
     "output_type": "stream",
     "text": [
      "SVM took  0.2339019775390625\n",
      "LOOPING result took  0.0\n",
      "identification used  -0.3165285587310791\n"
     ]
    },
    {
     "name": "stderr",
     "output_type": "stream",
     "text": [
      "WARNING  'Masks.masks' is deprecated. Use 'Masks.data' instead.\n"
     ]
    },
    {
     "name": "stdout",
     "output_type": "stream",
     "text": [
      "White Percentage of 3: 0.62%\n",
      "1/1 [==============================] - 0s 60ms/step\n",
      "VGG took  0.07710599899291992\n"
     ]
    },
    {
     "name": "stderr",
     "output_type": "stream",
     "text": [
      "video 1/1 (931/3933) D:\\815_CowDataChecking\\20221230\\20221230_E_cow\\20221230_152538_8796.mkv: 1088x1088 2 cows, 59.3ms\n",
      "WARNING  'Masks.masks' is deprecated. Use 'Masks.data' instead.\n",
      "video 1/1 (932/3933) D:\\815_CowDataChecking\\20221230\\20221230_E_cow\\20221230_152538_8796.mkv: 1088x1088 2 cows, 20.1ms\n",
      "video 1/1 (933/3933) D:\\815_CowDataChecking\\20221230\\20221230_E_cow\\20221230_152538_8796.mkv: 1088x1088 2 cows, 9.5ms\n"
     ]
    },
    {
     "name": "stdout",
     "output_type": "stream",
     "text": [
      "SVM took  0.22799468040466309\n",
      "LOOPING result took  0.0\n",
      "identification used  -0.305100679397583\n"
     ]
    },
    {
     "name": "stderr",
     "output_type": "stream",
     "text": [
      "WARNING  'Masks.masks' is deprecated. Use 'Masks.data' instead.\n",
      "video 1/1 (934/3933) D:\\815_CowDataChecking\\20221230\\20221230_E_cow\\20221230_152538_8796.mkv: 1088x1088 2 cows, 13.9ms\n",
      "WARNING  'Masks.masks' is deprecated. Use 'Masks.data' instead.\n",
      "video 1/1 (935/3933) D:\\815_CowDataChecking\\20221230\\20221230_E_cow\\20221230_152538_8796.mkv: 1088x1088 2 cows, 17.8ms\n",
      "video 1/1 (936/3933) D:\\815_CowDataChecking\\20221230\\20221230_E_cow\\20221230_152538_8796.mkv: 1088x1088 2 cows, 15.6ms\n",
      "WARNING  'Masks.masks' is deprecated. Use 'Masks.data' instead.\n",
      "video 1/1 (937/3933) D:\\815_CowDataChecking\\20221230\\20221230_E_cow\\20221230_152538_8796.mkv: 1088x1088 2 cows, 17.4ms\n",
      "WARNING  'Masks.masks' is deprecated. Use 'Masks.data' instead.\n",
      "video 1/1 (938/3933) D:\\815_CowDataChecking\\20221230\\20221230_E_cow\\20221230_152538_8796.mkv: 1088x1088 2 cows, 16.5ms\n",
      "video 1/1 (939/3933) D:\\815_CowDataChecking\\20221230\\20221230_E_cow\\20221230_152538_8796.mkv: 1088x1088 2 cows, 15.9ms\n",
      "WARNING  'Masks.masks' is deprecated. Use 'Masks.data' instead.\n",
      "video 1/1 (940/3933) D:\\815_CowDataChecking\\20221230\\20221230_E_cow\\20221230_152538_8796.mkv: 1088x1088 2 cows, 16.6ms\n",
      "WARNING  'Masks.masks' is deprecated. Use 'Masks.data' instead.\n",
      "video 1/1 (941/3933) D:\\815_CowDataChecking\\20221230\\20221230_E_cow\\20221230_152538_8796.mkv: 1088x1088 2 cows, 9.7ms\n",
      "video 1/1 (942/3933) D:\\815_CowDataChecking\\20221230\\20221230_E_cow\\20221230_152538_8796.mkv: 1088x1088 2 cows, 13.6ms\n",
      "WARNING  'Masks.masks' is deprecated. Use 'Masks.data' instead.\n",
      "video 1/1 (943/3933) D:\\815_CowDataChecking\\20221230\\20221230_E_cow\\20221230_152538_8796.mkv: 1088x1088 2 cows, 17.3ms\n",
      "WARNING  'Masks.masks' is deprecated. Use 'Masks.data' instead.\n",
      "video 1/1 (944/3933) D:\\815_CowDataChecking\\20221230\\20221230_E_cow\\20221230_152538_8796.mkv: 1088x1088 2 cows, 26.1ms\n",
      "video 1/1 (945/3933) D:\\815_CowDataChecking\\20221230\\20221230_E_cow\\20221230_152538_8796.mkv: 1088x1088 2 cows, 15.1ms\n",
      "WARNING  'Masks.masks' is deprecated. Use 'Masks.data' instead.\n"
     ]
    },
    {
     "name": "stdout",
     "output_type": "stream",
     "text": [
      "White Percentage of 4: 6.08%\n",
      "1/1 [==============================] - 0s 60ms/step\n",
      "VGG took  0.07466483116149902\n"
     ]
    },
    {
     "name": "stderr",
     "output_type": "stream",
     "text": [
      "video 1/1 (946/3933) D:\\815_CowDataChecking\\20221230\\20221230_E_cow\\20221230_152538_8796.mkv: 1088x1088 3 cows, 15.5ms\n",
      "WARNING  'Masks.masks' is deprecated. Use 'Masks.data' instead.\n"
     ]
    },
    {
     "name": "stdout",
     "output_type": "stream",
     "text": [
      "SVM took  1.0590133666992188\n",
      "LOOPING result took  0.0\n",
      "identification used  -1.1336781978607178\n",
      "[['ID', 'COLOR', 'RANK1', 'RANK1_prob', 'RANK2', 'RANK2_prob']]\n",
      "new cattle  xxxxxxxxxxxxxxxxxxxxx new cattle alert \n",
      "White Percentage of 4: 6.64%\n",
      "1/1 [==============================] - 0s 54ms/step\n",
      "VGG took  0.07982230186462402\n"
     ]
    },
    {
     "name": "stderr",
     "output_type": "stream",
     "text": [
      "video 1/1 (947/3933) D:\\815_CowDataChecking\\20221230\\20221230_E_cow\\20221230_152538_8796.mkv: 1088x1088 2 cows, 29.6ms\n",
      "video 1/1 (948/3933) D:\\815_CowDataChecking\\20221230\\20221230_E_cow\\20221230_152538_8796.mkv: 1088x1088 2 cows, 79.9ms\n"
     ]
    },
    {
     "name": "stdout",
     "output_type": "stream",
     "text": [
      "SVM took  1.0357978343963623\n",
      "LOOPING result took  0.0\n",
      "identification used  -1.1156201362609863\n"
     ]
    },
    {
     "name": "stderr",
     "output_type": "stream",
     "text": [
      "WARNING  'Masks.masks' is deprecated. Use 'Masks.data' instead.\n"
     ]
    },
    {
     "name": "stdout",
     "output_type": "stream",
     "text": [
      "White Percentage of 4: 6.25%\n",
      "1/1 [==============================] - 0s 60ms/step\n",
      "VGG took  0.07219696044921875\n"
     ]
    },
    {
     "name": "stderr",
     "output_type": "stream",
     "text": [
      "video 1/1 (949/3933) D:\\815_CowDataChecking\\20221230\\20221230_E_cow\\20221230_152538_8796.mkv: 1088x1088 2 cows, 68.8ms\n",
      "WARNING  'Masks.masks' is deprecated. Use 'Masks.data' instead.\n"
     ]
    },
    {
     "name": "stdout",
     "output_type": "stream",
     "text": [
      "SVM took  1.0456550121307373\n",
      "LOOPING result took  0.0\n",
      "identification used  -1.117851972579956\n",
      "White Percentage of 4: 5.55%\n",
      "1/1 [==============================] - 0s 60ms/step\n",
      "VGG took  0.0794830322265625\n"
     ]
    },
    {
     "name": "stderr",
     "output_type": "stream",
     "text": [
      "video 1/1 (950/3933) D:\\815_CowDataChecking\\20221230\\20221230_E_cow\\20221230_152538_8796.mkv: 1088x1088 2 cows, 70.5ms\n",
      "video 1/1 (951/3933) D:\\815_CowDataChecking\\20221230\\20221230_E_cow\\20221230_152538_8796.mkv: 1088x1088 1 cow, 70.2ms\n"
     ]
    },
    {
     "name": "stdout",
     "output_type": "stream",
     "text": [
      "SVM took  1.0414400100708008\n",
      "LOOPING result took  0.0\n",
      "identification used  -1.1209230422973633\n"
     ]
    },
    {
     "name": "stderr",
     "output_type": "stream",
     "text": [
      "WARNING  'Masks.masks' is deprecated. Use 'Masks.data' instead.\n"
     ]
    },
    {
     "name": "stdout",
     "output_type": "stream",
     "text": [
      "White Percentage of 4: 4.26%\n",
      "1/1 [==============================] - 0s 60ms/step\n",
      "VGG took  0.07317185401916504\n"
     ]
    },
    {
     "name": "stderr",
     "output_type": "stream",
     "text": [
      "video 1/1 (952/3933) D:\\815_CowDataChecking\\20221230\\20221230_E_cow\\20221230_152538_8796.mkv: 1088x1088 2 cows, 72.4ms\n",
      "WARNING  'Masks.masks' is deprecated. Use 'Masks.data' instead.\n"
     ]
    },
    {
     "name": "stdout",
     "output_type": "stream",
     "text": [
      "SVM took  1.0280895233154297\n",
      "LOOPING result took  0.0\n",
      "identification used  -1.1012613773345947\n",
      "White Percentage of 4: 5.11%\n",
      "1/1 [==============================] - 0s 55ms/step\n",
      "VGG took  0.08014774322509766\n"
     ]
    },
    {
     "name": "stderr",
     "output_type": "stream",
     "text": [
      "video 1/1 (953/3933) D:\\815_CowDataChecking\\20221230\\20221230_E_cow\\20221230_152538_8796.mkv: 1088x1088 2 cows, 60.0ms\n"
     ]
    },
    {
     "name": "stdout",
     "output_type": "stream",
     "text": [
      "SVM took  1.0453050136566162\n",
      "LOOPING result took  0.0\n",
      "identification used  -1.1254527568817139\n"
     ]
    },
    {
     "name": "stderr",
     "output_type": "stream",
     "text": [
      "video 1/1 (954/3933) D:\\815_CowDataChecking\\20221230\\20221230_E_cow\\20221230_152538_8796.mkv: 1088x1088 2 cows, 153.4ms\n",
      "WARNING  'Masks.masks' is deprecated. Use 'Masks.data' instead.\n"
     ]
    },
    {
     "name": "stdout",
     "output_type": "stream",
     "text": [
      "White Percentage of 4: 5.03%\n",
      "1/1 [==============================] - 0s 60ms/step\n",
      "VGG took  0.08378887176513672\n"
     ]
    },
    {
     "name": "stderr",
     "output_type": "stream",
     "text": [
      "video 1/1 (955/3933) D:\\815_CowDataChecking\\20221230\\20221230_E_cow\\20221230_152538_8796.mkv: 1088x1088 2 cows, 70.1ms\n",
      "WARNING  'Masks.masks' is deprecated. Use 'Masks.data' instead.\n"
     ]
    },
    {
     "name": "stdout",
     "output_type": "stream",
     "text": [
      "SVM took  1.048537015914917\n",
      "LOOPING result took  0.0\n",
      "identification used  -1.1323258876800537\n",
      "White Percentage of 4: 5.47%\n",
      "1/1 [==============================] - 0s 60ms/step\n",
      "VGG took  0.07878732681274414\n"
     ]
    },
    {
     "name": "stderr",
     "output_type": "stream",
     "text": [
      "video 1/1 (956/3933) D:\\815_CowDataChecking\\20221230\\20221230_E_cow\\20221230_152538_8796.mkv: 1088x1088 2 cows, 60.0ms\n"
     ]
    },
    {
     "name": "stdout",
     "output_type": "stream",
     "text": [
      "SVM took  1.0289466381072998\n",
      "LOOPING result took  0.0\n",
      "identification used  -1.1087327003479004\n"
     ]
    },
    {
     "name": "stderr",
     "output_type": "stream",
     "text": [
      "video 1/1 (957/3933) D:\\815_CowDataChecking\\20221230\\20221230_E_cow\\20221230_152538_8796.mkv: 1088x1088 2 cows, 151.6ms\n",
      "WARNING  'Masks.masks' is deprecated. Use 'Masks.data' instead.\n"
     ]
    },
    {
     "name": "stdout",
     "output_type": "stream",
     "text": [
      "White Percentage of 4: 5.62%\n",
      "1/1 [==============================] - 0s 57ms/step\n",
      "VGG took  0.07158756256103516\n"
     ]
    },
    {
     "name": "stderr",
     "output_type": "stream",
     "text": [
      "video 1/1 (958/3933) D:\\815_CowDataChecking\\20221230\\20221230_E_cow\\20221230_152538_8796.mkv: 1088x1088 2 cows, 20.5ms\n",
      "WARNING  'Masks.masks' is deprecated. Use 'Masks.data' instead.\n"
     ]
    },
    {
     "name": "stdout",
     "output_type": "stream",
     "text": [
      "SVM took  1.0543975830078125\n",
      "LOOPING result took  0.0\n",
      "identification used  -1.1269853115081787\n",
      "White Percentage of 4: 6.13%\n",
      "1/1 [==============================] - 0s 60ms/step\n",
      "VGG took  0.07439327239990234\n"
     ]
    },
    {
     "name": "stderr",
     "output_type": "stream",
     "text": [
      "video 1/1 (959/3933) D:\\815_CowDataChecking\\20221230\\20221230_E_cow\\20221230_152538_8796.mkv: 1088x1088 2 cows, 10.0ms\n",
      "video 1/1 (960/3933) D:\\815_CowDataChecking\\20221230\\20221230_E_cow\\20221230_152538_8796.mkv: 1088x1088 2 cows, 70.2ms\n"
     ]
    },
    {
     "name": "stdout",
     "output_type": "stream",
     "text": [
      "SVM took  1.044987678527832\n",
      "LOOPING result took  0.0\n",
      "identification used  -1.1239280700683594\n"
     ]
    },
    {
     "name": "stderr",
     "output_type": "stream",
     "text": [
      "WARNING  'Masks.masks' is deprecated. Use 'Masks.data' instead.\n"
     ]
    },
    {
     "name": "stdout",
     "output_type": "stream",
     "text": [
      "White Percentage of 4: 7.92%\n",
      "1/1 [==============================] - 0s 60ms/step\n",
      "VGG took  0.07305788993835449\n"
     ]
    },
    {
     "name": "stderr",
     "output_type": "stream",
     "text": [
      "video 1/1 (961/3933) D:\\815_CowDataChecking\\20221230\\20221230_E_cow\\20221230_152538_8796.mkv: 1088x1088 2 cows, 74.4ms\n",
      "WARNING  'Masks.masks' is deprecated. Use 'Masks.data' instead.\n"
     ]
    },
    {
     "name": "stdout",
     "output_type": "stream",
     "text": [
      "SVM took  1.0377352237701416\n",
      "LOOPING result took  0.0\n",
      "identification used  -1.110793113708496\n",
      "White Percentage of 4: 9.30%\n",
      "1/1 [==============================] - 0s 63ms/step\n",
      "VGG took  0.08059906959533691\n"
     ]
    },
    {
     "name": "stderr",
     "output_type": "stream",
     "text": [
      "video 1/1 (962/3933) D:\\815_CowDataChecking\\20221230\\20221230_E_cow\\20221230_152538_8796.mkv: 1088x1088 2 cows, 80.1ms\n",
      "video 1/1 (963/3933) D:\\815_CowDataChecking\\20221230\\20221230_E_cow\\20221230_152538_8796.mkv: 1088x1088 2 cows, 70.1ms\n"
     ]
    },
    {
     "name": "stdout",
     "output_type": "stream",
     "text": [
      "SVM took  1.0473439693450928\n",
      "LOOPING result took  0.0\n",
      "identification used  -1.1279430389404297\n"
     ]
    },
    {
     "name": "stderr",
     "output_type": "stream",
     "text": [
      "WARNING  'Masks.masks' is deprecated. Use 'Masks.data' instead.\n"
     ]
    },
    {
     "name": "stdout",
     "output_type": "stream",
     "text": [
      "White Percentage of 4: 4.20%\n",
      "1/1 [==============================] - 0s 60ms/step\n",
      "VGG took  0.07304048538208008\n"
     ]
    },
    {
     "name": "stderr",
     "output_type": "stream",
     "text": [
      "video 1/1 (964/3933) D:\\815_CowDataChecking\\20221230\\20221230_E_cow\\20221230_152538_8796.mkv: 1088x1088 2 cows, 68.7ms\n",
      "WARNING  'Masks.masks' is deprecated. Use 'Masks.data' instead.\n"
     ]
    },
    {
     "name": "stdout",
     "output_type": "stream",
     "text": [
      "SVM took  1.0483601093292236\n",
      "LOOPING result took  0.0\n",
      "identification used  -1.1214005947113037\n",
      "White Percentage of 4: 4.10%\n",
      "1/1 [==============================] - 0s 60ms/step\n",
      "VGG took  0.07999563217163086\n"
     ]
    },
    {
     "name": "stderr",
     "output_type": "stream",
     "text": [
      "video 1/1 (965/3933) D:\\815_CowDataChecking\\20221230\\20221230_E_cow\\20221230_152538_8796.mkv: 1088x1088 2 cows, 70.2ms\n",
      "video 1/1 (966/3933) D:\\815_CowDataChecking\\20221230\\20221230_E_cow\\20221230_152538_8796.mkv: 1088x1088 2 cows, 70.1ms\n"
     ]
    },
    {
     "name": "stdout",
     "output_type": "stream",
     "text": [
      "SVM took  1.0440223217010498\n",
      "LOOPING result took  0.0\n",
      "identification used  -1.1240179538726807\n"
     ]
    },
    {
     "name": "stderr",
     "output_type": "stream",
     "text": [
      "WARNING  'Masks.masks' is deprecated. Use 'Masks.data' instead.\n"
     ]
    },
    {
     "name": "stdout",
     "output_type": "stream",
     "text": [
      "White Percentage of 4: 7.96%\n",
      "1/1 [==============================] - 0s 60ms/step\n",
      "VGG took  0.0818643569946289\n"
     ]
    },
    {
     "name": "stderr",
     "output_type": "stream",
     "text": [
      "video 1/1 (967/3933) D:\\815_CowDataChecking\\20221230\\20221230_E_cow\\20221230_152538_8796.mkv: 1088x1088 2 cows, 65.5ms\n",
      "WARNING  'Masks.masks' is deprecated. Use 'Masks.data' instead.\n"
     ]
    },
    {
     "name": "stdout",
     "output_type": "stream",
     "text": [
      "SVM took  1.055896282196045\n",
      "LOOPING result took  0.0\n",
      "identification used  -1.1377606391906738\n",
      "White Percentage of 4: 5.76%\n",
      "1/1 [==============================] - 0s 61ms/step\n",
      "VGG took  0.08001279830932617\n"
     ]
    },
    {
     "name": "stderr",
     "output_type": "stream",
     "text": [
      "video 1/1 (968/3933) D:\\815_CowDataChecking\\20221230\\20221230_E_cow\\20221230_152538_8796.mkv: 1088x1088 2 cows, 70.1ms\n"
     ]
    },
    {
     "name": "stdout",
     "output_type": "stream",
     "text": [
      "SVM took  1.0476505756378174\n",
      "LOOPING result took  0.0\n",
      "identification used  -1.1276633739471436\n"
     ]
    },
    {
     "name": "stderr",
     "output_type": "stream",
     "text": [
      "video 1/1 (969/3933) D:\\815_CowDataChecking\\20221230\\20221230_E_cow\\20221230_152538_8796.mkv: 1088x1088 2 cows, 160.6ms\n",
      "WARNING  'Masks.masks' is deprecated. Use 'Masks.data' instead.\n"
     ]
    },
    {
     "name": "stdout",
     "output_type": "stream",
     "text": [
      "White Percentage of 4: 6.27%\n",
      "1/1 [==============================] - 0s 60ms/step\n",
      "VGG took  0.07418417930603027\n"
     ]
    },
    {
     "name": "stderr",
     "output_type": "stream",
     "text": [
      "video 1/1 (970/3933) D:\\815_CowDataChecking\\20221230\\20221230_E_cow\\20221230_152538_8796.mkv: 1088x1088 2 cows, 10.0ms\n",
      "WARNING  'Masks.masks' is deprecated. Use 'Masks.data' instead.\n"
     ]
    },
    {
     "name": "stdout",
     "output_type": "stream",
     "text": [
      "SVM took  1.052537202835083\n",
      "LOOPING result took  0.0\n",
      "identification used  -1.1267213821411133\n",
      "White Percentage of 4: 4.52%\n",
      "1/1 [==============================] - 0s 58ms/step\n",
      "VGG took  0.07261300086975098\n"
     ]
    },
    {
     "name": "stderr",
     "output_type": "stream",
     "text": [
      "video 1/1 (971/3933) D:\\815_CowDataChecking\\20221230\\20221230_E_cow\\20221230_152538_8796.mkv: 1088x1088 2 cows, 10.0ms\n",
      "video 1/1 (972/3933) D:\\815_CowDataChecking\\20221230\\20221230_E_cow\\20221230_152538_8796.mkv: 1088x1088 2 cows, 70.1ms\n"
     ]
    },
    {
     "name": "stdout",
     "output_type": "stream",
     "text": [
      "SVM took  1.0568549633026123\n",
      "LOOPING result took  0.0\n",
      "identification used  -1.1294679641723633\n"
     ]
    },
    {
     "name": "stderr",
     "output_type": "stream",
     "text": [
      "WARNING  'Masks.masks' is deprecated. Use 'Masks.data' instead.\n"
     ]
    },
    {
     "name": "stdout",
     "output_type": "stream",
     "text": [
      "White Percentage of 4: 6.75%\n",
      "1/1 [==============================] - 0s 60ms/step\n",
      "VGG took  0.0804443359375\n"
     ]
    },
    {
     "name": "stderr",
     "output_type": "stream",
     "text": [
      "video 1/1 (973/3933) D:\\815_CowDataChecking\\20221230\\20221230_E_cow\\20221230_152538_8796.mkv: 1088x1088 2 cows, 68.3ms\n",
      "WARNING  'Masks.masks' is deprecated. Use 'Masks.data' instead.\n"
     ]
    },
    {
     "name": "stdout",
     "output_type": "stream",
     "text": [
      "SVM took  1.0556912422180176\n",
      "LOOPING result took  0.0\n",
      "identification used  -1.1361355781555176\n",
      "White Percentage of 4: 5.48%\n",
      "1/1 [==============================] - 0s 50ms/step\n",
      "VGG took  0.07956123352050781\n"
     ]
    },
    {
     "name": "stderr",
     "output_type": "stream",
     "text": [
      "video 1/1 (974/3933) D:\\815_CowDataChecking\\20221230\\20221230_E_cow\\20221230_152538_8796.mkv: 1088x1088 2 cows, 80.2ms\n"
     ]
    },
    {
     "name": "stdout",
     "output_type": "stream",
     "text": [
      "SVM took  1.0443055629730225\n",
      "LOOPING result took  0.0\n",
      "identification used  -1.1248655319213867\n"
     ]
    },
    {
     "name": "stderr",
     "output_type": "stream",
     "text": [
      "video 1/1 (975/3933) D:\\815_CowDataChecking\\20221230\\20221230_E_cow\\20221230_152538_8796.mkv: 1088x1088 2 cows, 157.1ms\n",
      "WARNING  'Masks.masks' is deprecated. Use 'Masks.data' instead.\n",
      "video 1/1 (976/3933) D:\\815_CowDataChecking\\20221230\\20221230_E_cow\\20221230_152538_8796.mkv: 1088x1088 2 cows, 10.0ms\n",
      "WARNING  'Masks.masks' is deprecated. Use 'Masks.data' instead.\n",
      "video 1/1 (977/3933) D:\\815_CowDataChecking\\20221230\\20221230_E_cow\\20221230_152538_8796.mkv: 1088x1088 2 cows, 11.0ms\n",
      "video 1/1 (978/3933) D:\\815_CowDataChecking\\20221230\\20221230_E_cow\\20221230_152538_8796.mkv: 1088x1088 2 cows, 10.1ms\n",
      "WARNING  'Masks.masks' is deprecated. Use 'Masks.data' instead.\n",
      "video 1/1 (979/3933) D:\\815_CowDataChecking\\20221230\\20221230_E_cow\\20221230_152538_8796.mkv: 1088x1088 2 cows, 10.4ms\n",
      "WARNING  'Masks.masks' is deprecated. Use 'Masks.data' instead.\n",
      "video 1/1 (980/3933) D:\\815_CowDataChecking\\20221230\\20221230_E_cow\\20221230_152538_8796.mkv: 1088x1088 2 cows, 10.0ms\n",
      "video 1/1 (981/3933) D:\\815_CowDataChecking\\20221230\\20221230_E_cow\\20221230_152538_8796.mkv: 1088x1088 2 cows, 10.0ms\n",
      "WARNING  'Masks.masks' is deprecated. Use 'Masks.data' instead.\n",
      "video 1/1 (982/3933) D:\\815_CowDataChecking\\20221230\\20221230_E_cow\\20221230_152538_8796.mkv: 1088x1088 2 cows, 10.3ms\n",
      "WARNING  'Masks.masks' is deprecated. Use 'Masks.data' instead.\n",
      "video 1/1 (983/3933) D:\\815_CowDataChecking\\20221230\\20221230_E_cow\\20221230_152538_8796.mkv: 1088x1088 2 cows, 11.2ms\n",
      "video 1/1 (984/3933) D:\\815_CowDataChecking\\20221230\\20221230_E_cow\\20221230_152538_8796.mkv: 1088x1088 2 cows, 11.0ms\n",
      "WARNING  'Masks.masks' is deprecated. Use 'Masks.data' instead.\n",
      "video 1/1 (985/3933) D:\\815_CowDataChecking\\20221230\\20221230_E_cow\\20221230_152538_8796.mkv: 1088x1088 2 cows, 6.5ms\n",
      "WARNING  'Masks.masks' is deprecated. Use 'Masks.data' instead.\n",
      "video 1/1 (986/3933) D:\\815_CowDataChecking\\20221230\\20221230_E_cow\\20221230_152538_8796.mkv: 1088x1088 2 cows, 10.4ms\n",
      "video 1/1 (987/3933) D:\\815_CowDataChecking\\20221230\\20221230_E_cow\\20221230_152538_8796.mkv: 1088x1088 2 cows, 11.2ms\n",
      "WARNING  'Masks.masks' is deprecated. Use 'Masks.data' instead.\n"
     ]
    },
    {
     "name": "stdout",
     "output_type": "stream",
     "text": [
      "White Percentage of 5: 11.24%\n",
      "1/1 [==============================] - 0s 53ms/step\n",
      "VGG took  0.07670783996582031\n"
     ]
    },
    {
     "name": "stderr",
     "output_type": "stream",
     "text": [
      "video 1/1 (988/3933) D:\\815_CowDataChecking\\20221230\\20221230_E_cow\\20221230_152538_8796.mkv: 1088x1088 2 cows, 10.6ms\n",
      "WARNING  'Masks.masks' is deprecated. Use 'Masks.data' instead.\n"
     ]
    },
    {
     "name": "stdout",
     "output_type": "stream",
     "text": [
      "SVM took  1.0544323921203613\n",
      "LOOPING result took  0.0\n",
      "identification used  -1.1311402320861816\n",
      "[['ID', 'COLOR', 'RANK1', 'RANK1_prob', 'RANK2', 'RANK2_prob']]\n",
      "new cattle  xxxxxxxxxxxxxxxxxxxxx new cattle alert \n",
      "White Percentage of 5: 11.35%\n",
      "1/1 [==============================] - 0s 53ms/step\n",
      "VGG took  0.07740449905395508\n"
     ]
    },
    {
     "name": "stderr",
     "output_type": "stream",
     "text": [
      "video 1/1 (989/3933) D:\\815_CowDataChecking\\20221230\\20221230_E_cow\\20221230_152538_8796.mkv: 1088x1088 2 cows, 22.6ms\n",
      "video 1/1 (990/3933) D:\\815_CowDataChecking\\20221230\\20221230_E_cow\\20221230_152538_8796.mkv: 1088x1088 2 cows, 40.0ms\n",
      "WARNING  'Masks.masks' is deprecated. Use 'Masks.data' instead.\n"
     ]
    },
    {
     "name": "stdout",
     "output_type": "stream",
     "text": [
      "SVM took  1.0494611263275146\n",
      "LOOPING result took  0.0\n",
      "identification used  -1.1268656253814697\n",
      "White Percentage of 5: 14.28%\n",
      "1/1 [==============================] - 0s 51ms/step\n",
      "VGG took  0.08054947853088379\n"
     ]
    },
    {
     "name": "stderr",
     "output_type": "stream",
     "text": [
      "video 1/1 (991/3933) D:\\815_CowDataChecking\\20221230\\20221230_E_cow\\20221230_152538_8796.mkv: 1088x1088 2 cows, 33.5ms\n",
      "WARNING  'Masks.masks' is deprecated. Use 'Masks.data' instead.\n"
     ]
    },
    {
     "name": "stdout",
     "output_type": "stream",
     "text": [
      "SVM took  1.0520806312561035\n",
      "LOOPING result took  0.0\n",
      "identification used  -1.1326301097869873\n",
      "White Percentage of 5: 14.79%\n",
      "1/1 [==============================] - 0s 50ms/step\n",
      "VGG took  0.07878589630126953\n"
     ]
    },
    {
     "name": "stderr",
     "output_type": "stream",
     "text": [
      "video 1/1 (992/3933) D:\\815_CowDataChecking\\20221230\\20221230_E_cow\\20221230_152538_8796.mkv: 1088x1088 2 cows, 80.1ms\n"
     ]
    },
    {
     "name": "stdout",
     "output_type": "stream",
     "text": [
      "SVM took  1.0634136199951172\n",
      "LOOPING result took  0.0\n",
      "identification used  -1.1421995162963867\n"
     ]
    },
    {
     "name": "stderr",
     "output_type": "stream",
     "text": [
      "video 1/1 (993/3933) D:\\815_CowDataChecking\\20221230\\20221230_E_cow\\20221230_152538_8796.mkv: 1088x1088 2 cows, 184.7ms\n",
      "WARNING  'Masks.masks' is deprecated. Use 'Masks.data' instead.\n"
     ]
    },
    {
     "name": "stdout",
     "output_type": "stream",
     "text": [
      "White Percentage of 5: 17.17%\n",
      "1/1 [==============================] - 0s 51ms/step\n",
      "VGG took  0.07556414604187012\n"
     ]
    },
    {
     "name": "stderr",
     "output_type": "stream",
     "text": [
      "video 1/1 (994/3933) D:\\815_CowDataChecking\\20221230\\20221230_E_cow\\20221230_152538_8796.mkv: 1088x1088 2 cows, 130.2ms\n",
      "WARNING  'Masks.masks' is deprecated. Use 'Masks.data' instead.\n"
     ]
    },
    {
     "name": "stdout",
     "output_type": "stream",
     "text": [
      "SVM took  1.0644304752349854\n",
      "LOOPING result took  0.0\n",
      "identification used  -1.1399946212768555\n",
      "White Percentage of 5: 16.67%\n",
      "1/1 [==============================] - 0s 50ms/step\n",
      "VGG took  0.07735157012939453\n"
     ]
    },
    {
     "name": "stderr",
     "output_type": "stream",
     "text": [
      "video 1/1 (995/3933) D:\\815_CowDataChecking\\20221230\\20221230_E_cow\\20221230_152538_8796.mkv: 1088x1088 2 cows, 10.0ms\n",
      "video 1/1 (996/3933) D:\\815_CowDataChecking\\20221230\\20221230_E_cow\\20221230_152538_8796.mkv: 1088x1088 2 cows, 40.0ms\n",
      "WARNING  'Masks.masks' is deprecated. Use 'Masks.data' instead.\n"
     ]
    },
    {
     "name": "stdout",
     "output_type": "stream",
     "text": [
      "SVM took  1.0654501914978027\n",
      "LOOPING result took  0.0\n",
      "identification used  -1.1428017616271973\n",
      "White Percentage of 5: 17.18%\n",
      "1/1 [==============================] - 0s 51ms/step\n",
      "VGG took  0.07903027534484863\n"
     ]
    },
    {
     "name": "stderr",
     "output_type": "stream",
     "text": [
      "video 1/1 (997/3933) D:\\815_CowDataChecking\\20221230\\20221230_E_cow\\20221230_152538_8796.mkv: 1088x1088 2 cows, 29.2ms\n",
      "WARNING  'Masks.masks' is deprecated. Use 'Masks.data' instead.\n"
     ]
    },
    {
     "name": "stdout",
     "output_type": "stream",
     "text": [
      "SVM took  1.0463621616363525\n",
      "LOOPING result took  0.0\n",
      "identification used  -1.1253924369812012\n",
      "White Percentage of 5: 16.82%\n",
      "1/1 [==============================] - 0s 64ms/step\n",
      "VGG took  0.0841679573059082\n"
     ]
    },
    {
     "name": "stderr",
     "output_type": "stream",
     "text": [
      "video 1/1 (998/3933) D:\\815_CowDataChecking\\20221230\\20221230_E_cow\\20221230_152538_8796.mkv: 1088x1088 2 cows, 50.0ms\n",
      "video 1/1 (999/3933) D:\\815_CowDataChecking\\20221230\\20221230_E_cow\\20221230_152538_8796.mkv: 1088x1088 2 cows, 90.1ms\n"
     ]
    },
    {
     "name": "stdout",
     "output_type": "stream",
     "text": [
      "SVM took  1.0512268543243408\n",
      "LOOPING result took  0.0\n",
      "identification used  -1.1363942623138428\n"
     ]
    },
    {
     "name": "stderr",
     "output_type": "stream",
     "text": [
      "WARNING  'Masks.masks' is deprecated. Use 'Masks.data' instead.\n"
     ]
    },
    {
     "name": "stdout",
     "output_type": "stream",
     "text": [
      "White Percentage of 5: 16.53%\n",
      "1/1 [==============================] - 0s 60ms/step\n",
      "VGG took  0.07988882064819336\n"
     ]
    },
    {
     "name": "stderr",
     "output_type": "stream",
     "text": [
      "video 1/1 (1000/3933) D:\\815_CowDataChecking\\20221230\\20221230_E_cow\\20221230_152538_8796.mkv: 1088x1088 1 cow, 89.1ms\n"
     ]
    },
    {
     "name": "stdout",
     "output_type": "stream",
     "text": [
      "SVM took  1.054154396057129\n",
      "LOOPING result took  0.0\n",
      "identification used  -1.1340432167053223\n"
     ]
    },
    {
     "name": "stderr",
     "output_type": "stream",
     "text": [
      "WARNING  'Masks.masks' is deprecated. Use 'Masks.data' instead.\n"
     ]
    },
    {
     "name": "stdout",
     "output_type": "stream",
     "text": [
      "White Percentage of 5: 13.26%\n",
      "1/1 [==============================] - 0s 60ms/step\n",
      "VGG took  0.07355952262878418\n"
     ]
    },
    {
     "name": "stderr",
     "output_type": "stream",
     "text": [
      "video 1/1 (1001/3933) D:\\815_CowDataChecking\\20221230\\20221230_E_cow\\20221230_152538_8796.mkv: 1088x1088 1 cow, 157.2ms\n",
      "video 1/1 (1002/3933) D:\\815_CowDataChecking\\20221230\\20221230_E_cow\\20221230_152538_8796.mkv: 1088x1088 1 cow, 10.1ms\n",
      "WARNING  'Masks.masks' is deprecated. Use 'Masks.data' instead.\n"
     ]
    },
    {
     "name": "stdout",
     "output_type": "stream",
     "text": [
      "SVM took  1.0418274402618408\n",
      "LOOPING result took  0.0\n",
      "identification used  -1.115386962890625\n",
      "White Percentage of 5: 18.31%\n",
      "1/1 [==============================] - 0s 53ms/step\n",
      "VGG took  0.07900166511535645\n"
     ]
    },
    {
     "name": "stderr",
     "output_type": "stream",
     "text": [
      "video 1/1 (1003/3933) D:\\815_CowDataChecking\\20221230\\20221230_E_cow\\20221230_152538_8796.mkv: 1088x1088 1 cow, 8.3ms\n",
      "WARNING  'Masks.masks' is deprecated. Use 'Masks.data' instead.\n"
     ]
    },
    {
     "name": "stdout",
     "output_type": "stream",
     "text": [
      "SVM took  1.0501904487609863\n",
      "LOOPING result took  0.0\n",
      "identification used  -1.1291921138763428\n",
      "White Percentage of 5: 13.76%\n",
      "1/1 [==============================] - 0s 60ms/step\n",
      "VGG took  0.08036136627197266\n"
     ]
    },
    {
     "name": "stderr",
     "output_type": "stream",
     "text": [
      "video 1/1 (1004/3933) D:\\815_CowDataChecking\\20221230\\20221230_E_cow\\20221230_152538_8796.mkv: 1088x1088 1 cow, 40.0ms\n",
      "video 1/1 (1005/3933) D:\\815_CowDataChecking\\20221230\\20221230_E_cow\\20221230_152538_8796.mkv: 1088x1088 1 cow, 88.1ms\n"
     ]
    },
    {
     "name": "stdout",
     "output_type": "stream",
     "text": [
      "SVM took  1.044560432434082\n",
      "LOOPING result took  0.010000228881835938\n",
      "identification used  -1.1349220275878906\n"
     ]
    },
    {
     "name": "stderr",
     "output_type": "stream",
     "text": [
      "WARNING  'Masks.masks' is deprecated. Use 'Masks.data' instead.\n"
     ]
    },
    {
     "name": "stdout",
     "output_type": "stream",
     "text": [
      "White Percentage of 5: 20.92%\n",
      "1/1 [==============================] - 0s 60ms/step\n",
      "VGG took  0.08012104034423828\n"
     ]
    },
    {
     "name": "stderr",
     "output_type": "stream",
     "text": [
      "video 1/1 (1006/3933) D:\\815_CowDataChecking\\20221230\\20221230_E_cow\\20221230_152538_8796.mkv: 1088x1088 1 cow, 80.1ms\n"
     ]
    },
    {
     "name": "stdout",
     "output_type": "stream",
     "text": [
      "SVM took  1.1226797103881836\n",
      "LOOPING result took  0.0\n",
      "identification used  -1.2028007507324219\n"
     ]
    },
    {
     "name": "stderr",
     "output_type": "stream",
     "text": [
      "WARNING  'Masks.masks' is deprecated. Use 'Masks.data' instead.\n"
     ]
    },
    {
     "name": "stdout",
     "output_type": "stream",
     "text": [
      "White Percentage of 5: 22.54%\n",
      "1/1 [==============================] - 0s 60ms/step\n",
      "VGG took  0.07307100296020508\n"
     ]
    },
    {
     "name": "stderr",
     "output_type": "stream",
     "text": [
      "video 1/1 (1007/3933) D:\\815_CowDataChecking\\20221230\\20221230_E_cow\\20221230_152538_8796.mkv: 1088x1088 1 cow, 150.2ms\n",
      "video 1/1 (1008/3933) D:\\815_CowDataChecking\\20221230\\20221230_E_cow\\20221230_152538_8796.mkv: 1088x1088 1 cow, 10.0ms\n",
      "WARNING  'Masks.masks' is deprecated. Use 'Masks.data' instead.\n"
     ]
    },
    {
     "name": "stdout",
     "output_type": "stream",
     "text": [
      "SVM took  1.0463285446166992\n",
      "LOOPING result took  0.0\n",
      "identification used  -1.1193995475769043\n",
      "White Percentage of 5: 24.25%\n",
      "1/1 [==============================] - 0s 55ms/step\n",
      "VGG took  0.07906651496887207\n"
     ]
    },
    {
     "name": "stderr",
     "output_type": "stream",
     "text": [
      "video 1/1 (1009/3933) D:\\815_CowDataChecking\\20221230\\20221230_E_cow\\20221230_152538_8796.mkv: 1088x1088 1 cow, 7.6ms\n",
      "WARNING  'Masks.masks' is deprecated. Use 'Masks.data' instead.\n"
     ]
    },
    {
     "name": "stdout",
     "output_type": "stream",
     "text": [
      "SVM took  1.0345947742462158\n",
      "LOOPING result took  0.0\n",
      "identification used  -1.113661289215088\n",
      "White Percentage of 5: 23.25%\n",
      "1/1 [==============================] - 0s 51ms/step\n",
      "VGG took  0.07861709594726562\n"
     ]
    },
    {
     "name": "stderr",
     "output_type": "stream",
     "text": [
      "video 1/1 (1010/3933) D:\\815_CowDataChecking\\20221230\\20221230_E_cow\\20221230_152538_8796.mkv: 1088x1088 1 cow, 29.0ms\n",
      "video 1/1 (1011/3933) D:\\815_CowDataChecking\\20221230\\20221230_E_cow\\20221230_152538_8796.mkv: 1088x1088 1 cow, 90.2ms\n"
     ]
    },
    {
     "name": "stdout",
     "output_type": "stream",
     "text": [
      "SVM took  1.036012887954712\n",
      "LOOPING result took  0.0\n",
      "identification used  -1.1146299839019775\n"
     ]
    },
    {
     "name": "stderr",
     "output_type": "stream",
     "text": [
      "WARNING  'Masks.masks' is deprecated. Use 'Masks.data' instead.\n"
     ]
    },
    {
     "name": "stdout",
     "output_type": "stream",
     "text": [
      "White Percentage of 5: 23.64%\n",
      "1/1 [==============================] - 0s 60ms/step\n",
      "VGG took  0.07300353050231934\n"
     ]
    },
    {
     "name": "stderr",
     "output_type": "stream",
     "text": [
      "video 1/1 (1012/3933) D:\\815_CowDataChecking\\20221230\\20221230_E_cow\\20221230_152538_8796.mkv: 1088x1088 1 cow, 81.3ms\n"
     ]
    },
    {
     "name": "stdout",
     "output_type": "stream",
     "text": [
      "SVM took  1.0529506206512451\n",
      "LOOPING result took  0.0\n",
      "identification used  -1.1259541511535645\n"
     ]
    },
    {
     "name": "stderr",
     "output_type": "stream",
     "text": [
      "WARNING  'Masks.masks' is deprecated. Use 'Masks.data' instead.\n"
     ]
    },
    {
     "name": "stdout",
     "output_type": "stream",
     "text": [
      "White Percentage of 5: 24.41%\n",
      "1/1 [==============================] - 0s 61ms/step\n",
      "VGG took  0.07985568046569824\n"
     ]
    },
    {
     "name": "stderr",
     "output_type": "stream",
     "text": [
      "video 1/1 (1013/3933) D:\\815_CowDataChecking\\20221230\\20221230_E_cow\\20221230_152538_8796.mkv: 1088x1088 1 cow, 170.1ms\n",
      "video 1/1 (1014/3933) D:\\815_CowDataChecking\\20221230\\20221230_E_cow\\20221230_152538_8796.mkv: 1088x1088 1 cow, 80.2ms\n"
     ]
    },
    {
     "name": "stdout",
     "output_type": "stream",
     "text": [
      "SVM took  1.057751178741455\n",
      "LOOPING result took  0.0\n",
      "identification used  -1.1376068592071533\n"
     ]
    },
    {
     "name": "stderr",
     "output_type": "stream",
     "text": [
      "WARNING  'Masks.masks' is deprecated. Use 'Masks.data' instead.\n"
     ]
    },
    {
     "name": "stdout",
     "output_type": "stream",
     "text": [
      "White Percentage of 5: 15.45%\n",
      "1/1 [==============================] - 0s 59ms/step\n",
      "VGG took  0.08175301551818848\n"
     ]
    },
    {
     "name": "stderr",
     "output_type": "stream",
     "text": [
      "video 1/1 (1015/3933) D:\\815_CowDataChecking\\20221230\\20221230_E_cow\\20221230_152538_8796.mkv: 1088x1088 1 cow, 65.6ms\n",
      "WARNING  'Masks.masks' is deprecated. Use 'Masks.data' instead.\n"
     ]
    },
    {
     "name": "stdout",
     "output_type": "stream",
     "text": [
      "SVM took  1.0408287048339844\n",
      "LOOPING result took  0.0\n",
      "identification used  -1.1225817203521729\n",
      "White Percentage of 5: 23.54%\n",
      "1/1 [==============================] - 0s 53ms/step\n",
      "VGG took  0.07823324203491211\n"
     ]
    },
    {
     "name": "stderr",
     "output_type": "stream",
     "text": [
      "video 1/1 (1016/3933) D:\\815_CowDataChecking\\20221230\\20221230_E_cow\\20221230_152538_8796.mkv: 1088x1088 1 cow, 70.0ms\n"
     ]
    },
    {
     "name": "stdout",
     "output_type": "stream",
     "text": [
      "SVM took  1.0458083152770996\n",
      "LOOPING result took  0.0\n",
      "identification used  -1.1240415573120117\n"
     ]
    },
    {
     "name": "stderr",
     "output_type": "stream",
     "text": [
      "video 1/1 (1017/3933) D:\\815_CowDataChecking\\20221230\\20221230_E_cow\\20221230_152538_8796.mkv: 1088x1088 1 cow, 170.3ms\n",
      "WARNING  'Masks.masks' is deprecated. Use 'Masks.data' instead.\n"
     ]
    },
    {
     "name": "stdout",
     "output_type": "stream",
     "text": [
      "White Percentage of 5: 21.21%\n",
      "1/1 [==============================] - 0s 60ms/step\n",
      "VGG took  0.07740497589111328\n"
     ]
    },
    {
     "name": "stderr",
     "output_type": "stream",
     "text": [
      "video 1/1 (1018/3933) D:\\815_CowDataChecking\\20221230\\20221230_E_cow\\20221230_152538_8796.mkv: 1088x1088 1 cow, 10.1ms\n",
      "WARNING  'Masks.masks' is deprecated. Use 'Masks.data' instead.\n"
     ]
    },
    {
     "name": "stdout",
     "output_type": "stream",
     "text": [
      "SVM took  1.0532844066619873\n",
      "LOOPING result took  0.0\n",
      "identification used  -1.1306893825531006\n",
      "White Percentage of 5: 19.98%\n",
      "1/1 [==============================] - 0s 51ms/step\n",
      "VGG took  0.07606220245361328\n"
     ]
    },
    {
     "name": "stderr",
     "output_type": "stream",
     "text": [
      "video 1/1 (1019/3933) D:\\815_CowDataChecking\\20221230\\20221230_E_cow\\20221230_152538_8796.mkv: 1088x1088 1 cow, 10.0ms\n",
      "video 1/1 (1020/3933) D:\\815_CowDataChecking\\20221230\\20221230_E_cow\\20221230_152538_8796.mkv: 1088x1088 1 cow, 30.0ms\n",
      "WARNING  'Masks.masks' is deprecated. Use 'Masks.data' instead.\n"
     ]
    },
    {
     "name": "stdout",
     "output_type": "stream",
     "text": [
      "SVM took  1.0434770584106445\n",
      "LOOPING result took  0.0\n",
      "identification used  -1.1195392608642578\n"
     ]
    },
    {
     "name": "stderr",
     "output_type": "stream",
     "text": [
      "video 1/1 (1021/3933) D:\\815_CowDataChecking\\20221230\\20221230_E_cow\\20221230_152538_8796.mkv: 1088x1088 1 cow, 27.6ms\n",
      "WARNING  'Masks.masks' is deprecated. Use 'Masks.data' instead.\n",
      "video 1/1 (1022/3933) D:\\815_CowDataChecking\\20221230\\20221230_E_cow\\20221230_152538_8796.mkv: 1088x1088 1 cow, 30.4ms\n",
      "video 1/1 (1023/3933) D:\\815_CowDataChecking\\20221230\\20221230_E_cow\\20221230_152538_8796.mkv: 1088x1088 1 cow, 30.1ms\n",
      "WARNING  'Masks.masks' is deprecated. Use 'Masks.data' instead.\n",
      "video 1/1 (1024/3933) D:\\815_CowDataChecking\\20221230\\20221230_E_cow\\20221230_152538_8796.mkv: 1088x1088 1 cow, 27.6ms\n",
      "WARNING  'Masks.masks' is deprecated. Use 'Masks.data' instead.\n",
      "video 1/1 (1025/3933) D:\\815_CowDataChecking\\20221230\\20221230_E_cow\\20221230_152538_8796.mkv: 1088x1088 1 cow, 26.0ms\n",
      "video 1/1 (1026/3933) D:\\815_CowDataChecking\\20221230\\20221230_E_cow\\20221230_152538_8796.mkv: 1088x1088 1 cow, 23.9ms\n",
      "WARNING  'Masks.masks' is deprecated. Use 'Masks.data' instead.\n",
      "video 1/1 (1027/3933) D:\\815_CowDataChecking\\20221230\\20221230_E_cow\\20221230_152538_8796.mkv: 1088x1088 1 cow, 28.6ms\n",
      "WARNING  'Masks.masks' is deprecated. Use 'Masks.data' instead.\n",
      "video 1/1 (1028/3933) D:\\815_CowDataChecking\\20221230\\20221230_E_cow\\20221230_152538_8796.mkv: 1088x1088 1 cow, 24.9ms\n",
      "video 1/1 (1029/3933) D:\\815_CowDataChecking\\20221230\\20221230_E_cow\\20221230_152538_8796.mkv: 1088x1088 1 cow, 28.0ms\n",
      "WARNING  'Masks.masks' is deprecated. Use 'Masks.data' instead.\n",
      "video 1/1 (1030/3933) D:\\815_CowDataChecking\\20221230\\20221230_E_cow\\20221230_152538_8796.mkv: 1088x1088 1 cow, 31.0ms\n",
      "WARNING  'Masks.masks' is deprecated. Use 'Masks.data' instead.\n",
      "video 1/1 (1031/3933) D:\\815_CowDataChecking\\20221230\\20221230_E_cow\\20221230_152538_8796.mkv: 1088x1088 1 cow, 26.1ms\n",
      "video 1/1 (1032/3933) D:\\815_CowDataChecking\\20221230\\20221230_E_cow\\20221230_152538_8796.mkv: 1088x1088 1 cow, 25.9ms\n",
      "WARNING  'Masks.masks' is deprecated. Use 'Masks.data' instead.\n",
      "video 1/1 (1033/3933) D:\\815_CowDataChecking\\20221230\\20221230_E_cow\\20221230_152538_8796.mkv: 1088x1088 1 cow, 19.0ms\n",
      "WARNING  'Masks.masks' is deprecated. Use 'Masks.data' instead.\n",
      "video 1/1 (1034/3933) D:\\815_CowDataChecking\\20221230\\20221230_E_cow\\20221230_152538_8796.mkv: 1088x1088 1 cow, 25.2ms\n",
      "video 1/1 (1035/3933) D:\\815_CowDataChecking\\20221230\\20221230_E_cow\\20221230_152538_8796.mkv: 1088x1088 1 cow, 24.1ms\n",
      "WARNING  'Masks.masks' is deprecated. Use 'Masks.data' instead.\n",
      "video 1/1 (1036/3933) D:\\815_CowDataChecking\\20221230\\20221230_E_cow\\20221230_152538_8796.mkv: 1088x1088 1 cow, 19.5ms\n",
      "WARNING  'Masks.masks' is deprecated. Use 'Masks.data' instead.\n",
      "video 1/1 (1037/3933) D:\\815_CowDataChecking\\20221230\\20221230_E_cow\\20221230_152538_8796.mkv: 1088x1088 1 cow, 24.7ms\n",
      "video 1/1 (1038/3933) D:\\815_CowDataChecking\\20221230\\20221230_E_cow\\20221230_152538_8796.mkv: 1088x1088 1 cow, 23.2ms\n",
      "WARNING  'Masks.masks' is deprecated. Use 'Masks.data' instead.\n",
      "video 1/1 (1039/3933) D:\\815_CowDataChecking\\20221230\\20221230_E_cow\\20221230_152538_8796.mkv: 1088x1088 1 cow, 25.4ms\n",
      "WARNING  'Masks.masks' is deprecated. Use 'Masks.data' instead.\n",
      "video 1/1 (1040/3933) D:\\815_CowDataChecking\\20221230\\20221230_E_cow\\20221230_152538_8796.mkv: 1088x1088 1 cow, 19.1ms\n",
      "video 1/1 (1041/3933) D:\\815_CowDataChecking\\20221230\\20221230_E_cow\\20221230_152538_8796.mkv: 1088x1088 1 cow, 26.0ms\n",
      "WARNING  'Masks.masks' is deprecated. Use 'Masks.data' instead.\n",
      "video 1/1 (1042/3933) D:\\815_CowDataChecking\\20221230\\20221230_E_cow\\20221230_152538_8796.mkv: 1088x1088 1 cow, 21.4ms\n",
      "WARNING  'Masks.masks' is deprecated. Use 'Masks.data' instead.\n",
      "video 1/1 (1043/3933) D:\\815_CowDataChecking\\20221230\\20221230_E_cow\\20221230_152538_8796.mkv: 1088x1088 1 cow, 24.2ms\n",
      "video 1/1 (1044/3933) D:\\815_CowDataChecking\\20221230\\20221230_E_cow\\20221230_152538_8796.mkv: 1088x1088 1 cow, 25.5ms\n",
      "WARNING  'Masks.masks' is deprecated. Use 'Masks.data' instead.\n",
      "video 1/1 (1045/3933) D:\\815_CowDataChecking\\20221230\\20221230_E_cow\\20221230_152538_8796.mkv: 1088x1088 1 cow, 20.6ms\n",
      "WARNING  'Masks.masks' is deprecated. Use 'Masks.data' instead.\n",
      "video 1/1 (1046/3933) D:\\815_CowDataChecking\\20221230\\20221230_E_cow\\20221230_152538_8796.mkv: 1088x1088 1 cow, 25.0ms\n",
      "video 1/1 (1047/3933) D:\\815_CowDataChecking\\20221230\\20221230_E_cow\\20221230_152538_8796.mkv: 1088x1088 1 cow, 19.2ms\n",
      "WARNING  'Masks.masks' is deprecated. Use 'Masks.data' instead.\n",
      "video 1/1 (1048/3933) D:\\815_CowDataChecking\\20221230\\20221230_E_cow\\20221230_152538_8796.mkv: 1088x1088 1 cow, 24.6ms\n",
      "WARNING  'Masks.masks' is deprecated. Use 'Masks.data' instead.\n",
      "video 1/1 (1049/3933) D:\\815_CowDataChecking\\20221230\\20221230_E_cow\\20221230_152538_8796.mkv: 1088x1088 1 cow, 24.5ms\n",
      "video 1/1 (1050/3933) D:\\815_CowDataChecking\\20221230\\20221230_E_cow\\20221230_152538_8796.mkv: 1088x1088 1 cow, 14.5ms\n",
      "video 1/1 (1051/3933) D:\\815_CowDataChecking\\20221230\\20221230_E_cow\\20221230_152538_8796.mkv: 1088x1088 (no detections), 21.2ms\n",
      "video 1/1 (1052/3933) D:\\815_CowDataChecking\\20221230\\20221230_E_cow\\20221230_152538_8796.mkv: 1088x1088 (no detections), 24.4ms\n",
      "video 1/1 (1053/3933) D:\\815_CowDataChecking\\20221230\\20221230_E_cow\\20221230_152538_8796.mkv: 1088x1088 (no detections), 16.4ms\n",
      "video 1/1 (1054/3933) D:\\815_CowDataChecking\\20221230\\20221230_E_cow\\20221230_152538_8796.mkv: 1088x1088 (no detections), 15.5ms\n",
      "video 1/1 (1055/3933) D:\\815_CowDataChecking\\20221230\\20221230_E_cow\\20221230_152538_8796.mkv: 1088x1088 (no detections), 15.0ms\n",
      "video 1/1 (1056/3933) D:\\815_CowDataChecking\\20221230\\20221230_E_cow\\20221230_152538_8796.mkv: 1088x1088 (no detections), 19.5ms\n",
      "video 1/1 (1057/3933) D:\\815_CowDataChecking\\20221230\\20221230_E_cow\\20221230_152538_8796.mkv: 1088x1088 (no detections), 24.4ms\n",
      "video 1/1 (1058/3933) D:\\815_CowDataChecking\\20221230\\20221230_E_cow\\20221230_152538_8796.mkv: 1088x1088 (no detections), 22.8ms\n",
      "video 1/1 (1059/3933) D:\\815_CowDataChecking\\20221230\\20221230_E_cow\\20221230_152538_8796.mkv: 1088x1088 (no detections), 23.0ms\n",
      "video 1/1 (1060/3933) D:\\815_CowDataChecking\\20221230\\20221230_E_cow\\20221230_152538_8796.mkv: 1088x1088 (no detections), 23.5ms\n",
      "video 1/1 (1061/3933) D:\\815_CowDataChecking\\20221230\\20221230_E_cow\\20221230_152538_8796.mkv: 1088x1088 (no detections), 22.4ms\n",
      "video 1/1 (1062/3933) D:\\815_CowDataChecking\\20221230\\20221230_E_cow\\20221230_152538_8796.mkv: 1088x1088 (no detections), 23.5ms\n",
      "video 1/1 (1063/3933) D:\\815_CowDataChecking\\20221230\\20221230_E_cow\\20221230_152538_8796.mkv: 1088x1088 (no detections), 22.0ms\n",
      "video 1/1 (1064/3933) D:\\815_CowDataChecking\\20221230\\20221230_E_cow\\20221230_152538_8796.mkv: 1088x1088 (no detections), 24.7ms\n",
      "video 1/1 (1065/3933) D:\\815_CowDataChecking\\20221230\\20221230_E_cow\\20221230_152538_8796.mkv: 1088x1088 (no detections), 22.5ms\n",
      "video 1/1 (1066/3933) D:\\815_CowDataChecking\\20221230\\20221230_E_cow\\20221230_152538_8796.mkv: 1088x1088 (no detections), 23.5ms\n",
      "video 1/1 (1067/3933) D:\\815_CowDataChecking\\20221230\\20221230_E_cow\\20221230_152538_8796.mkv: 1088x1088 (no detections), 16.8ms\n",
      "video 1/1 (1068/3933) D:\\815_CowDataChecking\\20221230\\20221230_E_cow\\20221230_152538_8796.mkv: 1088x1088 (no detections), 20.1ms\n",
      "video 1/1 (1069/3933) D:\\815_CowDataChecking\\20221230\\20221230_E_cow\\20221230_152538_8796.mkv: 1088x1088 (no detections), 23.3ms\n",
      "video 1/1 (1070/3933) D:\\815_CowDataChecking\\20221230\\20221230_E_cow\\20221230_152538_8796.mkv: 1088x1088 (no detections), 22.0ms\n",
      "video 1/1 (1071/3933) D:\\815_CowDataChecking\\20221230\\20221230_E_cow\\20221230_152538_8796.mkv: 1088x1088 (no detections), 23.4ms\n",
      "video 1/1 (1072/3933) D:\\815_CowDataChecking\\20221230\\20221230_E_cow\\20221230_152538_8796.mkv: 1088x1088 (no detections), 22.0ms\n",
      "video 1/1 (1073/3933) D:\\815_CowDataChecking\\20221230\\20221230_E_cow\\20221230_152538_8796.mkv: 1088x1088 (no detections), 21.9ms\n",
      "video 1/1 (1074/3933) D:\\815_CowDataChecking\\20221230\\20221230_E_cow\\20221230_152538_8796.mkv: 1088x1088 (no detections), 22.0ms\n",
      "video 1/1 (1075/3933) D:\\815_CowDataChecking\\20221230\\20221230_E_cow\\20221230_152538_8796.mkv: 1088x1088 (no detections), 20.4ms\n",
      "video 1/1 (1076/3933) D:\\815_CowDataChecking\\20221230\\20221230_E_cow\\20221230_152538_8796.mkv: 1088x1088 (no detections), 24.4ms\n",
      "video 1/1 (1077/3933) D:\\815_CowDataChecking\\20221230\\20221230_E_cow\\20221230_152538_8796.mkv: 1088x1088 (no detections), 21.9ms\n",
      "video 1/1 (1078/3933) D:\\815_CowDataChecking\\20221230\\20221230_E_cow\\20221230_152538_8796.mkv: 1088x1088 (no detections), 22.4ms\n",
      "video 1/1 (1079/3933) D:\\815_CowDataChecking\\20221230\\20221230_E_cow\\20221230_152538_8796.mkv: 1088x1088 (no detections), 24.2ms\n",
      "video 1/1 (1080/3933) D:\\815_CowDataChecking\\20221230\\20221230_E_cow\\20221230_152538_8796.mkv: 1088x1088 (no detections), 17.1ms\n",
      "video 1/1 (1081/3933) D:\\815_CowDataChecking\\20221230\\20221230_E_cow\\20221230_152538_8796.mkv: 1088x1088 (no detections), 15.4ms\n",
      "video 1/1 (1082/3933) D:\\815_CowDataChecking\\20221230\\20221230_E_cow\\20221230_152538_8796.mkv: 1088x1088 (no detections), 23.2ms\n",
      "video 1/1 (1083/3933) D:\\815_CowDataChecking\\20221230\\20221230_E_cow\\20221230_152538_8796.mkv: 1088x1088 (no detections), 24.4ms\n",
      "video 1/1 (1084/3933) D:\\815_CowDataChecking\\20221230\\20221230_E_cow\\20221230_152538_8796.mkv: 1088x1088 (no detections), 20.2ms\n",
      "video 1/1 (1085/3933) D:\\815_CowDataChecking\\20221230\\20221230_E_cow\\20221230_152538_8796.mkv: 1088x1088 (no detections), 20.0ms\n",
      "video 1/1 (1086/3933) D:\\815_CowDataChecking\\20221230\\20221230_E_cow\\20221230_152538_8796.mkv: 1088x1088 (no detections), 23.5ms\n",
      "video 1/1 (1087/3933) D:\\815_CowDataChecking\\20221230\\20221230_E_cow\\20221230_152538_8796.mkv: 1088x1088 (no detections), 24.0ms\n",
      "WARNING  'Masks.masks' is deprecated. Use 'Masks.data' instead.\n",
      "video 1/1 (1088/3933) D:\\815_CowDataChecking\\20221230\\20221230_E_cow\\20221230_152538_8796.mkv: 1088x1088 1 cow, 21.9ms\n",
      "video 1/1 (1089/3933) D:\\815_CowDataChecking\\20221230\\20221230_E_cow\\20221230_152538_8796.mkv: 1088x1088 1 cow, 22.4ms\n",
      "WARNING  'Masks.masks' is deprecated. Use 'Masks.data' instead.\n",
      "video 1/1 (1090/3933) D:\\815_CowDataChecking\\20221230\\20221230_E_cow\\20221230_152538_8796.mkv: 1088x1088 1 cow, 19.1ms\n",
      "WARNING  'Masks.masks' is deprecated. Use 'Masks.data' instead.\n",
      "video 1/1 (1091/3933) D:\\815_CowDataChecking\\20221230\\20221230_E_cow\\20221230_152538_8796.mkv: 1088x1088 1 cow, 22.4ms\n",
      "video 1/1 (1092/3933) D:\\815_CowDataChecking\\20221230\\20221230_E_cow\\20221230_152538_8796.mkv: 1088x1088 1 cow, 14.6ms\n",
      "WARNING  'Masks.masks' is deprecated. Use 'Masks.data' instead.\n",
      "video 1/1 (1093/3933) D:\\815_CowDataChecking\\20221230\\20221230_E_cow\\20221230_152538_8796.mkv: 1088x1088 1 cow, 21.2ms\n",
      "WARNING  'Masks.masks' is deprecated. Use 'Masks.data' instead.\n",
      "video 1/1 (1094/3933) D:\\815_CowDataChecking\\20221230\\20221230_E_cow\\20221230_152538_8796.mkv: 1088x1088 1 cow, 24.1ms\n",
      "video 1/1 (1095/3933) D:\\815_CowDataChecking\\20221230\\20221230_E_cow\\20221230_152538_8796.mkv: 1088x1088 1 cow, 22.0ms\n",
      "WARNING  'Masks.masks' is deprecated. Use 'Masks.data' instead.\n",
      "video 1/1 (1096/3933) D:\\815_CowDataChecking\\20221230\\20221230_E_cow\\20221230_152538_8796.mkv: 1088x1088 1 cow, 20.1ms\n",
      "WARNING  'Masks.masks' is deprecated. Use 'Masks.data' instead.\n",
      "video 1/1 (1097/3933) D:\\815_CowDataChecking\\20221230\\20221230_E_cow\\20221230_152538_8796.mkv: 1088x1088 1 cow, 23.1ms\n",
      "video 1/1 (1098/3933) D:\\815_CowDataChecking\\20221230\\20221230_E_cow\\20221230_152538_8796.mkv: 1088x1088 1 cow, 18.4ms\n",
      "WARNING  'Masks.masks' is deprecated. Use 'Masks.data' instead.\n",
      "video 1/1 (1099/3933) D:\\815_CowDataChecking\\20221230\\20221230_E_cow\\20221230_152538_8796.mkv: 1088x1088 1 cow, 15.6ms\n",
      "WARNING  'Masks.masks' is deprecated. Use 'Masks.data' instead.\n",
      "video 1/1 (1100/3933) D:\\815_CowDataChecking\\20221230\\20221230_E_cow\\20221230_152538_8796.mkv: 1088x1088 1 cow, 23.5ms\n",
      "video 1/1 (1101/3933) D:\\815_CowDataChecking\\20221230\\20221230_E_cow\\20221230_152538_8796.mkv: 1088x1088 1 cow, 23.1ms\n",
      "WARNING  'Masks.masks' is deprecated. Use 'Masks.data' instead.\n",
      "video 1/1 (1102/3933) D:\\815_CowDataChecking\\20221230\\20221230_E_cow\\20221230_152538_8796.mkv: 1088x1088 1 cow, 20.6ms\n",
      "WARNING  'Masks.masks' is deprecated. Use 'Masks.data' instead.\n",
      "video 1/1 (1103/3933) D:\\815_CowDataChecking\\20221230\\20221230_E_cow\\20221230_152538_8796.mkv: 1088x1088 1 cow, 23.0ms\n",
      "video 1/1 (1104/3933) D:\\815_CowDataChecking\\20221230\\20221230_E_cow\\20221230_152538_8796.mkv: 1088x1088 1 cow, 21.0ms\n",
      "WARNING  'Masks.masks' is deprecated. Use 'Masks.data' instead.\n",
      "video 1/1 (1105/3933) D:\\815_CowDataChecking\\20221230\\20221230_E_cow\\20221230_152538_8796.mkv: 1088x1088 1 cow, 19.4ms\n",
      "WARNING  'Masks.masks' is deprecated. Use 'Masks.data' instead.\n",
      "video 1/1 (1106/3933) D:\\815_CowDataChecking\\20221230\\20221230_E_cow\\20221230_152538_8796.mkv: 1088x1088 1 cow, 16.9ms\n",
      "video 1/1 (1107/3933) D:\\815_CowDataChecking\\20221230\\20221230_E_cow\\20221230_152538_8796.mkv: 1088x1088 1 cow, 22.4ms\n",
      "WARNING  'Masks.masks' is deprecated. Use 'Masks.data' instead.\n",
      "video 1/1 (1108/3933) D:\\815_CowDataChecking\\20221230\\20221230_E_cow\\20221230_152538_8796.mkv: 1088x1088 1 cow, 20.5ms\n",
      "WARNING  'Masks.masks' is deprecated. Use 'Masks.data' instead.\n",
      "video 1/1 (1109/3933) D:\\815_CowDataChecking\\20221230\\20221230_E_cow\\20221230_152538_8796.mkv: 1088x1088 1 cow, 24.1ms\n",
      "video 1/1 (1110/3933) D:\\815_CowDataChecking\\20221230\\20221230_E_cow\\20221230_152538_8796.mkv: 1088x1088 1 cow, 23.0ms\n",
      "WARNING  'Masks.masks' is deprecated. Use 'Masks.data' instead.\n",
      "video 1/1 (1111/3933) D:\\815_CowDataChecking\\20221230\\20221230_E_cow\\20221230_152538_8796.mkv: 1088x1088 1 cow, 21.5ms\n",
      "WARNING  'Masks.masks' is deprecated. Use 'Masks.data' instead.\n",
      "video 1/1 (1112/3933) D:\\815_CowDataChecking\\20221230\\20221230_E_cow\\20221230_152538_8796.mkv: 1088x1088 1 cow, 24.3ms\n",
      "video 1/1 (1113/3933) D:\\815_CowDataChecking\\20221230\\20221230_E_cow\\20221230_152538_8796.mkv: 1088x1088 1 cow, 15.6ms\n",
      "WARNING  'Masks.masks' is deprecated. Use 'Masks.data' instead.\n",
      "video 1/1 (1114/3933) D:\\815_CowDataChecking\\20221230\\20221230_E_cow\\20221230_152538_8796.mkv: 1088x1088 1 cow, 20.0ms\n",
      "WARNING  'Masks.masks' is deprecated. Use 'Masks.data' instead.\n",
      "video 1/1 (1115/3933) D:\\815_CowDataChecking\\20221230\\20221230_E_cow\\20221230_152538_8796.mkv: 1088x1088 1 cow, 23.0ms\n",
      "video 1/1 (1116/3933) D:\\815_CowDataChecking\\20221230\\20221230_E_cow\\20221230_152538_8796.mkv: 1088x1088 1 cow, 22.4ms\n",
      "WARNING  'Masks.masks' is deprecated. Use 'Masks.data' instead.\n",
      "video 1/1 (1117/3933) D:\\815_CowDataChecking\\20221230\\20221230_E_cow\\20221230_152538_8796.mkv: 1088x1088 1 cow, 19.4ms\n",
      "WARNING  'Masks.masks' is deprecated. Use 'Masks.data' instead.\n",
      "video 1/1 (1118/3933) D:\\815_CowDataChecking\\20221230\\20221230_E_cow\\20221230_152538_8796.mkv: 1088x1088 1 cow, 24.1ms\n",
      "video 1/1 (1119/3933) D:\\815_CowDataChecking\\20221230\\20221230_E_cow\\20221230_152538_8796.mkv: 1088x1088 1 cow, 25.1ms\n",
      "WARNING  'Masks.masks' is deprecated. Use 'Masks.data' instead.\n",
      "video 1/1 (1120/3933) D:\\815_CowDataChecking\\20221230\\20221230_E_cow\\20221230_152538_8796.mkv: 1088x1088 1 cow, 25.4ms\n",
      "WARNING  'Masks.masks' is deprecated. Use 'Masks.data' instead.\n",
      "video 1/1 (1121/3933) D:\\815_CowDataChecking\\20221230\\20221230_E_cow\\20221230_152538_8796.mkv: 1088x1088 1 cow, 17.2ms\n",
      "video 1/1 (1122/3933) D:\\815_CowDataChecking\\20221230\\20221230_E_cow\\20221230_152538_8796.mkv: 1088x1088 1 cow, 22.8ms\n",
      "WARNING  'Masks.masks' is deprecated. Use 'Masks.data' instead.\n",
      "video 1/1 (1123/3933) D:\\815_CowDataChecking\\20221230\\20221230_E_cow\\20221230_152538_8796.mkv: 1088x1088 1 cow, 19.8ms\n",
      "WARNING  'Masks.masks' is deprecated. Use 'Masks.data' instead.\n",
      "video 1/1 (1124/3933) D:\\815_CowDataChecking\\20221230\\20221230_E_cow\\20221230_152538_8796.mkv: 1088x1088 1 cow, 19.1ms\n",
      "video 1/1 (1125/3933) D:\\815_CowDataChecking\\20221230\\20221230_E_cow\\20221230_152538_8796.mkv: 1088x1088 1 cow, 17.7ms\n",
      "WARNING  'Masks.masks' is deprecated. Use 'Masks.data' instead.\n",
      "video 1/1 (1126/3933) D:\\815_CowDataChecking\\20221230\\20221230_E_cow\\20221230_152538_8796.mkv: 1088x1088 1 cow, 23.4ms\n",
      "WARNING  'Masks.masks' is deprecated. Use 'Masks.data' instead.\n",
      "video 1/1 (1127/3933) D:\\815_CowDataChecking\\20221230\\20221230_E_cow\\20221230_152538_8796.mkv: 1088x1088 1 cow, 22.4ms\n",
      "video 1/1 (1128/3933) D:\\815_CowDataChecking\\20221230\\20221230_E_cow\\20221230_152538_8796.mkv: 1088x1088 1 cow, 23.0ms\n",
      "WARNING  'Masks.masks' is deprecated. Use 'Masks.data' instead.\n",
      "video 1/1 (1129/3933) D:\\815_CowDataChecking\\20221230\\20221230_E_cow\\20221230_152538_8796.mkv: 1088x1088 1 cow, 20.4ms\n",
      "WARNING  'Masks.masks' is deprecated. Use 'Masks.data' instead.\n",
      "video 1/1 (1130/3933) D:\\815_CowDataChecking\\20221230\\20221230_E_cow\\20221230_152538_8796.mkv: 1088x1088 1 cow, 24.1ms\n",
      "video 1/1 (1131/3933) D:\\815_CowDataChecking\\20221230\\20221230_E_cow\\20221230_152538_8796.mkv: 1088x1088 1 cow, 14.3ms\n",
      "WARNING  'Masks.masks' is deprecated. Use 'Masks.data' instead.\n",
      "video 1/1 (1132/3933) D:\\815_CowDataChecking\\20221230\\20221230_E_cow\\20221230_152538_8796.mkv: 1088x1088 1 cow, 27.5ms\n",
      "WARNING  'Masks.masks' is deprecated. Use 'Masks.data' instead.\n",
      "video 1/1 (1133/3933) D:\\815_CowDataChecking\\20221230\\20221230_E_cow\\20221230_152538_8796.mkv: 1088x1088 1 cow, 20.3ms\n",
      "video 1/1 (1134/3933) D:\\815_CowDataChecking\\20221230\\20221230_E_cow\\20221230_152538_8796.mkv: 1088x1088 1 cow, 14.1ms\n",
      "WARNING  'Masks.masks' is deprecated. Use 'Masks.data' instead.\n",
      "video 1/1 (1135/3933) D:\\815_CowDataChecking\\20221230\\20221230_E_cow\\20221230_152538_8796.mkv: 1088x1088 1 cow, 21.0ms\n",
      "WARNING  'Masks.masks' is deprecated. Use 'Masks.data' instead.\n",
      "video 1/1 (1136/3933) D:\\815_CowDataChecking\\20221230\\20221230_E_cow\\20221230_152538_8796.mkv: 1088x1088 1 cow, 20.2ms\n",
      "video 1/1 (1137/3933) D:\\815_CowDataChecking\\20221230\\20221230_E_cow\\20221230_152538_8796.mkv: 1088x1088 1 cow, 23.0ms\n",
      "WARNING  'Masks.masks' is deprecated. Use 'Masks.data' instead.\n",
      "video 1/1 (1138/3933) D:\\815_CowDataChecking\\20221230\\20221230_E_cow\\20221230_152538_8796.mkv: 1088x1088 1 cow, 22.7ms\n",
      "WARNING  'Masks.masks' is deprecated. Use 'Masks.data' instead.\n",
      "video 1/1 (1139/3933) D:\\815_CowDataChecking\\20221230\\20221230_E_cow\\20221230_152538_8796.mkv: 1088x1088 1 cow, 21.0ms\n",
      "video 1/1 (1140/3933) D:\\815_CowDataChecking\\20221230\\20221230_E_cow\\20221230_152538_8796.mkv: 1088x1088 1 cow, 16.4ms\n",
      "WARNING  'Masks.masks' is deprecated. Use 'Masks.data' instead.\n",
      "video 1/1 (1141/3933) D:\\815_CowDataChecking\\20221230\\20221230_E_cow\\20221230_152538_8796.mkv: 1088x1088 1 cow, 23.0ms\n",
      "WARNING  'Masks.masks' is deprecated. Use 'Masks.data' instead.\n",
      "video 1/1 (1142/3933) D:\\815_CowDataChecking\\20221230\\20221230_E_cow\\20221230_152538_8796.mkv: 1088x1088 1 cow, 22.4ms\n",
      "video 1/1 (1143/3933) D:\\815_CowDataChecking\\20221230\\20221230_E_cow\\20221230_152538_8796.mkv: 1088x1088 1 cow, 23.2ms\n",
      "WARNING  'Masks.masks' is deprecated. Use 'Masks.data' instead.\n",
      "video 1/1 (1144/3933) D:\\815_CowDataChecking\\20221230\\20221230_E_cow\\20221230_152538_8796.mkv: 1088x1088 1 cow, 20.1ms\n",
      "WARNING  'Masks.masks' is deprecated. Use 'Masks.data' instead.\n",
      "video 1/1 (1145/3933) D:\\815_CowDataChecking\\20221230\\20221230_E_cow\\20221230_152538_8796.mkv: 1088x1088 1 cow, 23.6ms\n",
      "video 1/1 (1146/3933) D:\\815_CowDataChecking\\20221230\\20221230_E_cow\\20221230_152538_8796.mkv: 1088x1088 1 cow, 18.0ms\n",
      "WARNING  'Masks.masks' is deprecated. Use 'Masks.data' instead.\n",
      "video 1/1 (1147/3933) D:\\815_CowDataChecking\\20221230\\20221230_E_cow\\20221230_152538_8796.mkv: 1088x1088 1 cow, 24.2ms\n",
      "WARNING  'Masks.masks' is deprecated. Use 'Masks.data' instead.\n",
      "video 1/1 (1148/3933) D:\\815_CowDataChecking\\20221230\\20221230_E_cow\\20221230_152538_8796.mkv: 1088x1088 1 cow, 22.8ms\n",
      "video 1/1 (1149/3933) D:\\815_CowDataChecking\\20221230\\20221230_E_cow\\20221230_152538_8796.mkv: 1088x1088 1 cow, 23.9ms\n",
      "WARNING  'Masks.masks' is deprecated. Use 'Masks.data' instead.\n",
      "video 1/1 (1150/3933) D:\\815_CowDataChecking\\20221230\\20221230_E_cow\\20221230_152538_8796.mkv: 1088x1088 1 cow, 20.0ms\n",
      "WARNING  'Masks.masks' is deprecated. Use 'Masks.data' instead.\n",
      "video 1/1 (1151/3933) D:\\815_CowDataChecking\\20221230\\20221230_E_cow\\20221230_152538_8796.mkv: 1088x1088 1 cow, 23.4ms\n",
      "video 1/1 (1152/3933) D:\\815_CowDataChecking\\20221230\\20221230_E_cow\\20221230_152538_8796.mkv: 1088x1088 1 cow, 23.4ms\n",
      "WARNING  'Masks.masks' is deprecated. Use 'Masks.data' instead.\n",
      "video 1/1 (1153/3933) D:\\815_CowDataChecking\\20221230\\20221230_E_cow\\20221230_152538_8796.mkv: 1088x1088 1 cow, 19.0ms\n",
      "WARNING  'Masks.masks' is deprecated. Use 'Masks.data' instead.\n",
      "video 1/1 (1154/3933) D:\\815_CowDataChecking\\20221230\\20221230_E_cow\\20221230_152538_8796.mkv: 1088x1088 1 cow, 22.1ms\n",
      "video 1/1 (1155/3933) D:\\815_CowDataChecking\\20221230\\20221230_E_cow\\20221230_152538_8796.mkv: 1088x1088 1 cow, 14.4ms\n",
      "WARNING  'Masks.masks' is deprecated. Use 'Masks.data' instead.\n",
      "video 1/1 (1156/3933) D:\\815_CowDataChecking\\20221230\\20221230_E_cow\\20221230_152538_8796.mkv: 1088x1088 1 cow, 22.2ms\n",
      "WARNING  'Masks.masks' is deprecated. Use 'Masks.data' instead.\n",
      "video 1/1 (1157/3933) D:\\815_CowDataChecking\\20221230\\20221230_E_cow\\20221230_152538_8796.mkv: 1088x1088 1 cow, 23.4ms\n",
      "video 1/1 (1158/3933) D:\\815_CowDataChecking\\20221230\\20221230_E_cow\\20221230_152538_8796.mkv: 1088x1088 1 cow, 23.3ms\n",
      "WARNING  'Masks.masks' is deprecated. Use 'Masks.data' instead.\n",
      "video 1/1 (1159/3933) D:\\815_CowDataChecking\\20221230\\20221230_E_cow\\20221230_152538_8796.mkv: 1088x1088 1 cow, 24.7ms\n",
      "WARNING  'Masks.masks' is deprecated. Use 'Masks.data' instead.\n",
      "video 1/1 (1160/3933) D:\\815_CowDataChecking\\20221230\\20221230_E_cow\\20221230_152538_8796.mkv: 1088x1088 1 cow, 23.4ms\n",
      "video 1/1 (1161/3933) D:\\815_CowDataChecking\\20221230\\20221230_E_cow\\20221230_152538_8796.mkv: 1088x1088 1 cow, 16.5ms\n",
      "WARNING  'Masks.masks' is deprecated. Use 'Masks.data' instead.\n"
     ]
    },
    {
     "name": "stdout",
     "output_type": "stream",
     "text": [
      "White Percentage of 6: 3.12%\n",
      "1/1 [==============================] - 0s 58ms/step\n",
      "VGG took  0.07406473159790039\n"
     ]
    },
    {
     "name": "stderr",
     "output_type": "stream",
     "text": [
      "video 1/1 (1162/3933) D:\\815_CowDataChecking\\20221230\\20221230_E_cow\\20221230_152538_8796.mkv: 1088x1088 1 cow, 23.4ms\n",
      "WARNING  'Masks.masks' is deprecated. Use 'Masks.data' instead.\n",
      "video 1/1 (1163/3933) D:\\815_CowDataChecking\\20221230\\20221230_E_cow\\20221230_152538_8796.mkv: 1088x1088 1 cow, 19.9ms\n",
      "video 1/1 (1164/3933) D:\\815_CowDataChecking\\20221230\\20221230_E_cow\\20221230_152538_8796.mkv: 1088x1088 1 cow, 14.6ms\n"
     ]
    },
    {
     "name": "stdout",
     "output_type": "stream",
     "text": [
      "SVM took  1.0541362762451172\n",
      "LOOPING result took  0.0\n",
      "identification used  -1.1282010078430176\n",
      "[['ID', 'COLOR', 'RANK1', 'RANK1_prob', 'RANK2', 'RANK2_prob']]\n",
      "new cattle  xxxxxxxxxxxxxxxxxxxxx new cattle alert \n"
     ]
    },
    {
     "name": "stderr",
     "output_type": "stream",
     "text": [
      "WARNING  'Masks.masks' is deprecated. Use 'Masks.data' instead.\n"
     ]
    },
    {
     "name": "stdout",
     "output_type": "stream",
     "text": [
      "White Percentage of 6: 3.52%\n",
      "1/1 [==============================] - 0s 53ms/step\n",
      "VGG took  0.07962584495544434\n"
     ]
    },
    {
     "name": "stderr",
     "output_type": "stream",
     "text": [
      "video 1/1 (1165/3933) D:\\815_CowDataChecking\\20221230\\20221230_E_cow\\20221230_152538_8796.mkv: 1088x1088 1 cow, 22.4ms\n",
      "WARNING  'Masks.masks' is deprecated. Use 'Masks.data' instead.\n"
     ]
    },
    {
     "name": "stdout",
     "output_type": "stream",
     "text": [
      "SVM took  1.057300090789795\n",
      "LOOPING result took  0.0\n",
      "identification used  -1.1369259357452393\n",
      "White Percentage of 6: 3.60%\n",
      "1/1 [==============================] - 0s 54ms/step\n",
      "VGG took  0.07932615280151367\n"
     ]
    },
    {
     "name": "stderr",
     "output_type": "stream",
     "text": [
      "video 1/1 (1166/3933) D:\\815_CowDataChecking\\20221230\\20221230_E_cow\\20221230_152538_8796.mkv: 1088x1088 1 cow, 69.5ms\n"
     ]
    },
    {
     "name": "stdout",
     "output_type": "stream",
     "text": [
      "SVM took  1.0452842712402344\n",
      "LOOPING result took  0.0\n",
      "identification used  -1.124610424041748\n"
     ]
    },
    {
     "name": "stderr",
     "output_type": "stream",
     "text": [
      "video 1/1 (1167/3933) D:\\815_CowDataChecking\\20221230\\20221230_E_cow\\20221230_152538_8796.mkv: 1088x1088 1 cow, 133.9ms\n",
      "WARNING  'Masks.masks' is deprecated. Use 'Masks.data' instead.\n"
     ]
    },
    {
     "name": "stdout",
     "output_type": "stream",
     "text": [
      "White Percentage of 6: 3.18%\n",
      "1/1 [==============================] - 0s 60ms/step\n",
      "VGG took  0.0729060173034668\n"
     ]
    },
    {
     "name": "stderr",
     "output_type": "stream",
     "text": [
      "video 1/1 (1168/3933) D:\\815_CowDataChecking\\20221230\\20221230_E_cow\\20221230_152538_8796.mkv: 1088x1088 1 cow, 73.6ms\n",
      "WARNING  'Masks.masks' is deprecated. Use 'Masks.data' instead.\n"
     ]
    },
    {
     "name": "stdout",
     "output_type": "stream",
     "text": [
      "SVM took  1.0545861721038818\n",
      "LOOPING result took  0.0\n",
      "identification used  -1.1274921894073486\n",
      "White Percentage of 6: 3.12%\n",
      "1/1 [==============================] - 0s 60ms/step\n",
      "VGG took  0.0790102481842041\n"
     ]
    },
    {
     "name": "stderr",
     "output_type": "stream",
     "text": [
      "video 1/1 (1169/3933) D:\\815_CowDataChecking\\20221230\\20221230_E_cow\\20221230_152538_8796.mkv: 1088x1088 1 cow, 60.0ms\n"
     ]
    },
    {
     "name": "stdout",
     "output_type": "stream",
     "text": [
      "SVM took  1.0513536930084229\n",
      "LOOPING result took  0.0\n",
      "identification used  -1.130363941192627\n"
     ]
    },
    {
     "name": "stderr",
     "output_type": "stream",
     "text": [
      "video 1/1 (1170/3933) D:\\815_CowDataChecking\\20221230\\20221230_E_cow\\20221230_152538_8796.mkv: 1088x1088 1 cow, 142.4ms\n",
      "WARNING  'Masks.masks' is deprecated. Use 'Masks.data' instead.\n"
     ]
    },
    {
     "name": "stdout",
     "output_type": "stream",
     "text": [
      "White Percentage of 6: 3.48%\n",
      "1/1 [==============================] - 0s 51ms/step\n",
      "VGG took  0.07684135437011719\n"
     ]
    },
    {
     "name": "stderr",
     "output_type": "stream",
     "text": [
      "video 1/1 (1171/3933) D:\\815_CowDataChecking\\20221230\\20221230_E_cow\\20221230_152538_8796.mkv: 1088x1088 1 cow, 70.1ms\n",
      "WARNING  'Masks.masks' is deprecated. Use 'Masks.data' instead.\n"
     ]
    },
    {
     "name": "stdout",
     "output_type": "stream",
     "text": [
      "SVM took  1.055530309677124\n",
      "LOOPING result took  0.0\n",
      "identification used  -1.1323716640472412\n",
      "White Percentage of 6: 3.27%\n",
      "1/1 [==============================] - 0s 51ms/step\n",
      "VGG took  0.08144664764404297\n"
     ]
    },
    {
     "name": "stderr",
     "output_type": "stream",
     "text": [
      "video 1/1 (1172/3933) D:\\815_CowDataChecking\\20221230\\20221230_E_cow\\20221230_152538_8796.mkv: 1088x1088 1 cow, 60.6ms\n"
     ]
    },
    {
     "name": "stdout",
     "output_type": "stream",
     "text": [
      "SVM took  1.0373482704162598\n",
      "LOOPING result took  0.0\n",
      "identification used  -1.1187949180603027\n"
     ]
    },
    {
     "name": "stderr",
     "output_type": "stream",
     "text": [
      "video 1/1 (1173/3933) D:\\815_CowDataChecking\\20221230\\20221230_E_cow\\20221230_152538_8796.mkv: 1088x1088 1 cow, 160.2ms\n",
      "WARNING  'Masks.masks' is deprecated. Use 'Masks.data' instead.\n"
     ]
    },
    {
     "name": "stdout",
     "output_type": "stream",
     "text": [
      "White Percentage of 6: 3.63%\n",
      "1/1 [==============================] - 0s 57ms/step\n",
      "VGG took  0.0786142349243164\n"
     ]
    },
    {
     "name": "stderr",
     "output_type": "stream",
     "text": [
      "video 1/1 (1174/3933) D:\\815_CowDataChecking\\20221230\\20221230_E_cow\\20221230_152538_8796.mkv: 1088x1088 1 cow, 10.0ms\n",
      "WARNING  'Masks.masks' is deprecated. Use 'Masks.data' instead.\n"
     ]
    },
    {
     "name": "stdout",
     "output_type": "stream",
     "text": [
      "SVM took  1.0668613910675049\n",
      "LOOPING result took  0.0\n",
      "identification used  -1.1454756259918213\n",
      "White Percentage of 6: 3.28%\n",
      "1/1 [==============================] - 0s 62ms/step\n",
      "VGG took  0.07678890228271484\n"
     ]
    },
    {
     "name": "stderr",
     "output_type": "stream",
     "text": [
      "video 1/1 (1175/3933) D:\\815_CowDataChecking\\20221230\\20221230_E_cow\\20221230_152538_8796.mkv: 1088x1088 1 cow, 11.2ms\n",
      "video 1/1 (1176/3933) D:\\815_CowDataChecking\\20221230\\20221230_E_cow\\20221230_152538_8796.mkv: 1088x1088 2 cows, 30.0ms\n",
      "WARNING  'Masks.masks' is deprecated. Use 'Masks.data' instead.\n"
     ]
    },
    {
     "name": "stdout",
     "output_type": "stream",
     "text": [
      "SVM took  1.047834873199463\n",
      "LOOPING result took  0.0\n",
      "identification used  -1.1246237754821777\n",
      "White Percentage of 6: 3.42%\n",
      "1/1 [==============================] - 0s 60ms/step\n",
      "VGG took  0.0804598331451416\n"
     ]
    },
    {
     "name": "stderr",
     "output_type": "stream",
     "text": [
      "video 1/1 (1177/3933) D:\\815_CowDataChecking\\20221230\\20221230_E_cow\\20221230_152538_8796.mkv: 1088x1088 2 cows, 30.6ms\n",
      "WARNING  'Masks.masks' is deprecated. Use 'Masks.data' instead.\n"
     ]
    },
    {
     "name": "stdout",
     "output_type": "stream",
     "text": [
      "SVM took  1.0480341911315918\n",
      "LOOPING result took  0.0\n",
      "identification used  -1.1284940242767334\n",
      "White Percentage of 6: 2.53%\n",
      "1/1 [==============================] - 0s 52ms/step\n",
      "VGG took  0.07818126678466797\n"
     ]
    },
    {
     "name": "stderr",
     "output_type": "stream",
     "text": [
      "video 1/1 (1178/3933) D:\\815_CowDataChecking\\20221230\\20221230_E_cow\\20221230_152538_8796.mkv: 1088x1088 2 cows, 90.2ms\n"
     ]
    },
    {
     "name": "stdout",
     "output_type": "stream",
     "text": [
      "SVM took  1.0517549514770508\n",
      "LOOPING result took  0.0\n",
      "identification used  -1.1299362182617188\n"
     ]
    },
    {
     "name": "stderr",
     "output_type": "stream",
     "text": [
      "video 1/1 (1179/3933) D:\\815_CowDataChecking\\20221230\\20221230_E_cow\\20221230_152538_8796.mkv: 1088x1088 1 cow, 166.6ms\n",
      "WARNING  'Masks.masks' is deprecated. Use 'Masks.data' instead.\n"
     ]
    },
    {
     "name": "stdout",
     "output_type": "stream",
     "text": [
      "White Percentage of 6: 3.14%\n",
      "1/1 [==============================] - 0s 60ms/step\n",
      "VGG took  0.07525873184204102\n"
     ]
    },
    {
     "name": "stderr",
     "output_type": "stream",
     "text": [
      "video 1/1 (1180/3933) D:\\815_CowDataChecking\\20221230\\20221230_E_cow\\20221230_152538_8796.mkv: 1088x1088 2 cows, 60.0ms\n",
      "WARNING  'Masks.masks' is deprecated. Use 'Masks.data' instead.\n"
     ]
    },
    {
     "name": "stdout",
     "output_type": "stream",
     "text": [
      "SVM took  1.0650334358215332\n",
      "LOOPING result took  0.0\n",
      "identification used  -1.1402921676635742\n",
      "White Percentage of 6: 2.95%\n",
      "1/1 [==============================] - 0s 53ms/step\n",
      "VGG took  0.07804656028747559\n"
     ]
    },
    {
     "name": "stderr",
     "output_type": "stream",
     "text": [
      "video 1/1 (1181/3933) D:\\815_CowDataChecking\\20221230\\20221230_E_cow\\20221230_152538_8796.mkv: 1088x1088 1 cow, 10.1ms\n",
      "video 1/1 (1182/3933) D:\\815_CowDataChecking\\20221230\\20221230_E_cow\\20221230_152538_8796.mkv: 1088x1088 2 cows, 30.0ms\n",
      "WARNING  'Masks.masks' is deprecated. Use 'Masks.data' instead.\n"
     ]
    },
    {
     "name": "stdout",
     "output_type": "stream",
     "text": [
      "SVM took  1.0529248714447021\n",
      "LOOPING result took  0.0\n",
      "identification used  -1.1322832107543945\n",
      "White Percentage of 6: 3.20%\n",
      "1/1 [==============================] - 0s 56ms/step\n",
      "VGG took  0.07919120788574219\n"
     ]
    },
    {
     "name": "stderr",
     "output_type": "stream",
     "text": [
      "video 1/1 (1183/3933) D:\\815_CowDataChecking\\20221230\\20221230_E_cow\\20221230_152538_8796.mkv: 1088x1088 2 cows, 28.5ms\n",
      "WARNING  'Masks.masks' is deprecated. Use 'Masks.data' instead.\n"
     ]
    },
    {
     "name": "stdout",
     "output_type": "stream",
     "text": [
      "SVM took  1.042492151260376\n",
      "LOOPING result took  0.0\n",
      "identification used  -1.1216833591461182\n",
      "White Percentage of 6: 3.02%\n",
      "1/1 [==============================] - 0s 51ms/step\n",
      "VGG took  0.08058667182922363\n"
     ]
    },
    {
     "name": "stderr",
     "output_type": "stream",
     "text": [
      "video 1/1 (1184/3933) D:\\815_CowDataChecking\\20221230\\20221230_E_cow\\20221230_152538_8796.mkv: 1088x1088 2 cows, 90.2ms\n"
     ]
    },
    {
     "name": "stdout",
     "output_type": "stream",
     "text": [
      "SVM took  1.0496065616607666\n",
      "LOOPING result took  0.0\n",
      "identification used  -1.1301932334899902\n"
     ]
    },
    {
     "name": "stderr",
     "output_type": "stream",
     "text": [
      "video 1/1 (1185/3933) D:\\815_CowDataChecking\\20221230\\20221230_E_cow\\20221230_152538_8796.mkv: 1088x1088 2 cows, 170.1ms\n",
      "WARNING  'Masks.masks' is deprecated. Use 'Masks.data' instead.\n"
     ]
    },
    {
     "name": "stdout",
     "output_type": "stream",
     "text": [
      "White Percentage of 6: 3.75%\n",
      "1/1 [==============================] - 0s 58ms/step\n",
      "VGG took  0.08185458183288574\n"
     ]
    },
    {
     "name": "stderr",
     "output_type": "stream",
     "text": [
      "video 1/1 (1186/3933) D:\\815_CowDataChecking\\20221230\\20221230_E_cow\\20221230_152538_8796.mkv: 1088x1088 2 cows, 10.0ms\n",
      "WARNING  'Masks.masks' is deprecated. Use 'Masks.data' instead.\n"
     ]
    },
    {
     "name": "stdout",
     "output_type": "stream",
     "text": [
      "SVM took  1.055112361907959\n",
      "LOOPING result took  0.0\n",
      "identification used  -1.1369669437408447\n",
      "White Percentage of 6: 3.80%\n",
      "1/1 [==============================] - 0s 60ms/step\n",
      "VGG took  0.07954907417297363\n"
     ]
    },
    {
     "name": "stderr",
     "output_type": "stream",
     "text": [
      "video 1/1 (1187/3933) D:\\815_CowDataChecking\\20221230\\20221230_E_cow\\20221230_152538_8796.mkv: 1088x1088 2 cows, 10.6ms\n",
      "video 1/1 (1188/3933) D:\\815_CowDataChecking\\20221230\\20221230_E_cow\\20221230_152538_8796.mkv: 1088x1088 2 cows, 30.0ms\n",
      "WARNING  'Masks.masks' is deprecated. Use 'Masks.data' instead.\n"
     ]
    },
    {
     "name": "stdout",
     "output_type": "stream",
     "text": [
      "SVM took  1.0531699657440186\n",
      "LOOPING result took  0.0\n",
      "identification used  -1.1327190399169922\n",
      "White Percentage of 6: 3.70%\n",
      "1/1 [==============================] - 0s 56ms/step\n",
      "VGG took  0.07782936096191406\n"
     ]
    },
    {
     "name": "stderr",
     "output_type": "stream",
     "text": [
      "video 1/1 (1189/3933) D:\\815_CowDataChecking\\20221230\\20221230_E_cow\\20221230_152538_8796.mkv: 1088x1088 2 cows, 28.5ms\n",
      "WARNING  'Masks.masks' is deprecated. Use 'Masks.data' instead.\n"
     ]
    },
    {
     "name": "stdout",
     "output_type": "stream",
     "text": [
      "SVM took  1.071584939956665\n",
      "LOOPING result took  0.0\n",
      "identification used  -1.149414300918579\n",
      "White Percentage of 6: 3.65%\n",
      "1/1 [==============================] - 0s 52ms/step\n",
      "VGG took  0.0782320499420166\n"
     ]
    },
    {
     "name": "stderr",
     "output_type": "stream",
     "text": [
      "video 1/1 (1190/3933) D:\\815_CowDataChecking\\20221230\\20221230_E_cow\\20221230_152538_8796.mkv: 1088x1088 2 cows, 90.1ms\n"
     ]
    },
    {
     "name": "stdout",
     "output_type": "stream",
     "text": [
      "SVM took  1.045304298400879\n",
      "LOOPING result took  0.0\n",
      "identification used  -1.1335358619689941\n"
     ]
    },
    {
     "name": "stderr",
     "output_type": "stream",
     "text": [
      "video 1/1 (1191/3933) D:\\815_CowDataChecking\\20221230\\20221230_E_cow\\20221230_152538_8796.mkv: 1088x1088 2 cows, 159.9ms\n",
      "WARNING  'Masks.masks' is deprecated. Use 'Masks.data' instead.\n"
     ]
    },
    {
     "name": "stdout",
     "output_type": "stream",
     "text": [
      "White Percentage of 6: 4.90%\n",
      "1/1 [==============================] - 0s 56ms/step\n",
      "VGG took  0.07068443298339844\n"
     ]
    },
    {
     "name": "stderr",
     "output_type": "stream",
     "text": [
      "video 1/1 (1192/3933) D:\\815_CowDataChecking\\20221230\\20221230_E_cow\\20221230_152538_8796.mkv: 1088x1088 2 cows, 30.1ms\n",
      "WARNING  'Masks.masks' is deprecated. Use 'Masks.data' instead.\n"
     ]
    },
    {
     "name": "stdout",
     "output_type": "stream",
     "text": [
      "SVM took  1.0794329643249512\n",
      "LOOPING result took  0.0\n",
      "identification used  -1.1501173973083496\n",
      "White Percentage of 6: 3.54%\n",
      "1/1 [==============================] - 0s 60ms/step\n",
      "VGG took  0.07926201820373535\n"
     ]
    },
    {
     "name": "stderr",
     "output_type": "stream",
     "text": [
      "video 1/1 (1193/3933) D:\\815_CowDataChecking\\20221230\\20221230_E_cow\\20221230_152538_8796.mkv: 1088x1088 2 cows, 10.0ms\n",
      "video 1/1 (1194/3933) D:\\815_CowDataChecking\\20221230\\20221230_E_cow\\20221230_152538_8796.mkv: 1088x1088 2 cows, 30.0ms\n",
      "WARNING  'Masks.masks' is deprecated. Use 'Masks.data' instead.\n"
     ]
    },
    {
     "name": "stdout",
     "output_type": "stream",
     "text": [
      "SVM took  1.0470552444458008\n",
      "LOOPING result took  0.0\n",
      "identification used  -1.1263172626495361\n",
      "White Percentage of 6: 3.38%\n",
      "1/1 [==============================] - 0s 60ms/step\n",
      "VGG took  0.08041715621948242\n"
     ]
    },
    {
     "name": "stderr",
     "output_type": "stream",
     "text": [
      "video 1/1 (1195/3933) D:\\815_CowDataChecking\\20221230\\20221230_E_cow\\20221230_152538_8796.mkv: 1088x1088 2 cows, 26.7ms\n",
      "WARNING  'Masks.masks' is deprecated. Use 'Masks.data' instead.\n"
     ]
    },
    {
     "name": "stdout",
     "output_type": "stream",
     "text": [
      "SVM took  1.0389869213104248\n",
      "LOOPING result took  0.0\n",
      "identification used  -1.1194040775299072\n",
      "White Percentage of 6: 3.50%\n",
      "1/1 [==============================] - 0s 58ms/step\n",
      "VGG took  0.07936930656433105\n"
     ]
    },
    {
     "name": "stderr",
     "output_type": "stream",
     "text": [
      "video 1/1 (1196/3933) D:\\815_CowDataChecking\\20221230\\20221230_E_cow\\20221230_152538_8796.mkv: 1088x1088 2 cows, 87.0ms\n"
     ]
    },
    {
     "name": "stdout",
     "output_type": "stream",
     "text": [
      "SVM took  1.0638482570648193\n",
      "LOOPING result took  0.0\n",
      "identification used  -1.1432175636291504\n"
     ]
    },
    {
     "name": "stderr",
     "output_type": "stream",
     "text": [
      "video 1/1 (1197/3933) D:\\815_CowDataChecking\\20221230\\20221230_E_cow\\20221230_152538_8796.mkv: 1088x1088 2 cows, 160.5ms\n",
      "WARNING  'Masks.masks' is deprecated. Use 'Masks.data' instead.\n"
     ]
    },
    {
     "name": "stdout",
     "output_type": "stream",
     "text": [
      "White Percentage of 6: 2.60%\n",
      "1/1 [==============================] - 0s 53ms/step\n",
      "VGG took  0.08031821250915527\n"
     ]
    },
    {
     "name": "stderr",
     "output_type": "stream",
     "text": [
      "video 1/1 (1198/3933) D:\\815_CowDataChecking\\20221230\\20221230_E_cow\\20221230_152538_8796.mkv: 1088x1088 2 cows, 80.2ms\n",
      "WARNING  'Masks.masks' is deprecated. Use 'Masks.data' instead.\n"
     ]
    },
    {
     "name": "stdout",
     "output_type": "stream",
     "text": [
      "SVM took  1.050752878189087\n",
      "LOOPING result took  0.0\n",
      "identification used  -1.1310710906982422\n",
      "White Percentage of 6: 2.82%\n",
      "1/1 [==============================] - 0s 60ms/step\n",
      "VGG took  0.07634568214416504\n"
     ]
    },
    {
     "name": "stderr",
     "output_type": "stream",
     "text": [
      "video 1/1 (1199/3933) D:\\815_CowDataChecking\\20221230\\20221230_E_cow\\20221230_152538_8796.mkv: 1088x1088 2 cows, 10.0ms\n",
      "video 1/1 (1200/3933) D:\\815_CowDataChecking\\20221230\\20221230_E_cow\\20221230_152538_8796.mkv: 1088x1088 2 cows, 40.2ms\n",
      "WARNING  'Masks.masks' is deprecated. Use 'Masks.data' instead.\n"
     ]
    },
    {
     "name": "stdout",
     "output_type": "stream",
     "text": [
      "SVM took  1.0442569255828857\n",
      "LOOPING result took  0.00999760627746582\n",
      "identification used  -1.1306002140045166\n",
      "White Percentage of 6: 2.73%\n",
      "1/1 [==============================] - 0s 58ms/step\n",
      "VGG took  0.07851219177246094\n"
     ]
    },
    {
     "name": "stderr",
     "output_type": "stream",
     "text": [
      "video 1/1 (1201/3933) D:\\815_CowDataChecking\\20221230\\20221230_E_cow\\20221230_152538_8796.mkv: 1088x1088 2 cows, 23.2ms\n",
      "WARNING  'Masks.masks' is deprecated. Use 'Masks.data' instead.\n"
     ]
    },
    {
     "name": "stdout",
     "output_type": "stream",
     "text": [
      "SVM took  1.0468456745147705\n",
      "LOOPING result took  0.0\n",
      "identification used  -1.1253578662872314\n",
      "White Percentage of 6: 3.53%\n",
      "1/1 [==============================] - 0s 61ms/step\n",
      "VGG took  0.0790562629699707\n"
     ]
    },
    {
     "name": "stderr",
     "output_type": "stream",
     "text": [
      "video 1/1 (1202/3933) D:\\815_CowDataChecking\\20221230\\20221230_E_cow\\20221230_152538_8796.mkv: 1088x1088 2 cows, 90.2ms\n"
     ]
    },
    {
     "name": "stdout",
     "output_type": "stream",
     "text": [
      "SVM took  1.0524954795837402\n",
      "LOOPING result took  0.0\n",
      "identification used  -1.131551742553711\n"
     ]
    },
    {
     "name": "stderr",
     "output_type": "stream",
     "text": [
      "video 1/1 (1203/3933) D:\\815_CowDataChecking\\20221230\\20221230_E_cow\\20221230_152538_8796.mkv: 1088x1088 2 cows, 160.6ms\n",
      "WARNING  'Masks.masks' is deprecated. Use 'Masks.data' instead.\n"
     ]
    },
    {
     "name": "stdout",
     "output_type": "stream",
     "text": [
      "White Percentage of 6: 2.65%\n",
      "1/1 [==============================] - 0s 57ms/step\n",
      "VGG took  0.08015036582946777\n"
     ]
    },
    {
     "name": "stderr",
     "output_type": "stream",
     "text": [
      "video 1/1 (1204/3933) D:\\815_CowDataChecking\\20221230\\20221230_E_cow\\20221230_152538_8796.mkv: 1088x1088 2 cows, 70.2ms\n",
      "WARNING  'Masks.masks' is deprecated. Use 'Masks.data' instead.\n"
     ]
    },
    {
     "name": "stdout",
     "output_type": "stream",
     "text": [
      "SVM took  1.0536797046661377\n",
      "LOOPING result took  0.0\n",
      "identification used  -1.1338300704956055\n",
      "White Percentage of 6: 3.16%\n",
      "1/1 [==============================] - 0s 60ms/step\n",
      "VGG took  0.07818388938903809\n"
     ]
    },
    {
     "name": "stderr",
     "output_type": "stream",
     "text": [
      "video 1/1 (1205/3933) D:\\815_CowDataChecking\\20221230\\20221230_E_cow\\20221230_152538_8796.mkv: 1088x1088 2 cows, 10.0ms\n",
      "video 1/1 (1206/3933) D:\\815_CowDataChecking\\20221230\\20221230_E_cow\\20221230_152538_8796.mkv: 1088x1088 2 cows, 40.1ms\n"
     ]
    },
    {
     "name": "stdout",
     "output_type": "stream",
     "text": [
      "SVM took  1.041252851486206\n",
      "LOOPING result took  0.0\n",
      "identification used  -1.1194367408752441\n"
     ]
    },
    {
     "name": "stderr",
     "output_type": "stream",
     "text": [
      "WARNING  'Masks.masks' is deprecated. Use 'Masks.data' instead.\n"
     ]
    },
    {
     "name": "stdout",
     "output_type": "stream",
     "text": [
      "White Percentage of 6: 3.34%\n",
      "1/1 [==============================] - 0s 54ms/step\n",
      "VGG took  0.06920218467712402\n"
     ]
    },
    {
     "name": "stderr",
     "output_type": "stream",
     "text": [
      "video 1/1 (1207/3933) D:\\815_CowDataChecking\\20221230\\20221230_E_cow\\20221230_152538_8796.mkv: 1088x1088 2 cows, 27.6ms\n",
      "WARNING  'Masks.masks' is deprecated. Use 'Masks.data' instead.\n"
     ]
    },
    {
     "name": "stdout",
     "output_type": "stream",
     "text": [
      "SVM took  1.060279130935669\n",
      "LOOPING result took  0.0\n",
      "identification used  -1.129481315612793\n",
      "White Percentage of 6: 3.17%\n",
      "1/1 [==============================] - 0s 55ms/step\n",
      "VGG took  0.07918977737426758\n"
     ]
    },
    {
     "name": "stderr",
     "output_type": "stream",
     "text": [
      "video 1/1 (1208/3933) D:\\815_CowDataChecking\\20221230\\20221230_E_cow\\20221230_152538_8796.mkv: 1088x1088 2 cows, 90.2ms\n"
     ]
    },
    {
     "name": "stdout",
     "output_type": "stream",
     "text": [
      "SVM took  1.0485048294067383\n",
      "LOOPING result took  0.0\n",
      "identification used  -1.1276946067810059\n"
     ]
    },
    {
     "name": "stderr",
     "output_type": "stream",
     "text": [
      "video 1/1 (1209/3933) D:\\815_CowDataChecking\\20221230\\20221230_E_cow\\20221230_152538_8796.mkv: 1088x1088 2 cows, 160.5ms\n",
      "WARNING  'Masks.masks' is deprecated. Use 'Masks.data' instead.\n",
      "video 1/1 (1210/3933) D:\\815_CowDataChecking\\20221230\\20221230_E_cow\\20221230_152538_8796.mkv: 1088x1088 2 cows, 70.2ms\n",
      "WARNING  'Masks.masks' is deprecated. Use 'Masks.data' instead.\n",
      "video 1/1 (1211/3933) D:\\815_CowDataChecking\\20221230\\20221230_E_cow\\20221230_152538_8796.mkv: 1088x1088 2 cows, 11.0ms\n",
      "video 1/1 (1212/3933) D:\\815_CowDataChecking\\20221230\\20221230_E_cow\\20221230_152538_8796.mkv: 1088x1088 2 cows, 11.1ms\n",
      "WARNING  'Masks.masks' is deprecated. Use 'Masks.data' instead.\n",
      "video 1/1 (1213/3933) D:\\815_CowDataChecking\\20221230\\20221230_E_cow\\20221230_152538_8796.mkv: 1088x1088 2 cows, 10.6ms\n",
      "WARNING  'Masks.masks' is deprecated. Use 'Masks.data' instead.\n",
      "video 1/1 (1214/3933) D:\\815_CowDataChecking\\20221230\\20221230_E_cow\\20221230_152538_8796.mkv: 1088x1088 2 cows, 10.9ms\n",
      "video 1/1 (1215/3933) D:\\815_CowDataChecking\\20221230\\20221230_E_cow\\20221230_152538_8796.mkv: 1088x1088 2 cows, 10.6ms\n",
      "WARNING  'Masks.masks' is deprecated. Use 'Masks.data' instead.\n",
      "video 1/1 (1216/3933) D:\\815_CowDataChecking\\20221230\\20221230_E_cow\\20221230_152538_8796.mkv: 1088x1088 2 cows, 10.1ms\n",
      "WARNING  'Masks.masks' is deprecated. Use 'Masks.data' instead.\n",
      "video 1/1 (1217/3933) D:\\815_CowDataChecking\\20221230\\20221230_E_cow\\20221230_152538_8796.mkv: 1088x1088 2 cows, 11.2ms\n",
      "video 1/1 (1218/3933) D:\\815_CowDataChecking\\20221230\\20221230_E_cow\\20221230_152538_8796.mkv: 1088x1088 2 cows, 10.2ms\n",
      "WARNING  'Masks.masks' is deprecated. Use 'Masks.data' instead.\n",
      "video 1/1 (1219/3933) D:\\815_CowDataChecking\\20221230\\20221230_E_cow\\20221230_152538_8796.mkv: 1088x1088 2 cows, 11.4ms\n",
      "WARNING  'Masks.masks' is deprecated. Use 'Masks.data' instead.\n",
      "video 1/1 (1220/3933) D:\\815_CowDataChecking\\20221230\\20221230_E_cow\\20221230_152538_8796.mkv: 1088x1088 2 cows, 10.0ms\n",
      "video 1/1 (1221/3933) D:\\815_CowDataChecking\\20221230\\20221230_E_cow\\20221230_152538_8796.mkv: 1088x1088 2 cows, 10.0ms\n",
      "WARNING  'Masks.masks' is deprecated. Use 'Masks.data' instead.\n",
      "video 1/1 (1222/3933) D:\\815_CowDataChecking\\20221230\\20221230_E_cow\\20221230_152538_8796.mkv: 1088x1088 2 cows, 13.0ms\n",
      "WARNING  'Masks.masks' is deprecated. Use 'Masks.data' instead.\n",
      "video 1/1 (1223/3933) D:\\815_CowDataChecking\\20221230\\20221230_E_cow\\20221230_152538_8796.mkv: 1088x1088 2 cows, 11.3ms\n",
      "video 1/1 (1224/3933) D:\\815_CowDataChecking\\20221230\\20221230_E_cow\\20221230_152538_8796.mkv: 1088x1088 2 cows, 10.5ms\n",
      "WARNING  'Masks.masks' is deprecated. Use 'Masks.data' instead.\n",
      "video 1/1 (1225/3933) D:\\815_CowDataChecking\\20221230\\20221230_E_cow\\20221230_152538_8796.mkv: 1088x1088 2 cows, 11.2ms\n",
      "WARNING  'Masks.masks' is deprecated. Use 'Masks.data' instead.\n",
      "video 1/1 (1226/3933) D:\\815_CowDataChecking\\20221230\\20221230_E_cow\\20221230_152538_8796.mkv: 1088x1088 2 cows, 10.0ms\n",
      "video 1/1 (1227/3933) D:\\815_CowDataChecking\\20221230\\20221230_E_cow\\20221230_152538_8796.mkv: 1088x1088 2 cows, 11.0ms\n",
      "WARNING  'Masks.masks' is deprecated. Use 'Masks.data' instead.\n",
      "video 1/1 (1228/3933) D:\\815_CowDataChecking\\20221230\\20221230_E_cow\\20221230_152538_8796.mkv: 1088x1088 2 cows, 10.9ms\n",
      "WARNING  'Masks.masks' is deprecated. Use 'Masks.data' instead.\n",
      "video 1/1 (1229/3933) D:\\815_CowDataChecking\\20221230\\20221230_E_cow\\20221230_152538_8796.mkv: 1088x1088 2 cows, 9.7ms\n",
      "video 1/1 (1230/3933) D:\\815_CowDataChecking\\20221230\\20221230_E_cow\\20221230_152538_8796.mkv: 1088x1088 2 cows, 11.0ms\n",
      "WARNING  'Masks.masks' is deprecated. Use 'Masks.data' instead.\n",
      "video 1/1 (1231/3933) D:\\815_CowDataChecking\\20221230\\20221230_E_cow\\20221230_152538_8796.mkv: 1088x1088 2 cows, 11.5ms\n",
      "WARNING  'Masks.masks' is deprecated. Use 'Masks.data' instead.\n"
     ]
    },
    {
     "name": "stdout",
     "output_type": "stream",
     "text": [
      "White Percentage of 7: 13.52%\n",
      "1/1 [==============================] - 0s 61ms/step\n",
      "VGG took  0.07460665702819824\n"
     ]
    },
    {
     "name": "stderr",
     "output_type": "stream",
     "text": [
      "video 1/1 (1232/3933) D:\\815_CowDataChecking\\20221230\\20221230_E_cow\\20221230_152538_8796.mkv: 1088x1088 2 cows, 10.5ms\n",
      "video 1/1 (1233/3933) D:\\815_CowDataChecking\\20221230\\20221230_E_cow\\20221230_152538_8796.mkv: 1088x1088 2 cows, 22.9ms\n",
      "WARNING  'Masks.masks' is deprecated. Use 'Masks.data' instead.\n"
     ]
    },
    {
     "name": "stdout",
     "output_type": "stream",
     "text": [
      "SVM took  1.0477650165557861\n",
      "LOOPING result took  0.0\n",
      "identification used  -1.1223716735839844\n",
      "[['ID', 'COLOR', 'RANK1', 'RANK1_prob', 'RANK2', 'RANK2_prob']]\n",
      "new cattle  xxxxxxxxxxxxxxxxxxxxx new cattle alert \n",
      "White Percentage of 7: 12.77%\n",
      "1/1 [==============================] - 0s 51ms/step\n",
      "VGG took  0.08231568336486816\n"
     ]
    },
    {
     "name": "stderr",
     "output_type": "stream",
     "text": [
      "video 1/1 (1234/3933) D:\\815_CowDataChecking\\20221230\\20221230_E_cow\\20221230_152538_8796.mkv: 1088x1088 2 cows, 22.6ms\n",
      "WARNING  'Masks.masks' is deprecated. Use 'Masks.data' instead.\n"
     ]
    },
    {
     "name": "stdout",
     "output_type": "stream",
     "text": [
      "SVM took  1.042588710784912\n",
      "LOOPING result took  0.0\n",
      "identification used  -1.1249043941497803\n",
      "White Percentage of 7: 14.40%\n",
      "1/1 [==============================] - 0s 50ms/step\n",
      "VGG took  0.08014178276062012\n"
     ]
    },
    {
     "name": "stderr",
     "output_type": "stream",
     "text": [
      "video 1/1 (1235/3933) D:\\815_CowDataChecking\\20221230\\20221230_E_cow\\20221230_152538_8796.mkv: 1088x1088 2 cows, 70.1ms\n",
      "video 1/1 (1236/3933) D:\\815_CowDataChecking\\20221230\\20221230_E_cow\\20221230_152538_8796.mkv: 1088x1088 2 cows, 80.2ms\n"
     ]
    },
    {
     "name": "stdout",
     "output_type": "stream",
     "text": [
      "SVM took  1.0470476150512695\n",
      "LOOPING result took  0.0\n",
      "identification used  -1.1271893978118896\n"
     ]
    },
    {
     "name": "stderr",
     "output_type": "stream",
     "text": [
      "WARNING  'Masks.masks' is deprecated. Use 'Masks.data' instead.\n"
     ]
    },
    {
     "name": "stdout",
     "output_type": "stream",
     "text": [
      "White Percentage of 7: 12.68%\n",
      "1/1 [==============================] - 0s 60ms/step\n",
      "VGG took  0.07303977012634277\n"
     ]
    },
    {
     "name": "stderr",
     "output_type": "stream",
     "text": [
      "video 1/1 (1237/3933) D:\\815_CowDataChecking\\20221230\\20221230_E_cow\\20221230_152538_8796.mkv: 1088x1088 2 cows, 76.4ms\n"
     ]
    },
    {
     "name": "stdout",
     "output_type": "stream",
     "text": [
      "SVM took  1.0372300148010254\n",
      "LOOPING result took  0.0\n",
      "identification used  -1.1102697849273682\n"
     ]
    },
    {
     "name": "stderr",
     "output_type": "stream",
     "text": [
      "WARNING  'Masks.masks' is deprecated. Use 'Masks.data' instead.\n"
     ]
    },
    {
     "name": "stdout",
     "output_type": "stream",
     "text": [
      "White Percentage of 7: 14.21%\n",
      "1/1 [==============================] - 0s 61ms/step\n",
      "VGG took  0.07349729537963867\n"
     ]
    },
    {
     "name": "stderr",
     "output_type": "stream",
     "text": [
      "video 1/1 (1238/3933) D:\\815_CowDataChecking\\20221230\\20221230_E_cow\\20221230_152538_8796.mkv: 1088x1088 2 cows, 144.9ms\n",
      "video 1/1 (1239/3933) D:\\815_CowDataChecking\\20221230\\20221230_E_cow\\20221230_152538_8796.mkv: 1088x1088 2 cows, 79.1ms\n"
     ]
    },
    {
     "name": "stdout",
     "output_type": "stream",
     "text": [
      "SVM took  1.0563724040985107\n",
      "LOOPING result took  0.0\n",
      "identification used  -1.1298696994781494\n"
     ]
    },
    {
     "name": "stderr",
     "output_type": "stream",
     "text": [
      "WARNING  'Masks.masks' is deprecated. Use 'Masks.data' instead.\n"
     ]
    },
    {
     "name": "stdout",
     "output_type": "stream",
     "text": [
      "White Percentage of 7: 12.51%\n",
      "1/1 [==============================] - 0s 60ms/step\n",
      "VGG took  0.07304263114929199\n"
     ]
    },
    {
     "name": "stderr",
     "output_type": "stream",
     "text": [
      "video 1/1 (1240/3933) D:\\815_CowDataChecking\\20221230\\20221230_E_cow\\20221230_152538_8796.mkv: 1088x1088 2 cows, 65.2ms\n",
      "WARNING  'Masks.masks' is deprecated. Use 'Masks.data' instead.\n"
     ]
    },
    {
     "name": "stdout",
     "output_type": "stream",
     "text": [
      "SVM took  1.0467615127563477\n",
      "LOOPING result took  0.0\n",
      "identification used  -1.1268744468688965\n",
      "White Percentage of 7: 13.97%\n",
      "1/1 [==============================] - 0s 60ms/step\n",
      "VGG took  0.07998394966125488\n"
     ]
    },
    {
     "name": "stderr",
     "output_type": "stream",
     "text": [
      "video 1/1 (1241/3933) D:\\815_CowDataChecking\\20221230\\20221230_E_cow\\20221230_152538_8796.mkv: 1088x1088 2 cows, 70.4ms\n",
      "video 1/1 (1242/3933) D:\\815_CowDataChecking\\20221230\\20221230_E_cow\\20221230_152538_8796.mkv: 1088x1088 2 cows, 80.0ms\n"
     ]
    },
    {
     "name": "stdout",
     "output_type": "stream",
     "text": [
      "SVM took  1.0435154438018799\n",
      "LOOPING result took  0.0\n",
      "identification used  -1.1234993934631348\n"
     ]
    },
    {
     "name": "stderr",
     "output_type": "stream",
     "text": [
      "WARNING  'Masks.masks' is deprecated. Use 'Masks.data' instead.\n"
     ]
    },
    {
     "name": "stdout",
     "output_type": "stream",
     "text": [
      "White Percentage of 7: 13.57%\n",
      "1/1 [==============================] - 0s 60ms/step\n",
      "VGG took  0.08287835121154785\n"
     ]
    },
    {
     "name": "stderr",
     "output_type": "stream",
     "text": [
      "video 1/1 (1243/3933) D:\\815_CowDataChecking\\20221230\\20221230_E_cow\\20221230_152538_8796.mkv: 1088x1088 2 cows, 75.4ms\n",
      "WARNING  'Masks.masks' is deprecated. Use 'Masks.data' instead.\n"
     ]
    },
    {
     "name": "stdout",
     "output_type": "stream",
     "text": [
      "SVM took  1.0335404872894287\n",
      "LOOPING result took  0.0\n",
      "identification used  -1.1164188385009766\n",
      "White Percentage of 7: 12.51%\n",
      "1/1 [==============================] - 0s 63ms/step\n",
      "VGG took  0.08073258399963379\n"
     ]
    },
    {
     "name": "stderr",
     "output_type": "stream",
     "text": [
      "video 1/1 (1244/3933) D:\\815_CowDataChecking\\20221230\\20221230_E_cow\\20221230_152538_8796.mkv: 1088x1088 2 cows, 70.0ms\n"
     ]
    },
    {
     "name": "stdout",
     "output_type": "stream",
     "text": [
      "SVM took  1.0379571914672852\n",
      "LOOPING result took  0.0\n",
      "identification used  -1.118689775466919\n"
     ]
    },
    {
     "name": "stderr",
     "output_type": "stream",
     "text": [
      "video 1/1 (1245/3933) D:\\815_CowDataChecking\\20221230\\20221230_E_cow\\20221230_152538_8796.mkv: 1088x1088 2 cows, 160.1ms\n",
      "WARNING  'Masks.masks' is deprecated. Use 'Masks.data' instead.\n"
     ]
    },
    {
     "name": "stdout",
     "output_type": "stream",
     "text": [
      "White Percentage of 7: 12.18%\n",
      "1/1 [==============================] - 0s 55ms/step\n",
      "VGG took  0.07225322723388672\n"
     ]
    },
    {
     "name": "stderr",
     "output_type": "stream",
     "text": [
      "video 1/1 (1246/3933) D:\\815_CowDataChecking\\20221230\\20221230_E_cow\\20221230_152538_8796.mkv: 1088x1088 2 cows, 11.1ms\n",
      "WARNING  'Masks.masks' is deprecated. Use 'Masks.data' instead.\n"
     ]
    },
    {
     "name": "stdout",
     "output_type": "stream",
     "text": [
      "SVM took  1.0430376529693604\n",
      "LOOPING result took  0.0\n",
      "identification used  -1.115290880203247\n",
      "White Percentage of 7: 9.76%\n",
      "1/1 [==============================] - 0s 50ms/step\n",
      "VGG took  0.07541751861572266\n"
     ]
    },
    {
     "name": "stderr",
     "output_type": "stream",
     "text": [
      "video 1/1 (1247/3933) D:\\815_CowDataChecking\\20221230\\20221230_E_cow\\20221230_152538_8796.mkv: 1088x1088 2 cows, 10.0ms\n",
      "video 1/1 (1248/3933) D:\\815_CowDataChecking\\20221230\\20221230_E_cow\\20221230_152538_8796.mkv: 1088x1088 2 cows, 29.9ms\n",
      "WARNING  'Masks.masks' is deprecated. Use 'Masks.data' instead.\n"
     ]
    },
    {
     "name": "stdout",
     "output_type": "stream",
     "text": [
      "SVM took  1.0364339351654053\n",
      "LOOPING result took  0.0\n",
      "identification used  -1.111851453781128\n",
      "White Percentage of 7: 9.33%\n",
      "1/1 [==============================] - 0s 60ms/step\n",
      "VGG took  0.07962918281555176\n"
     ]
    },
    {
     "name": "stderr",
     "output_type": "stream",
     "text": [
      "video 1/1 (1249/3933) D:\\815_CowDataChecking\\20221230\\20221230_E_cow\\20221230_152538_8796.mkv: 1088x1088 2 cows, 27.7ms\n",
      "WARNING  'Masks.masks' is deprecated. Use 'Masks.data' instead.\n"
     ]
    },
    {
     "name": "stdout",
     "output_type": "stream",
     "text": [
      "SVM took  1.0468590259552002\n",
      "LOOPING result took  0.0\n",
      "identification used  -1.126488208770752\n",
      "White Percentage of 7: 6.67%\n",
      "1/1 [==============================] - 0s 55ms/step\n",
      "VGG took  0.08075547218322754\n"
     ]
    },
    {
     "name": "stderr",
     "output_type": "stream",
     "text": [
      "video 1/1 (1250/3933) D:\\815_CowDataChecking\\20221230\\20221230_E_cow\\20221230_152538_8796.mkv: 1088x1088 1 cow, 50.2ms\n",
      "video 1/1 (1251/3933) D:\\815_CowDataChecking\\20221230\\20221230_E_cow\\20221230_152538_8796.mkv: 1088x1088 1 cow, 85.1ms\n"
     ]
    },
    {
     "name": "stdout",
     "output_type": "stream",
     "text": [
      "SVM took  1.026076078414917\n",
      "LOOPING result took  0.0\n",
      "identification used  -1.1068315505981445\n"
     ]
    },
    {
     "name": "stderr",
     "output_type": "stream",
     "text": [
      "WARNING  'Masks.masks' is deprecated. Use 'Masks.data' instead.\n"
     ]
    },
    {
     "name": "stdout",
     "output_type": "stream",
     "text": [
      "White Percentage of 7: 4.00%\n",
      "1/1 [==============================] - 0s 52ms/step\n",
      "VGG took  0.07483267784118652\n"
     ]
    },
    {
     "name": "stderr",
     "output_type": "stream",
     "text": [
      "video 1/1 (1252/3933) D:\\815_CowDataChecking\\20221230\\20221230_E_cow\\20221230_152538_8796.mkv: 1088x1088 1 cow, 81.2ms\n"
     ]
    },
    {
     "name": "stdout",
     "output_type": "stream",
     "text": [
      "SVM took  1.0372626781463623\n",
      "LOOPING result took  0.0\n",
      "identification used  -1.1120953559875488\n"
     ]
    },
    {
     "name": "stderr",
     "output_type": "stream",
     "text": [
      "WARNING  'Masks.masks' is deprecated. Use 'Masks.data' instead.\n"
     ]
    },
    {
     "name": "stdout",
     "output_type": "stream",
     "text": [
      "White Percentage of 7: 8.69%\n",
      "1/1 [==============================] - 0s 60ms/step\n",
      "VGG took  0.07308673858642578\n"
     ]
    },
    {
     "name": "stderr",
     "output_type": "stream",
     "text": [
      "video 1/1 (1253/3933) D:\\815_CowDataChecking\\20221230\\20221230_E_cow\\20221230_152538_8796.mkv: 1088x1088 1 cow, 140.3ms\n",
      "video 1/1 (1254/3933) D:\\815_CowDataChecking\\20221230\\20221230_E_cow\\20221230_152538_8796.mkv: 1088x1088 1 cow, 70.1ms\n"
     ]
    },
    {
     "name": "stdout",
     "output_type": "stream",
     "text": [
      "SVM took  1.0277953147888184\n",
      "LOOPING result took  0.0\n",
      "identification used  -1.1008820533752441\n"
     ]
    },
    {
     "name": "stderr",
     "output_type": "stream",
     "text": [
      "WARNING  'Masks.masks' is deprecated. Use 'Masks.data' instead.\n"
     ]
    },
    {
     "name": "stdout",
     "output_type": "stream",
     "text": [
      "White Percentage of 7: 6.42%\n",
      "1/1 [==============================] - 0s 60ms/step\n",
      "VGG took  0.07999777793884277\n"
     ]
    },
    {
     "name": "stderr",
     "output_type": "stream",
     "text": [
      "video 1/1 (1255/3933) D:\\815_CowDataChecking\\20221230\\20221230_E_cow\\20221230_152538_8796.mkv: 1088x1088 1 cow, 62.1ms\n",
      "WARNING  'Masks.masks' is deprecated. Use 'Masks.data' instead.\n"
     ]
    },
    {
     "name": "stdout",
     "output_type": "stream",
     "text": [
      "SVM took  1.0550007820129395\n",
      "LOOPING result took  0.0\n",
      "identification used  -1.1401796340942383\n",
      "White Percentage of 7: 5.23%\n",
      "1/1 [==============================] - 0s 63ms/step\n",
      "VGG took  0.08226251602172852\n"
     ]
    },
    {
     "name": "stderr",
     "output_type": "stream",
     "text": [
      "video 1/1 (1256/3933) D:\\815_CowDataChecking\\20221230\\20221230_E_cow\\20221230_152538_8796.mkv: 1088x1088 1 cow, 60.2ms\n",
      "video 1/1 (1257/3933) D:\\815_CowDataChecking\\20221230\\20221230_E_cow\\20221230_152538_8796.mkv: 1088x1088 1 cow, 80.2ms\n"
     ]
    },
    {
     "name": "stdout",
     "output_type": "stream",
     "text": [
      "SVM took  1.0341260433197021\n",
      "LOOPING result took  0.0\n",
      "identification used  -1.1163885593414307\n"
     ]
    },
    {
     "name": "stderr",
     "output_type": "stream",
     "text": [
      "WARNING  'Masks.masks' is deprecated. Use 'Masks.data' instead.\n"
     ]
    },
    {
     "name": "stdout",
     "output_type": "stream",
     "text": [
      "White Percentage of 7: 11.89%\n",
      "1/1 [==============================] - 0s 60ms/step\n",
      "VGG took  0.07340860366821289\n"
     ]
    },
    {
     "name": "stderr",
     "output_type": "stream",
     "text": [
      "video 1/1 (1258/3933) D:\\815_CowDataChecking\\20221230\\20221230_E_cow\\20221230_152538_8796.mkv: 1088x1088 1 cow, 72.6ms\n",
      "WARNING  'Masks.masks' is deprecated. Use 'Masks.data' instead.\n"
     ]
    },
    {
     "name": "stdout",
     "output_type": "stream",
     "text": [
      "SVM took  1.0635521411895752\n",
      "LOOPING result took  0.0\n",
      "identification used  -1.136960744857788\n",
      "White Percentage of 7: 12.90%\n",
      "1/1 [==============================] - 0s 56ms/step\n",
      "VGG took  0.08309745788574219\n"
     ]
    },
    {
     "name": "stderr",
     "output_type": "stream",
     "text": [
      "video 1/1 (1259/3933) D:\\815_CowDataChecking\\20221230\\20221230_E_cow\\20221230_152538_8796.mkv: 1088x1088 1 cow, 71.4ms\n"
     ]
    },
    {
     "name": "stdout",
     "output_type": "stream",
     "text": [
      "SVM took  1.0482096672058105\n",
      "LOOPING result took  0.0\n",
      "identification used  -1.1313071250915527\n"
     ]
    },
    {
     "name": "stderr",
     "output_type": "stream",
     "text": [
      "video 1/1 (1260/3933) D:\\815_CowDataChecking\\20221230\\20221230_E_cow\\20221230_152538_8796.mkv: 1088x1088 1 cow, 150.5ms\n",
      "WARNING  'Masks.masks' is deprecated. Use 'Masks.data' instead.\n"
     ]
    },
    {
     "name": "stdout",
     "output_type": "stream",
     "text": [
      "White Percentage of 7: 12.40%\n",
      "1/1 [==============================] - 0s 53ms/step\n",
      "VGG took  0.0782926082611084\n"
     ]
    },
    {
     "name": "stderr",
     "output_type": "stream",
     "text": [
      "video 1/1 (1261/3933) D:\\815_CowDataChecking\\20221230\\20221230_E_cow\\20221230_152538_8796.mkv: 1088x1088 1 cow, 80.2ms\n",
      "WARNING  'Masks.masks' is deprecated. Use 'Masks.data' instead.\n"
     ]
    },
    {
     "name": "stdout",
     "output_type": "stream",
     "text": [
      "SVM took  1.051142692565918\n",
      "LOOPING result took  0.0\n",
      "identification used  -1.1294353008270264\n",
      "White Percentage of 7: 12.04%\n",
      "1/1 [==============================] - 0s 55ms/step\n",
      "VGG took  0.07918930053710938\n"
     ]
    },
    {
     "name": "stderr",
     "output_type": "stream",
     "text": [
      "video 1/1 (1262/3933) D:\\815_CowDataChecking\\20221230\\20221230_E_cow\\20221230_152538_8796.mkv: 1088x1088 1 cow, 70.1ms\n"
     ]
    },
    {
     "name": "stdout",
     "output_type": "stream",
     "text": [
      "SVM took  1.0582032203674316\n",
      "LOOPING result took  0.0\n",
      "identification used  -1.137392520904541\n"
     ]
    },
    {
     "name": "stderr",
     "output_type": "stream",
     "text": [
      "video 1/1 (1263/3933) D:\\815_CowDataChecking\\20221230\\20221230_E_cow\\20221230_152538_8796.mkv: 1088x1088 1 cow, 149.3ms\n",
      "WARNING  'Masks.masks' is deprecated. Use 'Masks.data' instead.\n"
     ]
    },
    {
     "name": "stdout",
     "output_type": "stream",
     "text": [
      "White Percentage of 7: 14.64%\n",
      "1/1 [==============================] - 0s 60ms/step\n",
      "VGG took  0.0745079517364502\n"
     ]
    },
    {
     "name": "stderr",
     "output_type": "stream",
     "text": [
      "video 1/1 (1264/3933) D:\\815_CowDataChecking\\20221230\\20221230_E_cow\\20221230_152538_8796.mkv: 1088x1088 1 cow, 70.2ms\n",
      "WARNING  'Masks.masks' is deprecated. Use 'Masks.data' instead.\n"
     ]
    },
    {
     "name": "stdout",
     "output_type": "stream",
     "text": [
      "SVM took  1.0296669006347656\n",
      "LOOPING result took  0.0\n",
      "identification used  -1.1142349243164062\n",
      "White Percentage of 7: 17.62%\n",
      "1/1 [==============================] - 0s 60ms/step\n",
      "VGG took  0.08089160919189453\n"
     ]
    },
    {
     "name": "stderr",
     "output_type": "stream",
     "text": [
      "video 1/1 (1265/3933) D:\\815_CowDataChecking\\20221230\\20221230_E_cow\\20221230_152538_8796.mkv: 1088x1088 2 cows, 70.2ms\n"
     ]
    },
    {
     "name": "stdout",
     "output_type": "stream",
     "text": [
      "SVM took  1.0717484951019287\n",
      "LOOPING result took  0.0\n",
      "identification used  -1.1526401042938232\n"
     ]
    },
    {
     "name": "stderr",
     "output_type": "stream",
     "text": [
      "video 1/1 (1266/3933) D:\\815_CowDataChecking\\20221230\\20221230_E_cow\\20221230_152538_8796.mkv: 1088x1088 2 cows, 160.3ms\n",
      "WARNING  'Masks.masks' is deprecated. Use 'Masks.data' instead.\n"
     ]
    },
    {
     "name": "stdout",
     "output_type": "stream",
     "text": [
      "White Percentage of 7: 14.53%\n",
      "1/1 [==============================] - 0s 55ms/step\n",
      "VGG took  0.07012653350830078\n"
     ]
    },
    {
     "name": "stderr",
     "output_type": "stream",
     "text": [
      "video 1/1 (1267/3933) D:\\815_CowDataChecking\\20221230\\20221230_E_cow\\20221230_152538_8796.mkv: 1088x1088 2 cows, 70.2ms\n",
      "WARNING  'Masks.masks' is deprecated. Use 'Masks.data' instead.\n"
     ]
    },
    {
     "name": "stdout",
     "output_type": "stream",
     "text": [
      "SVM took  1.0551788806915283\n",
      "LOOPING result took  0.010004043579101562\n",
      "identification used  -1.1353094577789307\n",
      "White Percentage of 7: 13.52%\n",
      "1/1 [==============================] - 0s 55ms/step\n",
      "VGG took  0.07828140258789062\n"
     ]
    },
    {
     "name": "stderr",
     "output_type": "stream",
     "text": [
      "video 1/1 (1268/3933) D:\\815_CowDataChecking\\20221230\\20221230_E_cow\\20221230_152538_8796.mkv: 1088x1088 1 cow, 60.5ms\n",
      "video 1/1 (1269/3933) D:\\815_CowDataChecking\\20221230\\20221230_E_cow\\20221230_152538_8796.mkv: 1088x1088 1 cow, 80.1ms\n"
     ]
    },
    {
     "name": "stdout",
     "output_type": "stream",
     "text": [
      "SVM took  1.0579164028167725\n",
      "LOOPING result took  0.0\n",
      "identification used  -1.136197805404663\n"
     ]
    },
    {
     "name": "stderr",
     "output_type": "stream",
     "text": [
      "WARNING  'Masks.masks' is deprecated. Use 'Masks.data' instead.\n"
     ]
    },
    {
     "name": "stdout",
     "output_type": "stream",
     "text": [
      "White Percentage of 7: 14.43%\n",
      "1/1 [==============================] - 0s 50ms/step\n",
      "VGG took  0.07793450355529785\n"
     ]
    },
    {
     "name": "stderr",
     "output_type": "stream",
     "text": [
      "video 1/1 (1270/3933) D:\\815_CowDataChecking\\20221230\\20221230_E_cow\\20221230_152538_8796.mkv: 1088x1088 1 cow, 69.7ms\n",
      "WARNING  'Masks.masks' is deprecated. Use 'Masks.data' instead.\n"
     ]
    },
    {
     "name": "stdout",
     "output_type": "stream",
     "text": [
      "SVM took  1.042689323425293\n",
      "LOOPING result took  0.0\n",
      "identification used  -1.1206238269805908\n",
      "White Percentage of 7: 16.37%\n",
      "1/1 [==============================] - 0s 60ms/step\n",
      "VGG took  0.08104419708251953\n"
     ]
    },
    {
     "name": "stderr",
     "output_type": "stream",
     "text": [
      "video 1/1 (1271/3933) D:\\815_CowDataChecking\\20221230\\20221230_E_cow\\20221230_152538_8796.mkv: 1088x1088 1 cow, 70.1ms\n",
      "video 1/1 (1272/3933) D:\\815_CowDataChecking\\20221230\\20221230_E_cow\\20221230_152538_8796.mkv: 1088x1088 1 cow, 70.2ms\n"
     ]
    },
    {
     "name": "stdout",
     "output_type": "stream",
     "text": [
      "SVM took  1.0544965267181396\n",
      "LOOPING result took  0.0\n",
      "identification used  -1.1355407238006592\n"
     ]
    },
    {
     "name": "stderr",
     "output_type": "stream",
     "text": [
      "WARNING  'Masks.masks' is deprecated. Use 'Masks.data' instead.\n"
     ]
    },
    {
     "name": "stdout",
     "output_type": "stream",
     "text": [
      "White Percentage of 7: 13.99%\n",
      "1/1 [==============================] - 0s 60ms/step\n",
      "VGG took  0.07326412200927734\n"
     ]
    },
    {
     "name": "stderr",
     "output_type": "stream",
     "text": [
      "video 1/1 (1273/3933) D:\\815_CowDataChecking\\20221230\\20221230_E_cow\\20221230_152538_8796.mkv: 1088x1088 1 cow, 71.6ms\n",
      "WARNING  'Masks.masks' is deprecated. Use 'Masks.data' instead.\n"
     ]
    },
    {
     "name": "stdout",
     "output_type": "stream",
     "text": [
      "SVM took  1.0545916557312012\n",
      "LOOPING result took  0.0\n",
      "identification used  -1.1278557777404785\n",
      "White Percentage of 7: 14.04%\n",
      "1/1 [==============================] - 0s 53ms/step\n",
      "VGG took  0.0789496898651123\n"
     ]
    },
    {
     "name": "stderr",
     "output_type": "stream",
     "text": [
      "video 1/1 (1274/3933) D:\\815_CowDataChecking\\20221230\\20221230_E_cow\\20221230_152538_8796.mkv: 1088x1088 1 cow, 71.1ms\n",
      "video 1/1 (1275/3933) D:\\815_CowDataChecking\\20221230\\20221230_E_cow\\20221230_152538_8796.mkv: 1088x1088 1 cow, 70.1ms\n"
     ]
    },
    {
     "name": "stdout",
     "output_type": "stream",
     "text": [
      "SVM took  1.0457515716552734\n",
      "LOOPING result took  0.010001897811889648\n",
      "identification used  -1.1347031593322754\n"
     ]
    },
    {
     "name": "stderr",
     "output_type": "stream",
     "text": [
      "WARNING  'Masks.masks' is deprecated. Use 'Masks.data' instead.\n"
     ]
    },
    {
     "name": "stdout",
     "output_type": "stream",
     "text": [
      "White Percentage of 7: 16.04%\n",
      "1/1 [==============================] - 0s 60ms/step\n",
      "VGG took  0.0832216739654541\n"
     ]
    },
    {
     "name": "stderr",
     "output_type": "stream",
     "text": [
      "video 1/1 (1276/3933) D:\\815_CowDataChecking\\20221230\\20221230_E_cow\\20221230_152538_8796.mkv: 1088x1088 1 cow, 71.2ms\n",
      "WARNING  'Masks.masks' is deprecated. Use 'Masks.data' instead.\n",
      "video 1/1 (1277/3933) D:\\815_CowDataChecking\\20221230\\20221230_E_cow\\20221230_152538_8796.mkv: 1088x1088 1 cow, 61.4ms\n"
     ]
    },
    {
     "name": "stdout",
     "output_type": "stream",
     "text": [
      "SVM took  1.0670337677001953\n",
      "LOOPING result took  0.0\n",
      "identification used  -1.1502554416656494\n"
     ]
    },
    {
     "name": "stderr",
     "output_type": "stream",
     "text": [
      "video 1/1 (1278/3933) D:\\815_CowDataChecking\\20221230\\20221230_E_cow\\20221230_152538_8796.mkv: 1088x1088 1 cow, 62.6ms\n",
      "WARNING  'Masks.masks' is deprecated. Use 'Masks.data' instead.\n",
      "video 1/1 (1279/3933) D:\\815_CowDataChecking\\20221230\\20221230_E_cow\\20221230_152538_8796.mkv: 1088x1088 1 cow, 70.2ms\n",
      "WARNING  'Masks.masks' is deprecated. Use 'Masks.data' instead.\n",
      "video 1/1 (1280/3933) D:\\815_CowDataChecking\\20221230\\20221230_E_cow\\20221230_152538_8796.mkv: 1088x1088 1 cow, 65.9ms\n",
      "video 1/1 (1281/3933) D:\\815_CowDataChecking\\20221230\\20221230_E_cow\\20221230_152538_8796.mkv: 1088x1088 1 cow, 13.5ms\n",
      "WARNING  'Masks.masks' is deprecated. Use 'Masks.data' instead.\n",
      "video 1/1 (1282/3933) D:\\815_CowDataChecking\\20221230\\20221230_E_cow\\20221230_152538_8796.mkv: 1088x1088 1 cow, 12.8ms\n",
      "WARNING  'Masks.masks' is deprecated. Use 'Masks.data' instead.\n",
      "video 1/1 (1283/3933) D:\\815_CowDataChecking\\20221230\\20221230_E_cow\\20221230_152538_8796.mkv: 1088x1088 1 cow, 14.3ms\n",
      "video 1/1 (1284/3933) D:\\815_CowDataChecking\\20221230\\20221230_E_cow\\20221230_152538_8796.mkv: 1088x1088 1 cow, 13.4ms\n",
      "WARNING  'Masks.masks' is deprecated. Use 'Masks.data' instead.\n",
      "video 1/1 (1285/3933) D:\\815_CowDataChecking\\20221230\\20221230_E_cow\\20221230_152538_8796.mkv: 1088x1088 1 cow, 14.6ms\n",
      "WARNING  'Masks.masks' is deprecated. Use 'Masks.data' instead.\n",
      "video 1/1 (1286/3933) D:\\815_CowDataChecking\\20221230\\20221230_E_cow\\20221230_152538_8796.mkv: 1088x1088 1 cow, 14.7ms\n",
      "video 1/1 (1287/3933) D:\\815_CowDataChecking\\20221230\\20221230_E_cow\\20221230_152538_8796.mkv: 1088x1088 1 cow, 14.5ms\n",
      "WARNING  'Masks.masks' is deprecated. Use 'Masks.data' instead.\n",
      "video 1/1 (1288/3933) D:\\815_CowDataChecking\\20221230\\20221230_E_cow\\20221230_152538_8796.mkv: 1088x1088 1 cow, 15.3ms\n",
      "WARNING  'Masks.masks' is deprecated. Use 'Masks.data' instead.\n",
      "video 1/1 (1289/3933) D:\\815_CowDataChecking\\20221230\\20221230_E_cow\\20221230_152538_8796.mkv: 1088x1088 1 cow, 10.4ms\n",
      "video 1/1 (1290/3933) D:\\815_CowDataChecking\\20221230\\20221230_E_cow\\20221230_152538_8796.mkv: 1088x1088 1 cow, 15.5ms\n",
      "WARNING  'Masks.masks' is deprecated. Use 'Masks.data' instead.\n",
      "video 1/1 (1291/3933) D:\\815_CowDataChecking\\20221230\\20221230_E_cow\\20221230_152538_8796.mkv: 1088x1088 1 cow, 14.4ms\n",
      "WARNING  'Masks.masks' is deprecated. Use 'Masks.data' instead.\n",
      "video 1/1 (1292/3933) D:\\815_CowDataChecking\\20221230\\20221230_E_cow\\20221230_152538_8796.mkv: 1088x1088 1 cow, 15.1ms\n",
      "video 1/1 (1293/3933) D:\\815_CowDataChecking\\20221230\\20221230_E_cow\\20221230_152538_8796.mkv: 1088x1088 1 cow, 12.5ms\n",
      "WARNING  'Masks.masks' is deprecated. Use 'Masks.data' instead.\n",
      "video 1/1 (1294/3933) D:\\815_CowDataChecking\\20221230\\20221230_E_cow\\20221230_152538_8796.mkv: 1088x1088 1 cow, 13.6ms\n",
      "WARNING  'Masks.masks' is deprecated. Use 'Masks.data' instead.\n",
      "video 1/1 (1295/3933) D:\\815_CowDataChecking\\20221230\\20221230_E_cow\\20221230_152538_8796.mkv: 1088x1088 1 cow, 14.0ms\n",
      "video 1/1 (1296/3933) D:\\815_CowDataChecking\\20221230\\20221230_E_cow\\20221230_152538_8796.mkv: 1088x1088 1 cow, 10.9ms\n",
      "WARNING  'Masks.masks' is deprecated. Use 'Masks.data' instead.\n",
      "video 1/1 (1297/3933) D:\\815_CowDataChecking\\20221230\\20221230_E_cow\\20221230_152538_8796.mkv: 1088x1088 1 cow, 14.1ms\n",
      "WARNING  'Masks.masks' is deprecated. Use 'Masks.data' instead.\n",
      "video 1/1 (1298/3933) D:\\815_CowDataChecking\\20221230\\20221230_E_cow\\20221230_152538_8796.mkv: 1088x1088 1 cow, 14.3ms\n",
      "video 1/1 (1299/3933) D:\\815_CowDataChecking\\20221230\\20221230_E_cow\\20221230_152538_8796.mkv: 1088x1088 1 cow, 14.7ms\n",
      "WARNING  'Masks.masks' is deprecated. Use 'Masks.data' instead.\n",
      "video 1/1 (1300/3933) D:\\815_CowDataChecking\\20221230\\20221230_E_cow\\20221230_152538_8796.mkv: 1088x1088 1 cow, 13.2ms\n",
      "WARNING  'Masks.masks' is deprecated. Use 'Masks.data' instead.\n",
      "video 1/1 (1301/3933) D:\\815_CowDataChecking\\20221230\\20221230_E_cow\\20221230_152538_8796.mkv: 1088x1088 1 cow, 15.2ms\n",
      "video 1/1 (1302/3933) D:\\815_CowDataChecking\\20221230\\20221230_E_cow\\20221230_152538_8796.mkv: 1088x1088 1 cow, 14.1ms\n",
      "WARNING  'Masks.masks' is deprecated. Use 'Masks.data' instead.\n",
      "video 1/1 (1303/3933) D:\\815_CowDataChecking\\20221230\\20221230_E_cow\\20221230_152538_8796.mkv: 1088x1088 1 cow, 15.2ms\n",
      "WARNING  'Masks.masks' is deprecated. Use 'Masks.data' instead.\n",
      "video 1/1 (1304/3933) D:\\815_CowDataChecking\\20221230\\20221230_E_cow\\20221230_152538_8796.mkv: 1088x1088 1 cow, 14.2ms\n",
      "video 1/1 (1305/3933) D:\\815_CowDataChecking\\20221230\\20221230_E_cow\\20221230_152538_8796.mkv: 1088x1088 1 cow, 14.4ms\n",
      "WARNING  'Masks.masks' is deprecated. Use 'Masks.data' instead.\n",
      "video 1/1 (1306/3933) D:\\815_CowDataChecking\\20221230\\20221230_E_cow\\20221230_152538_8796.mkv: 1088x1088 1 cow, 14.0ms\n",
      "WARNING  'Masks.masks' is deprecated. Use 'Masks.data' instead.\n",
      "video 1/1 (1307/3933) D:\\815_CowDataChecking\\20221230\\20221230_E_cow\\20221230_152538_8796.mkv: 1088x1088 1 cow, 14.6ms\n",
      "video 1/1 (1308/3933) D:\\815_CowDataChecking\\20221230\\20221230_E_cow\\20221230_152538_8796.mkv: 1088x1088 1 cow, 15.2ms\n",
      "WARNING  'Masks.masks' is deprecated. Use 'Masks.data' instead.\n",
      "video 1/1 (1309/3933) D:\\815_CowDataChecking\\20221230\\20221230_E_cow\\20221230_152538_8796.mkv: 1088x1088 1 cow, 16.3ms\n",
      "WARNING  'Masks.masks' is deprecated. Use 'Masks.data' instead.\n",
      "video 1/1 (1310/3933) D:\\815_CowDataChecking\\20221230\\20221230_E_cow\\20221230_152538_8796.mkv: 1088x1088 1 cow, 15.4ms\n",
      "video 1/1 (1311/3933) D:\\815_CowDataChecking\\20221230\\20221230_E_cow\\20221230_152538_8796.mkv: 1088x1088 1 cow, 13.6ms\n",
      "WARNING  'Masks.masks' is deprecated. Use 'Masks.data' instead.\n",
      "video 1/1 (1312/3933) D:\\815_CowDataChecking\\20221230\\20221230_E_cow\\20221230_152538_8796.mkv: 1088x1088 1 cow, 16.4ms\n",
      "WARNING  'Masks.masks' is deprecated. Use 'Masks.data' instead.\n",
      "video 1/1 (1313/3933) D:\\815_CowDataChecking\\20221230\\20221230_E_cow\\20221230_152538_8796.mkv: 1088x1088 1 cow, 16.0ms\n",
      "video 1/1 (1314/3933) D:\\815_CowDataChecking\\20221230\\20221230_E_cow\\20221230_152538_8796.mkv: 1088x1088 1 cow, 16.1ms\n",
      "WARNING  'Masks.masks' is deprecated. Use 'Masks.data' instead.\n",
      "video 1/1 (1315/3933) D:\\815_CowDataChecking\\20221230\\20221230_E_cow\\20221230_152538_8796.mkv: 1088x1088 1 cow, 15.8ms\n",
      "WARNING  'Masks.masks' is deprecated. Use 'Masks.data' instead.\n",
      "video 1/1 (1316/3933) D:\\815_CowDataChecking\\20221230\\20221230_E_cow\\20221230_152538_8796.mkv: 1088x1088 1 cow, 15.9ms\n",
      "video 1/1 (1317/3933) D:\\815_CowDataChecking\\20221230\\20221230_E_cow\\20221230_152538_8796.mkv: 1088x1088 1 cow, 13.5ms\n",
      "WARNING  'Masks.masks' is deprecated. Use 'Masks.data' instead.\n",
      "video 1/1 (1318/3933) D:\\815_CowDataChecking\\20221230\\20221230_E_cow\\20221230_152538_8796.mkv: 1088x1088 1 cow, 17.1ms\n",
      "WARNING  'Masks.masks' is deprecated. Use 'Masks.data' instead.\n",
      "video 1/1 (1319/3933) D:\\815_CowDataChecking\\20221230\\20221230_E_cow\\20221230_152538_8796.mkv: 1088x1088 1 cow, 16.8ms\n",
      "video 1/1 (1320/3933) D:\\815_CowDataChecking\\20221230\\20221230_E_cow\\20221230_152538_8796.mkv: 1088x1088 1 cow, 14.3ms\n",
      "WARNING  'Masks.masks' is deprecated. Use 'Masks.data' instead.\n",
      "video 1/1 (1321/3933) D:\\815_CowDataChecking\\20221230\\20221230_E_cow\\20221230_152538_8796.mkv: 1088x1088 1 cow, 17.4ms\n",
      "WARNING  'Masks.masks' is deprecated. Use 'Masks.data' instead.\n",
      "video 1/1 (1322/3933) D:\\815_CowDataChecking\\20221230\\20221230_E_cow\\20221230_152538_8796.mkv: 1088x1088 1 cow, 12.9ms\n",
      "video 1/1 (1323/3933) D:\\815_CowDataChecking\\20221230\\20221230_E_cow\\20221230_152538_8796.mkv: 1088x1088 1 cow, 17.1ms\n",
      "WARNING  'Masks.masks' is deprecated. Use 'Masks.data' instead.\n",
      "video 1/1 (1324/3933) D:\\815_CowDataChecking\\20221230\\20221230_E_cow\\20221230_152538_8796.mkv: 1088x1088 1 cow, 17.0ms\n",
      "WARNING  'Masks.masks' is deprecated. Use 'Masks.data' instead.\n",
      "video 1/1 (1325/3933) D:\\815_CowDataChecking\\20221230\\20221230_E_cow\\20221230_152538_8796.mkv: 1088x1088 1 cow, 17.1ms\n",
      "video 1/1 (1326/3933) D:\\815_CowDataChecking\\20221230\\20221230_E_cow\\20221230_152538_8796.mkv: 1088x1088 1 cow, 18.3ms\n",
      "WARNING  'Masks.masks' is deprecated. Use 'Masks.data' instead.\n",
      "video 1/1 (1327/3933) D:\\815_CowDataChecking\\20221230\\20221230_E_cow\\20221230_152538_8796.mkv: 1088x1088 1 cow, 17.5ms\n",
      "video 1/1 (1328/3933) D:\\815_CowDataChecking\\20221230\\20221230_E_cow\\20221230_152538_8796.mkv: 1088x1088 (no detections), 17.6ms\n",
      "video 1/1 (1329/3933) D:\\815_CowDataChecking\\20221230\\20221230_E_cow\\20221230_152538_8796.mkv: 1088x1088 (no detections), 18.4ms\n",
      "video 1/1 (1330/3933) D:\\815_CowDataChecking\\20221230\\20221230_E_cow\\20221230_152538_8796.mkv: 1088x1088 (no detections), 17.2ms\n",
      "video 1/1 (1331/3933) D:\\815_CowDataChecking\\20221230\\20221230_E_cow\\20221230_152538_8796.mkv: 1088x1088 (no detections), 17.1ms\n",
      "video 1/1 (1332/3933) D:\\815_CowDataChecking\\20221230\\20221230_E_cow\\20221230_152538_8796.mkv: 1088x1088 (no detections), 14.5ms\n",
      "video 1/1 (1333/3933) D:\\815_CowDataChecking\\20221230\\20221230_E_cow\\20221230_152538_8796.mkv: 1088x1088 (no detections), 17.7ms\n",
      "video 1/1 (1334/3933) D:\\815_CowDataChecking\\20221230\\20221230_E_cow\\20221230_152538_8796.mkv: 1088x1088 (no detections), 18.4ms\n",
      "video 1/1 (1335/3933) D:\\815_CowDataChecking\\20221230\\20221230_E_cow\\20221230_152538_8796.mkv: 1088x1088 (no detections), 17.0ms\n",
      "video 1/1 (1336/3933) D:\\815_CowDataChecking\\20221230\\20221230_E_cow\\20221230_152538_8796.mkv: 1088x1088 (no detections), 12.5ms\n",
      "video 1/1 (1337/3933) D:\\815_CowDataChecking\\20221230\\20221230_E_cow\\20221230_152538_8796.mkv: 1088x1088 (no detections), 17.3ms\n",
      "video 1/1 (1338/3933) D:\\815_CowDataChecking\\20221230\\20221230_E_cow\\20221230_152538_8796.mkv: 1088x1088 (no detections), 14.6ms\n",
      "video 1/1 (1339/3933) D:\\815_CowDataChecking\\20221230\\20221230_E_cow\\20221230_152538_8796.mkv: 1088x1088 (no detections), 18.0ms\n",
      "video 1/1 (1340/3933) D:\\815_CowDataChecking\\20221230\\20221230_E_cow\\20221230_152538_8796.mkv: 1088x1088 (no detections), 16.1ms\n",
      "video 1/1 (1341/3933) D:\\815_CowDataChecking\\20221230\\20221230_E_cow\\20221230_152538_8796.mkv: 1088x1088 (no detections), 13.3ms\n",
      "video 1/1 (1342/3933) D:\\815_CowDataChecking\\20221230\\20221230_E_cow\\20221230_152538_8796.mkv: 1088x1088 (no detections), 18.8ms\n",
      "video 1/1 (1343/3933) D:\\815_CowDataChecking\\20221230\\20221230_E_cow\\20221230_152538_8796.mkv: 1088x1088 (no detections), 16.0ms\n",
      "video 1/1 (1344/3933) D:\\815_CowDataChecking\\20221230\\20221230_E_cow\\20221230_152538_8796.mkv: 1088x1088 (no detections), 19.1ms\n",
      "video 1/1 (1345/3933) D:\\815_CowDataChecking\\20221230\\20221230_E_cow\\20221230_152538_8796.mkv: 1088x1088 (no detections), 18.8ms\n",
      "video 1/1 (1346/3933) D:\\815_CowDataChecking\\20221230\\20221230_E_cow\\20221230_152538_8796.mkv: 1088x1088 (no detections), 17.8ms\n",
      "video 1/1 (1347/3933) D:\\815_CowDataChecking\\20221230\\20221230_E_cow\\20221230_152538_8796.mkv: 1088x1088 (no detections), 17.2ms\n",
      "video 1/1 (1348/3933) D:\\815_CowDataChecking\\20221230\\20221230_E_cow\\20221230_152538_8796.mkv: 1088x1088 (no detections), 20.5ms\n",
      "video 1/1 (1349/3933) D:\\815_CowDataChecking\\20221230\\20221230_E_cow\\20221230_152538_8796.mkv: 1088x1088 (no detections), 18.3ms\n",
      "video 1/1 (1350/3933) D:\\815_CowDataChecking\\20221230\\20221230_E_cow\\20221230_152538_8796.mkv: 1088x1088 (no detections), 13.5ms\n",
      "video 1/1 (1351/3933) D:\\815_CowDataChecking\\20221230\\20221230_E_cow\\20221230_152538_8796.mkv: 1088x1088 (no detections), 16.7ms\n",
      "video 1/1 (1352/3933) D:\\815_CowDataChecking\\20221230\\20221230_E_cow\\20221230_152538_8796.mkv: 1088x1088 (no detections), 16.1ms\n",
      "video 1/1 (1353/3933) D:\\815_CowDataChecking\\20221230\\20221230_E_cow\\20221230_152538_8796.mkv: 1088x1088 (no detections), 13.5ms\n",
      "video 1/1 (1354/3933) D:\\815_CowDataChecking\\20221230\\20221230_E_cow\\20221230_152538_8796.mkv: 1088x1088 (no detections), 16.7ms\n",
      "video 1/1 (1355/3933) D:\\815_CowDataChecking\\20221230\\20221230_E_cow\\20221230_152538_8796.mkv: 1088x1088 (no detections), 16.0ms\n",
      "video 1/1 (1356/3933) D:\\815_CowDataChecking\\20221230\\20221230_E_cow\\20221230_152538_8796.mkv: 1088x1088 (no detections), 13.7ms\n",
      "video 1/1 (1357/3933) D:\\815_CowDataChecking\\20221230\\20221230_E_cow\\20221230_152538_8796.mkv: 1088x1088 (no detections), 16.6ms\n",
      "video 1/1 (1358/3933) D:\\815_CowDataChecking\\20221230\\20221230_E_cow\\20221230_152538_8796.mkv: 1088x1088 (no detections), 16.3ms\n",
      "video 1/1 (1359/3933) D:\\815_CowDataChecking\\20221230\\20221230_E_cow\\20221230_152538_8796.mkv: 1088x1088 (no detections), 20.4ms\n",
      "video 1/1 (1360/3933) D:\\815_CowDataChecking\\20221230\\20221230_E_cow\\20221230_152538_8796.mkv: 1088x1088 (no detections), 17.8ms\n",
      "video 1/1 (1361/3933) D:\\815_CowDataChecking\\20221230\\20221230_E_cow\\20221230_152538_8796.mkv: 1088x1088 (no detections), 18.0ms\n",
      "video 1/1 (1362/3933) D:\\815_CowDataChecking\\20221230\\20221230_E_cow\\20221230_152538_8796.mkv: 1088x1088 (no detections), 14.4ms\n",
      "video 1/1 (1363/3933) D:\\815_CowDataChecking\\20221230\\20221230_E_cow\\20221230_152538_8796.mkv: 1088x1088 (no detections), 16.5ms\n",
      "video 1/1 (1364/3933) D:\\815_CowDataChecking\\20221230\\20221230_E_cow\\20221230_152538_8796.mkv: 1088x1088 (no detections), 15.4ms\n",
      "video 1/1 (1365/3933) D:\\815_CowDataChecking\\20221230\\20221230_E_cow\\20221230_152538_8796.mkv: 1088x1088 (no detections), 13.6ms\n",
      "video 1/1 (1366/3933) D:\\815_CowDataChecking\\20221230\\20221230_E_cow\\20221230_152538_8796.mkv: 1088x1088 (no detections), 17.4ms\n",
      "video 1/1 (1367/3933) D:\\815_CowDataChecking\\20221230\\20221230_E_cow\\20221230_152538_8796.mkv: 1088x1088 (no detections), 17.3ms\n",
      "video 1/1 (1368/3933) D:\\815_CowDataChecking\\20221230\\20221230_E_cow\\20221230_152538_8796.mkv: 1088x1088 (no detections), 12.7ms\n",
      "video 1/1 (1369/3933) D:\\815_CowDataChecking\\20221230\\20221230_E_cow\\20221230_152538_8796.mkv: 1088x1088 (no detections), 15.6ms\n",
      "video 1/1 (1370/3933) D:\\815_CowDataChecking\\20221230\\20221230_E_cow\\20221230_152538_8796.mkv: 1088x1088 (no detections), 16.1ms\n",
      "video 1/1 (1371/3933) D:\\815_CowDataChecking\\20221230\\20221230_E_cow\\20221230_152538_8796.mkv: 1088x1088 (no detections), 14.3ms\n",
      "video 1/1 (1372/3933) D:\\815_CowDataChecking\\20221230\\20221230_E_cow\\20221230_152538_8796.mkv: 1088x1088 (no detections), 18.7ms\n",
      "video 1/1 (1373/3933) D:\\815_CowDataChecking\\20221230\\20221230_E_cow\\20221230_152538_8796.mkv: 1088x1088 (no detections), 15.0ms\n",
      "video 1/1 (1374/3933) D:\\815_CowDataChecking\\20221230\\20221230_E_cow\\20221230_152538_8796.mkv: 1088x1088 (no detections), 20.8ms\n",
      "video 1/1 (1375/3933) D:\\815_CowDataChecking\\20221230\\20221230_E_cow\\20221230_152538_8796.mkv: 1088x1088 (no detections), 21.5ms\n",
      "video 1/1 (1376/3933) D:\\815_CowDataChecking\\20221230\\20221230_E_cow\\20221230_152538_8796.mkv: 1088x1088 (no detections), 15.0ms\n",
      "video 1/1 (1377/3933) D:\\815_CowDataChecking\\20221230\\20221230_E_cow\\20221230_152538_8796.mkv: 1088x1088 (no detections), 12.5ms\n",
      "video 1/1 (1378/3933) D:\\815_CowDataChecking\\20221230\\20221230_E_cow\\20221230_152538_8796.mkv: 1088x1088 (no detections), 14.4ms\n",
      "video 1/1 (1379/3933) D:\\815_CowDataChecking\\20221230\\20221230_E_cow\\20221230_152538_8796.mkv: 1088x1088 (no detections), 13.2ms\n",
      "video 1/1 (1380/3933) D:\\815_CowDataChecking\\20221230\\20221230_E_cow\\20221230_152538_8796.mkv: 1088x1088 (no detections), 16.5ms\n",
      "video 1/1 (1381/3933) D:\\815_CowDataChecking\\20221230\\20221230_E_cow\\20221230_152538_8796.mkv: 1088x1088 (no detections), 21.2ms\n",
      "video 1/1 (1382/3933) D:\\815_CowDataChecking\\20221230\\20221230_E_cow\\20221230_152538_8796.mkv: 1088x1088 (no detections), 12.5ms\n",
      "video 1/1 (1383/3933) D:\\815_CowDataChecking\\20221230\\20221230_E_cow\\20221230_152538_8796.mkv: 1088x1088 (no detections), 13.6ms\n",
      "video 1/1 (1384/3933) D:\\815_CowDataChecking\\20221230\\20221230_E_cow\\20221230_152538_8796.mkv: 1088x1088 (no detections), 15.6ms\n",
      "video 1/1 (1385/3933) D:\\815_CowDataChecking\\20221230\\20221230_E_cow\\20221230_152538_8796.mkv: 1088x1088 (no detections), 17.6ms\n",
      "video 1/1 (1386/3933) D:\\815_CowDataChecking\\20221230\\20221230_E_cow\\20221230_152538_8796.mkv: 1088x1088 (no detections), 13.2ms\n",
      "video 1/1 (1387/3933) D:\\815_CowDataChecking\\20221230\\20221230_E_cow\\20221230_152538_8796.mkv: 1088x1088 (no detections), 14.3ms\n",
      "video 1/1 (1388/3933) D:\\815_CowDataChecking\\20221230\\20221230_E_cow\\20221230_152538_8796.mkv: 1088x1088 (no detections), 22.7ms\n",
      "video 1/1 (1389/3933) D:\\815_CowDataChecking\\20221230\\20221230_E_cow\\20221230_152538_8796.mkv: 1088x1088 (no detections), 14.0ms\n",
      "video 1/1 (1390/3933) D:\\815_CowDataChecking\\20221230\\20221230_E_cow\\20221230_152538_8796.mkv: 1088x1088 (no detections), 13.6ms\n",
      "video 1/1 (1391/3933) D:\\815_CowDataChecking\\20221230\\20221230_E_cow\\20221230_152538_8796.mkv: 1088x1088 (no detections), 14.3ms\n",
      "video 1/1 (1392/3933) D:\\815_CowDataChecking\\20221230\\20221230_E_cow\\20221230_152538_8796.mkv: 1088x1088 (no detections), 18.6ms\n",
      "video 1/1 (1393/3933) D:\\815_CowDataChecking\\20221230\\20221230_E_cow\\20221230_152538_8796.mkv: 1088x1088 (no detections), 20.0ms\n",
      "video 1/1 (1394/3933) D:\\815_CowDataChecking\\20221230\\20221230_E_cow\\20221230_152538_8796.mkv: 1088x1088 (no detections), 19.6ms\n",
      "video 1/1 (1395/3933) D:\\815_CowDataChecking\\20221230\\20221230_E_cow\\20221230_152538_8796.mkv: 1088x1088 (no detections), 15.3ms\n",
      "video 1/1 (1396/3933) D:\\815_CowDataChecking\\20221230\\20221230_E_cow\\20221230_152538_8796.mkv: 1088x1088 (no detections), 18.2ms\n",
      "video 1/1 (1397/3933) D:\\815_CowDataChecking\\20221230\\20221230_E_cow\\20221230_152538_8796.mkv: 1088x1088 (no detections), 13.5ms\n",
      "video 1/1 (1398/3933) D:\\815_CowDataChecking\\20221230\\20221230_E_cow\\20221230_152538_8796.mkv: 1088x1088 (no detections), 17.0ms\n",
      "video 1/1 (1399/3933) D:\\815_CowDataChecking\\20221230\\20221230_E_cow\\20221230_152538_8796.mkv: 1088x1088 (no detections), 17.2ms\n",
      "video 1/1 (1400/3933) D:\\815_CowDataChecking\\20221230\\20221230_E_cow\\20221230_152538_8796.mkv: 1088x1088 (no detections), 23.0ms\n",
      "video 1/1 (1401/3933) D:\\815_CowDataChecking\\20221230\\20221230_E_cow\\20221230_152538_8796.mkv: 1088x1088 (no detections), 13.5ms\n",
      "video 1/1 (1402/3933) D:\\815_CowDataChecking\\20221230\\20221230_E_cow\\20221230_152538_8796.mkv: 1088x1088 (no detections), 16.2ms\n",
      "video 1/1 (1403/3933) D:\\815_CowDataChecking\\20221230\\20221230_E_cow\\20221230_152538_8796.mkv: 1088x1088 (no detections), 20.8ms\n",
      "video 1/1 (1404/3933) D:\\815_CowDataChecking\\20221230\\20221230_E_cow\\20221230_152538_8796.mkv: 1088x1088 (no detections), 17.1ms\n",
      "video 1/1 (1405/3933) D:\\815_CowDataChecking\\20221230\\20221230_E_cow\\20221230_152538_8796.mkv: 1088x1088 (no detections), 19.6ms\n",
      "video 1/1 (1406/3933) D:\\815_CowDataChecking\\20221230\\20221230_E_cow\\20221230_152538_8796.mkv: 1088x1088 (no detections), 23.1ms\n",
      "video 1/1 (1407/3933) D:\\815_CowDataChecking\\20221230\\20221230_E_cow\\20221230_152538_8796.mkv: 1088x1088 (no detections), 19.6ms\n",
      "video 1/1 (1408/3933) D:\\815_CowDataChecking\\20221230\\20221230_E_cow\\20221230_152538_8796.mkv: 1088x1088 (no detections), 13.4ms\n",
      "video 1/1 (1409/3933) D:\\815_CowDataChecking\\20221230\\20221230_E_cow\\20221230_152538_8796.mkv: 1088x1088 (no detections), 20.0ms\n",
      "video 1/1 (1410/3933) D:\\815_CowDataChecking\\20221230\\20221230_E_cow\\20221230_152538_8796.mkv: 1088x1088 (no detections), 15.6ms\n",
      "video 1/1 (1411/3933) D:\\815_CowDataChecking\\20221230\\20221230_E_cow\\20221230_152538_8796.mkv: 1088x1088 (no detections), 14.5ms\n",
      "video 1/1 (1412/3933) D:\\815_CowDataChecking\\20221230\\20221230_E_cow\\20221230_152538_8796.mkv: 1088x1088 (no detections), 21.9ms\n",
      "video 1/1 (1413/3933) D:\\815_CowDataChecking\\20221230\\20221230_E_cow\\20221230_152538_8796.mkv: 1088x1088 (no detections), 13.5ms\n",
      "video 1/1 (1414/3933) D:\\815_CowDataChecking\\20221230\\20221230_E_cow\\20221230_152538_8796.mkv: 1088x1088 (no detections), 14.2ms\n",
      "video 1/1 (1415/3933) D:\\815_CowDataChecking\\20221230\\20221230_E_cow\\20221230_152538_8796.mkv: 1088x1088 (no detections), 14.4ms\n",
      "video 1/1 (1416/3933) D:\\815_CowDataChecking\\20221230\\20221230_E_cow\\20221230_152538_8796.mkv: 1088x1088 (no detections), 23.5ms\n",
      "video 1/1 (1417/3933) D:\\815_CowDataChecking\\20221230\\20221230_E_cow\\20221230_152538_8796.mkv: 1088x1088 (no detections), 23.1ms\n",
      "video 1/1 (1418/3933) D:\\815_CowDataChecking\\20221230\\20221230_E_cow\\20221230_152538_8796.mkv: 1088x1088 (no detections), 17.8ms\n",
      "video 1/1 (1419/3933) D:\\815_CowDataChecking\\20221230\\20221230_E_cow\\20221230_152538_8796.mkv: 1088x1088 (no detections), 21.5ms\n",
      "video 1/1 (1420/3933) D:\\815_CowDataChecking\\20221230\\20221230_E_cow\\20221230_152538_8796.mkv: 1088x1088 (no detections), 17.5ms\n",
      "video 1/1 (1421/3933) D:\\815_CowDataChecking\\20221230\\20221230_E_cow\\20221230_152538_8796.mkv: 1088x1088 (no detections), 24.0ms\n",
      "video 1/1 (1422/3933) D:\\815_CowDataChecking\\20221230\\20221230_E_cow\\20221230_152538_8796.mkv: 1088x1088 (no detections), 19.8ms\n",
      "video 1/1 (1423/3933) D:\\815_CowDataChecking\\20221230\\20221230_E_cow\\20221230_152538_8796.mkv: 1088x1088 (no detections), 20.4ms\n",
      "video 1/1 (1424/3933) D:\\815_CowDataChecking\\20221230\\20221230_E_cow\\20221230_152538_8796.mkv: 1088x1088 (no detections), 15.4ms\n",
      "video 1/1 (1425/3933) D:\\815_CowDataChecking\\20221230\\20221230_E_cow\\20221230_152538_8796.mkv: 1088x1088 (no detections), 15.0ms\n",
      "video 1/1 (1426/3933) D:\\815_CowDataChecking\\20221230\\20221230_E_cow\\20221230_152538_8796.mkv: 1088x1088 (no detections), 15.0ms\n",
      "video 1/1 (1427/3933) D:\\815_CowDataChecking\\20221230\\20221230_E_cow\\20221230_152538_8796.mkv: 1088x1088 (no detections), 20.6ms\n",
      "video 1/1 (1428/3933) D:\\815_CowDataChecking\\20221230\\20221230_E_cow\\20221230_152538_8796.mkv: 1088x1088 (no detections), 17.4ms\n",
      "video 1/1 (1429/3933) D:\\815_CowDataChecking\\20221230\\20221230_E_cow\\20221230_152538_8796.mkv: 1088x1088 (no detections), 16.1ms\n",
      "video 1/1 (1430/3933) D:\\815_CowDataChecking\\20221230\\20221230_E_cow\\20221230_152538_8796.mkv: 1088x1088 (no detections), 24.3ms\n",
      "video 1/1 (1431/3933) D:\\815_CowDataChecking\\20221230\\20221230_E_cow\\20221230_152538_8796.mkv: 1088x1088 (no detections), 25.3ms\n",
      "video 1/1 (1432/3933) D:\\815_CowDataChecking\\20221230\\20221230_E_cow\\20221230_152538_8796.mkv: 1088x1088 (no detections), 23.1ms\n",
      "video 1/1 (1433/3933) D:\\815_CowDataChecking\\20221230\\20221230_E_cow\\20221230_152538_8796.mkv: 1088x1088 (no detections), 17.5ms\n",
      "video 1/1 (1434/3933) D:\\815_CowDataChecking\\20221230\\20221230_E_cow\\20221230_152538_8796.mkv: 1088x1088 (no detections), 19.8ms\n",
      "video 1/1 (1435/3933) D:\\815_CowDataChecking\\20221230\\20221230_E_cow\\20221230_152538_8796.mkv: 1088x1088 (no detections), 19.5ms\n",
      "video 1/1 (1436/3933) D:\\815_CowDataChecking\\20221230\\20221230_E_cow\\20221230_152538_8796.mkv: 1088x1088 (no detections), 21.6ms\n",
      "video 1/1 (1437/3933) D:\\815_CowDataChecking\\20221230\\20221230_E_cow\\20221230_152538_8796.mkv: 1088x1088 (no detections), 22.1ms\n",
      "video 1/1 (1438/3933) D:\\815_CowDataChecking\\20221230\\20221230_E_cow\\20221230_152538_8796.mkv: 1088x1088 (no detections), 22.1ms\n",
      "video 1/1 (1439/3933) D:\\815_CowDataChecking\\20221230\\20221230_E_cow\\20221230_152538_8796.mkv: 1088x1088 (no detections), 23.3ms\n",
      "video 1/1 (1440/3933) D:\\815_CowDataChecking\\20221230\\20221230_E_cow\\20221230_152538_8796.mkv: 1088x1088 (no detections), 23.6ms\n",
      "video 1/1 (1441/3933) D:\\815_CowDataChecking\\20221230\\20221230_E_cow\\20221230_152538_8796.mkv: 1088x1088 (no detections), 22.4ms\n",
      "video 1/1 (1442/3933) D:\\815_CowDataChecking\\20221230\\20221230_E_cow\\20221230_152538_8796.mkv: 1088x1088 (no detections), 24.2ms\n",
      "video 1/1 (1443/3933) D:\\815_CowDataChecking\\20221230\\20221230_E_cow\\20221230_152538_8796.mkv: 1088x1088 (no detections), 22.1ms\n",
      "video 1/1 (1444/3933) D:\\815_CowDataChecking\\20221230\\20221230_E_cow\\20221230_152538_8796.mkv: 1088x1088 (no detections), 20.1ms\n",
      "video 1/1 (1445/3933) D:\\815_CowDataChecking\\20221230\\20221230_E_cow\\20221230_152538_8796.mkv: 1088x1088 (no detections), 20.4ms\n",
      "video 1/1 (1446/3933) D:\\815_CowDataChecking\\20221230\\20221230_E_cow\\20221230_152538_8796.mkv: 1088x1088 (no detections), 17.2ms\n",
      "video 1/1 (1447/3933) D:\\815_CowDataChecking\\20221230\\20221230_E_cow\\20221230_152538_8796.mkv: 1088x1088 (no detections), 25.2ms\n",
      "video 1/1 (1448/3933) D:\\815_CowDataChecking\\20221230\\20221230_E_cow\\20221230_152538_8796.mkv: 1088x1088 (no detections), 21.0ms\n",
      "video 1/1 (1449/3933) D:\\815_CowDataChecking\\20221230\\20221230_E_cow\\20221230_152538_8796.mkv: 1088x1088 (no detections), 23.0ms\n",
      "video 1/1 (1450/3933) D:\\815_CowDataChecking\\20221230\\20221230_E_cow\\20221230_152538_8796.mkv: 1088x1088 (no detections), 22.4ms\n",
      "video 1/1 (1451/3933) D:\\815_CowDataChecking\\20221230\\20221230_E_cow\\20221230_152538_8796.mkv: 1088x1088 (no detections), 22.7ms\n",
      "video 1/1 (1452/3933) D:\\815_CowDataChecking\\20221230\\20221230_E_cow\\20221230_152538_8796.mkv: 1088x1088 (no detections), 23.5ms\n",
      "video 1/1 (1453/3933) D:\\815_CowDataChecking\\20221230\\20221230_E_cow\\20221230_152538_8796.mkv: 1088x1088 (no detections), 23.8ms\n",
      "video 1/1 (1454/3933) D:\\815_CowDataChecking\\20221230\\20221230_E_cow\\20221230_152538_8796.mkv: 1088x1088 (no detections), 22.1ms\n",
      "video 1/1 (1455/3933) D:\\815_CowDataChecking\\20221230\\20221230_E_cow\\20221230_152538_8796.mkv: 1088x1088 (no detections), 14.5ms\n",
      "video 1/1 (1456/3933) D:\\815_CowDataChecking\\20221230\\20221230_E_cow\\20221230_152538_8796.mkv: 1088x1088 (no detections), 23.0ms\n",
      "video 1/1 (1457/3933) D:\\815_CowDataChecking\\20221230\\20221230_E_cow\\20221230_152538_8796.mkv: 1088x1088 (no detections), 19.1ms\n",
      "video 1/1 (1458/3933) D:\\815_CowDataChecking\\20221230\\20221230_E_cow\\20221230_152538_8796.mkv: 1088x1088 (no detections), 25.1ms\n",
      "video 1/1 (1459/3933) D:\\815_CowDataChecking\\20221230\\20221230_E_cow\\20221230_152538_8796.mkv: 1088x1088 (no detections), 26.1ms\n",
      "video 1/1 (1460/3933) D:\\815_CowDataChecking\\20221230\\20221230_E_cow\\20221230_152538_8796.mkv: 1088x1088 (no detections), 21.1ms\n",
      "video 1/1 (1461/3933) D:\\815_CowDataChecking\\20221230\\20221230_E_cow\\20221230_152538_8796.mkv: 1088x1088 (no detections), 20.0ms\n",
      "video 1/1 (1462/3933) D:\\815_CowDataChecking\\20221230\\20221230_E_cow\\20221230_152538_8796.mkv: 1088x1088 (no detections), 18.9ms\n",
      "video 1/1 (1463/3933) D:\\815_CowDataChecking\\20221230\\20221230_E_cow\\20221230_152538_8796.mkv: 1088x1088 (no detections), 20.5ms\n",
      "video 1/1 (1464/3933) D:\\815_CowDataChecking\\20221230\\20221230_E_cow\\20221230_152538_8796.mkv: 1088x1088 (no detections), 18.1ms\n",
      "video 1/1 (1465/3933) D:\\815_CowDataChecking\\20221230\\20221230_E_cow\\20221230_152538_8796.mkv: 1088x1088 (no detections), 16.2ms\n",
      "video 1/1 (1466/3933) D:\\815_CowDataChecking\\20221230\\20221230_E_cow\\20221230_152538_8796.mkv: 1088x1088 (no detections), 22.2ms\n",
      "video 1/1 (1467/3933) D:\\815_CowDataChecking\\20221230\\20221230_E_cow\\20221230_152538_8796.mkv: 1088x1088 (no detections), 24.0ms\n",
      "video 1/1 (1468/3933) D:\\815_CowDataChecking\\20221230\\20221230_E_cow\\20221230_152538_8796.mkv: 1088x1088 (no detections), 22.2ms\n",
      "video 1/1 (1469/3933) D:\\815_CowDataChecking\\20221230\\20221230_E_cow\\20221230_152538_8796.mkv: 1088x1088 (no detections), 25.1ms\n",
      "video 1/1 (1470/3933) D:\\815_CowDataChecking\\20221230\\20221230_E_cow\\20221230_152538_8796.mkv: 1088x1088 (no detections), 22.1ms\n",
      "video 1/1 (1471/3933) D:\\815_CowDataChecking\\20221230\\20221230_E_cow\\20221230_152538_8796.mkv: 1088x1088 (no detections), 22.1ms\n",
      "video 1/1 (1472/3933) D:\\815_CowDataChecking\\20221230\\20221230_E_cow\\20221230_152538_8796.mkv: 1088x1088 (no detections), 25.1ms\n",
      "video 1/1 (1473/3933) D:\\815_CowDataChecking\\20221230\\20221230_E_cow\\20221230_152538_8796.mkv: 1088x1088 (no detections), 23.2ms\n",
      "video 1/1 (1474/3933) D:\\815_CowDataChecking\\20221230\\20221230_E_cow\\20221230_152538_8796.mkv: 1088x1088 (no detections), 22.3ms\n",
      "video 1/1 (1475/3933) D:\\815_CowDataChecking\\20221230\\20221230_E_cow\\20221230_152538_8796.mkv: 1088x1088 (no detections), 24.0ms\n",
      "video 1/1 (1476/3933) D:\\815_CowDataChecking\\20221230\\20221230_E_cow\\20221230_152538_8796.mkv: 1088x1088 (no detections), 19.5ms\n",
      "video 1/1 (1477/3933) D:\\815_CowDataChecking\\20221230\\20221230_E_cow\\20221230_152538_8796.mkv: 1088x1088 (no detections), 21.2ms\n",
      "video 1/1 (1478/3933) D:\\815_CowDataChecking\\20221230\\20221230_E_cow\\20221230_152538_8796.mkv: 1088x1088 (no detections), 24.0ms\n",
      "video 1/1 (1479/3933) D:\\815_CowDataChecking\\20221230\\20221230_E_cow\\20221230_152538_8796.mkv: 1088x1088 (no detections), 24.1ms\n",
      "video 1/1 (1480/3933) D:\\815_CowDataChecking\\20221230\\20221230_E_cow\\20221230_152538_8796.mkv: 1088x1088 (no detections), 23.1ms\n",
      "video 1/1 (1481/3933) D:\\815_CowDataChecking\\20221230\\20221230_E_cow\\20221230_152538_8796.mkv: 1088x1088 (no detections), 23.2ms\n",
      "video 1/1 (1482/3933) D:\\815_CowDataChecking\\20221230\\20221230_E_cow\\20221230_152538_8796.mkv: 1088x1088 (no detections), 24.1ms\n",
      "video 1/1 (1483/3933) D:\\815_CowDataChecking\\20221230\\20221230_E_cow\\20221230_152538_8796.mkv: 1088x1088 (no detections), 22.0ms\n",
      "video 1/1 (1484/3933) D:\\815_CowDataChecking\\20221230\\20221230_E_cow\\20221230_152538_8796.mkv: 1088x1088 (no detections), 25.1ms\n",
      "video 1/1 (1485/3933) D:\\815_CowDataChecking\\20221230\\20221230_E_cow\\20221230_152538_8796.mkv: 1088x1088 (no detections), 29.6ms\n",
      "video 1/1 (1486/3933) D:\\815_CowDataChecking\\20221230\\20221230_E_cow\\20221230_152538_8796.mkv: 1088x1088 (no detections), 22.1ms\n",
      "video 1/1 (1487/3933) D:\\815_CowDataChecking\\20221230\\20221230_E_cow\\20221230_152538_8796.mkv: 1088x1088 (no detections), 17.1ms\n",
      "video 1/1 (1488/3933) D:\\815_CowDataChecking\\20221230\\20221230_E_cow\\20221230_152538_8796.mkv: 1088x1088 (no detections), 23.1ms\n",
      "video 1/1 (1489/3933) D:\\815_CowDataChecking\\20221230\\20221230_E_cow\\20221230_152538_8796.mkv: 1088x1088 (no detections), 23.4ms\n",
      "video 1/1 (1490/3933) D:\\815_CowDataChecking\\20221230\\20221230_E_cow\\20221230_152538_8796.mkv: 1088x1088 (no detections), 19.5ms\n",
      "video 1/1 (1491/3933) D:\\815_CowDataChecking\\20221230\\20221230_E_cow\\20221230_152538_8796.mkv: 1088x1088 (no detections), 20.0ms\n",
      "video 1/1 (1492/3933) D:\\815_CowDataChecking\\20221230\\20221230_E_cow\\20221230_152538_8796.mkv: 1088x1088 (no detections), 18.6ms\n",
      "WARNING  'Masks.masks' is deprecated. Use 'Masks.data' instead.\n",
      "video 1/1 (1493/3933) D:\\815_CowDataChecking\\20221230\\20221230_E_cow\\20221230_152538_8796.mkv: 1088x1088 1 cow, 17.1ms\n",
      "video 1/1 (1494/3933) D:\\815_CowDataChecking\\20221230\\20221230_E_cow\\20221230_152538_8796.mkv: 1088x1088 (no detections), 22.9ms\n",
      "video 1/1 (1495/3933) D:\\815_CowDataChecking\\20221230\\20221230_E_cow\\20221230_152538_8796.mkv: 1088x1088 (no detections), 22.5ms\n",
      "video 1/1 (1496/3933) D:\\815_CowDataChecking\\20221230\\20221230_E_cow\\20221230_152538_8796.mkv: 1088x1088 (no detections), 16.3ms\n",
      "video 1/1 (1497/3933) D:\\815_CowDataChecking\\20221230\\20221230_E_cow\\20221230_152538_8796.mkv: 1088x1088 (no detections), 23.3ms\n",
      "video 1/1 (1498/3933) D:\\815_CowDataChecking\\20221230\\20221230_E_cow\\20221230_152538_8796.mkv: 1088x1088 (no detections), 23.3ms\n",
      "video 1/1 (1499/3933) D:\\815_CowDataChecking\\20221230\\20221230_E_cow\\20221230_152538_8796.mkv: 1088x1088 (no detections), 25.4ms\n",
      "video 1/1 (1500/3933) D:\\815_CowDataChecking\\20221230\\20221230_E_cow\\20221230_152538_8796.mkv: 1088x1088 (no detections), 16.4ms\n",
      "video 1/1 (1501/3933) D:\\815_CowDataChecking\\20221230\\20221230_E_cow\\20221230_152538_8796.mkv: 1088x1088 (no detections), 25.0ms\n",
      "video 1/1 (1502/3933) D:\\815_CowDataChecking\\20221230\\20221230_E_cow\\20221230_152538_8796.mkv: 1088x1088 (no detections), 21.6ms\n",
      "video 1/1 (1503/3933) D:\\815_CowDataChecking\\20221230\\20221230_E_cow\\20221230_152538_8796.mkv: 1088x1088 (no detections), 25.1ms\n",
      "video 1/1 (1504/3933) D:\\815_CowDataChecking\\20221230\\20221230_E_cow\\20221230_152538_8796.mkv: 1088x1088 (no detections), 24.1ms\n",
      "video 1/1 (1505/3933) D:\\815_CowDataChecking\\20221230\\20221230_E_cow\\20221230_152538_8796.mkv: 1088x1088 (no detections), 17.7ms\n",
      "video 1/1 (1506/3933) D:\\815_CowDataChecking\\20221230\\20221230_E_cow\\20221230_152538_8796.mkv: 1088x1088 (no detections), 16.0ms\n",
      "video 1/1 (1507/3933) D:\\815_CowDataChecking\\20221230\\20221230_E_cow\\20221230_152538_8796.mkv: 1088x1088 (no detections), 15.1ms\n",
      "video 1/1 (1508/3933) D:\\815_CowDataChecking\\20221230\\20221230_E_cow\\20221230_152538_8796.mkv: 1088x1088 (no detections), 24.5ms\n",
      "video 1/1 (1509/3933) D:\\815_CowDataChecking\\20221230\\20221230_E_cow\\20221230_152538_8796.mkv: 1088x1088 (no detections), 23.0ms\n",
      "video 1/1 (1510/3933) D:\\815_CowDataChecking\\20221230\\20221230_E_cow\\20221230_152538_8796.mkv: 1088x1088 (no detections), 22.1ms\n",
      "video 1/1 (1511/3933) D:\\815_CowDataChecking\\20221230\\20221230_E_cow\\20221230_152538_8796.mkv: 1088x1088 (no detections), 20.0ms\n",
      "video 1/1 (1512/3933) D:\\815_CowDataChecking\\20221230\\20221230_E_cow\\20221230_152538_8796.mkv: 1088x1088 (no detections), 17.6ms\n",
      "video 1/1 (1513/3933) D:\\815_CowDataChecking\\20221230\\20221230_E_cow\\20221230_152538_8796.mkv: 1088x1088 (no detections), 22.7ms\n",
      "video 1/1 (1514/3933) D:\\815_CowDataChecking\\20221230\\20221230_E_cow\\20221230_152538_8796.mkv: 1088x1088 (no detections), 18.1ms\n",
      "video 1/1 (1515/3933) D:\\815_CowDataChecking\\20221230\\20221230_E_cow\\20221230_152538_8796.mkv: 1088x1088 (no detections), 24.0ms\n",
      "video 1/1 (1516/3933) D:\\815_CowDataChecking\\20221230\\20221230_E_cow\\20221230_152538_8796.mkv: 1088x1088 (no detections), 23.5ms\n",
      "video 1/1 (1517/3933) D:\\815_CowDataChecking\\20221230\\20221230_E_cow\\20221230_152538_8796.mkv: 1088x1088 (no detections), 22.5ms\n",
      "video 1/1 (1518/3933) D:\\815_CowDataChecking\\20221230\\20221230_E_cow\\20221230_152538_8796.mkv: 1088x1088 (no detections), 21.4ms\n",
      "video 1/1 (1519/3933) D:\\815_CowDataChecking\\20221230\\20221230_E_cow\\20221230_152538_8796.mkv: 1088x1088 (no detections), 16.4ms\n",
      "video 1/1 (1520/3933) D:\\815_CowDataChecking\\20221230\\20221230_E_cow\\20221230_152538_8796.mkv: 1088x1088 (no detections), 23.0ms\n",
      "video 1/1 (1521/3933) D:\\815_CowDataChecking\\20221230\\20221230_E_cow\\20221230_152538_8796.mkv: 1088x1088 (no detections), 22.9ms\n",
      "video 1/1 (1522/3933) D:\\815_CowDataChecking\\20221230\\20221230_E_cow\\20221230_152538_8796.mkv: 1088x1088 (no detections), 23.5ms\n",
      "video 1/1 (1523/3933) D:\\815_CowDataChecking\\20221230\\20221230_E_cow\\20221230_152538_8796.mkv: 1088x1088 (no detections), 22.3ms\n",
      "video 1/1 (1524/3933) D:\\815_CowDataChecking\\20221230\\20221230_E_cow\\20221230_152538_8796.mkv: 1088x1088 (no detections), 23.4ms\n",
      "video 1/1 (1525/3933) D:\\815_CowDataChecking\\20221230\\20221230_E_cow\\20221230_152538_8796.mkv: 1088x1088 (no detections), 21.2ms\n",
      "WARNING  'Masks.masks' is deprecated. Use 'Masks.data' instead.\n",
      "video 1/1 (1526/3933) D:\\815_CowDataChecking\\20221230\\20221230_E_cow\\20221230_152538_8796.mkv: 1088x1088 1 cow, 22.4ms\n",
      "video 1/1 (1527/3933) D:\\815_CowDataChecking\\20221230\\20221230_E_cow\\20221230_152538_8796.mkv: 1088x1088 1 cow, 19.8ms\n",
      "video 1/1 (1528/3933) D:\\815_CowDataChecking\\20221230\\20221230_E_cow\\20221230_152538_8796.mkv: 1088x1088 (no detections), 17.0ms\n",
      "video 1/1 (1529/3933) D:\\815_CowDataChecking\\20221230\\20221230_E_cow\\20221230_152538_8796.mkv: 1088x1088 (no detections), 23.5ms\n",
      "video 1/1 (1530/3933) D:\\815_CowDataChecking\\20221230\\20221230_E_cow\\20221230_152538_8796.mkv: 1088x1088 (no detections), 22.0ms\n",
      "WARNING  'Masks.masks' is deprecated. Use 'Masks.data' instead.\n",
      "video 1/1 (1531/3933) D:\\815_CowDataChecking\\20221230\\20221230_E_cow\\20221230_152538_8796.mkv: 1088x1088 1 cow, 15.5ms\n",
      "WARNING  'Masks.masks' is deprecated. Use 'Masks.data' instead.\n",
      "video 1/1 (1532/3933) D:\\815_CowDataChecking\\20221230\\20221230_E_cow\\20221230_152538_8796.mkv: 1088x1088 1 cow, 21.5ms\n",
      "video 1/1 (1533/3933) D:\\815_CowDataChecking\\20221230\\20221230_E_cow\\20221230_152538_8796.mkv: 1088x1088 1 cow, 20.0ms\n",
      "WARNING  'Masks.masks' is deprecated. Use 'Masks.data' instead.\n",
      "video 1/1 (1534/3933) D:\\815_CowDataChecking\\20221230\\20221230_E_cow\\20221230_152538_8796.mkv: 1088x1088 1 cow, 16.6ms\n",
      "video 1/1 (1535/3933) D:\\815_CowDataChecking\\20221230\\20221230_E_cow\\20221230_152538_8796.mkv: 1088x1088 (no detections), 20.7ms\n",
      "video 1/1 (1536/3933) D:\\815_CowDataChecking\\20221230\\20221230_E_cow\\20221230_152538_8796.mkv: 1088x1088 (no detections), 23.0ms\n",
      "video 1/1 (1537/3933) D:\\815_CowDataChecking\\20221230\\20221230_E_cow\\20221230_152538_8796.mkv: 1088x1088 (no detections), 21.5ms\n",
      "video 1/1 (1538/3933) D:\\815_CowDataChecking\\20221230\\20221230_E_cow\\20221230_152538_8796.mkv: 1088x1088 (no detections), 23.5ms\n",
      "video 1/1 (1539/3933) D:\\815_CowDataChecking\\20221230\\20221230_E_cow\\20221230_152538_8796.mkv: 1088x1088 1 cow, 22.1ms\n",
      "WARNING  'Masks.masks' is deprecated. Use 'Masks.data' instead.\n",
      "video 1/1 (1540/3933) D:\\815_CowDataChecking\\20221230\\20221230_E_cow\\20221230_152538_8796.mkv: 1088x1088 1 cow, 28.4ms\n",
      "WARNING  'Masks.masks' is deprecated. Use 'Masks.data' instead.\n",
      "video 1/1 (1541/3933) D:\\815_CowDataChecking\\20221230\\20221230_E_cow\\20221230_152538_8796.mkv: 1088x1088 1 cow, 23.1ms\n",
      "video 1/1 (1542/3933) D:\\815_CowDataChecking\\20221230\\20221230_E_cow\\20221230_152538_8796.mkv: 1088x1088 1 cow, 22.4ms\n",
      "WARNING  'Masks.masks' is deprecated. Use 'Masks.data' instead.\n",
      "video 1/1 (1543/3933) D:\\815_CowDataChecking\\20221230\\20221230_E_cow\\20221230_152538_8796.mkv: 1088x1088 1 cow, 19.4ms\n",
      "WARNING  'Masks.masks' is deprecated. Use 'Masks.data' instead.\n",
      "video 1/1 (1544/3933) D:\\815_CowDataChecking\\20221230\\20221230_E_cow\\20221230_152538_8796.mkv: 1088x1088 1 cow, 20.5ms\n",
      "video 1/1 (1545/3933) D:\\815_CowDataChecking\\20221230\\20221230_E_cow\\20221230_152538_8796.mkv: 1088x1088 1 cow, 23.3ms\n",
      "WARNING  'Masks.masks' is deprecated. Use 'Masks.data' instead.\n",
      "video 1/1 (1546/3933) D:\\815_CowDataChecking\\20221230\\20221230_E_cow\\20221230_152538_8796.mkv: 1088x1088 1 cow, 20.8ms\n",
      "WARNING  'Masks.masks' is deprecated. Use 'Masks.data' instead.\n",
      "video 1/1 (1547/3933) D:\\815_CowDataChecking\\20221230\\20221230_E_cow\\20221230_152538_8796.mkv: 1088x1088 1 cow, 25.0ms\n",
      "video 1/1 (1548/3933) D:\\815_CowDataChecking\\20221230\\20221230_E_cow\\20221230_152538_8796.mkv: 1088x1088 1 cow, 16.8ms\n",
      "WARNING  'Masks.masks' is deprecated. Use 'Masks.data' instead.\n",
      "video 1/1 (1549/3933) D:\\815_CowDataChecking\\20221230\\20221230_E_cow\\20221230_152538_8796.mkv: 1088x1088 1 cow, 22.8ms\n",
      "WARNING  'Masks.masks' is deprecated. Use 'Masks.data' instead.\n",
      "video 1/1 (1550/3933) D:\\815_CowDataChecking\\20221230\\20221230_E_cow\\20221230_152538_8796.mkv: 1088x1088 1 cow, 20.1ms\n",
      "video 1/1 (1551/3933) D:\\815_CowDataChecking\\20221230\\20221230_E_cow\\20221230_152538_8796.mkv: 1088x1088 1 cow, 14.5ms\n",
      "WARNING  'Masks.masks' is deprecated. Use 'Masks.data' instead.\n",
      "video 1/1 (1552/3933) D:\\815_CowDataChecking\\20221230\\20221230_E_cow\\20221230_152538_8796.mkv: 1088x1088 1 cow, 23.2ms\n",
      "WARNING  'Masks.masks' is deprecated. Use 'Masks.data' instead.\n",
      "video 1/1 (1553/3933) D:\\815_CowDataChecking\\20221230\\20221230_E_cow\\20221230_152538_8796.mkv: 1088x1088 1 cow, 26.6ms\n",
      "video 1/1 (1554/3933) D:\\815_CowDataChecking\\20221230\\20221230_E_cow\\20221230_152538_8796.mkv: 1088x1088 1 cow, 19.7ms\n",
      "WARNING  'Masks.masks' is deprecated. Use 'Masks.data' instead.\n",
      "video 1/1 (1555/3933) D:\\815_CowDataChecking\\20221230\\20221230_E_cow\\20221230_152538_8796.mkv: 1088x1088 1 cow, 21.1ms\n",
      "WARNING  'Masks.masks' is deprecated. Use 'Masks.data' instead.\n",
      "video 1/1 (1556/3933) D:\\815_CowDataChecking\\20221230\\20221230_E_cow\\20221230_152538_8796.mkv: 1088x1088 1 cow, 21.1ms\n",
      "video 1/1 (1557/3933) D:\\815_CowDataChecking\\20221230\\20221230_E_cow\\20221230_152538_8796.mkv: 1088x1088 1 cow, 25.3ms\n",
      "WARNING  'Masks.masks' is deprecated. Use 'Masks.data' instead.\n",
      "video 1/1 (1558/3933) D:\\815_CowDataChecking\\20221230\\20221230_E_cow\\20221230_152538_8796.mkv: 1088x1088 1 cow, 24.0ms\n",
      "WARNING  'Masks.masks' is deprecated. Use 'Masks.data' instead.\n",
      "video 1/1 (1559/3933) D:\\815_CowDataChecking\\20221230\\20221230_E_cow\\20221230_152538_8796.mkv: 1088x1088 1 cow, 19.2ms\n",
      "video 1/1 (1560/3933) D:\\815_CowDataChecking\\20221230\\20221230_E_cow\\20221230_152538_8796.mkv: 1088x1088 1 cow, 20.7ms\n",
      "WARNING  'Masks.masks' is deprecated. Use 'Masks.data' instead.\n",
      "video 1/1 (1561/3933) D:\\815_CowDataChecking\\20221230\\20221230_E_cow\\20221230_152538_8796.mkv: 1088x1088 1 cow, 19.5ms\n",
      "WARNING  'Masks.masks' is deprecated. Use 'Masks.data' instead.\n",
      "video 1/1 (1562/3933) D:\\815_CowDataChecking\\20221230\\20221230_E_cow\\20221230_152538_8796.mkv: 1088x1088 1 cow, 22.3ms\n",
      "video 1/1 (1563/3933) D:\\815_CowDataChecking\\20221230\\20221230_E_cow\\20221230_152538_8796.mkv: 1088x1088 1 cow, 23.3ms\n",
      "WARNING  'Masks.masks' is deprecated. Use 'Masks.data' instead.\n",
      "video 1/1 (1564/3933) D:\\815_CowDataChecking\\20221230\\20221230_E_cow\\20221230_152538_8796.mkv: 1088x1088 1 cow, 21.2ms\n",
      "WARNING  'Masks.masks' is deprecated. Use 'Masks.data' instead.\n",
      "video 1/1 (1565/3933) D:\\815_CowDataChecking\\20221230\\20221230_E_cow\\20221230_152538_8796.mkv: 1088x1088 1 cow, 22.5ms\n",
      "video 1/1 (1566/3933) D:\\815_CowDataChecking\\20221230\\20221230_E_cow\\20221230_152538_8796.mkv: 1088x1088 1 cow, 17.6ms\n",
      "WARNING  'Masks.masks' is deprecated. Use 'Masks.data' instead.\n",
      "video 1/1 (1567/3933) D:\\815_CowDataChecking\\20221230\\20221230_E_cow\\20221230_152538_8796.mkv: 1088x1088 1 cow, 15.5ms\n",
      "WARNING  'Masks.masks' is deprecated. Use 'Masks.data' instead.\n",
      "video 1/1 (1568/3933) D:\\815_CowDataChecking\\20221230\\20221230_E_cow\\20221230_152538_8796.mkv: 1088x1088 1 cow, 23.3ms\n",
      "video 1/1 (1569/3933) D:\\815_CowDataChecking\\20221230\\20221230_E_cow\\20221230_152538_8796.mkv: 1088x1088 1 cow, 22.6ms\n",
      "WARNING  'Masks.masks' is deprecated. Use 'Masks.data' instead.\n",
      "video 1/1 (1570/3933) D:\\815_CowDataChecking\\20221230\\20221230_E_cow\\20221230_152538_8796.mkv: 1088x1088 1 cow, 20.4ms\n",
      "WARNING  'Masks.masks' is deprecated. Use 'Masks.data' instead.\n",
      "video 1/1 (1571/3933) D:\\815_CowDataChecking\\20221230\\20221230_E_cow\\20221230_152538_8796.mkv: 1088x1088 1 cow, 14.6ms\n",
      "video 1/1 (1572/3933) D:\\815_CowDataChecking\\20221230\\20221230_E_cow\\20221230_152538_8796.mkv: 1088x1088 1 cow, 30.1ms\n",
      "WARNING  'Masks.masks' is deprecated. Use 'Masks.data' instead.\n",
      "video 1/1 (1573/3933) D:\\815_CowDataChecking\\20221230\\20221230_E_cow\\20221230_152538_8796.mkv: 1088x1088 1 cow, 23.1ms\n",
      "WARNING  'Masks.masks' is deprecated. Use 'Masks.data' instead.\n",
      "video 1/1 (1574/3933) D:\\815_CowDataChecking\\20221230\\20221230_E_cow\\20221230_152538_8796.mkv: 1088x1088 1 cow, 16.4ms\n",
      "video 1/1 (1575/3933) D:\\815_CowDataChecking\\20221230\\20221230_E_cow\\20221230_152538_8796.mkv: 1088x1088 1 cow, 22.5ms\n",
      "WARNING  'Masks.masks' is deprecated. Use 'Masks.data' instead.\n",
      "video 1/1 (1576/3933) D:\\815_CowDataChecking\\20221230\\20221230_E_cow\\20221230_152538_8796.mkv: 1088x1088 1 cow, 22.3ms\n",
      "WARNING  'Masks.masks' is deprecated. Use 'Masks.data' instead.\n",
      "video 1/1 (1577/3933) D:\\815_CowDataChecking\\20221230\\20221230_E_cow\\20221230_152538_8796.mkv: 1088x1088 1 cow, 22.3ms\n",
      "video 1/1 (1578/3933) D:\\815_CowDataChecking\\20221230\\20221230_E_cow\\20221230_152538_8796.mkv: 1088x1088 1 cow, 22.9ms\n",
      "WARNING  'Masks.masks' is deprecated. Use 'Masks.data' instead.\n",
      "video 1/1 (1579/3933) D:\\815_CowDataChecking\\20221230\\20221230_E_cow\\20221230_152538_8796.mkv: 1088x1088 1 cow, 22.5ms\n",
      "WARNING  'Masks.masks' is deprecated. Use 'Masks.data' instead.\n",
      "video 1/1 (1580/3933) D:\\815_CowDataChecking\\20221230\\20221230_E_cow\\20221230_152538_8796.mkv: 1088x1088 1 cow, 19.3ms\n",
      "video 1/1 (1581/3933) D:\\815_CowDataChecking\\20221230\\20221230_E_cow\\20221230_152538_8796.mkv: 1088x1088 1 cow, 19.3ms\n",
      "WARNING  'Masks.masks' is deprecated. Use 'Masks.data' instead.\n",
      "video 1/1 (1582/3933) D:\\815_CowDataChecking\\20221230\\20221230_E_cow\\20221230_152538_8796.mkv: 1088x1088 1 cow, 16.1ms\n",
      "WARNING  'Masks.masks' is deprecated. Use 'Masks.data' instead.\n",
      "video 1/1 (1583/3933) D:\\815_CowDataChecking\\20221230\\20221230_E_cow\\20221230_152538_8796.mkv: 1088x1088 1 cow, 23.1ms\n",
      "video 1/1 (1584/3933) D:\\815_CowDataChecking\\20221230\\20221230_E_cow\\20221230_152538_8796.mkv: 1088x1088 1 cow, 22.4ms\n",
      "WARNING  'Masks.masks' is deprecated. Use 'Masks.data' instead.\n",
      "video 1/1 (1585/3933) D:\\815_CowDataChecking\\20221230\\20221230_E_cow\\20221230_152538_8796.mkv: 1088x1088 1 cow, 19.2ms\n",
      "WARNING  'Masks.masks' is deprecated. Use 'Masks.data' instead.\n",
      "video 1/1 (1586/3933) D:\\815_CowDataChecking\\20221230\\20221230_E_cow\\20221230_152538_8796.mkv: 1088x1088 1 cow, 24.0ms\n",
      "video 1/1 (1587/3933) D:\\815_CowDataChecking\\20221230\\20221230_E_cow\\20221230_152538_8796.mkv: 1088x1088 1 cow, 17.7ms\n",
      "WARNING  'Masks.masks' is deprecated. Use 'Masks.data' instead.\n",
      "video 1/1 (1588/3933) D:\\815_CowDataChecking\\20221230\\20221230_E_cow\\20221230_152538_8796.mkv: 1088x1088 1 cow, 15.6ms\n",
      "WARNING  'Masks.masks' is deprecated. Use 'Masks.data' instead.\n",
      "video 1/1 (1589/3933) D:\\815_CowDataChecking\\20221230\\20221230_E_cow\\20221230_152538_8796.mkv: 1088x1088 1 cow, 15.6ms\n",
      "video 1/1 (1590/3933) D:\\815_CowDataChecking\\20221230\\20221230_E_cow\\20221230_152538_8796.mkv: 1088x1088 1 cow, 16.4ms\n",
      "WARNING  'Masks.masks' is deprecated. Use 'Masks.data' instead.\n",
      "video 1/1 (1591/3933) D:\\815_CowDataChecking\\20221230\\20221230_E_cow\\20221230_152538_8796.mkv: 1088x1088 1 cow, 22.1ms\n",
      "WARNING  'Masks.masks' is deprecated. Use 'Masks.data' instead.\n",
      "video 1/1 (1592/3933) D:\\815_CowDataChecking\\20221230\\20221230_E_cow\\20221230_152538_8796.mkv: 1088x1088 1 cow, 24.1ms\n",
      "video 1/1 (1593/3933) D:\\815_CowDataChecking\\20221230\\20221230_E_cow\\20221230_152538_8796.mkv: 1088x1088 1 cow, 18.3ms\n",
      "WARNING  'Masks.masks' is deprecated. Use 'Masks.data' instead.\n",
      "video 1/1 (1594/3933) D:\\815_CowDataChecking\\20221230\\20221230_E_cow\\20221230_152538_8796.mkv: 1088x1088 1 cow, 17.7ms\n",
      "WARNING  'Masks.masks' is deprecated. Use 'Masks.data' instead.\n",
      "video 1/1 (1595/3933) D:\\815_CowDataChecking\\20221230\\20221230_E_cow\\20221230_152538_8796.mkv: 1088x1088 1 cow, 22.2ms\n",
      "video 1/1 (1596/3933) D:\\815_CowDataChecking\\20221230\\20221230_E_cow\\20221230_152538_8796.mkv: 1088x1088 1 cow, 24.1ms\n",
      "WARNING  'Masks.masks' is deprecated. Use 'Masks.data' instead.\n",
      "video 1/1 (1597/3933) D:\\815_CowDataChecking\\20221230\\20221230_E_cow\\20221230_152538_8796.mkv: 1088x1088 1 cow, 22.1ms\n",
      "WARNING  'Masks.masks' is deprecated. Use 'Masks.data' instead.\n",
      "video 1/1 (1598/3933) D:\\815_CowDataChecking\\20221230\\20221230_E_cow\\20221230_152538_8796.mkv: 1088x1088 1 cow, 14.7ms\n",
      "video 1/1 (1599/3933) D:\\815_CowDataChecking\\20221230\\20221230_E_cow\\20221230_152538_8796.mkv: 1088x1088 1 cow, 24.1ms\n",
      "WARNING  'Masks.masks' is deprecated. Use 'Masks.data' instead.\n"
     ]
    },
    {
     "name": "stdout",
     "output_type": "stream",
     "text": [
      "White Percentage of 8: 14.73%\n",
      "1/1 [==============================] - 0s 52ms/step\n",
      "VGG took  0.07550215721130371\n"
     ]
    },
    {
     "name": "stderr",
     "output_type": "stream",
     "text": [
      "video 1/1 (1600/3933) D:\\815_CowDataChecking\\20221230\\20221230_E_cow\\20221230_152538_8796.mkv: 1088x1088 1 cow, 21.9ms\n",
      "WARNING  'Masks.masks' is deprecated. Use 'Masks.data' instead.\n"
     ]
    },
    {
     "name": "stdout",
     "output_type": "stream",
     "text": [
      "SVM took  1.0380141735076904\n",
      "LOOPING result took  0.0\n",
      "identification used  -1.1135163307189941\n",
      "[['ID', 'COLOR', 'RANK1', 'RANK1_prob', 'RANK2', 'RANK2_prob']]\n",
      "new cattle  xxxxxxxxxxxxxxxxxxxxx new cattle alert \n",
      "White Percentage of 8: 12.96%\n",
      "1/1 [==============================] - 0s 55ms/step\n",
      "VGG took  0.07004499435424805\n"
     ]
    },
    {
     "name": "stderr",
     "output_type": "stream",
     "text": [
      "video 1/1 (1601/3933) D:\\815_CowDataChecking\\20221230\\20221230_E_cow\\20221230_152538_8796.mkv: 1088x1088 1 cow, 40.0ms\n",
      "video 1/1 (1602/3933) D:\\815_CowDataChecking\\20221230\\20221230_E_cow\\20221230_152538_8796.mkv: 1088x1088 1 cow, 85.0ms\n"
     ]
    },
    {
     "name": "stdout",
     "output_type": "stream",
     "text": [
      "SVM took  1.043736219406128\n",
      "LOOPING result took  0.0\n",
      "identification used  -1.113781213760376\n"
     ]
    },
    {
     "name": "stderr",
     "output_type": "stream",
     "text": [
      "WARNING  'Masks.masks' is deprecated. Use 'Masks.data' instead.\n"
     ]
    },
    {
     "name": "stdout",
     "output_type": "stream",
     "text": [
      "White Percentage of 8: 11.87%\n",
      "1/1 [==============================] - 0s 60ms/step\n",
      "VGG took  0.07300615310668945\n"
     ]
    },
    {
     "name": "stderr",
     "output_type": "stream",
     "text": [
      "video 1/1 (1603/3933) D:\\815_CowDataChecking\\20221230\\20221230_E_cow\\20221230_152538_8796.mkv: 1088x1088 1 cow, 86.6ms\n"
     ]
    },
    {
     "name": "stdout",
     "output_type": "stream",
     "text": [
      "SVM took  1.0315699577331543\n",
      "LOOPING result took  0.0\n",
      "identification used  -1.1045761108398438\n"
     ]
    },
    {
     "name": "stderr",
     "output_type": "stream",
     "text": [
      "WARNING  'Masks.masks' is deprecated. Use 'Masks.data' instead.\n"
     ]
    },
    {
     "name": "stdout",
     "output_type": "stream",
     "text": [
      "White Percentage of 8: 13.25%\n",
      "1/1 [==============================] - 0s 60ms/step\n",
      "VGG took  0.0792689323425293\n"
     ]
    },
    {
     "name": "stderr",
     "output_type": "stream",
     "text": [
      "video 1/1 (1604/3933) D:\\815_CowDataChecking\\20221230\\20221230_E_cow\\20221230_152538_8796.mkv: 1088x1088 1 cow, 150.2ms\n",
      "video 1/1 (1605/3933) D:\\815_CowDataChecking\\20221230\\20221230_E_cow\\20221230_152538_8796.mkv: 1088x1088 1 cow, 80.1ms\n"
     ]
    },
    {
     "name": "stdout",
     "output_type": "stream",
     "text": [
      "SVM took  1.037668228149414\n",
      "LOOPING result took  0.0\n",
      "identification used  -1.1169371604919434\n"
     ]
    },
    {
     "name": "stderr",
     "output_type": "stream",
     "text": [
      "WARNING  'Masks.masks' is deprecated. Use 'Masks.data' instead.\n"
     ]
    },
    {
     "name": "stdout",
     "output_type": "stream",
     "text": [
      "White Percentage of 8: 13.73%\n",
      "1/1 [==============================] - 0s 59ms/step\n",
      "VGG took  0.08288121223449707\n"
     ]
    },
    {
     "name": "stderr",
     "output_type": "stream",
     "text": [
      "video 1/1 (1606/3933) D:\\815_CowDataChecking\\20221230\\20221230_E_cow\\20221230_152538_8796.mkv: 1088x1088 1 cow, 67.3ms\n",
      "WARNING  'Masks.masks' is deprecated. Use 'Masks.data' instead.\n"
     ]
    },
    {
     "name": "stdout",
     "output_type": "stream",
     "text": [
      "SVM took  1.0272266864776611\n",
      "LOOPING result took  0.0\n",
      "identification used  -1.1101078987121582\n",
      "White Percentage of 8: 14.17%\n",
      "1/1 [==============================] - 0s 62ms/step\n",
      "VGG took  0.08091592788696289\n"
     ]
    },
    {
     "name": "stderr",
     "output_type": "stream",
     "text": [
      "video 1/1 (1607/3933) D:\\815_CowDataChecking\\20221230\\20221230_E_cow\\20221230_152538_8796.mkv: 1088x1088 1 cow, 70.1ms\n",
      "video 1/1 (1608/3933) D:\\815_CowDataChecking\\20221230\\20221230_E_cow\\20221230_152538_8796.mkv: 1088x1088 1 cow, 80.1ms\n"
     ]
    },
    {
     "name": "stdout",
     "output_type": "stream",
     "text": [
      "SVM took  1.053457498550415\n",
      "LOOPING result took  0.0\n",
      "identification used  -1.134373426437378\n"
     ]
    },
    {
     "name": "stderr",
     "output_type": "stream",
     "text": [
      "WARNING  'Masks.masks' is deprecated. Use 'Masks.data' instead.\n"
     ]
    },
    {
     "name": "stdout",
     "output_type": "stream",
     "text": [
      "White Percentage of 8: 17.49%\n",
      "1/1 [==============================] - 0s 60ms/step\n",
      "VGG took  0.07855677604675293\n"
     ]
    },
    {
     "name": "stderr",
     "output_type": "stream",
     "text": [
      "video 1/1 (1609/3933) D:\\815_CowDataChecking\\20221230\\20221230_E_cow\\20221230_152538_8796.mkv: 1088x1088 1 cow, 69.2ms\n",
      "WARNING  'Masks.masks' is deprecated. Use 'Masks.data' instead.\n"
     ]
    },
    {
     "name": "stdout",
     "output_type": "stream",
     "text": [
      "SVM took  1.0362303256988525\n",
      "LOOPING result took  0.0\n",
      "identification used  -1.1147871017456055\n",
      "White Percentage of 8: 18.88%\n",
      "1/1 [==============================] - 0s 58ms/step\n",
      "VGG took  0.07638072967529297\n"
     ]
    },
    {
     "name": "stderr",
     "output_type": "stream",
     "text": [
      "video 1/1 (1610/3933) D:\\815_CowDataChecking\\20221230\\20221230_E_cow\\20221230_152538_8796.mkv: 1088x1088 1 cow, 10.0ms\n",
      "video 1/1 (1611/3933) D:\\815_CowDataChecking\\20221230\\20221230_E_cow\\20221230_152538_8796.mkv: 1088x1088 1 cow, 80.1ms\n"
     ]
    },
    {
     "name": "stdout",
     "output_type": "stream",
     "text": [
      "SVM took  1.0395631790161133\n",
      "LOOPING result took  0.0\n",
      "identification used  -1.1159439086914062\n"
     ]
    },
    {
     "name": "stderr",
     "output_type": "stream",
     "text": [
      "WARNING  'Masks.masks' is deprecated. Use 'Masks.data' instead.\n"
     ]
    },
    {
     "name": "stdout",
     "output_type": "stream",
     "text": [
      "White Percentage of 8: 19.08%\n",
      "1/1 [==============================] - 0s 60ms/step\n",
      "VGG took  0.07870197296142578\n"
     ]
    },
    {
     "name": "stderr",
     "output_type": "stream",
     "text": [
      "video 1/1 (1612/3933) D:\\815_CowDataChecking\\20221230\\20221230_E_cow\\20221230_152538_8796.mkv: 1088x1088 1 cow, 72.5ms\n",
      "WARNING  'Masks.masks' is deprecated. Use 'Masks.data' instead.\n"
     ]
    },
    {
     "name": "stdout",
     "output_type": "stream",
     "text": [
      "SVM took  1.0287449359893799\n",
      "LOOPING result took  0.0\n",
      "identification used  -1.1074469089508057\n",
      "White Percentage of 8: 17.92%\n",
      "1/1 [==============================] - 0s 54ms/step\n",
      "VGG took  0.07924008369445801\n"
     ]
    },
    {
     "name": "stderr",
     "output_type": "stream",
     "text": [
      "video 1/1 (1613/3933) D:\\815_CowDataChecking\\20221230\\20221230_E_cow\\20221230_152538_8796.mkv: 1088x1088 1 cow, 60.2ms\n",
      "video 1/1 (1614/3933) D:\\815_CowDataChecking\\20221230\\20221230_E_cow\\20221230_152538_8796.mkv: 1088x1088 1 cow, 70.1ms\n"
     ]
    },
    {
     "name": "stdout",
     "output_type": "stream",
     "text": [
      "SVM took  1.0448052883148193\n",
      "LOOPING result took  0.0\n",
      "identification used  -1.1240453720092773\n"
     ]
    },
    {
     "name": "stderr",
     "output_type": "stream",
     "text": [
      "WARNING  'Masks.masks' is deprecated. Use 'Masks.data' instead.\n"
     ]
    },
    {
     "name": "stdout",
     "output_type": "stream",
     "text": [
      "White Percentage of 8: 16.29%\n",
      "1/1 [==============================] - 0s 60ms/step\n",
      "VGG took  0.07300996780395508\n"
     ]
    },
    {
     "name": "stderr",
     "output_type": "stream",
     "text": [
      "video 1/1 (1615/3933) D:\\815_CowDataChecking\\20221230\\20221230_E_cow\\20221230_152538_8796.mkv: 1088x1088 1 cow, 64.2ms\n",
      "WARNING  'Masks.masks' is deprecated. Use 'Masks.data' instead.\n"
     ]
    },
    {
     "name": "stdout",
     "output_type": "stream",
     "text": [
      "SVM took  1.0326683521270752\n",
      "LOOPING result took  0.0\n",
      "identification used  -1.1121206283569336\n",
      "White Percentage of 8: 18.14%\n",
      "1/1 [==============================] - 0s 55ms/step\n",
      "VGG took  0.08252525329589844\n"
     ]
    },
    {
     "name": "stderr",
     "output_type": "stream",
     "text": [
      "video 1/1 (1616/3933) D:\\815_CowDataChecking\\20221230\\20221230_E_cow\\20221230_152538_8796.mkv: 1088x1088 1 cow, 80.1ms\n",
      "video 1/1 (1617/3933) D:\\815_CowDataChecking\\20221230\\20221230_E_cow\\20221230_152538_8796.mkv: 1088x1088 1 cow, 70.0ms\n"
     ]
    },
    {
     "name": "stdout",
     "output_type": "stream",
     "text": [
      "SVM took  1.0187342166900635\n",
      "LOOPING result took  0.0\n",
      "identification used  -1.101259469985962\n"
     ]
    },
    {
     "name": "stderr",
     "output_type": "stream",
     "text": [
      "WARNING  'Masks.masks' is deprecated. Use 'Masks.data' instead.\n"
     ]
    },
    {
     "name": "stdout",
     "output_type": "stream",
     "text": [
      "White Percentage of 8: 18.12%\n",
      "1/1 [==============================] - 0s 60ms/step\n",
      "VGG took  0.07310652732849121\n"
     ]
    },
    {
     "name": "stderr",
     "output_type": "stream",
     "text": [
      "video 1/1 (1618/3933) D:\\815_CowDataChecking\\20221230\\20221230_E_cow\\20221230_152538_8796.mkv: 1088x1088 1 cow, 66.4ms\n",
      "WARNING  'Masks.masks' is deprecated. Use 'Masks.data' instead.\n"
     ]
    },
    {
     "name": "stdout",
     "output_type": "stream",
     "text": [
      "SVM took  1.0404243469238281\n",
      "LOOPING result took  0.0\n",
      "identification used  -1.1135308742523193\n",
      "White Percentage of 8: 16.30%\n",
      "1/1 [==============================] - 0s 60ms/step\n",
      "VGG took  0.08381938934326172\n"
     ]
    },
    {
     "name": "stderr",
     "output_type": "stream",
     "text": [
      "video 1/1 (1619/3933) D:\\815_CowDataChecking\\20221230\\20221230_E_cow\\20221230_152538_8796.mkv: 1088x1088 1 cow, 60.1ms\n"
     ]
    },
    {
     "name": "stdout",
     "output_type": "stream",
     "text": [
      "SVM took  1.0313823223114014\n",
      "LOOPING result took  0.0\n",
      "identification used  -1.115201711654663\n"
     ]
    },
    {
     "name": "stderr",
     "output_type": "stream",
     "text": [
      "video 1/1 (1620/3933) D:\\815_CowDataChecking\\20221230\\20221230_E_cow\\20221230_152538_8796.mkv: 1088x1088 1 cow, 160.1ms\n",
      "WARNING  'Masks.masks' is deprecated. Use 'Masks.data' instead.\n"
     ]
    },
    {
     "name": "stdout",
     "output_type": "stream",
     "text": [
      "White Percentage of 8: 9.68%\n",
      "1/1 [==============================] - 0s 60ms/step\n",
      "VGG took  0.0780789852142334\n"
     ]
    },
    {
     "name": "stderr",
     "output_type": "stream",
     "text": [
      "video 1/1 (1621/3933) D:\\815_CowDataChecking\\20221230\\20221230_E_cow\\20221230_152538_8796.mkv: 1088x1088 1 cow, 10.0ms\n",
      "WARNING  'Masks.masks' is deprecated. Use 'Masks.data' instead.\n"
     ]
    },
    {
     "name": "stdout",
     "output_type": "stream",
     "text": [
      "SVM took  1.0244531631469727\n",
      "LOOPING result took  0.0\n",
      "identification used  -1.1146466732025146\n",
      "White Percentage of 8: 13.14%\n",
      "1/1 [==============================] - 0s 51ms/step\n",
      "VGG took  0.07884526252746582\n"
     ]
    },
    {
     "name": "stderr",
     "output_type": "stream",
     "text": [
      "video 1/1 (1622/3933) D:\\815_CowDataChecking\\20221230\\20221230_E_cow\\20221230_152538_8796.mkv: 1088x1088 1 cow, 10.0ms\n",
      "video 1/1 (1623/3933) D:\\815_CowDataChecking\\20221230\\20221230_E_cow\\20221230_152538_8796.mkv: 1088x1088 1 cow, 30.0ms\n",
      "WARNING  'Masks.masks' is deprecated. Use 'Masks.data' instead.\n"
     ]
    },
    {
     "name": "stdout",
     "output_type": "stream",
     "text": [
      "SVM took  1.0295813083648682\n",
      "LOOPING result took  0.0\n",
      "identification used  -1.108426570892334\n",
      "White Percentage of 8: 18.91%\n",
      "1/1 [==============================] - 0s 51ms/step\n",
      "VGG took  0.07995247840881348\n"
     ]
    },
    {
     "name": "stderr",
     "output_type": "stream",
     "text": [
      "video 1/1 (1624/3933) D:\\815_CowDataChecking\\20221230\\20221230_E_cow\\20221230_152538_8796.mkv: 1088x1088 1 cow, 30.3ms\n",
      "WARNING  'Masks.masks' is deprecated. Use 'Masks.data' instead.\n"
     ]
    },
    {
     "name": "stdout",
     "output_type": "stream",
     "text": [
      "SVM took  1.0360889434814453\n",
      "LOOPING result took  0.0\n",
      "identification used  -1.1160414218902588\n",
      "White Percentage of 8: 16.21%\n",
      "1/1 [==============================] - 0s 54ms/step\n",
      "VGG took  0.07875823974609375\n"
     ]
    },
    {
     "name": "stderr",
     "output_type": "stream",
     "text": [
      "video 1/1 (1625/3933) D:\\815_CowDataChecking\\20221230\\20221230_E_cow\\20221230_152538_8796.mkv: 1088x1088 1 cow, 82.5ms\n"
     ]
    },
    {
     "name": "stdout",
     "output_type": "stream",
     "text": [
      "SVM took  1.051849603652954\n",
      "LOOPING result took  0.0\n",
      "identification used  -1.1306078433990479\n"
     ]
    },
    {
     "name": "stderr",
     "output_type": "stream",
     "text": [
      "video 1/1 (1626/3933) D:\\815_CowDataChecking\\20221230\\20221230_E_cow\\20221230_152538_8796.mkv: 1088x1088 1 cow, 170.4ms\n",
      "WARNING  'Masks.masks' is deprecated. Use 'Masks.data' instead.\n"
     ]
    },
    {
     "name": "stdout",
     "output_type": "stream",
     "text": [
      "White Percentage of 8: 18.67%\n",
      "1/1 [==============================] - 0s 51ms/step\n",
      "VGG took  0.07954525947570801\n"
     ]
    },
    {
     "name": "stderr",
     "output_type": "stream",
     "text": [
      "video 1/1 (1627/3933) D:\\815_CowDataChecking\\20221230\\20221230_E_cow\\20221230_152538_8796.mkv: 1088x1088 1 cow, 120.2ms\n",
      "WARNING  'Masks.masks' is deprecated. Use 'Masks.data' instead.\n"
     ]
    },
    {
     "name": "stdout",
     "output_type": "stream",
     "text": [
      "SVM took  1.0281219482421875\n",
      "LOOPING result took  0.0\n",
      "identification used  -1.1076672077178955\n",
      "White Percentage of 8: 18.11%\n",
      "1/1 [==============================] - 0s 60ms/step\n",
      "VGG took  0.07392454147338867\n"
     ]
    },
    {
     "name": "stderr",
     "output_type": "stream",
     "text": [
      "video 1/1 (1628/3933) D:\\815_CowDataChecking\\20221230\\20221230_E_cow\\20221230_152538_8796.mkv: 1088x1088 1 cow, 11.2ms\n",
      "video 1/1 (1629/3933) D:\\815_CowDataChecking\\20221230\\20221230_E_cow\\20221230_152538_8796.mkv: 1088x1088 1 cow, 40.2ms\n",
      "WARNING  'Masks.masks' is deprecated. Use 'Masks.data' instead.\n"
     ]
    },
    {
     "name": "stdout",
     "output_type": "stream",
     "text": [
      "SVM took  1.0433175563812256\n",
      "LOOPING result took  0.0\n",
      "identification used  -1.1172420978546143\n",
      "White Percentage of 8: 17.79%\n",
      "1/1 [==============================] - 0s 61ms/step\n",
      "VGG took  0.08413958549499512\n"
     ]
    },
    {
     "name": "stderr",
     "output_type": "stream",
     "text": [
      "video 1/1 (1630/3933) D:\\815_CowDataChecking\\20221230\\20221230_E_cow\\20221230_152538_8796.mkv: 1088x1088 1 cow, 31.4ms\n",
      "WARNING  'Masks.masks' is deprecated. Use 'Masks.data' instead.\n"
     ]
    },
    {
     "name": "stdout",
     "output_type": "stream",
     "text": [
      "SVM took  1.0268678665161133\n",
      "LOOPING result took  0.0\n",
      "identification used  -1.1110074520111084\n",
      "White Percentage of 8: 15.36%\n",
      "1/1 [==============================] - 0s 60ms/step\n",
      "VGG took  0.08286499977111816\n"
     ]
    },
    {
     "name": "stderr",
     "output_type": "stream",
     "text": [
      "video 1/1 (1631/3933) D:\\815_CowDataChecking\\20221230\\20221230_E_cow\\20221230_152538_8796.mkv: 1088x1088 1 cow, 50.0ms\n",
      "video 1/1 (1632/3933) D:\\815_CowDataChecking\\20221230\\20221230_E_cow\\20221230_152538_8796.mkv: 1088x1088 1 cow, 90.0ms\n"
     ]
    },
    {
     "name": "stdout",
     "output_type": "stream",
     "text": [
      "SVM took  1.0421638488769531\n",
      "LOOPING result took  0.0\n",
      "identification used  -1.1250288486480713\n"
     ]
    },
    {
     "name": "stderr",
     "output_type": "stream",
     "text": [
      "WARNING  'Masks.masks' is deprecated. Use 'Masks.data' instead.\n"
     ]
    },
    {
     "name": "stdout",
     "output_type": "stream",
     "text": [
      "White Percentage of 8: 17.42%\n",
      "1/1 [==============================] - 0s 56ms/step\n",
      "VGG took  0.07144498825073242\n"
     ]
    },
    {
     "name": "stderr",
     "output_type": "stream",
     "text": [
      "video 1/1 (1633/3933) D:\\815_CowDataChecking\\20221230\\20221230_E_cow\\20221230_152538_8796.mkv: 1088x1088 1 cow, 72.1ms\n"
     ]
    },
    {
     "name": "stdout",
     "output_type": "stream",
     "text": [
      "SVM took  1.049961805343628\n",
      "LOOPING result took  0.0\n",
      "identification used  -1.1214067935943604\n"
     ]
    },
    {
     "name": "stderr",
     "output_type": "stream",
     "text": [
      "WARNING  'Masks.masks' is deprecated. Use 'Masks.data' instead.\n"
     ]
    },
    {
     "name": "stdout",
     "output_type": "stream",
     "text": [
      "White Percentage of 8: 17.83%\n",
      "1/1 [==============================] - 0s 60ms/step\n",
      "VGG took  0.07901835441589355\n"
     ]
    },
    {
     "name": "stderr",
     "output_type": "stream",
     "text": [
      "video 1/1 (1634/3933) D:\\815_CowDataChecking\\20221230\\20221230_E_cow\\20221230_152538_8796.mkv: 1088x1088 1 cow, 151.1ms\n",
      "video 1/1 (1635/3933) D:\\815_CowDataChecking\\20221230\\20221230_E_cow\\20221230_152538_8796.mkv: 1088x1088 1 cow, 70.0ms\n"
     ]
    },
    {
     "name": "stdout",
     "output_type": "stream",
     "text": [
      "SVM took  1.036252737045288\n",
      "LOOPING result took  0.0\n",
      "identification used  -1.1152710914611816\n"
     ]
    },
    {
     "name": "stderr",
     "output_type": "stream",
     "text": [
      "WARNING  'Masks.masks' is deprecated. Use 'Masks.data' instead.\n"
     ]
    },
    {
     "name": "stdout",
     "output_type": "stream",
     "text": [
      "White Percentage of 8: 17.36%\n",
      "1/1 [==============================] - 0s 50ms/step\n",
      "VGG took  0.0735330581665039\n"
     ]
    },
    {
     "name": "stderr",
     "output_type": "stream",
     "text": [
      "video 1/1 (1636/3933) D:\\815_CowDataChecking\\20221230\\20221230_E_cow\\20221230_152538_8796.mkv: 1088x1088 1 cow, 59.5ms\n",
      "WARNING  'Masks.masks' is deprecated. Use 'Masks.data' instead.\n"
     ]
    },
    {
     "name": "stdout",
     "output_type": "stream",
     "text": [
      "SVM took  1.0579707622528076\n",
      "LOOPING result took  0.0\n",
      "identification used  -1.1315038204193115\n",
      "White Percentage of 8: 17.37%\n",
      "1/1 [==============================] - 0s 60ms/step\n",
      "VGG took  0.08120250701904297\n"
     ]
    },
    {
     "name": "stderr",
     "output_type": "stream",
     "text": [
      "video 1/1 (1637/3933) D:\\815_CowDataChecking\\20221230\\20221230_E_cow\\20221230_152538_8796.mkv: 1088x1088 1 cow, 69.1ms\n",
      "video 1/1 (1638/3933) D:\\815_CowDataChecking\\20221230\\20221230_E_cow\\20221230_152538_8796.mkv: 1088x1088 1 cow, 90.0ms\n"
     ]
    },
    {
     "name": "stdout",
     "output_type": "stream",
     "text": [
      "SVM took  1.0318152904510498\n",
      "LOOPING result took  0.0\n",
      "identification used  -1.1130177974700928\n"
     ]
    },
    {
     "name": "stderr",
     "output_type": "stream",
     "text": [
      "WARNING  'Masks.masks' is deprecated. Use 'Masks.data' instead.\n"
     ]
    },
    {
     "name": "stdout",
     "output_type": "stream",
     "text": [
      "White Percentage of 8: 15.85%\n",
      "1/1 [==============================] - 0s 60ms/step\n",
      "VGG took  0.0793464183807373\n"
     ]
    },
    {
     "name": "stderr",
     "output_type": "stream",
     "text": [
      "video 1/1 (1639/3933) D:\\815_CowDataChecking\\20221230\\20221230_E_cow\\20221230_152538_8796.mkv: 1088x1088 1 cow, 146.3ms\n",
      "WARNING  'Masks.masks' is deprecated. Use 'Masks.data' instead.\n"
     ]
    },
    {
     "name": "stdout",
     "output_type": "stream",
     "text": [
      "SVM took  1.0498645305633545\n",
      "LOOPING result took  0.0\n",
      "identification used  -1.1292109489440918\n",
      "White Percentage of 8: 12.80%\n",
      "1/1 [==============================] - 0s 53ms/step\n",
      "VGG took  0.08084678649902344\n"
     ]
    },
    {
     "name": "stderr",
     "output_type": "stream",
     "text": [
      "video 1/1 (1640/3933) D:\\815_CowDataChecking\\20221230\\20221230_E_cow\\20221230_152538_8796.mkv: 1088x1088 1 cow, 10.0ms\n",
      "video 1/1 (1641/3933) D:\\815_CowDataChecking\\20221230\\20221230_E_cow\\20221230_152538_8796.mkv: 1088x1088 1 cow, 39.5ms\n",
      "WARNING  'Masks.masks' is deprecated. Use 'Masks.data' instead.\n"
     ]
    },
    {
     "name": "stdout",
     "output_type": "stream",
     "text": [
      "SVM took  1.0472867488861084\n",
      "LOOPING result took  0.0\n",
      "identification used  -1.1281335353851318\n",
      "White Percentage of 8: 12.26%\n",
      "1/1 [==============================] - 0s 58ms/step\n",
      "VGG took  0.07653641700744629\n"
     ]
    },
    {
     "name": "stderr",
     "output_type": "stream",
     "text": [
      "video 1/1 (1642/3933) D:\\815_CowDataChecking\\20221230\\20221230_E_cow\\20221230_152538_8796.mkv: 1088x1088 1 cow, 28.6ms\n",
      "WARNING  'Masks.masks' is deprecated. Use 'Masks.data' instead.\n",
      "video 1/1 (1643/3933) D:\\815_CowDataChecking\\20221230\\20221230_E_cow\\20221230_152538_8796.mkv: 1088x1088 1 cow, 90.0ms\n"
     ]
    },
    {
     "name": "stdout",
     "output_type": "stream",
     "text": [
      "SVM took  1.0510516166687012\n",
      "LOOPING result took  0.0\n",
      "identification used  -1.1275880336761475\n"
     ]
    },
    {
     "name": "stderr",
     "output_type": "stream",
     "text": [
      "video 1/1 (1644/3933) D:\\815_CowDataChecking\\20221230\\20221230_E_cow\\20221230_152538_8796.mkv: 1088x1088 1 cow, 77.4ms\n",
      "WARNING  'Masks.masks' is deprecated. Use 'Masks.data' instead.\n",
      "video 1/1 (1645/3933) D:\\815_CowDataChecking\\20221230\\20221230_E_cow\\20221230_152538_8796.mkv: 1088x1088 1 cow, 80.0ms\n",
      "WARNING  'Masks.masks' is deprecated. Use 'Masks.data' instead.\n",
      "video 1/1 (1646/3933) D:\\815_CowDataChecking\\20221230\\20221230_E_cow\\20221230_152538_8796.mkv: 1088x1088 1 cow, 62.8ms\n",
      "video 1/1 (1647/3933) D:\\815_CowDataChecking\\20221230\\20221230_E_cow\\20221230_152538_8796.mkv: 1088x1088 1 cow, 61.1ms\n",
      "WARNING  'Masks.masks' is deprecated. Use 'Masks.data' instead.\n",
      "video 1/1 (1648/3933) D:\\815_CowDataChecking\\20221230\\20221230_E_cow\\20221230_152538_8796.mkv: 1088x1088 1 cow, 14.2ms\n",
      "WARNING  'Masks.masks' is deprecated. Use 'Masks.data' instead.\n",
      "video 1/1 (1649/3933) D:\\815_CowDataChecking\\20221230\\20221230_E_cow\\20221230_152538_8796.mkv: 1088x1088 1 cow, 15.0ms\n",
      "video 1/1 (1650/3933) D:\\815_CowDataChecking\\20221230\\20221230_E_cow\\20221230_152538_8796.mkv: 1088x1088 1 cow, 16.2ms\n",
      "WARNING  'Masks.masks' is deprecated. Use 'Masks.data' instead.\n",
      "video 1/1 (1651/3933) D:\\815_CowDataChecking\\20221230\\20221230_E_cow\\20221230_152538_8796.mkv: 1088x1088 1 cow, 16.7ms\n",
      "WARNING  'Masks.masks' is deprecated. Use 'Masks.data' instead.\n",
      "video 1/1 (1652/3933) D:\\815_CowDataChecking\\20221230\\20221230_E_cow\\20221230_152538_8796.mkv: 1088x1088 1 cow, 16.7ms\n",
      "video 1/1 (1653/3933) D:\\815_CowDataChecking\\20221230\\20221230_E_cow\\20221230_152538_8796.mkv: 1088x1088 1 cow, 16.2ms\n",
      "WARNING  'Masks.masks' is deprecated. Use 'Masks.data' instead.\n",
      "video 1/1 (1654/3933) D:\\815_CowDataChecking\\20221230\\20221230_E_cow\\20221230_152538_8796.mkv: 1088x1088 1 cow, 16.5ms\n",
      "WARNING  'Masks.masks' is deprecated. Use 'Masks.data' instead.\n",
      "video 1/1 (1655/3933) D:\\815_CowDataChecking\\20221230\\20221230_E_cow\\20221230_152538_8796.mkv: 1088x1088 1 cow, 16.2ms\n",
      "video 1/1 (1656/3933) D:\\815_CowDataChecking\\20221230\\20221230_E_cow\\20221230_152538_8796.mkv: 1088x1088 1 cow, 15.6ms\n",
      "WARNING  'Masks.masks' is deprecated. Use 'Masks.data' instead.\n",
      "video 1/1 (1657/3933) D:\\815_CowDataChecking\\20221230\\20221230_E_cow\\20221230_152538_8796.mkv: 1088x1088 1 cow, 16.4ms\n",
      "WARNING  'Masks.masks' is deprecated. Use 'Masks.data' instead.\n",
      "video 1/1 (1658/3933) D:\\815_CowDataChecking\\20221230\\20221230_E_cow\\20221230_152538_8796.mkv: 1088x1088 1 cow, 17.0ms\n",
      "video 1/1 (1659/3933) D:\\815_CowDataChecking\\20221230\\20221230_E_cow\\20221230_152538_8796.mkv: 1088x1088 1 cow, 17.4ms\n",
      "WARNING  'Masks.masks' is deprecated. Use 'Masks.data' instead.\n",
      "video 1/1 (1660/3933) D:\\815_CowDataChecking\\20221230\\20221230_E_cow\\20221230_152538_8796.mkv: 1088x1088 1 cow, 17.4ms\n",
      "WARNING  'Masks.masks' is deprecated. Use 'Masks.data' instead.\n",
      "video 1/1 (1661/3933) D:\\815_CowDataChecking\\20221230\\20221230_E_cow\\20221230_152538_8796.mkv: 1088x1088 1 cow, 16.4ms\n",
      "video 1/1 (1662/3933) D:\\815_CowDataChecking\\20221230\\20221230_E_cow\\20221230_152538_8796.mkv: 1088x1088 1 cow, 17.4ms\n",
      "WARNING  'Masks.masks' is deprecated. Use 'Masks.data' instead.\n",
      "video 1/1 (1663/3933) D:\\815_CowDataChecking\\20221230\\20221230_E_cow\\20221230_152538_8796.mkv: 1088x1088 1 cow, 15.5ms\n",
      "WARNING  'Masks.masks' is deprecated. Use 'Masks.data' instead.\n",
      "video 1/1 (1664/3933) D:\\815_CowDataChecking\\20221230\\20221230_E_cow\\20221230_152538_8796.mkv: 1088x1088 1 cow, 11.1ms\n",
      "video 1/1 (1665/3933) D:\\815_CowDataChecking\\20221230\\20221230_E_cow\\20221230_152538_8796.mkv: 1088x1088 1 cow, 16.0ms\n",
      "WARNING  'Masks.masks' is deprecated. Use 'Masks.data' instead.\n",
      "video 1/1 (1666/3933) D:\\815_CowDataChecking\\20221230\\20221230_E_cow\\20221230_152538_8796.mkv: 1088x1088 1 cow, 15.8ms\n",
      "WARNING  'Masks.masks' is deprecated. Use 'Masks.data' instead.\n",
      "video 1/1 (1667/3933) D:\\815_CowDataChecking\\20221230\\20221230_E_cow\\20221230_152538_8796.mkv: 1088x1088 1 cow, 14.6ms\n",
      "video 1/1 (1668/3933) D:\\815_CowDataChecking\\20221230\\20221230_E_cow\\20221230_152538_8796.mkv: 1088x1088 1 cow, 16.4ms\n",
      "WARNING  'Masks.masks' is deprecated. Use 'Masks.data' instead.\n",
      "video 1/1 (1669/3933) D:\\815_CowDataChecking\\20221230\\20221230_E_cow\\20221230_152538_8796.mkv: 1088x1088 1 cow, 16.4ms\n",
      "WARNING  'Masks.masks' is deprecated. Use 'Masks.data' instead.\n",
      "video 1/1 (1670/3933) D:\\815_CowDataChecking\\20221230\\20221230_E_cow\\20221230_152538_8796.mkv: 1088x1088 1 cow, 16.3ms\n",
      "video 1/1 (1671/3933) D:\\815_CowDataChecking\\20221230\\20221230_E_cow\\20221230_152538_8796.mkv: 1088x1088 1 cow, 14.1ms\n",
      "WARNING  'Masks.masks' is deprecated. Use 'Masks.data' instead.\n",
      "video 1/1 (1672/3933) D:\\815_CowDataChecking\\20221230\\20221230_E_cow\\20221230_152538_8796.mkv: 1088x1088 1 cow, 16.9ms\n",
      "WARNING  'Masks.masks' is deprecated. Use 'Masks.data' instead.\n",
      "video 1/1 (1673/3933) D:\\815_CowDataChecking\\20221230\\20221230_E_cow\\20221230_152538_8796.mkv: 1088x1088 1 cow, 16.8ms\n",
      "video 1/1 (1674/3933) D:\\815_CowDataChecking\\20221230\\20221230_E_cow\\20221230_152538_8796.mkv: 1088x1088 1 cow, 18.4ms\n",
      "WARNING  'Masks.masks' is deprecated. Use 'Masks.data' instead.\n",
      "video 1/1 (1675/3933) D:\\815_CowDataChecking\\20221230\\20221230_E_cow\\20221230_152538_8796.mkv: 1088x1088 1 cow, 18.3ms\n",
      "WARNING  'Masks.masks' is deprecated. Use 'Masks.data' instead.\n",
      "video 1/1 (1676/3933) D:\\815_CowDataChecking\\20221230\\20221230_E_cow\\20221230_152538_8796.mkv: 1088x1088 1 cow, 14.4ms\n",
      "video 1/1 (1677/3933) D:\\815_CowDataChecking\\20221230\\20221230_E_cow\\20221230_152538_8796.mkv: 1088x1088 1 cow, 20.6ms\n",
      "WARNING  'Masks.masks' is deprecated. Use 'Masks.data' instead.\n",
      "video 1/1 (1678/3933) D:\\815_CowDataChecking\\20221230\\20221230_E_cow\\20221230_152538_8796.mkv: 1088x1088 1 cow, 19.0ms\n",
      "WARNING  'Masks.masks' is deprecated. Use 'Masks.data' instead.\n",
      "video 1/1 (1679/3933) D:\\815_CowDataChecking\\20221230\\20221230_E_cow\\20221230_152538_8796.mkv: 1088x1088 1 cow, 20.2ms\n",
      "video 1/1 (1680/3933) D:\\815_CowDataChecking\\20221230\\20221230_E_cow\\20221230_152538_8796.mkv: 1088x1088 1 cow, 16.5ms\n",
      "WARNING  'Masks.masks' is deprecated. Use 'Masks.data' instead.\n",
      "video 1/1 (1681/3933) D:\\815_CowDataChecking\\20221230\\20221230_E_cow\\20221230_152538_8796.mkv: 1088x1088 1 cow, 12.4ms\n",
      "WARNING  'Masks.masks' is deprecated. Use 'Masks.data' instead.\n",
      "video 1/1 (1682/3933) D:\\815_CowDataChecking\\20221230\\20221230_E_cow\\20221230_152538_8796.mkv: 1088x1088 1 cow, 14.5ms\n",
      "video 1/1 (1683/3933) D:\\815_CowDataChecking\\20221230\\20221230_E_cow\\20221230_152538_8796.mkv: 1088x1088 1 cow, 19.0ms\n",
      "WARNING  'Masks.masks' is deprecated. Use 'Masks.data' instead.\n",
      "video 1/1 (1684/3933) D:\\815_CowDataChecking\\20221230\\20221230_E_cow\\20221230_152538_8796.mkv: 1088x1088 1 cow, 18.1ms\n",
      "WARNING  'Masks.masks' is deprecated. Use 'Masks.data' instead.\n",
      "video 1/1 (1685/3933) D:\\815_CowDataChecking\\20221230\\20221230_E_cow\\20221230_152538_8796.mkv: 1088x1088 1 cow, 11.3ms\n",
      "video 1/1 (1686/3933) D:\\815_CowDataChecking\\20221230\\20221230_E_cow\\20221230_152538_8796.mkv: 1088x1088 1 cow, 14.6ms\n",
      "WARNING  'Masks.masks' is deprecated. Use 'Masks.data' instead.\n",
      "video 1/1 (1687/3933) D:\\815_CowDataChecking\\20221230\\20221230_E_cow\\20221230_152538_8796.mkv: 1088x1088 1 cow, 17.3ms\n",
      "WARNING  'Masks.masks' is deprecated. Use 'Masks.data' instead.\n",
      "video 1/1 (1688/3933) D:\\815_CowDataChecking\\20221230\\20221230_E_cow\\20221230_152538_8796.mkv: 1088x1088 1 cow, 19.4ms\n",
      "video 1/1 (1689/3933) D:\\815_CowDataChecking\\20221230\\20221230_E_cow\\20221230_152538_8796.mkv: 1088x1088 1 cow, 17.8ms\n",
      "WARNING  'Masks.masks' is deprecated. Use 'Masks.data' instead.\n",
      "video 1/1 (1690/3933) D:\\815_CowDataChecking\\20221230\\20221230_E_cow\\20221230_152538_8796.mkv: 1088x1088 1 cow, 18.8ms\n",
      "WARNING  'Masks.masks' is deprecated. Use 'Masks.data' instead.\n",
      "video 1/1 (1691/3933) D:\\815_CowDataChecking\\20221230\\20221230_E_cow\\20221230_152538_8796.mkv: 1088x1088 1 cow, 19.8ms\n",
      "video 1/1 (1692/3933) D:\\815_CowDataChecking\\20221230\\20221230_E_cow\\20221230_152538_8796.mkv: 1088x1088 1 cow, 10.5ms\n",
      "WARNING  'Masks.masks' is deprecated. Use 'Masks.data' instead.\n",
      "video 1/1 (1693/3933) D:\\815_CowDataChecking\\20221230\\20221230_E_cow\\20221230_152538_8796.mkv: 1088x1088 1 cow, 12.6ms\n",
      "WARNING  'Masks.masks' is deprecated. Use 'Masks.data' instead.\n",
      "video 1/1 (1694/3933) D:\\815_CowDataChecking\\20221230\\20221230_E_cow\\20221230_152538_8796.mkv: 1088x1088 1 cow, 28.2ms\n",
      "video 1/1 (1695/3933) D:\\815_CowDataChecking\\20221230\\20221230_E_cow\\20221230_152538_8796.mkv: 1088x1088 1 cow, 18.6ms\n",
      "WARNING  'Masks.masks' is deprecated. Use 'Masks.data' instead.\n",
      "video 1/1 (1696/3933) D:\\815_CowDataChecking\\20221230\\20221230_E_cow\\20221230_152538_8796.mkv: 1088x1088 1 cow, 19.7ms\n",
      "WARNING  'Masks.masks' is deprecated. Use 'Masks.data' instead.\n",
      "video 1/1 (1697/3933) D:\\815_CowDataChecking\\20221230\\20221230_E_cow\\20221230_152538_8796.mkv: 1088x1088 1 cow, 20.0ms\n",
      "video 1/1 (1698/3933) D:\\815_CowDataChecking\\20221230\\20221230_E_cow\\20221230_152538_8796.mkv: 1088x1088 1 cow, 16.4ms\n",
      "WARNING  'Masks.masks' is deprecated. Use 'Masks.data' instead.\n",
      "video 1/1 (1699/3933) D:\\815_CowDataChecking\\20221230\\20221230_E_cow\\20221230_152538_8796.mkv: 1088x1088 1 cow, 17.6ms\n",
      "WARNING  'Masks.masks' is deprecated. Use 'Masks.data' instead.\n",
      "video 1/1 (1700/3933) D:\\815_CowDataChecking\\20221230\\20221230_E_cow\\20221230_152538_8796.mkv: 1088x1088 1 cow, 14.6ms\n",
      "video 1/1 (1701/3933) D:\\815_CowDataChecking\\20221230\\20221230_E_cow\\20221230_152538_8796.mkv: 1088x1088 1 cow, 20.2ms\n",
      "WARNING  'Masks.masks' is deprecated. Use 'Masks.data' instead.\n",
      "video 1/1 (1702/3933) D:\\815_CowDataChecking\\20221230\\20221230_E_cow\\20221230_152538_8796.mkv: 1088x1088 1 cow, 20.5ms\n",
      "WARNING  'Masks.masks' is deprecated. Use 'Masks.data' instead.\n",
      "video 1/1 (1703/3933) D:\\815_CowDataChecking\\20221230\\20221230_E_cow\\20221230_152538_8796.mkv: 1088x1088 1 cow, 14.8ms\n",
      "video 1/1 (1704/3933) D:\\815_CowDataChecking\\20221230\\20221230_E_cow\\20221230_152538_8796.mkv: 1088x1088 1 cow, 21.0ms\n",
      "WARNING  'Masks.masks' is deprecated. Use 'Masks.data' instead.\n",
      "video 1/1 (1705/3933) D:\\815_CowDataChecking\\20221230\\20221230_E_cow\\20221230_152538_8796.mkv: 1088x1088 1 cow, 21.3ms\n",
      "WARNING  'Masks.masks' is deprecated. Use 'Masks.data' instead.\n",
      "video 1/1 (1706/3933) D:\\815_CowDataChecking\\20221230\\20221230_E_cow\\20221230_152538_8796.mkv: 1088x1088 1 cow, 20.1ms\n",
      "video 1/1 (1707/3933) D:\\815_CowDataChecking\\20221230\\20221230_E_cow\\20221230_152538_8796.mkv: 1088x1088 1 cow, 20.8ms\n",
      "WARNING  'Masks.masks' is deprecated. Use 'Masks.data' instead.\n",
      "video 1/1 (1708/3933) D:\\815_CowDataChecking\\20221230\\20221230_E_cow\\20221230_152538_8796.mkv: 1088x1088 1 cow, 20.5ms\n",
      "WARNING  'Masks.masks' is deprecated. Use 'Masks.data' instead.\n",
      "video 1/1 (1709/3933) D:\\815_CowDataChecking\\20221230\\20221230_E_cow\\20221230_152538_8796.mkv: 1088x1088 1 cow, 17.8ms\n",
      "video 1/1 (1710/3933) D:\\815_CowDataChecking\\20221230\\20221230_E_cow\\20221230_152538_8796.mkv: 1088x1088 1 cow, 22.6ms\n",
      "WARNING  'Masks.masks' is deprecated. Use 'Masks.data' instead.\n",
      "video 1/1 (1711/3933) D:\\815_CowDataChecking\\20221230\\20221230_E_cow\\20221230_152538_8796.mkv: 1088x1088 1 cow, 22.1ms\n",
      "WARNING  'Masks.masks' is deprecated. Use 'Masks.data' instead.\n",
      "video 1/1 (1712/3933) D:\\815_CowDataChecking\\20221230\\20221230_E_cow\\20221230_152538_8796.mkv: 1088x1088 1 cow, 15.6ms\n",
      "video 1/1 (1713/3933) D:\\815_CowDataChecking\\20221230\\20221230_E_cow\\20221230_152538_8796.mkv: 1088x1088 1 cow, 20.2ms\n",
      "WARNING  'Masks.masks' is deprecated. Use 'Masks.data' instead.\n",
      "video 1/1 (1714/3933) D:\\815_CowDataChecking\\20221230\\20221230_E_cow\\20221230_152538_8796.mkv: 1088x1088 1 cow, 17.3ms\n",
      "WARNING  'Masks.masks' is deprecated. Use 'Masks.data' instead.\n",
      "video 1/1 (1715/3933) D:\\815_CowDataChecking\\20221230\\20221230_E_cow\\20221230_152538_8796.mkv: 1088x1088 1 cow, 21.0ms\n",
      "video 1/1 (1716/3933) D:\\815_CowDataChecking\\20221230\\20221230_E_cow\\20221230_152538_8796.mkv: 1088x1088 1 cow, 17.6ms\n",
      "WARNING  'Masks.masks' is deprecated. Use 'Masks.data' instead.\n",
      "video 1/1 (1717/3933) D:\\815_CowDataChecking\\20221230\\20221230_E_cow\\20221230_152538_8796.mkv: 1088x1088 1 cow, 14.6ms\n",
      "WARNING  'Masks.masks' is deprecated. Use 'Masks.data' instead.\n",
      "video 1/1 (1718/3933) D:\\815_CowDataChecking\\20221230\\20221230_E_cow\\20221230_152538_8796.mkv: 1088x1088 1 cow, 21.0ms\n",
      "video 1/1 (1719/3933) D:\\815_CowDataChecking\\20221230\\20221230_E_cow\\20221230_152538_8796.mkv: 1088x1088 1 cow, 23.4ms\n",
      "WARNING  'Masks.masks' is deprecated. Use 'Masks.data' instead.\n",
      "video 1/1 (1720/3933) D:\\815_CowDataChecking\\20221230\\20221230_E_cow\\20221230_152538_8796.mkv: 1088x1088 1 cow, 22.2ms\n",
      "WARNING  'Masks.masks' is deprecated. Use 'Masks.data' instead.\n",
      "video 1/1 (1721/3933) D:\\815_CowDataChecking\\20221230\\20221230_E_cow\\20221230_152538_8796.mkv: 1088x1088 1 cow, 22.3ms\n",
      "video 1/1 (1722/3933) D:\\815_CowDataChecking\\20221230\\20221230_E_cow\\20221230_152538_8796.mkv: 1088x1088 1 cow, 18.3ms\n",
      "WARNING  'Masks.masks' is deprecated. Use 'Masks.data' instead.\n",
      "video 1/1 (1723/3933) D:\\815_CowDataChecking\\20221230\\20221230_E_cow\\20221230_152538_8796.mkv: 1088x1088 1 cow, 18.0ms\n",
      "WARNING  'Masks.masks' is deprecated. Use 'Masks.data' instead.\n",
      "video 1/1 (1724/3933) D:\\815_CowDataChecking\\20221230\\20221230_E_cow\\20221230_152538_8796.mkv: 1088x1088 1 cow, 23.1ms\n",
      "video 1/1 (1725/3933) D:\\815_CowDataChecking\\20221230\\20221230_E_cow\\20221230_152538_8796.mkv: 1088x1088 1 cow, 20.0ms\n",
      "WARNING  'Masks.masks' is deprecated. Use 'Masks.data' instead.\n",
      "video 1/1 (1726/3933) D:\\815_CowDataChecking\\20221230\\20221230_E_cow\\20221230_152538_8796.mkv: 1088x1088 1 cow, 16.1ms\n",
      "WARNING  'Masks.masks' is deprecated. Use 'Masks.data' instead.\n",
      "video 1/1 (1727/3933) D:\\815_CowDataChecking\\20221230\\20221230_E_cow\\20221230_152538_8796.mkv: 1088x1088 1 cow, 23.0ms\n",
      "video 1/1 (1728/3933) D:\\815_CowDataChecking\\20221230\\20221230_E_cow\\20221230_152538_8796.mkv: 1088x1088 1 cow, 21.4ms\n",
      "WARNING  'Masks.masks' is deprecated. Use 'Masks.data' instead.\n",
      "video 1/1 (1729/3933) D:\\815_CowDataChecking\\20221230\\20221230_E_cow\\20221230_152538_8796.mkv: 1088x1088 1 cow, 21.2ms\n",
      "WARNING  'Masks.masks' is deprecated. Use 'Masks.data' instead.\n",
      "video 1/1 (1730/3933) D:\\815_CowDataChecking\\20221230\\20221230_E_cow\\20221230_152538_8796.mkv: 1088x1088 1 cow, 13.7ms\n",
      "video 1/1 (1731/3933) D:\\815_CowDataChecking\\20221230\\20221230_E_cow\\20221230_152538_8796.mkv: 1088x1088 1 cow, 18.5ms\n",
      "WARNING  'Masks.masks' is deprecated. Use 'Masks.data' instead.\n",
      "video 1/1 (1732/3933) D:\\815_CowDataChecking\\20221230\\20221230_E_cow\\20221230_152538_8796.mkv: 1088x1088 1 cow, 15.8ms\n",
      "WARNING  'Masks.masks' is deprecated. Use 'Masks.data' instead.\n",
      "video 1/1 (1733/3933) D:\\815_CowDataChecking\\20221230\\20221230_E_cow\\20221230_152538_8796.mkv: 1088x1088 1 cow, 20.8ms\n",
      "video 1/1 (1734/3933) D:\\815_CowDataChecking\\20221230\\20221230_E_cow\\20221230_152538_8796.mkv: 1088x1088 1 cow, 20.2ms\n",
      "WARNING  'Masks.masks' is deprecated. Use 'Masks.data' instead.\n",
      "video 1/1 (1735/3933) D:\\815_CowDataChecking\\20221230\\20221230_E_cow\\20221230_152538_8796.mkv: 1088x1088 1 cow, 22.0ms\n",
      "WARNING  'Masks.masks' is deprecated. Use 'Masks.data' instead.\n",
      "video 1/1 (1736/3933) D:\\815_CowDataChecking\\20221230\\20221230_E_cow\\20221230_152538_8796.mkv: 1088x1088 1 cow, 15.7ms\n",
      "video 1/1 (1737/3933) D:\\815_CowDataChecking\\20221230\\20221230_E_cow\\20221230_152538_8796.mkv: 1088x1088 1 cow, 23.3ms\n",
      "WARNING  'Masks.masks' is deprecated. Use 'Masks.data' instead.\n",
      "video 1/1 (1738/3933) D:\\815_CowDataChecking\\20221230\\20221230_E_cow\\20221230_152538_8796.mkv: 1088x1088 1 cow, 21.1ms\n",
      "WARNING  'Masks.masks' is deprecated. Use 'Masks.data' instead.\n",
      "video 1/1 (1739/3933) D:\\815_CowDataChecking\\20221230\\20221230_E_cow\\20221230_152538_8796.mkv: 1088x1088 1 cow, 19.5ms\n",
      "video 1/1 (1740/3933) D:\\815_CowDataChecking\\20221230\\20221230_E_cow\\20221230_152538_8796.mkv: 1088x1088 1 cow, 24.0ms\n",
      "WARNING  'Masks.masks' is deprecated. Use 'Masks.data' instead.\n",
      "video 1/1 (1741/3933) D:\\815_CowDataChecking\\20221230\\20221230_E_cow\\20221230_152538_8796.mkv: 1088x1088 1 cow, 19.1ms\n",
      "WARNING  'Masks.masks' is deprecated. Use 'Masks.data' instead.\n",
      "video 1/1 (1742/3933) D:\\815_CowDataChecking\\20221230\\20221230_E_cow\\20221230_152538_8796.mkv: 1088x1088 1 cow, 21.7ms\n",
      "video 1/1 (1743/3933) D:\\815_CowDataChecking\\20221230\\20221230_E_cow\\20221230_152538_8796.mkv: 1088x1088 1 cow, 20.9ms\n",
      "WARNING  'Masks.masks' is deprecated. Use 'Masks.data' instead.\n",
      "video 1/1 (1744/3933) D:\\815_CowDataChecking\\20221230\\20221230_E_cow\\20221230_152538_8796.mkv: 1088x1088 1 cow, 17.9ms\n",
      "WARNING  'Masks.masks' is deprecated. Use 'Masks.data' instead.\n",
      "video 1/1 (1745/3933) D:\\815_CowDataChecking\\20221230\\20221230_E_cow\\20221230_152538_8796.mkv: 1088x1088 1 cow, 21.1ms\n",
      "video 1/1 (1746/3933) D:\\815_CowDataChecking\\20221230\\20221230_E_cow\\20221230_152538_8796.mkv: 1088x1088 1 cow, 22.0ms\n",
      "WARNING  'Masks.masks' is deprecated. Use 'Masks.data' instead.\n",
      "video 1/1 (1747/3933) D:\\815_CowDataChecking\\20221230\\20221230_E_cow\\20221230_152538_8796.mkv: 1088x1088 1 cow, 21.6ms\n",
      "WARNING  'Masks.masks' is deprecated. Use 'Masks.data' instead.\n",
      "video 1/1 (1748/3933) D:\\815_CowDataChecking\\20221230\\20221230_E_cow\\20221230_152538_8796.mkv: 1088x1088 1 cow, 23.9ms\n",
      "video 1/1 (1749/3933) D:\\815_CowDataChecking\\20221230\\20221230_E_cow\\20221230_152538_8796.mkv: 1088x1088 1 cow, 23.3ms\n",
      "WARNING  'Masks.masks' is deprecated. Use 'Masks.data' instead.\n",
      "video 1/1 (1750/3933) D:\\815_CowDataChecking\\20221230\\20221230_E_cow\\20221230_152538_8796.mkv: 1088x1088 1 cow, 21.9ms\n",
      "WARNING  'Masks.masks' is deprecated. Use 'Masks.data' instead.\n",
      "video 1/1 (1751/3933) D:\\815_CowDataChecking\\20221230\\20221230_E_cow\\20221230_152538_8796.mkv: 1088x1088 1 cow, 24.4ms\n",
      "video 1/1 (1752/3933) D:\\815_CowDataChecking\\20221230\\20221230_E_cow\\20221230_152538_8796.mkv: 1088x1088 1 cow, 18.8ms\n",
      "WARNING  'Masks.masks' is deprecated. Use 'Masks.data' instead.\n",
      "video 1/1 (1753/3933) D:\\815_CowDataChecking\\20221230\\20221230_E_cow\\20221230_152538_8796.mkv: 1088x1088 1 cow, 17.5ms\n",
      "WARNING  'Masks.masks' is deprecated. Use 'Masks.data' instead.\n",
      "video 1/1 (1754/3933) D:\\815_CowDataChecking\\20221230\\20221230_E_cow\\20221230_152538_8796.mkv: 1088x1088 1 cow, 18.3ms\n",
      "video 1/1 (1755/3933) D:\\815_CowDataChecking\\20221230\\20221230_E_cow\\20221230_152538_8796.mkv: 1088x1088 1 cow, 20.0ms\n",
      "WARNING  'Masks.masks' is deprecated. Use 'Masks.data' instead.\n",
      "video 1/1 (1756/3933) D:\\815_CowDataChecking\\20221230\\20221230_E_cow\\20221230_152538_8796.mkv: 1088x1088 1 cow, 16.3ms\n",
      "WARNING  'Masks.masks' is deprecated. Use 'Masks.data' instead.\n",
      "video 1/1 (1757/3933) D:\\815_CowDataChecking\\20221230\\20221230_E_cow\\20221230_152538_8796.mkv: 1088x1088 1 cow, 14.6ms\n",
      "video 1/1 (1758/3933) D:\\815_CowDataChecking\\20221230\\20221230_E_cow\\20221230_152538_8796.mkv: 1088x1088 1 cow, 18.5ms\n",
      "WARNING  'Masks.masks' is deprecated. Use 'Masks.data' instead.\n",
      "video 1/1 (1759/3933) D:\\815_CowDataChecking\\20221230\\20221230_E_cow\\20221230_152538_8796.mkv: 1088x1088 1 cow, 18.1ms\n",
      "WARNING  'Masks.masks' is deprecated. Use 'Masks.data' instead.\n",
      "video 1/1 (1760/3933) D:\\815_CowDataChecking\\20221230\\20221230_E_cow\\20221230_152538_8796.mkv: 1088x1088 1 cow, 23.3ms\n",
      "video 1/1 (1761/3933) D:\\815_CowDataChecking\\20221230\\20221230_E_cow\\20221230_152538_8796.mkv: 1088x1088 1 cow, 16.6ms\n",
      "WARNING  'Masks.masks' is deprecated. Use 'Masks.data' instead.\n",
      "video 1/1 (1762/3933) D:\\815_CowDataChecking\\20221230\\20221230_E_cow\\20221230_152538_8796.mkv: 1088x1088 1 cow, 23.2ms\n",
      "WARNING  'Masks.masks' is deprecated. Use 'Masks.data' instead.\n",
      "video 1/1 (1763/3933) D:\\815_CowDataChecking\\20221230\\20221230_E_cow\\20221230_152538_8796.mkv: 1088x1088 1 cow, 14.2ms\n",
      "video 1/1 (1764/3933) D:\\815_CowDataChecking\\20221230\\20221230_E_cow\\20221230_152538_8796.mkv: 1088x1088 1 cow, 19.3ms\n",
      "WARNING  'Masks.masks' is deprecated. Use 'Masks.data' instead.\n",
      "video 1/1 (1765/3933) D:\\815_CowDataChecking\\20221230\\20221230_E_cow\\20221230_152538_8796.mkv: 1088x1088 1 cow, 16.3ms\n",
      "WARNING  'Masks.masks' is deprecated. Use 'Masks.data' instead.\n",
      "video 1/1 (1766/3933) D:\\815_CowDataChecking\\20221230\\20221230_E_cow\\20221230_152538_8796.mkv: 1088x1088 1 cow, 17.5ms\n",
      "video 1/1 (1767/3933) D:\\815_CowDataChecking\\20221230\\20221230_E_cow\\20221230_152538_8796.mkv: 1088x1088 1 cow, 20.0ms\n",
      "WARNING  'Masks.masks' is deprecated. Use 'Masks.data' instead.\n",
      "video 1/1 (1768/3933) D:\\815_CowDataChecking\\20221230\\20221230_E_cow\\20221230_152538_8796.mkv: 1088x1088 1 cow, 21.4ms\n",
      "WARNING  'Masks.masks' is deprecated. Use 'Masks.data' instead.\n",
      "video 1/1 (1769/3933) D:\\815_CowDataChecking\\20221230\\20221230_E_cow\\20221230_152538_8796.mkv: 1088x1088 1 cow, 24.0ms\n",
      "video 1/1 (1770/3933) D:\\815_CowDataChecking\\20221230\\20221230_E_cow\\20221230_152538_8796.mkv: 1088x1088 1 cow, 18.8ms\n",
      "WARNING  'Masks.masks' is deprecated. Use 'Masks.data' instead.\n",
      "video 1/1 (1771/3933) D:\\815_CowDataChecking\\20221230\\20221230_E_cow\\20221230_152538_8796.mkv: 1088x1088 1 cow, 17.5ms\n",
      "WARNING  'Masks.masks' is deprecated. Use 'Masks.data' instead.\n",
      "video 1/1 (1772/3933) D:\\815_CowDataChecking\\20221230\\20221230_E_cow\\20221230_152538_8796.mkv: 1088x1088 1 cow, 22.9ms\n",
      "video 1/1 (1773/3933) D:\\815_CowDataChecking\\20221230\\20221230_E_cow\\20221230_152538_8796.mkv: 1088x1088 1 cow, 23.2ms\n",
      "WARNING  'Masks.masks' is deprecated. Use 'Masks.data' instead.\n",
      "video 1/1 (1774/3933) D:\\815_CowDataChecking\\20221230\\20221230_E_cow\\20221230_152538_8796.mkv: 1088x1088 1 cow, 22.5ms\n",
      "WARNING  'Masks.masks' is deprecated. Use 'Masks.data' instead.\n",
      "video 1/1 (1775/3933) D:\\815_CowDataChecking\\20221230\\20221230_E_cow\\20221230_152538_8796.mkv: 1088x1088 1 cow, 23.1ms\n",
      "video 1/1 (1776/3933) D:\\815_CowDataChecking\\20221230\\20221230_E_cow\\20221230_152538_8796.mkv: 1088x1088 1 cow, 23.2ms\n",
      "WARNING  'Masks.masks' is deprecated. Use 'Masks.data' instead.\n",
      "video 1/1 (1777/3933) D:\\815_CowDataChecking\\20221230\\20221230_E_cow\\20221230_152538_8796.mkv: 1088x1088 1 cow, 21.2ms\n",
      "WARNING  'Masks.masks' is deprecated. Use 'Masks.data' instead.\n",
      "video 1/1 (1778/3933) D:\\815_CowDataChecking\\20221230\\20221230_E_cow\\20221230_152538_8796.mkv: 1088x1088 1 cow, 14.7ms\n",
      "video 1/1 (1779/3933) D:\\815_CowDataChecking\\20221230\\20221230_E_cow\\20221230_152538_8796.mkv: 1088x1088 1 cow, 20.6ms\n",
      "WARNING  'Masks.masks' is deprecated. Use 'Masks.data' instead.\n",
      "video 1/1 (1780/3933) D:\\815_CowDataChecking\\20221230\\20221230_E_cow\\20221230_152538_8796.mkv: 1088x1088 1 cow, 14.3ms\n",
      "WARNING  'Masks.masks' is deprecated. Use 'Masks.data' instead.\n",
      "video 1/1 (1781/3933) D:\\815_CowDataChecking\\20221230\\20221230_E_cow\\20221230_152538_8796.mkv: 1088x1088 1 cow, 15.8ms\n",
      "video 1/1 (1782/3933) D:\\815_CowDataChecking\\20221230\\20221230_E_cow\\20221230_152538_8796.mkv: 1088x1088 1 cow, 14.8ms\n",
      "WARNING  'Masks.masks' is deprecated. Use 'Masks.data' instead.\n",
      "video 1/1 (1783/3933) D:\\815_CowDataChecking\\20221230\\20221230_E_cow\\20221230_152538_8796.mkv: 1088x1088 1 cow, 20.3ms\n",
      "WARNING  'Masks.masks' is deprecated. Use 'Masks.data' instead.\n",
      "video 1/1 (1784/3933) D:\\815_CowDataChecking\\20221230\\20221230_E_cow\\20221230_152538_8796.mkv: 1088x1088 1 cow, 15.4ms\n",
      "video 1/1 (1785/3933) D:\\815_CowDataChecking\\20221230\\20221230_E_cow\\20221230_152538_8796.mkv: 1088x1088 1 cow, 23.5ms\n",
      "WARNING  'Masks.masks' is deprecated. Use 'Masks.data' instead.\n",
      "video 1/1 (1786/3933) D:\\815_CowDataChecking\\20221230\\20221230_E_cow\\20221230_152538_8796.mkv: 1088x1088 1 cow, 20.4ms\n",
      "WARNING  'Masks.masks' is deprecated. Use 'Masks.data' instead.\n",
      "video 1/1 (1787/3933) D:\\815_CowDataChecking\\20221230\\20221230_E_cow\\20221230_152538_8796.mkv: 1088x1088 1 cow, 15.7ms\n",
      "video 1/1 (1788/3933) D:\\815_CowDataChecking\\20221230\\20221230_E_cow\\20221230_152538_8796.mkv: 1088x1088 1 cow, 16.7ms\n",
      "WARNING  'Masks.masks' is deprecated. Use 'Masks.data' instead.\n",
      "video 1/1 (1789/3933) D:\\815_CowDataChecking\\20221230\\20221230_E_cow\\20221230_152538_8796.mkv: 1088x1088 1 cow, 14.7ms\n",
      "WARNING  'Masks.masks' is deprecated. Use 'Masks.data' instead.\n",
      "video 1/1 (1790/3933) D:\\815_CowDataChecking\\20221230\\20221230_E_cow\\20221230_152538_8796.mkv: 1088x1088 1 cow, 22.2ms\n",
      "video 1/1 (1791/3933) D:\\815_CowDataChecking\\20221230\\20221230_E_cow\\20221230_152538_8796.mkv: 1088x1088 1 cow, 23.0ms\n",
      "WARNING  'Masks.masks' is deprecated. Use 'Masks.data' instead.\n",
      "video 1/1 (1792/3933) D:\\815_CowDataChecking\\20221230\\20221230_E_cow\\20221230_152538_8796.mkv: 1088x1088 1 cow, 21.5ms\n",
      "WARNING  'Masks.masks' is deprecated. Use 'Masks.data' instead.\n",
      "video 1/1 (1793/3933) D:\\815_CowDataChecking\\20221230\\20221230_E_cow\\20221230_152538_8796.mkv: 1088x1088 1 cow, 15.3ms\n",
      "video 1/1 (1794/3933) D:\\815_CowDataChecking\\20221230\\20221230_E_cow\\20221230_152538_8796.mkv: 1088x1088 1 cow, 15.6ms\n",
      "WARNING  'Masks.masks' is deprecated. Use 'Masks.data' instead.\n",
      "video 1/1 (1795/3933) D:\\815_CowDataChecking\\20221230\\20221230_E_cow\\20221230_152538_8796.mkv: 1088x1088 1 cow, 22.3ms\n",
      "WARNING  'Masks.masks' is deprecated. Use 'Masks.data' instead.\n",
      "video 1/1 (1796/3933) D:\\815_CowDataChecking\\20221230\\20221230_E_cow\\20221230_152538_8796.mkv: 1088x1088 1 cow, 23.1ms\n",
      "video 1/1 (1797/3933) D:\\815_CowDataChecking\\20221230\\20221230_E_cow\\20221230_152538_8796.mkv: 1088x1088 1 cow, 24.1ms\n",
      "WARNING  'Masks.masks' is deprecated. Use 'Masks.data' instead.\n",
      "video 1/1 (1798/3933) D:\\815_CowDataChecking\\20221230\\20221230_E_cow\\20221230_152538_8796.mkv: 1088x1088 1 cow, 20.0ms\n",
      "WARNING  'Masks.masks' is deprecated. Use 'Masks.data' instead.\n",
      "video 1/1 (1799/3933) D:\\815_CowDataChecking\\20221230\\20221230_E_cow\\20221230_152538_8796.mkv: 1088x1088 1 cow, 21.5ms\n",
      "video 1/1 (1800/3933) D:\\815_CowDataChecking\\20221230\\20221230_E_cow\\20221230_152538_8796.mkv: 1088x1088 1 cow, 23.1ms\n",
      "WARNING  'Masks.masks' is deprecated. Use 'Masks.data' instead.\n",
      "video 1/1 (1801/3933) D:\\815_CowDataChecking\\20221230\\20221230_E_cow\\20221230_152538_8796.mkv: 1088x1088 1 cow, 20.0ms\n",
      "WARNING  'Masks.masks' is deprecated. Use 'Masks.data' instead.\n",
      "video 1/1 (1802/3933) D:\\815_CowDataChecking\\20221230\\20221230_E_cow\\20221230_152538_8796.mkv: 1088x1088 1 cow, 22.9ms\n",
      "video 1/1 (1803/3933) D:\\815_CowDataChecking\\20221230\\20221230_E_cow\\20221230_152538_8796.mkv: 1088x1088 1 cow, 20.1ms\n",
      "WARNING  'Masks.masks' is deprecated. Use 'Masks.data' instead.\n",
      "video 1/1 (1804/3933) D:\\815_CowDataChecking\\20221230\\20221230_E_cow\\20221230_152538_8796.mkv: 1088x1088 1 cow, 16.5ms\n",
      "WARNING  'Masks.masks' is deprecated. Use 'Masks.data' instead.\n",
      "video 1/1 (1805/3933) D:\\815_CowDataChecking\\20221230\\20221230_E_cow\\20221230_152538_8796.mkv: 1088x1088 1 cow, 19.2ms\n",
      "video 1/1 (1806/3933) D:\\815_CowDataChecking\\20221230\\20221230_E_cow\\20221230_152538_8796.mkv: 1088x1088 1 cow, 20.0ms\n",
      "WARNING  'Masks.masks' is deprecated. Use 'Masks.data' instead.\n",
      "video 1/1 (1807/3933) D:\\815_CowDataChecking\\20221230\\20221230_E_cow\\20221230_152538_8796.mkv: 1088x1088 1 cow, 22.0ms\n",
      "WARNING  'Masks.masks' is deprecated. Use 'Masks.data' instead.\n",
      "video 1/1 (1808/3933) D:\\815_CowDataChecking\\20221230\\20221230_E_cow\\20221230_152538_8796.mkv: 1088x1088 1 cow, 25.1ms\n",
      "video 1/1 (1809/3933) D:\\815_CowDataChecking\\20221230\\20221230_E_cow\\20221230_152538_8796.mkv: 1088x1088 1 cow, 24.1ms\n",
      "WARNING  'Masks.masks' is deprecated. Use 'Masks.data' instead.\n",
      "video 1/1 (1810/3933) D:\\815_CowDataChecking\\20221230\\20221230_E_cow\\20221230_152538_8796.mkv: 1088x1088 1 cow, 22.1ms\n",
      "WARNING  'Masks.masks' is deprecated. Use 'Masks.data' instead.\n",
      "video 1/1 (1811/3933) D:\\815_CowDataChecking\\20221230\\20221230_E_cow\\20221230_152538_8796.mkv: 1088x1088 1 cow, 23.0ms\n",
      "video 1/1 (1812/3933) D:\\815_CowDataChecking\\20221230\\20221230_E_cow\\20221230_152538_8796.mkv: 1088x1088 1 cow, 22.1ms\n",
      "WARNING  'Masks.masks' is deprecated. Use 'Masks.data' instead.\n",
      "video 1/1 (1813/3933) D:\\815_CowDataChecking\\20221230\\20221230_E_cow\\20221230_152538_8796.mkv: 1088x1088 1 cow, 20.1ms\n",
      "WARNING  'Masks.masks' is deprecated. Use 'Masks.data' instead.\n",
      "video 1/1 (1814/3933) D:\\815_CowDataChecking\\20221230\\20221230_E_cow\\20221230_152538_8796.mkv: 1088x1088 1 cow, 23.0ms\n",
      "video 1/1 (1815/3933) D:\\815_CowDataChecking\\20221230\\20221230_E_cow\\20221230_152538_8796.mkv: 1088x1088 1 cow, 17.4ms\n",
      "WARNING  'Masks.masks' is deprecated. Use 'Masks.data' instead.\n",
      "video 1/1 (1816/3933) D:\\815_CowDataChecking\\20221230\\20221230_E_cow\\20221230_152538_8796.mkv: 1088x1088 1 cow, 19.2ms\n",
      "WARNING  'Masks.masks' is deprecated. Use 'Masks.data' instead.\n",
      "video 1/1 (1817/3933) D:\\815_CowDataChecking\\20221230\\20221230_E_cow\\20221230_152538_8796.mkv: 1088x1088 1 cow, 23.0ms\n",
      "video 1/1 (1818/3933) D:\\815_CowDataChecking\\20221230\\20221230_E_cow\\20221230_152538_8796.mkv: 1088x1088 1 cow, 23.1ms\n",
      "WARNING  'Masks.masks' is deprecated. Use 'Masks.data' instead.\n",
      "video 1/1 (1819/3933) D:\\815_CowDataChecking\\20221230\\20221230_E_cow\\20221230_152538_8796.mkv: 1088x1088 1 cow, 21.3ms\n",
      "WARNING  'Masks.masks' is deprecated. Use 'Masks.data' instead.\n",
      "video 1/1 (1820/3933) D:\\815_CowDataChecking\\20221230\\20221230_E_cow\\20221230_152538_8796.mkv: 1088x1088 1 cow, 24.1ms\n",
      "video 1/1 (1821/3933) D:\\815_CowDataChecking\\20221230\\20221230_E_cow\\20221230_152538_8796.mkv: 1088x1088 1 cow, 14.6ms\n",
      "WARNING  'Masks.masks' is deprecated. Use 'Masks.data' instead.\n",
      "video 1/1 (1822/3933) D:\\815_CowDataChecking\\20221230\\20221230_E_cow\\20221230_152538_8796.mkv: 1088x1088 1 cow, 23.0ms\n",
      "WARNING  'Masks.masks' is deprecated. Use 'Masks.data' instead.\n",
      "video 1/1 (1823/3933) D:\\815_CowDataChecking\\20221230\\20221230_E_cow\\20221230_152538_8796.mkv: 1088x1088 1 cow, 22.5ms\n",
      "video 1/1 (1824/3933) D:\\815_CowDataChecking\\20221230\\20221230_E_cow\\20221230_152538_8796.mkv: 1088x1088 1 cow, 22.2ms\n",
      "WARNING  'Masks.masks' is deprecated. Use 'Masks.data' instead.\n",
      "video 1/1 (1825/3933) D:\\815_CowDataChecking\\20221230\\20221230_E_cow\\20221230_152538_8796.mkv: 1088x1088 1 cow, 19.2ms\n",
      "WARNING  'Masks.masks' is deprecated. Use 'Masks.data' instead.\n",
      "video 1/1 (1826/3933) D:\\815_CowDataChecking\\20221230\\20221230_E_cow\\20221230_152538_8796.mkv: 1088x1088 1 cow, 22.1ms\n",
      "video 1/1 (1827/3933) D:\\815_CowDataChecking\\20221230\\20221230_E_cow\\20221230_152538_8796.mkv: 1088x1088 1 cow, 23.1ms\n",
      "WARNING  'Masks.masks' is deprecated. Use 'Masks.data' instead.\n",
      "video 1/1 (1828/3933) D:\\815_CowDataChecking\\20221230\\20221230_E_cow\\20221230_152538_8796.mkv: 1088x1088 1 cow, 23.1ms\n",
      "WARNING  'Masks.masks' is deprecated. Use 'Masks.data' instead.\n",
      "video 1/1 (1829/3933) D:\\815_CowDataChecking\\20221230\\20221230_E_cow\\20221230_152538_8796.mkv: 1088x1088 1 cow, 14.5ms\n",
      "video 1/1 (1830/3933) D:\\815_CowDataChecking\\20221230\\20221230_E_cow\\20221230_152538_8796.mkv: 1088x1088 1 cow, 23.1ms\n",
      "WARNING  'Masks.masks' is deprecated. Use 'Masks.data' instead.\n",
      "video 1/1 (1831/3933) D:\\815_CowDataChecking\\20221230\\20221230_E_cow\\20221230_152538_8796.mkv: 1088x1088 1 cow, 22.4ms\n",
      "WARNING  'Masks.masks' is deprecated. Use 'Masks.data' instead.\n",
      "video 1/1 (1832/3933) D:\\815_CowDataChecking\\20221230\\20221230_E_cow\\20221230_152538_8796.mkv: 1088x1088 1 cow, 24.1ms\n",
      "video 1/1 (1833/3933) D:\\815_CowDataChecking\\20221230\\20221230_E_cow\\20221230_152538_8796.mkv: 1088x1088 1 cow, 20.0ms\n",
      "WARNING  'Masks.masks' is deprecated. Use 'Masks.data' instead.\n",
      "video 1/1 (1834/3933) D:\\815_CowDataChecking\\20221230\\20221230_E_cow\\20221230_152538_8796.mkv: 1088x1088 1 cow, 22.1ms\n",
      "WARNING  'Masks.masks' is deprecated. Use 'Masks.data' instead.\n",
      "video 1/1 (1835/3933) D:\\815_CowDataChecking\\20221230\\20221230_E_cow\\20221230_152538_8796.mkv: 1088x1088 1 cow, 14.5ms\n",
      "video 1/1 (1836/3933) D:\\815_CowDataChecking\\20221230\\20221230_E_cow\\20221230_152538_8796.mkv: 1088x1088 1 cow, 14.6ms\n",
      "WARNING  'Masks.masks' is deprecated. Use 'Masks.data' instead.\n",
      "video 1/1 (1837/3933) D:\\815_CowDataChecking\\20221230\\20221230_E_cow\\20221230_152538_8796.mkv: 1088x1088 1 cow, 22.4ms\n",
      "WARNING  'Masks.masks' is deprecated. Use 'Masks.data' instead.\n",
      "video 1/1 (1838/3933) D:\\815_CowDataChecking\\20221230\\20221230_E_cow\\20221230_152538_8796.mkv: 1088x1088 1 cow, 14.7ms\n",
      "video 1/1 (1839/3933) D:\\815_CowDataChecking\\20221230\\20221230_E_cow\\20221230_152538_8796.mkv: 1088x1088 1 cow, 23.5ms\n",
      "WARNING  'Masks.masks' is deprecated. Use 'Masks.data' instead.\n",
      "video 1/1 (1840/3933) D:\\815_CowDataChecking\\20221230\\20221230_E_cow\\20221230_152538_8796.mkv: 1088x1088 1 cow, 22.5ms\n",
      "WARNING  'Masks.masks' is deprecated. Use 'Masks.data' instead.\n",
      "video 1/1 (1841/3933) D:\\815_CowDataChecking\\20221230\\20221230_E_cow\\20221230_152538_8796.mkv: 1088x1088 1 cow, 22.3ms\n",
      "video 1/1 (1842/3933) D:\\815_CowDataChecking\\20221230\\20221230_E_cow\\20221230_152538_8796.mkv: 1088x1088 1 cow, 16.3ms\n",
      "WARNING  'Masks.masks' is deprecated. Use 'Masks.data' instead.\n",
      "video 1/1 (1843/3933) D:\\815_CowDataChecking\\20221230\\20221230_E_cow\\20221230_152538_8796.mkv: 1088x1088 1 cow, 20.6ms\n",
      "WARNING  'Masks.masks' is deprecated. Use 'Masks.data' instead.\n",
      "video 1/1 (1844/3933) D:\\815_CowDataChecking\\20221230\\20221230_E_cow\\20221230_152538_8796.mkv: 1088x1088 1 cow, 24.1ms\n",
      "video 1/1 (1845/3933) D:\\815_CowDataChecking\\20221230\\20221230_E_cow\\20221230_152538_8796.mkv: 1088x1088 1 cow, 18.9ms\n",
      "WARNING  'Masks.masks' is deprecated. Use 'Masks.data' instead.\n",
      "video 1/1 (1846/3933) D:\\815_CowDataChecking\\20221230\\20221230_E_cow\\20221230_152538_8796.mkv: 1088x1088 1 cow, 23.2ms\n",
      "WARNING  'Masks.masks' is deprecated. Use 'Masks.data' instead.\n",
      "video 1/1 (1847/3933) D:\\815_CowDataChecking\\20221230\\20221230_E_cow\\20221230_152538_8796.mkv: 1088x1088 1 cow, 24.5ms\n",
      "video 1/1 (1848/3933) D:\\815_CowDataChecking\\20221230\\20221230_E_cow\\20221230_152538_8796.mkv: 1088x1088 1 cow, 24.3ms\n",
      "WARNING  'Masks.masks' is deprecated. Use 'Masks.data' instead.\n",
      "video 1/1 (1849/3933) D:\\815_CowDataChecking\\20221230\\20221230_E_cow\\20221230_152538_8796.mkv: 1088x1088 1 cow, 20.2ms\n",
      "WARNING  'Masks.masks' is deprecated. Use 'Masks.data' instead.\n",
      "video 1/1 (1850/3933) D:\\815_CowDataChecking\\20221230\\20221230_E_cow\\20221230_152538_8796.mkv: 1088x1088 1 cow, 24.0ms\n",
      "video 1/1 (1851/3933) D:\\815_CowDataChecking\\20221230\\20221230_E_cow\\20221230_152538_8796.mkv: 1088x1088 1 cow, 19.2ms\n",
      "WARNING  'Masks.masks' is deprecated. Use 'Masks.data' instead.\n",
      "video 1/1 (1852/3933) D:\\815_CowDataChecking\\20221230\\20221230_E_cow\\20221230_152538_8796.mkv: 1088x1088 1 cow, 14.6ms\n",
      "WARNING  'Masks.masks' is deprecated. Use 'Masks.data' instead.\n",
      "video 1/1 (1853/3933) D:\\815_CowDataChecking\\20221230\\20221230_E_cow\\20221230_152538_8796.mkv: 1088x1088 1 cow, 23.0ms\n",
      "video 1/1 (1854/3933) D:\\815_CowDataChecking\\20221230\\20221230_E_cow\\20221230_152538_8796.mkv: 1088x1088 1 cow, 21.4ms\n",
      "WARNING  'Masks.masks' is deprecated. Use 'Masks.data' instead.\n",
      "video 1/1 (1855/3933) D:\\815_CowDataChecking\\20221230\\20221230_E_cow\\20221230_152538_8796.mkv: 1088x1088 1 cow, 23.5ms\n",
      "WARNING  'Masks.masks' is deprecated. Use 'Masks.data' instead.\n",
      "video 1/1 (1856/3933) D:\\815_CowDataChecking\\20221230\\20221230_E_cow\\20221230_152538_8796.mkv: 1088x1088 1 cow, 24.6ms\n",
      "video 1/1 (1857/3933) D:\\815_CowDataChecking\\20221230\\20221230_E_cow\\20221230_152538_8796.mkv: 1088x1088 1 cow, 24.1ms\n",
      "WARNING  'Masks.masks' is deprecated. Use 'Masks.data' instead.\n",
      "video 1/1 (1858/3933) D:\\815_CowDataChecking\\20221230\\20221230_E_cow\\20221230_152538_8796.mkv: 1088x1088 1 cow, 22.5ms\n",
      "WARNING  'Masks.masks' is deprecated. Use 'Masks.data' instead.\n",
      "video 1/1 (1859/3933) D:\\815_CowDataChecking\\20221230\\20221230_E_cow\\20221230_152538_8796.mkv: 1088x1088 1 cow, 23.4ms\n",
      "video 1/1 (1860/3933) D:\\815_CowDataChecking\\20221230\\20221230_E_cow\\20221230_152538_8796.mkv: 1088x1088 1 cow, 23.7ms\n",
      "WARNING  'Masks.masks' is deprecated. Use 'Masks.data' instead.\n",
      "video 1/1 (1861/3933) D:\\815_CowDataChecking\\20221230\\20221230_E_cow\\20221230_152538_8796.mkv: 1088x1088 1 cow, 19.4ms\n",
      "WARNING  'Masks.masks' is deprecated. Use 'Masks.data' instead.\n",
      "video 1/1 (1862/3933) D:\\815_CowDataChecking\\20221230\\20221230_E_cow\\20221230_152538_8796.mkv: 1088x1088 1 cow, 22.0ms\n",
      "video 1/1 (1863/3933) D:\\815_CowDataChecking\\20221230\\20221230_E_cow\\20221230_152538_8796.mkv: 1088x1088 1 cow, 24.9ms\n",
      "WARNING  'Masks.masks' is deprecated. Use 'Masks.data' instead.\n",
      "video 1/1 (1864/3933) D:\\815_CowDataChecking\\20221230\\20221230_E_cow\\20221230_152538_8796.mkv: 1088x1088 1 cow, 22.0ms\n",
      "WARNING  'Masks.masks' is deprecated. Use 'Masks.data' instead.\n",
      "video 1/1 (1865/3933) D:\\815_CowDataChecking\\20221230\\20221230_E_cow\\20221230_152538_8796.mkv: 1088x1088 1 cow, 24.9ms\n",
      "video 1/1 (1866/3933) D:\\815_CowDataChecking\\20221230\\20221230_E_cow\\20221230_152538_8796.mkv: 1088x1088 1 cow, 17.7ms\n",
      "WARNING  'Masks.masks' is deprecated. Use 'Masks.data' instead.\n",
      "video 1/1 (1867/3933) D:\\815_CowDataChecking\\20221230\\20221230_E_cow\\20221230_152538_8796.mkv: 1088x1088 1 cow, 14.6ms\n",
      "WARNING  'Masks.masks' is deprecated. Use 'Masks.data' instead.\n",
      "video 1/1 (1868/3933) D:\\815_CowDataChecking\\20221230\\20221230_E_cow\\20221230_152538_8796.mkv: 1088x1088 1 cow, 19.2ms\n",
      "video 1/1 (1869/3933) D:\\815_CowDataChecking\\20221230\\20221230_E_cow\\20221230_152538_8796.mkv: 1088x1088 1 cow, 22.5ms\n",
      "WARNING  'Masks.masks' is deprecated. Use 'Masks.data' instead.\n",
      "video 1/1 (1870/3933) D:\\815_CowDataChecking\\20221230\\20221230_E_cow\\20221230_152538_8796.mkv: 1088x1088 1 cow, 21.2ms\n",
      "WARNING  'Masks.masks' is deprecated. Use 'Masks.data' instead.\n",
      "video 1/1 (1871/3933) D:\\815_CowDataChecking\\20221230\\20221230_E_cow\\20221230_152538_8796.mkv: 1088x1088 1 cow, 23.0ms\n",
      "video 1/1 (1872/3933) D:\\815_CowDataChecking\\20221230\\20221230_E_cow\\20221230_152538_8796.mkv: 1088x1088 1 cow, 21.1ms\n",
      "WARNING  'Masks.masks' is deprecated. Use 'Masks.data' instead.\n",
      "video 1/1 (1873/3933) D:\\815_CowDataChecking\\20221230\\20221230_E_cow\\20221230_152538_8796.mkv: 1088x1088 1 cow, 18.8ms\n",
      "WARNING  'Masks.masks' is deprecated. Use 'Masks.data' instead.\n",
      "video 1/1 (1874/3933) D:\\815_CowDataChecking\\20221230\\20221230_E_cow\\20221230_152538_8796.mkv: 1088x1088 1 cow, 20.2ms\n",
      "video 1/1 (1875/3933) D:\\815_CowDataChecking\\20221230\\20221230_E_cow\\20221230_152538_8796.mkv: 1088x1088 1 cow, 23.1ms\n",
      "WARNING  'Masks.masks' is deprecated. Use 'Masks.data' instead.\n",
      "video 1/1 (1876/3933) D:\\815_CowDataChecking\\20221230\\20221230_E_cow\\20221230_152538_8796.mkv: 1088x1088 1 cow, 21.0ms\n",
      "WARNING  'Masks.masks' is deprecated. Use 'Masks.data' instead.\n",
      "video 1/1 (1877/3933) D:\\815_CowDataChecking\\20221230\\20221230_E_cow\\20221230_152538_8796.mkv: 1088x1088 1 cow, 24.5ms\n",
      "video 1/1 (1878/3933) D:\\815_CowDataChecking\\20221230\\20221230_E_cow\\20221230_152538_8796.mkv: 1088x1088 1 cow, 22.0ms\n",
      "WARNING  'Masks.masks' is deprecated. Use 'Masks.data' instead.\n",
      "video 1/1 (1879/3933) D:\\815_CowDataChecking\\20221230\\20221230_E_cow\\20221230_152538_8796.mkv: 1088x1088 1 cow, 20.0ms\n",
      "WARNING  'Masks.masks' is deprecated. Use 'Masks.data' instead.\n",
      "video 1/1 (1880/3933) D:\\815_CowDataChecking\\20221230\\20221230_E_cow\\20221230_152538_8796.mkv: 1088x1088 1 cow, 22.5ms\n",
      "video 1/1 (1881/3933) D:\\815_CowDataChecking\\20221230\\20221230_E_cow\\20221230_152538_8796.mkv: 1088x1088 1 cow, 26.7ms\n",
      "WARNING  'Masks.masks' is deprecated. Use 'Masks.data' instead.\n",
      "video 1/1 (1882/3933) D:\\815_CowDataChecking\\20221230\\20221230_E_cow\\20221230_152538_8796.mkv: 1088x1088 1 cow, 24.7ms\n",
      "WARNING  'Masks.masks' is deprecated. Use 'Masks.data' instead.\n",
      "video 1/1 (1883/3933) D:\\815_CowDataChecking\\20221230\\20221230_E_cow\\20221230_152538_8796.mkv: 1088x1088 1 cow, 18.9ms\n",
      "video 1/1 (1884/3933) D:\\815_CowDataChecking\\20221230\\20221230_E_cow\\20221230_152538_8796.mkv: 1088x1088 1 cow, 20.9ms\n",
      "WARNING  'Masks.masks' is deprecated. Use 'Masks.data' instead.\n",
      "video 1/1 (1885/3933) D:\\815_CowDataChecking\\20221230\\20221230_E_cow\\20221230_152538_8796.mkv: 1088x1088 1 cow, 19.7ms\n",
      "WARNING  'Masks.masks' is deprecated. Use 'Masks.data' instead.\n",
      "video 1/1 (1886/3933) D:\\815_CowDataChecking\\20221230\\20221230_E_cow\\20221230_152538_8796.mkv: 1088x1088 1 cow, 17.0ms\n",
      "video 1/1 (1887/3933) D:\\815_CowDataChecking\\20221230\\20221230_E_cow\\20221230_152538_8796.mkv: 1088x1088 1 cow, 25.0ms\n",
      "WARNING  'Masks.masks' is deprecated. Use 'Masks.data' instead.\n",
      "video 1/1 (1888/3933) D:\\815_CowDataChecking\\20221230\\20221230_E_cow\\20221230_152538_8796.mkv: 1088x1088 1 cow, 22.1ms\n",
      "WARNING  'Masks.masks' is deprecated. Use 'Masks.data' instead.\n",
      "video 1/1 (1889/3933) D:\\815_CowDataChecking\\20221230\\20221230_E_cow\\20221230_152538_8796.mkv: 1088x1088 1 cow, 22.5ms\n",
      "video 1/1 (1890/3933) D:\\815_CowDataChecking\\20221230\\20221230_E_cow\\20221230_152538_8796.mkv: 1088x1088 1 cow, 22.1ms\n",
      "WARNING  'Masks.masks' is deprecated. Use 'Masks.data' instead.\n",
      "video 1/1 (1891/3933) D:\\815_CowDataChecking\\20221230\\20221230_E_cow\\20221230_152538_8796.mkv: 1088x1088 1 cow, 18.2ms\n",
      "WARNING  'Masks.masks' is deprecated. Use 'Masks.data' instead.\n",
      "video 1/1 (1892/3933) D:\\815_CowDataChecking\\20221230\\20221230_E_cow\\20221230_152538_8796.mkv: 1088x1088 1 cow, 23.0ms\n",
      "video 1/1 (1893/3933) D:\\815_CowDataChecking\\20221230\\20221230_E_cow\\20221230_152538_8796.mkv: 1088x1088 1 cow, 23.4ms\n",
      "WARNING  'Masks.masks' is deprecated. Use 'Masks.data' instead.\n",
      "video 1/1 (1894/3933) D:\\815_CowDataChecking\\20221230\\20221230_E_cow\\20221230_152538_8796.mkv: 1088x1088 1 cow, 21.5ms\n",
      "WARNING  'Masks.masks' is deprecated. Use 'Masks.data' instead.\n",
      "video 1/1 (1895/3933) D:\\815_CowDataChecking\\20221230\\20221230_E_cow\\20221230_152538_8796.mkv: 1088x1088 1 cow, 22.3ms\n",
      "video 1/1 (1896/3933) D:\\815_CowDataChecking\\20221230\\20221230_E_cow\\20221230_152538_8796.mkv: 1088x1088 1 cow, 21.8ms\n",
      "WARNING  'Masks.masks' is deprecated. Use 'Masks.data' instead.\n",
      "video 1/1 (1897/3933) D:\\815_CowDataChecking\\20221230\\20221230_E_cow\\20221230_152538_8796.mkv: 1088x1088 1 cow, 17.8ms\n",
      "WARNING  'Masks.masks' is deprecated. Use 'Masks.data' instead.\n",
      "video 1/1 (1898/3933) D:\\815_CowDataChecking\\20221230\\20221230_E_cow\\20221230_152538_8796.mkv: 1088x1088 1 cow, 23.2ms\n",
      "video 1/1 (1899/3933) D:\\815_CowDataChecking\\20221230\\20221230_E_cow\\20221230_152538_8796.mkv: 1088x1088 1 cow, 17.9ms\n",
      "WARNING  'Masks.masks' is deprecated. Use 'Masks.data' instead.\n",
      "video 1/1 (1900/3933) D:\\815_CowDataChecking\\20221230\\20221230_E_cow\\20221230_152538_8796.mkv: 1088x1088 1 cow, 24.0ms\n",
      "WARNING  'Masks.masks' is deprecated. Use 'Masks.data' instead.\n",
      "video 1/1 (1901/3933) D:\\815_CowDataChecking\\20221230\\20221230_E_cow\\20221230_152538_8796.mkv: 1088x1088 1 cow, 23.1ms\n",
      "video 1/1 (1902/3933) D:\\815_CowDataChecking\\20221230\\20221230_E_cow\\20221230_152538_8796.mkv: 1088x1088 1 cow, 15.5ms\n",
      "WARNING  'Masks.masks' is deprecated. Use 'Masks.data' instead.\n",
      "video 1/1 (1903/3933) D:\\815_CowDataChecking\\20221230\\20221230_E_cow\\20221230_152538_8796.mkv: 1088x1088 1 cow, 21.7ms\n",
      "WARNING  'Masks.masks' is deprecated. Use 'Masks.data' instead.\n",
      "video 1/1 (1904/3933) D:\\815_CowDataChecking\\20221230\\20221230_E_cow\\20221230_152538_8796.mkv: 1088x1088 1 cow, 22.6ms\n",
      "video 1/1 (1905/3933) D:\\815_CowDataChecking\\20221230\\20221230_E_cow\\20221230_152538_8796.mkv: 1088x1088 1 cow, 23.3ms\n",
      "WARNING  'Masks.masks' is deprecated. Use 'Masks.data' instead.\n",
      "video 1/1 (1906/3933) D:\\815_CowDataChecking\\20221230\\20221230_E_cow\\20221230_152538_8796.mkv: 1088x1088 1 cow, 20.4ms\n",
      "WARNING  'Masks.masks' is deprecated. Use 'Masks.data' instead.\n",
      "video 1/1 (1907/3933) D:\\815_CowDataChecking\\20221230\\20221230_E_cow\\20221230_152538_8796.mkv: 1088x1088 1 cow, 23.5ms\n",
      "video 1/1 (1908/3933) D:\\815_CowDataChecking\\20221230\\20221230_E_cow\\20221230_152538_8796.mkv: 1088x1088 1 cow, 17.6ms\n",
      "WARNING  'Masks.masks' is deprecated. Use 'Masks.data' instead.\n",
      "video 1/1 (1909/3933) D:\\815_CowDataChecking\\20221230\\20221230_E_cow\\20221230_152538_8796.mkv: 1088x1088 1 cow, 23.2ms\n",
      "WARNING  'Masks.masks' is deprecated. Use 'Masks.data' instead.\n",
      "video 1/1 (1910/3933) D:\\815_CowDataChecking\\20221230\\20221230_E_cow\\20221230_152538_8796.mkv: 1088x1088 1 cow, 14.6ms\n",
      "video 1/1 (1911/3933) D:\\815_CowDataChecking\\20221230\\20221230_E_cow\\20221230_152538_8796.mkv: 1088x1088 1 cow, 22.5ms\n",
      "WARNING  'Masks.masks' is deprecated. Use 'Masks.data' instead.\n",
      "video 1/1 (1912/3933) D:\\815_CowDataChecking\\20221230\\20221230_E_cow\\20221230_152538_8796.mkv: 1088x1088 1 cow, 17.1ms\n",
      "WARNING  'Masks.masks' is deprecated. Use 'Masks.data' instead.\n",
      "video 1/1 (1913/3933) D:\\815_CowDataChecking\\20221230\\20221230_E_cow\\20221230_152538_8796.mkv: 1088x1088 1 cow, 14.6ms\n",
      "video 1/1 (1914/3933) D:\\815_CowDataChecking\\20221230\\20221230_E_cow\\20221230_152538_8796.mkv: 1088x1088 1 cow, 23.1ms\n",
      "WARNING  'Masks.masks' is deprecated. Use 'Masks.data' instead.\n",
      "video 1/1 (1915/3933) D:\\815_CowDataChecking\\20221230\\20221230_E_cow\\20221230_152538_8796.mkv: 1088x1088 1 cow, 21.4ms\n",
      "WARNING  'Masks.masks' is deprecated. Use 'Masks.data' instead.\n",
      "video 1/1 (1916/3933) D:\\815_CowDataChecking\\20221230\\20221230_E_cow\\20221230_152538_8796.mkv: 1088x1088 1 cow, 13.6ms\n",
      "video 1/1 (1917/3933) D:\\815_CowDataChecking\\20221230\\20221230_E_cow\\20221230_152538_8796.mkv: 1088x1088 1 cow, 17.6ms\n",
      "WARNING  'Masks.masks' is deprecated. Use 'Masks.data' instead.\n",
      "video 1/1 (1918/3933) D:\\815_CowDataChecking\\20221230\\20221230_E_cow\\20221230_152538_8796.mkv: 1088x1088 1 cow, 24.0ms\n",
      "WARNING  'Masks.masks' is deprecated. Use 'Masks.data' instead.\n",
      "video 1/1 (1919/3933) D:\\815_CowDataChecking\\20221230\\20221230_E_cow\\20221230_152538_8796.mkv: 1088x1088 1 cow, 23.1ms\n",
      "video 1/1 (1920/3933) D:\\815_CowDataChecking\\20221230\\20221230_E_cow\\20221230_152538_8796.mkv: 1088x1088 1 cow, 18.6ms\n",
      "WARNING  'Masks.masks' is deprecated. Use 'Masks.data' instead.\n",
      "video 1/1 (1921/3933) D:\\815_CowDataChecking\\20221230\\20221230_E_cow\\20221230_152538_8796.mkv: 1088x1088 1 cow, 22.0ms\n",
      "WARNING  'Masks.masks' is deprecated. Use 'Masks.data' instead.\n",
      "video 1/1 (1922/3933) D:\\815_CowDataChecking\\20221230\\20221230_E_cow\\20221230_152538_8796.mkv: 1088x1088 1 cow, 16.5ms\n",
      "video 1/1 (1923/3933) D:\\815_CowDataChecking\\20221230\\20221230_E_cow\\20221230_152538_8796.mkv: 1088x1088 1 cow, 23.4ms\n",
      "WARNING  'Masks.masks' is deprecated. Use 'Masks.data' instead.\n",
      "video 1/1 (1924/3933) D:\\815_CowDataChecking\\20221230\\20221230_E_cow\\20221230_152538_8796.mkv: 1088x1088 1 cow, 24.0ms\n",
      "WARNING  'Masks.masks' is deprecated. Use 'Masks.data' instead.\n",
      "video 1/1 (1925/3933) D:\\815_CowDataChecking\\20221230\\20221230_E_cow\\20221230_152538_8796.mkv: 1088x1088 1 cow, 17.9ms\n",
      "video 1/1 (1926/3933) D:\\815_CowDataChecking\\20221230\\20221230_E_cow\\20221230_152538_8796.mkv: 1088x1088 1 cow, 19.7ms\n",
      "WARNING  'Masks.masks' is deprecated. Use 'Masks.data' instead.\n",
      "video 1/1 (1927/3933) D:\\815_CowDataChecking\\20221230\\20221230_E_cow\\20221230_152538_8796.mkv: 1088x1088 1 cow, 15.3ms\n",
      "WARNING  'Masks.masks' is deprecated. Use 'Masks.data' instead.\n",
      "video 1/1 (1928/3933) D:\\815_CowDataChecking\\20221230\\20221230_E_cow\\20221230_152538_8796.mkv: 1088x1088 1 cow, 24.4ms\n",
      "video 1/1 (1929/3933) D:\\815_CowDataChecking\\20221230\\20221230_E_cow\\20221230_152538_8796.mkv: 1088x1088 1 cow, 22.6ms\n",
      "WARNING  'Masks.masks' is deprecated. Use 'Masks.data' instead.\n",
      "video 1/1 (1930/3933) D:\\815_CowDataChecking\\20221230\\20221230_E_cow\\20221230_152538_8796.mkv: 1088x1088 1 cow, 18.4ms\n",
      "WARNING  'Masks.masks' is deprecated. Use 'Masks.data' instead.\n",
      "video 1/1 (1931/3933) D:\\815_CowDataChecking\\20221230\\20221230_E_cow\\20221230_152538_8796.mkv: 1088x1088 1 cow, 22.8ms\n",
      "video 1/1 (1932/3933) D:\\815_CowDataChecking\\20221230\\20221230_E_cow\\20221230_152538_8796.mkv: 1088x1088 1 cow, 22.9ms\n",
      "WARNING  'Masks.masks' is deprecated. Use 'Masks.data' instead.\n",
      "video 1/1 (1933/3933) D:\\815_CowDataChecking\\20221230\\20221230_E_cow\\20221230_152538_8796.mkv: 1088x1088 1 cow, 19.1ms\n",
      "WARNING  'Masks.masks' is deprecated. Use 'Masks.data' instead.\n",
      "video 1/1 (1934/3933) D:\\815_CowDataChecking\\20221230\\20221230_E_cow\\20221230_152538_8796.mkv: 1088x1088 1 cow, 18.6ms\n",
      "video 1/1 (1935/3933) D:\\815_CowDataChecking\\20221230\\20221230_E_cow\\20221230_152538_8796.mkv: 1088x1088 1 cow, 19.8ms\n",
      "WARNING  'Masks.masks' is deprecated. Use 'Masks.data' instead.\n",
      "video 1/1 (1936/3933) D:\\815_CowDataChecking\\20221230\\20221230_E_cow\\20221230_152538_8796.mkv: 1088x1088 1 cow, 16.5ms\n",
      "WARNING  'Masks.masks' is deprecated. Use 'Masks.data' instead.\n",
      "video 1/1 (1937/3933) D:\\815_CowDataChecking\\20221230\\20221230_E_cow\\20221230_152538_8796.mkv: 1088x1088 1 cow, 21.1ms\n",
      "video 1/1 (1938/3933) D:\\815_CowDataChecking\\20221230\\20221230_E_cow\\20221230_152538_8796.mkv: 1088x1088 1 cow, 23.4ms\n",
      "WARNING  'Masks.masks' is deprecated. Use 'Masks.data' instead.\n",
      "video 1/1 (1939/3933) D:\\815_CowDataChecking\\20221230\\20221230_E_cow\\20221230_152538_8796.mkv: 1088x1088 1 cow, 21.0ms\n",
      "WARNING  'Masks.masks' is deprecated. Use 'Masks.data' instead.\n",
      "video 1/1 (1940/3933) D:\\815_CowDataChecking\\20221230\\20221230_E_cow\\20221230_152538_8796.mkv: 1088x1088 1 cow, 23.0ms\n",
      "video 1/1 (1941/3933) D:\\815_CowDataChecking\\20221230\\20221230_E_cow\\20221230_152538_8796.mkv: 1088x1088 1 cow, 22.0ms\n",
      "WARNING  'Masks.masks' is deprecated. Use 'Masks.data' instead.\n",
      "video 1/1 (1942/3933) D:\\815_CowDataChecking\\20221230\\20221230_E_cow\\20221230_152538_8796.mkv: 1088x1088 1 cow, 20.1ms\n",
      "WARNING  'Masks.masks' is deprecated. Use 'Masks.data' instead.\n",
      "video 1/1 (1943/3933) D:\\815_CowDataChecking\\20221230\\20221230_E_cow\\20221230_152538_8796.mkv: 1088x1088 1 cow, 14.6ms\n",
      "video 1/1 (1944/3933) D:\\815_CowDataChecking\\20221230\\20221230_E_cow\\20221230_152538_8796.mkv: 1088x1088 1 cow, 22.4ms\n",
      "WARNING  'Masks.masks' is deprecated. Use 'Masks.data' instead.\n",
      "video 1/1 (1945/3933) D:\\815_CowDataChecking\\20221230\\20221230_E_cow\\20221230_152538_8796.mkv: 1088x1088 1 cow, 21.1ms\n",
      "WARNING  'Masks.masks' is deprecated. Use 'Masks.data' instead.\n",
      "video 1/1 (1946/3933) D:\\815_CowDataChecking\\20221230\\20221230_E_cow\\20221230_152538_8796.mkv: 1088x1088 1 cow, 22.1ms\n",
      "video 1/1 (1947/3933) D:\\815_CowDataChecking\\20221230\\20221230_E_cow\\20221230_152538_8796.mkv: 1088x1088 1 cow, 23.6ms\n",
      "WARNING  'Masks.masks' is deprecated. Use 'Masks.data' instead.\n",
      "video 1/1 (1948/3933) D:\\815_CowDataChecking\\20221230\\20221230_E_cow\\20221230_152538_8796.mkv: 1088x1088 1 cow, 24.3ms\n",
      "WARNING  'Masks.masks' is deprecated. Use 'Masks.data' instead.\n",
      "video 1/1 (1949/3933) D:\\815_CowDataChecking\\20221230\\20221230_E_cow\\20221230_152538_8796.mkv: 1088x1088 1 cow, 15.7ms\n",
      "video 1/1 (1950/3933) D:\\815_CowDataChecking\\20221230\\20221230_E_cow\\20221230_152538_8796.mkv: 1088x1088 1 cow, 23.1ms\n",
      "WARNING  'Masks.masks' is deprecated. Use 'Masks.data' instead.\n",
      "video 1/1 (1951/3933) D:\\815_CowDataChecking\\20221230\\20221230_E_cow\\20221230_152538_8796.mkv: 1088x1088 1 cow, 22.6ms\n",
      "WARNING  'Masks.masks' is deprecated. Use 'Masks.data' instead.\n",
      "video 1/1 (1952/3933) D:\\815_CowDataChecking\\20221230\\20221230_E_cow\\20221230_152538_8796.mkv: 1088x1088 1 cow, 22.6ms\n",
      "video 1/1 (1953/3933) D:\\815_CowDataChecking\\20221230\\20221230_E_cow\\20221230_152538_8796.mkv: 1088x1088 1 cow, 14.5ms\n",
      "WARNING  'Masks.masks' is deprecated. Use 'Masks.data' instead.\n",
      "video 1/1 (1954/3933) D:\\815_CowDataChecking\\20221230\\20221230_E_cow\\20221230_152538_8796.mkv: 1088x1088 1 cow, 22.0ms\n",
      "WARNING  'Masks.masks' is deprecated. Use 'Masks.data' instead.\n",
      "video 1/1 (1955/3933) D:\\815_CowDataChecking\\20221230\\20221230_E_cow\\20221230_152538_8796.mkv: 1088x1088 1 cow, 23.4ms\n",
      "video 1/1 (1956/3933) D:\\815_CowDataChecking\\20221230\\20221230_E_cow\\20221230_152538_8796.mkv: 1088x1088 (no detections), 14.5ms\n",
      "video 1/1 (1957/3933) D:\\815_CowDataChecking\\20221230\\20221230_E_cow\\20221230_152538_8796.mkv: 1088x1088 (no detections), 14.4ms\n",
      "video 1/1 (1958/3933) D:\\815_CowDataChecking\\20221230\\20221230_E_cow\\20221230_152538_8796.mkv: 1088x1088 (no detections), 17.2ms\n",
      "video 1/1 (1959/3933) D:\\815_CowDataChecking\\20221230\\20221230_E_cow\\20221230_152538_8796.mkv: 1088x1088 (no detections), 14.7ms\n",
      "video 1/1 (1960/3933) D:\\815_CowDataChecking\\20221230\\20221230_E_cow\\20221230_152538_8796.mkv: 1088x1088 (no detections), 23.2ms\n",
      "video 1/1 (1961/3933) D:\\815_CowDataChecking\\20221230\\20221230_E_cow\\20221230_152538_8796.mkv: 1088x1088 (no detections), 25.4ms\n",
      "video 1/1 (1962/3933) D:\\815_CowDataChecking\\20221230\\20221230_E_cow\\20221230_152538_8796.mkv: 1088x1088 (no detections), 16.6ms\n",
      "video 1/1 (1963/3933) D:\\815_CowDataChecking\\20221230\\20221230_E_cow\\20221230_152538_8796.mkv: 1088x1088 (no detections), 24.1ms\n",
      "video 1/1 (1964/3933) D:\\815_CowDataChecking\\20221230\\20221230_E_cow\\20221230_152538_8796.mkv: 1088x1088 (no detections), 24.5ms\n",
      "video 1/1 (1965/3933) D:\\815_CowDataChecking\\20221230\\20221230_E_cow\\20221230_152538_8796.mkv: 1088x1088 (no detections), 23.1ms\n",
      "video 1/1 (1966/3933) D:\\815_CowDataChecking\\20221230\\20221230_E_cow\\20221230_152538_8796.mkv: 1088x1088 (no detections), 16.4ms\n",
      "video 1/1 (1967/3933) D:\\815_CowDataChecking\\20221230\\20221230_E_cow\\20221230_152538_8796.mkv: 1088x1088 (no detections), 24.2ms\n",
      "video 1/1 (1968/3933) D:\\815_CowDataChecking\\20221230\\20221230_E_cow\\20221230_152538_8796.mkv: 1088x1088 (no detections), 24.2ms\n",
      "video 1/1 (1969/3933) D:\\815_CowDataChecking\\20221230\\20221230_E_cow\\20221230_152538_8796.mkv: 1088x1088 (no detections), 15.2ms\n",
      "video 1/1 (1970/3933) D:\\815_CowDataChecking\\20221230\\20221230_E_cow\\20221230_152538_8796.mkv: 1088x1088 (no detections), 24.1ms\n",
      "video 1/1 (1971/3933) D:\\815_CowDataChecking\\20221230\\20221230_E_cow\\20221230_152538_8796.mkv: 1088x1088 (no detections), 24.1ms\n",
      "video 1/1 (1972/3933) D:\\815_CowDataChecking\\20221230\\20221230_E_cow\\20221230_152538_8796.mkv: 1088x1088 (no detections), 24.1ms\n",
      "video 1/1 (1973/3933) D:\\815_CowDataChecking\\20221230\\20221230_E_cow\\20221230_152538_8796.mkv: 1088x1088 (no detections), 17.2ms\n",
      "video 1/1 (1974/3933) D:\\815_CowDataChecking\\20221230\\20221230_E_cow\\20221230_152538_8796.mkv: 1088x1088 (no detections), 22.2ms\n",
      "video 1/1 (1975/3933) D:\\815_CowDataChecking\\20221230\\20221230_E_cow\\20221230_152538_8796.mkv: 1088x1088 (no detections), 24.4ms\n",
      "video 1/1 (1976/3933) D:\\815_CowDataChecking\\20221230\\20221230_E_cow\\20221230_152538_8796.mkv: 1088x1088 (no detections), 19.1ms\n",
      "video 1/1 (1977/3933) D:\\815_CowDataChecking\\20221230\\20221230_E_cow\\20221230_152538_8796.mkv: 1088x1088 (no detections), 23.1ms\n",
      "video 1/1 (1978/3933) D:\\815_CowDataChecking\\20221230\\20221230_E_cow\\20221230_152538_8796.mkv: 1088x1088 (no detections), 21.1ms\n",
      "video 1/1 (1979/3933) D:\\815_CowDataChecking\\20221230\\20221230_E_cow\\20221230_152538_8796.mkv: 1088x1088 (no detections), 23.0ms\n",
      "video 1/1 (1980/3933) D:\\815_CowDataChecking\\20221230\\20221230_E_cow\\20221230_152538_8796.mkv: 1088x1088 (no detections), 21.1ms\n",
      "video 1/1 (1981/3933) D:\\815_CowDataChecking\\20221230\\20221230_E_cow\\20221230_152538_8796.mkv: 1088x1088 (no detections), 20.1ms\n",
      "video 1/1 (1982/3933) D:\\815_CowDataChecking\\20221230\\20221230_E_cow\\20221230_152538_8796.mkv: 1088x1088 (no detections), 23.1ms\n",
      "video 1/1 (1983/3933) D:\\815_CowDataChecking\\20221230\\20221230_E_cow\\20221230_152538_8796.mkv: 1088x1088 (no detections), 23.0ms\n",
      "video 1/1 (1984/3933) D:\\815_CowDataChecking\\20221230\\20221230_E_cow\\20221230_152538_8796.mkv: 1088x1088 (no detections), 21.0ms\n",
      "video 1/1 (1985/3933) D:\\815_CowDataChecking\\20221230\\20221230_E_cow\\20221230_152538_8796.mkv: 1088x1088 (no detections), 23.2ms\n",
      "video 1/1 (1986/3933) D:\\815_CowDataChecking\\20221230\\20221230_E_cow\\20221230_152538_8796.mkv: 1088x1088 (no detections), 22.2ms\n",
      "video 1/1 (1987/3933) D:\\815_CowDataChecking\\20221230\\20221230_E_cow\\20221230_152538_8796.mkv: 1088x1088 (no detections), 22.3ms\n",
      "video 1/1 (1988/3933) D:\\815_CowDataChecking\\20221230\\20221230_E_cow\\20221230_152538_8796.mkv: 1088x1088 (no detections), 14.4ms\n",
      "video 1/1 (1989/3933) D:\\815_CowDataChecking\\20221230\\20221230_E_cow\\20221230_152538_8796.mkv: 1088x1088 (no detections), 24.2ms\n",
      "video 1/1 (1990/3933) D:\\815_CowDataChecking\\20221230\\20221230_E_cow\\20221230_152538_8796.mkv: 1088x1088 (no detections), 23.9ms\n",
      "video 1/1 (1991/3933) D:\\815_CowDataChecking\\20221230\\20221230_E_cow\\20221230_152538_8796.mkv: 1088x1088 (no detections), 18.0ms\n",
      "video 1/1 (1992/3933) D:\\815_CowDataChecking\\20221230\\20221230_E_cow\\20221230_152538_8796.mkv: 1088x1088 (no detections), 22.2ms\n",
      "video 1/1 (1993/3933) D:\\815_CowDataChecking\\20221230\\20221230_E_cow\\20221230_152538_8796.mkv: 1088x1088 (no detections), 22.0ms\n",
      "video 1/1 (1994/3933) D:\\815_CowDataChecking\\20221230\\20221230_E_cow\\20221230_152538_8796.mkv: 1088x1088 (no detections), 22.1ms\n",
      "video 1/1 (1995/3933) D:\\815_CowDataChecking\\20221230\\20221230_E_cow\\20221230_152538_8796.mkv: 1088x1088 (no detections), 21.1ms\n",
      "video 1/1 (1996/3933) D:\\815_CowDataChecking\\20221230\\20221230_E_cow\\20221230_152538_8796.mkv: 1088x1088 (no detections), 21.3ms\n",
      "video 1/1 (1997/3933) D:\\815_CowDataChecking\\20221230\\20221230_E_cow\\20221230_152538_8796.mkv: 1088x1088 (no detections), 23.3ms\n",
      "video 1/1 (1998/3933) D:\\815_CowDataChecking\\20221230\\20221230_E_cow\\20221230_152538_8796.mkv: 1088x1088 (no detections), 23.0ms\n",
      "video 1/1 (1999/3933) D:\\815_CowDataChecking\\20221230\\20221230_E_cow\\20221230_152538_8796.mkv: 1088x1088 (no detections), 30.0ms\n",
      "video 1/1 (2000/3933) D:\\815_CowDataChecking\\20221230\\20221230_E_cow\\20221230_152538_8796.mkv: 1088x1088 (no detections), 22.3ms\n",
      "video 1/1 (2001/3933) D:\\815_CowDataChecking\\20221230\\20221230_E_cow\\20221230_152538_8796.mkv: 1088x1088 (no detections), 23.2ms\n",
      "video 1/1 (2002/3933) D:\\815_CowDataChecking\\20221230\\20221230_E_cow\\20221230_152538_8796.mkv: 1088x1088 (no detections), 21.2ms\n",
      "video 1/1 (2003/3933) D:\\815_CowDataChecking\\20221230\\20221230_E_cow\\20221230_152538_8796.mkv: 1088x1088 (no detections), 18.3ms\n",
      "video 1/1 (2004/3933) D:\\815_CowDataChecking\\20221230\\20221230_E_cow\\20221230_152538_8796.mkv: 1088x1088 (no detections), 17.2ms\n",
      "video 1/1 (2005/3933) D:\\815_CowDataChecking\\20221230\\20221230_E_cow\\20221230_152538_8796.mkv: 1088x1088 (no detections), 16.5ms\n",
      "video 1/1 (2006/3933) D:\\815_CowDataChecking\\20221230\\20221230_E_cow\\20221230_152538_8796.mkv: 1088x1088 (no detections), 21.1ms\n",
      "video 1/1 (2007/3933) D:\\815_CowDataChecking\\20221230\\20221230_E_cow\\20221230_152538_8796.mkv: 1088x1088 (no detections), 24.4ms\n",
      "video 1/1 (2008/3933) D:\\815_CowDataChecking\\20221230\\20221230_E_cow\\20221230_152538_8796.mkv: 1088x1088 (no detections), 16.5ms\n",
      "video 1/1 (2009/3933) D:\\815_CowDataChecking\\20221230\\20221230_E_cow\\20221230_152538_8796.mkv: 1088x1088 (no detections), 22.1ms\n",
      "video 1/1 (2010/3933) D:\\815_CowDataChecking\\20221230\\20221230_E_cow\\20221230_152538_8796.mkv: 1088x1088 (no detections), 22.8ms\n",
      "video 1/1 (2011/3933) D:\\815_CowDataChecking\\20221230\\20221230_E_cow\\20221230_152538_8796.mkv: 1088x1088 (no detections), 21.4ms\n",
      "video 1/1 (2012/3933) D:\\815_CowDataChecking\\20221230\\20221230_E_cow\\20221230_152538_8796.mkv: 1088x1088 (no detections), 23.1ms\n",
      "video 1/1 (2013/3933) D:\\815_CowDataChecking\\20221230\\20221230_E_cow\\20221230_152538_8796.mkv: 1088x1088 (no detections), 24.3ms\n",
      "video 1/1 (2014/3933) D:\\815_CowDataChecking\\20221230\\20221230_E_cow\\20221230_152538_8796.mkv: 1088x1088 (no detections), 22.5ms\n",
      "video 1/1 (2015/3933) D:\\815_CowDataChecking\\20221230\\20221230_E_cow\\20221230_152538_8796.mkv: 1088x1088 (no detections), 22.2ms\n",
      "video 1/1 (2016/3933) D:\\815_CowDataChecking\\20221230\\20221230_E_cow\\20221230_152538_8796.mkv: 1088x1088 (no detections), 18.4ms\n",
      "video 1/1 (2017/3933) D:\\815_CowDataChecking\\20221230\\20221230_E_cow\\20221230_152538_8796.mkv: 1088x1088 (no detections), 17.2ms\n",
      "video 1/1 (2018/3933) D:\\815_CowDataChecking\\20221230\\20221230_E_cow\\20221230_152538_8796.mkv: 1088x1088 (no detections), 25.0ms\n",
      "video 1/1 (2019/3933) D:\\815_CowDataChecking\\20221230\\20221230_E_cow\\20221230_152538_8796.mkv: 1088x1088 (no detections), 17.1ms\n",
      "video 1/1 (2020/3933) D:\\815_CowDataChecking\\20221230\\20221230_E_cow\\20221230_152538_8796.mkv: 1088x1088 (no detections), 15.3ms\n",
      "video 1/1 (2021/3933) D:\\815_CowDataChecking\\20221230\\20221230_E_cow\\20221230_152538_8796.mkv: 1088x1088 (no detections), 21.1ms\n",
      "video 1/1 (2022/3933) D:\\815_CowDataChecking\\20221230\\20221230_E_cow\\20221230_152538_8796.mkv: 1088x1088 (no detections), 19.0ms\n",
      "video 1/1 (2023/3933) D:\\815_CowDataChecking\\20221230\\20221230_E_cow\\20221230_152538_8796.mkv: 1088x1088 (no detections), 17.4ms\n",
      "video 1/1 (2024/3933) D:\\815_CowDataChecking\\20221230\\20221230_E_cow\\20221230_152538_8796.mkv: 1088x1088 (no detections), 22.2ms\n",
      "video 1/1 (2025/3933) D:\\815_CowDataChecking\\20221230\\20221230_E_cow\\20221230_152538_8796.mkv: 1088x1088 (no detections), 19.5ms\n",
      "video 1/1 (2026/3933) D:\\815_CowDataChecking\\20221230\\20221230_E_cow\\20221230_152538_8796.mkv: 1088x1088 (no detections), 16.6ms\n",
      "video 1/1 (2027/3933) D:\\815_CowDataChecking\\20221230\\20221230_E_cow\\20221230_152538_8796.mkv: 1088x1088 (no detections), 24.3ms\n",
      "video 1/1 (2028/3933) D:\\815_CowDataChecking\\20221230\\20221230_E_cow\\20221230_152538_8796.mkv: 1088x1088 (no detections), 22.0ms\n",
      "video 1/1 (2029/3933) D:\\815_CowDataChecking\\20221230\\20221230_E_cow\\20221230_152538_8796.mkv: 1088x1088 (no detections), 22.1ms\n",
      "video 1/1 (2030/3933) D:\\815_CowDataChecking\\20221230\\20221230_E_cow\\20221230_152538_8796.mkv: 1088x1088 (no detections), 18.2ms\n",
      "video 1/1 (2031/3933) D:\\815_CowDataChecking\\20221230\\20221230_E_cow\\20221230_152538_8796.mkv: 1088x1088 (no detections), 16.5ms\n",
      "video 1/1 (2032/3933) D:\\815_CowDataChecking\\20221230\\20221230_E_cow\\20221230_152538_8796.mkv: 1088x1088 (no detections), 20.1ms\n",
      "video 1/1 (2033/3933) D:\\815_CowDataChecking\\20221230\\20221230_E_cow\\20221230_152538_8796.mkv: 1088x1088 (no detections), 17.3ms\n",
      "video 1/1 (2034/3933) D:\\815_CowDataChecking\\20221230\\20221230_E_cow\\20221230_152538_8796.mkv: 1088x1088 (no detections), 20.0ms\n",
      "video 1/1 (2035/3933) D:\\815_CowDataChecking\\20221230\\20221230_E_cow\\20221230_152538_8796.mkv: 1088x1088 (no detections), 20.0ms\n",
      "video 1/1 (2036/3933) D:\\815_CowDataChecking\\20221230\\20221230_E_cow\\20221230_152538_8796.mkv: 1088x1088 (no detections), 24.5ms\n",
      "video 1/1 (2037/3933) D:\\815_CowDataChecking\\20221230\\20221230_E_cow\\20221230_152538_8796.mkv: 1088x1088 (no detections), 23.4ms\n",
      "video 1/1 (2038/3933) D:\\815_CowDataChecking\\20221230\\20221230_E_cow\\20221230_152538_8796.mkv: 1088x1088 (no detections), 19.4ms\n",
      "video 1/1 (2039/3933) D:\\815_CowDataChecking\\20221230\\20221230_E_cow\\20221230_152538_8796.mkv: 1088x1088 (no detections), 23.3ms\n",
      "video 1/1 (2040/3933) D:\\815_CowDataChecking\\20221230\\20221230_E_cow\\20221230_152538_8796.mkv: 1088x1088 (no detections), 21.7ms\n",
      "video 1/1 (2041/3933) D:\\815_CowDataChecking\\20221230\\20221230_E_cow\\20221230_152538_8796.mkv: 1088x1088 (no detections), 20.0ms\n",
      "video 1/1 (2042/3933) D:\\815_CowDataChecking\\20221230\\20221230_E_cow\\20221230_152538_8796.mkv: 1088x1088 (no detections), 22.2ms\n",
      "video 1/1 (2043/3933) D:\\815_CowDataChecking\\20221230\\20221230_E_cow\\20221230_152538_8796.mkv: 1088x1088 (no detections), 25.2ms\n",
      "video 1/1 (2044/3933) D:\\815_CowDataChecking\\20221230\\20221230_E_cow\\20221230_152538_8796.mkv: 1088x1088 (no detections), 24.4ms\n",
      "video 1/1 (2045/3933) D:\\815_CowDataChecking\\20221230\\20221230_E_cow\\20221230_152538_8796.mkv: 1088x1088 (no detections), 18.7ms\n",
      "video 1/1 (2046/3933) D:\\815_CowDataChecking\\20221230\\20221230_E_cow\\20221230_152538_8796.mkv: 1088x1088 (no detections), 23.3ms\n",
      "video 1/1 (2047/3933) D:\\815_CowDataChecking\\20221230\\20221230_E_cow\\20221230_152538_8796.mkv: 1088x1088 (no detections), 22.3ms\n",
      "video 1/1 (2048/3933) D:\\815_CowDataChecking\\20221230\\20221230_E_cow\\20221230_152538_8796.mkv: 1088x1088 (no detections), 23.6ms\n",
      "video 1/1 (2049/3933) D:\\815_CowDataChecking\\20221230\\20221230_E_cow\\20221230_152538_8796.mkv: 1088x1088 (no detections), 19.3ms\n",
      "video 1/1 (2050/3933) D:\\815_CowDataChecking\\20221230\\20221230_E_cow\\20221230_152538_8796.mkv: 1088x1088 (no detections), 17.1ms\n",
      "video 1/1 (2051/3933) D:\\815_CowDataChecking\\20221230\\20221230_E_cow\\20221230_152538_8796.mkv: 1088x1088 (no detections), 19.0ms\n",
      "video 1/1 (2052/3933) D:\\815_CowDataChecking\\20221230\\20221230_E_cow\\20221230_152538_8796.mkv: 1088x1088 (no detections), 22.3ms\n",
      "video 1/1 (2053/3933) D:\\815_CowDataChecking\\20221230\\20221230_E_cow\\20221230_152538_8796.mkv: 1088x1088 (no detections), 21.3ms\n",
      "video 1/1 (2054/3933) D:\\815_CowDataChecking\\20221230\\20221230_E_cow\\20221230_152538_8796.mkv: 1088x1088 (no detections), 21.6ms\n",
      "video 1/1 (2055/3933) D:\\815_CowDataChecking\\20221230\\20221230_E_cow\\20221230_152538_8796.mkv: 1088x1088 (no detections), 23.4ms\n",
      "video 1/1 (2056/3933) D:\\815_CowDataChecking\\20221230\\20221230_E_cow\\20221230_152538_8796.mkv: 1088x1088 (no detections), 22.2ms\n",
      "video 1/1 (2057/3933) D:\\815_CowDataChecking\\20221230\\20221230_E_cow\\20221230_152538_8796.mkv: 1088x1088 (no detections), 24.4ms\n",
      "video 1/1 (2058/3933) D:\\815_CowDataChecking\\20221230\\20221230_E_cow\\20221230_152538_8796.mkv: 1088x1088 (no detections), 25.0ms\n",
      "video 1/1 (2059/3933) D:\\815_CowDataChecking\\20221230\\20221230_E_cow\\20221230_152538_8796.mkv: 1088x1088 (no detections), 25.3ms\n",
      "video 1/1 (2060/3933) D:\\815_CowDataChecking\\20221230\\20221230_E_cow\\20221230_152538_8796.mkv: 1088x1088 (no detections), 20.0ms\n",
      "video 1/1 (2061/3933) D:\\815_CowDataChecking\\20221230\\20221230_E_cow\\20221230_152538_8796.mkv: 1088x1088 (no detections), 18.1ms\n",
      "video 1/1 (2062/3933) D:\\815_CowDataChecking\\20221230\\20221230_E_cow\\20221230_152538_8796.mkv: 1088x1088 (no detections), 18.0ms\n",
      "video 1/1 (2063/3933) D:\\815_CowDataChecking\\20221230\\20221230_E_cow\\20221230_152538_8796.mkv: 1088x1088 (no detections), 20.9ms\n",
      "video 1/1 (2064/3933) D:\\815_CowDataChecking\\20221230\\20221230_E_cow\\20221230_152538_8796.mkv: 1088x1088 (no detections), 25.8ms\n",
      "video 1/1 (2065/3933) D:\\815_CowDataChecking\\20221230\\20221230_E_cow\\20221230_152538_8796.mkv: 1088x1088 (no detections), 24.1ms\n",
      "video 1/1 (2066/3933) D:\\815_CowDataChecking\\20221230\\20221230_E_cow\\20221230_152538_8796.mkv: 1088x1088 (no detections), 21.2ms\n",
      "video 1/1 (2067/3933) D:\\815_CowDataChecking\\20221230\\20221230_E_cow\\20221230_152538_8796.mkv: 1088x1088 (no detections), 16.2ms\n",
      "video 1/1 (2068/3933) D:\\815_CowDataChecking\\20221230\\20221230_E_cow\\20221230_152538_8796.mkv: 1088x1088 (no detections), 23.1ms\n",
      "video 1/1 (2069/3933) D:\\815_CowDataChecking\\20221230\\20221230_E_cow\\20221230_152538_8796.mkv: 1088x1088 (no detections), 20.8ms\n",
      "video 1/1 (2070/3933) D:\\815_CowDataChecking\\20221230\\20221230_E_cow\\20221230_152538_8796.mkv: 1088x1088 (no detections), 23.6ms\n",
      "video 1/1 (2071/3933) D:\\815_CowDataChecking\\20221230\\20221230_E_cow\\20221230_152538_8796.mkv: 1088x1088 (no detections), 21.5ms\n",
      "video 1/1 (2072/3933) D:\\815_CowDataChecking\\20221230\\20221230_E_cow\\20221230_152538_8796.mkv: 1088x1088 (no detections), 18.4ms\n",
      "video 1/1 (2073/3933) D:\\815_CowDataChecking\\20221230\\20221230_E_cow\\20221230_152538_8796.mkv: 1088x1088 (no detections), 23.0ms\n",
      "video 1/1 (2074/3933) D:\\815_CowDataChecking\\20221230\\20221230_E_cow\\20221230_152538_8796.mkv: 1088x1088 (no detections), 22.6ms\n",
      "video 1/1 (2075/3933) D:\\815_CowDataChecking\\20221230\\20221230_E_cow\\20221230_152538_8796.mkv: 1088x1088 (no detections), 17.1ms\n",
      "video 1/1 (2076/3933) D:\\815_CowDataChecking\\20221230\\20221230_E_cow\\20221230_152538_8796.mkv: 1088x1088 (no detections), 22.1ms\n",
      "video 1/1 (2077/3933) D:\\815_CowDataChecking\\20221230\\20221230_E_cow\\20221230_152538_8796.mkv: 1088x1088 (no detections), 20.6ms\n",
      "video 1/1 (2078/3933) D:\\815_CowDataChecking\\20221230\\20221230_E_cow\\20221230_152538_8796.mkv: 1088x1088 (no detections), 23.2ms\n",
      "video 1/1 (2079/3933) D:\\815_CowDataChecking\\20221230\\20221230_E_cow\\20221230_152538_8796.mkv: 1088x1088 (no detections), 23.3ms\n",
      "video 1/1 (2080/3933) D:\\815_CowDataChecking\\20221230\\20221230_E_cow\\20221230_152538_8796.mkv: 1088x1088 (no detections), 21.1ms\n",
      "video 1/1 (2081/3933) D:\\815_CowDataChecking\\20221230\\20221230_E_cow\\20221230_152538_8796.mkv: 1088x1088 (no detections), 22.4ms\n",
      "video 1/1 (2082/3933) D:\\815_CowDataChecking\\20221230\\20221230_E_cow\\20221230_152538_8796.mkv: 1088x1088 (no detections), 24.5ms\n",
      "video 1/1 (2083/3933) D:\\815_CowDataChecking\\20221230\\20221230_E_cow\\20221230_152538_8796.mkv: 1088x1088 (no detections), 22.5ms\n",
      "video 1/1 (2084/3933) D:\\815_CowDataChecking\\20221230\\20221230_E_cow\\20221230_152538_8796.mkv: 1088x1088 (no detections), 25.5ms\n",
      "video 1/1 (2085/3933) D:\\815_CowDataChecking\\20221230\\20221230_E_cow\\20221230_152538_8796.mkv: 1088x1088 (no detections), 17.0ms\n",
      "video 1/1 (2086/3933) D:\\815_CowDataChecking\\20221230\\20221230_E_cow\\20221230_152538_8796.mkv: 1088x1088 (no detections), 24.2ms\n",
      "video 1/1 (2087/3933) D:\\815_CowDataChecking\\20221230\\20221230_E_cow\\20221230_152538_8796.mkv: 1088x1088 (no detections), 23.1ms\n",
      "video 1/1 (2088/3933) D:\\815_CowDataChecking\\20221230\\20221230_E_cow\\20221230_152538_8796.mkv: 1088x1088 (no detections), 23.5ms\n",
      "video 1/1 (2089/3933) D:\\815_CowDataChecking\\20221230\\20221230_E_cow\\20221230_152538_8796.mkv: 1088x1088 (no detections), 17.7ms\n",
      "video 1/1 (2090/3933) D:\\815_CowDataChecking\\20221230\\20221230_E_cow\\20221230_152538_8796.mkv: 1088x1088 (no detections), 15.9ms\n",
      "video 1/1 (2091/3933) D:\\815_CowDataChecking\\20221230\\20221230_E_cow\\20221230_152538_8796.mkv: 1088x1088 (no detections), 22.1ms\n",
      "video 1/1 (2092/3933) D:\\815_CowDataChecking\\20221230\\20221230_E_cow\\20221230_152538_8796.mkv: 1088x1088 (no detections), 22.7ms\n",
      "video 1/1 (2093/3933) D:\\815_CowDataChecking\\20221230\\20221230_E_cow\\20221230_152538_8796.mkv: 1088x1088 (no detections), 22.7ms\n",
      "video 1/1 (2094/3933) D:\\815_CowDataChecking\\20221230\\20221230_E_cow\\20221230_152538_8796.mkv: 1088x1088 (no detections), 23.1ms\n",
      "video 1/1 (2095/3933) D:\\815_CowDataChecking\\20221230\\20221230_E_cow\\20221230_152538_8796.mkv: 1088x1088 (no detections), 22.1ms\n",
      "video 1/1 (2096/3933) D:\\815_CowDataChecking\\20221230\\20221230_E_cow\\20221230_152538_8796.mkv: 1088x1088 (no detections), 23.5ms\n",
      "video 1/1 (2097/3933) D:\\815_CowDataChecking\\20221230\\20221230_E_cow\\20221230_152538_8796.mkv: 1088x1088 (no detections), 23.9ms\n",
      "video 1/1 (2098/3933) D:\\815_CowDataChecking\\20221230\\20221230_E_cow\\20221230_152538_8796.mkv: 1088x1088 (no detections), 24.0ms\n",
      "video 1/1 (2099/3933) D:\\815_CowDataChecking\\20221230\\20221230_E_cow\\20221230_152538_8796.mkv: 1088x1088 (no detections), 16.6ms\n",
      "video 1/1 (2100/3933) D:\\815_CowDataChecking\\20221230\\20221230_E_cow\\20221230_152538_8796.mkv: 1088x1088 (no detections), 18.1ms\n",
      "video 1/1 (2101/3933) D:\\815_CowDataChecking\\20221230\\20221230_E_cow\\20221230_152538_8796.mkv: 1088x1088 (no detections), 15.4ms\n",
      "video 1/1 (2102/3933) D:\\815_CowDataChecking\\20221230\\20221230_E_cow\\20221230_152538_8796.mkv: 1088x1088 (no detections), 19.9ms\n",
      "video 1/1 (2103/3933) D:\\815_CowDataChecking\\20221230\\20221230_E_cow\\20221230_152538_8796.mkv: 1088x1088 (no detections), 23.2ms\n",
      "video 1/1 (2104/3933) D:\\815_CowDataChecking\\20221230\\20221230_E_cow\\20221230_152538_8796.mkv: 1088x1088 (no detections), 23.4ms\n",
      "video 1/1 (2105/3933) D:\\815_CowDataChecking\\20221230\\20221230_E_cow\\20221230_152538_8796.mkv: 1088x1088 (no detections), 16.1ms\n",
      "video 1/1 (2106/3933) D:\\815_CowDataChecking\\20221230\\20221230_E_cow\\20221230_152538_8796.mkv: 1088x1088 (no detections), 22.0ms\n",
      "video 1/1 (2107/3933) D:\\815_CowDataChecking\\20221230\\20221230_E_cow\\20221230_152538_8796.mkv: 1088x1088 (no detections), 23.0ms\n",
      "video 1/1 (2108/3933) D:\\815_CowDataChecking\\20221230\\20221230_E_cow\\20221230_152538_8796.mkv: 1088x1088 (no detections), 23.4ms\n",
      "video 1/1 (2109/3933) D:\\815_CowDataChecking\\20221230\\20221230_E_cow\\20221230_152538_8796.mkv: 1088x1088 (no detections), 22.5ms\n",
      "video 1/1 (2110/3933) D:\\815_CowDataChecking\\20221230\\20221230_E_cow\\20221230_152538_8796.mkv: 1088x1088 (no detections), 21.0ms\n",
      "video 1/1 (2111/3933) D:\\815_CowDataChecking\\20221230\\20221230_E_cow\\20221230_152538_8796.mkv: 1088x1088 (no detections), 24.1ms\n",
      "video 1/1 (2112/3933) D:\\815_CowDataChecking\\20221230\\20221230_E_cow\\20221230_152538_8796.mkv: 1088x1088 (no detections), 19.0ms\n",
      "video 1/1 (2113/3933) D:\\815_CowDataChecking\\20221230\\20221230_E_cow\\20221230_152538_8796.mkv: 1088x1088 (no detections), 16.9ms\n",
      "video 1/1 (2114/3933) D:\\815_CowDataChecking\\20221230\\20221230_E_cow\\20221230_152538_8796.mkv: 1088x1088 (no detections), 19.1ms\n",
      "video 1/1 (2115/3933) D:\\815_CowDataChecking\\20221230\\20221230_E_cow\\20221230_152538_8796.mkv: 1088x1088 (no detections), 24.1ms\n",
      "video 1/1 (2116/3933) D:\\815_CowDataChecking\\20221230\\20221230_E_cow\\20221230_152538_8796.mkv: 1088x1088 (no detections), 22.1ms\n",
      "video 1/1 (2117/3933) D:\\815_CowDataChecking\\20221230\\20221230_E_cow\\20221230_152538_8796.mkv: 1088x1088 (no detections), 20.2ms\n",
      "video 1/1 (2118/3933) D:\\815_CowDataChecking\\20221230\\20221230_E_cow\\20221230_152538_8796.mkv: 1088x1088 (no detections), 26.1ms\n",
      "video 1/1 (2119/3933) D:\\815_CowDataChecking\\20221230\\20221230_E_cow\\20221230_152538_8796.mkv: 1088x1088 (no detections), 23.5ms\n",
      "video 1/1 (2120/3933) D:\\815_CowDataChecking\\20221230\\20221230_E_cow\\20221230_152538_8796.mkv: 1088x1088 (no detections), 24.5ms\n",
      "video 1/1 (2121/3933) D:\\815_CowDataChecking\\20221230\\20221230_E_cow\\20221230_152538_8796.mkv: 1088x1088 (no detections), 22.5ms\n",
      "video 1/1 (2122/3933) D:\\815_CowDataChecking\\20221230\\20221230_E_cow\\20221230_152538_8796.mkv: 1088x1088 (no detections), 21.1ms\n",
      "video 1/1 (2123/3933) D:\\815_CowDataChecking\\20221230\\20221230_E_cow\\20221230_152538_8796.mkv: 1088x1088 (no detections), 23.5ms\n",
      "video 1/1 (2124/3933) D:\\815_CowDataChecking\\20221230\\20221230_E_cow\\20221230_152538_8796.mkv: 1088x1088 (no detections), 23.5ms\n",
      "video 1/1 (2125/3933) D:\\815_CowDataChecking\\20221230\\20221230_E_cow\\20221230_152538_8796.mkv: 1088x1088 (no detections), 25.1ms\n",
      "video 1/1 (2126/3933) D:\\815_CowDataChecking\\20221230\\20221230_E_cow\\20221230_152538_8796.mkv: 1088x1088 (no detections), 17.4ms\n",
      "video 1/1 (2127/3933) D:\\815_CowDataChecking\\20221230\\20221230_E_cow\\20221230_152538_8796.mkv: 1088x1088 (no detections), 22.2ms\n",
      "video 1/1 (2128/3933) D:\\815_CowDataChecking\\20221230\\20221230_E_cow\\20221230_152538_8796.mkv: 1088x1088 (no detections), 21.1ms\n",
      "video 1/1 (2129/3933) D:\\815_CowDataChecking\\20221230\\20221230_E_cow\\20221230_152538_8796.mkv: 1088x1088 (no detections), 23.3ms\n",
      "video 1/1 (2130/3933) D:\\815_CowDataChecking\\20221230\\20221230_E_cow\\20221230_152538_8796.mkv: 1088x1088 (no detections), 19.5ms\n",
      "video 1/1 (2131/3933) D:\\815_CowDataChecking\\20221230\\20221230_E_cow\\20221230_152538_8796.mkv: 1088x1088 (no detections), 24.2ms\n",
      "video 1/1 (2132/3933) D:\\815_CowDataChecking\\20221230\\20221230_E_cow\\20221230_152538_8796.mkv: 1088x1088 (no detections), 23.4ms\n",
      "video 1/1 (2133/3933) D:\\815_CowDataChecking\\20221230\\20221230_E_cow\\20221230_152538_8796.mkv: 1088x1088 (no detections), 25.1ms\n",
      "video 1/1 (2134/3933) D:\\815_CowDataChecking\\20221230\\20221230_E_cow\\20221230_152538_8796.mkv: 1088x1088 (no detections), 21.1ms\n",
      "video 1/1 (2135/3933) D:\\815_CowDataChecking\\20221230\\20221230_E_cow\\20221230_152538_8796.mkv: 1088x1088 (no detections), 23.1ms\n",
      "video 1/1 (2136/3933) D:\\815_CowDataChecking\\20221230\\20221230_E_cow\\20221230_152538_8796.mkv: 1088x1088 (no detections), 23.2ms\n",
      "video 1/1 (2137/3933) D:\\815_CowDataChecking\\20221230\\20221230_E_cow\\20221230_152538_8796.mkv: 1088x1088 (no detections), 22.4ms\n",
      "video 1/1 (2138/3933) D:\\815_CowDataChecking\\20221230\\20221230_E_cow\\20221230_152538_8796.mkv: 1088x1088 (no detections), 17.1ms\n",
      "video 1/1 (2139/3933) D:\\815_CowDataChecking\\20221230\\20221230_E_cow\\20221230_152538_8796.mkv: 1088x1088 (no detections), 27.9ms\n",
      "video 1/1 (2140/3933) D:\\815_CowDataChecking\\20221230\\20221230_E_cow\\20221230_152538_8796.mkv: 1088x1088 (no detections), 25.2ms\n",
      "video 1/1 (2141/3933) D:\\815_CowDataChecking\\20221230\\20221230_E_cow\\20221230_152538_8796.mkv: 1088x1088 (no detections), 17.2ms\n",
      "video 1/1 (2142/3933) D:\\815_CowDataChecking\\20221230\\20221230_E_cow\\20221230_152538_8796.mkv: 1088x1088 (no detections), 19.5ms\n",
      "video 1/1 (2143/3933) D:\\815_CowDataChecking\\20221230\\20221230_E_cow\\20221230_152538_8796.mkv: 1088x1088 (no detections), 18.4ms\n",
      "video 1/1 (2144/3933) D:\\815_CowDataChecking\\20221230\\20221230_E_cow\\20221230_152538_8796.mkv: 1088x1088 (no detections), 18.0ms\n",
      "video 1/1 (2145/3933) D:\\815_CowDataChecking\\20221230\\20221230_E_cow\\20221230_152538_8796.mkv: 1088x1088 (no detections), 17.1ms\n",
      "video 1/1 (2146/3933) D:\\815_CowDataChecking\\20221230\\20221230_E_cow\\20221230_152538_8796.mkv: 1088x1088 (no detections), 25.2ms\n",
      "video 1/1 (2147/3933) D:\\815_CowDataChecking\\20221230\\20221230_E_cow\\20221230_152538_8796.mkv: 1088x1088 (no detections), 20.0ms\n",
      "video 1/1 (2148/3933) D:\\815_CowDataChecking\\20221230\\20221230_E_cow\\20221230_152538_8796.mkv: 1088x1088 (no detections), 26.2ms\n",
      "video 1/1 (2149/3933) D:\\815_CowDataChecking\\20221230\\20221230_E_cow\\20221230_152538_8796.mkv: 1088x1088 (no detections), 20.3ms\n",
      "video 1/1 (2150/3933) D:\\815_CowDataChecking\\20221230\\20221230_E_cow\\20221230_152538_8796.mkv: 1088x1088 (no detections), 18.5ms\n",
      "video 1/1 (2151/3933) D:\\815_CowDataChecking\\20221230\\20221230_E_cow\\20221230_152538_8796.mkv: 1088x1088 (no detections), 20.7ms\n",
      "video 1/1 (2152/3933) D:\\815_CowDataChecking\\20221230\\20221230_E_cow\\20221230_152538_8796.mkv: 1088x1088 (no detections), 18.1ms\n",
      "video 1/1 (2153/3933) D:\\815_CowDataChecking\\20221230\\20221230_E_cow\\20221230_152538_8796.mkv: 1088x1088 (no detections), 18.3ms\n",
      "video 1/1 (2154/3933) D:\\815_CowDataChecking\\20221230\\20221230_E_cow\\20221230_152538_8796.mkv: 1088x1088 (no detections), 23.1ms\n",
      "video 1/1 (2155/3933) D:\\815_CowDataChecking\\20221230\\20221230_E_cow\\20221230_152538_8796.mkv: 1088x1088 (no detections), 22.1ms\n",
      "video 1/1 (2156/3933) D:\\815_CowDataChecking\\20221230\\20221230_E_cow\\20221230_152538_8796.mkv: 1088x1088 (no detections), 23.4ms\n",
      "video 1/1 (2157/3933) D:\\815_CowDataChecking\\20221230\\20221230_E_cow\\20221230_152538_8796.mkv: 1088x1088 (no detections), 24.5ms\n",
      "video 1/1 (2158/3933) D:\\815_CowDataChecking\\20221230\\20221230_E_cow\\20221230_152538_8796.mkv: 1088x1088 (no detections), 25.1ms\n",
      "video 1/1 (2159/3933) D:\\815_CowDataChecking\\20221230\\20221230_E_cow\\20221230_152538_8796.mkv: 1088x1088 (no detections), 26.9ms\n",
      "video 1/1 (2160/3933) D:\\815_CowDataChecking\\20221230\\20221230_E_cow\\20221230_152538_8796.mkv: 1088x1088 (no detections), 19.0ms\n",
      "video 1/1 (2161/3933) D:\\815_CowDataChecking\\20221230\\20221230_E_cow\\20221230_152538_8796.mkv: 1088x1088 (no detections), 17.8ms\n",
      "video 1/1 (2162/3933) D:\\815_CowDataChecking\\20221230\\20221230_E_cow\\20221230_152538_8796.mkv: 1088x1088 (no detections), 23.2ms\n",
      "video 1/1 (2163/3933) D:\\815_CowDataChecking\\20221230\\20221230_E_cow\\20221230_152538_8796.mkv: 1088x1088 (no detections), 23.1ms\n",
      "video 1/1 (2164/3933) D:\\815_CowDataChecking\\20221230\\20221230_E_cow\\20221230_152538_8796.mkv: 1088x1088 (no detections), 22.1ms\n",
      "video 1/1 (2165/3933) D:\\815_CowDataChecking\\20221230\\20221230_E_cow\\20221230_152538_8796.mkv: 1088x1088 (no detections), 24.2ms\n",
      "video 1/1 (2166/3933) D:\\815_CowDataChecking\\20221230\\20221230_E_cow\\20221230_152538_8796.mkv: 1088x1088 (no detections), 22.2ms\n",
      "video 1/1 (2167/3933) D:\\815_CowDataChecking\\20221230\\20221230_E_cow\\20221230_152538_8796.mkv: 1088x1088 (no detections), 25.0ms\n",
      "video 1/1 (2168/3933) D:\\815_CowDataChecking\\20221230\\20221230_E_cow\\20221230_152538_8796.mkv: 1088x1088 (no detections), 18.2ms\n",
      "video 1/1 (2169/3933) D:\\815_CowDataChecking\\20221230\\20221230_E_cow\\20221230_152538_8796.mkv: 1088x1088 (no detections), 22.7ms\n",
      "video 1/1 (2170/3933) D:\\815_CowDataChecking\\20221230\\20221230_E_cow\\20221230_152538_8796.mkv: 1088x1088 (no detections), 21.2ms\n",
      "video 1/1 (2171/3933) D:\\815_CowDataChecking\\20221230\\20221230_E_cow\\20221230_152538_8796.mkv: 1088x1088 (no detections), 23.2ms\n",
      "video 1/1 (2172/3933) D:\\815_CowDataChecking\\20221230\\20221230_E_cow\\20221230_152538_8796.mkv: 1088x1088 (no detections), 23.3ms\n",
      "video 1/1 (2173/3933) D:\\815_CowDataChecking\\20221230\\20221230_E_cow\\20221230_152538_8796.mkv: 1088x1088 (no detections), 23.1ms\n",
      "video 1/1 (2174/3933) D:\\815_CowDataChecking\\20221230\\20221230_E_cow\\20221230_152538_8796.mkv: 1088x1088 (no detections), 25.0ms\n",
      "video 1/1 (2175/3933) D:\\815_CowDataChecking\\20221230\\20221230_E_cow\\20221230_152538_8796.mkv: 1088x1088 (no detections), 22.5ms\n",
      "video 1/1 (2176/3933) D:\\815_CowDataChecking\\20221230\\20221230_E_cow\\20221230_152538_8796.mkv: 1088x1088 (no detections), 21.1ms\n",
      "video 1/1 (2177/3933) D:\\815_CowDataChecking\\20221230\\20221230_E_cow\\20221230_152538_8796.mkv: 1088x1088 (no detections), 17.0ms\n",
      "video 1/1 (2178/3933) D:\\815_CowDataChecking\\20221230\\20221230_E_cow\\20221230_152538_8796.mkv: 1088x1088 (no detections), 25.2ms\n",
      "video 1/1 (2179/3933) D:\\815_CowDataChecking\\20221230\\20221230_E_cow\\20221230_152538_8796.mkv: 1088x1088 (no detections), 23.2ms\n",
      "video 1/1 (2180/3933) D:\\815_CowDataChecking\\20221230\\20221230_E_cow\\20221230_152538_8796.mkv: 1088x1088 (no detections), 24.1ms\n",
      "video 1/1 (2181/3933) D:\\815_CowDataChecking\\20221230\\20221230_E_cow\\20221230_152538_8796.mkv: 1088x1088 (no detections), 23.9ms\n",
      "video 1/1 (2182/3933) D:\\815_CowDataChecking\\20221230\\20221230_E_cow\\20221230_152538_8796.mkv: 1088x1088 (no detections), 18.3ms\n",
      "video 1/1 (2183/3933) D:\\815_CowDataChecking\\20221230\\20221230_E_cow\\20221230_152538_8796.mkv: 1088x1088 (no detections), 22.2ms\n",
      "video 1/1 (2184/3933) D:\\815_CowDataChecking\\20221230\\20221230_E_cow\\20221230_152538_8796.mkv: 1088x1088 (no detections), 22.5ms\n",
      "video 1/1 (2185/3933) D:\\815_CowDataChecking\\20221230\\20221230_E_cow\\20221230_152538_8796.mkv: 1088x1088 (no detections), 22.3ms\n",
      "video 1/1 (2186/3933) D:\\815_CowDataChecking\\20221230\\20221230_E_cow\\20221230_152538_8796.mkv: 1088x1088 (no detections), 24.6ms\n",
      "video 1/1 (2187/3933) D:\\815_CowDataChecking\\20221230\\20221230_E_cow\\20221230_152538_8796.mkv: 1088x1088 (no detections), 21.5ms\n",
      "video 1/1 (2188/3933) D:\\815_CowDataChecking\\20221230\\20221230_E_cow\\20221230_152538_8796.mkv: 1088x1088 (no detections), 20.2ms\n",
      "video 1/1 (2189/3933) D:\\815_CowDataChecking\\20221230\\20221230_E_cow\\20221230_152538_8796.mkv: 1088x1088 (no detections), 22.1ms\n",
      "video 1/1 (2190/3933) D:\\815_CowDataChecking\\20221230\\20221230_E_cow\\20221230_152538_8796.mkv: 1088x1088 (no detections), 24.4ms\n",
      "video 1/1 (2191/3933) D:\\815_CowDataChecking\\20221230\\20221230_E_cow\\20221230_152538_8796.mkv: 1088x1088 (no detections), 22.4ms\n",
      "video 1/1 (2192/3933) D:\\815_CowDataChecking\\20221230\\20221230_E_cow\\20221230_152538_8796.mkv: 1088x1088 (no detections), 16.0ms\n",
      "video 1/1 (2193/3933) D:\\815_CowDataChecking\\20221230\\20221230_E_cow\\20221230_152538_8796.mkv: 1088x1088 (no detections), 23.4ms\n",
      "video 1/1 (2194/3933) D:\\815_CowDataChecking\\20221230\\20221230_E_cow\\20221230_152538_8796.mkv: 1088x1088 (no detections), 22.1ms\n",
      "video 1/1 (2195/3933) D:\\815_CowDataChecking\\20221230\\20221230_E_cow\\20221230_152538_8796.mkv: 1088x1088 (no detections), 17.3ms\n",
      "video 1/1 (2196/3933) D:\\815_CowDataChecking\\20221230\\20221230_E_cow\\20221230_152538_8796.mkv: 1088x1088 (no detections), 23.0ms\n",
      "video 1/1 (2197/3933) D:\\815_CowDataChecking\\20221230\\20221230_E_cow\\20221230_152538_8796.mkv: 1088x1088 (no detections), 22.1ms\n",
      "video 1/1 (2198/3933) D:\\815_CowDataChecking\\20221230\\20221230_E_cow\\20221230_152538_8796.mkv: 1088x1088 (no detections), 22.3ms\n",
      "video 1/1 (2199/3933) D:\\815_CowDataChecking\\20221230\\20221230_E_cow\\20221230_152538_8796.mkv: 1088x1088 (no detections), 30.0ms\n",
      "video 1/1 (2200/3933) D:\\815_CowDataChecking\\20221230\\20221230_E_cow\\20221230_152538_8796.mkv: 1088x1088 (no detections), 22.6ms\n",
      "video 1/1 (2201/3933) D:\\815_CowDataChecking\\20221230\\20221230_E_cow\\20221230_152538_8796.mkv: 1088x1088 (no detections), 23.5ms\n",
      "video 1/1 (2202/3933) D:\\815_CowDataChecking\\20221230\\20221230_E_cow\\20221230_152538_8796.mkv: 1088x1088 (no detections), 23.2ms\n",
      "video 1/1 (2203/3933) D:\\815_CowDataChecking\\20221230\\20221230_E_cow\\20221230_152538_8796.mkv: 1088x1088 (no detections), 22.5ms\n",
      "video 1/1 (2204/3933) D:\\815_CowDataChecking\\20221230\\20221230_E_cow\\20221230_152538_8796.mkv: 1088x1088 (no detections), 24.4ms\n",
      "video 1/1 (2205/3933) D:\\815_CowDataChecking\\20221230\\20221230_E_cow\\20221230_152538_8796.mkv: 1088x1088 (no detections), 23.1ms\n",
      "video 1/1 (2206/3933) D:\\815_CowDataChecking\\20221230\\20221230_E_cow\\20221230_152538_8796.mkv: 1088x1088 (no detections), 22.0ms\n",
      "video 1/1 (2207/3933) D:\\815_CowDataChecking\\20221230\\20221230_E_cow\\20221230_152538_8796.mkv: 1088x1088 (no detections), 25.1ms\n",
      "video 1/1 (2208/3933) D:\\815_CowDataChecking\\20221230\\20221230_E_cow\\20221230_152538_8796.mkv: 1088x1088 (no detections), 25.3ms\n",
      "video 1/1 (2209/3933) D:\\815_CowDataChecking\\20221230\\20221230_E_cow\\20221230_152538_8796.mkv: 1088x1088 (no detections), 24.4ms\n",
      "video 1/1 (2210/3933) D:\\815_CowDataChecking\\20221230\\20221230_E_cow\\20221230_152538_8796.mkv: 1088x1088 (no detections), 16.5ms\n",
      "video 1/1 (2211/3933) D:\\815_CowDataChecking\\20221230\\20221230_E_cow\\20221230_152538_8796.mkv: 1088x1088 (no detections), 16.1ms\n",
      "video 1/1 (2212/3933) D:\\815_CowDataChecking\\20221230\\20221230_E_cow\\20221230_152538_8796.mkv: 1088x1088 (no detections), 20.3ms\n",
      "video 1/1 (2213/3933) D:\\815_CowDataChecking\\20221230\\20221230_E_cow\\20221230_152538_8796.mkv: 1088x1088 (no detections), 21.1ms\n",
      "video 1/1 (2214/3933) D:\\815_CowDataChecking\\20221230\\20221230_E_cow\\20221230_152538_8796.mkv: 1088x1088 (no detections), 20.8ms\n",
      "video 1/1 (2215/3933) D:\\815_CowDataChecking\\20221230\\20221230_E_cow\\20221230_152538_8796.mkv: 1088x1088 (no detections), 19.7ms\n",
      "video 1/1 (2216/3933) D:\\815_CowDataChecking\\20221230\\20221230_E_cow\\20221230_152538_8796.mkv: 1088x1088 (no detections), 16.2ms\n",
      "video 1/1 (2217/3933) D:\\815_CowDataChecking\\20221230\\20221230_E_cow\\20221230_152538_8796.mkv: 1088x1088 (no detections), 21.0ms\n",
      "video 1/1 (2218/3933) D:\\815_CowDataChecking\\20221230\\20221230_E_cow\\20221230_152538_8796.mkv: 1088x1088 (no detections), 18.6ms\n",
      "video 1/1 (2219/3933) D:\\815_CowDataChecking\\20221230\\20221230_E_cow\\20221230_152538_8796.mkv: 1088x1088 (no detections), 24.1ms\n",
      "video 1/1 (2220/3933) D:\\815_CowDataChecking\\20221230\\20221230_E_cow\\20221230_152538_8796.mkv: 1088x1088 (no detections), 22.1ms\n",
      "video 1/1 (2221/3933) D:\\815_CowDataChecking\\20221230\\20221230_E_cow\\20221230_152538_8796.mkv: 1088x1088 (no detections), 22.4ms\n",
      "video 1/1 (2222/3933) D:\\815_CowDataChecking\\20221230\\20221230_E_cow\\20221230_152538_8796.mkv: 1088x1088 (no detections), 16.5ms\n",
      "video 1/1 (2223/3933) D:\\815_CowDataChecking\\20221230\\20221230_E_cow\\20221230_152538_8796.mkv: 1088x1088 (no detections), 23.5ms\n",
      "video 1/1 (2224/3933) D:\\815_CowDataChecking\\20221230\\20221230_E_cow\\20221230_152538_8796.mkv: 1088x1088 (no detections), 22.1ms\n",
      "video 1/1 (2225/3933) D:\\815_CowDataChecking\\20221230\\20221230_E_cow\\20221230_152538_8796.mkv: 1088x1088 (no detections), 24.0ms\n",
      "video 1/1 (2226/3933) D:\\815_CowDataChecking\\20221230\\20221230_E_cow\\20221230_152538_8796.mkv: 1088x1088 (no detections), 23.2ms\n",
      "video 1/1 (2227/3933) D:\\815_CowDataChecking\\20221230\\20221230_E_cow\\20221230_152538_8796.mkv: 1088x1088 (no detections), 17.1ms\n",
      "video 1/1 (2228/3933) D:\\815_CowDataChecking\\20221230\\20221230_E_cow\\20221230_152538_8796.mkv: 1088x1088 (no detections), 23.5ms\n",
      "video 1/1 (2229/3933) D:\\815_CowDataChecking\\20221230\\20221230_E_cow\\20221230_152538_8796.mkv: 1088x1088 (no detections), 23.2ms\n",
      "video 1/1 (2230/3933) D:\\815_CowDataChecking\\20221230\\20221230_E_cow\\20221230_152538_8796.mkv: 1088x1088 (no detections), 23.1ms\n",
      "video 1/1 (2231/3933) D:\\815_CowDataChecking\\20221230\\20221230_E_cow\\20221230_152538_8796.mkv: 1088x1088 (no detections), 24.1ms\n",
      "video 1/1 (2232/3933) D:\\815_CowDataChecking\\20221230\\20221230_E_cow\\20221230_152538_8796.mkv: 1088x1088 (no detections), 23.2ms\n",
      "video 1/1 (2233/3933) D:\\815_CowDataChecking\\20221230\\20221230_E_cow\\20221230_152538_8796.mkv: 1088x1088 (no detections), 23.0ms\n",
      "video 1/1 (2234/3933) D:\\815_CowDataChecking\\20221230\\20221230_E_cow\\20221230_152538_8796.mkv: 1088x1088 (no detections), 24.9ms\n",
      "video 1/1 (2235/3933) D:\\815_CowDataChecking\\20221230\\20221230_E_cow\\20221230_152538_8796.mkv: 1088x1088 (no detections), 24.2ms\n",
      "video 1/1 (2236/3933) D:\\815_CowDataChecking\\20221230\\20221230_E_cow\\20221230_152538_8796.mkv: 1088x1088 (no detections), 28.9ms\n",
      "video 1/1 (2237/3933) D:\\815_CowDataChecking\\20221230\\20221230_E_cow\\20221230_152538_8796.mkv: 1088x1088 (no detections), 18.1ms\n",
      "video 1/1 (2238/3933) D:\\815_CowDataChecking\\20221230\\20221230_E_cow\\20221230_152538_8796.mkv: 1088x1088 (no detections), 22.5ms\n",
      "video 1/1 (2239/3933) D:\\815_CowDataChecking\\20221230\\20221230_E_cow\\20221230_152538_8796.mkv: 1088x1088 (no detections), 21.1ms\n",
      "video 1/1 (2240/3933) D:\\815_CowDataChecking\\20221230\\20221230_E_cow\\20221230_152538_8796.mkv: 1088x1088 (no detections), 23.0ms\n",
      "video 1/1 (2241/3933) D:\\815_CowDataChecking\\20221230\\20221230_E_cow\\20221230_152538_8796.mkv: 1088x1088 (no detections), 20.1ms\n",
      "video 1/1 (2242/3933) D:\\815_CowDataChecking\\20221230\\20221230_E_cow\\20221230_152538_8796.mkv: 1088x1088 (no detections), 20.1ms\n",
      "video 1/1 (2243/3933) D:\\815_CowDataChecking\\20221230\\20221230_E_cow\\20221230_152538_8796.mkv: 1088x1088 (no detections), 15.1ms\n",
      "video 1/1 (2244/3933) D:\\815_CowDataChecking\\20221230\\20221230_E_cow\\20221230_152538_8796.mkv: 1088x1088 (no detections), 24.5ms\n",
      "video 1/1 (2245/3933) D:\\815_CowDataChecking\\20221230\\20221230_E_cow\\20221230_152538_8796.mkv: 1088x1088 (no detections), 23.1ms\n",
      "video 1/1 (2246/3933) D:\\815_CowDataChecking\\20221230\\20221230_E_cow\\20221230_152538_8796.mkv: 1088x1088 (no detections), 24.5ms\n",
      "video 1/1 (2247/3933) D:\\815_CowDataChecking\\20221230\\20221230_E_cow\\20221230_152538_8796.mkv: 1088x1088 (no detections), 22.1ms\n",
      "video 1/1 (2248/3933) D:\\815_CowDataChecking\\20221230\\20221230_E_cow\\20221230_152538_8796.mkv: 1088x1088 (no detections), 21.3ms\n",
      "video 1/1 (2249/3933) D:\\815_CowDataChecking\\20221230\\20221230_E_cow\\20221230_152538_8796.mkv: 1088x1088 (no detections), 23.5ms\n",
      "video 1/1 (2250/3933) D:\\815_CowDataChecking\\20221230\\20221230_E_cow\\20221230_152538_8796.mkv: 1088x1088 (no detections), 18.4ms\n",
      "video 1/1 (2251/3933) D:\\815_CowDataChecking\\20221230\\20221230_E_cow\\20221230_152538_8796.mkv: 1088x1088 (no detections), 21.9ms\n",
      "video 1/1 (2252/3933) D:\\815_CowDataChecking\\20221230\\20221230_E_cow\\20221230_152538_8796.mkv: 1088x1088 (no detections), 18.1ms\n",
      "video 1/1 (2253/3933) D:\\815_CowDataChecking\\20221230\\20221230_E_cow\\20221230_152538_8796.mkv: 1088x1088 (no detections), 23.4ms\n",
      "video 1/1 (2254/3933) D:\\815_CowDataChecking\\20221230\\20221230_E_cow\\20221230_152538_8796.mkv: 1088x1088 (no detections), 22.4ms\n",
      "video 1/1 (2255/3933) D:\\815_CowDataChecking\\20221230\\20221230_E_cow\\20221230_152538_8796.mkv: 1088x1088 (no detections), 23.7ms\n",
      "video 1/1 (2256/3933) D:\\815_CowDataChecking\\20221230\\20221230_E_cow\\20221230_152538_8796.mkv: 1088x1088 (no detections), 24.3ms\n",
      "video 1/1 (2257/3933) D:\\815_CowDataChecking\\20221230\\20221230_E_cow\\20221230_152538_8796.mkv: 1088x1088 (no detections), 20.4ms\n",
      "video 1/1 (2258/3933) D:\\815_CowDataChecking\\20221230\\20221230_E_cow\\20221230_152538_8796.mkv: 1088x1088 (no detections), 23.0ms\n",
      "video 1/1 (2259/3933) D:\\815_CowDataChecking\\20221230\\20221230_E_cow\\20221230_152538_8796.mkv: 1088x1088 (no detections), 24.3ms\n",
      "video 1/1 (2260/3933) D:\\815_CowDataChecking\\20221230\\20221230_E_cow\\20221230_152538_8796.mkv: 1088x1088 (no detections), 25.1ms\n",
      "video 1/1 (2261/3933) D:\\815_CowDataChecking\\20221230\\20221230_E_cow\\20221230_152538_8796.mkv: 1088x1088 (no detections), 22.1ms\n",
      "video 1/1 (2262/3933) D:\\815_CowDataChecking\\20221230\\20221230_E_cow\\20221230_152538_8796.mkv: 1088x1088 (no detections), 23.1ms\n",
      "video 1/1 (2263/3933) D:\\815_CowDataChecking\\20221230\\20221230_E_cow\\20221230_152538_8796.mkv: 1088x1088 (no detections), 22.3ms\n",
      "video 1/1 (2264/3933) D:\\815_CowDataChecking\\20221230\\20221230_E_cow\\20221230_152538_8796.mkv: 1088x1088 (no detections), 19.4ms\n",
      "video 1/1 (2265/3933) D:\\815_CowDataChecking\\20221230\\20221230_E_cow\\20221230_152538_8796.mkv: 1088x1088 (no detections), 23.2ms\n",
      "video 1/1 (2266/3933) D:\\815_CowDataChecking\\20221230\\20221230_E_cow\\20221230_152538_8796.mkv: 1088x1088 (no detections), 21.2ms\n",
      "video 1/1 (2267/3933) D:\\815_CowDataChecking\\20221230\\20221230_E_cow\\20221230_152538_8796.mkv: 1088x1088 (no detections), 25.1ms\n",
      "video 1/1 (2268/3933) D:\\815_CowDataChecking\\20221230\\20221230_E_cow\\20221230_152538_8796.mkv: 1088x1088 (no detections), 25.0ms\n",
      "video 1/1 (2269/3933) D:\\815_CowDataChecking\\20221230\\20221230_E_cow\\20221230_152538_8796.mkv: 1088x1088 (no detections), 14.3ms\n",
      "video 1/1 (2270/3933) D:\\815_CowDataChecking\\20221230\\20221230_E_cow\\20221230_152538_8796.mkv: 1088x1088 (no detections), 23.2ms\n",
      "video 1/1 (2271/3933) D:\\815_CowDataChecking\\20221230\\20221230_E_cow\\20221230_152538_8796.mkv: 1088x1088 (no detections), 23.2ms\n",
      "video 1/1 (2272/3933) D:\\815_CowDataChecking\\20221230\\20221230_E_cow\\20221230_152538_8796.mkv: 1088x1088 (no detections), 22.1ms\n",
      "video 1/1 (2273/3933) D:\\815_CowDataChecking\\20221230\\20221230_E_cow\\20221230_152538_8796.mkv: 1088x1088 (no detections), 23.4ms\n",
      "video 1/1 (2274/3933) D:\\815_CowDataChecking\\20221230\\20221230_E_cow\\20221230_152538_8796.mkv: 1088x1088 (no detections), 24.1ms\n",
      "video 1/1 (2275/3933) D:\\815_CowDataChecking\\20221230\\20221230_E_cow\\20221230_152538_8796.mkv: 1088x1088 (no detections), 25.1ms\n",
      "video 1/1 (2276/3933) D:\\815_CowDataChecking\\20221230\\20221230_E_cow\\20221230_152538_8796.mkv: 1088x1088 (no detections), 22.4ms\n",
      "video 1/1 (2277/3933) D:\\815_CowDataChecking\\20221230\\20221230_E_cow\\20221230_152538_8796.mkv: 1088x1088 (no detections), 20.3ms\n",
      "video 1/1 (2278/3933) D:\\815_CowDataChecking\\20221230\\20221230_E_cow\\20221230_152538_8796.mkv: 1088x1088 (no detections), 24.6ms\n",
      "video 1/1 (2279/3933) D:\\815_CowDataChecking\\20221230\\20221230_E_cow\\20221230_152538_8796.mkv: 1088x1088 (no detections), 17.5ms\n",
      "video 1/1 (2280/3933) D:\\815_CowDataChecking\\20221230\\20221230_E_cow\\20221230_152538_8796.mkv: 1088x1088 (no detections), 23.3ms\n",
      "video 1/1 (2281/3933) D:\\815_CowDataChecking\\20221230\\20221230_E_cow\\20221230_152538_8796.mkv: 1088x1088 (no detections), 21.2ms\n",
      "video 1/1 (2282/3933) D:\\815_CowDataChecking\\20221230\\20221230_E_cow\\20221230_152538_8796.mkv: 1088x1088 (no detections), 24.1ms\n",
      "video 1/1 (2283/3933) D:\\815_CowDataChecking\\20221230\\20221230_E_cow\\20221230_152538_8796.mkv: 1088x1088 (no detections), 23.8ms\n",
      "video 1/1 (2284/3933) D:\\815_CowDataChecking\\20221230\\20221230_E_cow\\20221230_152538_8796.mkv: 1088x1088 (no detections), 22.2ms\n",
      "video 1/1 (2285/3933) D:\\815_CowDataChecking\\20221230\\20221230_E_cow\\20221230_152538_8796.mkv: 1088x1088 (no detections), 23.1ms\n",
      "video 1/1 (2286/3933) D:\\815_CowDataChecking\\20221230\\20221230_E_cow\\20221230_152538_8796.mkv: 1088x1088 (no detections), 22.1ms\n",
      "video 1/1 (2287/3933) D:\\815_CowDataChecking\\20221230\\20221230_E_cow\\20221230_152538_8796.mkv: 1088x1088 (no detections), 22.2ms\n",
      "video 1/1 (2288/3933) D:\\815_CowDataChecking\\20221230\\20221230_E_cow\\20221230_152538_8796.mkv: 1088x1088 (no detections), 22.5ms\n",
      "video 1/1 (2289/3933) D:\\815_CowDataChecking\\20221230\\20221230_E_cow\\20221230_152538_8796.mkv: 1088x1088 (no detections), 24.3ms\n",
      "video 1/1 (2290/3933) D:\\815_CowDataChecking\\20221230\\20221230_E_cow\\20221230_152538_8796.mkv: 1088x1088 (no detections), 19.3ms\n",
      "video 1/1 (2291/3933) D:\\815_CowDataChecking\\20221230\\20221230_E_cow\\20221230_152538_8796.mkv: 1088x1088 (no detections), 23.1ms\n",
      "video 1/1 (2292/3933) D:\\815_CowDataChecking\\20221230\\20221230_E_cow\\20221230_152538_8796.mkv: 1088x1088 (no detections), 25.3ms\n",
      "video 1/1 (2293/3933) D:\\815_CowDataChecking\\20221230\\20221230_E_cow\\20221230_152538_8796.mkv: 1088x1088 (no detections), 25.6ms\n",
      "video 1/1 (2294/3933) D:\\815_CowDataChecking\\20221230\\20221230_E_cow\\20221230_152538_8796.mkv: 1088x1088 (no detections), 21.4ms\n",
      "video 1/1 (2295/3933) D:\\815_CowDataChecking\\20221230\\20221230_E_cow\\20221230_152538_8796.mkv: 1088x1088 (no detections), 21.3ms\n",
      "video 1/1 (2296/3933) D:\\815_CowDataChecking\\20221230\\20221230_E_cow\\20221230_152538_8796.mkv: 1088x1088 (no detections), 18.5ms\n",
      "video 1/1 (2297/3933) D:\\815_CowDataChecking\\20221230\\20221230_E_cow\\20221230_152538_8796.mkv: 1088x1088 (no detections), 19.8ms\n",
      "video 1/1 (2298/3933) D:\\815_CowDataChecking\\20221230\\20221230_E_cow\\20221230_152538_8796.mkv: 1088x1088 (no detections), 18.0ms\n",
      "video 1/1 (2299/3933) D:\\815_CowDataChecking\\20221230\\20221230_E_cow\\20221230_152538_8796.mkv: 1088x1088 (no detections), 16.6ms\n",
      "video 1/1 (2300/3933) D:\\815_CowDataChecking\\20221230\\20221230_E_cow\\20221230_152538_8796.mkv: 1088x1088 (no detections), 25.0ms\n",
      "video 1/1 (2301/3933) D:\\815_CowDataChecking\\20221230\\20221230_E_cow\\20221230_152538_8796.mkv: 1088x1088 (no detections), 15.1ms\n",
      "video 1/1 (2302/3933) D:\\815_CowDataChecking\\20221230\\20221230_E_cow\\20221230_152538_8796.mkv: 1088x1088 (no detections), 23.1ms\n",
      "video 1/1 (2303/3933) D:\\815_CowDataChecking\\20221230\\20221230_E_cow\\20221230_152538_8796.mkv: 1088x1088 (no detections), 21.3ms\n",
      "video 1/1 (2304/3933) D:\\815_CowDataChecking\\20221230\\20221230_E_cow\\20221230_152538_8796.mkv: 1088x1088 (no detections), 20.0ms\n",
      "video 1/1 (2305/3933) D:\\815_CowDataChecking\\20221230\\20221230_E_cow\\20221230_152538_8796.mkv: 1088x1088 (no detections), 26.5ms\n",
      "video 1/1 (2306/3933) D:\\815_CowDataChecking\\20221230\\20221230_E_cow\\20221230_152538_8796.mkv: 1088x1088 (no detections), 16.5ms\n",
      "video 1/1 (2307/3933) D:\\815_CowDataChecking\\20221230\\20221230_E_cow\\20221230_152538_8796.mkv: 1088x1088 (no detections), 21.0ms\n",
      "video 1/1 (2308/3933) D:\\815_CowDataChecking\\20221230\\20221230_E_cow\\20221230_152538_8796.mkv: 1088x1088 (no detections), 21.9ms\n",
      "video 1/1 (2309/3933) D:\\815_CowDataChecking\\20221230\\20221230_E_cow\\20221230_152538_8796.mkv: 1088x1088 (no detections), 23.4ms\n",
      "video 1/1 (2310/3933) D:\\815_CowDataChecking\\20221230\\20221230_E_cow\\20221230_152538_8796.mkv: 1088x1088 (no detections), 24.2ms\n",
      "video 1/1 (2311/3933) D:\\815_CowDataChecking\\20221230\\20221230_E_cow\\20221230_152538_8796.mkv: 1088x1088 (no detections), 21.0ms\n",
      "video 1/1 (2312/3933) D:\\815_CowDataChecking\\20221230\\20221230_E_cow\\20221230_152538_8796.mkv: 1088x1088 (no detections), 17.4ms\n",
      "video 1/1 (2313/3933) D:\\815_CowDataChecking\\20221230\\20221230_E_cow\\20221230_152538_8796.mkv: 1088x1088 (no detections), 24.0ms\n",
      "video 1/1 (2314/3933) D:\\815_CowDataChecking\\20221230\\20221230_E_cow\\20221230_152538_8796.mkv: 1088x1088 (no detections), 22.4ms\n",
      "video 1/1 (2315/3933) D:\\815_CowDataChecking\\20221230\\20221230_E_cow\\20221230_152538_8796.mkv: 1088x1088 (no detections), 23.4ms\n",
      "video 1/1 (2316/3933) D:\\815_CowDataChecking\\20221230\\20221230_E_cow\\20221230_152538_8796.mkv: 1088x1088 (no detections), 23.9ms\n",
      "video 1/1 (2317/3933) D:\\815_CowDataChecking\\20221230\\20221230_E_cow\\20221230_152538_8796.mkv: 1088x1088 (no detections), 21.3ms\n",
      "video 1/1 (2318/3933) D:\\815_CowDataChecking\\20221230\\20221230_E_cow\\20221230_152538_8796.mkv: 1088x1088 (no detections), 23.2ms\n",
      "video 1/1 (2319/3933) D:\\815_CowDataChecking\\20221230\\20221230_E_cow\\20221230_152538_8796.mkv: 1088x1088 (no detections), 18.2ms\n",
      "video 1/1 (2320/3933) D:\\815_CowDataChecking\\20221230\\20221230_E_cow\\20221230_152538_8796.mkv: 1088x1088 (no detections), 17.2ms\n",
      "video 1/1 (2321/3933) D:\\815_CowDataChecking\\20221230\\20221230_E_cow\\20221230_152538_8796.mkv: 1088x1088 (no detections), 19.2ms\n",
      "video 1/1 (2322/3933) D:\\815_CowDataChecking\\20221230\\20221230_E_cow\\20221230_152538_8796.mkv: 1088x1088 (no detections), 16.2ms\n",
      "video 1/1 (2323/3933) D:\\815_CowDataChecking\\20221230\\20221230_E_cow\\20221230_152538_8796.mkv: 1088x1088 (no detections), 24.4ms\n",
      "video 1/1 (2324/3933) D:\\815_CowDataChecking\\20221230\\20221230_E_cow\\20221230_152538_8796.mkv: 1088x1088 (no detections), 25.2ms\n",
      "video 1/1 (2325/3933) D:\\815_CowDataChecking\\20221230\\20221230_E_cow\\20221230_152538_8796.mkv: 1088x1088 (no detections), 26.5ms\n",
      "video 1/1 (2326/3933) D:\\815_CowDataChecking\\20221230\\20221230_E_cow\\20221230_152538_8796.mkv: 1088x1088 (no detections), 21.1ms\n",
      "video 1/1 (2327/3933) D:\\815_CowDataChecking\\20221230\\20221230_E_cow\\20221230_152538_8796.mkv: 1088x1088 (no detections), 16.2ms\n",
      "video 1/1 (2328/3933) D:\\815_CowDataChecking\\20221230\\20221230_E_cow\\20221230_152538_8796.mkv: 1088x1088 (no detections), 24.2ms\n",
      "video 1/1 (2329/3933) D:\\815_CowDataChecking\\20221230\\20221230_E_cow\\20221230_152538_8796.mkv: 1088x1088 (no detections), 18.4ms\n",
      "video 1/1 (2330/3933) D:\\815_CowDataChecking\\20221230\\20221230_E_cow\\20221230_152538_8796.mkv: 1088x1088 (no detections), 22.3ms\n",
      "video 1/1 (2331/3933) D:\\815_CowDataChecking\\20221230\\20221230_E_cow\\20221230_152538_8796.mkv: 1088x1088 (no detections), 22.4ms\n",
      "video 1/1 (2332/3933) D:\\815_CowDataChecking\\20221230\\20221230_E_cow\\20221230_152538_8796.mkv: 1088x1088 (no detections), 21.2ms\n",
      "video 1/1 (2333/3933) D:\\815_CowDataChecking\\20221230\\20221230_E_cow\\20221230_152538_8796.mkv: 1088x1088 (no detections), 17.8ms\n",
      "video 1/1 (2334/3933) D:\\815_CowDataChecking\\20221230\\20221230_E_cow\\20221230_152538_8796.mkv: 1088x1088 (no detections), 17.1ms\n",
      "video 1/1 (2335/3933) D:\\815_CowDataChecking\\20221230\\20221230_E_cow\\20221230_152538_8796.mkv: 1088x1088 (no detections), 24.2ms\n",
      "video 1/1 (2336/3933) D:\\815_CowDataChecking\\20221230\\20221230_E_cow\\20221230_152538_8796.mkv: 1088x1088 (no detections), 20.9ms\n",
      "video 1/1 (2337/3933) D:\\815_CowDataChecking\\20221230\\20221230_E_cow\\20221230_152538_8796.mkv: 1088x1088 (no detections), 22.1ms\n",
      "video 1/1 (2338/3933) D:\\815_CowDataChecking\\20221230\\20221230_E_cow\\20221230_152538_8796.mkv: 1088x1088 (no detections), 18.5ms\n",
      "video 1/1 (2339/3933) D:\\815_CowDataChecking\\20221230\\20221230_E_cow\\20221230_152538_8796.mkv: 1088x1088 (no detections), 16.3ms\n",
      "video 1/1 (2340/3933) D:\\815_CowDataChecking\\20221230\\20221230_E_cow\\20221230_152538_8796.mkv: 1088x1088 (no detections), 20.8ms\n",
      "video 1/1 (2341/3933) D:\\815_CowDataChecking\\20221230\\20221230_E_cow\\20221230_152538_8796.mkv: 1088x1088 (no detections), 18.5ms\n",
      "video 1/1 (2342/3933) D:\\815_CowDataChecking\\20221230\\20221230_E_cow\\20221230_152538_8796.mkv: 1088x1088 (no detections), 16.1ms\n",
      "video 1/1 (2343/3933) D:\\815_CowDataChecking\\20221230\\20221230_E_cow\\20221230_152538_8796.mkv: 1088x1088 (no detections), 20.0ms\n",
      "video 1/1 (2344/3933) D:\\815_CowDataChecking\\20221230\\20221230_E_cow\\20221230_152538_8796.mkv: 1088x1088 (no detections), 18.9ms\n",
      "video 1/1 (2345/3933) D:\\815_CowDataChecking\\20221230\\20221230_E_cow\\20221230_152538_8796.mkv: 1088x1088 (no detections), 16.1ms\n",
      "video 1/1 (2346/3933) D:\\815_CowDataChecking\\20221230\\20221230_E_cow\\20221230_152538_8796.mkv: 1088x1088 (no detections), 24.8ms\n",
      "video 1/1 (2347/3933) D:\\815_CowDataChecking\\20221230\\20221230_E_cow\\20221230_152538_8796.mkv: 1088x1088 (no detections), 18.1ms\n",
      "video 1/1 (2348/3933) D:\\815_CowDataChecking\\20221230\\20221230_E_cow\\20221230_152538_8796.mkv: 1088x1088 (no detections), 18.2ms\n",
      "video 1/1 (2349/3933) D:\\815_CowDataChecking\\20221230\\20221230_E_cow\\20221230_152538_8796.mkv: 1088x1088 (no detections), 23.1ms\n",
      "video 1/1 (2350/3933) D:\\815_CowDataChecking\\20221230\\20221230_E_cow\\20221230_152538_8796.mkv: 1088x1088 (no detections), 21.2ms\n",
      "video 1/1 (2351/3933) D:\\815_CowDataChecking\\20221230\\20221230_E_cow\\20221230_152538_8796.mkv: 1088x1088 (no detections), 23.0ms\n",
      "video 1/1 (2352/3933) D:\\815_CowDataChecking\\20221230\\20221230_E_cow\\20221230_152538_8796.mkv: 1088x1088 (no detections), 23.0ms\n",
      "video 1/1 (2353/3933) D:\\815_CowDataChecking\\20221230\\20221230_E_cow\\20221230_152538_8796.mkv: 1088x1088 (no detections), 22.1ms\n",
      "video 1/1 (2354/3933) D:\\815_CowDataChecking\\20221230\\20221230_E_cow\\20221230_152538_8796.mkv: 1088x1088 (no detections), 24.2ms\n",
      "video 1/1 (2355/3933) D:\\815_CowDataChecking\\20221230\\20221230_E_cow\\20221230_152538_8796.mkv: 1088x1088 (no detections), 23.4ms\n",
      "video 1/1 (2356/3933) D:\\815_CowDataChecking\\20221230\\20221230_E_cow\\20221230_152538_8796.mkv: 1088x1088 (no detections), 23.1ms\n",
      "video 1/1 (2357/3933) D:\\815_CowDataChecking\\20221230\\20221230_E_cow\\20221230_152538_8796.mkv: 1088x1088 (no detections), 21.3ms\n",
      "video 1/1 (2358/3933) D:\\815_CowDataChecking\\20221230\\20221230_E_cow\\20221230_152538_8796.mkv: 1088x1088 (no detections), 24.0ms\n",
      "video 1/1 (2359/3933) D:\\815_CowDataChecking\\20221230\\20221230_E_cow\\20221230_152538_8796.mkv: 1088x1088 (no detections), 21.6ms\n",
      "video 1/1 (2360/3933) D:\\815_CowDataChecking\\20221230\\20221230_E_cow\\20221230_152538_8796.mkv: 1088x1088 (no detections), 23.1ms\n",
      "video 1/1 (2361/3933) D:\\815_CowDataChecking\\20221230\\20221230_E_cow\\20221230_152538_8796.mkv: 1088x1088 (no detections), 25.0ms\n",
      "video 1/1 (2362/3933) D:\\815_CowDataChecking\\20221230\\20221230_E_cow\\20221230_152538_8796.mkv: 1088x1088 (no detections), 24.3ms\n",
      "video 1/1 (2363/3933) D:\\815_CowDataChecking\\20221230\\20221230_E_cow\\20221230_152538_8796.mkv: 1088x1088 (no detections), 17.4ms\n",
      "video 1/1 (2364/3933) D:\\815_CowDataChecking\\20221230\\20221230_E_cow\\20221230_152538_8796.mkv: 1088x1088 (no detections), 22.0ms\n",
      "video 1/1 (2365/3933) D:\\815_CowDataChecking\\20221230\\20221230_E_cow\\20221230_152538_8796.mkv: 1088x1088 (no detections), 20.0ms\n",
      "video 1/1 (2366/3933) D:\\815_CowDataChecking\\20221230\\20221230_E_cow\\20221230_152538_8796.mkv: 1088x1088 (no detections), 21.1ms\n",
      "video 1/1 (2367/3933) D:\\815_CowDataChecking\\20221230\\20221230_E_cow\\20221230_152538_8796.mkv: 1088x1088 (no detections), 15.9ms\n",
      "video 1/1 (2368/3933) D:\\815_CowDataChecking\\20221230\\20221230_E_cow\\20221230_152538_8796.mkv: 1088x1088 (no detections), 22.2ms\n",
      "video 1/1 (2369/3933) D:\\815_CowDataChecking\\20221230\\20221230_E_cow\\20221230_152538_8796.mkv: 1088x1088 (no detections), 23.4ms\n",
      "video 1/1 (2370/3933) D:\\815_CowDataChecking\\20221230\\20221230_E_cow\\20221230_152538_8796.mkv: 1088x1088 (no detections), 23.1ms\n",
      "video 1/1 (2371/3933) D:\\815_CowDataChecking\\20221230\\20221230_E_cow\\20221230_152538_8796.mkv: 1088x1088 (no detections), 22.0ms\n",
      "video 1/1 (2372/3933) D:\\815_CowDataChecking\\20221230\\20221230_E_cow\\20221230_152538_8796.mkv: 1088x1088 (no detections), 23.1ms\n",
      "video 1/1 (2373/3933) D:\\815_CowDataChecking\\20221230\\20221230_E_cow\\20221230_152538_8796.mkv: 1088x1088 (no detections), 23.4ms\n",
      "video 1/1 (2374/3933) D:\\815_CowDataChecking\\20221230\\20221230_E_cow\\20221230_152538_8796.mkv: 1088x1088 (no detections), 24.3ms\n",
      "video 1/1 (2375/3933) D:\\815_CowDataChecking\\20221230\\20221230_E_cow\\20221230_152538_8796.mkv: 1088x1088 (no detections), 20.5ms\n",
      "video 1/1 (2376/3933) D:\\815_CowDataChecking\\20221230\\20221230_E_cow\\20221230_152538_8796.mkv: 1088x1088 (no detections), 21.1ms\n",
      "video 1/1 (2377/3933) D:\\815_CowDataChecking\\20221230\\20221230_E_cow\\20221230_152538_8796.mkv: 1088x1088 (no detections), 21.6ms\n",
      "video 1/1 (2378/3933) D:\\815_CowDataChecking\\20221230\\20221230_E_cow\\20221230_152538_8796.mkv: 1088x1088 (no detections), 24.1ms\n",
      "video 1/1 (2379/3933) D:\\815_CowDataChecking\\20221230\\20221230_E_cow\\20221230_152538_8796.mkv: 1088x1088 (no detections), 23.4ms\n",
      "WARNING  'Masks.masks' is deprecated. Use 'Masks.data' instead.\n",
      "video 1/1 (2380/3933) D:\\815_CowDataChecking\\20221230\\20221230_E_cow\\20221230_152538_8796.mkv: 1088x1088 1 cow, 19.5ms\n",
      "WARNING  'Masks.masks' is deprecated. Use 'Masks.data' instead.\n",
      "video 1/1 (2381/3933) D:\\815_CowDataChecking\\20221230\\20221230_E_cow\\20221230_152538_8796.mkv: 1088x1088 1 cow, 20.6ms\n",
      "video 1/1 (2382/3933) D:\\815_CowDataChecking\\20221230\\20221230_E_cow\\20221230_152538_8796.mkv: 1088x1088 1 cow, 20.1ms\n",
      "WARNING  'Masks.masks' is deprecated. Use 'Masks.data' instead.\n",
      "video 1/1 (2383/3933) D:\\815_CowDataChecking\\20221230\\20221230_E_cow\\20221230_152538_8796.mkv: 1088x1088 1 cow, 16.5ms\n",
      "video 1/1 (2384/3933) D:\\815_CowDataChecking\\20221230\\20221230_E_cow\\20221230_152538_8796.mkv: 1088x1088 (no detections), 24.5ms\n",
      "video 1/1 (2385/3933) D:\\815_CowDataChecking\\20221230\\20221230_E_cow\\20221230_152538_8796.mkv: 1088x1088 1 cow, 22.1ms\n",
      "WARNING  'Masks.masks' is deprecated. Use 'Masks.data' instead.\n",
      "video 1/1 (2386/3933) D:\\815_CowDataChecking\\20221230\\20221230_E_cow\\20221230_152538_8796.mkv: 1088x1088 1 cow, 19.5ms\n",
      "video 1/1 (2387/3933) D:\\815_CowDataChecking\\20221230\\20221230_E_cow\\20221230_152538_8796.mkv: 1088x1088 (no detections), 25.6ms\n",
      "video 1/1 (2388/3933) D:\\815_CowDataChecking\\20221230\\20221230_E_cow\\20221230_152538_8796.mkv: 1088x1088 1 cow, 19.9ms\n",
      "WARNING  'Masks.masks' is deprecated. Use 'Masks.data' instead.\n",
      "video 1/1 (2389/3933) D:\\815_CowDataChecking\\20221230\\20221230_E_cow\\20221230_152538_8796.mkv: 1088x1088 1 cow, 24.3ms\n",
      "WARNING  'Masks.masks' is deprecated. Use 'Masks.data' instead.\n",
      "video 1/1 (2390/3933) D:\\815_CowDataChecking\\20221230\\20221230_E_cow\\20221230_152538_8796.mkv: 1088x1088 1 cow, 25.5ms\n",
      "video 1/1 (2391/3933) D:\\815_CowDataChecking\\20221230\\20221230_E_cow\\20221230_152538_8796.mkv: 1088x1088 1 cow, 17.2ms\n",
      "WARNING  'Masks.masks' is deprecated. Use 'Masks.data' instead.\n",
      "video 1/1 (2392/3933) D:\\815_CowDataChecking\\20221230\\20221230_E_cow\\20221230_152538_8796.mkv: 1088x1088 1 cow, 21.5ms\n",
      "WARNING  'Masks.masks' is deprecated. Use 'Masks.data' instead.\n",
      "video 1/1 (2393/3933) D:\\815_CowDataChecking\\20221230\\20221230_E_cow\\20221230_152538_8796.mkv: 1088x1088 1 cow, 25.3ms\n",
      "video 1/1 (2394/3933) D:\\815_CowDataChecking\\20221230\\20221230_E_cow\\20221230_152538_8796.mkv: 1088x1088 1 cow, 22.7ms\n",
      "video 1/1 (2395/3933) D:\\815_CowDataChecking\\20221230\\20221230_E_cow\\20221230_152538_8796.mkv: 1088x1088 (no detections), 20.0ms\n",
      "video 1/1 (2396/3933) D:\\815_CowDataChecking\\20221230\\20221230_E_cow\\20221230_152538_8796.mkv: 1088x1088 (no detections), 15.0ms\n",
      "video 1/1 (2397/3933) D:\\815_CowDataChecking\\20221230\\20221230_E_cow\\20221230_152538_8796.mkv: 1088x1088 (no detections), 15.5ms\n",
      "WARNING  'Masks.masks' is deprecated. Use 'Masks.data' instead.\n",
      "video 1/1 (2398/3933) D:\\815_CowDataChecking\\20221230\\20221230_E_cow\\20221230_152538_8796.mkv: 1088x1088 1 cow, 22.3ms\n",
      "video 1/1 (2399/3933) D:\\815_CowDataChecking\\20221230\\20221230_E_cow\\20221230_152538_8796.mkv: 1088x1088 (no detections), 21.9ms\n",
      "video 1/1 (2400/3933) D:\\815_CowDataChecking\\20221230\\20221230_E_cow\\20221230_152538_8796.mkv: 1088x1088 1 cow, 17.2ms\n",
      "WARNING  'Masks.masks' is deprecated. Use 'Masks.data' instead.\n",
      "video 1/1 (2401/3933) D:\\815_CowDataChecking\\20221230\\20221230_E_cow\\20221230_152538_8796.mkv: 1088x1088 1 cow, 23.8ms\n",
      "WARNING  'Masks.masks' is deprecated. Use 'Masks.data' instead.\n",
      "video 1/1 (2402/3933) D:\\815_CowDataChecking\\20221230\\20221230_E_cow\\20221230_152538_8796.mkv: 1088x1088 1 cow, 20.3ms\n",
      "video 1/1 (2403/3933) D:\\815_CowDataChecking\\20221230\\20221230_E_cow\\20221230_152538_8796.mkv: 1088x1088 1 cow, 22.8ms\n",
      "WARNING  'Masks.masks' is deprecated. Use 'Masks.data' instead.\n",
      "video 1/1 (2404/3933) D:\\815_CowDataChecking\\20221230\\20221230_E_cow\\20221230_152538_8796.mkv: 1088x1088 1 cow, 18.3ms\n",
      "WARNING  'Masks.masks' is deprecated. Use 'Masks.data' instead.\n",
      "video 1/1 (2405/3933) D:\\815_CowDataChecking\\20221230\\20221230_E_cow\\20221230_152538_8796.mkv: 1088x1088 1 cow, 17.8ms\n",
      "video 1/1 (2406/3933) D:\\815_CowDataChecking\\20221230\\20221230_E_cow\\20221230_152538_8796.mkv: 1088x1088 1 cow, 18.0ms\n",
      "WARNING  'Masks.masks' is deprecated. Use 'Masks.data' instead.\n",
      "video 1/1 (2407/3933) D:\\815_CowDataChecking\\20221230\\20221230_E_cow\\20221230_152538_8796.mkv: 1088x1088 1 cow, 14.6ms\n",
      "WARNING  'Masks.masks' is deprecated. Use 'Masks.data' instead.\n",
      "video 1/1 (2408/3933) D:\\815_CowDataChecking\\20221230\\20221230_E_cow\\20221230_152538_8796.mkv: 1088x1088 1 cow, 23.5ms\n",
      "video 1/1 (2409/3933) D:\\815_CowDataChecking\\20221230\\20221230_E_cow\\20221230_152538_8796.mkv: 1088x1088 1 cow, 14.5ms\n",
      "WARNING  'Masks.masks' is deprecated. Use 'Masks.data' instead.\n",
      "video 1/1 (2410/3933) D:\\815_CowDataChecking\\20221230\\20221230_E_cow\\20221230_152538_8796.mkv: 1088x1088 1 cow, 21.1ms\n",
      "WARNING  'Masks.masks' is deprecated. Use 'Masks.data' instead.\n",
      "video 1/1 (2411/3933) D:\\815_CowDataChecking\\20221230\\20221230_E_cow\\20221230_152538_8796.mkv: 1088x1088 1 cow, 23.1ms\n",
      "video 1/1 (2412/3933) D:\\815_CowDataChecking\\20221230\\20221230_E_cow\\20221230_152538_8796.mkv: 1088x1088 1 cow, 23.0ms\n",
      "WARNING  'Masks.masks' is deprecated. Use 'Masks.data' instead.\n",
      "video 1/1 (2413/3933) D:\\815_CowDataChecking\\20221230\\20221230_E_cow\\20221230_152538_8796.mkv: 1088x1088 1 cow, 19.4ms\n",
      "WARNING  'Masks.masks' is deprecated. Use 'Masks.data' instead.\n",
      "video 1/1 (2414/3933) D:\\815_CowDataChecking\\20221230\\20221230_E_cow\\20221230_152538_8796.mkv: 1088x1088 1 cow, 24.0ms\n",
      "video 1/1 (2415/3933) D:\\815_CowDataChecking\\20221230\\20221230_E_cow\\20221230_152538_8796.mkv: 1088x1088 1 cow, 16.1ms\n",
      "WARNING  'Masks.masks' is deprecated. Use 'Masks.data' instead.\n",
      "video 1/1 (2416/3933) D:\\815_CowDataChecking\\20221230\\20221230_E_cow\\20221230_152538_8796.mkv: 1088x1088 1 cow, 19.0ms\n",
      "WARNING  'Masks.masks' is deprecated. Use 'Masks.data' instead.\n",
      "video 1/1 (2417/3933) D:\\815_CowDataChecking\\20221230\\20221230_E_cow\\20221230_152538_8796.mkv: 1088x1088 1 cow, 20.8ms\n",
      "video 1/1 (2418/3933) D:\\815_CowDataChecking\\20221230\\20221230_E_cow\\20221230_152538_8796.mkv: 1088x1088 1 cow, 22.1ms\n",
      "WARNING  'Masks.masks' is deprecated. Use 'Masks.data' instead.\n",
      "video 1/1 (2419/3933) D:\\815_CowDataChecking\\20221230\\20221230_E_cow\\20221230_152538_8796.mkv: 1088x1088 1 cow, 18.3ms\n",
      "WARNING  'Masks.masks' is deprecated. Use 'Masks.data' instead.\n",
      "video 1/1 (2420/3933) D:\\815_CowDataChecking\\20221230\\20221230_E_cow\\20221230_152538_8796.mkv: 1088x1088 1 cow, 24.6ms\n",
      "video 1/1 (2421/3933) D:\\815_CowDataChecking\\20221230\\20221230_E_cow\\20221230_152538_8796.mkv: 1088x1088 1 cow, 17.7ms\n",
      "WARNING  'Masks.masks' is deprecated. Use 'Masks.data' instead.\n",
      "video 1/1 (2422/3933) D:\\815_CowDataChecking\\20221230\\20221230_E_cow\\20221230_152538_8796.mkv: 1088x1088 1 cow, 14.6ms\n",
      "WARNING  'Masks.masks' is deprecated. Use 'Masks.data' instead.\n",
      "video 1/1 (2423/3933) D:\\815_CowDataChecking\\20221230\\20221230_E_cow\\20221230_152538_8796.mkv: 1088x1088 1 cow, 18.4ms\n",
      "video 1/1 (2424/3933) D:\\815_CowDataChecking\\20221230\\20221230_E_cow\\20221230_152538_8796.mkv: 1088x1088 1 cow, 22.1ms\n",
      "WARNING  'Masks.masks' is deprecated. Use 'Masks.data' instead.\n",
      "video 1/1 (2425/3933) D:\\815_CowDataChecking\\20221230\\20221230_E_cow\\20221230_152538_8796.mkv: 1088x1088 1 cow, 22.1ms\n",
      "WARNING  'Masks.masks' is deprecated. Use 'Masks.data' instead.\n",
      "video 1/1 (2426/3933) D:\\815_CowDataChecking\\20221230\\20221230_E_cow\\20221230_152538_8796.mkv: 1088x1088 1 cow, 20.0ms\n",
      "video 1/1 (2427/3933) D:\\815_CowDataChecking\\20221230\\20221230_E_cow\\20221230_152538_8796.mkv: 1088x1088 (no detections), 20.5ms\n",
      "video 1/1 (2428/3933) D:\\815_CowDataChecking\\20221230\\20221230_E_cow\\20221230_152538_8796.mkv: 1088x1088 (no detections), 18.1ms\n",
      "video 1/1 (2429/3933) D:\\815_CowDataChecking\\20221230\\20221230_E_cow\\20221230_152538_8796.mkv: 1088x1088 (no detections), 23.1ms\n",
      "video 1/1 (2430/3933) D:\\815_CowDataChecking\\20221230\\20221230_E_cow\\20221230_152538_8796.mkv: 1088x1088 (no detections), 19.5ms\n",
      "video 1/1 (2431/3933) D:\\815_CowDataChecking\\20221230\\20221230_E_cow\\20221230_152538_8796.mkv: 1088x1088 (no detections), 30.0ms\n",
      "video 1/1 (2432/3933) D:\\815_CowDataChecking\\20221230\\20221230_E_cow\\20221230_152538_8796.mkv: 1088x1088 (no detections), 23.7ms\n",
      "video 1/1 (2433/3933) D:\\815_CowDataChecking\\20221230\\20221230_E_cow\\20221230_152538_8796.mkv: 1088x1088 (no detections), 19.2ms\n",
      "video 1/1 (2434/3933) D:\\815_CowDataChecking\\20221230\\20221230_E_cow\\20221230_152538_8796.mkv: 1088x1088 (no detections), 23.6ms\n",
      "video 1/1 (2435/3933) D:\\815_CowDataChecking\\20221230\\20221230_E_cow\\20221230_152538_8796.mkv: 1088x1088 (no detections), 19.6ms\n",
      "video 1/1 (2436/3933) D:\\815_CowDataChecking\\20221230\\20221230_E_cow\\20221230_152538_8796.mkv: 1088x1088 (no detections), 18.1ms\n",
      "video 1/1 (2437/3933) D:\\815_CowDataChecking\\20221230\\20221230_E_cow\\20221230_152538_8796.mkv: 1088x1088 (no detections), 21.3ms\n",
      "video 1/1 (2438/3933) D:\\815_CowDataChecking\\20221230\\20221230_E_cow\\20221230_152538_8796.mkv: 1088x1088 (no detections), 23.2ms\n",
      "video 1/1 (2439/3933) D:\\815_CowDataChecking\\20221230\\20221230_E_cow\\20221230_152538_8796.mkv: 1088x1088 (no detections), 23.5ms\n",
      "video 1/1 (2440/3933) D:\\815_CowDataChecking\\20221230\\20221230_E_cow\\20221230_152538_8796.mkv: 1088x1088 (no detections), 23.6ms\n",
      "video 1/1 (2441/3933) D:\\815_CowDataChecking\\20221230\\20221230_E_cow\\20221230_152538_8796.mkv: 1088x1088 (no detections), 15.6ms\n",
      "video 1/1 (2442/3933) D:\\815_CowDataChecking\\20221230\\20221230_E_cow\\20221230_152538_8796.mkv: 1088x1088 (no detections), 20.2ms\n",
      "video 1/1 (2443/3933) D:\\815_CowDataChecking\\20221230\\20221230_E_cow\\20221230_152538_8796.mkv: 1088x1088 (no detections), 22.4ms\n",
      "video 1/1 (2444/3933) D:\\815_CowDataChecking\\20221230\\20221230_E_cow\\20221230_152538_8796.mkv: 1088x1088 (no detections), 21.6ms\n",
      "video 1/1 (2445/3933) D:\\815_CowDataChecking\\20221230\\20221230_E_cow\\20221230_152538_8796.mkv: 1088x1088 (no detections), 25.4ms\n",
      "video 1/1 (2446/3933) D:\\815_CowDataChecking\\20221230\\20221230_E_cow\\20221230_152538_8796.mkv: 1088x1088 (no detections), 19.1ms\n",
      "video 1/1 (2447/3933) D:\\815_CowDataChecking\\20221230\\20221230_E_cow\\20221230_152538_8796.mkv: 1088x1088 (no detections), 24.3ms\n",
      "video 1/1 (2448/3933) D:\\815_CowDataChecking\\20221230\\20221230_E_cow\\20221230_152538_8796.mkv: 1088x1088 (no detections), 23.8ms\n",
      "video 1/1 (2449/3933) D:\\815_CowDataChecking\\20221230\\20221230_E_cow\\20221230_152538_8796.mkv: 1088x1088 (no detections), 22.5ms\n",
      "video 1/1 (2450/3933) D:\\815_CowDataChecking\\20221230\\20221230_E_cow\\20221230_152538_8796.mkv: 1088x1088 (no detections), 23.4ms\n",
      "video 1/1 (2451/3933) D:\\815_CowDataChecking\\20221230\\20221230_E_cow\\20221230_152538_8796.mkv: 1088x1088 (no detections), 24.5ms\n",
      "video 1/1 (2452/3933) D:\\815_CowDataChecking\\20221230\\20221230_E_cow\\20221230_152538_8796.mkv: 1088x1088 (no detections), 23.3ms\n",
      "video 1/1 (2453/3933) D:\\815_CowDataChecking\\20221230\\20221230_E_cow\\20221230_152538_8796.mkv: 1088x1088 (no detections), 23.1ms\n",
      "video 1/1 (2454/3933) D:\\815_CowDataChecking\\20221230\\20221230_E_cow\\20221230_152538_8796.mkv: 1088x1088 (no detections), 23.0ms\n",
      "video 1/1 (2455/3933) D:\\815_CowDataChecking\\20221230\\20221230_E_cow\\20221230_152538_8796.mkv: 1088x1088 (no detections), 23.8ms\n",
      "video 1/1 (2456/3933) D:\\815_CowDataChecking\\20221230\\20221230_E_cow\\20221230_152538_8796.mkv: 1088x1088 (no detections), 18.3ms\n",
      "video 1/1 (2457/3933) D:\\815_CowDataChecking\\20221230\\20221230_E_cow\\20221230_152538_8796.mkv: 1088x1088 (no detections), 23.4ms\n",
      "video 1/1 (2458/3933) D:\\815_CowDataChecking\\20221230\\20221230_E_cow\\20221230_152538_8796.mkv: 1088x1088 (no detections), 21.0ms\n",
      "video 1/1 (2459/3933) D:\\815_CowDataChecking\\20221230\\20221230_E_cow\\20221230_152538_8796.mkv: 1088x1088 (no detections), 24.2ms\n",
      "video 1/1 (2460/3933) D:\\815_CowDataChecking\\20221230\\20221230_E_cow\\20221230_152538_8796.mkv: 1088x1088 (no detections), 22.0ms\n",
      "video 1/1 (2461/3933) D:\\815_CowDataChecking\\20221230\\20221230_E_cow\\20221230_152538_8796.mkv: 1088x1088 (no detections), 20.2ms\n",
      "video 1/1 (2462/3933) D:\\815_CowDataChecking\\20221230\\20221230_E_cow\\20221230_152538_8796.mkv: 1088x1088 (no detections), 23.7ms\n",
      "video 1/1 (2463/3933) D:\\815_CowDataChecking\\20221230\\20221230_E_cow\\20221230_152538_8796.mkv: 1088x1088 (no detections), 22.0ms\n",
      "video 1/1 (2464/3933) D:\\815_CowDataChecking\\20221230\\20221230_E_cow\\20221230_152538_8796.mkv: 1088x1088 (no detections), 22.0ms\n",
      "video 1/1 (2465/3933) D:\\815_CowDataChecking\\20221230\\20221230_E_cow\\20221230_152538_8796.mkv: 1088x1088 (no detections), 16.0ms\n",
      "video 1/1 (2466/3933) D:\\815_CowDataChecking\\20221230\\20221230_E_cow\\20221230_152538_8796.mkv: 1088x1088 (no detections), 18.6ms\n",
      "video 1/1 (2467/3933) D:\\815_CowDataChecking\\20221230\\20221230_E_cow\\20221230_152538_8796.mkv: 1088x1088 (no detections), 23.7ms\n",
      "video 1/1 (2468/3933) D:\\815_CowDataChecking\\20221230\\20221230_E_cow\\20221230_152538_8796.mkv: 1088x1088 (no detections), 16.2ms\n",
      "video 1/1 (2469/3933) D:\\815_CowDataChecking\\20221230\\20221230_E_cow\\20221230_152538_8796.mkv: 1088x1088 (no detections), 19.5ms\n",
      "video 1/1 (2470/3933) D:\\815_CowDataChecking\\20221230\\20221230_E_cow\\20221230_152538_8796.mkv: 1088x1088 (no detections), 16.4ms\n",
      "video 1/1 (2471/3933) D:\\815_CowDataChecking\\20221230\\20221230_E_cow\\20221230_152538_8796.mkv: 1088x1088 (no detections), 19.7ms\n",
      "video 1/1 (2472/3933) D:\\815_CowDataChecking\\20221230\\20221230_E_cow\\20221230_152538_8796.mkv: 1088x1088 (no detections), 16.1ms\n",
      "video 1/1 (2473/3933) D:\\815_CowDataChecking\\20221230\\20221230_E_cow\\20221230_152538_8796.mkv: 1088x1088 (no detections), 25.1ms\n",
      "video 1/1 (2474/3933) D:\\815_CowDataChecking\\20221230\\20221230_E_cow\\20221230_152538_8796.mkv: 1088x1088 (no detections), 18.2ms\n",
      "video 1/1 (2475/3933) D:\\815_CowDataChecking\\20221230\\20221230_E_cow\\20221230_152538_8796.mkv: 1088x1088 (no detections), 18.5ms\n",
      "video 1/1 (2476/3933) D:\\815_CowDataChecking\\20221230\\20221230_E_cow\\20221230_152538_8796.mkv: 1088x1088 (no detections), 16.7ms\n",
      "video 1/1 (2477/3933) D:\\815_CowDataChecking\\20221230\\20221230_E_cow\\20221230_152538_8796.mkv: 1088x1088 (no detections), 23.1ms\n",
      "video 1/1 (2478/3933) D:\\815_CowDataChecking\\20221230\\20221230_E_cow\\20221230_152538_8796.mkv: 1088x1088 (no detections), 24.0ms\n",
      "video 1/1 (2479/3933) D:\\815_CowDataChecking\\20221230\\20221230_E_cow\\20221230_152538_8796.mkv: 1088x1088 (no detections), 24.3ms\n",
      "video 1/1 (2480/3933) D:\\815_CowDataChecking\\20221230\\20221230_E_cow\\20221230_152538_8796.mkv: 1088x1088 (no detections), 22.8ms\n",
      "video 1/1 (2481/3933) D:\\815_CowDataChecking\\20221230\\20221230_E_cow\\20221230_152538_8796.mkv: 1088x1088 (no detections), 22.1ms\n",
      "video 1/1 (2482/3933) D:\\815_CowDataChecking\\20221230\\20221230_E_cow\\20221230_152538_8796.mkv: 1088x1088 (no detections), 21.1ms\n",
      "video 1/1 (2483/3933) D:\\815_CowDataChecking\\20221230\\20221230_E_cow\\20221230_152538_8796.mkv: 1088x1088 (no detections), 26.5ms\n",
      "video 1/1 (2484/3933) D:\\815_CowDataChecking\\20221230\\20221230_E_cow\\20221230_152538_8796.mkv: 1088x1088 (no detections), 16.4ms\n",
      "video 1/1 (2485/3933) D:\\815_CowDataChecking\\20221230\\20221230_E_cow\\20221230_152538_8796.mkv: 1088x1088 (no detections), 16.5ms\n",
      "video 1/1 (2486/3933) D:\\815_CowDataChecking\\20221230\\20221230_E_cow\\20221230_152538_8796.mkv: 1088x1088 (no detections), 17.0ms\n",
      "video 1/1 (2487/3933) D:\\815_CowDataChecking\\20221230\\20221230_E_cow\\20221230_152538_8796.mkv: 1088x1088 (no detections), 24.4ms\n",
      "video 1/1 (2488/3933) D:\\815_CowDataChecking\\20221230\\20221230_E_cow\\20221230_152538_8796.mkv: 1088x1088 (no detections), 25.2ms\n",
      "video 1/1 (2489/3933) D:\\815_CowDataChecking\\20221230\\20221230_E_cow\\20221230_152538_8796.mkv: 1088x1088 (no detections), 23.1ms\n",
      "video 1/1 (2490/3933) D:\\815_CowDataChecking\\20221230\\20221230_E_cow\\20221230_152538_8796.mkv: 1088x1088 (no detections), 24.3ms\n",
      "video 1/1 (2491/3933) D:\\815_CowDataChecking\\20221230\\20221230_E_cow\\20221230_152538_8796.mkv: 1088x1088 (no detections), 22.2ms\n",
      "video 1/1 (2492/3933) D:\\815_CowDataChecking\\20221230\\20221230_E_cow\\20221230_152538_8796.mkv: 1088x1088 (no detections), 23.2ms\n",
      "video 1/1 (2493/3933) D:\\815_CowDataChecking\\20221230\\20221230_E_cow\\20221230_152538_8796.mkv: 1088x1088 (no detections), 23.5ms\n",
      "video 1/1 (2494/3933) D:\\815_CowDataChecking\\20221230\\20221230_E_cow\\20221230_152538_8796.mkv: 1088x1088 (no detections), 21.1ms\n",
      "video 1/1 (2495/3933) D:\\815_CowDataChecking\\20221230\\20221230_E_cow\\20221230_152538_8796.mkv: 1088x1088 (no detections), 24.1ms\n",
      "video 1/1 (2496/3933) D:\\815_CowDataChecking\\20221230\\20221230_E_cow\\20221230_152538_8796.mkv: 1088x1088 (no detections), 24.0ms\n",
      "video 1/1 (2497/3933) D:\\815_CowDataChecking\\20221230\\20221230_E_cow\\20221230_152538_8796.mkv: 1088x1088 (no detections), 26.6ms\n",
      "video 1/1 (2498/3933) D:\\815_CowDataChecking\\20221230\\20221230_E_cow\\20221230_152538_8796.mkv: 1088x1088 (no detections), 19.0ms\n",
      "video 1/1 (2499/3933) D:\\815_CowDataChecking\\20221230\\20221230_E_cow\\20221230_152538_8796.mkv: 1088x1088 (no detections), 16.0ms\n",
      "video 1/1 (2500/3933) D:\\815_CowDataChecking\\20221230\\20221230_E_cow\\20221230_152538_8796.mkv: 1088x1088 (no detections), 21.9ms\n",
      "video 1/1 (2501/3933) D:\\815_CowDataChecking\\20221230\\20221230_E_cow\\20221230_152538_8796.mkv: 1088x1088 (no detections), 24.1ms\n",
      "video 1/1 (2502/3933) D:\\815_CowDataChecking\\20221230\\20221230_E_cow\\20221230_152538_8796.mkv: 1088x1088 (no detections), 17.3ms\n",
      "video 1/1 (2503/3933) D:\\815_CowDataChecking\\20221230\\20221230_E_cow\\20221230_152538_8796.mkv: 1088x1088 (no detections), 16.5ms\n",
      "video 1/1 (2504/3933) D:\\815_CowDataChecking\\20221230\\20221230_E_cow\\20221230_152538_8796.mkv: 1088x1088 (no detections), 23.1ms\n",
      "video 1/1 (2505/3933) D:\\815_CowDataChecking\\20221230\\20221230_E_cow\\20221230_152538_8796.mkv: 1088x1088 (no detections), 23.7ms\n",
      "video 1/1 (2506/3933) D:\\815_CowDataChecking\\20221230\\20221230_E_cow\\20221230_152538_8796.mkv: 1088x1088 (no detections), 23.2ms\n",
      "video 1/1 (2507/3933) D:\\815_CowDataChecking\\20221230\\20221230_E_cow\\20221230_152538_8796.mkv: 1088x1088 (no detections), 20.4ms\n",
      "video 1/1 (2508/3933) D:\\815_CowDataChecking\\20221230\\20221230_E_cow\\20221230_152538_8796.mkv: 1088x1088 (no detections), 17.1ms\n",
      "video 1/1 (2509/3933) D:\\815_CowDataChecking\\20221230\\20221230_E_cow\\20221230_152538_8796.mkv: 1088x1088 (no detections), 16.3ms\n",
      "video 1/1 (2510/3933) D:\\815_CowDataChecking\\20221230\\20221230_E_cow\\20221230_152538_8796.mkv: 1088x1088 (no detections), 19.9ms\n",
      "video 1/1 (2511/3933) D:\\815_CowDataChecking\\20221230\\20221230_E_cow\\20221230_152538_8796.mkv: 1088x1088 (no detections), 18.6ms\n",
      "video 1/1 (2512/3933) D:\\815_CowDataChecking\\20221230\\20221230_E_cow\\20221230_152538_8796.mkv: 1088x1088 (no detections), 18.9ms\n",
      "video 1/1 (2513/3933) D:\\815_CowDataChecking\\20221230\\20221230_E_cow\\20221230_152538_8796.mkv: 1088x1088 (no detections), 17.0ms\n",
      "video 1/1 (2514/3933) D:\\815_CowDataChecking\\20221230\\20221230_E_cow\\20221230_152538_8796.mkv: 1088x1088 (no detections), 23.1ms\n",
      "video 1/1 (2515/3933) D:\\815_CowDataChecking\\20221230\\20221230_E_cow\\20221230_152538_8796.mkv: 1088x1088 (no detections), 23.6ms\n",
      "video 1/1 (2516/3933) D:\\815_CowDataChecking\\20221230\\20221230_E_cow\\20221230_152538_8796.mkv: 1088x1088 (no detections), 21.1ms\n",
      "video 1/1 (2517/3933) D:\\815_CowDataChecking\\20221230\\20221230_E_cow\\20221230_152538_8796.mkv: 1088x1088 (no detections), 17.0ms\n",
      "video 1/1 (2518/3933) D:\\815_CowDataChecking\\20221230\\20221230_E_cow\\20221230_152538_8796.mkv: 1088x1088 (no detections), 17.1ms\n",
      "video 1/1 (2519/3933) D:\\815_CowDataChecking\\20221230\\20221230_E_cow\\20221230_152538_8796.mkv: 1088x1088 (no detections), 14.7ms\n",
      "video 1/1 (2520/3933) D:\\815_CowDataChecking\\20221230\\20221230_E_cow\\20221230_152538_8796.mkv: 1088x1088 (no detections), 22.5ms\n",
      "video 1/1 (2521/3933) D:\\815_CowDataChecking\\20221230\\20221230_E_cow\\20221230_152538_8796.mkv: 1088x1088 (no detections), 24.7ms\n",
      "video 1/1 (2522/3933) D:\\815_CowDataChecking\\20221230\\20221230_E_cow\\20221230_152538_8796.mkv: 1088x1088 (no detections), 23.1ms\n",
      "video 1/1 (2523/3933) D:\\815_CowDataChecking\\20221230\\20221230_E_cow\\20221230_152538_8796.mkv: 1088x1088 (no detections), 23.7ms\n",
      "video 1/1 (2524/3933) D:\\815_CowDataChecking\\20221230\\20221230_E_cow\\20221230_152538_8796.mkv: 1088x1088 (no detections), 22.2ms\n",
      "video 1/1 (2525/3933) D:\\815_CowDataChecking\\20221230\\20221230_E_cow\\20221230_152538_8796.mkv: 1088x1088 (no detections), 18.3ms\n",
      "video 1/1 (2526/3933) D:\\815_CowDataChecking\\20221230\\20221230_E_cow\\20221230_152538_8796.mkv: 1088x1088 (no detections), 16.5ms\n",
      "video 1/1 (2527/3933) D:\\815_CowDataChecking\\20221230\\20221230_E_cow\\20221230_152538_8796.mkv: 1088x1088 (no detections), 18.4ms\n",
      "video 1/1 (2528/3933) D:\\815_CowDataChecking\\20221230\\20221230_E_cow\\20221230_152538_8796.mkv: 1088x1088 (no detections), 23.0ms\n",
      "video 1/1 (2529/3933) D:\\815_CowDataChecking\\20221230\\20221230_E_cow\\20221230_152538_8796.mkv: 1088x1088 (no detections), 23.5ms\n",
      "video 1/1 (2530/3933) D:\\815_CowDataChecking\\20221230\\20221230_E_cow\\20221230_152538_8796.mkv: 1088x1088 (no detections), 16.3ms\n",
      "video 1/1 (2531/3933) D:\\815_CowDataChecking\\20221230\\20221230_E_cow\\20221230_152538_8796.mkv: 1088x1088 (no detections), 24.2ms\n",
      "video 1/1 (2532/3933) D:\\815_CowDataChecking\\20221230\\20221230_E_cow\\20221230_152538_8796.mkv: 1088x1088 (no detections), 23.1ms\n",
      "video 1/1 (2533/3933) D:\\815_CowDataChecking\\20221230\\20221230_E_cow\\20221230_152538_8796.mkv: 1088x1088 (no detections), 22.1ms\n",
      "video 1/1 (2534/3933) D:\\815_CowDataChecking\\20221230\\20221230_E_cow\\20221230_152538_8796.mkv: 1088x1088 (no detections), 23.1ms\n",
      "video 1/1 (2535/3933) D:\\815_CowDataChecking\\20221230\\20221230_E_cow\\20221230_152538_8796.mkv: 1088x1088 (no detections), 24.4ms\n",
      "video 1/1 (2536/3933) D:\\815_CowDataChecking\\20221230\\20221230_E_cow\\20221230_152538_8796.mkv: 1088x1088 (no detections), 23.1ms\n",
      "video 1/1 (2537/3933) D:\\815_CowDataChecking\\20221230\\20221230_E_cow\\20221230_152538_8796.mkv: 1088x1088 (no detections), 23.1ms\n",
      "video 1/1 (2538/3933) D:\\815_CowDataChecking\\20221230\\20221230_E_cow\\20221230_152538_8796.mkv: 1088x1088 (no detections), 23.5ms\n",
      "video 1/1 (2539/3933) D:\\815_CowDataChecking\\20221230\\20221230_E_cow\\20221230_152538_8796.mkv: 1088x1088 (no detections), 24.5ms\n",
      "video 1/1 (2540/3933) D:\\815_CowDataChecking\\20221230\\20221230_E_cow\\20221230_152538_8796.mkv: 1088x1088 (no detections), 18.5ms\n",
      "video 1/1 (2541/3933) D:\\815_CowDataChecking\\20221230\\20221230_E_cow\\20221230_152538_8796.mkv: 1088x1088 (no detections), 25.5ms\n",
      "video 1/1 (2542/3933) D:\\815_CowDataChecking\\20221230\\20221230_E_cow\\20221230_152538_8796.mkv: 1088x1088 (no detections), 24.2ms\n",
      "video 1/1 (2543/3933) D:\\815_CowDataChecking\\20221230\\20221230_E_cow\\20221230_152538_8796.mkv: 1088x1088 (no detections), 23.0ms\n",
      "video 1/1 (2544/3933) D:\\815_CowDataChecking\\20221230\\20221230_E_cow\\20221230_152538_8796.mkv: 1088x1088 (no detections), 23.1ms\n",
      "video 1/1 (2545/3933) D:\\815_CowDataChecking\\20221230\\20221230_E_cow\\20221230_152538_8796.mkv: 1088x1088 (no detections), 22.1ms\n",
      "video 1/1 (2546/3933) D:\\815_CowDataChecking\\20221230\\20221230_E_cow\\20221230_152538_8796.mkv: 1088x1088 (no detections), 24.0ms\n",
      "video 1/1 (2547/3933) D:\\815_CowDataChecking\\20221230\\20221230_E_cow\\20221230_152538_8796.mkv: 1088x1088 (no detections), 16.1ms\n",
      "video 1/1 (2548/3933) D:\\815_CowDataChecking\\20221230\\20221230_E_cow\\20221230_152538_8796.mkv: 1088x1088 (no detections), 23.2ms\n",
      "video 1/1 (2549/3933) D:\\815_CowDataChecking\\20221230\\20221230_E_cow\\20221230_152538_8796.mkv: 1088x1088 (no detections), 20.5ms\n",
      "video 1/1 (2550/3933) D:\\815_CowDataChecking\\20221230\\20221230_E_cow\\20221230_152538_8796.mkv: 1088x1088 (no detections), 17.4ms\n",
      "video 1/1 (2551/3933) D:\\815_CowDataChecking\\20221230\\20221230_E_cow\\20221230_152538_8796.mkv: 1088x1088 (no detections), 15.2ms\n",
      "video 1/1 (2552/3933) D:\\815_CowDataChecking\\20221230\\20221230_E_cow\\20221230_152538_8796.mkv: 1088x1088 (no detections), 23.2ms\n",
      "video 1/1 (2553/3933) D:\\815_CowDataChecking\\20221230\\20221230_E_cow\\20221230_152538_8796.mkv: 1088x1088 (no detections), 20.5ms\n",
      "video 1/1 (2554/3933) D:\\815_CowDataChecking\\20221230\\20221230_E_cow\\20221230_152538_8796.mkv: 1088x1088 (no detections), 21.5ms\n",
      "video 1/1 (2555/3933) D:\\815_CowDataChecking\\20221230\\20221230_E_cow\\20221230_152538_8796.mkv: 1088x1088 (no detections), 16.1ms\n",
      "video 1/1 (2556/3933) D:\\815_CowDataChecking\\20221230\\20221230_E_cow\\20221230_152538_8796.mkv: 1088x1088 (no detections), 20.8ms\n",
      "video 1/1 (2557/3933) D:\\815_CowDataChecking\\20221230\\20221230_E_cow\\20221230_152538_8796.mkv: 1088x1088 (no detections), 20.5ms\n",
      "video 1/1 (2558/3933) D:\\815_CowDataChecking\\20221230\\20221230_E_cow\\20221230_152538_8796.mkv: 1088x1088 (no detections), 23.2ms\n",
      "video 1/1 (2559/3933) D:\\815_CowDataChecking\\20221230\\20221230_E_cow\\20221230_152538_8796.mkv: 1088x1088 (no detections), 23.1ms\n",
      "video 1/1 (2560/3933) D:\\815_CowDataChecking\\20221230\\20221230_E_cow\\20221230_152538_8796.mkv: 1088x1088 (no detections), 22.3ms\n",
      "video 1/1 (2561/3933) D:\\815_CowDataChecking\\20221230\\20221230_E_cow\\20221230_152538_8796.mkv: 1088x1088 (no detections), 22.0ms\n",
      "video 1/1 (2562/3933) D:\\815_CowDataChecking\\20221230\\20221230_E_cow\\20221230_152538_8796.mkv: 1088x1088 (no detections), 23.0ms\n",
      "video 1/1 (2563/3933) D:\\815_CowDataChecking\\20221230\\20221230_E_cow\\20221230_152538_8796.mkv: 1088x1088 (no detections), 22.1ms\n",
      "video 1/1 (2564/3933) D:\\815_CowDataChecking\\20221230\\20221230_E_cow\\20221230_152538_8796.mkv: 1088x1088 (no detections), 23.4ms\n",
      "video 1/1 (2565/3933) D:\\815_CowDataChecking\\20221230\\20221230_E_cow\\20221230_152538_8796.mkv: 1088x1088 (no detections), 24.7ms\n",
      "video 1/1 (2566/3933) D:\\815_CowDataChecking\\20221230\\20221230_E_cow\\20221230_152538_8796.mkv: 1088x1088 (no detections), 22.1ms\n",
      "video 1/1 (2567/3933) D:\\815_CowDataChecking\\20221230\\20221230_E_cow\\20221230_152538_8796.mkv: 1088x1088 (no detections), 18.3ms\n",
      "video 1/1 (2568/3933) D:\\815_CowDataChecking\\20221230\\20221230_E_cow\\20221230_152538_8796.mkv: 1088x1088 (no detections), 17.2ms\n",
      "video 1/1 (2569/3933) D:\\815_CowDataChecking\\20221230\\20221230_E_cow\\20221230_152538_8796.mkv: 1088x1088 (no detections), 15.2ms\n",
      "video 1/1 (2570/3933) D:\\815_CowDataChecking\\20221230\\20221230_E_cow\\20221230_152538_8796.mkv: 1088x1088 (no detections), 20.1ms\n",
      "video 1/1 (2571/3933) D:\\815_CowDataChecking\\20221230\\20221230_E_cow\\20221230_152538_8796.mkv: 1088x1088 (no detections), 21.4ms\n",
      "video 1/1 (2572/3933) D:\\815_CowDataChecking\\20221230\\20221230_E_cow\\20221230_152538_8796.mkv: 1088x1088 (no detections), 17.0ms\n",
      "video 1/1 (2573/3933) D:\\815_CowDataChecking\\20221230\\20221230_E_cow\\20221230_152538_8796.mkv: 1088x1088 (no detections), 25.7ms\n",
      "video 1/1 (2574/3933) D:\\815_CowDataChecking\\20221230\\20221230_E_cow\\20221230_152538_8796.mkv: 1088x1088 (no detections), 19.2ms\n",
      "video 1/1 (2575/3933) D:\\815_CowDataChecking\\20221230\\20221230_E_cow\\20221230_152538_8796.mkv: 1088x1088 (no detections), 18.1ms\n",
      "video 1/1 (2576/3933) D:\\815_CowDataChecking\\20221230\\20221230_E_cow\\20221230_152538_8796.mkv: 1088x1088 (no detections), 23.0ms\n",
      "video 1/1 (2577/3933) D:\\815_CowDataChecking\\20221230\\20221230_E_cow\\20221230_152538_8796.mkv: 1088x1088 (no detections), 24.1ms\n",
      "video 1/1 (2578/3933) D:\\815_CowDataChecking\\20221230\\20221230_E_cow\\20221230_152538_8796.mkv: 1088x1088 (no detections), 23.0ms\n",
      "video 1/1 (2579/3933) D:\\815_CowDataChecking\\20221230\\20221230_E_cow\\20221230_152538_8796.mkv: 1088x1088 (no detections), 22.4ms\n",
      "video 1/1 (2580/3933) D:\\815_CowDataChecking\\20221230\\20221230_E_cow\\20221230_152538_8796.mkv: 1088x1088 (no detections), 24.9ms\n",
      "video 1/1 (2581/3933) D:\\815_CowDataChecking\\20221230\\20221230_E_cow\\20221230_152538_8796.mkv: 1088x1088 (no detections), 23.3ms\n",
      "video 1/1 (2582/3933) D:\\815_CowDataChecking\\20221230\\20221230_E_cow\\20221230_152538_8796.mkv: 1088x1088 (no detections), 18.1ms\n",
      "video 1/1 (2583/3933) D:\\815_CowDataChecking\\20221230\\20221230_E_cow\\20221230_152538_8796.mkv: 1088x1088 (no detections), 18.3ms\n",
      "video 1/1 (2584/3933) D:\\815_CowDataChecking\\20221230\\20221230_E_cow\\20221230_152538_8796.mkv: 1088x1088 (no detections), 15.6ms\n",
      "video 1/1 (2585/3933) D:\\815_CowDataChecking\\20221230\\20221230_E_cow\\20221230_152538_8796.mkv: 1088x1088 (no detections), 19.0ms\n",
      "video 1/1 (2586/3933) D:\\815_CowDataChecking\\20221230\\20221230_E_cow\\20221230_152538_8796.mkv: 1088x1088 (no detections), 22.5ms\n",
      "video 1/1 (2587/3933) D:\\815_CowDataChecking\\20221230\\20221230_E_cow\\20221230_152538_8796.mkv: 1088x1088 (no detections), 22.8ms\n",
      "video 1/1 (2588/3933) D:\\815_CowDataChecking\\20221230\\20221230_E_cow\\20221230_152538_8796.mkv: 1088x1088 (no detections), 18.1ms\n",
      "video 1/1 (2589/3933) D:\\815_CowDataChecking\\20221230\\20221230_E_cow\\20221230_152538_8796.mkv: 1088x1088 (no detections), 22.4ms\n",
      "video 1/1 (2590/3933) D:\\815_CowDataChecking\\20221230\\20221230_E_cow\\20221230_152538_8796.mkv: 1088x1088 (no detections), 22.6ms\n",
      "video 1/1 (2591/3933) D:\\815_CowDataChecking\\20221230\\20221230_E_cow\\20221230_152538_8796.mkv: 1088x1088 (no detections), 23.1ms\n",
      "video 1/1 (2592/3933) D:\\815_CowDataChecking\\20221230\\20221230_E_cow\\20221230_152538_8796.mkv: 1088x1088 (no detections), 23.1ms\n",
      "video 1/1 (2593/3933) D:\\815_CowDataChecking\\20221230\\20221230_E_cow\\20221230_152538_8796.mkv: 1088x1088 (no detections), 23.0ms\n",
      "video 1/1 (2594/3933) D:\\815_CowDataChecking\\20221230\\20221230_E_cow\\20221230_152538_8796.mkv: 1088x1088 (no detections), 25.9ms\n",
      "video 1/1 (2595/3933) D:\\815_CowDataChecking\\20221230\\20221230_E_cow\\20221230_152538_8796.mkv: 1088x1088 (no detections), 16.4ms\n",
      "video 1/1 (2596/3933) D:\\815_CowDataChecking\\20221230\\20221230_E_cow\\20221230_152538_8796.mkv: 1088x1088 (no detections), 24.0ms\n",
      "video 1/1 (2597/3933) D:\\815_CowDataChecking\\20221230\\20221230_E_cow\\20221230_152538_8796.mkv: 1088x1088 (no detections), 16.4ms\n",
      "video 1/1 (2598/3933) D:\\815_CowDataChecking\\20221230\\20221230_E_cow\\20221230_152538_8796.mkv: 1088x1088 (no detections), 22.0ms\n",
      "video 1/1 (2599/3933) D:\\815_CowDataChecking\\20221230\\20221230_E_cow\\20221230_152538_8796.mkv: 1088x1088 (no detections), 24.1ms\n",
      "video 1/1 (2600/3933) D:\\815_CowDataChecking\\20221230\\20221230_E_cow\\20221230_152538_8796.mkv: 1088x1088 (no detections), 20.3ms\n",
      "video 1/1 (2601/3933) D:\\815_CowDataChecking\\20221230\\20221230_E_cow\\20221230_152538_8796.mkv: 1088x1088 (no detections), 17.0ms\n",
      "video 1/1 (2602/3933) D:\\815_CowDataChecking\\20221230\\20221230_E_cow\\20221230_152538_8796.mkv: 1088x1088 (no detections), 16.5ms\n",
      "video 1/1 (2603/3933) D:\\815_CowDataChecking\\20221230\\20221230_E_cow\\20221230_152538_8796.mkv: 1088x1088 (no detections), 18.6ms\n",
      "video 1/1 (2604/3933) D:\\815_CowDataChecking\\20221230\\20221230_E_cow\\20221230_152538_8796.mkv: 1088x1088 (no detections), 16.1ms\n",
      "video 1/1 (2605/3933) D:\\815_CowDataChecking\\20221230\\20221230_E_cow\\20221230_152538_8796.mkv: 1088x1088 (no detections), 15.5ms\n",
      "video 1/1 (2606/3933) D:\\815_CowDataChecking\\20221230\\20221230_E_cow\\20221230_152538_8796.mkv: 1088x1088 (no detections), 17.9ms\n",
      "video 1/1 (2607/3933) D:\\815_CowDataChecking\\20221230\\20221230_E_cow\\20221230_152538_8796.mkv: 1088x1088 (no detections), 18.6ms\n",
      "video 1/1 (2608/3933) D:\\815_CowDataChecking\\20221230\\20221230_E_cow\\20221230_152538_8796.mkv: 1088x1088 (no detections), 24.5ms\n",
      "video 1/1 (2609/3933) D:\\815_CowDataChecking\\20221230\\20221230_E_cow\\20221230_152538_8796.mkv: 1088x1088 (no detections), 22.5ms\n",
      "video 1/1 (2610/3933) D:\\815_CowDataChecking\\20221230\\20221230_E_cow\\20221230_152538_8796.mkv: 1088x1088 (no detections), 19.8ms\n",
      "video 1/1 (2611/3933) D:\\815_CowDataChecking\\20221230\\20221230_E_cow\\20221230_152538_8796.mkv: 1088x1088 (no detections), 18.4ms\n",
      "video 1/1 (2612/3933) D:\\815_CowDataChecking\\20221230\\20221230_E_cow\\20221230_152538_8796.mkv: 1088x1088 (no detections), 19.4ms\n",
      "video 1/1 (2613/3933) D:\\815_CowDataChecking\\20221230\\20221230_E_cow\\20221230_152538_8796.mkv: 1088x1088 (no detections), 23.3ms\n",
      "video 1/1 (2614/3933) D:\\815_CowDataChecking\\20221230\\20221230_E_cow\\20221230_152538_8796.mkv: 1088x1088 (no detections), 21.4ms\n",
      "video 1/1 (2615/3933) D:\\815_CowDataChecking\\20221230\\20221230_E_cow\\20221230_152538_8796.mkv: 1088x1088 (no detections), 23.0ms\n",
      "video 1/1 (2616/3933) D:\\815_CowDataChecking\\20221230\\20221230_E_cow\\20221230_152538_8796.mkv: 1088x1088 (no detections), 23.0ms\n",
      "video 1/1 (2617/3933) D:\\815_CowDataChecking\\20221230\\20221230_E_cow\\20221230_152538_8796.mkv: 1088x1088 (no detections), 21.5ms\n",
      "video 1/1 (2618/3933) D:\\815_CowDataChecking\\20221230\\20221230_E_cow\\20221230_152538_8796.mkv: 1088x1088 (no detections), 23.2ms\n",
      "video 1/1 (2619/3933) D:\\815_CowDataChecking\\20221230\\20221230_E_cow\\20221230_152538_8796.mkv: 1088x1088 (no detections), 23.4ms\n",
      "video 1/1 (2620/3933) D:\\815_CowDataChecking\\20221230\\20221230_E_cow\\20221230_152538_8796.mkv: 1088x1088 (no detections), 22.0ms\n",
      "video 1/1 (2621/3933) D:\\815_CowDataChecking\\20221230\\20221230_E_cow\\20221230_152538_8796.mkv: 1088x1088 (no detections), 24.7ms\n",
      "video 1/1 (2622/3933) D:\\815_CowDataChecking\\20221230\\20221230_E_cow\\20221230_152538_8796.mkv: 1088x1088 (no detections), 16.5ms\n",
      "video 1/1 (2623/3933) D:\\815_CowDataChecking\\20221230\\20221230_E_cow\\20221230_152538_8796.mkv: 1088x1088 (no detections), 14.4ms\n",
      "video 1/1 (2624/3933) D:\\815_CowDataChecking\\20221230\\20221230_E_cow\\20221230_152538_8796.mkv: 1088x1088 (no detections), 22.0ms\n",
      "video 1/1 (2625/3933) D:\\815_CowDataChecking\\20221230\\20221230_E_cow\\20221230_152538_8796.mkv: 1088x1088 (no detections), 23.5ms\n",
      "video 1/1 (2626/3933) D:\\815_CowDataChecking\\20221230\\20221230_E_cow\\20221230_152538_8796.mkv: 1088x1088 (no detections), 30.3ms\n",
      "video 1/1 (2627/3933) D:\\815_CowDataChecking\\20221230\\20221230_E_cow\\20221230_152538_8796.mkv: 1088x1088 (no detections), 18.1ms\n",
      "video 1/1 (2628/3933) D:\\815_CowDataChecking\\20221230\\20221230_E_cow\\20221230_152538_8796.mkv: 1088x1088 (no detections), 16.4ms\n",
      "video 1/1 (2629/3933) D:\\815_CowDataChecking\\20221230\\20221230_E_cow\\20221230_152538_8796.mkv: 1088x1088 (no detections), 16.1ms\n",
      "video 1/1 (2630/3933) D:\\815_CowDataChecking\\20221230\\20221230_E_cow\\20221230_152538_8796.mkv: 1088x1088 (no detections), 19.6ms\n",
      "video 1/1 (2631/3933) D:\\815_CowDataChecking\\20221230\\20221230_E_cow\\20221230_152538_8796.mkv: 1088x1088 (no detections), 17.1ms\n",
      "video 1/1 (2632/3933) D:\\815_CowDataChecking\\20221230\\20221230_E_cow\\20221230_152538_8796.mkv: 1088x1088 (no detections), 25.2ms\n",
      "video 1/1 (2633/3933) D:\\815_CowDataChecking\\20221230\\20221230_E_cow\\20221230_152538_8796.mkv: 1088x1088 (no detections), 20.8ms\n",
      "video 1/1 (2634/3933) D:\\815_CowDataChecking\\20221230\\20221230_E_cow\\20221230_152538_8796.mkv: 1088x1088 (no detections), 17.5ms\n",
      "video 1/1 (2635/3933) D:\\815_CowDataChecking\\20221230\\20221230_E_cow\\20221230_152538_8796.mkv: 1088x1088 (no detections), 31.6ms\n",
      "video 1/1 (2636/3933) D:\\815_CowDataChecking\\20221230\\20221230_E_cow\\20221230_152538_8796.mkv: 1088x1088 (no detections), 17.5ms\n",
      "video 1/1 (2637/3933) D:\\815_CowDataChecking\\20221230\\20221230_E_cow\\20221230_152538_8796.mkv: 1088x1088 (no detections), 18.6ms\n",
      "video 1/1 (2638/3933) D:\\815_CowDataChecking\\20221230\\20221230_E_cow\\20221230_152538_8796.mkv: 1088x1088 (no detections), 16.4ms\n",
      "video 1/1 (2639/3933) D:\\815_CowDataChecking\\20221230\\20221230_E_cow\\20221230_152538_8796.mkv: 1088x1088 (no detections), 22.6ms\n",
      "video 1/1 (2640/3933) D:\\815_CowDataChecking\\20221230\\20221230_E_cow\\20221230_152538_8796.mkv: 1088x1088 (no detections), 21.4ms\n",
      "video 1/1 (2641/3933) D:\\815_CowDataChecking\\20221230\\20221230_E_cow\\20221230_152538_8796.mkv: 1088x1088 (no detections), 19.4ms\n",
      "video 1/1 (2642/3933) D:\\815_CowDataChecking\\20221230\\20221230_E_cow\\20221230_152538_8796.mkv: 1088x1088 (no detections), 23.0ms\n",
      "video 1/1 (2643/3933) D:\\815_CowDataChecking\\20221230\\20221230_E_cow\\20221230_152538_8796.mkv: 1088x1088 (no detections), 21.9ms\n",
      "video 1/1 (2644/3933) D:\\815_CowDataChecking\\20221230\\20221230_E_cow\\20221230_152538_8796.mkv: 1088x1088 (no detections), 21.1ms\n",
      "video 1/1 (2645/3933) D:\\815_CowDataChecking\\20221230\\20221230_E_cow\\20221230_152538_8796.mkv: 1088x1088 (no detections), 23.4ms\n",
      "video 1/1 (2646/3933) D:\\815_CowDataChecking\\20221230\\20221230_E_cow\\20221230_152538_8796.mkv: 1088x1088 (no detections), 24.4ms\n",
      "video 1/1 (2647/3933) D:\\815_CowDataChecking\\20221230\\20221230_E_cow\\20221230_152538_8796.mkv: 1088x1088 (no detections), 22.0ms\n",
      "video 1/1 (2648/3933) D:\\815_CowDataChecking\\20221230\\20221230_E_cow\\20221230_152538_8796.mkv: 1088x1088 (no detections), 22.0ms\n",
      "video 1/1 (2649/3933) D:\\815_CowDataChecking\\20221230\\20221230_E_cow\\20221230_152538_8796.mkv: 1088x1088 (no detections), 19.1ms\n",
      "video 1/1 (2650/3933) D:\\815_CowDataChecking\\20221230\\20221230_E_cow\\20221230_152538_8796.mkv: 1088x1088 (no detections), 19.0ms\n",
      "video 1/1 (2651/3933) D:\\815_CowDataChecking\\20221230\\20221230_E_cow\\20221230_152538_8796.mkv: 1088x1088 (no detections), 17.1ms\n",
      "video 1/1 (2652/3933) D:\\815_CowDataChecking\\20221230\\20221230_E_cow\\20221230_152538_8796.mkv: 1088x1088 (no detections), 22.4ms\n",
      "video 1/1 (2653/3933) D:\\815_CowDataChecking\\20221230\\20221230_E_cow\\20221230_152538_8796.mkv: 1088x1088 (no detections), 20.8ms\n",
      "video 1/1 (2654/3933) D:\\815_CowDataChecking\\20221230\\20221230_E_cow\\20221230_152538_8796.mkv: 1088x1088 (no detections), 20.1ms\n",
      "video 1/1 (2655/3933) D:\\815_CowDataChecking\\20221230\\20221230_E_cow\\20221230_152538_8796.mkv: 1088x1088 (no detections), 17.5ms\n",
      "video 1/1 (2656/3933) D:\\815_CowDataChecking\\20221230\\20221230_E_cow\\20221230_152538_8796.mkv: 1088x1088 (no detections), 24.2ms\n",
      "video 1/1 (2657/3933) D:\\815_CowDataChecking\\20221230\\20221230_E_cow\\20221230_152538_8796.mkv: 1088x1088 (no detections), 19.5ms\n",
      "video 1/1 (2658/3933) D:\\815_CowDataChecking\\20221230\\20221230_E_cow\\20221230_152538_8796.mkv: 1088x1088 (no detections), 16.6ms\n",
      "video 1/1 (2659/3933) D:\\815_CowDataChecking\\20221230\\20221230_E_cow\\20221230_152538_8796.mkv: 1088x1088 (no detections), 20.7ms\n",
      "video 1/1 (2660/3933) D:\\815_CowDataChecking\\20221230\\20221230_E_cow\\20221230_152538_8796.mkv: 1088x1088 (no detections), 16.4ms\n",
      "video 1/1 (2661/3933) D:\\815_CowDataChecking\\20221230\\20221230_E_cow\\20221230_152538_8796.mkv: 1088x1088 (no detections), 23.6ms\n",
      "video 1/1 (2662/3933) D:\\815_CowDataChecking\\20221230\\20221230_E_cow\\20221230_152538_8796.mkv: 1088x1088 (no detections), 20.1ms\n",
      "video 1/1 (2663/3933) D:\\815_CowDataChecking\\20221230\\20221230_E_cow\\20221230_152538_8796.mkv: 1088x1088 (no detections), 19.7ms\n",
      "video 1/1 (2664/3933) D:\\815_CowDataChecking\\20221230\\20221230_E_cow\\20221230_152538_8796.mkv: 1088x1088 (no detections), 17.6ms\n",
      "video 1/1 (2665/3933) D:\\815_CowDataChecking\\20221230\\20221230_E_cow\\20221230_152538_8796.mkv: 1088x1088 (no detections), 24.1ms\n",
      "video 1/1 (2666/3933) D:\\815_CowDataChecking\\20221230\\20221230_E_cow\\20221230_152538_8796.mkv: 1088x1088 (no detections), 18.5ms\n",
      "video 1/1 (2667/3933) D:\\815_CowDataChecking\\20221230\\20221230_E_cow\\20221230_152538_8796.mkv: 1088x1088 (no detections), 16.4ms\n",
      "video 1/1 (2668/3933) D:\\815_CowDataChecking\\20221230\\20221230_E_cow\\20221230_152538_8796.mkv: 1088x1088 (no detections), 22.9ms\n",
      "video 1/1 (2669/3933) D:\\815_CowDataChecking\\20221230\\20221230_E_cow\\20221230_152538_8796.mkv: 1088x1088 (no detections), 30.8ms\n",
      "video 1/1 (2670/3933) D:\\815_CowDataChecking\\20221230\\20221230_E_cow\\20221230_152538_8796.mkv: 1088x1088 (no detections), 30.2ms\n",
      "video 1/1 (2671/3933) D:\\815_CowDataChecking\\20221230\\20221230_E_cow\\20221230_152538_8796.mkv: 1088x1088 (no detections), 24.7ms\n",
      "video 1/1 (2672/3933) D:\\815_CowDataChecking\\20221230\\20221230_E_cow\\20221230_152538_8796.mkv: 1088x1088 (no detections), 21.3ms\n",
      "video 1/1 (2673/3933) D:\\815_CowDataChecking\\20221230\\20221230_E_cow\\20221230_152538_8796.mkv: 1088x1088 (no detections), 23.7ms\n",
      "video 1/1 (2674/3933) D:\\815_CowDataChecking\\20221230\\20221230_E_cow\\20221230_152538_8796.mkv: 1088x1088 (no detections), 21.3ms\n",
      "video 1/1 (2675/3933) D:\\815_CowDataChecking\\20221230\\20221230_E_cow\\20221230_152538_8796.mkv: 1088x1088 (no detections), 23.0ms\n",
      "video 1/1 (2676/3933) D:\\815_CowDataChecking\\20221230\\20221230_E_cow\\20221230_152538_8796.mkv: 1088x1088 (no detections), 20.1ms\n",
      "video 1/1 (2677/3933) D:\\815_CowDataChecking\\20221230\\20221230_E_cow\\20221230_152538_8796.mkv: 1088x1088 (no detections), 23.6ms\n",
      "video 1/1 (2678/3933) D:\\815_CowDataChecking\\20221230\\20221230_E_cow\\20221230_152538_8796.mkv: 1088x1088 (no detections), 22.1ms\n",
      "video 1/1 (2679/3933) D:\\815_CowDataChecking\\20221230\\20221230_E_cow\\20221230_152538_8796.mkv: 1088x1088 (no detections), 23.9ms\n",
      "video 1/1 (2680/3933) D:\\815_CowDataChecking\\20221230\\20221230_E_cow\\20221230_152538_8796.mkv: 1088x1088 (no detections), 25.9ms\n",
      "video 1/1 (2681/3933) D:\\815_CowDataChecking\\20221230\\20221230_E_cow\\20221230_152538_8796.mkv: 1088x1088 (no detections), 21.3ms\n",
      "video 1/1 (2682/3933) D:\\815_CowDataChecking\\20221230\\20221230_E_cow\\20221230_152538_8796.mkv: 1088x1088 (no detections), 21.9ms\n",
      "video 1/1 (2683/3933) D:\\815_CowDataChecking\\20221230\\20221230_E_cow\\20221230_152538_8796.mkv: 1088x1088 (no detections), 17.9ms\n",
      "video 1/1 (2684/3933) D:\\815_CowDataChecking\\20221230\\20221230_E_cow\\20221230_152538_8796.mkv: 1088x1088 (no detections), 17.2ms\n",
      "video 1/1 (2685/3933) D:\\815_CowDataChecking\\20221230\\20221230_E_cow\\20221230_152538_8796.mkv: 1088x1088 (no detections), 22.4ms\n",
      "video 1/1 (2686/3933) D:\\815_CowDataChecking\\20221230\\20221230_E_cow\\20221230_152538_8796.mkv: 1088x1088 (no detections), 20.5ms\n",
      "video 1/1 (2687/3933) D:\\815_CowDataChecking\\20221230\\20221230_E_cow\\20221230_152538_8796.mkv: 1088x1088 (no detections), 22.0ms\n",
      "video 1/1 (2688/3933) D:\\815_CowDataChecking\\20221230\\20221230_E_cow\\20221230_152538_8796.mkv: 1088x1088 (no detections), 23.6ms\n",
      "video 1/1 (2689/3933) D:\\815_CowDataChecking\\20221230\\20221230_E_cow\\20221230_152538_8796.mkv: 1088x1088 (no detections), 20.3ms\n",
      "video 1/1 (2690/3933) D:\\815_CowDataChecking\\20221230\\20221230_E_cow\\20221230_152538_8796.mkv: 1088x1088 (no detections), 20.0ms\n",
      "video 1/1 (2691/3933) D:\\815_CowDataChecking\\20221230\\20221230_E_cow\\20221230_152538_8796.mkv: 1088x1088 (no detections), 23.0ms\n",
      "video 1/1 (2692/3933) D:\\815_CowDataChecking\\20221230\\20221230_E_cow\\20221230_152538_8796.mkv: 1088x1088 (no detections), 19.2ms\n",
      "video 1/1 (2693/3933) D:\\815_CowDataChecking\\20221230\\20221230_E_cow\\20221230_152538_8796.mkv: 1088x1088 (no detections), 17.4ms\n",
      "video 1/1 (2694/3933) D:\\815_CowDataChecking\\20221230\\20221230_E_cow\\20221230_152538_8796.mkv: 1088x1088 (no detections), 17.1ms\n",
      "video 1/1 (2695/3933) D:\\815_CowDataChecking\\20221230\\20221230_E_cow\\20221230_152538_8796.mkv: 1088x1088 (no detections), 24.9ms\n",
      "video 1/1 (2696/3933) D:\\815_CowDataChecking\\20221230\\20221230_E_cow\\20221230_152538_8796.mkv: 1088x1088 (no detections), 22.5ms\n",
      "video 1/1 (2697/3933) D:\\815_CowDataChecking\\20221230\\20221230_E_cow\\20221230_152538_8796.mkv: 1088x1088 (no detections), 14.3ms\n",
      "video 1/1 (2698/3933) D:\\815_CowDataChecking\\20221230\\20221230_E_cow\\20221230_152538_8796.mkv: 1088x1088 (no detections), 22.3ms\n",
      "video 1/1 (2699/3933) D:\\815_CowDataChecking\\20221230\\20221230_E_cow\\20221230_152538_8796.mkv: 1088x1088 (no detections), 25.5ms\n",
      "video 1/1 (2700/3933) D:\\815_CowDataChecking\\20221230\\20221230_E_cow\\20221230_152538_8796.mkv: 1088x1088 (no detections), 23.5ms\n",
      "video 1/1 (2701/3933) D:\\815_CowDataChecking\\20221230\\20221230_E_cow\\20221230_152538_8796.mkv: 1088x1088 (no detections), 21.7ms\n",
      "video 1/1 (2702/3933) D:\\815_CowDataChecking\\20221230\\20221230_E_cow\\20221230_152538_8796.mkv: 1088x1088 (no detections), 23.1ms\n",
      "video 1/1 (2703/3933) D:\\815_CowDataChecking\\20221230\\20221230_E_cow\\20221230_152538_8796.mkv: 1088x1088 (no detections), 19.2ms\n",
      "video 1/1 (2704/3933) D:\\815_CowDataChecking\\20221230\\20221230_E_cow\\20221230_152538_8796.mkv: 1088x1088 (no detections), 17.8ms\n",
      "video 1/1 (2705/3933) D:\\815_CowDataChecking\\20221230\\20221230_E_cow\\20221230_152538_8796.mkv: 1088x1088 (no detections), 24.4ms\n",
      "video 1/1 (2706/3933) D:\\815_CowDataChecking\\20221230\\20221230_E_cow\\20221230_152538_8796.mkv: 1088x1088 (no detections), 20.4ms\n",
      "video 1/1 (2707/3933) D:\\815_CowDataChecking\\20221230\\20221230_E_cow\\20221230_152538_8796.mkv: 1088x1088 (no detections), 18.2ms\n",
      "video 1/1 (2708/3933) D:\\815_CowDataChecking\\20221230\\20221230_E_cow\\20221230_152538_8796.mkv: 1088x1088 (no detections), 18.8ms\n",
      "video 1/1 (2709/3933) D:\\815_CowDataChecking\\20221230\\20221230_E_cow\\20221230_152538_8796.mkv: 1088x1088 (no detections), 15.9ms\n",
      "video 1/1 (2710/3933) D:\\815_CowDataChecking\\20221230\\20221230_E_cow\\20221230_152538_8796.mkv: 1088x1088 (no detections), 26.0ms\n",
      "video 1/1 (2711/3933) D:\\815_CowDataChecking\\20221230\\20221230_E_cow\\20221230_152538_8796.mkv: 1088x1088 (no detections), 19.4ms\n",
      "video 1/1 (2712/3933) D:\\815_CowDataChecking\\20221230\\20221230_E_cow\\20221230_152538_8796.mkv: 1088x1088 (no detections), 24.5ms\n",
      "video 1/1 (2713/3933) D:\\815_CowDataChecking\\20221230\\20221230_E_cow\\20221230_152538_8796.mkv: 1088x1088 (no detections), 14.8ms\n",
      "video 1/1 (2714/3933) D:\\815_CowDataChecking\\20221230\\20221230_E_cow\\20221230_152538_8796.mkv: 1088x1088 (no detections), 15.1ms\n",
      "video 1/1 (2715/3933) D:\\815_CowDataChecking\\20221230\\20221230_E_cow\\20221230_152538_8796.mkv: 1088x1088 (no detections), 18.4ms\n",
      "video 1/1 (2716/3933) D:\\815_CowDataChecking\\20221230\\20221230_E_cow\\20221230_152538_8796.mkv: 1088x1088 (no detections), 21.6ms\n",
      "video 1/1 (2717/3933) D:\\815_CowDataChecking\\20221230\\20221230_E_cow\\20221230_152538_8796.mkv: 1088x1088 (no detections), 23.7ms\n",
      "video 1/1 (2718/3933) D:\\815_CowDataChecking\\20221230\\20221230_E_cow\\20221230_152538_8796.mkv: 1088x1088 (no detections), 19.8ms\n",
      "video 1/1 (2719/3933) D:\\815_CowDataChecking\\20221230\\20221230_E_cow\\20221230_152538_8796.mkv: 1088x1088 (no detections), 21.1ms\n",
      "video 1/1 (2720/3933) D:\\815_CowDataChecking\\20221230\\20221230_E_cow\\20221230_152538_8796.mkv: 1088x1088 (no detections), 18.0ms\n",
      "video 1/1 (2721/3933) D:\\815_CowDataChecking\\20221230\\20221230_E_cow\\20221230_152538_8796.mkv: 1088x1088 (no detections), 19.6ms\n",
      "video 1/1 (2722/3933) D:\\815_CowDataChecking\\20221230\\20221230_E_cow\\20221230_152538_8796.mkv: 1088x1088 (no detections), 25.0ms\n",
      "video 1/1 (2723/3933) D:\\815_CowDataChecking\\20221230\\20221230_E_cow\\20221230_152538_8796.mkv: 1088x1088 (no detections), 23.6ms\n",
      "video 1/1 (2724/3933) D:\\815_CowDataChecking\\20221230\\20221230_E_cow\\20221230_152538_8796.mkv: 1088x1088 (no detections), 22.4ms\n",
      "video 1/1 (2725/3933) D:\\815_CowDataChecking\\20221230\\20221230_E_cow\\20221230_152538_8796.mkv: 1088x1088 (no detections), 21.3ms\n",
      "video 1/1 (2726/3933) D:\\815_CowDataChecking\\20221230\\20221230_E_cow\\20221230_152538_8796.mkv: 1088x1088 (no detections), 22.3ms\n",
      "video 1/1 (2727/3933) D:\\815_CowDataChecking\\20221230\\20221230_E_cow\\20221230_152538_8796.mkv: 1088x1088 (no detections), 24.4ms\n",
      "video 1/1 (2728/3933) D:\\815_CowDataChecking\\20221230\\20221230_E_cow\\20221230_152538_8796.mkv: 1088x1088 (no detections), 23.6ms\n",
      "video 1/1 (2729/3933) D:\\815_CowDataChecking\\20221230\\20221230_E_cow\\20221230_152538_8796.mkv: 1088x1088 (no detections), 22.0ms\n",
      "video 1/1 (2730/3933) D:\\815_CowDataChecking\\20221230\\20221230_E_cow\\20221230_152538_8796.mkv: 1088x1088 (no detections), 26.5ms\n",
      "video 1/1 (2731/3933) D:\\815_CowDataChecking\\20221230\\20221230_E_cow\\20221230_152538_8796.mkv: 1088x1088 (no detections), 25.4ms\n",
      "video 1/1 (2732/3933) D:\\815_CowDataChecking\\20221230\\20221230_E_cow\\20221230_152538_8796.mkv: 1088x1088 (no detections), 16.0ms\n",
      "video 1/1 (2733/3933) D:\\815_CowDataChecking\\20221230\\20221230_E_cow\\20221230_152538_8796.mkv: 1088x1088 (no detections), 23.7ms\n",
      "video 1/1 (2734/3933) D:\\815_CowDataChecking\\20221230\\20221230_E_cow\\20221230_152538_8796.mkv: 1088x1088 (no detections), 19.3ms\n",
      "video 1/1 (2735/3933) D:\\815_CowDataChecking\\20221230\\20221230_E_cow\\20221230_152538_8796.mkv: 1088x1088 (no detections), 22.2ms\n",
      "video 1/1 (2736/3933) D:\\815_CowDataChecking\\20221230\\20221230_E_cow\\20221230_152538_8796.mkv: 1088x1088 (no detections), 19.4ms\n",
      "video 1/1 (2737/3933) D:\\815_CowDataChecking\\20221230\\20221230_E_cow\\20221230_152538_8796.mkv: 1088x1088 (no detections), 18.8ms\n",
      "video 1/1 (2738/3933) D:\\815_CowDataChecking\\20221230\\20221230_E_cow\\20221230_152538_8796.mkv: 1088x1088 (no detections), 21.5ms\n",
      "video 1/1 (2739/3933) D:\\815_CowDataChecking\\20221230\\20221230_E_cow\\20221230_152538_8796.mkv: 1088x1088 (no detections), 25.5ms\n",
      "video 1/1 (2740/3933) D:\\815_CowDataChecking\\20221230\\20221230_E_cow\\20221230_152538_8796.mkv: 1088x1088 (no detections), 20.9ms\n",
      "video 1/1 (2741/3933) D:\\815_CowDataChecking\\20221230\\20221230_E_cow\\20221230_152538_8796.mkv: 1088x1088 (no detections), 25.4ms\n",
      "video 1/1 (2742/3933) D:\\815_CowDataChecking\\20221230\\20221230_E_cow\\20221230_152538_8796.mkv: 1088x1088 (no detections), 20.2ms\n",
      "video 1/1 (2743/3933) D:\\815_CowDataChecking\\20221230\\20221230_E_cow\\20221230_152538_8796.mkv: 1088x1088 (no detections), 19.6ms\n",
      "video 1/1 (2744/3933) D:\\815_CowDataChecking\\20221230\\20221230_E_cow\\20221230_152538_8796.mkv: 1088x1088 (no detections), 21.7ms\n",
      "video 1/1 (2745/3933) D:\\815_CowDataChecking\\20221230\\20221230_E_cow\\20221230_152538_8796.mkv: 1088x1088 (no detections), 16.4ms\n",
      "video 1/1 (2746/3933) D:\\815_CowDataChecking\\20221230\\20221230_E_cow\\20221230_152538_8796.mkv: 1088x1088 (no detections), 21.4ms\n",
      "video 1/1 (2747/3933) D:\\815_CowDataChecking\\20221230\\20221230_E_cow\\20221230_152538_8796.mkv: 1088x1088 (no detections), 18.5ms\n",
      "video 1/1 (2748/3933) D:\\815_CowDataChecking\\20221230\\20221230_E_cow\\20221230_152538_8796.mkv: 1088x1088 (no detections), 21.4ms\n",
      "video 1/1 (2749/3933) D:\\815_CowDataChecking\\20221230\\20221230_E_cow\\20221230_152538_8796.mkv: 1088x1088 (no detections), 19.3ms\n",
      "video 1/1 (2750/3933) D:\\815_CowDataChecking\\20221230\\20221230_E_cow\\20221230_152538_8796.mkv: 1088x1088 (no detections), 21.6ms\n",
      "video 1/1 (2751/3933) D:\\815_CowDataChecking\\20221230\\20221230_E_cow\\20221230_152538_8796.mkv: 1088x1088 (no detections), 24.4ms\n",
      "video 1/1 (2752/3933) D:\\815_CowDataChecking\\20221230\\20221230_E_cow\\20221230_152538_8796.mkv: 1088x1088 (no detections), 21.2ms\n",
      "video 1/1 (2753/3933) D:\\815_CowDataChecking\\20221230\\20221230_E_cow\\20221230_152538_8796.mkv: 1088x1088 (no detections), 23.4ms\n",
      "video 1/1 (2754/3933) D:\\815_CowDataChecking\\20221230\\20221230_E_cow\\20221230_152538_8796.mkv: 1088x1088 (no detections), 23.6ms\n",
      "video 1/1 (2755/3933) D:\\815_CowDataChecking\\20221230\\20221230_E_cow\\20221230_152538_8796.mkv: 1088x1088 (no detections), 22.4ms\n",
      "video 1/1 (2756/3933) D:\\815_CowDataChecking\\20221230\\20221230_E_cow\\20221230_152538_8796.mkv: 1088x1088 (no detections), 21.2ms\n",
      "video 1/1 (2757/3933) D:\\815_CowDataChecking\\20221230\\20221230_E_cow\\20221230_152538_8796.mkv: 1088x1088 (no detections), 22.7ms\n",
      "video 1/1 (2758/3933) D:\\815_CowDataChecking\\20221230\\20221230_E_cow\\20221230_152538_8796.mkv: 1088x1088 (no detections), 23.5ms\n",
      "video 1/1 (2759/3933) D:\\815_CowDataChecking\\20221230\\20221230_E_cow\\20221230_152538_8796.mkv: 1088x1088 (no detections), 22.8ms\n",
      "video 1/1 (2760/3933) D:\\815_CowDataChecking\\20221230\\20221230_E_cow\\20221230_152538_8796.mkv: 1088x1088 (no detections), 23.2ms\n",
      "video 1/1 (2761/3933) D:\\815_CowDataChecking\\20221230\\20221230_E_cow\\20221230_152538_8796.mkv: 1088x1088 (no detections), 22.6ms\n",
      "video 1/1 (2762/3933) D:\\815_CowDataChecking\\20221230\\20221230_E_cow\\20221230_152538_8796.mkv: 1088x1088 (no detections), 14.5ms\n",
      "video 1/1 (2763/3933) D:\\815_CowDataChecking\\20221230\\20221230_E_cow\\20221230_152538_8796.mkv: 1088x1088 (no detections), 23.3ms\n",
      "video 1/1 (2764/3933) D:\\815_CowDataChecking\\20221230\\20221230_E_cow\\20221230_152538_8796.mkv: 1088x1088 (no detections), 24.0ms\n",
      "video 1/1 (2765/3933) D:\\815_CowDataChecking\\20221230\\20221230_E_cow\\20221230_152538_8796.mkv: 1088x1088 (no detections), 22.1ms\n",
      "video 1/1 (2766/3933) D:\\815_CowDataChecking\\20221230\\20221230_E_cow\\20221230_152538_8796.mkv: 1088x1088 (no detections), 20.4ms\n",
      "video 1/1 (2767/3933) D:\\815_CowDataChecking\\20221230\\20221230_E_cow\\20221230_152538_8796.mkv: 1088x1088 (no detections), 20.1ms\n",
      "video 1/1 (2768/3933) D:\\815_CowDataChecking\\20221230\\20221230_E_cow\\20221230_152538_8796.mkv: 1088x1088 (no detections), 22.3ms\n",
      "video 1/1 (2769/3933) D:\\815_CowDataChecking\\20221230\\20221230_E_cow\\20221230_152538_8796.mkv: 1088x1088 (no detections), 23.4ms\n",
      "video 1/1 (2770/3933) D:\\815_CowDataChecking\\20221230\\20221230_E_cow\\20221230_152538_8796.mkv: 1088x1088 (no detections), 22.6ms\n",
      "video 1/1 (2771/3933) D:\\815_CowDataChecking\\20221230\\20221230_E_cow\\20221230_152538_8796.mkv: 1088x1088 (no detections), 21.2ms\n",
      "video 1/1 (2772/3933) D:\\815_CowDataChecking\\20221230\\20221230_E_cow\\20221230_152538_8796.mkv: 1088x1088 (no detections), 21.0ms\n",
      "video 1/1 (2773/3933) D:\\815_CowDataChecking\\20221230\\20221230_E_cow\\20221230_152538_8796.mkv: 1088x1088 (no detections), 18.6ms\n",
      "video 1/1 (2774/3933) D:\\815_CowDataChecking\\20221230\\20221230_E_cow\\20221230_152538_8796.mkv: 1088x1088 (no detections), 17.6ms\n",
      "video 1/1 (2775/3933) D:\\815_CowDataChecking\\20221230\\20221230_E_cow\\20221230_152538_8796.mkv: 1088x1088 (no detections), 22.3ms\n",
      "video 1/1 (2776/3933) D:\\815_CowDataChecking\\20221230\\20221230_E_cow\\20221230_152538_8796.mkv: 1088x1088 (no detections), 19.4ms\n",
      "video 1/1 (2777/3933) D:\\815_CowDataChecking\\20221230\\20221230_E_cow\\20221230_152538_8796.mkv: 1088x1088 (no detections), 22.3ms\n",
      "video 1/1 (2778/3933) D:\\815_CowDataChecking\\20221230\\20221230_E_cow\\20221230_152538_8796.mkv: 1088x1088 (no detections), 22.1ms\n",
      "video 1/1 (2779/3933) D:\\815_CowDataChecking\\20221230\\20221230_E_cow\\20221230_152538_8796.mkv: 1088x1088 (no detections), 20.2ms\n",
      "video 1/1 (2780/3933) D:\\815_CowDataChecking\\20221230\\20221230_E_cow\\20221230_152538_8796.mkv: 1088x1088 (no detections), 14.8ms\n",
      "video 1/1 (2781/3933) D:\\815_CowDataChecking\\20221230\\20221230_E_cow\\20221230_152538_8796.mkv: 1088x1088 (no detections), 30.3ms\n",
      "video 1/1 (2782/3933) D:\\815_CowDataChecking\\20221230\\20221230_E_cow\\20221230_152538_8796.mkv: 1088x1088 (no detections), 19.6ms\n",
      "video 1/1 (2783/3933) D:\\815_CowDataChecking\\20221230\\20221230_E_cow\\20221230_152538_8796.mkv: 1088x1088 (no detections), 16.0ms\n",
      "video 1/1 (2784/3933) D:\\815_CowDataChecking\\20221230\\20221230_E_cow\\20221230_152538_8796.mkv: 1088x1088 (no detections), 14.6ms\n",
      "video 1/1 (2785/3933) D:\\815_CowDataChecking\\20221230\\20221230_E_cow\\20221230_152538_8796.mkv: 1088x1088 (no detections), 22.2ms\n",
      "video 1/1 (2786/3933) D:\\815_CowDataChecking\\20221230\\20221230_E_cow\\20221230_152538_8796.mkv: 1088x1088 (no detections), 19.1ms\n",
      "video 1/1 (2787/3933) D:\\815_CowDataChecking\\20221230\\20221230_E_cow\\20221230_152538_8796.mkv: 1088x1088 (no detections), 25.2ms\n",
      "video 1/1 (2788/3933) D:\\815_CowDataChecking\\20221230\\20221230_E_cow\\20221230_152538_8796.mkv: 1088x1088 (no detections), 20.1ms\n",
      "video 1/1 (2789/3933) D:\\815_CowDataChecking\\20221230\\20221230_E_cow\\20221230_152538_8796.mkv: 1088x1088 (no detections), 23.5ms\n",
      "video 1/1 (2790/3933) D:\\815_CowDataChecking\\20221230\\20221230_E_cow\\20221230_152538_8796.mkv: 1088x1088 (no detections), 20.1ms\n",
      "video 1/1 (2791/3933) D:\\815_CowDataChecking\\20221230\\20221230_E_cow\\20221230_152538_8796.mkv: 1088x1088 (no detections), 22.4ms\n",
      "video 1/1 (2792/3933) D:\\815_CowDataChecking\\20221230\\20221230_E_cow\\20221230_152538_8796.mkv: 1088x1088 (no detections), 30.2ms\n",
      "video 1/1 (2793/3933) D:\\815_CowDataChecking\\20221230\\20221230_E_cow\\20221230_152538_8796.mkv: 1088x1088 (no detections), 18.1ms\n",
      "video 1/1 (2794/3933) D:\\815_CowDataChecking\\20221230\\20221230_E_cow\\20221230_152538_8796.mkv: 1088x1088 (no detections), 24.4ms\n",
      "video 1/1 (2795/3933) D:\\815_CowDataChecking\\20221230\\20221230_E_cow\\20221230_152538_8796.mkv: 1088x1088 (no detections), 24.3ms\n",
      "video 1/1 (2796/3933) D:\\815_CowDataChecking\\20221230\\20221230_E_cow\\20221230_152538_8796.mkv: 1088x1088 (no detections), 22.4ms\n",
      "video 1/1 (2797/3933) D:\\815_CowDataChecking\\20221230\\20221230_E_cow\\20221230_152538_8796.mkv: 1088x1088 (no detections), 22.2ms\n",
      "video 1/1 (2798/3933) D:\\815_CowDataChecking\\20221230\\20221230_E_cow\\20221230_152538_8796.mkv: 1088x1088 (no detections), 21.4ms\n",
      "video 1/1 (2799/3933) D:\\815_CowDataChecking\\20221230\\20221230_E_cow\\20221230_152538_8796.mkv: 1088x1088 (no detections), 18.6ms\n",
      "video 1/1 (2800/3933) D:\\815_CowDataChecking\\20221230\\20221230_E_cow\\20221230_152538_8796.mkv: 1088x1088 (no detections), 25.9ms\n",
      "video 1/1 (2801/3933) D:\\815_CowDataChecking\\20221230\\20221230_E_cow\\20221230_152538_8796.mkv: 1088x1088 (no detections), 17.7ms\n",
      "video 1/1 (2802/3933) D:\\815_CowDataChecking\\20221230\\20221230_E_cow\\20221230_152538_8796.mkv: 1088x1088 (no detections), 21.5ms\n",
      "video 1/1 (2803/3933) D:\\815_CowDataChecking\\20221230\\20221230_E_cow\\20221230_152538_8796.mkv: 1088x1088 (no detections), 21.3ms\n",
      "video 1/1 (2804/3933) D:\\815_CowDataChecking\\20221230\\20221230_E_cow\\20221230_152538_8796.mkv: 1088x1088 (no detections), 22.7ms\n",
      "video 1/1 (2805/3933) D:\\815_CowDataChecking\\20221230\\20221230_E_cow\\20221230_152538_8796.mkv: 1088x1088 (no detections), 20.2ms\n",
      "video 1/1 (2806/3933) D:\\815_CowDataChecking\\20221230\\20221230_E_cow\\20221230_152538_8796.mkv: 1088x1088 (no detections), 18.1ms\n",
      "video 1/1 (2807/3933) D:\\815_CowDataChecking\\20221230\\20221230_E_cow\\20221230_152538_8796.mkv: 1088x1088 (no detections), 24.5ms\n",
      "video 1/1 (2808/3933) D:\\815_CowDataChecking\\20221230\\20221230_E_cow\\20221230_152538_8796.mkv: 1088x1088 (no detections), 20.4ms\n",
      "video 1/1 (2809/3933) D:\\815_CowDataChecking\\20221230\\20221230_E_cow\\20221230_152538_8796.mkv: 1088x1088 (no detections), 19.4ms\n",
      "video 1/1 (2810/3933) D:\\815_CowDataChecking\\20221230\\20221230_E_cow\\20221230_152538_8796.mkv: 1088x1088 (no detections), 22.2ms\n",
      "video 1/1 (2811/3933) D:\\815_CowDataChecking\\20221230\\20221230_E_cow\\20221230_152538_8796.mkv: 1088x1088 (no detections), 22.0ms\n",
      "video 1/1 (2812/3933) D:\\815_CowDataChecking\\20221230\\20221230_E_cow\\20221230_152538_8796.mkv: 1088x1088 (no detections), 27.4ms\n",
      "video 1/1 (2813/3933) D:\\815_CowDataChecking\\20221230\\20221230_E_cow\\20221230_152538_8796.mkv: 1088x1088 (no detections), 25.0ms\n",
      "video 1/1 (2814/3933) D:\\815_CowDataChecking\\20221230\\20221230_E_cow\\20221230_152538_8796.mkv: 1088x1088 (no detections), 22.2ms\n",
      "video 1/1 (2815/3933) D:\\815_CowDataChecking\\20221230\\20221230_E_cow\\20221230_152538_8796.mkv: 1088x1088 (no detections), 22.2ms\n",
      "video 1/1 (2816/3933) D:\\815_CowDataChecking\\20221230\\20221230_E_cow\\20221230_152538_8796.mkv: 1088x1088 (no detections), 22.2ms\n",
      "video 1/1 (2817/3933) D:\\815_CowDataChecking\\20221230\\20221230_E_cow\\20221230_152538_8796.mkv: 1088x1088 (no detections), 25.2ms\n",
      "video 1/1 (2818/3933) D:\\815_CowDataChecking\\20221230\\20221230_E_cow\\20221230_152538_8796.mkv: 1088x1088 (no detections), 23.3ms\n",
      "video 1/1 (2819/3933) D:\\815_CowDataChecking\\20221230\\20221230_E_cow\\20221230_152538_8796.mkv: 1088x1088 (no detections), 23.6ms\n",
      "video 1/1 (2820/3933) D:\\815_CowDataChecking\\20221230\\20221230_E_cow\\20221230_152538_8796.mkv: 1088x1088 (no detections), 22.2ms\n",
      "video 1/1 (2821/3933) D:\\815_CowDataChecking\\20221230\\20221230_E_cow\\20221230_152538_8796.mkv: 1088x1088 (no detections), 20.0ms\n",
      "video 1/1 (2822/3933) D:\\815_CowDataChecking\\20221230\\20221230_E_cow\\20221230_152538_8796.mkv: 1088x1088 (no detections), 23.3ms\n",
      "video 1/1 (2823/3933) D:\\815_CowDataChecking\\20221230\\20221230_E_cow\\20221230_152538_8796.mkv: 1088x1088 (no detections), 24.1ms\n",
      "video 1/1 (2824/3933) D:\\815_CowDataChecking\\20221230\\20221230_E_cow\\20221230_152538_8796.mkv: 1088x1088 (no detections), 22.8ms\n",
      "video 1/1 (2825/3933) D:\\815_CowDataChecking\\20221230\\20221230_E_cow\\20221230_152538_8796.mkv: 1088x1088 (no detections), 20.3ms\n",
      "video 1/1 (2826/3933) D:\\815_CowDataChecking\\20221230\\20221230_E_cow\\20221230_152538_8796.mkv: 1088x1088 (no detections), 19.4ms\n",
      "video 1/1 (2827/3933) D:\\815_CowDataChecking\\20221230\\20221230_E_cow\\20221230_152538_8796.mkv: 1088x1088 (no detections), 22.0ms\n",
      "video 1/1 (2828/3933) D:\\815_CowDataChecking\\20221230\\20221230_E_cow\\20221230_152538_8796.mkv: 1088x1088 (no detections), 16.4ms\n",
      "video 1/1 (2829/3933) D:\\815_CowDataChecking\\20221230\\20221230_E_cow\\20221230_152538_8796.mkv: 1088x1088 (no detections), 20.9ms\n",
      "video 1/1 (2830/3933) D:\\815_CowDataChecking\\20221230\\20221230_E_cow\\20221230_152538_8796.mkv: 1088x1088 (no detections), 15.3ms\n",
      "video 1/1 (2831/3933) D:\\815_CowDataChecking\\20221230\\20221230_E_cow\\20221230_152538_8796.mkv: 1088x1088 (no detections), 20.2ms\n",
      "video 1/1 (2832/3933) D:\\815_CowDataChecking\\20221230\\20221230_E_cow\\20221230_152538_8796.mkv: 1088x1088 (no detections), 17.1ms\n",
      "video 1/1 (2833/3933) D:\\815_CowDataChecking\\20221230\\20221230_E_cow\\20221230_152538_8796.mkv: 1088x1088 (no detections), 16.5ms\n",
      "video 1/1 (2834/3933) D:\\815_CowDataChecking\\20221230\\20221230_E_cow\\20221230_152538_8796.mkv: 1088x1088 (no detections), 21.4ms\n",
      "video 1/1 (2835/3933) D:\\815_CowDataChecking\\20221230\\20221230_E_cow\\20221230_152538_8796.mkv: 1088x1088 (no detections), 24.6ms\n",
      "video 1/1 (2836/3933) D:\\815_CowDataChecking\\20221230\\20221230_E_cow\\20221230_152538_8796.mkv: 1088x1088 (no detections), 21.3ms\n",
      "video 1/1 (2837/3933) D:\\815_CowDataChecking\\20221230\\20221230_E_cow\\20221230_152538_8796.mkv: 1088x1088 (no detections), 23.7ms\n",
      "video 1/1 (2838/3933) D:\\815_CowDataChecking\\20221230\\20221230_E_cow\\20221230_152538_8796.mkv: 1088x1088 (no detections), 22.0ms\n",
      "video 1/1 (2839/3933) D:\\815_CowDataChecking\\20221230\\20221230_E_cow\\20221230_152538_8796.mkv: 1088x1088 (no detections), 21.7ms\n",
      "video 1/1 (2840/3933) D:\\815_CowDataChecking\\20221230\\20221230_E_cow\\20221230_152538_8796.mkv: 1088x1088 (no detections), 20.4ms\n",
      "video 1/1 (2841/3933) D:\\815_CowDataChecking\\20221230\\20221230_E_cow\\20221230_152538_8796.mkv: 1088x1088 (no detections), 22.2ms\n",
      "video 1/1 (2842/3933) D:\\815_CowDataChecking\\20221230\\20221230_E_cow\\20221230_152538_8796.mkv: 1088x1088 (no detections), 20.0ms\n",
      "video 1/1 (2843/3933) D:\\815_CowDataChecking\\20221230\\20221230_E_cow\\20221230_152538_8796.mkv: 1088x1088 (no detections), 23.2ms\n",
      "video 1/1 (2844/3933) D:\\815_CowDataChecking\\20221230\\20221230_E_cow\\20221230_152538_8796.mkv: 1088x1088 (no detections), 19.8ms\n",
      "video 1/1 (2845/3933) D:\\815_CowDataChecking\\20221230\\20221230_E_cow\\20221230_152538_8796.mkv: 1088x1088 (no detections), 19.9ms\n",
      "video 1/1 (2846/3933) D:\\815_CowDataChecking\\20221230\\20221230_E_cow\\20221230_152538_8796.mkv: 1088x1088 (no detections), 26.0ms\n",
      "video 1/1 (2847/3933) D:\\815_CowDataChecking\\20221230\\20221230_E_cow\\20221230_152538_8796.mkv: 1088x1088 (no detections), 20.1ms\n",
      "video 1/1 (2848/3933) D:\\815_CowDataChecking\\20221230\\20221230_E_cow\\20221230_152538_8796.mkv: 1088x1088 (no detections), 18.2ms\n",
      "video 1/1 (2849/3933) D:\\815_CowDataChecking\\20221230\\20221230_E_cow\\20221230_152538_8796.mkv: 1088x1088 (no detections), 17.4ms\n",
      "video 1/1 (2850/3933) D:\\815_CowDataChecking\\20221230\\20221230_E_cow\\20221230_152538_8796.mkv: 1088x1088 (no detections), 22.2ms\n",
      "video 1/1 (2851/3933) D:\\815_CowDataChecking\\20221230\\20221230_E_cow\\20221230_152538_8796.mkv: 1088x1088 (no detections), 22.1ms\n",
      "video 1/1 (2852/3933) D:\\815_CowDataChecking\\20221230\\20221230_E_cow\\20221230_152538_8796.mkv: 1088x1088 (no detections), 21.9ms\n",
      "video 1/1 (2853/3933) D:\\815_CowDataChecking\\20221230\\20221230_E_cow\\20221230_152538_8796.mkv: 1088x1088 (no detections), 22.5ms\n",
      "video 1/1 (2854/3933) D:\\815_CowDataChecking\\20221230\\20221230_E_cow\\20221230_152538_8796.mkv: 1088x1088 (no detections), 16.4ms\n",
      "video 1/1 (2855/3933) D:\\815_CowDataChecking\\20221230\\20221230_E_cow\\20221230_152538_8796.mkv: 1088x1088 (no detections), 23.0ms\n",
      "video 1/1 (2856/3933) D:\\815_CowDataChecking\\20221230\\20221230_E_cow\\20221230_152538_8796.mkv: 1088x1088 (no detections), 23.0ms\n",
      "video 1/1 (2857/3933) D:\\815_CowDataChecking\\20221230\\20221230_E_cow\\20221230_152538_8796.mkv: 1088x1088 (no detections), 22.1ms\n",
      "video 1/1 (2858/3933) D:\\815_CowDataChecking\\20221230\\20221230_E_cow\\20221230_152538_8796.mkv: 1088x1088 (no detections), 20.9ms\n",
      "video 1/1 (2859/3933) D:\\815_CowDataChecking\\20221230\\20221230_E_cow\\20221230_152538_8796.mkv: 1088x1088 (no detections), 15.4ms\n",
      "video 1/1 (2860/3933) D:\\815_CowDataChecking\\20221230\\20221230_E_cow\\20221230_152538_8796.mkv: 1088x1088 (no detections), 19.7ms\n",
      "video 1/1 (2861/3933) D:\\815_CowDataChecking\\20221230\\20221230_E_cow\\20221230_152538_8796.mkv: 1088x1088 (no detections), 17.1ms\n",
      "video 1/1 (2862/3933) D:\\815_CowDataChecking\\20221230\\20221230_E_cow\\20221230_152538_8796.mkv: 1088x1088 (no detections), 23.0ms\n",
      "video 1/1 (2863/3933) D:\\815_CowDataChecking\\20221230\\20221230_E_cow\\20221230_152538_8796.mkv: 1088x1088 (no detections), 20.9ms\n",
      "video 1/1 (2864/3933) D:\\815_CowDataChecking\\20221230\\20221230_E_cow\\20221230_152538_8796.mkv: 1088x1088 (no detections), 22.4ms\n",
      "video 1/1 (2865/3933) D:\\815_CowDataChecking\\20221230\\20221230_E_cow\\20221230_152538_8796.mkv: 1088x1088 (no detections), 22.3ms\n",
      "video 1/1 (2866/3933) D:\\815_CowDataChecking\\20221230\\20221230_E_cow\\20221230_152538_8796.mkv: 1088x1088 (no detections), 21.2ms\n",
      "video 1/1 (2867/3933) D:\\815_CowDataChecking\\20221230\\20221230_E_cow\\20221230_152538_8796.mkv: 1088x1088 (no detections), 17.9ms\n",
      "video 1/1 (2868/3933) D:\\815_CowDataChecking\\20221230\\20221230_E_cow\\20221230_152538_8796.mkv: 1088x1088 (no detections), 17.2ms\n",
      "video 1/1 (2869/3933) D:\\815_CowDataChecking\\20221230\\20221230_E_cow\\20221230_152538_8796.mkv: 1088x1088 (no detections), 24.2ms\n",
      "video 1/1 (2870/3933) D:\\815_CowDataChecking\\20221230\\20221230_E_cow\\20221230_152538_8796.mkv: 1088x1088 (no detections), 20.4ms\n",
      "video 1/1 (2871/3933) D:\\815_CowDataChecking\\20221230\\20221230_E_cow\\20221230_152538_8796.mkv: 1088x1088 (no detections), 19.1ms\n",
      "video 1/1 (2872/3933) D:\\815_CowDataChecking\\20221230\\20221230_E_cow\\20221230_152538_8796.mkv: 1088x1088 (no detections), 23.4ms\n",
      "video 1/1 (2873/3933) D:\\815_CowDataChecking\\20221230\\20221230_E_cow\\20221230_152538_8796.mkv: 1088x1088 (no detections), 23.3ms\n",
      "video 1/1 (2874/3933) D:\\815_CowDataChecking\\20221230\\20221230_E_cow\\20221230_152538_8796.mkv: 1088x1088 (no detections), 22.0ms\n",
      "video 1/1 (2875/3933) D:\\815_CowDataChecking\\20221230\\20221230_E_cow\\20221230_152538_8796.mkv: 1088x1088 (no detections), 19.4ms\n",
      "video 1/1 (2876/3933) D:\\815_CowDataChecking\\20221230\\20221230_E_cow\\20221230_152538_8796.mkv: 1088x1088 (no detections), 22.0ms\n",
      "video 1/1 (2877/3933) D:\\815_CowDataChecking\\20221230\\20221230_E_cow\\20221230_152538_8796.mkv: 1088x1088 (no detections), 22.2ms\n",
      "video 1/1 (2878/3933) D:\\815_CowDataChecking\\20221230\\20221230_E_cow\\20221230_152538_8796.mkv: 1088x1088 (no detections), 20.5ms\n",
      "video 1/1 (2879/3933) D:\\815_CowDataChecking\\20221230\\20221230_E_cow\\20221230_152538_8796.mkv: 1088x1088 (no detections), 22.4ms\n",
      "video 1/1 (2880/3933) D:\\815_CowDataChecking\\20221230\\20221230_E_cow\\20221230_152538_8796.mkv: 1088x1088 (no detections), 23.5ms\n",
      "video 1/1 (2881/3933) D:\\815_CowDataChecking\\20221230\\20221230_E_cow\\20221230_152538_8796.mkv: 1088x1088 (no detections), 23.4ms\n",
      "video 1/1 (2882/3933) D:\\815_CowDataChecking\\20221230\\20221230_E_cow\\20221230_152538_8796.mkv: 1088x1088 (no detections), 24.4ms\n",
      "video 1/1 (2883/3933) D:\\815_CowDataChecking\\20221230\\20221230_E_cow\\20221230_152538_8796.mkv: 1088x1088 (no detections), 18.8ms\n",
      "video 1/1 (2884/3933) D:\\815_CowDataChecking\\20221230\\20221230_E_cow\\20221230_152538_8796.mkv: 1088x1088 (no detections), 17.0ms\n",
      "video 1/1 (2885/3933) D:\\815_CowDataChecking\\20221230\\20221230_E_cow\\20221230_152538_8796.mkv: 1088x1088 (no detections), 19.6ms\n",
      "video 1/1 (2886/3933) D:\\815_CowDataChecking\\20221230\\20221230_E_cow\\20221230_152538_8796.mkv: 1088x1088 (no detections), 19.4ms\n",
      "video 1/1 (2887/3933) D:\\815_CowDataChecking\\20221230\\20221230_E_cow\\20221230_152538_8796.mkv: 1088x1088 (no detections), 17.2ms\n",
      "video 1/1 (2888/3933) D:\\815_CowDataChecking\\20221230\\20221230_E_cow\\20221230_152538_8796.mkv: 1088x1088 (no detections), 18.6ms\n",
      "video 1/1 (2889/3933) D:\\815_CowDataChecking\\20221230\\20221230_E_cow\\20221230_152538_8796.mkv: 1088x1088 (no detections), 21.8ms\n",
      "video 1/1 (2890/3933) D:\\815_CowDataChecking\\20221230\\20221230_E_cow\\20221230_152538_8796.mkv: 1088x1088 (no detections), 21.4ms\n",
      "video 1/1 (2891/3933) D:\\815_CowDataChecking\\20221230\\20221230_E_cow\\20221230_152538_8796.mkv: 1088x1088 (no detections), 23.4ms\n",
      "video 1/1 (2892/3933) D:\\815_CowDataChecking\\20221230\\20221230_E_cow\\20221230_152538_8796.mkv: 1088x1088 (no detections), 22.4ms\n",
      "video 1/1 (2893/3933) D:\\815_CowDataChecking\\20221230\\20221230_E_cow\\20221230_152538_8796.mkv: 1088x1088 (no detections), 22.3ms\n",
      "video 1/1 (2894/3933) D:\\815_CowDataChecking\\20221230\\20221230_E_cow\\20221230_152538_8796.mkv: 1088x1088 (no detections), 23.5ms\n",
      "video 1/1 (2895/3933) D:\\815_CowDataChecking\\20221230\\20221230_E_cow\\20221230_152538_8796.mkv: 1088x1088 (no detections), 20.0ms\n",
      "video 1/1 (2896/3933) D:\\815_CowDataChecking\\20221230\\20221230_E_cow\\20221230_152538_8796.mkv: 1088x1088 (no detections), 22.2ms\n",
      "video 1/1 (2897/3933) D:\\815_CowDataChecking\\20221230\\20221230_E_cow\\20221230_152538_8796.mkv: 1088x1088 (no detections), 22.2ms\n",
      "video 1/1 (2898/3933) D:\\815_CowDataChecking\\20221230\\20221230_E_cow\\20221230_152538_8796.mkv: 1088x1088 (no detections), 22.2ms\n",
      "video 1/1 (2899/3933) D:\\815_CowDataChecking\\20221230\\20221230_E_cow\\20221230_152538_8796.mkv: 1088x1088 (no detections), 23.4ms\n",
      "video 1/1 (2900/3933) D:\\815_CowDataChecking\\20221230\\20221230_E_cow\\20221230_152538_8796.mkv: 1088x1088 (no detections), 20.3ms\n",
      "video 1/1 (2901/3933) D:\\815_CowDataChecking\\20221230\\20221230_E_cow\\20221230_152538_8796.mkv: 1088x1088 (no detections), 15.1ms\n",
      "video 1/1 (2902/3933) D:\\815_CowDataChecking\\20221230\\20221230_E_cow\\20221230_152538_8796.mkv: 1088x1088 (no detections), 21.8ms\n",
      "video 1/1 (2903/3933) D:\\815_CowDataChecking\\20221230\\20221230_E_cow\\20221230_152538_8796.mkv: 1088x1088 (no detections), 17.7ms\n",
      "video 1/1 (2904/3933) D:\\815_CowDataChecking\\20221230\\20221230_E_cow\\20221230_152538_8796.mkv: 1088x1088 (no detections), 22.0ms\n",
      "video 1/1 (2905/3933) D:\\815_CowDataChecking\\20221230\\20221230_E_cow\\20221230_152538_8796.mkv: 1088x1088 (no detections), 21.3ms\n",
      "video 1/1 (2906/3933) D:\\815_CowDataChecking\\20221230\\20221230_E_cow\\20221230_152538_8796.mkv: 1088x1088 (no detections), 22.0ms\n",
      "video 1/1 (2907/3933) D:\\815_CowDataChecking\\20221230\\20221230_E_cow\\20221230_152538_8796.mkv: 1088x1088 (no detections), 21.9ms\n",
      "video 1/1 (2908/3933) D:\\815_CowDataChecking\\20221230\\20221230_E_cow\\20221230_152538_8796.mkv: 1088x1088 (no detections), 22.7ms\n",
      "video 1/1 (2909/3933) D:\\815_CowDataChecking\\20221230\\20221230_E_cow\\20221230_152538_8796.mkv: 1088x1088 (no detections), 20.4ms\n",
      "video 1/1 (2910/3933) D:\\815_CowDataChecking\\20221230\\20221230_E_cow\\20221230_152538_8796.mkv: 1088x1088 (no detections), 22.1ms\n",
      "video 1/1 (2911/3933) D:\\815_CowDataChecking\\20221230\\20221230_E_cow\\20221230_152538_8796.mkv: 1088x1088 (no detections), 19.0ms\n",
      "video 1/1 (2912/3933) D:\\815_CowDataChecking\\20221230\\20221230_E_cow\\20221230_152538_8796.mkv: 1088x1088 (no detections), 22.4ms\n",
      "video 1/1 (2913/3933) D:\\815_CowDataChecking\\20221230\\20221230_E_cow\\20221230_152538_8796.mkv: 1088x1088 (no detections), 24.1ms\n",
      "video 1/1 (2914/3933) D:\\815_CowDataChecking\\20221230\\20221230_E_cow\\20221230_152538_8796.mkv: 1088x1088 (no detections), 22.6ms\n",
      "video 1/1 (2915/3933) D:\\815_CowDataChecking\\20221230\\20221230_E_cow\\20221230_152538_8796.mkv: 1088x1088 (no detections), 22.1ms\n",
      "video 1/1 (2916/3933) D:\\815_CowDataChecking\\20221230\\20221230_E_cow\\20221230_152538_8796.mkv: 1088x1088 (no detections), 22.0ms\n",
      "video 1/1 (2917/3933) D:\\815_CowDataChecking\\20221230\\20221230_E_cow\\20221230_152538_8796.mkv: 1088x1088 (no detections), 22.4ms\n",
      "video 1/1 (2918/3933) D:\\815_CowDataChecking\\20221230\\20221230_E_cow\\20221230_152538_8796.mkv: 1088x1088 (no detections), 23.5ms\n",
      "video 1/1 (2919/3933) D:\\815_CowDataChecking\\20221230\\20221230_E_cow\\20221230_152538_8796.mkv: 1088x1088 (no detections), 23.5ms\n",
      "video 1/1 (2920/3933) D:\\815_CowDataChecking\\20221230\\20221230_E_cow\\20221230_152538_8796.mkv: 1088x1088 (no detections), 20.0ms\n",
      "video 1/1 (2921/3933) D:\\815_CowDataChecking\\20221230\\20221230_E_cow\\20221230_152538_8796.mkv: 1088x1088 (no detections), 22.1ms\n",
      "video 1/1 (2922/3933) D:\\815_CowDataChecking\\20221230\\20221230_E_cow\\20221230_152538_8796.mkv: 1088x1088 (no detections), 18.1ms\n",
      "video 1/1 (2923/3933) D:\\815_CowDataChecking\\20221230\\20221230_E_cow\\20221230_152538_8796.mkv: 1088x1088 (no detections), 17.4ms\n",
      "video 1/1 (2924/3933) D:\\815_CowDataChecking\\20221230\\20221230_E_cow\\20221230_152538_8796.mkv: 1088x1088 (no detections), 19.2ms\n",
      "video 1/1 (2925/3933) D:\\815_CowDataChecking\\20221230\\20221230_E_cow\\20221230_152538_8796.mkv: 1088x1088 (no detections), 18.6ms\n",
      "video 1/1 (2926/3933) D:\\815_CowDataChecking\\20221230\\20221230_E_cow\\20221230_152538_8796.mkv: 1088x1088 (no detections), 19.1ms\n",
      "video 1/1 (2927/3933) D:\\815_CowDataChecking\\20221230\\20221230_E_cow\\20221230_152538_8796.mkv: 1088x1088 (no detections), 22.3ms\n",
      "video 1/1 (2928/3933) D:\\815_CowDataChecking\\20221230\\20221230_E_cow\\20221230_152538_8796.mkv: 1088x1088 (no detections), 22.2ms\n",
      "video 1/1 (2929/3933) D:\\815_CowDataChecking\\20221230\\20221230_E_cow\\20221230_152538_8796.mkv: 1088x1088 (no detections), 21.4ms\n",
      "video 1/1 (2930/3933) D:\\815_CowDataChecking\\20221230\\20221230_E_cow\\20221230_152538_8796.mkv: 1088x1088 (no detections), 23.4ms\n",
      "video 1/1 (2931/3933) D:\\815_CowDataChecking\\20221230\\20221230_E_cow\\20221230_152538_8796.mkv: 1088x1088 (no detections), 22.1ms\n",
      "video 1/1 (2932/3933) D:\\815_CowDataChecking\\20221230\\20221230_E_cow\\20221230_152538_8796.mkv: 1088x1088 (no detections), 20.4ms\n",
      "video 1/1 (2933/3933) D:\\815_CowDataChecking\\20221230\\20221230_E_cow\\20221230_152538_8796.mkv: 1088x1088 (no detections), 23.4ms\n",
      "video 1/1 (2934/3933) D:\\815_CowDataChecking\\20221230\\20221230_E_cow\\20221230_152538_8796.mkv: 1088x1088 (no detections), 22.3ms\n",
      "video 1/1 (2935/3933) D:\\815_CowDataChecking\\20221230\\20221230_E_cow\\20221230_152538_8796.mkv: 1088x1088 (no detections), 21.4ms\n",
      "video 1/1 (2936/3933) D:\\815_CowDataChecking\\20221230\\20221230_E_cow\\20221230_152538_8796.mkv: 1088x1088 (no detections), 17.3ms\n",
      "video 1/1 (2937/3933) D:\\815_CowDataChecking\\20221230\\20221230_E_cow\\20221230_152538_8796.mkv: 1088x1088 (no detections), 19.1ms\n",
      "video 1/1 (2938/3933) D:\\815_CowDataChecking\\20221230\\20221230_E_cow\\20221230_152538_8796.mkv: 1088x1088 (no detections), 18.9ms\n",
      "video 1/1 (2939/3933) D:\\815_CowDataChecking\\20221230\\20221230_E_cow\\20221230_152538_8796.mkv: 1088x1088 (no detections), 17.5ms\n",
      "video 1/1 (2940/3933) D:\\815_CowDataChecking\\20221230\\20221230_E_cow\\20221230_152538_8796.mkv: 1088x1088 (no detections), 22.4ms\n",
      "video 1/1 (2941/3933) D:\\815_CowDataChecking\\20221230\\20221230_E_cow\\20221230_152538_8796.mkv: 1088x1088 (no detections), 18.5ms\n",
      "video 1/1 (2942/3933) D:\\815_CowDataChecking\\20221230\\20221230_E_cow\\20221230_152538_8796.mkv: 1088x1088 (no detections), 23.4ms\n",
      "video 1/1 (2943/3933) D:\\815_CowDataChecking\\20221230\\20221230_E_cow\\20221230_152538_8796.mkv: 1088x1088 (no detections), 22.0ms\n",
      "video 1/1 (2944/3933) D:\\815_CowDataChecking\\20221230\\20221230_E_cow\\20221230_152538_8796.mkv: 1088x1088 (no detections), 20.0ms\n",
      "video 1/1 (2945/3933) D:\\815_CowDataChecking\\20221230\\20221230_E_cow\\20221230_152538_8796.mkv: 1088x1088 (no detections), 22.0ms\n",
      "video 1/1 (2946/3933) D:\\815_CowDataChecking\\20221230\\20221230_E_cow\\20221230_152538_8796.mkv: 1088x1088 (no detections), 22.3ms\n",
      "video 1/1 (2947/3933) D:\\815_CowDataChecking\\20221230\\20221230_E_cow\\20221230_152538_8796.mkv: 1088x1088 (no detections), 24.3ms\n",
      "video 1/1 (2948/3933) D:\\815_CowDataChecking\\20221230\\20221230_E_cow\\20221230_152538_8796.mkv: 1088x1088 (no detections), 21.3ms\n",
      "video 1/1 (2949/3933) D:\\815_CowDataChecking\\20221230\\20221230_E_cow\\20221230_152538_8796.mkv: 1088x1088 (no detections), 22.2ms\n",
      "video 1/1 (2950/3933) D:\\815_CowDataChecking\\20221230\\20221230_E_cow\\20221230_152538_8796.mkv: 1088x1088 (no detections), 25.4ms\n",
      "video 1/1 (2951/3933) D:\\815_CowDataChecking\\20221230\\20221230_E_cow\\20221230_152538_8796.mkv: 1088x1088 (no detections), 17.0ms\n",
      "video 1/1 (2952/3933) D:\\815_CowDataChecking\\20221230\\20221230_E_cow\\20221230_152538_8796.mkv: 1088x1088 (no detections), 21.4ms\n",
      "video 1/1 (2953/3933) D:\\815_CowDataChecking\\20221230\\20221230_E_cow\\20221230_152538_8796.mkv: 1088x1088 (no detections), 19.1ms\n",
      "video 1/1 (2954/3933) D:\\815_CowDataChecking\\20221230\\20221230_E_cow\\20221230_152538_8796.mkv: 1088x1088 (no detections), 22.0ms\n",
      "video 1/1 (2955/3933) D:\\815_CowDataChecking\\20221230\\20221230_E_cow\\20221230_152538_8796.mkv: 1088x1088 (no detections), 19.5ms\n",
      "video 1/1 (2956/3933) D:\\815_CowDataChecking\\20221230\\20221230_E_cow\\20221230_152538_8796.mkv: 1088x1088 (no detections), 18.0ms\n",
      "video 1/1 (2957/3933) D:\\815_CowDataChecking\\20221230\\20221230_E_cow\\20221230_152538_8796.mkv: 1088x1088 (no detections), 22.5ms\n",
      "video 1/1 (2958/3933) D:\\815_CowDataChecking\\20221230\\20221230_E_cow\\20221230_152538_8796.mkv: 1088x1088 (no detections), 22.5ms\n",
      "video 1/1 (2959/3933) D:\\815_CowDataChecking\\20221230\\20221230_E_cow\\20221230_152538_8796.mkv: 1088x1088 (no detections), 21.0ms\n",
      "video 1/1 (2960/3933) D:\\815_CowDataChecking\\20221230\\20221230_E_cow\\20221230_152538_8796.mkv: 1088x1088 (no detections), 22.1ms\n",
      "video 1/1 (2961/3933) D:\\815_CowDataChecking\\20221230\\20221230_E_cow\\20221230_152538_8796.mkv: 1088x1088 (no detections), 23.8ms\n",
      "video 1/1 (2962/3933) D:\\815_CowDataChecking\\20221230\\20221230_E_cow\\20221230_152538_8796.mkv: 1088x1088 (no detections), 21.5ms\n",
      "video 1/1 (2963/3933) D:\\815_CowDataChecking\\20221230\\20221230_E_cow\\20221230_152538_8796.mkv: 1088x1088 (no detections), 25.0ms\n",
      "video 1/1 (2964/3933) D:\\815_CowDataChecking\\20221230\\20221230_E_cow\\20221230_152538_8796.mkv: 1088x1088 (no detections), 20.0ms\n",
      "video 1/1 (2965/3933) D:\\815_CowDataChecking\\20221230\\20221230_E_cow\\20221230_152538_8796.mkv: 1088x1088 (no detections), 17.2ms\n",
      "video 1/1 (2966/3933) D:\\815_CowDataChecking\\20221230\\20221230_E_cow\\20221230_152538_8796.mkv: 1088x1088 (no detections), 16.5ms\n",
      "video 1/1 (2967/3933) D:\\815_CowDataChecking\\20221230\\20221230_E_cow\\20221230_152538_8796.mkv: 1088x1088 (no detections), 18.7ms\n",
      "video 1/1 (2968/3933) D:\\815_CowDataChecking\\20221230\\20221230_E_cow\\20221230_152538_8796.mkv: 1088x1088 (no detections), 25.5ms\n",
      "video 1/1 (2969/3933) D:\\815_CowDataChecking\\20221230\\20221230_E_cow\\20221230_152538_8796.mkv: 1088x1088 (no detections), 23.7ms\n",
      "video 1/1 (2970/3933) D:\\815_CowDataChecking\\20221230\\20221230_E_cow\\20221230_152538_8796.mkv: 1088x1088 (no detections), 16.5ms\n",
      "video 1/1 (2971/3933) D:\\815_CowDataChecking\\20221230\\20221230_E_cow\\20221230_152538_8796.mkv: 1088x1088 (no detections), 21.5ms\n",
      "video 1/1 (2972/3933) D:\\815_CowDataChecking\\20221230\\20221230_E_cow\\20221230_152538_8796.mkv: 1088x1088 (no detections), 16.5ms\n",
      "video 1/1 (2973/3933) D:\\815_CowDataChecking\\20221230\\20221230_E_cow\\20221230_152538_8796.mkv: 1088x1088 (no detections), 21.1ms\n",
      "video 1/1 (2974/3933) D:\\815_CowDataChecking\\20221230\\20221230_E_cow\\20221230_152538_8796.mkv: 1088x1088 (no detections), 18.1ms\n",
      "video 1/1 (2975/3933) D:\\815_CowDataChecking\\20221230\\20221230_E_cow\\20221230_152538_8796.mkv: 1088x1088 (no detections), 17.3ms\n",
      "video 1/1 (2976/3933) D:\\815_CowDataChecking\\20221230\\20221230_E_cow\\20221230_152538_8796.mkv: 1088x1088 (no detections), 24.1ms\n",
      "video 1/1 (2977/3933) D:\\815_CowDataChecking\\20221230\\20221230_E_cow\\20221230_152538_8796.mkv: 1088x1088 (no detections), 25.4ms\n",
      "video 1/1 (2978/3933) D:\\815_CowDataChecking\\20221230\\20221230_E_cow\\20221230_152538_8796.mkv: 1088x1088 (no detections), 16.4ms\n",
      "video 1/1 (2979/3933) D:\\815_CowDataChecking\\20221230\\20221230_E_cow\\20221230_152538_8796.mkv: 1088x1088 (no detections), 23.9ms\n",
      "video 1/1 (2980/3933) D:\\815_CowDataChecking\\20221230\\20221230_E_cow\\20221230_152538_8796.mkv: 1088x1088 (no detections), 22.0ms\n",
      "video 1/1 (2981/3933) D:\\815_CowDataChecking\\20221230\\20221230_E_cow\\20221230_152538_8796.mkv: 1088x1088 (no detections), 22.4ms\n",
      "video 1/1 (2982/3933) D:\\815_CowDataChecking\\20221230\\20221230_E_cow\\20221230_152538_8796.mkv: 1088x1088 (no detections), 17.4ms\n",
      "video 1/1 (2983/3933) D:\\815_CowDataChecking\\20221230\\20221230_E_cow\\20221230_152538_8796.mkv: 1088x1088 (no detections), 19.9ms\n",
      "video 1/1 (2984/3933) D:\\815_CowDataChecking\\20221230\\20221230_E_cow\\20221230_152538_8796.mkv: 1088x1088 (no detections), 25.3ms\n",
      "video 1/1 (2985/3933) D:\\815_CowDataChecking\\20221230\\20221230_E_cow\\20221230_152538_8796.mkv: 1088x1088 (no detections), 19.5ms\n",
      "video 1/1 (2986/3933) D:\\815_CowDataChecking\\20221230\\20221230_E_cow\\20221230_152538_8796.mkv: 1088x1088 (no detections), 17.4ms\n",
      "video 1/1 (2987/3933) D:\\815_CowDataChecking\\20221230\\20221230_E_cow\\20221230_152538_8796.mkv: 1088x1088 (no detections), 22.5ms\n",
      "video 1/1 (2988/3933) D:\\815_CowDataChecking\\20221230\\20221230_E_cow\\20221230_152538_8796.mkv: 1088x1088 (no detections), 23.1ms\n",
      "video 1/1 (2989/3933) D:\\815_CowDataChecking\\20221230\\20221230_E_cow\\20221230_152538_8796.mkv: 1088x1088 (no detections), 22.1ms\n",
      "video 1/1 (2990/3933) D:\\815_CowDataChecking\\20221230\\20221230_E_cow\\20221230_152538_8796.mkv: 1088x1088 (no detections), 22.9ms\n",
      "video 1/1 (2991/3933) D:\\815_CowDataChecking\\20221230\\20221230_E_cow\\20221230_152538_8796.mkv: 1088x1088 (no detections), 23.6ms\n",
      "video 1/1 (2992/3933) D:\\815_CowDataChecking\\20221230\\20221230_E_cow\\20221230_152538_8796.mkv: 1088x1088 (no detections), 16.5ms\n",
      "video 1/1 (2993/3933) D:\\815_CowDataChecking\\20221230\\20221230_E_cow\\20221230_152538_8796.mkv: 1088x1088 (no detections), 22.0ms\n",
      "video 1/1 (2994/3933) D:\\815_CowDataChecking\\20221230\\20221230_E_cow\\20221230_152538_8796.mkv: 1088x1088 (no detections), 17.1ms\n",
      "video 1/1 (2995/3933) D:\\815_CowDataChecking\\20221230\\20221230_E_cow\\20221230_152538_8796.mkv: 1088x1088 (no detections), 16.2ms\n",
      "video 1/1 (2996/3933) D:\\815_CowDataChecking\\20221230\\20221230_E_cow\\20221230_152538_8796.mkv: 1088x1088 (no detections), 21.4ms\n",
      "video 1/1 (2997/3933) D:\\815_CowDataChecking\\20221230\\20221230_E_cow\\20221230_152538_8796.mkv: 1088x1088 (no detections), 18.9ms\n",
      "video 1/1 (2998/3933) D:\\815_CowDataChecking\\20221230\\20221230_E_cow\\20221230_152538_8796.mkv: 1088x1088 (no detections), 16.9ms\n",
      "video 1/1 (2999/3933) D:\\815_CowDataChecking\\20221230\\20221230_E_cow\\20221230_152538_8796.mkv: 1088x1088 (no detections), 25.1ms\n",
      "video 1/1 (3000/3933) D:\\815_CowDataChecking\\20221230\\20221230_E_cow\\20221230_152538_8796.mkv: 1088x1088 (no detections), 19.6ms\n",
      "video 1/1 (3001/3933) D:\\815_CowDataChecking\\20221230\\20221230_E_cow\\20221230_152538_8796.mkv: 1088x1088 (no detections), 19.3ms\n",
      "video 1/1 (3002/3933) D:\\815_CowDataChecking\\20221230\\20221230_E_cow\\20221230_152538_8796.mkv: 1088x1088 (no detections), 16.5ms\n",
      "video 1/1 (3003/3933) D:\\815_CowDataChecking\\20221230\\20221230_E_cow\\20221230_152538_8796.mkv: 1088x1088 (no detections), 22.0ms\n",
      "video 1/1 (3004/3933) D:\\815_CowDataChecking\\20221230\\20221230_E_cow\\20221230_152538_8796.mkv: 1088x1088 (no detections), 22.4ms\n",
      "video 1/1 (3005/3933) D:\\815_CowDataChecking\\20221230\\20221230_E_cow\\20221230_152538_8796.mkv: 1088x1088 (no detections), 17.3ms\n",
      "video 1/1 (3006/3933) D:\\815_CowDataChecking\\20221230\\20221230_E_cow\\20221230_152538_8796.mkv: 1088x1088 (no detections), 23.4ms\n",
      "video 1/1 (3007/3933) D:\\815_CowDataChecking\\20221230\\20221230_E_cow\\20221230_152538_8796.mkv: 1088x1088 (no detections), 21.9ms\n",
      "video 1/1 (3008/3933) D:\\815_CowDataChecking\\20221230\\20221230_E_cow\\20221230_152538_8796.mkv: 1088x1088 (no detections), 23.5ms\n",
      "video 1/1 (3009/3933) D:\\815_CowDataChecking\\20221230\\20221230_E_cow\\20221230_152538_8796.mkv: 1088x1088 (no detections), 22.0ms\n",
      "video 1/1 (3010/3933) D:\\815_CowDataChecking\\20221230\\20221230_E_cow\\20221230_152538_8796.mkv: 1088x1088 (no detections), 18.8ms\n",
      "video 1/1 (3011/3933) D:\\815_CowDataChecking\\20221230\\20221230_E_cow\\20221230_152538_8796.mkv: 1088x1088 (no detections), 21.6ms\n",
      "video 1/1 (3012/3933) D:\\815_CowDataChecking\\20221230\\20221230_E_cow\\20221230_152538_8796.mkv: 1088x1088 (no detections), 21.5ms\n",
      "video 1/1 (3013/3933) D:\\815_CowDataChecking\\20221230\\20221230_E_cow\\20221230_152538_8796.mkv: 1088x1088 (no detections), 19.5ms\n",
      "video 1/1 (3014/3933) D:\\815_CowDataChecking\\20221230\\20221230_E_cow\\20221230_152538_8796.mkv: 1088x1088 (no detections), 21.1ms\n",
      "video 1/1 (3015/3933) D:\\815_CowDataChecking\\20221230\\20221230_E_cow\\20221230_152538_8796.mkv: 1088x1088 (no detections), 21.9ms\n",
      "video 1/1 (3016/3933) D:\\815_CowDataChecking\\20221230\\20221230_E_cow\\20221230_152538_8796.mkv: 1088x1088 (no detections), 21.4ms\n",
      "video 1/1 (3017/3933) D:\\815_CowDataChecking\\20221230\\20221230_E_cow\\20221230_152538_8796.mkv: 1088x1088 (no detections), 23.0ms\n",
      "video 1/1 (3018/3933) D:\\815_CowDataChecking\\20221230\\20221230_E_cow\\20221230_152538_8796.mkv: 1088x1088 (no detections), 23.4ms\n",
      "video 1/1 (3019/3933) D:\\815_CowDataChecking\\20221230\\20221230_E_cow\\20221230_152538_8796.mkv: 1088x1088 (no detections), 23.6ms\n",
      "video 1/1 (3020/3933) D:\\815_CowDataChecking\\20221230\\20221230_E_cow\\20221230_152538_8796.mkv: 1088x1088 (no detections), 16.5ms\n",
      "video 1/1 (3021/3933) D:\\815_CowDataChecking\\20221230\\20221230_E_cow\\20221230_152538_8796.mkv: 1088x1088 (no detections), 22.5ms\n",
      "video 1/1 (3022/3933) D:\\815_CowDataChecking\\20221230\\20221230_E_cow\\20221230_152538_8796.mkv: 1088x1088 (no detections), 22.0ms\n",
      "video 1/1 (3023/3933) D:\\815_CowDataChecking\\20221230\\20221230_E_cow\\20221230_152538_8796.mkv: 1088x1088 (no detections), 17.5ms\n",
      "video 1/1 (3024/3933) D:\\815_CowDataChecking\\20221230\\20221230_E_cow\\20221230_152538_8796.mkv: 1088x1088 (no detections), 19.2ms\n",
      "video 1/1 (3025/3933) D:\\815_CowDataChecking\\20221230\\20221230_E_cow\\20221230_152538_8796.mkv: 1088x1088 (no detections), 17.4ms\n",
      "video 1/1 (3026/3933) D:\\815_CowDataChecking\\20221230\\20221230_E_cow\\20221230_152538_8796.mkv: 1088x1088 (no detections), 17.5ms\n",
      "video 1/1 (3027/3933) D:\\815_CowDataChecking\\20221230\\20221230_E_cow\\20221230_152538_8796.mkv: 1088x1088 (no detections), 22.1ms\n",
      "video 1/1 (3028/3933) D:\\815_CowDataChecking\\20221230\\20221230_E_cow\\20221230_152538_8796.mkv: 1088x1088 (no detections), 20.1ms\n",
      "video 1/1 (3029/3933) D:\\815_CowDataChecking\\20221230\\20221230_E_cow\\20221230_152538_8796.mkv: 1088x1088 (no detections), 24.4ms\n",
      "video 1/1 (3030/3933) D:\\815_CowDataChecking\\20221230\\20221230_E_cow\\20221230_152538_8796.mkv: 1088x1088 (no detections), 23.3ms\n",
      "video 1/1 (3031/3933) D:\\815_CowDataChecking\\20221230\\20221230_E_cow\\20221230_152538_8796.mkv: 1088x1088 (no detections), 21.0ms\n",
      "video 1/1 (3032/3933) D:\\815_CowDataChecking\\20221230\\20221230_E_cow\\20221230_152538_8796.mkv: 1088x1088 (no detections), 20.4ms\n",
      "video 1/1 (3033/3933) D:\\815_CowDataChecking\\20221230\\20221230_E_cow\\20221230_152538_8796.mkv: 1088x1088 (no detections), 18.2ms\n",
      "video 1/1 (3034/3933) D:\\815_CowDataChecking\\20221230\\20221230_E_cow\\20221230_152538_8796.mkv: 1088x1088 (no detections), 16.3ms\n",
      "video 1/1 (3035/3933) D:\\815_CowDataChecking\\20221230\\20221230_E_cow\\20221230_152538_8796.mkv: 1088x1088 (no detections), 24.1ms\n",
      "video 1/1 (3036/3933) D:\\815_CowDataChecking\\20221230\\20221230_E_cow\\20221230_152538_8796.mkv: 1088x1088 (no detections), 15.5ms\n",
      "video 1/1 (3037/3933) D:\\815_CowDataChecking\\20221230\\20221230_E_cow\\20221230_152538_8796.mkv: 1088x1088 (no detections), 21.4ms\n",
      "video 1/1 (3038/3933) D:\\815_CowDataChecking\\20221230\\20221230_E_cow\\20221230_152538_8796.mkv: 1088x1088 (no detections), 24.7ms\n",
      "video 1/1 (3039/3933) D:\\815_CowDataChecking\\20221230\\20221230_E_cow\\20221230_152538_8796.mkv: 1088x1088 (no detections), 20.4ms\n",
      "video 1/1 (3040/3933) D:\\815_CowDataChecking\\20221230\\20221230_E_cow\\20221230_152538_8796.mkv: 1088x1088 (no detections), 21.0ms\n",
      "video 1/1 (3041/3933) D:\\815_CowDataChecking\\20221230\\20221230_E_cow\\20221230_152538_8796.mkv: 1088x1088 (no detections), 22.3ms\n",
      "video 1/1 (3042/3933) D:\\815_CowDataChecking\\20221230\\20221230_E_cow\\20221230_152538_8796.mkv: 1088x1088 (no detections), 22.4ms\n",
      "video 1/1 (3043/3933) D:\\815_CowDataChecking\\20221230\\20221230_E_cow\\20221230_152538_8796.mkv: 1088x1088 (no detections), 20.5ms\n",
      "video 1/1 (3044/3933) D:\\815_CowDataChecking\\20221230\\20221230_E_cow\\20221230_152538_8796.mkv: 1088x1088 (no detections), 22.3ms\n",
      "video 1/1 (3045/3933) D:\\815_CowDataChecking\\20221230\\20221230_E_cow\\20221230_152538_8796.mkv: 1088x1088 (no detections), 22.0ms\n",
      "video 1/1 (3046/3933) D:\\815_CowDataChecking\\20221230\\20221230_E_cow\\20221230_152538_8796.mkv: 1088x1088 (no detections), 20.4ms\n",
      "video 1/1 (3047/3933) D:\\815_CowDataChecking\\20221230\\20221230_E_cow\\20221230_152538_8796.mkv: 1088x1088 (no detections), 19.9ms\n",
      "video 1/1 (3048/3933) D:\\815_CowDataChecking\\20221230\\20221230_E_cow\\20221230_152538_8796.mkv: 1088x1088 (no detections), 23.3ms\n",
      "video 1/1 (3049/3933) D:\\815_CowDataChecking\\20221230\\20221230_E_cow\\20221230_152538_8796.mkv: 1088x1088 (no detections), 20.2ms\n",
      "video 1/1 (3050/3933) D:\\815_CowDataChecking\\20221230\\20221230_E_cow\\20221230_152538_8796.mkv: 1088x1088 (no detections), 16.4ms\n",
      "video 1/1 (3051/3933) D:\\815_CowDataChecking\\20221230\\20221230_E_cow\\20221230_152538_8796.mkv: 1088x1088 (no detections), 22.1ms\n",
      "video 1/1 (3052/3933) D:\\815_CowDataChecking\\20221230\\20221230_E_cow\\20221230_152538_8796.mkv: 1088x1088 (no detections), 17.2ms\n",
      "video 1/1 (3053/3933) D:\\815_CowDataChecking\\20221230\\20221230_E_cow\\20221230_152538_8796.mkv: 1088x1088 (no detections), 20.4ms\n",
      "video 1/1 (3054/3933) D:\\815_CowDataChecking\\20221230\\20221230_E_cow\\20221230_152538_8796.mkv: 1088x1088 (no detections), 23.2ms\n",
      "video 1/1 (3055/3933) D:\\815_CowDataChecking\\20221230\\20221230_E_cow\\20221230_152538_8796.mkv: 1088x1088 (no detections), 21.4ms\n",
      "video 1/1 (3056/3933) D:\\815_CowDataChecking\\20221230\\20221230_E_cow\\20221230_152538_8796.mkv: 1088x1088 (no detections), 22.1ms\n",
      "video 1/1 (3057/3933) D:\\815_CowDataChecking\\20221230\\20221230_E_cow\\20221230_152538_8796.mkv: 1088x1088 (no detections), 22.1ms\n",
      "video 1/1 (3058/3933) D:\\815_CowDataChecking\\20221230\\20221230_E_cow\\20221230_152538_8796.mkv: 1088x1088 (no detections), 20.0ms\n",
      "video 1/1 (3059/3933) D:\\815_CowDataChecking\\20221230\\20221230_E_cow\\20221230_152538_8796.mkv: 1088x1088 (no detections), 23.1ms\n",
      "video 1/1 (3060/3933) D:\\815_CowDataChecking\\20221230\\20221230_E_cow\\20221230_152538_8796.mkv: 1088x1088 (no detections), 18.3ms\n",
      "video 1/1 (3061/3933) D:\\815_CowDataChecking\\20221230\\20221230_E_cow\\20221230_152538_8796.mkv: 1088x1088 (no detections), 16.2ms\n",
      "video 1/1 (3062/3933) D:\\815_CowDataChecking\\20221230\\20221230_E_cow\\20221230_152538_8796.mkv: 1088x1088 (no detections), 18.1ms\n",
      "video 1/1 (3063/3933) D:\\815_CowDataChecking\\20221230\\20221230_E_cow\\20221230_152538_8796.mkv: 1088x1088 (no detections), 21.5ms\n",
      "video 1/1 (3064/3933) D:\\815_CowDataChecking\\20221230\\20221230_E_cow\\20221230_152538_8796.mkv: 1088x1088 (no detections), 20.2ms\n",
      "video 1/1 (3065/3933) D:\\815_CowDataChecking\\20221230\\20221230_E_cow\\20221230_152538_8796.mkv: 1088x1088 (no detections), 20.6ms\n",
      "video 1/1 (3066/3933) D:\\815_CowDataChecking\\20221230\\20221230_E_cow\\20221230_152538_8796.mkv: 1088x1088 (no detections), 17.0ms\n",
      "video 1/1 (3067/3933) D:\\815_CowDataChecking\\20221230\\20221230_E_cow\\20221230_152538_8796.mkv: 1088x1088 (no detections), 24.5ms\n",
      "video 1/1 (3068/3933) D:\\815_CowDataChecking\\20221230\\20221230_E_cow\\20221230_152538_8796.mkv: 1088x1088 (no detections), 19.7ms\n",
      "video 1/1 (3069/3933) D:\\815_CowDataChecking\\20221230\\20221230_E_cow\\20221230_152538_8796.mkv: 1088x1088 (no detections), 17.0ms\n",
      "video 1/1 (3070/3933) D:\\815_CowDataChecking\\20221230\\20221230_E_cow\\20221230_152538_8796.mkv: 1088x1088 (no detections), 24.2ms\n",
      "video 1/1 (3071/3933) D:\\815_CowDataChecking\\20221230\\20221230_E_cow\\20221230_152538_8796.mkv: 1088x1088 (no detections), 22.4ms\n",
      "video 1/1 (3072/3933) D:\\815_CowDataChecking\\20221230\\20221230_E_cow\\20221230_152538_8796.mkv: 1088x1088 (no detections), 23.4ms\n",
      "video 1/1 (3073/3933) D:\\815_CowDataChecking\\20221230\\20221230_E_cow\\20221230_152538_8796.mkv: 1088x1088 (no detections), 23.0ms\n",
      "video 1/1 (3074/3933) D:\\815_CowDataChecking\\20221230\\20221230_E_cow\\20221230_152538_8796.mkv: 1088x1088 (no detections), 18.2ms\n",
      "video 1/1 (3075/3933) D:\\815_CowDataChecking\\20221230\\20221230_E_cow\\20221230_152538_8796.mkv: 1088x1088 (no detections), 20.1ms\n",
      "video 1/1 (3076/3933) D:\\815_CowDataChecking\\20221230\\20221230_E_cow\\20221230_152538_8796.mkv: 1088x1088 (no detections), 19.5ms\n",
      "video 1/1 (3077/3933) D:\\815_CowDataChecking\\20221230\\20221230_E_cow\\20221230_152538_8796.mkv: 1088x1088 (no detections), 23.0ms\n",
      "video 1/1 (3078/3933) D:\\815_CowDataChecking\\20221230\\20221230_E_cow\\20221230_152538_8796.mkv: 1088x1088 (no detections), 19.2ms\n",
      "video 1/1 (3079/3933) D:\\815_CowDataChecking\\20221230\\20221230_E_cow\\20221230_152538_8796.mkv: 1088x1088 (no detections), 24.0ms\n",
      "video 1/1 (3080/3933) D:\\815_CowDataChecking\\20221230\\20221230_E_cow\\20221230_152538_8796.mkv: 1088x1088 (no detections), 23.0ms\n",
      "video 1/1 (3081/3933) D:\\815_CowDataChecking\\20221230\\20221230_E_cow\\20221230_152538_8796.mkv: 1088x1088 (no detections), 23.4ms\n",
      "video 1/1 (3082/3933) D:\\815_CowDataChecking\\20221230\\20221230_E_cow\\20221230_152538_8796.mkv: 1088x1088 (no detections), 22.1ms\n",
      "video 1/1 (3083/3933) D:\\815_CowDataChecking\\20221230\\20221230_E_cow\\20221230_152538_8796.mkv: 1088x1088 (no detections), 22.0ms\n",
      "video 1/1 (3084/3933) D:\\815_CowDataChecking\\20221230\\20221230_E_cow\\20221230_152538_8796.mkv: 1088x1088 (no detections), 22.0ms\n",
      "video 1/1 (3085/3933) D:\\815_CowDataChecking\\20221230\\20221230_E_cow\\20221230_152538_8796.mkv: 1088x1088 (no detections), 21.0ms\n",
      "video 1/1 (3086/3933) D:\\815_CowDataChecking\\20221230\\20221230_E_cow\\20221230_152538_8796.mkv: 1088x1088 (no detections), 24.1ms\n",
      "video 1/1 (3087/3933) D:\\815_CowDataChecking\\20221230\\20221230_E_cow\\20221230_152538_8796.mkv: 1088x1088 (no detections), 26.4ms\n",
      "video 1/1 (3088/3933) D:\\815_CowDataChecking\\20221230\\20221230_E_cow\\20221230_152538_8796.mkv: 1088x1088 (no detections), 24.3ms\n",
      "video 1/1 (3089/3933) D:\\815_CowDataChecking\\20221230\\20221230_E_cow\\20221230_152538_8796.mkv: 1088x1088 (no detections), 17.7ms\n",
      "video 1/1 (3090/3933) D:\\815_CowDataChecking\\20221230\\20221230_E_cow\\20221230_152538_8796.mkv: 1088x1088 (no detections), 23.0ms\n",
      "video 1/1 (3091/3933) D:\\815_CowDataChecking\\20221230\\20221230_E_cow\\20221230_152538_8796.mkv: 1088x1088 (no detections), 21.0ms\n",
      "video 1/1 (3092/3933) D:\\815_CowDataChecking\\20221230\\20221230_E_cow\\20221230_152538_8796.mkv: 1088x1088 (no detections), 20.9ms\n",
      "video 1/1 (3093/3933) D:\\815_CowDataChecking\\20221230\\20221230_E_cow\\20221230_152538_8796.mkv: 1088x1088 (no detections), 20.7ms\n",
      "video 1/1 (3094/3933) D:\\815_CowDataChecking\\20221230\\20221230_E_cow\\20221230_152538_8796.mkv: 1088x1088 (no detections), 18.0ms\n",
      "video 1/1 (3095/3933) D:\\815_CowDataChecking\\20221230\\20221230_E_cow\\20221230_152538_8796.mkv: 1088x1088 (no detections), 24.0ms\n",
      "video 1/1 (3096/3933) D:\\815_CowDataChecking\\20221230\\20221230_E_cow\\20221230_152538_8796.mkv: 1088x1088 (no detections), 22.0ms\n",
      "video 1/1 (3097/3933) D:\\815_CowDataChecking\\20221230\\20221230_E_cow\\20221230_152538_8796.mkv: 1088x1088 (no detections), 16.0ms\n",
      "video 1/1 (3098/3933) D:\\815_CowDataChecking\\20221230\\20221230_E_cow\\20221230_152538_8796.mkv: 1088x1088 (no detections), 19.5ms\n",
      "video 1/1 (3099/3933) D:\\815_CowDataChecking\\20221230\\20221230_E_cow\\20221230_152538_8796.mkv: 1088x1088 (no detections), 16.1ms\n",
      "video 1/1 (3100/3933) D:\\815_CowDataChecking\\20221230\\20221230_E_cow\\20221230_152538_8796.mkv: 1088x1088 (no detections), 21.6ms\n",
      "video 1/1 (3101/3933) D:\\815_CowDataChecking\\20221230\\20221230_E_cow\\20221230_152538_8796.mkv: 1088x1088 (no detections), 18.5ms\n",
      "video 1/1 (3102/3933) D:\\815_CowDataChecking\\20221230\\20221230_E_cow\\20221230_152538_8796.mkv: 1088x1088 (no detections), 17.1ms\n",
      "video 1/1 (3103/3933) D:\\815_CowDataChecking\\20221230\\20221230_E_cow\\20221230_152538_8796.mkv: 1088x1088 (no detections), 22.2ms\n",
      "video 1/1 (3104/3933) D:\\815_CowDataChecking\\20221230\\20221230_E_cow\\20221230_152538_8796.mkv: 1088x1088 (no detections), 23.5ms\n",
      "video 1/1 (3105/3933) D:\\815_CowDataChecking\\20221230\\20221230_E_cow\\20221230_152538_8796.mkv: 1088x1088 (no detections), 23.0ms\n",
      "video 1/1 (3106/3933) D:\\815_CowDataChecking\\20221230\\20221230_E_cow\\20221230_152538_8796.mkv: 1088x1088 (no detections), 22.6ms\n",
      "video 1/1 (3107/3933) D:\\815_CowDataChecking\\20221230\\20221230_E_cow\\20221230_152538_8796.mkv: 1088x1088 (no detections), 25.4ms\n",
      "video 1/1 (3108/3933) D:\\815_CowDataChecking\\20221230\\20221230_E_cow\\20221230_152538_8796.mkv: 1088x1088 (no detections), 22.0ms\n",
      "video 1/1 (3109/3933) D:\\815_CowDataChecking\\20221230\\20221230_E_cow\\20221230_152538_8796.mkv: 1088x1088 (no detections), 21.4ms\n",
      "video 1/1 (3110/3933) D:\\815_CowDataChecking\\20221230\\20221230_E_cow\\20221230_152538_8796.mkv: 1088x1088 (no detections), 24.0ms\n",
      "video 1/1 (3111/3933) D:\\815_CowDataChecking\\20221230\\20221230_E_cow\\20221230_152538_8796.mkv: 1088x1088 (no detections), 23.3ms\n",
      "video 1/1 (3112/3933) D:\\815_CowDataChecking\\20221230\\20221230_E_cow\\20221230_152538_8796.mkv: 1088x1088 (no detections), 22.2ms\n",
      "video 1/1 (3113/3933) D:\\815_CowDataChecking\\20221230\\20221230_E_cow\\20221230_152538_8796.mkv: 1088x1088 (no detections), 22.4ms\n",
      "video 1/1 (3114/3933) D:\\815_CowDataChecking\\20221230\\20221230_E_cow\\20221230_152538_8796.mkv: 1088x1088 (no detections), 23.0ms\n",
      "video 1/1 (3115/3933) D:\\815_CowDataChecking\\20221230\\20221230_E_cow\\20221230_152538_8796.mkv: 1088x1088 (no detections), 24.4ms\n",
      "video 1/1 (3116/3933) D:\\815_CowDataChecking\\20221230\\20221230_E_cow\\20221230_152538_8796.mkv: 1088x1088 (no detections), 16.2ms\n",
      "video 1/1 (3117/3933) D:\\815_CowDataChecking\\20221230\\20221230_E_cow\\20221230_152538_8796.mkv: 1088x1088 (no detections), 19.8ms\n",
      "video 1/1 (3118/3933) D:\\815_CowDataChecking\\20221230\\20221230_E_cow\\20221230_152538_8796.mkv: 1088x1088 (no detections), 17.7ms\n",
      "video 1/1 (3119/3933) D:\\815_CowDataChecking\\20221230\\20221230_E_cow\\20221230_152538_8796.mkv: 1088x1088 (no detections), 29.7ms\n",
      "video 1/1 (3120/3933) D:\\815_CowDataChecking\\20221230\\20221230_E_cow\\20221230_152538_8796.mkv: 1088x1088 (no detections), 19.1ms\n",
      "video 1/1 (3121/3933) D:\\815_CowDataChecking\\20221230\\20221230_E_cow\\20221230_152538_8796.mkv: 1088x1088 (no detections), 17.6ms\n",
      "video 1/1 (3122/3933) D:\\815_CowDataChecking\\20221230\\20221230_E_cow\\20221230_152538_8796.mkv: 1088x1088 (no detections), 16.2ms\n",
      "video 1/1 (3123/3933) D:\\815_CowDataChecking\\20221230\\20221230_E_cow\\20221230_152538_8796.mkv: 1088x1088 (no detections), 21.1ms\n",
      "video 1/1 (3124/3933) D:\\815_CowDataChecking\\20221230\\20221230_E_cow\\20221230_152538_8796.mkv: 1088x1088 (no detections), 18.3ms\n",
      "video 1/1 (3125/3933) D:\\815_CowDataChecking\\20221230\\20221230_E_cow\\20221230_152538_8796.mkv: 1088x1088 (no detections), 17.6ms\n",
      "video 1/1 (3126/3933) D:\\815_CowDataChecking\\20221230\\20221230_E_cow\\20221230_152538_8796.mkv: 1088x1088 (no detections), 24.0ms\n",
      "video 1/1 (3127/3933) D:\\815_CowDataChecking\\20221230\\20221230_E_cow\\20221230_152538_8796.mkv: 1088x1088 (no detections), 23.4ms\n",
      "video 1/1 (3128/3933) D:\\815_CowDataChecking\\20221230\\20221230_E_cow\\20221230_152538_8796.mkv: 1088x1088 (no detections), 23.7ms\n",
      "video 1/1 (3129/3933) D:\\815_CowDataChecking\\20221230\\20221230_E_cow\\20221230_152538_8796.mkv: 1088x1088 (no detections), 16.4ms\n",
      "video 1/1 (3130/3933) D:\\815_CowDataChecking\\20221230\\20221230_E_cow\\20221230_152538_8796.mkv: 1088x1088 (no detections), 23.2ms\n",
      "video 1/1 (3131/3933) D:\\815_CowDataChecking\\20221230\\20221230_E_cow\\20221230_152538_8796.mkv: 1088x1088 (no detections), 19.3ms\n",
      "video 1/1 (3132/3933) D:\\815_CowDataChecking\\20221230\\20221230_E_cow\\20221230_152538_8796.mkv: 1088x1088 (no detections), 22.4ms\n",
      "video 1/1 (3133/3933) D:\\815_CowDataChecking\\20221230\\20221230_E_cow\\20221230_152538_8796.mkv: 1088x1088 (no detections), 20.0ms\n",
      "video 1/1 (3134/3933) D:\\815_CowDataChecking\\20221230\\20221230_E_cow\\20221230_152538_8796.mkv: 1088x1088 (no detections), 23.1ms\n",
      "video 1/1 (3135/3933) D:\\815_CowDataChecking\\20221230\\20221230_E_cow\\20221230_152538_8796.mkv: 1088x1088 (no detections), 22.4ms\n",
      "video 1/1 (3136/3933) D:\\815_CowDataChecking\\20221230\\20221230_E_cow\\20221230_152538_8796.mkv: 1088x1088 (no detections), 22.0ms\n",
      "video 1/1 (3137/3933) D:\\815_CowDataChecking\\20221230\\20221230_E_cow\\20221230_152538_8796.mkv: 1088x1088 (no detections), 24.5ms\n",
      "video 1/1 (3138/3933) D:\\815_CowDataChecking\\20221230\\20221230_E_cow\\20221230_152538_8796.mkv: 1088x1088 (no detections), 24.6ms\n",
      "video 1/1 (3139/3933) D:\\815_CowDataChecking\\20221230\\20221230_E_cow\\20221230_152538_8796.mkv: 1088x1088 (no detections), 20.3ms\n",
      "video 1/1 (3140/3933) D:\\815_CowDataChecking\\20221230\\20221230_E_cow\\20221230_152538_8796.mkv: 1088x1088 (no detections), 17.5ms\n",
      "video 1/1 (3141/3933) D:\\815_CowDataChecking\\20221230\\20221230_E_cow\\20221230_152538_8796.mkv: 1088x1088 (no detections), 22.1ms\n",
      "video 1/1 (3142/3933) D:\\815_CowDataChecking\\20221230\\20221230_E_cow\\20221230_152538_8796.mkv: 1088x1088 (no detections), 26.3ms\n",
      "video 1/1 (3143/3933) D:\\815_CowDataChecking\\20221230\\20221230_E_cow\\20221230_152538_8796.mkv: 1088x1088 (no detections), 17.1ms\n",
      "video 1/1 (3144/3933) D:\\815_CowDataChecking\\20221230\\20221230_E_cow\\20221230_152538_8796.mkv: 1088x1088 (no detections), 22.0ms\n",
      "video 1/1 (3145/3933) D:\\815_CowDataChecking\\20221230\\20221230_E_cow\\20221230_152538_8796.mkv: 1088x1088 (no detections), 21.5ms\n",
      "video 1/1 (3146/3933) D:\\815_CowDataChecking\\20221230\\20221230_E_cow\\20221230_152538_8796.mkv: 1088x1088 (no detections), 22.0ms\n",
      "video 1/1 (3147/3933) D:\\815_CowDataChecking\\20221230\\20221230_E_cow\\20221230_152538_8796.mkv: 1088x1088 (no detections), 20.0ms\n",
      "video 1/1 (3148/3933) D:\\815_CowDataChecking\\20221230\\20221230_E_cow\\20221230_152538_8796.mkv: 1088x1088 (no detections), 19.8ms\n",
      "video 1/1 (3149/3933) D:\\815_CowDataChecking\\20221230\\20221230_E_cow\\20221230_152538_8796.mkv: 1088x1088 (no detections), 16.4ms\n",
      "video 1/1 (3150/3933) D:\\815_CowDataChecking\\20221230\\20221230_E_cow\\20221230_152538_8796.mkv: 1088x1088 (no detections), 20.4ms\n",
      "video 1/1 (3151/3933) D:\\815_CowDataChecking\\20221230\\20221230_E_cow\\20221230_152538_8796.mkv: 1088x1088 (no detections), 17.2ms\n",
      "video 1/1 (3152/3933) D:\\815_CowDataChecking\\20221230\\20221230_E_cow\\20221230_152538_8796.mkv: 1088x1088 (no detections), 17.1ms\n",
      "video 1/1 (3153/3933) D:\\815_CowDataChecking\\20221230\\20221230_E_cow\\20221230_152538_8796.mkv: 1088x1088 (no detections), 23.0ms\n",
      "video 1/1 (3154/3933) D:\\815_CowDataChecking\\20221230\\20221230_E_cow\\20221230_152538_8796.mkv: 1088x1088 (no detections), 22.2ms\n",
      "video 1/1 (3155/3933) D:\\815_CowDataChecking\\20221230\\20221230_E_cow\\20221230_152538_8796.mkv: 1088x1088 (no detections), 23.4ms\n",
      "video 1/1 (3156/3933) D:\\815_CowDataChecking\\20221230\\20221230_E_cow\\20221230_152538_8796.mkv: 1088x1088 (no detections), 16.4ms\n",
      "video 1/1 (3157/3933) D:\\815_CowDataChecking\\20221230\\20221230_E_cow\\20221230_152538_8796.mkv: 1088x1088 (no detections), 25.1ms\n",
      "video 1/1 (3158/3933) D:\\815_CowDataChecking\\20221230\\20221230_E_cow\\20221230_152538_8796.mkv: 1088x1088 (no detections), 22.4ms\n",
      "video 1/1 (3159/3933) D:\\815_CowDataChecking\\20221230\\20221230_E_cow\\20221230_152538_8796.mkv: 1088x1088 (no detections), 22.5ms\n",
      "video 1/1 (3160/3933) D:\\815_CowDataChecking\\20221230\\20221230_E_cow\\20221230_152538_8796.mkv: 1088x1088 (no detections), 20.5ms\n",
      "video 1/1 (3161/3933) D:\\815_CowDataChecking\\20221230\\20221230_E_cow\\20221230_152538_8796.mkv: 1088x1088 (no detections), 18.5ms\n",
      "video 1/1 (3162/3933) D:\\815_CowDataChecking\\20221230\\20221230_E_cow\\20221230_152538_8796.mkv: 1088x1088 (no detections), 16.5ms\n",
      "video 1/1 (3163/3933) D:\\815_CowDataChecking\\20221230\\20221230_E_cow\\20221230_152538_8796.mkv: 1088x1088 (no detections), 23.2ms\n",
      "video 1/1 (3164/3933) D:\\815_CowDataChecking\\20221230\\20221230_E_cow\\20221230_152538_8796.mkv: 1088x1088 (no detections), 16.3ms\n",
      "video 1/1 (3165/3933) D:\\815_CowDataChecking\\20221230\\20221230_E_cow\\20221230_152538_8796.mkv: 1088x1088 (no detections), 19.7ms\n",
      "video 1/1 (3166/3933) D:\\815_CowDataChecking\\20221230\\20221230_E_cow\\20221230_152538_8796.mkv: 1088x1088 (no detections), 22.1ms\n",
      "video 1/1 (3167/3933) D:\\815_CowDataChecking\\20221230\\20221230_E_cow\\20221230_152538_8796.mkv: 1088x1088 (no detections), 15.5ms\n",
      "video 1/1 (3168/3933) D:\\815_CowDataChecking\\20221230\\20221230_E_cow\\20221230_152538_8796.mkv: 1088x1088 (no detections), 18.9ms\n",
      "video 1/1 (3169/3933) D:\\815_CowDataChecking\\20221230\\20221230_E_cow\\20221230_152538_8796.mkv: 1088x1088 (no detections), 16.5ms\n",
      "video 1/1 (3170/3933) D:\\815_CowDataChecking\\20221230\\20221230_E_cow\\20221230_152538_8796.mkv: 1088x1088 (no detections), 22.9ms\n",
      "video 1/1 (3171/3933) D:\\815_CowDataChecking\\20221230\\20221230_E_cow\\20221230_152538_8796.mkv: 1088x1088 (no detections), 16.4ms\n",
      "video 1/1 (3172/3933) D:\\815_CowDataChecking\\20221230\\20221230_E_cow\\20221230_152538_8796.mkv: 1088x1088 (no detections), 20.3ms\n",
      "video 1/1 (3173/3933) D:\\815_CowDataChecking\\20221230\\20221230_E_cow\\20221230_152538_8796.mkv: 1088x1088 (no detections), 17.5ms\n",
      "video 1/1 (3174/3933) D:\\815_CowDataChecking\\20221230\\20221230_E_cow\\20221230_152538_8796.mkv: 1088x1088 (no detections), 21.1ms\n",
      "video 1/1 (3175/3933) D:\\815_CowDataChecking\\20221230\\20221230_E_cow\\20221230_152538_8796.mkv: 1088x1088 (no detections), 15.4ms\n",
      "video 1/1 (3176/3933) D:\\815_CowDataChecking\\20221230\\20221230_E_cow\\20221230_152538_8796.mkv: 1088x1088 (no detections), 24.6ms\n",
      "video 1/1 (3177/3933) D:\\815_CowDataChecking\\20221230\\20221230_E_cow\\20221230_152538_8796.mkv: 1088x1088 (no detections), 20.8ms\n",
      "video 1/1 (3178/3933) D:\\815_CowDataChecking\\20221230\\20221230_E_cow\\20221230_152538_8796.mkv: 1088x1088 (no detections), 18.5ms\n",
      "video 1/1 (3179/3933) D:\\815_CowDataChecking\\20221230\\20221230_E_cow\\20221230_152538_8796.mkv: 1088x1088 (no detections), 16.5ms\n",
      "video 1/1 (3180/3933) D:\\815_CowDataChecking\\20221230\\20221230_E_cow\\20221230_152538_8796.mkv: 1088x1088 (no detections), 19.0ms\n",
      "video 1/1 (3181/3933) D:\\815_CowDataChecking\\20221230\\20221230_E_cow\\20221230_152538_8796.mkv: 1088x1088 (no detections), 18.0ms\n",
      "video 1/1 (3182/3933) D:\\815_CowDataChecking\\20221230\\20221230_E_cow\\20221230_152538_8796.mkv: 1088x1088 (no detections), 16.1ms\n",
      "video 1/1 (3183/3933) D:\\815_CowDataChecking\\20221230\\20221230_E_cow\\20221230_152538_8796.mkv: 1088x1088 (no detections), 22.1ms\n",
      "video 1/1 (3184/3933) D:\\815_CowDataChecking\\20221230\\20221230_E_cow\\20221230_152538_8796.mkv: 1088x1088 (no detections), 21.8ms\n",
      "video 1/1 (3185/3933) D:\\815_CowDataChecking\\20221230\\20221230_E_cow\\20221230_152538_8796.mkv: 1088x1088 (no detections), 22.3ms\n",
      "video 1/1 (3186/3933) D:\\815_CowDataChecking\\20221230\\20221230_E_cow\\20221230_152538_8796.mkv: 1088x1088 (no detections), 23.0ms\n",
      "video 1/1 (3187/3933) D:\\815_CowDataChecking\\20221230\\20221230_E_cow\\20221230_152538_8796.mkv: 1088x1088 (no detections), 23.6ms\n",
      "video 1/1 (3188/3933) D:\\815_CowDataChecking\\20221230\\20221230_E_cow\\20221230_152538_8796.mkv: 1088x1088 (no detections), 15.1ms\n",
      "video 1/1 (3189/3933) D:\\815_CowDataChecking\\20221230\\20221230_E_cow\\20221230_152538_8796.mkv: 1088x1088 (no detections), 23.1ms\n",
      "video 1/1 (3190/3933) D:\\815_CowDataChecking\\20221230\\20221230_E_cow\\20221230_152538_8796.mkv: 1088x1088 (no detections), 22.4ms\n",
      "video 1/1 (3191/3933) D:\\815_CowDataChecking\\20221230\\20221230_E_cow\\20221230_152538_8796.mkv: 1088x1088 (no detections), 21.9ms\n",
      "video 1/1 (3192/3933) D:\\815_CowDataChecking\\20221230\\20221230_E_cow\\20221230_152538_8796.mkv: 1088x1088 (no detections), 23.5ms\n",
      "video 1/1 (3193/3933) D:\\815_CowDataChecking\\20221230\\20221230_E_cow\\20221230_152538_8796.mkv: 1088x1088 (no detections), 21.4ms\n",
      "video 1/1 (3194/3933) D:\\815_CowDataChecking\\20221230\\20221230_E_cow\\20221230_152538_8796.mkv: 1088x1088 (no detections), 24.3ms\n",
      "video 1/1 (3195/3933) D:\\815_CowDataChecking\\20221230\\20221230_E_cow\\20221230_152538_8796.mkv: 1088x1088 (no detections), 23.0ms\n",
      "video 1/1 (3196/3933) D:\\815_CowDataChecking\\20221230\\20221230_E_cow\\20221230_152538_8796.mkv: 1088x1088 (no detections), 21.0ms\n",
      "video 1/1 (3197/3933) D:\\815_CowDataChecking\\20221230\\20221230_E_cow\\20221230_152538_8796.mkv: 1088x1088 (no detections), 24.5ms\n",
      "video 1/1 (3198/3933) D:\\815_CowDataChecking\\20221230\\20221230_E_cow\\20221230_152538_8796.mkv: 1088x1088 (no detections), 16.4ms\n",
      "video 1/1 (3199/3933) D:\\815_CowDataChecking\\20221230\\20221230_E_cow\\20221230_152538_8796.mkv: 1088x1088 (no detections), 23.3ms\n",
      "video 1/1 (3200/3933) D:\\815_CowDataChecking\\20221230\\20221230_E_cow\\20221230_152538_8796.mkv: 1088x1088 (no detections), 18.4ms\n",
      "video 1/1 (3201/3933) D:\\815_CowDataChecking\\20221230\\20221230_E_cow\\20221230_152538_8796.mkv: 1088x1088 (no detections), 22.4ms\n",
      "video 1/1 (3202/3933) D:\\815_CowDataChecking\\20221230\\20221230_E_cow\\20221230_152538_8796.mkv: 1088x1088 (no detections), 17.4ms\n",
      "video 1/1 (3203/3933) D:\\815_CowDataChecking\\20221230\\20221230_E_cow\\20221230_152538_8796.mkv: 1088x1088 (no detections), 19.6ms\n",
      "video 1/1 (3204/3933) D:\\815_CowDataChecking\\20221230\\20221230_E_cow\\20221230_152538_8796.mkv: 1088x1088 (no detections), 22.4ms\n",
      "video 1/1 (3205/3933) D:\\815_CowDataChecking\\20221230\\20221230_E_cow\\20221230_152538_8796.mkv: 1088x1088 (no detections), 23.0ms\n",
      "video 1/1 (3206/3933) D:\\815_CowDataChecking\\20221230\\20221230_E_cow\\20221230_152538_8796.mkv: 1088x1088 (no detections), 23.4ms\n",
      "video 1/1 (3207/3933) D:\\815_CowDataChecking\\20221230\\20221230_E_cow\\20221230_152538_8796.mkv: 1088x1088 (no detections), 23.0ms\n",
      "video 1/1 (3208/3933) D:\\815_CowDataChecking\\20221230\\20221230_E_cow\\20221230_152538_8796.mkv: 1088x1088 (no detections), 21.0ms\n",
      "video 1/1 (3209/3933) D:\\815_CowDataChecking\\20221230\\20221230_E_cow\\20221230_152538_8796.mkv: 1088x1088 (no detections), 22.5ms\n",
      "video 1/1 (3210/3933) D:\\815_CowDataChecking\\20221230\\20221230_E_cow\\20221230_152538_8796.mkv: 1088x1088 (no detections), 24.5ms\n",
      "video 1/1 (3211/3933) D:\\815_CowDataChecking\\20221230\\20221230_E_cow\\20221230_152538_8796.mkv: 1088x1088 (no detections), 24.5ms\n",
      "video 1/1 (3212/3933) D:\\815_CowDataChecking\\20221230\\20221230_E_cow\\20221230_152538_8796.mkv: 1088x1088 (no detections), 17.9ms\n",
      "video 1/1 (3213/3933) D:\\815_CowDataChecking\\20221230\\20221230_E_cow\\20221230_152538_8796.mkv: 1088x1088 (no detections), 22.0ms\n",
      "video 1/1 (3214/3933) D:\\815_CowDataChecking\\20221230\\20221230_E_cow\\20221230_152538_8796.mkv: 1088x1088 (no detections), 21.5ms\n",
      "video 1/1 (3215/3933) D:\\815_CowDataChecking\\20221230\\20221230_E_cow\\20221230_152538_8796.mkv: 1088x1088 (no detections), 18.3ms\n",
      "video 1/1 (3216/3933) D:\\815_CowDataChecking\\20221230\\20221230_E_cow\\20221230_152538_8796.mkv: 1088x1088 (no detections), 20.1ms\n",
      "video 1/1 (3217/3933) D:\\815_CowDataChecking\\20221230\\20221230_E_cow\\20221230_152538_8796.mkv: 1088x1088 (no detections), 18.9ms\n",
      "video 1/1 (3218/3933) D:\\815_CowDataChecking\\20221230\\20221230_E_cow\\20221230_152538_8796.mkv: 1088x1088 (no detections), 21.1ms\n",
      "video 1/1 (3219/3933) D:\\815_CowDataChecking\\20221230\\20221230_E_cow\\20221230_152538_8796.mkv: 1088x1088 (no detections), 24.0ms\n",
      "video 1/1 (3220/3933) D:\\815_CowDataChecking\\20221230\\20221230_E_cow\\20221230_152538_8796.mkv: 1088x1088 (no detections), 20.2ms\n",
      "video 1/1 (3221/3933) D:\\815_CowDataChecking\\20221230\\20221230_E_cow\\20221230_152538_8796.mkv: 1088x1088 (no detections), 26.1ms\n",
      "video 1/1 (3222/3933) D:\\815_CowDataChecking\\20221230\\20221230_E_cow\\20221230_152538_8796.mkv: 1088x1088 (no detections), 20.7ms\n",
      "video 1/1 (3223/3933) D:\\815_CowDataChecking\\20221230\\20221230_E_cow\\20221230_152538_8796.mkv: 1088x1088 (no detections), 24.2ms\n",
      "video 1/1 (3224/3933) D:\\815_CowDataChecking\\20221230\\20221230_E_cow\\20221230_152538_8796.mkv: 1088x1088 (no detections), 18.7ms\n",
      "video 1/1 (3225/3933) D:\\815_CowDataChecking\\20221230\\20221230_E_cow\\20221230_152538_8796.mkv: 1088x1088 (no detections), 19.4ms\n",
      "video 1/1 (3226/3933) D:\\815_CowDataChecking\\20221230\\20221230_E_cow\\20221230_152538_8796.mkv: 1088x1088 (no detections), 23.0ms\n",
      "video 1/1 (3227/3933) D:\\815_CowDataChecking\\20221230\\20221230_E_cow\\20221230_152538_8796.mkv: 1088x1088 (no detections), 21.5ms\n",
      "video 1/1 (3228/3933) D:\\815_CowDataChecking\\20221230\\20221230_E_cow\\20221230_152538_8796.mkv: 1088x1088 (no detections), 30.2ms\n",
      "video 1/1 (3229/3933) D:\\815_CowDataChecking\\20221230\\20221230_E_cow\\20221230_152538_8796.mkv: 1088x1088 (no detections), 20.2ms\n",
      "video 1/1 (3230/3933) D:\\815_CowDataChecking\\20221230\\20221230_E_cow\\20221230_152538_8796.mkv: 1088x1088 (no detections), 23.4ms\n",
      "video 1/1 (3231/3933) D:\\815_CowDataChecking\\20221230\\20221230_E_cow\\20221230_152538_8796.mkv: 1088x1088 (no detections), 22.9ms\n",
      "video 1/1 (3232/3933) D:\\815_CowDataChecking\\20221230\\20221230_E_cow\\20221230_152538_8796.mkv: 1088x1088 (no detections), 23.3ms\n",
      "video 1/1 (3233/3933) D:\\815_CowDataChecking\\20221230\\20221230_E_cow\\20221230_152538_8796.mkv: 1088x1088 (no detections), 22.1ms\n",
      "video 1/1 (3234/3933) D:\\815_CowDataChecking\\20221230\\20221230_E_cow\\20221230_152538_8796.mkv: 1088x1088 (no detections), 23.1ms\n",
      "video 1/1 (3235/3933) D:\\815_CowDataChecking\\20221230\\20221230_E_cow\\20221230_152538_8796.mkv: 1088x1088 (no detections), 22.4ms\n",
      "video 1/1 (3236/3933) D:\\815_CowDataChecking\\20221230\\20221230_E_cow\\20221230_152538_8796.mkv: 1088x1088 (no detections), 23.4ms\n",
      "video 1/1 (3237/3933) D:\\815_CowDataChecking\\20221230\\20221230_E_cow\\20221230_152538_8796.mkv: 1088x1088 (no detections), 25.4ms\n",
      "video 1/1 (3238/3933) D:\\815_CowDataChecking\\20221230\\20221230_E_cow\\20221230_152538_8796.mkv: 1088x1088 (no detections), 24.1ms\n",
      "video 1/1 (3239/3933) D:\\815_CowDataChecking\\20221230\\20221230_E_cow\\20221230_152538_8796.mkv: 1088x1088 (no detections), 17.4ms\n",
      "video 1/1 (3240/3933) D:\\815_CowDataChecking\\20221230\\20221230_E_cow\\20221230_152538_8796.mkv: 1088x1088 (no detections), 22.0ms\n",
      "video 1/1 (3241/3933) D:\\815_CowDataChecking\\20221230\\20221230_E_cow\\20221230_152538_8796.mkv: 1088x1088 (no detections), 19.0ms\n",
      "video 1/1 (3242/3933) D:\\815_CowDataChecking\\20221230\\20221230_E_cow\\20221230_152538_8796.mkv: 1088x1088 (no detections), 30.1ms\n",
      "video 1/1 (3243/3933) D:\\815_CowDataChecking\\20221230\\20221230_E_cow\\20221230_152538_8796.mkv: 1088x1088 (no detections), 20.0ms\n",
      "video 1/1 (3244/3933) D:\\815_CowDataChecking\\20221230\\20221230_E_cow\\20221230_152538_8796.mkv: 1088x1088 (no detections), 16.1ms\n",
      "video 1/1 (3245/3933) D:\\815_CowDataChecking\\20221230\\20221230_E_cow\\20221230_152538_8796.mkv: 1088x1088 (no detections), 19.9ms\n",
      "video 1/1 (3246/3933) D:\\815_CowDataChecking\\20221230\\20221230_E_cow\\20221230_152538_8796.mkv: 1088x1088 (no detections), 22.3ms\n",
      "video 1/1 (3247/3933) D:\\815_CowDataChecking\\20221230\\20221230_E_cow\\20221230_152538_8796.mkv: 1088x1088 (no detections), 20.5ms\n",
      "video 1/1 (3248/3933) D:\\815_CowDataChecking\\20221230\\20221230_E_cow\\20221230_152538_8796.mkv: 1088x1088 (no detections), 22.0ms\n",
      "video 1/1 (3249/3933) D:\\815_CowDataChecking\\20221230\\20221230_E_cow\\20221230_152538_8796.mkv: 1088x1088 (no detections), 23.3ms\n",
      "video 1/1 (3250/3933) D:\\815_CowDataChecking\\20221230\\20221230_E_cow\\20221230_152538_8796.mkv: 1088x1088 (no detections), 22.5ms\n",
      "video 1/1 (3251/3933) D:\\815_CowDataChecking\\20221230\\20221230_E_cow\\20221230_152538_8796.mkv: 1088x1088 (no detections), 20.1ms\n",
      "video 1/1 (3252/3933) D:\\815_CowDataChecking\\20221230\\20221230_E_cow\\20221230_152538_8796.mkv: 1088x1088 (no detections), 17.1ms\n",
      "video 1/1 (3253/3933) D:\\815_CowDataChecking\\20221230\\20221230_E_cow\\20221230_152538_8796.mkv: 1088x1088 (no detections), 22.1ms\n",
      "video 1/1 (3254/3933) D:\\815_CowDataChecking\\20221230\\20221230_E_cow\\20221230_152538_8796.mkv: 1088x1088 (no detections), 18.5ms\n",
      "video 1/1 (3255/3933) D:\\815_CowDataChecking\\20221230\\20221230_E_cow\\20221230_152538_8796.mkv: 1088x1088 (no detections), 19.6ms\n",
      "video 1/1 (3256/3933) D:\\815_CowDataChecking\\20221230\\20221230_E_cow\\20221230_152538_8796.mkv: 1088x1088 (no detections), 22.1ms\n",
      "video 1/1 (3257/3933) D:\\815_CowDataChecking\\20221230\\20221230_E_cow\\20221230_152538_8796.mkv: 1088x1088 (no detections), 22.4ms\n",
      "video 1/1 (3258/3933) D:\\815_CowDataChecking\\20221230\\20221230_E_cow\\20221230_152538_8796.mkv: 1088x1088 (no detections), 22.2ms\n",
      "video 1/1 (3259/3933) D:\\815_CowDataChecking\\20221230\\20221230_E_cow\\20221230_152538_8796.mkv: 1088x1088 (no detections), 19.9ms\n",
      "video 1/1 (3260/3933) D:\\815_CowDataChecking\\20221230\\20221230_E_cow\\20221230_152538_8796.mkv: 1088x1088 (no detections), 16.5ms\n",
      "video 1/1 (3261/3933) D:\\815_CowDataChecking\\20221230\\20221230_E_cow\\20221230_152538_8796.mkv: 1088x1088 (no detections), 18.7ms\n",
      "video 1/1 (3262/3933) D:\\815_CowDataChecking\\20221230\\20221230_E_cow\\20221230_152538_8796.mkv: 1088x1088 (no detections), 16.3ms\n",
      "video 1/1 (3263/3933) D:\\815_CowDataChecking\\20221230\\20221230_E_cow\\20221230_152538_8796.mkv: 1088x1088 (no detections), 17.0ms\n",
      "video 1/1 (3264/3933) D:\\815_CowDataChecking\\20221230\\20221230_E_cow\\20221230_152538_8796.mkv: 1088x1088 (no detections), 19.3ms\n",
      "video 1/1 (3265/3933) D:\\815_CowDataChecking\\20221230\\20221230_E_cow\\20221230_152538_8796.mkv: 1088x1088 (no detections), 18.7ms\n",
      "video 1/1 (3266/3933) D:\\815_CowDataChecking\\20221230\\20221230_E_cow\\20221230_152538_8796.mkv: 1088x1088 (no detections), 24.5ms\n",
      "video 1/1 (3267/3933) D:\\815_CowDataChecking\\20221230\\20221230_E_cow\\20221230_152538_8796.mkv: 1088x1088 (no detections), 23.2ms\n",
      "video 1/1 (3268/3933) D:\\815_CowDataChecking\\20221230\\20221230_E_cow\\20221230_152538_8796.mkv: 1088x1088 (no detections), 22.4ms\n",
      "video 1/1 (3269/3933) D:\\815_CowDataChecking\\20221230\\20221230_E_cow\\20221230_152538_8796.mkv: 1088x1088 (no detections), 22.1ms\n",
      "video 1/1 (3270/3933) D:\\815_CowDataChecking\\20221230\\20221230_E_cow\\20221230_152538_8796.mkv: 1088x1088 (no detections), 21.9ms\n",
      "video 1/1 (3271/3933) D:\\815_CowDataChecking\\20221230\\20221230_E_cow\\20221230_152538_8796.mkv: 1088x1088 (no detections), 21.2ms\n",
      "video 1/1 (3272/3933) D:\\815_CowDataChecking\\20221230\\20221230_E_cow\\20221230_152538_8796.mkv: 1088x1088 (no detections), 22.2ms\n",
      "video 1/1 (3273/3933) D:\\815_CowDataChecking\\20221230\\20221230_E_cow\\20221230_152538_8796.mkv: 1088x1088 (no detections), 22.9ms\n",
      "video 1/1 (3274/3933) D:\\815_CowDataChecking\\20221230\\20221230_E_cow\\20221230_152538_8796.mkv: 1088x1088 (no detections), 22.4ms\n",
      "video 1/1 (3275/3933) D:\\815_CowDataChecking\\20221230\\20221230_E_cow\\20221230_152538_8796.mkv: 1088x1088 (no detections), 23.0ms\n",
      "video 1/1 (3276/3933) D:\\815_CowDataChecking\\20221230\\20221230_E_cow\\20221230_152538_8796.mkv: 1088x1088 (no detections), 22.0ms\n",
      "video 1/1 (3277/3933) D:\\815_CowDataChecking\\20221230\\20221230_E_cow\\20221230_152538_8796.mkv: 1088x1088 (no detections), 24.4ms\n",
      "video 1/1 (3278/3933) D:\\815_CowDataChecking\\20221230\\20221230_E_cow\\20221230_152538_8796.mkv: 1088x1088 (no detections), 17.8ms\n",
      "video 1/1 (3279/3933) D:\\815_CowDataChecking\\20221230\\20221230_E_cow\\20221230_152538_8796.mkv: 1088x1088 (no detections), 16.5ms\n",
      "video 1/1 (3280/3933) D:\\815_CowDataChecking\\20221230\\20221230_E_cow\\20221230_152538_8796.mkv: 1088x1088 (no detections), 20.0ms\n",
      "video 1/1 (3281/3933) D:\\815_CowDataChecking\\20221230\\20221230_E_cow\\20221230_152538_8796.mkv: 1088x1088 (no detections), 17.5ms\n",
      "video 1/1 (3282/3933) D:\\815_CowDataChecking\\20221230\\20221230_E_cow\\20221230_152538_8796.mkv: 1088x1088 (no detections), 16.4ms\n",
      "video 1/1 (3283/3933) D:\\815_CowDataChecking\\20221230\\20221230_E_cow\\20221230_152538_8796.mkv: 1088x1088 (no detections), 22.2ms\n",
      "video 1/1 (3284/3933) D:\\815_CowDataChecking\\20221230\\20221230_E_cow\\20221230_152538_8796.mkv: 1088x1088 (no detections), 22.5ms\n",
      "video 1/1 (3285/3933) D:\\815_CowDataChecking\\20221230\\20221230_E_cow\\20221230_152538_8796.mkv: 1088x1088 (no detections), 23.4ms\n",
      "video 1/1 (3286/3933) D:\\815_CowDataChecking\\20221230\\20221230_E_cow\\20221230_152538_8796.mkv: 1088x1088 (no detections), 24.1ms\n",
      "video 1/1 (3287/3933) D:\\815_CowDataChecking\\20221230\\20221230_E_cow\\20221230_152538_8796.mkv: 1088x1088 (no detections), 23.4ms\n",
      "video 1/1 (3288/3933) D:\\815_CowDataChecking\\20221230\\20221230_E_cow\\20221230_152538_8796.mkv: 1088x1088 (no detections), 21.1ms\n",
      "video 1/1 (3289/3933) D:\\815_CowDataChecking\\20221230\\20221230_E_cow\\20221230_152538_8796.mkv: 1088x1088 (no detections), 20.0ms\n",
      "video 1/1 (3290/3933) D:\\815_CowDataChecking\\20221230\\20221230_E_cow\\20221230_152538_8796.mkv: 1088x1088 (no detections), 23.1ms\n",
      "video 1/1 (3291/3933) D:\\815_CowDataChecking\\20221230\\20221230_E_cow\\20221230_152538_8796.mkv: 1088x1088 (no detections), 19.5ms\n",
      "video 1/1 (3292/3933) D:\\815_CowDataChecking\\20221230\\20221230_E_cow\\20221230_152538_8796.mkv: 1088x1088 (no detections), 18.3ms\n",
      "video 1/1 (3293/3933) D:\\815_CowDataChecking\\20221230\\20221230_E_cow\\20221230_152538_8796.mkv: 1088x1088 (no detections), 16.1ms\n",
      "video 1/1 (3294/3933) D:\\815_CowDataChecking\\20221230\\20221230_E_cow\\20221230_152538_8796.mkv: 1088x1088 (no detections), 20.6ms\n",
      "video 1/1 (3295/3933) D:\\815_CowDataChecking\\20221230\\20221230_E_cow\\20221230_152538_8796.mkv: 1088x1088 (no detections), 18.5ms\n",
      "video 1/1 (3296/3933) D:\\815_CowDataChecking\\20221230\\20221230_E_cow\\20221230_152538_8796.mkv: 1088x1088 (no detections), 22.0ms\n",
      "video 1/1 (3297/3933) D:\\815_CowDataChecking\\20221230\\20221230_E_cow\\20221230_152538_8796.mkv: 1088x1088 (no detections), 22.1ms\n",
      "video 1/1 (3298/3933) D:\\815_CowDataChecking\\20221230\\20221230_E_cow\\20221230_152538_8796.mkv: 1088x1088 (no detections), 21.3ms\n",
      "video 1/1 (3299/3933) D:\\815_CowDataChecking\\20221230\\20221230_E_cow\\20221230_152538_8796.mkv: 1088x1088 (no detections), 23.3ms\n",
      "video 1/1 (3300/3933) D:\\815_CowDataChecking\\20221230\\20221230_E_cow\\20221230_152538_8796.mkv: 1088x1088 (no detections), 23.0ms\n",
      "video 1/1 (3301/3933) D:\\815_CowDataChecking\\20221230\\20221230_E_cow\\20221230_152538_8796.mkv: 1088x1088 (no detections), 22.0ms\n",
      "video 1/1 (3302/3933) D:\\815_CowDataChecking\\20221230\\20221230_E_cow\\20221230_152538_8796.mkv: 1088x1088 (no detections), 24.0ms\n",
      "video 1/1 (3303/3933) D:\\815_CowDataChecking\\20221230\\20221230_E_cow\\20221230_152538_8796.mkv: 1088x1088 (no detections), 23.4ms\n",
      "video 1/1 (3304/3933) D:\\815_CowDataChecking\\20221230\\20221230_E_cow\\20221230_152538_8796.mkv: 1088x1088 (no detections), 23.4ms\n",
      "video 1/1 (3305/3933) D:\\815_CowDataChecking\\20221230\\20221230_E_cow\\20221230_152538_8796.mkv: 1088x1088 (no detections), 20.4ms\n",
      "video 1/1 (3306/3933) D:\\815_CowDataChecking\\20221230\\20221230_E_cow\\20221230_152538_8796.mkv: 1088x1088 (no detections), 16.1ms\n",
      "video 1/1 (3307/3933) D:\\815_CowDataChecking\\20221230\\20221230_E_cow\\20221230_152538_8796.mkv: 1088x1088 (no detections), 21.1ms\n",
      "video 1/1 (3308/3933) D:\\815_CowDataChecking\\20221230\\20221230_E_cow\\20221230_152538_8796.mkv: 1088x1088 (no detections), 17.4ms\n",
      "video 1/1 (3309/3933) D:\\815_CowDataChecking\\20221230\\20221230_E_cow\\20221230_152538_8796.mkv: 1088x1088 (no detections), 23.5ms\n",
      "video 1/1 (3310/3933) D:\\815_CowDataChecking\\20221230\\20221230_E_cow\\20221230_152538_8796.mkv: 1088x1088 (no detections), 18.1ms\n",
      "video 1/1 (3311/3933) D:\\815_CowDataChecking\\20221230\\20221230_E_cow\\20221230_152538_8796.mkv: 1088x1088 (no detections), 15.4ms\n",
      "video 1/1 (3312/3933) D:\\815_CowDataChecking\\20221230\\20221230_E_cow\\20221230_152538_8796.mkv: 1088x1088 (no detections), 21.3ms\n",
      "video 1/1 (3313/3933) D:\\815_CowDataChecking\\20221230\\20221230_E_cow\\20221230_152538_8796.mkv: 1088x1088 (no detections), 21.5ms\n",
      "video 1/1 (3314/3933) D:\\815_CowDataChecking\\20221230\\20221230_E_cow\\20221230_152538_8796.mkv: 1088x1088 (no detections), 21.9ms\n",
      "video 1/1 (3315/3933) D:\\815_CowDataChecking\\20221230\\20221230_E_cow\\20221230_152538_8796.mkv: 1088x1088 (no detections), 23.3ms\n",
      "video 1/1 (3316/3933) D:\\815_CowDataChecking\\20221230\\20221230_E_cow\\20221230_152538_8796.mkv: 1088x1088 (no detections), 21.9ms\n",
      "video 1/1 (3317/3933) D:\\815_CowDataChecking\\20221230\\20221230_E_cow\\20221230_152538_8796.mkv: 1088x1088 (no detections), 23.3ms\n",
      "video 1/1 (3318/3933) D:\\815_CowDataChecking\\20221230\\20221230_E_cow\\20221230_152538_8796.mkv: 1088x1088 (no detections), 25.1ms\n",
      "video 1/1 (3319/3933) D:\\815_CowDataChecking\\20221230\\20221230_E_cow\\20221230_152538_8796.mkv: 1088x1088 (no detections), 24.2ms\n",
      "video 1/1 (3320/3933) D:\\815_CowDataChecking\\20221230\\20221230_E_cow\\20221230_152538_8796.mkv: 1088x1088 (no detections), 16.9ms\n",
      "video 1/1 (3321/3933) D:\\815_CowDataChecking\\20221230\\20221230_E_cow\\20221230_152538_8796.mkv: 1088x1088 (no detections), 22.9ms\n",
      "video 1/1 (3322/3933) D:\\815_CowDataChecking\\20221230\\20221230_E_cow\\20221230_152538_8796.mkv: 1088x1088 (no detections), 20.5ms\n",
      "video 1/1 (3323/3933) D:\\815_CowDataChecking\\20221230\\20221230_E_cow\\20221230_152538_8796.mkv: 1088x1088 (no detections), 20.1ms\n",
      "video 1/1 (3324/3933) D:\\815_CowDataChecking\\20221230\\20221230_E_cow\\20221230_152538_8796.mkv: 1088x1088 (no detections), 18.8ms\n",
      "video 1/1 (3325/3933) D:\\815_CowDataChecking\\20221230\\20221230_E_cow\\20221230_152538_8796.mkv: 1088x1088 (no detections), 18.3ms\n",
      "video 1/1 (3326/3933) D:\\815_CowDataChecking\\20221230\\20221230_E_cow\\20221230_152538_8796.mkv: 1088x1088 (no detections), 16.2ms\n",
      "video 1/1 (3327/3933) D:\\815_CowDataChecking\\20221230\\20221230_E_cow\\20221230_152538_8796.mkv: 1088x1088 (no detections), 22.9ms\n",
      "video 1/1 (3328/3933) D:\\815_CowDataChecking\\20221230\\20221230_E_cow\\20221230_152538_8796.mkv: 1088x1088 (no detections), 19.7ms\n",
      "video 1/1 (3329/3933) D:\\815_CowDataChecking\\20221230\\20221230_E_cow\\20221230_152538_8796.mkv: 1088x1088 (no detections), 17.5ms\n",
      "video 1/1 (3330/3933) D:\\815_CowDataChecking\\20221230\\20221230_E_cow\\20221230_152538_8796.mkv: 1088x1088 (no detections), 20.0ms\n",
      "video 1/1 (3331/3933) D:\\815_CowDataChecking\\20221230\\20221230_E_cow\\20221230_152538_8796.mkv: 1088x1088 (no detections), 18.6ms\n",
      "video 1/1 (3332/3933) D:\\815_CowDataChecking\\20221230\\20221230_E_cow\\20221230_152538_8796.mkv: 1088x1088 (no detections), 22.7ms\n",
      "video 1/1 (3333/3933) D:\\815_CowDataChecking\\20221230\\20221230_E_cow\\20221230_152538_8796.mkv: 1088x1088 (no detections), 17.3ms\n",
      "video 1/1 (3334/3933) D:\\815_CowDataChecking\\20221230\\20221230_E_cow\\20221230_152538_8796.mkv: 1088x1088 (no detections), 16.1ms\n",
      "video 1/1 (3335/3933) D:\\815_CowDataChecking\\20221230\\20221230_E_cow\\20221230_152538_8796.mkv: 1088x1088 (no detections), 17.4ms\n",
      "video 1/1 (3336/3933) D:\\815_CowDataChecking\\20221230\\20221230_E_cow\\20221230_152538_8796.mkv: 1088x1088 (no detections), 22.0ms\n",
      "video 1/1 (3337/3933) D:\\815_CowDataChecking\\20221230\\20221230_E_cow\\20221230_152538_8796.mkv: 1088x1088 (no detections), 21.4ms\n",
      "video 1/1 (3338/3933) D:\\815_CowDataChecking\\20221230\\20221230_E_cow\\20221230_152538_8796.mkv: 1088x1088 (no detections), 23.4ms\n",
      "video 1/1 (3339/3933) D:\\815_CowDataChecking\\20221230\\20221230_E_cow\\20221230_152538_8796.mkv: 1088x1088 (no detections), 23.0ms\n",
      "video 1/1 (3340/3933) D:\\815_CowDataChecking\\20221230\\20221230_E_cow\\20221230_152538_8796.mkv: 1088x1088 (no detections), 22.2ms\n",
      "video 1/1 (3341/3933) D:\\815_CowDataChecking\\20221230\\20221230_E_cow\\20221230_152538_8796.mkv: 1088x1088 (no detections), 30.0ms\n",
      "video 1/1 (3342/3933) D:\\815_CowDataChecking\\20221230\\20221230_E_cow\\20221230_152538_8796.mkv: 1088x1088 (no detections), 22.3ms\n",
      "video 1/1 (3343/3933) D:\\815_CowDataChecking\\20221230\\20221230_E_cow\\20221230_152538_8796.mkv: 1088x1088 (no detections), 21.4ms\n",
      "video 1/1 (3344/3933) D:\\815_CowDataChecking\\20221230\\20221230_E_cow\\20221230_152538_8796.mkv: 1088x1088 (no detections), 24.4ms\n",
      "video 1/1 (3345/3933) D:\\815_CowDataChecking\\20221230\\20221230_E_cow\\20221230_152538_8796.mkv: 1088x1088 (no detections), 16.0ms\n",
      "video 1/1 (3346/3933) D:\\815_CowDataChecking\\20221230\\20221230_E_cow\\20221230_152538_8796.mkv: 1088x1088 (no detections), 15.1ms\n",
      "video 1/1 (3347/3933) D:\\815_CowDataChecking\\20221230\\20221230_E_cow\\20221230_152538_8796.mkv: 1088x1088 (no detections), 24.6ms\n",
      "video 1/1 (3348/3933) D:\\815_CowDataChecking\\20221230\\20221230_E_cow\\20221230_152538_8796.mkv: 1088x1088 (no detections), 23.5ms\n",
      "video 1/1 (3349/3933) D:\\815_CowDataChecking\\20221230\\20221230_E_cow\\20221230_152538_8796.mkv: 1088x1088 (no detections), 22.3ms\n",
      "video 1/1 (3350/3933) D:\\815_CowDataChecking\\20221230\\20221230_E_cow\\20221230_152538_8796.mkv: 1088x1088 (no detections), 20.1ms\n",
      "video 1/1 (3351/3933) D:\\815_CowDataChecking\\20221230\\20221230_E_cow\\20221230_152538_8796.mkv: 1088x1088 (no detections), 24.4ms\n",
      "video 1/1 (3352/3933) D:\\815_CowDataChecking\\20221230\\20221230_E_cow\\20221230_152538_8796.mkv: 1088x1088 (no detections), 19.2ms\n",
      "video 1/1 (3353/3933) D:\\815_CowDataChecking\\20221230\\20221230_E_cow\\20221230_152538_8796.mkv: 1088x1088 (no detections), 17.4ms\n",
      "video 1/1 (3354/3933) D:\\815_CowDataChecking\\20221230\\20221230_E_cow\\20221230_152538_8796.mkv: 1088x1088 (no detections), 23.5ms\n",
      "video 1/1 (3355/3933) D:\\815_CowDataChecking\\20221230\\20221230_E_cow\\20221230_152538_8796.mkv: 1088x1088 (no detections), 22.4ms\n",
      "video 1/1 (3356/3933) D:\\815_CowDataChecking\\20221230\\20221230_E_cow\\20221230_152538_8796.mkv: 1088x1088 (no detections), 22.1ms\n",
      "video 1/1 (3357/3933) D:\\815_CowDataChecking\\20221230\\20221230_E_cow\\20221230_152538_8796.mkv: 1088x1088 (no detections), 23.9ms\n",
      "video 1/1 (3358/3933) D:\\815_CowDataChecking\\20221230\\20221230_E_cow\\20221230_152538_8796.mkv: 1088x1088 (no detections), 23.1ms\n",
      "video 1/1 (3359/3933) D:\\815_CowDataChecking\\20221230\\20221230_E_cow\\20221230_152538_8796.mkv: 1088x1088 (no detections), 19.4ms\n",
      "video 1/1 (3360/3933) D:\\815_CowDataChecking\\20221230\\20221230_E_cow\\20221230_152538_8796.mkv: 1088x1088 (no detections), 24.4ms\n",
      "video 1/1 (3361/3933) D:\\815_CowDataChecking\\20221230\\20221230_E_cow\\20221230_152538_8796.mkv: 1088x1088 (no detections), 21.2ms\n",
      "video 1/1 (3362/3933) D:\\815_CowDataChecking\\20221230\\20221230_E_cow\\20221230_152538_8796.mkv: 1088x1088 (no detections), 23.0ms\n",
      "video 1/1 (3363/3933) D:\\815_CowDataChecking\\20221230\\20221230_E_cow\\20221230_152538_8796.mkv: 1088x1088 (no detections), 24.4ms\n",
      "video 1/1 (3364/3933) D:\\815_CowDataChecking\\20221230\\20221230_E_cow\\20221230_152538_8796.mkv: 1088x1088 (no detections), 22.4ms\n",
      "video 1/1 (3365/3933) D:\\815_CowDataChecking\\20221230\\20221230_E_cow\\20221230_152538_8796.mkv: 1088x1088 (no detections), 17.5ms\n",
      "video 1/1 (3366/3933) D:\\815_CowDataChecking\\20221230\\20221230_E_cow\\20221230_152538_8796.mkv: 1088x1088 (no detections), 24.3ms\n",
      "video 1/1 (3367/3933) D:\\815_CowDataChecking\\20221230\\20221230_E_cow\\20221230_152538_8796.mkv: 1088x1088 (no detections), 21.0ms\n",
      "video 1/1 (3368/3933) D:\\815_CowDataChecking\\20221230\\20221230_E_cow\\20221230_152538_8796.mkv: 1088x1088 (no detections), 22.4ms\n",
      "video 1/1 (3369/3933) D:\\815_CowDataChecking\\20221230\\20221230_E_cow\\20221230_152538_8796.mkv: 1088x1088 (no detections), 22.4ms\n",
      "video 1/1 (3370/3933) D:\\815_CowDataChecking\\20221230\\20221230_E_cow\\20221230_152538_8796.mkv: 1088x1088 (no detections), 21.3ms\n",
      "video 1/1 (3371/3933) D:\\815_CowDataChecking\\20221230\\20221230_E_cow\\20221230_152538_8796.mkv: 1088x1088 (no detections), 22.9ms\n",
      "video 1/1 (3372/3933) D:\\815_CowDataChecking\\20221230\\20221230_E_cow\\20221230_152538_8796.mkv: 1088x1088 (no detections), 22.1ms\n",
      "video 1/1 (3373/3933) D:\\815_CowDataChecking\\20221230\\20221230_E_cow\\20221230_152538_8796.mkv: 1088x1088 (no detections), 24.4ms\n",
      "video 1/1 (3374/3933) D:\\815_CowDataChecking\\20221230\\20221230_E_cow\\20221230_152538_8796.mkv: 1088x1088 (no detections), 18.0ms\n",
      "video 1/1 (3375/3933) D:\\815_CowDataChecking\\20221230\\20221230_E_cow\\20221230_152538_8796.mkv: 1088x1088 (no detections), 18.1ms\n",
      "video 1/1 (3376/3933) D:\\815_CowDataChecking\\20221230\\20221230_E_cow\\20221230_152538_8796.mkv: 1088x1088 (no detections), 16.5ms\n",
      "video 1/1 (3377/3933) D:\\815_CowDataChecking\\20221230\\20221230_E_cow\\20221230_152538_8796.mkv: 1088x1088 (no detections), 19.6ms\n",
      "video 1/1 (3378/3933) D:\\815_CowDataChecking\\20221230\\20221230_E_cow\\20221230_152538_8796.mkv: 1088x1088 (no detections), 23.4ms\n",
      "video 1/1 (3379/3933) D:\\815_CowDataChecking\\20221230\\20221230_E_cow\\20221230_152538_8796.mkv: 1088x1088 (no detections), 22.0ms\n",
      "video 1/1 (3380/3933) D:\\815_CowDataChecking\\20221230\\20221230_E_cow\\20221230_152538_8796.mkv: 1088x1088 (no detections), 22.1ms\n",
      "video 1/1 (3381/3933) D:\\815_CowDataChecking\\20221230\\20221230_E_cow\\20221230_152538_8796.mkv: 1088x1088 (no detections), 23.0ms\n",
      "video 1/1 (3382/3933) D:\\815_CowDataChecking\\20221230\\20221230_E_cow\\20221230_152538_8796.mkv: 1088x1088 (no detections), 22.5ms\n",
      "video 1/1 (3383/3933) D:\\815_CowDataChecking\\20221230\\20221230_E_cow\\20221230_152538_8796.mkv: 1088x1088 (no detections), 23.5ms\n",
      "video 1/1 (3384/3933) D:\\815_CowDataChecking\\20221230\\20221230_E_cow\\20221230_152538_8796.mkv: 1088x1088 (no detections), 22.4ms\n",
      "video 1/1 (3385/3933) D:\\815_CowDataChecking\\20221230\\20221230_E_cow\\20221230_152538_8796.mkv: 1088x1088 (no detections), 22.0ms\n",
      "video 1/1 (3386/3933) D:\\815_CowDataChecking\\20221230\\20221230_E_cow\\20221230_152538_8796.mkv: 1088x1088 (no detections), 21.4ms\n",
      "video 1/1 (3387/3933) D:\\815_CowDataChecking\\20221230\\20221230_E_cow\\20221230_152538_8796.mkv: 1088x1088 (no detections), 19.3ms\n",
      "video 1/1 (3388/3933) D:\\815_CowDataChecking\\20221230\\20221230_E_cow\\20221230_152538_8796.mkv: 1088x1088 (no detections), 18.4ms\n",
      "video 1/1 (3389/3933) D:\\815_CowDataChecking\\20221230\\20221230_E_cow\\20221230_152538_8796.mkv: 1088x1088 (no detections), 18.2ms\n",
      "video 1/1 (3390/3933) D:\\815_CowDataChecking\\20221230\\20221230_E_cow\\20221230_152538_8796.mkv: 1088x1088 (no detections), 22.6ms\n",
      "video 1/1 (3391/3933) D:\\815_CowDataChecking\\20221230\\20221230_E_cow\\20221230_152538_8796.mkv: 1088x1088 (no detections), 21.4ms\n",
      "video 1/1 (3392/3933) D:\\815_CowDataChecking\\20221230\\20221230_E_cow\\20221230_152538_8796.mkv: 1088x1088 (no detections), 21.1ms\n",
      "video 1/1 (3393/3933) D:\\815_CowDataChecking\\20221230\\20221230_E_cow\\20221230_152538_8796.mkv: 1088x1088 (no detections), 21.8ms\n",
      "video 1/1 (3394/3933) D:\\815_CowDataChecking\\20221230\\20221230_E_cow\\20221230_152538_8796.mkv: 1088x1088 (no detections), 22.1ms\n",
      "video 1/1 (3395/3933) D:\\815_CowDataChecking\\20221230\\20221230_E_cow\\20221230_152538_8796.mkv: 1088x1088 (no detections), 17.1ms\n",
      "video 1/1 (3396/3933) D:\\815_CowDataChecking\\20221230\\20221230_E_cow\\20221230_152538_8796.mkv: 1088x1088 (no detections), 23.0ms\n",
      "video 1/1 (3397/3933) D:\\815_CowDataChecking\\20221230\\20221230_E_cow\\20221230_152538_8796.mkv: 1088x1088 (no detections), 21.0ms\n",
      "video 1/1 (3398/3933) D:\\815_CowDataChecking\\20221230\\20221230_E_cow\\20221230_152538_8796.mkv: 1088x1088 (no detections), 22.9ms\n",
      "video 1/1 (3399/3933) D:\\815_CowDataChecking\\20221230\\20221230_E_cow\\20221230_152538_8796.mkv: 1088x1088 (no detections), 22.4ms\n",
      "video 1/1 (3400/3933) D:\\815_CowDataChecking\\20221230\\20221230_E_cow\\20221230_152538_8796.mkv: 1088x1088 (no detections), 22.3ms\n",
      "video 1/1 (3401/3933) D:\\815_CowDataChecking\\20221230\\20221230_E_cow\\20221230_152538_8796.mkv: 1088x1088 (no detections), 19.0ms\n",
      "video 1/1 (3402/3933) D:\\815_CowDataChecking\\20221230\\20221230_E_cow\\20221230_152538_8796.mkv: 1088x1088 (no detections), 16.4ms\n",
      "video 1/1 (3403/3933) D:\\815_CowDataChecking\\20221230\\20221230_E_cow\\20221230_152538_8796.mkv: 1088x1088 (no detections), 20.3ms\n",
      "video 1/1 (3404/3933) D:\\815_CowDataChecking\\20221230\\20221230_E_cow\\20221230_152538_8796.mkv: 1088x1088 (no detections), 22.4ms\n",
      "video 1/1 (3405/3933) D:\\815_CowDataChecking\\20221230\\20221230_E_cow\\20221230_152538_8796.mkv: 1088x1088 (no detections), 20.0ms\n",
      "video 1/1 (3406/3933) D:\\815_CowDataChecking\\20221230\\20221230_E_cow\\20221230_152538_8796.mkv: 1088x1088 (no detections), 17.5ms\n",
      "video 1/1 (3407/3933) D:\\815_CowDataChecking\\20221230\\20221230_E_cow\\20221230_152538_8796.mkv: 1088x1088 (no detections), 21.4ms\n",
      "video 1/1 (3408/3933) D:\\815_CowDataChecking\\20221230\\20221230_E_cow\\20221230_152538_8796.mkv: 1088x1088 (no detections), 22.0ms\n",
      "video 1/1 (3409/3933) D:\\815_CowDataChecking\\20221230\\20221230_E_cow\\20221230_152538_8796.mkv: 1088x1088 (no detections), 21.1ms\n",
      "video 1/1 (3410/3933) D:\\815_CowDataChecking\\20221230\\20221230_E_cow\\20221230_152538_8796.mkv: 1088x1088 (no detections), 23.8ms\n",
      "video 1/1 (3411/3933) D:\\815_CowDataChecking\\20221230\\20221230_E_cow\\20221230_152538_8796.mkv: 1088x1088 (no detections), 22.5ms\n",
      "video 1/1 (3412/3933) D:\\815_CowDataChecking\\20221230\\20221230_E_cow\\20221230_152538_8796.mkv: 1088x1088 (no detections), 21.4ms\n",
      "video 1/1 (3413/3933) D:\\815_CowDataChecking\\20221230\\20221230_E_cow\\20221230_152538_8796.mkv: 1088x1088 (no detections), 22.3ms\n",
      "video 1/1 (3414/3933) D:\\815_CowDataChecking\\20221230\\20221230_E_cow\\20221230_152538_8796.mkv: 1088x1088 (no detections), 24.4ms\n",
      "video 1/1 (3415/3933) D:\\815_CowDataChecking\\20221230\\20221230_E_cow\\20221230_152538_8796.mkv: 1088x1088 (no detections), 20.7ms\n",
      "video 1/1 (3416/3933) D:\\815_CowDataChecking\\20221230\\20221230_E_cow\\20221230_152538_8796.mkv: 1088x1088 (no detections), 21.2ms\n",
      "video 1/1 (3417/3933) D:\\815_CowDataChecking\\20221230\\20221230_E_cow\\20221230_152538_8796.mkv: 1088x1088 (no detections), 18.1ms\n",
      "video 1/1 (3418/3933) D:\\815_CowDataChecking\\20221230\\20221230_E_cow\\20221230_152538_8796.mkv: 1088x1088 (no detections), 25.1ms\n",
      "video 1/1 (3419/3933) D:\\815_CowDataChecking\\20221230\\20221230_E_cow\\20221230_152538_8796.mkv: 1088x1088 (no detections), 21.5ms\n",
      "video 1/1 (3420/3933) D:\\815_CowDataChecking\\20221230\\20221230_E_cow\\20221230_152538_8796.mkv: 1088x1088 (no detections), 20.4ms\n",
      "video 1/1 (3421/3933) D:\\815_CowDataChecking\\20221230\\20221230_E_cow\\20221230_152538_8796.mkv: 1088x1088 (no detections), 17.5ms\n",
      "video 1/1 (3422/3933) D:\\815_CowDataChecking\\20221230\\20221230_E_cow\\20221230_152538_8796.mkv: 1088x1088 (no detections), 24.6ms\n",
      "video 1/1 (3423/3933) D:\\815_CowDataChecking\\20221230\\20221230_E_cow\\20221230_152538_8796.mkv: 1088x1088 (no detections), 20.6ms\n",
      "video 1/1 (3424/3933) D:\\815_CowDataChecking\\20221230\\20221230_E_cow\\20221230_152538_8796.mkv: 1088x1088 (no detections), 19.1ms\n",
      "video 1/1 (3425/3933) D:\\815_CowDataChecking\\20221230\\20221230_E_cow\\20221230_152538_8796.mkv: 1088x1088 (no detections), 18.6ms\n",
      "video 1/1 (3426/3933) D:\\815_CowDataChecking\\20221230\\20221230_E_cow\\20221230_152538_8796.mkv: 1088x1088 (no detections), 22.4ms\n",
      "video 1/1 (3427/3933) D:\\815_CowDataChecking\\20221230\\20221230_E_cow\\20221230_152538_8796.mkv: 1088x1088 (no detections), 21.0ms\n",
      "video 1/1 (3428/3933) D:\\815_CowDataChecking\\20221230\\20221230_E_cow\\20221230_152538_8796.mkv: 1088x1088 (no detections), 27.2ms\n",
      "video 1/1 (3429/3933) D:\\815_CowDataChecking\\20221230\\20221230_E_cow\\20221230_152538_8796.mkv: 1088x1088 (no detections), 16.5ms\n",
      "video 1/1 (3430/3933) D:\\815_CowDataChecking\\20221230\\20221230_E_cow\\20221230_152538_8796.mkv: 1088x1088 (no detections), 24.3ms\n",
      "video 1/1 (3431/3933) D:\\815_CowDataChecking\\20221230\\20221230_E_cow\\20221230_152538_8796.mkv: 1088x1088 (no detections), 24.4ms\n",
      "video 1/1 (3432/3933) D:\\815_CowDataChecking\\20221230\\20221230_E_cow\\20221230_152538_8796.mkv: 1088x1088 (no detections), 17.1ms\n",
      "video 1/1 (3433/3933) D:\\815_CowDataChecking\\20221230\\20221230_E_cow\\20221230_152538_8796.mkv: 1088x1088 (no detections), 19.5ms\n",
      "video 1/1 (3434/3933) D:\\815_CowDataChecking\\20221230\\20221230_E_cow\\20221230_152538_8796.mkv: 1088x1088 (no detections), 22.1ms\n",
      "video 1/1 (3435/3933) D:\\815_CowDataChecking\\20221230\\20221230_E_cow\\20221230_152538_8796.mkv: 1088x1088 (no detections), 23.0ms\n",
      "video 1/1 (3436/3933) D:\\815_CowDataChecking\\20221230\\20221230_E_cow\\20221230_152538_8796.mkv: 1088x1088 (no detections), 23.4ms\n",
      "video 1/1 (3437/3933) D:\\815_CowDataChecking\\20221230\\20221230_E_cow\\20221230_152538_8796.mkv: 1088x1088 (no detections), 23.1ms\n",
      "video 1/1 (3438/3933) D:\\815_CowDataChecking\\20221230\\20221230_E_cow\\20221230_152538_8796.mkv: 1088x1088 (no detections), 23.4ms\n",
      "video 1/1 (3439/3933) D:\\815_CowDataChecking\\20221230\\20221230_E_cow\\20221230_152538_8796.mkv: 1088x1088 (no detections), 20.9ms\n",
      "video 1/1 (3440/3933) D:\\815_CowDataChecking\\20221230\\20221230_E_cow\\20221230_152538_8796.mkv: 1088x1088 (no detections), 24.4ms\n",
      "video 1/1 (3441/3933) D:\\815_CowDataChecking\\20221230\\20221230_E_cow\\20221230_152538_8796.mkv: 1088x1088 (no detections), 16.2ms\n",
      "video 1/1 (3442/3933) D:\\815_CowDataChecking\\20221230\\20221230_E_cow\\20221230_152538_8796.mkv: 1088x1088 (no detections), 22.1ms\n",
      "video 1/1 (3443/3933) D:\\815_CowDataChecking\\20221230\\20221230_E_cow\\20221230_152538_8796.mkv: 1088x1088 (no detections), 17.0ms\n",
      "video 1/1 (3444/3933) D:\\815_CowDataChecking\\20221230\\20221230_E_cow\\20221230_152538_8796.mkv: 1088x1088 (no detections), 19.4ms\n",
      "video 1/1 (3445/3933) D:\\815_CowDataChecking\\20221230\\20221230_E_cow\\20221230_152538_8796.mkv: 1088x1088 (no detections), 18.3ms\n",
      "video 1/1 (3446/3933) D:\\815_CowDataChecking\\20221230\\20221230_E_cow\\20221230_152538_8796.mkv: 1088x1088 (no detections), 16.7ms\n",
      "video 1/1 (3447/3933) D:\\815_CowDataChecking\\20221230\\20221230_E_cow\\20221230_152538_8796.mkv: 1088x1088 (no detections), 16.9ms\n",
      "video 1/1 (3448/3933) D:\\815_CowDataChecking\\20221230\\20221230_E_cow\\20221230_152538_8796.mkv: 1088x1088 (no detections), 24.4ms\n",
      "video 1/1 (3449/3933) D:\\815_CowDataChecking\\20221230\\20221230_E_cow\\20221230_152538_8796.mkv: 1088x1088 (no detections), 21.0ms\n",
      "video 1/1 (3450/3933) D:\\815_CowDataChecking\\20221230\\20221230_E_cow\\20221230_152538_8796.mkv: 1088x1088 (no detections), 22.4ms\n",
      "video 1/1 (3451/3933) D:\\815_CowDataChecking\\20221230\\20221230_E_cow\\20221230_152538_8796.mkv: 1088x1088 (no detections), 21.1ms\n",
      "video 1/1 (3452/3933) D:\\815_CowDataChecking\\20221230\\20221230_E_cow\\20221230_152538_8796.mkv: 1088x1088 (no detections), 23.4ms\n",
      "video 1/1 (3453/3933) D:\\815_CowDataChecking\\20221230\\20221230_E_cow\\20221230_152538_8796.mkv: 1088x1088 (no detections), 21.0ms\n",
      "video 1/1 (3454/3933) D:\\815_CowDataChecking\\20221230\\20221230_E_cow\\20221230_152538_8796.mkv: 1088x1088 (no detections), 22.1ms\n",
      "video 1/1 (3455/3933) D:\\815_CowDataChecking\\20221230\\20221230_E_cow\\20221230_152538_8796.mkv: 1088x1088 (no detections), 23.4ms\n",
      "video 1/1 (3456/3933) D:\\815_CowDataChecking\\20221230\\20221230_E_cow\\20221230_152538_8796.mkv: 1088x1088 (no detections), 18.7ms\n",
      "video 1/1 (3457/3933) D:\\815_CowDataChecking\\20221230\\20221230_E_cow\\20221230_152538_8796.mkv: 1088x1088 (no detections), 25.9ms\n",
      "video 1/1 (3458/3933) D:\\815_CowDataChecking\\20221230\\20221230_E_cow\\20221230_152538_8796.mkv: 1088x1088 (no detections), 22.0ms\n",
      "video 1/1 (3459/3933) D:\\815_CowDataChecking\\20221230\\20221230_E_cow\\20221230_152538_8796.mkv: 1088x1088 (no detections), 23.4ms\n",
      "video 1/1 (3460/3933) D:\\815_CowDataChecking\\20221230\\20221230_E_cow\\20221230_152538_8796.mkv: 1088x1088 (no detections), 21.3ms\n",
      "video 1/1 (3461/3933) D:\\815_CowDataChecking\\20221230\\20221230_E_cow\\20221230_152538_8796.mkv: 1088x1088 (no detections), 21.4ms\n",
      "video 1/1 (3462/3933) D:\\815_CowDataChecking\\20221230\\20221230_E_cow\\20221230_152538_8796.mkv: 1088x1088 (no detections), 20.0ms\n",
      "video 1/1 (3463/3933) D:\\815_CowDataChecking\\20221230\\20221230_E_cow\\20221230_152538_8796.mkv: 1088x1088 (no detections), 28.7ms\n",
      "video 1/1 (3464/3933) D:\\815_CowDataChecking\\20221230\\20221230_E_cow\\20221230_152538_8796.mkv: 1088x1088 (no detections), 17.9ms\n",
      "video 1/1 (3465/3933) D:\\815_CowDataChecking\\20221230\\20221230_E_cow\\20221230_152538_8796.mkv: 1088x1088 (no detections), 16.1ms\n",
      "video 1/1 (3466/3933) D:\\815_CowDataChecking\\20221230\\20221230_E_cow\\20221230_152538_8796.mkv: 1088x1088 (no detections), 21.2ms\n",
      "video 1/1 (3467/3933) D:\\815_CowDataChecking\\20221230\\20221230_E_cow\\20221230_152538_8796.mkv: 1088x1088 (no detections), 20.7ms\n",
      "video 1/1 (3468/3933) D:\\815_CowDataChecking\\20221230\\20221230_E_cow\\20221230_152538_8796.mkv: 1088x1088 (no detections), 18.9ms\n",
      "video 1/1 (3469/3933) D:\\815_CowDataChecking\\20221230\\20221230_E_cow\\20221230_152538_8796.mkv: 1088x1088 (no detections), 26.6ms\n",
      "video 1/1 (3470/3933) D:\\815_CowDataChecking\\20221230\\20221230_E_cow\\20221230_152538_8796.mkv: 1088x1088 (no detections), 16.0ms\n",
      "video 1/1 (3471/3933) D:\\815_CowDataChecking\\20221230\\20221230_E_cow\\20221230_152538_8796.mkv: 1088x1088 (no detections), 24.9ms\n",
      "video 1/1 (3472/3933) D:\\815_CowDataChecking\\20221230\\20221230_E_cow\\20221230_152538_8796.mkv: 1088x1088 (no detections), 22.2ms\n",
      "video 1/1 (3473/3933) D:\\815_CowDataChecking\\20221230\\20221230_E_cow\\20221230_152538_8796.mkv: 1088x1088 (no detections), 23.0ms\n",
      "video 1/1 (3474/3933) D:\\815_CowDataChecking\\20221230\\20221230_E_cow\\20221230_152538_8796.mkv: 1088x1088 (no detections), 24.1ms\n",
      "video 1/1 (3475/3933) D:\\815_CowDataChecking\\20221230\\20221230_E_cow\\20221230_152538_8796.mkv: 1088x1088 (no detections), 24.0ms\n",
      "video 1/1 (3476/3933) D:\\815_CowDataChecking\\20221230\\20221230_E_cow\\20221230_152538_8796.mkv: 1088x1088 (no detections), 22.0ms\n",
      "video 1/1 (3477/3933) D:\\815_CowDataChecking\\20221230\\20221230_E_cow\\20221230_152538_8796.mkv: 1088x1088 (no detections), 23.0ms\n",
      "video 1/1 (3478/3933) D:\\815_CowDataChecking\\20221230\\20221230_E_cow\\20221230_152538_8796.mkv: 1088x1088 (no detections), 22.4ms\n",
      "video 1/1 (3479/3933) D:\\815_CowDataChecking\\20221230\\20221230_E_cow\\20221230_152538_8796.mkv: 1088x1088 (no detections), 22.0ms\n",
      "video 1/1 (3480/3933) D:\\815_CowDataChecking\\20221230\\20221230_E_cow\\20221230_152538_8796.mkv: 1088x1088 (no detections), 22.0ms\n",
      "video 1/1 (3481/3933) D:\\815_CowDataChecking\\20221230\\20221230_E_cow\\20221230_152538_8796.mkv: 1088x1088 (no detections), 20.3ms\n",
      "video 1/1 (3482/3933) D:\\815_CowDataChecking\\20221230\\20221230_E_cow\\20221230_152538_8796.mkv: 1088x1088 (no detections), 23.4ms\n",
      "video 1/1 (3483/3933) D:\\815_CowDataChecking\\20221230\\20221230_E_cow\\20221230_152538_8796.mkv: 1088x1088 (no detections), 18.7ms\n",
      "video 1/1 (3484/3933) D:\\815_CowDataChecking\\20221230\\20221230_E_cow\\20221230_152538_8796.mkv: 1088x1088 (no detections), 18.0ms\n",
      "video 1/1 (3485/3933) D:\\815_CowDataChecking\\20221230\\20221230_E_cow\\20221230_152538_8796.mkv: 1088x1088 (no detections), 23.0ms\n",
      "video 1/1 (3486/3933) D:\\815_CowDataChecking\\20221230\\20221230_E_cow\\20221230_152538_8796.mkv: 1088x1088 (no detections), 18.6ms\n",
      "video 1/1 (3487/3933) D:\\815_CowDataChecking\\20221230\\20221230_E_cow\\20221230_152538_8796.mkv: 1088x1088 (no detections), 17.4ms\n",
      "video 1/1 (3488/3933) D:\\815_CowDataChecking\\20221230\\20221230_E_cow\\20221230_152538_8796.mkv: 1088x1088 (no detections), 23.0ms\n",
      "video 1/1 (3489/3933) D:\\815_CowDataChecking\\20221230\\20221230_E_cow\\20221230_152538_8796.mkv: 1088x1088 (no detections), 21.3ms\n",
      "video 1/1 (3490/3933) D:\\815_CowDataChecking\\20221230\\20221230_E_cow\\20221230_152538_8796.mkv: 1088x1088 (no detections), 22.4ms\n",
      "video 1/1 (3491/3933) D:\\815_CowDataChecking\\20221230\\20221230_E_cow\\20221230_152538_8796.mkv: 1088x1088 (no detections), 23.4ms\n",
      "video 1/1 (3492/3933) D:\\815_CowDataChecking\\20221230\\20221230_E_cow\\20221230_152538_8796.mkv: 1088x1088 (no detections), 22.4ms\n",
      "video 1/1 (3493/3933) D:\\815_CowDataChecking\\20221230\\20221230_E_cow\\20221230_152538_8796.mkv: 1088x1088 (no detections), 20.0ms\n",
      "video 1/1 (3494/3933) D:\\815_CowDataChecking\\20221230\\20221230_E_cow\\20221230_152538_8796.mkv: 1088x1088 (no detections), 23.5ms\n",
      "video 1/1 (3495/3933) D:\\815_CowDataChecking\\20221230\\20221230_E_cow\\20221230_152538_8796.mkv: 1088x1088 (no detections), 22.0ms\n",
      "video 1/1 (3496/3933) D:\\815_CowDataChecking\\20221230\\20221230_E_cow\\20221230_152538_8796.mkv: 1088x1088 (no detections), 20.4ms\n",
      "video 1/1 (3497/3933) D:\\815_CowDataChecking\\20221230\\20221230_E_cow\\20221230_152538_8796.mkv: 1088x1088 (no detections), 19.9ms\n",
      "video 1/1 (3498/3933) D:\\815_CowDataChecking\\20221230\\20221230_E_cow\\20221230_152538_8796.mkv: 1088x1088 (no detections), 16.5ms\n",
      "video 1/1 (3499/3933) D:\\815_CowDataChecking\\20221230\\20221230_E_cow\\20221230_152538_8796.mkv: 1088x1088 (no detections), 20.6ms\n",
      "video 1/1 (3500/3933) D:\\815_CowDataChecking\\20221230\\20221230_E_cow\\20221230_152538_8796.mkv: 1088x1088 (no detections), 17.4ms\n",
      "video 1/1 (3501/3933) D:\\815_CowDataChecking\\20221230\\20221230_E_cow\\20221230_152538_8796.mkv: 1088x1088 (no detections), 21.1ms\n",
      "video 1/1 (3502/3933) D:\\815_CowDataChecking\\20221230\\20221230_E_cow\\20221230_152538_8796.mkv: 1088x1088 (no detections), 18.0ms\n",
      "video 1/1 (3503/3933) D:\\815_CowDataChecking\\20221230\\20221230_E_cow\\20221230_152538_8796.mkv: 1088x1088 (no detections), 22.9ms\n",
      "video 1/1 (3504/3933) D:\\815_CowDataChecking\\20221230\\20221230_E_cow\\20221230_152538_8796.mkv: 1088x1088 (no detections), 23.1ms\n",
      "video 1/1 (3505/3933) D:\\815_CowDataChecking\\20221230\\20221230_E_cow\\20221230_152538_8796.mkv: 1088x1088 (no detections), 22.4ms\n",
      "video 1/1 (3506/3933) D:\\815_CowDataChecking\\20221230\\20221230_E_cow\\20221230_152538_8796.mkv: 1088x1088 (no detections), 22.0ms\n",
      "video 1/1 (3507/3933) D:\\815_CowDataChecking\\20221230\\20221230_E_cow\\20221230_152538_8796.mkv: 1088x1088 (no detections), 22.2ms\n",
      "video 1/1 (3508/3933) D:\\815_CowDataChecking\\20221230\\20221230_E_cow\\20221230_152538_8796.mkv: 1088x1088 (no detections), 21.4ms\n",
      "video 1/1 (3509/3933) D:\\815_CowDataChecking\\20221230\\20221230_E_cow\\20221230_152538_8796.mkv: 1088x1088 (no detections), 23.4ms\n",
      "video 1/1 (3510/3933) D:\\815_CowDataChecking\\20221230\\20221230_E_cow\\20221230_152538_8796.mkv: 1088x1088 (no detections), 18.3ms\n",
      "video 1/1 (3511/3933) D:\\815_CowDataChecking\\20221230\\20221230_E_cow\\20221230_152538_8796.mkv: 1088x1088 (no detections), 17.5ms\n",
      "video 1/1 (3512/3933) D:\\815_CowDataChecking\\20221230\\20221230_E_cow\\20221230_152538_8796.mkv: 1088x1088 (no detections), 23.0ms\n",
      "video 1/1 (3513/3933) D:\\815_CowDataChecking\\20221230\\20221230_E_cow\\20221230_152538_8796.mkv: 1088x1088 (no detections), 23.0ms\n",
      "video 1/1 (3514/3933) D:\\815_CowDataChecking\\20221230\\20221230_E_cow\\20221230_152538_8796.mkv: 1088x1088 (no detections), 22.4ms\n",
      "video 1/1 (3515/3933) D:\\815_CowDataChecking\\20221230\\20221230_E_cow\\20221230_152538_8796.mkv: 1088x1088 (no detections), 20.0ms\n",
      "video 1/1 (3516/3933) D:\\815_CowDataChecking\\20221230\\20221230_E_cow\\20221230_152538_8796.mkv: 1088x1088 (no detections), 24.0ms\n",
      "video 1/1 (3517/3933) D:\\815_CowDataChecking\\20221230\\20221230_E_cow\\20221230_152538_8796.mkv: 1088x1088 (no detections), 23.0ms\n",
      "video 1/1 (3518/3933) D:\\815_CowDataChecking\\20221230\\20221230_E_cow\\20221230_152538_8796.mkv: 1088x1088 (no detections), 23.0ms\n",
      "video 1/1 (3519/3933) D:\\815_CowDataChecking\\20221230\\20221230_E_cow\\20221230_152538_8796.mkv: 1088x1088 (no detections), 23.4ms\n",
      "video 1/1 (3520/3933) D:\\815_CowDataChecking\\20221230\\20221230_E_cow\\20221230_152538_8796.mkv: 1088x1088 (no detections), 22.3ms\n",
      "video 1/1 (3521/3933) D:\\815_CowDataChecking\\20221230\\20221230_E_cow\\20221230_152538_8796.mkv: 1088x1088 (no detections), 22.1ms\n",
      "video 1/1 (3522/3933) D:\\815_CowDataChecking\\20221230\\20221230_E_cow\\20221230_152538_8796.mkv: 1088x1088 (no detections), 23.7ms\n",
      "video 1/1 (3523/3933) D:\\815_CowDataChecking\\20221230\\20221230_E_cow\\20221230_152538_8796.mkv: 1088x1088 (no detections), 22.1ms\n",
      "video 1/1 (3524/3933) D:\\815_CowDataChecking\\20221230\\20221230_E_cow\\20221230_152538_8796.mkv: 1088x1088 (no detections), 25.5ms\n",
      "video 1/1 (3525/3933) D:\\815_CowDataChecking\\20221230\\20221230_E_cow\\20221230_152538_8796.mkv: 1088x1088 (no detections), 22.0ms\n",
      "video 1/1 (3526/3933) D:\\815_CowDataChecking\\20221230\\20221230_E_cow\\20221230_152538_8796.mkv: 1088x1088 (no detections), 20.2ms\n",
      "video 1/1 (3527/3933) D:\\815_CowDataChecking\\20221230\\20221230_E_cow\\20221230_152538_8796.mkv: 1088x1088 (no detections), 23.5ms\n",
      "video 1/1 (3528/3933) D:\\815_CowDataChecking\\20221230\\20221230_E_cow\\20221230_152538_8796.mkv: 1088x1088 (no detections), 19.6ms\n",
      "video 1/1 (3529/3933) D:\\815_CowDataChecking\\20221230\\20221230_E_cow\\20221230_152538_8796.mkv: 1088x1088 (no detections), 23.0ms\n",
      "video 1/1 (3530/3933) D:\\815_CowDataChecking\\20221230\\20221230_E_cow\\20221230_152538_8796.mkv: 1088x1088 (no detections), 23.4ms\n",
      "video 1/1 (3531/3933) D:\\815_CowDataChecking\\20221230\\20221230_E_cow\\20221230_152538_8796.mkv: 1088x1088 (no detections), 25.2ms\n",
      "video 1/1 (3532/3933) D:\\815_CowDataChecking\\20221230\\20221230_E_cow\\20221230_152538_8796.mkv: 1088x1088 (no detections), 24.1ms\n",
      "video 1/1 (3533/3933) D:\\815_CowDataChecking\\20221230\\20221230_E_cow\\20221230_152538_8796.mkv: 1088x1088 (no detections), 16.6ms\n",
      "video 1/1 (3534/3933) D:\\815_CowDataChecking\\20221230\\20221230_E_cow\\20221230_152538_8796.mkv: 1088x1088 (no detections), 24.5ms\n",
      "video 1/1 (3535/3933) D:\\815_CowDataChecking\\20221230\\20221230_E_cow\\20221230_152538_8796.mkv: 1088x1088 (no detections), 23.0ms\n",
      "video 1/1 (3536/3933) D:\\815_CowDataChecking\\20221230\\20221230_E_cow\\20221230_152538_8796.mkv: 1088x1088 (no detections), 24.5ms\n",
      "video 1/1 (3537/3933) D:\\815_CowDataChecking\\20221230\\20221230_E_cow\\20221230_152538_8796.mkv: 1088x1088 (no detections), 26.0ms\n",
      "video 1/1 (3538/3933) D:\\815_CowDataChecking\\20221230\\20221230_E_cow\\20221230_152538_8796.mkv: 1088x1088 (no detections), 24.4ms\n",
      "video 1/1 (3539/3933) D:\\815_CowDataChecking\\20221230\\20221230_E_cow\\20221230_152538_8796.mkv: 1088x1088 (no detections), 16.4ms\n",
      "video 1/1 (3540/3933) D:\\815_CowDataChecking\\20221230\\20221230_E_cow\\20221230_152538_8796.mkv: 1088x1088 (no detections), 22.4ms\n",
      "video 1/1 (3541/3933) D:\\815_CowDataChecking\\20221230\\20221230_E_cow\\20221230_152538_8796.mkv: 1088x1088 (no detections), 20.3ms\n",
      "video 1/1 (3542/3933) D:\\815_CowDataChecking\\20221230\\20221230_E_cow\\20221230_152538_8796.mkv: 1088x1088 (no detections), 19.1ms\n",
      "video 1/1 (3543/3933) D:\\815_CowDataChecking\\20221230\\20221230_E_cow\\20221230_152538_8796.mkv: 1088x1088 (no detections), 23.0ms\n",
      "video 1/1 (3544/3933) D:\\815_CowDataChecking\\20221230\\20221230_E_cow\\20221230_152538_8796.mkv: 1088x1088 (no detections), 21.8ms\n",
      "video 1/1 (3545/3933) D:\\815_CowDataChecking\\20221230\\20221230_E_cow\\20221230_152538_8796.mkv: 1088x1088 (no detections), 23.4ms\n",
      "video 1/1 (3546/3933) D:\\815_CowDataChecking\\20221230\\20221230_E_cow\\20221230_152538_8796.mkv: 1088x1088 (no detections), 22.6ms\n",
      "video 1/1 (3547/3933) D:\\815_CowDataChecking\\20221230\\20221230_E_cow\\20221230_152538_8796.mkv: 1088x1088 (no detections), 19.6ms\n",
      "video 1/1 (3548/3933) D:\\815_CowDataChecking\\20221230\\20221230_E_cow\\20221230_152538_8796.mkv: 1088x1088 (no detections), 17.1ms\n",
      "video 1/1 (3549/3933) D:\\815_CowDataChecking\\20221230\\20221230_E_cow\\20221230_152538_8796.mkv: 1088x1088 (no detections), 20.8ms\n",
      "video 1/1 (3550/3933) D:\\815_CowDataChecking\\20221230\\20221230_E_cow\\20221230_152538_8796.mkv: 1088x1088 (no detections), 18.9ms\n",
      "video 1/1 (3551/3933) D:\\815_CowDataChecking\\20221230\\20221230_E_cow\\20221230_152538_8796.mkv: 1088x1088 (no detections), 23.2ms\n",
      "video 1/1 (3552/3933) D:\\815_CowDataChecking\\20221230\\20221230_E_cow\\20221230_152538_8796.mkv: 1088x1088 (no detections), 16.1ms\n",
      "video 1/1 (3553/3933) D:\\815_CowDataChecking\\20221230\\20221230_E_cow\\20221230_152538_8796.mkv: 1088x1088 (no detections), 14.5ms\n",
      "video 1/1 (3554/3933) D:\\815_CowDataChecking\\20221230\\20221230_E_cow\\20221230_152538_8796.mkv: 1088x1088 (no detections), 20.0ms\n",
      "video 1/1 (3555/3933) D:\\815_CowDataChecking\\20221230\\20221230_E_cow\\20221230_152538_8796.mkv: 1088x1088 (no detections), 23.1ms\n",
      "video 1/1 (3556/3933) D:\\815_CowDataChecking\\20221230\\20221230_E_cow\\20221230_152538_8796.mkv: 1088x1088 (no detections), 17.4ms\n",
      "video 1/1 (3557/3933) D:\\815_CowDataChecking\\20221230\\20221230_E_cow\\20221230_152538_8796.mkv: 1088x1088 (no detections), 22.1ms\n",
      "video 1/1 (3558/3933) D:\\815_CowDataChecking\\20221230\\20221230_E_cow\\20221230_152538_8796.mkv: 1088x1088 (no detections), 22.3ms\n",
      "video 1/1 (3559/3933) D:\\815_CowDataChecking\\20221230\\20221230_E_cow\\20221230_152538_8796.mkv: 1088x1088 (no detections), 20.1ms\n",
      "video 1/1 (3560/3933) D:\\815_CowDataChecking\\20221230\\20221230_E_cow\\20221230_152538_8796.mkv: 1088x1088 (no detections), 23.1ms\n",
      "video 1/1 (3561/3933) D:\\815_CowDataChecking\\20221230\\20221230_E_cow\\20221230_152538_8796.mkv: 1088x1088 (no detections), 23.2ms\n",
      "video 1/1 (3562/3933) D:\\815_CowDataChecking\\20221230\\20221230_E_cow\\20221230_152538_8796.mkv: 1088x1088 (no detections), 21.0ms\n",
      "video 1/1 (3563/3933) D:\\815_CowDataChecking\\20221230\\20221230_E_cow\\20221230_152538_8796.mkv: 1088x1088 (no detections), 23.5ms\n",
      "video 1/1 (3564/3933) D:\\815_CowDataChecking\\20221230\\20221230_E_cow\\20221230_152538_8796.mkv: 1088x1088 (no detections), 23.1ms\n",
      "video 1/1 (3565/3933) D:\\815_CowDataChecking\\20221230\\20221230_E_cow\\20221230_152538_8796.mkv: 1088x1088 (no detections), 24.3ms\n",
      "video 1/1 (3566/3933) D:\\815_CowDataChecking\\20221230\\20221230_E_cow\\20221230_152538_8796.mkv: 1088x1088 (no detections), 19.7ms\n",
      "video 1/1 (3567/3933) D:\\815_CowDataChecking\\20221230\\20221230_E_cow\\20221230_152538_8796.mkv: 1088x1088 (no detections), 21.6ms\n",
      "video 1/1 (3568/3933) D:\\815_CowDataChecking\\20221230\\20221230_E_cow\\20221230_152538_8796.mkv: 1088x1088 (no detections), 18.6ms\n",
      "video 1/1 (3569/3933) D:\\815_CowDataChecking\\20221230\\20221230_E_cow\\20221230_152538_8796.mkv: 1088x1088 (no detections), 25.3ms\n",
      "video 1/1 (3570/3933) D:\\815_CowDataChecking\\20221230\\20221230_E_cow\\20221230_152538_8796.mkv: 1088x1088 (no detections), 19.6ms\n",
      "video 1/1 (3571/3933) D:\\815_CowDataChecking\\20221230\\20221230_E_cow\\20221230_152538_8796.mkv: 1088x1088 (no detections), 18.5ms\n",
      "video 1/1 (3572/3933) D:\\815_CowDataChecking\\20221230\\20221230_E_cow\\20221230_152538_8796.mkv: 1088x1088 (no detections), 23.4ms\n",
      "video 1/1 (3573/3933) D:\\815_CowDataChecking\\20221230\\20221230_E_cow\\20221230_152538_8796.mkv: 1088x1088 (no detections), 23.5ms\n",
      "video 1/1 (3574/3933) D:\\815_CowDataChecking\\20221230\\20221230_E_cow\\20221230_152538_8796.mkv: 1088x1088 (no detections), 21.5ms\n",
      "video 1/1 (3575/3933) D:\\815_CowDataChecking\\20221230\\20221230_E_cow\\20221230_152538_8796.mkv: 1088x1088 (no detections), 23.4ms\n",
      "video 1/1 (3576/3933) D:\\815_CowDataChecking\\20221230\\20221230_E_cow\\20221230_152538_8796.mkv: 1088x1088 (no detections), 22.4ms\n",
      "video 1/1 (3577/3933) D:\\815_CowDataChecking\\20221230\\20221230_E_cow\\20221230_152538_8796.mkv: 1088x1088 (no detections), 21.5ms\n",
      "video 1/1 (3578/3933) D:\\815_CowDataChecking\\20221230\\20221230_E_cow\\20221230_152538_8796.mkv: 1088x1088 (no detections), 21.4ms\n",
      "video 1/1 (3579/3933) D:\\815_CowDataChecking\\20221230\\20221230_E_cow\\20221230_152538_8796.mkv: 1088x1088 (no detections), 24.4ms\n",
      "video 1/1 (3580/3933) D:\\815_CowDataChecking\\20221230\\20221230_E_cow\\20221230_152538_8796.mkv: 1088x1088 (no detections), 24.4ms\n",
      "video 1/1 (3581/3933) D:\\815_CowDataChecking\\20221230\\20221230_E_cow\\20221230_152538_8796.mkv: 1088x1088 (no detections), 25.0ms\n",
      "video 1/1 (3582/3933) D:\\815_CowDataChecking\\20221230\\20221230_E_cow\\20221230_152538_8796.mkv: 1088x1088 (no detections), 16.5ms\n",
      "video 1/1 (3583/3933) D:\\815_CowDataChecking\\20221230\\20221230_E_cow\\20221230_152538_8796.mkv: 1088x1088 (no detections), 19.5ms\n",
      "video 1/1 (3584/3933) D:\\815_CowDataChecking\\20221230\\20221230_E_cow\\20221230_152538_8796.mkv: 1088x1088 (no detections), 22.1ms\n",
      "video 1/1 (3585/3933) D:\\815_CowDataChecking\\20221230\\20221230_E_cow\\20221230_152538_8796.mkv: 1088x1088 (no detections), 24.6ms\n",
      "video 1/1 (3586/3933) D:\\815_CowDataChecking\\20221230\\20221230_E_cow\\20221230_152538_8796.mkv: 1088x1088 (no detections), 18.7ms\n",
      "video 1/1 (3587/3933) D:\\815_CowDataChecking\\20221230\\20221230_E_cow\\20221230_152538_8796.mkv: 1088x1088 (no detections), 22.0ms\n",
      "video 1/1 (3588/3933) D:\\815_CowDataChecking\\20221230\\20221230_E_cow\\20221230_152538_8796.mkv: 1088x1088 (no detections), 23.8ms\n",
      "video 1/1 (3589/3933) D:\\815_CowDataChecking\\20221230\\20221230_E_cow\\20221230_152538_8796.mkv: 1088x1088 (no detections), 24.4ms\n",
      "video 1/1 (3590/3933) D:\\815_CowDataChecking\\20221230\\20221230_E_cow\\20221230_152538_8796.mkv: 1088x1088 (no detections), 22.2ms\n",
      "video 1/1 (3591/3933) D:\\815_CowDataChecking\\20221230\\20221230_E_cow\\20221230_152538_8796.mkv: 1088x1088 (no detections), 22.4ms\n",
      "video 1/1 (3592/3933) D:\\815_CowDataChecking\\20221230\\20221230_E_cow\\20221230_152538_8796.mkv: 1088x1088 (no detections), 20.1ms\n",
      "video 1/1 (3593/3933) D:\\815_CowDataChecking\\20221230\\20221230_E_cow\\20221230_152538_8796.mkv: 1088x1088 (no detections), 20.5ms\n",
      "video 1/1 (3594/3933) D:\\815_CowDataChecking\\20221230\\20221230_E_cow\\20221230_152538_8796.mkv: 1088x1088 (no detections), 16.2ms\n",
      "video 1/1 (3595/3933) D:\\815_CowDataChecking\\20221230\\20221230_E_cow\\20221230_152538_8796.mkv: 1088x1088 (no detections), 15.6ms\n",
      "video 1/1 (3596/3933) D:\\815_CowDataChecking\\20221230\\20221230_E_cow\\20221230_152538_8796.mkv: 1088x1088 (no detections), 22.0ms\n",
      "video 1/1 (3597/3933) D:\\815_CowDataChecking\\20221230\\20221230_E_cow\\20221230_152538_8796.mkv: 1088x1088 (no detections), 20.0ms\n",
      "video 1/1 (3598/3933) D:\\815_CowDataChecking\\20221230\\20221230_E_cow\\20221230_152538_8796.mkv: 1088x1088 (no detections), 16.5ms\n",
      "video 1/1 (3599/3933) D:\\815_CowDataChecking\\20221230\\20221230_E_cow\\20221230_152538_8796.mkv: 1088x1088 (no detections), 21.9ms\n",
      "video 1/1 (3600/3933) D:\\815_CowDataChecking\\20221230\\20221230_E_cow\\20221230_152538_8796.mkv: 1088x1088 (no detections), 24.5ms\n",
      "video 1/1 (3601/3933) D:\\815_CowDataChecking\\20221230\\20221230_E_cow\\20221230_152538_8796.mkv: 1088x1088 (no detections), 21.0ms\n",
      "video 1/1 (3602/3933) D:\\815_CowDataChecking\\20221230\\20221230_E_cow\\20221230_152538_8796.mkv: 1088x1088 (no detections), 23.9ms\n",
      "video 1/1 (3603/3933) D:\\815_CowDataChecking\\20221230\\20221230_E_cow\\20221230_152538_8796.mkv: 1088x1088 (no detections), 22.8ms\n",
      "video 1/1 (3604/3933) D:\\815_CowDataChecking\\20221230\\20221230_E_cow\\20221230_152538_8796.mkv: 1088x1088 (no detections), 21.0ms\n",
      "video 1/1 (3605/3933) D:\\815_CowDataChecking\\20221230\\20221230_E_cow\\20221230_152538_8796.mkv: 1088x1088 (no detections), 22.3ms\n",
      "video 1/1 (3606/3933) D:\\815_CowDataChecking\\20221230\\20221230_E_cow\\20221230_152538_8796.mkv: 1088x1088 (no detections), 24.3ms\n",
      "video 1/1 (3607/3933) D:\\815_CowDataChecking\\20221230\\20221230_E_cow\\20221230_152538_8796.mkv: 1088x1088 (no detections), 24.3ms\n",
      "video 1/1 (3608/3933) D:\\815_CowDataChecking\\20221230\\20221230_E_cow\\20221230_152538_8796.mkv: 1088x1088 (no detections), 16.3ms\n",
      "video 1/1 (3609/3933) D:\\815_CowDataChecking\\20221230\\20221230_E_cow\\20221230_152538_8796.mkv: 1088x1088 (no detections), 16.2ms\n",
      "video 1/1 (3610/3933) D:\\815_CowDataChecking\\20221230\\20221230_E_cow\\20221230_152538_8796.mkv: 1088x1088 (no detections), 20.3ms\n",
      "video 1/1 (3611/3933) D:\\815_CowDataChecking\\20221230\\20221230_E_cow\\20221230_152538_8796.mkv: 1088x1088 (no detections), 17.0ms\n",
      "video 1/1 (3612/3933) D:\\815_CowDataChecking\\20221230\\20221230_E_cow\\20221230_152538_8796.mkv: 1088x1088 (no detections), 24.5ms\n",
      "video 1/1 (3613/3933) D:\\815_CowDataChecking\\20221230\\20221230_E_cow\\20221230_152538_8796.mkv: 1088x1088 (no detections), 23.0ms\n",
      "video 1/1 (3614/3933) D:\\815_CowDataChecking\\20221230\\20221230_E_cow\\20221230_152538_8796.mkv: 1088x1088 (no detections), 23.5ms\n",
      "video 1/1 (3615/3933) D:\\815_CowDataChecking\\20221230\\20221230_E_cow\\20221230_152538_8796.mkv: 1088x1088 (no detections), 22.0ms\n",
      "video 1/1 (3616/3933) D:\\815_CowDataChecking\\20221230\\20221230_E_cow\\20221230_152538_8796.mkv: 1088x1088 (no detections), 20.0ms\n",
      "video 1/1 (3617/3933) D:\\815_CowDataChecking\\20221230\\20221230_E_cow\\20221230_152538_8796.mkv: 1088x1088 (no detections), 22.0ms\n",
      "video 1/1 (3618/3933) D:\\815_CowDataChecking\\20221230\\20221230_E_cow\\20221230_152538_8796.mkv: 1088x1088 (no detections), 23.6ms\n",
      "video 1/1 (3619/3933) D:\\815_CowDataChecking\\20221230\\20221230_E_cow\\20221230_152538_8796.mkv: 1088x1088 (no detections), 22.0ms\n",
      "video 1/1 (3620/3933) D:\\815_CowDataChecking\\20221230\\20221230_E_cow\\20221230_152538_8796.mkv: 1088x1088 (no detections), 24.6ms\n",
      "video 1/1 (3621/3933) D:\\815_CowDataChecking\\20221230\\20221230_E_cow\\20221230_152538_8796.mkv: 1088x1088 (no detections), 17.6ms\n",
      "video 1/1 (3622/3933) D:\\815_CowDataChecking\\20221230\\20221230_E_cow\\20221230_152538_8796.mkv: 1088x1088 (no detections), 23.4ms\n",
      "video 1/1 (3623/3933) D:\\815_CowDataChecking\\20221230\\20221230_E_cow\\20221230_152538_8796.mkv: 1088x1088 (no detections), 22.0ms\n",
      "video 1/1 (3624/3933) D:\\815_CowDataChecking\\20221230\\20221230_E_cow\\20221230_152538_8796.mkv: 1088x1088 (no detections), 23.0ms\n",
      "video 1/1 (3625/3933) D:\\815_CowDataChecking\\20221230\\20221230_E_cow\\20221230_152538_8796.mkv: 1088x1088 (no detections), 18.2ms\n",
      "video 1/1 (3626/3933) D:\\815_CowDataChecking\\20221230\\20221230_E_cow\\20221230_152538_8796.mkv: 1088x1088 (no detections), 22.1ms\n",
      "video 1/1 (3627/3933) D:\\815_CowDataChecking\\20221230\\20221230_E_cow\\20221230_152538_8796.mkv: 1088x1088 (no detections), 21.0ms\n",
      "video 1/1 (3628/3933) D:\\815_CowDataChecking\\20221230\\20221230_E_cow\\20221230_152538_8796.mkv: 1088x1088 (no detections), 20.0ms\n",
      "video 1/1 (3629/3933) D:\\815_CowDataChecking\\20221230\\20221230_E_cow\\20221230_152538_8796.mkv: 1088x1088 (no detections), 24.3ms\n",
      "video 1/1 (3630/3933) D:\\815_CowDataChecking\\20221230\\20221230_E_cow\\20221230_152538_8796.mkv: 1088x1088 (no detections), 23.0ms\n",
      "video 1/1 (3631/3933) D:\\815_CowDataChecking\\20221230\\20221230_E_cow\\20221230_152538_8796.mkv: 1088x1088 (no detections), 21.4ms\n",
      "video 1/1 (3632/3933) D:\\815_CowDataChecking\\20221230\\20221230_E_cow\\20221230_152538_8796.mkv: 1088x1088 (no detections), 21.8ms\n",
      "video 1/1 (3633/3933) D:\\815_CowDataChecking\\20221230\\20221230_E_cow\\20221230_152538_8796.mkv: 1088x1088 (no detections), 24.4ms\n",
      "video 1/1 (3634/3933) D:\\815_CowDataChecking\\20221230\\20221230_E_cow\\20221230_152538_8796.mkv: 1088x1088 (no detections), 21.4ms\n",
      "video 1/1 (3635/3933) D:\\815_CowDataChecking\\20221230\\20221230_E_cow\\20221230_152538_8796.mkv: 1088x1088 (no detections), 23.4ms\n",
      "video 1/1 (3636/3933) D:\\815_CowDataChecking\\20221230\\20221230_E_cow\\20221230_152538_8796.mkv: 1088x1088 (no detections), 19.7ms\n",
      "video 1/1 (3637/3933) D:\\815_CowDataChecking\\20221230\\20221230_E_cow\\20221230_152538_8796.mkv: 1088x1088 (no detections), 18.1ms\n",
      "video 1/1 (3638/3933) D:\\815_CowDataChecking\\20221230\\20221230_E_cow\\20221230_152538_8796.mkv: 1088x1088 (no detections), 23.1ms\n",
      "video 1/1 (3639/3933) D:\\815_CowDataChecking\\20221230\\20221230_E_cow\\20221230_152538_8796.mkv: 1088x1088 (no detections), 19.2ms\n",
      "video 1/1 (3640/3933) D:\\815_CowDataChecking\\20221230\\20221230_E_cow\\20221230_152538_8796.mkv: 1088x1088 (no detections), 16.5ms\n",
      "video 1/1 (3641/3933) D:\\815_CowDataChecking\\20221230\\20221230_E_cow\\20221230_152538_8796.mkv: 1088x1088 (no detections), 23.1ms\n",
      "video 1/1 (3642/3933) D:\\815_CowDataChecking\\20221230\\20221230_E_cow\\20221230_152538_8796.mkv: 1088x1088 (no detections), 23.0ms\n",
      "video 1/1 (3643/3933) D:\\815_CowDataChecking\\20221230\\20221230_E_cow\\20221230_152538_8796.mkv: 1088x1088 (no detections), 21.8ms\n",
      "video 1/1 (3644/3933) D:\\815_CowDataChecking\\20221230\\20221230_E_cow\\20221230_152538_8796.mkv: 1088x1088 (no detections), 22.4ms\n",
      "video 1/1 (3645/3933) D:\\815_CowDataChecking\\20221230\\20221230_E_cow\\20221230_152538_8796.mkv: 1088x1088 (no detections), 22.4ms\n",
      "video 1/1 (3646/3933) D:\\815_CowDataChecking\\20221230\\20221230_E_cow\\20221230_152538_8796.mkv: 1088x1088 (no detections), 19.1ms\n",
      "video 1/1 (3647/3933) D:\\815_CowDataChecking\\20221230\\20221230_E_cow\\20221230_152538_8796.mkv: 1088x1088 (no detections), 25.9ms\n",
      "video 1/1 (3648/3933) D:\\815_CowDataChecking\\20221230\\20221230_E_cow\\20221230_152538_8796.mkv: 1088x1088 (no detections), 16.3ms\n",
      "video 1/1 (3649/3933) D:\\815_CowDataChecking\\20221230\\20221230_E_cow\\20221230_152538_8796.mkv: 1088x1088 (no detections), 23.0ms\n",
      "video 1/1 (3650/3933) D:\\815_CowDataChecking\\20221230\\20221230_E_cow\\20221230_152538_8796.mkv: 1088x1088 (no detections), 23.5ms\n",
      "video 1/1 (3651/3933) D:\\815_CowDataChecking\\20221230\\20221230_E_cow\\20221230_152538_8796.mkv: 1088x1088 (no detections), 23.3ms\n",
      "video 1/1 (3652/3933) D:\\815_CowDataChecking\\20221230\\20221230_E_cow\\20221230_152538_8796.mkv: 1088x1088 (no detections), 16.5ms\n",
      "video 1/1 (3653/3933) D:\\815_CowDataChecking\\20221230\\20221230_E_cow\\20221230_152538_8796.mkv: 1088x1088 (no detections), 19.2ms\n",
      "video 1/1 (3654/3933) D:\\815_CowDataChecking\\20221230\\20221230_E_cow\\20221230_152538_8796.mkv: 1088x1088 (no detections), 16.2ms\n",
      "video 1/1 (3655/3933) D:\\815_CowDataChecking\\20221230\\20221230_E_cow\\20221230_152538_8796.mkv: 1088x1088 (no detections), 22.1ms\n",
      "video 1/1 (3656/3933) D:\\815_CowDataChecking\\20221230\\20221230_E_cow\\20221230_152538_8796.mkv: 1088x1088 (no detections), 16.1ms\n",
      "video 1/1 (3657/3933) D:\\815_CowDataChecking\\20221230\\20221230_E_cow\\20221230_152538_8796.mkv: 1088x1088 (no detections), 18.6ms\n",
      "video 1/1 (3658/3933) D:\\815_CowDataChecking\\20221230\\20221230_E_cow\\20221230_152538_8796.mkv: 1088x1088 (no detections), 16.4ms\n",
      "video 1/1 (3659/3933) D:\\815_CowDataChecking\\20221230\\20221230_E_cow\\20221230_152538_8796.mkv: 1088x1088 (no detections), 22.5ms\n",
      "video 1/1 (3660/3933) D:\\815_CowDataChecking\\20221230\\20221230_E_cow\\20221230_152538_8796.mkv: 1088x1088 (no detections), 24.6ms\n",
      "video 1/1 (3661/3933) D:\\815_CowDataChecking\\20221230\\20221230_E_cow\\20221230_152538_8796.mkv: 1088x1088 (no detections), 25.4ms\n",
      "video 1/1 (3662/3933) D:\\815_CowDataChecking\\20221230\\20221230_E_cow\\20221230_152538_8796.mkv: 1088x1088 (no detections), 20.3ms\n",
      "video 1/1 (3663/3933) D:\\815_CowDataChecking\\20221230\\20221230_E_cow\\20221230_152538_8796.mkv: 1088x1088 (no detections), 20.4ms\n",
      "video 1/1 (3664/3933) D:\\815_CowDataChecking\\20221230\\20221230_E_cow\\20221230_152538_8796.mkv: 1088x1088 (no detections), 18.5ms\n",
      "video 1/1 (3665/3933) D:\\815_CowDataChecking\\20221230\\20221230_E_cow\\20221230_152538_8796.mkv: 1088x1088 (no detections), 24.3ms\n",
      "video 1/1 (3666/3933) D:\\815_CowDataChecking\\20221230\\20221230_E_cow\\20221230_152538_8796.mkv: 1088x1088 (no detections), 19.6ms\n",
      "video 1/1 (3667/3933) D:\\815_CowDataChecking\\20221230\\20221230_E_cow\\20221230_152538_8796.mkv: 1088x1088 (no detections), 18.1ms\n",
      "video 1/1 (3668/3933) D:\\815_CowDataChecking\\20221230\\20221230_E_cow\\20221230_152538_8796.mkv: 1088x1088 (no detections), 16.4ms\n",
      "video 1/1 (3669/3933) D:\\815_CowDataChecking\\20221230\\20221230_E_cow\\20221230_152538_8796.mkv: 1088x1088 (no detections), 18.1ms\n",
      "video 1/1 (3670/3933) D:\\815_CowDataChecking\\20221230\\20221230_E_cow\\20221230_152538_8796.mkv: 1088x1088 (no detections), 16.6ms\n",
      "video 1/1 (3671/3933) D:\\815_CowDataChecking\\20221230\\20221230_E_cow\\20221230_152538_8796.mkv: 1088x1088 (no detections), 17.5ms\n",
      "video 1/1 (3672/3933) D:\\815_CowDataChecking\\20221230\\20221230_E_cow\\20221230_152538_8796.mkv: 1088x1088 (no detections), 22.2ms\n",
      "video 1/1 (3673/3933) D:\\815_CowDataChecking\\20221230\\20221230_E_cow\\20221230_152538_8796.mkv: 1088x1088 (no detections), 21.0ms\n",
      "video 1/1 (3674/3933) D:\\815_CowDataChecking\\20221230\\20221230_E_cow\\20221230_152538_8796.mkv: 1088x1088 (no detections), 22.3ms\n",
      "video 1/1 (3675/3933) D:\\815_CowDataChecking\\20221230\\20221230_E_cow\\20221230_152538_8796.mkv: 1088x1088 (no detections), 18.2ms\n",
      "video 1/1 (3676/3933) D:\\815_CowDataChecking\\20221230\\20221230_E_cow\\20221230_152538_8796.mkv: 1088x1088 (no detections), 16.4ms\n",
      "video 1/1 (3677/3933) D:\\815_CowDataChecking\\20221230\\20221230_E_cow\\20221230_152538_8796.mkv: 1088x1088 (no detections), 16.1ms\n",
      "video 1/1 (3678/3933) D:\\815_CowDataChecking\\20221230\\20221230_E_cow\\20221230_152538_8796.mkv: 1088x1088 (no detections), 19.4ms\n",
      "video 1/1 (3679/3933) D:\\815_CowDataChecking\\20221230\\20221230_E_cow\\20221230_152538_8796.mkv: 1088x1088 (no detections), 19.1ms\n",
      "video 1/1 (3680/3933) D:\\815_CowDataChecking\\20221230\\20221230_E_cow\\20221230_152538_8796.mkv: 1088x1088 (no detections), 23.6ms\n",
      "video 1/1 (3681/3933) D:\\815_CowDataChecking\\20221230\\20221230_E_cow\\20221230_152538_8796.mkv: 1088x1088 (no detections), 20.6ms\n",
      "video 1/1 (3682/3933) D:\\815_CowDataChecking\\20221230\\20221230_E_cow\\20221230_152538_8796.mkv: 1088x1088 (no detections), 18.6ms\n",
      "video 1/1 (3683/3933) D:\\815_CowDataChecking\\20221230\\20221230_E_cow\\20221230_152538_8796.mkv: 1088x1088 (no detections), 16.3ms\n",
      "video 1/1 (3684/3933) D:\\815_CowDataChecking\\20221230\\20221230_E_cow\\20221230_152538_8796.mkv: 1088x1088 (no detections), 22.1ms\n",
      "video 1/1 (3685/3933) D:\\815_CowDataChecking\\20221230\\20221230_E_cow\\20221230_152538_8796.mkv: 1088x1088 (no detections), 22.4ms\n",
      "video 1/1 (3686/3933) D:\\815_CowDataChecking\\20221230\\20221230_E_cow\\20221230_152538_8796.mkv: 1088x1088 (no detections), 23.5ms\n",
      "video 1/1 (3687/3933) D:\\815_CowDataChecking\\20221230\\20221230_E_cow\\20221230_152538_8796.mkv: 1088x1088 (no detections), 22.2ms\n",
      "video 1/1 (3688/3933) D:\\815_CowDataChecking\\20221230\\20221230_E_cow\\20221230_152538_8796.mkv: 1088x1088 (no detections), 21.1ms\n",
      "video 1/1 (3689/3933) D:\\815_CowDataChecking\\20221230\\20221230_E_cow\\20221230_152538_8796.mkv: 1088x1088 (no detections), 25.2ms\n",
      "video 1/1 (3690/3933) D:\\815_CowDataChecking\\20221230\\20221230_E_cow\\20221230_152538_8796.mkv: 1088x1088 (no detections), 16.4ms\n",
      "video 1/1 (3691/3933) D:\\815_CowDataChecking\\20221230\\20221230_E_cow\\20221230_152538_8796.mkv: 1088x1088 (no detections), 15.4ms\n",
      "video 1/1 (3692/3933) D:\\815_CowDataChecking\\20221230\\20221230_E_cow\\20221230_152538_8796.mkv: 1088x1088 (no detections), 17.1ms\n",
      "video 1/1 (3693/3933) D:\\815_CowDataChecking\\20221230\\20221230_E_cow\\20221230_152538_8796.mkv: 1088x1088 (no detections), 23.4ms\n",
      "video 1/1 (3694/3933) D:\\815_CowDataChecking\\20221230\\20221230_E_cow\\20221230_152538_8796.mkv: 1088x1088 (no detections), 22.9ms\n",
      "video 1/1 (3695/3933) D:\\815_CowDataChecking\\20221230\\20221230_E_cow\\20221230_152538_8796.mkv: 1088x1088 (no detections), 16.2ms\n",
      "video 1/1 (3696/3933) D:\\815_CowDataChecking\\20221230\\20221230_E_cow\\20221230_152538_8796.mkv: 1088x1088 (no detections), 24.4ms\n",
      "video 1/1 (3697/3933) D:\\815_CowDataChecking\\20221230\\20221230_E_cow\\20221230_152538_8796.mkv: 1088x1088 (no detections), 23.4ms\n",
      "video 1/1 (3698/3933) D:\\815_CowDataChecking\\20221230\\20221230_E_cow\\20221230_152538_8796.mkv: 1088x1088 (no detections), 24.2ms\n",
      "video 1/1 (3699/3933) D:\\815_CowDataChecking\\20221230\\20221230_E_cow\\20221230_152538_8796.mkv: 1088x1088 (no detections), 23.3ms\n",
      "video 1/1 (3700/3933) D:\\815_CowDataChecking\\20221230\\20221230_E_cow\\20221230_152538_8796.mkv: 1088x1088 (no detections), 22.3ms\n",
      "video 1/1 (3701/3933) D:\\815_CowDataChecking\\20221230\\20221230_E_cow\\20221230_152538_8796.mkv: 1088x1088 (no detections), 23.3ms\n",
      "video 1/1 (3702/3933) D:\\815_CowDataChecking\\20221230\\20221230_E_cow\\20221230_152538_8796.mkv: 1088x1088 (no detections), 22.3ms\n",
      "video 1/1 (3703/3933) D:\\815_CowDataChecking\\20221230\\20221230_E_cow\\20221230_152538_8796.mkv: 1088x1088 (no detections), 23.8ms\n",
      "video 1/1 (3704/3933) D:\\815_CowDataChecking\\20221230\\20221230_E_cow\\20221230_152538_8796.mkv: 1088x1088 (no detections), 18.7ms\n",
      "video 1/1 (3705/3933) D:\\815_CowDataChecking\\20221230\\20221230_E_cow\\20221230_152538_8796.mkv: 1088x1088 (no detections), 22.4ms\n",
      "video 1/1 (3706/3933) D:\\815_CowDataChecking\\20221230\\20221230_E_cow\\20221230_152538_8796.mkv: 1088x1088 (no detections), 22.5ms\n",
      "video 1/1 (3707/3933) D:\\815_CowDataChecking\\20221230\\20221230_E_cow\\20221230_152538_8796.mkv: 1088x1088 (no detections), 20.0ms\n",
      "video 1/1 (3708/3933) D:\\815_CowDataChecking\\20221230\\20221230_E_cow\\20221230_152538_8796.mkv: 1088x1088 (no detections), 21.0ms\n",
      "video 1/1 (3709/3933) D:\\815_CowDataChecking\\20221230\\20221230_E_cow\\20221230_152538_8796.mkv: 1088x1088 (no detections), 19.2ms\n",
      "video 1/1 (3710/3933) D:\\815_CowDataChecking\\20221230\\20221230_E_cow\\20221230_152538_8796.mkv: 1088x1088 (no detections), 23.0ms\n",
      "video 1/1 (3711/3933) D:\\815_CowDataChecking\\20221230\\20221230_E_cow\\20221230_152538_8796.mkv: 1088x1088 (no detections), 23.4ms\n",
      "video 1/1 (3712/3933) D:\\815_CowDataChecking\\20221230\\20221230_E_cow\\20221230_152538_8796.mkv: 1088x1088 (no detections), 23.5ms\n",
      "video 1/1 (3713/3933) D:\\815_CowDataChecking\\20221230\\20221230_E_cow\\20221230_152538_8796.mkv: 1088x1088 (no detections), 22.0ms\n",
      "video 1/1 (3714/3933) D:\\815_CowDataChecking\\20221230\\20221230_E_cow\\20221230_152538_8796.mkv: 1088x1088 (no detections), 23.4ms\n",
      "video 1/1 (3715/3933) D:\\815_CowDataChecking\\20221230\\20221230_E_cow\\20221230_152538_8796.mkv: 1088x1088 (no detections), 21.5ms\n",
      "video 1/1 (3716/3933) D:\\815_CowDataChecking\\20221230\\20221230_E_cow\\20221230_152538_8796.mkv: 1088x1088 (no detections), 24.7ms\n",
      "video 1/1 (3717/3933) D:\\815_CowDataChecking\\20221230\\20221230_E_cow\\20221230_152538_8796.mkv: 1088x1088 (no detections), 17.8ms\n",
      "video 1/1 (3718/3933) D:\\815_CowDataChecking\\20221230\\20221230_E_cow\\20221230_152538_8796.mkv: 1088x1088 (no detections), 24.4ms\n",
      "video 1/1 (3719/3933) D:\\815_CowDataChecking\\20221230\\20221230_E_cow\\20221230_152538_8796.mkv: 1088x1088 (no detections), 15.4ms\n",
      "video 1/1 (3720/3933) D:\\815_CowDataChecking\\20221230\\20221230_E_cow\\20221230_152538_8796.mkv: 1088x1088 (no detections), 23.9ms\n",
      "video 1/1 (3721/3933) D:\\815_CowDataChecking\\20221230\\20221230_E_cow\\20221230_152538_8796.mkv: 1088x1088 (no detections), 20.0ms\n",
      "video 1/1 (3722/3933) D:\\815_CowDataChecking\\20221230\\20221230_E_cow\\20221230_152538_8796.mkv: 1088x1088 (no detections), 19.6ms\n",
      "video 1/1 (3723/3933) D:\\815_CowDataChecking\\20221230\\20221230_E_cow\\20221230_152538_8796.mkv: 1088x1088 (no detections), 21.8ms\n",
      "video 1/1 (3724/3933) D:\\815_CowDataChecking\\20221230\\20221230_E_cow\\20221230_152538_8796.mkv: 1088x1088 (no detections), 19.6ms\n",
      "video 1/1 (3725/3933) D:\\815_CowDataChecking\\20221230\\20221230_E_cow\\20221230_152538_8796.mkv: 1088x1088 (no detections), 17.0ms\n",
      "video 1/1 (3726/3933) D:\\815_CowDataChecking\\20221230\\20221230_E_cow\\20221230_152538_8796.mkv: 1088x1088 (no detections), 21.4ms\n",
      "video 1/1 (3727/3933) D:\\815_CowDataChecking\\20221230\\20221230_E_cow\\20221230_152538_8796.mkv: 1088x1088 (no detections), 19.0ms\n",
      "video 1/1 (3728/3933) D:\\815_CowDataChecking\\20221230\\20221230_E_cow\\20221230_152538_8796.mkv: 1088x1088 (no detections), 23.1ms\n",
      "video 1/1 (3729/3933) D:\\815_CowDataChecking\\20221230\\20221230_E_cow\\20221230_152538_8796.mkv: 1088x1088 (no detections), 22.4ms\n",
      "video 1/1 (3730/3933) D:\\815_CowDataChecking\\20221230\\20221230_E_cow\\20221230_152538_8796.mkv: 1088x1088 (no detections), 27.2ms\n",
      "video 1/1 (3731/3933) D:\\815_CowDataChecking\\20221230\\20221230_E_cow\\20221230_152538_8796.mkv: 1088x1088 (no detections), 16.5ms\n",
      "video 1/1 (3732/3933) D:\\815_CowDataChecking\\20221230\\20221230_E_cow\\20221230_152538_8796.mkv: 1088x1088 (no detections), 24.4ms\n",
      "video 1/1 (3733/3933) D:\\815_CowDataChecking\\20221230\\20221230_E_cow\\20221230_152538_8796.mkv: 1088x1088 (no detections), 23.0ms\n",
      "video 1/1 (3734/3933) D:\\815_CowDataChecking\\20221230\\20221230_E_cow\\20221230_152538_8796.mkv: 1088x1088 (no detections), 23.1ms\n",
      "video 1/1 (3735/3933) D:\\815_CowDataChecking\\20221230\\20221230_E_cow\\20221230_152538_8796.mkv: 1088x1088 (no detections), 25.2ms\n",
      "video 1/1 (3736/3933) D:\\815_CowDataChecking\\20221230\\20221230_E_cow\\20221230_152538_8796.mkv: 1088x1088 (no detections), 18.5ms\n",
      "video 1/1 (3737/3933) D:\\815_CowDataChecking\\20221230\\20221230_E_cow\\20221230_152538_8796.mkv: 1088x1088 (no detections), 23.0ms\n",
      "video 1/1 (3738/3933) D:\\815_CowDataChecking\\20221230\\20221230_E_cow\\20221230_152538_8796.mkv: 1088x1088 (no detections), 22.0ms\n",
      "video 1/1 (3739/3933) D:\\815_CowDataChecking\\20221230\\20221230_E_cow\\20221230_152538_8796.mkv: 1088x1088 (no detections), 21.1ms\n",
      "video 1/1 (3740/3933) D:\\815_CowDataChecking\\20221230\\20221230_E_cow\\20221230_152538_8796.mkv: 1088x1088 (no detections), 22.0ms\n",
      "video 1/1 (3741/3933) D:\\815_CowDataChecking\\20221230\\20221230_E_cow\\20221230_152538_8796.mkv: 1088x1088 (no detections), 23.4ms\n",
      "video 1/1 (3742/3933) D:\\815_CowDataChecking\\20221230\\20221230_E_cow\\20221230_152538_8796.mkv: 1088x1088 (no detections), 22.4ms\n",
      "video 1/1 (3743/3933) D:\\815_CowDataChecking\\20221230\\20221230_E_cow\\20221230_152538_8796.mkv: 1088x1088 (no detections), 22.4ms\n",
      "video 1/1 (3744/3933) D:\\815_CowDataChecking\\20221230\\20221230_E_cow\\20221230_152538_8796.mkv: 1088x1088 (no detections), 18.1ms\n",
      "video 1/1 (3745/3933) D:\\815_CowDataChecking\\20221230\\20221230_E_cow\\20221230_152538_8796.mkv: 1088x1088 (no detections), 20.9ms\n",
      "video 1/1 (3746/3933) D:\\815_CowDataChecking\\20221230\\20221230_E_cow\\20221230_152538_8796.mkv: 1088x1088 (no detections), 21.3ms\n",
      "video 1/1 (3747/3933) D:\\815_CowDataChecking\\20221230\\20221230_E_cow\\20221230_152538_8796.mkv: 1088x1088 (no detections), 23.0ms\n",
      "video 1/1 (3748/3933) D:\\815_CowDataChecking\\20221230\\20221230_E_cow\\20221230_152538_8796.mkv: 1088x1088 (no detections), 22.1ms\n",
      "video 1/1 (3749/3933) D:\\815_CowDataChecking\\20221230\\20221230_E_cow\\20221230_152538_8796.mkv: 1088x1088 (no detections), 21.0ms\n",
      "video 1/1 (3750/3933) D:\\815_CowDataChecking\\20221230\\20221230_E_cow\\20221230_152538_8796.mkv: 1088x1088 (no detections), 16.2ms\n",
      "video 1/1 (3751/3933) D:\\815_CowDataChecking\\20221230\\20221230_E_cow\\20221230_152538_8796.mkv: 1088x1088 (no detections), 21.4ms\n",
      "video 1/1 (3752/3933) D:\\815_CowDataChecking\\20221230\\20221230_E_cow\\20221230_152538_8796.mkv: 1088x1088 (no detections), 22.3ms\n",
      "video 1/1 (3753/3933) D:\\815_CowDataChecking\\20221230\\20221230_E_cow\\20221230_152538_8796.mkv: 1088x1088 (no detections), 17.5ms\n",
      "video 1/1 (3754/3933) D:\\815_CowDataChecking\\20221230\\20221230_E_cow\\20221230_152538_8796.mkv: 1088x1088 (no detections), 21.4ms\n",
      "video 1/1 (3755/3933) D:\\815_CowDataChecking\\20221230\\20221230_E_cow\\20221230_152538_8796.mkv: 1088x1088 (no detections), 16.5ms\n",
      "video 1/1 (3756/3933) D:\\815_CowDataChecking\\20221230\\20221230_E_cow\\20221230_152538_8796.mkv: 1088x1088 (no detections), 19.2ms\n",
      "video 1/1 (3757/3933) D:\\815_CowDataChecking\\20221230\\20221230_E_cow\\20221230_152538_8796.mkv: 1088x1088 (no detections), 24.8ms\n",
      "video 1/1 (3758/3933) D:\\815_CowDataChecking\\20221230\\20221230_E_cow\\20221230_152538_8796.mkv: 1088x1088 (no detections), 26.1ms\n",
      "video 1/1 (3759/3933) D:\\815_CowDataChecking\\20221230\\20221230_E_cow\\20221230_152538_8796.mkv: 1088x1088 (no detections), 17.3ms\n",
      "video 1/1 (3760/3933) D:\\815_CowDataChecking\\20221230\\20221230_E_cow\\20221230_152538_8796.mkv: 1088x1088 (no detections), 21.7ms\n",
      "video 1/1 (3761/3933) D:\\815_CowDataChecking\\20221230\\20221230_E_cow\\20221230_152538_8796.mkv: 1088x1088 (no detections), 16.5ms\n",
      "video 1/1 (3762/3933) D:\\815_CowDataChecking\\20221230\\20221230_E_cow\\20221230_152538_8796.mkv: 1088x1088 (no detections), 20.0ms\n",
      "video 1/1 (3763/3933) D:\\815_CowDataChecking\\20221230\\20221230_E_cow\\20221230_152538_8796.mkv: 1088x1088 (no detections), 24.0ms\n",
      "video 1/1 (3764/3933) D:\\815_CowDataChecking\\20221230\\20221230_E_cow\\20221230_152538_8796.mkv: 1088x1088 (no detections), 24.5ms\n",
      "video 1/1 (3765/3933) D:\\815_CowDataChecking\\20221230\\20221230_E_cow\\20221230_152538_8796.mkv: 1088x1088 (no detections), 22.4ms\n",
      "video 1/1 (3766/3933) D:\\815_CowDataChecking\\20221230\\20221230_E_cow\\20221230_152538_8796.mkv: 1088x1088 (no detections), 21.0ms\n",
      "video 1/1 (3767/3933) D:\\815_CowDataChecking\\20221230\\20221230_E_cow\\20221230_152538_8796.mkv: 1088x1088 (no detections), 23.1ms\n",
      "video 1/1 (3768/3933) D:\\815_CowDataChecking\\20221230\\20221230_E_cow\\20221230_152538_8796.mkv: 1088x1088 (no detections), 24.2ms\n",
      "video 1/1 (3769/3933) D:\\815_CowDataChecking\\20221230\\20221230_E_cow\\20221230_152538_8796.mkv: 1088x1088 (no detections), 23.1ms\n",
      "video 1/1 (3770/3933) D:\\815_CowDataChecking\\20221230\\20221230_E_cow\\20221230_152538_8796.mkv: 1088x1088 (no detections), 24.1ms\n",
      "video 1/1 (3771/3933) D:\\815_CowDataChecking\\20221230\\20221230_E_cow\\20221230_152538_8796.mkv: 1088x1088 (no detections), 24.0ms\n",
      "video 1/1 (3772/3933) D:\\815_CowDataChecking\\20221230\\20221230_E_cow\\20221230_152538_8796.mkv: 1088x1088 (no detections), 23.3ms\n",
      "video 1/1 (3773/3933) D:\\815_CowDataChecking\\20221230\\20221230_E_cow\\20221230_152538_8796.mkv: 1088x1088 (no detections), 18.2ms\n",
      "video 1/1 (3774/3933) D:\\815_CowDataChecking\\20221230\\20221230_E_cow\\20221230_152538_8796.mkv: 1088x1088 (no detections), 15.4ms\n",
      "video 1/1 (3775/3933) D:\\815_CowDataChecking\\20221230\\20221230_E_cow\\20221230_152538_8796.mkv: 1088x1088 (no detections), 25.4ms\n",
      "video 1/1 (3776/3933) D:\\815_CowDataChecking\\20221230\\20221230_E_cow\\20221230_152538_8796.mkv: 1088x1088 (no detections), 20.7ms\n",
      "video 1/1 (3777/3933) D:\\815_CowDataChecking\\20221230\\20221230_E_cow\\20221230_152538_8796.mkv: 1088x1088 (no detections), 22.0ms\n",
      "video 1/1 (3778/3933) D:\\815_CowDataChecking\\20221230\\20221230_E_cow\\20221230_152538_8796.mkv: 1088x1088 (no detections), 21.6ms\n",
      "video 1/1 (3779/3933) D:\\815_CowDataChecking\\20221230\\20221230_E_cow\\20221230_152538_8796.mkv: 1088x1088 (no detections), 23.3ms\n",
      "video 1/1 (3780/3933) D:\\815_CowDataChecking\\20221230\\20221230_E_cow\\20221230_152538_8796.mkv: 1088x1088 (no detections), 24.3ms\n",
      "video 1/1 (3781/3933) D:\\815_CowDataChecking\\20221230\\20221230_E_cow\\20221230_152538_8796.mkv: 1088x1088 (no detections), 23.9ms\n",
      "video 1/1 (3782/3933) D:\\815_CowDataChecking\\20221230\\20221230_E_cow\\20221230_152538_8796.mkv: 1088x1088 (no detections), 24.5ms\n",
      "Speed: 7.3ms preprocess, 25.1ms inference, 0.7ms postprocess per image at shape (1, 3, 1088, 1088)\n"
     ]
    },
    {
     "name": "stdout",
     "output_type": "stream",
     "text": [
      "D:\\Python\\SULarbmon\\Python\\env\\yolov8_june\\ultralytics\\runs\\segment\\HOKKAIDO_PAPER\\HOKKAIDO_BWU37\\20221230_152538_8796_classification.mp4\n",
      "D:\\Python\\SULarbmon\\Python\\env\\yolov8_june\\ultralytics\\runs\\segment\\HOKKAIDO_PAPER\\HOKKAIDO_BWU37\\20221230_152538_8796_classification.mp4\n",
      "D:\\Python\\SULarbmon\\Python\\env\\yolov8_june\\ultralytics\\runs\\segment\\HOKKAIDO_PAPER\\HOKKAIDO_BWU37/1/1.csv  is csv_path and \n",
      "Processing tracking : 1\n",
      "The two highest occurrences: \n",
      "First id: 4332.0, Score: 1.407945321228751, Count: 13.0\n",
      "Second id: 3849.0, Score: 1.168010028868799, Count: 10.0\n",
      "4332\n",
      "D:\\Python\\SULarbmon\\Python\\env\\yolov8_june\\ultralytics\\runs\\segment\\HOKKAIDO_PAPER\\HOKKAIDO_BWU37/2/2.csv  is csv_path and \n",
      "Processing tracking : 2\n",
      "The two highest occurrences: \n",
      "First id: 4423.0, Score: 1.5072488178466694, Count: 9.0\n",
      "Second id: 4149.0, Score: 1.1809365222067143, Count: 13.0\n",
      "4423\n",
      "D:\\Python\\SULarbmon\\Python\\env\\yolov8_june\\ultralytics\\runs\\segment\\HOKKAIDO_PAPER\\HOKKAIDO_BWU37/3/3.csv  is csv_path and \n",
      "BLACK\n",
      "tracking  3  is black cow  black_1\n",
      "D:\\Python\\SULarbmon\\Python\\env\\yolov8_june\\ultralytics\\runs\\segment\\HOKKAIDO_PAPER\\HOKKAIDO_BWU37/4/4.csv  is csv_path and \n",
      "Processing tracking : 4\n",
      "The two highest occurrences: \n",
      "First id: 4332.0, Score: 2.0383893798077026, Count: 14.0\n",
      "Second id: 4323.0, Score: 0.1614489190405064, Count: 1.0\n",
      "4332\n",
      "D:\\Python\\SULarbmon\\Python\\env\\yolov8_june\\ultralytics\\runs\\segment\\HOKKAIDO_PAPER\\HOKKAIDO_BWU37/5/5.csv  is csv_path and \n",
      "Processing tracking : 5\n",
      "-1\n",
      "tracking  5  is  U_1\n",
      "D:\\Python\\SULarbmon\\Python\\env\\yolov8_june\\ultralytics\\runs\\segment\\HOKKAIDO_PAPER\\HOKKAIDO_BWU37/6/6.csv  is csv_path and \n",
      "Processing tracking : 6\n",
      "The two highest occurrences: \n",
      "First id: 4323.0, Score: 1.1878910472512763, Count: 9.0\n",
      "Second id: 4332.0, Score: 0.9513365395618842, Count: 11.0\n",
      "4323\n",
      "D:\\Python\\SULarbmon\\Python\\env\\yolov8_june\\ultralytics\\runs\\segment\\HOKKAIDO_PAPER\\HOKKAIDO_BWU37/7/7.csv  is csv_path and \n",
      "Processing tracking : 7\n",
      "The two highest occurrences: \n",
      "First id: 4149.0, Score: 1.0462700143554893, Count: 9.0\n",
      "Second id: 4332.0, Score: 0.9623554728169772, Count: 10.0\n",
      "4149\n",
      "D:\\Python\\SULarbmon\\Python\\env\\yolov8_june\\ultralytics\\runs\\segment\\HOKKAIDO_PAPER\\HOKKAIDO_BWU37/8/8.csv  is csv_path and \n",
      "Processing tracking : 8\n",
      "The two highest occurrences: \n",
      "First id: 4423.0, Score: 2.588850371003356, Count: 16.0\n",
      "Second id: 3849.0, Score: 0.4367784566338177, Count: 4.0\n",
      "4423\n",
      "0  from index\n",
      "1   <--x-->   1\n",
      "SAVING!!!!!\n",
      "1   <--x-->   2\n",
      "1  from index\n",
      "2   <--x-->   2\n",
      "SAVING!!!!!\n",
      "2   <--x-->   3\n",
      "2  from index\n",
      "3   <--x-->   3\n",
      "SAVING!!!!!\n",
      "3   <--x-->   4\n",
      "3  from index\n",
      "4   <--x-->   4\n",
      "SAVING!!!!!\n",
      "4   <--x-->   5\n",
      "4  from index\n",
      "5   <--x-->   5\n",
      "SAVING!!!!!\n",
      "5   <--x-->   6\n",
      "5  from index\n",
      "6   <--x-->   6\n",
      "SAVING!!!!!\n",
      "6   <--x-->   7\n",
      "6  from index\n",
      "7   <--x-->   7\n",
      "SAVING!!!!!\n",
      "7   <--x-->   8\n",
      "7  from index\n",
      "8   <--x-->   8\n",
      "SAVING!!!!!\n",
      "8   <--x-->   9\n",
      "8  from index\n",
      "9   <--x-->   9\n",
      "SAVING!!!!!\n",
      "9   <--x-->   10\n",
      "9  from index\n",
      "10   <--x-->   10\n",
      "SAVING!!!!!\n",
      "10   <--x-->   11\n",
      "10  from index\n",
      "11   <--x-->   11\n",
      "SAVING!!!!!\n",
      "11   <--x-->   12\n",
      "11  from index\n",
      "12   <--x-->   12\n",
      "SAVING!!!!!\n",
      "12   <--x-->   13\n",
      "12  from index\n",
      "13   <--x-->   13\n",
      "SAVING!!!!!\n",
      "13   <--x-->   14\n",
      "13  from index\n",
      "14   <--x-->   14\n",
      "SAVING!!!!!\n",
      "14   <--x-->   15\n",
      "14  from index\n",
      "15   <--x-->   15\n",
      "SAVING!!!!!\n",
      "15   <--x-->   16\n",
      "15  from index\n",
      "16   <--x-->   16\n",
      "SAVING!!!!!\n",
      "16   <--x-->   17\n",
      "16  from index\n",
      "17   <--x-->   17\n",
      "SAVING!!!!!\n",
      "17   <--x-->   18\n",
      "17  from index\n",
      "18   <--x-->   18\n",
      "SAVING!!!!!\n",
      "18   <--x-->   19\n",
      "18  from index\n",
      "19   <--x-->   19\n",
      "SAVING!!!!!\n",
      "19   <--x-->   20\n",
      "19  from index\n",
      "20   <--x-->   20\n",
      "SAVING!!!!!\n",
      "20   <--x-->   21\n",
      "20  from index\n",
      "21   <--x-->   21\n",
      "SAVING!!!!!\n",
      "21   <--x-->   22\n",
      "21  from index\n",
      "22   <--x-->   22\n",
      "SAVING!!!!!\n",
      "22   <--x-->   23\n",
      "22  from index\n",
      "23   <--x-->   23\n",
      "SAVING!!!!!\n",
      "23   <--x-->   24\n",
      "23  from index\n",
      "24   <--x-->   24\n",
      "SAVING!!!!!\n",
      "24   <--x-->   25\n",
      "24  from index\n",
      "25   <--x-->   25\n",
      "SAVING!!!!!\n",
      "25   <--x-->   26\n",
      "25  from index\n",
      "26   <--x-->   26\n",
      "SAVING!!!!!\n",
      "26   <--x-->   27\n",
      "26  from index\n",
      "27   <--x-->   27\n",
      "SAVING!!!!!\n",
      "27   <--x-->   28\n",
      "27  from index\n",
      "28   <--x-->   28\n",
      "SAVING!!!!!\n",
      "28   <--x-->   29\n",
      "28  from index\n",
      "29   <--x-->   29\n",
      "SAVING!!!!!\n",
      "29   <--x-->   30\n",
      "29  from index\n",
      "30   <--x-->   30\n",
      "SAVING!!!!!\n",
      "30   <--x-->   31\n",
      "30  from index\n",
      "31   <--x-->   31\n",
      "SAVING!!!!!\n",
      "31   <--x-->   32\n",
      "31  from index\n",
      "32   <--x-->   32\n",
      "SAVING!!!!!\n",
      "32   <--x-->   33\n",
      "32  from index\n",
      "33   <--x-->   33\n",
      "SAVING!!!!!\n",
      "33   <--x-->   34\n",
      "33  from index\n",
      "34   <--x-->   34\n",
      "SAVING!!!!!\n",
      "34   <--x-->   35\n",
      "34  from index\n",
      "35   <--x-->   35\n",
      "SAVING!!!!!\n",
      "35   <--x-->   36\n",
      "35  from index\n",
      "36   <--x-->   36\n",
      "SAVING!!!!!\n",
      "36   <--x-->   37\n",
      "36  from index\n",
      "37   <--x-->   37\n",
      "SAVING!!!!!\n",
      "37   <--x-->   38\n",
      "37  from index\n",
      "38   <--x-->   38\n",
      "SAVING!!!!!\n",
      "38   <--x-->   39\n",
      "38  from index\n",
      "39   <--x-->   39\n",
      "SAVING!!!!!\n",
      "39   <--x-->   40\n",
      "39  from index\n",
      "40   <--x-->   40\n",
      "SAVING!!!!!\n",
      "40   <--x-->   41\n",
      "40  from index\n",
      "41   <--x-->   41\n",
      "SAVING!!!!!\n",
      "41   <--x-->   42\n",
      "41  from index\n",
      "42   <--x-->   42\n",
      "SAVING!!!!!\n",
      "42   <--x-->   43\n",
      "42  from index\n",
      "43   <--x-->   43\n",
      "SAVING!!!!!\n",
      "43   <--x-->   44\n",
      "43  from index\n",
      "44   <--x-->   44\n",
      "SAVING!!!!!\n",
      "44   <--x-->   45\n",
      "44  from index\n",
      "45   <--x-->   45\n",
      "SAVING!!!!!\n",
      "45   <--x-->   46\n",
      "45  from index\n",
      "46   <--x-->   46\n",
      "SAVING!!!!!\n",
      "46   <--x-->   47\n",
      "46  from index\n",
      "47   <--x-->   47\n",
      "SAVING!!!!!\n",
      "47   <--x-->   48\n",
      "47  from index\n",
      "48   <--x-->   48\n",
      "SAVING!!!!!\n",
      "48   <--x-->   49\n",
      "48  from index\n",
      "49   <--x-->   49\n",
      "SAVING!!!!!\n",
      "49   <--x-->   50\n",
      "49  from index\n",
      "50   <--x-->   50\n",
      "SAVING!!!!!\n",
      "50   <--x-->   51\n",
      "50  from index\n",
      "51   <--x-->   51\n",
      "SAVING!!!!!\n",
      "51   <--x-->   52\n",
      "51  from index\n",
      "52   <--x-->   52\n",
      "SAVING!!!!!\n",
      "52   <--x-->   53\n",
      "52  from index\n",
      "53   <--x-->   53\n",
      "SAVING!!!!!\n",
      "53   <--x-->   54\n",
      "53  from index\n",
      "54   <--x-->   54\n",
      "SAVING!!!!!\n",
      "54   <--x-->   55\n",
      "54  from index\n",
      "55   <--x-->   55\n",
      "SAVING!!!!!\n",
      "55   <--x-->   56\n",
      "55  from index\n",
      "56   <--x-->   56\n",
      "SAVING!!!!!\n",
      "56   <--x-->   57\n",
      "56  from index\n",
      "57   <--x-->   57\n",
      "SAVING!!!!!\n",
      "57   <--x-->   58\n",
      "57  from index\n",
      "58   <--x-->   58\n",
      "SAVING!!!!!\n",
      "58   <--x-->   59\n",
      "58  from index\n",
      "59   <--x-->   59\n",
      "SAVING!!!!!\n",
      "59   <--x-->   60\n",
      "59  from index\n",
      "60   <--x-->   60\n",
      "SAVING!!!!!\n",
      "60   <--x-->   61\n",
      "60  from index\n",
      "61   <--x-->   61\n",
      "SAVING!!!!!\n",
      "61   <--x-->   62\n",
      "61  from index\n",
      "62   <--x-->   62\n",
      "SAVING!!!!!\n",
      "62   <--x-->   63\n",
      "62  from index\n",
      "63   <--x-->   63\n",
      "SAVING!!!!!\n",
      "63   <--x-->   64\n",
      "63  from index\n",
      "64   <--x-->   64\n",
      "SAVING!!!!!\n",
      "64   <--x-->   65\n",
      "64  from index\n",
      "65   <--x-->   65\n",
      "SAVING!!!!!\n",
      "65   <--x-->   66\n",
      "65  from index\n",
      "66   <--x-->   66\n",
      "SAVING!!!!!\n",
      "66   <--x-->   67\n",
      "66  from index\n",
      "67   <--x-->   67\n",
      "SAVING!!!!!\n",
      "67   <--x-->   68\n",
      "67  from index\n",
      "68   <--x-->   68\n",
      "SAVING!!!!!\n",
      "68   <--x-->   69\n",
      "68  from index\n",
      "69   <--x-->   69\n",
      "SAVING!!!!!\n",
      "69   <--x-->   70\n",
      "69  from index\n",
      "70   <--x-->   70\n",
      "SAVING!!!!!\n",
      "70   <--x-->   71\n",
      "70  from index\n",
      "71   <--x-->   71\n",
      "SAVING!!!!!\n",
      "71   <--x-->   72\n",
      "71  from index\n",
      "72   <--x-->   72\n",
      "SAVING!!!!!\n",
      "72   <--x-->   73\n",
      "72  from index\n",
      "73   <--x-->   73\n",
      "SAVING!!!!!\n",
      "73   <--x-->   74\n",
      "73  from index\n",
      "74   <--x-->   74\n",
      "SAVING!!!!!\n",
      "74   <--x-->   75\n",
      "74  from index\n",
      "75   <--x-->   75\n",
      "SAVING!!!!!\n",
      "75   <--x-->   76\n",
      "75  from index\n",
      "76   <--x-->   76\n",
      "SAVING!!!!!\n",
      "76   <--x-->   77\n",
      "76  from index\n",
      "77   <--x-->   77\n",
      "SAVING!!!!!\n",
      "77   <--x-->   78\n",
      "77  from index\n",
      "78   <--x-->   78\n",
      "SAVING!!!!!\n",
      "78   <--x-->   79\n",
      "78  from index\n",
      "79   <--x-->   79\n",
      "SAVING!!!!!\n",
      "79   <--x-->   80\n",
      "79  from index\n",
      "80   <--x-->   80\n",
      "SAVING!!!!!\n",
      "80   <--x-->   81\n",
      "80  from index\n",
      "81   <--x-->   81\n",
      "SAVING!!!!!\n",
      "81   <--x-->   82\n",
      "81  from index\n",
      "82   <--x-->   82\n",
      "SAVING!!!!!\n",
      "82   <--x-->   83\n",
      "82  from index\n",
      "83   <--x-->   83\n",
      "SAVING!!!!!\n",
      "83   <--x-->   84\n",
      "83  from index\n",
      "84   <--x-->   84\n",
      "SAVING!!!!!\n",
      "84   <--x-->   85\n",
      "84  from index\n",
      "85   <--x-->   85\n",
      "SAVING!!!!!\n",
      "85   <--x-->   86\n",
      "85  from index\n",
      "86   <--x-->   86\n",
      "SAVING!!!!!\n",
      "86   <--x-->   87\n",
      "86  from index\n",
      "87   <--x-->   87\n",
      "SAVING!!!!!\n",
      "87   <--x-->   88\n",
      "87  from index\n",
      "88   <--x-->   88\n",
      "SAVING!!!!!\n",
      "88   <--x-->   89\n",
      "88  from index\n",
      "89   <--x-->   89\n",
      "SAVING!!!!!\n",
      "89   <--x-->   90\n",
      "89  from index\n",
      "90   <--x-->   90\n",
      "SAVING!!!!!\n",
      "90   <--x-->   91\n",
      "90  from index\n",
      "91   <--x-->   91\n",
      "SAVING!!!!!\n",
      "91   <--x-->   92\n",
      "91  from index\n",
      "92   <--x-->   92\n",
      "SAVING!!!!!\n",
      "92   <--x-->   93\n",
      "92  from index\n",
      "93   <--x-->   93\n",
      "SAVING!!!!!\n",
      "93   <--x-->   94\n",
      "93  from index\n",
      "94   <--x-->   94\n",
      "SAVING!!!!!\n",
      "94   <--x-->   95\n",
      "94  from index\n",
      "95   <--x-->   95\n",
      "SAVING!!!!!\n",
      "95   <--x-->   96\n",
      "95  from index\n",
      "96   <--x-->   96\n",
      "SAVING!!!!!\n",
      "96   <--x-->   97\n",
      "96  from index\n",
      "97   <--x-->   97\n",
      "SAVING!!!!!\n",
      "97   <--x-->   98\n",
      "97  from index\n",
      "98   <--x-->   98\n",
      "SAVING!!!!!\n",
      "98   <--x-->   99\n",
      "98  from index\n",
      "99   <--x-->   99\n",
      "SAVING!!!!!\n",
      "99   <--x-->   100\n",
      "99  from index\n",
      "100   <--x-->   100\n",
      "SAVING!!!!!\n",
      "100   <--x-->   101\n",
      "100  from index\n",
      "101   <--x-->   101\n",
      "SAVING!!!!!\n",
      "101   <--x-->   102\n",
      "101  from index\n",
      "102   <--x-->   102\n",
      "SAVING!!!!!\n",
      "102   <--x-->   103\n",
      "102  from index\n",
      "103   <--x-->   103\n",
      "SAVING!!!!!\n",
      "103   <--x-->   104\n",
      "103  from index\n",
      "104   <--x-->   104\n",
      "SAVING!!!!!\n",
      "104   <--x-->   105\n",
      "104  from index\n",
      "105   <--x-->   105\n",
      "SAVING!!!!!\n",
      "105   <--x-->   106\n",
      "105  from index\n",
      "106   <--x-->   106\n",
      "SAVING!!!!!\n",
      "106   <--x-->   107\n",
      "106  from index\n",
      "107   <--x-->   107\n",
      "SAVING!!!!!\n",
      "107   <--x-->   108\n",
      "107  from index\n",
      "108   <--x-->   108\n",
      "SAVING!!!!!\n",
      "108   <--x-->   109\n",
      "108  from index\n",
      "109   <--x-->   109\n",
      "SAVING!!!!!\n",
      "109   <--x-->   110\n",
      "109  from index\n",
      "110   <--x-->   110\n",
      "SAVING!!!!!\n",
      "110   <--x-->   111\n",
      "110  from index\n",
      "111   <--x-->   111\n",
      "SAVING!!!!!\n",
      "111   <--x-->   112\n",
      "111  from index\n",
      "112   <--x-->   112\n",
      "SAVING!!!!!\n",
      "112   <--x-->   113\n",
      "112  from index\n",
      "113   <--x-->   113\n",
      "SAVING!!!!!\n",
      "113   <--x-->   114\n",
      "113  from index\n",
      "114   <--x-->   114\n",
      "SAVING!!!!!\n",
      "114   <--x-->   115\n",
      "114  from index\n",
      "115   <--x-->   115\n",
      "SAVING!!!!!\n",
      "115   <--x-->   116\n",
      "115  from index\n",
      "116   <--x-->   116\n",
      "SAVING!!!!!\n",
      "116   <--x-->   117\n",
      "116  from index\n",
      "117   <--x-->   117\n",
      "SAVING!!!!!\n",
      "117   <--x-->   118\n",
      "117  from index\n",
      "118   <--x-->   118\n",
      "SAVING!!!!!\n",
      "118   <--x-->   119\n",
      "118  from index\n",
      "119   <--x-->   119\n",
      "SAVING!!!!!\n",
      "119   <--x-->   120\n",
      "119  from index\n",
      "120   <--x-->   120\n",
      "SAVING!!!!!\n",
      "120   <--x-->   121\n",
      "120  from index\n",
      "121   <--x-->   121\n",
      "SAVING!!!!!\n",
      "121   <--x-->   122\n",
      "121  from index\n",
      "122   <--x-->   122\n",
      "SAVING!!!!!\n",
      "122   <--x-->   123\n",
      "122  from index\n",
      "123   <--x-->   123\n",
      "SAVING!!!!!\n",
      "123   <--x-->   124\n",
      "123  from index\n",
      "124   <--x-->   124\n",
      "SAVING!!!!!\n",
      "124   <--x-->   125\n",
      "124  from index\n",
      "125   <--x-->   125\n",
      "SAVING!!!!!\n",
      "125   <--x-->   126\n",
      "125  from index\n",
      "126   <--x-->   126\n",
      "SAVING!!!!!\n",
      "126   <--x-->   127\n",
      "126  from index\n",
      "127   <--x-->   127\n",
      "SAVING!!!!!\n",
      "127   <--x-->   128\n",
      "127  from index\n",
      "128   <--x-->   128\n",
      "SAVING!!!!!\n",
      "128   <--x-->   129\n",
      "128  from index\n",
      "129   <--x-->   129\n",
      "SAVING!!!!!\n",
      "129   <--x-->   130\n",
      "129  from index\n",
      "130   <--x-->   130\n",
      "SAVING!!!!!\n",
      "130   <--x-->   131\n",
      "130  from index\n",
      "131   <--x-->   131\n",
      "SAVING!!!!!\n",
      "131   <--x-->   132\n",
      "131  from index\n",
      "132   <--x-->   132\n",
      "SAVING!!!!!\n",
      "132   <--x-->   133\n",
      "132  from index\n",
      "133   <--x-->   133\n",
      "SAVING!!!!!\n",
      "133   <--x-->   134\n",
      "133  from index\n",
      "134   <--x-->   134\n",
      "SAVING!!!!!\n",
      "134   <--x-->   135\n",
      "134  from index\n",
      "135   <--x-->   135\n",
      "SAVING!!!!!\n",
      "135   <--x-->   136\n",
      "135  from index\n",
      "136   <--x-->   136\n",
      "SAVING!!!!!\n",
      "136   <--x-->   137\n",
      "136  from index\n",
      "137   <--x-->   137\n",
      "SAVING!!!!!\n",
      "137   <--x-->   138\n",
      "137  from index\n",
      "138   <--x-->   138\n",
      "SAVING!!!!!\n",
      "138   <--x-->   139\n",
      "138  from index\n",
      "139   <--x-->   139\n",
      "SAVING!!!!!\n",
      "139   <--x-->   140\n",
      "139  from index\n",
      "140   <--x-->   140\n",
      "SAVING!!!!!\n",
      "140   <--x-->   141\n",
      "140  from index\n",
      "141   <--x-->   141\n",
      "SAVING!!!!!\n",
      "141   <--x-->   142\n",
      "141  from index\n",
      "142   <--x-->   142\n",
      "SAVING!!!!!\n",
      "142   <--x-->   143\n",
      "142  from index\n",
      "143   <--x-->   143\n",
      "SAVING!!!!!\n",
      "143   <--x-->   144\n",
      "143  from index\n",
      "144   <--x-->   144\n",
      "SAVING!!!!!\n",
      "144   <--x-->   145\n",
      "144  from index\n",
      "145   <--x-->   145\n",
      "SAVING!!!!!\n",
      "145   <--x-->   146\n",
      "145  from index\n",
      "146   <--x-->   146\n",
      "SAVING!!!!!\n",
      "146   <--x-->   147\n",
      "146  from index\n",
      "147   <--x-->   147\n",
      "SAVING!!!!!\n",
      "147   <--x-->   148\n",
      "147  from index\n",
      "148   <--x-->   148\n",
      "SAVING!!!!!\n",
      "148   <--x-->   149\n",
      "148  from index\n",
      "149   <--x-->   149\n",
      "SAVING!!!!!\n",
      "149   <--x-->   150\n",
      "149  from index\n",
      "150   <--x-->   150\n",
      "SAVING!!!!!\n",
      "150   <--x-->   151\n",
      "150  from index\n",
      "151   <--x-->   151\n",
      "SAVING!!!!!\n",
      "151   <--x-->   152\n",
      "151  from index\n",
      "152   <--x-->   152\n",
      "SAVING!!!!!\n",
      "152   <--x-->   153\n",
      "152  from index\n",
      "153   <--x-->   153\n",
      "SAVING!!!!!\n",
      "153   <--x-->   154\n",
      "153  from index\n",
      "154   <--x-->   154\n",
      "SAVING!!!!!\n",
      "154   <--x-->   155\n",
      "154  from index\n",
      "155   <--x-->   155\n",
      "SAVING!!!!!\n",
      "155   <--x-->   156\n",
      "155  from index\n",
      "156   <--x-->   156\n",
      "SAVING!!!!!\n",
      "156   <--x-->   157\n",
      "156  from index\n",
      "157   <--x-->   157\n",
      "SAVING!!!!!\n",
      "157   <--x-->   158\n",
      "157  from index\n",
      "158   <--x-->   158\n",
      "SAVING!!!!!\n",
      "158   <--x-->   159\n",
      "158  from index\n",
      "159   <--x-->   159\n",
      "SAVING!!!!!\n",
      "159   <--x-->   160\n",
      "159  from index\n",
      "160   <--x-->   160\n",
      "SAVING!!!!!\n",
      "160   <--x-->   161\n",
      "160  from index\n",
      "161   <--x-->   161\n",
      "SAVING!!!!!\n",
      "161   <--x-->   162\n",
      "161  from index\n",
      "162   <--x-->   162\n",
      "SAVING!!!!!\n",
      "162   <--x-->   163\n",
      "162  from index\n",
      "163   <--x-->   163\n",
      "SAVING!!!!!\n",
      "163   <--x-->   164\n",
      "163  from index\n",
      "164   <--x-->   164\n",
      "SAVING!!!!!\n",
      "164   <--x-->   165\n",
      "164  from index\n",
      "165   <--x-->   165\n",
      "SAVING!!!!!\n",
      "165   <--x-->   166\n",
      "165  from index\n",
      "166   <--x-->   166\n",
      "SAVING!!!!!\n",
      "166   <--x-->   167\n",
      "166  from index\n",
      "167   <--x-->   167\n",
      "SAVING!!!!!\n",
      "167   <--x-->   168\n",
      "167  from index\n",
      "168   <--x-->   168\n",
      "SAVING!!!!!\n",
      "168   <--x-->   169\n",
      "168  from index\n",
      "169   <--x-->   169\n",
      "SAVING!!!!!\n",
      "169   <--x-->   170\n",
      "169  from index\n",
      "170   <--x-->   170\n",
      "SAVING!!!!!\n",
      "170   <--x-->   171\n",
      "170  from index\n",
      "171   <--x-->   171\n",
      "SAVING!!!!!\n",
      "171   <--x-->   172\n",
      "171  from index\n",
      "172   <--x-->   172\n",
      "SAVING!!!!!\n",
      "172   <--x-->   173\n",
      "172  from index\n",
      "173   <--x-->   173\n",
      "SAVING!!!!!\n",
      "173   <--x-->   174\n",
      "173  from index\n",
      "174   <--x-->   174\n",
      "SAVING!!!!!\n",
      "174   <--x-->   175\n",
      "174  from index\n",
      "175   <--x-->   175\n",
      "SAVING!!!!!\n",
      "175   <--x-->   176\n",
      "175  from index\n",
      "176   <--x-->   176\n",
      "SAVING!!!!!\n",
      "176   <--x-->   177\n",
      "176  from index\n",
      "177   <--x-->   177\n",
      "SAVING!!!!!\n",
      "177   <--x-->   178\n",
      "177  from index\n",
      "178   <--x-->   178\n",
      "SAVING!!!!!\n",
      "178   <--x-->   179\n",
      "178  from index\n",
      "179   <--x-->   179\n",
      "SAVING!!!!!\n",
      "179   <--x-->   180\n",
      "179  from index\n",
      "180   <--x-->   180\n",
      "SAVING!!!!!\n",
      "180   <--x-->   181\n",
      "180  from index\n",
      "181   <--x-->   181\n",
      "SAVING!!!!!\n",
      "181   <--x-->   182\n",
      "181  from index\n",
      "182   <--x-->   182\n",
      "SAVING!!!!!\n",
      "182   <--x-->   183\n",
      "182  from index\n",
      "183   <--x-->   183\n",
      "SAVING!!!!!\n",
      "183   <--x-->   184\n",
      "183  from index\n",
      "184   <--x-->   184\n",
      "SAVING!!!!!\n",
      "184   <--x-->   185\n",
      "184  from index\n",
      "185   <--x-->   185\n",
      "SAVING!!!!!\n",
      "185   <--x-->   186\n",
      "185  from index\n",
      "186   <--x-->   186\n",
      "SAVING!!!!!\n",
      "186   <--x-->   187\n",
      "186  from index\n",
      "187   <--x-->   187\n",
      "SAVING!!!!!\n",
      "187   <--x-->   188\n",
      "187  from index\n",
      "188   <--x-->   188\n",
      "SAVING!!!!!\n",
      "188   <--x-->   189\n",
      "188  from index\n",
      "189   <--x-->   189\n",
      "SAVING!!!!!\n",
      "189   <--x-->   190\n",
      "189  from index\n",
      "190   <--x-->   190\n",
      "SAVING!!!!!\n",
      "190   <--x-->   191\n",
      "190  from index\n",
      "191   <--x-->   191\n",
      "SAVING!!!!!\n",
      "191   <--x-->   192\n",
      "191  from index\n",
      "192   <--x-->   192\n",
      "SAVING!!!!!\n",
      "192   <--x-->   193\n",
      "192  from index\n",
      "193   <--x-->   193\n",
      "SAVING!!!!!\n",
      "193   <--x-->   194\n",
      "193  from index\n",
      "194   <--x-->   194\n",
      "SAVING!!!!!\n",
      "194   <--x-->   195\n",
      "194  from index\n",
      "195   <--x-->   195\n",
      "SAVING!!!!!\n",
      "195   <--x-->   196\n",
      "195  from index\n",
      "196   <--x-->   196\n",
      "SAVING!!!!!\n",
      "196   <--x-->   197\n",
      "196  from index\n",
      "197   <--x-->   197\n",
      "SAVING!!!!!\n",
      "197   <--x-->   198\n",
      "197  from index\n",
      "198   <--x-->   198\n",
      "SAVING!!!!!\n",
      "198   <--x-->   199\n",
      "198  from index\n",
      "199   <--x-->   199\n",
      "SAVING!!!!!\n",
      "199   <--x-->   200\n",
      "199  from index\n",
      "200   <--x-->   200\n",
      "SAVING!!!!!\n",
      "200   <--x-->   201\n",
      "200  from index\n",
      "201   <--x-->   201\n",
      "SAVING!!!!!\n",
      "201   <--x-->   202\n",
      "201  from index\n",
      "202   <--x-->   202\n",
      "SAVING!!!!!\n",
      "202   <--x-->   203\n",
      "202  from index\n",
      "203   <--x-->   203\n",
      "SAVING!!!!!\n",
      "203   <--x-->   204\n",
      "203  from index\n",
      "204   <--x-->   204\n",
      "SAVING!!!!!\n",
      "204   <--x-->   205\n",
      "204  from index\n",
      "205   <--x-->   205\n",
      "SAVING!!!!!\n",
      "done  HOKKAIDO_BWU37\n"
     ]
    }
   ],
   "source": [
    "#mainfile\n",
    "thread_pool = []\n",
    "save_threads = []\n",
    "BLACK_CATTLE =0\n",
    "\n",
    "X1=200 #same as NEW_BLACK_X1\n",
    "X2=400 #same as NEW_BLACK_X2 # incase of x2 out of bound\n",
    "Y1=120\n",
    "Y2=500\n",
    "\n",
    "Y1_NEW=120 #125  #decrease here to extend, increase to shrink \n",
    "Y2_NEW=510  #500  # redyce here to extend , increase to do vice casa 460 previous\n",
    "FRAME = 1\n",
    "\n",
    "default=640\n",
    "\n",
    "BATCH = 100\n",
    "BATCH_COUNT = 1\n",
    "PREV_BATCH = 0\n",
    "\n",
    "LAST_SEEN = time.time()\n",
    "FIRST_SEEN = True\n",
    "demo_img_save_path = []\n",
    "main_df_lock = threading.Lock()\n",
    "\n",
    "\n",
    "#end\n",
    "prevId_record =[]\n",
    "MAX_prevId = [] \n",
    "MAX_xyxy1 = [] \n",
    "MAX_xyxy2 = [] \n",
    "MAX_xyxy3 = [] \n",
    "MAX_xyxy4 = [] \n",
    "MAX_orgId = []\n",
    "MAX_org_prod = []\n",
    "RANK_2 = []\n",
    "RANK_3 = []\n",
    "RANK_4 = []\n",
    "IMAGE_STORED_LOCATION = []\n",
    "IMAGE_ID_LIST = []\n",
    "LOCAL_ID_LIST = []\n",
    "#end\n",
    "#prevId_record =[]\n",
    "TOTAL_CATTLE_COUNT = 0 \n",
    "\n",
    "N_TOP = 2 # top predicted value \n",
    "\n",
    "#end\n",
    "\n",
    "#region Cattle Tracking \n",
    "STORED_IDS= []\n",
    "STORED_MID_Y = []\n",
    "STORED_MID_Y1 = []\n",
    "STORED_MID_Y2 = []\n",
    "STORED_MISS = []\n",
    "PREVIOUS_ID = [] # keep the record of last seen ids and position\n",
    "PREVIOUS_Y1 = [] \n",
    "PREVIOUS_Y2 = [] \n",
    "PREVIOUS_LOCAL_IDS = []\n",
    "CATTLE_LOCAL_ID= 1\n",
    "IS_FIRST_CATTLE = True\n",
    "\n",
    "UNKNOWN_CATTLE = 0\n",
    "start_time = time.time()\n",
    "\n",
    "MAIN_DF_COLUMNS = ['ImageId',\t'LocalId',\t'xyxy1',\t'xyxy2',\t'xyxy3',\t'xyxy4'] # using to store all cattle information in here instead of list\n",
    "MAIN_DF = pd.DataFrame(columns = MAIN_DF_COLUMNS)\n",
    "\n",
    "# Predict with the model\n",
    "project = 'D:/Python/SULarbmon/Python/env/yolov8_june/ultralytics/runs/segment/HOKKAIDO_PAPER/'\n",
    "name = 'HOKKAIDO_BWU'\n",
    "#dataset = \"D:\\\\815_CowDataChecking\\\\Honkawa\\\\2023-07-31\\\\03\\output_1fps\\\\20230731-030500-031000_10fps_1fps.mp4\" //HONKAWA\n",
    "dataset = \"D:\\\\815_CowDataChecking\\\\20221230\\\\20221230_E_cow\\\\20221230_152538_8796.mkv\"\n",
    "save_vid_name=  dataset.split(\"\\\\\")[-1].replace('.mkv','_track')  #open this when running single video\n",
    "#save_vid_name = dataset.split(\"\\\\\")[-1]+\"_track\" # open this when running multiple videos\n",
    "\n",
    "print(save_vid_name)\n",
    "#results = model(dataset,imgsz=(960,640),save=False,retina_masks=False,show=False,stream=True,device='0',conf=0.3)\n",
    "#results = model('D:\\\\815_CowDataChecking\\\\20221228\\\\20221228_E_cow\\\\20221228_151533_D474.mkv',imgsz=1088,save=False,retina_masks=False,show=False,stream=True,device='0',conf=0.2)\n",
    "#save_dir = increment_path(Path(project) / name, exist_ok=True)  # increment run\n",
    "save_dir = increment_path(Path(project) / name,mkdir=True)\n",
    "csv_main_file_path = str(save_dir) + \"\\main_csv.csv\"\n",
    "#create_default_csv(csv_main_file_path)\n",
    "#(save_dir / 'labels' if False else save_dir).mkdir(parents=True, exist_ok=True)  # make dir\n",
    "manual_cow_count = 0\n",
    "\n",
    "#cap.set(4, 480)\n",
    "save_vid_path = str(Path(os.path.join(save_dir, save_vid_name)).with_suffix('.mp4'))\n",
    "print(save_vid_path)\n",
    "cap = cv2.VideoWriter(save_vid_path,cv2.VideoWriter_fourcc(*'mp4v'), 5, (1088,1088))\n",
    "skip_count = 2\n",
    "skip_track = 1\n",
    "image_count = 1\n",
    "\n",
    "SAVING_THRESHOLD =200\n",
    "SAVED_COUNT = 1\n",
    "\n",
    "CATTLE_SAVING_THRESHOLD = 15\n",
    "CATTLE_SAVED_COUNT = 0\n",
    "last_tracking_id = 0\n",
    "base_path =''\n",
    "\n",
    "\n",
    "HOKKAIDO = \"HOKKAIDO\"\n",
    "HONKAWA = \"HONKAWA\"\n",
    "FARMNAME = HOKKAIDO\n",
    "model = DETECTOR(FARMNAME)\n",
    "#results = model(dataset,imgsz=(960,640),save=False,retina_masks=False,show=False,stream=True,device='0',conf=0.3) if FARMNAME == HONKAWA else \n",
    "results = model(dataset,imgsz=1088,save=False,retina_masks=False,show=False,stream=True,device='0',conf=0.3) #HOKKAIDO\n",
    "           \n",
    "skip_track = 0\n",
    "for result in results:\n",
    "    if(skip_track==2):\n",
    "        skip_track = 0\n",
    "        continue\n",
    "    skip_track+=1\n",
    "    \n",
    "    #print(result.boxes)\n",
    "    vid_path = result.path\n",
    "    filename = vid_path.split(\"\\\\\")[-1].replace(\".mp4\",\"\")\n",
    "    \n",
    "    boxes = result.boxes.cpu().numpy()\n",
    "    detections = boxes.xyxy.tolist()\n",
    "    #print(detections)\n",
    "    # Sort the detections based on the x1 coordinate (i.e., left-to-right)\n",
    "    #detections.sort(key=lambda x: x[0])\n",
    "    left_to_right = GET_LEFT_TO_RIGHT_ORDER([t[0] for t in detections])\n",
    "    #print('xxxxxxxxxxxxxxxxxxxxxxxxxxxxxxxxxxxxxxxxx')\n",
    "    #print(left_to_right)\n",
    "    #print(detections)\n",
    "    ori_img = result.orig_img\n",
    "    if FARMNAME == HOKKAIDO:\n",
    "        ori_img = cv2.resize(ori_img, (1088,1088), interpolation = cv2.INTER_AREA)\n",
    "\n",
    "    else:\n",
    "        ori_img = cv2.resize(ori_img, (640,384), interpolation = cv2.INTER_AREA)\n",
    "    annotator = Annotator(ori_img)\n",
    "    box_count = 0\n",
    "    cow_position = 1\n",
    "    \n",
    "    h,w = result.orig_shape\n",
    "    count = 1\n",
    "    b_boxes = []\n",
    "    masks = []\n",
    "    ids = []\n",
    "    has_cattle = False\n",
    "    \n",
    "    if  result.masks != None:\n",
    "        \n",
    "        #result_masks = result.masks.cpu().numpy().masks.astype(bool)\n",
    "        #for m in result.masks.cpu().numpy().masks.astype(bool):\n",
    "        result_masks = result.masks.cpu().numpy().masks.astype(bool)\n",
    "        \n",
    "        for LR_index in left_to_right:\n",
    "            m = result_masks[LR_index]\n",
    "        #for i in range(1,len(result_masks)+1):\n",
    "        #for m in result.masks.masks.astype(bool):\n",
    "            \n",
    "            xyxy = boxes[LR_index].xyxy[0]\n",
    "            #print('LR  INDEX  ',LR_index)\n",
    "            #print(xyxy)\n",
    "        #   m = result_masks[-1]\n",
    "            #print(xyxy)\n",
    "            #print(m.shape)\n",
    "            box_count += 1\n",
    "            x1= int(xyxy[0])\n",
    "            y1= int(xyxy[1])\n",
    "            x2= int(xyxy[2])\n",
    "            y2= int(xyxy[3])\n",
    "            #print(xyxy)\n",
    "            #print(m.shape)\n",
    "            \n",
    "            ################## Validate  #####################\n",
    "            if(FARMNAME == HOKKAIDO):\n",
    "                if(HOKKAIDO_ROI(x1,y1,x2,y2,h,w)==False):\n",
    "                    #print(\"I was skipped\")\n",
    "                    continue\n",
    "            elif(HONKAWA_ROI(x1,y1,x2,y2,h,w)==False):\n",
    "                    #print(\"I was skipped\")\n",
    "                    continue\n",
    "            #print(\"not skipped\")\n",
    "            has_cattle = True\n",
    "            #new_results.append(result)\n",
    "            box_left = x1\n",
    "            box_top = y1\n",
    "            box_w = x2 - x1\n",
    "            box_h = y2 - y1\n",
    "\n",
    "            new = np.zeros_like(ori_img, dtype=np.uint8)\n",
    "            new[m] = ori_img[m]\n",
    "            \n",
    "            if FARMNAME == HOKKAIDO:\n",
    "                x1= int(x1 * (1088/2992))\n",
    "                x2= int(x2 * (1088/2992))\n",
    "                y1= int(y1 * (1088/2992))\n",
    "                y2= int(y2 * (1088/2992))\n",
    "            else :\n",
    "                x1= int(x1 * (640/1920))\n",
    "                x2= int(x2 * (640/1920))\n",
    "                y1= int(y1 * (384/1080))\n",
    "                y2= int(y2 * (384/1080))\n",
    "\n",
    "            crop = new[y1:y2, x1:x2]\n",
    "            #cv2.imshow(\"Original Crop \",crop)\n",
    "            high = y2-y1\n",
    "            white_percentage = await calculate_white_pixel_percentage(crop)\n",
    "            crop = resize_image(crop, (high,high))\n",
    "            if FARMNAME == HOKKAIDO:\n",
    "                #img = cv2.resize(crop, (SIZE_224, SIZE_224))\n",
    "                img = resize_image(crop, (SIZE_224,SIZE_224))\n",
    "            elif FARMNAME == HONKAWA:\n",
    "                img = resize_image(crop, (SIZE_112,SIZE_112))\n",
    "\n",
    "            #cv2.imshow(\"Resize Crop \",crop)\n",
    "            \n",
    "            img=img / 255.0\n",
    "            \n",
    "            ############# LABLE\n",
    "            \n",
    "            \n",
    "            \n",
    "            ###### LABEL\n",
    "            #img = cv2.resize(crop, (SIZE, SIZE))\n",
    "            #img=img / 255.0\n",
    "            #print(box_left,'    xxxxxx     ' ,box_w)\n",
    "            prev_id = await HOKKAIDO_TRACKING(box_top,box_h,1,cow_position) ## just passing x values instead of yprev_id = await HOKKAIDO_TRACKING(box_left,box_h,1,cow_position) ## just passing x values instead of y\n",
    "            #########################################  \n",
    "            HAS_COW=True\n",
    "            #has_cattle = True\n",
    "            if(prev_id==-1): #skip cattle when prev_id // filter id is -1\n",
    "                if(count==1):\n",
    "                    has_seen_cattle=False\n",
    "                    count-=1\n",
    "                #print('skipped')\n",
    "                continue\n",
    "            \n",
    "            \n",
    "            print(f\"White Percentage of {int(prev_id[0])}: {white_percentage:.2f}%\")\n",
    "            cattle_color  = 'W'\n",
    "            #if white_percentage < 0.6 : #0.8 old value\n",
    "            if white_percentage < 1.5 : #0.8 old value\n",
    "                cattle_color  = 'B'\n",
    "                ids.append(str(prev_id[0])+'_Black')\n",
    "            else:\n",
    "                ids.append(prev_id[0])\n",
    "            t_start = time.time()\n",
    "            if cattle_color == 'B':\n",
    "                labels = await HOKKAIDO_B_SVM(img)\n",
    "            else:\n",
    "                labels = await HOKKAIDO_NB_SVM(img)\n",
    "            print(\"identification used \",t_start-time.time())\n",
    "\n",
    "            #print(labels)\n",
    "            labels.insert(0,cattle_color)\n",
    "            labels.insert(0,prev_id[0])\n",
    "            \n",
    "            has_cattle = True\n",
    "            \n",
    "            \n",
    "            last_tracking_id = int(prev_id[0])\n",
    "            masks.append(m)\n",
    "            b_boxes.append([x1,y1,x2,y2])\n",
    "            #print(prev_id)\n",
    "            cow_position+=1 \n",
    "            BATCH_COUNT = prev_id[0] # skip batch count here  \n",
    "            \n",
    "            base_path = str(Path(save_dir / prev_id[0]))\n",
    "            default_csv_path = base_path +\"/\"+prev_id[0]+\".csv\"\n",
    "            if not os.path.exists(base_path):\n",
    "                os.makedirs(base_path)\n",
    "                \n",
    "                creating_default_csv(default_csv_path,N_TOP)\n",
    "\n",
    "            demo_annotated_img_save_path = Path(base_path+ '/' + f'{image_count}.jpg')\n",
    "            cv2.imwrite(str(demo_annotated_img_save_path), crop) #save crop\n",
    "            CATTLE_DATA = {}\n",
    "            #is_new_cattle = False\n",
    "            try:\n",
    "                \n",
    "                index_prevId = prevId_record.index(int(prev_id[0]))\n",
    "                \n",
    "                #is_new_cattle = True\n",
    "            except :\n",
    "                TOTAL_CATTLE_COUNT +=1 \n",
    "                print('new cattle  xxxxxxxxxxxxxxxxxxxxx new cattle alert ' )    \n",
    "                prevId_record.append(int(prev_id[0]))\n",
    "            \n",
    "            \n",
    "            # WRITING CSV FOR EACH CATTLE\n",
    "            \n",
    "            write_thread = threading.Thread(target=write_to_csv, args=(default_csv_path,labels))\n",
    "            write_thread.daemon = True  # Set the thread as daemon\n",
    "            write_thread.start()\n",
    "            thread_pool.append(write_thread)\n",
    "            \n",
    "            \n",
    "                \n",
    "            \n",
    "            IMAGE_ID_LIST.append(image_count)\n",
    "            LOCAL_ID_LIST.append(int(prev_id[0]))\n",
    "            MAX_xyxy1.append(x1)\n",
    "            MAX_xyxy2.append(y1)\n",
    "            MAX_xyxy3.append(x2)\n",
    "            MAX_xyxy4.append(y2)\n",
    "            \n",
    "\n",
    "            manual_cow_count += 1\n",
    "\n",
    "            manual_cow_count += 1\n",
    "\n",
    "    #frame = annotator.result() \n",
    "   \n",
    "    \n",
    "    \n",
    "    frame = cv2.resize(ori_img, (1088,1088), interpolation = cv2.INTER_AREA)\n",
    "    \n",
    "    if has_cattle:  \n",
    "        #print(\"total saved cattle count -=>\",CATTLE_SAVED_COUNT)\n",
    "        data_to_add = {\n",
    "        'ImageId': IMAGE_ID_LIST,\n",
    "        'LocalId': LOCAL_ID_LIST,\n",
    "        'xyxy1': MAX_xyxy1,\n",
    "        'xyxy2': MAX_xyxy2,\n",
    "        'xyxy3': MAX_xyxy3,\n",
    "        'xyxy4': MAX_xyxy4\n",
    "        # Add more columns as needed\n",
    "        }\n",
    "        df_to_add = pd.DataFrame(data_to_add)\n",
    "        #MAIN_DF = pd.concat([MAIN_DF,df_to_add], ignore_index=True)\n",
    "        csv_thread = threading.Thread(target=concat_main_csv, args=(df_to_add,))\n",
    "        csv_thread.start()\n",
    "        \n",
    "        base_path = str(Path(save_dir / 'all_images'))\n",
    "        if not os.path.exists(base_path):\n",
    "            os.makedirs(base_path)\n",
    "            os.makedirs(base_path+'/Thresh')\n",
    "        del IMAGE_ID_LIST[:]\n",
    "        del LOCAL_ID_LIST[:]\n",
    "        del MAX_xyxy1[:]\n",
    "        del MAX_xyxy2[:]\n",
    "        del MAX_xyxy3[:]\n",
    "        del MAX_xyxy4[:]\n",
    "\n",
    "        demo_annotated_img_save_path = Path(base_path+ '/' + f'{image_count}.jpg')\n",
    "        cv2.imwrite(str(demo_annotated_img_save_path), ori_img) #save ori_img\n",
    "        save_thread = threading.Thread(target=cv2.imwrite, args=(str(demo_annotated_img_save_path),ori_img))\n",
    "        save_thread.daemon = True   \n",
    "        save_thread.start()\n",
    "        save_threads.append(save_thread)\n",
    "        SAVED_COUNT += 1\n",
    "        image_count += 1\n",
    "        \n",
    "        #ori_img = cv2.resize(ori_img,(1088,1088))\n",
    "        for i in range(len(b_boxes)):\n",
    "            box = b_boxes[i]\n",
    "            mask = masks[i]\n",
    "            #print(\"drawing\")\n",
    "            #print(ids)\n",
    "            \n",
    "            draw_bounding_box(ori_img,(box[0],box[1],box[2],box[3]),str(ids[i]))\n",
    "            ori_img = overlay(ori_img,mask,(0,0,255),0.3)\n",
    "        frame = cv2.resize(ori_img, (1088,1088), interpolation = cv2.INTER_AREA)\n",
    "        \n",
    "        video_thread = threading.Thread(target=cap.write(frame))\n",
    "        video_thread.start()\n",
    "        del ids[:]\n",
    "        del b_boxes[:]\n",
    "        del masks[:]\n",
    "        \n",
    "        if threading.active_count() > 200:\n",
    "            print(\"Cleaning up threads\")\n",
    "            pass\n",
    "        \n",
    "            gc.collect()\n",
    "\n",
    "            torch.cuda.empty_cache()\n",
    "        \n",
    "        \n",
    "    cv2.imshow('YOLO V8 Detection', frame)\n",
    "    if cv2.waitKey(1) & 0xFF == ord(' '):\n",
    "        break\n",
    "    \n",
    "    \n",
    "pass\n",
    "        \n",
    "cap.release() #tracking video\n",
    "cv2.destroyAllWindows()\n",
    "image_count -=1 \n",
    "\n",
    "#while threading.active_count() > 1:\n",
    "\n",
    "\n",
    "now=str(datetime.now().date())\n",
    "\n",
    "IMAGE_STORED_LOCATION = []\n",
    "\n",
    "cattle_ids = []\n",
    "#################################\\\n",
    "manual_summarize_ids = []\n",
    "manual_local_ids = []\n",
    "\n",
    "manual_summarize_ids = []\n",
    "manual_local_ids = []\n",
    "#### write video after saving csv\n",
    "final_cattle_count = 1\n",
    "\n",
    "# SAVING MAIN CSV-\n",
    "MAIN_DF.to_csv(csv_main_file_path, index=False)\n",
    "\n",
    "MAIN_DF = None # CLEAR AFTER SAVING\n",
    "\n",
    "save_vid_name=  dataset.split(\"\\\\\")[-1].replace('.mkv','_classification')  #open this when running single video\n",
    "#save_vid_name=  dataset.split(\"\\\\\")[-1].replace('.mp4','')+'_classification'\n",
    "\n",
    "save_vid_path = str(Path(os.path.join(save_dir, save_vid_name)).with_suffix('.mp4'))\n",
    "print(save_vid_path)\n",
    "classification_vid = cv2.VideoWriter(save_vid_path,cv2.VideoWriter_fourcc(*'mp4v'), 5, (1088,1088))\n",
    "print(save_vid_path)\n",
    "\n",
    "\n",
    "#SAVING SUMMARIZE IDS\n",
    "manual_summarize_ids = get_final_cattle_id(str(save_dir),TOTAL_CATTLE_COUNT)\n",
    "\n",
    "summarize_id_csv = pd.DataFrame(manual_summarize_ids, columns = [\"Cow Id\"])\n",
    "\n",
    "summarize_id_csv.to_csv(str(save_dir)+'/summarize_id_'+now+'.csv', index= False) \n",
    "#FINISH SAVING SUMMARIZE IDS\n",
    "\n",
    "csv_name = 'main_csv.csv'\n",
    "#region Write Video\n",
    "\n",
    "try: \n",
    "    writeVideo(classification_vid,str(save_dir),csv_name ,manual_summarize_ids,image_count)\n",
    "except:\n",
    "    print(\" I am ugly\")\n",
    "#summarize_id_csv.to_csv(str(save_dir)+'/summarize_id_'+now+'.csv', index= False) \n",
    "classification_vid.release()\n",
    "cv2.destroyAllWindows()\n",
    "end_time = time.time()\n"
   ]
  },
  {
   "cell_type": "code",
   "execution_count": null,
   "id": "04772ad2-2ea1-4b33-8085-ea47413eb948",
   "metadata": {},
   "outputs": [],
   "source": [
    "\n",
    "elapsed_time = end_time - start_time\n",
    "\n",
    "print(\"Total Prediction Duration for 0304 AM: \",elapsed_time)\n",
    "#run "
   ]
  },
  {
   "cell_type": "code",
   "execution_count": null,
   "id": "1d8d9ac0-4877-49f8-ba14-4253fd2a0179",
   "metadata": {
    "scrolled": true,
    "tags": []
   },
   "outputs": [],
   "source": []
  },
  {
   "cell_type": "code",
   "execution_count": null,
   "id": "a90a4ef9-d9bf-4645-b7fd-3dd76825e99f",
   "metadata": {},
   "outputs": [],
   "source": [
    "cv2.destroyAllWindows()"
   ]
  },
  {
   "cell_type": "code",
   "execution_count": null,
   "id": "56f9c467-1764-47b4-9adf-c6218c28e603",
   "metadata": {},
   "outputs": [],
   "source": []
  },
  {
   "cell_type": "code",
   "execution_count": null,
   "id": "d48181eb-d029-4e71-9063-8d9e2dcac62e",
   "metadata": {
    "scrolled": true,
    "tags": []
   },
   "outputs": [],
   "source": [
    "\n",
    "#SAVING SUMMARIZE IDS\n",
    "manual_summarize_ids = get_final_cattle_id(str(save_dir),TOTAL_CATTLE_COUNT)\n",
    "\n",
    "summarize_id_csv = pd.DataFrame(manual_summarize_ids, columns = [\"Cow Id\"])\n",
    "\n",
    "summarize_id_csv.to_csv(str(save_dir)+'/summarize_id_'+now+'.csv', index= False) \n",
    "#FINISH SAVING SUMMARIZE IDS\n",
    "\n",
    "csv_name = 'main_csv.csv'\n",
    "#region Write Video\n",
    "try:\n",
    "    writeVideo(classification_vid,str(save_dir),csv_name ,manual_summarize_ids,image_count)\n",
    "except:\n",
    "    print(\" I am ugly\")\n",
    "#summarize_id_csv.to_csv(str(save_dir)+'/summarize_id_'+now+'.csv', index= False) \n",
    "classification_vid.release()\n",
    "cv2.destroyAllWindows()\n",
    "end_time = time.time()"
   ]
  },
  {
   "cell_type": "code",
   "execution_count": null,
   "id": "6258836e-738d-4a9d-a359-2610732928f2",
   "metadata": {},
   "outputs": [],
   "source": []
  },
  {
   "cell_type": "code",
   "execution_count": null,
   "id": "2a4c18b4-ca98-4c29-ab9d-04847c722e28",
   "metadata": {},
   "outputs": [],
   "source": [
    "for csv_index in range(len(MAX_prevId)):\n",
    "    df = pd.DataFrame(MAX_prevId[csv_index] , columns = ['ID'])\n",
    "    tracked_id = MAX_prevId[csv_index][0]\n",
    "    try:\n",
    "        org_ids = torch.tensor(MAX_orgId[csv_index], device = 'cpu')\n",
    "        df[\"Original\"] = org_ids\n",
    "    except:\n",
    "        df[\"Original\"] = MAX_orgId[csv_index]\n",
    "    now=str(datetime.now().date())\n",
    "\n",
    "    save_csv_each_path = str(Path(save_dir / str(tracked_id) / f'{str(tracked_id)}.csv'))\n",
    "    df.to_csv(save_csv_each_path, index= False)##asdfasdf\n",
    "MAIN_DF.to_csv(csv_main_file_path, index=False)"
   ]
  },
  {
   "cell_type": "code",
   "execution_count": null,
   "id": "82466796-6a15-4845-a1a4-0c6fac562e95",
   "metadata": {},
   "outputs": [],
   "source": [
    "print(csv_main_file_path)\n",
    "csv_main_file_path = 'D:\\\\Python\\\\SULarbmon\\\\Python\\\\env\\\\yolov8_june\\\\ultralytics\\\\runs\\\\segment\\\\honkawa\\\\291_unknown\\\\identification4\\\\main_csv.csv'\n",
    "MAIN_DF.to_csv(csv_main_file_path, index=False)\n",
    "print('save')"
   ]
  },
  {
   "cell_type": "code",
   "execution_count": null,
   "id": "b837f6dd-1886-4aad-8d3a-a0082f55a9ea",
   "metadata": {},
   "outputs": [],
   "source": [
    "\n",
    "project = 'D:\\\\Honkawa_Exe_output\\\\identification2_0805'\n",
    "name = 'identification_new2'\n",
    "dataset = \"D:\\\\815_CowDataChecking\\\\Honkawa\\\\2023-08-04\\\\03\\\\0304\" \n",
    "#save_vid_name=  dataset.split(\"\\\\\")[-1].replace('.mkv','_track')  #open this when running single video\n",
    "\n",
    "\n",
    "#results = model('D:\\\\815_CowDataChecking\\\\20221228\\\\20221228_E_cow\\\\20221228_151533_D474.mkv',imgsz=1088,save=False,retina_masks=False,show=False,stream=True,device='0',conf=0.2)\n",
    "#save_dir = increment_path(Path(project) / name, exist_ok=True)  # increment run\n",
    "save_dir = Path(project,name)\n",
    "print(save_dir)"
   ]
  },
  {
   "cell_type": "code",
   "execution_count": 43,
   "id": "687720f3-3757-43b4-9817-c5d7d6216022",
   "metadata": {
    "scrolled": true,
    "tags": []
   },
   "outputs": [
    {
     "name": "stdout",
     "output_type": "stream",
     "text": [
      "D:\\Python\\SULarbmon\\Python\\env\\yolov8_june\\ultralytics\\runs\\segment\\HOKKAIDO_PAPER\\HOKKAIDO_BWU37\\20221230_152538_8796_classification.mp4\n",
      "D:\\Python\\SULarbmon\\Python\\env\\yolov8_june\\ultralytics\\runs\\segment\\HOKKAIDO_PAPER\\HOKKAIDO_BWU37\\20221230_152538_8796_classification.mp4\n",
      "D:\\Python\\SULarbmon\\Python\\env\\yolov8_june\\ultralytics\\runs\\segment\\HOKKAIDO_PAPER\\HOKKAIDO_BWU37/1/1.csv  is csv_path and \n",
      "Processing tracking : 1\n",
      "The two highest occurrences: \n",
      "First id: 4125.0, Score: 1.951537817, Count: 18.0\n",
      "Second id: 3849.0, Score: 0.576494626, Count: 5.0\n",
      "4125\n",
      "D:\\Python\\SULarbmon\\Python\\env\\yolov8_june\\ultralytics\\runs\\segment\\HOKKAIDO_PAPER\\HOKKAIDO_BWU37/2/2.csv  is csv_path and \n",
      "Processing tracking : 2\n",
      "The two highest occurrences: \n",
      "First id: 4527.0, Score: 2.04974076, Count: 17.0\n",
      "Second id: 4423.0, Score: 0.40846930400000003, Count: 3.0\n",
      "4527\n",
      "D:\\Python\\SULarbmon\\Python\\env\\yolov8_june\\ultralytics\\runs\\segment\\HOKKAIDO_PAPER\\HOKKAIDO_BWU37/3/3.csv  is csv_path and \n",
      "BLACK\n",
      "tracking  3  is black cow  black_1\n",
      "D:\\Python\\SULarbmon\\Python\\env\\yolov8_june\\ultralytics\\runs\\segment\\HOKKAIDO_PAPER\\HOKKAIDO_BWU37/4/4.csv  is csv_path and \n",
      "Processing tracking : 4\n",
      "The two highest occurrences: \n",
      "First id: 4332.0, Score: 2.0383893798077026, Count: 14.0\n",
      "Second id: 4323.0, Score: 0.1614489190405064, Count: 1.0\n",
      "4332\n",
      "D:\\Python\\SULarbmon\\Python\\env\\yolov8_june\\ultralytics\\runs\\segment\\HOKKAIDO_PAPER\\HOKKAIDO_BWU37/5/5.csv  is csv_path and \n",
      "Processing tracking : 5\n",
      "The two highest occurrences: \n",
      "First id: 4353.0, Score: 1.844940792, Count: 16.0\n",
      "Second id: 4149.0, Score: 0.352426888, Count: 3.0\n",
      "4353\n",
      "D:\\Python\\SULarbmon\\Python\\env\\yolov8_june\\ultralytics\\runs\\segment\\HOKKAIDO_PAPER\\HOKKAIDO_BWU37/6/6.csv  is csv_path and \n",
      "Processing tracking : 6\n",
      "The two highest occurrences: \n",
      "First id: 4356.0, Score: 2.366177844, Count: 25.0\n",
      "Second id: 4323.0, Score: 0.29464757799999997, Count: 2.0\n",
      "4356\n",
      "D:\\Python\\SULarbmon\\Python\\env\\yolov8_june\\ultralytics\\runs\\segment\\HOKKAIDO_PAPER\\HOKKAIDO_BWU37/7/7.csv  is csv_path and \n",
      "Processing tracking : 7\n",
      "The two highest occurrences: \n",
      "First id: 4384.0, Score: 2.654699708, Count: 25.0\n",
      "Second id: 4149.0, Score: 0.236841103, Count: 2.0\n",
      "4384\n",
      "D:\\Python\\SULarbmon\\Python\\env\\yolov8_june\\ultralytics\\runs\\segment\\HOKKAIDO_PAPER\\HOKKAIDO_BWU37/8/8.csv  is csv_path and \n",
      "Processing tracking : 8\n",
      "The two highest occurrences: \n",
      "First id: 4372.0, Score: 3.074530944, Count: 23.0\n",
      "Second id: 4423.0, Score: 0.42876138900000005, Count: 2.0\n",
      "4372\n",
      "0  from index\n",
      "1   <--x-->   1\n",
      "SAVING!!!!!\n",
      "1   <--x-->   2\n",
      "1  from index\n",
      "2   <--x-->   2\n",
      "SAVING!!!!!\n",
      "2   <--x-->   3\n",
      "2  from index\n",
      "3   <--x-->   3\n",
      "SAVING!!!!!\n",
      "3   <--x-->   4\n",
      "3  from index\n",
      "4   <--x-->   4\n",
      "SAVING!!!!!\n",
      "4   <--x-->   5\n",
      "4  from index\n",
      "5   <--x-->   5\n",
      "SAVING!!!!!\n",
      "5   <--x-->   6\n",
      "5  from index\n",
      "6   <--x-->   6\n",
      "SAVING!!!!!\n",
      "6   <--x-->   7\n",
      "6  from index\n",
      "7   <--x-->   7\n",
      "SAVING!!!!!\n",
      "7   <--x-->   8\n",
      "7  from index\n",
      "8   <--x-->   8\n",
      "SAVING!!!!!\n",
      "8   <--x-->   9\n",
      "8  from index\n",
      "9   <--x-->   9\n",
      "SAVING!!!!!\n",
      "9   <--x-->   10\n",
      "9  from index\n",
      "10   <--x-->   10\n",
      "SAVING!!!!!\n",
      "10   <--x-->   11\n",
      "10  from index\n",
      "11   <--x-->   11\n",
      "SAVING!!!!!\n",
      "11   <--x-->   12\n",
      "11  from index\n",
      "12   <--x-->   12\n",
      "SAVING!!!!!\n",
      "12   <--x-->   13\n",
      "12  from index\n",
      "13   <--x-->   13\n",
      "SAVING!!!!!\n",
      "13   <--x-->   14\n",
      "13  from index\n",
      "14   <--x-->   14\n",
      "SAVING!!!!!\n",
      "14   <--x-->   15\n",
      "14  from index\n",
      "15   <--x-->   15\n",
      "SAVING!!!!!\n",
      "15   <--x-->   16\n",
      "15  from index\n",
      "16   <--x-->   16\n",
      "SAVING!!!!!\n",
      "16   <--x-->   17\n",
      "16  from index\n",
      "17   <--x-->   17\n",
      "SAVING!!!!!\n",
      "17   <--x-->   18\n",
      "17  from index\n",
      "18   <--x-->   18\n",
      "SAVING!!!!!\n",
      "18   <--x-->   19\n",
      "18  from index\n",
      "19   <--x-->   19\n",
      "SAVING!!!!!\n",
      "19   <--x-->   20\n",
      "19  from index\n",
      "20   <--x-->   20\n",
      "SAVING!!!!!\n",
      "20   <--x-->   21\n",
      "20  from index\n",
      "21   <--x-->   21\n",
      "SAVING!!!!!\n",
      "21   <--x-->   22\n",
      "21  from index\n",
      "22   <--x-->   22\n",
      "SAVING!!!!!\n",
      "22   <--x-->   23\n",
      "22  from index\n",
      "23   <--x-->   23\n",
      "SAVING!!!!!\n",
      "23   <--x-->   24\n",
      "23  from index\n",
      "24   <--x-->   24\n",
      "SAVING!!!!!\n",
      "24   <--x-->   25\n",
      "24  from index\n",
      "25   <--x-->   25\n",
      "SAVING!!!!!\n",
      "25   <--x-->   26\n",
      "25  from index\n",
      "26   <--x-->   26\n",
      "SAVING!!!!!\n",
      "26   <--x-->   27\n",
      "26  from index\n",
      "27   <--x-->   27\n",
      "SAVING!!!!!\n",
      "27   <--x-->   28\n",
      "27  from index\n",
      "28   <--x-->   28\n",
      "SAVING!!!!!\n",
      "28   <--x-->   29\n",
      "28  from index\n",
      "29   <--x-->   29\n",
      "SAVING!!!!!\n",
      "29   <--x-->   30\n",
      "29  from index\n",
      "30   <--x-->   30\n",
      "SAVING!!!!!\n",
      "30   <--x-->   31\n",
      "30  from index\n",
      "31   <--x-->   31\n",
      "SAVING!!!!!\n",
      "31   <--x-->   32\n",
      "31  from index\n",
      "32   <--x-->   32\n",
      "SAVING!!!!!\n",
      "32   <--x-->   33\n",
      "32  from index\n",
      "33   <--x-->   33\n",
      "SAVING!!!!!\n",
      "33   <--x-->   34\n",
      "33  from index\n",
      "34   <--x-->   34\n",
      "SAVING!!!!!\n",
      "34   <--x-->   35\n",
      "34  from index\n",
      "35   <--x-->   35\n",
      "SAVING!!!!!\n",
      "35   <--x-->   36\n",
      "35  from index\n",
      "36   <--x-->   36\n",
      "SAVING!!!!!\n",
      "36   <--x-->   37\n",
      "36  from index\n",
      "37   <--x-->   37\n",
      "SAVING!!!!!\n",
      "37   <--x-->   38\n",
      "37  from index\n",
      "38   <--x-->   38\n",
      "SAVING!!!!!\n",
      "38   <--x-->   39\n",
      "38  from index\n",
      "39   <--x-->   39\n",
      "SAVING!!!!!\n",
      "39   <--x-->   40\n",
      "39  from index\n",
      "40   <--x-->   40\n",
      "SAVING!!!!!\n",
      "40   <--x-->   41\n",
      "40  from index\n",
      "41   <--x-->   41\n",
      "SAVING!!!!!\n",
      "41   <--x-->   42\n",
      "41  from index\n",
      "42   <--x-->   42\n",
      "SAVING!!!!!\n",
      "42   <--x-->   43\n",
      "42  from index\n",
      "43   <--x-->   43\n",
      "SAVING!!!!!\n",
      "43   <--x-->   44\n",
      "43  from index\n",
      "44   <--x-->   44\n",
      "SAVING!!!!!\n",
      "44   <--x-->   45\n",
      "44  from index\n",
      "45   <--x-->   45\n",
      "SAVING!!!!!\n",
      "45   <--x-->   46\n",
      "45  from index\n",
      "46   <--x-->   46\n",
      "SAVING!!!!!\n",
      "46   <--x-->   47\n",
      "46  from index\n",
      "47   <--x-->   47\n",
      "SAVING!!!!!\n",
      "47   <--x-->   48\n",
      "47  from index\n",
      "48   <--x-->   48\n",
      "SAVING!!!!!\n",
      "48   <--x-->   49\n",
      "48  from index\n",
      "49   <--x-->   49\n",
      "SAVING!!!!!\n",
      "49   <--x-->   50\n",
      "49  from index\n",
      "50   <--x-->   50\n",
      "SAVING!!!!!\n",
      "50   <--x-->   51\n",
      "50  from index\n",
      "51   <--x-->   51\n",
      "SAVING!!!!!\n",
      "51   <--x-->   52\n",
      "51  from index\n",
      "52   <--x-->   52\n",
      "SAVING!!!!!\n",
      "52   <--x-->   53\n",
      "52  from index\n",
      "53   <--x-->   53\n",
      "SAVING!!!!!\n",
      "53   <--x-->   54\n",
      "53  from index\n",
      "54   <--x-->   54\n",
      "SAVING!!!!!\n",
      "54   <--x-->   55\n",
      "54  from index\n",
      "55   <--x-->   55\n",
      "SAVING!!!!!\n",
      "55   <--x-->   56\n",
      "55  from index\n",
      "56   <--x-->   56\n",
      "SAVING!!!!!\n",
      "56   <--x-->   57\n",
      "56  from index\n",
      "57   <--x-->   57\n",
      "SAVING!!!!!\n",
      "57   <--x-->   58\n",
      "57  from index\n",
      "58   <--x-->   58\n",
      "SAVING!!!!!\n",
      "58   <--x-->   59\n",
      "58  from index\n",
      "59   <--x-->   59\n",
      "SAVING!!!!!\n",
      "59   <--x-->   60\n",
      "59  from index\n",
      "60   <--x-->   60\n",
      "SAVING!!!!!\n",
      "60   <--x-->   61\n",
      "60  from index\n",
      "61   <--x-->   61\n",
      "SAVING!!!!!\n",
      "61   <--x-->   62\n",
      "61  from index\n",
      "62   <--x-->   62\n",
      "SAVING!!!!!\n",
      "62   <--x-->   63\n",
      "62  from index\n",
      "63   <--x-->   63\n",
      "SAVING!!!!!\n",
      "63   <--x-->   64\n",
      "63  from index\n",
      "64   <--x-->   64\n",
      "SAVING!!!!!\n",
      "64   <--x-->   65\n",
      "64  from index\n",
      "65   <--x-->   65\n",
      "SAVING!!!!!\n",
      "65   <--x-->   66\n",
      "65  from index\n",
      "66   <--x-->   66\n",
      "SAVING!!!!!\n",
      "66   <--x-->   67\n",
      "66  from index\n",
      "67   <--x-->   67\n",
      "SAVING!!!!!\n",
      "67   <--x-->   68\n",
      "67  from index\n",
      "68   <--x-->   68\n",
      "SAVING!!!!!\n",
      "68   <--x-->   69\n",
      "68  from index\n",
      "69   <--x-->   69\n",
      "SAVING!!!!!\n",
      "69   <--x-->   70\n",
      "69  from index\n",
      "70   <--x-->   70\n",
      "SAVING!!!!!\n",
      "70   <--x-->   71\n",
      "70  from index\n",
      "71   <--x-->   71\n",
      "SAVING!!!!!\n",
      "71   <--x-->   72\n",
      "71  from index\n",
      "72   <--x-->   72\n",
      "SAVING!!!!!\n",
      "72   <--x-->   73\n",
      "72  from index\n",
      "73   <--x-->   73\n",
      "SAVING!!!!!\n",
      "73   <--x-->   74\n",
      "73  from index\n",
      "74   <--x-->   74\n",
      "SAVING!!!!!\n",
      "74   <--x-->   75\n",
      "74  from index\n",
      "75   <--x-->   75\n",
      "SAVING!!!!!\n",
      "75   <--x-->   76\n",
      "75  from index\n",
      "76   <--x-->   76\n",
      "SAVING!!!!!\n",
      "76   <--x-->   77\n",
      "76  from index\n",
      "77   <--x-->   77\n",
      "SAVING!!!!!\n",
      "77   <--x-->   78\n",
      "77  from index\n",
      "78   <--x-->   78\n",
      "SAVING!!!!!\n",
      "78   <--x-->   79\n",
      "78  from index\n",
      "79   <--x-->   79\n",
      "SAVING!!!!!\n",
      "79   <--x-->   80\n",
      "79  from index\n",
      "80   <--x-->   80\n",
      "SAVING!!!!!\n",
      "80   <--x-->   81\n",
      "80  from index\n",
      "81   <--x-->   81\n",
      "SAVING!!!!!\n",
      "81   <--x-->   82\n",
      "81  from index\n",
      "82   <--x-->   82\n",
      "SAVING!!!!!\n",
      "82   <--x-->   83\n",
      "82  from index\n",
      "83   <--x-->   83\n",
      "SAVING!!!!!\n",
      "83   <--x-->   84\n",
      "83  from index\n",
      "84   <--x-->   84\n",
      "SAVING!!!!!\n",
      "84   <--x-->   85\n",
      "84  from index\n",
      "85   <--x-->   85\n",
      "SAVING!!!!!\n",
      "85   <--x-->   86\n",
      "85  from index\n",
      "86   <--x-->   86\n",
      "SAVING!!!!!\n",
      "86   <--x-->   87\n",
      "86  from index\n",
      "87   <--x-->   87\n",
      "SAVING!!!!!\n",
      "87   <--x-->   88\n",
      "87  from index\n",
      "88   <--x-->   88\n",
      "SAVING!!!!!\n",
      "88   <--x-->   89\n",
      "88  from index\n",
      "89   <--x-->   89\n",
      "SAVING!!!!!\n",
      "89   <--x-->   90\n",
      "89  from index\n",
      "90   <--x-->   90\n",
      "SAVING!!!!!\n",
      "90   <--x-->   91\n",
      "90  from index\n",
      "91   <--x-->   91\n",
      "SAVING!!!!!\n",
      "91   <--x-->   92\n",
      "91  from index\n",
      "92   <--x-->   92\n",
      "SAVING!!!!!\n",
      "92   <--x-->   93\n",
      "92  from index\n",
      "93   <--x-->   93\n",
      "SAVING!!!!!\n",
      "93   <--x-->   94\n",
      "93  from index\n",
      "94   <--x-->   94\n",
      "SAVING!!!!!\n",
      "94   <--x-->   95\n",
      "94  from index\n",
      "95   <--x-->   95\n",
      "SAVING!!!!!\n",
      "95   <--x-->   96\n",
      "95  from index\n",
      "96   <--x-->   96\n",
      "SAVING!!!!!\n",
      "96   <--x-->   97\n",
      "96  from index\n",
      "97   <--x-->   97\n",
      "SAVING!!!!!\n",
      "97   <--x-->   98\n",
      "97  from index\n",
      "98   <--x-->   98\n",
      "SAVING!!!!!\n",
      "98   <--x-->   99\n",
      "98  from index\n",
      "99   <--x-->   99\n",
      "SAVING!!!!!\n",
      "99   <--x-->   100\n",
      "99  from index\n",
      "100   <--x-->   100\n",
      "SAVING!!!!!\n",
      "100   <--x-->   101\n",
      "100  from index\n",
      "101   <--x-->   101\n",
      "SAVING!!!!!\n",
      "101   <--x-->   102\n",
      "101  from index\n",
      "102   <--x-->   102\n",
      "SAVING!!!!!\n",
      "102   <--x-->   103\n",
      "102  from index\n",
      "103   <--x-->   103\n",
      "SAVING!!!!!\n",
      "103   <--x-->   104\n",
      "103  from index\n",
      "104   <--x-->   104\n",
      "SAVING!!!!!\n",
      "104   <--x-->   105\n",
      "104  from index\n",
      "105   <--x-->   105\n",
      "SAVING!!!!!\n",
      "105   <--x-->   106\n",
      "105  from index\n",
      "106   <--x-->   106\n",
      "SAVING!!!!!\n",
      "106   <--x-->   107\n",
      "106  from index\n",
      "107   <--x-->   107\n",
      "SAVING!!!!!\n",
      "107   <--x-->   108\n",
      "107  from index\n",
      "108   <--x-->   108\n",
      "SAVING!!!!!\n",
      "108   <--x-->   109\n",
      "108  from index\n",
      "109   <--x-->   109\n",
      "SAVING!!!!!\n",
      "109   <--x-->   110\n",
      "109  from index\n",
      "110   <--x-->   110\n",
      "SAVING!!!!!\n",
      "110   <--x-->   111\n",
      "110  from index\n",
      "111   <--x-->   111\n",
      "SAVING!!!!!\n",
      "111   <--x-->   112\n",
      "111  from index\n",
      "112   <--x-->   112\n",
      "SAVING!!!!!\n",
      "112   <--x-->   113\n",
      "112  from index\n",
      "113   <--x-->   113\n",
      "SAVING!!!!!\n",
      "113   <--x-->   114\n",
      "113  from index\n",
      "114   <--x-->   114\n",
      "SAVING!!!!!\n",
      "114   <--x-->   115\n",
      "114  from index\n",
      "115   <--x-->   115\n",
      "SAVING!!!!!\n",
      "115   <--x-->   116\n",
      "115  from index\n",
      "116   <--x-->   116\n",
      "SAVING!!!!!\n",
      "116   <--x-->   117\n",
      "116  from index\n",
      "117   <--x-->   117\n",
      "SAVING!!!!!\n",
      "117   <--x-->   118\n",
      "117  from index\n",
      "118   <--x-->   118\n",
      "SAVING!!!!!\n",
      "118   <--x-->   119\n",
      "118  from index\n",
      "119   <--x-->   119\n",
      "SAVING!!!!!\n",
      "119   <--x-->   120\n",
      "119  from index\n",
      "120   <--x-->   120\n",
      "SAVING!!!!!\n",
      "120   <--x-->   121\n",
      "120  from index\n",
      "121   <--x-->   121\n",
      "SAVING!!!!!\n",
      "121   <--x-->   122\n",
      "121  from index\n",
      "122   <--x-->   122\n",
      "SAVING!!!!!\n",
      "122   <--x-->   123\n",
      "122  from index\n",
      "123   <--x-->   123\n",
      "SAVING!!!!!\n",
      "123   <--x-->   124\n",
      "123  from index\n",
      "124   <--x-->   124\n",
      "SAVING!!!!!\n",
      "124   <--x-->   125\n",
      "124  from index\n",
      "125   <--x-->   125\n",
      "SAVING!!!!!\n",
      "125   <--x-->   126\n",
      "125  from index\n",
      "126   <--x-->   126\n",
      "SAVING!!!!!\n",
      "126   <--x-->   127\n",
      "126  from index\n",
      "127   <--x-->   127\n",
      "SAVING!!!!!\n",
      "127   <--x-->   128\n",
      "127  from index\n",
      "128   <--x-->   128\n",
      "SAVING!!!!!\n",
      "128   <--x-->   129\n",
      "128  from index\n",
      "129   <--x-->   129\n",
      "SAVING!!!!!\n",
      "129   <--x-->   130\n",
      "129  from index\n",
      "130   <--x-->   130\n",
      "SAVING!!!!!\n",
      "130   <--x-->   131\n",
      "130  from index\n",
      "131   <--x-->   131\n",
      "SAVING!!!!!\n",
      "131   <--x-->   132\n",
      "131  from index\n",
      "132   <--x-->   132\n",
      "SAVING!!!!!\n",
      "132   <--x-->   133\n",
      "132  from index\n",
      "133   <--x-->   133\n",
      "SAVING!!!!!\n",
      "133   <--x-->   134\n",
      "133  from index\n",
      "134   <--x-->   134\n",
      "SAVING!!!!!\n",
      "134   <--x-->   135\n",
      "134  from index\n",
      "135   <--x-->   135\n",
      "SAVING!!!!!\n",
      "135   <--x-->   136\n",
      "135  from index\n",
      "136   <--x-->   136\n",
      "SAVING!!!!!\n",
      "136   <--x-->   137\n",
      "136  from index\n",
      "137   <--x-->   137\n",
      "SAVING!!!!!\n",
      "137   <--x-->   138\n",
      "137  from index\n",
      "138   <--x-->   138\n",
      "SAVING!!!!!\n",
      "138   <--x-->   139\n",
      "138  from index\n",
      "139   <--x-->   139\n",
      "SAVING!!!!!\n",
      "139   <--x-->   140\n",
      "139  from index\n",
      "140   <--x-->   140\n",
      "SAVING!!!!!\n",
      "140   <--x-->   141\n",
      "140  from index\n",
      "141   <--x-->   141\n",
      "SAVING!!!!!\n",
      "141   <--x-->   142\n",
      "141  from index\n",
      "142   <--x-->   142\n",
      "SAVING!!!!!\n",
      "142   <--x-->   143\n",
      "142  from index\n",
      "143   <--x-->   143\n",
      "SAVING!!!!!\n",
      "143   <--x-->   144\n",
      "143  from index\n",
      "144   <--x-->   144\n",
      "SAVING!!!!!\n",
      "144   <--x-->   145\n",
      "144  from index\n",
      "145   <--x-->   145\n",
      "SAVING!!!!!\n",
      "145   <--x-->   146\n",
      "145  from index\n",
      "146   <--x-->   146\n",
      "SAVING!!!!!\n",
      "146   <--x-->   147\n",
      "146  from index\n",
      "147   <--x-->   147\n",
      "SAVING!!!!!\n",
      "147   <--x-->   148\n",
      "147  from index\n",
      "148   <--x-->   148\n",
      "SAVING!!!!!\n",
      "148   <--x-->   149\n",
      "148  from index\n",
      "149   <--x-->   149\n",
      "SAVING!!!!!\n",
      "149   <--x-->   150\n",
      "149  from index\n",
      "150   <--x-->   150\n",
      "SAVING!!!!!\n",
      "150   <--x-->   151\n",
      "150  from index\n",
      "151   <--x-->   151\n",
      "SAVING!!!!!\n",
      "151   <--x-->   152\n",
      "151  from index\n",
      "152   <--x-->   152\n",
      "SAVING!!!!!\n",
      "152   <--x-->   153\n",
      "152  from index\n",
      "153   <--x-->   153\n",
      "SAVING!!!!!\n",
      "153   <--x-->   154\n",
      "153  from index\n",
      "154   <--x-->   154\n",
      "SAVING!!!!!\n",
      "154   <--x-->   155\n",
      "154  from index\n",
      "155   <--x-->   155\n",
      "SAVING!!!!!\n",
      "155   <--x-->   156\n",
      "155  from index\n",
      "156   <--x-->   156\n",
      "SAVING!!!!!\n",
      "156   <--x-->   157\n",
      "156  from index\n",
      "157   <--x-->   157\n",
      "SAVING!!!!!\n",
      "157   <--x-->   158\n",
      "157  from index\n",
      "158   <--x-->   158\n",
      "SAVING!!!!!\n",
      "158   <--x-->   159\n",
      "158  from index\n",
      "159   <--x-->   159\n",
      "SAVING!!!!!\n",
      "159   <--x-->   160\n",
      "159  from index\n",
      "160   <--x-->   160\n",
      "SAVING!!!!!\n",
      "160   <--x-->   161\n",
      "160  from index\n",
      "161   <--x-->   161\n",
      "SAVING!!!!!\n",
      "161   <--x-->   162\n",
      "161  from index\n",
      "162   <--x-->   162\n",
      "SAVING!!!!!\n",
      "162   <--x-->   163\n",
      "162  from index\n",
      "163   <--x-->   163\n",
      "SAVING!!!!!\n",
      "163   <--x-->   164\n",
      "163  from index\n",
      "164   <--x-->   164\n",
      "SAVING!!!!!\n",
      "164   <--x-->   165\n",
      "164  from index\n",
      "165   <--x-->   165\n",
      "SAVING!!!!!\n",
      "165   <--x-->   166\n",
      "165  from index\n",
      "166   <--x-->   166\n",
      "SAVING!!!!!\n",
      "166   <--x-->   167\n",
      "166  from index\n",
      "167   <--x-->   167\n",
      "SAVING!!!!!\n",
      "167   <--x-->   168\n",
      "167  from index\n",
      "168   <--x-->   168\n",
      "SAVING!!!!!\n",
      "168   <--x-->   169\n",
      "168  from index\n",
      "169   <--x-->   169\n",
      "SAVING!!!!!\n",
      "169   <--x-->   170\n",
      "169  from index\n",
      "170   <--x-->   170\n",
      "SAVING!!!!!\n",
      "170   <--x-->   171\n",
      "170  from index\n",
      "171   <--x-->   171\n",
      "SAVING!!!!!\n",
      "171   <--x-->   172\n",
      "171  from index\n",
      "172   <--x-->   172\n",
      "SAVING!!!!!\n",
      "172   <--x-->   173\n",
      "172  from index\n",
      "173   <--x-->   173\n",
      "SAVING!!!!!\n",
      "173   <--x-->   174\n",
      "173  from index\n",
      "174   <--x-->   174\n",
      "SAVING!!!!!\n",
      "174   <--x-->   175\n",
      "174  from index\n",
      "175   <--x-->   175\n",
      "SAVING!!!!!\n",
      "175   <--x-->   176\n",
      "175  from index\n",
      "176   <--x-->   176\n",
      "SAVING!!!!!\n",
      "176   <--x-->   177\n",
      "176  from index\n",
      "177   <--x-->   177\n",
      "SAVING!!!!!\n",
      "177   <--x-->   178\n",
      "177  from index\n",
      "178   <--x-->   178\n",
      "SAVING!!!!!\n",
      "178   <--x-->   179\n",
      "178  from index\n",
      "179   <--x-->   179\n",
      "SAVING!!!!!\n",
      "179   <--x-->   180\n",
      "179  from index\n",
      "180   <--x-->   180\n",
      "SAVING!!!!!\n",
      "180   <--x-->   181\n",
      "180  from index\n",
      "181   <--x-->   181\n",
      "SAVING!!!!!\n",
      "181   <--x-->   182\n",
      "181  from index\n",
      "182   <--x-->   182\n",
      "SAVING!!!!!\n",
      "182   <--x-->   183\n",
      "182  from index\n",
      "183   <--x-->   183\n",
      "SAVING!!!!!\n",
      "183   <--x-->   184\n",
      "183  from index\n",
      "184   <--x-->   184\n",
      "SAVING!!!!!\n",
      "184   <--x-->   185\n",
      "184  from index\n",
      "185   <--x-->   185\n",
      "SAVING!!!!!\n",
      "185   <--x-->   186\n",
      "185  from index\n",
      "186   <--x-->   186\n",
      "SAVING!!!!!\n",
      "186   <--x-->   187\n",
      "186  from index\n",
      "187   <--x-->   187\n",
      "SAVING!!!!!\n",
      "187   <--x-->   188\n",
      "187  from index\n",
      "188   <--x-->   188\n",
      "SAVING!!!!!\n",
      "188   <--x-->   189\n",
      "188  from index\n",
      "189   <--x-->   189\n",
      "SAVING!!!!!\n",
      "189   <--x-->   190\n",
      "189  from index\n",
      "190   <--x-->   190\n",
      "SAVING!!!!!\n",
      "190   <--x-->   191\n",
      "190  from index\n",
      "191   <--x-->   191\n",
      "SAVING!!!!!\n",
      "191   <--x-->   192\n",
      "191  from index\n",
      "192   <--x-->   192\n",
      "SAVING!!!!!\n",
      "192   <--x-->   193\n",
      "192  from index\n",
      "193   <--x-->   193\n",
      "SAVING!!!!!\n",
      "193   <--x-->   194\n",
      "193  from index\n",
      "194   <--x-->   194\n",
      "SAVING!!!!!\n",
      "194   <--x-->   195\n",
      "194  from index\n",
      "195   <--x-->   195\n",
      "SAVING!!!!!\n",
      "195   <--x-->   196\n",
      "195  from index\n",
      "196   <--x-->   196\n",
      "SAVING!!!!!\n",
      "196   <--x-->   197\n",
      "196  from index\n",
      "197   <--x-->   197\n",
      "SAVING!!!!!\n",
      "197   <--x-->   198\n",
      "197  from index\n",
      "198   <--x-->   198\n",
      "SAVING!!!!!\n",
      "198   <--x-->   199\n",
      "198  from index\n",
      "199   <--x-->   199\n",
      "SAVING!!!!!\n",
      "199   <--x-->   200\n",
      "199  from index\n",
      "200   <--x-->   200\n",
      "SAVING!!!!!\n",
      "200   <--x-->   201\n",
      "200  from index\n",
      "201   <--x-->   201\n",
      "SAVING!!!!!\n",
      "201   <--x-->   202\n",
      "201  from index\n",
      "202   <--x-->   202\n",
      "SAVING!!!!!\n",
      "202   <--x-->   203\n",
      "202  from index\n",
      "203   <--x-->   203\n",
      "SAVING!!!!!\n",
      "203   <--x-->   204\n",
      "203  from index\n",
      "204   <--x-->   204\n",
      "SAVING!!!!!\n",
      "204   <--x-->   205\n",
      "204  from index\n",
      "205   <--x-->   205\n",
      "SAVING!!!!!\n",
      "205  from index\n",
      "done  HOKKAIDO_BWU37\n"
     ]
    }
   ],
   "source": [
    "#save_dir = \"D:\\\\Python\\\\SULarbmon\\\\Python\\\\env\\\\yolov8_june\\\\ultralytics\\\\runs\\\\segment\\\\honkawa\\\\1103\\\\identification_new2\"\n",
    "UNKNOWN_THRESHOLD = 0.5\n",
    "cattle_track_count = 0\n",
    "UNKNOWN_CATTLE = 0\n",
    "BLACK_CATTLE =0\n",
    "\n",
    "\n",
    "save_dir = \"D:\\\\Python\\\\SULarbmon\\\\Python\\\\env\\\\yolov8_june\\\\ultralytics\\\\runs\\\\segment\\\\HOKKAIDO_PAPER\\\\HOKKAIDO_BWU37\"\n",
    "csv_main_file_path = save_dir + \"\\main_csv.csv\"\n",
    "dataset =  \"D:\\\\815_CowDataChecking\\\\Honkawa\\\\2023-07-31\\\\03\\\\20221230_152538_8796.mp4\" \n",
    "TOTAL_CATTLE_COUNT=8\n",
    "\n",
    "now=str(datetime.now().date())\n",
    "\n",
    "save_vid_name=  dataset.split(\"\\\\\")[-1].replace('.mp4','')+'_classification'\n",
    "\n",
    "save_vid_path = str(Path(os.path.join(save_dir, save_vid_name)).with_suffix('.mp4'))\n",
    "print(save_vid_path)\n",
    "classification_vid = cv2.VideoWriter(save_vid_path,cv2.VideoWriter_fourcc(*'mp4v'), 5, (1088,1088))\n",
    "print(save_vid_path)\n",
    "#### write video after saving csv\n",
    "manual_summarize_ids = get_final_cattle_id(str(save_dir),TOTAL_CATTLE_COUNT)\n",
    "summarize_id_csv = pd.DataFrame(manual_summarize_ids, columns = [\"Cow Id\"])\n",
    "summarize_id_csv.to_csv(str(save_dir)+'/summarize_id_50_percent_'+now+'.csv', index= False) \n",
    "\n",
    "csv_name = 'main_csv.csv'\n",
    "#region Write Video\n",
    "image_count = 207\n",
    "try:\n",
    "    writeVideo(classification_vid,str(save_dir),csv_name ,manual_summarize_ids,image_count)\n",
    "except Exception as ex:\n",
    "    print(ex)\n",
    "#summarize_id_csv.to_csv(str(save_dir)+'/summarize_id_'+now+'.csv', index= False) \n",
    "classification_vid.release()\n",
    "cv2.destroyAllWindows()\n"
   ]
  },
  {
   "cell_type": "code",
   "execution_count": null,
   "id": "bb8ebfe1-b310-4d49-9376-cd19b2896c36",
   "metadata": {},
   "outputs": [],
   "source": [
    "cv2.destroyAllWindows()"
   ]
  },
  {
   "cell_type": "code",
   "execution_count": null,
   "id": "4a327c40-672c-4b32-b442-ab6f585eaa35",
   "metadata": {},
   "outputs": [],
   "source": [
    "summarize_id_csv.to_csv(str(save_dir)+'/summarize_id_'+now+'.csv', index= False) "
   ]
  },
  {
   "cell_type": "code",
   "execution_count": null,
   "id": "97cbc49c-cfb5-46cf-a5f7-3eda38622a65",
   "metadata": {},
   "outputs": [],
   "source": []
  },
  {
   "cell_type": "code",
   "execution_count": null,
   "id": "08ee745d-1e26-4f99-aeb7-a454fce0698c",
   "metadata": {
    "tags": []
   },
   "outputs": [],
   "source": [
    "cap.release()\n",
    "cv2.destroyAllWindows()\n"
   ]
  },
  {
   "cell_type": "code",
   "execution_count": null,
   "id": "78864315-f639-44bd-8c69-6a9454f9e098",
   "metadata": {},
   "outputs": [],
   "source": [
    "dataset = \"D:\\\\815_CowDataChecking\\\\20220704\\\\20220704_M_Cow\" #don't add \\\\ at the end\n",
    "#save_vid_name=  dataset.split(\"\\\\\")[-1].replace('.mkv','_track')  #open this when running single video\n",
    "save_vid_name = dataset.split(\"\\\\\")[-1] # open this when running multiple videos\n",
    "print(save_vid_name)\n"
   ]
  },
  {
   "cell_type": "code",
   "execution_count": null,
   "id": "44fe5233-4b20-4570-a9fc-312d3a591930",
   "metadata": {
    "scrolled": true,
    "tags": []
   },
   "outputs": [],
   "source": [
    "        \n",
    "\n",
    "###### write final csv\n",
    "for csv_index in range(len(MAX_prevId)):\n",
    "    df = pd.DataFrame(MAX_prevId[csv_index] , columns = ['ID'])\n",
    "    tracked_id = MAX_prevId[csv_index][0]\n",
    "    try:\n",
    "        org_ids = torch.tensor(MAX_orgId[csv_index], device = 'cpu')\n",
    "        df[\"Original\"] = org_ids\n",
    "    except:\n",
    "        df[\"Original\"] = MAX_orgId[csv_index]\n",
    "    now=str(datetime.now().date())\n",
    "\n",
    "    save_csv_each_path = str(Path(save_dir / str(tracked_id) / f'{str(tracked_id)}.csv'))\n",
    "    df.to_csv(save_csv_each_path, index= False)##asdfasdf\n",
    "#All records     \n",
    "data_to_add = {\n",
    "    'ImageId': IMAGE_ID_LIST,\n",
    "    'LocalId': LOCAL_ID_LIST,\n",
    "    'xyxy1': MAX_xyxy1,\n",
    "    'xyxy2': MAX_xyxy2,\n",
    "    'xyxy3': MAX_xyxy3,\n",
    "    'xyxy4': MAX_xyxy4\n",
    "    # Add more columns as needed\n",
    "}\n",
    "add_lines_to_excel(csv_main_file_path, data_to_add)\n",
    "\n",
    "IMAGE_STORED_LOCATION = []\n",
    "\n",
    "cattle_ids = []\n",
    "#################################\\\n",
    "manual_summarize_ids = []\n",
    "manual_local_ids = []\n",
    "\n",
    "manual_summarize_ids = []\n",
    "manual_local_ids = []\n",
    "#### write video after saving csv\n",
    "final_cattle_count = 1\n",
    "\n",
    "\n",
    "\n",
    "save_vid_name=  dataset.split(\"\\\\\")[-1].replace('.mkv','')+'_classification'\n",
    "save_vid_path = str(Path(os.path.join(save_dir, save_vid_name)).with_suffix('.mp4'))\n",
    "classification_vid = cv2.VideoWriter(save_vid_path,cv2.VideoWriter_fourcc(*'mp4v'), 13, (1920,1080))\n",
    "\n",
    "manual_summarize_ids = get_final_cattle_id(save_dir,CATTLE_SAVED_COUNT)\n",
    "#for loc in range(len(demo_img_save_path)):\n",
    "#    print(demo_img_save_path[loc])\n",
    "#    final_cattle_id = HOKKAIDO_WRITE_VIDEO(classification_vid,demo_img_save_path[loc])\n",
    "#    if(final_cattle_id != -1):\n",
    "#        manual_local_ids.append(final_cattle_count)\n",
    "#        manual_summarize_ids.append(final_cattle_id)\n",
    "#        final_cattle_count+=1 \n",
    "\n",
    "\n",
    "\n",
    "print(save_vid_path)\n",
    "#### write video after saving csv\n",
    "manual_summarize_ids = get_final_cattle_id(str(save_dir),TOTAL_CATTLE_COUNT)\n",
    "\n",
    "summarize_id_csv = pd.DataFrame(manual_summarize_ids, columns = [\"Cow Id\"])\n",
    "\n",
    "summarize_id_csv.to_csv(str(save_dir)+'/summarize_id_'+now+'.csv', index= False) \n",
    "csv_name = 'main_csv.csv'\n",
    "#region Write Video\n",
    "try:\n",
    "    writeVideo(classification_vid,str(save_dir),csv_name ,manual_summarize_ids,image_count)\n",
    "except:\n",
    "    print(\" Done\")\n",
    "\n",
    "classification_vid.release()\n",
    "cv2.destroyAllWindows()\n",
    "#prevId_record = []\n",
    "#MAX_prevId = []\n",
    "#MAX_xyxy1 = [] \n",
    "#MAX_xyxy2 = [] \n",
    "#MAX_xyxy3 = [] \n",
    "#MAX_xyxy4 = [] \n",
    "#MAX_orgId = [] "
   ]
  },
  {
   "cell_type": "code",
   "execution_count": null,
   "id": "8100c5ea-47e4-4ddb-83a7-24e17f704c06",
   "metadata": {},
   "outputs": [],
   "source": []
  },
  {
   "cell_type": "code",
   "execution_count": null,
   "id": "58206993-ab82-45dd-a90c-139cc61bf79f",
   "metadata": {},
   "outputs": [],
   "source": []
  },
  {
   "cell_type": "code",
   "execution_count": null,
   "id": "144e2031-5747-436a-96b5-c314177883fa",
   "metadata": {},
   "outputs": [],
   "source": []
  },
  {
   "cell_type": "code",
   "execution_count": null,
   "id": "4b02ac48-8c4d-44c2-96e1-d76814a62d52",
   "metadata": {},
   "outputs": [],
   "source": [
    "import pandas as pd\n",
    "csv_path = \"runs\\\\segment\\\\honkawa_1103_112_RANK\\\\03_1_video\\\\identification35\\\\8\\\\8.csv\"\n",
    "testing = pd.read_csv(csv_path)\n",
    "print((testing['RANK1'] == 10172).sum())\n",
    "print(len(testing['RANK1']))"
   ]
  },
  {
   "cell_type": "code",
   "execution_count": null,
   "id": "85024c1d-c312-4248-8e6c-1021a08476a4",
   "metadata": {},
   "outputs": [],
   "source": []
  }
 ],
 "metadata": {
  "kernelspec": {
   "display_name": "Python 3 (ipykernel)",
   "language": "python",
   "name": "python3"
  },
  "language_info": {
   "codemirror_mode": {
    "name": "ipython",
    "version": 3
   },
   "file_extension": ".py",
   "mimetype": "text/x-python",
   "name": "python",
   "nbconvert_exporter": "python",
   "pygments_lexer": "ipython3",
   "version": "3.9.16"
  }
 },
 "nbformat": 4,
 "nbformat_minor": 5
}
